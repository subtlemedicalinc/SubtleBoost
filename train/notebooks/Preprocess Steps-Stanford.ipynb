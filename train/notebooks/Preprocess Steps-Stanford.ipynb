{
 "cells": [
  {
   "cell_type": "markdown",
   "metadata": {},
   "source": [
    "# Preprocessing steps analysis for Stanford datasets"
   ]
  },
  {
   "cell_type": "markdown",
   "metadata": {},
   "source": [
    "### Import modules and define methods"
   ]
  },
  {
   "cell_type": "code",
   "execution_count": null,
   "metadata": {},
   "outputs": [],
   "source": [
    "%reload_ext autoreload\n",
    "%autoreload 2\n",
    "\n",
    "import os\n",
    "from preprocess import *\n",
    "from argparse import Namespace\n",
    "import skimage.exposure as exp\n",
    "import matplotlib.pyplot as plt\n",
    "from matplotlib.patches import Rectangle\n",
    "import subtle.utils.io as suio\n",
    "from glob import glob\n",
    "\n",
    "plt.set_cmap('gray')\n",
    "plt.rcParams['figure.figsize'] = (10, 8)\n",
    "\n",
    "from tqdm import tqdm_notebook as tqdm\n",
    "import subtle.subtle_preprocess as supre\n",
    "\n",
    "metadata={\n",
    "    'lambda': []\n",
    "}\n",
    "\n",
    "os.environ[\"CUDA_DEVICE_ORDER\"] = \"PCI_BUS_ID\"\n",
    "os.environ[\"CUDA_VISIBLE_DEVICES\"] = \"5\"\n",
    "\n",
    "def show_img(img, title='', axis=False, vmin=None, vmax=None):\n",
    "    imshow_args = {}\n",
    "    \n",
    "    if vmin:\n",
    "        imshow_args['vmin'] = vmin\n",
    "    if vmax:\n",
    "        imshow_args['vmax'] = vmax\n",
    "    \n",
    "    im_axis = 'on' if axis else 'off'\n",
    "    plt.axis(im_axis)\n",
    "    plt.imshow(img, **imshow_args)\n",
    "    plt.title(title, fontsize=15)\n",
    "\n",
    "def show_gad_comparison(img_pre, img_low, img_post, vmin=None, vmax=None):\n",
    "    fig = plt.figure(figsize=(15, 10))\n",
    "    fig.tight_layout()\n",
    "\n",
    "    fig.add_subplot(1, 3, 1)\n",
    "    show_img(img_pre, title='Pre contrast', vmin=vmin, vmax=vmax)\n",
    "\n",
    "    fig.add_subplot(1, 3, 2)\n",
    "    show_img(img_low, title='10% dosage', vmin=vmin, vmax=vmax)\n",
    "\n",
    "    fig.add_subplot(1, 3, 3)\n",
    "    show_img(img_post, title='Full dosage', vmin=vmin, vmax=vmax)\n",
    "\n",
    "    plt.show()\n",
    "\n",
    "def show_comparison(img1, img2, titles=['', ''], vmin=None, vmax=None):\n",
    "    fig = plt.figure(figsize=(15, 10))\n",
    "    fig.tight_layout()\n",
    "\n",
    "    fig.add_subplot(1, 2, 1)\n",
    "    show_img(img1, title=titles[0], vmin=vmin, vmax=vmax)\n",
    "\n",
    "    fig.add_subplot(1, 2, 2)\n",
    "    show_img(img2, title=titles[1], vmin=vmin, vmax=vmax)\n",
    "    \n",
    "    plt.show()\n",
    "\n",
    "def iminfo(img):\n",
    "    print(img.shape, img.dtype, img.min(), img.max(), img.mean())\n",
    "\n",
    "def diff_img(img1, img2, abs_diff=True):\n",
    "    diff = np.subtract(img1.astype(np.float32), img2.astype(np.float32))\n",
    "    if not abs_diff:\n",
    "        return diff\n",
    "    \n",
    "    # return np.abs(diff).astype(np.float32)\n",
    "    return diff\n",
    "\n",
    "def show_hist(img, nbins=512, title=''):\n",
    "    rav = img.ravel()\n",
    "    rav = rav[rav != 0]\n",
    "    plt.hist(rav, bins=nbins, log=True)\n",
    "    plt.title(title)\n",
    "    plt.xlabel('Pixel values')\n",
    "    plt.ylabel('log10 Count')\n",
    "    plt.show()\n",
    "\n",
    "def show_final_comparison(img_pre, img_low, img_post):\n",
    "    fig = plt.figure(figsize=(15, 12))\n",
    "    fig.tight_layout()\n",
    "    \n",
    "    imstack = np.hstack((img_pre, img_low, img_post))\n",
    "    abs_diff = True\n",
    "    \n",
    "    scale_factor = 5\n",
    "    \n",
    "    diff0 = diff_img(img_pre, img_pre, abs_diff)\n",
    "    diff1 = diff_img(img_low, img_pre, abs_diff)\n",
    "    diff2 = diff_img(img_post, img_pre, abs_diff)\n",
    "    \n",
    "    diff = np.hstack((diff0, diff1 * scale_factor, diff2 * scale_factor))\n",
    "    \n",
    "    final_disp = np.vstack((imstack, diff))\n",
    "    \n",
    "    show_img(final_disp, vmin=imstack.min(), vmax=imstack.max())"
   ]
  },
  {
   "cell_type": "markdown",
   "metadata": {},
   "source": [
    "### Initialize dummy argparse Namespace"
   ]
  },
  {
   "cell_type": "code",
   "execution_count": null,
   "metadata": {},
   "outputs": [],
   "source": [
    "args = Namespace(\n",
    "    path_base=None, verbose=True,\n",
    "    output='/home/srivathsa/projects/studies/gad/stanford/preprocess/data/dummy.h5',\n",
    "    discard_start_percent=0, discard_end_percent=0, normalize=True,\n",
    "    normalize_fun='mean', transform_type='affine', scale_matching=True,\n",
    "    path_zero='/mnt/datasets/ben/backup/raid/SubtleGAD_Stanford/lowcon/Patient_0262/7_AX_BRAVO', \n",
    "    path_low='/mnt/datasets/ben/backup/raid/SubtleGAD_Stanford/lowcon/Patient_0262/12_AX_BRAVO_+C_Pre_Load_10', \n",
    "    path_full='/mnt/datasets/ben/backup/raid/SubtleGAD_Stanford/lowcon/Patient_0262/15_AX_BRAVO_+C', mask_threshold=0.1,\n",
    "    override=True, skip_mask=False, scale_dicom_tags=False, skip_hist_norm=True,\n",
    "    skip_registration=False, nslices=20, joint_normalize=False, global_scale_ref_im0=False, noise_mask_area=False,\n",
    "    fsl_mask=True, fsl_mask_all_ims=True, use_fsl_reg=False, fsl_threshold=0.5, blur_for_cs_streaks=False,\n",
    "    union_brain_masks=False\n",
    ")"
   ]
  },
  {
   "cell_type": "markdown",
   "metadata": {},
   "source": [
    "### Fetch original images"
   ]
  },
  {
   "cell_type": "code",
   "execution_count": null,
   "metadata": {},
   "outputs": [],
   "source": [
    "ims, hdr, metadata = get_images(args, metadata)\n",
    "# ims = ims.transpose(2, 1, 0, 3)\n",
    "# ims = np.rot90(ims, axes=(2, 3), k=2)\n",
    "orig_ims = np.copy(ims)\n",
    "pidx = ims.shape[0] // 2"
   ]
  },
  {
   "cell_type": "code",
   "execution_count": null,
   "metadata": {},
   "outputs": [],
   "source": [
    "iminfo(ims[:, 0])\n",
    "iminfo(ims[:, 1])\n",
    "iminfo(ims[:, 2])\n",
    "\n",
    "show_gad_comparison(ims[pidx, 0], ims[pidx, 1], ims[pidx, 2])"
   ]
  },
  {
   "cell_type": "markdown",
   "metadata": {},
   "source": [
    "### Mask images"
   ]
  },
  {
   "cell_type": "code",
   "execution_count": null,
   "metadata": {},
   "outputs": [],
   "source": [
    "ims, mask, metadata = mask_images(args, ims, metadata)"
   ]
  },
  {
   "cell_type": "code",
   "execution_count": null,
   "metadata": {},
   "outputs": [],
   "source": [
    "show_gad_comparison(mask[pidx, 0], mask[pidx, 1], mask[pidx, 2])\n",
    "show_gad_comparison(ims[pidx, 0], ims[pidx, 1], ims[pidx, 2])\n",
    "\n",
    "pre_diff = diff_img(orig_ims[pidx, 0], ims[pidx, 0])\n",
    "low_diff = diff_img(orig_ims[pidx, 1], ims[pidx, 1])\n",
    "post_diff = diff_img(orig_ims[pidx, 2], ims[pidx, 2])\n",
    "\n",
    "show_gad_comparison(pre_diff, low_diff, post_diff)"
   ]
  },
  {
   "cell_type": "code",
   "execution_count": null,
   "metadata": {},
   "outputs": [],
   "source": [
    "fsl_mask = fsl_brain_mask(args, ims)"
   ]
  },
  {
   "cell_type": "code",
   "execution_count": null,
   "metadata": {},
   "outputs": [],
   "source": [
    "ims_mask = apply_fsl_mask(args, ims, fsl_mask)"
   ]
  },
  {
   "cell_type": "code",
   "execution_count": null,
   "metadata": {},
   "outputs": [],
   "source": [
    "show_gad_comparison(ims_mask[pidx, 0], ims_mask[pidx, 1], ims_mask[pidx, 2])"
   ]
  },
  {
   "cell_type": "code",
   "execution_count": null,
   "metadata": {},
   "outputs": [],
   "source": [
    "ref_zero = sup.dcm_to_sitk(args.path_zero)\n",
    "ref_low = sup.dcm_to_sitk(args.path_low)\n",
    "ref_full = sup.dcm_to_sitk(args.path_full)"
   ]
  },
  {
   "cell_type": "code",
   "execution_count": null,
   "metadata": {},
   "outputs": [],
   "source": [
    "import SimpleITK as sitk\n",
    "\n",
    "pm = sitk.GetDefaultParameterMap('affine', 4)\n",
    "reg_ims = np.copy(ims_mask)\n",
    "\n",
    "reg_ims[:, 1], param_map = sup.register_im(ims_mask[:, 0], ims_mask[:, 1], param_map=pm, verbose=1, \n",
    "                               im_fixed_spacing=metadata['pixel_spacing_zero'], \n",
    "                               im_moving_spacing=metadata['pixel_spacing_low'],\n",
    "                               ref_fixed=ref_zero, ref_moving=ref_low)\n",
    "\n",
    "# reg_ims[:, 2], param_map = sup.register_im(ims[:, 0], ims[:, 2], param_map=pm, verbose=1,\n",
    "#                                            im_fixed_spacing=metadata['pixel_spacing_zero'], \n",
    "#                                            im_moving_spacing=metadata['pixel_spacing_full'],\n",
    "#                                           ref_fixed=ref_zero, ref_moving=ref_full)\n",
    "\n",
    "print(param_map[0]['TransformParameters'])"
   ]
  },
  {
   "cell_type": "code",
   "execution_count": null,
   "metadata": {},
   "outputs": [],
   "source": [
    "plt.imshow(np.hstack([reg_ims[pidx, 1], reg_ims[pidx, 0]]))"
   ]
  },
  {
   "cell_type": "code",
   "execution_count": null,
   "metadata": {},
   "outputs": [],
   "source": [
    "print(param_map[0])"
   ]
  },
  {
   "cell_type": "code",
   "execution_count": null,
   "metadata": {},
   "outputs": [],
   "source": [
    "data = suio.load_file('/home/srivathsa/projects/studies/gad/stanford/preprocess/data/Patient_0262.npy')\n",
    "\n",
    "plt.imshow(data[85, 1] - data[85, 0])\n",
    "plt.colorbar()"
   ]
  },
  {
   "cell_type": "code",
   "execution_count": null,
   "metadata": {},
   "outputs": [],
   "source": [
    "plt.imshow(ims_mask[160, 0])"
   ]
  },
  {
   "cell_type": "code",
   "execution_count": null,
   "metadata": {},
   "outputs": [],
   "source": [
    "param_map[0]['TransformParameters'] = ['0.00149806', '-0.00961922', '0.00327058', '0.23644', '-0.665825', '4.7988']\n",
    "\n",
    "mod_ims = np.copy(ims)\n",
    "mod_ims[:, 1] = sup.apply_reg_transform(ims[:, 1], metadata['pixel_spacing_low'], param_map)"
   ]
  },
  {
   "cell_type": "code",
   "execution_count": null,
   "metadata": {},
   "outputs": [],
   "source": [
    "show_img(mod_ims[pidx, 1] - ims[pidx, 0])"
   ]
  },
  {
   "cell_type": "markdown",
   "metadata": {},
   "source": [
    "### Image registration"
   ]
  },
  {
   "cell_type": "code",
   "execution_count": null,
   "metadata": {
    "scrolled": true
   },
   "outputs": [],
   "source": [
    "orig_ims = np.copy(ims)\n",
    "ims, metadata = register(args, ims, metadata)"
   ]
  },
  {
   "cell_type": "code",
   "execution_count": null,
   "metadata": {},
   "outputs": [],
   "source": [
    "iminfo(ims[172, 0])\n",
    "iminfo(ims[172, 1])\n",
    "iminfo(ims[172, 2])\n",
    "\n",
    "show_gad_comparison(ims[172, 0], ims[172, 1], ims[172, 2])\n",
    "\n",
    "pre_diff = diff_img(orig_ims[172, 0], ims[172, 0])\n",
    "low_diff = diff_img(orig_ims[172, 1], ims[172, 1])\n",
    "post_diff = diff_img(orig_ims[172, 2], ims[172, 2])\n",
    "\n",
    "# show_gad_comparison(pre_diff, low_diff, post_diff)\n",
    "\n",
    "show_comparison(ims[172, 1] - ims[172, 0], ims[172, 2] - ims[172, 0])"
   ]
  },
  {
   "cell_type": "markdown",
   "metadata": {},
   "source": [
    "### FSL Mask"
   ]
  },
  {
   "cell_type": "code",
   "execution_count": null,
   "metadata": {},
   "outputs": [],
   "source": [
    "fsl_mask = fsl_brain_mask(args)\n",
    "ims = apply_fsl_mask(args, ims, fsl_mask)"
   ]
  },
  {
   "cell_type": "markdown",
   "metadata": {},
   "source": [
    "### Histogram normalization"
   ]
  },
  {
   "cell_type": "code",
   "execution_count": null,
   "metadata": {},
   "outputs": [],
   "source": [
    "orig_ims = np.copy(ims)\n",
    "ims, metadata = hist_norm(args, ims, metadata)"
   ]
  },
  {
   "cell_type": "code",
   "execution_count": null,
   "metadata": {
    "scrolled": false
   },
   "outputs": [],
   "source": [
    "vmin = ims[:, 0].min()\n",
    "vmax = ims[:, 0].max()\n",
    "\n",
    "diff = np.abs(ims[:, 0] - ims[:, 2])\n",
    "vmin, vmax = (diff.min(), diff.max())\n",
    "\n",
    "th = diff.max() * 0.25\n",
    "mask = diff >= th\n",
    "\n",
    "full_masked = (ims[:, 2] * mask)\n",
    "\n",
    "recon = ims[:, 0] + full_masked\n",
    "\n",
    "x1=280\n",
    "x2=340\n",
    "y1=360\n",
    "y2=420\n",
    "\n",
    "im1 = ims[pidx, 0]\n",
    "im2 = ims[pidx, 1]\n",
    "im3 = ims[pidx, 2]\n",
    "\n",
    "stack = np.hstack([im1, im3])\n",
    "\n",
    "fig, ax = plt.subplots(1)\n",
    "ax.imshow(stack, vmin=vmin, vmax=vmax)\n",
    "rect = Rectangle((180, 375), 20, 20, linewidth=1, edgecolor='r', facecolor='none')\n",
    "ax.add_patch(rect)\n",
    "\n",
    "p1 = im1[160:180, 355:375]\n",
    "p2 = im3[160:180, 355:375]\n",
    "\n",
    "print(p1.mean(), p2.mean())\n",
    "\n",
    "show_comparison(p1, p2)\n",
    "#show_comparison(im1, im3, vmin=vmin, vmax=vmax)"
   ]
  },
  {
   "cell_type": "code",
   "execution_count": null,
   "metadata": {},
   "outputs": [],
   "source": [
    "iminfo(ims[172, 0])\n",
    "iminfo(ims[172, 1])\n",
    "iminfo(ims[172, 2])\n",
    "\n",
    "show_gad_comparison(ims[172, 0], ims[172, 1], ims[172, 2])\n",
    "show_comparison(diff_img(ims[172, 0], ims[172, 1]), diff_img(ims[172, 0], ims[172, 2]))"
   ]
  },
  {
   "cell_type": "markdown",
   "metadata": {},
   "source": [
    "### Zoom"
   ]
  },
  {
   "cell_type": "code",
   "execution_count": null,
   "metadata": {},
   "outputs": [],
   "source": [
    "args.zoom = 512\n",
    "args.zoom_order = 1\n",
    "\n",
    "ims_zoom, metadata = zoom_process(args, ims, metadata)"
   ]
  },
  {
   "cell_type": "code",
   "execution_count": null,
   "metadata": {},
   "outputs": [],
   "source": [
    "iminfo(ims_zoom)\n",
    "show_gad_comparison(ims_zoom[172, 0], ims_zoom[172, 1], ims_zoom[172, 2])"
   ]
  },
  {
   "cell_type": "markdown",
   "metadata": {},
   "source": [
    "### Match scales and global normalization"
   ]
  },
  {
   "cell_type": "code",
   "execution_count": null,
   "metadata": {},
   "outputs": [],
   "source": [
    "orig_ims = np.copy(ims)\n",
    "\n",
    "ims, ims_mod, metadata = prescale_process(args, ims, mask, metadata)\n",
    "ims, ims_mod, metadata = match_scales(args, ims, ims_mod, metadata)\n",
    "ims, metadata = global_norm(args, ims, ims_mod, metadata)"
   ]
  },
  {
   "cell_type": "code",
   "execution_count": null,
   "metadata": {},
   "outputs": [],
   "source": [
    "iminfo(ims[:, 0])\n",
    "iminfo(ims[:, 1])\n",
    "iminfo(ims[:, 2])\n",
    "\n",
    "show_gad_comparison(ims[172, 0], ims[172, 1], ims[172, 2])"
   ]
  },
  {
   "cell_type": "code",
   "execution_count": null,
   "metadata": {},
   "outputs": [],
   "source": [
    "show_hist(ims[:, 0], nbins=255, title='Pre contrast')\n",
    "show_hist(ims[:, 1], nbins=255, title='10% dosage')\n",
    "show_hist(ims[:, 2], nbins=255, title='Full dosage')"
   ]
  },
  {
   "cell_type": "code",
   "execution_count": null,
   "metadata": {},
   "outputs": [],
   "source": [
    "show_final_comparison(ims[172, 0], ims[172, 1], ims[172, 2])"
   ]
  },
  {
   "cell_type": "code",
   "execution_count": null,
   "metadata": {},
   "outputs": [],
   "source": [
    "pp_data = suio.load_file('/home/srivathsa/projects/studies/gad/stanford/preprocess/data/Patient_0089.npy')\n",
    "pp_mask = pp_data[1]"
   ]
  },
  {
   "cell_type": "code",
   "execution_count": null,
   "metadata": {},
   "outputs": [],
   "source": [
    "plt.imshow(pp_mask[160, 1] - pp_mask[160, 0])"
   ]
  },
  {
   "cell_type": "code",
   "execution_count": null,
   "metadata": {
    "scrolled": false
   },
   "outputs": [],
   "source": [
    "base_path = '/raid/srivathsa/stanford/preprocess/data'\n",
    "dest_path = '/raid/srivathsa/stanford/preprocess/data/f16'\n",
    "\n",
    "fpaths = sorted([f for f in glob('{}/*.npy'.format(base_path))])\n",
    "for fpath in tqdm(fpaths, total=len(fpaths)):\n",
    "    try:\n",
    "        cnum = fpath.split('/')[-1].replace('.npy', '')\n",
    "        data = np.load(fpath)\n",
    "        np.save('{}/{}.npy'.format(dest_path, cnum), data.astype(np.float16))\n",
    "        os.remove(fpath)\n",
    "        print('Saved float16 data for {}...'.format(cnum))\n",
    "    except Exception as e:\n",
    "        print('ERROR while processing {}: {}...'.format(cnum, e))"
   ]
  },
  {
   "cell_type": "code",
   "execution_count": null,
   "metadata": {},
   "outputs": [],
   "source": []
  }
 ],
 "metadata": {
  "kernelspec": {
   "display_name": "Python (py35gad)",
   "language": "python",
   "name": "py35gad"
  },
  "language_info": {
   "codemirror_mode": {
    "name": "ipython",
    "version": 3
   },
   "file_extension": ".py",
   "mimetype": "text/x-python",
   "name": "python",
   "nbconvert_exporter": "python",
   "pygments_lexer": "ipython3",
   "version": "3.6.0"
  }
 },
 "nbformat": 4,
 "nbformat_minor": 2
}
