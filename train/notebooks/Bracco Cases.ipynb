{
 "cells": [
  {
   "cell_type": "code",
   "execution_count": 50,
   "id": "452ce0a4",
   "metadata": {},
   "outputs": [
    {
     "data": {
      "text/plain": [
       "<Figure size 864x720 with 0 Axes>"
      ]
     },
     "metadata": {},
     "output_type": "display_data"
    }
   ],
   "source": [
    "import nrrd\n",
    "import matplotlib.pyplot as plt\n",
    "import numpy as np\n",
    "from subtle.utils.io import write_dicoms, dicom_files\n",
    "import SimpleITK as sitk\n",
    "import time\n",
    "import uuid\n",
    "import os\n",
    "\n",
    "plt.set_cmap('gray')\n",
    "plt.rcParams['figure.figsize'] = (12, 10)\n",
    "\n",
    "def process_nrrd_img(fpath_nrrd):\n",
    "    img, _ = nrrd.read(fpath_nrrd)\n",
    "    img = img.transpose(2, 0, 1)\n",
    "    img = np.rot90(img, axes=(1, 2), k=3)\n",
    "    img = np.interp(img, (img.min(), img.max()), (0, 1000))\n",
    "    return img\n",
    "\n",
    "def generate_uid(prefix='1.2.826.0.1.3680043.10.221.'):\n",
    "    entropy_src = uuid.uuid4().int\n",
    "    # Convert this to an int with the maximum available digits\n",
    "    avail_digits = 64 - len(prefix)\n",
    "    int_val = entropy_src % (10 ** avail_digits)\n",
    "    return prefix + str(int_val)\n",
    "\n",
    "def nrrd_to_dicom(fpath_nrrd, fpath_out_dicom, study_uid, pid, snum):\n",
    "    reader = sitk.ImageFileReader()\n",
    "    reader.SetImageIO(\"NrrdImageIO\")\n",
    "    reader.SetFileName(fpath_nrrd)\n",
    "    \n",
    "    img_sitk = reader.Execute()\n",
    "    img_np = sitk.GetArrayFromImage(img_sitk)\n",
    "    img_np = np.interp(img_np, (img_np.min(), img_np.max()), (0, 1000))\n",
    "    img_np = img_np.astype(np.uint16)\n",
    "    img_sitk_sc = sitk.GetImageFromArray(img_np)\n",
    "    img_sitk_sc.CopyInformation(img_sitk)\n",
    "    img_sitk = img_sitk_sc\n",
    "    \n",
    "    writer = sitk.ImageFileWriter()\n",
    "    writer.KeepOriginalImageUIDOn()\n",
    "\n",
    "    modification_time = time.strftime(\"%H%M%S\")\n",
    "    modification_date = time.strftime(\"%Y%m%d\")\n",
    "\n",
    "    direction = img_sitk.GetDirection()\n",
    "    px_spacing = \"\\\\\".join(np.array(img_sitk.GetSpacing()[:2]).astype(str))\n",
    "    sl_thick = str(img_sitk.GetSpacing()[-1])\n",
    "    \n",
    "    series_tag_values = [(\"0008|0031\", modification_time),  # Series Time\n",
    "                      (\"0008|0021\", modification_date),  # Series Date\n",
    "                      (\"0008|0008\", \"DERIVED\\\\SECONDARY\"),  # Image Type\n",
    "                      (\"0020|000e\", study_uid),\n",
    "                      (\"0010|0010\", pid),\n",
    "                      (\"0010|0020\", pid),\n",
    "                      (\"0008|103E\", '{}_{}'.format(pid, snum)),\n",
    "                      (\"0020|0011\", str(snum)),\n",
    "                      (\"0028|0030\", px_spacing),\n",
    "                      (\"0018|0050\", sl_thick),\n",
    "                      # Series Instance UID\n",
    "                      (\"0020|0037\",\n",
    "                       '\\\\'.join(map(str, (direction[0], direction[3],\n",
    "                                           direction[6],\n",
    "                                           # Image Orientation (Patient)\n",
    "                                           direction[1], direction[4],\n",
    "                                           direction[7])))),\n",
    "                      ]\n",
    "    \n",
    "    if not os.path.exists(fpath_out_dicom):\n",
    "        os.makedirs(fpath_out_dicom)\n",
    "    \n",
    "    for i in range(img_sitk.GetDepth()):\n",
    "        image_slice = img_sitk[:, :, i]\n",
    "\n",
    "        for tag, value in series_tag_values:\n",
    "            image_slice.SetMetaData(tag, value)\n",
    "        image_slice.SetMetaData(\"0008|0012\", time.strftime(\"%Y%m%d\"))\n",
    "        image_slice.SetMetaData(\"0008|0013\", time.strftime(\"%H%M%S\"))\n",
    "        image_slice.SetMetaData(\"0020|0032\", '\\\\'.join(\n",
    "         map(str, img_sitk.TransformIndexToPhysicalPoint((0, 0, i)))))\n",
    "        image_slice.SetMetaData(\"0020|000D\", study_uid)\n",
    "        image_slice.SetMetaData(\"0020|0013\", str(i))\n",
    "        image_slice.SetMetaData(\"0020|1041\", str(i))\n",
    "\n",
    "        writer.SetFileName('{}/{:03d}.dcm'.format(fpath_out_dicom, i))\n",
    "        writer.Execute(image_slice)"
   ]
  },
  {
   "cell_type": "code",
   "execution_count": 51,
   "id": "3a50ca8a",
   "metadata": {},
   "outputs": [],
   "source": [
    "base_path = '/home/srivathsa/projects/studies/gad/bracco/3Dcases'\n",
    "patient_ids = ['1002071', '1231970', '1755456', '774962']\n",
    "dcm_path = '/home/srivathsa/projects/studies/gad/bracco/dcms'\n",
    "series_nums = {\n",
    "    'pre': 301,\n",
    "    'highdose': 401\n",
    "}\n",
    "\n",
    "for pid in patient_ids:\n",
    "    study_uid = generate_uid()\n",
    "    for dose_kw, snum in series_nums.items():\n",
    "        nrrd_to_dicom('{}/{}_{}.nrrd'.format(base_path, pid, dose_kw), \n",
    "                      '{}/{}/{}_{}'.format(dcm_path, pid, dose_kw, snum), study_uid, pid, snum)"
   ]
  },
  {
   "cell_type": "code",
   "execution_count": 26,
   "id": "c96dc314",
   "metadata": {},
   "outputs": [
    {
     "data": {
      "text/plain": [
       "array([1.        , 1.        , 1.00000095])"
      ]
     },
     "execution_count": 26,
     "metadata": {},
     "output_type": "execute_result"
    }
   ],
   "source": [
    "np.array(img_sitk.GetSpacing())"
   ]
  },
  {
   "cell_type": "code",
   "execution_count": 36,
   "id": "6360c8af",
   "metadata": {},
   "outputs": [],
   "source": [
    "img, hdr = dicom_files('/home/srivathsa/projects/studies/gad/bracco/dcms/1002071/pre_301')"
   ]
  },
  {
   "cell_type": "code",
   "execution_count": 38,
   "id": "f359cb4c",
   "metadata": {},
   "outputs": [
    {
     "data": {
      "text/plain": [
       "['1.0', '1.0']"
      ]
     },
     "execution_count": 38,
     "metadata": {},
     "output_type": "execute_result"
    }
   ],
   "source": [
    "hdr.PixelSpacing"
   ]
  },
  {
   "cell_type": "code",
   "execution_count": 49,
   "id": "0be10e68",
   "metadata": {},
   "outputs": [
    {
     "data": {
      "text/plain": [
       "(-121.06806182861328, -128.43019104003906, -22.183073043823242)"
      ]
     },
     "execution_count": 49,
     "metadata": {},
     "output_type": "execute_result"
    }
   ],
   "source": [
    "img_sitk."
   ]
  },
  {
   "cell_type": "code",
   "execution_count": null,
   "id": "c6ffc82d",
   "metadata": {},
   "outputs": [],
   "source": []
  }
 ],
 "metadata": {
  "kernelspec": {
   "display_name": "Python (py35gad)",
   "language": "python",
   "name": "py35gad"
  },
  "language_info": {
   "codemirror_mode": {
    "name": "ipython",
    "version": 3
   },
   "file_extension": ".py",
   "mimetype": "text/x-python",
   "name": "python",
   "nbconvert_exporter": "python",
   "pygments_lexer": "ipython3",
   "version": "3.6.0"
  }
 },
 "nbformat": 4,
 "nbformat_minor": 5
}
