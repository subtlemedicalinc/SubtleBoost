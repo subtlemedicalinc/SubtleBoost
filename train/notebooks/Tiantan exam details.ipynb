{
 "cells": [
  {
   "cell_type": "code",
   "execution_count": 9,
   "id": "1585c5a6",
   "metadata": {},
   "outputs": [
    {
     "name": "stdout",
     "output_type": "stream",
     "text": [
      "NO101,20200325,F,053Y\n",
      "NO102,20200325,F,021Y\n",
      "NO103,20200325,M,065Y\n",
      "NO104,20200325,M,059Y\n",
      "NO105,20200326,M,030Y\n",
      "NO106,20200326,F,049Y\n",
      "NO107,20200327,M,025Y\n",
      "NO108,20200327,F,066Y\n",
      "NO109,20200327,M,010Y\n",
      "NO110,20200327,F,045Y\n",
      "NO111,20200327,F,068Y\n",
      "NO112,20200327,M,054Y\n",
      "NO113,20200327,F,068Y\n",
      "NO114,20200327,F,037Y\n",
      "NO115,20200327,F,065Y\n",
      "NO116,20200331,M,049Y\n",
      "NO117,20200331,F,039Y\n",
      "NO118,20200331,M,067Y\n",
      "NO119,20200331,F,087Y\n",
      "NO120,20200331,M,086Y\n",
      "NO121,20200331,M,023Y\n",
      "NO122,20200331,M,058Y\n",
      "NO123,20200401,F,042Y\n",
      "NO124,20200401,F,040Y\n",
      "NO125,20200401,M,064Y\n",
      "NO126,20200401,F,059Y\n",
      "NO127,20200401,F,037Y\n",
      "NO128,20200402,F,048Y\n",
      "NO129,20200402,M,062Y\n",
      "NO130,20200402,M,021Y\n",
      "NO131,20200402,F,030Y\n",
      "NO132,20200402,F,071Y\n",
      "NO133,20200402,M,074Y\n"
     ]
    }
   ],
   "source": [
    "import pydicom\n",
    "from glob import glob\n",
    "\n",
    "base_path = '/home/srivathsa/projects/studies/gad/tiantan/data'\n",
    "case_nums = ['NO{}'.format(idx) for idx in range(101, 134)]\n",
    "\n",
    "for cnum in case_nums:\n",
    "    dcm_path = '{}/{}'.format(base_path, cnum)\n",
    "    dcm_files = [f for f in glob('{}/**/*.dcm'.format(dcm_path), recursive=True)][0]\n",
    "    dcm = pydicom.dcmread(dcm_files)\n",
    "    print('{},{},{},{}'.format(cnum, dcm.StudyDate, dcm.PatientSex, dcm.PatientAge))"
   ]
  },
  {
   "cell_type": "code",
   "execution_count": null,
   "id": "71932c99",
   "metadata": {},
   "outputs": [],
   "source": []
  }
 ],
 "metadata": {
  "kernelspec": {
   "display_name": "Python (py35gad)",
   "language": "python",
   "name": "py35gad"
  },
  "language_info": {
   "codemirror_mode": {
    "name": "ipython",
    "version": 3
   },
   "file_extension": ".py",
   "mimetype": "text/x-python",
   "name": "python",
   "nbconvert_exporter": "python",
   "pygments_lexer": "ipython3",
   "version": "3.6.0"
  }
 },
 "nbformat": 4,
 "nbformat_minor": 5
}
