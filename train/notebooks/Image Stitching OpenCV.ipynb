{
 "cells": [
  {
   "cell_type": "code",
   "execution_count": 42,
   "id": "9a3b94ef",
   "metadata": {},
   "outputs": [
    {
     "data": {
      "text/plain": [
       "<Figure size 720x576 with 0 Axes>"
      ]
     },
     "metadata": {},
     "output_type": "display_data"
    }
   ],
   "source": [
    "import cv2\n",
    "import numpy as np\n",
    "import subtle.utils.io as suio\n",
    "import sigpy as sp\n",
    "\n",
    "import matplotlib.pyplot as plt\n",
    "plt.set_cmap('gray')\n",
    "plt.rcParams['figure.figsize'] = (10, 8)\n",
    "\n",
    "def gray_to_rgb(img):\n",
    "    img = np.interp(img, (img.min(), img.max()), (0, 1))\n",
    "    img = img * 255.0\n",
    "    img = img.astype(np.uint8)\n",
    "    return np.array([img, img, img]).transpose(1, 2, 0)"
   ]
  },
  {
   "cell_type": "code",
   "execution_count": 43,
   "id": "06d887ee",
   "metadata": {},
   "outputs": [],
   "source": [
    "img_vol = suio.load_file('/home/srivathsa/projects/studies/gad/tiantan/preprocess/data/Case1.h5')\n",
    "img = img_vol[98, 0]"
   ]
  },
  {
   "cell_type": "code",
   "execution_count": 44,
   "id": "139d45be",
   "metadata": {},
   "outputs": [],
   "source": [
    "img_patches = sp.array_to_blocks(img, [120, 120], [120, 120])\n",
    "img_patches = list(np.reshape(img_patches, (-1, 120, 120)))\n",
    "img_patches = [gray_to_rgb(im) for im in img_patches]"
   ]
  },
  {
   "cell_type": "code",
   "execution_count": 54,
   "id": "79112c02",
   "metadata": {},
   "outputs": [],
   "source": [
    "im_st = cv2.Stitcher_create()\n",
    "(status, img_stitched) = im_st.stitch(img_patches)"
   ]
  },
  {
   "cell_type": "code",
   "execution_count": 55,
   "id": "381874a1",
   "metadata": {},
   "outputs": [
    {
     "data": {
      "text/plain": [
       "1"
      ]
     },
     "execution_count": 55,
     "metadata": {},
     "output_type": "execute_result"
    }
   ],
   "source": []
  },
  {
   "cell_type": "code",
   "execution_count": null,
   "id": "02c0cacb",
   "metadata": {},
   "outputs": [],
   "source": []
  }
 ],
 "metadata": {
  "kernelspec": {
   "display_name": "Python (py35gad)",
   "language": "python",
   "name": "py35gad"
  },
  "language_info": {
   "codemirror_mode": {
    "name": "ipython",
    "version": 3
   },
   "file_extension": ".py",
   "mimetype": "text/x-python",
   "name": "python",
   "nbconvert_exporter": "python",
   "pygments_lexer": "ipython3",
   "version": "3.6.0"
  }
 },
 "nbformat": 4,
 "nbformat_minor": 5
}
