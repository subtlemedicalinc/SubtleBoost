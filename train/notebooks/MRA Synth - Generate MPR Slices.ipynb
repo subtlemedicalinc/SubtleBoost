{
 "cells": [
  {
   "cell_type": "code",
   "execution_count": 1,
   "id": "6eb3c064",
   "metadata": {},
   "outputs": [
    {
     "data": {
      "text/plain": [
       "<Figure size 432x288 with 0 Axes>"
      ]
     },
     "metadata": {},
     "output_type": "display_data"
    }
   ],
   "source": [
    "%reload_ext autoreload\n",
    "%autoreload 2\n",
    "\n",
    "import os\n",
    "import numpy as np\n",
    "from glob import glob\n",
    "from skimage.transform import resize\n",
    "import sigpy as sp\n",
    "import matplotlib.pyplot as plt\n",
    "from tqdm import tqdm_notebook as tqdm\n",
    "\n",
    "plt.set_cmap('gray')\n",
    "plt.rcParams['figure.figsize'] = (12, 10)\n",
    "\n",
    "def process_mpr(vol, plane):\n",
    "    if plane == 'sag':\n",
    "        tr = (2, 0, 1)\n",
    "        x1 = 100\n",
    "    else:\n",
    "        tr = (1, 0, 2)\n",
    "        x1 = 120\n",
    "    vol = vol.transpose(tr)\n",
    "    vol = vol[x1:-x1, ...]\n",
    "    vol = np.rot90(vol, k=2, axes=(1, 2))\n",
    "    vol = sp.util.resize(vol, [vol.shape[0], 128, vol.shape[2]])\n",
    "    vol = resize(vol, [vol.shape[0], 512, 512])\n",
    "    return vol\n",
    "\n",
    "def process_case(fpath_data):\n",
    "    data = np.load(fpath_data)\n",
    "    data = data.transpose(0, 2, 1, 3, 4)\n",
    "    data_sag = None\n",
    "    data_cor = None\n",
    "    for m in np.arange(data.shape[0]):\n",
    "        for c in np.arange(data.shape[1]):\n",
    "            vol = data[m, c]\n",
    "            vol_sag = process_mpr(vol, plane='sag')\n",
    "            if data_sag is None:\n",
    "                data_sag = np.zeros((\n",
    "                    data.shape[0], data.shape[1], vol_sag.shape[0], vol_sag.shape[1], vol_sag.shape[2]\n",
    "                ))\n",
    "            data_sag[m, c] = vol_sag\n",
    "            \n",
    "            vol_cor = process_mpr(vol, plane='cor')\n",
    "            if data_cor is None:\n",
    "                data_cor = np.zeros((\n",
    "                    data.shape[0], data.shape[1], vol_cor.shape[0], vol_cor.shape[1], vol_cor.shape[2]\n",
    "                ))\n",
    "            \n",
    "            data_cor[m, c] = vol_cor\n",
    "    \n",
    "    return data, data_sag, data_cor\n",
    "\n",
    "def create_slices(vol, dest_path):\n",
    "    if not os.path.exists(dest_path):\n",
    "        os.makedirs(dest_path)\n",
    "    \n",
    "    for sl_idx in np.arange(vol.shape[2]):\n",
    "        fname = os.path.join(dest_path, '{:03d}.npy'.format(sl_idx))\n",
    "        np.save(fname, vol[:, :, sl_idx])"
   ]
  },
  {
   "cell_type": "code",
   "execution_count": 5,
   "id": "1f5aece3",
   "metadata": {},
   "outputs": [
    {
     "name": "stdout",
     "output_type": "stream",
     "text": [
      "IXI035-IOP-0873 92 312 272\n",
      "IXI230-IOP-0869 92 312 272\n",
      "IXI231-IOP-0866 92 312 272\n",
      "IXI232-IOP-0898 92 312 272\n",
      "IXI234-IOP-0870 92 312 272\n",
      "IXI238-IOP-0883 92 312 272\n"
     ]
    }
   ],
   "source": [
    "src1 = '/mnt/raid/srivathsa/mra_synth/preprocess/slices'\n",
    "src2 = '/home/srivathsa/projects/studies/gad/mra_synth/preprocess/slices'\n",
    "\n",
    "cases1 = sorted([c.split('/')[-1] for c in glob('{}/*'.format(src1))])\n",
    "cases2 = sorted([c.split('/')[-1] for c in glob('{}/*'.format(src2))])\n",
    "\n",
    "cmn = [c for c in cases1 if c in cases2]\n",
    "\n",
    "for cnum in cases1:\n",
    "    ax_files = len([fp for fp in glob('{}/{}/ax/*.npy'.format(src1, cnum))])\n",
    "    sag_files = len([fp for fp in glob('{}/{}/sag/*.npy'.format(src1, cnum))])\n",
    "    cor_files = len([fp for fp in glob('{}/{}/cor/*.npy'.format(src1, cnum))])\n",
    "    if ax_files != 100 or sag_files != 312 or cor_files != 272:\n",
    "        print(cnum, ax_files, sag_files, cor_files)"
   ]
  },
  {
   "cell_type": "code",
   "execution_count": null,
   "id": "9620b35c",
   "metadata": {},
   "outputs": [],
   "source": [
    "from subtle.utils.slice import build_slice_list, get_num_slices\n",
    "src_path = '/home/srivathsa/projects/studies/gad/mra_synth/preprocess/slices'\n",
    "data_dir = '/home/srivathsa/projects/studies/gad/mra_synth/preprocess/data'\n",
    "\n",
    "cases = sorted([c.split('/')[-1] for c in glob('{}/*'.format(src_path))])[:25]\n",
    "data_list = ['{}/{}.npy'.format(src_path, cnum) for cnum in cases]\n",
    "\n",
    "# files, indices = build_slice_list(data_list, slice_axis=[0, 2, 3], params={'h5_key': 'all'})\n",
    "\n",
    "# slice_dict = {\n",
    "#     data_file: [\n",
    "#         get_num_slices(data_file, axis=sl_axis, params={'h5_key': 'all'}) \n",
    "#         for sl_axis in [0, 2, 3]\n",
    "#     ]\n",
    "#     for data_file in data_list\n",
    "# }"
   ]
  },
  {
   "cell_type": "code",
   "execution_count": null,
   "id": "3eb3acc3",
   "metadata": {},
   "outputs": [],
   "source": [
    "from subtle.data_loaders import PreSlicedMPRLoader, SliceLoader\n",
    "\n",
    "data_loader = PreSlicedMPRLoader(\n",
    "    data_list, slice_axis=[0, 2 ,3], use_enh_mask=True, slices_per_input=7, enh_pfactor=1.75\n",
    ")"
   ]
  },
  {
   "cell_type": "code",
   "execution_count": null,
   "id": "a2fddf41",
   "metadata": {},
   "outputs": [],
   "source": [
    "X, Y = data_loader.__getitem__(12)"
   ]
  },
  {
   "cell_type": "code",
   "execution_count": null,
   "id": "cdfe9ef6",
   "metadata": {},
   "outputs": [],
   "source": [
    "print(X.shape, Y.shape)\n",
    "\n",
    "plt.imshow(np.hstack([X[0, ..., 3], X[0, ..., 10], Y[0, ..., 0], Y[0, ..., 1]]))"
   ]
  },
  {
   "cell_type": "code",
   "execution_count": null,
   "id": "da9074dc",
   "metadata": {},
   "outputs": [],
   "source": [
    "plt.imshow(Y[0, ..., 1])"
   ]
  },
  {
   "cell_type": "code",
   "execution_count": null,
   "id": "f0af57b3",
   "metadata": {},
   "outputs": [],
   "source": [
    "data_loader._get_context_slices(\n",
    "    '/home/srivathsa/projects/studies/gad/mra_synth/preprocess/slices/IXI023-Guys-0699/cor/002.npy'\n",
    ")"
   ]
  },
  {
   "cell_type": "code",
   "execution_count": null,
   "id": "ea91abb2",
   "metadata": {},
   "outputs": [],
   "source": [
    "data = np.load('/home/srivathsa/projects/studies/gad/mra_synth/preprocess/slices/IXI024-Guys-0705/cor/260.npy')\n",
    "print(data.shape)"
   ]
  },
  {
   "cell_type": "code",
   "execution_count": null,
   "id": "c3518741",
   "metadata": {},
   "outputs": [],
   "source": [
    "dlist = ['{}/{}.npy'.format(data_dir, cnum) for cnum in cases]\n",
    "sl_loader = SliceLoader(dlist, slice_axis=[0, 2 ,3], use_enh_mask=True, slices_per_input=7, resize=512)\n",
    "X, Y = sl_loader.__getitem__(50)"
   ]
  },
  {
   "cell_type": "code",
   "execution_count": null,
   "id": "0e867a47",
   "metadata": {},
   "outputs": [],
   "source": [
    "print(X.shape, Y.shape)\n",
    "\n",
    "plt.imshow(Y[0, ..., 1])"
   ]
  },
  {
   "cell_type": "code",
   "execution_count": null,
   "id": "fcd486d2",
   "metadata": {},
   "outputs": [],
   "source": [
    "dest_path = '/home/srivathsa/projects/studies/gad/mra_synth/preprocess/slices'\n",
    "src_path = '/home/srivathsa/projects/studies/gad/mra_synth/preprocess/data'\n",
    "cases = sorted([c.split('/')[-1].replace('.npy', '') for c in glob('{}/*.npy'.format(src_path))])\n",
    "\n",
    "for cnum in tqdm(cases, total=len(cases)):\n",
    "    fpath_npy = '{}/{}.npy'.format(src_path, cnum)\n",
    "    data_ax, data_sag, data_cor = process_case(fpath_npy)\n",
    "    create_slices(data_ax, '{}/{}/ax'.format(dest_path, cnum))\n",
    "    create_slices(data_sag, '{}/{}/sag'.format(dest_path, cnum))\n",
    "    create_slices(data_cor, '{}/{}/cor'.format(dest_path, cnum))"
   ]
  }
 ],
 "metadata": {
  "kernelspec": {
   "display_name": "Python (py35gad)",
   "language": "python",
   "name": "py35gad"
  },
  "language_info": {
   "codemirror_mode": {
    "name": "ipython",
    "version": 3
   },
   "file_extension": ".py",
   "mimetype": "text/x-python",
   "name": "python",
   "nbconvert_exporter": "python",
   "pygments_lexer": "ipython3",
   "version": "3.6.1"
  }
 },
 "nbformat": 4,
 "nbformat_minor": 5
}
