{
 "cells": [
  {
   "cell_type": "code",
   "execution_count": 3,
   "id": "69cc8b5d",
   "metadata": {},
   "outputs": [
    {
     "data": {
      "text/plain": [
       "<Figure size 864x720 with 0 Axes>"
      ]
     },
     "metadata": {},
     "output_type": "display_data"
    }
   ],
   "source": [
    "%reload_ext autoreload\n",
    "%autoreload 2\n",
    "\n",
    "import os\n",
    "import shutil\n",
    "import numpy as np\n",
    "\n",
    "import matplotlib.pyplot as plt\n",
    "plt.set_cmap('gray')\n",
    "plt.rcParams['figure.figsize'] = (12, 10)\n",
    "\n",
    "from glob import glob\n",
    "from tqdm.notebook import tqdm\n",
    "import pydicom\n",
    "import pandas as pd\n",
    "import uuid\n",
    "\n",
    "def get_dcm_metadata(dpath_dcm):\n",
    "    fp = [f for f in glob('{}/**/*.dcm'.format(dpath_dcm), recursive=True)][0]\n",
    "    return pydicom.dcmread(fp)\n",
    "\n",
    "def rename_dcm(fpath_dcm, suffix):\n",
    "    dcm = pydicom.dcmread(fpath_dcm)\n",
    "    dcm.SeriesDescription = '{} {}'.format(dcm.SeriesDescription, suffix)\n",
    "    dcm.save_as(fpath_dcm)\n",
    "    \n",
    "def cleanup_series_desc(fpath_dcm):\n",
    "    dcm = pydicom.dcmread(fpath_dcm)\n",
    "    sdesc = dcm.SeriesDescription.replace('SubtleGad: ', '')\n",
    "    sdesc = sdesc.replace(' SMRboost_reader_study', '')\n",
    "    dcm.SeriesDescription = sdesc\n",
    "    dcm.save_as(fpath_dcm)\n",
    "    \n",
    "def get_dcm_ser_nums(dpath_root):\n",
    "    dcm_sers = [d for d in glob('{}/*'.format(dpath_root))]\n",
    "    ser_nums = []\n",
    "    for dpath in dcm_sers:\n",
    "        fp_dcms = [f for f in glob('{}/*.dcm'.format(dpath))]\n",
    "        dcm = pydicom.dcmread(fp_dcms[0])\n",
    "        ser_nums.append((dpath, int(dcm.SeriesNumber)))\n",
    "    ser_nums = sorted(ser_nums, key=lambda r:r[1])\n",
    "    return ser_nums\n",
    "\n",
    "def generate_uuid():\n",
    "    prefix = \"1.2.826.0.1.3680043.10.221.\"\n",
    "    entropy_src = uuid.uuid4().int\n",
    "    avail_digits = 64 - len(prefix)\n",
    "    int_val = entropy_src % (10 ** avail_digits)\n",
    "    return prefix + str(int_val)\n",
    "\n",
    "def anonymize_study(dirpath_study, sidebyside=False, uid_ref=None):\n",
    "    case_num = dirpath_study.split('/')[-1]\n",
    "    \n",
    "    ser_desc = ['3D T1', '3D T1 +C']\n",
    "    if sidebyside:\n",
    "        ser_desc = ['3D T1', '3D T1 +C - A', '3D T1 +C - B', '3D T1 +C - C']\n",
    "    \n",
    "    ser_ord = get_dcm_ser_nums(dirpath_study)\n",
    "    shuffle_info = []\n",
    "    if sidebyside:\n",
    "        id_str = np.array(['pre', 'soc', 'gad', 'gad+smr'])\n",
    "        rnd_idx = np.arange(1, 4)\n",
    "        np.random.shuffle(rnd_idx)\n",
    "        new_ord = [ser_ord[0]]\n",
    "        for i in rnd_idx:\n",
    "            new_ord.append(ser_ord[i])\n",
    "        ser_ord = new_ord\n",
    "        shuffle_info = id_str[rnd_idx]\n",
    "\n",
    "    if not uid_ref:\n",
    "        study_uid = generate_uuid()\n",
    "    else:\n",
    "        fp_dcm = [fp for fp in glob('{}/**/*.dcm'.format(uid_ref), recursive=True) if case_num in fp][0]\n",
    "        dcm_hdr = pydicom.dcmread(fp_dcm)\n",
    "        study_uid = dcm_hdr.StudyInstanceUID\n",
    "    \n",
    "    for idx, (ser, snum) in enumerate(ser_ord):\n",
    "        dir_name = ser_desc[idx].replace(' ', '_')\n",
    "        dir_name = '{:02d}_{}'.format(idx+1, dir_name)\n",
    "        new_path = os.path.join(dirpath_study, dir_name)\n",
    "        \n",
    "        shutil.move(ser, new_path)\n",
    "        \n",
    "        fp_dcms = [fp for fp in glob('{}/*.dcm'.format(new_path))]\n",
    "        for fp in fp_dcms:\n",
    "            dcm_ds = pydicom.dcmread(fp)\n",
    "            inst_num = int(dcm_ds.InstanceNumber)\n",
    "            new_fname = os.path.join(new_path, '{:04d}.dcm'.format(inst_num))\n",
    "            \n",
    "            dcm_ds.PatientID = case_num\n",
    "            dcm_ds.PatientsName = case_num\n",
    "            dcm_ds.PatientName = case_num\n",
    "            dcm_ds.StudyInstanceUID = study_uid\n",
    "            dcm_ds.StudyID = case_num\n",
    "            dcm_ds.AccessionNumber = case_num\n",
    "            dcm_ds.SeriesNumber = str(idx+100)\n",
    "            dcm_ds.OtherPatientIDs = case_num\n",
    "            dcm_ds.OtherPatientIDsSequence = ''\n",
    "            \n",
    "            dcm_ds.SeriesDescription = ser_desc[idx]\n",
    "            dcm_ds.StudyDescription = ser_desc[idx]\n",
    "            dcm_ds.ProtocolName = ser_desc[idx]\n",
    "\n",
    "            pydicom.dcmwrite(new_fname, dcm_ds)\n",
    "            os.remove(fp)\n",
    "    return shuffle_info"
   ]
  },
  {
   "cell_type": "markdown",
   "id": "47eb77cd",
   "metadata": {},
   "source": [
    "### Copy cases from source"
   ]
  },
  {
   "cell_type": "code",
   "execution_count": null,
   "id": "20c04faf",
   "metadata": {},
   "outputs": [],
   "source": [
    "src_path = '/home/srivathsa/projects/studies/gad/stanford/data'\n",
    "dest_path = '/home/srivathsa/projects/studies/gad/boost/0_cases'\n",
    "cases = [\n",
    "    \"Patient_0086\", \"Patient_0131\", \"Patient_0133\", \"Patient_0167\", \"Patient_0171\", \"Patient_0173\", \"Patient_0184\", \n",
    "    \"Patient_0194\", \"Patient_0199\", \"Patient_0201\", \"Patient_0206\", \"Patient_0214\", \"Patient_0215\", \"Patient_0224\", \n",
    "    \"Patient_0247\", \"Patient_0256\", \"Patient_0267\", \"Patient_0269\", \"Patient_0271\", \"Patient_0274\", \"Patient_0275\", \n",
    "    \"Patient_0280\", \"Patient_0289\", \"Patient_0294\", \"Patient_0298\", \"Patient_0303\", \"Patient_0304\", \"Patient_0320\", \n",
    "    \"Patient_0323\", \"Patient_0329\", \"Patient_0336\", \"Patient_0341\", \"Patient_0350\", \"Patient_0352\", \"Patient_0353\", \n",
    "    \"Patient_0360\", \"Patient_0362\", \"Patient_0363\", \"Patient_0378\", \"Patient_0385\", \"Patient_0408\", \"Patient_0409\", \n",
    "    \"Patient_0412\", \"Patient_0417\", \"Patient_0419\", \"Patient_0429\", \"Patient_0441\", \"Patient_0443\", \"Patient_0462\", \n",
    "    \"Patient_0463\", \"Patient_0468\", \"Patient_0474\", \"Patient_0477\", \"Patient_0479\", \"Patient_0481\", \"Patient_0492\", \n",
    "    \"Patient_0526\", \"Patient_0532\", \"Patient_0561\", \"Patient_0563\", \"Patient_0568\"\n",
    "]\n",
    "\n",
    "# kw = 'MPRAGE'\n",
    "\n",
    "# for cnum in tqdm(cases, total=len(cases)):\n",
    "#     try:\n",
    "#         dcm_dirs = [d for d in glob('{}/{}/*'.format(src_path, cnum)) if kw.lower() in d.lower()]\n",
    "#         dcm_dirs = sorted(dcm_dirs, key=lambda f: int(get_dcm_metadata(f).SeriesNumber))\n",
    "\n",
    "#         shutil.copytree(dcm_dirs[0], os.path.join(dest_path, cnum, dcm_dirs[0].split('/')[-1]))\n",
    "#         shutil.copytree(dcm_dirs[-1], os.path.join(dest_path, cnum, dcm_dirs[-1].split('/')[-1]))\n",
    "#     except Exception as exc:\n",
    "#         print('Error in {}:{}'.format(cnum, exc))"
   ]
  },
  {
   "cell_type": "markdown",
   "id": "2338e3b4",
   "metadata": {},
   "source": [
    "### Rename series with DNE suffix for SMR processing"
   ]
  },
  {
   "cell_type": "code",
   "execution_count": null,
   "id": "0d5258e7",
   "metadata": {},
   "outputs": [],
   "source": [
    "dcm_files = [fp for fp in glob('{}/**/*.dcm'.format(dest_path), recursive=True)]\n",
    "for fpath_dcm in tqdm(dcm_files, total=len(dcm_files)):\n",
    "    rename_dcm(fpath_dcm, 'DNE')"
   ]
  },
  {
   "cell_type": "markdown",
   "id": "8c8705f9",
   "metadata": {},
   "source": [
    "### Group SubtleMR output into cases"
   ]
  },
  {
   "cell_type": "code",
   "execution_count": null,
   "id": "d4b9eb11",
   "metadata": {},
   "outputs": [],
   "source": [
    "smr_output = '/home/srivathsa/projects/studies/gad/boost/3_cases_mr_gad_mr/dicoms'\n",
    "dcm_dest = '/home/srivathsa/projects/studies/gad/boost/3_cases_mr_gad_mr'\n",
    "\n",
    "study_uid_map = {}\n",
    "\n",
    "for cnum in tqdm(cases, total=len(cases)):\n",
    "    fpath_dcm = [fp for fp in glob('{}/{}/**/*.dcm'.format(src_path, cnum), recursive=True)][0]\n",
    "    study_uid = pydicom.dcmread(fpath_dcm).StudyInstanceUID\n",
    "    study_uid_map[study_uid] = cnum"
   ]
  },
  {
   "cell_type": "code",
   "execution_count": null,
   "id": "3763d438",
   "metadata": {},
   "outputs": [],
   "source": [
    "dcm_outs = [dp for dp in sorted(glob('{}/*'.format(smr_output)))]\n",
    "for dpath_dcm_ser in tqdm(dcm_outs, total=len(dcm_outs)):\n",
    "    fpath_dcm = [fp for fp in glob('{}/*.dcm'.format(dpath_dcm_ser))][0]\n",
    "    dcm = pydicom.dcmread(fpath_dcm)\n",
    "    ser_desc = dcm.SeriesDescription.replace(' DNE SMR', ' GAD+SMR').replace(' ', '_')\n",
    "    study_uid = dcm.StudyInstanceUID\n",
    "    ser_num = dcm.SeriesNumber-1000\n",
    "    ser_desc = '{}_{}'.format(ser_num, ser_desc)\n",
    "    cnum = study_uid_map[study_uid]\n",
    "    \n",
    "    new_path = '{}/{}/{}'.format(dcm_dest, cnum, ser_desc)\n",
    "    \n",
    "    shutil.copytree(dpath_dcm_ser, new_path)"
   ]
  },
  {
   "cell_type": "markdown",
   "id": "e287d1cb",
   "metadata": {},
   "source": [
    "### Rename SubtleGad processed"
   ]
  },
  {
   "cell_type": "code",
   "execution_count": null,
   "id": "a4a4c8a0",
   "metadata": {},
   "outputs": [],
   "source": [
    "dpath_gad_proc = '/home/srivathsa/projects/studies/gad/boost/2_cases_mr_gad'\n",
    "dcm_files = [fp for fp in glob('{}/**/*.dcm'.format(dpath_gad_proc), recursive=True)]\n",
    "for fpath_dcm in tqdm(dcm_files, total=len(dcm_files)):\n",
    "    cleanup_series_desc(fpath_dcm)"
   ]
  },
  {
   "cell_type": "markdown",
   "id": "60878505",
   "metadata": {},
   "source": [
    "### Group input and output series"
   ]
  },
  {
   "cell_type": "code",
   "execution_count": null,
   "id": "d5509242",
   "metadata": {},
   "outputs": [],
   "source": [
    "dp_input = '/home/srivathsa/projects/studies/gad/boost/0_cases'\n",
    "dp_output = '/home/srivathsa/projects/studies/gad/boost/3_cases_mr_gad_mr'\n",
    "dp_dest = '/home/srivathsa/projects/studies/gad/boost/final_cases'\n",
    "\n",
    "for cnum in tqdm(cases, total=len(cases)):\n",
    "    shutil.copytree('{}/{}'.format(dp_input, cnum), '{}/{}'.format(dp_dest, cnum))\n",
    "    \n",
    "    dp_ser = [d for d in glob('{}/{}/*'.format(dp_output, cnum))][0]\n",
    "    shutil.copytree(dp_ser, '{}/{}/{}'.format(dp_dest, cnum, dp_ser.split('/')[-1]))"
   ]
  },
  {
   "cell_type": "code",
   "execution_count": null,
   "id": "42c89d5a",
   "metadata": {},
   "outputs": [],
   "source": [
    "dp_gad = '/home/srivathsa/projects/studies/gad/boost/0_cases/7acf03_386e1d'\n",
    "for cnum in tqdm(cases, total=len(cases)):\n",
    "    dp_ser = [d for d in glob('{}/{}/{}_SubtleGad'.format(dp_gad, cnum, cnum))][0]\n",
    "    ser_desc = '1000_AX_BRAVO_+C_GAD'\n",
    "    shutil.copytree(dp_ser, '{}/{}/{}'.format(dp_dest, cnum, ser_desc))"
   ]
  },
  {
   "cell_type": "markdown",
   "id": "4ec2aaae",
   "metadata": {},
   "source": [
    "### Randomize cases"
   ]
  },
  {
   "cell_type": "code",
   "execution_count": null,
   "id": "8c500a4f",
   "metadata": {},
   "outputs": [],
   "source": [
    "cases = [\n",
    "    \"Patient_0086\", \"Patient_0131\", \"Patient_0133\", \"Patient_0167\", \"Patient_0171\", \"Patient_0173\", \"Patient_0184\", \n",
    "    \"Patient_0194\", \"Patient_0199\", \"Patient_0201\", \"Patient_0206\", \"Patient_0214\", \"Patient_0215\", \"Patient_0224\", \n",
    "    \"Patient_0247\", \"Patient_0256\", \"Patient_0267\", \"Patient_0269\", \"Patient_0271\", \"Patient_0274\", \"Patient_0275\", \n",
    "    \"Patient_0280\", \"Patient_0289\", \"Patient_0294\", \"Patient_0298\", \"Patient_0303\", \"Patient_0304\", \"Patient_0320\", \n",
    "    \"Patient_0323\", \"Patient_0329\", \"Patient_0336\", \"Patient_0341\", \"Patient_0350\", \"Patient_0352\", \"Patient_0353\", \n",
    "    \"Patient_0360\", \"Patient_0362\", \"Patient_0363\", \"Patient_0378\", \"Patient_0385\", \"Patient_0408\", \"Patient_0409\", \n",
    "    \"Patient_0412\", \"Patient_0417\", \"Patient_0419\", \"Patient_0429\", \"Patient_0441\", \"Patient_0443\", \"Patient_0462\", \n",
    "    \"Patient_0463\", \"Patient_0468\", \"Patient_0474\", \"Patient_0477\", \"Patient_0479\", \"Patient_0481\", \"Patient_0492\", \n",
    "    \"Patient_0526\", \"Patient_0532\", \"Patient_0561\", \"Patient_0563\", \"Patient_0568\"\n",
    "]\n",
    "\n",
    "# cases.extend(['{}_boost'.format(c) for c in cases])\n",
    "# np.random.shuffle(cases)\n",
    "\n",
    "# case_randomization_map = {}\n",
    "\n",
    "# for idx, cnum in enumerate(cases):\n",
    "#     rcnum = 'Case{:04d}'.format(idx+1)\n",
    "#     case_randomization_map[rcnum] = cnum"
   ]
  },
  {
   "cell_type": "code",
   "execution_count": 143,
   "id": "5735c207",
   "metadata": {},
   "outputs": [
    {
     "data": {
      "application/vnd.jupyter.widget-view+json": {
       "model_id": "b1fcbf7b853c4b2caf38123f6823f0c8",
       "version_major": 2,
       "version_minor": 0
      },
      "text/plain": [
       "  0%|          | 0/100 [00:00<?, ?it/s]"
      ]
     },
     "metadata": {},
     "output_type": "display_data"
    }
   ],
   "source": [
    "case_mapping = pd.read_csv('/home/srivathsa/projects/studies/gad/boost/case_mapping.csv').to_dict(orient='records')\n",
    "dp_dest = '/home/srivathsa/projects/studies/gad/boost/anon_cases'\n",
    "dp_src = '/home/srivathsa/projects/studies/gad/boost/final_cases'\n",
    "\n",
    "for drow in tqdm(case_mapping, total=len(case_mapping)):\n",
    "    case_dir = os.path.join(dp_dest, drow['Case ID'])\n",
    "    os.makedirs(case_dir, exist_ok=False)\n",
    "    orig_id = drow['Original ID']\n",
    "    ref_id = orig_id.replace('_boost', '')\n",
    "    \n",
    "    snums = get_dcm_ser_nums(os.path.join(dp_src, ref_id))\n",
    "    shutil.copytree(snums[0][0], os.path.join(case_dir, snums[0][0].split('/')[-1]))\n",
    "    \n",
    "    if '_boost' in orig_id:\n",
    "        shutil.copytree(snums[-1][0], os.path.join(case_dir, snums[-1][0].split('/')[-1]))\n",
    "    else:\n",
    "        shutil.copytree(snums[1][0], os.path.join(case_dir, snums[1][0].split('/')[-1]))"
   ]
  },
  {
   "cell_type": "markdown",
   "id": "3069058c",
   "metadata": {},
   "source": [
    "### Anonymize Studies"
   ]
  },
  {
   "cell_type": "code",
   "execution_count": 144,
   "id": "bae0e44b",
   "metadata": {},
   "outputs": [
    {
     "data": {
      "application/vnd.jupyter.widget-view+json": {
       "model_id": "5f0d426881d1465b97ec8669a2e1300d",
       "version_major": 2,
       "version_minor": 0
      },
      "text/plain": [
       "  0%|          | 0/100 [00:00<?, ?it/s]"
      ]
     },
     "metadata": {},
     "output_type": "display_data"
    },
    {
     "name": "stderr",
     "output_type": "stream",
     "text": [
      "/home/srivathsa/miniconda3/envs/py35gad/lib/python3.6/site-packages/pydicom/dataset.py:1981: UserWarning: Camel case attribute 'PatientsName' used which is not in the element keyword data dictionary\n",
      "  warnings.warn(msg)\n"
     ]
    }
   ],
   "source": [
    "dpath_cases = sorted([d for d in glob('{}/Case*'.format(dp_dest))])\n",
    "\n",
    "for dpath in tqdm(dpath_cases, total=len(dpath_cases)):\n",
    "    anonymize_study(dpath)"
   ]
  },
  {
   "cell_type": "markdown",
   "id": "ba3b0f51",
   "metadata": {},
   "source": [
    "### Process flagged cases"
   ]
  },
  {
   "cell_type": "code",
   "execution_count": 137,
   "id": "6eb8c3bc",
   "metadata": {},
   "outputs": [],
   "source": [
    "df_flag = pd.read_csv('/home/srivathsa/projects/studies/gad/boost/case_flagged.csv')\n",
    "dict_cases = df_flag[df_flag['Flagged for removal'] == 0].to_dict(orient='records')\n",
    "case_ids = sorted([r['Answer key'] for r in dict_cases])\n",
    "soc_set = [c for c in case_ids if '_boost' not in c]\n",
    "boost_set = [c for c in case_ids if c not in soc_set]\n",
    "rpt_set_soc = np.random.choice(soc_set, size=10, replace=False)\n",
    "rpt_set_boost = np.random.choice([\n",
    "    c for c in boost_set \n",
    "    if c.replace('_boost', '') not in rpt_set_soc], size=10, replace=False)\n",
    "\n",
    "case_ids.extend(rpt_set_soc)\n",
    "case_ids.extend(rpt_set_boost)"
   ]
  },
  {
   "cell_type": "code",
   "execution_count": 138,
   "id": "522cf8f9",
   "metadata": {},
   "outputs": [],
   "source": [
    "wsize = 3\n",
    "case_ids = np.array(case_ids)\n",
    "repeat_occurs = True\n",
    "\n",
    "# keep shuffling until you don't find a case and it's pair or repeat within 3 blocks\n",
    "\n",
    "while repeat_occurs:\n",
    "    np.random.shuffle(case_ids)\n",
    "    repeats = 0\n",
    "    for idx in np.arange(len(case_ids)):\n",
    "        cur_case = case_ids[idx]\n",
    "        idxs = np.array([i for i in np.arange(idx-wsize, idx+wsize)])\n",
    "        idxs = np.clip(idxs, 0, len(case_ids)-1)\n",
    "        idxs = [i for i in idxs if i != idx]\n",
    "        vis_cases = [c.replace('_boost', '') for c in case_ids[idxs]]\n",
    "        if cur_case.replace('_boost', '') in vis_cases:\n",
    "            repeats += 1\n",
    "    if repeats == 0:\n",
    "        repeat_occurs = False"
   ]
  },
  {
   "cell_type": "code",
   "execution_count": 140,
   "id": "388abc45",
   "metadata": {},
   "outputs": [],
   "source": [
    "case_randomization_map = {}\n",
    "\n",
    "for idx, cnum in enumerate(case_ids):\n",
    "    rcnum = 'Case{:04d}'.format(idx+1)\n",
    "    case_randomization_map[rcnum] = cnum"
   ]
  },
  {
   "cell_type": "markdown",
   "id": "da0f1429",
   "metadata": {},
   "source": [
    "### Prepare side-by-side cases"
   ]
  },
  {
   "cell_type": "code",
   "execution_count": 5,
   "id": "13b9f4ca",
   "metadata": {},
   "outputs": [
    {
     "data": {
      "application/vnd.jupyter.widget-view+json": {
       "model_id": "384e315771494922802f039164d02280",
       "version_major": 2,
       "version_minor": 0
      },
      "text/plain": [
       "  0%|          | 0/50 [00:00<?, ?it/s]"
      ]
     },
     "metadata": {},
     "output_type": "display_data"
    }
   ],
   "source": [
    "case_mapping = pd.read_csv('/home/srivathsa/projects/studies/gad/boost/case_mapping.csv').to_dict(orient='records')\n",
    "case_mapping = [r for r in case_mapping if '_boost' not in r['Original ID']]\n",
    "\n",
    "dp_dest = '/home/srivathsa/projects/studies/gad/boost/anon_sidebyside'\n",
    "dp_src = '/home/srivathsa/projects/studies/gad/boost/final_cases'\n",
    "\n",
    "for drow in tqdm(case_mapping, total=len(case_mapping)):\n",
    "    case_dir = os.path.join(dp_dest, drow['Case ID'])\n",
    "    os.makedirs(case_dir, exist_ok=False)\n",
    "    orig_id = drow['Original ID']\n",
    "    ref_id = orig_id.replace('_boost', '')\n",
    "    \n",
    "    snums = get_dcm_ser_nums(os.path.join(dp_src, ref_id))\n",
    "    for sno in np.arange(len(snums)):\n",
    "        shutil.copytree(snums[sno][0], os.path.join(case_dir, snums[sno][0].split('/')[-1]))"
   ]
  },
  {
   "cell_type": "code",
   "execution_count": 6,
   "id": "73a97532",
   "metadata": {},
   "outputs": [
    {
     "data": {
      "application/vnd.jupyter.widget-view+json": {
       "model_id": "f5a64631b1d64681986d815942b74cce",
       "version_major": 2,
       "version_minor": 0
      },
      "text/plain": [
       "  0%|          | 0/50 [00:00<?, ?it/s]"
      ]
     },
     "metadata": {},
     "output_type": "display_data"
    }
   ],
   "source": [
    "dpath_cases = sorted([d for d in glob('{}/Case*'.format(dp_dest))])\n",
    "shuffle_info = []\n",
    "\n",
    "for dpath in tqdm(dpath_cases, total=len(dpath_cases)):\n",
    "    sinfo = anonymize_study(dpath, sidebyside=True, uid_ref='/home/srivathsa/projects/studies/gad/boost/anon_cases')\n",
    "    shuffle_info.append((dpath.split('/')[-1], sinfo))"
   ]
  },
  {
   "cell_type": "code",
   "execution_count": 13,
   "id": "15de6d1c",
   "metadata": {},
   "outputs": [
    {
     "name": "stdout",
     "output_type": "stream",
     "text": [
      "Case0001,Patient_0256,soc,gad,gad+smr\n",
      "Case0003,Patient_0443,gad,soc,gad+smr\n",
      "Case0004,Patient_0329,soc,gad+smr,gad\n",
      "Case0005,Patient_0477,gad+smr,gad,soc\n",
      "Case0007,Patient_0336,gad+smr,gad,soc\n",
      "Case0008,Patient_0479,gad+smr,gad,soc\n",
      "Case0011,Patient_0215,soc,gad,gad+smr\n",
      "Case0012,Patient_0224,soc,gad+smr,gad\n",
      "Case0013,Patient_0303,soc,gad+smr,gad\n",
      "Case0017,Patient_0224,gad,soc,gad+smr\n",
      "Case0018,Patient_0298,gad+smr,gad,soc\n",
      "Case0021,Patient_0320,soc,gad+smr,gad\n",
      "Case0023,Patient_0563,gad,gad+smr,soc\n",
      "Case0027,Patient_0267,soc,gad,gad+smr\n",
      "Case0028,Patient_0247,soc,gad+smr,gad\n",
      "Case0029,Patient_0441,gad,gad+smr,soc\n",
      "Case0030,Patient_0492,gad+smr,soc,gad\n",
      "Case0031,Patient_0304,soc,gad,gad+smr\n",
      "Case0033,Patient_0352,gad+smr,gad,soc\n",
      "Case0037,Patient_0336,soc,gad,gad+smr\n",
      "Case0038,Patient_0412,gad,gad+smr,soc\n",
      "Case0039,Patient_0408,gad,soc,gad+smr\n",
      "Case0041,Patient_0341,soc,gad+smr,gad\n",
      "Case0043,Patient_0280,soc,gad,gad+smr\n",
      "Case0044,Patient_0378,gad,soc,gad+smr\n",
      "Case0045,Patient_0267,gad,soc,gad+smr\n",
      "Case0046,Patient_0214,soc,gad+smr,gad\n",
      "Case0047,Patient_0184,gad+smr,gad,soc\n",
      "Case0048,Patient_0350,gad,soc,gad+smr\n",
      "Case0050,Patient_0167,gad,gad+smr,soc\n",
      "Case0051,Patient_0323,gad+smr,soc,gad\n",
      "Case0054,Patient_0206,gad,soc,gad+smr\n",
      "Case0056,Patient_0353,gad,soc,gad+smr\n",
      "Case0057,Patient_0352,gad,soc,gad+smr\n",
      "Case0062,Patient_0303,soc,gad,gad+smr\n",
      "Case0065,Patient_0271,soc,gad+smr,gad\n",
      "Case0067,Patient_0417,gad,soc,gad+smr\n",
      "Case0073,Patient_0280,gad,soc,gad+smr\n",
      "Case0074,Patient_0184,gad+smr,gad,soc\n",
      "Case0075,Patient_0131,gad+smr,soc,gad\n",
      "Case0078,Patient_0353,soc,gad+smr,gad\n",
      "Case0079,Patient_0385,gad+smr,soc,gad\n",
      "Case0081,Patient_0429,gad+smr,soc,gad\n",
      "Case0083,Patient_0171,gad+smr,gad,soc\n",
      "Case0084,Patient_0194,soc,gad+smr,gad\n",
      "Case0090,Patient_0289,soc,gad+smr,gad\n",
      "Case0091,Patient_0294,soc,gad+smr,gad\n",
      "Case0092,Patient_0350,soc,gad+smr,gad\n",
      "Case0099,Patient_0215,gad,soc,gad+smr\n",
      "Case0100,Patient_0409,gad+smr,soc,gad\n"
     ]
    }
   ],
   "source": [
    "for cnum, sinfo in shuffle_info:\n",
    "    or_row = [r for r in case_mapping if r['Case ID'] == cnum][0]\n",
    "    print('{},{},{}'.format(cnum, or_row['Original ID'], ','.join(sinfo)))"
   ]
  },
  {
   "cell_type": "code",
   "execution_count": 18,
   "id": "ec2c4a33",
   "metadata": {},
   "outputs": [],
   "source": [
    "bpath = '/home/srivathsa/projects/studies/gad/boost/anon_sidebyside'\n",
    "case_list = sorted([c.split('/')[-1] for c in glob('{}/Case*'.format(bpath))])\n",
    "case_chunks = np.split(np.array(case_list), 5)\n",
    "\n",
    "for chunk_num, chunk_list in enumerate(case_chunks):\n",
    "    for cnum in chunk_list:\n",
    "        shutil.move('{}/{}'.format(bpath, cnum), '{}/Batch{}'.format(bpath, chunk_num+1))"
   ]
  },
  {
   "cell_type": "code",
   "execution_count": null,
   "id": "35077678",
   "metadata": {},
   "outputs": [],
   "source": []
  }
 ],
 "metadata": {
  "kernelspec": {
   "display_name": "Python (py35gad)",
   "language": "python",
   "name": "py35gad"
  },
  "language_info": {
   "codemirror_mode": {
    "name": "ipython",
    "version": 3
   },
   "file_extension": ".py",
   "mimetype": "text/x-python",
   "name": "python",
   "nbconvert_exporter": "python",
   "pygments_lexer": "ipython3",
   "version": "3.6.1"
  }
 },
 "nbformat": 4,
 "nbformat_minor": 5
}
