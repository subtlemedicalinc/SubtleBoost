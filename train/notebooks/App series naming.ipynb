{
 "cells": [
  {
   "cell_type": "code",
   "execution_count": 1,
   "metadata": {},
   "outputs": [],
   "source": [
    "import pydicom\n",
    "from tqdm import tqdm_notebook as tqdm\n",
    "from glob import glob\n",
    "import os\n",
    "import shutil\n",
    "\n",
    "RENAME_DICT = {\n",
    "    'zero': 'zerodose',\n",
    "    'low': 'lowdose',\n",
    "    'full': 'fulldose'\n",
    "}\n",
    "\n",
    "def write_accession_number(dirpath_series):\n",
    "    dcm_files = [(pydicom.dcmread(f), f) for f in glob('{}/*.dcm'.format(dirpath_series))]\n",
    "    \n",
    "    for dcm_file in tqdm(dcm_files, total=len(dcm_files)):\n",
    "        new_acc_num = str(dcm_file[0].PatientName)\n",
    "        dcm_file[0].AccessionNumber = new_acc_num\n",
    "        dcm_file[0].save_as(dcm_file[1])\n",
    "\n",
    "def find_post_contrast_series(dirpath_case):\n",
    "    return sorted(\n",
    "        [ser for ser in glob('{}/*'.format(dirpath_case))],\n",
    "        key=lambda ser: int(ser.split('/')[-1].split('_')[0])\n",
    "    )[0]\n",
    "\n",
    "def rename_series(dirpath_series, desc_suffix, sep='_', cs=False):\n",
    "    dcm_files = [(pydicom.dcmread(f), f) for f in glob('{}/*.dcm'.format(dirpath_series))]\n",
    "    if cs:\n",
    "        desc_suffix = '_cs'\n",
    "\n",
    "    print('Renaming {} with \"{}\" suffix'.format(dirpath_series, desc_suffix))\n",
    "    \n",
    "    curr_desc = dcm_files[0][0].SeriesDescription\n",
    "    if not curr_desc:\n",
    "        curr_desc = dirpath_series.split('/')[-2]\n",
    "    \n",
    "    print('Current series description', curr_desc)\n",
    "    \n",
    "    series_desc = '{}{}{}'.format(curr_desc, sep, desc_suffix)\n",
    "    \n",
    "    for dcm_file in tqdm(dcm_files, total=len(dcm_files)):\n",
    "        dcm_file[0].SeriesDescription = series_desc\n",
    "        dcm_file[0].save_as(dcm_file[1])\n",
    "\n",
    "def process_renaming(dirpath_study, cs=False):\n",
    "    dict_snum = {}\n",
    "    keys = ['zero', 'low', 'full']\n",
    "    \n",
    "    dirpaths_series = [d for d in glob('{}/*'.format(dirpath_study))]\n",
    "    \n",
    "    for series_path in dirpaths_series:\n",
    "        dcm_files = [f for f in glob('{}/*.dcm'.format(series_path))]\n",
    "        dcm = pydicom.dcmread(dcm_files[0])\n",
    "        dict_snum[int(dcm.SeriesNumber)] = series_path\n",
    "    \n",
    "    dict_suffixes = {}\n",
    "    for i, snum in enumerate(sorted(dict_snum.keys())):\n",
    "        dict_suffixes[RENAME_DICT[keys[i]]] = dict_snum[snum]\n",
    "    \n",
    "    for k, v in dict_suffixes.items():\n",
    "        rename_series(v, k, cs)\n",
    "\n",
    "def find_bpath_for_case(case_num):\n",
    "    dirbase = '/Users/srivathsa/projects/studies/gad'\n",
    "    dirsites = ['stanford', 'hoag', 'tiantan', 'sford_siemens', 'all']\n",
    "    for site_dir in dirsites:\n",
    "        dirpath_site = os.path.join(dirbase, site_dir, case_num)\n",
    "        if os.path.isdir(dirpath_site):\n",
    "            return dirpath_site\n",
    "    return None"
   ]
  },
  {
   "cell_type": "code",
   "execution_count": null,
   "metadata": {},
   "outputs": [],
   "source": [
    "cases = [\n",
    "    \"101_Id_051\", \"101_Id_066\", \"Id0032\", \"NO108\", \"NO113\", \"NO120\", \"NO129\", \"NO130\", \"NO18\", \"NO26\", \"NO54\",\n",
    "    \"NO55\", \"NO56\", \"NO6\", \"NO60\", \"NO62\", \"NO67\", \"NO71\", \"NO79\", \"Patient_0087\", \"Patient_0090\", \"Patient_0134\",\n",
    "    \"Patient_0157\", \"Patient_0172\", \"Patient_0173\", \"Patient_0178\", \"Patient_0255\", \"Patient_0269\", \"Patient_0276\",\n",
    "    \"Patient_0286\", \"Patient_0333\", \"Patient_0342\", \"Patient_0353\", \"Patient_0375\", \"Patient_0400\", \"Patient_0408\",\n",
    "    \"Patient_0486\", \"Patient_0526\", \"Patient_0535\", \"Patient_0538\", \"Patient_0556\", \"Patient_0575\", \"Prisma1\",\n",
    "    \"Prisma21\", \"Prisma22\", \"Prisma23\", \"Prisma3\", \"Prisma4\", \"Prisma6\", \"Prisma9\"\n",
    "]"
   ]
  },
  {
   "cell_type": "code",
   "execution_count": null,
   "metadata": {},
   "outputs": [],
   "source": [
    "for case in cases:\n",
    "    dirpath_study = find_bpath_for_case(case)\n",
    "    process_renaming(dirpath_study)"
   ]
  },
  {
   "cell_type": "code",
   "execution_count": null,
   "metadata": {},
   "outputs": [],
   "source": [
    "dirpath_dcm = '/Users/srivathsa/projects/studies/gad/image_review/rfm_cases/Prisma4/SubtleGADt1_mprage_sag_p2_isoresearch_only_105_RFM'\n",
    "# dirpath_dcm = '/Users/srivathsa/projects/studies/gad/stanford/Patient_0085/14_AX_BRAVO+C'\n",
    "write_accession_number(dirpath_dcm)"
   ]
  },
  {
   "cell_type": "code",
   "execution_count": 2,
   "metadata": {},
   "outputs": [
    {
     "name": "stdout",
     "output_type": "stream",
     "text": [
      "Renaming /home/srivathsa/subtlemr/input/sgad/1231970/1231970_SubtleGad with \"DNE\" suffix\n",
      "Current series description SubtleGad:  8_st1w_3d_ffe+csford_enh_vgg_3r\n"
     ]
    },
    {
     "name": "stderr",
     "output_type": "stream",
     "text": [
      "/home/srivathsa/miniconda3/envs/py35gad/lib/python3.6/site-packages/ipykernel_launcher.py:42: TqdmDeprecationWarning: This function will be removed in tqdm==5.0.0\n",
      "Please use `tqdm.notebook.tqdm` instead of `tqdm.tqdm_notebook`\n"
     ]
    },
    {
     "data": {
      "application/vnd.jupyter.widget-view+json": {
       "model_id": "af62dc78183d461aa7b13c897f5cc7d1",
       "version_major": 2,
       "version_minor": 0
      },
      "text/plain": [
       "  0%|          | 0/180 [00:00<?, ?it/s]"
      ]
     },
     "metadata": {},
     "output_type": "display_data"
    },
    {
     "name": "stdout",
     "output_type": "stream",
     "text": [
      "Renaming /home/srivathsa/subtlemr/input/sgad/1755456/1755456_SubtleGad with \"DNE\" suffix\n",
      "Current series description SubtleGad:  5_ax_3d_fspgr_mdcsford_enh_vgg_3r\n"
     ]
    },
    {
     "data": {
      "application/vnd.jupyter.widget-view+json": {
       "model_id": "e266edc15ee24dcea0b0b8aae9da3321",
       "version_major": 2,
       "version_minor": 0
      },
      "text/plain": [
       "  0%|          | 0/100 [00:00<?, ?it/s]"
      ]
     },
     "metadata": {},
     "output_type": "display_data"
    },
    {
     "name": "stdout",
     "output_type": "stream",
     "text": [
      "Renaming /home/srivathsa/subtlemr/input/sgad/1002071/1002071_SubtleGad with \"DNE\" suffix\n",
      "Current series description SubtleGad:  9_st1w_3d_isotiantan_enh_vgg_3r\n"
     ]
    },
    {
     "data": {
      "application/vnd.jupyter.widget-view+json": {
       "model_id": "51cf8f3dd271498fbc864423fea75a2d",
       "version_major": 2,
       "version_minor": 0
      },
      "text/plain": [
       "  0%|          | 0/150 [00:00<?, ?it/s]"
      ]
     },
     "metadata": {},
     "output_type": "display_data"
    }
   ],
   "source": [
    "base_dir = '/home/srivathsa/subtlemr/input/sgad'\n",
    "suffix = 'DNE'\n",
    "\n",
    "dirpath_cases = [d for d in glob('{}/*'.format(base_dir))]\n",
    "\n",
    "for dpath_case in dirpath_cases:\n",
    "    ser_dirs = [s for s in glob('{}/*'.format(dpath_case)) if os.path.isdir(s)]\n",
    "    \n",
    "    for sdir in ser_dirs:\n",
    "        rename_series(sdir, suffix, sep=' ')"
   ]
  },
  {
   "cell_type": "markdown",
   "metadata": {},
   "source": [
    "### Group processed series"
   ]
  },
  {
   "cell_type": "code",
   "execution_count": 3,
   "metadata": {},
   "outputs": [
    {
     "name": "stderr",
     "output_type": "stream",
     "text": [
      "/home/srivathsa/miniconda3/envs/py35gad/lib/python3.6/site-packages/ipykernel_launcher.py:15: TqdmDeprecationWarning: This function will be removed in tqdm==5.0.0\n",
      "Please use `tqdm.notebook.tqdm` instead of `tqdm.tqdm_notebook`\n",
      "  from ipykernel import kernelapp as app\n"
     ]
    },
    {
     "data": {
      "application/vnd.jupyter.widget-view+json": {
       "model_id": "c76614af48294a84ba2606791bd94f2d",
       "version_major": 2,
       "version_minor": 0
      },
      "text/plain": [
       "  0%|          | 0/100 [00:00<?, ?it/s]"
      ]
     },
     "metadata": {},
     "output_type": "display_data"
    },
    {
     "data": {
      "application/vnd.jupyter.widget-view+json": {
       "model_id": "5a9a4b1d589947298beb3cdf3d288a7e",
       "version_major": 2,
       "version_minor": 0
      },
      "text/plain": [
       "  0%|          | 0/180 [00:00<?, ?it/s]"
      ]
     },
     "metadata": {},
     "output_type": "display_data"
    },
    {
     "data": {
      "application/vnd.jupyter.widget-view+json": {
       "model_id": "e05bee13ef284dc3b589992600d262e1",
       "version_major": 2,
       "version_minor": 0
      },
      "text/plain": [
       "  0%|          | 0/150 [00:00<?, ?it/s]"
      ]
     },
     "metadata": {},
     "output_type": "display_data"
    }
   ],
   "source": [
    "app_output = '/home/srivathsa/subtlemr/output/dicoms/sgad'\n",
    "\n",
    "for dpath_series in glob('{}/*'.format(app_output)):\n",
    "    if not os.path.isdir(dpath_series):\n",
    "        continue\n",
    "    \n",
    "    dcm_files = sorted([fp for fp in glob('{}/*.dcm'.format(dpath_series))])\n",
    "    \n",
    "    dcm = pydicom.dcmread(dcm_files[0])\n",
    "    patient_id = dcm.PatientID\n",
    "    ser_desc = dcm.SeriesDescription.replace(' DNE', '').replace(' SRE', '').replace(' SMR', '').replace(' ', '')\n",
    "    outdir = '{}/{}/{}'.format(app_output, patient_id, ser_desc)\n",
    "    os.makedirs(outdir, exist_ok=True)\n",
    "    \n",
    "    for fpath_dcm in tqdm(dcm_files, total=len(dcm_files)):\n",
    "        fname = fpath_dcm.split('/')[-1]\n",
    "        dcm = pydicom.dcmread(fpath_dcm)\n",
    "        dcm.SeriesDescription = ser_desc\n",
    "        dcm.StudyDescription = ser_desc\n",
    "        dcm.save_as('{}/{}'.format(outdir, fname))\n",
    "    \n",
    "    shutil.rmtree(dpath_series)"
   ]
  },
  {
   "cell_type": "code",
   "execution_count": null,
   "metadata": {},
   "outputs": [],
   "source": []
  }
 ],
 "metadata": {
  "kernelspec": {
   "display_name": "Python (py35gad)",
   "language": "python",
   "name": "py35gad"
  },
  "language_info": {
   "codemirror_mode": {
    "name": "ipython",
    "version": 3
   },
   "file_extension": ".py",
   "mimetype": "text/x-python",
   "name": "python",
   "nbconvert_exporter": "python",
   "pygments_lexer": "ipython3",
   "version": "3.6.1"
  }
 },
 "nbformat": 4,
 "nbformat_minor": 4
}
