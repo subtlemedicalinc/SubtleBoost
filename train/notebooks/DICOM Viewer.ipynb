{
 "cells": [
  {
   "cell_type": "code",
   "execution_count": 1,
   "metadata": {},
   "outputs": [
    {
     "name": "stderr",
     "output_type": "stream",
     "text": [
      "/home/srivathsa/projects/SubtleGad/train/subtle/utils/hyperparameter.py:8: UserWarning: Module test_tube not found - hyperparameter related functions cannot be used\n",
      "  warnings.warn('Module test_tube not found - hyperparameter related functions cannot be used')\n"
     ]
    },
    {
     "data": {
      "text/plain": [
       "<Figure size 640x480 with 0 Axes>"
      ]
     },
     "metadata": {},
     "output_type": "display_data"
    }
   ],
   "source": [
    "import pydicom\n",
    "import matplotlib.pyplot as plt\n",
    "import sigpy.plot as pl\n",
    "#%matplotlib notebook\n",
    "import subtle.utils.io as suio\n",
    "from glob import glob\n",
    "import numpy as np\n",
    "import nibabel as nib\n",
    "import ipywidgets as widgets\n",
    "from ipywidgets import interact, interact_manual\n",
    "import os\n",
    "import numpy as np\n",
    "from PIL import Image\n",
    "from subtle.utils.experiment import get_experiment_data\n",
    "from tqdm import tqdm_notebook as tqdm\n",
    "from subtle.subtle_preprocess import dcm_to_sitk\n",
    "import shutil\n",
    "# import SimpleITK as sitk\n",
    "\n",
    "plt.set_cmap('gray')\n",
    "plt.rcParams['figure.figsize'] = (12, 10)\n",
    "\n",
    "from skimage.morphology import binary_erosion, cube\n",
    "from subtle.utils.io import load_h5_file"
   ]
  },
  {
   "cell_type": "code",
   "execution_count": null,
   "metadata": {},
   "outputs": [],
   "source": [
    "data = np.load('/mnt/datasets/dayang/stanford_transformer_miccai/npy_sav2/Patient_0025/180.npy')\n",
    "\n",
    "nr = 4\n",
    "nc = 3\n",
    "\n",
    "img = []\n",
    "k=0\n",
    "for _ in np.arange(nc):\n",
    "    row = []\n",
    "    for _ in np.arange(nr):\n",
    "        data_iter = data[k]\n",
    "        data_iter = np.interp(data_iter, (data_iter.min(), data_iter.max()), (0, 1))\n",
    "        row.append(data_iter)\n",
    "        k += 1\n",
    "    \n",
    "    img.append(np.hstack(row))\n",
    "img_disp = np.vstack(img)\n",
    "plt.imshow(img_disp)\n",
    "plt.axis('off')"
   ]
  },
  {
   "cell_type": "code",
   "execution_count": null,
   "metadata": {},
   "outputs": [],
   "source": [
    "plt.imshow(np.hstack([data[-1], data[-2]]))"
   ]
  },
  {
   "cell_type": "code",
   "execution_count": null,
   "metadata": {},
   "outputs": [],
   "source": [
    "data = np.load('/home/srivathsa/projects/studies/gad/stanford/preprocess/data_fp64/Patient_0090.npy')\n",
    "print(data.shape)"
   ]
  },
  {
   "cell_type": "code",
   "execution_count": null,
   "metadata": {},
   "outputs": [],
   "source": [
    "plt.imshow(data[0, 170, 3])"
   ]
  },
  {
   "cell_type": "code",
   "execution_count": null,
   "metadata": {},
   "outputs": [],
   "source": [
    "d = np.load('/home/srivathsa/projects/studies/gad/stanford/preprocess/data_mmt/full_brain_512/train/Patient_0090/170.npy')\n",
    "\n",
    "plt.imshow(np.hstack([*d]))\n"
   ]
  },
  {
   "cell_type": "code",
   "execution_count": null,
   "metadata": {},
   "outputs": [],
   "source": [
    "plt.imshow(data_t2[0, 156])"
   ]
  },
  {
   "cell_type": "code",
   "execution_count": null,
   "metadata": {},
   "outputs": [],
   "source": [
    "dcm_path = '/home/srivathsa/projects/studies/gad/bracco/dcms/1755456/5_ax_3d_fspgr_mdc'\n",
    "for fpath in glob('{}/*'.format(dcm_path)):\n",
    "    fname = fpath.split('/')[-1]\n",
    "    dcm_num = fname.split('.')[1].replace('\\'', '')\n",
    "    new_fname = 'IM_{:04d}.dcm'.format(int(dcm_num))\n",
    "    new_fpath = '{}/{}'.format(dcm_path, new_fname)\n",
    "    os.rename(fpath, new_fpath)"
   ]
  },
  {
   "cell_type": "code",
   "execution_count": null,
   "metadata": {},
   "outputs": [],
   "source": [
    "vol = np.load('/home/srivathsa/projects/studies/gad/stanford/preprocess/data_smr/DNE/Patient_0171.npy')"
   ]
  },
  {
   "cell_type": "code",
   "execution_count": null,
   "metadata": {},
   "outputs": [],
   "source": [
    "plt.imshow(np.hstack([vol[0, 160, 0], vol[0, 160, 1]]))"
   ]
  },
  {
   "cell_type": "code",
   "execution_count": 2,
   "metadata": {},
   "outputs": [],
   "source": [
    "def get_dicom_vol(dirpath_dicom):\n",
    "    dcm_files = sorted([f for f in glob('{}/*.dcm'.format(dirpath_dicom))])\n",
    "    dcm = pydicom.dcmread(dcm_files[0])\n",
    "    print('Series Description', dcm.SeriesDescription)\n",
    "    return np.array([pydicom.dcmread(f).pixel_array for f in dcm_files])"
   ]
  },
  {
   "cell_type": "code",
   "execution_count": null,
   "metadata": {},
   "outputs": [],
   "source": [
    "dcm_path = '/home/srivathsa/projects/studies/gad/stanford/data/Patient_0580/10_AX_T2'\n",
    "dcm_vol = get_dicom_vol(dcm_path)\n",
    "print(dcm_vol.shape)\n",
    "\n",
    "# dcm_path2 = '/home/srivathsa/projects/studies/gad/stanford/data/Patient_0086/7_AX_BRAVO'\n",
    "# dcm_vol2 = get_dicom_vol(dcm_path2)\n",
    "plt.imshow(np.hstack([dcm_vol[12]]))\n",
    "# plt.colorbar()"
   ]
  },
  {
   "cell_type": "code",
   "execution_count": null,
   "metadata": {},
   "outputs": [],
   "source": [
    "dpath = '/home/srivathsa/projects/studies/gad/stanford/data/Patient_0057/13_AX_BRAVO_+C'\n",
    "fp_dcms = [fp for fp in glob('{}/*.dcm'.format(dpath))]\n",
    "\n",
    "for fp in tqdm(fp_dcms, total=len(fp_dcms)):\n",
    "    dcm = pydicom.dcmread(fp)\n",
    "    dcm.SeriesNumber = 13\n",
    "    dcm.save_as(fp)"
   ]
  },
  {
   "cell_type": "code",
   "execution_count": null,
   "metadata": {},
   "outputs": [],
   "source": [
    "d = np.load('/home/srivathsa/projects/studies/gad/stanford/preprocess/slices/Patient_0101/ax/234.npy')\n",
    "pre, low, post, mask = d\n",
    "pre = pre / pre.mean()\n",
    "low = low / low.mean()\n",
    "# print(pre.min(), pre.max())\n",
    "# print(low.min(), low.max())\n",
    "# print(post.min(), post.max())\n",
    "# print(mask.min(), mask.max())\n",
    "plt.imshow(np.hstack([d[1], d[0]]))"
   ]
  },
  {
   "cell_type": "code",
   "execution_count": 50,
   "metadata": {},
   "outputs": [],
   "source": [
    "src_path = '/mnt/datasets/ben/backup/raid/SubtleGAD_Stanford/lowcon'\n",
    "bpath = '/home/srivathsa/projects/studies/gad/stanford/data'\n",
    "\n",
    "cases = []\n",
    "\n",
    "for dpath in sorted(glob('{}/Patient*'.format(bpath))):\n",
    "    cnum = dpath.split('/')[-1]\n",
    "    flr_ser = [\n",
    "        ser for ser in glob('{}/*'.format(dpath)) \n",
    "        if 'sag' in ser.lower() and 'cube' in ser.lower() and 'flair' in ser.lower()\n",
    "    ]\n",
    "    \n",
    "    all_ser = [ser for ser in glob('{}/*'.format(dpath))]\n",
    "    \n",
    "    if len(flr_ser) == 0:\n",
    "        cases.append((cnum, all_ser))"
   ]
  },
  {
   "cell_type": "code",
   "execution_count": 52,
   "metadata": {},
   "outputs": [
    {
     "name": "stdout",
     "output_type": "stream",
     "text": [
      "Patient_0057 ['/home/srivathsa/projects/studies/gad/stanford/data/Patient_0057/13_AX_BRAVO_+C', '/home/srivathsa/projects/studies/gad/stanford/data/Patient_0057/400_AX_CUBE_FLAIR', '/home/srivathsa/projects/studies/gad/stanford/data/Patient_0057/6_AX_BRAVO_PRE', '/home/srivathsa/projects/studies/gad/stanford/data/Patient_0057/11_AX_BRAVO_+C', '/home/srivathsa/projects/studies/gad/stanford/data/Patient_0057/9_AX_T2']\n"
     ]
    }
   ],
   "source": [
    "for cnum, sers in cases:\n",
    "    ser = [s for s in sers if 'mprage' in s.lower()]\n",
    "    if len(ser) == 0:\n",
    "        print(cnum, sers)"
   ]
  },
  {
   "cell_type": "code",
   "execution_count": 32,
   "metadata": {},
   "outputs": [],
   "source": [
    "bpath = '/mnt/datasets/ben/backup/raid/SubtleGAD_Stanford/lowcon'\n",
    "dest_path = '/mnt/datasets/srivathsa/sford_extra'\n",
    "\n",
    "cases = sorted([c.split('/')[-1] for c in glob('{}/lowcon*'.format(bpath))])\n",
    "for cnum in cases:\n",
    "    sers = [ser for ser in glob('{}/{}/*'.format(bpath, cnum))]\n",
    "    for ser in sers:\n",
    "        if not os.path.isdir(ser): continue\n",
    "        fp_dcms = [fp for fp in glob('{}/*.dcm'.format(ser))]\n",
    "        if len(fp_dcms) > 0:\n",
    "            dcm = pydicom.dcmread(fp_dcms[0])\n",
    "            try:\n",
    "                sdesc = dcm.SeriesDescription.lower()\n",
    "                if 'sag' in sdesc and 'cube' in sdesc and 'flair' in sdesc and 'reformat' not in sdesc:\n",
    "                    fname = '{}_{}'.format(dcm.SeriesNumber, dcm.SeriesDescription.replace(' ', '_'))\n",
    "                    shutil.copytree(ser, '{}/{}/{}'.format(dest_path, cnum.replace('lowcon', 'Patient'), fname))\n",
    "            except Exception as exc:\n",
    "                continue"
   ]
  },
  {
   "cell_type": "code",
   "execution_count": 54,
   "metadata": {},
   "outputs": [
    {
     "name": "stdout",
     "output_type": "stream",
     "text": [
      "/mnt/datasets/ben/backup/raid/SubtleGAD_Stanford/lowcon/lowcon_0057/402 SAG FLAIR CUBE REFORMAT\n",
      "/mnt/datasets/ben/backup/raid/SubtleGAD_Stanford/lowcon/lowcon_0057/003 AX T2\n",
      "/mnt/datasets/ben/backup/raid/SubtleGAD_Stanford/lowcon/lowcon_0057/013 AX BRAVO+C\n",
      "/mnt/datasets/ben/backup/raid/SubtleGAD_Stanford/lowcon/lowcon_0057/601 Exponential Apparent Diffusion Coefficient\n",
      "/mnt/datasets/ben/backup/raid/SubtleGAD_Stanford/lowcon/lowcon_0057/400 SAG BRAVO\n",
      "/mnt/datasets/ben/backup/raid/SubtleGAD_Stanford/lowcon/lowcon_0057/800 Cerebral Blood Flow\n",
      "/mnt/datasets/ben/backup/raid/SubtleGAD_Stanford/lowcon/lowcon_0057/401 COR BRAVO\n",
      "/mnt/datasets/ben/backup/raid/SubtleGAD_Stanford/lowcon/lowcon_0057/700 SAG BRAVO+C\n",
      "/mnt/datasets/ben/backup/raid/SubtleGAD_Stanford/lowcon/lowcon_0057/012 Ax T1 +C\n",
      "/mnt/datasets/ben/backup/raid/SubtleGAD_Stanford/lowcon/lowcon_0057/1000 SAG BRAVO\n",
      "/mnt/datasets/ben/backup/raid/SubtleGAD_Stanford/lowcon/lowcon_0057/007 AX BRAVO+C\n",
      "/mnt/datasets/ben/backup/raid/SubtleGAD_Stanford/lowcon/lowcon_0057/001 3PL SSFSE LOC\n",
      "/mnt/datasets/ben/backup/raid/SubtleGAD_Stanford/lowcon/lowcon_0057/005 AX PWI INJ 15 SEC W/GAD\n",
      "/mnt/datasets/ben/backup/raid/SubtleGAD_Stanford/lowcon/lowcon_0057/011 AX PWI INJ 15 SEC W/GAD\n",
      "/mnt/datasets/ben/backup/raid/SubtleGAD_Stanford/lowcon/lowcon_0057/008 AX 3D ASL\n",
      "/mnt/datasets/ben/backup/raid/SubtleGAD_Stanford/lowcon/lowcon_0057/1301 COR BRAVO+C\n",
      "/mnt/datasets/ben/backup/raid/SubtleGAD_Stanford/lowcon/lowcon_0057/1001 COR BRAVO\n",
      "/mnt/datasets/ben/backup/raid/SubtleGAD_Stanford/lowcon/lowcon_0057/004 AX BRAVO +C\n",
      "/mnt/datasets/ben/backup/raid/SubtleGAD_Stanford/lowcon/lowcon_0057/701 COR BRAVO+C\n",
      "/mnt/datasets/ben/backup/raid/SubtleGAD_Stanford/lowcon/lowcon_0057/009 AX T2\n",
      "/mnt/datasets/ben/backup/raid/SubtleGAD_Stanford/lowcon/lowcon_0057/600 Apparent Diffusion Coefficient (mm2/s)\n",
      "/mnt/datasets/ben/backup/raid/SubtleGAD_Stanford/lowcon/lowcon_0057/006 Ax DWI (freq r/l)\n",
      "/mnt/datasets/ben/backup/raid/SubtleGAD_Stanford/lowcon/lowcon_0057/1300 SAG BRAVO+C\n",
      "/mnt/datasets/ben/backup/raid/SubtleGAD_Stanford/lowcon/lowcon_0057/010 AX BRAVO +C\n"
     ]
    }
   ],
   "source": [
    "bpath = '/mnt/datasets/ben/backup/raid/SubtleGAD_Stanford/lowcon/lowcon_0057'\n",
    "dest_path = '/mnt/datasets/srivathsa/sford_extra'\n",
    "\n",
    "sers = [ser for ser in glob('{}/*'.format(bpath))]\n",
    "for ser in sers:\n",
    "    if not os.path.isdir(ser): continue\n",
    "    fp_dcms = [fp for fp in glob('{}/*.dcm'.format(ser))]\n",
    "    if len(fp_dcms) > 0:\n",
    "        dcm = pydicom.dcmread(fp_dcms[0])\n",
    "        print(ser, dcm.SeriesDescription)"
   ]
  },
  {
   "cell_type": "code",
   "execution_count": null,
   "metadata": {},
   "outputs": [],
   "source": [
    "vol = np.load('/home/srivathsa/projects/MissingDataImputation/test.npy')\n",
    "plt.imshow(vol[170])"
   ]
  },
  {
   "cell_type": "code",
   "execution_count": null,
   "metadata": {},
   "outputs": [],
   "source": [
    "dcm_npy = np.load('/home/srivathsa/projects/studies/gad/bracco/preprocess/data_smr/1755456.npy')\n",
    "plt.imshow(dcm_npy[0, 0, 0])\n",
    "plt.colorbar()"
   ]
  },
  {
   "cell_type": "code",
   "execution_count": null,
   "metadata": {},
   "outputs": [],
   "source": [
    "pp_data = np.load('/home/srivathsa/projects/studies/gad/bracco/preprocess/data/1002071.npy')[0]\n",
    "plt.imshow(pp_data[0, 0])"
   ]
  },
  {
   "cell_type": "code",
   "execution_count": null,
   "metadata": {},
   "outputs": [],
   "source": [
    "dcm1 = get_dicom_vol('/home/srivathsa/projects/studies/gad/bracco/dcms/1002071/7_st1w_3d_iso')\n",
    "dcm2 = get_dicom_vol('/home/srivathsa/projects/studies/gad/bracco/dcms/1002071/9_st1w_3d_iso')\n",
    "\n",
    "plt.imshow(np.hstack([dcm2[1], dcm1[1]]))"
   ]
  },
  {
   "cell_type": "markdown",
   "metadata": {},
   "source": [
    "## Convert JPEG compression (decompress)"
   ]
  },
  {
   "cell_type": "code",
   "execution_count": null,
   "metadata": {},
   "outputs": [],
   "source": [
    "base_path = '/home/srivathsa/projects/studies/gad/bracco/dcms/original'\n",
    "dest_path = '/home/srivathsa/projects/studies/gad/bracco/dcms'\n",
    "cases = ['1002071', '1231970', '1755456']\n",
    "\n",
    "for cnum in cases:\n",
    "    case_dir = os.path.join(base_path, cnum)\n",
    "    ser_dirs = [s for s in glob('{}/*'.format(case_dir)) if os.path.isdir(s)]\n",
    "    \n",
    "    for ser_dir in ser_dirs:\n",
    "        ser_name = ser_dir.split('/')[-1]\n",
    "        ser_num = int(ser_name.split('_')[0])\n",
    "        dcm_vol = get_dicom_vol(ser_dir)\n",
    "        outpath = os.path.join(dest_path, cnum, ser_name)\n",
    "        \n",
    "        suio.write_dicoms(ser_dir, dcm_vol, outpath, series_desc_pre='', desc=ser_name, series_desc_post='', \n",
    "                          series_num=ser_num)"
   ]
  },
  {
   "cell_type": "code",
   "execution_count": null,
   "metadata": {},
   "outputs": [],
   "source": [
    "output_single = '/raid/jiang/projects/SubtleGad/tiantan/data/4ea223_8ee157/'\n",
    "#output_single = '/home/jiang/projects/SubtleGad/tiantan/data/4ea223_75d45d'\n",
    "output_double = '/home/srivathsa/projects/studies/gad/tiantan/data/3aa100_aa734a'"
   ]
  },
  {
   "cell_type": "code",
   "execution_count": null,
   "metadata": {},
   "outputs": [],
   "source": [
    "cases = ['33', '36', '41', '43', '46', '50', '53', '56', '58', '63', '68']\n",
    "idxes = ['88', '98', '108', '136', '87', '146', '80', '75', '104', '129', '78']\n",
    "for i, case in enumerate(cases):\n",
    "    idx = int(idxes[i])\n",
    "    vol1 = get_dicom_vol(f'{output_single}/NO{case}/NO{case}_SubtleGad/')\n",
    "    vol2 = get_dicom_vol(f'{output_double}/NO{case}/NO{case}_SubtleGad/')\n",
    "    vol = load_h5_file(f\"/home/srivathsa/projects/studies/gad/tiantan/preprocess/data/NO{case}.h5\")\n",
    "    slice_low = vol[idx, 1]*70\n",
    "    slice_full = vol[idx, 2]*70\n",
    "    slice1 = vol1[idx]\n",
    "    slice2 = vol2[idx]\n",
    "#     print(slice_low.min(), slice_low.max())\n",
    "#     print(slice_full.min(), slice_full.max())\n",
    "#     print(slice1.min(), slice1.max())\n",
    "#     print(slice2.min(), slice2.max())\n",
    "    slice_low = slice_low/slice_low.max()\n",
    "    slice_full = slice_full/slice_full.max()\n",
    "    slice1 = slice1/slice1.max()\n",
    "    slice2 = slice2/slice2.max()\n",
    "    \n",
    "    img = np.concatenate((slice_low, slice1, slice2, slice_full), axis=1)\n",
    "    plt.imshow(img, cmap='gray')\n",
    "    plt.axis(\"off\")\n",
    "    plt.show()\n",
    "    img = np.stack((img, img, img),axis=-1)\n",
    "    img = np.uint8(255*img/img.max())\n",
    "    im = Image.fromarray(img)\n",
    "    os.makedirs(f\"{output_single}/vis/\", exist_ok=True)\n",
    "    im.save(f\"{output_single}/vis/NO{case}_{idx}.png\")"
   ]
  },
  {
   "cell_type": "code",
   "execution_count": null,
   "metadata": {},
   "outputs": [],
   "source": [
    "img.shape"
   ]
  },
  {
   "cell_type": "code",
   "execution_count": null,
   "metadata": {},
   "outputs": [],
   "source": [
    "plt.imshow(slice_low, cmap='gray')"
   ]
  },
  {
   "cell_type": "code",
   "execution_count": null,
   "metadata": {},
   "outputs": [],
   "source": [
    "y_pred = np.load('/home/srivathsa/projects/studies/gad/all/inference/y_pred.npy')\n",
    "print(y_pred.shape)"
   ]
  },
  {
   "cell_type": "code",
   "execution_count": null,
   "metadata": {},
   "outputs": [],
   "source": [
    "pl.ImagePlot(y_pred[..., 0])"
   ]
  },
  {
   "cell_type": "code",
   "execution_count": null,
   "metadata": {},
   "outputs": [],
   "source": [
    "y_pred = np.load('/home/srivathsa/projects/studies/gad/all/inference/y_pred.npy')\n",
    "print(y_pred.shape)\n",
    "print(y_pred.dtype, y_pred.min(), y_pred.max())"
   ]
  },
  {
   "cell_type": "code",
   "execution_count": null,
   "metadata": {},
   "outputs": [],
   "source": [
    "plt.imshow(y_pred[96, ..., 0])"
   ]
  },
  {
   "cell_type": "code",
   "execution_count": null,
   "metadata": {},
   "outputs": [],
   "source": [
    "data = suio.load_file('/home/srivathsa/projects/studies/gad/tiantan/preprocess/data/NO57.h5', params={'h5_key': 'all'})\n",
    "uad = np.load('/home/srivathsa/projects/studies/gad/tiantan/preprocess/uad_masks/NO57.npy')"
   ]
  },
  {
   "cell_type": "code",
   "execution_count": null,
   "metadata": {},
   "outputs": [],
   "source": [
    "dz = data[0, :, 0]\n",
    "dl = data[0, :, 1]\n",
    "diff = dl-dz\n",
    "plt.imshow(diff[122])"
   ]
  },
  {
   "cell_type": "code",
   "execution_count": null,
   "metadata": {},
   "outputs": [],
   "source": [
    "uad_mask = (uad >= (uad.max() * 0.1))\n",
    "uad_mask = binary_erosion(uad_mask, selem=cube(7))\n",
    "uad_mod = uad * uad_mask\n",
    "dl_mod = dl + uad\n",
    "\n",
    "mask = (data[1, :, 1] > 0.1)\n",
    "dl_mod_mask = mask * dl_mod"
   ]
  },
  {
   "cell_type": "code",
   "execution_count": null,
   "metadata": {},
   "outputs": [],
   "source": [
    "data_mod = data.copy()\n",
    "data_mod[0, :, 1] = dl_mod\n",
    "data_mod[1, :, 1] = dl_mod_mask"
   ]
  },
  {
   "cell_type": "code",
   "execution_count": null,
   "metadata": {},
   "outputs": [],
   "source": [
    "suio.save_data_h5('/home/srivathsa/projects/studies/gad/tiantan/preprocess/data/NO57_mod.h5', \n",
    "                  data=data_mod[0], data_mask=data_mod[1])"
   ]
  },
  {
   "cell_type": "code",
   "execution_count": null,
   "metadata": {},
   "outputs": [],
   "source": [
    "ixi_data = nib.load('/mnt/datasets/srivathsa/ixi/normal/IXI020-Guys-0700-T2.nii.gz').get_data()\n",
    "sl = 60\n",
    "disp = np.rot90(ixi_data[..., sl])\n",
    "plt.imshow(disp)"
   ]
  },
  {
   "cell_type": "code",
   "execution_count": null,
   "metadata": {},
   "outputs": [],
   "source": [
    "data = np.load('/home/srivathsa/projects/studies/gad/all/preprocess/data/Patient_0400.npy')"
   ]
  },
  {
   "cell_type": "code",
   "execution_count": null,
   "metadata": {},
   "outputs": [],
   "source": [
    "data.shape"
   ]
  },
  {
   "cell_type": "code",
   "execution_count": null,
   "metadata": {},
   "outputs": [],
   "source": [
    "meta = suio.load_h5_metadata('/home/srivathsa/projects/studies/gad/all/preprocess/data/Patient_0400_meta.h5')"
   ]
  },
  {
   "cell_type": "code",
   "execution_count": null,
   "metadata": {},
   "outputs": [],
   "source": [
    "meta['zero_pad_size']"
   ]
  },
  {
   "cell_type": "code",
   "execution_count": null,
   "metadata": {},
   "outputs": [],
   "source": [
    "base_path = '/home/srivathsa/projects/studies/gad/yichun/data'\n",
    "cases = get_experiment_data('yichun', dirpath_exp='/home/srivathsa/projects/SubtleGad/train/configs/experiments')\n",
    "\n",
    "for cnum in tqdm(cases, total=len(cases)):\n",
    "    sers = [s for s in glob('{}/{}/*'.format(base_path, cnum))]\n",
    "    for dirpath_ser in sers:\n",
    "        ser_name = dirpath_ser.split('/')[-1]\n",
    "        new_sname = ser_name.replace(' ', '_')\n",
    "        snum = int(new_sname.split('_')[-1].replace('Series', ''))\n",
    "        ser_fp = '_'.join(new_sname.split('_')[:-1])\n",
    "        new_sname = '{}_Series_{}'.format(ser_fp, snum)\n",
    "        shutil.move(dirpath_ser, '{}/{}/{}'.format(base_path, cnum, new_sname))"
   ]
  },
  {
   "cell_type": "code",
   "execution_count": null,
   "metadata": {},
   "outputs": [],
   "source": [
    "dpath = '/home/srivathsa/projects/studies/gad/yichun/data/M034'\n",
    "for fp in glob('{}/**/*.dcm'.format(dpath), recursive=True):\n",
    "    try:\n",
    "        dcm = pydicom.dcmread(fp)\n",
    "    except Exception as exc:\n",
    "        print(fp, exc)"
   ]
  },
  {
   "cell_type": "code",
   "execution_count": null,
   "metadata": {},
   "outputs": [],
   "source": [
    "base_path = '/home/srivathsa/projects/studies/gad/stanford/preprocess/data'\n",
    "cases = get_experiment_data('stanford_sri', dirpath_exp='/home/srivathsa/projects/SubtleGad/train/configs/experiments',\n",
    "                           dataset='test')\n",
    "\n",
    "for cnum in cases:\n",
    "    if not os.path.isfile('{}/{}.npy'.format(base_path, cnum)):\n",
    "        print(cnum)\n"
   ]
  }
 ],
 "metadata": {
  "kernelspec": {
   "display_name": "Python 3 (ipykernel)",
   "language": "python",
   "name": "python3"
  },
  "language_info": {
   "codemirror_mode": {
    "name": "ipython",
    "version": 3
   },
   "file_extension": ".py",
   "mimetype": "text/x-python",
   "name": "python",
   "nbconvert_exporter": "python",
   "pygments_lexer": "ipython3",
   "version": "3.7.0"
  }
 },
 "nbformat": 4,
 "nbformat_minor": 2
}
