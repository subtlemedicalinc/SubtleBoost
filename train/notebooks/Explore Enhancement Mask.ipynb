{
 "cells": [
  {
   "cell_type": "code",
   "execution_count": null,
   "metadata": {},
   "outputs": [],
   "source": [
    "%reload_ext autoreload\n",
    "%autoreload 2\n",
    "\n",
    "import numpy as np\n",
    "import matplotlib.pyplot as plt\n",
    "import ipywidgets as widgets\n",
    "from ipywidgets import interact, interact_manual\n",
    "from matplotlib.patches import Rectangle\n",
    "from skimage.morphology import binary_dilation, square\n",
    "\n",
    "plt.set_cmap('gray')\n",
    "plt.rcParams['figure.figsize'] = (12, 10)\n",
    "\n",
    "import subtle.utils.io as suio\n",
    "import subtle.subtle_preprocess as supre\n",
    "\n",
    "def show_img(img, title='', axis=False, vmin=None, vmax=None, colorbar=False):\n",
    "    imshow_args = {}\n",
    "    \n",
    "    if vmin:\n",
    "        imshow_args['vmin'] = vmin\n",
    "    if vmax:\n",
    "        imshow_args['vmax'] = vmax\n",
    "    \n",
    "    im_axis = 'on' if axis else 'off'\n",
    "    plt.axis(im_axis)\n",
    "    plt.imshow(img, **imshow_args)\n",
    "    plt.title(title, fontsize=15)\n",
    "    if colorbar:\n",
    "        plt.colorbar()\n",
    "\n",
    "def show_gad_comparison(img_pre, img_low, img_post, vmin=None, vmax=None):\n",
    "    fig = plt.figure(figsize=(15, 10))\n",
    "    fig.tight_layout()\n",
    "\n",
    "    fig.add_subplot(1, 3, 1)\n",
    "    show_img(img_pre, title='Pre contrast', vmin=vmin, vmax=vmax)\n",
    "\n",
    "    fig.add_subplot(1, 3, 2)\n",
    "    show_img(img_low, title='10% dosage', vmin=vmin, vmax=vmax)\n",
    "\n",
    "    fig.add_subplot(1, 3, 3)\n",
    "    show_img(img_post, title='Full dosage', vmin=vmin, vmax=vmax)\n",
    "\n",
    "    plt.show()"
   ]
  },
  {
   "cell_type": "code",
   "execution_count": null,
   "metadata": {},
   "outputs": [],
   "source": [
    "from preprocess import _mask_npy\n",
    "from deepbrain import Extractor as BrainExtractor\n",
    "\n",
    "img_npy = np.load('/home/srivathsa/projects/studies/gad/gen_siemens/preprocess/test_571.npy')\n",
    "\n",
    "img_scale = np.interp(img_npy, (img_npy.min(), img_npy.max()), (0, 1))\n",
    "ext = BrainExtractor()\n",
    "segment_probs = ext.run(img_scale)\n",
    "\n",
    "prob = segment_probs > 0.5\n",
    "\n",
    "show_img(prob[88])"
   ]
  },
  {
   "cell_type": "code",
   "execution_count": null,
   "metadata": {},
   "outputs": [],
   "source": [
    "show_img(mask[88])"
   ]
  },
  {
   "cell_type": "code",
   "execution_count": null,
   "metadata": {},
   "outputs": [],
   "source": [
    "slice_idx = 69\n",
    "data, data_mask = np.load('/home/srivathsa/projects/studies/gad/tiantan/preprocess/data_256/Brain3H-600437593.npy')"
   ]
  },
  {
   "cell_type": "code",
   "execution_count": null,
   "metadata": {},
   "outputs": [],
   "source": [
    "zero_low = data_mask[slice_idx, 1] - data_mask[slice_idx, 0]\n",
    "zero_full = data_mask[slice_idx, 2] - data_mask[slice_idx, 0]\n",
    "\n",
    "mask_diff = (zero_full >= 0.5).astype(np.float32) - (zero_low >= 0.5).astype(np.float32)\n",
    "mask_diff = (np.interp(mask_diff, (mask_diff.min(), mask_diff.max()), (0, 1)) > 0.9).astype(np.float32)\n",
    "mask_diff = binary_dilation(mask_diff, selem=square(3)).astype(np.float32)\n",
    "\n",
    "mask_diff[mask_diff == 1] = zero_full.max()\n",
    "mask_diff[mask_diff == 0] = 1.0\n",
    "\n",
    "zero_full *= mask_diff\n",
    "zero_full = np.clip(zero_full, 0, zero_full.max())\n",
    "\n",
    "show_img(zero_full)\n",
    "# zero_low = np.interp(zero_low, (zero_low.min(), zero_low.max()), (0, 1))\n",
    "# zero_full = np.interp(zero_full, (zero_full.min(), zero_full.max()), (0, 1))\n",
    "\n",
    "# show_img(zero_low, colorbar=True)"
   ]
  },
  {
   "cell_type": "code",
   "execution_count": null,
   "metadata": {},
   "outputs": [],
   "source": [
    "batch_start = slice_idx-4\n",
    "batch_end = slice_idx+4\n",
    "\n",
    "X_batch = []\n",
    "Y_batch = []\n",
    "for idx in range(batch_start, batch_end):\n",
    "    X = data_mask[idx-3:idx+4, :2]\n",
    "    Y = data_mask[idx, None, 2]\n",
    "    \n",
    "    X_batch.append(X)\n",
    "    Y_batch.append(Y)\n",
    "\n",
    "X_batch = np.array(X_batch)\n",
    "Y_batch = np.array(Y_batch)[:, None, ...]\n",
    "\n",
    "print(X_batch.min(), X_batch.max())\n",
    "enh_mask = supre.enh_mask_smooth(X_batch, Y_batch, 3, p=1)[:, 0, 0, ...]\n",
    "print(enh_mask.min(), enh_mask.max())"
   ]
  },
  {
   "cell_type": "code",
   "execution_count": null,
   "metadata": {
    "scrolled": false
   },
   "outputs": [],
   "source": [
    "show_img(enh_mask[0], colorbar=True)"
   ]
  },
  {
   "cell_type": "code",
   "execution_count": null,
   "metadata": {},
   "outputs": [],
   "source": [
    "enh_mask_25 = supre.enh_mask_smooth(X_batch, Y_batch, 3, p=2.5)[:, 0, 0, ...]\n",
    "show_img(enh_mask_25[0])"
   ]
  },
  {
   "cell_type": "code",
   "execution_count": null,
   "metadata": {},
   "outputs": [],
   "source": [
    "import nibabel as nib\n",
    "\n",
    "# data = nib.load('/raid/srivathsa/aae/hcp_data/HCP/mgh_1001/MPRAGE_GradWarped_and_Defaced/2013-01-01_11_25_56.0/S227198/HCP_mgh_1001_MR_MPRAGE_GradWarped_and_Defaced_Br_20140919084711597_S227198_I444246.nii').get_data()\n",
    "data = nib.load('/raid/srivathsa/aae/hcp_data/HCP_T2/mgh_1001/T2_GradWarped_and_Defaced/2013-01-01_11_25_56.0/S227199/HCP_mgh_1001_MR_T2_GradWarped_and_Defaced_Br_20140919151202379_S227199_I444362.nii').get_data()\n",
    "data = data.transpose(2, 0, 1)\n",
    "\n"
   ]
  },
  {
   "cell_type": "code",
   "execution_count": null,
   "metadata": {},
   "outputs": [],
   "source": []
  }
 ],
 "metadata": {
  "kernelspec": {
   "display_name": "Python (py35gad)",
   "language": "python",
   "name": "py35gad"
  },
  "language_info": {
   "codemirror_mode": {
    "name": "ipython",
    "version": 3
   },
   "file_extension": ".py",
   "mimetype": "text/x-python",
   "name": "python",
   "nbconvert_exporter": "python",
   "pygments_lexer": "ipython3",
   "version": "3.6.0"
  }
 },
 "nbformat": 4,
 "nbformat_minor": 2
}
