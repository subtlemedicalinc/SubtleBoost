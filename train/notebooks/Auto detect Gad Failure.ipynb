{
 "cells": [
  {
   "cell_type": "code",
   "execution_count": 1,
   "id": "de12df13",
   "metadata": {},
   "outputs": [
    {
     "name": "stderr",
     "output_type": "stream",
     "text": [
      "/home/srivathsa/projects/SubtleGad/train/subtle/utils/hyperparameter.py:8: UserWarning: Module test_tube not found - hyperparameter related functions cannot be used\n",
      "  warnings.warn('Module test_tube not found - hyperparameter related functions cannot be used')\n"
     ]
    },
    {
     "data": {
      "text/plain": [
       "<Figure size 432x288 with 0 Axes>"
      ]
     },
     "metadata": {},
     "output_type": "display_data"
    }
   ],
   "source": [
    "%reload_ext autoreload\n",
    "%autoreload 2\n",
    "\n",
    "import os\n",
    "import numpy as np\n",
    "import matplotlib.pyplot as plt\n",
    "import pydicom\n",
    "import SimpleITK as sitk\n",
    "from skimage import color\n",
    "from skimage.filters import threshold_otsu, threshold_yen\n",
    "from skimage.morphology import cube\n",
    "import pandas as pd\n",
    "\n",
    "plt.set_cmap('gray')\n",
    "plt.rcParams['figure.figsize'] = (12, 10)\n",
    "\n",
    "from subtle.subtle_preprocess import register_im, scale_im, zoom_iso\n",
    "import subtle.utils.io as suio\n",
    "from subtle.utils.experiment import get_experiment_data\n",
    "from scipy.ndimage.morphology import binary_erosion, binary_dilation, binary_fill_holes\n",
    "from skimage.measure import label as cc_label, regionprops\n",
    "from ipywidgets import interact, interact_manual\n",
    "from subtle.subtle_metrics import ssim\n",
    "\n",
    "def get_rgb(img):\n",
    "    img = (img - np.min(img))/np.ptp(img)\n",
    "    return np.dstack((img, img, img))\n",
    "\n",
    "def overlay_mask(data, label, r=0.3, g=0.1, b=0.1):\n",
    "    data_rgb = get_rgb(data)\n",
    "\n",
    "    label_r = label * r\n",
    "    label_g = label * g\n",
    "    label_b = label * b\n",
    "    \n",
    "    label_rgb = np.dstack((label_r, label_g, label_b))\n",
    "\n",
    "    data_hsv = color.rgb2hsv(data_rgb)\n",
    "    label_hsv = color.rgb2hsv(label_rgb)\n",
    "\n",
    "    data_hsv[..., 0] = label_hsv[..., 0]\n",
    "    data_hsv[..., 1] = label_hsv[..., 1] * 0.55\n",
    "\n",
    "    return color.hsv2rgb(data_hsv)"
   ]
  },
  {
   "cell_type": "code",
   "execution_count": 7,
   "id": "38add6d6",
   "metadata": {},
   "outputs": [],
   "source": [
    "dirpath_gt = '/home/srivathsa/projects/studies/gad/stanford/preprocess/data'\n",
    "# dirpath_gt = '/home/srivathsa/projects/studies/gad/stanford/preprocess/data'\n",
    "dirpath_gad = '/home/srivathsa/projects/studies/gad/stanford/data/aa5daa_010c89'\n",
    "# dirpath_gad = '/home/srivathsa/projects/studies/gad/tiantan/data/df6604_5f740b'\n",
    "# dirpath_gad = '/home/srivathsa/projects/studies/gad/stanford/data/aa5daa_010c89'\n",
    "case_num = 'Patient_0120'\n",
    "ext = 'npy'\n",
    "thresh_pcnt = 0.25\n",
    "area_thresh = 500\n",
    "\n",
    "all_data = suio.load_file('{}/{}.{}'.format(dirpath_gt, case_num, ext), params={'h5_key': 'all'}).astype(np.float32)\n",
    "pc_mask = (all_data[1, :, 0] > 0)\n",
    "pre_con = all_data[0, :, 0]\n",
    "gt_full = all_data[0, :, 2]\n",
    "gt_data = all_data[1, :, 2]\n",
    "gt_data = gt_data / gt_data.mean()"
   ]
  },
  {
   "cell_type": "code",
   "execution_count": 8,
   "id": "f4c093a1",
   "metadata": {},
   "outputs": [],
   "source": [
    "gad_raw, _ = suio.dicom_files('{}/{}/{}_SubtleGad'.format(dirpath_gad, case_num, case_num))\n",
    "gad_raw = gad_raw / gad_raw.mean()"
   ]
  },
  {
   "cell_type": "code",
   "execution_count": 9,
   "id": "4dcab0ac",
   "metadata": {},
   "outputs": [
    {
     "name": "stdout",
     "output_type": "stream",
     "text": [
      "image registration\n",
      "registration done, 17.4 s\n",
      "image registration\n",
      "registration done, 17.1 s\n"
     ]
    }
   ],
   "source": [
    "pmap = sitk.GetDefaultParameterMap('affine')\n",
    "gt_reg, _ = register_im(pre_con, gt_full, param_map=pmap)\n",
    "gad_reg, _ = register_im(pre_con, gad_raw, param_map=pmap)"
   ]
  },
  {
   "cell_type": "code",
   "execution_count": 10,
   "id": "d79d324e",
   "metadata": {},
   "outputs": [
    {
     "name": "stdout",
     "output_type": "stream",
     "text": [
      "image intensity normalization\n",
      "scaling done, 3.46 s\n",
      "image intensity normalization\n",
      "scaling done, 3.32 s\n"
     ]
    }
   ],
   "source": [
    "gad_data = pc_mask * gad_reg\n",
    "gt_data = pc_mask * gt_data\n",
    "\n",
    "gt_data = np.interp(gt_data, (gt_data.min(), gt_data.max()), (0, 1))\n",
    "gad_data = np.interp(gad_data, (gad_data.min(), gad_data.max()), (0, 1))\n",
    "pc_data = all_data[1, :, 0]\n",
    "pc_data = pc_data / pc_data.mean()\n",
    "pc_data = np.interp(pc_data, (pc_data.min(), pc_data.max()), (0, 1))\n",
    "pc_data = scale_im(gt_data, pc_data)\n",
    "gad_data = scale_im(gt_data, gad_data)\n",
    "\n",
    "diff_gt = np.abs(gt_data - pc_data)\n",
    "diff_gt = diff_gt / diff_gt.mean()\n",
    "diff_gt = np.interp(diff_gt, (diff_gt.min(), diff_gt.max()), (0, 1))\n",
    "\n",
    "diff_gad = np.abs(gad_data - pc_data)\n",
    "diff_gad = diff_gad / diff_gad.mean()\n",
    "diff_gad = np.interp(diff_gad, (diff_gad.min(), diff_gad.max()), (0, 1))\n",
    "\n",
    "diff = np.abs(diff_gt - diff_gad)\n",
    "sl = 119\n",
    "# plt.imshow(np.hstack([pc_data[sl], gt_data[sl], gad_data[sl]]))\n",
    "# plt.imshow(np.hstack([diff_gt[sl], diff_gad[sl]]))\n",
    "# plt.imshow(diff[sl])"
   ]
  },
  {
   "cell_type": "code",
   "execution_count": 11,
   "id": "dda3bb32",
   "metadata": {
    "scrolled": false
   },
   "outputs": [
    {
     "data": {
      "application/vnd.jupyter.widget-view+json": {
       "model_id": "3e5356bd2c024431bfa870d956145807",
       "version_major": 2,
       "version_minor": 0
      },
      "text/plain": [
       "interactive(children=(IntSlider(value=123, description='idx', max=246), Output()), _dom_classes=('widget-inter…"
      ]
     },
     "metadata": {},
     "output_type": "display_data"
    }
   ],
   "source": [
    "mask_er = binary_erosion(pc_mask, iterations=5)\n",
    "diff = diff * mask_er\n",
    "\n",
    "# th = threshold_yen(diff, nbins=16)\n",
    "th = diff.max() * 0.25\n",
    "dmask = (diff >= th)\n",
    "\n",
    "# dmask = binary_erosion(dmask)\n",
    "dmask = binary_dilation(dmask)\n",
    "dmask = binary_fill_holes(dmask)\n",
    "dmask = dmask.astype(np.uint8)\n",
    "\n",
    "comps = cc_label(dmask)\n",
    "rprops = regionprops(comps)\n",
    "\n",
    "c_areas = [(r.label, r.area) for r in rprops]\n",
    "reg_filter = [c for c in c_areas if c[1] >= area_thresh]\n",
    "reg_filter = sorted(reg_filter, key=lambda c: c[1])[::-1]\n",
    "\n",
    "filt_masks = np.array([(comps == m) for m, _ in reg_filter])\n",
    "mask_comb = np.sum(filt_masks, axis=0).astype(np.uint8)\n",
    "nz_slices = np.sum(mask_comb, axis=(1, 2))\n",
    "disp_slices = [idx for (idx, sl_sum) in enumerate(nz_slices) if sl_sum >= 200]\n",
    "\n",
    "disp_imgs = []\n",
    "\n",
    "for sl_idx in disp_slices:\n",
    "    gt_rgb = overlay_mask(gt_data[sl_idx], mask_comb[sl_idx])\n",
    "    gad_rgb = overlay_mask(gad_data[sl_idx], mask_comb[sl_idx])\n",
    "    disp_imgs.append((sl_idx, np.hstack([gt_rgb, gad_rgb])))\n",
    "\n",
    "@interact\n",
    "def show_imgs(idx=(0, len(disp_imgs)-1, 1)):\n",
    "    plt.imshow(disp_imgs[idx][1])\n",
    "    plt.title('Index = {}'.format(disp_imgs[idx][0]))\n",
    "    plt.axis('off')"
   ]
  },
  {
   "cell_type": "code",
   "execution_count": 25,
   "id": "de780206",
   "metadata": {},
   "outputs": [],
   "source": [
    "bpath = '/home/srivathsa/projects/studies/gad/gen_siemens/data/Patient_0091'\n",
    "pre_con, pc_hdr = suio.dicom_files('{}/14_Ax_T1_MPRAGE'.format(bpath))\n",
    "low_con, _ = suio.dicom_files('{}/21_Ax_T1_MPRAGE_+C'.format(bpath))\n",
    "full_con, fc_hdr = suio.dicom_files('{}/29_Ax_T1_MPRAGE_+C'.format(bpath))\n",
    "\n",
    "pre_zoom, _ = zoom_iso(pre_con, np.array([1.0, 0.9375, 0.9375]), np.array([1.0, 0.5, 0.5]))\n",
    "pre_zoom = np.pad(pre_zoom, pad_width=[(0, 0), (16, 16), (38, 39)], mode='constant', constant_values=0)\n",
    "\n",
    "full_zoom, _ = zoom_iso(full_con, np.array([1.0, 0.9375, 0.9375]), np.array([1.0, 0.5, 0.5]))\n",
    "full_zoom = np.pad(full_zoom, pad_width=[(0, 0), (16, 16), (38, 39)], mode='constant', constant_values=0)"
   ]
  },
  {
   "cell_type": "code",
   "execution_count": 26,
   "id": "6228cf75",
   "metadata": {},
   "outputs": [],
   "source": [
    "dpath_ref = '/home/srivathsa/projects/studies/gad/gen_siemens/data/Patient_0091/21_Ax_T1_MPRAGE_+C'\n",
    "\n",
    "suio.write_dicoms(dpath_ref, pre_zoom, \n",
    "                  '/home/srivathsa/projects/studies/gad/gen_siemens/data/Patient_0091/14_Ax_T1_MPRAGE_RS',\n",
    "                  series_desc_pre='', series_num=14)"
   ]
  },
  {
   "cell_type": "code",
   "execution_count": 27,
   "id": "4718f417",
   "metadata": {},
   "outputs": [],
   "source": [
    "suio.write_dicoms(dpath_ref, full_zoom,\n",
    "                 '/home/srivathsa/projects/studies/gad/gen_siemens/data/Patient_0091/29_Ax_T1_MPRAGE_+C_RS',\n",
    "                 series_desc_pre='', series_num=29)"
   ]
  },
  {
   "cell_type": "code",
   "execution_count": 36,
   "id": "d61141a4",
   "metadata": {},
   "outputs": [],
   "source": [
    "meta = suio.load_h5_metadata('/home/srivathsa/projects/studies/gad/gen_siemens/preprocess/data/Patient_0539_meta.h5')\n",
    "meta['old_spacing_zero'] = meta['pixel_spacing_zero']\n",
    "meta['old_spacing_low'] = meta['pixel_spacing_low']\n",
    "meta['old_spacing_full'] = meta['pixel_spacing_full']"
   ]
  },
  {
   "cell_type": "code",
   "execution_count": 37,
   "id": "58161052",
   "metadata": {},
   "outputs": [
    {
     "data": {
      "text/plain": [
       "0"
      ]
     },
     "execution_count": 37,
     "metadata": {},
     "output_type": "execute_result"
    }
   ],
   "source": [
    "suio.save_meta_h5('/home/srivathsa/projects/studies/gad/gen_siemens/preprocess/data/Patient_0539_meta.h5', meta)"
   ]
  },
  {
   "cell_type": "code",
   "execution_count": 51,
   "id": "9ea8785a",
   "metadata": {},
   "outputs": [],
   "source": [
    "df_inf = pd.read_csv('/home/srivathsa/projects/studies/gad/gad_inf_repo.csv')\n",
    "df_filt = df_inf[df_inf['Read?'] == 'No']"
   ]
  },
  {
   "cell_type": "code",
   "execution_count": 52,
   "id": "315a5bc3",
   "metadata": {},
   "outputs": [],
   "source": [
    "local_cases = [d['Case'] for d in df_filt.to_dict(orient='records') if 'LOCAL' in d['Inference_Path']]"
   ]
  },
  {
   "cell_type": "code",
   "execution_count": 53,
   "id": "08d54b8c",
   "metadata": {},
   "outputs": [
    {
     "name": "stdout",
     "output_type": "stream",
     "text": [
      "46\n"
     ]
    }
   ],
   "source": [
    "print(len(local_cases))"
   ]
  },
  {
   "cell_type": "code",
   "execution_count": null,
   "id": "8d1c1aa9",
   "metadata": {},
   "outputs": [],
   "source": []
  }
 ],
 "metadata": {
  "kernelspec": {
   "display_name": "Python (py35gad)",
   "language": "python",
   "name": "py35gad"
  },
  "language_info": {
   "codemirror_mode": {
    "name": "ipython",
    "version": 3
   },
   "file_extension": ".py",
   "mimetype": "text/x-python",
   "name": "python",
   "nbconvert_exporter": "python",
   "pygments_lexer": "ipython3",
   "version": "3.6.0"
  }
 },
 "nbformat": 4,
 "nbformat_minor": 5
}
