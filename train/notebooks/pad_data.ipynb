{
 "cells": [
  {
   "cell_type": "code",
   "execution_count": 2,
   "id": "faed6090",
   "metadata": {},
   "outputs": [],
   "source": [
    "from subtle.utils.io import load_h5_file, save_data_h5\n",
    "import glob\n",
    "import os\n",
    "import numpy as np\n",
    "from tqdm import tqdm"
   ]
  },
  {
   "cell_type": "code",
   "execution_count": 10,
   "id": "c0c00a29",
   "metadata": {},
   "outputs": [
    {
     "data": {
      "text/plain": [
       "['/home/srivathsa/projects/studies/gad/tiantan/preprocess/data/NO68.h5',\n",
       " '/home/srivathsa/projects/studies/gad/tiantan/preprocess/data/NO131.h5',\n",
       " '/home/srivathsa/projects/studies/gad/tiantan/preprocess/data/NO65.h5',\n",
       " '/home/srivathsa/projects/studies/gad/tiantan/preprocess/data/NO50.h5',\n",
       " '/home/srivathsa/projects/studies/gad/tiantan/preprocess/data/NO129.h5',\n",
       " '/home/srivathsa/projects/studies/gad/tiantan/preprocess/data/NO12.h5',\n",
       " '/home/srivathsa/projects/studies/gad/tiantan/preprocess/data/NO105.h5',\n",
       " '/home/srivathsa/projects/studies/gad/tiantan/preprocess/data/NO15.h5',\n",
       " '/home/srivathsa/projects/studies/gad/tiantan/preprocess/data/NO59.h5',\n",
       " '/home/srivathsa/projects/studies/gad/tiantan/preprocess/data/NO113.h5',\n",
       " '/home/srivathsa/projects/studies/gad/tiantan/preprocess/data/NO76.h5',\n",
       " '/home/srivathsa/projects/studies/gad/tiantan/preprocess/data/NO31.h5',\n",
       " '/home/srivathsa/projects/studies/gad/tiantan/preprocess/data/NO28.h5',\n",
       " '/home/srivathsa/projects/studies/gad/tiantan/preprocess/data/NO109.h5',\n",
       " '/home/srivathsa/projects/studies/gad/tiantan/preprocess/data/NO56.h5',\n",
       " '/home/srivathsa/projects/studies/gad/tiantan/preprocess/data/NO62.h5',\n",
       " '/home/srivathsa/projects/studies/gad/tiantan/preprocess/data/NO82.h5',\n",
       " '/home/srivathsa/projects/studies/gad/tiantan/preprocess/data/NO47.h5',\n",
       " '/home/srivathsa/projects/studies/gad/tiantan/preprocess/data/NO26.h5',\n",
       " '/home/srivathsa/projects/studies/gad/tiantan/preprocess/data/NO44.h5',\n",
       " '/home/srivathsa/projects/studies/gad/tiantan/preprocess/data/NO57.h5',\n",
       " '/home/srivathsa/projects/studies/gad/tiantan/preprocess/data/NO19.h5',\n",
       " '/home/srivathsa/projects/studies/gad/tiantan/preprocess/data/NO118.h5',\n",
       " '/home/srivathsa/projects/studies/gad/tiantan/preprocess/data/NO36.h5',\n",
       " '/home/srivathsa/projects/studies/gad/tiantan/preprocess/data/NO75.h5',\n",
       " '/home/srivathsa/projects/studies/gad/tiantan/preprocess/data/NO74.h5',\n",
       " '/home/srivathsa/projects/studies/gad/tiantan/preprocess/data/NO17.h5',\n",
       " '/home/srivathsa/projects/studies/gad/tiantan/preprocess/data/NO57_mod.h5',\n",
       " '/home/srivathsa/projects/studies/gad/tiantan/preprocess/data/NO1.h5',\n",
       " '/home/srivathsa/projects/studies/gad/tiantan/preprocess/data/NO112.h5',\n",
       " '/home/srivathsa/projects/studies/gad/tiantan/preprocess/data/NO46.h5',\n",
       " '/home/srivathsa/projects/studies/gad/tiantan/preprocess/data/NO104.h5',\n",
       " '/home/srivathsa/projects/studies/gad/tiantan/preprocess/data/NO66.h5',\n",
       " '/home/srivathsa/projects/studies/gad/tiantan/preprocess/data/NO42.h5',\n",
       " '/home/srivathsa/projects/studies/gad/tiantan/preprocess/data/NO103.h5',\n",
       " '/home/srivathsa/projects/studies/gad/tiantan/preprocess/data/NO67.h5',\n",
       " '/home/srivathsa/projects/studies/gad/tiantan/preprocess/data/NO61.h5',\n",
       " '/home/srivathsa/projects/studies/gad/tiantan/preprocess/data/NO127.h5',\n",
       " '/home/srivathsa/projects/studies/gad/tiantan/preprocess/data/NO119.h5',\n",
       " '/home/srivathsa/projects/studies/gad/tiantan/preprocess/data/NO25.h5',\n",
       " '/home/srivathsa/projects/studies/gad/tiantan/preprocess/data/NO48.h5',\n",
       " '/home/srivathsa/projects/studies/gad/tiantan/preprocess/data/NO120.h5',\n",
       " '/home/srivathsa/projects/studies/gad/tiantan/preprocess/data/NO43.h5',\n",
       " '/home/srivathsa/projects/studies/gad/tiantan/preprocess/data/NO32.h5',\n",
       " '/home/srivathsa/projects/studies/gad/tiantan/preprocess/data/NO79.h5',\n",
       " '/home/srivathsa/projects/studies/gad/tiantan/preprocess/data/NO21.h5',\n",
       " '/home/srivathsa/projects/studies/gad/tiantan/preprocess/data/NO16.h5',\n",
       " '/home/srivathsa/projects/studies/gad/tiantan/preprocess/data/NO34.h5',\n",
       " '/home/srivathsa/projects/studies/gad/tiantan/preprocess/data/NO41.h5',\n",
       " '/home/srivathsa/projects/studies/gad/tiantan/preprocess/data/NO53.h5',\n",
       " '/home/srivathsa/projects/studies/gad/tiantan/preprocess/data/NO63.h5',\n",
       " '/home/srivathsa/projects/studies/gad/tiantan/preprocess/data/NO38.h5',\n",
       " '/home/srivathsa/projects/studies/gad/tiantan/preprocess/data/NO107.h5',\n",
       " '/home/srivathsa/projects/studies/gad/tiantan/preprocess/data/NO121.h5',\n",
       " '/home/srivathsa/projects/studies/gad/tiantan/preprocess/data/NO9.h5',\n",
       " '/home/srivathsa/projects/studies/gad/tiantan/preprocess/data/NO52.h5',\n",
       " '/home/srivathsa/projects/studies/gad/tiantan/preprocess/data/NO78.h5',\n",
       " '/home/srivathsa/projects/studies/gad/tiantan/preprocess/data/NO8.h5',\n",
       " '/home/srivathsa/projects/studies/gad/tiantan/preprocess/data/NO73.h5',\n",
       " '/home/srivathsa/projects/studies/gad/tiantan/preprocess/data/NO5.h5',\n",
       " '/home/srivathsa/projects/studies/gad/tiantan/preprocess/data/NO117.h5',\n",
       " '/home/srivathsa/projects/studies/gad/tiantan/preprocess/data/NO35.h5',\n",
       " '/home/srivathsa/projects/studies/gad/tiantan/preprocess/data/NO125.h5',\n",
       " '/home/srivathsa/projects/studies/gad/tiantan/preprocess/data/NO115.h5',\n",
       " '/home/srivathsa/projects/studies/gad/tiantan/preprocess/data/NO110.h5',\n",
       " '/home/srivathsa/projects/studies/gad/tiantan/preprocess/data/NO114.h5',\n",
       " '/home/srivathsa/projects/studies/gad/tiantan/preprocess/data/NO116.h5',\n",
       " '/home/srivathsa/projects/studies/gad/tiantan/preprocess/data/NO6.h5',\n",
       " '/home/srivathsa/projects/studies/gad/tiantan/preprocess/data/NO3.h5',\n",
       " '/home/srivathsa/projects/studies/gad/tiantan/preprocess/data/NO29.h5',\n",
       " '/home/srivathsa/projects/studies/gad/tiantan/preprocess/data/NO123.h5',\n",
       " '/home/srivathsa/projects/studies/gad/tiantan/preprocess/data/NO130.h5',\n",
       " '/home/srivathsa/projects/studies/gad/tiantan/preprocess/data/NO24.h5',\n",
       " '/home/srivathsa/projects/studies/gad/tiantan/preprocess/data/NO70.h5',\n",
       " '/home/srivathsa/projects/studies/gad/tiantan/preprocess/data/NO72.h5',\n",
       " '/home/srivathsa/projects/studies/gad/tiantan/preprocess/data/NO124.h5',\n",
       " '/home/srivathsa/projects/studies/gad/tiantan/preprocess/data/NO80.h5',\n",
       " '/home/srivathsa/projects/studies/gad/tiantan/preprocess/data/NO58.h5',\n",
       " '/home/srivathsa/projects/studies/gad/tiantan/preprocess/data/NO102.h5',\n",
       " '/home/srivathsa/projects/studies/gad/tiantan/preprocess/data/NO83.h5',\n",
       " '/home/srivathsa/projects/studies/gad/tiantan/preprocess/data/NO106.h5',\n",
       " '/home/srivathsa/projects/studies/gad/tiantan/preprocess/data/NO7.h5',\n",
       " '/home/srivathsa/projects/studies/gad/tiantan/preprocess/data/NO77.h5',\n",
       " '/home/srivathsa/projects/studies/gad/tiantan/preprocess/data/NO122.h5',\n",
       " '/home/srivathsa/projects/studies/gad/tiantan/preprocess/data/NO60.h5',\n",
       " '/home/srivathsa/projects/studies/gad/tiantan/preprocess/data/NO10.h5',\n",
       " '/home/srivathsa/projects/studies/gad/tiantan/preprocess/data/NO126.h5',\n",
       " '/home/srivathsa/projects/studies/gad/tiantan/preprocess/data/NO81.h5',\n",
       " '/home/srivathsa/projects/studies/gad/tiantan/preprocess/data/NO55.h5',\n",
       " '/home/srivathsa/projects/studies/gad/tiantan/preprocess/data/NO23.h5',\n",
       " '/home/srivathsa/projects/studies/gad/tiantan/preprocess/data/NO18.h5',\n",
       " '/home/srivathsa/projects/studies/gad/tiantan/preprocess/data/NO64.h5',\n",
       " '/home/srivathsa/projects/studies/gad/tiantan/preprocess/data/NO69.h5',\n",
       " '/home/srivathsa/projects/studies/gad/tiantan/preprocess/data/NO45.h5',\n",
       " '/home/srivathsa/projects/studies/gad/tiantan/preprocess/data/NO4.h5',\n",
       " '/home/srivathsa/projects/studies/gad/tiantan/preprocess/data/NO39.h5',\n",
       " '/home/srivathsa/projects/studies/gad/tiantan/preprocess/data/NO13.h5',\n",
       " '/home/srivathsa/projects/studies/gad/tiantan/preprocess/data/NO11.h5',\n",
       " '/home/srivathsa/projects/studies/gad/tiantan/preprocess/data/NO37.h5',\n",
       " '/home/srivathsa/projects/studies/gad/tiantan/preprocess/data/NO128.h5',\n",
       " '/home/srivathsa/projects/studies/gad/tiantan/preprocess/data/NO71.h5',\n",
       " '/home/srivathsa/projects/studies/gad/tiantan/preprocess/data/NO27.h5',\n",
       " '/home/srivathsa/projects/studies/gad/tiantan/preprocess/data/NO14.h5',\n",
       " '/home/srivathsa/projects/studies/gad/tiantan/preprocess/data/NO51.h5',\n",
       " '/home/srivathsa/projects/studies/gad/tiantan/preprocess/data/NO54.h5',\n",
       " '/home/srivathsa/projects/studies/gad/tiantan/preprocess/data/NO40.h5',\n",
       " '/home/srivathsa/projects/studies/gad/tiantan/preprocess/data/NO132.h5',\n",
       " '/home/srivathsa/projects/studies/gad/tiantan/preprocess/data/NO133.h5',\n",
       " '/home/srivathsa/projects/studies/gad/tiantan/preprocess/data/NO2.h5',\n",
       " '/home/srivathsa/projects/studies/gad/tiantan/preprocess/data/NO33.h5',\n",
       " '/home/srivathsa/projects/studies/gad/tiantan/preprocess/data/NO22.h5',\n",
       " '/home/srivathsa/projects/studies/gad/tiantan/preprocess/data/NO20.h5',\n",
       " '/home/srivathsa/projects/studies/gad/tiantan/preprocess/data/NO101.h5',\n",
       " '/home/srivathsa/projects/studies/gad/tiantan/preprocess/data/NO108.h5',\n",
       " '/home/srivathsa/projects/studies/gad/tiantan/preprocess/data/NO49.h5',\n",
       " '/home/srivathsa/projects/studies/gad/tiantan/preprocess/data/NO30.h5',\n",
       " '/home/srivathsa/projects/studies/gad/tiantan/preprocess/data/NO111.h5',\n",
       " '/home/srivathsa/projects/studies/gad/tiantan/preprocess/data/Brain3H-600437593.h5',\n",
       " '/home/srivathsa/projects/studies/gad/tiantan/preprocess/data/Brain5H-601047608.h5',\n",
       " '/home/srivathsa/projects/studies/gad/tiantan/preprocess/data/Brain2H-600441599.h5',\n",
       " '/home/srivathsa/projects/studies/gad/tiantan/preprocess/data/Brain4H-601044594.h5',\n",
       " '/home/srivathsa/projects/studies/gad/tiantan/preprocess/data/Case1.h5']"
      ]
     },
     "execution_count": 10,
     "metadata": {},
     "output_type": "execute_result"
    }
   ],
   "source": [
    "src_files = glob.glob(\"/home/srivathsa/projects/studies/gad/tiantan/preprocess/data/NO*[!meta].h5\")\n",
    "src_files += glob.glob(\"/home/srivathsa/projects/studies/gad/tiantan/preprocess/data/Brain*[!meta].h5\")\n",
    "src_files += glob.glob(\"/home/srivathsa/projects/studies/gad/tiantan/preprocess/data/Case*[!meta].h5\")\n",
    "dst_dir = \"/raid/jiang/projects/SubtleGad/tiantan/data_256\"\n",
    "os.makedirs(dst_dir, exist_ok=True)\n",
    "src_files"
   ]
  },
  {
   "cell_type": "code",
   "execution_count": 14,
   "id": "92a12fa7",
   "metadata": {},
   "outputs": [
    {
     "name": "stderr",
     "output_type": "stream",
     "text": [
      "\r",
      "  0%|          | 0/122 [00:00<?, ?it/s]"
     ]
    },
    {
     "name": "stdout",
     "output_type": "stream",
     "text": [
      "/home/srivathsa/projects/studies/gad/tiantan/preprocess/data/NO68.h5\n",
      "loaded\n",
      "(196, 4, 256, 256)\n",
      "/raid/jiang/projects/SubtleGad/tiantan/data_256/NO68.h5\n"
     ]
    },
    {
     "name": "stderr",
     "output_type": "stream",
     "text": [
      "\r",
      "  1%|          | 1/122 [00:03<06:17,  3.12s/it]"
     ]
    },
    {
     "name": "stdout",
     "output_type": "stream",
     "text": [
      "saved\n",
      "/home/srivathsa/projects/studies/gad/tiantan/preprocess/data/NO131.h5\n",
      "loaded\n",
      "(196, 3, 256, 256)\n",
      "/raid/jiang/projects/SubtleGad/tiantan/data_256/NO131.h5\n"
     ]
    },
    {
     "name": "stderr",
     "output_type": "stream",
     "text": [
      "\r",
      "  2%|▏         | 2/122 [00:05<05:19,  2.66s/it]"
     ]
    },
    {
     "name": "stdout",
     "output_type": "stream",
     "text": [
      "saved\n",
      "/home/srivathsa/projects/studies/gad/tiantan/preprocess/data/NO65.h5\n",
      "loaded\n",
      "(196, 4, 256, 256)\n",
      "/raid/jiang/projects/SubtleGad/tiantan/data_256/NO65.h5\n"
     ]
    },
    {
     "name": "stderr",
     "output_type": "stream",
     "text": [
      "\r",
      "  2%|▏         | 3/122 [00:08<05:54,  2.98s/it]"
     ]
    },
    {
     "name": "stdout",
     "output_type": "stream",
     "text": [
      "saved\n",
      "/home/srivathsa/projects/studies/gad/tiantan/preprocess/data/NO50.h5\n",
      "loaded\n",
      "(196, 4, 256, 256)\n",
      "/raid/jiang/projects/SubtleGad/tiantan/data_256/NO50.h5\n"
     ]
    },
    {
     "name": "stderr",
     "output_type": "stream",
     "text": [
      "\r",
      "  3%|▎         | 4/122 [00:12<06:39,  3.38s/it]"
     ]
    },
    {
     "name": "stdout",
     "output_type": "stream",
     "text": [
      "saved\n",
      "/home/srivathsa/projects/studies/gad/tiantan/preprocess/data/NO129.h5\n",
      "loaded\n",
      "(196, 3, 256, 256)\n",
      "/raid/jiang/projects/SubtleGad/tiantan/data_256/NO129.h5\n"
     ]
    },
    {
     "name": "stderr",
     "output_type": "stream",
     "text": [
      "\r",
      "  4%|▍         | 5/122 [00:14<05:04,  2.61s/it]"
     ]
    },
    {
     "name": "stdout",
     "output_type": "stream",
     "text": [
      "saved\n",
      "/home/srivathsa/projects/studies/gad/tiantan/preprocess/data/NO12.h5\n",
      "loaded\n",
      "(196, 4, 256, 256)\n",
      "/raid/jiang/projects/SubtleGad/tiantan/data_256/NO12.h5\n"
     ]
    },
    {
     "name": "stderr",
     "output_type": "stream",
     "text": [
      "\r",
      "  5%|▍         | 6/122 [00:17<05:35,  2.89s/it]"
     ]
    },
    {
     "name": "stdout",
     "output_type": "stream",
     "text": [
      "saved\n",
      "/home/srivathsa/projects/studies/gad/tiantan/preprocess/data/NO105.h5\n",
      "loaded\n",
      "(196, 3, 256, 256)\n",
      "/raid/jiang/projects/SubtleGad/tiantan/data_256/NO105.h5\n"
     ]
    },
    {
     "name": "stderr",
     "output_type": "stream",
     "text": [
      "\r",
      "  6%|▌         | 7/122 [00:18<04:31,  2.36s/it]"
     ]
    },
    {
     "name": "stdout",
     "output_type": "stream",
     "text": [
      "saved\n",
      "/home/srivathsa/projects/studies/gad/tiantan/preprocess/data/NO15.h5\n",
      "loaded\n",
      "(196, 4, 256, 256)\n",
      "/raid/jiang/projects/SubtleGad/tiantan/data_256/NO15.h5\n"
     ]
    },
    {
     "name": "stderr",
     "output_type": "stream",
     "text": [
      "\r",
      "  7%|▋         | 8/122 [00:21<04:57,  2.61s/it]"
     ]
    },
    {
     "name": "stdout",
     "output_type": "stream",
     "text": [
      "saved\n",
      "/home/srivathsa/projects/studies/gad/tiantan/preprocess/data/NO59.h5\n",
      "loaded\n",
      "(196, 4, 256, 256)\n",
      "/raid/jiang/projects/SubtleGad/tiantan/data_256/NO59.h5\n"
     ]
    },
    {
     "name": "stderr",
     "output_type": "stream",
     "text": [
      "\r",
      "  7%|▋         | 9/122 [00:25<05:41,  3.02s/it]"
     ]
    },
    {
     "name": "stdout",
     "output_type": "stream",
     "text": [
      "saved\n",
      "/home/srivathsa/projects/studies/gad/tiantan/preprocess/data/NO113.h5\n",
      "loaded\n",
      "(196, 3, 256, 256)\n",
      "/raid/jiang/projects/SubtleGad/tiantan/data_256/NO113.h5\n"
     ]
    },
    {
     "name": "stderr",
     "output_type": "stream",
     "text": [
      "\r",
      "  8%|▊         | 10/122 [00:27<04:37,  2.48s/it]"
     ]
    },
    {
     "name": "stdout",
     "output_type": "stream",
     "text": [
      "saved\n",
      "/home/srivathsa/projects/studies/gad/tiantan/preprocess/data/NO76.h5\n",
      "loaded\n",
      "(196, 4, 256, 256)\n",
      "/raid/jiang/projects/SubtleGad/tiantan/data_256/NO76.h5\n"
     ]
    },
    {
     "name": "stderr",
     "output_type": "stream",
     "text": [
      "\r",
      "  9%|▉         | 11/122 [00:30<05:11,  2.81s/it]"
     ]
    },
    {
     "name": "stdout",
     "output_type": "stream",
     "text": [
      "saved\n",
      "/home/srivathsa/projects/studies/gad/tiantan/preprocess/data/NO31.h5\n",
      "loaded\n",
      "(196, 4, 256, 256)\n",
      "/raid/jiang/projects/SubtleGad/tiantan/data_256/NO31.h5\n"
     ]
    },
    {
     "name": "stderr",
     "output_type": "stream",
     "text": [
      "\r",
      " 10%|▉         | 12/122 [00:33<05:24,  2.95s/it]"
     ]
    },
    {
     "name": "stdout",
     "output_type": "stream",
     "text": [
      "saved\n",
      "/home/srivathsa/projects/studies/gad/tiantan/preprocess/data/NO28.h5\n",
      "loaded\n",
      "(196, 4, 256, 256)\n",
      "/raid/jiang/projects/SubtleGad/tiantan/data_256/NO28.h5\n"
     ]
    },
    {
     "name": "stderr",
     "output_type": "stream",
     "text": [
      "\r",
      " 11%|█         | 13/122 [00:37<05:27,  3.01s/it]"
     ]
    },
    {
     "name": "stdout",
     "output_type": "stream",
     "text": [
      "saved\n",
      "/home/srivathsa/projects/studies/gad/tiantan/preprocess/data/NO109.h5\n",
      "loaded\n",
      "(196, 3, 256, 256)\n",
      "/raid/jiang/projects/SubtleGad/tiantan/data_256/NO109.h5\n"
     ]
    },
    {
     "name": "stderr",
     "output_type": "stream",
     "text": [
      "\r",
      " 11%|█▏        | 14/122 [00:38<04:30,  2.50s/it]"
     ]
    },
    {
     "name": "stdout",
     "output_type": "stream",
     "text": [
      "saved\n",
      "/home/srivathsa/projects/studies/gad/tiantan/preprocess/data/NO56.h5\n",
      "loaded\n",
      "(196, 4, 256, 256)\n",
      "/raid/jiang/projects/SubtleGad/tiantan/data_256/NO56.h5\n"
     ]
    },
    {
     "name": "stderr",
     "output_type": "stream",
     "text": [
      "\r",
      " 12%|█▏        | 15/122 [00:41<04:46,  2.68s/it]"
     ]
    },
    {
     "name": "stdout",
     "output_type": "stream",
     "text": [
      "saved\n",
      "/home/srivathsa/projects/studies/gad/tiantan/preprocess/data/NO62.h5\n",
      "loaded\n",
      "(196, 4, 256, 256)\n",
      "/raid/jiang/projects/SubtleGad/tiantan/data_256/NO62.h5\n"
     ]
    },
    {
     "name": "stderr",
     "output_type": "stream",
     "text": [
      "\r",
      " 13%|█▎        | 16/122 [01:04<15:35,  8.83s/it]"
     ]
    },
    {
     "name": "stdout",
     "output_type": "stream",
     "text": [
      "saved\n",
      "/home/srivathsa/projects/studies/gad/tiantan/preprocess/data/NO82.h5\n",
      "loaded\n",
      "(196, 3, 256, 256)\n",
      "/raid/jiang/projects/SubtleGad/tiantan/data_256/NO82.h5\n"
     ]
    },
    {
     "name": "stderr",
     "output_type": "stream",
     "text": [
      "\r",
      " 14%|█▍        | 17/122 [01:05<11:27,  6.55s/it]"
     ]
    },
    {
     "name": "stdout",
     "output_type": "stream",
     "text": [
      "saved\n",
      "/home/srivathsa/projects/studies/gad/tiantan/preprocess/data/NO47.h5\n",
      "loaded\n",
      "(165, 4, 256, 256)\n",
      "/raid/jiang/projects/SubtleGad/tiantan/data_256/NO47.h5\n"
     ]
    },
    {
     "name": "stderr",
     "output_type": "stream",
     "text": [
      "\r",
      " 15%|█▍        | 18/122 [01:08<09:18,  5.37s/it]"
     ]
    },
    {
     "name": "stdout",
     "output_type": "stream",
     "text": [
      "saved\n",
      "/home/srivathsa/projects/studies/gad/tiantan/preprocess/data/NO26.h5\n",
      "loaded\n",
      "(196, 4, 256, 256)\n",
      "/raid/jiang/projects/SubtleGad/tiantan/data_256/NO26.h5\n"
     ]
    },
    {
     "name": "stderr",
     "output_type": "stream",
     "text": [
      "\r",
      " 16%|█▌        | 19/122 [01:11<08:02,  4.68s/it]"
     ]
    },
    {
     "name": "stdout",
     "output_type": "stream",
     "text": [
      "saved\n",
      "/home/srivathsa/projects/studies/gad/tiantan/preprocess/data/NO44.h5\n",
      "loaded\n",
      "(196, 4, 256, 256)\n",
      "/raid/jiang/projects/SubtleGad/tiantan/data_256/NO44.h5\n"
     ]
    },
    {
     "name": "stderr",
     "output_type": "stream",
     "text": [
      "\r",
      " 16%|█▋        | 20/122 [01:14<07:12,  4.24s/it]"
     ]
    },
    {
     "name": "stdout",
     "output_type": "stream",
     "text": [
      "saved\n",
      "/home/srivathsa/projects/studies/gad/tiantan/preprocess/data/NO57.h5\n",
      "loaded\n",
      "(196, 4, 256, 256)\n",
      "/raid/jiang/projects/SubtleGad/tiantan/data_256/NO57.h5\n"
     ]
    },
    {
     "name": "stderr",
     "output_type": "stream",
     "text": [
      "\r",
      " 17%|█▋        | 21/122 [01:17<06:37,  3.93s/it]"
     ]
    },
    {
     "name": "stdout",
     "output_type": "stream",
     "text": [
      "saved\n",
      "/home/srivathsa/projects/studies/gad/tiantan/preprocess/data/NO19.h5\n",
      "loaded\n",
      "(196, 4, 256, 256)\n",
      "/raid/jiang/projects/SubtleGad/tiantan/data_256/NO19.h5\n"
     ]
    },
    {
     "name": "stderr",
     "output_type": "stream",
     "text": [
      "\r",
      " 18%|█▊        | 22/122 [01:21<06:24,  3.85s/it]"
     ]
    },
    {
     "name": "stdout",
     "output_type": "stream",
     "text": [
      "saved\n",
      "/home/srivathsa/projects/studies/gad/tiantan/preprocess/data/NO118.h5\n",
      "loaded\n",
      "(196, 3, 256, 256)\n",
      "/raid/jiang/projects/SubtleGad/tiantan/data_256/NO118.h5\n"
     ]
    },
    {
     "name": "stderr",
     "output_type": "stream",
     "text": [
      "\r",
      " 19%|█▉        | 23/122 [01:22<05:03,  3.07s/it]"
     ]
    },
    {
     "name": "stdout",
     "output_type": "stream",
     "text": [
      "saved\n",
      "/home/srivathsa/projects/studies/gad/tiantan/preprocess/data/NO36.h5\n",
      "loaded\n",
      "(196, 4, 256, 256)\n",
      "/raid/jiang/projects/SubtleGad/tiantan/data_256/NO36.h5\n"
     ]
    },
    {
     "name": "stderr",
     "output_type": "stream",
     "text": [
      "\r",
      " 20%|█▉        | 24/122 [01:30<07:09,  4.38s/it]"
     ]
    },
    {
     "name": "stdout",
     "output_type": "stream",
     "text": [
      "saved\n",
      "/home/srivathsa/projects/studies/gad/tiantan/preprocess/data/NO75.h5\n",
      "loaded\n",
      "(196, 4, 256, 256)\n",
      "/raid/jiang/projects/SubtleGad/tiantan/data_256/NO75.h5\n"
     ]
    },
    {
     "name": "stderr",
     "output_type": "stream",
     "text": [
      "\r",
      " 20%|██        | 25/122 [01:33<06:29,  4.02s/it]"
     ]
    },
    {
     "name": "stdout",
     "output_type": "stream",
     "text": [
      "saved\n",
      "/home/srivathsa/projects/studies/gad/tiantan/preprocess/data/NO74.h5\n",
      "loaded\n",
      "(196, 4, 256, 256)\n",
      "/raid/jiang/projects/SubtleGad/tiantan/data_256/NO74.h5\n"
     ]
    },
    {
     "name": "stderr",
     "output_type": "stream",
     "text": [
      "\r",
      " 21%|██▏       | 26/122 [01:36<06:08,  3.84s/it]"
     ]
    },
    {
     "name": "stdout",
     "output_type": "stream",
     "text": [
      "saved\n",
      "/home/srivathsa/projects/studies/gad/tiantan/preprocess/data/NO17.h5\n",
      "loaded\n",
      "(196, 4, 256, 256)\n",
      "/raid/jiang/projects/SubtleGad/tiantan/data_256/NO17.h5\n"
     ]
    },
    {
     "name": "stderr",
     "output_type": "stream",
     "text": [
      "\r",
      " 22%|██▏       | 27/122 [01:51<11:20,  7.16s/it]"
     ]
    },
    {
     "name": "stdout",
     "output_type": "stream",
     "text": [
      "saved\n",
      "/home/srivathsa/projects/studies/gad/tiantan/preprocess/data/NO57_mod.h5\n",
      "loaded\n",
      "(196, 3, 256, 256)\n",
      "/raid/jiang/projects/SubtleGad/tiantan/data_256/NO57_mod.h5\n"
     ]
    },
    {
     "name": "stderr",
     "output_type": "stream",
     "text": [
      "\r",
      " 23%|██▎       | 28/122 [01:54<08:56,  5.71s/it]"
     ]
    },
    {
     "name": "stdout",
     "output_type": "stream",
     "text": [
      "saved\n",
      "/home/srivathsa/projects/studies/gad/tiantan/preprocess/data/NO1.h5\n",
      "loaded\n",
      "(196, 3, 256, 256)\n",
      "/raid/jiang/projects/SubtleGad/tiantan/data_256/NO1.h5\n"
     ]
    },
    {
     "name": "stderr",
     "output_type": "stream",
     "text": [
      "\r",
      " 24%|██▍       | 29/122 [01:55<06:46,  4.37s/it]"
     ]
    },
    {
     "name": "stdout",
     "output_type": "stream",
     "text": [
      "saved\n",
      "/home/srivathsa/projects/studies/gad/tiantan/preprocess/data/NO112.h5\n",
      "loaded\n",
      "(196, 3, 256, 256)\n",
      "/raid/jiang/projects/SubtleGad/tiantan/data_256/NO112.h5\n"
     ]
    },
    {
     "name": "stderr",
     "output_type": "stream",
     "text": [
      "\r",
      " 25%|██▍       | 30/122 [01:56<05:15,  3.43s/it]"
     ]
    },
    {
     "name": "stdout",
     "output_type": "stream",
     "text": [
      "saved\n",
      "/home/srivathsa/projects/studies/gad/tiantan/preprocess/data/NO46.h5\n",
      "loaded\n",
      "(196, 4, 256, 256)\n",
      "/raid/jiang/projects/SubtleGad/tiantan/data_256/NO46.h5\n"
     ]
    },
    {
     "name": "stderr",
     "output_type": "stream",
     "text": [
      "\r",
      " 25%|██▌       | 31/122 [01:59<05:03,  3.34s/it]"
     ]
    },
    {
     "name": "stdout",
     "output_type": "stream",
     "text": [
      "saved\n",
      "/home/srivathsa/projects/studies/gad/tiantan/preprocess/data/NO104.h5\n",
      "loaded\n",
      "(196, 3, 256, 256)\n",
      "/raid/jiang/projects/SubtleGad/tiantan/data_256/NO104.h5\n"
     ]
    },
    {
     "name": "stderr",
     "output_type": "stream",
     "text": [
      "\r",
      " 26%|██▌       | 32/122 [02:00<04:03,  2.70s/it]"
     ]
    },
    {
     "name": "stdout",
     "output_type": "stream",
     "text": [
      "saved\n",
      "/home/srivathsa/projects/studies/gad/tiantan/preprocess/data/NO66.h5\n",
      "loaded\n",
      "(196, 4, 256, 256)\n",
      "/raid/jiang/projects/SubtleGad/tiantan/data_256/NO66.h5\n"
     ]
    },
    {
     "name": "stderr",
     "output_type": "stream",
     "text": [
      "\r",
      " 27%|██▋       | 33/122 [02:04<04:12,  2.84s/it]"
     ]
    },
    {
     "name": "stdout",
     "output_type": "stream",
     "text": [
      "saved\n",
      "/home/srivathsa/projects/studies/gad/tiantan/preprocess/data/NO42.h5\n",
      "loaded\n",
      "(196, 4, 256, 256)\n",
      "/raid/jiang/projects/SubtleGad/tiantan/data_256/NO42.h5\n"
     ]
    },
    {
     "name": "stderr",
     "output_type": "stream",
     "text": [
      "\r",
      " 28%|██▊       | 34/122 [02:07<04:17,  2.93s/it]"
     ]
    },
    {
     "name": "stdout",
     "output_type": "stream",
     "text": [
      "saved\n",
      "/home/srivathsa/projects/studies/gad/tiantan/preprocess/data/NO103.h5\n",
      "loaded\n",
      "(196, 3, 256, 256)\n",
      "/raid/jiang/projects/SubtleGad/tiantan/data_256/NO103.h5\n"
     ]
    },
    {
     "name": "stderr",
     "output_type": "stream",
     "text": [
      "\r",
      " 29%|██▊       | 35/122 [02:08<03:29,  2.41s/it]"
     ]
    },
    {
     "name": "stdout",
     "output_type": "stream",
     "text": [
      "saved\n",
      "/home/srivathsa/projects/studies/gad/tiantan/preprocess/data/NO67.h5\n",
      "loaded\n",
      "(196, 4, 256, 256)\n",
      "/raid/jiang/projects/SubtleGad/tiantan/data_256/NO67.h5\n"
     ]
    },
    {
     "name": "stderr",
     "output_type": "stream",
     "text": [
      "\r",
      " 30%|██▉       | 36/122 [02:11<03:52,  2.70s/it]"
     ]
    },
    {
     "name": "stdout",
     "output_type": "stream",
     "text": [
      "saved\n",
      "/home/srivathsa/projects/studies/gad/tiantan/preprocess/data/NO61.h5\n",
      "loaded\n",
      "(196, 4, 256, 256)\n",
      "/raid/jiang/projects/SubtleGad/tiantan/data_256/NO61.h5\n"
     ]
    },
    {
     "name": "stderr",
     "output_type": "stream",
     "text": [
      "\r",
      " 30%|███       | 37/122 [02:16<04:36,  3.25s/it]"
     ]
    },
    {
     "name": "stdout",
     "output_type": "stream",
     "text": [
      "saved\n",
      "/home/srivathsa/projects/studies/gad/tiantan/preprocess/data/NO127.h5\n",
      "loaded\n",
      "(196, 3, 256, 256)\n",
      "/raid/jiang/projects/SubtleGad/tiantan/data_256/NO127.h5\n"
     ]
    },
    {
     "name": "stderr",
     "output_type": "stream",
     "text": [
      "\r",
      " 31%|███       | 38/122 [02:17<03:45,  2.68s/it]"
     ]
    },
    {
     "name": "stdout",
     "output_type": "stream",
     "text": [
      "saved\n",
      "/home/srivathsa/projects/studies/gad/tiantan/preprocess/data/NO119.h5\n",
      "loaded\n",
      "(196, 3, 256, 256)\n",
      "/raid/jiang/projects/SubtleGad/tiantan/data_256/NO119.h5\n"
     ]
    },
    {
     "name": "stderr",
     "output_type": "stream",
     "text": [
      "\r",
      " 32%|███▏      | 39/122 [02:19<03:11,  2.31s/it]"
     ]
    },
    {
     "name": "stdout",
     "output_type": "stream",
     "text": [
      "saved\n",
      "/home/srivathsa/projects/studies/gad/tiantan/preprocess/data/NO25.h5\n",
      "loaded\n",
      "(196, 3, 256, 256)\n",
      "/raid/jiang/projects/SubtleGad/tiantan/data_256/NO25.h5\n"
     ]
    },
    {
     "name": "stderr",
     "output_type": "stream",
     "text": [
      "\r",
      " 33%|███▎      | 40/122 [02:20<02:46,  2.03s/it]"
     ]
    },
    {
     "name": "stdout",
     "output_type": "stream",
     "text": [
      "saved\n",
      "/home/srivathsa/projects/studies/gad/tiantan/preprocess/data/NO48.h5\n",
      "loaded\n",
      "(196, 4, 256, 256)\n",
      "/raid/jiang/projects/SubtleGad/tiantan/data_256/NO48.h5\n"
     ]
    },
    {
     "name": "stderr",
     "output_type": "stream",
     "text": [
      "\r",
      " 34%|███▎      | 41/122 [02:25<03:57,  2.93s/it]"
     ]
    },
    {
     "name": "stdout",
     "output_type": "stream",
     "text": [
      "saved\n",
      "/home/srivathsa/projects/studies/gad/tiantan/preprocess/data/NO120.h5\n",
      "loaded\n",
      "(196, 3, 256, 256)\n",
      "/raid/jiang/projects/SubtleGad/tiantan/data_256/NO120.h5\n"
     ]
    },
    {
     "name": "stderr",
     "output_type": "stream",
     "text": [
      "\r",
      " 34%|███▍      | 42/122 [02:27<03:30,  2.63s/it]"
     ]
    },
    {
     "name": "stdout",
     "output_type": "stream",
     "text": [
      "saved\n",
      "/home/srivathsa/projects/studies/gad/tiantan/preprocess/data/NO43.h5\n",
      "loaded\n",
      "(196, 4, 256, 256)\n",
      "/raid/jiang/projects/SubtleGad/tiantan/data_256/NO43.h5\n"
     ]
    },
    {
     "name": "stderr",
     "output_type": "stream",
     "text": [
      "\r",
      " 35%|███▌      | 43/122 [02:32<04:23,  3.33s/it]"
     ]
    },
    {
     "name": "stdout",
     "output_type": "stream",
     "text": [
      "saved\n",
      "/home/srivathsa/projects/studies/gad/tiantan/preprocess/data/NO32.h5\n",
      "loaded\n",
      "(196, 4, 256, 256)\n",
      "/raid/jiang/projects/SubtleGad/tiantan/data_256/NO32.h5\n"
     ]
    },
    {
     "name": "stderr",
     "output_type": "stream",
     "text": [
      "\r",
      " 36%|███▌      | 44/122 [02:36<04:35,  3.54s/it]"
     ]
    },
    {
     "name": "stdout",
     "output_type": "stream",
     "text": [
      "saved\n",
      "/home/srivathsa/projects/studies/gad/tiantan/preprocess/data/NO79.h5\n",
      "loaded\n",
      "(196, 3, 256, 256)\n",
      "/raid/jiang/projects/SubtleGad/tiantan/data_256/NO79.h5\n"
     ]
    },
    {
     "name": "stderr",
     "output_type": "stream",
     "text": [
      "\r",
      " 37%|███▋      | 45/122 [02:38<03:58,  3.10s/it]"
     ]
    },
    {
     "name": "stdout",
     "output_type": "stream",
     "text": [
      "saved\n",
      "/home/srivathsa/projects/studies/gad/tiantan/preprocess/data/NO21.h5\n",
      "loaded\n",
      "(196, 4, 256, 256)\n",
      "/raid/jiang/projects/SubtleGad/tiantan/data_256/NO21.h5\n"
     ]
    },
    {
     "name": "stderr",
     "output_type": "stream",
     "text": [
      "\r",
      " 38%|███▊      | 46/122 [02:41<03:56,  3.11s/it]"
     ]
    },
    {
     "name": "stdout",
     "output_type": "stream",
     "text": [
      "saved\n",
      "/home/srivathsa/projects/studies/gad/tiantan/preprocess/data/NO16.h5\n",
      "loaded\n",
      "(196, 4, 256, 256)\n",
      "/raid/jiang/projects/SubtleGad/tiantan/data_256/NO16.h5\n"
     ]
    },
    {
     "name": "stderr",
     "output_type": "stream",
     "text": [
      "\r",
      " 39%|███▊      | 47/122 [02:44<03:56,  3.16s/it]"
     ]
    },
    {
     "name": "stdout",
     "output_type": "stream",
     "text": [
      "saved\n",
      "/home/srivathsa/projects/studies/gad/tiantan/preprocess/data/NO34.h5\n",
      "loaded\n",
      "(196, 3, 256, 256)\n",
      "/raid/jiang/projects/SubtleGad/tiantan/data_256/NO34.h5\n"
     ]
    },
    {
     "name": "stderr",
     "output_type": "stream",
     "text": [
      "\r",
      " 39%|███▉      | 48/122 [02:46<03:22,  2.74s/it]"
     ]
    },
    {
     "name": "stdout",
     "output_type": "stream",
     "text": [
      "saved\n",
      "/home/srivathsa/projects/studies/gad/tiantan/preprocess/data/NO41.h5\n",
      "loaded\n",
      "(196, 4, 256, 256)\n",
      "/raid/jiang/projects/SubtleGad/tiantan/data_256/NO41.h5\n"
     ]
    },
    {
     "name": "stderr",
     "output_type": "stream",
     "text": [
      "\r",
      " 40%|████      | 49/122 [02:51<04:03,  3.33s/it]"
     ]
    },
    {
     "name": "stdout",
     "output_type": "stream",
     "text": [
      "saved\n",
      "/home/srivathsa/projects/studies/gad/tiantan/preprocess/data/NO53.h5\n",
      "loaded\n",
      "(196, 4, 256, 256)\n",
      "/raid/jiang/projects/SubtleGad/tiantan/data_256/NO53.h5\n"
     ]
    },
    {
     "name": "stderr",
     "output_type": "stream",
     "text": [
      "\r",
      " 41%|████      | 50/122 [02:56<04:27,  3.72s/it]"
     ]
    },
    {
     "name": "stdout",
     "output_type": "stream",
     "text": [
      "saved\n",
      "/home/srivathsa/projects/studies/gad/tiantan/preprocess/data/NO63.h5\n",
      "loaded\n",
      "(196, 4, 256, 256)\n",
      "/raid/jiang/projects/SubtleGad/tiantan/data_256/NO63.h5\n"
     ]
    },
    {
     "name": "stderr",
     "output_type": "stream",
     "text": [
      "\r",
      " 42%|████▏     | 51/122 [03:00<04:40,  3.95s/it]"
     ]
    },
    {
     "name": "stdout",
     "output_type": "stream",
     "text": [
      "saved\n",
      "/home/srivathsa/projects/studies/gad/tiantan/preprocess/data/NO38.h5\n",
      "loaded\n",
      "(196, 4, 256, 256)\n",
      "/raid/jiang/projects/SubtleGad/tiantan/data_256/NO38.h5\n"
     ]
    },
    {
     "name": "stderr",
     "output_type": "stream",
     "text": [
      "\r",
      " 43%|████▎     | 52/122 [03:05<04:59,  4.27s/it]"
     ]
    },
    {
     "name": "stdout",
     "output_type": "stream",
     "text": [
      "saved\n",
      "/home/srivathsa/projects/studies/gad/tiantan/preprocess/data/NO107.h5\n",
      "loaded\n",
      "(196, 3, 256, 256)\n",
      "/raid/jiang/projects/SubtleGad/tiantan/data_256/NO107.h5\n"
     ]
    },
    {
     "name": "stderr",
     "output_type": "stream",
     "text": [
      "\r",
      " 43%|████▎     | 53/122 [03:07<04:04,  3.54s/it]"
     ]
    },
    {
     "name": "stdout",
     "output_type": "stream",
     "text": [
      "saved\n",
      "/home/srivathsa/projects/studies/gad/tiantan/preprocess/data/NO121.h5\n",
      "loaded\n",
      "(196, 3, 256, 256)\n",
      "/raid/jiang/projects/SubtleGad/tiantan/data_256/NO121.h5\n"
     ]
    },
    {
     "name": "stderr",
     "output_type": "stream",
     "text": [
      "\r",
      " 44%|████▍     | 54/122 [03:08<03:17,  2.90s/it]"
     ]
    },
    {
     "name": "stdout",
     "output_type": "stream",
     "text": [
      "saved\n",
      "/home/srivathsa/projects/studies/gad/tiantan/preprocess/data/NO9.h5\n",
      "loaded\n",
      "(196, 4, 256, 256)\n",
      "/raid/jiang/projects/SubtleGad/tiantan/data_256/NO9.h5\n"
     ]
    },
    {
     "name": "stderr",
     "output_type": "stream",
     "text": [
      "\r",
      " 45%|████▌     | 55/122 [03:14<04:09,  3.72s/it]"
     ]
    },
    {
     "name": "stdout",
     "output_type": "stream",
     "text": [
      "saved\n",
      "/home/srivathsa/projects/studies/gad/tiantan/preprocess/data/NO52.h5\n",
      "loaded\n",
      "(196, 4, 256, 256)\n",
      "/raid/jiang/projects/SubtleGad/tiantan/data_256/NO52.h5\n"
     ]
    },
    {
     "name": "stderr",
     "output_type": "stream",
     "text": [
      "\r",
      " 46%|████▌     | 56/122 [03:20<04:42,  4.27s/it]"
     ]
    },
    {
     "name": "stdout",
     "output_type": "stream",
     "text": [
      "saved\n",
      "/home/srivathsa/projects/studies/gad/tiantan/preprocess/data/NO78.h5\n",
      "loaded\n",
      "(196, 4, 256, 256)\n",
      "/raid/jiang/projects/SubtleGad/tiantan/data_256/NO78.h5\n"
     ]
    },
    {
     "name": "stderr",
     "output_type": "stream",
     "text": [
      "\r",
      " 47%|████▋     | 57/122 [03:23<04:30,  4.16s/it]"
     ]
    },
    {
     "name": "stdout",
     "output_type": "stream",
     "text": [
      "saved\n",
      "/home/srivathsa/projects/studies/gad/tiantan/preprocess/data/NO8.h5\n",
      "loaded\n",
      "(196, 4, 256, 256)\n",
      "/raid/jiang/projects/SubtleGad/tiantan/data_256/NO8.h5\n"
     ]
    },
    {
     "name": "stderr",
     "output_type": "stream",
     "text": [
      "\r",
      " 48%|████▊     | 58/122 [03:27<04:14,  3.98s/it]"
     ]
    },
    {
     "name": "stdout",
     "output_type": "stream",
     "text": [
      "saved\n",
      "/home/srivathsa/projects/studies/gad/tiantan/preprocess/data/NO73.h5\n",
      "loaded\n",
      "(196, 4, 256, 256)\n",
      "/raid/jiang/projects/SubtleGad/tiantan/data_256/NO73.h5\n"
     ]
    },
    {
     "name": "stderr",
     "output_type": "stream",
     "text": [
      "\r",
      " 48%|████▊     | 59/122 [03:31<04:11,  4.00s/it]"
     ]
    },
    {
     "name": "stdout",
     "output_type": "stream",
     "text": [
      "saved\n",
      "/home/srivathsa/projects/studies/gad/tiantan/preprocess/data/NO5.h5\n",
      "loaded\n",
      "(196, 4, 256, 256)\n",
      "/raid/jiang/projects/SubtleGad/tiantan/data_256/NO5.h5\n"
     ]
    },
    {
     "name": "stderr",
     "output_type": "stream",
     "text": [
      "\r",
      " 49%|████▉     | 60/122 [03:35<04:10,  4.04s/it]"
     ]
    },
    {
     "name": "stdout",
     "output_type": "stream",
     "text": [
      "saved\n",
      "/home/srivathsa/projects/studies/gad/tiantan/preprocess/data/NO117.h5\n",
      "loaded\n",
      "(196, 3, 256, 256)\n",
      "/raid/jiang/projects/SubtleGad/tiantan/data_256/NO117.h5\n"
     ]
    },
    {
     "name": "stderr",
     "output_type": "stream",
     "text": [
      "\r",
      " 50%|█████     | 61/122 [03:37<03:26,  3.39s/it]"
     ]
    },
    {
     "name": "stdout",
     "output_type": "stream",
     "text": [
      "saved\n",
      "/home/srivathsa/projects/studies/gad/tiantan/preprocess/data/NO35.h5\n",
      "loaded\n",
      "(196, 4, 256, 256)\n",
      "/raid/jiang/projects/SubtleGad/tiantan/data_256/NO35.h5\n"
     ]
    },
    {
     "name": "stderr",
     "output_type": "stream",
     "text": [
      "\r",
      " 51%|█████     | 62/122 [03:41<03:24,  3.41s/it]"
     ]
    },
    {
     "name": "stdout",
     "output_type": "stream",
     "text": [
      "saved\n",
      "/home/srivathsa/projects/studies/gad/tiantan/preprocess/data/NO125.h5\n",
      "loaded\n",
      "(196, 3, 256, 256)\n",
      "/raid/jiang/projects/SubtleGad/tiantan/data_256/NO125.h5\n"
     ]
    },
    {
     "name": "stderr",
     "output_type": "stream",
     "text": [
      "\r",
      " 52%|█████▏    | 63/122 [03:42<02:49,  2.87s/it]"
     ]
    },
    {
     "name": "stdout",
     "output_type": "stream",
     "text": [
      "saved\n",
      "/home/srivathsa/projects/studies/gad/tiantan/preprocess/data/NO115.h5\n",
      "loaded\n",
      "(196, 3, 256, 256)\n",
      "/raid/jiang/projects/SubtleGad/tiantan/data_256/NO115.h5\n"
     ]
    },
    {
     "name": "stderr",
     "output_type": "stream",
     "text": [
      "\r",
      " 52%|█████▏    | 64/122 [03:43<02:17,  2.37s/it]"
     ]
    },
    {
     "name": "stdout",
     "output_type": "stream",
     "text": [
      "saved\n",
      "/home/srivathsa/projects/studies/gad/tiantan/preprocess/data/NO110.h5\n",
      "loaded\n",
      "(196, 3, 256, 256)\n",
      "/raid/jiang/projects/SubtleGad/tiantan/data_256/NO110.h5\n"
     ]
    },
    {
     "name": "stderr",
     "output_type": "stream",
     "text": [
      "\r",
      " 53%|█████▎    | 65/122 [03:45<01:57,  2.07s/it]"
     ]
    },
    {
     "name": "stdout",
     "output_type": "stream",
     "text": [
      "saved\n",
      "/home/srivathsa/projects/studies/gad/tiantan/preprocess/data/NO114.h5\n",
      "loaded\n",
      "(196, 3, 256, 256)\n",
      "/raid/jiang/projects/SubtleGad/tiantan/data_256/NO114.h5\n"
     ]
    },
    {
     "name": "stderr",
     "output_type": "stream",
     "text": [
      "\r",
      " 54%|█████▍    | 66/122 [03:47<01:56,  2.07s/it]"
     ]
    },
    {
     "name": "stdout",
     "output_type": "stream",
     "text": [
      "saved\n",
      "/home/srivathsa/projects/studies/gad/tiantan/preprocess/data/NO116.h5\n",
      "loaded\n",
      "(196, 3, 256, 256)\n",
      "/raid/jiang/projects/SubtleGad/tiantan/data_256/NO116.h5\n"
     ]
    },
    {
     "name": "stderr",
     "output_type": "stream",
     "text": [
      "\r",
      " 55%|█████▍    | 67/122 [03:48<01:42,  1.86s/it]"
     ]
    },
    {
     "name": "stdout",
     "output_type": "stream",
     "text": [
      "saved\n",
      "/home/srivathsa/projects/studies/gad/tiantan/preprocess/data/NO6.h5\n",
      "loaded\n",
      "(196, 4, 256, 256)\n",
      "/raid/jiang/projects/SubtleGad/tiantan/data_256/NO6.h5\n"
     ]
    },
    {
     "name": "stderr",
     "output_type": "stream",
     "text": [
      "\r",
      " 56%|█████▌    | 68/122 [03:51<02:01,  2.25s/it]"
     ]
    },
    {
     "name": "stdout",
     "output_type": "stream",
     "text": [
      "saved\n",
      "/home/srivathsa/projects/studies/gad/tiantan/preprocess/data/NO3.h5\n",
      "loaded\n",
      "(196, 4, 256, 256)\n",
      "/raid/jiang/projects/SubtleGad/tiantan/data_256/NO3.h5\n"
     ]
    },
    {
     "name": "stderr",
     "output_type": "stream",
     "text": [
      "\r",
      " 57%|█████▋    | 69/122 [03:55<02:28,  2.81s/it]"
     ]
    },
    {
     "name": "stdout",
     "output_type": "stream",
     "text": [
      "saved\n",
      "/home/srivathsa/projects/studies/gad/tiantan/preprocess/data/NO29.h5\n",
      "loaded\n",
      "(196, 4, 256, 256)\n",
      "/raid/jiang/projects/SubtleGad/tiantan/data_256/NO29.h5\n"
     ]
    },
    {
     "name": "stderr",
     "output_type": "stream",
     "text": [
      "\r",
      " 57%|█████▋    | 70/122 [03:59<02:38,  3.05s/it]"
     ]
    },
    {
     "name": "stdout",
     "output_type": "stream",
     "text": [
      "saved\n",
      "/home/srivathsa/projects/studies/gad/tiantan/preprocess/data/NO123.h5\n",
      "loaded\n",
      "(196, 3, 256, 256)\n",
      "/raid/jiang/projects/SubtleGad/tiantan/data_256/NO123.h5\n"
     ]
    },
    {
     "name": "stderr",
     "output_type": "stream",
     "text": [
      "\r",
      " 58%|█████▊    | 71/122 [04:00<02:06,  2.48s/it]"
     ]
    },
    {
     "name": "stdout",
     "output_type": "stream",
     "text": [
      "saved\n",
      "/home/srivathsa/projects/studies/gad/tiantan/preprocess/data/NO130.h5\n",
      "loaded\n",
      "(196, 3, 256, 256)\n",
      "/raid/jiang/projects/SubtleGad/tiantan/data_256/NO130.h5\n"
     ]
    },
    {
     "name": "stderr",
     "output_type": "stream",
     "text": [
      "\r",
      " 59%|█████▉    | 72/122 [04:02<01:50,  2.22s/it]"
     ]
    },
    {
     "name": "stdout",
     "output_type": "stream",
     "text": [
      "saved\n",
      "/home/srivathsa/projects/studies/gad/tiantan/preprocess/data/NO24.h5\n",
      "loaded\n",
      "(196, 4, 256, 256)\n",
      "/raid/jiang/projects/SubtleGad/tiantan/data_256/NO24.h5\n"
     ]
    },
    {
     "name": "stderr",
     "output_type": "stream",
     "text": [
      "\r",
      " 60%|█████▉    | 73/122 [04:05<02:07,  2.61s/it]"
     ]
    },
    {
     "name": "stdout",
     "output_type": "stream",
     "text": [
      "saved\n",
      "/home/srivathsa/projects/studies/gad/tiantan/preprocess/data/NO70.h5\n",
      "loaded\n",
      "(196, 4, 256, 256)\n",
      "/raid/jiang/projects/SubtleGad/tiantan/data_256/NO70.h5\n"
     ]
    },
    {
     "name": "stderr",
     "output_type": "stream",
     "text": [
      "\r",
      " 61%|██████    | 74/122 [04:09<02:20,  2.93s/it]"
     ]
    },
    {
     "name": "stdout",
     "output_type": "stream",
     "text": [
      "saved\n",
      "/home/srivathsa/projects/studies/gad/tiantan/preprocess/data/NO72.h5\n",
      "loaded\n",
      "(196, 4, 256, 256)\n",
      "/raid/jiang/projects/SubtleGad/tiantan/data_256/NO72.h5\n"
     ]
    },
    {
     "name": "stderr",
     "output_type": "stream",
     "text": [
      "\r",
      " 61%|██████▏   | 75/122 [04:12<02:21,  3.01s/it]"
     ]
    },
    {
     "name": "stdout",
     "output_type": "stream",
     "text": [
      "saved\n",
      "/home/srivathsa/projects/studies/gad/tiantan/preprocess/data/NO124.h5\n",
      "loaded\n",
      "(196, 3, 256, 256)\n",
      "/raid/jiang/projects/SubtleGad/tiantan/data_256/NO124.h5\n"
     ]
    },
    {
     "name": "stderr",
     "output_type": "stream",
     "text": [
      "\r",
      " 62%|██████▏   | 76/122 [04:13<01:53,  2.48s/it]"
     ]
    },
    {
     "name": "stdout",
     "output_type": "stream",
     "text": [
      "saved\n",
      "/home/srivathsa/projects/studies/gad/tiantan/preprocess/data/NO80.h5\n",
      "loaded\n",
      "(196, 3, 256, 256)\n",
      "/raid/jiang/projects/SubtleGad/tiantan/data_256/NO80.h5\n"
     ]
    },
    {
     "name": "stderr",
     "output_type": "stream",
     "text": [
      "\r",
      " 63%|██████▎   | 77/122 [04:15<01:35,  2.12s/it]"
     ]
    },
    {
     "name": "stdout",
     "output_type": "stream",
     "text": [
      "saved\n",
      "/home/srivathsa/projects/studies/gad/tiantan/preprocess/data/NO58.h5\n",
      "loaded\n",
      "(196, 4, 256, 256)\n",
      "/raid/jiang/projects/SubtleGad/tiantan/data_256/NO58.h5\n"
     ]
    },
    {
     "name": "stderr",
     "output_type": "stream",
     "text": [
      "\r",
      " 64%|██████▍   | 78/122 [04:18<01:49,  2.49s/it]"
     ]
    },
    {
     "name": "stdout",
     "output_type": "stream",
     "text": [
      "saved\n",
      "/home/srivathsa/projects/studies/gad/tiantan/preprocess/data/NO102.h5\n",
      "loaded\n",
      "(196, 3, 256, 256)\n",
      "/raid/jiang/projects/SubtleGad/tiantan/data_256/NO102.h5\n"
     ]
    },
    {
     "name": "stderr",
     "output_type": "stream",
     "text": [
      "\r",
      " 65%|██████▍   | 79/122 [04:19<01:30,  2.11s/it]"
     ]
    },
    {
     "name": "stdout",
     "output_type": "stream",
     "text": [
      "saved\n",
      "/home/srivathsa/projects/studies/gad/tiantan/preprocess/data/NO83.h5\n",
      "loaded\n",
      "(196, 3, 256, 256)\n",
      "/raid/jiang/projects/SubtleGad/tiantan/data_256/NO83.h5\n"
     ]
    },
    {
     "name": "stderr",
     "output_type": "stream",
     "text": [
      "\r",
      " 66%|██████▌   | 80/122 [04:21<01:18,  1.88s/it]"
     ]
    },
    {
     "name": "stdout",
     "output_type": "stream",
     "text": [
      "saved\n",
      "/home/srivathsa/projects/studies/gad/tiantan/preprocess/data/NO106.h5\n",
      "loaded\n",
      "(196, 3, 256, 256)\n",
      "/raid/jiang/projects/SubtleGad/tiantan/data_256/NO106.h5\n"
     ]
    },
    {
     "name": "stderr",
     "output_type": "stream",
     "text": [
      "\r",
      " 66%|██████▋   | 81/122 [04:22<01:09,  1.69s/it]"
     ]
    },
    {
     "name": "stdout",
     "output_type": "stream",
     "text": [
      "saved\n",
      "/home/srivathsa/projects/studies/gad/tiantan/preprocess/data/NO7.h5\n",
      "loaded\n",
      "(196, 4, 256, 256)\n",
      "/raid/jiang/projects/SubtleGad/tiantan/data_256/NO7.h5\n"
     ]
    },
    {
     "name": "stderr",
     "output_type": "stream",
     "text": [
      "\r",
      " 67%|██████▋   | 82/122 [04:25<01:24,  2.12s/it]"
     ]
    },
    {
     "name": "stdout",
     "output_type": "stream",
     "text": [
      "saved\n",
      "/home/srivathsa/projects/studies/gad/tiantan/preprocess/data/NO77.h5\n",
      "loaded\n",
      "(180, 4, 256, 256)\n",
      "/raid/jiang/projects/SubtleGad/tiantan/data_256/NO77.h5\n"
     ]
    },
    {
     "name": "stderr",
     "output_type": "stream",
     "text": [
      "\r",
      " 68%|██████▊   | 83/122 [04:28<01:34,  2.42s/it]"
     ]
    },
    {
     "name": "stdout",
     "output_type": "stream",
     "text": [
      "saved\n",
      "/home/srivathsa/projects/studies/gad/tiantan/preprocess/data/NO122.h5\n",
      "loaded\n",
      "(196, 3, 256, 256)\n",
      "/raid/jiang/projects/SubtleGad/tiantan/data_256/NO122.h5\n"
     ]
    },
    {
     "name": "stderr",
     "output_type": "stream",
     "text": [
      "\r",
      " 69%|██████▉   | 84/122 [04:29<01:18,  2.05s/it]"
     ]
    },
    {
     "name": "stdout",
     "output_type": "stream",
     "text": [
      "saved\n",
      "/home/srivathsa/projects/studies/gad/tiantan/preprocess/data/NO60.h5\n",
      "loaded\n",
      "(196, 4, 256, 256)\n",
      "/raid/jiang/projects/SubtleGad/tiantan/data_256/NO60.h5\n"
     ]
    },
    {
     "name": "stderr",
     "output_type": "stream",
     "text": [
      "\r",
      " 70%|██████▉   | 85/122 [04:33<01:30,  2.44s/it]"
     ]
    },
    {
     "name": "stdout",
     "output_type": "stream",
     "text": [
      "saved\n",
      "/home/srivathsa/projects/studies/gad/tiantan/preprocess/data/NO10.h5\n",
      "loaded\n",
      "(196, 4, 256, 256)\n",
      "/raid/jiang/projects/SubtleGad/tiantan/data_256/NO10.h5\n"
     ]
    },
    {
     "name": "stderr",
     "output_type": "stream",
     "text": [
      "\r",
      " 70%|███████   | 86/122 [04:36<01:36,  2.67s/it]"
     ]
    },
    {
     "name": "stdout",
     "output_type": "stream",
     "text": [
      "saved\n",
      "/home/srivathsa/projects/studies/gad/tiantan/preprocess/data/NO126.h5\n",
      "loaded\n",
      "(196, 3, 256, 256)\n",
      "/raid/jiang/projects/SubtleGad/tiantan/data_256/NO126.h5\n"
     ]
    },
    {
     "name": "stderr",
     "output_type": "stream",
     "text": [
      "\r",
      " 71%|███████▏  | 87/122 [04:37<01:17,  2.21s/it]"
     ]
    },
    {
     "name": "stdout",
     "output_type": "stream",
     "text": [
      "saved\n",
      "/home/srivathsa/projects/studies/gad/tiantan/preprocess/data/NO81.h5\n",
      "loaded\n",
      "(196, 3, 256, 256)\n",
      "/raid/jiang/projects/SubtleGad/tiantan/data_256/NO81.h5\n"
     ]
    },
    {
     "name": "stderr",
     "output_type": "stream",
     "text": [
      "\r",
      " 72%|███████▏  | 88/122 [04:38<01:05,  1.94s/it]"
     ]
    },
    {
     "name": "stdout",
     "output_type": "stream",
     "text": [
      "saved\n",
      "/home/srivathsa/projects/studies/gad/tiantan/preprocess/data/NO55.h5\n",
      "loaded\n",
      "(175, 4, 256, 256)\n",
      "/raid/jiang/projects/SubtleGad/tiantan/data_256/NO55.h5\n"
     ]
    },
    {
     "name": "stderr",
     "output_type": "stream",
     "text": [
      "\r",
      " 73%|███████▎  | 89/122 [04:41<01:13,  2.22s/it]"
     ]
    },
    {
     "name": "stdout",
     "output_type": "stream",
     "text": [
      "saved\n",
      "/home/srivathsa/projects/studies/gad/tiantan/preprocess/data/NO23.h5\n",
      "loaded\n",
      "(196, 4, 256, 256)\n",
      "/raid/jiang/projects/SubtleGad/tiantan/data_256/NO23.h5\n"
     ]
    },
    {
     "name": "stderr",
     "output_type": "stream",
     "text": [
      "\r",
      " 74%|███████▍  | 90/122 [04:44<01:20,  2.50s/it]"
     ]
    },
    {
     "name": "stdout",
     "output_type": "stream",
     "text": [
      "saved\n",
      "/home/srivathsa/projects/studies/gad/tiantan/preprocess/data/NO18.h5\n",
      "loaded\n",
      "(196, 4, 256, 256)\n",
      "/raid/jiang/projects/SubtleGad/tiantan/data_256/NO18.h5\n"
     ]
    },
    {
     "name": "stderr",
     "output_type": "stream",
     "text": [
      "\r",
      " 75%|███████▍  | 91/122 [04:47<01:22,  2.67s/it]"
     ]
    },
    {
     "name": "stdout",
     "output_type": "stream",
     "text": [
      "saved\n",
      "/home/srivathsa/projects/studies/gad/tiantan/preprocess/data/NO64.h5\n",
      "loaded\n",
      "(196, 4, 256, 256)\n",
      "/raid/jiang/projects/SubtleGad/tiantan/data_256/NO64.h5\n"
     ]
    },
    {
     "name": "stderr",
     "output_type": "stream",
     "text": [
      "\r",
      " 75%|███████▌  | 92/122 [04:51<01:24,  2.82s/it]"
     ]
    },
    {
     "name": "stdout",
     "output_type": "stream",
     "text": [
      "saved\n",
      "/home/srivathsa/projects/studies/gad/tiantan/preprocess/data/NO69.h5\n",
      "loaded\n",
      "(196, 4, 256, 256)\n",
      "/raid/jiang/projects/SubtleGad/tiantan/data_256/NO69.h5\n"
     ]
    },
    {
     "name": "stderr",
     "output_type": "stream",
     "text": [
      "\r",
      " 76%|███████▌  | 93/122 [04:54<01:23,  2.88s/it]"
     ]
    },
    {
     "name": "stdout",
     "output_type": "stream",
     "text": [
      "saved\n",
      "/home/srivathsa/projects/studies/gad/tiantan/preprocess/data/NO45.h5\n",
      "loaded\n",
      "(196, 4, 256, 256)\n",
      "/raid/jiang/projects/SubtleGad/tiantan/data_256/NO45.h5\n"
     ]
    },
    {
     "name": "stderr",
     "output_type": "stream",
     "text": [
      "\r",
      " 77%|███████▋  | 94/122 [04:57<01:22,  2.93s/it]"
     ]
    },
    {
     "name": "stdout",
     "output_type": "stream",
     "text": [
      "saved\n",
      "/home/srivathsa/projects/studies/gad/tiantan/preprocess/data/NO4.h5\n",
      "loaded\n",
      "(196, 4, 256, 256)\n",
      "/raid/jiang/projects/SubtleGad/tiantan/data_256/NO4.h5\n"
     ]
    },
    {
     "name": "stderr",
     "output_type": "stream",
     "text": [
      "\r",
      " 78%|███████▊  | 95/122 [05:00<01:19,  2.96s/it]"
     ]
    },
    {
     "name": "stdout",
     "output_type": "stream",
     "text": [
      "saved\n",
      "/home/srivathsa/projects/studies/gad/tiantan/preprocess/data/NO39.h5\n",
      "loaded\n",
      "(196, 4, 256, 256)\n",
      "/raid/jiang/projects/SubtleGad/tiantan/data_256/NO39.h5\n"
     ]
    },
    {
     "name": "stderr",
     "output_type": "stream",
     "text": [
      "\r",
      " 79%|███████▊  | 96/122 [05:03<01:17,  2.97s/it]"
     ]
    },
    {
     "name": "stdout",
     "output_type": "stream",
     "text": [
      "saved\n",
      "/home/srivathsa/projects/studies/gad/tiantan/preprocess/data/NO13.h5\n",
      "loaded\n",
      "(196, 4, 256, 256)\n",
      "/raid/jiang/projects/SubtleGad/tiantan/data_256/NO13.h5\n"
     ]
    },
    {
     "name": "stderr",
     "output_type": "stream",
     "text": [
      "\r",
      " 80%|███████▉  | 97/122 [05:06<01:16,  3.06s/it]"
     ]
    },
    {
     "name": "stdout",
     "output_type": "stream",
     "text": [
      "saved\n",
      "/home/srivathsa/projects/studies/gad/tiantan/preprocess/data/NO11.h5\n",
      "loaded\n",
      "(196, 4, 256, 256)\n",
      "/raid/jiang/projects/SubtleGad/tiantan/data_256/NO11.h5\n"
     ]
    },
    {
     "name": "stderr",
     "output_type": "stream",
     "text": [
      "\r",
      " 80%|████████  | 98/122 [05:09<01:16,  3.19s/it]"
     ]
    },
    {
     "name": "stdout",
     "output_type": "stream",
     "text": [
      "saved\n",
      "/home/srivathsa/projects/studies/gad/tiantan/preprocess/data/NO37.h5\n",
      "loaded\n",
      "(196, 4, 256, 256)\n",
      "/raid/jiang/projects/SubtleGad/tiantan/data_256/NO37.h5\n"
     ]
    },
    {
     "name": "stderr",
     "output_type": "stream",
     "text": [
      "\r",
      " 81%|████████  | 99/122 [05:12<01:11,  3.13s/it]"
     ]
    },
    {
     "name": "stdout",
     "output_type": "stream",
     "text": [
      "saved\n",
      "/home/srivathsa/projects/studies/gad/tiantan/preprocess/data/NO128.h5\n",
      "loaded\n",
      "(196, 3, 256, 256)\n",
      "/raid/jiang/projects/SubtleGad/tiantan/data_256/NO128.h5\n"
     ]
    },
    {
     "name": "stderr",
     "output_type": "stream",
     "text": [
      "\r",
      " 82%|████████▏ | 100/122 [05:14<00:57,  2.64s/it]"
     ]
    },
    {
     "name": "stdout",
     "output_type": "stream",
     "text": [
      "saved\n",
      "/home/srivathsa/projects/studies/gad/tiantan/preprocess/data/NO71.h5\n",
      "loaded\n",
      "(196, 4, 256, 256)\n",
      "/raid/jiang/projects/SubtleGad/tiantan/data_256/NO71.h5\n"
     ]
    },
    {
     "name": "stderr",
     "output_type": "stream",
     "text": [
      "\r",
      " 83%|████████▎ | 101/122 [05:17<01:00,  2.88s/it]"
     ]
    },
    {
     "name": "stdout",
     "output_type": "stream",
     "text": [
      "saved\n",
      "/home/srivathsa/projects/studies/gad/tiantan/preprocess/data/NO27.h5\n",
      "loaded\n",
      "(196, 4, 256, 256)\n",
      "/raid/jiang/projects/SubtleGad/tiantan/data_256/NO27.h5\n"
     ]
    },
    {
     "name": "stderr",
     "output_type": "stream",
     "text": [
      "\r",
      " 84%|████████▎ | 102/122 [05:20<00:58,  2.93s/it]"
     ]
    },
    {
     "name": "stdout",
     "output_type": "stream",
     "text": [
      "saved\n",
      "/home/srivathsa/projects/studies/gad/tiantan/preprocess/data/NO14.h5\n",
      "loaded\n",
      "(196, 4, 256, 256)\n",
      "/raid/jiang/projects/SubtleGad/tiantan/data_256/NO14.h5\n"
     ]
    },
    {
     "name": "stderr",
     "output_type": "stream",
     "text": [
      "\r",
      " 84%|████████▍ | 103/122 [05:24<01:01,  3.26s/it]"
     ]
    },
    {
     "name": "stdout",
     "output_type": "stream",
     "text": [
      "saved\n",
      "/home/srivathsa/projects/studies/gad/tiantan/preprocess/data/NO51.h5\n",
      "loaded\n",
      "(196, 4, 256, 256)\n",
      "/raid/jiang/projects/SubtleGad/tiantan/data_256/NO51.h5\n"
     ]
    },
    {
     "name": "stderr",
     "output_type": "stream",
     "text": [
      "\r",
      " 85%|████████▌ | 104/122 [05:27<00:57,  3.18s/it]"
     ]
    },
    {
     "name": "stdout",
     "output_type": "stream",
     "text": [
      "saved\n",
      "/home/srivathsa/projects/studies/gad/tiantan/preprocess/data/NO54.h5\n",
      "loaded\n",
      "(165, 4, 256, 256)\n",
      "/raid/jiang/projects/SubtleGad/tiantan/data_256/NO54.h5\n"
     ]
    },
    {
     "name": "stderr",
     "output_type": "stream",
     "text": [
      "\r",
      " 86%|████████▌ | 105/122 [05:30<00:50,  2.99s/it]"
     ]
    },
    {
     "name": "stdout",
     "output_type": "stream",
     "text": [
      "saved\n",
      "/home/srivathsa/projects/studies/gad/tiantan/preprocess/data/NO40.h5\n",
      "loaded\n",
      "(196, 4, 256, 256)\n",
      "/raid/jiang/projects/SubtleGad/tiantan/data_256/NO40.h5\n"
     ]
    },
    {
     "name": "stderr",
     "output_type": "stream",
     "text": [
      "\r",
      " 87%|████████▋ | 106/122 [05:33<00:49,  3.06s/it]"
     ]
    },
    {
     "name": "stdout",
     "output_type": "stream",
     "text": [
      "saved\n",
      "/home/srivathsa/projects/studies/gad/tiantan/preprocess/data/NO132.h5\n",
      "loaded\n",
      "(196, 3, 256, 256)\n",
      "/raid/jiang/projects/SubtleGad/tiantan/data_256/NO132.h5\n"
     ]
    },
    {
     "name": "stderr",
     "output_type": "stream",
     "text": [
      "\r",
      " 88%|████████▊ | 107/122 [05:34<00:37,  2.48s/it]"
     ]
    },
    {
     "name": "stdout",
     "output_type": "stream",
     "text": [
      "saved\n",
      "/home/srivathsa/projects/studies/gad/tiantan/preprocess/data/NO133.h5\n",
      "loaded\n",
      "(196, 3, 256, 256)\n",
      "/raid/jiang/projects/SubtleGad/tiantan/data_256/NO133.h5\n"
     ]
    },
    {
     "name": "stderr",
     "output_type": "stream",
     "text": [
      "\r",
      " 89%|████████▊ | 108/122 [05:35<00:29,  2.09s/it]"
     ]
    },
    {
     "name": "stdout",
     "output_type": "stream",
     "text": [
      "saved\n",
      "/home/srivathsa/projects/studies/gad/tiantan/preprocess/data/NO2.h5\n",
      "loaded\n",
      "(196, 3, 256, 256)\n",
      "/raid/jiang/projects/SubtleGad/tiantan/data_256/NO2.h5\n"
     ]
    },
    {
     "name": "stderr",
     "output_type": "stream",
     "text": [
      "\r",
      " 89%|████████▉ | 109/122 [05:37<00:23,  1.83s/it]"
     ]
    },
    {
     "name": "stdout",
     "output_type": "stream",
     "text": [
      "saved\n",
      "/home/srivathsa/projects/studies/gad/tiantan/preprocess/data/NO33.h5\n",
      "loaded\n",
      "(196, 4, 256, 256)\n",
      "/raid/jiang/projects/SubtleGad/tiantan/data_256/NO33.h5\n"
     ]
    },
    {
     "name": "stderr",
     "output_type": "stream",
     "text": [
      "\r",
      " 90%|█████████ | 110/122 [05:40<00:28,  2.36s/it]"
     ]
    },
    {
     "name": "stdout",
     "output_type": "stream",
     "text": [
      "saved\n",
      "/home/srivathsa/projects/studies/gad/tiantan/preprocess/data/NO22.h5\n",
      "loaded\n",
      "(196, 4, 256, 256)\n",
      "/raid/jiang/projects/SubtleGad/tiantan/data_256/NO22.h5\n"
     ]
    },
    {
     "name": "stderr",
     "output_type": "stream",
     "text": [
      "\r",
      " 91%|█████████ | 111/122 [05:45<00:33,  3.06s/it]"
     ]
    },
    {
     "name": "stdout",
     "output_type": "stream",
     "text": [
      "saved\n",
      "/home/srivathsa/projects/studies/gad/tiantan/preprocess/data/NO20.h5\n",
      "loaded\n",
      "(196, 4, 256, 256)\n",
      "/raid/jiang/projects/SubtleGad/tiantan/data_256/NO20.h5\n"
     ]
    },
    {
     "name": "stderr",
     "output_type": "stream",
     "text": [
      "\r",
      " 92%|█████████▏| 112/122 [05:48<00:30,  3.07s/it]"
     ]
    },
    {
     "name": "stdout",
     "output_type": "stream",
     "text": [
      "saved\n",
      "/home/srivathsa/projects/studies/gad/tiantan/preprocess/data/NO101.h5\n",
      "loaded\n",
      "(196, 3, 256, 256)\n",
      "/raid/jiang/projects/SubtleGad/tiantan/data_256/NO101.h5\n"
     ]
    },
    {
     "name": "stderr",
     "output_type": "stream",
     "text": [
      "\r",
      " 93%|█████████▎| 113/122 [05:49<00:22,  2.49s/it]"
     ]
    },
    {
     "name": "stdout",
     "output_type": "stream",
     "text": [
      "saved\n",
      "/home/srivathsa/projects/studies/gad/tiantan/preprocess/data/NO108.h5\n",
      "loaded\n",
      "(196, 3, 256, 256)\n",
      "/raid/jiang/projects/SubtleGad/tiantan/data_256/NO108.h5\n"
     ]
    },
    {
     "name": "stderr",
     "output_type": "stream",
     "text": [
      "\r",
      " 93%|█████████▎| 114/122 [05:50<00:16,  2.09s/it]"
     ]
    },
    {
     "name": "stdout",
     "output_type": "stream",
     "text": [
      "saved\n",
      "/home/srivathsa/projects/studies/gad/tiantan/preprocess/data/NO49.h5\n",
      "loaded\n",
      "(196, 4, 256, 256)\n",
      "/raid/jiang/projects/SubtleGad/tiantan/data_256/NO49.h5\n"
     ]
    },
    {
     "name": "stderr",
     "output_type": "stream",
     "text": [
      "\r",
      " 94%|█████████▍| 115/122 [05:53<00:16,  2.40s/it]"
     ]
    },
    {
     "name": "stdout",
     "output_type": "stream",
     "text": [
      "saved\n",
      "/home/srivathsa/projects/studies/gad/tiantan/preprocess/data/NO30.h5\n",
      "loaded\n",
      "(196, 4, 256, 256)\n",
      "/raid/jiang/projects/SubtleGad/tiantan/data_256/NO30.h5\n"
     ]
    },
    {
     "name": "stderr",
     "output_type": "stream",
     "text": [
      "\r",
      " 95%|█████████▌| 116/122 [05:59<00:20,  3.33s/it]"
     ]
    },
    {
     "name": "stdout",
     "output_type": "stream",
     "text": [
      "saved\n",
      "/home/srivathsa/projects/studies/gad/tiantan/preprocess/data/NO111.h5\n",
      "loaded\n",
      "(196, 3, 256, 256)\n",
      "/raid/jiang/projects/SubtleGad/tiantan/data_256/NO111.h5\n"
     ]
    },
    {
     "name": "stderr",
     "output_type": "stream",
     "text": [
      "\r",
      " 96%|█████████▌| 117/122 [06:01<00:14,  2.81s/it]"
     ]
    },
    {
     "name": "stdout",
     "output_type": "stream",
     "text": [
      "saved\n",
      "/home/srivathsa/projects/studies/gad/tiantan/preprocess/data/Brain3H-600437593.h5\n",
      "loaded\n",
      "(196, 3, 256, 256)\n",
      "/raid/jiang/projects/SubtleGad/tiantan/data_256/Brain3H-600437593.h5\n"
     ]
    },
    {
     "name": "stderr",
     "output_type": "stream",
     "text": [
      "\r",
      " 97%|█████████▋| 118/122 [06:02<00:09,  2.39s/it]"
     ]
    },
    {
     "name": "stdout",
     "output_type": "stream",
     "text": [
      "saved\n",
      "/home/srivathsa/projects/studies/gad/tiantan/preprocess/data/Brain5H-601047608.h5\n",
      "loaded\n",
      "(196, 3, 256, 256)\n",
      "/raid/jiang/projects/SubtleGad/tiantan/data_256/Brain5H-601047608.h5\n"
     ]
    },
    {
     "name": "stderr",
     "output_type": "stream",
     "text": [
      "\r",
      " 98%|█████████▊| 119/122 [06:03<00:06,  2.04s/it]"
     ]
    },
    {
     "name": "stdout",
     "output_type": "stream",
     "text": [
      "saved\n",
      "/home/srivathsa/projects/studies/gad/tiantan/preprocess/data/Brain2H-600441599.h5\n",
      "loaded\n",
      "(196, 4, 256, 256)\n",
      "/raid/jiang/projects/SubtleGad/tiantan/data_256/Brain2H-600441599.h5\n"
     ]
    },
    {
     "name": "stderr",
     "output_type": "stream",
     "text": [
      "\r",
      " 98%|█████████▊| 120/122 [06:09<00:06,  3.12s/it]"
     ]
    },
    {
     "name": "stdout",
     "output_type": "stream",
     "text": [
      "saved\n",
      "/home/srivathsa/projects/studies/gad/tiantan/preprocess/data/Brain4H-601044594.h5\n",
      "loaded\n",
      "(196, 3, 256, 256)\n",
      "/raid/jiang/projects/SubtleGad/tiantan/data_256/Brain4H-601044594.h5\n"
     ]
    },
    {
     "name": "stderr",
     "output_type": "stream",
     "text": [
      "\r",
      " 99%|█████████▉| 121/122 [06:11<00:02,  2.84s/it]"
     ]
    },
    {
     "name": "stdout",
     "output_type": "stream",
     "text": [
      "saved\n",
      "/home/srivathsa/projects/studies/gad/tiantan/preprocess/data/Case1.h5\n",
      "loaded\n",
      "(196, 4, 256, 256)\n",
      "/raid/jiang/projects/SubtleGad/tiantan/data_256/Case1.h5\n"
     ]
    },
    {
     "name": "stderr",
     "output_type": "stream",
     "text": [
      "100%|██████████| 122/122 [06:17<00:00,  3.09s/it]"
     ]
    },
    {
     "name": "stdout",
     "output_type": "stream",
     "text": [
      "saved\n"
     ]
    },
    {
     "name": "stderr",
     "output_type": "stream",
     "text": [
      "\n"
     ]
    }
   ],
   "source": [
    "for file in tqdm(src_files):\n",
    "    print(file)\n",
    "    data = load_h5_file(file)\n",
    "    data_mask = load_h5_file(file, h5_key='data_mask')\n",
    "    print(\"loaded\")\n",
    "    data = np.pad(data, ((0,0), (0,0), (8,8), (8,8)), 'constant', \n",
    "                 constant_values=0)\n",
    "    data_mask = np.pad(data_mask, ((0,0), (0,0), (8,8), (8,8)), 'constant', \n",
    "                 constant_values=0)\n",
    "    print(data.shape)\n",
    "    case = file.split(\"/\")[-1]\n",
    "    dst_file = os.path.join(dst_dir, case)\n",
    "    print(dst_file)\n",
    "    save_data_h5(dst_file, data, data_mask=data_mask)\n",
    "    print(\"saved\")"
   ]
  },
  {
   "cell_type": "code",
   "execution_count": null,
   "id": "9e7d2dd3",
   "metadata": {},
   "outputs": [],
   "source": [
    "file = src_files[0]\n",
    "data = load_h5_file(file)"
   ]
  },
  {
   "cell_type": "code",
   "execution_count": null,
   "id": "95189f7d",
   "metadata": {},
   "outputs": [],
   "source": [
    "data.shape"
   ]
  },
  {
   "cell_type": "code",
   "execution_count": null,
   "id": "2d143177",
   "metadata": {},
   "outputs": [],
   "source": [
    "data = np.pad(data, ((0,0), (0,0), (8,8), (8,8)), 'constant', \n",
    "                 constant_values=0)"
   ]
  },
  {
   "cell_type": "code",
   "execution_count": null,
   "id": "3f6236bb",
   "metadata": {},
   "outputs": [],
   "source": [
    "data.shape"
   ]
  },
  {
   "cell_type": "code",
   "execution_count": null,
   "id": "c575a3a2",
   "metadata": {},
   "outputs": [],
   "source": [
    "data[0,0,0,0]"
   ]
  },
  {
   "cell_type": "code",
   "execution_count": null,
   "id": "747e9485",
   "metadata": {},
   "outputs": [],
   "source": []
  }
 ],
 "metadata": {
  "kernelspec": {
   "display_name": "Python 3",
   "language": "python",
   "name": "python3"
  },
  "language_info": {
   "codemirror_mode": {
    "name": "ipython",
    "version": 3
   },
   "file_extension": ".py",
   "mimetype": "text/x-python",
   "name": "python",
   "nbconvert_exporter": "python",
   "pygments_lexer": "ipython3",
   "version": "3.9.5"
  }
 },
 "nbformat": 4,
 "nbformat_minor": 5
}
