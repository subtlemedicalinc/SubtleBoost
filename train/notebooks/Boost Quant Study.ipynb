{
 "cells": [
  {
   "cell_type": "code",
   "execution_count": 3,
   "id": "e402f9af",
   "metadata": {},
   "outputs": [
    {
     "data": {
      "text/plain": [
       "<Figure size 864x720 with 0 Axes>"
      ]
     },
     "metadata": {},
     "output_type": "display_data"
    }
   ],
   "source": [
    "import subtle.utils.io as suio\n",
    "from subtle.subtle_preprocess import register_im\n",
    "import SimpleITK as sitk\n",
    "\n",
    "import numpy as np\n",
    "import pydicom\n",
    "from glob import glob\n",
    "\n",
    "from intensity_normalization.normalize.zscore import ZScoreNormalize\n",
    "zscore_norm = ZScoreNormalize()\n",
    "\n",
    "import matplotlib.pyplot as plt\n",
    "\n",
    "def nz_mean(arr):\n",
    "#     return arr[np.nonzero(arr)].mean()\n",
    "#     arr = zscore_norm(arr.ravel())\n",
    "    return arr.ravel().mean()\n",
    "\n",
    "def nz_std(arr):\n",
    "#     return arr[np.nonzero(arr)].std()\n",
    "#     arr = zscore_norm(arr.ravel())\n",
    "    return arr.ravel().std()\n",
    "\n",
    "def get_dicom_vol(dirpath_dicom):\n",
    "    print('Getting dicom vol', dirpath_dicom)\n",
    "    dcm_files = sorted([f for f in glob('{}/*.dcm'.format(dirpath_dicom))])\n",
    "    dcm = pydicom.dcmread(dcm_files[0])\n",
    "    return np.array([pydicom.dcmread(f).pixel_array for f in dcm_files])\n",
    "\n",
    "def get_boost_vols(dirpath_dicoms, norm=True, register=True):\n",
    "    print('entering method')\n",
    "    dcm_dirs = [d for d in glob('{}/*'.format(dirpath_dicoms))]\n",
    "    dcm_dirs = sorted(dcm_dirs, key=lambda d: int(d.split('/')[-1].split('_')[0]))\n",
    "    \n",
    "    vols = [get_dicom_vol(d) for d in dcm_dirs]\n",
    "    \n",
    "    if register:\n",
    "        pmap = sitk.GetDefaultParameterMap('affine')\n",
    "        print('Registering post contrast...')\n",
    "        vols[1], _ = register_im(vols[0], vols[1], param_map=pmap)\n",
    "        print('Registering Gad Boost...')\n",
    "        vols[2], _ = register_im(vols[0], vols[2], param_map=pmap)\n",
    "        print('Registering Gad Boost MR...')\n",
    "        vols[3], _ = register_im(vols[0], vols[3], param_map=pmap)\n",
    "    \n",
    "    if norm:\n",
    "#         vols = [zscore_norm(v) for v in vols]\n",
    "        vols = [v/v.mean() for v in vols]\n",
    "    \n",
    "    for idx, v in enumerate(vols):\n",
    "        v[idx] = np.clip(v[idx], 0, v[idx].max())\n",
    "        v[idx] = np.interp(v[idx], (v[idx].min(), v[idx].max()), (0, 1))\n",
    "    \n",
    "    return np.array(vols)\n",
    "\n",
    "plt.set_cmap('gray')\n",
    "plt.rcParams['figure.figsize'] = (12, 10)"
   ]
  },
  {
   "cell_type": "code",
   "execution_count": null,
   "id": "43896e03",
   "metadata": {},
   "outputs": [
    {
     "name": "stdout",
     "output_type": "stream",
     "text": [
      "entering method\n",
      "Getting dicom vol /home/srivathsa/projects/studies/gad/stanford/data/gad_mr/Patient_0187/1_AX_BRAVO_8\n",
      "Getting dicom vol /home/srivathsa/projects/studies/gad/stanford/data/gad_mr/Patient_0187/2_AX_BRAVO_+C_14\n",
      "Getting dicom vol /home/srivathsa/projects/studies/gad/stanford/data/gad_mr/Patient_0187/3_AX_BRAVO_GAD_1002\n",
      "Getting dicom vol /home/srivathsa/projects/studies/gad/stanford/data/gad_mr/Patient_0187/6_AX_BRAVO_+C_DNE_MRGADMR_1102\n",
      "Registering post contrast...\n",
      "image registration\n",
      "registration done, 23.8 s\n",
      "Registering Gad Boost...\n",
      "image registration\n",
      "registration done, 21.8 s\n",
      "Registering Gad Boost MR...\n",
      "image registration\n",
      "registration done, 21.6 s\n"
     ]
    }
   ],
   "source": [
    "base_dir = '/home/srivathsa/projects/studies/gad/stanford/data/gad_mr/Patient_0187'\n",
    "vols = get_boost_vols(base_dir)"
   ]
  },
  {
   "cell_type": "code",
   "execution_count": null,
   "id": "7a339b79",
   "metadata": {
    "scrolled": true
   },
   "outputs": [],
   "source": [
    "idx = 163\n",
    "\n",
    "plt.imshow(np.hstack([vols[0, idx], vols[1, idx], vols[2, idx], vols[3, idx]]))\n",
    "plt.axis('off')"
   ]
  },
  {
   "cell_type": "code",
   "execution_count": null,
   "id": "886c37ca",
   "metadata": {},
   "outputs": [],
   "source": [
    "roi_pre, roi_post, roi_gb, roi_gbmr = vols[:, idx-2:idx+2, 287:342 ,235:301]\n",
    "\n",
    "plt.imshow(np.hstack([roi_pre[2], roi_post[2], roi_gb[2], roi_gbmr[2]]))\n",
    "plt.axis('off')"
   ]
  },
  {
   "cell_type": "code",
   "execution_count": null,
   "id": "983b0738",
   "metadata": {},
   "outputs": [],
   "source": [
    "si_roi_pre = nz_mean(roi_pre)\n",
    "si_roi_post = nz_mean(roi_post)\n",
    "si_roi_gb = nz_mean(roi_gb)\n",
    "si_roi_gbmr = nz_mean(roi_gbmr)\n",
    "\n",
    "si_pre = nz_mean(vols[0])\n",
    "si_post = nz_mean(vols[1])\n",
    "si_gb = nz_mean(vols[2])\n",
    "si_gbmr = nz_mean(vols[3])\n",
    "\n",
    "sd_pre = nz_std(vols[0])\n",
    "sd_post = nz_std(vols[1])\n",
    "sd_gb = nz_std(vols[2])\n",
    "sd_gbmr = nz_std(vols[3])\n",
    "\n",
    "cnr_pre = (si_roi_pre - si_pre) / sd_pre\n",
    "cnr_post = (si_roi_post - si_post) / sd_post\n",
    "cnr_gb = (si_roi_gb - si_gb) / sd_gb\n",
    "cnr_gbmr = (si_roi_gbmr - si_gbmr) / sd_gbmr\n",
    "\n",
    "lbr_pre = si_roi_pre / si_pre\n",
    "lbr_post = si_roi_post / si_post\n",
    "lbr_gb = si_roi_gb / si_gb\n",
    "lbr_gbmr = si_roi_gbmr / si_gbmr\n",
    "\n",
    "cep_post = ((si_roi_post - si_roi_pre) / si_roi_pre) * 100\n",
    "cep_gb = ((si_roi_gb - si_roi_pre) / si_roi_pre) * 100\n",
    "cep_gbmr = ((si_roi_gbmr - si_roi_pre) / si_roi_pre) * 100\n",
    "\n",
    "print(cnr_pre, cnr_post, cnr_gb)\n",
    "print(lbr_pre, lbr_post, lbr_gb)\n",
    "print(cep_post, cep_gb)"
   ]
  },
  {
   "cell_type": "code",
   "execution_count": null,
   "id": "529331d0",
   "metadata": {},
   "outputs": [],
   "source": [
    "print(vols[0].min(), vols[0].max())\n",
    "print(vols[1].min(), vols[1].max())\n",
    "print(vols[2].min(), vols[2].max())\n",
    "print(vols[3].min(), vols[3].max())"
   ]
  },
  {
   "cell_type": "code",
   "execution_count": null,
   "id": "993962b9",
   "metadata": {},
   "outputs": [],
   "source": [
    "# Patient_0171 - \n",
    "# Patient_0187 - 163, 287:342 ,235:301\n",
    "# Patient_0342 - 276, 338:376, 234:274\n",
    "# Patient_0399 - 132, 320:335, 240:275\n",
    "# Patient_0492 - 92, 151:243, 203:317"
   ]
  }
 ],
 "metadata": {
  "kernelspec": {
   "display_name": "Python (py35gad)",
   "language": "python",
   "name": "py35gad"
  },
  "language_info": {
   "codemirror_mode": {
    "name": "ipython",
    "version": 3
   },
   "file_extension": ".py",
   "mimetype": "text/x-python",
   "name": "python",
   "nbconvert_exporter": "python",
   "pygments_lexer": "ipython3",
   "version": "3.6.1"
  }
 },
 "nbformat": 4,
 "nbformat_minor": 5
}
