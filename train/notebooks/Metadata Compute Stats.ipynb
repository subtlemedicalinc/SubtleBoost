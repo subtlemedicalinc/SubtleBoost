{
 "cells": [
  {
   "cell_type": "code",
   "execution_count": 10,
   "id": "8fd22d3a",
   "metadata": {},
   "outputs": [],
   "source": [
    "import pydicom\n",
    "from glob import glob\n",
    "import os\n",
    "\n",
    "import subtle.utils.io as suio"
   ]
  },
  {
   "cell_type": "code",
   "execution_count": 24,
   "id": "9d5b609c",
   "metadata": {},
   "outputs": [
    {
     "name": "stdout",
     "output_type": "stream",
     "text": [
      "7\n"
     ]
    }
   ],
   "source": [
    "src_path = '/home/srivathsa/projects/studies/gad/gen_siemens/data'\n",
    "kw = 'Id'\n",
    "cases = [c.split('/')[-1] for c in glob('{}/{}*'.format(src_path, kw))]\n",
    "print(len(cases))\n",
    "magfield = {\n",
    "}\n",
    "\n",
    "for case in cases:\n",
    "    dcm_files = [f for f in glob('{}/{}/*/*/*'.format(src_path, case)) if os.path.isfile(f)]\n",
    "    if len(dcm_files) == 0:\n",
    "        print(case)\n",
    "        continue\n",
    "    dcm = pydicom.dcmread(dcm_files[0])\n",
    "    field = float(dcm.MagneticFieldStrength)\n",
    "    if field in magfield:\n",
    "        magfield[field] += 1\n",
    "    else:\n",
    "        magfield[field] = 1"
   ]
  },
  {
   "cell_type": "code",
   "execution_count": 25,
   "id": "2d38b37a",
   "metadata": {},
   "outputs": [
    {
     "data": {
      "text/plain": [
       "{3.0: 7}"
      ]
     },
     "execution_count": 25,
     "metadata": {},
     "output_type": "execute_result"
    }
   ],
   "source": [
    "magfield"
   ]
  },
  {
   "cell_type": "code",
   "execution_count": null,
   "id": "e930c082",
   "metadata": {},
   "outputs": [],
   "source": []
  }
 ],
 "metadata": {
  "kernelspec": {
   "display_name": "Python (py35gad)",
   "language": "python",
   "name": "py35gad"
  },
  "language_info": {
   "codemirror_mode": {
    "name": "ipython",
    "version": 3
   },
   "file_extension": ".py",
   "mimetype": "text/x-python",
   "name": "python",
   "nbconvert_exporter": "python",
   "pygments_lexer": "ipython3",
   "version": "3.6.0"
  }
 },
 "nbformat": 4,
 "nbformat_minor": 5
}
