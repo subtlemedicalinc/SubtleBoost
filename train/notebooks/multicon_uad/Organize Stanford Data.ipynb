{
 "cells": [
  {
   "cell_type": "code",
   "execution_count": 1,
   "id": "907ba003",
   "metadata": {},
   "outputs": [
    {
     "name": "stderr",
     "output_type": "stream",
     "text": [
      "/home/srivathsa/projects/SubtleGad/train/subtle/utils/hyperparameter.py:8: UserWarning: Module test_tube not found - hyperparameter related functions cannot be used\n",
      "  warnings.warn('Module test_tube not found - hyperparameter related functions cannot be used')\n"
     ]
    }
   ],
   "source": [
    "%matplotlib inline\n",
    "\n",
    "from glob import glob\n",
    "import os\n",
    "from tqdm import tqdm_notebook as tqdm\n",
    "import matplotlib.pyplot as plt\n",
    "import numpy as np\n",
    "import subtle.utils.experiment as su_exp\n",
    "import subtle.utils.io as suio\n",
    "from plot_grid import plot_h5\n",
    "\n",
    "plt.set_cmap('gray')\n",
    "plt.rcParams['figure.figsize'] = (12, 10)\n",
    "\n",
    "def has_sequence(case_dir, kw):\n",
    "    ser_dirs = sorted([d for d in glob('{}/*'.format(case_dir)) if os.path.isdir(d)])\n",
    "    has_seq = [d for d in ser_dirs if kw in d.lower()]\n",
    "    return len(has_seq) > 0\n",
    "\n",
    "def get_dirs_with_kw(case_dir, kw):\n",
    "    ser_dirs = sorted([d for d in glob('{}/*'.format(case_dir)) if os.path.isdir(d)])\n",
    "    return sorted([d for d in ser_dirs if kw in d.lower()])"
   ]
  },
  {
   "cell_type": "code",
   "execution_count": null,
   "id": "35b6f811",
   "metadata": {},
   "outputs": [],
   "source": [
    "base_path = '/mnt/datasets/ben/backup/raid/SubtleGAD_Stanford/Siemens'\n",
    "cases = sorted([f.split('/')[-1] for f in glob('{}/Patient*'.format(base_path))])\n",
    "dest_path = '/home/srivathsa/projects/studies/gad/stanford/data'"
   ]
  },
  {
   "cell_type": "code",
   "execution_count": null,
   "id": "bba31c87",
   "metadata": {},
   "outputs": [],
   "source": [
    "# kws = ['ax_bravo', 'ax_t2', 'flair']\n",
    "kws = ['mprage']\n",
    "cases = ['Patient_0203']\n",
    "for cnum in tqdm(cases, total=len(cases)):\n",
    "    case_dirs = [\n",
    "        d for d in glob('{}/{}/*'.format(base_path, cnum)) \n",
    "        if os.path.isdir(d)\n",
    "    ]\n",
    "    \n",
    "    kw_dirs = []\n",
    "    for kw in kws:\n",
    "        mlist = []\n",
    "        for d in case_dirs:\n",
    "            if kw in d.lower() and 'ax' in d.lower():\n",
    "                mlist.append(d)\n",
    "        kw_dirs.extend(mlist)\n",
    "    kw_dirs = list(set(kw_dirs))\n",
    "    sym_dest = '{}/{}'.format(dest_path, cnum)\n",
    "\n",
    "    if not os.path.exists(sym_dest):\n",
    "        os.makedirs(sym_dest)\n",
    "    for ser in kw_dirs:\n",
    "        os.symlink(ser, '{}/{}'.format(sym_dest, ser.split('/')[-1]))"
   ]
  },
  {
   "cell_type": "code",
   "execution_count": null,
   "id": "553e9737",
   "metadata": {},
   "outputs": [],
   "source": [
    "base_path = '/home/srivathsa/projects/studies/gad/stanford/data'\n",
    "cases = sorted([f.split('/')[-1] for f in glob('{}/Patient*'.format(base_path))])\n",
    "\n",
    "pp_base = '/home/srivathsa/projects/studies/gad/stanford/preprocess/data'\n",
    "\n",
    "fl_cases = sorted([f.split('/')[-1].replace('_FLAIR.npy', '') for f in glob('{}/*FLAIR*'.format(pp_base))])\n",
    "t2_cases = sorted([f.split('/')[-1].replace('_T2.npy', '') for f in glob('{}/*T2*'.format(pp_base))])\n",
    "\n",
    "mis_cases = sorted([f for f in fl_cases if f not in t2_cases])\n",
    "\n",
    "for cnum in mis_cases:\n",
    "    case_dir = os.path.join(base_path, cnum)\n",
    "    \n",
    "    has_mprage = has_sequence(case_dir, 'mprage')\n",
    "    has_bravo = has_sequence(case_dir, 'bravo')\n",
    "    has_t1 = has_mprage or has_bravo\n",
    "    \n",
    "    has_t2 = has_sequence(case_dir, 't2')\n",
    "    has_fl = has_sequence(case_dir, 'flair')\n",
    "    \n",
    "    has_rfm = has_sequence(case_dir, 'reformat')\n",
    "    \n",
    "    if not has_t2:\n",
    "        print(cnum)\n",
    "    \n",
    "#     if has_bravo:\n",
    "#         print(cnum)\n",
    "    \n",
    "#     if has_t1 and has_t2 and has_fl:\n",
    "#         continue\n",
    "#     else:\n",
    "#         print(cnum)"
   ]
  },
  {
   "cell_type": "code",
   "execution_count": null,
   "id": "9be25e0f",
   "metadata": {},
   "outputs": [],
   "source": [
    "pp_path = '/home/srivathsa/projects/studies/gad/stanford/preprocess/data_fp64'\n",
    "pp_dest = '/home/srivathsa/projects/studies/gad/stanford/preprocess/data'\n",
    "cases = sorted([f.split('/')[-1].replace('.npy', '') for f in glob('{}/*.npy'.format(pp_path))])\n",
    "\n",
    "for cnum in tqdm(cases, total=len(cases)):\n",
    "    data = np.load('{}/{}.npy'.format(pp_path, cnum)).astype(np.float16)\n",
    "    if data.shape[2] == 4:\n",
    "        data_t2 = data[:, :, -1]\n",
    "    np.save('{}/{}_T2.npy'.format(pp_dest, cnum), data_t2)"
   ]
  },
  {
   "cell_type": "code",
   "execution_count": null,
   "id": "98c1575e",
   "metadata": {},
   "outputs": [],
   "source": [
    "fl_data = np.load('/home/srivathsa/projects/studies/gad/stanford/preprocess/data/Patient_0085_FLAIR.npy').astype(np.float32)\n",
    "t1_data = np.load('/home/srivathsa/projects/studies/gad/stanford/preprocess/data/Patient_0085.npy').astype(np.float32)\n",
    "\n",
    "t1_pre = t1_data[0, :, 0]\n",
    "t1_pre = t1_pre / t1_pre.mean()\n",
    "\n",
    "t1_low = t1_data[0, :, 1] \n",
    "t1_low = t1_low / t1_low.mean()\n",
    "\n",
    "t1_post = t1_data[0, :, 2]\n",
    "t1_post = t1_post / t1_post.mean()"
   ]
  },
  {
   "cell_type": "code",
   "execution_count": null,
   "id": "e243586c",
   "metadata": {},
   "outputs": [],
   "source": [
    "sl = 184\n",
    "plt.imshow(np.hstack([t1_pre[sl], t1_low[sl], t1_post[sl], fl_data[0, sl]]))"
   ]
  },
  {
   "cell_type": "code",
   "execution_count": null,
   "id": "20eb3d34",
   "metadata": {},
   "outputs": [],
   "source": [
    "all_cases = su_exp.get_experiment_data('stanford_sri', \n",
    "                                       dirpath_exp='/home/srivathsa/projects/SubtleGad/train/configs/experiments')\n",
    "pp_base = '/home/srivathsa/projects/studies/gad/stanford/preprocess/data'\n",
    "fl_cases = sorted([d.split('/')[-1].replace('_FLAIR.npy', '') for d in glob('{}/*FLAIR*'.format(pp_base))])\n",
    "mis_cases = [c for c in all_cases if c not in fl_cases]\n",
    "print(mis_cases)"
   ]
  },
  {
   "cell_type": "code",
   "execution_count": null,
   "id": "c187f9c3",
   "metadata": {},
   "outputs": [],
   "source": [
    "dbase = '/home/srivathsa/projects/studies/gad/stanford/data'\n",
    "for cnum in mis_cases:\n",
    "    if os.path.exists('{}/{}.npy'.format(pp_base, cnum)):\n",
    "        print(cnum)"
   ]
  },
  {
   "cell_type": "code",
   "execution_count": null,
   "id": "8057753e",
   "metadata": {},
   "outputs": [],
   "source": [
    "data = np.load('/home/srivathsa/projects/studies/gad/stanford/preprocess/data/Patient_0186.npy')"
   ]
  },
  {
   "cell_type": "code",
   "execution_count": null,
   "id": "81aacf60",
   "metadata": {},
   "outputs": [],
   "source": [
    "plt.imshow(data[0, 180, 0])\n",
    "plt.colorbar()"
   ]
  },
  {
   "cell_type": "code",
   "execution_count": 2,
   "id": "7358787d",
   "metadata": {},
   "outputs": [
    {
     "name": "stderr",
     "output_type": "stream",
     "text": [
      "/home/srivathsa/miniconda3/envs/py35gad/lib/python3.6/site-packages/ipykernel_launcher.py:6: TqdmDeprecationWarning: This function will be removed in tqdm==5.0.0\n",
      "Please use `tqdm.notebook.tqdm` instead of `tqdm.tqdm_notebook`\n",
      "  \n"
     ]
    },
    {
     "data": {
      "application/vnd.jupyter.widget-view+json": {
       "model_id": "97f77ea18e734485a0de01f94a776d47",
       "version_major": 2,
       "version_minor": 0
      },
      "text/plain": [
       "  0%|          | 0/1 [00:00<?, ?it/s]"
      ]
     },
     "metadata": {},
     "output_type": "display_data"
    }
   ],
   "source": [
    "all_cases = su_exp.get_experiment_data('stanford_sri', \n",
    "                                       dirpath_exp='/home/srivathsa/projects/SubtleGad/train/configs/experiments')\n",
    "\n",
    "pp_base = '/home/srivathsa/projects/studies/gad/stanford/preprocess/data'\n",
    "sc_factor = 1.25\n",
    "for cnum in tqdm(all_cases, total=len(all_cases)):\n",
    "    data = np.load('{}/{}.npy'.format(pp_base, cnum))\n",
    "    data_rs = data.copy()\n",
    "    new_max = data_rs[0, :, 1].max() * sc_factor\n",
    "    data_rs[0, :, 2] = np.interp(\n",
    "        data_rs[0, :, 2], (data_rs[0, :, 2].min(), data_rs[0, :, 2].max()),\n",
    "        (data_rs[0, :, 1].min(), new_max)\n",
    "    )\n",
    "    \n",
    "    np.save('{}/{}_rs.npy'.format(pp_base, cnum), data_rs)"
   ]
  },
  {
   "cell_type": "code",
   "execution_count": 10,
   "id": "de43b947",
   "metadata": {},
   "outputs": [
    {
     "name": "stdout",
     "output_type": "stream",
     "text": [
      "(2, 336, 4, 512, 512)\n"
     ]
    }
   ],
   "source": [
    "d1 = np.load('/home/srivathsa/projects/studies/gad/stanford/preprocess/data/Patient_0323.npy')\n",
    "d2 = np.load('/home/srivathsa/projects/studies/gad/stanford/preprocess/data/Patient_0323_T2.npy')\n",
    "\n",
    "d3 = np.array([d1[0, :, 0], d1[0, :, 1], d1[0, :, 2], d2[0]])\n",
    "d3_m = np.array([d1[1, :, 0], d1[1, :, 1], d1[1, :, 2], d2[1]])\n",
    "\n",
    "d3_new = np.array([d3, d3_m]).transpose(0, 2, 1, 3, 4)\n",
    "print(d3_new.shape)"
   ]
  },
  {
   "cell_type": "code",
   "execution_count": 11,
   "id": "076c5ee4",
   "metadata": {},
   "outputs": [],
   "source": [
    "np.save('/home/srivathsa/projects/studies/gad/stanford/preprocess/data/Patient_0323.npy', d3_new)"
   ]
  },
  {
   "cell_type": "code",
   "execution_count": 11,
   "id": "f5e84ee5",
   "metadata": {},
   "outputs": [],
   "source": [
    "for fpath in glob('/home/srivathsa/projects/studies/gad/stanford/preprocess/data/*rs.npy'):\n",
    "    os.rename(fpath, fpath.replace('_rs', ''))"
   ]
  },
  {
   "cell_type": "code",
   "execution_count": null,
   "id": "52541640",
   "metadata": {},
   "outputs": [],
   "source": [
    "data = np.load('/home/srivathsa/projects/studies/gad/stanford/preprocess/data/Patient_0085_full.npy').astype(np.float32)"
   ]
  },
  {
   "cell_type": "code",
   "execution_count": null,
   "id": "8929563f",
   "metadata": {},
   "outputs": [],
   "source": [
    "fl_cases = sorted([f.split('/')[-1].replace('.npy', '') \n",
    "                   for f in glob('/home/srivathsa/projects/studies/gad/stanford/preprocess/uad_fl/*.npy')])\n",
    "t2_cases = sorted([f.split('/')[-1].replace('.npy', '') \n",
    "                   for f in glob('/home/srivathsa/projects/studies/gad/stanford/preprocess/data/*.npy')])\n",
    "\n",
    "for cnum in t2_cases:\n",
    "    if cnum not in fl_cases:\n",
    "        print(cnum)"
   ]
  },
  {
   "cell_type": "markdown",
   "id": "188e13a0",
   "metadata": {},
   "source": [
    "## Downsample to 256 x 256"
   ]
  },
  {
   "cell_type": "code",
   "execution_count": 2,
   "id": "2b4c026e",
   "metadata": {},
   "outputs": [
    {
     "name": "stderr",
     "output_type": "stream",
     "text": [
      "/home/srivathsa/miniconda3/envs/py35gad/lib/python3.6/site-packages/ipykernel_launcher.py:6: TqdmDeprecationWarning: This function will be removed in tqdm==5.0.0\n",
      "Please use `tqdm.notebook.tqdm` instead of `tqdm.tqdm_notebook`\n",
      "  \n"
     ]
    },
    {
     "data": {
      "application/vnd.jupyter.widget-view+json": {
       "model_id": "a945ecd035fe410db599b1f8ff9d4635",
       "version_major": 2,
       "version_minor": 0
      },
      "text/plain": [
       "  0%|          | 0/459 [00:00<?, ?it/s]"
      ]
     },
     "metadata": {},
     "output_type": "display_data"
    }
   ],
   "source": [
    "fpath_t1 = '/home/srivathsa/projects/studies/gad/stanford/preprocess/data'\n",
    "fpath_fl = '/home/srivathsa/projects/studies/gad/stanford/preprocess/data_fl'\n",
    "\n",
    "cases = sorted([f.split('/')[-1].replace('.npy', '') for f in glob('{}/*.npy'.format(fpath_t1))])\n",
    "\n",
    "for cnum in tqdm(cases, total=len(cases)):\n",
    "    t1pre, t1low, t1post, t2 = suio.load_file(\n",
    "        '{}/{}.npy'.format(fpath_t1, cnum), params={'h5_key': 'data_mask'}\n",
    "    ).transpose(1, 0, 2, 3)\n",
    "        \n",
    "    plt.imshow(t2[180])"
   ]
  },
  {
   "cell_type": "code",
   "execution_count": 4,
   "id": "971ee627",
   "metadata": {},
   "outputs": [
    {
     "data": {
      "text/plain": [
       "<matplotlib.image.AxesImage at 0x7fa0f11205f8>"
      ]
     },
     "execution_count": 4,
     "metadata": {},
     "output_type": "execute_result"
    }
   ],
   "source": [
    "plt.imshow(t2[180])"
   ]
  },
  {
   "cell_type": "code",
   "execution_count": 4,
   "id": "52b75f07",
   "metadata": {},
   "outputs": [],
   "source": [
    "data = np.load('/home/srivathsa/projects/studies/gad/stanford/preprocess/data/Patient_0118.npy')[0]"
   ]
  },
  {
   "cell_type": "code",
   "execution_count": 7,
   "id": "bdcd70a8",
   "metadata": {},
   "outputs": [
    {
     "data": {
      "text/plain": [
       "<matplotlib.image.AxesImage at 0x7f08df617860>"
      ]
     },
     "execution_count": 7,
     "metadata": {},
     "output_type": "execute_result"
    }
   ],
   "source": [
    "plt.imshow(data[180, 0])"
   ]
  },
  {
   "cell_type": "markdown",
   "id": "fd71b610",
   "metadata": {},
   "source": [
    "## Choose cases - train/val/test split"
   ]
  },
  {
   "cell_type": "code",
   "execution_count": 29,
   "id": "a4abc869",
   "metadata": {},
   "outputs": [],
   "source": [
    "exc_cases = [\n",
    "    \"Patient_0138\",\n",
    "    \"Patient_0162\",\n",
    "    \"Patient_0170\",\n",
    "    \"Patient_0183\",\n",
    "    \"Patient_0235\",\n",
    "    \"Patient_0253\",\n",
    "    \"Patient_0285\",\n",
    "    \"Patient_0378\",\n",
    "    \"Patient_0399\"\n",
    "]\n",
    "\n",
    "all_cases = su_exp.get_experiment_data('stanford_sri', \n",
    "                                       dirpath_exp='/home/srivathsa/projects/SubtleGad/train/configs/experiments')\n",
    "\n",
    "avail_cases = sorted([c for c in all_cases if c not in exc_cases])\n",
    "\n",
    "train_cases = np.random.choice(avail_cases, size=375, replace=False)\n",
    "val_cases = [c for c in avail_cases if c not in train_cases] + exc_cases\n",
    "val_cases = sorted(val_cases)"
   ]
  },
  {
   "cell_type": "code",
   "execution_count": 30,
   "id": "90819a6a",
   "metadata": {},
   "outputs": [
    {
     "name": "stdout",
     "output_type": "stream",
     "text": [
      "375\n",
      "67\n"
     ]
    }
   ],
   "source": [
    "print(len(train_cases))\n",
    "print(len(val_cases))"
   ]
  },
  {
   "cell_type": "code",
   "execution_count": 34,
   "id": "225acfb5",
   "metadata": {},
   "outputs": [
    {
     "data": {
      "text/plain": [
       "['Patient_0093',\n",
       " 'Patient_0135',\n",
       " 'Patient_0138',\n",
       " 'Patient_0139',\n",
       " 'Patient_0153',\n",
       " 'Patient_0154',\n",
       " 'Patient_0160',\n",
       " 'Patient_0162',\n",
       " 'Patient_0170',\n",
       " 'Patient_0183',\n",
       " 'Patient_0189',\n",
       " 'Patient_0198',\n",
       " 'Patient_0205',\n",
       " 'Patient_0218',\n",
       " 'Patient_0235',\n",
       " 'Patient_0253',\n",
       " 'Patient_0274',\n",
       " 'Patient_0278',\n",
       " 'Patient_0285',\n",
       " 'Patient_0292',\n",
       " 'Patient_0293',\n",
       " 'Patient_0294',\n",
       " 'Patient_0297',\n",
       " 'Patient_0301',\n",
       " 'Patient_0308',\n",
       " 'Patient_0316',\n",
       " 'Patient_0317',\n",
       " 'Patient_0327',\n",
       " 'Patient_0328',\n",
       " 'Patient_0331',\n",
       " 'Patient_0342',\n",
       " 'Patient_0350',\n",
       " 'Patient_0354',\n",
       " 'Patient_0355',\n",
       " 'Patient_0356',\n",
       " 'Patient_0361',\n",
       " 'Patient_0378',\n",
       " 'Patient_0379',\n",
       " 'Patient_0393',\n",
       " 'Patient_0394',\n",
       " 'Patient_0399',\n",
       " 'Patient_0401',\n",
       " 'Patient_0404',\n",
       " 'Patient_0406',\n",
       " 'Patient_0416',\n",
       " 'Patient_0418',\n",
       " 'Patient_0419',\n",
       " 'Patient_0427',\n",
       " 'Patient_0430',\n",
       " 'Patient_0437',\n",
       " 'Patient_0444',\n",
       " 'Patient_0450',\n",
       " 'Patient_0474',\n",
       " 'Patient_0482',\n",
       " 'Patient_0486',\n",
       " 'Patient_0493',\n",
       " 'Patient_0495',\n",
       " 'Patient_0498',\n",
       " 'Patient_0502',\n",
       " 'Patient_0509',\n",
       " 'Patient_0515',\n",
       " 'Patient_0529',\n",
       " 'Patient_0530',\n",
       " 'Patient_0536',\n",
       " 'Patient_0566',\n",
       " 'Patient_0567',\n",
       " 'Patient_0580']"
      ]
     },
     "execution_count": 34,
     "metadata": {},
     "output_type": "execute_result"
    }
   ],
   "source": [
    "list(sorted(val_cases))"
   ]
  },
  {
   "cell_type": "code",
   "execution_count": 7,
   "id": "e322d463",
   "metadata": {},
   "outputs": [],
   "source": [
    "all_cases = su_exp.get_experiment_data('stanford_mcon', dataset='train', \n",
    "                                       dirpath_exp='/home/srivathsa/projects/SubtleGad/train/configs/experiments')\n"
   ]
  },
  {
   "cell_type": "code",
   "execution_count": 8,
   "id": "89eb2017",
   "metadata": {},
   "outputs": [
    {
     "name": "stdout",
     "output_type": "stream",
     "text": [
      "374\n"
     ]
    }
   ],
   "source": [
    "print(len(all_cases))"
   ]
  },
  {
   "cell_type": "code",
   "execution_count": 10,
   "id": "c00ca6b2",
   "metadata": {},
   "outputs": [],
   "source": [
    "sub_cases = np.random.choice(all_cases, size=150, replace=False)"
   ]
  },
  {
   "cell_type": "code",
   "execution_count": 12,
   "id": "200b6c02",
   "metadata": {},
   "outputs": [
    {
     "data": {
      "text/plain": [
       "['Patient_0085',\n",
       " 'Patient_0086',\n",
       " 'Patient_0088',\n",
       " 'Patient_0092',\n",
       " 'Patient_0102',\n",
       " 'Patient_0106',\n",
       " 'Patient_0108',\n",
       " 'Patient_0109',\n",
       " 'Patient_0113',\n",
       " 'Patient_0115',\n",
       " 'Patient_0116',\n",
       " 'Patient_0120',\n",
       " 'Patient_0121',\n",
       " 'Patient_0123',\n",
       " 'Patient_0124',\n",
       " 'Patient_0127',\n",
       " 'Patient_0128',\n",
       " 'Patient_0134',\n",
       " 'Patient_0137',\n",
       " 'Patient_0142',\n",
       " 'Patient_0143',\n",
       " 'Patient_0144',\n",
       " 'Patient_0147',\n",
       " 'Patient_0150',\n",
       " 'Patient_0151',\n",
       " 'Patient_0157',\n",
       " 'Patient_0159',\n",
       " 'Patient_0161',\n",
       " 'Patient_0168',\n",
       " 'Patient_0169',\n",
       " 'Patient_0171',\n",
       " 'Patient_0173',\n",
       " 'Patient_0175',\n",
       " 'Patient_0176',\n",
       " 'Patient_0177',\n",
       " 'Patient_0181',\n",
       " 'Patient_0186',\n",
       " 'Patient_0195',\n",
       " 'Patient_0201',\n",
       " 'Patient_0202',\n",
       " 'Patient_0206',\n",
       " 'Patient_0208',\n",
       " 'Patient_0211',\n",
       " 'Patient_0212',\n",
       " 'Patient_0214',\n",
       " 'Patient_0215',\n",
       " 'Patient_0217',\n",
       " 'Patient_0222',\n",
       " 'Patient_0223',\n",
       " 'Patient_0226',\n",
       " 'Patient_0228',\n",
       " 'Patient_0231',\n",
       " 'Patient_0232',\n",
       " 'Patient_0246',\n",
       " 'Patient_0254',\n",
       " 'Patient_0256',\n",
       " 'Patient_0257',\n",
       " 'Patient_0259',\n",
       " 'Patient_0267',\n",
       " 'Patient_0270',\n",
       " 'Patient_0273',\n",
       " 'Patient_0280',\n",
       " 'Patient_0281',\n",
       " 'Patient_0283',\n",
       " 'Patient_0287',\n",
       " 'Patient_0299',\n",
       " 'Patient_0300',\n",
       " 'Patient_0323',\n",
       " 'Patient_0339',\n",
       " 'Patient_0344',\n",
       " 'Patient_0345',\n",
       " 'Patient_0346',\n",
       " 'Patient_0348',\n",
       " 'Patient_0349',\n",
       " 'Patient_0351',\n",
       " 'Patient_0352',\n",
       " 'Patient_0353',\n",
       " 'Patient_0357',\n",
       " 'Patient_0358',\n",
       " 'Patient_0360',\n",
       " 'Patient_0362',\n",
       " 'Patient_0364',\n",
       " 'Patient_0366',\n",
       " 'Patient_0368',\n",
       " 'Patient_0380',\n",
       " 'Patient_0381',\n",
       " 'Patient_0387',\n",
       " 'Patient_0402',\n",
       " 'Patient_0405',\n",
       " 'Patient_0410',\n",
       " 'Patient_0411',\n",
       " 'Patient_0412',\n",
       " 'Patient_0413',\n",
       " 'Patient_0414',\n",
       " 'Patient_0417',\n",
       " 'Patient_0420',\n",
       " 'Patient_0421',\n",
       " 'Patient_0425',\n",
       " 'Patient_0428',\n",
       " 'Patient_0438',\n",
       " 'Patient_0440',\n",
       " 'Patient_0442',\n",
       " 'Patient_0443',\n",
       " 'Patient_0446',\n",
       " 'Patient_0447',\n",
       " 'Patient_0451',\n",
       " 'Patient_0455',\n",
       " 'Patient_0456',\n",
       " 'Patient_0457',\n",
       " 'Patient_0461',\n",
       " 'Patient_0464',\n",
       " 'Patient_0465',\n",
       " 'Patient_0468',\n",
       " 'Patient_0470',\n",
       " 'Patient_0472',\n",
       " 'Patient_0473',\n",
       " 'Patient_0476',\n",
       " 'Patient_0477',\n",
       " 'Patient_0488',\n",
       " 'Patient_0490',\n",
       " 'Patient_0491',\n",
       " 'Patient_0497',\n",
       " 'Patient_0504',\n",
       " 'Patient_0507',\n",
       " 'Patient_0508',\n",
       " 'Patient_0510',\n",
       " 'Patient_0513',\n",
       " 'Patient_0514',\n",
       " 'Patient_0522',\n",
       " 'Patient_0523',\n",
       " 'Patient_0524',\n",
       " 'Patient_0527',\n",
       " 'Patient_0535',\n",
       " 'Patient_0541',\n",
       " 'Patient_0546',\n",
       " 'Patient_0550',\n",
       " 'Patient_0551',\n",
       " 'Patient_0555',\n",
       " 'Patient_0556',\n",
       " 'Patient_0558',\n",
       " 'Patient_0560',\n",
       " 'Patient_0561',\n",
       " 'Patient_0562',\n",
       " 'Patient_0565',\n",
       " 'Patient_0572',\n",
       " 'Patient_0573',\n",
       " 'Patient_0574',\n",
       " 'Patient_0575',\n",
       " 'Patient_0577',\n",
       " 'Patient_0578']"
      ]
     },
     "execution_count": 12,
     "metadata": {},
     "output_type": "execute_result"
    }
   ],
   "source": [
    "sorted(sub_cases)"
   ]
  },
  {
   "cell_type": "code",
   "execution_count": 18,
   "id": "82ba80cb",
   "metadata": {},
   "outputs": [
    {
     "name": "stdout",
     "output_type": "stream",
     "text": [
      "58\n"
     ]
    }
   ],
   "source": [
    "exc_cases = [\n",
    "    \"Patient_0138\",\n",
    "    \"Patient_0162\",\n",
    "    \"Patient_0170\",\n",
    "    \"Patient_0183\",\n",
    "    \"Patient_0235\",\n",
    "    \"Patient_0253\",\n",
    "    \"Patient_0285\",\n",
    "    \"Patient_0378\",\n",
    "    \"Patient_0399\"\n",
    "]\n",
    "\n",
    "val_cases = su_exp.get_experiment_data('stanford_mcon', dataset='val', \n",
    "                                       dirpath_exp='/home/srivathsa/projects/SubtleGad/train/configs/experiments')\n",
    "val_cases = [c for c in val_cases if c not in exc_cases]\n",
    "print(len(val_cases))"
   ]
  },
  {
   "cell_type": "code",
   "execution_count": 20,
   "id": "d7a0b615",
   "metadata": {},
   "outputs": [],
   "source": [
    "sub_val_cases = np.random.choice(val_cases, size=26, replace=False)"
   ]
  },
  {
   "cell_type": "code",
   "execution_count": 23,
   "id": "346ce401",
   "metadata": {},
   "outputs": [],
   "source": [
    "sub_val_cases = exc_cases + list(sub_val_cases)"
   ]
  },
  {
   "cell_type": "code",
   "execution_count": 24,
   "id": "d4efc6f1",
   "metadata": {},
   "outputs": [
    {
     "data": {
      "text/plain": [
       "['Patient_0138',\n",
       " 'Patient_0154',\n",
       " 'Patient_0160',\n",
       " 'Patient_0162',\n",
       " 'Patient_0170',\n",
       " 'Patient_0183',\n",
       " 'Patient_0189',\n",
       " 'Patient_0198',\n",
       " 'Patient_0205',\n",
       " 'Patient_0235',\n",
       " 'Patient_0253',\n",
       " 'Patient_0278',\n",
       " 'Patient_0285',\n",
       " 'Patient_0292',\n",
       " 'Patient_0293',\n",
       " 'Patient_0316',\n",
       " 'Patient_0317',\n",
       " 'Patient_0328',\n",
       " 'Patient_0342',\n",
       " 'Patient_0350',\n",
       " 'Patient_0361',\n",
       " 'Patient_0378',\n",
       " 'Patient_0379',\n",
       " 'Patient_0394',\n",
       " 'Patient_0399',\n",
       " 'Patient_0427',\n",
       " 'Patient_0437',\n",
       " 'Patient_0486',\n",
       " 'Patient_0495',\n",
       " 'Patient_0515',\n",
       " 'Patient_0529',\n",
       " 'Patient_0530',\n",
       " 'Patient_0566',\n",
       " 'Patient_0567',\n",
       " 'Patient_0580']"
      ]
     },
     "execution_count": 24,
     "metadata": {},
     "output_type": "execute_result"
    }
   ],
   "source": [
    "sorted(sub_val_cases)"
   ]
  },
  {
   "cell_type": "code",
   "execution_count": 25,
   "id": "bc26a37c",
   "metadata": {},
   "outputs": [
    {
     "name": "stdout",
     "output_type": "stream",
     "text": [
      "35\n"
     ]
    }
   ],
   "source": [
    "print(len(sub_val_cases))"
   ]
  },
  {
   "cell_type": "code",
   "execution_count": null,
   "id": "a333588d",
   "metadata": {},
   "outputs": [],
   "source": []
  }
 ],
 "metadata": {
  "kernelspec": {
   "display_name": "Python (py35gad)",
   "language": "python",
   "name": "py35gad"
  },
  "language_info": {
   "codemirror_mode": {
    "name": "ipython",
    "version": 3
   },
   "file_extension": ".py",
   "mimetype": "text/x-python",
   "name": "python",
   "nbconvert_exporter": "python",
   "pygments_lexer": "ipython3",
   "version": "3.6.0"
  }
 },
 "nbformat": 4,
 "nbformat_minor": 5
}
