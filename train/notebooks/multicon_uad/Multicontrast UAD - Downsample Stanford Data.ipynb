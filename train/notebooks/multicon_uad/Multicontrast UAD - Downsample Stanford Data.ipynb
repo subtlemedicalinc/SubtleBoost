{
 "cells": [
  {
   "cell_type": "code",
   "execution_count": 14,
   "id": "3c712169",
   "metadata": {},
   "outputs": [
    {
     "data": {
      "text/plain": [
       "<Figure size 864x720 with 0 Axes>"
      ]
     },
     "metadata": {},
     "output_type": "display_data"
    }
   ],
   "source": [
    "from glob import glob\n",
    "import subtle.utils.io as suio\n",
    "from tqdm import tqdm_notebook as tqdm\n",
    "import matplotlib.pyplot as plt\n",
    "import numpy as np\n",
    "from skimage.transform import resize\n",
    "\n",
    "plt.set_cmap('gray')\n",
    "plt.rcParams['figure.figsize'] = (15, 12)"
   ]
  },
  {
   "cell_type": "code",
   "execution_count": 20,
   "id": "22fd5034",
   "metadata": {},
   "outputs": [
    {
     "name": "stderr",
     "output_type": "stream",
     "text": [
      "/home/srivathsa/miniconda3/envs/py35gad/lib/python3.6/site-packages/ipykernel_launcher.py:9: TqdmDeprecationWarning: This function will be removed in tqdm==5.0.0\n",
      "Please use `tqdm.notebook.tqdm` instead of `tqdm.tqdm_notebook`\n",
      "  if __name__ == '__main__':\n"
     ]
    },
    {
     "data": {
      "application/vnd.jupyter.widget-view+json": {
       "model_id": "265639282189460b92b2a5ae8eee5fe0",
       "version_major": 2,
       "version_minor": 0
      },
      "text/plain": [
       "  0%|          | 0/459 [00:00<?, ?it/s]"
      ]
     },
     "metadata": {},
     "output_type": "display_data"
    },
    {
     "data": {
      "text/plain": [
       "<Figure size 1080x864 with 0 Axes>"
      ]
     },
     "metadata": {},
     "output_type": "display_data"
    }
   ],
   "source": [
    "fpath_t1 = '/home/srivathsa/projects/studies/gad/stanford/preprocess/data'\n",
    "fpath_fl = '/home/srivathsa/projects/studies/gad/stanford/preprocess/data_fl'\n",
    "fpath_uad = '/home/srivathsa/projects/studies/gad/stanford/preprocess/uad_fl'\n",
    "dest_path = '/home/srivathsa/projects/studies/gad/stanford/preprocess/data_256'\n",
    "cases = sorted([f.split('/')[-1].replace('.npy', '') for f in glob('{}/*.npy'.format(fpath_t1))])\n",
    "ds_size = 256\n",
    "mean_norm = lambda v: v / v.mean()\n",
    "\n",
    "for cnum in tqdm(cases, total=len(cases)):\n",
    "    t1pre, t1low, t1post, t2 = suio.load_file(\n",
    "        '{}/{}.npy'.format(fpath_t1, cnum), params={'h5_key': 'data_mask'}\n",
    "    ).transpose(1, 0, 2, 3)\n",
    "    \n",
    "    t1pre = mean_norm(t1pre)\n",
    "    t1low = mean_norm(t1low)\n",
    "    t1post = mean_norm(t1post)\n",
    "    t2 = mean_norm(t2)\n",
    "    \n",
    "    _, _, _, fl = suio.load_file(\n",
    "        '{}/{}.npy'.format(fpath_fl, cnum), params={'h5_key': 'data_mask'}\n",
    "    ).transpose(1, 0, 2, 3)\n",
    "    \n",
    "    fl = mean_norm(fl)\n",
    "    \n",
    "    uad = np.load('{}/{}.npy'.format(fpath_uad, cnum))\n",
    "    th = uad.max() * 0.1\n",
    "    uad = (uad >= th)\n",
    "    \n",
    "    full_vol = np.array([t1pre, t1low, t1post, t2, fl, uad])\n",
    "    vol_rs = resize(full_vol, (full_vol.shape[0], full_vol.shape[1] // 2, ds_size, ds_size))\n",
    "    \n",
    "    sl = vol_rs.shape[1] // 2\n",
    "    np.save('{}/{}.npy'.format(dest_path, cnum), vol_rs)\n",
    "    \n",
    "    row1 = np.hstack([vol_rs[i][sl] for i in np.arange(3)])\n",
    "    row2 = np.hstack([vol_rs[i][sl] if i != 5 else vol_rs[i][sl] * fl.max() for i in np.arange(3, 6)])\n",
    "    plt.imshow(np.vstack([row1, row2]))\n",
    "    plt.axis('off')\n",
    "    plt.savefig('{}/plots/{}.png'.format(dest_path, cnum))\n",
    "    plt.clf()"
   ]
  },
  {
   "cell_type": "code",
   "execution_count": null,
   "id": "78a8e2e7",
   "metadata": {},
   "outputs": [],
   "source": []
  }
 ],
 "metadata": {
  "kernelspec": {
   "display_name": "Python (py35gad)",
   "language": "python",
   "name": "py35gad"
  },
  "language_info": {
   "codemirror_mode": {
    "name": "ipython",
    "version": 3
   },
   "file_extension": ".py",
   "mimetype": "text/x-python",
   "name": "python",
   "nbconvert_exporter": "python",
   "pygments_lexer": "ipython3",
   "version": "3.6.0"
  }
 },
 "nbformat": 4,
 "nbformat_minor": 5
}
