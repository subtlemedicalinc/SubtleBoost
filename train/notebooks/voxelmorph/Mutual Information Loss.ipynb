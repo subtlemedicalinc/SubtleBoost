{
 "cells": [
  {
   "cell_type": "code",
   "execution_count": null,
   "id": "4a583d4b",
   "metadata": {},
   "outputs": [],
   "source": [
    "%reload_ext autoreload\n",
    "%autoreload 2\n",
    "\n",
    "import neurite as ne\n",
    "import numpy as np\n",
    "import tensorflow.keras.backend as K\n",
    "import tensorflow as tf\n",
    "import nibabel as nib\n",
    "\n",
    "import os\n",
    "os.environ[\"CUDA_DEVICE_ORDER\"] = \"PCI_BUS_ID\"\n",
    "os.environ[\"CUDA_VISIBLE_DEVICES\"] = \"4\"\n",
    "\n",
    "def process_brats_vol(img_vol, pad=False, is_seg=False):\n",
    "    img_vol = np.rot90(img_vol.transpose(2, 0, 1), axes=(1, 2), k=3)\n",
    "    img_vol = img_vol[13:-14]\n",
    "    \n",
    "    if not is_seg:\n",
    "        img_vol = img_vol / img_vol.mean()\n",
    "        img_vol = np.interp(img_vol, (img_vol.min(), img_vol.max()), (0, 1))\n",
    "    \n",
    "    if pad:\n",
    "        img_vol = np.pad(img_vol, pad_width=[(0, 0), (8, 8), (8, 8)], mode='constant', constant_values=0)\n",
    "    return img_vol"
   ]
  },
  {
   "cell_type": "code",
   "execution_count": null,
   "id": "e10a2a32",
   "metadata": {},
   "outputs": [],
   "source": [
    "mi_loss = ne.tf.losses.MutualInformation()"
   ]
  },
  {
   "cell_type": "code",
   "execution_count": null,
   "id": "3b03f62a",
   "metadata": {},
   "outputs": [],
   "source": [
    "data = np.load('/home/srivathsa/projects/studies/gad/vmorph/data/brats/train/BraTS2021_00000.npz')['data']\n",
    "img1 = tf.convert_to_tensor(data[0][..., None], dtype=tf.float32)\n",
    "img2 = tf.convert_to_tensor(data[1][..., None], dtype=tf.float32)\n",
    "\n",
    "print(img1.shape[-1])\n",
    "\n",
    "mi_val = -mi_loss.volumes(img1, img2)"
   ]
  },
  {
   "cell_type": "code",
   "execution_count": null,
   "id": "6b3f12a3",
   "metadata": {},
   "outputs": [],
   "source": [
    "v = K.eval(mi_val)"
   ]
  },
  {
   "cell_type": "code",
   "execution_count": null,
   "id": "dd2fde31",
   "metadata": {},
   "outputs": [],
   "source": [
    "v.mean()"
   ]
  },
  {
   "cell_type": "code",
   "execution_count": null,
   "id": "d7cf5958",
   "metadata": {},
   "outputs": [],
   "source": [
    "fpath_base = '/home/srivathsa/projects/brats_2021/data/val'\n",
    "case_num = 'BraTS2021_00006'\n",
    "\n",
    "t1_pre = process_brats_vol(nib.load('{}/{}/{}_t1.nii.gz'.format(fpath_base, case_num, case_num)).get_fdata(), pad=True)\n",
    "t1_post = process_brats_vol(nib.load('{}/{}/{}_t1ce.nii.gz'.format(fpath_base, case_num, case_num)).get_fdata(), pad=True)\n",
    "\n",
    "mi_val = -mi_loss.volumes(t1_pre.astype(np.float32), t1_post.astype(np.float32))\n",
    "v = K.eval(mi_val)\n",
    "print(v.mean())"
   ]
  },
  {
   "cell_type": "code",
   "execution_count": null,
   "id": "c858c571",
   "metadata": {},
   "outputs": [],
   "source": []
  }
 ],
 "metadata": {
  "kernelspec": {
   "display_name": "voxelmorph",
   "language": "python",
   "name": "voxelmorph"
  },
  "language_info": {
   "codemirror_mode": {
    "name": "ipython",
    "version": 3
   },
   "file_extension": ".py",
   "mimetype": "text/x-python",
   "name": "python",
   "nbconvert_exporter": "python",
   "pygments_lexer": "ipython3",
   "version": "3.7.0"
  }
 },
 "nbformat": 4,
 "nbformat_minor": 5
}
