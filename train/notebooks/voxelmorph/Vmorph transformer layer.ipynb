{
 "cells": [
  {
   "cell_type": "code",
   "execution_count": 3,
   "id": "69d21c24",
   "metadata": {},
   "outputs": [
    {
     "data": {
      "text/plain": [
       "<Figure size 720x576 with 0 Axes>"
      ]
     },
     "metadata": {},
     "output_type": "display_data"
    }
   ],
   "source": [
    "%reload_ext autoreload\n",
    "%autoreload 2\n",
    "\n",
    "import voxelmorph as vxm\n",
    "import numpy as np\n",
    "import tensorflow as tf\n",
    "import os\n",
    "import subtle.utils.io as suio\n",
    "from glob import glob\n",
    "import matplotlib.pyplot as plt\n",
    "from tensorflow.keras.models import Model\n",
    "plt.set_cmap('gray')\n",
    "plt.rcParams['figure.figsize'] = (10, 8)\n",
    "\n",
    "os.environ[\"CUDA_DEVICE_ORDER\"] = \"PCI_BUS_ID\"\n",
    "os.environ[\"CUDA_VISIBLE_DEVICES\"] = \"1\""
   ]
  },
  {
   "cell_type": "code",
   "execution_count": 1,
   "id": "ca6f21eb",
   "metadata": {
    "scrolled": false
   },
   "outputs": [
    {
     "ename": "NameError",
     "evalue": "name 'vxm' is not defined",
     "output_type": "error",
     "traceback": [
      "\u001b[0;31m---------------------------------------------------------------------------\u001b[0m",
      "\u001b[0;31mNameError\u001b[0m                                 Traceback (most recent call last)",
      "\u001b[0;32m<ipython-input-1-f7efdfcdc81f>\u001b[0m in \u001b[0;36m<module>\u001b[0;34m\u001b[0m\n\u001b[0;32m----> 1\u001b[0;31m vxm_affine = vxm.networks.VxmAffine(inshape=(128, 256, 256), batch_norm=False, constraint_params=False,\n\u001b[0m\u001b[1;32m      2\u001b[0m                                           enc_only=True)\n",
      "\u001b[0;31mNameError\u001b[0m: name 'vxm' is not defined"
     ]
    }
   ],
   "source": [
    "vxm_affine = vxm.networks.VxmAffine(inshape=(128, 256, 256), batch_norm=False, constraint_params=False,\n",
    "                                          enc_only=True)"
   ]
  },
  {
   "cell_type": "code",
   "execution_count": null,
   "id": "178101b6",
   "metadata": {},
   "outputs": [],
   "source": [
    "vxm_affine.model.load_weights('/home/srivathsa/projects/studies/gad/vmorph/checkpoints/affine/mse/0010.h5')"
   ]
  },
  {
   "cell_type": "code",
   "execution_count": null,
   "id": "5119c67b",
   "metadata": {},
   "outputs": [],
   "source": [
    "img_list = '/home/srivathsa/projects/studies/gad/vmorph/val_affine_sc.txt'\n",
    "generator = vxm.generators.SubtleGadLoader(img_list, batch_size=1, shuffle=False, affine=True, constraint_params=False)"
   ]
  },
  {
   "cell_type": "code",
   "execution_count": null,
   "id": "dae345c3",
   "metadata": {},
   "outputs": [],
   "source": [
    "(moving, fixed) = generator.__getitem__(1)\n",
    "moving = moving[0]\n",
    "fixed = fixed[0]\n",
    "pred = vxm_affine.model.predict([moving, fixed])"
   ]
  },
  {
   "cell_type": "code",
   "execution_count": null,
   "id": "48516b1f",
   "metadata": {},
   "outputs": [],
   "source": [
    "tmp_model = Model(inputs=[vxm_affine.model.layers[0].input, vxm_affine.model.layers[1].input], \n",
    "                  outputs=vxm_affine.model.layers[-2].output)\n",
    "aff_mtrx = tmp_model.predict([moving, fixed])\n",
    "print(aff_mtrx)"
   ]
  },
  {
   "cell_type": "code",
   "execution_count": null,
   "id": "40317880",
   "metadata": {},
   "outputs": [],
   "source": [
    "plt.imshow(pred[0, 98, ..., 0])\n",
    "print(aff_mtrx)\n",
    "print(pred.min(), pred.max())"
   ]
  },
  {
   "cell_type": "code",
   "execution_count": null,
   "id": "22bf58ae",
   "metadata": {},
   "outputs": [],
   "source": [
    "p1 = np.load('1.npy')\n",
    "p2 = np.load('2.npy')\n",
    "\n",
    "plt.imshow(p1-p2)\n",
    "plt.colorbar()"
   ]
  },
  {
   "cell_type": "code",
   "execution_count": null,
   "id": "23b719c1",
   "metadata": {},
   "outputs": [],
   "source": [
    "loss_fn = vxm.losses.MSE(1.0).loss\n",
    "vxm_affine.model.compile(optimizer=tf.keras.optimizers.Adam(lr=1e-4), loss=loss_fn)"
   ]
  },
  {
   "cell_type": "code",
   "execution_count": null,
   "id": "0de82d65",
   "metadata": {},
   "outputs": [],
   "source": [
    "vxm_affine.model.fit_generator(generator, epochs=2, verbose=1)"
   ]
  },
  {
   "cell_type": "code",
   "execution_count": null,
   "id": "f7f3147c",
   "metadata": {},
   "outputs": [],
   "source": [
    "model = vxm.networks.Transform(inshape=(196, 240, 240), affine=True)"
   ]
  },
  {
   "cell_type": "code",
   "execution_count": null,
   "id": "f6aac1ce",
   "metadata": {},
   "outputs": [],
   "source": [
    "data = suio.load_file('/home/srivathsa/projects/studies/gad/tiantan/preprocess/data/NO13.h5', \n",
    "                        params={'h5_key': 'all'})\n",
    "\n",
    "ip_img = data[1, :, 0][None, ..., None]"
   ]
  },
  {
   "cell_type": "code",
   "execution_count": null,
   "id": "38a6af0d",
   "metadata": {},
   "outputs": [],
   "source": [
    "# trf_params = np.array([[1, 0, 0, 0], [0, 1, 0, 0], [0, 0, 1, 0]])[None]\n",
    "trf_params = np.array([\n",
    "    [0.99818, 0.0201, -0.0012, -0.197], \n",
    "    [-0.001751, 0.999811, 0.0025, -0.617], \n",
    "    [0.0124535, -0.003, 0.997072, 0.095]]\n",
    ")[None]"
   ]
  },
  {
   "cell_type": "code",
   "execution_count": null,
   "id": "5f996342",
   "metadata": {},
   "outputs": [],
   "source": [
    "ip_trf = model.predict([ip_img, trf_params])[0, ..., 0]"
   ]
  },
  {
   "cell_type": "code",
   "execution_count": null,
   "id": "e9a45957",
   "metadata": {},
   "outputs": [],
   "source": [
    "ip_sl = ip_img[0, 98, ..., 0]\n",
    "plt.imshow(ip_trf[98])"
   ]
  },
  {
   "cell_type": "code",
   "execution_count": null,
   "id": "4f6196cd",
   "metadata": {},
   "outputs": [],
   "source": [
    "for fpath in sorted(glob('/home/srivathsa/projects/studies/gad/vmorph/affine_data/*.npz')):\n",
    "    print(fpath.replace('affine_data', 'affine_data_sc'))\n",
    "#     data = np.load(fpath)['data']\n",
    "#     print(fpath.split('/')[-1], data.min(), data.max())"
   ]
  },
  {
   "cell_type": "code",
   "execution_count": null,
   "id": "642dbf56",
   "metadata": {},
   "outputs": [],
   "source": [
    "plt.imshow(data[1, 98] - data[0, 98])"
   ]
  },
  {
   "cell_type": "code",
   "execution_count": null,
   "id": "9ef7a256",
   "metadata": {},
   "outputs": [],
   "source": [
    "fc = open('/home/srivathsa/projects/studies/gad/vmorph/train_affine.txt', 'r').read()\n",
    "fc = [f.replace('affine_data', 'affine_data/sc') for f in fc.split('\\n') if f != '']\n",
    "print('\\n'.join(fc))"
   ]
  },
  {
   "cell_type": "code",
   "execution_count": null,
   "id": "a4d94c87",
   "metadata": {},
   "outputs": [],
   "source": [
    "val_data = np.load('/home/srivathsa/projects/studies/gad/vmorph/affine_data/NO31.npz')['data']\n",
    "\n",
    "plt.imshow(val_data[0, 98])"
   ]
  },
  {
   "cell_type": "code",
   "execution_count": null,
   "id": "d636aab0",
   "metadata": {},
   "outputs": [],
   "source": []
  }
 ],
 "metadata": {
  "kernelspec": {
   "display_name": "voxelmorph",
   "language": "python",
   "name": "voxelmorph"
  },
  "language_info": {
   "codemirror_mode": {
    "name": "ipython",
    "version": 3
   },
   "file_extension": ".py",
   "mimetype": "text/x-python",
   "name": "python",
   "nbconvert_exporter": "python",
   "pygments_lexer": "ipython3",
   "version": "3.7.0"
  }
 },
 "nbformat": 4,
 "nbformat_minor": 5
}
