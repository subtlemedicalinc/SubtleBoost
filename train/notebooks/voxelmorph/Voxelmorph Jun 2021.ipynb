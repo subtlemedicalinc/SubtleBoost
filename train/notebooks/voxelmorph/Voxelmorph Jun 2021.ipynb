{
 "cells": [
  {
   "cell_type": "code",
   "execution_count": 1,
   "id": "eb9183ae",
   "metadata": {},
   "outputs": [
    {
     "name": "stderr",
     "output_type": "stream",
     "text": [
      "/home/srivathsa/projects/SubtleGad/train/subtle/utils/hyperparameter.py:8: UserWarning: Module test_tube not found - hyperparameter related functions cannot be used\n",
      "  warnings.warn('Module test_tube not found - hyperparameter related functions cannot be used')\n"
     ]
    }
   ],
   "source": [
    "import numpy as np\n",
    "import subtle.utils.io as suio"
   ]
  },
  {
   "cell_type": "code",
   "execution_count": 8,
   "id": "fd215174",
   "metadata": {},
   "outputs": [],
   "source": [
    "cases = ['NO101', 'NO102', 'NO103', 'NO104', 'NO105']\n",
    "base_path = '/home/srivathsa/projects/studies/gad/tiantan/preprocess/data'\n",
    "out_path = '/home/srivathsa/projects/studies/gad/tiantan/preprocess/vmorph'\n",
    "\n",
    "for case in cases:\n",
    "    data = suio.load_file('{}/{}.h5'.format(base_path, case))[:, 0]\n",
    "    data = np.pad(data, pad_width=[(30, 30), (8, 8), (8, 8)], mode='constant', constant_values=0)\n",
    "    np.savez('{}/{}.npz'.format(out_path, case), vol=data)"
   ]
  },
  {
   "cell_type": "code",
   "execution_count": 9,
   "id": "acddb311",
   "metadata": {},
   "outputs": [
    {
     "data": {
      "text/plain": [
       "(256, 256, 256)"
      ]
     },
     "execution_count": 9,
     "metadata": {},
     "output_type": "execute_result"
    }
   ],
   "source": [
    "data.shape"
   ]
  },
  {
   "cell_type": "code",
   "execution_count": null,
   "id": "83157492",
   "metadata": {},
   "outputs": [],
   "source": []
  }
 ],
 "metadata": {
  "kernelspec": {
   "display_name": "Python (py35gad)",
   "language": "python",
   "name": "py35gad"
  },
  "language_info": {
   "codemirror_mode": {
    "name": "ipython",
    "version": 3
   },
   "file_extension": ".py",
   "mimetype": "text/x-python",
   "name": "python",
   "nbconvert_exporter": "python",
   "pygments_lexer": "ipython3",
   "version": "3.6.0"
  }
 },
 "nbformat": 4,
 "nbformat_minor": 5
}
