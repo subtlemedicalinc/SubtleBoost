{
 "cells": [
  {
   "cell_type": "code",
   "execution_count": 4,
   "id": "b38e5c39",
   "metadata": {},
   "outputs": [
    {
     "data": {
      "text/plain": [
       "<Figure size 864x720 with 0 Axes>"
      ]
     },
     "metadata": {},
     "output_type": "display_data"
    }
   ],
   "source": [
    "import pydicom\n",
    "from glob import glob\n",
    "import numpy as np\n",
    "import matplotlib.pyplot as plt\n",
    "import nibabel as nib\n",
    "from scipy.ndimage import affine_transform\n",
    "from scipy.ndimage.interpolation import rotate\n",
    "from tqdm import tqdm_notebook as tqdm\n",
    "\n",
    "plt.set_cmap('gray')\n",
    "plt.rcParams['figure.figsize'] = (12, 10)\n",
    "\n",
    "def preprocess_img(img_vol, pad=False):\n",
    "    img_vol = np.rot90(img_vol.transpose(2, 0, 1), axes=(1, 2), k=3)\n",
    "    img_vol = img_vol / img_vol.mean()\n",
    "    img_vol = np.interp(img_vol, (img_vol.min(), img_vol.max()), (0, 1))\n",
    "    img_vol = img_vol[13:-14]\n",
    "    if pad:\n",
    "        img_vol = np.pad(img_vol, pad_width=[(0, 0), (8, 8), (8, 8)], mode='constant', constant_values=0)\n",
    "    return img_vol\n",
    "\n",
    "def process_sag(img_vol):\n",
    "    img_vol = np.rot90(img_vol, axes=(1, 2), k=1)[56:-56]\n",
    "    img_vol = np.pad(img_vol, pad_width=[(0, 0), (51, 50), (8, 8)], mode='constant', constant_values=0)\n",
    "    img_vol = img_vol / img_vol.mean()\n",
    "    img_vol = np.interp(img_vol, (img_vol.min(), img_vol.max()), (0, 1))\n",
    "    return img_vol\n",
    "\n",
    "def gen_random_affn_mtx():\n",
    "    rfn = np.random.uniform\n",
    "    aff_mtx_lambdas = [\n",
    "        [lambda x: rfn(0.992, 0.999), lambda x: rfn(-0.04, 0.08), lambda x: rfn(-0.04, 0.08), lambda x: rfn(-0.1, 0.2)],\n",
    "        [lambda x: rfn(-0.04, 0.08), lambda x: rfn(0.992, 0.999), lambda x: rfn(-0.04, 0.08), lambda x: rfn(-2, 2)],\n",
    "        [lambda x: rfn(-0.04, 0.08), lambda x: rfn(-0.04, 0.08), lambda x: rfn(0.992, 0.999), lambda x: rfn(-2, 2)]\n",
    "    ]\n",
    "    \n",
    "    aff_mtx = np.zeros((3, 4))\n",
    "    for i in range(3):\n",
    "        for j in range(4):\n",
    "            aff_mtx[i, j] = aff_mtx_lambdas[i][j](0)\n",
    "    return aff_mtx"
   ]
  },
  {
   "cell_type": "code",
   "execution_count": 7,
   "id": "16c8eb80",
   "metadata": {},
   "outputs": [
    {
     "name": "stderr",
     "output_type": "stream",
     "text": [
      "/home/srivathsa/miniconda3/envs/py35gad/lib/python3.6/site-packages/ipykernel_launcher.py:9: TqdmDeprecationWarning: This function will be removed in tqdm==5.0.0\n",
      "Please use `tqdm.notebook.tqdm` instead of `tqdm.tqdm_notebook`\n",
      "  if __name__ == '__main__':\n"
     ]
    },
    {
     "data": {
      "application/vnd.jupyter.widget-view+json": {
       "model_id": "d08a4aef8930445ab977386b40da2cf3",
       "version_major": 2,
       "version_minor": 0
      },
      "text/plain": [
       "  0%|          | 0/125 [00:00<?, ?it/s]"
      ]
     },
     "metadata": {},
     "output_type": "display_data"
    }
   ],
   "source": [
    "# base_paths = ['/home/srivathsa/projects/brats_2021/data/train', '/home/srivathsa/projects/brats_2021/data/val']\n",
    "base_paths = ['/home/srivathsa/projects/brats_2021/data/val']\n",
    "# save_paths = ['/home/srivathsa/projects/studies/gad/vmorph/data/brats_t2/train', '/home/srivathsa/projects/studies/gad/vmorph/data/brats_t2/val']\n",
    "save_paths = ['/home/srivathsa/projects/studies/gad/vmorph/data/brats_self/val']\n",
    "for idx, base_path in enumerate(base_paths):\n",
    "    case_nums = sorted([f.split('/')[-1] for f in glob('{}/*'.format(base_path))])\n",
    "    save_path = save_paths[idx]\n",
    "\n",
    "    for case_num in tqdm(case_nums, total=len(case_nums)):\n",
    "        fixed = nib.load('{}/{}/{}_t1.nii.gz'.format(base_path, case_num, case_num)).get_fdata()\n",
    "#         moving = nib.load('{}/{}/{}_t1ce.nii.gz'.format(base_path, case_num, case_num)).get_fdata()\n",
    "        \n",
    "#         fixed = process_sag(fixed)\n",
    "#         moving = process_sag(moving)\n",
    "        fixed = preprocess_img(fixed, pad=True)\n",
    "        moving = fixed.copy()\n",
    "#         moving = preprocess_img(moving, pad=True)\n",
    "\n",
    "        aff_mtx = gen_random_affn_mtx()\n",
    "        moving_tfm = affine_transform(moving, aff_mtx)\n",
    "        data = np.array([fixed, moving_tfm])\n",
    "        \n",
    "        np.savez('{}/{}.npz'.format(save_path, case_num), data=data, aff_mtx=aff_mtx)"
   ]
  },
  {
   "cell_type": "code",
   "execution_count": null,
   "id": "5c0d93d1",
   "metadata": {},
   "outputs": [],
   "source": [
    "base_path = '/home/srivathsa/projects/studies/gad/vmorph/data/brats/val'\n",
    "dest_path = '/home/srivathsa/projects/studies/gad/vmorph/data/brats_256/val'\n",
    "\n",
    "fpaths = sorted([f for f in glob('{}/*.npz'.format(base_path))])\n",
    "for fpath in tqdm(fpaths, total=len(fpaths)):\n",
    "    case_num = fpath.split('/')[-1].replace('.npz', '')\n",
    "    npz = np.load(fpath)\n",
    "    data = npz['data']\n",
    "    aff_mtx = npz['aff_mtx']\n",
    "    \n",
    "    data = np.pad(data, pad_width=[(0, 0), (0, 0), (8, 8), (8, 8)], mode='constant', constant_values=0)\n",
    "    np.savez('{}/{}.npz'.format(dest_path, case_num), data=data, aff_mtx=aff_mtx)"
   ]
  },
  {
   "cell_type": "code",
   "execution_count": null,
   "id": "8bd50087",
   "metadata": {},
   "outputs": [],
   "source": [
    "plt.imshow(moving_tfm[64] - fixed[64])"
   ]
  },
  {
   "cell_type": "code",
   "execution_count": null,
   "id": "d4f5ecca",
   "metadata": {},
   "outputs": [],
   "source": [
    "plt.imshow(t1_post[14] - t1_pre[14])"
   ]
  },
  {
   "cell_type": "code",
   "execution_count": null,
   "id": "46c8c3b4",
   "metadata": {},
   "outputs": [],
   "source": [
    "t1_pre = nib.load('/home/srivathsa/projects/brats_2021/data/train/BraTS2021_00132/BraTS2021_00132_t1.nii.gz').get_data()\n",
    "t1_post = nib.load('/home/srivathsa/projects/brats_2021/data/train/BraTS2021_00132/BraTS2021_00132_t1ce.nii.gz').get_data()\n",
    "\n",
    "print(t1_pre.shape, t1_post.shape)"
   ]
  },
  {
   "cell_type": "code",
   "execution_count": null,
   "id": "54daff15",
   "metadata": {},
   "outputs": [],
   "source": [
    "plt.imshow(t1_post[..., 70] - t1_pre[..., 70])"
   ]
  },
  {
   "cell_type": "code",
   "execution_count": null,
   "id": "fafe77cc",
   "metadata": {},
   "outputs": [],
   "source": [
    "data = np.load('/home/srivathsa/projects/studies/gad/vmorph/affine_data/NO1.npz')['data']\n",
    "print(data.shape)"
   ]
  },
  {
   "cell_type": "code",
   "execution_count": null,
   "id": "08424658",
   "metadata": {},
   "outputs": [],
   "source": [
    "base_path = '/home/srivathsa/projects/studies/gad/vmorph/data/brats/val'\n",
    "out_file = '/home/srivathsa/projects/studies/gad/vmorph/image_lists/brats/val.txt'\n",
    "\n",
    "fpaths = sorted([f for f in glob('{}/*.npz'.format(base_path))])\n",
    "fpath_str = '\\n'.join(fpaths)\n",
    "\n",
    "with open(out_file, 'w') as f:\n",
    "    f.write(fpath_str)"
   ]
  },
  {
   "cell_type": "code",
   "execution_count": null,
   "id": "ef771bc4",
   "metadata": {},
   "outputs": [],
   "source": [
    "t1, t1ce = np.load('/home/srivathsa/projects/studies/gad/vmorph/brats/data/train/BraTS2021_00000.npz')['data']\n",
    "print(t1.shape)"
   ]
  },
  {
   "cell_type": "code",
   "execution_count": null,
   "id": "8b14978b",
   "metadata": {},
   "outputs": [],
   "source": [
    "plt.imshow(t1ce[64] - t1[64])"
   ]
  },
  {
   "cell_type": "code",
   "execution_count": null,
   "id": "a9a81ea7",
   "metadata": {},
   "outputs": [],
   "source": [
    "base_path = '/home/srivathsa/projects/brats_2021/data/train'\n",
    "case_num = 'BraTS2021_00000'\n",
    "fixed = nib.load('{}/{}/{}_t1.nii.gz'.format(base_path, case_num, case_num)).get_fdata()\n",
    "moving = nib.load('{}/{}/{}_t1ce.nii.gz'.format(base_path, case_num, case_num)).get_fdata()\n",
    "fixed = preprocess_img(fixed)\n",
    "moving = preprocess_img(moving)"
   ]
  },
  {
   "cell_type": "code",
   "execution_count": null,
   "id": "c3d1afce",
   "metadata": {},
   "outputs": [],
   "source": [
    "plt.imshow(moving[64] - t1ce[64])"
   ]
  },
  {
   "cell_type": "code",
   "execution_count": null,
   "id": "b1e87db7",
   "metadata": {},
   "outputs": [],
   "source": []
  }
 ],
 "metadata": {
  "kernelspec": {
   "display_name": "Python (py35gad)",
   "language": "python",
   "name": "py35gad"
  },
  "language_info": {
   "codemirror_mode": {
    "name": "ipython",
    "version": 3
   },
   "file_extension": ".py",
   "mimetype": "text/x-python",
   "name": "python",
   "nbconvert_exporter": "python",
   "pygments_lexer": "ipython3",
   "version": "3.6.0"
  }
 },
 "nbformat": 4,
 "nbformat_minor": 5
}
