{
 "cells": [
  {
   "cell_type": "code",
   "execution_count": null,
   "id": "eb9da1ab",
   "metadata": {},
   "outputs": [],
   "source": [
    "%reload_ext autoreload\n",
    "%autoreload 2\n",
    "\n",
    "import warnings\n",
    "warnings.filterwarnings('ignore')\n",
    "import numpy as np\n",
    "\n",
    "import os\n",
    "\n",
    "os.environ[\"CUDA_DEVICE_ORDER\"] = \"PCI_BUS_ID\"\n",
    "os.environ[\"CUDA_VISIBLE_DEVICES\"] = \"5\"\n",
    "\n",
    "from voxelmorph.tf.dense_guided_affine import DenseGuidedAffine\n",
    "from voxelmorph.tf.networks import VxmDense\n",
    "from voxelmorph.tf import utils\n",
    "\n",
    "from tensorflow.keras.callbacks import TensorBoard, LearningRateScheduler\n",
    "import tensorflow as tf\n",
    "import matplotlib.pyplot as plt\n",
    "plt.set_cmap('gray')\n",
    "plt.rcParams['figure.figsize'] = (10, 8)"
   ]
  },
  {
   "cell_type": "code",
   "execution_count": null,
   "id": "e3d8ce4a",
   "metadata": {},
   "outputs": [],
   "source": [
    "# t1 = np.eye(4)[:-1, :]\n",
    "t1 = np.random.rand(3, 4)\n",
    "t2 = np.zeros((128, 256, 256, 3))\n",
    "\n",
    "t3 = utils.compose([t1, t2])"
   ]
  },
  {
   "cell_type": "code",
   "execution_count": null,
   "id": "5f2797df",
   "metadata": {},
   "outputs": [],
   "source": [
    "img1, img2 = np.load('/home/srivathsa/projects/studies/gad/vmorph/data/brats_real/train/BraTS2021_00000.npz')['data']\n",
    "img2_or = img2.copy()\n",
    "img2 = tf.convert_to_tensor(img2[..., None].astype(np.float32))\n",
    "img_tfm = utils.transform(img2, t3)\n",
    "img_tfm = img_tfm.numpy()[..., 0]"
   ]
  },
  {
   "cell_type": "code",
   "execution_count": null,
   "id": "75a36e76",
   "metadata": {},
   "outputs": [],
   "source": [
    "plt.imshow(img2_or[64] - img_tfm[64])"
   ]
  },
  {
   "cell_type": "code",
   "execution_count": null,
   "id": "1335b95d",
   "metadata": {},
   "outputs": [],
   "source": [
    "model = DenseGuidedAffine(inshape=(128, 256, 256), verbose=1)"
   ]
  },
  {
   "cell_type": "code",
   "execution_count": null,
   "id": "d7f68d1d",
   "metadata": {},
   "outputs": [],
   "source": [
    "model.model.summary(line_length=200)"
   ]
  },
  {
   "cell_type": "code",
   "execution_count": null,
   "id": "75e77f43",
   "metadata": {},
   "outputs": [],
   "source": [
    "dp = model.model.get_layer('drop_path')"
   ]
  },
  {
   "cell_type": "code",
   "execution_count": null,
   "id": "b5b008aa",
   "metadata": {},
   "outputs": [],
   "source": [
    "dp.drop_path_prob"
   ]
  },
  {
   "cell_type": "code",
   "execution_count": null,
   "id": "b30679c2",
   "metadata": {},
   "outputs": [],
   "source": [
    "tf.summary.image()"
   ]
  },
  {
   "cell_type": "code",
   "execution_count": null,
   "id": "db2b2c4a",
   "metadata": {},
   "outputs": [],
   "source": [
    "from tensorboardX import SummaryWriter"
   ]
  },
  {
   "cell_type": "code",
   "execution_count": null,
   "id": "488d4ecb",
   "metadata": {},
   "outputs": [],
   "source": [
    "writer = SummaryWriter('./logs')"
   ]
  },
  {
   "cell_type": "code",
   "execution_count": null,
   "id": "6c34008b",
   "metadata": {},
   "outputs": [],
   "source": [
    "img1, img2 = np.load('/home/srivathsa/projects/studies/gad/vmorph/data/brats_real/train/BraTS2021_00000.npz')['data']\n",
    "disp_img = np.hstack([img1[64], img2[64]])\n",
    "writer.add_image('test', disp_img, 0)"
   ]
  },
  {
   "cell_type": "code",
   "execution_count": null,
   "id": "bd3aac9e",
   "metadata": {},
   "outputs": [],
   "source": []
  }
 ],
 "metadata": {
  "kernelspec": {
   "display_name": "voxelmorph",
   "language": "python",
   "name": "voxelmorph"
  },
  "language_info": {
   "codemirror_mode": {
    "name": "ipython",
    "version": 3
   },
   "file_extension": ".py",
   "mimetype": "text/x-python",
   "name": "python",
   "nbconvert_exporter": "python",
   "pygments_lexer": "ipython3",
   "version": "3.7.0"
  }
 },
 "nbformat": 4,
 "nbformat_minor": 5
}
