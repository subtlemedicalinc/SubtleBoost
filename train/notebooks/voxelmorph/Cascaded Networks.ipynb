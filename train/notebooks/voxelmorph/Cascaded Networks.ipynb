{
 "cells": [
  {
   "cell_type": "code",
   "execution_count": 7,
   "id": "dbbbe8a5",
   "metadata": {},
   "outputs": [
    {
     "data": {
      "text/plain": [
       "<Figure size 720x576 with 0 Axes>"
      ]
     },
     "metadata": {},
     "output_type": "display_data"
    }
   ],
   "source": [
    "%reload_ext autoreload\n",
    "%autoreload 2\n",
    "\n",
    "import voxelmorph as vxm\n",
    "import matplotlib.pyplot as plt\n",
    "import neurite as ne\n",
    "import os\n",
    "import numpy as np\n",
    "import subtle.subtle_preprocess as supre\n",
    "import subtle.utils.io as suio\n",
    "import subtle.subtle_metrics as su_metrics\n",
    "import pydicom\n",
    "from glob import glob\n",
    "\n",
    "import keras.layers as KL\n",
    "from keras.models import Model\n",
    "\n",
    "plt.set_cmap('gray')\n",
    "plt.rcParams['figure.figsize'] = (10, 8)\n",
    "\n",
    "os.environ[\"CUDA_DEVICE_ORDER\"] = \"PCI_BUS_ID\"\n",
    "os.environ[\"CUDA_VISIBLE_DEVICES\"] = \"1\""
   ]
  },
  {
   "cell_type": "code",
   "execution_count": 9,
   "id": "379b2e1e",
   "metadata": {},
   "outputs": [
    {
     "name": "stdout",
     "output_type": "stream",
     "text": [
      "Model: \"model_8\"\n",
      "__________________________________________________________________________________________________\n",
      "Layer (type)                    Output Shape         Param #     Connected to                     \n",
      "==================================================================================================\n",
      "cascade_source_input (InputLaye (None, 128, 256, 256 0                                            \n",
      "__________________________________________________________________________________________________\n",
      "cascade_target_input (InputLaye (None, 128, 256, 256 0                                            \n",
      "__________________________________________________________________________________________________\n",
      "model_5 (Model)                 (None, 128, 256, 256 13016380    cascade_source_input[0][0]       \n",
      "                                                                 cascade_target_input[0][0]       \n",
      "__________________________________________________________________________________________________\n",
      "model_6 (Model)                 (None, 128, 256, 256 13016380    model_5[1][0]                    \n",
      "                                                                 cascade_target_input[0][0]       \n",
      "__________________________________________________________________________________________________\n",
      "model_7 (Model)                 (None, 128, 256, 256 13016380    model_6[1][0]                    \n",
      "                                                                 cascade_target_input[0][0]       \n",
      "==================================================================================================\n",
      "Total params: 39,049,140\n",
      "Trainable params: 38,939,940\n",
      "Non-trainable params: 109,200\n",
      "__________________________________________________________________________________________________\n"
     ]
    }
   ],
   "source": [
    "n_cascades = 3\n",
    "img_shape = (128, 256, 256)\n",
    "name = 'cascade'\n",
    "\n",
    "source = KL.Input(shape=(*img_shape, 1), name='{}_source_input'.format(name))\n",
    "target = KL.Input(shape=(*img_shape, 1), name='{}_target_input'.format(name))\n",
    "\n",
    "nets = [vxm.networks.AIRNet(inshape=(128, 256, 256), verbose=0).model for _ in np.arange(n_cascades)]\n",
    "\n",
    "src_moved = source\n",
    "\n",
    "for c_idx in np.arange(n_cascades):\n",
    "    src_moved = nets[c_idx]([src_moved, target])\n",
    "    \n",
    "model = Model(inputs=[source, target], outputs=[src_moved])\n",
    "model.summary()"
   ]
  },
  {
   "cell_type": "code",
   "execution_count": 14,
   "id": "b89892bf",
   "metadata": {},
   "outputs": [
    {
     "name": "stdout",
     "output_type": "stream",
     "text": [
      "airnet\n"
     ]
    }
   ],
   "source": [
    "s = str(vxm.networks.AIRNet)\n",
    "print(s.replace('\\'', '').replace('<', '').replace('>', '').split('.')[-1].lower())"
   ]
  },
  {
   "cell_type": "code",
   "execution_count": null,
   "id": "96939d4c",
   "metadata": {},
   "outputs": [],
   "source": []
  }
 ],
 "metadata": {
  "kernelspec": {
   "display_name": "voxelmorph",
   "language": "python",
   "name": "voxelmorph"
  },
  "language_info": {
   "codemirror_mode": {
    "name": "ipython",
    "version": 3
   },
   "file_extension": ".py",
   "mimetype": "text/x-python",
   "name": "python",
   "nbconvert_exporter": "python",
   "pygments_lexer": "ipython3",
   "version": "3.7.0"
  }
 },
 "nbformat": 4,
 "nbformat_minor": 5
}
