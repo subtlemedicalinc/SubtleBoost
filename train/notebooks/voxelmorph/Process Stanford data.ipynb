{
 "cells": [
  {
   "cell_type": "code",
   "execution_count": 1,
   "id": "0ca6415d",
   "metadata": {},
   "outputs": [
    {
     "name": "stderr",
     "output_type": "stream",
     "text": [
      "/home/srivathsa/projects/SubtleGad/train/subtle/utils/hyperparameter.py:8: UserWarning: Module test_tube not found - hyperparameter related functions cannot be used\n",
      "  warnings.warn('Module test_tube not found - hyperparameter related functions cannot be used')\n"
     ]
    },
    {
     "data": {
      "text/plain": [
       "<Figure size 432x288 with 0 Axes>"
      ]
     },
     "metadata": {},
     "output_type": "display_data"
    }
   ],
   "source": [
    "import sys\n",
    "sys.path.insert(0, '/home/srivathsa/projects/HD-BET')\n",
    "\n",
    "from HD_BET.run import run_hd_bet\n",
    "import SimpleITK as sitk\n",
    "import os\n",
    "import pydicom\n",
    "import numpy as np\n",
    "from glob import glob\n",
    "import tempfile\n",
    "from subtle.subtle_preprocess import dcm_to_sitk, zoom_iso, zero_pad, center_crop\n",
    "import matplotlib.pyplot as plt\n",
    "import nibabel as nib\n",
    "from tqdm import tqdm_notebook as tqdm\n",
    "\n",
    "plt.set_cmap('gray')\n",
    "plt.rcParams['figure.figsize'] = (10, 8)\n",
    "\n",
    "def find_t1_series(dirpath_case):\n",
    "    ser_nums = []\n",
    "    for ser_dir in glob('{}/*'.format(dirpath_case)):\n",
    "        if 't2' in ser_dir.lower() or 'flair' in ser_dir.lower(): continue\n",
    "        dcm_file = [\n",
    "            f for f in glob('{}/**/*'.format(ser_dir), recursive=True)\n",
    "            if os.path.isfile(f) and 'XX' not in f\n",
    "        ][0]\n",
    "        dcm = pydicom.dcmread(dcm_file)\n",
    "        ser_nums.append((ser_dir, dcm.SeriesNumber))\n",
    "\n",
    "    ser_nums = sorted(ser_nums, key=lambda s: int(s[1]))\n",
    "    return [s[0] for s in ser_nums]\n",
    "\n",
    "def bet_volume(fpath, device=0):\n",
    "    with tempfile.TemporaryDirectory() as tmpdir:\n",
    "        fpath_input = '{}/input.nii.gz'.format(tmpdir)\n",
    "        fpath_output = '{}/output.nii.gz'.format(tmpdir)\n",
    "        img_sitk = dcm_to_sitk(fpath)\n",
    "        sitk.WriteImage(img_sitk, fpath_input)\n",
    "\n",
    "        run_hd_bet(fpath_input, fpath_output, mode='fast', device=device, do_tta=False)\n",
    "\n",
    "        img_bet = nib.load(fpath_output).get_fdata()\n",
    "        img_bet = img_bet.transpose(2, 1, 0)\n",
    "        \n",
    "    return img_bet, list(img_sitk.GetSpacing())[::-1]\n",
    "\n",
    "def resize_vol(vol, hw=256, d=128):\n",
    "    if vol.shape[1] > hw:\n",
    "        vol_rs = center_crop(vol, np.zeros((vol.shape[0], hw, hw)))\n",
    "    else:\n",
    "        vol_rs = zero_pad(vol, target_size=hw)\n",
    "    z_diff = (vol_rs.shape[0] - d) // 2\n",
    "    return vol_rs[z_diff:-z_diff, ...]\n",
    "\n",
    "def process_vol(fpath, gpu_device=0, hw=256, d=128, target_spacing=None, bet=True):\n",
    "    if target_spacing is None:\n",
    "        target_spacing = np.array([1, 1, 1])\n",
    "    if bet:\n",
    "        vol, spacing = bet_volume(fpath, device=gpu_device)\n",
    "    else:\n",
    "        img_sitk = dcm_to_sitk(fpath)\n",
    "        vol = sitk.GetArrayFromImage(img_sitk)\n",
    "        spacing = list(img_sitk.GetSpacing())[::-1]\n",
    "    vol, _ = zoom_iso(vol, np.array(spacing), target_spacing)\n",
    "    vol = resize_vol(vol)\n",
    "    \n",
    "    return vol\n",
    "\n",
    "def scale_vol(vol):\n",
    "    vol = np.clip(vol, 0, vol.max())\n",
    "    vol = vol / vol.mean()\n",
    "    vol = np.interp(vol, (vol.min(), vol.max()), (0, 1))\n",
    "    return vol"
   ]
  },
  {
   "cell_type": "code",
   "execution_count": 2,
   "id": "716963b0",
   "metadata": {},
   "outputs": [
    {
     "name": "stderr",
     "output_type": "stream",
     "text": [
      "/home/srivathsa/miniconda3/envs/uad_ae/lib/python3.6/site-packages/ipykernel_launcher.py:20: TqdmDeprecationWarning: This function will be removed in tqdm==5.0.0\n",
      "Please use `tqdm.notebook.tqdm` instead of `tqdm.tqdm_notebook`\n"
     ]
    },
    {
     "data": {
      "application/vnd.jupyter.widget-view+json": {
       "model_id": "08c8239fb0a0412a97522075df5f2447",
       "version_major": 2,
       "version_minor": 0
      },
      "text/plain": [
       "HBox(children=(FloatProgress(value=0.0, max=21.0), HTML(value='')))"
      ]
     },
     "metadata": {},
     "output_type": "display_data"
    },
    {
     "name": "stdout",
     "output_type": "stream",
     "text": [
      "\n"
     ]
    }
   ],
   "source": [
    "dcm_path = '/home/srivathsa/projects/studies/gad/stanford/data'\n",
    "dest_path = '/home/srivathsa/projects/studies/gad/vmorph/data/sford_raw_nobet'\n",
    "cases = [\"Patient_0086\", \"Patient_0092\", \"Patient_0095\", \"Patient_0102\", \"Patient_0207\", \"Patient_0250\", \n",
    "         \"Patient_0253\", \"Patient_0264\", \"Patient_0290\", \"Patient_0296\", \"Patient_0308\", \"Patient_0345\", \n",
    "         \"Patient_0356\", \"Patient_0362\", \"Patient_0366\", \"Patient_0367\", \"Patient_0409\", \"Patient_0572\", \n",
    "         \"Patient_0088\", \"Patient_0089\", \"Patient_0093\"]\n",
    "\n",
    "# cases = ['Patient_0149',\n",
    "# 'Patient_0170',\n",
    "# 'Patient_0171',\n",
    "# 'Patient_0198',\n",
    "# 'Patient_0262',\n",
    "# 'Patient_0284',\n",
    "# 'Patient_0444',\n",
    "# 'Patient_0517',\n",
    "# 'Patient_0523']\n",
    "\n",
    "gpu_device = 5\n",
    "iso_spacing = np.array([1.0, 1.0, 1.0])\n",
    "for cnum in tqdm(cases, total=len(cases)):\n",
    "    fpath_dcm = os.path.join(dcm_path, cnum)\n",
    "    fpath_save = os.path.join(dest_path, '{}.npz'.format(cnum))\n",
    "    \n",
    "    fp_t1pre, fp_t1low, fp_t1post = find_t1_series(fpath_dcm)\n",
    "\n",
    "    t1p_vol = process_vol(fp_t1pre, gpu_device=gpu_device, bet=False)\n",
    "    t1l_vol = process_vol(fp_t1low, gpu_device=gpu_device, bet=False)\n",
    "    t1c_vol = process_vol(fp_t1post, gpu_device=gpu_device, bet=False)\n",
    "    \n",
    "    data = np.array([t1p_vol, t1l_vol, t1c_vol])\n",
    "    np.savez(fpath_save, data=data)"
   ]
  },
  {
   "cell_type": "code",
   "execution_count": null,
   "id": "3dbac651",
   "metadata": {},
   "outputs": [],
   "source": [
    "src_path = '/home/srivathsa/projects/studies/gad/vmorph/data/sford_raw_nobet'\n",
    "dest_path_post = '/home/srivathsa/projects/studies/gad/vmorph/data/sford_post_nobet/val'\n",
    "dest_path_low = '/home/srivathsa/projects/studies/gad/vmorph/data/sford_low_nobet/val'\n",
    "\n",
    "for cnum in tqdm(cases, total=len(cases)):\n",
    "    t1pre, t1low, t1post = np.load(os.path.join(src_path, '{}.npz'.format(cnum)))['data']\n",
    "    t1pre = scale_vol(t1pre)\n",
    "    t1low = scale_vol(t1low)\n",
    "    t1post = scale_vol(t1post)\n",
    "    \n",
    "    np.savez('{}/{}.npz'.format(dest_path_low, cnum), data=np.array([t1pre, t1low]))\n",
    "    np.savez('{}/{}.npz'.format(dest_path_post, cnum), data=np.array([t1pre, t1post]))"
   ]
  },
  {
   "cell_type": "code",
   "execution_count": null,
   "id": "5e9205f4",
   "metadata": {},
   "outputs": [],
   "source": [
    "data = np.load('/home/srivathsa/projects/studies/gad/vmorph/data/sford_raw_full/Patient_0284.npz')['data']\n",
    "plt.imshow(data[2, 64])"
   ]
  },
  {
   "cell_type": "code",
   "execution_count": null,
   "id": "ae258368",
   "metadata": {},
   "outputs": [],
   "source": []
  }
 ],
 "metadata": {
  "kernelspec": {
   "display_name": "Python (uad_ae)",
   "language": "python",
   "name": "uad_ae"
  },
  "language_info": {
   "codemirror_mode": {
    "name": "ipython",
    "version": 3
   },
   "file_extension": ".py",
   "mimetype": "text/x-python",
   "name": "python",
   "nbconvert_exporter": "python",
   "pygments_lexer": "ipython3",
   "version": "3.6.1"
  }
 },
 "nbformat": 4,
 "nbformat_minor": 5
}
