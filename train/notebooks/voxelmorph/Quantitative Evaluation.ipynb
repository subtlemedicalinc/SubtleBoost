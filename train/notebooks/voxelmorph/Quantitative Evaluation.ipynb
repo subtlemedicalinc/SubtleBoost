{
 "cells": [
  {
   "cell_type": "code",
   "execution_count": 1,
   "id": "ffee3d41",
   "metadata": {},
   "outputs": [
    {
     "data": {
      "text/plain": [
       "<Figure size 432x288 with 0 Axes>"
      ]
     },
     "metadata": {},
     "output_type": "display_data"
    }
   ],
   "source": [
    "%reload_ext autoreload\n",
    "%autoreload 2\n",
    "\n",
    "import warnings\n",
    "warnings.filterwarnings('ignore')\n",
    "\n",
    "import os\n",
    "\n",
    "os.environ[\"CUDA_DEVICE_ORDER\"] = \"PCI_BUS_ID\"\n",
    "os.environ[\"CUDA_VISIBLE_DEVICES\"] = \"0\"\n",
    "\n",
    "import json\n",
    "import tensorflow.keras.backend as K\n",
    "from tensorflow.keras.models import Model\n",
    "import tensorflow.keras as keras\n",
    "import numpy as np\n",
    "import SimpleITK as sitk\n",
    "import nibabel as nib\n",
    "import pandas as pd\n",
    "import yaml\n",
    "import neurite as ne\n",
    "from glob import glob\n",
    "from tqdm import tqdm_notebook as tqdm\n",
    "import subtle.subtle_metrics as su_metrics\n",
    "from subtle.subtle_preprocess import apply_reg_transform, zoom_iso, register_im\n",
    "\n",
    "\n",
    "from voxelmorph.tf.networks import AIRNet, Transform, VxmAffine, CascadedAffine, CascadedAffineMatrixOutput\n",
    "from voxelmorph.tf.utils import invert_affine, affine_to_dense_shift, make_square_affine, compose as compose_tfms\n",
    "from voxelmorph.tf.layers import SpatialTransformer\n",
    "from scipy.ndimage import affine_transform\n",
    "from scipy.ndimage.morphology import binary_fill_holes\n",
    "\n",
    "from tensorboard.backend.event_processing.event_accumulator import EventAccumulator\n",
    "\n",
    "import matplotlib.pyplot as plt\n",
    "plt.set_cmap('gray')\n",
    "plt.rcParams['figure.figsize'] = (10, 8)\n",
    "\n",
    "def process_brats_vol(img_vol, pad=False, is_seg=False):\n",
    "    img_vol = np.rot90(img_vol.transpose(2, 0, 1), axes=(1, 2), k=3)\n",
    "    img_vol = img_vol[13:-14]\n",
    "    \n",
    "    if not is_seg:\n",
    "        img_vol = img_vol / img_vol.mean()\n",
    "        img_vol = np.interp(img_vol, (img_vol.min(), img_vol.max()), (0, 1))\n",
    "    \n",
    "    if pad:\n",
    "        img_vol = np.pad(img_vol, pad_width=[(0, 0), (8, 8), (8, 8)], mode='constant', constant_values=0)\n",
    "    return img_vol\n",
    "\n",
    "def get_mse_for_case(case_data, aff_pred, tfm_model_gt, tfm_model_pred):\n",
    "    img1, img2 = case_data['data']\n",
    "    ip1 = img1[None, ..., None]\n",
    "    ip2 = img2[None, ..., None]\n",
    "\n",
    "    aff_sim = case_data['aff_mtx']\n",
    "    aff_sim_4x4 = np.append(aff_sim, [[0, 0, 0, 1]], axis=0)\n",
    "    aff_gt = np.linalg.inv(aff_sim_4x4)[:-1]\n",
    "    \n",
    "    img2_gt = tfm_model_gt.predict([ip2, aff_gt[None]])[0, ..., 0]\n",
    "    img2_pred = tfm_model_pred.predict([ip2, aff_pred[None]])[0, ..., 0]\n",
    "    \n",
    "    diff_gt = img2_gt - img1\n",
    "    diff_pred = img2_pred - img1\n",
    "    \n",
    "    return (np.square(diff_gt - diff_pred)).mean(axis=None)\n",
    "\n",
    "def get_best_ckp(exp_path, exp_id):\n",
    "    print('Fetching best checkpoint file for {}...'.format(exp_id))\n",
    "    fpath_ckps = sorted([f for f in glob('{}/{}/ckps/*.h5'.format(exp_path, exp_id))])\n",
    "    if '{}/{}/ckps/0001.h5'.format(exp_path, exp_id) in fpath_ckps:\n",
    "        ckp_interval = 1\n",
    "    else:\n",
    "        ckp_interval = 5\n",
    "    last_ckp_num = int(fpath_ckps[-1].split('/')[-1].replace('.h5', ''))\n",
    "\n",
    "    num_ckps = last_ckp_num // ckp_interval\n",
    "    step_idxs = [i-1 for i in np.arange(ckp_interval, last_ckp_num + 1, ckp_interval)]\n",
    "\n",
    "    log_path = '{}/{}/logs/tb'.format(exp_path, exp_id)\n",
    "    num_files = len(glob('{}/*'.format(log_path)))\n",
    "\n",
    "    tf_size_guidance = {\n",
    "        'compressedHistograms': 0,\n",
    "        'images': num_files,\n",
    "        'scalars': last_ckp_num+1,\n",
    "        'histograms': 0\n",
    "    }\n",
    "\n",
    "    event_acc = EventAccumulator(log_path, size_guidance=tf_size_guidance)\n",
    "    event_acc.Reload()\n",
    "\n",
    "    val_losses = [(v.step, v.value) for v in event_acc.Scalars('val_loss') if v.step in step_idxs]\n",
    "    min_idx = np.argmin([v[1] for v in val_losses])\n",
    "\n",
    "    ep_idx = (val_losses[min_idx][0] + 1)\n",
    "    fpath_ckp = '{exp_path}/{exp_id}/ckps/{epoch:04d}.h5'.format(exp_path=exp_path, exp_id=exp_id, epoch=ep_idx)\n",
    "\n",
    "    return fpath_ckp, ep_idx\n",
    "    \n",
    "def fetch_eval_models(config):\n",
    "    model_dict = {\n",
    "        'airnet': AIRNet,\n",
    "        'unet': VxmAffine,\n",
    "        'cascade': CascadedAffine\n",
    "    }\n",
    "    \n",
    "    img_list = open(config['img_list'], 'r').read().split('\\n')\n",
    "    sample_data = np.load(img_list[0])['data']\n",
    "    img_shape = sample_data.shape[1:]\n",
    "    \n",
    "    arch = config['arch']\n",
    "    model_params = {\n",
    "        'inshape': img_shape,\n",
    "        'verbose': 1\n",
    "    }\n",
    "    \n",
    "    if arch == 'unet':\n",
    "        model_params['batch_norm'] = config['bnorm']\n",
    "        model_params['constraint_params'] = config['constraint_params']\n",
    "        model_params['enc_only'] = (config['network_mode'] == 'enc')\n",
    "    \n",
    "    eval_model = model_dict[arch](**model_params)\n",
    "    \n",
    "    tfm_model_gt = Transform(inshape=img_shape, affine=True, shift_center=False)\n",
    "    tfm_model_pred = Transform(inshape=img_shape, affine=True)\n",
    "    return eval_model, tfm_model_gt, tfm_model_pred\n",
    "    \n",
    "def get_model_pred(model, aff_model, case_data):\n",
    "    data = case_data['data']\n",
    "    ip1 = data[0][None, ..., None]\n",
    "    ip2 = data[1][None, ..., None]\n",
    "    \n",
    "    pred_img = model.model.predict([ip2, ip1])[0, ..., 0]\n",
    "    pred_aff = aff_model.predict([ip2, ip1])[0]\n",
    "    \n",
    "    return pred_img, pred_aff\n",
    "\n",
    "def get_aff_model(model, fpath_ckp):\n",
    "    if model.name == 'cc_affine':\n",
    "        inshape = model.model.layers[0].output_shape[0][1:-1]\n",
    "        aff_model = CascadedAffineMatrixOutput(inshape=inshape).model\n",
    "    else:\n",
    "        aff_layer = model.model.get_layer('{}_aff_mtx'.format(model.name))\n",
    "        aff_model = Model(\n",
    "            inputs=[model.model.layers[0].input, model.model.layers[1].input], \n",
    "            outputs=[aff_layer.output]\n",
    "        )\n",
    "    aff_model.load_weights(fpath_ckp, by_name=True)\n",
    "    return aff_model\n",
    "\n",
    "def plot_pred(case_data, reg, fpath=None, ref_prereg=None, sl=None):\n",
    "    fixed, moving = case_data['data']\n",
    "    \n",
    "    sl_idx = sl if sl is not None else fixed.shape[0] // 2\n",
    "    img1 = np.hstack([fixed[sl_idx], moving[sl_idx], reg[sl_idx]])\n",
    "    \n",
    "    diff1 = moving - fixed\n",
    "    diff2 = reg - fixed\n",
    "    diff3 = np.zeros_like(fixed)\n",
    "    if ref_prereg is not None:\n",
    "        diff3 = ref_prereg - fixed\n",
    "    \n",
    "    fig, axs = plt.subplots(2, 3)\n",
    "    \n",
    "    imgs = [\n",
    "        (fixed[sl_idx], 'Fixed'), \n",
    "        (moving[sl_idx], 'Moving'), \n",
    "        (reg[sl_idx], 'Registered'), \n",
    "        (diff1[sl_idx], 'Diff(fixed, moving)'), \n",
    "        (diff2[sl_idx], 'Diff(fixed, registered)'),\n",
    "        (diff3[sl_idx], 'Diff - BRATS prereg')\n",
    "    ]\n",
    "    k = 0\n",
    "    for i in range(2):\n",
    "        for j in range(3):\n",
    "            axs[i, j].imshow(imgs[k][0])\n",
    "            axs[i, j].axis('off')\n",
    "            axs[i, j].set_title(imgs[k][1])\n",
    "            k += 1\n",
    "    fig.tight_layout()\n",
    "    \n",
    "    if fpath:\n",
    "        plt.savefig(fpath)\n",
    "        plt.clf()\n",
    "\n",
    "        \n",
    "def compute_dice(fpath_ref, cnum, case_data, pred, aff, pad_ref, tfm_models):\n",
    "    seg_gt = process_brats_vol(\n",
    "        nib.load('{}/{}/{}_seg.nii.gz'.format(fpath_ref, cnum, cnum)).get_fdata(), is_seg=True, pad=pad_ref\n",
    "    )\n",
    "    seg_gt = (seg_gt > 0).astype(np.uint8) #combine all tumor classes into one mask\n",
    "\n",
    "    aff_pred = aff\n",
    "    aff_sim = case_data['aff_mtx']\n",
    "    \n",
    "    seg_sim = tfm_models[0].predict([seg_gt[None, ..., None], aff_sim[None]])[0, ..., 0]\n",
    "    seg_sim = (seg_sim > 0.9).astype(np.uint8)\n",
    "    \n",
    "    seg_pred = tfm_models[1].predict([seg_sim[None, ..., None], aff_pred[None]])[0, ..., 0]\n",
    "    seg_pred = (seg_pred > 0.9).astype(np.uint8)\n",
    "    \n",
    "    dice_before = su_metrics.dice(seg_gt, seg_sim)\n",
    "    dice_after = su_metrics.dice(seg_gt, seg_pred)\n",
    "    return dice_before, dice_after\n",
    "\n",
    "def get_sitk_tfm_obj(aff_params, fpath_ref_obj='/home/srivathsa/projects/studies/gad/vmorph/sitk_ref_pmap.json'):\n",
    "    sitk_pmap = sitk.GetDefaultParameterMap('affine')\n",
    "    ref_obj = json.loads(open(fpath_ref_obj, 'r').read())\n",
    "    \n",
    "    for k, v in ref_obj.items():\n",
    "        sitk_pmap[k] = tuple(v)\n",
    "    \n",
    "    tfm_params = aff_params.T.reshape(1, -1)[0].astype(str)\n",
    "    sitk_pmap['TransformParameters'] = tfm_params\n",
    "    \n",
    "    return tuple([sitk_pmap])\n",
    "    \n",
    "\n",
    "def eval_vmorph_affine(exp_path, exp_id, fpath_ref, ref_sfxs=['t1', 't1ce'], pad_ref=True, config_name='', \n",
    "                      compute_metrics=True):\n",
    "    exp_dir = os.path.join(exp_path, exp_id)\n",
    "    fpath_ckp, ep_id = get_best_ckp(exp_path, exp_id)\n",
    "\n",
    "    print('Evaluating with {}...'.format(fpath_ckp))\n",
    "\n",
    "    get_cnum = lambda f: f.split('/')[-1].replace('.npz', '')\n",
    "    \n",
    "    fname_config = 'config.yaml' if not config_name else 'config_{}.yaml'.format(config_name)\n",
    "    config = yaml.load(open('{}/{}'.format(exp_dir, fname_config), 'r').read())\n",
    "    model, tfm_model_gt, tfm_model_pred = fetch_eval_models(config)\n",
    "\n",
    "    model.model.load_weights(fpath_ckp, by_name=config['arch']=='cascade')\n",
    "    aff_model = get_aff_model(model, fpath_ckp)\n",
    "    \n",
    "    dname_eval = 'eval' if not config_name else 'eval_{}'.format(config_name)\n",
    "    fpath_eval = os.path.join(exp_dir, dname_eval)\n",
    "    fpath_preds = os.path.join(fpath_eval, 'preds')\n",
    "    fpath_plots = os.path.join(fpath_eval, 'plots')\n",
    "    fpath_metrics = os.path.join(fpath_eval, 'metrics.csv')\n",
    "\n",
    "    if not os.path.exists(fpath_eval):\n",
    "        os.makedirs(fpath_eval)\n",
    "        os.makedirs(fpath_preds)\n",
    "        os.makedirs(fpath_plots)\n",
    "\n",
    "    fpath_cases = sorted([c for c in open(config['val_img_list'], 'r').read().split('\\n')\n",
    "                         if len(c) > 0])\n",
    "    print('Running evaluation on {} cases...'.format(len(fpath_cases)))\n",
    "\n",
    "    print('Saving preds to {}...'.format(fpath_preds))\n",
    "\n",
    "    metrics = []\n",
    "\n",
    "    tfm_model_seg1 = None\n",
    "    tfm_model_seg2 = None\n",
    "\n",
    "    for fpath_case in tqdm(fpath_cases, total=len(fpath_cases)):\n",
    "        case_data = np.load(fpath_case)\n",
    "\n",
    "        if not tfm_model_seg1:\n",
    "            tfm_model_seg1 = Transform(\n",
    "                inshape=tuple(case_data['data'].shape[1:]), affine=True, interp_method='nearest', shift_center=False\n",
    "            )\n",
    "\n",
    "            tfm_model_seg2 = Transform(\n",
    "                inshape=tuple(case_data['data'].shape[1:]), affine=True, interp_method='nearest', shift_center=True\n",
    "            )\n",
    "\n",
    "        cnum = get_cnum(fpath_case)\n",
    "        pred, aff = get_model_pred(model, aff_model, case_data)\n",
    "        np.savez('{}/{}.npz'.format(fpath_preds, cnum), pred=pred, aff=aff)\n",
    "        \n",
    "        fpath_cplot = os.path.join(fpath_plots, '{}.png'.format(cnum))\n",
    "    \n",
    "        if compute_metrics:\n",
    "            metrics_obj = {'case': cnum}\n",
    "            metrics_obj['mse'] = get_mse_for_case(case_data, aff, tfm_model_gt, tfm_model_pred)\n",
    "\n",
    "            ref_prereg = None\n",
    "\n",
    "            if fpath_ref is not None:\n",
    "                ref_prereg = nib.load('{}/{}/{}_{}.nii.gz'.format(fpath_ref, cnum, cnum, ref_sfxs[1])).get_fdata()\n",
    "                ref_prereg = process_brats_vol(ref_prereg, pad=pad_ref)\n",
    "\n",
    "                metrics_obj['ssim_before'] = su_metrics.ssim(case_data['data'][1], ref_prereg)\n",
    "                metrics_obj['ssim_after'] = su_metrics.ssim(pred, ref_prereg)\n",
    "\n",
    "                metrics_obj['psnr_before'] = su_metrics.psnr(case_data['data'][1], ref_prereg)\n",
    "                metrics_obj['psnr_after'] = su_metrics.psnr(pred, ref_prereg)\n",
    "\n",
    "                dice_scores = compute_dice(fpath_ref, cnum, case_data, pred, aff, pad_ref, \n",
    "                                                   [tfm_model_seg1, tfm_model_seg2])\n",
    "                metrics_obj['dice_before'] = dice_scores[0]\n",
    "                metrics_obj['dice_after'] = dice_scores[1]\n",
    "            metrics.append(metrics_obj)\n",
    "        else:\n",
    "            ref_prereg = np.zeros_like(pred)\n",
    "        plot_pred(case_data, pred, fpath_cplot, ref_prereg)\n",
    "    \n",
    "    if len(metrics) > 0:\n",
    "        df_metrics = pd.DataFrame(metrics)\n",
    "        df_metrics.to_csv(fpath_metrics)\n",
    "        print('Saving metrics to {}...'.format(fpath_metrics))"
   ]
  },
  {
   "cell_type": "code",
   "execution_count": 2,
   "id": "059655d9",
   "metadata": {},
   "outputs": [
    {
     "name": "stdout",
     "output_type": "stream",
     "text": [
      "Fetching best checkpoint file for 20220419_002828-brats_real...\n",
      "Evaluating with /home/srivathsa/projects/studies/gad/vmorph/runs/20220419_002828-brats_real/ckps/0103.h5...\n",
      "WARNING:tensorflow:From /home/srivathsa/miniconda3/envs/voxelmorph/lib/python3.7/site-packages/tensorflow/python/util/deprecation.py:574: calling map_fn_v2 (from tensorflow.python.ops.map_fn) with dtype is deprecated and will be removed in a future version.\n",
      "Instructions for updating:\n",
      "Use fn_output_signature instead\n",
      "Model: \"functional_3\"\n",
      "______________________________________________________________________________________________________________\n",
      "Layer (type)                        Output Shape            Param #      Connected to                         \n",
      "==============================================================================================================\n",
      "cc_affine_source_input (InputLayer) [(None, 128, 256, 256,  0                                                 \n",
      "______________________________________________________________________________________________________________\n",
      "cc_affine_target_input (InputLayer) [(None, 128, 256, 256,  0                                                 \n",
      "______________________________________________________________________________________________________________\n",
      "functional_1 (Functional)           (None, 128, 256, 256, 1 23504188     cc_affine_source_input[0][0]         \n",
      "                                                                         cc_affine_target_input[0][0]         \n",
      "                                                                         functional_1[0][0]                   \n",
      "                                                                         cc_affine_target_input[0][0]         \n",
      "                                                                         functional_1[1][0]                   \n",
      "                                                                         cc_affine_target_input[0][0]         \n",
      "==============================================================================================================\n",
      "Total params: 23,504,188\n",
      "Trainable params: 23,467,788\n",
      "Non-trainable params: 36,400\n",
      "______________________________________________________________________________________________________________\n",
      "<tensorflow.python.keras.engine.functional.Functional object at 0x7f703877cef0>\n",
      "Model: \"functional_7\"\n",
      "______________________________________________________________________________________________________________\n",
      "Layer (type)                        Output Shape            Param #      Connected to                         \n",
      "==============================================================================================================\n",
      "cc_affine_mtx_nw_source_input (Inpu [(None, 128, 256, 256,  0                                                 \n",
      "______________________________________________________________________________________________________________\n",
      "cc_affine_mtx_nw_target_input (Inpu [(None, 128, 256, 256,  0                                                 \n",
      "______________________________________________________________________________________________________________\n",
      "functional_5 (Functional)           [(None, 128, 256, 256,  23504188     cc_affine_mtx_nw_source_input[0][0]  \n",
      "                                                                         cc_affine_mtx_nw_target_input[0][0]  \n",
      "                                                                         functional_5[0][0]                   \n",
      "                                                                         cc_affine_mtx_nw_target_input[0][0]  \n",
      "                                                                         functional_5[1][0]                   \n",
      "                                                                         cc_affine_mtx_nw_target_input[0][0]  \n",
      "==============================================================================================================\n",
      "Total params: 23,504,188\n",
      "Trainable params: 23,467,788\n",
      "Non-trainable params: 36,400\n",
      "______________________________________________________________________________________________________________\n",
      "<tensorflow.python.keras.engine.functional.Functional object at 0x7f70e2c57e80>\n",
      "Running evaluation on 125 cases...\n",
      "Saving preds to /home/srivathsa/projects/studies/gad/vmorph/runs/20220419_002828-brats_real/eval/preds...\n"
     ]
    },
    {
     "data": {
      "application/vnd.jupyter.widget-view+json": {
       "model_id": "9e287fa8566f4c8885011d2412638421",
       "version_major": 2,
       "version_minor": 0
      },
      "text/plain": [
       "  0%|          | 0/125 [00:00<?, ?it/s]"
      ]
     },
     "metadata": {},
     "output_type": "display_data"
    },
    {
     "name": "stdout",
     "output_type": "stream",
     "text": [
      "WARNING:tensorflow:5 out of the last 5 calls to <function Model.make_predict_function.<locals>.predict_function at 0x7f71db159f28> triggered tf.function retracing. Tracing is expensive and the excessive number of tracings could be due to (1) creating @tf.function repeatedly in a loop, (2) passing tensors with different shapes, (3) passing Python objects instead of tensors. For (1), please define your @tf.function outside of the loop. For (2), @tf.function has experimental_relax_shapes=True option that relaxes argument shapes that can avoid unnecessary retracing. For (3), please refer to https://www.tensorflow.org/tutorials/customization/performance#python_or_tensor_args and https://www.tensorflow.org/api_docs/python/tf/function for  more details.\n",
      "WARNING:tensorflow:6 out of the last 6 calls to <function Model.make_predict_function.<locals>.predict_function at 0x7f717e79ad90> triggered tf.function retracing. Tracing is expensive and the excessive number of tracings could be due to (1) creating @tf.function repeatedly in a loop, (2) passing tensors with different shapes, (3) passing Python objects instead of tensors. For (1), please define your @tf.function outside of the loop. For (2), @tf.function has experimental_relax_shapes=True option that relaxes argument shapes that can avoid unnecessary retracing. For (3), please refer to https://www.tensorflow.org/tutorials/customization/performance#python_or_tensor_args and https://www.tensorflow.org/api_docs/python/tf/function for  more details.\n",
      "Saving metrics to /home/srivathsa/projects/studies/gad/vmorph/runs/20220419_002828-brats_real/eval/metrics.csv...\n"
     ]
    },
    {
     "data": {
      "text/plain": [
       "<Figure size 720x576 with 0 Axes>"
      ]
     },
     "metadata": {},
     "output_type": "display_data"
    },
    {
     "data": {
      "text/plain": [
       "<Figure size 720x576 with 0 Axes>"
      ]
     },
     "metadata": {},
     "output_type": "display_data"
    },
    {
     "data": {
      "text/plain": [
       "<Figure size 720x576 with 0 Axes>"
      ]
     },
     "metadata": {},
     "output_type": "display_data"
    },
    {
     "data": {
      "text/plain": [
       "<Figure size 720x576 with 0 Axes>"
      ]
     },
     "metadata": {},
     "output_type": "display_data"
    },
    {
     "data": {
      "text/plain": [
       "<Figure size 720x576 with 0 Axes>"
      ]
     },
     "metadata": {},
     "output_type": "display_data"
    },
    {
     "data": {
      "text/plain": [
       "<Figure size 720x576 with 0 Axes>"
      ]
     },
     "metadata": {},
     "output_type": "display_data"
    },
    {
     "data": {
      "text/plain": [
       "<Figure size 720x576 with 0 Axes>"
      ]
     },
     "metadata": {},
     "output_type": "display_data"
    },
    {
     "data": {
      "text/plain": [
       "<Figure size 720x576 with 0 Axes>"
      ]
     },
     "metadata": {},
     "output_type": "display_data"
    },
    {
     "data": {
      "text/plain": [
       "<Figure size 720x576 with 0 Axes>"
      ]
     },
     "metadata": {},
     "output_type": "display_data"
    },
    {
     "data": {
      "text/plain": [
       "<Figure size 720x576 with 0 Axes>"
      ]
     },
     "metadata": {},
     "output_type": "display_data"
    },
    {
     "data": {
      "text/plain": [
       "<Figure size 720x576 with 0 Axes>"
      ]
     },
     "metadata": {},
     "output_type": "display_data"
    },
    {
     "data": {
      "text/plain": [
       "<Figure size 720x576 with 0 Axes>"
      ]
     },
     "metadata": {},
     "output_type": "display_data"
    },
    {
     "data": {
      "text/plain": [
       "<Figure size 720x576 with 0 Axes>"
      ]
     },
     "metadata": {},
     "output_type": "display_data"
    },
    {
     "data": {
      "text/plain": [
       "<Figure size 720x576 with 0 Axes>"
      ]
     },
     "metadata": {},
     "output_type": "display_data"
    },
    {
     "data": {
      "text/plain": [
       "<Figure size 720x576 with 0 Axes>"
      ]
     },
     "metadata": {},
     "output_type": "display_data"
    },
    {
     "data": {
      "text/plain": [
       "<Figure size 720x576 with 0 Axes>"
      ]
     },
     "metadata": {},
     "output_type": "display_data"
    },
    {
     "data": {
      "text/plain": [
       "<Figure size 720x576 with 0 Axes>"
      ]
     },
     "metadata": {},
     "output_type": "display_data"
    },
    {
     "data": {
      "text/plain": [
       "<Figure size 720x576 with 0 Axes>"
      ]
     },
     "metadata": {},
     "output_type": "display_data"
    },
    {
     "data": {
      "text/plain": [
       "<Figure size 720x576 with 0 Axes>"
      ]
     },
     "metadata": {},
     "output_type": "display_data"
    },
    {
     "data": {
      "text/plain": [
       "<Figure size 720x576 with 0 Axes>"
      ]
     },
     "metadata": {},
     "output_type": "display_data"
    },
    {
     "data": {
      "text/plain": [
       "<Figure size 720x576 with 0 Axes>"
      ]
     },
     "metadata": {},
     "output_type": "display_data"
    },
    {
     "data": {
      "text/plain": [
       "<Figure size 720x576 with 0 Axes>"
      ]
     },
     "metadata": {},
     "output_type": "display_data"
    },
    {
     "data": {
      "text/plain": [
       "<Figure size 720x576 with 0 Axes>"
      ]
     },
     "metadata": {},
     "output_type": "display_data"
    },
    {
     "data": {
      "text/plain": [
       "<Figure size 720x576 with 0 Axes>"
      ]
     },
     "metadata": {},
     "output_type": "display_data"
    },
    {
     "data": {
      "text/plain": [
       "<Figure size 720x576 with 0 Axes>"
      ]
     },
     "metadata": {},
     "output_type": "display_data"
    },
    {
     "data": {
      "text/plain": [
       "<Figure size 720x576 with 0 Axes>"
      ]
     },
     "metadata": {},
     "output_type": "display_data"
    },
    {
     "data": {
      "text/plain": [
       "<Figure size 720x576 with 0 Axes>"
      ]
     },
     "metadata": {},
     "output_type": "display_data"
    },
    {
     "data": {
      "text/plain": [
       "<Figure size 720x576 with 0 Axes>"
      ]
     },
     "metadata": {},
     "output_type": "display_data"
    },
    {
     "data": {
      "text/plain": [
       "<Figure size 720x576 with 0 Axes>"
      ]
     },
     "metadata": {},
     "output_type": "display_data"
    },
    {
     "data": {
      "text/plain": [
       "<Figure size 720x576 with 0 Axes>"
      ]
     },
     "metadata": {},
     "output_type": "display_data"
    },
    {
     "data": {
      "text/plain": [
       "<Figure size 720x576 with 0 Axes>"
      ]
     },
     "metadata": {},
     "output_type": "display_data"
    },
    {
     "data": {
      "text/plain": [
       "<Figure size 720x576 with 0 Axes>"
      ]
     },
     "metadata": {},
     "output_type": "display_data"
    },
    {
     "data": {
      "text/plain": [
       "<Figure size 720x576 with 0 Axes>"
      ]
     },
     "metadata": {},
     "output_type": "display_data"
    },
    {
     "data": {
      "text/plain": [
       "<Figure size 720x576 with 0 Axes>"
      ]
     },
     "metadata": {},
     "output_type": "display_data"
    },
    {
     "data": {
      "text/plain": [
       "<Figure size 720x576 with 0 Axes>"
      ]
     },
     "metadata": {},
     "output_type": "display_data"
    },
    {
     "data": {
      "text/plain": [
       "<Figure size 720x576 with 0 Axes>"
      ]
     },
     "metadata": {},
     "output_type": "display_data"
    },
    {
     "data": {
      "text/plain": [
       "<Figure size 720x576 with 0 Axes>"
      ]
     },
     "metadata": {},
     "output_type": "display_data"
    },
    {
     "data": {
      "text/plain": [
       "<Figure size 720x576 with 0 Axes>"
      ]
     },
     "metadata": {},
     "output_type": "display_data"
    },
    {
     "data": {
      "text/plain": [
       "<Figure size 720x576 with 0 Axes>"
      ]
     },
     "metadata": {},
     "output_type": "display_data"
    },
    {
     "data": {
      "text/plain": [
       "<Figure size 720x576 with 0 Axes>"
      ]
     },
     "metadata": {},
     "output_type": "display_data"
    },
    {
     "data": {
      "text/plain": [
       "<Figure size 720x576 with 0 Axes>"
      ]
     },
     "metadata": {},
     "output_type": "display_data"
    },
    {
     "data": {
      "text/plain": [
       "<Figure size 720x576 with 0 Axes>"
      ]
     },
     "metadata": {},
     "output_type": "display_data"
    },
    {
     "data": {
      "text/plain": [
       "<Figure size 720x576 with 0 Axes>"
      ]
     },
     "metadata": {},
     "output_type": "display_data"
    },
    {
     "data": {
      "text/plain": [
       "<Figure size 720x576 with 0 Axes>"
      ]
     },
     "metadata": {},
     "output_type": "display_data"
    },
    {
     "data": {
      "text/plain": [
       "<Figure size 720x576 with 0 Axes>"
      ]
     },
     "metadata": {},
     "output_type": "display_data"
    },
    {
     "data": {
      "text/plain": [
       "<Figure size 720x576 with 0 Axes>"
      ]
     },
     "metadata": {},
     "output_type": "display_data"
    },
    {
     "data": {
      "text/plain": [
       "<Figure size 720x576 with 0 Axes>"
      ]
     },
     "metadata": {},
     "output_type": "display_data"
    },
    {
     "data": {
      "text/plain": [
       "<Figure size 720x576 with 0 Axes>"
      ]
     },
     "metadata": {},
     "output_type": "display_data"
    },
    {
     "data": {
      "text/plain": [
       "<Figure size 720x576 with 0 Axes>"
      ]
     },
     "metadata": {},
     "output_type": "display_data"
    },
    {
     "data": {
      "text/plain": [
       "<Figure size 720x576 with 0 Axes>"
      ]
     },
     "metadata": {},
     "output_type": "display_data"
    },
    {
     "data": {
      "text/plain": [
       "<Figure size 720x576 with 0 Axes>"
      ]
     },
     "metadata": {},
     "output_type": "display_data"
    },
    {
     "data": {
      "text/plain": [
       "<Figure size 720x576 with 0 Axes>"
      ]
     },
     "metadata": {},
     "output_type": "display_data"
    },
    {
     "data": {
      "text/plain": [
       "<Figure size 720x576 with 0 Axes>"
      ]
     },
     "metadata": {},
     "output_type": "display_data"
    },
    {
     "data": {
      "text/plain": [
       "<Figure size 720x576 with 0 Axes>"
      ]
     },
     "metadata": {},
     "output_type": "display_data"
    },
    {
     "data": {
      "text/plain": [
       "<Figure size 720x576 with 0 Axes>"
      ]
     },
     "metadata": {},
     "output_type": "display_data"
    },
    {
     "data": {
      "text/plain": [
       "<Figure size 720x576 with 0 Axes>"
      ]
     },
     "metadata": {},
     "output_type": "display_data"
    },
    {
     "data": {
      "text/plain": [
       "<Figure size 720x576 with 0 Axes>"
      ]
     },
     "metadata": {},
     "output_type": "display_data"
    },
    {
     "data": {
      "text/plain": [
       "<Figure size 720x576 with 0 Axes>"
      ]
     },
     "metadata": {},
     "output_type": "display_data"
    },
    {
     "data": {
      "text/plain": [
       "<Figure size 720x576 with 0 Axes>"
      ]
     },
     "metadata": {},
     "output_type": "display_data"
    },
    {
     "data": {
      "text/plain": [
       "<Figure size 720x576 with 0 Axes>"
      ]
     },
     "metadata": {},
     "output_type": "display_data"
    },
    {
     "data": {
      "text/plain": [
       "<Figure size 720x576 with 0 Axes>"
      ]
     },
     "metadata": {},
     "output_type": "display_data"
    },
    {
     "data": {
      "text/plain": [
       "<Figure size 720x576 with 0 Axes>"
      ]
     },
     "metadata": {},
     "output_type": "display_data"
    },
    {
     "data": {
      "text/plain": [
       "<Figure size 720x576 with 0 Axes>"
      ]
     },
     "metadata": {},
     "output_type": "display_data"
    },
    {
     "data": {
      "text/plain": [
       "<Figure size 720x576 with 0 Axes>"
      ]
     },
     "metadata": {},
     "output_type": "display_data"
    },
    {
     "data": {
      "text/plain": [
       "<Figure size 720x576 with 0 Axes>"
      ]
     },
     "metadata": {},
     "output_type": "display_data"
    },
    {
     "data": {
      "text/plain": [
       "<Figure size 720x576 with 0 Axes>"
      ]
     },
     "metadata": {},
     "output_type": "display_data"
    },
    {
     "data": {
      "text/plain": [
       "<Figure size 720x576 with 0 Axes>"
      ]
     },
     "metadata": {},
     "output_type": "display_data"
    },
    {
     "data": {
      "text/plain": [
       "<Figure size 720x576 with 0 Axes>"
      ]
     },
     "metadata": {},
     "output_type": "display_data"
    },
    {
     "data": {
      "text/plain": [
       "<Figure size 720x576 with 0 Axes>"
      ]
     },
     "metadata": {},
     "output_type": "display_data"
    },
    {
     "data": {
      "text/plain": [
       "<Figure size 720x576 with 0 Axes>"
      ]
     },
     "metadata": {},
     "output_type": "display_data"
    },
    {
     "data": {
      "text/plain": [
       "<Figure size 720x576 with 0 Axes>"
      ]
     },
     "metadata": {},
     "output_type": "display_data"
    },
    {
     "data": {
      "text/plain": [
       "<Figure size 720x576 with 0 Axes>"
      ]
     },
     "metadata": {},
     "output_type": "display_data"
    },
    {
     "data": {
      "text/plain": [
       "<Figure size 720x576 with 0 Axes>"
      ]
     },
     "metadata": {},
     "output_type": "display_data"
    },
    {
     "data": {
      "text/plain": [
       "<Figure size 720x576 with 0 Axes>"
      ]
     },
     "metadata": {},
     "output_type": "display_data"
    },
    {
     "data": {
      "text/plain": [
       "<Figure size 720x576 with 0 Axes>"
      ]
     },
     "metadata": {},
     "output_type": "display_data"
    },
    {
     "data": {
      "text/plain": [
       "<Figure size 720x576 with 0 Axes>"
      ]
     },
     "metadata": {},
     "output_type": "display_data"
    },
    {
     "data": {
      "text/plain": [
       "<Figure size 720x576 with 0 Axes>"
      ]
     },
     "metadata": {},
     "output_type": "display_data"
    },
    {
     "data": {
      "text/plain": [
       "<Figure size 720x576 with 0 Axes>"
      ]
     },
     "metadata": {},
     "output_type": "display_data"
    },
    {
     "data": {
      "text/plain": [
       "<Figure size 720x576 with 0 Axes>"
      ]
     },
     "metadata": {},
     "output_type": "display_data"
    },
    {
     "data": {
      "text/plain": [
       "<Figure size 720x576 with 0 Axes>"
      ]
     },
     "metadata": {},
     "output_type": "display_data"
    },
    {
     "data": {
      "text/plain": [
       "<Figure size 720x576 with 0 Axes>"
      ]
     },
     "metadata": {},
     "output_type": "display_data"
    },
    {
     "data": {
      "text/plain": [
       "<Figure size 720x576 with 0 Axes>"
      ]
     },
     "metadata": {},
     "output_type": "display_data"
    },
    {
     "data": {
      "text/plain": [
       "<Figure size 720x576 with 0 Axes>"
      ]
     },
     "metadata": {},
     "output_type": "display_data"
    },
    {
     "data": {
      "text/plain": [
       "<Figure size 720x576 with 0 Axes>"
      ]
     },
     "metadata": {},
     "output_type": "display_data"
    },
    {
     "data": {
      "text/plain": [
       "<Figure size 720x576 with 0 Axes>"
      ]
     },
     "metadata": {},
     "output_type": "display_data"
    },
    {
     "data": {
      "text/plain": [
       "<Figure size 720x576 with 0 Axes>"
      ]
     },
     "metadata": {},
     "output_type": "display_data"
    },
    {
     "data": {
      "text/plain": [
       "<Figure size 720x576 with 0 Axes>"
      ]
     },
     "metadata": {},
     "output_type": "display_data"
    },
    {
     "data": {
      "text/plain": [
       "<Figure size 720x576 with 0 Axes>"
      ]
     },
     "metadata": {},
     "output_type": "display_data"
    },
    {
     "data": {
      "text/plain": [
       "<Figure size 720x576 with 0 Axes>"
      ]
     },
     "metadata": {},
     "output_type": "display_data"
    },
    {
     "data": {
      "text/plain": [
       "<Figure size 720x576 with 0 Axes>"
      ]
     },
     "metadata": {},
     "output_type": "display_data"
    },
    {
     "data": {
      "text/plain": [
       "<Figure size 720x576 with 0 Axes>"
      ]
     },
     "metadata": {},
     "output_type": "display_data"
    },
    {
     "data": {
      "text/plain": [
       "<Figure size 720x576 with 0 Axes>"
      ]
     },
     "metadata": {},
     "output_type": "display_data"
    },
    {
     "data": {
      "text/plain": [
       "<Figure size 720x576 with 0 Axes>"
      ]
     },
     "metadata": {},
     "output_type": "display_data"
    },
    {
     "data": {
      "text/plain": [
       "<Figure size 720x576 with 0 Axes>"
      ]
     },
     "metadata": {},
     "output_type": "display_data"
    },
    {
     "data": {
      "text/plain": [
       "<Figure size 720x576 with 0 Axes>"
      ]
     },
     "metadata": {},
     "output_type": "display_data"
    },
    {
     "data": {
      "text/plain": [
       "<Figure size 720x576 with 0 Axes>"
      ]
     },
     "metadata": {},
     "output_type": "display_data"
    },
    {
     "data": {
      "text/plain": [
       "<Figure size 720x576 with 0 Axes>"
      ]
     },
     "metadata": {},
     "output_type": "display_data"
    },
    {
     "data": {
      "text/plain": [
       "<Figure size 720x576 with 0 Axes>"
      ]
     },
     "metadata": {},
     "output_type": "display_data"
    },
    {
     "data": {
      "text/plain": [
       "<Figure size 720x576 with 0 Axes>"
      ]
     },
     "metadata": {},
     "output_type": "display_data"
    },
    {
     "data": {
      "text/plain": [
       "<Figure size 720x576 with 0 Axes>"
      ]
     },
     "metadata": {},
     "output_type": "display_data"
    },
    {
     "data": {
      "text/plain": [
       "<Figure size 720x576 with 0 Axes>"
      ]
     },
     "metadata": {},
     "output_type": "display_data"
    },
    {
     "data": {
      "text/plain": [
       "<Figure size 720x576 with 0 Axes>"
      ]
     },
     "metadata": {},
     "output_type": "display_data"
    },
    {
     "data": {
      "text/plain": [
       "<Figure size 720x576 with 0 Axes>"
      ]
     },
     "metadata": {},
     "output_type": "display_data"
    },
    {
     "data": {
      "text/plain": [
       "<Figure size 720x576 with 0 Axes>"
      ]
     },
     "metadata": {},
     "output_type": "display_data"
    },
    {
     "data": {
      "text/plain": [
       "<Figure size 720x576 with 0 Axes>"
      ]
     },
     "metadata": {},
     "output_type": "display_data"
    },
    {
     "data": {
      "text/plain": [
       "<Figure size 720x576 with 0 Axes>"
      ]
     },
     "metadata": {},
     "output_type": "display_data"
    },
    {
     "data": {
      "text/plain": [
       "<Figure size 720x576 with 0 Axes>"
      ]
     },
     "metadata": {},
     "output_type": "display_data"
    },
    {
     "data": {
      "text/plain": [
       "<Figure size 720x576 with 0 Axes>"
      ]
     },
     "metadata": {},
     "output_type": "display_data"
    },
    {
     "data": {
      "text/plain": [
       "<Figure size 720x576 with 0 Axes>"
      ]
     },
     "metadata": {},
     "output_type": "display_data"
    },
    {
     "data": {
      "text/plain": [
       "<Figure size 720x576 with 0 Axes>"
      ]
     },
     "metadata": {},
     "output_type": "display_data"
    },
    {
     "data": {
      "text/plain": [
       "<Figure size 720x576 with 0 Axes>"
      ]
     },
     "metadata": {},
     "output_type": "display_data"
    },
    {
     "data": {
      "text/plain": [
       "<Figure size 720x576 with 0 Axes>"
      ]
     },
     "metadata": {},
     "output_type": "display_data"
    },
    {
     "data": {
      "text/plain": [
       "<Figure size 720x576 with 0 Axes>"
      ]
     },
     "metadata": {},
     "output_type": "display_data"
    },
    {
     "data": {
      "text/plain": [
       "<Figure size 720x576 with 0 Axes>"
      ]
     },
     "metadata": {},
     "output_type": "display_data"
    },
    {
     "data": {
      "text/plain": [
       "<Figure size 720x576 with 0 Axes>"
      ]
     },
     "metadata": {},
     "output_type": "display_data"
    },
    {
     "data": {
      "text/plain": [
       "<Figure size 720x576 with 0 Axes>"
      ]
     },
     "metadata": {},
     "output_type": "display_data"
    },
    {
     "data": {
      "text/plain": [
       "<Figure size 720x576 with 0 Axes>"
      ]
     },
     "metadata": {},
     "output_type": "display_data"
    },
    {
     "data": {
      "text/plain": [
       "<Figure size 720x576 with 0 Axes>"
      ]
     },
     "metadata": {},
     "output_type": "display_data"
    },
    {
     "data": {
      "text/plain": [
       "<Figure size 720x576 with 0 Axes>"
      ]
     },
     "metadata": {},
     "output_type": "display_data"
    },
    {
     "data": {
      "text/plain": [
       "<Figure size 720x576 with 0 Axes>"
      ]
     },
     "metadata": {},
     "output_type": "display_data"
    },
    {
     "data": {
      "text/plain": [
       "<Figure size 720x576 with 0 Axes>"
      ]
     },
     "metadata": {},
     "output_type": "display_data"
    },
    {
     "data": {
      "text/plain": [
       "<Figure size 720x576 with 0 Axes>"
      ]
     },
     "metadata": {},
     "output_type": "display_data"
    },
    {
     "data": {
      "text/plain": [
       "<Figure size 720x576 with 0 Axes>"
      ]
     },
     "metadata": {},
     "output_type": "display_data"
    },
    {
     "data": {
      "text/plain": [
       "<Figure size 720x576 with 0 Axes>"
      ]
     },
     "metadata": {},
     "output_type": "display_data"
    },
    {
     "data": {
      "text/plain": [
       "<Figure size 720x576 with 0 Axes>"
      ]
     },
     "metadata": {},
     "output_type": "display_data"
    }
   ],
   "source": [
    "eval_vmorph_affine(\n",
    "    '/home/srivathsa/projects/studies/gad/vmorph/runs', '20220419_002828-brats_real',\n",
    "    fpath_ref='/home/srivathsa/projects/brats_2021/data/val'\n",
    ")\n",
    "\n",
    "# eval_vmorph_affine(\n",
    "#     '/home/srivathsa/projects/studies/gad/vmorph/runs/2021', '20211018_212059-brats',\n",
    "#     fpath_ref=None, config_name='sford', compute_metrics=False\n",
    "# )"
   ]
  },
  {
   "cell_type": "code",
   "execution_count": 24,
   "id": "3b8d5057",
   "metadata": {},
   "outputs": [
    {
     "data": {
      "text/plain": [
       "<matplotlib.image.AxesImage at 0x7f717e1f9208>"
      ]
     },
     "execution_count": 24,
     "metadata": {},
     "output_type": "execute_result"
    },
    {
     "data": {
      "image/png": "[encoded data removed]",
      "text/plain": [
       "<Figure size 720x576 with 1 Axes>"
      ]
     },
     "metadata": {
      "needs_background": "light"
     },
     "output_type": "display_data"
    }
   ],
   "source": [
    "t1, t1ce = np.load('/home/srivathsa/projects/studies/gad/vmorph/data/brats_real/val/BraTS2021_00006.npz')['data']\n",
    "\n",
    "pred = np.load(\n",
    "    '/home/srivathsa/projects/studies/gad/vmorph/runs/20220419_002828-brats_real/eval/preds/BraTS2021_00006.npz'\n",
    ")['pred']\n",
    "plt.imshow(np.hstack([pred[64] - t1[64], t1ce[64] - t1[64]]))"
   ]
  },
  {
   "cell_type": "code",
   "execution_count": 22,
   "id": "aa016675",
   "metadata": {},
   "outputs": [
    {
     "ename": "ValueError",
     "evalue": "You are trying to load a weight file containing 1 layers into a model with 146 layers.",
     "output_type": "error",
     "traceback": [
      "\u001b[0;31m---------------------------------------------------------------------------\u001b[0m",
      "\u001b[0;31mValueError\u001b[0m                                Traceback (most recent call last)",
      "\u001b[0;32m<ipython-input-22-61af3c853a84>\u001b[0m in \u001b[0;36m<module>\u001b[0;34m\u001b[0m\n\u001b[1;32m      1\u001b[0m \u001b[0mfpath_ckp\u001b[0m \u001b[0;34m=\u001b[0m \u001b[0;34m'/home/srivathsa/projects/studies/gad/vmorph/runs/20220419_002828-brats_real/ckps/0103.h5'\u001b[0m\u001b[0;34m\u001b[0m\u001b[0m\n\u001b[1;32m      2\u001b[0m \u001b[0mcmodel\u001b[0m \u001b[0;34m=\u001b[0m \u001b[0mCascadedAffine\u001b[0m\u001b[0;34m(\u001b[0m\u001b[0minshape\u001b[0m\u001b[0;34m=\u001b[0m\u001b[0;34m(\u001b[0m\u001b[0;36m128\u001b[0m\u001b[0;34m,\u001b[0m \u001b[0;36m256\u001b[0m\u001b[0;34m,\u001b[0m \u001b[0;36m256\u001b[0m\u001b[0;34m)\u001b[0m\u001b[0;34m,\u001b[0m \u001b[0mverbose\u001b[0m\u001b[0;34m=\u001b[0m\u001b[0;36m0\u001b[0m\u001b[0;34m)\u001b[0m\u001b[0;34m\u001b[0m\u001b[0m\n\u001b[0;32m----> 3\u001b[0;31m \u001b[0mcmodel\u001b[0m\u001b[0;34m.\u001b[0m\u001b[0mcascades\u001b[0m\u001b[0;34m[\u001b[0m\u001b[0;36m0\u001b[0m\u001b[0;34m]\u001b[0m\u001b[0;34m.\u001b[0m\u001b[0mload_weights\u001b[0m\u001b[0;34m(\u001b[0m\u001b[0mfpath_ckp\u001b[0m\u001b[0;34m)\u001b[0m\u001b[0;34m\u001b[0m\u001b[0m\n\u001b[0m",
      "\u001b[0;32m~/miniconda3/envs/voxelmorph/lib/python3.7/site-packages/tensorflow/python/keras/engine/training.py\u001b[0m in \u001b[0;36mload_weights\u001b[0;34m(self, filepath, by_name, skip_mismatch, options)\u001b[0m\n\u001b[1;32m   2209\u001b[0m             f, self.layers, skip_mismatch=skip_mismatch)\n\u001b[1;32m   2210\u001b[0m       \u001b[0;32melse\u001b[0m\u001b[0;34m:\u001b[0m\u001b[0;34m\u001b[0m\u001b[0m\n\u001b[0;32m-> 2211\u001b[0;31m         \u001b[0mhdf5_format\u001b[0m\u001b[0;34m.\u001b[0m\u001b[0mload_weights_from_hdf5_group\u001b[0m\u001b[0;34m(\u001b[0m\u001b[0mf\u001b[0m\u001b[0;34m,\u001b[0m \u001b[0mself\u001b[0m\u001b[0;34m.\u001b[0m\u001b[0mlayers\u001b[0m\u001b[0;34m)\u001b[0m\u001b[0;34m\u001b[0m\u001b[0m\n\u001b[0m\u001b[1;32m   2212\u001b[0m \u001b[0;34m\u001b[0m\u001b[0m\n\u001b[1;32m   2213\u001b[0m   \u001b[0;32mdef\u001b[0m \u001b[0m_updated_config\u001b[0m\u001b[0;34m(\u001b[0m\u001b[0mself\u001b[0m\u001b[0;34m)\u001b[0m\u001b[0;34m:\u001b[0m\u001b[0;34m\u001b[0m\u001b[0m\n",
      "\u001b[0;32m~/miniconda3/envs/voxelmorph/lib/python3.7/site-packages/tensorflow/python/keras/saving/hdf5_format.py\u001b[0m in \u001b[0;36mload_weights_from_hdf5_group\u001b[0;34m(f, layers)\u001b[0m\n\u001b[1;32m    684\u001b[0m                      \u001b[0;34m'containing '\u001b[0m \u001b[0;34m+\u001b[0m \u001b[0mstr\u001b[0m\u001b[0;34m(\u001b[0m\u001b[0mlen\u001b[0m\u001b[0;34m(\u001b[0m\u001b[0mlayer_names\u001b[0m\u001b[0;34m)\u001b[0m\u001b[0;34m)\u001b[0m \u001b[0;34m+\u001b[0m\u001b[0;34m\u001b[0m\u001b[0m\n\u001b[1;32m    685\u001b[0m                      \u001b[0;34m' layers into a model with '\u001b[0m \u001b[0;34m+\u001b[0m \u001b[0mstr\u001b[0m\u001b[0;34m(\u001b[0m\u001b[0mlen\u001b[0m\u001b[0;34m(\u001b[0m\u001b[0mfiltered_layers\u001b[0m\u001b[0;34m)\u001b[0m\u001b[0;34m)\u001b[0m \u001b[0;34m+\u001b[0m\u001b[0;34m\u001b[0m\u001b[0m\n\u001b[0;32m--> 686\u001b[0;31m                      ' layers.')\n\u001b[0m\u001b[1;32m    687\u001b[0m \u001b[0;34m\u001b[0m\u001b[0m\n\u001b[1;32m    688\u001b[0m   \u001b[0;31m# We batch weight value assignments in a single backend call\u001b[0m\u001b[0;34m\u001b[0m\u001b[0;34m\u001b[0m\u001b[0m\n",
      "\u001b[0;31mValueError\u001b[0m: You are trying to load a weight file containing 1 layers into a model with 146 layers."
     ]
    }
   ],
   "source": [
    "fpath_ckp = '/home/srivathsa/projects/studies/gad/vmorph/runs/20220419_002828-brats_real/ckps/0103.h5'\n",
    "cmodel = CascadedAffine(inshape=(128, 256, 256), verbose=0)\n",
    "cmodel.cascades[0].load_weights(fpath_ckp)"
   ]
  },
  {
   "cell_type": "code",
   "execution_count": 16,
   "id": "7f506bde",
   "metadata": {},
   "outputs": [
    {
     "data": {
      "text/plain": [
       "<matplotlib.image.AxesImage at 0x7fac2c700eb8>"
      ]
     },
     "execution_count": 16,
     "metadata": {},
     "output_type": "execute_result"
    },
    {
     "data": {
      "image/png": "[encoded data removed]",
      "text/plain": [
       "<Figure size 720x576 with 1 Axes>"
      ]
     },
     "metadata": {
      "needs_background": "light"
     },
     "output_type": "display_data"
    }
   ],
   "source": [
    "t1, t1ce = np.load('/home/srivathsa/projects/studies/gad/vmorph/data/brats_real/val/BraTS2021_00006.npz')['data']\n",
    "\n",
    "pred = cmodel.model.predict([t1ce[None, ..., None], t1[None, ..., None]])[0, ..., 0]\n",
    "plt.imshow(np.hstack([t1ce[64] - t1[64], pred[64] - t1[64]]))"
   ]
  },
  {
   "cell_type": "code",
   "execution_count": null,
   "id": "bb8cfe43",
   "metadata": {},
   "outputs": [],
   "source": [
    "anet_model = AIRNet(inshape=(128, 256, 256), verbose=1)\n",
    "anet_model.model.load_weights(\n",
    "    '/home/srivathsa/projects/studies/gad/vmorph/runs/20220419_002828-brats_real/ckps/0103.h5', by_name=True)"
   ]
  },
  {
   "cell_type": "code",
   "execution_count": null,
   "id": "61bbf791",
   "metadata": {},
   "outputs": [],
   "source": [
    "t1_pre, t1_post = np.load('/home/srivathsa/projects/studies/gad/vmorph/data/sford_low/val/Patient_0102.npz')['data']\n",
    "exp_path = '/home/srivathsa/projects/studies/gad/vmorph/runs/2021/'\n",
    "exp_id = '20211012_050145-brats_fl'\n",
    "fpath_ckp, _ = get_best_ckp(exp_path, exp_id)\n",
    "print(fpath_ckp)\n",
    "base_model = AIRNet(inshape=(128, 240, 240), verbose=0)\n",
    "# base_model = VxmAffine(inshape=(128, 256, 256), enc_only=False, verbose=0)\n",
    "base_model.model.load_weights(fpath_ckp)\n",
    "# sf_pred = base_model.model.predict([t1_post[None, ..., None], t1_pre[None, ..., None]])[0, ..., 0]"
   ]
  },
  {
   "cell_type": "code",
   "execution_count": null,
   "id": "40ce114e",
   "metadata": {},
   "outputs": [],
   "source": [
    "plt.imshow(np.hstack([t1_post[64] - t1_pre[64], sf_pred[64] - t1_pre[64]]))\n",
    "# plt.imshow(np.hstack([t1_pre[64], t1_post[64], sf_pred[64]]))\n",
    "plt.axis('off')"
   ]
  },
  {
   "cell_type": "code",
   "execution_count": null,
   "id": "0c5b9a59",
   "metadata": {},
   "outputs": [],
   "source": [
    "t1_pre, _ = zoom_iso(data[1, :, 0], np.array([0.5, 0.4688, 0.4688]), np.array([1, 1, 1]))\n",
    "t1_pre = t1_pre[24:-24]\n",
    "t1_pre = np.pad(t1_pre, pad_width=[(0, 0), (8, 8), (8, 8)], mode='constant', constant_values=0)\n",
    "\n",
    "t1_post, _ = zoom_iso(data[1, :, 1], np.array([0.5, 0.4688, 0.4688]), np.array([1, 1, 1]))\n",
    "t1_post = t1_post[24:-24]\n",
    "t1_post = np.pad(t1_post, pad_width=[(0, 0), (8, 8), (8, 8)], mode='constant', constant_values=0)\n",
    "print(t1_pre.shape, t1_post.shape)"
   ]
  },
  {
   "cell_type": "code",
   "execution_count": null,
   "id": "26be06a7",
   "metadata": {},
   "outputs": [],
   "source": [
    "base_path = '/home/srivathsa/projects/studies/gad/vmorph/runs'\n",
    "data_path = '/home/srivathsa/projects/studies/gad/vmorph/data/brats/val'\n",
    "exp_id = '20211012_035922-brats'\n",
    "\n",
    "man_fails = ['BraTS2021_00066', 'BraTS2021_00099', 'BraTS2021_00312', 'BraTS2021_00349', 'BraTS2021_00391', \n",
    "             'BraTS2021_00707', 'BraTS2021_01333', 'BraTS2021_01471']\n",
    "\n",
    "metrics_dict = pd.read_csv('{}/{}/eval/metrics_new.csv'.format(base_path, exp_id)).to_dict(orient='records')\n",
    "\n",
    "val_fails = [d for d in metrics_dict if d['case'] == man_fails[2]]\n",
    "print('{} fail cases'.format(len(val_fails)))\n",
    "\n",
    "x_vals = []\n",
    "y_vals = []\n",
    "\n",
    "for vf in val_fails:\n",
    "    pred_data = np.load('{}/{}/eval/preds/{}.npz'.format(base_path, exp_id, vf['case']))\n",
    "    case_data = np.load('{}/{}.npz'.format(data_path, vf['case']))\n",
    "    aff_gt = np.linalg.inv(np.append(case_data['aff_mtx'], [[0, 0, 0, 1]], axis=0))[:-1]\n",
    "    aff = pred_data['aff']\n",
    "    \n",
    "    plt.imshow(case_data['data'][1, 40])\n",
    "    break\n",
    "#     print(vf['case'])\n",
    "#     print(case_data['aff_mtx'])\n",
    "#     print('------')\n",
    "    \n",
    "#     x_vals.append(np.abs(aff[0, -1] - aff_gt[0, -1]))\n",
    "#     y_vals.append(vf['dice'])\n",
    "#     print(vf['case'], vf['dice'], aff[0, -1], aff_gt[0, -1])"
   ]
  },
  {
   "cell_type": "code",
   "execution_count": null,
   "id": "eda1670a",
   "metadata": {},
   "outputs": [],
   "source": [
    "# recompute Dice score alone\n",
    "\n",
    "fpath_exp = '/home/srivathsa/projects/studies/gad/vmorph/runs/20211018_212059-brats'\n",
    "fpath_data = '/home/srivathsa/projects/studies/gad/vmorph/data/brats/val'\n",
    "fpath_ref = '/home/srivathsa/projects/brats_2021/data/val'\n",
    "cases = sorted([f.split('/')[-1].replace('.npz', '') for f in glob('{}/*.npz'.format(fpath_data))])\n",
    "\n",
    "df_metrics = pd.read_csv('{}/eval/metrics.csv'.format(fpath_exp))\n",
    "dict_metrics = df_metrics.to_dict(orient='records')\n",
    "tfm_model_seg1 = None\n",
    "\n",
    "new_metrics = []\n",
    "\n",
    "for cnum in tqdm(cases, total=len(cases)):\n",
    "    case_data = np.load('{}/{}.npz'.format(fpath_data, cnum))\n",
    "    if not tfm_model_seg1:\n",
    "        tfm_model_seg1 = Transform(\n",
    "            inshape=tuple(case_data['data'].shape[1:]), affine=True, interp_method='nearest', shift_center=False\n",
    "        )\n",
    "        \n",
    "        tfm_model_seg2 = Transform(\n",
    "            inshape=tuple(case_data['data'].shape[1:]), affine=True, interp_method='nearest', shift_center=True\n",
    "        )\n",
    "        \n",
    "        \n",
    "    pred_data = np.load('{}/eval/preds/{}.npz'.format(fpath_exp, cnum))\n",
    "    pred = pred_data['pred']\n",
    "    aff = pred_data['aff']\n",
    "    \n",
    "    dmet = [d for d in dict_metrics if d['case'] == cnum][0]\n",
    "    del dmet['Unnamed: 0']\n",
    "    del dmet['dice']\n",
    "    new_dice = compute_dice(fpath_ref, cnum, case_data, pred, aff, True, [tfm_model_seg1, tfm_model_seg2])\n",
    "    dmet['dice_before'] = new_dice[0]\n",
    "    dmet['dice_after'] = new_dice[1]\n",
    "    new_metrics.append(dmet)\n",
    "pd.DataFrame(new_metrics).to_csv('{}/eval/metrics_new.csv'.format(fpath_exp))"
   ]
  },
  {
   "cell_type": "code",
   "execution_count": 4,
   "id": "41efbd78",
   "metadata": {},
   "outputs": [
    {
     "data": {
      "text/html": [
       "<div>\n",
       "<style scoped>\n",
       "    .dataframe tbody tr th:only-of-type {\n",
       "        vertical-align: middle;\n",
       "    }\n",
       "\n",
       "    .dataframe tbody tr th {\n",
       "        vertical-align: top;\n",
       "    }\n",
       "\n",
       "    .dataframe thead th {\n",
       "        text-align: right;\n",
       "    }\n",
       "</style>\n",
       "<table border=\"1\" class=\"dataframe\">\n",
       "  <thead>\n",
       "    <tr style=\"text-align: right;\">\n",
       "      <th></th>\n",
       "      <th>Unnamed: 0</th>\n",
       "      <th>case</th>\n",
       "      <th>mse</th>\n",
       "      <th>ssim_before</th>\n",
       "      <th>ssim_after</th>\n",
       "      <th>psnr_before</th>\n",
       "      <th>psnr_after</th>\n",
       "      <th>dice_before</th>\n",
       "      <th>dice_after</th>\n",
       "    </tr>\n",
       "  </thead>\n",
       "  <tbody>\n",
       "    <tr>\n",
       "      <th>0</th>\n",
       "      <td>0</td>\n",
       "      <td>BraTS2021_00006</td>\n",
       "      <td>0.000599</td>\n",
       "      <td>0.915541</td>\n",
       "      <td>0.915541</td>\n",
       "      <td>32.179553</td>\n",
       "      <td>32.179553</td>\n",
       "      <td>0.933526</td>\n",
       "      <td>0.933526</td>\n",
       "    </tr>\n",
       "    <tr>\n",
       "      <th>1</th>\n",
       "      <td>1</td>\n",
       "      <td>BraTS2021_00022</td>\n",
       "      <td>0.000303</td>\n",
       "      <td>0.962804</td>\n",
       "      <td>0.962804</td>\n",
       "      <td>34.372052</td>\n",
       "      <td>34.372052</td>\n",
       "      <td>0.960071</td>\n",
       "      <td>0.960071</td>\n",
       "    </tr>\n",
       "    <tr>\n",
       "      <th>2</th>\n",
       "      <td>2</td>\n",
       "      <td>BraTS2021_00033</td>\n",
       "      <td>0.000325</td>\n",
       "      <td>0.943440</td>\n",
       "      <td>0.943440</td>\n",
       "      <td>34.581528</td>\n",
       "      <td>34.581528</td>\n",
       "      <td>0.943211</td>\n",
       "      <td>0.943211</td>\n",
       "    </tr>\n",
       "    <tr>\n",
       "      <th>3</th>\n",
       "      <td>3</td>\n",
       "      <td>BraTS2021_00035</td>\n",
       "      <td>0.000307</td>\n",
       "      <td>0.956076</td>\n",
       "      <td>0.956076</td>\n",
       "      <td>34.939912</td>\n",
       "      <td>34.939912</td>\n",
       "      <td>0.919403</td>\n",
       "      <td>0.919403</td>\n",
       "    </tr>\n",
       "    <tr>\n",
       "      <th>4</th>\n",
       "      <td>4</td>\n",
       "      <td>BraTS2021_00066</td>\n",
       "      <td>0.001595</td>\n",
       "      <td>0.826381</td>\n",
       "      <td>0.826381</td>\n",
       "      <td>28.102693</td>\n",
       "      <td>28.102693</td>\n",
       "      <td>0.637889</td>\n",
       "      <td>0.637889</td>\n",
       "    </tr>\n",
       "    <tr>\n",
       "      <th>...</th>\n",
       "      <td>...</td>\n",
       "      <td>...</td>\n",
       "      <td>...</td>\n",
       "      <td>...</td>\n",
       "      <td>...</td>\n",
       "      <td>...</td>\n",
       "      <td>...</td>\n",
       "      <td>...</td>\n",
       "      <td>...</td>\n",
       "    </tr>\n",
       "    <tr>\n",
       "      <th>120</th>\n",
       "      <td>120</td>\n",
       "      <td>BraTS2021_01637</td>\n",
       "      <td>0.000145</td>\n",
       "      <td>0.984793</td>\n",
       "      <td>0.984793</td>\n",
       "      <td>36.678761</td>\n",
       "      <td>36.678761</td>\n",
       "      <td>0.999436</td>\n",
       "      <td>0.999436</td>\n",
       "    </tr>\n",
       "    <tr>\n",
       "      <th>121</th>\n",
       "      <td>121</td>\n",
       "      <td>BraTS2021_01653</td>\n",
       "      <td>0.000349</td>\n",
       "      <td>0.940306</td>\n",
       "      <td>0.940306</td>\n",
       "      <td>33.962940</td>\n",
       "      <td>33.962940</td>\n",
       "      <td>0.904831</td>\n",
       "      <td>0.904831</td>\n",
       "    </tr>\n",
       "    <tr>\n",
       "      <th>122</th>\n",
       "      <td>122</td>\n",
       "      <td>BraTS2021_01658</td>\n",
       "      <td>0.000565</td>\n",
       "      <td>0.932614</td>\n",
       "      <td>0.932614</td>\n",
       "      <td>31.744440</td>\n",
       "      <td>31.744440</td>\n",
       "      <td>0.909079</td>\n",
       "      <td>0.909079</td>\n",
       "    </tr>\n",
       "    <tr>\n",
       "      <th>123</th>\n",
       "      <td>123</td>\n",
       "      <td>BraTS2021_01664</td>\n",
       "      <td>0.000861</td>\n",
       "      <td>0.922563</td>\n",
       "      <td>0.922563</td>\n",
       "      <td>30.571939</td>\n",
       "      <td>30.571939</td>\n",
       "      <td>0.935994</td>\n",
       "      <td>0.935994</td>\n",
       "    </tr>\n",
       "    <tr>\n",
       "      <th>124</th>\n",
       "      <td>124</td>\n",
       "      <td>BraTS2021_01665</td>\n",
       "      <td>0.000367</td>\n",
       "      <td>0.951318</td>\n",
       "      <td>0.951318</td>\n",
       "      <td>33.224459</td>\n",
       "      <td>33.224459</td>\n",
       "      <td>0.950820</td>\n",
       "      <td>0.950820</td>\n",
       "    </tr>\n",
       "  </tbody>\n",
       "</table>\n",
       "<p>125 rows × 9 columns</p>\n",
       "</div>"
      ],
      "text/plain": [
       "     Unnamed: 0             case       mse  ssim_before  ssim_after  \\\n",
       "0             0  BraTS2021_00006  0.000599     0.915541    0.915541   \n",
       "1             1  BraTS2021_00022  0.000303     0.962804    0.962804   \n",
       "2             2  BraTS2021_00033  0.000325     0.943440    0.943440   \n",
       "3             3  BraTS2021_00035  0.000307     0.956076    0.956076   \n",
       "4             4  BraTS2021_00066  0.001595     0.826381    0.826381   \n",
       "..          ...              ...       ...          ...         ...   \n",
       "120         120  BraTS2021_01637  0.000145     0.984793    0.984793   \n",
       "121         121  BraTS2021_01653  0.000349     0.940306    0.940306   \n",
       "122         122  BraTS2021_01658  0.000565     0.932614    0.932614   \n",
       "123         123  BraTS2021_01664  0.000861     0.922563    0.922563   \n",
       "124         124  BraTS2021_01665  0.000367     0.951318    0.951318   \n",
       "\n",
       "     psnr_before  psnr_after  dice_before  dice_after  \n",
       "0      32.179553   32.179553     0.933526    0.933526  \n",
       "1      34.372052   34.372052     0.960071    0.960071  \n",
       "2      34.581528   34.581528     0.943211    0.943211  \n",
       "3      34.939912   34.939912     0.919403    0.919403  \n",
       "4      28.102693   28.102693     0.637889    0.637889  \n",
       "..           ...         ...          ...         ...  \n",
       "120    36.678761   36.678761     0.999436    0.999436  \n",
       "121    33.962940   33.962940     0.904831    0.904831  \n",
       "122    31.744440   31.744440     0.909079    0.909079  \n",
       "123    30.571939   30.571939     0.935994    0.935994  \n",
       "124    33.224459   33.224459     0.950820    0.950820  \n",
       "\n",
       "[125 rows x 9 columns]"
      ]
     },
     "execution_count": 4,
     "metadata": {},
     "output_type": "execute_result"
    }
   ],
   "source": [
    "# df_metrics = pd.read_csv('{}/eval/metrics.csv'.format(fpath_exp))\n",
    "df_metrics = pd.read_csv(\n",
    "    '/home/srivathsa/projects/studies/gad/vmorph/runs/20220419_002828-brats_real/eval/metrics.csv'\n",
    ")\n",
    "df_metrics.mean()"
   ]
  },
  {
   "cell_type": "code",
   "execution_count": null,
   "id": "7011d1d4",
   "metadata": {},
   "outputs": [],
   "source": [
    "fpath_ref = '/home/srivathsa/projects/brats_2021/data/val'\n",
    "cnum = 'BraTS2021_00136'\n",
    "\n",
    "img_pre = process_brats_vol(nib.load('{}/{}/{}_t1.nii.gz'.format(fpath_ref, cnum, cnum)).get_fdata(), pad=True) \n",
    "img_gt = process_brats_vol(nib.load('{}/{}/{}_t1ce.nii.gz'.format(fpath_ref, cnum, cnum)).get_fdata(), pad=True)\n",
    "seg_gt = process_brats_vol(nib.load('{}/{}/{}_seg.nii.gz'.format(fpath_ref, cnum, cnum)).get_fdata(), is_seg=True, pad=True)\n",
    "seg_gt = (seg_gt > 0).astype(np.uint8)\n",
    "\n",
    "pred_data = np.load(\n",
    "    '/home/srivathsa/projects/studies/gad/vmorph/runs/20211012_035922-brats/eval/preds/{}.npz'.format(cnum)\n",
    ")\n",
    "aff_pred = pred_data['aff'].astype(np.float32)\n",
    "\n",
    "case_data = np.load('/home/srivathsa/projects/studies/gad/vmorph/data/brats/val/{}.npz'.format(cnum))\n",
    "\n",
    "diff1 = img_gt - img_pre\n",
    "diff2 = pred_data['pred'] - case_data['data'][0]\n",
    "# plt.imshow(np.hstack([diff1[64], diff2[64]]))\n",
    "\n",
    "aff_gt = case_data['aff_mtx']\n",
    "aff_sim = case_data['aff_mtx'].astype(np.float32)\n",
    "aff_pred_4x4 = np.append(aff_pred, [[0, 0, 0, 1]], axis=0)\n",
    "aff_sim_4x4 = np.append(aff_sim, [[0, 0, 0, 1]], axis=0)\n",
    "tfm_eff = np.matmul(aff_pred_4x4, aff_sim_4x4)[:-1]\n",
    "\n",
    "# seg_pred = affine_transform(seg_gt, aff_sim)\n",
    "# seg_pred = (seg_pred > 0.5).astype(np.uint8)\n",
    "\n",
    "tfm_model1 = Transform(inshape=(128, 256, 256), affine=True, interp_method='nearest', shift_center=False)\n",
    "seg_pred1 = tfm_model1.predict([seg_gt[None, ..., None], aff_sim[None]])[0, ..., 0]\n",
    "seg_pred1 = (seg_pred1 > 0.9).astype(np.uint8)\n",
    "\n",
    "tfm_model2 = Transform(inshape=(128, 256, 256), affine=True, interp_method='nearest')\n",
    "seg_pred2 = tfm_model2.predict([seg_pred1[None, ..., None], aff_pred[None]])[0, ..., 0]\n",
    "seg_pred2 = (seg_pred2 > 0.9).astype(np.uint8)\n",
    "\n",
    "# seg_pred3 = tfm_model1.predict([seg_gt[None, ..., None], tfm_eff[None]])[0, ..., 0]\n",
    "# seg_pred3 = (seg_pred3 > 0.5).astype(np.uint8)\n",
    "\n",
    "# plt.imshow(np.hstack([seg_gt[64], seg_pred1[64]]))\n",
    "plt.imshow(np.hstack([seg_gt[64], seg_pred2[64]]))\n",
    "\n",
    "# sim_data = affine_transform(img_gt, )\n",
    "# plt.imshow(np.hstack([img_pre[64], sim_data[64]]))\n",
    "print(su_metrics.dice(seg_gt, seg_pred1))\n"
   ]
  },
  {
   "cell_type": "code",
   "execution_count": null,
   "id": "6e4618de",
   "metadata": {},
   "outputs": [],
   "source": [
    "# tmp = (seg_sim[0, ..., 0] > 0.5).astype(np.uint8)\n",
    "\n",
    "# print(su_metrics.dice(seg_gt, seg_sim[0, ..., 0]))\n",
    "# print(su_metrics.dice(seg_gt, seg_pred))\n",
    "\n",
    "print(aff_sim)\n",
    "print(aff_pred)"
   ]
  },
  {
   "cell_type": "code",
   "execution_count": null,
   "id": "c5854b7d",
   "metadata": {},
   "outputs": [],
   "source": [
    "pmap = sitk.GetDefaultParameterMap('affine')\n",
    "im_reg, params = register_im(case_data['data'][0], case_data['data'][1], param_map=pmap)"
   ]
  },
  {
   "cell_type": "code",
   "execution_count": null,
   "id": "a49df53a",
   "metadata": {},
   "outputs": [],
   "source": [
    "aff_pred_mod = aff_pred.copy()\n",
    "aff_pred_mod[:, -1] = np.linalg.inv(aff_sim_4x4)[:-1][:, -1]\n",
    "\n",
    "tfm = get_sitk_tfm_obj(aff_gt)\n",
    "tfm1 = get_sitk_tfm_obj(aff_pred_mod)\n",
    "\n",
    "seg_r = apply_reg_transform(seg_gt, [1, 1, 1], tfm1)\n",
    "seg_r = (seg_r > 0.9).astype(np.uint8)\n",
    "\n",
    "plt.imshow(np.hstack([seg_gt[64], seg_r[64]]))\n",
    "print(su_metrics.dice(seg_gt, seg_r))"
   ]
  },
  {
   "cell_type": "code",
   "execution_count": null,
   "id": "0f82cbb5",
   "metadata": {},
   "outputs": [],
   "source": [
    "pred_data = np.load('/home/srivathsa/projects/studies/gad/vmorph/runs/20211007_215148-brats/eval/preds/BraTS2021_00006.npz')\n",
    "pred = pred_data['pred']\n",
    "\n",
    "ip1, ip2 = np.load('/home/srivathsa/projects/studies/gad/vmorph/data/brats/val/BraTS2021_00006.npz')['data']\n",
    "\n",
    "ref_pre = nib.load('/home/srivathsa/projects/brats_2021/data/val/BraTS2021_00006/BraTS2021_00006_t1.nii.gz').get_fdata()\n",
    "ref_data = nib.load('/home/srivathsa/projects/brats_2021/data/val/BraTS2021_00006/BraTS2021_00006_t1ce.nii.gz').get_fdata()\n",
    "\n",
    "ref_pre = process_brats_vol(ref_pre, pad=True)\n",
    "ref_data = process_brats_vol(ref_data, pad=True)\n",
    "\n",
    "diff1 = pred-ip1\n",
    "diff2 = ref_data - ref_pre\n",
    "plt.imshow(np.hstack([diff1[64]]))\n",
    "\n",
    "# print(su_metrics.ssim(pred, ref_data))\n",
    "# print(su_metrics.psnr(pred, ref_data))\n",
    "\n",
    "# print(su_metrics.ssim(ip2, ref_data))\n",
    "# print(su_metrics.psnr(ip2, ref_data))"
   ]
  },
  {
   "cell_type": "code",
   "execution_count": null,
   "id": "b94f7445",
   "metadata": {},
   "outputs": [],
   "source": [
    "data_path = '/home/srivathsa/projects/studies/gad/vmorph/data/brats/val'\n",
    "exp_path = '/home/srivathsa/projects/studies/gad/vmorph/runs'\n",
    "exp_id = '20211007_213819-brats'\n",
    "ckp_id = '0130'\n",
    "# calc_aff_mse(data_path, exp_path, exp_id)"
   ]
  },
  {
   "cell_type": "code",
   "execution_count": null,
   "id": "c76cce6e",
   "metadata": {},
   "outputs": [],
   "source": [
    "case_num = 'BraTS2021_00006'\n",
    "\n",
    "fpath_ckp = '{}/{}/ckps/{}.h5'.format(exp_path, exp_id, ckp_id)\n",
    "\n",
    "base_model = AIRNet(inshape=(128, 256, 256), verbose=0)\n",
    "base_model.model.load_weights(fpath_ckp)\n",
    "\n",
    "aff_layer = base_model.model.get_layer('airnet_aff_mtx')\n",
    "tmp_model = Model(\n",
    "    inputs=[base_model.model.layers[0].input, base_model.model.layers[1].input], \n",
    "    outputs=aff_layer.output\n",
    ")\n",
    "tmp_model.load_weights(fpath_ckp, by_name=True)"
   ]
  },
  {
   "cell_type": "code",
   "execution_count": null,
   "id": "e0521097",
   "metadata": {},
   "outputs": [],
   "source": [
    "sf_pred = base_model.model.predict([t1_post[None, ..., None], t1_pre[None, ..., None]])[0, ..., 0]\n",
    "print(sf_pred.shape)"
   ]
  },
  {
   "cell_type": "code",
   "execution_count": null,
   "id": "893f4837",
   "metadata": {},
   "outputs": [],
   "source": [
    "plt.imshow(np.hstack([t1_post[64] - t1_pre[64], sf_pred[64] - t1_pre[64]]))"
   ]
  },
  {
   "cell_type": "code",
   "execution_count": null,
   "id": "dc947524",
   "metadata": {},
   "outputs": [],
   "source": [
    "case_data = np.load('{}/{}.npz'.format(data_path, case_num))\n",
    "img1, img2 = case_data['data']\n",
    "ip1 = img1[None, ..., None]\n",
    "ip2 = img2[None, ..., None]\n",
    "\n",
    "aff_sim = case_data['aff_mtx']\n",
    "aff_gt = K.eval(invert_affine(aff_sim))\n",
    "\n",
    "aff_pred = tmp_model.predict([ip2, ip1])[0]\n",
    "pred_img = base_model.model.predict([ip2, ip1])[0, ..., 0]"
   ]
  },
  {
   "cell_type": "code",
   "execution_count": null,
   "id": "db1af26e",
   "metadata": {},
   "outputs": [],
   "source": [
    "tfm_model1 = Transform(inshape=(128, 256, 256), affine=True, shift_center=False)\n",
    "tfm_model2 = Transform(inshape=(128, 256, 256), affine=True)"
   ]
  },
  {
   "cell_type": "code",
   "execution_count": null,
   "id": "7ea6f8d3",
   "metadata": {},
   "outputs": [],
   "source": [
    "# img2_gt = affine_transform(img2, aff_gt)\n",
    "img2_gt = tfm_model1.predict([ip2, aff_gt[None]])[0, ..., 0]\n",
    "\n",
    "# img2_pred = affine_transform(img2, aff_pred)\n",
    "img2_pred = tfm_model2.predict([ip2, aff_pred[None]])[0, ..., 0]"
   ]
  },
  {
   "cell_type": "code",
   "execution_count": null,
   "id": "0fa9c1c4",
   "metadata": {},
   "outputs": [],
   "source": [
    "diff_pre = img2 - img1\n",
    "diff_gt = img2_gt - img1\n",
    "diff_pred = img2_pred - img1\n",
    "\n",
    "plt.imshow(np.hstack([diff_pre[64], diff_gt[64], diff_pred[64]]))\n",
    "# plt.imshow(np.hstack([aff_gt, aff_pred]))"
   ]
  },
  {
   "cell_type": "code",
   "execution_count": null,
   "id": "793ea26d",
   "metadata": {},
   "outputs": [],
   "source": [
    "aff_gt"
   ]
  },
  {
   "cell_type": "code",
   "execution_count": null,
   "id": "61ffe0e7",
   "metadata": {},
   "outputs": [],
   "source": [
    "aff_pred"
   ]
  },
  {
   "cell_type": "code",
   "execution_count": null,
   "id": "41a1ee91",
   "metadata": {},
   "outputs": [],
   "source": [
    "np.append(aff_sim, [[1, 0, 0, 0]], axis=0)"
   ]
  },
  {
   "cell_type": "code",
   "execution_count": null,
   "id": "17e44163",
   "metadata": {},
   "outputs": [],
   "source": []
  }
 ],
 "metadata": {
  "kernelspec": {
   "display_name": "voxelmorph",
   "language": "python",
   "name": "voxelmorph"
  },
  "language_info": {
   "codemirror_mode": {
    "name": "ipython",
    "version": 3
   },
   "file_extension": ".py",
   "mimetype": "text/x-python",
   "name": "python",
   "nbconvert_exporter": "python",
   "pygments_lexer": "ipython3",
   "version": "3.7.0"
  }
 },
 "nbformat": 4,
 "nbformat_minor": 5
}
