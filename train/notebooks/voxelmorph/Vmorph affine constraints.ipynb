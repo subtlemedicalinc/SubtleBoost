{
 "cells": [
  {
   "cell_type": "code",
   "execution_count": null,
   "id": "de9d9758",
   "metadata": {},
   "outputs": [],
   "source": [
    "from scipy.ndimage import affine_transform\n",
    "import matplotlib.pyplot as plt\n",
    "import numpy as np\n",
    "import SimpleITK as sitk\n",
    "from scipy.ndimage.interpolation import rotate\n",
    "import subtle.subtle_preprocess as supre\n",
    "import SimpleITK as sitk\n",
    "from voxelmorph.tf.utils import invert_affine\n",
    "import keras.backend as K\n",
    "\n",
    "import os\n",
    "os.environ[\"CUDA_DEVICE_ORDER\"] = \"PCI_BUS_ID\"\n",
    "os.environ[\"CUDA_VISIBLE_DEVICES\"] = \"3\"\n",
    "\n",
    "import nibabel as nib\n",
    "plt.rcParams['figure.figsize'] = (10, 8)\n",
    "plt.set_cmap('gray')\n",
    "\n",
    "def process_brats_vol(img_vol, pad=False, is_seg=False):\n",
    "    img_vol = np.rot90(img_vol.transpose(2, 0, 1), axes=(1, 2), k=3)\n",
    "    img_vol = img_vol[13:-14]\n",
    "    \n",
    "    if not is_seg:\n",
    "        img_vol = img_vol / img_vol.mean()\n",
    "        img_vol = np.interp(img_vol, (img_vol.min(), img_vol.max()), (0, 1))\n",
    "    \n",
    "    if pad:\n",
    "        img_vol = np.pad(img_vol, pad_width=[(0, 0), (8, 8), (8, 8)], mode='constant', constant_values=0)\n",
    "    return img_vol"
   ]
  },
  {
   "cell_type": "code",
   "execution_count": null,
   "id": "aa750a03",
   "metadata": {},
   "outputs": [],
   "source": [
    "case_data = np.load('/home/srivathsa/projects/studies/gad/vmorph/data/brats/val/BraTS2021_00022.npz')\n",
    "ref_data = process_brats_vol(\n",
    "    nib.load('/home/srivathsa/projects/brats_2021/data/val/BraTS2021_00022/BraTS2021_00022_t1ce.nii.gz').get_fdata(),\n",
    "    pad=True\n",
    ")\n",
    "fixed, _ = case_data['data']\n",
    "aff = case_data['aff_mtx']\n",
    "\n",
    "aff2 = np.eye(4)[:-1]\n",
    "aff2[:, -1] = [20, 0, 0]\n",
    "print(aff2[0, -1])\n",
    "print(aff2)\n",
    "\n",
    "ref_moved = affine_transform(ref_data, aff2)\n",
    "diff = ref_moved - fixed\n",
    "# plt.imshow(np.hstack([fixed[64], ref_moved[64], diff[64]]))\n",
    "plt.imshow(diff[64])"
   ]
  },
  {
   "cell_type": "code",
   "execution_count": null,
   "id": "12a8e333",
   "metadata": {},
   "outputs": [],
   "source": [
    "affn_data = np.load('/home/srivathsa/projects/studies/gad/vmorph/data/brats/val/BraTS2021_00022.npz')\n",
    "img_fixed, img_moved = affn_data['data']\n",
    "mtx = affn_data['aff_mtx']\n",
    "mtx_inv = K.eval(invert_affine(mtx))\n",
    "\n",
    "img_rest = affine_transform(img_moved, mtx_inv)\n",
    "\n",
    "sl = 64\n",
    "\n",
    "i1 = img_fixed[sl]\n",
    "i2 = img_moved[sl]\n",
    "i3 = img_rest[sl]\n",
    "diff1 = i2 - i1\n",
    "diff2 = i3 - i1\n",
    "\n",
    "plt.imshow(np.hstack([i1, i2, i3]))"
   ]
  },
  {
   "cell_type": "code",
   "execution_count": null,
   "id": "6188ff10",
   "metadata": {},
   "outputs": [],
   "source": [
    "plt.imshow(np.hstack([diff1, diff2]))"
   ]
  },
  {
   "cell_type": "code",
   "execution_count": null,
   "id": "769e35a4",
   "metadata": {},
   "outputs": [],
   "source": [
    "data = np.load('/home/srivathsa/projects/studies/gad/vmorph/data/affine_im_256/NO1.npz')['data'][0]"
   ]
  },
  {
   "cell_type": "code",
   "execution_count": null,
   "id": "4fb45f7d",
   "metadata": {},
   "outputs": [],
   "source": [
    "# mtx = np.array([[1, 0, 0, 0], [0, 1, 0, 0], [0, 0, 1, 0]])\n",
    "\n",
    "angle = 0\n",
    "theta = -np.radians(angle)\n",
    "sc = 1\n",
    "tx = 0\n",
    "ty = 0\n",
    "mtx = np.array([[(1/sc) * np.cos(theta), -np.sin(theta), tx], \n",
    "                [np.sin(theta), (1/sc) * np.cos(theta), ty], \n",
    "                [0, 0, 1]\n",
    "               ])\n",
    "data_tfm = affine_transform(data[98], mtx)"
   ]
  },
  {
   "cell_type": "code",
   "execution_count": null,
   "id": "7a2ad7a5",
   "metadata": {},
   "outputs": [],
   "source": [
    "plt.imshow(data_tfm)"
   ]
  },
  {
   "cell_type": "code",
   "execution_count": null,
   "id": "8bc2f64e",
   "metadata": {},
   "outputs": [],
   "source": [
    "fixed = data.copy()\n",
    "print(fixed.min(), fixed.max())\n",
    "moving = rotate(fixed, angle=-10, axes=(1, 2), mode='nearest', reshape=False)\n",
    "mtx = np.array([[1, 0, 0, 0], [0, 1, 0, -13], [0, 0, 1, -13]])\n",
    "moving = affine_transform(moving, mtx, mode='nearest')\n",
    "print(moving.min(), moving.max())\n",
    "print(fixed.dtype, moving.dtype)\n",
    "plt.imshow(np.hstack([fixed[98], moving[98]]))"
   ]
  },
  {
   "cell_type": "code",
   "execution_count": null,
   "id": "76c4dd66",
   "metadata": {},
   "outputs": [],
   "source": [
    "pmap = sitk.GetDefaultParameterMap('affine')\n",
    "moved, params = supre.register_im(fixed, moving, param_map=pmap)"
   ]
  },
  {
   "cell_type": "code",
   "execution_count": null,
   "id": "13a14ac2",
   "metadata": {},
   "outputs": [],
   "source": [
    "params[0]"
   ]
  },
  {
   "cell_type": "code",
   "execution_count": null,
   "id": "94eb28a6",
   "metadata": {},
   "outputs": [],
   "source": [
    "for k, v in params[0].items():\n",
    "    print(k, v)"
   ]
  },
  {
   "cell_type": "code",
   "execution_count": null,
   "id": "eb6bdd71",
   "metadata": {},
   "outputs": [],
   "source": [
    "plt.imshow(moved[98])\n",
    "print(moved.min(), moved.max())"
   ]
  },
  {
   "cell_type": "code",
   "execution_count": null,
   "id": "7e008884",
   "metadata": {},
   "outputs": [],
   "source": [
    "fixed, moving = np.load('/home/srivathsa/projects/studies/gad/vmorph/data/affine/NO1.npz')['data']\n",
    "pmap = sitk.GetDefaultParameterMap('affine')\n",
    "moved_sitk, params = supre.register_im(fixed, moving, param_map=pmap)"
   ]
  },
  {
   "cell_type": "code",
   "execution_count": null,
   "id": "4b848779",
   "metadata": {},
   "outputs": [],
   "source": [
    "params[0]['TransformParameters']"
   ]
  },
  {
   "cell_type": "code",
   "execution_count": null,
   "id": "a65e33a0",
   "metadata": {},
   "outputs": [],
   "source": [
    "mtx = np.array([\n",
    "    [0.996301, 0.00638798, -0.00292411, 0.0405367],\n",
    "    [-0.00596, 0.990403, -0.00756067, 0.235278],\n",
    "    [0.00261286, 0.00897077, 0.993402, -0.121042]\n",
    "])\n",
    "moving_tfm = affine_transform(moving, mtx)"
   ]
  },
  {
   "cell_type": "code",
   "execution_count": null,
   "id": "8995c7d6",
   "metadata": {},
   "outputs": [],
   "source": [
    "plt.imshow(np.hstack([fixed[98], moving_tfm[98], moving_tfm[98]-fixed[98]]))"
   ]
  },
  {
   "cell_type": "code",
   "execution_count": null,
   "id": "c3cf0647",
   "metadata": {},
   "outputs": [],
   "source": [
    "fixed = nib.load('/home/srivathsa/projects/brats_2021/data/train/BraTS2021_00000/BraTS2021_00000_t1.nii.gz').get_data()\n",
    "fixed = fixed / fixed.mean()\n",
    "fixed = np.interp(fixed, (fixed.min(), fixed.max()), (0, 1))\n",
    "moving = nib.load('/home/srivathsa/projects/brats_2021/data/train/BraTS2021_00000/BraTS2021_00000_t1ce.nii.gz').get_data()\n",
    "moving = moving / moving.mean()\n",
    "moving = np.interp(moving, (moving.min(), moving.max()), (0, 1))"
   ]
  },
  {
   "cell_type": "code",
   "execution_count": null,
   "id": "3ca91701",
   "metadata": {},
   "outputs": [],
   "source": [
    "moving_tfm = affine_transform(moving, mtx)"
   ]
  },
  {
   "cell_type": "code",
   "execution_count": null,
   "id": "719a8781",
   "metadata": {},
   "outputs": [],
   "source": [
    "plt.imshow(moving_tfm[..., 80] - fixed[..., 80])"
   ]
  },
  {
   "cell_type": "code",
   "execution_count": null,
   "id": "c2731ae1",
   "metadata": {},
   "outputs": [],
   "source": []
  }
 ],
 "metadata": {
  "kernelspec": {
   "display_name": "voxelmorph",
   "language": "python",
   "name": "voxelmorph"
  },
  "language_info": {
   "codemirror_mode": {
    "name": "ipython",
    "version": 3
   },
   "file_extension": ".py",
   "mimetype": "text/x-python",
   "name": "python",
   "nbconvert_exporter": "python",
   "pygments_lexer": "ipython3",
   "version": "3.7.0"
  }
 },
 "nbformat": 4,
 "nbformat_minor": 5
}
