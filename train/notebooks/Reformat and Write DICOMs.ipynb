{
 "cells": [
  {
   "cell_type": "code",
   "execution_count": 11,
   "metadata": {},
   "outputs": [
    {
     "data": {
      "text/plain": [
       "<Figure size 720x576 with 0 Axes>"
      ]
     },
     "metadata": {},
     "output_type": "display_data"
    }
   ],
   "source": [
    "import pydicom\n",
    "import numpy as np\n",
    "from glob import glob\n",
    "import matplotlib.pyplot as plt\n",
    "from subtle.utils.io import write_dicoms\n",
    "\n",
    "plt.set_cmap('gray')\n",
    "plt.rcParams['figure.figsize'] = (10, 8)\n",
    "\n",
    "def get_dicom_vol(dirpath_dicom):\n",
    "    dcm_files = sorted([f for f in glob('{}/*.dcm'.format(dirpath_dicom))])\n",
    "    return np.array([pydicom.dcmread(f).pixel_array for f in dcm_files])"
   ]
  },
  {
   "cell_type": "code",
   "execution_count": 27,
   "metadata": {},
   "outputs": [
    {
     "name": "stdout",
     "output_type": "stream",
     "text": [
      "(256, 256, 256)\n"
     ]
    }
   ],
   "source": [
    "dirpath_dcm = '/home/srivathsa/projects/mrm_img_review/Prisma4/SubtleGADt1_mprage_sag_p2_isoresearch_only_105'\n",
    "dcm_vol = get_dicom_vol(dirpath_dcm)\n",
    "dcm_vol = dcm_vol.transpose(1, 2, 0)\n",
    "\n",
    "max_shape = max(dcm_vol.shape[1], dcm_vol.shape[0])\n",
    "dim1 = (max_shape - dcm_vol.shape[1]) // 2\n",
    "dim2 = (max_shape - dcm_vol.shape[2]) // 2\n",
    "dcm_vol = np.pad(dcm_vol, pad_width=[(0, 0), (dim1, dim1), (dim2, dim2)], mode='constant', constant_values=0)\n",
    "print(dcm_vol.shape)"
   ]
  },
  {
   "cell_type": "code",
   "execution_count": 28,
   "metadata": {},
   "outputs": [
    {
     "name": "stderr",
     "output_type": "stream",
     "text": [
      "100%|██████████| 256/256 [00:02<00:00, 121.18it/s]\n"
     ]
    }
   ],
   "source": [
    "write_dicoms(dirpath_dcm, dcm_vol, '{}_RFM'.format(dirpath_dcm), row=max_shape, col=max_shape, series_desc_pre='',\n",
    "            series_desc_post='::RFM')"
   ]
  },
  {
   "cell_type": "code",
   "execution_count": null,
   "metadata": {},
   "outputs": [],
   "source": []
  }
 ],
 "metadata": {
  "kernelspec": {
   "display_name": "Python (py35gad)",
   "language": "python",
   "name": "py35gad"
  },
  "language_info": {
   "codemirror_mode": {
    "name": "ipython",
    "version": 3
   },
   "file_extension": ".py",
   "mimetype": "text/x-python",
   "name": "python",
   "nbconvert_exporter": "python",
   "pygments_lexer": "ipython3",
   "version": "3.6.1"
  }
 },
 "nbformat": 4,
 "nbformat_minor": 4
}
