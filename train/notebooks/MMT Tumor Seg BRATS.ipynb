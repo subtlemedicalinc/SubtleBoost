{
 "cells": [
  {
   "cell_type": "code",
   "execution_count": 1,
   "id": "0041f51a",
   "metadata": {},
   "outputs": [
    {
     "name": "stderr",
     "output_type": "stream",
     "text": [
      "/home/srivathsa/projects/SubtleGad/train/subtle/utils/hyperparameter.py:8: UserWarning: Module test_tube not found - hyperparameter related functions cannot be used\n",
      "  warnings.warn('Module test_tube not found - hyperparameter related functions cannot be used')\n"
     ]
    },
    {
     "data": {
      "text/plain": [
       "<Figure size 432x288 with 0 Axes>"
      ]
     },
     "metadata": {},
     "output_type": "display_data"
    }
   ],
   "source": [
    "import nibabel as nib\n",
    "import matplotlib.pyplot as plt\n",
    "import numpy as np\n",
    "from glob import glob\n",
    "from tqdm import tqdm_notebook as tqdm\n",
    "import os\n",
    "import shutil\n",
    "import json\n",
    "from pathlib import Path\n",
    "import pandas as pd\n",
    "\n",
    "from subtle.subtle_metrics import dice\n",
    "\n",
    "plt.set_cmap('gray')\n",
    "plt.rcParams['figure.figsize'] = (12, 10)"
   ]
  },
  {
   "cell_type": "markdown",
   "id": "b3271bca",
   "metadata": {},
   "source": [
    "### Step 1: Create files for tumor segmentation from model prediction\n",
    "\n",
    "- For example `src_data` is symbolic linked from `/mnt/raid/jiang/projects/SubtleGAN/model/MMT/MMTUNetHybrid_GAN_s_c_MMT_epo50_bs24_lrg0.0005_192_opt-adamw/synthetic_images/test/`"
   ]
  },
  {
   "cell_type": "code",
   "execution_count": null,
   "id": "abba86e9",
   "metadata": {},
   "outputs": [],
   "source": [
    "base_path = '/home/srivathsa/projects/studies/gad/mmt_seg/seg'\n",
    "src_dirname = 'src_data'\n",
    "dest_dirname = 'cases'\n",
    "data_path = '{}/{}'.format(base_path, src_dirname)\n",
    "dest_fname = '{base_path}/{dest_dirname}/{cnum}{syn_sfx_dir}/{cnum}{syn_sfx_dir}_{con}.nii.gz'\n",
    "src_fname = '{base_path}/{src_dirname}/{cnum}/{fname}.nii.gz'\n",
    "\n",
    "cases = sorted([f.split('/')[-1] for f in glob('{}/*'.format(data_path))])\n",
    "cons = ['T1', 'T1Gd', 'T2', 'FLAIR']\n",
    "syn_sfx = [''] + ['_{}_syn'.format(c) for c in cons]\n",
    "\n",
    "for syn_sfx_dir in syn_sfx:\n",
    "    for cnum in tqdm(cases, total=len(cases)):\n",
    "        case_dir = '{}/{}/{}{}'.format(base_path, dest_dirname, cnum, syn_sfx_dir)\n",
    "        if syn_sfx_dir == '':\n",
    "            conlist = cons\n",
    "        else:\n",
    "            conlist = [c if c != syn_sfx_dir.split('_')[1] else syn_sfx_dir[1:] for c in cons]\n",
    "        os.makedirs(case_dir)\n",
    "        for con in conlist:\n",
    "            fpath_src = src_fname.format(base_path=base_path, src_dirname=src_dirname, cnum=cnum, fname=con)\n",
    "            fpath_dest = dest_fname.format(base_path=base_path, dest_dirname=dest_dirname, cnum=cnum, \n",
    "                                           syn_sfx_dir=syn_sfx_dir, con=con.replace('_syn', ''))\n",
    "            shutil.copy(fpath_src, fpath_dest)"
   ]
  },
  {
   "cell_type": "markdown",
   "id": "32425c0b",
   "metadata": {},
   "source": [
    "### Step 2: Create JSON file for segmentation config"
   ]
  },
  {
   "cell_type": "code",
   "execution_count": null,
   "id": "8d76b7cc",
   "metadata": {},
   "outputs": [],
   "source": [
    "seg_config = {\n",
    "    'testing_inference': []\n",
    "}\n",
    "\n",
    "fpath_tmplt = '/workspace/mmt_seg/{dest_dirname}/{cnum}/{cnum}_{con}.nii.gz'\n",
    "\n",
    "cases = sorted([f.split('/')[-1] \n",
    "                for f in glob('{}/{}/*'.format(base_path, dest_dirname))\n",
    "               ])\n",
    "cons = ['T1Gd', 'T1', 'T2', 'FLAIR']\n",
    "for cnum in tqdm(cases, total=len(cases)):\n",
    "    img_obj = {\n",
    "        'image': [fpath_tmplt.format(dest_dirname=dest_dirname, cnum=cnum, con=con) for con in cons]\n",
    "    }\n",
    "    seg_config['testing_inference'].append(img_obj)\n",
    "\n",
    "with open('{}/seg_config_mmg.json'.format(base_path), 'w') as f:\n",
    "    f.write(json.dumps(seg_config, indent=2))"
   ]
  },
  {
   "cell_type": "markdown",
   "id": "559801d6",
   "metadata": {},
   "source": [
    "### Step 3: (from cmdline) - copy the `cases` directory to ngc-ec2 workspace\n",
    "### Step 4: Run the inference on ngc-ec2 and copy the `pred` folder here (to `/home/srivathsa/projects/studies/gad/mmt_seg`\n",
    "\n",
    "### Step 5: Rename the pred directories and files (some weird naming convention in the NGC API)"
   ]
  },
  {
   "cell_type": "code",
   "execution_count": null,
   "id": "ed431f8d",
   "metadata": {},
   "outputs": [],
   "source": [
    "bpath = '{}/pred'.format(base_path)\n",
    "pred_dirs = sorted([d.split('/')[-1] for d in glob('{}/*'.format(bpath))])\n",
    "\n",
    "for pdir in pred_dirs:\n",
    "    new_pdir = '_'.join(pdir.split('_')[:-1])\n",
    "    os.rename('{}/{}'.format(bpath, pdir), '{}/{}'.format(bpath, new_pdir))"
   ]
  },
  {
   "cell_type": "code",
   "execution_count": null,
   "id": "a55d3610",
   "metadata": {},
   "outputs": [],
   "source": [
    "nii_files = sorted([f for f in glob('{}/**/*.nii.gz'.format(bpath), recursive=True)])\n",
    "\n",
    "for fpath_nii in nii_files:\n",
    "    dir_src = Path(fpath_nii).parent.absolute()\n",
    "    fname = fpath_nii.split('/')[-1].replace('.nii.gz', '')\n",
    "    seg_str = fname.split('_')[-1]\n",
    "    new_fname = '{}_{}.nii.gz'.format('_'.join(fname.split('_')[:-2]), seg_str)\n",
    "    \n",
    "    os.rename(fpath_nii, '{}/{}'.format(dir_src, new_fname))"
   ]
  },
  {
   "cell_type": "markdown",
   "id": "d09b6096",
   "metadata": {},
   "source": [
    "### Step 6: Compute Dice scores and save it to CSV files in `metrics`"
   ]
  },
  {
   "cell_type": "code",
   "execution_count": null,
   "id": "4ae5f3c4",
   "metadata": {},
   "outputs": [],
   "source": [
    "cases = sorted([d.split('/')[-1] for d in glob('{}/src_data/*'.format(base_path))])\n",
    "pred_dir = '{}/pred'.format(base_path)\n",
    "cons = ['T1', 'T1Gd', 'T2', 'FLAIR']\n",
    "syns = ['{}_syn'.format(c) for c in cons]\n",
    "tumor_classes = ['ET', 'TC', 'WT']\n",
    "metrics_dir = '{}/metrics'.format(base_path)\n",
    "\n",
    "for syn in syns:\n",
    "    metrics_obj = []\n",
    "    for cnum in tqdm(cases, total=len(cases)):\n",
    "        case_obj = {'Case': cnum}\n",
    "        for cls in tumor_classes:\n",
    "            fpath_gt = '{pdir}/{cnum}/{cnum}_seg{cls}.nii.gz'.format(pdir=pred_dir, cnum=cnum, cls=cls)\n",
    "            mask_gt = nib.load(fpath_gt).get_fdata()\n",
    "            \n",
    "            fpath_pred = '{pdir}/{cnum}_{syn}/{cnum}_{syn}_seg{cls}.nii.gz'.format(\n",
    "                pdir=pred_dir, cnum=cnum, cls=cls, syn=syn\n",
    "            )\n",
    "            mask_pred = nib.load(fpath_pred).get_fdata()\n",
    "            case_obj[cls] = dice(mask_gt, mask_pred)\n",
    "        metrics_obj.append(case_obj)\n",
    "    pd.DataFrame(metrics_obj).to_csv('{}/{}.csv'.format(metrics_dir, syn))"
   ]
  },
  {
   "cell_type": "markdown",
   "id": "98a67728",
   "metadata": {},
   "source": [
    "## Signed rank test"
   ]
  },
  {
   "cell_type": "code",
   "execution_count": 2,
   "id": "19d09527",
   "metadata": {},
   "outputs": [],
   "source": [
    "from scipy.stats import wilcoxon\n",
    "cons = {'T1': 't1', 'T1Gd': 'gd', 'T2': 't2', 'FLAIR': 'fl'}\n",
    "\n",
    "def compile_dice_scores(dirpath_metrics):    \n",
    "    df_metrics = []\n",
    "    \n",
    "    for kw, suf_str in cons.items():\n",
    "        mrows = pd.read_csv('{}/{}_syn.csv'.format(dirpath_metrics, kw)).to_dict(orient='records')\n",
    "        for mrow in mrows:\n",
    "            crow = [d for d in df_metrics if d['case'] == mrow['Case']]\n",
    "            if len(crow) == 0:\n",
    "                df_row = {'case': mrow['Case']}\n",
    "            else:\n",
    "                df_row = crow[0]\n",
    "\n",
    "            df_row['{}_avg'.format(suf_str)] = np.mean([mrow['ET'], mrow['TC'], mrow['WT']])\n",
    "            \n",
    "            if len(crow) == 0:\n",
    "                df_metrics.append(df_row)\n",
    "    return df_metrics\n",
    "\n",
    "def get_p_values(bpath, mmt_kw='metrics_mmt', milr_kw='metrics_milr', mmg_kw='metrics_mmgan'):\n",
    "    df_mmt = compile_dice_scores('{}/{}'.format(bpath, mmt_kw))\n",
    "    df_mmg = compile_dice_scores('{}/{}'.format(bpath, mmg_kw))\n",
    "    df_milr = compile_dice_scores('{}/{}'.format(bpath, milr_kw))\n",
    "    \n",
    "    p_matrix = []\n",
    "    for kw, suf_str in cons.items():\n",
    "        mmt_avg = [d['{}_avg'.format(suf_str)] for d in df_mmt]\n",
    "        mmg_avg = [d['{}_avg'.format(suf_str)] for d in df_mmg]\n",
    "        milr_avg = [d['{}_avg'.format(suf_str)] for d in df_milr]\n",
    "        \n",
    "        p_matrix.append({\n",
    "            'Contrast': kw,\n",
    "            'MM-GAN': wilcoxon(mmt_avg, mmg_avg, alternative='greater')[1],\n",
    "            'MILR': wilcoxon(mmt_avg, milr_avg, alternative='greater')[1]\n",
    "        })\n",
    "    \n",
    "    return pd.DataFrame(p_matrix)"
   ]
  },
  {
   "cell_type": "code",
   "execution_count": 3,
   "id": "8616cbf4",
   "metadata": {},
   "outputs": [],
   "source": [
    "df_pvals = get_p_values('/home/srivathsa/projects/studies/gad/mmt_seg/seg')"
   ]
  },
  {
   "cell_type": "code",
   "execution_count": 5,
   "id": "d1b69e30",
   "metadata": {},
   "outputs": [
    {
     "data": {
      "text/plain": [
       "[{'Contrast': 'T1',\n",
       "  'MM-GAN': 8.435659527084613e-11,\n",
       "  'MILR': 6.66917349824795e-05},\n",
       " {'Contrast': 'T1Gd',\n",
       "  'MM-GAN': 7.374296604127792e-11,\n",
       "  'MILR': 0.07333786313548717},\n",
       " {'Contrast': 'T2',\n",
       "  'MM-GAN': 2.58419740681613e-12,\n",
       "  'MILR': 0.0006940102982226807},\n",
       " {'Contrast': 'FLAIR',\n",
       "  'MM-GAN': 1.0255692185770687e-11,\n",
       "  'MILR': 1.2538994817819324e-08}]"
      ]
     },
     "execution_count": 5,
     "metadata": {},
     "output_type": "execute_result"
    }
   ],
   "source": [
    "df_pvals.to_dict(orient='records')"
   ]
  },
  {
   "cell_type": "code",
   "execution_count": null,
   "id": "a8e9389d",
   "metadata": {},
   "outputs": [],
   "source": [
    "fpaths_nii = [f for f in glob('/home/srivathsa/projects/studies/gad/mmt_seg/cases_mmg/**/*.nii.gz', recursive=True)]\n",
    "\n",
    "for fp in tqdm(fpaths_nii, total=len(fpaths_nii)):\n",
    "    nbf = nib.load(fp)\n",
    "    vol = nbf.get_fdata().transpose(1, 0, 2)\n",
    "    new_nb = nib.Nifti1Image(vol, affine=np.eye(4), header=nbf.header)\n",
    "    nib.save(new_nb, fp)"
   ]
  },
  {
   "cell_type": "code",
   "execution_count": null,
   "id": "cbec51e8",
   "metadata": {},
   "outputs": [],
   "source": []
  }
 ],
 "metadata": {
  "kernelspec": {
   "display_name": "Python (py35gad)",
   "language": "python",
   "name": "py35gad"
  },
  "language_info": {
   "codemirror_mode": {
    "name": "ipython",
    "version": 3
   },
   "file_extension": ".py",
   "mimetype": "text/x-python",
   "name": "python",
   "nbconvert_exporter": "python",
   "pygments_lexer": "ipython3",
   "version": "3.6.0"
  }
 },
 "nbformat": 4,
 "nbformat_minor": 5
}
