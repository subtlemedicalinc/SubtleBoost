{
 "cells": [
  {
   "cell_type": "code",
   "execution_count": 1,
   "id": "34ece6f5",
   "metadata": {},
   "outputs": [
    {
     "name": "stderr",
     "output_type": "stream",
     "text": [
      "/home/srivathsa/projects/SubtleGad/train/subtle/utils/hyperparameter.py:8: UserWarning: Module test_tube not found - hyperparameter related functions cannot be used\n",
      "  warnings.warn('Module test_tube not found - hyperparameter related functions cannot be used')\n"
     ]
    },
    {
     "data": {
      "text/plain": [
       "<Figure size 432x288 with 0 Axes>"
      ]
     },
     "metadata": {},
     "output_type": "display_data"
    }
   ],
   "source": [
    "import os\n",
    "import pydicom\n",
    "import matplotlib.pyplot as plt\n",
    "\n",
    "plt.set_cmap('gray')\n",
    "plt.rcParams['figure.figsize'] = (18, 12)\n",
    "\n",
    "from tqdm import tqdm_notebook as tqdm\n",
    "from glob import glob\n",
    "import pandas as pd\n",
    "import numpy as np\n",
    "\n",
    "import subtle.utils.io as suio\n",
    "import subtle.subtle_preprocess as supre\n",
    "\n",
    "import ipywidgets as widgets\n",
    "from ipywidgets import interact, interact_manual\n",
    "from IPython.display import display, clear_output\n",
    "\n",
    "\n",
    "def get_dicom_vol(dirpath_dicom):\n",
    "    dcm_files = sorted([f for f in glob('{}/*.dcm'.format(dirpath_dicom))])\n",
    "    return np.array([pydicom.dcmread(f).pixel_array for f in dcm_files])\n",
    "\n",
    "def get_pp_path(inf_rec):\n",
    "    cnum = inf_rec['Case']\n",
    "    pp_path = '/'.join(inf_rec['Inference_Path'].split('/')[:-1]).replace('data', 'preprocess/data')\n",
    "    pp_path = '{}/{}'.format(pp_path, cnum)\n",
    "    file_ext = 'npy' if os.path.exists('{}.npy'.format(pp_path, cnum)) else 'h5'\n",
    "    pp_path = '{}.{}'.format(pp_path, file_ext)\n",
    "    if not os.path.exists(pp_path):\n",
    "        raise ValueError('Preprocess file not found for case {}'.format(cnum))\n",
    "    return pp_path\n",
    "\n",
    "def get_start_idx(vol):\n",
    "    start_idx = 0\n",
    "    inc_idx = 1\n",
    "    if vol.shape[0] <= 225:\n",
    "        start_idx = int(vol.shape[0] * 0.12)\n",
    "        inc_idx = 3\n",
    "    else:\n",
    "        start_idx = int(vol.shape[0] * 0.15)\n",
    "        inc_idx = 5\n",
    "    return start_idx, inc_idx\n",
    "\n",
    "def process_vol(vol):\n",
    "    vol = vol / vol.mean()\n",
    "    vol = np.clip(vol, 0, vol.max())\n",
    "    vol = np.interp(vol, (vol.min(), vol.max()), (0, 1))\n",
    "    \n",
    "    st, inc_idx = get_start_idx(vol)\n",
    "    vol = vol[st:-st]\n",
    "    vol = vol[::inc_idx]\n",
    "    return vol"
   ]
  },
  {
   "cell_type": "markdown",
   "id": "9eb69779",
   "metadata": {},
   "source": [
    "### View Inference Cases"
   ]
  },
  {
   "cell_type": "code",
   "execution_count": 13,
   "id": "fdbac0fe",
   "metadata": {},
   "outputs": [
    {
     "data": {
      "application/vnd.jupyter.widget-view+json": {
       "model_id": "ccd9d0b57eb44d3688da7800d529fdf4",
       "version_major": 2,
       "version_minor": 0
      },
      "text/plain": [
       "Dropdown(description='Case:', index=1, options=('Select case number...', 'NO57', 'NO65', 'Patient_0241', 'Pati…"
      ]
     },
     "metadata": {},
     "output_type": "display_data"
    },
    {
     "data": {
      "application/vnd.jupyter.widget-view+json": {
       "model_id": "24f7665effe4462b9c1e28af341925dd",
       "version_major": 2,
       "version_minor": 0
      },
      "text/plain": [
       "Button(description='Mark as read', style=ButtonStyle())"
      ]
     },
     "metadata": {},
     "output_type": "display_data"
    },
    {
     "data": {
      "application/vnd.jupyter.widget-view+json": {
       "model_id": "a7660df8e9b840e68fa1096a6bf54751",
       "version_major": 2,
       "version_minor": 0
      },
      "text/plain": [
       "interactive(children=(IntSlider(value=0, description='idx', max=49), Output()), _dom_classes=('widget-interact…"
      ]
     },
     "metadata": {},
     "output_type": "display_data"
    }
   ],
   "source": [
    "src_path = '/home/srivathsa/projects/studies/gad/inf_qview'\n",
    "cases = sorted([f.split('/')[-1].replace('.npy', '') \n",
    "                for f in glob('{}/*.npy'.format(src_path))])\n",
    "\n",
    "read_cases = [c for c in open('/home/srivathsa/projects/studies/gad/inf_read_cases.txt', 'r').read().split('\\n')\n",
    "              if len(c) > 0]\n",
    "# read_cases = []\n",
    "cases = ['Select case number...'] + [c for c in cases if c not in read_cases]\n",
    "\n",
    "print('{} cases remaining'.format(len(cases)))\n",
    "\n",
    "drop_down = widgets.Dropdown(\n",
    "    options=cases,\n",
    "    value=cases[0],\n",
    "    description='Case:',\n",
    ")\n",
    "\n",
    "read_btn = widgets.Button(description=\"Mark as read\")\n",
    "\n",
    "def mark_read(arg):\n",
    "    with open('/home/srivathsa/projects/studies/gad/inf_read_cases.txt', 'a') as status_f:\n",
    "        status_f.write(drop_down.value + '\\n')\n",
    "\n",
    "def show_gad_gt(idx):\n",
    "    plt.clf()\n",
    "    img_disp = np.hstack([cur_vol[0, idx], cur_vol[1, idx]])\n",
    "    plt.imshow(img_disp)\n",
    "    plt.title('Slice {}'.format(idx))\n",
    "    plt.axis('off')\n",
    "\n",
    "def on_dd_change(chg):\n",
    "    global cur_vol\n",
    "    if chg['type'] == 'change' and chg['name'] == 'value':\n",
    "        if 'Select' in chg['new']: return\n",
    "        clear_output()\n",
    "        cur_vol = np.load('{}/{}.npy'.format(src_path, str(chg['new'])))\n",
    "        display(drop_down)\n",
    "        display(read_btn)\n",
    "        interact(show_gad_gt, idx=widgets.IntSlider(min=0, max=cur_vol.shape[1]-1, step=1, value=0))\n",
    "\n",
    "drop_down.observe(on_dd_change)\n",
    "display(drop_down)\n",
    "display(read_btn)\n",
    "read_btn.on_click(mark_read)\n",
    "global cur_vol\n",
    "cur_vol = None"
   ]
  },
  {
   "cell_type": "code",
   "execution_count": 11,
   "id": "6ebc71a9",
   "metadata": {},
   "outputs": [],
   "source": [
    "cases = ['NO57', 'NO65']\n",
    "\n",
    "df_inf = pd.read_csv('/home/srivathsa/projects/studies/gad/gad_inf_repo.csv')\n",
    "# df_inf = df_inf[df_inf['Read?'] == 'No']\n",
    "df_inf = df_inf.query('Case in @cases')\n",
    "df_inf = df_inf.rename(columns={\"Inference Path (dgx-1)\": \"Inference_Path\"})\n",
    "\n",
    "dest_path = '/home/srivathsa/projects/studies/gad/inf_qview'\n",
    "\n",
    "inf_list = df_inf.to_dict(orient='records')\n",
    "proc_cases = sorted([f.split('/')[-1].replace('.npy', '') for f in glob('{}/*.npy'.format(dest_path))])\n",
    "inf_list = [rec for rec in inf_list if rec['Case'] not in proc_cases]"
   ]
  },
  {
   "cell_type": "code",
   "execution_count": 12,
   "id": "9c6e1158",
   "metadata": {},
   "outputs": [
    {
     "name": "stderr",
     "output_type": "stream",
     "text": [
      "/home/srivathsa/miniconda3/envs/py35gad/lib/python3.6/site-packages/ipykernel_launcher.py:1: TqdmDeprecationWarning: This function will be removed in tqdm==5.0.0\n",
      "Please use `tqdm.notebook.tqdm` instead of `tqdm.tqdm_notebook`\n",
      "  \"\"\"Entry point for launching an IPython kernel.\n"
     ]
    },
    {
     "data": {
      "application/vnd.jupyter.widget-view+json": {
       "model_id": "9f5705829cf34c8eaebf6cd3ec1d5335",
       "version_major": 2,
       "version_minor": 0
      },
      "text/plain": [
       "  0%|          | 0/2 [00:00<?, ?it/s]"
      ]
     },
     "metadata": {},
     "output_type": "display_data"
    }
   ],
   "source": [
    "for inf_rec in tqdm(inf_list, total=len(inf_list)):\n",
    "    cnum = inf_rec['Case']\n",
    "    try:\n",
    "        if 'LOCAL' in inf_rec['Inference_Path']:\n",
    "            inf_rec['Inference_Path'] = inf_rec['Inference_Path'].replace(\n",
    "                'LOCAL:/', '/home/srivathsa/projects/studies/gad/stanford/data/'\n",
    "            )\n",
    "        inf_path = '{}/{}/{}_SubtleGad'.format(inf_rec['Inference_Path'], cnum, cnum)\n",
    "        \n",
    "        pp_path = get_pp_path(inf_rec)\n",
    "\n",
    "        gt_raw = suio.load_file(pp_path)[:, 2]\n",
    "        gad_raw = get_dicom_vol(inf_path)\n",
    "\n",
    "        if gt_raw.shape[0] != gad_raw.shape[0]:\n",
    "            gt_raw = gt_raw[::2]\n",
    "\n",
    "        gt = process_vol(gt_raw)\n",
    "        gad = process_vol(gad_raw)\n",
    "\n",
    "        if not np.array_equal(gt.shape, gad.shape):\n",
    "            gad = supre.zero_pad(gad, target_size=256)\n",
    "        new_arr = np.array([gt, gad])\n",
    "        np.save('{}/{}.npy'.format(dest_path, cnum), new_arr)\n",
    "    except Exception as e:\n",
    "        print('ERROR in {}: {}'.format(cnum, e))"
   ]
  },
  {
   "cell_type": "code",
   "execution_count": null,
   "id": "c7897ef1",
   "metadata": {},
   "outputs": [],
   "source": [
    "def show_gad_gt(idx):\n",
    "    plt.imshow(np.hstack([gt[idx], gad[idx]]))\n",
    "    plt.title('Slice {}'.format(idx))\n",
    "    plt.axis('off')\n",
    "interact(show_gad_gt, idx=widgets.IntSlider(min=0, max=gt.shape[0]-1, step=1, value=0))"
   ]
  },
  {
   "cell_type": "code",
   "execution_count": null,
   "id": "dde9326e",
   "metadata": {},
   "outputs": [],
   "source": [
    "bpath = '/home/srivathsa/projects/studies/gad/tiantan/data'\n",
    "cases = sorted([d.split('/')[-1] for d in glob('/home/srivathsa/projects/studies/gad/tiantan/data/NO*') \n",
    "                if 'mod' not in d and 'mc' not in d])\n",
    "\n",
    "ids = []\n",
    "\n",
    "for case in cases:\n",
    "    fpaths = [f for f in glob('{}/{}/**/*.dcm'.format(bpath, case), recursive=True)]\n",
    "    if len(fpaths) == 0:\n",
    "        fpaths = [f for f in glob('{}/{}/**/Mag*'.format(bpath, case), recursive=True)]\n",
    "    fpath_dcm = fpaths[0]\n",
    "    dcm = pydicom.dcmread(fpath_dcm)\n",
    "    ids.append((case, dcm.StudyInstanceUID))"
   ]
  },
  {
   "cell_type": "code",
   "execution_count": null,
   "id": "fb59161f",
   "metadata": {},
   "outputs": [],
   "source": [
    "for cnum, study_uid in ids:\n",
    "    dup_row = [c for c, s in ids if c != cnum and s == study_uid]\n",
    "    if len(dup_row) > 0:\n",
    "        print(cnum, dup_row[0])"
   ]
  },
  {
   "cell_type": "markdown",
   "id": "dfdf8e7e",
   "metadata": {},
   "source": [
    "### AUC/ROC Curve"
   ]
  },
  {
   "cell_type": "code",
   "execution_count": null,
   "id": "62749699",
   "metadata": {},
   "outputs": [],
   "source": [
    "from sklearn.metrics import accuracy_score, f1_score, roc_curve, auc\n",
    "\n",
    "y_test = np.append(np.ones(295), np.zeros(296))\n",
    "y_score = np.zeros(22)\n",
    "y_score = np.append(y_score, np.ones(273))\n",
    "y_score = np.append(y_score, np.ones(24))\n",
    "y_score = np.append(y_score, np.zeros(272))"
   ]
  },
  {
   "cell_type": "code",
   "execution_count": null,
   "id": "9331bf63",
   "metadata": {},
   "outputs": [],
   "source": [
    "fpr, tpr, nt = roc_curve(y_test, y_score)"
   ]
  },
  {
   "cell_type": "code",
   "execution_count": null,
   "id": "036568a3",
   "metadata": {},
   "outputs": [],
   "source": [
    "plt.plot(fpr, tpr)"
   ]
  },
  {
   "cell_type": "code",
   "execution_count": null,
   "id": "feee46b7",
   "metadata": {},
   "outputs": [],
   "source": []
  }
 ],
 "metadata": {
  "kernelspec": {
   "display_name": "Python (py35gad)",
   "language": "python",
   "name": "py35gad"
  },
  "language_info": {
   "codemirror_mode": {
    "name": "ipython",
    "version": 3
   },
   "file_extension": ".py",
   "mimetype": "text/x-python",
   "name": "python",
   "nbconvert_exporter": "python",
   "pygments_lexer": "ipython3",
   "version": "3.6.0"
  }
 },
 "nbformat": 4,
 "nbformat_minor": 5
}
