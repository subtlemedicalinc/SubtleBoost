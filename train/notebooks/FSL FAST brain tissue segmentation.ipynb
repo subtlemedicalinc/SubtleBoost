{
 "cells": [
  {
   "cell_type": "code",
   "execution_count": 6,
   "metadata": {},
   "outputs": [
    {
     "data": {
      "text/plain": [
       "<Figure size 432x288 with 0 Axes>"
      ]
     },
     "metadata": {},
     "output_type": "display_data"
    }
   ],
   "source": [
    "%reload_ext autoreload\n",
    "%autoreload 2\n",
    "\n",
    "import matplotlib.pyplot as plt\n",
    "import numpy as np\n",
    "from nipype.interfaces import fsl\n",
    "from dicom2nifti.convert_dicom import dicom_series_to_nifti\n",
    "import nibabel as nib\n",
    "# import sigpy.plot as pl\n",
    "import subtle.subtle_preprocess as supre\n",
    "import SimpleITK as sitk\n",
    "\n",
    "# %matplotlib notebook\n",
    "\n",
    "plt.set_cmap('gray')\n",
    "plt.rcParams['figure.figsize'] = (15, 12)\n",
    "\n",
    "def show_img(img, title='', axis=False, vmin=None, vmax=None):\n",
    "    imshow_args = {}\n",
    "    \n",
    "    if vmin:\n",
    "        imshow_args['vmin'] = vmin\n",
    "    if vmax:\n",
    "        imshow_args['vmax'] = vmax\n",
    "    \n",
    "    im_axis = 'on' if axis else 'off'\n",
    "    plt.axis(im_axis)\n",
    "    plt.imshow(img, **imshow_args)\n",
    "    plt.title(title, fontsize=15)\n",
    "\n",
    "def show_gad_comparison(img_pre, img_low, img_post, vmin=None, vmax=None):\n",
    "    fig = plt.figure(figsize=(15, 10))\n",
    "    fig.tight_layout()\n",
    "\n",
    "    fig.add_subplot(1, 3, 1)\n",
    "    show_img(img_pre, title='Pre contrast', vmin=vmin, vmax=vmax)\n",
    "\n",
    "    fig.add_subplot(1, 3, 2)\n",
    "    show_img(img_low, title='10% dosage', vmin=vmin, vmax=vmax)\n",
    "\n",
    "    fig.add_subplot(1, 3, 3)\n",
    "    show_img(img_post, title='Full dosage', vmin=vmin, vmax=vmax)\n",
    "\n",
    "    plt.show()\n",
    "\n",
    "def show_comparison(img1, img2, titles=['', ''], vmin=None, vmax=None):\n",
    "    fig = plt.figure(figsize=(15, 10))\n",
    "    fig.tight_layout()\n",
    "\n",
    "    fig.add_subplot(1, 2, 1)\n",
    "    show_img(img1, title=titles[0], vmin=vmin, vmax=vmax)\n",
    "\n",
    "    fig.add_subplot(1, 2, 2)\n",
    "    show_img(img2, title=titles[1], vmin=vmin, vmax=vmax)\n",
    "    \n",
    "    plt.show()\n",
    "\n",
    "def dcm2nii(dcmdir, out_dir):\n",
    "    out_file = '{}/{}.nii'.format(out_dir, dcmdir.split('/')[-1])\n",
    "    dicom_series_to_nifti(dcmdir, out_file, reorient_nifti=False)\n",
    "    return out_file\n",
    "\n",
    "def npy2nii(fpath_npy, fpath_nii, mask=True, c_idx=0):\n",
    "#     idx = 1 if mask else 0\n",
    "    data = np.load(fpath_npy) # [idx, :, c_idx, ...]\n",
    "    data = data.transpose(1, 0, 2)\n",
    "    data = np.rot90(data, k=3, axes=(1, 2))\n",
    "\n",
    "    data_nii = nib.Nifti1Image(data, affine=np.eye(4))\n",
    "    data_nii.to_filename(fpath_nii)\n",
    "    return fpath_nii\n",
    "\n",
    "def segment_tissue(fpath_input, fpath_outbase):\n",
    "    fast_node = fsl.FAST()\n",
    "\n",
    "    fast_node.inputs.in_files = fpath_input\n",
    "    fast_node.inputs.out_basename = fpath_outbase\n",
    "    fast_node.inputs.verbose = False\n",
    "    fast_node.inputs.bias_lowpass = 4\n",
    "    fast_node.inputs.no_bias = True\n",
    "    fast_node.inputs.no_pve = True\n",
    "    fast_node.inputs.segment_iters = 2\n",
    "    fast_node.inputs.hyper = 0\n",
    "\n",
    "    fast_node.cmdline\n",
    "    out = fast_node.run()\n",
    "    \n",
    "    return nib.load('{}_seg.nii'.format(fpath_outbase)).get_data()\n",
    "\n",
    "def nii2npy(fpath_nii):\n",
    "    return nib.load(fpath_nii).get_data()\n",
    "\n",
    "def sag2ax(input_npy):\n",
    "    input_npy = input_npy.transpose(1, 0, 2)\n",
    "    input_npy = np.rot90(input_npy, k=3, axes=(1, 2))\n",
    "    return input_npy"
   ]
  },
  {
   "cell_type": "code",
   "execution_count": 2,
   "metadata": {},
   "outputs": [],
   "source": [
    "ref_img = np.load('/home/srivathsa/projects/studies/gad/tiantan/preprocess/data_256/NO26.npy')[1, :, 0, ...]\n",
    "data_img = np.load('/home/srivathsa/projects/studies/gad/tiantan/preprocess/data_256/NO57.npy')[1, :, 0, ...]"
   ]
  },
  {
   "cell_type": "code",
   "execution_count": 4,
   "metadata": {},
   "outputs": [],
   "source": [
    "data_img_ax = sag2ax(data_img)"
   ]
  },
  {
   "cell_type": "code",
   "execution_count": 27,
   "metadata": {},
   "outputs": [
    {
     "data": {
      "image/png": "[encoded data removed]",
      "text/plain": [
       "<Figure size 1080x864 with 1 Axes>"
      ]
     },
     "metadata": {
      "needs_background": "light"
     },
     "output_type": "display_data"
    }
   ],
   "source": [
    "lhs = data_img_ax[115, :, :98]\n",
    "rhs = data_img_ax[115, :, 98:]\n",
    "rhs = np.flip(rhs, axis=1)\n",
    "diff = rhs - lhs\n",
    "show_img(diff > 0.5)"
   ]
  },
  {
   "cell_type": "code",
   "execution_count": 16,
   "metadata": {},
   "outputs": [
    {
     "name": "stdout",
     "output_type": "stream",
     "text": [
      "image registration\n",
      "registration done, 6.54 s\n",
      "(196, 256, 256) float32 0.0 6.4599137\n",
      "(196, 256, 256) float32 0.0 6.4599137\n"
     ]
    }
   ],
   "source": [
    "pmap = sitk.GetDefaultParameterMap('affine')\n",
    "data_img = supre.register_im(ref_img, data_img, param_map=pmap, return_params=False)\n",
    "\n",
    "data_img = data_img * (data_img > 0.1)\n",
    "data_img = np.clip(data_img, 0, data_img.max())\n",
    "data_img = np.interp(data_img, (data_img.min(), data_img.max()), (ref_img.min(), ref_img.max()))\n",
    "data_img = data_img.astype(ref_img.dtype)\n",
    "\n",
    "print(ref_img.shape, ref_img.dtype, ref_img.min(), ref_img.max())\n",
    "print(data_img.shape, data_img.dtype, data_img.min(), data_img.max())"
   ]
  },
  {
   "cell_type": "code",
   "execution_count": null,
   "metadata": {},
   "outputs": [],
   "source": [
    "np.save('ref_img.npy', ref_img)\n",
    "np.save('data_img.npy', data_img)"
   ]
  },
  {
   "cell_type": "code",
   "execution_count": null,
   "metadata": {},
   "outputs": [],
   "source": [
    "ref_nii = npy2nii('ref_img.npy', 'ref_img.nii')\n",
    "data_nii = npy2nii('data_img.npy', 'data.nii')"
   ]
  },
  {
   "cell_type": "code",
   "execution_count": null,
   "metadata": {
    "scrolled": false
   },
   "outputs": [],
   "source": [
    "ref_seg_npy = segment_tissue(ref_nii, 'ref_tissue')\n",
    "print(ref_seg_npy.shape)"
   ]
  },
  {
   "cell_type": "code",
   "execution_count": null,
   "metadata": {},
   "outputs": [],
   "source": [
    "data_seg_npy = segment_tissue(data_nii, 'data_tissue')\n",
    "print(data_seg_npy.shape)"
   ]
  },
  {
   "cell_type": "code",
   "execution_count": null,
   "metadata": {},
   "outputs": [],
   "source": [
    "ref_seg_npy = nii2npy('ref_tissue_seg.nii')\n",
    "data_seg_npy = nii2npy('data_tissue_seg.nii')\n",
    "\n",
    "seg_idx = 1\n",
    "\n",
    "ref_seg_wm = (ref_seg_npy == seg_idx)\n",
    "data_seg_wm = (data_seg_npy == seg_idx)\n",
    "\n",
    "ref_img_ax = sag2ax(ref_img)\n",
    "data_img_ax = sag2ax(data_img)\n",
    "\n",
    "pl.ImagePlot(data_seg_npy)"
   ]
  },
  {
   "cell_type": "code",
   "execution_count": null,
   "metadata": {},
   "outputs": [],
   "source": [
    "data_seg_npy = nii2npy('data_tissue_seg.nii')\n",
    "\n",
    "pl.ImagePlot(data_seg_npy == 3)"
   ]
  },
  {
   "cell_type": "code",
   "execution_count": null,
   "metadata": {},
   "outputs": [],
   "source": []
  }
 ],
 "metadata": {
  "kernelspec": {
   "display_name": "Python (py35gad)",
   "language": "python",
   "name": "py35gad"
  },
  "language_info": {
   "codemirror_mode": {
    "name": "ipython",
    "version": 3
   },
   "file_extension": ".py",
   "mimetype": "text/x-python",
   "name": "python",
   "nbconvert_exporter": "python",
   "pygments_lexer": "ipython3",
   "version": "3.6.0"
  }
 },
 "nbformat": 4,
 "nbformat_minor": 2
}
