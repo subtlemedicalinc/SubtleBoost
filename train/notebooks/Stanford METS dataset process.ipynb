{
 "cells": [
  {
   "cell_type": "code",
   "execution_count": 10,
   "id": "5c8c4c7f",
   "metadata": {},
   "outputs": [
    {
     "data": {
      "text/plain": [
       "<Figure size 720x576 with 0 Axes>"
      ]
     },
     "metadata": {},
     "output_type": "display_data"
    }
   ],
   "source": [
    "import os\n",
    "import imageio\n",
    "import numpy as np\n",
    "import matplotlib.pyplot as plt\n",
    "from glob import glob\n",
    "import nibabel as nib\n",
    "from tqdm import tqdm_notebook as tqdm\n",
    "from skimage import color\n",
    "\n",
    "plt.set_cmap('gray')\n",
    "plt.rcParams['figure.figsize'] = (10, 8)\n",
    "\n",
    "base_path = '/mnt/datasets/srivathsa/sford_mets/png'\n",
    "dest_path = '/mnt/datasets/srivathsa/sford_mets/nifti'\n",
    "\n",
    "def png_to_npy(dirpath, mean_norm=True):\n",
    "    fpaths = sorted([f for f in glob('{}/*.png'.format(dirpath))])\n",
    "    img_vol = np.array([imageio.imread(f) for f in fpaths])\n",
    "    if 'seg' in dirpath:\n",
    "        mean_norm = False\n",
    "        img_vol = np.interp(img_vol, (0, 255), (0, 1))\n",
    "    if mean_norm:\n",
    "        img_vol = img_vol / img_vol.mean()\n",
    "    return img_vol\n",
    "\n",
    "def get_rgb(img):\n",
    "    img = (img - np.min(img))/np.ptp(img)\n",
    "    return np.dstack((img, img, img))\n",
    "\n",
    "def overlay_mask(data, label, r=0.9, g=0.1, b=0.1):\n",
    "    data_rgb = get_rgb(data)\n",
    "\n",
    "    label_r = (label==1) * r\n",
    "    label_g = (label==2) * g\n",
    "    label_b = (label==4) * b\n",
    "    label_rgb = np.dstack((label_r, label_g, label_b))\n",
    "\n",
    "    data_hsv = color.rgb2hsv(data_rgb)\n",
    "    label_hsv = color.rgb2hsv(label_rgb)\n",
    "\n",
    "    data_hsv[..., 0] = label_hsv[..., 0]\n",
    "    data_hsv[..., 1] = label_hsv[..., 1]# * 0.55\n",
    "\n",
    "    return color.hsv2rgb(data_hsv)\n",
    "\n",
    "def process_mets_case(case_num, train=True):\n",
    "    sfix = 'train' if train else 'test'\n",
    "    dirpath = '{}/{}/{}'.format(base_path, sfix, case_num)\n",
    "    dest = '{}/{}/{}'.format(dest_path, sfix, case_num)\n",
    "    \n",
    "    if not os.path.exists(dest):\n",
    "        os.makedirs(dest)\n",
    "    \n",
    "    dir_map = {\n",
    "        '0': '3_AX_T1_GE_post',\n",
    "        '1': '1_AX_T1_SE_pre',\n",
    "        '2': '2_AX_T1_SE_post',\n",
    "        '3': '4_AX_T2_FLAIR_post'\n",
    "    }\n",
    "    \n",
    "    if train:\n",
    "        dir_map['seg'] = 'mets_seg'\n",
    "    \n",
    "    for k, v in dir_map.items():\n",
    "        img_vol = png_to_npy('{}/{}'.format(dirpath, k))\n",
    "        fpath_save = '{}/{}.nii.gz'.format(dest, v)\n",
    "        img = nib.Nifti1Image(img_vol, affine=np.eye(4))\n",
    "        nib.save(img, fpath_save)\n",
    "        \n",
    "        if train and 'seg' in fpath_save:\n",
    "            slice_idxs = get_slice_idx(img_vol)\n",
    "            np.save('{}/mets_slice_idx.npy'.format(dest), slice_idxs)\n",
    "\n",
    "def get_slice_idx(mask):\n",
    "    ed_mask = (mask == 1).astype(np.uint8)\n",
    "    sl_idx, _, _ = np.nonzero(ed_mask==1)\n",
    "    return np.unique(sl_idx)\n",
    "\n",
    "def viz_mets(case_num, fpath_save=None):\n",
    "    base_path = '/mnt/datasets/srivathsa/sford_mets/nifti/train/{}'.format(case_num)\n",
    "    fpaths_data = sorted([f for f in glob('{}/*.nii.gz'.format(base_path)) if 'seg' not in f])\n",
    "    data = np.array([nib.load(f).get_fdata() for f in fpaths_data])\n",
    "    seg = nib.load('{}/mets_seg.nii.gz'.format(base_path)).get_fdata()\n",
    "    met_slices = np.load('{}/mets_slice_idx.npy'.format(base_path))\n",
    "    sl_idx = -5 if len(met_slices) > 6 else -1\n",
    "    sl = met_slices[sl_idx]\n",
    "    \n",
    "    row1 = np.hstack([overlay_mask(data[0, sl], seg[sl]), overlay_mask(data[1, sl], seg[sl])])\n",
    "    row2 = np.hstack([overlay_mask(data[2, sl], seg[sl]), overlay_mask(data[3, sl], seg[sl])])\n",
    "    \n",
    "    img = np.vstack([row1, row2])\n",
    "    \n",
    "    plt.imshow(img)\n",
    "    if fpath_save is not None:\n",
    "        plt.savefig(fpath_save)\n",
    "        plt.clf()"
   ]
  },
  {
   "cell_type": "code",
   "execution_count": 11,
   "id": "09339052",
   "metadata": {},
   "outputs": [
    {
     "name": "stderr",
     "output_type": "stream",
     "text": [
      "/home/srivathsa/miniconda3/envs/py35gad/lib/python3.6/site-packages/ipykernel_launcher.py:4: TqdmDeprecationWarning: This function will be removed in tqdm==5.0.0\n",
      "Please use `tqdm.notebook.tqdm` instead of `tqdm.tqdm_notebook`\n",
      "  after removing the cwd from sys.path.\n"
     ]
    },
    {
     "data": {
      "application/vnd.jupyter.widget-view+json": {
       "model_id": "2cc61fb1df4844dc8a9fbb7e6be4723d",
       "version_major": 2,
       "version_minor": 0
      },
      "text/plain": [
       "  0%|          | 0/105 [00:00<?, ?it/s]"
      ]
     },
     "metadata": {},
     "output_type": "display_data"
    },
    {
     "data": {
      "text/plain": [
       "<Figure size 720x576 with 0 Axes>"
      ]
     },
     "metadata": {},
     "output_type": "display_data"
    }
   ],
   "source": [
    "mets_cases = sorted([f.split('/')[-1] for f in glob('{}/train/Mets*'.format(base_path))])\n",
    "plot_path = '/mnt/datasets/srivathsa/sford_mets/plots'\n",
    "\n",
    "for case_num in tqdm(mets_cases, total=len(mets_cases)):\n",
    "    viz_mets(case_num, '{}/{}.png'.format(plot_path, case_num))"
   ]
  },
  {
   "cell_type": "code",
   "execution_count": null,
   "id": "cbb8321e",
   "metadata": {},
   "outputs": [],
   "source": [
    "mets_cases = sorted([f.split('/')[-1] for f in glob('{}/test/Mets*'.format(base_path))])\n",
    "\n",
    "for case_num in tqdm(mets_cases, total=len(mets_cases)):\n",
    "    process_mets_case(case_num, train=False)"
   ]
  },
  {
   "cell_type": "code",
   "execution_count": null,
   "id": "f1fa47d3",
   "metadata": {},
   "outputs": [],
   "source": [
    "data1 = nib.load('/mnt/datasets/srivathsa/sford_mets/nifti/train/Mets_030/1_AX_T1_SE_pre.nii.gz').get_fdata()\n",
    "data2 = nib.load('/mnt/datasets/srivathsa/sford_mets/nifti/train/Mets_030/2_AX_T1_SE_post.nii.gz').get_fdata()\n",
    "data3 = nib.load('/mnt/datasets/srivathsa/sford_mets/nifti/train/Mets_030/3_AX_T1_GE_post.nii.gz').get_fdata()\n",
    "data4 = nib.load('/mnt/datasets/srivathsa/sford_mets/nifti/train/Mets_030/4_AX_T2_FLAIR_post.nii.gz').get_fdata()\n",
    "sl_idxs = np.load('/mnt/datasets/srivathsa/sford_mets/nifti/train/Mets_030/mets_slice_idx.npy')\n",
    "\n",
    "seg = nib.load('/mnt/datasets/srivathsa/sford_mets/nifti/train/Mets_030/mets_seg.nii.gz').get_fdata()\n",
    "print(sl_idxs)\n",
    "sl = sl_idxs[-5]\n",
    "# plt.imshow(np.hstack([data1[sl], data2[sl], data3[sl], data4[sl]]))\n",
    "img_ov = overlay_mask(data3[sl], seg[sl])\n",
    "plt.imshow(img_ov)"
   ]
  },
  {
   "cell_type": "code",
   "execution_count": null,
   "id": "c8a9a1ef",
   "metadata": {},
   "outputs": [],
   "source": []
  }
 ],
 "metadata": {
  "kernelspec": {
   "display_name": "Python (py35gad)",
   "language": "python",
   "name": "py35gad"
  },
  "language_info": {
   "codemirror_mode": {
    "name": "ipython",
    "version": 3
   },
   "file_extension": ".py",
   "mimetype": "text/x-python",
   "name": "python",
   "nbconvert_exporter": "python",
   "pygments_lexer": "ipython3",
   "version": "3.6.0"
  }
 },
 "nbformat": 4,
 "nbformat_minor": 5
}
