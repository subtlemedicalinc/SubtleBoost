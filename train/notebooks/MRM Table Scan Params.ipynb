{
 "cells": [
  {
   "cell_type": "code",
   "execution_count": 5,
   "metadata": {},
   "outputs": [
    {
     "name": "stdout",
     "output_type": "stream",
     "text": [
      "29\n"
     ]
    }
   ],
   "source": [
    "import pydicom\n",
    "from glob import glob\n",
    "import os\n",
    "import numpy as np\n",
    "\n",
    "src_dir = '/home/srivathsa/projects/studies/gad/gen_siemens/data'\n",
    "\n",
    "kw_inc = ['Prisma']\n",
    "kw_dcm = 'mprage'\n",
    "\n",
    "te_list = []\n",
    "tr_list = []\n",
    "fa_list = []\n",
    "acq_list = []\n",
    "\n",
    "for dirpath in glob('{}/*'.format(src_dir)):\n",
    "    if not os.path.isdir(dirpath):\n",
    "        continue\n",
    "    kw_not_found = False\n",
    "    for kw in kw_inc:\n",
    "        if kw not in dirpath:\n",
    "            kw_not_found = True\n",
    "            break\n",
    "    if kw_not_found:\n",
    "        continue\n",
    "    fpath_dcm = [fpath_dcm for fpath_dcm in glob('{}/**/*.dcm'.format(dirpath), recursive=True) if kw_dcm in fpath_dcm]\n",
    "    if len(fpath_dcm) == 0:\n",
    "        continue\n",
    "    dcm_meta = pydicom.dcmread(fpath_dcm[0])\n",
    "    \n",
    "    te_list.append(dcm_meta.EchoTime)\n",
    "    tr_list.append(dcm_meta.RepetitionTime)\n",
    "    fa_list.append(dcm_meta.FlipAngle)\n",
    "    acq_list.append(dcm_meta[0x0051, 0x100a].value)\n",
    "\n",
    "te_list = np.array(te_list)\n",
    "tr_list = np.array(tr_list)\n",
    "fa_list = np.array(fa_list)\n",
    "acq_list = np.array(acq_list)\n",
    "print(len(te_list))"
   ]
  },
  {
   "cell_type": "code",
   "execution_count": 7,
   "metadata": {},
   "outputs": [
    {
     "name": "stdout",
     "output_type": "stream",
     "text": [
      "1.65 1.65\n",
      "1560.0 1560.0\n",
      "8.0 8.0\n",
      "['TA 03:18' 'TA 03:18' 'TA 03:18' 'TA 03:17' 'TA 03:18' 'TA 03:17'\n",
      " 'TA 03:18' 'TA 03:18' 'TA 03:17' 'TA 03:18' 'TA 03:18' 'TA 03:18'\n",
      " 'TA 03:18' 'TA 03:18' 'TA 03:18' 'TA 03:18' 'TA 03:18' 'TA 03:18'\n",
      " 'TA 03:18' 'TA 03:18' 'TA 03:17' 'TA 03:18' 'TA 03:18' 'TA 03:18'\n",
      " 'TA 03:17' 'TA 03:17' 'TA 03:18' 'TA 03:18' 'TA 03:17']\n"
     ]
    }
   ],
   "source": [
    "print(te_list.min(), te_list.max())\n",
    "print(tr_list.min(), tr_list.max())\n",
    "print(fa_list.min(), fa_list.max())\n",
    "# print(acq_list.min(), acq_list.max())\n",
    "print(acq_list)"
   ]
  },
  {
   "cell_type": "code",
   "execution_count": null,
   "metadata": {},
   "outputs": [],
   "source": []
  }
 ],
 "metadata": {
  "kernelspec": {
   "display_name": "Python (py35gad)",
   "language": "python",
   "name": "py35gad"
  },
  "language_info": {
   "codemirror_mode": {
    "name": "ipython",
    "version": 3
   },
   "file_extension": ".py",
   "mimetype": "text/x-python",
   "name": "python",
   "nbconvert_exporter": "python",
   "pygments_lexer": "ipython3",
   "version": "3.6.1"
  }
 },
 "nbformat": 4,
 "nbformat_minor": 4
}
