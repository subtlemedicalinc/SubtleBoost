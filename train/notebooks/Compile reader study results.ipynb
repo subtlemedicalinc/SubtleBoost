{
 "cells": [
  {
   "cell_type": "code",
   "execution_count": 1,
   "metadata": {},
   "outputs": [],
   "source": [
    "import pandas as pd\n",
    "import numpy as np\n",
    "import json"
   ]
  },
  {
   "cell_type": "code",
   "execution_count": 2,
   "metadata": {},
   "outputs": [],
   "source": [
    "def cell_fn(cell_val):\n",
    "    return pd.Series([v.split('-')[0] for v in cell_val])\n",
    "\n",
    "drop_col_ids = np.arange(5, 32)\n",
    "\n",
    "scores_ramin = pd.read_csv('/home/srivathsa/projects/studies/gad/reader_study/mrm_reader1.csv')\n",
    "scores_ramin.drop(scores_ramin.columns[drop_col_ids], axis=1, inplace=True)\n",
    "scores_ramin = scores_ramin.apply(cell_fn, axis=1)\n",
    "scores_ramin.columns = ['case', 'tumor_cateogry', 'iq_score', 'qc_score', 'vessel']\n",
    "\n",
    "scores_greg = pd.read_csv('/home/srivathsa/projects/studies/gad/reader_study/mrm_reader2.csv')\n",
    "scores_greg.drop(scores_greg.columns[drop_col_ids], axis=1, inplace=True)\n",
    "scores_greg = scores_greg.apply(cell_fn, axis=1)\n",
    "scores_greg.columns = ['case', 'tumor_cateogry', 'iq_score', 'qc_score', 'vessel']"
   ]
  },
  {
   "cell_type": "code",
   "execution_count": 6,
   "metadata": {},
   "outputs": [],
   "source": [
    "dict_cmap = json.loads(open('/home/srivathsa/projects/studies/gad/reader_study/case_map.json', 'r').read())"
   ]
  },
  {
   "cell_type": "code",
   "execution_count": 7,
   "metadata": {},
   "outputs": [],
   "source": [
    "case_pairs = []\n",
    "\n",
    "for case_dict in dict_cmap:\n",
    "    if 'SubtleGad' in case_dict['Patient ID']:\n",
    "        continue\n",
    "    pair_obj = {\n",
    "        'patient_id': case_dict['Patient ID'],\n",
    "        'gt_case': case_dict['Case Number']\n",
    "    }\n",
    "    \n",
    "    gad_obj = [\n",
    "        d for d in dict_cmap \n",
    "        if 'SubtleGad' in d['Patient ID'] and d['Patient ID'].replace('SubtleGad:', '') == case_dict['Patient ID']\n",
    "    ][0]\n",
    "    pair_obj['gad_case'] = gad_obj['Case Number']\n",
    "    case_pairs.append(pair_obj)"
   ]
  },
  {
   "cell_type": "code",
   "execution_count": 8,
   "metadata": {},
   "outputs": [
    {
     "name": "stdout",
     "output_type": "stream",
     "text": [
      "{'patient_id': 'Patient_0157', 'gt_case': 'Case0005', 'gad_case': 'Case0080'}\n",
      "2 1\n",
      "{'patient_id': 'Prisma3', 'gt_case': 'Case0009', 'gad_case': 'Case0021'}\n",
      "1 2\n",
      "{'patient_id': 'Patient_0486', 'gt_case': 'Case0018', 'gad_case': 'Case0051'}\n",
      "1 2\n",
      "{'patient_id': 'NO130', 'gt_case': 'Case0037', 'gad_case': 'Case0057'}\n",
      "0 1\n",
      "{'patient_id': 'Patient_0333', 'gt_case': 'Case0060', 'gad_case': 'Case0085'}\n",
      "1 2\n",
      "{'patient_id': 'Patient_0535', 'gt_case': 'Case0062', 'gad_case': 'Case0049'}\n",
      "0 1\n",
      "{'patient_id': 'NO71', 'gt_case': 'Case0072', 'gad_case': 'Case0063'}\n",
      "1 0\n",
      "{'patient_id': 'NO26', 'gt_case': 'Case0098', 'gad_case': 'Case0020'}\n",
      "1 0\n",
      "{'patient_id': 'NO6', 'gt_case': 'Case0099', 'gad_case': 'Case0030'}\n",
      "1 2\n"
     ]
    }
   ],
   "source": [
    "df_ref = scores_ramin\n",
    "\n",
    "for pair_dict in case_pairs:\n",
    "    gt_row = df_ref.loc[df_ref['case'] == pair_dict['gt_case']].values[0]\n",
    "    gt_tumor_class = int(gt_row[1])\n",
    "    \n",
    "    gad_row = df_ref.loc[df_ref['case'] == pair_dict['gad_case']].values[0]\n",
    "    gad_tumor_class = int(gad_row[1])\n",
    "    \n",
    "    if gt_tumor_class != gad_tumor_class:\n",
    "        print(pair_dict)\n",
    "        print(gt_tumor_class, gad_tumor_class)\n",
    "    \n",
    "    "
   ]
  },
  {
   "cell_type": "code",
   "execution_count": 33,
   "metadata": {},
   "outputs": [
    {
     "name": "stdout",
     "output_type": "stream",
     "text": [
      "4 2 {'patient_id': 'Patient_0157', 'gt_case': 'Case0005', 'gad_case': 'Case0080'}\n",
      "4 2 {'patient_id': 'Patient_0486', 'gt_case': 'Case0018', 'gad_case': 'Case0051'}\n",
      "3 2 {'patient_id': 'Patient_0178', 'gt_case': 'Case0022', 'gad_case': 'Case0033'}\n",
      "2 5 {'patient_id': 'NO67', 'gt_case': 'Case0023', 'gad_case': 'Case0086'}\n",
      "3 1 {'patient_id': 'NO130', 'gt_case': 'Case0037', 'gad_case': 'Case0057'}\n",
      "5 2 {'patient_id': 'Prisma1', 'gt_case': 'Case0041', 'gad_case': 'Case0074'}\n",
      "5 4 {'patient_id': 'Prisma9', 'gt_case': 'Case0052', 'gad_case': 'Case0042'}\n",
      "5 2 {'patient_id': 'Prisma22', 'gt_case': 'Case0053', 'gad_case': 'Case0031'}\n",
      "4 5 {'patient_id': 'NO120', 'gt_case': 'Case0055', 'gad_case': 'Case0003'}\n",
      "3 4 {'patient_id': 'Patient_0400', 'gt_case': 'Case0058', 'gad_case': 'Case0071'}\n",
      "3 5 {'patient_id': 'Patient_0172', 'gt_case': 'Case0059', 'gad_case': 'Case0076'}\n",
      "3 4 {'patient_id': 'Patient_0087', 'gt_case': 'Case0061', 'gad_case': 'Case0010'}\n",
      "2 5 {'patient_id': 'Patient_0535', 'gt_case': 'Case0062', 'gad_case': 'Case0049'}\n",
      "2 4 {'patient_id': 'Patient_0342', 'gt_case': 'Case0069', 'gad_case': 'Case0026'}\n",
      "5 4 {'patient_id': 'NO71', 'gt_case': 'Case0072', 'gad_case': 'Case0063'}\n",
      "5 4 {'patient_id': 'Patient_0134', 'gt_case': 'Case0081', 'gad_case': 'Case0013'}\n",
      "1 2 {'patient_id': 'Patient_0173', 'gt_case': 'Case0091', 'gad_case': 'Case0040'}\n",
      "3 2 {'patient_id': 'Patient_0255', 'gt_case': 'Case0092', 'gad_case': 'Case0066'}\n",
      "4 5 {'patient_id': 'Prisma21', 'gt_case': 'Case0094', 'gad_case': 'Case0064'}\n",
      "2 4 {'patient_id': 'NO108', 'gt_case': 'Case0096', 'gad_case': 'Case0032'}\n",
      "3 5 {'patient_id': 'NO26', 'gt_case': 'Case0098', 'gad_case': 'Case0020'}\n"
     ]
    }
   ],
   "source": [
    "df_ref = scores_ramin\n",
    "miscount = 0\n",
    "\n",
    "for pair_dict in case_pairs:\n",
    "    gt_row = df_ref.loc[df_ref['case'] == pair_dict['gt_case']].values[0]\n",
    "    gt_vess = int(gt_row[4])\n",
    "    \n",
    "    gad_row = df_ref.loc[df_ref['case'] == pair_dict['gad_case']].values[0]\n",
    "    gad_vess = int(gad_row[4])\n",
    "    \n",
    "    if gt_vess != gad_vess:\n",
    "        print(gt_vess, gad_vess, pair_dict)\n",
    "    \n",
    "    a = int(gad_row[2])\n",
    "    b = int(gad_row[4])\n",
    "    if a == b or abs(a-b) ==1:\n",
    "        miscount += 1"
   ]
  },
  {
   "cell_type": "code",
   "execution_count": 17,
   "metadata": {},
   "outputs": [],
   "source": [
    "df_ref = scores_greg\n",
    "eq_count = 0\n",
    "grt_count = 0\n",
    "less_count = 0\n",
    "\n",
    "dict_iq = {}\n",
    "\n",
    "for pair_dict in case_pairs:\n",
    "    gt_row = df_ref.loc[df_ref['case'] == pair_dict['gt_case']].values[0]\n",
    "    gt_iq = int(gt_row[2])\n",
    "    \n",
    "    gad_row = df_ref.loc[df_ref['case'] == pair_dict['gad_case']].values[0]\n",
    "    gad_iq = int(gad_row[2])\n",
    "    \n",
    "    if gt_iq == gad_iq:\n",
    "        eq_count += 1\n",
    "    if gad_iq > gt_iq:\n",
    "        grt_count += 1\n",
    "    if gad_iq < gt_iq:\n",
    "#         print(gad_iq, gt_iq)\n",
    "        less_count += 1\n",
    "    \n",
    "    if gad_iq in dict_iq:\n",
    "        dict_iq[gad_iq] += 1\n",
    "    else:\n",
    "        dict_iq[gad_iq] = 1"
   ]
  },
  {
   "cell_type": "code",
   "execution_count": 18,
   "metadata": {},
   "outputs": [
    {
     "data": {
      "text/plain": [
       "{5: 11, 3: 11, 2: 2, 4: 24, 1: 2}"
      ]
     },
     "execution_count": 18,
     "metadata": {},
     "output_type": "execute_result"
    }
   ],
   "source": [
    "dict_iq"
   ]
  },
  {
   "cell_type": "code",
   "execution_count": 21,
   "metadata": {},
   "outputs": [],
   "source": [
    "uniq_cases = []\n",
    "for index, row in scores_ramin.iterrows():\n",
    "    tumor_score = int(row.values[1])\n",
    "    greg_row = scores_greg.loc[scores_greg['case'] == row.values[0]].values[0]\n",
    "    tumor_score_greg = int(greg_row[1])\n",
    "    case = [d for d in dict_cmap if d['Case Number'] == row.values[0]][0]\n",
    "    if tumor_score == tumor_score_greg and tumor_score == 1:\n",
    "#         print(row.values[0], case['Patient ID'])\n",
    "        uniq_cases.append(case['Patient ID'].replace('SubtleGad:', ''))\n",
    "# sorted(set(uniq_cases))"
   ]
  },
  {
   "cell_type": "code",
   "execution_count": 33,
   "metadata": {},
   "outputs": [
    {
     "name": "stdout",
     "output_type": "stream",
     "text": [
      "NO108,1,1,1,1\n",
      "NO113,1,1,1,1\n",
      "NO120,1,1,1,1\n",
      "NO129,1,1,1,1\n",
      "NO18,1,1,1,1\n",
      "NO26,1,1,0,0\n",
      "NO54,1,1,1,1\n",
      "NO56,1,1,1,1\n",
      "NO6,2,2,2,2\n",
      "NO67,1,1,1,1\n",
      "NO71,1,1,1,0\n",
      "NO79,1,1,1,1\n",
      "Patient_0087,1,1,1,1\n",
      "Patient_0090,1,1,1,1\n",
      "Patient_0134,1,1,1,1\n",
      "Patient_0172,1,1,1,1\n",
      "Patient_0173,1,1,1,1\n",
      "Patient_0255,1,1,1,1\n",
      "Patient_0333,1,1,1,2\n",
      "Patient_0342,1,1,1,1\n",
      "Patient_0353,1,1,0,1\n",
      "Patient_0408,1,1,1,1\n",
      "Patient_0486,1,1,1,2\n",
      "Patient_0526,1,1,1,1\n",
      "Patient_0535,0,0,1,1\n",
      "Prisma3,1,1,2,2\n",
      "Prisma4,1,1,1,1\n",
      "Prisma6,1,1,1,1\n",
      "Prisma9,1,1,1,1\n"
     ]
    }
   ],
   "source": [
    "cases = ['NO108','NO113','NO120','NO129','NO18','NO26','NO54','NO56','NO6','NO67','NO71',\n",
    "         'NO79','Patient_0087','Patient_0090','Patient_0134','Patient_0172','Patient_0173',\n",
    "         'Patient_0255','Patient_0333','Patient_0342','Patient_0353','Patient_0408','Patient_0486',\n",
    "         'Patient_0526','Patient_0535','Prisma3','Prisma4','Prisma6','Prisma9']\n",
    "\n",
    "for case in cases:\n",
    "    case_rows = [d for d in dict_cmap if case in d['Patient ID']]\n",
    "    gad_case = case_rows[0] if 'SubtleGad:' in case_rows[0]['Patient ID'] else case_rows[1]\n",
    "    gt_case = case_rows[1] if 'SubtleGad:' in case_rows[0]['Patient ID'] else case_rows[0]\n",
    "    \n",
    "    greg_gt_score = scores_greg[scores_greg['case'] == gt_case['Case Number']].values[0][1]\n",
    "    greg_gad_score = scores_greg[scores_greg['case'] == gad_case['Case Number']].values[0][1]\n",
    "    \n",
    "    ramin_gt_score = scores_ramin[scores_ramin['case'] == gt_case['Case Number']].values[0][1]\n",
    "    ramin_gad_score = scores_ramin[scores_ramin['case'] == gad_case['Case Number']].values[0][1]\n",
    "    \n",
    "    print('{},{},{},{},{}'.format(case, greg_gt_score, ramin_gt_score, greg_gad_score, ramin_gad_score))"
   ]
  },
  {
   "cell_type": "code",
   "execution_count": null,
   "metadata": {},
   "outputs": [],
   "source": []
  }
 ],
 "metadata": {
  "kernelspec": {
   "display_name": "Python (py35gad)",
   "language": "python",
   "name": "py35gad"
  },
  "language_info": {
   "codemirror_mode": {
    "name": "ipython",
    "version": 3
   },
   "file_extension": ".py",
   "mimetype": "text/x-python",
   "name": "python",
   "nbconvert_exporter": "python",
   "pygments_lexer": "ipython3",
   "version": "3.6.1"
  }
 },
 "nbformat": 4,
 "nbformat_minor": 4
}
