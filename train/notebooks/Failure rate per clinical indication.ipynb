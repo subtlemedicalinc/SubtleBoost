{
 "cells": [
  {
   "cell_type": "code",
   "execution_count": 13,
   "id": "a0eb9d79",
   "metadata": {},
   "outputs": [],
   "source": [
    "import pandas as pd\n",
    "import numpy as np\n",
    "\n",
    "import subtle.utils.io as suio\n",
    "import subtle.utils.experiment as su_exp"
   ]
  },
  {
   "cell_type": "code",
   "execution_count": 14,
   "id": "902a8206",
   "metadata": {},
   "outputs": [],
   "source": [
    "train_cases = su_exp.get_experiment_data(\n",
    "    'super_model', dirpath_exp='/home/srivathsa/projects/SubtleGad/train/configs/experiments', dataset='train'\n",
    ")\n",
    "train_cases = [c for c in train_cases if 'Patient' in c]"
   ]
  },
  {
   "cell_type": "code",
   "execution_count": 64,
   "id": "06a80a9a",
   "metadata": {},
   "outputs": [],
   "source": [
    "df_indications = pd.read_csv('/home/srivathsa/projects/studies/gad/failure_review/stanford_clinical_indications.csv')\n",
    "df_indications = df_indications[~df_indications['Case ID'].isin(train_cases)]\n",
    "\n",
    "indic_map = pd.read_csv('/home/srivathsa/projects/studies/gad/failure_review/stanford_indication_map.csv')\n",
    "\n",
    "df_mapped = []\n",
    "for _, df_row in df_indications.iterrows():\n",
    "    df_obj = {\n",
    "        'case': df_row['Case ID']\n",
    "    }\n",
    "    df_indic_row = indic_map[indic_map['Indication'] == df_row['Indication']].to_dict()\n",
    "    indic_kw = list(df_indic_row['Keyword'].values())[0]\n",
    "    df_obj['keyword'] = indic_kw\n",
    "    df_mapped.append(df_obj)"
   ]
  },
  {
   "cell_type": "code",
   "execution_count": 68,
   "id": "2fa69510",
   "metadata": {},
   "outputs": [
    {
     "name": "stdout",
     "output_type": "stream",
     "text": [
      "Patient_0138 gbm\n",
      "Patient_0170 resection\n",
      "Patient_0235 gbm\n",
      "Patient_0378 gbm\n",
      "Patient_0399 clipper\n",
      "Patient_0533 gbm\n",
      "Patient_0183 surveillance\n",
      "Patient_0194 gbm\n",
      "Patient_0162 glioma\n",
      "Patient_0285 gbm\n",
      "Patient_0253 tumor\n"
     ]
    }
   ],
   "source": [
    "failure_cases = [\"Patient_0138\", \"Patient_0170\", \"Patient_0235\", \"Patient_0378\", \"Patient_0399\", \n",
    "                 \"Patient_0533\", \"Patient_0183\", \"Patient_0194\", \"Patient_0162\", \"Patient_0285\", \n",
    "                 \"Patient_0253\"]\n",
    "\n",
    "for fcase in failure_cases:\n",
    "    map_row = [r for r in df_mapped if r['case'] == fcase][0]\n",
    "    print(fcase, map_row['keyword'])"
   ]
  },
  {
   "cell_type": "code",
   "execution_count": 75,
   "id": "691d4910",
   "metadata": {},
   "outputs": [
    {
     "name": "stdout",
     "output_type": "stream",
     "text": [
      "26\n"
     ]
    }
   ],
   "source": [
    "kw = 'tumor'\n",
    "kw_count = len([r for r in df_mapped if r['keyword'] == kw])\n",
    "print(kw_count)"
   ]
  },
  {
   "cell_type": "code",
   "execution_count": null,
   "id": "1a738ea9",
   "metadata": {},
   "outputs": [],
   "source": []
  }
 ],
 "metadata": {
  "kernelspec": {
   "display_name": "Python (py35gad)",
   "language": "python",
   "name": "py35gad"
  },
  "language_info": {
   "codemirror_mode": {
    "name": "ipython",
    "version": 3
   },
   "file_extension": ".py",
   "mimetype": "text/x-python",
   "name": "python",
   "nbconvert_exporter": "python",
   "pygments_lexer": "ipython3",
   "version": "3.6.0"
  }
 },
 "nbformat": 4,
 "nbformat_minor": 5
}
