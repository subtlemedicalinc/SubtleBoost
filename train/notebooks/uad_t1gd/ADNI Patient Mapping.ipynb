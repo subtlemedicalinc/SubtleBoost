{
 "cells": [
  {
   "cell_type": "code",
   "execution_count": 7,
   "id": "539896b2",
   "metadata": {},
   "outputs": [],
   "source": [
    "from glob import glob\n",
    "import os\n",
    "import pandas as pd\n",
    "\n",
    "def get_unique_pids(dirpath):\n",
    "    pids = sorted([get_patient_id(f) for f in glob('{}/*.nii.gz'.format(dirpath))])\n",
    "    pids = sorted(list(set(pids)))\n",
    "    return pids\n",
    "\n",
    "\n",
    "def get_patient_id(fpath):\n",
    "    fname = fpath.split('/')[-1].replace('.nii.gz', '')\n",
    "    pid = '_'.join(fname.split('_')[:-1])\n",
    "    return pid\n",
    "    \n",
    "\n",
    "t2_pids = get_unique_pids('/mnt/datasets/srivathsa/ADNI/full_brain')\n",
    "fl_pids = get_unique_pids('/mnt/datasets/srivathsa/ADNI_FLAIR/full_brain')\n",
    "all_pids = [pid for pid in fl_pids if pid in t2_pids]"
   ]
  },
  {
   "cell_type": "code",
   "execution_count": 18,
   "id": "021502ce",
   "metadata": {},
   "outputs": [
    {
     "name": "stdout",
     "output_type": "stream",
     "text": [
      "21\n"
     ]
    }
   ],
   "source": [
    "print(len(all_pids))"
   ]
  },
  {
   "cell_type": "code",
   "execution_count": 8,
   "id": "b50b1c27",
   "metadata": {},
   "outputs": [],
   "source": [
    "df_adni = pd.read_csv('adni_cn.csv')"
   ]
  },
  {
   "cell_type": "code",
   "execution_count": 14,
   "id": "26d9a382",
   "metadata": {},
   "outputs": [],
   "source": [
    "dict_adni = df_adni.to_dict(orient='records')\n",
    "\n",
    "subj_map = {}\n",
    "\n",
    "for drow in dict_adni:\n",
    "    if drow['Subject ID'] not in subj_map:\n",
    "        subj_map[drow['Subject ID']] = {\n",
    "            'age': drow['Age'],\n",
    "            'sex': drow['Sex'],\n",
    "            'series_list': [drow['Description']]\n",
    "        }\n",
    "    else:\n",
    "        subj_map[drow['Subject ID']]['series_list'].append(drow['Description'])\n",
    "\n",
    "for k, v in subj_map.items():\n",
    "    subj_map[k]['series_list'] = list(set(subj_map[k]['series_list']))"
   ]
  },
  {
   "cell_type": "code",
   "execution_count": 20,
   "id": "ca6d810a",
   "metadata": {},
   "outputs": [
    {
     "name": "stdout",
     "output_type": "stream",
     "text": [
      "37\n"
     ]
    }
   ],
   "source": [
    "filt_cases = []\n",
    "\n",
    "for k, v in subj_map.items():\n",
    "    has_mprage = len([s for s in v['series_list'] if 'mprage' in s.lower().replace('-', '')]) > 0\n",
    "    has_t2 = len([s for s in v['series_list'] if 't2 fse' in s.lower()]) > 0\n",
    "    has_fl = len([s for s in v['series_list'] if '3d flair' in s.lower()]) > 0\n",
    "    \n",
    "    if has_t2 and has_fl:\n",
    "        filt_cases.append(k)\n",
    "\n",
    "print(len(filt_cases))"
   ]
  },
  {
   "cell_type": "code",
   "execution_count": null,
   "id": "87ed8746",
   "metadata": {},
   "outputs": [],
   "source": []
  }
 ],
 "metadata": {
  "kernelspec": {
   "display_name": "Python (py35gad)",
   "language": "python",
   "name": "py35gad"
  },
  "language_info": {
   "codemirror_mode": {
    "name": "ipython",
    "version": 3
   },
   "file_extension": ".py",
   "mimetype": "text/x-python",
   "name": "python",
   "nbconvert_exporter": "python",
   "pygments_lexer": "ipython3",
   "version": "3.6.0"
  }
 },
 "nbformat": 4,
 "nbformat_minor": 5
}
