{
 "cells": [
  {
   "cell_type": "code",
   "execution_count": 2,
   "metadata": {},
   "outputs": [
    {
     "name": "stderr",
     "output_type": "stream",
     "text": [
      "/home/srivathsa/projects/SubtleGad/train/subtle/utils/hyperparameter.py:8: UserWarning: Module test_tube not found - hyperparameter related functions cannot be used\n",
      "  warnings.warn('Module test_tube not found - hyperparameter related functions cannot be used')\n"
     ]
    },
    {
     "data": {
      "text/plain": [
       "<Figure size 432x288 with 0 Axes>"
      ]
     },
     "metadata": {},
     "output_type": "display_data"
    }
   ],
   "source": [
    "import pandas as pd\n",
    "import os\n",
    "import numpy as np\n",
    "\n",
    "import matplotlib.pyplot as plt\n",
    "plt.set_cmap('gray')\n",
    "plt.rcParams['figure.figsize'] = (15, 15)\n",
    "\n",
    "from tqdm import tqdm_notebook as tqdm\n",
    "import subtle.utils.io as suio\n",
    "import subtle.subtle_preprocess as supre\n",
    "from scipy.misc import imresize"
   ]
  },
  {
   "cell_type": "code",
   "execution_count": 3,
   "metadata": {},
   "outputs": [
    {
     "name": "stderr",
     "output_type": "stream",
     "text": [
      "/home/srivathsa/miniconda3/envs/py35gad/lib/python3.6/site-packages/ipykernel_launcher.py:5: TqdmDeprecationWarning: This function will be removed in tqdm==5.0.0\n",
      "Please use `tqdm.notebook.tqdm` instead of `tqdm.tqdm_notebook`\n",
      "  \"\"\"\n"
     ]
    },
    {
     "data": {
      "application/vnd.jupyter.widget-view+json": {
       "model_id": "b2539a76aa304fa98aa43acc183439de",
       "version_major": 2,
       "version_minor": 0
      },
      "text/plain": [
       "  0%|          | 0/42 [00:00<?, ?it/s]"
      ]
     },
     "metadata": {},
     "output_type": "display_data"
    },
    {
     "name": "stderr",
     "output_type": "stream",
     "text": [
      "/home/srivathsa/miniconda3/envs/py35gad/lib/python3.6/site-packages/ipykernel_launcher.py:53: DeprecationWarning: `imresize` is deprecated!\n",
      "`imresize` is deprecated in SciPy 1.0.0, and will be removed in 1.2.0.\n",
      "Use ``skimage.transform.resize`` instead.\n"
     ]
    },
    {
     "data": {
      "text/plain": [
       "<Figure size 1080x1080 with 0 Axes>"
      ]
     },
     "metadata": {},
     "output_type": "display_data"
    }
   ],
   "source": [
    "df_failure = pd.read_csv('/home/srivathsa/projects/studies/gad/failure_review/failure_mode.csv')\n",
    "fig_path = '/home/srivathsa/projects/studies/gad/failure_review/plots'\n",
    "dict_rows = []\n",
    "\n",
    "for idx, df_row in tqdm(df_failure.iterrows(), total=len(df_failure.index)):\n",
    "    inf_path = df_row['Inference Path']\n",
    "    inf_id = inf_path.split('/')[-1]\n",
    "    \n",
    "    pp_path = inf_path.replace('/{}'.format(inf_id), '').replace('data', 'preprocess/data')\n",
    "    pp_path = '{}/{}.h5'.format(pp_path, df_row['Case'])\n",
    "    \n",
    "    if not os.path.exists(pp_path):\n",
    "        pp_path = pp_path.replace('h5', 'npy')\n",
    "    \n",
    "    imgs = suio.load_file(pp_path)\n",
    "    if imgs.ndim == 5:\n",
    "        imgs = imgs[0]\n",
    "    \n",
    "    imgs = imgs.transpose(1, 0, 2, 3)\n",
    "    \n",
    "    pre, low, full = imgs[:3]\n",
    "    \n",
    "    inf_path = '{}/{}/{}_SubtleGad'.format(inf_path, df_row['Case'], df_row['Case'])\n",
    "\n",
    "    gad, _ = suio.dicom_files(inf_path)\n",
    "    gad = np.interp(gad, (gad.min(), gad.max()), (full.min(), full.max()))\n",
    "    \n",
    "    if 'Prisma' in df_row['Case']:\n",
    "        gad = supre.zero_pad(gad, target_size=256)\n",
    "    \n",
    "    sl_info = df_row['Slice']\n",
    "    if str(sl_info) != 'nan':\n",
    "        if ',' in sl_info:\n",
    "            sl_info = sl_info.split(', ')[-1]\n",
    "        orient, sl_idx = sl_info.split(' ')\n",
    "        sl_idx = int(sl_idx)\n",
    "    else:\n",
    "        orient = ''\n",
    "        sl_idx = pre.shape[0] // 2\n",
    "    \n",
    "    if ('NO' in df_row['Case'] or 'Prisma' in df_row['Case']) and orient == 'AX':\n",
    "        p_sl = np.rot90(pre[:, sl_idx], k=3)\n",
    "        l_sl = np.rot90(low[:, sl_idx], k=3)\n",
    "        f_sl = np.rot90(full[:, sl_idx], k=3)\n",
    "        g_sl = np.rot90(gad[:, sl_idx], k=3)\n",
    "    else:\n",
    "        p_sl = pre[sl_idx]\n",
    "        l_sl = low[sl_idx]\n",
    "        f_sl = full[sl_idx]\n",
    "        g_sl = gad[sl_idx]\n",
    "    \n",
    "    if f_sl.shape[0] != g_sl.shape[0]:\n",
    "        g_sl = imresize(g_sl, (f_sl.shape[0], f_sl.shape[1]))\n",
    "    \n",
    "    g_sl = np.interp(g_sl, (g_sl.min(), g_sl.max()), (f_sl.min(), f_sl.max()))\n",
    "    row1 = np.hstack([p_sl, l_sl])\n",
    "    row2 = np.hstack([f_sl, g_sl])\n",
    "    row3 = np.hstack([np.abs(l_sl-p_sl), np.abs(f_sl-p_sl)])\n",
    "    disp = np.vstack([row1, row2, row3])\n",
    "    \n",
    "    mode = 'F' if df_row['Status'] == 'Failure' else 'PS'\n",
    "    plt.imshow(disp)\n",
    "    plt.axis('off')\n",
    "    plt.savefig('{}/{}_{}.png'.format(fig_path, df_row['Case'], mode))\n",
    "    plt.clf()"
   ]
  },
  {
   "cell_type": "code",
   "execution_count": null,
   "metadata": {},
   "outputs": [],
   "source": []
  }
 ],
 "metadata": {
  "kernelspec": {
   "display_name": "Python (py35gad)",
   "language": "python",
   "name": "py35gad"
  },
  "language_info": {
   "codemirror_mode": {
    "name": "ipython",
    "version": 3
   },
   "file_extension": ".py",
   "mimetype": "text/x-python",
   "name": "python",
   "nbconvert_exporter": "python",
   "pygments_lexer": "ipython3",
   "version": "3.6.0"
  }
 },
 "nbformat": 4,
 "nbformat_minor": 4
}
