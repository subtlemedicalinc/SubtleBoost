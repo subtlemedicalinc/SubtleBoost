{
 "cells": [
  {
   "cell_type": "code",
   "execution_count": 1,
   "id": "c9ff1f0b",
   "metadata": {},
   "outputs": [
    {
     "name": "stderr",
     "output_type": "stream",
     "text": [
      "/home/srivathsa/miniconda3/envs/mmt/lib/python3.9/site-packages/scipy/__init__.py:146: UserWarning: A NumPy version >=1.16.5 and <1.23.0 is required for this version of SciPy (detected version 1.24.1\n",
      "  warnings.warn(f\"A NumPy version >={np_minversion} and <{np_maxversion}\"\n",
      "/home/srivathsa/projects/SubtleGad/train/subtle/utils/hyperparameter.py:8: UserWarning: Module test_tube not found - hyperparameter related functions cannot be used\n",
      "  warnings.warn('Module test_tube not found - hyperparameter related functions cannot be used')\n"
     ]
    },
    {
     "data": {
      "text/plain": [
       "<Figure size 432x288 with 0 Axes>"
      ]
     },
     "metadata": {},
     "output_type": "display_data"
    }
   ],
   "source": [
    "import sys\n",
    "import os\n",
    "import logging\n",
    "import six\n",
    "from radiomics import featureextractor, getFeatureClasses\n",
    "import radiomics\n",
    "import nrrd\n",
    "import numpy as np\n",
    "from glob import glob\n",
    "from tqdm import tqdm_notebook as tqdm\n",
    "import pandas as pd\n",
    "from subtle.subtle_preprocess import scale_im as hist_match, register_im\n",
    "\n",
    "import matplotlib.pyplot as plt\n",
    "plt.set_cmap('gray')\n",
    "plt.rcParams['figure.figsize'] = (12, 10)\n",
    "\n",
    "import SimpleITK as sitk\n",
    "\n",
    "def combine_seg_classes(fpath_seg):\n",
    "    seg_sitk = sitk.ReadImage(fpath_seg)\n",
    "    seg = (sitk.GetArrayFromImage(seg_sitk) > 0).astype(np.uint8)\n",
    "    seg_sitk_new = sitk.GetImageFromArray(seg)\n",
    "    seg_sitk_new.CopyInformation(seg_sitk)\n",
    "    return seg_sitk_new\n",
    "\n",
    "def get_feature_values(df_radiomics, cls, feature):\n",
    "    df_filt = df_radiomics.query(f'Class == \"{cls}\" and Feature == \"{feature}\"')\n",
    "    \n",
    "    dict_vals = df_filt.to_dict(orient='records')\n",
    "    gt_vals = np.array([row['Value'] for row in dict_vals if row['Image'] == 'GT'])\n",
    "    syn_vals = np.array([row['Value'] for row in dict_vals if row['Image'] == 'Syn'])\n",
    "    \n",
    "    return gt_vals, syn_vals\n",
    "\n",
    "def ccc(x, y):\n",
    "    ''' Concordance Correlation Coefficient'''\n",
    "    sxy = np.sum((x - x.mean())*(y - y.mean()))/x.shape[0]\n",
    "    rhoc = 2*sxy / (np.var(x) + np.var(y) + (x.mean() - y.mean())**2)\n",
    "    return rhoc\n",
    "\n",
    "def pcc(x, y):\n",
    "    ''' Pearson Correlation Coefficient'''\n",
    "    sxy = np.sum((x - x.mean())*(y - y.mean()))/x.shape[0]\n",
    "    rho = sxy / (np.std(x)*np.std(y))\n",
    "    return rho\n",
    "\n",
    "def dr(x, y):\n",
    "    max_k = np.max([np.max(x), np.max(y)])\n",
    "    min_k = np.min([np.min(x), np.min(y)])\n",
    "    \n",
    "    smn = np.mean([np.abs(x[i] - y[i]) / (max_k - min_k) for i in np.arange(x.shape[0])])\n",
    "    \n",
    "    return 1 - smn\n",
    "\n",
    "def norm_pixel_values(img_sitk, ref_sitk, register=False):\n",
    "    img = sitk.GetArrayFromImage(img_sitk).astype(np.float32)\n",
    "    img_ref = sitk.GetArrayFromImage(ref_sitk).astype(np.float32)\n",
    "    \n",
    "    img = hist_match(img_ref, img)\n",
    "    \n",
    "    if register:\n",
    "        pmap = sitk.GetDefaultParameterMap('affine')\n",
    "        img_sitk_new, _ = register_im(\n",
    "            img_ref, img, ref_fixed=ref_sitk, ref_moving=img_sitk, return_sitk_img=True, param_map=pmap\n",
    "        )\n",
    "        return img_sitk_new\n",
    "    \n",
    "    img_sitk_new = sitk.GetImageFromArray(img)\n",
    "    img_sitk_new.CopyInformation(img_sitk)\n",
    "    return img_sitk_new"
   ]
  },
  {
   "cell_type": "code",
   "execution_count": 5,
   "id": "34fa09c0",
   "metadata": {},
   "outputs": [],
   "source": [
    "extractor = featureextractor.RadiomicsFeatureExtractor('Params-generic.yaml')\n",
    "ftr_classes = ['shape', 'firstorder', 'glcm', 'glrlm', 'glszm', 'gldm', 'ngtdm']"
   ]
  },
  {
   "cell_type": "code",
   "execution_count": null,
   "id": "7867973e",
   "metadata": {
    "scrolled": true
   },
   "outputs": [],
   "source": [
    "dirpath_cases = '/home/srivathsa/projects/studies/gad/mmt_seg/seg/cases'\n",
    "dirpath_seg = '/home/srivathsa/projects/studies/gad/mmt_seg/seg/pred_mmt'\n",
    "\n",
    "ftr_list = []\n",
    "\n",
    "cases = sorted([d.split('/')[-1] for d in glob('{}/*'.format(dirpath_cases)) if 'syn' not in d])\n",
    "for cnum in tqdm(cases, total=len(cases)):\n",
    "    img = sitk.ReadImage(f'{dirpath_cases}/{cnum}/{cnum}_T1Gd.nii.gz')\n",
    "    img_syn = norm_pixel_values(\n",
    "        sitk.ReadImage(f'{dirpath_cases}/{cnum}_T1Gd_syn/{cnum}_T1Gd_syn_T1Gd.nii.gz'), img, register=True\n",
    "    )\n",
    "    seg = combine_seg_classes(f'{dirpath_seg}/{cnum}/{cnum}_seg.nii.gz')\n",
    "    seg_syn = combine_seg_classes(f'{dirpath_seg}/{cnum}_T1Gd_syn/{cnum}_T1Gd_syn_seg.nii.gz')\n",
    "    \n",
    "    ftr_gt = extractor.execute(img, seg)\n",
    "    ftr_syn = extractor.execute(img_syn, seg)\n",
    "    \n",
    "    for ftr_str in ftr_gt.keys():\n",
    "        kw, cls, ftr_name = ftr_str.split('_')\n",
    "        if cls not in ftr_classes: continue\n",
    "            \n",
    "        row_gt = {'Case': cnum, 'Image': 'GT'}\n",
    "        row_syn = {'Case': cnum, 'Image': 'Syn'}\n",
    "        \n",
    "        fv_gt = ftr_gt[ftr_str]\n",
    "        fv_syn = ftr_syn[ftr_str]\n",
    "        \n",
    "        row_gt['Class'] = cls\n",
    "        row_syn['Class'] = cls\n",
    "                \n",
    "        row_gt['Feature'] = ftr_name\n",
    "        row_syn['Feature'] = ftr_name\n",
    "        row_gt['Value'] = fv_gt\n",
    "        row_syn['Value'] = fv_syn\n",
    "        \n",
    "        ftr_list.append(row_gt)\n",
    "        ftr_list.append(row_syn)"
   ]
  },
  {
   "cell_type": "code",
   "execution_count": 6,
   "id": "3cdf371a",
   "metadata": {},
   "outputs": [],
   "source": [
    "df_radiomics = pd.DataFrame(ftr_list)\n",
    "df_radiomics.to_csv('/home/srivathsa/projects/studies/gad/mmt_seg/radiomics.csv')"
   ]
  },
  {
   "cell_type": "code",
   "execution_count": 31,
   "id": "499ccdf3",
   "metadata": {},
   "outputs": [
    {
     "data": {
      "text/plain": [
       "99"
      ]
     },
     "execution_count": 31,
     "metadata": {},
     "output_type": "execute_result"
    }
   ],
   "source": [
    "len(set(df_radiomics['Feature']))"
   ]
  },
  {
   "cell_type": "code",
   "execution_count": 25,
   "id": "71db5696",
   "metadata": {},
   "outputs": [],
   "source": [
    "csv_fname = 'radiomics'\n",
    "df_radiomics = pd.read_csv(f'/home/srivathsa/projects/studies/gad/mmt_seg/{csv_fname}.csv', index_col=0)\n",
    "ftr_cls_list = []\n",
    "\n",
    "for ftr_cls in ftr_classes:\n",
    "    ftr_names = list(set(df_radiomics.query(f'Class == \"{ftr_cls}\"')['Feature']))\n",
    "    ftr_cls_list.extend([(ftr_cls, fn) for fn in ftr_names])\n",
    "    \n",
    "corr_list = []\n",
    "for (cls, ftr) in ftr_cls_list:\n",
    "    x, y = get_feature_values(df_radiomics, cls=cls, feature=ftr)\n",
    "    corr_list.append({'Class': cls, 'Feature': ftr, 'CCC': ccc(x, y)})"
   ]
  },
  {
   "cell_type": "code",
   "execution_count": 27,
   "id": "a6b0e405",
   "metadata": {},
   "outputs": [
    {
     "data": {
      "text/html": [
       "<div>\n",
       "<style scoped>\n",
       "    .dataframe tbody tr th:only-of-type {\n",
       "        vertical-align: middle;\n",
       "    }\n",
       "\n",
       "    .dataframe tbody tr th {\n",
       "        vertical-align: top;\n",
       "    }\n",
       "\n",
       "    .dataframe thead tr th {\n",
       "        text-align: left;\n",
       "    }\n",
       "\n",
       "    .dataframe thead tr:last-of-type th {\n",
       "        text-align: right;\n",
       "    }\n",
       "</style>\n",
       "<table border=\"1\" class=\"dataframe\">\n",
       "  <thead>\n",
       "    <tr>\n",
       "      <th></th>\n",
       "      <th colspan=\"2\" halign=\"left\">CCC</th>\n",
       "    </tr>\n",
       "    <tr>\n",
       "      <th></th>\n",
       "      <th>mean</th>\n",
       "      <th>std</th>\n",
       "    </tr>\n",
       "    <tr>\n",
       "      <th>Class</th>\n",
       "      <th></th>\n",
       "      <th></th>\n",
       "    </tr>\n",
       "  </thead>\n",
       "  <tbody>\n",
       "    <tr>\n",
       "      <th>firstorder</th>\n",
       "      <td>0.803166</td>\n",
       "      <td>0.080497</td>\n",
       "    </tr>\n",
       "    <tr>\n",
       "      <th>glcm</th>\n",
       "      <td>0.733335</td>\n",
       "      <td>0.023584</td>\n",
       "    </tr>\n",
       "    <tr>\n",
       "      <th>gldm</th>\n",
       "      <td>0.846263</td>\n",
       "      <td>0.051079</td>\n",
       "    </tr>\n",
       "    <tr>\n",
       "      <th>glrlm</th>\n",
       "      <td>0.786603</td>\n",
       "      <td>0.066473</td>\n",
       "    </tr>\n",
       "    <tr>\n",
       "      <th>glszm</th>\n",
       "      <td>0.806873</td>\n",
       "      <td>0.059276</td>\n",
       "    </tr>\n",
       "    <tr>\n",
       "      <th>ngtdm</th>\n",
       "      <td>0.843695</td>\n",
       "      <td>0.112970</td>\n",
       "    </tr>\n",
       "    <tr>\n",
       "      <th>shape</th>\n",
       "      <td>1.000000</td>\n",
       "      <td>0.000000</td>\n",
       "    </tr>\n",
       "  </tbody>\n",
       "</table>\n",
       "</div>"
      ],
      "text/plain": [
       "                 CCC          \n",
       "                mean       std\n",
       "Class                         \n",
       "firstorder  0.803166  0.080497\n",
       "glcm        0.733335  0.023584\n",
       "gldm        0.846263  0.051079\n",
       "glrlm       0.786603  0.066473\n",
       "glszm       0.806873  0.059276\n",
       "ngtdm       0.843695  0.112970\n",
       "shape       1.000000  0.000000"
      ]
     },
     "execution_count": 27,
     "metadata": {},
     "output_type": "execute_result"
    }
   ],
   "source": [
    "df_corr = pd.DataFrame(corr_list)\n",
    "df_corr = df_corr.query('CCC > 0.7')\n",
    "df_corr.groupby(\"Class\").aggregate(['mean', 'std'])"
   ]
  },
  {
   "cell_type": "code",
   "execution_count": 28,
   "id": "36078592",
   "metadata": {},
   "outputs": [
    {
     "data": {
      "text/html": [
       "<div>\n",
       "<style scoped>\n",
       "    .dataframe tbody tr th:only-of-type {\n",
       "        vertical-align: middle;\n",
       "    }\n",
       "\n",
       "    .dataframe tbody tr th {\n",
       "        vertical-align: top;\n",
       "    }\n",
       "\n",
       "    .dataframe thead th {\n",
       "        text-align: right;\n",
       "    }\n",
       "</style>\n",
       "<table border=\"1\" class=\"dataframe\">\n",
       "  <thead>\n",
       "    <tr style=\"text-align: right;\">\n",
       "      <th></th>\n",
       "      <th>Class</th>\n",
       "      <th>Feature</th>\n",
       "      <th>CCC</th>\n",
       "    </tr>\n",
       "  </thead>\n",
       "  <tbody>\n",
       "    <tr>\n",
       "      <th>0</th>\n",
       "      <td>shape</td>\n",
       "      <td>Maximum2DDiameterColumn</td>\n",
       "      <td>1.0</td>\n",
       "    </tr>\n",
       "    <tr>\n",
       "      <th>1</th>\n",
       "      <td>shape</td>\n",
       "      <td>Maximum2DDiameterSlice</td>\n",
       "      <td>1.0</td>\n",
       "    </tr>\n",
       "    <tr>\n",
       "      <th>2</th>\n",
       "      <td>shape</td>\n",
       "      <td>Elongation</td>\n",
       "      <td>1.0</td>\n",
       "    </tr>\n",
       "    <tr>\n",
       "      <th>3</th>\n",
       "      <td>shape</td>\n",
       "      <td>SurfaceVolumeRatio</td>\n",
       "      <td>1.0</td>\n",
       "    </tr>\n",
       "    <tr>\n",
       "      <th>4</th>\n",
       "      <td>shape</td>\n",
       "      <td>MinorAxisLength</td>\n",
       "      <td>1.0</td>\n",
       "    </tr>\n",
       "    <tr>\n",
       "      <th>5</th>\n",
       "      <td>shape</td>\n",
       "      <td>LeastAxisLength</td>\n",
       "      <td>1.0</td>\n",
       "    </tr>\n",
       "    <tr>\n",
       "      <th>6</th>\n",
       "      <td>shape</td>\n",
       "      <td>MeshVolume</td>\n",
       "      <td>1.0</td>\n",
       "    </tr>\n",
       "    <tr>\n",
       "      <th>7</th>\n",
       "      <td>shape</td>\n",
       "      <td>VoxelVolume</td>\n",
       "      <td>1.0</td>\n",
       "    </tr>\n",
       "    <tr>\n",
       "      <th>8</th>\n",
       "      <td>shape</td>\n",
       "      <td>Maximum2DDiameterRow</td>\n",
       "      <td>1.0</td>\n",
       "    </tr>\n",
       "    <tr>\n",
       "      <th>9</th>\n",
       "      <td>shape</td>\n",
       "      <td>SurfaceArea</td>\n",
       "      <td>1.0</td>\n",
       "    </tr>\n",
       "    <tr>\n",
       "      <th>10</th>\n",
       "      <td>shape</td>\n",
       "      <td>Sphericity</td>\n",
       "      <td>1.0</td>\n",
       "    </tr>\n",
       "    <tr>\n",
       "      <th>11</th>\n",
       "      <td>shape</td>\n",
       "      <td>MajorAxisLength</td>\n",
       "      <td>1.0</td>\n",
       "    </tr>\n",
       "    <tr>\n",
       "      <th>12</th>\n",
       "      <td>shape</td>\n",
       "      <td>Flatness</td>\n",
       "      <td>1.0</td>\n",
       "    </tr>\n",
       "    <tr>\n",
       "      <th>13</th>\n",
       "      <td>shape</td>\n",
       "      <td>Maximum3DDiameter</td>\n",
       "      <td>1.0</td>\n",
       "    </tr>\n",
       "  </tbody>\n",
       "</table>\n",
       "</div>"
      ],
      "text/plain": [
       "    Class                  Feature  CCC\n",
       "0   shape  Maximum2DDiameterColumn  1.0\n",
       "1   shape   Maximum2DDiameterSlice  1.0\n",
       "2   shape               Elongation  1.0\n",
       "3   shape       SurfaceVolumeRatio  1.0\n",
       "4   shape          MinorAxisLength  1.0\n",
       "5   shape          LeastAxisLength  1.0\n",
       "6   shape               MeshVolume  1.0\n",
       "7   shape              VoxelVolume  1.0\n",
       "8   shape     Maximum2DDiameterRow  1.0\n",
       "9   shape              SurfaceArea  1.0\n",
       "10  shape               Sphericity  1.0\n",
       "11  shape          MajorAxisLength  1.0\n",
       "12  shape                 Flatness  1.0\n",
       "13  shape        Maximum3DDiameter  1.0"
      ]
     },
     "execution_count": 28,
     "metadata": {},
     "output_type": "execute_result"
    }
   ],
   "source": [
    "df_corr.query('Class == \"shape\"')"
   ]
  },
  {
   "cell_type": "code",
   "execution_count": null,
   "id": "10b563c5",
   "metadata": {},
   "outputs": [],
   "source": [
    "df_radiomics.query('Class == \"glcm\" and Feature == \"Imc1\"')"
   ]
  },
  {
   "cell_type": "code",
   "execution_count": null,
   "id": "c5231091",
   "metadata": {},
   "outputs": [],
   "source": [
    "img_arr = sitk.GetArrayFromImage(img)\n",
    "img_syn_arr = sitk.GetArrayFromImage(img_syn)\n",
    "\n",
    "plt.imshow(np.hstack([img_arr[40], img_syn_arr[40]]))"
   ]
  },
  {
   "cell_type": "code",
   "execution_count": null,
   "id": "68f93dc7",
   "metadata": {},
   "outputs": [],
   "source": [
    "print(img_arr.min(), img_arr.max())"
   ]
  },
  {
   "cell_type": "code",
   "execution_count": null,
   "id": "927f3900",
   "metadata": {},
   "outputs": [],
   "source": [
    "print(img_syn_arr.min(), img_syn_arr.max())"
   ]
  },
  {
   "cell_type": "code",
   "execution_count": null,
   "id": "459a1ec2",
   "metadata": {},
   "outputs": [],
   "source": [
    "from radiomics.glcm import RadiomicsGLCM\n",
    "bw = 1\n",
    "glcm = RadiomicsGLCM(img, seg, binWidth=bw)\n",
    "\n",
    "glcm2 = RadiomicsGLCM(img_syn, seg, binWidth=bw)"
   ]
  },
  {
   "cell_type": "code",
   "execution_count": null,
   "id": "233e51b2",
   "metadata": {},
   "outputs": [],
   "source": [
    "plt.imshow(np.hstack([glcm.imageArray[40], glcm2.imageArray[40]]))\n",
    "\n",
    "print(np.unique(glcm.imageArray))"
   ]
  },
  {
   "cell_type": "code",
   "execution_count": null,
   "id": "74d9d80b",
   "metadata": {},
   "outputs": [],
   "source": [
    "img_arr = sitk.GetArrayFromImage(img)\n",
    "print(img_arr.min(), img_arr.max())"
   ]
  },
  {
   "cell_type": "code",
   "execution_count": null,
   "id": "9de4b540",
   "metadata": {},
   "outputs": [],
   "source": [
    "print(glcm.getClusterTendencyFeatureValue())\n",
    "print(glcm2.getClusterTendencyFeatureValue())"
   ]
  },
  {
   "cell_type": "code",
   "execution_count": null,
   "id": "ccd44830",
   "metadata": {},
   "outputs": [],
   "source": []
  }
 ],
 "metadata": {
  "kernelspec": {
   "display_name": "Python (mmt)",
   "language": "python",
   "name": "mmt"
  },
  "language_info": {
   "codemirror_mode": {
    "name": "ipython",
    "version": 3
   },
   "file_extension": ".py",
   "mimetype": "text/x-python",
   "name": "python",
   "nbconvert_exporter": "python",
   "pygments_lexer": "ipython3",
   "version": "3.9.5"
  }
 },
 "nbformat": 4,
 "nbformat_minor": 5
}
