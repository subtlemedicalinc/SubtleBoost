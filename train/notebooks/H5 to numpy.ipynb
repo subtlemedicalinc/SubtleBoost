{
 "cells": [
  {
   "cell_type": "code",
   "execution_count": 1,
   "metadata": {},
   "outputs": [],
   "source": [
    "%reload_ext autoreload\n",
    "%autoreload 2\n",
    "\n",
    "import os\n",
    "import numpy as np\n",
    "from glob import glob\n",
    "\n",
    "import subtle.utils.io as suio\n",
    "import subtle.utils.experiment as exp_utils\n",
    "from tqdm import tqdm\n",
    "\n",
    "base_dir = '/home/srivathsa/projects/studies/gad/all/preprocess/data'\n",
    "case_nums = exp_utils.get_experiment_data('super_model', dirpath_exp='/home/srivathsa/projects/SubtleGad/train/configs/experiments', dataset='all')"
   ]
  },
  {
   "cell_type": "code",
   "execution_count": 13,
   "metadata": {},
   "outputs": [
    {
     "name": "stderr",
     "output_type": "stream",
     "text": [
      "  9%|▉         | 1/11 [00:00<00:01,  8.68it/s]"
     ]
    },
    {
     "name": "stdout",
     "output_type": "stream",
     "text": [
      "Processing Patient_0277...\n",
      "Processing Patient_0332...\n",
      "Processing Patient_0334...\n"
     ]
    },
    {
     "name": "stderr",
     "output_type": "stream",
     "text": [
      " 36%|███▋      | 4/11 [00:00<00:00,  9.51it/s]"
     ]
    },
    {
     "name": "stdout",
     "output_type": "stream",
     "text": [
      "Processing Patient_0388...\n",
      "Processing Patient_0392...\n"
     ]
    },
    {
     "name": "stderr",
     "output_type": "stream",
     "text": [
      " 55%|█████▍    | 6/11 [00:00<00:00,  6.79it/s]"
     ]
    },
    {
     "name": "stdout",
     "output_type": "stream",
     "text": [
      "Processing Patient_0395...\n",
      "Processing Patient_0397...\n"
     ]
    },
    {
     "name": "stderr",
     "output_type": "stream",
     "text": [
      " 73%|███████▎  | 8/11 [00:01<00:00,  6.31it/s]"
     ]
    },
    {
     "name": "stdout",
     "output_type": "stream",
     "text": [
      "Processing Patient_0431...\n",
      "Processing Patient_0478...\n"
     ]
    },
    {
     "name": "stderr",
     "output_type": "stream",
     "text": [
      " 91%|█████████ | 10/11 [00:01<00:00,  5.93it/s]"
     ]
    },
    {
     "name": "stdout",
     "output_type": "stream",
     "text": [
      "Processing Patient_0500...\n",
      "Processing Patient_0553...\n"
     ]
    },
    {
     "name": "stderr",
     "output_type": "stream",
     "text": [
      "100%|██████████| 11/11 [00:01<00:00,  6.52it/s]\n"
     ]
    }
   ],
   "source": [
    "for cnum in tqdm(case_nums, total=len(case_nums)):\n",
    "    print('Processing {}...'.format(cnum))\n",
    "#     fpath = '{}/{}.h5'.format(base_dir, cnum)\n",
    "#     data_h5 = suio.load_file(fpath, params={'h5_key': 'all'})\n",
    "#     np.save('{}/{}.npy'.format(base_dir, cnum), data_h5)\n",
    "    fpath = '{}/{}.npy'.format(base_dir, cnum)\n",
    "    os.remove(fpath)"
   ]
  },
  {
   "cell_type": "code",
   "execution_count": 11,
   "metadata": {},
   "outputs": [
    {
     "name": "stdout",
     "output_type": "stream",
     "text": [
      "(2, 176, 3, 256, 256)\n"
     ]
    }
   ],
   "source": [
    "data = np.load('/home/srivathsa/projects/studies/gad/all/preprocess/data/Patient_0553.npy')\n",
    "print(data.shape)"
   ]
  },
  {
   "cell_type": "code",
   "execution_count": 15,
   "metadata": {},
   "outputs": [
    {
     "name": "stdout",
     "output_type": "stream",
     "text": [
      "Processing NO6...\n",
      "Processing NO5...\n",
      "Processing NO3...\n",
      "Processing NO7...\n",
      "Processing NO4...\n",
      "Processing NO8...\n",
      "Processing NO9...\n"
     ]
    }
   ],
   "source": [
    "cases = ['NO3', 'NO4', 'NO5', 'NO6', 'NO7', 'NO8', 'NO9']\n",
    "bpath_data = '/home/srivathsa/projects/studies/gad/tiantan/preprocess/data'\n",
    "for fpath in glob('/home/srivathsa/projects/studies/gad/tiantan/preprocess/data_mixture/*.npy'):\n",
    "    case_num = fpath.split('/')[-1].replace('_blur.npy', '')\n",
    "    if case_num in cases:\n",
    "        print('Processing {}...'.format(case_num))\n",
    "        data_h5 = suio.load_file('{}/{}.h5'.format(bpath_data, case_num), params={'h5_key': 'all'})\n",
    "        np.save('/home/srivathsa/projects/studies/gad/tiantan/preprocess/data_mixture/{}.npy'.format(case_num), data_h5)"
   ]
  },
  {
   "cell_type": "code",
   "execution_count": 8,
   "metadata": {},
   "outputs": [],
   "source": [
    "for fpath_data in glob('/home/srivathsa/projects/studies/gad/tiantan/preprocess/data_mixture/*.h5'):\n",
    "    if 'blur' in fpath_data:\n",
    "        continue\n",
    "    os.remove(fpath_data)"
   ]
  },
  {
   "cell_type": "code",
   "execution_count": null,
   "metadata": {},
   "outputs": [],
   "source": []
  }
 ],
 "metadata": {
  "kernelspec": {
   "display_name": "Python (py35gad)",
   "language": "python",
   "name": "py35gad"
  },
  "language_info": {
   "codemirror_mode": {
    "name": "ipython",
    "version": 3
   },
   "file_extension": ".py",
   "mimetype": "text/x-python",
   "name": "python",
   "nbconvert_exporter": "python",
   "pygments_lexer": "ipython3",
   "version": "3.6.0"
  }
 },
 "nbformat": 4,
 "nbformat_minor": 2
}
