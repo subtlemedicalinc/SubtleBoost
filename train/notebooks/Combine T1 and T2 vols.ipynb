{
 "cells": [
  {
   "cell_type": "code",
   "execution_count": 1,
   "metadata": {},
   "outputs": [
    {
     "data": {
      "text/plain": [
       "<Figure size 432x288 with 0 Axes>"
      ]
     },
     "metadata": {},
     "output_type": "display_data"
    }
   ],
   "source": [
    "import numpy as np\n",
    "from glob import glob\n",
    "from tqdm import tqdm_notebook as tqdm\n",
    "import os\n",
    "\n",
    "import matplotlib.pyplot as plt\n",
    "plt.set_cmap('gray')\n",
    "plt.rcParams['figure.figsize'] = (12, 8)\n"
   ]
  },
  {
   "cell_type": "code",
   "execution_count": 2,
   "metadata": {},
   "outputs": [
    {
     "name": "stdout",
     "output_type": "stream",
     "text": [
      "['/home/srivathsa/projects/studies/gad/stanford/preprocess/data/Patient_0130.npy', '/home/srivathsa/projects/studies/gad/stanford/preprocess/data/Patient_0148.npy', '/home/srivathsa/projects/studies/gad/stanford/preprocess/data/Patient_0149.npy', '/home/srivathsa/projects/studies/gad/stanford/preprocess/data/Patient_0151.npy', '/home/srivathsa/projects/studies/gad/stanford/preprocess/data/Patient_0170.npy', '/home/srivathsa/projects/studies/gad/stanford/preprocess/data/Patient_0225.npy', '/home/srivathsa/projects/studies/gad/stanford/preprocess/data/Patient_0429.npy']\n"
     ]
    }
   ],
   "source": [
    "base_path = '/home/srivathsa/projects/studies/gad/stanford/preprocess/data'\n",
    "\n",
    "ignore = []\n",
    "\n",
    "# ignore = [\"Patient_0225\", \"Patient_0289\", \"Patient_0290\", \"Patient_0291\", \"Patient_0292\", \"Patient_0294\", \n",
    "#           \"Patient_0295\", \"Patient_0296\", \"Patient_0297\", \"Patient_0298\", \"Patient_0299\", \"Patient_0300\", \n",
    "#           \"Patient_0301\", \"Patient_0302\", \"Patient_0303\", \"Patient_0316\", \"Patient_0317\", \"Patient_0319\", \n",
    "#           \"Patient_0320\", \"Patient_0322\", \"Patient_0323\", \"Patient_0325\", \"Patient_0326\", \"Patient_0327\", \n",
    "#           \"Patient_0328\", \"Patient_0329\", \"Patient_0330\", \"Patient_0331\", \"Patient_0335\", \"Patient_0336\", \n",
    "#           \"Patient_0337\", \"Patient_0339\", \"Patient_0340\", \"Patient_0341\", \"Patient_0342\", \"Patient_0343\",\n",
    "#           \"Patient_0429\"]\n",
    "\n",
    "t1_files = sorted([f for f in glob('{}/*.npy'.format(base_path)) if 'T2' not in f])\n",
    "t1_files_filt = []\n",
    "for t1f in t1_files:\n",
    "    t2_fname = t1f.split('/')[-1].replace('.npy', '_T2.npy')\n",
    "    case = t2_fname.replace('_T2.npy', '')\n",
    "    t2_path = '{}/{}'.format(base_path, t2_fname)\n",
    "    if os.path.isfile(t2_path) and not case in ignore:\n",
    "        t1_files_filt.append(t1f)\n",
    "t1_files = t1_files_filt\n",
    "print(t1_files)"
   ]
  },
  {
   "cell_type": "code",
   "execution_count": 5,
   "metadata": {
    "scrolled": false
   },
   "outputs": [],
   "source": [
    "for fpath in sorted(glob('{}/*_full.npy'.format(base_path))):\n",
    "    os.rename(fpath, fpath.replace('_full', ''))"
   ]
  },
  {
   "cell_type": "code",
   "execution_count": 4,
   "metadata": {
    "scrolled": false
   },
   "outputs": [
    {
     "data": {
      "application/vnd.jupyter.widget-view+json": {
       "model_id": "aac8575c9ed5472985dcb7fbc939f14d",
       "version_major": 2,
       "version_minor": 0
      },
      "text/plain": [
       "HBox(children=(IntProgress(value=0, max=7), HTML(value='')))"
      ]
     },
     "metadata": {},
     "output_type": "display_data"
    },
    {
     "name": "stdout",
     "output_type": "stream",
     "text": [
      "Saving new file to /home/srivathsa/projects/studies/gad/stanford/preprocess/data/Patient_0130_full.npy...\n",
      "Saving new file to /home/srivathsa/projects/studies/gad/stanford/preprocess/data/Patient_0148_full.npy...\n",
      "Saving new file to /home/srivathsa/projects/studies/gad/stanford/preprocess/data/Patient_0149_full.npy...\n",
      "Saving new file to /home/srivathsa/projects/studies/gad/stanford/preprocess/data/Patient_0151_full.npy...\n",
      "Saving new file to /home/srivathsa/projects/studies/gad/stanford/preprocess/data/Patient_0170_full.npy...\n",
      "Saving new file to /home/srivathsa/projects/studies/gad/stanford/preprocess/data/Patient_0225_full.npy...\n",
      "Saving new file to /home/srivathsa/projects/studies/gad/stanford/preprocess/data/Patient_0429_full.npy...\n",
      "\n"
     ]
    }
   ],
   "source": [
    "for t1_file in tqdm(t1_files, total=len(t1_files)):\n",
    "    try:\n",
    "        t1_data = np.load(t1_file, mmap_mode='r+')\n",
    "        t1_pre, t1_low, t1_full = t1_data.transpose(2, 0, 1, 3, 4)\n",
    "        fpath_t2 = t1_file.replace('.npy', '_T2.npy')\n",
    "        t2_data = np.load(fpath_t2)\n",
    "        t1_new_file = t1_file.replace('.npy', '_full.npy')\n",
    "        data_new = np.array([t1_pre, t1_low, t1_full, t2_data]).transpose(1, 2, 0, 3, 4)\n",
    "        np.save(t1_new_file, data_new)\n",
    "        \n",
    "        print('Saving new file to {}...'.format(t1_new_file))\n",
    "        os.remove(fpath_t2)\n",
    "        os.remove(t1_file)\n",
    "    except Exception as exc:\n",
    "        print('****Error in', t1_file)\n",
    "        print('Error', exc)\n",
    "        print('t1 shape', t1_data.shape)\n",
    "        print('t2 shape', t2_data.shape, '****')"
   ]
  },
  {
   "cell_type": "code",
   "execution_count": null,
   "metadata": {},
   "outputs": [],
   "source": [
    "data = np.load('/home/srivathsa/projects/studies/gad/stanford/preprocess/data/Patient_0289.npy', mmap_mode='r+')"
   ]
  },
  {
   "cell_type": "code",
   "execution_count": null,
   "metadata": {},
   "outputs": [],
   "source": []
  },
  {
   "cell_type": "code",
   "execution_count": null,
   "metadata": {},
   "outputs": [],
   "source": []
  }
 ],
 "metadata": {
  "kernelspec": {
   "display_name": "Python (py35gad)",
   "language": "python",
   "name": "py35gad"
  },
  "language_info": {
   "codemirror_mode": {
    "name": "ipython",
    "version": 3
   },
   "file_extension": ".py",
   "mimetype": "text/x-python",
   "name": "python",
   "nbconvert_exporter": "python",
   "pygments_lexer": "ipython3",
   "version": "3.6.1"
  }
 },
 "nbformat": 4,
 "nbformat_minor": 4
}
