{
 "cells": [
  {
   "cell_type": "code",
   "execution_count": 1,
   "metadata": {},
   "outputs": [
    {
     "name": "stderr",
     "output_type": "stream",
     "text": [
      "/home/srivathsa/projects/SubtleGad/train/subtle/utils/hyperparameter.py:8: UserWarning: Module test_tube not found - hyperparameter related functions cannot be used\n",
      "  warnings.warn('Module test_tube not found - hyperparameter related functions cannot be used')\n"
     ]
    },
    {
     "data": {
      "text/plain": [
       "<Figure size 432x288 with 0 Axes>"
      ]
     },
     "metadata": {},
     "output_type": "display_data"
    }
   ],
   "source": [
    "import numpy as np\n",
    "from glob import glob\n",
    "from tqdm import tqdm_notebook as tqdm\n",
    "import os\n",
    "import shutil\n",
    "\n",
    "import subtle.utils.io as suio\n",
    "import matplotlib.pyplot as plt\n",
    "plt.set_cmap('gray')\n",
    "plt.rcParams['figure.figsize'] = (12, 8)"
   ]
  },
  {
   "cell_type": "code",
   "execution_count": 2,
   "metadata": {},
   "outputs": [],
   "source": [
    "base_path = '/home/srivathsa/projects/studies/gad/stanford/preprocess/data'\n",
    "\n",
    "ignore = []\n",
    "\n",
    "# ignore = [\"Patient_0225\", \"Patient_0289\", \"Patient_0290\", \"Patient_0291\", \"Patient_0292\", \"Patient_0294\", \n",
    "#           \"Patient_0295\", \"Patient_0296\", \"Patient_0297\", \"Patient_0298\", \"Patient_0299\", \"Patient_0300\", \n",
    "#           \"Patient_0301\", \"Patient_0302\", \"Patient_0303\", \"Patient_0316\", \"Patient_0317\", \"Patient_0319\", \n",
    "#           \"Patient_0320\", \"Patient_0322\", \"Patient_0323\", \"Patient_0325\", \"Patient_0326\", \"Patient_0327\", \n",
    "#           \"Patient_0328\", \"Patient_0329\", \"Patient_0330\", \"Patient_0331\", \"Patient_0335\", \"Patient_0336\", \n",
    "#           \"Patient_0337\", \"Patient_0339\", \"Patient_0340\", \"Patient_0341\", \"Patient_0342\", \"Patient_0343\",\n",
    "#           \"Patient_0429\"]\n",
    "kw = 'T2'\n",
    "cases =  [\n",
    "    'Patient_0001', 'Patient_0002', 'Patient_0003', 'Patient_0004', 'Patient_0005', 'Patient_0006', \n",
    "    'Patient_0007', 'Patient_0008', 'Patient_0009', 'Patient_0010', 'Patient_0011', 'Patient_0012', \n",
    "    'Patient_0013', 'Patient_0014', 'Patient_0015', 'Patient_0016', 'Patient_0017', 'Patient_0018', \n",
    "    'Patient_0019', 'Patient_0020', 'Patient_0021', 'Patient_0022', 'Patient_0023', 'Patient_0024', \n",
    "    'Patient_0025', 'Patient_0026', 'Patient_0027', 'Patient_0028', 'Patient_0029', 'Patient_0030', \n",
    "    'Patient_0031', 'Patient_0032', 'Patient_0033', 'Patient_0034', 'Patient_0035', 'Patient_0036', \n",
    "    'Patient_0037', 'Patient_0038', 'Patient_0039', 'Patient_0040', 'Patient_0041', 'Patient_0042', \n",
    "    'Patient_0043', 'Patient_0044', 'Patient_0045', 'Patient_0046', 'Patient_0048', 'Patient_0049', \n",
    "    'Patient_0050', 'Patient_0051', 'Patient_0052', 'Patient_0053', 'Patient_0054', 'Patient_0055', \n",
    "    'Patient_0056', 'Patient_0057', 'Patient_0058', 'Patient_0059', 'Patient_0060', 'Patient_0061', \n",
    "    'Patient_0062', 'Patient_0063', 'Patient_0064', 'Patient_0065', 'Patient_0066', 'Patient_0067', \n",
    "    'Patient_0068', 'Patient_0069', 'Patient_0070', 'Patient_0071', 'Patient_0072', 'Patient_0073', \n",
    "    'Patient_0074', 'Patient_0075', 'Patient_0076', 'Patient_0077', 'Patient_0078', 'Patient_0079', \n",
    "    'Patient_0080', 'Patient_0081', 'Patient_0082', 'Patient_0083', 'Patient_0084'\n",
    "]\n",
    "\n",
    "cases = [\n",
    "    \"Patient_0003\",\n",
    "    \"Patient_0012\",\n",
    "    \"Patient_0024\",\n",
    "    \"Patient_0042\",\n",
    "    \"Patient_0060\",\n",
    "    \"Patient_0334\"\n",
    "]\n",
    "\n",
    "t1_files = sorted([f for f in glob('{}/*.npy'.format(base_path)) \n",
    "                   if 'T2' not in f and 'meta' not in f and 'FLAIR' not in f\n",
    "                   if f.split('/')[-1].replace('.npy', '') in cases])\n",
    "\n",
    "t1_files_filt = []\n",
    "\n",
    "for t1f in t1_files:\n",
    "    t2_fname = t1f.split('/')[-1].replace('.npy', '_{}.npy'.format(kw))\n",
    "    case = t2_fname.replace('_{}.h5'.format(kw), '')\n",
    "    t2_path = '{}/{}'.format(base_path, t2_fname)\n",
    "    if os.path.isfile(t2_path) and not case in ignore:\n",
    "        t1_files_filt.append(t1f)\n",
    "t1_files = t1_files_filt\n",
    "# t1_files = [f for f in t1_files if not os.path.exists(f.replace('.npy', '_full.npy'))]\n",
    "# t2_missing_cnums = sorted([f.split('/')[-1].replace('.npy', '') for f in t1_files])"
   ]
  },
  {
   "cell_type": "code",
   "execution_count": 4,
   "metadata": {
    "scrolled": false
   },
   "outputs": [],
   "source": [
    "base_path = '/home/srivathsa/projects/studies/gad/stanford/preprocess/data'\n",
    "for fpath in sorted(glob('{}/*_full.npy'.format(base_path))):\n",
    "    os.rename(fpath, fpath.replace('_full', ''))"
   ]
  },
  {
   "cell_type": "code",
   "execution_count": 3,
   "metadata": {
    "scrolled": true
   },
   "outputs": [
    {
     "name": "stderr",
     "output_type": "stream",
     "text": [
      "/home/srivathsa/miniconda3/envs/py35gad/lib/python3.6/site-packages/ipykernel_launcher.py:4: TqdmDeprecationWarning: This function will be removed in tqdm==5.0.0\n",
      "Please use `tqdm.notebook.tqdm` instead of `tqdm.tqdm_notebook`\n",
      "  after removing the cwd from sys.path.\n"
     ]
    },
    {
     "data": {
      "application/vnd.jupyter.widget-view+json": {
       "model_id": "4083106c3f384324b85eb607e7ff1353",
       "version_major": 2,
       "version_minor": 0
      },
      "text/plain": [
       "  0%|          | 0/6 [00:00<?, ?it/s]"
      ]
     },
     "metadata": {},
     "output_type": "display_data"
    },
    {
     "name": "stdout",
     "output_type": "stream",
     "text": [
      "Saving new file to /home/srivathsa/projects/studies/gad/stanford/preprocess/data/Patient_0003_full.npy...\n",
      "Data shape (2, 344, 5, 512, 512)\n",
      "Saving new file to /home/srivathsa/projects/studies/gad/stanford/preprocess/data/Patient_0012_full.npy...\n",
      "Data shape (2, 344, 5, 512, 512)\n",
      "Saving new file to /home/srivathsa/projects/studies/gad/stanford/preprocess/data/Patient_0024_full.npy...\n",
      "Data shape (2, 320, 5, 512, 512)\n",
      "Saving new file to /home/srivathsa/projects/studies/gad/stanford/preprocess/data/Patient_0042_full.npy...\n",
      "Data shape (2, 336, 5, 512, 512)\n",
      "Saving new file to /home/srivathsa/projects/studies/gad/stanford/preprocess/data/Patient_0060_full.npy...\n",
      "Data shape (2, 344, 5, 512, 512)\n",
      "Saving new file to /home/srivathsa/projects/studies/gad/stanford/preprocess/data/Patient_0334_full.npy...\n",
      "Data shape (2, 176, 5, 512, 512)\n"
     ]
    }
   ],
   "source": [
    "save_path = '/home/srivathsa/projects/studies/gad/stanford/preprocess/data'\n",
    "kw_fl = 'FLAIR'\n",
    "\n",
    "for t1_file in tqdm(t1_files, total=len(t1_files)):\n",
    "    try:\n",
    "#         t1_data = np.load(t1_file, mmap_mode='r+')\n",
    "        t1_data = suio.load_file(t1_file, params={'h5_key': 'all'})\n",
    "        t1_pre, t1_low, t1_full = t1_data.transpose(2, 0, 1, 3, 4)\n",
    "        fpath_t2 = t1_file.replace('.npy', '_{}.npy'.format(kw))\n",
    "        fpath_fl = t1_file.replace('.npy', '_{}.npy'.format(kw_fl))\n",
    "        t2_data = np.load(fpath_t2)\n",
    "        fl_data = np.load(fpath_fl)\n",
    "        t1_new_file = t1_file.replace('.npy', '_full.npy')#.replace('data', 'data_fl')\n",
    "        data_new = np.array([t1_pre, t1_low, t1_full, t2_data, fl_data]).transpose(1, 2, 0, 3, 4)\n",
    "        data_new = data_new.astype(np.float16)\n",
    "        \n",
    "        cnum = t1_file.split('/')[-1].replace('.npy', '')\n",
    "        fpath_save = '{}/{}.npy'.format(save_path, cnum)\n",
    "        suio.save_data_npy(t1_new_file, data=data_new)\n",
    "#     np.save(t1_new_file, data_new)\n",
    "\n",
    "        print('Saving new file to {}...'.format(t1_new_file))\n",
    "        print('Data shape', data_new.shape)\n",
    "#         os.remove(fpath_t2)\n",
    "#         os.remove(t1_file)\n",
    "    except Exception as exc:\n",
    "        print('****Error in', t1_file)\n",
    "        print('Error', exc)\n",
    "        print('t1 shape', t1_data.shape)\n",
    "        print('t2 shape', t2_data.shape, '****')"
   ]
  },
  {
   "cell_type": "code",
   "execution_count": null,
   "metadata": {},
   "outputs": [],
   "source": [
    "data = suio.load_file('/home/srivathsa/projects/studies/gad/stanford/preprocess/data/Patient_0164_full.npy', \n",
    "                     params={'h5_key': 'all'}).astype(np.float32)"
   ]
  },
  {
   "cell_type": "code",
   "execution_count": null,
   "metadata": {},
   "outputs": [],
   "source": [
    "print(data.shape)\n",
    "plt.imshow(data[0, 184, -1])"
   ]
  },
  {
   "cell_type": "code",
   "execution_count": null,
   "metadata": {},
   "outputs": [],
   "source": [
    "ignore_cases = sorted([c.split('/')[-1] for c in glob('/home/srivathsa/projects/studies/gad/tiantan/data/NO*')])\n",
    "cases = sorted([c.split('/')[-1] for c in glob('/mnt/datasets/srivathsa/tiantan/Batch1/NO*')])\n",
    "cases = [c for c in cases if c not in ignore_cases]\n",
    "\n",
    "for case in cases:\n",
    "    os.symlink(\n",
    "        '/mnt/datasets/srivathsa/tiantan/Batch1/{}'.format(case), \n",
    "        '/home/srivathsa/projects/studies/gad/tiantan/data/{}'.format(case)\n",
    "    )"
   ]
  },
  {
   "cell_type": "code",
   "execution_count": null,
   "metadata": {},
   "outputs": [],
   "source": [
    "dirpath_cases = sorted(glob('/mnt/datasets/srivathsa/tiantan/Batch1/*'))\n",
    "flair_cases = []\n",
    "for dircase in dirpath_cases:\n",
    "    flair_ser = [d for d in glob('{}/*'.format(dircase)) if 'flair' in d.lower() and 'vista' in d.lower()]\n",
    "    if len(flair_ser) == 1:\n",
    "        flair_cases.append(dircase.split('/')[-1])"
   ]
  },
  {
   "cell_type": "code",
   "execution_count": null,
   "metadata": {},
   "outputs": [],
   "source": [
    "dest_dir = '/home/srivathsa/projects/studies/gad/tiantan/data'\n",
    "src_dir = '/mnt/datasets/srivathsa/tiantan/Batch1'\n",
    "for case in flair_cases:\n",
    "    flair_ser = [\n",
    "        d for d in glob('{}/{}/*'.format(src_dir, case, dircase)) \n",
    "        if 'flair' in d.lower() and 'vista' in d.lower()\n",
    "    ][0]\n",
    "    \n",
    "    dest_path = os.path.join(dest_dir, case, flair_ser.split('/')[-1])\n",
    "    print('ln -s {} {};'.format(flair_ser, dest_path))"
   ]
  },
  {
   "cell_type": "code",
   "execution_count": null,
   "metadata": {},
   "outputs": [],
   "source": [
    "data = suio.load_file('/home/srivathsa/projects/studies/gad/stanford/preprocess/data/Patient_0325.npy',\n",
    "                     params={'h5_key': 'all'})\n",
    "print(data.shape)"
   ]
  },
  {
   "cell_type": "code",
   "execution_count": null,
   "metadata": {},
   "outputs": [],
   "source": [
    "proc_cases = [c.split('/')[-1].replace('_FLAIR.h5', '')\n",
    "              for c in glob('/home/srivathsa/projects/studies/gad/tiantan/preprocess/data/*FLAIR*')]\n",
    "err_cases = [c for c in flair_cases if c not in proc_cases]\n",
    "print(err_cases)"
   ]
  },
  {
   "cell_type": "code",
   "execution_count": null,
   "metadata": {},
   "outputs": [],
   "source": [
    "src_meta = '/home/srivathsa/projects/studies/gad/tiantan/preprocess/data'\n",
    "dest_path = '/home/srivathsa/projects/studies/gad/tiantan/preprocess/data_fl'\n",
    "\n",
    "for fpath_h5 in glob('{}/*.h5'.format(dest_path)):\n",
    "    case = fpath_h5.split('/')[-1].replace('.h5', '')\n",
    "    fpath_meta = '{}/{}_meta.h5'.format(src_meta, case)\n",
    "    shutil.copyfile(fpath_meta, fpath_meta.replace('data', 'data_fl'))"
   ]
  },
  {
   "cell_type": "code",
   "execution_count": null,
   "metadata": {},
   "outputs": [],
   "source": [
    "t2_files = sorted([f for f in glob('/home/srivathsa/projects/studies/gad/tiantan/preprocess/data_fl/*.h5') if 'meta' not in f])\n",
    "\n",
    "for fpath in tqdm(t2_files, total=len(t2_files)):\n",
    "    full_data = suio.load_file(fpath, params={'h5_key': 'all'})\n",
    "    if full_data.shape[2] != 4:\n",
    "        continue\n",
    "    print('Processing {}...'.format(fpath.split('/')[-1].replace('.h5', '')))\n",
    "    fpath_meta = fpath.replace('.h5', '_meta.h5')\n",
    "    meta = suio.load_h5_metadata(fpath_meta)\n",
    "    t2_full = full_data[1, :, 3]\n",
    "    quant = np.quantile(t2_full, 0.9)\n",
    "    meta['t2_csf_quant'] = quant\n",
    "    suio.save_meta_h5(fpath_meta, meta)"
   ]
  },
  {
   "cell_type": "code",
   "execution_count": null,
   "metadata": {},
   "outputs": [],
   "source": [
    "data = suio.load_file('/home/srivathsa/projects/studies/gad/tiantan/preprocess/data_fl/Case1.h5', params={'h5_key': 'all'})\n",
    "data = data[1, :, 3]\n",
    "q = np.quantile(data, 0.9)\n",
    "\n",
    "plt.imshow(data[100])"
   ]
  },
  {
   "cell_type": "code",
   "execution_count": null,
   "metadata": {},
   "outputs": [],
   "source": [
    "base_path = '/home/srivathsa/projects/studies/gad/tiantan/preprocess/data'\n",
    "h5_files = sorted([f for f in glob('{}/*.h5'.format(base_path)) if 'meta' not in f])\n",
    "t2_cases = []\n",
    "for fpath_h5 in tqdm(h5_files, total=len(h5_files)):\n",
    "    data_h5 = suio.load_file(fpath_h5, params={'h5_key': 'all'})\n",
    "    if data_h5.shape[2] == 4:\n",
    "        t2_cases.append(fpath_h5)\n",
    "#         data_mod = data_h5[:, :, :3, ...]\n",
    "#         suio.save_data_h5(fpath_h5.replace('data', 'data/t1_only'), data=data_mod[0], data_mask=data_mod[1])"
   ]
  },
  {
   "cell_type": "code",
   "execution_count": null,
   "metadata": {},
   "outputs": [],
   "source": [
    "len(t2_cases)"
   ]
  },
  {
   "cell_type": "code",
   "execution_count": null,
   "metadata": {},
   "outputs": [],
   "source": [
    "skey = lambda s: int(s.replace('NO', '').replace('_mod', '')) if 'NO' in s else s\n",
    "t2_list = [t2c for t2c in t2_cases if 'NO' in t2c]\n",
    "t2_list = sorted(t2_list, key=skey)"
   ]
  },
  {
   "cell_type": "code",
   "execution_count": null,
   "metadata": {},
   "outputs": [],
   "source": [
    "for fpath_h5 in glob('/home/srivathsa/projects/studies/gad/tiantan/preprocess/data/*_full.h5'):\n",
    "    fpath_mod = fpath_h5.replace('_full', '')\n",
    "    os.remove(fpath_mod)"
   ]
  },
  {
   "cell_type": "markdown",
   "metadata": {},
   "source": [
    "### Combine T1, T2 and FLAIR"
   ]
  },
  {
   "cell_type": "code",
   "execution_count": null,
   "metadata": {},
   "outputs": [],
   "source": [
    "t2_base_path = '/home/srivathsa/projects/studies/gad/tiantan/preprocess/data'\n",
    "fl_base_path = '/home/srivathsa/projects/studies/gad/tiantan/preprocess/data_fl'\n",
    "\n",
    "t1_files = sorted([\n",
    "    f for f in glob('{}/*.h5'.format(t2_base_path)) \n",
    "    if 'meta' not in f and 'Prisma' not in f and 'TwoDim' not in f\n",
    "])\n",
    "\n",
    "t2_cases = []\n",
    "\n",
    "for fpath in tqdm(t1_files, total=len(t1_files)):\n",
    "    data = suio.load_file(fpath)\n",
    "    if data.shape[1] == 4:\n",
    "        t2_cases.append(fpath.split('/')[-1].replace('.h5', ''))"
   ]
  },
  {
   "cell_type": "code",
   "execution_count": null,
   "metadata": {},
   "outputs": [],
   "source": [
    "fl_cases = sorted([\n",
    "    f.split('/')[-1].replace('.h5', '') \n",
    "    for f in glob('{}/*.h5'.format(fl_base_path)) \n",
    "    if 'meta' not in f\n",
    "])\n",
    "\n",
    "t2_fl_cases = sorted([c for c in t2_cases if c in fl_cases])"
   ]
  },
  {
   "cell_type": "code",
   "execution_count": null,
   "metadata": {},
   "outputs": [],
   "source": [
    "dest_dir = '/home/srivathsa/projects/studies/gad/tiantan/preprocess/data_t2_fl'\n",
    "\n",
    "for case in tqdm(t2_fl_cases, total=len(t2_fl_cases)):\n",
    "    t2_data = suio.load_file('{}/{}.h5'.format(t2_base_path, case), params={'h5_key': 'all'})\n",
    "    fl_data = suio.load_file('{}/{}.h5'.format(fl_base_path, case), params={'h5_key': 'all'})\n",
    "    \n",
    "    t2_fl = np.append(t2_data, fl_data[:, :, 3][:, :, None, ...], axis=2)\n",
    "    \n",
    "    suio.save_data_h5('{}/{}.h5'.format(dest_dir, case), data=t2_fl[0], data_mask=t2_fl[1])"
   ]
  },
  {
   "cell_type": "code",
   "execution_count": null,
   "metadata": {},
   "outputs": [],
   "source": [
    "dcm, _ = suio.dicom_files('/home/srivathsa/projects/studies/gad/tiantan/data/Brain2H-600441599/3DFLAIR-VISTA-SAG_CS7_Series0401')"
   ]
  },
  {
   "cell_type": "code",
   "execution_count": null,
   "metadata": {},
   "outputs": [],
   "source": [
    "plt.imshow(dcm[88])"
   ]
  },
  {
   "cell_type": "code",
   "execution_count": null,
   "metadata": {},
   "outputs": [],
   "source": [
    "for case in t2_fl_cases:\n",
    "    try:\n",
    "        shutil.copyfile('{}/{}_meta.h5'.format(t2_base_path, case), '{}/{}_meta.h5'.format(dest_dir, case))\n",
    "    except Exception as exc:\n",
    "        print(exc)"
   ]
  },
  {
   "cell_type": "code",
   "execution_count": null,
   "metadata": {},
   "outputs": [],
   "source": []
  }
 ],
 "metadata": {
  "kernelspec": {
   "display_name": "Python (py35gad)",
   "language": "python",
   "name": "py35gad"
  },
  "language_info": {
   "codemirror_mode": {
    "name": "ipython",
    "version": 3
   },
   "file_extension": ".py",
   "mimetype": "text/x-python",
   "name": "python",
   "nbconvert_exporter": "python",
   "pygments_lexer": "ipython3",
   "version": "3.6.1"
  }
 },
 "nbformat": 4,
 "nbformat_minor": 4
}
