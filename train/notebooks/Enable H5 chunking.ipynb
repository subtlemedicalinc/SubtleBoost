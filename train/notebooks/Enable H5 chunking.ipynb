{
 "cells": [
  {
   "cell_type": "code",
   "execution_count": 15,
   "metadata": {},
   "outputs": [],
   "source": [
    "%reload_ext autoreload\n",
    "%autoreload 2\n",
    "\n",
    "import subtle.utils.io as suio\n",
    "from glob import glob\n",
    "from tqdm import tqdm_notebook as tqdm\n",
    "import h5py\n",
    "\n",
    "base_dir = '/home/srivathsa/projects/studies/gad/stanford/preprocess/data'\n",
    "h5_files = [f for f in glob('{}/*.h5'.format(base_dir)) if 'meta' not in f]\n",
    "\n",
    "# for h5_file in tqdm(h5_files, total=len(h5_files)):\n",
    "#     if '_meta' in h5_file:\n",
    "#         continue\n",
    "#     data = suio.load_file(h5_file, params={'h5_key': 'data'})\n",
    "#     data_mask = suio.load_file(h5_file, params={'h5_key': 'data_mask'})\n",
    "#     suio.save_data_h5(h5_file, data, data_mask, auto_chunks=True)"
   ]
  },
  {
   "cell_type": "code",
   "execution_count": 22,
   "metadata": {},
   "outputs": [
    {
     "name": "stdout",
     "output_type": "stream",
     "text": [
      "(21, 1, 32, 64)\n"
     ]
    }
   ],
   "source": []
  },
  {
   "cell_type": "code",
   "execution_count": null,
   "metadata": {},
   "outputs": [],
   "source": []
  }
 ],
 "metadata": {
  "kernelspec": {
   "display_name": "Python (py35gad)",
   "language": "python",
   "name": "py35gad"
  },
  "language_info": {
   "codemirror_mode": {
    "name": "ipython",
    "version": 3
   },
   "file_extension": ".py",
   "mimetype": "text/x-python",
   "name": "python",
   "nbconvert_exporter": "python",
   "pygments_lexer": "ipython3",
   "version": "3.6.0"
  }
 },
 "nbformat": 4,
 "nbformat_minor": 2
}
