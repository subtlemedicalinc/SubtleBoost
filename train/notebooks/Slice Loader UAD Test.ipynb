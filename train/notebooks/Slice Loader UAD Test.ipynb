{
 "cells": [
  {
   "cell_type": "code",
   "execution_count": 1,
   "metadata": {},
   "outputs": [
    {
     "name": "stderr",
     "output_type": "stream",
     "text": [
      "/home/srivathsa/projects/SubtleGad/train/subtle/utils/hyperparameter.py:8: UserWarning: Module test_tube not found - hyperparameter related functions cannot be used\n",
      "  warnings.warn('Module test_tube not found - hyperparameter related functions cannot be used')\n",
      "Using TensorFlow backend.\n"
     ]
    },
    {
     "name": "stdout",
     "output_type": "stream",
     "text": [
      "WARNING:tensorflow:From /home/srivathsa/projects/SubtleGad/train/subtle/subtle_loss.py:19: The name tf.log is deprecated. Please use tf.math.log instead.\n",
      "\n"
     ]
    },
    {
     "name": "stderr",
     "output_type": "stream",
     "text": [
      "/home/srivathsa/miniconda3/envs/py35gad/lib/python3.6/site-packages/dicom/__init__.py:53: UserWarning: \n",
      "This code is using an older version of pydicom, which is no longer \n",
      "maintained as of Jan 2017.  You can access the new pydicom features and API \n",
      "by installing `pydicom` from PyPI.\n",
      "See 'Transitioning to pydicom 1.x' section at pydicom.readthedocs.org \n",
      "for more information.\n",
      "\n",
      "  warnings.warn(msg)\n"
     ]
    },
    {
     "data": {
      "text/plain": [
       "<Figure size 432x288 with 0 Axes>"
      ]
     },
     "metadata": {},
     "output_type": "display_data"
    }
   ],
   "source": [
    "%reload_ext autoreload\n",
    "%autoreload 2\n",
    "\n",
    "import numpy as np\n",
    "import matplotlib.pyplot as plt\n",
    "plt.set_cmap('gray')\n",
    "plt.rcParams['figure.figsize'] = (12, 10)\n",
    "\n",
    "import subtle.utils.io as suio\n",
    "from subtle.data_loaders import SliceLoader\n",
    "from keras.utils.vis_utils import plot_model\n",
    "\n",
    "from subtle.dnn.generators import GeneratorBranchUNet2D, GeneratorIVDNet2D\n",
    "\n",
    "import tensorflow as tf"
   ]
  },
  {
   "cell_type": "code",
   "execution_count": null,
   "metadata": {
    "scrolled": true
   },
   "outputs": [
    {
     "name": "stdout",
     "output_type": "stream",
     "text": [
      "Building ivdnet2d-base model...\n",
      "inputs Tensor(\"model_input_1:0\", shape=(?, 240, 240, 28), dtype=float32)\n"
     ]
    }
   ],
   "source": [
    "model = GeneratorIVDNet2D(img_rows=240, img_cols=240, num_channel_input=28)"
   ]
  },
  {
   "cell_type": "code",
   "execution_count": null,
   "metadata": {
    "scrolled": true
   },
   "outputs": [],
   "source": [
    "plot_model(model.model, to_file='ivdnet.png', show_shapes=True, show_layer_names=True)"
   ]
  },
  {
   "cell_type": "code",
   "execution_count": null,
   "metadata": {},
   "outputs": [],
   "source": [
    "model = GeneratorBranchUNet2D(img_rows=240, img_cols=240, num_channel_input=28, model_config='enc_dec')"
   ]
  },
  {
   "cell_type": "code",
   "execution_count": null,
   "metadata": {},
   "outputs": [],
   "source": [
    "data_loader = SliceLoader(\n",
    "    data_list=['/home/srivathsa/projects/studies/gad/tiantan/preprocess/data_t2_fl/NO39.h5'], \n",
    "    batch_size=8, shuffle=False, verbose=1,\n",
    "    slices_per_input=7, resize=240, slice_axis=[0], input_idx=[0, 1, 3, 4], output_idx=[2],\n",
    "    use_enh_uad=True, use_uad_ch_input=False, uad_ip_channels=7,\n",
    "    fpath_uad_masks=['/home/srivathsa/projects/studies/gad/tiantan/preprocess/uad_masks_fl/NO39.npy'],\n",
    "    uad_mask_path='/home/srivathsa/projects/studies/gad/tiantan/preprocess/uad_masks', uad_file_ext='npy',\n",
    "    predict=False, file_ext='h5'\n",
    ")"
   ]
  },
  {
   "cell_type": "code",
   "execution_count": null,
   "metadata": {},
   "outputs": [],
   "source": [
    "X, Y = data_loader.__getitem__(12)\n",
    "print(X.shape)\n",
    "print(Y.shape)"
   ]
  },
  {
   "cell_type": "code",
   "execution_count": null,
   "metadata": {},
   "outputs": [],
   "source": [
    "xe = X[3, ..., :5].transpose(0, 2, 1)\n",
    "plt.imshow(xe.reshape(240, -1))"
   ]
  },
  {
   "cell_type": "code",
   "execution_count": null,
   "metadata": {},
   "outputs": [],
   "source": [
    "ip_idxs = X.shape[-1] // 7\n",
    "\n",
    "t1_pre = X[0, ..., 4::ip_idxs]\n",
    "print(t1_pre.shape)\n",
    "plt.imshow(t1_pre[..., 0])"
   ]
  },
  {
   "cell_type": "code",
   "execution_count": null,
   "metadata": {},
   "outputs": [],
   "source": [
    "plt.imshow(Y[3, ..., 1])\n",
    "plt.colorbar()\n",
    "\n",
    "print(Y[..., 0].min(), Y[..., 0].max())"
   ]
  },
  {
   "cell_type": "code",
   "execution_count": null,
   "metadata": {},
   "outputs": [],
   "source": []
  }
 ],
 "metadata": {
  "kernelspec": {
   "display_name": "Python (py35gad)",
   "language": "python",
   "name": "py35gad"
  },
  "language_info": {
   "codemirror_mode": {
    "name": "ipython",
    "version": 3
   },
   "file_extension": ".py",
   "mimetype": "text/x-python",
   "name": "python",
   "nbconvert_exporter": "python",
   "pygments_lexer": "ipython3",
   "version": "3.6.1"
  }
 },
 "nbformat": 4,
 "nbformat_minor": 4
}
