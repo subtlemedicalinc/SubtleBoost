{
 "cells": [
  {
   "cell_type": "code",
   "execution_count": 10,
   "id": "40a7160d",
   "metadata": {},
   "outputs": [
    {
     "name": "stdout",
     "output_type": "stream",
     "text": [
      "0.0 11.266024\n",
      "0.0 6.2711368\n",
      "0.0 8.315379\n",
      "0.0 7.653061\n",
      "0.0 11.051597\n"
     ]
    }
   ],
   "source": [
    "from subtle.utils.io import load_h5_file\n",
    "files = [\"/home/srivathsa/projects/studies/gad/tiantan/preprocess/data/NO101.h5\",\n",
    "            \"/home/srivathsa/projects/studies/gad/tiantan/preprocess/data/NO105.h5\",\n",
    "            \"/home/srivathsa/projects/studies/gad/tiantan/preprocess/data/NO110.h5\",\n",
    "            \"/home/srivathsa/projects/studies/gad/tiantan/preprocess/data/NO120.h5\",\n",
    "            \"/home/srivathsa/projects/studies/gad/tiantan/preprocess/data/NO130.h5\"]\n",
    "for file in files:\n",
    "    data = load_h5_file(file)\n",
    "    print(data.min(), data.max())"
   ]
  },
  {
   "cell_type": "code",
   "execution_count": 11,
   "id": "aa3c07f0",
   "metadata": {},
   "outputs": [
    {
     "name": "stdout",
     "output_type": "stream",
     "text": [
      "0.0 11.615875997543336\n",
      "0.0 9.454042768478395\n",
      "0.0 12.030234317779541\n",
      "0.0 8.892781276702882\n",
      "0.0 12.469056386947633\n"
     ]
    }
   ],
   "source": [
    "files = [\"/home/srivathsa/projects/studies/gad/tiantan/preprocess/data/NO26.h5\",\n",
    "            \"/home/srivathsa/projects/studies/gad/tiantan/preprocess/data/NO36.h5\",\n",
    "            \"/home/srivathsa/projects/studies/gad/tiantan/preprocess/data/NO46.h5\",\n",
    "            \"/home/srivathsa/projects/studies/gad/tiantan/preprocess/data/NO56.h5\",\n",
    "            \"/home/srivathsa/projects/studies/gad/tiantan/preprocess/data/NO70.h5\"]\n",
    "for file in files:\n",
    "    data = load_h5_file(file)\n",
    "    print(data.min(), data.max())"
   ]
  },
  {
   "cell_type": "code",
   "execution_count": 3,
   "id": "b1aee82e",
   "metadata": {},
   "outputs": [],
   "source": [
    "data = load_h5_file(filename)"
   ]
  },
  {
   "cell_type": "code",
   "execution_count": 6,
   "id": "c2057192",
   "metadata": {},
   "outputs": [
    {
     "name": "stdout",
     "output_type": "stream",
     "text": [
      "0.0 11.266024\n"
     ]
    }
   ],
   "source": [
    "print(data.min(), data.max())"
   ]
  },
  {
   "cell_type": "code",
   "execution_count": 5,
   "id": "8745ce2f",
   "metadata": {},
   "outputs": [
    {
     "data": {
      "text/plain": [
       "0.0"
      ]
     },
     "execution_count": 5,
     "metadata": {},
     "output_type": "execute_result"
    }
   ],
   "source": [
    "data.min()"
   ]
  },
  {
   "cell_type": "code",
   "execution_count": null,
   "id": "4732afce",
   "metadata": {},
   "outputs": [],
   "source": []
  }
 ],
 "metadata": {
  "kernelspec": {
   "display_name": "Python 3",
   "language": "python",
   "name": "python3"
  },
  "language_info": {
   "codemirror_mode": {
    "name": "ipython",
    "version": 3
   },
   "file_extension": ".py",
   "mimetype": "text/x-python",
   "name": "python",
   "nbconvert_exporter": "python",
   "pygments_lexer": "ipython3",
   "version": "3.9.5"
  }
 },
 "nbformat": 4,
 "nbformat_minor": 5
}
