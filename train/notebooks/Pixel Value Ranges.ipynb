{
 "cells": [
  {
   "cell_type": "markdown",
   "metadata": {},
   "source": [
    "Notebook to compile and compare pixel value ranges of different manufacturers"
   ]
  },
  {
   "cell_type": "code",
   "execution_count": 8,
   "metadata": {},
   "outputs": [],
   "source": [
    "import numpy as np\n",
    "import h5py\n",
    "import pandas as pd\n",
    "from glob import glob\n",
    "from tqdm import tqdm_notebook as tqdm\n",
    "\n",
    "def pixel_metrics(fpath_h5):\n",
    "    key = 'data_mask' if 'stanford' in fpath_h5 else 'data'\n",
    "    f = h5py.File(fpath_h5)\n",
    "    scan_volume = np.array(f[key])\n",
    "    contrasts = ['zero', 'low', 'full']\n",
    "    metrics = {}\n",
    "    for i, cont in enumerate(contrasts):\n",
    "        metrics[cont] = (\n",
    "            scan_volume[:, i, ...].max(),\n",
    "            scan_volume[:, i, ...].mean()\n",
    "        )\n",
    "    \n",
    "    f.close()\n",
    "    return metrics\n",
    "\n",
    "def compile_metrics(h5_base):\n",
    "    print('Processing dir {}'.format(h5_base))\n",
    "    metrics = []\n",
    "    h5_files = [fpath_h5 for fpath_h5 in glob('{}/*.h5'.format(h5_base))]\n",
    "        \n",
    "    for fpath_h5 in tqdm(h5_files, total=len(h5_files)):\n",
    "        metrics.append(pixel_metrics(fpath_h5))\n",
    "    \n",
    "    get_metric = lambda cont, m: [d[cont][m] for d in metrics]\n",
    "    \n",
    "    return {\n",
    "        'Zero max': np.mean(get_metric('zero', 0)),\n",
    "        'Zero mean': np.mean(get_metric('zero', 1)),\n",
    "        'Low max': np.mean(get_metric('low', 0)),\n",
    "        'Low mean': np.mean(get_metric('low', 1)),\n",
    "        'Full max': np.mean(get_metric('full', 0)),\n",
    "        'Full mean': np.mean(get_metric('full', 1))\n",
    "    }"
   ]
  },
  {
   "cell_type": "code",
   "execution_count": 9,
   "metadata": {},
   "outputs": [
    {
     "name": "stdout",
     "output_type": "stream",
     "text": [
      "Processing dir /home/srivathsa/projects/studies/gad/stanford/preprocess/data\n"
     ]
    },
    {
     "data": {
      "application/vnd.jupyter.widget-view+json": {
       "model_id": "aba3b1adbb8c4c8794979c4d5a5c1358",
       "version_major": 2,
       "version_minor": 0
      },
      "text/plain": [
       "HBox(children=(IntProgress(value=0, max=37), HTML(value='')))"
      ]
     },
     "metadata": {},
     "output_type": "display_data"
    },
    {
     "name": "stdout",
     "output_type": "stream",
     "text": [
      "\n"
     ]
    }
   ],
   "source": [
    "metrics = {\n",
    "    'Tiantan (PHILIPS)': compile_metrics('/home/srivathsa/projects/studies/gad/tiantan_pp/data'),\n",
    "    'Hoag (SIEMENS)': compile_metrics('/home/srivathsa/projects/studies/gad/hoag/preprocess/data'),\n",
    "    'Stanford (GE)': compile_metrics('/home/srivathsa/projects/studies/gad/stanford/preprocess/data')\n",
    "}"
   ]
  },
  {
   "cell_type": "code",
   "execution_count": 10,
   "metadata": {},
   "outputs": [
    {
     "data": {
      "text/html": [
       "<div>\n",
       "<style scoped>\n",
       "    .dataframe tbody tr th:only-of-type {\n",
       "        vertical-align: middle;\n",
       "    }\n",
       "\n",
       "    .dataframe tbody tr th {\n",
       "        vertical-align: top;\n",
       "    }\n",
       "\n",
       "    .dataframe thead th {\n",
       "        text-align: right;\n",
       "    }\n",
       "</style>\n",
       "<table border=\"1\" class=\"dataframe\">\n",
       "  <thead>\n",
       "    <tr style=\"text-align: right;\">\n",
       "      <th></th>\n",
       "      <th>Stanford (GE)</th>\n",
       "    </tr>\n",
       "  </thead>\n",
       "  <tbody>\n",
       "    <tr>\n",
       "      <th>Full max</th>\n",
       "      <td>3.938186</td>\n",
       "    </tr>\n",
       "    <tr>\n",
       "      <th>Full mean</th>\n",
       "      <td>0.196733</td>\n",
       "    </tr>\n",
       "    <tr>\n",
       "      <th>Low max</th>\n",
       "      <td>3.589773</td>\n",
       "    </tr>\n",
       "    <tr>\n",
       "      <th>Low mean</th>\n",
       "      <td>0.193826</td>\n",
       "    </tr>\n",
       "    <tr>\n",
       "      <th>Zero max</th>\n",
       "      <td>3.398113</td>\n",
       "    </tr>\n",
       "    <tr>\n",
       "      <th>Zero mean</th>\n",
       "      <td>0.193507</td>\n",
       "    </tr>\n",
       "  </tbody>\n",
       "</table>\n",
       "</div>"
      ],
      "text/plain": [
       "           Stanford (GE)\n",
       "Full max        3.938186\n",
       "Full mean       0.196733\n",
       "Low max         3.589773\n",
       "Low mean        0.193826\n",
       "Zero max        3.398113\n",
       "Zero mean       0.193507"
      ]
     },
     "execution_count": 10,
     "metadata": {},
     "output_type": "execute_result"
    }
   ],
   "source": [
    "df_metrics = pd.DataFrame(metrics)\n",
    "df_metrics"
   ]
  },
  {
   "cell_type": "code",
   "execution_count": null,
   "metadata": {},
   "outputs": [],
   "source": []
  }
 ],
 "metadata": {
  "kernelspec": {
   "display_name": "Python (py35gad)",
   "language": "python",
   "name": "py35gad"
  },
  "language_info": {
   "codemirror_mode": {
    "name": "ipython",
    "version": 3
   },
   "file_extension": ".py",
   "mimetype": "text/x-python",
   "name": "python",
   "nbconvert_exporter": "python",
   "pygments_lexer": "ipython3",
   "version": "3.5.6"
  }
 },
 "nbformat": 4,
 "nbformat_minor": 2
}
