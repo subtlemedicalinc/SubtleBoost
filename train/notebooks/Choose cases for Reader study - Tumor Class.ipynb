{
 "cells": [
  {
   "cell_type": "code",
   "execution_count": 7,
   "metadata": {},
   "outputs": [
    {
     "name": "stderr",
     "output_type": "stream",
     "text": [
      "/home/srivathsa/projects/SubtleGad/train/subtle/utils/hyperparameter.py:8: UserWarning: Module test_tube not found - hyperparameter related functions cannot be used\n",
      "  warnings.warn('Module test_tube not found - hyperparameter related functions cannot be used')\n"
     ]
    }
   ],
   "source": [
    "import pandas as pd\n",
    "from subtle.utils.experiment import get_experiment_data\n",
    "import numpy as np\n",
    "from glob import glob\n",
    "\n",
    "np.random.seed(4782)"
   ]
  },
  {
   "cell_type": "code",
   "execution_count": 20,
   "metadata": {},
   "outputs": [],
   "source": [
    "dirpath_csv = '/home/srivathsa/projects/TumorClasses'\n",
    "csv_files = glob('{}/*.csv'.format(dirpath_csv))\n",
    "\n",
    "train_set = get_experiment_data(\n",
    "    'super_model', dirpath_exp='/home/srivathsa/projects/SubtleGad/train/configs/experiments',\n",
    "    dataset='train'\n",
    ")\n",
    "\n",
    "case_dict = []\n",
    "\n",
    "for fpath_csv in csv_files:\n",
    "    csv_dict = pd.read_csv(fpath_csv).to_dict(orient='records')\n",
    "    case_dict.extend(csv_dict)\n",
    "\n",
    "case_dict = [d for d in case_dict if d['Case'] not in train_set]"
   ]
  },
  {
   "cell_type": "code",
   "execution_count": 60,
   "metadata": {},
   "outputs": [],
   "source": [
    "df_cases = pd.DataFrame(case_dict)"
   ]
  },
  {
   "cell_type": "code",
   "execution_count": 61,
   "metadata": {},
   "outputs": [],
   "source": [
    "groups = df_cases.groupby(['Class', 'Manufacturer'])"
   ]
  },
  {
   "cell_type": "code",
   "execution_count": 62,
   "metadata": {
    "scrolled": false
   },
   "outputs": [],
   "source": [
    "sampled_cases = []\n",
    "group_counts = [6, 5, 5, 6, 6, 5, 6, 5, 6]\n",
    "for i, g in enumerate(groups):\n",
    "    (tumor_class, mfr), group_mem = g\n",
    "    \n",
    "    group_cases = list(group_mem['Case'])\n",
    "    num_samples = group_counts[i]\n",
    "    \n",
    "    cases = np.random.choice(group_cases, num_samples)\n",
    "    sampled_cases.extend([(tumor_class, c) for c in cases])"
   ]
  },
  {
   "cell_type": "code",
   "execution_count": 63,
   "metadata": {},
   "outputs": [
    {
     "data": {
      "text/plain": [
       "[(0, 'Patient_0090'),\n",
       " (0, 'Patient_0375'),\n",
       " (0, 'Patient_0535'),\n",
       " (0, 'Patient_0575'),\n",
       " (0, 'Patient_0556'),\n",
       " (0, 'Patient_0400'),\n",
       " (0, 'NO54'),\n",
       " (0, 'NO26'),\n",
       " (0, 'NO130'),\n",
       " (0, 'NO55'),\n",
       " (0, 'NO79'),\n",
       " (0, 'Prisma4'),\n",
       " (0, 'Id0032'),\n",
       " (0, 'Patient_0087'),\n",
       " (0, '101_Id_066'),\n",
       " (0, '101_Id_051'),\n",
       " (1, 'Patient_0353'),\n",
       " (1, 'Patient_0526'),\n",
       " (1, 'Patient_0134'),\n",
       " (1, 'Patient_0172'),\n",
       " (1, 'Patient_0342'),\n",
       " (1, 'Patient_0408'),\n",
       " (1, 'NO129'),\n",
       " (1, 'NO113'),\n",
       " (1, 'NO18'),\n",
       " (1, 'NO6'),\n",
       " (1, 'NO71'),\n",
       " (1, 'NO56'),\n",
       " (1, 'Patient_0255'),\n",
       " (1, 'Prisma6'),\n",
       " (1, 'Patient_0538'),\n",
       " (1, 'Prisma1'),\n",
       " (1, 'Prisma9'),\n",
       " (2, 'Patient_0178'),\n",
       " (2, 'Patient_0486'),\n",
       " (2, 'Patient_0157'),\n",
       " (2, 'Patient_0173'),\n",
       " (2, 'Patient_0269'),\n",
       " (2, 'Patient_0276'),\n",
       " (2, 'NO108'),\n",
       " (2, 'NO67'),\n",
       " (2, 'NO120'),\n",
       " (2, 'NO60'),\n",
       " (2, 'NO62'),\n",
       " (2, 'Prisma3'),\n",
       " (2, 'Prisma22'),\n",
       " (2, 'Prisma21'),\n",
       " (2, 'Patient_0286'),\n",
       " (2, 'Prisma21'),\n",
       " (2, 'Patient_0333')]"
      ]
     },
     "execution_count": 63,
     "metadata": {},
     "output_type": "execute_result"
    }
   ],
   "source": [
    "sampled_cases"
   ]
  },
  {
   "cell_type": "code",
   "execution_count": 67,
   "metadata": {},
   "outputs": [
    {
     "name": "stdout",
     "output_type": "stream",
     "text": [
      "Patient_0090 GE\n",
      "Patient_0375 GE\n",
      "Patient_0535 GE\n",
      "Patient_0575 GE\n",
      "Patient_0556 GE\n",
      "Patient_0400 GE\n",
      "Patient_0087 Siemens\n",
      "Patient_0353 GE\n",
      "Patient_0526 GE\n",
      "Patient_0134 GE\n",
      "Patient_0172 GE\n",
      "Patient_0342 GE\n",
      "Patient_0408 GE\n",
      "Patient_0255 Siemens\n",
      "Patient_0538 Siemens\n",
      "Patient_0178 GE\n",
      "Patient_0486 GE\n",
      "Patient_0157 GE\n",
      "Patient_0173 GE\n",
      "Patient_0269 GE\n",
      "Patient_0276 GE\n",
      "Patient_0286 Siemens\n",
      "Patient_0333 Siemens\n"
     ]
    }
   ],
   "source": [
    "for sc in sampled_cases:\n",
    "#     if 'Patient' in sc[1]:\n",
    "#         mfr = [c for c in case_dict if c['Case'] == sc[1]][0]['Manufacturer']\n",
    "#         print(sc[1], mfr)"
   ]
  },
  {
   "cell_type": "code",
   "execution_count": 11,
   "metadata": {},
   "outputs": [],
   "source": [
    "sampled_cases = [\n",
    "    \"101_Id_051\", \"101_Id_066\", \"Id0032\", \"NO108\", \"NO113\", \"NO120\", \"NO129\", \"NO130\", \"NO18\", \"NO26\", \"NO54\", \"NO55\",\n",
    "    \"NO56\", \"NO6\", \"NO60\", \"NO62\", \"NO67\", \"NO71\", \"NO79\", \"Patient_0087\", \"Patient_0090\", \"Patient_0134\", \n",
    "    \"Patient_0157\", \"Patient_0172\", \"Patient_0173\", \"Patient_0178\", \"Patient_0255\", \"Patient_0269\", \"Patient_0276\", \n",
    "    \"Patient_0286\", \"Patient_0333\", \"Patient_0342\", \"Patient_0353\", \"Patient_0375\", \"Patient_0400\", \"Patient_0408\", \n",
    "    \"Patient_0486\", \"Patient_0526\", \"Patient_0535\", \"Patient_0538\", \"Patient_0556\", \"Patient_0575\", \"Prisma1\", \n",
    "    \"Prisma21\", \"Prisma22\", \"Prisma23\", \"Prisma3\", \"Prisma4\", \"Prisma6\", \"Prisma9\"\n",
    "]\n",
    "gad_cases = ['SubtleGad:{}'.format(case) for case in sampled_cases]\n",
    "all_cases = sampled_cases + gad_cases"
   ]
  },
  {
   "cell_type": "code",
   "execution_count": 12,
   "metadata": {},
   "outputs": [
    {
     "data": {
      "text/plain": [
       "100"
      ]
     },
     "execution_count": 12,
     "metadata": {},
     "output_type": "execute_result"
    }
   ],
   "source": [
    "len(all_cases)"
   ]
  },
  {
   "cell_type": "code",
   "execution_count": 13,
   "metadata": {},
   "outputs": [],
   "source": [
    "for _ in range(5):\n",
    "    np.random.shuffle(all_cases)"
   ]
  },
  {
   "cell_type": "code",
   "execution_count": 24,
   "metadata": {},
   "outputs": [
    {
     "name": "stdout",
     "output_type": "stream",
     "text": [
      "Case0001,SubtleGad:Prisma6,1\n",
      "Case0002,101_Id_051,0\n",
      "Case0003,SubtleGad:NO120,2\n",
      "Case0004,SubtleGad:Patient_0575,0\n",
      "Case0005,Patient_0157,2\n",
      "Case0006,SubtleGad:NO56,1\n",
      "Case0007,Patient_0286,2\n",
      "Case0008,NO56,1\n",
      "Case0009,Prisma3,2\n",
      "Case0010,SubtleGad:Patient_0087,0\n",
      "Case0011,SubtleGad:Prisma23,2\n",
      "Case0012,NO79,0\n",
      "Case0013,SubtleGad:Patient_0134,1\n",
      "Case0014,SubtleGad:NO62,2\n",
      "Case0015,SubtleGad:NO60,2\n",
      "Case0016,SubtleGad:Patient_0276,2\n",
      "Case0017,101_Id_066,0\n",
      "Case0018,Patient_0486,2\n",
      "Case0019,NO113,1\n",
      "Case0020,SubtleGad:NO26,0\n",
      "Case0021,SubtleGad:Prisma3,2\n",
      "Case0022,Patient_0178,2\n",
      "Case0023,NO67,2\n",
      "Case0024,Id0032,0\n",
      "Case0025,Patient_0090,0\n",
      "Case0026,SubtleGad:Patient_0342,1\n",
      "Case0027,Prisma4,0\n",
      "Case0028,SubtleGad:NO18,1\n",
      "Case0029,Patient_0276,2\n",
      "Case0030,SubtleGad:NO6,1\n",
      "Case0031,SubtleGad:Prisma22,2\n",
      "Case0032,SubtleGad:NO108,2\n",
      "Case0033,SubtleGad:Patient_0178,2\n",
      "Case0034,SubtleGad:Patient_0286,2\n",
      "Case0035,Prisma6,1\n",
      "Case0036,SubtleGad:Patient_0556,0\n",
      "Case0037,NO130,0\n",
      "Case0038,SubtleGad:Patient_0090,0\n",
      "Case0039,NO62,2\n",
      "Case0040,SubtleGad:Patient_0173,2\n",
      "Case0041,Prisma1,1\n",
      "Case0042,SubtleGad:Prisma9,1\n",
      "Case0043,SubtleGad:NO55,0\n",
      "Case0044,Patient_0408,1\n",
      "Case0045,SubtleGad:101_Id_066,0\n",
      "Case0046,Patient_0353,1\n",
      "Case0047,SubtleGad:NO54,0\n",
      "Case0048,SubtleGad:Patient_0353,1\n",
      "Case0049,SubtleGad:Patient_0535,0\n",
      "Case0050,SubtleGad:Patient_0538,1\n",
      "Case0051,SubtleGad:Patient_0486,2\n",
      "Case0052,Prisma9,1\n",
      "Case0053,Prisma22,2\n",
      "Case0054,SubtleGad:NO113,1\n",
      "Case0055,NO120,2\n",
      "Case0056,NO18,1\n",
      "Case0057,SubtleGad:NO130,0\n",
      "Case0058,Patient_0400,0\n",
      "Case0059,Patient_0172,1\n",
      "Case0060,Patient_0333,2\n",
      "Case0061,Patient_0087,0\n",
      "Case0062,Patient_0535,0\n",
      "Case0063,SubtleGad:NO71,1\n",
      "Case0064,SubtleGad:Prisma21,2\n",
      "Case0065,Patient_0375,0\n",
      "Case0066,SubtleGad:Patient_0255,1\n",
      "Case0067,SubtleGad:Patient_0526,1\n",
      "Case0068,SubtleGad:Patient_0375,0\n",
      "Case0069,Patient_0342,1\n",
      "Case0070,SubtleGad:Patient_0269,2\n",
      "Case0071,SubtleGad:Patient_0400,0\n",
      "Case0072,NO71,1\n",
      "Case0073,NO129,1\n",
      "Case0074,SubtleGad:Prisma1,1\n",
      "Case0075,SubtleGad:101_Id_051,0\n",
      "Case0076,SubtleGad:Patient_0172,1\n",
      "Case0077,Patient_0526,1\n",
      "Case0078,SubtleGad:NO79,0\n",
      "Case0079,SubtleGad:Patient_0408,1\n",
      "Case0080,SubtleGad:Patient_0157,2\n",
      "Case0081,Patient_0134,1\n",
      "Case0082,SubtleGad:NO129,1\n",
      "Case0083,NO55,0\n",
      "Case0084,NO60,2\n",
      "Case0085,SubtleGad:Patient_0333,2\n",
      "Case0086,SubtleGad:NO67,2\n",
      "Case0087,NO54,0\n",
      "Case0088,Patient_0269,2\n",
      "Case0089,Patient_0556,0\n",
      "Case0090,Patient_0538,1\n",
      "Case0091,Patient_0173,2\n",
      "Case0092,Patient_0255,1\n",
      "Case0093,SubtleGad:Id0032,0\n",
      "Case0094,Prisma21,2\n",
      "Case0095,SubtleGad:Prisma4,0\n",
      "Case0096,NO108,2\n",
      "Case0097,Prisma23,2\n",
      "Case0098,NO26,0\n",
      "Case0099,NO6,1\n",
      "Case0100,Patient_0575,0\n"
     ]
    }
   ],
   "source": [
    "for idx in range(1, 101):\n",
    "    case_num = 'Case{:04d}'.format(idx)\n",
    "    patient_id = all_cases[idx-1].replace('SubtleGad:', '')\n",
    "    tumor_class = [d for d in case_dict if d['Case'] == patient_id][0]['Class']\n",
    "    print('{},{},{}'.format(case_num, all_cases[idx-1], tumor_class))"
   ]
  },
  {
   "cell_type": "code",
   "execution_count": null,
   "metadata": {},
   "outputs": [],
   "source": []
  }
 ],
 "metadata": {
  "kernelspec": {
   "display_name": "Python (py35gad)",
   "language": "python",
   "name": "py35gad"
  },
  "language_info": {
   "codemirror_mode": {
    "name": "ipython",
    "version": 3
   },
   "file_extension": ".py",
   "mimetype": "text/x-python",
   "name": "python",
   "nbconvert_exporter": "python",
   "pygments_lexer": "ipython3",
   "version": "3.6.1"
  }
 },
 "nbformat": 4,
 "nbformat_minor": 4
}
