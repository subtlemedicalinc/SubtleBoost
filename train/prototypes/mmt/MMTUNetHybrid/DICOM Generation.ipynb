{
 "cells": [
  {
   "cell_type": "code",
   "execution_count": 2,
   "id": "4b1e3bd1",
   "metadata": {},
   "outputs": [
    {
     "name": "stderr",
     "output_type": "stream",
     "text": [
      "/home/srivathsa/projects/SubtleGad/train/subtle/utils/hyperparameter.py:8: UserWarning: Module test_tube not found - hyperparameter related functions cannot be used\n",
      "  warnings.warn('Module test_tube not found - hyperparameter related functions cannot be used')\n"
     ]
    },
    {
     "data": {
      "text/plain": [
       "<Figure size 432x288 with 0 Axes>"
      ]
     },
     "metadata": {},
     "output_type": "display_data"
    }
   ],
   "source": [
    "import os\n",
    "import matplotlib.pyplot as plt\n",
    "import nibabel as nib\n",
    "from glob import glob\n",
    "from PIL import Image\n",
    "from tqdm import tqdm_notebook as tqdm\n",
    "import pydicom\n",
    "import numpy as np\n",
    "from scipy.ndimage import zoom\n",
    "import SimpleITK as sitk\n",
    "from subtle.subtle_preprocess import register_im, dcm_to_sitk\n",
    "from subtle.utils.io import dicom_files, write_dicoms\n",
    "\n",
    "plt.set_cmap('gray')\n",
    "plt.rcParams['figure.figsize'] = (12, 10)\n",
    "\n",
    "import ipywidgets as widgets\n",
    "from ipywidgets import interact, interact_manual\n",
    "\n",
    "os.environ[\"CUDA_DEVICE_ORDER\"] = \"PCI_BUS_ID\"\n",
    "os.environ[\"CUDA_VISIBLE_DEVICES\"] = \"0\"\n",
    "\n",
    "def get_input_vol(base_path, split, cnum):\n",
    "    case_dir = os.path.join(base_path, split, cnum)\n",
    "    np_files = sorted([f for f in glob('{}/*.npy'.format(case_dir))])\n",
    "    return np.array([np.load(f) for f in np_files])\n",
    "\n",
    "def nifti2dicom(fpath_nii, dcm_template, out_dir, patient_id, series_desc, series_num, study_uid):\n",
    "    nib_arr = nib.load(fpath_nii).get_fdata()\n",
    "    nib_arr = nib_arr.transpose(2, 0, 1)\n",
    "    nib_arr = np.rot90(nib_arr, axes=(1, 2))\n",
    "\n",
    "    write_dicoms(\n",
    "        dcm_template, nib_arr, out_dir, patient_id=patient_id, series_desc_pre='', desc=series_desc, \n",
    "        series_desc_post='', series_num=series_num, study_uid=study_uid\n",
    "    )"
   ]
  },
  {
   "cell_type": "markdown",
   "id": "403672f1",
   "metadata": {},
   "source": [
    "### IXI Nifti to DICOM"
   ]
  },
  {
   "cell_type": "code",
   "execution_count": 19,
   "id": "fbbd3ea7",
   "metadata": {},
   "outputs": [
    {
     "name": "stdout",
     "output_type": "stream",
     "text": [
      "['IXI020-Guys-0700', 'IXI025-Guys-0852', 'IXI030-Guys-0708', 'IXI051-HH-1328', 'IXI055-Guys-0730', 'IXI066-Guys-0731', 'IXI074-Guys-0771', 'IXI098-Guys-0745', 'IXI106-Guys-0760', 'IXI229-Guys-0980', 'IXI260-HH-1805', 'IXI304-Guys-0862', 'IXI331-IOP-0892', 'IXI358-Guys-0919', 'IXI416-Guys-1051', 'IXI422-Guys-1071', 'IXI450-Guys-1093', 'IXI456-Guys-1019', 'IXI468-Guys-0985', 'IXI482-HH-2178', 'IXI560-Guys-1070', 'IXI566-HH-2535', 'IXI575-HH-2658', 'IXI588-IOP-1158', 'IXI605-HH-2598', 'IXI616-Guys-1092', 'IXI662-Guys-1120']\n"
     ]
    }
   ],
   "source": [
    "snum_map = {\n",
    "    'T1': 100,\n",
    "    'T2': 110,\n",
    "    'MRA': 120\n",
    "}\n",
    "\n",
    "case_base = '/mnt/datasets/srivathsa/jiang_raid/projects/SubtleGAN/data/IXI/IXI_MRA/split/val'\n",
    "cases = sorted([c.split('/')[-1] for c in glob('{}/*'.format(case_base))])\n",
    "print(cases)\n",
    "# bpath = '/mnt/datasets/srivathsa/jiang_raid/projects/SubtleGAN/data/IXI/IXI_MRA/coreg'\n",
    "# dest_path = '/mnt/datasets/srivathsa/jiang_raid/projects/SubtleGAN/data/IXI/IXI_MRA/dcms'\n",
    "# dcm_temp = '/mnt/datasets/srivathsa/jiang_raid/projects/SubtleGAN/data/IXI/IXI_MRA/dcms/IXI017-Guys-0698/120_MRA'\n",
    "# proc_cases = sorted([c.split('/')[-1] for c in glob('{}/IXI*'.format(dest_path))])\n",
    "# cases = sorted([c for c in cases if c not in proc_cases])\n",
    "\n",
    "# cons = [c for c in snum_map.keys()]\n",
    "\n",
    "# for cnum in tqdm(cases, total=len(cases)):\n",
    "#     try:\n",
    "#         study_uid = pydicom.uid.generate_uid()\n",
    "\n",
    "#         for con_str in cons:\n",
    "#             fpath_nii = '{}/{}/{}-{}.nii.gz'.format(bpath, cnum, cnum, con_str)\n",
    "#             snum = snum_map[con_str]\n",
    "#             ser_desc = '{}_{}'.format(snum, con_str)\n",
    "#             dcm_out = '{}/{}/{}'.format(dest_path, cnum, ser_desc)\n",
    "#             nifti2dicom(fpath_nii, dcm_temp, dcm_out, cnum, ser_desc, snum, study_uid)\n",
    "#     except Exception as err:\n",
    "#         print('Could not process {}:{}'.format(cnum, err))"
   ]
  },
  {
   "cell_type": "code",
   "execution_count": 22,
   "id": "6f0c662a",
   "metadata": {},
   "outputs": [
    {
     "data": {
      "text/plain": [
       "27"
      ]
     },
     "execution_count": 22,
     "metadata": {},
     "output_type": "execute_result"
    }
   ],
   "source": []
  },
  {
   "cell_type": "code",
   "execution_count": null,
   "id": "705debdb",
   "metadata": {},
   "outputs": [],
   "source": [
    "soc_dcm, _ = dicom_files('/home/srivathsa/projects/studies/gad/stanford/data/Patient_0101/13_Ax_BRAVO+C')\n",
    "syn_dcm, _ = dicom_files('/home/srivathsa/projects/studies/gad/stanford/data/MDI_test/Patient_0101/flair_synth')"
   ]
  },
  {
   "cell_type": "code",
   "execution_count": null,
   "id": "2ccdc7e5",
   "metadata": {},
   "outputs": [],
   "source": [
    "print(soc_dcm.shape, syn_dcm.shape)"
   ]
  },
  {
   "cell_type": "code",
   "execution_count": null,
   "id": "0eadff1a",
   "metadata": {},
   "outputs": [],
   "source": [
    "plt.imshow(soc_dcm[168])"
   ]
  },
  {
   "cell_type": "code",
   "execution_count": null,
   "id": "a3be7eac",
   "metadata": {},
   "outputs": [],
   "source": [
    "plt.imshow(syn_dcm[168])"
   ]
  },
  {
   "cell_type": "code",
   "execution_count": null,
   "id": "46746cce",
   "metadata": {},
   "outputs": [],
   "source": []
  }
 ],
 "metadata": {
  "kernelspec": {
   "display_name": "Python (mmt)",
   "language": "python",
   "name": "mmt"
  },
  "language_info": {
   "codemirror_mode": {
    "name": "ipython",
    "version": 3
   },
   "file_extension": ".py",
   "mimetype": "text/x-python",
   "name": "python",
   "nbconvert_exporter": "python",
   "pygments_lexer": "ipython3",
   "version": "3.9.5"
  }
 },
 "nbformat": 4,
 "nbformat_minor": 5
}
