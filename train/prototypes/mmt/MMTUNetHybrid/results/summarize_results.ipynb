{
 "cells": [
  {
   "cell_type": "code",
   "execution_count": 1,
   "id": "c3e3db39",
   "metadata": {},
   "outputs": [],
   "source": [
    "from openpyxl import load_workbook, Workbook\n",
    "import numpy as np"
   ]
  },
  {
   "cell_type": "code",
   "execution_count": 3,
   "id": "8d53a3e8",
   "metadata": {},
   "outputs": [],
   "source": [
    "def get_results(filenames, contrast, metric):\n",
    "    col_dict = {'MSE': 1, 'MAE':2, 'SSIM':3, 'PSNR':4, \"LPIPS\":5}\n",
    "    numbers = []\n",
    "    for filename in filenames:\n",
    "        wb = load_workbook(filename)\n",
    "        ws = wb[contrast]\n",
    "        column = col_dict[metric]\n",
    "        rows = list(ws.rows)\n",
    "        # skip the first row\n",
    "        for row in rows[1:]:\n",
    "            numbers.append(row[column].value)\n",
    "    return np.mean(numbers), np.std(numbers)"
   ]
  },
  {
   "cell_type": "code",
   "execution_count": 4,
   "id": "82dcebd6",
   "metadata": {},
   "outputs": [],
   "source": [
    "def parse_scenario(scenario, contrast):\n",
    "    output = []\n",
    "    for s, contrast in zip(scenario, contrast):\n",
    "        if s == '0':\n",
    "            output.append(contrast)\n",
    "    return output"
   ]
  },
  {
   "cell_type": "code",
   "execution_count": 22,
   "id": "2c518119",
   "metadata": {},
   "outputs": [],
   "source": [
    "dataset = 'IXI'\n",
    "model = 'single'\n",
    "scenarios = ['011', '101', '110']\n",
    "contrasts = ['T1', 'T2', 'PD']\n",
    "column_dict = {'T1': 3, 'T2': 4, 'PD': 5}\n",
    "methods = ['MILR', 'MMGAN', 'MMT_new_0217', 'ResViT_28'] #, 'ResViT']\n",
    "metrics = ['SSIM', 'PSNR', 'LPIPS']\n",
    "\n",
    "for metric in metrics:\n",
    "    wb = Workbook()\n",
    "    ws = wb.active\n",
    "    ws.cell(1, 1).value = 'Input'\n",
    "    ws.cell(1, 2).value = 'Method'\n",
    "    for i, contrast in enumerate(contrasts):\n",
    "        ws.cell(1, 3+i).value = contrast\n",
    "    current_row = 2\n",
    "    for scenario in scenarios:\n",
    "        output_contrasts = parse_scenario(scenario, contrasts)\n",
    "        ws.cell(current_row, 1).value = scenario\n",
    "        ws.merge_cells(start_row=current_row, start_column=1, end_row=current_row+len(methods)-1, end_column=1)\n",
    "        for method in methods:\n",
    "            fn = f'{dataset}/{model}/{method}/{scenario}.xlsx'\n",
    "            for output_contrast in output_contrasts:\n",
    "                mean, std = get_results([fn], output_contrast, metric)\n",
    "                ws.cell(current_row, 2).value = method\n",
    "                ws.cell(current_row, column_dict[output_contrast]).value = f'{mean:.4f}±{std:.4f}'\n",
    "            current_row += 1\n",
    "    wb.save(f\"{dataset}_{model}_{metric}.xlsx\")\n",
    "                \n",
    "        "
   ]
  },
  {
   "cell_type": "code",
   "execution_count": 21,
   "id": "766973a7",
   "metadata": {},
   "outputs": [
    {
     "ename": "FileNotFoundError",
     "evalue": "[Errno 2] No such file or directory: 'BRATS/single/ResViT_28/0111.xlsx'",
     "output_type": "error",
     "traceback": [
      "\u001b[0;31m---------------------------------------------------------------------------\u001b[0m",
      "\u001b[0;31mFileNotFoundError\u001b[0m                         Traceback (most recent call last)",
      "\u001b[0;32m/tmp/ipykernel_4040849/1017385727.py\u001b[0m in \u001b[0;36m<module>\u001b[0;34m\u001b[0m\n\u001b[1;32m     22\u001b[0m             \u001b[0mfn\u001b[0m \u001b[0;34m=\u001b[0m \u001b[0;34mf'{dataset}/{model}/{method}/{scenario}.xlsx'\u001b[0m\u001b[0;34m\u001b[0m\u001b[0;34m\u001b[0m\u001b[0m\n\u001b[1;32m     23\u001b[0m             \u001b[0;32mfor\u001b[0m \u001b[0moutput_contrast\u001b[0m \u001b[0;32min\u001b[0m \u001b[0moutput_contrasts\u001b[0m\u001b[0;34m:\u001b[0m\u001b[0;34m\u001b[0m\u001b[0;34m\u001b[0m\u001b[0m\n\u001b[0;32m---> 24\u001b[0;31m                 \u001b[0mmean\u001b[0m\u001b[0;34m,\u001b[0m \u001b[0mstd\u001b[0m \u001b[0;34m=\u001b[0m \u001b[0mget_results\u001b[0m\u001b[0;34m(\u001b[0m\u001b[0;34m[\u001b[0m\u001b[0mfn\u001b[0m\u001b[0;34m]\u001b[0m\u001b[0;34m,\u001b[0m \u001b[0moutput_contrast\u001b[0m\u001b[0;34m,\u001b[0m \u001b[0mmetric\u001b[0m\u001b[0;34m)\u001b[0m\u001b[0;34m\u001b[0m\u001b[0;34m\u001b[0m\u001b[0m\n\u001b[0m\u001b[1;32m     25\u001b[0m                 \u001b[0mws\u001b[0m\u001b[0;34m.\u001b[0m\u001b[0mcell\u001b[0m\u001b[0;34m(\u001b[0m\u001b[0mcurrent_row\u001b[0m\u001b[0;34m,\u001b[0m \u001b[0;36m2\u001b[0m\u001b[0;34m)\u001b[0m\u001b[0;34m.\u001b[0m\u001b[0mvalue\u001b[0m \u001b[0;34m=\u001b[0m \u001b[0mmethod\u001b[0m\u001b[0;34m\u001b[0m\u001b[0;34m\u001b[0m\u001b[0m\n\u001b[1;32m     26\u001b[0m                 \u001b[0mws\u001b[0m\u001b[0;34m.\u001b[0m\u001b[0mcell\u001b[0m\u001b[0;34m(\u001b[0m\u001b[0mcurrent_row\u001b[0m\u001b[0;34m,\u001b[0m \u001b[0mcolumn_dict\u001b[0m\u001b[0;34m[\u001b[0m\u001b[0moutput_contrast\u001b[0m\u001b[0;34m]\u001b[0m\u001b[0;34m)\u001b[0m\u001b[0;34m.\u001b[0m\u001b[0mvalue\u001b[0m \u001b[0;34m=\u001b[0m \u001b[0;34mf'{mean:.4f}±{std:.4f}'\u001b[0m\u001b[0;34m\u001b[0m\u001b[0;34m\u001b[0m\u001b[0m\n",
      "\u001b[0;32m/tmp/ipykernel_4040849/2014772761.py\u001b[0m in \u001b[0;36mget_results\u001b[0;34m(filenames, contrast, metric)\u001b[0m\n\u001b[1;32m      3\u001b[0m     \u001b[0mnumbers\u001b[0m \u001b[0;34m=\u001b[0m \u001b[0;34m[\u001b[0m\u001b[0;34m]\u001b[0m\u001b[0;34m\u001b[0m\u001b[0;34m\u001b[0m\u001b[0m\n\u001b[1;32m      4\u001b[0m     \u001b[0;32mfor\u001b[0m \u001b[0mfilename\u001b[0m \u001b[0;32min\u001b[0m \u001b[0mfilenames\u001b[0m\u001b[0;34m:\u001b[0m\u001b[0;34m\u001b[0m\u001b[0;34m\u001b[0m\u001b[0m\n\u001b[0;32m----> 5\u001b[0;31m         \u001b[0mwb\u001b[0m \u001b[0;34m=\u001b[0m \u001b[0mload_workbook\u001b[0m\u001b[0;34m(\u001b[0m\u001b[0mfilename\u001b[0m\u001b[0;34m)\u001b[0m\u001b[0;34m\u001b[0m\u001b[0;34m\u001b[0m\u001b[0m\n\u001b[0m\u001b[1;32m      6\u001b[0m         \u001b[0mws\u001b[0m \u001b[0;34m=\u001b[0m \u001b[0mwb\u001b[0m\u001b[0;34m[\u001b[0m\u001b[0mcontrast\u001b[0m\u001b[0;34m]\u001b[0m\u001b[0;34m\u001b[0m\u001b[0;34m\u001b[0m\u001b[0m\n\u001b[1;32m      7\u001b[0m         \u001b[0mcolumn\u001b[0m \u001b[0;34m=\u001b[0m \u001b[0mcol_dict\u001b[0m\u001b[0;34m[\u001b[0m\u001b[0mmetric\u001b[0m\u001b[0;34m]\u001b[0m\u001b[0;34m\u001b[0m\u001b[0;34m\u001b[0m\u001b[0m\n",
      "\u001b[0;32m~/miniconda3/envs/notebook/lib/python3.9/site-packages/openpyxl/reader/excel.py\u001b[0m in \u001b[0;36mload_workbook\u001b[0;34m(filename, read_only, keep_vba, data_only, keep_links)\u001b[0m\n\u001b[1;32m    313\u001b[0m \u001b[0;34m\u001b[0m\u001b[0m\n\u001b[1;32m    314\u001b[0m     \"\"\"\n\u001b[0;32m--> 315\u001b[0;31m     reader = ExcelReader(filename, read_only, keep_vba,\n\u001b[0m\u001b[1;32m    316\u001b[0m                         data_only, keep_links)\n\u001b[1;32m    317\u001b[0m     \u001b[0mreader\u001b[0m\u001b[0;34m.\u001b[0m\u001b[0mread\u001b[0m\u001b[0;34m(\u001b[0m\u001b[0;34m)\u001b[0m\u001b[0;34m\u001b[0m\u001b[0;34m\u001b[0m\u001b[0m\n",
      "\u001b[0;32m~/miniconda3/envs/notebook/lib/python3.9/site-packages/openpyxl/reader/excel.py\u001b[0m in \u001b[0;36m__init__\u001b[0;34m(self, fn, read_only, keep_vba, data_only, keep_links)\u001b[0m\n\u001b[1;32m    122\u001b[0m     def __init__(self,  fn, read_only=False, keep_vba=KEEP_VBA,\n\u001b[1;32m    123\u001b[0m                   data_only=False, keep_links=True):\n\u001b[0;32m--> 124\u001b[0;31m         \u001b[0mself\u001b[0m\u001b[0;34m.\u001b[0m\u001b[0marchive\u001b[0m \u001b[0;34m=\u001b[0m \u001b[0m_validate_archive\u001b[0m\u001b[0;34m(\u001b[0m\u001b[0mfn\u001b[0m\u001b[0;34m)\u001b[0m\u001b[0;34m\u001b[0m\u001b[0;34m\u001b[0m\u001b[0m\n\u001b[0m\u001b[1;32m    125\u001b[0m         \u001b[0mself\u001b[0m\u001b[0;34m.\u001b[0m\u001b[0mvalid_files\u001b[0m \u001b[0;34m=\u001b[0m \u001b[0mself\u001b[0m\u001b[0;34m.\u001b[0m\u001b[0marchive\u001b[0m\u001b[0;34m.\u001b[0m\u001b[0mnamelist\u001b[0m\u001b[0;34m(\u001b[0m\u001b[0;34m)\u001b[0m\u001b[0;34m\u001b[0m\u001b[0;34m\u001b[0m\u001b[0m\n\u001b[1;32m    126\u001b[0m         \u001b[0mself\u001b[0m\u001b[0;34m.\u001b[0m\u001b[0mread_only\u001b[0m \u001b[0;34m=\u001b[0m \u001b[0mread_only\u001b[0m\u001b[0;34m\u001b[0m\u001b[0;34m\u001b[0m\u001b[0m\n",
      "\u001b[0;32m~/miniconda3/envs/notebook/lib/python3.9/site-packages/openpyxl/reader/excel.py\u001b[0m in \u001b[0;36m_validate_archive\u001b[0;34m(filename)\u001b[0m\n\u001b[1;32m     94\u001b[0m             \u001b[0;32mraise\u001b[0m \u001b[0mInvalidFileException\u001b[0m\u001b[0;34m(\u001b[0m\u001b[0mmsg\u001b[0m\u001b[0;34m)\u001b[0m\u001b[0;34m\u001b[0m\u001b[0;34m\u001b[0m\u001b[0m\n\u001b[1;32m     95\u001b[0m \u001b[0;34m\u001b[0m\u001b[0m\n\u001b[0;32m---> 96\u001b[0;31m     \u001b[0marchive\u001b[0m \u001b[0;34m=\u001b[0m \u001b[0mZipFile\u001b[0m\u001b[0;34m(\u001b[0m\u001b[0mfilename\u001b[0m\u001b[0;34m,\u001b[0m \u001b[0;34m'r'\u001b[0m\u001b[0;34m)\u001b[0m\u001b[0;34m\u001b[0m\u001b[0;34m\u001b[0m\u001b[0m\n\u001b[0m\u001b[1;32m     97\u001b[0m     \u001b[0;32mreturn\u001b[0m \u001b[0marchive\u001b[0m\u001b[0;34m\u001b[0m\u001b[0;34m\u001b[0m\u001b[0m\n\u001b[1;32m     98\u001b[0m \u001b[0;34m\u001b[0m\u001b[0m\n",
      "\u001b[0;32m~/miniconda3/envs/notebook/lib/python3.9/zipfile.py\u001b[0m in \u001b[0;36m__init__\u001b[0;34m(self, file, mode, compression, allowZip64, compresslevel, strict_timestamps)\u001b[0m\n\u001b[1;32m   1237\u001b[0m             \u001b[0;32mwhile\u001b[0m \u001b[0;32mTrue\u001b[0m\u001b[0;34m:\u001b[0m\u001b[0;34m\u001b[0m\u001b[0;34m\u001b[0m\u001b[0m\n\u001b[1;32m   1238\u001b[0m                 \u001b[0;32mtry\u001b[0m\u001b[0;34m:\u001b[0m\u001b[0;34m\u001b[0m\u001b[0;34m\u001b[0m\u001b[0m\n\u001b[0;32m-> 1239\u001b[0;31m                     \u001b[0mself\u001b[0m\u001b[0;34m.\u001b[0m\u001b[0mfp\u001b[0m \u001b[0;34m=\u001b[0m \u001b[0mio\u001b[0m\u001b[0;34m.\u001b[0m\u001b[0mopen\u001b[0m\u001b[0;34m(\u001b[0m\u001b[0mfile\u001b[0m\u001b[0;34m,\u001b[0m \u001b[0mfilemode\u001b[0m\u001b[0;34m)\u001b[0m\u001b[0;34m\u001b[0m\u001b[0;34m\u001b[0m\u001b[0m\n\u001b[0m\u001b[1;32m   1240\u001b[0m                 \u001b[0;32mexcept\u001b[0m \u001b[0mOSError\u001b[0m\u001b[0;34m:\u001b[0m\u001b[0;34m\u001b[0m\u001b[0;34m\u001b[0m\u001b[0m\n\u001b[1;32m   1241\u001b[0m                     \u001b[0;32mif\u001b[0m \u001b[0mfilemode\u001b[0m \u001b[0;32min\u001b[0m \u001b[0mmodeDict\u001b[0m\u001b[0;34m:\u001b[0m\u001b[0;34m\u001b[0m\u001b[0;34m\u001b[0m\u001b[0m\n",
      "\u001b[0;31mFileNotFoundError\u001b[0m: [Errno 2] No such file or directory: 'BRATS/single/ResViT_28/0111.xlsx'"
     ]
    }
   ],
   "source": [
    "dataset = 'BRATS'\n",
    "model = 'single'\n",
    "scenarios = ['0111', '1011', '1101', '1110']\n",
    "contrasts = ['T1', 'T1Gd', 'T2', 'FLAIR']\n",
    "column_dict = {'T1': 3, 'T1Gd': 4, 'T2': 5, 'FLAIR': 6}\n",
    "methods = ['MILR', 'MMGAN', 'MMT_0.1'] #, 'ResViT']\n",
    "metrics = ['SSIM', 'PSNR', 'LPIPS']\n",
    "\n",
    "for metric in metrics:\n",
    "    wb = Workbook()\n",
    "    ws = wb.active\n",
    "    ws.cell(1, 1).value = 'Input'\n",
    "    ws.cell(1, 2).value = 'Method'\n",
    "    for i, contrast in enumerate(contrasts):\n",
    "        ws.cell(1, 3+i).value = contrast\n",
    "    current_row = 2\n",
    "    for scenario in scenarios:\n",
    "        output_contrasts = parse_scenario(scenario, contrasts)\n",
    "        ws.cell(current_row, 1).value = scenario\n",
    "        ws.merge_cells(start_row=current_row, start_column=1, end_row=current_row+len(methods)-1, end_column=1)\n",
    "        for method in methods:\n",
    "            fn = f'{dataset}/{model}/{method}/{scenario}.xlsx'\n",
    "            for output_contrast in output_contrasts:\n",
    "                mean, std = get_results([fn], output_contrast, metric)\n",
    "                ws.cell(current_row, 2).value = method\n",
    "                ws.cell(current_row, column_dict[output_contrast]).value = f'{mean:.4f}±{std:.4f}'\n",
    "            current_row += 1\n",
    "    wb.save(f\"{dataset}_{model}_{metric}.xlsx\")\n",
    "                \n",
    "        "
   ]
  },
  {
   "cell_type": "code",
   "execution_count": null,
   "id": "dcd94f03",
   "metadata": {},
   "outputs": [],
   "source": [
    "dataset = 'IXI'\n",
    "model = 'random'\n",
    "scenarios = {'1': ['100', '010', '001'], '2': ['011', '101', '110']}\n",
    "\n",
    "contrasts = ['T1', 'T2', 'PD']\n",
    "column_dict = {'T1': 3, 'T2': 4, 'PD': 5}\n",
    "#methods = ['MILR', 'MMGAN', 'MMT', 'MMT_new']\n",
    "methods = ['MILR', 'MMGAN', 'MMT_new', 'ResViT_28'] #, 'ResViT']  # MMT_new is better\n",
    "metrics = ['SSIM', 'PSNR', 'LPIPS']\n",
    "\n",
    "for metric in metrics:\n",
    "    wb = Workbook()\n",
    "    ws = wb.active\n",
    "    ws.cell(1, 1).value = 'Input'\n",
    "    ws.cell(1, 2).value = 'Method'\n",
    "    for i, contrast in enumerate(contrasts):\n",
    "        ws.cell(1, 3+i).value = contrast\n",
    "    current_row = 2\n",
    "    for m, scenarios_m in scenarios.items():\n",
    "        for scenario in scenarios_m:\n",
    "            output_contrasts = parse_scenario(scenario, contrasts)\n",
    "            ws.cell(current_row, 1).value = scenario\n",
    "            ws.merge_cells(start_row=current_row, start_column=1, end_row=current_row+len(methods)-1, end_column=1)\n",
    "            for method in methods:\n",
    "                fn = f'{dataset}/{model}/{method}/{scenario}.xlsx'\n",
    "                for output_contrast in output_contrasts:\n",
    "                    mean, std = get_results([fn], output_contrast, metric)\n",
    "                    ws.cell(current_row, 2).value = method\n",
    "                    ws.cell(current_row, column_dict[output_contrast]).value = f'{mean:.4f}±{std:.4f}'\n",
    "                current_row += 1\n",
    "        # computer performance for m inputs\n",
    "        ws.cell(current_row, 1).value = f'M={m}'\n",
    "        ws.merge_cells(start_row=current_row, start_column=1, end_row=current_row+len(methods)-1, end_column=1)\n",
    "        for method in methods:\n",
    "            for output_contrast in contrasts:\n",
    "                fns = []\n",
    "                for scenario in scenarios_m:\n",
    "                    bit = column_dict[output_contrast] - 3\n",
    "                    if scenario[bit] == '0':  # include the scenario where output_contrast is '0'\n",
    "                        fns.append(f'{dataset}/{model}/{method}/{scenario}.xlsx') \n",
    "                mean, std = get_results(fns, output_contrast, metric)\n",
    "                ws.cell(current_row, 2).value = method\n",
    "                ws.cell(current_row, column_dict[output_contrast]).value = f'{mean:.4f}±{std:.4f}'\n",
    "            current_row += 1\n",
    "    # computer overall performances\n",
    "    ws.cell(current_row, 1).value = f'Overall'\n",
    "    ws.merge_cells(start_row=current_row, start_column=1, end_row=current_row+len(methods)-1, end_column=1)\n",
    "    all_scenarios = []\n",
    "    for m, scenarios_m in scenarios.items():\n",
    "        all_scenarios += scenarios_m\n",
    "    for method in methods:\n",
    "        for output_contrast in contrasts:\n",
    "            fns = []\n",
    "            for scenario in all_scenarios:\n",
    "                bit = column_dict[output_contrast] - 3\n",
    "                if scenario[bit] == '0':  # include the scenario where output_contrast is '0'\n",
    "                    fns.append(f'{dataset}/{model}/{method}/{scenario}.xlsx') \n",
    "            mean, std = get_results(fns, output_contrast, metric)\n",
    "            ws.cell(current_row, 2).value = method\n",
    "            ws.cell(current_row, column_dict[output_contrast]).value = f'{mean:.4f}±{std:.4f}'\n",
    "        current_row += 1\n",
    "    wb.save(f\"{dataset}_{model}_{metric}.xlsx\")\n",
    "                \n",
    "        "
   ]
  },
  {
   "cell_type": "code",
   "execution_count": 18,
   "id": "f978533d",
   "metadata": {},
   "outputs": [],
   "source": [
    "dataset = 'BRATS'\n",
    "model = 'random'\n",
    "scenarios = {'1': ['1000', '0100', '0010', '0001'], '2': ['1100', '1010', '1001', '0110', '0101', '0011'], \n",
    "            '3': ['0111', '1011', '1101', '1110']}\n",
    "contrasts = ['T1', 'T1Gd', 'T2', 'FLAIR']\n",
    "column_dict = {'T1': 3, 'T1Gd': 4, 'T2': 5, 'FLAIR': 6}\n",
    "#methods = ['MILR', 'MMGAN', 'MMT', 'MMT_0.01', 'MMT_0.05', 'MMT_0.075', 'MMT_0.1_0127', 'MMT_0.1_0202', 'MMT_0.1375', \"MMT_0.15\"]\n",
    "methods = ['MILR', 'MMGAN', 'MMT_0.1_0202'] #, 'ResViT']\n",
    "metrics = ['SSIM', 'PSNR', 'LPIPS']\n",
    "for metric in metrics:\n",
    "    wb = Workbook()\n",
    "    ws = wb.active\n",
    "    ws.cell(1, 1).value = 'Input'\n",
    "    ws.cell(1, 2).value = 'Method'\n",
    "    for i, contrast in enumerate(contrasts):\n",
    "        ws.cell(1, 3+i).value = contrast\n",
    "    current_row = 2\n",
    "    for m, scenarios_m in scenarios.items():\n",
    "        for scenario in scenarios_m:\n",
    "            output_contrasts = parse_scenario(scenario, contrasts)\n",
    "            ws.cell(current_row, 1).value = scenario\n",
    "            ws.merge_cells(start_row=current_row, start_column=1, end_row=current_row+len(methods)-1, end_column=1)\n",
    "            for method in methods:\n",
    "                fn = f'{dataset}/{model}/{method}/{scenario}.xlsx'\n",
    "                for output_contrast in output_contrasts:\n",
    "                    mean, std = get_results([fn], output_contrast, metric)\n",
    "                    ws.cell(current_row, 2).value = method\n",
    "                    ws.cell(current_row, column_dict[output_contrast]).value = f'{mean:.4f}±{std:.4f}'\n",
    "                current_row += 1\n",
    "        # computer performance for m inputs\n",
    "        ws.cell(current_row, 1).value = f'M={m}'\n",
    "        ws.merge_cells(start_row=current_row, start_column=1, end_row=current_row+len(methods)-1, end_column=1)\n",
    "        for method in methods:\n",
    "            for output_contrast in contrasts:\n",
    "                fns = []\n",
    "                for scenario in scenarios_m:\n",
    "                    bit = column_dict[output_contrast] - 3\n",
    "                    if scenario[bit] == '0':  # include the scenario where output_contrast is '0'\n",
    "                        fns.append(f'{dataset}/{model}/{method}/{scenario}.xlsx') \n",
    "                mean, std = get_results(fns, output_contrast, metric)\n",
    "                ws.cell(current_row, 2).value = method\n",
    "                ws.cell(current_row, column_dict[output_contrast]).value = f'{mean:.4f}±{std:.4f}'\n",
    "            current_row += 1\n",
    "    # computer overall performances\n",
    "    ws.cell(current_row, 1).value = f'Overall'\n",
    "    ws.merge_cells(start_row=current_row, start_column=1, end_row=current_row+len(methods)-1, end_column=1)\n",
    "    all_scenarios = []\n",
    "    for m, scenarios_m in scenarios.items():\n",
    "        all_scenarios += scenarios_m\n",
    "    for method in methods:\n",
    "        for output_contrast in contrasts:\n",
    "            fns = []\n",
    "            for scenario in all_scenarios:\n",
    "                bit = column_dict[output_contrast] - 3\n",
    "                if scenario[bit] == '0':  # include the scenario where output_contrast is '0'\n",
    "                    fns.append(f'{dataset}/{model}/{method}/{scenario}.xlsx') \n",
    "            mean, std = get_results(fns, output_contrast, metric)\n",
    "            ws.cell(current_row, 2).value = method\n",
    "            ws.cell(current_row, column_dict[output_contrast]).value = f'{mean:.4f}±{std:.4f}'\n",
    "        current_row += 1\n",
    "    wb.save(f\"{dataset}_{model}_{metric}.xlsx\")\n",
    "                \n",
    "        "
   ]
  },
  {
   "cell_type": "code",
   "execution_count": 27,
   "id": "7e9f3016",
   "metadata": {},
   "outputs": [
    {
     "data": {
      "text/plain": [
       "'BraTS2021_00111/050.npy'"
      ]
     },
     "execution_count": 27,
     "metadata": {},
     "output_type": "execute_result"
    }
   ],
   "source": [
    "ws[2][0].value"
   ]
  },
  {
   "cell_type": "code",
   "execution_count": 37,
   "id": "4d282efc",
   "metadata": {},
   "outputs": [
    {
     "data": {
      "text/plain": [
       "0.001654756478664013"
      ]
     },
     "execution_count": 37,
     "metadata": {},
     "output_type": "execute_result"
    }
   ],
   "source": [
    "ws[1][row_dict['MSE']].value"
   ]
  },
  {
   "cell_type": "code",
   "execution_count": 62,
   "id": "e4c61335",
   "metadata": {},
   "outputs": [
    {
     "data": {
      "text/plain": [
       "'0.0017'"
      ]
     },
     "execution_count": 62,
     "metadata": {},
     "output_type": "execute_result"
    }
   ],
   "source": [
    "a = 0.001654756478664013\n",
    "f'{a:.4f}'"
   ]
  },
  {
   "cell_type": "code",
   "execution_count": 38,
   "id": "c9908be5",
   "metadata": {},
   "outputs": [],
   "source": [
    "metric = 'MSE'\n",
    "numbers = []\n",
    "for row in ws[1:]:\n",
    "    numbers.append(row[row_dict[metric]].value)"
   ]
  },
  {
   "cell_type": "code",
   "execution_count": 77,
   "id": "d92d40b8",
   "metadata": {},
   "outputs": [
    {
     "data": {
      "text/plain": [
       "2"
      ]
     },
     "execution_count": 77,
     "metadata": {},
     "output_type": "execute_result"
    }
   ],
   "source": [
    "bit"
   ]
  },
  {
   "cell_type": "code",
   "execution_count": 40,
   "id": "b6a0d902",
   "metadata": {},
   "outputs": [
    {
     "data": {
      "text/plain": [
       "0.001348306857626796"
      ]
     },
     "execution_count": 40,
     "metadata": {},
     "output_type": "execute_result"
    }
   ],
   "source": [
    "np.std(numbers)"
   ]
  },
  {
   "cell_type": "code",
   "execution_count": null,
   "id": "0942bc6b",
   "metadata": {},
   "outputs": [],
   "source": []
  }
 ],
 "metadata": {
  "kernelspec": {
   "display_name": "Python 3 (ipykernel)",
   "language": "python",
   "name": "python3"
  },
  "language_info": {
   "codemirror_mode": {
    "name": "ipython",
    "version": 3
   },
   "file_extension": ".py",
   "mimetype": "text/x-python",
   "name": "python",
   "nbconvert_exporter": "python",
   "pygments_lexer": "ipython3",
   "version": "3.9.7"
  }
 },
 "nbformat": 4,
 "nbformat_minor": 5
}
