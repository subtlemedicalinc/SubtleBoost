{
 "cells": [
  {
   "cell_type": "code",
   "execution_count": 1,
   "id": "0dc0a443",
   "metadata": {},
   "outputs": [
    {
     "name": "stderr",
     "output_type": "stream",
     "text": [
      "/home/srivathsa/projects/SubtleGad/train/subtle/utils/hyperparameter.py:8: UserWarning: Module test_tube not found - hyperparameter related functions cannot be used\n",
      "  warnings.warn('Module test_tube not found - hyperparameter related functions cannot be used')\n",
      "/home/srivathsa/miniconda3/envs/mmt/lib/python3.9/site-packages/scipy/__init__.py:146: UserWarning: A NumPy version >=1.16.5 and <1.23.0 is required for this version of SciPy (detected version 1.24.1\n",
      "  warnings.warn(f\"A NumPy version >={np_minversion} and <{np_maxversion}\"\n"
     ]
    },
    {
     "data": {
      "text/plain": [
       "<Figure size 432x288 with 0 Axes>"
      ]
     },
     "metadata": {},
     "output_type": "display_data"
    }
   ],
   "source": [
    "import numpy as np\n",
    "from PIL import Image\n",
    "import matplotlib.pyplot as plt\n",
    "from glob import glob\n",
    "from subtle.subtle_preprocess import scale_im\n",
    "\n",
    "plt.set_cmap('gray')\n",
    "plt.rcParams['figure.figsize'] = (12, 10)\n",
    "\n",
    "import ipywidgets as widgets\n",
    "from ipywidgets import interact, interact_manual\n",
    "\n",
    "def png2npy(fpath_png):\n",
    "    return np.array(Image.open(fpath_png))[..., 0]\n",
    "\n",
    "def get_kw_vol(viz_path, case_id, kw='gt'):\n",
    "    kw_files = [f for f in glob('{}/{}/*_{}.png'.format(viz_path, case_id, kw))]\n",
    "    kw_files = sorted(kw_files, key=lambda s: int(s.split('/')[-1].split('_')[0]))\n",
    "\n",
    "    kw_vol = np.array([png2npy(f) for f in kw_files])\n",
    "    return kw_vol"
   ]
  },
  {
   "cell_type": "code",
   "execution_count": 2,
   "id": "305798c0",
   "metadata": {},
   "outputs": [],
   "source": [
    "viz_path = '/home/srivathsa/projects/SubtleGad/train/prototypes/mmt/MMTUNetHybrid/vis_results/BraTS/single/MMT/1101'\n",
    "viz_path2 = '/home/srivathsa/projects/SubtleGad/train/prototypes/mmt/MMTUNetHybrid/model/'\n",
    "viz_path2 += 'MMT_single_no_gan_epo100_bs24_lrg0.0005_5.0_20.0_0.0_0.0_vgg0/viz/test/013'\n",
    "case_id = 'BraTS2021_00613'\n",
    "\n",
    "gt_vol = get_kw_vol(viz_path, case_id, kw='gt')\n",
    "op_vol = get_kw_vol(viz_path, case_id, kw='output')\n",
    "# op_vol = scale_im(gt_vol, op_vol)\n",
    "op_vol2 = get_kw_vol(viz_path2, case_id, kw='output')\n",
    "ip_vol = get_kw_vol(viz_path, case_id, kw='input')"
   ]
  },
  {
   "cell_type": "code",
   "execution_count": 3,
   "id": "07254966",
   "metadata": {},
   "outputs": [
    {
     "data": {
      "application/vnd.jupyter.widget-view+json": {
       "model_id": "5c8952fd2a1649dfa0379b6c801d7b05",
       "version_major": 2,
       "version_minor": 0
      },
      "text/plain": [
       "interactive(children=(IntSlider(value=39, description='idx', max=79), Output()), _dom_classes=('widget-interac…"
      ]
     },
     "metadata": {},
     "output_type": "display_data"
    }
   ],
   "source": [
    "@interact\n",
    "def show_test_vol(idx=(0, gt_vol.shape[0]-1, 1)):\n",
    "    plt.imshow(np.hstack([gt_vol[idx], op_vol[idx-1], op_vol2[idx-1]]))\n",
    "    plt.title('Slice = {}'.format(idx))"
   ]
  },
  {
   "cell_type": "code",
   "execution_count": 45,
   "id": "a9856445",
   "metadata": {},
   "outputs": [
    {
     "data": {
      "application/vnd.jupyter.widget-view+json": {
       "model_id": "025138085f084d408a65329e2fd03f75",
       "version_major": 2,
       "version_minor": 0
      },
      "text/plain": [
       "interactive(children=(IntSlider(value=33, description='idx', max=67), Output()), _dom_classes=('widget-interac…"
      ]
     },
     "metadata": {},
     "output_type": "display_data"
    }
   ],
   "source": [
    "@interact\n",
    "def show_input_vol(idx=(0, gt_vol.shape[0]-1, 1)):\n",
    "    plt.imshow(ip_vol[idx])\n",
    "    plt.title('Slice = {}'.format(idx))"
   ]
  },
  {
   "cell_type": "code",
   "execution_count": 40,
   "id": "b512d732",
   "metadata": {},
   "outputs": [
    {
     "name": "stdout",
     "output_type": "stream",
     "text": [
      "(364, 512, 512)\n"
     ]
    }
   ],
   "source": [
    "uad = np.load('/home/srivathsa/projects/studies/gad/stanford/preprocess/uad_fl/Patient_0187.npy')\n",
    "print(uad.shape)"
   ]
  },
  {
   "cell_type": "code",
   "execution_count": 42,
   "id": "dc26dfe4",
   "metadata": {},
   "outputs": [
    {
     "data": {
      "text/plain": [
       "<matplotlib.image.AxesImage at 0x7fd539ed4df0>"
      ]
     },
     "execution_count": 42,
     "metadata": {},
     "output_type": "execute_result"
    },
    {
     "data": {
      "image/png": "[encoded data removed]",
      "text/plain": [
       "<Figure size 864x720 with 1 Axes>"
      ]
     },
     "metadata": {
      "needs_background": "light"
     },
     "output_type": "display_data"
    }
   ],
   "source": [
    "plt.imshow(uad[168])"
   ]
  },
  {
   "cell_type": "code",
   "execution_count": null,
   "id": "736c46cf",
   "metadata": {},
   "outputs": [],
   "source": []
  }
 ],
 "metadata": {
  "kernelspec": {
   "display_name": "Python (mmt)",
   "language": "python",
   "name": "mmt"
  },
  "language_info": {
   "codemirror_mode": {
    "name": "ipython",
    "version": 3
   },
   "file_extension": ".py",
   "mimetype": "text/x-python",
   "name": "python",
   "nbconvert_exporter": "python",
   "pygments_lexer": "ipython3",
   "version": "3.9.5"
  }
 },
 "nbformat": 4,
 "nbformat_minor": 5
}
