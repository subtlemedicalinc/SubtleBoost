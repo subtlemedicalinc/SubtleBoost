{
 "cells": [
  {
   "cell_type": "code",
   "execution_count": null,
   "id": "65db810a",
   "metadata": {},
   "outputs": [],
   "source": [
    "%reload_ext autoreload\n",
    "%autoreload 2\n",
    "\n",
    "import warnings\n",
    "warnings.filterwarnings('ignore')\n",
    "\n",
    "import json\n",
    "import argparse\n",
    "import os\n",
    "from glob import glob\n",
    "import numpy as np\n",
    "import torch\n",
    "from networks.mmt import MMT as generator\n",
    "from tqdm import tqdm\n",
    "\n",
    "from datasets.dataset_brats import BRATS_dataset, RandomGeneratorBRATS\n",
    "from torch.utils.data import DataLoader\n",
    "from torchvision import transforms\n",
    "from torch.nn import Upsample\n",
    "\n",
    "import os\n",
    "\n",
    "os.environ[\"CUDA_DEVICE_ORDER\"] = \"PCI_BUS_ID\"\n",
    "os.environ[\"CUDA_VISIBLE_DEVICES\"] = \"5\"\n"
   ]
  },
  {
   "cell_type": "code",
   "execution_count": null,
   "id": "3640df03",
   "metadata": {},
   "outputs": [],
   "source": [
    "state_dict = torch.load(\n",
    "    '/mnt/datasets/srivathsa/jiang_raid/projects/SubtleGAN/MMTUNetHybrid/model/\\\n",
    "IXI_single_0217_epo100_bs20_lrg0.0005_5.0_20.0_0.0_0.1/best_mae.pth', map_location='cpu'\n",
    ")"
   ]
  },
  {
   "cell_type": "code",
   "execution_count": null,
   "id": "d4728150",
   "metadata": {},
   "outputs": [],
   "source": [
    "state_dict['G'].keys()"
   ]
  },
  {
   "cell_type": "code",
   "execution_count": null,
   "id": "bff0b03f",
   "metadata": {},
   "outputs": [],
   "source": []
  }
 ],
 "metadata": {
  "kernelspec": {
   "display_name": "Python (mmt)",
   "language": "python",
   "name": "mmt"
  },
  "language_info": {
   "codemirror_mode": {
    "name": "ipython",
    "version": 3
   },
   "file_extension": ".py",
   "mimetype": "text/x-python",
   "name": "python",
   "nbconvert_exporter": "python",
   "pygments_lexer": "ipython3",
   "version": "3.9.5"
  }
 },
 "nbformat": 4,
 "nbformat_minor": 5
}
