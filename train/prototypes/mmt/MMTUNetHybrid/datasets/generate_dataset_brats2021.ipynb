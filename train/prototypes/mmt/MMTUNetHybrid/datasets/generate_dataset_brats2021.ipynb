{
 "cells": [
  {
   "cell_type": "code",
   "execution_count": 2,
   "id": "d694463a",
   "metadata": {},
   "outputs": [],
   "source": [
    "import os\n",
    "import numpy as np\n",
    "import nibabel as nib\n",
    "import glob\n",
    "import matplotlib.pyplot as plt\n",
    "from tqdm import tqdm, trange"
   ]
  },
  {
   "cell_type": "code",
   "execution_count": 3,
   "id": "16a74032",
   "metadata": {},
   "outputs": [],
   "source": [
    "def preprocess_data(data):\n",
    "    data = data/data.mean()\n",
    "    data = np.pad(data, ((8,8), (8,8), (0,0)), 'constant', constant_values=0)\n",
    "    return data"
   ]
  },
  {
   "cell_type": "code",
   "execution_count": 4,
   "id": "5f1d8666",
   "metadata": {},
   "outputs": [
    {
     "name": "stderr",
     "output_type": "stream",
     "text": [
      "\r",
      "  0%|          | 0/1125 [00:00<?, ?it/s]"
     ]
    },
    {
     "name": "stdout",
     "output_type": "stream",
     "text": [
      "/home/jiang/projects/SubtleGAN/data/brats2021/train/BraTS2021_00060\n"
     ]
    },
    {
     "name": "stderr",
     "output_type": "stream",
     "text": [
      "\n",
      "  0%|          | 0/80 [00:00<?, ?it/s]\u001b[A\n",
      " 20%|██        | 16/80 [00:00<00:00, 151.61it/s]\u001b[A\n",
      " 40%|████      | 32/80 [00:00<00:00, 153.11it/s]\u001b[A\n",
      " 60%|██████    | 48/80 [00:00<00:00, 153.66it/s]\u001b[A\n",
      " 80%|████████  | 64/80 [00:00<00:00, 154.00it/s]\u001b[A\n",
      "100%|██████████| 80/80 [00:00<00:00, 152.97it/s]\u001b[A\n",
      "  0%|          | 1/1125 [00:01<18:51,  1.01s/it]"
     ]
    },
    {
     "name": "stdout",
     "output_type": "stream",
     "text": [
      "/home/jiang/projects/SubtleGAN/data/brats2021/train/BraTS2021_01487\n"
     ]
    },
    {
     "name": "stderr",
     "output_type": "stream",
     "text": [
      "\n",
      "  0%|          | 0/80 [00:00<?, ?it/s]\u001b[A\n",
      " 19%|█▉        | 15/80 [00:00<00:00, 148.29it/s]\u001b[A\n",
      " 38%|███▊      | 30/80 [00:00<00:00, 146.65it/s]\u001b[A\n",
      " 56%|█████▋    | 45/80 [00:00<00:00, 145.78it/s]\u001b[A\n",
      " 75%|███████▌  | 60/80 [00:00<00:00, 145.74it/s]\u001b[A\n",
      "100%|██████████| 80/80 [00:00<00:00, 147.01it/s]\u001b[A\n",
      "  0%|          | 2/1125 [00:01<18:31,  1.01it/s]"
     ]
    },
    {
     "name": "stdout",
     "output_type": "stream",
     "text": [
      "/home/jiang/projects/SubtleGAN/data/brats2021/train/BraTS2021_01234\n"
     ]
    },
    {
     "name": "stderr",
     "output_type": "stream",
     "text": [
      "\n",
      "  0%|          | 0/80 [00:00<?, ?it/s]\u001b[A\n",
      " 19%|█▉        | 15/80 [00:00<00:00, 148.69it/s]\u001b[A\n",
      " 39%|███▉      | 31/80 [00:00<00:00, 151.22it/s]\u001b[A\n",
      " 59%|█████▉    | 47/80 [00:00<00:00, 152.12it/s]\u001b[A\n",
      " 79%|███████▉  | 63/80 [00:00<00:00, 152.86it/s]\u001b[A\n",
      "100%|██████████| 80/80 [00:00<00:00, 151.76it/s]\u001b[A\n",
      "  0%|          | 3/1125 [00:02<18:18,  1.02it/s]"
     ]
    },
    {
     "name": "stdout",
     "output_type": "stream",
     "text": [
      "/home/jiang/projects/SubtleGAN/data/brats2021/train/BraTS2021_00392\n"
     ]
    },
    {
     "name": "stderr",
     "output_type": "stream",
     "text": [
      "\n",
      "  0%|          | 0/80 [00:00<?, ?it/s]\u001b[A\n",
      " 20%|██        | 16/80 [00:00<00:00, 156.76it/s]\u001b[A\n",
      " 40%|████      | 32/80 [00:00<00:00, 154.22it/s]\u001b[A\n",
      " 60%|██████    | 48/80 [00:00<00:00, 154.09it/s]\u001b[A\n",
      " 80%|████████  | 64/80 [00:00<00:00, 153.97it/s]\u001b[A\n",
      "100%|██████████| 80/80 [00:00<00:00, 153.35it/s]\u001b[A\n",
      "  0%|          | 4/1125 [00:03<18:08,  1.03it/s]"
     ]
    },
    {
     "name": "stdout",
     "output_type": "stream",
     "text": [
      "/home/jiang/projects/SubtleGAN/data/brats2021/train/BraTS2021_01613\n"
     ]
    },
    {
     "name": "stderr",
     "output_type": "stream",
     "text": [
      "\n",
      "  0%|          | 0/80 [00:00<?, ?it/s]\u001b[A\n",
      " 20%|██        | 16/80 [00:00<00:00, 156.06it/s]\u001b[A\n",
      " 40%|████      | 32/80 [00:00<00:00, 154.38it/s]\u001b[A\n",
      " 60%|██████    | 48/80 [00:00<00:00, 153.88it/s]\u001b[A\n",
      " 80%|████████  | 64/80 [00:00<00:00, 153.44it/s]\u001b[A\n",
      "100%|██████████| 80/80 [00:00<00:00, 152.94it/s]\u001b[A\n",
      "  0%|          | 5/1125 [00:05<20:18,  1.09s/it]"
     ]
    },
    {
     "name": "stdout",
     "output_type": "stream",
     "text": [
      "/home/jiang/projects/SubtleGAN/data/brats2021/train/BraTS2021_01663\n"
     ]
    },
    {
     "name": "stderr",
     "output_type": "stream",
     "text": [
      "\n",
      "  0%|          | 0/80 [00:00<?, ?it/s]\u001b[A\n",
      " 19%|█▉        | 15/80 [00:00<00:00, 148.81it/s]\u001b[A\n",
      " 38%|███▊      | 30/80 [00:00<00:00, 148.44it/s]\u001b[A\n",
      " 57%|█████▊    | 46/80 [00:00<00:00, 151.00it/s]\u001b[A\n",
      " 78%|███████▊  | 62/80 [00:00<00:00, 151.94it/s]\u001b[A\n",
      "100%|██████████| 80/80 [00:00<00:00, 150.71it/s]\u001b[A\n",
      "  1%|          | 6/1125 [00:06<19:39,  1.05s/it]"
     ]
    },
    {
     "name": "stdout",
     "output_type": "stream",
     "text": [
      "/home/jiang/projects/SubtleGAN/data/brats2021/train/BraTS2021_00068\n"
     ]
    },
    {
     "name": "stderr",
     "output_type": "stream",
     "text": [
      "\n",
      "  0%|          | 0/80 [00:00<?, ?it/s]\u001b[A\n",
      " 20%|██        | 16/80 [00:00<00:00, 156.36it/s]\u001b[A\n",
      " 40%|████      | 32/80 [00:00<00:00, 154.53it/s]\u001b[A\n",
      " 60%|██████    | 48/80 [00:00<00:00, 153.03it/s]\u001b[A\n",
      " 80%|████████  | 64/80 [00:00<00:00, 153.32it/s]\u001b[A\n",
      "100%|██████████| 80/80 [00:00<00:00, 152.95it/s]\u001b[A\n",
      "  1%|          | 7/1125 [00:07<18:31,  1.01it/s]"
     ]
    },
    {
     "name": "stdout",
     "output_type": "stream",
     "text": [
      "/home/jiang/projects/SubtleGAN/data/brats2021/train/BraTS2021_00697\n"
     ]
    },
    {
     "name": "stderr",
     "output_type": "stream",
     "text": [
      "\n",
      "  0%|          | 0/80 [00:00<?, ?it/s]\u001b[A\n",
      " 20%|██        | 16/80 [00:00<00:00, 156.25it/s]\u001b[A\n",
      " 40%|████      | 32/80 [00:00<00:00, 154.92it/s]\u001b[A\n",
      " 60%|██████    | 48/80 [00:00<00:00, 154.76it/s]\u001b[A\n",
      " 80%|████████  | 64/80 [00:00<00:00, 154.48it/s]\u001b[A\n",
      "100%|██████████| 80/80 [00:00<00:00, 153.62it/s]\u001b[A\n",
      "  1%|          | 8/1125 [00:07<17:50,  1.04it/s]"
     ]
    },
    {
     "name": "stdout",
     "output_type": "stream",
     "text": [
      "/home/jiang/projects/SubtleGAN/data/brats2021/train/BraTS2021_00025\n"
     ]
    },
    {
     "name": "stderr",
     "output_type": "stream",
     "text": [
      "\n",
      "  0%|          | 0/80 [00:00<?, ?it/s]\u001b[A\n",
      " 19%|█▉        | 15/80 [00:00<00:00, 149.40it/s]\u001b[A\n",
      " 38%|███▊      | 30/80 [00:00<00:00, 148.13it/s]\u001b[A\n",
      " 56%|█████▋    | 45/80 [00:00<00:00, 147.18it/s]\u001b[A\n",
      " 75%|███████▌  | 60/80 [00:00<00:00, 146.63it/s]\u001b[A\n",
      "100%|██████████| 80/80 [00:00<00:00, 146.14it/s]\u001b[A\n",
      "  1%|          | 9/1125 [00:08<17:38,  1.05it/s]"
     ]
    },
    {
     "name": "stdout",
     "output_type": "stream",
     "text": [
      "/home/jiang/projects/SubtleGAN/data/brats2021/train/BraTS2021_01120\n"
     ]
    },
    {
     "name": "stderr",
     "output_type": "stream",
     "text": [
      "\n",
      "  0%|          | 0/80 [00:00<?, ?it/s]\u001b[A\n",
      " 20%|██        | 16/80 [00:00<00:00, 156.20it/s]\u001b[A\n",
      " 40%|████      | 32/80 [00:00<00:00, 154.23it/s]\u001b[A\n",
      " 60%|██████    | 48/80 [00:00<00:00, 154.20it/s]\u001b[A\n",
      " 80%|████████  | 64/80 [00:00<00:00, 153.91it/s]\u001b[A\n",
      "100%|██████████| 80/80 [00:00<00:00, 153.44it/s]\u001b[A\n",
      "  1%|          | 10/1125 [00:09<17:46,  1.05it/s]"
     ]
    },
    {
     "name": "stdout",
     "output_type": "stream",
     "text": [
      "/home/jiang/projects/SubtleGAN/data/brats2021/train/BraTS2021_00436\n"
     ]
    },
    {
     "name": "stderr",
     "output_type": "stream",
     "text": [
      "\n",
      "  0%|          | 0/80 [00:00<?, ?it/s]\u001b[A\n",
      " 19%|█▉        | 15/80 [00:00<00:00, 144.54it/s]\u001b[A\n",
      " 39%|███▉      | 31/80 [00:00<00:00, 150.65it/s]\u001b[A\n",
      " 59%|█████▉    | 47/80 [00:00<00:00, 152.58it/s]\u001b[A\n",
      " 79%|███████▉  | 63/80 [00:00<00:00, 153.31it/s]\u001b[A\n",
      "100%|██████████| 80/80 [00:00<00:00, 151.91it/s]\u001b[A\n",
      "  1%|          | 11/1125 [00:10<17:48,  1.04it/s]"
     ]
    },
    {
     "name": "stdout",
     "output_type": "stream",
     "text": [
      "/home/jiang/projects/SubtleGAN/data/brats2021/train/BraTS2021_00099\n"
     ]
    },
    {
     "name": "stderr",
     "output_type": "stream",
     "text": [
      "\n",
      "  0%|          | 0/80 [00:00<?, ?it/s]\u001b[A\n",
      " 20%|██        | 16/80 [00:00<00:00, 157.10it/s]\u001b[A\n",
      " 40%|████      | 32/80 [00:00<00:00, 155.65it/s]\u001b[A\n",
      " 60%|██████    | 48/80 [00:00<00:00, 154.72it/s]\u001b[A\n",
      " 80%|████████  | 64/80 [00:00<00:00, 154.20it/s]\u001b[A\n",
      "100%|██████████| 80/80 [00:00<00:00, 153.96it/s]\u001b[A\n",
      "  1%|          | 12/1125 [00:11<17:18,  1.07it/s]"
     ]
    },
    {
     "name": "stdout",
     "output_type": "stream",
     "text": [
      "/home/jiang/projects/SubtleGAN/data/brats2021/train/BraTS2021_00650\n"
     ]
    },
    {
     "name": "stderr",
     "output_type": "stream",
     "text": [
      "\n",
      "  0%|          | 0/80 [00:00<?, ?it/s]\u001b[A\n",
      " 20%|██        | 16/80 [00:00<00:00, 157.31it/s]\u001b[A\n",
      " 40%|████      | 32/80 [00:00<00:00, 155.72it/s]\u001b[A\n",
      " 60%|██████    | 48/80 [00:00<00:00, 155.06it/s]\u001b[A\n",
      " 80%|████████  | 64/80 [00:00<00:00, 155.19it/s]\u001b[A\n",
      "100%|██████████| 80/80 [00:00<00:00, 154.53it/s]\u001b[A\n",
      "  1%|          | 13/1125 [00:12<16:58,  1.09it/s]"
     ]
    },
    {
     "name": "stdout",
     "output_type": "stream",
     "text": [
      "/home/jiang/projects/SubtleGAN/data/brats2021/train/BraTS2021_00775\n"
     ]
    },
    {
     "name": "stderr",
     "output_type": "stream",
     "text": [
      "\n",
      "  0%|          | 0/80 [00:00<?, ?it/s]\u001b[A\n",
      " 19%|█▉        | 15/80 [00:00<00:00, 148.66it/s]\u001b[A\n",
      " 38%|███▊      | 30/80 [00:00<00:00, 147.43it/s]\u001b[A\n",
      " 56%|█████▋    | 45/80 [00:00<00:00, 146.70it/s]\u001b[A\n",
      " 75%|███████▌  | 60/80 [00:00<00:00, 146.19it/s]\u001b[A\n",
      "100%|██████████| 80/80 [00:00<00:00, 145.72it/s]\u001b[A\n",
      "  1%|          | 14/1125 [00:13<16:55,  1.09it/s]"
     ]
    },
    {
     "name": "stdout",
     "output_type": "stream",
     "text": [
      "/home/jiang/projects/SubtleGAN/data/brats2021/train/BraTS2021_01106\n"
     ]
    },
    {
     "name": "stderr",
     "output_type": "stream",
     "text": [
      "\n",
      "  0%|          | 0/80 [00:00<?, ?it/s]\u001b[A\n",
      " 19%|█▉        | 15/80 [00:00<00:00, 149.13it/s]\u001b[A\n",
      " 38%|███▊      | 30/80 [00:00<00:00, 149.43it/s]\u001b[A\n",
      " 57%|█████▊    | 46/80 [00:00<00:00, 151.62it/s]\u001b[A\n",
      " 78%|███████▊  | 62/80 [00:00<00:00, 152.67it/s]\u001b[A\n",
      "100%|██████████| 80/80 [00:00<00:00, 151.61it/s]\u001b[A\n",
      "  1%|▏         | 15/1125 [00:14<17:20,  1.07it/s]"
     ]
    },
    {
     "name": "stdout",
     "output_type": "stream",
     "text": [
      "/home/jiang/projects/SubtleGAN/data/brats2021/train/BraTS2021_00433\n"
     ]
    },
    {
     "name": "stderr",
     "output_type": "stream",
     "text": [
      "\n",
      "  0%|          | 0/80 [00:00<?, ?it/s]\u001b[A\n",
      " 19%|█▉        | 15/80 [00:00<00:00, 149.33it/s]\u001b[A\n",
      " 39%|███▉      | 31/80 [00:00<00:00, 150.73it/s]\u001b[A\n",
      " 59%|█████▉    | 47/80 [00:00<00:00, 150.31it/s]\u001b[A\n",
      " 79%|███████▉  | 63/80 [00:00<00:00, 151.59it/s]\u001b[A\n",
      "100%|██████████| 80/80 [00:00<00:00, 150.97it/s]\u001b[A\n",
      "  1%|▏         | 16/1125 [00:15<17:32,  1.05it/s]"
     ]
    },
    {
     "name": "stdout",
     "output_type": "stream",
     "text": [
      "/home/jiang/projects/SubtleGAN/data/brats2021/train/BraTS2021_01073\n"
     ]
    },
    {
     "name": "stderr",
     "output_type": "stream",
     "text": [
      "\n",
      "  0%|          | 0/80 [00:00<?, ?it/s]\u001b[A\n",
      " 20%|██        | 16/80 [00:00<00:00, 155.54it/s]\u001b[A\n",
      " 40%|████      | 32/80 [00:00<00:00, 154.13it/s]\u001b[A\n",
      " 60%|██████    | 48/80 [00:00<00:00, 153.91it/s]\u001b[A\n",
      " 80%|████████  | 64/80 [00:00<00:00, 154.01it/s]\u001b[A\n",
      "100%|██████████| 80/80 [00:00<00:00, 153.23it/s]\u001b[A\n",
      "  2%|▏         | 17/1125 [00:16<17:37,  1.05it/s]"
     ]
    },
    {
     "name": "stdout",
     "output_type": "stream",
     "text": [
      "/home/jiang/projects/SubtleGAN/data/brats2021/train/BraTS2021_00525\n"
     ]
    },
    {
     "name": "stderr",
     "output_type": "stream",
     "text": [
      "\n",
      "  0%|          | 0/80 [00:00<?, ?it/s]\u001b[A\n",
      " 20%|██        | 16/80 [00:00<00:00, 156.08it/s]\u001b[A\n",
      " 40%|████      | 32/80 [00:00<00:00, 154.84it/s]\u001b[A\n",
      " 60%|██████    | 48/80 [00:00<00:00, 154.11it/s]\u001b[A\n",
      " 80%|████████  | 64/80 [00:00<00:00, 153.91it/s]\u001b[A\n",
      "100%|██████████| 80/80 [00:00<00:00, 153.36it/s]\u001b[A\n",
      "  2%|▏         | 18/1125 [00:17<17:14,  1.07it/s]"
     ]
    },
    {
     "name": "stdout",
     "output_type": "stream",
     "text": [
      "/home/jiang/projects/SubtleGAN/data/brats2021/train/BraTS2021_00401\n"
     ]
    },
    {
     "name": "stderr",
     "output_type": "stream",
     "text": [
      "\n",
      "  0%|          | 0/80 [00:00<?, ?it/s]\u001b[A\n",
      " 20%|██        | 16/80 [00:00<00:00, 156.45it/s]\u001b[A\n",
      " 40%|████      | 32/80 [00:00<00:00, 150.92it/s]\u001b[A\n",
      " 60%|██████    | 48/80 [00:00<00:00, 149.15it/s]\u001b[A\n",
      " 79%|███████▉  | 63/80 [00:00<00:00, 148.12it/s]\u001b[A\n",
      "100%|██████████| 80/80 [00:00<00:00, 147.91it/s]\u001b[A\n",
      "  2%|▏         | 19/1125 [00:18<17:30,  1.05it/s]"
     ]
    },
    {
     "name": "stdout",
     "output_type": "stream",
     "text": [
      "/home/jiang/projects/SubtleGAN/data/brats2021/train/BraTS2021_00166\n"
     ]
    },
    {
     "name": "stderr",
     "output_type": "stream",
     "text": [
      "\n",
      "  0%|          | 0/80 [00:00<?, ?it/s]\u001b[A\n",
      " 18%|█▊        | 14/80 [00:00<00:00, 137.56it/s]\u001b[A\n",
      " 36%|███▋      | 29/80 [00:00<00:00, 142.46it/s]\u001b[A\n",
      " 56%|█████▋    | 45/80 [00:00<00:00, 147.48it/s]\u001b[A\n",
      " 76%|███████▋  | 61/80 [00:00<00:00, 150.14it/s]\u001b[A\n",
      "100%|██████████| 80/80 [00:00<00:00, 148.66it/s]\u001b[A\n",
      "  2%|▏         | 20/1125 [00:19<17:38,  1.04it/s]"
     ]
    },
    {
     "name": "stdout",
     "output_type": "stream",
     "text": [
      "/home/jiang/projects/SubtleGAN/data/brats2021/train/BraTS2021_01130\n"
     ]
    },
    {
     "name": "stderr",
     "output_type": "stream",
     "text": [
      "\n",
      "  0%|          | 0/80 [00:00<?, ?it/s]\u001b[A\n",
      " 20%|██        | 16/80 [00:00<00:00, 156.86it/s]\u001b[A\n",
      " 40%|████      | 32/80 [00:00<00:00, 151.12it/s]\u001b[A\n",
      " 60%|██████    | 48/80 [00:00<00:00, 149.46it/s]\u001b[A\n",
      " 79%|███████▉  | 63/80 [00:00<00:00, 148.30it/s]\u001b[A\n",
      "100%|██████████| 80/80 [00:00<00:00, 148.16it/s]\u001b[A\n",
      "  2%|▏         | 21/1125 [00:20<17:46,  1.04it/s]"
     ]
    },
    {
     "name": "stdout",
     "output_type": "stream",
     "text": [
      "/home/jiang/projects/SubtleGAN/data/brats2021/train/BraTS2021_00017\n"
     ]
    },
    {
     "name": "stderr",
     "output_type": "stream",
     "text": [
      "\n",
      "  0%|          | 0/80 [00:00<?, ?it/s]\u001b[A\n",
      " 20%|██        | 16/80 [00:00<00:00, 150.19it/s]\u001b[A\n",
      " 40%|████      | 32/80 [00:00<00:00, 148.37it/s]\u001b[A\n",
      " 59%|█████▉    | 47/80 [00:00<00:00, 147.36it/s]\u001b[A\n",
      " 78%|███████▊  | 62/80 [00:00<00:00, 146.56it/s]\u001b[A\n",
      "100%|██████████| 80/80 [00:00<00:00, 146.49it/s]\u001b[A\n",
      "  2%|▏         | 22/1125 [00:21<17:29,  1.05it/s]"
     ]
    },
    {
     "name": "stdout",
     "output_type": "stream",
     "text": [
      "/home/jiang/projects/SubtleGAN/data/brats2021/train/BraTS2021_01616\n"
     ]
    },
    {
     "name": "stderr",
     "output_type": "stream",
     "text": [
      "\n",
      "  0%|          | 0/80 [00:00<?, ?it/s]\u001b[A\n",
      " 20%|██        | 16/80 [00:00<00:00, 154.83it/s]\u001b[A\n",
      " 40%|████      | 32/80 [00:00<00:00, 150.52it/s]\u001b[A\n",
      " 60%|██████    | 48/80 [00:00<00:00, 149.14it/s]\u001b[A\n",
      " 80%|████████  | 64/80 [00:00<00:00, 149.77it/s]\u001b[A\n",
      "100%|██████████| 80/80 [00:00<00:00, 150.07it/s]\u001b[A\n",
      "  2%|▏         | 23/1125 [00:22<19:21,  1.05s/it]"
     ]
    },
    {
     "name": "stdout",
     "output_type": "stream",
     "text": [
      "/home/jiang/projects/SubtleGAN/data/brats2021/train/BraTS2021_00306\n"
     ]
    },
    {
     "name": "stderr",
     "output_type": "stream",
     "text": [
      "\n",
      "  0%|          | 0/80 [00:00<?, ?it/s]\u001b[A\n",
      " 20%|██        | 16/80 [00:00<00:00, 156.38it/s]\u001b[A\n",
      " 40%|████      | 32/80 [00:00<00:00, 154.61it/s]\u001b[A\n",
      " 60%|██████    | 48/80 [00:00<00:00, 153.79it/s]\u001b[A\n",
      " 80%|████████  | 64/80 [00:00<00:00, 153.69it/s]\u001b[A\n",
      "100%|██████████| 80/80 [00:00<00:00, 153.39it/s]\u001b[A\n",
      "  2%|▏         | 24/1125 [00:23<18:49,  1.03s/it]"
     ]
    },
    {
     "name": "stdout",
     "output_type": "stream",
     "text": [
      "/home/jiang/projects/SubtleGAN/data/brats2021/train/BraTS2021_00410\n"
     ]
    },
    {
     "name": "stderr",
     "output_type": "stream",
     "text": [
      "\n",
      "  0%|          | 0/80 [00:00<?, ?it/s]\u001b[A\n",
      " 20%|██        | 16/80 [00:00<00:00, 156.74it/s]\u001b[A\n",
      " 40%|████      | 32/80 [00:00<00:00, 154.84it/s]\u001b[A\n",
      " 60%|██████    | 48/80 [00:00<00:00, 154.50it/s]\u001b[A\n",
      " 80%|████████  | 64/80 [00:00<00:00, 154.17it/s]\u001b[A\n",
      "100%|██████████| 80/80 [00:00<00:00, 153.79it/s]\u001b[A\n",
      "  2%|▏         | 25/1125 [00:24<18:26,  1.01s/it]"
     ]
    },
    {
     "name": "stdout",
     "output_type": "stream",
     "text": [
      "/home/jiang/projects/SubtleGAN/data/brats2021/train/BraTS2021_01443\n"
     ]
    },
    {
     "name": "stderr",
     "output_type": "stream",
     "text": [
      "\n",
      "  0%|          | 0/80 [00:00<?, ?it/s]\u001b[A\n",
      " 19%|█▉        | 15/80 [00:00<00:00, 148.78it/s]\u001b[A\n",
      " 38%|███▊      | 30/80 [00:00<00:00, 147.43it/s]\u001b[A\n",
      " 57%|█████▊    | 46/80 [00:00<00:00, 149.19it/s]\u001b[A\n",
      " 78%|███████▊  | 62/80 [00:00<00:00, 151.14it/s]\u001b[A\n",
      "100%|██████████| 80/80 [00:00<00:00, 150.46it/s]\u001b[A\n",
      "  2%|▏         | 26/1125 [00:25<18:14,  1.00it/s]"
     ]
    },
    {
     "name": "stdout",
     "output_type": "stream",
     "text": [
      "/home/jiang/projects/SubtleGAN/data/brats2021/train/BraTS2021_01230\n"
     ]
    },
    {
     "name": "stderr",
     "output_type": "stream",
     "text": [
      "\n",
      "  0%|          | 0/80 [00:00<?, ?it/s]\u001b[A\n",
      " 20%|██        | 16/80 [00:00<00:00, 156.37it/s]\u001b[A\n",
      " 40%|████      | 32/80 [00:00<00:00, 155.04it/s]\u001b[A\n",
      " 60%|██████    | 48/80 [00:00<00:00, 154.96it/s]\u001b[A\n",
      " 80%|████████  | 64/80 [00:00<00:00, 154.76it/s]\u001b[A\n",
      "100%|██████████| 80/80 [00:00<00:00, 154.10it/s]\u001b[A\n",
      "  2%|▏         | 27/1125 [00:26<18:03,  1.01it/s]"
     ]
    },
    {
     "name": "stdout",
     "output_type": "stream",
     "text": [
      "/home/jiang/projects/SubtleGAN/data/brats2021/train/BraTS2021_00831\n"
     ]
    },
    {
     "name": "stderr",
     "output_type": "stream",
     "text": [
      "\n",
      "  0%|          | 0/80 [00:00<?, ?it/s]\u001b[A\n",
      " 20%|██        | 16/80 [00:00<00:00, 156.21it/s]\u001b[A\n",
      " 40%|████      | 32/80 [00:00<00:00, 150.51it/s]\u001b[A\n",
      " 60%|██████    | 48/80 [00:00<00:00, 148.78it/s]\u001b[A\n",
      " 79%|███████▉  | 63/80 [00:00<00:00, 148.60it/s]\u001b[A\n",
      "100%|██████████| 80/80 [00:00<00:00, 149.73it/s]\u001b[A\n",
      "  2%|▏         | 28/1125 [00:27<17:59,  1.02it/s]"
     ]
    },
    {
     "name": "stdout",
     "output_type": "stream",
     "text": [
      "/home/jiang/projects/SubtleGAN/data/brats2021/train/BraTS2021_00230\n"
     ]
    },
    {
     "name": "stderr",
     "output_type": "stream",
     "text": [
      "\n",
      "  0%|          | 0/80 [00:00<?, ?it/s]\u001b[A\n",
      " 20%|██        | 16/80 [00:00<00:00, 152.09it/s]\u001b[A\n",
      " 40%|████      | 32/80 [00:00<00:00, 152.91it/s]\u001b[A\n",
      " 60%|██████    | 48/80 [00:00<00:00, 153.23it/s]\u001b[A\n",
      " 80%|████████  | 64/80 [00:00<00:00, 153.49it/s]\u001b[A\n",
      "100%|██████████| 80/80 [00:00<00:00, 152.66it/s]\u001b[A\n",
      "  3%|▎         | 29/1125 [00:28<17:52,  1.02it/s]"
     ]
    },
    {
     "name": "stdout",
     "output_type": "stream",
     "text": [
      "/home/jiang/projects/SubtleGAN/data/brats2021/train/BraTS2021_01244\n"
     ]
    },
    {
     "name": "stderr",
     "output_type": "stream",
     "text": [
      "\n",
      "  0%|          | 0/80 [00:00<?, ?it/s]\u001b[A\n",
      " 20%|██        | 16/80 [00:00<00:00, 156.31it/s]\u001b[A\n",
      " 40%|████      | 32/80 [00:00<00:00, 154.41it/s]\u001b[A\n",
      " 60%|██████    | 48/80 [00:00<00:00, 150.68it/s]\u001b[A\n",
      " 80%|████████  | 64/80 [00:00<00:00, 149.13it/s]\u001b[A\n",
      "100%|██████████| 80/80 [00:00<00:00, 149.02it/s]\u001b[A\n",
      "  3%|▎         | 30/1125 [00:29<17:48,  1.02it/s]"
     ]
    },
    {
     "name": "stdout",
     "output_type": "stream",
     "text": [
      "/home/jiang/projects/SubtleGAN/data/brats2021/train/BraTS2021_01095\n"
     ]
    },
    {
     "name": "stderr",
     "output_type": "stream",
     "text": [
      "\n",
      "  0%|          | 0/80 [00:00<?, ?it/s]\u001b[A\n",
      " 20%|██        | 16/80 [00:00<00:00, 156.13it/s]\u001b[A\n",
      " 40%|████      | 32/80 [00:00<00:00, 154.51it/s]\u001b[A\n",
      " 60%|██████    | 48/80 [00:00<00:00, 153.82it/s]\u001b[A\n",
      " 80%|████████  | 64/80 [00:00<00:00, 153.55it/s]\u001b[A\n",
      "100%|██████████| 80/80 [00:00<00:00, 153.08it/s]\u001b[A\n",
      "  3%|▎         | 31/1125 [00:30<17:48,  1.02it/s]"
     ]
    },
    {
     "name": "stdout",
     "output_type": "stream",
     "text": [
      "/home/jiang/projects/SubtleGAN/data/brats2021/train/BraTS2021_00011\n"
     ]
    },
    {
     "name": "stderr",
     "output_type": "stream",
     "text": [
      "\n",
      "  0%|          | 0/80 [00:00<?, ?it/s]\u001b[A\n",
      " 20%|██        | 16/80 [00:00<00:00, 156.43it/s]\u001b[A\n",
      " 40%|████      | 32/80 [00:00<00:00, 154.34it/s]\u001b[A\n",
      " 60%|██████    | 48/80 [00:00<00:00, 153.32it/s]\u001b[A\n",
      " 80%|████████  | 64/80 [00:00<00:00, 153.45it/s]\u001b[A\n",
      "100%|██████████| 80/80 [00:00<00:00, 152.84it/s]\u001b[A\n",
      "  3%|▎         | 32/1125 [00:31<17:16,  1.05it/s]"
     ]
    },
    {
     "name": "stdout",
     "output_type": "stream",
     "text": [
      "/home/jiang/projects/SubtleGAN/data/brats2021/train/BraTS2021_00483\n"
     ]
    },
    {
     "name": "stderr",
     "output_type": "stream",
     "text": [
      "\n",
      "  0%|          | 0/80 [00:00<?, ?it/s]\u001b[A\n",
      " 20%|██        | 16/80 [00:00<00:00, 155.97it/s]\u001b[A\n",
      " 40%|████      | 32/80 [00:00<00:00, 154.39it/s]\u001b[A\n",
      " 60%|██████    | 48/80 [00:00<00:00, 154.10it/s]\u001b[A\n",
      " 80%|████████  | 64/80 [00:00<00:00, 153.68it/s]\u001b[A\n",
      "100%|██████████| 80/80 [00:00<00:00, 151.63it/s]\u001b[A\n",
      "  3%|▎         | 33/1125 [00:31<17:00,  1.07it/s]"
     ]
    },
    {
     "name": "stdout",
     "output_type": "stream",
     "text": [
      "/home/jiang/projects/SubtleGAN/data/brats2021/train/BraTS2021_00238\n"
     ]
    },
    {
     "name": "stderr",
     "output_type": "stream",
     "text": [
      "\n",
      "  0%|          | 0/80 [00:00<?, ?it/s]\u001b[A\n",
      " 19%|█▉        | 15/80 [00:00<00:00, 149.36it/s]\u001b[A\n",
      " 39%|███▉      | 31/80 [00:00<00:00, 150.90it/s]\u001b[A\n",
      " 59%|█████▉    | 47/80 [00:00<00:00, 152.27it/s]\u001b[A\n",
      " 79%|███████▉  | 63/80 [00:00<00:00, 152.71it/s]\u001b[A\n",
      "100%|██████████| 80/80 [00:00<00:00, 151.69it/s]\u001b[A\n",
      "  3%|▎         | 34/1125 [00:32<17:14,  1.05it/s]"
     ]
    },
    {
     "name": "stdout",
     "output_type": "stream",
     "text": [
      "/home/jiang/projects/SubtleGAN/data/brats2021/train/BraTS2021_01341\n"
     ]
    },
    {
     "name": "stderr",
     "output_type": "stream",
     "text": [
      "\n",
      "  0%|          | 0/80 [00:00<?, ?it/s]\u001b[A\n",
      " 20%|██        | 16/80 [00:00<00:00, 155.76it/s]\u001b[A\n",
      " 40%|████      | 32/80 [00:00<00:00, 149.84it/s]\u001b[A\n",
      " 59%|█████▉    | 47/80 [00:00<00:00, 148.30it/s]\u001b[A\n",
      " 78%|███████▊  | 62/80 [00:00<00:00, 147.37it/s]\u001b[A\n",
      "100%|██████████| 80/80 [00:00<00:00, 147.21it/s]\u001b[A\n",
      "  3%|▎         | 35/1125 [00:33<17:27,  1.04it/s]"
     ]
    },
    {
     "name": "stdout",
     "output_type": "stream",
     "text": [
      "/home/jiang/projects/SubtleGAN/data/brats2021/train/BraTS2021_01585\n"
     ]
    },
    {
     "name": "stderr",
     "output_type": "stream",
     "text": [
      "\n",
      "  0%|          | 0/80 [00:00<?, ?it/s]\u001b[A\n",
      " 19%|█▉        | 15/80 [00:00<00:00, 149.26it/s]\u001b[A\n",
      " 38%|███▊      | 30/80 [00:00<00:00, 149.20it/s]\u001b[A\n",
      " 57%|█████▊    | 46/80 [00:00<00:00, 151.38it/s]\u001b[A\n",
      " 78%|███████▊  | 62/80 [00:00<00:00, 152.40it/s]\u001b[A\n",
      "100%|██████████| 80/80 [00:00<00:00, 151.57it/s]\u001b[A\n",
      "  3%|▎         | 36/1125 [00:35<19:13,  1.06s/it]"
     ]
    },
    {
     "name": "stdout",
     "output_type": "stream",
     "text": [
      "/home/jiang/projects/SubtleGAN/data/brats2021/train/BraTS2021_01283\n"
     ]
    },
    {
     "name": "stderr",
     "output_type": "stream",
     "text": [
      "\n",
      "  0%|          | 0/80 [00:00<?, ?it/s]\u001b[A\n",
      " 20%|██        | 16/80 [00:00<00:00, 156.73it/s]\u001b[A\n",
      " 40%|████      | 32/80 [00:00<00:00, 155.17it/s]\u001b[A\n",
      " 60%|██████    | 48/80 [00:00<00:00, 154.65it/s]\u001b[A\n",
      " 80%|████████  | 64/80 [00:00<00:00, 154.28it/s]\u001b[A\n",
      "100%|██████████| 80/80 [00:00<00:00, 153.78it/s]\u001b[A\n",
      "  3%|▎         | 37/1125 [00:36<18:39,  1.03s/it]"
     ]
    },
    {
     "name": "stdout",
     "output_type": "stream",
     "text": [
      "/home/jiang/projects/SubtleGAN/data/brats2021/train/BraTS2021_01304\n"
     ]
    },
    {
     "name": "stderr",
     "output_type": "stream",
     "text": [
      "\n",
      "  0%|          | 0/80 [00:00<?, ?it/s]\u001b[A\n",
      " 20%|██        | 16/80 [00:00<00:00, 156.21it/s]\u001b[A\n",
      " 40%|████      | 32/80 [00:00<00:00, 154.95it/s]\u001b[A\n",
      " 60%|██████    | 48/80 [00:00<00:00, 154.72it/s]\u001b[A\n",
      " 80%|████████  | 64/80 [00:00<00:00, 154.53it/s]\u001b[A\n",
      "100%|██████████| 80/80 [00:00<00:00, 153.73it/s]\u001b[A\n",
      "  3%|▎         | 38/1125 [00:37<18:14,  1.01s/it]"
     ]
    },
    {
     "name": "stdout",
     "output_type": "stream",
     "text": [
      "/home/jiang/projects/SubtleGAN/data/brats2021/train/BraTS2021_00090\n"
     ]
    },
    {
     "name": "stderr",
     "output_type": "stream",
     "text": [
      "\n",
      "  0%|          | 0/80 [00:00<?, ?it/s]\u001b[A\n",
      " 20%|██        | 16/80 [00:00<00:00, 156.79it/s]\u001b[A\n",
      " 40%|████      | 32/80 [00:00<00:00, 155.02it/s]\u001b[A\n",
      " 60%|██████    | 48/80 [00:00<00:00, 154.66it/s]\u001b[A\n",
      " 80%|████████  | 64/80 [00:00<00:00, 154.53it/s]\u001b[A\n",
      "100%|██████████| 80/80 [00:00<00:00, 154.17it/s]\u001b[A\n",
      "  3%|▎         | 39/1125 [00:38<17:31,  1.03it/s]"
     ]
    },
    {
     "name": "stdout",
     "output_type": "stream",
     "text": [
      "/home/jiang/projects/SubtleGAN/data/brats2021/train/BraTS2021_00677\n"
     ]
    },
    {
     "name": "stderr",
     "output_type": "stream",
     "text": [
      "\n",
      "  0%|          | 0/80 [00:00<?, ?it/s]\u001b[A\n",
      " 20%|██        | 16/80 [00:00<00:00, 156.98it/s]\u001b[A\n",
      " 40%|████      | 32/80 [00:00<00:00, 154.96it/s]\u001b[A\n",
      " 60%|██████    | 48/80 [00:00<00:00, 154.54it/s]\u001b[A\n",
      " 80%|████████  | 64/80 [00:00<00:00, 154.38it/s]\u001b[A\n",
      "100%|██████████| 80/80 [00:00<00:00, 153.99it/s]\u001b[A\n",
      "  4%|▎         | 40/1125 [00:38<17:06,  1.06it/s]"
     ]
    },
    {
     "name": "stdout",
     "output_type": "stream",
     "text": [
      "/home/jiang/projects/SubtleGAN/data/brats2021/train/BraTS2021_01201\n"
     ]
    },
    {
     "name": "stderr",
     "output_type": "stream",
     "text": [
      "\n",
      "  0%|          | 0/80 [00:00<?, ?it/s]\u001b[A\n",
      " 20%|██        | 16/80 [00:00<00:00, 156.68it/s]\u001b[A\n",
      " 40%|████      | 32/80 [00:00<00:00, 154.81it/s]\u001b[A\n",
      " 60%|██████    | 48/80 [00:00<00:00, 154.01it/s]\u001b[A\n",
      " 80%|████████  | 64/80 [00:00<00:00, 151.26it/s]\u001b[A\n",
      "100%|██████████| 80/80 [00:00<00:00, 152.23it/s]\u001b[A\n",
      "  4%|▎         | 41/1125 [00:39<17:10,  1.05it/s]"
     ]
    },
    {
     "name": "stdout",
     "output_type": "stream",
     "text": [
      "/home/jiang/projects/SubtleGAN/data/brats2021/train/BraTS2021_00097\n"
     ]
    },
    {
     "name": "stderr",
     "output_type": "stream",
     "text": [
      "\n",
      "  0%|          | 0/80 [00:00<?, ?it/s]\u001b[A\n",
      " 20%|██        | 16/80 [00:00<00:00, 156.58it/s]\u001b[A\n",
      " 40%|████      | 32/80 [00:00<00:00, 154.81it/s]\u001b[A\n",
      " 60%|██████    | 48/80 [00:00<00:00, 154.35it/s]\u001b[A\n",
      " 80%|████████  | 64/80 [00:00<00:00, 154.31it/s]\u001b[A\n",
      "100%|██████████| 80/80 [00:00<00:00, 153.76it/s]\u001b[A\n",
      "  4%|▎         | 42/1125 [00:40<16:46,  1.08it/s]"
     ]
    },
    {
     "name": "stdout",
     "output_type": "stream",
     "text": [
      "/home/jiang/projects/SubtleGAN/data/brats2021/train/BraTS2021_01553\n"
     ]
    },
    {
     "name": "stderr",
     "output_type": "stream",
     "text": [
      "\n",
      "  0%|          | 0/80 [00:00<?, ?it/s]\u001b[A\n",
      " 20%|██        | 16/80 [00:00<00:00, 157.75it/s]\u001b[A\n",
      " 40%|████      | 32/80 [00:00<00:00, 155.83it/s]\u001b[A\n",
      " 60%|██████    | 48/80 [00:00<00:00, 155.49it/s]\u001b[A\n",
      " 80%|████████  | 64/80 [00:00<00:00, 155.15it/s]\u001b[A\n",
      "100%|██████████| 80/80 [00:00<00:00, 154.43it/s]\u001b[A\n",
      "  4%|▍         | 43/1125 [00:42<18:32,  1.03s/it]"
     ]
    },
    {
     "name": "stdout",
     "output_type": "stream",
     "text": [
      "/home/jiang/projects/SubtleGAN/data/brats2021/train/BraTS2021_00801\n"
     ]
    },
    {
     "name": "stderr",
     "output_type": "stream",
     "text": [
      "\n",
      "  0%|          | 0/80 [00:00<?, ?it/s]\u001b[A\n",
      " 20%|██        | 16/80 [00:00<00:00, 156.18it/s]\u001b[A\n",
      " 40%|████      | 32/80 [00:00<00:00, 154.90it/s]\u001b[A\n",
      " 60%|██████    | 48/80 [00:00<00:00, 154.67it/s]\u001b[A\n",
      " 80%|████████  | 64/80 [00:00<00:00, 154.62it/s]\u001b[A\n",
      "100%|██████████| 80/80 [00:00<00:00, 154.25it/s]\u001b[A\n",
      "  4%|▍         | 44/1125 [00:43<19:51,  1.10s/it]"
     ]
    },
    {
     "name": "stdout",
     "output_type": "stream",
     "text": [
      "/home/jiang/projects/SubtleGAN/data/brats2021/train/BraTS2021_01231\n"
     ]
    },
    {
     "name": "stderr",
     "output_type": "stream",
     "text": [
      "\n",
      "  0%|          | 0/80 [00:00<?, ?it/s]\u001b[A\n",
      " 20%|██        | 16/80 [00:00<00:00, 156.91it/s]\u001b[A\n",
      " 40%|████      | 32/80 [00:00<00:00, 154.86it/s]\u001b[A\n",
      " 60%|██████    | 48/80 [00:00<00:00, 154.64it/s]\u001b[A\n",
      " 80%|████████  | 64/80 [00:00<00:00, 154.25it/s]\u001b[A\n",
      "100%|██████████| 80/80 [00:00<00:00, 153.86it/s]\u001b[A\n",
      "  4%|▍         | 45/1125 [00:44<19:02,  1.06s/it]"
     ]
    },
    {
     "name": "stdout",
     "output_type": "stream",
     "text": [
      "/home/jiang/projects/SubtleGAN/data/brats2021/train/BraTS2021_01209\n"
     ]
    },
    {
     "name": "stderr",
     "output_type": "stream",
     "text": [
      "\n",
      "  0%|          | 0/80 [00:00<?, ?it/s]\u001b[A\n",
      " 20%|██        | 16/80 [00:00<00:00, 156.37it/s]\u001b[A\n",
      " 40%|████      | 32/80 [00:00<00:00, 154.43it/s]\u001b[A\n",
      " 60%|██████    | 48/80 [00:00<00:00, 153.64it/s]\u001b[A\n",
      " 80%|████████  | 64/80 [00:00<00:00, 153.73it/s]\u001b[A\n",
      "100%|██████████| 80/80 [00:00<00:00, 153.49it/s]\u001b[A\n",
      "  4%|▍         | 46/1125 [00:45<18:29,  1.03s/it]"
     ]
    },
    {
     "name": "stdout",
     "output_type": "stream",
     "text": [
      "/home/jiang/projects/SubtleGAN/data/brats2021/train/BraTS2021_00062\n"
     ]
    },
    {
     "name": "stderr",
     "output_type": "stream",
     "text": [
      "\n",
      "  0%|          | 0/80 [00:00<?, ?it/s]\u001b[A\n",
      " 20%|██        | 16/80 [00:00<00:00, 156.23it/s]\u001b[A\n",
      " 40%|████      | 32/80 [00:00<00:00, 154.05it/s]\u001b[A\n",
      " 60%|██████    | 48/80 [00:00<00:00, 153.87it/s]\u001b[A\n",
      " 80%|████████  | 64/80 [00:00<00:00, 154.07it/s]\u001b[A\n",
      "100%|██████████| 80/80 [00:00<00:00, 153.54it/s]\u001b[A\n",
      "  4%|▍         | 47/1125 [00:46<17:41,  1.02it/s]"
     ]
    },
    {
     "name": "stdout",
     "output_type": "stream",
     "text": [
      "/home/jiang/projects/SubtleGAN/data/brats2021/train/BraTS2021_00824\n"
     ]
    },
    {
     "name": "stderr",
     "output_type": "stream",
     "text": [
      "\n",
      "  0%|          | 0/80 [00:00<?, ?it/s]\u001b[A\n",
      " 20%|██        | 16/80 [00:00<00:00, 156.23it/s]\u001b[A\n",
      " 40%|████      | 32/80 [00:00<00:00, 154.70it/s]\u001b[A\n",
      " 60%|██████    | 48/80 [00:00<00:00, 150.88it/s]\u001b[A\n",
      " 80%|████████  | 64/80 [00:00<00:00, 150.60it/s]\u001b[A\n",
      "100%|██████████| 80/80 [00:00<00:00, 151.12it/s]\u001b[A\n",
      "  4%|▍         | 48/1125 [00:47<19:16,  1.07s/it]"
     ]
    },
    {
     "name": "stdout",
     "output_type": "stream",
     "text": [
      "/home/jiang/projects/SubtleGAN/data/brats2021/train/BraTS2021_00253\n"
     ]
    },
    {
     "name": "stderr",
     "output_type": "stream",
     "text": [
      "\n",
      "  0%|          | 0/80 [00:00<?, ?it/s]\u001b[A\n",
      " 20%|██        | 16/80 [00:00<00:00, 156.29it/s]\u001b[A\n",
      " 40%|████      | 32/80 [00:00<00:00, 150.80it/s]\u001b[A\n",
      " 60%|██████    | 48/80 [00:00<00:00, 149.65it/s]\u001b[A\n",
      " 79%|███████▉  | 63/80 [00:00<00:00, 148.63it/s]\u001b[A\n",
      "100%|██████████| 80/80 [00:00<00:00, 149.66it/s]\u001b[A\n",
      "  4%|▍         | 49/1125 [00:48<18:44,  1.05s/it]"
     ]
    },
    {
     "name": "stdout",
     "output_type": "stream",
     "text": [
      "/home/jiang/projects/SubtleGAN/data/brats2021/train/BraTS2021_00132\n"
     ]
    },
    {
     "name": "stderr",
     "output_type": "stream",
     "text": [
      "\n",
      "  0%|          | 0/80 [00:00<?, ?it/s]\u001b[A\n",
      " 21%|██▏       | 17/80 [00:00<00:00, 160.94it/s]\u001b[A\n",
      " 42%|████▎     | 34/80 [00:00<00:00, 154.76it/s]\u001b[A\n",
      " 62%|██████▎   | 50/80 [00:00<00:00, 153.12it/s]\u001b[A\n",
      "100%|██████████| 80/80 [00:00<00:00, 152.55it/s]\u001b[A\n",
      "  4%|▍         | 50/1125 [00:49<18:17,  1.02s/it]"
     ]
    },
    {
     "name": "stdout",
     "output_type": "stream",
     "text": [
      "/home/jiang/projects/SubtleGAN/data/brats2021/train/BraTS2021_00780\n"
     ]
    },
    {
     "name": "stderr",
     "output_type": "stream",
     "text": [
      "\n",
      "  0%|          | 0/80 [00:00<?, ?it/s]\u001b[A\n",
      " 18%|█▊        | 14/80 [00:00<00:00, 136.36it/s]\u001b[A\n",
      " 38%|███▊      | 30/80 [00:00<00:00, 147.09it/s]\u001b[A\n",
      " 57%|█████▊    | 46/80 [00:00<00:00, 151.96it/s]\u001b[A\n",
      " 78%|███████▊  | 62/80 [00:00<00:00, 154.28it/s]\u001b[A\n",
      "100%|██████████| 80/80 [00:00<00:00, 152.15it/s]\u001b[A\n",
      "  5%|▍         | 51/1125 [00:50<20:03,  1.12s/it]"
     ]
    },
    {
     "name": "stdout",
     "output_type": "stream",
     "text": [
      "/home/jiang/projects/SubtleGAN/data/brats2021/train/BraTS2021_01291\n"
     ]
    },
    {
     "name": "stderr",
     "output_type": "stream",
     "text": [
      "\n",
      "  0%|          | 0/80 [00:00<?, ?it/s]\u001b[A\n",
      " 21%|██▏       | 17/80 [00:00<00:00, 161.20it/s]\u001b[A\n",
      " 42%|████▎     | 34/80 [00:00<00:00, 159.57it/s]\u001b[A\n",
      " 62%|██████▎   | 50/80 [00:00<00:00, 158.79it/s]\u001b[A\n",
      "100%|██████████| 80/80 [00:00<00:00, 158.56it/s]\u001b[A\n",
      "  5%|▍         | 52/1125 [00:51<19:22,  1.08s/it]"
     ]
    },
    {
     "name": "stdout",
     "output_type": "stream",
     "text": [
      "/home/jiang/projects/SubtleGAN/data/brats2021/train/BraTS2021_01371\n"
     ]
    },
    {
     "name": "stderr",
     "output_type": "stream",
     "text": [
      "\n",
      "  0%|          | 0/80 [00:00<?, ?it/s]\u001b[A\n",
      " 20%|██        | 16/80 [00:00<00:00, 157.15it/s]\u001b[A\n",
      " 40%|████      | 32/80 [00:00<00:00, 156.98it/s]\u001b[A\n",
      " 60%|██████    | 48/80 [00:00<00:00, 156.88it/s]\u001b[A\n",
      " 80%|████████  | 64/80 [00:00<00:00, 156.97it/s]\u001b[A\n",
      "100%|██████████| 80/80 [00:00<00:00, 156.29it/s]\u001b[A\n",
      "  5%|▍         | 53/1125 [00:52<19:04,  1.07s/it]"
     ]
    },
    {
     "name": "stdout",
     "output_type": "stream",
     "text": [
      "/home/jiang/projects/SubtleGAN/data/brats2021/train/BraTS2021_01514\n"
     ]
    },
    {
     "name": "stderr",
     "output_type": "stream",
     "text": [
      "\n",
      "  0%|          | 0/80 [00:00<?, ?it/s]\u001b[A\n",
      " 21%|██▏       | 17/80 [00:00<00:00, 160.50it/s]\u001b[A\n",
      " 42%|████▎     | 34/80 [00:00<00:00, 158.83it/s]\u001b[A\n",
      " 62%|██████▎   | 50/80 [00:00<00:00, 158.29it/s]\u001b[A\n",
      "100%|██████████| 80/80 [00:00<00:00, 158.03it/s]\u001b[A\n",
      "  5%|▍         | 54/1125 [00:53<18:47,  1.05s/it]"
     ]
    },
    {
     "name": "stdout",
     "output_type": "stream",
     "text": [
      "/home/jiang/projects/SubtleGAN/data/brats2021/train/BraTS2021_01461\n"
     ]
    },
    {
     "name": "stderr",
     "output_type": "stream",
     "text": [
      "\n",
      "  0%|          | 0/80 [00:00<?, ?it/s]\u001b[A\n",
      " 21%|██▏       | 17/80 [00:00<00:00, 160.37it/s]\u001b[A\n",
      " 42%|████▎     | 34/80 [00:00<00:00, 158.70it/s]\u001b[A\n",
      " 62%|██████▎   | 50/80 [00:00<00:00, 158.39it/s]\u001b[A\n",
      "100%|██████████| 80/80 [00:00<00:00, 157.93it/s]\u001b[A\n",
      "  5%|▍         | 55/1125 [00:54<18:32,  1.04s/it]"
     ]
    },
    {
     "name": "stdout",
     "output_type": "stream",
     "text": [
      "/home/jiang/projects/SubtleGAN/data/brats2021/train/BraTS2021_01438\n"
     ]
    },
    {
     "name": "stderr",
     "output_type": "stream",
     "text": [
      "\n",
      "  0%|          | 0/80 [00:00<?, ?it/s]\u001b[A\n",
      " 18%|█▊        | 14/80 [00:00<00:00, 135.36it/s]\u001b[A\n",
      " 38%|███▊      | 30/80 [00:00<00:00, 148.23it/s]\u001b[A\n",
      " 57%|█████▊    | 46/80 [00:00<00:00, 149.97it/s]\u001b[A\n",
      " 78%|███████▊  | 62/80 [00:00<00:00, 150.63it/s]\u001b[A\n",
      "100%|██████████| 80/80 [00:00<00:00, 149.25it/s]\u001b[A\n",
      "  5%|▍         | 56/1125 [00:55<18:33,  1.04s/it]"
     ]
    },
    {
     "name": "stdout",
     "output_type": "stream",
     "text": [
      "/home/jiang/projects/SubtleGAN/data/brats2021/train/BraTS2021_00730\n"
     ]
    },
    {
     "name": "stderr",
     "output_type": "stream",
     "text": [
      "\n",
      "  0%|          | 0/80 [00:00<?, ?it/s]\u001b[A\n",
      " 21%|██▏       | 17/80 [00:00<00:00, 160.71it/s]\u001b[A\n",
      " 42%|████▎     | 34/80 [00:00<00:00, 154.44it/s]\u001b[A\n",
      " 62%|██████▎   | 50/80 [00:00<00:00, 152.33it/s]\u001b[A\n",
      "100%|██████████| 80/80 [00:00<00:00, 152.86it/s]\u001b[A\n",
      "  5%|▌         | 57/1125 [00:56<18:08,  1.02s/it]"
     ]
    },
    {
     "name": "stdout",
     "output_type": "stream",
     "text": [
      "/home/jiang/projects/SubtleGAN/data/brats2021/train/BraTS2021_01624\n"
     ]
    },
    {
     "name": "stderr",
     "output_type": "stream",
     "text": [
      "\n",
      "  0%|          | 0/80 [00:00<?, ?it/s]\u001b[A\n",
      " 21%|██▏       | 17/80 [00:00<00:00, 160.30it/s]\u001b[A\n",
      " 42%|████▎     | 34/80 [00:00<00:00, 156.20it/s]\u001b[A\n",
      " 62%|██████▎   | 50/80 [00:00<00:00, 156.46it/s]\u001b[A\n",
      "100%|██████████| 80/80 [00:00<00:00, 156.89it/s]\u001b[A\n",
      "  5%|▌         | 58/1125 [00:58<19:49,  1.12s/it]"
     ]
    },
    {
     "name": "stdout",
     "output_type": "stream",
     "text": [
      "/home/jiang/projects/SubtleGAN/data/brats2021/train/BraTS2021_01005\n"
     ]
    },
    {
     "name": "stderr",
     "output_type": "stream",
     "text": [
      "\n",
      "  0%|          | 0/80 [00:00<?, ?it/s]\u001b[A\n",
      " 20%|██        | 16/80 [00:00<00:00, 157.49it/s]\u001b[A\n",
      " 40%|████      | 32/80 [00:00<00:00, 156.68it/s]\u001b[A\n",
      " 60%|██████    | 48/80 [00:00<00:00, 156.59it/s]\u001b[A\n",
      " 80%|████████  | 64/80 [00:00<00:00, 156.49it/s]\u001b[A\n",
      "100%|██████████| 80/80 [00:00<00:00, 155.53it/s]\u001b[A\n",
      "  5%|▌         | 59/1125 [00:59<19:17,  1.09s/it]"
     ]
    },
    {
     "name": "stdout",
     "output_type": "stream",
     "text": [
      "/home/jiang/projects/SubtleGAN/data/brats2021/train/BraTS2021_01408\n"
     ]
    },
    {
     "name": "stderr",
     "output_type": "stream",
     "text": [
      "\n",
      "  0%|          | 0/80 [00:00<?, ?it/s]\u001b[A\n",
      " 21%|██▏       | 17/80 [00:00<00:00, 160.17it/s]\u001b[A\n",
      " 42%|████▎     | 34/80 [00:00<00:00, 157.92it/s]\u001b[A\n",
      " 62%|██████▎   | 50/80 [00:00<00:00, 157.66it/s]\u001b[A\n",
      "100%|██████████| 80/80 [00:00<00:00, 153.98it/s]\u001b[A\n",
      "  5%|▌         | 60/1125 [01:00<19:02,  1.07s/it]"
     ]
    },
    {
     "name": "stdout",
     "output_type": "stream",
     "text": [
      "/home/jiang/projects/SubtleGAN/data/brats2021/train/BraTS2021_01268\n"
     ]
    },
    {
     "name": "stderr",
     "output_type": "stream",
     "text": [
      "\n",
      "  0%|          | 0/80 [00:00<?, ?it/s]\u001b[A\n",
      " 18%|█▊        | 14/80 [00:00<00:00, 137.52it/s]\u001b[A\n",
      " 38%|███▊      | 30/80 [00:00<00:00, 149.12it/s]\u001b[A\n",
      " 57%|█████▊    | 46/80 [00:00<00:00, 153.06it/s]\u001b[A\n",
      " 78%|███████▊  | 62/80 [00:00<00:00, 154.54it/s]\u001b[A\n",
      "100%|██████████| 80/80 [00:00<00:00, 152.70it/s]\u001b[A\n",
      "  5%|▌         | 61/1125 [01:01<18:42,  1.05s/it]"
     ]
    },
    {
     "name": "stdout",
     "output_type": "stream",
     "text": [
      "/home/jiang/projects/SubtleGAN/data/brats2021/train/BraTS2021_00309\n"
     ]
    },
    {
     "name": "stderr",
     "output_type": "stream",
     "text": [
      "\n",
      "  0%|          | 0/80 [00:00<?, ?it/s]\u001b[A\n",
      " 20%|██        | 16/80 [00:00<00:00, 159.37it/s]\u001b[A\n",
      " 40%|████      | 32/80 [00:00<00:00, 158.04it/s]\u001b[A\n",
      " 60%|██████    | 48/80 [00:00<00:00, 156.84it/s]\u001b[A\n",
      " 80%|████████  | 64/80 [00:00<00:00, 157.16it/s]\u001b[A\n",
      "100%|██████████| 80/80 [00:00<00:00, 156.46it/s]\u001b[A\n",
      "  6%|▌         | 62/1125 [01:02<18:25,  1.04s/it]"
     ]
    },
    {
     "name": "stdout",
     "output_type": "stream",
     "text": [
      "/home/jiang/projects/SubtleGAN/data/brats2021/train/BraTS2021_01237\n"
     ]
    },
    {
     "name": "stderr",
     "output_type": "stream",
     "text": [
      "\n",
      "  0%|          | 0/80 [00:00<?, ?it/s]\u001b[A\n",
      " 20%|██        | 16/80 [00:00<00:00, 157.66it/s]\u001b[A\n",
      " 40%|████      | 32/80 [00:00<00:00, 157.70it/s]\u001b[A\n",
      " 60%|██████    | 48/80 [00:00<00:00, 157.41it/s]\u001b[A\n",
      " 80%|████████  | 64/80 [00:00<00:00, 157.51it/s]\u001b[A\n",
      "100%|██████████| 80/80 [00:00<00:00, 156.85it/s]\u001b[A\n",
      "  6%|▌         | 63/1125 [01:03<18:24,  1.04s/it]"
     ]
    },
    {
     "name": "stdout",
     "output_type": "stream",
     "text": [
      "/home/jiang/projects/SubtleGAN/data/brats2021/train/BraTS2021_00689\n"
     ]
    },
    {
     "name": "stderr",
     "output_type": "stream",
     "text": [
      "\n",
      "  0%|          | 0/80 [00:00<?, ?it/s]\u001b[A\n",
      " 20%|██        | 16/80 [00:00<00:00, 157.76it/s]\u001b[A\n",
      " 40%|████      | 32/80 [00:00<00:00, 156.94it/s]\u001b[A\n",
      " 60%|██████    | 48/80 [00:00<00:00, 157.56it/s]\u001b[A\n",
      " 80%|████████  | 64/80 [00:00<00:00, 157.76it/s]\u001b[A\n",
      "100%|██████████| 80/80 [00:00<00:00, 156.80it/s]\u001b[A\n",
      "  6%|▌         | 64/1125 [01:04<17:46,  1.01s/it]"
     ]
    },
    {
     "name": "stdout",
     "output_type": "stream",
     "text": [
      "/home/jiang/projects/SubtleGAN/data/brats2021/train/BraTS2021_00006\n"
     ]
    },
    {
     "name": "stderr",
     "output_type": "stream",
     "text": [
      "\n",
      "  0%|          | 0/80 [00:00<?, ?it/s]\u001b[A\n",
      " 20%|██        | 16/80 [00:00<00:00, 159.62it/s]\u001b[A\n",
      " 40%|████      | 32/80 [00:00<00:00, 157.63it/s]\u001b[A\n",
      " 60%|██████    | 48/80 [00:00<00:00, 155.80it/s]\u001b[A\n",
      " 80%|████████  | 64/80 [00:00<00:00, 155.83it/s]\u001b[A\n",
      "100%|██████████| 80/80 [00:00<00:00, 155.48it/s]\u001b[A\n",
      "  6%|▌         | 65/1125 [01:05<17:30,  1.01it/s]"
     ]
    },
    {
     "name": "stdout",
     "output_type": "stream",
     "text": [
      "/home/jiang/projects/SubtleGAN/data/brats2021/train/BraTS2021_01195\n"
     ]
    },
    {
     "name": "stderr",
     "output_type": "stream",
     "text": [
      "\n",
      "  0%|          | 0/80 [00:00<?, ?it/s]\u001b[A\n",
      " 19%|█▉        | 15/80 [00:00<00:00, 144.42it/s]\u001b[A\n",
      " 39%|███▉      | 31/80 [00:00<00:00, 152.23it/s]\u001b[A\n",
      " 59%|█████▉    | 47/80 [00:00<00:00, 154.96it/s]\u001b[A\n",
      " 79%|███████▉  | 63/80 [00:00<00:00, 156.22it/s]\u001b[A\n",
      "100%|██████████| 80/80 [00:00<00:00, 154.32it/s]\u001b[A\n",
      "  6%|▌         | 66/1125 [01:06<17:42,  1.00s/it]"
     ]
    },
    {
     "name": "stdout",
     "output_type": "stream",
     "text": [
      "/home/jiang/projects/SubtleGAN/data/brats2021/train/BraTS2021_00652\n"
     ]
    },
    {
     "name": "stderr",
     "output_type": "stream",
     "text": [
      "\n",
      "  0%|          | 0/80 [00:00<?, ?it/s]\u001b[A\n",
      " 21%|██▏       | 17/80 [00:00<00:00, 160.43it/s]\u001b[A\n",
      " 42%|████▎     | 34/80 [00:00<00:00, 158.95it/s]\u001b[A\n",
      " 62%|██████▎   | 50/80 [00:00<00:00, 158.35it/s]\u001b[A\n",
      "100%|██████████| 80/80 [00:00<00:00, 158.42it/s]\u001b[A\n",
      "  6%|▌         | 67/1125 [01:07<17:23,  1.01it/s]"
     ]
    },
    {
     "name": "stdout",
     "output_type": "stream",
     "text": [
      "/home/jiang/projects/SubtleGAN/data/brats2021/train/BraTS2021_01470\n"
     ]
    },
    {
     "name": "stderr",
     "output_type": "stream",
     "text": [
      "\n",
      "  0%|          | 0/80 [00:00<?, ?it/s]\u001b[A\n",
      " 20%|██        | 16/80 [00:00<00:00, 157.28it/s]\u001b[A\n",
      " 40%|████      | 32/80 [00:00<00:00, 157.85it/s]\u001b[A\n",
      " 60%|██████    | 48/80 [00:00<00:00, 158.05it/s]\u001b[A\n",
      " 80%|████████  | 64/80 [00:00<00:00, 158.08it/s]\u001b[A\n",
      "100%|██████████| 80/80 [00:00<00:00, 157.23it/s]\u001b[A\n",
      "  6%|▌         | 68/1125 [01:08<17:33,  1.00it/s]"
     ]
    },
    {
     "name": "stdout",
     "output_type": "stream",
     "text": [
      "/home/jiang/projects/SubtleGAN/data/brats2021/train/BraTS2021_01431\n"
     ]
    },
    {
     "name": "stderr",
     "output_type": "stream",
     "text": [
      "\n",
      "  0%|          | 0/80 [00:00<?, ?it/s]\u001b[A\n",
      " 20%|██        | 16/80 [00:00<00:00, 158.77it/s]\u001b[A\n",
      " 40%|████      | 32/80 [00:00<00:00, 158.34it/s]\u001b[A\n",
      " 60%|██████    | 48/80 [00:00<00:00, 158.20it/s]\u001b[A\n",
      " 80%|████████  | 64/80 [00:00<00:00, 158.04it/s]\u001b[A\n",
      "100%|██████████| 80/80 [00:00<00:00, 157.48it/s]\u001b[A\n",
      "  6%|▌         | 69/1125 [01:09<17:38,  1.00s/it]"
     ]
    },
    {
     "name": "stdout",
     "output_type": "stream",
     "text": [
      "/home/jiang/projects/SubtleGAN/data/brats2021/train/BraTS2021_00298\n"
     ]
    },
    {
     "name": "stderr",
     "output_type": "stream",
     "text": [
      "\n",
      "  0%|          | 0/80 [00:00<?, ?it/s]\u001b[A\n",
      " 21%|██▏       | 17/80 [00:00<00:00, 160.98it/s]\u001b[A\n",
      " 42%|████▎     | 34/80 [00:00<00:00, 158.18it/s]\u001b[A\n",
      " 62%|██████▎   | 50/80 [00:00<00:00, 157.65it/s]\u001b[A\n",
      "100%|██████████| 80/80 [00:00<00:00, 158.09it/s]\u001b[A\n",
      "  6%|▌         | 70/1125 [01:10<17:41,  1.01s/it]"
     ]
    },
    {
     "name": "stdout",
     "output_type": "stream",
     "text": [
      "/home/jiang/projects/SubtleGAN/data/brats2021/train/BraTS2021_01019\n"
     ]
    },
    {
     "name": "stderr",
     "output_type": "stream",
     "text": [
      "\n",
      "  0%|          | 0/80 [00:00<?, ?it/s]\u001b[A\n",
      " 21%|██▏       | 17/80 [00:00<00:00, 161.20it/s]\u001b[A\n",
      " 42%|████▎     | 34/80 [00:00<00:00, 159.43it/s]\u001b[A\n",
      " 62%|██████▎   | 50/80 [00:00<00:00, 158.53it/s]\u001b[A\n",
      "100%|██████████| 80/80 [00:00<00:00, 158.40it/s]\u001b[A\n",
      "  6%|▋         | 71/1125 [01:11<17:46,  1.01s/it]"
     ]
    },
    {
     "name": "stdout",
     "output_type": "stream",
     "text": [
      "/home/jiang/projects/SubtleGAN/data/brats2021/train/BraTS2021_01434\n"
     ]
    },
    {
     "name": "stderr",
     "output_type": "stream",
     "text": [
      "\n",
      "  0%|          | 0/80 [00:00<?, ?it/s]\u001b[A\n",
      " 20%|██        | 16/80 [00:00<00:00, 159.17it/s]\u001b[A\n",
      " 40%|████      | 32/80 [00:00<00:00, 158.26it/s]\u001b[A\n",
      " 60%|██████    | 48/80 [00:00<00:00, 157.80it/s]\u001b[A\n",
      " 80%|████████  | 64/80 [00:00<00:00, 158.46it/s]\u001b[A\n",
      "100%|██████████| 80/80 [00:00<00:00, 156.39it/s]\u001b[A\n",
      "  6%|▋         | 72/1125 [01:12<17:50,  1.02s/it]"
     ]
    },
    {
     "name": "stdout",
     "output_type": "stream",
     "text": [
      "/home/jiang/projects/SubtleGAN/data/brats2021/train/BraTS2021_00109\n"
     ]
    },
    {
     "name": "stderr",
     "output_type": "stream",
     "text": [
      "\n",
      "  0%|          | 0/80 [00:00<?, ?it/s]\u001b[A\n",
      " 21%|██▏       | 17/80 [00:00<00:00, 160.07it/s]\u001b[A\n",
      " 42%|████▎     | 34/80 [00:00<00:00, 158.76it/s]\u001b[A\n",
      " 62%|██████▎   | 50/80 [00:00<00:00, 157.98it/s]\u001b[A\n",
      "100%|██████████| 80/80 [00:00<00:00, 156.06it/s]\u001b[A\n",
      "  6%|▋         | 73/1125 [01:13<18:06,  1.03s/it]"
     ]
    },
    {
     "name": "stdout",
     "output_type": "stream",
     "text": [
      "/home/jiang/projects/SubtleGAN/data/brats2021/train/BraTS2021_01437\n"
     ]
    },
    {
     "name": "stderr",
     "output_type": "stream",
     "text": [
      "\n",
      "  0%|          | 0/80 [00:00<?, ?it/s]\u001b[A\n",
      " 20%|██        | 16/80 [00:00<00:00, 159.39it/s]\u001b[A\n",
      " 40%|████      | 32/80 [00:00<00:00, 157.98it/s]\u001b[A\n",
      " 60%|██████    | 48/80 [00:00<00:00, 156.55it/s]\u001b[A\n",
      " 80%|████████  | 64/80 [00:00<00:00, 156.43it/s]\u001b[A\n",
      "100%|██████████| 80/80 [00:00<00:00, 156.07it/s]\u001b[A\n",
      "  7%|▋         | 74/1125 [01:14<17:58,  1.03s/it]"
     ]
    },
    {
     "name": "stdout",
     "output_type": "stream",
     "text": [
      "/home/jiang/projects/SubtleGAN/data/brats2021/train/BraTS2021_01032\n"
     ]
    },
    {
     "name": "stderr",
     "output_type": "stream",
     "text": [
      "\n",
      "  0%|          | 0/80 [00:00<?, ?it/s]\u001b[A\n",
      " 21%|██▏       | 17/80 [00:00<00:00, 160.55it/s]\u001b[A\n",
      " 42%|████▎     | 34/80 [00:00<00:00, 155.24it/s]\u001b[A\n",
      " 62%|██████▎   | 50/80 [00:00<00:00, 155.95it/s]\u001b[A\n",
      "100%|██████████| 80/80 [00:00<00:00, 156.20it/s]\u001b[A\n",
      "  7%|▋         | 75/1125 [01:15<19:26,  1.11s/it]"
     ]
    },
    {
     "name": "stdout",
     "output_type": "stream",
     "text": [
      "/home/jiang/projects/SubtleGAN/data/brats2021/train/BraTS2021_01148\n"
     ]
    },
    {
     "name": "stderr",
     "output_type": "stream",
     "text": [
      "\n",
      "  0%|          | 0/80 [00:00<?, ?it/s]\u001b[A\n",
      " 20%|██        | 16/80 [00:00<00:00, 156.41it/s]\u001b[A\n",
      " 40%|████      | 32/80 [00:00<00:00, 152.20it/s]\u001b[A\n",
      " 60%|██████    | 48/80 [00:00<00:00, 150.77it/s]\u001b[A\n",
      " 80%|████████  | 64/80 [00:00<00:00, 152.26it/s]\u001b[A\n",
      "100%|██████████| 80/80 [00:00<00:00, 152.28it/s]\u001b[A\n",
      "  7%|▋         | 76/1125 [01:16<18:53,  1.08s/it]"
     ]
    },
    {
     "name": "stdout",
     "output_type": "stream",
     "text": [
      "/home/jiang/projects/SubtleGAN/data/brats2021/train/BraTS2021_00472\n"
     ]
    },
    {
     "name": "stderr",
     "output_type": "stream",
     "text": [
      "\n",
      "  0%|          | 0/80 [00:00<?, ?it/s]\u001b[A\n",
      " 20%|██        | 16/80 [00:00<00:00, 153.12it/s]\u001b[A\n",
      " 40%|████      | 32/80 [00:00<00:00, 151.05it/s]\u001b[A\n",
      " 60%|██████    | 48/80 [00:00<00:00, 150.81it/s]\u001b[A\n",
      " 80%|████████  | 64/80 [00:00<00:00, 150.54it/s]\u001b[A\n",
      "100%|██████████| 80/80 [00:00<00:00, 149.99it/s]\u001b[A\n",
      "  7%|▋         | 77/1125 [01:17<18:23,  1.05s/it]"
     ]
    },
    {
     "name": "stdout",
     "output_type": "stream",
     "text": [
      "/home/jiang/projects/SubtleGAN/data/brats2021/train/BraTS2021_00543\n"
     ]
    },
    {
     "name": "stderr",
     "output_type": "stream",
     "text": [
      "\n",
      "  0%|          | 0/80 [00:00<?, ?it/s]\u001b[A\n",
      " 20%|██        | 16/80 [00:00<00:00, 153.91it/s]\u001b[A\n",
      " 40%|████      | 32/80 [00:00<00:00, 153.58it/s]\u001b[A\n",
      " 60%|██████    | 48/80 [00:00<00:00, 151.42it/s]\u001b[A\n",
      " 80%|████████  | 64/80 [00:00<00:00, 150.62it/s]\u001b[A\n",
      "100%|██████████| 80/80 [00:00<00:00, 151.08it/s]\u001b[A\n",
      "  7%|▋         | 78/1125 [01:18<18:02,  1.03s/it]"
     ]
    },
    {
     "name": "stdout",
     "output_type": "stream",
     "text": [
      "/home/jiang/projects/SubtleGAN/data/brats2021/train/BraTS2021_01186\n"
     ]
    },
    {
     "name": "stderr",
     "output_type": "stream",
     "text": [
      "\n",
      "  0%|          | 0/80 [00:00<?, ?it/s]\u001b[A\n",
      " 19%|█▉        | 15/80 [00:00<00:00, 148.42it/s]\u001b[A\n",
      " 38%|███▊      | 30/80 [00:00<00:00, 146.44it/s]\u001b[A\n",
      " 57%|█████▊    | 46/80 [00:00<00:00, 148.40it/s]\u001b[A\n",
      " 78%|███████▊  | 62/80 [00:00<00:00, 150.09it/s]\u001b[A\n",
      "100%|██████████| 80/80 [00:00<00:00, 147.89it/s]\u001b[A\n",
      "  7%|▋         | 79/1125 [01:19<18:08,  1.04s/it]"
     ]
    },
    {
     "name": "stdout",
     "output_type": "stream",
     "text": [
      "/home/jiang/projects/SubtleGAN/data/brats2021/train/BraTS2021_01070\n"
     ]
    },
    {
     "name": "stderr",
     "output_type": "stream",
     "text": [
      "\n",
      "  0%|          | 0/80 [00:00<?, ?it/s]\u001b[A\n",
      " 20%|██        | 16/80 [00:00<00:00, 150.34it/s]\u001b[A\n",
      " 40%|████      | 32/80 [00:00<00:00, 148.81it/s]\u001b[A\n",
      " 59%|█████▉    | 47/80 [00:00<00:00, 148.05it/s]\u001b[A\n",
      " 78%|███████▊  | 62/80 [00:00<00:00, 148.40it/s]\u001b[A\n",
      "100%|██████████| 80/80 [00:00<00:00, 147.96it/s]\u001b[A\n",
      "  7%|▋         | 80/1125 [01:20<18:20,  1.05s/it]"
     ]
    },
    {
     "name": "stdout",
     "output_type": "stream",
     "text": [
      "/home/jiang/projects/SubtleGAN/data/brats2021/train/BraTS2021_01563\n"
     ]
    },
    {
     "name": "stderr",
     "output_type": "stream",
     "text": [
      "\n",
      "  0%|          | 0/80 [00:00<?, ?it/s]\u001b[A\n",
      " 20%|██        | 16/80 [00:00<00:00, 159.36it/s]\u001b[A\n",
      " 40%|████      | 32/80 [00:00<00:00, 153.05it/s]\u001b[A\n",
      " 60%|██████    | 48/80 [00:00<00:00, 151.07it/s]\u001b[A\n",
      " 80%|████████  | 64/80 [00:00<00:00, 150.50it/s]\u001b[A\n",
      "100%|██████████| 80/80 [00:00<00:00, 150.44it/s]\u001b[A\n",
      "  7%|▋         | 81/1125 [01:22<20:00,  1.15s/it]"
     ]
    },
    {
     "name": "stdout",
     "output_type": "stream",
     "text": [
      "/home/jiang/projects/SubtleGAN/data/brats2021/train/BraTS2021_01163\n"
     ]
    },
    {
     "name": "stderr",
     "output_type": "stream",
     "text": [
      "\n",
      "  0%|          | 0/80 [00:00<?, ?it/s]\u001b[A\n",
      " 20%|██        | 16/80 [00:00<00:00, 159.95it/s]\u001b[A\n",
      " 40%|████      | 32/80 [00:00<00:00, 157.85it/s]\u001b[A\n",
      " 60%|██████    | 48/80 [00:00<00:00, 157.46it/s]\u001b[A\n",
      " 80%|████████  | 64/80 [00:00<00:00, 154.23it/s]\u001b[A\n",
      "100%|██████████| 80/80 [00:00<00:00, 153.48it/s]\u001b[A\n",
      "  7%|▋         | 82/1125 [01:23<21:02,  1.21s/it]"
     ]
    },
    {
     "name": "stdout",
     "output_type": "stream",
     "text": [
      "/home/jiang/projects/SubtleGAN/data/brats2021/train/BraTS2021_01347\n"
     ]
    },
    {
     "name": "stderr",
     "output_type": "stream",
     "text": [
      "\n",
      "  0%|          | 0/80 [00:00<?, ?it/s]\u001b[A\n",
      " 20%|██        | 16/80 [00:00<00:00, 158.21it/s]\u001b[A\n",
      " 40%|████      | 32/80 [00:00<00:00, 156.76it/s]\u001b[A\n",
      " 60%|██████    | 48/80 [00:00<00:00, 156.56it/s]\u001b[A\n",
      " 80%|████████  | 64/80 [00:00<00:00, 156.23it/s]\u001b[A\n",
      "100%|██████████| 80/80 [00:00<00:00, 154.09it/s]\u001b[A\n",
      "  7%|▋         | 83/1125 [01:24<20:27,  1.18s/it]"
     ]
    },
    {
     "name": "stdout",
     "output_type": "stream",
     "text": [
      "/home/jiang/projects/SubtleGAN/data/brats2021/train/BraTS2021_01132\n"
     ]
    },
    {
     "name": "stderr",
     "output_type": "stream",
     "text": [
      "\n",
      "  0%|          | 0/80 [00:00<?, ?it/s]\u001b[A\n",
      " 20%|██        | 16/80 [00:00<00:00, 159.61it/s]\u001b[A\n",
      " 40%|████      | 32/80 [00:00<00:00, 157.07it/s]\u001b[A\n",
      " 60%|██████    | 48/80 [00:00<00:00, 156.66it/s]\u001b[A\n",
      " 80%|████████  | 64/80 [00:00<00:00, 155.57it/s]\u001b[A\n",
      "100%|██████████| 80/80 [00:00<00:00, 154.89it/s]\u001b[A\n",
      "  7%|▋         | 84/1125 [01:25<19:37,  1.13s/it]"
     ]
    },
    {
     "name": "stdout",
     "output_type": "stream",
     "text": [
      "/home/jiang/projects/SubtleGAN/data/brats2021/train/BraTS2021_00160\n"
     ]
    },
    {
     "name": "stderr",
     "output_type": "stream",
     "text": [
      "\n",
      "  0%|          | 0/80 [00:00<?, ?it/s]\u001b[A\n",
      " 20%|██        | 16/80 [00:00<00:00, 159.10it/s]\u001b[A\n",
      " 40%|████      | 32/80 [00:00<00:00, 156.80it/s]\u001b[A\n",
      " 60%|██████    | 48/80 [00:00<00:00, 155.90it/s]\u001b[A\n",
      " 80%|████████  | 64/80 [00:00<00:00, 153.57it/s]\u001b[A\n",
      "100%|██████████| 80/80 [00:00<00:00, 153.72it/s]\u001b[A\n",
      "  8%|▊         | 85/1125 [01:26<19:12,  1.11s/it]"
     ]
    },
    {
     "name": "stdout",
     "output_type": "stream",
     "text": [
      "/home/jiang/projects/SubtleGAN/data/brats2021/train/BraTS2021_01642\n"
     ]
    },
    {
     "name": "stderr",
     "output_type": "stream",
     "text": [
      "\n",
      "  0%|          | 0/80 [00:00<?, ?it/s]\u001b[A\n",
      " 20%|██        | 16/80 [00:00<00:00, 155.93it/s]\u001b[A\n",
      " 40%|████      | 32/80 [00:00<00:00, 155.87it/s]\u001b[A\n",
      " 60%|██████    | 48/80 [00:00<00:00, 155.62it/s]\u001b[A\n",
      " 80%|████████  | 64/80 [00:00<00:00, 155.06it/s]\u001b[A\n",
      "100%|██████████| 80/80 [00:00<00:00, 154.39it/s]\u001b[A\n",
      "  8%|▊         | 86/1125 [01:28<21:00,  1.21s/it]"
     ]
    },
    {
     "name": "stdout",
     "output_type": "stream",
     "text": [
      "/home/jiang/projects/SubtleGAN/data/brats2021/train/BraTS2021_01358\n"
     ]
    },
    {
     "name": "stderr",
     "output_type": "stream",
     "text": [
      "\n",
      "  0%|          | 0/80 [00:00<?, ?it/s]\u001b[A\n",
      " 20%|██        | 16/80 [00:00<00:00, 158.23it/s]\u001b[A\n",
      " 40%|████      | 32/80 [00:00<00:00, 155.87it/s]\u001b[A\n",
      " 60%|██████    | 48/80 [00:00<00:00, 114.51it/s]\u001b[A\n",
      " 80%|████████  | 64/80 [00:00<00:00, 127.78it/s]\u001b[A\n",
      "100%|██████████| 80/80 [00:00<00:00, 130.44it/s]\u001b[A\n",
      "  8%|▊         | 87/1125 [01:29<20:31,  1.19s/it]"
     ]
    },
    {
     "name": "stdout",
     "output_type": "stream",
     "text": [
      "/home/jiang/projects/SubtleGAN/data/brats2021/train/BraTS2021_01181\n"
     ]
    },
    {
     "name": "stderr",
     "output_type": "stream",
     "text": [
      "\n",
      "  0%|          | 0/80 [00:00<?, ?it/s]\u001b[A\n",
      " 20%|██        | 16/80 [00:00<00:00, 159.03it/s]\u001b[A\n",
      " 40%|████      | 32/80 [00:00<00:00, 157.23it/s]\u001b[A\n",
      " 60%|██████    | 48/80 [00:00<00:00, 156.09it/s]\u001b[A\n",
      " 80%|████████  | 64/80 [00:00<00:00, 156.20it/s]\u001b[A\n",
      "100%|██████████| 80/80 [00:00<00:00, 155.50it/s]\u001b[A\n",
      "  8%|▊         | 88/1125 [01:30<19:46,  1.14s/it]"
     ]
    },
    {
     "name": "stdout",
     "output_type": "stream",
     "text": [
      "/home/jiang/projects/SubtleGAN/data/brats2021/train/BraTS2021_01541\n"
     ]
    },
    {
     "name": "stderr",
     "output_type": "stream",
     "text": [
      "\n",
      "  0%|          | 0/80 [00:00<?, ?it/s]\u001b[A\n",
      " 20%|██        | 16/80 [00:00<00:00, 158.56it/s]\u001b[A\n",
      " 40%|████      | 32/80 [00:00<00:00, 130.83it/s]\u001b[A\n",
      " 59%|█████▉    | 47/80 [00:00<00:00, 137.43it/s]\u001b[A\n",
      " 78%|███████▊  | 62/80 [00:00<00:00, 141.16it/s]\u001b[A\n",
      "100%|██████████| 80/80 [00:00<00:00, 135.84it/s]\u001b[A\n",
      "  8%|▊         | 89/1125 [01:31<21:16,  1.23s/it]"
     ]
    },
    {
     "name": "stdout",
     "output_type": "stream",
     "text": [
      "/home/jiang/projects/SubtleGAN/data/brats2021/train/BraTS2021_00544\n"
     ]
    },
    {
     "name": "stderr",
     "output_type": "stream",
     "text": [
      "\n",
      "  0%|          | 0/80 [00:00<?, ?it/s]\u001b[A\n",
      " 20%|██        | 16/80 [00:00<00:00, 150.64it/s]\u001b[A\n",
      " 40%|████      | 32/80 [00:00<00:00, 149.41it/s]\u001b[A\n",
      " 59%|█████▉    | 47/80 [00:00<00:00, 149.41it/s]\u001b[A\n",
      " 78%|███████▊  | 62/80 [00:00<00:00, 149.02it/s]\u001b[A\n",
      "100%|██████████| 80/80 [00:00<00:00, 148.53it/s]\u001b[A\n",
      "  8%|▊         | 90/1125 [01:32<20:12,  1.17s/it]"
     ]
    },
    {
     "name": "stdout",
     "output_type": "stream",
     "text": [
      "/home/jiang/projects/SubtleGAN/data/brats2021/train/BraTS2021_00206\n"
     ]
    },
    {
     "name": "stderr",
     "output_type": "stream",
     "text": [
      "\n",
      "  0%|          | 0/80 [00:00<?, ?it/s]\u001b[A\n",
      " 20%|██        | 16/80 [00:00<00:00, 154.46it/s]\u001b[A\n",
      " 40%|████      | 32/80 [00:00<00:00, 154.25it/s]\u001b[A\n",
      " 60%|██████    | 48/80 [00:00<00:00, 154.14it/s]\u001b[A\n",
      " 80%|████████  | 64/80 [00:00<00:00, 152.15it/s]\u001b[A\n",
      "100%|██████████| 80/80 [00:00<00:00, 151.50it/s]\u001b[A\n",
      "  8%|▊         | 91/1125 [01:33<19:33,  1.13s/it]"
     ]
    },
    {
     "name": "stdout",
     "output_type": "stream",
     "text": [
      "/home/jiang/projects/SubtleGAN/data/brats2021/train/BraTS2021_00400\n"
     ]
    },
    {
     "name": "stderr",
     "output_type": "stream",
     "text": [
      "\n",
      "  0%|          | 0/80 [00:00<?, ?it/s]\u001b[A\n",
      " 20%|██        | 16/80 [00:00<00:00, 151.91it/s]\u001b[A\n",
      " 40%|████      | 32/80 [00:00<00:00, 150.81it/s]\u001b[A\n",
      " 60%|██████    | 48/80 [00:00<00:00, 150.24it/s]\u001b[A\n",
      " 80%|████████  | 64/80 [00:00<00:00, 150.00it/s]\u001b[A\n",
      "100%|██████████| 80/80 [00:00<00:00, 149.45it/s]\u001b[A\n",
      "  8%|▊         | 92/1125 [01:34<19:18,  1.12s/it]"
     ]
    },
    {
     "name": "stdout",
     "output_type": "stream",
     "text": [
      "/home/jiang/projects/SubtleGAN/data/brats2021/train/BraTS2021_01565\n"
     ]
    },
    {
     "name": "stderr",
     "output_type": "stream",
     "text": [
      "\n",
      "  0%|          | 0/80 [00:00<?, ?it/s]\u001b[A\n",
      " 19%|█▉        | 15/80 [00:00<00:00, 146.44it/s]\u001b[A\n",
      " 38%|███▊      | 30/80 [00:00<00:00, 145.20it/s]\u001b[A\n",
      " 57%|█████▊    | 46/80 [00:00<00:00, 147.76it/s]\u001b[A\n",
      " 78%|███████▊  | 62/80 [00:00<00:00, 150.16it/s]\u001b[A\n",
      "100%|██████████| 80/80 [00:00<00:00, 148.99it/s]\u001b[A\n",
      "  8%|▊         | 93/1125 [01:36<21:06,  1.23s/it]"
     ]
    },
    {
     "name": "stdout",
     "output_type": "stream",
     "text": [
      "/home/jiang/projects/SubtleGAN/data/brats2021/train/BraTS2021_00176\n"
     ]
    },
    {
     "name": "stderr",
     "output_type": "stream",
     "text": [
      "\n",
      "  0%|          | 0/80 [00:00<?, ?it/s]\u001b[A\n",
      " 19%|█▉        | 15/80 [00:00<00:00, 149.30it/s]\u001b[A\n",
      " 39%|███▉      | 31/80 [00:00<00:00, 151.56it/s]\u001b[A\n",
      " 59%|█████▉    | 47/80 [00:00<00:00, 153.40it/s]\u001b[A\n",
      " 79%|███████▉  | 63/80 [00:00<00:00, 154.39it/s]\u001b[A\n",
      "100%|██████████| 80/80 [00:00<00:00, 153.10it/s]\u001b[A\n",
      "  8%|▊         | 94/1125 [01:37<19:51,  1.16s/it]"
     ]
    },
    {
     "name": "stdout",
     "output_type": "stream",
     "text": [
      "/home/jiang/projects/SubtleGAN/data/brats2021/train/BraTS2021_01090\n"
     ]
    },
    {
     "name": "stderr",
     "output_type": "stream",
     "text": [
      "\n",
      "  0%|          | 0/80 [00:00<?, ?it/s]\u001b[A\n",
      " 20%|██        | 16/80 [00:00<00:00, 158.30it/s]\u001b[A\n",
      " 40%|████      | 32/80 [00:00<00:00, 155.62it/s]\u001b[A\n",
      " 60%|██████    | 48/80 [00:00<00:00, 155.61it/s]\u001b[A\n",
      " 80%|████████  | 64/80 [00:00<00:00, 155.16it/s]\u001b[A\n",
      "100%|██████████| 80/80 [00:00<00:00, 154.50it/s]\u001b[A\n",
      "  8%|▊         | 95/1125 [01:38<19:14,  1.12s/it]"
     ]
    },
    {
     "name": "stdout",
     "output_type": "stream",
     "text": [
      "/home/jiang/projects/SubtleGAN/data/brats2021/train/BraTS2021_00235\n"
     ]
    },
    {
     "name": "stderr",
     "output_type": "stream",
     "text": [
      "\n",
      "  0%|          | 0/80 [00:00<?, ?it/s]\u001b[A\n",
      " 20%|██        | 16/80 [00:00<00:00, 157.96it/s]\u001b[A\n",
      " 40%|████      | 32/80 [00:00<00:00, 156.16it/s]\u001b[A\n",
      " 60%|██████    | 48/80 [00:00<00:00, 155.38it/s]\u001b[A\n",
      " 80%|████████  | 64/80 [00:00<00:00, 155.22it/s]\u001b[A\n",
      "100%|██████████| 80/80 [00:00<00:00, 154.82it/s]\u001b[A\n",
      "  9%|▊         | 96/1125 [01:39<18:46,  1.09s/it]"
     ]
    },
    {
     "name": "stdout",
     "output_type": "stream",
     "text": [
      "/home/jiang/projects/SubtleGAN/data/brats2021/train/BraTS2021_00753\n"
     ]
    },
    {
     "name": "stderr",
     "output_type": "stream",
     "text": [
      "\n",
      "  0%|          | 0/80 [00:00<?, ?it/s]\u001b[A\n",
      " 20%|██        | 16/80 [00:00<00:00, 156.12it/s]\u001b[A\n",
      " 40%|████      | 32/80 [00:00<00:00, 152.13it/s]\u001b[A\n",
      " 60%|██████    | 48/80 [00:00<00:00, 153.43it/s]\u001b[A\n",
      " 80%|████████  | 64/80 [00:00<00:00, 153.99it/s]\u001b[A\n",
      "100%|██████████| 80/80 [00:00<00:00, 153.05it/s]\u001b[A\n",
      "  9%|▊         | 97/1125 [01:40<18:01,  1.05s/it]"
     ]
    },
    {
     "name": "stdout",
     "output_type": "stream",
     "text": [
      "/home/jiang/projects/SubtleGAN/data/brats2021/train/BraTS2021_01554\n"
     ]
    },
    {
     "name": "stderr",
     "output_type": "stream",
     "text": [
      "\n",
      "  0%|          | 0/80 [00:00<?, ?it/s]\u001b[A\n",
      " 20%|██        | 16/80 [00:00<00:00, 156.39it/s]\u001b[A\n",
      " 40%|████      | 32/80 [00:00<00:00, 153.84it/s]\u001b[A\n",
      " 60%|██████    | 48/80 [00:00<00:00, 154.38it/s]\u001b[A\n",
      " 80%|████████  | 64/80 [00:00<00:00, 154.40it/s]\u001b[A\n",
      "100%|██████████| 80/80 [00:00<00:00, 153.98it/s]\u001b[A\n",
      "  9%|▊         | 98/1125 [01:41<19:39,  1.15s/it]"
     ]
    },
    {
     "name": "stdout",
     "output_type": "stream",
     "text": [
      "/home/jiang/projects/SubtleGAN/data/brats2021/train/BraTS2021_00293\n"
     ]
    },
    {
     "name": "stderr",
     "output_type": "stream",
     "text": [
      "\n",
      "  0%|          | 0/80 [00:00<?, ?it/s]\u001b[A\n",
      " 19%|█▉        | 15/80 [00:00<00:00, 148.41it/s]\u001b[A\n",
      " 38%|███▊      | 30/80 [00:00<00:00, 95.71it/s] \u001b[A\n",
      " 56%|█████▋    | 45/80 [00:00<00:00, 113.49it/s]\u001b[A\n",
      " 75%|███████▌  | 60/80 [00:00<00:00, 125.05it/s]\u001b[A\n",
      "100%|██████████| 80/80 [00:00<00:00, 125.41it/s]\u001b[A\n",
      "  9%|▉         | 99/1125 [01:42<19:37,  1.15s/it]"
     ]
    },
    {
     "name": "stdout",
     "output_type": "stream",
     "text": [
      "/home/jiang/projects/SubtleGAN/data/brats2021/train/BraTS2021_00651\n"
     ]
    },
    {
     "name": "stderr",
     "output_type": "stream",
     "text": [
      "\n",
      "  0%|          | 0/80 [00:00<?, ?it/s]\u001b[A\n",
      " 20%|██        | 16/80 [00:00<00:00, 152.83it/s]\u001b[A\n",
      " 40%|████      | 32/80 [00:00<00:00, 150.88it/s]\u001b[A\n",
      " 60%|██████    | 48/80 [00:00<00:00, 149.99it/s]\u001b[A\n",
      " 80%|████████  | 64/80 [00:00<00:00, 149.35it/s]\u001b[A\n",
      "100%|██████████| 80/80 [00:00<00:00, 148.82it/s]\u001b[A\n",
      "  9%|▉         | 100/1125 [01:43<18:48,  1.10s/it]"
     ]
    },
    {
     "name": "stdout",
     "output_type": "stream",
     "text": [
      "/home/jiang/projects/SubtleGAN/data/brats2021/train/BraTS2021_01453\n"
     ]
    },
    {
     "name": "stderr",
     "output_type": "stream",
     "text": [
      "\n",
      "  0%|          | 0/80 [00:00<?, ?it/s]\u001b[A\n",
      " 20%|██        | 16/80 [00:00<00:00, 151.41it/s]\u001b[A\n",
      " 40%|████      | 32/80 [00:00<00:00, 153.28it/s]\u001b[A\n",
      " 60%|██████    | 48/80 [00:00<00:00, 154.48it/s]\u001b[A\n",
      " 80%|████████  | 64/80 [00:00<00:00, 155.03it/s]\u001b[A\n",
      "100%|██████████| 80/80 [00:00<00:00, 153.99it/s]\u001b[A\n",
      "  9%|▉         | 101/1125 [01:44<18:29,  1.08s/it]"
     ]
    },
    {
     "name": "stdout",
     "output_type": "stream",
     "text": [
      "/home/jiang/projects/SubtleGAN/data/brats2021/train/BraTS2021_01190\n"
     ]
    },
    {
     "name": "stderr",
     "output_type": "stream",
     "text": [
      "\n",
      "  0%|          | 0/80 [00:00<?, ?it/s]\u001b[A\n",
      " 20%|██        | 16/80 [00:00<00:00, 158.82it/s]\u001b[A\n",
      " 40%|████      | 32/80 [00:00<00:00, 110.83it/s]\u001b[A\n",
      " 59%|█████▉    | 47/80 [00:00<00:00, 125.04it/s]\u001b[A\n",
      " 78%|███████▊  | 62/80 [00:00<00:00, 133.32it/s]\u001b[A\n",
      "100%|██████████| 80/80 [00:00<00:00, 133.80it/s]\u001b[A\n",
      "  9%|▉         | 102/1125 [01:45<18:37,  1.09s/it]"
     ]
    },
    {
     "name": "stdout",
     "output_type": "stream",
     "text": [
      "/home/jiang/projects/SubtleGAN/data/brats2021/train/BraTS2021_00243\n"
     ]
    },
    {
     "name": "stderr",
     "output_type": "stream",
     "text": [
      "\n",
      "  0%|          | 0/80 [00:00<?, ?it/s]\u001b[A\n",
      " 20%|██        | 16/80 [00:00<00:00, 159.82it/s]\u001b[A\n",
      " 40%|████      | 32/80 [00:00<00:00, 158.15it/s]\u001b[A\n",
      " 60%|██████    | 48/80 [00:00<00:00, 157.33it/s]\u001b[A\n",
      " 80%|████████  | 64/80 [00:00<00:00, 156.35it/s]\u001b[A\n",
      "100%|██████████| 80/80 [00:00<00:00, 155.90it/s]\u001b[A\n",
      "  9%|▉         | 103/1125 [01:47<18:16,  1.07s/it]"
     ]
    },
    {
     "name": "stdout",
     "output_type": "stream",
     "text": [
      "/home/jiang/projects/SubtleGAN/data/brats2021/train/BraTS2021_01239\n"
     ]
    },
    {
     "name": "stderr",
     "output_type": "stream",
     "text": [
      "\n",
      "  0%|          | 0/80 [00:00<?, ?it/s]\u001b[A\n",
      " 19%|█▉        | 15/80 [00:00<00:00, 141.56it/s]\u001b[A\n",
      " 38%|███▊      | 30/80 [00:00<00:00, 94.46it/s] \u001b[A\n",
      " 57%|█████▊    | 46/80 [00:00<00:00, 114.75it/s]\u001b[A\n",
      " 78%|███████▊  | 62/80 [00:00<00:00, 128.13it/s]\u001b[A\n",
      "100%|██████████| 80/80 [00:00<00:00, 126.95it/s]\u001b[A\n",
      "  9%|▉         | 104/1125 [01:48<18:52,  1.11s/it]"
     ]
    },
    {
     "name": "stdout",
     "output_type": "stream",
     "text": [
      "/home/jiang/projects/SubtleGAN/data/brats2021/train/BraTS2021_00818\n"
     ]
    },
    {
     "name": "stderr",
     "output_type": "stream",
     "text": [
      "\n",
      "  0%|          | 0/80 [00:00<?, ?it/s]\u001b[A\n",
      " 20%|██        | 16/80 [00:00<00:00, 157.39it/s]\u001b[A\n",
      " 40%|████      | 32/80 [00:00<00:00, 155.33it/s]\u001b[A\n",
      " 60%|██████    | 48/80 [00:00<00:00, 110.27it/s]\u001b[A\n",
      " 80%|████████  | 64/80 [00:00<00:00, 124.32it/s]\u001b[A\n",
      "100%|██████████| 80/80 [00:00<00:00, 113.79it/s]\u001b[A\n",
      "  9%|▉         | 105/1125 [01:49<21:12,  1.25s/it]"
     ]
    },
    {
     "name": "stdout",
     "output_type": "stream",
     "text": [
      "/home/jiang/projects/SubtleGAN/data/brats2021/train/BraTS2021_01375\n"
     ]
    },
    {
     "name": "stderr",
     "output_type": "stream",
     "text": [
      "\n",
      "  0%|          | 0/80 [00:00<?, ?it/s]\u001b[A\n",
      " 19%|█▉        | 15/80 [00:00<00:00, 144.19it/s]\u001b[A\n",
      " 38%|███▊      | 30/80 [00:00<00:00, 145.03it/s]\u001b[A\n",
      " 56%|█████▋    | 45/80 [00:00<00:00, 144.51it/s]\u001b[A\n",
      " 75%|███████▌  | 60/80 [00:00<00:00, 144.96it/s]\u001b[A\n",
      "100%|██████████| 80/80 [00:00<00:00, 144.74it/s]\u001b[A\n",
      "  9%|▉         | 106/1125 [01:50<20:19,  1.20s/it]"
     ]
    },
    {
     "name": "stdout",
     "output_type": "stream",
     "text": [
      "/home/jiang/projects/SubtleGAN/data/brats2021/train/BraTS2021_01574\n"
     ]
    },
    {
     "name": "stderr",
     "output_type": "stream",
     "text": [
      "\n",
      "  0%|          | 0/80 [00:00<?, ?it/s]\u001b[A\n",
      " 20%|██        | 16/80 [00:00<00:00, 159.32it/s]\u001b[A\n",
      " 40%|████      | 32/80 [00:00<00:00, 153.20it/s]\u001b[A\n",
      " 60%|██████    | 48/80 [00:00<00:00, 150.90it/s]\u001b[A\n",
      " 80%|████████  | 64/80 [00:00<00:00, 150.26it/s]\u001b[A\n",
      "100%|██████████| 80/80 [00:00<00:00, 150.07it/s]\u001b[A\n",
      " 10%|▉         | 107/1125 [01:52<21:27,  1.26s/it]"
     ]
    },
    {
     "name": "stdout",
     "output_type": "stream",
     "text": [
      "/home/jiang/projects/SubtleGAN/data/brats2021/train/BraTS2021_01122\n"
     ]
    },
    {
     "name": "stderr",
     "output_type": "stream",
     "text": [
      "\n",
      "  0%|          | 0/80 [00:00<?, ?it/s]\u001b[A\n",
      " 20%|██        | 16/80 [00:00<00:00, 156.57it/s]\u001b[A\n",
      " 40%|████      | 32/80 [00:00<00:00, 156.83it/s]\u001b[A\n",
      " 60%|██████    | 48/80 [00:00<00:00, 155.96it/s]\u001b[A\n",
      " 80%|████████  | 64/80 [00:00<00:00, 155.26it/s]\u001b[A\n",
      "100%|██████████| 80/80 [00:00<00:00, 146.21it/s]\u001b[A\n",
      " 10%|▉         | 108/1125 [01:53<20:19,  1.20s/it]"
     ]
    },
    {
     "name": "stdout",
     "output_type": "stream",
     "text": [
      "/home/jiang/projects/SubtleGAN/data/brats2021/train/BraTS2021_01287\n"
     ]
    },
    {
     "name": "stderr",
     "output_type": "stream",
     "text": [
      "\n",
      "  0%|          | 0/80 [00:00<?, ?it/s]\u001b[A\n",
      " 20%|██        | 16/80 [00:00<00:00, 159.13it/s]\u001b[A\n",
      " 40%|████      | 32/80 [00:00<00:00, 157.16it/s]\u001b[A\n",
      " 60%|██████    | 48/80 [00:00<00:00, 157.03it/s]\u001b[A\n",
      " 80%|████████  | 64/80 [00:00<00:00, 110.40it/s]\u001b[A\n",
      "100%|██████████| 80/80 [00:00<00:00, 128.69it/s]\u001b[A\n",
      " 10%|▉         | 109/1125 [01:54<20:03,  1.18s/it]"
     ]
    },
    {
     "name": "stdout",
     "output_type": "stream",
     "text": [
      "/home/jiang/projects/SubtleGAN/data/brats2021/train/BraTS2021_01193\n"
     ]
    },
    {
     "name": "stderr",
     "output_type": "stream",
     "text": [
      "\n",
      "  0%|          | 0/80 [00:00<?, ?it/s]\u001b[A\n",
      " 20%|██        | 16/80 [00:00<00:00, 159.29it/s]\u001b[A\n",
      " 40%|████      | 32/80 [00:00<00:00, 157.58it/s]\u001b[A\n",
      " 60%|██████    | 48/80 [00:00<00:00, 157.20it/s]\u001b[A\n",
      " 80%|████████  | 64/80 [00:00<00:00, 157.15it/s]\u001b[A\n",
      "100%|██████████| 80/80 [00:00<00:00, 154.79it/s]\u001b[A\n",
      " 10%|▉         | 110/1125 [01:55<19:14,  1.14s/it]"
     ]
    },
    {
     "name": "stdout",
     "output_type": "stream",
     "text": [
      "/home/jiang/projects/SubtleGAN/data/brats2021/train/BraTS2021_01360\n"
     ]
    },
    {
     "name": "stderr",
     "output_type": "stream",
     "text": [
      "\n",
      "  0%|          | 0/80 [00:00<?, ?it/s]\u001b[A\n",
      " 20%|██        | 16/80 [00:00<00:00, 154.22it/s]\u001b[A\n",
      " 40%|████      | 32/80 [00:00<00:00, 155.50it/s]\u001b[A\n",
      " 60%|██████    | 48/80 [00:00<00:00, 128.55it/s]\u001b[A\n",
      " 80%|████████  | 64/80 [00:00<00:00, 138.39it/s]\u001b[A\n",
      "100%|██████████| 80/80 [00:00<00:00, 141.36it/s]\u001b[A\n",
      " 10%|▉         | 111/1125 [01:56<19:00,  1.12s/it]"
     ]
    },
    {
     "name": "stdout",
     "output_type": "stream",
     "text": [
      "/home/jiang/projects/SubtleGAN/data/brats2021/train/BraTS2021_00146\n"
     ]
    },
    {
     "name": "stderr",
     "output_type": "stream",
     "text": [
      "\n",
      "  0%|          | 0/80 [00:00<?, ?it/s]\u001b[A\n",
      " 20%|██        | 16/80 [00:00<00:00, 155.87it/s]\u001b[A\n",
      " 40%|████      | 32/80 [00:00<00:00, 155.21it/s]\u001b[A\n",
      " 60%|██████    | 48/80 [00:00<00:00, 156.10it/s]\u001b[A\n",
      " 80%|████████  | 64/80 [00:00<00:00, 156.23it/s]\u001b[A\n",
      "100%|██████████| 80/80 [00:00<00:00, 155.67it/s]\u001b[A\n",
      " 10%|▉         | 112/1125 [01:57<18:36,  1.10s/it]"
     ]
    },
    {
     "name": "stdout",
     "output_type": "stream",
     "text": [
      "/home/jiang/projects/SubtleGAN/data/brats2021/train/BraTS2021_00217\n"
     ]
    },
    {
     "name": "stderr",
     "output_type": "stream",
     "text": [
      "\n",
      "  0%|          | 0/80 [00:00<?, ?it/s]\u001b[A\n",
      " 19%|█▉        | 15/80 [00:00<00:00, 147.04it/s]\u001b[A\n",
      " 38%|███▊      | 30/80 [00:00<00:00, 147.71it/s]\u001b[A\n",
      " 56%|█████▋    | 45/80 [00:00<00:00, 148.29it/s]\u001b[A\n",
      " 76%|███████▋  | 61/80 [00:00<00:00, 150.52it/s]\u001b[A\n",
      "100%|██████████| 80/80 [00:00<00:00, 148.92it/s]\u001b[A\n",
      " 10%|█         | 113/1125 [01:58<18:30,  1.10s/it]"
     ]
    },
    {
     "name": "stdout",
     "output_type": "stream",
     "text": [
      "/home/jiang/projects/SubtleGAN/data/brats2021/train/BraTS2021_00058\n"
     ]
    },
    {
     "name": "stderr",
     "output_type": "stream",
     "text": [
      "\n",
      "  0%|          | 0/80 [00:00<?, ?it/s]\u001b[A\n",
      " 19%|█▉        | 15/80 [00:00<00:00, 149.87it/s]\u001b[A\n",
      " 38%|███▊      | 30/80 [00:00<00:00, 149.21it/s]\u001b[A\n",
      " 56%|█████▋    | 45/80 [00:00<00:00, 149.43it/s]\u001b[A\n",
      " 76%|███████▋  | 61/80 [00:00<00:00, 149.84it/s]\u001b[A\n",
      "100%|██████████| 80/80 [00:00<00:00, 149.21it/s]\u001b[A\n",
      " 10%|█         | 114/1125 [01:59<17:55,  1.06s/it]"
     ]
    },
    {
     "name": "stdout",
     "output_type": "stream",
     "text": [
      "/home/jiang/projects/SubtleGAN/data/brats2021/train/BraTS2021_01547\n"
     ]
    },
    {
     "name": "stderr",
     "output_type": "stream",
     "text": [
      "\n",
      "  0%|          | 0/80 [00:00<?, ?it/s]\u001b[A\n",
      " 19%|█▉        | 15/80 [00:00<00:00, 141.14it/s]\u001b[A\n",
      " 38%|███▊      | 30/80 [00:00<00:00, 128.61it/s]\u001b[A\n",
      " 54%|█████▍    | 43/80 [00:00<00:00, 95.07it/s] \u001b[A\n",
      " 68%|██████▊   | 54/80 [00:00<00:00, 94.24it/s]\u001b[A\n",
      "100%|██████████| 80/80 [00:00<00:00, 113.15it/s]\u001b[A\n",
      " 10%|█         | 115/1125 [02:01<20:22,  1.21s/it]"
     ]
    },
    {
     "name": "stdout",
     "output_type": "stream",
     "text": [
      "/home/jiang/projects/SubtleGAN/data/brats2021/train/BraTS2021_00035\n"
     ]
    },
    {
     "name": "stderr",
     "output_type": "stream",
     "text": [
      "\n",
      "  0%|          | 0/80 [00:00<?, ?it/s]\u001b[A\n",
      " 19%|█▉        | 15/80 [00:00<00:00, 143.94it/s]\u001b[A\n",
      " 38%|███▊      | 30/80 [00:00<00:00, 103.33it/s]\u001b[A\n",
      " 57%|█████▊    | 46/80 [00:00<00:00, 121.70it/s]\u001b[A\n",
      " 78%|███████▊  | 62/80 [00:00<00:00, 133.58it/s]\u001b[A\n",
      "100%|██████████| 80/80 [00:00<00:00, 132.31it/s]\u001b[A\n",
      " 10%|█         | 116/1125 [02:02<19:13,  1.14s/it]"
     ]
    },
    {
     "name": "stdout",
     "output_type": "stream",
     "text": [
      "/home/jiang/projects/SubtleGAN/data/brats2021/train/BraTS2021_01652\n"
     ]
    },
    {
     "name": "stderr",
     "output_type": "stream",
     "text": [
      "\n",
      "  0%|          | 0/80 [00:00<?, ?it/s]\u001b[A\n",
      " 20%|██        | 16/80 [00:00<00:00, 157.69it/s]\u001b[A\n",
      " 40%|████      | 32/80 [00:00<00:00, 156.04it/s]\u001b[A\n",
      " 60%|██████    | 48/80 [00:00<00:00, 155.60it/s]\u001b[A\n",
      " 80%|████████  | 64/80 [00:00<00:00, 156.38it/s]\u001b[A\n",
      "100%|██████████| 80/80 [00:00<00:00, 155.85it/s]\u001b[A\n",
      " 10%|█         | 117/1125 [02:03<20:09,  1.20s/it]"
     ]
    },
    {
     "name": "stdout",
     "output_type": "stream",
     "text": [
      "/home/jiang/projects/SubtleGAN/data/brats2021/train/BraTS2021_01228\n"
     ]
    },
    {
     "name": "stderr",
     "output_type": "stream",
     "text": [
      "\n",
      "  0%|          | 0/80 [00:00<?, ?it/s]\u001b[A\n",
      " 20%|██        | 16/80 [00:00<00:00, 157.79it/s]\u001b[A\n",
      " 40%|████      | 32/80 [00:00<00:00, 157.93it/s]\u001b[A\n",
      " 60%|██████    | 48/80 [00:00<00:00, 158.04it/s]\u001b[A\n",
      " 80%|████████  | 64/80 [00:00<00:00, 157.98it/s]\u001b[A\n",
      "100%|██████████| 80/80 [00:00<00:00, 157.03it/s]\u001b[A\n",
      " 10%|█         | 118/1125 [02:04<18:54,  1.13s/it]"
     ]
    },
    {
     "name": "stdout",
     "output_type": "stream",
     "text": [
      "/home/jiang/projects/SubtleGAN/data/brats2021/train/BraTS2021_00550\n"
     ]
    },
    {
     "name": "stderr",
     "output_type": "stream",
     "text": [
      "\n",
      "  0%|          | 0/80 [00:00<?, ?it/s]\u001b[A\n",
      " 20%|██        | 16/80 [00:00<00:00, 159.41it/s]\u001b[A\n",
      " 40%|████      | 32/80 [00:00<00:00, 158.08it/s]\u001b[A\n",
      " 60%|██████    | 48/80 [00:00<00:00, 156.74it/s]\u001b[A\n",
      " 80%|████████  | 64/80 [00:00<00:00, 156.75it/s]\u001b[A\n",
      "100%|██████████| 80/80 [00:00<00:00, 156.23it/s]\u001b[A\n",
      " 11%|█         | 119/1125 [02:05<17:36,  1.05s/it]"
     ]
    },
    {
     "name": "stdout",
     "output_type": "stream",
     "text": [
      "/home/jiang/projects/SubtleGAN/data/brats2021/train/BraTS2021_00638\n"
     ]
    },
    {
     "name": "stderr",
     "output_type": "stream",
     "text": [
      "\n",
      "  0%|          | 0/80 [00:00<?, ?it/s]\u001b[A\n",
      " 21%|██▏       | 17/80 [00:00<00:00, 160.59it/s]\u001b[A\n",
      " 42%|████▎     | 34/80 [00:00<00:00, 157.57it/s]\u001b[A\n",
      " 62%|██████▎   | 50/80 [00:00<00:00, 157.48it/s]\u001b[A\n",
      "100%|██████████| 80/80 [00:00<00:00, 156.72it/s]\u001b[A\n",
      " 11%|█         | 120/1125 [02:06<16:58,  1.01s/it]"
     ]
    },
    {
     "name": "stdout",
     "output_type": "stream",
     "text": [
      "/home/jiang/projects/SubtleGAN/data/brats2021/train/BraTS2021_00796\n"
     ]
    },
    {
     "name": "stderr",
     "output_type": "stream",
     "text": [
      "\n",
      "  0%|          | 0/80 [00:00<?, ?it/s]\u001b[A\n",
      " 19%|█▉        | 15/80 [00:00<00:00, 144.94it/s]\u001b[A\n",
      " 39%|███▉      | 31/80 [00:00<00:00, 148.53it/s]\u001b[A\n",
      " 59%|█████▉    | 47/80 [00:00<00:00, 152.16it/s]\u001b[A\n",
      " 79%|███████▉  | 63/80 [00:00<00:00, 153.54it/s]\u001b[A\n",
      "100%|██████████| 80/80 [00:00<00:00, 151.99it/s]\u001b[A\n",
      " 11%|█         | 121/1125 [02:07<18:39,  1.12s/it]"
     ]
    },
    {
     "name": "stdout",
     "output_type": "stream",
     "text": [
      "/home/jiang/projects/SubtleGAN/data/brats2021/train/BraTS2021_00407\n"
     ]
    },
    {
     "name": "stderr",
     "output_type": "stream",
     "text": [
      "\n",
      "  0%|          | 0/80 [00:00<?, ?it/s]\u001b[A\n",
      " 20%|██        | 16/80 [00:00<00:00, 159.76it/s]\u001b[A\n",
      " 40%|████      | 32/80 [00:00<00:00, 158.73it/s]\u001b[A\n",
      " 60%|██████    | 48/80 [00:00<00:00, 158.32it/s]\u001b[A\n",
      " 80%|████████  | 64/80 [00:00<00:00, 157.94it/s]\u001b[A\n",
      "100%|██████████| 80/80 [00:00<00:00, 157.19it/s]\u001b[A\n",
      " 11%|█         | 122/1125 [02:08<18:06,  1.08s/it]"
     ]
    },
    {
     "name": "stdout",
     "output_type": "stream",
     "text": [
      "/home/jiang/projects/SubtleGAN/data/brats2021/train/BraTS2021_00563\n"
     ]
    },
    {
     "name": "stderr",
     "output_type": "stream",
     "text": [
      "\n",
      "  0%|          | 0/80 [00:00<?, ?it/s]\u001b[A\n",
      " 20%|██        | 16/80 [00:00<00:00, 159.12it/s]\u001b[A\n",
      " 40%|████      | 32/80 [00:00<00:00, 158.34it/s]\u001b[A\n",
      " 60%|██████    | 48/80 [00:00<00:00, 158.15it/s]\u001b[A\n",
      " 80%|████████  | 64/80 [00:00<00:00, 157.28it/s]\u001b[A\n",
      "100%|██████████| 80/80 [00:00<00:00, 156.39it/s]\u001b[A\n",
      " 11%|█         | 123/1125 [02:09<17:47,  1.06s/it]"
     ]
    },
    {
     "name": "stdout",
     "output_type": "stream",
     "text": [
      "/home/jiang/projects/SubtleGAN/data/brats2021/train/BraTS2021_00116\n"
     ]
    },
    {
     "name": "stderr",
     "output_type": "stream",
     "text": [
      "\n",
      "  0%|          | 0/80 [00:00<?, ?it/s]\u001b[A\n",
      " 20%|██        | 16/80 [00:00<00:00, 157.32it/s]\u001b[A\n",
      " 40%|████      | 32/80 [00:00<00:00, 158.03it/s]\u001b[A\n",
      " 60%|██████    | 48/80 [00:00<00:00, 157.87it/s]\u001b[A\n",
      " 80%|████████  | 64/80 [00:00<00:00, 158.24it/s]\u001b[A\n",
      "100%|██████████| 80/80 [00:00<00:00, 157.64it/s]\u001b[A\n",
      " 11%|█         | 124/1125 [02:10<17:33,  1.05s/it]"
     ]
    },
    {
     "name": "stdout",
     "output_type": "stream",
     "text": [
      "/home/jiang/projects/SubtleGAN/data/brats2021/train/BraTS2021_00347\n"
     ]
    },
    {
     "name": "stderr",
     "output_type": "stream",
     "text": [
      "\n",
      "  0%|          | 0/80 [00:00<?, ?it/s]\u001b[A\n",
      " 20%|██        | 16/80 [00:00<00:00, 157.77it/s]\u001b[A\n",
      " 40%|████      | 32/80 [00:00<00:00, 157.80it/s]\u001b[A\n",
      " 60%|██████    | 48/80 [00:00<00:00, 157.52it/s]\u001b[A\n",
      " 80%|████████  | 64/80 [00:00<00:00, 157.43it/s]\u001b[A\n",
      "100%|██████████| 80/80 [00:00<00:00, 157.12it/s]\u001b[A\n",
      " 11%|█         | 125/1125 [02:11<17:26,  1.05s/it]"
     ]
    },
    {
     "name": "stdout",
     "output_type": "stream",
     "text": [
      "/home/jiang/projects/SubtleGAN/data/brats2021/train/BraTS2021_01218\n"
     ]
    },
    {
     "name": "stderr",
     "output_type": "stream",
     "text": [
      "\n",
      "  0%|          | 0/80 [00:00<?, ?it/s]\u001b[A\n",
      " 20%|██        | 16/80 [00:00<00:00, 159.02it/s]\u001b[A\n",
      " 40%|████      | 32/80 [00:00<00:00, 157.61it/s]\u001b[A\n",
      " 60%|██████    | 48/80 [00:00<00:00, 156.60it/s]\u001b[A\n",
      " 80%|████████  | 64/80 [00:00<00:00, 156.84it/s]\u001b[A\n",
      "100%|██████████| 80/80 [00:00<00:00, 155.93it/s]\u001b[A\n",
      " 11%|█         | 126/1125 [02:12<17:20,  1.04s/it]"
     ]
    },
    {
     "name": "stdout",
     "output_type": "stream",
     "text": [
      "/home/jiang/projects/SubtleGAN/data/brats2021/train/BraTS2021_01658\n"
     ]
    },
    {
     "name": "stderr",
     "output_type": "stream",
     "text": [
      "\n",
      "  0%|          | 0/80 [00:00<?, ?it/s]\u001b[A\n",
      " 20%|██        | 16/80 [00:00<00:00, 152.97it/s]\u001b[A\n",
      " 40%|████      | 32/80 [00:00<00:00, 150.97it/s]\u001b[A\n",
      " 60%|██████    | 48/80 [00:00<00:00, 150.04it/s]\u001b[A\n",
      " 80%|████████  | 64/80 [00:00<00:00, 149.58it/s]\u001b[A\n",
      "100%|██████████| 80/80 [00:00<00:00, 149.05it/s]\u001b[A\n",
      " 11%|█▏        | 127/1125 [02:13<17:22,  1.04s/it]"
     ]
    },
    {
     "name": "stdout",
     "output_type": "stream",
     "text": [
      "/home/jiang/projects/SubtleGAN/data/brats2021/train/BraTS2021_01157\n"
     ]
    },
    {
     "name": "stderr",
     "output_type": "stream",
     "text": [
      "\n",
      "  0%|          | 0/80 [00:00<?, ?it/s]\u001b[A\n",
      " 20%|██        | 16/80 [00:00<00:00, 157.04it/s]\u001b[A\n",
      " 40%|████      | 32/80 [00:00<00:00, 156.38it/s]\u001b[A\n",
      " 60%|██████    | 48/80 [00:00<00:00, 156.72it/s]\u001b[A\n",
      " 80%|████████  | 64/80 [00:00<00:00, 156.25it/s]\u001b[A\n",
      "100%|██████████| 80/80 [00:00<00:00, 155.13it/s]\u001b[A\n",
      " 11%|█▏        | 128/1125 [02:14<17:05,  1.03s/it]"
     ]
    },
    {
     "name": "stdout",
     "output_type": "stream",
     "text": [
      "/home/jiang/projects/SubtleGAN/data/brats2021/train/BraTS2021_00499\n"
     ]
    },
    {
     "name": "stderr",
     "output_type": "stream",
     "text": [
      "\n",
      "  0%|          | 0/80 [00:00<?, ?it/s]\u001b[A\n",
      " 20%|██        | 16/80 [00:00<00:00, 158.71it/s]\u001b[A\n",
      " 40%|████      | 32/80 [00:00<00:00, 157.10it/s]\u001b[A\n",
      " 60%|██████    | 48/80 [00:00<00:00, 157.10it/s]\u001b[A\n",
      " 80%|████████  | 64/80 [00:00<00:00, 157.17it/s]\u001b[A\n",
      "100%|██████████| 80/80 [00:00<00:00, 156.11it/s]\u001b[A\n",
      " 11%|█▏        | 129/1125 [02:15<16:48,  1.01s/it]"
     ]
    },
    {
     "name": "stdout",
     "output_type": "stream",
     "text": [
      "/home/jiang/projects/SubtleGAN/data/brats2021/train/BraTS2021_00751\n"
     ]
    },
    {
     "name": "stderr",
     "output_type": "stream",
     "text": [
      "\n",
      "  0%|          | 0/80 [00:00<?, ?it/s]\u001b[A\n",
      " 20%|██        | 16/80 [00:00<00:00, 157.59it/s]\u001b[A\n",
      " 40%|████      | 32/80 [00:00<00:00, 156.51it/s]\u001b[A\n",
      " 60%|██████    | 48/80 [00:00<00:00, 155.46it/s]\u001b[A\n",
      " 80%|████████  | 64/80 [00:00<00:00, 155.37it/s]\u001b[A\n",
      "100%|██████████| 80/80 [00:00<00:00, 155.02it/s]\u001b[A\n",
      " 12%|█▏        | 130/1125 [02:16<16:35,  1.00s/it]"
     ]
    },
    {
     "name": "stdout",
     "output_type": "stream",
     "text": [
      "/home/jiang/projects/SubtleGAN/data/brats2021/train/BraTS2021_00414\n"
     ]
    },
    {
     "name": "stderr",
     "output_type": "stream",
     "text": [
      "\n",
      "  0%|          | 0/80 [00:00<?, ?it/s]\u001b[A\n",
      " 20%|██        | 16/80 [00:00<00:00, 156.41it/s]\u001b[A\n",
      " 40%|████      | 32/80 [00:00<00:00, 156.35it/s]\u001b[A\n",
      " 60%|██████    | 48/80 [00:00<00:00, 156.43it/s]\u001b[A\n",
      " 80%|████████  | 64/80 [00:00<00:00, 156.37it/s]\u001b[A\n",
      "100%|██████████| 80/80 [00:00<00:00, 155.57it/s]\u001b[A\n",
      " 12%|█▏        | 131/1125 [02:17<16:49,  1.02s/it]"
     ]
    },
    {
     "name": "stdout",
     "output_type": "stream",
     "text": [
      "/home/jiang/projects/SubtleGAN/data/brats2021/train/BraTS2021_00552\n"
     ]
    },
    {
     "name": "stderr",
     "output_type": "stream",
     "text": [
      "\n",
      "  0%|          | 0/80 [00:00<?, ?it/s]\u001b[A\n",
      " 18%|█▊        | 14/80 [00:00<00:00, 138.49it/s]\u001b[A\n",
      " 36%|███▋      | 29/80 [00:00<00:00, 145.19it/s]\u001b[A\n",
      " 55%|█████▌    | 44/80 [00:00<00:00, 147.26it/s]\u001b[A\n",
      " 74%|███████▍  | 59/80 [00:00<00:00, 147.94it/s]\u001b[A\n",
      "100%|██████████| 80/80 [00:00<00:00, 148.55it/s]\u001b[A\n",
      " 12%|█▏        | 132/1125 [02:18<16:36,  1.00s/it]"
     ]
    },
    {
     "name": "stdout",
     "output_type": "stream",
     "text": [
      "/home/jiang/projects/SubtleGAN/data/brats2021/train/BraTS2021_01183\n"
     ]
    },
    {
     "name": "stderr",
     "output_type": "stream",
     "text": [
      "\n",
      "  0%|          | 0/80 [00:00<?, ?it/s]\u001b[A\n",
      " 20%|██        | 16/80 [00:00<00:00, 159.66it/s]\u001b[A\n",
      " 40%|████      | 32/80 [00:00<00:00, 158.13it/s]\u001b[A\n",
      " 60%|██████    | 48/80 [00:00<00:00, 153.92it/s]\u001b[A\n",
      " 80%|████████  | 64/80 [00:00<00:00, 152.13it/s]\u001b[A\n",
      "100%|██████████| 80/80 [00:00<00:00, 151.96it/s]\u001b[A\n",
      " 12%|█▏        | 133/1125 [02:19<16:35,  1.00s/it]"
     ]
    },
    {
     "name": "stdout",
     "output_type": "stream",
     "text": [
      "/home/jiang/projects/SubtleGAN/data/brats2021/train/BraTS2021_01633\n"
     ]
    },
    {
     "name": "stderr",
     "output_type": "stream",
     "text": [
      "\n",
      "  0%|          | 0/80 [00:00<?, ?it/s]\u001b[A\n",
      " 20%|██        | 16/80 [00:00<00:00, 152.32it/s]\u001b[A\n",
      " 40%|████      | 32/80 [00:00<00:00, 148.80it/s]\u001b[A\n",
      " 60%|██████    | 48/80 [00:00<00:00, 149.56it/s]\u001b[A\n",
      " 79%|███████▉  | 63/80 [00:00<00:00, 149.44it/s]\u001b[A\n",
      "100%|██████████| 80/80 [00:00<00:00, 148.69it/s]\u001b[A\n",
      " 12%|█▏        | 134/1125 [02:21<18:22,  1.11s/it]"
     ]
    },
    {
     "name": "stdout",
     "output_type": "stream",
     "text": [
      "/home/jiang/projects/SubtleGAN/data/brats2021/train/BraTS2021_01452\n"
     ]
    },
    {
     "name": "stderr",
     "output_type": "stream",
     "text": [
      "\n",
      "  0%|          | 0/80 [00:00<?, ?it/s]\u001b[A\n",
      " 20%|██        | 16/80 [00:00<00:00, 153.57it/s]\u001b[A\n",
      " 40%|████      | 32/80 [00:00<00:00, 155.48it/s]\u001b[A\n",
      " 60%|██████    | 48/80 [00:00<00:00, 156.14it/s]\u001b[A\n",
      " 80%|████████  | 64/80 [00:00<00:00, 130.32it/s]\u001b[A\n",
      "100%|██████████| 80/80 [00:00<00:00, 132.36it/s]\u001b[A\n",
      " 12%|█▏        | 135/1125 [02:22<18:28,  1.12s/it]"
     ]
    },
    {
     "name": "stdout",
     "output_type": "stream",
     "text": [
      "/home/jiang/projects/SubtleGAN/data/brats2021/train/BraTS2021_01064\n"
     ]
    },
    {
     "name": "stderr",
     "output_type": "stream",
     "text": [
      "\n",
      "  0%|          | 0/80 [00:00<?, ?it/s]\u001b[A\n",
      " 20%|██        | 16/80 [00:00<00:00, 158.70it/s]\u001b[A\n",
      " 40%|████      | 32/80 [00:00<00:00, 158.04it/s]\u001b[A\n",
      " 60%|██████    | 48/80 [00:00<00:00, 157.96it/s]\u001b[A\n",
      " 80%|████████  | 64/80 [00:00<00:00, 158.08it/s]\u001b[A\n",
      "100%|██████████| 80/80 [00:00<00:00, 157.69it/s]\u001b[A\n",
      " 12%|█▏        | 136/1125 [02:23<18:14,  1.11s/it]"
     ]
    },
    {
     "name": "stdout",
     "output_type": "stream",
     "text": [
      "/home/jiang/projects/SubtleGAN/data/brats2021/train/BraTS2021_00016\n"
     ]
    },
    {
     "name": "stderr",
     "output_type": "stream",
     "text": [
      "\n",
      "  0%|          | 0/80 [00:00<?, ?it/s]\u001b[A\n",
      " 20%|██        | 16/80 [00:00<00:00, 154.51it/s]\u001b[A\n",
      " 40%|████      | 32/80 [00:00<00:00, 156.21it/s]\u001b[A\n",
      " 60%|██████    | 48/80 [00:00<00:00, 156.19it/s]\u001b[A\n",
      " 80%|████████  | 64/80 [00:00<00:00, 153.59it/s]\u001b[A\n",
      "100%|██████████| 80/80 [00:00<00:00, 152.36it/s]\u001b[A\n",
      " 12%|█▏        | 137/1125 [02:24<17:26,  1.06s/it]"
     ]
    },
    {
     "name": "stdout",
     "output_type": "stream",
     "text": [
      "/home/jiang/projects/SubtleGAN/data/brats2021/train/BraTS2021_01421\n"
     ]
    },
    {
     "name": "stderr",
     "output_type": "stream",
     "text": [
      "\n",
      "  0%|          | 0/80 [00:00<?, ?it/s]\u001b[A\n",
      " 20%|██        | 16/80 [00:00<00:00, 154.04it/s]\u001b[A\n",
      " 40%|████      | 32/80 [00:00<00:00, 151.98it/s]\u001b[A\n",
      " 60%|██████    | 48/80 [00:00<00:00, 153.51it/s]\u001b[A\n",
      " 80%|████████  | 64/80 [00:00<00:00, 153.18it/s]\u001b[A\n",
      "100%|██████████| 80/80 [00:00<00:00, 153.51it/s]\u001b[A\n",
      " 12%|█▏        | 138/1125 [02:25<17:38,  1.07s/it]"
     ]
    },
    {
     "name": "stdout",
     "output_type": "stream",
     "text": [
      "/home/jiang/projects/SubtleGAN/data/brats2021/train/BraTS2021_00718\n"
     ]
    },
    {
     "name": "stderr",
     "output_type": "stream",
     "text": [
      "\n",
      "  0%|          | 0/80 [00:00<?, ?it/s]\u001b[A\n",
      " 20%|██        | 16/80 [00:00<00:00, 154.12it/s]\u001b[A\n",
      " 40%|████      | 32/80 [00:00<00:00, 155.43it/s]\u001b[A\n",
      " 60%|██████    | 48/80 [00:00<00:00, 153.16it/s]\u001b[A\n",
      " 80%|████████  | 64/80 [00:00<00:00, 152.18it/s]\u001b[A\n",
      "100%|██████████| 80/80 [00:00<00:00, 151.89it/s]\u001b[A\n",
      " 12%|█▏        | 139/1125 [02:26<17:11,  1.05s/it]"
     ]
    },
    {
     "name": "stdout",
     "output_type": "stream",
     "text": [
      "/home/jiang/projects/SubtleGAN/data/brats2021/train/BraTS2021_00077\n"
     ]
    },
    {
     "name": "stderr",
     "output_type": "stream",
     "text": [
      "\n",
      "  0%|          | 0/80 [00:00<?, ?it/s]\u001b[A\n",
      " 20%|██        | 16/80 [00:00<00:00, 150.55it/s]\u001b[A\n",
      " 40%|████      | 32/80 [00:00<00:00, 149.98it/s]\u001b[A\n",
      " 59%|█████▉    | 47/80 [00:00<00:00, 110.06it/s]\u001b[A\n",
      " 79%|███████▉  | 63/80 [00:00<00:00, 123.52it/s]\u001b[A\n",
      "100%|██████████| 80/80 [00:00<00:00, 128.67it/s]\u001b[A\n",
      " 12%|█▏        | 140/1125 [02:27<17:17,  1.05s/it]"
     ]
    },
    {
     "name": "stdout",
     "output_type": "stream",
     "text": [
      "/home/jiang/projects/SubtleGAN/data/brats2021/train/BraTS2021_00778\n"
     ]
    },
    {
     "name": "stderr",
     "output_type": "stream",
     "text": [
      "\n",
      "  0%|          | 0/80 [00:00<?, ?it/s]\u001b[A\n",
      "  8%|▊         | 6/80 [00:00<00:01, 54.08it/s]\u001b[A\n",
      " 16%|█▋        | 13/80 [00:00<00:01, 60.98it/s]\u001b[A\n",
      " 32%|███▎      | 26/80 [00:00<00:00, 89.61it/s]\u001b[A\n",
      " 51%|█████▏    | 41/80 [00:00<00:00, 111.75it/s]\u001b[A\n",
      " 70%|███████   | 56/80 [00:00<00:00, 124.80it/s]\u001b[A\n",
      "100%|██████████| 80/80 [00:00<00:00, 111.86it/s]\u001b[A\n",
      " 13%|█▎        | 141/1125 [02:28<17:47,  1.08s/it]"
     ]
    },
    {
     "name": "stdout",
     "output_type": "stream",
     "text": [
      "/home/jiang/projects/SubtleGAN/data/brats2021/train/BraTS2021_00691\n"
     ]
    },
    {
     "name": "stderr",
     "output_type": "stream",
     "text": [
      "\n",
      "  0%|          | 0/80 [00:00<?, ?it/s]\u001b[A\n",
      " 19%|█▉        | 15/80 [00:00<00:00, 147.02it/s]\u001b[A\n",
      " 38%|███▊      | 30/80 [00:00<00:00, 146.10it/s]\u001b[A\n",
      " 56%|█████▋    | 45/80 [00:00<00:00, 144.25it/s]\u001b[A\n",
      " 75%|███████▌  | 60/80 [00:00<00:00, 141.88it/s]\u001b[A\n",
      "100%|██████████| 80/80 [00:00<00:00, 141.10it/s]\u001b[A\n",
      " 13%|█▎        | 142/1125 [02:29<17:09,  1.05s/it]"
     ]
    },
    {
     "name": "stdout",
     "output_type": "stream",
     "text": [
      "/home/jiang/projects/SubtleGAN/data/brats2021/train/BraTS2021_01321\n"
     ]
    },
    {
     "name": "stderr",
     "output_type": "stream",
     "text": [
      "\n",
      "  0%|          | 0/80 [00:00<?, ?it/s]\u001b[A\n",
      " 18%|█▊        | 14/80 [00:00<00:00, 139.27it/s]\u001b[A\n",
      " 35%|███▌      | 28/80 [00:00<00:00, 115.31it/s]\u001b[A\n",
      " 52%|█████▎    | 42/80 [00:00<00:00, 122.30it/s]\u001b[A\n",
      " 70%|███████   | 56/80 [00:00<00:00, 128.23it/s]\u001b[A\n",
      "100%|██████████| 80/80 [00:00<00:00, 129.54it/s]\u001b[A\n",
      " 13%|█▎        | 143/1125 [02:30<17:41,  1.08s/it]"
     ]
    },
    {
     "name": "stdout",
     "output_type": "stream",
     "text": [
      "/home/jiang/projects/SubtleGAN/data/brats2021/train/BraTS2021_01572\n"
     ]
    },
    {
     "name": "stderr",
     "output_type": "stream",
     "text": [
      "\n",
      "  0%|          | 0/80 [00:00<?, ?it/s]\u001b[A\n",
      " 20%|██        | 16/80 [00:00<00:00, 158.10it/s]\u001b[A\n",
      " 40%|████      | 32/80 [00:00<00:00, 157.07it/s]\u001b[A\n",
      " 60%|██████    | 48/80 [00:00<00:00, 156.95it/s]\u001b[A\n",
      " 80%|████████  | 64/80 [00:00<00:00, 116.85it/s]\u001b[A\n",
      "100%|██████████| 80/80 [00:00<00:00, 132.95it/s]\u001b[A\n",
      " 13%|█▎        | 144/1125 [02:32<19:26,  1.19s/it]"
     ]
    },
    {
     "name": "stdout",
     "output_type": "stream",
     "text": [
      "/home/jiang/projects/SubtleGAN/data/brats2021/train/BraTS2021_00297\n"
     ]
    },
    {
     "name": "stderr",
     "output_type": "stream",
     "text": [
      "\n",
      "  0%|          | 0/80 [00:00<?, ?it/s]\u001b[A\n",
      " 20%|██        | 16/80 [00:00<00:00, 158.46it/s]\u001b[A\n",
      " 40%|████      | 32/80 [00:00<00:00, 156.50it/s]\u001b[A\n",
      " 60%|██████    | 48/80 [00:00<00:00, 152.75it/s]\u001b[A\n",
      " 80%|████████  | 64/80 [00:00<00:00, 153.78it/s]\u001b[A\n",
      "100%|██████████| 80/80 [00:00<00:00, 153.68it/s]\u001b[A\n",
      " 13%|█▎        | 145/1125 [02:33<18:27,  1.13s/it]"
     ]
    },
    {
     "name": "stdout",
     "output_type": "stream",
     "text": [
      "/home/jiang/projects/SubtleGAN/data/brats2021/train/BraTS2021_00589\n"
     ]
    },
    {
     "name": "stderr",
     "output_type": "stream",
     "text": [
      "\n",
      "  0%|          | 0/80 [00:00<?, ?it/s]\u001b[A\n",
      "  9%|▉         | 7/80 [00:00<00:01, 65.73it/s]\u001b[A\n",
      " 19%|█▉        | 15/80 [00:00<00:00, 72.60it/s]\u001b[A\n",
      " 36%|███▋      | 29/80 [00:00<00:00, 102.60it/s]\u001b[A\n",
      " 56%|█████▋    | 45/80 [00:00<00:00, 123.89it/s]\u001b[A\n",
      " 76%|███████▋  | 61/80 [00:00<00:00, 135.55it/s]\u001b[A\n",
      "100%|██████████| 80/80 [00:00<00:00, 125.37it/s]\u001b[A\n",
      " 13%|█▎        | 146/1125 [02:34<19:55,  1.22s/it]"
     ]
    },
    {
     "name": "stdout",
     "output_type": "stream",
     "text": [
      "/home/jiang/projects/SubtleGAN/data/brats2021/train/BraTS2021_01570\n"
     ]
    },
    {
     "name": "stderr",
     "output_type": "stream",
     "text": [
      "\n",
      "  0%|          | 0/80 [00:00<?, ?it/s]\u001b[A\n",
      " 20%|██        | 16/80 [00:00<00:00, 157.29it/s]\u001b[A\n",
      " 40%|████      | 32/80 [00:00<00:00, 154.53it/s]\u001b[A\n",
      " 60%|██████    | 48/80 [00:00<00:00, 155.37it/s]\u001b[A\n",
      " 80%|████████  | 64/80 [00:00<00:00, 156.12it/s]\u001b[A\n",
      "100%|██████████| 80/80 [00:00<00:00, 155.55it/s]\u001b[A\n",
      " 13%|█▎        | 147/1125 [02:35<20:19,  1.25s/it]"
     ]
    },
    {
     "name": "stdout",
     "output_type": "stream",
     "text": [
      "/home/jiang/projects/SubtleGAN/data/brats2021/train/BraTS2021_00533\n"
     ]
    },
    {
     "name": "stderr",
     "output_type": "stream",
     "text": [
      "\n",
      "  0%|          | 0/80 [00:00<?, ?it/s]\u001b[A\n",
      " 20%|██        | 16/80 [00:00<00:00, 159.37it/s]\u001b[A\n",
      " 40%|████      | 32/80 [00:00<00:00, 157.96it/s]\u001b[A\n",
      " 60%|██████    | 48/80 [00:00<00:00, 157.45it/s]\u001b[A\n",
      " 80%|████████  | 64/80 [00:00<00:00, 157.35it/s]\u001b[A\n",
      "100%|██████████| 80/80 [00:00<00:00, 156.78it/s]\u001b[A\n",
      " 13%|█▎        | 148/1125 [02:36<18:49,  1.16s/it]"
     ]
    },
    {
     "name": "stdout",
     "output_type": "stream",
     "text": [
      "/home/jiang/projects/SubtleGAN/data/brats2021/train/BraTS2021_00296\n"
     ]
    },
    {
     "name": "stderr",
     "output_type": "stream",
     "text": [
      "\n",
      "  0%|          | 0/80 [00:00<?, ?it/s]\u001b[A\n",
      " 20%|██        | 16/80 [00:00<00:00, 157.44it/s]\u001b[A\n",
      " 40%|████      | 32/80 [00:00<00:00, 157.17it/s]\u001b[A\n",
      " 60%|██████    | 48/80 [00:00<00:00, 156.88it/s]\u001b[A\n",
      " 80%|████████  | 64/80 [00:00<00:00, 156.92it/s]\u001b[A\n",
      "100%|██████████| 80/80 [00:00<00:00, 156.20it/s]\u001b[A\n",
      " 13%|█▎        | 149/1125 [02:37<18:11,  1.12s/it]"
     ]
    },
    {
     "name": "stdout",
     "output_type": "stream",
     "text": [
      "/home/jiang/projects/SubtleGAN/data/brats2021/train/BraTS2021_00152\n"
     ]
    },
    {
     "name": "stderr",
     "output_type": "stream",
     "text": [
      "\n",
      "  0%|          | 0/80 [00:00<?, ?it/s]\u001b[A\n",
      " 20%|██        | 16/80 [00:00<00:00, 159.87it/s]\u001b[A\n",
      " 40%|████      | 32/80 [00:00<00:00, 158.29it/s]\u001b[A\n",
      " 60%|██████    | 48/80 [00:00<00:00, 155.85it/s]\u001b[A\n",
      " 80%|████████  | 64/80 [00:00<00:00, 156.54it/s]\u001b[A\n",
      "100%|██████████| 80/80 [00:00<00:00, 156.16it/s]\u001b[A\n",
      " 13%|█▎        | 150/1125 [02:38<17:43,  1.09s/it]"
     ]
    },
    {
     "name": "stdout",
     "output_type": "stream",
     "text": [
      "/home/jiang/projects/SubtleGAN/data/brats2021/train/BraTS2021_01382\n"
     ]
    },
    {
     "name": "stderr",
     "output_type": "stream",
     "text": [
      "\n",
      "  0%|          | 0/80 [00:00<?, ?it/s]\u001b[A\n",
      " 20%|██        | 16/80 [00:00<00:00, 157.40it/s]\u001b[A\n",
      " 40%|████      | 32/80 [00:00<00:00, 157.45it/s]\u001b[A\n",
      " 60%|██████    | 48/80 [00:00<00:00, 157.40it/s]\u001b[A\n",
      " 80%|████████  | 64/80 [00:00<00:00, 157.46it/s]\u001b[A\n",
      "100%|██████████| 80/80 [00:00<00:00, 156.84it/s]\u001b[A\n",
      " 13%|█▎        | 151/1125 [02:40<17:24,  1.07s/it]"
     ]
    },
    {
     "name": "stdout",
     "output_type": "stream",
     "text": [
      "/home/jiang/projects/SubtleGAN/data/brats2021/train/BraTS2021_01118\n"
     ]
    },
    {
     "name": "stderr",
     "output_type": "stream",
     "text": [
      "\n",
      "  0%|          | 0/80 [00:00<?, ?it/s]\u001b[A\n",
      " 20%|██        | 16/80 [00:00<00:00, 154.75it/s]\u001b[A\n",
      " 40%|████      | 32/80 [00:00<00:00, 155.23it/s]\u001b[A\n",
      " 60%|██████    | 48/80 [00:00<00:00, 155.90it/s]\u001b[A\n",
      " 80%|████████  | 64/80 [00:00<00:00, 156.14it/s]\u001b[A\n",
      "100%|██████████| 80/80 [00:00<00:00, 154.35it/s]\u001b[A\n",
      " 14%|█▎        | 152/1125 [02:41<17:19,  1.07s/it]"
     ]
    },
    {
     "name": "stdout",
     "output_type": "stream",
     "text": [
      "/home/jiang/projects/SubtleGAN/data/brats2021/train/BraTS2021_01318\n"
     ]
    },
    {
     "name": "stderr",
     "output_type": "stream",
     "text": [
      "\n",
      "  0%|          | 0/80 [00:00<?, ?it/s]\u001b[A\n",
      " 20%|██        | 16/80 [00:00<00:00, 158.94it/s]\u001b[A\n",
      " 40%|████      | 32/80 [00:00<00:00, 157.24it/s]\u001b[A\n",
      " 60%|██████    | 48/80 [00:00<00:00, 156.18it/s]\u001b[A\n",
      " 80%|████████  | 64/80 [00:00<00:00, 153.54it/s]\u001b[A\n",
      "100%|██████████| 80/80 [00:00<00:00, 152.90it/s]\u001b[A\n",
      " 14%|█▎        | 153/1125 [02:42<17:08,  1.06s/it]"
     ]
    },
    {
     "name": "stdout",
     "output_type": "stream",
     "text": [
      "/home/jiang/projects/SubtleGAN/data/brats2021/train/BraTS2021_00684\n"
     ]
    },
    {
     "name": "stderr",
     "output_type": "stream",
     "text": [
      "\n",
      "  0%|          | 0/80 [00:00<?, ?it/s]\u001b[A\n",
      " 20%|██        | 16/80 [00:00<00:00, 159.41it/s]\u001b[A\n",
      " 40%|████      | 32/80 [00:00<00:00, 158.27it/s]\u001b[A\n",
      " 60%|██████    | 48/80 [00:00<00:00, 156.49it/s]\u001b[A\n",
      " 80%|████████  | 64/80 [00:00<00:00, 156.02it/s]\u001b[A\n",
      "100%|██████████| 80/80 [00:00<00:00, 130.05it/s]\u001b[A\n",
      " 14%|█▎        | 154/1125 [02:43<16:58,  1.05s/it]"
     ]
    },
    {
     "name": "stdout",
     "output_type": "stream",
     "text": [
      "/home/jiang/projects/SubtleGAN/data/brats2021/train/BraTS2021_00733\n"
     ]
    },
    {
     "name": "stderr",
     "output_type": "stream",
     "text": [
      "\n",
      "  0%|          | 0/80 [00:00<?, ?it/s]\u001b[A\n",
      " 20%|██        | 16/80 [00:00<00:00, 152.34it/s]\u001b[A\n",
      " 40%|████      | 32/80 [00:00<00:00, 151.06it/s]\u001b[A\n",
      " 60%|██████    | 48/80 [00:00<00:00, 105.63it/s]\u001b[A\n",
      " 79%|███████▉  | 63/80 [00:00<00:00, 118.74it/s]\u001b[A\n",
      "100%|██████████| 80/80 [00:00<00:00, 125.91it/s]\u001b[A\n",
      " 14%|█▍        | 155/1125 [02:44<17:09,  1.06s/it]"
     ]
    },
    {
     "name": "stdout",
     "output_type": "stream",
     "text": [
      "/home/jiang/projects/SubtleGAN/data/brats2021/train/BraTS2021_01295\n"
     ]
    },
    {
     "name": "stderr",
     "output_type": "stream",
     "text": [
      "\n",
      "  0%|          | 0/80 [00:00<?, ?it/s]\u001b[A\n",
      " 20%|██        | 16/80 [00:00<00:00, 158.49it/s]\u001b[A\n",
      " 40%|████      | 32/80 [00:00<00:00, 157.34it/s]\u001b[A\n",
      " 60%|██████    | 48/80 [00:00<00:00, 156.89it/s]\u001b[A\n",
      " 80%|████████  | 64/80 [00:00<00:00, 156.41it/s]\u001b[A\n",
      "100%|██████████| 80/80 [00:00<00:00, 151.52it/s]\u001b[A\n",
      " 14%|█▍        | 156/1125 [02:45<16:58,  1.05s/it]"
     ]
    },
    {
     "name": "stdout",
     "output_type": "stream",
     "text": [
      "/home/jiang/projects/SubtleGAN/data/brats2021/train/BraTS2021_01384\n"
     ]
    },
    {
     "name": "stderr",
     "output_type": "stream",
     "text": [
      "\n",
      "  0%|          | 0/80 [00:00<?, ?it/s]\u001b[A\n",
      " 19%|█▉        | 15/80 [00:00<00:00, 147.08it/s]\u001b[A\n",
      " 39%|███▉      | 31/80 [00:00<00:00, 151.43it/s]\u001b[A\n",
      " 59%|█████▉    | 47/80 [00:00<00:00, 151.90it/s]\u001b[A\n",
      " 79%|███████▉  | 63/80 [00:00<00:00, 153.73it/s]\u001b[A\n",
      "100%|██████████| 80/80 [00:00<00:00, 145.65it/s]\u001b[A\n",
      " 14%|█▍        | 157/1125 [02:46<16:51,  1.04s/it]"
     ]
    },
    {
     "name": "stdout",
     "output_type": "stream",
     "text": [
      "/home/jiang/projects/SubtleGAN/data/brats2021/train/BraTS2021_00165\n"
     ]
    },
    {
     "name": "stderr",
     "output_type": "stream",
     "text": [
      "\n",
      "  0%|          | 0/80 [00:00<?, ?it/s]\u001b[A\n",
      " 21%|██▏       | 17/80 [00:00<00:00, 160.59it/s]\u001b[A\n",
      " 42%|████▎     | 34/80 [00:00<00:00, 158.50it/s]\u001b[A\n",
      " 62%|██████▎   | 50/80 [00:00<00:00, 157.96it/s]\u001b[A\n",
      "100%|██████████| 80/80 [00:00<00:00, 157.93it/s]\u001b[A\n",
      " 14%|█▍        | 158/1125 [02:47<16:44,  1.04s/it]"
     ]
    },
    {
     "name": "stdout",
     "output_type": "stream",
     "text": [
      "/home/jiang/projects/SubtleGAN/data/brats2021/train/BraTS2021_00043\n"
     ]
    },
    {
     "name": "stderr",
     "output_type": "stream",
     "text": [
      "\n",
      "  0%|          | 0/80 [00:00<?, ?it/s]\u001b[A\n",
      " 21%|██▏       | 17/80 [00:00<00:00, 160.74it/s]\u001b[A\n",
      " 42%|████▎     | 34/80 [00:00<00:00, 158.91it/s]\u001b[A\n",
      " 62%|██████▎   | 50/80 [00:00<00:00, 111.44it/s]\u001b[A\n",
      "100%|██████████| 80/80 [00:00<00:00, 132.60it/s]\u001b[A\n",
      " 14%|█▍        | 159/1125 [02:48<16:42,  1.04s/it]"
     ]
    },
    {
     "name": "stdout",
     "output_type": "stream",
     "text": [
      "/home/jiang/projects/SubtleGAN/data/brats2021/train/BraTS2021_01034\n"
     ]
    },
    {
     "name": "stderr",
     "output_type": "stream",
     "text": [
      "\n",
      "  0%|          | 0/80 [00:00<?, ?it/s]\u001b[A\n",
      " 21%|██▏       | 17/80 [00:00<00:00, 161.21it/s]\u001b[A\n",
      " 42%|████▎     | 34/80 [00:00<00:00, 156.78it/s]\u001b[A\n",
      " 62%|██████▎   | 50/80 [00:00<00:00, 157.59it/s]\u001b[A\n",
      "100%|██████████| 80/80 [00:00<00:00, 157.68it/s]\u001b[A\n",
      " 14%|█▍        | 160/1125 [02:49<16:36,  1.03s/it]"
     ]
    },
    {
     "name": "stdout",
     "output_type": "stream",
     "text": [
      "/home/jiang/projects/SubtleGAN/data/brats2021/train/BraTS2021_01063\n"
     ]
    },
    {
     "name": "stderr",
     "output_type": "stream",
     "text": [
      "\n",
      "  0%|          | 0/80 [00:00<?, ?it/s]\u001b[A\n",
      " 21%|██▏       | 17/80 [00:00<00:00, 160.87it/s]\u001b[A\n",
      " 42%|████▎     | 34/80 [00:00<00:00, 159.08it/s]\u001b[A\n",
      " 62%|██████▎   | 50/80 [00:00<00:00, 158.07it/s]\u001b[A\n",
      "100%|██████████| 80/80 [00:00<00:00, 157.83it/s]\u001b[A\n",
      " 14%|█▍        | 161/1125 [02:50<16:33,  1.03s/it]"
     ]
    },
    {
     "name": "stdout",
     "output_type": "stream",
     "text": [
      "/home/jiang/projects/SubtleGAN/data/brats2021/train/BraTS2021_01255\n"
     ]
    },
    {
     "name": "stderr",
     "output_type": "stream",
     "text": [
      "\n",
      "  0%|          | 0/80 [00:00<?, ?it/s]\u001b[A\n",
      " 21%|██▏       | 17/80 [00:00<00:00, 160.34it/s]\u001b[A\n",
      " 42%|████▎     | 34/80 [00:00<00:00, 158.86it/s]\u001b[A\n",
      " 62%|██████▎   | 50/80 [00:00<00:00, 158.25it/s]\u001b[A\n",
      "100%|██████████| 80/80 [00:00<00:00, 157.98it/s]\u001b[A\n",
      " 14%|█▍        | 162/1125 [02:51<16:30,  1.03s/it]"
     ]
    },
    {
     "name": "stdout",
     "output_type": "stream",
     "text": [
      "/home/jiang/projects/SubtleGAN/data/brats2021/train/BraTS2021_01314\n"
     ]
    },
    {
     "name": "stderr",
     "output_type": "stream",
     "text": [
      "\n",
      "  0%|          | 0/80 [00:00<?, ?it/s]\u001b[A\n",
      " 21%|██▏       | 17/80 [00:00<00:00, 160.65it/s]\u001b[A\n",
      " 42%|████▎     | 34/80 [00:00<00:00, 158.42it/s]\u001b[A\n",
      " 62%|██████▎   | 50/80 [00:00<00:00, 157.97it/s]\u001b[A\n",
      "100%|██████████| 80/80 [00:00<00:00, 157.80it/s]\u001b[A\n",
      " 14%|█▍        | 163/1125 [02:52<16:24,  1.02s/it]"
     ]
    },
    {
     "name": "stdout",
     "output_type": "stream",
     "text": [
      "/home/jiang/projects/SubtleGAN/data/brats2021/train/BraTS2021_01217\n"
     ]
    },
    {
     "name": "stderr",
     "output_type": "stream",
     "text": [
      "\n",
      "  0%|          | 0/80 [00:00<?, ?it/s]\u001b[A\n",
      " 20%|██        | 16/80 [00:00<00:00, 158.26it/s]\u001b[A\n",
      " 40%|████      | 32/80 [00:00<00:00, 156.86it/s]\u001b[A\n",
      " 60%|██████    | 48/80 [00:00<00:00, 156.71it/s]\u001b[A\n",
      " 80%|████████  | 64/80 [00:00<00:00, 156.48it/s]\u001b[A\n",
      "100%|██████████| 80/80 [00:00<00:00, 153.99it/s]\u001b[A\n",
      " 15%|█▍        | 164/1125 [02:53<16:27,  1.03s/it]"
     ]
    },
    {
     "name": "stdout",
     "output_type": "stream",
     "text": [
      "/home/jiang/projects/SubtleGAN/data/brats2021/train/BraTS2021_00254\n"
     ]
    },
    {
     "name": "stderr",
     "output_type": "stream",
     "text": [
      "\n",
      "  0%|          | 0/80 [00:00<?, ?it/s]\u001b[A\n",
      " 20%|██        | 16/80 [00:00<00:00, 151.59it/s]\u001b[A\n",
      " 40%|████      | 32/80 [00:00<00:00, 137.13it/s]\u001b[A\n",
      " 60%|██████    | 48/80 [00:00<00:00, 143.70it/s]\u001b[A\n",
      " 80%|████████  | 64/80 [00:00<00:00, 147.41it/s]\u001b[A\n",
      "100%|██████████| 80/80 [00:00<00:00, 146.09it/s]\u001b[A\n",
      " 15%|█▍        | 165/1125 [02:54<16:41,  1.04s/it]"
     ]
    },
    {
     "name": "stdout",
     "output_type": "stream",
     "text": [
      "/home/jiang/projects/SubtleGAN/data/brats2021/train/BraTS2021_00809\n"
     ]
    },
    {
     "name": "stderr",
     "output_type": "stream",
     "text": [
      "\n",
      "  0%|          | 0/80 [00:00<?, ?it/s]\u001b[A\n",
      " 20%|██        | 16/80 [00:00<00:00, 156.26it/s]\u001b[A\n",
      " 40%|████      | 32/80 [00:00<00:00, 151.45it/s]\u001b[A\n",
      " 60%|██████    | 48/80 [00:00<00:00, 152.51it/s]\u001b[A\n",
      " 80%|████████  | 64/80 [00:00<00:00, 150.95it/s]\u001b[A\n",
      "100%|██████████| 80/80 [00:00<00:00, 151.07it/s]\u001b[A\n",
      " 15%|█▍        | 166/1125 [02:55<18:20,  1.15s/it]"
     ]
    },
    {
     "name": "stdout",
     "output_type": "stream",
     "text": [
      "/home/jiang/projects/SubtleGAN/data/brats2021/train/BraTS2021_01089\n"
     ]
    },
    {
     "name": "stderr",
     "output_type": "stream",
     "text": [
      "\n",
      "  0%|          | 0/80 [00:00<?, ?it/s]\u001b[A\n",
      " 20%|██        | 16/80 [00:00<00:00, 158.95it/s]\u001b[A\n",
      " 40%|████      | 32/80 [00:00<00:00, 157.34it/s]\u001b[A\n",
      " 60%|██████    | 48/80 [00:00<00:00, 156.94it/s]\u001b[A\n",
      " 80%|████████  | 64/80 [00:00<00:00, 156.38it/s]\u001b[A\n",
      "100%|██████████| 80/80 [00:00<00:00, 154.74it/s]\u001b[A\n",
      " 15%|█▍        | 167/1125 [02:56<17:45,  1.11s/it]"
     ]
    },
    {
     "name": "stdout",
     "output_type": "stream",
     "text": [
      "/home/jiang/projects/SubtleGAN/data/brats2021/train/BraTS2021_00284\n"
     ]
    },
    {
     "name": "stderr",
     "output_type": "stream",
     "text": [
      "\n",
      "  0%|          | 0/80 [00:00<?, ?it/s]\u001b[A\n",
      " 20%|██        | 16/80 [00:00<00:00, 159.42it/s]\u001b[A\n",
      " 40%|████      | 32/80 [00:00<00:00, 156.88it/s]\u001b[A\n",
      " 60%|██████    | 48/80 [00:00<00:00, 155.58it/s]\u001b[A\n",
      " 80%|████████  | 64/80 [00:00<00:00, 151.82it/s]\u001b[A\n",
      "100%|██████████| 80/80 [00:00<00:00, 151.89it/s]\u001b[A\n",
      " 15%|█▍        | 168/1125 [02:57<17:25,  1.09s/it]"
     ]
    },
    {
     "name": "stdout",
     "output_type": "stream",
     "text": [
      "/home/jiang/projects/SubtleGAN/data/brats2021/train/BraTS2021_01081\n"
     ]
    },
    {
     "name": "stderr",
     "output_type": "stream",
     "text": [
      "\n",
      "  0%|          | 0/80 [00:00<?, ?it/s]\u001b[A\n",
      " 20%|██        | 16/80 [00:00<00:00, 159.89it/s]\u001b[A\n",
      " 40%|████      | 32/80 [00:00<00:00, 158.05it/s]\u001b[A\n",
      " 60%|██████    | 48/80 [00:00<00:00, 157.44it/s]\u001b[A\n",
      " 80%|████████  | 64/80 [00:00<00:00, 157.27it/s]\u001b[A\n",
      "100%|██████████| 80/80 [00:00<00:00, 156.68it/s]\u001b[A\n",
      " 15%|█▌        | 169/1125 [02:59<17:10,  1.08s/it]"
     ]
    },
    {
     "name": "stdout",
     "output_type": "stream",
     "text": [
      "/home/jiang/projects/SubtleGAN/data/brats2021/train/BraTS2021_00565\n"
     ]
    },
    {
     "name": "stderr",
     "output_type": "stream",
     "text": [
      "\n",
      "  0%|          | 0/80 [00:00<?, ?it/s]\u001b[A\n",
      " 20%|██        | 16/80 [00:00<00:00, 159.64it/s]\u001b[A\n",
      " 40%|████      | 32/80 [00:00<00:00, 155.65it/s]\u001b[A\n",
      " 60%|██████    | 48/80 [00:00<00:00, 155.91it/s]\u001b[A\n",
      " 80%|████████  | 64/80 [00:00<00:00, 156.13it/s]\u001b[A\n",
      "100%|██████████| 80/80 [00:00<00:00, 155.41it/s]\u001b[A\n",
      " 15%|█▌        | 170/1125 [03:00<16:58,  1.07s/it]"
     ]
    },
    {
     "name": "stdout",
     "output_type": "stream",
     "text": [
      "/home/jiang/projects/SubtleGAN/data/brats2021/train/BraTS2021_00022\n"
     ]
    },
    {
     "name": "stderr",
     "output_type": "stream",
     "text": [
      "\n",
      "  0%|          | 0/80 [00:00<?, ?it/s]\u001b[A\n",
      " 20%|██        | 16/80 [00:00<00:00, 159.44it/s]\u001b[A\n",
      " 40%|████      | 32/80 [00:00<00:00, 153.24it/s]\u001b[A\n",
      " 60%|██████    | 48/80 [00:00<00:00, 150.95it/s]\u001b[A\n",
      " 80%|████████  | 64/80 [00:00<00:00, 150.93it/s]\u001b[A\n",
      "100%|██████████| 80/80 [00:00<00:00, 150.64it/s]\u001b[A\n",
      " 15%|█▌        | 171/1125 [03:01<16:27,  1.03s/it]"
     ]
    },
    {
     "name": "stdout",
     "output_type": "stream",
     "text": [
      "/home/jiang/projects/SubtleGAN/data/brats2021/train/BraTS2021_01270\n"
     ]
    },
    {
     "name": "stderr",
     "output_type": "stream",
     "text": [
      "\n",
      "  0%|          | 0/80 [00:00<?, ?it/s]\u001b[A\n",
      " 20%|██        | 16/80 [00:00<00:00, 152.46it/s]\u001b[A\n",
      " 40%|████      | 32/80 [00:00<00:00, 150.01it/s]\u001b[A\n",
      " 60%|██████    | 48/80 [00:00<00:00, 149.73it/s]\u001b[A\n",
      " 79%|███████▉  | 63/80 [00:00<00:00, 149.23it/s]\u001b[A\n",
      "100%|██████████| 80/80 [00:00<00:00, 149.10it/s]\u001b[A\n",
      " 15%|█▌        | 172/1125 [03:02<16:37,  1.05s/it]"
     ]
    },
    {
     "name": "stdout",
     "output_type": "stream",
     "text": [
      "/home/jiang/projects/SubtleGAN/data/brats2021/train/BraTS2021_01144\n"
     ]
    },
    {
     "name": "stderr",
     "output_type": "stream",
     "text": [
      "\n",
      "  0%|          | 0/80 [00:00<?, ?it/s]\u001b[A\n",
      " 16%|█▋        | 13/80 [00:00<00:00, 119.06it/s]\u001b[A\n",
      " 31%|███▏      | 25/80 [00:00<00:00, 117.55it/s]\u001b[A\n",
      " 46%|████▋     | 37/80 [00:00<00:00, 115.22it/s]\u001b[A\n",
      " 61%|██████▏   | 49/80 [00:00<00:00, 115.66it/s]\u001b[A\n",
      " 76%|███████▋  | 61/80 [00:00<00:00, 113.40it/s]\u001b[A\n",
      "100%|██████████| 80/80 [00:00<00:00, 114.45it/s]\u001b[A\n",
      " 15%|█▌        | 173/1125 [03:03<17:29,  1.10s/it]"
     ]
    },
    {
     "name": "stdout",
     "output_type": "stream",
     "text": [
      "/home/jiang/projects/SubtleGAN/data/brats2021/train/BraTS2021_01559\n"
     ]
    },
    {
     "name": "stderr",
     "output_type": "stream",
     "text": [
      "\n",
      "  0%|          | 0/80 [00:00<?, ?it/s]\u001b[A\n",
      " 15%|█▌        | 12/80 [00:00<00:00, 116.93it/s]\u001b[A\n",
      " 30%|███       | 24/80 [00:00<00:00, 109.71it/s]\u001b[A\n",
      " 45%|████▌     | 36/80 [00:00<00:00, 110.37it/s]\u001b[A\n",
      " 60%|██████    | 48/80 [00:00<00:00, 108.63it/s]\u001b[A\n",
      " 75%|███████▌  | 60/80 [00:00<00:00, 109.33it/s]\u001b[A\n",
      "100%|██████████| 80/80 [00:00<00:00, 109.67it/s]\u001b[A\n",
      " 15%|█▌        | 174/1125 [03:05<20:27,  1.29s/it]"
     ]
    },
    {
     "name": "stdout",
     "output_type": "stream",
     "text": [
      "/home/jiang/projects/SubtleGAN/data/brats2021/train/BraTS2021_01537\n"
     ]
    },
    {
     "name": "stderr",
     "output_type": "stream",
     "text": [
      "\n",
      "  0%|          | 0/80 [00:00<?, ?it/s]\u001b[A\n",
      " 15%|█▌        | 12/80 [00:00<00:00, 115.00it/s]\u001b[A\n",
      " 30%|███       | 24/80 [00:00<00:00, 112.15it/s]\u001b[A\n",
      " 45%|████▌     | 36/80 [00:00<00:00, 113.28it/s]\u001b[A\n",
      " 60%|██████    | 48/80 [00:00<00:00, 111.45it/s]\u001b[A\n",
      " 75%|███████▌  | 60/80 [00:00<00:00, 112.92it/s]\u001b[A\n",
      "100%|██████████| 80/80 [00:00<00:00, 111.82it/s]\u001b[A\n",
      " 16%|█▌        | 175/1125 [03:06<20:33,  1.30s/it]"
     ]
    },
    {
     "name": "stdout",
     "output_type": "stream",
     "text": [
      "/home/jiang/projects/SubtleGAN/data/brats2021/train/BraTS2021_00729\n"
     ]
    },
    {
     "name": "stderr",
     "output_type": "stream",
     "text": [
      "\n",
      "  0%|          | 0/80 [00:00<?, ?it/s]\u001b[A\n",
      " 15%|█▌        | 12/80 [00:00<00:00, 116.09it/s]\u001b[A\n",
      " 31%|███▏      | 25/80 [00:00<00:00, 120.46it/s]\u001b[A\n",
      " 48%|████▊     | 38/80 [00:00<00:00, 120.46it/s]\u001b[A\n",
      " 64%|██████▍   | 51/80 [00:00<00:00, 122.54it/s]\u001b[A\n",
      " 80%|████████  | 64/80 [00:00<00:00, 122.95it/s]\u001b[A\n",
      "100%|██████████| 80/80 [00:00<00:00, 122.49it/s]\u001b[A\n",
      " 16%|█▌        | 176/1125 [03:07<19:55,  1.26s/it]"
     ]
    },
    {
     "name": "stdout",
     "output_type": "stream",
     "text": [
      "/home/jiang/projects/SubtleGAN/data/brats2021/train/BraTS2021_00601\n"
     ]
    },
    {
     "name": "stderr",
     "output_type": "stream",
     "text": [
      "\n",
      "  0%|          | 0/80 [00:00<?, ?it/s]\u001b[A\n",
      " 16%|█▋        | 13/80 [00:00<00:00, 125.69it/s]\u001b[A\n",
      " 32%|███▎      | 26/80 [00:00<00:00, 120.10it/s]\u001b[A\n",
      " 49%|████▉     | 39/80 [00:00<00:00, 120.73it/s]\u001b[A\n",
      " 65%|██████▌   | 52/80 [00:00<00:00, 121.21it/s]\u001b[A\n",
      " 81%|████████▏ | 65/80 [00:00<00:00, 120.42it/s]\u001b[A\n",
      "100%|██████████| 80/80 [00:00<00:00, 120.00it/s]\u001b[A\n",
      " 16%|█▌        | 177/1125 [03:08<19:38,  1.24s/it]"
     ]
    },
    {
     "name": "stdout",
     "output_type": "stream",
     "text": [
      "/home/jiang/projects/SubtleGAN/data/brats2021/train/BraTS2021_00061\n"
     ]
    },
    {
     "name": "stderr",
     "output_type": "stream",
     "text": [
      "\n",
      "  0%|          | 0/80 [00:00<?, ?it/s]\u001b[A\n",
      " 16%|█▋        | 13/80 [00:00<00:00, 126.87it/s]\u001b[A\n",
      " 32%|███▎      | 26/80 [00:00<00:00, 126.15it/s]\u001b[A\n",
      " 49%|████▉     | 39/80 [00:00<00:00, 126.35it/s]\u001b[A\n",
      " 65%|██████▌   | 52/80 [00:00<00:00, 124.51it/s]\u001b[A\n",
      " 81%|████████▏ | 65/80 [00:00<00:00, 122.72it/s]\u001b[A\n",
      "100%|██████████| 80/80 [00:00<00:00, 122.28it/s]\u001b[A\n",
      " 16%|█▌        | 178/1125 [03:09<19:20,  1.23s/it]"
     ]
    },
    {
     "name": "stdout",
     "output_type": "stream",
     "text": [
      "/home/jiang/projects/SubtleGAN/data/brats2021/train/BraTS2021_00030\n"
     ]
    },
    {
     "name": "stderr",
     "output_type": "stream",
     "text": [
      "\n",
      "  0%|          | 0/80 [00:00<?, ?it/s]\u001b[A\n",
      " 18%|█▊        | 14/80 [00:00<00:00, 129.88it/s]\u001b[A\n",
      " 34%|███▍      | 27/80 [00:00<00:00, 123.70it/s]\u001b[A\n",
      " 50%|█████     | 40/80 [00:00<00:00, 120.99it/s]\u001b[A\n",
      " 66%|██████▋   | 53/80 [00:00<00:00, 121.48it/s]\u001b[A\n",
      " 82%|████████▎ | 66/80 [00:00<00:00, 120.55it/s]\u001b[A\n",
      "100%|██████████| 80/80 [00:00<00:00, 121.07it/s]\u001b[A\n",
      " 16%|█▌        | 179/1125 [03:11<19:07,  1.21s/it]"
     ]
    },
    {
     "name": "stdout",
     "output_type": "stream",
     "text": [
      "/home/jiang/projects/SubtleGAN/data/brats2021/train/BraTS2021_00597\n"
     ]
    },
    {
     "name": "stderr",
     "output_type": "stream",
     "text": [
      "\n",
      "  0%|          | 0/80 [00:00<?, ?it/s]\u001b[A\n",
      " 16%|█▋        | 13/80 [00:00<00:00, 126.97it/s]\u001b[A\n",
      " 32%|███▎      | 26/80 [00:00<00:00, 119.63it/s]\u001b[A\n",
      " 48%|████▊     | 38/80 [00:00<00:00, 119.38it/s]\u001b[A\n",
      " 64%|██████▍   | 51/80 [00:00<00:00, 121.00it/s]\u001b[A\n",
      " 80%|████████  | 64/80 [00:00<00:00, 121.34it/s]\u001b[A\n",
      "100%|██████████| 80/80 [00:00<00:00, 119.67it/s]\u001b[A\n",
      " 16%|█▌        | 180/1125 [03:12<21:17,  1.35s/it]"
     ]
    },
    {
     "name": "stdout",
     "output_type": "stream",
     "text": [
      "/home/jiang/projects/SubtleGAN/data/brats2021/train/BraTS2021_00033\n"
     ]
    },
    {
     "name": "stderr",
     "output_type": "stream",
     "text": [
      "\n",
      "  0%|          | 0/80 [00:00<?, ?it/s]\u001b[A\n",
      " 15%|█▌        | 12/80 [00:00<00:00, 116.64it/s]\u001b[A\n",
      " 30%|███       | 24/80 [00:00<00:00, 117.89it/s]\u001b[A\n",
      " 45%|████▌     | 36/80 [00:00<00:00, 118.24it/s]\u001b[A\n",
      " 61%|██████▏   | 49/80 [00:00<00:00, 119.53it/s]\u001b[A\n",
      " 78%|███████▊  | 62/80 [00:00<00:00, 121.83it/s]\u001b[A\n",
      "100%|██████████| 80/80 [00:00<00:00, 119.29it/s]\u001b[A\n",
      " 16%|█▌        | 181/1125 [03:13<20:11,  1.28s/it]"
     ]
    },
    {
     "name": "stdout",
     "output_type": "stream",
     "text": [
      "/home/jiang/projects/SubtleGAN/data/brats2021/train/BraTS2021_01173\n"
     ]
    },
    {
     "name": "stderr",
     "output_type": "stream",
     "text": [
      "\n",
      "  0%|          | 0/80 [00:00<?, ?it/s]\u001b[A\n",
      " 16%|█▋        | 13/80 [00:00<00:00, 126.81it/s]\u001b[A\n",
      " 32%|███▎      | 26/80 [00:00<00:00, 121.30it/s]\u001b[A\n",
      " 49%|████▉     | 39/80 [00:00<00:00, 121.58it/s]\u001b[A\n",
      " 65%|██████▌   | 52/80 [00:00<00:00, 121.59it/s]\u001b[A\n",
      " 81%|████████▏ | 65/80 [00:00<00:00, 120.97it/s]\u001b[A\n",
      "100%|██████████| 80/80 [00:00<00:00, 121.78it/s]\u001b[A\n",
      " 16%|█▌        | 182/1125 [03:15<19:53,  1.27s/it]"
     ]
    },
    {
     "name": "stdout",
     "output_type": "stream",
     "text": [
      "/home/jiang/projects/SubtleGAN/data/brats2021/train/BraTS2021_01185\n"
     ]
    },
    {
     "name": "stderr",
     "output_type": "stream",
     "text": [
      "\n",
      "  0%|          | 0/80 [00:00<?, ?it/s]\u001b[A\n",
      " 16%|█▋        | 13/80 [00:00<00:00, 122.43it/s]\u001b[A\n",
      " 32%|███▎      | 26/80 [00:00<00:00, 121.35it/s]\u001b[A\n",
      " 49%|████▉     | 39/80 [00:00<00:00, 122.04it/s]\u001b[A\n",
      " 65%|██████▌   | 52/80 [00:00<00:00, 119.78it/s]\u001b[A\n",
      " 80%|████████  | 64/80 [00:00<00:00, 118.76it/s]\u001b[A\n",
      "100%|██████████| 80/80 [00:00<00:00, 118.92it/s]\u001b[A\n",
      " 16%|█▋        | 183/1125 [03:16<19:56,  1.27s/it]"
     ]
    },
    {
     "name": "stdout",
     "output_type": "stream",
     "text": [
      "/home/jiang/projects/SubtleGAN/data/brats2021/train/BraTS2021_01505\n"
     ]
    },
    {
     "name": "stderr",
     "output_type": "stream",
     "text": [
      "\n",
      "  0%|          | 0/80 [00:00<?, ?it/s]\u001b[A\n",
      " 16%|█▋        | 13/80 [00:00<00:00, 124.51it/s]\u001b[A\n",
      " 32%|███▎      | 26/80 [00:00<00:00, 120.87it/s]\u001b[A\n",
      " 49%|████▉     | 39/80 [00:00<00:00, 115.57it/s]\u001b[A\n",
      " 64%|██████▍   | 51/80 [00:00<00:00, 114.06it/s]\u001b[A\n",
      " 79%|███████▉  | 63/80 [00:00<00:00, 111.33it/s]\u001b[A\n",
      "100%|██████████| 80/80 [00:00<00:00, 112.87it/s]\u001b[A\n",
      " 16%|█▋        | 184/1125 [03:17<20:05,  1.28s/it]"
     ]
    },
    {
     "name": "stdout",
     "output_type": "stream",
     "text": [
      "/home/jiang/projects/SubtleGAN/data/brats2021/train/BraTS2021_00448\n"
     ]
    },
    {
     "name": "stderr",
     "output_type": "stream",
     "text": [
      "\n",
      "  0%|          | 0/80 [00:00<?, ?it/s]\u001b[A\n",
      " 16%|█▋        | 13/80 [00:00<00:00, 128.93it/s]\u001b[A\n",
      " 32%|███▎      | 26/80 [00:00<00:00, 121.82it/s]\u001b[A\n",
      " 49%|████▉     | 39/80 [00:00<00:00, 121.55it/s]\u001b[A\n",
      " 65%|██████▌   | 52/80 [00:00<00:00, 121.28it/s]\u001b[A\n",
      " 81%|████████▏ | 65/80 [00:00<00:00, 120.99it/s]\u001b[A\n",
      "100%|██████████| 80/80 [00:00<00:00, 120.55it/s]\u001b[A\n",
      " 16%|█▋        | 185/1125 [03:19<20:01,  1.28s/it]"
     ]
    },
    {
     "name": "stdout",
     "output_type": "stream",
     "text": [
      "/home/jiang/projects/SubtleGAN/data/brats2021/train/BraTS2021_00502\n"
     ]
    },
    {
     "name": "stderr",
     "output_type": "stream",
     "text": [
      "\n",
      "  0%|          | 0/80 [00:00<?, ?it/s]\u001b[A\n",
      " 16%|█▋        | 13/80 [00:00<00:00, 128.50it/s]\u001b[A\n",
      " 32%|███▎      | 26/80 [00:00<00:00, 119.91it/s]\u001b[A\n",
      " 49%|████▉     | 39/80 [00:00<00:00, 117.34it/s]\u001b[A\n",
      " 64%|██████▍   | 51/80 [00:00<00:00, 117.74it/s]\u001b[A\n",
      " 79%|███████▉  | 63/80 [00:00<00:00, 116.57it/s]\u001b[A\n",
      "100%|██████████| 80/80 [00:00<00:00, 118.19it/s]\u001b[A\n",
      " 17%|█▋        | 186/1125 [03:20<19:36,  1.25s/it]"
     ]
    },
    {
     "name": "stdout",
     "output_type": "stream",
     "text": [
      "/home/jiang/projects/SubtleGAN/data/brats2021/train/BraTS2021_01040\n"
     ]
    },
    {
     "name": "stderr",
     "output_type": "stream",
     "text": [
      "\n",
      "  0%|          | 0/80 [00:00<?, ?it/s]\u001b[A\n",
      " 16%|█▋        | 13/80 [00:00<00:00, 129.97it/s]\u001b[A\n",
      " 32%|███▎      | 26/80 [00:00<00:00, 125.65it/s]\u001b[A\n",
      " 49%|████▉     | 39/80 [00:00<00:00, 122.52it/s]\u001b[A\n",
      " 65%|██████▌   | 52/80 [00:00<00:00, 123.67it/s]\u001b[A\n",
      " 81%|████████▏ | 65/80 [00:00<00:00, 122.52it/s]\u001b[A\n",
      "100%|██████████| 80/80 [00:00<00:00, 122.74it/s]\u001b[A\n",
      " 17%|█▋        | 187/1125 [03:21<19:41,  1.26s/it]"
     ]
    },
    {
     "name": "stdout",
     "output_type": "stream",
     "text": [
      "/home/jiang/projects/SubtleGAN/data/brats2021/train/BraTS2021_01601\n"
     ]
    },
    {
     "name": "stderr",
     "output_type": "stream",
     "text": [
      "\n",
      "  0%|          | 0/80 [00:00<?, ?it/s]\u001b[A\n",
      " 16%|█▋        | 13/80 [00:00<00:00, 126.97it/s]\u001b[A\n",
      " 32%|███▎      | 26/80 [00:00<00:00, 123.22it/s]\u001b[A\n",
      " 50%|█████     | 40/80 [00:00<00:00, 128.22it/s]\u001b[A\n",
      " 66%|██████▋   | 53/80 [00:00<00:00, 123.40it/s]\u001b[A\n",
      " 82%|████████▎ | 66/80 [00:00<00:00, 120.76it/s]\u001b[A\n",
      "100%|██████████| 80/80 [00:00<00:00, 122.09it/s]\u001b[A\n",
      " 17%|█▋        | 188/1125 [03:23<21:32,  1.38s/it]"
     ]
    },
    {
     "name": "stdout",
     "output_type": "stream",
     "text": [
      "/home/jiang/projects/SubtleGAN/data/brats2021/train/BraTS2021_01276\n"
     ]
    },
    {
     "name": "stderr",
     "output_type": "stream",
     "text": [
      "\n",
      "  0%|          | 0/80 [00:00<?, ?it/s]\u001b[A\n",
      " 16%|█▋        | 13/80 [00:00<00:00, 125.05it/s]\u001b[A\n",
      " 32%|███▎      | 26/80 [00:00<00:00, 122.93it/s]\u001b[A\n",
      " 49%|████▉     | 39/80 [00:00<00:00, 120.96it/s]\u001b[A\n",
      " 65%|██████▌   | 52/80 [00:00<00:00, 123.30it/s]\u001b[A\n",
      " 81%|████████▏ | 65/80 [00:00<00:00, 120.19it/s]\u001b[A\n",
      "100%|██████████| 80/80 [00:00<00:00, 121.03it/s]\u001b[A\n",
      " 17%|█▋        | 189/1125 [03:24<20:59,  1.35s/it]"
     ]
    },
    {
     "name": "stdout",
     "output_type": "stream",
     "text": [
      "/home/jiang/projects/SubtleGAN/data/brats2021/train/BraTS2021_01465\n"
     ]
    },
    {
     "name": "stderr",
     "output_type": "stream",
     "text": [
      "\n",
      "  0%|          | 0/80 [00:00<?, ?it/s]\u001b[A\n",
      " 16%|█▋        | 13/80 [00:00<00:00, 124.18it/s]\u001b[A\n",
      " 32%|███▎      | 26/80 [00:00<00:00, 122.52it/s]\u001b[A\n",
      " 49%|████▉     | 39/80 [00:00<00:00, 123.39it/s]\u001b[A\n",
      " 65%|██████▌   | 52/80 [00:00<00:00, 124.03it/s]\u001b[A\n",
      " 81%|████████▏ | 65/80 [00:00<00:00, 124.16it/s]\u001b[A\n",
      "100%|██████████| 80/80 [00:00<00:00, 122.44it/s]\u001b[A\n",
      " 17%|█▋        | 190/1125 [03:25<20:29,  1.31s/it]"
     ]
    },
    {
     "name": "stdout",
     "output_type": "stream",
     "text": [
      "/home/jiang/projects/SubtleGAN/data/brats2021/train/BraTS2021_01631\n"
     ]
    },
    {
     "name": "stderr",
     "output_type": "stream",
     "text": [
      "\n",
      "  0%|          | 0/80 [00:00<?, ?it/s]\u001b[A\n",
      " 16%|█▋        | 13/80 [00:00<00:00, 121.04it/s]\u001b[A\n",
      " 32%|███▎      | 26/80 [00:00<00:00, 121.94it/s]\u001b[A\n",
      " 49%|████▉     | 39/80 [00:00<00:00, 120.84it/s]\u001b[A\n",
      " 65%|██████▌   | 52/80 [00:00<00:00, 122.42it/s]\u001b[A\n",
      " 81%|████████▏ | 65/80 [00:00<00:00, 123.46it/s]\u001b[A\n",
      "100%|██████████| 80/80 [00:00<00:00, 121.53it/s]\u001b[A\n",
      " 17%|█▋        | 191/1125 [03:27<21:51,  1.40s/it]"
     ]
    },
    {
     "name": "stdout",
     "output_type": "stream",
     "text": [
      "/home/jiang/projects/SubtleGAN/data/brats2021/train/BraTS2021_00300\n"
     ]
    },
    {
     "name": "stderr",
     "output_type": "stream",
     "text": [
      "\n",
      "  0%|          | 0/80 [00:00<?, ?it/s]\u001b[A\n",
      " 16%|█▋        | 13/80 [00:00<00:00, 127.10it/s]\u001b[A\n",
      " 32%|███▎      | 26/80 [00:00<00:00, 124.46it/s]\u001b[A\n",
      " 49%|████▉     | 39/80 [00:00<00:00, 123.89it/s]\u001b[A\n",
      " 65%|██████▌   | 52/80 [00:00<00:00, 121.78it/s]\u001b[A\n",
      " 82%|████████▎ | 66/80 [00:00<00:00, 125.36it/s]\u001b[A\n",
      "100%|██████████| 80/80 [00:00<00:00, 124.85it/s]\u001b[A\n",
      " 17%|█▋        | 192/1125 [03:28<21:02,  1.35s/it]"
     ]
    },
    {
     "name": "stdout",
     "output_type": "stream",
     "text": [
      "/home/jiang/projects/SubtleGAN/data/brats2021/train/BraTS2021_01290\n"
     ]
    },
    {
     "name": "stderr",
     "output_type": "stream",
     "text": [
      "\n",
      "  0%|          | 0/80 [00:00<?, ?it/s]\u001b[A\n",
      " 16%|█▋        | 13/80 [00:00<00:00, 123.38it/s]\u001b[A\n",
      " 32%|███▎      | 26/80 [00:00<00:00, 123.36it/s]\u001b[A\n",
      " 49%|████▉     | 39/80 [00:00<00:00, 121.89it/s]\u001b[A\n",
      " 65%|██████▌   | 52/80 [00:00<00:00, 124.55it/s]\u001b[A\n",
      " 81%|████████▏ | 65/80 [00:00<00:00, 123.26it/s]\u001b[A\n",
      "100%|██████████| 80/80 [00:00<00:00, 122.24it/s]\u001b[A\n",
      " 17%|█▋        | 193/1125 [03:29<20:36,  1.33s/it]"
     ]
    },
    {
     "name": "stdout",
     "output_type": "stream",
     "text": [
      "/home/jiang/projects/SubtleGAN/data/brats2021/train/BraTS2021_01098\n"
     ]
    },
    {
     "name": "stderr",
     "output_type": "stream",
     "text": [
      "\n",
      "  0%|          | 0/80 [00:00<?, ?it/s]\u001b[A\n",
      " 16%|█▋        | 13/80 [00:00<00:00, 124.97it/s]\u001b[A\n",
      " 32%|███▎      | 26/80 [00:00<00:00, 120.58it/s]\u001b[A\n",
      " 49%|████▉     | 39/80 [00:00<00:00, 121.55it/s]\u001b[A\n",
      " 65%|██████▌   | 52/80 [00:00<00:00, 122.65it/s]\u001b[A\n",
      " 81%|████████▏ | 65/80 [00:00<00:00, 123.69it/s]\u001b[A\n",
      "100%|██████████| 80/80 [00:00<00:00, 122.40it/s]\u001b[A\n",
      " 17%|█▋        | 194/1125 [03:31<20:14,  1.30s/it]"
     ]
    },
    {
     "name": "stdout",
     "output_type": "stream",
     "text": [
      "/home/jiang/projects/SubtleGAN/data/brats2021/train/BraTS2021_01610\n"
     ]
    },
    {
     "name": "stderr",
     "output_type": "stream",
     "text": [
      "\n",
      "  0%|          | 0/80 [00:00<?, ?it/s]\u001b[A\n",
      " 16%|█▋        | 13/80 [00:00<00:00, 123.16it/s]\u001b[A\n",
      " 32%|███▎      | 26/80 [00:00<00:00, 120.82it/s]\u001b[A\n",
      " 49%|████▉     | 39/80 [00:00<00:00, 123.14it/s]\u001b[A\n",
      " 65%|██████▌   | 52/80 [00:00<00:00, 123.30it/s]\u001b[A\n",
      " 81%|████████▏ | 65/80 [00:00<00:00, 122.87it/s]\u001b[A\n",
      "100%|██████████| 80/80 [00:00<00:00, 122.27it/s]\u001b[A\n",
      " 17%|█▋        | 195/1125 [03:32<21:43,  1.40s/it]"
     ]
    },
    {
     "name": "stdout",
     "output_type": "stream",
     "text": [
      "/home/jiang/projects/SubtleGAN/data/brats2021/train/BraTS2021_01115\n"
     ]
    },
    {
     "name": "stderr",
     "output_type": "stream",
     "text": [
      "\n",
      "  0%|          | 0/80 [00:00<?, ?it/s]\u001b[A\n",
      " 16%|█▋        | 13/80 [00:00<00:00, 119.54it/s]\u001b[A\n",
      " 32%|███▎      | 26/80 [00:00<00:00, 120.73it/s]\u001b[A\n",
      " 49%|████▉     | 39/80 [00:00<00:00, 123.27it/s]\u001b[A\n",
      " 65%|██████▌   | 52/80 [00:00<00:00, 120.41it/s]\u001b[A\n",
      " 81%|████████▏ | 65/80 [00:00<00:00, 121.67it/s]\u001b[A\n",
      "100%|██████████| 80/80 [00:00<00:00, 120.51it/s]\u001b[A\n",
      " 17%|█▋        | 196/1125 [03:33<20:59,  1.36s/it]"
     ]
    },
    {
     "name": "stdout",
     "output_type": "stream",
     "text": [
      "/home/jiang/projects/SubtleGAN/data/brats2021/train/BraTS2021_00784\n"
     ]
    },
    {
     "name": "stderr",
     "output_type": "stream",
     "text": [
      "\n",
      "  0%|          | 0/80 [00:00<?, ?it/s]\u001b[A\n",
      " 16%|█▋        | 13/80 [00:00<00:00, 129.06it/s]\u001b[A\n",
      " 32%|███▎      | 26/80 [00:00<00:00, 121.22it/s]\u001b[A\n",
      " 49%|████▉     | 39/80 [00:00<00:00, 119.07it/s]\u001b[A\n",
      " 64%|██████▍   | 51/80 [00:00<00:00, 119.15it/s]\u001b[A\n",
      " 80%|████████  | 64/80 [00:00<00:00, 120.96it/s]\u001b[A\n",
      "100%|██████████| 80/80 [00:00<00:00, 119.92it/s]\u001b[A\n",
      " 18%|█▊        | 197/1125 [03:35<22:16,  1.44s/it]"
     ]
    },
    {
     "name": "stdout",
     "output_type": "stream",
     "text": [
      "/home/jiang/projects/SubtleGAN/data/brats2021/train/BraTS2021_01485\n"
     ]
    },
    {
     "name": "stderr",
     "output_type": "stream",
     "text": [
      "\n",
      "  0%|          | 0/80 [00:00<?, ?it/s]\u001b[A\n",
      " 15%|█▌        | 12/80 [00:00<00:00, 110.85it/s]\u001b[A\n",
      " 30%|███       | 24/80 [00:00<00:00, 114.79it/s]\u001b[A\n",
      " 45%|████▌     | 36/80 [00:00<00:00, 114.10it/s]\u001b[A\n",
      " 60%|██████    | 48/80 [00:00<00:00, 113.49it/s]\u001b[A\n",
      " 75%|███████▌  | 60/80 [00:00<00:00, 112.45it/s]\u001b[A\n",
      "100%|██████████| 80/80 [00:00<00:00, 113.81it/s]\u001b[A\n",
      " 18%|█▊        | 198/1125 [03:36<21:50,  1.41s/it]"
     ]
    },
    {
     "name": "stdout",
     "output_type": "stream",
     "text": [
      "/home/jiang/projects/SubtleGAN/data/brats2021/train/BraTS2021_01482\n"
     ]
    },
    {
     "name": "stderr",
     "output_type": "stream",
     "text": [
      "\n",
      "  0%|          | 0/80 [00:00<?, ?it/s]\u001b[A\n",
      " 16%|█▋        | 13/80 [00:00<00:00, 129.76it/s]\u001b[A\n",
      " 32%|███▎      | 26/80 [00:00<00:00, 90.39it/s] \u001b[A\n",
      " 48%|████▊     | 38/80 [00:00<00:00, 100.28it/s]\u001b[A\n",
      " 62%|██████▎   | 50/80 [00:00<00:00, 106.01it/s]\u001b[A\n",
      " 78%|███████▊  | 62/80 [00:00<00:00, 110.49it/s]\u001b[A\n",
      "100%|██████████| 80/80 [00:00<00:00, 110.07it/s]\u001b[A\n",
      " 18%|█▊        | 199/1125 [03:38<21:28,  1.39s/it]"
     ]
    },
    {
     "name": "stdout",
     "output_type": "stream",
     "text": [
      "/home/jiang/projects/SubtleGAN/data/brats2021/train/BraTS2021_00139\n"
     ]
    },
    {
     "name": "stderr",
     "output_type": "stream",
     "text": [
      "\n",
      "  0%|          | 0/80 [00:00<?, ?it/s]\u001b[A\n",
      " 16%|█▋        | 13/80 [00:00<00:00, 123.44it/s]\u001b[A\n",
      " 32%|███▎      | 26/80 [00:00<00:00, 126.06it/s]\u001b[A\n",
      " 49%|████▉     | 39/80 [00:00<00:00, 125.14it/s]\u001b[A\n",
      " 65%|██████▌   | 52/80 [00:00<00:00, 124.84it/s]\u001b[A\n",
      " 81%|████████▏ | 65/80 [00:00<00:00, 123.79it/s]\u001b[A\n",
      "100%|██████████| 80/80 [00:00<00:00, 123.62it/s]\u001b[A\n",
      " 18%|█▊        | 200/1125 [03:39<20:44,  1.35s/it]"
     ]
    },
    {
     "name": "stdout",
     "output_type": "stream",
     "text": [
      "/home/jiang/projects/SubtleGAN/data/brats2021/train/BraTS2021_01646\n"
     ]
    },
    {
     "name": "stderr",
     "output_type": "stream",
     "text": [
      "\n",
      "  0%|          | 0/80 [00:00<?, ?it/s]\u001b[A\n",
      " 15%|█▌        | 12/80 [00:00<00:00, 116.34it/s]\u001b[A\n",
      " 30%|███       | 24/80 [00:00<00:00, 116.29it/s]\u001b[A\n",
      " 45%|████▌     | 36/80 [00:00<00:00, 115.70it/s]\u001b[A\n",
      " 60%|██████    | 48/80 [00:00<00:00, 115.97it/s]\u001b[A\n",
      " 76%|███████▋  | 61/80 [00:00<00:00, 119.19it/s]\u001b[A\n",
      "100%|██████████| 80/80 [00:00<00:00, 105.01it/s]\u001b[A\n",
      " 18%|█▊        | 201/1125 [03:41<22:36,  1.47s/it]"
     ]
    },
    {
     "name": "stdout",
     "output_type": "stream",
     "text": [
      "/home/jiang/projects/SubtleGAN/data/brats2021/train/BraTS2021_01476\n"
     ]
    },
    {
     "name": "stderr",
     "output_type": "stream",
     "text": [
      "\n",
      "  0%|          | 0/80 [00:00<?, ?it/s]\u001b[A\n",
      " 12%|█▎        | 10/80 [00:00<00:00, 97.61it/s]\u001b[A\n",
      " 25%|██▌       | 20/80 [00:00<00:00, 95.43it/s]\u001b[A\n",
      " 38%|███▊      | 30/80 [00:00<00:00, 91.80it/s]\u001b[A\n",
      " 50%|█████     | 40/80 [00:00<00:00, 89.94it/s]\u001b[A\n",
      " 62%|██████▎   | 50/80 [00:00<00:00, 89.25it/s]\u001b[A\n",
      " 74%|███████▍  | 59/80 [00:00<00:00, 88.26it/s]\u001b[A\n",
      " 86%|████████▋ | 69/80 [00:00<00:00, 90.50it/s]\u001b[A\n",
      "100%|██████████| 80/80 [00:00<00:00, 91.19it/s]\u001b[A\n",
      " 18%|█▊        | 202/1125 [03:43<24:07,  1.57s/it]"
     ]
    },
    {
     "name": "stdout",
     "output_type": "stream",
     "text": [
      "/home/jiang/projects/SubtleGAN/data/brats2021/train/BraTS2021_01439\n"
     ]
    },
    {
     "name": "stderr",
     "output_type": "stream",
     "text": [
      "\n",
      "  0%|          | 0/80 [00:00<?, ?it/s]\u001b[A\n",
      " 15%|█▌        | 12/80 [00:00<00:00, 110.45it/s]\u001b[A\n",
      " 30%|███       | 24/80 [00:00<00:00, 113.25it/s]\u001b[A\n",
      " 45%|████▌     | 36/80 [00:00<00:00, 111.70it/s]\u001b[A\n",
      " 61%|██████▏   | 49/80 [00:00<00:00, 115.91it/s]\u001b[A\n",
      " 76%|███████▋  | 61/80 [00:00<00:00, 116.13it/s]\u001b[A\n",
      "100%|██████████| 80/80 [00:00<00:00, 115.66it/s]\u001b[A\n",
      " 18%|█▊        | 203/1125 [03:44<22:53,  1.49s/it]"
     ]
    },
    {
     "name": "stdout",
     "output_type": "stream",
     "text": [
      "/home/jiang/projects/SubtleGAN/data/brats2021/train/BraTS2021_00804\n"
     ]
    },
    {
     "name": "stderr",
     "output_type": "stream",
     "text": [
      "\n",
      "  0%|          | 0/80 [00:00<?, ?it/s]\u001b[A\n",
      " 15%|█▌        | 12/80 [00:00<00:00, 116.41it/s]\u001b[A\n",
      " 30%|███       | 24/80 [00:00<00:00, 114.72it/s]\u001b[A\n",
      " 45%|████▌     | 36/80 [00:00<00:00, 115.39it/s]\u001b[A\n",
      " 60%|██████    | 48/80 [00:00<00:00, 114.74it/s]\u001b[A\n",
      " 75%|███████▌  | 60/80 [00:00<00:00, 115.27it/s]\u001b[A\n",
      "100%|██████████| 80/80 [00:00<00:00, 114.76it/s]\u001b[A\n",
      " 18%|█▊        | 204/1125 [03:45<23:29,  1.53s/it]"
     ]
    },
    {
     "name": "stdout",
     "output_type": "stream",
     "text": [
      "/home/jiang/projects/SubtleGAN/data/brats2021/train/BraTS2021_01548\n"
     ]
    },
    {
     "name": "stderr",
     "output_type": "stream",
     "text": [
      "\n",
      "  0%|          | 0/80 [00:00<?, ?it/s]\u001b[A\n",
      " 15%|█▌        | 12/80 [00:00<00:00, 115.86it/s]\u001b[A\n",
      " 30%|███       | 24/80 [00:00<00:00, 113.77it/s]\u001b[A\n",
      " 45%|████▌     | 36/80 [00:00<00:00, 113.91it/s]\u001b[A\n",
      " 60%|██████    | 48/80 [00:00<00:00, 111.80it/s]\u001b[A\n",
      " 75%|███████▌  | 60/80 [00:00<00:00, 112.67it/s]\u001b[A\n",
      "100%|██████████| 80/80 [00:00<00:00, 112.93it/s]\u001b[A\n",
      " 18%|█▊        | 205/1125 [03:47<24:03,  1.57s/it]"
     ]
    },
    {
     "name": "stdout",
     "output_type": "stream",
     "text": [
      "/home/jiang/projects/SubtleGAN/data/brats2021/train/BraTS2021_01021\n"
     ]
    },
    {
     "name": "stderr",
     "output_type": "stream",
     "text": [
      "\n",
      "  0%|          | 0/80 [00:00<?, ?it/s]\u001b[A\n",
      " 16%|█▋        | 13/80 [00:00<00:00, 117.57it/s]\u001b[A\n",
      " 31%|███▏      | 25/80 [00:00<00:00, 117.62it/s]\u001b[A\n",
      " 48%|████▊     | 38/80 [00:00<00:00, 119.93it/s]\u001b[A\n",
      " 62%|██████▎   | 50/80 [00:00<00:00, 119.45it/s]\u001b[A\n",
      " 78%|███████▊  | 62/80 [00:00<00:00, 117.83it/s]\u001b[A\n",
      "100%|██████████| 80/80 [00:00<00:00, 116.48it/s]\u001b[A\n",
      " 18%|█▊        | 206/1125 [03:48<22:27,  1.47s/it]"
     ]
    },
    {
     "name": "stdout",
     "output_type": "stream",
     "text": [
      "/home/jiang/projects/SubtleGAN/data/brats2021/train/BraTS2021_01467\n"
     ]
    },
    {
     "name": "stderr",
     "output_type": "stream",
     "text": [
      "\n",
      "  0%|          | 0/80 [00:00<?, ?it/s]\u001b[A\n",
      " 15%|█▌        | 12/80 [00:00<00:00, 112.59it/s]\u001b[A\n",
      " 30%|███       | 24/80 [00:00<00:00, 96.33it/s] \u001b[A\n",
      " 42%|████▎     | 34/80 [00:00<00:00, 91.45it/s]\u001b[A\n",
      " 55%|█████▌    | 44/80 [00:00<00:00, 88.85it/s]\u001b[A\n",
      " 66%|██████▋   | 53/80 [00:00<00:00, 87.64it/s]\u001b[A\n",
      " 78%|███████▊  | 62/80 [00:00<00:00, 85.49it/s]\u001b[A\n",
      "100%|██████████| 80/80 [00:00<00:00, 88.63it/s]\u001b[A\n",
      " 18%|█▊        | 207/1125 [03:50<22:16,  1.46s/it]"
     ]
    },
    {
     "name": "stdout",
     "output_type": "stream",
     "text": [
      "/home/jiang/projects/SubtleGAN/data/brats2021/train/BraTS2021_01508\n"
     ]
    },
    {
     "name": "stderr",
     "output_type": "stream",
     "text": [
      "\n",
      "  0%|          | 0/80 [00:00<?, ?it/s]\u001b[A\n",
      " 15%|█▌        | 12/80 [00:00<00:00, 119.62it/s]\u001b[A\n",
      " 30%|███       | 24/80 [00:00<00:00, 114.37it/s]\u001b[A\n",
      " 45%|████▌     | 36/80 [00:00<00:00, 80.44it/s] \u001b[A\n",
      " 60%|██████    | 48/80 [00:00<00:00, 91.47it/s]\u001b[A\n",
      " 76%|███████▋  | 61/80 [00:00<00:00, 101.34it/s]\u001b[A\n",
      "100%|██████████| 80/80 [00:00<00:00, 102.45it/s]\u001b[A\n",
      " 18%|█▊        | 208/1125 [03:51<21:34,  1.41s/it]"
     ]
    },
    {
     "name": "stdout",
     "output_type": "stream",
     "text": [
      "/home/jiang/projects/SubtleGAN/data/brats2021/train/BraTS2021_01530\n"
     ]
    },
    {
     "name": "stderr",
     "output_type": "stream",
     "text": [
      "\n",
      "  0%|          | 0/80 [00:00<?, ?it/s]\u001b[A\n",
      " 16%|█▋        | 13/80 [00:00<00:00, 127.33it/s]\u001b[A\n",
      " 32%|███▎      | 26/80 [00:00<00:00, 125.22it/s]\u001b[A\n",
      " 49%|████▉     | 39/80 [00:00<00:00, 123.97it/s]\u001b[A\n",
      " 65%|██████▌   | 52/80 [00:00<00:00, 123.61it/s]\u001b[A\n",
      " 81%|████████▏ | 65/80 [00:00<00:00, 120.19it/s]\u001b[A\n",
      "100%|██████████| 80/80 [00:00<00:00, 121.47it/s]\u001b[A\n",
      " 19%|█▊        | 209/1125 [03:52<20:28,  1.34s/it]"
     ]
    },
    {
     "name": "stdout",
     "output_type": "stream",
     "text": [
      "/home/jiang/projects/SubtleGAN/data/brats2021/train/BraTS2021_00148\n"
     ]
    },
    {
     "name": "stderr",
     "output_type": "stream",
     "text": [
      "\n",
      "  0%|          | 0/80 [00:00<?, ?it/s]\u001b[A\n",
      " 16%|█▋        | 13/80 [00:00<00:00, 127.72it/s]\u001b[A\n",
      " 32%|███▎      | 26/80 [00:00<00:00, 121.92it/s]\u001b[A\n",
      " 49%|████▉     | 39/80 [00:00<00:00, 115.73it/s]\u001b[A\n",
      " 64%|██████▍   | 51/80 [00:00<00:00, 104.52it/s]\u001b[A\n",
      " 78%|███████▊  | 62/80 [00:00<00:00, 97.72it/s] \u001b[A\n",
      "100%|██████████| 80/80 [00:00<00:00, 99.38it/s]\u001b[A\n",
      " 19%|█▊        | 210/1125 [03:54<20:23,  1.34s/it]"
     ]
    },
    {
     "name": "stdout",
     "output_type": "stream",
     "text": [
      "/home/jiang/projects/SubtleGAN/data/brats2021/train/BraTS2021_01211\n"
     ]
    },
    {
     "name": "stderr",
     "output_type": "stream",
     "text": [
      "\n",
      "  0%|          | 0/80 [00:00<?, ?it/s]\u001b[A\n",
      " 12%|█▎        | 10/80 [00:00<00:00, 95.82it/s]\u001b[A\n",
      " 25%|██▌       | 20/80 [00:00<00:00, 90.29it/s]\u001b[A\n",
      " 38%|███▊      | 30/80 [00:00<00:00, 85.61it/s]\u001b[A\n",
      " 49%|████▉     | 39/80 [00:00<00:00, 84.82it/s]\u001b[A\n",
      " 60%|██████    | 48/80 [00:00<00:00, 84.43it/s]\u001b[A\n",
      " 71%|███████▏  | 57/80 [00:00<00:00, 85.75it/s]\u001b[A\n",
      "100%|██████████| 80/80 [00:00<00:00, 93.62it/s]\u001b[A\n",
      " 19%|█▉        | 211/1125 [03:55<20:38,  1.35s/it]"
     ]
    },
    {
     "name": "stdout",
     "output_type": "stream",
     "text": [
      "/home/jiang/projects/SubtleGAN/data/brats2021/train/BraTS2021_01377\n"
     ]
    },
    {
     "name": "stderr",
     "output_type": "stream",
     "text": [
      "\n",
      "  0%|          | 0/80 [00:00<?, ?it/s]\u001b[A\n",
      " 16%|█▋        | 13/80 [00:00<00:00, 123.73it/s]\u001b[A\n",
      " 32%|███▎      | 26/80 [00:00<00:00, 119.08it/s]\u001b[A\n",
      " 48%|████▊     | 38/80 [00:00<00:00, 119.19it/s]\u001b[A\n",
      " 64%|██████▍   | 51/80 [00:00<00:00, 120.90it/s]\u001b[A\n",
      " 80%|████████  | 64/80 [00:00<00:00, 121.89it/s]\u001b[A\n",
      "100%|██████████| 80/80 [00:00<00:00, 121.18it/s]\u001b[A\n",
      " 19%|█▉        | 212/1125 [03:56<19:49,  1.30s/it]"
     ]
    },
    {
     "name": "stdout",
     "output_type": "stream",
     "text": [
      "/home/jiang/projects/SubtleGAN/data/brats2021/train/BraTS2021_00115\n"
     ]
    },
    {
     "name": "stderr",
     "output_type": "stream",
     "text": [
      "\n",
      "  0%|          | 0/80 [00:00<?, ?it/s]\u001b[A\n",
      " 16%|█▋        | 13/80 [00:00<00:00, 123.51it/s]\u001b[A\n",
      " 32%|███▎      | 26/80 [00:00<00:00, 120.64it/s]\u001b[A\n",
      " 49%|████▉     | 39/80 [00:00<00:00, 118.26it/s]\u001b[A\n",
      " 64%|██████▍   | 51/80 [00:00<00:00, 118.03it/s]\u001b[A\n",
      " 80%|████████  | 64/80 [00:00<00:00, 119.33it/s]\u001b[A\n",
      "100%|██████████| 80/80 [00:00<00:00, 119.61it/s]\u001b[A\n",
      " 19%|█▉        | 213/1125 [03:58<20:59,  1.38s/it]"
     ]
    },
    {
     "name": "stdout",
     "output_type": "stream",
     "text": [
      "/home/jiang/projects/SubtleGAN/data/brats2021/train/BraTS2021_00222\n"
     ]
    },
    {
     "name": "stderr",
     "output_type": "stream",
     "text": [
      "\n",
      "  0%|          | 0/80 [00:00<?, ?it/s]\u001b[A\n",
      " 15%|█▌        | 12/80 [00:00<00:00, 119.54it/s]\u001b[A\n",
      " 31%|███▏      | 25/80 [00:00<00:00, 121.46it/s]\u001b[A\n",
      " 48%|████▊     | 38/80 [00:00<00:00, 121.27it/s]\u001b[A\n",
      " 64%|██████▍   | 51/80 [00:00<00:00, 121.41it/s]\u001b[A\n",
      " 80%|████████  | 64/80 [00:00<00:00, 120.84it/s]\u001b[A\n",
      "100%|██████████| 80/80 [00:00<00:00, 121.28it/s]\u001b[A\n",
      " 19%|█▉        | 214/1125 [03:59<20:08,  1.33s/it]"
     ]
    },
    {
     "name": "stdout",
     "output_type": "stream",
     "text": [
      "/home/jiang/projects/SubtleGAN/data/brats2021/train/BraTS2021_01296\n"
     ]
    },
    {
     "name": "stderr",
     "output_type": "stream",
     "text": [
      "\n",
      "  0%|          | 0/80 [00:00<?, ?it/s]\u001b[A\n",
      " 15%|█▌        | 12/80 [00:00<00:00, 117.94it/s]\u001b[A\n",
      " 30%|███       | 24/80 [00:00<00:00, 117.27it/s]\u001b[A\n",
      " 45%|████▌     | 36/80 [00:00<00:00, 117.90it/s]\u001b[A\n",
      " 60%|██████    | 48/80 [00:00<00:00, 109.56it/s]\u001b[A\n",
      " 75%|███████▌  | 60/80 [00:00<00:00, 101.98it/s]\u001b[A\n",
      "100%|██████████| 80/80 [00:00<00:00, 101.89it/s]\u001b[A\n",
      " 19%|█▉        | 215/1125 [04:00<20:00,  1.32s/it]"
     ]
    },
    {
     "name": "stdout",
     "output_type": "stream",
     "text": [
      "/home/jiang/projects/SubtleGAN/data/brats2021/train/BraTS2021_00195\n"
     ]
    },
    {
     "name": "stderr",
     "output_type": "stream",
     "text": [
      "\n",
      "  0%|          | 0/80 [00:00<?, ?it/s]\u001b[A\n",
      " 12%|█▎        | 10/80 [00:00<00:00, 96.50it/s]\u001b[A\n",
      " 25%|██▌       | 20/80 [00:00<00:00, 93.41it/s]\u001b[A\n",
      " 38%|███▊      | 30/80 [00:00<00:00, 91.32it/s]\u001b[A\n",
      " 50%|█████     | 40/80 [00:00<00:00, 90.87it/s]\u001b[A\n",
      " 62%|██████▎   | 50/80 [00:00<00:00, 89.97it/s]\u001b[A\n",
      " 75%|███████▌  | 60/80 [00:00<00:00, 87.58it/s]\u001b[A\n",
      " 86%|████████▋ | 69/80 [00:00<00:00, 87.24it/s]\u001b[A\n",
      "100%|██████████| 80/80 [00:00<00:00, 88.75it/s]\u001b[A\n",
      " 19%|█▉        | 216/1125 [04:02<20:30,  1.35s/it]"
     ]
    },
    {
     "name": "stdout",
     "output_type": "stream",
     "text": [
      "/home/jiang/projects/SubtleGAN/data/brats2021/train/BraTS2021_00811\n"
     ]
    },
    {
     "name": "stderr",
     "output_type": "stream",
     "text": [
      "\n",
      "  0%|          | 0/80 [00:00<?, ?it/s]\u001b[A\n",
      " 16%|█▋        | 13/80 [00:00<00:00, 125.18it/s]\u001b[A\n",
      " 32%|███▎      | 26/80 [00:00<00:00, 118.49it/s]\u001b[A\n",
      " 49%|████▉     | 39/80 [00:00<00:00, 118.89it/s]\u001b[A\n",
      " 65%|██████▌   | 52/80 [00:00<00:00, 120.17it/s]\u001b[A\n",
      " 81%|████████▏ | 65/80 [00:00<00:00, 120.29it/s]\u001b[A\n",
      "100%|██████████| 80/80 [00:00<00:00, 118.77it/s]\u001b[A\n",
      " 19%|█▉        | 217/1125 [04:03<22:03,  1.46s/it]"
     ]
    },
    {
     "name": "stdout",
     "output_type": "stream",
     "text": [
      "/home/jiang/projects/SubtleGAN/data/brats2021/train/BraTS2021_01311\n"
     ]
    },
    {
     "name": "stderr",
     "output_type": "stream",
     "text": [
      "\n",
      "  0%|          | 0/80 [00:00<?, ?it/s]\u001b[A\n",
      " 16%|█▋        | 13/80 [00:00<00:00, 125.23it/s]\u001b[A\n",
      " 32%|███▎      | 26/80 [00:00<00:00, 124.78it/s]\u001b[A\n",
      " 49%|████▉     | 39/80 [00:00<00:00, 122.91it/s]\u001b[A\n",
      " 65%|██████▌   | 52/80 [00:00<00:00, 122.74it/s]\u001b[A\n",
      " 81%|████████▏ | 65/80 [00:00<00:00, 122.06it/s]\u001b[A\n",
      "100%|██████████| 80/80 [00:00<00:00, 121.66it/s]\u001b[A\n",
      " 19%|█▉        | 218/1125 [04:05<20:46,  1.37s/it]"
     ]
    },
    {
     "name": "stdout",
     "output_type": "stream",
     "text": [
      "/home/jiang/projects/SubtleGAN/data/brats2021/train/BraTS2021_01302\n"
     ]
    },
    {
     "name": "stderr",
     "output_type": "stream",
     "text": [
      "\n",
      "  0%|          | 0/80 [00:00<?, ?it/s]\u001b[A\n",
      " 16%|█▋        | 13/80 [00:00<00:00, 127.50it/s]\u001b[A\n",
      " 32%|███▎      | 26/80 [00:00<00:00, 122.41it/s]\u001b[A\n",
      " 49%|████▉     | 39/80 [00:00<00:00, 124.58it/s]\u001b[A\n",
      " 65%|██████▌   | 52/80 [00:00<00:00, 122.82it/s]\u001b[A\n",
      " 81%|████████▏ | 65/80 [00:00<00:00, 123.59it/s]\u001b[A\n",
      "100%|██████████| 80/80 [00:00<00:00, 123.19it/s]\u001b[A\n",
      " 19%|█▉        | 219/1125 [04:06<20:14,  1.34s/it]"
     ]
    },
    {
     "name": "stdout",
     "output_type": "stream",
     "text": [
      "/home/jiang/projects/SubtleGAN/data/brats2021/train/BraTS2021_00654\n"
     ]
    },
    {
     "name": "stderr",
     "output_type": "stream",
     "text": [
      "\n",
      "  0%|          | 0/80 [00:00<?, ?it/s]\u001b[A\n",
      " 16%|█▋        | 13/80 [00:00<00:00, 127.29it/s]\u001b[A\n",
      " 32%|███▎      | 26/80 [00:00<00:00, 126.67it/s]\u001b[A\n",
      " 49%|████▉     | 39/80 [00:00<00:00, 121.79it/s]\u001b[A\n",
      " 65%|██████▌   | 52/80 [00:00<00:00, 115.72it/s]\u001b[A\n",
      " 80%|████████  | 64/80 [00:00<00:00, 115.87it/s]\u001b[A\n",
      "100%|██████████| 80/80 [00:00<00:00, 117.25it/s]\u001b[A\n",
      " 20%|█▉        | 220/1125 [04:07<19:09,  1.27s/it]"
     ]
    },
    {
     "name": "stdout",
     "output_type": "stream",
     "text": [
      "/home/jiang/projects/SubtleGAN/data/brats2021/train/BraTS2021_01146\n"
     ]
    },
    {
     "name": "stderr",
     "output_type": "stream",
     "text": [
      "\n",
      "  0%|          | 0/80 [00:00<?, ?it/s]\u001b[A\n",
      " 16%|█▋        | 13/80 [00:00<00:00, 122.69it/s]\u001b[A\n",
      " 32%|███▎      | 26/80 [00:00<00:00, 119.04it/s]\u001b[A\n",
      " 48%|████▊     | 38/80 [00:00<00:00, 118.17it/s]\u001b[A\n",
      " 62%|██████▎   | 50/80 [00:00<00:00, 117.13it/s]\u001b[A\n",
      " 78%|███████▊  | 62/80 [00:00<00:00, 116.35it/s]\u001b[A\n",
      "100%|██████████| 80/80 [00:00<00:00, 116.14it/s]\u001b[A\n",
      " 20%|█▉        | 221/1125 [04:08<18:50,  1.25s/it]"
     ]
    },
    {
     "name": "stdout",
     "output_type": "stream",
     "text": [
      "/home/jiang/projects/SubtleGAN/data/brats2021/train/BraTS2021_00124\n"
     ]
    },
    {
     "name": "stderr",
     "output_type": "stream",
     "text": [
      "\n",
      "  0%|          | 0/80 [00:00<?, ?it/s]\u001b[A\n",
      " 15%|█▌        | 12/80 [00:00<00:00, 119.90it/s]\u001b[A\n",
      " 30%|███       | 24/80 [00:00<00:00, 117.64it/s]\u001b[A\n",
      " 46%|████▋     | 37/80 [00:00<00:00, 118.73it/s]\u001b[A\n",
      " 61%|██████▏   | 49/80 [00:00<00:00, 118.46it/s]\u001b[A\n",
      " 76%|███████▋  | 61/80 [00:00<00:00, 114.12it/s]\u001b[A\n",
      "100%|██████████| 80/80 [00:00<00:00, 115.20it/s]\u001b[A\n",
      " 20%|█▉        | 222/1125 [04:09<18:43,  1.24s/it]"
     ]
    },
    {
     "name": "stdout",
     "output_type": "stream",
     "text": [
      "/home/jiang/projects/SubtleGAN/data/brats2021/train/BraTS2021_01650\n"
     ]
    },
    {
     "name": "stderr",
     "output_type": "stream",
     "text": [
      "\n",
      "  0%|          | 0/80 [00:00<?, ?it/s]\u001b[A\n",
      " 15%|█▌        | 12/80 [00:00<00:00, 119.50it/s]\u001b[A\n",
      " 30%|███       | 24/80 [00:00<00:00, 119.43it/s]\u001b[A\n",
      " 45%|████▌     | 36/80 [00:00<00:00, 117.27it/s]\u001b[A\n",
      " 61%|██████▏   | 49/80 [00:00<00:00, 119.33it/s]\u001b[A\n",
      " 76%|███████▋  | 61/80 [00:00<00:00, 117.61it/s]\u001b[A\n",
      "100%|██████████| 80/80 [00:00<00:00, 118.82it/s]\u001b[A\n",
      " 20%|█▉        | 223/1125 [04:11<20:10,  1.34s/it]"
     ]
    },
    {
     "name": "stdout",
     "output_type": "stream",
     "text": [
      "/home/jiang/projects/SubtleGAN/data/brats2021/train/BraTS2021_00582\n"
     ]
    },
    {
     "name": "stderr",
     "output_type": "stream",
     "text": [
      "\n",
      "  0%|          | 0/80 [00:00<?, ?it/s]\u001b[A\n",
      " 16%|█▋        | 13/80 [00:00<00:00, 123.96it/s]\u001b[A\n",
      " 32%|███▎      | 26/80 [00:00<00:00, 123.14it/s]\u001b[A\n",
      " 49%|████▉     | 39/80 [00:00<00:00, 119.09it/s]\u001b[A\n",
      " 65%|██████▌   | 52/80 [00:00<00:00, 120.18it/s]\u001b[A\n",
      " 81%|████████▏ | 65/80 [00:00<00:00, 120.22it/s]\u001b[A\n",
      "100%|██████████| 80/80 [00:00<00:00, 119.59it/s]\u001b[A\n",
      " 20%|█▉        | 224/1125 [04:12<21:04,  1.40s/it]"
     ]
    },
    {
     "name": "stdout",
     "output_type": "stream",
     "text": [
      "/home/jiang/projects/SubtleGAN/data/brats2021/train/BraTS2021_01507\n"
     ]
    },
    {
     "name": "stderr",
     "output_type": "stream",
     "text": [
      "\n",
      "  0%|          | 0/80 [00:00<?, ?it/s]\u001b[A\n",
      " 16%|█▋        | 13/80 [00:00<00:00, 124.56it/s]\u001b[A\n",
      " 32%|███▎      | 26/80 [00:00<00:00, 120.50it/s]\u001b[A\n",
      " 49%|████▉     | 39/80 [00:00<00:00, 108.65it/s]\u001b[A\n",
      " 62%|██████▎   | 50/80 [00:00<00:00, 100.55it/s]\u001b[A\n",
      " 76%|███████▋  | 61/80 [00:00<00:00, 97.42it/s] \u001b[A\n",
      "100%|██████████| 80/80 [00:00<00:00, 99.91it/s]\u001b[A\n",
      " 20%|██        | 225/1125 [04:14<20:41,  1.38s/it]"
     ]
    },
    {
     "name": "stdout",
     "output_type": "stream",
     "text": [
      "/home/jiang/projects/SubtleGAN/data/brats2021/train/BraTS2021_00579\n"
     ]
    },
    {
     "name": "stderr",
     "output_type": "stream",
     "text": [
      "\n",
      "  0%|          | 0/80 [00:00<?, ?it/s]\u001b[A\n",
      " 16%|█▋        | 13/80 [00:00<00:00, 125.54it/s]\u001b[A\n",
      " 32%|███▎      | 26/80 [00:00<00:00, 123.22it/s]\u001b[A\n",
      " 49%|████▉     | 39/80 [00:00<00:00, 105.08it/s]\u001b[A\n",
      " 62%|██████▎   | 50/80 [00:00<00:00, 98.83it/s] \u001b[A\n",
      " 76%|███████▋  | 61/80 [00:00<00:00, 95.36it/s]\u001b[A\n",
      "100%|██████████| 80/80 [00:00<00:00, 97.75it/s]\u001b[A\n",
      " 20%|██        | 226/1125 [04:16<22:52,  1.53s/it]"
     ]
    },
    {
     "name": "stdout",
     "output_type": "stream",
     "text": [
      "/home/jiang/projects/SubtleGAN/data/brats2021/train/BraTS2021_01048\n"
     ]
    },
    {
     "name": "stderr",
     "output_type": "stream",
     "text": [
      "\n",
      "  0%|          | 0/80 [00:00<?, ?it/s]\u001b[A\n",
      " 12%|█▎        | 10/80 [00:00<00:00, 93.71it/s]\u001b[A\n",
      " 25%|██▌       | 20/80 [00:00<00:00, 92.55it/s]\u001b[A\n",
      " 38%|███▊      | 30/80 [00:00<00:00, 90.51it/s]\u001b[A\n",
      " 50%|█████     | 40/80 [00:00<00:00, 91.56it/s]\u001b[A\n",
      " 62%|██████▎   | 50/80 [00:00<00:00, 90.89it/s]\u001b[A\n",
      " 75%|███████▌  | 60/80 [00:00<00:00, 89.56it/s]\u001b[A\n",
      " 86%|████████▋ | 69/80 [00:00<00:00, 88.57it/s]\u001b[A\n",
      "100%|██████████| 80/80 [00:00<00:00, 89.25it/s]\u001b[A\n",
      " 20%|██        | 227/1125 [04:17<22:32,  1.51s/it]"
     ]
    },
    {
     "name": "stdout",
     "output_type": "stream",
     "text": [
      "/home/jiang/projects/SubtleGAN/data/brats2021/train/BraTS2021_01584\n"
     ]
    },
    {
     "name": "stderr",
     "output_type": "stream",
     "text": [
      "\n",
      "  0%|          | 0/80 [00:00<?, ?it/s]\u001b[A\n",
      " 16%|█▋        | 13/80 [00:00<00:00, 118.35it/s]\u001b[A\n",
      " 31%|███▏      | 25/80 [00:00<00:00, 117.29it/s]\u001b[A\n",
      " 46%|████▋     | 37/80 [00:00<00:00, 87.10it/s] \u001b[A\n",
      " 62%|██████▎   | 50/80 [00:00<00:00, 99.20it/s]\u001b[A\n",
      " 78%|███████▊  | 62/80 [00:00<00:00, 104.44it/s]\u001b[A\n",
      "100%|██████████| 80/80 [00:00<00:00, 105.99it/s]\u001b[A\n",
      " 20%|██        | 228/1125 [04:19<23:49,  1.59s/it]"
     ]
    },
    {
     "name": "stdout",
     "output_type": "stream",
     "text": [
      "/home/jiang/projects/SubtleGAN/data/brats2021/train/BraTS2021_00251\n"
     ]
    },
    {
     "name": "stderr",
     "output_type": "stream",
     "text": [
      "\n",
      "  0%|          | 0/80 [00:00<?, ?it/s]\u001b[A\n",
      " 15%|█▌        | 12/80 [00:00<00:00, 118.88it/s]\u001b[A\n",
      " 30%|███       | 24/80 [00:00<00:00, 119.50it/s]\u001b[A\n",
      " 46%|████▋     | 37/80 [00:00<00:00, 121.67it/s]\u001b[A\n",
      " 62%|██████▎   | 50/80 [00:00<00:00, 121.57it/s]\u001b[A\n",
      " 79%|███████▉  | 63/80 [00:00<00:00, 120.90it/s]\u001b[A\n",
      "100%|██████████| 80/80 [00:00<00:00, 120.23it/s]\u001b[A\n",
      " 20%|██        | 229/1125 [04:20<21:58,  1.47s/it]"
     ]
    },
    {
     "name": "stdout",
     "output_type": "stream",
     "text": [
      "/home/jiang/projects/SubtleGAN/data/brats2021/train/BraTS2021_00735\n"
     ]
    },
    {
     "name": "stderr",
     "output_type": "stream",
     "text": [
      "\n",
      "  0%|          | 0/80 [00:00<?, ?it/s]\u001b[A\n",
      " 16%|█▋        | 13/80 [00:00<00:00, 125.19it/s]\u001b[A\n",
      " 32%|███▎      | 26/80 [00:00<00:00, 121.71it/s]\u001b[A\n",
      " 49%|████▉     | 39/80 [00:00<00:00, 122.46it/s]\u001b[A\n",
      " 65%|██████▌   | 52/80 [00:00<00:00, 122.94it/s]\u001b[A\n",
      " 81%|████████▏ | 65/80 [00:00<00:00, 122.91it/s]\u001b[A\n",
      "100%|██████████| 80/80 [00:00<00:00, 122.31it/s]\u001b[A\n",
      " 20%|██        | 230/1125 [04:21<20:17,  1.36s/it]"
     ]
    },
    {
     "name": "stdout",
     "output_type": "stream",
     "text": [
      "/home/jiang/projects/SubtleGAN/data/brats2021/train/BraTS2021_00510\n"
     ]
    },
    {
     "name": "stderr",
     "output_type": "stream",
     "text": [
      "\n",
      "  0%|          | 0/80 [00:00<?, ?it/s]\u001b[A\n",
      " 18%|█▊        | 14/80 [00:00<00:00, 128.57it/s]\u001b[A\n",
      " 34%|███▍      | 27/80 [00:00<00:00, 123.58it/s]\u001b[A\n",
      " 50%|█████     | 40/80 [00:00<00:00, 123.71it/s]\u001b[A\n",
      " 66%|██████▋   | 53/80 [00:00<00:00, 123.90it/s]\u001b[A\n",
      " 82%|████████▎ | 66/80 [00:00<00:00, 123.73it/s]\u001b[A\n",
      "100%|██████████| 80/80 [00:00<00:00, 123.41it/s]\u001b[A\n",
      " 21%|██        | 231/1125 [04:22<19:01,  1.28s/it]"
     ]
    },
    {
     "name": "stdout",
     "output_type": "stream",
     "text": [
      "/home/jiang/projects/SubtleGAN/data/brats2021/train/BraTS2021_01354\n"
     ]
    },
    {
     "name": "stderr",
     "output_type": "stream",
     "text": [
      "\n",
      "  0%|          | 0/80 [00:00<?, ?it/s]\u001b[A\n",
      " 16%|█▋        | 13/80 [00:00<00:00, 119.77it/s]\u001b[A\n",
      " 32%|███▎      | 26/80 [00:00<00:00, 122.11it/s]\u001b[A\n",
      " 49%|████▉     | 39/80 [00:00<00:00, 117.62it/s]\u001b[A\n",
      " 64%|██████▍   | 51/80 [00:00<00:00, 118.47it/s]\u001b[A\n",
      " 79%|███████▉  | 63/80 [00:00<00:00, 118.81it/s]\u001b[A\n",
      "100%|██████████| 80/80 [00:00<00:00, 119.60it/s]\u001b[A\n",
      " 21%|██        | 232/1125 [04:23<18:36,  1.25s/it]"
     ]
    },
    {
     "name": "stdout",
     "output_type": "stream",
     "text": [
      "/home/jiang/projects/SubtleGAN/data/brats2021/train/BraTS2021_01545\n"
     ]
    },
    {
     "name": "stderr",
     "output_type": "stream",
     "text": [
      "\n",
      "  0%|          | 0/80 [00:00<?, ?it/s]\u001b[A\n",
      "  6%|▋         | 5/80 [00:00<00:01, 47.24it/s]\u001b[A\n",
      " 16%|█▋        | 13/80 [00:00<00:01, 64.82it/s]\u001b[A\n",
      " 32%|███▎      | 26/80 [00:00<00:00, 91.46it/s]\u001b[A\n",
      " 49%|████▉     | 39/80 [00:00<00:00, 103.39it/s]\u001b[A\n",
      " 65%|██████▌   | 52/80 [00:00<00:00, 111.60it/s]\u001b[A\n",
      " 80%|████████  | 64/80 [00:00<00:00, 114.14it/s]\u001b[A\n",
      "100%|██████████| 80/80 [00:00<00:00, 105.15it/s]\u001b[A\n",
      " 21%|██        | 233/1125 [04:25<20:53,  1.41s/it]"
     ]
    },
    {
     "name": "stdout",
     "output_type": "stream",
     "text": [
      "/home/jiang/projects/SubtleGAN/data/brats2021/train/BraTS2021_01309\n"
     ]
    },
    {
     "name": "stderr",
     "output_type": "stream",
     "text": [
      "\n",
      "  0%|          | 0/80 [00:00<?, ?it/s]\u001b[A\n",
      " 16%|█▋        | 13/80 [00:00<00:00, 122.97it/s]\u001b[A\n",
      " 32%|███▎      | 26/80 [00:00<00:00, 120.56it/s]\u001b[A\n",
      " 49%|████▉     | 39/80 [00:00<00:00, 120.55it/s]\u001b[A\n",
      " 65%|██████▌   | 52/80 [00:00<00:00, 118.64it/s]\u001b[A\n",
      " 81%|████████▏ | 65/80 [00:00<00:00, 119.90it/s]\u001b[A\n",
      "100%|██████████| 80/80 [00:00<00:00, 119.78it/s]\u001b[A\n",
      " 21%|██        | 234/1125 [04:26<19:54,  1.34s/it]"
     ]
    },
    {
     "name": "stdout",
     "output_type": "stream",
     "text": [
      "/home/jiang/projects/SubtleGAN/data/brats2021/train/BraTS2021_01127\n"
     ]
    },
    {
     "name": "stderr",
     "output_type": "stream",
     "text": [
      "\n",
      "  0%|          | 0/80 [00:00<?, ?it/s]\u001b[A\n",
      " 15%|█▌        | 12/80 [00:00<00:00, 117.79it/s]\u001b[A\n",
      " 31%|███▏      | 25/80 [00:00<00:00, 120.47it/s]\u001b[A\n",
      " 48%|████▊     | 38/80 [00:00<00:00, 119.34it/s]\u001b[A\n",
      " 62%|██████▎   | 50/80 [00:00<00:00, 118.90it/s]\u001b[A\n",
      " 78%|███████▊  | 62/80 [00:00<00:00, 117.58it/s]\u001b[A\n",
      "100%|██████████| 80/80 [00:00<00:00, 118.64it/s]\u001b[A\n",
      " 21%|██        | 235/1125 [04:28<19:21,  1.30s/it]"
     ]
    },
    {
     "name": "stdout",
     "output_type": "stream",
     "text": [
      "/home/jiang/projects/SubtleGAN/data/brats2021/train/BraTS2021_00157\n"
     ]
    },
    {
     "name": "stderr",
     "output_type": "stream",
     "text": [
      "\n",
      "  0%|          | 0/80 [00:00<?, ?it/s]\u001b[A\n",
      " 16%|█▋        | 13/80 [00:00<00:00, 121.30it/s]\u001b[A\n",
      " 32%|███▎      | 26/80 [00:00<00:00, 120.89it/s]\u001b[A\n",
      " 49%|████▉     | 39/80 [00:00<00:00, 118.65it/s]\u001b[A\n",
      " 65%|██████▌   | 52/80 [00:00<00:00, 119.26it/s]\u001b[A\n",
      " 81%|████████▏ | 65/80 [00:00<00:00, 120.01it/s]\u001b[A\n",
      "100%|██████████| 80/80 [00:00<00:00, 119.03it/s]\u001b[A\n",
      " 21%|██        | 236/1125 [04:29<18:58,  1.28s/it]"
     ]
    },
    {
     "name": "stdout",
     "output_type": "stream",
     "text": [
      "/home/jiang/projects/SubtleGAN/data/brats2021/train/BraTS2021_01647\n"
     ]
    },
    {
     "name": "stderr",
     "output_type": "stream",
     "text": [
      "\n",
      "  0%|          | 0/80 [00:00<?, ?it/s]\u001b[A\n",
      " 16%|█▋        | 13/80 [00:00<00:00, 122.57it/s]\u001b[A\n",
      " 32%|███▎      | 26/80 [00:00<00:00, 118.62it/s]\u001b[A\n",
      " 49%|████▉     | 39/80 [00:00<00:00, 118.98it/s]\u001b[A\n",
      " 64%|██████▍   | 51/80 [00:00<00:00, 117.89it/s]\u001b[A\n",
      " 79%|███████▉  | 63/80 [00:00<00:00, 116.79it/s]\u001b[A\n",
      "100%|██████████| 80/80 [00:00<00:00, 116.63it/s]\u001b[A\n",
      " 21%|██        | 237/1125 [04:30<20:16,  1.37s/it]"
     ]
    },
    {
     "name": "stdout",
     "output_type": "stream",
     "text": [
      "/home/jiang/projects/SubtleGAN/data/brats2021/train/BraTS2021_00340\n"
     ]
    },
    {
     "name": "stderr",
     "output_type": "stream",
     "text": [
      "\n",
      "  0%|          | 0/80 [00:00<?, ?it/s]\u001b[A\n",
      " 16%|█▋        | 13/80 [00:00<00:00, 125.33it/s]\u001b[A\n",
      " 32%|███▎      | 26/80 [00:00<00:00, 123.84it/s]\u001b[A\n",
      " 49%|████▉     | 39/80 [00:00<00:00, 123.32it/s]\u001b[A\n",
      " 65%|██████▌   | 52/80 [00:00<00:00, 120.63it/s]\u001b[A\n",
      " 81%|████████▏ | 65/80 [00:00<00:00, 120.04it/s]\u001b[A\n",
      "100%|██████████| 80/80 [00:00<00:00, 120.97it/s]\u001b[A\n",
      " 21%|██        | 238/1125 [04:32<19:30,  1.32s/it]"
     ]
    },
    {
     "name": "stdout",
     "output_type": "stream",
     "text": [
      "/home/jiang/projects/SubtleGAN/data/brats2021/train/BraTS2021_01403\n"
     ]
    },
    {
     "name": "stderr",
     "output_type": "stream",
     "text": [
      "\n",
      "  0%|          | 0/80 [00:00<?, ?it/s]\u001b[A\n",
      " 16%|█▋        | 13/80 [00:00<00:00, 125.99it/s]\u001b[A\n",
      " 32%|███▎      | 26/80 [00:00<00:00, 122.04it/s]\u001b[A\n",
      " 49%|████▉     | 39/80 [00:00<00:00, 123.29it/s]\u001b[A\n",
      " 65%|██████▌   | 52/80 [00:00<00:00, 121.16it/s]\u001b[A\n",
      " 81%|████████▏ | 65/80 [00:00<00:00, 120.54it/s]\u001b[A\n",
      "100%|██████████| 80/80 [00:00<00:00, 119.73it/s]\u001b[A\n",
      " 21%|██        | 239/1125 [04:33<18:59,  1.29s/it]"
     ]
    },
    {
     "name": "stdout",
     "output_type": "stream",
     "text": [
      "/home/jiang/projects/SubtleGAN/data/brats2021/train/BraTS2021_01016\n"
     ]
    },
    {
     "name": "stderr",
     "output_type": "stream",
     "text": [
      "\n",
      "  0%|          | 0/80 [00:00<?, ?it/s]\u001b[A\n",
      " 16%|█▋        | 13/80 [00:00<00:00, 123.28it/s]\u001b[A\n",
      " 32%|███▎      | 26/80 [00:00<00:00, 120.96it/s]\u001b[A\n",
      " 49%|████▉     | 39/80 [00:00<00:00, 123.11it/s]\u001b[A\n",
      " 65%|██████▌   | 52/80 [00:00<00:00, 121.44it/s]\u001b[A\n",
      " 81%|████████▏ | 65/80 [00:00<00:00, 120.76it/s]\u001b[A\n",
      "100%|██████████| 80/80 [00:00<00:00, 120.14it/s]\u001b[A\n",
      " 21%|██▏       | 240/1125 [04:34<18:36,  1.26s/it]"
     ]
    },
    {
     "name": "stdout",
     "output_type": "stream",
     "text": [
      "/home/jiang/projects/SubtleGAN/data/brats2021/train/BraTS2021_00266\n"
     ]
    },
    {
     "name": "stderr",
     "output_type": "stream",
     "text": [
      "\n",
      "  0%|          | 0/80 [00:00<?, ?it/s]\u001b[A\n",
      " 15%|█▌        | 12/80 [00:00<00:00, 117.29it/s]\u001b[A\n",
      " 30%|███       | 24/80 [00:00<00:00, 114.84it/s]\u001b[A\n",
      " 45%|████▌     | 36/80 [00:00<00:00, 115.69it/s]\u001b[A\n",
      " 60%|██████    | 48/80 [00:00<00:00, 115.47it/s]\u001b[A\n",
      " 76%|███████▋  | 61/80 [00:00<00:00, 119.33it/s]\u001b[A\n",
      "100%|██████████| 80/80 [00:00<00:00, 117.77it/s]\u001b[A\n",
      " 21%|██▏       | 241/1125 [04:35<18:21,  1.25s/it]"
     ]
    },
    {
     "name": "stdout",
     "output_type": "stream",
     "text": [
      "/home/jiang/projects/SubtleGAN/data/brats2021/train/BraTS2021_00466\n"
     ]
    },
    {
     "name": "stderr",
     "output_type": "stream",
     "text": [
      "\n",
      "  0%|          | 0/80 [00:00<?, ?it/s]\u001b[A\n",
      " 16%|█▋        | 13/80 [00:00<00:00, 126.81it/s]\u001b[A\n",
      " 32%|███▎      | 26/80 [00:00<00:00, 127.07it/s]\u001b[A\n",
      " 49%|████▉     | 39/80 [00:00<00:00, 124.70it/s]\u001b[A\n",
      " 65%|██████▌   | 52/80 [00:00<00:00, 122.58it/s]\u001b[A\n",
      " 81%|████████▏ | 65/80 [00:00<00:00, 123.51it/s]\u001b[A\n",
      "100%|██████████| 80/80 [00:00<00:00, 122.58it/s]\u001b[A\n",
      " 22%|██▏       | 242/1125 [04:36<17:38,  1.20s/it]"
     ]
    },
    {
     "name": "stdout",
     "output_type": "stream",
     "text": [
      "/home/jiang/projects/SubtleGAN/data/brats2021/train/BraTS2021_01123\n"
     ]
    },
    {
     "name": "stderr",
     "output_type": "stream",
     "text": [
      "\n",
      "  0%|          | 0/80 [00:00<?, ?it/s]\u001b[A\n",
      " 16%|█▋        | 13/80 [00:00<00:00, 127.46it/s]\u001b[A\n",
      " 32%|███▎      | 26/80 [00:00<00:00, 122.77it/s]\u001b[A\n",
      " 49%|████▉     | 39/80 [00:00<00:00, 123.14it/s]\u001b[A\n",
      " 65%|██████▌   | 52/80 [00:00<00:00, 123.11it/s]\u001b[A\n",
      " 81%|████████▏ | 65/80 [00:00<00:00, 121.68it/s]\u001b[A\n",
      "100%|██████████| 80/80 [00:00<00:00, 121.51it/s]\u001b[A\n",
      " 22%|██▏       | 243/1125 [04:38<17:35,  1.20s/it]"
     ]
    },
    {
     "name": "stdout",
     "output_type": "stream",
     "text": [
      "/home/jiang/projects/SubtleGAN/data/brats2021/train/BraTS2021_01176\n"
     ]
    },
    {
     "name": "stderr",
     "output_type": "stream",
     "text": [
      "\n",
      "  0%|          | 0/80 [00:00<?, ?it/s]\u001b[A\n",
      " 15%|█▌        | 12/80 [00:00<00:00, 118.55it/s]\u001b[A\n",
      " 31%|███▏      | 25/80 [00:00<00:00, 119.09it/s]\u001b[A\n",
      " 46%|████▋     | 37/80 [00:00<00:00, 119.26it/s]\u001b[A\n",
      " 61%|██████▏   | 49/80 [00:00<00:00, 117.47it/s]\u001b[A\n",
      " 76%|███████▋  | 61/80 [00:00<00:00, 118.20it/s]\u001b[A\n",
      "100%|██████████| 80/80 [00:00<00:00, 118.83it/s]\u001b[A\n",
      " 22%|██▏       | 244/1125 [04:39<17:30,  1.19s/it]"
     ]
    },
    {
     "name": "stdout",
     "output_type": "stream",
     "text": [
      "/home/jiang/projects/SubtleGAN/data/brats2021/train/BraTS2021_01520\n"
     ]
    },
    {
     "name": "stderr",
     "output_type": "stream",
     "text": [
      "\n",
      "  0%|          | 0/80 [00:00<?, ?it/s]\u001b[A\n",
      " 16%|█▋        | 13/80 [00:00<00:00, 121.98it/s]\u001b[A\n",
      " 32%|███▎      | 26/80 [00:00<00:00, 121.18it/s]\u001b[A\n",
      " 49%|████▉     | 39/80 [00:00<00:00, 118.96it/s]\u001b[A\n",
      " 64%|██████▍   | 51/80 [00:00<00:00, 118.77it/s]\u001b[A\n",
      " 80%|████████  | 64/80 [00:00<00:00, 120.06it/s]\u001b[A\n",
      "100%|██████████| 80/80 [00:00<00:00, 120.26it/s]\u001b[A\n",
      " 22%|██▏       | 245/1125 [04:40<17:30,  1.19s/it]"
     ]
    },
    {
     "name": "stdout",
     "output_type": "stream",
     "text": [
      "/home/jiang/projects/SubtleGAN/data/brats2021/train/BraTS2021_00201\n"
     ]
    },
    {
     "name": "stderr",
     "output_type": "stream",
     "text": [
      "\n",
      "  0%|          | 0/80 [00:00<?, ?it/s]\u001b[A\n",
      " 16%|█▋        | 13/80 [00:00<00:00, 126.08it/s]\u001b[A\n",
      " 32%|███▎      | 26/80 [00:00<00:00, 123.08it/s]\u001b[A\n",
      " 49%|████▉     | 39/80 [00:00<00:00, 121.25it/s]\u001b[A\n",
      " 65%|██████▌   | 52/80 [00:00<00:00, 121.56it/s]\u001b[A\n",
      " 81%|████████▏ | 65/80 [00:00<00:00, 122.39it/s]\u001b[A\n",
      "100%|██████████| 80/80 [00:00<00:00, 120.74it/s]\u001b[A\n",
      " 22%|██▏       | 246/1125 [04:41<17:30,  1.19s/it]"
     ]
    },
    {
     "name": "stdout",
     "output_type": "stream",
     "text": [
      "/home/jiang/projects/SubtleGAN/data/brats2021/train/BraTS2021_01484\n"
     ]
    },
    {
     "name": "stderr",
     "output_type": "stream",
     "text": [
      "\n",
      "  0%|          | 0/80 [00:00<?, ?it/s]\u001b[A\n",
      " 15%|█▌        | 12/80 [00:00<00:00, 114.11it/s]\u001b[A\n",
      " 30%|███       | 24/80 [00:00<00:00, 97.76it/s] \u001b[A\n",
      " 42%|████▎     | 34/80 [00:00<00:00, 94.01it/s]\u001b[A\n",
      " 55%|█████▌    | 44/80 [00:00<00:00, 91.26it/s]\u001b[A\n",
      " 68%|██████▊   | 54/80 [00:00<00:00, 90.29it/s]\u001b[A\n",
      " 80%|████████  | 64/80 [00:00<00:00, 90.60it/s]\u001b[A\n",
      "100%|██████████| 80/80 [00:00<00:00, 92.21it/s]\u001b[A\n",
      " 22%|██▏       | 247/1125 [04:43<18:19,  1.25s/it]"
     ]
    },
    {
     "name": "stdout",
     "output_type": "stream",
     "text": [
      "/home/jiang/projects/SubtleGAN/data/brats2021/train/BraTS2021_01227\n"
     ]
    },
    {
     "name": "stderr",
     "output_type": "stream",
     "text": [
      "\n",
      "  0%|          | 0/80 [00:00<?, ?it/s]\u001b[A\n",
      " 14%|█▍        | 11/80 [00:00<00:00, 98.33it/s]\u001b[A\n",
      " 26%|██▋       | 21/80 [00:00<00:00, 92.18it/s]\u001b[A\n",
      " 39%|███▉      | 31/80 [00:00<00:00, 92.90it/s]\u001b[A\n",
      " 51%|█████▏    | 41/80 [00:00<00:00, 91.48it/s]\u001b[A\n",
      " 64%|██████▍   | 51/80 [00:00<00:00, 89.75it/s]\u001b[A\n",
      " 76%|███████▋  | 61/80 [00:00<00:00, 90.63it/s]\u001b[A\n",
      "100%|██████████| 80/80 [00:00<00:00, 91.20it/s]\u001b[A\n",
      " 22%|██▏       | 248/1125 [04:44<18:58,  1.30s/it]"
     ]
    },
    {
     "name": "stdout",
     "output_type": "stream",
     "text": [
      "/home/jiang/projects/SubtleGAN/data/brats2021/train/BraTS2021_01471\n"
     ]
    },
    {
     "name": "stderr",
     "output_type": "stream",
     "text": [
      "\n",
      "  0%|          | 0/80 [00:00<?, ?it/s]\u001b[A\n",
      " 12%|█▎        | 10/80 [00:00<00:00, 99.80it/s]\u001b[A\n",
      " 25%|██▌       | 20/80 [00:00<00:00, 93.09it/s]\u001b[A\n",
      " 38%|███▊      | 30/80 [00:00<00:00, 93.10it/s]\u001b[A\n",
      " 50%|█████     | 40/80 [00:00<00:00, 91.97it/s]\u001b[A\n",
      " 62%|██████▎   | 50/80 [00:00<00:00, 90.71it/s]\u001b[A\n",
      " 75%|███████▌  | 60/80 [00:00<00:00, 90.07it/s]\u001b[A\n",
      " 88%|████████▊ | 70/80 [00:00<00:00, 89.08it/s]\u001b[A\n",
      "100%|██████████| 80/80 [00:00<00:00, 89.71it/s]\u001b[A\n",
      " 22%|██▏       | 249/1125 [04:45<19:32,  1.34s/it]"
     ]
    },
    {
     "name": "stdout",
     "output_type": "stream",
     "text": [
      "/home/jiang/projects/SubtleGAN/data/brats2021/train/BraTS2021_00645\n"
     ]
    },
    {
     "name": "stderr",
     "output_type": "stream",
     "text": [
      "\n",
      "  0%|          | 0/80 [00:00<?, ?it/s]\u001b[A\n",
      " 12%|█▎        | 10/80 [00:00<00:00, 91.23it/s]\u001b[A\n",
      " 25%|██▌       | 20/80 [00:00<00:00, 89.40it/s]\u001b[A\n",
      " 36%|███▋      | 29/80 [00:00<00:00, 88.40it/s]\u001b[A\n",
      " 48%|████▊     | 38/80 [00:00<00:00, 86.97it/s]\u001b[A\n",
      " 59%|█████▉    | 47/80 [00:00<00:00, 86.96it/s]\u001b[A\n",
      " 70%|███████   | 56/80 [00:00<00:00, 86.23it/s]\u001b[A\n",
      " 81%|████████▏ | 65/80 [00:00<00:00, 87.07it/s]\u001b[A\n",
      "100%|██████████| 80/80 [00:00<00:00, 87.55it/s]\u001b[A\n",
      " 22%|██▏       | 250/1125 [04:47<19:39,  1.35s/it]"
     ]
    },
    {
     "name": "stdout",
     "output_type": "stream",
     "text": [
      "/home/jiang/projects/SubtleGAN/data/brats2021/train/BraTS2021_00314\n"
     ]
    },
    {
     "name": "stderr",
     "output_type": "stream",
     "text": [
      "\n",
      "  0%|          | 0/80 [00:00<?, ?it/s]\u001b[A\n",
      " 12%|█▎        | 10/80 [00:00<00:00, 99.82it/s]\u001b[A\n",
      " 25%|██▌       | 20/80 [00:00<00:00, 89.99it/s]\u001b[A\n",
      " 38%|███▊      | 30/80 [00:00<00:00, 89.14it/s]\u001b[A\n",
      " 49%|████▉     | 39/80 [00:00<00:00, 89.30it/s]\u001b[A\n",
      " 60%|██████    | 48/80 [00:00<00:00, 89.22it/s]\u001b[A\n",
      " 71%|███████▏  | 57/80 [00:00<00:00, 89.29it/s]\u001b[A\n",
      " 82%|████████▎ | 66/80 [00:00<00:00, 89.45it/s]\u001b[A\n",
      "100%|██████████| 80/80 [00:00<00:00, 88.96it/s]\u001b[A\n",
      " 22%|██▏       | 251/1125 [04:48<20:02,  1.38s/it]"
     ]
    },
    {
     "name": "stdout",
     "output_type": "stream",
     "text": [
      "/home/jiang/projects/SubtleGAN/data/brats2021/train/BraTS2021_01524\n"
     ]
    },
    {
     "name": "stderr",
     "output_type": "stream",
     "text": [
      "\n",
      "  0%|          | 0/80 [00:00<?, ?it/s]\u001b[A\n",
      " 12%|█▎        | 10/80 [00:00<00:00, 95.42it/s]\u001b[A\n",
      " 25%|██▌       | 20/80 [00:00<00:00, 91.17it/s]\u001b[A\n",
      " 38%|███▊      | 30/80 [00:00<00:00, 90.91it/s]\u001b[A\n",
      " 50%|█████     | 40/80 [00:00<00:00, 89.64it/s]\u001b[A\n",
      " 61%|██████▏   | 49/80 [00:00<00:00, 89.21it/s]\u001b[A\n",
      " 72%|███████▎  | 58/80 [00:00<00:00, 87.65it/s]\u001b[A\n",
      " 84%|████████▍ | 67/80 [00:00<00:00, 87.86it/s]\u001b[A\n",
      "100%|██████████| 80/80 [00:00<00:00, 87.90it/s]\u001b[A\n",
      " 22%|██▏       | 252/1125 [04:50<20:18,  1.40s/it]"
     ]
    },
    {
     "name": "stdout",
     "output_type": "stream",
     "text": [
      "/home/jiang/projects/SubtleGAN/data/brats2021/train/BraTS2021_00102\n"
     ]
    },
    {
     "name": "stderr",
     "output_type": "stream",
     "text": [
      "\n",
      "  0%|          | 0/80 [00:00<?, ?it/s]\u001b[A\n",
      " 12%|█▎        | 10/80 [00:00<00:00, 99.45it/s]\u001b[A\n",
      " 25%|██▌       | 20/80 [00:00<00:00, 91.77it/s]\u001b[A\n",
      " 38%|███▊      | 30/80 [00:00<00:00, 90.92it/s]\u001b[A\n",
      " 50%|█████     | 40/80 [00:00<00:00, 88.36it/s]\u001b[A\n",
      " 61%|██████▏   | 49/80 [00:00<00:00, 88.20it/s]\u001b[A\n",
      " 72%|███████▎  | 58/80 [00:00<00:00, 87.50it/s]\u001b[A\n",
      " 84%|████████▍ | 67/80 [00:00<00:00, 87.74it/s]\u001b[A\n",
      "100%|██████████| 80/80 [00:00<00:00, 88.43it/s]\u001b[A\n",
      " 22%|██▏       | 253/1125 [04:51<20:32,  1.41s/it]"
     ]
    },
    {
     "name": "stdout",
     "output_type": "stream",
     "text": [
      "/home/jiang/projects/SubtleGAN/data/brats2021/train/BraTS2021_01506\n"
     ]
    },
    {
     "name": "stderr",
     "output_type": "stream",
     "text": [
      "\n",
      "  0%|          | 0/80 [00:00<?, ?it/s]\u001b[A\n",
      " 14%|█▍        | 11/80 [00:00<00:00, 103.14it/s]\u001b[A\n",
      " 28%|██▊       | 22/80 [00:00<00:00, 91.49it/s] \u001b[A\n",
      " 40%|████      | 32/80 [00:00<00:00, 93.45it/s]\u001b[A\n",
      " 55%|█████▌    | 44/80 [00:00<00:00, 102.00it/s]\u001b[A\n",
      " 70%|███████   | 56/80 [00:00<00:00, 106.91it/s]\u001b[A\n",
      " 85%|████████▌ | 68/80 [00:00<00:00, 110.73it/s]\u001b[A\n",
      "100%|██████████| 80/80 [00:00<00:00, 106.26it/s]\u001b[A\n",
      " 23%|██▎       | 254/1125 [04:52<19:58,  1.38s/it]"
     ]
    },
    {
     "name": "stdout",
     "output_type": "stream",
     "text": [
      "/home/jiang/projects/SubtleGAN/data/brats2021/train/BraTS2021_00280\n"
     ]
    },
    {
     "name": "stderr",
     "output_type": "stream",
     "text": [
      "\n",
      "  0%|          | 0/80 [00:00<?, ?it/s]\u001b[A\n",
      " 16%|█▋        | 13/80 [00:00<00:00, 127.73it/s]\u001b[A\n",
      " 32%|███▎      | 26/80 [00:00<00:00, 121.28it/s]\u001b[A\n",
      " 49%|████▉     | 39/80 [00:00<00:00, 120.77it/s]\u001b[A\n",
      " 65%|██████▌   | 52/80 [00:00<00:00, 121.02it/s]\u001b[A\n",
      " 81%|████████▏ | 65/80 [00:00<00:00, 117.73it/s]\u001b[A\n",
      "100%|██████████| 80/80 [00:00<00:00, 119.37it/s]\u001b[A\n",
      " 23%|██▎       | 255/1125 [04:54<19:12,  1.33s/it]"
     ]
    },
    {
     "name": "stdout",
     "output_type": "stream",
     "text": [
      "/home/jiang/projects/SubtleGAN/data/brats2021/train/BraTS2021_00520\n"
     ]
    },
    {
     "name": "stderr",
     "output_type": "stream",
     "text": [
      "\n",
      "  0%|          | 0/80 [00:00<?, ?it/s]\u001b[A\n",
      " 16%|█▋        | 13/80 [00:00<00:00, 123.39it/s]\u001b[A\n",
      " 32%|███▎      | 26/80 [00:00<00:00, 121.31it/s]\u001b[A\n",
      " 49%|████▉     | 39/80 [00:00<00:00, 121.59it/s]\u001b[A\n",
      " 65%|██████▌   | 52/80 [00:00<00:00, 121.73it/s]\u001b[A\n",
      " 81%|████████▏ | 65/80 [00:00<00:00, 122.62it/s]\u001b[A\n",
      "100%|██████████| 80/80 [00:00<00:00, 121.22it/s]\u001b[A\n",
      " 23%|██▎       | 256/1125 [04:55<18:12,  1.26s/it]"
     ]
    },
    {
     "name": "stdout",
     "output_type": "stream",
     "text": [
      "/home/jiang/projects/SubtleGAN/data/brats2021/train/BraTS2021_00383\n"
     ]
    },
    {
     "name": "stderr",
     "output_type": "stream",
     "text": [
      "\n",
      "  0%|          | 0/80 [00:00<?, ?it/s]\u001b[A\n",
      " 16%|█▋        | 13/80 [00:00<00:00, 125.39it/s]\u001b[A\n",
      " 32%|███▎      | 26/80 [00:00<00:00, 121.71it/s]\u001b[A\n",
      " 49%|████▉     | 39/80 [00:00<00:00, 123.05it/s]\u001b[A\n",
      " 65%|██████▌   | 52/80 [00:00<00:00, 121.67it/s]\u001b[A\n",
      " 81%|████████▏ | 65/80 [00:00<00:00, 122.28it/s]\u001b[A\n",
      "100%|██████████| 80/80 [00:00<00:00, 121.82it/s]\u001b[A\n",
      " 23%|██▎       | 257/1125 [04:56<17:52,  1.24s/it]"
     ]
    },
    {
     "name": "stdout",
     "output_type": "stream",
     "text": [
      "/home/jiang/projects/SubtleGAN/data/brats2021/train/BraTS2021_00144\n"
     ]
    },
    {
     "name": "stderr",
     "output_type": "stream",
     "text": [
      "\n",
      "  0%|          | 0/80 [00:00<?, ?it/s]\u001b[A\n",
      " 15%|█▌        | 12/80 [00:00<00:00, 119.50it/s]\u001b[A\n",
      " 31%|███▏      | 25/80 [00:00<00:00, 122.18it/s]\u001b[A\n",
      " 48%|████▊     | 38/80 [00:00<00:00, 121.40it/s]\u001b[A\n",
      " 64%|██████▍   | 51/80 [00:00<00:00, 122.93it/s]\u001b[A\n",
      " 80%|████████  | 64/80 [00:00<00:00, 121.28it/s]\u001b[A\n",
      "100%|██████████| 80/80 [00:00<00:00, 119.90it/s]\u001b[A\n",
      " 23%|██▎       | 258/1125 [04:57<17:41,  1.22s/it]"
     ]
    },
    {
     "name": "stdout",
     "output_type": "stream",
     "text": [
      "/home/jiang/projects/SubtleGAN/data/brats2021/train/BraTS2021_01220\n"
     ]
    },
    {
     "name": "stderr",
     "output_type": "stream",
     "text": [
      "\n",
      "  0%|          | 0/80 [00:00<?, ?it/s]\u001b[A\n",
      " 16%|█▋        | 13/80 [00:00<00:00, 124.25it/s]\u001b[A\n",
      " 32%|███▎      | 26/80 [00:00<00:00, 124.41it/s]\u001b[A\n",
      " 49%|████▉     | 39/80 [00:00<00:00, 119.56it/s]\u001b[A\n",
      " 65%|██████▌   | 52/80 [00:00<00:00, 120.72it/s]\u001b[A\n",
      " 81%|████████▏ | 65/80 [00:00<00:00, 118.46it/s]\u001b[A\n",
      "100%|██████████| 80/80 [00:00<00:00, 119.53it/s]\u001b[A\n",
      " 23%|██▎       | 259/1125 [04:58<17:32,  1.22s/it]"
     ]
    },
    {
     "name": "stdout",
     "output_type": "stream",
     "text": [
      "/home/jiang/projects/SubtleGAN/data/brats2021/train/BraTS2021_00584\n"
     ]
    },
    {
     "name": "stderr",
     "output_type": "stream",
     "text": [
      "\n",
      "  0%|          | 0/80 [00:00<?, ?it/s]\u001b[A\n",
      " 16%|█▋        | 13/80 [00:00<00:00, 125.30it/s]\u001b[A\n",
      " 32%|███▎      | 26/80 [00:00<00:00, 122.84it/s]\u001b[A\n",
      " 49%|████▉     | 39/80 [00:00<00:00, 122.38it/s]\u001b[A\n",
      " 65%|██████▌   | 52/80 [00:00<00:00, 120.74it/s]\u001b[A\n",
      " 81%|████████▏ | 65/80 [00:00<00:00, 118.03it/s]\u001b[A\n",
      "100%|██████████| 80/80 [00:00<00:00, 119.65it/s]\u001b[A\n",
      " 23%|██▎       | 260/1125 [05:00<18:59,  1.32s/it]"
     ]
    },
    {
     "name": "stdout",
     "output_type": "stream",
     "text": [
      "/home/jiang/projects/SubtleGAN/data/brats2021/train/BraTS2021_01600\n"
     ]
    },
    {
     "name": "stderr",
     "output_type": "stream",
     "text": [
      "\n",
      "  0%|          | 0/80 [00:00<?, ?it/s]\u001b[A\n",
      " 16%|█▋        | 13/80 [00:00<00:00, 124.63it/s]\u001b[A\n",
      " 32%|███▎      | 26/80 [00:00<00:00, 122.98it/s]\u001b[A\n",
      " 49%|████▉     | 39/80 [00:00<00:00, 121.60it/s]\u001b[A\n",
      " 65%|██████▌   | 52/80 [00:00<00:00, 119.77it/s]\u001b[A\n",
      " 81%|████████▏ | 65/80 [00:00<00:00, 120.41it/s]\u001b[A\n",
      "100%|██████████| 80/80 [00:00<00:00, 120.69it/s]\u001b[A\n",
      " 23%|██▎       | 261/1125 [05:01<20:00,  1.39s/it]"
     ]
    },
    {
     "name": "stdout",
     "output_type": "stream",
     "text": [
      "/home/jiang/projects/SubtleGAN/data/brats2021/train/BraTS2021_01184\n"
     ]
    },
    {
     "name": "stderr",
     "output_type": "stream",
     "text": [
      "\n",
      "  0%|          | 0/80 [00:00<?, ?it/s]\u001b[A\n",
      " 16%|█▋        | 13/80 [00:00<00:00, 127.38it/s]\u001b[A\n",
      " 32%|███▎      | 26/80 [00:00<00:00, 127.39it/s]\u001b[A\n",
      " 49%|████▉     | 39/80 [00:00<00:00, 124.40it/s]\u001b[A\n",
      " 65%|██████▌   | 52/80 [00:00<00:00, 119.75it/s]\u001b[A\n",
      " 81%|████████▏ | 65/80 [00:00<00:00, 119.71it/s]\u001b[A\n",
      "100%|██████████| 80/80 [00:00<00:00, 121.28it/s]\u001b[A\n",
      " 23%|██▎       | 262/1125 [05:03<19:00,  1.32s/it]"
     ]
    },
    {
     "name": "stdout",
     "output_type": "stream",
     "text": [
      "/home/jiang/projects/SubtleGAN/data/brats2021/train/BraTS2021_00203\n"
     ]
    },
    {
     "name": "stderr",
     "output_type": "stream",
     "text": [
      "\n",
      "  0%|          | 0/80 [00:00<?, ?it/s]\u001b[A\n",
      " 16%|█▋        | 13/80 [00:00<00:00, 121.33it/s]\u001b[A\n",
      " 32%|███▎      | 26/80 [00:00<00:00, 119.76it/s]\u001b[A\n",
      " 48%|████▊     | 38/80 [00:00<00:00, 119.81it/s]\u001b[A\n",
      " 62%|██████▎   | 50/80 [00:00<00:00, 119.48it/s]\u001b[A\n",
      " 78%|███████▊  | 62/80 [00:00<00:00, 119.24it/s]\u001b[A\n",
      "100%|██████████| 80/80 [00:00<00:00, 119.54it/s]\u001b[A\n",
      " 23%|██▎       | 263/1125 [05:04<18:29,  1.29s/it]"
     ]
    },
    {
     "name": "stdout",
     "output_type": "stream",
     "text": [
      "/home/jiang/projects/SubtleGAN/data/brats2021/train/BraTS2021_01020\n"
     ]
    },
    {
     "name": "stderr",
     "output_type": "stream",
     "text": [
      "\n",
      "  0%|          | 0/80 [00:00<?, ?it/s]\u001b[A\n",
      "  9%|▉         | 7/80 [00:00<00:01, 68.27it/s]\u001b[A\n",
      " 18%|█▊        | 14/80 [00:00<00:01, 60.58it/s]\u001b[A\n",
      " 31%|███▏      | 25/80 [00:00<00:00, 81.28it/s]\u001b[A\n",
      " 46%|████▋     | 37/80 [00:00<00:00, 94.12it/s]\u001b[A\n",
      " 59%|█████▉    | 47/80 [00:00<00:00, 79.17it/s]\u001b[A\n",
      " 74%|███████▍  | 59/80 [00:00<00:00, 90.53it/s]\u001b[A\n",
      "100%|██████████| 80/80 [00:00<00:00, 91.41it/s]\u001b[A\n",
      " 23%|██▎       | 264/1125 [05:05<19:19,  1.35s/it]"
     ]
    },
    {
     "name": "stdout",
     "output_type": "stream",
     "text": [
      "/home/jiang/projects/SubtleGAN/data/brats2021/train/BraTS2021_00380\n"
     ]
    },
    {
     "name": "stderr",
     "output_type": "stream",
     "text": [
      "\n",
      "  0%|          | 0/80 [00:00<?, ?it/s]\u001b[A\n",
      " 15%|█▌        | 12/80 [00:00<00:00, 119.01it/s]\u001b[A\n",
      " 31%|███▏      | 25/80 [00:00<00:00, 118.84it/s]\u001b[A\n",
      " 48%|████▊     | 38/80 [00:00<00:00, 120.74it/s]\u001b[A\n",
      " 64%|██████▍   | 51/80 [00:00<00:00, 120.39it/s]\u001b[A\n",
      " 80%|████████  | 64/80 [00:00<00:00, 119.02it/s]\u001b[A\n",
      "100%|██████████| 80/80 [00:00<00:00, 118.66it/s]\u001b[A\n",
      " 24%|██▎       | 265/1125 [05:06<18:54,  1.32s/it]"
     ]
    },
    {
     "name": "stdout",
     "output_type": "stream",
     "text": [
      "/home/jiang/projects/SubtleGAN/data/brats2021/train/BraTS2021_01397\n"
     ]
    },
    {
     "name": "stderr",
     "output_type": "stream",
     "text": [
      "\n",
      "  0%|          | 0/80 [00:00<?, ?it/s]\u001b[A\n",
      " 15%|█▌        | 12/80 [00:00<00:00, 118.73it/s]\u001b[A\n",
      " 30%|███       | 24/80 [00:00<00:00, 119.34it/s]\u001b[A\n",
      " 46%|████▋     | 37/80 [00:00<00:00, 122.16it/s]\u001b[A\n",
      " 62%|██████▎   | 50/80 [00:00<00:00, 120.30it/s]\u001b[A\n",
      " 79%|███████▉  | 63/80 [00:00<00:00, 120.42it/s]\u001b[A\n",
      "100%|██████████| 80/80 [00:00<00:00, 119.77it/s]\u001b[A\n",
      " 24%|██▎       | 266/1125 [05:08<18:21,  1.28s/it]"
     ]
    },
    {
     "name": "stdout",
     "output_type": "stream",
     "text": [
      "/home/jiang/projects/SubtleGAN/data/brats2021/train/BraTS2021_00378\n"
     ]
    },
    {
     "name": "stderr",
     "output_type": "stream",
     "text": [
      "\n",
      "  0%|          | 0/80 [00:00<?, ?it/s]\u001b[A\n",
      " 16%|█▋        | 13/80 [00:00<00:00, 125.60it/s]\u001b[A\n",
      " 32%|███▎      | 26/80 [00:00<00:00, 122.65it/s]\u001b[A\n",
      " 49%|████▉     | 39/80 [00:00<00:00, 122.93it/s]\u001b[A\n",
      " 65%|██████▌   | 52/80 [00:00<00:00, 122.70it/s]\u001b[A\n",
      " 81%|████████▏ | 65/80 [00:00<00:00, 123.48it/s]\u001b[A\n",
      "100%|██████████| 80/80 [00:00<00:00, 122.29it/s]\u001b[A\n",
      " 24%|██▎       | 267/1125 [05:09<17:54,  1.25s/it]"
     ]
    },
    {
     "name": "stdout",
     "output_type": "stream",
     "text": [
      "/home/jiang/projects/SubtleGAN/data/brats2021/train/BraTS2021_00610\n"
     ]
    },
    {
     "name": "stderr",
     "output_type": "stream",
     "text": [
      "\n",
      "  0%|          | 0/80 [00:00<?, ?it/s]\u001b[A\n",
      " 18%|█▊        | 14/80 [00:00<00:00, 129.13it/s]\u001b[A\n",
      " 34%|███▍      | 27/80 [00:00<00:00, 124.32it/s]\u001b[A\n",
      " 50%|█████     | 40/80 [00:00<00:00, 122.15it/s]\u001b[A\n",
      " 66%|██████▋   | 53/80 [00:00<00:00, 121.39it/s]\u001b[A\n",
      " 82%|████████▎ | 66/80 [00:00<00:00, 122.10it/s]\u001b[A\n",
      "100%|██████████| 80/80 [00:00<00:00, 121.75it/s]\u001b[A\n",
      " 24%|██▍       | 268/1125 [05:10<17:13,  1.21s/it]"
     ]
    },
    {
     "name": "stdout",
     "output_type": "stream",
     "text": [
      "/home/jiang/projects/SubtleGAN/data/brats2021/train/BraTS2021_00574\n"
     ]
    },
    {
     "name": "stderr",
     "output_type": "stream",
     "text": [
      "\n",
      "  0%|          | 0/80 [00:00<?, ?it/s]\u001b[A\n",
      " 16%|█▋        | 13/80 [00:00<00:00, 122.49it/s]\u001b[A\n",
      " 32%|███▎      | 26/80 [00:00<00:00, 121.00it/s]\u001b[A\n",
      " 49%|████▉     | 39/80 [00:00<00:00, 120.23it/s]\u001b[A\n",
      " 65%|██████▌   | 52/80 [00:00<00:00, 121.24it/s]\u001b[A\n",
      " 81%|████████▏ | 65/80 [00:00<00:00, 121.52it/s]\u001b[A\n",
      "100%|██████████| 80/80 [00:00<00:00, 121.72it/s]\u001b[A\n",
      " 24%|██▍       | 269/1125 [05:11<18:42,  1.31s/it]"
     ]
    },
    {
     "name": "stdout",
     "output_type": "stream",
     "text": [
      "/home/jiang/projects/SubtleGAN/data/brats2021/train/BraTS2021_01242\n"
     ]
    },
    {
     "name": "stderr",
     "output_type": "stream",
     "text": [
      "\n",
      "  0%|          | 0/80 [00:00<?, ?it/s]\u001b[A\n",
      " 16%|█▋        | 13/80 [00:00<00:00, 126.32it/s]\u001b[A\n",
      " 32%|███▎      | 26/80 [00:00<00:00, 121.69it/s]\u001b[A\n",
      " 49%|████▉     | 39/80 [00:00<00:00, 123.15it/s]\u001b[A\n",
      " 65%|██████▌   | 52/80 [00:00<00:00, 124.51it/s]\u001b[A\n",
      " 81%|████████▏ | 65/80 [00:00<00:00, 124.52it/s]\u001b[A\n",
      "100%|██████████| 80/80 [00:00<00:00, 122.00it/s]\u001b[A\n",
      " 24%|██▍       | 270/1125 [05:13<18:07,  1.27s/it]"
     ]
    },
    {
     "name": "stdout",
     "output_type": "stream",
     "text": [
      "/home/jiang/projects/SubtleGAN/data/brats2021/train/BraTS2021_01390\n"
     ]
    },
    {
     "name": "stderr",
     "output_type": "stream",
     "text": [
      "\n",
      "  0%|          | 0/80 [00:00<?, ?it/s]\u001b[A\n",
      " 16%|█▋        | 13/80 [00:00<00:00, 125.01it/s]\u001b[A\n",
      " 32%|███▎      | 26/80 [00:00<00:00, 121.92it/s]\u001b[A\n",
      " 49%|████▉     | 39/80 [00:00<00:00, 123.96it/s]\u001b[A\n",
      " 65%|██████▌   | 52/80 [00:00<00:00, 123.84it/s]\u001b[A\n",
      " 81%|████████▏ | 65/80 [00:00<00:00, 123.55it/s]\u001b[A\n",
      "100%|██████████| 80/80 [00:00<00:00, 122.57it/s]\u001b[A\n",
      " 24%|██▍       | 271/1125 [05:14<17:38,  1.24s/it]"
     ]
    },
    {
     "name": "stdout",
     "output_type": "stream",
     "text": [
      "/home/jiang/projects/SubtleGAN/data/brats2021/train/BraTS2021_00032\n"
     ]
    },
    {
     "name": "stderr",
     "output_type": "stream",
     "text": [
      "\n",
      "  0%|          | 0/80 [00:00<?, ?it/s]\u001b[A\n",
      " 16%|█▋        | 13/80 [00:00<00:00, 122.62it/s]\u001b[A\n",
      " 32%|███▎      | 26/80 [00:00<00:00, 123.56it/s]\u001b[A\n",
      " 49%|████▉     | 39/80 [00:00<00:00, 120.26it/s]\u001b[A\n",
      " 65%|██████▌   | 52/80 [00:00<00:00, 119.02it/s]\u001b[A\n",
      " 80%|████████  | 64/80 [00:00<00:00, 119.14it/s]\u001b[A\n",
      "100%|██████████| 80/80 [00:00<00:00, 118.82it/s]\u001b[A\n",
      " 24%|██▍       | 272/1125 [05:15<17:06,  1.20s/it]"
     ]
    },
    {
     "name": "stdout",
     "output_type": "stream",
     "text": [
      "/home/jiang/projects/SubtleGAN/data/brats2021/train/BraTS2021_00559\n"
     ]
    },
    {
     "name": "stderr",
     "output_type": "stream",
     "text": [
      "\n",
      "  0%|          | 0/80 [00:00<?, ?it/s]\u001b[A\n",
      " 18%|█▊        | 14/80 [00:00<00:00, 132.92it/s]\u001b[A\n",
      " 35%|███▌      | 28/80 [00:00<00:00, 126.94it/s]\u001b[A\n",
      " 51%|█████▏    | 41/80 [00:00<00:00, 122.69it/s]\u001b[A\n",
      " 68%|██████▊   | 54/80 [00:00<00:00, 121.99it/s]\u001b[A\n",
      " 84%|████████▍ | 67/80 [00:00<00:00, 122.08it/s]\u001b[A\n",
      "100%|██████████| 80/80 [00:00<00:00, 122.69it/s]\u001b[A\n",
      " 24%|██▍       | 273/1125 [05:16<16:37,  1.17s/it]"
     ]
    },
    {
     "name": "stdout",
     "output_type": "stream",
     "text": [
      "/home/jiang/projects/SubtleGAN/data/brats2021/train/BraTS2021_01137\n"
     ]
    },
    {
     "name": "stderr",
     "output_type": "stream",
     "text": [
      "\n",
      "  0%|          | 0/80 [00:00<?, ?it/s]\u001b[A\n",
      " 16%|█▋        | 13/80 [00:00<00:00, 121.43it/s]\u001b[A\n",
      " 32%|███▎      | 26/80 [00:00<00:00, 123.02it/s]\u001b[A\n",
      " 49%|████▉     | 39/80 [00:00<00:00, 123.17it/s]\u001b[A\n",
      " 65%|██████▌   | 52/80 [00:00<00:00, 121.62it/s]\u001b[A\n",
      " 81%|████████▏ | 65/80 [00:00<00:00, 121.83it/s]\u001b[A\n",
      "100%|██████████| 80/80 [00:00<00:00, 120.59it/s]\u001b[A\n",
      " 24%|██▍       | 274/1125 [05:17<16:41,  1.18s/it]"
     ]
    },
    {
     "name": "stdout",
     "output_type": "stream",
     "text": [
      "/home/jiang/projects/SubtleGAN/data/brats2021/train/BraTS2021_01383\n"
     ]
    },
    {
     "name": "stderr",
     "output_type": "stream",
     "text": [
      "\n",
      "  0%|          | 0/80 [00:00<?, ?it/s]\u001b[A\n",
      " 16%|█▋        | 13/80 [00:00<00:00, 122.56it/s]\u001b[A\n",
      " 32%|███▎      | 26/80 [00:00<00:00, 118.66it/s]\u001b[A\n",
      " 48%|████▊     | 38/80 [00:00<00:00, 116.43it/s]\u001b[A\n",
      " 62%|██████▎   | 50/80 [00:00<00:00, 117.02it/s]\u001b[A\n",
      " 78%|███████▊  | 62/80 [00:00<00:00, 117.96it/s]\u001b[A\n",
      "100%|██████████| 80/80 [00:00<00:00, 117.30it/s]\u001b[A\n",
      " 24%|██▍       | 275/1125 [05:18<16:50,  1.19s/it]"
     ]
    },
    {
     "name": "stdout",
     "output_type": "stream",
     "text": [
      "/home/jiang/projects/SubtleGAN/data/brats2021/train/BraTS2021_01225\n"
     ]
    },
    {
     "name": "stderr",
     "output_type": "stream",
     "text": [
      "\n",
      "  0%|          | 0/80 [00:00<?, ?it/s]\u001b[A\n",
      " 16%|█▋        | 13/80 [00:00<00:00, 124.51it/s]\u001b[A\n",
      " 32%|███▎      | 26/80 [00:00<00:00, 116.90it/s]\u001b[A\n",
      " 48%|████▊     | 38/80 [00:00<00:00, 115.38it/s]\u001b[A\n",
      " 64%|██████▍   | 51/80 [00:00<00:00, 117.50it/s]\u001b[A\n",
      " 79%|███████▉  | 63/80 [00:00<00:00, 116.94it/s]\u001b[A\n",
      "100%|██████████| 80/80 [00:00<00:00, 107.04it/s]\u001b[A\n",
      " 25%|██▍       | 276/1125 [05:20<17:39,  1.25s/it]"
     ]
    },
    {
     "name": "stdout",
     "output_type": "stream",
     "text": [
      "/home/jiang/projects/SubtleGAN/data/brats2021/train/BraTS2021_01250\n"
     ]
    },
    {
     "name": "stderr",
     "output_type": "stream",
     "text": [
      "\n",
      "  0%|          | 0/80 [00:00<?, ?it/s]\u001b[A\n",
      " 16%|█▋        | 13/80 [00:00<00:00, 129.10it/s]\u001b[A\n",
      " 32%|███▎      | 26/80 [00:00<00:00, 79.79it/s] \u001b[A\n",
      " 45%|████▌     | 36/80 [00:00<00:00, 65.77it/s]\u001b[A\n",
      " 61%|██████▏   | 49/80 [00:00<00:00, 81.23it/s]\u001b[A\n",
      " 76%|███████▋  | 61/80 [00:00<00:00, 91.67it/s]\u001b[A\n",
      "100%|██████████| 80/80 [00:00<00:00, 92.02it/s]\u001b[A\n",
      " 25%|██▍       | 277/1125 [05:21<18:16,  1.29s/it]"
     ]
    },
    {
     "name": "stdout",
     "output_type": "stream",
     "text": [
      "/home/jiang/projects/SubtleGAN/data/brats2021/train/BraTS2021_01468\n"
     ]
    },
    {
     "name": "stderr",
     "output_type": "stream",
     "text": [
      "\n",
      "  0%|          | 0/80 [00:00<?, ?it/s]\u001b[A\n",
      " 16%|█▋        | 13/80 [00:00<00:00, 126.86it/s]\u001b[A\n",
      " 32%|███▎      | 26/80 [00:00<00:00, 85.36it/s] \u001b[A\n",
      " 48%|████▊     | 38/80 [00:00<00:00, 96.63it/s]\u001b[A\n",
      " 62%|██████▎   | 50/80 [00:00<00:00, 103.73it/s]\u001b[A\n",
      " 78%|███████▊  | 62/80 [00:00<00:00, 108.65it/s]\u001b[A\n",
      "100%|██████████| 80/80 [00:00<00:00, 107.07it/s]\u001b[A\n",
      " 25%|██▍       | 278/1125 [05:23<18:06,  1.28s/it]"
     ]
    },
    {
     "name": "stdout",
     "output_type": "stream",
     "text": [
      "/home/jiang/projects/SubtleGAN/data/brats2021/train/BraTS2021_01488\n"
     ]
    },
    {
     "name": "stderr",
     "output_type": "stream",
     "text": [
      "\n",
      "  0%|          | 0/80 [00:00<?, ?it/s]\u001b[A\n",
      " 16%|█▋        | 13/80 [00:00<00:00, 123.76it/s]\u001b[A\n",
      " 32%|███▎      | 26/80 [00:00<00:00, 121.58it/s]\u001b[A\n",
      " 49%|████▉     | 39/80 [00:00<00:00, 119.37it/s]\u001b[A\n",
      " 64%|██████▍   | 51/80 [00:00<00:00, 119.10it/s]\u001b[A\n",
      " 79%|███████▉  | 63/80 [00:00<00:00, 118.98it/s]\u001b[A\n",
      "100%|██████████| 80/80 [00:00<00:00, 117.93it/s]\u001b[A\n",
      " 25%|██▍       | 279/1125 [05:24<17:47,  1.26s/it]"
     ]
    },
    {
     "name": "stdout",
     "output_type": "stream",
     "text": [
      "/home/jiang/projects/SubtleGAN/data/brats2021/train/BraTS2021_00026\n"
     ]
    },
    {
     "name": "stderr",
     "output_type": "stream",
     "text": [
      "\n",
      "  0%|          | 0/80 [00:00<?, ?it/s]\u001b[A\n",
      " 16%|█▋        | 13/80 [00:00<00:00, 122.53it/s]\u001b[A\n",
      " 32%|███▎      | 26/80 [00:00<00:00, 119.77it/s]\u001b[A\n",
      " 48%|████▊     | 38/80 [00:00<00:00, 117.58it/s]\u001b[A\n",
      " 62%|██████▎   | 50/80 [00:00<00:00, 117.35it/s]\u001b[A\n",
      " 78%|███████▊  | 62/80 [00:00<00:00, 117.38it/s]\u001b[A\n",
      "100%|██████████| 80/80 [00:00<00:00, 117.49it/s]\u001b[A\n",
      " 25%|██▍       | 280/1125 [05:25<17:17,  1.23s/it]"
     ]
    },
    {
     "name": "stdout",
     "output_type": "stream",
     "text": [
      "/home/jiang/projects/SubtleGAN/data/brats2021/train/BraTS2021_00261\n"
     ]
    },
    {
     "name": "stderr",
     "output_type": "stream",
     "text": [
      "\n",
      "  0%|          | 0/80 [00:00<?, ?it/s]\u001b[A\n",
      " 16%|█▋        | 13/80 [00:00<00:00, 120.67it/s]\u001b[A\n",
      " 32%|███▎      | 26/80 [00:00<00:00, 122.05it/s]\u001b[A\n",
      " 49%|████▉     | 39/80 [00:00<00:00, 121.87it/s]\u001b[A\n",
      " 65%|██████▌   | 52/80 [00:00<00:00, 120.96it/s]\u001b[A\n",
      " 81%|████████▏ | 65/80 [00:00<00:00, 122.02it/s]\u001b[A\n",
      "100%|██████████| 80/80 [00:00<00:00, 120.93it/s]\u001b[A\n",
      " 25%|██▍       | 281/1125 [05:26<17:03,  1.21s/it]"
     ]
    },
    {
     "name": "stdout",
     "output_type": "stream",
     "text": [
      "/home/jiang/projects/SubtleGAN/data/brats2021/train/BraTS2021_00389\n"
     ]
    },
    {
     "name": "stderr",
     "output_type": "stream",
     "text": [
      "\n",
      "  0%|          | 0/80 [00:00<?, ?it/s]\u001b[A\n",
      " 16%|█▋        | 13/80 [00:00<00:00, 122.54it/s]\u001b[A\n",
      " 32%|███▎      | 26/80 [00:00<00:00, 121.75it/s]\u001b[A\n",
      " 49%|████▉     | 39/80 [00:00<00:00, 121.57it/s]\u001b[A\n",
      " 65%|██████▌   | 52/80 [00:00<00:00, 122.41it/s]\u001b[A\n",
      " 81%|████████▏ | 65/80 [00:00<00:00, 121.23it/s]\u001b[A\n",
      "100%|██████████| 80/80 [00:00<00:00, 121.15it/s]\u001b[A\n",
      " 25%|██▌       | 282/1125 [05:27<16:56,  1.21s/it]"
     ]
    },
    {
     "name": "stdout",
     "output_type": "stream",
     "text": [
      "/home/jiang/projects/SubtleGAN/data/brats2021/train/BraTS2021_01356\n"
     ]
    },
    {
     "name": "stderr",
     "output_type": "stream",
     "text": [
      "\n",
      "  0%|          | 0/80 [00:00<?, ?it/s]\u001b[A\n",
      " 16%|█▋        | 13/80 [00:00<00:00, 126.12it/s]\u001b[A\n",
      " 32%|███▎      | 26/80 [00:00<00:00, 120.83it/s]\u001b[A\n",
      " 49%|████▉     | 39/80 [00:00<00:00, 120.82it/s]\u001b[A\n",
      " 65%|██████▌   | 52/80 [00:00<00:00, 121.46it/s]\u001b[A\n",
      " 81%|████████▏ | 65/80 [00:00<00:00, 122.25it/s]\u001b[A\n",
      "100%|██████████| 80/80 [00:00<00:00, 121.96it/s]\u001b[A\n",
      " 25%|██▌       | 283/1125 [05:28<16:50,  1.20s/it]"
     ]
    },
    {
     "name": "stdout",
     "output_type": "stream",
     "text": [
      "/home/jiang/projects/SubtleGAN/data/brats2021/train/BraTS2021_01595\n"
     ]
    },
    {
     "name": "stderr",
     "output_type": "stream",
     "text": [
      "\n",
      "  0%|          | 0/80 [00:00<?, ?it/s]\u001b[A\n",
      " 16%|█▋        | 13/80 [00:00<00:00, 122.40it/s]\u001b[A\n",
      " 32%|███▎      | 26/80 [00:00<00:00, 118.35it/s]\u001b[A\n",
      " 48%|████▊     | 38/80 [00:00<00:00, 106.75it/s]\u001b[A\n",
      " 61%|██████▏   | 49/80 [00:00<00:00, 100.44it/s]\u001b[A\n",
      " 75%|███████▌  | 60/80 [00:00<00:00, 97.07it/s] \u001b[A\n",
      " 88%|████████▊ | 70/80 [00:00<00:00, 95.40it/s]\u001b[A\n",
      "100%|██████████| 80/80 [00:00<00:00, 97.36it/s]\u001b[A\n",
      " 25%|██▌       | 284/1125 [05:30<18:59,  1.36s/it]"
     ]
    },
    {
     "name": "stdout",
     "output_type": "stream",
     "text": [
      "/home/jiang/projects/SubtleGAN/data/brats2021/train/BraTS2021_01160\n"
     ]
    },
    {
     "name": "stderr",
     "output_type": "stream",
     "text": [
      "\n",
      "  0%|          | 0/80 [00:00<?, ?it/s]\u001b[A\n",
      " 14%|█▍        | 11/80 [00:00<00:00, 101.70it/s]\u001b[A\n",
      " 28%|██▊       | 22/80 [00:00<00:00, 93.28it/s] \u001b[A\n",
      " 40%|████      | 32/80 [00:00<00:00, 93.67it/s]\u001b[A\n",
      " 52%|█████▎    | 42/80 [00:00<00:00, 92.99it/s]\u001b[A\n",
      " 65%|██████▌   | 52/80 [00:00<00:00, 91.83it/s]\u001b[A\n",
      " 78%|███████▊  | 62/80 [00:00<00:00, 91.29it/s]\u001b[A\n",
      "100%|██████████| 80/80 [00:00<00:00, 91.76it/s]\u001b[A\n",
      " 25%|██▌       | 285/1125 [05:31<18:53,  1.35s/it]"
     ]
    },
    {
     "name": "stdout",
     "output_type": "stream",
     "text": [
      "/home/jiang/projects/SubtleGAN/data/brats2021/train/BraTS2021_00288\n"
     ]
    },
    {
     "name": "stderr",
     "output_type": "stream",
     "text": [
      "\n",
      "  0%|          | 0/80 [00:00<?, ?it/s]\u001b[A\n",
      " 14%|█▍        | 11/80 [00:00<00:00, 103.54it/s]\u001b[A\n",
      " 28%|██▊       | 22/80 [00:00<00:00, 95.66it/s] \u001b[A\n",
      " 40%|████      | 32/80 [00:00<00:00, 92.08it/s]\u001b[A\n",
      " 52%|█████▎    | 42/80 [00:00<00:00, 91.72it/s]\u001b[A\n",
      " 65%|██████▌   | 52/80 [00:00<00:00, 91.08it/s]\u001b[A\n",
      " 78%|███████▊  | 62/80 [00:00<00:00, 90.92it/s]\u001b[A\n",
      "100%|██████████| 80/80 [00:00<00:00, 92.04it/s]\u001b[A\n",
      " 25%|██▌       | 286/1125 [05:33<19:05,  1.37s/it]"
     ]
    },
    {
     "name": "stdout",
     "output_type": "stream",
     "text": [
      "/home/jiang/projects/SubtleGAN/data/brats2021/train/BraTS2021_01143\n"
     ]
    },
    {
     "name": "stderr",
     "output_type": "stream",
     "text": [
      "\n",
      "  0%|          | 0/80 [00:00<?, ?it/s]\u001b[A\n",
      " 12%|█▎        | 10/80 [00:00<00:00, 98.37it/s]\u001b[A\n",
      " 25%|██▌       | 20/80 [00:00<00:00, 94.64it/s]\u001b[A\n",
      " 38%|███▊      | 30/80 [00:00<00:00, 93.85it/s]\u001b[A\n",
      " 50%|█████     | 40/80 [00:00<00:00, 91.78it/s]\u001b[A\n",
      " 62%|██████▎   | 50/80 [00:00<00:00, 88.26it/s]\u001b[A\n",
      " 74%|███████▍  | 59/80 [00:00<00:00, 87.92it/s]\u001b[A\n",
      " 85%|████████▌ | 68/80 [00:00<00:00, 87.18it/s]\u001b[A\n",
      "100%|██████████| 80/80 [00:00<00:00, 89.66it/s]\u001b[A\n",
      " 26%|██▌       | 287/1125 [05:34<19:18,  1.38s/it]"
     ]
    },
    {
     "name": "stdout",
     "output_type": "stream",
     "text": [
      "/home/jiang/projects/SubtleGAN/data/brats2021/train/BraTS2021_01002\n"
     ]
    },
    {
     "name": "stderr",
     "output_type": "stream",
     "text": [
      "\n",
      "  0%|          | 0/80 [00:00<?, ?it/s]\u001b[A\n",
      " 12%|█▎        | 10/80 [00:00<00:00, 96.24it/s]\u001b[A\n",
      " 25%|██▌       | 20/80 [00:00<00:00, 89.59it/s]\u001b[A\n",
      " 38%|███▊      | 30/80 [00:00<00:00, 90.03it/s]\u001b[A\n",
      " 50%|█████     | 40/80 [00:00<00:00, 89.91it/s]\u001b[A\n",
      " 62%|██████▎   | 50/80 [00:00<00:00, 91.09it/s]\u001b[A\n",
      " 75%|███████▌  | 60/80 [00:00<00:00, 89.59it/s]\u001b[A\n",
      " 86%|████████▋ | 69/80 [00:00<00:00, 88.75it/s]\u001b[A\n",
      "100%|██████████| 80/80 [00:00<00:00, 86.24it/s]\u001b[A\n",
      " 26%|██▌       | 288/1125 [05:36<19:34,  1.40s/it]"
     ]
    },
    {
     "name": "stdout",
     "output_type": "stream",
     "text": [
      "/home/jiang/projects/SubtleGAN/data/brats2021/train/BraTS2021_00687\n"
     ]
    },
    {
     "name": "stderr",
     "output_type": "stream",
     "text": [
      "\n",
      "  0%|          | 0/80 [00:00<?, ?it/s]\u001b[A\n",
      " 12%|█▎        | 10/80 [00:00<00:00, 93.81it/s]\u001b[A\n",
      " 25%|██▌       | 20/80 [00:00<00:00, 86.23it/s]\u001b[A\n",
      " 36%|███▋      | 29/80 [00:00<00:00, 83.66it/s]\u001b[A\n",
      " 48%|████▊     | 38/80 [00:00<00:00, 84.11it/s]\u001b[A\n",
      " 60%|██████    | 48/80 [00:00<00:00, 87.06it/s]\u001b[A\n",
      " 71%|███████▏  | 57/80 [00:00<00:00, 87.29it/s]\u001b[A\n",
      " 84%|████████▍ | 67/80 [00:00<00:00, 88.14it/s]\u001b[A\n",
      "100%|██████████| 80/80 [00:00<00:00, 87.86it/s]\u001b[A\n",
      " 26%|██▌       | 289/1125 [05:37<19:39,  1.41s/it]"
     ]
    },
    {
     "name": "stdout",
     "output_type": "stream",
     "text": [
      "/home/jiang/projects/SubtleGAN/data/brats2021/train/BraTS2021_01149\n"
     ]
    },
    {
     "name": "stderr",
     "output_type": "stream",
     "text": [
      "\n",
      "  0%|          | 0/80 [00:00<?, ?it/s]\u001b[A\n",
      " 12%|█▎        | 10/80 [00:00<00:00, 98.24it/s]\u001b[A\n",
      " 25%|██▌       | 20/80 [00:00<00:00, 91.46it/s]\u001b[A\n",
      " 38%|███▊      | 30/80 [00:00<00:00, 88.70it/s]\u001b[A\n",
      " 49%|████▉     | 39/80 [00:00<00:00, 88.80it/s]\u001b[A\n",
      " 60%|██████    | 48/80 [00:00<00:00, 88.33it/s]\u001b[A\n",
      " 71%|███████▏  | 57/80 [00:00<00:00, 88.51it/s]\u001b[A\n",
      " 82%|████████▎ | 66/80 [00:00<00:00, 85.94it/s]\u001b[A\n",
      "100%|██████████| 80/80 [00:00<00:00, 87.95it/s]\u001b[A\n",
      " 26%|██▌       | 290/1125 [05:39<19:46,  1.42s/it]"
     ]
    },
    {
     "name": "stdout",
     "output_type": "stream",
     "text": [
      "/home/jiang/projects/SubtleGAN/data/brats2021/train/BraTS2021_00514\n"
     ]
    },
    {
     "name": "stderr",
     "output_type": "stream",
     "text": [
      "\n",
      "  0%|          | 0/80 [00:00<?, ?it/s]\u001b[A\n",
      " 14%|█▍        | 11/80 [00:00<00:00, 102.10it/s]\u001b[A\n",
      " 28%|██▊       | 22/80 [00:00<00:00, 89.30it/s] \u001b[A\n",
      " 40%|████      | 32/80 [00:00<00:00, 89.25it/s]\u001b[A\n",
      " 51%|█████▏    | 41/80 [00:00<00:00, 89.02it/s]\u001b[A\n",
      " 62%|██████▎   | 50/80 [00:00<00:00, 89.22it/s]\u001b[A\n",
      " 74%|███████▍  | 59/80 [00:00<00:00, 88.42it/s]\u001b[A\n",
      " 85%|████████▌ | 68/80 [00:00<00:00, 86.49it/s]\u001b[A\n",
      "100%|██████████| 80/80 [00:00<00:00, 87.88it/s]\u001b[A\n",
      " 26%|██▌       | 291/1125 [05:40<19:30,  1.40s/it]"
     ]
    },
    {
     "name": "stdout",
     "output_type": "stream",
     "text": [
      "/home/jiang/projects/SubtleGAN/data/brats2021/train/BraTS2021_01080\n"
     ]
    },
    {
     "name": "stderr",
     "output_type": "stream",
     "text": [
      "\n",
      "  0%|          | 0/80 [00:00<?, ?it/s]\u001b[A\n",
      " 12%|█▎        | 10/80 [00:00<00:00, 94.65it/s]\u001b[A\n",
      " 25%|██▌       | 20/80 [00:00<00:00, 91.97it/s]\u001b[A\n",
      " 38%|███▊      | 30/80 [00:00<00:00, 91.05it/s]\u001b[A\n",
      " 50%|█████     | 40/80 [00:00<00:00, 92.83it/s]\u001b[A\n",
      " 62%|██████▎   | 50/80 [00:00<00:00, 91.14it/s]\u001b[A\n",
      " 75%|███████▌  | 60/80 [00:00<00:00, 89.14it/s]\u001b[A\n",
      " 86%|████████▋ | 69/80 [00:00<00:00, 88.09it/s]\u001b[A\n",
      "100%|██████████| 80/80 [00:00<00:00, 88.79it/s]\u001b[A\n",
      " 26%|██▌       | 292/1125 [05:41<19:42,  1.42s/it]"
     ]
    },
    {
     "name": "stdout",
     "output_type": "stream",
     "text": [
      "/home/jiang/projects/SubtleGAN/data/brats2021/train/BraTS2021_00607\n"
     ]
    },
    {
     "name": "stderr",
     "output_type": "stream",
     "text": [
      "\n",
      "  0%|          | 0/80 [00:00<?, ?it/s]\u001b[A\n",
      " 12%|█▎        | 10/80 [00:00<00:00, 99.22it/s]\u001b[A\n",
      " 25%|██▌       | 20/80 [00:00<00:00, 93.60it/s]\u001b[A\n",
      " 38%|███▊      | 30/80 [00:00<00:00, 89.78it/s]\u001b[A\n",
      " 50%|█████     | 40/80 [00:00<00:00, 88.25it/s]\u001b[A\n",
      " 61%|██████▏   | 49/80 [00:00<00:00, 88.45it/s]\u001b[A\n",
      " 72%|███████▎  | 58/80 [00:00<00:00, 88.28it/s]\u001b[A\n",
      " 85%|████████▌ | 68/80 [00:00<00:00, 89.42it/s]\u001b[A\n",
      "100%|██████████| 80/80 [00:00<00:00, 88.59it/s]\u001b[A\n",
      " 26%|██▌       | 293/1125 [05:43<19:24,  1.40s/it]"
     ]
    },
    {
     "name": "stdout",
     "output_type": "stream",
     "text": [
      "/home/jiang/projects/SubtleGAN/data/brats2021/train/BraTS2021_01322\n"
     ]
    },
    {
     "name": "stderr",
     "output_type": "stream",
     "text": [
      "\n",
      "  0%|          | 0/80 [00:00<?, ?it/s]\u001b[A\n",
      " 14%|█▍        | 11/80 [00:00<00:00, 100.88it/s]\u001b[A\n",
      " 28%|██▊       | 22/80 [00:00<00:00, 93.48it/s] \u001b[A\n",
      " 40%|████      | 32/80 [00:00<00:00, 91.49it/s]\u001b[A\n",
      " 52%|█████▎    | 42/80 [00:00<00:00, 89.82it/s]\u001b[A\n",
      " 64%|██████▍   | 51/80 [00:00<00:00, 88.96it/s]\u001b[A\n",
      " 75%|███████▌  | 60/80 [00:00<00:00, 89.12it/s]\u001b[A\n",
      " 86%|████████▋ | 69/80 [00:00<00:00, 87.53it/s]\u001b[A\n",
      "100%|██████████| 80/80 [00:00<00:00, 89.12it/s]\u001b[A\n",
      " 26%|██▌       | 294/1125 [05:44<19:31,  1.41s/it]"
     ]
    },
    {
     "name": "stdout",
     "output_type": "stream",
     "text": [
      "/home/jiang/projects/SubtleGAN/data/brats2021/train/BraTS2021_00049\n"
     ]
    },
    {
     "name": "stderr",
     "output_type": "stream",
     "text": [
      "\n",
      "  0%|          | 0/80 [00:00<?, ?it/s]\u001b[A\n",
      " 12%|█▎        | 10/80 [00:00<00:00, 97.05it/s]\u001b[A\n",
      " 25%|██▌       | 20/80 [00:00<00:00, 92.32it/s]\u001b[A\n",
      " 38%|███▊      | 30/80 [00:00<00:00, 90.59it/s]\u001b[A\n",
      " 50%|█████     | 40/80 [00:00<00:00, 89.87it/s]\u001b[A\n",
      " 62%|██████▎   | 50/80 [00:00<00:00, 90.92it/s]\u001b[A\n",
      " 75%|███████▌  | 60/80 [00:00<00:00, 91.04it/s]\u001b[A\n",
      " 88%|████████▊ | 70/80 [00:00<00:00, 91.04it/s]\u001b[A\n",
      "100%|██████████| 80/80 [00:00<00:00, 90.51it/s]\u001b[A\n",
      " 26%|██▌       | 295/1125 [05:46<19:09,  1.39s/it]"
     ]
    },
    {
     "name": "stdout",
     "output_type": "stream",
     "text": [
      "/home/jiang/projects/SubtleGAN/data/brats2021/train/BraTS2021_00839\n"
     ]
    },
    {
     "name": "stderr",
     "output_type": "stream",
     "text": [
      "\n",
      "  0%|          | 0/80 [00:00<?, ?it/s]\u001b[A\n",
      " 14%|█▍        | 11/80 [00:00<00:00, 99.00it/s]\u001b[A\n",
      " 26%|██▋       | 21/80 [00:00<00:00, 93.41it/s]\u001b[A\n",
      " 39%|███▉      | 31/80 [00:00<00:00, 91.05it/s]\u001b[A\n",
      " 51%|█████▏    | 41/80 [00:00<00:00, 90.27it/s]\u001b[A\n",
      " 64%|██████▍   | 51/80 [00:00<00:00, 90.40it/s]\u001b[A\n",
      " 76%|███████▋  | 61/80 [00:00<00:00, 89.98it/s]\u001b[A\n",
      " 88%|████████▊ | 70/80 [00:00<00:00, 87.81it/s]\u001b[A\n",
      "100%|██████████| 80/80 [00:00<00:00, 89.50it/s]\u001b[A\n",
      " 26%|██▋       | 296/1125 [05:47<19:18,  1.40s/it]"
     ]
    },
    {
     "name": "stdout",
     "output_type": "stream",
     "text": [
      "/home/jiang/projects/SubtleGAN/data/brats2021/train/BraTS2021_01539\n"
     ]
    },
    {
     "name": "stderr",
     "output_type": "stream",
     "text": [
      "\n",
      "  0%|          | 0/80 [00:00<?, ?it/s]\u001b[A\n",
      " 16%|█▋        | 13/80 [00:00<00:00, 128.89it/s]\u001b[A\n",
      " 32%|███▎      | 26/80 [00:00<00:00, 126.81it/s]\u001b[A\n",
      " 49%|████▉     | 39/80 [00:00<00:00, 122.48it/s]\u001b[A\n",
      " 65%|██████▌   | 52/80 [00:00<00:00, 124.08it/s]\u001b[A\n",
      " 81%|████████▏ | 65/80 [00:00<00:00, 120.48it/s]\u001b[A\n",
      "100%|██████████| 80/80 [00:00<00:00, 121.48it/s]\u001b[A\n",
      " 26%|██▋       | 297/1125 [05:49<19:58,  1.45s/it]"
     ]
    },
    {
     "name": "stdout",
     "output_type": "stream",
     "text": [
      "/home/jiang/projects/SubtleGAN/data/brats2021/train/BraTS2021_01446\n"
     ]
    },
    {
     "name": "stderr",
     "output_type": "stream",
     "text": [
      "\n",
      "  0%|          | 0/80 [00:00<?, ?it/s]\u001b[A\n",
      " 16%|█▋        | 13/80 [00:00<00:00, 126.68it/s]\u001b[A\n",
      " 32%|███▎      | 26/80 [00:00<00:00, 122.89it/s]\u001b[A\n",
      " 49%|████▉     | 39/80 [00:00<00:00, 122.40it/s]\u001b[A\n",
      " 65%|██████▌   | 52/80 [00:00<00:00, 121.80it/s]\u001b[A\n",
      " 81%|████████▏ | 65/80 [00:00<00:00, 121.92it/s]\u001b[A\n",
      "100%|██████████| 80/80 [00:00<00:00, 121.47it/s]\u001b[A\n",
      " 26%|██▋       | 298/1125 [05:50<18:50,  1.37s/it]"
     ]
    },
    {
     "name": "stdout",
     "output_type": "stream",
     "text": [
      "/home/jiang/projects/SubtleGAN/data/brats2021/train/BraTS2021_00765\n"
     ]
    },
    {
     "name": "stderr",
     "output_type": "stream",
     "text": [
      "\n",
      "  0%|          | 0/80 [00:00<?, ?it/s]\u001b[A\n",
      " 16%|█▋        | 13/80 [00:00<00:00, 127.40it/s]\u001b[A\n",
      " 32%|███▎      | 26/80 [00:00<00:00, 123.03it/s]\u001b[A\n",
      " 49%|████▉     | 39/80 [00:00<00:00, 123.84it/s]\u001b[A\n",
      " 65%|██████▌   | 52/80 [00:00<00:00, 124.65it/s]\u001b[A\n",
      " 81%|████████▏ | 65/80 [00:00<00:00, 122.87it/s]\u001b[A\n",
      "100%|██████████| 80/80 [00:00<00:00, 121.32it/s]\u001b[A\n",
      " 27%|██▋       | 299/1125 [05:51<17:41,  1.29s/it]"
     ]
    },
    {
     "name": "stdout",
     "output_type": "stream",
     "text": [
      "/home/jiang/projects/SubtleGAN/data/brats2021/train/BraTS2021_00594\n"
     ]
    },
    {
     "name": "stderr",
     "output_type": "stream",
     "text": [
      "\n",
      "  0%|          | 0/80 [00:00<?, ?it/s]\u001b[A\n",
      " 16%|█▋        | 13/80 [00:00<00:00, 121.47it/s]\u001b[A\n",
      " 32%|███▎      | 26/80 [00:00<00:00, 122.72it/s]\u001b[A\n",
      " 49%|████▉     | 39/80 [00:00<00:00, 121.06it/s]\u001b[A\n",
      " 65%|██████▌   | 52/80 [00:00<00:00, 121.09it/s]\u001b[A\n",
      " 81%|████████▏ | 65/80 [00:00<00:00, 120.30it/s]\u001b[A\n",
      "100%|██████████| 80/80 [00:00<00:00, 119.11it/s]\u001b[A\n",
      " 27%|██▋       | 300/1125 [05:52<18:52,  1.37s/it]"
     ]
    },
    {
     "name": "stdout",
     "output_type": "stream",
     "text": [
      "/home/jiang/projects/SubtleGAN/data/brats2021/train/BraTS2021_00332\n"
     ]
    },
    {
     "name": "stderr",
     "output_type": "stream",
     "text": [
      "\n",
      "  0%|          | 0/80 [00:00<?, ?it/s]\u001b[A\n",
      " 16%|█▋        | 13/80 [00:00<00:00, 125.14it/s]\u001b[A\n",
      " 32%|███▎      | 26/80 [00:00<00:00, 120.03it/s]\u001b[A\n",
      " 49%|████▉     | 39/80 [00:00<00:00, 121.26it/s]\u001b[A\n",
      " 65%|██████▌   | 52/80 [00:00<00:00, 120.70it/s]\u001b[A\n",
      " 81%|████████▏ | 65/80 [00:00<00:00, 120.44it/s]\u001b[A\n",
      "100%|██████████| 80/80 [00:00<00:00, 120.12it/s]\u001b[A\n",
      " 27%|██▋       | 301/1125 [05:54<18:04,  1.32s/it]"
     ]
    },
    {
     "name": "stdout",
     "output_type": "stream",
     "text": [
      "/home/jiang/projects/SubtleGAN/data/brats2021/train/BraTS2021_00705\n"
     ]
    },
    {
     "name": "stderr",
     "output_type": "stream",
     "text": [
      "\n",
      "  0%|          | 0/80 [00:00<?, ?it/s]\u001b[A\n",
      " 16%|█▋        | 13/80 [00:00<00:00, 124.35it/s]\u001b[A\n",
      " 32%|███▎      | 26/80 [00:00<00:00, 123.80it/s]\u001b[A\n",
      " 49%|████▉     | 39/80 [00:00<00:00, 122.36it/s]\u001b[A\n",
      " 65%|██████▌   | 52/80 [00:00<00:00, 122.97it/s]\u001b[A\n",
      " 81%|████████▏ | 65/80 [00:00<00:00, 122.83it/s]\u001b[A\n",
      "100%|██████████| 80/80 [00:00<00:00, 122.00it/s]\u001b[A\n",
      " 27%|██▋       | 302/1125 [05:55<17:11,  1.25s/it]"
     ]
    },
    {
     "name": "stdout",
     "output_type": "stream",
     "text": [
      "/home/jiang/projects/SubtleGAN/data/brats2021/train/BraTS2021_01024\n"
     ]
    },
    {
     "name": "stderr",
     "output_type": "stream",
     "text": [
      "\n",
      "  0%|          | 0/80 [00:00<?, ?it/s]\u001b[A\n",
      " 18%|█▊        | 14/80 [00:00<00:00, 131.86it/s]\u001b[A\n",
      " 35%|███▌      | 28/80 [00:00<00:00, 119.84it/s]\u001b[A\n",
      " 51%|█████▏    | 41/80 [00:00<00:00, 120.35it/s]\u001b[A\n",
      " 68%|██████▊   | 54/80 [00:00<00:00, 121.75it/s]\u001b[A\n",
      " 84%|████████▍ | 67/80 [00:00<00:00, 121.60it/s]\u001b[A\n",
      "100%|██████████| 80/80 [00:00<00:00, 121.03it/s]\u001b[A\n",
      " 27%|██▋       | 303/1125 [05:56<16:51,  1.23s/it]"
     ]
    },
    {
     "name": "stdout",
     "output_type": "stream",
     "text": [
      "/home/jiang/projects/SubtleGAN/data/brats2021/train/BraTS2021_00674\n"
     ]
    },
    {
     "name": "stderr",
     "output_type": "stream",
     "text": [
      "\n",
      "  0%|          | 0/80 [00:00<?, ?it/s]\u001b[A\n",
      " 16%|█▋        | 13/80 [00:00<00:00, 126.63it/s]\u001b[A\n",
      " 32%|███▎      | 26/80 [00:00<00:00, 124.82it/s]\u001b[A\n",
      " 49%|████▉     | 39/80 [00:00<00:00, 123.89it/s]\u001b[A\n",
      " 65%|██████▌   | 52/80 [00:00<00:00, 123.66it/s]\u001b[A\n",
      " 81%|████████▏ | 65/80 [00:00<00:00, 120.97it/s]\u001b[A\n",
      "100%|██████████| 80/80 [00:00<00:00, 121.09it/s]\u001b[A\n",
      " 27%|██▋       | 304/1125 [05:57<16:17,  1.19s/it]"
     ]
    },
    {
     "name": "stdout",
     "output_type": "stream",
     "text": [
      "/home/jiang/projects/SubtleGAN/data/brats2021/train/BraTS2021_01386\n"
     ]
    },
    {
     "name": "stderr",
     "output_type": "stream",
     "text": [
      "\n",
      "  0%|          | 0/80 [00:00<?, ?it/s]\u001b[A\n",
      " 15%|█▌        | 12/80 [00:00<00:00, 114.72it/s]\u001b[A\n",
      " 30%|███       | 24/80 [00:00<00:00, 114.69it/s]\u001b[A\n",
      " 46%|████▋     | 37/80 [00:00<00:00, 119.69it/s]\u001b[A\n",
      " 61%|██████▏   | 49/80 [00:00<00:00, 119.19it/s]\u001b[A\n",
      " 78%|███████▊  | 62/80 [00:00<00:00, 120.92it/s]\u001b[A\n",
      "100%|██████████| 80/80 [00:00<00:00, 119.43it/s]\u001b[A\n",
      " 27%|██▋       | 305/1125 [05:58<16:19,  1.19s/it]"
     ]
    },
    {
     "name": "stdout",
     "output_type": "stream",
     "text": [
      "/home/jiang/projects/SubtleGAN/data/brats2021/train/BraTS2021_00158\n"
     ]
    },
    {
     "name": "stderr",
     "output_type": "stream",
     "text": [
      "\n",
      "  0%|          | 0/80 [00:00<?, ?it/s]\u001b[A\n",
      " 16%|█▋        | 13/80 [00:00<00:00, 127.19it/s]\u001b[A\n",
      " 32%|███▎      | 26/80 [00:00<00:00, 122.68it/s]\u001b[A\n",
      " 49%|████▉     | 39/80 [00:00<00:00, 121.02it/s]\u001b[A\n",
      " 65%|██████▌   | 52/80 [00:00<00:00, 120.45it/s]\u001b[A\n",
      " 81%|████████▏ | 65/80 [00:00<00:00, 120.53it/s]\u001b[A\n",
      "100%|██████████| 80/80 [00:00<00:00, 119.68it/s]\u001b[A\n",
      " 27%|██▋       | 306/1125 [05:59<16:17,  1.19s/it]"
     ]
    },
    {
     "name": "stdout",
     "output_type": "stream",
     "text": [
      "/home/jiang/projects/SubtleGAN/data/brats2021/train/BraTS2021_00350\n"
     ]
    },
    {
     "name": "stderr",
     "output_type": "stream",
     "text": [
      "\n",
      "  0%|          | 0/80 [00:00<?, ?it/s]\u001b[A\n",
      " 16%|█▋        | 13/80 [00:00<00:00, 123.38it/s]\u001b[A\n",
      " 32%|███▎      | 26/80 [00:00<00:00, 120.53it/s]\u001b[A\n",
      " 49%|████▉     | 39/80 [00:00<00:00, 119.14it/s]\u001b[A\n",
      " 65%|██████▌   | 52/80 [00:00<00:00, 120.82it/s]\u001b[A\n",
      " 81%|████████▏ | 65/80 [00:00<00:00, 117.08it/s]\u001b[A\n",
      "100%|██████████| 80/80 [00:00<00:00, 118.50it/s]\u001b[A\n",
      " 27%|██▋       | 307/1125 [06:01<16:15,  1.19s/it]"
     ]
    },
    {
     "name": "stdout",
     "output_type": "stream",
     "text": [
      "/home/jiang/projects/SubtleGAN/data/brats2021/train/BraTS2021_01414\n"
     ]
    },
    {
     "name": "stderr",
     "output_type": "stream",
     "text": [
      "\n",
      "  0%|          | 0/80 [00:00<?, ?it/s]\u001b[A\n",
      " 16%|█▋        | 13/80 [00:00<00:00, 127.46it/s]\u001b[A\n",
      " 32%|███▎      | 26/80 [00:00<00:00, 126.45it/s]\u001b[A\n",
      " 49%|████▉     | 39/80 [00:00<00:00, 125.28it/s]\u001b[A\n",
      " 65%|██████▌   | 52/80 [00:00<00:00, 124.20it/s]\u001b[A\n",
      " 81%|████████▏ | 65/80 [00:00<00:00, 119.75it/s]\u001b[A\n",
      "100%|██████████| 80/80 [00:00<00:00, 122.00it/s]\u001b[A\n",
      " 27%|██▋       | 308/1125 [06:02<16:10,  1.19s/it]"
     ]
    },
    {
     "name": "stdout",
     "output_type": "stream",
     "text": [
      "/home/jiang/projects/SubtleGAN/data/brats2021/train/BraTS2021_00640\n"
     ]
    },
    {
     "name": "stderr",
     "output_type": "stream",
     "text": [
      "\n",
      "  0%|          | 0/80 [00:00<?, ?it/s]\u001b[A\n",
      " 16%|█▋        | 13/80 [00:00<00:00, 118.25it/s]\u001b[A\n",
      " 31%|███▏      | 25/80 [00:00<00:00, 113.47it/s]\u001b[A\n",
      " 46%|████▋     | 37/80 [00:00<00:00, 116.19it/s]\u001b[A\n",
      " 61%|██████▏   | 49/80 [00:00<00:00, 116.54it/s]\u001b[A\n",
      " 76%|███████▋  | 61/80 [00:00<00:00, 116.10it/s]\u001b[A\n",
      "100%|██████████| 80/80 [00:00<00:00, 116.62it/s]\u001b[A\n",
      " 27%|██▋       | 309/1125 [06:03<15:55,  1.17s/it]"
     ]
    },
    {
     "name": "stdout",
     "output_type": "stream",
     "text": [
      "/home/jiang/projects/SubtleGAN/data/brats2021/train/BraTS2021_01620\n"
     ]
    },
    {
     "name": "stderr",
     "output_type": "stream",
     "text": [
      "\n",
      "  0%|          | 0/80 [00:00<?, ?it/s]\u001b[A\n",
      " 16%|█▋        | 13/80 [00:00<00:00, 126.25it/s]\u001b[A\n",
      " 32%|███▎      | 26/80 [00:00<00:00, 124.09it/s]\u001b[A\n",
      " 49%|████▉     | 39/80 [00:00<00:00, 125.20it/s]\u001b[A\n",
      " 65%|██████▌   | 52/80 [00:00<00:00, 122.00it/s]\u001b[A\n",
      " 81%|████████▏ | 65/80 [00:00<00:00, 123.11it/s]\u001b[A\n",
      "100%|██████████| 80/80 [00:00<00:00, 120.16it/s]\u001b[A\n",
      " 28%|██▊       | 310/1125 [06:04<17:30,  1.29s/it]"
     ]
    },
    {
     "name": "stdout",
     "output_type": "stream",
     "text": [
      "/home/jiang/projects/SubtleGAN/data/brats2021/train/BraTS2021_01222\n"
     ]
    },
    {
     "name": "stderr",
     "output_type": "stream",
     "text": [
      "\n",
      "  0%|          | 0/80 [00:00<?, ?it/s]\u001b[A\n",
      " 16%|█▋        | 13/80 [00:00<00:00, 125.83it/s]\u001b[A\n",
      " 32%|███▎      | 26/80 [00:00<00:00, 123.53it/s]\u001b[A\n",
      " 49%|████▉     | 39/80 [00:00<00:00, 104.15it/s]\u001b[A\n",
      " 64%|██████▍   | 51/80 [00:00<00:00, 109.43it/s]\u001b[A\n",
      " 79%|███████▉  | 63/80 [00:00<00:00, 112.79it/s]\u001b[A\n",
      "100%|██████████| 80/80 [00:00<00:00, 112.38it/s]\u001b[A\n",
      " 28%|██▊       | 311/1125 [06:06<17:16,  1.27s/it]"
     ]
    },
    {
     "name": "stdout",
     "output_type": "stream",
     "text": [
      "/home/jiang/projects/SubtleGAN/data/brats2021/train/BraTS2021_00581\n"
     ]
    },
    {
     "name": "stderr",
     "output_type": "stream",
     "text": [
      "\n",
      "  0%|          | 0/80 [00:00<?, ?it/s]\u001b[A\n",
      " 16%|█▋        | 13/80 [00:00<00:00, 127.68it/s]\u001b[A\n",
      " 32%|███▎      | 26/80 [00:00<00:00, 123.72it/s]\u001b[A\n",
      " 49%|████▉     | 39/80 [00:00<00:00, 122.62it/s]\u001b[A\n",
      " 65%|██████▌   | 52/80 [00:00<00:00, 122.86it/s]\u001b[A\n",
      " 81%|████████▏ | 65/80 [00:00<00:00, 123.04it/s]\u001b[A\n",
      "100%|██████████| 80/80 [00:00<00:00, 122.00it/s]\u001b[A\n",
      " 28%|██▊       | 312/1125 [06:07<18:12,  1.34s/it]"
     ]
    },
    {
     "name": "stdout",
     "output_type": "stream",
     "text": [
      "/home/jiang/projects/SubtleGAN/data/brats2021/train/BraTS2021_00558\n"
     ]
    },
    {
     "name": "stderr",
     "output_type": "stream",
     "text": [
      "\n",
      "  0%|          | 0/80 [00:00<?, ?it/s]\u001b[A\n",
      " 16%|█▋        | 13/80 [00:00<00:00, 122.97it/s]\u001b[A\n",
      " 32%|███▎      | 26/80 [00:00<00:00, 118.71it/s]\u001b[A\n",
      " 48%|████▊     | 38/80 [00:00<00:00, 115.43it/s]\u001b[A\n",
      " 64%|██████▍   | 51/80 [00:00<00:00, 117.17it/s]\u001b[A\n",
      " 79%|███████▉  | 63/80 [00:00<00:00, 117.52it/s]\u001b[A\n",
      "100%|██████████| 80/80 [00:00<00:00, 116.39it/s]\u001b[A\n",
      " 28%|██▊       | 313/1125 [06:08<17:25,  1.29s/it]"
     ]
    },
    {
     "name": "stdout",
     "output_type": "stream",
     "text": [
      "/home/jiang/projects/SubtleGAN/data/brats2021/train/BraTS2021_01580\n"
     ]
    },
    {
     "name": "stderr",
     "output_type": "stream",
     "text": [
      "\n",
      "  0%|          | 0/80 [00:00<?, ?it/s]\u001b[A\n",
      " 16%|█▋        | 13/80 [00:00<00:00, 122.65it/s]\u001b[A\n",
      " 32%|███▎      | 26/80 [00:00<00:00, 119.80it/s]\u001b[A\n",
      " 48%|████▊     | 38/80 [00:00<00:00, 116.22it/s]\u001b[A\n",
      " 62%|██████▎   | 50/80 [00:00<00:00, 116.58it/s]\u001b[A\n",
      " 78%|███████▊  | 62/80 [00:00<00:00, 117.42it/s]\u001b[A\n",
      "100%|██████████| 80/80 [00:00<00:00, 117.26it/s]\u001b[A\n",
      " 28%|██▊       | 314/1125 [06:10<18:44,  1.39s/it]"
     ]
    },
    {
     "name": "stdout",
     "output_type": "stream",
     "text": [
      "/home/jiang/projects/SubtleGAN/data/brats2021/train/BraTS2021_01662\n"
     ]
    },
    {
     "name": "stderr",
     "output_type": "stream",
     "text": [
      "\n",
      "  0%|          | 0/80 [00:00<?, ?it/s]\u001b[A\n",
      " 16%|█▋        | 13/80 [00:00<00:00, 123.09it/s]\u001b[A\n",
      " 32%|███▎      | 26/80 [00:00<00:00, 118.57it/s]\u001b[A\n",
      " 49%|████▉     | 39/80 [00:00<00:00, 121.63it/s]\u001b[A\n",
      " 65%|██████▌   | 52/80 [00:00<00:00, 120.57it/s]\u001b[A\n",
      " 81%|████████▏ | 65/80 [00:00<00:00, 120.52it/s]\u001b[A\n",
      "100%|██████████| 80/80 [00:00<00:00, 118.87it/s]\u001b[A\n",
      " 28%|██▊       | 315/1125 [06:11<17:59,  1.33s/it]"
     ]
    },
    {
     "name": "stdout",
     "output_type": "stream",
     "text": [
      "/home/jiang/projects/SubtleGAN/data/brats2021/train/BraTS2021_01552\n"
     ]
    },
    {
     "name": "stderr",
     "output_type": "stream",
     "text": [
      "\n",
      "  0%|          | 0/80 [00:00<?, ?it/s]\u001b[A\n",
      " 15%|█▌        | 12/80 [00:00<00:00, 119.94it/s]\u001b[A\n",
      " 30%|███       | 24/80 [00:00<00:00, 117.23it/s]\u001b[A\n",
      " 45%|████▌     | 36/80 [00:00<00:00, 117.41it/s]\u001b[A\n",
      " 60%|██████    | 48/80 [00:00<00:00, 115.88it/s]\u001b[A\n",
      " 75%|███████▌  | 60/80 [00:00<00:00, 115.02it/s]\u001b[A\n",
      "100%|██████████| 80/80 [00:00<00:00, 115.58it/s]\u001b[A\n",
      " 28%|██▊       | 316/1125 [06:13<19:12,  1.42s/it]"
     ]
    },
    {
     "name": "stdout",
     "output_type": "stream",
     "text": [
      "/home/jiang/projects/SubtleGAN/data/brats2021/train/BraTS2021_01477\n"
     ]
    },
    {
     "name": "stderr",
     "output_type": "stream",
     "text": [
      "\n",
      "  0%|          | 0/80 [00:00<?, ?it/s]\u001b[A\n",
      " 10%|█         | 8/80 [00:00<00:00, 74.53it/s]\u001b[A\n",
      " 20%|██        | 16/80 [00:00<00:00, 76.39it/s]\u001b[A\n",
      " 35%|███▌      | 28/80 [00:00<00:00, 95.51it/s]\u001b[A\n",
      " 50%|█████     | 40/80 [00:00<00:00, 104.73it/s]\u001b[A\n",
      " 65%|██████▌   | 52/80 [00:00<00:00, 109.96it/s]\u001b[A\n",
      " 80%|████████  | 64/80 [00:00<00:00, 110.71it/s]\u001b[A\n",
      "100%|██████████| 80/80 [00:00<00:00, 105.68it/s]\u001b[A\n",
      " 28%|██▊       | 317/1125 [06:14<18:40,  1.39s/it]"
     ]
    },
    {
     "name": "stdout",
     "output_type": "stream",
     "text": [
      "/home/jiang/projects/SubtleGAN/data/brats2021/train/BraTS2021_01022\n"
     ]
    },
    {
     "name": "stderr",
     "output_type": "stream",
     "text": [
      "\n",
      "  0%|          | 0/80 [00:00<?, ?it/s]\u001b[A\n",
      " 15%|█▌        | 12/80 [00:00<00:00, 111.90it/s]\u001b[A\n",
      " 31%|███▏      | 25/80 [00:00<00:00, 116.77it/s]\u001b[A\n",
      " 48%|████▊     | 38/80 [00:00<00:00, 119.37it/s]\u001b[A\n",
      " 62%|██████▎   | 50/80 [00:00<00:00, 118.14it/s]\u001b[A\n",
      " 79%|███████▉  | 63/80 [00:00<00:00, 120.20it/s]\u001b[A\n",
      "100%|██████████| 80/80 [00:00<00:00, 118.55it/s]\u001b[A\n",
      " 28%|██▊       | 318/1125 [06:15<17:52,  1.33s/it]"
     ]
    },
    {
     "name": "stdout",
     "output_type": "stream",
     "text": [
      "/home/jiang/projects/SubtleGAN/data/brats2021/train/BraTS2021_00294\n"
     ]
    },
    {
     "name": "stderr",
     "output_type": "stream",
     "text": [
      "\n",
      "  0%|          | 0/80 [00:00<?, ?it/s]\u001b[A\n",
      " 16%|█▋        | 13/80 [00:00<00:00, 127.56it/s]\u001b[A\n",
      " 32%|███▎      | 26/80 [00:00<00:00, 122.45it/s]\u001b[A\n",
      " 49%|████▉     | 39/80 [00:00<00:00, 122.71it/s]\u001b[A\n",
      " 65%|██████▌   | 52/80 [00:00<00:00, 120.59it/s]\u001b[A\n",
      " 81%|████████▏ | 65/80 [00:00<00:00, 121.10it/s]\u001b[A\n",
      "100%|██████████| 80/80 [00:00<00:00, 120.92it/s]\u001b[A\n",
      " 28%|██▊       | 319/1125 [06:16<17:18,  1.29s/it]"
     ]
    },
    {
     "name": "stdout",
     "output_type": "stream",
     "text": [
      "/home/jiang/projects/SubtleGAN/data/brats2021/train/BraTS2021_00456\n"
     ]
    },
    {
     "name": "stderr",
     "output_type": "stream",
     "text": [
      "\n",
      "  0%|          | 0/80 [00:00<?, ?it/s]\u001b[A\n",
      " 16%|█▋        | 13/80 [00:00<00:00, 128.15it/s]\u001b[A\n",
      " 32%|███▎      | 26/80 [00:00<00:00, 125.91it/s]\u001b[A\n",
      " 49%|████▉     | 39/80 [00:00<00:00, 123.52it/s]\u001b[A\n",
      " 65%|██████▌   | 52/80 [00:00<00:00, 123.07it/s]\u001b[A\n",
      " 81%|████████▏ | 65/80 [00:00<00:00, 122.87it/s]\u001b[A\n",
      "100%|██████████| 80/80 [00:00<00:00, 122.55it/s]\u001b[A\n",
      " 28%|██▊       | 320/1125 [06:18<16:51,  1.26s/it]"
     ]
    },
    {
     "name": "stdout",
     "output_type": "stream",
     "text": [
      "/home/jiang/projects/SubtleGAN/data/brats2021/train/BraTS2021_01068\n"
     ]
    },
    {
     "name": "stderr",
     "output_type": "stream",
     "text": [
      "\n",
      "  0%|          | 0/80 [00:00<?, ?it/s]\u001b[A\n",
      " 15%|█▌        | 12/80 [00:00<00:00, 119.04it/s]\u001b[A\n",
      " 30%|███       | 24/80 [00:00<00:00, 118.56it/s]\u001b[A\n",
      " 45%|████▌     | 36/80 [00:00<00:00, 117.44it/s]\u001b[A\n",
      " 61%|██████▏   | 49/80 [00:00<00:00, 120.81it/s]\u001b[A\n",
      " 78%|███████▊  | 62/80 [00:00<00:00, 119.65it/s]\u001b[A\n",
      "100%|██████████| 80/80 [00:00<00:00, 119.70it/s]\u001b[A\n",
      " 29%|██▊       | 321/1125 [06:19<16:48,  1.25s/it]"
     ]
    },
    {
     "name": "stdout",
     "output_type": "stream",
     "text": [
      "/home/jiang/projects/SubtleGAN/data/brats2021/train/BraTS2021_00425\n"
     ]
    },
    {
     "name": "stderr",
     "output_type": "stream",
     "text": [
      "\n",
      "  0%|          | 0/80 [00:00<?, ?it/s]\u001b[A\n",
      " 16%|█▋        | 13/80 [00:00<00:00, 122.12it/s]\u001b[A\n",
      " 32%|███▎      | 26/80 [00:00<00:00, 121.40it/s]\u001b[A\n",
      " 49%|████▉     | 39/80 [00:00<00:00, 119.09it/s]\u001b[A\n",
      " 65%|██████▌   | 52/80 [00:00<00:00, 120.47it/s]\u001b[A\n",
      " 81%|████████▏ | 65/80 [00:00<00:00, 121.80it/s]\u001b[A\n",
      "100%|██████████| 80/80 [00:00<00:00, 119.59it/s]\u001b[A\n",
      " 29%|██▊       | 322/1125 [06:20<16:34,  1.24s/it]"
     ]
    },
    {
     "name": "stdout",
     "output_type": "stream",
     "text": [
      "/home/jiang/projects/SubtleGAN/data/brats2021/train/BraTS2021_00657\n"
     ]
    },
    {
     "name": "stderr",
     "output_type": "stream",
     "text": [
      "\n",
      "  0%|          | 0/80 [00:00<?, ?it/s]\u001b[A\n",
      " 16%|█▋        | 13/80 [00:00<00:00, 127.96it/s]\u001b[A\n",
      " 32%|███▎      | 26/80 [00:00<00:00, 118.86it/s]\u001b[A\n",
      " 48%|████▊     | 38/80 [00:00<00:00, 119.02it/s]\u001b[A\n",
      " 64%|██████▍   | 51/80 [00:00<00:00, 121.08it/s]\u001b[A\n",
      " 80%|████████  | 64/80 [00:00<00:00, 120.21it/s]\u001b[A\n",
      "100%|██████████| 80/80 [00:00<00:00, 120.44it/s]\u001b[A\n",
      " 29%|██▊       | 323/1125 [06:21<16:01,  1.20s/it]"
     ]
    },
    {
     "name": "stdout",
     "output_type": "stream",
     "text": [
      "/home/jiang/projects/SubtleGAN/data/brats2021/train/BraTS2021_00234\n"
     ]
    },
    {
     "name": "stderr",
     "output_type": "stream",
     "text": [
      "\n",
      "  0%|          | 0/80 [00:00<?, ?it/s]\u001b[A\n",
      " 16%|█▋        | 13/80 [00:00<00:00, 126.47it/s]\u001b[A\n",
      " 32%|███▎      | 26/80 [00:00<00:00, 120.04it/s]\u001b[A\n",
      " 49%|████▉     | 39/80 [00:00<00:00, 121.33it/s]\u001b[A\n",
      " 65%|██████▌   | 52/80 [00:00<00:00, 119.23it/s]\u001b[A\n",
      " 80%|████████  | 64/80 [00:00<00:00, 119.21it/s]\u001b[A\n",
      "100%|██████████| 80/80 [00:00<00:00, 114.34it/s]\u001b[A\n",
      " 29%|██▉       | 324/1125 [06:22<16:09,  1.21s/it]"
     ]
    },
    {
     "name": "stdout",
     "output_type": "stream",
     "text": [
      "/home/jiang/projects/SubtleGAN/data/brats2021/train/BraTS2021_00457\n"
     ]
    },
    {
     "name": "stderr",
     "output_type": "stream",
     "text": [
      "\n",
      "  0%|          | 0/80 [00:00<?, ?it/s]\u001b[A\n",
      " 15%|█▌        | 12/80 [00:00<00:00, 119.44it/s]\u001b[A\n",
      " 30%|███       | 24/80 [00:00<00:00, 119.39it/s]\u001b[A\n",
      " 45%|████▌     | 36/80 [00:00<00:00, 118.63it/s]\u001b[A\n",
      " 60%|██████    | 48/80 [00:00<00:00, 117.41it/s]\u001b[A\n",
      " 76%|███████▋  | 61/80 [00:00<00:00, 119.65it/s]\u001b[A\n",
      "100%|██████████| 80/80 [00:00<00:00, 118.89it/s]\u001b[A\n",
      " 29%|██▉       | 325/1125 [06:24<16:26,  1.23s/it]"
     ]
    },
    {
     "name": "stdout",
     "output_type": "stream",
     "text": [
      "/home/jiang/projects/SubtleGAN/data/brats2021/train/BraTS2021_00113\n"
     ]
    },
    {
     "name": "stderr",
     "output_type": "stream",
     "text": [
      "\n",
      "  0%|          | 0/80 [00:00<?, ?it/s]\u001b[A\n",
      " 16%|█▋        | 13/80 [00:00<00:00, 127.63it/s]\u001b[A\n",
      " 32%|███▎      | 26/80 [00:00<00:00, 123.38it/s]\u001b[A\n",
      " 49%|████▉     | 39/80 [00:00<00:00, 120.98it/s]\u001b[A\n",
      " 65%|██████▌   | 52/80 [00:00<00:00, 119.41it/s]\u001b[A\n",
      " 80%|████████  | 64/80 [00:00<00:00, 119.25it/s]\u001b[A\n",
      "100%|██████████| 80/80 [00:00<00:00, 119.64it/s]\u001b[A\n",
      " 29%|██▉       | 326/1125 [06:25<16:16,  1.22s/it]"
     ]
    },
    {
     "name": "stdout",
     "output_type": "stream",
     "text": [
      "/home/jiang/projects/SubtleGAN/data/brats2021/train/BraTS2021_01333\n"
     ]
    },
    {
     "name": "stderr",
     "output_type": "stream",
     "text": [
      "\n",
      "  0%|          | 0/80 [00:00<?, ?it/s]\u001b[A\n",
      " 16%|█▋        | 13/80 [00:00<00:00, 119.67it/s]\u001b[A\n",
      " 32%|███▎      | 26/80 [00:00<00:00, 124.43it/s]\u001b[A\n",
      " 49%|████▉     | 39/80 [00:00<00:00, 120.49it/s]\u001b[A\n",
      " 65%|██████▌   | 52/80 [00:00<00:00, 90.76it/s] \u001b[A\n",
      " 80%|████████  | 64/80 [00:00<00:00, 96.40it/s]\u001b[A\n",
      "100%|██████████| 80/80 [00:00<00:00, 104.35it/s]\u001b[A\n",
      " 29%|██▉       | 327/1125 [06:26<16:28,  1.24s/it]"
     ]
    },
    {
     "name": "stdout",
     "output_type": "stream",
     "text": [
      "/home/jiang/projects/SubtleGAN/data/brats2021/train/BraTS2021_00423\n"
     ]
    },
    {
     "name": "stderr",
     "output_type": "stream",
     "text": [
      "\n",
      "  0%|          | 0/80 [00:00<?, ?it/s]\u001b[A\n",
      " 15%|█▌        | 12/80 [00:00<00:00, 118.61it/s]\u001b[A\n",
      " 31%|███▏      | 25/80 [00:00<00:00, 118.89it/s]\u001b[A\n",
      " 46%|████▋     | 37/80 [00:00<00:00, 116.14it/s]\u001b[A\n",
      " 61%|██████▏   | 49/80 [00:00<00:00, 116.68it/s]\u001b[A\n",
      " 76%|███████▋  | 61/80 [00:00<00:00, 117.19it/s]\u001b[A\n",
      "100%|██████████| 80/80 [00:00<00:00, 117.60it/s]\u001b[A\n",
      " 29%|██▉       | 328/1125 [06:27<16:23,  1.23s/it]"
     ]
    },
    {
     "name": "stdout",
     "output_type": "stream",
     "text": [
      "/home/jiang/projects/SubtleGAN/data/brats2021/train/BraTS2021_00188\n"
     ]
    },
    {
     "name": "stderr",
     "output_type": "stream",
     "text": [
      "\n",
      "  0%|          | 0/80 [00:00<?, ?it/s]\u001b[A\n",
      " 16%|█▋        | 13/80 [00:00<00:00, 123.82it/s]\u001b[A\n",
      " 32%|███▎      | 26/80 [00:00<00:00, 97.75it/s] \u001b[A\n",
      " 46%|████▋     | 37/80 [00:00<00:00, 75.98it/s]\u001b[A\n",
      " 60%|██████    | 48/80 [00:00<00:00, 84.96it/s]\u001b[A\n",
      " 72%|███████▎  | 58/80 [00:00<00:00, 70.75it/s]\u001b[A\n",
      "100%|██████████| 80/80 [00:00<00:00, 85.06it/s]\u001b[A\n",
      " 29%|██▉       | 329/1125 [06:29<17:47,  1.34s/it]"
     ]
    },
    {
     "name": "stdout",
     "output_type": "stream",
     "text": [
      "/home/jiang/projects/SubtleGAN/data/brats2021/train/BraTS2021_00149\n"
     ]
    },
    {
     "name": "stderr",
     "output_type": "stream",
     "text": [
      "\n",
      "  0%|          | 0/80 [00:00<?, ?it/s]\u001b[A\n",
      " 16%|█▋        | 13/80 [00:00<00:00, 123.59it/s]\u001b[A\n",
      " 32%|███▎      | 26/80 [00:00<00:00, 81.04it/s] \u001b[A\n",
      " 49%|████▉     | 39/80 [00:00<00:00, 94.74it/s]\u001b[A\n",
      " 64%|██████▍   | 51/80 [00:00<00:00, 101.98it/s]\u001b[A\n",
      " 80%|████████  | 64/80 [00:00<00:00, 108.09it/s]\u001b[A\n",
      "100%|██████████| 80/80 [00:00<00:00, 105.40it/s]\u001b[A\n",
      " 29%|██▉       | 330/1125 [06:30<17:35,  1.33s/it]"
     ]
    },
    {
     "name": "stdout",
     "output_type": "stream",
     "text": [
      "/home/jiang/projects/SubtleGAN/data/brats2021/train/BraTS2021_01308\n"
     ]
    },
    {
     "name": "stderr",
     "output_type": "stream",
     "text": [
      "\n",
      "  0%|          | 0/80 [00:00<?, ?it/s]\u001b[A\n",
      " 16%|█▋        | 13/80 [00:00<00:00, 123.15it/s]\u001b[A\n",
      " 32%|███▎      | 26/80 [00:00<00:00, 121.39it/s]\u001b[A\n",
      " 49%|████▉     | 39/80 [00:00<00:00, 119.13it/s]\u001b[A\n",
      " 65%|██████▌   | 52/80 [00:00<00:00, 120.27it/s]\u001b[A\n",
      " 81%|████████▏ | 65/80 [00:00<00:00, 120.19it/s]\u001b[A\n",
      "100%|██████████| 80/80 [00:00<00:00, 119.70it/s]\u001b[A\n",
      " 29%|██▉       | 331/1125 [06:32<17:01,  1.29s/it]"
     ]
    },
    {
     "name": "stdout",
     "output_type": "stream",
     "text": [
      "/home/jiang/projects/SubtleGAN/data/brats2021/train/BraTS2021_01418\n"
     ]
    },
    {
     "name": "stderr",
     "output_type": "stream",
     "text": [
      "\n",
      "  0%|          | 0/80 [00:00<?, ?it/s]\u001b[A\n",
      " 16%|█▋        | 13/80 [00:00<00:00, 125.00it/s]\u001b[A\n",
      " 32%|███▎      | 26/80 [00:00<00:00, 121.31it/s]\u001b[A\n",
      " 49%|████▉     | 39/80 [00:00<00:00, 122.28it/s]\u001b[A\n",
      " 65%|██████▌   | 52/80 [00:00<00:00, 118.32it/s]\u001b[A\n",
      " 80%|████████  | 64/80 [00:00<00:00, 118.83it/s]\u001b[A\n",
      "100%|██████████| 80/80 [00:00<00:00, 119.49it/s]\u001b[A\n",
      " 30%|██▉       | 332/1125 [06:33<16:41,  1.26s/it]"
     ]
    },
    {
     "name": "stdout",
     "output_type": "stream",
     "text": [
      "/home/jiang/projects/SubtleGAN/data/brats2021/train/BraTS2021_00624\n"
     ]
    },
    {
     "name": "stderr",
     "output_type": "stream",
     "text": [
      "\n",
      "  0%|          | 0/80 [00:00<?, ?it/s]\u001b[A\n",
      " 15%|█▌        | 12/80 [00:00<00:00, 110.65it/s]\u001b[A\n",
      " 30%|███       | 24/80 [00:00<00:00, 113.81it/s]\u001b[A\n",
      " 45%|████▌     | 36/80 [00:00<00:00, 116.26it/s]\u001b[A\n",
      " 60%|██████    | 48/80 [00:00<00:00, 115.33it/s]\u001b[A\n",
      " 76%|███████▋  | 61/80 [00:00<00:00, 117.04it/s]\u001b[A\n",
      "100%|██████████| 80/80 [00:00<00:00, 115.22it/s]\u001b[A\n",
      " 30%|██▉       | 333/1125 [06:34<16:10,  1.22s/it]"
     ]
    },
    {
     "name": "stdout",
     "output_type": "stream",
     "text": [
      "/home/jiang/projects/SubtleGAN/data/brats2021/train/BraTS2021_00583\n"
     ]
    },
    {
     "name": "stderr",
     "output_type": "stream",
     "text": [
      "\n",
      "  0%|          | 0/80 [00:00<?, ?it/s]\u001b[A\n",
      " 15%|█▌        | 12/80 [00:00<00:00, 112.65it/s]\u001b[A\n",
      " 31%|███▏      | 25/80 [00:00<00:00, 115.87it/s]\u001b[A\n",
      " 46%|████▋     | 37/80 [00:00<00:00, 115.24it/s]\u001b[A\n",
      " 61%|██████▏   | 49/80 [00:00<00:00, 116.13it/s]\u001b[A\n",
      " 76%|███████▋  | 61/80 [00:00<00:00, 116.60it/s]\u001b[A\n",
      "100%|██████████| 80/80 [00:00<00:00, 117.12it/s]\u001b[A\n",
      " 30%|██▉       | 334/1125 [06:35<17:40,  1.34s/it]"
     ]
    },
    {
     "name": "stdout",
     "output_type": "stream",
     "text": [
      "/home/jiang/projects/SubtleGAN/data/brats2021/train/BraTS2021_00263\n"
     ]
    },
    {
     "name": "stderr",
     "output_type": "stream",
     "text": [
      "\n",
      "  0%|          | 0/80 [00:00<?, ?it/s]\u001b[A\n",
      " 16%|█▋        | 13/80 [00:00<00:00, 129.12it/s]\u001b[A\n",
      " 32%|███▎      | 26/80 [00:00<00:00, 120.47it/s]\u001b[A\n",
      " 49%|████▉     | 39/80 [00:00<00:00, 121.29it/s]\u001b[A\n",
      " 65%|██████▌   | 52/80 [00:00<00:00, 120.72it/s]\u001b[A\n",
      " 81%|████████▏ | 65/80 [00:00<00:00, 122.42it/s]\u001b[A\n",
      "100%|██████████| 80/80 [00:00<00:00, 120.45it/s]\u001b[A\n",
      " 30%|██▉       | 335/1125 [06:37<17:10,  1.30s/it]"
     ]
    },
    {
     "name": "stdout",
     "output_type": "stream",
     "text": [
      "/home/jiang/projects/SubtleGAN/data/brats2021/train/BraTS2021_00623\n"
     ]
    },
    {
     "name": "stderr",
     "output_type": "stream",
     "text": [
      "\n",
      "  0%|          | 0/80 [00:00<?, ?it/s]\u001b[A\n",
      " 16%|█▋        | 13/80 [00:00<00:00, 123.84it/s]\u001b[A\n",
      " 32%|███▎      | 26/80 [00:00<00:00, 119.97it/s]\u001b[A\n",
      " 49%|████▉     | 39/80 [00:00<00:00, 119.80it/s]\u001b[A\n",
      " 64%|██████▍   | 51/80 [00:00<00:00, 115.75it/s]\u001b[A\n",
      " 79%|███████▉  | 63/80 [00:00<00:00, 116.48it/s]\u001b[A\n",
      "100%|██████████| 80/80 [00:00<00:00, 117.45it/s]\u001b[A\n",
      " 30%|██▉       | 336/1125 [06:38<16:28,  1.25s/it]"
     ]
    },
    {
     "name": "stdout",
     "output_type": "stream",
     "text": [
      "/home/jiang/projects/SubtleGAN/data/brats2021/train/BraTS2021_00506\n"
     ]
    },
    {
     "name": "stderr",
     "output_type": "stream",
     "text": [
      "\n",
      "  0%|          | 0/80 [00:00<?, ?it/s]\u001b[A\n",
      " 16%|█▋        | 13/80 [00:00<00:00, 121.69it/s]\u001b[A\n",
      " 32%|███▎      | 26/80 [00:00<00:00, 120.57it/s]\u001b[A\n",
      " 49%|████▉     | 39/80 [00:00<00:00, 119.67it/s]\u001b[A\n",
      " 65%|██████▌   | 52/80 [00:00<00:00, 120.00it/s]\u001b[A\n",
      " 81%|████████▏ | 65/80 [00:00<00:00, 120.31it/s]\u001b[A\n",
      "100%|██████████| 80/80 [00:00<00:00, 119.84it/s]\u001b[A\n",
      " 30%|██▉       | 337/1125 [06:39<15:51,  1.21s/it]"
     ]
    },
    {
     "name": "stdout",
     "output_type": "stream",
     "text": [
      "/home/jiang/projects/SubtleGAN/data/brats2021/train/BraTS2021_01351\n"
     ]
    },
    {
     "name": "stderr",
     "output_type": "stream",
     "text": [
      "\n",
      "  0%|          | 0/80 [00:00<?, ?it/s]\u001b[A\n",
      " 16%|█▋        | 13/80 [00:00<00:00, 129.65it/s]\u001b[A\n",
      " 32%|███▎      | 26/80 [00:00<00:00, 125.70it/s]\u001b[A\n",
      " 49%|████▉     | 39/80 [00:00<00:00, 123.90it/s]\u001b[A\n",
      " 65%|██████▌   | 52/80 [00:00<00:00, 120.22it/s]\u001b[A\n",
      " 81%|████████▏ | 65/80 [00:00<00:00, 121.33it/s]\u001b[A\n",
      "100%|██████████| 80/80 [00:00<00:00, 121.19it/s]\u001b[A\n",
      " 30%|███       | 338/1125 [06:40<15:52,  1.21s/it]"
     ]
    },
    {
     "name": "stdout",
     "output_type": "stream",
     "text": [
      "/home/jiang/projects/SubtleGAN/data/brats2021/train/BraTS2021_01654\n"
     ]
    },
    {
     "name": "stderr",
     "output_type": "stream",
     "text": [
      "\n",
      "  0%|          | 0/80 [00:00<?, ?it/s]\u001b[A\n",
      " 16%|█▋        | 13/80 [00:00<00:00, 123.64it/s]\u001b[A\n",
      " 32%|███▎      | 26/80 [00:00<00:00, 119.33it/s]\u001b[A\n",
      " 48%|████▊     | 38/80 [00:00<00:00, 117.58it/s]\u001b[A\n",
      " 62%|██████▎   | 50/80 [00:00<00:00, 114.35it/s]\u001b[A\n",
      " 78%|███████▊  | 62/80 [00:00<00:00, 116.10it/s]\u001b[A\n",
      "100%|██████████| 80/80 [00:00<00:00, 115.58it/s]\u001b[A\n",
      " 30%|███       | 339/1125 [06:42<17:22,  1.33s/it]"
     ]
    },
    {
     "name": "stdout",
     "output_type": "stream",
     "text": [
      "/home/jiang/projects/SubtleGAN/data/brats2021/train/BraTS2021_01498\n"
     ]
    },
    {
     "name": "stderr",
     "output_type": "stream",
     "text": [
      "\n",
      "  0%|          | 0/80 [00:00<?, ?it/s]\u001b[A\n",
      " 16%|█▋        | 13/80 [00:00<00:00, 121.96it/s]\u001b[A\n",
      " 32%|███▎      | 26/80 [00:00<00:00, 122.57it/s]\u001b[A\n",
      " 49%|████▉     | 39/80 [00:00<00:00, 121.01it/s]\u001b[A\n",
      " 65%|██████▌   | 52/80 [00:00<00:00, 120.48it/s]\u001b[A\n",
      " 81%|████████▏ | 65/80 [00:00<00:00, 117.96it/s]\u001b[A\n",
      "100%|██████████| 80/80 [00:00<00:00, 117.11it/s]\u001b[A\n",
      " 30%|███       | 340/1125 [06:43<16:56,  1.29s/it]"
     ]
    },
    {
     "name": "stdout",
     "output_type": "stream",
     "text": [
      "/home/jiang/projects/SubtleGAN/data/brats2021/train/BraTS2021_00313\n"
     ]
    },
    {
     "name": "stderr",
     "output_type": "stream",
     "text": [
      "\n",
      "  0%|          | 0/80 [00:00<?, ?it/s]\u001b[A\n",
      " 16%|█▋        | 13/80 [00:00<00:00, 118.71it/s]\u001b[A\n",
      " 31%|███▏      | 25/80 [00:00<00:00, 118.52it/s]\u001b[A\n",
      " 46%|████▋     | 37/80 [00:00<00:00, 117.85it/s]\u001b[A\n",
      " 62%|██████▎   | 50/80 [00:00<00:00, 118.37it/s]\u001b[A\n",
      " 78%|███████▊  | 62/80 [00:00<00:00, 117.16it/s]\u001b[A\n",
      "100%|██████████| 80/80 [00:00<00:00, 118.41it/s]\u001b[A\n",
      " 30%|███       | 341/1125 [06:44<16:41,  1.28s/it]"
     ]
    },
    {
     "name": "stdout",
     "output_type": "stream",
     "text": [
      "/home/jiang/projects/SubtleGAN/data/brats2021/train/BraTS2021_00626\n"
     ]
    },
    {
     "name": "stderr",
     "output_type": "stream",
     "text": [
      "\n",
      "  0%|          | 0/80 [00:00<?, ?it/s]\u001b[A\n",
      " 15%|█▌        | 12/80 [00:00<00:00, 119.30it/s]\u001b[A\n",
      " 31%|███▏      | 25/80 [00:00<00:00, 122.15it/s]\u001b[A\n",
      " 48%|████▊     | 38/80 [00:00<00:00, 117.24it/s]\u001b[A\n",
      " 64%|██████▍   | 51/80 [00:00<00:00, 119.40it/s]\u001b[A\n",
      " 79%|███████▉  | 63/80 [00:00<00:00, 118.63it/s]\u001b[A\n",
      "100%|██████████| 80/80 [00:00<00:00, 117.31it/s]\u001b[A\n",
      " 30%|███       | 342/1125 [06:45<16:08,  1.24s/it]"
     ]
    },
    {
     "name": "stdout",
     "output_type": "stream",
     "text": [
      "/home/jiang/projects/SubtleGAN/data/brats2021/train/BraTS2021_01297\n"
     ]
    },
    {
     "name": "stderr",
     "output_type": "stream",
     "text": [
      "\n",
      "  0%|          | 0/80 [00:00<?, ?it/s]\u001b[A\n",
      " 16%|█▋        | 13/80 [00:00<00:00, 121.99it/s]\u001b[A\n",
      " 32%|███▎      | 26/80 [00:00<00:00, 121.74it/s]\u001b[A\n",
      " 49%|████▉     | 39/80 [00:00<00:00, 121.76it/s]\u001b[A\n",
      " 65%|██████▌   | 52/80 [00:00<00:00, 121.14it/s]\u001b[A\n",
      " 81%|████████▏ | 65/80 [00:00<00:00, 120.28it/s]\u001b[A\n",
      "100%|██████████| 80/80 [00:00<00:00, 119.49it/s]\u001b[A\n",
      " 30%|███       | 343/1125 [06:47<15:57,  1.22s/it]"
     ]
    },
    {
     "name": "stdout",
     "output_type": "stream",
     "text": [
      "/home/jiang/projects/SubtleGAN/data/brats2021/train/BraTS2021_01590\n"
     ]
    },
    {
     "name": "stderr",
     "output_type": "stream",
     "text": [
      "\n",
      "  0%|          | 0/80 [00:00<?, ?it/s]\u001b[A\n",
      " 16%|█▋        | 13/80 [00:00<00:00, 121.25it/s]\u001b[A\n",
      " 32%|███▎      | 26/80 [00:00<00:00, 117.55it/s]\u001b[A\n",
      " 48%|████▊     | 38/80 [00:00<00:00, 117.86it/s]\u001b[A\n",
      " 62%|██████▎   | 50/80 [00:00<00:00, 117.82it/s]\u001b[A\n",
      " 78%|███████▊  | 62/80 [00:00<00:00, 118.32it/s]\u001b[A\n",
      "100%|██████████| 80/80 [00:00<00:00, 117.97it/s]\u001b[A\n",
      " 31%|███       | 344/1125 [06:48<17:21,  1.33s/it]"
     ]
    },
    {
     "name": "stdout",
     "output_type": "stream",
     "text": [
      "/home/jiang/projects/SubtleGAN/data/brats2021/train/BraTS2021_00810\n"
     ]
    },
    {
     "name": "stderr",
     "output_type": "stream",
     "text": [
      "\n",
      "  0%|          | 0/80 [00:00<?, ?it/s]\u001b[A\n",
      " 16%|█▋        | 13/80 [00:00<00:00, 118.34it/s]\u001b[A\n",
      " 31%|███▏      | 25/80 [00:00<00:00, 65.30it/s] \u001b[A\n",
      " 41%|████▏     | 33/80 [00:00<00:00, 48.65it/s]\u001b[A\n",
      " 49%|████▉     | 39/80 [00:00<00:00, 48.11it/s]\u001b[A\n",
      " 61%|██████▏   | 49/80 [00:00<00:00, 60.42it/s]\u001b[A\n",
      " 78%|███████▊  | 62/80 [00:00<00:00, 76.36it/s]\u001b[A\n",
      "100%|██████████| 80/80 [00:01<00:00, 72.98it/s]\u001b[A\n",
      " 31%|███       | 345/1125 [06:50<19:57,  1.54s/it]"
     ]
    },
    {
     "name": "stdout",
     "output_type": "stream",
     "text": [
      "/home/jiang/projects/SubtleGAN/data/brats2021/train/BraTS2021_00682\n"
     ]
    },
    {
     "name": "stderr",
     "output_type": "stream",
     "text": [
      "\n",
      "  0%|          | 0/80 [00:00<?, ?it/s]\u001b[A\n",
      " 16%|█▋        | 13/80 [00:00<00:00, 123.21it/s]\u001b[A\n",
      " 32%|███▎      | 26/80 [00:00<00:00, 119.63it/s]\u001b[A\n",
      " 48%|████▊     | 38/80 [00:00<00:00, 115.58it/s]\u001b[A\n",
      " 62%|██████▎   | 50/80 [00:00<00:00, 116.97it/s]\u001b[A\n",
      " 78%|███████▊  | 62/80 [00:00<00:00, 116.54it/s]\u001b[A\n",
      "100%|██████████| 80/80 [00:00<00:00, 118.36it/s]\u001b[A\n",
      " 31%|███       | 346/1125 [06:51<18:21,  1.41s/it]"
     ]
    },
    {
     "name": "stdout",
     "output_type": "stream",
     "text": [
      "/home/jiang/projects/SubtleGAN/data/brats2021/train/BraTS2021_01597\n"
     ]
    },
    {
     "name": "stderr",
     "output_type": "stream",
     "text": [
      "\n",
      "  0%|          | 0/80 [00:00<?, ?it/s]\u001b[A\n",
      " 16%|█▋        | 13/80 [00:00<00:00, 125.97it/s]\u001b[A\n",
      " 32%|███▎      | 26/80 [00:00<00:00, 123.72it/s]\u001b[A\n",
      " 49%|████▉     | 39/80 [00:00<00:00, 117.88it/s]\u001b[A\n",
      " 65%|██████▌   | 52/80 [00:00<00:00, 120.50it/s]\u001b[A\n",
      " 81%|████████▏ | 65/80 [00:00<00:00, 120.21it/s]\u001b[A\n",
      "100%|██████████| 80/80 [00:00<00:00, 119.86it/s]\u001b[A\n",
      " 31%|███       | 347/1125 [06:53<18:53,  1.46s/it]"
     ]
    },
    {
     "name": "stdout",
     "output_type": "stream",
     "text": [
      "/home/jiang/projects/SubtleGAN/data/brats2021/train/BraTS2021_01102\n"
     ]
    },
    {
     "name": "stderr",
     "output_type": "stream",
     "text": [
      "\n",
      "  0%|          | 0/80 [00:00<?, ?it/s]\u001b[A\n",
      " 16%|█▋        | 13/80 [00:00<00:00, 124.96it/s]\u001b[A\n",
      " 32%|███▎      | 26/80 [00:00<00:00, 122.73it/s]\u001b[A\n",
      " 49%|████▉     | 39/80 [00:00<00:00, 122.90it/s]\u001b[A\n",
      " 65%|██████▌   | 52/80 [00:00<00:00, 123.12it/s]\u001b[A\n",
      " 81%|████████▏ | 65/80 [00:00<00:00, 122.30it/s]\u001b[A\n",
      "100%|██████████| 80/80 [00:00<00:00, 121.68it/s]\u001b[A\n",
      " 31%|███       | 348/1125 [06:54<17:49,  1.38s/it]"
     ]
    },
    {
     "name": "stdout",
     "output_type": "stream",
     "text": [
      "/home/jiang/projects/SubtleGAN/data/brats2021/train/BraTS2021_00005\n"
     ]
    },
    {
     "name": "stderr",
     "output_type": "stream",
     "text": [
      "\n",
      "  0%|          | 0/80 [00:00<?, ?it/s]\u001b[A\n",
      " 16%|█▋        | 13/80 [00:00<00:00, 124.24it/s]\u001b[A\n",
      " 32%|███▎      | 26/80 [00:00<00:00, 124.01it/s]\u001b[A\n",
      " 49%|████▉     | 39/80 [00:00<00:00, 120.84it/s]\u001b[A\n",
      " 65%|██████▌   | 52/80 [00:00<00:00, 120.44it/s]\u001b[A\n",
      " 81%|████████▏ | 65/80 [00:00<00:00, 120.69it/s]\u001b[A\n",
      "100%|██████████| 80/80 [00:00<00:00, 120.02it/s]\u001b[A\n",
      " 31%|███       | 349/1125 [06:55<16:40,  1.29s/it]"
     ]
    },
    {
     "name": "stdout",
     "output_type": "stream",
     "text": [
      "/home/jiang/projects/SubtleGAN/data/brats2021/train/BraTS2021_01661\n"
     ]
    },
    {
     "name": "stderr",
     "output_type": "stream",
     "text": [
      "\n",
      "  0%|          | 0/80 [00:00<?, ?it/s]\u001b[A\n",
      " 16%|█▋        | 13/80 [00:00<00:00, 123.17it/s]\u001b[A\n",
      " 32%|███▎      | 26/80 [00:00<00:00, 121.42it/s]\u001b[A\n",
      " 49%|████▉     | 39/80 [00:00<00:00, 119.41it/s]\u001b[A\n",
      " 64%|██████▍   | 51/80 [00:00<00:00, 119.62it/s]\u001b[A\n",
      " 80%|████████  | 64/80 [00:00<00:00, 120.84it/s]\u001b[A\n",
      "100%|██████████| 80/80 [00:00<00:00, 118.45it/s]\u001b[A\n",
      " 31%|███       | 350/1125 [06:56<16:14,  1.26s/it]"
     ]
    },
    {
     "name": "stdout",
     "output_type": "stream",
     "text": [
      "/home/jiang/projects/SubtleGAN/data/brats2021/train/BraTS2021_00547\n"
     ]
    },
    {
     "name": "stderr",
     "output_type": "stream",
     "text": [
      "\n",
      "  0%|          | 0/80 [00:00<?, ?it/s]\u001b[A\n",
      " 16%|█▋        | 13/80 [00:00<00:00, 123.33it/s]\u001b[A\n",
      " 32%|███▎      | 26/80 [00:00<00:00, 118.64it/s]\u001b[A\n",
      " 48%|████▊     | 38/80 [00:00<00:00, 118.00it/s]\u001b[A\n",
      " 62%|██████▎   | 50/80 [00:00<00:00, 115.30it/s]\u001b[A\n",
      " 79%|███████▉  | 63/80 [00:00<00:00, 117.29it/s]\u001b[A\n",
      "100%|██████████| 80/80 [00:00<00:00, 117.56it/s]\u001b[A\n",
      " 31%|███       | 351/1125 [06:57<15:42,  1.22s/it]"
     ]
    },
    {
     "name": "stdout",
     "output_type": "stream",
     "text": [
      "/home/jiang/projects/SubtleGAN/data/brats2021/train/BraTS2021_00127\n"
     ]
    },
    {
     "name": "stderr",
     "output_type": "stream",
     "text": [
      "\n",
      "  0%|          | 0/80 [00:00<?, ?it/s]\u001b[A\n",
      " 16%|█▋        | 13/80 [00:00<00:00, 127.64it/s]\u001b[A\n",
      " 32%|███▎      | 26/80 [00:00<00:00, 122.22it/s]\u001b[A\n",
      " 49%|████▉     | 39/80 [00:00<00:00, 121.55it/s]\u001b[A\n",
      " 65%|██████▌   | 52/80 [00:00<00:00, 120.44it/s]\u001b[A\n",
      " 81%|████████▏ | 65/80 [00:00<00:00, 122.29it/s]\u001b[A\n",
      "100%|██████████| 80/80 [00:00<00:00, 121.29it/s]\u001b[A\n",
      " 31%|███▏      | 352/1125 [06:59<15:35,  1.21s/it]"
     ]
    },
    {
     "name": "stdout",
     "output_type": "stream",
     "text": [
      "/home/jiang/projects/SubtleGAN/data/brats2021/train/BraTS2021_01335\n"
     ]
    },
    {
     "name": "stderr",
     "output_type": "stream",
     "text": [
      "\n",
      "  0%|          | 0/80 [00:00<?, ?it/s]\u001b[A\n",
      " 16%|█▋        | 13/80 [00:00<00:00, 129.59it/s]\u001b[A\n",
      " 32%|███▎      | 26/80 [00:00<00:00, 123.68it/s]\u001b[A\n",
      " 49%|████▉     | 39/80 [00:00<00:00, 122.74it/s]\u001b[A\n",
      " 65%|██████▌   | 52/80 [00:00<00:00, 120.64it/s]\u001b[A\n",
      " 81%|████████▏ | 65/80 [00:00<00:00, 118.96it/s]\u001b[A\n",
      "100%|██████████| 80/80 [00:00<00:00, 119.42it/s]\u001b[A\n",
      " 31%|███▏      | 353/1125 [07:00<15:31,  1.21s/it]"
     ]
    },
    {
     "name": "stdout",
     "output_type": "stream",
     "text": [
      "/home/jiang/projects/SubtleGAN/data/brats2021/train/BraTS2021_00207\n"
     ]
    },
    {
     "name": "stderr",
     "output_type": "stream",
     "text": [
      "\n",
      "  0%|          | 0/80 [00:00<?, ?it/s]\u001b[A\n",
      " 16%|█▋        | 13/80 [00:00<00:00, 125.55it/s]\u001b[A\n",
      " 32%|███▎      | 26/80 [00:00<00:00, 119.80it/s]\u001b[A\n",
      " 49%|████▉     | 39/80 [00:00<00:00, 121.98it/s]\u001b[A\n",
      " 65%|██████▌   | 52/80 [00:00<00:00, 121.47it/s]\u001b[A\n",
      " 81%|████████▏ | 65/80 [00:00<00:00, 119.58it/s]\u001b[A\n",
      "100%|██████████| 80/80 [00:00<00:00, 119.36it/s]\u001b[A\n",
      " 31%|███▏      | 354/1125 [07:01<15:32,  1.21s/it]"
     ]
    },
    {
     "name": "stdout",
     "output_type": "stream",
     "text": [
      "/home/jiang/projects/SubtleGAN/data/brats2021/train/BraTS2021_01410\n"
     ]
    },
    {
     "name": "stderr",
     "output_type": "stream",
     "text": [
      "\n",
      "  0%|          | 0/80 [00:00<?, ?it/s]\u001b[A\n",
      " 16%|█▋        | 13/80 [00:00<00:00, 120.85it/s]\u001b[A\n",
      " 32%|███▎      | 26/80 [00:00<00:00, 96.40it/s] \u001b[A\n",
      " 48%|████▊     | 38/80 [00:00<00:00, 103.23it/s]\u001b[A\n",
      " 62%|██████▎   | 50/80 [00:00<00:00, 107.80it/s]\u001b[A\n",
      " 76%|███████▋  | 61/80 [00:00<00:00, 87.51it/s] \u001b[A\n",
      "100%|██████████| 80/80 [00:00<00:00, 99.28it/s]\u001b[A\n",
      " 32%|███▏      | 355/1125 [07:02<16:03,  1.25s/it]"
     ]
    },
    {
     "name": "stdout",
     "output_type": "stream",
     "text": [
      "/home/jiang/projects/SubtleGAN/data/brats2021/train/BraTS2021_01466\n"
     ]
    },
    {
     "name": "stderr",
     "output_type": "stream",
     "text": [
      "\n",
      "  0%|          | 0/80 [00:00<?, ?it/s]\u001b[A\n",
      " 16%|█▋        | 13/80 [00:00<00:00, 122.72it/s]\u001b[A\n",
      " 32%|███▎      | 26/80 [00:00<00:00, 120.02it/s]\u001b[A\n",
      " 49%|████▉     | 39/80 [00:00<00:00, 122.21it/s]\u001b[A\n",
      " 65%|██████▌   | 52/80 [00:00<00:00, 119.00it/s]\u001b[A\n",
      " 81%|████████▏ | 65/80 [00:00<00:00, 120.33it/s]\u001b[A\n",
      "100%|██████████| 80/80 [00:00<00:00, 118.86it/s]\u001b[A\n",
      " 32%|███▏      | 356/1125 [07:04<15:49,  1.24s/it]"
     ]
    },
    {
     "name": "stdout",
     "output_type": "stream",
     "text": [
      "/home/jiang/projects/SubtleGAN/data/brats2021/train/BraTS2021_00095\n"
     ]
    },
    {
     "name": "stderr",
     "output_type": "stream",
     "text": [
      "\n",
      "  0%|          | 0/80 [00:00<?, ?it/s]\u001b[A\n",
      " 16%|█▋        | 13/80 [00:00<00:00, 123.26it/s]\u001b[A\n",
      " 32%|███▎      | 26/80 [00:00<00:00, 121.93it/s]\u001b[A\n",
      " 49%|████▉     | 39/80 [00:00<00:00, 119.11it/s]\u001b[A\n",
      " 64%|██████▍   | 51/80 [00:00<00:00, 118.65it/s]\u001b[A\n",
      " 80%|████████  | 64/80 [00:00<00:00, 119.00it/s]\u001b[A\n",
      "100%|██████████| 80/80 [00:00<00:00, 119.13it/s]\u001b[A\n",
      " 32%|███▏      | 357/1125 [07:05<15:22,  1.20s/it]"
     ]
    },
    {
     "name": "stdout",
     "output_type": "stream",
     "text": [
      "/home/jiang/projects/SubtleGAN/data/brats2021/train/BraTS2021_01336\n"
     ]
    },
    {
     "name": "stderr",
     "output_type": "stream",
     "text": [
      "\n",
      "  0%|          | 0/80 [00:00<?, ?it/s]\u001b[A\n",
      " 16%|█▋        | 13/80 [00:00<00:00, 121.94it/s]\u001b[A\n",
      " 32%|███▎      | 26/80 [00:00<00:00, 117.60it/s]\u001b[A\n",
      " 48%|████▊     | 38/80 [00:00<00:00, 114.50it/s]\u001b[A\n",
      " 64%|██████▍   | 51/80 [00:00<00:00, 118.38it/s]\u001b[A\n",
      " 79%|███████▉  | 63/80 [00:00<00:00, 118.19it/s]\u001b[A\n",
      "100%|██████████| 80/80 [00:00<00:00, 117.41it/s]\u001b[A\n",
      " 32%|███▏      | 358/1125 [07:06<15:21,  1.20s/it]"
     ]
    },
    {
     "name": "stdout",
     "output_type": "stream",
     "text": [
      "/home/jiang/projects/SubtleGAN/data/brats2021/train/BraTS2021_01617\n"
     ]
    },
    {
     "name": "stderr",
     "output_type": "stream",
     "text": [
      "\n",
      "  0%|          | 0/80 [00:00<?, ?it/s]\u001b[A\n",
      " 16%|█▋        | 13/80 [00:00<00:00, 122.66it/s]\u001b[A\n",
      " 32%|███▎      | 26/80 [00:00<00:00, 121.61it/s]\u001b[A\n",
      " 49%|████▉     | 39/80 [00:00<00:00, 119.15it/s]\u001b[A\n",
      " 65%|██████▌   | 52/80 [00:00<00:00, 120.61it/s]\u001b[A\n",
      " 81%|████████▏ | 65/80 [00:00<00:00, 120.98it/s]\u001b[A\n",
      "100%|██████████| 80/80 [00:00<00:00, 119.31it/s]\u001b[A\n",
      " 32%|███▏      | 359/1125 [07:07<16:44,  1.31s/it]"
     ]
    },
    {
     "name": "stdout",
     "output_type": "stream",
     "text": [
      "/home/jiang/projects/SubtleGAN/data/brats2021/train/BraTS2021_00214\n"
     ]
    },
    {
     "name": "stderr",
     "output_type": "stream",
     "text": [
      "\n",
      "  0%|          | 0/80 [00:00<?, ?it/s]\u001b[A\n",
      " 15%|█▌        | 12/80 [00:00<00:00, 119.09it/s]\u001b[A\n",
      " 30%|███       | 24/80 [00:00<00:00, 118.64it/s]\u001b[A\n",
      " 45%|████▌     | 36/80 [00:00<00:00, 118.17it/s]\u001b[A\n",
      " 60%|██████    | 48/80 [00:00<00:00, 114.94it/s]\u001b[A\n",
      " 75%|███████▌  | 60/80 [00:00<00:00, 116.06it/s]\u001b[A\n",
      "100%|██████████| 80/80 [00:00<00:00, 117.21it/s]\u001b[A\n",
      " 32%|███▏      | 360/1125 [07:09<16:25,  1.29s/it]"
     ]
    },
    {
     "name": "stdout",
     "output_type": "stream",
     "text": [
      "/home/jiang/projects/SubtleGAN/data/brats2021/train/BraTS2021_00444\n"
     ]
    },
    {
     "name": "stderr",
     "output_type": "stream",
     "text": [
      "\n",
      "  0%|          | 0/80 [00:00<?, ?it/s]\u001b[A\n",
      " 16%|█▋        | 13/80 [00:00<00:00, 120.89it/s]\u001b[A\n",
      " 32%|███▎      | 26/80 [00:00<00:00, 120.44it/s]\u001b[A\n",
      " 49%|████▉     | 39/80 [00:00<00:00, 117.99it/s]\u001b[A\n",
      " 64%|██████▍   | 51/80 [00:00<00:00, 116.99it/s]\u001b[A\n",
      " 80%|████████  | 64/80 [00:00<00:00, 119.48it/s]\u001b[A\n",
      "100%|██████████| 80/80 [00:00<00:00, 118.57it/s]\u001b[A\n",
      " 32%|███▏      | 361/1125 [07:10<16:08,  1.27s/it]"
     ]
    },
    {
     "name": "stdout",
     "output_type": "stream",
     "text": [
      "/home/jiang/projects/SubtleGAN/data/brats2021/train/BraTS2021_00331\n"
     ]
    },
    {
     "name": "stderr",
     "output_type": "stream",
     "text": [
      "\n",
      "  0%|          | 0/80 [00:00<?, ?it/s]\u001b[A\n",
      " 18%|█▊        | 14/80 [00:00<00:00, 129.31it/s]\u001b[A\n",
      " 34%|███▍      | 27/80 [00:00<00:00, 122.55it/s]\u001b[A\n",
      " 50%|█████     | 40/80 [00:00<00:00, 118.88it/s]\u001b[A\n",
      " 66%|██████▋   | 53/80 [00:00<00:00, 118.97it/s]\u001b[A\n",
      " 81%|████████▏ | 65/80 [00:00<00:00, 118.33it/s]\u001b[A\n",
      "100%|██████████| 80/80 [00:00<00:00, 119.29it/s]\u001b[A\n",
      " 32%|███▏      | 362/1125 [07:11<15:48,  1.24s/it]"
     ]
    },
    {
     "name": "stdout",
     "output_type": "stream",
     "text": [
      "/home/jiang/projects/SubtleGAN/data/brats2021/train/BraTS2021_00391\n"
     ]
    },
    {
     "name": "stderr",
     "output_type": "stream",
     "text": [
      "\n",
      "  0%|          | 0/80 [00:00<?, ?it/s]\u001b[A\n",
      " 16%|█▋        | 13/80 [00:00<00:00, 123.97it/s]\u001b[A\n",
      " 32%|███▎      | 26/80 [00:00<00:00, 120.55it/s]\u001b[A\n",
      " 49%|████▉     | 39/80 [00:00<00:00, 120.65it/s]\u001b[A\n",
      " 65%|██████▌   | 52/80 [00:00<00:00, 119.46it/s]\u001b[A\n",
      " 81%|████████▏ | 65/80 [00:00<00:00, 119.17it/s]\u001b[A\n",
      "100%|██████████| 80/80 [00:00<00:00, 119.31it/s]\u001b[A\n",
      " 32%|███▏      | 363/1125 [07:12<15:43,  1.24s/it]"
     ]
    },
    {
     "name": "stdout",
     "output_type": "stream",
     "text": [
      "/home/jiang/projects/SubtleGAN/data/brats2021/train/BraTS2021_01449\n"
     ]
    },
    {
     "name": "stderr",
     "output_type": "stream",
     "text": [
      "\n",
      "  0%|          | 0/80 [00:00<?, ?it/s]\u001b[A\n",
      " 16%|█▋        | 13/80 [00:00<00:00, 127.00it/s]\u001b[A\n",
      " 32%|███▎      | 26/80 [00:00<00:00, 119.99it/s]\u001b[A\n",
      " 49%|████▉     | 39/80 [00:00<00:00, 119.25it/s]\u001b[A\n",
      " 64%|██████▍   | 51/80 [00:00<00:00, 118.74it/s]\u001b[A\n",
      " 79%|███████▉  | 63/80 [00:00<00:00, 117.27it/s]\u001b[A\n",
      "100%|██████████| 80/80 [00:00<00:00, 118.10it/s]\u001b[A\n",
      " 32%|███▏      | 364/1125 [07:14<15:54,  1.25s/it]"
     ]
    },
    {
     "name": "stdout",
     "output_type": "stream",
     "text": [
      "/home/jiang/projects/SubtleGAN/data/brats2021/train/BraTS2021_01531\n"
     ]
    },
    {
     "name": "stderr",
     "output_type": "stream",
     "text": [
      "\n",
      "  0%|          | 0/80 [00:00<?, ?it/s]\u001b[A\n",
      " 15%|█▌        | 12/80 [00:00<00:00, 112.68it/s]\u001b[A\n",
      " 30%|███       | 24/80 [00:00<00:00, 114.94it/s]\u001b[A\n",
      " 45%|████▌     | 36/80 [00:00<00:00, 115.72it/s]\u001b[A\n",
      " 60%|██████    | 48/80 [00:00<00:00, 117.14it/s]\u001b[A\n",
      " 75%|███████▌  | 60/80 [00:00<00:00, 117.04it/s]\u001b[A\n",
      "100%|██████████| 80/80 [00:00<00:00, 117.35it/s]\u001b[A\n",
      " 32%|███▏      | 365/1125 [07:15<16:05,  1.27s/it]"
     ]
    },
    {
     "name": "stdout",
     "output_type": "stream",
     "text": [
      "/home/jiang/projects/SubtleGAN/data/brats2021/train/BraTS2021_00797\n"
     ]
    },
    {
     "name": "stderr",
     "output_type": "stream",
     "text": [
      "\n",
      "  0%|          | 0/80 [00:00<?, ?it/s]\u001b[A\n",
      " 16%|█▋        | 13/80 [00:00<00:00, 127.22it/s]\u001b[A\n",
      " 32%|███▎      | 26/80 [00:00<00:00, 120.29it/s]\u001b[A\n",
      " 49%|████▉     | 39/80 [00:00<00:00, 118.74it/s]\u001b[A\n",
      " 64%|██████▍   | 51/80 [00:00<00:00, 114.54it/s]\u001b[A\n",
      " 79%|███████▉  | 63/80 [00:00<00:00, 113.90it/s]\u001b[A\n",
      "100%|██████████| 80/80 [00:00<00:00, 115.27it/s]\u001b[A\n",
      " 33%|███▎      | 366/1125 [07:17<17:53,  1.41s/it]"
     ]
    },
    {
     "name": "stdout",
     "output_type": "stream",
     "text": [
      "/home/jiang/projects/SubtleGAN/data/brats2021/train/BraTS2021_01378\n"
     ]
    },
    {
     "name": "stderr",
     "output_type": "stream",
     "text": [
      "\n",
      "  0%|          | 0/80 [00:00<?, ?it/s]\u001b[A\n",
      " 16%|█▋        | 13/80 [00:00<00:00, 124.43it/s]\u001b[A\n",
      " 32%|███▎      | 26/80 [00:00<00:00, 120.51it/s]\u001b[A\n",
      " 49%|████▉     | 39/80 [00:00<00:00, 117.71it/s]\u001b[A\n",
      " 64%|██████▍   | 51/80 [00:00<00:00, 116.72it/s]\u001b[A\n",
      " 79%|███████▉  | 63/80 [00:00<00:00, 117.77it/s]\u001b[A\n",
      "100%|██████████| 80/80 [00:00<00:00, 117.68it/s]\u001b[A\n",
      " 33%|███▎      | 367/1125 [07:18<17:21,  1.37s/it]"
     ]
    },
    {
     "name": "stdout",
     "output_type": "stream",
     "text": [
      "/home/jiang/projects/SubtleGAN/data/brats2021/train/BraTS2021_01007\n"
     ]
    },
    {
     "name": "stderr",
     "output_type": "stream",
     "text": [
      "\n",
      "  0%|          | 0/80 [00:00<?, ?it/s]\u001b[A\n",
      " 16%|█▋        | 13/80 [00:00<00:00, 122.78it/s]\u001b[A\n",
      " 32%|███▎      | 26/80 [00:00<00:00, 119.23it/s]\u001b[A\n",
      " 49%|████▉     | 39/80 [00:00<00:00, 121.20it/s]\u001b[A\n",
      " 65%|██████▌   | 52/80 [00:00<00:00, 121.07it/s]\u001b[A\n",
      " 81%|████████▏ | 65/80 [00:00<00:00, 120.83it/s]\u001b[A\n",
      "100%|██████████| 80/80 [00:00<00:00, 119.32it/s]\u001b[A\n",
      " 33%|███▎      | 368/1125 [07:19<17:00,  1.35s/it]"
     ]
    },
    {
     "name": "stdout",
     "output_type": "stream",
     "text": [
      "/home/jiang/projects/SubtleGAN/data/brats2021/train/BraTS2021_01202\n"
     ]
    },
    {
     "name": "stderr",
     "output_type": "stream",
     "text": [
      "\n",
      "  0%|          | 0/80 [00:00<?, ?it/s]\u001b[A\n",
      " 16%|█▋        | 13/80 [00:00<00:00, 121.48it/s]\u001b[A\n",
      " 32%|███▎      | 26/80 [00:00<00:00, 123.59it/s]\u001b[A\n",
      " 49%|████▉     | 39/80 [00:00<00:00, 121.26it/s]\u001b[A\n",
      " 65%|██████▌   | 52/80 [00:00<00:00, 74.36it/s] \u001b[A\n",
      " 78%|███████▊  | 62/80 [00:00<00:00, 79.52it/s]\u001b[A\n",
      "100%|██████████| 80/80 [00:00<00:00, 93.15it/s]\u001b[A\n",
      " 33%|███▎      | 369/1125 [07:21<17:26,  1.38s/it]"
     ]
    },
    {
     "name": "stdout",
     "output_type": "stream",
     "text": [
      "/home/jiang/projects/SubtleGAN/data/brats2021/train/BraTS2021_01099\n"
     ]
    },
    {
     "name": "stderr",
     "output_type": "stream",
     "text": [
      "\n",
      "  0%|          | 0/80 [00:00<?, ?it/s]\u001b[A\n",
      " 16%|█▋        | 13/80 [00:00<00:00, 122.45it/s]\u001b[A\n",
      " 32%|███▎      | 26/80 [00:00<00:00, 121.84it/s]\u001b[A\n",
      " 49%|████▉     | 39/80 [00:00<00:00, 122.58it/s]\u001b[A\n",
      " 65%|██████▌   | 52/80 [00:00<00:00, 122.65it/s]\u001b[A\n",
      " 81%|████████▏ | 65/80 [00:00<00:00, 121.39it/s]\u001b[A\n",
      "100%|██████████| 80/80 [00:00<00:00, 104.79it/s]\u001b[A\n",
      " 33%|███▎      | 370/1125 [07:22<17:24,  1.38s/it]"
     ]
    },
    {
     "name": "stdout",
     "output_type": "stream",
     "text": [
      "/home/jiang/projects/SubtleGAN/data/brats2021/train/BraTS2021_01454\n"
     ]
    },
    {
     "name": "stderr",
     "output_type": "stream",
     "text": [
      "\n",
      "  0%|          | 0/80 [00:00<?, ?it/s]\u001b[A\n",
      " 16%|█▋        | 13/80 [00:00<00:00, 123.34it/s]\u001b[A\n",
      " 32%|███▎      | 26/80 [00:00<00:00, 117.51it/s]\u001b[A\n",
      " 48%|████▊     | 38/80 [00:00<00:00, 117.10it/s]\u001b[A\n",
      " 62%|██████▎   | 50/80 [00:00<00:00, 118.13it/s]\u001b[A\n",
      " 78%|███████▊  | 62/80 [00:00<00:00, 118.49it/s]\u001b[A\n",
      "100%|██████████| 80/80 [00:00<00:00, 107.13it/s]\u001b[A\n",
      " 33%|███▎      | 371/1125 [07:23<17:28,  1.39s/it]"
     ]
    },
    {
     "name": "stdout",
     "output_type": "stream",
     "text": [
      "/home/jiang/projects/SubtleGAN/data/brats2021/train/BraTS2021_00404\n"
     ]
    },
    {
     "name": "stderr",
     "output_type": "stream",
     "text": [
      "\n",
      "  0%|          | 0/80 [00:00<?, ?it/s]\u001b[A\n",
      " 15%|█▌        | 12/80 [00:00<00:00, 117.15it/s]\u001b[A\n",
      " 30%|███       | 24/80 [00:00<00:00, 113.14it/s]\u001b[A\n",
      " 45%|████▌     | 36/80 [00:00<00:00, 113.99it/s]\u001b[A\n",
      " 60%|██████    | 48/80 [00:00<00:00, 114.21it/s]\u001b[A\n",
      " 75%|███████▌  | 60/80 [00:00<00:00, 116.04it/s]\u001b[A\n",
      "100%|██████████| 80/80 [00:00<00:00, 116.47it/s]\u001b[A\n",
      " 33%|███▎      | 372/1125 [07:25<17:12,  1.37s/it]"
     ]
    },
    {
     "name": "stdout",
     "output_type": "stream",
     "text": [
      "/home/jiang/projects/SubtleGAN/data/brats2021/train/BraTS2021_00723\n"
     ]
    },
    {
     "name": "stderr",
     "output_type": "stream",
     "text": [
      "\n",
      "  0%|          | 0/80 [00:00<?, ?it/s]\u001b[A\n",
      " 16%|█▋        | 13/80 [00:00<00:00, 120.13it/s]\u001b[A\n",
      " 32%|███▎      | 26/80 [00:00<00:00, 119.84it/s]\u001b[A\n",
      " 48%|████▊     | 38/80 [00:00<00:00, 119.61it/s]\u001b[A\n",
      " 62%|██████▎   | 50/80 [00:00<00:00, 119.08it/s]\u001b[A\n",
      " 78%|███████▊  | 62/80 [00:00<00:00, 118.68it/s]\u001b[A\n",
      "100%|██████████| 80/80 [00:00<00:00, 118.67it/s]\u001b[A\n",
      " 33%|███▎      | 373/1125 [07:26<16:32,  1.32s/it]"
     ]
    },
    {
     "name": "stdout",
     "output_type": "stream",
     "text": [
      "/home/jiang/projects/SubtleGAN/data/brats2021/train/BraTS2021_00416\n"
     ]
    },
    {
     "name": "stderr",
     "output_type": "stream",
     "text": [
      "\n",
      "  0%|          | 0/80 [00:00<?, ?it/s]\u001b[A\n",
      " 15%|█▌        | 12/80 [00:00<00:00, 115.35it/s]\u001b[A\n",
      " 30%|███       | 24/80 [00:00<00:00, 116.99it/s]\u001b[A\n",
      " 45%|████▌     | 36/80 [00:00<00:00, 115.64it/s]\u001b[A\n",
      " 60%|██████    | 48/80 [00:00<00:00, 116.63it/s]\u001b[A\n",
      " 75%|███████▌  | 60/80 [00:00<00:00, 117.18it/s]\u001b[A\n",
      "100%|██████████| 80/80 [00:00<00:00, 116.97it/s]\u001b[A\n",
      " 33%|███▎      | 374/1125 [07:27<16:29,  1.32s/it]"
     ]
    },
    {
     "name": "stdout",
     "output_type": "stream",
     "text": [
      "/home/jiang/projects/SubtleGAN/data/brats2021/train/BraTS2021_01656\n"
     ]
    },
    {
     "name": "stderr",
     "output_type": "stream",
     "text": [
      "\n",
      "  0%|          | 0/80 [00:00<?, ?it/s]\u001b[A\n",
      " 16%|█▋        | 13/80 [00:00<00:00, 123.08it/s]\u001b[A\n",
      " 32%|███▎      | 26/80 [00:00<00:00, 123.81it/s]\u001b[A\n",
      " 49%|████▉     | 39/80 [00:00<00:00, 122.40it/s]\u001b[A\n",
      " 65%|██████▌   | 52/80 [00:00<00:00, 121.40it/s]\u001b[A\n",
      " 81%|████████▏ | 65/80 [00:00<00:00, 118.28it/s]\u001b[A\n",
      "100%|██████████| 80/80 [00:00<00:00, 119.09it/s]\u001b[A\n",
      " 33%|███▎      | 375/1125 [07:29<17:55,  1.43s/it]"
     ]
    },
    {
     "name": "stdout",
     "output_type": "stream",
     "text": [
      "/home/jiang/projects/SubtleGAN/data/brats2021/train/BraTS2021_00220\n"
     ]
    },
    {
     "name": "stderr",
     "output_type": "stream",
     "text": [
      "\n",
      "  0%|          | 0/80 [00:00<?, ?it/s]\u001b[A\n",
      " 16%|█▋        | 13/80 [00:00<00:00, 123.35it/s]\u001b[A\n",
      " 32%|███▎      | 26/80 [00:00<00:00, 124.01it/s]\u001b[A\n",
      " 49%|████▉     | 39/80 [00:00<00:00, 122.38it/s]\u001b[A\n",
      " 65%|██████▌   | 52/80 [00:00<00:00, 123.98it/s]\u001b[A\n",
      " 81%|████████▏ | 65/80 [00:00<00:00, 121.72it/s]\u001b[A\n",
      "100%|██████████| 80/80 [00:00<00:00, 120.60it/s]\u001b[A\n",
      " 33%|███▎      | 376/1125 [07:30<17:11,  1.38s/it]"
     ]
    },
    {
     "name": "stdout",
     "output_type": "stream",
     "text": [
      "/home/jiang/projects/SubtleGAN/data/brats2021/train/BraTS2021_00382\n"
     ]
    },
    {
     "name": "stderr",
     "output_type": "stream",
     "text": [
      "\n",
      "  0%|          | 0/80 [00:00<?, ?it/s]\u001b[A\n",
      " 16%|█▋        | 13/80 [00:00<00:00, 122.08it/s]\u001b[A\n",
      " 32%|███▎      | 26/80 [00:00<00:00, 118.99it/s]\u001b[A\n",
      " 48%|████▊     | 38/80 [00:00<00:00, 118.84it/s]\u001b[A\n",
      " 62%|██████▎   | 50/80 [00:00<00:00, 103.55it/s]\u001b[A\n",
      " 78%|███████▊  | 62/80 [00:00<00:00, 106.14it/s]\u001b[A\n",
      "100%|██████████| 80/80 [00:00<00:00, 110.61it/s]\u001b[A\n",
      " 34%|███▎      | 377/1125 [07:32<17:03,  1.37s/it]"
     ]
    },
    {
     "name": "stdout",
     "output_type": "stream",
     "text": [
      "/home/jiang/projects/SubtleGAN/data/brats2021/train/BraTS2021_01029\n"
     ]
    },
    {
     "name": "stderr",
     "output_type": "stream",
     "text": [
      "\n",
      "  0%|          | 0/80 [00:00<?, ?it/s]\u001b[A\n",
      " 15%|█▌        | 12/80 [00:00<00:00, 116.79it/s]\u001b[A\n",
      " 30%|███       | 24/80 [00:00<00:00, 117.36it/s]\u001b[A\n",
      " 45%|████▌     | 36/80 [00:00<00:00, 116.44it/s]\u001b[A\n",
      " 60%|██████    | 48/80 [00:00<00:00, 116.81it/s]\u001b[A\n",
      " 76%|███████▋  | 61/80 [00:00<00:00, 119.38it/s]\u001b[A\n",
      "100%|██████████| 80/80 [00:00<00:00, 107.53it/s]\u001b[A\n",
      " 34%|███▎      | 378/1125 [07:33<17:04,  1.37s/it]"
     ]
    },
    {
     "name": "stdout",
     "output_type": "stream",
     "text": [
      "/home/jiang/projects/SubtleGAN/data/brats2021/train/BraTS2021_01623\n"
     ]
    },
    {
     "name": "stderr",
     "output_type": "stream",
     "text": [
      "\n",
      "  0%|          | 0/80 [00:00<?, ?it/s]\u001b[A\n",
      " 16%|█▋        | 13/80 [00:00<00:00, 125.68it/s]\u001b[A\n",
      " 32%|███▎      | 26/80 [00:00<00:00, 126.62it/s]\u001b[A\n",
      " 49%|████▉     | 39/80 [00:00<00:00, 123.78it/s]\u001b[A\n",
      " 65%|██████▌   | 52/80 [00:00<00:00, 123.84it/s]\u001b[A\n",
      " 81%|████████▏ | 65/80 [00:00<00:00, 122.54it/s]\u001b[A\n",
      "100%|██████████| 80/80 [00:00<00:00, 122.25it/s]\u001b[A\n",
      " 34%|███▎      | 379/1125 [07:35<18:10,  1.46s/it]"
     ]
    },
    {
     "name": "stdout",
     "output_type": "stream",
     "text": [
      "/home/jiang/projects/SubtleGAN/data/brats2021/train/BraTS2021_01489\n"
     ]
    },
    {
     "name": "stderr",
     "output_type": "stream",
     "text": [
      "\n",
      "  0%|          | 0/80 [00:00<?, ?it/s]\u001b[A\n",
      " 15%|█▌        | 12/80 [00:00<00:00, 117.27it/s]\u001b[A\n",
      " 30%|███       | 24/80 [00:00<00:00, 115.12it/s]\u001b[A\n",
      " 46%|████▋     | 37/80 [00:00<00:00, 118.49it/s]\u001b[A\n",
      " 62%|██████▎   | 50/80 [00:00<00:00, 118.72it/s]\u001b[A\n",
      " 79%|███████▉  | 63/80 [00:00<00:00, 119.11it/s]\u001b[A\n",
      "100%|██████████| 80/80 [00:00<00:00, 117.95it/s]\u001b[A\n",
      " 34%|███▍      | 380/1125 [07:36<17:18,  1.39s/it]"
     ]
    },
    {
     "name": "stdout",
     "output_type": "stream",
     "text": [
      "/home/jiang/projects/SubtleGAN/data/brats2021/train/BraTS2021_01536\n"
     ]
    },
    {
     "name": "stderr",
     "output_type": "stream",
     "text": [
      "\n",
      "  0%|          | 0/80 [00:00<?, ?it/s]\u001b[A\n",
      " 15%|█▌        | 12/80 [00:00<00:00, 113.25it/s]\u001b[A\n",
      " 30%|███       | 24/80 [00:00<00:00, 114.72it/s]\u001b[A\n",
      " 46%|████▋     | 37/80 [00:00<00:00, 118.30it/s]\u001b[A\n",
      " 62%|██████▎   | 50/80 [00:00<00:00, 120.66it/s]\u001b[A\n",
      " 79%|███████▉  | 63/80 [00:00<00:00, 120.65it/s]\u001b[A\n",
      "100%|██████████| 80/80 [00:00<00:00, 119.08it/s]\u001b[A\n",
      " 34%|███▍      | 381/1125 [07:37<16:46,  1.35s/it]"
     ]
    },
    {
     "name": "stdout",
     "output_type": "stream",
     "text": [
      "/home/jiang/projects/SubtleGAN/data/brats2021/train/BraTS2021_01219\n"
     ]
    },
    {
     "name": "stderr",
     "output_type": "stream",
     "text": [
      "\n",
      "  0%|          | 0/80 [00:00<?, ?it/s]\u001b[A\n",
      " 16%|█▋        | 13/80 [00:00<00:00, 121.06it/s]\u001b[A\n",
      " 32%|███▎      | 26/80 [00:00<00:00, 121.01it/s]\u001b[A\n",
      " 49%|████▉     | 39/80 [00:00<00:00, 120.02it/s]\u001b[A\n",
      " 65%|██████▌   | 52/80 [00:00<00:00, 122.05it/s]\u001b[A\n",
      " 81%|████████▏ | 65/80 [00:00<00:00, 120.52it/s]\u001b[A\n",
      "100%|██████████| 80/80 [00:00<00:00, 119.12it/s]\u001b[A\n",
      " 34%|███▍      | 382/1125 [07:38<16:21,  1.32s/it]"
     ]
    },
    {
     "name": "stdout",
     "output_type": "stream",
     "text": [
      "/home/jiang/projects/SubtleGAN/data/brats2021/train/BraTS2021_00397\n"
     ]
    },
    {
     "name": "stderr",
     "output_type": "stream",
     "text": [
      "\n",
      "  0%|          | 0/80 [00:00<?, ?it/s]\u001b[A\n",
      " 16%|█▋        | 13/80 [00:00<00:00, 128.00it/s]\u001b[A\n",
      " 32%|███▎      | 26/80 [00:00<00:00, 125.30it/s]\u001b[A\n",
      " 49%|████▉     | 39/80 [00:00<00:00, 123.04it/s]\u001b[A\n",
      " 65%|██████▌   | 52/80 [00:00<00:00, 120.84it/s]\u001b[A\n",
      " 81%|████████▏ | 65/80 [00:00<00:00, 122.63it/s]\u001b[A\n",
      "100%|██████████| 80/80 [00:00<00:00, 120.91it/s]\u001b[A\n",
      " 34%|███▍      | 383/1125 [07:40<15:50,  1.28s/it]"
     ]
    },
    {
     "name": "stdout",
     "output_type": "stream",
     "text": [
      "/home/jiang/projects/SubtleGAN/data/brats2021/train/BraTS2021_01026\n"
     ]
    },
    {
     "name": "stderr",
     "output_type": "stream",
     "text": [
      "\n",
      "  0%|          | 0/80 [00:00<?, ?it/s]\u001b[A\n",
      " 16%|█▋        | 13/80 [00:00<00:00, 129.81it/s]\u001b[A\n",
      " 32%|███▎      | 26/80 [00:00<00:00, 122.96it/s]\u001b[A\n",
      " 49%|████▉     | 39/80 [00:00<00:00, 121.38it/s]\u001b[A\n",
      " 65%|██████▌   | 52/80 [00:00<00:00, 119.96it/s]\u001b[A\n",
      " 81%|████████▏ | 65/80 [00:00<00:00, 119.98it/s]\u001b[A\n",
      "100%|██████████| 80/80 [00:00<00:00, 120.41it/s]\u001b[A\n",
      " 34%|███▍      | 384/1125 [07:41<15:43,  1.27s/it]"
     ]
    },
    {
     "name": "stdout",
     "output_type": "stream",
     "text": [
      "/home/jiang/projects/SubtleGAN/data/brats2021/train/BraTS2021_01546\n"
     ]
    },
    {
     "name": "stderr",
     "output_type": "stream",
     "text": [
      "\n",
      "  0%|          | 0/80 [00:00<?, ?it/s]\u001b[A\n",
      " 16%|█▋        | 13/80 [00:00<00:00, 123.94it/s]\u001b[A\n",
      " 32%|███▎      | 26/80 [00:00<00:00, 121.09it/s]\u001b[A\n",
      " 49%|████▉     | 39/80 [00:00<00:00, 117.09it/s]\u001b[A\n",
      " 64%|██████▍   | 51/80 [00:00<00:00, 116.83it/s]\u001b[A\n",
      " 80%|████████  | 64/80 [00:00<00:00, 118.46it/s]\u001b[A\n",
      "100%|██████████| 80/80 [00:00<00:00, 118.68it/s]\u001b[A\n",
      " 34%|███▍      | 385/1125 [07:43<17:23,  1.41s/it]"
     ]
    },
    {
     "name": "stdout",
     "output_type": "stream",
     "text": [
      "/home/jiang/projects/SubtleGAN/data/brats2021/train/BraTS2021_01175\n"
     ]
    },
    {
     "name": "stderr",
     "output_type": "stream",
     "text": [
      "\n",
      "  0%|          | 0/80 [00:00<?, ?it/s]\u001b[A\n",
      " 15%|█▌        | 12/80 [00:00<00:00, 118.08it/s]\u001b[A\n",
      " 31%|███▏      | 25/80 [00:00<00:00, 122.26it/s]\u001b[A\n",
      " 48%|████▊     | 38/80 [00:00<00:00, 118.23it/s]\u001b[A\n",
      " 62%|██████▎   | 50/80 [00:00<00:00, 117.55it/s]\u001b[A\n",
      " 78%|███████▊  | 62/80 [00:00<00:00, 117.60it/s]\u001b[A\n",
      "100%|██████████| 80/80 [00:00<00:00, 117.38it/s]\u001b[A\n",
      " 34%|███▍      | 386/1125 [07:44<16:48,  1.37s/it]"
     ]
    },
    {
     "name": "stdout",
     "output_type": "stream",
     "text": [
      "/home/jiang/projects/SubtleGAN/data/brats2021/train/BraTS2021_01528\n"
     ]
    },
    {
     "name": "stderr",
     "output_type": "stream",
     "text": [
      "\n",
      "  0%|          | 0/80 [00:00<?, ?it/s]\u001b[A\n",
      " 15%|█▌        | 12/80 [00:00<00:00, 119.23it/s]\u001b[A\n",
      " 30%|███       | 24/80 [00:00<00:00, 115.80it/s]\u001b[A\n",
      " 45%|████▌     | 36/80 [00:00<00:00, 116.11it/s]\u001b[A\n",
      " 60%|██████    | 48/80 [00:00<00:00, 116.64it/s]\u001b[A\n",
      " 76%|███████▋  | 61/80 [00:00<00:00, 117.95it/s]\u001b[A\n",
      "100%|██████████| 80/80 [00:00<00:00, 117.18it/s]\u001b[A\n",
      " 34%|███▍      | 387/1125 [07:45<16:34,  1.35s/it]"
     ]
    },
    {
     "name": "stdout",
     "output_type": "stream",
     "text": [
      "/home/jiang/projects/SubtleGAN/data/brats2021/train/BraTS2021_01405\n"
     ]
    },
    {
     "name": "stderr",
     "output_type": "stream",
     "text": [
      "\n",
      "  0%|          | 0/80 [00:00<?, ?it/s]\u001b[A\n",
      " 16%|█▋        | 13/80 [00:00<00:00, 129.54it/s]\u001b[A\n",
      " 32%|███▎      | 26/80 [00:00<00:00, 122.47it/s]\u001b[A\n",
      " 49%|████▉     | 39/80 [00:00<00:00, 123.86it/s]\u001b[A\n",
      " 65%|██████▌   | 52/80 [00:00<00:00, 125.14it/s]\u001b[A\n",
      " 81%|████████▏ | 65/80 [00:00<00:00, 123.43it/s]\u001b[A\n",
      "100%|██████████| 80/80 [00:00<00:00, 123.13it/s]\u001b[A\n",
      " 34%|███▍      | 388/1125 [07:46<16:12,  1.32s/it]"
     ]
    },
    {
     "name": "stdout",
     "output_type": "stream",
     "text": [
      "/home/jiang/projects/SubtleGAN/data/brats2021/train/BraTS2021_01567\n"
     ]
    },
    {
     "name": "stderr",
     "output_type": "stream",
     "text": [
      "\n",
      "  0%|          | 0/80 [00:00<?, ?it/s]\u001b[A\n",
      " 16%|█▋        | 13/80 [00:00<00:00, 123.99it/s]\u001b[A\n",
      " 32%|███▎      | 26/80 [00:00<00:00, 122.44it/s]\u001b[A\n",
      " 49%|████▉     | 39/80 [00:00<00:00, 122.71it/s]\u001b[A\n",
      " 65%|██████▌   | 52/80 [00:00<00:00, 122.44it/s]\u001b[A\n",
      " 81%|████████▏ | 65/80 [00:00<00:00, 123.09it/s]\u001b[A\n",
      "100%|██████████| 80/80 [00:00<00:00, 121.80it/s]\u001b[A\n",
      " 35%|███▍      | 389/1125 [07:48<17:28,  1.42s/it]"
     ]
    },
    {
     "name": "stdout",
     "output_type": "stream",
     "text": [
      "/home/jiang/projects/SubtleGAN/data/brats2021/train/BraTS2021_00469\n"
     ]
    },
    {
     "name": "stderr",
     "output_type": "stream",
     "text": [
      "\n",
      "  0%|          | 0/80 [00:00<?, ?it/s]\u001b[A\n",
      " 16%|█▋        | 13/80 [00:00<00:00, 124.61it/s]\u001b[A\n",
      " 32%|███▎      | 26/80 [00:00<00:00, 121.50it/s]\u001b[A\n",
      " 49%|████▉     | 39/80 [00:00<00:00, 122.41it/s]\u001b[A\n",
      " 65%|██████▌   | 52/80 [00:00<00:00, 120.18it/s]\u001b[A\n",
      " 81%|████████▏ | 65/80 [00:00<00:00, 122.06it/s]\u001b[A\n",
      "100%|██████████| 80/80 [00:00<00:00, 120.00it/s]\u001b[A\n",
      " 35%|███▍      | 390/1125 [07:49<16:27,  1.34s/it]"
     ]
    },
    {
     "name": "stdout",
     "output_type": "stream",
     "text": [
      "/home/jiang/projects/SubtleGAN/data/brats2021/train/BraTS2021_01569\n"
     ]
    },
    {
     "name": "stderr",
     "output_type": "stream",
     "text": [
      "\n",
      "  0%|          | 0/80 [00:00<?, ?it/s]\u001b[A\n",
      " 16%|█▋        | 13/80 [00:00<00:00, 127.94it/s]\u001b[A\n",
      " 32%|███▎      | 26/80 [00:00<00:00, 124.52it/s]\u001b[A\n",
      " 49%|████▉     | 39/80 [00:00<00:00, 122.97it/s]\u001b[A\n",
      " 65%|██████▌   | 52/80 [00:00<00:00, 122.60it/s]\u001b[A\n",
      " 81%|████████▏ | 65/80 [00:00<00:00, 122.14it/s]\u001b[A\n",
      "100%|██████████| 80/80 [00:00<00:00, 121.61it/s]\u001b[A\n",
      " 35%|███▍      | 391/1125 [07:51<17:38,  1.44s/it]"
     ]
    },
    {
     "name": "stdout",
     "output_type": "stream",
     "text": [
      "/home/jiang/projects/SubtleGAN/data/brats2021/train/BraTS2021_01573\n"
     ]
    },
    {
     "name": "stderr",
     "output_type": "stream",
     "text": [
      "\n",
      "  0%|          | 0/80 [00:00<?, ?it/s]\u001b[A\n",
      " 15%|█▌        | 12/80 [00:00<00:00, 117.50it/s]\u001b[A\n",
      " 30%|███       | 24/80 [00:00<00:00, 115.61it/s]\u001b[A\n",
      " 45%|████▌     | 36/80 [00:00<00:00, 111.25it/s]\u001b[A\n",
      " 61%|██████▏   | 49/80 [00:00<00:00, 115.29it/s]\u001b[A\n",
      " 76%|███████▋  | 61/80 [00:00<00:00, 116.84it/s]\u001b[A\n",
      "100%|██████████| 80/80 [00:00<00:00, 114.92it/s]\u001b[A\n",
      " 35%|███▍      | 392/1125 [07:53<18:29,  1.51s/it]"
     ]
    },
    {
     "name": "stdout",
     "output_type": "stream",
     "text": [
      "/home/jiang/projects/SubtleGAN/data/brats2021/train/BraTS2021_01433\n"
     ]
    },
    {
     "name": "stderr",
     "output_type": "stream",
     "text": [
      "\n",
      "  0%|          | 0/80 [00:00<?, ?it/s]\u001b[A\n",
      " 15%|█▌        | 12/80 [00:00<00:00, 116.51it/s]\u001b[A\n",
      " 30%|███       | 24/80 [00:00<00:00, 116.99it/s]\u001b[A\n",
      " 45%|████▌     | 36/80 [00:00<00:00, 117.91it/s]\u001b[A\n",
      " 60%|██████    | 48/80 [00:00<00:00, 118.01it/s]\u001b[A\n",
      " 75%|███████▌  | 60/80 [00:00<00:00, 117.92it/s]\u001b[A\n",
      "100%|██████████| 80/80 [00:00<00:00, 118.59it/s]\u001b[A\n",
      " 35%|███▍      | 393/1125 [07:54<17:36,  1.44s/it]"
     ]
    },
    {
     "name": "stdout",
     "output_type": "stream",
     "text": [
      "/home/jiang/projects/SubtleGAN/data/brats2021/train/BraTS2021_00795\n"
     ]
    },
    {
     "name": "stderr",
     "output_type": "stream",
     "text": [
      "\n",
      "  0%|          | 0/80 [00:00<?, ?it/s]\u001b[A\n",
      " 16%|█▋        | 13/80 [00:00<00:00, 128.39it/s]\u001b[A\n",
      " 32%|███▎      | 26/80 [00:00<00:00, 123.90it/s]\u001b[A\n",
      " 49%|████▉     | 39/80 [00:00<00:00, 121.72it/s]\u001b[A\n",
      " 65%|██████▌   | 52/80 [00:00<00:00, 121.60it/s]\u001b[A\n",
      " 81%|████████▏ | 65/80 [00:00<00:00, 121.69it/s]\u001b[A\n",
      "100%|██████████| 80/80 [00:00<00:00, 120.31it/s]\u001b[A\n",
      " 35%|███▌      | 394/1125 [07:56<18:30,  1.52s/it]"
     ]
    },
    {
     "name": "stdout",
     "output_type": "stream",
     "text": [
      "/home/jiang/projects/SubtleGAN/data/brats2021/train/BraTS2021_00360\n"
     ]
    },
    {
     "name": "stderr",
     "output_type": "stream",
     "text": [
      "\n",
      "  0%|          | 0/80 [00:00<?, ?it/s]\u001b[A\n",
      " 16%|█▋        | 13/80 [00:00<00:00, 125.43it/s]\u001b[A\n",
      " 32%|███▎      | 26/80 [00:00<00:00, 120.98it/s]\u001b[A\n",
      " 49%|████▉     | 39/80 [00:00<00:00, 122.82it/s]\u001b[A\n",
      " 65%|██████▌   | 52/80 [00:00<00:00, 121.56it/s]\u001b[A\n",
      " 81%|████████▏ | 65/80 [00:00<00:00, 122.64it/s]\u001b[A\n",
      "100%|██████████| 80/80 [00:00<00:00, 121.28it/s]\u001b[A\n",
      " 35%|███▌      | 395/1125 [07:57<17:27,  1.44s/it]"
     ]
    },
    {
     "name": "stdout",
     "output_type": "stream",
     "text": [
      "/home/jiang/projects/SubtleGAN/data/brats2021/train/BraTS2021_01066\n"
     ]
    },
    {
     "name": "stderr",
     "output_type": "stream",
     "text": [
      "\n",
      "  0%|          | 0/80 [00:00<?, ?it/s]\u001b[A\n",
      " 16%|█▋        | 13/80 [00:00<00:00, 124.57it/s]\u001b[A\n",
      " 32%|███▎      | 26/80 [00:00<00:00, 125.53it/s]\u001b[A\n",
      " 49%|████▉     | 39/80 [00:00<00:00, 126.26it/s]\u001b[A\n",
      " 65%|██████▌   | 52/80 [00:00<00:00, 124.94it/s]\u001b[A\n",
      " 81%|████████▏ | 65/80 [00:00<00:00, 124.49it/s]\u001b[A\n",
      "100%|██████████| 80/80 [00:00<00:00, 122.31it/s]\u001b[A\n",
      " 35%|███▌      | 396/1125 [07:58<16:46,  1.38s/it]"
     ]
    },
    {
     "name": "stdout",
     "output_type": "stream",
     "text": [
      "/home/jiang/projects/SubtleGAN/data/brats2021/train/BraTS2021_00479\n"
     ]
    },
    {
     "name": "stderr",
     "output_type": "stream",
     "text": [
      "\n",
      "  0%|          | 0/80 [00:00<?, ?it/s]\u001b[A\n",
      " 16%|█▋        | 13/80 [00:00<00:00, 123.73it/s]\u001b[A\n",
      " 32%|███▎      | 26/80 [00:00<00:00, 124.49it/s]\u001b[A\n",
      " 49%|████▉     | 39/80 [00:00<00:00, 122.39it/s]\u001b[A\n",
      " 65%|██████▌   | 52/80 [00:00<00:00, 121.29it/s]\u001b[A\n",
      " 81%|████████▏ | 65/80 [00:00<00:00, 119.78it/s]\u001b[A\n",
      "100%|██████████| 80/80 [00:00<00:00, 117.97it/s]\u001b[A\n",
      " 35%|███▌      | 397/1125 [07:59<16:00,  1.32s/it]"
     ]
    },
    {
     "name": "stdout",
     "output_type": "stream",
     "text": [
      "/home/jiang/projects/SubtleGAN/data/brats2021/train/BraTS2021_01246\n"
     ]
    },
    {
     "name": "stderr",
     "output_type": "stream",
     "text": [
      "\n",
      "  0%|          | 0/80 [00:00<?, ?it/s]\u001b[A\n",
      " 16%|█▋        | 13/80 [00:00<00:00, 118.27it/s]\u001b[A\n",
      " 32%|███▎      | 26/80 [00:00<00:00, 122.06it/s]\u001b[A\n",
      " 49%|████▉     | 39/80 [00:00<00:00, 118.79it/s]\u001b[A\n",
      " 64%|██████▍   | 51/80 [00:00<00:00, 113.40it/s]\u001b[A\n",
      " 79%|███████▉  | 63/80 [00:00<00:00, 113.42it/s]\u001b[A\n",
      "100%|██████████| 80/80 [00:00<00:00, 115.53it/s]\u001b[A\n",
      " 35%|███▌      | 398/1125 [08:01<15:53,  1.31s/it]"
     ]
    },
    {
     "name": "stdout",
     "output_type": "stream",
     "text": [
      "/home/jiang/projects/SubtleGAN/data/brats2021/train/BraTS2021_01264\n"
     ]
    },
    {
     "name": "stderr",
     "output_type": "stream",
     "text": [
      "\n",
      "  0%|          | 0/80 [00:00<?, ?it/s]\u001b[A\n",
      " 16%|█▋        | 13/80 [00:00<00:00, 126.16it/s]\u001b[A\n",
      " 32%|███▎      | 26/80 [00:00<00:00, 119.99it/s]\u001b[A\n",
      " 49%|████▉     | 39/80 [00:00<00:00, 117.11it/s]\u001b[A\n",
      " 65%|██████▌   | 52/80 [00:00<00:00, 118.72it/s]\u001b[A\n",
      " 80%|████████  | 64/80 [00:00<00:00, 115.11it/s]\u001b[A\n",
      "100%|██████████| 80/80 [00:00<00:00, 116.08it/s]\u001b[A\n",
      " 35%|███▌      | 399/1125 [08:02<15:41,  1.30s/it]"
     ]
    },
    {
     "name": "stdout",
     "output_type": "stream",
     "text": [
      "/home/jiang/projects/SubtleGAN/data/brats2021/train/BraTS2021_00103\n"
     ]
    },
    {
     "name": "stderr",
     "output_type": "stream",
     "text": [
      "\n",
      "  0%|          | 0/80 [00:00<?, ?it/s]\u001b[A\n",
      " 15%|█▌        | 12/80 [00:00<00:00, 112.52it/s]\u001b[A\n",
      " 30%|███       | 24/80 [00:00<00:00, 109.53it/s]\u001b[A\n",
      " 44%|████▍     | 35/80 [00:00<00:00, 109.07it/s]\u001b[A\n",
      " 59%|█████▉    | 47/80 [00:00<00:00, 112.65it/s]\u001b[A\n",
      " 74%|███████▍  | 59/80 [00:00<00:00, 113.93it/s]\u001b[A\n",
      "100%|██████████| 80/80 [00:00<00:00, 112.41it/s]\u001b[A\n",
      " 36%|███▌      | 400/1125 [08:03<15:39,  1.30s/it]"
     ]
    },
    {
     "name": "stdout",
     "output_type": "stream",
     "text": [
      "/home/jiang/projects/SubtleGAN/data/brats2021/train/BraTS2021_01444\n"
     ]
    },
    {
     "name": "stderr",
     "output_type": "stream",
     "text": [
      "\n",
      "  0%|          | 0/80 [00:00<?, ?it/s]\u001b[A\n",
      " 16%|█▋        | 13/80 [00:00<00:00, 124.37it/s]\u001b[A\n",
      " 32%|███▎      | 26/80 [00:00<00:00, 119.54it/s]\u001b[A\n",
      " 49%|████▉     | 39/80 [00:00<00:00, 120.78it/s]\u001b[A\n",
      " 65%|██████▌   | 52/80 [00:00<00:00, 118.28it/s]\u001b[A\n",
      " 81%|████████▏ | 65/80 [00:00<00:00, 120.93it/s]\u001b[A\n",
      "100%|██████████| 80/80 [00:00<00:00, 118.52it/s]\u001b[A\n",
      " 36%|███▌      | 401/1125 [08:04<15:35,  1.29s/it]"
     ]
    },
    {
     "name": "stdout",
     "output_type": "stream",
     "text": [
      "/home/jiang/projects/SubtleGAN/data/brats2021/train/BraTS2021_01352\n"
     ]
    },
    {
     "name": "stderr",
     "output_type": "stream",
     "text": [
      "\n",
      "  0%|          | 0/80 [00:00<?, ?it/s]\u001b[A\n",
      " 16%|█▋        | 13/80 [00:00<00:00, 119.37it/s]\u001b[A\n",
      " 31%|███▏      | 25/80 [00:00<00:00, 116.09it/s]\u001b[A\n",
      " 46%|████▋     | 37/80 [00:00<00:00, 113.47it/s]\u001b[A\n",
      " 61%|██████▏   | 49/80 [00:00<00:00, 115.16it/s]\u001b[A\n",
      " 78%|███████▊  | 62/80 [00:00<00:00, 118.06it/s]\u001b[A\n",
      "100%|██████████| 80/80 [00:00<00:00, 116.38it/s]\u001b[A\n",
      " 36%|███▌      | 402/1125 [08:06<15:26,  1.28s/it]"
     ]
    },
    {
     "name": "stdout",
     "output_type": "stream",
     "text": [
      "/home/jiang/projects/SubtleGAN/data/brats2021/train/BraTS2021_00299\n"
     ]
    },
    {
     "name": "stderr",
     "output_type": "stream",
     "text": [
      "\n",
      "  0%|          | 0/80 [00:00<?, ?it/s]\u001b[A\n",
      " 16%|█▋        | 13/80 [00:00<00:00, 124.52it/s]\u001b[A\n",
      " 32%|███▎      | 26/80 [00:00<00:00, 115.87it/s]\u001b[A\n",
      " 49%|████▉     | 39/80 [00:00<00:00, 119.05it/s]\u001b[A\n",
      " 64%|██████▍   | 51/80 [00:00<00:00, 118.06it/s]\u001b[A\n",
      " 80%|████████  | 64/80 [00:00<00:00, 119.92it/s]\u001b[A\n",
      "100%|██████████| 80/80 [00:00<00:00, 118.12it/s]\u001b[A\n",
      " 36%|███▌      | 403/1125 [08:07<15:22,  1.28s/it]"
     ]
    },
    {
     "name": "stdout",
     "output_type": "stream",
     "text": [
      "/home/jiang/projects/SubtleGAN/data/brats2021/train/BraTS2021_01575\n"
     ]
    },
    {
     "name": "stderr",
     "output_type": "stream",
     "text": [
      "\n",
      "  0%|          | 0/80 [00:00<?, ?it/s]\u001b[A\n",
      " 15%|█▌        | 12/80 [00:00<00:00, 114.98it/s]\u001b[A\n",
      " 31%|███▏      | 25/80 [00:00<00:00, 120.96it/s]\u001b[A\n",
      " 48%|████▊     | 38/80 [00:00<00:00, 119.69it/s]\u001b[A\n",
      " 62%|██████▎   | 50/80 [00:00<00:00, 119.34it/s]\u001b[A\n",
      " 78%|███████▊  | 62/80 [00:00<00:00, 116.11it/s]\u001b[A\n",
      "100%|██████████| 80/80 [00:00<00:00, 113.63it/s]\u001b[A\n",
      " 36%|███▌      | 404/1125 [08:09<16:53,  1.41s/it]"
     ]
    },
    {
     "name": "stdout",
     "output_type": "stream",
     "text": [
      "/home/jiang/projects/SubtleGAN/data/brats2021/train/BraTS2021_00494\n"
     ]
    },
    {
     "name": "stderr",
     "output_type": "stream",
     "text": [
      "\n",
      "  0%|          | 0/80 [00:00<?, ?it/s]\u001b[A\n",
      " 15%|█▌        | 12/80 [00:00<00:00, 112.99it/s]\u001b[A\n",
      " 30%|███       | 24/80 [00:00<00:00, 116.27it/s]\u001b[A\n",
      " 45%|████▌     | 36/80 [00:00<00:00, 113.80it/s]\u001b[A\n",
      " 61%|██████▏   | 49/80 [00:00<00:00, 117.87it/s]\u001b[A\n",
      " 76%|███████▋  | 61/80 [00:00<00:00, 117.75it/s]\u001b[A\n",
      "100%|██████████| 80/80 [00:00<00:00, 116.73it/s]\u001b[A\n",
      " 36%|███▌      | 405/1125 [08:10<16:07,  1.34s/it]"
     ]
    },
    {
     "name": "stdout",
     "output_type": "stream",
     "text": [
      "/home/jiang/projects/SubtleGAN/data/brats2021/train/BraTS2021_01455\n"
     ]
    },
    {
     "name": "stderr",
     "output_type": "stream",
     "text": [
      "\n",
      "  0%|          | 0/80 [00:00<?, ?it/s]\u001b[A\n",
      " 14%|█▍        | 11/80 [00:00<00:00, 107.79it/s]\u001b[A\n",
      " 29%|██▉       | 23/80 [00:00<00:00, 113.07it/s]\u001b[A\n",
      " 44%|████▍     | 35/80 [00:00<00:00, 107.02it/s]\u001b[A\n",
      " 59%|█████▉    | 47/80 [00:00<00:00, 110.98it/s]\u001b[A\n",
      " 75%|███████▌  | 60/80 [00:00<00:00, 115.81it/s]\u001b[A\n",
      "100%|██████████| 80/80 [00:00<00:00, 115.10it/s]\u001b[A\n",
      " 36%|███▌      | 406/1125 [08:11<16:10,  1.35s/it]"
     ]
    },
    {
     "name": "stdout",
     "output_type": "stream",
     "text": [
      "/home/jiang/projects/SubtleGAN/data/brats2021/train/BraTS2021_01289\n"
     ]
    },
    {
     "name": "stderr",
     "output_type": "stream",
     "text": [
      "\n",
      "  0%|          | 0/80 [00:00<?, ?it/s]\u001b[A\n",
      " 16%|█▋        | 13/80 [00:00<00:00, 123.35it/s]\u001b[A\n",
      " 32%|███▎      | 26/80 [00:00<00:00, 114.51it/s]\u001b[A\n",
      " 48%|████▊     | 38/80 [00:00<00:00, 113.41it/s]\u001b[A\n",
      " 62%|██████▎   | 50/80 [00:00<00:00, 110.01it/s]\u001b[A\n",
      " 78%|███████▊  | 62/80 [00:00<00:00, 107.77it/s]\u001b[A\n",
      "100%|██████████| 80/80 [00:00<00:00, 111.40it/s]\u001b[A\n",
      " 36%|███▌      | 407/1125 [08:12<16:08,  1.35s/it]"
     ]
    },
    {
     "name": "stdout",
     "output_type": "stream",
     "text": [
      "/home/jiang/projects/SubtleGAN/data/brats2021/train/BraTS2021_01395\n"
     ]
    },
    {
     "name": "stderr",
     "output_type": "stream",
     "text": [
      "\n",
      "  0%|          | 0/80 [00:00<?, ?it/s]\u001b[A\n",
      " 15%|█▌        | 12/80 [00:00<00:00, 116.80it/s]\u001b[A\n",
      " 30%|███       | 24/80 [00:00<00:00, 116.00it/s]\u001b[A\n",
      " 45%|████▌     | 36/80 [00:00<00:00, 116.99it/s]\u001b[A\n",
      " 60%|██████    | 48/80 [00:00<00:00, 114.82it/s]\u001b[A\n",
      " 75%|███████▌  | 60/80 [00:00<00:00, 114.52it/s]\u001b[A\n",
      "100%|██████████| 80/80 [00:00<00:00, 115.33it/s]\u001b[A\n",
      " 36%|███▋      | 408/1125 [08:14<16:00,  1.34s/it]"
     ]
    },
    {
     "name": "stdout",
     "output_type": "stream",
     "text": [
      "/home/jiang/projects/SubtleGAN/data/brats2021/train/BraTS2021_01534\n"
     ]
    },
    {
     "name": "stderr",
     "output_type": "stream",
     "text": [
      "\n",
      "  0%|          | 0/80 [00:00<?, ?it/s]\u001b[A\n",
      " 16%|█▋        | 13/80 [00:00<00:00, 125.02it/s]\u001b[A\n",
      " 32%|███▎      | 26/80 [00:00<00:00, 123.57it/s]\u001b[A\n",
      " 49%|████▉     | 39/80 [00:00<00:00, 118.58it/s]\u001b[A\n",
      " 64%|██████▍   | 51/80 [00:00<00:00, 116.12it/s]\u001b[A\n",
      " 79%|███████▉  | 63/80 [00:00<00:00, 115.48it/s]\u001b[A\n",
      "100%|██████████| 80/80 [00:00<00:00, 116.44it/s]\u001b[A\n",
      " 36%|███▋      | 409/1125 [08:15<15:49,  1.33s/it]"
     ]
    },
    {
     "name": "stdout",
     "output_type": "stream",
     "text": [
      "/home/jiang/projects/SubtleGAN/data/brats2021/train/BraTS2021_00432\n"
     ]
    },
    {
     "name": "stderr",
     "output_type": "stream",
     "text": [
      "\n",
      "  0%|          | 0/80 [00:00<?, ?it/s]\u001b[A\n",
      " 18%|█▊        | 14/80 [00:00<00:00, 131.74it/s]\u001b[A\n",
      " 35%|███▌      | 28/80 [00:00<00:00, 124.08it/s]\u001b[A\n",
      " 51%|█████▏    | 41/80 [00:00<00:00, 124.10it/s]\u001b[A\n",
      " 68%|██████▊   | 54/80 [00:00<00:00, 121.12it/s]\u001b[A\n",
      " 84%|████████▍ | 67/80 [00:00<00:00, 116.38it/s]\u001b[A\n",
      "100%|██████████| 80/80 [00:00<00:00, 119.54it/s]\u001b[A\n",
      " 36%|███▋      | 410/1125 [08:16<15:25,  1.29s/it]"
     ]
    },
    {
     "name": "stdout",
     "output_type": "stream",
     "text": [
      "/home/jiang/projects/SubtleGAN/data/brats2021/train/BraTS2021_00840\n"
     ]
    },
    {
     "name": "stderr",
     "output_type": "stream",
     "text": [
      "\n",
      "  0%|          | 0/80 [00:00<?, ?it/s]\u001b[A\n",
      " 16%|█▋        | 13/80 [00:00<00:00, 123.87it/s]\u001b[A\n",
      " 32%|███▎      | 26/80 [00:00<00:00, 123.68it/s]\u001b[A\n",
      " 49%|████▉     | 39/80 [00:00<00:00, 124.64it/s]\u001b[A\n",
      " 65%|██████▌   | 52/80 [00:00<00:00, 123.69it/s]\u001b[A\n",
      " 81%|████████▏ | 65/80 [00:00<00:00, 122.89it/s]\u001b[A\n",
      "100%|██████████| 80/80 [00:00<00:00, 121.98it/s]\u001b[A\n",
      " 37%|███▋      | 411/1125 [08:18<15:31,  1.31s/it]"
     ]
    },
    {
     "name": "stdout",
     "output_type": "stream",
     "text": [
      "/home/jiang/projects/SubtleGAN/data/brats2021/train/BraTS2021_01557\n"
     ]
    },
    {
     "name": "stderr",
     "output_type": "stream",
     "text": [
      "\n",
      "  0%|          | 0/80 [00:00<?, ?it/s]\u001b[A\n",
      " 16%|█▋        | 13/80 [00:00<00:00, 125.75it/s]\u001b[A\n",
      " 32%|███▎      | 26/80 [00:00<00:00, 126.23it/s]\u001b[A\n",
      " 49%|████▉     | 39/80 [00:00<00:00, 120.00it/s]\u001b[A\n",
      " 65%|██████▌   | 52/80 [00:00<00:00, 119.78it/s]\u001b[A\n",
      " 80%|████████  | 64/80 [00:00<00:00, 116.52it/s]\u001b[A\n",
      "100%|██████████| 80/80 [00:00<00:00, 117.63it/s]\u001b[A\n",
      " 37%|███▋      | 412/1125 [08:19<16:53,  1.42s/it]"
     ]
    },
    {
     "name": "stdout",
     "output_type": "stream",
     "text": [
      "/home/jiang/projects/SubtleGAN/data/brats2021/train/BraTS2021_00571\n"
     ]
    },
    {
     "name": "stderr",
     "output_type": "stream",
     "text": [
      "\n",
      "  0%|          | 0/80 [00:00<?, ?it/s]\u001b[A\n",
      " 16%|█▋        | 13/80 [00:00<00:00, 125.94it/s]\u001b[A\n",
      " 32%|███▎      | 26/80 [00:00<00:00, 122.58it/s]\u001b[A\n",
      " 49%|████▉     | 39/80 [00:00<00:00, 121.76it/s]\u001b[A\n",
      " 65%|██████▌   | 52/80 [00:00<00:00, 120.03it/s]\u001b[A\n",
      " 81%|████████▏ | 65/80 [00:00<00:00, 120.43it/s]\u001b[A\n",
      "100%|██████████| 80/80 [00:00<00:00, 118.42it/s]\u001b[A\n",
      " 37%|███▋      | 413/1125 [08:21<17:35,  1.48s/it]"
     ]
    },
    {
     "name": "stdout",
     "output_type": "stream",
     "text": [
      "/home/jiang/projects/SubtleGAN/data/brats2021/train/BraTS2021_01072\n"
     ]
    },
    {
     "name": "stderr",
     "output_type": "stream",
     "text": [
      "\n",
      "  0%|          | 0/80 [00:00<?, ?it/s]\u001b[A\n",
      " 18%|█▊        | 14/80 [00:00<00:00, 130.34it/s]\u001b[A\n",
      " 35%|███▌      | 28/80 [00:00<00:00, 123.44it/s]\u001b[A\n",
      " 51%|█████▏    | 41/80 [00:00<00:00, 120.86it/s]\u001b[A\n",
      " 68%|██████▊   | 54/80 [00:00<00:00, 117.97it/s]\u001b[A\n",
      " 82%|████████▎ | 66/80 [00:00<00:00, 96.72it/s] \u001b[A\n",
      "100%|██████████| 80/80 [00:00<00:00, 92.77it/s]\u001b[A\n",
      " 37%|███▋      | 414/1125 [08:22<17:24,  1.47s/it]"
     ]
    },
    {
     "name": "stdout",
     "output_type": "stream",
     "text": [
      "/home/jiang/projects/SubtleGAN/data/brats2021/train/BraTS2021_00008\n"
     ]
    },
    {
     "name": "stderr",
     "output_type": "stream",
     "text": [
      "\n",
      "  0%|          | 0/80 [00:00<?, ?it/s]\u001b[A\n",
      " 15%|█▌        | 12/80 [00:00<00:00, 117.53it/s]\u001b[A\n",
      " 31%|███▏      | 25/80 [00:00<00:00, 123.53it/s]\u001b[A\n",
      " 48%|████▊     | 38/80 [00:00<00:00, 117.62it/s]\u001b[A\n",
      " 62%|██████▎   | 50/80 [00:00<00:00, 116.77it/s]\u001b[A\n",
      " 78%|███████▊  | 62/80 [00:00<00:00, 115.96it/s]\u001b[A\n",
      "100%|██████████| 80/80 [00:00<00:00, 117.15it/s]\u001b[A\n",
      " 37%|███▋      | 415/1125 [08:24<16:24,  1.39s/it]"
     ]
    },
    {
     "name": "stdout",
     "output_type": "stream",
     "text": [
      "/home/jiang/projects/SubtleGAN/data/brats2021/train/BraTS2021_00089\n"
     ]
    },
    {
     "name": "stderr",
     "output_type": "stream",
     "text": [
      "\n",
      "  0%|          | 0/80 [00:00<?, ?it/s]\u001b[A\n",
      " 15%|█▌        | 12/80 [00:00<00:00, 112.66it/s]\u001b[A\n",
      " 30%|███       | 24/80 [00:00<00:00, 110.03it/s]\u001b[A\n",
      " 45%|████▌     | 36/80 [00:00<00:00, 112.46it/s]\u001b[A\n",
      " 61%|██████▏   | 49/80 [00:00<00:00, 115.37it/s]\u001b[A\n",
      " 76%|███████▋  | 61/80 [00:00<00:00, 114.01it/s]\u001b[A\n",
      "100%|██████████| 80/80 [00:00<00:00, 110.20it/s]\u001b[A\n",
      " 37%|███▋      | 416/1125 [08:25<15:53,  1.34s/it]"
     ]
    },
    {
     "name": "stdout",
     "output_type": "stream",
     "text": [
      "/home/jiang/projects/SubtleGAN/data/brats2021/train/BraTS2021_00349\n"
     ]
    },
    {
     "name": "stderr",
     "output_type": "stream",
     "text": [
      "\n",
      "  0%|          | 0/80 [00:00<?, ?it/s]\u001b[A\n",
      " 15%|█▌        | 12/80 [00:00<00:00, 118.29it/s]\u001b[A\n",
      " 31%|███▏      | 25/80 [00:00<00:00, 122.25it/s]\u001b[A\n",
      " 48%|████▊     | 38/80 [00:00<00:00, 121.89it/s]\u001b[A\n",
      " 64%|██████▍   | 51/80 [00:00<00:00, 121.17it/s]\u001b[A\n",
      " 80%|████████  | 64/80 [00:00<00:00, 119.29it/s]\u001b[A\n",
      "100%|██████████| 80/80 [00:00<00:00, 117.62it/s]\u001b[A\n",
      " 37%|███▋      | 417/1125 [08:26<15:46,  1.34s/it]"
     ]
    },
    {
     "name": "stdout",
     "output_type": "stream",
     "text": [
      "/home/jiang/projects/SubtleGAN/data/brats2021/train/BraTS2021_00377\n"
     ]
    },
    {
     "name": "stderr",
     "output_type": "stream",
     "text": [
      "\n",
      "  0%|          | 0/80 [00:00<?, ?it/s]\u001b[A\n",
      " 15%|█▌        | 12/80 [00:00<00:00, 119.69it/s]\u001b[A\n",
      " 30%|███       | 24/80 [00:00<00:00, 116.12it/s]\u001b[A\n",
      " 46%|████▋     | 37/80 [00:00<00:00, 120.67it/s]\u001b[A\n",
      " 62%|██████▎   | 50/80 [00:00<00:00, 120.21it/s]\u001b[A\n",
      " 79%|███████▉  | 63/80 [00:00<00:00, 122.16it/s]\u001b[A\n",
      "100%|██████████| 80/80 [00:00<00:00, 120.21it/s]\u001b[A\n",
      " 37%|███▋      | 418/1125 [08:27<15:37,  1.33s/it]"
     ]
    },
    {
     "name": "stdout",
     "output_type": "stream",
     "text": [
      "/home/jiang/projects/SubtleGAN/data/brats2021/train/BraTS2021_01042\n"
     ]
    },
    {
     "name": "stderr",
     "output_type": "stream",
     "text": [
      "\n",
      "  0%|          | 0/80 [00:00<?, ?it/s]\u001b[A\n",
      " 16%|█▋        | 13/80 [00:00<00:00, 123.18it/s]\u001b[A\n",
      " 32%|███▎      | 26/80 [00:00<00:00, 122.51it/s]\u001b[A\n",
      " 49%|████▉     | 39/80 [00:00<00:00, 122.26it/s]\u001b[A\n",
      " 65%|██████▌   | 52/80 [00:00<00:00, 121.75it/s]\u001b[A\n",
      " 81%|████████▏ | 65/80 [00:00<00:00, 121.75it/s]\u001b[A\n",
      "100%|██████████| 80/80 [00:00<00:00, 121.83it/s]\u001b[A\n",
      " 37%|███▋      | 419/1125 [08:29<15:26,  1.31s/it]"
     ]
    },
    {
     "name": "stdout",
     "output_type": "stream",
     "text": [
      "/home/jiang/projects/SubtleGAN/data/brats2021/train/BraTS2021_00782\n"
     ]
    },
    {
     "name": "stderr",
     "output_type": "stream",
     "text": [
      "\n",
      "  0%|          | 0/80 [00:00<?, ?it/s]\u001b[A\n",
      " 16%|█▋        | 13/80 [00:00<00:00, 124.93it/s]\u001b[A\n",
      " 32%|███▎      | 26/80 [00:00<00:00, 122.12it/s]\u001b[A\n",
      " 49%|████▉     | 39/80 [00:00<00:00, 120.01it/s]\u001b[A\n",
      " 65%|██████▌   | 52/80 [00:00<00:00, 121.66it/s]\u001b[A\n",
      " 81%|████████▏ | 65/80 [00:00<00:00, 121.11it/s]\u001b[A\n",
      "100%|██████████| 80/80 [00:00<00:00, 120.39it/s]\u001b[A\n",
      " 37%|███▋      | 420/1125 [08:30<16:40,  1.42s/it]"
     ]
    },
    {
     "name": "stdout",
     "output_type": "stream",
     "text": [
      "/home/jiang/projects/SubtleGAN/data/brats2021/train/BraTS2021_00524\n"
     ]
    },
    {
     "name": "stderr",
     "output_type": "stream",
     "text": [
      "\n",
      "  0%|          | 0/80 [00:00<?, ?it/s]\u001b[A\n",
      " 16%|█▋        | 13/80 [00:00<00:00, 121.97it/s]\u001b[A\n",
      " 32%|███▎      | 26/80 [00:00<00:00, 123.58it/s]\u001b[A\n",
      " 49%|████▉     | 39/80 [00:00<00:00, 121.89it/s]\u001b[A\n",
      " 65%|██████▌   | 52/80 [00:00<00:00, 123.13it/s]\u001b[A\n",
      " 81%|████████▏ | 65/80 [00:00<00:00, 123.12it/s]\u001b[A\n",
      "100%|██████████| 80/80 [00:00<00:00, 122.97it/s]\u001b[A\n",
      " 37%|███▋      | 421/1125 [08:32<15:41,  1.34s/it]"
     ]
    },
    {
     "name": "stdout",
     "output_type": "stream",
     "text": [
      "/home/jiang/projects/SubtleGAN/data/brats2021/train/BraTS2021_00496\n"
     ]
    },
    {
     "name": "stderr",
     "output_type": "stream",
     "text": [
      "\n",
      "  0%|          | 0/80 [00:00<?, ?it/s]\u001b[A\n",
      " 15%|█▌        | 12/80 [00:00<00:00, 117.98it/s]\u001b[A\n",
      " 30%|███       | 24/80 [00:00<00:00, 118.52it/s]\u001b[A\n",
      " 46%|████▋     | 37/80 [00:00<00:00, 120.65it/s]\u001b[A\n",
      " 62%|██████▎   | 50/80 [00:00<00:00, 122.03it/s]\u001b[A\n",
      " 79%|███████▉  | 63/80 [00:00<00:00, 122.82it/s]\u001b[A\n",
      "100%|██████████| 80/80 [00:00<00:00, 122.29it/s]\u001b[A\n",
      " 38%|███▊      | 422/1125 [08:33<14:58,  1.28s/it]"
     ]
    },
    {
     "name": "stdout",
     "output_type": "stream",
     "text": [
      "/home/jiang/projects/SubtleGAN/data/brats2021/train/BraTS2021_01057\n"
     ]
    },
    {
     "name": "stderr",
     "output_type": "stream",
     "text": [
      "\n",
      "  0%|          | 0/80 [00:00<?, ?it/s]\u001b[A\n",
      " 16%|█▋        | 13/80 [00:00<00:00, 122.23it/s]\u001b[A\n",
      " 32%|███▎      | 26/80 [00:00<00:00, 121.80it/s]\u001b[A\n",
      " 49%|████▉     | 39/80 [00:00<00:00, 121.86it/s]\u001b[A\n",
      " 65%|██████▌   | 52/80 [00:00<00:00, 120.89it/s]\u001b[A\n",
      " 81%|████████▏ | 65/80 [00:00<00:00, 120.91it/s]\u001b[A\n",
      "100%|██████████| 80/80 [00:00<00:00, 120.33it/s]\u001b[A\n",
      " 38%|███▊      | 423/1125 [08:34<14:56,  1.28s/it]"
     ]
    },
    {
     "name": "stdout",
     "output_type": "stream",
     "text": [
      "/home/jiang/projects/SubtleGAN/data/brats2021/train/BraTS2021_01071\n"
     ]
    },
    {
     "name": "stderr",
     "output_type": "stream",
     "text": [
      "\n",
      "  0%|          | 0/80 [00:00<?, ?it/s]\u001b[A\n",
      " 15%|█▌        | 12/80 [00:00<00:00, 119.24it/s]\u001b[A\n",
      " 31%|███▏      | 25/80 [00:00<00:00, 120.92it/s]\u001b[A\n",
      " 48%|████▊     | 38/80 [00:00<00:00, 123.24it/s]\u001b[A\n",
      " 64%|██████▍   | 51/80 [00:00<00:00, 120.06it/s]\u001b[A\n",
      " 80%|████████  | 64/80 [00:00<00:00, 100.45it/s]\u001b[A\n",
      "100%|██████████| 80/80 [00:00<00:00, 111.44it/s]\u001b[A\n",
      " 38%|███▊      | 424/1125 [08:35<15:04,  1.29s/it]"
     ]
    },
    {
     "name": "stdout",
     "output_type": "stream",
     "text": [
      "/home/jiang/projects/SubtleGAN/data/brats2021/train/BraTS2021_01167\n"
     ]
    },
    {
     "name": "stderr",
     "output_type": "stream",
     "text": [
      "\n",
      "  0%|          | 0/80 [00:00<?, ?it/s]\u001b[A\n",
      " 15%|█▌        | 12/80 [00:00<00:00, 117.90it/s]\u001b[A\n",
      " 30%|███       | 24/80 [00:00<00:00, 117.93it/s]\u001b[A\n",
      " 46%|████▋     | 37/80 [00:00<00:00, 120.60it/s]\u001b[A\n",
      " 62%|██████▎   | 50/80 [00:00<00:00, 119.96it/s]\u001b[A\n",
      " 78%|███████▊  | 62/80 [00:00<00:00, 116.37it/s]\u001b[A\n",
      "100%|██████████| 80/80 [00:00<00:00, 117.44it/s]\u001b[A\n",
      " 38%|███▊      | 425/1125 [08:37<15:03,  1.29s/it]"
     ]
    },
    {
     "name": "stdout",
     "output_type": "stream",
     "text": [
      "/home/jiang/projects/SubtleGAN/data/brats2021/train/BraTS2021_01043\n"
     ]
    },
    {
     "name": "stderr",
     "output_type": "stream",
     "text": [
      "\n",
      "  0%|          | 0/80 [00:00<?, ?it/s]\u001b[A\n",
      " 15%|█▌        | 12/80 [00:00<00:00, 115.46it/s]\u001b[A\n",
      " 30%|███       | 24/80 [00:00<00:00, 101.57it/s]\u001b[A\n",
      " 45%|████▌     | 36/80 [00:00<00:00, 106.24it/s]\u001b[A\n",
      " 60%|██████    | 48/80 [00:00<00:00, 109.62it/s]\u001b[A\n",
      " 75%|███████▌  | 60/80 [00:00<00:00, 112.03it/s]\u001b[A\n",
      "100%|██████████| 80/80 [00:00<00:00, 111.88it/s]\u001b[A\n",
      " 38%|███▊      | 426/1125 [08:38<15:13,  1.31s/it]"
     ]
    },
    {
     "name": "stdout",
     "output_type": "stream",
     "text": [
      "/home/jiang/projects/SubtleGAN/data/brats2021/train/BraTS2021_01422\n"
     ]
    },
    {
     "name": "stderr",
     "output_type": "stream",
     "text": [
      "\n",
      "  0%|          | 0/80 [00:00<?, ?it/s]\u001b[A\n",
      " 16%|█▋        | 13/80 [00:00<00:00, 122.92it/s]\u001b[A\n",
      " 32%|███▎      | 26/80 [00:00<00:00, 120.47it/s]\u001b[A\n",
      " 49%|████▉     | 39/80 [00:00<00:00, 121.26it/s]\u001b[A\n",
      " 65%|██████▌   | 52/80 [00:00<00:00, 119.97it/s]\u001b[A\n",
      " 81%|████████▏ | 65/80 [00:00<00:00, 120.56it/s]\u001b[A\n",
      "100%|██████████| 80/80 [00:00<00:00, 119.35it/s]\u001b[A\n",
      " 38%|███▊      | 427/1125 [08:39<15:10,  1.30s/it]"
     ]
    },
    {
     "name": "stdout",
     "output_type": "stream",
     "text": [
      "/home/jiang/projects/SubtleGAN/data/brats2021/train/BraTS2021_00143\n"
     ]
    },
    {
     "name": "stderr",
     "output_type": "stream",
     "text": [
      "\n",
      "  0%|          | 0/80 [00:00<?, ?it/s]\u001b[A\n",
      " 16%|█▋        | 13/80 [00:00<00:00, 124.78it/s]\u001b[A\n",
      " 32%|███▎      | 26/80 [00:00<00:00, 123.79it/s]\u001b[A\n",
      " 49%|████▉     | 39/80 [00:00<00:00, 122.23it/s]\u001b[A\n",
      " 65%|██████▌   | 52/80 [00:00<00:00, 120.82it/s]\u001b[A\n",
      " 81%|████████▏ | 65/80 [00:00<00:00, 122.01it/s]\u001b[A\n",
      "100%|██████████| 80/80 [00:00<00:00, 121.96it/s]\u001b[A\n",
      " 38%|███▊      | 428/1125 [08:41<15:03,  1.30s/it]"
     ]
    },
    {
     "name": "stdout",
     "output_type": "stream",
     "text": [
      "/home/jiang/projects/SubtleGAN/data/brats2021/train/BraTS2021_00426\n"
     ]
    },
    {
     "name": "stderr",
     "output_type": "stream",
     "text": [
      "\n",
      "  0%|          | 0/80 [00:00<?, ?it/s]\u001b[A\n",
      " 16%|█▋        | 13/80 [00:00<00:00, 123.23it/s]\u001b[A\n",
      " 32%|███▎      | 26/80 [00:00<00:00, 121.80it/s]\u001b[A\n",
      " 49%|████▉     | 39/80 [00:00<00:00, 123.33it/s]\u001b[A\n",
      " 65%|██████▌   | 52/80 [00:00<00:00, 121.19it/s]\u001b[A\n",
      " 81%|████████▏ | 65/80 [00:00<00:00, 121.73it/s]\u001b[A\n",
      "100%|██████████| 80/80 [00:00<00:00, 121.16it/s]\u001b[A\n",
      " 38%|███▊      | 429/1125 [08:42<14:58,  1.29s/it]"
     ]
    },
    {
     "name": "stdout",
     "output_type": "stream",
     "text": [
      "/home/jiang/projects/SubtleGAN/data/brats2021/train/BraTS2021_01603\n"
     ]
    },
    {
     "name": "stderr",
     "output_type": "stream",
     "text": [
      "\n",
      "  0%|          | 0/80 [00:00<?, ?it/s]\u001b[A\n",
      " 16%|█▋        | 13/80 [00:00<00:00, 128.12it/s]\u001b[A\n",
      " 32%|███▎      | 26/80 [00:00<00:00, 124.43it/s]\u001b[A\n",
      " 49%|████▉     | 39/80 [00:00<00:00, 124.01it/s]\u001b[A\n",
      " 65%|██████▌   | 52/80 [00:00<00:00, 123.68it/s]\u001b[A\n",
      " 81%|████████▏ | 65/80 [00:00<00:00, 123.68it/s]\u001b[A\n",
      "100%|██████████| 80/80 [00:00<00:00, 122.85it/s]\u001b[A\n",
      " 38%|███▊      | 430/1125 [08:43<16:16,  1.40s/it]"
     ]
    },
    {
     "name": "stdout",
     "output_type": "stream",
     "text": [
      "/home/jiang/projects/SubtleGAN/data/brats2021/train/BraTS2021_00187\n"
     ]
    },
    {
     "name": "stderr",
     "output_type": "stream",
     "text": [
      "\n",
      "  0%|          | 0/80 [00:00<?, ?it/s]\u001b[A\n",
      " 16%|█▋        | 13/80 [00:00<00:00, 122.72it/s]\u001b[A\n",
      " 32%|███▎      | 26/80 [00:00<00:00, 124.08it/s]\u001b[A\n",
      " 49%|████▉     | 39/80 [00:00<00:00, 123.02it/s]\u001b[A\n",
      " 65%|██████▌   | 52/80 [00:00<00:00, 123.52it/s]\u001b[A\n",
      " 81%|████████▏ | 65/80 [00:00<00:00, 124.38it/s]\u001b[A\n",
      "100%|██████████| 80/80 [00:00<00:00, 123.55it/s]\u001b[A\n",
      " 38%|███▊      | 431/1125 [08:45<15:33,  1.35s/it]"
     ]
    },
    {
     "name": "stdout",
     "output_type": "stream",
     "text": [
      "/home/jiang/projects/SubtleGAN/data/brats2021/train/BraTS2021_00240\n"
     ]
    },
    {
     "name": "stderr",
     "output_type": "stream",
     "text": [
      "\n",
      "  0%|          | 0/80 [00:00<?, ?it/s]\u001b[A\n",
      " 16%|█▋        | 13/80 [00:00<00:00, 125.08it/s]\u001b[A\n",
      " 32%|███▎      | 26/80 [00:00<00:00, 123.21it/s]\u001b[A\n",
      " 49%|████▉     | 39/80 [00:00<00:00, 122.96it/s]\u001b[A\n",
      " 65%|██████▌   | 52/80 [00:00<00:00, 121.04it/s]\u001b[A\n",
      " 81%|████████▏ | 65/80 [00:00<00:00, 120.78it/s]\u001b[A\n",
      "100%|██████████| 80/80 [00:00<00:00, 121.01it/s]\u001b[A\n",
      " 38%|███▊      | 432/1125 [08:46<15:17,  1.32s/it]"
     ]
    },
    {
     "name": "stdout",
     "output_type": "stream",
     "text": [
      "/home/jiang/projects/SubtleGAN/data/brats2021/train/BraTS2021_00036\n"
     ]
    },
    {
     "name": "stderr",
     "output_type": "stream",
     "text": [
      "\n",
      "  0%|          | 0/80 [00:00<?, ?it/s]\u001b[A\n",
      " 15%|█▌        | 12/80 [00:00<00:00, 118.88it/s]\u001b[A\n",
      " 31%|███▏      | 25/80 [00:00<00:00, 123.96it/s]\u001b[A\n",
      " 48%|████▊     | 38/80 [00:00<00:00, 122.38it/s]\u001b[A\n",
      " 64%|██████▍   | 51/80 [00:00<00:00, 123.11it/s]\u001b[A\n",
      " 80%|████████  | 64/80 [00:00<00:00, 120.71it/s]\u001b[A\n",
      "100%|██████████| 80/80 [00:00<00:00, 120.79it/s]\u001b[A\n",
      " 38%|███▊      | 433/1125 [08:47<14:40,  1.27s/it]"
     ]
    },
    {
     "name": "stdout",
     "output_type": "stream",
     "text": [
      "/home/jiang/projects/SubtleGAN/data/brats2021/train/BraTS2021_01141\n"
     ]
    },
    {
     "name": "stderr",
     "output_type": "stream",
     "text": [
      "\n",
      "  0%|          | 0/80 [00:00<?, ?it/s]\u001b[A\n",
      " 15%|█▌        | 12/80 [00:00<00:00, 119.61it/s]\u001b[A\n",
      " 30%|███       | 24/80 [00:00<00:00, 118.94it/s]\u001b[A\n",
      " 45%|████▌     | 36/80 [00:00<00:00, 116.18it/s]\u001b[A\n",
      " 60%|██████    | 48/80 [00:00<00:00, 102.80it/s]\u001b[A\n",
      " 74%|███████▍  | 59/80 [00:00<00:00, 105.11it/s]\u001b[A\n",
      "100%|██████████| 80/80 [00:00<00:00, 108.28it/s]\u001b[A\n",
      " 39%|███▊      | 434/1125 [08:48<14:57,  1.30s/it]"
     ]
    },
    {
     "name": "stdout",
     "output_type": "stream",
     "text": [
      "/home/jiang/projects/SubtleGAN/data/brats2021/train/BraTS2021_01641\n"
     ]
    },
    {
     "name": "stderr",
     "output_type": "stream",
     "text": [
      "\n",
      "  0%|          | 0/80 [00:00<?, ?it/s]\u001b[A\n",
      " 16%|█▋        | 13/80 [00:00<00:00, 119.27it/s]\u001b[A\n",
      " 31%|███▏      | 25/80 [00:00<00:00, 119.68it/s]\u001b[A\n",
      " 46%|████▋     | 37/80 [00:00<00:00, 119.56it/s]\u001b[A\n",
      " 61%|██████▏   | 49/80 [00:00<00:00, 117.37it/s]\u001b[A\n",
      " 76%|███████▋  | 61/80 [00:00<00:00, 118.22it/s]\u001b[A\n",
      "100%|██████████| 80/80 [00:00<00:00, 118.22it/s]\u001b[A\n",
      " 39%|███▊      | 435/1125 [08:50<16:20,  1.42s/it]"
     ]
    },
    {
     "name": "stdout",
     "output_type": "stream",
     "text": [
      "/home/jiang/projects/SubtleGAN/data/brats2021/train/BraTS2021_00618\n"
     ]
    },
    {
     "name": "stderr",
     "output_type": "stream",
     "text": [
      "\n",
      "  0%|          | 0/80 [00:00<?, ?it/s]\u001b[A\n",
      " 16%|█▋        | 13/80 [00:00<00:00, 123.14it/s]\u001b[A\n",
      " 32%|███▎      | 26/80 [00:00<00:00, 121.95it/s]\u001b[A\n",
      " 49%|████▉     | 39/80 [00:00<00:00, 123.31it/s]\u001b[A\n",
      " 65%|██████▌   | 52/80 [00:00<00:00, 121.33it/s]\u001b[A\n",
      " 81%|████████▏ | 65/80 [00:00<00:00, 123.80it/s]\u001b[A\n",
      "100%|██████████| 80/80 [00:00<00:00, 122.23it/s]\u001b[A\n",
      " 39%|███▉      | 436/1125 [08:51<15:28,  1.35s/it]"
     ]
    },
    {
     "name": "stdout",
     "output_type": "stream",
     "text": [
      "/home/jiang/projects/SubtleGAN/data/brats2021/train/BraTS2021_00504\n"
     ]
    },
    {
     "name": "stderr",
     "output_type": "stream",
     "text": [
      "\n",
      "  0%|          | 0/80 [00:00<?, ?it/s]\u001b[A\n",
      " 16%|█▋        | 13/80 [00:00<00:00, 126.39it/s]\u001b[A\n",
      " 32%|███▎      | 26/80 [00:00<00:00, 128.26it/s]\u001b[A\n",
      " 49%|████▉     | 39/80 [00:00<00:00, 125.18it/s]\u001b[A\n",
      " 65%|██████▌   | 52/80 [00:00<00:00, 121.96it/s]\u001b[A\n",
      " 81%|████████▏ | 65/80 [00:00<00:00, 122.33it/s]\u001b[A\n",
      "100%|██████████| 80/80 [00:00<00:00, 122.06it/s]\u001b[A\n",
      " 39%|███▉      | 437/1125 [08:53<14:56,  1.30s/it]"
     ]
    },
    {
     "name": "stdout",
     "output_type": "stream",
     "text": [
      "/home/jiang/projects/SubtleGAN/data/brats2021/train/BraTS2021_00488\n"
     ]
    },
    {
     "name": "stderr",
     "output_type": "stream",
     "text": [
      "\n",
      "  0%|          | 0/80 [00:00<?, ?it/s]\u001b[A\n",
      " 16%|█▋        | 13/80 [00:00<00:00, 119.89it/s]\u001b[A\n",
      " 31%|███▏      | 25/80 [00:00<00:00, 118.40it/s]\u001b[A\n",
      " 46%|████▋     | 37/80 [00:00<00:00, 60.90it/s] \u001b[A\n",
      " 60%|██████    | 48/80 [00:00<00:00, 72.59it/s]\u001b[A\n",
      " 76%|███████▋  | 61/80 [00:00<00:00, 85.09it/s]\u001b[A\n",
      "100%|██████████| 80/80 [00:00<00:00, 89.54it/s]\u001b[A\n",
      " 39%|███▉      | 438/1125 [08:54<15:25,  1.35s/it]"
     ]
    },
    {
     "name": "stdout",
     "output_type": "stream",
     "text": [
      "/home/jiang/projects/SubtleGAN/data/brats2021/train/BraTS2021_00814\n"
     ]
    },
    {
     "name": "stderr",
     "output_type": "stream",
     "text": [
      "\n",
      "  0%|          | 0/80 [00:00<?, ?it/s]\u001b[A\n",
      " 16%|█▋        | 13/80 [00:00<00:00, 124.47it/s]\u001b[A\n",
      " 32%|███▎      | 26/80 [00:00<00:00, 119.83it/s]\u001b[A\n",
      " 48%|████▊     | 38/80 [00:00<00:00, 118.57it/s]\u001b[A\n",
      " 62%|██████▎   | 50/80 [00:00<00:00, 118.68it/s]\u001b[A\n",
      " 78%|███████▊  | 62/80 [00:00<00:00, 118.51it/s]\u001b[A\n",
      "100%|██████████| 80/80 [00:00<00:00, 117.44it/s]\u001b[A\n",
      " 39%|███▉      | 439/1125 [08:56<16:42,  1.46s/it]"
     ]
    },
    {
     "name": "stdout",
     "output_type": "stream",
     "text": [
      "/home/jiang/projects/SubtleGAN/data/brats2021/train/BraTS2021_01324\n"
     ]
    },
    {
     "name": "stderr",
     "output_type": "stream",
     "text": [
      "\n",
      "  0%|          | 0/80 [00:00<?, ?it/s]\u001b[A\n",
      " 15%|█▌        | 12/80 [00:00<00:00, 115.58it/s]\u001b[A\n",
      " 30%|███       | 24/80 [00:00<00:00, 73.27it/s] \u001b[A\n",
      " 45%|████▌     | 36/80 [00:00<00:00, 88.91it/s]\u001b[A\n",
      " 61%|██████▏   | 49/80 [00:00<00:00, 101.04it/s]\u001b[A\n",
      " 78%|███████▊  | 62/80 [00:00<00:00, 107.62it/s]\u001b[A\n",
      "100%|██████████| 80/80 [00:00<00:00, 103.44it/s]\u001b[A\n",
      " 39%|███▉      | 440/1125 [08:57<16:32,  1.45s/it]"
     ]
    },
    {
     "name": "stdout",
     "output_type": "stream",
     "text": [
      "/home/jiang/projects/SubtleGAN/data/brats2021/train/BraTS2021_00162\n"
     ]
    },
    {
     "name": "stderr",
     "output_type": "stream",
     "text": [
      "\n",
      "  0%|          | 0/80 [00:00<?, ?it/s]\u001b[A\n",
      "  6%|▋         | 5/80 [00:00<00:01, 45.15it/s]\u001b[A\n",
      " 16%|█▋        | 13/80 [00:00<00:01, 62.21it/s]\u001b[A\n",
      " 31%|███▏      | 25/80 [00:00<00:00, 87.21it/s]\u001b[A\n",
      " 48%|████▊     | 38/80 [00:00<00:00, 100.32it/s]\u001b[A\n",
      " 62%|██████▎   | 50/80 [00:00<00:00, 105.96it/s]\u001b[A\n",
      " 78%|███████▊  | 62/80 [00:00<00:00, 107.62it/s]\u001b[A\n",
      "100%|██████████| 80/80 [00:00<00:00, 100.75it/s]\u001b[A\n",
      " 39%|███▉      | 441/1125 [08:59<16:27,  1.44s/it]"
     ]
    },
    {
     "name": "stdout",
     "output_type": "stream",
     "text": [
      "/home/jiang/projects/SubtleGAN/data/brats2021/train/BraTS2021_00018\n"
     ]
    },
    {
     "name": "stderr",
     "output_type": "stream",
     "text": [
      "\n",
      "  0%|          | 0/80 [00:00<?, ?it/s]\u001b[A\n",
      " 16%|█▋        | 13/80 [00:00<00:00, 127.69it/s]\u001b[A\n",
      " 32%|███▎      | 26/80 [00:00<00:00, 122.06it/s]\u001b[A\n",
      " 49%|████▉     | 39/80 [00:00<00:00, 120.00it/s]\u001b[A\n",
      " 65%|██████▌   | 52/80 [00:00<00:00, 119.12it/s]\u001b[A\n",
      " 80%|████████  | 64/80 [00:00<00:00, 91.19it/s] \u001b[A\n",
      "100%|██████████| 80/80 [00:00<00:00, 105.44it/s][A\n",
      " 39%|███▉      | 442/1125 [09:00<15:57,  1.40s/it]"
     ]
    },
    {
     "name": "stdout",
     "output_type": "stream",
     "text": [
      "/home/jiang/projects/SubtleGAN/data/brats2021/train/BraTS2021_01221\n"
     ]
    },
    {
     "name": "stderr",
     "output_type": "stream",
     "text": [
      "\n",
      "  0%|          | 0/80 [00:00<?, ?it/s]\u001b[A\n",
      " 15%|█▌        | 12/80 [00:00<00:00, 118.53it/s]\u001b[A\n",
      " 30%|███       | 24/80 [00:00<00:00, 115.29it/s]\u001b[A\n",
      " 45%|████▌     | 36/80 [00:00<00:00, 115.25it/s]\u001b[A\n",
      " 60%|██████    | 48/80 [00:00<00:00, 89.25it/s] \u001b[A\n",
      " 76%|███████▋  | 61/80 [00:00<00:00, 99.21it/s]\u001b[A\n",
      "100%|██████████| 80/80 [00:00<00:00, 103.09it/s][A\n",
      " 39%|███▉      | 443/1125 [09:01<16:02,  1.41s/it]"
     ]
    },
    {
     "name": "stdout",
     "output_type": "stream",
     "text": [
      "/home/jiang/projects/SubtleGAN/data/brats2021/train/BraTS2021_00680\n"
     ]
    },
    {
     "name": "stderr",
     "output_type": "stream",
     "text": [
      "\n",
      "  0%|          | 0/80 [00:00<?, ?it/s]\u001b[A\n",
      " 16%|█▋        | 13/80 [00:00<00:00, 123.77it/s]\u001b[A\n",
      " 32%|███▎      | 26/80 [00:00<00:00, 123.56it/s]\u001b[A\n",
      " 49%|████▉     | 39/80 [00:00<00:00, 120.49it/s]\u001b[A\n",
      " 65%|██████▌   | 52/80 [00:00<00:00, 121.16it/s]\u001b[A\n",
      " 81%|████████▏ | 65/80 [00:00<00:00, 120.31it/s]\u001b[A\n",
      "100%|██████████| 80/80 [00:00<00:00, 119.09it/s]\u001b[A\n",
      " 39%|███▉      | 444/1125 [09:02<15:14,  1.34s/it]"
     ]
    },
    {
     "name": "stdout",
     "output_type": "stream",
     "text": [
      "/home/jiang/projects/SubtleGAN/data/brats2021/train/BraTS2021_00631\n"
     ]
    },
    {
     "name": "stderr",
     "output_type": "stream",
     "text": [
      "\n",
      "  0%|          | 0/80 [00:00<?, ?it/s]\u001b[A\n",
      " 16%|█▋        | 13/80 [00:00<00:00, 126.11it/s]\u001b[A\n",
      " 32%|███▎      | 26/80 [00:00<00:00, 122.98it/s]\u001b[A\n",
      " 49%|████▉     | 39/80 [00:00<00:00, 124.58it/s]\u001b[A\n",
      " 65%|██████▌   | 52/80 [00:00<00:00, 123.49it/s]\u001b[A\n",
      " 81%|████████▏ | 65/80 [00:00<00:00, 123.53it/s]\u001b[A\n",
      "100%|██████████| 80/80 [00:00<00:00, 122.36it/s]\u001b[A\n",
      " 40%|███▉      | 445/1125 [09:04<14:29,  1.28s/it]"
     ]
    },
    {
     "name": "stdout",
     "output_type": "stream",
     "text": [
      "/home/jiang/projects/SubtleGAN/data/brats2021/train/BraTS2021_00528\n"
     ]
    },
    {
     "name": "stderr",
     "output_type": "stream",
     "text": [
      "\n",
      "  0%|          | 0/80 [00:00<?, ?it/s]\u001b[A\n",
      "  8%|▊         | 6/80 [00:00<00:01, 59.66it/s]\u001b[A\n",
      " 19%|█▉        | 15/80 [00:00<00:00, 76.79it/s]\u001b[A\n",
      " 35%|███▌      | 28/80 [00:00<00:00, 98.52it/s]\u001b[A\n",
      " 50%|█████     | 40/80 [00:00<00:00, 105.70it/s]\u001b[A\n",
      " 65%|██████▌   | 52/80 [00:00<00:00, 108.03it/s]\u001b[A\n",
      " 80%|████████  | 64/80 [00:00<00:00, 109.38it/s]\u001b[A\n",
      "100%|██████████| 80/80 [00:00<00:00, 104.48it/s]\u001b[A\n",
      " 40%|███▉      | 446/1125 [09:05<14:23,  1.27s/it]"
     ]
    },
    {
     "name": "stdout",
     "output_type": "stream",
     "text": [
      "/home/jiang/projects/SubtleGAN/data/brats2021/train/BraTS2021_01638\n"
     ]
    },
    {
     "name": "stderr",
     "output_type": "stream",
     "text": [
      "\n",
      "  0%|          | 0/80 [00:00<?, ?it/s]\u001b[A\n",
      " 16%|█▋        | 13/80 [00:00<00:00, 126.12it/s]\u001b[A\n",
      " 32%|███▎      | 26/80 [00:00<00:00, 120.83it/s]\u001b[A\n",
      " 49%|████▉     | 39/80 [00:00<00:00, 118.86it/s]\u001b[A\n",
      " 64%|██████▍   | 51/80 [00:00<00:00, 117.13it/s]\u001b[A\n",
      " 79%|███████▉  | 63/80 [00:00<00:00, 112.60it/s]\u001b[A\n",
      "100%|██████████| 80/80 [00:00<00:00, 116.69it/s]\u001b[A\n",
      " 40%|███▉      | 447/1125 [09:06<15:28,  1.37s/it]"
     ]
    },
    {
     "name": "stdout",
     "output_type": "stream",
     "text": [
      "/home/jiang/projects/SubtleGAN/data/brats2021/train/BraTS2021_01618\n"
     ]
    },
    {
     "name": "stderr",
     "output_type": "stream",
     "text": [
      "\n",
      "  0%|          | 0/80 [00:00<?, ?it/s]\u001b[A\n",
      " 16%|█▋        | 13/80 [00:00<00:00, 117.85it/s]\u001b[A\n",
      " 31%|███▏      | 25/80 [00:00<00:00, 118.14it/s]\u001b[A\n",
      " 48%|████▊     | 38/80 [00:00<00:00, 118.48it/s]\u001b[A\n",
      " 62%|██████▎   | 50/80 [00:00<00:00, 118.05it/s]\u001b[A\n",
      " 79%|███████▉  | 63/80 [00:00<00:00, 119.82it/s]\u001b[A\n",
      "100%|██████████| 80/80 [00:00<00:00, 119.42it/s]\u001b[A\n",
      " 40%|███▉      | 448/1125 [09:08<16:09,  1.43s/it]"
     ]
    },
    {
     "name": "stdout",
     "output_type": "stream",
     "text": [
      "/home/jiang/projects/SubtleGAN/data/brats2021/train/BraTS2021_00150\n"
     ]
    },
    {
     "name": "stderr",
     "output_type": "stream",
     "text": [
      "\n",
      "  0%|          | 0/80 [00:00<?, ?it/s]\u001b[A\n",
      " 16%|█▋        | 13/80 [00:00<00:00, 122.62it/s]\u001b[A\n",
      " 32%|███▎      | 26/80 [00:00<00:00, 123.14it/s]\u001b[A\n",
      " 49%|████▉     | 39/80 [00:00<00:00, 123.91it/s]\u001b[A\n",
      " 65%|██████▌   | 52/80 [00:00<00:00, 124.83it/s]\u001b[A\n",
      " 81%|████████▏ | 65/80 [00:00<00:00, 121.78it/s]\u001b[A\n",
      "100%|██████████| 80/80 [00:00<00:00, 122.41it/s]\u001b[A\n",
      " 40%|███▉      | 449/1125 [09:09<15:16,  1.36s/it]"
     ]
    },
    {
     "name": "stdout",
     "output_type": "stream",
     "text": [
      "/home/jiang/projects/SubtleGAN/data/brats2021/train/BraTS2021_00020\n"
     ]
    },
    {
     "name": "stderr",
     "output_type": "stream",
     "text": [
      "\n",
      "  0%|          | 0/80 [00:00<?, ?it/s]\u001b[A\n",
      " 16%|█▋        | 13/80 [00:00<00:00, 126.13it/s]\u001b[A\n",
      " 32%|███▎      | 26/80 [00:00<00:00, 124.89it/s]\u001b[A\n",
      " 49%|████▉     | 39/80 [00:00<00:00, 123.59it/s]\u001b[A\n",
      " 65%|██████▌   | 52/80 [00:00<00:00, 122.26it/s]\u001b[A\n",
      " 81%|████████▏ | 65/80 [00:00<00:00, 122.71it/s]\u001b[A\n",
      "100%|██████████| 80/80 [00:00<00:00, 121.69it/s]\u001b[A\n",
      " 40%|████      | 450/1125 [09:10<14:21,  1.28s/it]"
     ]
    },
    {
     "name": "stdout",
     "output_type": "stream",
     "text": [
      "/home/jiang/projects/SubtleGAN/data/brats2021/train/BraTS2021_00747\n"
     ]
    },
    {
     "name": "stderr",
     "output_type": "stream",
     "text": [
      "\n",
      "  0%|          | 0/80 [00:00<?, ?it/s]\u001b[A\n",
      " 16%|█▋        | 13/80 [00:00<00:00, 128.33it/s]\u001b[A\n",
      " 32%|███▎      | 26/80 [00:00<00:00, 115.71it/s]\u001b[A\n",
      " 49%|████▉     | 39/80 [00:00<00:00, 121.06it/s]\u001b[A\n",
      " 65%|██████▌   | 52/80 [00:00<00:00, 122.36it/s]\u001b[A\n",
      " 81%|████████▏ | 65/80 [00:00<00:00, 120.45it/s]\u001b[A\n",
      "100%|██████████| 80/80 [00:00<00:00, 119.63it/s]\u001b[A\n",
      " 40%|████      | 451/1125 [09:11<13:45,  1.22s/it]"
     ]
    },
    {
     "name": "stdout",
     "output_type": "stream",
     "text": [
      "/home/jiang/projects/SubtleGAN/data/brats2021/train/BraTS2021_00628\n"
     ]
    },
    {
     "name": "stderr",
     "output_type": "stream",
     "text": [
      "\n",
      "  0%|          | 0/80 [00:00<?, ?it/s]\u001b[A\n",
      " 15%|█▌        | 12/80 [00:00<00:00, 118.07it/s]\u001b[A\n",
      " 31%|███▏      | 25/80 [00:00<00:00, 120.61it/s]\u001b[A\n",
      " 48%|████▊     | 38/80 [00:00<00:00, 120.40it/s]\u001b[A\n",
      " 64%|██████▍   | 51/80 [00:00<00:00, 122.12it/s]\u001b[A\n",
      " 80%|████████  | 64/80 [00:00<00:00, 122.28it/s]\u001b[A\n",
      "100%|██████████| 80/80 [00:00<00:00, 121.70it/s]\u001b[A\n",
      " 40%|████      | 452/1125 [09:13<13:18,  1.19s/it]"
     ]
    },
    {
     "name": "stdout",
     "output_type": "stream",
     "text": [
      "/home/jiang/projects/SubtleGAN/data/brats2021/train/BraTS2021_01240\n"
     ]
    },
    {
     "name": "stderr",
     "output_type": "stream",
     "text": [
      "\n",
      "  0%|          | 0/80 [00:00<?, ?it/s]\u001b[A\n",
      " 16%|█▋        | 13/80 [00:00<00:00, 125.98it/s]\u001b[A\n",
      " 32%|███▎      | 26/80 [00:00<00:00, 123.01it/s]\u001b[A\n",
      " 49%|████▉     | 39/80 [00:00<00:00, 125.17it/s]\u001b[A\n",
      " 65%|██████▌   | 52/80 [00:00<00:00, 126.10it/s]\u001b[A\n",
      " 81%|████████▏ | 65/80 [00:00<00:00, 123.51it/s]\u001b[A\n",
      "100%|██████████| 80/80 [00:00<00:00, 123.97it/s]\u001b[A\n",
      " 40%|████      | 453/1125 [09:14<13:15,  1.18s/it]"
     ]
    },
    {
     "name": "stdout",
     "output_type": "stream",
     "text": [
      "/home/jiang/projects/SubtleGAN/data/brats2021/train/BraTS2021_00542\n"
     ]
    },
    {
     "name": "stderr",
     "output_type": "stream",
     "text": [
      "\n",
      "  0%|          | 0/80 [00:00<?, ?it/s]\u001b[A\n",
      " 16%|█▋        | 13/80 [00:00<00:00, 127.26it/s]\u001b[A\n",
      " 32%|███▎      | 26/80 [00:00<00:00, 127.06it/s]\u001b[A\n",
      " 49%|████▉     | 39/80 [00:00<00:00, 127.03it/s]\u001b[A\n",
      " 65%|██████▌   | 52/80 [00:00<00:00, 124.61it/s]\u001b[A\n",
      " 81%|████████▏ | 65/80 [00:00<00:00, 123.73it/s]\u001b[A\n",
      "100%|██████████| 80/80 [00:00<00:00, 124.41it/s]\u001b[A\n",
      " 40%|████      | 454/1125 [09:15<12:50,  1.15s/it]"
     ]
    },
    {
     "name": "stdout",
     "output_type": "stream",
     "text": [
      "/home/jiang/projects/SubtleGAN/data/brats2021/train/BraTS2021_00291\n"
     ]
    },
    {
     "name": "stderr",
     "output_type": "stream",
     "text": [
      "\n",
      "  0%|          | 0/80 [00:00<?, ?it/s]\u001b[A\n",
      " 16%|█▋        | 13/80 [00:00<00:00, 125.10it/s]\u001b[A\n",
      " 32%|███▎      | 26/80 [00:00<00:00, 120.71it/s]\u001b[A\n",
      " 49%|████▉     | 39/80 [00:00<00:00, 122.07it/s]\u001b[A\n",
      " 65%|██████▌   | 52/80 [00:00<00:00, 122.58it/s]\u001b[A\n",
      " 81%|████████▏ | 65/80 [00:00<00:00, 118.99it/s]\u001b[A\n",
      "100%|██████████| 80/80 [00:00<00:00, 119.57it/s]\u001b[A\n",
      " 40%|████      | 455/1125 [09:16<12:56,  1.16s/it]"
     ]
    },
    {
     "name": "stdout",
     "output_type": "stream",
     "text": [
      "/home/jiang/projects/SubtleGAN/data/brats2021/train/BraTS2021_01316\n"
     ]
    },
    {
     "name": "stderr",
     "output_type": "stream",
     "text": [
      "\n",
      "  0%|          | 0/80 [00:00<?, ?it/s]\u001b[A\n",
      " 16%|█▋        | 13/80 [00:00<00:00, 126.30it/s]\u001b[A\n",
      " 32%|███▎      | 26/80 [00:00<00:00, 124.59it/s]\u001b[A\n",
      " 49%|████▉     | 39/80 [00:00<00:00, 125.59it/s]\u001b[A\n",
      " 65%|██████▌   | 52/80 [00:00<00:00, 124.52it/s]\u001b[A\n",
      " 81%|████████▏ | 65/80 [00:00<00:00, 124.47it/s]\u001b[A\n",
      "100%|██████████| 80/80 [00:00<00:00, 122.79it/s]\u001b[A\n",
      " 41%|████      | 456/1125 [09:17<12:56,  1.16s/it]"
     ]
    },
    {
     "name": "stdout",
     "output_type": "stream",
     "text": [
      "/home/jiang/projects/SubtleGAN/data/brats2021/train/BraTS2021_01551\n"
     ]
    },
    {
     "name": "stderr",
     "output_type": "stream",
     "text": [
      "\n",
      "  0%|          | 0/80 [00:00<?, ?it/s]\u001b[A\n",
      " 16%|█▋        | 13/80 [00:00<00:00, 129.11it/s]\u001b[A\n",
      " 32%|███▎      | 26/80 [00:00<00:00, 123.70it/s]\u001b[A\n",
      " 49%|████▉     | 39/80 [00:00<00:00, 121.46it/s]\u001b[A\n",
      " 65%|██████▌   | 52/80 [00:00<00:00, 119.55it/s]\u001b[A\n",
      " 80%|████████  | 64/80 [00:00<00:00, 116.84it/s]\u001b[A\n",
      "100%|██████████| 80/80 [00:00<00:00, 118.40it/s]\u001b[A\n",
      " 41%|████      | 457/1125 [09:19<14:16,  1.28s/it]"
     ]
    },
    {
     "name": "stdout",
     "output_type": "stream",
     "text": [
      "/home/jiang/projects/SubtleGAN/data/brats2021/train/BraTS2021_00686\n"
     ]
    },
    {
     "name": "stderr",
     "output_type": "stream",
     "text": [
      "\n",
      "  0%|          | 0/80 [00:00<?, ?it/s]\u001b[A\n",
      " 16%|█▋        | 13/80 [00:00<00:00, 126.67it/s]\u001b[A\n",
      " 32%|███▎      | 26/80 [00:00<00:00, 123.39it/s]\u001b[A\n",
      " 49%|████▉     | 39/80 [00:00<00:00, 120.93it/s]\u001b[A\n",
      " 65%|██████▌   | 52/80 [00:00<00:00, 121.04it/s]\u001b[A\n",
      " 81%|████████▏ | 65/80 [00:00<00:00, 120.14it/s]\u001b[A\n",
      "100%|██████████| 80/80 [00:00<00:00, 120.89it/s]\u001b[A\n",
      " 41%|████      | 458/1125 [09:20<13:39,  1.23s/it]"
     ]
    },
    {
     "name": "stdout",
     "output_type": "stream",
     "text": [
      "/home/jiang/projects/SubtleGAN/data/brats2021/train/BraTS2021_00707\n"
     ]
    },
    {
     "name": "stderr",
     "output_type": "stream",
     "text": [
      "\n",
      "  0%|          | 0/80 [00:00<?, ?it/s]\u001b[A\n",
      " 15%|█▌        | 12/80 [00:00<00:00, 119.84it/s]\u001b[A\n",
      " 31%|███▏      | 25/80 [00:00<00:00, 119.31it/s]\u001b[A\n",
      " 48%|████▊     | 38/80 [00:00<00:00, 119.93it/s]\u001b[A\n",
      " 62%|██████▎   | 50/80 [00:00<00:00, 118.36it/s]\u001b[A\n",
      " 78%|███████▊  | 62/80 [00:00<00:00, 117.56it/s]\u001b[A\n",
      "100%|██████████| 80/80 [00:00<00:00, 118.15it/s]\u001b[A\n",
      " 41%|████      | 459/1125 [09:21<13:16,  1.20s/it]"
     ]
    },
    {
     "name": "stdout",
     "output_type": "stream",
     "text": [
      "/home/jiang/projects/SubtleGAN/data/brats2021/train/BraTS2021_01129\n"
     ]
    },
    {
     "name": "stderr",
     "output_type": "stream",
     "text": [
      "\n",
      "  0%|          | 0/80 [00:00<?, ?it/s]\u001b[A\n",
      " 16%|█▋        | 13/80 [00:00<00:00, 123.34it/s]\u001b[A\n",
      " 32%|███▎      | 26/80 [00:00<00:00, 123.85it/s]\u001b[A\n",
      " 49%|████▉     | 39/80 [00:00<00:00, 123.67it/s]\u001b[A\n",
      " 65%|██████▌   | 52/80 [00:00<00:00, 122.65it/s]\u001b[A\n",
      " 81%|████████▏ | 65/80 [00:00<00:00, 122.81it/s]\u001b[A\n",
      "100%|██████████| 80/80 [00:00<00:00, 122.06it/s]\u001b[A\n",
      " 41%|████      | 460/1125 [09:22<13:15,  1.20s/it]"
     ]
    },
    {
     "name": "stdout",
     "output_type": "stream",
     "text": [
      "/home/jiang/projects/SubtleGAN/data/brats2021/train/BraTS2021_01010\n"
     ]
    },
    {
     "name": "stderr",
     "output_type": "stream",
     "text": [
      "\n",
      "  0%|          | 0/80 [00:00<?, ?it/s]\u001b[A\n",
      " 16%|█▋        | 13/80 [00:00<00:00, 125.78it/s]\u001b[A\n",
      " 32%|███▎      | 26/80 [00:00<00:00, 122.39it/s]\u001b[A\n",
      " 49%|████▉     | 39/80 [00:00<00:00, 121.68it/s]\u001b[A\n",
      " 65%|██████▌   | 52/80 [00:00<00:00, 121.83it/s]\u001b[A\n",
      " 81%|████████▏ | 65/80 [00:00<00:00, 122.70it/s]\u001b[A\n",
      "100%|██████████| 80/80 [00:00<00:00, 122.46it/s]\u001b[A\n",
      " 41%|████      | 461/1125 [09:23<13:10,  1.19s/it]"
     ]
    },
    {
     "name": "stdout",
     "output_type": "stream",
     "text": [
      "/home/jiang/projects/SubtleGAN/data/brats2021/train/BraTS2021_01045\n"
     ]
    },
    {
     "name": "stderr",
     "output_type": "stream",
     "text": [
      "\n",
      "  0%|          | 0/80 [00:00<?, ?it/s]\u001b[A\n",
      " 16%|█▋        | 13/80 [00:00<00:00, 127.07it/s]\u001b[A\n",
      " 32%|███▎      | 26/80 [00:00<00:00, 124.94it/s]\u001b[A\n",
      " 49%|████▉     | 39/80 [00:00<00:00, 123.82it/s]\u001b[A\n",
      " 65%|██████▌   | 52/80 [00:00<00:00, 122.48it/s]\u001b[A\n",
      " 81%|████████▏ | 65/80 [00:00<00:00, 123.93it/s]\u001b[A\n",
      "100%|██████████| 80/80 [00:00<00:00, 123.83it/s]\u001b[A\n",
      " 41%|████      | 462/1125 [09:24<13:06,  1.19s/it]"
     ]
    },
    {
     "name": "stdout",
     "output_type": "stream",
     "text": [
      "/home/jiang/projects/SubtleGAN/data/brats2021/train/BraTS2021_01598\n"
     ]
    },
    {
     "name": "stderr",
     "output_type": "stream",
     "text": [
      "\n",
      "  0%|          | 0/80 [00:00<?, ?it/s]\u001b[A\n",
      " 16%|█▋        | 13/80 [00:00<00:00, 129.79it/s]\u001b[A\n",
      " 32%|███▎      | 26/80 [00:00<00:00, 125.79it/s]\u001b[A\n",
      " 49%|████▉     | 39/80 [00:00<00:00, 123.61it/s]\u001b[A\n",
      " 65%|██████▌   | 52/80 [00:00<00:00, 124.56it/s]\u001b[A\n",
      " 81%|████████▏ | 65/80 [00:00<00:00, 125.03it/s]\u001b[A\n",
      "100%|██████████| 80/80 [00:00<00:00, 124.03it/s]\u001b[A\n",
      " 41%|████      | 463/1125 [09:26<14:14,  1.29s/it]"
     ]
    },
    {
     "name": "stdout",
     "output_type": "stream",
     "text": [
      "/home/jiang/projects/SubtleGAN/data/brats2021/train/BraTS2021_01307\n"
     ]
    },
    {
     "name": "stderr",
     "output_type": "stream",
     "text": [
      "\n",
      "  0%|          | 0/80 [00:00<?, ?it/s]\u001b[A\n",
      " 16%|█▋        | 13/80 [00:00<00:00, 126.56it/s]\u001b[A\n",
      " 32%|███▎      | 26/80 [00:00<00:00, 122.34it/s]\u001b[A\n",
      " 49%|████▉     | 39/80 [00:00<00:00, 123.90it/s]\u001b[A\n",
      " 65%|██████▌   | 52/80 [00:00<00:00, 125.87it/s]\u001b[A\n",
      " 81%|████████▏ | 65/80 [00:00<00:00, 123.99it/s]\u001b[A\n",
      "100%|██████████| 80/80 [00:00<00:00, 123.95it/s]\u001b[A\n",
      " 41%|████      | 464/1125 [09:27<13:47,  1.25s/it]"
     ]
    },
    {
     "name": "stdout",
     "output_type": "stream",
     "text": [
      "/home/jiang/projects/SubtleGAN/data/brats2021/train/BraTS2021_00417\n"
     ]
    },
    {
     "name": "stderr",
     "output_type": "stream",
     "text": [
      "\n",
      "  0%|          | 0/80 [00:00<?, ?it/s]\u001b[A\n",
      " 16%|█▋        | 13/80 [00:00<00:00, 129.51it/s]\u001b[A\n",
      " 32%|███▎      | 26/80 [00:00<00:00, 123.44it/s]\u001b[A\n",
      " 49%|████▉     | 39/80 [00:00<00:00, 124.46it/s]\u001b[A\n",
      " 65%|██████▌   | 52/80 [00:00<00:00, 124.05it/s]\u001b[A\n",
      " 81%|████████▏ | 65/80 [00:00<00:00, 123.71it/s]\u001b[A\n",
      "100%|██████████| 80/80 [00:00<00:00, 123.03it/s]\u001b[A\n",
      " 41%|████▏     | 465/1125 [09:28<13:30,  1.23s/it]"
     ]
    },
    {
     "name": "stdout",
     "output_type": "stream",
     "text": [
      "/home/jiang/projects/SubtleGAN/data/brats2021/train/BraTS2021_01415\n"
     ]
    },
    {
     "name": "stderr",
     "output_type": "stream",
     "text": [
      "\n",
      "  0%|          | 0/80 [00:00<?, ?it/s]\u001b[A\n",
      " 16%|█▋        | 13/80 [00:00<00:00, 125.41it/s]\u001b[A\n",
      " 32%|███▎      | 26/80 [00:00<00:00, 126.02it/s]\u001b[A\n",
      " 49%|████▉     | 39/80 [00:00<00:00, 126.19it/s]\u001b[A\n",
      " 65%|██████▌   | 52/80 [00:00<00:00, 124.89it/s]\u001b[A\n",
      " 81%|████████▏ | 65/80 [00:00<00:00, 124.59it/s]\u001b[A\n",
      "100%|██████████| 80/80 [00:00<00:00, 123.69it/s]\u001b[A\n",
      " 41%|████▏     | 466/1125 [09:29<13:17,  1.21s/it]"
     ]
    },
    {
     "name": "stdout",
     "output_type": "stream",
     "text": [
      "/home/jiang/projects/SubtleGAN/data/brats2021/train/BraTS2021_01248\n"
     ]
    },
    {
     "name": "stderr",
     "output_type": "stream",
     "text": [
      "\n",
      "  0%|          | 0/80 [00:00<?, ?it/s]\u001b[A\n",
      " 18%|█▊        | 14/80 [00:00<00:00, 132.80it/s]\u001b[A\n",
      " 35%|███▌      | 28/80 [00:00<00:00, 124.97it/s]\u001b[A\n",
      " 51%|█████▏    | 41/80 [00:00<00:00, 124.91it/s]\u001b[A\n",
      " 69%|██████▉   | 55/80 [00:00<00:00, 127.77it/s]\u001b[A\n",
      "100%|██████████| 80/80 [00:00<00:00, 125.52it/s]\u001b[A\n",
      " 42%|████▏     | 467/1125 [09:31<13:02,  1.19s/it]"
     ]
    },
    {
     "name": "stdout",
     "output_type": "stream",
     "text": [
      "/home/jiang/projects/SubtleGAN/data/brats2021/train/BraTS2021_00028\n"
     ]
    },
    {
     "name": "stderr",
     "output_type": "stream",
     "text": [
      "\n",
      "  0%|          | 0/80 [00:00<?, ?it/s]\u001b[A\n",
      " 16%|█▋        | 13/80 [00:00<00:00, 125.44it/s]\u001b[A\n",
      " 32%|███▎      | 26/80 [00:00<00:00, 123.76it/s]\u001b[A\n",
      " 49%|████▉     | 39/80 [00:00<00:00, 123.06it/s]\u001b[A\n",
      " 65%|██████▌   | 52/80 [00:00<00:00, 122.15it/s]\u001b[A\n",
      " 81%|████████▏ | 65/80 [00:00<00:00, 122.43it/s]\u001b[A\n",
      "100%|██████████| 80/80 [00:00<00:00, 121.75it/s]\u001b[A\n",
      " 42%|████▏     | 468/1125 [09:32<12:38,  1.15s/it]"
     ]
    },
    {
     "name": "stdout",
     "output_type": "stream",
     "text": [
      "/home/jiang/projects/SubtleGAN/data/brats2021/train/BraTS2021_01275\n"
     ]
    },
    {
     "name": "stderr",
     "output_type": "stream",
     "text": [
      "\n",
      "  0%|          | 0/80 [00:00<?, ?it/s]\u001b[A\n",
      " 16%|█▋        | 13/80 [00:00<00:00, 123.50it/s]\u001b[A\n",
      " 32%|███▎      | 26/80 [00:00<00:00, 80.19it/s] \u001b[A\n",
      " 48%|████▊     | 38/80 [00:00<00:00, 93.38it/s]\u001b[A\n",
      " 62%|██████▎   | 50/80 [00:00<00:00, 101.56it/s]\u001b[A\n",
      " 76%|███████▋  | 61/80 [00:00<00:00, 98.98it/s] \u001b[A\n",
      "100%|██████████| 80/80 [00:00<00:00, 102.33it/s]\u001b[A\n",
      " 42%|████▏     | 469/1125 [09:33<13:06,  1.20s/it]"
     ]
    },
    {
     "name": "stdout",
     "output_type": "stream",
     "text": [
      "/home/jiang/projects/SubtleGAN/data/brats2021/train/BraTS2021_00341\n"
     ]
    },
    {
     "name": "stderr",
     "output_type": "stream",
     "text": [
      "\n",
      "  0%|          | 0/80 [00:00<?, ?it/s]\u001b[A\n",
      " 16%|█▋        | 13/80 [00:00<00:00, 123.82it/s]\u001b[A\n",
      " 32%|███▎      | 26/80 [00:00<00:00, 117.64it/s]\u001b[A\n",
      " 48%|████▊     | 38/80 [00:00<00:00, 116.46it/s]\u001b[A\n",
      " 64%|██████▍   | 51/80 [00:00<00:00, 117.19it/s]\u001b[A\n",
      " 79%|███████▉  | 63/80 [00:00<00:00, 117.92it/s]\u001b[A\n",
      "100%|██████████| 80/80 [00:00<00:00, 117.23it/s]\u001b[A\n",
      " 42%|████▏     | 470/1125 [09:34<13:06,  1.20s/it]"
     ]
    },
    {
     "name": "stdout",
     "output_type": "stream",
     "text": [
      "/home/jiang/projects/SubtleGAN/data/brats2021/train/BraTS2021_00513\n"
     ]
    },
    {
     "name": "stderr",
     "output_type": "stream",
     "text": [
      "\n",
      "  0%|          | 0/80 [00:00<?, ?it/s]\u001b[A\n",
      " 16%|█▋        | 13/80 [00:00<00:00, 124.83it/s]\u001b[A\n",
      " 32%|███▎      | 26/80 [00:00<00:00, 123.99it/s]\u001b[A\n",
      " 49%|████▉     | 39/80 [00:00<00:00, 123.03it/s]\u001b[A\n",
      " 65%|██████▌   | 52/80 [00:00<00:00, 110.30it/s]\u001b[A\n",
      " 80%|████████  | 64/80 [00:00<00:00, 66.47it/s] \u001b[A\n",
      "100%|██████████| 80/80 [00:01<00:00, 77.04it/s]\u001b[A\n",
      " 42%|████▏     | 471/1125 [09:36<14:00,  1.28s/it]"
     ]
    },
    {
     "name": "stdout",
     "output_type": "stream",
     "text": [
      "/home/jiang/projects/SubtleGAN/data/brats2021/train/BraTS2021_00231\n"
     ]
    },
    {
     "name": "stderr",
     "output_type": "stream",
     "text": [
      "\n",
      "  0%|          | 0/80 [00:00<?, ?it/s]\u001b[A\n",
      " 16%|█▋        | 13/80 [00:00<00:00, 122.91it/s]\u001b[A\n",
      " 32%|███▎      | 26/80 [00:00<00:00, 119.51it/s]\u001b[A\n",
      " 49%|████▉     | 39/80 [00:00<00:00, 119.70it/s]\u001b[A\n",
      " 65%|██████▌   | 52/80 [00:00<00:00, 120.86it/s]\u001b[A\n",
      " 81%|████████▏ | 65/80 [00:00<00:00, 120.06it/s]\u001b[A\n",
      "100%|██████████| 80/80 [00:00<00:00, 107.37it/s]\u001b[A\n",
      " 42%|████▏     | 472/1125 [09:37<13:58,  1.28s/it]"
     ]
    },
    {
     "name": "stdout",
     "output_type": "stream",
     "text": [
      "/home/jiang/projects/SubtleGAN/data/brats2021/train/BraTS2021_00518\n"
     ]
    },
    {
     "name": "stderr",
     "output_type": "stream",
     "text": [
      "\n",
      "  0%|          | 0/80 [00:00<?, ?it/s]\u001b[A\n",
      " 16%|█▋        | 13/80 [00:00<00:00, 125.29it/s]\u001b[A\n",
      " 32%|███▎      | 26/80 [00:00<00:00, 86.39it/s] \u001b[A\n",
      " 49%|████▉     | 39/80 [00:00<00:00, 98.87it/s]\u001b[A\n",
      " 65%|██████▌   | 52/80 [00:00<00:00, 106.92it/s]\u001b[A\n",
      " 81%|████████▏ | 65/80 [00:00<00:00, 112.57it/s]\u001b[A\n",
      "100%|██████████| 80/80 [00:00<00:00, 109.39it/s]\u001b[A\n",
      " 42%|████▏     | 473/1125 [09:38<13:34,  1.25s/it]"
     ]
    },
    {
     "name": "stdout",
     "output_type": "stream",
     "text": [
      "/home/jiang/projects/SubtleGAN/data/brats2021/train/BraTS2021_00373\n"
     ]
    },
    {
     "name": "stderr",
     "output_type": "stream",
     "text": [
      "\n",
      "  0%|          | 0/80 [00:00<?, ?it/s]\u001b[A\n",
      " 16%|█▋        | 13/80 [00:00<00:00, 122.39it/s]\u001b[A\n",
      " 32%|███▎      | 26/80 [00:00<00:00, 121.88it/s]\u001b[A\n",
      " 49%|████▉     | 39/80 [00:00<00:00, 121.92it/s]\u001b[A\n",
      " 65%|██████▌   | 52/80 [00:00<00:00, 122.19it/s]\u001b[A\n",
      " 81%|████████▏ | 65/80 [00:00<00:00, 122.34it/s]\u001b[A\n",
      "100%|██████████| 80/80 [00:00<00:00, 121.42it/s]\u001b[A\n",
      " 42%|████▏     | 474/1125 [09:39<13:20,  1.23s/it]"
     ]
    },
    {
     "name": "stdout",
     "output_type": "stream",
     "text": [
      "/home/jiang/projects/SubtleGAN/data/brats2021/train/BraTS2021_01247\n"
     ]
    },
    {
     "name": "stderr",
     "output_type": "stream",
     "text": [
      "\n",
      "  0%|          | 0/80 [00:00<?, ?it/s]\u001b[A\n",
      " 16%|█▋        | 13/80 [00:00<00:00, 125.72it/s]\u001b[A\n",
      " 32%|███▎      | 26/80 [00:00<00:00, 123.30it/s]\u001b[A\n",
      " 49%|████▉     | 39/80 [00:00<00:00, 119.63it/s]\u001b[A\n",
      " 65%|██████▌   | 52/80 [00:00<00:00, 119.76it/s]\u001b[A\n",
      " 80%|████████  | 64/80 [00:00<00:00, 119.37it/s]\u001b[A\n",
      "100%|██████████| 80/80 [00:00<00:00, 120.26it/s]\u001b[A\n",
      " 42%|████▏     | 475/1125 [09:41<13:09,  1.21s/it]"
     ]
    },
    {
     "name": "stdout",
     "output_type": "stream",
     "text": [
      "/home/jiang/projects/SubtleGAN/data/brats2021/train/BraTS2021_00110\n"
     ]
    },
    {
     "name": "stderr",
     "output_type": "stream",
     "text": [
      "\n",
      "  0%|          | 0/80 [00:00<?, ?it/s]\u001b[A\n",
      " 16%|█▋        | 13/80 [00:00<00:00, 120.17it/s]\u001b[A\n",
      " 32%|███▎      | 26/80 [00:00<00:00, 123.31it/s]\u001b[A\n",
      " 49%|████▉     | 39/80 [00:00<00:00, 124.61it/s]\u001b[A\n",
      " 65%|██████▌   | 52/80 [00:00<00:00, 123.67it/s]\u001b[A\n",
      " 81%|████████▏ | 65/80 [00:00<00:00, 122.07it/s]\u001b[A\n",
      "100%|██████████| 80/80 [00:00<00:00, 122.47it/s]\u001b[A\n",
      " 42%|████▏     | 476/1125 [09:42<12:58,  1.20s/it]"
     ]
    },
    {
     "name": "stdout",
     "output_type": "stream",
     "text": [
      "/home/jiang/projects/SubtleGAN/data/brats2021/train/BraTS2021_00577\n"
     ]
    },
    {
     "name": "stderr",
     "output_type": "stream",
     "text": [
      "\n",
      "  0%|          | 0/80 [00:00<?, ?it/s]\u001b[A\n",
      " 16%|█▋        | 13/80 [00:00<00:00, 124.84it/s]\u001b[A\n",
      " 32%|███▎      | 26/80 [00:00<00:00, 123.35it/s]\u001b[A\n",
      " 49%|████▉     | 39/80 [00:00<00:00, 123.25it/s]\u001b[A\n",
      " 65%|██████▌   | 52/80 [00:00<00:00, 123.95it/s]\u001b[A\n",
      " 81%|████████▏ | 65/80 [00:00<00:00, 122.09it/s]\u001b[A\n",
      "100%|██████████| 80/80 [00:00<00:00, 116.48it/s]\u001b[A\n",
      " 42%|████▏     | 477/1125 [09:43<14:09,  1.31s/it]"
     ]
    },
    {
     "name": "stdout",
     "output_type": "stream",
     "text": [
      "/home/jiang/projects/SubtleGAN/data/brats2021/train/BraTS2021_01532\n"
     ]
    },
    {
     "name": "stderr",
     "output_type": "stream",
     "text": [
      "\n",
      "  0%|          | 0/80 [00:00<?, ?it/s]\u001b[A\n",
      " 16%|█▋        | 13/80 [00:00<00:00, 125.04it/s]\u001b[A\n",
      " 32%|███▎      | 26/80 [00:00<00:00, 123.63it/s]\u001b[A\n",
      " 49%|████▉     | 39/80 [00:00<00:00, 124.16it/s]\u001b[A\n",
      " 65%|██████▌   | 52/80 [00:00<00:00, 124.51it/s]\u001b[A\n",
      " 81%|████████▏ | 65/80 [00:00<00:00, 122.45it/s]\u001b[A\n",
      "100%|██████████| 80/80 [00:00<00:00, 122.92it/s]\u001b[A\n",
      " 42%|████▏     | 478/1125 [09:44<13:51,  1.28s/it]"
     ]
    },
    {
     "name": "stdout",
     "output_type": "stream",
     "text": [
      "/home/jiang/projects/SubtleGAN/data/brats2021/train/BraTS2021_00454\n"
     ]
    },
    {
     "name": "stderr",
     "output_type": "stream",
     "text": [
      "\n",
      "  0%|          | 0/80 [00:00<?, ?it/s]\u001b[A\n",
      " 16%|█▋        | 13/80 [00:00<00:00, 124.22it/s]\u001b[A\n",
      " 32%|███▎      | 26/80 [00:00<00:00, 126.25it/s]\u001b[A\n",
      " 49%|████▉     | 39/80 [00:00<00:00, 123.01it/s]\u001b[A\n",
      " 65%|██████▌   | 52/80 [00:00<00:00, 123.13it/s]\u001b[A\n",
      " 81%|████████▏ | 65/80 [00:00<00:00, 122.25it/s]\u001b[A\n",
      "100%|██████████| 80/80 [00:00<00:00, 122.96it/s]\u001b[A\n",
      " 43%|████▎     | 479/1125 [09:46<13:24,  1.24s/it]"
     ]
    },
    {
     "name": "stdout",
     "output_type": "stream",
     "text": [
      "/home/jiang/projects/SubtleGAN/data/brats2021/train/BraTS2021_00511\n"
     ]
    },
    {
     "name": "stderr",
     "output_type": "stream",
     "text": [
      "\n",
      "  0%|          | 0/80 [00:00<?, ?it/s]\u001b[A\n",
      " 16%|█▋        | 13/80 [00:00<00:00, 129.51it/s]\u001b[A\n",
      " 32%|███▎      | 26/80 [00:00<00:00, 126.07it/s]\u001b[A\n",
      " 49%|████▉     | 39/80 [00:00<00:00, 124.31it/s]\u001b[A\n",
      " 65%|██████▌   | 52/80 [00:00<00:00, 122.67it/s]\u001b[A\n",
      " 81%|████████▏ | 65/80 [00:00<00:00, 124.35it/s]\u001b[A\n",
      "100%|██████████| 80/80 [00:00<00:00, 124.32it/s]\u001b[A\n",
      " 43%|████▎     | 480/1125 [09:47<12:52,  1.20s/it]"
     ]
    },
    {
     "name": "stdout",
     "output_type": "stream",
     "text": [
      "/home/jiang/projects/SubtleGAN/data/brats2021/train/BraTS2021_00419\n"
     ]
    },
    {
     "name": "stderr",
     "output_type": "stream",
     "text": [
      "\n",
      "  0%|          | 0/80 [00:00<?, ?it/s]\u001b[A\n",
      " 16%|█▋        | 13/80 [00:00<00:00, 122.30it/s]\u001b[A\n",
      " 32%|███▎      | 26/80 [00:00<00:00, 120.74it/s]\u001b[A\n",
      " 49%|████▉     | 39/80 [00:00<00:00, 118.81it/s]\u001b[A\n",
      " 65%|██████▌   | 52/80 [00:00<00:00, 120.03it/s]\u001b[A\n",
      " 81%|████████▏ | 65/80 [00:00<00:00, 118.71it/s]\u001b[A\n",
      "100%|██████████| 80/80 [00:00<00:00, 118.84it/s]\u001b[A\n",
      " 43%|████▎     | 481/1125 [09:48<12:50,  1.20s/it]"
     ]
    },
    {
     "name": "stdout",
     "output_type": "stream",
     "text": [
      "/home/jiang/projects/SubtleGAN/data/brats2021/train/BraTS2021_00304\n"
     ]
    },
    {
     "name": "stderr",
     "output_type": "stream",
     "text": [
      "\n",
      "  0%|          | 0/80 [00:00<?, ?it/s]\u001b[A\n",
      " 16%|█▋        | 13/80 [00:00<00:00, 122.45it/s]\u001b[A\n",
      " 32%|███▎      | 26/80 [00:00<00:00, 122.55it/s]\u001b[A\n",
      " 49%|████▉     | 39/80 [00:00<00:00, 121.49it/s]\u001b[A\n",
      " 65%|██████▌   | 52/80 [00:00<00:00, 121.42it/s]\u001b[A\n",
      " 81%|████████▏ | 65/80 [00:00<00:00, 121.93it/s]\u001b[A\n",
      "100%|██████████| 80/80 [00:00<00:00, 115.75it/s]\u001b[A\n",
      " 43%|████▎     | 482/1125 [09:49<12:52,  1.20s/it]"
     ]
    },
    {
     "name": "stdout",
     "output_type": "stream",
     "text": [
      "/home/jiang/projects/SubtleGAN/data/brats2021/train/BraTS2021_01140\n"
     ]
    },
    {
     "name": "stderr",
     "output_type": "stream",
     "text": [
      "\n",
      "  0%|          | 0/80 [00:00<?, ?it/s]\u001b[A\n",
      " 18%|█▊        | 14/80 [00:00<00:00, 129.43it/s]\u001b[A\n",
      " 34%|███▍      | 27/80 [00:00<00:00, 125.03it/s]\u001b[A\n",
      " 50%|█████     | 40/80 [00:00<00:00, 125.13it/s]\u001b[A\n",
      " 66%|██████▋   | 53/80 [00:00<00:00, 123.35it/s]\u001b[A\n",
      " 82%|████████▎ | 66/80 [00:00<00:00, 123.08it/s]\u001b[A\n",
      "100%|██████████| 80/80 [00:00<00:00, 122.41it/s]\u001b[A\n",
      " 43%|████▎     | 483/1125 [09:50<12:43,  1.19s/it]"
     ]
    },
    {
     "name": "stdout",
     "output_type": "stream",
     "text": [
      "/home/jiang/projects/SubtleGAN/data/brats2021/train/BraTS2021_01338\n"
     ]
    },
    {
     "name": "stderr",
     "output_type": "stream",
     "text": [
      "\n",
      "  0%|          | 0/80 [00:00<?, ?it/s]\u001b[A\n",
      " 16%|█▋        | 13/80 [00:00<00:00, 126.55it/s]\u001b[A\n",
      " 32%|███▎      | 26/80 [00:00<00:00, 125.08it/s]\u001b[A\n",
      " 49%|████▉     | 39/80 [00:00<00:00, 107.85it/s]\u001b[A\n",
      " 65%|██████▌   | 52/80 [00:00<00:00, 113.14it/s]\u001b[A\n",
      " 81%|████████▏ | 65/80 [00:00<00:00, 116.95it/s]\u001b[A\n",
      "100%|██████████| 80/80 [00:00<00:00, 117.40it/s]\u001b[A\n",
      " 43%|████▎     | 484/1125 [09:51<12:47,  1.20s/it]"
     ]
    },
    {
     "name": "stdout",
     "output_type": "stream",
     "text": [
      "/home/jiang/projects/SubtleGAN/data/brats2021/train/BraTS2021_01368\n"
     ]
    },
    {
     "name": "stderr",
     "output_type": "stream",
     "text": [
      "\n",
      "  0%|          | 0/80 [00:00<?, ?it/s]\u001b[A\n",
      " 16%|█▋        | 13/80 [00:00<00:00, 125.29it/s]\u001b[A\n",
      " 32%|███▎      | 26/80 [00:00<00:00, 122.61it/s]\u001b[A\n",
      " 49%|████▉     | 39/80 [00:00<00:00, 120.64it/s]\u001b[A\n",
      " 65%|██████▌   | 52/80 [00:00<00:00, 121.31it/s]\u001b[A\n",
      " 81%|████████▏ | 65/80 [00:00<00:00, 120.85it/s]\u001b[A\n",
      "100%|██████████| 80/80 [00:00<00:00, 120.76it/s]\u001b[A\n",
      " 43%|████▎     | 485/1125 [09:53<12:49,  1.20s/it]"
     ]
    },
    {
     "name": "stdout",
     "output_type": "stream",
     "text": [
      "/home/jiang/projects/SubtleGAN/data/brats2021/train/BraTS2021_00704\n"
     ]
    },
    {
     "name": "stderr",
     "output_type": "stream",
     "text": [
      "\n",
      "  0%|          | 0/80 [00:00<?, ?it/s]\u001b[A\n",
      " 16%|█▋        | 13/80 [00:00<00:00, 119.51it/s]\u001b[A\n",
      " 31%|███▏      | 25/80 [00:00<00:00, 112.23it/s]\u001b[A\n",
      " 48%|████▊     | 38/80 [00:00<00:00, 117.99it/s]\u001b[A\n",
      " 62%|██████▎   | 50/80 [00:00<00:00, 113.48it/s]\u001b[A\n",
      " 79%|███████▉  | 63/80 [00:00<00:00, 116.09it/s]\u001b[A\n",
      "100%|██████████| 80/80 [00:00<00:00, 116.32it/s]\u001b[A\n",
      " 43%|████▎     | 486/1125 [09:54<12:29,  1.17s/it]"
     ]
    },
    {
     "name": "stdout",
     "output_type": "stream",
     "text": [
      "/home/jiang/projects/SubtleGAN/data/brats2021/train/BraTS2021_00593\n"
     ]
    },
    {
     "name": "stderr",
     "output_type": "stream",
     "text": [
      "\n",
      "  0%|          | 0/80 [00:00<?, ?it/s]\u001b[A\n",
      " 16%|█▋        | 13/80 [00:00<00:00, 128.28it/s]\u001b[A\n",
      " 32%|███▎      | 26/80 [00:00<00:00, 123.85it/s]\u001b[A\n",
      " 49%|████▉     | 39/80 [00:00<00:00, 123.24it/s]\u001b[A\n",
      " 65%|██████▌   | 52/80 [00:00<00:00, 122.72it/s]\u001b[A\n",
      " 81%|████████▏ | 65/80 [00:00<00:00, 123.18it/s]\u001b[A\n",
      "100%|██████████| 80/80 [00:00<00:00, 123.17it/s]\u001b[A\n",
      " 43%|████▎     | 487/1125 [09:55<13:36,  1.28s/it]"
     ]
    },
    {
     "name": "stdout",
     "output_type": "stream",
     "text": [
      "/home/jiang/projects/SubtleGAN/data/brats2021/train/BraTS2021_00191\n"
     ]
    },
    {
     "name": "stderr",
     "output_type": "stream",
     "text": [
      "\n",
      "  0%|          | 0/80 [00:00<?, ?it/s]\u001b[A\n",
      " 16%|█▋        | 13/80 [00:00<00:00, 125.54it/s]\u001b[A\n",
      " 32%|███▎      | 26/80 [00:00<00:00, 123.80it/s]\u001b[A\n",
      " 49%|████▉     | 39/80 [00:00<00:00, 123.26it/s]\u001b[A\n",
      " 65%|██████▌   | 52/80 [00:00<00:00, 121.68it/s]\u001b[A\n",
      " 81%|████████▏ | 65/80 [00:00<00:00, 122.53it/s]\u001b[A\n",
      "100%|██████████| 80/80 [00:00<00:00, 121.35it/s]\u001b[A\n",
      " 43%|████▎     | 488/1125 [09:57<13:17,  1.25s/it]"
     ]
    },
    {
     "name": "stdout",
     "output_type": "stream",
     "text": [
      "/home/jiang/projects/SubtleGAN/data/brats2021/train/BraTS2021_00575\n"
     ]
    },
    {
     "name": "stderr",
     "output_type": "stream",
     "text": [
      "\n",
      "  0%|          | 0/80 [00:00<?, ?it/s]\u001b[A\n",
      " 16%|█▋        | 13/80 [00:00<00:00, 129.34it/s]\u001b[A\n",
      " 32%|███▎      | 26/80 [00:00<00:00, 122.10it/s]\u001b[A\n",
      " 50%|█████     | 40/80 [00:00<00:00, 126.90it/s]\u001b[A\n",
      " 66%|██████▋   | 53/80 [00:00<00:00, 124.24it/s]\u001b[A\n",
      " 82%|████████▎ | 66/80 [00:00<00:00, 125.41it/s]\u001b[A\n",
      "100%|██████████| 80/80 [00:00<00:00, 124.13it/s]\u001b[A\n",
      " 43%|████▎     | 489/1125 [09:58<14:01,  1.32s/it]"
     ]
    },
    {
     "name": "stdout",
     "output_type": "stream",
     "text": [
      "/home/jiang/projects/SubtleGAN/data/brats2021/train/BraTS2021_01200\n"
     ]
    },
    {
     "name": "stderr",
     "output_type": "stream",
     "text": [
      "\n",
      "  0%|          | 0/80 [00:00<?, ?it/s]\u001b[A\n",
      " 15%|█▌        | 12/80 [00:00<00:00, 117.72it/s]\u001b[A\n",
      " 30%|███       | 24/80 [00:00<00:00, 118.54it/s]\u001b[A\n",
      " 45%|████▌     | 36/80 [00:00<00:00, 114.60it/s]\u001b[A\n",
      " 61%|██████▏   | 49/80 [00:00<00:00, 116.38it/s]\u001b[A\n",
      " 76%|███████▋  | 61/80 [00:00<00:00, 86.31it/s] \u001b[A\n",
      "100%|██████████| 80/80 [00:00<00:00, 102.41it/s][A\n",
      " 44%|████▎     | 490/1125 [09:59<13:53,  1.31s/it]"
     ]
    },
    {
     "name": "stdout",
     "output_type": "stream",
     "text": [
      "/home/jiang/projects/SubtleGAN/data/brats2021/train/BraTS2021_00791\n"
     ]
    },
    {
     "name": "stderr",
     "output_type": "stream",
     "text": [
      "\n",
      "  0%|          | 0/80 [00:00<?, ?it/s]\u001b[A\n",
      " 16%|█▋        | 13/80 [00:00<00:00, 124.64it/s]\u001b[A\n",
      " 32%|███▎      | 26/80 [00:00<00:00, 120.66it/s]\u001b[A\n",
      " 50%|█████     | 40/80 [00:00<00:00, 125.23it/s]\u001b[A\n",
      " 68%|██████▊   | 54/80 [00:00<00:00, 128.24it/s]\u001b[A\n",
      " 84%|████████▍ | 67/80 [00:00<00:00, 126.55it/s]\u001b[A\n",
      "100%|██████████| 80/80 [00:00<00:00, 124.43it/s]\u001b[A\n",
      " 44%|████▎     | 491/1125 [10:01<14:31,  1.37s/it]"
     ]
    },
    {
     "name": "stdout",
     "output_type": "stream",
     "text": [
      "/home/jiang/projects/SubtleGAN/data/brats2021/train/BraTS2021_01643\n"
     ]
    },
    {
     "name": "stderr",
     "output_type": "stream",
     "text": [
      "\n",
      "  0%|          | 0/80 [00:00<?, ?it/s]\u001b[A\n",
      " 16%|█▋        | 13/80 [00:00<00:00, 120.63it/s]\u001b[A\n",
      " 32%|███▎      | 26/80 [00:00<00:00, 123.01it/s]\u001b[A\n",
      " 49%|████▉     | 39/80 [00:00<00:00, 117.33it/s]\u001b[A\n",
      " 64%|██████▍   | 51/80 [00:00<00:00, 117.52it/s]\u001b[A\n",
      " 79%|███████▉  | 63/80 [00:00<00:00, 118.06it/s]\u001b[A\n",
      "100%|██████████| 80/80 [00:00<00:00, 117.98it/s]\u001b[A\n",
      " 44%|████▎     | 492/1125 [10:02<15:09,  1.44s/it]"
     ]
    },
    {
     "name": "stdout",
     "output_type": "stream",
     "text": [
      "/home/jiang/projects/SubtleGAN/data/brats2021/train/BraTS2021_01500\n"
     ]
    },
    {
     "name": "stderr",
     "output_type": "stream",
     "text": [
      "\n",
      "  0%|          | 0/80 [00:00<?, ?it/s]\u001b[A\n",
      " 18%|█▊        | 14/80 [00:00<00:00, 136.90it/s]\u001b[A\n",
      " 35%|███▌      | 28/80 [00:00<00:00, 124.00it/s]\u001b[A\n",
      " 51%|█████▏    | 41/80 [00:00<00:00, 108.81it/s]\u001b[A\n",
      " 66%|██████▋   | 53/80 [00:00<00:00, 99.36it/s] \u001b[A\n",
      " 80%|████████  | 64/80 [00:00<00:00, 78.28it/s]\u001b[A\n",
      "100%|██████████| 80/80 [00:00<00:00, 94.55it/s]\u001b[A\n",
      " 44%|████▍     | 493/1125 [10:04<14:54,  1.41s/it]"
     ]
    },
    {
     "name": "stdout",
     "output_type": "stream",
     "text": [
      "/home/jiang/projects/SubtleGAN/data/brats2021/train/BraTS2021_01529\n"
     ]
    },
    {
     "name": "stderr",
     "output_type": "stream",
     "text": [
      "\n",
      "  0%|          | 0/80 [00:00<?, ?it/s]\u001b[A\n",
      " 16%|█▋        | 13/80 [00:00<00:00, 128.34it/s]\u001b[A\n",
      " 32%|███▎      | 26/80 [00:00<00:00, 120.16it/s]\u001b[A\n",
      " 49%|████▉     | 39/80 [00:00<00:00, 81.09it/s] \u001b[A\n",
      " 64%|██████▍   | 51/80 [00:00<00:00, 90.50it/s]\u001b[A\n",
      " 80%|████████  | 64/80 [00:00<00:00, 100.52it/s]\u001b[A\n",
      "100%|██████████| 80/80 [00:00<00:00, 102.46it/s]\u001b[A\n",
      " 44%|████▍     | 494/1125 [10:05<14:34,  1.39s/it]"
     ]
    },
    {
     "name": "stdout",
     "output_type": "stream",
     "text": [
      "/home/jiang/projects/SubtleGAN/data/brats2021/train/BraTS2021_01478\n"
     ]
    },
    {
     "name": "stderr",
     "output_type": "stream",
     "text": [
      "\n",
      "  0%|          | 0/80 [00:00<?, ?it/s]\u001b[A\n",
      "  6%|▋         | 5/80 [00:00<00:01, 48.01it/s]\u001b[A\n",
      " 16%|█▋        | 13/80 [00:00<00:01, 62.86it/s]\u001b[A\n",
      " 32%|███▎      | 26/80 [00:00<00:00, 90.73it/s]\u001b[A\n",
      " 48%|████▊     | 38/80 [00:00<00:00, 101.47it/s]\u001b[A\n",
      " 64%|██████▍   | 51/80 [00:00<00:00, 109.20it/s]\u001b[A\n",
      " 80%|████████  | 64/80 [00:00<00:00, 114.12it/s]\u001b[A\n",
      "100%|██████████| 80/80 [00:00<00:00, 81.00it/s] \u001b[A\n",
      " 44%|████▍     | 495/1125 [10:07<14:56,  1.42s/it]"
     ]
    },
    {
     "name": "stdout",
     "output_type": "stream",
     "text": [
      "/home/jiang/projects/SubtleGAN/data/brats2021/train/BraTS2021_00823\n"
     ]
    },
    {
     "name": "stderr",
     "output_type": "stream",
     "text": [
      "\n",
      "  0%|          | 0/80 [00:00<?, ?it/s]\u001b[A\n",
      " 16%|█▋        | 13/80 [00:00<00:00, 122.68it/s]\u001b[A\n",
      " 32%|███▎      | 26/80 [00:00<00:00, 122.59it/s]\u001b[A\n",
      " 49%|████▉     | 39/80 [00:00<00:00, 122.08it/s]\u001b[A\n",
      " 65%|██████▌   | 52/80 [00:00<00:00, 93.77it/s] \u001b[A\n",
      " 80%|████████  | 64/80 [00:00<00:00, 100.99it/s]\u001b[A\n",
      "100%|██████████| 80/80 [00:00<00:00, 108.57it/s]\u001b[A\n",
      " 44%|████▍     | 496/1125 [10:08<15:36,  1.49s/it]"
     ]
    },
    {
     "name": "stdout",
     "output_type": "stream",
     "text": [
      "/home/jiang/projects/SubtleGAN/data/brats2021/train/BraTS2021_00596\n"
     ]
    },
    {
     "name": "stderr",
     "output_type": "stream",
     "text": [
      "\n",
      "  0%|          | 0/80 [00:00<?, ?it/s]\u001b[A\n",
      " 18%|█▊        | 14/80 [00:00<00:00, 133.83it/s]\u001b[A\n",
      " 35%|███▌      | 28/80 [00:00<00:00, 129.62it/s]\u001b[A\n",
      " 51%|█████▏    | 41/80 [00:00<00:00, 126.07it/s]\u001b[A\n",
      " 68%|██████▊   | 54/80 [00:00<00:00, 125.01it/s]\u001b[A\n",
      " 84%|████████▍ | 67/80 [00:00<00:00, 125.19it/s]\u001b[A\n",
      "100%|██████████| 80/80 [00:00<00:00, 124.80it/s]\u001b[A\n",
      " 44%|████▍     | 497/1125 [10:10<15:42,  1.50s/it]"
     ]
    },
    {
     "name": "stdout",
     "output_type": "stream",
     "text": [
      "/home/jiang/projects/SubtleGAN/data/brats2021/train/BraTS2021_01396\n"
     ]
    },
    {
     "name": "stderr",
     "output_type": "stream",
     "text": [
      "\n",
      "  0%|          | 0/80 [00:00<?, ?it/s]\u001b[A\n",
      " 16%|█▋        | 13/80 [00:00<00:00, 125.15it/s]\u001b[A\n",
      " 32%|███▎      | 26/80 [00:00<00:00, 127.83it/s]\u001b[A\n",
      " 49%|████▉     | 39/80 [00:00<00:00, 125.68it/s]\u001b[A\n",
      " 65%|██████▌   | 52/80 [00:00<00:00, 125.45it/s]\u001b[A\n",
      " 81%|████████▏ | 65/80 [00:00<00:00, 124.75it/s]\u001b[A\n",
      "100%|██████████| 80/80 [00:00<00:00, 124.13it/s]\u001b[A\n",
      " 44%|████▍     | 498/1125 [10:11<14:38,  1.40s/it]"
     ]
    },
    {
     "name": "stdout",
     "output_type": "stream",
     "text": [
      "/home/jiang/projects/SubtleGAN/data/brats2021/train/BraTS2021_01091\n"
     ]
    },
    {
     "name": "stderr",
     "output_type": "stream",
     "text": [
      "\n",
      "  0%|          | 0/80 [00:00<?, ?it/s]\u001b[A\n",
      " 16%|█▋        | 13/80 [00:00<00:00, 127.20it/s]\u001b[A\n",
      " 32%|███▎      | 26/80 [00:00<00:00, 126.50it/s]\u001b[A\n",
      " 49%|████▉     | 39/80 [00:00<00:00, 123.88it/s]\u001b[A\n",
      " 65%|██████▌   | 52/80 [00:00<00:00, 124.33it/s]\u001b[A\n",
      " 81%|████████▏ | 65/80 [00:00<00:00, 122.99it/s]\u001b[A\n",
      "100%|██████████| 80/80 [00:00<00:00, 123.94it/s]\u001b[A\n",
      " 44%|████▍     | 499/1125 [10:12<13:51,  1.33s/it]"
     ]
    },
    {
     "name": "stdout",
     "output_type": "stream",
     "text": [
      "/home/jiang/projects/SubtleGAN/data/brats2021/train/BraTS2021_00364\n"
     ]
    },
    {
     "name": "stderr",
     "output_type": "stream",
     "text": [
      "\n",
      "  0%|          | 0/80 [00:00<?, ?it/s]\u001b[A\n",
      " 16%|█▋        | 13/80 [00:00<00:00, 125.47it/s]\u001b[A\n",
      " 32%|███▎      | 26/80 [00:00<00:00, 123.45it/s]\u001b[A\n",
      " 49%|████▉     | 39/80 [00:00<00:00, 123.53it/s]\u001b[A\n",
      " 65%|██████▌   | 52/80 [00:00<00:00, 124.47it/s]\u001b[A\n",
      " 81%|████████▏ | 65/80 [00:00<00:00, 123.23it/s]\u001b[A\n",
      "100%|██████████| 80/80 [00:00<00:00, 123.41it/s]\u001b[A\n",
      " 44%|████▍     | 500/1125 [10:13<13:19,  1.28s/it]"
     ]
    },
    {
     "name": "stdout",
     "output_type": "stream",
     "text": [
      "/home/jiang/projects/SubtleGAN/data/brats2021/train/BraTS2021_00000\n"
     ]
    },
    {
     "name": "stderr",
     "output_type": "stream",
     "text": [
      "\n",
      "  0%|          | 0/80 [00:00<?, ?it/s]\u001b[A\n",
      " 16%|█▋        | 13/80 [00:00<00:00, 122.37it/s]\u001b[A\n",
      " 32%|███▎      | 26/80 [00:00<00:00, 125.33it/s]\u001b[A\n",
      " 49%|████▉     | 39/80 [00:00<00:00, 122.49it/s]\u001b[A\n",
      " 65%|██████▌   | 52/80 [00:00<00:00, 121.16it/s]\u001b[A\n",
      " 81%|████████▏ | 65/80 [00:00<00:00, 122.37it/s]\u001b[A\n",
      "100%|██████████| 80/80 [00:00<00:00, 121.03it/s]\u001b[A\n",
      " 45%|████▍     | 501/1125 [10:14<12:40,  1.22s/it]"
     ]
    },
    {
     "name": "stdout",
     "output_type": "stream",
     "text": [
      "/home/jiang/projects/SubtleGAN/data/brats2021/train/BraTS2021_01000\n"
     ]
    },
    {
     "name": "stderr",
     "output_type": "stream",
     "text": [
      "\n",
      "  0%|          | 0/80 [00:00<?, ?it/s]\u001b[A\n",
      " 16%|█▋        | 13/80 [00:00<00:00, 126.61it/s]\u001b[A\n",
      " 32%|███▎      | 26/80 [00:00<00:00, 121.85it/s]\u001b[A\n",
      " 49%|████▉     | 39/80 [00:00<00:00, 121.83it/s]\u001b[A\n",
      " 65%|██████▌   | 52/80 [00:00<00:00, 123.72it/s]\u001b[A\n",
      " 81%|████████▏ | 65/80 [00:00<00:00, 123.41it/s]\u001b[A\n",
      "100%|██████████| 80/80 [00:00<00:00, 121.69it/s]\u001b[A\n",
      " 45%|████▍     | 502/1125 [10:16<12:35,  1.21s/it]"
     ]
    },
    {
     "name": "stdout",
     "output_type": "stream",
     "text": [
      "/home/jiang/projects/SubtleGAN/data/brats2021/train/BraTS2021_01425\n"
     ]
    },
    {
     "name": "stderr",
     "output_type": "stream",
     "text": [
      "\n",
      "  0%|          | 0/80 [00:00<?, ?it/s]\u001b[A\n",
      " 16%|█▋        | 13/80 [00:00<00:00, 126.51it/s]\u001b[A\n",
      " 32%|███▎      | 26/80 [00:00<00:00, 126.48it/s]\u001b[A\n",
      " 49%|████▉     | 39/80 [00:00<00:00, 124.84it/s]\u001b[A\n",
      " 65%|██████▌   | 52/80 [00:00<00:00, 123.69it/s]\u001b[A\n",
      " 82%|████████▎ | 66/80 [00:00<00:00, 126.10it/s]\u001b[A\n",
      "100%|██████████| 80/80 [00:00<00:00, 124.60it/s]\u001b[A\n",
      " 45%|████▍     | 503/1125 [10:17<12:26,  1.20s/it]"
     ]
    },
    {
     "name": "stdout",
     "output_type": "stream",
     "text": [
      "/home/jiang/projects/SubtleGAN/data/brats2021/train/BraTS2021_01432\n"
     ]
    },
    {
     "name": "stderr",
     "output_type": "stream",
     "text": [
      "\n",
      "  0%|          | 0/80 [00:00<?, ?it/s]\u001b[A\n",
      " 18%|█▊        | 14/80 [00:00<00:00, 129.10it/s]\u001b[A\n",
      " 34%|███▍      | 27/80 [00:00<00:00, 126.66it/s]\u001b[A\n",
      " 50%|█████     | 40/80 [00:00<00:00, 124.25it/s]\u001b[A\n",
      " 66%|██████▋   | 53/80 [00:00<00:00, 125.26it/s]\u001b[A\n",
      " 82%|████████▎ | 66/80 [00:00<00:00, 123.93it/s]\u001b[A\n",
      "100%|██████████| 80/80 [00:00<00:00, 124.76it/s]\u001b[A\n",
      " 45%|████▍     | 504/1125 [10:18<12:17,  1.19s/it]"
     ]
    },
    {
     "name": "stdout",
     "output_type": "stream",
     "text": [
      "/home/jiang/projects/SubtleGAN/data/brats2021/train/BraTS2021_01401\n"
     ]
    },
    {
     "name": "stderr",
     "output_type": "stream",
     "text": [
      "\n",
      "  0%|          | 0/80 [00:00<?, ?it/s]\u001b[A\n",
      "  9%|▉         | 7/80 [00:00<00:01, 63.20it/s]\u001b[A\n",
      " 25%|██▌       | 20/80 [00:00<00:00, 98.83it/s]\u001b[A\n",
      " 41%|████▏     | 33/80 [00:00<00:00, 109.67it/s]\u001b[A\n",
      " 57%|█████▊    | 46/80 [00:00<00:00, 115.37it/s]\u001b[A\n",
      " 74%|███████▍  | 59/80 [00:00<00:00, 118.50it/s]\u001b[A\n",
      "100%|██████████| 80/80 [00:00<00:00, 115.50it/s]\u001b[A\n",
      " 45%|████▍     | 505/1125 [10:19<12:22,  1.20s/it]"
     ]
    },
    {
     "name": "stdout",
     "output_type": "stream",
     "text": [
      "/home/jiang/projects/SubtleGAN/data/brats2021/train/BraTS2021_00359\n"
     ]
    },
    {
     "name": "stderr",
     "output_type": "stream",
     "text": [
      "\n",
      "  0%|          | 0/80 [00:00<?, ?it/s]\u001b[A\n",
      " 16%|█▋        | 13/80 [00:00<00:00, 123.18it/s]\u001b[A\n",
      " 32%|███▎      | 26/80 [00:00<00:00, 120.22it/s]\u001b[A\n",
      " 49%|████▉     | 39/80 [00:00<00:00, 119.54it/s]\u001b[A\n",
      " 64%|██████▍   | 51/80 [00:00<00:00, 118.93it/s]\u001b[A\n",
      " 79%|███████▉  | 63/80 [00:00<00:00, 119.07it/s]\u001b[A\n",
      "100%|██████████| 80/80 [00:00<00:00, 119.95it/s]\u001b[A\n",
      " 45%|████▍     | 506/1125 [10:20<12:18,  1.19s/it]"
     ]
    },
    {
     "name": "stdout",
     "output_type": "stream",
     "text": [
      "/home/jiang/projects/SubtleGAN/data/brats2021/train/BraTS2021_00192\n"
     ]
    },
    {
     "name": "stderr",
     "output_type": "stream",
     "text": [
      "\n",
      "  0%|          | 0/80 [00:00<?, ?it/s]\u001b[A\n",
      " 16%|█▋        | 13/80 [00:00<00:00, 125.01it/s]\u001b[A\n",
      " 32%|███▎      | 26/80 [00:00<00:00, 121.88it/s]\u001b[A\n",
      " 49%|████▉     | 39/80 [00:00<00:00, 122.51it/s]\u001b[A\n",
      " 65%|██████▌   | 52/80 [00:00<00:00, 119.51it/s]\u001b[A\n",
      " 80%|████████  | 64/80 [00:00<00:00, 118.65it/s]\u001b[A\n",
      "100%|██████████| 80/80 [00:00<00:00, 118.95it/s]\u001b[A\n",
      " 45%|████▌     | 507/1125 [10:21<12:17,  1.19s/it]"
     ]
    },
    {
     "name": "stdout",
     "output_type": "stream",
     "text": [
      "/home/jiang/projects/SubtleGAN/data/brats2021/train/BraTS2021_01349\n"
     ]
    },
    {
     "name": "stderr",
     "output_type": "stream",
     "text": [
      "\n",
      "  0%|          | 0/80 [00:00<?, ?it/s]\u001b[A\n",
      " 16%|█▋        | 13/80 [00:00<00:00, 121.14it/s]\u001b[A\n",
      " 32%|███▎      | 26/80 [00:00<00:00, 118.44it/s]\u001b[A\n",
      " 48%|████▊     | 38/80 [00:00<00:00, 117.09it/s]\u001b[A\n",
      " 64%|██████▍   | 51/80 [00:00<00:00, 118.58it/s]\u001b[A\n",
      " 80%|████████  | 64/80 [00:00<00:00, 120.44it/s]\u001b[A\n",
      "100%|██████████| 80/80 [00:00<00:00, 118.53it/s]\u001b[A\n",
      " 45%|████▌     | 508/1125 [10:23<12:18,  1.20s/it]"
     ]
    },
    {
     "name": "stdout",
     "output_type": "stream",
     "text": [
      "/home/jiang/projects/SubtleGAN/data/brats2021/train/BraTS2021_00793\n"
     ]
    },
    {
     "name": "stderr",
     "output_type": "stream",
     "text": [
      "\n",
      "  0%|          | 0/80 [00:00<?, ?it/s]\u001b[A\n",
      " 16%|█▋        | 13/80 [00:00<00:00, 125.62it/s]\u001b[A\n",
      " 32%|███▎      | 26/80 [00:00<00:00, 123.44it/s]\u001b[A\n",
      " 49%|████▉     | 39/80 [00:00<00:00, 121.94it/s]\u001b[A\n",
      " 65%|██████▌   | 52/80 [00:00<00:00, 122.88it/s]\u001b[A\n",
      " 81%|████████▏ | 65/80 [00:00<00:00, 123.03it/s]\u001b[A\n",
      "100%|██████████| 80/80 [00:00<00:00, 121.49it/s]\u001b[A\n",
      " 45%|████▌     | 509/1125 [10:24<13:27,  1.31s/it]"
     ]
    },
    {
     "name": "stdout",
     "output_type": "stream",
     "text": [
      "/home/jiang/projects/SubtleGAN/data/brats2021/train/BraTS2021_01294\n"
     ]
    },
    {
     "name": "stderr",
     "output_type": "stream",
     "text": [
      "\n",
      "  0%|          | 0/80 [00:00<?, ?it/s]\u001b[A\n",
      " 16%|█▋        | 13/80 [00:00<00:00, 126.46it/s]\u001b[A\n",
      " 32%|███▎      | 26/80 [00:00<00:00, 124.04it/s]\u001b[A\n",
      " 49%|████▉     | 39/80 [00:00<00:00, 123.12it/s]\u001b[A\n",
      " 65%|██████▌   | 52/80 [00:00<00:00, 122.51it/s]\u001b[A\n",
      " 81%|████████▏ | 65/80 [00:00<00:00, 120.57it/s]\u001b[A\n",
      "100%|██████████| 80/80 [00:00<00:00, 120.25it/s]\u001b[A\n",
      " 45%|████▌     | 510/1125 [10:25<13:06,  1.28s/it]"
     ]
    },
    {
     "name": "stdout",
     "output_type": "stream",
     "text": [
      "/home/jiang/projects/SubtleGAN/data/brats2021/train/BraTS2021_01571\n"
     ]
    },
    {
     "name": "stderr",
     "output_type": "stream",
     "text": [
      "\n",
      "  0%|          | 0/80 [00:00<?, ?it/s]\u001b[A\n",
      " 16%|█▋        | 13/80 [00:00<00:00, 121.64it/s]\u001b[A\n",
      " 32%|███▎      | 26/80 [00:00<00:00, 122.68it/s]\u001b[A\n",
      " 49%|████▉     | 39/80 [00:00<00:00, 121.74it/s]\u001b[A\n",
      " 65%|██████▌   | 52/80 [00:00<00:00, 121.41it/s]\u001b[A\n",
      " 81%|████████▏ | 65/80 [00:00<00:00, 121.44it/s]\u001b[A\n",
      "100%|██████████| 80/80 [00:00<00:00, 116.53it/s]\u001b[A\n",
      " 45%|████▌     | 511/1125 [10:27<14:09,  1.38s/it]"
     ]
    },
    {
     "name": "stdout",
     "output_type": "stream",
     "text": [
      "/home/jiang/projects/SubtleGAN/data/brats2021/train/BraTS2021_01605\n"
     ]
    },
    {
     "name": "stderr",
     "output_type": "stream",
     "text": [
      "\n",
      "  0%|          | 0/80 [00:00<?, ?it/s]\u001b[A\n",
      " 16%|█▋        | 13/80 [00:00<00:00, 124.36it/s]\u001b[A\n",
      " 32%|███▎      | 26/80 [00:00<00:00, 123.28it/s]\u001b[A\n",
      " 49%|████▉     | 39/80 [00:00<00:00, 122.92it/s]\u001b[A\n",
      " 65%|██████▌   | 52/80 [00:00<00:00, 121.52it/s]\u001b[A\n",
      " 81%|████████▏ | 65/80 [00:00<00:00, 121.67it/s]\u001b[A\n",
      "100%|██████████| 80/80 [00:00<00:00, 120.48it/s]\u001b[A\n",
      " 46%|████▌     | 512/1125 [10:29<14:37,  1.43s/it]"
     ]
    },
    {
     "name": "stdout",
     "output_type": "stream",
     "text": [
      "/home/jiang/projects/SubtleGAN/data/brats2021/train/BraTS2021_01578\n"
     ]
    },
    {
     "name": "stderr",
     "output_type": "stream",
     "text": [
      "\n",
      "  0%|          | 0/80 [00:00<?, ?it/s]\u001b[A\n",
      " 16%|█▋        | 13/80 [00:00<00:00, 125.45it/s]\u001b[A\n",
      " 32%|███▎      | 26/80 [00:00<00:00, 124.86it/s]\u001b[A\n",
      " 49%|████▉     | 39/80 [00:00<00:00, 124.53it/s]\u001b[A\n",
      " 65%|██████▌   | 52/80 [00:00<00:00, 121.13it/s]\u001b[A\n",
      " 81%|████████▏ | 65/80 [00:00<00:00, 121.52it/s]\u001b[A\n",
      "100%|██████████| 80/80 [00:00<00:00, 122.59it/s]\u001b[A\n",
      " 46%|████▌     | 513/1125 [10:30<14:56,  1.46s/it]"
     ]
    },
    {
     "name": "stdout",
     "output_type": "stream",
     "text": [
      "/home/jiang/projects/SubtleGAN/data/brats2021/train/BraTS2021_00412\n"
     ]
    },
    {
     "name": "stderr",
     "output_type": "stream",
     "text": [
      "\n",
      "  0%|          | 0/80 [00:00<?, ?it/s]\u001b[A\n",
      " 16%|█▋        | 13/80 [00:00<00:00, 120.54it/s]\u001b[A\n",
      " 32%|███▎      | 26/80 [00:00<00:00, 119.71it/s]\u001b[A\n",
      " 48%|████▊     | 38/80 [00:00<00:00, 119.01it/s]\u001b[A\n",
      " 62%|██████▎   | 50/80 [00:00<00:00, 117.64it/s]\u001b[A\n",
      " 78%|███████▊  | 62/80 [00:00<00:00, 116.40it/s]\u001b[A\n",
      "100%|██████████| 80/80 [00:00<00:00, 117.72it/s]\u001b[A\n",
      " 46%|████▌     | 514/1125 [10:31<14:07,  1.39s/it]"
     ]
    },
    {
     "name": "stdout",
     "output_type": "stream",
     "text": [
      "/home/jiang/projects/SubtleGAN/data/brats2021/train/BraTS2021_00258\n"
     ]
    },
    {
     "name": "stderr",
     "output_type": "stream",
     "text": [
      "\n",
      "  0%|          | 0/80 [00:00<?, ?it/s]\u001b[A\n",
      " 15%|█▌        | 12/80 [00:00<00:00, 118.90it/s]\u001b[A\n",
      " 30%|███       | 24/80 [00:00<00:00, 117.48it/s]\u001b[A\n",
      " 45%|████▌     | 36/80 [00:00<00:00, 117.02it/s]\u001b[A\n",
      " 60%|██████    | 48/80 [00:00<00:00, 116.23it/s]\u001b[A\n",
      " 75%|███████▌  | 60/80 [00:00<00:00, 117.03it/s]\u001b[A\n",
      "100%|██████████| 80/80 [00:00<00:00, 116.93it/s]\u001b[A\n",
      " 46%|████▌     | 515/1125 [10:33<13:35,  1.34s/it]"
     ]
    },
    {
     "name": "stdout",
     "output_type": "stream",
     "text": [
      "/home/jiang/projects/SubtleGAN/data/brats2021/train/BraTS2021_00301\n"
     ]
    },
    {
     "name": "stderr",
     "output_type": "stream",
     "text": [
      "\n",
      "  0%|          | 0/80 [00:00<?, ?it/s]\u001b[A\n",
      " 16%|█▋        | 13/80 [00:00<00:00, 122.47it/s]\u001b[A\n",
      " 32%|███▎      | 26/80 [00:00<00:00, 124.21it/s]\u001b[A\n",
      " 49%|████▉     | 39/80 [00:00<00:00, 122.93it/s]\u001b[A\n",
      " 65%|██████▌   | 52/80 [00:00<00:00, 122.57it/s]\u001b[A\n",
      " 81%|████████▏ | 65/80 [00:00<00:00, 123.76it/s]\u001b[A\n",
      "100%|██████████| 80/80 [00:00<00:00, 122.86it/s]\u001b[A\n",
      " 46%|████▌     | 516/1125 [10:34<13:04,  1.29s/it]"
     ]
    },
    {
     "name": "stdout",
     "output_type": "stream",
     "text": [
      "/home/jiang/projects/SubtleGAN/data/brats2021/train/BraTS2021_01232\n"
     ]
    },
    {
     "name": "stderr",
     "output_type": "stream",
     "text": [
      "\n",
      "  0%|          | 0/80 [00:00<?, ?it/s]\u001b[A\n",
      " 16%|█▋        | 13/80 [00:00<00:00, 125.15it/s]\u001b[A\n",
      " 32%|███▎      | 26/80 [00:00<00:00, 119.52it/s]\u001b[A\n",
      " 49%|████▉     | 39/80 [00:00<00:00, 122.97it/s]\u001b[A\n",
      " 65%|██████▌   | 52/80 [00:00<00:00, 120.24it/s]\u001b[A\n",
      " 81%|████████▏ | 65/80 [00:00<00:00, 122.20it/s]\u001b[A\n",
      "100%|██████████| 80/80 [00:00<00:00, 121.74it/s]\u001b[A\n",
      " 46%|████▌     | 517/1125 [10:35<12:44,  1.26s/it]"
     ]
    },
    {
     "name": "stdout",
     "output_type": "stream",
     "text": [
      "/home/jiang/projects/SubtleGAN/data/brats2021/train/BraTS2021_01474\n"
     ]
    },
    {
     "name": "stderr",
     "output_type": "stream",
     "text": [
      "\n",
      "  0%|          | 0/80 [00:00<?, ?it/s]\u001b[A\n",
      " 16%|█▋        | 13/80 [00:00<00:00, 126.51it/s]\u001b[A\n",
      " 32%|███▎      | 26/80 [00:00<00:00, 125.11it/s]\u001b[A\n",
      " 49%|████▉     | 39/80 [00:00<00:00, 124.65it/s]\u001b[A\n",
      " 65%|██████▌   | 52/80 [00:00<00:00, 122.60it/s]\u001b[A\n",
      " 81%|████████▏ | 65/80 [00:00<00:00, 124.19it/s]\u001b[A\n",
      "100%|██████████| 80/80 [00:00<00:00, 122.56it/s]\u001b[A\n",
      " 46%|████▌     | 518/1125 [10:36<12:26,  1.23s/it]"
     ]
    },
    {
     "name": "stdout",
     "output_type": "stream",
     "text": [
      "/home/jiang/projects/SubtleGAN/data/brats2021/train/BraTS2021_01404\n"
     ]
    },
    {
     "name": "stderr",
     "output_type": "stream",
     "text": [
      "\n",
      "  0%|          | 0/80 [00:00<?, ?it/s]\u001b[A\n",
      " 16%|█▋        | 13/80 [00:00<00:00, 127.33it/s]\u001b[A\n",
      " 32%|███▎      | 26/80 [00:00<00:00, 120.39it/s]\u001b[A\n",
      " 49%|████▉     | 39/80 [00:00<00:00, 121.40it/s]\u001b[A\n",
      " 65%|██████▌   | 52/80 [00:00<00:00, 122.17it/s]\u001b[A\n",
      " 81%|████████▏ | 65/80 [00:00<00:00, 122.59it/s]\u001b[A\n",
      "100%|██████████| 80/80 [00:00<00:00, 121.96it/s]\u001b[A\n",
      " 46%|████▌     | 519/1125 [10:37<12:21,  1.22s/it]"
     ]
    },
    {
     "name": "stdout",
     "output_type": "stream",
     "text": [
      "/home/jiang/projects/SubtleGAN/data/brats2021/train/BraTS2021_01367\n"
     ]
    },
    {
     "name": "stderr",
     "output_type": "stream",
     "text": [
      "\n",
      "  0%|          | 0/80 [00:00<?, ?it/s]\u001b[A\n",
      " 16%|█▋        | 13/80 [00:00<00:00, 124.51it/s]\u001b[A\n",
      " 32%|███▎      | 26/80 [00:00<00:00, 124.45it/s]\u001b[A\n",
      " 49%|████▉     | 39/80 [00:00<00:00, 124.49it/s]\u001b[A\n",
      " 65%|██████▌   | 52/80 [00:00<00:00, 122.66it/s]\u001b[A\n",
      " 81%|████████▏ | 65/80 [00:00<00:00, 121.98it/s]\u001b[A\n",
      "100%|██████████| 80/80 [00:00<00:00, 122.84it/s]\u001b[A\n",
      " 46%|████▌     | 520/1125 [10:39<12:24,  1.23s/it]"
     ]
    },
    {
     "name": "stdout",
     "output_type": "stream",
     "text": [
      "/home/jiang/projects/SubtleGAN/data/brats2021/train/BraTS2021_00138\n"
     ]
    },
    {
     "name": "stderr",
     "output_type": "stream",
     "text": [
      "\n",
      "  0%|          | 0/80 [00:00<?, ?it/s]\u001b[A\n",
      " 16%|█▋        | 13/80 [00:00<00:00, 125.14it/s]\u001b[A\n",
      " 32%|███▎      | 26/80 [00:00<00:00, 122.06it/s]\u001b[A\n",
      " 49%|████▉     | 39/80 [00:00<00:00, 121.75it/s]\u001b[A\n",
      " 65%|██████▌   | 52/80 [00:00<00:00, 121.21it/s]\u001b[A\n",
      " 81%|████████▏ | 65/80 [00:00<00:00, 120.22it/s]\u001b[A\n",
      "100%|██████████| 80/80 [00:00<00:00, 120.67it/s]\u001b[A\n",
      " 46%|████▋     | 521/1125 [10:40<12:32,  1.25s/it]"
     ]
    },
    {
     "name": "stdout",
     "output_type": "stream",
     "text": [
      "/home/jiang/projects/SubtleGAN/data/brats2021/train/BraTS2021_00693\n"
     ]
    },
    {
     "name": "stderr",
     "output_type": "stream",
     "text": [
      "\n",
      "  0%|          | 0/80 [00:00<?, ?it/s]\u001b[A\n",
      " 16%|█▋        | 13/80 [00:00<00:00, 122.81it/s]\u001b[A\n",
      " 32%|███▎      | 26/80 [00:00<00:00, 123.03it/s]\u001b[A\n",
      " 49%|████▉     | 39/80 [00:00<00:00, 121.54it/s]\u001b[A\n",
      " 65%|██████▌   | 52/80 [00:00<00:00, 121.00it/s]\u001b[A\n",
      " 81%|████████▏ | 65/80 [00:00<00:00, 122.24it/s]\u001b[A\n",
      "100%|██████████| 80/80 [00:00<00:00, 121.25it/s]\u001b[A\n",
      " 46%|████▋     | 522/1125 [10:41<12:06,  1.20s/it]"
     ]
    },
    {
     "name": "stdout",
     "output_type": "stream",
     "text": [
      "/home/jiang/projects/SubtleGAN/data/brats2021/train/BraTS2021_01238\n"
     ]
    },
    {
     "name": "stderr",
     "output_type": "stream",
     "text": [
      "\n",
      "  0%|          | 0/80 [00:00<?, ?it/s]\u001b[A\n",
      " 16%|█▋        | 13/80 [00:00<00:00, 121.38it/s]\u001b[A\n",
      " 32%|███▎      | 26/80 [00:00<00:00, 119.97it/s]\u001b[A\n",
      " 49%|████▉     | 39/80 [00:00<00:00, 120.78it/s]\u001b[A\n",
      " 65%|██████▌   | 52/80 [00:00<00:00, 120.10it/s]\u001b[A\n",
      " 81%|████████▏ | 65/80 [00:00<00:00, 121.13it/s]\u001b[A\n",
      "100%|██████████| 80/80 [00:00<00:00, 120.39it/s]\u001b[A\n",
      " 46%|████▋     | 523/1125 [10:42<12:17,  1.22s/it]"
     ]
    },
    {
     "name": "stdout",
     "output_type": "stream",
     "text": [
      "/home/jiang/projects/SubtleGAN/data/brats2021/train/BraTS2021_01364\n"
     ]
    },
    {
     "name": "stderr",
     "output_type": "stream",
     "text": [
      "\n",
      "  0%|          | 0/80 [00:00<?, ?it/s]\u001b[A\n",
      " 16%|█▋        | 13/80 [00:00<00:00, 121.35it/s]\u001b[A\n",
      " 32%|███▎      | 26/80 [00:00<00:00, 121.75it/s]\u001b[A\n",
      " 49%|████▉     | 39/80 [00:00<00:00, 117.66it/s]\u001b[A\n",
      " 64%|██████▍   | 51/80 [00:00<00:00, 117.54it/s]\u001b[A\n",
      " 79%|███████▉  | 63/80 [00:00<00:00, 116.63it/s]\u001b[A\n",
      "100%|██████████| 80/80 [00:00<00:00, 117.73it/s]\u001b[A\n",
      " 47%|████▋     | 524/1125 [10:44<12:29,  1.25s/it]"
     ]
    },
    {
     "name": "stdout",
     "output_type": "stream",
     "text": [
      "/home/jiang/projects/SubtleGAN/data/brats2021/train/BraTS2021_00772\n"
     ]
    },
    {
     "name": "stderr",
     "output_type": "stream",
     "text": [
      "\n",
      "  0%|          | 0/80 [00:00<?, ?it/s]\u001b[A\n",
      " 16%|█▋        | 13/80 [00:00<00:00, 127.65it/s]\u001b[A\n",
      " 32%|███▎      | 26/80 [00:00<00:00, 124.11it/s]\u001b[A\n",
      " 49%|████▉     | 39/80 [00:00<00:00, 123.67it/s]\u001b[A\n",
      " 65%|██████▌   | 52/80 [00:00<00:00, 123.31it/s]\u001b[A\n",
      " 81%|████████▏ | 65/80 [00:00<00:00, 124.69it/s]\u001b[A\n",
      "100%|██████████| 80/80 [00:00<00:00, 110.48it/s]\u001b[A\n",
      " 47%|████▋     | 525/1125 [10:45<12:42,  1.27s/it]"
     ]
    },
    {
     "name": "stdout",
     "output_type": "stream",
     "text": [
      "/home/jiang/projects/SubtleGAN/data/brats2021/train/BraTS2021_01611\n"
     ]
    },
    {
     "name": "stderr",
     "output_type": "stream",
     "text": [
      "\n",
      "  0%|          | 0/80 [00:00<?, ?it/s]\u001b[A\n",
      " 16%|█▋        | 13/80 [00:00<00:00, 120.06it/s]\u001b[A\n",
      " 32%|███▎      | 26/80 [00:00<00:00, 124.69it/s]\u001b[A\n",
      " 49%|████▉     | 39/80 [00:00<00:00, 120.97it/s]\u001b[A\n",
      " 65%|██████▌   | 52/80 [00:00<00:00, 122.92it/s]\u001b[A\n",
      " 81%|████████▏ | 65/80 [00:00<00:00, 123.81it/s]\u001b[A\n",
      "100%|██████████| 80/80 [00:00<00:00, 117.01it/s]\u001b[A\n",
      " 47%|████▋     | 526/1125 [10:47<14:03,  1.41s/it]"
     ]
    },
    {
     "name": "stdout",
     "output_type": "stream",
     "text": [
      "/home/jiang/projects/SubtleGAN/data/brats2021/train/BraTS2021_01447\n"
     ]
    },
    {
     "name": "stderr",
     "output_type": "stream",
     "text": [
      "\n",
      "  0%|          | 0/80 [00:00<?, ?it/s]\u001b[A\n",
      " 16%|█▋        | 13/80 [00:00<00:00, 127.02it/s]\u001b[A\n",
      " 32%|███▎      | 26/80 [00:00<00:00, 77.06it/s] \u001b[A\n",
      " 44%|████▍     | 35/80 [00:00<00:00, 75.99it/s]\u001b[A\n",
      " 59%|█████▉    | 47/80 [00:00<00:00, 88.78it/s]\u001b[A\n",
      " 74%|███████▍  | 59/80 [00:00<00:00, 97.67it/s]\u001b[A\n",
      "100%|██████████| 80/80 [00:00<00:00, 97.09it/s] \u001b[A\n",
      " 47%|████▋     | 527/1125 [10:48<14:15,  1.43s/it]"
     ]
    },
    {
     "name": "stdout",
     "output_type": "stream",
     "text": [
      "/home/jiang/projects/SubtleGAN/data/brats2021/train/BraTS2021_01252\n"
     ]
    },
    {
     "name": "stderr",
     "output_type": "stream",
     "text": [
      "\n",
      "  0%|          | 0/80 [00:00<?, ?it/s]\u001b[A\n",
      " 16%|█▋        | 13/80 [00:00<00:00, 124.70it/s]\u001b[A\n",
      " 32%|███▎      | 26/80 [00:00<00:00, 122.18it/s]\u001b[A\n",
      " 49%|████▉     | 39/80 [00:00<00:00, 123.81it/s]\u001b[A\n",
      " 65%|██████▌   | 52/80 [00:00<00:00, 121.37it/s]\u001b[A\n",
      " 81%|████████▏ | 65/80 [00:00<00:00, 122.28it/s]\u001b[A\n",
      "100%|██████████| 80/80 [00:00<00:00, 121.83it/s]\u001b[A\n",
      " 47%|████▋     | 528/1125 [10:49<13:46,  1.38s/it]"
     ]
    },
    {
     "name": "stdout",
     "output_type": "stream",
     "text": [
      "/home/jiang/projects/SubtleGAN/data/brats2021/train/BraTS2021_00561\n"
     ]
    },
    {
     "name": "stderr",
     "output_type": "stream",
     "text": [
      "\n",
      "  0%|          | 0/80 [00:00<?, ?it/s]\u001b[A\n",
      " 15%|█▌        | 12/80 [00:00<00:00, 119.21it/s]\u001b[A\n",
      " 30%|███       | 24/80 [00:00<00:00, 119.07it/s]\u001b[A\n",
      " 46%|████▋     | 37/80 [00:00<00:00, 123.17it/s]\u001b[A\n",
      " 62%|██████▎   | 50/80 [00:00<00:00, 123.23it/s]\u001b[A\n",
      " 79%|███████▉  | 63/80 [00:00<00:00, 123.74it/s]\u001b[A\n",
      "100%|██████████| 80/80 [00:00<00:00, 122.07it/s]\u001b[A\n",
      " 47%|████▋     | 529/1125 [10:51<13:21,  1.35s/it]"
     ]
    },
    {
     "name": "stdout",
     "output_type": "stream",
     "text": [
      "/home/jiang/projects/SubtleGAN/data/brats2021/train/BraTS2021_00808\n"
     ]
    },
    {
     "name": "stderr",
     "output_type": "stream",
     "text": [
      "\n",
      "  0%|          | 0/80 [00:00<?, ?it/s]\u001b[A\n",
      " 16%|█▋        | 13/80 [00:00<00:00, 126.16it/s]\u001b[A\n",
      " 32%|███▎      | 26/80 [00:00<00:00, 124.82it/s]\u001b[A\n",
      " 49%|████▉     | 39/80 [00:00<00:00, 124.40it/s]\u001b[A\n",
      " 65%|██████▌   | 52/80 [00:00<00:00, 121.68it/s]\u001b[A\n",
      " 81%|████████▏ | 65/80 [00:00<00:00, 123.07it/s]\u001b[A\n",
      "100%|██████████| 80/80 [00:00<00:00, 122.80it/s]\u001b[A\n",
      " 47%|████▋     | 530/1125 [10:52<14:24,  1.45s/it]"
     ]
    },
    {
     "name": "stdout",
     "output_type": "stream",
     "text": [
      "/home/jiang/projects/SubtleGAN/data/brats2021/train/BraTS2021_01458\n"
     ]
    },
    {
     "name": "stderr",
     "output_type": "stream",
     "text": [
      "\n",
      "  0%|          | 0/80 [00:00<?, ?it/s]\u001b[A\n",
      " 15%|█▌        | 12/80 [00:00<00:00, 116.52it/s]\u001b[A\n",
      " 30%|███       | 24/80 [00:00<00:00, 117.46it/s]\u001b[A\n",
      " 45%|████▌     | 36/80 [00:00<00:00, 117.95it/s]\u001b[A\n",
      " 60%|██████    | 48/80 [00:00<00:00, 117.54it/s]\u001b[A\n",
      " 76%|███████▋  | 61/80 [00:00<00:00, 119.19it/s]\u001b[A\n",
      "100%|██████████| 80/80 [00:00<00:00, 118.26it/s]\u001b[A\n",
      " 47%|████▋     | 531/1125 [10:54<14:02,  1.42s/it]"
     ]
    },
    {
     "name": "stdout",
     "output_type": "stream",
     "text": [
      "/home/jiang/projects/SubtleGAN/data/brats2021/train/BraTS2021_01188\n"
     ]
    },
    {
     "name": "stderr",
     "output_type": "stream",
     "text": [
      "\n",
      "  0%|          | 0/80 [00:00<?, ?it/s]\u001b[A\n",
      " 15%|█▌        | 12/80 [00:00<00:00, 117.22it/s]\u001b[A\n",
      " 30%|███       | 24/80 [00:00<00:00, 114.92it/s]\u001b[A\n",
      " 46%|████▋     | 37/80 [00:00<00:00, 116.31it/s]\u001b[A\n",
      " 61%|██████▏   | 49/80 [00:00<00:00, 117.39it/s]\u001b[A\n",
      " 76%|███████▋  | 61/80 [00:00<00:00, 117.60it/s]\u001b[A\n",
      "100%|██████████| 80/80 [00:00<00:00, 102.64it/s]\u001b[A\n",
      " 47%|████▋     | 532/1125 [10:55<13:54,  1.41s/it]"
     ]
    },
    {
     "name": "stdout",
     "output_type": "stream",
     "text": [
      "/home/jiang/projects/SubtleGAN/data/brats2021/train/BraTS2021_01327\n"
     ]
    },
    {
     "name": "stderr",
     "output_type": "stream",
     "text": [
      "\n",
      "  0%|          | 0/80 [00:00<?, ?it/s]\u001b[A\n",
      " 16%|█▋        | 13/80 [00:00<00:00, 123.48it/s]\u001b[A\n",
      " 32%|███▎      | 26/80 [00:00<00:00, 124.26it/s]\u001b[A\n",
      " 49%|████▉     | 39/80 [00:00<00:00, 123.64it/s]\u001b[A\n",
      " 65%|██████▌   | 52/80 [00:00<00:00, 123.79it/s]\u001b[A\n",
      " 81%|████████▏ | 65/80 [00:00<00:00, 125.38it/s]\u001b[A\n",
      "100%|██████████| 80/80 [00:00<00:00, 123.67it/s]\u001b[A\n",
      " 47%|████▋     | 533/1125 [10:56<13:27,  1.36s/it]"
     ]
    },
    {
     "name": "stdout",
     "output_type": "stream",
     "text": [
      "/home/jiang/projects/SubtleGAN/data/brats2021/train/BraTS2021_01298\n"
     ]
    },
    {
     "name": "stderr",
     "output_type": "stream",
     "text": [
      "\n",
      "  0%|          | 0/80 [00:00<?, ?it/s]\u001b[A\n",
      " 16%|█▋        | 13/80 [00:00<00:00, 122.53it/s]\u001b[A\n",
      " 32%|███▎      | 26/80 [00:00<00:00, 123.35it/s]\u001b[A\n",
      " 49%|████▉     | 39/80 [00:00<00:00, 125.27it/s]\u001b[A\n",
      " 65%|██████▌   | 52/80 [00:00<00:00, 125.03it/s]\u001b[A\n",
      " 81%|████████▏ | 65/80 [00:00<00:00, 123.78it/s]\u001b[A\n",
      "100%|██████████| 80/80 [00:00<00:00, 123.27it/s]\u001b[A\n",
      " 47%|████▋     | 534/1125 [10:58<13:07,  1.33s/it]"
     ]
    },
    {
     "name": "stdout",
     "output_type": "stream",
     "text": [
      "/home/jiang/projects/SubtleGAN/data/brats2021/train/BraTS2021_01503\n"
     ]
    },
    {
     "name": "stderr",
     "output_type": "stream",
     "text": [
      "\n",
      "  0%|          | 0/80 [00:00<?, ?it/s]\u001b[A\n",
      " 16%|█▋        | 13/80 [00:00<00:00, 123.20it/s]\u001b[A\n",
      " 32%|███▎      | 26/80 [00:00<00:00, 122.18it/s]\u001b[A\n",
      " 49%|████▉     | 39/80 [00:00<00:00, 124.13it/s]\u001b[A\n",
      " 65%|██████▌   | 52/80 [00:00<00:00, 105.32it/s]\u001b[A\n",
      " 79%|███████▉  | 63/80 [00:00<00:00, 72.54it/s] \u001b[A\n",
      "100%|██████████| 80/80 [00:00<00:00, 87.87it/s]\u001b[A\n",
      " 48%|████▊     | 535/1125 [10:59<13:36,  1.38s/it]"
     ]
    },
    {
     "name": "stdout",
     "output_type": "stream",
     "text": [
      "/home/jiang/projects/SubtleGAN/data/brats2021/train/BraTS2021_00063\n"
     ]
    },
    {
     "name": "stderr",
     "output_type": "stream",
     "text": [
      "\n",
      "  0%|          | 0/80 [00:00<?, ?it/s]\u001b[A\n",
      " 16%|█▋        | 13/80 [00:00<00:00, 128.97it/s]\u001b[A\n",
      " 32%|███▎      | 26/80 [00:00<00:00, 127.35it/s]\u001b[A\n",
      " 49%|████▉     | 39/80 [00:00<00:00, 125.01it/s]\u001b[A\n",
      " 65%|██████▌   | 52/80 [00:00<00:00, 123.32it/s]\u001b[A\n",
      " 81%|████████▏ | 65/80 [00:00<00:00, 123.10it/s]\u001b[A\n",
      "100%|██████████| 80/80 [00:00<00:00, 123.86it/s]\u001b[A\n",
      " 48%|████▊     | 536/1125 [11:00<12:59,  1.32s/it]"
     ]
    },
    {
     "name": "stdout",
     "output_type": "stream",
     "text": [
      "/home/jiang/projects/SubtleGAN/data/brats2021/train/BraTS2021_00715\n"
     ]
    },
    {
     "name": "stderr",
     "output_type": "stream",
     "text": [
      "\n",
      "  0%|          | 0/80 [00:00<?, ?it/s]\u001b[A\n",
      " 16%|█▋        | 13/80 [00:00<00:00, 126.36it/s]\u001b[A\n",
      " 32%|███▎      | 26/80 [00:00<00:00, 123.30it/s]\u001b[A\n",
      " 49%|████▉     | 39/80 [00:00<00:00, 123.79it/s]\u001b[A\n",
      " 65%|██████▌   | 52/80 [00:00<00:00, 126.01it/s]\u001b[A\n",
      " 81%|████████▏ | 65/80 [00:00<00:00, 125.94it/s]\u001b[A\n",
      "100%|██████████| 80/80 [00:00<00:00, 124.33it/s]\u001b[A\n",
      " 48%|████▊     | 537/1125 [11:01<12:29,  1.27s/it]"
     ]
    },
    {
     "name": "stdout",
     "output_type": "stream",
     "text": [
      "/home/jiang/projects/SubtleGAN/data/brats2021/train/BraTS2021_01429\n"
     ]
    },
    {
     "name": "stderr",
     "output_type": "stream",
     "text": [
      "\n",
      "  0%|          | 0/80 [00:00<?, ?it/s]\u001b[A\n",
      " 16%|█▋        | 13/80 [00:00<00:00, 126.25it/s]\u001b[A\n",
      " 32%|███▎      | 26/80 [00:00<00:00, 120.93it/s]\u001b[A\n",
      " 49%|████▉     | 39/80 [00:00<00:00, 116.80it/s]\u001b[A\n",
      " 64%|██████▍   | 51/80 [00:00<00:00, 116.51it/s]\u001b[A\n",
      " 79%|███████▉  | 63/80 [00:00<00:00, 114.85it/s]\u001b[A\n",
      "100%|██████████| 80/80 [00:00<00:00, 117.10it/s]\u001b[A\n",
      " 48%|████▊     | 538/1125 [11:03<12:31,  1.28s/it]"
     ]
    },
    {
     "name": "stdout",
     "output_type": "stream",
     "text": [
      "/home/jiang/projects/SubtleGAN/data/brats2021/train/BraTS2021_01108\n"
     ]
    },
    {
     "name": "stderr",
     "output_type": "stream",
     "text": [
      "\n",
      "  0%|          | 0/80 [00:00<?, ?it/s]\u001b[A\n",
      " 16%|█▋        | 13/80 [00:00<00:00, 124.09it/s]\u001b[A\n",
      " 32%|███▎      | 26/80 [00:00<00:00, 122.98it/s]\u001b[A\n",
      " 49%|████▉     | 39/80 [00:00<00:00, 120.64it/s]\u001b[A\n",
      " 65%|██████▌   | 52/80 [00:00<00:00, 122.58it/s]\u001b[A\n",
      " 81%|████████▏ | 65/80 [00:00<00:00, 122.07it/s]\u001b[A\n",
      "100%|██████████| 80/80 [00:00<00:00, 122.10it/s]\u001b[A\n",
      " 48%|████▊     | 539/1125 [11:04<12:28,  1.28s/it]"
     ]
    },
    {
     "name": "stdout",
     "output_type": "stream",
     "text": [
      "/home/jiang/projects/SubtleGAN/data/brats2021/train/BraTS2021_00064\n"
     ]
    },
    {
     "name": "stderr",
     "output_type": "stream",
     "text": [
      "\n",
      "  0%|          | 0/80 [00:00<?, ?it/s]\u001b[A\n",
      " 16%|█▋        | 13/80 [00:00<00:00, 127.55it/s]\u001b[A\n",
      " 32%|███▎      | 26/80 [00:00<00:00, 125.04it/s]\u001b[A\n",
      " 49%|████▉     | 39/80 [00:00<00:00, 124.66it/s]\u001b[A\n",
      " 65%|██████▌   | 52/80 [00:00<00:00, 124.90it/s]\u001b[A\n",
      " 81%|████████▏ | 65/80 [00:00<00:00, 125.02it/s]\u001b[A\n",
      "100%|██████████| 80/80 [00:00<00:00, 122.09it/s]\u001b[A\n",
      " 48%|████▊     | 540/1125 [11:05<12:13,  1.25s/it]"
     ]
    },
    {
     "name": "stdout",
     "output_type": "stream",
     "text": [
      "/home/jiang/projects/SubtleGAN/data/brats2021/train/BraTS2021_01361\n"
     ]
    },
    {
     "name": "stderr",
     "output_type": "stream",
     "text": [
      "\n",
      "  0%|          | 0/80 [00:00<?, ?it/s]\u001b[A\n",
      " 16%|█▋        | 13/80 [00:00<00:00, 123.91it/s]\u001b[A\n",
      " 32%|███▎      | 26/80 [00:00<00:00, 123.16it/s]\u001b[A\n",
      " 49%|████▉     | 39/80 [00:00<00:00, 124.13it/s]\u001b[A\n",
      " 65%|██████▌   | 52/80 [00:00<00:00, 123.48it/s]\u001b[A\n",
      " 81%|████████▏ | 65/80 [00:00<00:00, 123.19it/s]\u001b[A\n",
      "100%|██████████| 80/80 [00:00<00:00, 122.79it/s]\u001b[A\n",
      " 48%|████▊     | 541/1125 [11:06<12:17,  1.26s/it]"
     ]
    },
    {
     "name": "stdout",
     "output_type": "stream",
     "text": [
      "/home/jiang/projects/SubtleGAN/data/brats2021/train/BraTS2021_00094\n"
     ]
    },
    {
     "name": "stderr",
     "output_type": "stream",
     "text": [
      "\n",
      "  0%|          | 0/80 [00:00<?, ?it/s]\u001b[A\n",
      " 18%|█▊        | 14/80 [00:00<00:00, 131.93it/s]\u001b[A\n",
      " 35%|███▌      | 28/80 [00:00<00:00, 125.90it/s]\u001b[A\n",
      " 51%|█████▏    | 41/80 [00:00<00:00, 125.77it/s]\u001b[A\n",
      " 68%|██████▊   | 54/80 [00:00<00:00, 125.82it/s]\u001b[A\n",
      " 84%|████████▍ | 67/80 [00:00<00:00, 125.33it/s]\u001b[A\n",
      "100%|██████████| 80/80 [00:00<00:00, 110.38it/s]\u001b[A\n",
      " 48%|████▊     | 542/1125 [11:08<12:14,  1.26s/it]"
     ]
    },
    {
     "name": "stdout",
     "output_type": "stream",
     "text": [
      "/home/jiang/projects/SubtleGAN/data/brats2021/train/BraTS2021_00459\n"
     ]
    },
    {
     "name": "stderr",
     "output_type": "stream",
     "text": [
      "\n",
      "  0%|          | 0/80 [00:00<?, ?it/s]\u001b[A\n",
      " 16%|█▋        | 13/80 [00:00<00:00, 124.48it/s]\u001b[A\n",
      " 32%|███▎      | 26/80 [00:00<00:00, 125.35it/s]\u001b[A\n",
      " 49%|████▉     | 39/80 [00:00<00:00, 124.14it/s]\u001b[A\n",
      " 65%|██████▌   | 52/80 [00:00<00:00, 125.40it/s]\u001b[A\n",
      " 82%|████████▎ | 66/80 [00:00<00:00, 126.63it/s]\u001b[A\n",
      "100%|██████████| 80/80 [00:00<00:00, 123.54it/s]\u001b[A\n",
      " 48%|████▊     | 543/1125 [11:09<12:11,  1.26s/it]"
     ]
    },
    {
     "name": "stdout",
     "output_type": "stream",
     "text": [
      "/home/jiang/projects/SubtleGAN/data/brats2021/train/BraTS2021_00147\n"
     ]
    },
    {
     "name": "stderr",
     "output_type": "stream",
     "text": [
      "\n",
      "  0%|          | 0/80 [00:00<?, ?it/s]\u001b[A\n",
      " 16%|█▋        | 13/80 [00:00<00:00, 125.45it/s]\u001b[A\n",
      " 32%|███▎      | 26/80 [00:00<00:00, 122.24it/s]\u001b[A\n",
      " 49%|████▉     | 39/80 [00:00<00:00, 119.90it/s]\u001b[A\n",
      " 65%|██████▌   | 52/80 [00:00<00:00, 120.21it/s]\u001b[A\n",
      " 81%|████████▏ | 65/80 [00:00<00:00, 119.27it/s]\u001b[A\n",
      "100%|██████████| 80/80 [00:00<00:00, 118.63it/s]\u001b[A\n",
      " 48%|████▊     | 544/1125 [11:10<12:18,  1.27s/it]"
     ]
    },
    {
     "name": "stdout",
     "output_type": "stream",
     "text": [
      "/home/jiang/projects/SubtleGAN/data/brats2021/train/BraTS2021_00375\n"
     ]
    },
    {
     "name": "stderr",
     "output_type": "stream",
     "text": [
      "\n",
      "  0%|          | 0/80 [00:00<?, ?it/s]\u001b[A\n",
      " 16%|█▋        | 13/80 [00:00<00:00, 124.11it/s]\u001b[A\n",
      " 32%|███▎      | 26/80 [00:00<00:00, 122.64it/s]\u001b[A\n",
      " 49%|████▉     | 39/80 [00:00<00:00, 124.18it/s]\u001b[A\n",
      " 65%|██████▌   | 52/80 [00:00<00:00, 124.03it/s]\u001b[A\n",
      " 81%|████████▏ | 65/80 [00:00<00:00, 125.31it/s]\u001b[A\n",
      "100%|██████████| 80/80 [00:00<00:00, 122.44it/s]\u001b[A\n",
      " 48%|████▊     | 545/1125 [11:12<12:17,  1.27s/it]"
     ]
    },
    {
     "name": "stdout",
     "output_type": "stream",
     "text": [
      "/home/jiang/projects/SubtleGAN/data/brats2021/train/BraTS2021_00014\n"
     ]
    },
    {
     "name": "stderr",
     "output_type": "stream",
     "text": [
      "\n",
      "  0%|          | 0/80 [00:00<?, ?it/s]\u001b[A\n",
      " 16%|█▋        | 13/80 [00:00<00:00, 126.44it/s]\u001b[A\n",
      " 32%|███▎      | 26/80 [00:00<00:00, 122.44it/s]\u001b[A\n",
      " 49%|████▉     | 39/80 [00:00<00:00, 123.70it/s]\u001b[A\n",
      " 65%|██████▌   | 52/80 [00:00<00:00, 121.82it/s]\u001b[A\n",
      " 81%|████████▏ | 65/80 [00:00<00:00, 90.35it/s] \u001b[A\n",
      "100%|██████████| 80/80 [00:00<00:00, 105.37it/s][A\n",
      " 49%|████▊     | 546/1125 [11:13<12:20,  1.28s/it]"
     ]
    },
    {
     "name": "stdout",
     "output_type": "stream",
     "text": [
      "/home/jiang/projects/SubtleGAN/data/brats2021/train/BraTS2021_01282\n"
     ]
    },
    {
     "name": "stderr",
     "output_type": "stream",
     "text": [
      "\n",
      "  0%|          | 0/80 [00:00<?, ?it/s]\u001b[A\n",
      " 16%|█▋        | 13/80 [00:00<00:00, 125.96it/s]\u001b[A\n",
      " 32%|███▎      | 26/80 [00:00<00:00, 124.76it/s]\u001b[A\n",
      " 50%|█████     | 40/80 [00:00<00:00, 126.77it/s]\u001b[A\n",
      " 66%|██████▋   | 53/80 [00:00<00:00, 126.94it/s]\u001b[A\n",
      " 82%|████████▎ | 66/80 [00:00<00:00, 125.85it/s]\u001b[A\n",
      "100%|██████████| 80/80 [00:00<00:00, 125.18it/s]\u001b[A\n",
      " 49%|████▊     | 547/1125 [11:14<12:15,  1.27s/it]"
     ]
    },
    {
     "name": "stdout",
     "output_type": "stream",
     "text": [
      "/home/jiang/projects/SubtleGAN/data/brats2021/train/BraTS2021_01496\n"
     ]
    },
    {
     "name": "stderr",
     "output_type": "stream",
     "text": [
      "\n",
      "  0%|          | 0/80 [00:00<?, ?it/s]\u001b[A\n",
      " 16%|█▋        | 13/80 [00:00<00:00, 128.81it/s]\u001b[A\n",
      " 32%|███▎      | 26/80 [00:00<00:00, 128.44it/s]\u001b[A\n",
      " 49%|████▉     | 39/80 [00:00<00:00, 123.15it/s]\u001b[A\n",
      " 65%|██████▌   | 52/80 [00:00<00:00, 123.51it/s]\u001b[A\n",
      " 82%|████████▎ | 66/80 [00:00<00:00, 125.22it/s]\u001b[A\n",
      "100%|██████████| 80/80 [00:00<00:00, 107.28it/s]\u001b[A\n",
      " 49%|████▊     | 548/1125 [11:15<12:19,  1.28s/it]"
     ]
    },
    {
     "name": "stdout",
     "output_type": "stream",
     "text": [
      "/home/jiang/projects/SubtleGAN/data/brats2021/train/BraTS2021_01634\n"
     ]
    },
    {
     "name": "stderr",
     "output_type": "stream",
     "text": [
      "\n",
      "  0%|          | 0/80 [00:00<?, ?it/s]\u001b[A\n",
      " 16%|█▋        | 13/80 [00:00<00:00, 127.75it/s]\u001b[A\n",
      " 32%|███▎      | 26/80 [00:00<00:00, 125.40it/s]\u001b[A\n",
      " 49%|████▉     | 39/80 [00:00<00:00, 124.37it/s]\u001b[A\n",
      " 65%|██████▌   | 52/80 [00:00<00:00, 124.27it/s]\u001b[A\n",
      " 81%|████████▏ | 65/80 [00:00<00:00, 126.16it/s]\u001b[A\n",
      "100%|██████████| 80/80 [00:00<00:00, 125.83it/s]\u001b[A\n",
      " 49%|████▉     | 549/1125 [11:17<13:19,  1.39s/it]"
     ]
    },
    {
     "name": "stdout",
     "output_type": "stream",
     "text": [
      "/home/jiang/projects/SubtleGAN/data/brats2021/train/BraTS2021_01406\n"
     ]
    },
    {
     "name": "stderr",
     "output_type": "stream",
     "text": [
      "\n",
      "  0%|          | 0/80 [00:00<?, ?it/s]\u001b[A\n",
      " 18%|█▊        | 14/80 [00:00<00:00, 128.85it/s]\u001b[A\n",
      " 34%|███▍      | 27/80 [00:00<00:00, 125.95it/s]\u001b[A\n",
      " 50%|█████     | 40/80 [00:00<00:00, 122.65it/s]\u001b[A\n",
      " 66%|██████▋   | 53/80 [00:00<00:00, 124.20it/s]\u001b[A\n",
      " 82%|████████▎ | 66/80 [00:00<00:00, 121.93it/s]\u001b[A\n",
      "100%|██████████| 80/80 [00:00<00:00, 122.64it/s]\u001b[A\n",
      " 49%|████▉     | 550/1125 [11:18<12:51,  1.34s/it]"
     ]
    },
    {
     "name": "stdout",
     "output_type": "stream",
     "text": [
      "/home/jiang/projects/SubtleGAN/data/brats2021/train/BraTS2021_01639\n"
     ]
    },
    {
     "name": "stderr",
     "output_type": "stream",
     "text": [
      "\n",
      "  0%|          | 0/80 [00:00<?, ?it/s]\u001b[A\n",
      " 18%|█▊        | 14/80 [00:00<00:00, 133.26it/s]\u001b[A\n",
      " 35%|███▌      | 28/80 [00:00<00:00, 126.08it/s]\u001b[A\n",
      " 51%|█████▏    | 41/80 [00:00<00:00, 123.54it/s]\u001b[A\n",
      " 68%|██████▊   | 54/80 [00:00<00:00, 122.79it/s]\u001b[A\n",
      " 84%|████████▍ | 67/80 [00:00<00:00, 123.15it/s]\u001b[A\n",
      "100%|██████████| 80/80 [00:00<00:00, 123.00it/s]\u001b[A\n",
      " 49%|████▉     | 551/1125 [11:20<13:53,  1.45s/it]"
     ]
    },
    {
     "name": "stdout",
     "output_type": "stream",
     "text": [
      "/home/jiang/projects/SubtleGAN/data/brats2021/train/BraTS2021_00310\n"
     ]
    },
    {
     "name": "stderr",
     "output_type": "stream",
     "text": [
      "\n",
      "  0%|          | 0/80 [00:00<?, ?it/s]\u001b[A\n",
      " 16%|█▋        | 13/80 [00:00<00:00, 126.72it/s]\u001b[A\n",
      " 32%|███▎      | 26/80 [00:00<00:00, 122.95it/s]\u001b[A\n",
      " 49%|████▉     | 39/80 [00:00<00:00, 122.45it/s]\u001b[A\n",
      " 65%|██████▌   | 52/80 [00:00<00:00, 124.44it/s]\u001b[A\n",
      " 82%|████████▎ | 66/80 [00:00<00:00, 126.45it/s]\u001b[A\n",
      "100%|██████████| 80/80 [00:00<00:00, 123.63it/s]\u001b[A\n",
      " 49%|████▉     | 552/1125 [11:21<13:14,  1.39s/it]"
     ]
    },
    {
     "name": "stdout",
     "output_type": "stream",
     "text": [
      "/home/jiang/projects/SubtleGAN/data/brats2021/train/BraTS2021_01088\n"
     ]
    },
    {
     "name": "stderr",
     "output_type": "stream",
     "text": [
      "\n",
      "  0%|          | 0/80 [00:00<?, ?it/s]\u001b[A\n",
      " 16%|█▋        | 13/80 [00:00<00:00, 129.43it/s]\u001b[A\n",
      " 32%|███▎      | 26/80 [00:00<00:00, 127.49it/s]\u001b[A\n",
      " 49%|████▉     | 39/80 [00:00<00:00, 124.27it/s]\u001b[A\n",
      " 65%|██████▌   | 52/80 [00:00<00:00, 124.52it/s]\u001b[A\n",
      " 81%|████████▏ | 65/80 [00:00<00:00, 123.34it/s]\u001b[A\n",
      "100%|██████████| 80/80 [00:00<00:00, 122.95it/s]\u001b[A\n",
      " 49%|████▉     | 553/1125 [11:22<12:56,  1.36s/it]"
     ]
    },
    {
     "name": "stdout",
     "output_type": "stream",
     "text": [
      "/home/jiang/projects/SubtleGAN/data/brats2021/train/BraTS2021_01018\n"
     ]
    },
    {
     "name": "stderr",
     "output_type": "stream",
     "text": [
      "\n",
      "  0%|          | 0/80 [00:00<?, ?it/s]\u001b[A\n",
      " 16%|█▋        | 13/80 [00:00<00:00, 125.09it/s]\u001b[A\n",
      " 32%|███▎      | 26/80 [00:00<00:00, 117.15it/s]\u001b[A\n",
      " 48%|████▊     | 38/80 [00:00<00:00, 114.71it/s]\u001b[A\n",
      " 62%|██████▎   | 50/80 [00:00<00:00, 115.00it/s]\u001b[A\n",
      " 78%|███████▊  | 62/80 [00:00<00:00, 115.40it/s]\u001b[A\n",
      "100%|██████████| 80/80 [00:00<00:00, 116.82it/s]\u001b[A\n",
      " 49%|████▉     | 554/1125 [11:24<12:49,  1.35s/it]"
     ]
    },
    {
     "name": "stdout",
     "output_type": "stream",
     "text": [
      "/home/jiang/projects/SubtleGAN/data/brats2021/train/BraTS2021_01497\n"
     ]
    },
    {
     "name": "stderr",
     "output_type": "stream",
     "text": [
      "\n",
      "  0%|          | 0/80 [00:00<?, ?it/s]\u001b[A\n",
      " 16%|█▋        | 13/80 [00:00<00:00, 121.70it/s]\u001b[A\n",
      " 32%|███▎      | 26/80 [00:00<00:00, 119.74it/s]\u001b[A\n",
      " 48%|████▊     | 38/80 [00:00<00:00, 119.40it/s]\u001b[A\n",
      " 64%|██████▍   | 51/80 [00:00<00:00, 120.15it/s]\u001b[A\n",
      " 80%|████████  | 64/80 [00:00<00:00, 118.40it/s]\u001b[A\n",
      "100%|██████████| 80/80 [00:00<00:00, 118.02it/s]\u001b[A\n",
      " 49%|████▉     | 555/1125 [11:25<12:55,  1.36s/it]"
     ]
    },
    {
     "name": "stdout",
     "output_type": "stream",
     "text": [
      "/home/jiang/projects/SubtleGAN/data/brats2021/train/BraTS2021_01101\n"
     ]
    },
    {
     "name": "stderr",
     "output_type": "stream",
     "text": [
      "\n",
      "  0%|          | 0/80 [00:00<?, ?it/s]\u001b[A\n",
      " 16%|█▋        | 13/80 [00:00<00:00, 122.39it/s]\u001b[A\n",
      " 32%|███▎      | 26/80 [00:00<00:00, 120.45it/s]\u001b[A\n",
      " 49%|████▉     | 39/80 [00:00<00:00, 118.98it/s]\u001b[A\n",
      " 65%|██████▌   | 52/80 [00:00<00:00, 119.49it/s]\u001b[A\n",
      " 81%|████████▏ | 65/80 [00:00<00:00, 120.75it/s]\u001b[A\n",
      "100%|██████████| 80/80 [00:00<00:00, 117.28it/s]\u001b[A\n",
      " 49%|████▉     | 556/1125 [11:26<12:44,  1.34s/it]"
     ]
    },
    {
     "name": "stdout",
     "output_type": "stream",
     "text": [
      "/home/jiang/projects/SubtleGAN/data/brats2021/train/BraTS2021_01462\n"
     ]
    },
    {
     "name": "stderr",
     "output_type": "stream",
     "text": [
      "\n",
      "  0%|          | 0/80 [00:00<?, ?it/s]\u001b[A\n",
      " 18%|█▊        | 14/80 [00:00<00:00, 127.77it/s]\u001b[A\n",
      " 34%|███▍      | 27/80 [00:00<00:00, 125.06it/s]\u001b[A\n",
      " 50%|█████     | 40/80 [00:00<00:00, 121.95it/s]\u001b[A\n",
      " 66%|██████▋   | 53/80 [00:00<00:00, 119.69it/s]\u001b[A\n",
      " 82%|████████▎ | 66/80 [00:00<00:00, 121.22it/s]\u001b[A\n",
      "100%|██████████| 80/80 [00:00<00:00, 118.63it/s]\u001b[A\n",
      " 50%|████▉     | 557/1125 [11:28<12:39,  1.34s/it]"
     ]
    },
    {
     "name": "stdout",
     "output_type": "stream",
     "text": [
      "/home/jiang/projects/SubtleGAN/data/brats2021/train/BraTS2021_01013\n"
     ]
    },
    {
     "name": "stderr",
     "output_type": "stream",
     "text": [
      "\n",
      "  0%|          | 0/80 [00:00<?, ?it/s]\u001b[A\n",
      " 16%|█▋        | 13/80 [00:00<00:00, 124.73it/s]\u001b[A\n",
      " 32%|███▎      | 26/80 [00:00<00:00, 124.89it/s]\u001b[A\n",
      " 49%|████▉     | 39/80 [00:00<00:00, 124.96it/s]\u001b[A\n",
      " 65%|██████▌   | 52/80 [00:00<00:00, 123.25it/s]\u001b[A\n",
      " 81%|████████▏ | 65/80 [00:00<00:00, 122.21it/s]\u001b[A\n",
      "100%|██████████| 80/80 [00:00<00:00, 105.73it/s]\u001b[A\n",
      " 50%|████▉     | 558/1125 [11:29<12:36,  1.33s/it]"
     ]
    },
    {
     "name": "stdout",
     "output_type": "stream",
     "text": [
      "/home/jiang/projects/SubtleGAN/data/brats2021/train/BraTS2021_01355\n"
     ]
    },
    {
     "name": "stderr",
     "output_type": "stream",
     "text": [
      "\n",
      "  0%|          | 0/80 [00:00<?, ?it/s]\u001b[A\n",
      "  6%|▋         | 5/80 [00:00<00:01, 39.00it/s]\u001b[A\n",
      " 11%|█▏        | 9/80 [00:00<00:02, 34.99it/s]\u001b[A\n",
      " 16%|█▋        | 13/80 [00:00<00:02, 29.47it/s]\u001b[A\n",
      " 22%|██▎       | 18/80 [00:00<00:01, 35.43it/s]\u001b[A\n",
      " 35%|███▌      | 28/80 [00:00<00:00, 54.67it/s]\u001b[A\n",
      " 50%|█████     | 40/80 [00:00<00:00, 73.83it/s]\u001b[A\n",
      " 65%|██████▌   | 52/80 [00:00<00:00, 87.27it/s]\u001b[A\n",
      " 81%|████████▏ | 65/80 [00:00<00:00, 97.29it/s]\u001b[A\n",
      "100%|██████████| 80/80 [00:01<00:00, 75.11it/s] \u001b[A\n",
      " 50%|████▉     | 559/1125 [11:31<13:32,  1.44s/it]"
     ]
    },
    {
     "name": "stdout",
     "output_type": "stream",
     "text": [
      "/home/jiang/projects/SubtleGAN/data/brats2021/train/BraTS2021_00324\n"
     ]
    },
    {
     "name": "stderr",
     "output_type": "stream",
     "text": [
      "\n",
      "  0%|          | 0/80 [00:00<?, ?it/s]\u001b[A\n",
      " 16%|█▋        | 13/80 [00:00<00:00, 122.16it/s]\u001b[A\n",
      " 32%|███▎      | 26/80 [00:00<00:00, 117.71it/s]\u001b[A\n",
      " 49%|████▉     | 39/80 [00:00<00:00, 119.22it/s]\u001b[A\n",
      " 64%|██████▍   | 51/80 [00:00<00:00, 117.81it/s]\u001b[A\n",
      " 79%|███████▉  | 63/80 [00:00<00:00, 117.29it/s]\u001b[A\n",
      "100%|██████████| 80/80 [00:00<00:00, 117.32it/s]\u001b[A\n",
      " 50%|████▉     | 560/1125 [11:32<13:28,  1.43s/it]"
     ]
    },
    {
     "name": "stdout",
     "output_type": "stream",
     "text": [
      "/home/jiang/projects/SubtleGAN/data/brats2021/train/BraTS2021_01560\n"
     ]
    },
    {
     "name": "stderr",
     "output_type": "stream",
     "text": [
      "\n",
      "  0%|          | 0/80 [00:00<?, ?it/s]\u001b[A\n",
      " 16%|█▋        | 13/80 [00:00<00:00, 124.18it/s]\u001b[A\n",
      " 32%|███▎      | 26/80 [00:00<00:00, 123.33it/s]\u001b[A\n",
      " 49%|████▉     | 39/80 [00:00<00:00, 122.59it/s]\u001b[A\n",
      " 65%|██████▌   | 52/80 [00:00<00:00, 123.13it/s]\u001b[A\n",
      " 81%|████████▏ | 65/80 [00:00<00:00, 121.90it/s]\u001b[A\n",
      "100%|██████████| 80/80 [00:00<00:00, 117.37it/s]\u001b[A\n",
      " 50%|████▉     | 561/1125 [11:34<14:14,  1.51s/it]"
     ]
    },
    {
     "name": "stdout",
     "output_type": "stream",
     "text": [
      "/home/jiang/projects/SubtleGAN/data/brats2021/train/BraTS2021_01136\n"
     ]
    },
    {
     "name": "stderr",
     "output_type": "stream",
     "text": [
      "\n",
      "  0%|          | 0/80 [00:00<?, ?it/s]\u001b[A\n",
      " 16%|█▋        | 13/80 [00:00<00:00, 126.06it/s]\u001b[A\n",
      " 32%|███▎      | 26/80 [00:00<00:00, 125.73it/s]\u001b[A\n",
      " 49%|████▉     | 39/80 [00:00<00:00, 125.10it/s]\u001b[A\n",
      " 65%|██████▌   | 52/80 [00:00<00:00, 122.94it/s]\u001b[A\n",
      " 81%|████████▏ | 65/80 [00:00<00:00, 122.19it/s]\u001b[A\n",
      "100%|██████████| 80/80 [00:00<00:00, 122.12it/s]\u001b[A\n",
      " 50%|████▉     | 562/1125 [11:35<13:35,  1.45s/it]"
     ]
    },
    {
     "name": "stdout",
     "output_type": "stream",
     "text": [
      "/home/jiang/projects/SubtleGAN/data/brats2021/train/BraTS2021_01177\n"
     ]
    },
    {
     "name": "stderr",
     "output_type": "stream",
     "text": [
      "\n",
      "  0%|          | 0/80 [00:00<?, ?it/s]\u001b[A\n",
      " 16%|█▋        | 13/80 [00:00<00:00, 124.37it/s]\u001b[A\n",
      " 32%|███▎      | 26/80 [00:00<00:00, 118.04it/s]\u001b[A\n",
      " 48%|████▊     | 38/80 [00:00<00:00, 118.50it/s]\u001b[A\n",
      " 62%|██████▎   | 50/80 [00:00<00:00, 118.64it/s]\u001b[A\n",
      " 79%|███████▉  | 63/80 [00:00<00:00, 120.57it/s]\u001b[A\n",
      "100%|██████████| 80/80 [00:00<00:00, 119.79it/s]\u001b[A\n",
      " 50%|█████     | 563/1125 [11:37<13:05,  1.40s/it]"
     ]
    },
    {
     "name": "stdout",
     "output_type": "stream",
     "text": [
      "/home/jiang/projects/SubtleGAN/data/brats2021/train/BraTS2021_00451\n"
     ]
    },
    {
     "name": "stderr",
     "output_type": "stream",
     "text": [
      "\n",
      "  0%|          | 0/80 [00:00<?, ?it/s]\u001b[A\n",
      " 16%|█▋        | 13/80 [00:00<00:00, 129.95it/s]\u001b[A\n",
      " 32%|███▎      | 26/80 [00:00<00:00, 123.33it/s]\u001b[A\n",
      " 49%|████▉     | 39/80 [00:00<00:00, 123.84it/s]\u001b[A\n",
      " 65%|██████▌   | 52/80 [00:00<00:00, 125.26it/s]\u001b[A\n",
      " 81%|████████▏ | 65/80 [00:00<00:00, 124.06it/s]\u001b[A\n",
      "100%|██████████| 80/80 [00:00<00:00, 123.77it/s]\u001b[A\n",
      " 50%|█████     | 564/1125 [11:38<12:40,  1.36s/it]"
     ]
    },
    {
     "name": "stdout",
     "output_type": "stream",
     "text": [
      "/home/jiang/projects/SubtleGAN/data/brats2021/train/BraTS2021_01317\n"
     ]
    },
    {
     "name": "stderr",
     "output_type": "stream",
     "text": [
      "\n",
      "  0%|          | 0/80 [00:00<?, ?it/s]\u001b[A\n",
      " 16%|█▋        | 13/80 [00:00<00:00, 122.63it/s]\u001b[A\n",
      " 32%|███▎      | 26/80 [00:00<00:00, 119.95it/s]\u001b[A\n",
      " 49%|████▉     | 39/80 [00:00<00:00, 121.49it/s]\u001b[A\n",
      " 65%|██████▌   | 52/80 [00:00<00:00, 119.35it/s]\u001b[A\n",
      " 80%|████████  | 64/80 [00:00<00:00, 118.97it/s]\u001b[A\n",
      "100%|██████████| 80/80 [00:00<00:00, 118.63it/s]\u001b[A\n",
      " 50%|█████     | 565/1125 [11:39<12:26,  1.33s/it]"
     ]
    },
    {
     "name": "stdout",
     "output_type": "stream",
     "text": [
      "/home/jiang/projects/SubtleGAN/data/brats2021/train/BraTS2021_00369\n"
     ]
    },
    {
     "name": "stderr",
     "output_type": "stream",
     "text": [
      "\n",
      "  0%|          | 0/80 [00:00<?, ?it/s]\u001b[A\n",
      " 16%|█▋        | 13/80 [00:00<00:00, 126.98it/s]\u001b[A\n",
      " 32%|███▎      | 26/80 [00:00<00:00, 119.33it/s]\u001b[A\n",
      " 49%|████▉     | 39/80 [00:00<00:00, 121.27it/s]\u001b[A\n",
      " 65%|██████▌   | 52/80 [00:00<00:00, 122.91it/s]\u001b[A\n",
      " 81%|████████▏ | 65/80 [00:00<00:00, 124.23it/s]\u001b[A\n",
      "100%|██████████| 80/80 [00:00<00:00, 121.91it/s]\u001b[A\n",
      " 50%|█████     | 566/1125 [11:40<12:15,  1.32s/it]"
     ]
    },
    {
     "name": "stdout",
     "output_type": "stream",
     "text": [
      "/home/jiang/projects/SubtleGAN/data/brats2021/train/BraTS2021_01119\n"
     ]
    },
    {
     "name": "stderr",
     "output_type": "stream",
     "text": [
      "\n",
      "  0%|          | 0/80 [00:00<?, ?it/s]\u001b[A\n",
      " 15%|█▌        | 12/80 [00:00<00:00, 116.35it/s]\u001b[A\n",
      " 31%|███▏      | 25/80 [00:00<00:00, 120.86it/s]\u001b[A\n",
      " 48%|████▊     | 38/80 [00:00<00:00, 118.70it/s]\u001b[A\n",
      " 64%|██████▍   | 51/80 [00:00<00:00, 119.75it/s]\u001b[A\n",
      " 80%|████████  | 64/80 [00:00<00:00, 120.64it/s]\u001b[A\n",
      "100%|██████████| 80/80 [00:00<00:00, 119.38it/s]\u001b[A\n",
      " 50%|█████     | 567/1125 [11:42<12:11,  1.31s/it]"
     ]
    },
    {
     "name": "stdout",
     "output_type": "stream",
     "text": [
      "/home/jiang/projects/SubtleGAN/data/brats2021/train/BraTS2021_00395\n"
     ]
    },
    {
     "name": "stderr",
     "output_type": "stream",
     "text": [
      "\n",
      "  0%|          | 0/80 [00:00<?, ?it/s]\u001b[A\n",
      " 16%|█▋        | 13/80 [00:00<00:00, 121.71it/s]\u001b[A\n",
      " 32%|███▎      | 26/80 [00:00<00:00, 121.40it/s]\u001b[A\n",
      " 49%|████▉     | 39/80 [00:00<00:00, 121.59it/s]\u001b[A\n",
      " 65%|██████▌   | 52/80 [00:00<00:00, 122.02it/s]\u001b[A\n",
      " 81%|████████▏ | 65/80 [00:00<00:00, 119.88it/s]\u001b[A\n",
      "100%|██████████| 80/80 [00:00<00:00, 119.58it/s]\u001b[A\n",
      " 50%|█████     | 568/1125 [11:43<12:05,  1.30s/it]"
     ]
    },
    {
     "name": "stdout",
     "output_type": "stream",
     "text": [
      "/home/jiang/projects/SubtleGAN/data/brats2021/train/BraTS2021_01142\n"
     ]
    },
    {
     "name": "stderr",
     "output_type": "stream",
     "text": [
      "\n",
      "  0%|          | 0/80 [00:00<?, ?it/s]\u001b[A\n",
      " 15%|█▌        | 12/80 [00:00<00:00, 118.96it/s]\u001b[A\n",
      " 31%|███▏      | 25/80 [00:00<00:00, 118.82it/s]\u001b[A\n",
      " 46%|████▋     | 37/80 [00:00<00:00, 117.74it/s]\u001b[A\n",
      " 62%|██████▎   | 50/80 [00:00<00:00, 120.00it/s]\u001b[A\n",
      " 79%|███████▉  | 63/80 [00:00<00:00, 121.19it/s]\u001b[A\n",
      "100%|██████████| 80/80 [00:00<00:00, 119.93it/s]\u001b[A\n",
      " 51%|█████     | 569/1125 [11:44<11:56,  1.29s/it]"
     ]
    },
    {
     "name": "stdout",
     "output_type": "stream",
     "text": [
      "/home/jiang/projects/SubtleGAN/data/brats2021/train/BraTS2021_01526\n"
     ]
    },
    {
     "name": "stderr",
     "output_type": "stream",
     "text": [
      "\n",
      "  0%|          | 0/80 [00:00<?, ?it/s]\u001b[A\n",
      " 16%|█▋        | 13/80 [00:00<00:00, 123.86it/s]\u001b[A\n",
      " 32%|███▎      | 26/80 [00:00<00:00, 122.22it/s]\u001b[A\n",
      " 49%|████▉     | 39/80 [00:00<00:00, 119.36it/s]\u001b[A\n",
      " 65%|██████▌   | 52/80 [00:00<00:00, 122.11it/s]\u001b[A\n",
      " 81%|████████▏ | 65/80 [00:00<00:00, 121.04it/s]\u001b[A\n",
      "100%|██████████| 80/80 [00:00<00:00, 116.79it/s]\u001b[A\n",
      " 51%|█████     | 570/1125 [11:45<11:53,  1.28s/it]"
     ]
    },
    {
     "name": "stdout",
     "output_type": "stream",
     "text": [
      "/home/jiang/projects/SubtleGAN/data/brats2021/train/BraTS2021_01206\n"
     ]
    },
    {
     "name": "stderr",
     "output_type": "stream",
     "text": [
      "\n",
      "  0%|          | 0/80 [00:00<?, ?it/s]\u001b[A\n",
      " 16%|█▋        | 13/80 [00:00<00:00, 124.65it/s]\u001b[A\n",
      " 32%|███▎      | 26/80 [00:00<00:00, 123.96it/s]\u001b[A\n",
      " 49%|████▉     | 39/80 [00:00<00:00, 123.42it/s]\u001b[A\n",
      " 65%|██████▌   | 52/80 [00:00<00:00, 121.07it/s]\u001b[A\n",
      " 81%|████████▏ | 65/80 [00:00<00:00, 121.99it/s]\u001b[A\n",
      "100%|██████████| 80/80 [00:00<00:00, 122.93it/s]\u001b[A\n",
      " 51%|█████     | 571/1125 [11:47<11:52,  1.29s/it]"
     ]
    },
    {
     "name": "stdout",
     "output_type": "stream",
     "text": [
      "/home/jiang/projects/SubtleGAN/data/brats2021/train/BraTS2021_01168\n"
     ]
    },
    {
     "name": "stderr",
     "output_type": "stream",
     "text": [
      "\n",
      "  0%|          | 0/80 [00:00<?, ?it/s]\u001b[A\n",
      " 18%|█▊        | 14/80 [00:00<00:00, 132.44it/s]\u001b[A\n",
      " 35%|███▌      | 28/80 [00:00<00:00, 79.91it/s] \u001b[A\n",
      " 50%|█████     | 40/80 [00:00<00:00, 91.86it/s]\u001b[A\n",
      " 65%|██████▌   | 52/80 [00:00<00:00, 100.10it/s]\u001b[A\n",
      " 80%|████████  | 64/80 [00:00<00:00, 105.62it/s]\u001b[A\n",
      "100%|██████████| 80/80 [00:00<00:00, 102.93it/s]\u001b[A\n",
      " 51%|█████     | 572/1125 [11:48<12:04,  1.31s/it]"
     ]
    },
    {
     "name": "stdout",
     "output_type": "stream",
     "text": [
      "/home/jiang/projects/SubtleGAN/data/brats2021/train/BraTS2021_01110\n"
     ]
    },
    {
     "name": "stderr",
     "output_type": "stream",
     "text": [
      "\n",
      "  0%|          | 0/80 [00:00<?, ?it/s]\u001b[A\n",
      " 16%|█▋        | 13/80 [00:00<00:00, 122.57it/s]\u001b[A\n",
      " 32%|███▎      | 26/80 [00:00<00:00, 122.52it/s]\u001b[A\n",
      " 49%|████▉     | 39/80 [00:00<00:00, 121.96it/s]\u001b[A\n",
      " 65%|██████▌   | 52/80 [00:00<00:00, 122.95it/s]\u001b[A\n",
      " 81%|████████▏ | 65/80 [00:00<00:00, 121.47it/s]\u001b[A\n",
      "100%|██████████| 80/80 [00:00<00:00, 121.01it/s]\u001b[A\n",
      " 51%|█████     | 573/1125 [11:49<11:58,  1.30s/it]"
     ]
    },
    {
     "name": "stdout",
     "output_type": "stream",
     "text": [
      "/home/jiang/projects/SubtleGAN/data/brats2021/train/BraTS2021_00740\n"
     ]
    },
    {
     "name": "stderr",
     "output_type": "stream",
     "text": [
      "\n",
      "  0%|          | 0/80 [00:00<?, ?it/s]\u001b[A\n",
      " 15%|█▌        | 12/80 [00:00<00:00, 118.22it/s]\u001b[A\n",
      " 31%|███▏      | 25/80 [00:00<00:00, 120.16it/s]\u001b[A\n",
      " 48%|████▊     | 38/80 [00:00<00:00, 122.71it/s]\u001b[A\n",
      " 64%|██████▍   | 51/80 [00:00<00:00, 121.05it/s]\u001b[A\n",
      " 80%|████████  | 64/80 [00:00<00:00, 122.12it/s]\u001b[A\n",
      "100%|██████████| 80/80 [00:00<00:00, 121.37it/s]\u001b[A\n",
      " 51%|█████     | 574/1125 [11:51<11:38,  1.27s/it]"
     ]
    },
    {
     "name": "stdout",
     "output_type": "stream",
     "text": [
      "/home/jiang/projects/SubtleGAN/data/brats2021/train/BraTS2021_00530\n"
     ]
    },
    {
     "name": "stderr",
     "output_type": "stream",
     "text": [
      "\n",
      "  0%|          | 0/80 [00:00<?, ?it/s]\u001b[A\n",
      " 15%|█▌        | 12/80 [00:00<00:00, 119.78it/s]\u001b[A\n",
      " 30%|███       | 24/80 [00:00<00:00, 119.90it/s]\u001b[A\n",
      " 45%|████▌     | 36/80 [00:00<00:00, 119.74it/s]\u001b[A\n",
      " 60%|██████    | 48/80 [00:00<00:00, 116.65it/s]\u001b[A\n",
      " 75%|███████▌  | 60/80 [00:00<00:00, 116.96it/s]\u001b[A\n",
      "100%|██████████| 80/80 [00:00<00:00, 117.88it/s]\u001b[A\n",
      " 51%|█████     | 575/1125 [11:52<11:26,  1.25s/it]"
     ]
    },
    {
     "name": "stdout",
     "output_type": "stream",
     "text": [
      "/home/jiang/projects/SubtleGAN/data/brats2021/train/BraTS2021_01153\n"
     ]
    },
    {
     "name": "stderr",
     "output_type": "stream",
     "text": [
      "\n",
      "  0%|          | 0/80 [00:00<?, ?it/s]\u001b[A\n",
      " 16%|█▋        | 13/80 [00:00<00:00, 124.82it/s]\u001b[A\n",
      " 32%|███▎      | 26/80 [00:00<00:00, 122.74it/s]\u001b[A\n",
      " 49%|████▉     | 39/80 [00:00<00:00, 122.97it/s]\u001b[A\n",
      " 65%|██████▌   | 52/80 [00:00<00:00, 121.66it/s]\u001b[A\n",
      " 81%|████████▏ | 65/80 [00:00<00:00, 119.86it/s]\u001b[A\n",
      "100%|██████████| 80/80 [00:00<00:00, 120.11it/s]\u001b[A\n",
      " 51%|█████     | 576/1125 [11:53<11:02,  1.21s/it]"
     ]
    },
    {
     "name": "stdout",
     "output_type": "stream",
     "text": [
      "/home/jiang/projects/SubtleGAN/data/brats2021/train/BraTS2021_01292\n"
     ]
    },
    {
     "name": "stderr",
     "output_type": "stream",
     "text": [
      "\n",
      "  0%|          | 0/80 [00:00<?, ?it/s]\u001b[A\n",
      " 12%|█▎        | 10/80 [00:00<00:00, 96.25it/s]\u001b[A\n",
      " 25%|██▌       | 20/80 [00:00<00:00, 95.43it/s]\u001b[A\n",
      " 38%|███▊      | 30/80 [00:00<00:00, 92.94it/s]\u001b[A\n",
      " 50%|█████     | 40/80 [00:00<00:00, 92.06it/s]\u001b[A\n",
      " 62%|██████▎   | 50/80 [00:00<00:00, 92.54it/s]\u001b[A\n",
      " 75%|███████▌  | 60/80 [00:00<00:00, 92.65it/s]\u001b[A\n",
      " 88%|████████▊ | 70/80 [00:00<00:00, 90.45it/s]\u001b[A\n",
      "100%|██████████| 80/80 [00:00<00:00, 85.51it/s]\u001b[A\n",
      " 51%|█████▏    | 577/1125 [11:55<12:54,  1.41s/it]"
     ]
    },
    {
     "name": "stdout",
     "output_type": "stream",
     "text": [
      "/home/jiang/projects/SubtleGAN/data/brats2021/train/BraTS2021_00290\n"
     ]
    },
    {
     "name": "stderr",
     "output_type": "stream",
     "text": [
      "\n",
      "  0%|          | 0/80 [00:00<?, ?it/s]\u001b[A\n",
      "  9%|▉         | 7/80 [00:00<00:01, 53.59it/s]\u001b[A\n",
      " 16%|█▋        | 13/80 [00:00<00:01, 46.77it/s]\u001b[A\n",
      " 29%|██▉       | 23/80 [00:00<00:00, 66.69it/s]\u001b[A\n",
      " 41%|████▏     | 33/80 [00:00<00:00, 78.22it/s]\u001b[A\n",
      " 54%|█████▍    | 43/80 [00:00<00:00, 82.56it/s]\u001b[A\n",
      " 66%|██████▋   | 53/80 [00:00<00:00, 87.21it/s]\u001b[A\n",
      " 78%|███████▊  | 62/80 [00:00<00:00, 88.05it/s]\u001b[A\n",
      "100%|██████████| 80/80 [00:01<00:00, 79.32it/s]\u001b[A\n",
      " 51%|█████▏    | 578/1125 [11:57<14:36,  1.60s/it]"
     ]
    },
    {
     "name": "stdout",
     "output_type": "stream",
     "text": [
      "/home/jiang/projects/SubtleGAN/data/brats2021/train/BraTS2021_01350\n"
     ]
    },
    {
     "name": "stderr",
     "output_type": "stream",
     "text": [
      "\n",
      "  0%|          | 0/80 [00:00<?, ?it/s]\u001b[A\n",
      "  9%|▉         | 7/80 [00:00<00:01, 63.10it/s]\u001b[A\n",
      " 18%|█▊        | 14/80 [00:00<00:01, 61.89it/s]\u001b[A\n",
      " 28%|██▊       | 22/80 [00:00<00:00, 67.79it/s]\u001b[A\n",
      " 39%|███▉      | 31/80 [00:00<00:00, 75.85it/s]\u001b[A\n",
      " 50%|█████     | 40/80 [00:00<00:00, 78.06it/s]\u001b[A\n",
      " 61%|██████▏   | 49/80 [00:00<00:00, 81.58it/s]\u001b[A\n",
      " 72%|███████▎  | 58/80 [00:00<00:00, 80.24it/s]\u001b[A\n",
      " 84%|████████▍ | 67/80 [00:00<00:00, 80.73it/s]\u001b[A\n",
      "100%|██████████| 80/80 [00:01<00:00, 76.27it/s]\u001b[A\n",
      " 51%|█████▏    | 579/1125 [11:59<15:34,  1.71s/it]"
     ]
    },
    {
     "name": "stdout",
     "output_type": "stream",
     "text": [
      "/home/jiang/projects/SubtleGAN/data/brats2021/train/BraTS2021_01213\n"
     ]
    },
    {
     "name": "stderr",
     "output_type": "stream",
     "text": [
      "\n",
      "  0%|          | 0/80 [00:00<?, ?it/s]\u001b[A\n",
      " 11%|█▏        | 9/80 [00:00<00:00, 81.18it/s]\u001b[A\n",
      " 22%|██▎       | 18/80 [00:00<00:00, 80.81it/s]\u001b[A\n",
      " 34%|███▍      | 27/80 [00:00<00:00, 83.41it/s]\u001b[A\n",
      " 45%|████▌     | 36/80 [00:00<00:00, 84.22it/s]\u001b[A\n",
      " 56%|█████▋    | 45/80 [00:00<00:00, 85.63it/s]\u001b[A\n",
      " 68%|██████▊   | 54/80 [00:00<00:00, 85.17it/s]\u001b[A\n",
      " 79%|███████▉  | 63/80 [00:00<00:00, 73.21it/s]\u001b[A\n",
      "100%|██████████| 80/80 [00:00<00:00, 80.59it/s]\u001b[A\n",
      " 52%|█████▏    | 580/1125 [12:00<15:20,  1.69s/it]"
     ]
    },
    {
     "name": "stdout",
     "output_type": "stream",
     "text": [
      "/home/jiang/projects/SubtleGAN/data/brats2021/train/BraTS2021_01086\n"
     ]
    },
    {
     "name": "stderr",
     "output_type": "stream",
     "text": [
      "\n",
      "  0%|          | 0/80 [00:00<?, ?it/s]\u001b[A\n",
      " 12%|█▎        | 10/80 [00:00<00:00, 98.40it/s]\u001b[A\n",
      " 25%|██▌       | 20/80 [00:00<00:00, 73.78it/s]\u001b[A\n",
      " 36%|███▋      | 29/80 [00:00<00:00, 77.53it/s]\u001b[A\n",
      " 48%|████▊     | 38/80 [00:00<00:00, 59.86it/s]\u001b[A\n",
      " 59%|█████▉    | 47/80 [00:00<00:00, 66.45it/s]\u001b[A\n",
      " 70%|███████   | 56/80 [00:00<00:00, 70.97it/s]\u001b[A\n",
      " 81%|████████▏ | 65/80 [00:00<00:00, 73.78it/s]\u001b[A\n",
      "100%|██████████| 80/80 [00:01<00:00, 72.21it/s]\u001b[A\n",
      " 52%|█████▏    | 581/1125 [12:02<15:18,  1.69s/it]"
     ]
    },
    {
     "name": "stdout",
     "output_type": "stream",
     "text": [
      "/home/jiang/projects/SubtleGAN/data/brats2021/train/BraTS2021_00262\n"
     ]
    },
    {
     "name": "stderr",
     "output_type": "stream",
     "text": [
      "\n",
      "  0%|          | 0/80 [00:00<?, ?it/s]\u001b[A\n",
      "  6%|▋         | 5/80 [00:00<00:01, 42.33it/s]\u001b[A\n",
      " 15%|█▌        | 12/80 [00:00<00:01, 54.86it/s]\u001b[A\n",
      " 25%|██▌       | 20/80 [00:00<00:00, 63.63it/s]\u001b[A\n",
      " 36%|███▋      | 29/80 [00:00<00:00, 71.80it/s]\u001b[A\n",
      " 46%|████▋     | 37/80 [00:00<00:00, 58.07it/s]\u001b[A\n",
      " 57%|█████▊    | 46/80 [00:00<00:00, 65.25it/s]\u001b[A\n",
      " 69%|██████▉   | 55/80 [00:00<00:00, 71.20it/s]\u001b[A\n",
      " 81%|████████▏ | 65/80 [00:00<00:00, 77.08it/s]\u001b[A\n",
      "100%|██████████| 80/80 [00:01<00:00, 71.62it/s]\u001b[A\n",
      " 52%|█████▏    | 582/1125 [12:04<15:12,  1.68s/it]"
     ]
    },
    {
     "name": "stdout",
     "output_type": "stream",
     "text": [
      "/home/jiang/projects/SubtleGAN/data/brats2021/train/BraTS2021_01549\n"
     ]
    },
    {
     "name": "stderr",
     "output_type": "stream",
     "text": [
      "\n",
      "  0%|          | 0/80 [00:00<?, ?it/s]\u001b[A\n",
      " 18%|█▊        | 14/80 [00:00<00:00, 133.26it/s]\u001b[A\n",
      " 35%|███▌      | 28/80 [00:00<00:00, 129.67it/s]\u001b[A\n",
      " 51%|█████▏    | 41/80 [00:00<00:00, 110.16it/s]\u001b[A\n",
      " 66%|██████▋   | 53/80 [00:00<00:00, 100.07it/s]\u001b[A\n",
      " 80%|████████  | 64/80 [00:00<00:00, 90.95it/s] \u001b[A\n",
      "100%|██████████| 80/80 [00:00<00:00, 96.59it/s]\u001b[A\n",
      " 52%|█████▏    | 583/1125 [12:06<15:45,  1.75s/it]"
     ]
    },
    {
     "name": "stdout",
     "output_type": "stream",
     "text": [
      "/home/jiang/projects/SubtleGAN/data/brats2021/train/BraTS2021_00619\n"
     ]
    },
    {
     "name": "stderr",
     "output_type": "stream",
     "text": [
      "\n",
      "  0%|          | 0/80 [00:00<?, ?it/s]\u001b[A\n",
      " 12%|█▎        | 10/80 [00:00<00:00, 91.32it/s]\u001b[A\n",
      " 25%|██▌       | 20/80 [00:00<00:00, 84.32it/s]\u001b[A\n",
      " 36%|███▋      | 29/80 [00:00<00:00, 85.31it/s]\u001b[A\n",
      " 48%|████▊     | 38/80 [00:00<00:00, 83.32it/s]\u001b[A\n",
      " 59%|█████▉    | 47/80 [00:00<00:00, 82.30it/s]\u001b[A\n",
      " 74%|███████▍  | 59/80 [00:00<00:00, 93.66it/s]\u001b[A\n",
      "100%|██████████| 80/80 [00:00<00:00, 95.09it/s] \u001b[A\n",
      " 52%|█████▏    | 584/1125 [12:07<14:29,  1.61s/it]"
     ]
    },
    {
     "name": "stdout",
     "output_type": "stream",
     "text": [
      "/home/jiang/projects/SubtleGAN/data/brats2021/train/BraTS2021_01332\n"
     ]
    },
    {
     "name": "stderr",
     "output_type": "stream",
     "text": [
      "\n",
      "  0%|          | 0/80 [00:00<?, ?it/s]\u001b[A\n",
      " 11%|█▏        | 9/80 [00:00<00:00, 84.55it/s]\u001b[A\n",
      " 22%|██▎       | 18/80 [00:00<00:00, 74.43it/s]\u001b[A\n",
      " 34%|███▍      | 27/80 [00:00<00:00, 77.75it/s]\u001b[A\n",
      " 45%|████▌     | 36/80 [00:00<00:00, 81.95it/s]\u001b[A\n",
      " 56%|█████▋    | 45/80 [00:00<00:00, 84.13it/s]\u001b[A\n",
      " 69%|██████▉   | 55/80 [00:00<00:00, 87.20it/s]\u001b[A\n",
      " 81%|████████▏ | 65/80 [00:00<00:00, 87.40it/s]\u001b[A\n",
      "100%|██████████| 80/80 [00:00<00:00, 84.99it/s]\u001b[A\n",
      " 52%|█████▏    | 585/1125 [12:08<14:04,  1.56s/it]"
     ]
    },
    {
     "name": "stdout",
     "output_type": "stream",
     "text": [
      "/home/jiang/projects/SubtleGAN/data/brats2021/train/BraTS2021_01348\n"
     ]
    },
    {
     "name": "stderr",
     "output_type": "stream",
     "text": [
      "\n",
      "  0%|          | 0/80 [00:00<?, ?it/s]\u001b[A\n",
      " 12%|█▎        | 10/80 [00:00<00:00, 92.44it/s]\u001b[A\n",
      " 25%|██▌       | 20/80 [00:00<00:00, 88.61it/s]\u001b[A\n",
      " 38%|███▊      | 30/80 [00:00<00:00, 89.20it/s]\u001b[A\n",
      " 49%|████▉     | 39/80 [00:00<00:00, 89.05it/s]\u001b[A\n",
      " 60%|██████    | 48/80 [00:00<00:00, 87.24it/s]\u001b[A\n",
      " 71%|███████▏  | 57/80 [00:00<00:00, 87.49it/s]\u001b[A\n",
      " 82%|████████▎ | 66/80 [00:00<00:00, 86.68it/s]\u001b[A\n",
      "100%|██████████| 80/80 [00:00<00:00, 87.55it/s]\u001b[A\n",
      " 52%|█████▏    | 586/1125 [12:10<13:43,  1.53s/it]"
     ]
    },
    {
     "name": "stdout",
     "output_type": "stream",
     "text": [
      "/home/jiang/projects/SubtleGAN/data/brats2021/train/BraTS2021_01651\n"
     ]
    },
    {
     "name": "stderr",
     "output_type": "stream",
     "text": [
      "\n",
      "  0%|          | 0/80 [00:00<?, ?it/s]\u001b[A\n",
      " 16%|█▋        | 13/80 [00:00<00:00, 128.56it/s]\u001b[A\n",
      " 32%|███▎      | 26/80 [00:00<00:00, 121.93it/s]\u001b[A\n",
      " 49%|████▉     | 39/80 [00:00<00:00, 111.03it/s]\u001b[A\n",
      " 64%|██████▍   | 51/80 [00:00<00:00, 102.11it/s]\u001b[A\n",
      " 78%|███████▊  | 62/80 [00:00<00:00, 95.89it/s] \u001b[A\n",
      "100%|██████████| 80/80 [00:00<00:00, 98.27it/s]\u001b[A\n",
      " 52%|█████▏    | 587/1125 [12:12<14:35,  1.63s/it]"
     ]
    },
    {
     "name": "stdout",
     "output_type": "stream",
     "text": [
      "/home/jiang/projects/SubtleGAN/data/brats2021/train/BraTS2021_01125\n"
     ]
    },
    {
     "name": "stderr",
     "output_type": "stream",
     "text": [
      "\n",
      "  0%|          | 0/80 [00:00<?, ?it/s]\u001b[A\n",
      " 12%|█▎        | 10/80 [00:00<00:00, 92.41it/s]\u001b[A\n",
      " 25%|██▌       | 20/80 [00:00<00:00, 90.29it/s]\u001b[A\n",
      " 38%|███▊      | 30/80 [00:00<00:00, 90.08it/s]\u001b[A\n",
      " 50%|█████     | 40/80 [00:00<00:00, 90.00it/s]\u001b[A\n",
      " 62%|██████▎   | 50/80 [00:00<00:00, 88.84it/s]\u001b[A\n",
      " 74%|███████▍  | 59/80 [00:00<00:00, 88.30it/s]\u001b[A\n",
      " 85%|████████▌ | 68/80 [00:00<00:00, 87.50it/s]\u001b[A\n",
      "100%|██████████| 80/80 [00:00<00:00, 88.50it/s]\u001b[A\n",
      " 52%|█████▏    | 588/1125 [12:13<14:03,  1.57s/it]"
     ]
    },
    {
     "name": "stdout",
     "output_type": "stream",
     "text": [
      "/home/jiang/projects/SubtleGAN/data/brats2021/train/BraTS2021_01376\n"
     ]
    },
    {
     "name": "stderr",
     "output_type": "stream",
     "text": [
      "\n",
      "  0%|          | 0/80 [00:00<?, ?it/s]\u001b[A\n",
      " 12%|█▎        | 10/80 [00:00<00:00, 92.69it/s]\u001b[A\n",
      " 25%|██▌       | 20/80 [00:00<00:00, 90.65it/s]\u001b[A\n",
      " 38%|███▊      | 30/80 [00:00<00:00, 90.06it/s]\u001b[A\n",
      " 50%|█████     | 40/80 [00:00<00:00, 89.96it/s]\u001b[A\n",
      " 61%|██████▏   | 49/80 [00:00<00:00, 88.42it/s]\u001b[A\n",
      " 74%|███████▍  | 59/80 [00:00<00:00, 91.08it/s]\u001b[A\n",
      "100%|██████████| 80/80 [00:00<00:00, 97.18it/s] \u001b[A\n",
      " 52%|█████▏    | 589/1125 [12:15<13:28,  1.51s/it]"
     ]
    },
    {
     "name": "stdout",
     "output_type": "stream",
     "text": [
      "/home/jiang/projects/SubtleGAN/data/brats2021/train/BraTS2021_01435\n"
     ]
    },
    {
     "name": "stderr",
     "output_type": "stream",
     "text": [
      "\n",
      "  0%|          | 0/80 [00:00<?, ?it/s]\u001b[A\n",
      " 16%|█▋        | 13/80 [00:00<00:00, 128.48it/s]\u001b[A\n",
      " 32%|███▎      | 26/80 [00:00<00:00, 89.44it/s] \u001b[A\n",
      " 45%|████▌     | 36/80 [00:00<00:00, 91.25it/s]\u001b[A\n",
      " 57%|█████▊    | 46/80 [00:00<00:00, 93.21it/s]\u001b[A\n",
      " 70%|███████   | 56/80 [00:00<00:00, 90.70it/s]\u001b[A\n",
      " 82%|████████▎ | 66/80 [00:00<00:00, 92.49it/s]\u001b[A\n",
      "100%|██████████| 80/80 [00:00<00:00, 92.77it/s]\u001b[A\n",
      " 52%|█████▏    | 590/1125 [12:16<13:08,  1.47s/it]"
     ]
    },
    {
     "name": "stdout",
     "output_type": "stream",
     "text": [
      "/home/jiang/projects/SubtleGAN/data/brats2021/train/BraTS2021_01337\n"
     ]
    },
    {
     "name": "stderr",
     "output_type": "stream",
     "text": [
      "\n",
      "  0%|          | 0/80 [00:00<?, ?it/s]\u001b[A\n",
      " 14%|█▍        | 11/80 [00:00<00:00, 98.55it/s]\u001b[A\n",
      " 26%|██▋       | 21/80 [00:00<00:00, 90.44it/s]\u001b[A\n",
      " 39%|███▉      | 31/80 [00:00<00:00, 90.54it/s]\u001b[A\n",
      " 51%|█████▏    | 41/80 [00:00<00:00, 88.64it/s]\u001b[A\n",
      " 62%|██████▎   | 50/80 [00:00<00:00, 87.59it/s]\u001b[A\n",
      " 74%|███████▍  | 59/80 [00:00<00:00, 87.22it/s]\u001b[A\n",
      " 85%|████████▌ | 68/80 [00:00<00:00, 86.86it/s]\u001b[A\n",
      "100%|██████████| 80/80 [00:00<00:00, 83.87it/s]\u001b[A\n",
      " 53%|█████▎    | 591/1125 [12:17<13:10,  1.48s/it]"
     ]
    },
    {
     "name": "stdout",
     "output_type": "stream",
     "text": [
      "/home/jiang/projects/SubtleGAN/data/brats2021/train/BraTS2021_01305\n"
     ]
    },
    {
     "name": "stderr",
     "output_type": "stream",
     "text": [
      "\n",
      "  0%|          | 0/80 [00:00<?, ?it/s]\u001b[A\n",
      " 10%|█         | 8/80 [00:00<00:01, 69.88it/s]\u001b[A\n",
      " 21%|██▏       | 17/80 [00:00<00:00, 79.49it/s]\u001b[A\n",
      " 32%|███▎      | 26/80 [00:00<00:00, 83.78it/s]\u001b[A\n",
      " 44%|████▍     | 35/80 [00:00<00:00, 85.11it/s]\u001b[A\n",
      " 56%|█████▋    | 45/80 [00:00<00:00, 88.51it/s]\u001b[A\n",
      " 68%|██████▊   | 54/80 [00:00<00:00, 87.51it/s]\u001b[A\n",
      " 80%|████████  | 64/80 [00:00<00:00, 90.93it/s]\u001b[A\n",
      "100%|██████████| 80/80 [00:00<00:00, 88.54it/s]\u001b[A\n",
      " 53%|█████▎    | 592/1125 [12:19<13:06,  1.47s/it]"
     ]
    },
    {
     "name": "stdout",
     "output_type": "stream",
     "text": [
      "/home/jiang/projects/SubtleGAN/data/brats2021/train/BraTS2021_01084\n"
     ]
    },
    {
     "name": "stderr",
     "output_type": "stream",
     "text": [
      "\n",
      "  0%|          | 0/80 [00:00<?, ?it/s]\u001b[A\n",
      " 14%|█▍        | 11/80 [00:00<00:00, 105.70it/s]\u001b[A\n",
      " 28%|██▊       | 22/80 [00:00<00:00, 62.29it/s] \u001b[A\n",
      " 39%|███▉      | 31/80 [00:00<00:00, 69.37it/s]\u001b[A\n",
      " 51%|█████▏    | 41/80 [00:00<00:00, 76.86it/s]\u001b[A\n",
      " 64%|██████▍   | 51/80 [00:00<00:00, 82.21it/s]\u001b[A\n",
      " 76%|███████▋  | 61/80 [00:00<00:00, 84.70it/s]\u001b[A\n",
      " 88%|████████▊ | 70/80 [00:00<00:00, 85.64it/s]\u001b[A\n",
      "100%|██████████| 80/80 [00:00<00:00, 81.74it/s]\u001b[A\n",
      " 53%|█████▎    | 593/1125 [12:20<13:10,  1.49s/it]"
     ]
    },
    {
     "name": "stdout",
     "output_type": "stream",
     "text": [
      "/home/jiang/projects/SubtleGAN/data/brats2021/train/BraTS2021_00777\n"
     ]
    },
    {
     "name": "stderr",
     "output_type": "stream",
     "text": [
      "\n",
      "  0%|          | 0/80 [00:00<?, ?it/s]\u001b[A\n",
      " 12%|█▎        | 10/80 [00:00<00:00, 98.54it/s]\u001b[A\n",
      " 25%|██▌       | 20/80 [00:00<00:00, 94.45it/s]\u001b[A\n",
      " 38%|███▊      | 30/80 [00:00<00:00, 90.04it/s]\u001b[A\n",
      " 50%|█████     | 40/80 [00:00<00:00, 88.50it/s]\u001b[A\n",
      " 61%|██████▏   | 49/80 [00:00<00:00, 88.67it/s]\u001b[A\n",
      " 74%|███████▍  | 59/80 [00:00<00:00, 89.67it/s]\u001b[A\n",
      " 85%|████████▌ | 68/80 [00:00<00:00, 79.87it/s]\u001b[A\n",
      "100%|██████████| 80/80 [00:00<00:00, 85.14it/s]\u001b[A\n",
      " 53%|█████▎    | 594/1125 [12:22<12:52,  1.45s/it]"
     ]
    },
    {
     "name": "stdout",
     "output_type": "stream",
     "text": [
      "/home/jiang/projects/SubtleGAN/data/brats2021/train/BraTS2021_01430\n"
     ]
    },
    {
     "name": "stderr",
     "output_type": "stream",
     "text": [
      "\n",
      "  0%|          | 0/80 [00:00<?, ?it/s]\u001b[A\n",
      " 12%|█▎        | 10/80 [00:00<00:00, 92.25it/s]\u001b[A\n",
      " 25%|██▌       | 20/80 [00:00<00:00, 94.03it/s]\u001b[A\n",
      " 38%|███▊      | 30/80 [00:00<00:00, 94.29it/s]\u001b[A\n",
      " 50%|█████     | 40/80 [00:00<00:00, 93.35it/s]\u001b[A\n",
      " 62%|██████▎   | 50/80 [00:00<00:00, 93.16it/s]\u001b[A\n",
      " 75%|███████▌  | 60/80 [00:00<00:00, 91.71it/s]\u001b[A\n",
      " 88%|████████▊ | 70/80 [00:00<00:00, 91.31it/s]\u001b[A\n",
      "100%|██████████| 80/80 [00:00<00:00, 91.91it/s]\u001b[A\n",
      " 53%|█████▎    | 595/1125 [12:23<12:42,  1.44s/it]"
     ]
    },
    {
     "name": "stdout",
     "output_type": "stream",
     "text": [
      "/home/jiang/projects/SubtleGAN/data/brats2021/train/BraTS2021_01056\n"
     ]
    },
    {
     "name": "stderr",
     "output_type": "stream",
     "text": [
      "\n",
      "  0%|          | 0/80 [00:00<?, ?it/s]\u001b[A\n",
      " 12%|█▎        | 10/80 [00:00<00:00, 93.17it/s]\u001b[A\n",
      " 25%|██▌       | 20/80 [00:00<00:00, 92.02it/s]\u001b[A\n",
      " 38%|███▊      | 30/80 [00:00<00:00, 75.82it/s]\u001b[A\n",
      " 50%|█████     | 40/80 [00:00<00:00, 80.71it/s]\u001b[A\n",
      " 61%|██████▏   | 49/80 [00:00<00:00, 82.48it/s]\u001b[A\n",
      " 72%|███████▎  | 58/80 [00:00<00:00, 84.69it/s]\u001b[A\n",
      " 84%|████████▍ | 67/80 [00:00<00:00, 85.08it/s]\u001b[A\n",
      "100%|██████████| 80/80 [00:00<00:00, 84.20it/s]\u001b[A\n",
      " 53%|█████▎    | 596/1125 [12:25<12:48,  1.45s/it]"
     ]
    },
    {
     "name": "stdout",
     "output_type": "stream",
     "text": [
      "/home/jiang/projects/SubtleGAN/data/brats2021/train/BraTS2021_00267\n"
     ]
    },
    {
     "name": "stderr",
     "output_type": "stream",
     "text": [
      "\n",
      "  0%|          | 0/80 [00:00<?, ?it/s]\u001b[A\n",
      " 12%|█▎        | 10/80 [00:00<00:00, 98.46it/s]\u001b[A\n",
      " 25%|██▌       | 20/80 [00:00<00:00, 60.39it/s]\u001b[A\n",
      " 36%|███▋      | 29/80 [00:00<00:00, 69.96it/s]\u001b[A\n",
      " 49%|████▉     | 39/80 [00:00<00:00, 79.07it/s]\u001b[A\n",
      " 61%|██████▏   | 49/80 [00:00<00:00, 83.59it/s]\u001b[A\n",
      " 72%|███████▎  | 58/80 [00:00<00:00, 84.05it/s]\u001b[A\n",
      " 84%|████████▍ | 67/80 [00:00<00:00, 84.77it/s]\u001b[A\n",
      "100%|██████████| 80/80 [00:00<00:00, 81.77it/s]\u001b[A\n",
      " 53%|█████▎    | 597/1125 [12:26<12:58,  1.47s/it]"
     ]
    },
    {
     "name": "stdout",
     "output_type": "stream",
     "text": [
      "/home/jiang/projects/SubtleGAN/data/brats2021/train/BraTS2021_01339\n"
     ]
    },
    {
     "name": "stderr",
     "output_type": "stream",
     "text": [
      "\n",
      "  0%|          | 0/80 [00:00<?, ?it/s]\u001b[A\n",
      " 12%|█▎        | 10/80 [00:00<00:00, 78.28it/s]\u001b[A\n",
      " 22%|██▎       | 18/80 [00:00<00:01, 47.91it/s]\u001b[A\n",
      " 35%|███▌      | 28/80 [00:00<00:00, 63.04it/s]\u001b[A\n",
      " 46%|████▋     | 37/80 [00:00<00:00, 70.64it/s]\u001b[A\n",
      " 57%|█████▊    | 46/80 [00:00<00:00, 76.29it/s]\u001b[A\n",
      " 69%|██████▉   | 55/80 [00:00<00:00, 80.15it/s]\u001b[A\n",
      " 80%|████████  | 64/80 [00:00<00:00, 80.87it/s]\u001b[A\n",
      "100%|██████████| 80/80 [00:01<00:00, 76.06it/s]\u001b[A\n",
      " 53%|█████▎    | 598/1125 [12:28<13:19,  1.52s/it]"
     ]
    },
    {
     "name": "stdout",
     "output_type": "stream",
     "text": [
      "/home/jiang/projects/SubtleGAN/data/brats2021/train/BraTS2021_01513\n"
     ]
    },
    {
     "name": "stderr",
     "output_type": "stream",
     "text": [
      "\n",
      "  0%|          | 0/80 [00:00<?, ?it/s]\u001b[A\n",
      " 12%|█▎        | 10/80 [00:00<00:00, 96.21it/s]\u001b[A\n",
      " 25%|██▌       | 20/80 [00:00<00:00, 92.91it/s]\u001b[A\n",
      " 38%|███▊      | 30/80 [00:00<00:00, 94.26it/s]\u001b[A\n",
      " 52%|█████▎    | 42/80 [00:00<00:00, 102.17it/s]\u001b[A\n",
      " 66%|██████▋   | 53/80 [00:00<00:00, 97.36it/s] \u001b[A\n",
      " 79%|███████▉  | 63/80 [00:00<00:00, 85.93it/s]\u001b[A\n",
      "100%|██████████| 80/80 [00:00<00:00, 89.27it/s]\u001b[A\n",
      " 53%|█████▎    | 599/1125 [12:29<13:03,  1.49s/it]"
     ]
    },
    {
     "name": "stdout",
     "output_type": "stream",
     "text": [
      "/home/jiang/projects/SubtleGAN/data/brats2021/train/BraTS2021_01366\n"
     ]
    },
    {
     "name": "stderr",
     "output_type": "stream",
     "text": [
      "\n",
      "  0%|          | 0/80 [00:00<?, ?it/s]\u001b[A\n",
      " 12%|█▎        | 10/80 [00:00<00:00, 94.52it/s]\u001b[A\n",
      " 25%|██▌       | 20/80 [00:00<00:00, 88.57it/s]\u001b[A\n",
      " 38%|███▊      | 30/80 [00:00<00:00, 90.49it/s]\u001b[A\n",
      " 50%|█████     | 40/80 [00:00<00:00, 90.06it/s]\u001b[A\n",
      " 62%|██████▎   | 50/80 [00:00<00:00, 89.13it/s]\u001b[A\n",
      " 74%|███████▍  | 59/80 [00:00<00:00, 87.70it/s]\u001b[A\n",
      " 85%|████████▌ | 68/80 [00:00<00:00, 87.56it/s]\u001b[A\n",
      "100%|██████████| 80/80 [00:00<00:00, 88.05it/s]\u001b[A\n",
      " 53%|█████▎    | 600/1125 [12:31<12:52,  1.47s/it]"
     ]
    },
    {
     "name": "stdout",
     "output_type": "stream",
     "text": [
      "/home/jiang/projects/SubtleGAN/data/brats2021/train/BraTS2021_00477\n"
     ]
    },
    {
     "name": "stderr",
     "output_type": "stream",
     "text": [
      "\n",
      "  0%|          | 0/80 [00:00<?, ?it/s]\u001b[A\n",
      " 14%|█▍        | 11/80 [00:00<00:00, 99.20it/s]\u001b[A\n",
      " 26%|██▋       | 21/80 [00:00<00:00, 92.25it/s]\u001b[A\n",
      " 39%|███▉      | 31/80 [00:00<00:00, 91.41it/s]\u001b[A\n",
      " 51%|█████▏    | 41/80 [00:00<00:00, 92.99it/s]\u001b[A\n",
      " 64%|██████▍   | 51/80 [00:00<00:00, 91.75it/s]\u001b[A\n",
      " 76%|███████▋  | 61/80 [00:00<00:00, 90.82it/s]\u001b[A\n",
      " 89%|████████▉ | 71/80 [00:00<00:00, 88.99it/s]\u001b[A\n",
      "100%|██████████| 80/80 [00:00<00:00, 90.50it/s]\u001b[A\n",
      " 53%|█████▎    | 601/1125 [12:32<12:29,  1.43s/it]"
     ]
    },
    {
     "name": "stdout",
     "output_type": "stream",
     "text": [
      "/home/jiang/projects/SubtleGAN/data/brats2021/train/BraTS2021_00820\n"
     ]
    },
    {
     "name": "stderr",
     "output_type": "stream",
     "text": [
      "\n",
      "  0%|          | 0/80 [00:00<?, ?it/s]\u001b[A\n",
      " 16%|█▋        | 13/80 [00:00<00:00, 123.70it/s]\u001b[A\n",
      " 32%|███▎      | 26/80 [00:00<00:00, 123.39it/s]\u001b[A\n",
      " 49%|████▉     | 39/80 [00:00<00:00, 112.14it/s]\u001b[A\n",
      " 64%|██████▍   | 51/80 [00:00<00:00, 83.28it/s] \u001b[A\n",
      " 76%|███████▋  | 61/80 [00:00<00:00, 85.52it/s]\u001b[A\n",
      " 89%|████████▉ | 71/80 [00:00<00:00, 85.40it/s]\u001b[A\n",
      "100%|██████████| 80/80 [00:00<00:00, 90.98it/s]\u001b[A\n",
      " 54%|█████▎    | 602/1125 [12:34<13:47,  1.58s/it]"
     ]
    },
    {
     "name": "stdout",
     "output_type": "stream",
     "text": [
      "/home/jiang/projects/SubtleGAN/data/brats2021/train/BraTS2021_00101\n"
     ]
    },
    {
     "name": "stderr",
     "output_type": "stream",
     "text": [
      "\n",
      "  0%|          | 0/80 [00:00<?, ?it/s]\u001b[A\n",
      " 12%|█▎        | 10/80 [00:00<00:00, 94.07it/s]\u001b[A\n",
      " 25%|██▌       | 20/80 [00:00<00:00, 88.72it/s]\u001b[A\n",
      " 36%|███▋      | 29/80 [00:00<00:00, 73.59it/s]\u001b[A\n",
      " 48%|████▊     | 38/80 [00:00<00:00, 77.14it/s]\u001b[A\n",
      " 59%|█████▉    | 47/80 [00:00<00:00, 79.50it/s]\u001b[A\n",
      " 70%|███████   | 56/80 [00:00<00:00, 81.53it/s]\u001b[A\n",
      " 81%|████████▏ | 65/80 [00:00<00:00, 81.49it/s]\u001b[A\n",
      "100%|██████████| 80/80 [00:00<00:00, 81.34it/s]\u001b[A\n",
      " 54%|█████▎    | 603/1125 [12:35<13:37,  1.57s/it]"
     ]
    },
    {
     "name": "stdout",
     "output_type": "stream",
     "text": [
      "/home/jiang/projects/SubtleGAN/data/brats2021/train/BraTS2021_01594\n"
     ]
    },
    {
     "name": "stderr",
     "output_type": "stream",
     "text": [
      "\n",
      "  0%|          | 0/80 [00:00<?, ?it/s]\u001b[A\n",
      "  6%|▋         | 5/80 [00:00<00:01, 46.46it/s]\u001b[A\n",
      " 16%|█▋        | 13/80 [00:00<00:01, 63.76it/s]\u001b[A\n",
      " 31%|███▏      | 25/80 [00:00<00:00, 88.13it/s]\u001b[A\n",
      " 42%|████▎     | 34/80 [00:00<00:00, 88.41it/s]\u001b[A\n",
      " 54%|█████▍    | 43/80 [00:00<00:00, 87.57it/s]\u001b[A\n",
      " 65%|██████▌   | 52/80 [00:00<00:00, 86.32it/s]\u001b[A\n",
      " 76%|███████▋  | 61/80 [00:00<00:00, 85.19it/s]\u001b[A\n",
      " 88%|████████▊ | 70/80 [00:00<00:00, 85.13it/s]\u001b[A\n",
      "100%|██████████| 80/80 [00:00<00:00, 82.94it/s]\u001b[A\n",
      " 54%|█████▎    | 604/1125 [12:38<14:53,  1.71s/it]"
     ]
    },
    {
     "name": "stdout",
     "output_type": "stream",
     "text": [
      "/home/jiang/projects/SubtleGAN/data/brats2021/train/BraTS2021_00019\n"
     ]
    },
    {
     "name": "stderr",
     "output_type": "stream",
     "text": [
      "\n",
      "  0%|          | 0/80 [00:00<?, ?it/s]\u001b[A\n",
      " 12%|█▎        | 10/80 [00:00<00:00, 97.03it/s]\u001b[A\n",
      " 25%|██▌       | 20/80 [00:00<00:00, 88.02it/s]\u001b[A\n",
      " 36%|███▋      | 29/80 [00:00<00:00, 78.35it/s]\u001b[A\n",
      " 48%|████▊     | 38/80 [00:00<00:00, 81.02it/s]\u001b[A\n",
      " 59%|█████▉    | 47/80 [00:00<00:00, 82.82it/s]\u001b[A\n",
      " 70%|███████   | 56/80 [00:00<00:00, 64.42it/s]\u001b[A\n",
      " 80%|████████  | 64/80 [00:00<00:00, 64.64it/s]\u001b[A\n",
      " 89%|████████▉ | 71/80 [00:01<00:00, 56.19it/s]\u001b[A\n",
      "100%|██████████| 80/80 [00:01<00:00, 68.30it/s]\u001b[A\n",
      " 54%|█████▍    | 605/1125 [12:39<14:38,  1.69s/it]"
     ]
    },
    {
     "name": "stdout",
     "output_type": "stream",
     "text": [
      "/home/jiang/projects/SubtleGAN/data/brats2021/train/BraTS2021_01621\n"
     ]
    },
    {
     "name": "stderr",
     "output_type": "stream",
     "text": [
      "\n",
      "  0%|          | 0/80 [00:00<?, ?it/s]\u001b[A\n",
      " 16%|█▋        | 13/80 [00:00<00:00, 127.56it/s]\u001b[A\n",
      " 32%|███▎      | 26/80 [00:00<00:00, 122.80it/s]\u001b[A\n",
      " 49%|████▉     | 39/80 [00:00<00:00, 107.47it/s]\u001b[A\n",
      " 62%|██████▎   | 50/80 [00:00<00:00, 98.78it/s] \u001b[A\n",
      " 76%|███████▋  | 61/80 [00:00<00:00, 94.10it/s]\u001b[A\n",
      "100%|██████████| 80/80 [00:00<00:00, 97.63it/s]\u001b[A\n",
      " 54%|█████▍    | 606/1125 [12:41<15:05,  1.75s/it]"
     ]
    },
    {
     "name": "stdout",
     "output_type": "stream",
     "text": [
      "/home/jiang/projects/SubtleGAN/data/brats2021/train/BraTS2021_00493\n"
     ]
    },
    {
     "name": "stderr",
     "output_type": "stream",
     "text": [
      "\n",
      "  0%|          | 0/80 [00:00<?, ?it/s]\u001b[A\n",
      " 12%|█▎        | 10/80 [00:00<00:00, 95.31it/s]\u001b[A\n",
      " 25%|██▌       | 20/80 [00:00<00:00, 91.70it/s]\u001b[A\n",
      " 38%|███▊      | 30/80 [00:00<00:00, 88.50it/s]\u001b[A\n",
      " 49%|████▉     | 39/80 [00:00<00:00, 86.54it/s]\u001b[A\n",
      " 60%|██████    | 48/80 [00:00<00:00, 85.45it/s]\u001b[A\n",
      " 71%|███████▏  | 57/80 [00:00<00:00, 85.48it/s]\u001b[A\n",
      " 82%|████████▎ | 66/80 [00:00<00:00, 85.54it/s]\u001b[A\n",
      "100%|██████████| 80/80 [00:00<00:00, 86.00it/s]\u001b[A\n",
      " 54%|█████▍    | 607/1125 [12:42<14:15,  1.65s/it]"
     ]
    },
    {
     "name": "stdout",
     "output_type": "stream",
     "text": [
      "/home/jiang/projects/SubtleGAN/data/brats2021/train/BraTS2021_00131\n"
     ]
    },
    {
     "name": "stderr",
     "output_type": "stream",
     "text": [
      "\n",
      "  0%|          | 0/80 [00:00<?, ?it/s]\u001b[A\n",
      " 12%|█▎        | 10/80 [00:00<00:00, 98.39it/s]\u001b[A\n",
      " 25%|██▌       | 20/80 [00:00<00:00, 91.08it/s]\u001b[A\n",
      " 38%|███▊      | 30/80 [00:00<00:00, 89.91it/s]\u001b[A\n",
      " 50%|█████     | 40/80 [00:00<00:00, 89.24it/s]\u001b[A\n",
      " 61%|██████▏   | 49/80 [00:00<00:00, 88.62it/s]\u001b[A\n",
      " 72%|███████▎  | 58/80 [00:00<00:00, 86.82it/s]\u001b[A\n",
      " 84%|████████▍ | 67/80 [00:00<00:00, 86.49it/s]\u001b[A\n",
      "100%|██████████| 80/80 [00:00<00:00, 87.03it/s]\u001b[A\n",
      " 54%|█████▍    | 608/1125 [12:44<13:45,  1.60s/it]"
     ]
    },
    {
     "name": "stdout",
     "output_type": "stream",
     "text": [
      "/home/jiang/projects/SubtleGAN/data/brats2021/train/BraTS2021_01343\n"
     ]
    },
    {
     "name": "stderr",
     "output_type": "stream",
     "text": [
      "\n",
      "  0%|          | 0/80 [00:00<?, ?it/s]\u001b[A\n",
      " 12%|█▎        | 10/80 [00:00<00:00, 95.28it/s]\u001b[A\n",
      " 25%|██▌       | 20/80 [00:00<00:00, 88.85it/s]\u001b[A\n",
      " 36%|███▋      | 29/80 [00:00<00:00, 86.35it/s]\u001b[A\n",
      " 48%|████▊     | 38/80 [00:00<00:00, 87.58it/s]\u001b[A\n",
      " 59%|█████▉    | 47/80 [00:00<00:00, 86.46it/s]\u001b[A\n",
      " 70%|███████   | 56/80 [00:00<00:00, 87.07it/s]\u001b[A\n",
      " 81%|████████▏ | 65/80 [00:00<00:00, 86.23it/s]\u001b[A\n",
      "100%|██████████| 80/80 [00:00<00:00, 85.97it/s]\u001b[A\n",
      " 54%|█████▍    | 609/1125 [12:45<13:23,  1.56s/it]"
     ]
    },
    {
     "name": "stdout",
     "output_type": "stream",
     "text": [
      "/home/jiang/projects/SubtleGAN/data/brats2021/train/BraTS2021_01555\n"
     ]
    },
    {
     "name": "stderr",
     "output_type": "stream",
     "text": [
      "\n",
      "  0%|          | 0/80 [00:00<?, ?it/s]\u001b[A\n",
      " 15%|█▌        | 12/80 [00:00<00:00, 119.43it/s]\u001b[A\n",
      " 30%|███       | 24/80 [00:00<00:00, 107.32it/s]\u001b[A\n",
      " 44%|████▍     | 35/80 [00:00<00:00, 96.29it/s] \u001b[A\n",
      " 56%|█████▋    | 45/80 [00:00<00:00, 91.26it/s]\u001b[A\n",
      " 69%|██████▉   | 55/80 [00:00<00:00, 89.23it/s]\u001b[A\n",
      " 80%|████████  | 64/80 [00:00<00:00, 86.10it/s]\u001b[A\n",
      "100%|██████████| 80/80 [00:00<00:00, 89.77it/s]\u001b[A\n",
      " 54%|█████▍    | 610/1125 [12:47<14:40,  1.71s/it]"
     ]
    },
    {
     "name": "stdout",
     "output_type": "stream",
     "text": [
      "/home/jiang/projects/SubtleGAN/data/brats2021/train/BraTS2021_01510\n"
     ]
    },
    {
     "name": "stderr",
     "output_type": "stream",
     "text": [
      "\n",
      "  0%|          | 0/80 [00:00<?, ?it/s]\u001b[A\n",
      " 12%|█▎        | 10/80 [00:00<00:00, 92.66it/s]\u001b[A\n",
      " 25%|██▌       | 20/80 [00:00<00:00, 85.97it/s]\u001b[A\n",
      " 36%|███▋      | 29/80 [00:00<00:00, 85.14it/s]\u001b[A\n",
      " 48%|████▊     | 38/80 [00:00<00:00, 83.87it/s]\u001b[A\n",
      " 59%|█████▉    | 47/80 [00:00<00:00, 82.76it/s]\u001b[A\n",
      " 70%|███████   | 56/80 [00:00<00:00, 82.97it/s]\u001b[A\n",
      " 81%|████████▏ | 65/80 [00:00<00:00, 82.96it/s]\u001b[A\n",
      "100%|██████████| 80/80 [00:00<00:00, 82.99it/s]\u001b[A\n",
      " 54%|█████▍    | 611/1125 [12:49<14:08,  1.65s/it]"
     ]
    },
    {
     "name": "stdout",
     "output_type": "stream",
     "text": [
      "/home/jiang/projects/SubtleGAN/data/brats2021/train/BraTS2021_01527\n"
     ]
    },
    {
     "name": "stderr",
     "output_type": "stream",
     "text": [
      "\n",
      "  0%|          | 0/80 [00:00<?, ?it/s]\u001b[A\n",
      " 12%|█▎        | 10/80 [00:00<00:00, 90.70it/s]\u001b[A\n",
      " 25%|██▌       | 20/80 [00:00<00:00, 86.16it/s]\u001b[A\n",
      " 36%|███▋      | 29/80 [00:00<00:00, 86.21it/s]\u001b[A\n",
      " 48%|████▊     | 38/80 [00:00<00:00, 85.43it/s]\u001b[A\n",
      " 59%|█████▉    | 47/80 [00:00<00:00, 85.43it/s]\u001b[A\n",
      " 70%|███████   | 56/80 [00:00<00:00, 83.73it/s]\u001b[A\n",
      " 81%|████████▏ | 65/80 [00:00<00:00, 83.14it/s]\u001b[A\n",
      "100%|██████████| 80/80 [00:00<00:00, 83.97it/s]\u001b[A\n",
      " 54%|█████▍    | 612/1125 [12:50<13:43,  1.60s/it]"
     ]
    },
    {
     "name": "stdout",
     "output_type": "stream",
     "text": [
      "/home/jiang/projects/SubtleGAN/data/brats2021/train/BraTS2021_01009\n"
     ]
    },
    {
     "name": "stderr",
     "output_type": "stream",
     "text": [
      "\n",
      "  0%|          | 0/80 [00:00<?, ?it/s]\u001b[A\n",
      " 11%|█▏        | 9/80 [00:00<00:00, 89.64it/s]\u001b[A\n",
      " 22%|██▎       | 18/80 [00:00<00:00, 87.12it/s]\u001b[A\n",
      " 34%|███▍      | 27/80 [00:00<00:00, 87.18it/s]\u001b[A\n",
      " 45%|████▌     | 36/80 [00:00<00:00, 84.66it/s]\u001b[A\n",
      " 56%|█████▋    | 45/80 [00:00<00:00, 84.56it/s]\u001b[A\n",
      " 68%|██████▊   | 54/80 [00:00<00:00, 63.59it/s]\u001b[A\n",
      " 80%|████████  | 64/80 [00:00<00:00, 70.39it/s]\u001b[A\n",
      "100%|██████████| 80/80 [00:01<00:00, 76.26it/s]\u001b[A\n",
      " 54%|█████▍    | 613/1125 [12:52<13:42,  1.61s/it]"
     ]
    },
    {
     "name": "stdout",
     "output_type": "stream",
     "text": [
      "/home/jiang/projects/SubtleGAN/data/brats2021/train/BraTS2021_01094\n"
     ]
    },
    {
     "name": "stderr",
     "output_type": "stream",
     "text": [
      "\n",
      "  0%|          | 0/80 [00:00<?, ?it/s]\u001b[A\n",
      " 16%|█▋        | 13/80 [00:00<00:00, 121.33it/s]\u001b[A\n",
      " 32%|███▎      | 26/80 [00:00<00:00, 116.82it/s]\u001b[A\n",
      " 48%|████▊     | 38/80 [00:00<00:00, 115.64it/s]\u001b[A\n",
      " 64%|██████▍   | 51/80 [00:00<00:00, 117.76it/s]\u001b[A\n",
      " 79%|███████▉  | 63/80 [00:00<00:00, 115.75it/s]\u001b[A\n",
      "100%|██████████| 80/80 [00:00<00:00, 116.12it/s]\u001b[A\n",
      " 55%|█████▍    | 614/1125 [12:53<12:44,  1.50s/it]"
     ]
    },
    {
     "name": "stdout",
     "output_type": "stream",
     "text": [
      "/home/jiang/projects/SubtleGAN/data/brats2021/train/BraTS2021_00445\n"
     ]
    },
    {
     "name": "stderr",
     "output_type": "stream",
     "text": [
      "\n",
      "  0%|          | 0/80 [00:00<?, ?it/s]\u001b[A\n",
      " 16%|█▋        | 13/80 [00:00<00:00, 127.17it/s]\u001b[A\n",
      " 32%|███▎      | 26/80 [00:00<00:00, 119.61it/s]\u001b[A\n",
      " 48%|████▊     | 38/80 [00:00<00:00, 119.47it/s]\u001b[A\n",
      " 62%|██████▎   | 50/80 [00:00<00:00, 116.41it/s]\u001b[A\n",
      " 78%|███████▊  | 62/80 [00:00<00:00, 117.45it/s]\u001b[A\n",
      "100%|██████████| 80/80 [00:00<00:00, 95.55it/s] \u001b[A\n",
      " 55%|█████▍    | 615/1125 [12:55<12:24,  1.46s/it]"
     ]
    },
    {
     "name": "stdout",
     "output_type": "stream",
     "text": [
      "/home/jiang/projects/SubtleGAN/data/brats2021/train/BraTS2021_01105\n"
     ]
    },
    {
     "name": "stderr",
     "output_type": "stream",
     "text": [
      "\n",
      "  0%|          | 0/80 [00:00<?, ?it/s]\u001b[A\n",
      " 15%|█▌        | 12/80 [00:00<00:00, 112.61it/s]\u001b[A\n",
      " 31%|███▏      | 25/80 [00:00<00:00, 116.88it/s]\u001b[A\n",
      " 46%|████▋     | 37/80 [00:00<00:00, 117.64it/s]\u001b[A\n",
      " 61%|██████▏   | 49/80 [00:00<00:00, 87.47it/s] \u001b[A\n",
      " 76%|███████▋  | 61/80 [00:00<00:00, 95.56it/s]\u001b[A\n",
      "100%|██████████| 80/80 [00:00<00:00, 85.32it/s]\u001b[A\n",
      " 55%|█████▍    | 616/1125 [12:56<12:26,  1.47s/it]"
     ]
    },
    {
     "name": "stdout",
     "output_type": "stream",
     "text": [
      "/home/jiang/projects/SubtleGAN/data/brats2021/train/BraTS2021_00485\n"
     ]
    },
    {
     "name": "stderr",
     "output_type": "stream",
     "text": [
      "\n",
      "  0%|          | 0/80 [00:00<?, ?it/s]\u001b[A\n",
      " 12%|█▎        | 10/80 [00:00<00:00, 95.94it/s]\u001b[A\n",
      " 25%|██▌       | 20/80 [00:00<00:00, 90.82it/s]\u001b[A\n",
      " 38%|███▊      | 30/80 [00:00<00:00, 76.62it/s]\u001b[A\n",
      " 49%|████▉     | 39/80 [00:00<00:00, 77.89it/s]\u001b[A\n",
      " 60%|██████    | 48/80 [00:00<00:00, 80.08it/s]\u001b[A\n",
      " 71%|███████▏  | 57/80 [00:00<00:00, 80.60it/s]\u001b[A\n",
      " 82%|████████▎ | 66/80 [00:00<00:00, 81.57it/s]\u001b[A\n",
      "100%|██████████| 80/80 [00:00<00:00, 81.99it/s]\u001b[A\n",
      " 55%|█████▍    | 617/1125 [12:58<12:17,  1.45s/it]"
     ]
    },
    {
     "name": "stdout",
     "output_type": "stream",
     "text": [
      "/home/jiang/projects/SubtleGAN/data/brats2021/train/BraTS2021_00250\n"
     ]
    },
    {
     "name": "stderr",
     "output_type": "stream",
     "text": [
      "\n",
      "  0%|          | 0/80 [00:00<?, ?it/s]\u001b[A\n",
      " 12%|█▎        | 10/80 [00:00<00:00, 91.69it/s]\u001b[A\n",
      " 25%|██▌       | 20/80 [00:00<00:00, 87.62it/s]\u001b[A\n",
      " 36%|███▋      | 29/80 [00:00<00:00, 86.55it/s]\u001b[A\n",
      " 48%|████▊     | 38/80 [00:00<00:00, 87.09it/s]\u001b[A\n",
      " 59%|█████▉    | 47/80 [00:00<00:00, 86.93it/s]\u001b[A\n",
      " 70%|███████   | 56/80 [00:00<00:00, 85.88it/s]\u001b[A\n",
      " 81%|████████▏ | 65/80 [00:00<00:00, 85.39it/s]\u001b[A\n",
      "100%|██████████| 80/80 [00:00<00:00, 86.09it/s]\u001b[A\n",
      " 55%|█████▍    | 618/1125 [12:59<12:19,  1.46s/it]"
     ]
    },
    {
     "name": "stdout",
     "output_type": "stream",
     "text": [
      "/home/jiang/projects/SubtleGAN/data/brats2021/train/BraTS2021_01588\n"
     ]
    },
    {
     "name": "stderr",
     "output_type": "stream",
     "text": [
      "\n",
      "  0%|          | 0/80 [00:00<?, ?it/s]\u001b[A\n",
      " 16%|█▋        | 13/80 [00:00<00:00, 122.16it/s]\u001b[A\n",
      " 32%|███▎      | 26/80 [00:00<00:00, 116.75it/s]\u001b[A\n",
      " 48%|████▊     | 38/80 [00:00<00:00, 105.50it/s]\u001b[A\n",
      " 61%|██████▏   | 49/80 [00:00<00:00, 98.80it/s] \u001b[A\n",
      " 74%|███████▍  | 59/80 [00:00<00:00, 94.34it/s]\u001b[A\n",
      " 86%|████████▋ | 69/80 [00:00<00:00, 92.51it/s]\u001b[A\n",
      "100%|██████████| 80/80 [00:00<00:00, 96.18it/s]\u001b[A\n",
      " 55%|█████▌    | 619/1125 [13:01<13:18,  1.58s/it]"
     ]
    },
    {
     "name": "stdout",
     "output_type": "stream",
     "text": [
      "/home/jiang/projects/SubtleGAN/data/brats2021/train/BraTS2021_00605\n"
     ]
    },
    {
     "name": "stderr",
     "output_type": "stream",
     "text": [
      "\n",
      "  0%|          | 0/80 [00:00<?, ?it/s]\u001b[A\n",
      " 12%|█▎        | 10/80 [00:00<00:00, 91.71it/s]\u001b[A\n",
      " 25%|██▌       | 20/80 [00:00<00:00, 88.66it/s]\u001b[A\n",
      " 36%|███▋      | 29/80 [00:00<00:00, 88.81it/s]\u001b[A\n",
      " 48%|████▊     | 38/80 [00:00<00:00, 87.46it/s]\u001b[A\n",
      " 59%|█████▉    | 47/80 [00:00<00:00, 85.59it/s]\u001b[A\n",
      " 71%|███████▏  | 57/80 [00:00<00:00, 87.59it/s]\u001b[A\n",
      " 82%|████████▎ | 66/80 [00:00<00:00, 87.83it/s]\u001b[A\n",
      "100%|██████████| 80/80 [00:00<00:00, 87.43it/s]\u001b[A\n",
      " 55%|█████▌    | 620/1125 [13:02<12:45,  1.52s/it]"
     ]
    },
    {
     "name": "stdout",
     "output_type": "stream",
     "text": [
      "/home/jiang/projects/SubtleGAN/data/brats2021/train/BraTS2021_01630\n"
     ]
    },
    {
     "name": "stderr",
     "output_type": "stream",
     "text": [
      "\n",
      "  0%|          | 0/80 [00:00<?, ?it/s]\u001b[A\n",
      " 16%|█▋        | 13/80 [00:00<00:00, 125.95it/s]\u001b[A\n",
      " 32%|███▎      | 26/80 [00:00<00:00, 122.13it/s]\u001b[A\n",
      " 49%|████▉     | 39/80 [00:00<00:00, 113.44it/s]\u001b[A\n",
      " 64%|██████▍   | 51/80 [00:00<00:00, 102.65it/s]\u001b[A\n",
      " 78%|███████▊  | 62/80 [00:00<00:00, 98.23it/s] \u001b[A\n",
      "100%|██████████| 80/80 [00:00<00:00, 100.03it/s][A\n",
      " 55%|█████▌    | 621/1125 [13:04<13:42,  1.63s/it]"
     ]
    },
    {
     "name": "stdout",
     "output_type": "stream",
     "text": [
      "/home/jiang/projects/SubtleGAN/data/brats2021/train/BraTS2021_00805\n"
     ]
    },
    {
     "name": "stderr",
     "output_type": "stream",
     "text": [
      "\n",
      "  0%|          | 0/80 [00:00<?, ?it/s]\u001b[A\n",
      " 16%|█▋        | 13/80 [00:00<00:00, 121.38it/s]\u001b[A\n",
      " 32%|███▎      | 26/80 [00:00<00:00, 119.02it/s]\u001b[A\n",
      " 48%|████▊     | 38/80 [00:00<00:00, 110.57it/s]\u001b[A\n",
      " 62%|██████▎   | 50/80 [00:00<00:00, 101.27it/s]\u001b[A\n",
      " 76%|███████▋  | 61/80 [00:00<00:00, 96.96it/s] \u001b[A\n",
      "100%|██████████| 80/80 [00:00<00:00, 98.61it/s]\u001b[A\n",
      " 55%|█████▌    | 622/1125 [13:06<14:21,  1.71s/it]"
     ]
    },
    {
     "name": "stdout",
     "output_type": "stream",
     "text": [
      "/home/jiang/projects/SubtleGAN/data/brats2021/train/BraTS2021_01303\n"
     ]
    },
    {
     "name": "stderr",
     "output_type": "stream",
     "text": [
      "\n",
      "  0%|          | 0/80 [00:00<?, ?it/s]\u001b[A\n",
      " 14%|█▍        | 11/80 [00:00<00:00, 101.26it/s]\u001b[A\n",
      " 28%|██▊       | 22/80 [00:00<00:00, 92.32it/s] \u001b[A\n",
      " 40%|████      | 32/80 [00:00<00:00, 91.50it/s]\u001b[A\n",
      " 52%|█████▎    | 42/80 [00:00<00:00, 91.78it/s]\u001b[A\n",
      " 65%|██████▌   | 52/80 [00:00<00:00, 89.87it/s]\u001b[A\n",
      " 78%|███████▊  | 62/80 [00:00<00:00, 89.18it/s]\u001b[A\n",
      "100%|██████████| 80/80 [00:00<00:00, 90.69it/s]\u001b[A\n",
      " 55%|█████▌    | 623/1125 [13:08<13:34,  1.62s/it]"
     ]
    },
    {
     "name": "stdout",
     "output_type": "stream",
     "text": [
      "/home/jiang/projects/SubtleGAN/data/brats2021/train/BraTS2021_01451\n"
     ]
    },
    {
     "name": "stderr",
     "output_type": "stream",
     "text": [
      "\n",
      "  0%|          | 0/80 [00:00<?, ?it/s]\u001b[A\n",
      " 12%|█▎        | 10/80 [00:00<00:00, 94.28it/s]\u001b[A\n",
      " 25%|██▌       | 20/80 [00:00<00:00, 91.39it/s]\u001b[A\n",
      " 38%|███▊      | 30/80 [00:00<00:00, 90.29it/s]\u001b[A\n",
      " 50%|█████     | 40/80 [00:00<00:00, 89.15it/s]\u001b[A\n",
      " 61%|██████▏   | 49/80 [00:00<00:00, 88.95it/s]\u001b[A\n",
      " 72%|███████▎  | 58/80 [00:00<00:00, 89.02it/s]\u001b[A\n",
      " 84%|████████▍ | 67/80 [00:00<00:00, 88.86it/s]\u001b[A\n",
      "100%|██████████| 80/80 [00:00<00:00, 88.73it/s]\u001b[A\n",
      " 55%|█████▌    | 624/1125 [13:09<13:04,  1.57s/it]"
     ]
    },
    {
     "name": "stdout",
     "output_type": "stream",
     "text": [
      "/home/jiang/projects/SubtleGAN/data/brats2021/train/BraTS2021_00105\n"
     ]
    },
    {
     "name": "stderr",
     "output_type": "stream",
     "text": [
      "\n",
      "  0%|          | 0/80 [00:00<?, ?it/s]\u001b[A\n",
      " 12%|█▎        | 10/80 [00:00<00:00, 99.57it/s]\u001b[A\n",
      " 25%|██▌       | 20/80 [00:00<00:00, 92.48it/s]\u001b[A\n",
      " 38%|███▊      | 30/80 [00:00<00:00, 89.94it/s]\u001b[A\n",
      " 50%|█████     | 40/80 [00:00<00:00, 88.63it/s]\u001b[A\n",
      " 61%|██████▏   | 49/80 [00:00<00:00, 87.93it/s]\u001b[A\n",
      " 72%|███████▎  | 58/80 [00:00<00:00, 86.17it/s]\u001b[A\n",
      " 84%|████████▍ | 67/80 [00:00<00:00, 85.58it/s]\u001b[A\n",
      "100%|██████████| 80/80 [00:00<00:00, 86.86it/s]\u001b[A\n",
      " 56%|█████▌    | 625/1125 [13:10<12:44,  1.53s/it]"
     ]
    },
    {
     "name": "stdout",
     "output_type": "stream",
     "text": [
      "/home/jiang/projects/SubtleGAN/data/brats2021/train/BraTS2021_01100\n"
     ]
    },
    {
     "name": "stderr",
     "output_type": "stream",
     "text": [
      "\n",
      "  0%|          | 0/80 [00:00<?, ?it/s]\u001b[A\n",
      " 12%|█▎        | 10/80 [00:00<00:00, 95.12it/s]\u001b[A\n",
      " 25%|██▌       | 20/80 [00:00<00:00, 90.41it/s]\u001b[A\n",
      " 38%|███▊      | 30/80 [00:00<00:00, 85.52it/s]\u001b[A\n",
      " 49%|████▉     | 39/80 [00:00<00:00, 87.03it/s]\u001b[A\n",
      " 60%|██████    | 48/80 [00:00<00:00, 85.51it/s]\u001b[A\n",
      " 71%|███████▏  | 57/80 [00:00<00:00, 85.73it/s]\u001b[A\n",
      " 82%|████████▎ | 66/80 [00:00<00:00, 85.63it/s]\u001b[A\n",
      "100%|██████████| 80/80 [00:00<00:00, 85.72it/s]\u001b[A\n",
      " 56%|█████▌    | 626/1125 [13:12<12:37,  1.52s/it]"
     ]
    },
    {
     "name": "stdout",
     "output_type": "stream",
     "text": [
      "/home/jiang/projects/SubtleGAN/data/brats2021/train/BraTS2021_01017\n"
     ]
    },
    {
     "name": "stderr",
     "output_type": "stream",
     "text": [
      "\n",
      "  0%|          | 0/80 [00:00<?, ?it/s]\u001b[A\n",
      " 12%|█▎        | 10/80 [00:00<00:00, 96.96it/s]\u001b[A\n",
      " 25%|██▌       | 20/80 [00:00<00:00, 90.26it/s]\u001b[A\n",
      " 38%|███▊      | 30/80 [00:00<00:00, 88.03it/s]\u001b[A\n",
      " 49%|████▉     | 39/80 [00:00<00:00, 88.26it/s]\u001b[A\n",
      " 60%|██████    | 48/80 [00:00<00:00, 86.07it/s]\u001b[A\n",
      " 71%|███████▏  | 57/80 [00:00<00:00, 86.63it/s]\u001b[A\n",
      " 82%|████████▎ | 66/80 [00:00<00:00, 87.60it/s]\u001b[A\n",
      "100%|██████████| 80/80 [00:00<00:00, 87.79it/s]\u001b[A\n",
      " 56%|█████▌    | 627/1125 [13:13<12:24,  1.49s/it]"
     ]
    },
    {
     "name": "stdout",
     "output_type": "stream",
     "text": [
      "/home/jiang/projects/SubtleGAN/data/brats2021/train/BraTS2021_01660\n"
     ]
    },
    {
     "name": "stderr",
     "output_type": "stream",
     "text": [
      "\n",
      "  0%|          | 0/80 [00:00<?, ?it/s]\u001b[A\n",
      " 12%|█▎        | 10/80 [00:00<00:00, 96.14it/s]\u001b[A\n",
      " 25%|██▌       | 20/80 [00:00<00:00, 89.79it/s]\u001b[A\n",
      " 38%|███▊      | 30/80 [00:00<00:00, 89.15it/s]\u001b[A\n",
      " 49%|████▉     | 39/80 [00:00<00:00, 87.48it/s]\u001b[A\n",
      " 60%|██████    | 48/80 [00:00<00:00, 85.93it/s]\u001b[A\n",
      " 71%|███████▏  | 57/80 [00:00<00:00, 85.94it/s]\u001b[A\n",
      " 82%|████████▎ | 66/80 [00:00<00:00, 86.45it/s]\u001b[A\n",
      "100%|██████████| 80/80 [00:00<00:00, 87.09it/s]\u001b[A\n",
      " 56%|█████▌    | 628/1125 [13:15<12:14,  1.48s/it]"
     ]
    },
    {
     "name": "stdout",
     "output_type": "stream",
     "text": [
      "/home/jiang/projects/SubtleGAN/data/brats2021/train/BraTS2021_00470\n"
     ]
    },
    {
     "name": "stderr",
     "output_type": "stream",
     "text": [
      "\n",
      "  0%|          | 0/80 [00:00<?, ?it/s]\u001b[A\n",
      " 12%|█▎        | 10/80 [00:00<00:00, 95.70it/s]\u001b[A\n",
      " 25%|██▌       | 20/80 [00:00<00:00, 93.15it/s]\u001b[A\n",
      " 38%|███▊      | 30/80 [00:00<00:00, 89.43it/s]\u001b[A\n",
      " 49%|████▉     | 39/80 [00:00<00:00, 88.50it/s]\u001b[A\n",
      " 60%|██████    | 48/80 [00:00<00:00, 86.03it/s]\u001b[A\n",
      " 71%|███████▏  | 57/80 [00:00<00:00, 86.35it/s]\u001b[A\n",
      " 82%|████████▎ | 66/80 [00:00<00:00, 86.45it/s]\u001b[A\n",
      "100%|██████████| 80/80 [00:00<00:00, 87.02it/s]\u001b[A\n",
      " 56%|█████▌    | 629/1125 [13:16<11:57,  1.45s/it]"
     ]
    },
    {
     "name": "stdout",
     "output_type": "stream",
     "text": [
      "/home/jiang/projects/SubtleGAN/data/brats2021/train/BraTS2021_00443\n"
     ]
    },
    {
     "name": "stderr",
     "output_type": "stream",
     "text": [
      "\n",
      "  0%|          | 0/80 [00:00<?, ?it/s]\u001b[A\n",
      " 12%|█▎        | 10/80 [00:00<00:00, 94.72it/s]\u001b[A\n",
      " 25%|██▌       | 20/80 [00:00<00:00, 88.21it/s]\u001b[A\n",
      " 36%|███▋      | 29/80 [00:00<00:00, 85.93it/s]\u001b[A\n",
      " 48%|████▊     | 38/80 [00:00<00:00, 85.42it/s]\u001b[A\n",
      " 59%|█████▉    | 47/80 [00:00<00:00, 84.55it/s]\u001b[A\n",
      " 70%|███████   | 56/80 [00:00<00:00, 84.13it/s]\u001b[A\n",
      " 81%|████████▏ | 65/80 [00:00<00:00, 84.85it/s]\u001b[A\n",
      "100%|██████████| 80/80 [00:00<00:00, 85.18it/s]\u001b[A\n",
      " 56%|█████▌    | 630/1125 [13:18<12:01,  1.46s/it]"
     ]
    },
    {
     "name": "stdout",
     "output_type": "stream",
     "text": [
      "/home/jiang/projects/SubtleGAN/data/brats2021/train/BraTS2021_00661\n"
     ]
    },
    {
     "name": "stderr",
     "output_type": "stream",
     "text": [
      "\n",
      "  0%|          | 0/80 [00:00<?, ?it/s]\u001b[A\n",
      " 12%|█▎        | 10/80 [00:00<00:00, 97.26it/s]\u001b[A\n",
      " 25%|██▌       | 20/80 [00:00<00:00, 90.24it/s]\u001b[A\n",
      " 38%|███▊      | 30/80 [00:00<00:00, 90.35it/s]\u001b[A\n",
      " 50%|█████     | 40/80 [00:00<00:00, 87.15it/s]\u001b[A\n",
      " 61%|██████▏   | 49/80 [00:00<00:00, 86.54it/s]\u001b[A\n",
      " 72%|███████▎  | 58/80 [00:00<00:00, 87.61it/s]\u001b[A\n",
      " 84%|████████▍ | 67/80 [00:00<00:00, 87.60it/s]\u001b[A\n",
      "100%|██████████| 80/80 [00:00<00:00, 88.06it/s]\u001b[A\n",
      " 56%|█████▌    | 631/1125 [13:19<11:45,  1.43s/it]"
     ]
    },
    {
     "name": "stdout",
     "output_type": "stream",
     "text": [
      "/home/jiang/projects/SubtleGAN/data/brats2021/train/BraTS2021_01326\n"
     ]
    },
    {
     "name": "stderr",
     "output_type": "stream",
     "text": [
      "\n",
      "  0%|          | 0/80 [00:00<?, ?it/s]\u001b[A\n",
      " 12%|█▎        | 10/80 [00:00<00:00, 95.51it/s]\u001b[A\n",
      " 25%|██▌       | 20/80 [00:00<00:00, 88.52it/s]\u001b[A\n",
      " 38%|███▊      | 30/80 [00:00<00:00, 89.30it/s]\u001b[A\n",
      " 49%|████▉     | 39/80 [00:00<00:00, 89.21it/s]\u001b[A\n",
      " 61%|██████▏   | 49/80 [00:00<00:00, 90.50it/s]\u001b[A\n",
      " 74%|███████▍  | 59/80 [00:00<00:00, 88.27it/s]\u001b[A\n",
      " 86%|████████▋ | 69/80 [00:00<00:00, 88.61it/s]\u001b[A\n",
      "100%|██████████| 80/80 [00:00<00:00, 88.98it/s]\u001b[A\n",
      " 56%|█████▌    | 632/1125 [13:20<11:44,  1.43s/it]"
     ]
    },
    {
     "name": "stdout",
     "output_type": "stream",
     "text": [
      "/home/jiang/projects/SubtleGAN/data/brats2021/train/BraTS2021_00830\n"
     ]
    },
    {
     "name": "stderr",
     "output_type": "stream",
     "text": [
      "\n",
      "  0%|          | 0/80 [00:00<?, ?it/s]\u001b[A\n",
      " 16%|█▋        | 13/80 [00:00<00:00, 126.85it/s]\u001b[A\n",
      " 32%|███▎      | 26/80 [00:00<00:00, 118.91it/s]\u001b[A\n",
      " 48%|████▊     | 38/80 [00:00<00:00, 112.51it/s]\u001b[A\n",
      " 62%|██████▎   | 50/80 [00:00<00:00, 103.70it/s]\u001b[A\n",
      " 76%|███████▋  | 61/80 [00:00<00:00, 98.27it/s] \u001b[A\n",
      "100%|██████████| 80/80 [00:00<00:00, 100.37it/s][A\n",
      " 56%|█████▋    | 633/1125 [13:22<12:39,  1.54s/it]"
     ]
    },
    {
     "name": "stdout",
     "output_type": "stream",
     "text": [
      "/home/jiang/projects/SubtleGAN/data/brats2021/train/BraTS2021_00216\n"
     ]
    },
    {
     "name": "stderr",
     "output_type": "stream",
     "text": [
      "\n",
      "  0%|          | 0/80 [00:00<?, ?it/s]\u001b[A\n",
      " 12%|█▎        | 10/80 [00:00<00:00, 97.61it/s]\u001b[A\n",
      " 25%|██▌       | 20/80 [00:00<00:00, 92.79it/s]\u001b[A\n",
      " 38%|███▊      | 30/80 [00:00<00:00, 82.22it/s]\u001b[A\n",
      " 50%|█████     | 40/80 [00:00<00:00, 85.34it/s]\u001b[A\n",
      " 61%|██████▏   | 49/80 [00:00<00:00, 86.14it/s]\u001b[A\n",
      " 72%|███████▎  | 58/80 [00:00<00:00, 86.83it/s]\u001b[A\n",
      " 84%|████████▍ | 67/80 [00:00<00:00, 87.19it/s]\u001b[A\n",
      "100%|██████████| 80/80 [00:00<00:00, 86.99it/s]\u001b[A\n",
      " 56%|█████▋    | 634/1125 [13:24<12:24,  1.52s/it]"
     ]
    },
    {
     "name": "stdout",
     "output_type": "stream",
     "text": [
      "/home/jiang/projects/SubtleGAN/data/brats2021/train/BraTS2021_00744\n"
     ]
    },
    {
     "name": "stderr",
     "output_type": "stream",
     "text": [
      "\n",
      "  0%|          | 0/80 [00:00<?, ?it/s]\u001b[A\n",
      " 12%|█▎        | 10/80 [00:00<00:00, 98.15it/s]\u001b[A\n",
      " 25%|██▌       | 20/80 [00:00<00:00, 91.53it/s]\u001b[A\n",
      " 38%|███▊      | 30/80 [00:00<00:00, 91.17it/s]\u001b[A\n",
      " 50%|█████     | 40/80 [00:00<00:00, 90.23it/s]\u001b[A\n",
      " 62%|██████▎   | 50/80 [00:00<00:00, 89.26it/s]\u001b[A\n",
      " 74%|███████▍  | 59/80 [00:00<00:00, 87.42it/s]\u001b[A\n",
      " 85%|████████▌ | 68/80 [00:00<00:00, 84.84it/s]\u001b[A\n",
      "100%|██████████| 80/80 [00:00<00:00, 87.29it/s]\u001b[A\n",
      " 56%|█████▋    | 635/1125 [13:25<12:01,  1.47s/it]"
     ]
    },
    {
     "name": "stdout",
     "output_type": "stream",
     "text": [
      "/home/jiang/projects/SubtleGAN/data/brats2021/train/BraTS2021_00517\n"
     ]
    },
    {
     "name": "stderr",
     "output_type": "stream",
     "text": [
      "\n",
      "  0%|          | 0/80 [00:00<?, ?it/s]\u001b[A\n",
      " 12%|█▎        | 10/80 [00:00<00:00, 97.40it/s]\u001b[A\n",
      " 25%|██▌       | 20/80 [00:00<00:00, 91.90it/s]\u001b[A\n",
      " 38%|███▊      | 30/80 [00:00<00:00, 90.97it/s]\u001b[A\n",
      " 50%|█████     | 40/80 [00:00<00:00, 92.18it/s]\u001b[A\n",
      " 62%|██████▎   | 50/80 [00:00<00:00, 89.81it/s]\u001b[A\n",
      " 74%|███████▍  | 59/80 [00:00<00:00, 88.74it/s]\u001b[A\n",
      " 85%|████████▌ | 68/80 [00:00<00:00, 88.85it/s]\u001b[A\n",
      "100%|██████████| 80/80 [00:00<00:00, 89.18it/s]\u001b[A\n",
      " 57%|█████▋    | 636/1125 [13:26<11:42,  1.44s/it]"
     ]
    },
    {
     "name": "stdout",
     "output_type": "stream",
     "text": [
      "/home/jiang/projects/SubtleGAN/data/brats2021/train/BraTS2021_00312\n"
     ]
    },
    {
     "name": "stderr",
     "output_type": "stream",
     "text": [
      "\n",
      "  0%|          | 0/80 [00:00<?, ?it/s]\u001b[A\n",
      " 12%|█▎        | 10/80 [00:00<00:00, 95.86it/s]\u001b[A\n",
      " 25%|██▌       | 20/80 [00:00<00:00, 89.83it/s]\u001b[A\n",
      " 38%|███▊      | 30/80 [00:00<00:00, 87.49it/s]\u001b[A\n",
      " 49%|████▉     | 39/80 [00:00<00:00, 85.53it/s]\u001b[A\n",
      " 60%|██████    | 48/80 [00:00<00:00, 86.53it/s]\u001b[A\n",
      " 71%|███████▏  | 57/80 [00:00<00:00, 86.05it/s]\u001b[A\n",
      " 82%|████████▎ | 66/80 [00:00<00:00, 84.44it/s]\u001b[A\n",
      "100%|██████████| 80/80 [00:00<00:00, 84.93it/s]\u001b[A\n",
      " 57%|█████▋    | 637/1125 [13:28<11:47,  1.45s/it]"
     ]
    },
    {
     "name": "stdout",
     "output_type": "stream",
     "text": [
      "/home/jiang/projects/SubtleGAN/data/brats2021/train/BraTS2021_00576\n"
     ]
    },
    {
     "name": "stderr",
     "output_type": "stream",
     "text": [
      "\n",
      "  0%|          | 0/80 [00:00<?, ?it/s]\u001b[A\n",
      " 15%|█▌        | 12/80 [00:00<00:00, 117.66it/s]\u001b[A\n",
      " 30%|███       | 24/80 [00:00<00:00, 118.77it/s]\u001b[A\n",
      " 45%|████▌     | 36/80 [00:00<00:00, 102.46it/s]\u001b[A\n",
      " 59%|█████▉    | 47/80 [00:00<00:00, 97.03it/s] \u001b[A\n",
      " 71%|███████▏  | 57/80 [00:00<00:00, 93.98it/s]\u001b[A\n",
      " 84%|████████▍ | 67/80 [00:00<00:00, 92.81it/s]\u001b[A\n",
      "100%|██████████| 80/80 [00:00<00:00, 94.66it/s]\u001b[A\n",
      " 57%|█████▋    | 638/1125 [13:30<13:03,  1.61s/it]"
     ]
    },
    {
     "name": "stdout",
     "output_type": "stream",
     "text": [
      "/home/jiang/projects/SubtleGAN/data/brats2021/train/BraTS2021_00679\n"
     ]
    },
    {
     "name": "stderr",
     "output_type": "stream",
     "text": [
      "\n",
      "  0%|          | 0/80 [00:00<?, ?it/s]\u001b[A\n",
      " 12%|█▎        | 10/80 [00:00<00:00, 91.05it/s]\u001b[A\n",
      " 25%|██▌       | 20/80 [00:00<00:00, 89.60it/s]\u001b[A\n",
      " 36%|███▋      | 29/80 [00:00<00:00, 88.01it/s]\u001b[A\n",
      " 48%|████▊     | 38/80 [00:00<00:00, 87.95it/s]\u001b[A\n",
      " 60%|██████    | 48/80 [00:00<00:00, 89.02it/s]\u001b[A\n",
      " 71%|███████▏  | 57/80 [00:00<00:00, 88.19it/s]\u001b[A\n",
      " 82%|████████▎ | 66/80 [00:00<00:00, 87.57it/s]\u001b[A\n",
      "100%|██████████| 80/80 [00:00<00:00, 88.14it/s]\u001b[A\n",
      " 57%|█████▋    | 639/1125 [13:31<12:26,  1.54s/it]"
     ]
    },
    {
     "name": "stdout",
     "output_type": "stream",
     "text": [
      "/home/jiang/projects/SubtleGAN/data/brats2021/train/BraTS2021_01133\n"
     ]
    },
    {
     "name": "stderr",
     "output_type": "stream",
     "text": [
      "\n",
      "  0%|          | 0/80 [00:00<?, ?it/s]\u001b[A\n",
      " 12%|█▎        | 10/80 [00:00<00:00, 98.07it/s]\u001b[A\n",
      " 25%|██▌       | 20/80 [00:00<00:00, 91.42it/s]\u001b[A\n",
      " 38%|███▊      | 30/80 [00:00<00:00, 89.04it/s]\u001b[A\n",
      " 49%|████▉     | 39/80 [00:00<00:00, 88.54it/s]\u001b[A\n",
      " 60%|██████    | 48/80 [00:00<00:00, 87.10it/s]\u001b[A\n",
      " 71%|███████▏  | 57/80 [00:00<00:00, 86.92it/s]\u001b[A\n",
      " 82%|████████▎ | 66/80 [00:00<00:00, 86.66it/s]\u001b[A\n",
      "100%|██████████| 80/80 [00:00<00:00, 86.81it/s]\u001b[A\n",
      " 57%|█████▋    | 640/1125 [13:33<12:13,  1.51s/it]"
     ]
    },
    {
     "name": "stdout",
     "output_type": "stream",
     "text": [
      "/home/jiang/projects/SubtleGAN/data/brats2021/train/BraTS2021_00271\n"
     ]
    },
    {
     "name": "stderr",
     "output_type": "stream",
     "text": [
      "\n",
      "  0%|          | 0/80 [00:00<?, ?it/s]\u001b[A\n",
      " 12%|█▎        | 10/80 [00:00<00:00, 99.92it/s]\u001b[A\n",
      " 25%|██▌       | 20/80 [00:00<00:00, 93.73it/s]\u001b[A\n",
      " 38%|███▊      | 30/80 [00:00<00:00, 90.24it/s]\u001b[A\n",
      " 50%|█████     | 40/80 [00:00<00:00, 86.61it/s]\u001b[A\n",
      " 61%|██████▏   | 49/80 [00:00<00:00, 85.95it/s]\u001b[A\n",
      " 72%|███████▎  | 58/80 [00:00<00:00, 85.15it/s]\u001b[A\n",
      " 84%|████████▍ | 67/80 [00:00<00:00, 85.67it/s]\u001b[A\n",
      "100%|██████████| 80/80 [00:00<00:00, 86.42it/s]\u001b[A\n",
      " 57%|█████▋    | 641/1125 [13:34<12:05,  1.50s/it]"
     ]
    },
    {
     "name": "stdout",
     "output_type": "stream",
     "text": [
      "/home/jiang/projects/SubtleGAN/data/brats2021/train/BraTS2021_01178\n"
     ]
    },
    {
     "name": "stderr",
     "output_type": "stream",
     "text": [
      "\n",
      "  0%|          | 0/80 [00:00<?, ?it/s]\u001b[A\n",
      " 12%|█▎        | 10/80 [00:00<00:00, 94.50it/s]\u001b[A\n",
      " 25%|██▌       | 20/80 [00:00<00:00, 92.11it/s]\u001b[A\n",
      " 38%|███▊      | 30/80 [00:00<00:00, 90.12it/s]\u001b[A\n",
      " 50%|█████     | 40/80 [00:00<00:00, 88.76it/s]\u001b[A\n",
      " 62%|██████▎   | 50/80 [00:00<00:00, 89.19it/s]\u001b[A\n",
      " 75%|███████▌  | 60/80 [00:00<00:00, 90.15it/s]\u001b[A\n",
      " 88%|████████▊ | 70/80 [00:00<00:00, 88.26it/s]\u001b[A\n",
      "100%|██████████| 80/80 [00:00<00:00, 88.56it/s]\u001b[A\n",
      " 57%|█████▋    | 642/1125 [13:36<11:55,  1.48s/it]"
     ]
    },
    {
     "name": "stdout",
     "output_type": "stream",
     "text": [
      "/home/jiang/projects/SubtleGAN/data/brats2021/train/BraTS2021_00616\n"
     ]
    },
    {
     "name": "stderr",
     "output_type": "stream",
     "text": [
      "\n",
      "  0%|          | 0/80 [00:00<?, ?it/s]\u001b[A\n",
      " 12%|█▎        | 10/80 [00:00<00:00, 94.91it/s]\u001b[A\n",
      " 25%|██▌       | 20/80 [00:00<00:00, 89.10it/s]\u001b[A\n",
      " 36%|███▋      | 29/80 [00:00<00:00, 84.85it/s]\u001b[A\n",
      " 49%|████▉     | 39/80 [00:00<00:00, 86.76it/s]\u001b[A\n",
      " 60%|██████    | 48/80 [00:00<00:00, 85.86it/s]\u001b[A\n",
      " 71%|███████▏  | 57/80 [00:00<00:00, 84.42it/s]\u001b[A\n",
      " 82%|████████▎ | 66/80 [00:00<00:00, 83.55it/s]\u001b[A\n",
      "100%|██████████| 80/80 [00:00<00:00, 85.29it/s]\u001b[A\n",
      " 57%|█████▋    | 643/1125 [13:37<11:40,  1.45s/it]"
     ]
    },
    {
     "name": "stdout",
     "output_type": "stream",
     "text": [
      "/home/jiang/projects/SubtleGAN/data/brats2021/train/BraTS2021_00538\n"
     ]
    },
    {
     "name": "stderr",
     "output_type": "stream",
     "text": [
      "\n",
      "  0%|          | 0/80 [00:00<?, ?it/s]\u001b[A\n",
      " 12%|█▎        | 10/80 [00:00<00:00, 96.32it/s]\u001b[A\n",
      " 25%|██▌       | 20/80 [00:00<00:00, 88.55it/s]\u001b[A\n",
      " 36%|███▋      | 29/80 [00:00<00:00, 85.47it/s]\u001b[A\n",
      " 48%|████▊     | 38/80 [00:00<00:00, 86.09it/s]\u001b[A\n",
      " 59%|█████▉    | 47/80 [00:00<00:00, 85.40it/s]\u001b[A\n",
      " 70%|███████   | 56/80 [00:00<00:00, 84.12it/s]\u001b[A\n",
      " 81%|████████▏ | 65/80 [00:00<00:00, 84.22it/s]\u001b[A\n",
      "100%|██████████| 80/80 [00:00<00:00, 84.84it/s]\u001b[A\n",
      " 57%|█████▋    | 644/1125 [13:38<11:29,  1.43s/it]"
     ]
    },
    {
     "name": "stdout",
     "output_type": "stream",
     "text": [
      "/home/jiang/projects/SubtleGAN/data/brats2021/train/BraTS2021_00021\n"
     ]
    },
    {
     "name": "stderr",
     "output_type": "stream",
     "text": [
      "\n",
      "  0%|          | 0/80 [00:00<?, ?it/s]\u001b[A\n",
      " 12%|█▎        | 10/80 [00:00<00:00, 92.84it/s]\u001b[A\n",
      " 28%|██▊       | 22/80 [00:00<00:00, 105.56it/s]\u001b[A\n",
      " 44%|████▍     | 35/80 [00:00<00:00, 113.17it/s]\u001b[A\n",
      " 59%|█████▉    | 47/80 [00:00<00:00, 112.70it/s]\u001b[A\n",
      " 74%|███████▍  | 59/80 [00:00<00:00, 115.19it/s]\u001b[A\n",
      "100%|██████████| 80/80 [00:00<00:00, 112.42it/s]\u001b[A\n",
      " 57%|█████▋    | 645/1125 [13:40<10:48,  1.35s/it]"
     ]
    },
    {
     "name": "stdout",
     "output_type": "stream",
     "text": [
      "/home/jiang/projects/SubtleGAN/data/brats2021/train/BraTS2021_00320\n"
     ]
    },
    {
     "name": "stderr",
     "output_type": "stream",
     "text": [
      "\n",
      "  0%|          | 0/80 [00:00<?, ?it/s]\u001b[A\n",
      " 16%|█▋        | 13/80 [00:00<00:00, 123.56it/s]\u001b[A\n",
      " 32%|███▎      | 26/80 [00:00<00:00, 122.97it/s]\u001b[A\n",
      " 49%|████▉     | 39/80 [00:00<00:00, 123.69it/s]\u001b[A\n",
      " 65%|██████▌   | 52/80 [00:00<00:00, 123.02it/s]\u001b[A\n",
      " 81%|████████▏ | 65/80 [00:00<00:00, 123.21it/s]\u001b[A\n",
      "100%|██████████| 80/80 [00:00<00:00, 121.92it/s]\u001b[A\n",
      " 57%|█████▋    | 646/1125 [13:41<10:23,  1.30s/it]"
     ]
    },
    {
     "name": "stdout",
     "output_type": "stream",
     "text": [
      "/home/jiang/projects/SubtleGAN/data/brats2021/train/BraTS2021_00548\n"
     ]
    },
    {
     "name": "stderr",
     "output_type": "stream",
     "text": [
      "\n",
      "  0%|          | 0/80 [00:00<?, ?it/s]\u001b[A\n",
      " 15%|█▌        | 12/80 [00:00<00:00, 119.74it/s]\u001b[A\n",
      " 30%|███       | 24/80 [00:00<00:00, 119.09it/s]\u001b[A\n",
      " 45%|████▌     | 36/80 [00:00<00:00, 115.84it/s]\u001b[A\n",
      " 60%|██████    | 48/80 [00:00<00:00, 114.64it/s]\u001b[A\n",
      " 75%|███████▌  | 60/80 [00:00<00:00, 115.80it/s]\u001b[A\n",
      "100%|██████████| 80/80 [00:00<00:00, 116.35it/s]\u001b[A\n",
      " 58%|█████▊    | 647/1125 [13:42<09:56,  1.25s/it]"
     ]
    },
    {
     "name": "stdout",
     "output_type": "stream",
     "text": [
      "/home/jiang/projects/SubtleGAN/data/brats2021/train/BraTS2021_01011\n"
     ]
    },
    {
     "name": "stderr",
     "output_type": "stream",
     "text": [
      "\n",
      "  0%|          | 0/80 [00:00<?, ?it/s]\u001b[A\n",
      " 16%|█▋        | 13/80 [00:00<00:00, 129.46it/s]\u001b[A\n",
      " 32%|███▎      | 26/80 [00:00<00:00, 125.12it/s]\u001b[A\n",
      " 49%|████▉     | 39/80 [00:00<00:00, 121.66it/s]\u001b[A\n",
      " 65%|██████▌   | 52/80 [00:00<00:00, 121.18it/s]\u001b[A\n",
      " 81%|████████▏ | 65/80 [00:00<00:00, 119.61it/s]\u001b[A\n",
      "100%|██████████| 80/80 [00:00<00:00, 120.52it/s]\u001b[A\n",
      " 58%|█████▊    | 648/1125 [13:43<09:54,  1.25s/it]"
     ]
    },
    {
     "name": "stdout",
     "output_type": "stream",
     "text": [
      "/home/jiang/projects/SubtleGAN/data/brats2021/train/BraTS2021_01162\n"
     ]
    },
    {
     "name": "stderr",
     "output_type": "stream",
     "text": [
      "\n",
      "  0%|          | 0/80 [00:00<?, ?it/s]\u001b[A\n",
      " 15%|█▌        | 12/80 [00:00<00:00, 117.65it/s]\u001b[A\n",
      " 30%|███       | 24/80 [00:00<00:00, 117.06it/s]\u001b[A\n",
      " 45%|████▌     | 36/80 [00:00<00:00, 117.35it/s]\u001b[A\n",
      " 60%|██████    | 48/80 [00:00<00:00, 117.47it/s]\u001b[A\n",
      " 75%|███████▌  | 60/80 [00:00<00:00, 115.13it/s]\u001b[A\n",
      "100%|██████████| 80/80 [00:00<00:00, 115.39it/s]\u001b[A\n",
      " 58%|█████▊    | 649/1125 [13:45<11:05,  1.40s/it]"
     ]
    },
    {
     "name": "stdout",
     "output_type": "stream",
     "text": [
      "/home/jiang/projects/SubtleGAN/data/brats2021/train/BraTS2021_01564\n"
     ]
    },
    {
     "name": "stderr",
     "output_type": "stream",
     "text": [
      "\n",
      "  0%|          | 0/80 [00:00<?, ?it/s]\u001b[A\n",
      " 16%|█▋        | 13/80 [00:00<00:00, 128.63it/s]\u001b[A\n",
      " 32%|███▎      | 26/80 [00:00<00:00, 124.99it/s]\u001b[A\n",
      " 49%|████▉     | 39/80 [00:00<00:00, 124.99it/s]\u001b[A\n",
      " 65%|██████▌   | 52/80 [00:00<00:00, 121.64it/s]\u001b[A\n",
      " 81%|████████▏ | 65/80 [00:00<00:00, 122.44it/s]\u001b[A\n",
      "100%|██████████| 80/80 [00:00<00:00, 121.86it/s]\u001b[A\n",
      " 58%|█████▊    | 650/1125 [13:46<11:35,  1.47s/it]"
     ]
    },
    {
     "name": "stdout",
     "output_type": "stream",
     "text": [
      "/home/jiang/projects/SubtleGAN/data/brats2021/train/BraTS2021_01154\n"
     ]
    },
    {
     "name": "stderr",
     "output_type": "stream",
     "text": [
      "\n",
      "  0%|          | 0/80 [00:00<?, ?it/s]\u001b[A\n",
      " 16%|█▋        | 13/80 [00:00<00:00, 123.75it/s]\u001b[A\n",
      " 32%|███▎      | 26/80 [00:00<00:00, 122.12it/s]\u001b[A\n",
      " 49%|████▉     | 39/80 [00:00<00:00, 120.31it/s]\u001b[A\n",
      " 65%|██████▌   | 52/80 [00:00<00:00, 119.35it/s]\u001b[A\n",
      " 80%|████████  | 64/80 [00:00<00:00, 118.02it/s]\u001b[A\n",
      "100%|██████████| 80/80 [00:00<00:00, 119.49it/s]\u001b[A\n",
      " 58%|█████▊    | 651/1125 [13:48<10:48,  1.37s/it]"
     ]
    },
    {
     "name": "stdout",
     "output_type": "stream",
     "text": [
      "/home/jiang/projects/SubtleGAN/data/brats2021/train/BraTS2021_00046\n"
     ]
    },
    {
     "name": "stderr",
     "output_type": "stream",
     "text": [
      "\n",
      "  0%|          | 0/80 [00:00<?, ?it/s]\u001b[A\n",
      " 15%|█▌        | 12/80 [00:00<00:00, 119.18it/s]\u001b[A\n",
      " 31%|███▏      | 25/80 [00:00<00:00, 120.17it/s]\u001b[A\n",
      " 48%|████▊     | 38/80 [00:00<00:00, 120.91it/s]\u001b[A\n",
      " 64%|██████▍   | 51/80 [00:00<00:00, 120.34it/s]\u001b[A\n",
      " 80%|████████  | 64/80 [00:00<00:00, 120.39it/s]\u001b[A\n",
      "100%|██████████| 80/80 [00:00<00:00, 119.31it/s]\u001b[A\n",
      " 58%|█████▊    | 652/1125 [13:49<10:20,  1.31s/it]"
     ]
    },
    {
     "name": "stdout",
     "output_type": "stream",
     "text": [
      "/home/jiang/projects/SubtleGAN/data/brats2021/train/BraTS2021_01113\n"
     ]
    },
    {
     "name": "stderr",
     "output_type": "stream",
     "text": [
      "\n",
      "  0%|          | 0/80 [00:00<?, ?it/s]\u001b[A\n",
      " 16%|█▋        | 13/80 [00:00<00:00, 123.80it/s]\u001b[A\n",
      " 32%|███▎      | 26/80 [00:00<00:00, 119.73it/s]\u001b[A\n",
      " 49%|████▉     | 39/80 [00:00<00:00, 121.40it/s]\u001b[A\n",
      " 65%|██████▌   | 52/80 [00:00<00:00, 120.88it/s]\u001b[A\n",
      " 81%|████████▏ | 65/80 [00:00<00:00, 120.09it/s]\u001b[A\n",
      "100%|██████████| 80/80 [00:00<00:00, 118.95it/s]\u001b[A\n",
      " 58%|█████▊    | 653/1125 [13:50<10:15,  1.30s/it]"
     ]
    },
    {
     "name": "stdout",
     "output_type": "stream",
     "text": [
      "/home/jiang/projects/SubtleGAN/data/brats2021/train/BraTS2021_00554\n"
     ]
    },
    {
     "name": "stderr",
     "output_type": "stream",
     "text": [
      "\n",
      "  0%|          | 0/80 [00:00<?, ?it/s]\u001b[A\n",
      " 15%|█▌        | 12/80 [00:00<00:00, 115.95it/s]\u001b[A\n",
      " 31%|███▏      | 25/80 [00:00<00:00, 119.66it/s]\u001b[A\n",
      " 46%|████▋     | 37/80 [00:00<00:00, 118.42it/s]\u001b[A\n",
      " 61%|██████▏   | 49/80 [00:00<00:00, 117.33it/s]\u001b[A\n",
      " 76%|███████▋  | 61/80 [00:00<00:00, 118.26it/s]\u001b[A\n",
      "100%|██████████| 80/80 [00:00<00:00, 118.82it/s]\u001b[A\n",
      " 58%|█████▊    | 654/1125 [13:51<10:00,  1.27s/it]"
     ]
    },
    {
     "name": "stdout",
     "output_type": "stream",
     "text": [
      "/home/jiang/projects/SubtleGAN/data/brats2021/train/BraTS2021_01473\n"
     ]
    },
    {
     "name": "stderr",
     "output_type": "stream",
     "text": [
      "\n",
      "  0%|          | 0/80 [00:00<?, ?it/s]\u001b[A\n",
      " 16%|█▋        | 13/80 [00:00<00:00, 127.13it/s]\u001b[A\n",
      " 32%|███▎      | 26/80 [00:00<00:00, 123.48it/s]\u001b[A\n",
      " 49%|████▉     | 39/80 [00:00<00:00, 125.58it/s]\u001b[A\n",
      " 65%|██████▌   | 52/80 [00:00<00:00, 123.87it/s]\u001b[A\n",
      " 81%|████████▏ | 65/80 [00:00<00:00, 120.29it/s]\u001b[A\n",
      "100%|██████████| 80/80 [00:00<00:00, 120.95it/s]\u001b[A\n",
      " 58%|█████▊    | 655/1125 [13:53<09:57,  1.27s/it]"
     ]
    },
    {
     "name": "stdout",
     "output_type": "stream",
     "text": [
      "/home/jiang/projects/SubtleGAN/data/brats2021/train/BraTS2021_01235\n"
     ]
    },
    {
     "name": "stderr",
     "output_type": "stream",
     "text": [
      "\n",
      "  0%|          | 0/80 [00:00<?, ?it/s]\u001b[A\n",
      " 16%|█▋        | 13/80 [00:00<00:00, 122.85it/s]\u001b[A\n",
      " 32%|███▎      | 26/80 [00:00<00:00, 122.96it/s]\u001b[A\n",
      " 49%|████▉     | 39/80 [00:00<00:00, 120.67it/s]\u001b[A\n",
      " 65%|██████▌   | 52/80 [00:00<00:00, 122.78it/s]\u001b[A\n",
      " 81%|████████▏ | 65/80 [00:00<00:00, 123.07it/s]\u001b[A\n",
      "100%|██████████| 80/80 [00:00<00:00, 122.25it/s]\u001b[A\n",
      " 58%|█████▊    | 656/1125 [13:54<09:53,  1.27s/it]"
     ]
    },
    {
     "name": "stdout",
     "output_type": "stream",
     "text": [
      "/home/jiang/projects/SubtleGAN/data/brats2021/train/BraTS2021_00774\n"
     ]
    },
    {
     "name": "stderr",
     "output_type": "stream",
     "text": [
      "\n",
      "  0%|          | 0/80 [00:00<?, ?it/s]\u001b[A\n",
      " 16%|█▋        | 13/80 [00:00<00:00, 125.37it/s]\u001b[A\n",
      " 32%|███▎      | 26/80 [00:00<00:00, 121.31it/s]\u001b[A\n",
      " 49%|████▉     | 39/80 [00:00<00:00, 122.24it/s]\u001b[A\n",
      " 65%|██████▌   | 52/80 [00:00<00:00, 122.71it/s]\u001b[A\n",
      " 81%|████████▏ | 65/80 [00:00<00:00, 122.39it/s]\u001b[A\n",
      "100%|██████████| 80/80 [00:00<00:00, 121.56it/s]\u001b[A\n",
      " 58%|█████▊    | 657/1125 [13:55<09:41,  1.24s/it]"
     ]
    },
    {
     "name": "stdout",
     "output_type": "stream",
     "text": [
      "/home/jiang/projects/SubtleGAN/data/brats2021/train/BraTS2021_01058\n"
     ]
    },
    {
     "name": "stderr",
     "output_type": "stream",
     "text": [
      "\n",
      "  0%|          | 0/80 [00:00<?, ?it/s]\u001b[A\n",
      "  6%|▋         | 5/80 [00:00<00:01, 42.90it/s]\u001b[A\n",
      " 15%|█▌        | 12/80 [00:00<00:01, 56.41it/s]\u001b[A\n",
      " 31%|███▏      | 25/80 [00:00<00:00, 86.04it/s]\u001b[A\n",
      " 46%|████▋     | 37/80 [00:00<00:00, 98.06it/s]\u001b[A\n",
      " 62%|██████▎   | 50/80 [00:00<00:00, 107.15it/s]\u001b[A\n",
      " 79%|███████▉  | 63/80 [00:00<00:00, 111.52it/s]\u001b[A\n",
      "100%|██████████| 80/80 [00:00<00:00, 101.64it/s]\u001b[A\n",
      " 58%|█████▊    | 658/1125 [13:56<10:03,  1.29s/it]"
     ]
    },
    {
     "name": "stdout",
     "output_type": "stream",
     "text": [
      "/home/jiang/projects/SubtleGAN/data/brats2021/train/BraTS2021_01067\n"
     ]
    },
    {
     "name": "stderr",
     "output_type": "stream",
     "text": [
      "\n",
      "  0%|          | 0/80 [00:00<?, ?it/s]\u001b[A\n",
      " 16%|█▋        | 13/80 [00:00<00:00, 121.37it/s]\u001b[A\n",
      " 32%|███▎      | 26/80 [00:00<00:00, 122.00it/s]\u001b[A\n",
      " 49%|████▉     | 39/80 [00:00<00:00, 120.23it/s]\u001b[A\n",
      " 65%|██████▌   | 52/80 [00:00<00:00, 120.37it/s]\u001b[A\n",
      " 81%|████████▏ | 65/80 [00:00<00:00, 118.92it/s]\u001b[A\n",
      "100%|██████████| 80/80 [00:00<00:00, 119.58it/s]\u001b[A\n",
      " 59%|█████▊    | 659/1125 [13:58<10:01,  1.29s/it]"
     ]
    },
    {
     "name": "stdout",
     "output_type": "stream",
     "text": [
      "/home/jiang/projects/SubtleGAN/data/brats2021/train/BraTS2021_00316\n"
     ]
    },
    {
     "name": "stderr",
     "output_type": "stream",
     "text": [
      "\n",
      "  0%|          | 0/80 [00:00<?, ?it/s]\u001b[A\n",
      " 16%|█▋        | 13/80 [00:00<00:00, 121.29it/s]\u001b[A\n",
      " 32%|███▎      | 26/80 [00:00<00:00, 122.16it/s]\u001b[A\n",
      " 49%|████▉     | 39/80 [00:00<00:00, 119.71it/s]\u001b[A\n",
      " 64%|██████▍   | 51/80 [00:00<00:00, 118.15it/s]\u001b[A\n",
      " 80%|████████  | 64/80 [00:00<00:00, 121.52it/s]\u001b[A\n",
      "100%|██████████| 80/80 [00:00<00:00, 120.67it/s]\u001b[A\n",
      " 59%|█████▊    | 660/1125 [13:59<10:00,  1.29s/it]"
     ]
    },
    {
     "name": "stdout",
     "output_type": "stream",
     "text": [
      "/home/jiang/projects/SubtleGAN/data/brats2021/train/BraTS2021_01460\n"
     ]
    },
    {
     "name": "stderr",
     "output_type": "stream",
     "text": [
      "\n",
      "  0%|          | 0/80 [00:00<?, ?it/s]\u001b[A\n",
      " 16%|█▋        | 13/80 [00:00<00:00, 123.69it/s]\u001b[A\n",
      " 32%|███▎      | 26/80 [00:00<00:00, 78.61it/s] \u001b[A\n",
      " 44%|████▍     | 35/80 [00:00<00:00, 73.05it/s]\u001b[A\n",
      " 59%|█████▉    | 47/80 [00:00<00:00, 86.50it/s]\u001b[A\n",
      " 74%|███████▍  | 59/80 [00:00<00:00, 94.54it/s]\u001b[A\n",
      "100%|██████████| 80/80 [00:00<00:00, 95.71it/s] \u001b[A\n",
      " 59%|█████▉    | 661/1125 [14:00<10:21,  1.34s/it]"
     ]
    },
    {
     "name": "stdout",
     "output_type": "stream",
     "text": [
      "/home/jiang/projects/SubtleGAN/data/brats2021/train/BraTS2021_00569\n"
     ]
    },
    {
     "name": "stderr",
     "output_type": "stream",
     "text": [
      "\n",
      "  0%|          | 0/80 [00:00<?, ?it/s]\u001b[A\n",
      " 16%|█▋        | 13/80 [00:00<00:00, 121.40it/s]\u001b[A\n",
      " 32%|███▎      | 26/80 [00:00<00:00, 118.72it/s]\u001b[A\n",
      " 48%|████▊     | 38/80 [00:00<00:00, 116.29it/s]\u001b[A\n",
      " 62%|██████▎   | 50/80 [00:00<00:00, 116.64it/s]\u001b[A\n",
      " 78%|███████▊  | 62/80 [00:00<00:00, 117.23it/s]\u001b[A\n",
      "100%|██████████| 80/80 [00:00<00:00, 116.31it/s]\u001b[A\n",
      " 59%|█████▉    | 662/1125 [14:02<11:14,  1.46s/it]"
     ]
    },
    {
     "name": "stdout",
     "output_type": "stream",
     "text": [
      "/home/jiang/projects/SubtleGAN/data/brats2021/train/BraTS2021_00227\n"
     ]
    },
    {
     "name": "stderr",
     "output_type": "stream",
     "text": [
      "\n",
      "  0%|          | 0/80 [00:00<?, ?it/s]\u001b[A\n",
      " 16%|█▋        | 13/80 [00:00<00:00, 118.94it/s]\u001b[A\n",
      " 32%|███▎      | 26/80 [00:00<00:00, 122.40it/s]\u001b[A\n",
      " 49%|████▉     | 39/80 [00:00<00:00, 121.51it/s]\u001b[A\n",
      " 65%|██████▌   | 52/80 [00:00<00:00, 122.57it/s]\u001b[A\n",
      " 81%|████████▏ | 65/80 [00:00<00:00, 121.81it/s]\u001b[A\n",
      "100%|██████████| 80/80 [00:00<00:00, 121.73it/s]\u001b[A\n",
      " 59%|█████▉    | 663/1125 [14:03<10:43,  1.39s/it]"
     ]
    },
    {
     "name": "stdout",
     "output_type": "stream",
     "text": [
      "/home/jiang/projects/SubtleGAN/data/brats2021/train/BraTS2021_01212\n"
     ]
    },
    {
     "name": "stderr",
     "output_type": "stream",
     "text": [
      "\n",
      "  0%|          | 0/80 [00:00<?, ?it/s]\u001b[A\n",
      " 16%|█▋        | 13/80 [00:00<00:00, 122.66it/s]\u001b[A\n",
      " 32%|███▎      | 26/80 [00:00<00:00, 125.74it/s]\u001b[A\n",
      " 49%|████▉     | 39/80 [00:00<00:00, 125.50it/s]\u001b[A\n",
      " 65%|██████▌   | 52/80 [00:00<00:00, 123.99it/s]\u001b[A\n",
      " 81%|████████▏ | 65/80 [00:00<00:00, 124.25it/s]\u001b[A\n",
      "100%|██████████| 80/80 [00:00<00:00, 123.25it/s]\u001b[A\n",
      " 59%|█████▉    | 664/1125 [14:05<10:31,  1.37s/it]"
     ]
    },
    {
     "name": "stdout",
     "output_type": "stream",
     "text": [
      "/home/jiang/projects/SubtleGAN/data/brats2021/train/BraTS2021_01079\n"
     ]
    },
    {
     "name": "stderr",
     "output_type": "stream",
     "text": [
      "\n",
      "  0%|          | 0/80 [00:00<?, ?it/s]\u001b[A\n",
      " 16%|█▋        | 13/80 [00:00<00:00, 124.99it/s]\u001b[A\n",
      " 34%|███▍      | 27/80 [00:00<00:00, 126.87it/s]\u001b[A\n",
      " 50%|█████     | 40/80 [00:00<00:00, 126.07it/s]\u001b[A\n",
      " 66%|██████▋   | 53/80 [00:00<00:00, 123.99it/s]\u001b[A\n",
      " 82%|████████▎ | 66/80 [00:00<00:00, 122.88it/s]\u001b[A\n",
      "100%|██████████| 80/80 [00:00<00:00, 122.85it/s]\u001b[A\n",
      " 59%|█████▉    | 665/1125 [14:06<10:16,  1.34s/it]"
     ]
    },
    {
     "name": "stdout",
     "output_type": "stream",
     "text": [
      "/home/jiang/projects/SubtleGAN/data/brats2021/train/BraTS2021_01626\n"
     ]
    },
    {
     "name": "stderr",
     "output_type": "stream",
     "text": [
      "\n",
      "  0%|          | 0/80 [00:00<?, ?it/s]\u001b[A\n",
      " 16%|█▋        | 13/80 [00:00<00:00, 123.95it/s]\u001b[A\n",
      " 32%|███▎      | 26/80 [00:00<00:00, 124.29it/s]\u001b[A\n",
      " 49%|████▉     | 39/80 [00:00<00:00, 121.11it/s]\u001b[A\n",
      " 65%|██████▌   | 52/80 [00:00<00:00, 122.64it/s]\u001b[A\n",
      " 81%|████████▏ | 65/80 [00:00<00:00, 123.84it/s]\u001b[A\n",
      "100%|██████████| 80/80 [00:00<00:00, 122.79it/s]\u001b[A\n",
      " 59%|█████▉    | 666/1125 [14:08<11:03,  1.45s/it]"
     ]
    },
    {
     "name": "stdout",
     "output_type": "stream",
     "text": [
      "/home/jiang/projects/SubtleGAN/data/brats2021/train/BraTS2021_01109\n"
     ]
    },
    {
     "name": "stderr",
     "output_type": "stream",
     "text": [
      "\n",
      "  0%|          | 0/80 [00:00<?, ?it/s]\u001b[A\n",
      " 16%|█▋        | 13/80 [00:00<00:00, 123.75it/s]\u001b[A\n",
      " 32%|███▎      | 26/80 [00:00<00:00, 122.17it/s]\u001b[A\n",
      " 49%|████▉     | 39/80 [00:00<00:00, 120.56it/s]\u001b[A\n",
      " 65%|██████▌   | 52/80 [00:00<00:00, 122.62it/s]\u001b[A\n",
      " 81%|████████▏ | 65/80 [00:00<00:00, 120.80it/s]\u001b[A\n",
      "100%|██████████| 80/80 [00:00<00:00, 121.40it/s]\u001b[A\n",
      " 59%|█████▉    | 667/1125 [14:09<10:31,  1.38s/it]"
     ]
    },
    {
     "name": "stdout",
     "output_type": "stream",
     "text": [
      "/home/jiang/projects/SubtleGAN/data/brats2021/train/BraTS2021_01387\n"
     ]
    },
    {
     "name": "stderr",
     "output_type": "stream",
     "text": [
      "\n",
      "  0%|          | 0/80 [00:00<?, ?it/s]\u001b[A\n",
      " 15%|█▌        | 12/80 [00:00<00:00, 119.40it/s]\u001b[A\n",
      " 30%|███       | 24/80 [00:00<00:00, 117.60it/s]\u001b[A\n",
      " 45%|████▌     | 36/80 [00:00<00:00, 117.45it/s]\u001b[A\n",
      " 60%|██████    | 48/80 [00:00<00:00, 116.46it/s]\u001b[A\n",
      " 75%|███████▌  | 60/80 [00:00<00:00, 116.59it/s]\u001b[A\n",
      "100%|██████████| 80/80 [00:00<00:00, 115.97it/s]\u001b[A\n",
      " 59%|█████▉    | 668/1125 [14:10<10:19,  1.36s/it]"
     ]
    },
    {
     "name": "stdout",
     "output_type": "stream",
     "text": [
      "/home/jiang/projects/SubtleGAN/data/brats2021/train/BraTS2021_01074\n"
     ]
    },
    {
     "name": "stderr",
     "output_type": "stream",
     "text": [
      "\n",
      "  0%|          | 0/80 [00:00<?, ?it/s]\u001b[A\n",
      " 16%|█▋        | 13/80 [00:00<00:00, 122.33it/s]\u001b[A\n",
      " 32%|███▎      | 26/80 [00:00<00:00, 123.96it/s]\u001b[A\n",
      " 49%|████▉     | 39/80 [00:00<00:00, 122.92it/s]\u001b[A\n",
      " 65%|██████▌   | 52/80 [00:00<00:00, 121.58it/s]\u001b[A\n",
      " 81%|████████▏ | 65/80 [00:00<00:00, 120.49it/s]\u001b[A\n",
      "100%|██████████| 80/80 [00:00<00:00, 120.90it/s]\u001b[A\n",
      " 59%|█████▉    | 669/1125 [14:11<10:03,  1.32s/it]"
     ]
    },
    {
     "name": "stdout",
     "output_type": "stream",
     "text": [
      "/home/jiang/projects/SubtleGAN/data/brats2021/train/BraTS2021_01313\n"
     ]
    },
    {
     "name": "stderr",
     "output_type": "stream",
     "text": [
      "\n",
      "  0%|          | 0/80 [00:00<?, ?it/s]\u001b[A\n",
      " 16%|█▋        | 13/80 [00:00<00:00, 126.31it/s]\u001b[A\n",
      " 32%|███▎      | 26/80 [00:00<00:00, 118.78it/s]\u001b[A\n",
      " 48%|████▊     | 38/80 [00:00<00:00, 118.49it/s]\u001b[A\n",
      " 62%|██████▎   | 50/80 [00:00<00:00, 117.04it/s]\u001b[A\n",
      " 78%|███████▊  | 62/80 [00:00<00:00, 116.95it/s]\u001b[A\n",
      "100%|██████████| 80/80 [00:00<00:00, 118.50it/s]\u001b[A\n",
      " 60%|█████▉    | 670/1125 [14:13<09:57,  1.31s/it]"
     ]
    },
    {
     "name": "stdout",
     "output_type": "stream",
     "text": [
      "/home/jiang/projects/SubtleGAN/data/brats2021/train/BraTS2021_00289\n"
     ]
    },
    {
     "name": "stderr",
     "output_type": "stream",
     "text": [
      "\n",
      "  0%|          | 0/80 [00:00<?, ?it/s]\u001b[A\n",
      " 16%|█▋        | 13/80 [00:00<00:00, 123.16it/s]\u001b[A\n",
      " 32%|███▎      | 26/80 [00:00<00:00, 120.19it/s]\u001b[A\n",
      " 49%|████▉     | 39/80 [00:00<00:00, 118.96it/s]\u001b[A\n",
      " 65%|██████▌   | 52/80 [00:00<00:00, 121.23it/s]\u001b[A\n",
      " 81%|████████▏ | 65/80 [00:00<00:00, 119.90it/s]\u001b[A\n",
      "100%|██████████| 80/80 [00:00<00:00, 120.56it/s]\u001b[A\n",
      " 60%|█████▉    | 671/1125 [14:14<09:45,  1.29s/it]"
     ]
    },
    {
     "name": "stdout",
     "output_type": "stream",
     "text": [
      "/home/jiang/projects/SubtleGAN/data/brats2021/train/BraTS2021_00760\n"
     ]
    },
    {
     "name": "stderr",
     "output_type": "stream",
     "text": [
      "\n",
      "  0%|          | 0/80 [00:00<?, ?it/s]\u001b[A\n",
      " 16%|█▋        | 13/80 [00:00<00:00, 122.23it/s]\u001b[A\n",
      " 32%|███▎      | 26/80 [00:00<00:00, 119.82it/s]\u001b[A\n",
      " 48%|████▊     | 38/80 [00:00<00:00, 117.04it/s]\u001b[A\n",
      " 64%|██████▍   | 51/80 [00:00<00:00, 118.88it/s]\u001b[A\n",
      " 80%|████████  | 64/80 [00:00<00:00, 119.48it/s]\u001b[A\n",
      "100%|██████████| 80/80 [00:00<00:00, 119.39it/s]\u001b[A\n",
      " 60%|█████▉    | 672/1125 [14:15<09:34,  1.27s/it]"
     ]
    },
    {
     "name": "stdout",
     "output_type": "stream",
     "text": [
      "/home/jiang/projects/SubtleGAN/data/brats2021/train/BraTS2021_00725\n"
     ]
    },
    {
     "name": "stderr",
     "output_type": "stream",
     "text": [
      "\n",
      "  0%|          | 0/80 [00:00<?, ?it/s]\u001b[A\n",
      " 16%|█▋        | 13/80 [00:00<00:00, 124.57it/s]\u001b[A\n",
      " 32%|███▎      | 26/80 [00:00<00:00, 126.75it/s]\u001b[A\n",
      " 49%|████▉     | 39/80 [00:00<00:00, 126.34it/s]\u001b[A\n",
      " 65%|██████▌   | 52/80 [00:00<00:00, 124.16it/s]\u001b[A\n",
      " 81%|████████▏ | 65/80 [00:00<00:00, 123.98it/s]\u001b[A\n",
      "100%|██████████| 80/80 [00:00<00:00, 123.66it/s]\u001b[A\n",
      " 60%|█████▉    | 673/1125 [14:16<09:15,  1.23s/it]"
     ]
    },
    {
     "name": "stdout",
     "output_type": "stream",
     "text": [
      "/home/jiang/projects/SubtleGAN/data/brats2021/train/BraTS2021_01399\n"
     ]
    },
    {
     "name": "stderr",
     "output_type": "stream",
     "text": [
      "\n",
      "  0%|          | 0/80 [00:00<?, ?it/s]\u001b[A\n",
      " 16%|█▋        | 13/80 [00:00<00:00, 122.86it/s]\u001b[A\n",
      " 32%|███▎      | 26/80 [00:00<00:00, 122.25it/s]\u001b[A\n",
      " 49%|████▉     | 39/80 [00:00<00:00, 123.34it/s]\u001b[A\n",
      " 65%|██████▌   | 52/80 [00:00<00:00, 122.30it/s]\u001b[A\n",
      " 81%|████████▏ | 65/80 [00:00<00:00, 122.69it/s]\u001b[A\n",
      "100%|██████████| 80/80 [00:00<00:00, 121.53it/s]\u001b[A\n",
      " 60%|█████▉    | 674/1125 [14:18<09:20,  1.24s/it]"
     ]
    },
    {
     "name": "stdout",
     "output_type": "stream",
     "text": [
      "/home/jiang/projects/SubtleGAN/data/brats2021/train/BraTS2021_01035\n"
     ]
    },
    {
     "name": "stderr",
     "output_type": "stream",
     "text": [
      "\n",
      "  0%|          | 0/80 [00:00<?, ?it/s]\u001b[A\n",
      " 15%|█▌        | 12/80 [00:00<00:00, 118.94it/s]\u001b[A\n",
      " 30%|███       | 24/80 [00:00<00:00, 117.80it/s]\u001b[A\n",
      " 45%|████▌     | 36/80 [00:00<00:00, 116.00it/s]\u001b[A\n",
      " 60%|██████    | 48/80 [00:00<00:00, 116.58it/s]\u001b[A\n",
      " 75%|███████▌  | 60/80 [00:00<00:00, 116.25it/s]\u001b[A\n",
      "100%|██████████| 80/80 [00:00<00:00, 116.16it/s]\u001b[A\n",
      " 60%|██████    | 675/1125 [14:19<09:16,  1.24s/it]"
     ]
    },
    {
     "name": "stdout",
     "output_type": "stream",
     "text": [
      "/home/jiang/projects/SubtleGAN/data/brats2021/train/BraTS2021_00405\n"
     ]
    },
    {
     "name": "stderr",
     "output_type": "stream",
     "text": [
      "\n",
      "  0%|          | 0/80 [00:00<?, ?it/s]\u001b[A\n",
      " 15%|█▌        | 12/80 [00:00<00:00, 112.54it/s]\u001b[A\n",
      " 31%|███▏      | 25/80 [00:00<00:00, 121.39it/s]\u001b[A\n",
      " 48%|████▊     | 38/80 [00:00<00:00, 120.71it/s]\u001b[A\n",
      " 64%|██████▍   | 51/80 [00:00<00:00, 123.23it/s]\u001b[A\n",
      " 80%|████████  | 64/80 [00:00<00:00, 123.13it/s]\u001b[A\n",
      "100%|██████████| 80/80 [00:00<00:00, 121.45it/s]\u001b[A\n",
      " 60%|██████    | 676/1125 [14:20<09:19,  1.25s/it]"
     ]
    },
    {
     "name": "stdout",
     "output_type": "stream",
     "text": [
      "/home/jiang/projects/SubtleGAN/data/brats2021/train/BraTS2021_00247\n"
     ]
    },
    {
     "name": "stderr",
     "output_type": "stream",
     "text": [
      "\n",
      "  0%|          | 0/80 [00:00<?, ?it/s]\u001b[A\n",
      " 15%|█▌        | 12/80 [00:00<00:00, 114.91it/s]\u001b[A\n",
      " 30%|███       | 24/80 [00:00<00:00, 116.80it/s]\u001b[A\n",
      " 46%|████▋     | 37/80 [00:00<00:00, 121.24it/s]\u001b[A\n",
      " 62%|██████▎   | 50/80 [00:00<00:00, 120.48it/s]\u001b[A\n",
      " 79%|███████▉  | 63/80 [00:00<00:00, 121.31it/s]\u001b[A\n",
      "100%|██████████| 80/80 [00:00<00:00, 120.59it/s]\u001b[A\n",
      " 60%|██████    | 677/1125 [14:21<09:21,  1.25s/it]"
     ]
    },
    {
     "name": "stdout",
     "output_type": "stream",
     "text": [
      "/home/jiang/projects/SubtleGAN/data/brats2021/train/BraTS2021_01475\n"
     ]
    },
    {
     "name": "stderr",
     "output_type": "stream",
     "text": [
      "\n",
      "  0%|          | 0/80 [00:00<?, ?it/s]\u001b[A\n",
      " 16%|█▋        | 13/80 [00:00<00:00, 124.68it/s]\u001b[A\n",
      " 32%|███▎      | 26/80 [00:00<00:00, 125.88it/s]\u001b[A\n",
      " 49%|████▉     | 39/80 [00:00<00:00, 122.97it/s]\u001b[A\n",
      " 65%|██████▌   | 52/80 [00:00<00:00, 123.77it/s]\u001b[A\n",
      " 81%|████████▏ | 65/80 [00:00<00:00, 123.63it/s]\u001b[A\n",
      "100%|██████████| 80/80 [00:00<00:00, 123.91it/s]\u001b[A\n",
      " 60%|██████    | 678/1125 [14:23<09:21,  1.26s/it]"
     ]
    },
    {
     "name": "stdout",
     "output_type": "stream",
     "text": [
      "/home/jiang/projects/SubtleGAN/data/brats2021/train/BraTS2021_01440\n"
     ]
    },
    {
     "name": "stderr",
     "output_type": "stream",
     "text": [
      "\n",
      "  0%|          | 0/80 [00:00<?, ?it/s]\u001b[A\n",
      " 16%|█▋        | 13/80 [00:00<00:00, 124.38it/s]\u001b[A\n",
      " 32%|███▎      | 26/80 [00:00<00:00, 124.62it/s]\u001b[A\n",
      " 49%|████▉     | 39/80 [00:00<00:00, 122.51it/s]\u001b[A\n",
      " 65%|██████▌   | 52/80 [00:00<00:00, 122.63it/s]\u001b[A\n",
      " 81%|████████▏ | 65/80 [00:00<00:00, 122.75it/s]\u001b[A\n",
      "100%|██████████| 80/80 [00:00<00:00, 122.27it/s]\u001b[A\n",
      " 60%|██████    | 679/1125 [14:24<09:19,  1.25s/it]"
     ]
    },
    {
     "name": "stdout",
     "output_type": "stream",
     "text": [
      "/home/jiang/projects/SubtleGAN/data/brats2021/train/BraTS2021_00557\n"
     ]
    },
    {
     "name": "stderr",
     "output_type": "stream",
     "text": [
      "\n",
      "  0%|          | 0/80 [00:00<?, ?it/s]\u001b[A\n",
      " 16%|█▋        | 13/80 [00:00<00:00, 121.23it/s]\u001b[A\n",
      " 32%|███▎      | 26/80 [00:00<00:00, 124.55it/s]\u001b[A\n",
      " 49%|████▉     | 39/80 [00:00<00:00, 123.92it/s]\u001b[A\n",
      " 65%|██████▌   | 52/80 [00:00<00:00, 123.53it/s]\u001b[A\n",
      " 81%|████████▏ | 65/80 [00:00<00:00, 123.28it/s]\u001b[A\n",
      "100%|██████████| 80/80 [00:00<00:00, 123.11it/s]\u001b[A\n",
      " 60%|██████    | 680/1125 [14:25<09:07,  1.23s/it]"
     ]
    },
    {
     "name": "stdout",
     "output_type": "stream",
     "text": [
      "/home/jiang/projects/SubtleGAN/data/brats2021/train/BraTS2021_00526\n"
     ]
    },
    {
     "name": "stderr",
     "output_type": "stream",
     "text": [
      "\n",
      "  0%|          | 0/80 [00:00<?, ?it/s]\u001b[A\n",
      " 16%|█▋        | 13/80 [00:00<00:00, 121.73it/s]\u001b[A\n",
      " 32%|███▎      | 26/80 [00:00<00:00, 122.32it/s]\u001b[A\n",
      " 49%|████▉     | 39/80 [00:00<00:00, 121.41it/s]\u001b[A\n",
      " 65%|██████▌   | 52/80 [00:00<00:00, 119.52it/s]\u001b[A\n",
      " 80%|████████  | 64/80 [00:00<00:00, 118.83it/s]\u001b[A\n",
      "100%|██████████| 80/80 [00:00<00:00, 118.96it/s]\u001b[A\n",
      " 61%|██████    | 681/1125 [14:26<09:04,  1.23s/it]"
     ]
    },
    {
     "name": "stdout",
     "output_type": "stream",
     "text": [
      "/home/jiang/projects/SubtleGAN/data/brats2021/train/BraTS2021_01085\n"
     ]
    },
    {
     "name": "stderr",
     "output_type": "stream",
     "text": [
      "\n",
      "  0%|          | 0/80 [00:00<?, ?it/s]\u001b[A\n",
      " 16%|█▋        | 13/80 [00:00<00:00, 124.07it/s]\u001b[A\n",
      " 32%|███▎      | 26/80 [00:00<00:00, 124.82it/s]\u001b[A\n",
      " 49%|████▉     | 39/80 [00:00<00:00, 122.52it/s]\u001b[A\n",
      " 65%|██████▌   | 52/80 [00:00<00:00, 123.69it/s]\u001b[A\n",
      " 81%|████████▏ | 65/80 [00:00<00:00, 122.05it/s]\u001b[A\n",
      "100%|██████████| 80/80 [00:00<00:00, 122.16it/s]\u001b[A\n",
      " 61%|██████    | 682/1125 [14:27<09:07,  1.24s/it]"
     ]
    },
    {
     "name": "stdout",
     "output_type": "stream",
     "text": [
      "/home/jiang/projects/SubtleGAN/data/brats2021/train/BraTS2021_01037\n"
     ]
    },
    {
     "name": "stderr",
     "output_type": "stream",
     "text": [
      "\n",
      "  0%|          | 0/80 [00:00<?, ?it/s]\u001b[A\n",
      " 16%|█▋        | 13/80 [00:00<00:00, 123.26it/s]\u001b[A\n",
      " 32%|███▎      | 26/80 [00:00<00:00, 120.71it/s]\u001b[A\n",
      " 49%|████▉     | 39/80 [00:00<00:00, 117.27it/s]\u001b[A\n",
      " 64%|██████▍   | 51/80 [00:00<00:00, 117.60it/s]\u001b[A\n",
      " 80%|████████  | 64/80 [00:00<00:00, 119.53it/s]\u001b[A\n",
      "100%|██████████| 80/80 [00:00<00:00, 118.77it/s]\u001b[A\n",
      " 61%|██████    | 683/1125 [14:29<09:15,  1.26s/it]"
     ]
    },
    {
     "name": "stdout",
     "output_type": "stream",
     "text": [
      "/home/jiang/projects/SubtleGAN/data/brats2021/train/BraTS2021_01138\n"
     ]
    },
    {
     "name": "stderr",
     "output_type": "stream",
     "text": [
      "\n",
      "  0%|          | 0/80 [00:00<?, ?it/s]\u001b[A\n",
      " 15%|█▌        | 12/80 [00:00<00:00, 119.82it/s]\u001b[A\n",
      " 31%|███▏      | 25/80 [00:00<00:00, 122.21it/s]\u001b[A\n",
      " 48%|████▊     | 38/80 [00:00<00:00, 122.93it/s]\u001b[A\n",
      " 64%|██████▍   | 51/80 [00:00<00:00, 123.00it/s]\u001b[A\n",
      " 80%|████████  | 64/80 [00:00<00:00, 122.94it/s]\u001b[A\n",
      "100%|██████████| 80/80 [00:00<00:00, 122.74it/s]\u001b[A\n",
      " 61%|██████    | 684/1125 [14:30<09:15,  1.26s/it]"
     ]
    },
    {
     "name": "stdout",
     "output_type": "stream",
     "text": [
      "/home/jiang/projects/SubtleGAN/data/brats2021/train/BraTS2021_01448\n"
     ]
    },
    {
     "name": "stderr",
     "output_type": "stream",
     "text": [
      "\n",
      "  0%|          | 0/80 [00:00<?, ?it/s]\u001b[A\n",
      " 12%|█▎        | 10/80 [00:00<00:00, 93.98it/s]\u001b[A\n",
      " 26%|██▋       | 21/80 [00:00<00:00, 98.94it/s]\u001b[A\n",
      " 42%|████▎     | 34/80 [00:00<00:00, 110.30it/s]\u001b[A\n",
      " 59%|█████▉    | 47/80 [00:00<00:00, 114.03it/s]\u001b[A\n",
      " 75%|███████▌  | 60/80 [00:00<00:00, 116.98it/s]\u001b[A\n",
      "100%|██████████| 80/80 [00:00<00:00, 114.38it/s]\u001b[A\n",
      " 61%|██████    | 685/1125 [14:31<09:19,  1.27s/it]"
     ]
    },
    {
     "name": "stdout",
     "output_type": "stream",
     "text": [
      "/home/jiang/projects/SubtleGAN/data/brats2021/train/BraTS2021_01398\n"
     ]
    },
    {
     "name": "stderr",
     "output_type": "stream",
     "text": [
      "\n",
      "  0%|          | 0/80 [00:00<?, ?it/s]\u001b[A\n",
      " 16%|█▋        | 13/80 [00:00<00:00, 121.57it/s]\u001b[A\n",
      " 32%|███▎      | 26/80 [00:00<00:00, 122.77it/s]\u001b[A\n",
      " 49%|████▉     | 39/80 [00:00<00:00, 122.89it/s]\u001b[A\n",
      " 65%|██████▌   | 52/80 [00:00<00:00, 123.02it/s]\u001b[A\n",
      " 81%|████████▏ | 65/80 [00:00<00:00, 124.17it/s]\u001b[A\n",
      "100%|██████████| 80/80 [00:00<00:00, 122.33it/s]\u001b[A\n",
      " 61%|██████    | 686/1125 [14:33<09:17,  1.27s/it]"
     ]
    },
    {
     "name": "stdout",
     "output_type": "stream",
     "text": [
      "/home/jiang/projects/SubtleGAN/data/brats2021/train/BraTS2021_01224\n"
     ]
    },
    {
     "name": "stderr",
     "output_type": "stream",
     "text": [
      "\n",
      "  0%|          | 0/80 [00:00<?, ?it/s]\u001b[A\n",
      " 16%|█▋        | 13/80 [00:00<00:00, 124.46it/s]\u001b[A\n",
      " 32%|███▎      | 26/80 [00:00<00:00, 127.56it/s]\u001b[A\n",
      " 49%|████▉     | 39/80 [00:00<00:00, 128.50it/s]\u001b[A\n",
      " 65%|██████▌   | 52/80 [00:00<00:00, 125.35it/s]\u001b[A\n",
      " 81%|████████▏ | 65/80 [00:00<00:00, 124.97it/s]\u001b[A\n",
      "100%|██████████| 80/80 [00:00<00:00, 123.96it/s]\u001b[A\n",
      " 61%|██████    | 687/1125 [14:34<09:13,  1.26s/it]"
     ]
    },
    {
     "name": "stdout",
     "output_type": "stream",
     "text": [
      "/home/jiang/projects/SubtleGAN/data/brats2021/train/BraTS2021_01492\n"
     ]
    },
    {
     "name": "stderr",
     "output_type": "stream",
     "text": [
      "\n",
      "  0%|          | 0/80 [00:00<?, ?it/s]\u001b[A\n",
      " 18%|█▊        | 14/80 [00:00<00:00, 129.96it/s]\u001b[A\n",
      " 34%|███▍      | 27/80 [00:00<00:00, 125.35it/s]\u001b[A\n",
      " 50%|█████     | 40/80 [00:00<00:00, 125.77it/s]\u001b[A\n",
      " 66%|██████▋   | 53/80 [00:00<00:00, 125.30it/s]\u001b[A\n",
      " 82%|████████▎ | 66/80 [00:00<00:00, 122.45it/s]\u001b[A\n",
      "100%|██████████| 80/80 [00:00<00:00, 123.05it/s]\u001b[A\n",
      " 61%|██████    | 688/1125 [14:35<09:07,  1.25s/it]"
     ]
    },
    {
     "name": "stdout",
     "output_type": "stream",
     "text": [
      "/home/jiang/projects/SubtleGAN/data/brats2021/train/BraTS2021_00734\n"
     ]
    },
    {
     "name": "stderr",
     "output_type": "stream",
     "text": [
      "\n",
      "  0%|          | 0/80 [00:00<?, ?it/s]\u001b[A\n",
      " 16%|█▋        | 13/80 [00:00<00:00, 119.99it/s]\u001b[A\n",
      " 32%|███▎      | 26/80 [00:00<00:00, 121.97it/s]\u001b[A\n",
      " 49%|████▉     | 39/80 [00:00<00:00, 100.22it/s]\u001b[A\n",
      " 64%|██████▍   | 51/80 [00:00<00:00, 104.29it/s]\u001b[A\n",
      " 79%|███████▉  | 63/80 [00:00<00:00, 108.12it/s]\u001b[A\n",
      "100%|██████████| 80/80 [00:00<00:00, 109.16it/s]\u001b[A\n",
      " 61%|██████    | 689/1125 [14:36<09:07,  1.26s/it]"
     ]
    },
    {
     "name": "stdout",
     "output_type": "stream",
     "text": [
      "/home/jiang/projects/SubtleGAN/data/brats2021/train/BraTS2021_01204\n"
     ]
    },
    {
     "name": "stderr",
     "output_type": "stream",
     "text": [
      "\n",
      "  0%|          | 0/80 [00:00<?, ?it/s]\u001b[A\n",
      " 16%|█▋        | 13/80 [00:00<00:00, 125.90it/s]\u001b[A\n",
      " 32%|███▎      | 26/80 [00:00<00:00, 120.44it/s]\u001b[A\n",
      " 49%|████▉     | 39/80 [00:00<00:00, 121.66it/s]\u001b[A\n",
      " 65%|██████▌   | 52/80 [00:00<00:00, 118.95it/s]\u001b[A\n",
      " 81%|████████▏ | 65/80 [00:00<00:00, 120.36it/s]\u001b[A\n",
      "100%|██████████| 80/80 [00:00<00:00, 120.67it/s]\u001b[A\n",
      " 61%|██████▏   | 690/1125 [14:38<09:06,  1.26s/it]"
     ]
    },
    {
     "name": "stdout",
     "output_type": "stream",
     "text": [
      "/home/jiang/projects/SubtleGAN/data/brats2021/train/BraTS2021_00836\n"
     ]
    },
    {
     "name": "stderr",
     "output_type": "stream",
     "text": [
      "\n",
      "  0%|          | 0/80 [00:00<?, ?it/s]\u001b[A\n",
      " 16%|█▋        | 13/80 [00:00<00:00, 123.37it/s]\u001b[A\n",
      " 32%|███▎      | 26/80 [00:00<00:00, 123.32it/s]\u001b[A\n",
      " 49%|████▉     | 39/80 [00:00<00:00, 121.02it/s]\u001b[A\n",
      " 65%|██████▌   | 52/80 [00:00<00:00, 123.62it/s]\u001b[A\n",
      " 81%|████████▏ | 65/80 [00:00<00:00, 122.13it/s]\u001b[A\n",
      "100%|██████████| 80/80 [00:00<00:00, 121.34it/s]\u001b[A\n",
      " 61%|██████▏   | 691/1125 [14:39<09:05,  1.26s/it]"
     ]
    },
    {
     "name": "stdout",
     "output_type": "stream",
     "text": [
      "/home/jiang/projects/SubtleGAN/data/brats2021/train/BraTS2021_00639\n"
     ]
    },
    {
     "name": "stderr",
     "output_type": "stream",
     "text": [
      "\n",
      "  0%|          | 0/80 [00:00<?, ?it/s]\u001b[A\n",
      " 15%|█▌        | 12/80 [00:00<00:00, 119.47it/s]\u001b[A\n",
      " 30%|███       | 24/80 [00:00<00:00, 119.50it/s]\u001b[A\n",
      " 46%|████▋     | 37/80 [00:00<00:00, 119.67it/s]\u001b[A\n",
      " 61%|██████▏   | 49/80 [00:00<00:00, 118.92it/s]\u001b[A\n",
      " 78%|███████▊  | 62/80 [00:00<00:00, 118.87it/s]\u001b[A\n",
      "100%|██████████| 80/80 [00:00<00:00, 119.20it/s]\u001b[A\n",
      " 62%|██████▏   | 692/1125 [14:40<08:55,  1.24s/it]"
     ]
    },
    {
     "name": "stdout",
     "output_type": "stream",
     "text": [
      "/home/jiang/projects/SubtleGAN/data/brats2021/train/BraTS2021_01501\n"
     ]
    },
    {
     "name": "stderr",
     "output_type": "stream",
     "text": [
      "\n",
      "  0%|          | 0/80 [00:00<?, ?it/s]\u001b[A\n",
      " 16%|█▋        | 13/80 [00:00<00:00, 126.45it/s]\u001b[A\n",
      " 32%|███▎      | 26/80 [00:00<00:00, 119.23it/s]\u001b[A\n",
      " 48%|████▊     | 38/80 [00:00<00:00, 119.49it/s]\u001b[A\n",
      " 62%|██████▎   | 50/80 [00:00<00:00, 109.10it/s]\u001b[A\n",
      " 78%|███████▊  | 62/80 [00:00<00:00, 110.67it/s]\u001b[A\n",
      "100%|██████████| 80/80 [00:00<00:00, 114.46it/s]\u001b[A\n",
      " 62%|██████▏   | 693/1125 [14:41<08:55,  1.24s/it]"
     ]
    },
    {
     "name": "stdout",
     "output_type": "stream",
     "text": [
      "/home/jiang/projects/SubtleGAN/data/brats2021/train/BraTS2021_00413\n"
     ]
    },
    {
     "name": "stderr",
     "output_type": "stream",
     "text": [
      "\n",
      "  0%|          | 0/80 [00:00<?, ?it/s]\u001b[A\n",
      " 16%|█▋        | 13/80 [00:00<00:00, 122.38it/s]\u001b[A\n",
      " 32%|███▎      | 26/80 [00:00<00:00, 123.14it/s]\u001b[A\n",
      " 49%|████▉     | 39/80 [00:00<00:00, 122.58it/s]\u001b[A\n",
      " 65%|██████▌   | 52/80 [00:00<00:00, 124.12it/s]\u001b[A\n",
      " 81%|████████▏ | 65/80 [00:00<00:00, 121.67it/s]\u001b[A\n",
      "100%|██████████| 80/80 [00:00<00:00, 120.85it/s]\u001b[A\n",
      " 62%|██████▏   | 694/1125 [14:43<08:56,  1.24s/it]"
     ]
    },
    {
     "name": "stdout",
     "output_type": "stream",
     "text": [
      "/home/jiang/projects/SubtleGAN/data/brats2021/train/BraTS2021_01464\n"
     ]
    },
    {
     "name": "stderr",
     "output_type": "stream",
     "text": [
      "\n",
      "  0%|          | 0/80 [00:00<?, ?it/s]\u001b[A\n",
      " 16%|█▋        | 13/80 [00:00<00:00, 120.78it/s]\u001b[A\n",
      " 32%|███▎      | 26/80 [00:00<00:00, 119.33it/s]\u001b[A\n",
      " 48%|████▊     | 38/80 [00:00<00:00, 119.31it/s]\u001b[A\n",
      " 62%|██████▎   | 50/80 [00:00<00:00, 118.79it/s]\u001b[A\n",
      " 78%|███████▊  | 62/80 [00:00<00:00, 119.00it/s]\u001b[A\n",
      "100%|██████████| 80/80 [00:00<00:00, 120.17it/s]\u001b[A\n",
      " 62%|██████▏   | 695/1125 [14:44<08:59,  1.25s/it]"
     ]
    },
    {
     "name": "stdout",
     "output_type": "stream",
     "text": [
      "/home/jiang/projects/SubtleGAN/data/brats2021/train/BraTS2021_00800\n"
     ]
    },
    {
     "name": "stderr",
     "output_type": "stream",
     "text": [
      "\n",
      "  0%|          | 0/80 [00:00<?, ?it/s]\u001b[A\n",
      " 18%|█▊        | 14/80 [00:00<00:00, 129.75it/s]\u001b[A\n",
      " 34%|███▍      | 27/80 [00:00<00:00, 125.40it/s]\u001b[A\n",
      " 50%|█████     | 40/80 [00:00<00:00, 123.27it/s]\u001b[A\n",
      " 66%|██████▋   | 53/80 [00:00<00:00, 122.96it/s]\u001b[A\n",
      " 82%|████████▎ | 66/80 [00:00<00:00, 122.41it/s]\u001b[A\n",
      "100%|██████████| 80/80 [00:00<00:00, 122.14it/s]\u001b[A\n",
      " 62%|██████▏   | 696/1125 [14:46<09:55,  1.39s/it]"
     ]
    },
    {
     "name": "stdout",
     "output_type": "stream",
     "text": [
      "/home/jiang/projects/SubtleGAN/data/brats2021/train/BraTS2021_00742\n"
     ]
    },
    {
     "name": "stderr",
     "output_type": "stream",
     "text": [
      "\n",
      "  0%|          | 0/80 [00:00<?, ?it/s]\u001b[A\n",
      " 10%|█         | 8/80 [00:00<00:01, 66.02it/s]\u001b[A\n",
      " 19%|█▉        | 15/80 [00:00<00:01, 59.22it/s]\u001b[A\n",
      " 35%|███▌      | 28/80 [00:00<00:00, 85.64it/s]\u001b[A\n",
      " 46%|████▋     | 37/80 [00:00<00:00, 69.58it/s]\u001b[A\n",
      " 60%|██████    | 48/80 [00:00<00:00, 80.76it/s]\u001b[A\n",
      " 75%|███████▌  | 60/80 [00:00<00:00, 91.39it/s]\u001b[A\n",
      "100%|██████████| 80/80 [00:00<00:00, 89.34it/s] \u001b[A\n",
      " 62%|██████▏   | 697/1125 [14:47<09:54,  1.39s/it]"
     ]
    },
    {
     "name": "stdout",
     "output_type": "stream",
     "text": [
      "/home/jiang/projects/SubtleGAN/data/brats2021/train/BraTS2021_00390\n"
     ]
    },
    {
     "name": "stderr",
     "output_type": "stream",
     "text": [
      "\n",
      "  0%|          | 0/80 [00:00<?, ?it/s]\u001b[A\n",
      " 16%|█▋        | 13/80 [00:00<00:00, 123.39it/s]\u001b[A\n",
      " 32%|███▎      | 26/80 [00:00<00:00, 125.63it/s]\u001b[A\n",
      " 49%|████▉     | 39/80 [00:00<00:00, 123.76it/s]\u001b[A\n",
      " 65%|██████▌   | 52/80 [00:00<00:00, 122.40it/s]\u001b[A\n",
      " 81%|████████▏ | 65/80 [00:00<00:00, 122.58it/s]\u001b[A\n",
      "100%|██████████| 80/80 [00:00<00:00, 121.68it/s]\u001b[A\n",
      " 62%|██████▏   | 698/1125 [14:48<09:31,  1.34s/it]"
     ]
    },
    {
     "name": "stdout",
     "output_type": "stream",
     "text": [
      "/home/jiang/projects/SubtleGAN/data/brats2021/train/BraTS2021_01075\n"
     ]
    },
    {
     "name": "stderr",
     "output_type": "stream",
     "text": [
      "\n",
      "  0%|          | 0/80 [00:00<?, ?it/s]\u001b[A\n",
      " 16%|█▋        | 13/80 [00:00<00:00, 125.49it/s]\u001b[A\n",
      " 32%|███▎      | 26/80 [00:00<00:00, 125.02it/s]\u001b[A\n",
      " 49%|████▉     | 39/80 [00:00<00:00, 123.44it/s]\u001b[A\n",
      " 65%|██████▌   | 52/80 [00:00<00:00, 121.22it/s]\u001b[A\n",
      " 81%|████████▏ | 65/80 [00:00<00:00, 122.24it/s]\u001b[A\n",
      "100%|██████████| 80/80 [00:00<00:00, 121.55it/s]\u001b[A\n",
      " 62%|██████▏   | 699/1125 [14:49<09:19,  1.31s/it]"
     ]
    },
    {
     "name": "stdout",
     "output_type": "stream",
     "text": [
      "/home/jiang/projects/SubtleGAN/data/brats2021/train/BraTS2021_00074\n"
     ]
    },
    {
     "name": "stderr",
     "output_type": "stream",
     "text": [
      "\n",
      "  0%|          | 0/80 [00:00<?, ?it/s]\u001b[A\n",
      " 16%|█▋        | 13/80 [00:00<00:00, 119.88it/s]\u001b[A\n",
      " 32%|███▎      | 26/80 [00:00<00:00, 121.63it/s]\u001b[A\n",
      " 49%|████▉     | 39/80 [00:00<00:00, 121.01it/s]\u001b[A\n",
      " 65%|██████▌   | 52/80 [00:00<00:00, 120.30it/s]\u001b[A\n",
      " 81%|████████▏ | 65/80 [00:00<00:00, 120.22it/s]\u001b[A\n",
      "100%|██████████| 80/80 [00:00<00:00, 119.14it/s]\u001b[A\n",
      " 62%|██████▏   | 700/1125 [14:51<09:05,  1.28s/it]"
     ]
    },
    {
     "name": "stdout",
     "output_type": "stream",
     "text": [
      "/home/jiang/projects/SubtleGAN/data/brats2021/train/BraTS2021_00126\n"
     ]
    },
    {
     "name": "stderr",
     "output_type": "stream",
     "text": [
      "\n",
      "  0%|          | 0/80 [00:00<?, ?it/s]\u001b[A\n",
      " 16%|█▋        | 13/80 [00:00<00:00, 123.33it/s]\u001b[A\n",
      " 32%|███▎      | 26/80 [00:00<00:00, 123.48it/s]\u001b[A\n",
      " 49%|████▉     | 39/80 [00:00<00:00, 121.71it/s]\u001b[A\n",
      " 65%|██████▌   | 52/80 [00:00<00:00, 120.73it/s]\u001b[A\n",
      " 81%|████████▏ | 65/80 [00:00<00:00, 120.97it/s]\u001b[A\n",
      "100%|██████████| 80/80 [00:00<00:00, 120.27it/s]\u001b[A\n",
      " 62%|██████▏   | 701/1125 [14:52<09:05,  1.29s/it]"
     ]
    },
    {
     "name": "stdout",
     "output_type": "stream",
     "text": [
      "/home/jiang/projects/SubtleGAN/data/brats2021/train/BraTS2021_01587\n"
     ]
    },
    {
     "name": "stderr",
     "output_type": "stream",
     "text": [
      "\n",
      "  0%|          | 0/80 [00:00<?, ?it/s]\u001b[A\n",
      " 16%|█▋        | 13/80 [00:00<00:00, 125.25it/s]\u001b[A\n",
      " 32%|███▎      | 26/80 [00:00<00:00, 122.49it/s]\u001b[A\n",
      " 49%|████▉     | 39/80 [00:00<00:00, 121.26it/s]\u001b[A\n",
      " 65%|██████▌   | 52/80 [00:00<00:00, 121.52it/s]\u001b[A\n",
      " 81%|████████▏ | 65/80 [00:00<00:00, 121.59it/s]\u001b[A\n",
      "100%|██████████| 80/80 [00:00<00:00, 121.04it/s]\u001b[A\n",
      " 62%|██████▏   | 702/1125 [14:54<09:56,  1.41s/it]"
     ]
    },
    {
     "name": "stdout",
     "output_type": "stream",
     "text": [
      "/home/jiang/projects/SubtleGAN/data/brats2021/train/BraTS2021_01602\n"
     ]
    },
    {
     "name": "stderr",
     "output_type": "stream",
     "text": [
      "\n",
      "  0%|          | 0/80 [00:00<?, ?it/s]\u001b[A\n",
      " 16%|█▋        | 13/80 [00:00<00:00, 126.87it/s]\u001b[A\n",
      " 32%|███▎      | 26/80 [00:00<00:00, 123.29it/s]\u001b[A\n",
      " 49%|████▉     | 39/80 [00:00<00:00, 123.40it/s]\u001b[A\n",
      " 65%|██████▌   | 52/80 [00:00<00:00, 120.40it/s]\u001b[A\n",
      " 81%|████████▏ | 65/80 [00:00<00:00, 118.71it/s]\u001b[A\n",
      "100%|██████████| 80/80 [00:00<00:00, 119.84it/s]\u001b[A\n",
      " 62%|██████▏   | 703/1125 [14:55<10:29,  1.49s/it]"
     ]
    },
    {
     "name": "stdout",
     "output_type": "stream",
     "text": [
      "/home/jiang/projects/SubtleGAN/data/brats2021/train/BraTS2021_00154\n"
     ]
    },
    {
     "name": "stderr",
     "output_type": "stream",
     "text": [
      "\n",
      "  0%|          | 0/80 [00:00<?, ?it/s]\u001b[A\n",
      " 16%|█▋        | 13/80 [00:00<00:00, 123.68it/s]\u001b[A\n",
      " 32%|███▎      | 26/80 [00:00<00:00, 123.59it/s]\u001b[A\n",
      " 49%|████▉     | 39/80 [00:00<00:00, 124.71it/s]\u001b[A\n",
      " 65%|██████▌   | 52/80 [00:00<00:00, 123.26it/s]\u001b[A\n",
      " 81%|████████▏ | 65/80 [00:00<00:00, 121.10it/s]\u001b[A\n",
      "100%|██████████| 80/80 [00:00<00:00, 121.07it/s]\u001b[A\n",
      " 63%|██████▎   | 704/1125 [14:57<09:58,  1.42s/it]"
     ]
    },
    {
     "name": "stdout",
     "output_type": "stream",
     "text": [
      "/home/jiang/projects/SubtleGAN/data/brats2021/train/BraTS2021_00012\n"
     ]
    },
    {
     "name": "stderr",
     "output_type": "stream",
     "text": [
      "\n",
      "  0%|          | 0/80 [00:00<?, ?it/s]\u001b[A\n",
      " 16%|█▋        | 13/80 [00:00<00:00, 123.63it/s]\u001b[A\n",
      " 32%|███▎      | 26/80 [00:00<00:00, 120.31it/s]\u001b[A\n",
      " 49%|████▉     | 39/80 [00:00<00:00, 123.73it/s]\u001b[A\n",
      " 65%|██████▌   | 52/80 [00:00<00:00, 120.06it/s]\u001b[A\n",
      " 81%|████████▏ | 65/80 [00:00<00:00, 118.37it/s]\u001b[A\n",
      "100%|██████████| 80/80 [00:00<00:00, 118.25it/s]\u001b[A\n",
      " 63%|██████▎   | 705/1125 [14:58<09:30,  1.36s/it]"
     ]
    },
    {
     "name": "stdout",
     "output_type": "stream",
     "text": [
      "/home/jiang/projects/SubtleGAN/data/brats2021/train/BraTS2021_01050\n"
     ]
    },
    {
     "name": "stderr",
     "output_type": "stream",
     "text": [
      "\n",
      "  0%|          | 0/80 [00:00<?, ?it/s]\u001b[A\n",
      " 16%|█▋        | 13/80 [00:00<00:00, 125.27it/s]\u001b[A\n",
      " 32%|███▎      | 26/80 [00:00<00:00, 121.72it/s]\u001b[A\n",
      " 49%|████▉     | 39/80 [00:00<00:00, 120.43it/s]\u001b[A\n",
      " 65%|██████▌   | 52/80 [00:00<00:00, 120.87it/s]\u001b[A\n",
      " 81%|████████▏ | 65/80 [00:00<00:00, 121.24it/s]\u001b[A\n",
      "100%|██████████| 80/80 [00:00<00:00, 120.66it/s]\u001b[A\n",
      " 63%|██████▎   | 706/1125 [14:59<09:18,  1.33s/it]"
     ]
    },
    {
     "name": "stdout",
     "output_type": "stream",
     "text": [
      "/home/jiang/projects/SubtleGAN/data/brats2021/train/BraTS2021_00716\n"
     ]
    },
    {
     "name": "stderr",
     "output_type": "stream",
     "text": [
      "\n",
      "  0%|          | 0/80 [00:00<?, ?it/s]\u001b[A\n",
      " 16%|█▋        | 13/80 [00:00<00:00, 120.34it/s]\u001b[A\n",
      " 32%|███▎      | 26/80 [00:00<00:00, 123.78it/s]\u001b[A\n",
      " 50%|█████     | 40/80 [00:00<00:00, 127.07it/s]\u001b[A\n",
      " 66%|██████▋   | 53/80 [00:00<00:00, 125.37it/s]\u001b[A\n",
      " 82%|████████▎ | 66/80 [00:00<00:00, 125.33it/s]\u001b[A\n",
      "100%|██████████| 80/80 [00:00<00:00, 125.18it/s]\u001b[A\n",
      " 63%|██████▎   | 707/1125 [15:00<09:00,  1.29s/it]"
     ]
    },
    {
     "name": "stdout",
     "output_type": "stream",
     "text": [
      "/home/jiang/projects/SubtleGAN/data/brats2021/train/BraTS2021_00120\n"
     ]
    },
    {
     "name": "stderr",
     "output_type": "stream",
     "text": [
      "\n",
      "  0%|          | 0/80 [00:00<?, ?it/s]\u001b[A\n",
      " 16%|█▋        | 13/80 [00:00<00:00, 129.37it/s]\u001b[A\n",
      " 32%|███▎      | 26/80 [00:00<00:00, 125.03it/s]\u001b[A\n",
      " 50%|█████     | 40/80 [00:00<00:00, 126.87it/s]\u001b[A\n",
      " 68%|██████▊   | 54/80 [00:00<00:00, 127.84it/s]\u001b[A\n",
      " 84%|████████▍ | 67/80 [00:00<00:00, 127.85it/s]\u001b[A\n",
      "100%|██████████| 80/80 [00:00<00:00, 125.99it/s]\u001b[A\n",
      " 63%|██████▎   | 708/1125 [15:01<08:52,  1.28s/it]"
     ]
    },
    {
     "name": "stdout",
     "output_type": "stream",
     "text": [
      "/home/jiang/projects/SubtleGAN/data/brats2021/train/BraTS2021_01457\n"
     ]
    },
    {
     "name": "stderr",
     "output_type": "stream",
     "text": [
      "\n",
      "  0%|          | 0/80 [00:00<?, ?it/s]\u001b[A\n",
      " 16%|█▋        | 13/80 [00:00<00:00, 125.26it/s]\u001b[A\n",
      " 32%|███▎      | 26/80 [00:00<00:00, 125.85it/s]\u001b[A\n",
      " 49%|████▉     | 39/80 [00:00<00:00, 124.55it/s]\u001b[A\n",
      " 65%|██████▌   | 52/80 [00:00<00:00, 125.21it/s]\u001b[A\n",
      " 81%|████████▏ | 65/80 [00:00<00:00, 124.07it/s]\u001b[A\n",
      "100%|██████████| 80/80 [00:00<00:00, 123.97it/s]\u001b[A\n",
      " 63%|██████▎   | 709/1125 [15:03<08:43,  1.26s/it]"
     ]
    },
    {
     "name": "stdout",
     "output_type": "stream",
     "text": [
      "/home/jiang/projects/SubtleGAN/data/brats2021/train/BraTS2021_01164\n"
     ]
    },
    {
     "name": "stderr",
     "output_type": "stream",
     "text": [
      "\n",
      "  0%|          | 0/80 [00:00<?, ?it/s]\u001b[A\n",
      " 16%|█▋        | 13/80 [00:00<00:00, 121.06it/s]\u001b[A\n",
      " 32%|███▎      | 26/80 [00:00<00:00, 122.62it/s]\u001b[A\n",
      " 49%|████▉     | 39/80 [00:00<00:00, 122.61it/s]\u001b[A\n",
      " 65%|██████▌   | 52/80 [00:00<00:00, 121.32it/s]\u001b[A\n",
      " 81%|████████▏ | 65/80 [00:00<00:00, 121.43it/s]\u001b[A\n",
      "100%|██████████| 80/80 [00:00<00:00, 121.66it/s]\u001b[A\n",
      " 63%|██████▎   | 710/1125 [15:04<08:38,  1.25s/it]"
     ]
    },
    {
     "name": "stdout",
     "output_type": "stream",
     "text": [
      "/home/jiang/projects/SubtleGAN/data/brats2021/train/BraTS2021_00317\n"
     ]
    },
    {
     "name": "stderr",
     "output_type": "stream",
     "text": [
      "\n",
      "  0%|          | 0/80 [00:00<?, ?it/s]\u001b[A\n",
      " 15%|█▌        | 12/80 [00:00<00:00, 118.16it/s]\u001b[A\n",
      " 30%|███       | 24/80 [00:00<00:00, 119.20it/s]\u001b[A\n",
      " 46%|████▋     | 37/80 [00:00<00:00, 120.17it/s]\u001b[A\n",
      " 62%|██████▎   | 50/80 [00:00<00:00, 120.39it/s]\u001b[A\n",
      " 79%|███████▉  | 63/80 [00:00<00:00, 122.25it/s]\u001b[A\n",
      "100%|██████████| 80/80 [00:00<00:00, 120.49it/s]\u001b[A\n",
      " 63%|██████▎   | 711/1125 [15:05<08:40,  1.26s/it]"
     ]
    },
    {
     "name": "stdout",
     "output_type": "stream",
     "text": [
      "/home/jiang/projects/SubtleGAN/data/brats2021/train/BraTS2021_00690\n"
     ]
    },
    {
     "name": "stderr",
     "output_type": "stream",
     "text": [
      "\n",
      "  0%|          | 0/80 [00:00<?, ?it/s]\u001b[A\n",
      " 16%|█▋        | 13/80 [00:00<00:00, 121.17it/s]\u001b[A\n",
      " 32%|███▎      | 26/80 [00:00<00:00, 124.85it/s]\u001b[A\n",
      " 49%|████▉     | 39/80 [00:00<00:00, 123.32it/s]\u001b[A\n",
      " 65%|██████▌   | 52/80 [00:00<00:00, 122.56it/s]\u001b[A\n",
      " 81%|████████▏ | 65/80 [00:00<00:00, 123.93it/s]\u001b[A\n",
      "100%|██████████| 80/80 [00:00<00:00, 122.92it/s]\u001b[A\n",
      " 63%|██████▎   | 712/1125 [15:06<08:30,  1.24s/it]"
     ]
    },
    {
     "name": "stdout",
     "output_type": "stream",
     "text": [
      "/home/jiang/projects/SubtleGAN/data/brats2021/train/BraTS2021_00615\n"
     ]
    },
    {
     "name": "stderr",
     "output_type": "stream",
     "text": [
      "\n",
      "  0%|          | 0/80 [00:00<?, ?it/s]\u001b[A\n",
      " 16%|█▋        | 13/80 [00:00<00:00, 125.57it/s]\u001b[A\n",
      " 32%|███▎      | 26/80 [00:00<00:00, 123.65it/s]\u001b[A\n",
      " 49%|████▉     | 39/80 [00:00<00:00, 125.14it/s]\u001b[A\n",
      " 65%|██████▌   | 52/80 [00:00<00:00, 124.27it/s]\u001b[A\n",
      " 81%|████████▏ | 65/80 [00:00<00:00, 121.63it/s]\u001b[A\n",
      "100%|██████████| 80/80 [00:00<00:00, 122.41it/s]\u001b[A\n",
      " 63%|██████▎   | 713/1125 [15:08<08:21,  1.22s/it]"
     ]
    },
    {
     "name": "stdout",
     "output_type": "stream",
     "text": [
      "/home/jiang/projects/SubtleGAN/data/brats2021/train/BraTS2021_00219\n"
     ]
    },
    {
     "name": "stderr",
     "output_type": "stream",
     "text": [
      "\n",
      "  0%|          | 0/80 [00:00<?, ?it/s]\u001b[A\n",
      " 16%|█▋        | 13/80 [00:00<00:00, 123.26it/s]\u001b[A\n",
      " 32%|███▎      | 26/80 [00:00<00:00, 119.97it/s]\u001b[A\n",
      " 49%|████▉     | 39/80 [00:00<00:00, 116.96it/s]\u001b[A\n",
      " 64%|██████▍   | 51/80 [00:00<00:00, 115.49it/s]\u001b[A\n",
      " 79%|███████▉  | 63/80 [00:00<00:00, 115.19it/s]\u001b[A\n",
      "100%|██████████| 80/80 [00:00<00:00, 116.16it/s]\u001b[A\n",
      " 63%|██████▎   | 714/1125 [15:09<08:32,  1.25s/it]"
     ]
    },
    {
     "name": "stdout",
     "output_type": "stream",
     "text": [
      "/home/jiang/projects/SubtleGAN/data/brats2021/train/BraTS2021_01413\n"
     ]
    },
    {
     "name": "stderr",
     "output_type": "stream",
     "text": [
      "\n",
      "  0%|          | 0/80 [00:00<?, ?it/s]\u001b[A\n",
      " 16%|█▋        | 13/80 [00:00<00:00, 122.97it/s]\u001b[A\n",
      " 32%|███▎      | 26/80 [00:00<00:00, 122.63it/s]\u001b[A\n",
      " 49%|████▉     | 39/80 [00:00<00:00, 120.46it/s]\u001b[A\n",
      " 65%|██████▌   | 52/80 [00:00<00:00, 120.68it/s]\u001b[A\n",
      " 81%|████████▏ | 65/80 [00:00<00:00, 120.43it/s]\u001b[A\n",
      "100%|██████████| 80/80 [00:00<00:00, 119.68it/s]\u001b[A\n",
      " 64%|██████▎   | 715/1125 [15:10<08:40,  1.27s/it]"
     ]
    },
    {
     "name": "stdout",
     "output_type": "stream",
     "text": [
      "/home/jiang/projects/SubtleGAN/data/brats2021/train/BraTS2021_01060\n"
     ]
    },
    {
     "name": "stderr",
     "output_type": "stream",
     "text": [
      "\n",
      "  0%|          | 0/80 [00:00<?, ?it/s]\u001b[A\n",
      " 16%|█▋        | 13/80 [00:00<00:00, 124.22it/s]\u001b[A\n",
      " 32%|███▎      | 26/80 [00:00<00:00, 120.29it/s]\u001b[A\n",
      " 49%|████▉     | 39/80 [00:00<00:00, 119.81it/s]\u001b[A\n",
      " 64%|██████▍   | 51/80 [00:00<00:00, 119.21it/s]\u001b[A\n",
      " 79%|███████▉  | 63/80 [00:00<00:00, 117.91it/s]\u001b[A\n",
      "100%|██████████| 80/80 [00:00<00:00, 118.12it/s]\u001b[A\n",
      " 64%|██████▎   | 716/1125 [15:12<08:45,  1.28s/it]"
     ]
    },
    {
     "name": "stdout",
     "output_type": "stream",
     "text": [
      "/home/jiang/projects/SubtleGAN/data/brats2021/train/BraTS2021_00523\n"
     ]
    },
    {
     "name": "stderr",
     "output_type": "stream",
     "text": [
      "\n",
      "  0%|          | 0/80 [00:00<?, ?it/s]\u001b[A\n",
      " 16%|█▋        | 13/80 [00:00<00:00, 120.17it/s]\u001b[A\n",
      " 32%|███▎      | 26/80 [00:00<00:00, 72.41it/s] \u001b[A\n",
      " 49%|████▉     | 39/80 [00:00<00:00, 88.81it/s]\u001b[A\n",
      " 64%|██████▍   | 51/80 [00:00<00:00, 97.02it/s]\u001b[A\n",
      " 79%|███████▉  | 63/80 [00:00<00:00, 103.52it/s]\u001b[A\n",
      "100%|██████████| 80/80 [00:00<00:00, 100.99it/s]\u001b[A\n",
      " 64%|██████▎   | 717/1125 [15:13<08:49,  1.30s/it]"
     ]
    },
    {
     "name": "stdout",
     "output_type": "stream",
     "text": [
      "/home/jiang/projects/SubtleGAN/data/brats2021/train/BraTS2021_00346\n"
     ]
    },
    {
     "name": "stderr",
     "output_type": "stream",
     "text": [
      "\n",
      "  0%|          | 0/80 [00:00<?, ?it/s]\u001b[A\n",
      " 16%|█▋        | 13/80 [00:00<00:00, 124.32it/s]\u001b[A\n",
      " 32%|███▎      | 26/80 [00:00<00:00, 122.88it/s]\u001b[A\n",
      " 49%|████▉     | 39/80 [00:00<00:00, 123.84it/s]\u001b[A\n",
      " 65%|██████▌   | 52/80 [00:00<00:00, 122.70it/s]\u001b[A\n",
      " 81%|████████▏ | 65/80 [00:00<00:00, 123.57it/s]\u001b[A\n",
      "100%|██████████| 80/80 [00:00<00:00, 123.75it/s]\u001b[A\n",
      " 64%|██████▍   | 718/1125 [15:14<08:45,  1.29s/it]"
     ]
    },
    {
     "name": "stdout",
     "output_type": "stream",
     "text": [
      "/home/jiang/projects/SubtleGAN/data/brats2021/train/BraTS2021_00409\n"
     ]
    },
    {
     "name": "stderr",
     "output_type": "stream",
     "text": [
      "\n",
      "  0%|          | 0/80 [00:00<?, ?it/s]\u001b[A\n",
      "  8%|▊         | 6/80 [00:00<00:01, 53.04it/s]\u001b[A\n",
      " 20%|██        | 16/80 [00:00<00:00, 79.24it/s]\u001b[A\n",
      " 35%|███▌      | 28/80 [00:00<00:00, 96.94it/s]\u001b[A\n",
      " 51%|█████▏    | 41/80 [00:00<00:00, 106.21it/s]\u001b[A\n",
      " 68%|██████▊   | 54/80 [00:00<00:00, 112.22it/s]\u001b[A\n",
      " 82%|████████▎ | 66/80 [00:00<00:00, 113.32it/s]\u001b[A\n",
      "100%|██████████| 80/80 [00:00<00:00, 105.94it/s]\u001b[A\n",
      " 64%|██████▍   | 719/1125 [15:16<08:59,  1.33s/it]"
     ]
    },
    {
     "name": "stdout",
     "output_type": "stream",
     "text": [
      "/home/jiang/projects/SubtleGAN/data/brats2021/train/BraTS2021_00731\n"
     ]
    },
    {
     "name": "stderr",
     "output_type": "stream",
     "text": [
      "\n",
      "  0%|          | 0/80 [00:00<?, ?it/s]\u001b[A\n",
      " 16%|█▋        | 13/80 [00:00<00:00, 126.62it/s]\u001b[A\n",
      " 32%|███▎      | 26/80 [00:00<00:00, 120.01it/s]\u001b[A\n",
      " 49%|████▉     | 39/80 [00:00<00:00, 119.38it/s]\u001b[A\n",
      " 64%|██████▍   | 51/80 [00:00<00:00, 118.21it/s]\u001b[A\n",
      " 79%|███████▉  | 63/80 [00:00<00:00, 117.01it/s]\u001b[A\n",
      "100%|██████████| 80/80 [00:00<00:00, 117.15it/s]\u001b[A\n",
      " 64%|██████▍   | 720/1125 [15:17<08:41,  1.29s/it]"
     ]
    },
    {
     "name": "stdout",
     "output_type": "stream",
     "text": [
      "/home/jiang/projects/SubtleGAN/data/brats2021/train/BraTS2021_00532\n"
     ]
    },
    {
     "name": "stderr",
     "output_type": "stream",
     "text": [
      "\n",
      "  0%|          | 0/80 [00:00<?, ?it/s]\u001b[A\n",
      " 15%|█▌        | 12/80 [00:00<00:00, 117.58it/s]\u001b[A\n",
      " 30%|███       | 24/80 [00:00<00:00, 116.07it/s]\u001b[A\n",
      " 45%|████▌     | 36/80 [00:00<00:00, 116.08it/s]\u001b[A\n",
      " 61%|██████▏   | 49/80 [00:00<00:00, 118.00it/s]\u001b[A\n",
      " 78%|███████▊  | 62/80 [00:00<00:00, 119.99it/s]\u001b[A\n",
      "100%|██████████| 80/80 [00:00<00:00, 118.08it/s]\u001b[A\n",
      " 64%|██████▍   | 721/1125 [15:18<08:26,  1.25s/it]"
     ]
    },
    {
     "name": "stdout",
     "output_type": "stream",
     "text": [
      "/home/jiang/projects/SubtleGAN/data/brats2021/train/BraTS2021_00598\n"
     ]
    },
    {
     "name": "stderr",
     "output_type": "stream",
     "text": [
      "\n",
      "  0%|          | 0/80 [00:00<?, ?it/s]\u001b[A\n",
      " 15%|█▌        | 12/80 [00:00<00:00, 116.35it/s]\u001b[A\n",
      " 30%|███       | 24/80 [00:00<00:00, 115.93it/s]\u001b[A\n",
      " 45%|████▌     | 36/80 [00:00<00:00, 115.09it/s]\u001b[A\n",
      " 60%|██████    | 48/80 [00:00<00:00, 115.34it/s]\u001b[A\n",
      " 75%|███████▌  | 60/80 [00:00<00:00, 115.66it/s]\u001b[A\n",
      "100%|██████████| 80/80 [00:00<00:00, 115.42it/s]\u001b[A\n",
      " 64%|██████▍   | 722/1125 [15:20<09:31,  1.42s/it]"
     ]
    },
    {
     "name": "stdout",
     "output_type": "stream",
     "text": [
      "/home/jiang/projects/SubtleGAN/data/brats2021/train/BraTS2021_01134\n"
     ]
    },
    {
     "name": "stderr",
     "output_type": "stream",
     "text": [
      "\n",
      "  0%|          | 0/80 [00:00<?, ?it/s]\u001b[A\n",
      " 16%|█▋        | 13/80 [00:00<00:00, 124.09it/s]\u001b[A\n",
      " 32%|███▎      | 26/80 [00:00<00:00, 118.45it/s]\u001b[A\n",
      " 48%|████▊     | 38/80 [00:00<00:00, 117.41it/s]\u001b[A\n",
      " 62%|██████▎   | 50/80 [00:00<00:00, 117.11it/s]\u001b[A\n",
      " 79%|███████▉  | 63/80 [00:00<00:00, 118.08it/s]\u001b[A\n",
      "100%|██████████| 80/80 [00:00<00:00, 117.41it/s]\u001b[A\n",
      " 64%|██████▍   | 723/1125 [15:21<09:15,  1.38s/it]"
     ]
    },
    {
     "name": "stdout",
     "output_type": "stream",
     "text": [
      "/home/jiang/projects/SubtleGAN/data/brats2021/train/BraTS2021_01047\n"
     ]
    },
    {
     "name": "stderr",
     "output_type": "stream",
     "text": [
      "\n",
      "  0%|          | 0/80 [00:00<?, ?it/s]\u001b[A\n",
      " 16%|█▋        | 13/80 [00:00<00:00, 124.09it/s]\u001b[A\n",
      " 32%|███▎      | 26/80 [00:00<00:00, 121.84it/s]\u001b[A\n",
      " 49%|████▉     | 39/80 [00:00<00:00, 119.63it/s]\u001b[A\n",
      " 64%|██████▍   | 51/80 [00:00<00:00, 118.64it/s]\u001b[A\n",
      " 79%|███████▉  | 63/80 [00:00<00:00, 118.24it/s]\u001b[A\n",
      "100%|██████████| 80/80 [00:00<00:00, 118.13it/s]\u001b[A\n",
      " 64%|██████▍   | 724/1125 [15:22<09:06,  1.36s/it]"
     ]
    },
    {
     "name": "stdout",
     "output_type": "stream",
     "text": [
      "/home/jiang/projects/SubtleGAN/data/brats2021/train/BraTS2021_01301\n"
     ]
    },
    {
     "name": "stderr",
     "output_type": "stream",
     "text": [
      "\n",
      "  0%|          | 0/80 [00:00<?, ?it/s]\u001b[A\n",
      " 16%|█▋        | 13/80 [00:00<00:00, 121.11it/s]\u001b[A\n",
      " 32%|███▎      | 26/80 [00:00<00:00, 119.80it/s]\u001b[A\n",
      " 49%|████▉     | 39/80 [00:00<00:00, 119.77it/s]\u001b[A\n",
      " 65%|██████▌   | 52/80 [00:00<00:00, 121.35it/s]\u001b[A\n",
      " 81%|████████▏ | 65/80 [00:00<00:00, 122.22it/s]\u001b[A\n",
      "100%|██████████| 80/80 [00:00<00:00, 121.38it/s]\u001b[A\n",
      " 64%|██████▍   | 725/1125 [15:24<08:56,  1.34s/it]"
     ]
    },
    {
     "name": "stdout",
     "output_type": "stream",
     "text": [
      "/home/jiang/projects/SubtleGAN/data/brats2021/train/BraTS2021_00233\n"
     ]
    },
    {
     "name": "stderr",
     "output_type": "stream",
     "text": [
      "\n",
      "  0%|          | 0/80 [00:00<?, ?it/s]\u001b[A\n",
      " 16%|█▋        | 13/80 [00:00<00:00, 121.36it/s]\u001b[A\n",
      " 32%|███▎      | 26/80 [00:00<00:00, 120.93it/s]\u001b[A\n",
      " 49%|████▉     | 39/80 [00:00<00:00, 117.72it/s]\u001b[A\n",
      " 64%|██████▍   | 51/80 [00:00<00:00, 113.90it/s]\u001b[A\n",
      " 79%|███████▉  | 63/80 [00:00<00:00, 115.37it/s]\u001b[A\n",
      "100%|██████████| 80/80 [00:00<00:00, 116.27it/s]\u001b[A\n",
      " 65%|██████▍   | 726/1125 [15:25<08:52,  1.34s/it]"
     ]
    },
    {
     "name": "stdout",
     "output_type": "stream",
     "text": [
      "/home/jiang/projects/SubtleGAN/data/brats2021/train/BraTS2021_01494\n"
     ]
    },
    {
     "name": "stderr",
     "output_type": "stream",
     "text": [
      "\n",
      "  0%|          | 0/80 [00:00<?, ?it/s]\u001b[A\n",
      " 15%|█▌        | 12/80 [00:00<00:00, 118.58it/s]\u001b[A\n",
      " 30%|███       | 24/80 [00:00<00:00, 117.49it/s]\u001b[A\n",
      " 45%|████▌     | 36/80 [00:00<00:00, 118.28it/s]\u001b[A\n",
      " 60%|██████    | 48/80 [00:00<00:00, 117.72it/s]\u001b[A\n",
      " 75%|███████▌  | 60/80 [00:00<00:00, 117.99it/s]\u001b[A\n",
      "100%|██████████| 80/80 [00:00<00:00, 118.39it/s]\u001b[A\n",
      " 65%|██████▍   | 727/1125 [15:26<08:45,  1.32s/it]"
     ]
    },
    {
     "name": "stdout",
     "output_type": "stream",
     "text": [
      "/home/jiang/projects/SubtleGAN/data/brats2021/train/BraTS2021_00620\n"
     ]
    },
    {
     "name": "stderr",
     "output_type": "stream",
     "text": [
      "\n",
      "  0%|          | 0/80 [00:00<?, ?it/s]\u001b[A\n",
      " 16%|█▋        | 13/80 [00:00<00:00, 124.38it/s]\u001b[A\n",
      " 32%|███▎      | 26/80 [00:00<00:00, 123.90it/s]\u001b[A\n",
      " 49%|████▉     | 39/80 [00:00<00:00, 122.46it/s]\u001b[A\n",
      " 66%|██████▋   | 53/80 [00:00<00:00, 126.14it/s]\u001b[A\n",
      " 82%|████████▎ | 66/80 [00:00<00:00, 125.84it/s]\u001b[A\n",
      "100%|██████████| 80/80 [00:00<00:00, 123.48it/s]\u001b[A\n",
      " 65%|██████▍   | 728/1125 [15:27<08:28,  1.28s/it]"
     ]
    },
    {
     "name": "stdout",
     "output_type": "stream",
     "text": [
      "/home/jiang/projects/SubtleGAN/data/brats2021/train/BraTS2021_00757\n"
     ]
    },
    {
     "name": "stderr",
     "output_type": "stream",
     "text": [
      "\n",
      "  0%|          | 0/80 [00:00<?, ?it/s]\u001b[A\n",
      " 16%|█▋        | 13/80 [00:00<00:00, 126.70it/s]\u001b[A\n",
      " 32%|███▎      | 26/80 [00:00<00:00, 124.46it/s]\u001b[A\n",
      " 49%|████▉     | 39/80 [00:00<00:00, 121.38it/s]\u001b[A\n",
      " 65%|██████▌   | 52/80 [00:00<00:00, 122.12it/s]\u001b[A\n",
      " 81%|████████▏ | 65/80 [00:00<00:00, 121.05it/s]\u001b[A\n",
      "100%|██████████| 80/80 [00:00<00:00, 121.55it/s]\u001b[A\n",
      " 65%|██████▍   | 729/1125 [15:29<08:16,  1.25s/it]"
     ]
    },
    {
     "name": "stdout",
     "output_type": "stream",
     "text": [
      "/home/jiang/projects/SubtleGAN/data/brats2021/train/BraTS2021_01579\n"
     ]
    },
    {
     "name": "stderr",
     "output_type": "stream",
     "text": [
      "\n",
      "  0%|          | 0/80 [00:00<?, ?it/s]\u001b[A\n",
      " 15%|█▌        | 12/80 [00:00<00:00, 119.71it/s]\u001b[A\n",
      " 30%|███       | 24/80 [00:00<00:00, 118.78it/s]\u001b[A\n",
      " 46%|████▋     | 37/80 [00:00<00:00, 122.52it/s]\u001b[A\n",
      " 62%|██████▎   | 50/80 [00:00<00:00, 119.13it/s]\u001b[A\n",
      " 78%|███████▊  | 62/80 [00:00<00:00, 118.52it/s]\u001b[A\n",
      "100%|██████████| 80/80 [00:00<00:00, 118.80it/s]\u001b[A\n",
      " 65%|██████▍   | 730/1125 [15:30<09:11,  1.40s/it]"
     ]
    },
    {
     "name": "stdout",
     "output_type": "stream",
     "text": [
      "/home/jiang/projects/SubtleGAN/data/brats2021/train/BraTS2021_01516\n"
     ]
    },
    {
     "name": "stderr",
     "output_type": "stream",
     "text": [
      "\n",
      "  0%|          | 0/80 [00:00<?, ?it/s]\u001b[A\n",
      " 16%|█▋        | 13/80 [00:00<00:00, 124.03it/s]\u001b[A\n",
      " 32%|███▎      | 26/80 [00:00<00:00, 123.74it/s]\u001b[A\n",
      " 49%|████▉     | 39/80 [00:00<00:00, 122.71it/s]\u001b[A\n",
      " 65%|██████▌   | 52/80 [00:00<00:00, 121.05it/s]\u001b[A\n",
      " 81%|████████▏ | 65/80 [00:00<00:00, 118.83it/s]\u001b[A\n",
      "100%|██████████| 80/80 [00:00<00:00, 119.43it/s]\u001b[A\n",
      " 65%|██████▍   | 731/1125 [15:32<08:53,  1.35s/it]"
     ]
    },
    {
     "name": "stdout",
     "output_type": "stream",
     "text": [
      "/home/jiang/projects/SubtleGAN/data/brats2021/train/BraTS2021_01320\n"
     ]
    },
    {
     "name": "stderr",
     "output_type": "stream",
     "text": [
      "\n",
      "  0%|          | 0/80 [00:00<?, ?it/s]\u001b[A\n",
      " 16%|█▋        | 13/80 [00:00<00:00, 128.05it/s]\u001b[A\n",
      " 32%|███▎      | 26/80 [00:00<00:00, 123.65it/s]\u001b[A\n",
      " 49%|████▉     | 39/80 [00:00<00:00, 121.86it/s]\u001b[A\n",
      " 65%|██████▌   | 52/80 [00:00<00:00, 120.69it/s]\u001b[A\n",
      " 81%|████████▏ | 65/80 [00:00<00:00, 122.21it/s]\u001b[A\n",
      "100%|██████████| 80/80 [00:00<00:00, 120.68it/s]\u001b[A\n",
      " 65%|██████▌   | 732/1125 [15:33<08:45,  1.34s/it]"
     ]
    },
    {
     "name": "stdout",
     "output_type": "stream",
     "text": [
      "/home/jiang/projects/SubtleGAN/data/brats2021/train/BraTS2021_01480\n"
     ]
    },
    {
     "name": "stderr",
     "output_type": "stream",
     "text": [
      "\n",
      "  0%|          | 0/80 [00:00<?, ?it/s]\u001b[A\n",
      " 16%|█▋        | 13/80 [00:00<00:00, 120.62it/s]\u001b[A\n",
      " 32%|███▎      | 26/80 [00:00<00:00, 121.39it/s]\u001b[A\n",
      " 49%|████▉     | 39/80 [00:00<00:00, 120.79it/s]\u001b[A\n",
      " 65%|██████▌   | 52/80 [00:00<00:00, 121.39it/s]\u001b[A\n",
      " 81%|████████▏ | 65/80 [00:00<00:00, 120.81it/s]\u001b[A\n",
      "100%|██████████| 80/80 [00:00<00:00, 120.55it/s]\u001b[A\n",
      " 65%|██████▌   | 733/1125 [15:34<08:37,  1.32s/it]"
     ]
    },
    {
     "name": "stdout",
     "output_type": "stream",
     "text": [
      "/home/jiang/projects/SubtleGAN/data/brats2021/train/BraTS2021_00495\n"
     ]
    },
    {
     "name": "stderr",
     "output_type": "stream",
     "text": [
      "\n",
      "  0%|          | 0/80 [00:00<?, ?it/s]\u001b[A\n",
      " 15%|█▌        | 12/80 [00:00<00:00, 116.95it/s]\u001b[A\n",
      " 30%|███       | 24/80 [00:00<00:00, 118.24it/s]\u001b[A\n",
      " 45%|████▌     | 36/80 [00:00<00:00, 117.33it/s]\u001b[A\n",
      " 60%|██████    | 48/80 [00:00<00:00, 117.85it/s]\u001b[A\n",
      " 75%|███████▌  | 60/80 [00:00<00:00, 115.88it/s]\u001b[A\n",
      "100%|██████████| 80/80 [00:00<00:00, 116.98it/s]\u001b[A\n",
      " 65%|██████▌   | 734/1125 [15:35<08:24,  1.29s/it]"
     ]
    },
    {
     "name": "stdout",
     "output_type": "stream",
     "text": [
      "/home/jiang/projects/SubtleGAN/data/brats2021/train/BraTS2021_01381\n"
     ]
    },
    {
     "name": "stderr",
     "output_type": "stream",
     "text": [
      "\n",
      "  0%|          | 0/80 [00:00<?, ?it/s]\u001b[A\n",
      " 15%|█▌        | 12/80 [00:00<00:00, 117.75it/s]\u001b[A\n",
      " 30%|███       | 24/80 [00:00<00:00, 115.20it/s]\u001b[A\n",
      " 45%|████▌     | 36/80 [00:00<00:00, 115.78it/s]\u001b[A\n",
      " 61%|██████▏   | 49/80 [00:00<00:00, 117.38it/s]\u001b[A\n",
      " 76%|███████▋  | 61/80 [00:00<00:00, 117.03it/s]\u001b[A\n",
      "100%|██████████| 80/80 [00:00<00:00, 116.76it/s]\u001b[A\n",
      " 65%|██████▌   | 735/1125 [15:37<08:26,  1.30s/it]"
     ]
    },
    {
     "name": "stdout",
     "output_type": "stream",
     "text": [
      "/home/jiang/projects/SubtleGAN/data/brats2021/train/BraTS2021_01082\n"
     ]
    },
    {
     "name": "stderr",
     "output_type": "stream",
     "text": [
      "\n",
      "  0%|          | 0/80 [00:00<?, ?it/s]\u001b[A\n",
      " 16%|█▋        | 13/80 [00:00<00:00, 123.52it/s]\u001b[A\n",
      " 32%|███▎      | 26/80 [00:00<00:00, 120.96it/s]\u001b[A\n",
      " 49%|████▉     | 39/80 [00:00<00:00, 120.56it/s]\u001b[A\n",
      " 65%|██████▌   | 52/80 [00:00<00:00, 120.81it/s]\u001b[A\n",
      " 81%|████████▏ | 65/80 [00:00<00:00, 119.79it/s]\u001b[A\n",
      "100%|██████████| 80/80 [00:00<00:00, 119.43it/s]\u001b[A\n",
      " 65%|██████▌   | 736/1125 [15:38<08:25,  1.30s/it]"
     ]
    },
    {
     "name": "stdout",
     "output_type": "stream",
     "text": [
      "/home/jiang/projects/SubtleGAN/data/brats2021/train/BraTS2021_01281\n"
     ]
    },
    {
     "name": "stderr",
     "output_type": "stream",
     "text": [
      "\n",
      "  0%|          | 0/80 [00:00<?, ?it/s]\u001b[A\n",
      " 16%|█▋        | 13/80 [00:00<00:00, 129.37it/s]\u001b[A\n",
      " 32%|███▎      | 26/80 [00:00<00:00, 123.97it/s]\u001b[A\n",
      " 49%|████▉     | 39/80 [00:00<00:00, 125.21it/s]\u001b[A\n",
      " 65%|██████▌   | 52/80 [00:00<00:00, 123.16it/s]\u001b[A\n",
      " 81%|████████▏ | 65/80 [00:00<00:00, 121.79it/s]\u001b[A\n",
      "100%|██████████| 80/80 [00:00<00:00, 121.32it/s]\u001b[A\n",
      " 66%|██████▌   | 737/1125 [15:39<08:21,  1.29s/it]"
     ]
    },
    {
     "name": "stdout",
     "output_type": "stream",
     "text": [
      "/home/jiang/projects/SubtleGAN/data/brats2021/train/BraTS2021_00787\n"
     ]
    },
    {
     "name": "stderr",
     "output_type": "stream",
     "text": [
      "\n",
      "  0%|          | 0/80 [00:00<?, ?it/s]\u001b[A\n",
      " 16%|█▋        | 13/80 [00:00<00:00, 126.53it/s]\u001b[A\n",
      " 32%|███▎      | 26/80 [00:00<00:00, 123.14it/s]\u001b[A\n",
      " 49%|████▉     | 39/80 [00:00<00:00, 125.23it/s]\u001b[A\n",
      " 65%|██████▌   | 52/80 [00:00<00:00, 124.20it/s]\u001b[A\n",
      " 81%|████████▏ | 65/80 [00:00<00:00, 123.43it/s]\u001b[A\n",
      "100%|██████████| 80/80 [00:00<00:00, 123.39it/s]\u001b[A\n",
      " 66%|██████▌   | 738/1125 [15:41<09:06,  1.41s/it]"
     ]
    },
    {
     "name": "stdout",
     "output_type": "stream",
     "text": [
      "/home/jiang/projects/SubtleGAN/data/brats2021/train/BraTS2021_00622\n"
     ]
    },
    {
     "name": "stderr",
     "output_type": "stream",
     "text": [
      "\n",
      "  0%|          | 0/80 [00:00<?, ?it/s]\u001b[A\n",
      " 16%|█▋        | 13/80 [00:00<00:00, 126.90it/s]\u001b[A\n",
      " 32%|███▎      | 26/80 [00:00<00:00, 124.08it/s]\u001b[A\n",
      " 49%|████▉     | 39/80 [00:00<00:00, 123.54it/s]\u001b[A\n",
      " 65%|██████▌   | 52/80 [00:00<00:00, 123.28it/s]\u001b[A\n",
      " 81%|████████▏ | 65/80 [00:00<00:00, 124.04it/s]\u001b[A\n",
      "100%|██████████| 80/80 [00:00<00:00, 123.43it/s]\u001b[A\n",
      " 66%|██████▌   | 739/1125 [15:42<08:33,  1.33s/it]"
     ]
    },
    {
     "name": "stdout",
     "output_type": "stream",
     "text": [
      "/home/jiang/projects/SubtleGAN/data/brats2021/train/BraTS2021_01436\n"
     ]
    },
    {
     "name": "stderr",
     "output_type": "stream",
     "text": [
      "\n",
      "  0%|          | 0/80 [00:00<?, ?it/s]\u001b[A\n",
      " 16%|█▋        | 13/80 [00:00<00:00, 127.67it/s]\u001b[A\n",
      " 32%|███▎      | 26/80 [00:00<00:00, 98.49it/s] \u001b[A\n",
      " 48%|████▊     | 38/80 [00:00<00:00, 106.51it/s]\u001b[A\n",
      " 62%|██████▎   | 50/80 [00:00<00:00, 109.54it/s]\u001b[A\n",
      " 78%|███████▊  | 62/80 [00:00<00:00, 112.01it/s]\u001b[A\n",
      "100%|██████████| 80/80 [00:00<00:00, 111.45it/s]\u001b[A\n",
      " 66%|██████▌   | 740/1125 [15:43<08:29,  1.32s/it]"
     ]
    },
    {
     "name": "stdout",
     "output_type": "stream",
     "text": [
      "/home/jiang/projects/SubtleGAN/data/brats2021/train/BraTS2021_01274\n"
     ]
    },
    {
     "name": "stderr",
     "output_type": "stream",
     "text": [
      "\n",
      "  0%|          | 0/80 [00:00<?, ?it/s]\u001b[A\n",
      " 16%|█▋        | 13/80 [00:00<00:00, 122.86it/s]\u001b[A\n",
      " 32%|███▎      | 26/80 [00:00<00:00, 122.76it/s]\u001b[A\n",
      " 49%|████▉     | 39/80 [00:00<00:00, 118.26it/s]\u001b[A\n",
      " 64%|██████▍   | 51/80 [00:00<00:00, 116.60it/s]\u001b[A\n",
      " 80%|████████  | 64/80 [00:00<00:00, 118.90it/s]\u001b[A\n",
      "100%|██████████| 80/80 [00:00<00:00, 118.49it/s]\u001b[A\n",
      " 66%|██████▌   | 741/1125 [15:45<08:23,  1.31s/it]"
     ]
    },
    {
     "name": "stdout",
     "output_type": "stream",
     "text": [
      "/home/jiang/projects/SubtleGAN/data/brats2021/train/BraTS2021_01258\n"
     ]
    },
    {
     "name": "stderr",
     "output_type": "stream",
     "text": [
      "\n",
      "  0%|          | 0/80 [00:00<?, ?it/s]\u001b[A\n",
      " 16%|█▋        | 13/80 [00:00<00:00, 127.83it/s]\u001b[A\n",
      " 32%|███▎      | 26/80 [00:00<00:00, 122.15it/s]\u001b[A\n",
      " 49%|████▉     | 39/80 [00:00<00:00, 119.11it/s]\u001b[A\n",
      " 64%|██████▍   | 51/80 [00:00<00:00, 118.72it/s]\u001b[A\n",
      " 80%|████████  | 64/80 [00:00<00:00, 120.34it/s]\u001b[A\n",
      "100%|██████████| 80/80 [00:00<00:00, 119.94it/s]\u001b[A\n",
      " 66%|██████▌   | 742/1125 [15:46<08:19,  1.31s/it]"
     ]
    },
    {
     "name": "stdout",
     "output_type": "stream",
     "text": [
      "/home/jiang/projects/SubtleGAN/data/brats2021/train/BraTS2021_01172\n"
     ]
    },
    {
     "name": "stderr",
     "output_type": "stream",
     "text": [
      "\n",
      "  0%|          | 0/80 [00:00<?, ?it/s]\u001b[A\n",
      " 16%|█▋        | 13/80 [00:00<00:00, 121.81it/s]\u001b[A\n",
      " 32%|███▎      | 26/80 [00:00<00:00, 123.50it/s]\u001b[A\n",
      " 49%|████▉     | 39/80 [00:00<00:00, 121.93it/s]\u001b[A\n",
      " 65%|██████▌   | 52/80 [00:00<00:00, 122.40it/s]\u001b[A\n",
      " 81%|████████▏ | 65/80 [00:00<00:00, 122.00it/s]\u001b[A\n",
      "100%|██████████| 80/80 [00:00<00:00, 121.19it/s]\u001b[A\n",
      " 66%|██████▌   | 743/1125 [15:47<08:14,  1.29s/it]"
     ]
    },
    {
     "name": "stdout",
     "output_type": "stream",
     "text": [
      "/home/jiang/projects/SubtleGAN/data/brats2021/train/BraTS2021_00133\n"
     ]
    },
    {
     "name": "stderr",
     "output_type": "stream",
     "text": [
      "\n",
      "  0%|          | 0/80 [00:00<?, ?it/s]\u001b[A\n",
      " 16%|█▋        | 13/80 [00:00<00:00, 122.85it/s]\u001b[A\n",
      " 32%|███▎      | 26/80 [00:00<00:00, 124.77it/s]\u001b[A\n",
      " 49%|████▉     | 39/80 [00:00<00:00, 125.09it/s]\u001b[A\n",
      " 65%|██████▌   | 52/80 [00:00<00:00, 123.30it/s]\u001b[A\n",
      " 81%|████████▏ | 65/80 [00:00<00:00, 122.44it/s]\u001b[A\n",
      "100%|██████████| 80/80 [00:00<00:00, 122.54it/s]\u001b[A\n",
      " 66%|██████▌   | 744/1125 [15:49<08:10,  1.29s/it]"
     ]
    },
    {
     "name": "stdout",
     "output_type": "stream",
     "text": [
      "/home/jiang/projects/SubtleGAN/data/brats2021/train/BraTS2021_01323\n"
     ]
    },
    {
     "name": "stderr",
     "output_type": "stream",
     "text": [
      "\n",
      "  0%|          | 0/80 [00:00<?, ?it/s]\u001b[A\n",
      " 15%|█▌        | 12/80 [00:00<00:00, 116.98it/s]\u001b[A\n",
      " 31%|███▏      | 25/80 [00:00<00:00, 119.78it/s]\u001b[A\n",
      " 46%|████▋     | 37/80 [00:00<00:00, 118.59it/s]\u001b[A\n",
      " 62%|██████▎   | 50/80 [00:00<00:00, 122.25it/s]\u001b[A\n",
      " 79%|███████▉  | 63/80 [00:00<00:00, 120.18it/s]\u001b[A\n",
      "100%|██████████| 80/80 [00:00<00:00, 119.82it/s]\u001b[A\n",
      " 66%|██████▌   | 745/1125 [15:50<08:09,  1.29s/it]"
     ]
    },
    {
     "name": "stdout",
     "output_type": "stream",
     "text": [
      "/home/jiang/projects/SubtleGAN/data/brats2021/train/BraTS2021_01256\n"
     ]
    },
    {
     "name": "stderr",
     "output_type": "stream",
     "text": [
      "\n",
      "  0%|          | 0/80 [00:00<?, ?it/s]\u001b[A\n",
      " 15%|█▌        | 12/80 [00:00<00:00, 114.52it/s]\u001b[A\n",
      " 31%|███▏      | 25/80 [00:00<00:00, 118.46it/s]\u001b[A\n",
      " 46%|████▋     | 37/80 [00:00<00:00, 117.86it/s]\u001b[A\n",
      " 61%|██████▏   | 49/80 [00:00<00:00, 117.82it/s]\u001b[A\n",
      " 76%|███████▋  | 61/80 [00:00<00:00, 117.06it/s]\u001b[A\n",
      "100%|██████████| 80/80 [00:00<00:00, 116.25it/s]\u001b[A\n",
      " 66%|██████▋   | 746/1125 [15:51<08:10,  1.29s/it]"
     ]
    },
    {
     "name": "stdout",
     "output_type": "stream",
     "text": [
      "/home/jiang/projects/SubtleGAN/data/brats2021/train/BraTS2021_00578\n"
     ]
    },
    {
     "name": "stderr",
     "output_type": "stream",
     "text": [
      "\n",
      "  0%|          | 0/80 [00:00<?, ?it/s]\u001b[A\n",
      " 16%|█▋        | 13/80 [00:00<00:00, 124.36it/s]\u001b[A\n",
      " 32%|███▎      | 26/80 [00:00<00:00, 120.94it/s]\u001b[A\n",
      " 49%|████▉     | 39/80 [00:00<00:00, 121.29it/s]\u001b[A\n",
      " 65%|██████▌   | 52/80 [00:00<00:00, 121.50it/s]\u001b[A\n",
      " 81%|████████▏ | 65/80 [00:00<00:00, 120.49it/s]\u001b[A\n",
      "100%|██████████| 80/80 [00:00<00:00, 121.41it/s]\u001b[A\n",
      " 66%|██████▋   | 747/1125 [15:53<08:53,  1.41s/it]"
     ]
    },
    {
     "name": "stdout",
     "output_type": "stream",
     "text": [
      "/home/jiang/projects/SubtleGAN/data/brats2021/train/BraTS2021_01271\n"
     ]
    },
    {
     "name": "stderr",
     "output_type": "stream",
     "text": [
      "\n",
      "  0%|          | 0/80 [00:00<?, ?it/s]\u001b[A\n",
      " 15%|█▌        | 12/80 [00:00<00:00, 119.98it/s]\u001b[A\n",
      " 30%|███       | 24/80 [00:00<00:00, 119.13it/s]\u001b[A\n",
      " 45%|████▌     | 36/80 [00:00<00:00, 118.65it/s]\u001b[A\n",
      " 61%|██████▏   | 49/80 [00:00<00:00, 121.87it/s]\u001b[A\n",
      " 78%|███████▊  | 62/80 [00:00<00:00, 120.57it/s]\u001b[A\n",
      "100%|██████████| 80/80 [00:00<00:00, 119.92it/s]\u001b[A\n",
      " 66%|██████▋   | 748/1125 [15:54<08:34,  1.37s/it]"
     ]
    },
    {
     "name": "stdout",
     "output_type": "stream",
     "text": [
      "/home/jiang/projects/SubtleGAN/data/brats2021/train/BraTS2021_00464\n"
     ]
    },
    {
     "name": "stderr",
     "output_type": "stream",
     "text": [
      "\n",
      "  0%|          | 0/80 [00:00<?, ?it/s]\u001b[A\n",
      " 15%|█▌        | 12/80 [00:00<00:00, 119.63it/s]\u001b[A\n",
      " 30%|███       | 24/80 [00:00<00:00, 118.55it/s]\u001b[A\n",
      " 45%|████▌     | 36/80 [00:00<00:00, 115.38it/s]\u001b[A\n",
      " 60%|██████    | 48/80 [00:00<00:00, 116.82it/s]\u001b[A\n",
      " 75%|███████▌  | 60/80 [00:00<00:00, 116.69it/s]\u001b[A\n",
      "100%|██████████| 80/80 [00:00<00:00, 116.57it/s]\u001b[A\n",
      " 67%|██████▋   | 749/1125 [15:55<08:18,  1.33s/it]"
     ]
    },
    {
     "name": "stdout",
     "output_type": "stream",
     "text": [
      "/home/jiang/projects/SubtleGAN/data/brats2021/train/BraTS2021_01257\n"
     ]
    },
    {
     "name": "stderr",
     "output_type": "stream",
     "text": [
      "\n",
      "  0%|          | 0/80 [00:00<?, ?it/s]\u001b[A\n",
      " 16%|█▋        | 13/80 [00:00<00:00, 128.54it/s]\u001b[A\n",
      " 32%|███▎      | 26/80 [00:00<00:00, 123.42it/s]\u001b[A\n",
      " 49%|████▉     | 39/80 [00:00<00:00, 124.16it/s]\u001b[A\n",
      " 65%|██████▌   | 52/80 [00:00<00:00, 121.85it/s]\u001b[A\n",
      " 81%|████████▏ | 65/80 [00:00<00:00, 122.31it/s]\u001b[A\n",
      "100%|██████████| 80/80 [00:00<00:00, 121.98it/s]\u001b[A\n",
      " 67%|██████▋   | 750/1125 [15:57<08:11,  1.31s/it]"
     ]
    },
    {
     "name": "stdout",
     "output_type": "stream",
     "text": [
      "/home/jiang/projects/SubtleGAN/data/brats2021/train/BraTS2021_00096\n"
     ]
    },
    {
     "name": "stderr",
     "output_type": "stream",
     "text": [
      "\n",
      "  0%|          | 0/80 [00:00<?, ?it/s]\u001b[A\n",
      " 15%|█▌        | 12/80 [00:00<00:00, 118.20it/s]\u001b[A\n",
      " 30%|███       | 24/80 [00:00<00:00, 118.39it/s]\u001b[A\n",
      " 46%|████▋     | 37/80 [00:00<00:00, 121.87it/s]\u001b[A\n",
      " 62%|██████▎   | 50/80 [00:00<00:00, 122.25it/s]\u001b[A\n",
      " 79%|███████▉  | 63/80 [00:00<00:00, 96.23it/s] \u001b[A\n",
      "100%|██████████| 80/80 [00:00<00:00, 108.65it/s]\u001b[A\n",
      " 67%|██████▋   | 751/1125 [15:58<08:06,  1.30s/it]"
     ]
    },
    {
     "name": "stdout",
     "output_type": "stream",
     "text": [
      "/home/jiang/projects/SubtleGAN/data/brats2021/train/BraTS2021_00352\n"
     ]
    },
    {
     "name": "stderr",
     "output_type": "stream",
     "text": [
      "\n",
      "  0%|          | 0/80 [00:00<?, ?it/s]\u001b[A\n",
      " 16%|█▋        | 13/80 [00:00<00:00, 124.46it/s]\u001b[A\n",
      " 32%|███▎      | 26/80 [00:00<00:00, 124.13it/s]\u001b[A\n",
      " 49%|████▉     | 39/80 [00:00<00:00, 120.86it/s]\u001b[A\n",
      " 65%|██████▌   | 52/80 [00:00<00:00, 118.73it/s]\u001b[A\n",
      " 80%|████████  | 64/80 [00:00<00:00, 118.56it/s]\u001b[A\n",
      "100%|██████████| 80/80 [00:00<00:00, 118.48it/s]\u001b[A\n",
      " 67%|██████▋   | 752/1125 [16:00<08:48,  1.42s/it]"
     ]
    },
    {
     "name": "stdout",
     "output_type": "stream",
     "text": [
      "/home/jiang/projects/SubtleGAN/data/brats2021/train/BraTS2021_00656\n"
     ]
    },
    {
     "name": "stderr",
     "output_type": "stream",
     "text": [
      "\n",
      "  0%|          | 0/80 [00:00<?, ?it/s]\u001b[A\n",
      " 16%|█▋        | 13/80 [00:00<00:00, 119.85it/s]\u001b[A\n",
      " 31%|███▏      | 25/80 [00:00<00:00, 117.58it/s]\u001b[A\n",
      " 46%|████▋     | 37/80 [00:00<00:00, 117.03it/s]\u001b[A\n",
      " 61%|██████▏   | 49/80 [00:00<00:00, 117.48it/s]\u001b[A\n",
      " 76%|███████▋  | 61/80 [00:00<00:00, 118.23it/s]\u001b[A\n",
      "100%|██████████| 80/80 [00:00<00:00, 117.82it/s]\u001b[A\n",
      " 67%|██████▋   | 753/1125 [16:01<08:23,  1.35s/it]"
     ]
    },
    {
     "name": "stdout",
     "output_type": "stream",
     "text": [
      "/home/jiang/projects/SubtleGAN/data/brats2021/train/BraTS2021_00545\n"
     ]
    },
    {
     "name": "stderr",
     "output_type": "stream",
     "text": [
      "\n",
      "  0%|          | 0/80 [00:00<?, ?it/s]\u001b[A\n",
      " 16%|█▋        | 13/80 [00:00<00:00, 128.54it/s]\u001b[A\n",
      " 32%|███▎      | 26/80 [00:00<00:00, 121.73it/s]\u001b[A\n",
      " 49%|████▉     | 39/80 [00:00<00:00, 122.41it/s]\u001b[A\n",
      " 65%|██████▌   | 52/80 [00:00<00:00, 121.33it/s]\u001b[A\n",
      " 81%|████████▏ | 65/80 [00:00<00:00, 120.92it/s]\u001b[A\n",
      "100%|██████████| 80/80 [00:00<00:00, 120.47it/s]\u001b[A\n",
      " 67%|██████▋   | 754/1125 [16:02<08:04,  1.31s/it]"
     ]
    },
    {
     "name": "stdout",
     "output_type": "stream",
     "text": [
      "/home/jiang/projects/SubtleGAN/data/brats2021/train/BraTS2021_01424\n"
     ]
    },
    {
     "name": "stderr",
     "output_type": "stream",
     "text": [
      "\n",
      "  0%|          | 0/80 [00:00<?, ?it/s]\u001b[A\n",
      " 15%|█▌        | 12/80 [00:00<00:00, 117.62it/s]\u001b[A\n",
      " 31%|███▏      | 25/80 [00:00<00:00, 119.22it/s]\u001b[A\n",
      " 46%|████▋     | 37/80 [00:00<00:00, 118.36it/s]\u001b[A\n",
      " 62%|██████▎   | 50/80 [00:00<00:00, 120.29it/s]\u001b[A\n",
      " 79%|███████▉  | 63/80 [00:00<00:00, 121.00it/s]\u001b[A\n",
      "100%|██████████| 80/80 [00:00<00:00, 120.44it/s]\u001b[A\n",
      " 67%|██████▋   | 755/1125 [16:03<08:03,  1.31s/it]"
     ]
    },
    {
     "name": "stdout",
     "output_type": "stream",
     "text": [
      "/home/jiang/projects/SubtleGAN/data/brats2021/train/BraTS2021_01463\n"
     ]
    },
    {
     "name": "stderr",
     "output_type": "stream",
     "text": [
      "\n",
      "  0%|          | 0/80 [00:00<?, ?it/s]\u001b[A\n",
      " 16%|█▋        | 13/80 [00:00<00:00, 124.19it/s]\u001b[A\n",
      " 32%|███▎      | 26/80 [00:00<00:00, 115.67it/s]\u001b[A\n",
      " 48%|████▊     | 38/80 [00:00<00:00, 116.06it/s]\u001b[A\n",
      " 62%|██████▎   | 50/80 [00:00<00:00, 114.00it/s]\u001b[A\n",
      " 79%|███████▉  | 63/80 [00:00<00:00, 117.92it/s]\u001b[A\n",
      "100%|██████████| 80/80 [00:00<00:00, 117.18it/s]\u001b[A\n",
      " 67%|██████▋   | 756/1125 [16:05<08:00,  1.30s/it]"
     ]
    },
    {
     "name": "stdout",
     "output_type": "stream",
     "text": [
      "/home/jiang/projects/SubtleGAN/data/brats2021/train/BraTS2021_01653\n"
     ]
    },
    {
     "name": "stderr",
     "output_type": "stream",
     "text": [
      "\n",
      "  0%|          | 0/80 [00:00<?, ?it/s]\u001b[A\n",
      " 16%|█▋        | 13/80 [00:00<00:00, 121.43it/s]\u001b[A\n",
      " 32%|███▎      | 26/80 [00:00<00:00, 119.27it/s]\u001b[A\n",
      " 48%|████▊     | 38/80 [00:00<00:00, 118.95it/s]\u001b[A\n",
      " 62%|██████▎   | 50/80 [00:00<00:00, 117.04it/s]\u001b[A\n",
      " 78%|███████▊  | 62/80 [00:00<00:00, 115.80it/s]\u001b[A\n",
      "100%|██████████| 80/80 [00:00<00:00, 116.76it/s]\u001b[A\n",
      " 67%|██████▋   | 757/1125 [16:06<08:39,  1.41s/it]"
     ]
    },
    {
     "name": "stdout",
     "output_type": "stream",
     "text": [
      "/home/jiang/projects/SubtleGAN/data/brats2021/train/BraTS2021_00112\n"
     ]
    },
    {
     "name": "stderr",
     "output_type": "stream",
     "text": [
      "\n",
      "  0%|          | 0/80 [00:00<?, ?it/s]\u001b[A\n",
      " 16%|█▋        | 13/80 [00:00<00:00, 126.01it/s]\u001b[A\n",
      " 32%|███▎      | 26/80 [00:00<00:00, 119.60it/s]\u001b[A\n",
      " 48%|████▊     | 38/80 [00:00<00:00, 118.07it/s]\u001b[A\n",
      " 64%|██████▍   | 51/80 [00:00<00:00, 118.44it/s]\u001b[A\n",
      " 79%|███████▉  | 63/80 [00:00<00:00, 118.16it/s]\u001b[A\n",
      "100%|██████████| 80/80 [00:00<00:00, 119.84it/s]\u001b[A\n",
      " 67%|██████▋   | 758/1125 [16:07<08:17,  1.36s/it]"
     ]
    },
    {
     "name": "stdout",
     "output_type": "stream",
     "text": [
      "/home/jiang/projects/SubtleGAN/data/brats2021/train/BraTS2021_01379\n"
     ]
    },
    {
     "name": "stderr",
     "output_type": "stream",
     "text": [
      "\n",
      "  0%|          | 0/80 [00:00<?, ?it/s]\u001b[A\n",
      " 16%|█▋        | 13/80 [00:00<00:00, 122.59it/s]\u001b[A\n",
      " 32%|███▎      | 26/80 [00:00<00:00, 118.53it/s]\u001b[A\n",
      " 48%|████▊     | 38/80 [00:00<00:00, 115.22it/s]\u001b[A\n",
      " 64%|██████▍   | 51/80 [00:00<00:00, 116.40it/s]\u001b[A\n",
      " 80%|████████  | 64/80 [00:00<00:00, 119.80it/s]\u001b[A\n",
      "100%|██████████| 80/80 [00:00<00:00, 118.98it/s]\u001b[A\n",
      " 67%|██████▋   | 759/1125 [16:09<08:08,  1.33s/it]"
     ]
    },
    {
     "name": "stdout",
     "output_type": "stream",
     "text": [
      "/home/jiang/projects/SubtleGAN/data/brats2021/train/BraTS2021_01417\n"
     ]
    },
    {
     "name": "stderr",
     "output_type": "stream",
     "text": [
      "\n",
      "  0%|          | 0/80 [00:00<?, ?it/s]\u001b[A\n",
      " 16%|█▋        | 13/80 [00:00<00:00, 122.18it/s]\u001b[A\n",
      " 32%|███▎      | 26/80 [00:00<00:00, 122.56it/s]\u001b[A\n",
      " 49%|████▉     | 39/80 [00:00<00:00, 121.75it/s]\u001b[A\n",
      " 65%|██████▌   | 52/80 [00:00<00:00, 120.08it/s]\u001b[A\n",
      " 81%|████████▏ | 65/80 [00:00<00:00, 121.45it/s]\u001b[A\n",
      "100%|██████████| 80/80 [00:00<00:00, 121.04it/s]\u001b[A\n",
      " 68%|██████▊   | 760/1125 [16:10<08:01,  1.32s/it]"
     ]
    },
    {
     "name": "stdout",
     "output_type": "stream",
     "text": [
      "/home/jiang/projects/SubtleGAN/data/brats2021/train/BraTS2021_00537\n"
     ]
    },
    {
     "name": "stderr",
     "output_type": "stream",
     "text": [
      "\n",
      "  0%|          | 0/80 [00:00<?, ?it/s]\u001b[A\n",
      " 16%|█▋        | 13/80 [00:00<00:00, 122.51it/s]\u001b[A\n",
      " 32%|███▎      | 26/80 [00:00<00:00, 120.12it/s]\u001b[A\n",
      " 49%|████▉     | 39/80 [00:00<00:00, 121.58it/s]\u001b[A\n",
      " 65%|██████▌   | 52/80 [00:00<00:00, 119.95it/s]\u001b[A\n",
      " 81%|████████▏ | 65/80 [00:00<00:00, 119.62it/s]\u001b[A\n",
      "100%|██████████| 80/80 [00:00<00:00, 119.94it/s]\u001b[A\n",
      " 68%|██████▊   | 761/1125 [16:11<07:47,  1.29s/it]"
     ]
    },
    {
     "name": "stdout",
     "output_type": "stream",
     "text": [
      "/home/jiang/projects/SubtleGAN/data/brats2021/train/BraTS2021_01518\n"
     ]
    },
    {
     "name": "stderr",
     "output_type": "stream",
     "text": [
      "\n",
      "  0%|          | 0/80 [00:00<?, ?it/s]\u001b[A\n",
      " 15%|█▌        | 12/80 [00:00<00:00, 119.34it/s]\u001b[A\n",
      " 31%|███▏      | 25/80 [00:00<00:00, 122.41it/s]\u001b[A\n",
      " 48%|████▊     | 38/80 [00:00<00:00, 120.21it/s]\u001b[A\n",
      " 64%|██████▍   | 51/80 [00:00<00:00, 121.11it/s]\u001b[A\n",
      " 80%|████████  | 64/80 [00:00<00:00, 119.87it/s]\u001b[A\n",
      "100%|██████████| 80/80 [00:00<00:00, 118.23it/s]\u001b[A\n",
      " 68%|██████▊   | 762/1125 [16:13<07:46,  1.29s/it]"
     ]
    },
    {
     "name": "stdout",
     "output_type": "stream",
     "text": [
      "/home/jiang/projects/SubtleGAN/data/brats2021/train/BraTS2021_01182\n"
     ]
    },
    {
     "name": "stderr",
     "output_type": "stream",
     "text": [
      "\n",
      "  0%|          | 0/80 [00:00<?, ?it/s]\u001b[A\n",
      " 16%|█▋        | 13/80 [00:00<00:00, 124.18it/s]\u001b[A\n",
      " 32%|███▎      | 26/80 [00:00<00:00, 119.32it/s]\u001b[A\n",
      " 48%|████▊     | 38/80 [00:00<00:00, 119.30it/s]\u001b[A\n",
      " 62%|██████▎   | 50/80 [00:00<00:00, 117.72it/s]\u001b[A\n",
      " 79%|███████▉  | 63/80 [00:00<00:00, 119.04it/s]\u001b[A\n",
      "100%|██████████| 80/80 [00:00<00:00, 118.79it/s]\u001b[A\n",
      " 68%|██████▊   | 763/1125 [16:14<07:46,  1.29s/it]"
     ]
    },
    {
     "name": "stdout",
     "output_type": "stream",
     "text": [
      "/home/jiang/projects/SubtleGAN/data/brats2021/train/BraTS2021_01599\n"
     ]
    },
    {
     "name": "stderr",
     "output_type": "stream",
     "text": [
      "\n",
      "  0%|          | 0/80 [00:00<?, ?it/s]\u001b[A\n",
      " 16%|█▋        | 13/80 [00:00<00:00, 121.99it/s]\u001b[A\n",
      " 32%|███▎      | 26/80 [00:00<00:00, 120.95it/s]\u001b[A\n",
      " 49%|████▉     | 39/80 [00:00<00:00, 123.42it/s]\u001b[A\n",
      " 65%|██████▌   | 52/80 [00:00<00:00, 121.50it/s]\u001b[A\n",
      " 81%|████████▏ | 65/80 [00:00<00:00, 122.23it/s]\u001b[A\n",
      "100%|██████████| 80/80 [00:00<00:00, 120.75it/s]\u001b[A\n",
      " 68%|██████▊   | 764/1125 [16:15<08:25,  1.40s/it]"
     ]
    },
    {
     "name": "stdout",
     "output_type": "stream",
     "text": [
      "/home/jiang/projects/SubtleGAN/data/brats2021/train/BraTS2021_01556\n"
     ]
    },
    {
     "name": "stderr",
     "output_type": "stream",
     "text": [
      "\n",
      "  0%|          | 0/80 [00:00<?, ?it/s]\u001b[A\n",
      " 16%|█▋        | 13/80 [00:00<00:00, 124.09it/s]\u001b[A\n",
      " 32%|███▎      | 26/80 [00:00<00:00, 118.64it/s]\u001b[A\n",
      " 49%|████▉     | 39/80 [00:00<00:00, 120.00it/s]\u001b[A\n",
      " 65%|██████▌   | 52/80 [00:00<00:00, 120.21it/s]\u001b[A\n",
      " 81%|████████▏ | 65/80 [00:00<00:00, 116.68it/s]\u001b[A\n",
      "100%|██████████| 80/80 [00:00<00:00, 117.19it/s]\u001b[A\n",
      " 68%|██████▊   | 765/1125 [16:17<08:57,  1.49s/it]"
     ]
    },
    {
     "name": "stdout",
     "output_type": "stream",
     "text": [
      "/home/jiang/projects/SubtleGAN/data/brats2021/train/BraTS2021_01111\n"
     ]
    },
    {
     "name": "stderr",
     "output_type": "stream",
     "text": [
      "\n",
      "  0%|          | 0/80 [00:00<?, ?it/s]\u001b[A\n",
      " 16%|█▋        | 13/80 [00:00<00:00, 122.63it/s]\u001b[A\n",
      " 32%|███▎      | 26/80 [00:00<00:00, 121.85it/s]\u001b[A\n",
      " 49%|████▉     | 39/80 [00:00<00:00, 121.18it/s]\u001b[A\n",
      " 65%|██████▌   | 52/80 [00:00<00:00, 120.34it/s]\u001b[A\n",
      " 81%|████████▏ | 65/80 [00:00<00:00, 117.80it/s]\u001b[A\n",
      "100%|██████████| 80/80 [00:00<00:00, 118.51it/s]\u001b[A\n",
      " 68%|██████▊   | 766/1125 [16:18<08:32,  1.43s/it]"
     ]
    },
    {
     "name": "stdout",
     "output_type": "stream",
     "text": [
      "/home/jiang/projects/SubtleGAN/data/brats2021/train/BraTS2021_00602\n"
     ]
    },
    {
     "name": "stderr",
     "output_type": "stream",
     "text": [
      "\n",
      "  0%|          | 0/80 [00:00<?, ?it/s]\u001b[A\n",
      " 16%|█▋        | 13/80 [00:00<00:00, 125.09it/s]\u001b[A\n",
      " 32%|███▎      | 26/80 [00:00<00:00, 121.33it/s]\u001b[A\n",
      " 49%|████▉     | 39/80 [00:00<00:00, 120.33it/s]\u001b[A\n",
      " 65%|██████▌   | 52/80 [00:00<00:00, 118.81it/s]\u001b[A\n",
      " 80%|████████  | 64/80 [00:00<00:00, 117.97it/s]\u001b[A\n",
      "100%|██████████| 80/80 [00:00<00:00, 118.55it/s]\u001b[A\n",
      " 68%|██████▊   | 767/1125 [16:20<08:06,  1.36s/it]"
     ]
    },
    {
     "name": "stdout",
     "output_type": "stream",
     "text": [
      "/home/jiang/projects/SubtleGAN/data/brats2021/train/BraTS2021_00088\n"
     ]
    },
    {
     "name": "stderr",
     "output_type": "stream",
     "text": [
      "\n",
      "  0%|          | 0/80 [00:00<?, ?it/s]\u001b[A\n",
      " 16%|█▋        | 13/80 [00:00<00:00, 123.11it/s]\u001b[A\n",
      " 32%|███▎      | 26/80 [00:00<00:00, 117.28it/s]\u001b[A\n",
      " 48%|████▊     | 38/80 [00:00<00:00, 117.07it/s]\u001b[A\n",
      " 62%|██████▎   | 50/80 [00:00<00:00, 116.87it/s]\u001b[A\n",
      " 79%|███████▉  | 63/80 [00:00<00:00, 119.95it/s]\u001b[A\n",
      "100%|██████████| 80/80 [00:00<00:00, 118.79it/s]\u001b[A\n",
      " 68%|██████▊   | 768/1125 [16:21<07:47,  1.31s/it]"
     ]
    },
    {
     "name": "stdout",
     "output_type": "stream",
     "text": [
      "/home/jiang/projects/SubtleGAN/data/brats2021/train/BraTS2021_01306\n"
     ]
    },
    {
     "name": "stderr",
     "output_type": "stream",
     "text": [
      "\n",
      "  0%|          | 0/80 [00:00<?, ?it/s]\u001b[A\n",
      " 15%|█▌        | 12/80 [00:00<00:00, 118.14it/s]\u001b[A\n",
      " 30%|███       | 24/80 [00:00<00:00, 117.96it/s]\u001b[A\n",
      " 45%|████▌     | 36/80 [00:00<00:00, 118.33it/s]\u001b[A\n",
      " 60%|██████    | 48/80 [00:00<00:00, 115.79it/s]\u001b[A\n",
      " 75%|███████▌  | 60/80 [00:00<00:00, 115.91it/s]\u001b[A\n",
      "100%|██████████| 80/80 [00:00<00:00, 116.67it/s]\u001b[A\n",
      " 68%|██████▊   | 769/1125 [16:22<07:45,  1.31s/it]"
     ]
    },
    {
     "name": "stdout",
     "output_type": "stream",
     "text": [
      "/home/jiang/projects/SubtleGAN/data/brats2021/train/BraTS2021_00838\n"
     ]
    },
    {
     "name": "stderr",
     "output_type": "stream",
     "text": [
      "\n",
      "  0%|          | 0/80 [00:00<?, ?it/s]\u001b[A\n",
      " 16%|█▋        | 13/80 [00:00<00:00, 125.17it/s]\u001b[A\n",
      " 32%|███▎      | 26/80 [00:00<00:00, 118.85it/s]\u001b[A\n",
      " 48%|████▊     | 38/80 [00:00<00:00, 117.26it/s]\u001b[A\n",
      " 62%|██████▎   | 50/80 [00:00<00:00, 116.22it/s]\u001b[A\n",
      " 79%|███████▉  | 63/80 [00:00<00:00, 117.76it/s]\u001b[A\n",
      "100%|██████████| 80/80 [00:00<00:00, 117.99it/s]\u001b[A\n",
      " 68%|██████▊   | 770/1125 [16:23<07:38,  1.29s/it]"
     ]
    },
    {
     "name": "stdout",
     "output_type": "stream",
     "text": [
      "/home/jiang/projects/SubtleGAN/data/brats2021/train/BraTS2021_01150\n"
     ]
    },
    {
     "name": "stderr",
     "output_type": "stream",
     "text": [
      "\n",
      "  0%|          | 0/80 [00:00<?, ?it/s]\u001b[A\n",
      " 16%|█▋        | 13/80 [00:00<00:00, 119.03it/s]\u001b[A\n",
      " 31%|███▏      | 25/80 [00:00<00:00, 118.72it/s]\u001b[A\n",
      " 46%|████▋     | 37/80 [00:00<00:00, 118.29it/s]\u001b[A\n",
      " 61%|██████▏   | 49/80 [00:00<00:00, 115.66it/s]\u001b[A\n",
      " 79%|███████▉  | 63/80 [00:00<00:00, 120.54it/s]\u001b[A\n",
      "100%|██████████| 80/80 [00:00<00:00, 119.10it/s]\u001b[A\n",
      " 69%|██████▊   | 771/1125 [16:25<07:33,  1.28s/it]"
     ]
    },
    {
     "name": "stdout",
     "output_type": "stream",
     "text": [
      "/home/jiang/projects/SubtleGAN/data/brats2021/train/BraTS2021_01261\n"
     ]
    },
    {
     "name": "stderr",
     "output_type": "stream",
     "text": [
      "\n",
      "  0%|          | 0/80 [00:00<?, ?it/s]\u001b[A\n",
      " 15%|█▌        | 12/80 [00:00<00:00, 114.87it/s]\u001b[A\n",
      " 31%|███▏      | 25/80 [00:00<00:00, 119.24it/s]\u001b[A\n",
      " 46%|████▋     | 37/80 [00:00<00:00, 118.57it/s]\u001b[A\n",
      " 61%|██████▏   | 49/80 [00:00<00:00, 117.37it/s]\u001b[A\n",
      " 76%|███████▋  | 61/80 [00:00<00:00, 116.26it/s]\u001b[A\n",
      "100%|██████████| 80/80 [00:00<00:00, 116.85it/s]\u001b[A\n",
      " 69%|██████▊   | 772/1125 [16:26<07:39,  1.30s/it]"
     ]
    },
    {
     "name": "stdout",
     "output_type": "stream",
     "text": [
      "/home/jiang/projects/SubtleGAN/data/brats2021/train/BraTS2021_01055\n"
     ]
    },
    {
     "name": "stderr",
     "output_type": "stream",
     "text": [
      "\n",
      "  0%|          | 0/80 [00:00<?, ?it/s]\u001b[A\n",
      " 16%|█▋        | 13/80 [00:00<00:00, 127.71it/s]\u001b[A\n",
      " 32%|███▎      | 26/80 [00:00<00:00, 122.10it/s]\u001b[A\n",
      " 49%|████▉     | 39/80 [00:00<00:00, 120.68it/s]\u001b[A\n",
      " 65%|██████▌   | 52/80 [00:00<00:00, 115.22it/s]\u001b[A\n",
      " 80%|████████  | 64/80 [00:00<00:00, 110.41it/s]\u001b[A\n",
      "100%|██████████| 80/80 [00:00<00:00, 107.51it/s]\u001b[A\n",
      " 69%|██████▊   | 773/1125 [16:27<07:47,  1.33s/it]"
     ]
    },
    {
     "name": "stdout",
     "output_type": "stream",
     "text": [
      "/home/jiang/projects/SubtleGAN/data/brats2021/train/BraTS2021_01632\n"
     ]
    },
    {
     "name": "stderr",
     "output_type": "stream",
     "text": [
      "\n",
      "  0%|          | 0/80 [00:00<?, ?it/s]\u001b[A\n",
      " 10%|█         | 8/80 [00:00<00:00, 75.07it/s]\u001b[A\n",
      " 24%|██▍       | 19/80 [00:00<00:00, 90.12it/s]\u001b[A\n",
      " 36%|███▋      | 29/80 [00:00<00:00, 89.84it/s]\u001b[A\n",
      " 48%|████▊     | 38/80 [00:00<00:00, 87.56it/s]\u001b[A\n",
      " 59%|█████▉    | 47/80 [00:00<00:00, 85.28it/s]\u001b[A\n",
      " 72%|███████▎  | 58/80 [00:00<00:00, 92.79it/s]\u001b[A\n",
      " 88%|████████▊ | 70/80 [00:00<00:00, 98.78it/s]\u001b[A\n",
      "100%|██████████| 80/80 [00:00<00:00, 90.48it/s]\u001b[A\n",
      " 69%|██████▉   | 774/1125 [16:29<08:57,  1.53s/it]"
     ]
    },
    {
     "name": "stdout",
     "output_type": "stream",
     "text": [
      "/home/jiang/projects/SubtleGAN/data/brats2021/train/BraTS2021_01197\n"
     ]
    },
    {
     "name": "stderr",
     "output_type": "stream",
     "text": [
      "\n",
      "  0%|          | 0/80 [00:00<?, ?it/s]\u001b[A\n",
      " 16%|█▋        | 13/80 [00:00<00:00, 124.12it/s]\u001b[A\n",
      " 32%|███▎      | 26/80 [00:00<00:00, 121.48it/s]\u001b[A\n",
      " 49%|████▉     | 39/80 [00:00<00:00, 122.94it/s]\u001b[A\n",
      " 65%|██████▌   | 52/80 [00:00<00:00, 120.75it/s]\u001b[A\n",
      " 81%|████████▏ | 65/80 [00:00<00:00, 119.19it/s]\u001b[A\n",
      "100%|██████████| 80/80 [00:00<00:00, 119.29it/s]\u001b[A\n",
      " 69%|██████▉   | 775/1125 [16:31<08:27,  1.45s/it]"
     ]
    },
    {
     "name": "stdout",
     "output_type": "stream",
     "text": [
      "/home/jiang/projects/SubtleGAN/data/brats2021/train/BraTS2021_00516\n"
     ]
    },
    {
     "name": "stderr",
     "output_type": "stream",
     "text": [
      "\n",
      "  0%|          | 0/80 [00:00<?, ?it/s]\u001b[A\n",
      " 16%|█▋        | 13/80 [00:00<00:00, 123.38it/s]\u001b[A\n",
      " 32%|███▎      | 26/80 [00:00<00:00, 121.08it/s]\u001b[A\n",
      " 49%|████▉     | 39/80 [00:00<00:00, 120.30it/s]\u001b[A\n",
      " 65%|██████▌   | 52/80 [00:00<00:00, 119.00it/s]\u001b[A\n",
      " 80%|████████  | 64/80 [00:00<00:00, 118.73it/s]\u001b[A\n",
      "100%|██████████| 80/80 [00:00<00:00, 119.19it/s]\u001b[A\n",
      " 69%|██████▉   | 776/1125 [16:32<07:51,  1.35s/it]"
     ]
    },
    {
     "name": "stdout",
     "output_type": "stream",
     "text": [
      "/home/jiang/projects/SubtleGAN/data/brats2021/train/BraTS2021_01535\n"
     ]
    },
    {
     "name": "stderr",
     "output_type": "stream",
     "text": [
      "\n",
      "  0%|          | 0/80 [00:00<?, ?it/s]\u001b[A\n",
      " 16%|█▋        | 13/80 [00:00<00:00, 123.40it/s]\u001b[A\n",
      " 32%|███▎      | 26/80 [00:00<00:00, 118.96it/s]\u001b[A\n",
      " 48%|████▊     | 38/80 [00:00<00:00, 119.00it/s]\u001b[A\n",
      " 62%|██████▎   | 50/80 [00:00<00:00, 117.37it/s]\u001b[A\n",
      " 78%|███████▊  | 62/80 [00:00<00:00, 115.67it/s]\u001b[A\n",
      "100%|██████████| 80/80 [00:00<00:00, 116.89it/s]\u001b[A\n",
      " 69%|██████▉   | 777/1125 [16:33<07:44,  1.34s/it]"
     ]
    },
    {
     "name": "stdout",
     "output_type": "stream",
     "text": [
      "/home/jiang/projects/SubtleGAN/data/brats2021/train/BraTS2021_01277\n"
     ]
    },
    {
     "name": "stderr",
     "output_type": "stream",
     "text": [
      "\n",
      "  0%|          | 0/80 [00:00<?, ?it/s]\u001b[A\n",
      " 16%|█▋        | 13/80 [00:00<00:00, 122.66it/s]\u001b[A\n",
      " 32%|███▎      | 26/80 [00:00<00:00, 122.95it/s]\u001b[A\n",
      " 49%|████▉     | 39/80 [00:00<00:00, 120.68it/s]\u001b[A\n",
      " 65%|██████▌   | 52/80 [00:00<00:00, 120.19it/s]\u001b[A\n",
      " 81%|████████▏ | 65/80 [00:00<00:00, 118.22it/s]\u001b[A\n",
      "100%|██████████| 80/80 [00:00<00:00, 118.84it/s]\u001b[A\n",
      " 69%|██████▉   | 778/1125 [16:34<07:39,  1.32s/it]"
     ]
    },
    {
     "name": "stdout",
     "output_type": "stream",
     "text": [
      "/home/jiang/projects/SubtleGAN/data/brats2021/train/BraTS2021_01456\n"
     ]
    },
    {
     "name": "stderr",
     "output_type": "stream",
     "text": [
      "\n",
      "  0%|          | 0/80 [00:00<?, ?it/s]\u001b[A\n",
      " 15%|█▌        | 12/80 [00:00<00:00, 115.89it/s]\u001b[A\n",
      " 31%|███▏      | 25/80 [00:00<00:00, 118.88it/s]\u001b[A\n",
      " 46%|████▋     | 37/80 [00:00<00:00, 116.06it/s]\u001b[A\n",
      " 61%|██████▏   | 49/80 [00:00<00:00, 117.46it/s]\u001b[A\n",
      " 76%|███████▋  | 61/80 [00:00<00:00, 116.72it/s]\u001b[A\n",
      "100%|██████████| 80/80 [00:00<00:00, 116.53it/s]\u001b[A\n",
      " 69%|██████▉   | 779/1125 [16:36<07:34,  1.31s/it]"
     ]
    },
    {
     "name": "stdout",
     "output_type": "stream",
     "text": [
      "/home/jiang/projects/SubtleGAN/data/brats2021/train/BraTS2021_00031\n"
     ]
    },
    {
     "name": "stderr",
     "output_type": "stream",
     "text": [
      "\n",
      "  0%|          | 0/80 [00:00<?, ?it/s]\u001b[A\n",
      " 15%|█▌        | 12/80 [00:00<00:00, 118.98it/s]\u001b[A\n",
      " 31%|███▏      | 25/80 [00:00<00:00, 121.82it/s]\u001b[A\n",
      " 48%|████▊     | 38/80 [00:00<00:00, 119.68it/s]\u001b[A\n",
      " 62%|██████▎   | 50/80 [00:00<00:00, 119.59it/s]\u001b[A\n",
      " 79%|███████▉  | 63/80 [00:00<00:00, 120.65it/s]\u001b[A\n",
      "100%|██████████| 80/80 [00:00<00:00, 119.10it/s]\u001b[A\n",
      " 69%|██████▉   | 780/1125 [16:37<07:21,  1.28s/it]"
     ]
    },
    {
     "name": "stdout",
     "output_type": "stream",
     "text": [
      "/home/jiang/projects/SubtleGAN/data/brats2021/train/BraTS2021_01159\n"
     ]
    },
    {
     "name": "stderr",
     "output_type": "stream",
     "text": [
      "\n",
      "  0%|          | 0/80 [00:00<?, ?it/s]\u001b[A\n",
      " 16%|█▋        | 13/80 [00:00<00:00, 122.24it/s]\u001b[A\n",
      " 32%|███▎      | 26/80 [00:00<00:00, 119.28it/s]\u001b[A\n",
      " 49%|████▉     | 39/80 [00:00<00:00, 120.33it/s]\u001b[A\n",
      " 65%|██████▌   | 52/80 [00:00<00:00, 118.91it/s]\u001b[A\n",
      " 81%|████████▏ | 65/80 [00:00<00:00, 120.18it/s]\u001b[A\n",
      "100%|██████████| 80/80 [00:00<00:00, 119.17it/s]\u001b[A\n",
      " 69%|██████▉   | 781/1125 [16:38<07:11,  1.25s/it]"
     ]
    },
    {
     "name": "stdout",
     "output_type": "stream",
     "text": [
      "/home/jiang/projects/SubtleGAN/data/brats2021/train/BraTS2021_01479\n"
     ]
    },
    {
     "name": "stderr",
     "output_type": "stream",
     "text": [
      "\n",
      "  0%|          | 0/80 [00:00<?, ?it/s]\u001b[A\n",
      " 15%|█▌        | 12/80 [00:00<00:00, 119.76it/s]\u001b[A\n",
      " 31%|███▏      | 25/80 [00:00<00:00, 122.77it/s]\u001b[A\n",
      " 48%|████▊     | 38/80 [00:00<00:00, 121.17it/s]\u001b[A\n",
      " 64%|██████▍   | 51/80 [00:00<00:00, 118.44it/s]\u001b[A\n",
      " 79%|███████▉  | 63/80 [00:00<00:00, 118.36it/s]\u001b[A\n",
      "100%|██████████| 80/80 [00:00<00:00, 119.64it/s]\u001b[A\n",
      " 70%|██████▉   | 782/1125 [16:39<07:12,  1.26s/it]"
     ]
    },
    {
     "name": "stdout",
     "output_type": "stream",
     "text": [
      "/home/jiang/projects/SubtleGAN/data/brats2021/train/BraTS2021_01411\n"
     ]
    },
    {
     "name": "stderr",
     "output_type": "stream",
     "text": [
      "\n",
      "  0%|          | 0/80 [00:00<?, ?it/s]\u001b[A\n",
      " 16%|█▋        | 13/80 [00:00<00:00, 120.39it/s]\u001b[A\n",
      " 32%|███▎      | 26/80 [00:00<00:00, 115.57it/s]\u001b[A\n",
      " 48%|████▊     | 38/80 [00:00<00:00, 116.38it/s]\u001b[A\n",
      " 62%|██████▎   | 50/80 [00:00<00:00, 114.95it/s]\u001b[A\n",
      " 78%|███████▊  | 62/80 [00:00<00:00, 116.40it/s]\u001b[A\n",
      "100%|██████████| 80/80 [00:00<00:00, 116.43it/s]\u001b[A\n",
      " 70%|██████▉   | 783/1125 [16:41<07:15,  1.27s/it]"
     ]
    },
    {
     "name": "stdout",
     "output_type": "stream",
     "text": [
      "/home/jiang/projects/SubtleGAN/data/brats2021/train/BraTS2021_01345\n"
     ]
    },
    {
     "name": "stderr",
     "output_type": "stream",
     "text": [
      "\n",
      "  0%|          | 0/80 [00:00<?, ?it/s]\u001b[A\n",
      " 16%|█▋        | 13/80 [00:00<00:00, 121.39it/s]\u001b[A\n",
      " 32%|███▎      | 26/80 [00:00<00:00, 120.48it/s]\u001b[A\n",
      " 49%|████▉     | 39/80 [00:00<00:00, 120.67it/s]\u001b[A\n",
      " 65%|██████▌   | 52/80 [00:00<00:00, 120.56it/s]\u001b[A\n",
      " 81%|████████▏ | 65/80 [00:00<00:00, 121.33it/s]\u001b[A\n",
      "100%|██████████| 80/80 [00:00<00:00, 120.48it/s]\u001b[A\n",
      " 70%|██████▉   | 784/1125 [16:42<07:08,  1.26s/it]"
     ]
    },
    {
     "name": "stdout",
     "output_type": "stream",
     "text": [
      "/home/jiang/projects/SubtleGAN/data/brats2021/train/BraTS2021_01180\n"
     ]
    },
    {
     "name": "stderr",
     "output_type": "stream",
     "text": [
      "\n",
      "  0%|          | 0/80 [00:00<?, ?it/s]\u001b[A\n",
      " 16%|█▋        | 13/80 [00:00<00:00, 119.73it/s]\u001b[A\n",
      " 32%|███▎      | 26/80 [00:00<00:00, 123.00it/s]\u001b[A\n",
      " 49%|████▉     | 39/80 [00:00<00:00, 121.28it/s]\u001b[A\n",
      " 65%|██████▌   | 52/80 [00:00<00:00, 119.96it/s]\u001b[A\n",
      " 81%|████████▏ | 65/80 [00:00<00:00, 120.91it/s]\u001b[A\n",
      "100%|██████████| 80/80 [00:00<00:00, 120.42it/s]\u001b[A\n",
      " 70%|██████▉   | 785/1125 [16:43<07:06,  1.26s/it]"
     ]
    },
    {
     "name": "stdout",
     "output_type": "stream",
     "text": [
      "/home/jiang/projects/SubtleGAN/data/brats2021/train/BraTS2021_00321\n"
     ]
    },
    {
     "name": "stderr",
     "output_type": "stream",
     "text": [
      "\n",
      "  0%|          | 0/80 [00:00<?, ?it/s]\u001b[A\n",
      " 16%|█▋        | 13/80 [00:00<00:00, 127.77it/s]\u001b[A\n",
      " 32%|███▎      | 26/80 [00:00<00:00, 122.86it/s]\u001b[A\n",
      " 49%|████▉     | 39/80 [00:00<00:00, 123.38it/s]\u001b[A\n",
      " 65%|██████▌   | 52/80 [00:00<00:00, 121.17it/s]\u001b[A\n",
      " 81%|████████▏ | 65/80 [00:00<00:00, 120.99it/s]\u001b[A\n",
      "100%|██████████| 80/80 [00:00<00:00, 121.71it/s]\u001b[A\n",
      " 70%|██████▉   | 786/1125 [16:44<07:07,  1.26s/it]"
     ]
    },
    {
     "name": "stdout",
     "output_type": "stream",
     "text": [
      "/home/jiang/projects/SubtleGAN/data/brats2021/train/BraTS2021_00659\n"
     ]
    },
    {
     "name": "stderr",
     "output_type": "stream",
     "text": [
      "\n",
      "  0%|          | 0/80 [00:00<?, ?it/s]\u001b[A\n",
      " 16%|█▋        | 13/80 [00:00<00:00, 124.83it/s]\u001b[A\n",
      " 32%|███▎      | 26/80 [00:00<00:00, 120.70it/s]\u001b[A\n",
      " 49%|████▉     | 39/80 [00:00<00:00, 122.10it/s]\u001b[A\n",
      " 65%|██████▌   | 52/80 [00:00<00:00, 123.16it/s]\u001b[A\n",
      " 81%|████████▏ | 65/80 [00:00<00:00, 121.02it/s]\u001b[A\n",
      "100%|██████████| 80/80 [00:00<00:00, 120.26it/s]\u001b[A\n",
      " 70%|██████▉   | 787/1125 [16:46<06:58,  1.24s/it]"
     ]
    },
    {
     "name": "stdout",
     "output_type": "stream",
     "text": [
      "/home/jiang/projects/SubtleGAN/data/brats2021/train/BraTS2021_01156\n"
     ]
    },
    {
     "name": "stderr",
     "output_type": "stream",
     "text": [
      "\n",
      "  0%|          | 0/80 [00:00<?, ?it/s]\u001b[A\n",
      " 16%|█▋        | 13/80 [00:00<00:00, 123.68it/s]\u001b[A\n",
      " 32%|███▎      | 26/80 [00:00<00:00, 122.04it/s]\u001b[A\n",
      " 49%|████▉     | 39/80 [00:00<00:00, 121.90it/s]\u001b[A\n",
      " 65%|██████▌   | 52/80 [00:00<00:00, 121.54it/s]\u001b[A\n",
      " 81%|████████▏ | 65/80 [00:00<00:00, 121.43it/s]\u001b[A\n",
      "100%|██████████| 80/80 [00:00<00:00, 121.75it/s]\u001b[A\n",
      " 70%|███████   | 788/1125 [16:47<06:51,  1.22s/it]"
     ]
    },
    {
     "name": "stdout",
     "output_type": "stream",
     "text": [
      "/home/jiang/projects/SubtleGAN/data/brats2021/train/BraTS2021_01027\n"
     ]
    },
    {
     "name": "stderr",
     "output_type": "stream",
     "text": [
      "\n",
      "  0%|          | 0/80 [00:00<?, ?it/s]\u001b[A\n",
      " 16%|█▋        | 13/80 [00:00<00:00, 127.69it/s]\u001b[A\n",
      " 32%|███▎      | 26/80 [00:00<00:00, 119.61it/s]\u001b[A\n",
      " 48%|████▊     | 38/80 [00:00<00:00, 116.86it/s]\u001b[A\n",
      " 62%|██████▎   | 50/80 [00:00<00:00, 116.18it/s]\u001b[A\n",
      " 79%|███████▉  | 63/80 [00:00<00:00, 118.23it/s]\u001b[A\n",
      "100%|██████████| 80/80 [00:00<00:00, 119.03it/s]\u001b[A\n",
      " 70%|███████   | 789/1125 [16:48<06:46,  1.21s/it]"
     ]
    },
    {
     "name": "stdout",
     "output_type": "stream",
     "text": [
      "/home/jiang/projects/SubtleGAN/data/brats2021/train/BraTS2021_00142\n"
     ]
    },
    {
     "name": "stderr",
     "output_type": "stream",
     "text": [
      "\n",
      "  0%|          | 0/80 [00:00<?, ?it/s]\u001b[A\n",
      " 16%|█▋        | 13/80 [00:00<00:00, 125.97it/s]\u001b[A\n",
      " 32%|███▎      | 26/80 [00:00<00:00, 123.55it/s]\u001b[A\n",
      " 49%|████▉     | 39/80 [00:00<00:00, 122.73it/s]\u001b[A\n",
      " 65%|██████▌   | 52/80 [00:00<00:00, 122.07it/s]\u001b[A\n",
      " 81%|████████▏ | 65/80 [00:00<00:00, 121.25it/s]\u001b[A\n",
      "100%|██████████| 80/80 [00:00<00:00, 121.74it/s]\u001b[A\n",
      " 70%|███████   | 790/1125 [16:49<06:50,  1.23s/it]"
     ]
    },
    {
     "name": "stdout",
     "output_type": "stream",
     "text": [
      "/home/jiang/projects/SubtleGAN/data/brats2021/train/BraTS2021_01187\n"
     ]
    },
    {
     "name": "stderr",
     "output_type": "stream",
     "text": [
      "\n",
      "  0%|          | 0/80 [00:00<?, ?it/s]\u001b[A\n",
      " 15%|█▌        | 12/80 [00:00<00:00, 119.26it/s]\u001b[A\n",
      " 31%|███▏      | 25/80 [00:00<00:00, 123.27it/s]\u001b[A\n",
      " 48%|████▊     | 38/80 [00:00<00:00, 123.56it/s]\u001b[A\n",
      " 64%|██████▍   | 51/80 [00:00<00:00, 122.90it/s]\u001b[A\n",
      " 80%|████████  | 64/80 [00:00<00:00, 121.64it/s]\u001b[A\n",
      "100%|██████████| 80/80 [00:00<00:00, 120.97it/s]\u001b[A\n",
      " 70%|███████   | 791/1125 [16:50<06:52,  1.23s/it]"
     ]
    },
    {
     "name": "stdout",
     "output_type": "stream",
     "text": [
      "/home/jiang/projects/SubtleGAN/data/brats2021/train/BraTS2021_00242\n"
     ]
    },
    {
     "name": "stderr",
     "output_type": "stream",
     "text": [
      "\n",
      "  0%|          | 0/80 [00:00<?, ?it/s]\u001b[A\n",
      " 16%|█▋        | 13/80 [00:00<00:00, 124.99it/s]\u001b[A\n",
      " 32%|███▎      | 26/80 [00:00<00:00, 123.71it/s]\u001b[A\n",
      " 49%|████▉     | 39/80 [00:00<00:00, 120.86it/s]\u001b[A\n",
      " 65%|██████▌   | 52/80 [00:00<00:00, 123.28it/s]\u001b[A\n",
      " 81%|████████▏ | 65/80 [00:00<00:00, 122.74it/s]\u001b[A\n",
      "100%|██████████| 80/80 [00:00<00:00, 121.72it/s]\u001b[A\n",
      " 70%|███████   | 792/1125 [16:52<06:54,  1.24s/it]"
     ]
    },
    {
     "name": "stdout",
     "output_type": "stream",
     "text": [
      "/home/jiang/projects/SubtleGAN/data/brats2021/train/BraTS2021_01591\n"
     ]
    },
    {
     "name": "stderr",
     "output_type": "stream",
     "text": [
      "\n",
      "  0%|          | 0/80 [00:00<?, ?it/s]\u001b[A\n",
      " 16%|█▋        | 13/80 [00:00<00:00, 121.44it/s]\u001b[A\n",
      " 32%|███▎      | 26/80 [00:00<00:00, 118.04it/s]\u001b[A\n",
      " 48%|████▊     | 38/80 [00:00<00:00, 117.77it/s]\u001b[A\n",
      " 64%|██████▍   | 51/80 [00:00<00:00, 118.61it/s]\u001b[A\n",
      " 80%|████████  | 64/80 [00:00<00:00, 121.31it/s]\u001b[A\n",
      "100%|██████████| 80/80 [00:00<00:00, 120.61it/s]\u001b[A\n",
      " 70%|███████   | 793/1125 [16:53<07:32,  1.36s/it]"
     ]
    },
    {
     "name": "stdout",
     "output_type": "stream",
     "text": [
      "/home/jiang/projects/SubtleGAN/data/brats2021/train/BraTS2021_01522\n"
     ]
    },
    {
     "name": "stderr",
     "output_type": "stream",
     "text": [
      "\n",
      "  0%|          | 0/80 [00:00<?, ?it/s]\u001b[A\n",
      " 15%|█▌        | 12/80 [00:00<00:00, 119.75it/s]\u001b[A\n",
      " 31%|███▏      | 25/80 [00:00<00:00, 122.03it/s]\u001b[A\n",
      " 48%|████▊     | 38/80 [00:00<00:00, 120.45it/s]\u001b[A\n",
      " 64%|██████▍   | 51/80 [00:00<00:00, 121.52it/s]\u001b[A\n",
      " 80%|████████  | 64/80 [00:00<00:00, 120.40it/s]\u001b[A\n",
      "100%|██████████| 80/80 [00:00<00:00, 120.66it/s]\u001b[A\n",
      " 71%|███████   | 794/1125 [16:55<07:21,  1.33s/it]"
     ]
    },
    {
     "name": "stdout",
     "output_type": "stream",
     "text": [
      "/home/jiang/projects/SubtleGAN/data/brats2021/train/BraTS2021_01511\n"
     ]
    },
    {
     "name": "stderr",
     "output_type": "stream",
     "text": [
      "\n",
      "  0%|          | 0/80 [00:00<?, ?it/s]\u001b[A\n",
      " 15%|█▌        | 12/80 [00:00<00:00, 118.75it/s]\u001b[A\n",
      " 31%|███▏      | 25/80 [00:00<00:00, 121.57it/s]\u001b[A\n",
      " 48%|████▊     | 38/80 [00:00<00:00, 122.58it/s]\u001b[A\n",
      " 64%|██████▍   | 51/80 [00:00<00:00, 121.59it/s]\u001b[A\n",
      " 80%|████████  | 64/80 [00:00<00:00, 119.82it/s]\u001b[A\n",
      "100%|██████████| 80/80 [00:00<00:00, 107.93it/s]\u001b[A\n",
      " 71%|███████   | 795/1125 [16:56<07:22,  1.34s/it]"
     ]
    },
    {
     "name": "stdout",
     "output_type": "stream",
     "text": [
      "/home/jiang/projects/SubtleGAN/data/brats2021/train/BraTS2021_01267\n"
     ]
    },
    {
     "name": "stderr",
     "output_type": "stream",
     "text": [
      "\n",
      "  0%|          | 0/80 [00:00<?, ?it/s]\u001b[A\n",
      " 16%|█▋        | 13/80 [00:00<00:00, 123.86it/s]\u001b[A\n",
      " 32%|███▎      | 26/80 [00:00<00:00, 123.89it/s]\u001b[A\n",
      " 49%|████▉     | 39/80 [00:00<00:00, 121.57it/s]\u001b[A\n",
      " 65%|██████▌   | 52/80 [00:00<00:00, 122.63it/s]\u001b[A\n",
      " 81%|████████▏ | 65/80 [00:00<00:00, 121.58it/s]\u001b[A\n",
      "100%|██████████| 80/80 [00:00<00:00, 121.16it/s]\u001b[A\n",
      " 71%|███████   | 796/1125 [16:57<07:21,  1.34s/it]"
     ]
    },
    {
     "name": "stdout",
     "output_type": "stream",
     "text": [
      "/home/jiang/projects/SubtleGAN/data/brats2021/train/BraTS2021_01254\n"
     ]
    },
    {
     "name": "stderr",
     "output_type": "stream",
     "text": [
      "\n",
      "  0%|          | 0/80 [00:00<?, ?it/s]\u001b[A\n",
      " 16%|█▋        | 13/80 [00:00<00:00, 124.49it/s]\u001b[A\n",
      " 32%|███▎      | 26/80 [00:00<00:00, 121.94it/s]\u001b[A\n",
      " 49%|████▉     | 39/80 [00:00<00:00, 124.36it/s]\u001b[A\n",
      " 65%|██████▌   | 52/80 [00:00<00:00, 124.94it/s]\u001b[A\n",
      " 81%|████████▏ | 65/80 [00:00<00:00, 122.02it/s]\u001b[A\n",
      "100%|██████████| 80/80 [00:00<00:00, 121.18it/s]\u001b[A\n",
      " 71%|███████   | 797/1125 [16:59<07:11,  1.32s/it]"
     ]
    },
    {
     "name": "stdout",
     "output_type": "stream",
     "text": [
      "/home/jiang/projects/SubtleGAN/data/brats2021/train/BraTS2021_00570\n"
     ]
    },
    {
     "name": "stderr",
     "output_type": "stream",
     "text": [
      "\n",
      "  0%|          | 0/80 [00:00<?, ?it/s]\u001b[A\n",
      " 16%|█▋        | 13/80 [00:00<00:00, 125.63it/s]\u001b[A\n",
      " 32%|███▎      | 26/80 [00:00<00:00, 121.54it/s]\u001b[A\n",
      " 49%|████▉     | 39/80 [00:00<00:00, 123.18it/s]\u001b[A\n",
      " 65%|██████▌   | 52/80 [00:00<00:00, 121.71it/s]\u001b[A\n",
      " 81%|████████▏ | 65/80 [00:00<00:00, 122.47it/s]\u001b[A\n",
      "100%|██████████| 80/80 [00:00<00:00, 122.37it/s]\u001b[A\n",
      " 71%|███████   | 798/1125 [17:00<07:37,  1.40s/it]"
     ]
    },
    {
     "name": "stdout",
     "output_type": "stream",
     "text": [
      "/home/jiang/projects/SubtleGAN/data/brats2021/train/BraTS2021_00692\n"
     ]
    },
    {
     "name": "stderr",
     "output_type": "stream",
     "text": [
      "\n",
      "  0%|          | 0/80 [00:00<?, ?it/s]\u001b[A\n",
      " 16%|█▋        | 13/80 [00:00<00:00, 121.70it/s]\u001b[A\n",
      " 32%|███▎      | 26/80 [00:00<00:00, 120.91it/s]\u001b[A\n",
      " 49%|████▉     | 39/80 [00:00<00:00, 93.75it/s] \u001b[A\n",
      " 65%|██████▌   | 52/80 [00:00<00:00, 102.35it/s]\u001b[A\n",
      " 80%|████████  | 64/80 [00:00<00:00, 107.19it/s]\u001b[A\n",
      "100%|██████████| 80/80 [00:00<00:00, 109.66it/s]\u001b[A\n",
      " 71%|███████   | 799/1125 [17:01<07:22,  1.36s/it]"
     ]
    },
    {
     "name": "stdout",
     "output_type": "stream",
     "text": [
      "/home/jiang/projects/SubtleGAN/data/brats2021/train/BraTS2021_01400\n"
     ]
    },
    {
     "name": "stderr",
     "output_type": "stream",
     "text": [
      "\n",
      "  0%|          | 0/80 [00:00<?, ?it/s]\u001b[A\n",
      " 16%|█▋        | 13/80 [00:00<00:00, 125.48it/s]\u001b[A\n",
      " 32%|███▎      | 26/80 [00:00<00:00, 119.68it/s]\u001b[A\n",
      " 48%|████▊     | 38/80 [00:00<00:00, 118.20it/s]\u001b[A\n",
      " 62%|██████▎   | 50/80 [00:00<00:00, 118.38it/s]\u001b[A\n",
      " 78%|███████▊  | 62/80 [00:00<00:00, 117.77it/s]\u001b[A\n",
      "100%|██████████| 80/80 [00:00<00:00, 117.80it/s]\u001b[A\n",
      " 71%|███████   | 800/1125 [17:03<07:16,  1.34s/it]"
     ]
    },
    {
     "name": "stdout",
     "output_type": "stream",
     "text": [
      "/home/jiang/projects/SubtleGAN/data/brats2021/train/BraTS2021_00269\n"
     ]
    },
    {
     "name": "stderr",
     "output_type": "stream",
     "text": [
      "\n",
      "  0%|          | 0/80 [00:00<?, ?it/s]\u001b[A\n",
      " 16%|█▋        | 13/80 [00:00<00:00, 123.89it/s]\u001b[A\n",
      " 32%|███▎      | 26/80 [00:00<00:00, 122.98it/s]\u001b[A\n",
      " 49%|████▉     | 39/80 [00:00<00:00, 122.75it/s]\u001b[A\n",
      " 65%|██████▌   | 52/80 [00:00<00:00, 122.98it/s]\u001b[A\n",
      " 81%|████████▏ | 65/80 [00:00<00:00, 122.59it/s]\u001b[A\n",
      "100%|██████████| 80/80 [00:00<00:00, 121.73it/s]\u001b[A\n",
      " 71%|███████   | 801/1125 [17:04<07:09,  1.33s/it]"
     ]
    },
    {
     "name": "stdout",
     "output_type": "stream",
     "text": [
      "/home/jiang/projects/SubtleGAN/data/brats2021/train/BraTS2021_00305\n"
     ]
    },
    {
     "name": "stderr",
     "output_type": "stream",
     "text": [
      "\n",
      "  0%|          | 0/80 [00:00<?, ?it/s]\u001b[A\n",
      " 16%|█▋        | 13/80 [00:00<00:00, 120.73it/s]\u001b[A\n",
      " 32%|███▎      | 26/80 [00:00<00:00, 120.08it/s]\u001b[A\n",
      " 49%|████▉     | 39/80 [00:00<00:00, 117.43it/s]\u001b[A\n",
      " 64%|██████▍   | 51/80 [00:00<00:00, 117.51it/s]\u001b[A\n",
      " 80%|████████  | 64/80 [00:00<00:00, 120.15it/s]\u001b[A\n",
      "100%|██████████| 80/80 [00:00<00:00, 102.89it/s]\u001b[A\n",
      " 71%|███████▏  | 802/1125 [17:05<07:13,  1.34s/it]"
     ]
    },
    {
     "name": "stdout",
     "output_type": "stream",
     "text": [
      "/home/jiang/projects/SubtleGAN/data/brats2021/train/BraTS2021_00698\n"
     ]
    },
    {
     "name": "stderr",
     "output_type": "stream",
     "text": [
      "\n",
      "  0%|          | 0/80 [00:00<?, ?it/s]\u001b[A\n",
      " 16%|█▋        | 13/80 [00:00<00:00, 123.93it/s]\u001b[A\n",
      " 32%|███▎      | 26/80 [00:00<00:00, 121.75it/s]\u001b[A\n",
      " 49%|████▉     | 39/80 [00:00<00:00, 123.14it/s]\u001b[A\n",
      " 65%|██████▌   | 52/80 [00:00<00:00, 124.02it/s]\u001b[A\n",
      " 81%|████████▏ | 65/80 [00:00<00:00, 124.89it/s]\u001b[A\n",
      "100%|██████████| 80/80 [00:00<00:00, 116.85it/s]\u001b[A\n",
      " 71%|███████▏  | 803/1125 [17:07<07:01,  1.31s/it]"
     ]
    },
    {
     "name": "stdout",
     "output_type": "stream",
     "text": [
      "/home/jiang/projects/SubtleGAN/data/brats2021/train/BraTS2021_00107\n"
     ]
    },
    {
     "name": "stderr",
     "output_type": "stream",
     "text": [
      "\n",
      "  0%|          | 0/80 [00:00<?, ?it/s]\u001b[A\n",
      " 18%|█▊        | 14/80 [00:00<00:00, 132.81it/s]\u001b[A\n",
      " 35%|███▌      | 28/80 [00:00<00:00, 126.80it/s]\u001b[A\n",
      " 51%|█████▏    | 41/80 [00:00<00:00, 121.40it/s]\u001b[A\n",
      " 68%|██████▊   | 54/80 [00:00<00:00, 119.47it/s]\u001b[A\n",
      " 82%|████████▎ | 66/80 [00:00<00:00, 119.12it/s]\u001b[A\n",
      "100%|██████████| 80/80 [00:00<00:00, 120.03it/s]\u001b[A\n",
      " 71%|███████▏  | 804/1125 [17:08<07:02,  1.32s/it]"
     ]
    },
    {
     "name": "stdout",
     "output_type": "stream",
     "text": [
      "/home/jiang/projects/SubtleGAN/data/brats2021/train/BraTS2021_01533\n"
     ]
    },
    {
     "name": "stderr",
     "output_type": "stream",
     "text": [
      "\n",
      "  0%|          | 0/80 [00:00<?, ?it/s]\u001b[A\n",
      " 15%|█▌        | 12/80 [00:00<00:00, 118.04it/s]\u001b[A\n",
      " 30%|███       | 24/80 [00:00<00:00, 116.33it/s]\u001b[A\n",
      " 45%|████▌     | 36/80 [00:00<00:00, 116.50it/s]\u001b[A\n",
      " 61%|██████▏   | 49/80 [00:00<00:00, 117.90it/s]\u001b[A\n",
      " 78%|███████▊  | 62/80 [00:00<00:00, 120.08it/s]\u001b[A\n",
      "100%|██████████| 80/80 [00:00<00:00, 118.83it/s]\u001b[A\n",
      " 72%|███████▏  | 805/1125 [17:09<06:58,  1.31s/it]"
     ]
    },
    {
     "name": "stdout",
     "output_type": "stream",
     "text": [
      "/home/jiang/projects/SubtleGAN/data/brats2021/train/BraTS2021_00303\n"
     ]
    },
    {
     "name": "stderr",
     "output_type": "stream",
     "text": [
      "\n",
      "  0%|          | 0/80 [00:00<?, ?it/s]\u001b[A\n",
      " 15%|█▌        | 12/80 [00:00<00:00, 112.41it/s]\u001b[A\n",
      " 31%|███▏      | 25/80 [00:00<00:00, 120.67it/s]\u001b[A\n",
      " 48%|████▊     | 38/80 [00:00<00:00, 123.51it/s]\u001b[A\n",
      " 64%|██████▍   | 51/80 [00:00<00:00, 125.72it/s]\u001b[A\n",
      "100%|██████████| 80/80 [00:00<00:00, 131.80it/s]\u001b[A\n",
      " 72%|███████▏  | 806/1125 [17:11<06:51,  1.29s/it]"
     ]
    },
    {
     "name": "stdout",
     "output_type": "stream",
     "text": [
      "/home/jiang/projects/SubtleGAN/data/brats2021/train/BraTS2021_01008\n"
     ]
    },
    {
     "name": "stderr",
     "output_type": "stream",
     "text": [
      "\n",
      "  0%|          | 0/80 [00:00<?, ?it/s]\u001b[A\n",
      " 20%|██        | 16/80 [00:00<00:00, 159.28it/s]\u001b[A\n",
      " 40%|████      | 32/80 [00:00<00:00, 157.54it/s]\u001b[A\n",
      " 60%|██████    | 48/80 [00:00<00:00, 157.35it/s]\u001b[A\n",
      " 80%|████████  | 64/80 [00:00<00:00, 156.65it/s]\u001b[A\n",
      "100%|██████████| 80/80 [00:00<00:00, 156.23it/s]\u001b[A\n",
      " 72%|███████▏  | 807/1125 [17:12<06:26,  1.21s/it]"
     ]
    },
    {
     "name": "stdout",
     "output_type": "stream",
     "text": [
      "/home/jiang/projects/SubtleGAN/data/brats2021/train/BraTS2021_01025\n"
     ]
    },
    {
     "name": "stderr",
     "output_type": "stream",
     "text": [
      "\n",
      "  0%|          | 0/80 [00:00<?, ?it/s]\u001b[A\n",
      " 20%|██        | 16/80 [00:00<00:00, 156.23it/s]\u001b[A\n",
      " 40%|████      | 32/80 [00:00<00:00, 155.28it/s]\u001b[A\n",
      " 60%|██████    | 48/80 [00:00<00:00, 153.40it/s]\u001b[A\n",
      " 80%|████████  | 64/80 [00:00<00:00, 150.99it/s]\u001b[A\n",
      "100%|██████████| 80/80 [00:00<00:00, 151.16it/s]\u001b[A\n",
      " 72%|███████▏  | 808/1125 [17:13<06:08,  1.16s/it]"
     ]
    },
    {
     "name": "stdout",
     "output_type": "stream",
     "text": [
      "/home/jiang/projects/SubtleGAN/data/brats2021/train/BraTS2021_00273\n"
     ]
    },
    {
     "name": "stderr",
     "output_type": "stream",
     "text": [
      "\n",
      "  0%|          | 0/80 [00:00<?, ?it/s]\u001b[A\n",
      " 20%|██        | 16/80 [00:00<00:00, 153.23it/s]\u001b[A\n",
      " 40%|████      | 32/80 [00:00<00:00, 152.66it/s]\u001b[A\n",
      " 60%|██████    | 48/80 [00:00<00:00, 151.60it/s]\u001b[A\n",
      " 80%|████████  | 64/80 [00:00<00:00, 153.03it/s]\u001b[A\n",
      "100%|██████████| 80/80 [00:00<00:00, 152.70it/s]\u001b[A\n",
      " 72%|███████▏  | 809/1125 [17:14<05:57,  1.13s/it]"
     ]
    },
    {
     "name": "stdout",
     "output_type": "stream",
     "text": [
      "/home/jiang/projects/SubtleGAN/data/brats2021/train/BraTS2021_00519\n"
     ]
    },
    {
     "name": "stderr",
     "output_type": "stream",
     "text": [
      "\n",
      "  0%|          | 0/80 [00:00<?, ?it/s]\u001b[A\n",
      " 20%|██        | 16/80 [00:00<00:00, 159.41it/s]\u001b[A\n",
      " 40%|████      | 32/80 [00:00<00:00, 158.03it/s]\u001b[A\n",
      " 60%|██████    | 48/80 [00:00<00:00, 157.23it/s]\u001b[A\n",
      " 80%|████████  | 64/80 [00:00<00:00, 155.84it/s]\u001b[A\n",
      "100%|██████████| 80/80 [00:00<00:00, 155.67it/s]\u001b[A\n",
      " 72%|███████▏  | 810/1125 [17:15<05:40,  1.08s/it]"
     ]
    },
    {
     "name": "stdout",
     "output_type": "stream",
     "text": [
      "/home/jiang/projects/SubtleGAN/data/brats2021/train/BraTS2021_00773\n"
     ]
    },
    {
     "name": "stderr",
     "output_type": "stream",
     "text": [
      "\n",
      "  0%|          | 0/80 [00:00<?, ?it/s]\u001b[A\n",
      " 20%|██        | 16/80 [00:00<00:00, 157.66it/s]\u001b[A\n",
      " 40%|████      | 32/80 [00:00<00:00, 156.46it/s]\u001b[A\n",
      " 60%|██████    | 48/80 [00:00<00:00, 155.96it/s]\u001b[A\n",
      " 80%|████████  | 64/80 [00:00<00:00, 156.17it/s]\u001b[A\n",
      "100%|██████████| 80/80 [00:00<00:00, 155.19it/s]\u001b[A\n",
      " 72%|███████▏  | 811/1125 [17:16<05:27,  1.04s/it]"
     ]
    },
    {
     "name": "stdout",
     "output_type": "stream",
     "text": [
      "/home/jiang/projects/SubtleGAN/data/brats2021/train/BraTS2021_01523\n"
     ]
    },
    {
     "name": "stderr",
     "output_type": "stream",
     "text": [
      "\n",
      "  0%|          | 0/80 [00:00<?, ?it/s]\u001b[A\n",
      " 20%|██        | 16/80 [00:00<00:00, 154.96it/s]\u001b[A\n",
      " 40%|████      | 32/80 [00:00<00:00, 153.11it/s]\u001b[A\n",
      " 60%|██████    | 48/80 [00:00<00:00, 152.57it/s]\u001b[A\n",
      " 80%|████████  | 64/80 [00:00<00:00, 153.06it/s]\u001b[A\n",
      "100%|██████████| 80/80 [00:00<00:00, 133.45it/s]\u001b[A\n",
      " 72%|███████▏  | 812/1125 [17:17<05:34,  1.07s/it]"
     ]
    },
    {
     "name": "stdout",
     "output_type": "stream",
     "text": [
      "/home/jiang/projects/SubtleGAN/data/brats2021/train/BraTS2021_00828\n"
     ]
    },
    {
     "name": "stderr",
     "output_type": "stream",
     "text": [
      "\n",
      "  0%|          | 0/80 [00:00<?, ?it/s]\u001b[A\n",
      " 20%|██        | 16/80 [00:00<00:00, 156.54it/s]\u001b[A\n",
      " 40%|████      | 32/80 [00:00<00:00, 155.25it/s]\u001b[A\n",
      " 60%|██████    | 48/80 [00:00<00:00, 155.73it/s]\u001b[A\n",
      " 80%|████████  | 64/80 [00:00<00:00, 156.18it/s]\u001b[A\n",
      "100%|██████████| 80/80 [00:00<00:00, 155.59it/s]\u001b[A\n",
      " 72%|███████▏  | 813/1125 [17:18<06:00,  1.16s/it]"
     ]
    },
    {
     "name": "stdout",
     "output_type": "stream",
     "text": [
      "/home/jiang/projects/SubtleGAN/data/brats2021/train/BraTS2021_01131\n"
     ]
    },
    {
     "name": "stderr",
     "output_type": "stream",
     "text": [
      "\n",
      "  0%|          | 0/80 [00:00<?, ?it/s]\u001b[A\n",
      " 20%|██        | 16/80 [00:00<00:00, 157.88it/s]\u001b[A\n",
      " 40%|████      | 32/80 [00:00<00:00, 157.75it/s]\u001b[A\n",
      " 60%|██████    | 48/80 [00:00<00:00, 157.58it/s]\u001b[A\n",
      " 80%|████████  | 64/80 [00:00<00:00, 157.50it/s]\u001b[A\n",
      "100%|██████████| 80/80 [00:00<00:00, 156.62it/s]\u001b[A\n",
      " 72%|███████▏  | 814/1125 [17:19<05:46,  1.11s/it]"
     ]
    },
    {
     "name": "stdout",
     "output_type": "stream",
     "text": [
      "/home/jiang/projects/SubtleGAN/data/brats2021/train/BraTS2021_01189\n"
     ]
    },
    {
     "name": "stderr",
     "output_type": "stream",
     "text": [
      "\n",
      "  0%|          | 0/80 [00:00<?, ?it/s]\u001b[A\n",
      " 20%|██        | 16/80 [00:00<00:00, 158.09it/s]\u001b[A\n",
      " 40%|████      | 32/80 [00:00<00:00, 157.74it/s]\u001b[A\n",
      " 60%|██████    | 48/80 [00:00<00:00, 154.28it/s]\u001b[A\n",
      " 80%|████████  | 64/80 [00:00<00:00, 152.72it/s]\u001b[A\n",
      "100%|██████████| 80/80 [00:00<00:00, 152.41it/s]\u001b[A\n",
      " 72%|███████▏  | 815/1125 [17:20<05:37,  1.09s/it]"
     ]
    },
    {
     "name": "stdout",
     "output_type": "stream",
     "text": [
      "/home/jiang/projects/SubtleGAN/data/brats2021/train/BraTS2021_01619\n"
     ]
    },
    {
     "name": "stderr",
     "output_type": "stream",
     "text": [
      "\n",
      "  0%|          | 0/80 [00:00<?, ?it/s]\u001b[A\n",
      " 20%|██        | 16/80 [00:00<00:00, 159.76it/s]\u001b[A\n",
      " 40%|████      | 32/80 [00:00<00:00, 158.09it/s]\u001b[A\n",
      " 60%|██████    | 48/80 [00:00<00:00, 157.44it/s]\u001b[A\n",
      " 80%|████████  | 64/80 [00:00<00:00, 157.42it/s]\u001b[A\n",
      "100%|██████████| 80/80 [00:00<00:00, 155.22it/s]\u001b[A\n",
      " 73%|███████▎  | 816/1125 [17:21<06:01,  1.17s/it]"
     ]
    },
    {
     "name": "stdout",
     "output_type": "stream",
     "text": [
      "/home/jiang/projects/SubtleGAN/data/brats2021/train/BraTS2021_01561\n"
     ]
    },
    {
     "name": "stderr",
     "output_type": "stream",
     "text": [
      "\n",
      "  0%|          | 0/80 [00:00<?, ?it/s]\u001b[A\n",
      " 21%|██▏       | 17/80 [00:00<00:00, 160.33it/s]\u001b[A\n",
      " 42%|████▎     | 34/80 [00:00<00:00, 158.39it/s]\u001b[A\n",
      " 62%|██████▎   | 50/80 [00:00<00:00, 157.73it/s]\u001b[A\n",
      "100%|██████████| 80/80 [00:00<00:00, 157.66it/s]\u001b[A\n",
      " 73%|███████▎  | 817/1125 [17:23<06:13,  1.21s/it]"
     ]
    },
    {
     "name": "stdout",
     "output_type": "stream",
     "text": [
      "/home/jiang/projects/SubtleGAN/data/brats2021/train/BraTS2021_01112\n"
     ]
    },
    {
     "name": "stderr",
     "output_type": "stream",
     "text": [
      "\n",
      "  0%|          | 0/80 [00:00<?, ?it/s]\u001b[A\n",
      " 21%|██▏       | 17/80 [00:00<00:00, 160.35it/s]\u001b[A\n",
      " 42%|████▎     | 34/80 [00:00<00:00, 158.73it/s]\u001b[A\n",
      " 62%|██████▎   | 50/80 [00:00<00:00, 157.65it/s]\u001b[A\n",
      "100%|██████████| 80/80 [00:00<00:00, 157.52it/s]\u001b[A\n",
      " 73%|███████▎  | 818/1125 [17:24<05:55,  1.16s/it]"
     ]
    },
    {
     "name": "stdout",
     "output_type": "stream",
     "text": [
      "/home/jiang/projects/SubtleGAN/data/brats2021/train/BraTS2021_00732\n"
     ]
    },
    {
     "name": "stderr",
     "output_type": "stream",
     "text": [
      "\n",
      "  0%|          | 0/80 [00:00<?, ?it/s]\u001b[A\n",
      " 20%|██        | 16/80 [00:00<00:00, 158.80it/s]\u001b[A\n",
      " 40%|████      | 32/80 [00:00<00:00, 157.50it/s]\u001b[A\n",
      " 60%|██████    | 48/80 [00:00<00:00, 157.49it/s]\u001b[A\n",
      " 80%|████████  | 64/80 [00:00<00:00, 157.50it/s]\u001b[A\n",
      "100%|██████████| 80/80 [00:00<00:00, 156.46it/s]\u001b[A\n",
      " 73%|███████▎  | 819/1125 [17:25<05:34,  1.09s/it]"
     ]
    },
    {
     "name": "stdout",
     "output_type": "stream",
     "text": [
      "/home/jiang/projects/SubtleGAN/data/brats2021/train/BraTS2021_01441\n"
     ]
    },
    {
     "name": "stderr",
     "output_type": "stream",
     "text": [
      "\n",
      "  0%|          | 0/80 [00:00<?, ?it/s]\u001b[A\n",
      " 20%|██        | 16/80 [00:00<00:00, 159.67it/s]\u001b[A\n",
      " 40%|████      | 32/80 [00:00<00:00, 158.22it/s]\u001b[A\n",
      " 60%|██████    | 48/80 [00:00<00:00, 158.12it/s]\u001b[A\n",
      " 80%|████████  | 64/80 [00:00<00:00, 158.19it/s]\u001b[A\n",
      "100%|██████████| 80/80 [00:00<00:00, 157.25it/s]\u001b[A\n",
      " 73%|███████▎  | 820/1125 [17:26<05:28,  1.08s/it]"
     ]
    },
    {
     "name": "stdout",
     "output_type": "stream",
     "text": [
      "/home/jiang/projects/SubtleGAN/data/brats2021/train/BraTS2021_00587\n"
     ]
    },
    {
     "name": "stderr",
     "output_type": "stream",
     "text": [
      "\n",
      "  0%|          | 0/80 [00:00<?, ?it/s]\u001b[A\n",
      " 20%|██        | 16/80 [00:00<00:00, 159.13it/s]\u001b[A\n",
      " 40%|████      | 32/80 [00:00<00:00, 157.72it/s]\u001b[A\n",
      " 60%|██████    | 48/80 [00:00<00:00, 157.30it/s]\u001b[A\n",
      " 80%|████████  | 64/80 [00:00<00:00, 157.07it/s]\u001b[A\n",
      "100%|██████████| 80/80 [00:00<00:00, 156.42it/s]\u001b[A\n",
      " 73%|███████▎  | 821/1125 [17:27<05:53,  1.16s/it]"
     ]
    },
    {
     "name": "stdout",
     "output_type": "stream",
     "text": [
      "/home/jiang/projects/SubtleGAN/data/brats2021/train/BraTS2021_01493\n"
     ]
    },
    {
     "name": "stderr",
     "output_type": "stream",
     "text": [
      "\n",
      "  0%|          | 0/80 [00:00<?, ?it/s]\u001b[A\n",
      " 20%|██        | 16/80 [00:00<00:00, 152.02it/s]\u001b[A\n",
      " 40%|████      | 32/80 [00:00<00:00, 151.02it/s]\u001b[A\n",
      " 60%|██████    | 48/80 [00:00<00:00, 153.24it/s]\u001b[A\n",
      " 80%|████████  | 64/80 [00:00<00:00, 152.01it/s]\u001b[A\n",
      "100%|██████████| 80/80 [00:00<00:00, 151.17it/s]\u001b[A\n",
      " 73%|███████▎  | 822/1125 [17:28<05:40,  1.12s/it]"
     ]
    },
    {
     "name": "stdout",
     "output_type": "stream",
     "text": [
      "/home/jiang/projects/SubtleGAN/data/brats2021/train/BraTS2021_00167\n"
     ]
    },
    {
     "name": "stderr",
     "output_type": "stream",
     "text": [
      "\n",
      "  0%|          | 0/80 [00:00<?, ?it/s]\u001b[A\n",
      " 20%|██        | 16/80 [00:00<00:00, 153.44it/s]\u001b[A\n",
      " 40%|████      | 32/80 [00:00<00:00, 151.40it/s]\u001b[A\n",
      " 60%|██████    | 48/80 [00:00<00:00, 151.38it/s]\u001b[A\n",
      " 80%|████████  | 64/80 [00:00<00:00, 146.74it/s]\u001b[A\n",
      "100%|██████████| 80/80 [00:00<00:00, 149.44it/s]\u001b[A\n",
      " 73%|███████▎  | 823/1125 [17:29<05:34,  1.11s/it]"
     ]
    },
    {
     "name": "stdout",
     "output_type": "stream",
     "text": [
      "/home/jiang/projects/SubtleGAN/data/brats2021/train/BraTS2021_00283\n"
     ]
    },
    {
     "name": "stderr",
     "output_type": "stream",
     "text": [
      "\n",
      "  0%|          | 0/80 [00:00<?, ?it/s]\u001b[A\n",
      " 18%|█▊        | 14/80 [00:00<00:00, 137.84it/s]\u001b[A\n",
      " 38%|███▊      | 30/80 [00:00<00:00, 149.86it/s]\u001b[A\n",
      " 57%|█████▊    | 46/80 [00:00<00:00, 153.75it/s]\u001b[A\n",
      " 78%|███████▊  | 62/80 [00:00<00:00, 155.43it/s]\u001b[A\n",
      "100%|██████████| 80/80 [00:00<00:00, 153.52it/s]\u001b[A\n",
      " 73%|███████▎  | 824/1125 [17:30<05:34,  1.11s/it]"
     ]
    },
    {
     "name": "stdout",
     "output_type": "stream",
     "text": [
      "/home/jiang/projects/SubtleGAN/data/brats2021/train/BraTS2021_01087\n"
     ]
    },
    {
     "name": "stderr",
     "output_type": "stream",
     "text": [
      "\n",
      "  0%|          | 0/80 [00:00<?, ?it/s]\u001b[A\n",
      " 20%|██        | 16/80 [00:00<00:00, 156.91it/s]\u001b[A\n",
      " 40%|████      | 32/80 [00:00<00:00, 156.69it/s]\u001b[A\n",
      " 60%|██████    | 48/80 [00:00<00:00, 157.06it/s]\u001b[A\n",
      " 80%|████████  | 64/80 [00:00<00:00, 157.19it/s]\u001b[A\n",
      "100%|██████████| 80/80 [00:00<00:00, 156.56it/s]\u001b[A\n",
      " 73%|███████▎  | 825/1125 [17:31<05:25,  1.09s/it]"
     ]
    },
    {
     "name": "stdout",
     "output_type": "stream",
     "text": [
      "/home/jiang/projects/SubtleGAN/data/brats2021/train/BraTS2021_01041\n"
     ]
    },
    {
     "name": "stderr",
     "output_type": "stream",
     "text": [
      "\n",
      "  0%|          | 0/80 [00:00<?, ?it/s]\u001b[A\n",
      " 20%|██        | 16/80 [00:00<00:00, 157.96it/s]\u001b[A\n",
      " 40%|████      | 32/80 [00:00<00:00, 157.46it/s]\u001b[A\n",
      " 60%|██████    | 48/80 [00:00<00:00, 157.53it/s]\u001b[A\n",
      " 80%|████████  | 64/80 [00:00<00:00, 157.47it/s]\u001b[A\n",
      "100%|██████████| 80/80 [00:00<00:00, 156.87it/s]\u001b[A\n",
      " 73%|███████▎  | 826/1125 [17:32<05:19,  1.07s/it]"
     ]
    },
    {
     "name": "stdout",
     "output_type": "stream",
     "text": [
      "/home/jiang/projects/SubtleGAN/data/brats2021/train/BraTS2021_00440\n"
     ]
    },
    {
     "name": "stderr",
     "output_type": "stream",
     "text": [
      "\n",
      "  0%|          | 0/80 [00:00<?, ?it/s]\u001b[A\n",
      " 20%|██        | 16/80 [00:00<00:00, 157.98it/s]\u001b[A\n",
      " 40%|████      | 32/80 [00:00<00:00, 157.30it/s]\u001b[A\n",
      " 60%|██████    | 48/80 [00:00<00:00, 157.17it/s]\u001b[A\n",
      " 80%|████████  | 64/80 [00:00<00:00, 157.28it/s]\u001b[A\n",
      "100%|██████████| 80/80 [00:00<00:00, 156.56it/s]\u001b[A\n",
      " 74%|███████▎  | 827/1125 [17:33<05:15,  1.06s/it]"
     ]
    },
    {
     "name": "stdout",
     "output_type": "stream",
     "text": [
      "/home/jiang/projects/SubtleGAN/data/brats2021/train/BraTS2021_00724\n"
     ]
    },
    {
     "name": "stderr",
     "output_type": "stream",
     "text": [
      "\n",
      "  0%|          | 0/80 [00:00<?, ?it/s]\u001b[A\n",
      " 20%|██        | 16/80 [00:00<00:00, 159.15it/s]\u001b[A\n",
      " 40%|████      | 32/80 [00:00<00:00, 158.02it/s]\u001b[A\n",
      " 60%|██████    | 48/80 [00:00<00:00, 157.88it/s]\u001b[A\n",
      " 80%|████████  | 64/80 [00:00<00:00, 157.39it/s]\u001b[A\n",
      "100%|██████████| 80/80 [00:00<00:00, 148.19it/s]\u001b[A\n",
      " 74%|███████▎  | 828/1125 [17:34<05:07,  1.04s/it]"
     ]
    },
    {
     "name": "stdout",
     "output_type": "stream",
     "text": [
      "/home/jiang/projects/SubtleGAN/data/brats2021/train/BraTS2021_00387\n"
     ]
    },
    {
     "name": "stderr",
     "output_type": "stream",
     "text": [
      "\n",
      "  0%|          | 0/80 [00:00<?, ?it/s]\u001b[A\n",
      " 20%|██        | 16/80 [00:00<00:00, 159.73it/s]\u001b[A\n",
      " 40%|████      | 32/80 [00:00<00:00, 102.45it/s]\u001b[A\n",
      " 60%|██████    | 48/80 [00:00<00:00, 120.08it/s]\u001b[A\n",
      " 80%|████████  | 64/80 [00:00<00:00, 130.42it/s]\u001b[A\n",
      "100%|██████████| 80/80 [00:00<00:00, 129.83it/s]\u001b[A\n",
      " 74%|███████▎  | 829/1125 [17:36<05:15,  1.07s/it]"
     ]
    },
    {
     "name": "stdout",
     "output_type": "stream",
     "text": [
      "/home/jiang/projects/SubtleGAN/data/brats2021/train/BraTS2021_01293\n"
     ]
    },
    {
     "name": "stderr",
     "output_type": "stream",
     "text": [
      "\n",
      "  0%|          | 0/80 [00:00<?, ?it/s]\u001b[A\n",
      " 20%|██        | 16/80 [00:00<00:00, 150.16it/s]\u001b[A\n",
      " 40%|████      | 32/80 [00:00<00:00, 149.11it/s]\u001b[A\n",
      " 59%|█████▉    | 47/80 [00:00<00:00, 148.79it/s]\u001b[A\n",
      " 78%|███████▊  | 62/80 [00:00<00:00, 148.42it/s]\u001b[A\n",
      "100%|██████████| 80/80 [00:00<00:00, 149.80it/s]\u001b[A\n",
      " 74%|███████▍  | 830/1125 [17:37<05:14,  1.07s/it]"
     ]
    },
    {
     "name": "stdout",
     "output_type": "stream",
     "text": [
      "/home/jiang/projects/SubtleGAN/data/brats2021/train/BraTS2021_01582\n"
     ]
    },
    {
     "name": "stderr",
     "output_type": "stream",
     "text": [
      "\n",
      "  0%|          | 0/80 [00:00<?, ?it/s]\u001b[A\n",
      " 21%|██▏       | 17/80 [00:00<00:00, 160.47it/s]\u001b[A\n",
      " 42%|████▎     | 34/80 [00:00<00:00, 159.42it/s]\u001b[A\n",
      " 62%|██████▎   | 50/80 [00:00<00:00, 158.87it/s]\u001b[A\n",
      "100%|██████████| 80/80 [00:00<00:00, 158.60it/s]\u001b[A\n",
      " 74%|███████▍  | 831/1125 [17:38<05:36,  1.15s/it]"
     ]
    },
    {
     "name": "stdout",
     "output_type": "stream",
     "text": [
      "/home/jiang/projects/SubtleGAN/data/brats2021/train/BraTS2021_00556\n"
     ]
    },
    {
     "name": "stderr",
     "output_type": "stream",
     "text": [
      "\n",
      "  0%|          | 0/80 [00:00<?, ?it/s]\u001b[A\n",
      " 21%|██▏       | 17/80 [00:00<00:00, 160.64it/s]\u001b[A\n",
      " 42%|████▎     | 34/80 [00:00<00:00, 158.98it/s]\u001b[A\n",
      " 62%|██████▎   | 50/80 [00:00<00:00, 158.45it/s]\u001b[A\n",
      "100%|██████████| 80/80 [00:00<00:00, 158.42it/s]\u001b[A\n",
      " 74%|███████▍  | 832/1125 [17:39<05:20,  1.09s/it]"
     ]
    },
    {
     "name": "stdout",
     "output_type": "stream",
     "text": [
      "/home/jiang/projects/SubtleGAN/data/brats2021/train/BraTS2021_01373\n"
     ]
    },
    {
     "name": "stderr",
     "output_type": "stream",
     "text": [
      "\n",
      "  0%|          | 0/80 [00:00<?, ?it/s]\u001b[A\n",
      " 21%|██▏       | 17/80 [00:00<00:00, 160.70it/s]\u001b[A\n",
      " 42%|████▎     | 34/80 [00:00<00:00, 159.34it/s]\u001b[A\n",
      " 62%|██████▎   | 50/80 [00:00<00:00, 158.56it/s]\u001b[A\n",
      "100%|██████████| 80/80 [00:00<00:00, 158.44it/s]\u001b[A\n",
      " 74%|███████▍  | 833/1125 [17:40<05:09,  1.06s/it]"
     ]
    },
    {
     "name": "stdout",
     "output_type": "stream",
     "text": [
      "/home/jiang/projects/SubtleGAN/data/brats2021/train/BraTS2021_00318\n"
     ]
    },
    {
     "name": "stderr",
     "output_type": "stream",
     "text": [
      "\n",
      "  0%|          | 0/80 [00:00<?, ?it/s]\u001b[A\n",
      " 21%|██▏       | 17/80 [00:00<00:00, 160.85it/s]\u001b[A\n",
      " 42%|████▎     | 34/80 [00:00<00:00, 159.08it/s]\u001b[A\n",
      " 62%|██████▎   | 50/80 [00:00<00:00, 158.13it/s]\u001b[A\n",
      "100%|██████████| 80/80 [00:00<00:00, 157.92it/s]\u001b[A\n",
      " 74%|███████▍  | 834/1125 [17:41<05:04,  1.05s/it]"
     ]
    },
    {
     "name": "stdout",
     "output_type": "stream",
     "text": [
      "/home/jiang/projects/SubtleGAN/data/brats2021/train/BraTS2021_01635\n"
     ]
    },
    {
     "name": "stderr",
     "output_type": "stream",
     "text": [
      "\n",
      "  0%|          | 0/80 [00:00<?, ?it/s]\u001b[A\n",
      " 21%|██▏       | 17/80 [00:00<00:00, 161.08it/s]\u001b[A\n",
      " 42%|████▎     | 34/80 [00:00<00:00, 157.32it/s]\u001b[A\n",
      " 62%|██████▎   | 50/80 [00:00<00:00, 157.08it/s]\u001b[A\n",
      "100%|██████████| 80/80 [00:00<00:00, 157.19it/s]\u001b[A\n",
      " 74%|███████▍  | 835/1125 [17:42<05:28,  1.13s/it]"
     ]
    },
    {
     "name": "stdout",
     "output_type": "stream",
     "text": [
      "/home/jiang/projects/SubtleGAN/data/brats2021/train/BraTS2021_01053\n"
     ]
    },
    {
     "name": "stderr",
     "output_type": "stream",
     "text": [
      "\n",
      "  0%|          | 0/80 [00:00<?, ?it/s]\u001b[A\n",
      " 20%|██        | 16/80 [00:00<00:00, 159.83it/s]\u001b[A\n",
      " 40%|████      | 32/80 [00:00<00:00, 157.73it/s]\u001b[A\n",
      " 60%|██████    | 48/80 [00:00<00:00, 157.42it/s]\u001b[A\n",
      " 80%|████████  | 64/80 [00:00<00:00, 154.62it/s]\u001b[A\n",
      "100%|██████████| 80/80 [00:00<00:00, 155.12it/s]\u001b[A\n",
      " 74%|███████▍  | 836/1125 [17:43<05:17,  1.10s/it]"
     ]
    },
    {
     "name": "stdout",
     "output_type": "stream",
     "text": [
      "/home/jiang/projects/SubtleGAN/data/brats2021/train/BraTS2021_01126\n"
     ]
    },
    {
     "name": "stderr",
     "output_type": "stream",
     "text": [
      "\n",
      "  0%|          | 0/80 [00:00<?, ?it/s]\u001b[A\n",
      " 20%|██        | 16/80 [00:00<00:00, 158.29it/s]\u001b[A\n",
      " 40%|████      | 32/80 [00:00<00:00, 157.76it/s]\u001b[A\n",
      " 60%|██████    | 48/80 [00:00<00:00, 157.72it/s]\u001b[A\n",
      " 80%|████████  | 64/80 [00:00<00:00, 156.78it/s]\u001b[A\n",
      "100%|██████████| 80/80 [00:00<00:00, 156.46it/s]\u001b[A\n",
      " 74%|███████▍  | 837/1125 [17:44<05:12,  1.08s/it]"
     ]
    },
    {
     "name": "stdout",
     "output_type": "stream",
     "text": [
      "/home/jiang/projects/SubtleGAN/data/brats2021/train/BraTS2021_00708\n"
     ]
    },
    {
     "name": "stderr",
     "output_type": "stream",
     "text": [
      "\n",
      "  0%|          | 0/80 [00:00<?, ?it/s]\u001b[A\n",
      " 20%|██        | 16/80 [00:00<00:00, 158.48it/s]\u001b[A\n",
      " 40%|████      | 32/80 [00:00<00:00, 157.43it/s]\u001b[A\n",
      " 60%|██████    | 48/80 [00:00<00:00, 157.35it/s]\u001b[A\n",
      " 80%|████████  | 64/80 [00:00<00:00, 157.13it/s]\u001b[A\n",
      "100%|██████████| 80/80 [00:00<00:00, 156.39it/s]\u001b[A\n",
      " 74%|███████▍  | 838/1125 [17:45<04:59,  1.04s/it]"
     ]
    },
    {
     "name": "stdout",
     "output_type": "stream",
     "text": [
      "/home/jiang/projects/SubtleGAN/data/brats2021/train/BraTS2021_01370\n"
     ]
    },
    {
     "name": "stderr",
     "output_type": "stream",
     "text": [
      "\n",
      "  0%|          | 0/80 [00:00<?, ?it/s]\u001b[A\n",
      " 20%|██        | 16/80 [00:00<00:00, 159.91it/s]\u001b[A\n",
      " 40%|████      | 32/80 [00:00<00:00, 158.01it/s]\u001b[A\n",
      " 60%|██████    | 48/80 [00:00<00:00, 154.39it/s]\u001b[A\n",
      " 80%|████████  | 64/80 [00:00<00:00, 152.67it/s]\u001b[A\n",
      "100%|██████████| 80/80 [00:00<00:00, 153.89it/s]\u001b[A\n",
      " 75%|███████▍  | 839/1125 [17:46<04:58,  1.04s/it]"
     ]
    },
    {
     "name": "stdout",
     "output_type": "stream",
     "text": [
      "/home/jiang/projects/SubtleGAN/data/brats2021/train/BraTS2021_01593\n"
     ]
    },
    {
     "name": "stderr",
     "output_type": "stream",
     "text": [
      "\n",
      "  0%|          | 0/80 [00:00<?, ?it/s]\u001b[A\n",
      " 20%|██        | 16/80 [00:00<00:00, 152.43it/s]\u001b[A\n",
      " 40%|████      | 32/80 [00:00<00:00, 148.42it/s]\u001b[A\n",
      " 60%|██████    | 48/80 [00:00<00:00, 149.38it/s]\u001b[A\n",
      " 80%|████████  | 64/80 [00:00<00:00, 149.87it/s]\u001b[A\n",
      "100%|██████████| 80/80 [00:00<00:00, 150.10it/s]\u001b[A\n",
      " 75%|███████▍  | 840/1125 [17:48<05:25,  1.14s/it]"
     ]
    },
    {
     "name": "stdout",
     "output_type": "stream",
     "text": [
      "/home/jiang/projects/SubtleGAN/data/brats2021/train/BraTS2021_00081\n"
     ]
    },
    {
     "name": "stderr",
     "output_type": "stream",
     "text": [
      "\n",
      "  0%|          | 0/80 [00:00<?, ?it/s]\u001b[A\n",
      " 20%|██        | 16/80 [00:00<00:00, 159.68it/s]\u001b[A\n",
      " 40%|████      | 32/80 [00:00<00:00, 154.31it/s]\u001b[A\n",
      " 60%|██████    | 48/80 [00:00<00:00, 152.26it/s]\u001b[A\n",
      " 80%|████████  | 64/80 [00:00<00:00, 150.98it/s]\u001b[A\n",
      "100%|██████████| 80/80 [00:00<00:00, 150.84it/s]\u001b[A\n",
      " 75%|███████▍  | 841/1125 [17:49<05:08,  1.08s/it]"
     ]
    },
    {
     "name": "stdout",
     "output_type": "stream",
     "text": [
      "/home/jiang/projects/SubtleGAN/data/brats2021/train/BraTS2021_01566\n"
     ]
    },
    {
     "name": "stderr",
     "output_type": "stream",
     "text": [
      "\n",
      "  0%|          | 0/80 [00:00<?, ?it/s]\u001b[A\n",
      " 20%|██        | 16/80 [00:00<00:00, 153.18it/s]\u001b[A\n",
      " 40%|████      | 32/80 [00:00<00:00, 149.31it/s]\u001b[A\n",
      " 60%|██████    | 48/80 [00:00<00:00, 150.06it/s]\u001b[A\n",
      " 80%|████████  | 64/80 [00:00<00:00, 150.36it/s]\u001b[A\n",
      "100%|██████████| 80/80 [00:00<00:00, 149.63it/s]\u001b[A\n",
      " 75%|███████▍  | 842/1125 [17:50<05:32,  1.17s/it]"
     ]
    },
    {
     "name": "stdout",
     "output_type": "stream",
     "text": [
      "/home/jiang/projects/SubtleGAN/data/brats2021/train/BraTS2021_00402\n"
     ]
    },
    {
     "name": "stderr",
     "output_type": "stream",
     "text": [
      "\n",
      "  0%|          | 0/80 [00:00<?, ?it/s]\u001b[A\n",
      " 20%|██        | 16/80 [00:00<00:00, 154.43it/s]\u001b[A\n",
      " 40%|████      | 32/80 [00:00<00:00, 151.18it/s]\u001b[A\n",
      " 60%|██████    | 48/80 [00:00<00:00, 150.35it/s]\u001b[A\n",
      " 80%|████████  | 64/80 [00:00<00:00, 150.39it/s]\u001b[A\n",
      "100%|██████████| 80/80 [00:00<00:00, 149.85it/s]\u001b[A\n",
      " 75%|███████▍  | 843/1125 [17:51<05:21,  1.14s/it]"
     ]
    },
    {
     "name": "stdout",
     "output_type": "stream",
     "text": [
      "/home/jiang/projects/SubtleGAN/data/brats2021/train/BraTS2021_00641\n"
     ]
    },
    {
     "name": "stderr",
     "output_type": "stream",
     "text": [
      "\n",
      "  0%|          | 0/80 [00:00<?, ?it/s]\u001b[A\n",
      " 20%|██        | 16/80 [00:00<00:00, 155.19it/s]\u001b[A\n",
      " 40%|████      | 32/80 [00:00<00:00, 152.37it/s]\u001b[A\n",
      " 60%|██████    | 48/80 [00:00<00:00, 152.41it/s]\u001b[A\n",
      " 80%|████████  | 64/80 [00:00<00:00, 154.46it/s]\u001b[A\n",
      "100%|██████████| 80/80 [00:00<00:00, 153.69it/s]\u001b[A\n",
      " 75%|███████▌  | 844/1125 [17:52<05:07,  1.09s/it]"
     ]
    },
    {
     "name": "stdout",
     "output_type": "stream",
     "text": [
      "/home/jiang/projects/SubtleGAN/data/brats2021/train/BraTS2021_00085\n"
     ]
    },
    {
     "name": "stderr",
     "output_type": "stream",
     "text": [
      "\n",
      "  0%|          | 0/80 [00:00<?, ?it/s]\u001b[A\n",
      " 20%|██        | 16/80 [00:00<00:00, 152.93it/s]\u001b[A\n",
      " 40%|████      | 32/80 [00:00<00:00, 150.93it/s]\u001b[A\n",
      " 60%|██████    | 48/80 [00:00<00:00, 150.67it/s]\u001b[A\n",
      " 80%|████████  | 64/80 [00:00<00:00, 150.25it/s]\u001b[A\n",
      "100%|██████████| 80/80 [00:00<00:00, 149.68it/s]\u001b[A\n",
      " 75%|███████▌  | 845/1125 [17:53<04:57,  1.06s/it]"
     ]
    },
    {
     "name": "stdout",
     "output_type": "stream",
     "text": [
      "/home/jiang/projects/SubtleGAN/data/brats2021/train/BraTS2021_00051\n"
     ]
    },
    {
     "name": "stderr",
     "output_type": "stream",
     "text": [
      "\n",
      "  0%|          | 0/80 [00:00<?, ?it/s]\u001b[A\n",
      " 20%|██        | 16/80 [00:00<00:00, 153.34it/s]\u001b[A\n",
      " 40%|████      | 32/80 [00:00<00:00, 151.59it/s]\u001b[A\n",
      " 60%|██████    | 48/80 [00:00<00:00, 151.10it/s]\u001b[A\n",
      " 80%|████████  | 64/80 [00:00<00:00, 150.62it/s]\u001b[A\n",
      "100%|██████████| 80/80 [00:00<00:00, 150.08it/s]\u001b[A\n",
      " 75%|███████▌  | 846/1125 [17:54<05:21,  1.15s/it]"
     ]
    },
    {
     "name": "stdout",
     "output_type": "stream",
     "text": [
      "/home/jiang/projects/SubtleGAN/data/brats2021/train/BraTS2021_01385\n"
     ]
    },
    {
     "name": "stderr",
     "output_type": "stream",
     "text": [
      "\n",
      "  0%|          | 0/80 [00:00<?, ?it/s]\u001b[A\n",
      " 20%|██        | 16/80 [00:00<00:00, 154.74it/s]\u001b[A\n",
      " 40%|████      | 32/80 [00:00<00:00, 155.60it/s]\u001b[A\n",
      " 60%|██████    | 48/80 [00:00<00:00, 156.23it/s]\u001b[A\n",
      " 80%|████████  | 64/80 [00:00<00:00, 156.26it/s]\u001b[A\n",
      "100%|██████████| 80/80 [00:00<00:00, 154.10it/s]\u001b[A\n",
      " 75%|███████▌  | 847/1125 [17:56<05:11,  1.12s/it]"
     ]
    },
    {
     "name": "stdout",
     "output_type": "stream",
     "text": [
      "/home/jiang/projects/SubtleGAN/data/brats2021/train/BraTS2021_01170\n"
     ]
    },
    {
     "name": "stderr",
     "output_type": "stream",
     "text": [
      "\n",
      "  0%|          | 0/80 [00:00<?, ?it/s]\u001b[A\n",
      " 20%|██        | 16/80 [00:00<00:00, 157.76it/s]\u001b[A\n",
      " 40%|████      | 32/80 [00:00<00:00, 156.71it/s]\u001b[A\n",
      " 60%|██████    | 48/80 [00:00<00:00, 156.32it/s]\u001b[A\n",
      " 80%|████████  | 64/80 [00:00<00:00, 156.64it/s]\u001b[A\n",
      "100%|██████████| 80/80 [00:00<00:00, 155.87it/s]\u001b[A\n",
      " 75%|███████▌  | 848/1125 [17:57<05:02,  1.09s/it]"
     ]
    },
    {
     "name": "stdout",
     "output_type": "stream",
     "text": [
      "/home/jiang/projects/SubtleGAN/data/brats2021/train/BraTS2021_01420\n"
     ]
    },
    {
     "name": "stderr",
     "output_type": "stream",
     "text": [
      "\n",
      "  0%|          | 0/80 [00:00<?, ?it/s]\u001b[A\n",
      " 21%|██▏       | 17/80 [00:00<00:00, 160.20it/s]\u001b[A\n",
      " 42%|████▎     | 34/80 [00:00<00:00, 158.02it/s]\u001b[A\n",
      " 62%|██████▎   | 50/80 [00:00<00:00, 157.50it/s]\u001b[A\n",
      "100%|██████████| 80/80 [00:00<00:00, 157.39it/s]\u001b[A\n",
      " 75%|███████▌  | 849/1125 [17:58<04:56,  1.07s/it]"
     ]
    },
    {
     "name": "stdout",
     "output_type": "stream",
     "text": [
      "/home/jiang/projects/SubtleGAN/data/brats2021/train/BraTS2021_00750\n"
     ]
    },
    {
     "name": "stderr",
     "output_type": "stream",
     "text": [
      "\n",
      "  0%|          | 0/80 [00:00<?, ?it/s]\u001b[A\n",
      " 21%|██▏       | 17/80 [00:00<00:00, 160.11it/s]\u001b[A\n",
      " 42%|████▎     | 34/80 [00:00<00:00, 155.73it/s]\u001b[A\n",
      " 62%|██████▎   | 50/80 [00:00<00:00, 156.39it/s]\u001b[A\n",
      "100%|██████████| 80/80 [00:00<00:00, 155.34it/s]\u001b[A\n",
      " 76%|███████▌  | 850/1125 [17:59<04:46,  1.04s/it]"
     ]
    },
    {
     "name": "stdout",
     "output_type": "stream",
     "text": [
      "/home/jiang/projects/SubtleGAN/data/brats2021/train/BraTS2021_01627\n"
     ]
    },
    {
     "name": "stderr",
     "output_type": "stream",
     "text": [
      "\n",
      "  0%|          | 0/80 [00:00<?, ?it/s]\u001b[A\n",
      " 20%|██        | 16/80 [00:00<00:00, 152.83it/s]\u001b[A\n",
      " 40%|████      | 32/80 [00:00<00:00, 151.29it/s]\u001b[A\n",
      " 60%|██████    | 48/80 [00:00<00:00, 153.56it/s]\u001b[A\n",
      " 80%|████████  | 64/80 [00:00<00:00, 154.41it/s]\u001b[A\n",
      "100%|██████████| 80/80 [00:00<00:00, 153.75it/s]\u001b[A\n",
      " 76%|███████▌  | 851/1125 [18:00<05:12,  1.14s/it]"
     ]
    },
    {
     "name": "stdout",
     "output_type": "stream",
     "text": [
      "/home/jiang/projects/SubtleGAN/data/brats2021/train/BraTS2021_01001\n"
     ]
    },
    {
     "name": "stderr",
     "output_type": "stream",
     "text": [
      "\n",
      "  0%|          | 0/80 [00:00<?, ?it/s]\u001b[A\n",
      " 21%|██▏       | 17/80 [00:00<00:00, 160.10it/s]\u001b[A\n",
      " 42%|████▎     | 34/80 [00:00<00:00, 157.82it/s]\u001b[A\n",
      " 62%|██████▎   | 50/80 [00:00<00:00, 157.19it/s]\u001b[A\n",
      "100%|██████████| 80/80 [00:00<00:00, 155.89it/s]\u001b[A\n",
      " 76%|███████▌  | 852/1125 [18:01<05:03,  1.11s/it]"
     ]
    },
    {
     "name": "stdout",
     "output_type": "stream",
     "text": [
      "/home/jiang/projects/SubtleGAN/data/brats2021/train/BraTS2021_01023\n"
     ]
    },
    {
     "name": "stderr",
     "output_type": "stream",
     "text": [
      "\n",
      "  0%|          | 0/80 [00:00<?, ?it/s]\u001b[A\n",
      " 20%|██        | 16/80 [00:00<00:00, 159.69it/s]\u001b[A\n",
      " 40%|████      | 32/80 [00:00<00:00, 153.47it/s]\u001b[A\n",
      " 60%|██████    | 48/80 [00:00<00:00, 154.19it/s]\u001b[A\n",
      " 80%|████████  | 64/80 [00:00<00:00, 155.11it/s]\u001b[A\n",
      "100%|██████████| 80/80 [00:00<00:00, 153.47it/s]\u001b[A\n",
      " 76%|███████▌  | 853/1125 [18:02<04:56,  1.09s/it]"
     ]
    },
    {
     "name": "stdout",
     "output_type": "stream",
     "text": [
      "/home/jiang/projects/SubtleGAN/data/brats2021/train/BraTS2021_01363\n"
     ]
    },
    {
     "name": "stderr",
     "output_type": "stream",
     "text": [
      "\n",
      "  0%|          | 0/80 [00:00<?, ?it/s]\u001b[A\n",
      " 21%|██▏       | 17/80 [00:00<00:00, 160.83it/s]\u001b[A\n",
      " 42%|████▎     | 34/80 [00:00<00:00, 159.76it/s]\u001b[A\n",
      " 62%|██████▎   | 50/80 [00:00<00:00, 158.42it/s]\u001b[A\n",
      "100%|██████████| 80/80 [00:00<00:00, 156.93it/s]\u001b[A\n",
      " 76%|███████▌  | 854/1125 [18:03<04:50,  1.07s/it]"
     ]
    },
    {
     "name": "stdout",
     "output_type": "stream",
     "text": [
      "/home/jiang/projects/SubtleGAN/data/brats2021/train/BraTS2021_00694\n"
     ]
    },
    {
     "name": "stderr",
     "output_type": "stream",
     "text": [
      "\n",
      "  0%|          | 0/80 [00:00<?, ?it/s]\u001b[A\n",
      " 21%|██▏       | 17/80 [00:00<00:00, 160.21it/s]\u001b[A\n",
      " 42%|████▎     | 34/80 [00:00<00:00, 156.99it/s]\u001b[A\n",
      " 62%|██████▎   | 50/80 [00:00<00:00, 153.81it/s]\u001b[A\n",
      "100%|██████████| 80/80 [00:00<00:00, 152.88it/s]\u001b[A\n",
      " 76%|███████▌  | 855/1125 [18:04<04:40,  1.04s/it]"
     ]
    },
    {
     "name": "stdout",
     "output_type": "stream",
     "text": [
      "/home/jiang/projects/SubtleGAN/data/brats2021/train/BraTS2021_00501\n"
     ]
    },
    {
     "name": "stderr",
     "output_type": "stream",
     "text": [
      "\n",
      "  0%|          | 0/80 [00:00<?, ?it/s]\u001b[A\n",
      " 20%|██        | 16/80 [00:00<00:00, 152.38it/s]\u001b[A\n",
      " 40%|████      | 32/80 [00:00<00:00, 151.28it/s]\u001b[A\n",
      " 60%|██████    | 48/80 [00:00<00:00, 151.54it/s]\u001b[A\n",
      " 80%|████████  | 64/80 [00:00<00:00, 153.66it/s]\u001b[A\n",
      "100%|██████████| 80/80 [00:00<00:00, 152.86it/s]\u001b[A\n",
      " 76%|███████▌  | 856/1125 [18:05<04:35,  1.02s/it]"
     ]
    },
    {
     "name": "stdout",
     "output_type": "stream",
     "text": [
      "/home/jiang/projects/SubtleGAN/data/brats2021/train/BraTS2021_01171\n"
     ]
    },
    {
     "name": "stderr",
     "output_type": "stream",
     "text": [
      "\n",
      "  0%|          | 0/80 [00:00<?, ?it/s]\u001b[A\n",
      " 20%|██        | 16/80 [00:00<00:00, 154.39it/s]\u001b[A\n",
      " 40%|████      | 32/80 [00:00<00:00, 154.07it/s]\u001b[A\n",
      " 60%|██████    | 48/80 [00:00<00:00, 153.10it/s]\u001b[A\n",
      " 80%|████████  | 64/80 [00:00<00:00, 153.33it/s]\u001b[A\n",
      "100%|██████████| 80/80 [00:00<00:00, 152.77it/s]\u001b[A\n",
      " 76%|███████▌  | 857/1125 [18:06<04:35,  1.03s/it]"
     ]
    },
    {
     "name": "stdout",
     "output_type": "stream",
     "text": [
      "/home/jiang/projects/SubtleGAN/data/brats2021/train/BraTS2021_00429\n"
     ]
    },
    {
     "name": "stderr",
     "output_type": "stream",
     "text": [
      "\n",
      "  0%|          | 0/80 [00:00<?, ?it/s]\u001b[A\n",
      " 20%|██        | 16/80 [00:00<00:00, 157.36it/s]\u001b[A\n",
      " 40%|████      | 32/80 [00:00<00:00, 155.72it/s]\u001b[A\n",
      " 60%|██████    | 48/80 [00:00<00:00, 155.21it/s]\u001b[A\n",
      " 80%|████████  | 64/80 [00:00<00:00, 155.71it/s]\u001b[A\n",
      "100%|██████████| 80/80 [00:00<00:00, 155.05it/s]\u001b[A\n",
      " 76%|███████▋  | 858/1125 [18:07<04:35,  1.03s/it]"
     ]
    },
    {
     "name": "stdout",
     "output_type": "stream",
     "text": [
      "/home/jiang/projects/SubtleGAN/data/brats2021/train/BraTS2021_00376\n"
     ]
    },
    {
     "name": "stderr",
     "output_type": "stream",
     "text": [
      "\n",
      "  0%|          | 0/80 [00:00<?, ?it/s]\u001b[A\n",
      " 20%|██        | 16/80 [00:00<00:00, 150.89it/s]\u001b[A\n",
      " 40%|████      | 32/80 [00:00<00:00, 150.50it/s]\u001b[A\n",
      " 60%|██████    | 48/80 [00:00<00:00, 150.45it/s]\u001b[A\n",
      " 80%|████████  | 64/80 [00:00<00:00, 149.66it/s]\u001b[A\n",
      "100%|██████████| 80/80 [00:00<00:00, 149.69it/s]\u001b[A\n",
      " 76%|███████▋  | 859/1125 [18:08<04:33,  1.03s/it]"
     ]
    },
    {
     "name": "stdout",
     "output_type": "stream",
     "text": [
      "/home/jiang/projects/SubtleGAN/data/brats2021/train/BraTS2021_00608\n"
     ]
    },
    {
     "name": "stderr",
     "output_type": "stream",
     "text": [
      "\n",
      "  0%|          | 0/80 [00:00<?, ?it/s]\u001b[A\n",
      " 20%|██        | 16/80 [00:00<00:00, 159.82it/s]\u001b[A\n",
      " 40%|████      | 32/80 [00:00<00:00, 157.71it/s]\u001b[A\n",
      " 60%|██████    | 48/80 [00:00<00:00, 155.89it/s]\u001b[A\n",
      " 80%|████████  | 64/80 [00:00<00:00, 154.13it/s]\u001b[A\n",
      "100%|██████████| 80/80 [00:00<00:00, 154.59it/s]\u001b[A\n",
      " 76%|███████▋  | 860/1125 [18:09<04:27,  1.01s/it]"
     ]
    },
    {
     "name": "stdout",
     "output_type": "stream",
     "text": [
      "/home/jiang/projects/SubtleGAN/data/brats2021/train/BraTS2021_01486\n"
     ]
    },
    {
     "name": "stderr",
     "output_type": "stream",
     "text": [
      "\n",
      "  0%|          | 0/80 [00:00<?, ?it/s]\u001b[A\n",
      " 20%|██        | 16/80 [00:00<00:00, 159.84it/s]\u001b[A\n",
      " 40%|████      | 32/80 [00:00<00:00, 158.16it/s]\u001b[A\n",
      " 60%|██████    | 48/80 [00:00<00:00, 157.64it/s]\u001b[A\n",
      " 80%|████████  | 64/80 [00:00<00:00, 157.07it/s]\u001b[A\n",
      "100%|██████████| 80/80 [00:00<00:00, 156.66it/s]\u001b[A\n",
      " 77%|███████▋  | 861/1125 [18:10<04:27,  1.01s/it]"
     ]
    },
    {
     "name": "stdout",
     "output_type": "stream",
     "text": [
      "/home/jiang/projects/SubtleGAN/data/brats2021/train/BraTS2021_01265\n"
     ]
    },
    {
     "name": "stderr",
     "output_type": "stream",
     "text": [
      "\n",
      "  0%|          | 0/80 [00:00<?, ?it/s]\u001b[A\n",
      " 20%|██        | 16/80 [00:00<00:00, 159.96it/s]\u001b[A\n",
      " 40%|████      | 32/80 [00:00<00:00, 158.63it/s]\u001b[A\n",
      " 60%|██████    | 48/80 [00:00<00:00, 157.66it/s]\u001b[A\n",
      " 80%|████████  | 64/80 [00:00<00:00, 157.45it/s]\u001b[A\n",
      "100%|██████████| 80/80 [00:00<00:00, 156.79it/s]\u001b[A\n",
      " 77%|███████▋  | 862/1125 [18:11<04:28,  1.02s/it]"
     ]
    },
    {
     "name": "stdout",
     "output_type": "stream",
     "text": [
      "/home/jiang/projects/SubtleGAN/data/brats2021/train/BraTS2021_01135\n"
     ]
    },
    {
     "name": "stderr",
     "output_type": "stream",
     "text": [
      "\n",
      "  0%|          | 0/80 [00:00<?, ?it/s]\u001b[A\n",
      " 20%|██        | 16/80 [00:00<00:00, 159.56it/s]\u001b[A\n",
      " 40%|████      | 32/80 [00:00<00:00, 157.75it/s]\u001b[A\n",
      " 60%|██████    | 48/80 [00:00<00:00, 157.52it/s]\u001b[A\n",
      " 80%|████████  | 64/80 [00:00<00:00, 157.39it/s]\u001b[A\n",
      "100%|██████████| 80/80 [00:00<00:00, 156.84it/s]\u001b[A\n",
      " 77%|███████▋  | 863/1125 [18:12<04:28,  1.03s/it]"
     ]
    },
    {
     "name": "stdout",
     "output_type": "stream",
     "text": [
      "/home/jiang/projects/SubtleGAN/data/brats2021/train/BraTS2021_01233\n"
     ]
    },
    {
     "name": "stderr",
     "output_type": "stream",
     "text": [
      "\n",
      "  0%|          | 0/80 [00:00<?, ?it/s]\u001b[A\n",
      " 20%|██        | 16/80 [00:00<00:00, 153.29it/s]\u001b[A\n",
      " 40%|████      | 32/80 [00:00<00:00, 151.09it/s]\u001b[A\n",
      " 60%|██████    | 48/80 [00:00<00:00, 151.13it/s]\u001b[A\n",
      " 80%|████████  | 64/80 [00:00<00:00, 153.73it/s]\u001b[A\n",
      "100%|██████████| 80/80 [00:00<00:00, 153.35it/s]\u001b[A\n",
      " 77%|███████▋  | 864/1125 [18:13<04:29,  1.03s/it]"
     ]
    },
    {
     "name": "stdout",
     "output_type": "stream",
     "text": [
      "/home/jiang/projects/SubtleGAN/data/brats2021/train/BraTS2021_01192\n"
     ]
    },
    {
     "name": "stderr",
     "output_type": "stream",
     "text": [
      "\n",
      "  0%|          | 0/80 [00:00<?, ?it/s]\u001b[A\n",
      " 21%|██▏       | 17/80 [00:00<00:00, 160.10it/s]\u001b[A\n",
      " 42%|████▎     | 34/80 [00:00<00:00, 158.55it/s]\u001b[A\n",
      " 62%|██████▎   | 50/80 [00:00<00:00, 155.05it/s]\u001b[A\n",
      "100%|██████████| 80/80 [00:00<00:00, 155.54it/s]\u001b[A\n",
      " 77%|███████▋  | 865/1125 [18:14<04:27,  1.03s/it]"
     ]
    },
    {
     "name": "stdout",
     "output_type": "stream",
     "text": [
      "/home/jiang/projects/SubtleGAN/data/brats2021/train/BraTS2021_00156\n"
     ]
    },
    {
     "name": "stderr",
     "output_type": "stream",
     "text": [
      "\n",
      "  0%|          | 0/80 [00:00<?, ?it/s]\u001b[A\n",
      " 20%|██        | 16/80 [00:00<00:00, 159.57it/s]\u001b[A\n",
      " 40%|████      | 32/80 [00:00<00:00, 158.05it/s]\u001b[A\n",
      " 60%|██████    | 48/80 [00:00<00:00, 157.73it/s]\u001b[A\n",
      " 80%|████████  | 64/80 [00:00<00:00, 157.37it/s]\u001b[A\n",
      "100%|██████████| 80/80 [00:00<00:00, 156.83it/s]\u001b[A\n",
      " 77%|███████▋  | 866/1125 [18:15<04:26,  1.03s/it]"
     ]
    },
    {
     "name": "stdout",
     "output_type": "stream",
     "text": [
      "/home/jiang/projects/SubtleGAN/data/brats2021/train/BraTS2021_00792\n"
     ]
    },
    {
     "name": "stderr",
     "output_type": "stream",
     "text": [
      "\n",
      "  0%|          | 0/80 [00:00<?, ?it/s]\u001b[A\n",
      " 20%|██        | 16/80 [00:00<00:00, 153.42it/s]\u001b[A\n",
      " 40%|████      | 32/80 [00:00<00:00, 151.44it/s]\u001b[A\n",
      " 60%|██████    | 48/80 [00:00<00:00, 150.93it/s]\u001b[A\n",
      " 80%|████████  | 64/80 [00:00<00:00, 150.49it/s]\u001b[A\n",
      "100%|██████████| 80/80 [00:00<00:00, 149.85it/s]\u001b[A\n",
      " 77%|███████▋  | 867/1125 [18:17<04:52,  1.13s/it]"
     ]
    },
    {
     "name": "stdout",
     "output_type": "stream",
     "text": [
      "/home/jiang/projects/SubtleGAN/data/brats2021/train/BraTS2021_00178\n"
     ]
    },
    {
     "name": "stderr",
     "output_type": "stream",
     "text": [
      "\n",
      "  0%|          | 0/80 [00:00<?, ?it/s]\u001b[A\n",
      " 20%|██        | 16/80 [00:00<00:00, 159.05it/s]\u001b[A\n",
      " 40%|████      | 32/80 [00:00<00:00, 158.25it/s]\u001b[A\n",
      " 60%|██████    | 48/80 [00:00<00:00, 154.90it/s]\u001b[A\n",
      " 80%|████████  | 64/80 [00:00<00:00, 153.37it/s]\u001b[A\n",
      "100%|██████████| 80/80 [00:00<00:00, 153.13it/s]\u001b[A\n",
      " 77%|███████▋  | 868/1125 [18:18<04:44,  1.11s/it]"
     ]
    },
    {
     "name": "stdout",
     "output_type": "stream",
     "text": [
      "/home/jiang/projects/SubtleGAN/data/brats2021/train/BraTS2021_01374\n"
     ]
    },
    {
     "name": "stderr",
     "output_type": "stream",
     "text": [
      "\n",
      "  0%|          | 0/80 [00:00<?, ?it/s]\u001b[A\n",
      " 20%|██        | 16/80 [00:00<00:00, 156.94it/s]\u001b[A\n",
      " 40%|████      | 32/80 [00:00<00:00, 157.08it/s]\u001b[A\n",
      " 60%|██████    | 48/80 [00:00<00:00, 157.17it/s]\u001b[A\n",
      " 80%|████████  | 64/80 [00:00<00:00, 157.13it/s]\u001b[A\n",
      "100%|██████████| 80/80 [00:00<00:00, 156.27it/s]\u001b[A\n",
      " 77%|███████▋  | 869/1125 [18:19<04:37,  1.08s/it]"
     ]
    },
    {
     "name": "stdout",
     "output_type": "stream",
     "text": [
      "/home/jiang/projects/SubtleGAN/data/brats2021/train/BraTS2021_00071\n"
     ]
    },
    {
     "name": "stderr",
     "output_type": "stream",
     "text": [
      "\n",
      "  0%|          | 0/80 [00:00<?, ?it/s]\u001b[A\n",
      " 20%|██        | 16/80 [00:00<00:00, 153.15it/s]\u001b[A\n",
      " 40%|████      | 32/80 [00:00<00:00, 150.79it/s]\u001b[A\n",
      " 60%|██████    | 48/80 [00:00<00:00, 142.01it/s]\u001b[A\n",
      " 80%|████████  | 64/80 [00:00<00:00, 145.56it/s]\u001b[A\n",
      "100%|██████████| 80/80 [00:00<00:00, 146.38it/s]\u001b[A\n",
      " 77%|███████▋  | 870/1125 [18:20<04:31,  1.06s/it]"
     ]
    },
    {
     "name": "stdout",
     "output_type": "stream",
     "text": [
      "/home/jiang/projects/SubtleGAN/data/brats2021/train/BraTS2021_00549\n"
     ]
    },
    {
     "name": "stderr",
     "output_type": "stream",
     "text": [
      "\n",
      "  0%|          | 0/80 [00:00<?, ?it/s]\u001b[A\n",
      " 20%|██        | 16/80 [00:00<00:00, 152.94it/s]\u001b[A\n",
      " 40%|████      | 32/80 [00:00<00:00, 150.92it/s]\u001b[A\n",
      " 60%|██████    | 48/80 [00:00<00:00, 150.70it/s]\u001b[A\n",
      " 80%|████████  | 64/80 [00:00<00:00, 150.53it/s]\u001b[A\n",
      "100%|██████████| 80/80 [00:00<00:00, 151.29it/s]\u001b[A\n",
      " 77%|███████▋  | 871/1125 [18:21<04:27,  1.05s/it]"
     ]
    },
    {
     "name": "stdout",
     "output_type": "stream",
     "text": [
      "/home/jiang/projects/SubtleGAN/data/brats2021/train/BraTS2021_00199\n"
     ]
    },
    {
     "name": "stderr",
     "output_type": "stream",
     "text": [
      "\n",
      "  0%|          | 0/80 [00:00<?, ?it/s]\u001b[A\n",
      " 19%|█▉        | 15/80 [00:00<00:00, 149.09it/s]\u001b[A\n",
      " 39%|███▉      | 31/80 [00:00<00:00, 149.94it/s]\u001b[A\n",
      " 59%|█████▉    | 47/80 [00:00<00:00, 150.29it/s]\u001b[A\n",
      " 79%|███████▉  | 63/80 [00:00<00:00, 130.14it/s]\u001b[A\n",
      "100%|██████████| 80/80 [00:00<00:00, 139.64it/s]\u001b[A\n",
      " 78%|███████▊  | 872/1125 [18:22<04:30,  1.07s/it]"
     ]
    },
    {
     "name": "stdout",
     "output_type": "stream",
     "text": [
      "/home/jiang/projects/SubtleGAN/data/brats2021/train/BraTS2021_00580\n"
     ]
    },
    {
     "name": "stderr",
     "output_type": "stream",
     "text": [
      "\n",
      "  0%|          | 0/80 [00:00<?, ?it/s]\u001b[A\n",
      " 20%|██        | 16/80 [00:00<00:00, 153.21it/s]\u001b[A\n",
      " 40%|████      | 32/80 [00:00<00:00, 151.59it/s]\u001b[A\n",
      " 60%|██████    | 48/80 [00:00<00:00, 153.56it/s]\u001b[A\n",
      " 80%|████████  | 64/80 [00:00<00:00, 154.81it/s]\u001b[A\n",
      "100%|██████████| 80/80 [00:00<00:00, 152.46it/s]\u001b[A\n",
      " 78%|███████▊  | 873/1125 [18:23<04:54,  1.17s/it]"
     ]
    },
    {
     "name": "stdout",
     "output_type": "stream",
     "text": [
      "/home/jiang/projects/SubtleGAN/data/brats2021/train/BraTS2021_00054\n"
     ]
    },
    {
     "name": "stderr",
     "output_type": "stream",
     "text": [
      "\n",
      "  0%|          | 0/80 [00:00<?, ?it/s]\u001b[A\n",
      " 20%|██        | 16/80 [00:00<00:00, 153.53it/s]\u001b[A\n",
      " 40%|████      | 32/80 [00:00<00:00, 151.52it/s]\u001b[A\n",
      " 60%|██████    | 48/80 [00:00<00:00, 151.17it/s]\u001b[A\n",
      " 80%|████████  | 64/80 [00:00<00:00, 150.90it/s]\u001b[A\n",
      "100%|██████████| 80/80 [00:00<00:00, 150.12it/s]\u001b[A\n",
      " 78%|███████▊  | 874/1125 [18:24<04:38,  1.11s/it]"
     ]
    },
    {
     "name": "stdout",
     "output_type": "stream",
     "text": [
      "/home/jiang/projects/SubtleGAN/data/brats2021/train/BraTS2021_01028\n"
     ]
    },
    {
     "name": "stderr",
     "output_type": "stream",
     "text": [
      "\n",
      "  0%|          | 0/80 [00:00<?, ?it/s]\u001b[A\n",
      " 20%|██        | 16/80 [00:00<00:00, 153.77it/s]\u001b[A\n",
      " 40%|████      | 32/80 [00:00<00:00, 151.07it/s]\u001b[A\n",
      " 60%|██████    | 48/80 [00:00<00:00, 131.26it/s]\u001b[A\n",
      " 78%|███████▊  | 62/80 [00:00<00:00, 123.87it/s]\u001b[A\n",
      "100%|██████████| 80/80 [00:00<00:00, 124.82it/s]\u001b[A\n",
      " 78%|███████▊  | 875/1125 [18:25<04:35,  1.10s/it]"
     ]
    },
    {
     "name": "stdout",
     "output_type": "stream",
     "text": [
      "/home/jiang/projects/SubtleGAN/data/brats2021/train/BraTS2021_00803\n"
     ]
    },
    {
     "name": "stderr",
     "output_type": "stream",
     "text": [
      "\n",
      "  0%|          | 0/80 [00:00<?, ?it/s]\u001b[A\n",
      " 20%|██        | 16/80 [00:00<00:00, 155.34it/s]\u001b[A\n",
      " 40%|████      | 32/80 [00:00<00:00, 151.94it/s]\u001b[A\n",
      " 60%|██████    | 48/80 [00:00<00:00, 151.02it/s]\u001b[A\n",
      " 80%|████████  | 64/80 [00:00<00:00, 151.18it/s]\u001b[A\n",
      "100%|██████████| 80/80 [00:00<00:00, 151.52it/s]\u001b[A\n",
      " 78%|███████▊  | 876/1125 [18:27<04:54,  1.18s/it]"
     ]
    },
    {
     "name": "stdout",
     "output_type": "stream",
     "text": [
      "/home/jiang/projects/SubtleGAN/data/brats2021/train/BraTS2021_01450\n"
     ]
    },
    {
     "name": "stderr",
     "output_type": "stream",
     "text": [
      "\n",
      "  0%|          | 0/80 [00:00<?, ?it/s]\u001b[A\n",
      " 20%|██        | 16/80 [00:00<00:00, 157.49it/s]\u001b[A\n",
      " 40%|████      | 32/80 [00:00<00:00, 157.06it/s]\u001b[A\n",
      " 60%|██████    | 48/80 [00:00<00:00, 157.04it/s]\u001b[A\n",
      " 80%|████████  | 64/80 [00:00<00:00, 153.68it/s]\u001b[A\n",
      "100%|██████████| 80/80 [00:00<00:00, 153.73it/s]\u001b[A\n",
      " 78%|███████▊  | 877/1125 [18:28<04:40,  1.13s/it]"
     ]
    },
    {
     "name": "stdout",
     "output_type": "stream",
     "text": [
      "/home/jiang/projects/SubtleGAN/data/brats2021/train/BraTS2021_01342\n"
     ]
    },
    {
     "name": "stderr",
     "output_type": "stream",
     "text": [
      "\n",
      "  0%|          | 0/80 [00:00<?, ?it/s]\u001b[A\n",
      " 20%|██        | 16/80 [00:00<00:00, 155.86it/s]\u001b[A\n",
      " 40%|████      | 32/80 [00:00<00:00, 152.42it/s]\u001b[A\n",
      " 60%|██████    | 48/80 [00:00<00:00, 153.12it/s]\u001b[A\n",
      " 80%|████████  | 64/80 [00:00<00:00, 153.13it/s]\u001b[A\n",
      "100%|██████████| 80/80 [00:00<00:00, 152.46it/s]\u001b[A\n",
      " 78%|███████▊  | 878/1125 [18:29<04:33,  1.11s/it]"
     ]
    },
    {
     "name": "stdout",
     "output_type": "stream",
     "text": [
      "/home/jiang/projects/SubtleGAN/data/brats2021/train/BraTS2021_01065\n"
     ]
    },
    {
     "name": "stderr",
     "output_type": "stream",
     "text": [
      "\n",
      "  0%|          | 0/80 [00:00<?, ?it/s]\u001b[A\n",
      " 20%|██        | 16/80 [00:00<00:00, 157.92it/s]\u001b[A\n",
      " 40%|████      | 32/80 [00:00<00:00, 156.31it/s]\u001b[A\n",
      " 60%|██████    | 48/80 [00:00<00:00, 156.11it/s]\u001b[A\n",
      " 80%|████████  | 64/80 [00:00<00:00, 155.97it/s]\u001b[A\n",
      "100%|██████████| 80/80 [00:00<00:00, 155.10it/s]\u001b[A\n",
      " 78%|███████▊  | 879/1125 [18:30<04:27,  1.09s/it]"
     ]
    },
    {
     "name": "stdout",
     "output_type": "stream",
     "text": [
      "/home/jiang/projects/SubtleGAN/data/brats2021/train/BraTS2021_00100\n"
     ]
    },
    {
     "name": "stderr",
     "output_type": "stream",
     "text": [
      "\n",
      "  0%|          | 0/80 [00:00<?, ?it/s]\u001b[A\n",
      " 20%|██        | 16/80 [00:00<00:00, 158.08it/s]\u001b[A\n",
      " 40%|████      | 32/80 [00:00<00:00, 156.18it/s]\u001b[A\n",
      " 60%|██████    | 48/80 [00:00<00:00, 155.90it/s]\u001b[A\n",
      " 80%|████████  | 64/80 [00:00<00:00, 155.45it/s]\u001b[A\n",
      "100%|██████████| 80/80 [00:00<00:00, 154.93it/s]\u001b[A\n",
      " 78%|███████▊  | 880/1125 [18:31<04:22,  1.07s/it]"
     ]
    },
    {
     "name": "stdout",
     "output_type": "stream",
     "text": [
      "/home/jiang/projects/SubtleGAN/data/brats2021/train/BraTS2021_01459\n"
     ]
    },
    {
     "name": "stderr",
     "output_type": "stream",
     "text": [
      "\n",
      "  0%|          | 0/80 [00:00<?, ?it/s]\u001b[A\n",
      " 19%|█▉        | 15/80 [00:00<00:00, 147.83it/s]\u001b[A\n",
      " 39%|███▉      | 31/80 [00:00<00:00, 152.52it/s]\u001b[A\n",
      " 59%|█████▉    | 47/80 [00:00<00:00, 154.00it/s]\u001b[A\n",
      " 79%|███████▉  | 63/80 [00:00<00:00, 154.56it/s]\u001b[A\n",
      "100%|██████████| 80/80 [00:00<00:00, 153.33it/s]\u001b[A\n",
      " 78%|███████▊  | 881/1125 [18:32<04:19,  1.06s/it]"
     ]
    },
    {
     "name": "stdout",
     "output_type": "stream",
     "text": [
      "/home/jiang/projects/SubtleGAN/data/brats2021/train/BraTS2021_01166\n"
     ]
    },
    {
     "name": "stderr",
     "output_type": "stream",
     "text": [
      "\n",
      "  0%|          | 0/80 [00:00<?, ?it/s]\u001b[A\n",
      " 20%|██        | 16/80 [00:00<00:00, 159.00it/s]\u001b[A\n",
      " 40%|████      | 32/80 [00:00<00:00, 157.53it/s]\u001b[A\n",
      " 60%|██████    | 48/80 [00:00<00:00, 157.06it/s]\u001b[A\n",
      " 80%|████████  | 64/80 [00:00<00:00, 156.82it/s]\u001b[A\n",
      "100%|██████████| 80/80 [00:00<00:00, 156.17it/s]\u001b[A\n",
      " 78%|███████▊  | 882/1125 [18:33<04:15,  1.05s/it]"
     ]
    },
    {
     "name": "stdout",
     "output_type": "stream",
     "text": [
      "/home/jiang/projects/SubtleGAN/data/brats2021/train/BraTS2021_00540\n"
     ]
    },
    {
     "name": "stderr",
     "output_type": "stream",
     "text": [
      "\n",
      "  0%|          | 0/80 [00:00<?, ?it/s]\u001b[A\n",
      " 20%|██        | 16/80 [00:00<00:00, 159.91it/s]\u001b[A\n",
      " 40%|████      | 32/80 [00:00<00:00, 158.15it/s]\u001b[A\n",
      " 60%|██████    | 48/80 [00:00<00:00, 157.44it/s]\u001b[A\n",
      " 80%|████████  | 64/80 [00:00<00:00, 157.14it/s]\u001b[A\n",
      "100%|██████████| 80/80 [00:00<00:00, 156.69it/s]\u001b[A\n",
      " 78%|███████▊  | 883/1125 [18:34<04:08,  1.03s/it]"
     ]
    },
    {
     "name": "stdout",
     "output_type": "stream",
     "text": [
      "/home/jiang/projects/SubtleGAN/data/brats2021/train/BraTS2021_01472\n"
     ]
    },
    {
     "name": "stderr",
     "output_type": "stream",
     "text": [
      "\n",
      "  0%|          | 0/80 [00:00<?, ?it/s]\u001b[A\n",
      " 21%|██▏       | 17/80 [00:00<00:00, 160.84it/s]\u001b[A\n",
      " 42%|████▎     | 34/80 [00:00<00:00, 158.79it/s]\u001b[A\n",
      " 62%|██████▎   | 50/80 [00:00<00:00, 157.90it/s]\u001b[A\n",
      "100%|██████████| 80/80 [00:00<00:00, 157.93it/s]\u001b[A\n",
      " 79%|███████▊  | 884/1125 [18:35<04:02,  1.01s/it]"
     ]
    },
    {
     "name": "stdout",
     "output_type": "stream",
     "text": [
      "/home/jiang/projects/SubtleGAN/data/brats2021/train/BraTS2021_01637\n"
     ]
    },
    {
     "name": "stderr",
     "output_type": "stream",
     "text": [
      "\n",
      "  0%|          | 0/80 [00:00<?, ?it/s]\u001b[A\n",
      " 20%|██        | 16/80 [00:00<00:00, 159.66it/s]\u001b[A\n",
      " 40%|████      | 32/80 [00:00<00:00, 158.07it/s]\u001b[A\n",
      " 60%|██████    | 48/80 [00:00<00:00, 157.55it/s]\u001b[A\n",
      " 80%|████████  | 64/80 [00:00<00:00, 157.54it/s]\u001b[A\n",
      "100%|██████████| 80/80 [00:00<00:00, 156.72it/s]\u001b[A\n",
      " 79%|███████▊  | 885/1125 [18:36<04:22,  1.09s/it]"
     ]
    },
    {
     "name": "stdout",
     "output_type": "stream",
     "text": [
      "/home/jiang/projects/SubtleGAN/data/brats2021/train/BraTS2021_00249\n"
     ]
    },
    {
     "name": "stderr",
     "output_type": "stream",
     "text": [
      "\n",
      "  0%|          | 0/80 [00:00<?, ?it/s]\u001b[A\n",
      " 10%|█         | 8/80 [00:00<00:00, 72.47it/s]\u001b[A\n",
      " 20%|██        | 16/80 [00:00<00:00, 67.85it/s]\u001b[A\n",
      " 30%|███       | 24/80 [00:00<00:00, 68.93it/s]\u001b[A\n",
      " 39%|███▉      | 31/80 [00:00<00:00, 68.27it/s]\u001b[A\n",
      " 49%|████▉     | 39/80 [00:00<00:00, 71.41it/s]\u001b[A\n",
      " 60%|██████    | 48/80 [00:00<00:00, 77.19it/s]\u001b[A\n",
      " 74%|███████▍  | 59/80 [00:00<00:00, 85.14it/s]\u001b[A\n",
      " 85%|████████▌ | 68/80 [00:00<00:00, 86.05it/s]\u001b[A\n",
      "100%|██████████| 80/80 [00:00<00:00, 80.75it/s]\u001b[A\n",
      " 79%|███████▉  | 886/1125 [18:38<05:17,  1.33s/it]"
     ]
    },
    {
     "name": "stdout",
     "output_type": "stream",
     "text": [
      "/home/jiang/projects/SubtleGAN/data/brats2021/train/BraTS2021_01427\n"
     ]
    },
    {
     "name": "stderr",
     "output_type": "stream",
     "text": [
      "\n",
      "  0%|          | 0/80 [00:00<?, ?it/s]\u001b[A\n",
      " 12%|█▎        | 10/80 [00:00<00:00, 98.05it/s]\u001b[A\n",
      " 26%|██▋       | 21/80 [00:00<00:00, 102.44it/s]\u001b[A\n",
      " 40%|████      | 32/80 [00:00<00:00, 103.37it/s]\u001b[A\n",
      " 54%|█████▍    | 43/80 [00:00<00:00, 103.71it/s]\u001b[A\n",
      " 68%|██████▊   | 54/80 [00:00<00:00, 104.91it/s]\u001b[A\n",
      " 81%|████████▏ | 65/80 [00:00<00:00, 103.92it/s]\u001b[A\n",
      "100%|██████████| 80/80 [00:00<00:00, 102.99it/s]\u001b[A\n",
      " 79%|███████▉  | 887/1125 [18:39<05:24,  1.37s/it]"
     ]
    },
    {
     "name": "stdout",
     "output_type": "stream",
     "text": [
      "/home/jiang/projects/SubtleGAN/data/brats2021/train/BraTS2021_00455\n"
     ]
    },
    {
     "name": "stderr",
     "output_type": "stream",
     "text": [
      "\n",
      "  0%|          | 0/80 [00:00<?, ?it/s]\u001b[A\n",
      " 15%|█▌        | 12/80 [00:00<00:00, 113.58it/s]\u001b[A\n",
      " 30%|███       | 24/80 [00:00<00:00, 103.97it/s]\u001b[A\n",
      " 44%|████▍     | 35/80 [00:00<00:00, 98.18it/s] \u001b[A\n",
      " 56%|█████▋    | 45/80 [00:00<00:00, 94.20it/s]\u001b[A\n",
      " 69%|██████▉   | 55/80 [00:00<00:00, 92.01it/s]\u001b[A\n",
      " 81%|████████▏ | 65/80 [00:00<00:00, 90.57it/s]\u001b[A\n",
      "100%|██████████| 80/80 [00:00<00:00, 92.56it/s]\u001b[A\n",
      " 79%|███████▉  | 888/1125 [18:41<05:19,  1.35s/it]"
     ]
    },
    {
     "name": "stdout",
     "output_type": "stream",
     "text": [
      "/home/jiang/projects/SubtleGAN/data/brats2021/train/BraTS2021_01124\n"
     ]
    },
    {
     "name": "stderr",
     "output_type": "stream",
     "text": [
      "\n",
      "  0%|          | 0/80 [00:00<?, ?it/s]\u001b[A\n",
      " 12%|█▎        | 10/80 [00:00<00:00, 98.18it/s]\u001b[A\n",
      " 25%|██▌       | 20/80 [00:00<00:00, 91.28it/s]\u001b[A\n",
      " 38%|███▊      | 30/80 [00:00<00:00, 88.19it/s]\u001b[A\n",
      " 49%|████▉     | 39/80 [00:00<00:00, 85.44it/s]\u001b[A\n",
      " 60%|██████    | 48/80 [00:00<00:00, 85.22it/s]\u001b[A\n",
      " 71%|███████▏  | 57/80 [00:00<00:00, 85.08it/s]\u001b[A\n",
      " 82%|████████▎ | 66/80 [00:00<00:00, 84.78it/s]\u001b[A\n",
      "100%|██████████| 80/80 [00:00<00:00, 85.80it/s]\u001b[A\n",
      " 79%|███████▉  | 889/1125 [18:42<05:21,  1.36s/it]"
     ]
    },
    {
     "name": "stdout",
     "output_type": "stream",
     "text": [
      "/home/jiang/projects/SubtleGAN/data/brats2021/train/BraTS2021_00505\n"
     ]
    },
    {
     "name": "stderr",
     "output_type": "stream",
     "text": [
      "\n",
      "  0%|          | 0/80 [00:00<?, ?it/s]\u001b[A\n",
      " 12%|█▎        | 10/80 [00:00<00:00, 93.10it/s]\u001b[A\n",
      " 25%|██▌       | 20/80 [00:00<00:00, 87.50it/s]\u001b[A\n",
      " 36%|███▋      | 29/80 [00:00<00:00, 85.59it/s]\u001b[A\n",
      " 48%|████▊     | 38/80 [00:00<00:00, 86.26it/s]\u001b[A\n",
      " 59%|█████▉    | 47/80 [00:00<00:00, 85.53it/s]\u001b[A\n",
      " 70%|███████   | 56/80 [00:00<00:00, 85.11it/s]\u001b[A\n",
      " 81%|████████▏ | 65/80 [00:00<00:00, 84.87it/s]\u001b[A\n",
      "100%|██████████| 80/80 [00:00<00:00, 85.56it/s]\u001b[A\n",
      " 79%|███████▉  | 890/1125 [18:43<05:19,  1.36s/it]"
     ]
    },
    {
     "name": "stdout",
     "output_type": "stream",
     "text": [
      "/home/jiang/projects/SubtleGAN/data/brats2021/train/BraTS2021_00736\n"
     ]
    },
    {
     "name": "stderr",
     "output_type": "stream",
     "text": [
      "\n",
      "  0%|          | 0/80 [00:00<?, ?it/s]\u001b[A\n",
      " 14%|█▍        | 11/80 [00:00<00:00, 99.69it/s]\u001b[A\n",
      " 26%|██▋       | 21/80 [00:00<00:00, 90.41it/s]\u001b[A\n",
      " 39%|███▉      | 31/80 [00:00<00:00, 87.48it/s]\u001b[A\n",
      " 50%|█████     | 40/80 [00:00<00:00, 86.33it/s]\u001b[A\n",
      " 61%|██████▏   | 49/80 [00:00<00:00, 85.57it/s]\u001b[A\n",
      " 72%|███████▎  | 58/80 [00:00<00:00, 85.24it/s]\u001b[A\n",
      " 84%|████████▍ | 67/80 [00:00<00:00, 85.17it/s]\u001b[A\n",
      "100%|██████████| 80/80 [00:00<00:00, 86.14it/s]\u001b[A\n",
      " 79%|███████▉  | 891/1125 [18:45<05:13,  1.34s/it]"
     ]
    },
    {
     "name": "stdout",
     "output_type": "stream",
     "text": [
      "/home/jiang/projects/SubtleGAN/data/brats2021/train/BraTS2021_00788\n"
     ]
    },
    {
     "name": "stderr",
     "output_type": "stream",
     "text": [
      "\n",
      "  0%|          | 0/80 [00:00<?, ?it/s]\u001b[A\n",
      " 20%|██        | 16/80 [00:00<00:00, 159.02it/s]\u001b[A\n",
      " 40%|████      | 32/80 [00:00<00:00, 153.20it/s]\u001b[A\n",
      " 60%|██████    | 48/80 [00:00<00:00, 114.86it/s]\u001b[A\n",
      " 76%|███████▋  | 61/80 [00:00<00:00, 104.25it/s]\u001b[A\n",
      "100%|██████████| 80/80 [00:00<00:00, 106.21it/s]\u001b[A\n",
      " 79%|███████▉  | 892/1125 [18:46<05:35,  1.44s/it]"
     ]
    },
    {
     "name": "stdout",
     "output_type": "stream",
     "text": [
      "/home/jiang/projects/SubtleGAN/data/brats2021/train/BraTS2021_01423\n"
     ]
    },
    {
     "name": "stderr",
     "output_type": "stream",
     "text": [
      "\n",
      "  0%|          | 0/80 [00:00<?, ?it/s]\u001b[A\n",
      " 14%|█▍        | 11/80 [00:00<00:00, 105.48it/s]\u001b[A\n",
      " 28%|██▊       | 22/80 [00:00<00:00, 96.04it/s] \u001b[A\n",
      " 40%|████      | 32/80 [00:00<00:00, 92.39it/s]\u001b[A\n",
      " 52%|█████▎    | 42/80 [00:00<00:00, 90.28it/s]\u001b[A\n",
      " 65%|██████▌   | 52/80 [00:00<00:00, 88.39it/s]\u001b[A\n",
      " 76%|███████▋  | 61/80 [00:00<00:00, 87.65it/s]\u001b[A\n",
      " 88%|████████▊ | 70/80 [00:00<00:00, 86.85it/s]\u001b[A\n",
      "100%|██████████| 80/80 [00:00<00:00, 89.15it/s]\u001b[A\n",
      " 79%|███████▉  | 893/1125 [18:48<05:28,  1.42s/it]"
     ]
    },
    {
     "name": "stdout",
     "output_type": "stream",
     "text": [
      "/home/jiang/projects/SubtleGAN/data/brats2021/train/BraTS2021_01469\n"
     ]
    },
    {
     "name": "stderr",
     "output_type": "stream",
     "text": [
      "\n",
      "  0%|          | 0/80 [00:00<?, ?it/s]\u001b[A\n",
      " 16%|█▋        | 13/80 [00:00<00:00, 127.61it/s]\u001b[A\n",
      " 32%|███▎      | 26/80 [00:00<00:00, 101.16it/s]\u001b[A\n",
      " 46%|████▋     | 37/80 [00:00<00:00, 95.39it/s] \u001b[A\n",
      " 59%|█████▉    | 47/80 [00:00<00:00, 92.78it/s]\u001b[A\n",
      " 71%|███████▏  | 57/80 [00:00<00:00, 91.12it/s]\u001b[A\n",
      " 84%|████████▍ | 67/80 [00:00<00:00, 90.27it/s]\u001b[A\n",
      "100%|██████████| 80/80 [00:00<00:00, 92.72it/s]\u001b[A\n",
      " 79%|███████▉  | 894/1125 [18:49<05:19,  1.38s/it]"
     ]
    },
    {
     "name": "stdout",
     "output_type": "stream",
     "text": [
      "/home/jiang/projects/SubtleGAN/data/brats2021/train/BraTS2021_00338\n"
     ]
    },
    {
     "name": "stderr",
     "output_type": "stream",
     "text": [
      "\n",
      "  0%|          | 0/80 [00:00<?, ?it/s]\u001b[A\n",
      " 12%|█▎        | 10/80 [00:00<00:00, 97.27it/s]\u001b[A\n",
      " 25%|██▌       | 20/80 [00:00<00:00, 90.04it/s]\u001b[A\n",
      " 38%|███▊      | 30/80 [00:00<00:00, 88.06it/s]\u001b[A\n",
      " 49%|████▉     | 39/80 [00:00<00:00, 87.02it/s]\u001b[A\n",
      " 60%|██████    | 48/80 [00:00<00:00, 86.41it/s]\u001b[A\n",
      " 71%|███████▏  | 57/80 [00:00<00:00, 86.94it/s]\u001b[A\n",
      " 82%|████████▎ | 66/80 [00:00<00:00, 87.27it/s]\u001b[A\n",
      "100%|██████████| 80/80 [00:00<00:00, 87.63it/s]\u001b[A\n",
      " 80%|███████▉  | 895/1125 [18:50<05:16,  1.38s/it]"
     ]
    },
    {
     "name": "stdout",
     "output_type": "stream",
     "text": [
      "/home/jiang/projects/SubtleGAN/data/brats2021/train/BraTS2021_00106\n"
     ]
    },
    {
     "name": "stderr",
     "output_type": "stream",
     "text": [
      "\n",
      "  0%|          | 0/80 [00:00<?, ?it/s]\u001b[A\n",
      " 14%|█▍        | 11/80 [00:00<00:00, 99.94it/s]\u001b[A\n",
      " 26%|██▋       | 21/80 [00:00<00:00, 90.65it/s]\u001b[A\n",
      " 39%|███▉      | 31/80 [00:00<00:00, 87.74it/s]\u001b[A\n",
      " 50%|█████     | 40/80 [00:00<00:00, 86.48it/s]\u001b[A\n",
      " 61%|██████▏   | 49/80 [00:00<00:00, 85.76it/s]\u001b[A\n",
      " 72%|███████▎  | 58/80 [00:00<00:00, 85.27it/s]\u001b[A\n",
      " 84%|████████▍ | 67/80 [00:00<00:00, 84.93it/s]\u001b[A\n",
      "100%|██████████| 80/80 [00:00<00:00, 86.14it/s]\u001b[A\n",
      " 80%|███████▉  | 896/1125 [18:52<05:15,  1.38s/it]"
     ]
    },
    {
     "name": "stdout",
     "output_type": "stream",
     "text": [
      "/home/jiang/projects/SubtleGAN/data/brats2021/train/BraTS2021_01445\n"
     ]
    },
    {
     "name": "stderr",
     "output_type": "stream",
     "text": [
      "\n",
      "  0%|          | 0/80 [00:00<?, ?it/s]\u001b[A\n",
      " 12%|█▎        | 10/80 [00:00<00:00, 92.85it/s]\u001b[A\n",
      " 25%|██▌       | 20/80 [00:00<00:00, 89.02it/s]\u001b[A\n",
      " 36%|███▋      | 29/80 [00:00<00:00, 87.90it/s]\u001b[A\n",
      " 48%|████▊     | 38/80 [00:00<00:00, 87.34it/s]\u001b[A\n",
      " 59%|█████▉    | 47/80 [00:00<00:00, 86.14it/s]\u001b[A\n",
      " 70%|███████   | 56/80 [00:00<00:00, 85.28it/s]\u001b[A\n",
      " 81%|████████▏ | 65/80 [00:00<00:00, 85.50it/s]\u001b[A\n",
      "100%|██████████| 80/80 [00:00<00:00, 86.79it/s]\u001b[A\n",
      " 80%|███████▉  | 897/1125 [18:53<05:13,  1.38s/it]"
     ]
    },
    {
     "name": "stdout",
     "output_type": "stream",
     "text": [
      "/home/jiang/projects/SubtleGAN/data/brats2021/train/BraTS2021_01191\n"
     ]
    },
    {
     "name": "stderr",
     "output_type": "stream",
     "text": [
      "\n",
      "  0%|          | 0/80 [00:00<?, ?it/s]\u001b[A\n",
      " 14%|█▍        | 11/80 [00:00<00:00, 99.80it/s]\u001b[A\n",
      " 26%|██▋       | 21/80 [00:00<00:00, 92.38it/s]\u001b[A\n",
      " 39%|███▉      | 31/80 [00:00<00:00, 90.02it/s]\u001b[A\n",
      " 51%|█████▏    | 41/80 [00:00<00:00, 87.99it/s]\u001b[A\n",
      " 62%|██████▎   | 50/80 [00:00<00:00, 87.13it/s]\u001b[A\n",
      " 75%|███████▌  | 60/80 [00:00<00:00, 89.41it/s]\u001b[A\n",
      " 86%|████████▋ | 69/80 [00:00<00:00, 88.64it/s]\u001b[A\n",
      "100%|██████████| 80/80 [00:00<00:00, 88.80it/s]\u001b[A\n",
      " 80%|███████▉  | 898/1125 [18:55<05:11,  1.37s/it]"
     ]
    },
    {
     "name": "stdout",
     "output_type": "stream",
     "text": [
      "/home/jiang/projects/SubtleGAN/data/brats2021/train/BraTS2021_01223\n"
     ]
    },
    {
     "name": "stderr",
     "output_type": "stream",
     "text": [
      "\n",
      "  0%|          | 0/80 [00:00<?, ?it/s]\u001b[A\n",
      " 12%|█▎        | 10/80 [00:00<00:00, 97.95it/s]\u001b[A\n",
      " 25%|██▌       | 20/80 [00:00<00:00, 91.77it/s]\u001b[A\n",
      " 38%|███▊      | 30/80 [00:00<00:00, 89.63it/s]\u001b[A\n",
      " 49%|████▉     | 39/80 [00:00<00:00, 88.63it/s]\u001b[A\n",
      " 60%|██████    | 48/80 [00:00<00:00, 88.07it/s]\u001b[A\n",
      " 71%|███████▏  | 57/80 [00:00<00:00, 70.04it/s]\u001b[A\n",
      " 82%|████████▎ | 66/80 [00:00<00:00, 73.92it/s]\u001b[A\n",
      "100%|██████████| 80/80 [00:00<00:00, 80.40it/s]\u001b[A\n",
      " 80%|███████▉  | 899/1125 [18:56<05:15,  1.40s/it]"
     ]
    },
    {
     "name": "stdout",
     "output_type": "stream",
     "text": [
      "/home/jiang/projects/SubtleGAN/data/brats2021/train/BraTS2021_01279\n"
     ]
    },
    {
     "name": "stderr",
     "output_type": "stream",
     "text": [
      "\n",
      "  0%|          | 0/80 [00:00<?, ?it/s]\u001b[A\n",
      " 12%|█▎        | 10/80 [00:00<00:00, 93.46it/s]\u001b[A\n",
      " 25%|██▌       | 20/80 [00:00<00:00, 87.43it/s]\u001b[A\n",
      " 36%|███▋      | 29/80 [00:00<00:00, 84.92it/s]\u001b[A\n",
      " 48%|████▊     | 38/80 [00:00<00:00, 86.60it/s]\u001b[A\n",
      " 59%|█████▉    | 47/80 [00:00<00:00, 86.10it/s]\u001b[A\n",
      " 70%|███████   | 56/80 [00:00<00:00, 85.89it/s]\u001b[A\n",
      " 81%|████████▏ | 65/80 [00:00<00:00, 84.81it/s]\u001b[A\n",
      "100%|██████████| 80/80 [00:00<00:00, 85.04it/s]\u001b[A\n",
      " 80%|████████  | 900/1125 [18:57<05:14,  1.40s/it]"
     ]
    },
    {
     "name": "stdout",
     "output_type": "stream",
     "text": [
      "/home/jiang/projects/SubtleGAN/data/brats2021/train/BraTS2021_01380\n"
     ]
    },
    {
     "name": "stderr",
     "output_type": "stream",
     "text": [
      "\n",
      "  0%|          | 0/80 [00:00<?, ?it/s]\u001b[A\n",
      " 11%|█▏        | 9/80 [00:00<00:00, 89.29it/s]\u001b[A\n",
      " 22%|██▎       | 18/80 [00:00<00:00, 82.15it/s]\u001b[A\n",
      " 34%|███▍      | 27/80 [00:00<00:00, 82.26it/s]\u001b[A\n",
      " 45%|████▌     | 36/80 [00:00<00:00, 84.01it/s]\u001b[A\n",
      " 56%|█████▋    | 45/80 [00:00<00:00, 83.05it/s]\u001b[A\n",
      " 68%|██████▊   | 54/80 [00:00<00:00, 80.96it/s]\u001b[A\n",
      " 79%|███████▉  | 63/80 [00:00<00:00, 82.34it/s]\u001b[A\n",
      " 90%|█████████ | 72/80 [00:00<00:00, 78.43it/s]\u001b[A\n",
      "100%|██████████| 80/80 [00:00<00:00, 80.01it/s]\u001b[A\n",
      " 80%|████████  | 901/1125 [18:59<05:18,  1.42s/it]"
     ]
    },
    {
     "name": "stdout",
     "output_type": "stream",
     "text": [
      "/home/jiang/projects/SubtleGAN/data/brats2021/train/BraTS2021_01606\n"
     ]
    },
    {
     "name": "stderr",
     "output_type": "stream",
     "text": [
      "\n",
      "  0%|          | 0/80 [00:00<?, ?it/s]\u001b[A\n",
      " 20%|██        | 16/80 [00:00<00:00, 154.13it/s]\u001b[A\n",
      " 40%|████      | 32/80 [00:00<00:00, 144.86it/s]\u001b[A\n",
      " 59%|█████▉    | 47/80 [00:00<00:00, 106.46it/s]\u001b[A\n",
      " 74%|███████▍  | 59/80 [00:00<00:00, 92.99it/s] \u001b[A\n",
      " 86%|████████▋ | 69/80 [00:00<00:00, 87.16it/s]\u001b[A\n",
      "100%|██████████| 80/80 [00:00<00:00, 94.35it/s]\u001b[A\n",
      " 80%|████████  | 902/1125 [19:01<05:40,  1.53s/it]"
     ]
    },
    {
     "name": "stdout",
     "output_type": "stream",
     "text": [
      "/home/jiang/projects/SubtleGAN/data/brats2021/train/BraTS2021_00356\n"
     ]
    },
    {
     "name": "stderr",
     "output_type": "stream",
     "text": [
      "\n",
      "  0%|          | 0/80 [00:00<?, ?it/s]\u001b[A\n",
      " 12%|█▎        | 10/80 [00:00<00:00, 95.32it/s]\u001b[A\n",
      " 25%|██▌       | 20/80 [00:00<00:00, 88.08it/s]\u001b[A\n",
      " 36%|███▋      | 29/80 [00:00<00:00, 88.34it/s]\u001b[A\n",
      " 48%|████▊     | 38/80 [00:00<00:00, 87.82it/s]\u001b[A\n",
      " 59%|█████▉    | 47/80 [00:00<00:00, 85.62it/s]\u001b[A\n",
      " 70%|███████   | 56/80 [00:00<00:00, 82.74it/s]\u001b[A\n",
      " 81%|████████▏ | 65/80 [00:00<00:00, 81.77it/s]\u001b[A\n",
      "100%|██████████| 80/80 [00:01<00:00, 78.20it/s]\u001b[A\n",
      " 80%|████████  | 903/1125 [19:02<05:38,  1.52s/it]"
     ]
    },
    {
     "name": "stdout",
     "output_type": "stream",
     "text": [
      "/home/jiang/projects/SubtleGAN/data/brats2021/train/BraTS2021_01329\n"
     ]
    },
    {
     "name": "stderr",
     "output_type": "stream",
     "text": [
      "\n",
      "  0%|          | 0/80 [00:00<?, ?it/s]\u001b[A\n",
      " 11%|█▏        | 9/80 [00:00<00:00, 82.54it/s]\u001b[A\n",
      " 22%|██▎       | 18/80 [00:00<00:00, 78.05it/s]\u001b[A\n",
      " 32%|███▎      | 26/80 [00:00<00:00, 78.57it/s]\u001b[A\n",
      " 42%|████▎     | 34/80 [00:00<00:00, 77.09it/s]\u001b[A\n",
      " 56%|█████▋    | 45/80 [00:00<00:00, 84.51it/s]\u001b[A\n",
      " 68%|██████▊   | 54/80 [00:00<00:00, 80.33it/s]\u001b[A\n",
      " 79%|███████▉  | 63/80 [00:00<00:00, 81.71it/s]\u001b[A\n",
      "100%|██████████| 80/80 [00:00<00:00, 80.01it/s]\u001b[A\n",
      " 80%|████████  | 904/1125 [19:04<05:34,  1.51s/it]"
     ]
    },
    {
     "name": "stdout",
     "output_type": "stream",
     "text": [
      "/home/jiang/projects/SubtleGAN/data/brats2021/train/BraTS2021_00209\n"
     ]
    },
    {
     "name": "stderr",
     "output_type": "stream",
     "text": [
      "\n",
      "  0%|          | 0/80 [00:00<?, ?it/s]\u001b[A\n",
      " 14%|█▍        | 11/80 [00:00<00:00, 100.62it/s]\u001b[A\n",
      " 28%|██▊       | 22/80 [00:00<00:00, 87.11it/s] \u001b[A\n",
      " 39%|███▉      | 31/80 [00:00<00:00, 83.68it/s]\u001b[A\n",
      " 50%|█████     | 40/80 [00:00<00:00, 82.65it/s]\u001b[A\n",
      " 61%|██████▏   | 49/80 [00:00<00:00, 80.54it/s]\u001b[A\n",
      " 72%|███████▎  | 58/80 [00:00<00:00, 80.47it/s]\u001b[A\n",
      " 84%|████████▍ | 67/80 [00:00<00:00, 78.70it/s]\u001b[A\n",
      "100%|██████████| 80/80 [00:00<00:00, 81.16it/s]\u001b[A\n",
      " 80%|████████  | 905/1125 [19:05<05:31,  1.51s/it]"
     ]
    },
    {
     "name": "stdout",
     "output_type": "stream",
     "text": [
      "/home/jiang/projects/SubtleGAN/data/brats2021/train/BraTS2021_00328\n"
     ]
    },
    {
     "name": "stderr",
     "output_type": "stream",
     "text": [
      "\n",
      "  0%|          | 0/80 [00:00<?, ?it/s]\u001b[A\n",
      " 12%|█▎        | 10/80 [00:00<00:00, 90.73it/s]\u001b[A\n",
      " 25%|██▌       | 20/80 [00:00<00:00, 83.69it/s]\u001b[A\n",
      " 36%|███▋      | 29/80 [00:00<00:00, 83.71it/s]\u001b[A\n",
      " 48%|████▊     | 38/80 [00:00<00:00, 82.05it/s]\u001b[A\n",
      " 59%|█████▉    | 47/80 [00:00<00:00, 81.82it/s]\u001b[A\n",
      " 70%|███████   | 56/80 [00:00<00:00, 80.84it/s]\u001b[A\n",
      " 81%|████████▏ | 65/80 [00:00<00:00, 80.26it/s]\u001b[A\n",
      "100%|██████████| 80/80 [00:00<00:00, 80.72it/s]\u001b[A\n",
      " 81%|████████  | 906/1125 [19:07<05:29,  1.51s/it]"
     ]
    },
    {
     "name": "stdout",
     "output_type": "stream",
     "text": [
      "/home/jiang/projects/SubtleGAN/data/brats2021/train/BraTS2021_01033\n"
     ]
    },
    {
     "name": "stderr",
     "output_type": "stream",
     "text": [
      "\n",
      "  0%|          | 0/80 [00:00<?, ?it/s]\u001b[A\n",
      " 11%|█▏        | 9/80 [00:00<00:00, 85.30it/s]\u001b[A\n",
      " 22%|██▎       | 18/80 [00:00<00:00, 77.20it/s]\u001b[A\n",
      " 32%|███▎      | 26/80 [00:00<00:00, 74.59it/s]\u001b[A\n",
      " 42%|████▎     | 34/80 [00:00<00:00, 72.89it/s]\u001b[A\n",
      " 52%|█████▎    | 42/80 [00:00<00:00, 72.04it/s]\u001b[A\n",
      " 62%|██████▎   | 50/80 [00:00<00:00, 71.55it/s]\u001b[A\n",
      " 72%|███████▎  | 58/80 [00:00<00:00, 70.72it/s]\u001b[A\n",
      " 82%|████████▎ | 66/80 [00:00<00:00, 70.64it/s]\u001b[A\n",
      "100%|██████████| 80/80 [00:01<00:00, 73.21it/s]\u001b[A\n",
      " 81%|████████  | 907/1125 [19:08<05:36,  1.54s/it]"
     ]
    },
    {
     "name": "stdout",
     "output_type": "stream",
     "text": [
      "/home/jiang/projects/SubtleGAN/data/brats2021/train/BraTS2021_01596\n"
     ]
    },
    {
     "name": "stderr",
     "output_type": "stream",
     "text": [
      "\n",
      "  0%|          | 0/80 [00:00<?, ?it/s]\u001b[A\n",
      " 20%|██        | 16/80 [00:00<00:00, 159.45it/s]\u001b[A\n",
      " 40%|████      | 32/80 [00:00<00:00, 157.74it/s]\u001b[A\n",
      " 60%|██████    | 48/80 [00:00<00:00, 119.41it/s]\u001b[A\n",
      " 76%|███████▋  | 61/80 [00:00<00:00, 103.58it/s]\u001b[A\n",
      "100%|██████████| 80/80 [00:00<00:00, 103.48it/s]\u001b[A\n",
      " 81%|████████  | 908/1125 [19:10<05:43,  1.58s/it]"
     ]
    },
    {
     "name": "stdout",
     "output_type": "stream",
     "text": [
      "/home/jiang/projects/SubtleGAN/data/brats2021/train/BraTS2021_01319\n"
     ]
    },
    {
     "name": "stderr",
     "output_type": "stream",
     "text": [
      "\n",
      "  0%|          | 0/80 [00:00<?, ?it/s]\u001b[A\n",
      " 12%|█▎        | 10/80 [00:00<00:00, 90.40it/s]\u001b[A\n",
      " 25%|██▌       | 20/80 [00:00<00:00, 80.82it/s]\u001b[A\n",
      " 36%|███▋      | 29/80 [00:00<00:00, 77.78it/s]\u001b[A\n",
      " 46%|████▋     | 37/80 [00:00<00:00, 76.09it/s]\u001b[A\n",
      " 56%|█████▋    | 45/80 [00:00<00:00, 74.58it/s]\u001b[A\n",
      " 68%|██████▊   | 54/80 [00:00<00:00, 77.83it/s]\u001b[A\n",
      " 79%|███████▉  | 63/80 [00:00<00:00, 79.34it/s]\u001b[A\n",
      " 89%|████████▉ | 71/80 [00:00<00:00, 77.31it/s]\u001b[A\n",
      "100%|██████████| 80/80 [00:01<00:00, 77.11it/s]\u001b[A\n",
      " 81%|████████  | 909/1125 [19:12<05:37,  1.56s/it]"
     ]
    },
    {
     "name": "stdout",
     "output_type": "stream",
     "text": [
      "/home/jiang/projects/SubtleGAN/data/brats2021/train/BraTS2021_00151\n"
     ]
    },
    {
     "name": "stderr",
     "output_type": "stream",
     "text": [
      "\n",
      "  0%|          | 0/80 [00:00<?, ?it/s]\u001b[A\n",
      " 11%|█▏        | 9/80 [00:00<00:00, 82.02it/s]\u001b[A\n",
      " 22%|██▎       | 18/80 [00:00<00:00, 73.81it/s]\u001b[A\n",
      " 32%|███▎      | 26/80 [00:00<00:00, 72.82it/s]\u001b[A\n",
      " 42%|████▎     | 34/80 [00:00<00:00, 74.32it/s]\u001b[A\n",
      " 54%|█████▍    | 43/80 [00:00<00:00, 77.23it/s]\u001b[A\n",
      " 64%|██████▍   | 51/80 [00:00<00:00, 76.64it/s]\u001b[A\n",
      " 74%|███████▍  | 59/80 [00:00<00:00, 76.08it/s]\u001b[A\n",
      " 84%|████████▍ | 67/80 [00:00<00:00, 74.47it/s]\u001b[A\n",
      "100%|██████████| 80/80 [00:01<00:00, 75.12it/s]\u001b[A\n",
      " 81%|████████  | 910/1125 [19:13<05:35,  1.56s/it]"
     ]
    },
    {
     "name": "stdout",
     "output_type": "stream",
     "text": [
      "/home/jiang/projects/SubtleGAN/data/brats2021/train/BraTS2021_01044\n"
     ]
    },
    {
     "name": "stderr",
     "output_type": "stream",
     "text": [
      "\n",
      "  0%|          | 0/80 [00:00<?, ?it/s]\u001b[A\n",
      " 12%|█▎        | 10/80 [00:00<00:00, 90.00it/s]\u001b[A\n",
      " 25%|██▌       | 20/80 [00:00<00:00, 91.92it/s]\u001b[A\n",
      " 38%|███▊      | 30/80 [00:00<00:00, 82.62it/s]\u001b[A\n",
      " 49%|████▉     | 39/80 [00:00<00:00, 79.89it/s]\u001b[A\n",
      " 60%|██████    | 48/80 [00:00<00:00, 76.36it/s]\u001b[A\n",
      " 70%|███████   | 56/80 [00:00<00:00, 75.57it/s]\u001b[A\n",
      " 80%|████████  | 64/80 [00:00<00:00, 76.14it/s]\u001b[A\n",
      " 90%|█████████ | 72/80 [00:00<00:00, 75.38it/s]\u001b[A\n",
      "100%|██████████| 80/80 [00:01<00:00, 77.61it/s]\u001b[A\n",
      " 81%|████████  | 911/1125 [19:15<05:33,  1.56s/it]"
     ]
    },
    {
     "name": "stdout",
     "output_type": "stream",
     "text": [
      "/home/jiang/projects/SubtleGAN/data/brats2021/train/BraTS2021_00625\n"
     ]
    },
    {
     "name": "stderr",
     "output_type": "stream",
     "text": [
      "\n",
      "  0%|          | 0/80 [00:00<?, ?it/s]\u001b[A\n",
      " 12%|█▎        | 10/80 [00:00<00:00, 90.00it/s]\u001b[A\n",
      " 25%|██▌       | 20/80 [00:00<00:00, 80.94it/s]\u001b[A\n",
      " 36%|███▋      | 29/80 [00:00<00:00, 78.11it/s]\u001b[A\n",
      " 46%|████▋     | 37/80 [00:00<00:00, 77.34it/s]\u001b[A\n",
      " 56%|█████▋    | 45/80 [00:00<00:00, 76.76it/s]\u001b[A\n",
      " 66%|██████▋   | 53/80 [00:00<00:00, 76.01it/s]\u001b[A\n",
      " 76%|███████▋  | 61/80 [00:00<00:00, 75.97it/s]\u001b[A\n",
      " 86%|████████▋ | 69/80 [00:00<00:00, 75.45it/s]\u001b[A\n",
      "100%|██████████| 80/80 [00:01<00:00, 76.47it/s]\u001b[A\n",
      " 81%|████████  | 912/1125 [19:16<05:27,  1.54s/it]"
     ]
    },
    {
     "name": "stdout",
     "output_type": "stream",
     "text": [
      "/home/jiang/projects/SubtleGAN/data/brats2021/train/BraTS2021_01014\n"
     ]
    },
    {
     "name": "stderr",
     "output_type": "stream",
     "text": [
      "\n",
      "  0%|          | 0/80 [00:00<?, ?it/s]\u001b[A\n",
      " 11%|█▏        | 9/80 [00:00<00:00, 85.88it/s]\u001b[A\n",
      " 22%|██▎       | 18/80 [00:00<00:00, 79.08it/s]\u001b[A\n",
      " 32%|███▎      | 26/80 [00:00<00:00, 77.63it/s]\u001b[A\n",
      " 42%|████▎     | 34/80 [00:00<00:00, 77.32it/s]\u001b[A\n",
      " 52%|█████▎    | 42/80 [00:00<00:00, 75.44it/s]\u001b[A\n",
      " 62%|██████▎   | 50/80 [00:00<00:00, 75.59it/s]\u001b[A\n",
      " 72%|███████▎  | 58/80 [00:00<00:00, 75.03it/s]\u001b[A\n",
      " 82%|████████▎ | 66/80 [00:00<00:00, 74.74it/s]\u001b[A\n",
      "100%|██████████| 80/80 [00:01<00:00, 76.12it/s]\u001b[A\n",
      " 81%|████████  | 913/1125 [19:18<05:27,  1.54s/it]"
     ]
    },
    {
     "name": "stdout",
     "output_type": "stream",
     "text": [
      "/home/jiang/projects/SubtleGAN/data/brats2021/train/BraTS2021_01608\n"
     ]
    },
    {
     "name": "stderr",
     "output_type": "stream",
     "text": [
      "\n",
      "  0%|          | 0/80 [00:00<?, ?it/s]\u001b[A\n",
      " 18%|█▊        | 14/80 [00:00<00:00, 136.77it/s]\u001b[A\n",
      " 35%|███▌      | 28/80 [00:00<00:00, 134.22it/s]\u001b[A\n",
      " 52%|█████▎    | 42/80 [00:00<00:00, 112.80it/s]\u001b[A\n",
      " 68%|██████▊   | 54/80 [00:00<00:00, 95.41it/s] \u001b[A\n",
      " 80%|████████  | 64/80 [00:00<00:00, 88.55it/s]\u001b[A\n",
      "100%|██████████| 80/80 [00:00<00:00, 93.32it/s]\u001b[A\n",
      " 81%|████████  | 914/1125 [19:20<05:44,  1.63s/it]"
     ]
    },
    {
     "name": "stdout",
     "output_type": "stream",
     "text": [
      "/home/jiang/projects/SubtleGAN/data/brats2021/train/BraTS2021_01038\n"
     ]
    },
    {
     "name": "stderr",
     "output_type": "stream",
     "text": [
      "\n",
      "  0%|          | 0/80 [00:00<?, ?it/s]\u001b[A\n",
      " 11%|█▏        | 9/80 [00:00<00:00, 85.34it/s]\u001b[A\n",
      " 22%|██▎       | 18/80 [00:00<00:00, 80.09it/s]\u001b[A\n",
      " 34%|███▍      | 27/80 [00:00<00:00, 77.51it/s]\u001b[A\n",
      " 44%|████▍     | 35/80 [00:00<00:00, 76.85it/s]\u001b[A\n",
      " 54%|█████▍    | 43/80 [00:00<00:00, 75.98it/s]\u001b[A\n",
      " 64%|██████▍   | 51/80 [00:00<00:00, 75.72it/s]\u001b[A\n",
      " 74%|███████▍  | 59/80 [00:00<00:00, 74.59it/s]\u001b[A\n",
      "100%|██████████| 80/80 [00:00<00:00, 84.48it/s]\u001b[A\n",
      " 81%|████████▏ | 915/1125 [19:21<05:31,  1.58s/it]"
     ]
    },
    {
     "name": "stdout",
     "output_type": "stream",
     "text": [
      "/home/jiang/projects/SubtleGAN/data/brats2021/train/BraTS2021_01196\n"
     ]
    },
    {
     "name": "stderr",
     "output_type": "stream",
     "text": [
      "\n",
      "  0%|          | 0/80 [00:00<?, ?it/s]\u001b[A\n",
      " 18%|█▊        | 14/80 [00:00<00:00, 137.92it/s]\u001b[A\n",
      " 35%|███▌      | 28/80 [00:00<00:00, 133.28it/s]\u001b[A\n",
      " 52%|█████▎    | 42/80 [00:00<00:00, 129.74it/s]\u001b[A\n",
      " 70%|███████   | 56/80 [00:00<00:00, 130.76it/s]\u001b[A\n",
      "100%|██████████| 80/80 [00:00<00:00, 129.77it/s]\u001b[A\n",
      " 81%|████████▏ | 916/1125 [19:22<05:02,  1.45s/it]"
     ]
    },
    {
     "name": "stdout",
     "output_type": "stream",
     "text": [
      "/home/jiang/projects/SubtleGAN/data/brats2021/train/BraTS2021_00446\n"
     ]
    },
    {
     "name": "stderr",
     "output_type": "stream",
     "text": [
      "\n",
      "  0%|          | 0/80 [00:00<?, ?it/s]\u001b[A\n",
      " 16%|█▋        | 13/80 [00:00<00:00, 129.95it/s]\u001b[A\n",
      " 34%|███▍      | 27/80 [00:00<00:00, 132.40it/s]\u001b[A\n",
      " 51%|█████▏    | 41/80 [00:00<00:00, 131.56it/s]\u001b[A\n",
      " 69%|██████▉   | 55/80 [00:00<00:00, 130.80it/s]\u001b[A\n",
      "100%|██████████| 80/80 [00:00<00:00, 130.21it/s]\u001b[A\n",
      " 82%|████████▏ | 917/1125 [19:23<04:43,  1.36s/it]"
     ]
    },
    {
     "name": "stdout",
     "output_type": "stream",
     "text": [
      "/home/jiang/projects/SubtleGAN/data/brats2021/train/BraTS2021_00194\n"
     ]
    },
    {
     "name": "stderr",
     "output_type": "stream",
     "text": [
      "\n",
      "  0%|          | 0/80 [00:00<?, ?it/s]\u001b[A\n",
      " 18%|█▊        | 14/80 [00:00<00:00, 132.00it/s]\u001b[A\n",
      " 35%|███▌      | 28/80 [00:00<00:00, 130.26it/s]\u001b[A\n",
      " 52%|█████▎    | 42/80 [00:00<00:00, 126.48it/s]\u001b[A\n",
      " 69%|██████▉   | 55/80 [00:00<00:00, 127.19it/s]\u001b[A\n",
      "100%|██████████| 80/80 [00:00<00:00, 127.56it/s]\u001b[A\n",
      " 82%|████████▏ | 918/1125 [19:25<04:36,  1.34s/it]"
     ]
    },
    {
     "name": "stdout",
     "output_type": "stream",
     "text": [
      "/home/jiang/projects/SubtleGAN/data/brats2021/train/BraTS2021_00367\n"
     ]
    },
    {
     "name": "stderr",
     "output_type": "stream",
     "text": [
      "\n",
      "  0%|          | 0/80 [00:00<?, ?it/s]\u001b[A\n",
      " 18%|█▊        | 14/80 [00:00<00:00, 129.40it/s]\u001b[A\n",
      " 35%|███▌      | 28/80 [00:00<00:00, 131.79it/s]\u001b[A\n",
      " 52%|█████▎    | 42/80 [00:00<00:00, 132.48it/s]\u001b[A\n",
      " 70%|███████   | 56/80 [00:00<00:00, 131.99it/s]\u001b[A\n",
      "100%|██████████| 80/80 [00:00<00:00, 132.25it/s]\u001b[A\n",
      " 82%|████████▏ | 919/1125 [19:26<04:30,  1.31s/it]"
     ]
    },
    {
     "name": "stdout",
     "output_type": "stream",
     "text": [
      "/home/jiang/projects/SubtleGAN/data/brats2021/train/BraTS2021_00155\n"
     ]
    },
    {
     "name": "stderr",
     "output_type": "stream",
     "text": [
      "\n",
      "  0%|          | 0/80 [00:00<?, ?it/s]\u001b[A\n",
      " 20%|██        | 16/80 [00:00<00:00, 156.84it/s]\u001b[A\n",
      " 40%|████      | 32/80 [00:00<00:00, 154.10it/s]\u001b[A\n",
      " 60%|██████    | 48/80 [00:00<00:00, 148.94it/s]\u001b[A\n",
      " 80%|████████  | 64/80 [00:00<00:00, 150.67it/s]\u001b[A\n",
      "100%|██████████| 80/80 [00:00<00:00, 150.82it/s]\u001b[A\n",
      " 82%|████████▏ | 920/1125 [19:27<04:16,  1.25s/it]"
     ]
    },
    {
     "name": "stdout",
     "output_type": "stream",
     "text": [
      "/home/jiang/projects/SubtleGAN/data/brats2021/train/BraTS2021_00128\n"
     ]
    },
    {
     "name": "stderr",
     "output_type": "stream",
     "text": [
      "\n",
      "  0%|          | 0/80 [00:00<?, ?it/s]\u001b[A\n",
      " 20%|██        | 16/80 [00:00<00:00, 156.00it/s]\u001b[A\n",
      " 40%|████      | 32/80 [00:00<00:00, 153.87it/s]\u001b[A\n",
      " 60%|██████    | 48/80 [00:00<00:00, 153.20it/s]\u001b[A\n",
      " 80%|████████  | 64/80 [00:00<00:00, 152.92it/s]\u001b[A\n",
      "100%|██████████| 80/80 [00:00<00:00, 152.18it/s]\u001b[A\n",
      " 82%|████████▏ | 921/1125 [19:28<03:58,  1.17s/it]"
     ]
    },
    {
     "name": "stdout",
     "output_type": "stream",
     "text": [
      "/home/jiang/projects/SubtleGAN/data/brats2021/train/BraTS2021_00087\n"
     ]
    },
    {
     "name": "stderr",
     "output_type": "stream",
     "text": [
      "\n",
      "  0%|          | 0/80 [00:00<?, ?it/s]\u001b[A\n",
      " 20%|██        | 16/80 [00:00<00:00, 156.31it/s]\u001b[A\n",
      " 40%|████      | 32/80 [00:00<00:00, 154.64it/s]\u001b[A\n",
      " 60%|██████    | 48/80 [00:00<00:00, 153.73it/s]\u001b[A\n",
      " 80%|████████  | 64/80 [00:00<00:00, 153.34it/s]\u001b[A\n",
      "100%|██████████| 80/80 [00:00<00:00, 152.89it/s]\u001b[A\n",
      " 82%|████████▏ | 922/1125 [19:29<03:39,  1.08s/it]"
     ]
    },
    {
     "name": "stdout",
     "output_type": "stream",
     "text": [
      "/home/jiang/projects/SubtleGAN/data/brats2021/train/BraTS2021_01198\n"
     ]
    },
    {
     "name": "stderr",
     "output_type": "stream",
     "text": [
      "\n",
      "  0%|          | 0/80 [00:00<?, ?it/s]\u001b[A\n",
      " 11%|█▏        | 9/80 [00:00<00:00, 84.91it/s]\u001b[A\n",
      " 22%|██▎       | 18/80 [00:00<00:00, 69.92it/s]\u001b[A\n",
      " 34%|███▍      | 27/80 [00:00<00:00, 74.86it/s]\u001b[A\n",
      " 44%|████▍     | 35/80 [00:00<00:00, 71.26it/s]\u001b[A\n",
      " 55%|█████▌    | 44/80 [00:00<00:00, 75.77it/s]\u001b[A\n",
      " 65%|██████▌   | 52/80 [00:00<00:00, 75.53it/s]\u001b[A\n",
      " 75%|███████▌  | 60/80 [00:00<00:00, 76.76it/s]\u001b[A\n",
      " 85%|████████▌ | 68/80 [00:00<00:00, 74.43it/s]\u001b[A\n",
      "100%|██████████| 80/80 [00:01<00:00, 73.67it/s]\u001b[A\n",
      " 82%|████████▏ | 923/1125 [19:31<04:46,  1.42s/it]"
     ]
    },
    {
     "name": "stdout",
     "output_type": "stream",
     "text": [
      "/home/jiang/projects/SubtleGAN/data/brats2021/train/BraTS2021_00183\n"
     ]
    },
    {
     "name": "stderr",
     "output_type": "stream",
     "text": [
      "\n",
      "  0%|          | 0/80 [00:00<?, ?it/s]\u001b[A\n",
      " 12%|█▎        | 10/80 [00:00<00:00, 92.98it/s]\u001b[A\n",
      " 25%|██▌       | 20/80 [00:00<00:00, 83.06it/s]\u001b[A\n",
      " 38%|███▊      | 30/80 [00:00<00:00, 85.89it/s]\u001b[A\n",
      " 49%|████▉     | 39/80 [00:00<00:00, 86.99it/s]\u001b[A\n",
      " 61%|██████▏   | 49/80 [00:00<00:00, 90.57it/s]\u001b[A\n",
      " 76%|███████▋  | 61/80 [00:00<00:00, 96.47it/s]\u001b[A\n",
      "100%|██████████| 80/80 [00:00<00:00, 94.07it/s]\u001b[A\n",
      " 82%|████████▏ | 924/1125 [19:33<05:08,  1.53s/it]"
     ]
    },
    {
     "name": "stdout",
     "output_type": "stream",
     "text": [
      "/home/jiang/projects/SubtleGAN/data/brats2021/train/BraTS2021_00491\n"
     ]
    },
    {
     "name": "stderr",
     "output_type": "stream",
     "text": [
      "\n",
      "  0%|          | 0/80 [00:00<?, ?it/s]\u001b[A\n",
      " 12%|█▎        | 10/80 [00:00<00:00, 97.02it/s]\u001b[A\n",
      " 25%|██▌       | 20/80 [00:00<00:00, 90.24it/s]\u001b[A\n",
      " 38%|███▊      | 30/80 [00:00<00:00, 93.10it/s]\u001b[A\n",
      " 50%|█████     | 40/80 [00:00<00:00, 87.96it/s]\u001b[A\n",
      " 61%|██████▏   | 49/80 [00:00<00:00, 82.77it/s]\u001b[A\n",
      " 74%|███████▍  | 59/80 [00:00<00:00, 87.23it/s]\u001b[A\n",
      " 85%|████████▌ | 68/80 [00:00<00:00, 87.57it/s]\u001b[A\n",
      "100%|██████████| 80/80 [00:00<00:00, 85.91it/s]\u001b[A\n",
      " 82%|████████▏ | 925/1125 [19:34<05:04,  1.52s/it]"
     ]
    },
    {
     "name": "stdout",
     "output_type": "stream",
     "text": [
      "/home/jiang/projects/SubtleGAN/data/brats2021/train/BraTS2021_01030\n"
     ]
    },
    {
     "name": "stderr",
     "output_type": "stream",
     "text": [
      "\n",
      "  0%|          | 0/80 [00:00<?, ?it/s]\u001b[A\n",
      " 18%|█▊        | 14/80 [00:00<00:00, 134.64it/s]\u001b[A\n",
      " 35%|███▌      | 28/80 [00:00<00:00, 133.42it/s]\u001b[A\n",
      " 52%|█████▎    | 42/80 [00:00<00:00, 125.20it/s]\u001b[A\n",
      " 69%|██████▉   | 55/80 [00:00<00:00, 113.75it/s]\u001b[A\n",
      " 84%|████████▍ | 67/80 [00:00<00:00, 107.10it/s]\u001b[A\n",
      "100%|██████████| 80/80 [00:00<00:00, 109.10it/s]\u001b[A\n",
      " 82%|████████▏ | 926/1125 [19:36<05:08,  1.55s/it]"
     ]
    },
    {
     "name": "stdout",
     "output_type": "stream",
     "text": [
      "/home/jiang/projects/SubtleGAN/data/brats2021/train/BraTS2021_00567\n"
     ]
    },
    {
     "name": "stderr",
     "output_type": "stream",
     "text": [
      "\n",
      "  0%|          | 0/80 [00:00<?, ?it/s]\u001b[A\n",
      " 18%|█▊        | 14/80 [00:00<00:00, 133.47it/s]\u001b[A\n",
      " 35%|███▌      | 28/80 [00:00<00:00, 130.31it/s]\u001b[A\n",
      " 52%|█████▎    | 42/80 [00:00<00:00, 113.88it/s]\u001b[A\n",
      " 68%|██████▊   | 54/80 [00:00<00:00, 103.55it/s]\u001b[A\n",
      " 81%|████████▏ | 65/80 [00:00<00:00, 99.15it/s] \u001b[A\n",
      "100%|██████████| 80/80 [00:00<00:00, 102.07it/s][A\n",
      " 82%|████████▏ | 927/1125 [19:38<05:20,  1.62s/it]"
     ]
    },
    {
     "name": "stdout",
     "output_type": "stream",
     "text": [
      "/home/jiang/projects/SubtleGAN/data/brats2021/train/BraTS2021_00399\n"
     ]
    },
    {
     "name": "stderr",
     "output_type": "stream",
     "text": [
      "\n",
      "  0%|          | 0/80 [00:00<?, ?it/s]\u001b[A\n",
      " 14%|█▍        | 11/80 [00:00<00:00, 99.93it/s]\u001b[A\n",
      " 26%|██▋       | 21/80 [00:00<00:00, 91.00it/s]\u001b[A\n",
      " 39%|███▉      | 31/80 [00:00<00:00, 89.22it/s]\u001b[A\n",
      " 50%|█████     | 40/80 [00:00<00:00, 88.55it/s]\u001b[A\n",
      " 61%|██████▏   | 49/80 [00:00<00:00, 88.94it/s]\u001b[A\n",
      " 76%|███████▋  | 61/80 [00:00<00:00, 99.02it/s]\u001b[A\n",
      "100%|██████████| 80/80 [00:00<00:00, 99.83it/s] \u001b[A\n",
      " 82%|████████▏ | 928/1125 [19:39<05:01,  1.53s/it]"
     ]
    },
    {
     "name": "stdout",
     "output_type": "stream",
     "text": [
      "/home/jiang/projects/SubtleGAN/data/brats2021/train/BraTS2021_00072\n"
     ]
    },
    {
     "name": "stderr",
     "output_type": "stream",
     "text": [
      "\n",
      "  0%|          | 0/80 [00:00<?, ?it/s]\u001b[A\n",
      " 11%|█▏        | 9/80 [00:00<00:00, 84.27it/s]\u001b[A\n",
      " 22%|██▎       | 18/80 [00:00<00:00, 79.42it/s]\u001b[A\n",
      " 32%|███▎      | 26/80 [00:00<00:00, 77.12it/s]\u001b[A\n",
      " 42%|████▎     | 34/80 [00:00<00:00, 76.10it/s]\u001b[A\n",
      " 52%|█████▎    | 42/80 [00:00<00:00, 75.46it/s]\u001b[A\n",
      " 68%|██████▊   | 54/80 [00:00<00:00, 87.35it/s]\u001b[A\n",
      " 82%|████████▎ | 66/80 [00:00<00:00, 96.71it/s]\u001b[A\n",
      "100%|██████████| 80/80 [00:00<00:00, 88.70it/s]\u001b[A\n",
      " 83%|████████▎ | 929/1125 [19:40<04:50,  1.48s/it]"
     ]
    },
    {
     "name": "stdout",
     "output_type": "stream",
     "text": [
      "/home/jiang/projects/SubtleGAN/data/brats2021/train/BraTS2021_01046\n"
     ]
    },
    {
     "name": "stderr",
     "output_type": "stream",
     "text": [
      "\n",
      "  0%|          | 0/80 [00:00<?, ?it/s]\u001b[A\n",
      " 11%|█▏        | 9/80 [00:00<00:00, 85.17it/s]\u001b[A\n",
      " 22%|██▎       | 18/80 [00:00<00:00, 78.83it/s]\u001b[A\n",
      " 32%|███▎      | 26/80 [00:00<00:00, 78.01it/s]\u001b[A\n",
      " 42%|████▎     | 34/80 [00:00<00:00, 77.73it/s]\u001b[A\n",
      " 52%|█████▎    | 42/80 [00:00<00:00, 77.17it/s]\u001b[A\n",
      " 62%|██████▎   | 50/80 [00:00<00:00, 76.66it/s]\u001b[A\n",
      " 72%|███████▎  | 58/80 [00:00<00:00, 76.01it/s]\u001b[A\n",
      " 82%|████████▎ | 66/80 [00:00<00:00, 75.88it/s]\u001b[A\n",
      "100%|██████████| 80/80 [00:01<00:00, 76.58it/s]\u001b[A\n",
      " 83%|████████▎ | 930/1125 [19:42<04:55,  1.51s/it]"
     ]
    },
    {
     "name": "stdout",
     "output_type": "stream",
     "text": [
      "/home/jiang/projects/SubtleGAN/data/brats2021/train/BraTS2021_01076\n"
     ]
    },
    {
     "name": "stderr",
     "output_type": "stream",
     "text": [
      "\n",
      "  0%|          | 0/80 [00:00<?, ?it/s]\u001b[A\n",
      " 10%|█         | 8/80 [00:00<00:00, 76.99it/s]\u001b[A\n",
      " 20%|██        | 16/80 [00:00<00:00, 76.18it/s]\u001b[A\n",
      " 30%|███       | 24/80 [00:00<00:00, 74.93it/s]\u001b[A\n",
      " 40%|████      | 32/80 [00:00<00:00, 74.47it/s]\u001b[A\n",
      " 50%|█████     | 40/80 [00:00<00:00, 75.07it/s]\u001b[A\n",
      " 60%|██████    | 48/80 [00:00<00:00, 75.02it/s]\u001b[A\n",
      " 70%|███████   | 56/80 [00:00<00:00, 73.81it/s]\u001b[A\n",
      " 80%|████████  | 64/80 [00:00<00:00, 74.13it/s]\u001b[A\n",
      " 90%|█████████ | 72/80 [00:00<00:00, 74.60it/s]\u001b[A\n",
      "100%|██████████| 80/80 [00:01<00:00, 74.43it/s]\u001b[A\n",
      " 83%|████████▎ | 931/1125 [19:44<04:59,  1.55s/it]"
     ]
    },
    {
     "name": "stdout",
     "output_type": "stream",
     "text": [
      "/home/jiang/projects/SubtleGAN/data/brats2021/train/BraTS2021_00816\n"
     ]
    },
    {
     "name": "stderr",
     "output_type": "stream",
     "text": [
      "\n",
      "  0%|          | 0/80 [00:00<?, ?it/s]\u001b[A\n",
      " 20%|██        | 16/80 [00:00<00:00, 156.20it/s]\u001b[A\n",
      " 40%|████      | 32/80 [00:00<00:00, 155.08it/s]\u001b[A\n",
      " 60%|██████    | 48/80 [00:00<00:00, 115.57it/s]\u001b[A\n",
      " 76%|███████▋  | 61/80 [00:00<00:00, 104.40it/s]\u001b[A\n",
      "100%|██████████| 80/80 [00:00<00:00, 106.54it/s]\u001b[A\n",
      " 83%|████████▎ | 932/1125 [19:45<05:17,  1.64s/it]"
     ]
    },
    {
     "name": "stdout",
     "output_type": "stream",
     "text": [
      "/home/jiang/projects/SubtleGAN/data/brats2021/train/BraTS2021_00270\n"
     ]
    },
    {
     "name": "stderr",
     "output_type": "stream",
     "text": [
      "\n",
      "  0%|          | 0/80 [00:00<?, ?it/s]\u001b[A\n",
      " 14%|█▍        | 11/80 [00:00<00:00, 100.42it/s]\u001b[A\n",
      " 28%|██▊       | 22/80 [00:00<00:00, 103.62it/s]\u001b[A\n",
      " 46%|████▋     | 37/80 [00:00<00:00, 121.29it/s]\u001b[A\n",
      " 66%|██████▋   | 53/80 [00:00<00:00, 133.93it/s]\u001b[A\n",
      " 84%|████████▍ | 67/80 [00:00<00:00, 112.72it/s]\u001b[A\n",
      "100%|██████████| 80/80 [00:00<00:00, 108.84it/s]\u001b[A\n",
      " 83%|████████▎ | 933/1125 [19:47<04:49,  1.51s/it]"
     ]
    },
    {
     "name": "stdout",
     "output_type": "stream",
     "text": [
      "/home/jiang/projects/SubtleGAN/data/brats2021/train/BraTS2021_00275\n"
     ]
    },
    {
     "name": "stderr",
     "output_type": "stream",
     "text": [
      "\n",
      "  0%|          | 0/80 [00:00<?, ?it/s]\u001b[A\n",
      " 12%|█▎        | 10/80 [00:00<00:00, 95.48it/s]\u001b[A\n",
      " 25%|██▌       | 20/80 [00:00<00:00, 90.20it/s]\u001b[A\n",
      " 38%|███▊      | 30/80 [00:00<00:00, 88.74it/s]\u001b[A\n",
      " 49%|████▉     | 39/80 [00:00<00:00, 87.87it/s]\u001b[A\n",
      " 60%|██████    | 48/80 [00:00<00:00, 87.78it/s]\u001b[A\n",
      " 78%|███████▊  | 62/80 [00:00<00:00, 104.13it/s]\u001b[A\n",
      "100%|██████████| 80/80 [00:00<00:00, 103.99it/s]\u001b[A\n",
      " 83%|████████▎ | 934/1125 [19:48<04:33,  1.43s/it]"
     ]
    },
    {
     "name": "stdout",
     "output_type": "stream",
     "text": [
      "/home/jiang/projects/SubtleGAN/data/brats2021/train/BraTS2021_01328\n"
     ]
    },
    {
     "name": "stderr",
     "output_type": "stream",
     "text": [
      "\n",
      "  0%|          | 0/80 [00:00<?, ?it/s]\u001b[A\n",
      " 19%|█▉        | 15/80 [00:00<00:00, 143.74it/s]\u001b[A\n",
      " 38%|███▊      | 30/80 [00:00<00:00, 116.43it/s]\u001b[A\n",
      " 52%|█████▎    | 42/80 [00:00<00:00, 102.89it/s]\u001b[A\n",
      " 66%|██████▋   | 53/80 [00:00<00:00, 97.20it/s] \u001b[A\n",
      " 79%|███████▉  | 63/80 [00:00<00:00, 93.51it/s]\u001b[A\n",
      "100%|██████████| 80/80 [00:00<00:00, 97.08it/s]\u001b[A\n",
      " 83%|████████▎ | 935/1125 [19:49<04:22,  1.38s/it]"
     ]
    },
    {
     "name": "stdout",
     "output_type": "stream",
     "text": [
      "/home/jiang/projects/SubtleGAN/data/brats2021/train/BraTS2021_00441\n"
     ]
    },
    {
     "name": "stderr",
     "output_type": "stream",
     "text": [
      "\n",
      "  0%|          | 0/80 [00:00<?, ?it/s]\u001b[A\n",
      " 12%|█▎        | 10/80 [00:00<00:00, 98.89it/s]\u001b[A\n",
      " 25%|██▌       | 20/80 [00:00<00:00, 91.55it/s]\u001b[A\n",
      " 38%|███▊      | 30/80 [00:00<00:00, 89.48it/s]\u001b[A\n",
      " 49%|████▉     | 39/80 [00:00<00:00, 88.18it/s]\u001b[A\n",
      " 60%|██████    | 48/80 [00:00<00:00, 87.95it/s]\u001b[A\n",
      " 71%|███████▏  | 57/80 [00:00<00:00, 87.59it/s]\u001b[A\n",
      " 82%|████████▎ | 66/80 [00:00<00:00, 87.40it/s]\u001b[A\n",
      "100%|██████████| 80/80 [00:00<00:00, 88.16it/s]\u001b[A\n",
      " 83%|████████▎ | 936/1125 [19:51<04:21,  1.39s/it]"
     ]
    },
    {
     "name": "stdout",
     "output_type": "stream",
     "text": [
      "/home/jiang/projects/SubtleGAN/data/brats2021/train/BraTS2021_01051\n"
     ]
    },
    {
     "name": "stderr",
     "output_type": "stream",
     "text": [
      "\n",
      "  0%|          | 0/80 [00:00<?, ?it/s]\u001b[A\n",
      " 12%|█▎        | 10/80 [00:00<00:00, 97.58it/s]\u001b[A\n",
      " 25%|██▌       | 20/80 [00:00<00:00, 90.58it/s]\u001b[A\n",
      " 38%|███▊      | 30/80 [00:00<00:00, 88.85it/s]\u001b[A\n",
      " 49%|████▉     | 39/80 [00:00<00:00, 87.92it/s]\u001b[A\n",
      " 60%|██████    | 48/80 [00:00<00:00, 87.81it/s]\u001b[A\n",
      " 71%|███████▏  | 57/80 [00:00<00:00, 87.50it/s]\u001b[A\n",
      " 82%|████████▎ | 66/80 [00:00<00:00, 87.25it/s]\u001b[A\n",
      "100%|██████████| 80/80 [00:00<00:00, 88.00it/s]\u001b[A\n",
      " 83%|████████▎ | 937/1125 [19:52<04:20,  1.39s/it]"
     ]
    },
    {
     "name": "stdout",
     "output_type": "stream",
     "text": [
      "/home/jiang/projects/SubtleGAN/data/brats2021/train/BraTS2021_01607\n"
     ]
    },
    {
     "name": "stderr",
     "output_type": "stream",
     "text": [
      "\n",
      "  0%|          | 0/80 [00:00<?, ?it/s]\u001b[A\n",
      " 20%|██        | 16/80 [00:00<00:00, 158.20it/s]\u001b[A\n",
      " 40%|████      | 32/80 [00:00<00:00, 155.78it/s]\u001b[A\n",
      " 60%|██████    | 48/80 [00:00<00:00, 119.38it/s]\u001b[A\n",
      " 76%|███████▋  | 61/80 [00:00<00:00, 102.12it/s]\u001b[A\n",
      "100%|██████████| 80/80 [00:00<00:00, 103.31it/s]\u001b[A\n",
      " 83%|████████▎ | 938/1125 [19:54<04:39,  1.49s/it]"
     ]
    },
    {
     "name": "stdout",
     "output_type": "stream",
     "text": [
      "/home/jiang/projects/SubtleGAN/data/brats2021/train/BraTS2021_00098\n"
     ]
    },
    {
     "name": "stderr",
     "output_type": "stream",
     "text": [
      "\n",
      "  0%|          | 0/80 [00:00<?, ?it/s]\u001b[A\n",
      " 11%|█▏        | 9/80 [00:00<00:00, 82.26it/s]\u001b[A\n",
      " 22%|██▎       | 18/80 [00:00<00:00, 80.58it/s]\u001b[A\n",
      " 34%|███▍      | 27/80 [00:00<00:00, 82.93it/s]\u001b[A\n",
      " 45%|████▌     | 36/80 [00:00<00:00, 84.47it/s]\u001b[A\n",
      " 56%|█████▋    | 45/80 [00:00<00:00, 85.24it/s]\u001b[A\n",
      " 68%|██████▊   | 54/80 [00:00<00:00, 85.59it/s]\u001b[A\n",
      " 79%|███████▉  | 63/80 [00:00<00:00, 86.06it/s]\u001b[A\n",
      "100%|██████████| 80/80 [00:00<00:00, 84.75it/s]\u001b[A\n",
      " 83%|████████▎ | 939/1125 [19:55<04:30,  1.45s/it]"
     ]
    },
    {
     "name": "stdout",
     "output_type": "stream",
     "text": [
      "/home/jiang/projects/SubtleGAN/data/brats2021/train/BraTS2021_01365\n"
     ]
    },
    {
     "name": "stderr",
     "output_type": "stream",
     "text": [
      "\n",
      "  0%|          | 0/80 [00:00<?, ?it/s]\u001b[A\n",
      " 11%|█▏        | 9/80 [00:00<00:00, 87.57it/s]\u001b[A\n",
      " 22%|██▎       | 18/80 [00:00<00:00, 81.89it/s]\u001b[A\n",
      " 34%|███▍      | 27/80 [00:00<00:00, 80.39it/s]\u001b[A\n",
      " 45%|████▌     | 36/80 [00:00<00:00, 78.47it/s]\u001b[A\n",
      " 56%|█████▋    | 45/80 [00:00<00:00, 79.34it/s]\u001b[A\n",
      " 66%|██████▋   | 53/80 [00:00<00:00, 79.41it/s]\u001b[A\n",
      " 76%|███████▋  | 61/80 [00:00<00:00, 79.26it/s]\u001b[A\n",
      " 86%|████████▋ | 69/80 [00:00<00:00, 78.91it/s]\u001b[A\n",
      "100%|██████████| 80/80 [00:01<00:00, 79.13it/s]\u001b[A\n",
      " 84%|████████▎ | 940/1125 [19:57<04:31,  1.47s/it]"
     ]
    },
    {
     "name": "stdout",
     "output_type": "stream",
     "text": [
      "/home/jiang/projects/SubtleGAN/data/brats2021/train/BraTS2021_01499\n"
     ]
    },
    {
     "name": "stderr",
     "output_type": "stream",
     "text": [
      "\n",
      "  0%|          | 0/80 [00:00<?, ?it/s]\u001b[A\n",
      " 11%|█▏        | 9/80 [00:00<00:00, 89.21it/s]\u001b[A\n",
      " 25%|██▌       | 20/80 [00:00<00:00, 101.03it/s]\u001b[A\n",
      " 39%|███▉      | 31/80 [00:00<00:00, 102.98it/s]\u001b[A\n",
      " 56%|█████▋    | 45/80 [00:00<00:00, 116.97it/s]\u001b[A\n",
      " 71%|███████▏  | 57/80 [00:00<00:00, 104.82it/s]\u001b[A\n",
      " 85%|████████▌ | 68/80 [00:00<00:00, 94.10it/s] \u001b[A\n",
      "100%|██████████| 80/80 [00:00<00:00, 94.90it/s]\u001b[A\n",
      " 84%|████████▎ | 941/1125 [19:58<04:24,  1.44s/it]"
     ]
    },
    {
     "name": "stdout",
     "output_type": "stream",
     "text": [
      "/home/jiang/projects/SubtleGAN/data/brats2021/train/BraTS2021_01151\n"
     ]
    },
    {
     "name": "stderr",
     "output_type": "stream",
     "text": [
      "\n",
      "  0%|          | 0/80 [00:00<?, ?it/s]\u001b[A\n",
      " 12%|█▎        | 10/80 [00:00<00:00, 96.66it/s]\u001b[A\n",
      " 26%|██▋       | 21/80 [00:00<00:00, 102.30it/s]\u001b[A\n",
      " 45%|████▌     | 36/80 [00:00<00:00, 121.82it/s]\u001b[A\n",
      " 65%|██████▌   | 52/80 [00:00<00:00, 133.36it/s]\u001b[A\n",
      "100%|██████████| 80/80 [00:00<00:00, 132.98it/s]\u001b[A\n",
      " 84%|████████▎ | 942/1125 [19:59<04:06,  1.34s/it]"
     ]
    },
    {
     "name": "stdout",
     "output_type": "stream",
     "text": [
      "/home/jiang/projects/SubtleGAN/data/brats2021/train/BraTS2021_00675\n"
     ]
    },
    {
     "name": "stderr",
     "output_type": "stream",
     "text": [
      "\n",
      "  0%|          | 0/80 [00:00<?, ?it/s]\u001b[A\n",
      " 14%|█▍        | 11/80 [00:00<00:00, 105.23it/s]\u001b[A\n",
      " 28%|██▊       | 22/80 [00:00<00:00, 92.84it/s] \u001b[A\n",
      " 40%|████      | 32/80 [00:00<00:00, 89.67it/s]\u001b[A\n",
      " 52%|█████▎    | 42/80 [00:00<00:00, 88.45it/s]\u001b[A\n",
      " 64%|██████▍   | 51/80 [00:00<00:00, 88.21it/s]\u001b[A\n",
      " 75%|███████▌  | 60/80 [00:00<00:00, 87.27it/s]\u001b[A\n",
      " 86%|████████▋ | 69/80 [00:00<00:00, 86.18it/s]\u001b[A\n",
      "100%|██████████| 80/80 [00:00<00:00, 84.41it/s]\u001b[A\n",
      " 84%|████████▍ | 943/1125 [20:00<04:04,  1.34s/it]"
     ]
    },
    {
     "name": "stdout",
     "output_type": "stream",
     "text": [
      "/home/jiang/projects/SubtleGAN/data/brats2021/train/BraTS2021_01039\n"
     ]
    },
    {
     "name": "stderr",
     "output_type": "stream",
     "text": [
      "\n",
      "  0%|          | 0/80 [00:00<?, ?it/s]\u001b[A\n",
      " 11%|█▏        | 9/80 [00:00<00:00, 87.22it/s]\u001b[A\n",
      " 22%|██▎       | 18/80 [00:00<00:00, 77.58it/s]\u001b[A\n",
      " 32%|███▎      | 26/80 [00:00<00:00, 75.76it/s]\u001b[A\n",
      " 42%|████▎     | 34/80 [00:00<00:00, 75.47it/s]\u001b[A\n",
      " 52%|█████▎    | 42/80 [00:00<00:00, 73.65it/s]\u001b[A\n",
      " 62%|██████▎   | 50/80 [00:00<00:00, 72.67it/s]\u001b[A\n",
      " 72%|███████▎  | 58/80 [00:00<00:00, 71.77it/s]\u001b[A\n",
      " 82%|████████▎ | 66/80 [00:00<00:00, 73.83it/s]\u001b[A\n",
      "100%|██████████| 80/80 [00:01<00:00, 74.05it/s]\u001b[A\n",
      " 84%|████████▍ | 944/1125 [20:02<04:15,  1.41s/it]"
     ]
    },
    {
     "name": "stdout",
     "output_type": "stream",
     "text": [
      "/home/jiang/projects/SubtleGAN/data/brats2021/train/BraTS2021_00764\n"
     ]
    },
    {
     "name": "stderr",
     "output_type": "stream",
     "text": [
      "\n",
      "  0%|          | 0/80 [00:00<?, ?it/s]\u001b[A\n",
      " 12%|█▎        | 10/80 [00:00<00:00, 90.04it/s]\u001b[A\n",
      " 25%|██▌       | 20/80 [00:00<00:00, 88.01it/s]\u001b[A\n",
      " 36%|███▋      | 29/80 [00:00<00:00, 81.69it/s]\u001b[A\n",
      " 48%|████▊     | 38/80 [00:00<00:00, 79.48it/s]\u001b[A\n",
      " 59%|█████▉    | 47/80 [00:00<00:00, 79.32it/s]\u001b[A\n",
      " 69%|██████▉   | 55/80 [00:00<00:00, 79.21it/s]\u001b[A\n",
      " 80%|████████  | 64/80 [00:00<00:00, 79.71it/s]\u001b[A\n",
      "100%|██████████| 80/80 [00:00<00:00, 81.01it/s]\u001b[A\n",
      " 84%|████████▍ | 945/1125 [20:03<04:15,  1.42s/it]"
     ]
    },
    {
     "name": "stdout",
     "output_type": "stream",
     "text": [
      "/home/jiang/projects/SubtleGAN/data/brats2021/train/BraTS2021_01273\n"
     ]
    },
    {
     "name": "stderr",
     "output_type": "stream",
     "text": [
      "\n",
      "  0%|          | 0/80 [00:00<?, ?it/s]\u001b[A\n",
      " 11%|█▏        | 9/80 [00:00<00:00, 89.47it/s]\u001b[A\n",
      " 22%|██▎       | 18/80 [00:00<00:00, 83.95it/s]\u001b[A\n",
      " 34%|███▍      | 27/80 [00:00<00:00, 83.05it/s]\u001b[A\n",
      " 45%|████▌     | 36/80 [00:00<00:00, 80.20it/s]\u001b[A\n",
      " 56%|█████▋    | 45/80 [00:00<00:00, 80.56it/s]\u001b[A\n",
      " 68%|██████▊   | 54/80 [00:00<00:00, 81.71it/s]\u001b[A\n",
      " 79%|███████▉  | 63/80 [00:00<00:00, 81.77it/s]\u001b[A\n",
      "100%|██████████| 80/80 [00:00<00:00, 81.06it/s]\u001b[A\n",
      " 84%|████████▍ | 946/1125 [20:05<04:17,  1.44s/it]"
     ]
    },
    {
     "name": "stdout",
     "output_type": "stream",
     "text": [
      "/home/jiang/projects/SubtleGAN/data/brats2021/train/BraTS2021_01093\n"
     ]
    },
    {
     "name": "stderr",
     "output_type": "stream",
     "text": [
      "\n",
      "  0%|          | 0/80 [00:00<?, ?it/s]\u001b[A\n",
      " 10%|█         | 8/80 [00:00<00:00, 79.27it/s]\u001b[A\n",
      " 20%|██        | 16/80 [00:00<00:00, 76.53it/s]\u001b[A\n",
      " 30%|███       | 24/80 [00:00<00:00, 74.63it/s]\u001b[A\n",
      " 40%|████      | 32/80 [00:00<00:00, 74.89it/s]\u001b[A\n",
      " 50%|█████     | 40/80 [00:00<00:00, 75.13it/s]\u001b[A\n",
      " 60%|██████    | 48/80 [00:00<00:00, 73.98it/s]\u001b[A\n",
      " 70%|███████   | 56/80 [00:00<00:00, 74.86it/s]\u001b[A\n",
      " 80%|████████  | 64/80 [00:00<00:00, 72.95it/s]\u001b[A\n",
      " 90%|█████████ | 72/80 [00:00<00:00, 72.29it/s]\u001b[A\n",
      "100%|██████████| 80/80 [00:01<00:00, 73.75it/s]\u001b[A\n",
      " 84%|████████▍ | 947/1125 [20:06<04:25,  1.49s/it]"
     ]
    },
    {
     "name": "stdout",
     "output_type": "stream",
     "text": [
      "/home/jiang/projects/SubtleGAN/data/brats2021/train/BraTS2021_01249\n"
     ]
    },
    {
     "name": "stderr",
     "output_type": "stream",
     "text": [
      "\n",
      "  0%|          | 0/80 [00:00<?, ?it/s]\u001b[A\n",
      " 12%|█▎        | 10/80 [00:00<00:00, 89.57it/s]\u001b[A\n",
      " 24%|██▍       | 19/80 [00:00<00:00, 82.45it/s]\u001b[A\n",
      " 35%|███▌      | 28/80 [00:00<00:00, 71.21it/s]\u001b[A\n",
      " 45%|████▌     | 36/80 [00:00<00:00, 54.11it/s]\u001b[A\n",
      " 52%|█████▎    | 42/80 [00:00<00:00, 46.59it/s]\u001b[A\n",
      " 60%|██████    | 48/80 [00:00<00:00, 46.92it/s]\u001b[A\n",
      " 69%|██████▉   | 55/80 [00:00<00:00, 52.40it/s]\u001b[A\n",
      " 79%|███████▉  | 63/80 [00:01<00:00, 58.13it/s]\u001b[A\n",
      "100%|██████████| 80/80 [00:01<00:00, 61.72it/s]\u001b[A\n",
      " 84%|████████▍ | 948/1125 [20:08<04:41,  1.59s/it]"
     ]
    },
    {
     "name": "stdout",
     "output_type": "stream",
     "text": [
      "/home/jiang/projects/SubtleGAN/data/brats2021/train/BraTS2021_00727\n"
     ]
    },
    {
     "name": "stderr",
     "output_type": "stream",
     "text": [
      "\n",
      "  0%|          | 0/80 [00:00<?, ?it/s]\u001b[A\n",
      " 12%|█▎        | 10/80 [00:00<00:00, 88.04it/s]\u001b[A\n",
      " 29%|██▉       | 23/80 [00:00<00:00, 108.75it/s]\u001b[A\n",
      " 46%|████▋     | 37/80 [00:00<00:00, 121.48it/s]\u001b[A\n",
      " 62%|██████▎   | 50/80 [00:00<00:00, 123.36it/s]\u001b[A\n",
      " 79%|███████▉  | 63/80 [00:00<00:00, 106.39it/s]\u001b[A\n",
      "100%|██████████| 80/80 [00:00<00:00, 100.35it/s]\u001b[A\n",
      " 84%|████████▍ | 949/1125 [20:09<04:19,  1.48s/it]"
     ]
    },
    {
     "name": "stdout",
     "output_type": "stream",
     "text": [
      "/home/jiang/projects/SubtleGAN/data/brats2021/train/BraTS2021_01061\n"
     ]
    },
    {
     "name": "stderr",
     "output_type": "stream",
     "text": [
      "\n",
      "  0%|          | 0/80 [00:00<?, ?it/s]\u001b[A\n",
      " 11%|█▏        | 9/80 [00:00<00:00, 87.11it/s]\u001b[A\n",
      " 22%|██▎       | 18/80 [00:00<00:00, 84.11it/s]\u001b[A\n",
      " 34%|███▍      | 27/80 [00:00<00:00, 80.71it/s]\u001b[A\n",
      " 45%|████▌     | 36/80 [00:00<00:00, 79.75it/s]\u001b[A\n",
      " 56%|█████▋    | 45/80 [00:00<00:00, 80.96it/s]\u001b[A\n",
      " 68%|██████▊   | 54/80 [00:00<00:00, 79.98it/s]\u001b[A\n",
      " 79%|███████▉  | 63/80 [00:00<00:00, 77.97it/s]\u001b[A\n",
      " 90%|█████████ | 72/80 [00:00<00:00, 79.00it/s]\u001b[A\n",
      "100%|██████████| 80/80 [00:01<00:00, 79.77it/s]\u001b[A\n",
      " 84%|████████▍ | 950/1125 [20:11<04:21,  1.49s/it]"
     ]
    },
    {
     "name": "stdout",
     "output_type": "stream",
     "text": [
      "/home/jiang/projects/SubtleGAN/data/brats2021/train/BraTS2021_01121\n"
     ]
    },
    {
     "name": "stderr",
     "output_type": "stream",
     "text": [
      "\n",
      "  0%|          | 0/80 [00:00<?, ?it/s]\u001b[A\n",
      " 10%|█         | 8/80 [00:00<00:00, 75.67it/s]\u001b[A\n",
      " 20%|██        | 16/80 [00:00<00:00, 74.52it/s]\u001b[A\n",
      " 31%|███▏      | 25/80 [00:00<00:00, 77.72it/s]\u001b[A\n",
      " 45%|████▌     | 36/80 [00:00<00:00, 87.77it/s]\u001b[A\n",
      " 61%|██████▏   | 49/80 [00:00<00:00, 100.27it/s]\u001b[A\n",
      " 80%|████████  | 64/80 [00:00<00:00, 112.49it/s]\u001b[A\n",
      "100%|██████████| 80/80 [00:00<00:00, 95.63it/s] \u001b[A\n",
      " 85%|████████▍ | 951/1125 [20:12<04:14,  1.47s/it]"
     ]
    },
    {
     "name": "stdout",
     "output_type": "stream",
     "text": [
      "/home/jiang/projects/SubtleGAN/data/brats2021/train/BraTS2021_01210\n"
     ]
    },
    {
     "name": "stderr",
     "output_type": "stream",
     "text": [
      "\n",
      "  0%|          | 0/80 [00:00<?, ?it/s]\u001b[A\n",
      " 10%|█         | 8/80 [00:00<00:00, 76.61it/s]\u001b[A\n",
      " 20%|██        | 16/80 [00:00<00:00, 74.87it/s]\u001b[A\n",
      " 30%|███       | 24/80 [00:00<00:00, 73.85it/s]\u001b[A\n",
      " 40%|████      | 32/80 [00:00<00:00, 74.27it/s]\u001b[A\n",
      " 50%|█████     | 40/80 [00:00<00:00, 73.90it/s]\u001b[A\n",
      " 60%|██████    | 48/80 [00:00<00:00, 73.03it/s]\u001b[A\n",
      " 70%|███████   | 56/80 [00:00<00:00, 72.56it/s]\u001b[A\n",
      " 80%|████████  | 64/80 [00:00<00:00, 73.52it/s]\u001b[A\n",
      " 90%|█████████ | 72/80 [00:00<00:00, 72.78it/s]\u001b[A\n",
      "100%|██████████| 80/80 [00:01<00:00, 73.16it/s]\u001b[A\n",
      " 85%|████████▍ | 952/1125 [20:14<04:22,  1.52s/it]"
     ]
    },
    {
     "name": "stdout",
     "output_type": "stream",
     "text": [
      "/home/jiang/projects/SubtleGAN/data/brats2021/train/BraTS2021_00122\n"
     ]
    },
    {
     "name": "stderr",
     "output_type": "stream",
     "text": [
      "\n",
      "  0%|          | 0/80 [00:00<?, ?it/s]\u001b[A\n",
      " 10%|█         | 8/80 [00:00<00:00, 78.78it/s]\u001b[A\n",
      " 20%|██        | 16/80 [00:00<00:00, 74.02it/s]\u001b[A\n",
      " 30%|███       | 24/80 [00:00<00:00, 74.70it/s]\u001b[A\n",
      " 40%|████      | 32/80 [00:00<00:00, 75.54it/s]\u001b[A\n",
      " 54%|█████▍    | 43/80 [00:00<00:00, 85.94it/s]\u001b[A\n",
      " 70%|███████   | 56/80 [00:00<00:00, 98.06it/s]\u001b[A\n",
      "100%|██████████| 80/80 [00:00<00:00, 96.19it/s] \u001b[A\n",
      " 85%|████████▍ | 953/1125 [20:15<04:14,  1.48s/it]"
     ]
    },
    {
     "name": "stdout",
     "output_type": "stream",
     "text": [
      "/home/jiang/projects/SubtleGAN/data/brats2021/train/BraTS2021_01392\n"
     ]
    },
    {
     "name": "stderr",
     "output_type": "stream",
     "text": [
      "\n",
      "  0%|          | 0/80 [00:00<?, ?it/s]\u001b[A\n",
      " 18%|█▊        | 14/80 [00:00<00:00, 136.10it/s]\u001b[A\n",
      " 35%|███▌      | 28/80 [00:00<00:00, 137.16it/s]\u001b[A\n",
      " 52%|█████▎    | 42/80 [00:00<00:00, 132.99it/s]\u001b[A\n",
      " 71%|███████▏  | 57/80 [00:00<00:00, 137.35it/s]\u001b[A\n",
      "100%|██████████| 80/80 [00:00<00:00, 136.20it/s]\u001b[A\n",
      " 85%|████████▍ | 954/1125 [20:17<03:51,  1.35s/it]"
     ]
    },
    {
     "name": "stdout",
     "output_type": "stream",
     "text": [
      "/home/jiang/projects/SubtleGAN/data/brats2021/train/BraTS2021_01103\n"
     ]
    },
    {
     "name": "stderr",
     "output_type": "stream",
     "text": [
      "\n",
      "  0%|          | 0/80 [00:00<?, ?it/s]\u001b[A\n",
      " 20%|██        | 16/80 [00:00<00:00, 154.77it/s]\u001b[A\n",
      " 40%|████      | 32/80 [00:00<00:00, 153.46it/s]\u001b[A\n",
      " 60%|██████    | 48/80 [00:00<00:00, 153.92it/s]\u001b[A\n",
      " 80%|████████  | 64/80 [00:00<00:00, 152.19it/s]\u001b[A\n",
      "100%|██████████| 80/80 [00:00<00:00, 152.51it/s]\u001b[A\n",
      " 85%|████████▍ | 955/1125 [20:18<03:34,  1.26s/it]"
     ]
    },
    {
     "name": "stdout",
     "output_type": "stream",
     "text": [
      "/home/jiang/projects/SubtleGAN/data/brats2021/train/BraTS2021_00285\n"
     ]
    },
    {
     "name": "stderr",
     "output_type": "stream",
     "text": [
      "\n",
      "  0%|          | 0/80 [00:00<?, ?it/s]\u001b[A\n",
      " 19%|█▉        | 15/80 [00:00<00:00, 145.27it/s]\u001b[A\n",
      " 38%|███▊      | 30/80 [00:00<00:00, 139.53it/s]\u001b[A\n",
      " 55%|█████▌    | 44/80 [00:00<00:00, 134.04it/s]\u001b[A\n",
      " 72%|███████▎  | 58/80 [00:00<00:00, 129.45it/s]\u001b[A\n",
      "100%|██████████| 80/80 [00:00<00:00, 128.00it/s]\u001b[A\n",
      " 85%|████████▍ | 956/1125 [20:19<03:24,  1.21s/it]"
     ]
    },
    {
     "name": "stdout",
     "output_type": "stream",
     "text": [
      "/home/jiang/projects/SubtleGAN/data/brats2021/train/BraTS2021_01266\n"
     ]
    },
    {
     "name": "stderr",
     "output_type": "stream",
     "text": [
      "\n",
      "  0%|          | 0/80 [00:00<?, ?it/s]\u001b[A\n",
      " 16%|█▋        | 13/80 [00:00<00:00, 121.29it/s]\u001b[A\n",
      " 32%|███▎      | 26/80 [00:00<00:00, 122.50it/s]\u001b[A\n",
      " 49%|████▉     | 39/80 [00:00<00:00, 120.86it/s]\u001b[A\n",
      " 65%|██████▌   | 52/80 [00:00<00:00, 119.52it/s]\u001b[A\n",
      " 80%|████████  | 64/80 [00:00<00:00, 118.52it/s]\u001b[A\n",
      "100%|██████████| 80/80 [00:00<00:00, 120.10it/s]\u001b[A\n",
      " 85%|████████▌ | 957/1125 [20:20<03:22,  1.21s/it]"
     ]
    },
    {
     "name": "stdout",
     "output_type": "stream",
     "text": [
      "/home/jiang/projects/SubtleGAN/data/brats2021/train/BraTS2021_01155\n"
     ]
    },
    {
     "name": "stderr",
     "output_type": "stream",
     "text": [
      "\n",
      "  0%|          | 0/80 [00:00<?, ?it/s]\u001b[A\n",
      " 16%|█▋        | 13/80 [00:00<00:00, 126.28it/s]\u001b[A\n",
      " 32%|███▎      | 26/80 [00:00<00:00, 124.16it/s]\u001b[A\n",
      " 49%|████▉     | 39/80 [00:00<00:00, 124.00it/s]\u001b[A\n",
      " 65%|██████▌   | 52/80 [00:00<00:00, 121.34it/s]\u001b[A\n",
      " 81%|████████▏ | 65/80 [00:00<00:00, 121.34it/s]\u001b[A\n",
      "100%|██████████| 80/80 [00:00<00:00, 121.50it/s]\u001b[A\n",
      " 85%|████████▌ | 958/1125 [20:21<03:16,  1.17s/it]"
     ]
    },
    {
     "name": "stdout",
     "output_type": "stream",
     "text": [
      "/home/jiang/projects/SubtleGAN/data/brats2021/train/BraTS2021_01665\n"
     ]
    },
    {
     "name": "stderr",
     "output_type": "stream",
     "text": [
      "\n",
      "  0%|          | 0/80 [00:00<?, ?it/s]\u001b[A\n",
      " 19%|█▉        | 15/80 [00:00<00:00, 143.74it/s]\u001b[A\n",
      " 38%|███▊      | 30/80 [00:00<00:00, 143.03it/s]\u001b[A\n",
      " 56%|█████▋    | 45/80 [00:00<00:00, 143.93it/s]\u001b[A\n",
      " 75%|███████▌  | 60/80 [00:00<00:00, 144.59it/s]\u001b[A\n",
      "100%|██████████| 80/80 [00:00<00:00, 142.44it/s]\u001b[A\n",
      " 85%|████████▌ | 959/1125 [20:22<03:09,  1.14s/it]"
     ]
    },
    {
     "name": "stdout",
     "output_type": "stream",
     "text": [
      "/home/jiang/projects/SubtleGAN/data/brats2021/train/BraTS2021_00746\n"
     ]
    },
    {
     "name": "stderr",
     "output_type": "stream",
     "text": [
      "\n",
      "  0%|          | 0/80 [00:00<?, ?it/s]\u001b[A\n",
      " 20%|██        | 16/80 [00:00<00:00, 157.47it/s]\u001b[A\n",
      " 40%|████      | 32/80 [00:00<00:00, 154.53it/s]\u001b[A\n",
      " 60%|██████    | 48/80 [00:00<00:00, 151.21it/s]\u001b[A\n",
      " 80%|████████  | 64/80 [00:00<00:00, 149.22it/s]\u001b[A\n",
      "100%|██████████| 80/80 [00:00<00:00, 147.16it/s]\u001b[A\n",
      " 85%|████████▌ | 960/1125 [20:23<02:57,  1.08s/it]"
     ]
    },
    {
     "name": "stdout",
     "output_type": "stream",
     "text": [
      "/home/jiang/projects/SubtleGAN/data/brats2021/train/BraTS2021_01253\n"
     ]
    },
    {
     "name": "stderr",
     "output_type": "stream",
     "text": [
      "\n",
      "  0%|          | 0/80 [00:00<?, ?it/s]\u001b[A\n",
      " 20%|██        | 16/80 [00:00<00:00, 156.66it/s]\u001b[A\n",
      " 40%|████      | 32/80 [00:00<00:00, 153.62it/s]\u001b[A\n",
      " 60%|██████    | 48/80 [00:00<00:00, 152.68it/s]\u001b[A\n",
      " 80%|████████  | 64/80 [00:00<00:00, 153.53it/s]\u001b[A\n",
      "100%|██████████| 80/80 [00:00<00:00, 153.24it/s]\u001b[A\n",
      " 85%|████████▌ | 961/1125 [20:24<02:52,  1.05s/it]"
     ]
    },
    {
     "name": "stdout",
     "output_type": "stream",
     "text": [
      "/home/jiang/projects/SubtleGAN/data/brats2021/train/BraTS2021_00327\n"
     ]
    },
    {
     "name": "stderr",
     "output_type": "stream",
     "text": [
      "\n",
      "  0%|          | 0/80 [00:00<?, ?it/s]\u001b[A\n",
      " 20%|██        | 16/80 [00:00<00:00, 154.71it/s]\u001b[A\n",
      " 40%|████      | 32/80 [00:00<00:00, 154.03it/s]\u001b[A\n",
      " 60%|██████    | 48/80 [00:00<00:00, 150.50it/s]\u001b[A\n",
      " 80%|████████  | 64/80 [00:00<00:00, 151.23it/s]\u001b[A\n",
      "100%|██████████| 80/80 [00:00<00:00, 151.07it/s]\u001b[A\n",
      " 86%|████████▌ | 962/1125 [20:25<02:48,  1.03s/it]"
     ]
    },
    {
     "name": "stdout",
     "output_type": "stream",
     "text": [
      "/home/jiang/projects/SubtleGAN/data/brats2021/train/BraTS2021_01519\n"
     ]
    },
    {
     "name": "stderr",
     "output_type": "stream",
     "text": [
      "\n",
      "  0%|          | 0/80 [00:00<?, ?it/s]\u001b[A\n",
      " 19%|█▉        | 15/80 [00:00<00:00, 149.53it/s]\u001b[A\n",
      " 39%|███▉      | 31/80 [00:00<00:00, 151.55it/s]\u001b[A\n",
      " 59%|█████▉    | 47/80 [00:00<00:00, 150.87it/s]\u001b[A\n",
      " 79%|███████▉  | 63/80 [00:00<00:00, 148.12it/s]\u001b[A\n",
      "100%|██████████| 80/80 [00:00<00:00, 145.19it/s]\u001b[A\n",
      " 86%|████████▌ | 963/1125 [20:26<02:45,  1.02s/it]"
     ]
    },
    {
     "name": "stdout",
     "output_type": "stream",
     "text": [
      "/home/jiang/projects/SubtleGAN/data/brats2021/train/BraTS2021_01495\n"
     ]
    },
    {
     "name": "stderr",
     "output_type": "stream",
     "text": [
      "\n",
      "  0%|          | 0/80 [00:00<?, ?it/s]\u001b[A\n",
      " 20%|██        | 16/80 [00:00<00:00, 155.56it/s]\u001b[A\n",
      " 40%|████      | 32/80 [00:00<00:00, 153.46it/s]\u001b[A\n",
      " 60%|██████    | 48/80 [00:00<00:00, 152.00it/s]\u001b[A\n",
      " 80%|████████  | 64/80 [00:00<00:00, 152.10it/s]\u001b[A\n",
      "100%|██████████| 80/80 [00:00<00:00, 152.55it/s]\u001b[A\n",
      " 86%|████████▌ | 964/1125 [20:27<02:43,  1.02s/it]"
     ]
    },
    {
     "name": "stdout",
     "output_type": "stream",
     "text": [
      "/home/jiang/projects/SubtleGAN/data/brats2021/train/BraTS2021_00449\n"
     ]
    },
    {
     "name": "stderr",
     "output_type": "stream",
     "text": [
      "\n",
      "  0%|          | 0/80 [00:00<?, ?it/s]\u001b[A\n",
      " 18%|█▊        | 14/80 [00:00<00:00, 138.82it/s]\u001b[A\n",
      " 35%|███▌      | 28/80 [00:00<00:00, 133.89it/s]\u001b[A\n",
      " 52%|█████▎    | 42/80 [00:00<00:00, 134.19it/s]\u001b[A\n",
      " 70%|███████   | 56/80 [00:00<00:00, 132.35it/s]\u001b[A\n",
      "100%|██████████| 80/80 [00:00<00:00, 133.29it/s]\u001b[A\n",
      " 86%|████████▌ | 965/1125 [20:28<02:46,  1.04s/it]"
     ]
    },
    {
     "name": "stdout",
     "output_type": "stream",
     "text": [
      "/home/jiang/projects/SubtleGAN/data/brats2021/train/BraTS2021_01262\n"
     ]
    },
    {
     "name": "stderr",
     "output_type": "stream",
     "text": [
      "\n",
      "  0%|          | 0/80 [00:00<?, ?it/s]\u001b[A\n",
      " 16%|█▋        | 13/80 [00:00<00:00, 122.17it/s]\u001b[A\n",
      " 34%|███▍      | 27/80 [00:00<00:00, 128.66it/s]\u001b[A\n",
      " 51%|█████▏    | 41/80 [00:00<00:00, 131.81it/s]\u001b[A\n",
      " 70%|███████   | 56/80 [00:00<00:00, 136.78it/s]\u001b[A\n",
      "100%|██████████| 80/80 [00:00<00:00, 137.61it/s]\u001b[A\n",
      " 86%|████████▌ | 966/1125 [20:29<02:46,  1.05s/it]"
     ]
    },
    {
     "name": "stdout",
     "output_type": "stream",
     "text": [
      "/home/jiang/projects/SubtleGAN/data/brats2021/train/BraTS2021_00806\n"
     ]
    },
    {
     "name": "stderr",
     "output_type": "stream",
     "text": [
      "\n",
      "  0%|          | 0/80 [00:00<?, ?it/s]\u001b[A\n",
      " 20%|██        | 16/80 [00:00<00:00, 154.40it/s]\u001b[A\n",
      " 40%|████      | 32/80 [00:00<00:00, 152.53it/s]\u001b[A\n",
      " 60%|██████    | 48/80 [00:00<00:00, 152.01it/s]\u001b[A\n",
      " 80%|████████  | 64/80 [00:00<00:00, 123.09it/s]\u001b[A\n",
      "100%|██████████| 80/80 [00:00<00:00, 118.99it/s]\u001b[A\n",
      " 86%|████████▌ | 967/1125 [20:31<03:04,  1.17s/it]"
     ]
    },
    {
     "name": "stdout",
     "output_type": "stream",
     "text": [
      "/home/jiang/projects/SubtleGAN/data/brats2021/train/BraTS2021_01236\n"
     ]
    },
    {
     "name": "stderr",
     "output_type": "stream",
     "text": [
      "\n",
      "  0%|          | 0/80 [00:00<?, ?it/s]\u001b[A\n",
      " 12%|█▎        | 10/80 [00:00<00:00, 96.21it/s]\u001b[A\n",
      " 25%|██▌       | 20/80 [00:00<00:00, 89.55it/s]\u001b[A\n",
      " 36%|███▋      | 29/80 [00:00<00:00, 87.71it/s]\u001b[A\n",
      " 48%|████▊     | 38/80 [00:00<00:00, 86.19it/s]\u001b[A\n",
      " 59%|█████▉    | 47/80 [00:00<00:00, 85.51it/s]\u001b[A\n",
      " 78%|███████▊  | 62/80 [00:00<00:00, 104.48it/s]\u001b[A\n",
      "100%|██████████| 80/80 [00:00<00:00, 100.68it/s]\u001b[A\n",
      " 86%|████████▌ | 968/1125 [20:32<03:08,  1.20s/it]"
     ]
    },
    {
     "name": "stdout",
     "output_type": "stream",
     "text": [
      "/home/jiang/projects/SubtleGAN/data/brats2021/train/BraTS2021_01636\n"
     ]
    },
    {
     "name": "stderr",
     "output_type": "stream",
     "text": [
      "\n",
      "  0%|          | 0/80 [00:00<?, ?it/s]\u001b[A\n",
      " 20%|██        | 16/80 [00:00<00:00, 154.01it/s]\u001b[A\n",
      " 40%|████      | 32/80 [00:00<00:00, 151.21it/s]\u001b[A\n",
      " 60%|██████    | 48/80 [00:00<00:00, 123.31it/s]\u001b[A\n",
      " 76%|███████▋  | 61/80 [00:00<00:00, 106.38it/s]\u001b[A\n",
      "100%|██████████| 80/80 [00:00<00:00, 117.24it/s]\u001b[A\n",
      " 86%|████████▌ | 969/1125 [20:33<03:20,  1.29s/it]"
     ]
    },
    {
     "name": "stdout",
     "output_type": "stream",
     "text": [
      "/home/jiang/projects/SubtleGAN/data/brats2021/train/BraTS2021_00386\n"
     ]
    },
    {
     "name": "stderr",
     "output_type": "stream",
     "text": [
      "\n",
      "  0%|          | 0/80 [00:00<?, ?it/s]\u001b[A\n",
      " 20%|██        | 16/80 [00:00<00:00, 157.68it/s]\u001b[A\n",
      " 40%|████      | 32/80 [00:00<00:00, 156.60it/s]\u001b[A\n",
      " 60%|██████    | 48/80 [00:00<00:00, 156.41it/s]\u001b[A\n",
      " 80%|████████  | 64/80 [00:00<00:00, 151.60it/s]\u001b[A\n",
      "100%|██████████| 80/80 [00:00<00:00, 153.22it/s]\u001b[A\n",
      " 86%|████████▌ | 970/1125 [20:34<03:04,  1.19s/it]"
     ]
    },
    {
     "name": "stdout",
     "output_type": "stream",
     "text": [
      "/home/jiang/projects/SubtleGAN/data/brats2021/train/BraTS2021_00059\n"
     ]
    },
    {
     "name": "stderr",
     "output_type": "stream",
     "text": [
      "\n",
      "  0%|          | 0/80 [00:00<?, ?it/s]\u001b[A\n",
      " 20%|██        | 16/80 [00:00<00:00, 158.52it/s]\u001b[A\n",
      " 40%|████      | 32/80 [00:00<00:00, 156.22it/s]\u001b[A\n",
      " 60%|██████    | 48/80 [00:00<00:00, 156.10it/s]\u001b[A\n",
      " 80%|████████  | 64/80 [00:00<00:00, 155.68it/s]\u001b[A\n",
      "100%|██████████| 80/80 [00:00<00:00, 152.77it/s]\u001b[A\n",
      " 86%|████████▋ | 971/1125 [20:35<02:49,  1.10s/it]"
     ]
    },
    {
     "name": "stdout",
     "output_type": "stream",
     "text": [
      "/home/jiang/projects/SubtleGAN/data/brats2021/train/BraTS2021_01393\n"
     ]
    },
    {
     "name": "stderr",
     "output_type": "stream",
     "text": [
      "\n",
      "  0%|          | 0/80 [00:00<?, ?it/s]\u001b[A\n",
      " 15%|█▌        | 12/80 [00:00<00:00, 118.26it/s]\u001b[A\n",
      " 30%|███       | 24/80 [00:00<00:00, 97.97it/s] \u001b[A\n",
      " 44%|████▍     | 35/80 [00:00<00:00, 93.04it/s]\u001b[A\n",
      " 56%|█████▋    | 45/80 [00:00<00:00, 90.50it/s]\u001b[A\n",
      " 69%|██████▉   | 55/80 [00:00<00:00, 89.03it/s]\u001b[A\n",
      " 80%|████████  | 64/80 [00:00<00:00, 88.28it/s]\u001b[A\n",
      "100%|██████████| 80/80 [00:00<00:00, 90.30it/s]\u001b[A\n",
      " 86%|████████▋ | 972/1125 [20:37<02:59,  1.17s/it]"
     ]
    },
    {
     "name": "stdout",
     "output_type": "stream",
     "text": [
      "/home/jiang/projects/SubtleGAN/data/brats2021/train/BraTS2021_00655\n"
     ]
    },
    {
     "name": "stderr",
     "output_type": "stream",
     "text": [
      "\n",
      "  0%|          | 0/80 [00:00<?, ?it/s]\u001b[A\n",
      " 14%|█▍        | 11/80 [00:00<00:00, 99.79it/s]\u001b[A\n",
      " 26%|██▋       | 21/80 [00:00<00:00, 92.41it/s]\u001b[A\n",
      " 39%|███▉      | 31/80 [00:00<00:00, 89.94it/s]\u001b[A\n",
      " 51%|█████▏    | 41/80 [00:00<00:00, 88.89it/s]\u001b[A\n",
      " 62%|██████▎   | 50/80 [00:00<00:00, 87.91it/s]\u001b[A\n",
      " 74%|███████▍  | 59/80 [00:00<00:00, 87.85it/s]\u001b[A\n",
      " 85%|████████▌ | 68/80 [00:00<00:00, 87.64it/s]\u001b[A\n",
      "100%|██████████| 80/80 [00:00<00:00, 88.57it/s]\u001b[A\n",
      " 86%|████████▋ | 973/1125 [20:38<03:05,  1.22s/it]"
     ]
    },
    {
     "name": "stdout",
     "output_type": "stream",
     "text": [
      "/home/jiang/projects/SubtleGAN/data/brats2021/train/BraTS2021_01179\n"
     ]
    },
    {
     "name": "stderr",
     "output_type": "stream",
     "text": [
      "\n",
      "  0%|          | 0/80 [00:00<?, ?it/s]\u001b[A\n",
      " 12%|█▎        | 10/80 [00:00<00:00, 96.92it/s]\u001b[A\n",
      " 25%|██▌       | 20/80 [00:00<00:00, 91.29it/s]\u001b[A\n",
      " 38%|███▊      | 30/80 [00:00<00:00, 89.65it/s]\u001b[A\n",
      " 49%|████▉     | 39/80 [00:00<00:00, 89.29it/s]\u001b[A\n",
      " 60%|██████    | 48/80 [00:00<00:00, 88.54it/s]\u001b[A\n",
      " 71%|███████▏  | 57/80 [00:00<00:00, 88.01it/s]\u001b[A\n",
      " 82%|████████▎ | 66/80 [00:00<00:00, 87.83it/s]\u001b[A\n",
      "100%|██████████| 80/80 [00:00<00:00, 88.60it/s]\u001b[A\n",
      " 87%|████████▋ | 974/1125 [20:39<03:11,  1.27s/it]"
     ]
    },
    {
     "name": "stdout",
     "output_type": "stream",
     "text": [
      "/home/jiang/projects/SubtleGAN/data/brats2021/train/BraTS2021_00078\n"
     ]
    },
    {
     "name": "stderr",
     "output_type": "stream",
     "text": [
      "\n",
      "  0%|          | 0/80 [00:00<?, ?it/s]\u001b[A\n",
      " 12%|█▎        | 10/80 [00:00<00:00, 96.75it/s]\u001b[A\n",
      " 25%|██▌       | 20/80 [00:00<00:00, 91.36it/s]\u001b[A\n",
      " 38%|███▊      | 30/80 [00:00<00:00, 89.20it/s]\u001b[A\n",
      " 49%|████▉     | 39/80 [00:00<00:00, 87.98it/s]\u001b[A\n",
      " 60%|██████    | 48/80 [00:00<00:00, 87.66it/s]\u001b[A\n",
      " 71%|███████▏  | 57/80 [00:00<00:00, 87.55it/s]\u001b[A\n",
      " 82%|████████▎ | 66/80 [00:00<00:00, 87.52it/s]\u001b[A\n",
      "100%|██████████| 80/80 [00:00<00:00, 88.07it/s]\u001b[A\n",
      " 87%|████████▋ | 975/1125 [20:41<03:12,  1.28s/it]"
     ]
    },
    {
     "name": "stdout",
     "output_type": "stream",
     "text": [
      "/home/jiang/projects/SubtleGAN/data/brats2021/train/BraTS2021_01659\n"
     ]
    },
    {
     "name": "stderr",
     "output_type": "stream",
     "text": [
      "\n",
      "  0%|          | 0/80 [00:00<?, ?it/s]\u001b[A\n",
      " 14%|█▍        | 11/80 [00:00<00:00, 99.45it/s]\u001b[A\n",
      " 26%|██▋       | 21/80 [00:00<00:00, 91.91it/s]\u001b[A\n",
      " 39%|███▉      | 31/80 [00:00<00:00, 89.51it/s]\u001b[A\n",
      " 50%|█████     | 40/80 [00:00<00:00, 88.16it/s]\u001b[A\n",
      " 61%|██████▏   | 49/80 [00:00<00:00, 87.50it/s]\u001b[A\n",
      " 72%|███████▎  | 58/80 [00:00<00:00, 87.71it/s]\u001b[A\n",
      " 84%|████████▍ | 67/80 [00:00<00:00, 87.63it/s]\u001b[A\n",
      "100%|██████████| 80/80 [00:00<00:00, 88.26it/s]\u001b[A\n",
      " 87%|████████▋ | 976/1125 [20:42<03:14,  1.31s/it]"
     ]
    },
    {
     "name": "stdout",
     "output_type": "stream",
     "text": [
      "/home/jiang/projects/SubtleGAN/data/brats2021/train/BraTS2021_01278\n"
     ]
    },
    {
     "name": "stderr",
     "output_type": "stream",
     "text": [
      "\n",
      "  0%|          | 0/80 [00:00<?, ?it/s]\u001b[A\n",
      " 12%|█▎        | 10/80 [00:00<00:00, 96.31it/s]\u001b[A\n",
      " 25%|██▌       | 20/80 [00:00<00:00, 90.18it/s]\u001b[A\n",
      " 38%|███▊      | 30/80 [00:00<00:00, 88.40it/s]\u001b[A\n",
      " 49%|████▉     | 39/80 [00:00<00:00, 86.67it/s]\u001b[A\n",
      " 60%|██████    | 48/80 [00:00<00:00, 86.37it/s]\u001b[A\n",
      " 71%|███████▏  | 57/80 [00:00<00:00, 84.70it/s]\u001b[A\n",
      " 82%|████████▎ | 66/80 [00:00<00:00, 84.08it/s]\u001b[A\n",
      "100%|██████████| 80/80 [00:00<00:00, 85.59it/s]\u001b[A\n",
      " 87%|████████▋ | 977/1125 [20:43<03:18,  1.34s/it]"
     ]
    },
    {
     "name": "stdout",
     "output_type": "stream",
     "text": [
      "/home/jiang/projects/SubtleGAN/data/brats2021/train/BraTS2021_00108\n"
     ]
    },
    {
     "name": "stderr",
     "output_type": "stream",
     "text": [
      "\n",
      "  0%|          | 0/80 [00:00<?, ?it/s]\u001b[A\n",
      " 12%|█▎        | 10/80 [00:00<00:00, 99.70it/s]\u001b[A\n",
      " 25%|██▌       | 20/80 [00:00<00:00, 91.03it/s]\u001b[A\n",
      " 38%|███▊      | 30/80 [00:00<00:00, 89.64it/s]\u001b[A\n",
      " 49%|████▉     | 39/80 [00:00<00:00, 88.54it/s]\u001b[A\n",
      " 60%|██████    | 48/80 [00:00<00:00, 87.82it/s]\u001b[A\n",
      " 71%|███████▏  | 57/80 [00:00<00:00, 87.33it/s]\u001b[A\n",
      " 82%|████████▎ | 66/80 [00:00<00:00, 86.94it/s]\u001b[A\n",
      "100%|██████████| 80/80 [00:00<00:00, 87.56it/s]\u001b[A\n",
      " 87%|████████▋ | 978/1125 [20:45<03:19,  1.36s/it]"
     ]
    },
    {
     "name": "stdout",
     "output_type": "stream",
     "text": [
      "/home/jiang/projects/SubtleGAN/data/brats2021/train/BraTS2021_00121\n"
     ]
    },
    {
     "name": "stderr",
     "output_type": "stream",
     "text": [
      "\n",
      "  0%|          | 0/80 [00:00<?, ?it/s]\u001b[A\n",
      " 12%|█▎        | 10/80 [00:00<00:00, 96.64it/s]\u001b[A\n",
      " 25%|██▌       | 20/80 [00:00<00:00, 90.50it/s]\u001b[A\n",
      " 38%|███▊      | 30/80 [00:00<00:00, 88.79it/s]\u001b[A\n",
      " 49%|████▉     | 39/80 [00:00<00:00, 89.09it/s]\u001b[A\n",
      " 68%|██████▊   | 54/80 [00:00<00:00, 107.73it/s]\u001b[A\n",
      " 84%|████████▍ | 67/80 [00:00<00:00, 112.87it/s]\u001b[A\n",
      "100%|██████████| 80/80 [00:00<00:00, 103.71it/s]\u001b[A\n",
      " 87%|████████▋ | 979/1125 [20:46<03:12,  1.32s/it]"
     ]
    },
    {
     "name": "stdout",
     "output_type": "stream",
     "text": [
      "/home/jiang/projects/SubtleGAN/data/brats2021/train/BraTS2021_01362\n"
     ]
    },
    {
     "name": "stderr",
     "output_type": "stream",
     "text": [
      "\n",
      "  0%|          | 0/80 [00:00<?, ?it/s]\u001b[A\n",
      " 20%|██        | 16/80 [00:00<00:00, 159.91it/s]\u001b[A\n",
      " 40%|████      | 32/80 [00:00<00:00, 157.88it/s]\u001b[A\n",
      " 60%|██████    | 48/80 [00:00<00:00, 157.20it/s]\u001b[A\n",
      " 80%|████████  | 64/80 [00:00<00:00, 156.92it/s]\u001b[A\n",
      "100%|██████████| 80/80 [00:00<00:00, 156.23it/s]\u001b[A\n",
      " 87%|████████▋ | 980/1125 [20:47<02:56,  1.21s/it]"
     ]
    },
    {
     "name": "stdout",
     "output_type": "stream",
     "text": [
      "/home/jiang/projects/SubtleGAN/data/brats2021/train/BraTS2021_00478\n"
     ]
    },
    {
     "name": "stderr",
     "output_type": "stream",
     "text": [
      "\n",
      "  0%|          | 0/80 [00:00<?, ?it/s]\u001b[A\n",
      " 20%|██        | 16/80 [00:00<00:00, 155.74it/s]\u001b[A\n",
      " 40%|████      | 32/80 [00:00<00:00, 151.65it/s]\u001b[A\n",
      " 60%|██████    | 48/80 [00:00<00:00, 128.27it/s]\u001b[A\n",
      " 78%|███████▊  | 62/80 [00:00<00:00, 132.18it/s]\u001b[A\n",
      "100%|██████████| 80/80 [00:00<00:00, 135.40it/s]\u001b[A\n",
      " 87%|████████▋ | 981/1125 [20:48<02:48,  1.17s/it]"
     ]
    },
    {
     "name": "stdout",
     "output_type": "stream",
     "text": [
      "/home/jiang/projects/SubtleGAN/data/brats2021/train/BraTS2021_01622\n"
     ]
    },
    {
     "name": "stderr",
     "output_type": "stream",
     "text": [
      "\n",
      "  0%|          | 0/80 [00:00<?, ?it/s]\u001b[A\n",
      " 18%|█▊        | 14/80 [00:00<00:00, 134.80it/s]\u001b[A\n",
      " 35%|███▌      | 28/80 [00:00<00:00, 136.39it/s]\u001b[A\n",
      " 52%|█████▎    | 42/80 [00:00<00:00, 137.36it/s]\u001b[A\n",
      " 70%|███████   | 56/80 [00:00<00:00, 137.59it/s]\u001b[A\n",
      "100%|██████████| 80/80 [00:00<00:00, 140.35it/s]\u001b[A\n",
      " 87%|████████▋ | 982/1125 [20:49<03:02,  1.28s/it]"
     ]
    },
    {
     "name": "stdout",
     "output_type": "stream",
     "text": [
      "/home/jiang/projects/SubtleGAN/data/brats2021/train/BraTS2021_01490\n"
     ]
    },
    {
     "name": "stderr",
     "output_type": "stream",
     "text": [
      "\n",
      "  0%|          | 0/80 [00:00<?, ?it/s]\u001b[A\n",
      " 20%|██        | 16/80 [00:00<00:00, 153.14it/s]\u001b[A\n",
      " 40%|████      | 32/80 [00:00<00:00, 155.68it/s]\u001b[A\n",
      " 60%|██████    | 48/80 [00:00<00:00, 157.00it/s]\u001b[A\n",
      " 80%|████████  | 64/80 [00:00<00:00, 157.40it/s]\u001b[A\n",
      "100%|██████████| 80/80 [00:00<00:00, 155.98it/s]\u001b[A\n",
      " 87%|████████▋ | 983/1125 [20:51<02:51,  1.21s/it]"
     ]
    },
    {
     "name": "stdout",
     "output_type": "stream",
     "text": [
      "/home/jiang/projects/SubtleGAN/data/brats2021/train/BraTS2021_01562\n"
     ]
    },
    {
     "name": "stderr",
     "output_type": "stream",
     "text": [
      "\n",
      "  0%|          | 0/80 [00:00<?, ?it/s]\u001b[A\n",
      " 20%|██        | 16/80 [00:00<00:00, 159.93it/s]\u001b[A\n",
      " 40%|████      | 32/80 [00:00<00:00, 158.48it/s]\u001b[A\n",
      " 60%|██████    | 48/80 [00:00<00:00, 158.10it/s]\u001b[A\n",
      " 80%|████████  | 64/80 [00:00<00:00, 157.27it/s]\u001b[A\n",
      "100%|██████████| 80/80 [00:00<00:00, 157.06it/s]\u001b[A\n",
      " 87%|████████▋ | 984/1125 [20:52<03:02,  1.29s/it]"
     ]
    },
    {
     "name": "stdout",
     "output_type": "stream",
     "text": [
      "/home/jiang/projects/SubtleGAN/data/brats2021/train/BraTS2021_00480\n"
     ]
    },
    {
     "name": "stderr",
     "output_type": "stream",
     "text": [
      "\n",
      "  0%|          | 0/80 [00:00<?, ?it/s]\u001b[A\n",
      " 20%|██        | 16/80 [00:00<00:00, 155.00it/s]\u001b[A\n",
      " 40%|████      | 32/80 [00:00<00:00, 156.93it/s]\u001b[A\n",
      " 60%|██████    | 48/80 [00:00<00:00, 157.75it/s]\u001b[A\n",
      " 80%|████████  | 64/80 [00:00<00:00, 158.04it/s]\u001b[A\n",
      "100%|██████████| 80/80 [00:00<00:00, 156.93it/s]\u001b[A\n",
      " 88%|████████▊ | 985/1125 [20:53<02:47,  1.20s/it]"
     ]
    },
    {
     "name": "stdout",
     "output_type": "stream",
     "text": [
      "/home/jiang/projects/SubtleGAN/data/brats2021/train/BraTS2021_01325\n"
     ]
    },
    {
     "name": "stderr",
     "output_type": "stream",
     "text": [
      "\n",
      "  0%|          | 0/80 [00:00<?, ?it/s]\u001b[A\n",
      " 20%|██        | 16/80 [00:00<00:00, 154.16it/s]\u001b[A\n",
      " 40%|████      | 32/80 [00:00<00:00, 156.51it/s]\u001b[A\n",
      " 60%|██████    | 48/80 [00:00<00:00, 157.51it/s]\u001b[A\n",
      " 80%|████████  | 64/80 [00:00<00:00, 157.79it/s]\u001b[A\n",
      "100%|██████████| 80/80 [00:00<00:00, 156.95it/s]\u001b[A\n",
      " 88%|████████▊ | 986/1125 [20:54<02:42,  1.17s/it]"
     ]
    },
    {
     "name": "stdout",
     "output_type": "stream",
     "text": [
      "/home/jiang/projects/SubtleGAN/data/brats2021/train/BraTS2021_01394\n"
     ]
    },
    {
     "name": "stderr",
     "output_type": "stream",
     "text": [
      "\n",
      "  0%|          | 0/80 [00:00<?, ?it/s]\u001b[A\n",
      " 20%|██        | 16/80 [00:00<00:00, 158.58it/s]\u001b[A\n",
      " 40%|████      | 32/80 [00:00<00:00, 158.68it/s]\u001b[A\n",
      " 60%|██████    | 48/80 [00:00<00:00, 158.73it/s]\u001b[A\n",
      " 80%|████████  | 64/80 [00:00<00:00, 158.69it/s]\u001b[A\n",
      "100%|██████████| 80/80 [00:00<00:00, 157.95it/s]\u001b[A\n",
      " 88%|████████▊ | 987/1125 [20:55<02:39,  1.15s/it]"
     ]
    },
    {
     "name": "stdout",
     "output_type": "stream",
     "text": [
      "/home/jiang/projects/SubtleGAN/data/brats2021/train/BraTS2021_01644\n"
     ]
    },
    {
     "name": "stderr",
     "output_type": "stream",
     "text": [
      "\n",
      "  0%|          | 0/80 [00:00<?, ?it/s]\u001b[A\n",
      " 20%|██        | 16/80 [00:00<00:00, 159.63it/s]\u001b[A\n",
      " 40%|████      | 32/80 [00:00<00:00, 157.16it/s]\u001b[A\n",
      " 60%|██████    | 48/80 [00:00<00:00, 114.66it/s]\u001b[A\n",
      " 80%|████████  | 64/80 [00:00<00:00, 127.01it/s]\u001b[A\n",
      "100%|██████████| 80/80 [00:00<00:00, 133.00it/s]\u001b[A\n",
      " 88%|████████▊ | 988/1125 [20:57<02:50,  1.25s/it]"
     ]
    },
    {
     "name": "stdout",
     "output_type": "stream",
     "text": [
      "/home/jiang/projects/SubtleGAN/data/brats2021/train/BraTS2021_00759\n"
     ]
    },
    {
     "name": "stderr",
     "output_type": "stream",
     "text": [
      "\n",
      "  0%|          | 0/80 [00:00<?, ?it/s]\u001b[A\n",
      " 21%|██▏       | 17/80 [00:00<00:00, 160.48it/s]\u001b[A\n",
      " 42%|████▎     | 34/80 [00:00<00:00, 158.61it/s]\u001b[A\n",
      " 62%|██████▎   | 50/80 [00:00<00:00, 158.33it/s]\u001b[A\n",
      "100%|██████████| 80/80 [00:00<00:00, 157.90it/s]\u001b[A\n",
      " 88%|████████▊ | 989/1125 [20:58<02:38,  1.17s/it]"
     ]
    },
    {
     "name": "stdout",
     "output_type": "stream",
     "text": [
      "/home/jiang/projects/SubtleGAN/data/brats2021/train/BraTS2021_01614\n"
     ]
    },
    {
     "name": "stderr",
     "output_type": "stream",
     "text": [
      "\n",
      "  0%|          | 0/80 [00:00<?, ?it/s]\u001b[A\n",
      " 20%|██        | 16/80 [00:00<00:00, 159.74it/s]\u001b[A\n",
      " 40%|████      | 32/80 [00:00<00:00, 158.11it/s]\u001b[A\n",
      " 60%|██████    | 48/80 [00:00<00:00, 156.44it/s]\u001b[A\n",
      " 80%|████████  | 64/80 [00:00<00:00, 156.13it/s]\u001b[A\n",
      "100%|██████████| 80/80 [00:00<00:00, 156.26it/s]\u001b[A\n",
      " 88%|████████▊ | 990/1125 [20:59<02:49,  1.26s/it]"
     ]
    },
    {
     "name": "stdout",
     "output_type": "stream",
     "text": [
      "/home/jiang/projects/SubtleGAN/data/brats2021/train/BraTS2021_01251\n"
     ]
    },
    {
     "name": "stderr",
     "output_type": "stream",
     "text": [
      "\n",
      "  0%|          | 0/80 [00:00<?, ?it/s]\u001b[A\n",
      " 20%|██        | 16/80 [00:00<00:00, 152.17it/s]\u001b[A\n",
      " 40%|████      | 32/80 [00:00<00:00, 155.03it/s]\u001b[A\n",
      " 60%|██████    | 48/80 [00:00<00:00, 156.15it/s]\u001b[A\n",
      " 80%|████████  | 64/80 [00:00<00:00, 156.71it/s]\u001b[A\n",
      "100%|██████████| 80/80 [00:00<00:00, 155.45it/s]\u001b[A\n",
      " 88%|████████▊ | 991/1125 [21:00<02:38,  1.18s/it]"
     ]
    },
    {
     "name": "stdout",
     "output_type": "stream",
     "text": [
      "/home/jiang/projects/SubtleGAN/data/brats2021/train/BraTS2021_01576\n"
     ]
    },
    {
     "name": "stderr",
     "output_type": "stream",
     "text": [
      "\n",
      "  0%|          | 0/80 [00:00<?, ?it/s]\u001b[A\n",
      " 21%|██▏       | 17/80 [00:00<00:00, 160.31it/s]\u001b[A\n",
      " 42%|████▎     | 34/80 [00:00<00:00, 156.82it/s]\u001b[A\n",
      " 62%|██████▎   | 50/80 [00:00<00:00, 155.97it/s]\u001b[A\n",
      "100%|██████████| 80/80 [00:00<00:00, 156.86it/s]\u001b[A\n",
      " 88%|████████▊ | 992/1125 [21:02<02:48,  1.27s/it]"
     ]
    },
    {
     "name": "stdout",
     "output_type": "stream",
     "text": [
      "/home/jiang/projects/SubtleGAN/data/brats2021/train/BraTS2021_00052\n"
     ]
    },
    {
     "name": "stderr",
     "output_type": "stream",
     "text": [
      "\n",
      "  0%|          | 0/80 [00:00<?, ?it/s]\u001b[A\n",
      " 11%|█▏        | 9/80 [00:00<00:00, 84.13it/s]\u001b[A\n",
      " 30%|███       | 24/80 [00:00<00:00, 120.00it/s]\u001b[A\n",
      " 50%|█████     | 40/80 [00:00<00:00, 136.31it/s]\u001b[A\n",
      " 68%|██████▊   | 54/80 [00:00<00:00, 102.80it/s]\u001b[A\n",
      "100%|██████████| 80/80 [00:00<00:00, 119.32it/s]\u001b[A\n",
      " 88%|████████▊ | 993/1125 [21:03<02:43,  1.24s/it]"
     ]
    },
    {
     "name": "stdout",
     "output_type": "stream",
     "text": [
      "/home/jiang/projects/SubtleGAN/data/brats2021/train/BraTS2021_00379\n"
     ]
    },
    {
     "name": "stderr",
     "output_type": "stream",
     "text": [
      "\n",
      "  0%|          | 0/80 [00:00<?, ?it/s]\u001b[A\n",
      " 20%|██        | 16/80 [00:00<00:00, 153.69it/s]\u001b[A\n",
      " 40%|████      | 32/80 [00:00<00:00, 156.57it/s]\u001b[A\n",
      " 60%|██████    | 48/80 [00:00<00:00, 156.69it/s]\u001b[A\n",
      " 80%|████████  | 64/80 [00:00<00:00, 153.91it/s]\u001b[A\n",
      "100%|██████████| 80/80 [00:00<00:00, 153.13it/s]\u001b[A\n",
      " 88%|████████▊ | 994/1125 [21:04<02:37,  1.20s/it]"
     ]
    },
    {
     "name": "stdout",
     "output_type": "stream",
     "text": [
      "/home/jiang/projects/SubtleGAN/data/brats2021/train/BraTS2021_00241\n"
     ]
    },
    {
     "name": "stderr",
     "output_type": "stream",
     "text": [
      "\n",
      "  0%|          | 0/80 [00:00<?, ?it/s]\u001b[A\n",
      " 19%|█▉        | 15/80 [00:00<00:00, 147.31it/s]\u001b[A\n",
      " 39%|███▉      | 31/80 [00:00<00:00, 153.36it/s]\u001b[A\n",
      " 59%|█████▉    | 47/80 [00:00<00:00, 155.41it/s]\u001b[A\n",
      " 79%|███████▉  | 63/80 [00:00<00:00, 156.40it/s]\u001b[A\n",
      "100%|██████████| 80/80 [00:00<00:00, 154.68it/s]\u001b[A\n",
      " 88%|████████▊ | 995/1125 [21:05<02:33,  1.18s/it]"
     ]
    },
    {
     "name": "stdout",
     "output_type": "stream",
     "text": [
      "/home/jiang/projects/SubtleGAN/data/brats2021/train/BraTS2021_01199\n"
     ]
    },
    {
     "name": "stderr",
     "output_type": "stream",
     "text": [
      "\n",
      "  0%|          | 0/80 [00:00<?, ?it/s]\u001b[A\n",
      "  9%|▉         | 7/80 [00:00<00:01, 65.68it/s]\u001b[A\n",
      " 24%|██▍       | 19/80 [00:00<00:00, 96.44it/s]\u001b[A\n",
      " 44%|████▍     | 35/80 [00:00<00:00, 121.78it/s]\u001b[A\n",
      " 64%|██████▍   | 51/80 [00:00<00:00, 135.12it/s]\u001b[A\n",
      "100%|██████████| 80/80 [00:00<00:00, 133.28it/s]\u001b[A\n",
      " 89%|████████▊ | 996/1125 [21:06<02:32,  1.18s/it]"
     ]
    },
    {
     "name": "stdout",
     "output_type": "stream",
     "text": [
      "/home/jiang/projects/SubtleGAN/data/brats2021/train/BraTS2021_00685\n"
     ]
    },
    {
     "name": "stderr",
     "output_type": "stream",
     "text": [
      "\n",
      "  0%|          | 0/80 [00:00<?, ?it/s]\u001b[A\n",
      " 21%|██▏       | 17/80 [00:00<00:00, 160.58it/s]\u001b[A\n",
      " 42%|████▎     | 34/80 [00:00<00:00, 158.31it/s]\u001b[A\n",
      " 62%|██████▎   | 50/80 [00:00<00:00, 157.69it/s]\u001b[A\n",
      "100%|██████████| 80/80 [00:00<00:00, 157.31it/s]\u001b[A\n",
      " 89%|████████▊ | 997/1125 [21:07<02:21,  1.11s/it]"
     ]
    },
    {
     "name": "stdout",
     "output_type": "stream",
     "text": [
      "/home/jiang/projects/SubtleGAN/data/brats2021/train/BraTS2021_00676\n"
     ]
    },
    {
     "name": "stderr",
     "output_type": "stream",
     "text": [
      "\n",
      "  0%|          | 0/80 [00:00<?, ?it/s]\u001b[A\n",
      " 19%|█▉        | 15/80 [00:00<00:00, 144.54it/s]\u001b[A\n",
      " 39%|███▉      | 31/80 [00:00<00:00, 152.52it/s]\u001b[A\n",
      " 59%|█████▉    | 47/80 [00:00<00:00, 155.12it/s]\u001b[A\n",
      " 79%|███████▉  | 63/80 [00:00<00:00, 156.55it/s]\u001b[A\n",
      "100%|██████████| 80/80 [00:00<00:00, 154.80it/s]\u001b[A\n",
      " 89%|████████▊ | 998/1125 [21:08<02:17,  1.09s/it]"
     ]
    },
    {
     "name": "stdout",
     "output_type": "stream",
     "text": [
      "/home/jiang/projects/SubtleGAN/data/brats2021/train/BraTS2021_01031\n"
     ]
    },
    {
     "name": "stderr",
     "output_type": "stream",
     "text": [
      "\n",
      "  0%|          | 0/80 [00:00<?, ?it/s]\u001b[A\n",
      " 20%|██        | 16/80 [00:00<00:00, 152.83it/s]\u001b[A\n",
      " 40%|████      | 32/80 [00:00<00:00, 154.83it/s]\u001b[A\n",
      " 60%|██████    | 48/80 [00:00<00:00, 155.81it/s]\u001b[A\n",
      " 80%|████████  | 64/80 [00:00<00:00, 156.38it/s]\u001b[A\n",
      "100%|██████████| 80/80 [00:00<00:00, 155.60it/s]\u001b[A\n",
      " 89%|████████▉ | 999/1125 [21:10<02:26,  1.16s/it]"
     ]
    },
    {
     "name": "stdout",
     "output_type": "stream",
     "text": [
      "/home/jiang/projects/SubtleGAN/data/brats2021/train/BraTS2021_01052\n"
     ]
    },
    {
     "name": "stderr",
     "output_type": "stream",
     "text": [
      "\n",
      "  0%|          | 0/80 [00:00<?, ?it/s]\u001b[A\n",
      " 20%|██        | 16/80 [00:00<00:00, 152.28it/s]\u001b[A\n",
      " 40%|████      | 32/80 [00:00<00:00, 150.95it/s]\u001b[A\n",
      " 60%|██████    | 48/80 [00:00<00:00, 150.08it/s]\u001b[A\n",
      " 80%|████████  | 64/80 [00:00<00:00, 150.89it/s]\u001b[A\n",
      "100%|██████████| 80/80 [00:00<00:00, 151.35it/s]\u001b[A\n",
      " 89%|████████▉ | 1000/1125 [21:11<02:22,  1.14s/it]"
     ]
    },
    {
     "name": "stdout",
     "output_type": "stream",
     "text": [
      "/home/jiang/projects/SubtleGAN/data/brats2021/train/BraTS2021_00599\n"
     ]
    },
    {
     "name": "stderr",
     "output_type": "stream",
     "text": [
      "\n",
      "  0%|          | 0/80 [00:00<?, ?it/s]\u001b[A\n",
      " 20%|██        | 16/80 [00:00<00:00, 157.83it/s]\u001b[A\n",
      " 40%|████      | 32/80 [00:00<00:00, 157.15it/s]\u001b[A\n",
      " 60%|██████    | 48/80 [00:00<00:00, 153.77it/s]\u001b[A\n",
      " 80%|████████  | 64/80 [00:00<00:00, 154.49it/s]\u001b[A\n",
      "100%|██████████| 80/80 [00:00<00:00, 154.61it/s]\u001b[A\n",
      " 89%|████████▉ | 1001/1125 [21:12<02:35,  1.26s/it]"
     ]
    },
    {
     "name": "stdout",
     "output_type": "stream",
     "text": [
      "/home/jiang/projects/SubtleGAN/data/brats2021/train/BraTS2021_01428\n"
     ]
    },
    {
     "name": "stderr",
     "output_type": "stream",
     "text": [
      "\n",
      "  0%|          | 0/80 [00:00<?, ?it/s]\u001b[A\n",
      " 20%|██        | 16/80 [00:00<00:00, 159.31it/s]\u001b[A\n",
      " 40%|████      | 32/80 [00:00<00:00, 158.31it/s]\u001b[A\n",
      " 60%|██████    | 48/80 [00:00<00:00, 158.10it/s]\u001b[A\n",
      " 80%|████████  | 64/80 [00:00<00:00, 156.91it/s]\u001b[A\n",
      "100%|██████████| 80/80 [00:00<00:00, 155.09it/s]\u001b[A\n",
      " 89%|████████▉ | 1002/1125 [21:13<02:27,  1.20s/it]"
     ]
    },
    {
     "name": "stdout",
     "output_type": "stream",
     "text": [
      "/home/jiang/projects/SubtleGAN/data/brats2021/train/BraTS2021_01145\n"
     ]
    },
    {
     "name": "stderr",
     "output_type": "stream",
     "text": [
      "\n",
      "  0%|          | 0/80 [00:00<?, ?it/s]\u001b[A\n",
      " 20%|██        | 16/80 [00:00<00:00, 159.29it/s]\u001b[A\n",
      " 40%|████      | 32/80 [00:00<00:00, 157.73it/s]\u001b[A\n",
      " 60%|██████    | 48/80 [00:00<00:00, 157.52it/s]\u001b[A\n",
      " 80%|████████  | 64/80 [00:00<00:00, 157.40it/s]\u001b[A\n",
      "100%|██████████| 80/80 [00:00<00:00, 156.70it/s]\u001b[A\n",
      " 89%|████████▉ | 1003/1125 [21:14<02:23,  1.17s/it]"
     ]
    },
    {
     "name": "stdout",
     "output_type": "stream",
     "text": [
      "/home/jiang/projects/SubtleGAN/data/brats2021/train/BraTS2021_00048\n"
     ]
    },
    {
     "name": "stderr",
     "output_type": "stream",
     "text": [
      "\n",
      "  0%|          | 0/80 [00:00<?, ?it/s]\u001b[A\n",
      " 19%|█▉        | 15/80 [00:00<00:00, 146.58it/s]\u001b[A\n",
      " 38%|███▊      | 30/80 [00:00<00:00, 148.43it/s]\u001b[A\n",
      " 57%|█████▊    | 46/80 [00:00<00:00, 149.41it/s]\u001b[A\n",
      " 78%|███████▊  | 62/80 [00:00<00:00, 150.90it/s]\u001b[A\n",
      "100%|██████████| 80/80 [00:00<00:00, 150.88it/s]\u001b[A\n",
      " 89%|████████▉ | 1004/1125 [21:15<02:18,  1.14s/it]"
     ]
    },
    {
     "name": "stdout",
     "output_type": "stream",
     "text": [
      "/home/jiang/projects/SubtleGAN/data/brats2021/train/BraTS2021_00171\n"
     ]
    },
    {
     "name": "stderr",
     "output_type": "stream",
     "text": [
      "\n",
      "  0%|          | 0/80 [00:00<?, ?it/s]\u001b[A\n",
      " 20%|██        | 16/80 [00:00<00:00, 152.26it/s]\u001b[A\n",
      " 40%|████      | 32/80 [00:00<00:00, 153.84it/s]\u001b[A\n",
      " 60%|██████    | 48/80 [00:00<00:00, 155.00it/s]\u001b[A\n",
      " 80%|████████  | 64/80 [00:00<00:00, 155.58it/s]\u001b[A\n",
      "100%|██████████| 80/80 [00:00<00:00, 154.38it/s]\u001b[A\n",
      " 89%|████████▉ | 1005/1125 [21:17<02:16,  1.14s/it]"
     ]
    },
    {
     "name": "stdout",
     "output_type": "stream",
     "text": [
      "/home/jiang/projects/SubtleGAN/data/brats2021/train/BraTS2021_01216\n"
     ]
    },
    {
     "name": "stderr",
     "output_type": "stream",
     "text": [
      "\n",
      "  0%|          | 0/80 [00:00<?, ?it/s]\u001b[A\n",
      " 19%|█▉        | 15/80 [00:00<00:00, 144.44it/s]\u001b[A\n",
      " 39%|███▉      | 31/80 [00:00<00:00, 148.40it/s]\u001b[A\n",
      " 59%|█████▉    | 47/80 [00:00<00:00, 152.08it/s]\u001b[A\n",
      " 79%|███████▉  | 63/80 [00:00<00:00, 153.75it/s]\u001b[A\n",
      "100%|██████████| 80/80 [00:00<00:00, 152.07it/s]\u001b[A\n",
      " 89%|████████▉ | 1006/1125 [21:18<02:14,  1.13s/it]"
     ]
    },
    {
     "name": "stdout",
     "output_type": "stream",
     "text": [
      "/home/jiang/projects/SubtleGAN/data/brats2021/train/BraTS2021_01589\n"
     ]
    },
    {
     "name": "stderr",
     "output_type": "stream",
     "text": [
      "\n",
      "  0%|          | 0/80 [00:00<?, ?it/s]\u001b[A\n",
      " 20%|██        | 16/80 [00:00<00:00, 158.92it/s]\u001b[A\n",
      " 40%|████      | 32/80 [00:00<00:00, 156.94it/s]\u001b[A\n",
      " 60%|██████    | 48/80 [00:00<00:00, 153.17it/s]\u001b[A\n",
      " 80%|████████  | 64/80 [00:00<00:00, 153.45it/s]\u001b[A\n",
      "100%|██████████| 80/80 [00:00<00:00, 153.76it/s]\u001b[A\n",
      " 90%|████████▉ | 1007/1125 [21:19<02:27,  1.25s/it]"
     ]
    },
    {
     "name": "stdout",
     "output_type": "stream",
     "text": [
      "/home/jiang/projects/SubtleGAN/data/brats2021/train/BraTS2021_01260\n"
     ]
    },
    {
     "name": "stderr",
     "output_type": "stream",
     "text": [
      "\n",
      "  0%|          | 0/80 [00:00<?, ?it/s]\u001b[A\n",
      " 20%|██        | 16/80 [00:00<00:00, 145.15it/s]\u001b[A\n",
      " 39%|███▉      | 31/80 [00:00<00:00, 147.46it/s]\u001b[A\n",
      " 59%|█████▉    | 47/80 [00:00<00:00, 151.41it/s]\u001b[A\n",
      " 79%|███████▉  | 63/80 [00:00<00:00, 152.16it/s]\u001b[A\n",
      "100%|██████████| 80/80 [00:00<00:00, 151.34it/s]\u001b[A\n",
      " 90%|████████▉ | 1008/1125 [21:20<02:20,  1.20s/it]"
     ]
    },
    {
     "name": "stdout",
     "output_type": "stream",
     "text": [
      "/home/jiang/projects/SubtleGAN/data/brats2021/train/BraTS2021_00228\n"
     ]
    },
    {
     "name": "stderr",
     "output_type": "stream",
     "text": [
      "\n",
      "  0%|          | 0/80 [00:00<?, ?it/s]\u001b[A\n",
      " 20%|██        | 16/80 [00:00<00:00, 155.58it/s]\u001b[A\n",
      " 40%|████      | 32/80 [00:00<00:00, 156.16it/s]\u001b[A\n",
      " 60%|██████    | 48/80 [00:00<00:00, 156.66it/s]\u001b[A\n",
      " 80%|████████  | 64/80 [00:00<00:00, 156.66it/s]\u001b[A\n",
      "100%|██████████| 80/80 [00:00<00:00, 155.93it/s]\u001b[A\n",
      " 90%|████████▉ | 1009/1125 [21:21<02:16,  1.17s/it]"
     ]
    },
    {
     "name": "stdout",
     "output_type": "stream",
     "text": [
      "/home/jiang/projects/SubtleGAN/data/brats2021/train/BraTS2021_00642\n"
     ]
    },
    {
     "name": "stderr",
     "output_type": "stream",
     "text": [
      "\n",
      "  0%|          | 0/80 [00:00<?, ?it/s]\u001b[A\n",
      " 19%|█▉        | 15/80 [00:00<00:00, 149.93it/s]\u001b[A\n",
      " 39%|███▉      | 31/80 [00:00<00:00, 153.85it/s]\u001b[A\n",
      " 59%|█████▉    | 47/80 [00:00<00:00, 155.18it/s]\u001b[A\n",
      " 79%|███████▉  | 63/80 [00:00<00:00, 153.26it/s]\u001b[A\n",
      "100%|██████████| 80/80 [00:00<00:00, 152.06it/s]\u001b[A\n",
      " 90%|████████▉ | 1010/1125 [21:22<02:10,  1.14s/it]"
     ]
    },
    {
     "name": "stdout",
     "output_type": "stream",
     "text": [
      "/home/jiang/projects/SubtleGAN/data/brats2021/train/BraTS2021_00366\n"
     ]
    },
    {
     "name": "stderr",
     "output_type": "stream",
     "text": [
      "\n",
      "  0%|          | 0/80 [00:00<?, ?it/s]\u001b[A\n",
      " 19%|█▉        | 15/80 [00:00<00:00, 144.46it/s]\u001b[A\n",
      " 39%|███▉      | 31/80 [00:00<00:00, 148.22it/s]\u001b[A\n",
      " 59%|█████▉    | 47/80 [00:00<00:00, 152.32it/s]\u001b[A\n",
      " 79%|███████▉  | 63/80 [00:00<00:00, 151.25it/s]\u001b[A\n",
      "100%|██████████| 80/80 [00:00<00:00, 150.01it/s]\u001b[A\n",
      " 90%|████████▉ | 1011/1125 [21:24<02:10,  1.14s/it]"
     ]
    },
    {
     "name": "stdout",
     "output_type": "stream",
     "text": [
      "/home/jiang/projects/SubtleGAN/data/brats2021/train/BraTS2021_01666\n"
     ]
    },
    {
     "name": "stderr",
     "output_type": "stream",
     "text": [
      "\n",
      "  0%|          | 0/80 [00:00<?, ?it/s]\u001b[A\n",
      " 20%|██        | 16/80 [00:00<00:00, 155.08it/s]\u001b[A\n",
      " 40%|████      | 32/80 [00:00<00:00, 155.02it/s]\u001b[A\n",
      " 60%|██████    | 48/80 [00:00<00:00, 152.57it/s]\u001b[A\n",
      " 80%|████████  | 64/80 [00:00<00:00, 153.18it/s]\u001b[A\n",
      "100%|██████████| 80/80 [00:00<00:00, 153.50it/s]\u001b[A\n",
      " 90%|████████▉ | 1012/1125 [21:25<02:08,  1.14s/it]"
     ]
    },
    {
     "name": "stdout",
     "output_type": "stream",
     "text": [
      "/home/jiang/projects/SubtleGAN/data/brats2021/train/BraTS2021_01207\n"
     ]
    },
    {
     "name": "stderr",
     "output_type": "stream",
     "text": [
      "\n",
      "  0%|          | 0/80 [00:00<?, ?it/s]\u001b[A\n",
      " 20%|██        | 16/80 [00:00<00:00, 159.92it/s]\u001b[A\n",
      " 40%|████      | 32/80 [00:00<00:00, 158.20it/s]\u001b[A\n",
      " 60%|██████    | 48/80 [00:00<00:00, 157.86it/s]\u001b[A\n",
      " 80%|████████  | 64/80 [00:00<00:00, 157.56it/s]\u001b[A\n",
      "100%|██████████| 80/80 [00:00<00:00, 156.89it/s]\u001b[A\n",
      " 90%|█████████ | 1013/1125 [21:26<02:05,  1.12s/it]"
     ]
    },
    {
     "name": "stdout",
     "output_type": "stream",
     "text": [
      "/home/jiang/projects/SubtleGAN/data/brats2021/train/BraTS2021_00452\n"
     ]
    },
    {
     "name": "stderr",
     "output_type": "stream",
     "text": [
      "\n",
      "  0%|          | 0/80 [00:00<?, ?it/s]\u001b[A\n",
      " 20%|██        | 16/80 [00:00<00:00, 151.75it/s]\u001b[A\n",
      " 40%|████      | 32/80 [00:00<00:00, 154.70it/s]\u001b[A\n",
      " 60%|██████    | 48/80 [00:00<00:00, 155.48it/s]\u001b[A\n",
      " 80%|████████  | 64/80 [00:00<00:00, 156.20it/s]\u001b[A\n",
      "100%|██████████| 80/80 [00:00<00:00, 155.23it/s]\u001b[A\n",
      " 90%|█████████ | 1014/1125 [21:27<02:00,  1.09s/it]"
     ]
    },
    {
     "name": "stdout",
     "output_type": "stream",
     "text": [
      "/home/jiang/projects/SubtleGAN/data/brats2021/train/BraTS2021_00193\n"
     ]
    },
    {
     "name": "stderr",
     "output_type": "stream",
     "text": [
      "\n",
      "  0%|          | 0/80 [00:00<?, ?it/s]\u001b[A\n",
      " 20%|██        | 16/80 [00:00<00:00, 157.03it/s]\u001b[A\n",
      " 40%|████      | 32/80 [00:00<00:00, 156.98it/s]\u001b[A\n",
      " 60%|██████    | 48/80 [00:00<00:00, 157.03it/s]\u001b[A\n",
      " 80%|████████  | 64/80 [00:00<00:00, 119.50it/s]\u001b[A\n",
      "100%|██████████| 80/80 [00:00<00:00, 135.23it/s]\u001b[A\n",
      " 90%|█████████ | 1015/1125 [21:28<01:58,  1.08s/it]"
     ]
    },
    {
     "name": "stdout",
     "output_type": "stream",
     "text": [
      "/home/jiang/projects/SubtleGAN/data/brats2021/train/BraTS2021_01169\n"
     ]
    },
    {
     "name": "stderr",
     "output_type": "stream",
     "text": [
      "\n",
      "  0%|          | 0/80 [00:00<?, ?it/s]\u001b[A\n",
      " 14%|█▍        | 11/80 [00:00<00:00, 109.92it/s]\u001b[A\n",
      " 28%|██▊       | 22/80 [00:00<00:00, 105.80it/s]\u001b[A\n",
      " 41%|████▏     | 33/80 [00:00<00:00, 104.22it/s]\u001b[A\n",
      " 55%|█████▌    | 44/80 [00:00<00:00, 104.31it/s]\u001b[A\n",
      " 70%|███████   | 56/80 [00:00<00:00, 107.30it/s]\u001b[A\n",
      " 85%|████████▌ | 68/80 [00:00<00:00, 111.14it/s]\u001b[A\n",
      "100%|██████████| 80/80 [00:00<00:00, 109.18it/s]\u001b[A\n",
      " 90%|█████████ | 1016/1125 [21:29<02:08,  1.18s/it]"
     ]
    },
    {
     "name": "stdout",
     "output_type": "stream",
     "text": [
      "/home/jiang/projects/SubtleGAN/data/brats2021/train/BraTS2021_01174\n"
     ]
    },
    {
     "name": "stderr",
     "output_type": "stream",
     "text": [
      "\n",
      "  0%|          | 0/80 [00:00<?, ?it/s]\u001b[A\n",
      " 14%|█▍        | 11/80 [00:00<00:00, 97.60it/s]\u001b[A\n",
      " 28%|██▊       | 22/80 [00:00<00:00, 101.04it/s]\u001b[A\n",
      " 41%|████▏     | 33/80 [00:00<00:00, 99.66it/s] \u001b[A\n",
      " 56%|█████▋    | 45/80 [00:00<00:00, 106.54it/s]\u001b[A\n",
      " 71%|███████▏  | 57/80 [00:00<00:00, 108.71it/s]\u001b[A\n",
      " 85%|████████▌ | 68/80 [00:00<00:00, 106.63it/s]\u001b[A\n",
      "100%|██████████| 80/80 [00:00<00:00, 105.75it/s]\u001b[A\n",
      " 90%|█████████ | 1017/1125 [21:31<02:25,  1.35s/it]"
     ]
    },
    {
     "name": "stdout",
     "output_type": "stream",
     "text": [
      "/home/jiang/projects/SubtleGAN/data/brats2021/train/BraTS2021_01521\n"
     ]
    },
    {
     "name": "stderr",
     "output_type": "stream",
     "text": [
      "\n",
      "  0%|          | 0/80 [00:00<?, ?it/s]\u001b[A\n",
      " 18%|█▊        | 14/80 [00:00<00:00, 131.58it/s]\u001b[A\n",
      " 35%|███▌      | 28/80 [00:00<00:00, 124.63it/s]\u001b[A\n",
      " 51%|█████▏    | 41/80 [00:00<00:00, 121.66it/s]\u001b[A\n",
      " 68%|██████▊   | 54/80 [00:00<00:00, 118.62it/s]\u001b[A\n",
      " 82%|████████▎ | 66/80 [00:00<00:00, 113.75it/s]\u001b[A\n",
      "100%|██████████| 80/80 [00:00<00:00, 114.92it/s]\u001b[A\n",
      " 90%|█████████ | 1018/1125 [21:32<02:22,  1.33s/it]"
     ]
    },
    {
     "name": "stdout",
     "output_type": "stream",
     "text": [
      "/home/jiang/projects/SubtleGAN/data/brats2021/train/BraTS2021_01609\n"
     ]
    },
    {
     "name": "stderr",
     "output_type": "stream",
     "text": [
      "\n",
      "  0%|          | 0/80 [00:00<?, ?it/s]\u001b[A\n",
      " 20%|██        | 16/80 [00:00<00:00, 150.91it/s]\u001b[A\n",
      " 40%|████      | 32/80 [00:00<00:00, 148.13it/s]\u001b[A\n",
      " 59%|█████▉    | 47/80 [00:00<00:00, 133.26it/s]\u001b[A\n",
      " 76%|███████▋  | 61/80 [00:00<00:00, 129.95it/s]\u001b[A\n",
      "100%|██████████| 80/80 [00:00<00:00, 130.80it/s]\u001b[A\n",
      " 91%|█████████ | 1019/1125 [21:34<02:27,  1.40s/it]"
     ]
    },
    {
     "name": "stdout",
     "output_type": "stream",
     "text": [
      "/home/jiang/projects/SubtleGAN/data/brats2021/train/BraTS2021_01543\n"
     ]
    },
    {
     "name": "stderr",
     "output_type": "stream",
     "text": [
      "\n",
      "  0%|          | 0/80 [00:00<?, ?it/s]\u001b[A\n",
      " 20%|██        | 16/80 [00:00<00:00, 157.55it/s]\u001b[A\n",
      " 40%|████      | 32/80 [00:00<00:00, 148.39it/s]\u001b[A\n",
      " 60%|██████    | 48/80 [00:00<00:00, 151.35it/s]\u001b[A\n",
      " 80%|████████  | 64/80 [00:00<00:00, 152.78it/s]\u001b[A\n",
      "100%|██████████| 80/80 [00:00<00:00, 152.26it/s]\u001b[A\n",
      " 91%|█████████ | 1020/1125 [21:35<02:28,  1.41s/it]"
     ]
    },
    {
     "name": "stdout",
     "output_type": "stream",
     "text": [
      "/home/jiang/projects/SubtleGAN/data/brats2021/train/BraTS2021_00767\n"
     ]
    },
    {
     "name": "stderr",
     "output_type": "stream",
     "text": [
      "\n",
      "  0%|          | 0/80 [00:00<?, ?it/s]\u001b[A\n",
      " 20%|██        | 16/80 [00:00<00:00, 156.60it/s]\u001b[A\n",
      " 40%|████      | 32/80 [00:00<00:00, 155.63it/s]\u001b[A\n",
      " 60%|██████    | 48/80 [00:00<00:00, 140.37it/s]\u001b[A\n",
      " 79%|███████▉  | 63/80 [00:00<00:00, 129.41it/s]\u001b[A\n",
      "100%|██████████| 80/80 [00:00<00:00, 129.57it/s]\u001b[A\n",
      " 91%|█████████ | 1021/1125 [21:36<02:13,  1.28s/it]"
     ]
    },
    {
     "name": "stdout",
     "output_type": "stream",
     "text": [
      "/home/jiang/projects/SubtleGAN/data/brats2021/train/BraTS2021_01272\n"
     ]
    },
    {
     "name": "stderr",
     "output_type": "stream",
     "text": [
      "\n",
      "  0%|          | 0/80 [00:00<?, ?it/s]\u001b[A\n",
      " 16%|█▋        | 13/80 [00:00<00:00, 121.45it/s]\u001b[A\n",
      " 32%|███▎      | 26/80 [00:00<00:00, 110.26it/s]\u001b[A\n",
      " 48%|████▊     | 38/80 [00:00<00:00, 98.76it/s] \u001b[A\n",
      " 61%|██████▏   | 49/80 [00:00<00:00, 94.42it/s]\u001b[A\n",
      " 74%|███████▍  | 59/80 [00:00<00:00, 91.59it/s]\u001b[A\n",
      " 86%|████████▋ | 69/80 [00:00<00:00, 89.69it/s]\u001b[A\n",
      "100%|██████████| 80/80 [00:00<00:00, 93.04it/s]\u001b[A\n",
      " 91%|█████████ | 1022/1125 [21:38<02:13,  1.30s/it]"
     ]
    },
    {
     "name": "stdout",
     "output_type": "stream",
     "text": [
      "/home/jiang/projects/SubtleGAN/data/brats2021/train/BraTS2021_01284\n"
     ]
    },
    {
     "name": "stderr",
     "output_type": "stream",
     "text": [
      "\n",
      "  0%|          | 0/80 [00:00<?, ?it/s]\u001b[A\n",
      " 12%|█▎        | 10/80 [00:00<00:00, 92.51it/s]\u001b[A\n",
      " 25%|██▌       | 20/80 [00:00<00:00, 88.90it/s]\u001b[A\n",
      " 36%|███▋      | 29/80 [00:00<00:00, 87.43it/s]\u001b[A\n",
      " 49%|████▉     | 39/80 [00:00<00:00, 90.10it/s]\u001b[A\n",
      " 64%|██████▍   | 51/80 [00:00<00:00, 97.47it/s]\u001b[A\n",
      " 78%|███████▊  | 62/80 [00:00<00:00, 101.24it/s]\u001b[A\n",
      "100%|██████████| 80/80 [00:00<00:00, 98.51it/s] \u001b[A\n",
      " 91%|█████████ | 1023/1125 [21:39<02:12,  1.30s/it]"
     ]
    },
    {
     "name": "stdout",
     "output_type": "stream",
     "text": [
      "/home/jiang/projects/SubtleGAN/data/brats2021/train/BraTS2021_01515\n"
     ]
    },
    {
     "name": "stderr",
     "output_type": "stream",
     "text": [
      "\n",
      "  0%|          | 0/80 [00:00<?, ?it/s]\u001b[A\n",
      " 15%|█▌        | 12/80 [00:00<00:00, 117.28it/s]\u001b[A\n",
      " 30%|███       | 24/80 [00:00<00:00, 111.28it/s]\u001b[A\n",
      " 45%|████▌     | 36/80 [00:00<00:00, 110.94it/s]\u001b[A\n",
      " 60%|██████    | 48/80 [00:00<00:00, 110.74it/s]\u001b[A\n",
      " 75%|███████▌  | 60/80 [00:00<00:00, 110.17it/s]\u001b[A\n",
      "100%|██████████| 80/80 [00:00<00:00, 109.13it/s]\u001b[A\n",
      " 91%|█████████ | 1024/1125 [21:40<02:08,  1.27s/it]"
     ]
    },
    {
     "name": "stdout",
     "output_type": "stream",
     "text": [
      "/home/jiang/projects/SubtleGAN/data/brats2021/train/BraTS2021_00758\n"
     ]
    },
    {
     "name": "stderr",
     "output_type": "stream",
     "text": [
      "\n",
      "  0%|          | 0/80 [00:00<?, ?it/s]\u001b[A\n",
      " 14%|█▍        | 11/80 [00:00<00:00, 100.10it/s]\u001b[A\n",
      " 28%|██▊       | 22/80 [00:00<00:00, 102.63it/s]\u001b[A\n",
      " 41%|████▏     | 33/80 [00:00<00:00, 104.70it/s]\u001b[A\n",
      " 55%|█████▌    | 44/80 [00:00<00:00, 98.01it/s] \u001b[A\n",
      " 69%|██████▉   | 55/80 [00:00<00:00, 99.73it/s]\u001b[A\n",
      " 84%|████████▍ | 67/80 [00:00<00:00, 105.01it/s]\u001b[A\n",
      "100%|██████████| 80/80 [00:00<00:00, 106.04it/s]\u001b[A\n",
      " 91%|█████████ | 1025/1125 [21:41<02:03,  1.23s/it]"
     ]
    },
    {
     "name": "stdout",
     "output_type": "stream",
     "text": [
      "/home/jiang/projects/SubtleGAN/data/brats2021/train/BraTS2021_01369\n"
     ]
    },
    {
     "name": "stderr",
     "output_type": "stream",
     "text": [
      "\n",
      "  0%|          | 0/80 [00:00<?, ?it/s]\u001b[A\n",
      " 16%|█▋        | 13/80 [00:00<00:00, 128.94it/s]\u001b[A\n",
      " 32%|███▎      | 26/80 [00:00<00:00, 115.81it/s]\u001b[A\n",
      " 48%|████▊     | 38/80 [00:00<00:00, 115.53it/s]\u001b[A\n",
      " 62%|██████▎   | 50/80 [00:00<00:00, 113.13it/s]\u001b[A\n",
      " 78%|███████▊  | 62/80 [00:00<00:00, 113.21it/s]\u001b[A\n",
      "100%|██████████| 80/80 [00:00<00:00, 113.68it/s]\u001b[A\n",
      " 91%|█████████ | 1026/1125 [21:42<01:59,  1.21s/it]"
     ]
    },
    {
     "name": "stdout",
     "output_type": "stream",
     "text": [
      "/home/jiang/projects/SubtleGAN/data/brats2021/train/BraTS2021_01299\n"
     ]
    },
    {
     "name": "stderr",
     "output_type": "stream",
     "text": [
      "\n",
      "  0%|          | 0/80 [00:00<?, ?it/s]\u001b[A\n",
      " 16%|█▋        | 13/80 [00:00<00:00, 119.87it/s]\u001b[A\n",
      " 31%|███▏      | 25/80 [00:00<00:00, 112.19it/s]\u001b[A\n",
      " 46%|████▋     | 37/80 [00:00<00:00, 106.62it/s]\u001b[A\n",
      " 60%|██████    | 48/80 [00:00<00:00, 97.08it/s] \u001b[A\n",
      " 72%|███████▎  | 58/80 [00:00<00:00, 92.39it/s]\u001b[A\n",
      " 85%|████████▌ | 68/80 [00:00<00:00, 89.55it/s]\u001b[A\n",
      "100%|██████████| 80/80 [00:00<00:00, 93.89it/s]\u001b[A\n",
      " 91%|█████████▏| 1027/1125 [21:44<02:01,  1.24s/it]"
     ]
    },
    {
     "name": "stdout",
     "output_type": "stream",
     "text": [
      "/home/jiang/projects/SubtleGAN/data/brats2021/train/BraTS2021_00024\n"
     ]
    },
    {
     "name": "stderr",
     "output_type": "stream",
     "text": [
      "\n",
      "  0%|          | 0/80 [00:00<?, ?it/s]\u001b[A\n",
      " 12%|█▎        | 10/80 [00:00<00:00, 95.69it/s]\u001b[A\n",
      " 25%|██▌       | 20/80 [00:00<00:00, 90.31it/s]\u001b[A\n",
      " 38%|███▊      | 30/80 [00:00<00:00, 87.49it/s]\u001b[A\n",
      " 49%|████▉     | 39/80 [00:00<00:00, 86.25it/s]\u001b[A\n",
      " 60%|██████    | 48/80 [00:00<00:00, 86.14it/s]\u001b[A\n",
      " 71%|███████▏  | 57/80 [00:00<00:00, 85.41it/s]\u001b[A\n",
      " 82%|████████▎ | 66/80 [00:00<00:00, 85.10it/s]\u001b[A\n",
      "100%|██████████| 80/80 [00:00<00:00, 85.88it/s]\u001b[A\n",
      " 91%|█████████▏| 1028/1125 [21:45<02:03,  1.27s/it]"
     ]
    },
    {
     "name": "stdout",
     "output_type": "stream",
     "text": [
      "/home/jiang/projects/SubtleGAN/data/brats2021/train/BraTS2021_01214\n"
     ]
    },
    {
     "name": "stderr",
     "output_type": "stream",
     "text": [
      "\n",
      "  0%|          | 0/80 [00:00<?, ?it/s]\u001b[A\n",
      " 12%|█▎        | 10/80 [00:00<00:00, 96.38it/s]\u001b[A\n",
      " 25%|██▌       | 20/80 [00:00<00:00, 89.47it/s]\u001b[A\n",
      " 36%|███▋      | 29/80 [00:00<00:00, 87.68it/s]\u001b[A\n",
      " 48%|████▊     | 38/80 [00:00<00:00, 87.18it/s]\u001b[A\n",
      " 59%|█████▉    | 47/80 [00:00<00:00, 86.74it/s]\u001b[A\n",
      " 70%|███████   | 56/80 [00:00<00:00, 86.36it/s]\u001b[A\n",
      " 81%|████████▏ | 65/80 [00:00<00:00, 85.99it/s]\u001b[A\n",
      "100%|██████████| 80/80 [00:00<00:00, 87.41it/s]\u001b[A\n",
      " 91%|█████████▏| 1029/1125 [21:46<02:05,  1.31s/it]"
     ]
    },
    {
     "name": "stdout",
     "output_type": "stream",
     "text": [
      "/home/jiang/projects/SubtleGAN/data/brats2021/train/BraTS2021_01612\n"
     ]
    },
    {
     "name": "stderr",
     "output_type": "stream",
     "text": [
      "\n",
      "  0%|          | 0/80 [00:00<?, ?it/s]\u001b[A\n",
      " 20%|██        | 16/80 [00:00<00:00, 159.70it/s]\u001b[A\n",
      " 40%|████      | 32/80 [00:00<00:00, 155.83it/s]\u001b[A\n",
      " 60%|██████    | 48/80 [00:00<00:00, 133.32it/s]\u001b[A\n",
      " 78%|███████▊  | 62/80 [00:00<00:00, 125.37it/s]\u001b[A\n",
      "100%|██████████| 80/80 [00:00<00:00, 128.53it/s]\u001b[A\n",
      " 92%|█████████▏| 1030/1125 [21:48<02:10,  1.37s/it]"
     ]
    },
    {
     "name": "stdout",
     "output_type": "stream",
     "text": [
      "/home/jiang/projects/SubtleGAN/data/brats2021/train/BraTS2021_01426\n"
     ]
    },
    {
     "name": "stderr",
     "output_type": "stream",
     "text": [
      "\n",
      "  0%|          | 0/80 [00:00<?, ?it/s]\u001b[A\n",
      " 15%|█▌        | 12/80 [00:00<00:00, 119.52it/s]\u001b[A\n",
      " 30%|███       | 24/80 [00:00<00:00, 111.80it/s]\u001b[A\n",
      " 45%|████▌     | 36/80 [00:00<00:00, 112.28it/s]\u001b[A\n",
      " 60%|██████    | 48/80 [00:00<00:00, 109.99it/s]\u001b[A\n",
      " 75%|███████▌  | 60/80 [00:00<00:00, 110.64it/s]\u001b[A\n",
      "100%|██████████| 80/80 [00:00<00:00, 112.28it/s]\u001b[A\n",
      " 92%|█████████▏| 1031/1125 [21:49<02:03,  1.31s/it]"
     ]
    },
    {
     "name": "stdout",
     "output_type": "stream",
     "text": [
      "/home/jiang/projects/SubtleGAN/data/brats2021/train/BraTS2021_01205\n"
     ]
    },
    {
     "name": "stderr",
     "output_type": "stream",
     "text": [
      "\n",
      "  0%|          | 0/80 [00:00<?, ?it/s]\u001b[A\n",
      " 18%|█▊        | 14/80 [00:00<00:00, 126.64it/s]\u001b[A\n",
      " 34%|███▍      | 27/80 [00:00<00:00, 107.00it/s]\u001b[A\n",
      " 48%|████▊     | 38/80 [00:00<00:00, 108.18it/s]\u001b[A\n",
      " 61%|██████▏   | 49/80 [00:00<00:00, 107.12it/s]\u001b[A\n",
      " 75%|███████▌  | 60/80 [00:00<00:00, 106.87it/s]\u001b[A\n",
      "100%|██████████| 80/80 [00:00<00:00, 106.45it/s]\u001b[A\n",
      " 92%|█████████▏| 1032/1125 [21:50<01:59,  1.28s/it]"
     ]
    },
    {
     "name": "stdout",
     "output_type": "stream",
     "text": [
      "/home/jiang/projects/SubtleGAN/data/brats2021/train/BraTS2021_00371\n"
     ]
    },
    {
     "name": "stderr",
     "output_type": "stream",
     "text": [
      "\n",
      "  0%|          | 0/80 [00:00<?, ?it/s]\u001b[A\n",
      " 15%|█▌        | 12/80 [00:00<00:00, 115.88it/s]\u001b[A\n",
      " 30%|███       | 24/80 [00:00<00:00, 117.44it/s]\u001b[A\n",
      " 45%|████▌     | 36/80 [00:00<00:00, 112.85it/s]\u001b[A\n",
      " 62%|██████▎   | 50/80 [00:00<00:00, 123.08it/s]\u001b[A\n",
      "100%|██████████| 80/80 [00:00<00:00, 131.26it/s]\u001b[A\n",
      " 92%|█████████▏| 1033/1125 [21:51<01:52,  1.22s/it]"
     ]
    },
    {
     "name": "stdout",
     "output_type": "stream",
     "text": [
      "/home/jiang/projects/SubtleGAN/data/brats2021/train/BraTS2021_01285\n"
     ]
    },
    {
     "name": "stderr",
     "output_type": "stream",
     "text": [
      "\n",
      "  0%|          | 0/80 [00:00<?, ?it/s]\u001b[A\n",
      " 16%|█▋        | 13/80 [00:00<00:00, 123.03it/s]\u001b[A\n",
      " 32%|███▎      | 26/80 [00:00<00:00, 115.54it/s]\u001b[A\n",
      " 48%|████▊     | 38/80 [00:00<00:00, 113.02it/s]\u001b[A\n",
      " 62%|██████▎   | 50/80 [00:00<00:00, 115.14it/s]\u001b[A\n",
      " 79%|███████▉  | 63/80 [00:00<00:00, 117.03it/s]\u001b[A\n",
      "100%|██████████| 80/80 [00:00<00:00, 115.04it/s]\u001b[A\n",
      " 92%|█████████▏| 1034/1125 [21:53<01:48,  1.20s/it]"
     ]
    },
    {
     "name": "stdout",
     "output_type": "stream",
     "text": [
      "/home/jiang/projects/SubtleGAN/data/brats2021/train/BraTS2021_01581\n"
     ]
    },
    {
     "name": "stderr",
     "output_type": "stream",
     "text": [
      "\n",
      "  0%|          | 0/80 [00:00<?, ?it/s]\u001b[A\n",
      " 20%|██        | 16/80 [00:00<00:00, 159.65it/s]\u001b[A\n",
      " 40%|████      | 32/80 [00:00<00:00, 157.63it/s]\u001b[A\n",
      " 60%|██████    | 48/80 [00:00<00:00, 135.59it/s]\u001b[A\n",
      " 78%|███████▊  | 62/80 [00:00<00:00, 126.52it/s]\u001b[A\n",
      "100%|██████████| 80/80 [00:00<00:00, 127.84it/s]\u001b[A\n",
      " 92%|█████████▏| 1035/1125 [21:54<01:56,  1.29s/it]"
     ]
    },
    {
     "name": "stdout",
     "output_type": "stream",
     "text": [
      "/home/jiang/projects/SubtleGAN/data/brats2021/train/BraTS2021_01359\n"
     ]
    },
    {
     "name": "stderr",
     "output_type": "stream",
     "text": [
      "\n",
      "  0%|          | 0/80 [00:00<?, ?it/s]\u001b[A\n",
      " 14%|█▍        | 11/80 [00:00<00:00, 102.48it/s]\u001b[A\n",
      " 28%|██▊       | 22/80 [00:00<00:00, 102.78it/s]\u001b[A\n",
      " 42%|████▎     | 34/80 [00:00<00:00, 106.34it/s]\u001b[A\n",
      " 57%|█████▊    | 46/80 [00:00<00:00, 109.04it/s]\u001b[A\n",
      " 72%|███████▎  | 58/80 [00:00<00:00, 111.32it/s]\u001b[A\n",
      "100%|██████████| 80/80 [00:00<00:00, 110.33it/s]\u001b[A\n",
      " 92%|█████████▏| 1036/1125 [21:55<01:52,  1.27s/it]"
     ]
    },
    {
     "name": "stdout",
     "output_type": "stream",
     "text": [
      "/home/jiang/projects/SubtleGAN/data/brats2021/train/BraTS2021_01097\n"
     ]
    },
    {
     "name": "stderr",
     "output_type": "stream",
     "text": [
      "\n",
      "  0%|          | 0/80 [00:00<?, ?it/s]\u001b[A\n",
      " 15%|█▌        | 12/80 [00:00<00:00, 119.89it/s]\u001b[A\n",
      " 30%|███       | 24/80 [00:00<00:00, 114.72it/s]\u001b[A\n",
      " 45%|████▌     | 36/80 [00:00<00:00, 113.14it/s]\u001b[A\n",
      " 60%|██████    | 48/80 [00:00<00:00, 113.70it/s]\u001b[A\n",
      " 75%|███████▌  | 60/80 [00:00<00:00, 113.00it/s]\u001b[A\n",
      "100%|██████████| 80/80 [00:00<00:00, 112.25it/s]\u001b[A\n",
      " 92%|█████████▏| 1037/1125 [21:56<01:49,  1.24s/it]"
     ]
    },
    {
     "name": "stdout",
     "output_type": "stream",
     "text": [
      "/home/jiang/projects/SubtleGAN/data/brats2021/train/BraTS2021_00421\n"
     ]
    },
    {
     "name": "stderr",
     "output_type": "stream",
     "text": [
      "\n",
      "  0%|          | 0/80 [00:00<?, ?it/s]\u001b[A\n",
      " 15%|█▌        | 12/80 [00:00<00:00, 117.98it/s]\u001b[A\n",
      " 30%|███       | 24/80 [00:00<00:00, 114.60it/s]\u001b[A\n",
      " 45%|████▌     | 36/80 [00:00<00:00, 116.85it/s]\u001b[A\n",
      " 60%|██████    | 48/80 [00:00<00:00, 114.92it/s]\u001b[A\n",
      " 75%|███████▌  | 60/80 [00:00<00:00, 114.36it/s]\u001b[A\n",
      "100%|██████████| 80/80 [00:00<00:00, 113.16it/s]\u001b[A\n",
      " 92%|█████████▏| 1038/1125 [21:58<01:46,  1.22s/it]"
     ]
    },
    {
     "name": "stdout",
     "output_type": "stream",
     "text": [
      "/home/jiang/projects/SubtleGAN/data/brats2021/train/BraTS2021_00336\n"
     ]
    },
    {
     "name": "stderr",
     "output_type": "stream",
     "text": [
      "\n",
      "  0%|          | 0/80 [00:00<?, ?it/s]\u001b[A\n",
      " 15%|█▌        | 12/80 [00:00<00:00, 114.82it/s]\u001b[A\n",
      " 30%|███       | 24/80 [00:00<00:00, 114.39it/s]\u001b[A\n",
      " 45%|████▌     | 36/80 [00:00<00:00, 113.09it/s]\u001b[A\n",
      " 60%|██████    | 48/80 [00:00<00:00, 113.59it/s]\u001b[A\n",
      " 75%|███████▌  | 60/80 [00:00<00:00, 113.62it/s]\u001b[A\n",
      "100%|██████████| 80/80 [00:00<00:00, 113.21it/s]\u001b[A\n",
      " 92%|█████████▏| 1039/1125 [21:59<01:43,  1.21s/it]"
     ]
    },
    {
     "name": "stdout",
     "output_type": "stream",
     "text": [
      "/home/jiang/projects/SubtleGAN/data/brats2021/train/BraTS2021_00500\n"
     ]
    },
    {
     "name": "stderr",
     "output_type": "stream",
     "text": [
      "\n",
      "  0%|          | 0/80 [00:00<?, ?it/s]\u001b[A\n",
      " 15%|█▌        | 12/80 [00:00<00:00, 113.93it/s]\u001b[A\n",
      " 30%|███       | 24/80 [00:00<00:00, 111.22it/s]\u001b[A\n",
      " 46%|████▋     | 37/80 [00:00<00:00, 118.65it/s]\u001b[A\n",
      " 64%|██████▍   | 51/80 [00:00<00:00, 123.27it/s]\u001b[A\n",
      " 80%|████████  | 64/80 [00:00<00:00, 113.39it/s]\u001b[A\n",
      "100%|██████████| 80/80 [00:00<00:00, 114.26it/s]\u001b[A\n",
      " 92%|█████████▏| 1040/1125 [22:00<01:39,  1.17s/it]"
     ]
    },
    {
     "name": "stdout",
     "output_type": "stream",
     "text": [
      "/home/jiang/projects/SubtleGAN/data/brats2021/train/BraTS2021_01388\n"
     ]
    },
    {
     "name": "stderr",
     "output_type": "stream",
     "text": [
      "\n",
      "  0%|          | 0/80 [00:00<?, ?it/s]\u001b[A\n",
      " 15%|█▌        | 12/80 [00:00<00:00, 113.52it/s]\u001b[A\n",
      " 30%|███       | 24/80 [00:00<00:00, 108.84it/s]\u001b[A\n",
      " 45%|████▌     | 36/80 [00:00<00:00, 109.74it/s]\u001b[A\n",
      " 59%|█████▉    | 47/80 [00:00<00:00, 109.60it/s]\u001b[A\n",
      " 72%|███████▎  | 58/80 [00:00<00:00, 106.76it/s]\u001b[A\n",
      "100%|██████████| 80/80 [00:00<00:00, 108.73it/s]\u001b[A\n",
      " 93%|█████████▎| 1041/1125 [22:01<01:39,  1.19s/it]"
     ]
    },
    {
     "name": "stdout",
     "output_type": "stream",
     "text": [
      "/home/jiang/projects/SubtleGAN/data/brats2021/train/BraTS2021_00606\n"
     ]
    },
    {
     "name": "stderr",
     "output_type": "stream",
     "text": [
      "\n",
      "  0%|          | 0/80 [00:00<?, ?it/s]\u001b[A\n",
      " 15%|█▌        | 12/80 [00:00<00:00, 114.71it/s]\u001b[A\n",
      " 30%|███       | 24/80 [00:00<00:00, 112.21it/s]\u001b[A\n",
      " 48%|████▊     | 38/80 [00:00<00:00, 124.32it/s]\u001b[A\n",
      " 68%|██████▊   | 54/80 [00:00<00:00, 137.00it/s]\u001b[A\n",
      "100%|██████████| 80/80 [00:00<00:00, 136.88it/s]\u001b[A\n",
      " 93%|█████████▎| 1042/1125 [22:02<01:33,  1.13s/it]"
     ]
    },
    {
     "name": "stdout",
     "output_type": "stream",
     "text": [
      "/home/jiang/projects/SubtleGAN/data/brats2021/train/BraTS2021_01269\n"
     ]
    },
    {
     "name": "stderr",
     "output_type": "stream",
     "text": [
      "\n",
      "  0%|          | 0/80 [00:00<?, ?it/s]\u001b[A\n",
      " 16%|█▋        | 13/80 [00:00<00:00, 120.27it/s]\u001b[A\n",
      " 32%|███▎      | 26/80 [00:00<00:00, 114.83it/s]\u001b[A\n",
      " 48%|████▊     | 38/80 [00:00<00:00, 113.49it/s]\u001b[A\n",
      " 62%|██████▎   | 50/80 [00:00<00:00, 113.37it/s]\u001b[A\n",
      " 78%|███████▊  | 62/80 [00:00<00:00, 114.87it/s]\u001b[A\n",
      "100%|██████████| 80/80 [00:00<00:00, 113.76it/s]\u001b[A\n",
      " 93%|█████████▎| 1043/1125 [22:03<01:33,  1.14s/it]"
     ]
    },
    {
     "name": "stdout",
     "output_type": "stream",
     "text": [
      "/home/jiang/projects/SubtleGAN/data/brats2021/train/BraTS2021_00009\n"
     ]
    },
    {
     "name": "stderr",
     "output_type": "stream",
     "text": [
      "\n",
      "  0%|          | 0/80 [00:00<?, ?it/s]\u001b[A\n",
      " 16%|█▋        | 13/80 [00:00<00:00, 122.73it/s]\u001b[A\n",
      " 32%|███▎      | 26/80 [00:00<00:00, 113.88it/s]\u001b[A\n",
      " 48%|████▊     | 38/80 [00:00<00:00, 113.96it/s]\u001b[A\n",
      " 62%|██████▎   | 50/80 [00:00<00:00, 111.92it/s]\u001b[A\n",
      " 78%|███████▊  | 62/80 [00:00<00:00, 112.16it/s]\u001b[A\n",
      "100%|██████████| 80/80 [00:00<00:00, 112.96it/s]\u001b[A\n",
      " 93%|█████████▎| 1044/1125 [22:04<01:31,  1.12s/it]"
     ]
    },
    {
     "name": "stdout",
     "output_type": "stream",
     "text": [
      "/home/jiang/projects/SubtleGAN/data/brats2021/train/BraTS2021_00683\n"
     ]
    },
    {
     "name": "stderr",
     "output_type": "stream",
     "text": [
      "\n",
      "  0%|          | 0/80 [00:00<?, ?it/s]\u001b[A\n",
      " 15%|█▌        | 12/80 [00:00<00:00, 115.50it/s]\u001b[A\n",
      " 30%|███       | 24/80 [00:00<00:00, 110.64it/s]\u001b[A\n",
      " 45%|████▌     | 36/80 [00:00<00:00, 110.91it/s]\u001b[A\n",
      " 60%|██████    | 48/80 [00:00<00:00, 110.47it/s]\u001b[A\n",
      " 75%|███████▌  | 60/80 [00:00<00:00, 109.59it/s]\u001b[A\n",
      "100%|██████████| 80/80 [00:00<00:00, 111.27it/s]\u001b[A\n",
      " 93%|█████████▎| 1045/1125 [22:06<01:30,  1.13s/it]"
     ]
    },
    {
     "name": "stdout",
     "output_type": "stream",
     "text": [
      "/home/jiang/projects/SubtleGAN/data/brats2021/train/BraTS2021_01128\n"
     ]
    },
    {
     "name": "stderr",
     "output_type": "stream",
     "text": [
      "\n",
      "  0%|          | 0/80 [00:00<?, ?it/s]\u001b[A\n",
      " 16%|█▋        | 13/80 [00:00<00:00, 120.84it/s]\u001b[A\n",
      " 32%|███▎      | 26/80 [00:00<00:00, 111.85it/s]\u001b[A\n",
      " 48%|████▊     | 38/80 [00:00<00:00, 107.07it/s]\u001b[A\n",
      " 62%|██████▎   | 50/80 [00:00<00:00, 109.77it/s]\u001b[A\n",
      " 78%|███████▊  | 62/80 [00:00<00:00, 111.98it/s]\u001b[A\n",
      "100%|██████████| 80/80 [00:00<00:00, 112.15it/s]\u001b[A\n",
      " 93%|█████████▎| 1046/1125 [22:07<01:30,  1.14s/it]"
     ]
    },
    {
     "name": "stdout",
     "output_type": "stream",
     "text": [
      "/home/jiang/projects/SubtleGAN/data/brats2021/train/BraTS2021_01208\n"
     ]
    },
    {
     "name": "stderr",
     "output_type": "stream",
     "text": [
      "\n",
      "  0%|          | 0/80 [00:00<?, ?it/s]\u001b[A\n",
      "  8%|▊         | 6/80 [00:00<00:01, 57.39it/s]\u001b[A\n",
      " 20%|██        | 16/80 [00:00<00:00, 79.90it/s]\u001b[A\n",
      " 35%|███▌      | 28/80 [00:00<00:00, 96.19it/s]\u001b[A\n",
      " 50%|█████     | 40/80 [00:00<00:00, 103.98it/s]\u001b[A\n",
      " 65%|██████▌   | 52/80 [00:00<00:00, 107.96it/s]\u001b[A\n",
      " 80%|████████  | 64/80 [00:00<00:00, 108.80it/s]\u001b[A\n",
      "100%|██████████| 80/80 [00:00<00:00, 103.15it/s]\u001b[A\n",
      " 93%|█████████▎| 1047/1125 [22:08<01:31,  1.17s/it]"
     ]
    },
    {
     "name": "stdout",
     "output_type": "stream",
     "text": [
      "/home/jiang/projects/SubtleGAN/data/brats2021/train/BraTS2021_00630\n"
     ]
    },
    {
     "name": "stderr",
     "output_type": "stream",
     "text": [
      "\n",
      "  0%|          | 0/80 [00:00<?, ?it/s]\u001b[A\n",
      " 16%|█▋        | 13/80 [00:00<00:00, 120.49it/s]\u001b[A\n",
      " 32%|███▎      | 26/80 [00:00<00:00, 115.74it/s]\u001b[A\n",
      " 48%|████▊     | 38/80 [00:00<00:00, 115.72it/s]\u001b[A\n",
      " 62%|██████▎   | 50/80 [00:00<00:00, 113.93it/s]\u001b[A\n",
      " 78%|███████▊  | 62/80 [00:00<00:00, 113.47it/s]\u001b[A\n",
      "100%|██████████| 80/80 [00:00<00:00, 113.92it/s]\u001b[A\n",
      " 93%|█████████▎| 1048/1125 [22:09<01:28,  1.15s/it]"
     ]
    },
    {
     "name": "stdout",
     "output_type": "stream",
     "text": [
      "/home/jiang/projects/SubtleGAN/data/brats2021/train/BraTS2021_01015\n"
     ]
    },
    {
     "name": "stderr",
     "output_type": "stream",
     "text": [
      "\n",
      "  0%|          | 0/80 [00:00<?, ?it/s]\u001b[A\n",
      " 16%|█▋        | 13/80 [00:00<00:00, 122.66it/s]\u001b[A\n",
      " 32%|███▎      | 26/80 [00:00<00:00, 118.98it/s]\u001b[A\n",
      " 48%|████▊     | 38/80 [00:00<00:00, 115.03it/s]\u001b[A\n",
      " 62%|██████▎   | 50/80 [00:00<00:00, 113.58it/s]\u001b[A\n",
      " 78%|███████▊  | 62/80 [00:00<00:00, 113.20it/s]\u001b[A\n",
      "100%|██████████| 80/80 [00:00<00:00, 113.33it/s]\u001b[A\n",
      " 93%|█████████▎| 1049/1125 [22:10<01:27,  1.15s/it]"
     ]
    },
    {
     "name": "stdout",
     "output_type": "stream",
     "text": [
      "/home/jiang/projects/SubtleGAN/data/brats2021/train/BraTS2021_00344\n"
     ]
    },
    {
     "name": "stderr",
     "output_type": "stream",
     "text": [
      "\n",
      "  0%|          | 0/80 [00:00<?, ?it/s]\u001b[A\n",
      " 16%|█▋        | 13/80 [00:00<00:00, 123.03it/s]\u001b[A\n",
      " 32%|███▎      | 26/80 [00:00<00:00, 114.29it/s]\u001b[A\n",
      " 48%|████▊     | 38/80 [00:00<00:00, 111.67it/s]\u001b[A\n",
      " 62%|██████▎   | 50/80 [00:00<00:00, 110.15it/s]\u001b[A\n",
      " 78%|███████▊  | 62/80 [00:00<00:00, 107.59it/s]\u001b[A\n",
      "100%|██████████| 80/80 [00:00<00:00, 109.25it/s]\u001b[A\n",
      " 93%|█████████▎| 1050/1125 [22:11<01:27,  1.17s/it]"
     ]
    },
    {
     "name": "stdout",
     "output_type": "stream",
     "text": [
      "/home/jiang/projects/SubtleGAN/data/brats2021/train/BraTS2021_00185\n"
     ]
    },
    {
     "name": "stderr",
     "output_type": "stream",
     "text": [
      "\n",
      "  0%|          | 0/80 [00:00<?, ?it/s]\u001b[A\n",
      " 15%|█▌        | 12/80 [00:00<00:00, 118.72it/s]\u001b[A\n",
      " 30%|███       | 24/80 [00:00<00:00, 115.80it/s]\u001b[A\n",
      " 45%|████▌     | 36/80 [00:00<00:00, 113.15it/s]\u001b[A\n",
      " 60%|██████    | 48/80 [00:00<00:00, 95.39it/s] \u001b[A\n",
      " 75%|███████▌  | 60/80 [00:00<00:00, 101.65it/s]\u001b[A\n",
      "100%|██████████| 80/80 [00:00<00:00, 105.93it/s]\u001b[A\n",
      " 93%|█████████▎| 1051/1125 [22:13<01:27,  1.19s/it]"
     ]
    },
    {
     "name": "stdout",
     "output_type": "stream",
     "text": [
      "/home/jiang/projects/SubtleGAN/data/brats2021/train/BraTS2021_01628\n"
     ]
    },
    {
     "name": "stderr",
     "output_type": "stream",
     "text": [
      "\n",
      "  0%|          | 0/80 [00:00<?, ?it/s]\u001b[A\n",
      " 20%|██        | 16/80 [00:00<00:00, 159.31it/s]\u001b[A\n",
      " 40%|████      | 32/80 [00:00<00:00, 143.97it/s]\u001b[A\n",
      " 59%|█████▉    | 47/80 [00:00<00:00, 123.64it/s]\u001b[A\n",
      " 75%|███████▌  | 60/80 [00:00<00:00, 117.56it/s]\u001b[A\n",
      "100%|██████████| 80/80 [00:00<00:00, 121.85it/s]\u001b[A\n",
      " 94%|█████████▎| 1052/1125 [22:14<01:34,  1.30s/it]"
     ]
    },
    {
     "name": "stdout",
     "output_type": "stream",
     "text": [
      "/home/jiang/projects/SubtleGAN/data/brats2021/train/BraTS2021_00170\n"
     ]
    },
    {
     "name": "stderr",
     "output_type": "stream",
     "text": [
      "\n",
      "  0%|          | 0/80 [00:00<?, ?it/s]\u001b[A\n",
      " 14%|█▍        | 11/80 [00:00<00:00, 107.88it/s]\u001b[A\n",
      " 29%|██▉       | 23/80 [00:00<00:00, 113.50it/s]\u001b[A\n",
      " 44%|████▍     | 35/80 [00:00<00:00, 114.28it/s]\u001b[A\n",
      " 59%|█████▉    | 47/80 [00:00<00:00, 113.36it/s]\u001b[A\n",
      " 74%|███████▍  | 59/80 [00:00<00:00, 114.27it/s]\u001b[A\n",
      "100%|██████████| 80/80 [00:00<00:00, 112.99it/s]\u001b[A\n",
      " 94%|█████████▎| 1053/1125 [22:15<01:30,  1.26s/it]"
     ]
    },
    {
     "name": "stdout",
     "output_type": "stream",
     "text": [
      "/home/jiang/projects/SubtleGAN/data/brats2021/train/BraTS2021_01092\n"
     ]
    },
    {
     "name": "stderr",
     "output_type": "stream",
     "text": [
      "\n",
      "  0%|          | 0/80 [00:00<?, ?it/s]\u001b[A\n",
      " 15%|█▌        | 12/80 [00:00<00:00, 117.78it/s]\u001b[A\n",
      " 30%|███       | 24/80 [00:00<00:00, 117.22it/s]\u001b[A\n",
      " 45%|████▌     | 36/80 [00:00<00:00, 116.71it/s]\u001b[A\n",
      " 60%|██████    | 48/80 [00:00<00:00, 115.18it/s]\u001b[A\n",
      " 75%|███████▌  | 60/80 [00:00<00:00, 114.94it/s]\u001b[A\n",
      "100%|██████████| 80/80 [00:00<00:00, 111.65it/s]\u001b[A\n",
      " 94%|█████████▎| 1054/1125 [22:17<01:27,  1.24s/it]"
     ]
    },
    {
     "name": "stdout",
     "output_type": "stream",
     "text": [
      "/home/jiang/projects/SubtleGAN/data/brats2021/train/BraTS2021_00334\n"
     ]
    },
    {
     "name": "stderr",
     "output_type": "stream",
     "text": [
      "\n",
      "  0%|          | 0/80 [00:00<?, ?it/s]\u001b[A\n",
      " 15%|█▌        | 12/80 [00:00<00:00, 111.34it/s]\u001b[A\n",
      " 30%|███       | 24/80 [00:00<00:00, 108.88it/s]\u001b[A\n",
      " 44%|████▍     | 35/80 [00:00<00:00, 108.92it/s]\u001b[A\n",
      " 57%|█████▊    | 46/80 [00:00<00:00, 108.23it/s]\u001b[A\n",
      " 72%|███████▎  | 58/80 [00:00<00:00, 109.04it/s]\u001b[A\n",
      " 86%|████████▋ | 69/80 [00:00<00:00, 85.49it/s] \u001b[A\n",
      "100%|██████████| 80/80 [00:00<00:00, 91.23it/s]\u001b[A\n",
      " 94%|█████████▍| 1055/1125 [22:18<01:29,  1.27s/it]"
     ]
    },
    {
     "name": "stdout",
     "output_type": "stream",
     "text": [
      "/home/jiang/projects/SubtleGAN/data/brats2021/train/BraTS2021_00799\n"
     ]
    },
    {
     "name": "stderr",
     "output_type": "stream",
     "text": [
      "\n",
      "  0%|          | 0/80 [00:00<?, ?it/s]\u001b[A\n",
      " 20%|██        | 16/80 [00:00<00:00, 158.70it/s]\u001b[A\n",
      " 40%|████      | 32/80 [00:00<00:00, 157.29it/s]\u001b[A\n",
      " 60%|██████    | 48/80 [00:00<00:00, 156.78it/s]\u001b[A\n",
      " 80%|████████  | 64/80 [00:00<00:00, 152.95it/s]\u001b[A\n",
      "100%|██████████| 80/80 [00:00<00:00, 142.31it/s]\u001b[A\n",
      " 94%|█████████▍| 1056/1125 [22:19<01:29,  1.29s/it]"
     ]
    },
    {
     "name": "stdout",
     "output_type": "stream",
     "text": [
      "/home/jiang/projects/SubtleGAN/data/brats2021/train/BraTS2021_00136\n"
     ]
    },
    {
     "name": "stderr",
     "output_type": "stream",
     "text": [
      "\n",
      "  0%|          | 0/80 [00:00<?, ?it/s]\u001b[A\n",
      " 15%|█▌        | 12/80 [00:00<00:00, 114.29it/s]\u001b[A\n",
      " 30%|███       | 24/80 [00:00<00:00, 109.87it/s]\u001b[A\n",
      " 45%|████▌     | 36/80 [00:00<00:00, 111.32it/s]\u001b[A\n",
      " 60%|██████    | 48/80 [00:00<00:00, 110.25it/s]\u001b[A\n",
      " 75%|███████▌  | 60/80 [00:00<00:00, 110.82it/s]\u001b[A\n",
      "100%|██████████| 80/80 [00:00<00:00, 110.95it/s]\u001b[A\n",
      " 94%|█████████▍| 1057/1125 [22:20<01:27,  1.28s/it]"
     ]
    },
    {
     "name": "stdout",
     "output_type": "stream",
     "text": [
      "/home/jiang/projects/SubtleGAN/data/brats2021/train/BraTS2021_01117\n"
     ]
    },
    {
     "name": "stderr",
     "output_type": "stream",
     "text": [
      "\n",
      "  0%|          | 0/80 [00:00<?, ?it/s]\u001b[A\n",
      " 16%|█▋        | 13/80 [00:00<00:00, 122.17it/s]\u001b[A\n",
      " 32%|███▎      | 26/80 [00:00<00:00, 115.93it/s]\u001b[A\n",
      " 48%|████▊     | 38/80 [00:00<00:00, 115.22it/s]\u001b[A\n",
      " 62%|██████▎   | 50/80 [00:00<00:00, 115.07it/s]\u001b[A\n",
      " 78%|███████▊  | 62/80 [00:00<00:00, 113.18it/s]\u001b[A\n",
      "100%|██████████| 80/80 [00:00<00:00, 113.69it/s]\u001b[A\n",
      " 94%|█████████▍| 1058/1125 [22:22<01:23,  1.25s/it]"
     ]
    },
    {
     "name": "stdout",
     "output_type": "stream",
     "text": [
      "/home/jiang/projects/SubtleGAN/data/brats2021/train/BraTS2021_01107\n"
     ]
    },
    {
     "name": "stderr",
     "output_type": "stream",
     "text": [
      "\n",
      "  0%|          | 0/80 [00:00<?, ?it/s]\u001b[A\n",
      " 15%|█▌        | 12/80 [00:00<00:00, 116.56it/s]\u001b[A\n",
      " 30%|███       | 24/80 [00:00<00:00, 113.08it/s]\u001b[A\n",
      " 45%|████▌     | 36/80 [00:00<00:00, 110.80it/s]\u001b[A\n",
      " 60%|██████    | 48/80 [00:00<00:00, 111.15it/s]\u001b[A\n",
      " 75%|███████▌  | 60/80 [00:00<00:00, 111.20it/s]\u001b[A\n",
      "100%|██████████| 80/80 [00:00<00:00, 111.48it/s]\u001b[A\n",
      " 94%|█████████▍| 1059/1125 [22:23<01:21,  1.23s/it]"
     ]
    },
    {
     "name": "stdout",
     "output_type": "stream",
     "text": [
      "/home/jiang/projects/SubtleGAN/data/brats2021/train/BraTS2021_01310\n"
     ]
    },
    {
     "name": "stderr",
     "output_type": "stream",
     "text": [
      "\n",
      "  0%|          | 0/80 [00:00<?, ?it/s]\u001b[A\n",
      " 20%|██        | 16/80 [00:00<00:00, 159.12it/s]\u001b[A\n",
      " 40%|████      | 32/80 [00:00<00:00, 155.53it/s]\u001b[A\n",
      " 60%|██████    | 48/80 [00:00<00:00, 131.23it/s]\u001b[A\n",
      " 78%|███████▊  | 62/80 [00:00<00:00, 111.53it/s]\u001b[A\n",
      "100%|██████████| 80/80 [00:00<00:00, 118.28it/s]\u001b[A\n",
      " 94%|█████████▍| 1060/1125 [22:24<01:24,  1.30s/it]"
     ]
    },
    {
     "name": "stdout",
     "output_type": "stream",
     "text": [
      "/home/jiang/projects/SubtleGAN/data/brats2021/train/BraTS2021_01509\n"
     ]
    },
    {
     "name": "stderr",
     "output_type": "stream",
     "text": [
      "\n",
      "  0%|          | 0/80 [00:00<?, ?it/s]\u001b[A\n",
      " 15%|█▌        | 12/80 [00:00<00:00, 113.18it/s]\u001b[A\n",
      " 30%|███       | 24/80 [00:00<00:00, 112.79it/s]\u001b[A\n",
      " 45%|████▌     | 36/80 [00:00<00:00, 113.73it/s]\u001b[A\n",
      " 60%|██████    | 48/80 [00:00<00:00, 113.13it/s]\u001b[A\n",
      " 75%|███████▌  | 60/80 [00:00<00:00, 113.57it/s]\u001b[A\n",
      "100%|██████████| 80/80 [00:00<00:00, 113.33it/s]\u001b[A\n",
      " 94%|█████████▍| 1061/1125 [22:25<01:20,  1.26s/it]"
     ]
    },
    {
     "name": "stdout",
     "output_type": "stream",
     "text": [
      "/home/jiang/projects/SubtleGAN/data/brats2021/train/BraTS2021_00329\n"
     ]
    },
    {
     "name": "stderr",
     "output_type": "stream",
     "text": [
      "\n",
      "  0%|          | 0/80 [00:00<?, ?it/s]\u001b[A\n",
      " 16%|█▋        | 13/80 [00:00<00:00, 120.41it/s]\u001b[A\n",
      " 32%|███▎      | 26/80 [00:00<00:00, 114.04it/s]\u001b[A\n",
      " 48%|████▊     | 38/80 [00:00<00:00, 114.25it/s]\u001b[A\n",
      " 62%|██████▎   | 50/80 [00:00<00:00, 114.35it/s]\u001b[A\n",
      " 78%|███████▊  | 62/80 [00:00<00:00, 112.40it/s]\u001b[A\n",
      "100%|██████████| 80/80 [00:00<00:00, 113.47it/s]\u001b[A\n",
      " 94%|█████████▍| 1062/1125 [22:27<01:17,  1.23s/it]"
     ]
    },
    {
     "name": "stdout",
     "output_type": "stream",
     "text": [
      "/home/jiang/projects/SubtleGAN/data/brats2021/train/BraTS2021_00611\n"
     ]
    },
    {
     "name": "stderr",
     "output_type": "stream",
     "text": [
      "\n",
      "  0%|          | 0/80 [00:00<?, ?it/s]\u001b[A\n",
      " 15%|█▌        | 12/80 [00:00<00:00, 113.87it/s]\u001b[A\n",
      " 30%|███       | 24/80 [00:00<00:00, 113.60it/s]\u001b[A\n",
      " 45%|████▌     | 36/80 [00:00<00:00, 113.19it/s]\u001b[A\n",
      " 60%|██████    | 48/80 [00:00<00:00, 112.19it/s]\u001b[A\n",
      " 75%|███████▌  | 60/80 [00:00<00:00, 112.56it/s]\u001b[A\n",
      "100%|██████████| 80/80 [00:00<00:00, 111.99it/s]\u001b[A\n",
      " 94%|█████████▍| 1063/1125 [22:28<01:13,  1.19s/it]"
     ]
    },
    {
     "name": "stdout",
     "output_type": "stream",
     "text": [
      "/home/jiang/projects/SubtleGAN/data/brats2021/train/BraTS2021_00789\n"
     ]
    },
    {
     "name": "stderr",
     "output_type": "stream",
     "text": [
      "\n",
      "  0%|          | 0/80 [00:00<?, ?it/s]\u001b[A\n",
      " 20%|██        | 16/80 [00:00<00:00, 157.94it/s]\u001b[A\n",
      " 40%|████      | 32/80 [00:00<00:00, 152.85it/s]\u001b[A\n",
      " 60%|██████    | 48/80 [00:00<00:00, 130.10it/s]\u001b[A\n",
      " 78%|███████▊  | 62/80 [00:00<00:00, 124.02it/s]\u001b[A\n",
      "100%|██████████| 80/80 [00:00<00:00, 123.38it/s]\u001b[A\n",
      " 95%|█████████▍| 1064/1125 [22:29<01:19,  1.30s/it]"
     ]
    },
    {
     "name": "stdout",
     "output_type": "stream",
     "text": [
      "/home/jiang/projects/SubtleGAN/data/brats2021/train/BraTS2021_00221\n"
     ]
    },
    {
     "name": "stderr",
     "output_type": "stream",
     "text": [
      "\n",
      "  0%|          | 0/80 [00:00<?, ?it/s]\u001b[A\n",
      " 14%|█▍        | 11/80 [00:00<00:00, 107.71it/s]\u001b[A\n",
      " 29%|██▉       | 23/80 [00:00<00:00, 110.39it/s]\u001b[A\n",
      " 44%|████▍     | 35/80 [00:00<00:00, 112.13it/s]\u001b[A\n",
      " 59%|█████▉    | 47/80 [00:00<00:00, 110.62it/s]\u001b[A\n",
      " 74%|███████▍  | 59/80 [00:00<00:00, 110.38it/s]\u001b[A\n",
      "100%|██████████| 80/80 [00:00<00:00, 109.87it/s]\u001b[A\n",
      " 95%|█████████▍| 1065/1125 [22:30<01:16,  1.27s/it]"
     ]
    },
    {
     "name": "stdout",
     "output_type": "stream",
     "text": [
      "/home/jiang/projects/SubtleGAN/data/brats2021/train/BraTS2021_01003\n"
     ]
    },
    {
     "name": "stderr",
     "output_type": "stream",
     "text": [
      "\n",
      "  0%|          | 0/80 [00:00<?, ?it/s]\u001b[A\n",
      " 16%|█▋        | 13/80 [00:00<00:00, 120.07it/s]\u001b[A\n",
      " 32%|███▎      | 26/80 [00:00<00:00, 114.19it/s]\u001b[A\n",
      " 48%|████▊     | 38/80 [00:00<00:00, 113.25it/s]\u001b[A\n",
      " 62%|██████▎   | 50/80 [00:00<00:00, 112.60it/s]\u001b[A\n",
      " 78%|███████▊  | 62/80 [00:00<00:00, 112.63it/s]\u001b[A\n",
      "100%|██████████| 80/80 [00:00<00:00, 112.48it/s]\u001b[A\n",
      " 95%|█████████▍| 1066/1125 [22:32<01:13,  1.24s/it]"
     ]
    },
    {
     "name": "stdout",
     "output_type": "stream",
     "text": [
      "/home/jiang/projects/SubtleGAN/data/brats2021/train/BraTS2021_01049\n"
     ]
    },
    {
     "name": "stderr",
     "output_type": "stream",
     "text": [
      "\n",
      "  0%|          | 0/80 [00:00<?, ?it/s]\u001b[A\n",
      " 15%|█▌        | 12/80 [00:00<00:00, 115.10it/s]\u001b[A\n",
      " 30%|███       | 24/80 [00:00<00:00, 114.49it/s]\u001b[A\n",
      " 45%|████▌     | 36/80 [00:00<00:00, 112.96it/s]\u001b[A\n",
      " 60%|██████    | 48/80 [00:00<00:00, 114.21it/s]\u001b[A\n",
      " 75%|███████▌  | 60/80 [00:00<00:00, 112.73it/s]\u001b[A\n",
      "100%|██████████| 80/80 [00:00<00:00, 112.77it/s]\u001b[A\n",
      " 95%|█████████▍| 1067/1125 [22:33<01:12,  1.25s/it]"
     ]
    },
    {
     "name": "stdout",
     "output_type": "stream",
     "text": [
      "/home/jiang/projects/SubtleGAN/data/brats2021/train/BraTS2021_01391\n"
     ]
    },
    {
     "name": "stderr",
     "output_type": "stream",
     "text": [
      "\n",
      "  0%|          | 0/80 [00:00<?, ?it/s]\u001b[A\n",
      " 15%|█▌        | 12/80 [00:00<00:00, 119.76it/s]\u001b[A\n",
      " 30%|███       | 24/80 [00:00<00:00, 116.56it/s]\u001b[A\n",
      " 45%|████▌     | 36/80 [00:00<00:00, 110.71it/s]\u001b[A\n",
      " 60%|██████    | 48/80 [00:00<00:00, 89.44it/s] \u001b[A\n",
      " 74%|███████▍  | 59/80 [00:00<00:00, 95.48it/s]\u001b[A\n",
      "100%|██████████| 80/80 [00:00<00:00, 101.77it/s][A\n",
      " 95%|█████████▍| 1068/1125 [22:34<01:11,  1.25s/it]"
     ]
    },
    {
     "name": "stdout",
     "output_type": "stream",
     "text": [
      "/home/jiang/projects/SubtleGAN/data/brats2021/train/BraTS2021_00388\n"
     ]
    },
    {
     "name": "stderr",
     "output_type": "stream",
     "text": [
      "\n",
      "  0%|          | 0/80 [00:00<?, ?it/s]\u001b[A\n",
      " 15%|█▌        | 12/80 [00:00<00:00, 116.24it/s]\u001b[A\n",
      " 30%|███       | 24/80 [00:00<00:00, 111.88it/s]\u001b[A\n",
      " 45%|████▌     | 36/80 [00:00<00:00, 111.37it/s]\u001b[A\n",
      " 60%|██████    | 48/80 [00:00<00:00, 109.23it/s]\u001b[A\n",
      " 75%|███████▌  | 60/80 [00:00<00:00, 111.28it/s]\u001b[A\n",
      "100%|██████████| 80/80 [00:00<00:00, 110.85it/s]\u001b[A\n",
      " 95%|█████████▌| 1069/1125 [22:35<01:09,  1.23s/it]"
     ]
    },
    {
     "name": "stdout",
     "output_type": "stream",
     "text": [
      "/home/jiang/projects/SubtleGAN/data/brats2021/train/BraTS2021_01412\n"
     ]
    },
    {
     "name": "stderr",
     "output_type": "stream",
     "text": [
      "\n",
      "  0%|          | 0/80 [00:00<?, ?it/s]\u001b[A\n",
      " 16%|█▋        | 13/80 [00:00<00:00, 124.66it/s]\u001b[A\n",
      " 32%|███▎      | 26/80 [00:00<00:00, 118.61it/s]\u001b[A\n",
      " 48%|████▊     | 38/80 [00:00<00:00, 116.04it/s]\u001b[A\n",
      " 62%|██████▎   | 50/80 [00:00<00:00, 114.93it/s]\u001b[A\n",
      " 78%|███████▊  | 62/80 [00:00<00:00, 114.09it/s]\u001b[A\n",
      "100%|██████████| 80/80 [00:00<00:00, 114.92it/s]\u001b[A\n",
      " 95%|█████████▌| 1070/1125 [22:37<01:06,  1.21s/it]"
     ]
    },
    {
     "name": "stdout",
     "output_type": "stream",
     "text": [
      "/home/jiang/projects/SubtleGAN/data/brats2021/train/BraTS2021_01583\n"
     ]
    },
    {
     "name": "stderr",
     "output_type": "stream",
     "text": [
      "\n",
      "  0%|          | 0/80 [00:00<?, ?it/s]\u001b[A\n",
      " 20%|██        | 16/80 [00:00<00:00, 159.96it/s]\u001b[A\n",
      " 40%|████      | 32/80 [00:00<00:00, 151.81it/s]\u001b[A\n",
      " 60%|██████    | 48/80 [00:00<00:00, 129.34it/s]\u001b[A\n",
      " 78%|███████▊  | 62/80 [00:00<00:00, 123.24it/s]\u001b[A\n",
      "100%|██████████| 80/80 [00:00<00:00, 125.54it/s]\u001b[A\n",
      " 95%|█████████▌| 1071/1125 [22:38<01:10,  1.31s/it]"
     ]
    },
    {
     "name": "stdout",
     "output_type": "stream",
     "text": [
      "/home/jiang/projects/SubtleGAN/data/brats2021/train/BraTS2021_00130\n"
     ]
    },
    {
     "name": "stderr",
     "output_type": "stream",
     "text": [
      "\n",
      "  0%|          | 0/80 [00:00<?, ?it/s]\u001b[A\n",
      " 14%|█▍        | 11/80 [00:00<00:00, 105.75it/s]\u001b[A\n",
      " 28%|██▊       | 22/80 [00:00<00:00, 103.45it/s]\u001b[A\n",
      " 42%|████▎     | 34/80 [00:00<00:00, 107.04it/s]\u001b[A\n",
      " 57%|█████▊    | 46/80 [00:00<00:00, 109.07it/s]\u001b[A\n",
      " 72%|███████▎  | 58/80 [00:00<00:00, 110.49it/s]\u001b[A\n",
      "100%|██████████| 80/80 [00:00<00:00, 108.99it/s]\u001b[A\n",
      " 95%|█████████▌| 1072/1125 [22:39<01:07,  1.27s/it]"
     ]
    },
    {
     "name": "stdout",
     "output_type": "stream",
     "text": [
      "/home/jiang/projects/SubtleGAN/data/brats2021/train/BraTS2021_01416\n"
     ]
    },
    {
     "name": "stderr",
     "output_type": "stream",
     "text": [
      "\n",
      "  0%|          | 0/80 [00:00<?, ?it/s]\u001b[A\n",
      " 16%|█▋        | 13/80 [00:00<00:00, 121.50it/s]\u001b[A\n",
      " 32%|███▎      | 26/80 [00:00<00:00, 116.55it/s]\u001b[A\n",
      " 48%|████▊     | 38/80 [00:00<00:00, 114.75it/s]\u001b[A\n",
      " 62%|██████▎   | 50/80 [00:00<00:00, 113.28it/s]\u001b[A\n",
      " 78%|███████▊  | 62/80 [00:00<00:00, 111.93it/s]\u001b[A\n",
      "100%|██████████| 80/80 [00:00<00:00, 112.61it/s]\u001b[A\n",
      " 95%|█████████▌| 1073/1125 [22:40<01:04,  1.25s/it]"
     ]
    },
    {
     "name": "stdout",
     "output_type": "stream",
     "text": [
      "/home/jiang/projects/SubtleGAN/data/brats2021/train/BraTS2021_00172\n"
     ]
    },
    {
     "name": "stderr",
     "output_type": "stream",
     "text": [
      "\n",
      "  0%|          | 0/80 [00:00<?, ?it/s]\u001b[A\n",
      " 15%|█▌        | 12/80 [00:00<00:00, 111.11it/s]\u001b[A\n",
      " 30%|███       | 24/80 [00:00<00:00, 108.77it/s]\u001b[A\n",
      " 44%|████▍     | 35/80 [00:00<00:00, 101.51it/s]\u001b[A\n",
      " 57%|█████▊    | 46/80 [00:00<00:00, 98.50it/s] \u001b[A\n",
      " 71%|███████▏  | 57/80 [00:00<00:00, 101.20it/s]\u001b[A\n",
      " 85%|████████▌ | 68/80 [00:00<00:00, 103.24it/s]\u001b[A\n",
      "100%|██████████| 80/80 [00:00<00:00, 103.36it/s]\u001b[A\n",
      " 95%|█████████▌| 1074/1125 [22:42<01:03,  1.25s/it]"
     ]
    },
    {
     "name": "stdout",
     "output_type": "stream",
     "text": [
      "/home/jiang/projects/SubtleGAN/data/brats2021/train/BraTS2021_00834\n"
     ]
    },
    {
     "name": "stderr",
     "output_type": "stream",
     "text": [
      "\n",
      "  0%|          | 0/80 [00:00<?, ?it/s]\u001b[A\n",
      " 15%|█▌        | 12/80 [00:00<00:00, 114.24it/s]\u001b[A\n",
      " 30%|███       | 24/80 [00:00<00:00, 111.27it/s]\u001b[A\n",
      " 45%|████▌     | 36/80 [00:00<00:00, 110.31it/s]\u001b[A\n",
      " 60%|██████    | 48/80 [00:00<00:00, 110.47it/s]\u001b[A\n",
      " 75%|███████▌  | 60/80 [00:00<00:00, 110.50it/s]\u001b[A\n",
      "100%|██████████| 80/80 [00:00<00:00, 110.43it/s]\u001b[A\n",
      " 96%|█████████▌| 1075/1125 [22:43<01:01,  1.24s/it]"
     ]
    },
    {
     "name": "stdout",
     "output_type": "stream",
     "text": [
      "/home/jiang/projects/SubtleGAN/data/brats2021/train/BraTS2021_01104\n"
     ]
    },
    {
     "name": "stderr",
     "output_type": "stream",
     "text": [
      "\n",
      "  0%|          | 0/80 [00:00<?, ?it/s]\u001b[A\n",
      " 15%|█▌        | 12/80 [00:00<00:00, 115.77it/s]\u001b[A\n",
      " 30%|███       | 24/80 [00:00<00:00, 113.98it/s]\u001b[A\n",
      " 49%|████▉     | 39/80 [00:00<00:00, 127.72it/s]\u001b[A\n",
      " 69%|██████▉   | 55/80 [00:00<00:00, 138.94it/s]\u001b[A\n",
      "100%|██████████| 80/80 [00:00<00:00, 138.76it/s]\u001b[A\n",
      " 96%|█████████▌| 1076/1125 [22:44<00:57,  1.18s/it]"
     ]
    },
    {
     "name": "stdout",
     "output_type": "stream",
     "text": [
      "/home/jiang/projects/SubtleGAN/data/brats2021/train/BraTS2021_01629\n"
     ]
    },
    {
     "name": "stderr",
     "output_type": "stream",
     "text": [
      "\n",
      "  0%|          | 0/80 [00:00<?, ?it/s]\u001b[A\n",
      " 20%|██        | 16/80 [00:00<00:00, 159.40it/s]\u001b[A\n",
      " 40%|████      | 32/80 [00:00<00:00, 158.00it/s]\u001b[A\n",
      " 60%|██████    | 48/80 [00:00<00:00, 157.48it/s]\u001b[A\n",
      " 80%|████████  | 64/80 [00:00<00:00, 156.96it/s]\u001b[A\n",
      "100%|██████████| 80/80 [00:00<00:00, 151.08it/s]\u001b[A\n",
      " 96%|█████████▌| 1077/1125 [22:45<00:58,  1.22s/it]"
     ]
    },
    {
     "name": "stdout",
     "output_type": "stream",
     "text": [
      "/home/jiang/projects/SubtleGAN/data/brats2021/train/BraTS2021_00325\n"
     ]
    },
    {
     "name": "stderr",
     "output_type": "stream",
     "text": [
      "\n",
      "  0%|          | 0/80 [00:00<?, ?it/s]\u001b[A\n",
      " 15%|█▌        | 12/80 [00:00<00:00, 113.78it/s]\u001b[A\n",
      " 30%|███       | 24/80 [00:00<00:00, 84.01it/s] \u001b[A\n",
      " 45%|████▌     | 36/80 [00:00<00:00, 94.68it/s]\u001b[A\n",
      " 59%|█████▉    | 47/80 [00:00<00:00, 98.73it/s]\u001b[A\n",
      " 74%|███████▍  | 59/80 [00:00<00:00, 103.50it/s]\u001b[A\n",
      "100%|██████████| 80/80 [00:00<00:00, 102.05it/s]\u001b[A\n",
      " 96%|█████████▌| 1078/1125 [22:47<00:57,  1.23s/it]"
     ]
    },
    {
     "name": "stdout",
     "output_type": "stream",
     "text": [
      "/home/jiang/projects/SubtleGAN/data/brats2021/train/BraTS2021_01655\n"
     ]
    },
    {
     "name": "stderr",
     "output_type": "stream",
     "text": [
      "\n",
      "  0%|          | 0/80 [00:00<?, ?it/s]\u001b[A\n",
      " 20%|██        | 16/80 [00:00<00:00, 153.38it/s]\u001b[A\n",
      " 40%|████      | 32/80 [00:00<00:00, 149.31it/s]\u001b[A\n",
      " 59%|█████▉    | 47/80 [00:00<00:00, 128.40it/s]\u001b[A\n",
      " 76%|███████▋  | 61/80 [00:00<00:00, 120.00it/s]\u001b[A\n",
      "100%|██████████| 80/80 [00:00<00:00, 122.26it/s]\u001b[A\n",
      " 96%|█████████▌| 1079/1125 [22:48<01:00,  1.32s/it]"
     ]
    },
    {
     "name": "stdout",
     "output_type": "stream",
     "text": [
      "/home/jiang/projects/SubtleGAN/data/brats2021/train/BraTS2021_01286\n"
     ]
    },
    {
     "name": "stderr",
     "output_type": "stream",
     "text": [
      "\n",
      "  0%|          | 0/80 [00:00<?, ?it/s]\u001b[A\n",
      " 15%|█▌        | 12/80 [00:00<00:00, 116.20it/s]\u001b[A\n",
      " 30%|███       | 24/80 [00:00<00:00, 111.22it/s]\u001b[A\n",
      " 45%|████▌     | 36/80 [00:00<00:00, 109.94it/s]\u001b[A\n",
      " 60%|██████    | 48/80 [00:00<00:00, 109.21it/s]\u001b[A\n",
      " 74%|███████▍  | 59/80 [00:00<00:00, 108.72it/s]\u001b[A\n",
      "100%|██████████| 80/80 [00:00<00:00, 109.10it/s]\u001b[A\n",
      " 96%|█████████▌| 1080/1125 [22:49<00:57,  1.28s/it]"
     ]
    },
    {
     "name": "stdout",
     "output_type": "stream",
     "text": [
      "/home/jiang/projects/SubtleGAN/data/brats2021/train/BraTS2021_01640\n"
     ]
    },
    {
     "name": "stderr",
     "output_type": "stream",
     "text": [
      "\n",
      "  0%|          | 0/80 [00:00<?, ?it/s]\u001b[A\n",
      " 20%|██        | 16/80 [00:00<00:00, 159.03it/s]\u001b[A\n",
      " 40%|████      | 32/80 [00:00<00:00, 157.80it/s]\u001b[A\n",
      " 60%|██████    | 48/80 [00:00<00:00, 132.32it/s]\u001b[A\n",
      " 78%|███████▊  | 62/80 [00:00<00:00, 121.68it/s]\u001b[A\n",
      "100%|██████████| 80/80 [00:00<00:00, 123.63it/s]\u001b[A\n",
      " 96%|█████████▌| 1081/1125 [22:51<00:59,  1.35s/it]"
     ]
    },
    {
     "name": "stdout",
     "output_type": "stream",
     "text": [
      "/home/jiang/projects/SubtleGAN/data/brats2021/train/BraTS2021_00066\n"
     ]
    },
    {
     "name": "stderr",
     "output_type": "stream",
     "text": [
      "\n",
      "  0%|          | 0/80 [00:00<?, ?it/s]\u001b[A\n",
      " 15%|█▌        | 12/80 [00:00<00:00, 118.59it/s]\u001b[A\n",
      " 30%|███       | 24/80 [00:00<00:00, 115.34it/s]\u001b[A\n",
      " 45%|████▌     | 36/80 [00:00<00:00, 113.94it/s]\u001b[A\n",
      " 60%|██████    | 48/80 [00:00<00:00, 113.99it/s]\u001b[A\n",
      " 75%|███████▌  | 60/80 [00:00<00:00, 113.37it/s]\u001b[A\n",
      "100%|██████████| 80/80 [00:00<00:00, 113.54it/s]\u001b[A\n",
      " 96%|█████████▌| 1082/1125 [22:52<00:54,  1.28s/it]"
     ]
    },
    {
     "name": "stdout",
     "output_type": "stream",
     "text": [
      "/home/jiang/projects/SubtleGAN/data/brats2021/train/BraTS2021_01353\n"
     ]
    },
    {
     "name": "stderr",
     "output_type": "stream",
     "text": [
      "\n",
      "  0%|          | 0/80 [00:00<?, ?it/s]\u001b[A\n",
      " 16%|█▋        | 13/80 [00:00<00:00, 118.37it/s]\u001b[A\n",
      " 31%|███▏      | 25/80 [00:00<00:00, 113.34it/s]\u001b[A\n",
      " 46%|████▋     | 37/80 [00:00<00:00, 112.50it/s]\u001b[A\n",
      " 61%|██████▏   | 49/80 [00:00<00:00, 113.43it/s]\u001b[A\n",
      " 76%|███████▋  | 61/80 [00:00<00:00, 106.94it/s]\u001b[A\n",
      "100%|██████████| 80/80 [00:00<00:00, 103.40it/s]\u001b[A\n",
      " 96%|█████████▋| 1083/1125 [22:53<00:53,  1.27s/it]"
     ]
    },
    {
     "name": "stdout",
     "output_type": "stream",
     "text": [
      "/home/jiang/projects/SubtleGAN/data/brats2021/train/BraTS2021_01194\n"
     ]
    },
    {
     "name": "stderr",
     "output_type": "stream",
     "text": [
      "\n",
      "  0%|          | 0/80 [00:00<?, ?it/s]\u001b[A\n",
      " 14%|█▍        | 11/80 [00:00<00:00, 108.72it/s]\u001b[A\n",
      " 29%|██▉       | 23/80 [00:00<00:00, 111.77it/s]\u001b[A\n",
      " 44%|████▍     | 35/80 [00:00<00:00, 112.34it/s]\u001b[A\n",
      " 59%|█████▉    | 47/80 [00:00<00:00, 112.85it/s]\u001b[A\n",
      " 74%|███████▍  | 59/80 [00:00<00:00, 111.81it/s]\u001b[A\n",
      "100%|██████████| 80/80 [00:00<00:00, 112.06it/s]\u001b[A\n",
      " 96%|█████████▋| 1084/1125 [22:54<00:50,  1.24s/it]"
     ]
    },
    {
     "name": "stdout",
     "output_type": "stream",
     "text": [
      "/home/jiang/projects/SubtleGAN/data/brats2021/train/BraTS2021_01615\n"
     ]
    },
    {
     "name": "stderr",
     "output_type": "stream",
     "text": [
      "\n",
      "  0%|          | 0/80 [00:00<?, ?it/s]\u001b[A\n",
      " 21%|██▏       | 17/80 [00:00<00:00, 160.21it/s]\u001b[A\n",
      " 42%|████▎     | 34/80 [00:00<00:00, 154.15it/s]\u001b[A\n",
      " 62%|██████▎   | 50/80 [00:00<00:00, 131.81it/s]\u001b[A\n",
      " 80%|████████  | 64/80 [00:00<00:00, 124.11it/s]\u001b[A\n",
      "100%|██████████| 80/80 [00:00<00:00, 125.15it/s]\u001b[A\n",
      " 96%|█████████▋| 1085/1125 [22:56<00:52,  1.32s/it]"
     ]
    },
    {
     "name": "stdout",
     "output_type": "stream",
     "text": [
      "/home/jiang/projects/SubtleGAN/data/brats2021/train/BraTS2021_00282\n"
     ]
    },
    {
     "name": "stderr",
     "output_type": "stream",
     "text": [
      "\n",
      "  0%|          | 0/80 [00:00<?, ?it/s]\u001b[A\n",
      " 16%|█▋        | 13/80 [00:00<00:00, 120.40it/s]\u001b[A\n",
      " 32%|███▎      | 26/80 [00:00<00:00, 115.52it/s]\u001b[A\n",
      " 48%|████▊     | 38/80 [00:00<00:00, 111.68it/s]\u001b[A\n",
      " 62%|██████▎   | 50/80 [00:00<00:00, 111.43it/s]\u001b[A\n",
      " 78%|███████▊  | 62/80 [00:00<00:00, 109.96it/s]\u001b[A\n",
      "100%|██████████| 80/80 [00:00<00:00, 111.72it/s]\u001b[A\n",
      " 97%|█████████▋| 1086/1125 [22:57<00:49,  1.28s/it]"
     ]
    },
    {
     "name": "stdout",
     "output_type": "stream",
     "text": [
      "/home/jiang/projects/SubtleGAN/data/brats2021/train/BraTS2021_00260\n"
     ]
    },
    {
     "name": "stderr",
     "output_type": "stream",
     "text": [
      "\n",
      "  0%|          | 0/80 [00:00<?, ?it/s]\u001b[A\n",
      " 15%|█▌        | 12/80 [00:00<00:00, 117.33it/s]\u001b[A\n",
      " 30%|███       | 24/80 [00:00<00:00, 112.46it/s]\u001b[A\n",
      " 45%|████▌     | 36/80 [00:00<00:00, 111.91it/s]\u001b[A\n",
      " 60%|██████    | 48/80 [00:00<00:00, 112.78it/s]\u001b[A\n",
      " 75%|███████▌  | 60/80 [00:00<00:00, 112.15it/s]\u001b[A\n",
      "100%|██████████| 80/80 [00:00<00:00, 112.64it/s]\u001b[A\n",
      " 97%|█████████▋| 1087/1125 [22:58<00:47,  1.25s/it]"
     ]
    },
    {
     "name": "stdout",
     "output_type": "stream",
     "text": [
      "/home/jiang/projects/SubtleGAN/data/brats2021/train/BraTS2021_00572\n"
     ]
    },
    {
     "name": "stderr",
     "output_type": "stream",
     "text": [
      "\n",
      "  0%|          | 0/80 [00:00<?, ?it/s]\u001b[A\n",
      " 20%|██        | 16/80 [00:00<00:00, 158.59it/s]\u001b[A\n",
      " 40%|████      | 32/80 [00:00<00:00, 154.91it/s]\u001b[A\n",
      " 60%|██████    | 48/80 [00:00<00:00, 130.95it/s]\u001b[A\n",
      " 78%|███████▊  | 62/80 [00:00<00:00, 123.13it/s]\u001b[A\n",
      "100%|██████████| 80/80 [00:00<00:00, 125.45it/s]\u001b[A\n",
      " 97%|█████████▋| 1088/1125 [23:00<00:49,  1.33s/it]"
     ]
    },
    {
     "name": "stdout",
     "output_type": "stream",
     "text": [
      "/home/jiang/projects/SubtleGAN/data/brats2021/train/BraTS2021_00281\n"
     ]
    },
    {
     "name": "stderr",
     "output_type": "stream",
     "text": [
      "\n",
      "  0%|          | 0/80 [00:00<?, ?it/s]\u001b[A\n",
      " 15%|█▌        | 12/80 [00:00<00:00, 114.43it/s]\u001b[A\n",
      " 30%|███       | 24/80 [00:00<00:00, 112.38it/s]\u001b[A\n",
      " 45%|████▌     | 36/80 [00:00<00:00, 113.25it/s]\u001b[A\n",
      " 60%|██████    | 48/80 [00:00<00:00, 110.41it/s]\u001b[A\n",
      " 75%|███████▌  | 60/80 [00:00<00:00, 111.01it/s]\u001b[A\n",
      "100%|██████████| 80/80 [00:00<00:00, 110.81it/s]\u001b[A\n",
      " 97%|█████████▋| 1089/1125 [23:01<00:46,  1.29s/it]"
     ]
    },
    {
     "name": "stdout",
     "output_type": "stream",
     "text": [
      "/home/jiang/projects/SubtleGAN/data/brats2021/train/BraTS2021_00184\n"
     ]
    },
    {
     "name": "stderr",
     "output_type": "stream",
     "text": [
      "\n",
      "  0%|          | 0/80 [00:00<?, ?it/s]\u001b[A\n",
      " 15%|█▌        | 12/80 [00:00<00:00, 118.90it/s]\u001b[A\n",
      " 30%|███       | 24/80 [00:00<00:00, 115.00it/s]\u001b[A\n",
      " 45%|████▌     | 36/80 [00:00<00:00, 113.95it/s]\u001b[A\n",
      " 60%|██████    | 48/80 [00:00<00:00, 111.27it/s]\u001b[A\n",
      " 75%|███████▌  | 60/80 [00:00<00:00, 111.74it/s]\u001b[A\n",
      "100%|██████████| 80/80 [00:00<00:00, 110.88it/s]\u001b[A\n",
      " 97%|█████████▋| 1090/1125 [23:02<00:44,  1.26s/it]"
     ]
    },
    {
     "name": "stdout",
     "output_type": "stream",
     "text": [
      "/home/jiang/projects/SubtleGAN/data/brats2021/train/BraTS2021_00406\n"
     ]
    },
    {
     "name": "stderr",
     "output_type": "stream",
     "text": [
      "\n",
      "  0%|          | 0/80 [00:00<?, ?it/s]\u001b[A\n",
      " 16%|█▋        | 13/80 [00:00<00:00, 122.62it/s]\u001b[A\n",
      " 32%|███▎      | 26/80 [00:00<00:00, 116.03it/s]\u001b[A\n",
      " 48%|████▊     | 38/80 [00:00<00:00, 112.86it/s]\u001b[A\n",
      " 62%|██████▎   | 50/80 [00:00<00:00, 113.09it/s]\u001b[A\n",
      " 78%|███████▊  | 62/80 [00:00<00:00, 111.94it/s]\u001b[A\n",
      "100%|██████████| 80/80 [00:00<00:00, 112.54it/s]\u001b[A\n",
      " 97%|█████████▋| 1091/1125 [23:03<00:41,  1.23s/it]"
     ]
    },
    {
     "name": "stdout",
     "output_type": "stream",
     "text": [
      "/home/jiang/projects/SubtleGAN/data/brats2021/train/BraTS2021_01280\n"
     ]
    },
    {
     "name": "stderr",
     "output_type": "stream",
     "text": [
      "\n",
      "  0%|          | 0/80 [00:00<?, ?it/s]\u001b[A\n",
      " 15%|█▌        | 12/80 [00:00<00:00, 117.74it/s]\u001b[A\n",
      " 30%|███       | 24/80 [00:00<00:00, 111.80it/s]\u001b[A\n",
      " 45%|████▌     | 36/80 [00:00<00:00, 111.68it/s]\u001b[A\n",
      " 60%|██████    | 48/80 [00:00<00:00, 112.04it/s]\u001b[A\n",
      " 75%|███████▌  | 60/80 [00:00<00:00, 108.49it/s]\u001b[A\n",
      "100%|██████████| 80/80 [00:00<00:00, 109.70it/s]\u001b[A\n",
      " 97%|█████████▋| 1092/1125 [23:04<00:40,  1.22s/it]"
     ]
    },
    {
     "name": "stdout",
     "output_type": "stream",
     "text": [
      "/home/jiang/projects/SubtleGAN/data/brats2021/train/BraTS2021_01036\n"
     ]
    },
    {
     "name": "stderr",
     "output_type": "stream",
     "text": [
      "\n",
      "  0%|          | 0/80 [00:00<?, ?it/s]\u001b[A\n",
      " 16%|█▋        | 13/80 [00:00<00:00, 119.97it/s]\u001b[A\n",
      " 31%|███▏      | 25/80 [00:00<00:00, 112.54it/s]\u001b[A\n",
      " 46%|████▋     | 37/80 [00:00<00:00, 110.57it/s]\u001b[A\n",
      " 61%|██████▏   | 49/80 [00:00<00:00, 110.92it/s]\u001b[A\n",
      " 76%|███████▋  | 61/80 [00:00<00:00, 109.74it/s]\u001b[A\n",
      "100%|██████████| 80/80 [00:00<00:00, 110.65it/s]\u001b[A\n",
      " 97%|█████████▋| 1093/1125 [23:06<00:38,  1.21s/it]"
     ]
    },
    {
     "name": "stdout",
     "output_type": "stream",
     "text": [
      "/home/jiang/projects/SubtleGAN/data/brats2021/train/BraTS2021_01161\n"
     ]
    },
    {
     "name": "stderr",
     "output_type": "stream",
     "text": [
      "\n",
      "  0%|          | 0/80 [00:00<?, ?it/s]\u001b[A\n",
      " 16%|█▋        | 13/80 [00:00<00:00, 119.09it/s]\u001b[A\n",
      " 31%|███▏      | 25/80 [00:00<00:00, 111.80it/s]\u001b[A\n",
      " 46%|████▋     | 37/80 [00:00<00:00, 111.49it/s]\u001b[A\n",
      " 61%|██████▏   | 49/80 [00:00<00:00, 109.18it/s]\u001b[A\n",
      " 75%|███████▌  | 60/80 [00:00<00:00, 108.38it/s]\u001b[A\n",
      "100%|██████████| 80/80 [00:00<00:00, 109.11it/s]\u001b[A\n",
      " 97%|█████████▋| 1094/1125 [23:07<00:36,  1.18s/it]"
     ]
    },
    {
     "name": "stdout",
     "output_type": "stream",
     "text": [
      "/home/jiang/projects/SubtleGAN/data/brats2021/train/BraTS2021_01215\n"
     ]
    },
    {
     "name": "stderr",
     "output_type": "stream",
     "text": [
      "\n",
      "  0%|          | 0/80 [00:00<?, ?it/s]\u001b[A\n",
      " 15%|█▌        | 12/80 [00:00<00:00, 112.96it/s]\u001b[A\n",
      " 30%|███       | 24/80 [00:00<00:00, 108.91it/s]\u001b[A\n",
      " 44%|████▍     | 35/80 [00:00<00:00, 104.40it/s]\u001b[A\n",
      " 57%|█████▊    | 46/80 [00:00<00:00, 98.18it/s] \u001b[A\n",
      " 70%|███████   | 56/80 [00:00<00:00, 96.16it/s]\u001b[A\n",
      " 84%|████████▍ | 67/80 [00:00<00:00, 99.23it/s]\u001b[A\n",
      "100%|██████████| 80/80 [00:00<00:00, 101.94it/s]\u001b[A\n",
      " 97%|█████████▋| 1095/1125 [23:08<00:36,  1.20s/it]"
     ]
    },
    {
     "name": "stdout",
     "output_type": "stream",
     "text": [
      "/home/jiang/projects/SubtleGAN/data/brats2021/train/BraTS2021_01344\n"
     ]
    },
    {
     "name": "stderr",
     "output_type": "stream",
     "text": [
      "\n",
      "  0%|          | 0/80 [00:00<?, ?it/s]\u001b[A\n",
      " 15%|█▌        | 12/80 [00:00<00:00, 119.33it/s]\u001b[A\n",
      " 30%|███       | 24/80 [00:00<00:00, 114.15it/s]\u001b[A\n",
      " 45%|████▌     | 36/80 [00:00<00:00, 113.23it/s]\u001b[A\n",
      " 60%|██████    | 48/80 [00:00<00:00, 108.95it/s]\u001b[A\n",
      " 74%|███████▍  | 59/80 [00:00<00:00, 98.44it/s] \u001b[A\n",
      " 86%|████████▋ | 69/80 [00:00<00:00, 93.56it/s]\u001b[A\n",
      "100%|██████████| 80/80 [00:00<00:00, 97.80it/s]\u001b[A\n",
      " 97%|█████████▋| 1096/1125 [23:09<00:35,  1.22s/it]"
     ]
    },
    {
     "name": "stdout",
     "output_type": "stream",
     "text": [
      "/home/jiang/projects/SubtleGAN/data/brats2021/train/BraTS2021_01203\n"
     ]
    },
    {
     "name": "stderr",
     "output_type": "stream",
     "text": [
      "\n",
      "  0%|          | 0/80 [00:00<?, ?it/s]\u001b[A\n",
      " 16%|█▋        | 13/80 [00:00<00:00, 124.12it/s]\u001b[A\n",
      " 32%|███▎      | 26/80 [00:00<00:00, 114.75it/s]\u001b[A\n",
      " 48%|████▊     | 38/80 [00:00<00:00, 111.21it/s]\u001b[A\n",
      " 62%|██████▎   | 50/80 [00:00<00:00, 109.21it/s]\u001b[A\n",
      " 78%|███████▊  | 62/80 [00:00<00:00, 109.53it/s]\u001b[A\n",
      "100%|██████████| 80/80 [00:00<00:00, 110.70it/s]\u001b[A\n",
      " 98%|█████████▊| 1097/1125 [23:10<00:33,  1.21s/it]"
     ]
    },
    {
     "name": "stdout",
     "output_type": "stream",
     "text": [
      "/home/jiang/projects/SubtleGAN/data/brats2021/train/BraTS2021_01340\n"
     ]
    },
    {
     "name": "stderr",
     "output_type": "stream",
     "text": [
      "\n",
      "  0%|          | 0/80 [00:00<?, ?it/s]\u001b[A\n",
      " 14%|█▍        | 11/80 [00:00<00:00, 106.33it/s]\u001b[A\n",
      " 28%|██▊       | 22/80 [00:00<00:00, 102.44it/s]\u001b[A\n",
      " 41%|████▏     | 33/80 [00:00<00:00, 102.85it/s]\u001b[A\n",
      " 55%|█████▌    | 44/80 [00:00<00:00, 103.17it/s]\u001b[A\n",
      " 69%|██████▉   | 55/80 [00:00<00:00, 104.58it/s]\u001b[A\n",
      " 82%|████████▎ | 66/80 [00:00<00:00, 105.92it/s]\u001b[A\n",
      "100%|██████████| 80/80 [00:00<00:00, 103.89it/s]\u001b[A\n",
      " 98%|█████████▊| 1098/1125 [23:12<00:32,  1.21s/it]"
     ]
    },
    {
     "name": "stdout",
     "output_type": "stream",
     "text": [
      "/home/jiang/projects/SubtleGAN/data/brats2021/train/BraTS2021_00739\n"
     ]
    },
    {
     "name": "stderr",
     "output_type": "stream",
     "text": [
      "\n",
      "  0%|          | 0/80 [00:00<?, ?it/s]\u001b[A\n",
      " 14%|█▍        | 11/80 [00:00<00:00, 103.68it/s]\u001b[A\n",
      " 28%|██▊       | 22/80 [00:00<00:00, 100.47it/s]\u001b[A\n",
      " 41%|████▏     | 33/80 [00:00<00:00, 98.79it/s] \u001b[A\n",
      " 55%|█████▌    | 44/80 [00:00<00:00, 100.27it/s]\u001b[A\n",
      " 69%|██████▉   | 55/80 [00:00<00:00, 102.08it/s]\u001b[A\n",
      " 82%|████████▎ | 66/80 [00:00<00:00, 103.35it/s]\u001b[A\n",
      "100%|██████████| 80/80 [00:00<00:00, 101.90it/s]\u001b[A\n",
      " 98%|█████████▊| 1099/1125 [23:13<00:31,  1.21s/it]"
     ]
    },
    {
     "name": "stdout",
     "output_type": "stream",
     "text": [
      "/home/jiang/projects/SubtleGAN/data/brats2021/train/BraTS2021_00649\n"
     ]
    },
    {
     "name": "stderr",
     "output_type": "stream",
     "text": [
      "\n",
      "  0%|          | 0/80 [00:00<?, ?it/s]\u001b[A\n",
      " 20%|██        | 16/80 [00:00<00:00, 159.68it/s]\u001b[A\n",
      " 40%|████      | 32/80 [00:00<00:00, 158.17it/s]\u001b[A\n",
      " 60%|██████    | 48/80 [00:00<00:00, 157.34it/s]\u001b[A\n",
      " 80%|████████  | 64/80 [00:00<00:00, 157.03it/s]\u001b[A\n",
      "100%|██████████| 80/80 [00:00<00:00, 150.25it/s]\u001b[A\n",
      " 98%|█████████▊| 1100/1125 [23:14<00:28,  1.13s/it]"
     ]
    },
    {
     "name": "stdout",
     "output_type": "stream",
     "text": [
      "/home/jiang/projects/SubtleGAN/data/brats2021/train/BraTS2021_01139\n"
     ]
    },
    {
     "name": "stderr",
     "output_type": "stream",
     "text": [
      "\n",
      "  0%|          | 0/80 [00:00<?, ?it/s]\u001b[A\n",
      " 20%|██        | 16/80 [00:00<00:00, 157.84it/s]\u001b[A\n",
      " 40%|████      | 32/80 [00:00<00:00, 157.69it/s]\u001b[A\n",
      " 60%|██████    | 48/80 [00:00<00:00, 157.81it/s]\u001b[A\n",
      " 80%|████████  | 64/80 [00:00<00:00, 157.44it/s]\u001b[A\n",
      "100%|██████████| 80/80 [00:00<00:00, 156.79it/s]\u001b[A\n",
      " 98%|█████████▊| 1101/1125 [23:15<00:26,  1.11s/it]"
     ]
    },
    {
     "name": "stdout",
     "output_type": "stream",
     "text": [
      "/home/jiang/projects/SubtleGAN/data/brats2021/train/BraTS2021_00728\n"
     ]
    },
    {
     "name": "stderr",
     "output_type": "stream",
     "text": [
      "\n",
      "  0%|          | 0/80 [00:00<?, ?it/s]\u001b[A\n",
      " 20%|██        | 16/80 [00:00<00:00, 158.81it/s]\u001b[A\n",
      " 40%|████      | 32/80 [00:00<00:00, 158.05it/s]\u001b[A\n",
      " 60%|██████    | 48/80 [00:00<00:00, 157.65it/s]\u001b[A\n",
      " 80%|████████  | 64/80 [00:00<00:00, 157.35it/s]\u001b[A\n",
      "100%|██████████| 80/80 [00:00<00:00, 156.39it/s]\u001b[A\n",
      " 98%|█████████▊| 1102/1125 [23:16<00:24,  1.07s/it]"
     ]
    },
    {
     "name": "stdout",
     "output_type": "stream",
     "text": [
      "/home/jiang/projects/SubtleGAN/data/brats2021/train/BraTS2021_00403\n"
     ]
    },
    {
     "name": "stderr",
     "output_type": "stream",
     "text": [
      "\n",
      "  0%|          | 0/80 [00:00<?, ?it/s]\u001b[A\n",
      " 21%|██▏       | 17/80 [00:00<00:00, 160.19it/s]\u001b[A\n",
      " 42%|████▎     | 34/80 [00:00<00:00, 158.20it/s]\u001b[A\n",
      " 62%|██████▎   | 50/80 [00:00<00:00, 157.68it/s]\u001b[A\n",
      "100%|██████████| 80/80 [00:00<00:00, 157.27it/s]\u001b[A\n",
      " 98%|█████████▊| 1103/1125 [23:17<00:23,  1.06s/it]"
     ]
    },
    {
     "name": "stdout",
     "output_type": "stream",
     "text": [
      "/home/jiang/projects/SubtleGAN/data/brats2021/train/BraTS2021_01096\n"
     ]
    },
    {
     "name": "stderr",
     "output_type": "stream",
     "text": [
      "\n",
      "  0%|          | 0/80 [00:00<?, ?it/s]\u001b[A\n",
      " 20%|██        | 16/80 [00:00<00:00, 159.98it/s]\u001b[A\n",
      " 40%|████      | 32/80 [00:00<00:00, 158.36it/s]\u001b[A\n",
      " 60%|██████    | 48/80 [00:00<00:00, 157.72it/s]\u001b[A\n",
      " 80%|████████  | 64/80 [00:00<00:00, 157.38it/s]\u001b[A\n",
      "100%|██████████| 80/80 [00:00<00:00, 156.75it/s]\u001b[A\n",
      " 98%|█████████▊| 1104/1125 [23:18<00:22,  1.05s/it]"
     ]
    },
    {
     "name": "stdout",
     "output_type": "stream",
     "text": [
      "/home/jiang/projects/SubtleGAN/data/brats2021/train/BraTS2021_01263\n"
     ]
    },
    {
     "name": "stderr",
     "output_type": "stream",
     "text": [
      "\n",
      "  0%|          | 0/80 [00:00<?, ?it/s]\u001b[A\n",
      " 20%|██        | 16/80 [00:00<00:00, 156.90it/s]\u001b[A\n",
      " 40%|████      | 32/80 [00:00<00:00, 156.72it/s]\u001b[A\n",
      " 60%|██████    | 48/80 [00:00<00:00, 157.13it/s]\u001b[A\n",
      " 80%|████████  | 64/80 [00:00<00:00, 157.06it/s]\u001b[A\n",
      "100%|██████████| 80/80 [00:00<00:00, 156.22it/s]\u001b[A\n",
      " 98%|█████████▊| 1105/1125 [23:19<00:20,  1.05s/it]"
     ]
    },
    {
     "name": "stdout",
     "output_type": "stream",
     "text": [
      "/home/jiang/projects/SubtleGAN/data/brats2021/train/BraTS2021_00351\n"
     ]
    },
    {
     "name": "stderr",
     "output_type": "stream",
     "text": [
      "\n",
      "  0%|          | 0/80 [00:00<?, ?it/s]\u001b[A\n",
      " 20%|██        | 16/80 [00:00<00:00, 159.93it/s]\u001b[A\n",
      " 40%|████      | 32/80 [00:00<00:00, 158.49it/s]\u001b[A\n",
      " 60%|██████    | 48/80 [00:00<00:00, 157.86it/s]\u001b[A\n",
      " 80%|████████  | 64/80 [00:00<00:00, 157.70it/s]\u001b[A\n",
      "100%|██████████| 80/80 [00:00<00:00, 156.98it/s]\u001b[A\n",
      " 98%|█████████▊| 1106/1125 [23:20<00:19,  1.05s/it]"
     ]
    },
    {
     "name": "stdout",
     "output_type": "stream",
     "text": [
      "/home/jiang/projects/SubtleGAN/data/brats2021/train/BraTS2021_01648\n"
     ]
    },
    {
     "name": "stderr",
     "output_type": "stream",
     "text": [
      "\n",
      "  0%|          | 0/80 [00:00<?, ?it/s]\u001b[A\n",
      " 20%|██        | 16/80 [00:00<00:00, 159.98it/s]\u001b[A\n",
      " 40%|████      | 32/80 [00:00<00:00, 158.16it/s]\u001b[A\n",
      " 60%|██████    | 48/80 [00:00<00:00, 157.71it/s]\u001b[A\n",
      " 80%|████████  | 64/80 [00:00<00:00, 157.34it/s]\u001b[A\n",
      "100%|██████████| 80/80 [00:00<00:00, 156.69it/s]\u001b[A\n",
      " 98%|█████████▊| 1107/1125 [23:21<00:20,  1.14s/it]"
     ]
    },
    {
     "name": "stdout",
     "output_type": "stream",
     "text": [
      "/home/jiang/projects/SubtleGAN/data/brats2021/train/BraTS2021_01544\n"
     ]
    },
    {
     "name": "stderr",
     "output_type": "stream",
     "text": [
      "\n",
      "  0%|          | 0/80 [00:00<?, ?it/s]\u001b[A\n",
      " 21%|██▏       | 17/80 [00:00<00:00, 160.30it/s]\u001b[A\n",
      " 42%|████▎     | 34/80 [00:00<00:00, 158.46it/s]\u001b[A\n",
      " 62%|██████▎   | 50/80 [00:00<00:00, 157.92it/s]\u001b[A\n",
      "100%|██████████| 80/80 [00:00<00:00, 157.62it/s]\u001b[A\n",
      " 98%|█████████▊| 1108/1125 [23:23<00:20,  1.20s/it]"
     ]
    },
    {
     "name": "stdout",
     "output_type": "stream",
     "text": [
      "/home/jiang/projects/SubtleGAN/data/brats2021/train/BraTS2021_00343\n"
     ]
    },
    {
     "name": "stderr",
     "output_type": "stream",
     "text": [
      "\n",
      "  0%|          | 0/80 [00:00<?, ?it/s]\u001b[A\n",
      " 20%|██        | 16/80 [00:00<00:00, 158.25it/s]\u001b[A\n",
      " 40%|████      | 32/80 [00:00<00:00, 157.09it/s]\u001b[A\n",
      " 60%|██████    | 48/80 [00:00<00:00, 157.25it/s]\u001b[A\n",
      " 80%|████████  | 64/80 [00:00<00:00, 154.29it/s]\u001b[A\n",
      "100%|██████████| 80/80 [00:00<00:00, 153.47it/s]\u001b[A\n",
      " 99%|█████████▊| 1109/1125 [23:24<00:18,  1.15s/it]"
     ]
    },
    {
     "name": "stdout",
     "output_type": "stream",
     "text": [
      "/home/jiang/projects/SubtleGAN/data/brats2021/train/BraTS2021_00802\n"
     ]
    },
    {
     "name": "stderr",
     "output_type": "stream",
     "text": [
      "\n",
      "  0%|          | 0/80 [00:00<?, ?it/s]\u001b[A\n",
      " 21%|██▏       | 17/80 [00:00<00:00, 160.27it/s]\u001b[A\n",
      " 42%|████▎     | 34/80 [00:00<00:00, 158.44it/s]\u001b[A\n",
      " 62%|██████▎   | 50/80 [00:00<00:00, 157.31it/s]\u001b[A\n",
      "100%|██████████| 80/80 [00:00<00:00, 156.05it/s]\u001b[A\n",
      " 99%|█████████▊| 1110/1125 [23:25<00:18,  1.21s/it]"
     ]
    },
    {
     "name": "stdout",
     "output_type": "stream",
     "text": [
      "/home/jiang/projects/SubtleGAN/data/brats2021/train/BraTS2021_00003\n"
     ]
    },
    {
     "name": "stderr",
     "output_type": "stream",
     "text": [
      "\n",
      "  0%|          | 0/80 [00:00<?, ?it/s]\u001b[A\n",
      " 20%|██        | 16/80 [00:00<00:00, 159.82it/s]\u001b[A\n",
      " 40%|████      | 32/80 [00:00<00:00, 158.44it/s]\u001b[A\n",
      " 60%|██████    | 48/80 [00:00<00:00, 154.93it/s]\u001b[A\n",
      " 80%|████████  | 64/80 [00:00<00:00, 153.00it/s]\u001b[A\n",
      "100%|██████████| 80/80 [00:00<00:00, 152.90it/s]\u001b[A\n",
      " 99%|█████████▉| 1111/1125 [23:26<00:15,  1.14s/it]"
     ]
    },
    {
     "name": "stdout",
     "output_type": "stream",
     "text": [
      "/home/jiang/projects/SubtleGAN/data/brats2021/train/BraTS2021_00186\n"
     ]
    },
    {
     "name": "stderr",
     "output_type": "stream",
     "text": [
      "\n",
      "  0%|          | 0/80 [00:00<?, ?it/s]\u001b[A\n",
      " 21%|██▏       | 17/80 [00:00<00:00, 160.21it/s]\u001b[A\n",
      " 42%|████▎     | 34/80 [00:00<00:00, 158.43it/s]\u001b[A\n",
      " 62%|██████▎   | 50/80 [00:00<00:00, 158.00it/s]\u001b[A\n",
      "100%|██████████| 80/80 [00:00<00:00, 146.44it/s]\u001b[A\n",
      " 99%|█████████▉| 1112/1125 [23:27<00:14,  1.12s/it]"
     ]
    },
    {
     "name": "stdout",
     "output_type": "stream",
     "text": [
      "/home/jiang/projects/SubtleGAN/data/brats2021/train/BraTS2021_01165\n"
     ]
    },
    {
     "name": "stderr",
     "output_type": "stream",
     "text": [
      "\n",
      "  0%|          | 0/80 [00:00<?, ?it/s]\u001b[A\n",
      " 21%|██▏       | 17/80 [00:00<00:00, 160.53it/s]\u001b[A\n",
      " 42%|████▎     | 34/80 [00:00<00:00, 158.53it/s]\u001b[A\n",
      " 62%|██████▎   | 50/80 [00:00<00:00, 157.94it/s]\u001b[A\n",
      "100%|██████████| 80/80 [00:00<00:00, 157.72it/s]\u001b[A\n",
      " 99%|█████████▉| 1113/1125 [23:28<00:13,  1.11s/it]"
     ]
    },
    {
     "name": "stdout",
     "output_type": "stream",
     "text": [
      "/home/jiang/projects/SubtleGAN/data/brats2021/train/BraTS2021_01577\n"
     ]
    },
    {
     "name": "stderr",
     "output_type": "stream",
     "text": [
      "\n",
      "  0%|          | 0/80 [00:00<?, ?it/s]\u001b[A\n",
      " 21%|██▏       | 17/80 [00:00<00:00, 160.84it/s]\u001b[A\n",
      " 42%|████▎     | 34/80 [00:00<00:00, 159.30it/s]\u001b[A\n",
      " 62%|██████▎   | 50/80 [00:00<00:00, 154.80it/s]\u001b[A\n",
      "100%|██████████| 80/80 [00:00<00:00, 153.36it/s]\u001b[A\n",
      " 99%|█████████▉| 1114/1125 [23:30<00:12,  1.17s/it]"
     ]
    },
    {
     "name": "stdout",
     "output_type": "stream",
     "text": [
      "/home/jiang/projects/SubtleGAN/data/brats2021/train/BraTS2021_00353\n"
     ]
    },
    {
     "name": "stderr",
     "output_type": "stream",
     "text": [
      "\n",
      "  0%|          | 0/80 [00:00<?, ?it/s]\u001b[A\n",
      " 20%|██        | 16/80 [00:00<00:00, 153.28it/s]\u001b[A\n",
      " 40%|████      | 32/80 [00:00<00:00, 150.77it/s]\u001b[A\n",
      " 60%|██████    | 48/80 [00:00<00:00, 150.05it/s]\u001b[A\n",
      " 80%|████████  | 64/80 [00:00<00:00, 149.99it/s]\u001b[A\n",
      "100%|██████████| 80/80 [00:00<00:00, 149.45it/s]\u001b[A\n",
      " 99%|█████████▉| 1115/1125 [23:31<00:11,  1.14s/it]"
     ]
    },
    {
     "name": "stdout",
     "output_type": "stream",
     "text": [
      "/home/jiang/projects/SubtleGAN/data/brats2021/train/BraTS2021_01245\n"
     ]
    },
    {
     "name": "stderr",
     "output_type": "stream",
     "text": [
      "\n",
      "  0%|          | 0/80 [00:00<?, ?it/s]\u001b[A\n",
      " 20%|██        | 16/80 [00:00<00:00, 152.58it/s]\u001b[A\n",
      " 40%|████      | 32/80 [00:00<00:00, 151.39it/s]\u001b[A\n",
      " 60%|██████    | 48/80 [00:00<00:00, 151.06it/s]\u001b[A\n",
      " 80%|████████  | 64/80 [00:00<00:00, 150.91it/s]\u001b[A\n",
      "100%|██████████| 80/80 [00:00<00:00, 150.45it/s]\u001b[A\n",
      " 99%|█████████▉| 1116/1125 [23:32<00:10,  1.11s/it]"
     ]
    },
    {
     "name": "stdout",
     "output_type": "stream",
     "text": [
      "/home/jiang/projects/SubtleGAN/data/brats2021/train/BraTS2021_00118\n"
     ]
    },
    {
     "name": "stderr",
     "output_type": "stream",
     "text": [
      "\n",
      "  0%|          | 0/80 [00:00<?, ?it/s]\u001b[A\n",
      " 20%|██        | 16/80 [00:00<00:00, 150.46it/s]\u001b[A\n",
      " 40%|████      | 32/80 [00:00<00:00, 150.13it/s]\u001b[A\n",
      " 60%|██████    | 48/80 [00:00<00:00, 151.90it/s]\u001b[A\n",
      " 80%|████████  | 64/80 [00:00<00:00, 150.63it/s]\u001b[A\n",
      "100%|██████████| 80/80 [00:00<00:00, 149.54it/s]\u001b[A\n",
      " 99%|█████████▉| 1117/1125 [23:33<00:08,  1.08s/it]"
     ]
    },
    {
     "name": "stdout",
     "output_type": "stream",
     "text": [
      "/home/jiang/projects/SubtleGAN/data/brats2021/train/BraTS2021_00668\n"
     ]
    },
    {
     "name": "stderr",
     "output_type": "stream",
     "text": [
      "\n",
      "  0%|          | 0/80 [00:00<?, ?it/s]\u001b[A\n",
      " 20%|██        | 16/80 [00:00<00:00, 151.76it/s]\u001b[A\n",
      " 40%|████      | 32/80 [00:00<00:00, 153.00it/s]\u001b[A\n",
      " 60%|██████    | 48/80 [00:00<00:00, 151.47it/s]\u001b[A\n",
      " 80%|████████  | 64/80 [00:00<00:00, 150.92it/s]\u001b[A\n",
      "100%|██████████| 80/80 [00:00<00:00, 150.16it/s]\u001b[A\n",
      " 99%|█████████▉| 1118/1125 [23:34<00:07,  1.05s/it]"
     ]
    },
    {
     "name": "stdout",
     "output_type": "stream",
     "text": [
      "/home/jiang/projects/SubtleGAN/data/brats2021/train/BraTS2021_00568\n"
     ]
    },
    {
     "name": "stderr",
     "output_type": "stream",
     "text": [
      "\n",
      "  0%|          | 0/80 [00:00<?, ?it/s]\u001b[A\n",
      " 20%|██        | 16/80 [00:00<00:00, 154.48it/s]\u001b[A\n",
      " 40%|████      | 32/80 [00:00<00:00, 151.11it/s]\u001b[A\n",
      " 60%|██████    | 48/80 [00:00<00:00, 150.39it/s]\u001b[A\n",
      " 80%|████████  | 64/80 [00:00<00:00, 150.01it/s]\u001b[A\n",
      "100%|██████████| 80/80 [00:00<00:00, 149.76it/s]\u001b[A\n",
      " 99%|█████████▉| 1119/1125 [23:35<00:06,  1.16s/it]"
     ]
    },
    {
     "name": "stdout",
     "output_type": "stream",
     "text": [
      "/home/jiang/projects/SubtleGAN/data/brats2021/train/BraTS2021_00529\n"
     ]
    },
    {
     "name": "stderr",
     "output_type": "stream",
     "text": [
      "\n",
      "  0%|          | 0/80 [00:00<?, ?it/s]\u001b[A\n",
      " 20%|██        | 16/80 [00:00<00:00, 152.31it/s]\u001b[A\n",
      " 40%|████      | 32/80 [00:00<00:00, 151.15it/s]\u001b[A\n",
      " 60%|██████    | 48/80 [00:00<00:00, 150.41it/s]\u001b[A\n",
      " 80%|████████  | 64/80 [00:00<00:00, 150.05it/s]\u001b[A\n",
      "100%|██████████| 80/80 [00:00<00:00, 149.54it/s]\u001b[A\n",
      "100%|█████████▉| 1120/1125 [23:36<00:05,  1.11s/it]"
     ]
    },
    {
     "name": "stdout",
     "output_type": "stream",
     "text": [
      "/home/jiang/projects/SubtleGAN/data/brats2021/train/BraTS2021_00468\n"
     ]
    },
    {
     "name": "stderr",
     "output_type": "stream",
     "text": [
      "\n",
      "  0%|          | 0/80 [00:00<?, ?it/s]\u001b[A\n",
      " 20%|██        | 16/80 [00:00<00:00, 152.70it/s]\u001b[A\n",
      " 40%|████      | 32/80 [00:00<00:00, 150.64it/s]\u001b[A\n",
      " 60%|██████    | 48/80 [00:00<00:00, 150.32it/s]\u001b[A\n",
      " 80%|████████  | 64/80 [00:00<00:00, 149.90it/s]\u001b[A\n",
      "100%|██████████| 80/80 [00:00<00:00, 149.22it/s]\u001b[A\n",
      "100%|█████████▉| 1121/1125 [23:37<00:04,  1.07s/it]"
     ]
    },
    {
     "name": "stdout",
     "output_type": "stream",
     "text": [
      "/home/jiang/projects/SubtleGAN/data/brats2021/train/BraTS2021_00430\n"
     ]
    },
    {
     "name": "stderr",
     "output_type": "stream",
     "text": [
      "\n",
      "  0%|          | 0/80 [00:00<?, ?it/s]\u001b[A\n",
      " 20%|██        | 16/80 [00:00<00:00, 158.41it/s]\u001b[A\n",
      " 40%|████      | 32/80 [00:00<00:00, 157.43it/s]\u001b[A\n",
      " 60%|██████    | 48/80 [00:00<00:00, 156.92it/s]\u001b[A\n",
      " 80%|████████  | 64/80 [00:00<00:00, 157.05it/s]\u001b[A\n",
      "100%|██████████| 80/80 [00:00<00:00, 156.35it/s]\u001b[A\n",
      "100%|█████████▉| 1122/1125 [23:38<00:03,  1.09s/it]"
     ]
    },
    {
     "name": "stdout",
     "output_type": "stream",
     "text": [
      "/home/jiang/projects/SubtleGAN/data/brats2021/train/BraTS2021_00512\n"
     ]
    },
    {
     "name": "stderr",
     "output_type": "stream",
     "text": [
      "\n",
      "  0%|          | 0/80 [00:00<?, ?it/s]\u001b[A\n",
      " 21%|██▏       | 17/80 [00:00<00:00, 160.15it/s]\u001b[A\n",
      " 42%|████▎     | 34/80 [00:00<00:00, 158.35it/s]\u001b[A\n",
      " 62%|██████▎   | 50/80 [00:00<00:00, 157.79it/s]\u001b[A\n",
      "100%|██████████| 80/80 [00:00<00:00, 157.33it/s]\u001b[A\n",
      "100%|█████████▉| 1123/1125 [23:39<00:02,  1.04s/it]"
     ]
    },
    {
     "name": "stdout",
     "output_type": "stream",
     "text": [
      "/home/jiang/projects/SubtleGAN/data/brats2021/train/BraTS2021_00442\n"
     ]
    },
    {
     "name": "stderr",
     "output_type": "stream",
     "text": [
      "\n",
      "  0%|          | 0/80 [00:00<?, ?it/s]\u001b[A\n",
      " 20%|██        | 16/80 [00:00<00:00, 158.34it/s]\u001b[A\n",
      " 40%|████      | 32/80 [00:00<00:00, 157.64it/s]\u001b[A\n",
      " 60%|██████    | 48/80 [00:00<00:00, 157.31it/s]\u001b[A\n",
      " 80%|████████  | 64/80 [00:00<00:00, 154.10it/s]\u001b[A\n",
      "100%|██████████| 80/80 [00:00<00:00, 153.85it/s]\u001b[A\n",
      "100%|█████████▉| 1124/1125 [23:40<00:01,  1.04s/it]"
     ]
    },
    {
     "name": "stdout",
     "output_type": "stream",
     "text": [
      "/home/jiang/projects/SubtleGAN/data/brats2021/train/BraTS2021_00591\n"
     ]
    },
    {
     "name": "stderr",
     "output_type": "stream",
     "text": [
      "\n",
      "  0%|          | 0/80 [00:00<?, ?it/s]\u001b[A\n",
      " 21%|██▏       | 17/80 [00:00<00:00, 160.97it/s]\u001b[A\n",
      " 42%|████▎     | 34/80 [00:00<00:00, 158.73it/s]\u001b[A\n",
      " 62%|██████▎   | 50/80 [00:00<00:00, 158.24it/s]\u001b[A\n",
      "100%|██████████| 80/80 [00:00<00:00, 156.64it/s]\u001b[A\n",
      "100%|██████████| 1125/1125 [23:42<00:00,  1.26s/it]\n",
      "  0%|          | 0/1 [00:00<?, ?it/s]"
     ]
    },
    {
     "name": "stdout",
     "output_type": "stream",
     "text": [
      "/home/jiang/projects/SubtleGAN/data/brats2021/test/BraTS2021_00621\n"
     ]
    },
    {
     "name": "stderr",
     "output_type": "stream",
     "text": [
      "\n",
      "  0%|          | 0/80 [00:00<?, ?it/s]\u001b[A\n",
      " 20%|██        | 16/80 [00:00<00:00, 153.63it/s]\u001b[A\n",
      " 40%|████      | 32/80 [00:00<00:00, 151.77it/s]\u001b[A\n",
      " 60%|██████    | 48/80 [00:00<00:00, 151.42it/s]\u001b[A\n",
      " 80%|████████  | 64/80 [00:00<00:00, 151.29it/s]\u001b[A\n",
      "100%|██████████| 80/80 [00:00<00:00, 150.83it/s]\u001b[A\n",
      "100%|██████████| 1/1 [00:00<00:00,  1.07it/s]\n",
      "  0%|          | 0/125 [00:00<?, ?it/s]"
     ]
    },
    {
     "name": "stdout",
     "output_type": "stream",
     "text": [
      "/home/jiang/projects/SubtleGAN/data/brats2021/val/BraTS2021_00339\n"
     ]
    },
    {
     "name": "stderr",
     "output_type": "stream",
     "text": [
      "\n",
      "  0%|          | 0/80 [00:00<?, ?it/s]\u001b[A\n",
      " 19%|█▉        | 15/80 [00:00<00:00, 144.07it/s]\u001b[A\n",
      " 39%|███▉      | 31/80 [00:00<00:00, 151.52it/s]\u001b[A\n",
      " 59%|█████▉    | 47/80 [00:00<00:00, 154.11it/s]\u001b[A\n",
      " 79%|███████▉  | 63/80 [00:00<00:00, 155.26it/s]\u001b[A\n",
      "100%|██████████| 80/80 [00:00<00:00, 152.89it/s]\u001b[A\n",
      "  1%|          | 1/125 [00:01<02:13,  1.08s/it]"
     ]
    },
    {
     "name": "stdout",
     "output_type": "stream",
     "text": [
      "/home/jiang/projects/SubtleGAN/data/brats2021/val/BraTS2021_01357\n"
     ]
    },
    {
     "name": "stderr",
     "output_type": "stream",
     "text": [
      "\n",
      "  0%|          | 0/80 [00:00<?, ?it/s]\u001b[A\n",
      " 20%|██        | 16/80 [00:00<00:00, 154.02it/s]\u001b[A\n",
      " 40%|████      | 32/80 [00:00<00:00, 152.37it/s]\u001b[A\n",
      " 60%|██████    | 48/80 [00:00<00:00, 151.85it/s]\u001b[A\n",
      " 80%|████████  | 64/80 [00:00<00:00, 151.42it/s]\u001b[A\n",
      "100%|██████████| 80/80 [00:00<00:00, 150.63it/s]\u001b[A\n",
      "  2%|▏         | 2/125 [00:02<02:11,  1.07s/it]"
     ]
    },
    {
     "name": "stdout",
     "output_type": "stream",
     "text": [
      "/home/jiang/projects/SubtleGAN/data/brats2021/val/BraTS2021_01568\n"
     ]
    },
    {
     "name": "stderr",
     "output_type": "stream",
     "text": [
      "\n",
      "  0%|          | 0/80 [00:00<?, ?it/s]\u001b[A\n",
      " 20%|██        | 16/80 [00:00<00:00, 159.60it/s]\u001b[A\n",
      " 40%|████      | 32/80 [00:00<00:00, 153.88it/s]\u001b[A\n",
      " 60%|██████    | 48/80 [00:00<00:00, 152.16it/s]\u001b[A\n",
      " 80%|████████  | 64/80 [00:00<00:00, 151.45it/s]\u001b[A\n",
      "100%|██████████| 80/80 [00:00<00:00, 150.90it/s]\u001b[A\n",
      "  2%|▏         | 3/125 [00:03<02:28,  1.22s/it]"
     ]
    },
    {
     "name": "stdout",
     "output_type": "stream",
     "text": [
      "/home/jiang/projects/SubtleGAN/data/brats2021/val/BraTS2021_00212\n"
     ]
    },
    {
     "name": "stderr",
     "output_type": "stream",
     "text": [
      "\n",
      "  0%|          | 0/80 [00:00<?, ?it/s]\u001b[A\n",
      " 20%|██        | 16/80 [00:00<00:00, 152.77it/s]\u001b[A\n",
      " 40%|████      | 32/80 [00:00<00:00, 151.29it/s]\u001b[A\n",
      " 60%|██████    | 48/80 [00:00<00:00, 150.97it/s]\u001b[A\n",
      " 80%|████████  | 64/80 [00:00<00:00, 150.93it/s]\u001b[A\n",
      "100%|██████████| 80/80 [00:00<00:00, 150.11it/s]\u001b[A\n",
      "  3%|▎         | 4/125 [00:04<02:20,  1.16s/it]"
     ]
    },
    {
     "name": "stdout",
     "output_type": "stream",
     "text": [
      "/home/jiang/projects/SubtleGAN/data/brats2021/val/BraTS2021_00636\n"
     ]
    },
    {
     "name": "stderr",
     "output_type": "stream",
     "text": [
      "\n",
      "  0%|          | 0/80 [00:00<?, ?it/s]\u001b[A\n",
      "  9%|▉         | 7/80 [00:00<00:01, 65.77it/s]\u001b[A\n",
      " 24%|██▍       | 19/80 [00:00<00:00, 94.49it/s]\u001b[A\n",
      " 42%|████▎     | 34/80 [00:00<00:00, 118.78it/s]\u001b[A\n",
      " 61%|██████▏   | 49/80 [00:00<00:00, 130.78it/s]\u001b[A\n",
      " 80%|████████  | 64/80 [00:00<00:00, 137.10it/s]\u001b[A\n",
      "100%|██████████| 80/80 [00:00<00:00, 128.52it/s]\u001b[A\n",
      "  4%|▍         | 5/125 [00:05<02:14,  1.12s/it]"
     ]
    },
    {
     "name": "stdout",
     "output_type": "stream",
     "text": [
      "/home/jiang/projects/SubtleGAN/data/brats2021/val/BraTS2021_01550\n"
     ]
    },
    {
     "name": "stderr",
     "output_type": "stream",
     "text": [
      "\n",
      "  0%|          | 0/80 [00:00<?, ?it/s]\u001b[A\n",
      " 20%|██        | 16/80 [00:00<00:00, 152.03it/s]\u001b[A\n",
      " 40%|████      | 32/80 [00:00<00:00, 150.73it/s]\u001b[A\n",
      " 60%|██████    | 48/80 [00:00<00:00, 150.27it/s]\u001b[A\n",
      " 80%|████████  | 64/80 [00:00<00:00, 150.07it/s]\u001b[A\n",
      "100%|██████████| 80/80 [00:00<00:00, 149.39it/s]\u001b[A\n",
      "  5%|▍         | 6/125 [00:07<02:22,  1.20s/it]"
     ]
    },
    {
     "name": "stdout",
     "output_type": "stream",
     "text": [
      "/home/jiang/projects/SubtleGAN/data/brats2021/val/BraTS2021_01372\n"
     ]
    },
    {
     "name": "stderr",
     "output_type": "stream",
     "text": [
      "\n",
      "  0%|          | 0/80 [00:00<?, ?it/s]\u001b[A\n",
      " 20%|██        | 16/80 [00:00<00:00, 152.40it/s]\u001b[A\n",
      " 40%|████      | 32/80 [00:00<00:00, 151.19it/s]\u001b[A\n",
      " 60%|██████    | 48/80 [00:00<00:00, 150.77it/s]\u001b[A\n",
      " 80%|████████  | 64/80 [00:00<00:00, 150.16it/s]\u001b[A\n",
      "100%|██████████| 80/80 [00:00<00:00, 149.81it/s]\u001b[A\n",
      "  6%|▌         | 7/125 [00:08<02:16,  1.16s/it]"
     ]
    },
    {
     "name": "stdout",
     "output_type": "stream",
     "text": [
      "/home/jiang/projects/SubtleGAN/data/brats2021/val/BraTS2021_01147\n"
     ]
    },
    {
     "name": "stderr",
     "output_type": "stream",
     "text": [
      "\n",
      "  0%|          | 0/80 [00:00<?, ?it/s]\u001b[A\n",
      " 20%|██        | 16/80 [00:00<00:00, 150.68it/s]\u001b[A\n",
      " 40%|████      | 32/80 [00:00<00:00, 150.16it/s]\u001b[A\n",
      " 60%|██████    | 48/80 [00:00<00:00, 150.27it/s]\u001b[A\n",
      " 80%|████████  | 64/80 [00:00<00:00, 150.35it/s]\u001b[A\n",
      "100%|██████████| 80/80 [00:00<00:00, 149.68it/s]\u001b[A\n",
      "  6%|▋         | 8/125 [00:09<02:11,  1.13s/it]"
     ]
    },
    {
     "name": "stdout",
     "output_type": "stream",
     "text": [
      "/home/jiang/projects/SubtleGAN/data/brats2021/val/BraTS2021_00663\n"
     ]
    },
    {
     "name": "stderr",
     "output_type": "stream",
     "text": [
      "\n",
      "  0%|          | 0/80 [00:00<?, ?it/s]\u001b[A\n",
      " 20%|██        | 16/80 [00:00<00:00, 151.35it/s]\u001b[A\n",
      " 40%|████      | 32/80 [00:00<00:00, 150.61it/s]\u001b[A\n",
      " 60%|██████    | 48/80 [00:00<00:00, 150.65it/s]\u001b[A\n",
      " 80%|████████  | 64/80 [00:00<00:00, 151.14it/s]\u001b[A\n",
      "100%|██████████| 80/80 [00:00<00:00, 150.54it/s]\u001b[A\n",
      "  7%|▋         | 9/125 [00:10<02:05,  1.08s/it]"
     ]
    },
    {
     "name": "stdout",
     "output_type": "stream",
     "text": [
      "/home/jiang/projects/SubtleGAN/data/brats2021/val/BraTS2021_01315\n"
     ]
    },
    {
     "name": "stderr",
     "output_type": "stream",
     "text": [
      "\n",
      "  0%|          | 0/80 [00:00<?, ?it/s]\u001b[A\n",
      " 20%|██        | 16/80 [00:00<00:00, 150.48it/s]\u001b[A\n",
      " 40%|████      | 32/80 [00:00<00:00, 150.60it/s]\u001b[A\n",
      " 60%|██████    | 48/80 [00:00<00:00, 150.67it/s]\u001b[A\n",
      " 80%|████████  | 64/80 [00:00<00:00, 150.35it/s]\u001b[A\n",
      "100%|██████████| 80/80 [00:00<00:00, 150.28it/s]\u001b[A\n",
      "  8%|▊         | 10/125 [00:11<02:04,  1.08s/it]"
     ]
    },
    {
     "name": "stdout",
     "output_type": "stream",
     "text": [
      "/home/jiang/projects/SubtleGAN/data/brats2021/val/BraTS2021_00837\n"
     ]
    },
    {
     "name": "stderr",
     "output_type": "stream",
     "text": [
      "\n",
      "  0%|          | 0/80 [00:00<?, ?it/s]\u001b[A\n",
      " 21%|██▏       | 17/80 [00:00<00:00, 160.66it/s]\u001b[A\n",
      " 42%|████▎     | 34/80 [00:00<00:00, 159.06it/s]\u001b[A\n",
      " 62%|██████▎   | 50/80 [00:00<00:00, 158.37it/s]\u001b[A\n",
      "100%|██████████| 80/80 [00:00<00:00, 158.30it/s]\u001b[A\n",
      "  9%|▉         | 11/125 [00:12<02:01,  1.06s/it]"
     ]
    },
    {
     "name": "stdout",
     "output_type": "stream",
     "text": [
      "/home/jiang/projects/SubtleGAN/data/brats2021/val/BraTS2021_01483\n"
     ]
    },
    {
     "name": "stderr",
     "output_type": "stream",
     "text": [
      "\n",
      "  0%|          | 0/80 [00:00<?, ?it/s]\u001b[A\n",
      " 21%|██▏       | 17/80 [00:00<00:00, 160.70it/s]\u001b[A\n",
      " 42%|████▎     | 34/80 [00:00<00:00, 159.71it/s]\u001b[A\n",
      " 62%|██████▎   | 50/80 [00:00<00:00, 158.71it/s]\u001b[A\n",
      "100%|██████████| 80/80 [00:00<00:00, 158.45it/s]\u001b[A\n",
      " 10%|▉         | 12/125 [00:13<01:58,  1.05s/it]"
     ]
    },
    {
     "name": "stdout",
     "output_type": "stream",
     "text": [
      "/home/jiang/projects/SubtleGAN/data/brats2021/val/BraTS2021_01334\n"
     ]
    },
    {
     "name": "stderr",
     "output_type": "stream",
     "text": [
      "\n",
      "  0%|          | 0/80 [00:00<?, ?it/s]\u001b[A\n",
      " 20%|██        | 16/80 [00:00<00:00, 158.43it/s]\u001b[A\n",
      " 40%|████      | 32/80 [00:00<00:00, 157.42it/s]\u001b[A\n",
      " 60%|██████    | 48/80 [00:00<00:00, 157.69it/s]\u001b[A\n",
      " 80%|████████  | 64/80 [00:00<00:00, 157.64it/s]\u001b[A\n",
      "100%|██████████| 80/80 [00:00<00:00, 156.86it/s]\u001b[A\n",
      " 10%|█         | 13/125 [00:14<01:56,  1.04s/it]"
     ]
    },
    {
     "name": "stdout",
     "output_type": "stream",
     "text": [
      "/home/jiang/projects/SubtleGAN/data/brats2021/val/BraTS2021_00498\n"
     ]
    },
    {
     "name": "stderr",
     "output_type": "stream",
     "text": [
      "\n",
      "  0%|          | 0/80 [00:00<?, ?it/s]\u001b[A\n",
      " 20%|██        | 16/80 [00:00<00:00, 151.36it/s]\u001b[A\n",
      " 40%|████      | 32/80 [00:00<00:00, 150.93it/s]\u001b[A\n",
      " 60%|██████    | 48/80 [00:00<00:00, 150.62it/s]\u001b[A\n",
      " 80%|████████  | 64/80 [00:00<00:00, 150.47it/s]\u001b[A\n",
      "100%|██████████| 80/80 [00:00<00:00, 149.84it/s]\u001b[A\n",
      " 11%|█         | 14/125 [00:15<01:53,  1.02s/it]"
     ]
    },
    {
     "name": "stdout",
     "output_type": "stream",
     "text": [
      "/home/jiang/projects/SubtleGAN/data/brats2021/val/BraTS2021_00218\n"
     ]
    },
    {
     "name": "stderr",
     "output_type": "stream",
     "text": [
      "\n",
      "  0%|          | 0/80 [00:00<?, ?it/s]\u001b[A\n",
      " 20%|██        | 16/80 [00:00<00:00, 150.46it/s]\u001b[A\n",
      " 40%|████      | 32/80 [00:00<00:00, 150.42it/s]\u001b[A\n",
      " 60%|██████    | 48/80 [00:00<00:00, 150.10it/s]\u001b[A\n",
      " 80%|████████  | 64/80 [00:00<00:00, 150.02it/s]\u001b[A\n",
      "100%|██████████| 80/80 [00:00<00:00, 149.30it/s]\u001b[A\n",
      " 12%|█▏        | 15/125 [00:16<01:54,  1.04s/it]"
     ]
    },
    {
     "name": "stdout",
     "output_type": "stream",
     "text": [
      "/home/jiang/projects/SubtleGAN/data/brats2021/val/BraTS2021_00667\n"
     ]
    },
    {
     "name": "stderr",
     "output_type": "stream",
     "text": [
      "\n",
      "  0%|          | 0/80 [00:00<?, ?it/s]\u001b[A\n",
      " 20%|██        | 16/80 [00:00<00:00, 152.81it/s]\u001b[A\n",
      " 40%|████      | 32/80 [00:00<00:00, 151.40it/s]\u001b[A\n",
      " 60%|██████    | 48/80 [00:00<00:00, 152.39it/s]\u001b[A\n",
      " 80%|████████  | 64/80 [00:00<00:00, 152.18it/s]\u001b[A\n",
      "100%|██████████| 80/80 [00:00<00:00, 150.78it/s]\u001b[A\n",
      " 13%|█▎        | 16/125 [00:17<01:51,  1.02s/it]"
     ]
    },
    {
     "name": "stdout",
     "output_type": "stream",
     "text": [
      "/home/jiang/projects/SubtleGAN/data/brats2021/val/BraTS2021_01649\n"
     ]
    },
    {
     "name": "stderr",
     "output_type": "stream",
     "text": [
      "\n",
      "  0%|          | 0/80 [00:00<?, ?it/s]\u001b[A\n",
      " 20%|██        | 16/80 [00:00<00:00, 152.86it/s]\u001b[A\n",
      " 40%|████      | 32/80 [00:00<00:00, 151.17it/s]\u001b[A\n",
      " 60%|██████    | 48/80 [00:00<00:00, 150.57it/s]\u001b[A\n",
      " 80%|████████  | 64/80 [00:00<00:00, 150.18it/s]\u001b[A\n",
      "100%|██████████| 80/80 [00:00<00:00, 149.93it/s]\u001b[A\n",
      " 14%|█▎        | 17/125 [00:18<02:02,  1.13s/it]"
     ]
    },
    {
     "name": "stdout",
     "output_type": "stream",
     "text": [
      "/home/jiang/projects/SubtleGAN/data/brats2021/val/BraTS2021_00177\n"
     ]
    },
    {
     "name": "stderr",
     "output_type": "stream",
     "text": [
      "\n",
      "  0%|          | 0/80 [00:00<?, ?it/s]\u001b[A\n",
      " 20%|██        | 16/80 [00:00<00:00, 150.47it/s]\u001b[A\n",
      " 40%|████      | 32/80 [00:00<00:00, 151.43it/s]\u001b[A\n",
      " 60%|██████    | 48/80 [00:00<00:00, 150.30it/s]\u001b[A\n",
      " 80%|████████  | 64/80 [00:00<00:00, 150.17it/s]\u001b[A\n",
      "100%|██████████| 80/80 [00:00<00:00, 149.50it/s]\u001b[A\n",
      " 14%|█▍        | 18/125 [00:19<01:59,  1.11s/it]"
     ]
    },
    {
     "name": "stdout",
     "output_type": "stream",
     "text": [
      "/home/jiang/projects/SubtleGAN/data/brats2021/val/BraTS2021_01517\n"
     ]
    },
    {
     "name": "stderr",
     "output_type": "stream",
     "text": [
      "\n",
      "  0%|          | 0/80 [00:00<?, ?it/s]\u001b[A\n",
      " 20%|██        | 16/80 [00:00<00:00, 152.80it/s]\u001b[A\n",
      " 40%|████      | 32/80 [00:00<00:00, 150.66it/s]\u001b[A\n",
      " 60%|██████    | 48/80 [00:00<00:00, 150.22it/s]\u001b[A\n",
      " 80%|████████  | 64/80 [00:00<00:00, 150.02it/s]\u001b[A\n",
      "100%|██████████| 80/80 [00:00<00:00, 149.50it/s]\u001b[A\n",
      " 15%|█▌        | 19/125 [00:20<01:56,  1.10s/it]"
     ]
    },
    {
     "name": "stdout",
     "output_type": "stream",
     "text": [
      "/home/jiang/projects/SubtleGAN/data/brats2021/val/BraTS2021_00002\n"
     ]
    },
    {
     "name": "stderr",
     "output_type": "stream",
     "text": [
      "\n",
      "  0%|          | 0/80 [00:00<?, ?it/s]\u001b[A\n",
      " 20%|██        | 16/80 [00:00<00:00, 152.57it/s]\u001b[A\n",
      " 40%|████      | 32/80 [00:00<00:00, 150.41it/s]\u001b[A\n",
      " 60%|██████    | 48/80 [00:00<00:00, 149.98it/s]\u001b[A\n",
      " 79%|███████▉  | 63/80 [00:00<00:00, 146.55it/s]\u001b[A\n",
      "100%|██████████| 80/80 [00:00<00:00, 147.95it/s]\u001b[A\n",
      " 16%|█▌        | 20/125 [00:21<01:52,  1.07s/it]"
     ]
    },
    {
     "name": "stdout",
     "output_type": "stream",
     "text": [
      "/home/jiang/projects/SubtleGAN/data/brats2021/val/BraTS2021_00056\n"
     ]
    },
    {
     "name": "stderr",
     "output_type": "stream",
     "text": [
      "\n",
      "  0%|          | 0/80 [00:00<?, ?it/s]\u001b[A\n",
      " 20%|██        | 16/80 [00:00<00:00, 152.41it/s]\u001b[A\n",
      " 40%|████      | 32/80 [00:00<00:00, 150.28it/s]\u001b[A\n",
      " 60%|██████    | 48/80 [00:00<00:00, 152.35it/s]\u001b[A\n",
      " 80%|████████  | 64/80 [00:00<00:00, 151.14it/s]\u001b[A\n",
      "100%|██████████| 80/80 [00:00<00:00, 150.22it/s]\u001b[A\n",
      " 17%|█▋        | 21/125 [00:22<01:47,  1.04s/it]"
     ]
    },
    {
     "name": "stdout",
     "output_type": "stream",
     "text": [
      "/home/jiang/projects/SubtleGAN/data/brats2021/val/BraTS2021_00045\n"
     ]
    },
    {
     "name": "stderr",
     "output_type": "stream",
     "text": [
      "\n",
      "  0%|          | 0/80 [00:00<?, ?it/s]\u001b[A\n",
      " 19%|█▉        | 15/80 [00:00<00:00, 147.74it/s]\u001b[A\n",
      " 38%|███▊      | 30/80 [00:00<00:00, 148.68it/s]\u001b[A\n",
      " 56%|█████▋    | 45/80 [00:00<00:00, 149.16it/s]\u001b[A\n",
      " 75%|███████▌  | 60/80 [00:00<00:00, 149.24it/s]\u001b[A\n",
      "100%|██████████| 80/80 [00:00<00:00, 148.60it/s]\u001b[A\n",
      " 18%|█▊        | 22/125 [00:23<01:45,  1.03s/it]"
     ]
    },
    {
     "name": "stdout",
     "output_type": "stream",
     "text": [
      "/home/jiang/projects/SubtleGAN/data/brats2021/val/BraTS2021_01542\n"
     ]
    },
    {
     "name": "stderr",
     "output_type": "stream",
     "text": [
      "\n",
      "  0%|          | 0/80 [00:00<?, ?it/s]\u001b[A\n",
      " 18%|█▊        | 14/80 [00:00<00:00, 139.58it/s]\u001b[A\n",
      " 36%|███▋      | 29/80 [00:00<00:00, 145.16it/s]\u001b[A\n",
      " 55%|█████▌    | 44/80 [00:00<00:00, 147.06it/s]\u001b[A\n",
      " 74%|███████▍  | 59/80 [00:00<00:00, 147.81it/s]\u001b[A\n",
      "100%|██████████| 80/80 [00:00<00:00, 146.65it/s]\u001b[A\n",
      " 18%|█▊        | 23/125 [00:25<01:55,  1.13s/it]"
     ]
    },
    {
     "name": "stdout",
     "output_type": "stream",
     "text": [
      "/home/jiang/projects/SubtleGAN/data/brats2021/val/BraTS2021_00117\n"
     ]
    },
    {
     "name": "stderr",
     "output_type": "stream",
     "text": [
      "\n",
      "  0%|          | 0/80 [00:00<?, ?it/s]\u001b[A\n",
      " 20%|██        | 16/80 [00:00<00:00, 151.57it/s]\u001b[A\n",
      " 40%|████      | 32/80 [00:00<00:00, 150.37it/s]\u001b[A\n",
      " 60%|██████    | 48/80 [00:00<00:00, 149.99it/s]\u001b[A\n",
      " 79%|███████▉  | 63/80 [00:00<00:00, 149.87it/s]\u001b[A\n",
      "100%|██████████| 80/80 [00:00<00:00, 149.90it/s]\u001b[A\n",
      " 19%|█▉        | 24/125 [00:26<01:52,  1.11s/it]"
     ]
    },
    {
     "name": "stdout",
     "output_type": "stream",
     "text": [
      "/home/jiang/projects/SubtleGAN/data/brats2021/val/BraTS2021_01346\n"
     ]
    },
    {
     "name": "stderr",
     "output_type": "stream",
     "text": [
      "\n",
      "  0%|          | 0/80 [00:00<?, ?it/s]\u001b[A\n",
      " 20%|██        | 16/80 [00:00<00:00, 151.72it/s]\u001b[A\n",
      " 40%|████      | 32/80 [00:00<00:00, 150.12it/s]\u001b[A\n",
      " 60%|██████    | 48/80 [00:00<00:00, 149.64it/s]\u001b[A\n",
      " 79%|███████▉  | 63/80 [00:00<00:00, 149.38it/s]\u001b[A\n",
      "100%|██████████| 80/80 [00:00<00:00, 148.81it/s]\u001b[A\n",
      " 20%|██        | 25/125 [00:27<01:49,  1.10s/it]"
     ]
    },
    {
     "name": "stdout",
     "output_type": "stream",
     "text": [
      "/home/jiang/projects/SubtleGAN/data/brats2021/val/BraTS2021_01645\n"
     ]
    },
    {
     "name": "stderr",
     "output_type": "stream",
     "text": [
      "\n",
      "  0%|          | 0/80 [00:00<?, ?it/s]\u001b[A\n",
      " 20%|██        | 16/80 [00:00<00:00, 152.85it/s]\u001b[A\n",
      " 40%|████      | 32/80 [00:00<00:00, 150.83it/s]\u001b[A\n",
      " 60%|██████    | 48/80 [00:00<00:00, 150.08it/s]\u001b[A\n",
      " 80%|████████  | 64/80 [00:00<00:00, 150.84it/s]\u001b[A\n",
      "100%|██████████| 80/80 [00:00<00:00, 149.67it/s]\u001b[A\n",
      " 21%|██        | 26/125 [00:28<01:57,  1.19s/it]"
     ]
    },
    {
     "name": "stdout",
     "output_type": "stream",
     "text": [
      "/home/jiang/projects/SubtleGAN/data/brats2021/val/BraTS2021_00204\n"
     ]
    },
    {
     "name": "stderr",
     "output_type": "stream",
     "text": [
      "\n",
      "  0%|          | 0/80 [00:00<?, ?it/s]\u001b[A\n",
      " 20%|██        | 16/80 [00:00<00:00, 152.31it/s]\u001b[A\n",
      " 40%|████      | 32/80 [00:00<00:00, 150.95it/s]\u001b[A\n",
      " 60%|██████    | 48/80 [00:00<00:00, 150.32it/s]\u001b[A\n",
      " 80%|████████  | 64/80 [00:00<00:00, 149.83it/s]\u001b[A\n",
      "100%|██████████| 80/80 [00:00<00:00, 149.27it/s]\u001b[A\n",
      " 22%|██▏       | 27/125 [00:29<01:52,  1.14s/it]"
     ]
    },
    {
     "name": "stdout",
     "output_type": "stream",
     "text": [
      "/home/jiang/projects/SubtleGAN/data/brats2021/val/BraTS2021_01330\n"
     ]
    },
    {
     "name": "stderr",
     "output_type": "stream",
     "text": [
      "\n",
      "  0%|          | 0/80 [00:00<?, ?it/s]\u001b[A\n",
      " 20%|██        | 16/80 [00:00<00:00, 152.28it/s]\u001b[A\n",
      " 40%|████      | 32/80 [00:00<00:00, 150.45it/s]\u001b[A\n",
      " 60%|██████    | 48/80 [00:00<00:00, 150.18it/s]\u001b[A\n",
      " 80%|████████  | 64/80 [00:00<00:00, 150.21it/s]\u001b[A\n",
      "100%|██████████| 80/80 [00:00<00:00, 149.67it/s]\u001b[A\n",
      " 22%|██▏       | 28/125 [00:30<01:48,  1.11s/it]"
     ]
    },
    {
     "name": "stdout",
     "output_type": "stream",
     "text": [
      "/home/jiang/projects/SubtleGAN/data/brats2021/val/BraTS2021_00211\n"
     ]
    },
    {
     "name": "stderr",
     "output_type": "stream",
     "text": [
      "\n",
      "  0%|          | 0/80 [00:00<?, ?it/s]\u001b[A\n",
      " 20%|██        | 16/80 [00:00<00:00, 152.11it/s]\u001b[A\n",
      " 40%|████      | 32/80 [00:00<00:00, 150.36it/s]\u001b[A\n",
      " 60%|██████    | 48/80 [00:00<00:00, 149.86it/s]\u001b[A\n",
      " 80%|████████  | 64/80 [00:00<00:00, 150.50it/s]\u001b[A\n",
      "100%|██████████| 80/80 [00:00<00:00, 150.50it/s]\u001b[A\n",
      " 23%|██▎       | 29/125 [00:31<01:45,  1.10s/it]"
     ]
    },
    {
     "name": "stdout",
     "output_type": "stream",
     "text": [
      "/home/jiang/projects/SubtleGAN/data/brats2021/val/BraTS2021_00658\n"
     ]
    },
    {
     "name": "stderr",
     "output_type": "stream",
     "text": [
      "\n",
      "  0%|          | 0/80 [00:00<?, ?it/s]\u001b[A\n",
      " 20%|██        | 16/80 [00:00<00:00, 154.38it/s]\u001b[A\n",
      " 40%|████      | 32/80 [00:00<00:00, 152.45it/s]\u001b[A\n",
      " 60%|██████    | 48/80 [00:00<00:00, 151.10it/s]\u001b[A\n",
      " 80%|████████  | 64/80 [00:00<00:00, 150.56it/s]\u001b[A\n",
      "100%|██████████| 80/80 [00:00<00:00, 149.99it/s]\u001b[A\n",
      " 24%|██▍       | 30/125 [00:32<01:41,  1.07s/it]"
     ]
    },
    {
     "name": "stdout",
     "output_type": "stream",
     "text": [
      "/home/jiang/projects/SubtleGAN/data/brats2021/val/BraTS2021_00646\n"
     ]
    },
    {
     "name": "stderr",
     "output_type": "stream",
     "text": [
      "\n",
      "  0%|          | 0/80 [00:00<?, ?it/s]\u001b[A\n",
      " 20%|██        | 16/80 [00:00<00:00, 157.32it/s]\u001b[A\n",
      " 40%|████      | 32/80 [00:00<00:00, 153.49it/s]\u001b[A\n",
      " 60%|██████    | 48/80 [00:00<00:00, 151.54it/s]\u001b[A\n",
      " 80%|████████  | 64/80 [00:00<00:00, 150.63it/s]\u001b[A\n",
      "100%|██████████| 80/80 [00:00<00:00, 150.37it/s]\u001b[A\n",
      " 25%|██▍       | 31/125 [00:33<01:38,  1.04s/it]"
     ]
    },
    {
     "name": "stdout",
     "output_type": "stream",
     "text": [
      "/home/jiang/projects/SubtleGAN/data/brats2021/val/BraTS2021_01059\n"
     ]
    },
    {
     "name": "stderr",
     "output_type": "stream",
     "text": [
      "\n",
      "  0%|          | 0/80 [00:00<?, ?it/s]\u001b[A\n",
      " 21%|██▏       | 17/80 [00:00<00:00, 160.31it/s]\u001b[A\n",
      " 42%|████▎     | 34/80 [00:00<00:00, 158.12it/s]\u001b[A\n",
      " 62%|██████▎   | 50/80 [00:00<00:00, 154.51it/s]\u001b[A\n",
      "100%|██████████| 80/80 [00:00<00:00, 153.70it/s]\u001b[A\n",
      " 26%|██▌       | 32/125 [00:34<01:38,  1.06s/it]"
     ]
    },
    {
     "name": "stdout",
     "output_type": "stream",
     "text": [
      "/home/jiang/projects/SubtleGAN/data/brats2021/val/BraTS2021_01158\n"
     ]
    },
    {
     "name": "stderr",
     "output_type": "stream",
     "text": [
      "\n",
      "  0%|          | 0/80 [00:00<?, ?it/s]\u001b[A\n",
      " 20%|██        | 16/80 [00:00<00:00, 157.52it/s]\u001b[A\n",
      " 40%|████      | 32/80 [00:00<00:00, 109.65it/s]\u001b[A\n",
      " 60%|██████    | 48/80 [00:00<00:00, 127.32it/s]\u001b[A\n",
      " 80%|████████  | 64/80 [00:00<00:00, 137.59it/s]\u001b[A\n",
      "100%|██████████| 80/80 [00:00<00:00, 136.41it/s]\u001b[A\n",
      " 26%|██▋       | 33/125 [00:35<01:36,  1.05s/it]"
     ]
    },
    {
     "name": "stdout",
     "output_type": "stream",
     "text": [
      "/home/jiang/projects/SubtleGAN/data/brats2021/val/BraTS2021_01664\n"
     ]
    },
    {
     "name": "stderr",
     "output_type": "stream",
     "text": [
      "\n",
      "  0%|          | 0/80 [00:00<?, ?it/s]\u001b[A\n",
      " 20%|██        | 16/80 [00:00<00:00, 158.80it/s]\u001b[A\n",
      " 40%|████      | 32/80 [00:00<00:00, 157.99it/s]\u001b[A\n",
      " 60%|██████    | 48/80 [00:00<00:00, 157.90it/s]\u001b[A\n",
      " 80%|████████  | 64/80 [00:00<00:00, 157.52it/s]\u001b[A\n",
      "100%|██████████| 80/80 [00:00<00:00, 156.71it/s]\u001b[A\n",
      " 27%|██▋       | 34/125 [00:36<01:35,  1.05s/it]"
     ]
    },
    {
     "name": "stdout",
     "output_type": "stream",
     "text": [
      "/home/jiang/projects/SubtleGAN/data/brats2021/val/BraTS2021_00196\n"
     ]
    },
    {
     "name": "stderr",
     "output_type": "stream",
     "text": [
      "\n",
      "  0%|          | 0/80 [00:00<?, ?it/s]\u001b[A\n",
      " 20%|██        | 16/80 [00:00<00:00, 159.82it/s]\u001b[A\n",
      " 40%|████      | 32/80 [00:00<00:00, 158.14it/s]\u001b[A\n",
      " 60%|██████    | 48/80 [00:00<00:00, 157.68it/s]\u001b[A\n",
      " 80%|████████  | 64/80 [00:00<00:00, 157.51it/s]\u001b[A\n",
      "100%|██████████| 80/80 [00:00<00:00, 156.66it/s]\u001b[A\n",
      " 28%|██▊       | 35/125 [00:38<01:34,  1.05s/it]"
     ]
    },
    {
     "name": "stdout",
     "output_type": "stream",
     "text": [
      "/home/jiang/projects/SubtleGAN/data/brats2021/val/BraTS2021_01504\n"
     ]
    },
    {
     "name": "stderr",
     "output_type": "stream",
     "text": [
      "\n",
      "  0%|          | 0/80 [00:00<?, ?it/s]\u001b[A\n",
      " 21%|██▏       | 17/80 [00:00<00:00, 160.29it/s]\u001b[A\n",
      " 42%|████▎     | 34/80 [00:00<00:00, 157.99it/s]\u001b[A\n",
      " 62%|██████▎   | 50/80 [00:00<00:00, 157.59it/s]\u001b[A\n",
      "100%|██████████| 80/80 [00:00<00:00, 157.46it/s]\u001b[A\n",
      " 29%|██▉       | 36/125 [00:39<01:32,  1.04s/it]"
     ]
    },
    {
     "name": "stdout",
     "output_type": "stream",
     "text": [
      "/home/jiang/projects/SubtleGAN/data/brats2021/val/BraTS2021_01525\n"
     ]
    },
    {
     "name": "stderr",
     "output_type": "stream",
     "text": [
      "\n",
      "  0%|          | 0/80 [00:00<?, ?it/s]\u001b[A\n",
      " 21%|██▏       | 17/80 [00:00<00:00, 160.56it/s]\u001b[A\n",
      " 42%|████▎     | 34/80 [00:00<00:00, 158.54it/s]\u001b[A\n",
      " 62%|██████▎   | 50/80 [00:00<00:00, 157.63it/s]\u001b[A\n",
      "100%|██████████| 80/80 [00:00<00:00, 157.69it/s]\u001b[A\n",
      " 30%|██▉       | 37/125 [00:40<01:31,  1.04s/it]"
     ]
    },
    {
     "name": "stdout",
     "output_type": "stream",
     "text": [
      "/home/jiang/projects/SubtleGAN/data/brats2021/val/BraTS2021_01407\n"
     ]
    },
    {
     "name": "stderr",
     "output_type": "stream",
     "text": [
      "\n",
      "  0%|          | 0/80 [00:00<?, ?it/s]\u001b[A\n",
      " 20%|██        | 16/80 [00:00<00:00, 157.44it/s]\u001b[A\n",
      " 40%|████      | 32/80 [00:00<00:00, 157.31it/s]\u001b[A\n",
      " 60%|██████    | 48/80 [00:00<00:00, 157.05it/s]\u001b[A\n",
      " 80%|████████  | 64/80 [00:00<00:00, 157.13it/s]\u001b[A\n",
      "100%|██████████| 80/80 [00:00<00:00, 156.48it/s]\u001b[A\n",
      " 30%|███       | 38/125 [00:41<01:30,  1.04s/it]"
     ]
    },
    {
     "name": "stdout",
     "output_type": "stream",
     "text": [
      "/home/jiang/projects/SubtleGAN/data/brats2021/val/BraTS2021_01226\n"
     ]
    },
    {
     "name": "stderr",
     "output_type": "stream",
     "text": [
      "\n",
      "  0%|          | 0/80 [00:00<?, ?it/s]\u001b[A\n",
      " 21%|██▏       | 17/80 [00:00<00:00, 160.39it/s]\u001b[A\n",
      " 42%|████▎     | 34/80 [00:00<00:00, 158.47it/s]\u001b[A\n",
      " 62%|██████▎   | 50/80 [00:00<00:00, 157.63it/s]\u001b[A\n",
      "100%|██████████| 80/80 [00:00<00:00, 157.32it/s]\u001b[A\n",
      " 31%|███       | 39/125 [00:42<01:29,  1.04s/it]"
     ]
    },
    {
     "name": "stdout",
     "output_type": "stream",
     "text": [
      "/home/jiang/projects/SubtleGAN/data/brats2021/val/BraTS2021_00236\n"
     ]
    },
    {
     "name": "stderr",
     "output_type": "stream",
     "text": [
      "\n",
      "  0%|          | 0/80 [00:00<?, ?it/s]\u001b[A\n",
      " 20%|██        | 16/80 [00:00<00:00, 157.70it/s]\u001b[A\n",
      " 40%|████      | 32/80 [00:00<00:00, 157.08it/s]\u001b[A\n",
      " 60%|██████    | 48/80 [00:00<00:00, 157.27it/s]\u001b[A\n",
      " 80%|████████  | 64/80 [00:00<00:00, 157.29it/s]\u001b[A\n",
      "100%|██████████| 80/80 [00:00<00:00, 156.51it/s]\u001b[A\n",
      " 32%|███▏      | 40/125 [00:43<01:28,  1.04s/it]"
     ]
    },
    {
     "name": "stdout",
     "output_type": "stream",
     "text": [
      "/home/jiang/projects/SubtleGAN/data/brats2021/val/BraTS2021_00555\n"
     ]
    },
    {
     "name": "stderr",
     "output_type": "stream",
     "text": [
      "\n",
      "  0%|          | 0/80 [00:00<?, ?it/s]\u001b[A\n",
      " 20%|██        | 16/80 [00:00<00:00, 151.89it/s]\u001b[A\n",
      " 40%|████      | 32/80 [00:00<00:00, 155.00it/s]\u001b[A\n",
      " 60%|██████    | 48/80 [00:00<00:00, 155.82it/s]\u001b[A\n",
      " 80%|████████  | 64/80 [00:00<00:00, 156.21it/s]\u001b[A\n",
      "100%|██████████| 80/80 [00:00<00:00, 155.19it/s]\u001b[A\n",
      " 33%|███▎      | 41/125 [00:44<01:25,  1.01s/it]"
     ]
    },
    {
     "name": "stdout",
     "output_type": "stream",
     "text": [
      "/home/jiang/projects/SubtleGAN/data/brats2021/val/BraTS2021_01502\n"
     ]
    },
    {
     "name": "stderr",
     "output_type": "stream",
     "text": [
      "\n",
      "  0%|          | 0/80 [00:00<?, ?it/s]\u001b[A\n",
      " 21%|██▏       | 17/80 [00:00<00:00, 160.43it/s]\u001b[A\n",
      " 42%|████▎     | 34/80 [00:00<00:00, 158.42it/s]\u001b[A\n",
      " 62%|██████▎   | 50/80 [00:00<00:00, 157.81it/s]\u001b[A\n",
      "100%|██████████| 80/80 [00:00<00:00, 157.51it/s]\u001b[A\n",
      " 34%|███▎      | 42/125 [00:45<01:24,  1.02s/it]"
     ]
    },
    {
     "name": "stdout",
     "output_type": "stream",
     "text": [
      "/home/jiang/projects/SubtleGAN/data/brats2021/val/BraTS2021_00999\n"
     ]
    },
    {
     "name": "stderr",
     "output_type": "stream",
     "text": [
      "\n",
      "  0%|          | 0/80 [00:00<?, ?it/s]\u001b[A\n",
      " 20%|██        | 16/80 [00:00<00:00, 153.39it/s]\u001b[A\n",
      " 40%|████      | 32/80 [00:00<00:00, 151.66it/s]\u001b[A\n",
      " 60%|██████    | 48/80 [00:00<00:00, 150.84it/s]\u001b[A\n",
      " 80%|████████  | 64/80 [00:00<00:00, 150.47it/s]\u001b[A\n",
      "100%|██████████| 80/80 [00:00<00:00, 149.69it/s]\u001b[A\n",
      " 34%|███▍      | 43/125 [00:46<01:24,  1.03s/it]"
     ]
    },
    {
     "name": "stdout",
     "output_type": "stream",
     "text": [
      "/home/jiang/projects/SubtleGAN/data/brats2021/val/BraTS2021_00819\n"
     ]
    },
    {
     "name": "stderr",
     "output_type": "stream",
     "text": [
      "\n",
      "  0%|          | 0/80 [00:00<?, ?it/s]\u001b[A\n",
      " 20%|██        | 16/80 [00:00<00:00, 159.74it/s]\u001b[A\n",
      " 40%|████      | 32/80 [00:00<00:00, 157.89it/s]\u001b[A\n",
      " 60%|██████    | 48/80 [00:00<00:00, 157.28it/s]\u001b[A\n",
      " 80%|████████  | 64/80 [00:00<00:00, 157.48it/s]\u001b[A\n",
      "100%|██████████| 80/80 [00:00<00:00, 156.43it/s]\u001b[A\n",
      " 35%|███▌      | 44/125 [00:47<01:32,  1.14s/it]"
     ]
    },
    {
     "name": "stdout",
     "output_type": "stream",
     "text": [
      "/home/jiang/projects/SubtleGAN/data/brats2021/val/BraTS2021_00706\n"
     ]
    },
    {
     "name": "stderr",
     "output_type": "stream",
     "text": [
      "\n",
      "  0%|          | 0/80 [00:00<?, ?it/s]\u001b[A\n",
      " 20%|██        | 16/80 [00:00<00:00, 159.80it/s]\u001b[A\n",
      " 40%|████      | 32/80 [00:00<00:00, 158.63it/s]\u001b[A\n",
      " 60%|██████    | 48/80 [00:00<00:00, 158.19it/s]\u001b[A\n",
      " 80%|████████  | 64/80 [00:00<00:00, 158.05it/s]\u001b[A\n",
      "100%|██████████| 80/80 [00:00<00:00, 157.37it/s]\u001b[A\n",
      " 36%|███▌      | 45/125 [00:48<01:26,  1.09s/it]"
     ]
    },
    {
     "name": "stdout",
     "output_type": "stream",
     "text": [
      "/home/jiang/projects/SubtleGAN/data/brats2021/val/BraTS2021_00507\n"
     ]
    },
    {
     "name": "stderr",
     "output_type": "stream",
     "text": [
      "\n",
      "  0%|          | 0/80 [00:00<?, ?it/s]\u001b[A\n",
      " 20%|██        | 16/80 [00:00<00:00, 159.82it/s]\u001b[A\n",
      " 40%|████      | 32/80 [00:00<00:00, 157.80it/s]\u001b[A\n",
      " 60%|██████    | 48/80 [00:00<00:00, 157.09it/s]\u001b[A\n",
      " 80%|████████  | 64/80 [00:00<00:00, 156.96it/s]\u001b[A\n",
      "100%|██████████| 80/80 [00:00<00:00, 156.28it/s]\u001b[A\n",
      " 37%|███▋      | 46/125 [00:49<01:22,  1.05s/it]"
     ]
    },
    {
     "name": "stdout",
     "output_type": "stream",
     "text": [
      "/home/jiang/projects/SubtleGAN/data/brats2021/val/BraTS2021_00768\n"
     ]
    },
    {
     "name": "stderr",
     "output_type": "stream",
     "text": [
      "\n",
      "  0%|          | 0/80 [00:00<?, ?it/s]\u001b[A\n",
      " 21%|██▏       | 17/80 [00:00<00:00, 160.15it/s]\u001b[A\n",
      " 42%|████▎     | 34/80 [00:00<00:00, 158.71it/s]\u001b[A\n",
      " 62%|██████▎   | 50/80 [00:00<00:00, 154.70it/s]\u001b[A\n",
      "100%|██████████| 80/80 [00:00<00:00, 152.30it/s]\u001b[A\n",
      " 38%|███▊      | 47/125 [00:50<01:19,  1.02s/it]"
     ]
    },
    {
     "name": "stdout",
     "output_type": "stream",
     "text": [
      "/home/jiang/projects/SubtleGAN/data/brats2021/val/BraTS2021_01083\n"
     ]
    },
    {
     "name": "stderr",
     "output_type": "stream",
     "text": [
      "\n",
      "  0%|          | 0/80 [00:00<?, ?it/s]\u001b[A\n",
      " 20%|██        | 16/80 [00:00<00:00, 159.62it/s]\u001b[A\n",
      " 40%|████      | 32/80 [00:00<00:00, 158.38it/s]\u001b[A\n",
      " 60%|██████    | 48/80 [00:00<00:00, 157.99it/s]\u001b[A\n",
      " 80%|████████  | 64/80 [00:00<00:00, 157.55it/s]\u001b[A\n",
      "100%|██████████| 80/80 [00:00<00:00, 155.20it/s]\u001b[A\n",
      " 38%|███▊      | 48/125 [00:51<01:21,  1.05s/it]"
     ]
    },
    {
     "name": "stdout",
     "output_type": "stream",
     "text": [
      "/home/jiang/projects/SubtleGAN/data/brats2021/val/BraTS2021_01389\n"
     ]
    },
    {
     "name": "stderr",
     "output_type": "stream",
     "text": [
      "\n",
      "  0%|          | 0/80 [00:00<?, ?it/s]\u001b[A\n",
      " 20%|██        | 16/80 [00:00<00:00, 152.97it/s]\u001b[A\n",
      " 40%|████      | 32/80 [00:00<00:00, 150.45it/s]\u001b[A\n",
      " 60%|██████    | 48/80 [00:00<00:00, 153.31it/s]\u001b[A\n",
      " 80%|████████  | 64/80 [00:00<00:00, 152.15it/s]\u001b[A\n",
      "100%|██████████| 80/80 [00:00<00:00, 150.94it/s]\u001b[A\n",
      " 39%|███▉      | 49/125 [00:52<01:20,  1.06s/it]"
     ]
    },
    {
     "name": "stdout",
     "output_type": "stream",
     "text": [
      "/home/jiang/projects/SubtleGAN/data/brats2021/val/BraTS2021_00590\n"
     ]
    },
    {
     "name": "stderr",
     "output_type": "stream",
     "text": [
      "\n",
      "  0%|          | 0/80 [00:00<?, ?it/s]\u001b[A\n",
      " 21%|██▏       | 17/80 [00:00<00:00, 160.46it/s]\u001b[A\n",
      " 42%|████▎     | 34/80 [00:00<00:00, 152.72it/s]\u001b[A\n",
      " 62%|██████▎   | 50/80 [00:00<00:00, 153.53it/s]\u001b[A\n",
      "100%|██████████| 80/80 [00:00<00:00, 154.50it/s]\u001b[A\n",
      " 40%|████      | 50/125 [00:54<01:26,  1.15s/it]"
     ]
    },
    {
     "name": "stdout",
     "output_type": "stream",
     "text": [
      "/home/jiang/projects/SubtleGAN/data/brats2021/val/BraTS2021_01069\n"
     ]
    },
    {
     "name": "stderr",
     "output_type": "stream",
     "text": [
      "\n",
      "  0%|          | 0/80 [00:00<?, ?it/s]\u001b[A\n",
      " 20%|██        | 16/80 [00:00<00:00, 153.26it/s]\u001b[A\n",
      " 40%|████      | 32/80 [00:00<00:00, 151.90it/s]\u001b[A\n",
      " 60%|██████    | 48/80 [00:00<00:00, 154.26it/s]\u001b[A\n",
      " 80%|████████  | 64/80 [00:00<00:00, 155.56it/s]\u001b[A\n",
      "100%|██████████| 80/80 [00:00<00:00, 154.58it/s]\u001b[A\n",
      " 41%|████      | 51/125 [00:55<01:22,  1.11s/it]"
     ]
    },
    {
     "name": "stdout",
     "output_type": "stream",
     "text": [
      "/home/jiang/projects/SubtleGAN/data/brats2021/val/BraTS2021_01592\n"
     ]
    },
    {
     "name": "stderr",
     "output_type": "stream",
     "text": [
      "\n",
      "  0%|          | 0/80 [00:00<?, ?it/s]\u001b[A\n",
      " 20%|██        | 16/80 [00:00<00:00, 159.82it/s]\u001b[A\n",
      " 40%|████      | 32/80 [00:00<00:00, 153.94it/s]\u001b[A\n",
      " 60%|██████    | 48/80 [00:00<00:00, 154.33it/s]\u001b[A\n",
      " 80%|████████  | 64/80 [00:00<00:00, 155.75it/s]\u001b[A\n",
      "100%|██████████| 80/80 [00:00<00:00, 153.66it/s]\u001b[A\n",
      " 42%|████▏     | 52/125 [00:56<01:26,  1.19s/it]"
     ]
    },
    {
     "name": "stdout",
     "output_type": "stream",
     "text": [
      "/home/jiang/projects/SubtleGAN/data/brats2021/val/BraTS2021_01491\n"
     ]
    },
    {
     "name": "stderr",
     "output_type": "stream",
     "text": [
      "\n",
      "  0%|          | 0/80 [00:00<?, ?it/s]\u001b[A\n",
      " 20%|██        | 16/80 [00:00<00:00, 159.86it/s]\u001b[A\n",
      " 40%|████      | 32/80 [00:00<00:00, 153.93it/s]\u001b[A\n",
      " 60%|██████    | 48/80 [00:00<00:00, 152.34it/s]\u001b[A\n",
      " 80%|████████  | 64/80 [00:00<00:00, 151.44it/s]\u001b[A\n",
      "100%|██████████| 80/80 [00:00<00:00, 151.49it/s]\u001b[A\n",
      " 42%|████▏     | 53/125 [00:57<01:22,  1.14s/it]"
     ]
    },
    {
     "name": "stdout",
     "output_type": "stream",
     "text": [
      "/home/jiang/projects/SubtleGAN/data/brats2021/val/BraTS2021_00588\n"
     ]
    },
    {
     "name": "stderr",
     "output_type": "stream",
     "text": [
      "\n",
      "  0%|          | 0/80 [00:00<?, ?it/s]\u001b[A\n",
      " 20%|██        | 16/80 [00:00<00:00, 153.03it/s]\u001b[A\n",
      " 40%|████      | 32/80 [00:00<00:00, 149.57it/s]\u001b[A\n",
      " 60%|██████    | 48/80 [00:00<00:00, 150.02it/s]\u001b[A\n",
      " 80%|████████  | 64/80 [00:00<00:00, 150.37it/s]\u001b[A\n",
      "100%|██████████| 80/80 [00:00<00:00, 149.82it/s]\u001b[A\n",
      " 43%|████▎     | 54/125 [00:58<01:26,  1.22s/it]"
     ]
    },
    {
     "name": "stdout",
     "output_type": "stream",
     "text": [
      "/home/jiang/projects/SubtleGAN/data/brats2021/val/BraTS2021_01114\n"
     ]
    },
    {
     "name": "stderr",
     "output_type": "stream",
     "text": [
      "\n",
      "  0%|          | 0/80 [00:00<?, ?it/s]\u001b[A\n",
      " 20%|██        | 16/80 [00:00<00:00, 153.75it/s]\u001b[A\n",
      " 40%|████      | 32/80 [00:00<00:00, 151.43it/s]\u001b[A\n",
      " 60%|██████    | 48/80 [00:00<00:00, 151.07it/s]\u001b[A\n",
      " 80%|████████  | 64/80 [00:00<00:00, 150.85it/s]\u001b[A\n",
      "100%|██████████| 80/80 [00:00<00:00, 150.34it/s]\u001b[A\n",
      " 44%|████▍     | 55/125 [00:59<01:21,  1.17s/it]"
     ]
    },
    {
     "name": "stdout",
     "output_type": "stream",
     "text": [
      "/home/jiang/projects/SubtleGAN/data/brats2021/val/BraTS2021_00259\n"
     ]
    },
    {
     "name": "stderr",
     "output_type": "stream",
     "text": [
      "\n",
      "  0%|          | 0/80 [00:00<?, ?it/s]\u001b[A\n",
      " 20%|██        | 16/80 [00:00<00:00, 152.54it/s]\u001b[A\n",
      " 40%|████      | 32/80 [00:00<00:00, 154.95it/s]\u001b[A\n",
      " 60%|██████    | 48/80 [00:00<00:00, 155.68it/s]\u001b[A\n",
      " 80%|████████  | 64/80 [00:00<00:00, 156.49it/s]\u001b[A\n",
      "100%|██████████| 80/80 [00:00<00:00, 155.35it/s]\u001b[A\n",
      " 45%|████▍     | 56/125 [01:01<01:18,  1.14s/it]"
     ]
    },
    {
     "name": "stdout",
     "output_type": "stream",
     "text": [
      "/home/jiang/projects/SubtleGAN/data/brats2021/val/BraTS2021_01077\n"
     ]
    },
    {
     "name": "stderr",
     "output_type": "stream",
     "text": [
      "\n",
      "  0%|          | 0/80 [00:00<?, ?it/s]\u001b[A\n",
      " 20%|██        | 16/80 [00:00<00:00, 152.29it/s]\u001b[A\n",
      " 40%|████      | 32/80 [00:00<00:00, 138.26it/s]\u001b[A\n",
      " 60%|██████    | 48/80 [00:00<00:00, 146.15it/s]\u001b[A\n",
      " 80%|████████  | 64/80 [00:00<00:00, 150.50it/s]\u001b[A\n",
      "100%|██████████| 80/80 [00:00<00:00, 149.34it/s]\u001b[A\n",
      " 46%|████▌     | 57/125 [01:02<01:15,  1.12s/it]"
     ]
    },
    {
     "name": "stdout",
     "output_type": "stream",
     "text": [
      "/home/jiang/projects/SubtleGAN/data/brats2021/val/BraTS2021_00239\n"
     ]
    },
    {
     "name": "stderr",
     "output_type": "stream",
     "text": [
      "\n",
      "  0%|          | 0/80 [00:00<?, ?it/s]\u001b[A\n",
      " 21%|██▏       | 17/80 [00:00<00:00, 160.51it/s]\u001b[A\n",
      " 42%|████▎     | 34/80 [00:00<00:00, 158.98it/s]\u001b[A\n",
      " 62%|██████▎   | 50/80 [00:00<00:00, 158.40it/s]\u001b[A\n",
      "100%|██████████| 80/80 [00:00<00:00, 157.99it/s]\u001b[A\n",
      " 46%|████▋     | 58/125 [01:03<01:13,  1.10s/it]"
     ]
    },
    {
     "name": "stdout",
     "output_type": "stream",
     "text": [
      "/home/jiang/projects/SubtleGAN/data/brats2021/val/BraTS2021_00539\n"
     ]
    },
    {
     "name": "stderr",
     "output_type": "stream",
     "text": [
      "\n",
      "  0%|          | 0/80 [00:00<?, ?it/s]\u001b[A\n",
      " 21%|██▏       | 17/80 [00:00<00:00, 160.42it/s]\u001b[A\n",
      " 42%|████▎     | 34/80 [00:00<00:00, 156.18it/s]\u001b[A\n",
      " 62%|██████▎   | 50/80 [00:00<00:00, 157.00it/s]\u001b[A\n",
      "100%|██████████| 80/80 [00:00<00:00, 157.28it/s]\u001b[A\n",
      " 47%|████▋     | 59/125 [01:04<01:09,  1.05s/it]"
     ]
    },
    {
     "name": "stdout",
     "output_type": "stream",
     "text": [
      "/home/jiang/projects/SubtleGAN/data/brats2021/val/BraTS2021_01442\n"
     ]
    },
    {
     "name": "stderr",
     "output_type": "stream",
     "text": [
      "\n",
      "  0%|          | 0/80 [00:00<?, ?it/s]\u001b[A\n",
      " 21%|██▏       | 17/80 [00:00<00:00, 160.31it/s]\u001b[A\n",
      " 42%|████▎     | 34/80 [00:00<00:00, 154.04it/s]\u001b[A\n",
      " 62%|██████▎   | 50/80 [00:00<00:00, 152.32it/s]\u001b[A\n",
      "100%|██████████| 80/80 [00:00<00:00, 152.05it/s]\u001b[A\n",
      " 48%|████▊     | 60/125 [01:05<01:08,  1.06s/it]"
     ]
    },
    {
     "name": "stdout",
     "output_type": "stream",
     "text": [
      "/home/jiang/projects/SubtleGAN/data/brats2021/val/BraTS2021_01241\n"
     ]
    },
    {
     "name": "stderr",
     "output_type": "stream",
     "text": [
      "\n",
      "  0%|          | 0/80 [00:00<?, ?it/s]\u001b[A\n",
      " 20%|██        | 16/80 [00:00<00:00, 152.67it/s]\u001b[A\n",
      " 40%|████      | 32/80 [00:00<00:00, 151.62it/s]\u001b[A\n",
      " 60%|██████    | 48/80 [00:00<00:00, 153.58it/s]\u001b[A\n",
      " 80%|████████  | 64/80 [00:00<00:00, 155.24it/s]\u001b[A\n",
      "100%|██████████| 80/80 [00:00<00:00, 154.31it/s]\u001b[A\n",
      " 49%|████▉     | 61/125 [01:06<01:07,  1.06s/it]"
     ]
    },
    {
     "name": "stdout",
     "output_type": "stream",
     "text": [
      "/home/jiang/projects/SubtleGAN/data/brats2021/val/BraTS2021_01300\n"
     ]
    },
    {
     "name": "stderr",
     "output_type": "stream",
     "text": [
      "\n",
      "  0%|          | 0/80 [00:00<?, ?it/s]\u001b[A\n",
      " 21%|██▏       | 17/80 [00:00<00:00, 160.44it/s]\u001b[A\n",
      " 42%|████▎     | 34/80 [00:00<00:00, 158.81it/s]\u001b[A\n",
      " 62%|██████▎   | 50/80 [00:00<00:00, 155.24it/s]\u001b[A\n",
      "100%|██████████| 80/80 [00:00<00:00, 153.84it/s]\u001b[A\n",
      " 50%|████▉     | 62/125 [01:07<01:06,  1.05s/it]"
     ]
    },
    {
     "name": "stdout",
     "output_type": "stream",
     "text": [
      "/home/jiang/projects/SubtleGAN/data/brats2021/val/BraTS2021_00140\n"
     ]
    },
    {
     "name": "stderr",
     "output_type": "stream",
     "text": [
      "\n",
      "  0%|          | 0/80 [00:00<?, ?it/s]\u001b[A\n",
      " 19%|█▉        | 15/80 [00:00<00:00, 149.35it/s]\u001b[A\n",
      " 39%|███▉      | 31/80 [00:00<00:00, 149.91it/s]\u001b[A\n",
      " 59%|█████▉    | 47/80 [00:00<00:00, 150.31it/s]\u001b[A\n",
      " 79%|███████▉  | 63/80 [00:00<00:00, 150.26it/s]\u001b[A\n",
      "100%|██████████| 80/80 [00:00<00:00, 149.29it/s]\u001b[A\n",
      " 50%|█████     | 63/125 [01:08<01:05,  1.06s/it]"
     ]
    },
    {
     "name": "stdout",
     "output_type": "stream",
     "text": [
      "/home/jiang/projects/SubtleGAN/data/brats2021/val/BraTS2021_01540\n"
     ]
    },
    {
     "name": "stderr",
     "output_type": "stream",
     "text": [
      "\n",
      "  0%|          | 0/80 [00:00<?, ?it/s]\u001b[A\n",
      " 20%|██        | 16/80 [00:00<00:00, 153.45it/s]\u001b[A\n",
      " 40%|████      | 32/80 [00:00<00:00, 149.01it/s]\u001b[A\n",
      " 59%|█████▉    | 47/80 [00:00<00:00, 149.12it/s]\u001b[A\n",
      " 78%|███████▊  | 62/80 [00:00<00:00, 148.67it/s]\u001b[A\n",
      "100%|██████████| 80/80 [00:00<00:00, 150.04it/s]\u001b[A\n",
      " 51%|█████     | 64/125 [01:09<01:10,  1.16s/it]"
     ]
    },
    {
     "name": "stdout",
     "output_type": "stream",
     "text": [
      "/home/jiang/projects/SubtleGAN/data/brats2021/val/BraTS2021_01604\n"
     ]
    },
    {
     "name": "stderr",
     "output_type": "stream",
     "text": [
      "\n",
      "  0%|          | 0/80 [00:00<?, ?it/s]\u001b[A\n",
      " 20%|██        | 16/80 [00:00<00:00, 159.92it/s]\u001b[A\n",
      " 40%|████      | 32/80 [00:00<00:00, 157.87it/s]\u001b[A\n",
      " 60%|██████    | 48/80 [00:00<00:00, 157.52it/s]\u001b[A\n",
      " 80%|████████  | 64/80 [00:00<00:00, 157.40it/s]\u001b[A\n",
      "100%|██████████| 80/80 [00:00<00:00, 156.84it/s]\u001b[A\n",
      " 52%|█████▏    | 65/125 [01:11<01:12,  1.21s/it]"
     ]
    },
    {
     "name": "stdout",
     "output_type": "stream",
     "text": [
      "/home/jiang/projects/SubtleGAN/data/brats2021/val/BraTS2021_00737\n"
     ]
    },
    {
     "name": "stderr",
     "output_type": "stream",
     "text": [
      "\n",
      "  0%|          | 0/80 [00:00<?, ?it/s]\u001b[A\n",
      " 21%|██▏       | 17/80 [00:00<00:00, 160.48it/s]\u001b[A\n",
      " 42%|████▎     | 34/80 [00:00<00:00, 158.52it/s]\u001b[A\n",
      " 62%|██████▎   | 50/80 [00:00<00:00, 158.09it/s]\u001b[A\n",
      "100%|██████████| 80/80 [00:00<00:00, 157.79it/s]\u001b[A\n",
      " 53%|█████▎    | 66/125 [01:11<01:06,  1.12s/it]"
     ]
    },
    {
     "name": "stdout",
     "output_type": "stream",
     "text": [
      "/home/jiang/projects/SubtleGAN/data/brats2021/val/BraTS2021_00551\n"
     ]
    },
    {
     "name": "stderr",
     "output_type": "stream",
     "text": [
      "\n",
      "  0%|          | 0/80 [00:00<?, ?it/s]\u001b[A\n",
      " 21%|██▏       | 17/80 [00:00<00:00, 160.20it/s]\u001b[A\n",
      " 42%|████▎     | 34/80 [00:00<00:00, 158.64it/s]\u001b[A\n",
      " 62%|██████▎   | 50/80 [00:00<00:00, 158.17it/s]\u001b[A\n",
      "100%|██████████| 80/80 [00:00<00:00, 158.01it/s]\u001b[A\n",
      " 54%|█████▎    | 67/125 [01:12<01:01,  1.07s/it]"
     ]
    },
    {
     "name": "stdout",
     "output_type": "stream",
     "text": [
      "/home/jiang/projects/SubtleGAN/data/brats2021/val/BraTS2021_00348\n"
     ]
    },
    {
     "name": "stderr",
     "output_type": "stream",
     "text": [
      "\n",
      "  0%|          | 0/80 [00:00<?, ?it/s]\u001b[A\n",
      " 21%|██▏       | 17/80 [00:00<00:00, 161.40it/s]\u001b[A\n",
      " 42%|████▎     | 34/80 [00:00<00:00, 158.79it/s]\u001b[A\n",
      " 62%|██████▎   | 50/80 [00:00<00:00, 158.52it/s]\u001b[A\n",
      "100%|██████████| 80/80 [00:00<00:00, 158.04it/s]\u001b[A\n",
      " 54%|█████▍    | 68/125 [01:13<01:00,  1.06s/it]"
     ]
    },
    {
     "name": "stdout",
     "output_type": "stream",
     "text": [
      "/home/jiang/projects/SubtleGAN/data/brats2021/val/BraTS2021_01512\n"
     ]
    },
    {
     "name": "stderr",
     "output_type": "stream",
     "text": [
      "\n",
      "  0%|          | 0/80 [00:00<?, ?it/s]\u001b[A\n",
      " 20%|██        | 16/80 [00:00<00:00, 157.55it/s]\u001b[A\n",
      " 40%|████      | 32/80 [00:00<00:00, 154.84it/s]\u001b[A\n",
      " 60%|██████    | 48/80 [00:00<00:00, 154.82it/s]\u001b[A\n",
      " 80%|████████  | 64/80 [00:00<00:00, 154.70it/s]\u001b[A\n",
      "100%|██████████| 80/80 [00:00<00:00, 154.07it/s]\u001b[A\n",
      " 55%|█████▌    | 69/125 [01:14<00:58,  1.05s/it]"
     ]
    },
    {
     "name": "stdout",
     "output_type": "stream",
     "text": [
      "/home/jiang/projects/SubtleGAN/data/brats2021/val/BraTS2021_01586\n"
     ]
    },
    {
     "name": "stderr",
     "output_type": "stream",
     "text": [
      "\n",
      "  0%|          | 0/80 [00:00<?, ?it/s]\u001b[A\n",
      " 20%|██        | 16/80 [00:00<00:00, 157.14it/s]\u001b[A\n",
      " 40%|████      | 32/80 [00:00<00:00, 153.42it/s]\u001b[A\n",
      " 60%|██████    | 48/80 [00:00<00:00, 152.17it/s]\u001b[A\n",
      " 80%|████████  | 64/80 [00:00<00:00, 153.27it/s]\u001b[A\n",
      "100%|██████████| 80/80 [00:00<00:00, 152.75it/s]\u001b[A\n",
      " 56%|█████▌    | 70/125 [01:16<01:02,  1.14s/it]"
     ]
    },
    {
     "name": "stdout",
     "output_type": "stream",
     "text": [
      "/home/jiang/projects/SubtleGAN/data/brats2021/val/BraTS2021_01004\n"
     ]
    },
    {
     "name": "stderr",
     "output_type": "stream",
     "text": [
      "\n",
      "  0%|          | 0/80 [00:00<?, ?it/s]\u001b[A\n",
      " 20%|██        | 16/80 [00:00<00:00, 157.39it/s]\u001b[A\n",
      " 40%|████      | 32/80 [00:00<00:00, 155.89it/s]\u001b[A\n",
      " 60%|██████    | 48/80 [00:00<00:00, 155.54it/s]\u001b[A\n",
      " 80%|████████  | 64/80 [00:00<00:00, 156.02it/s]\u001b[A\n",
      "100%|██████████| 80/80 [00:00<00:00, 154.39it/s]\u001b[A\n",
      " 57%|█████▋    | 71/125 [01:17<00:59,  1.11s/it]"
     ]
    },
    {
     "name": "stdout",
     "output_type": "stream",
     "text": [
      "/home/jiang/projects/SubtleGAN/data/brats2021/val/BraTS2021_00137\n"
     ]
    },
    {
     "name": "stderr",
     "output_type": "stream",
     "text": [
      "\n",
      "  0%|          | 0/80 [00:00<?, ?it/s]\u001b[A\n",
      " 20%|██        | 16/80 [00:00<00:00, 153.55it/s]\u001b[A\n",
      " 40%|████      | 32/80 [00:00<00:00, 155.40it/s]\u001b[A\n",
      " 60%|██████    | 48/80 [00:00<00:00, 155.75it/s]\u001b[A\n",
      " 80%|████████  | 64/80 [00:00<00:00, 156.50it/s]\u001b[A\n",
      "100%|██████████| 80/80 [00:00<00:00, 155.37it/s]\u001b[A\n",
      " 58%|█████▊    | 72/125 [01:18<00:57,  1.08s/it]"
     ]
    },
    {
     "name": "stdout",
     "output_type": "stream",
     "text": [
      "/home/jiang/projects/SubtleGAN/data/brats2021/val/BraTS2021_00246\n"
     ]
    },
    {
     "name": "stderr",
     "output_type": "stream",
     "text": [
      "\n",
      "  0%|          | 0/80 [00:00<?, ?it/s]\u001b[A\n",
      " 20%|██        | 16/80 [00:00<00:00, 157.11it/s]\u001b[A\n",
      " 40%|████      | 32/80 [00:00<00:00, 156.81it/s]\u001b[A\n",
      " 60%|██████    | 48/80 [00:00<00:00, 156.44it/s]\u001b[A\n",
      " 80%|████████  | 64/80 [00:00<00:00, 156.05it/s]\u001b[A\n",
      "100%|██████████| 80/80 [00:00<00:00, 155.39it/s]\u001b[A\n",
      " 58%|█████▊    | 73/125 [01:19<00:55,  1.07s/it]"
     ]
    },
    {
     "name": "stdout",
     "output_type": "stream",
     "text": [
      "/home/jiang/projects/SubtleGAN/data/brats2021/val/BraTS2021_00237\n"
     ]
    },
    {
     "name": "stderr",
     "output_type": "stream",
     "text": [
      "\n",
      "  0%|          | 0/80 [00:00<?, ?it/s]\u001b[A\n",
      " 20%|██        | 16/80 [00:00<00:00, 156.67it/s]\u001b[A\n",
      " 40%|████      | 32/80 [00:00<00:00, 156.33it/s]\u001b[A\n",
      " 60%|██████    | 48/80 [00:00<00:00, 156.38it/s]\u001b[A\n",
      " 80%|████████  | 64/80 [00:00<00:00, 155.78it/s]\u001b[A\n",
      "100%|██████████| 80/80 [00:00<00:00, 155.18it/s]\u001b[A\n",
      " 59%|█████▉    | 74/125 [01:20<00:54,  1.06s/it]"
     ]
    },
    {
     "name": "stdout",
     "output_type": "stream",
     "text": [
      "/home/jiang/projects/SubtleGAN/data/brats2021/val/BraTS2021_01062\n"
     ]
    },
    {
     "name": "stderr",
     "output_type": "stream",
     "text": [
      "\n",
      "  0%|          | 0/80 [00:00<?, ?it/s]\u001b[A\n",
      " 20%|██        | 16/80 [00:00<00:00, 157.11it/s]\u001b[A\n",
      " 40%|████      | 32/80 [00:00<00:00, 152.97it/s]\u001b[A\n",
      " 60%|██████    | 48/80 [00:00<00:00, 151.35it/s]\u001b[A\n",
      " 80%|████████  | 64/80 [00:00<00:00, 148.49it/s]\u001b[A\n",
      "100%|██████████| 80/80 [00:00<00:00, 150.43it/s]\u001b[A\n",
      " 60%|██████    | 75/125 [01:21<00:52,  1.06s/it]"
     ]
    },
    {
     "name": "stdout",
     "output_type": "stream",
     "text": [
      "/home/jiang/projects/SubtleGAN/data/brats2021/val/BraTS2021_00481\n"
     ]
    },
    {
     "name": "stderr",
     "output_type": "stream",
     "text": [
      "\n",
      "  0%|          | 0/80 [00:00<?, ?it/s]\u001b[A\n",
      " 21%|██▏       | 17/80 [00:00<00:00, 160.25it/s]\u001b[A\n",
      " 42%|████▎     | 34/80 [00:00<00:00, 156.32it/s]\u001b[A\n",
      " 62%|██████▎   | 50/80 [00:00<00:00, 155.58it/s]\u001b[A\n",
      "100%|██████████| 80/80 [00:00<00:00, 154.78it/s]\u001b[A\n",
      " 61%|██████    | 76/125 [01:22<00:50,  1.03s/it]"
     ]
    },
    {
     "name": "stdout",
     "output_type": "stream",
     "text": [
      "/home/jiang/projects/SubtleGAN/data/brats2021/val/BraTS2021_00123\n"
     ]
    },
    {
     "name": "stderr",
     "output_type": "stream",
     "text": [
      "\n",
      "  0%|          | 0/80 [00:00<?, ?it/s]\u001b[A\n",
      " 19%|█▉        | 15/80 [00:00<00:00, 148.65it/s]\u001b[A\n",
      " 39%|███▉      | 31/80 [00:00<00:00, 151.44it/s]\u001b[A\n",
      " 59%|█████▉    | 47/80 [00:00<00:00, 152.78it/s]\u001b[A\n",
      " 79%|███████▉  | 63/80 [00:00<00:00, 153.08it/s]\u001b[A\n",
      "100%|██████████| 80/80 [00:00<00:00, 151.95it/s]\u001b[A\n",
      " 62%|██████▏   | 77/125 [01:23<00:49,  1.03s/it]"
     ]
    },
    {
     "name": "stdout",
     "output_type": "stream",
     "text": [
      "/home/jiang/projects/SubtleGAN/data/brats2021/val/BraTS2021_00604\n"
     ]
    },
    {
     "name": "stderr",
     "output_type": "stream",
     "text": [
      "\n",
      "  0%|          | 0/80 [00:00<?, ?it/s]\u001b[A\n",
      " 20%|██        | 16/80 [00:00<00:00, 156.99it/s]\u001b[A\n",
      " 40%|████      | 32/80 [00:00<00:00, 156.64it/s]\u001b[A\n",
      " 60%|██████    | 48/80 [00:00<00:00, 155.76it/s]\u001b[A\n",
      " 80%|████████  | 64/80 [00:00<00:00, 155.79it/s]\u001b[A\n",
      "100%|██████████| 80/80 [00:00<00:00, 155.27it/s]\u001b[A\n",
      " 62%|██████▏   | 78/125 [01:24<00:47,  1.01s/it]"
     ]
    },
    {
     "name": "stdout",
     "output_type": "stream",
     "text": [
      "/home/jiang/projects/SubtleGAN/data/brats2021/val/BraTS2021_01152\n"
     ]
    },
    {
     "name": "stderr",
     "output_type": "stream",
     "text": [
      "\n",
      "  0%|          | 0/80 [00:00<?, ?it/s]\u001b[A\n",
      " 18%|█▊        | 14/80 [00:00<00:00, 137.62it/s]\u001b[A\n",
      " 38%|███▊      | 30/80 [00:00<00:00, 148.33it/s]\u001b[A\n",
      " 57%|█████▊    | 46/80 [00:00<00:00, 152.14it/s]\u001b[A\n",
      " 78%|███████▊  | 62/80 [00:00<00:00, 153.67it/s]\u001b[A\n",
      "100%|██████████| 80/80 [00:00<00:00, 151.76it/s]\u001b[A\n",
      " 63%|██████▎   | 79/125 [01:25<00:47,  1.02s/it]"
     ]
    },
    {
     "name": "stdout",
     "output_type": "stream",
     "text": [
      "/home/jiang/projects/SubtleGAN/data/brats2021/val/BraTS2021_01312\n"
     ]
    },
    {
     "name": "stderr",
     "output_type": "stream",
     "text": [
      "\n",
      "  0%|          | 0/80 [00:00<?, ?it/s]\u001b[A\n",
      " 20%|██        | 16/80 [00:00<00:00, 159.31it/s]\u001b[A\n",
      " 40%|████      | 32/80 [00:00<00:00, 157.57it/s]\u001b[A\n",
      " 60%|██████    | 48/80 [00:00<00:00, 157.32it/s]\u001b[A\n",
      " 80%|████████  | 64/80 [00:00<00:00, 157.22it/s]\u001b[A\n",
      "100%|██████████| 80/80 [00:00<00:00, 156.52it/s]\u001b[A\n",
      " 64%|██████▍   | 80/125 [01:26<00:45,  1.02s/it]"
     ]
    },
    {
     "name": "stdout",
     "output_type": "stream",
     "text": [
      "/home/jiang/projects/SubtleGAN/data/brats2021/val/BraTS2021_00714\n"
     ]
    },
    {
     "name": "stderr",
     "output_type": "stream",
     "text": [
      "\n",
      "  0%|          | 0/80 [00:00<?, ?it/s]\u001b[A\n",
      " 20%|██        | 16/80 [00:00<00:00, 158.69it/s]\u001b[A\n",
      " 40%|████      | 32/80 [00:00<00:00, 156.95it/s]\u001b[A\n",
      " 60%|██████    | 48/80 [00:00<00:00, 153.20it/s]\u001b[A\n",
      " 80%|████████  | 64/80 [00:00<00:00, 151.65it/s]\u001b[A\n",
      "100%|██████████| 80/80 [00:00<00:00, 152.48it/s]\u001b[A\n",
      " 65%|██████▍   | 81/125 [01:27<00:44,  1.00s/it]"
     ]
    },
    {
     "name": "stdout",
     "output_type": "stream",
     "text": [
      "/home/jiang/projects/SubtleGAN/data/brats2021/val/BraTS2021_00084\n"
     ]
    },
    {
     "name": "stderr",
     "output_type": "stream",
     "text": [
      "\n",
      "  0%|          | 0/80 [00:00<?, ?it/s]\u001b[A\n",
      " 20%|██        | 16/80 [00:00<00:00, 159.37it/s]\u001b[A\n",
      " 40%|████      | 32/80 [00:00<00:00, 157.63it/s]\u001b[A\n",
      " 60%|██████    | 48/80 [00:00<00:00, 156.90it/s]\u001b[A\n",
      " 80%|████████  | 64/80 [00:00<00:00, 156.39it/s]\u001b[A\n",
      "100%|██████████| 80/80 [00:00<00:00, 155.82it/s]\u001b[A\n",
      " 66%|██████▌   | 82/125 [01:28<00:42,  1.02it/s]"
     ]
    },
    {
     "name": "stdout",
     "output_type": "stream",
     "text": [
      "/home/jiang/projects/SubtleGAN/data/brats2021/val/BraTS2021_01288\n"
     ]
    },
    {
     "name": "stderr",
     "output_type": "stream",
     "text": [
      "\n",
      "  0%|          | 0/80 [00:00<?, ?it/s]\u001b[A\n",
      " 20%|██        | 16/80 [00:00<00:00, 157.37it/s]\u001b[A\n",
      " 40%|████      | 32/80 [00:00<00:00, 156.37it/s]\u001b[A\n",
      " 60%|██████    | 48/80 [00:00<00:00, 156.35it/s]\u001b[A\n",
      " 80%|████████  | 64/80 [00:00<00:00, 156.60it/s]\u001b[A\n",
      "100%|██████████| 80/80 [00:00<00:00, 156.11it/s]\u001b[A\n",
      " 66%|██████▋   | 83/125 [01:29<00:42,  1.00s/it]"
     ]
    },
    {
     "name": "stdout",
     "output_type": "stream",
     "text": [
      "/home/jiang/projects/SubtleGAN/data/brats2021/val/BraTS2021_00431\n"
     ]
    },
    {
     "name": "stderr",
     "output_type": "stream",
     "text": [
      "\n",
      "  0%|          | 0/80 [00:00<?, ?it/s]\u001b[A\n",
      " 18%|█▊        | 14/80 [00:00<00:00, 131.91it/s]\u001b[A\n",
      " 36%|███▋      | 29/80 [00:00<00:00, 141.16it/s]\u001b[A\n",
      " 56%|█████▋    | 45/80 [00:00<00:00, 147.13it/s]\u001b[A\n",
      " 76%|███████▋  | 61/80 [00:00<00:00, 150.64it/s]\u001b[A\n",
      "100%|██████████| 80/80 [00:00<00:00, 148.65it/s]\u001b[A\n",
      " 67%|██████▋   | 84/125 [01:30<00:42,  1.04s/it]"
     ]
    },
    {
     "name": "stdout",
     "output_type": "stream",
     "text": [
      "/home/jiang/projects/SubtleGAN/data/brats2021/val/BraTS2021_00756\n"
     ]
    },
    {
     "name": "stderr",
     "output_type": "stream",
     "text": [
      "\n",
      "  0%|          | 0/80 [00:00<?, ?it/s]\u001b[A\n",
      " 20%|██        | 16/80 [00:00<00:00, 156.82it/s]\u001b[A\n",
      " 40%|████      | 32/80 [00:00<00:00, 156.36it/s]\u001b[A\n",
      " 60%|██████    | 48/80 [00:00<00:00, 156.59it/s]\u001b[A\n",
      " 80%|████████  | 64/80 [00:00<00:00, 156.39it/s]\u001b[A\n",
      "100%|██████████| 80/80 [00:00<00:00, 155.68it/s]\u001b[A\n",
      " 68%|██████▊   | 85/125 [01:31<00:40,  1.02s/it]"
     ]
    },
    {
     "name": "stdout",
     "output_type": "stream",
     "text": [
      "/home/jiang/projects/SubtleGAN/data/brats2021/val/BraTS2021_00709\n"
     ]
    },
    {
     "name": "stderr",
     "output_type": "stream",
     "text": [
      "\n",
      "  0%|          | 0/80 [00:00<?, ?it/s]\u001b[A\n",
      " 20%|██        | 16/80 [00:00<00:00, 159.69it/s]\u001b[A\n",
      " 40%|████      | 32/80 [00:00<00:00, 157.57it/s]\u001b[A\n",
      " 60%|██████    | 48/80 [00:00<00:00, 157.12it/s]\u001b[A\n",
      " 80%|████████  | 64/80 [00:00<00:00, 156.76it/s]\u001b[A\n",
      "100%|██████████| 80/80 [00:00<00:00, 156.15it/s]\u001b[A\n",
      " 69%|██████▉   | 86/125 [01:32<00:38,  1.00it/s]"
     ]
    },
    {
     "name": "stdout",
     "output_type": "stream",
     "text": [
      "/home/jiang/projects/SubtleGAN/data/brats2021/val/BraTS2021_00311\n"
     ]
    },
    {
     "name": "stderr",
     "output_type": "stream",
     "text": [
      "\n",
      "  0%|          | 0/80 [00:00<?, ?it/s]\u001b[A\n",
      " 20%|██        | 16/80 [00:00<00:00, 159.14it/s]\u001b[A\n",
      " 40%|████      | 32/80 [00:00<00:00, 157.55it/s]\u001b[A\n",
      " 60%|██████    | 48/80 [00:00<00:00, 156.87it/s]\u001b[A\n",
      " 80%|████████  | 64/80 [00:00<00:00, 156.57it/s]\u001b[A\n",
      "100%|██████████| 80/80 [00:00<00:00, 156.03it/s]\u001b[A\n",
      " 70%|██████▉   | 87/125 [01:33<00:38,  1.01s/it]"
     ]
    },
    {
     "name": "stdout",
     "output_type": "stream",
     "text": [
      "/home/jiang/projects/SubtleGAN/data/brats2021/val/BraTS2021_00274\n"
     ]
    },
    {
     "name": "stderr",
     "output_type": "stream",
     "text": [
      "\n",
      "  0%|          | 0/80 [00:00<?, ?it/s]\u001b[A\n",
      " 20%|██        | 16/80 [00:00<00:00, 158.98it/s]\u001b[A\n",
      " 40%|████      | 32/80 [00:00<00:00, 157.33it/s]\u001b[A\n",
      " 60%|██████    | 48/80 [00:00<00:00, 156.75it/s]\u001b[A\n",
      " 80%|████████  | 64/80 [00:00<00:00, 156.56it/s]\u001b[A\n",
      "100%|██████████| 80/80 [00:00<00:00, 155.93it/s]\u001b[A\n",
      " 70%|███████   | 88/125 [01:34<00:37,  1.02s/it]"
     ]
    },
    {
     "name": "stdout",
     "output_type": "stream",
     "text": [
      "/home/jiang/projects/SubtleGAN/data/brats2021/val/BraTS2021_00586\n"
     ]
    },
    {
     "name": "stderr",
     "output_type": "stream",
     "text": [
      "\n",
      "  0%|          | 0/80 [00:00<?, ?it/s]\u001b[A\n",
      " 20%|██        | 16/80 [00:00<00:00, 159.44it/s]\u001b[A\n",
      " 40%|████      | 32/80 [00:00<00:00, 154.13it/s]\u001b[A\n",
      " 60%|██████    | 48/80 [00:00<00:00, 155.27it/s]\u001b[A\n",
      " 80%|████████  | 64/80 [00:00<00:00, 154.28it/s]\u001b[A\n",
      "100%|██████████| 80/80 [00:00<00:00, 154.28it/s]\u001b[A\n",
      " 71%|███████   | 89/125 [01:35<00:40,  1.12s/it]"
     ]
    },
    {
     "name": "stdout",
     "output_type": "stream",
     "text": [
      "/home/jiang/projects/SubtleGAN/data/brats2021/val/BraTS2021_01402\n"
     ]
    },
    {
     "name": "stderr",
     "output_type": "stream",
     "text": [
      "\n",
      "  0%|          | 0/80 [00:00<?, ?it/s]\u001b[A\n",
      " 20%|██        | 16/80 [00:00<00:00, 157.05it/s]\u001b[A\n",
      " 40%|████      | 32/80 [00:00<00:00, 156.63it/s]\u001b[A\n",
      " 60%|██████    | 48/80 [00:00<00:00, 156.24it/s]\u001b[A\n",
      " 80%|████████  | 64/80 [00:00<00:00, 156.37it/s]\u001b[A\n",
      "100%|██████████| 80/80 [00:00<00:00, 155.61it/s]\u001b[A\n",
      " 72%|███████▏  | 90/125 [01:37<00:38,  1.10s/it]"
     ]
    },
    {
     "name": "stdout",
     "output_type": "stream",
     "text": [
      "/home/jiang/projects/SubtleGAN/data/brats2021/val/BraTS2021_01657\n"
     ]
    },
    {
     "name": "stderr",
     "output_type": "stream",
     "text": [
      "\n",
      "  0%|          | 0/80 [00:00<?, ?it/s]\u001b[A\n",
      " 20%|██        | 16/80 [00:00<00:00, 159.14it/s]\u001b[A\n",
      " 40%|████      | 32/80 [00:00<00:00, 157.46it/s]\u001b[A\n",
      " 60%|██████    | 48/80 [00:00<00:00, 156.89it/s]\u001b[A\n",
      " 80%|████████  | 64/80 [00:00<00:00, 156.41it/s]\u001b[A\n",
      "100%|██████████| 80/80 [00:00<00:00, 155.80it/s]\u001b[A\n",
      " 73%|███████▎  | 91/125 [01:38<00:36,  1.07s/it]"
     ]
    },
    {
     "name": "stdout",
     "output_type": "stream",
     "text": [
      "/home/jiang/projects/SubtleGAN/data/brats2021/val/BraTS2021_00703\n"
     ]
    },
    {
     "name": "stderr",
     "output_type": "stream",
     "text": [
      "\n",
      "  0%|          | 0/80 [00:00<?, ?it/s]\u001b[A\n",
      " 20%|██        | 16/80 [00:00<00:00, 159.14it/s]\u001b[A\n",
      " 40%|████      | 32/80 [00:00<00:00, 156.51it/s]\u001b[A\n",
      " 60%|██████    | 48/80 [00:00<00:00, 153.09it/s]\u001b[A\n",
      " 80%|████████  | 64/80 [00:00<00:00, 153.69it/s]\u001b[A\n",
      "100%|██████████| 80/80 [00:00<00:00, 153.56it/s]\u001b[A\n",
      " 74%|███████▎  | 92/125 [01:38<00:34,  1.03s/it]"
     ]
    },
    {
     "name": "stdout",
     "output_type": "stream",
     "text": [
      "/home/jiang/projects/SubtleGAN/data/brats2021/val/BraTS2021_00688\n"
     ]
    },
    {
     "name": "stderr",
     "output_type": "stream",
     "text": [
      "\n",
      "  0%|          | 0/80 [00:00<?, ?it/s]\u001b[A\n",
      " 20%|██        | 16/80 [00:00<00:00, 154.28it/s]\u001b[A\n",
      " 40%|████      | 32/80 [00:00<00:00, 150.65it/s]\u001b[A\n",
      " 60%|██████    | 48/80 [00:00<00:00, 152.16it/s]\u001b[A\n",
      " 80%|████████  | 64/80 [00:00<00:00, 151.05it/s]\u001b[A\n",
      "100%|██████████| 80/80 [00:00<00:00, 150.63it/s]\u001b[A\n",
      " 74%|███████▍  | 93/125 [01:39<00:32,  1.02s/it]"
     ]
    },
    {
     "name": "stdout",
     "output_type": "stream",
     "text": [
      "/home/jiang/projects/SubtleGAN/data/brats2021/val/BraTS2021_00807\n"
     ]
    },
    {
     "name": "stderr",
     "output_type": "stream",
     "text": [
      "\n",
      "  0%|          | 0/80 [00:00<?, ?it/s]\u001b[A\n",
      " 21%|██▏       | 17/80 [00:00<00:00, 160.47it/s]\u001b[A\n",
      " 42%|████▎     | 34/80 [00:00<00:00, 156.14it/s]\u001b[A\n",
      " 62%|██████▎   | 50/80 [00:00<00:00, 153.50it/s]\u001b[A\n",
      "100%|██████████| 80/80 [00:00<00:00, 142.36it/s]\u001b[A\n",
      " 75%|███████▌  | 94/125 [01:41<00:35,  1.14s/it]"
     ]
    },
    {
     "name": "stdout",
     "output_type": "stream",
     "text": [
      "/home/jiang/projects/SubtleGAN/data/brats2021/val/BraTS2021_00111\n"
     ]
    },
    {
     "name": "stderr",
     "output_type": "stream",
     "text": [
      "\n",
      "  0%|          | 0/80 [00:00<?, ?it/s]\u001b[A\n",
      " 21%|██▏       | 17/80 [00:00<00:00, 161.35it/s]\u001b[A\n",
      " 42%|████▎     | 34/80 [00:00<00:00, 101.10it/s]\u001b[A\n",
      " 62%|██████▎   | 50/80 [00:00<00:00, 118.58it/s]\u001b[A\n",
      " 81%|████████▏ | 65/80 [00:00<00:00, 128.31it/s]\u001b[A\n",
      "100%|██████████| 80/80 [00:00<00:00, 127.72it/s]\u001b[A\n",
      " 76%|███████▌  | 95/125 [01:42<00:34,  1.13s/it]"
     ]
    },
    {
     "name": "stdout",
     "output_type": "stream",
     "text": [
      "/home/jiang/projects/SubtleGAN/data/brats2021/val/BraTS2021_01625\n"
     ]
    },
    {
     "name": "stderr",
     "output_type": "stream",
     "text": [
      "\n",
      "  0%|          | 0/80 [00:00<?, ?it/s]\u001b[A\n",
      " 20%|██        | 16/80 [00:00<00:00, 153.66it/s]\u001b[A\n",
      " 40%|████      | 32/80 [00:00<00:00, 152.25it/s]\u001b[A\n",
      " 60%|██████    | 48/80 [00:00<00:00, 151.44it/s]\u001b[A\n",
      " 80%|████████  | 64/80 [00:00<00:00, 151.37it/s]\u001b[A\n",
      "100%|██████████| 80/80 [00:00<00:00, 150.84it/s]\u001b[A\n",
      " 77%|███████▋  | 96/125 [01:43<00:35,  1.23s/it]"
     ]
    },
    {
     "name": "stdout",
     "output_type": "stream",
     "text": [
      "/home/jiang/projects/SubtleGAN/data/brats2021/val/BraTS2021_00070\n"
     ]
    },
    {
     "name": "stderr",
     "output_type": "stream",
     "text": [
      "\n",
      "  0%|          | 0/80 [00:00<?, ?it/s]\u001b[A\n",
      " 21%|██▏       | 17/80 [00:00<00:00, 160.24it/s]\u001b[A\n",
      " 42%|████▎     | 34/80 [00:00<00:00, 102.98it/s]\u001b[A\n",
      " 61%|██████▏   | 49/80 [00:00<00:00, 118.78it/s]\u001b[A\n",
      " 79%|███████▉  | 63/80 [00:00<00:00, 104.86it/s]\u001b[A\n",
      "100%|██████████| 80/80 [00:00<00:00, 116.20it/s]\u001b[A\n",
      " 78%|███████▊  | 97/125 [01:45<00:33,  1.20s/it]"
     ]
    },
    {
     "name": "stdout",
     "output_type": "stream",
     "text": [
      "/home/jiang/projects/SubtleGAN/data/brats2021/val/BraTS2021_01012\n"
     ]
    },
    {
     "name": "stderr",
     "output_type": "stream",
     "text": [
      "\n",
      "  0%|          | 0/80 [00:00<?, ?it/s]\u001b[A\n",
      " 20%|██        | 16/80 [00:00<00:00, 150.77it/s]\u001b[A\n",
      " 40%|████      | 32/80 [00:00<00:00, 154.10it/s]\u001b[A\n",
      " 60%|██████    | 48/80 [00:00<00:00, 155.57it/s]\u001b[A\n",
      " 80%|████████  | 64/80 [00:00<00:00, 156.25it/s]\u001b[A\n",
      "100%|██████████| 80/80 [00:00<00:00, 155.12it/s]\u001b[A\n",
      " 78%|███████▊  | 98/125 [01:46<00:31,  1.15s/it]"
     ]
    },
    {
     "name": "stdout",
     "output_type": "stream",
     "text": [
      "/home/jiang/projects/SubtleGAN/data/brats2021/val/BraTS2021_00210\n"
     ]
    },
    {
     "name": "stderr",
     "output_type": "stream",
     "text": [
      "\n",
      "  0%|          | 0/80 [00:00<?, ?it/s]\u001b[A\n",
      " 20%|██        | 16/80 [00:00<00:00, 159.76it/s]\u001b[A\n",
      " 40%|████      | 32/80 [00:00<00:00, 154.45it/s]\u001b[A\n",
      " 60%|██████    | 48/80 [00:00<00:00, 152.85it/s]\u001b[A\n",
      " 80%|████████  | 64/80 [00:00<00:00, 152.16it/s]\u001b[A\n",
      "100%|██████████| 80/80 [00:00<00:00, 128.77it/s]\u001b[A\n",
      " 79%|███████▉  | 99/125 [01:47<00:30,  1.16s/it]"
     ]
    },
    {
     "name": "stdout",
     "output_type": "stream",
     "text": [
      "/home/jiang/projects/SubtleGAN/data/brats2021/val/BraTS2021_00612\n"
     ]
    },
    {
     "name": "stderr",
     "output_type": "stream",
     "text": [
      "\n",
      "  0%|          | 0/80 [00:00<?, ?it/s]\u001b[A\n",
      " 20%|██        | 16/80 [00:00<00:00, 151.05it/s]\u001b[A\n",
      " 40%|████      | 32/80 [00:00<00:00, 149.34it/s]\u001b[A\n",
      " 60%|██████    | 48/80 [00:00<00:00, 151.52it/s]\u001b[A\n",
      " 80%|████████  | 64/80 [00:00<00:00, 150.50it/s]\u001b[A\n",
      "100%|██████████| 80/80 [00:00<00:00, 149.73it/s]\u001b[A\n",
      " 80%|████████  | 100/125 [01:48<00:27,  1.10s/it]"
     ]
    },
    {
     "name": "stdout",
     "output_type": "stream",
     "text": [
      "/home/jiang/projects/SubtleGAN/data/brats2021/val/BraTS2021_00044\n"
     ]
    },
    {
     "name": "stderr",
     "output_type": "stream",
     "text": [
      "\n",
      "  0%|          | 0/80 [00:00<?, ?it/s]\u001b[A\n",
      "  8%|▊         | 6/80 [00:00<00:01, 57.61it/s]\u001b[A\n",
      " 19%|█▉        | 15/80 [00:00<00:00, 73.56it/s]\u001b[A\n",
      " 38%|███▊      | 30/80 [00:00<00:00, 106.76it/s]\u001b[A\n",
      " 51%|█████▏    | 41/80 [00:00<00:00, 87.72it/s] \u001b[A\n",
      " 68%|██████▊   | 54/80 [00:00<00:00, 100.63it/s]\u001b[A\n",
      "100%|██████████| 80/80 [00:00<00:00, 107.07it/s]\u001b[A\n",
      " 81%|████████  | 101/125 [01:49<00:27,  1.13s/it]"
     ]
    },
    {
     "name": "stdout",
     "output_type": "stream",
     "text": [
      "/home/jiang/projects/SubtleGAN/data/brats2021/val/BraTS2021_01538\n"
     ]
    },
    {
     "name": "stderr",
     "output_type": "stream",
     "text": [
      "\n",
      "  0%|          | 0/80 [00:00<?, ?it/s]\u001b[A\n",
      " 20%|██        | 16/80 [00:00<00:00, 153.41it/s]\u001b[A\n",
      " 40%|████      | 32/80 [00:00<00:00, 150.19it/s]\u001b[A\n",
      " 60%|██████    | 48/80 [00:00<00:00, 149.91it/s]\u001b[A\n",
      " 80%|████████  | 64/80 [00:00<00:00, 150.38it/s]\u001b[A\n",
      "100%|██████████| 80/80 [00:00<00:00, 149.66it/s]\u001b[A\n",
      " 82%|████████▏ | 102/125 [01:50<00:27,  1.22s/it]"
     ]
    },
    {
     "name": "stdout",
     "output_type": "stream",
     "text": [
      "/home/jiang/projects/SubtleGAN/data/brats2021/val/BraTS2021_01419\n"
     ]
    },
    {
     "name": "stderr",
     "output_type": "stream",
     "text": [
      "\n",
      "  0%|          | 0/80 [00:00<?, ?it/s]\u001b[A\n",
      " 20%|██        | 16/80 [00:00<00:00, 152.45it/s]\u001b[A\n",
      " 40%|████      | 32/80 [00:00<00:00, 150.68it/s]\u001b[A\n",
      " 60%|██████    | 48/80 [00:00<00:00, 150.34it/s]\u001b[A\n",
      " 80%|████████  | 64/80 [00:00<00:00, 149.29it/s]\u001b[A\n",
      "100%|██████████| 80/80 [00:00<00:00, 146.23it/s]\u001b[A\n",
      " 82%|████████▏ | 103/125 [01:51<00:25,  1.17s/it]"
     ]
    },
    {
     "name": "stdout",
     "output_type": "stream",
     "text": [
      "/home/jiang/projects/SubtleGAN/data/brats2021/val/BraTS2021_00134\n"
     ]
    },
    {
     "name": "stderr",
     "output_type": "stream",
     "text": [
      "\n",
      "  0%|          | 0/80 [00:00<?, ?it/s]\u001b[A\n",
      " 20%|██        | 16/80 [00:00<00:00, 151.75it/s]\u001b[A\n",
      " 40%|████      | 32/80 [00:00<00:00, 151.10it/s]\u001b[A\n",
      " 60%|██████    | 48/80 [00:00<00:00, 150.85it/s]\u001b[A\n",
      " 80%|████████  | 64/80 [00:00<00:00, 149.37it/s]\u001b[A\n",
      "100%|██████████| 80/80 [00:00<00:00, 149.18it/s]\u001b[A\n",
      " 83%|████████▎ | 104/125 [01:53<00:24,  1.16s/it]"
     ]
    },
    {
     "name": "stdout",
     "output_type": "stream",
     "text": [
      "/home/jiang/projects/SubtleGAN/data/brats2021/val/BraTS2021_01259\n"
     ]
    },
    {
     "name": "stderr",
     "output_type": "stream",
     "text": [
      "\n",
      "  0%|          | 0/80 [00:00<?, ?it/s]\u001b[A\n",
      " 20%|██        | 16/80 [00:00<00:00, 151.22it/s]\u001b[A\n",
      " 40%|████      | 32/80 [00:00<00:00, 150.70it/s]\u001b[A\n",
      " 60%|██████    | 48/80 [00:00<00:00, 150.82it/s]\u001b[A\n",
      " 80%|████████  | 64/80 [00:00<00:00, 153.16it/s]\u001b[A\n",
      "100%|██████████| 80/80 [00:00<00:00, 152.58it/s]\u001b[A\n",
      " 84%|████████▍ | 105/125 [01:54<00:22,  1.13s/it]"
     ]
    },
    {
     "name": "stdout",
     "output_type": "stream",
     "text": [
      "/home/jiang/projects/SubtleGAN/data/brats2021/val/BraTS2021_01481\n"
     ]
    },
    {
     "name": "stderr",
     "output_type": "stream",
     "text": [
      "\n",
      "  0%|          | 0/80 [00:00<?, ?it/s]\u001b[A\n",
      " 20%|██        | 16/80 [00:00<00:00, 153.18it/s]\u001b[A\n",
      " 40%|████      | 32/80 [00:00<00:00, 99.85it/s] \u001b[A\n",
      " 60%|██████    | 48/80 [00:00<00:00, 118.11it/s]\u001b[A\n",
      " 80%|████████  | 64/80 [00:00<00:00, 129.31it/s]\u001b[A\n",
      "100%|██████████| 80/80 [00:00<00:00, 128.91it/s]\u001b[A\n",
      " 85%|████████▍ | 106/125 [01:55<00:21,  1.13s/it]"
     ]
    },
    {
     "name": "stdout",
     "output_type": "stream",
     "text": [
      "/home/jiang/projects/SubtleGAN/data/brats2021/val/BraTS2021_00322\n"
     ]
    },
    {
     "name": "stderr",
     "output_type": "stream",
     "text": [
      "\n",
      "  0%|          | 0/80 [00:00<?, ?it/s]\u001b[A\n",
      " 20%|██        | 16/80 [00:00<00:00, 152.87it/s]\u001b[A\n",
      " 40%|████      | 32/80 [00:00<00:00, 151.62it/s]\u001b[A\n",
      " 60%|██████    | 48/80 [00:00<00:00, 151.10it/s]\u001b[A\n",
      " 80%|████████  | 64/80 [00:00<00:00, 150.70it/s]\u001b[A\n",
      "100%|██████████| 80/80 [00:00<00:00, 150.24it/s]\u001b[A\n",
      " 86%|████████▌ | 107/125 [01:56<00:20,  1.11s/it]"
     ]
    },
    {
     "name": "stdout",
     "output_type": "stream",
     "text": [
      "/home/jiang/projects/SubtleGAN/data/brats2021/val/BraTS2021_00053\n"
     ]
    },
    {
     "name": "stderr",
     "output_type": "stream",
     "text": [
      "\n",
      "  0%|          | 0/80 [00:00<?, ?it/s]\u001b[A\n",
      " 21%|██▏       | 17/80 [00:00<00:00, 160.49it/s]\u001b[A\n",
      " 42%|████▎     | 34/80 [00:00<00:00, 154.30it/s]\u001b[A\n",
      " 62%|██████▎   | 50/80 [00:00<00:00, 152.68it/s]\u001b[A\n",
      "100%|██████████| 80/80 [00:00<00:00, 153.99it/s]\u001b[A\n",
      " 86%|████████▋ | 108/125 [01:57<00:18,  1.08s/it]"
     ]
    },
    {
     "name": "stdout",
     "output_type": "stream",
     "text": [
      "/home/jiang/projects/SubtleGAN/data/brats2021/val/BraTS2021_01331\n"
     ]
    },
    {
     "name": "stderr",
     "output_type": "stream",
     "text": [
      "\n",
      "  0%|          | 0/80 [00:00<?, ?it/s]\u001b[A\n",
      " 20%|██        | 16/80 [00:00<00:00, 151.81it/s]\u001b[A\n",
      " 40%|████      | 32/80 [00:00<00:00, 150.74it/s]\u001b[A\n",
      " 60%|██████    | 48/80 [00:00<00:00, 150.20it/s]\u001b[A\n",
      " 80%|████████  | 64/80 [00:00<00:00, 150.24it/s]\u001b[A\n",
      "100%|██████████| 80/80 [00:00<00:00, 149.44it/s]\u001b[A\n",
      " 87%|████████▋ | 109/125 [01:58<00:16,  1.05s/it]"
     ]
    },
    {
     "name": "stdout",
     "output_type": "stream",
     "text": [
      "/home/jiang/projects/SubtleGAN/data/brats2021/val/BraTS2021_00418\n"
     ]
    },
    {
     "name": "stderr",
     "output_type": "stream",
     "text": [
      "\n",
      "  0%|          | 0/80 [00:00<?, ?it/s]\u001b[A\n",
      "  9%|▉         | 7/80 [00:00<00:01, 65.38it/s]\u001b[A\n",
      " 24%|██▍       | 19/80 [00:00<00:00, 93.34it/s]\u001b[A\n",
      " 44%|████▍     | 35/80 [00:00<00:00, 121.82it/s]\u001b[A\n",
      " 64%|██████▍   | 51/80 [00:00<00:00, 133.54it/s]\u001b[A\n",
      "100%|██████████| 80/80 [00:00<00:00, 130.42it/s]\u001b[A\n",
      " 88%|████████▊ | 110/125 [01:59<00:16,  1.08s/it]"
     ]
    },
    {
     "name": "stdout",
     "output_type": "stream",
     "text": [
      "/home/jiang/projects/SubtleGAN/data/brats2021/val/BraTS2021_00370\n"
     ]
    },
    {
     "name": "stderr",
     "output_type": "stream",
     "text": [
      "\n",
      "  0%|          | 0/80 [00:00<?, ?it/s]\u001b[A\n",
      " 14%|█▍        | 11/80 [00:00<00:00, 106.60it/s]\u001b[A\n",
      " 29%|██▉       | 23/80 [00:00<00:00, 109.89it/s]\u001b[A\n",
      " 42%|████▎     | 34/80 [00:00<00:00, 109.35it/s]\u001b[A\n",
      " 56%|█████▋    | 45/80 [00:00<00:00, 107.43it/s]\u001b[A\n",
      " 70%|███████   | 56/80 [00:00<00:00, 106.45it/s]\u001b[A\n",
      "100%|██████████| 80/80 [00:00<00:00, 112.71it/s]\u001b[A\n",
      " 89%|████████▉ | 111/125 [02:00<00:16,  1.21s/it]"
     ]
    },
    {
     "name": "stdout",
     "output_type": "stream",
     "text": [
      "/home/jiang/projects/SubtleGAN/data/brats2021/val/BraTS2021_00613\n"
     ]
    },
    {
     "name": "stderr",
     "output_type": "stream",
     "text": [
      "\n",
      "  0%|          | 0/80 [00:00<?, ?it/s]\u001b[A\n",
      " 16%|█▋        | 13/80 [00:00<00:00, 122.87it/s]\u001b[A\n",
      " 32%|███▎      | 26/80 [00:00<00:00, 117.39it/s]\u001b[A\n",
      " 48%|████▊     | 38/80 [00:00<00:00, 116.03it/s]\u001b[A\n",
      " 64%|██████▍   | 51/80 [00:00<00:00, 117.79it/s]\u001b[A\n",
      " 79%|███████▉  | 63/80 [00:00<00:00, 115.93it/s]\u001b[A\n",
      "100%|██████████| 80/80 [00:00<00:00, 116.53it/s]\u001b[A\n",
      " 90%|████████▉ | 112/125 [02:02<00:15,  1.20s/it]"
     ]
    },
    {
     "name": "stdout",
     "output_type": "stream",
     "text": [
      "/home/jiang/projects/SubtleGAN/data/brats2021/val/BraTS2021_01078\n"
     ]
    },
    {
     "name": "stderr",
     "output_type": "stream",
     "text": [
      "\n",
      "  0%|          | 0/80 [00:00<?, ?it/s]\u001b[A\n",
      " 15%|█▌        | 12/80 [00:00<00:00, 115.95it/s]\u001b[A\n",
      " 31%|███▏      | 25/80 [00:00<00:00, 120.45it/s]\u001b[A\n",
      " 48%|████▊     | 38/80 [00:00<00:00, 121.95it/s]\u001b[A\n",
      " 64%|██████▍   | 51/80 [00:00<00:00, 124.69it/s]\u001b[A\n",
      " 81%|████████▏ | 65/80 [00:00<00:00, 127.89it/s]\u001b[A\n",
      "100%|██████████| 80/80 [00:00<00:00, 121.20it/s]\u001b[A\n",
      " 90%|█████████ | 113/125 [02:03<00:15,  1.31s/it]"
     ]
    },
    {
     "name": "stdout",
     "output_type": "stream",
     "text": [
      "/home/jiang/projects/SubtleGAN/data/brats2021/val/BraTS2021_01243\n"
     ]
    },
    {
     "name": "stderr",
     "output_type": "stream",
     "text": [
      "\n",
      "  0%|          | 0/80 [00:00<?, ?it/s]\u001b[A\n",
      " 19%|█▉        | 15/80 [00:00<00:00, 141.56it/s]\u001b[A\n",
      " 38%|███▊      | 30/80 [00:00<00:00, 132.91it/s]\u001b[A\n",
      " 56%|█████▋    | 45/80 [00:00<00:00, 139.93it/s]\u001b[A\n",
      " 76%|███████▋  | 61/80 [00:00<00:00, 144.88it/s]\u001b[A\n",
      "100%|██████████| 80/80 [00:00<00:00, 143.36it/s]\u001b[A\n",
      " 91%|█████████ | 114/125 [02:04<00:13,  1.27s/it]"
     ]
    },
    {
     "name": "stdout",
     "output_type": "stream",
     "text": [
      "/home/jiang/projects/SubtleGAN/data/brats2021/val/BraTS2021_01558\n"
     ]
    },
    {
     "name": "stderr",
     "output_type": "stream",
     "text": [
      "\n",
      "  0%|          | 0/80 [00:00<?, ?it/s]\u001b[A\n",
      " 20%|██        | 16/80 [00:00<00:00, 156.46it/s]\u001b[A\n",
      " 40%|████      | 32/80 [00:00<00:00, 155.52it/s]\u001b[A\n",
      " 60%|██████    | 48/80 [00:00<00:00, 146.66it/s]\u001b[A\n",
      " 80%|████████  | 64/80 [00:00<00:00, 149.46it/s]\u001b[A\n",
      "100%|██████████| 80/80 [00:00<00:00, 144.27it/s]\u001b[A\n",
      " 92%|█████████▏| 115/125 [02:06<00:13,  1.31s/it]"
     ]
    },
    {
     "name": "stdout",
     "output_type": "stream",
     "text": [
      "/home/jiang/projects/SubtleGAN/data/brats2021/val/BraTS2021_01409\n"
     ]
    },
    {
     "name": "stderr",
     "output_type": "stream",
     "text": [
      "\n",
      "  0%|          | 0/80 [00:00<?, ?it/s]\u001b[A\n",
      "  8%|▊         | 6/80 [00:00<00:01, 59.93it/s]\u001b[A\n",
      " 19%|█▉        | 15/80 [00:00<00:00, 75.43it/s]\u001b[A\n",
      " 35%|███▌      | 28/80 [00:00<00:00, 96.82it/s]\u001b[A\n",
      " 52%|█████▎    | 42/80 [00:00<00:00, 111.06it/s]\u001b[A\n",
      " 68%|██████▊   | 54/80 [00:00<00:00, 113.63it/s]\u001b[A\n",
      "100%|██████████| 80/80 [00:00<00:00, 113.84it/s]\u001b[A\n",
      " 93%|█████████▎| 116/125 [02:07<00:11,  1.27s/it]"
     ]
    },
    {
     "name": "stdout",
     "output_type": "stream",
     "text": [
      "/home/jiang/projects/SubtleGAN/data/brats2021/val/BraTS2021_00453\n"
     ]
    },
    {
     "name": "stderr",
     "output_type": "stream",
     "text": [
      "\n",
      "  0%|          | 0/80 [00:00<?, ?it/s]\u001b[A\n",
      " 20%|██        | 16/80 [00:00<00:00, 157.96it/s]\u001b[A\n",
      " 40%|████      | 32/80 [00:00<00:00, 131.37it/s]\u001b[A\n",
      " 59%|█████▉    | 47/80 [00:00<00:00, 138.73it/s]\u001b[A\n",
      " 79%|███████▉  | 63/80 [00:00<00:00, 144.95it/s]\u001b[A\n",
      "100%|██████████| 80/80 [00:00<00:00, 142.45it/s]\u001b[A\n",
      " 94%|█████████▎| 117/125 [02:08<00:09,  1.19s/it]"
     ]
    },
    {
     "name": "stdout",
     "output_type": "stream",
     "text": [
      "/home/jiang/projects/SubtleGAN/data/brats2021/val/BraTS2021_00781\n"
     ]
    },
    {
     "name": "stderr",
     "output_type": "stream",
     "text": [
      "\n",
      "  0%|          | 0/80 [00:00<?, ?it/s]\u001b[A\n",
      " 20%|██        | 16/80 [00:00<00:00, 155.40it/s]\u001b[A\n",
      " 40%|████      | 32/80 [00:00<00:00, 156.10it/s]\u001b[A\n",
      " 60%|██████    | 48/80 [00:00<00:00, 132.45it/s]\u001b[A\n",
      " 78%|███████▊  | 62/80 [00:00<00:00, 121.91it/s]\u001b[A\n",
      "100%|██████████| 80/80 [00:00<00:00, 123.25it/s]\u001b[A\n",
      " 94%|█████████▍| 118/125 [02:09<00:08,  1.26s/it]"
     ]
    },
    {
     "name": "stdout",
     "output_type": "stream",
     "text": [
      "/home/jiang/projects/SubtleGAN/data/brats2021/val/BraTS2021_00159\n"
     ]
    },
    {
     "name": "stderr",
     "output_type": "stream",
     "text": [
      "\n",
      "  0%|          | 0/80 [00:00<?, ?it/s]\u001b[A\n",
      " 15%|█▌        | 12/80 [00:00<00:00, 114.34it/s]\u001b[A\n",
      " 30%|███       | 24/80 [00:00<00:00, 109.76it/s]\u001b[A\n",
      " 44%|████▍     | 35/80 [00:00<00:00, 109.17it/s]\u001b[A\n",
      " 57%|█████▊    | 46/80 [00:00<00:00, 109.19it/s]\u001b[A\n",
      " 72%|███████▎  | 58/80 [00:00<00:00, 110.03it/s]\u001b[A\n",
      "100%|██████████| 80/80 [00:00<00:00, 110.15it/s]\u001b[A\n",
      " 95%|█████████▌| 119/125 [02:11<00:07,  1.25s/it]"
     ]
    },
    {
     "name": "stdout",
     "output_type": "stream",
     "text": [
      "/home/jiang/projects/SubtleGAN/data/brats2021/val/BraTS2021_00104\n"
     ]
    },
    {
     "name": "stderr",
     "output_type": "stream",
     "text": [
      "\n",
      "  0%|          | 0/80 [00:00<?, ?it/s]\u001b[A\n",
      " 15%|█▌        | 12/80 [00:00<00:00, 113.87it/s]\u001b[A\n",
      " 30%|███       | 24/80 [00:00<00:00, 111.17it/s]\u001b[A\n",
      " 45%|████▌     | 36/80 [00:00<00:00, 108.65it/s]\u001b[A\n",
      " 60%|██████    | 48/80 [00:00<00:00, 109.56it/s]\u001b[A\n",
      " 79%|███████▉  | 63/80 [00:00<00:00, 122.64it/s]\u001b[A\n",
      "100%|██████████| 80/80 [00:00<00:00, 122.20it/s]\u001b[A\n",
      " 96%|█████████▌| 120/125 [02:12<00:06,  1.21s/it]"
     ]
    },
    {
     "name": "stdout",
     "output_type": "stream",
     "text": [
      "/home/jiang/projects/SubtleGAN/data/brats2021/val/BraTS2021_01054\n"
     ]
    },
    {
     "name": "stderr",
     "output_type": "stream",
     "text": [
      "\n",
      "  0%|          | 0/80 [00:00<?, ?it/s]\u001b[A\n",
      " 15%|█▌        | 12/80 [00:00<00:00, 115.10it/s]\u001b[A\n",
      " 30%|███       | 24/80 [00:00<00:00, 111.72it/s]\u001b[A\n",
      " 45%|████▌     | 36/80 [00:00<00:00, 110.81it/s]\u001b[A\n",
      " 60%|██████    | 48/80 [00:00<00:00, 108.41it/s]\u001b[A\n",
      " 74%|███████▍  | 59/80 [00:00<00:00, 105.33it/s]\u001b[A\n",
      "100%|██████████| 80/80 [00:00<00:00, 110.49it/s]\u001b[A\n",
      " 97%|█████████▋| 121/125 [02:13<00:04,  1.20s/it]"
     ]
    },
    {
     "name": "stdout",
     "output_type": "stream",
     "text": [
      "/home/jiang/projects/SubtleGAN/data/brats2021/val/BraTS2021_01116\n"
     ]
    },
    {
     "name": "stderr",
     "output_type": "stream",
     "text": [
      "\n",
      "  0%|          | 0/80 [00:00<?, ?it/s]\u001b[A\n",
      " 14%|█▍        | 11/80 [00:00<00:00, 108.68it/s]\u001b[A\n",
      " 31%|███▏      | 25/80 [00:00<00:00, 125.79it/s]\u001b[A\n",
      " 49%|████▉     | 39/80 [00:00<00:00, 130.61it/s]\u001b[A\n",
      " 68%|██████▊   | 54/80 [00:00<00:00, 138.00it/s]\u001b[A\n",
      "100%|██████████| 80/80 [00:00<00:00, 133.70it/s]\u001b[A\n",
      " 98%|█████████▊| 122/125 [02:14<00:03,  1.17s/it]"
     ]
    },
    {
     "name": "stdout",
     "output_type": "stream",
     "text": [
      "/home/jiang/projects/SubtleGAN/data/brats2021/val/BraTS2021_00286\n"
     ]
    },
    {
     "name": "stderr",
     "output_type": "stream",
     "text": [
      "\n",
      "  0%|          | 0/80 [00:00<?, ?it/s]\u001b[A\n",
      " 15%|█▌        | 12/80 [00:00<00:00, 119.72it/s]\u001b[A\n",
      " 32%|███▎      | 26/80 [00:00<00:00, 130.95it/s]\u001b[A\n",
      " 51%|█████▏    | 41/80 [00:00<00:00, 139.46it/s]\u001b[A\n",
      " 70%|███████   | 56/80 [00:00<00:00, 141.45it/s]\u001b[A\n",
      "100%|██████████| 80/80 [00:00<00:00, 140.10it/s]\u001b[A\n",
      " 98%|█████████▊| 123/125 [02:15<00:02,  1.13s/it]"
     ]
    },
    {
     "name": "stdout",
     "output_type": "stream",
     "text": [
      "/home/jiang/projects/SubtleGAN/data/brats2021/val/BraTS2021_01229\n"
     ]
    },
    {
     "name": "stderr",
     "output_type": "stream",
     "text": [
      "\n",
      "  0%|          | 0/80 [00:00<?, ?it/s]\u001b[A\n",
      " 20%|██        | 16/80 [00:00<00:00, 151.28it/s]\u001b[A\n",
      " 40%|████      | 32/80 [00:00<00:00, 146.45it/s]\u001b[A\n",
      " 59%|█████▉    | 47/80 [00:00<00:00, 141.50it/s]\u001b[A\n",
      " 78%|███████▊  | 62/80 [00:00<00:00, 143.34it/s]\u001b[A\n",
      "100%|██████████| 80/80 [00:00<00:00, 141.36it/s]\u001b[A\n",
      " 99%|█████████▉| 124/125 [02:16<00:01,  1.10s/it]"
     ]
    },
    {
     "name": "stdout",
     "output_type": "stream",
     "text": [
      "/home/jiang/projects/SubtleGAN/data/brats2021/val/BraTS2021_00292\n"
     ]
    },
    {
     "name": "stderr",
     "output_type": "stream",
     "text": [
      "\n",
      "  0%|          | 0/80 [00:00<?, ?it/s]\u001b[A\n",
      " 20%|██        | 16/80 [00:00<00:00, 158.52it/s]\u001b[A\n",
      " 40%|████      | 32/80 [00:00<00:00, 152.48it/s]\u001b[A\n",
      " 60%|██████    | 48/80 [00:00<00:00, 131.69it/s]\u001b[A\n",
      " 78%|███████▊  | 62/80 [00:00<00:00, 123.32it/s]\u001b[A\n",
      "100%|██████████| 80/80 [00:00<00:00, 123.85it/s]\u001b[A\n",
      "100%|██████████| 125/125 [02:17<00:00,  1.10s/it]\n"
     ]
    }
   ],
   "source": [
    "# preprocessing: padding to 256; divide each case by the mean\n",
    "data_types = ['train', 'test', 'val']\n",
    "start_idx = 50\n",
    "end_idx = 130\n",
    "for data_type in data_types:\n",
    "    data_dir = f'/home/jiang/projects/SubtleGAN/data/brats2021/{data_type}'\n",
    "    save_dir = f'/home/jiang/projects/SubtleGAN/data/brats2021_slices/{data_type}'\n",
    "    cases = glob.glob(f\"{data_dir}/Bra*\")\n",
    "    for case in tqdm(cases):\n",
    "        print(case)\n",
    "        case_name = case.split(\"/\")[-1]\n",
    "        save_case_dir = os.path.join(save_dir, case_name)\n",
    "        os.makedirs(save_case_dir, exist_ok=True)\n",
    "        t1 = preprocess_data(nib.load(glob.glob(f\"{case}/*_t1.nii.gz\")[0]).get_fdata())\n",
    "        t1ce = preprocess_data(nib.load(glob.glob(f\"{case}/*_t1ce.nii.gz\")[0]).get_fdata())\n",
    "        t2 = preprocess_data(nib.load(glob.glob(f\"{case}/*_t2.nii.gz\")[0]).get_fdata())\n",
    "        flair = preprocess_data(nib.load(glob.glob(f\"{case}/*_flair.nii.gz\")[0]).get_fdata())\n",
    "        for idx in trange(start_idx, end_idx):\n",
    "            slice_i = np.stack([t1[:, :, idx], t1ce[:, :, idx], t2[:, :, idx], flair[:, :, idx]], axis=0)\n",
    "            fn = os.path.join(save_case_dir, f\"{idx:03d}.npy\")\n",
    "            np.save(fn, slice_i)"
   ]
  },
  {
   "cell_type": "code",
   "execution_count": null,
   "id": "e40503e6",
   "metadata": {},
   "outputs": [],
   "source": [
    "# test dataloader\n",
    "from dataset_brats import BRATS_dataset, RandomGenerator\n",
    "from torchvision import transforms\n",
    "db_train = BRATS_dataset(base_dir='/raid/jiang/projects/SubtleGAN/data/brats_slices/HGG',split=\"train\",transform=transforms.Compose(\n",
    "                                   [RandomGenerator(scale=[0.9, 1.1], flip=True)]))"
   ]
  },
  {
   "cell_type": "code",
   "execution_count": null,
   "id": "e027e2cd",
   "metadata": {},
   "outputs": [],
   "source": [
    "import random\n",
    "from torch.utils.data import DataLoader\n",
    "def worker_init_fn(worker_id):\n",
    "    random.seed(1234 + worker_id)\n",
    "trainloader = DataLoader(db_train, batch_size=8, shuffle=True, num_workers=8, pin_memory=True, worker_init_fn=worker_init_fn)"
   ]
  },
  {
   "cell_type": "code",
   "execution_count": null,
   "id": "c1867107",
   "metadata": {},
   "outputs": [],
   "source": [
    "data = next(iter(trainloader))"
   ]
  },
  {
   "cell_type": "code",
   "execution_count": null,
   "id": "7edd43a6",
   "metadata": {},
   "outputs": [],
   "source": [
    "data[0].shape"
   ]
  },
  {
   "cell_type": "code",
   "execution_count": null,
   "id": "fff33033",
   "metadata": {},
   "outputs": [],
   "source": [
    "plt.imshow(data[0].numpy()[1][0], cmap='gray')"
   ]
  },
  {
   "cell_type": "code",
   "execution_count": null,
   "id": "6a7df180",
   "metadata": {},
   "outputs": [],
   "source": [
    "plt.imshow(data[1].numpy()[1][0], cmap='gray')"
   ]
  },
  {
   "cell_type": "code",
   "execution_count": null,
   "id": "8849935c",
   "metadata": {},
   "outputs": [],
   "source": [
    "plt.imshow(data[2].numpy()[1][0], cmap='gray')"
   ]
  },
  {
   "cell_type": "code",
   "execution_count": null,
   "id": "56773497",
   "metadata": {},
   "outputs": [],
   "source": [
    "plt.imshow(data[3].numpy()[1][0], cmap='gray')"
   ]
  },
  {
   "cell_type": "code",
   "execution_count": null,
   "id": "2632170c",
   "metadata": {},
   "outputs": [],
   "source": [
    "import torch\n",
    "from kornia.augmentation import RandomVerticalFlip, RandomAffine\n",
    "tensor = torch.from_numpy(t1[:, :, 100]).unsqueeze(0).unsqueeze(0)"
   ]
  },
  {
   "cell_type": "code",
   "execution_count": null,
   "id": "e1c2c377",
   "metadata": {},
   "outputs": [],
   "source": [
    "image_flip = RandomVerticalFlip(p=1)(tensor)\n",
    "plt.imshow(image_flip.numpy()[0][0], cmap='gray')"
   ]
  },
  {
   "cell_type": "code",
   "execution_count": null,
   "id": "34c194ed",
   "metadata": {},
   "outputs": [],
   "source": [
    "image_scale = RandomAffine(0, scale=[0.9, 1.1], p=1)(tensor)\n",
    "plt.imshow(image_scale.numpy()[0][0], cmap='gray')"
   ]
  },
  {
   "cell_type": "code",
   "execution_count": null,
   "id": "8c66042a",
   "metadata": {},
   "outputs": [],
   "source": []
  }
 ],
 "metadata": {
  "kernelspec": {
   "display_name": "Python 3",
   "language": "python",
   "name": "python3"
  },
  "language_info": {
   "codemirror_mode": {
    "name": "ipython",
    "version": 3
   },
   "file_extension": ".py",
   "mimetype": "text/x-python",
   "name": "python",
   "nbconvert_exporter": "python",
   "pygments_lexer": "ipython3",
   "version": "3.8.10"
  }
 },
 "nbformat": 4,
 "nbformat_minor": 5
}
