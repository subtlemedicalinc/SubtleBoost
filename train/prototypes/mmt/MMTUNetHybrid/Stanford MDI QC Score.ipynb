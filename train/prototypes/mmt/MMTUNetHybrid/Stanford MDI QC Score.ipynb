{
 "cells": [
  {
   "cell_type": "code",
   "execution_count": null,
   "id": "ec4e7778",
   "metadata": {},
   "outputs": [],
   "source": [
    "%reload_ext autoreload\n",
    "%autoreload 2\n",
    "\n",
    "import os\n",
    "from glob import glob\n",
    "import pandas as pd\n",
    "import QC\n",
    "from subtle.utils.io import get_dicom_dirs\n",
    "from tqdm.notebook import tqdm\n",
    "import logging\n",
    "import numpy as np\n",
    "import pydicom\n",
    "import shutil\n",
    "logging.getLogger(__name__).setLevel(logging.ERROR)\n",
    "\n",
    "os.environ[\"CUDA_DEVICE_ORDER\"] = \"PCI_BUS_ID\"\n",
    "os.environ[\"CUDA_VISIBLE_DEVICES\"] = \"0\"\n",
    "\n",
    "QC.util.defaults.QC_MODEL_PATH = '/home/srivathsa/projects/QualityControl/QC/QCapp/models'\n",
    "\n",
    "def get_binary_qual(qual_results, qual_thresh=0.85):\n",
    "    score = qual_results.mean(axis=1)\n",
    "    return score[0][0]"
   ]
  },
  {
   "cell_type": "code",
   "execution_count": null,
   "id": "f2317dc2",
   "metadata": {},
   "outputs": [],
   "source": [
    "df_qc = pd.read_csv('/home/srivathsa/projects/studies/gad/stanford/preprocess/data_mmt/qc_scores.csv')\n",
    "score_dict = df_qc.to_dict(orient='records')\n",
    "proc_cases = sorted([c['Case'] for c in score_dict])\n",
    "\n",
    "dcm_base = '/home/srivathsa/projects/studies/gad/stanford/data'\n",
    "mdi_test = '/home/srivathsa/projects/studies/gad/stanford/preprocess/data_mmt/fb_192x160'\n",
    "cases = sorted([f.split('/')[-1] for f in glob('{}/Patient*'.format(mdi_test))])\n",
    "cases = [c for c in cases if c not in proc_cases]\n",
    "\n",
    "qual_list = []\n",
    "\n",
    "for cnum in tqdm(cases, total=len(cases)):\n",
    "    print('Predicting {}...'.format(cnum))\n",
    "    try:\n",
    "        case_dir = os.path.join(dcm_base, cnum)\n",
    "        t1_pre, t1_post = get_dicom_dirs(case_dir)\n",
    "        dirs = [d for d in glob('{}/*'.format(case_dir))]\n",
    "        t2 = [d for d in dirs if 'T2' in d][0]\n",
    "        flair = [d for d in dirs if 'FLAIR' in d][0]\n",
    "\n",
    "        print(t1_pre, t1_post, t2, flair)\n",
    "\n",
    "        qual = QC.predict_image_quality_default([t1_pre, t1_post, t2, flair])\n",
    "        qual_list.append({\n",
    "            'Case': cnum,\n",
    "            'T1': get_binary_qual(qual[0]),\n",
    "            'T1CE': get_binary_qual(qual[1]),\n",
    "            'T2': get_binary_qual(qual[2]),\n",
    "            'FLAIR': get_binary_qual(qual[3])\n",
    "        })\n",
    "    except Exception as err:\n",
    "        print('Cannot process {}:{}'.format(cnum, err))"
   ]
  },
  {
   "cell_type": "code",
   "execution_count": null,
   "id": "6fdc7c05",
   "metadata": {},
   "outputs": [],
   "source": [
    "df2 = pd.DataFrame(qual_list)\n",
    "df_qual = pd.read_csv('/home/srivathsa/projects/studies/gad/stanford/preprocess/data_mmt/qc_scores.csv', \n",
    "                      index_col=[0])\n",
    "df_final = pd.concat([df_qual, df2])\n",
    "df_final.to_csv('/home/srivathsa/projects/studies/gad/stanford/preprocess/data_mmt/qc_scores.csv')"
   ]
  },
  {
   "cell_type": "code",
   "execution_count": null,
   "id": "db423f32",
   "metadata": {},
   "outputs": [],
   "source": [
    "df_qual = pd.read_csv('/home/srivathsa/projects/studies/gad/stanford/preprocess/data_mmt/qc_scores.csv', \n",
    "                      index_col=[0])\n",
    "df_qual['Mean'] = df_qual[['T1', 'T1CE', 'T2', 'FLAIR']].mean(axis=1)\n",
    "df_qual.sort_values('Mean')"
   ]
  },
  {
   "cell_type": "code",
   "execution_count": null,
   "id": "f698c8a0",
   "metadata": {},
   "outputs": [],
   "source": [
    "df_low_qual = df_qual.query('Mean <= 0.45')\n",
    "df_low_qual.shape[0]"
   ]
  },
  {
   "cell_type": "code",
   "execution_count": null,
   "id": "498829d4",
   "metadata": {},
   "outputs": [],
   "source": [
    "all_cases = sorted(df_qual.Case.tolist())\n",
    "test_cases = sorted(df_low_qual.Case.tolist())\n",
    "rem_cases = [c for c in all_cases if c not in test_cases]\n",
    "train_cases = np.random.choice(rem_cases, size=475, replace=False)\n",
    "val_cases = [c for c in rem_cases if c not in train_cases]"
   ]
  },
  {
   "cell_type": "code",
   "execution_count": null,
   "id": "a1c3911c",
   "metadata": {},
   "outputs": [],
   "source": [
    "print(len(train_cases))\n",
    "print(len(val_cases))\n",
    "print(len(test_cases))"
   ]
  },
  {
   "cell_type": "code",
   "execution_count": null,
   "id": "af822061",
   "metadata": {},
   "outputs": [],
   "source": [
    "base = '/home/srivathsa/projects/studies/gad/stanford/preprocess/data_mmt/full_brain_256'\n",
    "\n",
    "for cnum in test_cases:\n",
    "    shutil.move('{}/{}'.format(base, cnum), '{}/test/{}'.format(base, cnum))\n",
    "    "
   ]
  },
  {
   "cell_type": "code",
   "execution_count": null,
   "id": "2b1b7d20",
   "metadata": {},
   "outputs": [],
   "source": []
  }
 ],
 "metadata": {
  "kernelspec": {
   "display_name": "qcmodule",
   "language": "python",
   "name": "qcmodule"
  },
  "language_info": {
   "codemirror_mode": {
    "name": "ipython",
    "version": 3
   },
   "file_extension": ".py",
   "mimetype": "text/x-python",
   "name": "python",
   "nbconvert_exporter": "python",
   "pygments_lexer": "ipython3",
   "version": "3.9.0"
  }
 },
 "nbformat": 4,
 "nbformat_minor": 5
}
