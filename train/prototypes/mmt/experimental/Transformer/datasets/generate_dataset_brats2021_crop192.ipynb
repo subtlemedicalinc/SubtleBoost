{
 "cells": [
  {
   "cell_type": "code",
   "execution_count": 1,
   "id": "d694463a",
   "metadata": {},
   "outputs": [],
   "source": [
    "import os\n",
    "import numpy as np\n",
    "import nibabel as nib\n",
    "import glob\n",
    "import matplotlib.pyplot as plt\n",
    "from tqdm import tqdm, trange"
   ]
  },
  {
   "cell_type": "code",
   "execution_count": 7,
   "id": "16a74032",
   "metadata": {},
   "outputs": [],
   "source": [
    "def preprocess_data(data):\n",
    "    data = data/data.mean()\n",
    "    data = data[22:214, 32:224, :]\n",
    "    #data = np.pad(data, ((8,8), (8,8), (0,0)), 'constant', constant_values=0)\n",
    "    return data"
   ]
  },
  {
   "cell_type": "code",
   "execution_count": null,
   "id": "5f1d8666",
   "metadata": {},
   "outputs": [
    {
     "name": "stderr",
     "output_type": "stream",
     "text": [
      "  0%|          | 0/1125 [00:00<?, ?it/s]"
     ]
    },
    {
     "name": "stdout",
     "output_type": "stream",
     "text": [
      "/home/jiang/projects/SubtleGAN/data/brats2021/train/BraTS2021_00060\n"
     ]
    },
    {
     "name": "stderr",
     "output_type": "stream",
     "text": [
      "\n",
      "  0%|          | 0/80 [00:00<?, ?it/s]\u001b[A\n",
      " 25%|██▌       | 20/80 [00:00<00:00, 199.23it/s]\u001b[A\n",
      " 51%|█████▏    | 41/80 [00:00<00:00, 199.76it/s]\u001b[A\n",
      "100%|██████████| 80/80 [00:00<00:00, 189.23it/s]\u001b[A\n",
      "  0%|          | 1/1125 [00:01<19:31,  1.04s/it]"
     ]
    },
    {
     "name": "stdout",
     "output_type": "stream",
     "text": [
      "/home/jiang/projects/SubtleGAN/data/brats2021/train/BraTS2021_01487\n"
     ]
    },
    {
     "name": "stderr",
     "output_type": "stream",
     "text": [
      "\n",
      "  0%|          | 0/80 [00:00<?, ?it/s]\u001b[A\n",
      " 25%|██▌       | 20/80 [00:00<00:00, 199.19it/s]\u001b[A\n",
      " 50%|█████     | 40/80 [00:00<00:00, 197.95it/s]\u001b[A\n",
      " 75%|███████▌  | 60/80 [00:00<00:00, 191.66it/s]\u001b[A\n",
      "100%|██████████| 80/80 [00:00<00:00, 119.52it/s]\u001b[A\n",
      "  0%|          | 2/1125 [00:02<20:27,  1.09s/it]"
     ]
    },
    {
     "name": "stdout",
     "output_type": "stream",
     "text": [
      "/home/jiang/projects/SubtleGAN/data/brats2021/train/BraTS2021_01234\n"
     ]
    },
    {
     "name": "stderr",
     "output_type": "stream",
     "text": [
      "\n",
      "  0%|          | 0/80 [00:00<?, ?it/s]\u001b[A\n",
      "  8%|▊         | 6/80 [00:00<00:01, 58.86it/s]\u001b[A\n",
      " 24%|██▍       | 19/80 [00:00<00:00, 99.25it/s]\u001b[A\n",
      " 48%|████▊     | 38/80 [00:00<00:00, 137.61it/s]\u001b[A\n",
      " 71%|███████▏  | 57/80 [00:00<00:00, 157.36it/s]\u001b[A\n",
      "100%|██████████| 80/80 [00:00<00:00, 144.15it/s]\u001b[A\n",
      "  0%|          | 3/1125 [00:03<20:44,  1.11s/it]"
     ]
    },
    {
     "name": "stdout",
     "output_type": "stream",
     "text": [
      "/home/jiang/projects/SubtleGAN/data/brats2021/train/BraTS2021_00392\n"
     ]
    },
    {
     "name": "stderr",
     "output_type": "stream",
     "text": [
      "\n",
      "  0%|          | 0/80 [00:00<?, ?it/s]\u001b[A\n",
      " 28%|██▊       | 22/80 [00:00<00:00, 210.32it/s]\u001b[A\n",
      " 55%|█████▌    | 44/80 [00:00<00:00, 201.73it/s]\u001b[A\n",
      "100%|██████████| 80/80 [00:00<00:00, 191.03it/s]\u001b[A\n",
      "  0%|          | 4/1125 [00:04<19:03,  1.02s/it]"
     ]
    },
    {
     "name": "stdout",
     "output_type": "stream",
     "text": [
      "/home/jiang/projects/SubtleGAN/data/brats2021/train/BraTS2021_01613\n"
     ]
    },
    {
     "name": "stderr",
     "output_type": "stream",
     "text": [
      "\n",
      "  0%|          | 0/80 [00:00<?, ?it/s]\u001b[A\n",
      " 28%|██▊       | 22/80 [00:00<00:00, 212.58it/s]\u001b[A\n",
      " 55%|█████▌    | 44/80 [00:00<00:00, 202.74it/s]\u001b[A\n",
      "100%|██████████| 80/80 [00:00<00:00, 160.40it/s]\u001b[A\n",
      "  0%|          | 5/1125 [00:05<20:54,  1.12s/it]"
     ]
    },
    {
     "name": "stdout",
     "output_type": "stream",
     "text": [
      "/home/jiang/projects/SubtleGAN/data/brats2021/train/BraTS2021_01663\n"
     ]
    },
    {
     "name": "stderr",
     "output_type": "stream",
     "text": [
      "\n",
      "  0%|          | 0/80 [00:00<?, ?it/s]\u001b[A\n",
      " 25%|██▌       | 20/80 [00:00<00:00, 197.96it/s]\u001b[A\n",
      " 50%|█████     | 40/80 [00:00<00:00, 193.73it/s]\u001b[A\n",
      " 75%|███████▌  | 60/80 [00:00<00:00, 186.59it/s]\u001b[A\n",
      "100%|██████████| 80/80 [00:00<00:00, 188.77it/s]\u001b[A\n",
      "  1%|          | 6/1125 [00:06<19:30,  1.05s/it]"
     ]
    },
    {
     "name": "stdout",
     "output_type": "stream",
     "text": [
      "/home/jiang/projects/SubtleGAN/data/brats2021/train/BraTS2021_00068\n"
     ]
    },
    {
     "name": "stderr",
     "output_type": "stream",
     "text": [
      "\n",
      "  0%|          | 0/80 [00:00<?, ?it/s]\u001b[A\n",
      " 24%|██▍       | 19/80 [00:00<00:00, 185.75it/s]\u001b[A\n",
      " 49%|████▉     | 39/80 [00:00<00:00, 191.20it/s]\u001b[A\n",
      " 74%|███████▍  | 59/80 [00:00<00:00, 186.63it/s]\u001b[A\n",
      "100%|██████████| 80/80 [00:00<00:00, 183.50it/s]\u001b[A\n",
      "  1%|          | 7/1125 [00:07<17:58,  1.04it/s]"
     ]
    },
    {
     "name": "stdout",
     "output_type": "stream",
     "text": [
      "/home/jiang/projects/SubtleGAN/data/brats2021/train/BraTS2021_00697\n"
     ]
    },
    {
     "name": "stderr",
     "output_type": "stream",
     "text": [
      "\n",
      "  0%|          | 0/80 [00:00<?, ?it/s]\u001b[A\n",
      " 26%|██▋       | 21/80 [00:00<00:00, 202.10it/s]\u001b[A\n",
      " 52%|█████▎    | 42/80 [00:00<00:00, 202.92it/s]\u001b[A\n",
      "100%|██████████| 80/80 [00:00<00:00, 204.01it/s]\u001b[A\n",
      "  1%|          | 8/1125 [00:07<16:44,  1.11it/s]"
     ]
    },
    {
     "name": "stdout",
     "output_type": "stream",
     "text": [
      "/home/jiang/projects/SubtleGAN/data/brats2021/train/BraTS2021_00025\n"
     ]
    },
    {
     "name": "stderr",
     "output_type": "stream",
     "text": [
      "\n",
      "  0%|          | 0/80 [00:00<?, ?it/s]\u001b[A\n",
      " 25%|██▌       | 20/80 [00:00<00:00, 198.73it/s]\u001b[A\n",
      " 50%|█████     | 40/80 [00:00<00:00, 193.62it/s]\u001b[A\n",
      "100%|██████████| 80/80 [00:00<00:00, 198.31it/s]\u001b[A\n",
      "  1%|          | 9/1125 [00:08<15:58,  1.16it/s]"
     ]
    },
    {
     "name": "stdout",
     "output_type": "stream",
     "text": [
      "/home/jiang/projects/SubtleGAN/data/brats2021/train/BraTS2021_01120\n"
     ]
    },
    {
     "name": "stderr",
     "output_type": "stream",
     "text": [
      "\n",
      "  0%|          | 0/80 [00:00<?, ?it/s]\u001b[A\n",
      " 26%|██▋       | 21/80 [00:00<00:00, 209.95it/s]\u001b[A\n",
      " 54%|█████▍    | 43/80 [00:00<00:00, 209.51it/s]\u001b[A\n",
      "100%|██████████| 80/80 [00:00<00:00, 198.49it/s]\u001b[A\n",
      "  1%|          | 10/1125 [00:09<15:51,  1.17it/s]"
     ]
    },
    {
     "name": "stdout",
     "output_type": "stream",
     "text": [
      "/home/jiang/projects/SubtleGAN/data/brats2021/train/BraTS2021_00436\n"
     ]
    },
    {
     "name": "stderr",
     "output_type": "stream",
     "text": [
      "\n",
      "  0%|          | 0/80 [00:00<?, ?it/s]\u001b[A\n",
      " 28%|██▊       | 22/80 [00:00<00:00, 214.97it/s]\u001b[A\n",
      " 55%|█████▌    | 44/80 [00:00<00:00, 205.16it/s]\u001b[A\n",
      "100%|██████████| 80/80 [00:00<00:00, 196.75it/s]\u001b[A\n",
      "  1%|          | 11/1125 [00:10<15:50,  1.17it/s]"
     ]
    },
    {
     "name": "stdout",
     "output_type": "stream",
     "text": [
      "/home/jiang/projects/SubtleGAN/data/brats2021/train/BraTS2021_00099\n"
     ]
    },
    {
     "name": "stderr",
     "output_type": "stream",
     "text": [
      "\n",
      "  0%|          | 0/80 [00:00<?, ?it/s]\u001b[A\n",
      " 26%|██▋       | 21/80 [00:00<00:00, 204.58it/s]\u001b[A\n",
      " 52%|█████▎    | 42/80 [00:00<00:00, 205.72it/s]\u001b[A\n",
      "100%|██████████| 80/80 [00:00<00:00, 194.00it/s]\u001b[A\n",
      "  1%|          | 12/1125 [00:11<15:22,  1.21it/s]"
     ]
    },
    {
     "name": "stdout",
     "output_type": "stream",
     "text": [
      "/home/jiang/projects/SubtleGAN/data/brats2021/train/BraTS2021_00650\n"
     ]
    },
    {
     "name": "stderr",
     "output_type": "stream",
     "text": [
      "\n",
      "  0%|          | 0/80 [00:00<?, ?it/s]\u001b[A\n",
      " 28%|██▊       | 22/80 [00:00<00:00, 217.97it/s]\u001b[A\n",
      " 55%|█████▌    | 44/80 [00:00<00:00, 205.18it/s]\u001b[A\n",
      "100%|██████████| 80/80 [00:00<00:00, 206.77it/s]\u001b[A\n",
      "  1%|          | 13/1125 [00:11<14:58,  1.24it/s]"
     ]
    },
    {
     "name": "stdout",
     "output_type": "stream",
     "text": [
      "/home/jiang/projects/SubtleGAN/data/brats2021/train/BraTS2021_00775\n"
     ]
    },
    {
     "name": "stderr",
     "output_type": "stream",
     "text": [
      "\n",
      "  0%|          | 0/80 [00:00<?, ?it/s]\u001b[A\n",
      " 26%|██▋       | 21/80 [00:00<00:00, 202.24it/s]\u001b[A\n",
      " 52%|█████▎    | 42/80 [00:00<00:00, 196.55it/s]\u001b[A\n",
      "100%|██████████| 80/80 [00:00<00:00, 194.86it/s]\u001b[A\n",
      "  1%|          | 14/1125 [00:12<14:46,  1.25it/s]"
     ]
    },
    {
     "name": "stdout",
     "output_type": "stream",
     "text": [
      "/home/jiang/projects/SubtleGAN/data/brats2021/train/BraTS2021_01106\n"
     ]
    },
    {
     "name": "stderr",
     "output_type": "stream",
     "text": [
      "\n",
      "  0%|          | 0/80 [00:00<?, ?it/s]\u001b[A\n",
      " 28%|██▊       | 22/80 [00:00<00:00, 212.60it/s]\u001b[A\n",
      " 55%|█████▌    | 44/80 [00:00<00:00, 200.58it/s]\u001b[A\n",
      "100%|██████████| 80/80 [00:00<00:00, 201.91it/s]\u001b[A\n",
      "  1%|▏         | 15/1125 [00:13<15:07,  1.22it/s]"
     ]
    },
    {
     "name": "stdout",
     "output_type": "stream",
     "text": [
      "/home/jiang/projects/SubtleGAN/data/brats2021/train/BraTS2021_00433\n"
     ]
    },
    {
     "name": "stderr",
     "output_type": "stream",
     "text": [
      "\n",
      "  0%|          | 0/80 [00:00<?, ?it/s]\u001b[A\n",
      " 29%|██▉       | 23/80 [00:00<00:00, 224.18it/s]\u001b[A\n",
      " 57%|█████▊    | 46/80 [00:00<00:00, 213.92it/s]\u001b[A\n",
      "100%|██████████| 80/80 [00:00<00:00, 205.31it/s]\u001b[A\n",
      "  1%|▏         | 16/1125 [00:14<15:11,  1.22it/s]"
     ]
    },
    {
     "name": "stdout",
     "output_type": "stream",
     "text": [
      "/home/jiang/projects/SubtleGAN/data/brats2021/train/BraTS2021_01073\n"
     ]
    },
    {
     "name": "stderr",
     "output_type": "stream",
     "text": [
      "\n",
      "  0%|          | 0/80 [00:00<?, ?it/s]\u001b[A\n",
      " 28%|██▊       | 22/80 [00:00<00:00, 212.27it/s]\u001b[A\n",
      " 55%|█████▌    | 44/80 [00:00<00:00, 208.94it/s]\u001b[A\n",
      "100%|██████████| 80/80 [00:00<00:00, 196.25it/s]\u001b[A\n",
      "  2%|▏         | 17/1125 [00:15<15:17,  1.21it/s]"
     ]
    },
    {
     "name": "stdout",
     "output_type": "stream",
     "text": [
      "/home/jiang/projects/SubtleGAN/data/brats2021/train/BraTS2021_00525\n"
     ]
    },
    {
     "name": "stderr",
     "output_type": "stream",
     "text": [
      "\n",
      "  0%|          | 0/80 [00:00<?, ?it/s]\u001b[A\n",
      " 32%|███▎      | 26/80 [00:00<00:00, 253.06it/s]\u001b[A\n",
      " 65%|██████▌   | 52/80 [00:00<00:00, 249.87it/s]\u001b[A\n",
      "100%|██████████| 80/80 [00:00<00:00, 249.02it/s]\u001b[A\n",
      "  2%|▏         | 18/1125 [00:15<14:38,  1.26it/s]"
     ]
    },
    {
     "name": "stdout",
     "output_type": "stream",
     "text": [
      "/home/jiang/projects/SubtleGAN/data/brats2021/train/BraTS2021_00401\n"
     ]
    },
    {
     "name": "stderr",
     "output_type": "stream",
     "text": [
      "\n",
      "  0%|          | 0/80 [00:00<?, ?it/s]\u001b[A\n",
      " 32%|███▎      | 26/80 [00:00<00:00, 253.56it/s]\u001b[A\n",
      " 65%|██████▌   | 52/80 [00:00<00:00, 235.63it/s]\u001b[A\n",
      "100%|██████████| 80/80 [00:00<00:00, 235.98it/s]\u001b[A\n",
      "  2%|▏         | 19/1125 [00:16<15:13,  1.21it/s]"
     ]
    },
    {
     "name": "stdout",
     "output_type": "stream",
     "text": [
      "/home/jiang/projects/SubtleGAN/data/brats2021/train/BraTS2021_00166\n"
     ]
    },
    {
     "name": "stderr",
     "output_type": "stream",
     "text": [
      "\n",
      "  0%|          | 0/80 [00:00<?, ?it/s]\u001b[A\n",
      " 32%|███▎      | 26/80 [00:00<00:00, 250.58it/s]\u001b[A\n",
      " 65%|██████▌   | 52/80 [00:00<00:00, 251.93it/s]\u001b[A\n",
      "100%|██████████| 80/80 [00:00<00:00, 248.81it/s]\u001b[A\n",
      "  2%|▏         | 20/1125 [00:17<15:22,  1.20it/s]"
     ]
    },
    {
     "name": "stdout",
     "output_type": "stream",
     "text": [
      "/home/jiang/projects/SubtleGAN/data/brats2021/train/BraTS2021_01130\n"
     ]
    },
    {
     "name": "stderr",
     "output_type": "stream",
     "text": [
      "\n",
      "  0%|          | 0/80 [00:00<?, ?it/s]\u001b[A\n",
      " 31%|███▏      | 25/80 [00:00<00:00, 242.99it/s]\u001b[A\n",
      " 62%|██████▎   | 50/80 [00:00<00:00, 232.48it/s]\u001b[A\n",
      "100%|██████████| 80/80 [00:00<00:00, 234.97it/s]\u001b[A\n",
      "  2%|▏         | 21/1125 [00:18<15:49,  1.16it/s]"
     ]
    },
    {
     "name": "stdout",
     "output_type": "stream",
     "text": [
      "/home/jiang/projects/SubtleGAN/data/brats2021/train/BraTS2021_00017\n"
     ]
    },
    {
     "name": "stderr",
     "output_type": "stream",
     "text": [
      "\n",
      "  0%|          | 0/80 [00:00<?, ?it/s]\u001b[A\n",
      " 30%|███       | 24/80 [00:00<00:00, 239.87it/s]\u001b[A\n",
      " 62%|██████▎   | 50/80 [00:00<00:00, 246.28it/s]\u001b[A\n",
      "100%|██████████| 80/80 [00:00<00:00, 233.62it/s]\u001b[A\n",
      "  2%|▏         | 22/1125 [00:19<15:34,  1.18it/s]"
     ]
    },
    {
     "name": "stdout",
     "output_type": "stream",
     "text": [
      "/home/jiang/projects/SubtleGAN/data/brats2021/train/BraTS2021_01616\n"
     ]
    },
    {
     "name": "stderr",
     "output_type": "stream",
     "text": [
      "\n",
      "  0%|          | 0/80 [00:00<?, ?it/s]\u001b[A\n",
      " 31%|███▏      | 25/80 [00:00<00:00, 237.38it/s]\u001b[A\n",
      " 62%|██████▎   | 50/80 [00:00<00:00, 240.45it/s]\u001b[A\n",
      "100%|██████████| 80/80 [00:00<00:00, 236.23it/s]\u001b[A\n",
      "  2%|▏         | 23/1125 [00:20<17:37,  1.04it/s]"
     ]
    },
    {
     "name": "stdout",
     "output_type": "stream",
     "text": [
      "/home/jiang/projects/SubtleGAN/data/brats2021/train/BraTS2021_00306\n"
     ]
    },
    {
     "name": "stderr",
     "output_type": "stream",
     "text": [
      "\n",
      "  0%|          | 0/80 [00:00<?, ?it/s]\u001b[A\n",
      " 34%|███▍      | 27/80 [00:00<00:00, 262.18it/s]\u001b[A\n",
      " 68%|██████▊   | 54/80 [00:00<00:00, 255.92it/s]\u001b[A\n",
      "100%|██████████| 80/80 [00:00<00:00, 250.81it/s]\u001b[A\n",
      "  2%|▏         | 24/1125 [00:21<16:54,  1.09it/s]"
     ]
    },
    {
     "name": "stdout",
     "output_type": "stream",
     "text": [
      "/home/jiang/projects/SubtleGAN/data/brats2021/train/BraTS2021_00410\n"
     ]
    },
    {
     "name": "stderr",
     "output_type": "stream",
     "text": [
      "\n",
      "  0%|          | 0/80 [00:00<?, ?it/s]\u001b[A\n",
      " 31%|███▏      | 25/80 [00:00<00:00, 249.05it/s]\u001b[A\n",
      " 62%|██████▎   | 50/80 [00:00<00:00, 242.07it/s]\u001b[A\n",
      "100%|██████████| 80/80 [00:00<00:00, 241.85it/s]\u001b[A\n",
      "  2%|▏         | 25/1125 [00:22<16:43,  1.10it/s]"
     ]
    },
    {
     "name": "stdout",
     "output_type": "stream",
     "text": [
      "/home/jiang/projects/SubtleGAN/data/brats2021/train/BraTS2021_01443\n"
     ]
    },
    {
     "name": "stderr",
     "output_type": "stream",
     "text": [
      "\n",
      "  0%|          | 0/80 [00:00<?, ?it/s]\u001b[A\n",
      " 32%|███▎      | 26/80 [00:00<00:00, 252.97it/s]\u001b[A\n",
      " 65%|██████▌   | 52/80 [00:00<00:00, 241.98it/s]\u001b[A\n",
      "100%|██████████| 80/80 [00:00<00:00, 240.97it/s]\u001b[A\n",
      "  2%|▏         | 26/1125 [00:23<16:32,  1.11it/s]"
     ]
    },
    {
     "name": "stdout",
     "output_type": "stream",
     "text": [
      "/home/jiang/projects/SubtleGAN/data/brats2021/train/BraTS2021_01230\n"
     ]
    },
    {
     "name": "stderr",
     "output_type": "stream",
     "text": [
      "\n",
      "  0%|          | 0/80 [00:00<?, ?it/s]\u001b[A\n",
      " 31%|███▏      | 25/80 [00:00<00:00, 249.67it/s]\u001b[A\n",
      " 62%|██████▎   | 50/80 [00:00<00:00, 248.84it/s]\u001b[A\n",
      "100%|██████████| 80/80 [00:00<00:00, 243.66it/s]\u001b[A\n",
      "  2%|▏         | 27/1125 [00:24<16:28,  1.11it/s]"
     ]
    },
    {
     "name": "stdout",
     "output_type": "stream",
     "text": [
      "/home/jiang/projects/SubtleGAN/data/brats2021/train/BraTS2021_00831\n"
     ]
    },
    {
     "name": "stderr",
     "output_type": "stream",
     "text": [
      "\n",
      "  0%|          | 0/80 [00:00<?, ?it/s]\u001b[A\n",
      " 31%|███▏      | 25/80 [00:00<00:00, 243.33it/s]\u001b[A\n",
      " 62%|██████▎   | 50/80 [00:00<00:00, 239.74it/s]\u001b[A\n",
      "100%|██████████| 80/80 [00:00<00:00, 232.90it/s]\u001b[A\n",
      "  2%|▏         | 28/1125 [00:25<16:23,  1.12it/s]"
     ]
    },
    {
     "name": "stdout",
     "output_type": "stream",
     "text": [
      "/home/jiang/projects/SubtleGAN/data/brats2021/train/BraTS2021_00230\n"
     ]
    },
    {
     "name": "stderr",
     "output_type": "stream",
     "text": [
      "\n",
      "  0%|          | 0/80 [00:00<?, ?it/s]\u001b[A\n",
      " 12%|█▎        | 10/80 [00:00<00:00, 92.79it/s]\u001b[A\n",
      " 32%|███▎      | 26/80 [00:00<00:00, 128.80it/s]\u001b[A\n",
      " 61%|██████▏   | 49/80 [00:00<00:00, 172.24it/s]\u001b[A\n",
      "100%|██████████| 80/80 [00:00<00:00, 175.25it/s]\u001b[A\n",
      "  3%|▎         | 29/1125 [00:26<17:00,  1.07it/s]"
     ]
    },
    {
     "name": "stdout",
     "output_type": "stream",
     "text": [
      "/home/jiang/projects/SubtleGAN/data/brats2021/train/BraTS2021_01244\n"
     ]
    }
   ],
   "source": [
    "# preprocessing: divide each case by the mean\n",
    "data_types = ['train', 'test', 'val']\n",
    "start_idx = 50\n",
    "end_idx = 130\n",
    "for data_type in data_types:\n",
    "    data_dir = f'/home/jiang/projects/SubtleGAN/data/brats2021/{data_type}'\n",
    "    save_dir = f'/home/jiang/projects/SubtleGAN/data/brats2021_slices_crop192/{data_type}'\n",
    "    cases = glob.glob(f\"{data_dir}/Bra*\")\n",
    "    for case in tqdm(cases):\n",
    "        print(case)\n",
    "        case_name = case.split(\"/\")[-1]\n",
    "        save_case_dir = os.path.join(save_dir, case_name)\n",
    "        os.makedirs(save_case_dir, exist_ok=True)\n",
    "        t1 = preprocess_data(nib.load(glob.glob(f\"{case}/*_t1.nii.gz\")[0]).get_fdata())\n",
    "        t1ce = preprocess_data(nib.load(glob.glob(f\"{case}/*_t1ce.nii.gz\")[0]).get_fdata())\n",
    "        t2 = preprocess_data(nib.load(glob.glob(f\"{case}/*_t2.nii.gz\")[0]).get_fdata())\n",
    "        flair = preprocess_data(nib.load(glob.glob(f\"{case}/*_flair.nii.gz\")[0]).get_fdata())\n",
    "        for idx in trange(start_idx, end_idx):\n",
    "            slice_i = np.stack([t1[:, :, idx], t1ce[:, :, idx], t2[:, :, idx], flair[:, :, idx]], axis=0)\n",
    "            fn = os.path.join(save_case_dir, f\"{idx:03d}.npy\")\n",
    "            np.save(fn, slice_i)"
   ]
  },
  {
   "cell_type": "code",
   "execution_count": null,
   "id": "e40503e6",
   "metadata": {},
   "outputs": [],
   "source": [
    "# test dataloader\n",
    "from dataset_brats import BRATS_dataset, RandomGenerator\n",
    "from torchvision import transforms\n",
    "db_train = BRATS_dataset(base_dir='/raid/jiang/projects/SubtleGAN/data/brats_slices/HGG',split=\"train\",transform=transforms.Compose(\n",
    "                                   [RandomGenerator(scale=[0.9, 1.1], flip=True)]))"
   ]
  },
  {
   "cell_type": "code",
   "execution_count": null,
   "id": "e027e2cd",
   "metadata": {},
   "outputs": [],
   "source": [
    "import random\n",
    "from torch.utils.data import DataLoader\n",
    "def worker_init_fn(worker_id):\n",
    "    random.seed(1234 + worker_id)\n",
    "trainloader = DataLoader(db_train, batch_size=8, shuffle=True, num_workers=8, pin_memory=True, worker_init_fn=worker_init_fn)"
   ]
  },
  {
   "cell_type": "code",
   "execution_count": null,
   "id": "c1867107",
   "metadata": {},
   "outputs": [],
   "source": [
    "data = next(iter(trainloader))"
   ]
  },
  {
   "cell_type": "code",
   "execution_count": null,
   "id": "7edd43a6",
   "metadata": {},
   "outputs": [],
   "source": [
    "data[0].shape"
   ]
  },
  {
   "cell_type": "code",
   "execution_count": null,
   "id": "fff33033",
   "metadata": {},
   "outputs": [],
   "source": [
    "plt.imshow(data[0].numpy()[1][0], cmap='gray')"
   ]
  },
  {
   "cell_type": "code",
   "execution_count": null,
   "id": "6a7df180",
   "metadata": {},
   "outputs": [],
   "source": [
    "plt.imshow(data[1].numpy()[1][0], cmap='gray')"
   ]
  },
  {
   "cell_type": "code",
   "execution_count": null,
   "id": "8849935c",
   "metadata": {},
   "outputs": [],
   "source": [
    "plt.imshow(data[2].numpy()[1][0], cmap='gray')"
   ]
  },
  {
   "cell_type": "code",
   "execution_count": null,
   "id": "56773497",
   "metadata": {},
   "outputs": [],
   "source": [
    "plt.imshow(data[3].numpy()[1][0], cmap='gray')"
   ]
  },
  {
   "cell_type": "code",
   "execution_count": null,
   "id": "2632170c",
   "metadata": {},
   "outputs": [],
   "source": [
    "import torch\n",
    "from kornia.augmentation import RandomVerticalFlip, RandomAffine\n",
    "tensor = torch.from_numpy(t1[:, :, 100]).unsqueeze(0).unsqueeze(0)"
   ]
  },
  {
   "cell_type": "code",
   "execution_count": null,
   "id": "e1c2c377",
   "metadata": {},
   "outputs": [],
   "source": [
    "image_flip = RandomVerticalFlip(p=1)(tensor)\n",
    "plt.imshow(image_flip.numpy()[0][0], cmap='gray')"
   ]
  },
  {
   "cell_type": "code",
   "execution_count": null,
   "id": "34c194ed",
   "metadata": {},
   "outputs": [],
   "source": [
    "image_scale = RandomAffine(0, scale=[0.9, 1.1], p=1)(tensor)\n",
    "plt.imshow(image_scale.numpy()[0][0], cmap='gray')"
   ]
  },
  {
   "cell_type": "code",
   "execution_count": 5,
   "id": "8c66042a",
   "metadata": {},
   "outputs": [
    {
     "data": {
      "text/plain": [
       "(192, 192, 155)"
      ]
     },
     "execution_count": 5,
     "metadata": {},
     "output_type": "execute_result"
    }
   ],
   "source": [
    "t1.shape"
   ]
  },
  {
   "cell_type": "code",
   "execution_count": null,
   "id": "4462b028",
   "metadata": {},
   "outputs": [],
   "source": []
  }
 ],
 "metadata": {
  "kernelspec": {
   "display_name": "Python 3",
   "language": "python",
   "name": "python3"
  },
  "language_info": {
   "codemirror_mode": {
    "name": "ipython",
    "version": 3
   },
   "file_extension": ".py",
   "mimetype": "text/x-python",
   "name": "python",
   "nbconvert_exporter": "python",
   "pygments_lexer": "ipython3",
   "version": "3.9.5"
  }
 },
 "nbformat": 4,
 "nbformat_minor": 5
}
