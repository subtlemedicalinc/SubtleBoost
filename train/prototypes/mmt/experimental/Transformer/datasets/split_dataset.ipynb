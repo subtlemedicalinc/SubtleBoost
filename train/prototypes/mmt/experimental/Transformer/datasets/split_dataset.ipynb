{
 "cells": [
  {
   "cell_type": "code",
   "execution_count": 1,
   "id": "3cac2bb9",
   "metadata": {},
   "outputs": [],
   "source": [
    "import SimpleITK as sitk\n",
    "import numpy as np\n",
    "import matplotlib.pyplot as plt\n",
    "import os\n",
    "import glob\n",
    "import random"
   ]
  },
  {
   "cell_type": "code",
   "execution_count": 48,
   "id": "f4ccef14",
   "metadata": {},
   "outputs": [],
   "source": [
    "n_train = 180\n",
    "n_val = 15\n",
    "n_test = 15\n",
    "train_dir = '/raid/jiang/projects/SubtleGAN/data/brats/HGG/train/'\n",
    "test_dir = '/raid/jiang/projects/SubtleGAN/data/brats/HGG/test/'\n",
    "val_dir = '/raid/jiang/projects/SubtleGAN/data/brats/HGG/val/'\n",
    "os.makedirs(train_dir, exist_ok=True)\n",
    "os.makedirs(test_dir, exist_ok=True)\n",
    "os.makedirs(val_dir, exist_ok=True)"
   ]
  },
  {
   "cell_type": "code",
   "execution_count": 51,
   "id": "3e56e9df",
   "metadata": {},
   "outputs": [
    {
     "name": "stdout",
     "output_type": "stream",
     "text": [
      "ln -s /mnt/datasets/srivathsa/brats/HGG/Brats18_TCIA08_242_1 /raid/jiang/projects/SubtleGAN/data/brats/HGG/train/\n",
      "ln -s /mnt/datasets/srivathsa/brats/HGG/Brats18_2013_25_1 /raid/jiang/projects/SubtleGAN/data/brats/HGG/train/\n",
      "ln -s /mnt/datasets/srivathsa/brats/HGG/Brats18_TCIA04_149_1 /raid/jiang/projects/SubtleGAN/data/brats/HGG/train/\n",
      "ln -s /mnt/datasets/srivathsa/brats/HGG/Brats18_TCIA01_401_1 /raid/jiang/projects/SubtleGAN/data/brats/HGG/train/\n",
      "ln -s /mnt/datasets/srivathsa/brats/HGG/Brats18_TCIA01_180_1 /raid/jiang/projects/SubtleGAN/data/brats/HGG/train/\n",
      "ln -s /mnt/datasets/srivathsa/brats/HGG/Brats18_CBICA_AUR_1 /raid/jiang/projects/SubtleGAN/data/brats/HGG/train/\n",
      "ln -s /mnt/datasets/srivathsa/brats/HGG/Brats18_CBICA_ABY_1 /raid/jiang/projects/SubtleGAN/data/brats/HGG/train/\n",
      "ln -s /mnt/datasets/srivathsa/brats/HGG/Brats18_CBICA_ABM_1 /raid/jiang/projects/SubtleGAN/data/brats/HGG/train/\n",
      "ln -s /mnt/datasets/srivathsa/brats/HGG/Brats18_CBICA_AQY_1 /raid/jiang/projects/SubtleGAN/data/brats/HGG/train/\n",
      "ln -s /mnt/datasets/srivathsa/brats/HGG/Brats18_CBICA_AVJ_1 /raid/jiang/projects/SubtleGAN/data/brats/HGG/train/\n",
      "ln -s /mnt/datasets/srivathsa/brats/HGG/Brats18_TCIA01_186_1 /raid/jiang/projects/SubtleGAN/data/brats/HGG/train/\n",
      "ln -s /mnt/datasets/srivathsa/brats/HGG/Brats18_TCIA06_603_1 /raid/jiang/projects/SubtleGAN/data/brats/HGG/train/\n",
      "ln -s /mnt/datasets/srivathsa/brats/HGG/Brats18_CBICA_ALN_1 /raid/jiang/projects/SubtleGAN/data/brats/HGG/train/\n",
      "ln -s /mnt/datasets/srivathsa/brats/HGG/Brats18_TCIA01_190_1 /raid/jiang/projects/SubtleGAN/data/brats/HGG/train/\n",
      "ln -s /mnt/datasets/srivathsa/brats/HGG/Brats18_CBICA_AQZ_1 /raid/jiang/projects/SubtleGAN/data/brats/HGG/train/\n",
      "ln -s /mnt/datasets/srivathsa/brats/HGG/Brats18_TCIA01_429_1 /raid/jiang/projects/SubtleGAN/data/brats/HGG/train/\n",
      "ln -s /mnt/datasets/srivathsa/brats/HGG/Brats18_TCIA04_192_1 /raid/jiang/projects/SubtleGAN/data/brats/HGG/train/\n",
      "ln -s /mnt/datasets/srivathsa/brats/HGG/Brats18_CBICA_BHB_1 /raid/jiang/projects/SubtleGAN/data/brats/HGG/train/\n",
      "ln -s /mnt/datasets/srivathsa/brats/HGG/Brats18_CBICA_APZ_1 /raid/jiang/projects/SubtleGAN/data/brats/HGG/train/\n",
      "ln -s /mnt/datasets/srivathsa/brats/HGG/Brats18_TCIA05_444_1 /raid/jiang/projects/SubtleGAN/data/brats/HGG/train/\n",
      "ln -s /mnt/datasets/srivathsa/brats/HGG/Brats18_TCIA03_121_1 /raid/jiang/projects/SubtleGAN/data/brats/HGG/train/\n",
      "ln -s /mnt/datasets/srivathsa/brats/HGG/Brats18_TCIA02_471_1 /raid/jiang/projects/SubtleGAN/data/brats/HGG/train/\n",
      "ln -s /mnt/datasets/srivathsa/brats/HGG/Brats18_TCIA01_131_1 /raid/jiang/projects/SubtleGAN/data/brats/HGG/train/\n",
      "ln -s /mnt/datasets/srivathsa/brats/HGG/Brats18_CBICA_ABE_1 /raid/jiang/projects/SubtleGAN/data/brats/HGG/train/\n",
      "ln -s /mnt/datasets/srivathsa/brats/HGG/Brats18_2013_3_1 /raid/jiang/projects/SubtleGAN/data/brats/HGG/train/\n",
      "ln -s /mnt/datasets/srivathsa/brats/HGG/Brats18_TCIA01_203_1 /raid/jiang/projects/SubtleGAN/data/brats/HGG/train/\n",
      "ln -s /mnt/datasets/srivathsa/brats/HGG/Brats18_CBICA_ATV_1 /raid/jiang/projects/SubtleGAN/data/brats/HGG/train/\n",
      "ln -s /mnt/datasets/srivathsa/brats/HGG/Brats18_CBICA_AOH_1 /raid/jiang/projects/SubtleGAN/data/brats/HGG/train/\n",
      "ln -s /mnt/datasets/srivathsa/brats/HGG/Brats18_CBICA_ABB_1 /raid/jiang/projects/SubtleGAN/data/brats/HGG/train/\n",
      "ln -s /mnt/datasets/srivathsa/brats/HGG/Brats18_TCIA03_296_1 /raid/jiang/projects/SubtleGAN/data/brats/HGG/train/\n",
      "ln -s /mnt/datasets/srivathsa/brats/HGG/Brats18_CBICA_AVV_1 /raid/jiang/projects/SubtleGAN/data/brats/HGG/train/\n",
      "ln -s /mnt/datasets/srivathsa/brats/HGG/Brats18_CBICA_AQQ_1 /raid/jiang/projects/SubtleGAN/data/brats/HGG/train/\n",
      "ln -s /mnt/datasets/srivathsa/brats/HGG/Brats18_CBICA_ARF_1 /raid/jiang/projects/SubtleGAN/data/brats/HGG/train/\n",
      "ln -s /mnt/datasets/srivathsa/brats/HGG/Brats18_CBICA_ANP_1 /raid/jiang/projects/SubtleGAN/data/brats/HGG/train/\n",
      "ln -s /mnt/datasets/srivathsa/brats/HGG/Brats18_2013_26_1 /raid/jiang/projects/SubtleGAN/data/brats/HGG/train/\n",
      "ln -s /mnt/datasets/srivathsa/brats/HGG/Brats18_TCIA02_608_1 /raid/jiang/projects/SubtleGAN/data/brats/HGG/train/\n",
      "ln -s /mnt/datasets/srivathsa/brats/HGG/Brats18_CBICA_ATD_1 /raid/jiang/projects/SubtleGAN/data/brats/HGG/train/\n",
      "ln -s /mnt/datasets/srivathsa/brats/HGG/Brats18_TCIA08_319_1 /raid/jiang/projects/SubtleGAN/data/brats/HGG/train/\n",
      "ln -s /mnt/datasets/srivathsa/brats/HGG/Brats18_CBICA_AQR_1 /raid/jiang/projects/SubtleGAN/data/brats/HGG/train/\n",
      "ln -s /mnt/datasets/srivathsa/brats/HGG/Brats18_CBICA_ASG_1 /raid/jiang/projects/SubtleGAN/data/brats/HGG/train/\n",
      "ln -s /mnt/datasets/srivathsa/brats/HGG/Brats18_TCIA02_331_1 /raid/jiang/projects/SubtleGAN/data/brats/HGG/train/\n",
      "ln -s /mnt/datasets/srivathsa/brats/HGG/Brats18_TCIA02_314_1 /raid/jiang/projects/SubtleGAN/data/brats/HGG/train/\n",
      "ln -s /mnt/datasets/srivathsa/brats/HGG/Brats18_2013_27_1 /raid/jiang/projects/SubtleGAN/data/brats/HGG/train/\n",
      "ln -s /mnt/datasets/srivathsa/brats/HGG/Brats18_TCIA03_338_1 /raid/jiang/projects/SubtleGAN/data/brats/HGG/train/\n",
      "ln -s /mnt/datasets/srivathsa/brats/HGG/Brats18_CBICA_AWI_1 /raid/jiang/projects/SubtleGAN/data/brats/HGG/train/\n",
      "ln -s /mnt/datasets/srivathsa/brats/HGG/Brats18_TCIA04_361_1 /raid/jiang/projects/SubtleGAN/data/brats/HGG/train/\n",
      "ln -s /mnt/datasets/srivathsa/brats/HGG/Brats18_CBICA_AMH_1 /raid/jiang/projects/SubtleGAN/data/brats/HGG/train/\n",
      "ln -s /mnt/datasets/srivathsa/brats/HGG/Brats18_TCIA01_231_1 /raid/jiang/projects/SubtleGAN/data/brats/HGG/train/\n",
      "ln -s /mnt/datasets/srivathsa/brats/HGG/Brats18_TCIA05_396_1 /raid/jiang/projects/SubtleGAN/data/brats/HGG/train/\n",
      "ln -s /mnt/datasets/srivathsa/brats/HGG/Brats18_CBICA_AOP_1 /raid/jiang/projects/SubtleGAN/data/brats/HGG/train/\n",
      "ln -s /mnt/datasets/srivathsa/brats/HGG/Brats18_TCIA02_198_1 /raid/jiang/projects/SubtleGAN/data/brats/HGG/train/\n",
      "ln -s /mnt/datasets/srivathsa/brats/HGG/Brats18_CBICA_ATX_1 /raid/jiang/projects/SubtleGAN/data/brats/HGG/train/\n",
      "ln -s /mnt/datasets/srivathsa/brats/HGG/Brats18_CBICA_AOZ_1 /raid/jiang/projects/SubtleGAN/data/brats/HGG/train/\n",
      "ln -s /mnt/datasets/srivathsa/brats/HGG/Brats18_CBICA_AVG_1 /raid/jiang/projects/SubtleGAN/data/brats/HGG/train/\n",
      "ln -s /mnt/datasets/srivathsa/brats/HGG/Brats18_TCIA01_390_1 /raid/jiang/projects/SubtleGAN/data/brats/HGG/train/\n",
      "ln -s /mnt/datasets/srivathsa/brats/HGG/Brats18_TCIA02_374_1 /raid/jiang/projects/SubtleGAN/data/brats/HGG/train/\n",
      "ln -s /mnt/datasets/srivathsa/brats/HGG/Brats18_CBICA_ASH_1 /raid/jiang/projects/SubtleGAN/data/brats/HGG/train/\n",
      "ln -s /mnt/datasets/srivathsa/brats/HGG/Brats18_CBICA_AAB_1 /raid/jiang/projects/SubtleGAN/data/brats/HGG/train/\n",
      "ln -s /mnt/datasets/srivathsa/brats/HGG/Brats18_TCIA02_606_1 /raid/jiang/projects/SubtleGAN/data/brats/HGG/train/\n",
      "ln -s /mnt/datasets/srivathsa/brats/HGG/Brats18_TCIA02_283_1 /raid/jiang/projects/SubtleGAN/data/brats/HGG/train/\n",
      "ln -s /mnt/datasets/srivathsa/brats/HGG/Brats18_CBICA_ALX_1 /raid/jiang/projects/SubtleGAN/data/brats/HGG/train/\n",
      "ln -s /mnt/datasets/srivathsa/brats/HGG/Brats18_TCIA02_117_1 /raid/jiang/projects/SubtleGAN/data/brats/HGG/train/\n",
      "ln -s /mnt/datasets/srivathsa/brats/HGG/Brats18_CBICA_AQV_1 /raid/jiang/projects/SubtleGAN/data/brats/HGG/train/\n",
      "ln -s /mnt/datasets/srivathsa/brats/HGG/Brats18_TCIA08_113_1 /raid/jiang/projects/SubtleGAN/data/brats/HGG/train/\n",
      "ln -s /mnt/datasets/srivathsa/brats/HGG/Brats18_CBICA_AYI_1 /raid/jiang/projects/SubtleGAN/data/brats/HGG/train/\n",
      "ln -s /mnt/datasets/srivathsa/brats/HGG/Brats18_TCIA08_205_1 /raid/jiang/projects/SubtleGAN/data/brats/HGG/train/\n",
      "ln -s /mnt/datasets/srivathsa/brats/HGG/Brats18_2013_2_1 /raid/jiang/projects/SubtleGAN/data/brats/HGG/train/\n",
      "ln -s /mnt/datasets/srivathsa/brats/HGG/Brats18_2013_4_1 /raid/jiang/projects/SubtleGAN/data/brats/HGG/train/\n",
      "ln -s /mnt/datasets/srivathsa/brats/HGG/Brats18_TCIA02_226_1 /raid/jiang/projects/SubtleGAN/data/brats/HGG/train/\n",
      "ln -s /mnt/datasets/srivathsa/brats/HGG/Brats18_CBICA_APY_1 /raid/jiang/projects/SubtleGAN/data/brats/HGG/train/\n",
      "ln -s /mnt/datasets/srivathsa/brats/HGG/Brats18_TCIA06_332_1 /raid/jiang/projects/SubtleGAN/data/brats/HGG/train/\n",
      "ln -s /mnt/datasets/srivathsa/brats/HGG/Brats18_TCIA02_290_1 /raid/jiang/projects/SubtleGAN/data/brats/HGG/train/\n",
      "ln -s /mnt/datasets/srivathsa/brats/HGG/Brats18_TCIA02_455_1 /raid/jiang/projects/SubtleGAN/data/brats/HGG/train/\n",
      "ln -s /mnt/datasets/srivathsa/brats/HGG/Brats18_TCIA06_409_1 /raid/jiang/projects/SubtleGAN/data/brats/HGG/train/\n",
      "ln -s /mnt/datasets/srivathsa/brats/HGG/Brats18_TCIA02_222_1 /raid/jiang/projects/SubtleGAN/data/brats/HGG/train/\n",
      "ln -s /mnt/datasets/srivathsa/brats/HGG/Brats18_CBICA_AQP_1 /raid/jiang/projects/SubtleGAN/data/brats/HGG/train/\n",
      "ln -s /mnt/datasets/srivathsa/brats/HGG/Brats18_CBICA_BHM_1 /raid/jiang/projects/SubtleGAN/data/brats/HGG/train/\n",
      "ln -s /mnt/datasets/srivathsa/brats/HGG/Brats18_TCIA02_321_1 /raid/jiang/projects/SubtleGAN/data/brats/HGG/train/\n",
      "ln -s /mnt/datasets/srivathsa/brats/HGG/Brats18_TCIA02_179_1 /raid/jiang/projects/SubtleGAN/data/brats/HGG/train/\n",
      "ln -s /mnt/datasets/srivathsa/brats/HGG/Brats18_CBICA_AXN_1 /raid/jiang/projects/SubtleGAN/data/brats/HGG/train/\n",
      "ln -s /mnt/datasets/srivathsa/brats/HGG/Brats18_TCIA03_265_1 /raid/jiang/projects/SubtleGAN/data/brats/HGG/train/\n",
      "ln -s /mnt/datasets/srivathsa/brats/HGG/Brats18_TCIA02_394_1 /raid/jiang/projects/SubtleGAN/data/brats/HGG/train/\n",
      "ln -s /mnt/datasets/srivathsa/brats/HGG/Brats18_TCIA08_406_1 /raid/jiang/projects/SubtleGAN/data/brats/HGG/train/\n",
      "ln -s /mnt/datasets/srivathsa/brats/HGG/Brats18_TCIA08_162_1 /raid/jiang/projects/SubtleGAN/data/brats/HGG/train/\n",
      "ln -s /mnt/datasets/srivathsa/brats/HGG/Brats18_CBICA_BFP_1 /raid/jiang/projects/SubtleGAN/data/brats/HGG/train/\n",
      "ln -s /mnt/datasets/srivathsa/brats/HGG/Brats18_TCIA08_436_1 /raid/jiang/projects/SubtleGAN/data/brats/HGG/train/\n",
      "ln -s /mnt/datasets/srivathsa/brats/HGG/Brats18_TCIA02_322_1 /raid/jiang/projects/SubtleGAN/data/brats/HGG/train/\n",
      "ln -s /mnt/datasets/srivathsa/brats/HGG/Brats18_TCIA01_221_1 /raid/jiang/projects/SubtleGAN/data/brats/HGG/train/\n",
      "ln -s /mnt/datasets/srivathsa/brats/HGG/Brats18_CBICA_AQJ_1 /raid/jiang/projects/SubtleGAN/data/brats/HGG/train/\n",
      "ln -s /mnt/datasets/srivathsa/brats/HGG/Brats18_2013_18_1 /raid/jiang/projects/SubtleGAN/data/brats/HGG/train/\n",
      "ln -s /mnt/datasets/srivathsa/brats/HGG/Brats18_TCIA01_499_1 /raid/jiang/projects/SubtleGAN/data/brats/HGG/train/\n",
      "ln -s /mnt/datasets/srivathsa/brats/HGG/Brats18_TCIA02_171_1 /raid/jiang/projects/SubtleGAN/data/brats/HGG/train/\n",
      "ln -s /mnt/datasets/srivathsa/brats/HGG/Brats18_CBICA_ASO_1 /raid/jiang/projects/SubtleGAN/data/brats/HGG/train/\n",
      "ln -s /mnt/datasets/srivathsa/brats/HGG/Brats18_TCIA08_234_1 /raid/jiang/projects/SubtleGAN/data/brats/HGG/train/\n",
      "ln -s /mnt/datasets/srivathsa/brats/HGG/Brats18_TCIA02_309_1 /raid/jiang/projects/SubtleGAN/data/brats/HGG/train/\n",
      "ln -s /mnt/datasets/srivathsa/brats/HGG/Brats18_2013_21_1 /raid/jiang/projects/SubtleGAN/data/brats/HGG/train/\n",
      "ln -s /mnt/datasets/srivathsa/brats/HGG/Brats18_CBICA_ASN_1 /raid/jiang/projects/SubtleGAN/data/brats/HGG/train/\n",
      "ln -s /mnt/datasets/srivathsa/brats/HGG/Brats18_TCIA01_460_1 /raid/jiang/projects/SubtleGAN/data/brats/HGG/train/\n",
      "ln -s /mnt/datasets/srivathsa/brats/HGG/Brats18_CBICA_ABN_1 /raid/jiang/projects/SubtleGAN/data/brats/HGG/train/\n",
      "ln -s /mnt/datasets/srivathsa/brats/HGG/Brats18_CBICA_AAL_1 /raid/jiang/projects/SubtleGAN/data/brats/HGG/train/\n",
      "ln -s /mnt/datasets/srivathsa/brats/HGG/Brats18_CBICA_AAP_1 /raid/jiang/projects/SubtleGAN/data/brats/HGG/train/\n",
      "ln -s /mnt/datasets/srivathsa/brats/HGG/Brats18_TCIA03_138_1 /raid/jiang/projects/SubtleGAN/data/brats/HGG/train/\n",
      "ln -s /mnt/datasets/srivathsa/brats/HGG/Brats18_TCIA01_150_1 /raid/jiang/projects/SubtleGAN/data/brats/HGG/train/\n",
      "ln -s /mnt/datasets/srivathsa/brats/HGG/Brats18_TCIA06_211_1 /raid/jiang/projects/SubtleGAN/data/brats/HGG/train/\n",
      "ln -s /mnt/datasets/srivathsa/brats/HGG/Brats18_CBICA_AYW_1 /raid/jiang/projects/SubtleGAN/data/brats/HGG/train/\n",
      "ln -s /mnt/datasets/srivathsa/brats/HGG/Brats18_TCIA02_607_1 /raid/jiang/projects/SubtleGAN/data/brats/HGG/train/\n",
      "ln -s /mnt/datasets/srivathsa/brats/HGG/Brats18_TCIA02_430_1 /raid/jiang/projects/SubtleGAN/data/brats/HGG/train/\n",
      "ln -s /mnt/datasets/srivathsa/brats/HGG/Brats18_CBICA_AQN_1 /raid/jiang/projects/SubtleGAN/data/brats/HGG/train/\n",
      "ln -s /mnt/datasets/srivathsa/brats/HGG/Brats18_TCIA01_411_1 /raid/jiang/projects/SubtleGAN/data/brats/HGG/train/\n",
      "ln -s /mnt/datasets/srivathsa/brats/HGG/Brats18_CBICA_ABO_1 /raid/jiang/projects/SubtleGAN/data/brats/HGG/train/\n",
      "ln -s /mnt/datasets/srivathsa/brats/HGG/Brats18_CBICA_AXM_1 /raid/jiang/projects/SubtleGAN/data/brats/HGG/train/\n",
      "ln -s /mnt/datasets/srivathsa/brats/HGG/Brats18_CBICA_AQT_1 /raid/jiang/projects/SubtleGAN/data/brats/HGG/train/\n",
      "ln -s /mnt/datasets/srivathsa/brats/HGG/Brats18_TCIA03_257_1 /raid/jiang/projects/SubtleGAN/data/brats/HGG/train/\n",
      "ln -s /mnt/datasets/srivathsa/brats/HGG/Brats18_TCIA01_147_1 /raid/jiang/projects/SubtleGAN/data/brats/HGG/train/\n",
      "ln -s /mnt/datasets/srivathsa/brats/HGG/Brats18_TCIA02_118_1 /raid/jiang/projects/SubtleGAN/data/brats/HGG/train/\n",
      "ln -s /mnt/datasets/srivathsa/brats/HGG/Brats18_TCIA02_168_1 /raid/jiang/projects/SubtleGAN/data/brats/HGG/train/\n",
      "ln -s /mnt/datasets/srivathsa/brats/HGG/Brats18_2013_22_1 /raid/jiang/projects/SubtleGAN/data/brats/HGG/train/\n",
      "ln -s /mnt/datasets/srivathsa/brats/HGG/Brats18_2013_7_1 /raid/jiang/projects/SubtleGAN/data/brats/HGG/train/\n",
      "ln -s /mnt/datasets/srivathsa/brats/HGG/Brats18_CBICA_AXJ_1 /raid/jiang/projects/SubtleGAN/data/brats/HGG/train/\n",
      "ln -s /mnt/datasets/srivathsa/brats/HGG/Brats18_CBICA_AQD_1 /raid/jiang/projects/SubtleGAN/data/brats/HGG/train/\n",
      "ln -s /mnt/datasets/srivathsa/brats/HGG/Brats18_CBICA_BFB_1 /raid/jiang/projects/SubtleGAN/data/brats/HGG/train/\n",
      "ln -s /mnt/datasets/srivathsa/brats/HGG/Brats18_TCIA08_469_1 /raid/jiang/projects/SubtleGAN/data/brats/HGG/train/\n",
      "ln -s /mnt/datasets/srivathsa/brats/HGG/Brats18_TCIA06_247_1 /raid/jiang/projects/SubtleGAN/data/brats/HGG/train/\n",
      "ln -s /mnt/datasets/srivathsa/brats/HGG/Brats18_TCIA01_448_1 /raid/jiang/projects/SubtleGAN/data/brats/HGG/train/\n",
      "ln -s /mnt/datasets/srivathsa/brats/HGG/Brats18_CBICA_AYA_1 /raid/jiang/projects/SubtleGAN/data/brats/HGG/train/\n",
      "ln -s /mnt/datasets/srivathsa/brats/HGG/Brats18_CBICA_AME_1 /raid/jiang/projects/SubtleGAN/data/brats/HGG/train/\n",
      "ln -s /mnt/datasets/srivathsa/brats/HGG/Brats18_2013_20_1 /raid/jiang/projects/SubtleGAN/data/brats/HGG/train/\n",
      "ln -s /mnt/datasets/srivathsa/brats/HGG/Brats18_CBICA_ALU_1 /raid/jiang/projects/SubtleGAN/data/brats/HGG/train/\n",
      "ln -s /mnt/datasets/srivathsa/brats/HGG/Brats18_TCIA04_111_1 /raid/jiang/projects/SubtleGAN/data/brats/HGG/train/\n",
      "ln -s /mnt/datasets/srivathsa/brats/HGG/Brats18_TCIA01_412_1 /raid/jiang/projects/SubtleGAN/data/brats/HGG/train/\n"
     ]
    },
    {
     "name": "stdout",
     "output_type": "stream",
     "text": [
      "ln -s /mnt/datasets/srivathsa/brats/HGG/Brats18_CBICA_ASE_1 /raid/jiang/projects/SubtleGAN/data/brats/HGG/train/\n",
      "ln -s /mnt/datasets/srivathsa/brats/HGG/Brats18_CBICA_AWH_1 /raid/jiang/projects/SubtleGAN/data/brats/HGG/train/\n",
      "ln -s /mnt/datasets/srivathsa/brats/HGG/Brats18_TCIA02_473_1 /raid/jiang/projects/SubtleGAN/data/brats/HGG/train/\n",
      "ln -s /mnt/datasets/srivathsa/brats/HGG/Brats18_CBICA_ASW_1 /raid/jiang/projects/SubtleGAN/data/brats/HGG/train/\n",
      "ln -s /mnt/datasets/srivathsa/brats/HGG/Brats18_CBICA_AZH_1 /raid/jiang/projects/SubtleGAN/data/brats/HGG/train/\n",
      "ln -s /mnt/datasets/srivathsa/brats/HGG/Brats18_TCIA05_478_1 /raid/jiang/projects/SubtleGAN/data/brats/HGG/train/\n",
      "ln -s /mnt/datasets/srivathsa/brats/HGG/Brats18_CBICA_ATB_1 /raid/jiang/projects/SubtleGAN/data/brats/HGG/train/\n",
      "ln -s /mnt/datasets/srivathsa/brats/HGG/Brats18_2013_5_1 /raid/jiang/projects/SubtleGAN/data/brats/HGG/train/\n",
      "ln -s /mnt/datasets/srivathsa/brats/HGG/Brats18_CBICA_AZD_1 /raid/jiang/projects/SubtleGAN/data/brats/HGG/train/\n",
      "ln -s /mnt/datasets/srivathsa/brats/HGG/Brats18_TCIA01_201_1 /raid/jiang/projects/SubtleGAN/data/brats/HGG/train/\n",
      "ln -s /mnt/datasets/srivathsa/brats/HGG/Brats18_CBICA_ATF_1 /raid/jiang/projects/SubtleGAN/data/brats/HGG/train/\n",
      "ln -s /mnt/datasets/srivathsa/brats/HGG/Brats18_CBICA_ASK_1 /raid/jiang/projects/SubtleGAN/data/brats/HGG/train/\n",
      "ln -s /mnt/datasets/srivathsa/brats/HGG/Brats18_TCIA08_105_1 /raid/jiang/projects/SubtleGAN/data/brats/HGG/train/\n",
      "ln -s /mnt/datasets/srivathsa/brats/HGG/Brats18_2013_17_1 /raid/jiang/projects/SubtleGAN/data/brats/HGG/train/\n",
      "ln -s /mnt/datasets/srivathsa/brats/HGG/Brats18_CBICA_BHK_1 /raid/jiang/projects/SubtleGAN/data/brats/HGG/train/\n",
      "ln -s /mnt/datasets/srivathsa/brats/HGG/Brats18_TCIA05_277_1 /raid/jiang/projects/SubtleGAN/data/brats/HGG/train/\n",
      "ln -s /mnt/datasets/srivathsa/brats/HGG/Brats18_CBICA_AXW_1 /raid/jiang/projects/SubtleGAN/data/brats/HGG/train/\n",
      "ln -s /mnt/datasets/srivathsa/brats/HGG/Brats18_2013_23_1 /raid/jiang/projects/SubtleGAN/data/brats/HGG/train/\n",
      "ln -s /mnt/datasets/srivathsa/brats/HGG/Brats18_TCIA04_328_1 /raid/jiang/projects/SubtleGAN/data/brats/HGG/train/\n",
      "ln -s /mnt/datasets/srivathsa/brats/HGG/Brats18_CBICA_AUQ_1 /raid/jiang/projects/SubtleGAN/data/brats/HGG/train/\n",
      "ln -s /mnt/datasets/srivathsa/brats/HGG/Brats18_CBICA_ANG_1 /raid/jiang/projects/SubtleGAN/data/brats/HGG/train/\n",
      "ln -s /mnt/datasets/srivathsa/brats/HGG/Brats18_TCIA08_167_1 /raid/jiang/projects/SubtleGAN/data/brats/HGG/train/\n",
      "ln -s /mnt/datasets/srivathsa/brats/HGG/Brats18_CBICA_ATP_1 /raid/jiang/projects/SubtleGAN/data/brats/HGG/train/\n",
      "ln -s /mnt/datasets/srivathsa/brats/HGG/Brats18_CBICA_AXL_1 /raid/jiang/projects/SubtleGAN/data/brats/HGG/train/\n",
      "ln -s /mnt/datasets/srivathsa/brats/HGG/Brats18_2013_13_1 /raid/jiang/projects/SubtleGAN/data/brats/HGG/train/\n",
      "ln -s /mnt/datasets/srivathsa/brats/HGG/Brats18_CBICA_ASA_1 /raid/jiang/projects/SubtleGAN/data/brats/HGG/train/\n",
      "ln -s /mnt/datasets/srivathsa/brats/HGG/Brats18_TCIA02_605_1 /raid/jiang/projects/SubtleGAN/data/brats/HGG/train/\n",
      "ln -s /mnt/datasets/srivathsa/brats/HGG/Brats18_TCIA02_377_1 /raid/jiang/projects/SubtleGAN/data/brats/HGG/train/\n",
      "ln -s /mnt/datasets/srivathsa/brats/HGG/Brats18_TCIA03_474_1 /raid/jiang/projects/SubtleGAN/data/brats/HGG/train/\n",
      "ln -s /mnt/datasets/srivathsa/brats/HGG/Brats18_TCIA06_165_1 /raid/jiang/projects/SubtleGAN/data/brats/HGG/train/\n",
      "ln -s /mnt/datasets/srivathsa/brats/HGG/Brats18_TCIA01_235_1 /raid/jiang/projects/SubtleGAN/data/brats/HGG/train/\n",
      "ln -s /mnt/datasets/srivathsa/brats/HGG/Brats18_CBICA_ANZ_1 /raid/jiang/projects/SubtleGAN/data/brats/HGG/train/\n",
      "ln -s /mnt/datasets/srivathsa/brats/HGG/Brats18_TCIA06_184_1 /raid/jiang/projects/SubtleGAN/data/brats/HGG/train/\n",
      "ln -s /mnt/datasets/srivathsa/brats/HGG/Brats18_CBICA_AYU_1 /raid/jiang/projects/SubtleGAN/data/brats/HGG/train/\n",
      "ln -s /mnt/datasets/srivathsa/brats/HGG/Brats18_TCIA02_274_1 /raid/jiang/projects/SubtleGAN/data/brats/HGG/train/\n",
      "ln -s /mnt/datasets/srivathsa/brats/HGG/Brats18_TCIA03_498_1 /raid/jiang/projects/SubtleGAN/data/brats/HGG/train/\n",
      "ln -s /mnt/datasets/srivathsa/brats/HGG/Brats18_TCIA06_372_1 /raid/jiang/projects/SubtleGAN/data/brats/HGG/train/\n",
      "ln -s /mnt/datasets/srivathsa/brats/HGG/Brats18_CBICA_ASU_1 /raid/jiang/projects/SubtleGAN/data/brats/HGG/train/\n",
      "ln -s /mnt/datasets/srivathsa/brats/HGG/Brats18_TCIA08_218_1 /raid/jiang/projects/SubtleGAN/data/brats/HGG/train/\n",
      "ln -s /mnt/datasets/srivathsa/brats/HGG/Brats18_TCIA08_278_1 /raid/jiang/projects/SubtleGAN/data/brats/HGG/train/\n",
      "ln -s /mnt/datasets/srivathsa/brats/HGG/Brats18_CBICA_AOD_1 /raid/jiang/projects/SubtleGAN/data/brats/HGG/train/\n",
      "ln -s /mnt/datasets/srivathsa/brats/HGG/Brats18_TCIA08_280_1 /raid/jiang/projects/SubtleGAN/data/brats/HGG/train/\n",
      "ln -s /mnt/datasets/srivathsa/brats/HGG/Brats18_TCIA02_208_1 /raid/jiang/projects/SubtleGAN/data/brats/HGG/train/\n",
      "ln -s /mnt/datasets/srivathsa/brats/HGG/Brats18_2013_12_1 /raid/jiang/projects/SubtleGAN/data/brats/HGG/train/\n",
      "ln -s /mnt/datasets/srivathsa/brats/HGG/Brats18_CBICA_AOO_1 /raid/jiang/projects/SubtleGAN/data/brats/HGG/train/\n",
      "ln -s /mnt/datasets/srivathsa/brats/HGG/Brats18_TCIA01_335_1 /raid/jiang/projects/SubtleGAN/data/brats/HGG/train/\n",
      "ln -s /mnt/datasets/srivathsa/brats/HGG/Brats18_CBICA_AXO_1 /raid/jiang/projects/SubtleGAN/data/brats/HGG/train/\n",
      "ln -s /mnt/datasets/srivathsa/brats/HGG/Brats18_CBICA_AQG_1 /raid/jiang/projects/SubtleGAN/data/brats/HGG/train/\n",
      "ln -s /mnt/datasets/srivathsa/brats/HGG/Brats18_TCIA03_375_1 /raid/jiang/projects/SubtleGAN/data/brats/HGG/train/\n",
      "ln -s /mnt/datasets/srivathsa/brats/HGG/Brats18_TCIA02_370_1 /raid/jiang/projects/SubtleGAN/data/brats/HGG/train/\n",
      "ln -s /mnt/datasets/srivathsa/brats/HGG/Brats18_TCIA02_491_1 /raid/jiang/projects/SubtleGAN/data/brats/HGG/val/\n",
      "ln -s /mnt/datasets/srivathsa/brats/HGG/Brats18_CBICA_APR_1 /raid/jiang/projects/SubtleGAN/data/brats/HGG/val/\n",
      "ln -s /mnt/datasets/srivathsa/brats/HGG/Brats18_CBICA_ASV_1 /raid/jiang/projects/SubtleGAN/data/brats/HGG/val/\n",
      "ln -s /mnt/datasets/srivathsa/brats/HGG/Brats18_CBICA_AXQ_1 /raid/jiang/projects/SubtleGAN/data/brats/HGG/val/\n",
      "ln -s /mnt/datasets/srivathsa/brats/HGG/Brats18_TCIA03_199_1 /raid/jiang/projects/SubtleGAN/data/brats/HGG/val/\n",
      "ln -s /mnt/datasets/srivathsa/brats/HGG/Brats18_CBICA_AAG_1 /raid/jiang/projects/SubtleGAN/data/brats/HGG/val/\n",
      "ln -s /mnt/datasets/srivathsa/brats/HGG/Brats18_TCIA02_151_1 /raid/jiang/projects/SubtleGAN/data/brats/HGG/val/\n",
      "ln -s /mnt/datasets/srivathsa/brats/HGG/Brats18_2013_11_1 /raid/jiang/projects/SubtleGAN/data/brats/HGG/val/\n",
      "ln -s /mnt/datasets/srivathsa/brats/HGG/Brats18_TCIA04_479_1 /raid/jiang/projects/SubtleGAN/data/brats/HGG/val/\n",
      "ln -s /mnt/datasets/srivathsa/brats/HGG/Brats18_CBICA_ARW_1 /raid/jiang/projects/SubtleGAN/data/brats/HGG/val/\n",
      "ln -s /mnt/datasets/srivathsa/brats/HGG/Brats18_CBICA_ARZ_1 /raid/jiang/projects/SubtleGAN/data/brats/HGG/val/\n",
      "ln -s /mnt/datasets/srivathsa/brats/HGG/Brats18_CBICA_ANI_1 /raid/jiang/projects/SubtleGAN/data/brats/HGG/val/\n",
      "ln -s /mnt/datasets/srivathsa/brats/HGG/Brats18_2013_19_1 /raid/jiang/projects/SubtleGAN/data/brats/HGG/val/\n",
      "ln -s /mnt/datasets/srivathsa/brats/HGG/Brats18_CBICA_AQU_1 /raid/jiang/projects/SubtleGAN/data/brats/HGG/val/\n",
      "ln -s /mnt/datasets/srivathsa/brats/HGG/Brats18_TCIA02_135_1 /raid/jiang/projects/SubtleGAN/data/brats/HGG/val/\n",
      "ln -s /mnt/datasets/srivathsa/brats/HGG/Brats18_TCIA02_368_1 /raid/jiang/projects/SubtleGAN/data/brats/HGG/test/\n",
      "ln -s /mnt/datasets/srivathsa/brats/HGG/Brats18_TCIA03_133_1 /raid/jiang/projects/SubtleGAN/data/brats/HGG/test/\n",
      "ln -s /mnt/datasets/srivathsa/brats/HGG/Brats18_TCIA02_300_1 /raid/jiang/projects/SubtleGAN/data/brats/HGG/test/\n",
      "ln -s /mnt/datasets/srivathsa/brats/HGG/Brats18_CBICA_ASY_1 /raid/jiang/projects/SubtleGAN/data/brats/HGG/test/\n",
      "ln -s /mnt/datasets/srivathsa/brats/HGG/Brats18_TCIA04_343_1 /raid/jiang/projects/SubtleGAN/data/brats/HGG/test/\n",
      "ln -s /mnt/datasets/srivathsa/brats/HGG/Brats18_CBICA_AWG_1 /raid/jiang/projects/SubtleGAN/data/brats/HGG/test/\n",
      "ln -s /mnt/datasets/srivathsa/brats/HGG/Brats18_CBICA_AQO_1 /raid/jiang/projects/SubtleGAN/data/brats/HGG/test/\n",
      "ln -s /mnt/datasets/srivathsa/brats/HGG/Brats18_CBICA_AQA_1 /raid/jiang/projects/SubtleGAN/data/brats/HGG/test/\n",
      "ln -s /mnt/datasets/srivathsa/brats/HGG/Brats18_TCIA01_378_1 /raid/jiang/projects/SubtleGAN/data/brats/HGG/test/\n",
      "ln -s /mnt/datasets/srivathsa/brats/HGG/Brats18_2013_10_1 /raid/jiang/projects/SubtleGAN/data/brats/HGG/test/\n",
      "ln -s /mnt/datasets/srivathsa/brats/HGG/Brats18_TCIA01_425_1 /raid/jiang/projects/SubtleGAN/data/brats/HGG/test/\n",
      "ln -s /mnt/datasets/srivathsa/brats/HGG/Brats18_TCIA04_437_1 /raid/jiang/projects/SubtleGAN/data/brats/HGG/test/\n",
      "ln -s /mnt/datasets/srivathsa/brats/HGG/Brats18_TCIA03_419_1 /raid/jiang/projects/SubtleGAN/data/brats/HGG/test/\n",
      "ln -s /mnt/datasets/srivathsa/brats/HGG/Brats18_CBICA_AUN_1 /raid/jiang/projects/SubtleGAN/data/brats/HGG/test/\n",
      "ln -s /mnt/datasets/srivathsa/brats/HGG/Brats18_2013_14_1 /raid/jiang/projects/SubtleGAN/data/brats/HGG/test/\n"
     ]
    }
   ],
   "source": [
    "images = glob.glob(\"/mnt/datasets/srivathsa/brats/HGG/Brats18_*\")\n",
    "random.shuffle(images)\n",
    "for image in images[:n_train]:\n",
    "    cmd = f\"ln -s {image} {train_dir}\"\n",
    "    print(cmd)\n",
    "    os.system(cmd)\n",
    "    \n",
    "for image in images[n_train:n_train+n_val]:\n",
    "    cmd = f\"ln -s {image} {val_dir}\"\n",
    "    print(cmd)\n",
    "    os.system(cmd)\n",
    "for image in images[n_train+n_val:]:\n",
    "    cmd = f\"ln -s {image} {test_dir}\"\n",
    "    print(cmd)\n",
    "    os.system(cmd)\n"
   ]
  },
  {
   "cell_type": "code",
   "execution_count": 33,
   "id": "d70b310e",
   "metadata": {},
   "outputs": [],
   "source": [
    "image = sitk.ReadImage(\"/raid/jiang/projects/SubtleGAN/data/brats/HGG/train/Brats18_CBICA_ABN_1/Brats18_CBICA_ABN_1_flair.nii.gz\")"
   ]
  },
  {
   "cell_type": "code",
   "execution_count": 34,
   "id": "4b31a531",
   "metadata": {},
   "outputs": [
    {
     "data": {
      "text/plain": [
       "(240, 240, 155)"
      ]
     },
     "execution_count": 34,
     "metadata": {},
     "output_type": "execute_result"
    }
   ],
   "source": [
    "image.GetSize()"
   ]
  },
  {
   "cell_type": "code",
   "execution_count": 35,
   "id": "0376af8d",
   "metadata": {},
   "outputs": [],
   "source": [
    "array = sitk.GetArrayFromImage(image)"
   ]
  },
  {
   "cell_type": "code",
   "execution_count": 42,
   "id": "106033ca",
   "metadata": {},
   "outputs": [
    {
     "data": {
      "text/plain": [
       "<matplotlib.image.AxesImage at 0x7f06f9ef7160>"
      ]
     },
     "execution_count": 42,
     "metadata": {},
     "output_type": "execute_result"
    },
    {
     "data": {
      "image/png": "[encoded data removed]",
      "text/plain": [
       "<Figure size 432x288 with 1 Axes>"
      ]
     },
     "metadata": {
      "needs_background": "light"
     },
     "output_type": "display_data"
    }
   ],
   "source": [
    "plt.imshow(array[20, :, :], cmap='gray')    #t2 flair; t1; t1ce; t2"
   ]
  },
  {
   "cell_type": "code",
   "execution_count": 23,
   "id": "a26e4026",
   "metadata": {},
   "outputs": [
    {
     "name": "stdout",
     "output_type": "stream",
     "text": [
      "0 594\n"
     ]
    }
   ],
   "source": [
    "print(array.min(), array.max())"
   ]
  },
  {
   "cell_type": "code",
   "execution_count": null,
   "id": "f9438455",
   "metadata": {},
   "outputs": [],
   "source": []
  }
 ],
 "metadata": {
  "kernelspec": {
   "display_name": "Python 3",
   "language": "python",
   "name": "python3"
  },
  "language_info": {
   "codemirror_mode": {
    "name": "ipython",
    "version": 3
   },
   "file_extension": ".py",
   "mimetype": "text/x-python",
   "name": "python",
   "nbconvert_exporter": "python",
   "pygments_lexer": "ipython3",
   "version": "3.9.5"
  }
 },
 "nbformat": 4,
 "nbformat_minor": 5
}
