{
 "cells": [
  {
   "cell_type": "code",
   "execution_count": 9,
   "id": "73fee3a7",
   "metadata": {},
   "outputs": [],
   "source": [
    "from modules.advanced_gans.models import *\n",
    "from prep_IXI.helpers import create_dataloaders, Resize, ToTensor\n",
    "import torch"
   ]
  },
  {
   "cell_type": "code",
   "execution_count": 2,
   "id": "467662cf",
   "metadata": {},
   "outputs": [],
   "source": [
    "import os\n",
    "os.environ['CUDA_VISIBLE_DEVICES'] = '0'"
   ]
  },
  {
   "cell_type": "code",
   "execution_count": 3,
   "id": "065c341a",
   "metadata": {},
   "outputs": [],
   "source": [
    "channels = 3\n",
    "out_channels = 3"
   ]
  },
  {
   "cell_type": "code",
   "execution_count": 4,
   "id": "057d6102",
   "metadata": {},
   "outputs": [],
   "source": [
    "generator = GeneratorUNet(in_channels=channels, out_channels=out_channels, with_relu=True, with_tanh=False)"
   ]
  },
  {
   "cell_type": "code",
   "execution_count": 5,
   "id": "6e409304",
   "metadata": {},
   "outputs": [],
   "source": [
    "ckpt = torch.load(\"model/MMGAN/mmgan_ixi_single/generator_param_mmgan_ixi_single_60.pkl\")"
   ]
  },
  {
   "cell_type": "code",
   "execution_count": 6,
   "id": "5e27bc9b",
   "metadata": {},
   "outputs": [
    {
     "data": {
      "text/plain": [
       "<All keys matched successfully>"
      ]
     },
     "execution_count": 6,
     "metadata": {},
     "output_type": "execute_result"
    }
   ],
   "source": [
    "generator = nn.DataParallel(generator.cuda())\n",
    "generator.load_state_dict(ckpt['state_dict'])"
   ]
  },
  {
   "cell_type": "code",
   "execution_count": 10,
   "id": "ce6edcc2",
   "metadata": {},
   "outputs": [],
   "source": [
    "n_dataloader, dataloader_for_viz = create_dataloaders(parent_path=\"/mnt/raid/jiang/projects/SubtleGAN/data/IXI/hdf5/\",\n",
    "                               parent_name='preprocessed',\n",
    "                               dataset_name='validation_data',\n",
    "                               dataset_type='cropped',\n",
    "                               load_pat_names=True,\n",
    "                               load_seg=False,\n",
    "                               transform_fn=[Resize(size=(256,256)), ToTensor()],\n",
    "                               apply_normalization=True,\n",
    "                               which_normalization=None,\n",
    "                               resize_slices=80,\n",
    "                               scenarios=True,\n",
    "                               num_workers=4,\n",
    "                               load_indices=None,\n",
    "                               dataset=\"BRATS2018\",\n",
    "                               shuffle=False)"
   ]
  },
  {
   "cell_type": "code",
   "execution_count": 11,
   "id": "8cb703e3",
   "metadata": {},
   "outputs": [],
   "source": [
    "test_patient = []\n",
    "for k in range(0, 30):\n",
    "    test_patient.append(dataloader_for_viz.getitem_via_index(k)) "
   ]
  },
  {
   "cell_type": "code",
   "execution_count": 15,
   "id": "ca090ee2",
   "metadata": {},
   "outputs": [],
   "source": [
    "scenarios = [[1, 1, 0], [1, 0, 1], [0, 1, 1]]\n",
    "batch_size_to_test = 1"
   ]
  },
  {
   "cell_type": "code",
   "execution_count": 13,
   "id": "b921fd8e",
   "metadata": {},
   "outputs": [],
   "source": [
    "patient = test_patient[0]"
   ]
  },
  {
   "cell_type": "code",
   "execution_count": 14,
   "id": "81bc3f00",
   "metadata": {},
   "outputs": [],
   "source": [
    "patient_image = patient['image']\n",
    "patient_copy = patient['image'].clone()\n",
    "patient_numpy = patient_copy.detach().cpu().numpy()"
   ]
  },
  {
   "cell_type": "code",
   "execution_count": 16,
   "id": "0ae4fa2f",
   "metadata": {},
   "outputs": [],
   "source": [
    "all_minus_1_g = torch.ones((batch_size_to_test,1,256,256)).cuda() * -1.0\n",
    "all_minus_x_test_r = torch.ones((batch_size_to_test, 256, 256)).cuda() * -1.0"
   ]
  },
  {
   "cell_type": "code",
   "execution_count": 17,
   "id": "1780ee6d",
   "metadata": {},
   "outputs": [],
   "source": [
    "x_test_r = patient_image[20:21, ...].cuda()"
   ]
  },
  {
   "cell_type": "code",
   "execution_count": 18,
   "id": "7a0a7ec8",
   "metadata": {},
   "outputs": [],
   "source": [
    "x_test_z = x_test_r.clone().cuda().type(torch.cuda.FloatTensor)"
   ]
  },
  {
   "cell_type": "code",
   "execution_count": 19,
   "id": "d3d97d16",
   "metadata": {},
   "outputs": [],
   "source": [
    "impute_tensor = torch.zeros((1,\n",
    "                                                 256,\n",
    "                                                 256), device='cuda')"
   ]
  },
  {
   "cell_type": "code",
   "execution_count": 30,
   "id": "bad7ee56",
   "metadata": {},
   "outputs": [],
   "source": [
    "x_test_z[:, 0, ...] = impute_tensor\n",
    "G_result = generator(x_test_z)"
   ]
  },
  {
   "cell_type": "code",
   "execution_count": 24,
   "id": "d12a5ee8",
   "metadata": {},
   "outputs": [
    {
     "data": {
      "text/plain": [
       "(90, 3, 256, 256)"
      ]
     },
     "execution_count": 24,
     "metadata": {},
     "output_type": "execute_result"
    }
   ],
   "source": [
    "patient_numpy.shape"
   ]
  },
  {
   "cell_type": "code",
   "execution_count": 22,
   "id": "85b5ebb5",
   "metadata": {},
   "outputs": [],
   "source": [
    "import matplotlib.pyplot as plot"
   ]
  },
  {
   "cell_type": "code",
   "execution_count": 40,
   "id": "1345ead0",
   "metadata": {},
   "outputs": [
    {
     "data": {
      "text/plain": [
       "<matplotlib.image.AxesImage at 0x7fca141993d0>"
      ]
     },
     "execution_count": 40,
     "metadata": {},
     "output_type": "execute_result"
    },
    {
     "data": {
      "image/png": "[encoded data removed]",
      "text/plain": [
       "<Figure size 432x288 with 1 Axes>"
      ]
     },
     "metadata": {
      "needs_background": "light"
     },
     "output_type": "display_data"
    }
   ],
   "source": [
    "plot.imshow(patient_numpy[20, 0, :], cmap='gray')"
   ]
  },
  {
   "cell_type": "code",
   "execution_count": 38,
   "id": "a511154e",
   "metadata": {},
   "outputs": [],
   "source": [
    "result = G_result.detach().cpu().numpy()[0, 0, :]\n",
    "patient_numpy[20, 0, :]"
   ]
  },
  {
   "cell_type": "code",
   "execution_count": 39,
   "id": "35b8866f",
   "metadata": {},
   "outputs": [
    {
     "data": {
      "text/plain": [
       "<matplotlib.image.AxesImage at 0x7fca142a8c10>"
      ]
     },
     "execution_count": 39,
     "metadata": {},
     "output_type": "execute_result"
    },
    {
     "data": {
      "image/png": "[encoded data removed]",
      "text/plain": [
       "<Figure size 432x288 with 1 Axes>"
      ]
     },
     "metadata": {
      "needs_background": "light"
     },
     "output_type": "display_data"
    }
   ],
   "source": [
    "plot.imshow(result, cmap='gray')"
   ]
  },
  {
   "cell_type": "code",
   "execution_count": 43,
   "id": "ff835b59",
   "metadata": {},
   "outputs": [
    {
     "data": {
      "text/plain": [
       "6.8360314"
      ]
     },
     "execution_count": 43,
     "metadata": {},
     "output_type": "execute_result"
    }
   ],
   "source": [
    "result.max()"
   ]
  },
  {
   "cell_type": "code",
   "execution_count": 45,
   "id": "4dcf9d28",
   "metadata": {},
   "outputs": [],
   "source": [
    "from skimage.metrics import structural_similarity as ssim\n",
    "from skimage.metrics import peak_signal_noise_ratio as psnr\n",
    "from skimage.metrics import mean_squared_error as mse\n",
    "from sklearn.metrics import mean_absolute_error as mae"
   ]
  },
  {
   "cell_type": "code",
   "execution_count": 46,
   "id": "6c6507e8",
   "metadata": {},
   "outputs": [],
   "source": [
    "gt = patient_numpy[20, 0, :]"
   ]
  },
  {
   "cell_type": "code",
   "execution_count": 48,
   "id": "0b4234c3",
   "metadata": {},
   "outputs": [
    {
     "ename": "ValueError",
     "evalue": "im_true has intensity values outside the range expected for its data type.  Please manually specify the data_range",
     "output_type": "error",
     "traceback": [
      "\u001b[0;31m---------------------------------------------------------------------------\u001b[0m",
      "\u001b[0;31mValueError\u001b[0m                                Traceback (most recent call last)",
      "\u001b[0;32m/tmp/ipykernel_2493004/3749586686.py\u001b[0m in \u001b[0;36m<module>\u001b[0;34m\u001b[0m\n\u001b[0;32m----> 1\u001b[0;31m \u001b[0mpsnr\u001b[0m\u001b[0;34m(\u001b[0m\u001b[0mgt\u001b[0m\u001b[0;34m,\u001b[0m \u001b[0mresult\u001b[0m\u001b[0;34m)\u001b[0m\u001b[0;34m\u001b[0m\u001b[0;34m\u001b[0m\u001b[0m\n\u001b[0m",
      "\u001b[0;32m~/miniconda3/envs/notebook/lib/python3.9/site-packages/skimage/metrics/simple_metrics.py\u001b[0m in \u001b[0;36mpeak_signal_noise_ratio\u001b[0;34m(image_true, image_test, data_range)\u001b[0m\n\u001b[1;32m    146\u001b[0m         \u001b[0mtrue_min\u001b[0m\u001b[0;34m,\u001b[0m \u001b[0mtrue_max\u001b[0m \u001b[0;34m=\u001b[0m \u001b[0mnp\u001b[0m\u001b[0;34m.\u001b[0m\u001b[0mmin\u001b[0m\u001b[0;34m(\u001b[0m\u001b[0mimage_true\u001b[0m\u001b[0;34m)\u001b[0m\u001b[0;34m,\u001b[0m \u001b[0mnp\u001b[0m\u001b[0;34m.\u001b[0m\u001b[0mmax\u001b[0m\u001b[0;34m(\u001b[0m\u001b[0mimage_true\u001b[0m\u001b[0;34m)\u001b[0m\u001b[0;34m\u001b[0m\u001b[0;34m\u001b[0m\u001b[0m\n\u001b[1;32m    147\u001b[0m         \u001b[0;32mif\u001b[0m \u001b[0mtrue_max\u001b[0m \u001b[0;34m>\u001b[0m \u001b[0mdmax\u001b[0m \u001b[0;32mor\u001b[0m \u001b[0mtrue_min\u001b[0m \u001b[0;34m<\u001b[0m \u001b[0mdmin\u001b[0m\u001b[0;34m:\u001b[0m\u001b[0;34m\u001b[0m\u001b[0;34m\u001b[0m\u001b[0m\n\u001b[0;32m--> 148\u001b[0;31m             raise ValueError(\n\u001b[0m\u001b[1;32m    149\u001b[0m                 \u001b[0;34m\"im_true has intensity values outside the range expected for \"\u001b[0m\u001b[0;34m\u001b[0m\u001b[0;34m\u001b[0m\u001b[0m\n\u001b[1;32m    150\u001b[0m                 \"its data type.  Please manually specify the data_range\")\n",
      "\u001b[0;31mValueError\u001b[0m: im_true has intensity values outside the range expected for its data type.  Please manually specify the data_range"
     ]
    }
   ],
   "source": [
    "psnr(gt, result)"
   ]
  },
  {
   "cell_type": "code",
   "execution_count": 49,
   "id": "2f6d74b7",
   "metadata": {},
   "outputs": [],
   "source": [
    "pat_name = patient['name'].decode('UTF-8')"
   ]
  },
  {
   "cell_type": "code",
   "execution_count": 50,
   "id": "cd06b034",
   "metadata": {},
   "outputs": [
    {
     "data": {
      "text/plain": [
       "'IXI558-Guys-1079'"
      ]
     },
     "execution_count": 50,
     "metadata": {},
     "output_type": "execute_result"
    }
   ],
   "source": [
    "pat_name"
   ]
  },
  {
   "cell_type": "code",
   "execution_count": 63,
   "id": "71005469",
   "metadata": {},
   "outputs": [
    {
     "data": {
      "text/plain": [
       "torch.Size([90, 3, 256, 256])"
      ]
     },
     "execution_count": 63,
     "metadata": {},
     "output_type": "execute_result"
    }
   ],
   "source": [
    "patient_image.shape"
   ]
  },
  {
   "cell_type": "code",
   "execution_count": 55,
   "id": "83869e64",
   "metadata": {},
   "outputs": [],
   "source": [
    "b = np.array(scenarios[0])"
   ]
  },
  {
   "cell_type": "code",
   "execution_count": 56,
   "id": "63ed538c",
   "metadata": {},
   "outputs": [
    {
     "data": {
      "text/plain": [
       "array([ True,  True, False])"
      ]
     },
     "execution_count": 56,
     "metadata": {},
     "output_type": "execute_result"
    }
   ],
   "source": [
    "b==1"
   ]
  },
  {
   "cell_type": "code",
   "execution_count": 60,
   "id": "390745e4",
   "metadata": {},
   "outputs": [],
   "source": [
    "result = G_result.detach().cpu().numpy()[0, b==0, :]"
   ]
  },
  {
   "cell_type": "code",
   "execution_count": 61,
   "id": "76ea65ed",
   "metadata": {},
   "outputs": [
    {
     "data": {
      "text/plain": [
       "(1, 256, 256)"
      ]
     },
     "execution_count": 61,
     "metadata": {},
     "output_type": "execute_result"
    }
   ],
   "source": [
    "result.shape"
   ]
  },
  {
   "cell_type": "code",
   "execution_count": 64,
   "id": "cc2c768a",
   "metadata": {},
   "outputs": [
    {
     "data": {
      "text/plain": [
       "1"
      ]
     },
     "execution_count": 64,
     "metadata": {},
     "output_type": "execute_result"
    }
   ],
   "source": [
    "np.sum(b==0)"
   ]
  },
  {
   "cell_type": "code",
   "execution_count": 65,
   "id": "6cd46387",
   "metadata": {},
   "outputs": [],
   "source": [
    "import SimpleITK as sitk"
   ]
  },
  {
   "cell_type": "code",
   "execution_count": 70,
   "id": "a044654d",
   "metadata": {},
   "outputs": [],
   "source": [
    "a = sitk.ReadImage(\"../data/IXI/IXI_dataset_coregistered/IXI014-HH-1236/IXI014-HH-1236-T2.nii.gz\")"
   ]
  },
  {
   "cell_type": "code",
   "execution_count": 71,
   "id": "68a70c9d",
   "metadata": {},
   "outputs": [
    {
     "data": {
      "text/plain": [
       "(256, 256, 28)"
      ]
     },
     "execution_count": 71,
     "metadata": {},
     "output_type": "execute_result"
    }
   ],
   "source": [
    "a.GetSize()"
   ]
  },
  {
   "cell_type": "code",
   "execution_count": 76,
   "id": "372663c4",
   "metadata": {},
   "outputs": [],
   "source": [
    "import glob\n",
    "cases = glob.glob(\"../data/IXI/IXI_slices/train/IXI*\")"
   ]
  },
  {
   "cell_type": "code",
   "execution_count": 77,
   "id": "9c084882",
   "metadata": {},
   "outputs": [
    {
     "name": "stdout",
     "output_type": "stream",
     "text": [
      "../data/IXI/IXI_slices/train/IXI162-HH-1548: 90\n",
      "../data/IXI/IXI_slices/train/IXI465-HH-2176: 90\n",
      "../data/IXI/IXI_slices/train/IXI639-Guys-1088: 90\n",
      "../data/IXI/IXI_slices/train/IXI392-Guys-1064: 90\n",
      "../data/IXI/IXI_slices/train/IXI299-Guys-0893: 90\n",
      "../data/IXI/IXI_slices/train/IXI459-Guys-0992: 90\n",
      "../data/IXI/IXI_slices/train/IXI059-HH-1284: 90\n",
      "../data/IXI/IXI_slices/train/IXI279-Guys-1044: 90\n",
      "../data/IXI/IXI_slices/train/IXI298-Guys-0861: 90\n",
      "../data/IXI/IXI_slices/train/IXI023-Guys-0699: 80\n",
      "../data/IXI/IXI_slices/train/IXI327-HH-1999: 90\n",
      "../data/IXI/IXI_slices/train/IXI310-IOP-0890: 96\n",
      "../data/IXI/IXI_slices/train/IXI241-Guys-0833: 90\n",
      "../data/IXI/IXI_slices/train/IXI221-HH-1606: 90\n",
      "../data/IXI/IXI_slices/train/IXI372-IOP-0971: 96\n",
      "../data/IXI/IXI_slices/train/IXI109-Guys-0732: 90\n",
      "../data/IXI/IXI_slices/train/IXI180-HH-1605: 90\n",
      "../data/IXI/IXI_slices/train/IXI237-Guys-1049: 90\n",
      "../data/IXI/IXI_slices/train/IXI132-HH-1415: 90\n",
      "../data/IXI/IXI_slices/train/IXI049-HH-1358: 90\n",
      "../data/IXI/IXI_slices/train/IXI306-IOP-0867: 96\n",
      "../data/IXI/IXI_slices/train/IXI380-Guys-0944: 90\n",
      "../data/IXI/IXI_slices/train/IXI246-Guys-0840: 90\n",
      "../data/IXI/IXI_slices/train/IXI462-IOP-1042: 96\n",
      "../data/IXI/IXI_slices/train/IXI550-Guys-1069: 90\n",
      "../data/IXI/IXI_slices/train/IXI445-HH-2269: 90\n",
      "../data/IXI/IXI_slices/train/IXI054-Guys-0707: 90\n",
      "../data/IXI/IXI_slices/train/IXI285-Guys-0857: 90\n",
      "../data/IXI/IXI_slices/train/IXI508-HH-2268: 90\n",
      "../data/IXI/IXI_slices/train/IXI137-HH-1472: 90\n",
      "../data/IXI/IXI_slices/train/IXI388-IOP-0973: 96\n",
      "../data/IXI/IXI_slices/train/IXI193-Guys-0810: 90\n",
      "../data/IXI/IXI_slices/train/IXI210-Guys-0856: 90\n",
      "../data/IXI/IXI_slices/train/IXI275-HH-1803: 90\n",
      "../data/IXI/IXI_slices/train/IXI212-HH-1643: 90\n",
      "../data/IXI/IXI_slices/train/IXI141-Guys-0789: 90\n",
      "../data/IXI/IXI_slices/train/IXI469-IOP-1136: 96\n",
      "../data/IXI/IXI_slices/train/IXI142-Guys-0786: 90\n",
      "../data/IXI/IXI_slices/train/IXI080-HH-1341: 90\n",
      "../data/IXI/IXI_slices/train/IXI568-HH-2607: 90\n",
      "../data/IXI/IXI_slices/train/IXI084-Guys-0741: 90\n",
      "../data/IXI/IXI_slices/train/IXI117-Guys-0763: 90\n",
      "../data/IXI/IXI_slices/train/IXI473-IOP-1137: 96\n",
      "../data/IXI/IXI_slices/train/IXI433-IOP-0989: 96\n",
      "../data/IXI/IXI_slices/train/IXI449-Guys-1082: 90\n",
      "../data/IXI/IXI_slices/train/IXI150-HH-1550: 90\n",
      "../data/IXI/IXI_slices/train/IXI160-HH-1637: 90\n",
      "../data/IXI/IXI_slices/train/IXI252-HH-1693: 90\n",
      "../data/IXI/IXI_slices/train/IXI340-IOP-0915: 96\n",
      "../data/IXI/IXI_slices/train/IXI348-Guys-0910: 90\n",
      "../data/IXI/IXI_slices/train/IXI518-HH-2239: 90\n",
      "../data/IXI/IXI_slices/train/IXI432-Guys-0987: 90\n",
      "../data/IXI/IXI_slices/train/IXI429-Guys-0997: 90\n",
      "../data/IXI/IXI_slices/train/IXI173-HH-1590: 90\n",
      "../data/IXI/IXI_slices/train/IXI440-HH-2127: 90\n",
      "../data/IXI/IXI_slices/train/IXI493-Guys-1007: 90\n",
      "../data/IXI/IXI_slices/train/IXI565-HH-2534: 90\n",
      "../data/IXI/IXI_slices/train/IXI598-HH-2606: 90\n",
      "../data/IXI/IXI_slices/train/IXI044-Guys-0712: 90\n",
      "../data/IXI/IXI_slices/train/IXI198-Guys-0803: 90\n",
      "../data/IXI/IXI_slices/train/IXI189-Guys-0799: 90\n",
      "../data/IXI/IXI_slices/train/IXI257-HH-1724: 90\n",
      "../data/IXI/IXI_slices/train/IXI184-Guys-0794: 90\n",
      "../data/IXI/IXI_slices/train/IXI618-Guys-1091: 90\n",
      "../data/IXI/IXI_slices/train/IXI396-HH-2115: 90\n",
      "../data/IXI/IXI_slices/train/IXI553-IOP-1151: 96\n",
      "../data/IXI/IXI_slices/train/IXI227-Guys-0813: 90\n",
      "../data/IXI/IXI_slices/train/IXI199-Guys-0802: 90\n",
      "../data/IXI/IXI_slices/train/IXI524-HH-2412: 90\n",
      "../data/IXI/IXI_slices/train/IXI476-IOP-1140: 96\n",
      "../data/IXI/IXI_slices/train/IXI259-HH-1804: 90\n",
      "../data/IXI/IXI_slices/train/IXI223-Guys-0830: 90\n",
      "../data/IXI/IXI_slices/train/IXI267-HH-1772: 90\n",
      "../data/IXI/IXI_slices/train/IXI351-Guys-0914: 90\n",
      "../data/IXI/IXI_slices/train/IXI622-Guys-1102: 90\n",
      "../data/IXI/IXI_slices/train/IXI311-Guys-0885: 90\n",
      "../data/IXI/IXI_slices/train/IXI183-Guys-0791: 90\n",
      "../data/IXI/IXI_slices/train/IXI641-Guys-1105: 90\n",
      "../data/IXI/IXI_slices/train/IXI479-Guys-1034: 90\n",
      "../data/IXI/IXI_slices/train/IXI113-Guys-0776: 90\n",
      "../data/IXI/IXI_slices/train/IXI296-HH-1970: 90\n",
      "../data/IXI/IXI_slices/train/IXI423-IOP-0974: 96\n",
      "../data/IXI/IXI_slices/train/IXI261-HH-1704: 90\n",
      "../data/IXI/IXI_slices/train/IXI165-HH-1589: 90\n",
      "../data/IXI/IXI_slices/train/IXI130-HH-1528: 90\n",
      "../data/IXI/IXI_slices/train/IXI478-IOP-1142: 96\n",
      "../data/IXI/IXI_slices/train/IXI549-Guys-1046: 90\n",
      "../data/IXI/IXI_slices/train/IXI307-IOP-0872: 96\n",
      "../data/IXI/IXI_slices/train/IXI403-Guys-0965: 90\n",
      "../data/IXI/IXI_slices/train/IXI519-HH-2240: 90\n",
      "../data/IXI/IXI_slices/train/IXI461-Guys-0998: 90\n",
      "../data/IXI/IXI_slices/train/IXI088-Guys-0758: 90\n",
      "../data/IXI/IXI_slices/train/IXI561-IOP-1152: 96\n",
      "../data/IXI/IXI_slices/train/IXI489-Guys-1014: 90\n",
      "../data/IXI/IXI_slices/train/IXI419-Guys-1027: 90\n",
      "../data/IXI/IXI_slices/train/IXI164-Guys-0844: 90\n",
      "../data/IXI/IXI_slices/train/IXI497-Guys-1002: 90\n",
      "../data/IXI/IXI_slices/train/IXI015-HH-1258: 80\n",
      "../data/IXI/IXI_slices/train/IXI593-Guys-1109: 90\n",
      "../data/IXI/IXI_slices/train/IXI300-Guys-0880: 90\n",
      "../data/IXI/IXI_slices/train/IXI035-IOP-0873: 96\n",
      "../data/IXI/IXI_slices/train/IXI087-Guys-0768: 90\n",
      "../data/IXI/IXI_slices/train/IXI467-Guys-0983: 90\n",
      "../data/IXI/IXI_slices/train/IXI094-HH-1355: 90\n",
      "../data/IXI/IXI_slices/train/IXI619-Guys-1099: 90\n",
      "../data/IXI/IXI_slices/train/IXI648-Guys-1107: 90\n",
      "../data/IXI/IXI_slices/train/IXI591-Guys-1084: 90\n",
      "../data/IXI/IXI_slices/train/IXI119-Guys-0765: 90\n",
      "../data/IXI/IXI_slices/train/IXI411-Guys-0959: 90\n",
      "../data/IXI/IXI_slices/train/IXI028-Guys-1038: 90\n",
      "../data/IXI/IXI_slices/train/IXI412-Guys-0949: 90\n",
      "../data/IXI/IXI_slices/train/IXI338-HH-1971: 90\n",
      "../data/IXI/IXI_slices/train/IXI457-Guys-0984: 90\n",
      "../data/IXI/IXI_slices/train/IXI043-Guys-0714: 90\n",
      "../data/IXI/IXI_slices/train/IXI102-HH-1416: 90\n",
      "../data/IXI/IXI_slices/train/IXI402-Guys-0961: 90\n",
      "../data/IXI/IXI_slices/train/IXI371-IOP-0970: 96\n",
      "../data/IXI/IXI_slices/train/IXI075-Guys-0754: 90\n",
      "../data/IXI/IXI_slices/train/IXI219-Guys-0894: 90\n",
      "../data/IXI/IXI_slices/train/IXI291-IOP-0882: 96\n",
      "../data/IXI/IXI_slices/train/IXI646-HH-2653: 90\n",
      "../data/IXI/IXI_slices/train/IXI135-Guys-0779: 90\n",
      "../data/IXI/IXI_slices/train/IXI178-Guys-0778: 90\n",
      "../data/IXI/IXI_slices/train/IXI408-Guys-0962: 90\n",
      "../data/IXI/IXI_slices/train/IXI045-Guys-0713: 90\n",
      "../data/IXI/IXI_slices/train/IXI268-Guys-0858: 90\n",
      "../data/IXI/IXI_slices/train/IXI313-HH-2241: 90\n",
      "../data/IXI/IXI_slices/train/IXI071-Guys-0770: 90\n",
      "../data/IXI/IXI_slices/train/IXI289-Guys-0864: 90\n",
      "../data/IXI/IXI_slices/train/IXI626-Guys-1094: 90\n",
      "../data/IXI/IXI_slices/train/IXI052-HH-1343: 90\n",
      "../data/IXI/IXI_slices/train/IXI635-HH-2691: 90\n",
      "../data/IXI/IXI_slices/train/IXI376-Guys-0938: 90\n",
      "../data/IXI/IXI_slices/train/IXI417-Guys-0939: 90\n",
      "../data/IXI/IXI_slices/train/IXI254-HH-1705: 90\n",
      "../data/IXI/IXI_slices/train/IXI526-HH-2392: 90\n",
      "../data/IXI/IXI_slices/train/IXI019-Guys-0702: 90\n",
      "../data/IXI/IXI_slices/train/IXI330-Guys-0881: 90\n",
      "../data/IXI/IXI_slices/train/IXI305-IOP-0871: 96\n",
      "../data/IXI/IXI_slices/train/IXI377-Guys-0937: 90\n",
      "../data/IXI/IXI_slices/train/IXI145-Guys-0781: 90\n",
      "../data/IXI/IXI_slices/train/IXI379-Guys-0943: 90\n",
      "../data/IXI/IXI_slices/train/IXI233-IOP-0875: 96\n",
      "../data/IXI/IXI_slices/train/IXI437-HH-2152: 90\n",
      "../data/IXI/IXI_slices/train/IXI270-Guys-0847: 90\n",
      "../data/IXI/IXI_slices/train/IXI269-Guys-0839: 90\n",
      "../data/IXI/IXI_slices/train/IXI495-Guys-1009: 90\n",
      "../data/IXI/IXI_slices/train/IXI240-Guys-0834: 90\n",
      "../data/IXI/IXI_slices/train/IXI390-Guys-0931: 90\n",
      "../data/IXI/IXI_slices/train/IXI069-Guys-0769: 90\n",
      "../data/IXI/IXI_slices/train/IXI611-HH-2650: 90\n",
      "../data/IXI/IXI_slices/train/IXI288-Guys-0879: 90\n",
      "../data/IXI/IXI_slices/train/IXI091-Guys-0762: 90\n",
      "../data/IXI/IXI_slices/train/IXI263-HH-1684: 90\n",
      "../data/IXI/IXI_slices/train/IXI163-HH-1621: 90\n",
      "../data/IXI/IXI_slices/train/IXI103-Guys-0750: 90\n",
      "../data/IXI/IXI_slices/train/IXI361-Guys-0913: 90\n",
      "../data/IXI/IXI_slices/train/IXI333-IOP-0926: 96\n",
      "../data/IXI/IXI_slices/train/IXI567-HH-2536: 90\n",
      "../data/IXI/IXI_slices/train/IXI276-HH-1840: 90\n",
      "../data/IXI/IXI_slices/train/IXI383-HH-2099: 90\n",
      "../data/IXI/IXI_slices/train/IXI185-Guys-0795: 90\n",
      "../data/IXI/IXI_slices/train/IXI131-HH-1527: 90\n",
      "../data/IXI/IXI_slices/train/IXI426-IOP-1011: 96\n",
      "../data/IXI/IXI_slices/train/IXI292-IOP-0877: 96\n",
      "../data/IXI/IXI_slices/train/IXI382-IOP-1135: 96\n",
      "../data/IXI/IXI_slices/train/IXI140-Guys-0787: 90\n",
      "../data/IXI/IXI_slices/train/IXI050-Guys-0711: 90\n",
      "../data/IXI/IXI_slices/train/IXI081-Guys-0855: 90\n",
      "../data/IXI/IXI_slices/train/IXI345-IOP-0928: 96\n",
      "../data/IXI/IXI_slices/train/IXI630-Guys-1108: 90\n",
      "../data/IXI/IXI_slices/train/IXI614-HH-2735: 90\n",
      "../data/IXI/IXI_slices/train/IXI555-Guys-1074: 90\n",
      "../data/IXI/IXI_slices/train/IXI108-Guys-0865: 90\n",
      "../data/IXI/IXI_slices/train/IXI239-HH-2296: 90\n",
      "../data/IXI/IXI_slices/train/IXI208-Guys-0808: 90\n",
      "../data/IXI/IXI_slices/train/IXI120-Guys-0766: 90\n",
      "../data/IXI/IXI_slices/train/IXI172-Guys-0982: 90\n",
      "../data/IXI/IXI_slices/train/IXI324-Guys-0922: 90\n",
      "../data/IXI/IXI_slices/train/IXI031-Guys-0797: 90\n",
      "../data/IXI/IXI_slices/train/IXI364-Guys-0920: 90\n",
      "../data/IXI/IXI_slices/train/IXI455-Guys-0981: 90\n",
      "../data/IXI/IXI_slices/train/IXI062-Guys-0740: 90\n",
      "../data/IXI/IXI_slices/train/IXI528-Guys-1073: 90\n",
      "../data/IXI/IXI_slices/train/IXI038-Guys-0729: 90\n",
      "../data/IXI/IXI_slices/train/IXI574-IOP-1156: 96\n",
      "../data/IXI/IXI_slices/train/IXI599-HH-2659: 90\n",
      "../data/IXI/IXI_slices/train/IXI353-HH-1996: 90\n",
      "../data/IXI/IXI_slices/train/IXI090-Guys-0800: 90\n",
      "../data/IXI/IXI_slices/train/IXI192-Guys-0878: 90\n",
      "../data/IXI/IXI_slices/train/IXI253-HH-1694: 90\n",
      "../data/IXI/IXI_slices/train/IXI539-Guys-1067: 90\n",
      "../data/IXI/IXI_slices/train/IXI053-Guys-0727: 90\n",
      "../data/IXI/IXI_slices/train/IXI222-Guys-0819: 90\n",
      "../data/IXI/IXI_slices/train/IXI016-Guys-0697: 80\n",
      "../data/IXI/IXI_slices/train/IXI607-Guys-1097: 90\n",
      "../data/IXI/IXI_slices/train/IXI486-Guys-1005: 90\n",
      "../data/IXI/IXI_slices/train/IXI224-Guys-0823: 90\n",
      "../data/IXI/IXI_slices/train/IXI169-Guys-0842: 90\n",
      "../data/IXI/IXI_slices/train/IXI328-HH-2295: 90\n",
      "../data/IXI/IXI_slices/train/IXI589-Guys-1080: 90\n",
      "../data/IXI/IXI_slices/train/IXI494-Guys-1008: 90\n",
      "../data/IXI/IXI_slices/train/IXI089-Guys-0757: 90\n",
      "../data/IXI/IXI_slices/train/IXI636-HH-2733: 90\n",
      "../data/IXI/IXI_slices/train/IXI211-HH-1568: 90\n",
      "../data/IXI/IXI_slices/train/IXI316-HH-1862: 90\n",
      "../data/IXI/IXI_slices/train/IXI400-Guys-0977: 90\n",
      "../data/IXI/IXI_slices/train/IXI544-HH-2395: 90\n",
      "../data/IXI/IXI_slices/train/IXI633-HH-2689: 90\n",
      "../data/IXI/IXI_slices/train/IXI205-HH-1649: 90\n",
      "../data/IXI/IXI_slices/train/IXI438-HH-2155: 90\n",
      "../data/IXI/IXI_slices/train/IXI175-HH-1570: 90\n",
      "../data/IXI/IXI_slices/train/IXI126-HH-1437: 90\n",
      "../data/IXI/IXI_slices/train/IXI538-HH-2411: 90\n",
      "../data/IXI/IXI_slices/train/IXI523-Guys-1056: 90\n",
      "../data/IXI/IXI_slices/train/IXI096-HH-1391: 90\n",
      "../data/IXI/IXI_slices/train/IXI652-Guys-1116: 90\n",
      "../data/IXI/IXI_slices/train/IXI536-Guys-1059: 90\n",
      "../data/IXI/IXI_slices/train/IXI484-HH-2179: 90\n",
      "../data/IXI/IXI_slices/train/IXI277-HH-1770: 90\n",
      "../data/IXI/IXI_slices/train/IXI391-Guys-0934: 90\n",
      "../data/IXI/IXI_slices/train/IXI651-Guys-1118: 90\n",
      "../data/IXI/IXI_slices/train/IXI134-Guys-0780: 90\n",
      "../data/IXI/IXI_slices/train/IXI596-IOP-1160: 96\n",
      "../data/IXI/IXI_slices/train/IXI195-HH-1620: 90\n",
      "../data/IXI/IXI_slices/train/IXI525-HH-2413: 90\n",
      "../data/IXI/IXI_slices/train/IXI070-Guys-0767: 90\n",
      "../data/IXI/IXI_slices/train/IXI026-Guys-0696: 80\n",
      "../data/IXI/IXI_slices/train/IXI056-HH-1327: 90\n",
      "../data/IXI/IXI_slices/train/IXI483-HH-2177: 90\n",
      "../data/IXI/IXI_slices/train/IXI435-IOP-1040: 96\n",
      "../data/IXI/IXI_slices/train/IXI067-HH-1356: 90\n",
      "../data/IXI/IXI_slices/train/IXI322-IOP-0891: 96\n",
      "../data/IXI/IXI_slices/train/IXI100-Guys-0747: 90\n",
      "../data/IXI/IXI_slices/train/IXI552-Guys-1063: 90\n",
      "../data/IXI/IXI_slices/train/IXI312-Guys-0887: 90\n",
      "../data/IXI/IXI_slices/train/IXI093-HH-1359: 90\n",
      "../data/IXI/IXI_slices/train/IXI244-Guys-0841: 90\n",
      "../data/IXI/IXI_slices/train/IXI661-HH-2788: 90\n",
      "../data/IXI/IXI_slices/train/IXI121-Guys-0772: 90\n",
      "../data/IXI/IXI_slices/train/IXI363-HH-2050: 90\n",
      "../data/IXI/IXI_slices/train/IXI475-IOP-1139: 96\n",
      "../data/IXI/IXI_slices/train/IXI236-Guys-0817: 90\n",
      "../data/IXI/IXI_slices/train/IXI148-HH-1453: 90\n",
      "../data/IXI/IXI_slices/train/IXI617-Guys-1090: 90\n",
      "../data/IXI/IXI_slices/train/IXI139-Guys-0815: 90\n",
      "../data/IXI/IXI_slices/train/IXI092-HH-1436: 90\n",
      "../data/IXI/IXI_slices/train/IXI373-IOP-0967: 96\n",
      "../data/IXI/IXI_slices/train/IXI218-HH-1815: 90\n",
      "../data/IXI/IXI_slices/train/IXI401-Guys-0978: 90\n",
      "../data/IXI/IXI_slices/train/IXI428-Guys-0996: 90\n",
      "../data/IXI/IXI_slices/train/IXI360-Guys-0912: 90\n",
      "../data/IXI/IXI_slices/train/IXI381-Guys-1024: 90\n",
      "../data/IXI/IXI_slices/train/IXI204-HH-1651: 90\n",
      "../data/IXI/IXI_slices/train/IXI258-HH-1769: 90\n",
      "../data/IXI/IXI_slices/train/IXI474-IOP-1138: 96\n",
      "../data/IXI/IXI_slices/train/IXI280-HH-1860: 90\n",
      "../data/IXI/IXI_slices/train/IXI492-Guys-1022: 90\n",
      "../data/IXI/IXI_slices/train/IXI264-Guys-0854: 90\n",
      "../data/IXI/IXI_slices/train/IXI481-HH-2175: 90\n",
      "../data/IXI/IXI_slices/train/IXI510-IOP-1143: 96\n",
      "../data/IXI/IXI_slices/train/IXI369-Guys-0924: 90\n",
      "../data/IXI/IXI_slices/train/IXI350-Guys-0908: 90\n",
      "../data/IXI/IXI_slices/train/IXI027-Guys-0710: 90\n",
      "../data/IXI/IXI_slices/train/IXI040-Guys-0724: 90\n",
      "../data/IXI/IXI_slices/train/IXI144-Guys-0788: 90\n",
      "../data/IXI/IXI_slices/train/IXI367-Guys-0917: 90\n",
      "../data/IXI/IXI_slices/train/IXI386-HH-2077: 90\n",
      "../data/IXI/IXI_slices/train/IXI430-IOP-0990: 96\n",
      "../data/IXI/IXI_slices/train/IXI515-HH-2377: 90\n",
      "../data/IXI/IXI_slices/train/IXI209-Guys-0804: 90\n",
      "../data/IXI/IXI_slices/train/IXI368-Guys-0916: 90\n",
      "../data/IXI/IXI_slices/train/IXI231-IOP-0866: 96\n",
      "../data/IXI/IXI_slices/train/IXI186-Guys-0796: 90\n",
      "../data/IXI/IXI_slices/train/IXI265-Guys-0845: 90\n",
      "../data/IXI/IXI_slices/train/IXI642-Guys-1104: 90\n",
      "../data/IXI/IXI_slices/train/IXI634-HH-2690: 90\n",
      "../data/IXI/IXI_slices/train/IXI085-Guys-0759: 90\n",
      "../data/IXI/IXI_slices/train/IXI319-Guys-0901: 90\n",
      "../data/IXI/IXI_slices/train/IXI406-Guys-0963: 90\n",
      "../data/IXI/IXI_slices/train/IXI161-HH-2533: 90\n",
      "../data/IXI/IXI_slices/train/IXI460-Guys-0999: 90\n",
      "../data/IXI/IXI_slices/train/IXI249-Guys-1072: 90\n",
      "../data/IXI/IXI_slices/train/IXI097-HH-1619: 90\n",
      "../data/IXI/IXI_slices/train/IXI516-HH-2297: 90\n",
      "../data/IXI/IXI_slices/train/IXI200-Guys-0812: 90\n",
      "../data/IXI/IXI_slices/train/IXI002-Guys-0828: 90\n",
      "../data/IXI/IXI_slices/train/IXI105-HH-1471: 90\n",
      "../data/IXI/IXI_slices/train/IXI122-Guys-0773: 90\n",
      "../data/IXI/IXI_slices/train/IXI318-Guys-0895: 90\n",
      "../data/IXI/IXI_slices/train/IXI551-Guys-1065: 90\n",
      "../data/IXI/IXI_slices/train/IXI644-Guys-1121: 90\n",
      "../data/IXI/IXI_slices/train/IXI532-IOP-1145: 96\n",
      "../data/IXI/IXI_slices/train/IXI341-Guys-0906: 90\n",
      "../data/IXI/IXI_slices/train/IXI582-Guys-1127: 90\n",
      "../data/IXI/IXI_slices/train/IXI362-HH-2051: 90\n",
      "../data/IXI/IXI_slices/train/IXI610-HH-2649: 90\n",
      "../data/IXI/IXI_slices/train/IXI554-Guys-1068: 90\n",
      "../data/IXI/IXI_slices/train/IXI129-Guys-0775: 90\n",
      "../data/IXI/IXI_slices/train/IXI434-IOP-1010: 96\n",
      "../data/IXI/IXI_slices/train/IXI083-HH-1357: 90\n",
      "../data/IXI/IXI_slices/train/IXI385-HH-2078: 90\n",
      "../data/IXI/IXI_slices/train/IXI303-IOP-0968: 96\n",
      "../data/IXI/IXI_slices/train/IXI247-Guys-0838: 90\n",
      "../data/IXI/IXI_slices/train/IXI585-Guys-1130: 90\n",
      "../data/IXI/IXI_slices/train/IXI394-Guys-0940: 90\n",
      "../data/IXI/IXI_slices/train/IXI418-Guys-0956: 90\n",
      "../data/IXI/IXI_slices/train/IXI342-Guys-0909: 90\n",
      "../data/IXI/IXI_slices/train/IXI012-HH-1211: 72\n",
      "../data/IXI/IXI_slices/train/IXI033-HH-1259: 80\n",
      "../data/IXI/IXI_slices/train/IXI123-Guys-0774: 90\n",
      "../data/IXI/IXI_slices/train/IXI118-Guys-0764: 90\n",
      "../data/IXI/IXI_slices/train/IXI420-Guys-1028: 90\n",
      "../data/IXI/IXI_slices/train/IXI230-IOP-0869: 96\n",
      "../data/IXI/IXI_slices/train/IXI024-Guys-0705: 90\n",
      "../data/IXI/IXI_slices/train/IXI034-HH-1260: 80\n",
      "../data/IXI/IXI_slices/train/IXI287-Guys-0863: 90\n",
      "../data/IXI/IXI_slices/train/IXI407-Guys-0964: 90\n",
      "../data/IXI/IXI_slices/train/IXI332-IOP-1134: 96\n",
      "../data/IXI/IXI_slices/train/IXI556-HH-2452: 90\n",
      "../data/IXI/IXI_slices/train/IXI504-Guys-1025: 90\n",
      "../data/IXI/IXI_slices/train/IXI643-HH-2787: 90\n",
      "../data/IXI/IXI_slices/train/IXI347-IOP-0927: 96\n",
      "../data/IXI/IXI_slices/train/IXI101-Guys-0749: 90\n",
      "../data/IXI/IXI_slices/train/IXI470-IOP-1030: 96\n",
      "../data/IXI/IXI_slices/train/IXI335-HH-1906: 90\n",
      "../data/IXI/IXI_slices/train/IXI507-Guys-1036: 90\n",
      "../data/IXI/IXI_slices/train/IXI378-IOP-0972: 96\n",
      "../data/IXI/IXI_slices/train/IXI627-Guys-1103: 90\n",
      "../data/IXI/IXI_slices/train/IXI389-Guys-0930: 90\n",
      "../data/IXI/IXI_slices/train/IXI217-HH-1638: 90\n",
      "../data/IXI/IXI_slices/train/IXI531-Guys-1057: 90\n",
      "../data/IXI/IXI_slices/train/IXI548-IOP-1150: 96\n",
      "../data/IXI/IXI_slices/train/IXI072-HH-2324: 90\n",
      "../data/IXI/IXI_slices/train/IXI638-HH-2786: 90\n",
      "../data/IXI/IXI_slices/train/IXI334-HH-1907: 90\n",
      "../data/IXI/IXI_slices/train/IXI464-IOP-1029: 96\n",
      "../data/IXI/IXI_slices/train/IXI522-HH-2453: 90\n",
      "../data/IXI/IXI_slices/train/IXI600-HH-2660: 90\n",
      "../data/IXI/IXI_slices/train/IXI365-Guys-0923: 90\n",
      "../data/IXI/IXI_slices/train/IXI413-Guys-0955: 90\n",
      "../data/IXI/IXI_slices/train/IXI488-Guys-1015: 90\n",
      "../data/IXI/IXI_slices/train/IXI395-IOP-0969: 96\n",
      "../data/IXI/IXI_slices/train/IXI480-Guys-1033: 90\n",
      "../data/IXI/IXI_slices/train/IXI398-Guys-0952: 90\n",
      "../data/IXI/IXI_slices/train/IXI443-HH-2215: 90\n",
      "../data/IXI/IXI_slices/train/IXI158-Guys-0783: 90\n",
      "../data/IXI/IXI_slices/train/IXI535-Guys-1061: 90\n",
      "../data/IXI/IXI_slices/train/IXI046-Guys-0824: 90\n",
      "../data/IXI/IXI_slices/train/IXI202-HH-1526: 90\n",
      "../data/IXI/IXI_slices/train/IXI228-Guys-0822: 90\n",
      "../data/IXI/IXI_slices/train/IXI354-HH-2024: 90\n",
      "../data/IXI/IXI_slices/train/IXI232-IOP-0898: 96\n",
      "../data/IXI/IXI_slices/train/IXI266-Guys-0853: 90\n",
      "../data/IXI/IXI_slices/train/IXI463-IOP-1043: 96\n",
      "../data/IXI/IXI_slices/train/IXI174-HH-1571: 90\n",
      "../data/IXI/IXI_slices/train/IXI594-Guys-1089: 90\n",
      "../data/IXI/IXI_slices/train/IXI064-Guys-0743: 90\n",
      "../data/IXI/IXI_slices/train/IXI079-HH-1388: 90\n",
      "../data/IXI/IXI_slices/train/IXI057-HH-1342: 90\n",
      "../data/IXI/IXI_slices/train/IXI375-Guys-0925: 90\n",
      "../data/IXI/IXI_slices/train/IXI104-HH-1450: 90\n",
      "../data/IXI/IXI_slices/train/IXI586-HH-2451: 90\n",
      "../data/IXI/IXI_slices/train/IXI577-HH-2661: 90\n",
      "../data/IXI/IXI_slices/train/IXI157-Guys-0816: 90\n",
      "../data/IXI/IXI_slices/train/IXI521-HH-2353: 90\n",
      "../data/IXI/IXI_slices/train/IXI571-IOP-1154: 96\n",
      "../data/IXI/IXI_slices/train/IXI099-Guys-0748: 90\n",
      "../data/IXI/IXI_slices/train/IXI597-IOP-1161: 96\n",
      "../data/IXI/IXI_slices/train/IXI262-HH-1861: 90\n",
      "../data/IXI/IXI_slices/train/IXI216-HH-1635: 90\n",
      "../data/IXI/IXI_slices/train/IXI452-HH-2213: 90\n",
      "../data/IXI/IXI_slices/train/IXI584-Guys-1129: 90\n",
      "../data/IXI/IXI_slices/train/IXI314-IOP-0889: 96\n",
      "../data/IXI/IXI_slices/train/IXI487-Guys-1037: 90\n",
      "../data/IXI/IXI_slices/train/IXI076-Guys-0753: 90\n",
      "../data/IXI/IXI_slices/train/IXI238-IOP-0883: 96\n",
      "../data/IXI/IXI_slices/train/IXI498-Guys-1050: 90\n",
      "../data/IXI/IXI_slices/train/IXI013-HH-1212: 76\n",
      "../data/IXI/IXI_slices/train/IXI151-Guys-0793: 90\n",
      "../data/IXI/IXI_slices/train/IXI256-HH-1723: 90\n",
      "../data/IXI/IXI_slices/train/IXI274-HH-2294: 90\n",
      "../data/IXI/IXI_slices/train/IXI491-Guys-1032: 90\n",
      "../data/IXI/IXI_slices/train/IXI444-HH-2270: 90\n",
      "../data/IXI/IXI_slices/train/IXI546-HH-2450: 90\n",
      "../data/IXI/IXI_slices/train/IXI326-Guys-0907: 90\n",
      "../data/IXI/IXI_slices/train/IXI188-Guys-0798: 90\n",
      "../data/IXI/IXI_slices/train/IXI534-Guys-1062: 90\n",
      "../data/IXI/IXI_slices/train/IXI414-Guys-0957: 90\n",
      "../data/IXI/IXI_slices/train/IXI166-Guys-0846: 90\n",
      "../data/IXI/IXI_slices/train/IXI041-Guys-0706: 90\n",
      "../data/IXI/IXI_slices/train/IXI065-Guys-0744: 90\n",
      "../data/IXI/IXI_slices/train/IXI107-Guys-0761: 90\n",
      "../data/IXI/IXI_slices/train/IXI337-IOP-0929: 96\n",
      "../data/IXI/IXI_slices/train/IXI384-HH-2100: 90\n",
      "../data/IXI/IXI_slices/train/IXI625-Guys-1098: 90\n",
      "../data/IXI/IXI_slices/train/IXI527-HH-2376: 90\n",
      "../data/IXI/IXI_slices/train/IXI446-HH-2325: 90\n",
      "../data/IXI/IXI_slices/train/IXI453-HH-2214: 90\n",
      "../data/IXI/IXI_slices/train/IXI562-Guys-1131: 90\n",
      "../data/IXI/IXI_slices/train/IXI621-Guys-1100: 90\n",
      "../data/IXI/IXI_slices/train/IXI325-Guys-0911: 90\n",
      "../data/IXI/IXI_slices/train/IXI128-HH-1470: 90\n",
      "../data/IXI/IXI_slices/train/IXI146-HH-1389: 90\n",
      "../data/IXI/IXI_slices/train/IXI485-HH-2180: 90\n",
      "../data/IXI/IXI_slices/train/IXI609-HH-2600: 90\n",
      "../data/IXI/IXI_slices/train/IXI073-Guys-0755: 90\n",
      "../data/IXI/IXI_slices/train/IXI206-HH-1650: 90\n",
      "../data/IXI/IXI_slices/train/IXI317-Guys-0896: 90\n",
      "../data/IXI/IXI_slices/train/IXI214-HH-1636: 90\n",
      "../data/IXI/IXI_slices/train/IXI213-HH-1642: 90\n",
      "../data/IXI/IXI_slices/train/IXI048-HH-1326: 90\n",
      "../data/IXI/IXI_slices/train/IXI194-Guys-0818: 90\n",
      "../data/IXI/IXI_slices/train/IXI078-Guys-0751: 90\n",
      "../data/IXI/IXI_slices/train/IXI060-Guys-0709: 90\n",
      "../data/IXI/IXI_slices/train/IXI503-Guys-1021: 90\n",
      "../data/IXI/IXI_slices/train/IXI601-HH-2700: 90\n",
      "../data/IXI/IXI_slices/train/IXI592-Guys-1085: 90\n",
      "../data/IXI/IXI_slices/train/IXI439-HH-2114: 90\n",
      "../data/IXI/IXI_slices/train/IXI058-Guys-0726: 90\n",
      "../data/IXI/IXI_slices/train/IXI153-Guys-0782: 90\n",
      "../data/IXI/IXI_slices/train/IXI110-Guys-0733: 90\n",
      "../data/IXI/IXI_slices/train/IXI029-Guys-0829: 90\n",
      "../data/IXI/IXI_slices/train/IXI282-HH-2025: 90\n",
      "../data/IXI/IXI_slices/train/IXI255-HH-1882: 90\n",
      "../data/IXI/IXI_slices/train/IXI068-Guys-0756: 90\n",
      "../data/IXI/IXI_slices/train/IXI278-HH-1771: 90\n",
      "../data/IXI/IXI_slices/train/IXI242-HH-1722: 90\n",
      "../data/IXI/IXI_slices/train/IXI176-HH-1604: 90\n",
      "../data/IXI/IXI_slices/train/IXI177-Guys-0831: 90\n",
      "../data/IXI/IXI_slices/train/IXI286-Guys-0859: 90\n",
      "../data/IXI/IXI_slices/train/IXI573-IOP-1155: 96\n",
      "../data/IXI/IXI_slices/train/IXI321-Guys-0903: 90\n",
      "../data/IXI/IXI_slices/train/IXI424-IOP-0991: 96\n",
      "../data/IXI/IXI_slices/train/IXI156-Guys-0837: 90\n",
      "../data/IXI/IXI_slices/train/IXI606-HH-2601: 90\n",
      "../data/IXI/IXI_slices/train/IXI297-Guys-0886: 90\n",
      "../data/IXI/IXI_slices/train/IXI234-IOP-0870: 96\n",
      "../data/IXI/IXI_slices/train/IXI569-Guys-1101: 90\n",
      "../data/IXI/IXI_slices/train/IXI344-Guys-0905: 90\n",
      "../data/IXI/IXI_slices/train/IXI021-Guys-0703: 90\n",
      "../data/IXI/IXI_slices/train/IXI454-Guys-1083: 90\n",
      "../data/IXI/IXI_slices/train/IXI077-Guys-0752: 90\n",
      "../data/IXI/IXI_slices/train/IXI431-Guys-0986: 90\n",
      "../data/IXI/IXI_slices/train/IXI576-Guys-1077: 90\n",
      "../data/IXI/IXI_slices/train/IXI542-IOP-1147: 96\n",
      "../data/IXI/IXI_slices/train/IXI612-HH-2688: 90\n",
      "../data/IXI/IXI_slices/train/IXI197-Guys-0811: 90\n",
      "../data/IXI/IXI_slices/train/IXI370-Guys-0921: 90\n",
      "../data/IXI/IXI_slices/train/IXI629-Guys-1095: 90\n",
      "../data/IXI/IXI_slices/train/IXI579-Guys-1126: 90\n",
      "../data/IXI/IXI_slices/train/IXI095-HH-1390: 90\n",
      "../data/IXI/IXI_slices/train/IXI448-HH-2393: 90\n",
      "../data/IXI/IXI_slices/train/IXI308-Guys-0884: 90\n",
      "../data/IXI/IXI_slices/train/IXI290-IOP-0874: 96\n",
      "../data/IXI/IXI_slices/train/IXI409-Guys-0960: 90\n",
      "../data/IXI/IXI_slices/train/IXI547-IOP-1149: 96\n",
      "../data/IXI/IXI_slices/train/IXI501-Guys-1016: 90\n",
      "../data/IXI/IXI_slices/train/IXI293-IOP-0876: 96\n",
      "../data/IXI/IXI_slices/train/IXI248-HH-1972: 90\n",
      "../data/IXI/IXI_slices/train/IXI559-HH-2394: 90\n",
      "../data/IXI/IXI_slices/train/IXI640-Guys-1106: 90\n",
      "../data/IXI/IXI_slices/train/IXI086-Guys-0728: 90\n",
      "../data/IXI/IXI_slices/train/IXI387-HH-2101: 90\n",
      "../data/IXI/IXI_slices/train/IXI302-HH-1883: 90\n",
      "../data/IXI/IXI_slices/train/IXI631-HH-2651: 90\n",
      "../data/IXI/IXI_slices/train/IXI179-Guys-0777: 90\n",
      "../data/IXI/IXI_slices/train/IXI511-HH-2238: 90\n",
      "../data/IXI/IXI_slices/train/IXI563-IOP-1153: 96\n",
      "../data/IXI/IXI_slices/train/IXI587-Guys-1128: 90\n",
      "../data/IXI/IXI_slices/train/IXI608-HH-2599: 90\n",
      "../data/IXI/IXI_slices/train/IXI170-Guys-0843: 90\n",
      "../data/IXI/IXI_slices/train/IXI115-Guys-0738: 90\n",
      "../data/IXI/IXI_slices/train/IXI410-Guys-0958: 90\n",
      "../data/IXI/IXI_slices/train/IXI499-Guys-1004: 90\n",
      "../data/IXI/IXI_slices/train/IXI225-Guys-0832: 90\n",
      "../data/IXI/IXI_slices/train/IXI458-Guys-0993: 90\n",
      "../data/IXI/IXI_slices/train/IXI399-Guys-0966: 90\n",
      "../data/IXI/IXI_slices/train/IXI451-HH-2212: 90\n",
      "../data/IXI/IXI_slices/train/IXI127-HH-1451: 90\n",
      "../data/IXI/IXI_slices/train/IXI436-HH-2153: 90\n",
      "../data/IXI/IXI_slices/train/IXI572-HH-2605: 90\n",
      "../data/IXI/IXI_slices/train/IXI114-Guys-0737: 90\n",
      "../data/IXI/IXI_slices/train/IXI336-Guys-0904: 90\n",
      "../data/IXI/IXI_slices/train/IXI637-HH-2785: 90\n",
      "../data/IXI/IXI_slices/train/IXI357-HH-2076: 90\n",
      "../data/IXI/IXI_slices/train/IXI623-Guys-1076: 90\n",
      "../data/IXI/IXI_slices/train/IXI295-HH-1814: 90\n",
      "../data/IXI/IXI_slices/train/IXI502-Guys-1020: 90\n",
      "../data/IXI/IXI_slices/train/IXI533-Guys-1066: 90\n",
      "../data/IXI/IXI_slices/train/IXI168-HH-1607: 90\n",
      "../data/IXI/IXI_slices/train/IXI613-HH-2734: 90\n",
      "../data/IXI/IXI_slices/train/IXI154-Guys-0821: 90\n",
      "../data/IXI/IXI_slices/train/IXI490-Guys-1018: 90\n",
      "../data/IXI/IXI_slices/train/IXI196-Guys-0805: 90\n",
      "../data/IXI/IXI_slices/train/IXI496-Guys-1045: 90\n",
      "../data/IXI/IXI_slices/train/IXI143-Guys-0785: 90\n",
      "../data/IXI/IXI_slices/train/IXI517-IOP-1144: 96\n",
      "../data/IXI/IXI_slices/train/IXI404-Guys-0950: 90\n",
      "../data/IXI/IXI_slices/train/IXI397-Guys-0953: 90\n",
      "../data/IXI/IXI_slices/train/IXI315-IOP-0888: 96\n",
      "../data/IXI/IXI_slices/train/IXI541-IOP-1146: 96\n",
      "../data/IXI/IXI_slices/train/IXI061-Guys-0715: 90\n",
      "../data/IXI/IXI_slices/train/IXI042-Guys-0725: 90\n",
      "../data/IXI/IXI_slices/train/IXI405-Guys-0948: 90\n",
      "../data/IXI/IXI_slices/train/IXI329-HH-1908: 90\n",
      "../data/IXI/IXI_slices/train/IXI359-Guys-0918: 90\n",
      "../data/IXI/IXI_slices/train/IXI207-Guys-0809: 90\n",
      "../data/IXI/IXI_slices/train/IXI136-HH-1452: 90\n",
      "../data/IXI/IXI_slices/train/IXI022-Guys-0701: 90\n",
      "../data/IXI/IXI_slices/train/IXI037-Guys-0704: 90\n",
      "../data/IXI/IXI_slices/train/IXI294-IOP-0868: 96\n",
      "../data/IXI/IXI_slices/train/IXI425-IOP-0988: 96\n"
     ]
    },
    {
     "name": "stdout",
     "output_type": "stream",
     "text": [
      "../data/IXI/IXI_slices/train/IXI356-HH-2049: 90\n",
      "../data/IXI/IXI_slices/train/IXI201-HH-1588: 90\n",
      "../data/IXI/IXI_slices/train/IXI393-Guys-0941: 90\n",
      "../data/IXI/IXI_slices/train/IXI251-Guys-1055: 90\n",
      "../data/IXI/IXI_slices/train/IXI512-Guys-1054: 90\n",
      "../data/IXI/IXI_slices/train/IXI320-Guys-0902: 90\n"
     ]
    }
   ],
   "source": [
    "for case in cases:\n",
    "    files = glob.glob(os.path.join(case, \"*.npy\"))\n",
    "    print(f\"{case}: {len(files)}\")"
   ]
  },
  {
   "cell_type": "code",
   "execution_count": 27,
   "id": "ec9cd6d5",
   "metadata": {},
   "outputs": [],
   "source": [
    "import pickle\n",
    "train_hist = pickle.load(open(\"model/MMGAN/mmgan_brats_zeros_cl_single_0110/train_hist.pkl\", 'rb'))"
   ]
  },
  {
   "cell_type": "code",
   "execution_count": 28,
   "id": "27e3144b",
   "metadata": {},
   "outputs": [],
   "source": [
    "val_mse = np.array(train_hist['test_loss']['mse'])\n",
    "val_psnr = np.array(train_hist['test_loss']['psnr'])\n",
    "val_ssim = np.array(train_hist['test_loss']['ssim'])"
   ]
  },
  {
   "cell_type": "code",
   "execution_count": 29,
   "id": "ea58f740",
   "metadata": {},
   "outputs": [],
   "source": [
    "import matplotlib.pyplot as plt"
   ]
  },
  {
   "cell_type": "code",
   "execution_count": 30,
   "id": "c53b6d42",
   "metadata": {},
   "outputs": [
    {
     "name": "stdout",
     "output_type": "stream",
     "text": [
      "58\n"
     ]
    },
    {
     "data": {
      "text/plain": [
       "[<matplotlib.lines.Line2D at 0x7fce3b8c3c70>]"
      ]
     },
     "execution_count": 30,
     "metadata": {},
     "output_type": "execute_result"
    },
    {
     "data": {
      "image/png": "[encoded data removed]",
      "text/plain": [
       "<Figure size 432x288 with 1 Axes>"
      ]
     },
     "metadata": {
      "needs_background": "light"
     },
     "output_type": "display_data"
    }
   ],
   "source": [
    "print(np.argmin(val_mse))\n",
    "plt.plot(val_mse)"
   ]
  },
  {
   "cell_type": "code",
   "execution_count": 31,
   "id": "5b8ba376",
   "metadata": {},
   "outputs": [
    {
     "name": "stdout",
     "output_type": "stream",
     "text": [
      "58\n"
     ]
    },
    {
     "data": {
      "text/plain": [
       "[<matplotlib.lines.Line2D at 0x7fce3b8a78e0>]"
      ]
     },
     "execution_count": 31,
     "metadata": {},
     "output_type": "execute_result"
    },
    {
     "data": {
      "image/png": "[encoded data removed]",
      "text/plain": [
       "<Figure size 432x288 with 1 Axes>"
      ]
     },
     "metadata": {
      "needs_background": "light"
     },
     "output_type": "display_data"
    }
   ],
   "source": [
    "print(np.argmax(val_psnr))\n",
    "plt.plot(val_psnr)"
   ]
  },
  {
   "cell_type": "code",
   "execution_count": 32,
   "id": "6fccda5b",
   "metadata": {},
   "outputs": [
    {
     "name": "stdout",
     "output_type": "stream",
     "text": [
      "58\n"
     ]
    },
    {
     "data": {
      "text/plain": [
       "[<matplotlib.lines.Line2D at 0x7fce3b8045e0>]"
      ]
     },
     "execution_count": 32,
     "metadata": {},
     "output_type": "execute_result"
    },
    {
     "data": {
      "image/png": "[encoded data removed]",
      "text/plain": [
       "<Figure size 432x288 with 1 Axes>"
      ]
     },
     "metadata": {
      "needs_background": "light"
     },
     "output_type": "display_data"
    }
   ],
   "source": [
    "print(np.argmax(val_ssim))\n",
    "plt.plot(val_ssim)"
   ]
  },
  {
   "cell_type": "code",
   "execution_count": 36,
   "id": "a96ca96f",
   "metadata": {},
   "outputs": [],
   "source": [
    "import pickle\n",
    "train_hist = pickle.load(open(\"model/MMGAN/mmgan_ixi_random_0118/train_hist.pkl\", 'rb'))"
   ]
  },
  {
   "cell_type": "code",
   "execution_count": 37,
   "id": "fe05ddd6",
   "metadata": {},
   "outputs": [
    {
     "data": {
      "text/plain": [
       "dict_keys(['D_losses', 'G_losses', 'per_epoch_ptimes', 'total_ptime', 'test_loss'])"
      ]
     },
     "execution_count": 37,
     "metadata": {},
     "output_type": "execute_result"
    }
   ],
   "source": [
    "train_hist.keys()"
   ]
  },
  {
   "cell_type": "code",
   "execution_count": 38,
   "id": "8830e41e",
   "metadata": {},
   "outputs": [
    {
     "data": {
      "text/plain": [
       "[<matplotlib.lines.Line2D at 0x7fce3ba4ac10>]"
      ]
     },
     "execution_count": 38,
     "metadata": {},
     "output_type": "execute_result"
    },
    {
     "data": {
      "image/png": "[encoded data removed]",
      "text/plain": [
       "<Figure size 432x288 with 1 Axes>"
      ]
     },
     "metadata": {
      "needs_background": "light"
     },
     "output_type": "display_data"
    }
   ],
   "source": [
    "import matplotlib.pyplot as plt\n",
    "plt.plot(train_hist['G_losses'])"
   ]
  },
  {
   "cell_type": "code",
   "execution_count": 26,
   "id": "35fb57cd",
   "metadata": {},
   "outputs": [
    {
     "name": "stdout",
     "output_type": "stream",
     "text": [
      "30\n"
     ]
    },
    {
     "data": {
      "text/plain": [
       "tensor(0.1679)"
      ]
     },
     "execution_count": 26,
     "metadata": {},
     "output_type": "execute_result"
    }
   ],
   "source": [
    "import numpy as np\n",
    "print(np.argmin(train_hist['G_losses']))\n",
    "train_hist['G_losses'][58]"
   ]
  },
  {
   "cell_type": "code",
   "execution_count": 1,
   "id": "cfec52d9",
   "metadata": {},
   "outputs": [],
   "source": [
    "from openpyxl import Workbook\n",
    "wb = Workbook()\n",
    "ws = wb.create_sheet(title=\"test\")"
   ]
  },
  {
   "cell_type": "code",
   "execution_count": 4,
   "id": "f561e060",
   "metadata": {},
   "outputs": [],
   "source": [
    "ws.cell(1,1).value = 'TEST'"
   ]
  },
  {
   "cell_type": "code",
   "execution_count": 5,
   "id": "529197cb",
   "metadata": {},
   "outputs": [],
   "source": [
    "wb.save(\"test.xlsx\")"
   ]
  },
  {
   "cell_type": "code",
   "execution_count": null,
   "id": "14395428",
   "metadata": {},
   "outputs": [],
   "source": []
  }
 ],
 "metadata": {
  "kernelspec": {
   "display_name": "Python 3 (ipykernel)",
   "language": "python",
   "name": "python3"
  },
  "language_info": {
   "codemirror_mode": {
    "name": "ipython",
    "version": 3
   },
   "file_extension": ".py",
   "mimetype": "text/x-python",
   "name": "python",
   "nbconvert_exporter": "python",
   "pygments_lexer": "ipython3",
   "version": "3.9.7"
  }
 },
 "nbformat": 4,
 "nbformat_minor": 5
}
