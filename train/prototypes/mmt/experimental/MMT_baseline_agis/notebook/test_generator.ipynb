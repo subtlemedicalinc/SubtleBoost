{
 "cells": [
  {
   "cell_type": "code",
   "execution_count": 1,
   "id": "ea045a79",
   "metadata": {},
   "outputs": [],
   "source": [
    "from config import _update_config_from_file, _C\n",
    "import os\n",
    "from networks.swin_transformer_unet_skip_expand_decoder_sys import SwinTransformerSys"
   ]
  },
  {
   "cell_type": "code",
   "execution_count": 2,
   "id": "62a902ba",
   "metadata": {},
   "outputs": [],
   "source": [
    "os.environ[\"CUDA_VISIBLE_DEVICES\"]=\"1\""
   ]
  },
  {
   "cell_type": "code",
   "execution_count": 3,
   "id": "5d5830e2",
   "metadata": {},
   "outputs": [
    {
     "name": "stdout",
     "output_type": "stream",
     "text": [
      "=> merge config from networks/swin_tiny_patch4_window7_224_lite.yml\n"
     ]
    }
   ],
   "source": [
    "_update_config_from_file(_C, 'networks/swin_tiny_patch4_window7_224_lite.yml')\n",
    "config = _C"
   ]
  },
  {
   "cell_type": "code",
   "execution_count": 4,
   "id": "6a1974ef",
   "metadata": {},
   "outputs": [
    {
     "name": "stdout",
     "output_type": "stream",
     "text": [
      "SwinTransformerSys expand initial----depths:[2, 2, 2, 1];depths_decoder:[1, 2, 2, 2];drop_path_rate:0.2\n",
      "---final upsample expand_first---\n"
     ]
    }
   ],
   "source": [
    "g = SwinTransformerSys(img_size=config.DATA.IMG_SIZE,\n",
    "                                patch_size=config.MODEL.SWIN.PATCH_SIZE,\n",
    "                                in_chans=config.MODEL.SWIN.IN_CHANS,\n",
    "                                out_chans = config.MODEL.SWIN.OUT_CHANS,\n",
    "                                embed_dim=config.MODEL.SWIN.EMBED_DIM,\n",
    "                                depths=config.MODEL.SWIN.DEPTHS,\n",
    "                                num_heads=config.MODEL.SWIN.NUM_HEADS,\n",
    "                                window_size=config.MODEL.SWIN.WINDOW_SIZE,\n",
    "                                mlp_ratio=config.MODEL.SWIN.MLP_RATIO,\n",
    "                                qkv_bias=config.MODEL.SWIN.QKV_BIAS,\n",
    "                                qk_scale=config.MODEL.SWIN.QK_SCALE,\n",
    "                                drop_rate=config.MODEL.DROP_RATE,\n",
    "                                drop_path_rate=config.MODEL.DROP_PATH_RATE,\n",
    "                                ape=config.MODEL.SWIN.APE,\n",
    "                                patch_norm=config.MODEL.SWIN.PATCH_NORM,\n",
    "                                use_checkpoint=config.TRAIN.USE_CHECKPOINT)"
   ]
  },
  {
   "cell_type": "code",
   "execution_count": 5,
   "id": "fea9adca",
   "metadata": {},
   "outputs": [],
   "source": [
    "g = g.cuda()"
   ]
  },
  {
   "cell_type": "code",
   "execution_count": 6,
   "id": "274e617b",
   "metadata": {},
   "outputs": [],
   "source": [
    "import torch\n",
    "data = [torch.randn(1, 1, 192, 192).cuda() for i in range(3)]\n",
    "inputs = [0, 1, 2]\n",
    "outputs = [3]"
   ]
  },
  {
   "cell_type": "code",
   "execution_count": 7,
   "id": "0e788129",
   "metadata": {},
   "outputs": [],
   "source": [
    "outputs_syn = g(data, inputs, outputs)"
   ]
  },
  {
   "cell_type": "code",
   "execution_count": 9,
   "id": "4cf82c69",
   "metadata": {},
   "outputs": [
    {
     "data": {
      "text/plain": [
       "torch.Size([1, 1, 192, 192])"
      ]
     },
     "execution_count": 9,
     "metadata": {},
     "output_type": "execute_result"
    }
   ],
   "source": [
    "outputs_syn[0].shape"
   ]
  },
  {
   "cell_type": "code",
   "execution_count": null,
   "id": "943e292a",
   "metadata": {},
   "outputs": [],
   "source": []
  },
  {
   "cell_type": "code",
   "execution_count": null,
   "id": "6831a5ae",
   "metadata": {},
   "outputs": [],
   "source": []
  }
 ],
 "metadata": {
  "kernelspec": {
   "display_name": "Python 3",
   "language": "python",
   "name": "python3"
  },
  "language_info": {
   "codemirror_mode": {
    "name": "ipython",
    "version": 3
   },
   "file_extension": ".py",
   "mimetype": "text/x-python",
   "name": "python",
   "nbconvert_exporter": "python",
   "pygments_lexer": "ipython3",
   "version": "3.8.10"
  }
 },
 "nbformat": 4,
 "nbformat_minor": 5
}
