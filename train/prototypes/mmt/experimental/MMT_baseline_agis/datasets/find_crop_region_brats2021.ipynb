{
 "cells": [
  {
   "cell_type": "code",
   "execution_count": 98,
   "id": "cbc9e3af",
   "metadata": {},
   "outputs": [],
   "source": [
    "import nibabel as nib\n",
    "import glob\n",
    "import numpy as np\n",
    "import random\n",
    "from tqdm import tqdm"
   ]
  },
  {
   "cell_type": "code",
   "execution_count": 101,
   "id": "abdeef43",
   "metadata": {},
   "outputs": [
    {
     "name": "stderr",
     "output_type": "stream",
     "text": [
      "  0%|          | 1/1251 [00:00<18:51,  1.11it/s]"
     ]
    },
    {
     "name": "stdout",
     "output_type": "stream",
     "text": [
      "['/raid/jiang/projects/SubtleGAN/data/RSNA_ASNR_MICCAI_BraTS2021_TrainingData/BraTS2021_01513/BraTS2021_01513_t1.nii.gz']\n",
      "48 187\n",
      "48 212\n",
      "6 135\n"
     ]
    },
    {
     "name": "stderr",
     "output_type": "stream",
     "text": [
      "\r",
      "  0%|          | 2/1251 [00:02<21:36,  1.04s/it]"
     ]
    },
    {
     "name": "stdout",
     "output_type": "stream",
     "text": [
      "['/raid/jiang/projects/SubtleGAN/data/RSNA_ASNR_MICCAI_BraTS2021_TrainingData/BraTS2021_00030/BraTS2021_00030_t1.nii.gz']\n",
      "44 195\n",
      "38 205\n",
      "0 138\n",
      "['/raid/jiang/projects/SubtleGAN/data/RSNA_ASNR_MICCAI_BraTS2021_TrainingData/BraTS2021_00149/BraTS2021_00149_t1.nii.gz']\n"
     ]
    },
    {
     "name": "stderr",
     "output_type": "stream",
     "text": [
      "\r",
      "  0%|          | 3/1251 [00:03<22:24,  1.08s/it]"
     ]
    },
    {
     "name": "stdout",
     "output_type": "stream",
     "text": [
      "51 184\n",
      "53 219\n",
      "1 141\n"
     ]
    },
    {
     "name": "stderr",
     "output_type": "stream",
     "text": [
      "\r",
      "  0%|          | 4/1251 [00:04<24:27,  1.18s/it]"
     ]
    },
    {
     "name": "stdout",
     "output_type": "stream",
     "text": [
      "['/raid/jiang/projects/SubtleGAN/data/RSNA_ASNR_MICCAI_BraTS2021_TrainingData/BraTS2021_00809/BraTS2021_00809_t1.nii.gz']\n",
      "44 191\n",
      "47 216\n",
      "0 140\n"
     ]
    },
    {
     "name": "stderr",
     "output_type": "stream",
     "text": [
      "\r",
      "  0%|          | 5/1251 [00:05<25:34,  1.23s/it]"
     ]
    },
    {
     "name": "stdout",
     "output_type": "stream",
     "text": [
      "['/raid/jiang/projects/SubtleGAN/data/RSNA_ASNR_MICCAI_BraTS2021_TrainingData/BraTS2021_01410/BraTS2021_01410_t1.nii.gz']\n",
      "48 188\n",
      "35 217\n",
      "0 142\n"
     ]
    },
    {
     "name": "stderr",
     "output_type": "stream",
     "text": [
      "\r",
      "  0%|          | 6/1251 [00:07<27:02,  1.30s/it]"
     ]
    },
    {
     "name": "stdout",
     "output_type": "stream",
     "text": [
      "['/raid/jiang/projects/SubtleGAN/data/RSNA_ASNR_MICCAI_BraTS2021_TrainingData/BraTS2021_01571/BraTS2021_01571_t1.nii.gz']\n",
      "50 187\n",
      "47 214\n",
      "0 140\n"
     ]
    },
    {
     "name": "stderr",
     "output_type": "stream",
     "text": [
      "\r",
      "  1%|          | 7/1251 [00:08<25:24,  1.23s/it]"
     ]
    },
    {
     "name": "stdout",
     "output_type": "stream",
     "text": [
      "['/raid/jiang/projects/SubtleGAN/data/RSNA_ASNR_MICCAI_BraTS2021_TrainingData/BraTS2021_01140/BraTS2021_01140_t1.nii.gz']\n",
      "51 184\n",
      "45 211\n",
      "0 138\n"
     ]
    },
    {
     "name": "stderr",
     "output_type": "stream",
     "text": [
      "\r",
      "  1%|          | 8/1251 [00:09<24:39,  1.19s/it]"
     ]
    },
    {
     "name": "stdout",
     "output_type": "stream",
     "text": [
      "['/raid/jiang/projects/SubtleGAN/data/RSNA_ASNR_MICCAI_BraTS2021_TrainingData/BraTS2021_00397/BraTS2021_00397_t1.nii.gz']\n",
      "56 181\n",
      "46 213\n",
      "0 144\n"
     ]
    },
    {
     "name": "stderr",
     "output_type": "stream",
     "text": [
      "\r",
      "  1%|          | 9/1251 [00:10<24:36,  1.19s/it]"
     ]
    },
    {
     "name": "stdout",
     "output_type": "stream",
     "text": [
      "['/raid/jiang/projects/SubtleGAN/data/RSNA_ASNR_MICCAI_BraTS2021_TrainingData/BraTS2021_01228/BraTS2021_01228_t1.nii.gz']\n",
      "48 188\n",
      "36 219\n",
      "1 142\n"
     ]
    },
    {
     "name": "stderr",
     "output_type": "stream",
     "text": [
      "\r",
      "  1%|          | 10/1251 [00:12<26:13,  1.27s/it]"
     ]
    },
    {
     "name": "stdout",
     "output_type": "stream",
     "text": [
      "['/raid/jiang/projects/SubtleGAN/data/RSNA_ASNR_MICCAI_BraTS2021_TrainingData/BraTS2021_00596/BraTS2021_00596_t1.nii.gz']\n",
      "47 189\n",
      "41 219\n",
      "0 143\n"
     ]
    },
    {
     "name": "stderr",
     "output_type": "stream",
     "text": [
      "\r",
      "  1%|          | 11/1251 [00:13<25:46,  1.25s/it]"
     ]
    },
    {
     "name": "stdout",
     "output_type": "stream",
     "text": [
      "['/raid/jiang/projects/SubtleGAN/data/RSNA_ASNR_MICCAI_BraTS2021_TrainingData/BraTS2021_01538/BraTS2021_01538_t1.nii.gz']\n",
      "52 182\n",
      "44 216\n",
      "2 146\n"
     ]
    },
    {
     "name": "stderr",
     "output_type": "stream",
     "text": [
      "\r",
      "  1%|          | 12/1251 [00:14<24:15,  1.17s/it]"
     ]
    },
    {
     "name": "stdout",
     "output_type": "stream",
     "text": [
      "['/raid/jiang/projects/SubtleGAN/data/RSNA_ASNR_MICCAI_BraTS2021_TrainingData/BraTS2021_00021/BraTS2021_00021_t1.nii.gz']\n",
      "56 183\n",
      "37 213\n",
      "0 133\n"
     ]
    },
    {
     "name": "stderr",
     "output_type": "stream",
     "text": [
      "\r",
      "  1%|          | 13/1251 [00:15<24:59,  1.21s/it]"
     ]
    },
    {
     "name": "stdout",
     "output_type": "stream",
     "text": [
      "['/raid/jiang/projects/SubtleGAN/data/RSNA_ASNR_MICCAI_BraTS2021_TrainingData/BraTS2021_00797/BraTS2021_00797_t1.nii.gz']\n",
      "48 190\n",
      "46 214\n",
      "0 135\n"
     ]
    },
    {
     "name": "stderr",
     "output_type": "stream",
     "text": [
      "\r",
      "  1%|          | 14/1251 [00:16<24:53,  1.21s/it]"
     ]
    },
    {
     "name": "stdout",
     "output_type": "stream",
     "text": [
      "['/raid/jiang/projects/SubtleGAN/data/RSNA_ASNR_MICCAI_BraTS2021_TrainingData/BraTS2021_00517/BraTS2021_00517_t1.nii.gz']\n",
      "47 192\n",
      "32 209\n",
      "4 147\n"
     ]
    },
    {
     "name": "stderr",
     "output_type": "stream",
     "text": [
      "\r",
      "  1%|          | 15/1251 [00:18<25:22,  1.23s/it]"
     ]
    },
    {
     "name": "stdout",
     "output_type": "stream",
     "text": [
      "['/raid/jiang/projects/SubtleGAN/data/RSNA_ASNR_MICCAI_BraTS2021_TrainingData/BraTS2021_01585/BraTS2021_01585_t1.nii.gz']\n",
      "51 187\n",
      "56 216\n",
      "0 139\n"
     ]
    },
    {
     "name": "stderr",
     "output_type": "stream",
     "text": [
      "\r",
      "  1%|▏         | 16/1251 [00:19<24:10,  1.17s/it]"
     ]
    },
    {
     "name": "stdout",
     "output_type": "stream",
     "text": [
      "['/raid/jiang/projects/SubtleGAN/data/RSNA_ASNR_MICCAI_BraTS2021_TrainingData/BraTS2021_01340/BraTS2021_01340_t1.nii.gz']\n",
      "52 185\n",
      "54 211\n",
      "0 138\n"
     ]
    },
    {
     "name": "stderr",
     "output_type": "stream",
     "text": [
      "\r",
      "  1%|▏         | 17/1251 [00:20<24:41,  1.20s/it]"
     ]
    },
    {
     "name": "stdout",
     "output_type": "stream",
     "text": [
      "['/raid/jiang/projects/SubtleGAN/data/RSNA_ASNR_MICCAI_BraTS2021_TrainingData/BraTS2021_01107/BraTS2021_01107_t1.nii.gz']\n",
      "49 189\n",
      "36 221\n",
      "0 145\n"
     ]
    },
    {
     "name": "stderr",
     "output_type": "stream",
     "text": [
      "\r",
      "  1%|▏         | 18/1251 [00:21<24:56,  1.21s/it]"
     ]
    },
    {
     "name": "stdout",
     "output_type": "stream",
     "text": [
      "['/raid/jiang/projects/SubtleGAN/data/RSNA_ASNR_MICCAI_BraTS2021_TrainingData/BraTS2021_00504/BraTS2021_00504_t1.nii.gz']\n",
      "53 187\n",
      "33 211\n",
      "7 148\n"
     ]
    },
    {
     "name": "stderr",
     "output_type": "stream",
     "text": [
      "\r",
      "  2%|▏         | 19/1251 [00:22<24:40,  1.20s/it]"
     ]
    },
    {
     "name": "stdout",
     "output_type": "stream",
     "text": [
      "['/raid/jiang/projects/SubtleGAN/data/RSNA_ASNR_MICCAI_BraTS2021_TrainingData/BraTS2021_00792/BraTS2021_00792_t1.nii.gz']\n",
      "51 189\n",
      "44 216\n",
      "0 153\n"
     ]
    },
    {
     "name": "stderr",
     "output_type": "stream",
     "text": [
      "\r",
      "  2%|▏         | 20/1251 [00:24<25:02,  1.22s/it]"
     ]
    },
    {
     "name": "stdout",
     "output_type": "stream",
     "text": [
      "['/raid/jiang/projects/SubtleGAN/data/RSNA_ASNR_MICCAI_BraTS2021_TrainingData/BraTS2021_01572/BraTS2021_01572_t1.nii.gz']\n",
      "50 188\n",
      "42 214\n",
      "0 141\n"
     ]
    },
    {
     "name": "stderr",
     "output_type": "stream",
     "text": [
      "\r",
      "  2%|▏         | 21/1251 [00:25<23:41,  1.16s/it]"
     ]
    },
    {
     "name": "stdout",
     "output_type": "stream",
     "text": [
      "['/raid/jiang/projects/SubtleGAN/data/RSNA_ASNR_MICCAI_BraTS2021_TrainingData/BraTS2021_01043/BraTS2021_01043_t1.nii.gz']\n",
      "51 186\n",
      "55 208\n",
      "0 138\n"
     ]
    },
    {
     "name": "stderr",
     "output_type": "stream",
     "text": [
      "\r",
      "  2%|▏         | 22/1251 [00:26<23:10,  1.13s/it]"
     ]
    },
    {
     "name": "stdout",
     "output_type": "stream",
     "text": [
      "['/raid/jiang/projects/SubtleGAN/data/RSNA_ASNR_MICCAI_BraTS2021_TrainingData/BraTS2021_00810/BraTS2021_00810_t1.nii.gz']\n",
      "52 185\n",
      "48 209\n",
      "0 154\n"
     ]
    },
    {
     "name": "stderr",
     "output_type": "stream",
     "text": [
      "\r",
      "  2%|▏         | 23/1251 [00:27<23:59,  1.17s/it]"
     ]
    },
    {
     "name": "stdout",
     "output_type": "stream",
     "text": [
      "['/raid/jiang/projects/SubtleGAN/data/RSNA_ASNR_MICCAI_BraTS2021_TrainingData/BraTS2021_00269/BraTS2021_00269_t1.nii.gz']\n",
      "46 192\n",
      "40 222\n",
      "2 142\n"
     ]
    },
    {
     "name": "stderr",
     "output_type": "stream",
     "text": [
      "\r",
      "  2%|▏         | 24/1251 [00:28<24:38,  1.20s/it]"
     ]
    },
    {
     "name": "stdout",
     "output_type": "stream",
     "text": [
      "['/raid/jiang/projects/SubtleGAN/data/RSNA_ASNR_MICCAI_BraTS2021_TrainingData/BraTS2021_01534/BraTS2021_01534_t1.nii.gz']\n",
      "53 185\n",
      "39 220\n",
      "2 134\n"
     ]
    },
    {
     "name": "stderr",
     "output_type": "stream",
     "text": [
      "\r",
      "  2%|▏         | 25/1251 [00:29<24:10,  1.18s/it]"
     ]
    },
    {
     "name": "stdout",
     "output_type": "stream",
     "text": [
      "['/raid/jiang/projects/SubtleGAN/data/RSNA_ASNR_MICCAI_BraTS2021_TrainingData/BraTS2021_01354/BraTS2021_01354_t1.nii.gz']\n",
      "53 182\n",
      "48 216\n",
      "0 138\n"
     ]
    },
    {
     "name": "stderr",
     "output_type": "stream",
     "text": [
      "\r",
      "  2%|▏         | 26/1251 [00:30<24:03,  1.18s/it]"
     ]
    },
    {
     "name": "stdout",
     "output_type": "stream",
     "text": [
      "['/raid/jiang/projects/SubtleGAN/data/RSNA_ASNR_MICCAI_BraTS2021_TrainingData/BraTS2021_00210/BraTS2021_00210_t1.nii.gz']\n",
      "51 185\n",
      "43 212\n",
      "0 141\n"
     ]
    },
    {
     "name": "stderr",
     "output_type": "stream",
     "text": [
      "\r",
      "  2%|▏         | 27/1251 [00:32<23:33,  1.15s/it]"
     ]
    },
    {
     "name": "stdout",
     "output_type": "stream",
     "text": [
      "['/raid/jiang/projects/SubtleGAN/data/RSNA_ASNR_MICCAI_BraTS2021_TrainingData/BraTS2021_01359/BraTS2021_01359_t1.nii.gz']\n",
      "49 187\n",
      "49 213\n",
      "0 131\n"
     ]
    },
    {
     "name": "stderr",
     "output_type": "stream",
     "text": [
      "\r",
      "  2%|▏         | 28/1251 [00:33<22:55,  1.12s/it]"
     ]
    },
    {
     "name": "stdout",
     "output_type": "stream",
     "text": [
      "['/raid/jiang/projects/SubtleGAN/data/RSNA_ASNR_MICCAI_BraTS2021_TrainingData/BraTS2021_01119/BraTS2021_01119_t1.nii.gz']\n",
      "52 185\n",
      "48 216\n",
      "6 136\n"
     ]
    },
    {
     "name": "stderr",
     "output_type": "stream",
     "text": [
      "\r",
      "  2%|▏         | 29/1251 [00:34<23:44,  1.17s/it]"
     ]
    },
    {
     "name": "stdout",
     "output_type": "stream",
     "text": [
      "['/raid/jiang/projects/SubtleGAN/data/RSNA_ASNR_MICCAI_BraTS2021_TrainingData/BraTS2021_01598/BraTS2021_01598_t1.nii.gz']\n",
      "50 191\n",
      "43 215\n",
      "0 143\n"
     ]
    },
    {
     "name": "stderr",
     "output_type": "stream",
     "text": [
      "\r",
      "  2%|▏         | 30/1251 [00:35<23:31,  1.16s/it]"
     ]
    },
    {
     "name": "stdout",
     "output_type": "stream",
     "text": [
      "['/raid/jiang/projects/SubtleGAN/data/RSNA_ASNR_MICCAI_BraTS2021_TrainingData/BraTS2021_00410/BraTS2021_00410_t1.nii.gz']\n",
      "52 184\n",
      "47 212\n",
      "0 139\n"
     ]
    },
    {
     "name": "stderr",
     "output_type": "stream",
     "text": [
      "\r",
      "  2%|▏         | 31/1251 [00:36<23:32,  1.16s/it]"
     ]
    },
    {
     "name": "stdout",
     "output_type": "stream",
     "text": [
      "['/raid/jiang/projects/SubtleGAN/data/RSNA_ASNR_MICCAI_BraTS2021_TrainingData/BraTS2021_00347/BraTS2021_00347_t1.nii.gz']\n",
      "52 185\n",
      "41 214\n",
      "0 141\n"
     ]
    },
    {
     "name": "stderr",
     "output_type": "stream",
     "text": [
      "\r",
      "  3%|▎         | 32/1251 [00:37<23:49,  1.17s/it]"
     ]
    },
    {
     "name": "stdout",
     "output_type": "stream",
     "text": [
      "['/raid/jiang/projects/SubtleGAN/data/RSNA_ASNR_MICCAI_BraTS2021_TrainingData/BraTS2021_01596/BraTS2021_01596_t1.nii.gz']\n",
      "49 188\n",
      "56 216\n",
      "0 154\n"
     ]
    },
    {
     "name": "stderr",
     "output_type": "stream",
     "text": [
      "\r",
      "  3%|▎         | 33/1251 [00:39<23:38,  1.16s/it]"
     ]
    },
    {
     "name": "stdout",
     "output_type": "stream",
     "text": [
      "['/raid/jiang/projects/SubtleGAN/data/RSNA_ASNR_MICCAI_BraTS2021_TrainingData/BraTS2021_00152/BraTS2021_00152_t1.nii.gz']\n",
      "52 184\n",
      "47 213\n",
      "2 138\n"
     ]
    },
    {
     "name": "stderr",
     "output_type": "stream",
     "text": [
      "\r",
      "  3%|▎         | 34/1251 [00:40<22:53,  1.13s/it]"
     ]
    },
    {
     "name": "stdout",
     "output_type": "stream",
     "text": [
      "['/raid/jiang/projects/SubtleGAN/data/RSNA_ASNR_MICCAI_BraTS2021_TrainingData/BraTS2021_01204/BraTS2021_01204_t1.nii.gz']\n",
      "55 183\n",
      "47 209\n",
      "8 142\n"
     ]
    },
    {
     "name": "stderr",
     "output_type": "stream",
     "text": [
      "\r",
      "  3%|▎         | 35/1251 [00:41<22:18,  1.10s/it]"
     ]
    },
    {
     "name": "stdout",
     "output_type": "stream",
     "text": [
      "['/raid/jiang/projects/SubtleGAN/data/RSNA_ASNR_MICCAI_BraTS2021_TrainingData/BraTS2021_00828/BraTS2021_00828_t1.nii.gz']\n",
      "50 186\n",
      "45 207\n",
      "0 146\n"
     ]
    },
    {
     "name": "stderr",
     "output_type": "stream",
     "text": [
      "\r",
      "  3%|▎         | 36/1251 [00:42<22:00,  1.09s/it]"
     ]
    },
    {
     "name": "stdout",
     "output_type": "stream",
     "text": [
      "['/raid/jiang/projects/SubtleGAN/data/RSNA_ASNR_MICCAI_BraTS2021_TrainingData/BraTS2021_00524/BraTS2021_00524_t1.nii.gz']\n",
      "59 185\n",
      "35 212\n",
      "0 128\n"
     ]
    },
    {
     "name": "stderr",
     "output_type": "stream",
     "text": [
      "\r",
      "  3%|▎         | 37/1251 [00:43<21:47,  1.08s/it]"
     ]
    },
    {
     "name": "stdout",
     "output_type": "stream",
     "text": [
      "['/raid/jiang/projects/SubtleGAN/data/RSNA_ASNR_MICCAI_BraTS2021_TrainingData/BraTS2021_01656/BraTS2021_01656_t1.nii.gz']\n",
      "61 177\n",
      "42 214\n",
      "0 134\n"
     ]
    },
    {
     "name": "stderr",
     "output_type": "stream",
     "text": [
      "\r",
      "  3%|▎         | 38/1251 [00:44<22:04,  1.09s/it]"
     ]
    },
    {
     "name": "stdout",
     "output_type": "stream",
     "text": [
      "['/raid/jiang/projects/SubtleGAN/data/RSNA_ASNR_MICCAI_BraTS2021_TrainingData/BraTS2021_00675/BraTS2021_00675_t1.nii.gz']\n",
      "50 189\n",
      "34 213\n",
      "0 147\n"
     ]
    },
    {
     "name": "stderr",
     "output_type": "stream",
     "text": [
      "\r",
      "  3%|▎         | 39/1251 [00:45<23:04,  1.14s/it]"
     ]
    },
    {
     "name": "stdout",
     "output_type": "stream",
     "text": [
      "['/raid/jiang/projects/SubtleGAN/data/RSNA_ASNR_MICCAI_BraTS2021_TrainingData/BraTS2021_01504/BraTS2021_01504_t1.nii.gz']\n",
      "51 187\n",
      "43 212\n",
      "0 140\n",
      "['/raid/jiang/projects/SubtleGAN/data/RSNA_ASNR_MICCAI_BraTS2021_TrainingData/BraTS2021_01426/BraTS2021_01426_t1.nii.gz']\n"
     ]
    },
    {
     "name": "stderr",
     "output_type": "stream",
     "text": [
      "\r",
      "  3%|▎         | 40/1251 [00:46<23:57,  1.19s/it]"
     ]
    },
    {
     "name": "stdout",
     "output_type": "stream",
     "text": [
      "46 193\n",
      "47 212\n",
      "2 141\n"
     ]
    },
    {
     "name": "stderr",
     "output_type": "stream",
     "text": [
      "\r",
      "  3%|▎         | 41/1251 [00:48<23:58,  1.19s/it]"
     ]
    },
    {
     "name": "stdout",
     "output_type": "stream",
     "text": [
      "['/raid/jiang/projects/SubtleGAN/data/RSNA_ASNR_MICCAI_BraTS2021_TrainingData/BraTS2021_01618/BraTS2021_01618_t1.nii.gz']\n",
      "52 189\n",
      "42 216\n",
      "0 150\n"
     ]
    },
    {
     "name": "stderr",
     "output_type": "stream",
     "text": [
      "\r",
      "  3%|▎         | 42/1251 [00:49<22:54,  1.14s/it]"
     ]
    },
    {
     "name": "stdout",
     "output_type": "stream",
     "text": [
      "['/raid/jiang/projects/SubtleGAN/data/RSNA_ASNR_MICCAI_BraTS2021_TrainingData/BraTS2021_01318/BraTS2021_01318_t1.nii.gz']\n",
      "50 187\n",
      "52 217\n",
      "2 148\n"
     ]
    },
    {
     "name": "stderr",
     "output_type": "stream",
     "text": [
      "\r",
      "  3%|▎         | 43/1251 [00:50<22:12,  1.10s/it]"
     ]
    },
    {
     "name": "stdout",
     "output_type": "stream",
     "text": [
      "['/raid/jiang/projects/SubtleGAN/data/RSNA_ASNR_MICCAI_BraTS2021_TrainingData/BraTS2021_01595/BraTS2021_01595_t1.nii.gz']\n",
      "52 182\n",
      "48 215\n",
      "4 140\n"
     ]
    },
    {
     "name": "stderr",
     "output_type": "stream",
     "text": [
      "\r",
      "  4%|▎         | 44/1251 [00:51<22:29,  1.12s/it]"
     ]
    },
    {
     "name": "stdout",
     "output_type": "stream",
     "text": [
      "['/raid/jiang/projects/SubtleGAN/data/RSNA_ASNR_MICCAI_BraTS2021_TrainingData/BraTS2021_00709/BraTS2021_00709_t1.nii.gz']\n",
      "52 182\n",
      "33 208\n",
      "0 133\n"
     ]
    },
    {
     "name": "stderr",
     "output_type": "stream",
     "text": [
      "\r",
      "  4%|▎         | 45/1251 [00:52<22:03,  1.10s/it]"
     ]
    },
    {
     "name": "stdout",
     "output_type": "stream",
     "text": [
      "['/raid/jiang/projects/SubtleGAN/data/RSNA_ASNR_MICCAI_BraTS2021_TrainingData/BraTS2021_00133/BraTS2021_00133_t1.nii.gz']\n",
      "46 192\n",
      "49 208\n",
      "0 138\n"
     ]
    },
    {
     "name": "stderr",
     "output_type": "stream",
     "text": [
      "\r",
      "  4%|▎         | 46/1251 [00:53<22:04,  1.10s/it]"
     ]
    },
    {
     "name": "stdout",
     "output_type": "stream",
     "text": [
      "['/raid/jiang/projects/SubtleGAN/data/RSNA_ASNR_MICCAI_BraTS2021_TrainingData/BraTS2021_01214/BraTS2021_01214_t1.nii.gz']\n",
      "49 189\n",
      "37 215\n",
      "0 142\n"
     ]
    },
    {
     "name": "stderr",
     "output_type": "stream",
     "text": [
      "\r",
      "  4%|▍         | 47/1251 [00:54<22:27,  1.12s/it]"
     ]
    },
    {
     "name": "stdout",
     "output_type": "stream",
     "text": [
      "['/raid/jiang/projects/SubtleGAN/data/RSNA_ASNR_MICCAI_BraTS2021_TrainingData/BraTS2021_01220/BraTS2021_01220_t1.nii.gz']\n",
      "55 183\n",
      "43 213\n",
      "0 139\n"
     ]
    },
    {
     "name": "stderr",
     "output_type": "stream",
     "text": [
      "\r",
      "  4%|▍         | 48/1251 [00:55<22:15,  1.11s/it]"
     ]
    },
    {
     "name": "stdout",
     "output_type": "stream",
     "text": [
      "['/raid/jiang/projects/SubtleGAN/data/RSNA_ASNR_MICCAI_BraTS2021_TrainingData/BraTS2021_01439/BraTS2021_01439_t1.nii.gz']\n",
      "46 190\n",
      "43 217\n",
      "7 138\n"
     ]
    },
    {
     "name": "stderr",
     "output_type": "stream",
     "text": [
      "\r",
      "  4%|▍         | 49/1251 [00:56<22:31,  1.12s/it]"
     ]
    },
    {
     "name": "stdout",
     "output_type": "stream",
     "text": [
      "['/raid/jiang/projects/SubtleGAN/data/RSNA_ASNR_MICCAI_BraTS2021_TrainingData/BraTS2021_00136/BraTS2021_00136_t1.nii.gz']\n",
      "51 185\n",
      "43 215\n",
      "1 139\n"
     ]
    },
    {
     "name": "stderr",
     "output_type": "stream",
     "text": [
      "\r",
      "  4%|▍         | 50/1251 [00:57<21:34,  1.08s/it]"
     ]
    },
    {
     "name": "stdout",
     "output_type": "stream",
     "text": [
      "['/raid/jiang/projects/SubtleGAN/data/RSNA_ASNR_MICCAI_BraTS2021_TrainingData/BraTS2021_01206/BraTS2021_01206_t1.nii.gz']\n",
      "51 183\n",
      "40 216\n",
      "0 140\n"
     ]
    },
    {
     "name": "stderr",
     "output_type": "stream",
     "text": [
      "\r",
      "  4%|▍         | 51/1251 [00:58<21:01,  1.05s/it]"
     ]
    },
    {
     "name": "stdout",
     "output_type": "stream",
     "text": [
      "['/raid/jiang/projects/SubtleGAN/data/RSNA_ASNR_MICCAI_BraTS2021_TrainingData/BraTS2021_01264/BraTS2021_01264_t1.nii.gz']\n",
      "47 188\n",
      "47 215\n",
      "0 139\n"
     ]
    },
    {
     "name": "stderr",
     "output_type": "stream",
     "text": [
      "\r",
      "  4%|▍         | 52/1251 [01:00<22:02,  1.10s/it]"
     ]
    },
    {
     "name": "stdout",
     "output_type": "stream",
     "text": [
      "['/raid/jiang/projects/SubtleGAN/data/RSNA_ASNR_MICCAI_BraTS2021_TrainingData/BraTS2021_01532/BraTS2021_01532_t1.nii.gz']\n",
      "45 190\n",
      "29 217\n",
      "0 138\n"
     ]
    },
    {
     "name": "stderr",
     "output_type": "stream",
     "text": [
      "\r",
      "  4%|▍         | 53/1251 [01:01<22:19,  1.12s/it]"
     ]
    },
    {
     "name": "stdout",
     "output_type": "stream",
     "text": [
      "['/raid/jiang/projects/SubtleGAN/data/RSNA_ASNR_MICCAI_BraTS2021_TrainingData/BraTS2021_01096/BraTS2021_01096_t1.nii.gz']\n",
      "51 188\n",
      "42 213\n",
      "0 141\n"
     ]
    },
    {
     "name": "stderr",
     "output_type": "stream",
     "text": [
      "\r",
      "  4%|▍         | 54/1251 [01:02<22:04,  1.11s/it]"
     ]
    },
    {
     "name": "stdout",
     "output_type": "stream",
     "text": [
      "['/raid/jiang/projects/SubtleGAN/data/RSNA_ASNR_MICCAI_BraTS2021_TrainingData/BraTS2021_01230/BraTS2021_01230_t1.nii.gz']\n",
      "46 189\n",
      "41 219\n",
      "0 141\n"
     ]
    },
    {
     "name": "stderr",
     "output_type": "stream",
     "text": [
      "\r",
      "  4%|▍         | 55/1251 [01:03<21:20,  1.07s/it]"
     ]
    },
    {
     "name": "stdout",
     "output_type": "stream",
     "text": [
      "['/raid/jiang/projects/SubtleGAN/data/RSNA_ASNR_MICCAI_BraTS2021_TrainingData/BraTS2021_00341/BraTS2021_00341_t1.nii.gz']\n",
      "53 184\n",
      "47 206\n",
      "3 137\n"
     ]
    },
    {
     "name": "stderr",
     "output_type": "stream",
     "text": [
      "\r",
      "  4%|▍         | 56/1251 [01:04<20:37,  1.04s/it]"
     ]
    },
    {
     "name": "stdout",
     "output_type": "stream",
     "text": [
      "['/raid/jiang/projects/SubtleGAN/data/RSNA_ASNR_MICCAI_BraTS2021_TrainingData/BraTS2021_01034/BraTS2021_01034_t1.nii.gz']\n",
      "55 181\n",
      "43 215\n",
      "0 139\n"
     ]
    },
    {
     "name": "stderr",
     "output_type": "stream",
     "text": [
      "\r",
      "  5%|▍         | 57/1251 [01:05<20:47,  1.05s/it]"
     ]
    },
    {
     "name": "stdout",
     "output_type": "stream",
     "text": [
      "['/raid/jiang/projects/SubtleGAN/data/RSNA_ASNR_MICCAI_BraTS2021_TrainingData/BraTS2021_01380/BraTS2021_01380_t1.nii.gz']\n",
      "53 185\n",
      "38 216\n",
      "0 136\n"
     ]
    },
    {
     "name": "stderr",
     "output_type": "stream",
     "text": [
      "\r",
      "  5%|▍         | 58/1251 [01:06<20:46,  1.04s/it]"
     ]
    },
    {
     "name": "stdout",
     "output_type": "stream",
     "text": [
      "['/raid/jiang/projects/SubtleGAN/data/RSNA_ASNR_MICCAI_BraTS2021_TrainingData/BraTS2021_01155/BraTS2021_01155_t1.nii.gz']\n",
      "55 189\n",
      "33 215\n",
      "0 137\n"
     ]
    },
    {
     "name": "stderr",
     "output_type": "stream",
     "text": [
      "\r",
      "  5%|▍         | 59/1251 [01:07<20:29,  1.03s/it]"
     ]
    },
    {
     "name": "stdout",
     "output_type": "stream",
     "text": [
      "['/raid/jiang/projects/SubtleGAN/data/RSNA_ASNR_MICCAI_BraTS2021_TrainingData/BraTS2021_00259/BraTS2021_00259_t1.nii.gz']\n",
      "54 183\n",
      "38 219\n",
      "0 141\n"
     ]
    },
    {
     "name": "stderr",
     "output_type": "stream",
     "text": [
      "\r",
      "  5%|▍         | 60/1251 [01:08<21:05,  1.06s/it]"
     ]
    },
    {
     "name": "stdout",
     "output_type": "stream",
     "text": [
      "['/raid/jiang/projects/SubtleGAN/data/RSNA_ASNR_MICCAI_BraTS2021_TrainingData/BraTS2021_01281/BraTS2021_01281_t1.nii.gz']\n",
      "47 190\n",
      "43 213\n",
      "0 132\n"
     ]
    },
    {
     "name": "stderr",
     "output_type": "stream",
     "text": [
      "\r",
      "  5%|▍         | 61/1251 [01:09<20:47,  1.05s/it]"
     ]
    },
    {
     "name": "stdout",
     "output_type": "stream",
     "text": [
      "['/raid/jiang/projects/SubtleGAN/data/RSNA_ASNR_MICCAI_BraTS2021_TrainingData/BraTS2021_00280/BraTS2021_00280_t1.nii.gz']\n",
      "53 185\n",
      "45 215\n",
      "0 141\n"
     ]
    },
    {
     "name": "stderr",
     "output_type": "stream",
     "text": [
      "\r",
      "  5%|▍         | 62/1251 [01:10<21:10,  1.07s/it]"
     ]
    },
    {
     "name": "stdout",
     "output_type": "stream",
     "text": [
      "['/raid/jiang/projects/SubtleGAN/data/RSNA_ASNR_MICCAI_BraTS2021_TrainingData/BraTS2021_00690/BraTS2021_00690_t1.nii.gz']\n",
      "54 187\n",
      "33 212\n",
      "0 140\n"
     ]
    },
    {
     "name": "stderr",
     "output_type": "stream",
     "text": [
      "\r",
      "  5%|▌         | 63/1251 [01:11<21:08,  1.07s/it]"
     ]
    },
    {
     "name": "stdout",
     "output_type": "stream",
     "text": [
      "['/raid/jiang/projects/SubtleGAN/data/RSNA_ASNR_MICCAI_BraTS2021_TrainingData/BraTS2021_01325/BraTS2021_01325_t1.nii.gz']\n",
      "50 187\n",
      "42 219\n",
      "0 138\n"
     ]
    },
    {
     "name": "stderr",
     "output_type": "stream",
     "text": [
      "\r",
      "  5%|▌         | 64/1251 [01:12<21:16,  1.08s/it]"
     ]
    },
    {
     "name": "stdout",
     "output_type": "stream",
     "text": [
      "['/raid/jiang/projects/SubtleGAN/data/RSNA_ASNR_MICCAI_BraTS2021_TrainingData/BraTS2021_00548/BraTS2021_00548_t1.nii.gz']\n",
      "52 185\n",
      "33 213\n",
      "4 147\n"
     ]
    },
    {
     "name": "stderr",
     "output_type": "stream",
     "text": [
      "\r",
      "  5%|▌         | 65/1251 [01:13<21:20,  1.08s/it]"
     ]
    },
    {
     "name": "stdout",
     "output_type": "stream",
     "text": [
      "['/raid/jiang/projects/SubtleGAN/data/RSNA_ASNR_MICCAI_BraTS2021_TrainingData/BraTS2021_01579/BraTS2021_01579_t1.nii.gz']\n",
      "50 189\n",
      "49 208\n",
      "0 147\n"
     ]
    },
    {
     "name": "stderr",
     "output_type": "stream",
     "text": [
      "\r",
      "  5%|▌         | 66/1251 [01:14<21:23,  1.08s/it]"
     ]
    },
    {
     "name": "stdout",
     "output_type": "stream",
     "text": [
      "['/raid/jiang/projects/SubtleGAN/data/RSNA_ASNR_MICCAI_BraTS2021_TrainingData/BraTS2021_00024/BraTS2021_00024_t1.nii.gz']\n",
      "51 191\n",
      "28 208\n",
      "0 139\n"
     ]
    },
    {
     "name": "stderr",
     "output_type": "stream",
     "text": [
      "\r",
      "  5%|▌         | 67/1251 [01:16<21:19,  1.08s/it]"
     ]
    },
    {
     "name": "stdout",
     "output_type": "stream",
     "text": [
      "['/raid/jiang/projects/SubtleGAN/data/RSNA_ASNR_MICCAI_BraTS2021_TrainingData/BraTS2021_01025/BraTS2021_01025_t1.nii.gz']\n",
      "49 188\n",
      "60 212\n",
      "3 140\n"
     ]
    },
    {
     "name": "stderr",
     "output_type": "stream",
     "text": [
      "\r",
      "  5%|▌         | 68/1251 [01:17<21:31,  1.09s/it]"
     ]
    },
    {
     "name": "stdout",
     "output_type": "stream",
     "text": [
      "['/raid/jiang/projects/SubtleGAN/data/RSNA_ASNR_MICCAI_BraTS2021_TrainingData/BraTS2021_00096/BraTS2021_00096_t1.nii.gz']\n",
      "48 192\n",
      "32 209\n",
      "0 147\n"
     ]
    },
    {
     "name": "stderr",
     "output_type": "stream",
     "text": [
      "\r",
      "  6%|▌         | 69/1251 [01:18<22:20,  1.13s/it]"
     ]
    },
    {
     "name": "stdout",
     "output_type": "stream",
     "text": [
      "['/raid/jiang/projects/SubtleGAN/data/RSNA_ASNR_MICCAI_BraTS2021_TrainingData/BraTS2021_01630/BraTS2021_01630_t1.nii.gz']\n",
      "52 189\n",
      "42 211\n",
      "0 140\n"
     ]
    },
    {
     "name": "stderr",
     "output_type": "stream",
     "text": [
      "\r",
      "  6%|▌         | 70/1251 [01:19<22:27,  1.14s/it]"
     ]
    },
    {
     "name": "stdout",
     "output_type": "stream",
     "text": [
      "['/raid/jiang/projects/SubtleGAN/data/RSNA_ASNR_MICCAI_BraTS2021_TrainingData/BraTS2021_01597/BraTS2021_01597_t1.nii.gz']\n",
      "42 184\n",
      "56 211\n",
      "0 137\n"
     ]
    },
    {
     "name": "stderr",
     "output_type": "stream",
     "text": [
      "\r",
      "  6%|▌         | 71/1251 [01:20<22:02,  1.12s/it]"
     ]
    },
    {
     "name": "stdout",
     "output_type": "stream",
     "text": [
      "['/raid/jiang/projects/SubtleGAN/data/RSNA_ASNR_MICCAI_BraTS2021_TrainingData/BraTS2021_00299/BraTS2021_00299_t1.nii.gz']\n",
      "48 189\n",
      "50 212\n",
      "0 141\n"
     ]
    },
    {
     "name": "stderr",
     "output_type": "stream",
     "text": [
      "\r",
      "  6%|▌         | 72/1251 [01:21<23:09,  1.18s/it]"
     ]
    },
    {
     "name": "stdout",
     "output_type": "stream",
     "text": [
      "['/raid/jiang/projects/SubtleGAN/data/RSNA_ASNR_MICCAI_BraTS2021_TrainingData/BraTS2021_00025/BraTS2021_00025_t1.nii.gz']\n",
      "49 191\n",
      "32 206\n",
      "7 144\n"
     ]
    },
    {
     "name": "stderr",
     "output_type": "stream",
     "text": [
      "\r",
      "  6%|▌         | 73/1251 [01:23<23:53,  1.22s/it]"
     ]
    },
    {
     "name": "stdout",
     "output_type": "stream",
     "text": [
      "['/raid/jiang/projects/SubtleGAN/data/RSNA_ASNR_MICCAI_BraTS2021_TrainingData/BraTS2021_01223/BraTS2021_01223_t1.nii.gz']\n",
      "53 184\n",
      "33 219\n",
      "0 142\n"
     ]
    },
    {
     "name": "stderr",
     "output_type": "stream",
     "text": [
      "\r",
      "  6%|▌         | 74/1251 [01:24<23:11,  1.18s/it]"
     ]
    },
    {
     "name": "stdout",
     "output_type": "stream",
     "text": [
      "['/raid/jiang/projects/SubtleGAN/data/RSNA_ASNR_MICCAI_BraTS2021_TrainingData/BraTS2021_01342/BraTS2021_01342_t1.nii.gz']\n",
      "51 186\n",
      "46 212\n",
      "0 140\n"
     ]
    },
    {
     "name": "stderr",
     "output_type": "stream",
     "text": [
      "\r",
      "  6%|▌         | 75/1251 [01:25<22:50,  1.17s/it]"
     ]
    },
    {
     "name": "stdout",
     "output_type": "stream",
     "text": [
      "['/raid/jiang/projects/SubtleGAN/data/RSNA_ASNR_MICCAI_BraTS2021_TrainingData/BraTS2021_01040/BraTS2021_01040_t1.nii.gz']\n",
      "51 187\n",
      "38 221\n",
      "0 139\n"
     ]
    },
    {
     "name": "stderr",
     "output_type": "stream",
     "text": [
      "\r",
      "  6%|▌         | 76/1251 [01:26<22:16,  1.14s/it]"
     ]
    },
    {
     "name": "stdout",
     "output_type": "stream",
     "text": [
      "['/raid/jiang/projects/SubtleGAN/data/RSNA_ASNR_MICCAI_BraTS2021_TrainingData/BraTS2021_00455/BraTS2021_00455_t1.nii.gz']\n",
      "51 184\n",
      "53 209\n",
      "2 134\n"
     ]
    },
    {
     "name": "stderr",
     "output_type": "stream",
     "text": [
      "\r",
      "  6%|▌         | 77/1251 [01:27<21:19,  1.09s/it]"
     ]
    },
    {
     "name": "stdout",
     "output_type": "stream",
     "text": [
      "['/raid/jiang/projects/SubtleGAN/data/RSNA_ASNR_MICCAI_BraTS2021_TrainingData/BraTS2021_01254/BraTS2021_01254_t1.nii.gz']\n",
      "53 182\n",
      "52 212\n",
      "5 140\n"
     ]
    },
    {
     "name": "stderr",
     "output_type": "stream",
     "text": [
      "\r",
      "  6%|▌         | 78/1251 [01:28<21:08,  1.08s/it]"
     ]
    },
    {
     "name": "stdout",
     "output_type": "stream",
     "text": [
      "['/raid/jiang/projects/SubtleGAN/data/RSNA_ASNR_MICCAI_BraTS2021_TrainingData/BraTS2021_00804/BraTS2021_00804_t1.nii.gz']\n",
      "53 183\n",
      "47 213\n",
      "0 149\n"
     ]
    },
    {
     "name": "stderr",
     "output_type": "stream",
     "text": [
      "\r",
      "  6%|▋         | 79/1251 [01:29<20:56,  1.07s/it]"
     ]
    },
    {
     "name": "stdout",
     "output_type": "stream",
     "text": [
      "['/raid/jiang/projects/SubtleGAN/data/RSNA_ASNR_MICCAI_BraTS2021_TrainingData/BraTS2021_01520/BraTS2021_01520_t1.nii.gz']\n",
      "53 183\n",
      "45 217\n",
      "0 142\n"
     ]
    },
    {
     "name": "stderr",
     "output_type": "stream",
     "text": [
      "\r",
      "  6%|▋         | 80/1251 [01:30<21:13,  1.09s/it]"
     ]
    },
    {
     "name": "stdout",
     "output_type": "stream",
     "text": [
      "['/raid/jiang/projects/SubtleGAN/data/RSNA_ASNR_MICCAI_BraTS2021_TrainingData/BraTS2021_01035/BraTS2021_01035_t1.nii.gz']\n",
      "51 190\n",
      "55 210\n",
      "0 142\n"
     ]
    },
    {
     "name": "stderr",
     "output_type": "stream",
     "text": [
      "\r",
      "  6%|▋         | 81/1251 [01:31<21:52,  1.12s/it]"
     ]
    },
    {
     "name": "stdout",
     "output_type": "stream",
     "text": [
      "['/raid/jiang/projects/SubtleGAN/data/RSNA_ASNR_MICCAI_BraTS2021_TrainingData/BraTS2021_00598/BraTS2021_00598_t1.nii.gz']\n",
      "48 189\n",
      "31 218\n",
      "0 139\n"
     ]
    },
    {
     "name": "stderr",
     "output_type": "stream",
     "text": [
      "\r",
      "  7%|▋         | 82/1251 [01:33<23:10,  1.19s/it]"
     ]
    },
    {
     "name": "stdout",
     "output_type": "stream",
     "text": [
      "['/raid/jiang/projects/SubtleGAN/data/RSNA_ASNR_MICCAI_BraTS2021_TrainingData/BraTS2021_00781/BraTS2021_00781_t1.nii.gz']\n",
      "44 193\n",
      "45 214\n",
      "0 137\n"
     ]
    },
    {
     "name": "stderr",
     "output_type": "stream",
     "text": [
      "\r",
      "  7%|▋         | 83/1251 [01:34<22:29,  1.16s/it]"
     ]
    },
    {
     "name": "stdout",
     "output_type": "stream",
     "text": [
      "['/raid/jiang/projects/SubtleGAN/data/RSNA_ASNR_MICCAI_BraTS2021_TrainingData/BraTS2021_00312/BraTS2021_00312_t1.nii.gz']\n",
      "50 184\n",
      "49 216\n",
      "0 139\n"
     ]
    },
    {
     "name": "stderr",
     "output_type": "stream",
     "text": [
      "\r",
      "  7%|▋         | 84/1251 [01:35<22:24,  1.15s/it]"
     ]
    },
    {
     "name": "stdout",
     "output_type": "stream",
     "text": [
      "['/raid/jiang/projects/SubtleGAN/data/RSNA_ASNR_MICCAI_BraTS2021_TrainingData/BraTS2021_00317/BraTS2021_00317_t1.nii.gz']\n",
      "53 185\n",
      "33 202\n",
      "2 142\n"
     ]
    },
    {
     "name": "stderr",
     "output_type": "stream",
     "text": [
      "\r",
      "  7%|▋         | 85/1251 [01:36<21:58,  1.13s/it]"
     ]
    },
    {
     "name": "stdout",
     "output_type": "stream",
     "text": [
      "['/raid/jiang/projects/SubtleGAN/data/RSNA_ASNR_MICCAI_BraTS2021_TrainingData/BraTS2021_01268/BraTS2021_01268_t1.nii.gz']\n",
      "51 185\n",
      "40 218\n",
      "0 140\n"
     ]
    },
    {
     "name": "stderr",
     "output_type": "stream",
     "text": [
      "\r",
      "  7%|▋         | 86/1251 [01:37<21:45,  1.12s/it]"
     ]
    },
    {
     "name": "stdout",
     "output_type": "stream",
     "text": [
      "['/raid/jiang/projects/SubtleGAN/data/RSNA_ASNR_MICCAI_BraTS2021_TrainingData/BraTS2021_01481/BraTS2021_01481_t1.nii.gz']\n",
      "48 189\n",
      "41 216\n",
      "0 136\n"
     ]
    },
    {
     "name": "stderr",
     "output_type": "stream",
     "text": [
      "\r",
      "  7%|▋         | 87/1251 [01:38<21:41,  1.12s/it]"
     ]
    },
    {
     "name": "stdout",
     "output_type": "stream",
     "text": [
      "['/raid/jiang/projects/SubtleGAN/data/RSNA_ASNR_MICCAI_BraTS2021_TrainingData/BraTS2021_01641/BraTS2021_01641_t1.nii.gz']\n",
      "55 184\n",
      "45 210\n",
      "4 141\n"
     ]
    },
    {
     "name": "stderr",
     "output_type": "stream",
     "text": [
      "\r",
      "  7%|▋         | 88/1251 [01:39<21:38,  1.12s/it]"
     ]
    },
    {
     "name": "stdout",
     "output_type": "stream",
     "text": [
      "['/raid/jiang/projects/SubtleGAN/data/RSNA_ASNR_MICCAI_BraTS2021_TrainingData/BraTS2021_01163/BraTS2021_01163_t1.nii.gz']\n",
      "49 184\n",
      "34 218\n",
      "0 132\n"
     ]
    },
    {
     "name": "stderr",
     "output_type": "stream",
     "text": [
      "\r",
      "  7%|▋         | 89/1251 [01:41<21:47,  1.13s/it]"
     ]
    },
    {
     "name": "stdout",
     "output_type": "stream",
     "text": [
      "['/raid/jiang/projects/SubtleGAN/data/RSNA_ASNR_MICCAI_BraTS2021_TrainingData/BraTS2021_01409/BraTS2021_01409_t1.nii.gz']\n",
      "50 185\n",
      "45 213\n",
      "0 137\n"
     ]
    },
    {
     "name": "stderr",
     "output_type": "stream",
     "text": [
      "\r",
      "  7%|▋         | 90/1251 [01:42<21:22,  1.10s/it]"
     ]
    },
    {
     "name": "stdout",
     "output_type": "stream",
     "text": [
      "['/raid/jiang/projects/SubtleGAN/data/RSNA_ASNR_MICCAI_BraTS2021_TrainingData/BraTS2021_01536/BraTS2021_01536_t1.nii.gz']\n",
      "51 185\n",
      "45 217\n",
      "1 138\n"
     ]
    },
    {
     "name": "stderr",
     "output_type": "stream",
     "text": [
      "\r",
      "  7%|▋         | 91/1251 [01:43<21:17,  1.10s/it]"
     ]
    },
    {
     "name": "stdout",
     "output_type": "stream",
     "text": [
      "['/raid/jiang/projects/SubtleGAN/data/RSNA_ASNR_MICCAI_BraTS2021_TrainingData/BraTS2021_01462/BraTS2021_01462_t1.nii.gz']\n",
      "46 190\n",
      "40 214\n",
      "0 137\n"
     ]
    },
    {
     "name": "stderr",
     "output_type": "stream",
     "text": [
      "\r",
      "  7%|▋         | 92/1251 [01:44<21:53,  1.13s/it]"
     ]
    },
    {
     "name": "stdout",
     "output_type": "stream",
     "text": [
      "['/raid/jiang/projects/SubtleGAN/data/RSNA_ASNR_MICCAI_BraTS2021_TrainingData/BraTS2021_00814/BraTS2021_00814_t1.nii.gz']\n",
      "51 185\n",
      "50 213\n",
      "0 149\n"
     ]
    },
    {
     "name": "stderr",
     "output_type": "stream",
     "text": [
      "\r",
      "  7%|▋         | 93/1251 [01:45<21:18,  1.10s/it]"
     ]
    },
    {
     "name": "stdout",
     "output_type": "stream",
     "text": [
      "['/raid/jiang/projects/SubtleGAN/data/RSNA_ASNR_MICCAI_BraTS2021_TrainingData/BraTS2021_00199/BraTS2021_00199_t1.nii.gz']\n",
      "50 186\n",
      "40 220\n",
      "0 139\n"
     ]
    },
    {
     "name": "stderr",
     "output_type": "stream",
     "text": [
      "\r",
      "  8%|▊         | 94/1251 [01:46<21:28,  1.11s/it]"
     ]
    },
    {
     "name": "stdout",
     "output_type": "stream",
     "text": [
      "['/raid/jiang/projects/SubtleGAN/data/RSNA_ASNR_MICCAI_BraTS2021_TrainingData/BraTS2021_01320/BraTS2021_01320_t1.nii.gz']\n",
      "47 189\n",
      "43 216\n",
      "0 146\n"
     ]
    },
    {
     "name": "stderr",
     "output_type": "stream",
     "text": [
      "\r",
      "  8%|▊         | 95/1251 [01:47<20:53,  1.08s/it]"
     ]
    },
    {
     "name": "stdout",
     "output_type": "stream",
     "text": [
      "['/raid/jiang/projects/SubtleGAN/data/RSNA_ASNR_MICCAI_BraTS2021_TrainingData/BraTS2021_01151/BraTS2021_01151_t1.nii.gz']\n",
      "55 182\n",
      "44 208\n",
      "9 135\n"
     ]
    },
    {
     "name": "stderr",
     "output_type": "stream",
     "text": [
      "\r",
      "  8%|▊         | 96/1251 [01:48<20:18,  1.06s/it]"
     ]
    },
    {
     "name": "stdout",
     "output_type": "stream",
     "text": [
      "['/raid/jiang/projects/SubtleGAN/data/RSNA_ASNR_MICCAI_BraTS2021_TrainingData/BraTS2021_00008/BraTS2021_00008_t1.nii.gz']\n",
      "49 190\n",
      "37 204\n",
      "9 141\n"
     ]
    },
    {
     "name": "stderr",
     "output_type": "stream",
     "text": [
      "\r",
      "  8%|▊         | 97/1251 [01:49<20:31,  1.07s/it]"
     ]
    },
    {
     "name": "stdout",
     "output_type": "stream",
     "text": [
      "['/raid/jiang/projects/SubtleGAN/data/RSNA_ASNR_MICCAI_BraTS2021_TrainingData/BraTS2021_00296/BraTS2021_00296_t1.nii.gz']\n",
      "52 185\n",
      "44 215\n",
      "0 138\n"
     ]
    },
    {
     "name": "stderr",
     "output_type": "stream",
     "text": [
      "\r",
      "  8%|▊         | 98/1251 [01:50<20:34,  1.07s/it]"
     ]
    },
    {
     "name": "stdout",
     "output_type": "stream",
     "text": [
      "['/raid/jiang/projects/SubtleGAN/data/RSNA_ASNR_MICCAI_BraTS2021_TrainingData/BraTS2021_00494/BraTS2021_00494_t1.nii.gz']\n",
      "48 189\n",
      "50 212\n",
      "0 141\n"
     ]
    },
    {
     "name": "stderr",
     "output_type": "stream",
     "text": [
      "\r",
      "  8%|▊         | 99/1251 [01:51<20:30,  1.07s/it]"
     ]
    },
    {
     "name": "stdout",
     "output_type": "stream",
     "text": [
      "['/raid/jiang/projects/SubtleGAN/data/RSNA_ASNR_MICCAI_BraTS2021_TrainingData/BraTS2021_00243/BraTS2021_00243_t1.nii.gz']\n",
      "53 184\n",
      "44 216\n",
      "4 138\n"
     ]
    },
    {
     "name": "stderr",
     "output_type": "stream",
     "text": [
      "\r",
      "  8%|▊         | 100/1251 [01:52<20:58,  1.09s/it]"
     ]
    },
    {
     "name": "stdout",
     "output_type": "stream",
     "text": [
      "['/raid/jiang/projects/SubtleGAN/data/RSNA_ASNR_MICCAI_BraTS2021_TrainingData/BraTS2021_01664/BraTS2021_01664_t1.nii.gz']\n",
      "50 186\n",
      "37 219\n",
      "0 140\n"
     ]
    },
    {
     "name": "stderr",
     "output_type": "stream",
     "text": [
      "\r",
      "  8%|▊         | 101/1251 [01:54<21:25,  1.12s/it]"
     ]
    },
    {
     "name": "stdout",
     "output_type": "stream",
     "text": [
      "['/raid/jiang/projects/SubtleGAN/data/RSNA_ASNR_MICCAI_BraTS2021_TrainingData/BraTS2021_00764/BraTS2021_00764_t1.nii.gz']\n",
      "50 186\n",
      "33 214\n",
      "3 145\n"
     ]
    },
    {
     "name": "stderr",
     "output_type": "stream",
     "text": [
      "\r",
      "  8%|▊         | 102/1251 [01:55<21:34,  1.13s/it]"
     ]
    },
    {
     "name": "stdout",
     "output_type": "stream",
     "text": [
      "['/raid/jiang/projects/SubtleGAN/data/RSNA_ASNR_MICCAI_BraTS2021_TrainingData/BraTS2021_01237/BraTS2021_01237_t1.nii.gz']\n",
      "43 190\n",
      "47 213\n",
      "8 137\n"
     ]
    },
    {
     "name": "stderr",
     "output_type": "stream",
     "text": [
      "\r",
      "  8%|▊         | 103/1251 [01:56<20:47,  1.09s/it]"
     ]
    },
    {
     "name": "stdout",
     "output_type": "stream",
     "text": [
      "['/raid/jiang/projects/SubtleGAN/data/RSNA_ASNR_MICCAI_BraTS2021_TrainingData/BraTS2021_01272/BraTS2021_01272_t1.nii.gz']\n",
      "49 186\n",
      "48 216\n",
      "4 140\n"
     ]
    },
    {
     "name": "stderr",
     "output_type": "stream",
     "text": [
      "\r",
      "  8%|▊         | 104/1251 [01:57<20:45,  1.09s/it]"
     ]
    },
    {
     "name": "stdout",
     "output_type": "stream",
     "text": [
      "['/raid/jiang/projects/SubtleGAN/data/RSNA_ASNR_MICCAI_BraTS2021_TrainingData/BraTS2021_00193/BraTS2021_00193_t1.nii.gz']\n",
      "50 189\n",
      "30 217\n",
      "0 134\n"
     ]
    },
    {
     "name": "stderr",
     "output_type": "stream",
     "text": [
      "\r",
      "  8%|▊         | 105/1251 [01:58<21:13,  1.11s/it]"
     ]
    },
    {
     "name": "stdout",
     "output_type": "stream",
     "text": [
      "['/raid/jiang/projects/SubtleGAN/data/RSNA_ASNR_MICCAI_BraTS2021_TrainingData/BraTS2021_01345/BraTS2021_01345_t1.nii.gz']\n",
      "51 183\n",
      "47 212\n",
      "0 135\n"
     ]
    },
    {
     "name": "stderr",
     "output_type": "stream",
     "text": [
      "\r",
      "  8%|▊         | 106/1251 [01:59<21:08,  1.11s/it]"
     ]
    },
    {
     "name": "stdout",
     "output_type": "stream",
     "text": [
      "['/raid/jiang/projects/SubtleGAN/data/RSNA_ASNR_MICCAI_BraTS2021_TrainingData/BraTS2021_01255/BraTS2021_01255_t1.nii.gz']\n",
      "49 187\n",
      "41 213\n",
      "0 138\n"
     ]
    },
    {
     "name": "stderr",
     "output_type": "stream",
     "text": [
      "\r",
      "  9%|▊         | 107/1251 [02:00<21:50,  1.15s/it]"
     ]
    },
    {
     "name": "stdout",
     "output_type": "stream",
     "text": [
      "['/raid/jiang/projects/SubtleGAN/data/RSNA_ASNR_MICCAI_BraTS2021_TrainingData/BraTS2021_00178/BraTS2021_00178_t1.nii.gz']\n",
      "53 187\n",
      "37 211\n",
      "0 140\n"
     ]
    },
    {
     "name": "stderr",
     "output_type": "stream",
     "text": [
      "\r",
      "  9%|▊         | 108/1251 [02:01<21:24,  1.12s/it]"
     ]
    },
    {
     "name": "stdout",
     "output_type": "stream",
     "text": [
      "['/raid/jiang/projects/SubtleGAN/data/RSNA_ASNR_MICCAI_BraTS2021_TrainingData/BraTS2021_01527/BraTS2021_01527_t1.nii.gz']\n",
      "50 188\n",
      "45 212\n",
      "0 143\n"
     ]
    },
    {
     "name": "stderr",
     "output_type": "stream",
     "text": [
      "\r",
      "  9%|▊         | 109/1251 [02:02<20:58,  1.10s/it]"
     ]
    },
    {
     "name": "stdout",
     "output_type": "stream",
     "text": [
      "['/raid/jiang/projects/SubtleGAN/data/RSNA_ASNR_MICCAI_BraTS2021_TrainingData/BraTS2021_00258/BraTS2021_00258_t1.nii.gz']\n",
      "54 182\n",
      "42 218\n",
      "1 138\n"
     ]
    },
    {
     "name": "stderr",
     "output_type": "stream",
     "text": [
      "\r",
      "  9%|▉         | 110/1251 [02:04<21:01,  1.11s/it]"
     ]
    },
    {
     "name": "stdout",
     "output_type": "stream",
     "text": [
      "['/raid/jiang/projects/SubtleGAN/data/RSNA_ASNR_MICCAI_BraTS2021_TrainingData/BraTS2021_01370/BraTS2021_01370_t1.nii.gz']\n",
      "54 183\n",
      "51 211\n",
      "0 138\n"
     ]
    },
    {
     "name": "stderr",
     "output_type": "stream",
     "text": [
      "\r",
      "  9%|▉         | 111/1251 [02:05<20:42,  1.09s/it]"
     ]
    },
    {
     "name": "stdout",
     "output_type": "stream",
     "text": [
      "['/raid/jiang/projects/SubtleGAN/data/RSNA_ASNR_MICCAI_BraTS2021_TrainingData/BraTS2021_01138/BraTS2021_01138_t1.nii.gz']\n",
      "49 187\n",
      "45 212\n",
      "0 138\n"
     ]
    },
    {
     "name": "stderr",
     "output_type": "stream",
     "text": [
      "\r",
      "  9%|▉         | 112/1251 [02:06<20:34,  1.08s/it]"
     ]
    },
    {
     "name": "stdout",
     "output_type": "stream",
     "text": [
      "['/raid/jiang/projects/SubtleGAN/data/RSNA_ASNR_MICCAI_BraTS2021_TrainingData/BraTS2021_00297/BraTS2021_00297_t1.nii.gz']\n",
      "48 187\n",
      "53 208\n",
      "0 139\n"
     ]
    },
    {
     "name": "stderr",
     "output_type": "stream",
     "text": [
      "\r",
      "  9%|▉         | 113/1251 [02:07<19:56,  1.05s/it]"
     ]
    },
    {
     "name": "stdout",
     "output_type": "stream",
     "text": [
      "['/raid/jiang/projects/SubtleGAN/data/RSNA_ASNR_MICCAI_BraTS2021_TrainingData/BraTS2021_01372/BraTS2021_01372_t1.nii.gz']\n",
      "50 186\n",
      "47 214\n",
      "0 139\n"
     ]
    },
    {
     "name": "stderr",
     "output_type": "stream",
     "text": [
      "\r",
      "  9%|▉         | 114/1251 [02:08<19:26,  1.03s/it]"
     ]
    },
    {
     "name": "stdout",
     "output_type": "stream",
     "text": [
      "['/raid/jiang/projects/SubtleGAN/data/RSNA_ASNR_MICCAI_BraTS2021_TrainingData/BraTS2021_00426/BraTS2021_00426_t1.nii.gz']\n",
      "55 183\n",
      "43 217\n",
      "5 141\n"
     ]
    },
    {
     "name": "stderr",
     "output_type": "stream",
     "text": [
      "\r",
      "  9%|▉         | 115/1251 [02:09<19:29,  1.03s/it]"
     ]
    },
    {
     "name": "stdout",
     "output_type": "stream",
     "text": [
      "['/raid/jiang/projects/SubtleGAN/data/RSNA_ASNR_MICCAI_BraTS2021_TrainingData/BraTS2021_00305/BraTS2021_00305_t1.nii.gz']\n",
      "51 186\n",
      "52 212\n",
      "0 138\n"
     ]
    },
    {
     "name": "stderr",
     "output_type": "stream",
     "text": [
      "\r",
      "  9%|▉         | 116/1251 [02:10<19:21,  1.02s/it]"
     ]
    },
    {
     "name": "stdout",
     "output_type": "stream",
     "text": [
      "['/raid/jiang/projects/SubtleGAN/data/RSNA_ASNR_MICCAI_BraTS2021_TrainingData/BraTS2021_00688/BraTS2021_00688_t1.nii.gz']\n",
      "54 191\n",
      "23 212\n",
      "0 137\n"
     ]
    },
    {
     "name": "stderr",
     "output_type": "stream",
     "text": [
      "\r",
      "  9%|▉         | 117/1251 [02:11<19:26,  1.03s/it]"
     ]
    },
    {
     "name": "stdout",
     "output_type": "stream",
     "text": [
      "['/raid/jiang/projects/SubtleGAN/data/RSNA_ASNR_MICCAI_BraTS2021_TrainingData/BraTS2021_01485/BraTS2021_01485_t1.nii.gz']\n",
      "51 184\n",
      "43 218\n",
      "3 137\n"
     ]
    },
    {
     "name": "stderr",
     "output_type": "stream",
     "text": [
      "\r",
      "  9%|▉         | 118/1251 [02:12<19:42,  1.04s/it]"
     ]
    },
    {
     "name": "stdout",
     "output_type": "stream",
     "text": [
      "['/raid/jiang/projects/SubtleGAN/data/RSNA_ASNR_MICCAI_BraTS2021_TrainingData/BraTS2021_00645/BraTS2021_00645_t1.nii.gz']\n",
      "52 191\n",
      "31 207\n",
      "3 139\n"
     ]
    },
    {
     "name": "stderr",
     "output_type": "stream",
     "text": [
      "\r",
      " 10%|▉         | 119/1251 [02:13<19:37,  1.04s/it]"
     ]
    },
    {
     "name": "stdout",
     "output_type": "stream",
     "text": [
      "['/raid/jiang/projects/SubtleGAN/data/RSNA_ASNR_MICCAI_BraTS2021_TrainingData/BraTS2021_01357/BraTS2021_01357_t1.nii.gz']\n",
      "52 186\n",
      "43 215\n",
      "2 139\n"
     ]
    },
    {
     "name": "stderr",
     "output_type": "stream",
     "text": [
      "\r",
      " 10%|▉         | 120/1251 [02:14<19:51,  1.05s/it]"
     ]
    },
    {
     "name": "stdout",
     "output_type": "stream",
     "text": [
      "['/raid/jiang/projects/SubtleGAN/data/RSNA_ASNR_MICCAI_BraTS2021_TrainingData/BraTS2021_00310/BraTS2021_00310_t1.nii.gz']\n",
      "51 185\n",
      "47 208\n",
      "2 137\n"
     ]
    },
    {
     "name": "stderr",
     "output_type": "stream",
     "text": [
      "\r",
      " 10%|▉         | 121/1251 [02:15<19:46,  1.05s/it]"
     ]
    },
    {
     "name": "stdout",
     "output_type": "stream",
     "text": [
      "['/raid/jiang/projects/SubtleGAN/data/RSNA_ASNR_MICCAI_BraTS2021_TrainingData/BraTS2021_01259/BraTS2021_01259_t1.nii.gz']\n",
      "45 189\n",
      "46 212\n",
      "0 138\n"
     ]
    },
    {
     "name": "stderr",
     "output_type": "stream",
     "text": [
      "\r",
      " 10%|▉         | 122/1251 [02:16<20:08,  1.07s/it]"
     ]
    },
    {
     "name": "stdout",
     "output_type": "stream",
     "text": [
      "['/raid/jiang/projects/SubtleGAN/data/RSNA_ASNR_MICCAI_BraTS2021_TrainingData/BraTS2021_00676/BraTS2021_00676_t1.nii.gz']\n",
      "50 187\n",
      "40 210\n",
      "0 145\n"
     ]
    },
    {
     "name": "stderr",
     "output_type": "stream",
     "text": [
      "\r",
      " 10%|▉         | 123/1251 [02:17<20:24,  1.09s/it]"
     ]
    },
    {
     "name": "stdout",
     "output_type": "stream",
     "text": [
      "['/raid/jiang/projects/SubtleGAN/data/RSNA_ASNR_MICCAI_BraTS2021_TrainingData/BraTS2021_01116/BraTS2021_01116_t1.nii.gz']\n",
      "52 184\n",
      "39 215\n",
      "3 138\n"
     ]
    },
    {
     "name": "stderr",
     "output_type": "stream",
     "text": [
      "\r",
      " 10%|▉         | 124/1251 [02:18<20:33,  1.09s/it]"
     ]
    },
    {
     "name": "stdout",
     "output_type": "stream",
     "text": [
      "['/raid/jiang/projects/SubtleGAN/data/RSNA_ASNR_MICCAI_BraTS2021_TrainingData/BraTS2021_01160/BraTS2021_01160_t1.nii.gz']\n",
      "46 190\n",
      "35 215\n",
      "0 141\n"
     ]
    },
    {
     "name": "stderr",
     "output_type": "stream",
     "text": [
      "\r",
      " 10%|▉         | 125/1251 [02:20<21:06,  1.12s/it]"
     ]
    },
    {
     "name": "stdout",
     "output_type": "stream",
     "text": [
      "['/raid/jiang/projects/SubtleGAN/data/RSNA_ASNR_MICCAI_BraTS2021_TrainingData/BraTS2021_01429/BraTS2021_01429_t1.nii.gz']\n",
      "47 190\n",
      "45 213\n",
      "9 143\n"
     ]
    },
    {
     "name": "stderr",
     "output_type": "stream",
     "text": [
      "\r",
      " 10%|█         | 126/1251 [02:21<20:44,  1.11s/it]"
     ]
    },
    {
     "name": "stdout",
     "output_type": "stream",
     "text": [
      "['/raid/jiang/projects/SubtleGAN/data/RSNA_ASNR_MICCAI_BraTS2021_TrainingData/BraTS2021_01593/BraTS2021_01593_t1.nii.gz']\n",
      "57 180\n",
      "41 211\n",
      "0 137\n"
     ]
    },
    {
     "name": "stderr",
     "output_type": "stream",
     "text": [
      "\r",
      " 10%|█         | 127/1251 [02:22<20:23,  1.09s/it]"
     ]
    },
    {
     "name": "stdout",
     "output_type": "stream",
     "text": [
      "['/raid/jiang/projects/SubtleGAN/data/RSNA_ASNR_MICCAI_BraTS2021_TrainingData/BraTS2021_00537/BraTS2021_00537_t1.nii.gz']\n",
      "50 189\n",
      "30 210\n",
      "0 143\n",
      "['/raid/jiang/projects/SubtleGAN/data/RSNA_ASNR_MICCAI_BraTS2021_TrainingData/BraTS2021_00142/BraTS2021_00142_t1.nii.gz']\n"
     ]
    },
    {
     "name": "stderr",
     "output_type": "stream",
     "text": [
      "\r",
      " 10%|█         | 128/1251 [02:23<21:07,  1.13s/it]"
     ]
    },
    {
     "name": "stdout",
     "output_type": "stream",
     "text": [
      "50 190\n",
      "43 215\n",
      "0 138\n"
     ]
    },
    {
     "name": "stderr",
     "output_type": "stream",
     "text": [
      "\r",
      " 10%|█         | 129/1251 [02:24<20:32,  1.10s/it]"
     ]
    },
    {
     "name": "stdout",
     "output_type": "stream",
     "text": [
      "['/raid/jiang/projects/SubtleGAN/data/RSNA_ASNR_MICCAI_BraTS2021_TrainingData/BraTS2021_01467/BraTS2021_01467_t1.nii.gz']\n",
      "50 187\n",
      "43 215\n",
      "6 142\n"
     ]
    },
    {
     "name": "stderr",
     "output_type": "stream",
     "text": [
      "\r",
      " 10%|█         | 130/1251 [02:25<19:50,  1.06s/it]"
     ]
    },
    {
     "name": "stdout",
     "output_type": "stream",
     "text": [
      "['/raid/jiang/projects/SubtleGAN/data/RSNA_ASNR_MICCAI_BraTS2021_TrainingData/BraTS2021_00059/BraTS2021_00059_t1.nii.gz']\n",
      "51 188\n",
      "43 203\n",
      "3 144\n"
     ]
    },
    {
     "name": "stderr",
     "output_type": "stream",
     "text": [
      "\r",
      " 10%|█         | 131/1251 [02:26<20:44,  1.11s/it]"
     ]
    },
    {
     "name": "stdout",
     "output_type": "stream",
     "text": [
      "['/raid/jiang/projects/SubtleGAN/data/RSNA_ASNR_MICCAI_BraTS2021_TrainingData/BraTS2021_01557/BraTS2021_01557_t1.nii.gz']\n",
      "48 190\n",
      "38 216\n",
      "0 148\n"
     ]
    },
    {
     "name": "stderr",
     "output_type": "stream",
     "text": [
      "\r",
      " 11%|█         | 132/1251 [02:27<20:40,  1.11s/it]"
     ]
    },
    {
     "name": "stdout",
     "output_type": "stream",
     "text": [
      "['/raid/jiang/projects/SubtleGAN/data/RSNA_ASNR_MICCAI_BraTS2021_TrainingData/BraTS2021_00131/BraTS2021_00131_t1.nii.gz']\n",
      "52 186\n",
      "36 217\n",
      "0 139\n"
     ]
    },
    {
     "name": "stderr",
     "output_type": "stream",
     "text": [
      "\r",
      " 11%|█         | 133/1251 [02:28<21:03,  1.13s/it]"
     ]
    },
    {
     "name": "stdout",
     "output_type": "stream",
     "text": [
      "['/raid/jiang/projects/SubtleGAN/data/RSNA_ASNR_MICCAI_BraTS2021_TrainingData/BraTS2021_00318/BraTS2021_00318_t1.nii.gz']\n",
      "50 186\n",
      "29 215\n",
      "0 139\n"
     ]
    },
    {
     "name": "stderr",
     "output_type": "stream",
     "text": [
      "\r",
      " 11%|█         | 134/1251 [02:29<20:43,  1.11s/it]"
     ]
    },
    {
     "name": "stdout",
     "output_type": "stream",
     "text": [
      "['/raid/jiang/projects/SubtleGAN/data/RSNA_ASNR_MICCAI_BraTS2021_TrainingData/BraTS2021_01076/BraTS2021_01076_t1.nii.gz']\n",
      "53 185\n",
      "42 216\n",
      "0 141\n"
     ]
    },
    {
     "name": "stderr",
     "output_type": "stream",
     "text": [
      "\r",
      " 11%|█         | 135/1251 [02:30<19:45,  1.06s/it]"
     ]
    },
    {
     "name": "stdout",
     "output_type": "stream",
     "text": [
      "['/raid/jiang/projects/SubtleGAN/data/RSNA_ASNR_MICCAI_BraTS2021_TrainingData/BraTS2021_00195/BraTS2021_00195_t1.nii.gz']\n",
      "52 184\n",
      "45 215\n",
      "0 137\n"
     ]
    },
    {
     "name": "stderr",
     "output_type": "stream",
     "text": [
      "\r",
      " 11%|█         | 136/1251 [02:31<19:53,  1.07s/it]"
     ]
    },
    {
     "name": "stdout",
     "output_type": "stream",
     "text": [
      "['/raid/jiang/projects/SubtleGAN/data/RSNA_ASNR_MICCAI_BraTS2021_TrainingData/BraTS2021_00429/BraTS2021_00429_t1.nii.gz']\n",
      "50 186\n",
      "38 221\n",
      "0 143\n"
     ]
    },
    {
     "name": "stderr",
     "output_type": "stream",
     "text": [
      "\r",
      " 11%|█         | 137/1251 [02:33<19:54,  1.07s/it]"
     ]
    },
    {
     "name": "stdout",
     "output_type": "stream",
     "text": [
      "['/raid/jiang/projects/SubtleGAN/data/RSNA_ASNR_MICCAI_BraTS2021_TrainingData/BraTS2021_01215/BraTS2021_01215_t1.nii.gz']\n",
      "48 191\n",
      "41 216\n",
      "0 140\n"
     ]
    },
    {
     "name": "stderr",
     "output_type": "stream",
     "text": [
      "\r",
      " 11%|█         | 138/1251 [02:34<20:30,  1.11s/it]"
     ]
    },
    {
     "name": "stdout",
     "output_type": "stream",
     "text": [
      "['/raid/jiang/projects/SubtleGAN/data/RSNA_ASNR_MICCAI_BraTS2021_TrainingData/BraTS2021_01368/BraTS2021_01368_t1.nii.gz']\n",
      "48 191\n",
      "47 209\n",
      "0 138\n"
     ]
    },
    {
     "name": "stderr",
     "output_type": "stream",
     "text": [
      "\r",
      " 11%|█         | 139/1251 [02:35<20:31,  1.11s/it]"
     ]
    },
    {
     "name": "stdout",
     "output_type": "stream",
     "text": [
      "['/raid/jiang/projects/SubtleGAN/data/RSNA_ASNR_MICCAI_BraTS2021_TrainingData/BraTS2021_01029/BraTS2021_01029_t1.nii.gz']\n",
      "48 190\n",
      "38 223\n",
      "0 139\n"
     ]
    },
    {
     "name": "stderr",
     "output_type": "stream",
     "text": [
      "\r",
      " 11%|█         | 140/1251 [02:36<20:50,  1.13s/it]"
     ]
    },
    {
     "name": "stdout",
     "output_type": "stream",
     "text": [
      "['/raid/jiang/projects/SubtleGAN/data/RSNA_ASNR_MICCAI_BraTS2021_TrainingData/BraTS2021_00740/BraTS2021_00740_t1.nii.gz']\n",
      "55 186\n",
      "33 212\n",
      "0 145\n"
     ]
    },
    {
     "name": "stderr",
     "output_type": "stream",
     "text": [
      "\r",
      " 11%|█▏        | 141/1251 [02:37<20:40,  1.12s/it]"
     ]
    },
    {
     "name": "stdout",
     "output_type": "stream",
     "text": [
      "['/raid/jiang/projects/SubtleGAN/data/RSNA_ASNR_MICCAI_BraTS2021_TrainingData/BraTS2021_01392/BraTS2021_01392_t1.nii.gz']\n",
      "58 178\n",
      "46 211\n",
      "0 141\n"
     ]
    },
    {
     "name": "stderr",
     "output_type": "stream",
     "text": [
      "\r",
      " 11%|█▏        | 142/1251 [02:38<19:14,  1.04s/it]"
     ]
    },
    {
     "name": "stdout",
     "output_type": "stream",
     "text": [
      "['/raid/jiang/projects/SubtleGAN/data/RSNA_ASNR_MICCAI_BraTS2021_TrainingData/BraTS2021_01390/BraTS2021_01390_t1.nii.gz']\n",
      "54 183\n",
      "48 212\n",
      "5 138\n"
     ]
    },
    {
     "name": "stderr",
     "output_type": "stream",
     "text": [
      "\r",
      " 11%|█▏        | 143/1251 [02:39<19:18,  1.05s/it]"
     ]
    },
    {
     "name": "stdout",
     "output_type": "stream",
     "text": [
      "['/raid/jiang/projects/SubtleGAN/data/RSNA_ASNR_MICCAI_BraTS2021_TrainingData/BraTS2021_01422/BraTS2021_01422_t1.nii.gz']\n",
      "47 190\n",
      "45 215\n",
      "9 143\n"
     ]
    },
    {
     "name": "stderr",
     "output_type": "stream",
     "text": [
      "\r",
      " 12%|█▏        | 144/1251 [02:40<19:49,  1.07s/it]"
     ]
    },
    {
     "name": "stdout",
     "output_type": "stream",
     "text": [
      "['/raid/jiang/projects/SubtleGAN/data/RSNA_ASNR_MICCAI_BraTS2021_TrainingData/BraTS2021_01448/BraTS2021_01448_t1.nii.gz']\n",
      "48 190\n",
      "42 214\n",
      "2 135\n"
     ]
    },
    {
     "name": "stderr",
     "output_type": "stream",
     "text": [
      "\r",
      " 12%|█▏        | 145/1251 [02:41<20:31,  1.11s/it]"
     ]
    },
    {
     "name": "stdout",
     "output_type": "stream",
     "text": [
      "['/raid/jiang/projects/SubtleGAN/data/RSNA_ASNR_MICCAI_BraTS2021_TrainingData/BraTS2021_01389/BraTS2021_01389_t1.nii.gz']\n",
      "46 190\n",
      "40 220\n",
      "0 138\n"
     ]
    },
    {
     "name": "stderr",
     "output_type": "stream",
     "text": [
      "\r",
      " 12%|█▏        | 146/1251 [02:43<20:38,  1.12s/it]"
     ]
    },
    {
     "name": "stdout",
     "output_type": "stream",
     "text": [
      "['/raid/jiang/projects/SubtleGAN/data/RSNA_ASNR_MICCAI_BraTS2021_TrainingData/BraTS2021_01257/BraTS2021_01257_t1.nii.gz']\n",
      "48 187\n",
      "48 213\n",
      "6 142\n"
     ]
    },
    {
     "name": "stderr",
     "output_type": "stream",
     "text": [
      "\r",
      " 12%|█▏        | 147/1251 [02:44<19:56,  1.08s/it]"
     ]
    },
    {
     "name": "stdout",
     "output_type": "stream",
     "text": [
      "['/raid/jiang/projects/SubtleGAN/data/RSNA_ASNR_MICCAI_BraTS2021_TrainingData/BraTS2021_00284/BraTS2021_00284_t1.nii.gz']\n",
      "50 185\n",
      "41 213\n",
      "0 138\n"
     ]
    },
    {
     "name": "stderr",
     "output_type": "stream",
     "text": [
      "\r",
      " 12%|█▏        | 148/1251 [02:45<20:12,  1.10s/it]"
     ]
    },
    {
     "name": "stdout",
     "output_type": "stream",
     "text": [
      "['/raid/jiang/projects/SubtleGAN/data/RSNA_ASNR_MICCAI_BraTS2021_TrainingData/BraTS2021_00739/BraTS2021_00739_t1.nii.gz']\n",
      "51 187\n",
      "35 215\n",
      "0 141\n"
     ]
    },
    {
     "name": "stderr",
     "output_type": "stream",
     "text": [
      "\r",
      " 12%|█▏        | 149/1251 [02:46<20:21,  1.11s/it]"
     ]
    },
    {
     "name": "stdout",
     "output_type": "stream",
     "text": [
      "['/raid/jiang/projects/SubtleGAN/data/RSNA_ASNR_MICCAI_BraTS2021_TrainingData/BraTS2021_00552/BraTS2021_00552_t1.nii.gz']\n",
      "51 188\n",
      "41 213\n",
      "0 147\n"
     ]
    },
    {
     "name": "stderr",
     "output_type": "stream",
     "text": [
      "\r",
      " 12%|█▏        | 150/1251 [02:47<20:22,  1.11s/it]"
     ]
    },
    {
     "name": "stdout",
     "output_type": "stream",
     "text": [
      "['/raid/jiang/projects/SubtleGAN/data/RSNA_ASNR_MICCAI_BraTS2021_TrainingData/BraTS2021_00608/BraTS2021_00608_t1.nii.gz']\n",
      "52 189\n",
      "40 211\n",
      "0 143\n"
     ]
    },
    {
     "name": "stderr",
     "output_type": "stream",
     "text": [
      "\r",
      " 12%|█▏        | 151/1251 [02:48<20:23,  1.11s/it]"
     ]
    },
    {
     "name": "stdout",
     "output_type": "stream",
     "text": [
      "['/raid/jiang/projects/SubtleGAN/data/RSNA_ASNR_MICCAI_BraTS2021_TrainingData/BraTS2021_00421/BraTS2021_00421_t1.nii.gz']\n",
      "47 190\n",
      "47 214\n",
      "0 141\n"
     ]
    },
    {
     "name": "stderr",
     "output_type": "stream",
     "text": [
      "\r",
      " 12%|█▏        | 152/1251 [02:49<20:10,  1.10s/it]"
     ]
    },
    {
     "name": "stdout",
     "output_type": "stream",
     "text": [
      "['/raid/jiang/projects/SubtleGAN/data/RSNA_ASNR_MICCAI_BraTS2021_TrainingData/BraTS2021_01473/BraTS2021_01473_t1.nii.gz']\n",
      "53 182\n",
      "44 213\n",
      "0 134\n"
     ]
    },
    {
     "name": "stderr",
     "output_type": "stream",
     "text": [
      "\r",
      " 12%|█▏        | 153/1251 [02:50<19:51,  1.09s/it]"
     ]
    },
    {
     "name": "stdout",
     "output_type": "stream",
     "text": [
      "['/raid/jiang/projects/SubtleGAN/data/RSNA_ASNR_MICCAI_BraTS2021_TrainingData/BraTS2021_01474/BraTS2021_01474_t1.nii.gz']\n",
      "53 184\n",
      "56 211\n",
      "0 136\n"
     ]
    },
    {
     "name": "stderr",
     "output_type": "stream",
     "text": [
      "\r",
      " 12%|█▏        | 154/1251 [02:51<19:25,  1.06s/it]"
     ]
    },
    {
     "name": "stdout",
     "output_type": "stream",
     "text": [
      "['/raid/jiang/projects/SubtleGAN/data/RSNA_ASNR_MICCAI_BraTS2021_TrainingData/BraTS2021_00227/BraTS2021_00227_t1.nii.gz']\n",
      "54 184\n",
      "40 215\n",
      "0 142\n"
     ]
    },
    {
     "name": "stderr",
     "output_type": "stream",
     "text": [
      "\r",
      " 12%|█▏        | 155/1251 [02:52<19:35,  1.07s/it]"
     ]
    },
    {
     "name": "stdout",
     "output_type": "stream",
     "text": [
      "['/raid/jiang/projects/SubtleGAN/data/RSNA_ASNR_MICCAI_BraTS2021_TrainingData/BraTS2021_01547/BraTS2021_01547_t1.nii.gz']\n",
      "51 189\n",
      "45 223\n",
      "2 136\n"
     ]
    },
    {
     "name": "stderr",
     "output_type": "stream",
     "text": [
      "\r",
      " 12%|█▏        | 156/1251 [02:53<20:13,  1.11s/it]"
     ]
    },
    {
     "name": "stdout",
     "output_type": "stream",
     "text": [
      "['/raid/jiang/projects/SubtleGAN/data/RSNA_ASNR_MICCAI_BraTS2021_TrainingData/BraTS2021_01121/BraTS2021_01121_t1.nii.gz']\n",
      "45 189\n",
      "43 215\n",
      "0 142\n"
     ]
    },
    {
     "name": "stderr",
     "output_type": "stream",
     "text": [
      "\r",
      " 13%|█▎        | 157/1251 [02:55<20:28,  1.12s/it]"
     ]
    },
    {
     "name": "stdout",
     "output_type": "stream",
     "text": [
      "['/raid/jiang/projects/SubtleGAN/data/RSNA_ASNR_MICCAI_BraTS2021_TrainingData/BraTS2021_01245/BraTS2021_01245_t1.nii.gz']\n",
      "50 186\n",
      "42 215\n",
      "0 142\n",
      "['/raid/jiang/projects/SubtleGAN/data/RSNA_ASNR_MICCAI_BraTS2021_TrainingData/BraTS2021_01369/BraTS2021_01369_t1.nii.gz']\n"
     ]
    },
    {
     "name": "stderr",
     "output_type": "stream",
     "text": [
      "\r",
      " 13%|█▎        | 158/1251 [02:56<20:43,  1.14s/it]"
     ]
    },
    {
     "name": "stdout",
     "output_type": "stream",
     "text": [
      "52 187\n",
      "41 216\n",
      "0 141\n"
     ]
    },
    {
     "name": "stderr",
     "output_type": "stream",
     "text": [
      "\r",
      " 13%|█▎        | 159/1251 [02:57<20:54,  1.15s/it]"
     ]
    },
    {
     "name": "stdout",
     "output_type": "stream",
     "text": [
      "['/raid/jiang/projects/SubtleGAN/data/RSNA_ASNR_MICCAI_BraTS2021_TrainingData/BraTS2021_00542/BraTS2021_00542_t1.nii.gz']\n",
      "50 190\n",
      "49 209\n",
      "2 145\n"
     ]
    },
    {
     "name": "stderr",
     "output_type": "stream",
     "text": [
      "\r",
      " 13%|█▎        | 160/1251 [02:58<20:09,  1.11s/it]"
     ]
    },
    {
     "name": "stdout",
     "output_type": "stream",
     "text": [
      "['/raid/jiang/projects/SubtleGAN/data/RSNA_ASNR_MICCAI_BraTS2021_TrainingData/BraTS2021_00725/BraTS2021_00725_t1.nii.gz']\n",
      "56 190\n",
      "42 206\n",
      "4 138\n"
     ]
    },
    {
     "name": "stderr",
     "output_type": "stream",
     "text": [
      "\r",
      " 13%|█▎        | 161/1251 [02:59<20:02,  1.10s/it]"
     ]
    },
    {
     "name": "stdout",
     "output_type": "stream",
     "text": [
      "['/raid/jiang/projects/SubtleGAN/data/RSNA_ASNR_MICCAI_BraTS2021_TrainingData/BraTS2021_00451/BraTS2021_00451_t1.nii.gz']\n",
      "50 186\n",
      "51 212\n",
      "0 137\n"
     ]
    },
    {
     "name": "stderr",
     "output_type": "stream",
     "text": [
      "\r",
      " 13%|█▎        | 162/1251 [03:00<19:50,  1.09s/it]"
     ]
    },
    {
     "name": "stdout",
     "output_type": "stream",
     "text": [
      "['/raid/jiang/projects/SubtleGAN/data/RSNA_ASNR_MICCAI_BraTS2021_TrainingData/BraTS2021_01221/BraTS2021_01221_t1.nii.gz']\n",
      "49 188\n",
      "38 217\n",
      "0 138\n"
     ]
    },
    {
     "name": "stderr",
     "output_type": "stream",
     "text": [
      "\r",
      " 13%|█▎        | 163/1251 [03:01<20:38,  1.14s/it]"
     ]
    },
    {
     "name": "stdout",
     "output_type": "stream",
     "text": [
      "['/raid/jiang/projects/SubtleGAN/data/RSNA_ASNR_MICCAI_BraTS2021_TrainingData/BraTS2021_01435/BraTS2021_01435_t1.nii.gz']\n",
      "43 193\n",
      "44 211\n",
      "4 142\n"
     ]
    },
    {
     "name": "stderr",
     "output_type": "stream",
     "text": [
      "\r",
      " 13%|█▎        | 164/1251 [03:02<20:03,  1.11s/it]"
     ]
    },
    {
     "name": "stdout",
     "output_type": "stream",
     "text": [
      "['/raid/jiang/projects/SubtleGAN/data/RSNA_ASNR_MICCAI_BraTS2021_TrainingData/BraTS2021_00117/BraTS2021_00117_t1.nii.gz']\n",
      "48 189\n",
      "46 204\n",
      "2 139\n"
     ]
    },
    {
     "name": "stderr",
     "output_type": "stream",
     "text": [
      "\r",
      " 13%|█▎        | 165/1251 [03:04<20:10,  1.11s/it]"
     ]
    },
    {
     "name": "stdout",
     "output_type": "stream",
     "text": [
      "['/raid/jiang/projects/SubtleGAN/data/RSNA_ASNR_MICCAI_BraTS2021_TrainingData/BraTS2021_01564/BraTS2021_01564_t1.nii.gz']\n",
      "47 189\n",
      "45 212\n",
      "0 137\n"
     ]
    },
    {
     "name": "stderr",
     "output_type": "stream",
     "text": [
      "\r",
      " 13%|█▎        | 166/1251 [03:05<20:13,  1.12s/it]"
     ]
    },
    {
     "name": "stdout",
     "output_type": "stream",
     "text": [
      "['/raid/jiang/projects/SubtleGAN/data/RSNA_ASNR_MICCAI_BraTS2021_TrainingData/BraTS2021_01095/BraTS2021_01095_t1.nii.gz']\n",
      "48 187\n",
      "45 213\n",
      "0 138\n"
     ]
    },
    {
     "name": "stderr",
     "output_type": "stream",
     "text": [
      "\r",
      " 13%|█▎        | 167/1251 [03:06<20:18,  1.12s/it]"
     ]
    },
    {
     "name": "stdout",
     "output_type": "stream",
     "text": [
      "['/raid/jiang/projects/SubtleGAN/data/RSNA_ASNR_MICCAI_BraTS2021_TrainingData/BraTS2021_00806/BraTS2021_00806_t1.nii.gz']\n",
      "54 181\n",
      "46 218\n",
      "0 141\n",
      "['/raid/jiang/projects/SubtleGAN/data/RSNA_ASNR_MICCAI_BraTS2021_TrainingData/BraTS2021_01403/BraTS2021_01403_t1.nii.gz']\n"
     ]
    },
    {
     "name": "stderr",
     "output_type": "stream",
     "text": [
      "\r",
      " 13%|█▎        | 168/1251 [03:07<20:11,  1.12s/it]"
     ]
    },
    {
     "name": "stdout",
     "output_type": "stream",
     "text": [
      "49 187\n",
      "46 216\n",
      "2 138\n"
     ]
    },
    {
     "name": "stderr",
     "output_type": "stream",
     "text": [
      "\r",
      " 14%|█▎        | 169/1251 [03:08<19:58,  1.11s/it]"
     ]
    },
    {
     "name": "stdout",
     "output_type": "stream",
     "text": [
      "['/raid/jiang/projects/SubtleGAN/data/RSNA_ASNR_MICCAI_BraTS2021_TrainingData/BraTS2021_00293/BraTS2021_00293_t1.nii.gz']\n",
      "50 187\n",
      "42 217\n",
      "0 140\n"
     ]
    },
    {
     "name": "stderr",
     "output_type": "stream",
     "text": [
      "\r",
      " 14%|█▎        | 170/1251 [03:09<19:49,  1.10s/it]"
     ]
    },
    {
     "name": "stdout",
     "output_type": "stream",
     "text": [
      "['/raid/jiang/projects/SubtleGAN/data/RSNA_ASNR_MICCAI_BraTS2021_TrainingData/BraTS2021_01093/BraTS2021_01093_t1.nii.gz']\n",
      "48 185\n",
      "47 215\n",
      "1 143\n"
     ]
    },
    {
     "name": "stderr",
     "output_type": "stream",
     "text": [
      "\r",
      " 14%|█▎        | 171/1251 [03:10<20:09,  1.12s/it]"
     ]
    },
    {
     "name": "stdout",
     "output_type": "stream",
     "text": [
      "['/raid/jiang/projects/SubtleGAN/data/RSNA_ASNR_MICCAI_BraTS2021_TrainingData/BraTS2021_00177/BraTS2021_00177_t1.nii.gz']\n",
      "44 190\n",
      "42 213\n",
      "0 138\n"
     ]
    },
    {
     "name": "stderr",
     "output_type": "stream",
     "text": [
      "\r",
      " 14%|█▎        | 172/1251 [03:11<19:57,  1.11s/it]"
     ]
    },
    {
     "name": "stdout",
     "output_type": "stream",
     "text": [
      "['/raid/jiang/projects/SubtleGAN/data/RSNA_ASNR_MICCAI_BraTS2021_TrainingData/BraTS2021_01525/BraTS2021_01525_t1.nii.gz']\n",
      "47 190\n",
      "43 213\n",
      "0 138\n"
     ]
    },
    {
     "name": "stderr",
     "output_type": "stream",
     "text": [
      "\r",
      " 14%|█▍        | 173/1251 [03:12<19:55,  1.11s/it]"
     ]
    },
    {
     "name": "stdout",
     "output_type": "stream",
     "text": [
      "['/raid/jiang/projects/SubtleGAN/data/RSNA_ASNR_MICCAI_BraTS2021_TrainingData/BraTS2021_01049/BraTS2021_01049_t1.nii.gz']\n",
      "50 187\n",
      "40 215\n",
      "0 144\n"
     ]
    },
    {
     "name": "stderr",
     "output_type": "stream",
     "text": [
      "\r",
      " 14%|█▍        | 174/1251 [03:13<19:35,  1.09s/it]"
     ]
    },
    {
     "name": "stdout",
     "output_type": "stream",
     "text": [
      "['/raid/jiang/projects/SubtleGAN/data/RSNA_ASNR_MICCAI_BraTS2021_TrainingData/BraTS2021_00704/BraTS2021_00704_t1.nii.gz']\n",
      "49 179\n",
      "44 208\n",
      "0 129\n"
     ]
    },
    {
     "name": "stderr",
     "output_type": "stream",
     "text": [
      "\r",
      " 14%|█▍        | 175/1251 [03:15<19:27,  1.08s/it]"
     ]
    },
    {
     "name": "stdout",
     "output_type": "stream",
     "text": [
      "['/raid/jiang/projects/SubtleGAN/data/RSNA_ASNR_MICCAI_BraTS2021_TrainingData/BraTS2021_00103/BraTS2021_00103_t1.nii.gz']\n",
      "47 196\n",
      "38 210\n",
      "0 140\n"
     ]
    },
    {
     "name": "stderr",
     "output_type": "stream",
     "text": [
      "\r",
      " 14%|█▍        | 176/1251 [03:16<19:46,  1.10s/it]"
     ]
    },
    {
     "name": "stdout",
     "output_type": "stream",
     "text": [
      "['/raid/jiang/projects/SubtleGAN/data/RSNA_ASNR_MICCAI_BraTS2021_TrainingData/BraTS2021_01647/BraTS2021_01647_t1.nii.gz']\n",
      "52 184\n",
      "41 209\n",
      "0 142\n"
     ]
    },
    {
     "name": "stderr",
     "output_type": "stream",
     "text": [
      "\r",
      " 14%|█▍        | 177/1251 [03:17<18:48,  1.05s/it]"
     ]
    },
    {
     "name": "stdout",
     "output_type": "stream",
     "text": [
      "['/raid/jiang/projects/SubtleGAN/data/RSNA_ASNR_MICCAI_BraTS2021_TrainingData/BraTS2021_00693/BraTS2021_00693_t1.nii.gz']\n",
      "53 185\n",
      "47 207\n",
      "1 146\n"
     ]
    },
    {
     "name": "stderr",
     "output_type": "stream",
     "text": [
      "\r",
      " 14%|█▍        | 178/1251 [03:18<18:47,  1.05s/it]"
     ]
    },
    {
     "name": "stdout",
     "output_type": "stream",
     "text": [
      "['/raid/jiang/projects/SubtleGAN/data/RSNA_ASNR_MICCAI_BraTS2021_TrainingData/BraTS2021_01307/BraTS2021_01307_t1.nii.gz']\n",
      "48 186\n",
      "42 215\n",
      "0 138\n"
     ]
    },
    {
     "name": "stderr",
     "output_type": "stream",
     "text": [
      "\r",
      " 14%|█▍        | 179/1251 [03:19<19:33,  1.09s/it]"
     ]
    },
    {
     "name": "stdout",
     "output_type": "stream",
     "text": [
      "['/raid/jiang/projects/SubtleGAN/data/RSNA_ASNR_MICCAI_BraTS2021_TrainingData/BraTS2021_00591/BraTS2021_00591_t1.nii.gz']\n",
      "50 185\n",
      "45 214\n",
      "0 140\n"
     ]
    },
    {
     "name": "stderr",
     "output_type": "stream",
     "text": [
      "\r",
      " 14%|█▍        | 180/1251 [03:20<18:56,  1.06s/it]"
     ]
    },
    {
     "name": "stdout",
     "output_type": "stream",
     "text": [
      "['/raid/jiang/projects/SubtleGAN/data/RSNA_ASNR_MICCAI_BraTS2021_TrainingData/BraTS2021_00727/BraTS2021_00727_t1.nii.gz']\n",
      "51 189\n",
      "38 203\n",
      "7 138\n"
     ]
    },
    {
     "name": "stderr",
     "output_type": "stream",
     "text": [
      "\r",
      " 14%|█▍        | 181/1251 [03:21<19:18,  1.08s/it]"
     ]
    },
    {
     "name": "stdout",
     "output_type": "stream",
     "text": [
      "['/raid/jiang/projects/SubtleGAN/data/RSNA_ASNR_MICCAI_BraTS2021_TrainingData/BraTS2021_01102/BraTS2021_01102_t1.nii.gz']\n",
      "46 192\n",
      "47 211\n",
      "0 136\n"
     ]
    },
    {
     "name": "stderr",
     "output_type": "stream",
     "text": [
      "\r",
      " 15%|█▍        | 182/1251 [03:22<19:06,  1.07s/it]"
     ]
    },
    {
     "name": "stdout",
     "output_type": "stream",
     "text": [
      "['/raid/jiang/projects/SubtleGAN/data/RSNA_ASNR_MICCAI_BraTS2021_TrainingData/BraTS2021_01302/BraTS2021_01302_t1.nii.gz']\n",
      "51 185\n",
      "53 213\n",
      "6 139\n"
     ]
    },
    {
     "name": "stderr",
     "output_type": "stream",
     "text": [
      "\r",
      " 15%|█▍        | 183/1251 [03:23<18:34,  1.04s/it]"
     ]
    },
    {
     "name": "stdout",
     "output_type": "stream",
     "text": [
      "['/raid/jiang/projects/SubtleGAN/data/RSNA_ASNR_MICCAI_BraTS2021_TrainingData/BraTS2021_01074/BraTS2021_01074_t1.nii.gz']\n",
      "49 188\n",
      "50 211\n",
      "0 140\n"
     ]
    },
    {
     "name": "stderr",
     "output_type": "stream",
     "text": [
      "\r",
      " 15%|█▍        | 184/1251 [03:24<19:11,  1.08s/it]"
     ]
    },
    {
     "name": "stdout",
     "output_type": "stream",
     "text": [
      "['/raid/jiang/projects/SubtleGAN/data/RSNA_ASNR_MICCAI_BraTS2021_TrainingData/BraTS2021_01428/BraTS2021_01428_t1.nii.gz']\n",
      "47 189\n",
      "44 208\n",
      "2 143\n"
     ]
    },
    {
     "name": "stderr",
     "output_type": "stream",
     "text": [
      "\r",
      " 15%|█▍        | 185/1251 [03:25<19:09,  1.08s/it]"
     ]
    },
    {
     "name": "stdout",
     "output_type": "stream",
     "text": [
      "['/raid/jiang/projects/SubtleGAN/data/RSNA_ASNR_MICCAI_BraTS2021_TrainingData/BraTS2021_01060/BraTS2021_01060_t1.nii.gz']\n",
      "56 182\n",
      "45 214\n",
      "3 141\n"
     ]
    },
    {
     "name": "stderr",
     "output_type": "stream",
     "text": [
      "\r",
      " 15%|█▍        | 186/1251 [03:26<19:43,  1.11s/it]"
     ]
    },
    {
     "name": "stdout",
     "output_type": "stream",
     "text": [
      "['/raid/jiang/projects/SubtleGAN/data/RSNA_ASNR_MICCAI_BraTS2021_TrainingData/BraTS2021_00572/BraTS2021_00572_t1.nii.gz']\n",
      "52 184\n",
      "45 215\n",
      "2 139\n"
     ]
    },
    {
     "name": "stderr",
     "output_type": "stream",
     "text": [
      "\r",
      " 15%|█▍        | 187/1251 [03:27<19:09,  1.08s/it]"
     ]
    },
    {
     "name": "stdout",
     "output_type": "stream",
     "text": [
      "['/raid/jiang/projects/SubtleGAN/data/RSNA_ASNR_MICCAI_BraTS2021_TrainingData/BraTS2021_01131/BraTS2021_01131_t1.nii.gz']\n",
      "46 190\n",
      "53 208\n",
      "4 135\n"
     ]
    },
    {
     "name": "stderr",
     "output_type": "stream",
     "text": [
      "\r",
      " 15%|█▌        | 188/1251 [03:29<19:38,  1.11s/it]"
     ]
    },
    {
     "name": "stdout",
     "output_type": "stream",
     "text": [
      "['/raid/jiang/projects/SubtleGAN/data/RSNA_ASNR_MICCAI_BraTS2021_TrainingData/BraTS2021_01583/BraTS2021_01583_t1.nii.gz']\n",
      "54 183\n",
      "40 216\n",
      "2 137\n"
     ]
    },
    {
     "name": "stderr",
     "output_type": "stream",
     "text": [
      "\r",
      " 15%|█▌        | 189/1251 [03:30<19:59,  1.13s/it]"
     ]
    },
    {
     "name": "stdout",
     "output_type": "stream",
     "text": [
      "['/raid/jiang/projects/SubtleGAN/data/RSNA_ASNR_MICCAI_BraTS2021_TrainingData/BraTS2021_01141/BraTS2021_01141_t1.nii.gz']\n",
      "51 192\n",
      "45 210\n",
      "0 131\n"
     ]
    },
    {
     "name": "stderr",
     "output_type": "stream",
     "text": [
      "\r",
      " 15%|█▌        | 190/1251 [03:31<19:30,  1.10s/it]"
     ]
    },
    {
     "name": "stdout",
     "output_type": "stream",
     "text": [
      "['/raid/jiang/projects/SubtleGAN/data/RSNA_ASNR_MICCAI_BraTS2021_TrainingData/BraTS2021_01235/BraTS2021_01235_t1.nii.gz']\n",
      "51 183\n",
      "44 210\n",
      "3 142\n"
     ]
    },
    {
     "name": "stderr",
     "output_type": "stream",
     "text": [
      "\r",
      " 15%|█▌        | 191/1251 [03:32<19:10,  1.09s/it]"
     ]
    },
    {
     "name": "stdout",
     "output_type": "stream",
     "text": [
      "['/raid/jiang/projects/SubtleGAN/data/RSNA_ASNR_MICCAI_BraTS2021_TrainingData/BraTS2021_00068/BraTS2021_00068_t1.nii.gz']\n",
      "61 190\n",
      "43 208\n",
      "2 127\n"
     ]
    },
    {
     "name": "stderr",
     "output_type": "stream",
     "text": [
      "\r",
      " 15%|█▌        | 192/1251 [03:33<19:02,  1.08s/it]"
     ]
    },
    {
     "name": "stdout",
     "output_type": "stream",
     "text": [
      "['/raid/jiang/projects/SubtleGAN/data/RSNA_ASNR_MICCAI_BraTS2021_TrainingData/BraTS2021_00757/BraTS2021_00757_t1.nii.gz']\n",
      "52 183\n",
      "40 215\n",
      "0 141\n"
     ]
    },
    {
     "name": "stderr",
     "output_type": "stream",
     "text": [
      "\r",
      " 15%|█▌        | 193/1251 [03:34<18:58,  1.08s/it]"
     ]
    },
    {
     "name": "stdout",
     "output_type": "stream",
     "text": [
      "['/raid/jiang/projects/SubtleGAN/data/RSNA_ASNR_MICCAI_BraTS2021_TrainingData/BraTS2021_00331/BraTS2021_00331_t1.nii.gz']\n",
      "51 187\n",
      "43 215\n",
      "0 146\n"
     ]
    },
    {
     "name": "stderr",
     "output_type": "stream",
     "text": [
      "\r",
      " 16%|█▌        | 194/1251 [03:35<19:09,  1.09s/it]"
     ]
    },
    {
     "name": "stdout",
     "output_type": "stream",
     "text": [
      "['/raid/jiang/projects/SubtleGAN/data/RSNA_ASNR_MICCAI_BraTS2021_TrainingData/BraTS2021_01666/BraTS2021_01666_t1.nii.gz']\n",
      "52 185\n",
      "47 206\n",
      "0 142\n"
     ]
    },
    {
     "name": "stderr",
     "output_type": "stream",
     "text": [
      "\r",
      " 16%|█▌        | 195/1251 [03:36<19:27,  1.11s/it]"
     ]
    },
    {
     "name": "stdout",
     "output_type": "stream",
     "text": [
      "['/raid/jiang/projects/SubtleGAN/data/RSNA_ASNR_MICCAI_BraTS2021_TrainingData/BraTS2021_00751/BraTS2021_00751_t1.nii.gz']\n",
      "50 191\n",
      "33 216\n",
      "0 138\n"
     ]
    },
    {
     "name": "stderr",
     "output_type": "stream",
     "text": [
      "\r",
      " 16%|█▌        | 196/1251 [03:38<20:53,  1.19s/it]"
     ]
    },
    {
     "name": "stdout",
     "output_type": "stream",
     "text": [
      "['/raid/jiang/projects/SubtleGAN/data/RSNA_ASNR_MICCAI_BraTS2021_TrainingData/BraTS2021_00594/BraTS2021_00594_t1.nii.gz']\n",
      "47 192\n",
      "30 222\n",
      "5 137\n"
     ]
    },
    {
     "name": "stderr",
     "output_type": "stream",
     "text": [
      "\r",
      " 16%|█▌        | 197/1251 [03:39<20:51,  1.19s/it]"
     ]
    },
    {
     "name": "stdout",
     "output_type": "stream",
     "text": [
      "['/raid/jiang/projects/SubtleGAN/data/RSNA_ASNR_MICCAI_BraTS2021_TrainingData/BraTS2021_01655/BraTS2021_01655_t1.nii.gz']\n",
      "47 189\n",
      "44 204\n",
      "0 143\n"
     ]
    },
    {
     "name": "stderr",
     "output_type": "stream",
     "text": [
      "\r",
      " 16%|█▌        | 198/1251 [03:40<20:59,  1.20s/it]"
     ]
    },
    {
     "name": "stdout",
     "output_type": "stream",
     "text": [
      "['/raid/jiang/projects/SubtleGAN/data/RSNA_ASNR_MICCAI_BraTS2021_TrainingData/BraTS2021_01587/BraTS2021_01587_t1.nii.gz']\n",
      "48 188\n",
      "39 219\n",
      "0 141\n"
     ]
    },
    {
     "name": "stderr",
     "output_type": "stream",
     "text": [
      "\r",
      " 16%|█▌        | 199/1251 [03:41<21:19,  1.22s/it]"
     ]
    },
    {
     "name": "stdout",
     "output_type": "stream",
     "text": [
      "['/raid/jiang/projects/SubtleGAN/data/RSNA_ASNR_MICCAI_BraTS2021_TrainingData/BraTS2021_00156/BraTS2021_00156_t1.nii.gz']\n",
      "52 186\n",
      "47 216\n",
      "0 141\n"
     ]
    },
    {
     "name": "stderr",
     "output_type": "stream",
     "text": [
      "\r",
      " 16%|█▌        | 200/1251 [03:42<20:45,  1.18s/it]"
     ]
    },
    {
     "name": "stdout",
     "output_type": "stream",
     "text": [
      "['/raid/jiang/projects/SubtleGAN/data/RSNA_ASNR_MICCAI_BraTS2021_TrainingData/BraTS2021_00446/BraTS2021_00446_t1.nii.gz']\n",
      "47 194\n",
      "51 214\n",
      "0 135\n"
     ]
    },
    {
     "name": "stderr",
     "output_type": "stream",
     "text": [
      "\r",
      " 16%|█▌        | 201/1251 [03:44<20:55,  1.20s/it]"
     ]
    },
    {
     "name": "stdout",
     "output_type": "stream",
     "text": [
      "['/raid/jiang/projects/SubtleGAN/data/RSNA_ASNR_MICCAI_BraTS2021_TrainingData/BraTS2021_00496/BraTS2021_00496_t1.nii.gz']\n",
      "55 188\n",
      "34 212\n",
      "0 143\n"
     ]
    },
    {
     "name": "stderr",
     "output_type": "stream",
     "text": [
      "\r",
      " 16%|█▌        | 202/1251 [03:45<20:25,  1.17s/it]"
     ]
    },
    {
     "name": "stdout",
     "output_type": "stream",
     "text": [
      "['/raid/jiang/projects/SubtleGAN/data/RSNA_ASNR_MICCAI_BraTS2021_TrainingData/BraTS2021_00576/BraTS2021_00576_t1.nii.gz']\n",
      "55 182\n",
      "49 215\n",
      "8 137\n"
     ]
    },
    {
     "name": "stderr",
     "output_type": "stream",
     "text": [
      "\r",
      " 16%|█▌        | 203/1251 [03:46<20:03,  1.15s/it]"
     ]
    },
    {
     "name": "stdout",
     "output_type": "stream",
     "text": [
      "['/raid/jiang/projects/SubtleGAN/data/RSNA_ASNR_MICCAI_BraTS2021_TrainingData/BraTS2021_00369/BraTS2021_00369_t1.nii.gz']\n",
      "51 187\n",
      "45 212\n",
      "0 137\n"
     ]
    },
    {
     "name": "stderr",
     "output_type": "stream",
     "text": [
      "\r",
      " 16%|█▋        | 204/1251 [03:47<20:03,  1.15s/it]"
     ]
    },
    {
     "name": "stdout",
     "output_type": "stream",
     "text": [
      "['/raid/jiang/projects/SubtleGAN/data/RSNA_ASNR_MICCAI_BraTS2021_TrainingData/BraTS2021_00048/BraTS2021_00048_t1.nii.gz']\n",
      "50 191\n",
      "25 216\n",
      "7 149\n"
     ]
    },
    {
     "name": "stderr",
     "output_type": "stream",
     "text": [
      "\r",
      " 16%|█▋        | 205/1251 [03:48<19:59,  1.15s/it]"
     ]
    },
    {
     "name": "stdout",
     "output_type": "stream",
     "text": [
      "['/raid/jiang/projects/SubtleGAN/data/RSNA_ASNR_MICCAI_BraTS2021_TrainingData/BraTS2021_01461/BraTS2021_01461_t1.nii.gz']\n",
      "51 185\n",
      "44 215\n",
      "1 137\n"
     ]
    },
    {
     "name": "stderr",
     "output_type": "stream",
     "text": [
      "\r",
      " 16%|█▋        | 206/1251 [03:49<19:43,  1.13s/it]"
     ]
    },
    {
     "name": "stdout",
     "output_type": "stream",
     "text": [
      "['/raid/jiang/projects/SubtleGAN/data/RSNA_ASNR_MICCAI_BraTS2021_TrainingData/BraTS2021_01201/BraTS2021_01201_t1.nii.gz']\n",
      "51 186\n",
      "45 207\n",
      "1 136\n"
     ]
    },
    {
     "name": "stderr",
     "output_type": "stream",
     "text": [
      "\r",
      " 17%|█▋        | 207/1251 [03:50<19:10,  1.10s/it]"
     ]
    },
    {
     "name": "stdout",
     "output_type": "stream",
     "text": [
      "['/raid/jiang/projects/SubtleGAN/data/RSNA_ASNR_MICCAI_BraTS2021_TrainingData/BraTS2021_01005/BraTS2021_01005_t1.nii.gz']\n",
      "45 192\n",
      "53 205\n",
      "2 133\n"
     ]
    },
    {
     "name": "stderr",
     "output_type": "stream",
     "text": [
      "\r",
      " 17%|█▋        | 208/1251 [03:51<19:23,  1.12s/it]"
     ]
    },
    {
     "name": "stdout",
     "output_type": "stream",
     "text": [
      "['/raid/jiang/projects/SubtleGAN/data/RSNA_ASNR_MICCAI_BraTS2021_TrainingData/BraTS2021_00646/BraTS2021_00646_t1.nii.gz']\n",
      "47 195\n",
      "39 210\n",
      "2 141\n"
     ]
    },
    {
     "name": "stderr",
     "output_type": "stream",
     "text": [
      "\r",
      " 17%|█▋        | 209/1251 [03:53<19:10,  1.10s/it]"
     ]
    },
    {
     "name": "stdout",
     "output_type": "stream",
     "text": [
      "['/raid/jiang/projects/SubtleGAN/data/RSNA_ASNR_MICCAI_BraTS2021_TrainingData/BraTS2021_01039/BraTS2021_01039_t1.nii.gz']\n",
      "53 184\n",
      "41 217\n",
      "0 136\n"
     ]
    },
    {
     "name": "stderr",
     "output_type": "stream",
     "text": [
      "\r",
      " 17%|█▋        | 210/1251 [03:54<18:45,  1.08s/it]"
     ]
    },
    {
     "name": "stdout",
     "output_type": "stream",
     "text": [
      "['/raid/jiang/projects/SubtleGAN/data/RSNA_ASNR_MICCAI_BraTS2021_TrainingData/BraTS2021_00453/BraTS2021_00453_t1.nii.gz']\n",
      "55 182\n",
      "43 212\n",
      "2 137\n"
     ]
    },
    {
     "name": "stderr",
     "output_type": "stream",
     "text": [
      "\r",
      " 17%|█▋        | 211/1251 [03:55<19:05,  1.10s/it]"
     ]
    },
    {
     "name": "stdout",
     "output_type": "stream",
     "text": [
      "['/raid/jiang/projects/SubtleGAN/data/RSNA_ASNR_MICCAI_BraTS2021_TrainingData/BraTS2021_00294/BraTS2021_00294_t1.nii.gz']\n",
      "51 187\n",
      "41 217\n",
      "0 141\n",
      "['/raid/jiang/projects/SubtleGAN/data/RSNA_ASNR_MICCAI_BraTS2021_TrainingData/BraTS2021_00253/BraTS2021_00253_t1.nii.gz']\n"
     ]
    },
    {
     "name": "stderr",
     "output_type": "stream",
     "text": [
      "\r",
      " 17%|█▋        | 212/1251 [03:56<19:12,  1.11s/it]"
     ]
    },
    {
     "name": "stdout",
     "output_type": "stream",
     "text": [
      "53 183\n",
      "40 215\n",
      "0 138\n"
     ]
    },
    {
     "name": "stderr",
     "output_type": "stream",
     "text": [
      "\r",
      " 17%|█▋        | 213/1251 [03:57<19:18,  1.12s/it]"
     ]
    },
    {
     "name": "stdout",
     "output_type": "stream",
     "text": [
      "['/raid/jiang/projects/SubtleGAN/data/RSNA_ASNR_MICCAI_BraTS2021_TrainingData/BraTS2021_01103/BraTS2021_01103_t1.nii.gz']\n",
      "44 192\n",
      "43 206\n",
      "0 139\n"
     ]
    },
    {
     "name": "stderr",
     "output_type": "stream",
     "text": [
      "\r",
      " 17%|█▋        | 214/1251 [03:58<19:05,  1.10s/it]"
     ]
    },
    {
     "name": "stdout",
     "output_type": "stream",
     "text": [
      "['/raid/jiang/projects/SubtleGAN/data/RSNA_ASNR_MICCAI_BraTS2021_TrainingData/BraTS2021_01503/BraTS2021_01503_t1.nii.gz']\n",
      "51 185\n",
      "43 213\n",
      "1 138\n"
     ]
    },
    {
     "name": "stderr",
     "output_type": "stream",
     "text": [
      "\r",
      " 17%|█▋        | 215/1251 [03:59<18:48,  1.09s/it]"
     ]
    },
    {
     "name": "stdout",
     "output_type": "stream",
     "text": [
      "['/raid/jiang/projects/SubtleGAN/data/RSNA_ASNR_MICCAI_BraTS2021_TrainingData/BraTS2021_01348/BraTS2021_01348_t1.nii.gz']\n",
      "50 187\n",
      "47 213\n",
      "0 140\n"
     ]
    },
    {
     "name": "stderr",
     "output_type": "stream",
     "text": [
      "\r",
      " 17%|█▋        | 216/1251 [04:00<19:03,  1.10s/it]"
     ]
    },
    {
     "name": "stdout",
     "output_type": "stream",
     "text": [
      "['/raid/jiang/projects/SubtleGAN/data/RSNA_ASNR_MICCAI_BraTS2021_TrainingData/BraTS2021_00019/BraTS2021_00019_t1.nii.gz']\n",
      "49 190\n",
      "34 210\n",
      "0 142\n"
     ]
    },
    {
     "name": "stderr",
     "output_type": "stream",
     "text": [
      "\r",
      " 17%|█▋        | 217/1251 [04:01<18:33,  1.08s/it]"
     ]
    },
    {
     "name": "stdout",
     "output_type": "stream",
     "text": [
      "['/raid/jiang/projects/SubtleGAN/data/RSNA_ASNR_MICCAI_BraTS2021_TrainingData/BraTS2021_01306/BraTS2021_01306_t1.nii.gz']\n",
      "54 185\n",
      "52 213\n",
      "7 137\n"
     ]
    },
    {
     "name": "stderr",
     "output_type": "stream",
     "text": [
      "\r",
      " 17%|█▋        | 218/1251 [04:02<18:07,  1.05s/it]"
     ]
    },
    {
     "name": "stdout",
     "output_type": "stream",
     "text": [
      "['/raid/jiang/projects/SubtleGAN/data/RSNA_ASNR_MICCAI_BraTS2021_TrainingData/BraTS2021_00623/BraTS2021_00623_t1.nii.gz']\n",
      "51 186\n",
      "28 206\n",
      "2 145\n"
     ]
    },
    {
     "name": "stderr",
     "output_type": "stream",
     "text": [
      "\r",
      " 18%|█▊        | 219/1251 [04:03<19:00,  1.11s/it]"
     ]
    },
    {
     "name": "stdout",
     "output_type": "stream",
     "text": [
      "['/raid/jiang/projects/SubtleGAN/data/RSNA_ASNR_MICCAI_BraTS2021_TrainingData/BraTS2021_01030/BraTS2021_01030_t1.nii.gz']\n",
      "50 185\n",
      "48 207\n",
      "5 137\n"
     ]
    },
    {
     "name": "stderr",
     "output_type": "stream",
     "text": [
      "\r",
      " 18%|█▊        | 220/1251 [04:05<18:40,  1.09s/it]"
     ]
    },
    {
     "name": "stdout",
     "output_type": "stream",
     "text": [
      "['/raid/jiang/projects/SubtleGAN/data/RSNA_ASNR_MICCAI_BraTS2021_TrainingData/BraTS2021_00254/BraTS2021_00254_t1.nii.gz']\n",
      "47 187\n",
      "48 215\n",
      "0 138\n"
     ]
    },
    {
     "name": "stderr",
     "output_type": "stream",
     "text": [
      "\r",
      " 18%|█▊        | 221/1251 [04:06<18:54,  1.10s/it]"
     ]
    },
    {
     "name": "stdout",
     "output_type": "stream",
     "text": [
      "['/raid/jiang/projects/SubtleGAN/data/RSNA_ASNR_MICCAI_BraTS2021_TrainingData/BraTS2021_01091/BraTS2021_01091_t1.nii.gz']\n",
      "53 182\n",
      "43 212\n",
      "0 138\n"
     ]
    },
    {
     "name": "stderr",
     "output_type": "stream",
     "text": [
      "\r",
      " 18%|█▊        | 222/1251 [04:07<18:42,  1.09s/it]"
     ]
    },
    {
     "name": "stdout",
     "output_type": "stream",
     "text": [
      "['/raid/jiang/projects/SubtleGAN/data/RSNA_ASNR_MICCAI_BraTS2021_TrainingData/BraTS2021_01427/BraTS2021_01427_t1.nii.gz']\n",
      "48 190\n",
      "57 211\n",
      "6 141\n"
     ]
    },
    {
     "name": "stderr",
     "output_type": "stream",
     "text": [
      "\r",
      " 18%|█▊        | 223/1251 [04:08<18:46,  1.10s/it]"
     ]
    },
    {
     "name": "stdout",
     "output_type": "stream",
     "text": [
      "['/raid/jiang/projects/SubtleGAN/data/RSNA_ASNR_MICCAI_BraTS2021_TrainingData/BraTS2021_00464/BraTS2021_00464_t1.nii.gz']\n",
      "50 192\n",
      "31 217\n",
      "0 140\n"
     ]
    },
    {
     "name": "stderr",
     "output_type": "stream",
     "text": [
      "\r",
      " 18%|█▊        | 224/1251 [04:09<19:43,  1.15s/it]"
     ]
    },
    {
     "name": "stdout",
     "output_type": "stream",
     "text": [
      "['/raid/jiang/projects/SubtleGAN/data/RSNA_ASNR_MICCAI_BraTS2021_TrainingData/BraTS2021_01313/BraTS2021_01313_t1.nii.gz']\n",
      "49 184\n",
      "40 218\n",
      "0 135\n"
     ]
    },
    {
     "name": "stderr",
     "output_type": "stream",
     "text": [
      "\r",
      " 18%|█▊        | 225/1251 [04:10<19:57,  1.17s/it]"
     ]
    },
    {
     "name": "stdout",
     "output_type": "stream",
     "text": [
      "['/raid/jiang/projects/SubtleGAN/data/RSNA_ASNR_MICCAI_BraTS2021_TrainingData/BraTS2021_00214/BraTS2021_00214_t1.nii.gz']\n",
      "46 190\n",
      "38 218\n",
      "0 139\n"
     ]
    },
    {
     "name": "stderr",
     "output_type": "stream",
     "text": [
      "\r",
      " 18%|█▊        | 226/1251 [04:12<20:10,  1.18s/it]"
     ]
    },
    {
     "name": "stdout",
     "output_type": "stream",
     "text": [
      "['/raid/jiang/projects/SubtleGAN/data/RSNA_ASNR_MICCAI_BraTS2021_TrainingData/BraTS2021_01178/BraTS2021_01178_t1.nii.gz']\n",
      "51 186\n",
      "44 207\n",
      "3 138\n"
     ]
    },
    {
     "name": "stderr",
     "output_type": "stream",
     "text": [
      "\r",
      " 18%|█▊        | 227/1251 [04:13<19:40,  1.15s/it]"
     ]
    },
    {
     "name": "stdout",
     "output_type": "stream",
     "text": [
      "['/raid/jiang/projects/SubtleGAN/data/RSNA_ASNR_MICCAI_BraTS2021_TrainingData/BraTS2021_00070/BraTS2021_00070_t1.nii.gz']\n",
      "46 192\n",
      "30 211\n",
      "5 145\n"
     ]
    },
    {
     "name": "stderr",
     "output_type": "stream",
     "text": [
      "\r",
      " 18%|█▊        | 228/1251 [04:14<19:38,  1.15s/it]"
     ]
    },
    {
     "name": "stdout",
     "output_type": "stream",
     "text": [
      "['/raid/jiang/projects/SubtleGAN/data/RSNA_ASNR_MICCAI_BraTS2021_TrainingData/BraTS2021_01517/BraTS2021_01517_t1.nii.gz']\n",
      "48 185\n",
      "47 207\n",
      "1 138\n"
     ]
    },
    {
     "name": "stderr",
     "output_type": "stream",
     "text": [
      "\r",
      " 18%|█▊        | 229/1251 [04:15<19:13,  1.13s/it]"
     ]
    },
    {
     "name": "stdout",
     "output_type": "stream",
     "text": [
      "['/raid/jiang/projects/SubtleGAN/data/RSNA_ASNR_MICCAI_BraTS2021_TrainingData/BraTS2021_01516/BraTS2021_01516_t1.nii.gz']\n",
      "48 191\n",
      "43 218\n",
      "0 132\n"
     ]
    },
    {
     "name": "stderr",
     "output_type": "stream",
     "text": [
      "\r",
      " 18%|█▊        | 230/1251 [04:16<18:55,  1.11s/it]"
     ]
    },
    {
     "name": "stdout",
     "output_type": "stream",
     "text": [
      "['/raid/jiang/projects/SubtleGAN/data/RSNA_ASNR_MICCAI_BraTS2021_TrainingData/BraTS2021_01198/BraTS2021_01198_t1.nii.gz']\n",
      "57 180\n",
      "44 212\n",
      "2 134\n"
     ]
    },
    {
     "name": "stderr",
     "output_type": "stream",
     "text": [
      "\r",
      " 18%|█▊        | 231/1251 [04:17<18:51,  1.11s/it]"
     ]
    },
    {
     "name": "stdout",
     "output_type": "stream",
     "text": [
      "['/raid/jiang/projects/SubtleGAN/data/RSNA_ASNR_MICCAI_BraTS2021_TrainingData/BraTS2021_01045/BraTS2021_01045_t1.nii.gz']\n",
      "54 186\n",
      "34 216\n",
      "2 143\n"
     ]
    },
    {
     "name": "stderr",
     "output_type": "stream",
     "text": [
      "\r",
      " 19%|█▊        | 232/1251 [04:18<19:01,  1.12s/it]"
     ]
    },
    {
     "name": "stdout",
     "output_type": "stream",
     "text": [
      "['/raid/jiang/projects/SubtleGAN/data/RSNA_ASNR_MICCAI_BraTS2021_TrainingData/BraTS2021_01499/BraTS2021_01499_t1.nii.gz']\n",
      "50 186\n",
      "41 214\n",
      "0 142\n"
     ]
    },
    {
     "name": "stderr",
     "output_type": "stream",
     "text": [
      "\r",
      " 19%|█▊        | 233/1251 [04:20<20:27,  1.21s/it]"
     ]
    },
    {
     "name": "stdout",
     "output_type": "stream",
     "text": [
      "['/raid/jiang/projects/SubtleGAN/data/RSNA_ASNR_MICCAI_BraTS2021_TrainingData/BraTS2021_01322/BraTS2021_01322_t1.nii.gz']\n",
      "53 184\n",
      "41 217\n",
      "0 138\n"
     ]
    },
    {
     "name": "stderr",
     "output_type": "stream",
     "text": [
      "\r",
      " 19%|█▊        | 234/1251 [04:21<19:55,  1.18s/it]"
     ]
    },
    {
     "name": "stdout",
     "output_type": "stream",
     "text": [
      "['/raid/jiang/projects/SubtleGAN/data/RSNA_ASNR_MICCAI_BraTS2021_TrainingData/BraTS2021_01028/BraTS2021_01028_t1.nii.gz']\n",
      "52 189\n",
      "50 211\n",
      "5 144\n"
     ]
    },
    {
     "name": "stderr",
     "output_type": "stream",
     "text": [
      "\r",
      " 19%|█▉        | 235/1251 [04:22<18:55,  1.12s/it]"
     ]
    },
    {
     "name": "stdout",
     "output_type": "stream",
     "text": [
      "['/raid/jiang/projects/SubtleGAN/data/RSNA_ASNR_MICCAI_BraTS2021_TrainingData/BraTS2021_00561/BraTS2021_00561_t1.nii.gz']\n",
      "55 180\n",
      "51 205\n",
      "3 136\n"
     ]
    },
    {
     "name": "stderr",
     "output_type": "stream",
     "text": [
      "\r",
      " 19%|█▉        | 236/1251 [04:23<19:00,  1.12s/it]"
     ]
    },
    {
     "name": "stdout",
     "output_type": "stream",
     "text": [
      "['/raid/jiang/projects/SubtleGAN/data/RSNA_ASNR_MICCAI_BraTS2021_TrainingData/BraTS2021_01127/BraTS2021_01127_t1.nii.gz']\n",
      "52 187\n",
      "47 216\n",
      "0 141\n"
     ]
    },
    {
     "name": "stderr",
     "output_type": "stream",
     "text": [
      "\r",
      " 19%|█▉        | 237/1251 [04:24<18:59,  1.12s/it]"
     ]
    },
    {
     "name": "stdout",
     "output_type": "stream",
     "text": [
      "['/raid/jiang/projects/SubtleGAN/data/RSNA_ASNR_MICCAI_BraTS2021_TrainingData/BraTS2021_00834/BraTS2021_00834_t1.nii.gz']\n",
      "54 183\n",
      "45 214\n",
      "0 141\n"
     ]
    },
    {
     "name": "stderr",
     "output_type": "stream",
     "text": [
      "\r",
      " 19%|█▉        | 238/1251 [04:25<18:45,  1.11s/it]"
     ]
    },
    {
     "name": "stdout",
     "output_type": "stream",
     "text": [
      "['/raid/jiang/projects/SubtleGAN/data/RSNA_ASNR_MICCAI_BraTS2021_TrainingData/BraTS2021_00694/BraTS2021_00694_t1.nii.gz']\n",
      "55 185\n",
      "40 212\n",
      "7 145\n"
     ]
    },
    {
     "name": "stderr",
     "output_type": "stream",
     "text": [
      "\r",
      " 19%|█▉        | 239/1251 [04:26<19:17,  1.14s/it]"
     ]
    },
    {
     "name": "stdout",
     "output_type": "stream",
     "text": [
      "['/raid/jiang/projects/SubtleGAN/data/RSNA_ASNR_MICCAI_BraTS2021_TrainingData/BraTS2021_00549/BraTS2021_00549_t1.nii.gz']\n",
      "51 186\n",
      "36 214\n",
      "10 149\n"
     ]
    },
    {
     "name": "stderr",
     "output_type": "stream",
     "text": [
      "\r",
      " 19%|█▉        | 240/1251 [04:27<19:18,  1.15s/it]"
     ]
    },
    {
     "name": "stdout",
     "output_type": "stream",
     "text": [
      "['/raid/jiang/projects/SubtleGAN/data/RSNA_ASNR_MICCAI_BraTS2021_TrainingData/BraTS2021_01358/BraTS2021_01358_t1.nii.gz']\n",
      "51 186\n",
      "39 212\n",
      "0 140\n"
     ]
    },
    {
     "name": "stderr",
     "output_type": "stream",
     "text": [
      "\r",
      " 19%|█▉        | 241/1251 [04:28<18:56,  1.13s/it]"
     ]
    },
    {
     "name": "stdout",
     "output_type": "stream",
     "text": [
      "['/raid/jiang/projects/SubtleGAN/data/RSNA_ASNR_MICCAI_BraTS2021_TrainingData/BraTS2021_01187/BraTS2021_01187_t1.nii.gz']\n",
      "59 177\n",
      "42 206\n",
      "13 139\n"
     ]
    },
    {
     "name": "stderr",
     "output_type": "stream",
     "text": [
      "\r",
      " 19%|█▉        | 242/1251 [04:29<18:37,  1.11s/it]"
     ]
    },
    {
     "name": "stdout",
     "output_type": "stream",
     "text": [
      "['/raid/jiang/projects/SubtleGAN/data/RSNA_ASNR_MICCAI_BraTS2021_TrainingData/BraTS2021_00784/BraTS2021_00784_t1.nii.gz']\n",
      "55 182\n",
      "52 209\n",
      "0 140\n"
     ]
    },
    {
     "name": "stderr",
     "output_type": "stream",
     "text": [
      "\r",
      " 19%|█▉        | 243/1251 [04:31<18:40,  1.11s/it]"
     ]
    },
    {
     "name": "stdout",
     "output_type": "stream",
     "text": [
      "['/raid/jiang/projects/SubtleGAN/data/RSNA_ASNR_MICCAI_BraTS2021_TrainingData/BraTS2021_00267/BraTS2021_00267_t1.nii.gz']\n",
      "45 190\n",
      "43 213\n",
      "0 141\n"
     ]
    },
    {
     "name": "stderr",
     "output_type": "stream",
     "text": [
      "\r",
      " 20%|█▉        | 244/1251 [04:32<19:52,  1.18s/it]"
     ]
    },
    {
     "name": "stdout",
     "output_type": "stream",
     "text": [
      "['/raid/jiang/projects/SubtleGAN/data/RSNA_ASNR_MICCAI_BraTS2021_TrainingData/BraTS2021_01638/BraTS2021_01638_t1.nii.gz']\n",
      "50 184\n",
      "45 211\n",
      "0 138\n"
     ]
    },
    {
     "name": "stderr",
     "output_type": "stream",
     "text": [
      "\r",
      " 20%|█▉        | 245/1251 [04:33<19:55,  1.19s/it]"
     ]
    },
    {
     "name": "stdout",
     "output_type": "stream",
     "text": [
      "['/raid/jiang/projects/SubtleGAN/data/RSNA_ASNR_MICCAI_BraTS2021_TrainingData/BraTS2021_01252/BraTS2021_01252_t1.nii.gz']\n",
      "50 187\n",
      "44 217\n",
      "0 140\n"
     ]
    },
    {
     "name": "stderr",
     "output_type": "stream",
     "text": [
      "\r",
      " 20%|█▉        | 246/1251 [04:34<20:06,  1.20s/it]"
     ]
    },
    {
     "name": "stdout",
     "output_type": "stream",
     "text": [
      "['/raid/jiang/projects/SubtleGAN/data/RSNA_ASNR_MICCAI_BraTS2021_TrainingData/BraTS2021_00543/BraTS2021_00543_t1.nii.gz']\n",
      "54 186\n",
      "32 212\n",
      "2 143\n"
     ]
    },
    {
     "name": "stderr",
     "output_type": "stream",
     "text": [
      "\r",
      " 20%|█▉        | 247/1251 [04:36<19:44,  1.18s/it]"
     ]
    },
    {
     "name": "stdout",
     "output_type": "stream",
     "text": [
      "['/raid/jiang/projects/SubtleGAN/data/RSNA_ASNR_MICCAI_BraTS2021_TrainingData/BraTS2021_01004/BraTS2021_01004_t1.nii.gz']\n",
      "52 184\n",
      "46 214\n",
      "3 136\n"
     ]
    },
    {
     "name": "stderr",
     "output_type": "stream",
     "text": [
      "\r",
      " 20%|█▉        | 248/1251 [04:37<19:15,  1.15s/it]"
     ]
    },
    {
     "name": "stdout",
     "output_type": "stream",
     "text": [
      "['/raid/jiang/projects/SubtleGAN/data/RSNA_ASNR_MICCAI_BraTS2021_TrainingData/BraTS2021_01071/BraTS2021_01071_t1.nii.gz']\n",
      "49 189\n",
      "45 212\n",
      "0 140\n"
     ]
    },
    {
     "name": "stderr",
     "output_type": "stream",
     "text": [
      "\r",
      " 20%|█▉        | 249/1251 [04:38<18:45,  1.12s/it]"
     ]
    },
    {
     "name": "stdout",
     "output_type": "stream",
     "text": [
      "['/raid/jiang/projects/SubtleGAN/data/RSNA_ASNR_MICCAI_BraTS2021_TrainingData/BraTS2021_01227/BraTS2021_01227_t1.nii.gz']\n",
      "54 184\n",
      "49 208\n",
      "0 138\n"
     ]
    },
    {
     "name": "stderr",
     "output_type": "stream",
     "text": [
      "\r",
      " 20%|█▉        | 250/1251 [04:39<18:30,  1.11s/it]"
     ]
    },
    {
     "name": "stdout",
     "output_type": "stream",
     "text": [
      "['/raid/jiang/projects/SubtleGAN/data/RSNA_ASNR_MICCAI_BraTS2021_TrainingData/BraTS2021_00636/BraTS2021_00636_t1.nii.gz']\n",
      "53 189\n",
      "36 209\n",
      "0 141\n"
     ]
    },
    {
     "name": "stderr",
     "output_type": "stream",
     "text": [
      "\r",
      " 20%|██        | 251/1251 [04:40<18:51,  1.13s/it]"
     ]
    },
    {
     "name": "stdout",
     "output_type": "stream",
     "text": [
      "['/raid/jiang/projects/SubtleGAN/data/RSNA_ASNR_MICCAI_BraTS2021_TrainingData/BraTS2021_01044/BraTS2021_01044_t1.nii.gz']\n",
      "51 186\n",
      "46 213\n",
      "0 138\n"
     ]
    },
    {
     "name": "stderr",
     "output_type": "stream",
     "text": [
      "\r",
      " 20%|██        | 252/1251 [04:41<19:03,  1.14s/it]"
     ]
    },
    {
     "name": "stdout",
     "output_type": "stream",
     "text": [
      "['/raid/jiang/projects/SubtleGAN/data/RSNA_ASNR_MICCAI_BraTS2021_TrainingData/BraTS2021_00187/BraTS2021_00187_t1.nii.gz']\n",
      "49 186\n",
      "46 212\n",
      "0 142\n"
     ]
    },
    {
     "name": "stderr",
     "output_type": "stream",
     "text": [
      "\r",
      " 20%|██        | 253/1251 [04:42<19:07,  1.15s/it]"
     ]
    },
    {
     "name": "stdout",
     "output_type": "stream",
     "text": [
      "['/raid/jiang/projects/SubtleGAN/data/RSNA_ASNR_MICCAI_BraTS2021_TrainingData/BraTS2021_01303/BraTS2021_01303_t1.nii.gz']\n",
      "49 186\n",
      "53 205\n",
      "1 139\n"
     ]
    },
    {
     "name": "stderr",
     "output_type": "stream",
     "text": [
      "\r",
      " 20%|██        | 254/1251 [04:43<18:48,  1.13s/it]"
     ]
    },
    {
     "name": "stdout",
     "output_type": "stream",
     "text": [
      "['/raid/jiang/projects/SubtleGAN/data/RSNA_ASNR_MICCAI_BraTS2021_TrainingData/BraTS2021_00736/BraTS2021_00736_t1.nii.gz']\n",
      "49 182\n",
      "42 210\n",
      "0 139\n"
     ]
    },
    {
     "name": "stderr",
     "output_type": "stream",
     "text": [
      "\r",
      " 20%|██        | 255/1251 [04:45<19:01,  1.15s/it]"
     ]
    },
    {
     "name": "stdout",
     "output_type": "stream",
     "text": [
      "['/raid/jiang/projects/SubtleGAN/data/RSNA_ASNR_MICCAI_BraTS2021_TrainingData/BraTS2021_01117/BraTS2021_01117_t1.nii.gz']\n",
      "47 188\n",
      "37 221\n",
      "0 137\n"
     ]
    },
    {
     "name": "stderr",
     "output_type": "stream",
     "text": [
      "\r",
      " 20%|██        | 256/1251 [04:46<20:17,  1.22s/it]"
     ]
    },
    {
     "name": "stdout",
     "output_type": "stream",
     "text": [
      "['/raid/jiang/projects/SubtleGAN/data/RSNA_ASNR_MICCAI_BraTS2021_TrainingData/BraTS2021_00303/BraTS2021_00303_t1.nii.gz']\n",
      "48 189\n",
      "44 219\n",
      "0 139\n"
     ]
    },
    {
     "name": "stderr",
     "output_type": "stream",
     "text": [
      "\r",
      " 21%|██        | 257/1251 [04:47<20:09,  1.22s/it]"
     ]
    },
    {
     "name": "stdout",
     "output_type": "stream",
     "text": [
      "['/raid/jiang/projects/SubtleGAN/data/RSNA_ASNR_MICCAI_BraTS2021_TrainingData/BraTS2021_01286/BraTS2021_01286_t1.nii.gz']\n",
      "54 182\n",
      "43 214\n",
      "0 137\n"
     ]
    },
    {
     "name": "stderr",
     "output_type": "stream",
     "text": [
      "\r",
      " 21%|██        | 258/1251 [04:49<21:49,  1.32s/it]"
     ]
    },
    {
     "name": "stdout",
     "output_type": "stream",
     "text": [
      "['/raid/jiang/projects/SubtleGAN/data/RSNA_ASNR_MICCAI_BraTS2021_TrainingData/BraTS2021_01565/BraTS2021_01565_t1.nii.gz']\n",
      "50 190\n",
      "21 223\n",
      "0 145\n"
     ]
    },
    {
     "name": "stderr",
     "output_type": "stream",
     "text": [
      "\r",
      " 21%|██        | 259/1251 [04:50<22:24,  1.35s/it]"
     ]
    },
    {
     "name": "stdout",
     "output_type": "stream",
     "text": [
      "['/raid/jiang/projects/SubtleGAN/data/RSNA_ASNR_MICCAI_BraTS2021_TrainingData/BraTS2021_00505/BraTS2021_00505_t1.nii.gz']\n",
      "50 189\n",
      "38 209\n",
      "10 147\n"
     ]
    },
    {
     "name": "stderr",
     "output_type": "stream",
     "text": [
      "\r",
      " 21%|██        | 260/1251 [04:51<21:27,  1.30s/it]"
     ]
    },
    {
     "name": "stdout",
     "output_type": "stream",
     "text": [
      "['/raid/jiang/projects/SubtleGAN/data/RSNA_ASNR_MICCAI_BraTS2021_TrainingData/BraTS2021_00801/BraTS2021_00801_t1.nii.gz']\n",
      "51 189\n",
      "54 211\n",
      "0 137\n"
     ]
    },
    {
     "name": "stderr",
     "output_type": "stream",
     "text": [
      "\r",
      " 21%|██        | 261/1251 [04:52<20:36,  1.25s/it]"
     ]
    },
    {
     "name": "stdout",
     "output_type": "stream",
     "text": [
      "['/raid/jiang/projects/SubtleGAN/data/RSNA_ASNR_MICCAI_BraTS2021_TrainingData/BraTS2021_01185/BraTS2021_01185_t1.nii.gz']\n",
      "55 182\n",
      "40 210\n",
      "9 135\n",
      "['/raid/jiang/projects/SubtleGAN/data/RSNA_ASNR_MICCAI_BraTS2021_TrainingData/BraTS2021_00283/BraTS2021_00283_t1.nii.gz']\n",
      "49 191\n",
      "46 211\n",
      "0"
     ]
    },
    {
     "name": "stderr",
     "output_type": "stream",
     "text": [
      "\r",
      " 21%|██        | 262/1251 [04:54<20:39,  1.25s/it]"
     ]
    },
    {
     "name": "stdout",
     "output_type": "stream",
     "text": [
      " 142\n"
     ]
    },
    {
     "name": "stderr",
     "output_type": "stream",
     "text": [
      "\r",
      " 21%|██        | 263/1251 [04:55<20:25,  1.24s/it]"
     ]
    },
    {
     "name": "stdout",
     "output_type": "stream",
     "text": [
      "['/raid/jiang/projects/SubtleGAN/data/RSNA_ASNR_MICCAI_BraTS2021_TrainingData/BraTS2021_01654/BraTS2021_01654_t1.nii.gz']\n",
      "43 194\n",
      "40 216\n",
      "0 138\n"
     ]
    },
    {
     "name": "stderr",
     "output_type": "stream",
     "text": [
      "\r",
      " 21%|██        | 264/1251 [04:56<20:25,  1.24s/it]"
     ]
    },
    {
     "name": "stdout",
     "output_type": "stream",
     "text": [
      "['/raid/jiang/projects/SubtleGAN/data/RSNA_ASNR_MICCAI_BraTS2021_TrainingData/BraTS2021_00336/BraTS2021_00336_t1.nii.gz']\n",
      "52 187\n",
      "41 213\n",
      "0 142\n"
     ]
    },
    {
     "name": "stderr",
     "output_type": "stream",
     "text": [
      "\r",
      " 21%|██        | 265/1251 [04:57<19:44,  1.20s/it]"
     ]
    },
    {
     "name": "stdout",
     "output_type": "stream",
     "text": [
      "['/raid/jiang/projects/SubtleGAN/data/RSNA_ASNR_MICCAI_BraTS2021_TrainingData/BraTS2021_01444/BraTS2021_01444_t1.nii.gz']\n",
      "50 188\n",
      "49 209\n",
      "0 137\n"
     ]
    },
    {
     "name": "stderr",
     "output_type": "stream",
     "text": [
      "\r",
      " 21%|██▏       | 266/1251 [04:59<20:11,  1.23s/it]"
     ]
    },
    {
     "name": "stdout",
     "output_type": "stream",
     "text": [
      "['/raid/jiang/projects/SubtleGAN/data/RSNA_ASNR_MICCAI_BraTS2021_TrainingData/BraTS2021_00238/BraTS2021_00238_t1.nii.gz']\n",
      "51 184\n",
      "46 213\n",
      "0 139\n"
     ]
    },
    {
     "name": "stderr",
     "output_type": "stream",
     "text": [
      "\r",
      " 21%|██▏       | 267/1251 [05:00<19:53,  1.21s/it]"
     ]
    },
    {
     "name": "stdout",
     "output_type": "stream",
     "text": [
      "['/raid/jiang/projects/SubtleGAN/data/RSNA_ASNR_MICCAI_BraTS2021_TrainingData/BraTS2021_01582/BraTS2021_01582_t1.nii.gz']\n",
      "53 185\n",
      "43 218\n",
      "0 136\n"
     ]
    },
    {
     "name": "stderr",
     "output_type": "stream",
     "text": [
      "\r",
      " 21%|██▏       | 268/1251 [05:01<19:13,  1.17s/it]"
     ]
    },
    {
     "name": "stdout",
     "output_type": "stream",
     "text": [
      "['/raid/jiang/projects/SubtleGAN/data/RSNA_ASNR_MICCAI_BraTS2021_TrainingData/BraTS2021_00405/BraTS2021_00405_t1.nii.gz']\n",
      "61 179\n",
      "48 211\n",
      "0 140\n"
     ]
    },
    {
     "name": "stderr",
     "output_type": "stream",
     "text": [
      "\r",
      " 22%|██▏       | 269/1251 [05:02<19:08,  1.17s/it]"
     ]
    },
    {
     "name": "stdout",
     "output_type": "stream",
     "text": [
      "['/raid/jiang/projects/SubtleGAN/data/RSNA_ASNR_MICCAI_BraTS2021_TrainingData/BraTS2021_01533/BraTS2021_01533_t1.nii.gz']\n",
      "48 191\n",
      "39 214\n",
      "2 139\n"
     ]
    },
    {
     "name": "stderr",
     "output_type": "stream",
     "text": [
      "\r",
      " 22%|██▏       | 270/1251 [05:03<18:59,  1.16s/it]"
     ]
    },
    {
     "name": "stdout",
     "output_type": "stream",
     "text": [
      "['/raid/jiang/projects/SubtleGAN/data/RSNA_ASNR_MICCAI_BraTS2021_TrainingData/BraTS2021_01327/BraTS2021_01327_t1.nii.gz']\n",
      "49 190\n",
      "44 213\n",
      "0 142\n"
     ]
    },
    {
     "name": "stderr",
     "output_type": "stream",
     "text": [
      "\r",
      " 22%|██▏       | 271/1251 [05:04<19:24,  1.19s/it]"
     ]
    },
    {
     "name": "stdout",
     "output_type": "stream",
     "text": [
      "['/raid/jiang/projects/SubtleGAN/data/RSNA_ASNR_MICCAI_BraTS2021_TrainingData/BraTS2021_00102/BraTS2021_00102_t1.nii.gz']\n",
      "51 188\n",
      "42 213\n",
      "0 139\n"
     ]
    },
    {
     "name": "stderr",
     "output_type": "stream",
     "text": [
      "\r",
      " 22%|██▏       | 272/1251 [05:05<18:35,  1.14s/it]"
     ]
    },
    {
     "name": "stdout",
     "output_type": "stream",
     "text": [
      "['/raid/jiang/projects/SubtleGAN/data/RSNA_ASNR_MICCAI_BraTS2021_TrainingData/BraTS2021_01234/BraTS2021_01234_t1.nii.gz']\n",
      "54 182\n",
      "46 217\n",
      "0 142\n"
     ]
    },
    {
     "name": "stderr",
     "output_type": "stream",
     "text": [
      "\r",
      " 22%|██▏       | 273/1251 [05:06<18:01,  1.11s/it]"
     ]
    },
    {
     "name": "stdout",
     "output_type": "stream",
     "text": [
      "['/raid/jiang/projects/SubtleGAN/data/RSNA_ASNR_MICCAI_BraTS2021_TrainingData/BraTS2021_01443/BraTS2021_01443_t1.nii.gz']\n",
      "47 190\n",
      "43 212\n",
      "0 137\n"
     ]
    },
    {
     "name": "stderr",
     "output_type": "stream",
     "text": [
      "\r",
      " 22%|██▏       | 274/1251 [05:08<18:34,  1.14s/it]"
     ]
    },
    {
     "name": "stdout",
     "output_type": "stream",
     "text": [
      "['/raid/jiang/projects/SubtleGAN/data/RSNA_ASNR_MICCAI_BraTS2021_TrainingData/BraTS2021_01651/BraTS2021_01651_t1.nii.gz']\n",
      "49 187\n",
      "44 213\n",
      "0 143\n"
     ]
    },
    {
     "name": "stderr",
     "output_type": "stream",
     "text": [
      "\r",
      " 22%|██▏       | 275/1251 [05:09<18:13,  1.12s/it]"
     ]
    },
    {
     "name": "stdout",
     "output_type": "stream",
     "text": [
      "['/raid/jiang/projects/SubtleGAN/data/RSNA_ASNR_MICCAI_BraTS2021_TrainingData/BraTS2021_01401/BraTS2021_01401_t1.nii.gz']\n",
      "50 185\n",
      "37 213\n",
      "0 141\n"
     ]
    },
    {
     "name": "stderr",
     "output_type": "stream",
     "text": [
      "\r",
      " 22%|██▏       | 276/1251 [05:10<18:26,  1.13s/it]"
     ]
    },
    {
     "name": "stdout",
     "output_type": "stream",
     "text": [
      "['/raid/jiang/projects/SubtleGAN/data/RSNA_ASNR_MICCAI_BraTS2021_TrainingData/BraTS2021_01312/BraTS2021_01312_t1.nii.gz']\n",
      "47 189\n",
      "47 214\n",
      "0 152\n"
     ]
    },
    {
     "name": "stderr",
     "output_type": "stream",
     "text": [
      "\r",
      " 22%|██▏       | 277/1251 [05:11<18:19,  1.13s/it]"
     ]
    },
    {
     "name": "stdout",
     "output_type": "stream",
     "text": [
      "['/raid/jiang/projects/SubtleGAN/data/RSNA_ASNR_MICCAI_BraTS2021_TrainingData/BraTS2021_00097/BraTS2021_00097_t1.nii.gz']\n",
      "55 187\n",
      "39 213\n",
      "10 142\n"
     ]
    },
    {
     "name": "stderr",
     "output_type": "stream",
     "text": [
      "\r",
      " 22%|██▏       | 278/1251 [05:12<18:52,  1.16s/it]"
     ]
    },
    {
     "name": "stdout",
     "output_type": "stream",
     "text": [
      "['/raid/jiang/projects/SubtleGAN/data/RSNA_ASNR_MICCAI_BraTS2021_TrainingData/BraTS2021_01352/BraTS2021_01352_t1.nii.gz']\n",
      "51 186\n",
      "46 216\n",
      "0 139\n"
     ]
    },
    {
     "name": "stderr",
     "output_type": "stream",
     "text": [
      "\r",
      " 22%|██▏       | 279/1251 [05:14<20:10,  1.25s/it]"
     ]
    },
    {
     "name": "stdout",
     "output_type": "stream",
     "text": [
      "['/raid/jiang/projects/SubtleGAN/data/RSNA_ASNR_MICCAI_BraTS2021_TrainingData/BraTS2021_01602/BraTS2021_01602_t1.nii.gz']\n",
      "46 189\n",
      "41 215\n",
      "0 148\n",
      "['/raid/jiang/projects/SubtleGAN/data/RSNA_ASNR_MICCAI_BraTS2021_TrainingData/BraTS2021_00715/BraTS2021_00715_t1.nii.gz']\n"
     ]
    },
    {
     "name": "stderr",
     "output_type": "stream",
     "text": [
      "\r",
      " 22%|██▏       | 280/1251 [05:15<19:37,  1.21s/it]"
     ]
    },
    {
     "name": "stdout",
     "output_type": "stream",
     "text": [
      "47 184\n",
      "40 213\n",
      "3 143\n"
     ]
    },
    {
     "name": "stderr",
     "output_type": "stream",
     "text": [
      "\r",
      " 22%|██▏       | 281/1251 [05:16<19:19,  1.20s/it]"
     ]
    },
    {
     "name": "stdout",
     "output_type": "stream",
     "text": [
      "['/raid/jiang/projects/SubtleGAN/data/RSNA_ASNR_MICCAI_BraTS2021_TrainingData/BraTS2021_00430/BraTS2021_00430_t1.nii.gz']\n",
      "53 184\n",
      "40 213\n",
      "0 139\n"
     ]
    },
    {
     "name": "stderr",
     "output_type": "stream",
     "text": [
      "\r",
      " 23%|██▎       | 282/1251 [05:17<18:45,  1.16s/it]"
     ]
    },
    {
     "name": "stdout",
     "output_type": "stream",
     "text": [
      "['/raid/jiang/projects/SubtleGAN/data/RSNA_ASNR_MICCAI_BraTS2021_TrainingData/BraTS2021_01650/BraTS2021_01650_t1.nii.gz']\n",
      "52 184\n",
      "50 209\n",
      "0 142\n"
     ]
    },
    {
     "name": "stderr",
     "output_type": "stream",
     "text": [
      "\r",
      " 23%|██▎       | 283/1251 [05:18<18:43,  1.16s/it]"
     ]
    },
    {
     "name": "stdout",
     "output_type": "stream",
     "text": [
      "['/raid/jiang/projects/SubtleGAN/data/RSNA_ASNR_MICCAI_BraTS2021_TrainingData/BraTS2021_01129/BraTS2021_01129_t1.nii.gz']\n",
      "51 189\n",
      "38 220\n",
      "0 138\n"
     ]
    },
    {
     "name": "stderr",
     "output_type": "stream",
     "text": [
      "\r",
      " 23%|██▎       | 284/1251 [05:19<18:31,  1.15s/it]"
     ]
    },
    {
     "name": "stdout",
     "output_type": "stream",
     "text": [
      "['/raid/jiang/projects/SubtleGAN/data/RSNA_ASNR_MICCAI_BraTS2021_TrainingData/BraTS2021_01260/BraTS2021_01260_t1.nii.gz']\n",
      "49 188\n",
      "42 213\n",
      "0 144\n"
     ]
    },
    {
     "name": "stderr",
     "output_type": "stream",
     "text": [
      "\r",
      " 23%|██▎       | 285/1251 [05:20<18:18,  1.14s/it]"
     ]
    },
    {
     "name": "stdout",
     "output_type": "stream",
     "text": [
      "['/raid/jiang/projects/SubtleGAN/data/RSNA_ASNR_MICCAI_BraTS2021_TrainingData/BraTS2021_01159/BraTS2021_01159_t1.nii.gz']\n",
      "59 186\n",
      "36 207\n",
      "8 145\n"
     ]
    },
    {
     "name": "stderr",
     "output_type": "stream",
     "text": [
      "\r",
      " 23%|██▎       | 286/1251 [05:22<18:13,  1.13s/it]"
     ]
    },
    {
     "name": "stdout",
     "output_type": "stream",
     "text": [
      "['/raid/jiang/projects/SubtleGAN/data/RSNA_ASNR_MICCAI_BraTS2021_TrainingData/BraTS2021_00723/BraTS2021_00723_t1.nii.gz']\n",
      "53 189\n",
      "39 203\n",
      "10 145\n"
     ]
    },
    {
     "name": "stderr",
     "output_type": "stream",
     "text": [
      "\r",
      " 23%|██▎       | 287/1251 [05:23<18:02,  1.12s/it]"
     ]
    },
    {
     "name": "stdout",
     "output_type": "stream",
     "text": [
      "['/raid/jiang/projects/SubtleGAN/data/RSNA_ASNR_MICCAI_BraTS2021_TrainingData/BraTS2021_01484/BraTS2021_01484_t1.nii.gz']\n",
      "50 187\n",
      "39 219\n",
      "0 141\n"
     ]
    },
    {
     "name": "stderr",
     "output_type": "stream",
     "text": [
      "\r",
      " 23%|██▎       | 288/1251 [05:24<17:03,  1.06s/it]"
     ]
    },
    {
     "name": "stdout",
     "output_type": "stream",
     "text": [
      "['/raid/jiang/projects/SubtleGAN/data/RSNA_ASNR_MICCAI_BraTS2021_TrainingData/BraTS2021_01184/BraTS2021_01184_t1.nii.gz']\n",
      "55 177\n",
      "49 201\n",
      "7 132\n"
     ]
    },
    {
     "name": "stderr",
     "output_type": "stream",
     "text": [
      "\r",
      " 23%|██▎       | 289/1251 [05:25<16:41,  1.04s/it]"
     ]
    },
    {
     "name": "stdout",
     "output_type": "stream",
     "text": [
      "['/raid/jiang/projects/SubtleGAN/data/RSNA_ASNR_MICCAI_BraTS2021_TrainingData/BraTS2021_01521/BraTS2021_01521_t1.nii.gz']\n",
      "52 185\n",
      "45 214\n",
      "0 133\n"
     ]
    },
    {
     "name": "stderr",
     "output_type": "stream",
     "text": [
      "\r",
      " 23%|██▎       | 290/1251 [05:26<16:34,  1.04s/it]"
     ]
    },
    {
     "name": "stdout",
     "output_type": "stream",
     "text": [
      "['/raid/jiang/projects/SubtleGAN/data/RSNA_ASNR_MICCAI_BraTS2021_TrainingData/BraTS2021_00620/BraTS2021_00620_t1.nii.gz']\n",
      "54 189\n",
      "39 209\n",
      "0 145\n"
     ]
    },
    {
     "name": "stderr",
     "output_type": "stream",
     "text": [
      "\r",
      " 23%|██▎       | 291/1251 [05:27<18:29,  1.16s/it]"
     ]
    },
    {
     "name": "stdout",
     "output_type": "stream",
     "text": [
      "['/raid/jiang/projects/SubtleGAN/data/RSNA_ASNR_MICCAI_BraTS2021_TrainingData/BraTS2021_00750/BraTS2021_00750_t1.nii.gz']\n",
      "53 188\n",
      "39 213\n",
      "0 141\n"
     ]
    },
    {
     "name": "stderr",
     "output_type": "stream",
     "text": [
      "\r",
      " 23%|██▎       | 292/1251 [05:28<18:33,  1.16s/it]"
     ]
    },
    {
     "name": "stdout",
     "output_type": "stream",
     "text": [
      "['/raid/jiang/projects/SubtleGAN/data/RSNA_ASNR_MICCAI_BraTS2021_TrainingData/BraTS2021_01479/BraTS2021_01479_t1.nii.gz']\n",
      "51 186\n",
      "53 213\n",
      "0 138\n"
     ]
    },
    {
     "name": "stderr",
     "output_type": "stream",
     "text": [
      "\r",
      " 23%|██▎       | 293/1251 [05:29<17:54,  1.12s/it]"
     ]
    },
    {
     "name": "stdout",
     "output_type": "stream",
     "text": [
      "['/raid/jiang/projects/SubtleGAN/data/RSNA_ASNR_MICCAI_BraTS2021_TrainingData/BraTS2021_01122/BraTS2021_01122_t1.nii.gz']\n",
      "48 189\n",
      "56 209\n",
      "0 145\n"
     ]
    },
    {
     "name": "stderr",
     "output_type": "stream",
     "text": [
      "\r",
      " 24%|██▎       | 294/1251 [05:30<17:33,  1.10s/it]"
     ]
    },
    {
     "name": "stdout",
     "output_type": "stream",
     "text": [
      "['/raid/jiang/projects/SubtleGAN/data/RSNA_ASNR_MICCAI_BraTS2021_TrainingData/BraTS2021_00691/BraTS2021_00691_t1.nii.gz']\n",
      "55 186\n",
      "46 209\n",
      "6 139\n"
     ]
    },
    {
     "name": "stderr",
     "output_type": "stream",
     "text": [
      "\r",
      " 24%|██▎       | 295/1251 [05:31<17:12,  1.08s/it]"
     ]
    },
    {
     "name": "stdout",
     "output_type": "stream",
     "text": [
      "['/raid/jiang/projects/SubtleGAN/data/RSNA_ASNR_MICCAI_BraTS2021_TrainingData/BraTS2021_00838/BraTS2021_00838_t1.nii.gz']\n",
      "50 184\n",
      "46 213\n",
      "0 136\n"
     ]
    },
    {
     "name": "stderr",
     "output_type": "stream",
     "text": [
      "\r",
      " 24%|██▎       | 296/1251 [05:32<17:35,  1.11s/it]"
     ]
    },
    {
     "name": "stdout",
     "output_type": "stream",
     "text": [
      "['/raid/jiang/projects/SubtleGAN/data/RSNA_ASNR_MICCAI_BraTS2021_TrainingData/BraTS2021_01633/BraTS2021_01633_t1.nii.gz']\n",
      "50 186\n",
      "40 215\n",
      "0 131\n"
     ]
    },
    {
     "name": "stderr",
     "output_type": "stream",
     "text": [
      "\r",
      " 24%|██▎       | 297/1251 [05:33<16:43,  1.05s/it]"
     ]
    },
    {
     "name": "stdout",
     "output_type": "stream",
     "text": [
      "['/raid/jiang/projects/SubtleGAN/data/RSNA_ASNR_MICCAI_BraTS2021_TrainingData/BraTS2021_01271/BraTS2021_01271_t1.nii.gz']\n",
      "55 184\n",
      "58 207\n",
      "1 136\n"
     ]
    },
    {
     "name": "stderr",
     "output_type": "stream",
     "text": [
      "\r",
      " 24%|██▍       | 298/1251 [05:34<16:33,  1.04s/it]"
     ]
    },
    {
     "name": "stdout",
     "output_type": "stream",
     "text": [
      "['/raid/jiang/projects/SubtleGAN/data/RSNA_ASNR_MICCAI_BraTS2021_TrainingData/BraTS2021_00708/BraTS2021_00708_t1.nii.gz']\n",
      "53 191\n",
      "39 210\n",
      "6 142\n"
     ]
    },
    {
     "name": "stderr",
     "output_type": "stream",
     "text": [
      "\r",
      " 24%|██▍       | 299/1251 [05:36<17:32,  1.11s/it]"
     ]
    },
    {
     "name": "stdout",
     "output_type": "stream",
     "text": [
      "['/raid/jiang/projects/SubtleGAN/data/RSNA_ASNR_MICCAI_BraTS2021_TrainingData/BraTS2021_01310/BraTS2021_01310_t1.nii.gz']\n",
      "50 188\n",
      "47 216\n",
      "0 141\n"
     ]
    },
    {
     "name": "stderr",
     "output_type": "stream",
     "text": [
      "\r",
      " 24%|██▍       | 300/1251 [05:37<18:15,  1.15s/it]"
     ]
    },
    {
     "name": "stdout",
     "output_type": "stream",
     "text": [
      "['/raid/jiang/projects/SubtleGAN/data/RSNA_ASNR_MICCAI_BraTS2021_TrainingData/BraTS2021_00472/BraTS2021_00472_t1.nii.gz']\n",
      "52 187\n",
      "36 214\n",
      "0 141\n"
     ]
    },
    {
     "name": "stderr",
     "output_type": "stream",
     "text": [
      "\r",
      " 24%|██▍       | 301/1251 [05:38<19:57,  1.26s/it]"
     ]
    },
    {
     "name": "stdout",
     "output_type": "stream",
     "text": [
      "['/raid/jiang/projects/SubtleGAN/data/RSNA_ASNR_MICCAI_BraTS2021_TrainingData/BraTS2021_01608/BraTS2021_01608_t1.nii.gz']\n",
      "50 187\n",
      "37 215\n",
      "0 146\n"
     ]
    },
    {
     "name": "stderr",
     "output_type": "stream",
     "text": [
      "\r",
      " 24%|██▍       | 302/1251 [05:40<20:05,  1.27s/it]"
     ]
    },
    {
     "name": "stdout",
     "output_type": "stream",
     "text": [
      "['/raid/jiang/projects/SubtleGAN/data/RSNA_ASNR_MICCAI_BraTS2021_TrainingData/BraTS2021_01589/BraTS2021_01589_t1.nii.gz']\n",
      "51 185\n",
      "43 211\n",
      "7 145\n"
     ]
    },
    {
     "name": "stderr",
     "output_type": "stream",
     "text": [
      "\r",
      " 24%|██▍       | 303/1251 [05:41<19:52,  1.26s/it]"
     ]
    },
    {
     "name": "stdout",
     "output_type": "stream",
     "text": [
      "['/raid/jiang/projects/SubtleGAN/data/RSNA_ASNR_MICCAI_BraTS2021_TrainingData/BraTS2021_01346/BraTS2021_01346_t1.nii.gz']\n",
      "49 191\n",
      "34 219\n",
      "2 142\n"
     ]
    },
    {
     "name": "stderr",
     "output_type": "stream",
     "text": [
      "\r",
      " 24%|██▍       | 304/1251 [05:42<19:51,  1.26s/it]"
     ]
    },
    {
     "name": "stdout",
     "output_type": "stream",
     "text": [
      "['/raid/jiang/projects/SubtleGAN/data/RSNA_ASNR_MICCAI_BraTS2021_TrainingData/BraTS2021_01648/BraTS2021_01648_t1.nii.gz']\n",
      "45 194\n",
      "39 214\n",
      "0 140\n"
     ]
    },
    {
     "name": "stderr",
     "output_type": "stream",
     "text": [
      "\r",
      " 24%|██▍       | 305/1251 [05:43<19:14,  1.22s/it]"
     ]
    },
    {
     "name": "stdout",
     "output_type": "stream",
     "text": [
      "['/raid/jiang/projects/SubtleGAN/data/RSNA_ASNR_MICCAI_BraTS2021_TrainingData/BraTS2021_00349/BraTS2021_00349_t1.nii.gz']\n",
      "48 187\n",
      "48 214\n",
      "0 132\n"
     ]
    },
    {
     "name": "stderr",
     "output_type": "stream",
     "text": [
      "\r",
      " 24%|██▍       | 306/1251 [05:44<18:33,  1.18s/it]"
     ]
    },
    {
     "name": "stdout",
     "output_type": "stream",
     "text": [
      "['/raid/jiang/projects/SubtleGAN/data/RSNA_ASNR_MICCAI_BraTS2021_TrainingData/BraTS2021_01466/BraTS2021_01466_t1.nii.gz']\n",
      "50 189\n",
      "46 211\n",
      "0 140\n"
     ]
    },
    {
     "name": "stderr",
     "output_type": "stream",
     "text": [
      "\r",
      " 25%|██▍       | 307/1251 [05:45<17:44,  1.13s/it]"
     ]
    },
    {
     "name": "stdout",
     "output_type": "stream",
     "text": [
      "['/raid/jiang/projects/SubtleGAN/data/RSNA_ASNR_MICCAI_BraTS2021_TrainingData/BraTS2021_01508/BraTS2021_01508_t1.nii.gz']\n",
      "51 183\n",
      "45 216\n",
      "2 138\n"
     ]
    },
    {
     "name": "stderr",
     "output_type": "stream",
     "text": [
      "\r",
      " 25%|██▍       | 308/1251 [05:47<17:39,  1.12s/it]"
     ]
    },
    {
     "name": "stdout",
     "output_type": "stream",
     "text": [
      "['/raid/jiang/projects/SubtleGAN/data/RSNA_ASNR_MICCAI_BraTS2021_TrainingData/BraTS2021_01395/BraTS2021_01395_t1.nii.gz']\n",
      "48 188\n",
      "43 216\n",
      "0 135\n"
     ]
    },
    {
     "name": "stderr",
     "output_type": "stream",
     "text": [
      "\r",
      " 25%|██▍       | 309/1251 [05:48<17:41,  1.13s/it]"
     ]
    },
    {
     "name": "stdout",
     "output_type": "stream",
     "text": [
      "['/raid/jiang/projects/SubtleGAN/data/RSNA_ASNR_MICCAI_BraTS2021_TrainingData/BraTS2021_00477/BraTS2021_00477_t1.nii.gz']\n",
      "51 192\n",
      "34 211\n",
      "1 144\n"
     ]
    },
    {
     "name": "stderr",
     "output_type": "stream",
     "text": [
      "\r",
      " 25%|██▍       | 310/1251 [05:49<17:17,  1.10s/it]"
     ]
    },
    {
     "name": "stdout",
     "output_type": "stream",
     "text": [
      "['/raid/jiang/projects/SubtleGAN/data/RSNA_ASNR_MICCAI_BraTS2021_TrainingData/BraTS2021_01505/BraTS2021_01505_t1.nii.gz']\n",
      "50 188\n",
      "47 210\n",
      "8 138\n"
     ]
    },
    {
     "name": "stderr",
     "output_type": "stream",
     "text": [
      "\r",
      " 25%|██▍       | 311/1251 [05:50<17:03,  1.09s/it]"
     ]
    },
    {
     "name": "stdout",
     "output_type": "stream",
     "text": [
      "['/raid/jiang/projects/SubtleGAN/data/RSNA_ASNR_MICCAI_BraTS2021_TrainingData/BraTS2021_01498/BraTS2021_01498_t1.nii.gz']\n",
      "48 187\n",
      "44 214\n",
      "4 138\n"
     ]
    },
    {
     "name": "stderr",
     "output_type": "stream",
     "text": [
      "\r",
      " 25%|██▍       | 312/1251 [05:51<17:18,  1.11s/it]"
     ]
    },
    {
     "name": "stdout",
     "output_type": "stream",
     "text": [
      "['/raid/jiang/projects/SubtleGAN/data/RSNA_ASNR_MICCAI_BraTS2021_TrainingData/BraTS2021_00416/BraTS2021_00416_t1.nii.gz']\n",
      "53 185\n",
      "35 219\n",
      "0 142\n"
     ]
    },
    {
     "name": "stderr",
     "output_type": "stream",
     "text": [
      "\r",
      " 25%|██▌       | 313/1251 [05:52<17:39,  1.13s/it]"
     ]
    },
    {
     "name": "stdout",
     "output_type": "stream",
     "text": [
      "['/raid/jiang/projects/SubtleGAN/data/RSNA_ASNR_MICCAI_BraTS2021_TrainingData/BraTS2021_00160/BraTS2021_00160_t1.nii.gz']\n",
      "52 185\n",
      "45 217\n",
      "3 143\n"
     ]
    },
    {
     "name": "stderr",
     "output_type": "stream",
     "text": [
      "\r",
      " 25%|██▌       | 314/1251 [05:53<17:03,  1.09s/it]"
     ]
    },
    {
     "name": "stdout",
     "output_type": "stream",
     "text": [
      "['/raid/jiang/projects/SubtleGAN/data/RSNA_ASNR_MICCAI_BraTS2021_TrainingData/BraTS2021_01297/BraTS2021_01297_t1.nii.gz']\n",
      "48 187\n",
      "51 212\n",
      "6 138\n"
     ]
    },
    {
     "name": "stderr",
     "output_type": "stream",
     "text": [
      "\r",
      " 25%|██▌       | 315/1251 [05:54<17:22,  1.11s/it]"
     ]
    },
    {
     "name": "stdout",
     "output_type": "stream",
     "text": [
      "['/raid/jiang/projects/SubtleGAN/data/RSNA_ASNR_MICCAI_BraTS2021_TrainingData/BraTS2021_00036/BraTS2021_00036_t1.nii.gz']\n",
      "48 189\n",
      "19 219\n",
      "0 133\n"
     ]
    },
    {
     "name": "stderr",
     "output_type": "stream",
     "text": [
      "\r",
      " 25%|██▌       | 316/1251 [05:56<18:19,  1.18s/it]"
     ]
    },
    {
     "name": "stdout",
     "output_type": "stream",
     "text": [
      "['/raid/jiang/projects/SubtleGAN/data/RSNA_ASNR_MICCAI_BraTS2021_TrainingData/BraTS2021_01152/BraTS2021_01152_t1.nii.gz']\n",
      "51 182\n",
      "42 205\n",
      "4 135\n"
     ]
    },
    {
     "name": "stderr",
     "output_type": "stream",
     "text": [
      "\r",
      " 25%|██▌       | 317/1251 [05:57<18:21,  1.18s/it]"
     ]
    },
    {
     "name": "stdout",
     "output_type": "stream",
     "text": [
      "['/raid/jiang/projects/SubtleGAN/data/RSNA_ASNR_MICCAI_BraTS2021_TrainingData/BraTS2021_00470/BraTS2021_00470_t1.nii.gz']\n",
      "52 192\n",
      "36 209\n",
      "2 142\n"
     ]
    },
    {
     "name": "stderr",
     "output_type": "stream",
     "text": [
      "\r",
      " 25%|██▌       | 318/1251 [05:58<18:22,  1.18s/it]"
     ]
    },
    {
     "name": "stdout",
     "output_type": "stream",
     "text": [
      "['/raid/jiang/projects/SubtleGAN/data/RSNA_ASNR_MICCAI_BraTS2021_TrainingData/BraTS2021_01411/BraTS2021_01411_t1.nii.gz']\n",
      "51 186\n",
      "43 218\n",
      "10 141\n"
     ]
    },
    {
     "name": "stderr",
     "output_type": "stream",
     "text": [
      "\r",
      " 25%|██▌       | 319/1251 [05:59<17:48,  1.15s/it]"
     ]
    },
    {
     "name": "stdout",
     "output_type": "stream",
     "text": [
      "['/raid/jiang/projects/SubtleGAN/data/RSNA_ASNR_MICCAI_BraTS2021_TrainingData/BraTS2021_00403/BraTS2021_00403_t1.nii.gz']\n",
      "50 187\n",
      "51 210\n",
      "1 137\n"
     ]
    },
    {
     "name": "stderr",
     "output_type": "stream",
     "text": [
      "\r",
      " 26%|██▌       | 320/1251 [06:00<17:36,  1.14s/it]"
     ]
    },
    {
     "name": "stdout",
     "output_type": "stream",
     "text": [
      "['/raid/jiang/projects/SubtleGAN/data/RSNA_ASNR_MICCAI_BraTS2021_TrainingData/BraTS2021_01113/BraTS2021_01113_t1.nii.gz']\n",
      "51 187\n",
      "49 211\n",
      "0 139\n"
     ]
    },
    {
     "name": "stderr",
     "output_type": "stream",
     "text": [
      "\r",
      " 26%|██▌       | 321/1251 [06:01<17:02,  1.10s/it]"
     ]
    },
    {
     "name": "stdout",
     "output_type": "stream",
     "text": [
      "['/raid/jiang/projects/SubtleGAN/data/RSNA_ASNR_MICCAI_BraTS2021_TrainingData/BraTS2021_01285/BraTS2021_01285_t1.nii.gz']\n",
      "55 179\n",
      "49 217\n",
      "0 144\n"
     ]
    },
    {
     "name": "stderr",
     "output_type": "stream",
     "text": [
      "\r",
      " 26%|██▌       | 322/1251 [06:02<16:50,  1.09s/it]"
     ]
    },
    {
     "name": "stdout",
     "output_type": "stream",
     "text": [
      "['/raid/jiang/projects/SubtleGAN/data/RSNA_ASNR_MICCAI_BraTS2021_TrainingData/BraTS2021_00443/BraTS2021_00443_t1.nii.gz']\n",
      "55 184\n",
      "42 214\n",
      "0 136\n"
     ]
    },
    {
     "name": "stderr",
     "output_type": "stream",
     "text": [
      "\r",
      " 26%|██▌       | 323/1251 [06:04<17:47,  1.15s/it]"
     ]
    },
    {
     "name": "stdout",
     "output_type": "stream",
     "text": [
      "['/raid/jiang/projects/SubtleGAN/data/RSNA_ASNR_MICCAI_BraTS2021_TrainingData/BraTS2021_00816/BraTS2021_00816_t1.nii.gz']\n",
      "53 184\n",
      "44 213\n",
      "0 149\n"
     ]
    },
    {
     "name": "stderr",
     "output_type": "stream",
     "text": [
      "\r",
      " 26%|██▌       | 324/1251 [06:05<17:47,  1.15s/it]"
     ]
    },
    {
     "name": "stdout",
     "output_type": "stream",
     "text": [
      "['/raid/jiang/projects/SubtleGAN/data/RSNA_ASNR_MICCAI_BraTS2021_TrainingData/BraTS2021_00612/BraTS2021_00612_t1.nii.gz']\n",
      "61 180\n",
      "29 208\n",
      "0 139\n"
     ]
    },
    {
     "name": "stderr",
     "output_type": "stream",
     "text": [
      "\r",
      " 26%|██▌       | 325/1251 [06:06<17:55,  1.16s/it]"
     ]
    },
    {
     "name": "stdout",
     "output_type": "stream",
     "text": [
      "['/raid/jiang/projects/SubtleGAN/data/RSNA_ASNR_MICCAI_BraTS2021_TrainingData/BraTS2021_00412/BraTS2021_00412_t1.nii.gz']\n",
      "48 190\n",
      "45 210\n",
      "0 138\n"
     ]
    },
    {
     "name": "stderr",
     "output_type": "stream",
     "text": [
      "\r",
      " 26%|██▌       | 326/1251 [06:07<18:04,  1.17s/it]"
     ]
    },
    {
     "name": "stdout",
     "output_type": "stream",
     "text": [
      "['/raid/jiang/projects/SubtleGAN/data/RSNA_ASNR_MICCAI_BraTS2021_TrainingData/BraTS2021_01263/BraTS2021_01263_t1.nii.gz']\n",
      "53 184\n",
      "36 220\n",
      "0 141\n"
     ]
    },
    {
     "name": "stderr",
     "output_type": "stream",
     "text": [
      "\r",
      " 26%|██▌       | 327/1251 [06:08<17:37,  1.14s/it]"
     ]
    },
    {
     "name": "stdout",
     "output_type": "stream",
     "text": [
      "['/raid/jiang/projects/SubtleGAN/data/RSNA_ASNR_MICCAI_BraTS2021_TrainingData/BraTS2021_01128/BraTS2021_01128_t1.nii.gz']\n",
      "50 187\n",
      "49 209\n",
      "2 135\n"
     ]
    },
    {
     "name": "stderr",
     "output_type": "stream",
     "text": [
      "\r",
      " 26%|██▌       | 328/1251 [06:09<17:25,  1.13s/it]"
     ]
    },
    {
     "name": "stdout",
     "output_type": "stream",
     "text": [
      "['/raid/jiang/projects/SubtleGAN/data/RSNA_ASNR_MICCAI_BraTS2021_TrainingData/BraTS2021_00390/BraTS2021_00390_t1.nii.gz']\n",
      "51 186\n",
      "44 218\n",
      "0 137\n"
     ]
    },
    {
     "name": "stderr",
     "output_type": "stream",
     "text": [
      "\r",
      " 26%|██▋       | 329/1251 [06:10<17:06,  1.11s/it]"
     ]
    },
    {
     "name": "stdout",
     "output_type": "stream",
     "text": [
      "['/raid/jiang/projects/SubtleGAN/data/RSNA_ASNR_MICCAI_BraTS2021_TrainingData/BraTS2021_00523/BraTS2021_00523_t1.nii.gz']\n",
      "56 190\n",
      "38 213\n",
      "6 139\n"
     ]
    },
    {
     "name": "stderr",
     "output_type": "stream",
     "text": [
      "\r",
      " 26%|██▋       | 330/1251 [06:12<17:32,  1.14s/it]"
     ]
    },
    {
     "name": "stdout",
     "output_type": "stream",
     "text": [
      "['/raid/jiang/projects/SubtleGAN/data/RSNA_ASNR_MICCAI_BraTS2021_TrainingData/BraTS2021_01298/BraTS2021_01298_t1.nii.gz']\n",
      "51 188\n",
      "41 216\n",
      "0 138\n"
     ]
    },
    {
     "name": "stderr",
     "output_type": "stream",
     "text": [
      "\r",
      " 26%|██▋       | 331/1251 [06:13<17:27,  1.14s/it]"
     ]
    },
    {
     "name": "stdout",
     "output_type": "stream",
     "text": [
      "['/raid/jiang/projects/SubtleGAN/data/RSNA_ASNR_MICCAI_BraTS2021_TrainingData/BraTS2021_01402/BraTS2021_01402_t1.nii.gz']\n",
      "50 186\n",
      "40 211\n",
      "0 139\n"
     ]
    },
    {
     "name": "stderr",
     "output_type": "stream",
     "text": [
      "\r",
      " 27%|██▋       | 332/1251 [06:14<16:58,  1.11s/it]"
     ]
    },
    {
     "name": "stdout",
     "output_type": "stream",
     "text": [
      "['/raid/jiang/projects/SubtleGAN/data/RSNA_ASNR_MICCAI_BraTS2021_TrainingData/BraTS2021_00139/BraTS2021_00139_t1.nii.gz']\n",
      "53 184\n",
      "58 209\n",
      "0 137\n"
     ]
    },
    {
     "name": "stderr",
     "output_type": "stream",
     "text": [
      "\r",
      " 27%|██▋       | 333/1251 [06:15<16:22,  1.07s/it]"
     ]
    },
    {
     "name": "stdout",
     "output_type": "stream",
     "text": [
      "['/raid/jiang/projects/SubtleGAN/data/RSNA_ASNR_MICCAI_BraTS2021_TrainingData/BraTS2021_01186/BraTS2021_01186_t1.nii.gz']\n",
      "60 177\n",
      "53 203\n",
      "14 138\n"
     ]
    },
    {
     "name": "stderr",
     "output_type": "stream",
     "text": [
      "\r",
      " 27%|██▋       | 334/1251 [06:16<16:03,  1.05s/it]"
     ]
    },
    {
     "name": "stdout",
     "output_type": "stream",
     "text": [
      "['/raid/jiang/projects/SubtleGAN/data/RSNA_ASNR_MICCAI_BraTS2021_TrainingData/BraTS2021_01126/BraTS2021_01126_t1.nii.gz']\n",
      "45 192\n",
      "38 210\n",
      "0 136\n"
     ]
    },
    {
     "name": "stderr",
     "output_type": "stream",
     "text": [
      "\r",
      " 27%|██▋       | 335/1251 [06:17<16:12,  1.06s/it]"
     ]
    },
    {
     "name": "stdout",
     "output_type": "stream",
     "text": [
      "['/raid/jiang/projects/SubtleGAN/data/RSNA_ASNR_MICCAI_BraTS2021_TrainingData/BraTS2021_01239/BraTS2021_01239_t1.nii.gz']\n",
      "56 180\n",
      "47 213\n",
      "0 146\n"
     ]
    },
    {
     "name": "stderr",
     "output_type": "stream",
     "text": [
      "\r",
      " 27%|██▋       | 336/1251 [06:18<17:24,  1.14s/it]"
     ]
    },
    {
     "name": "stdout",
     "output_type": "stream",
     "text": [
      "['/raid/jiang/projects/SubtleGAN/data/RSNA_ASNR_MICCAI_BraTS2021_TrainingData/BraTS2021_00807/BraTS2021_00807_t1.nii.gz']\n",
      "47 189\n",
      "48 213\n",
      "0 148\n"
     ]
    },
    {
     "name": "stderr",
     "output_type": "stream",
     "text": [
      "\r",
      " 27%|██▋       | 337/1251 [06:19<17:24,  1.14s/it]"
     ]
    },
    {
     "name": "stdout",
     "output_type": "stream",
     "text": [
      "['/raid/jiang/projects/SubtleGAN/data/RSNA_ASNR_MICCAI_BraTS2021_TrainingData/BraTS2021_01274/BraTS2021_01274_t1.nii.gz']\n",
      "53 183\n",
      "46 218\n",
      "3 143\n"
     ]
    },
    {
     "name": "stderr",
     "output_type": "stream",
     "text": [
      "\r",
      " 27%|██▋       | 338/1251 [06:20<17:43,  1.16s/it]"
     ]
    },
    {
     "name": "stdout",
     "output_type": "stream",
     "text": [
      "['/raid/jiang/projects/SubtleGAN/data/RSNA_ASNR_MICCAI_BraTS2021_TrainingData/BraTS2021_00300/BraTS2021_00300_t1.nii.gz']\n",
      "49 188\n",
      "44 215\n",
      "0 139\n"
     ]
    },
    {
     "name": "stderr",
     "output_type": "stream",
     "text": [
      "\r",
      " 27%|██▋       | 339/1251 [06:22<17:35,  1.16s/it]"
     ]
    },
    {
     "name": "stdout",
     "output_type": "stream",
     "text": [
      "['/raid/jiang/projects/SubtleGAN/data/RSNA_ASNR_MICCAI_BraTS2021_TrainingData/BraTS2021_00401/BraTS2021_00401_t1.nii.gz']\n",
      "51 188\n",
      "41 216\n",
      "0 138\n"
     ]
    },
    {
     "name": "stderr",
     "output_type": "stream",
     "text": [
      "\r",
      " 27%|██▋       | 340/1251 [06:23<17:36,  1.16s/it]"
     ]
    },
    {
     "name": "stdout",
     "output_type": "stream",
     "text": [
      "['/raid/jiang/projects/SubtleGAN/data/RSNA_ASNR_MICCAI_BraTS2021_TrainingData/BraTS2021_01082/BraTS2021_01082_t1.nii.gz']\n",
      "50 187\n",
      "51 213\n",
      "0 143\n"
     ]
    },
    {
     "name": "stderr",
     "output_type": "stream",
     "text": [
      "\r",
      " 27%|██▋       | 341/1251 [06:24<17:25,  1.15s/it]"
     ]
    },
    {
     "name": "stdout",
     "output_type": "stream",
     "text": [
      "['/raid/jiang/projects/SubtleGAN/data/RSNA_ASNR_MICCAI_BraTS2021_TrainingData/BraTS2021_01621/BraTS2021_01621_t1.nii.gz']\n",
      "50 186\n",
      "49 209\n",
      "0 148\n"
     ]
    },
    {
     "name": "stderr",
     "output_type": "stream",
     "text": [
      "\r",
      " 27%|██▋       | 342/1251 [06:25<16:47,  1.11s/it]"
     ]
    },
    {
     "name": "stdout",
     "output_type": "stream",
     "text": [
      "['/raid/jiang/projects/SubtleGAN/data/RSNA_ASNR_MICCAI_BraTS2021_TrainingData/BraTS2021_00088/BraTS2021_00088_t1.nii.gz']\n",
      "54 189\n",
      "35 210\n",
      "14 138\n"
     ]
    },
    {
     "name": "stderr",
     "output_type": "stream",
     "text": [
      "\r",
      " 27%|██▋       | 343/1251 [06:26<16:55,  1.12s/it]"
     ]
    },
    {
     "name": "stdout",
     "output_type": "stream",
     "text": [
      "['/raid/jiang/projects/SubtleGAN/data/RSNA_ASNR_MICCAI_BraTS2021_TrainingData/BraTS2021_01514/BraTS2021_01514_t1.nii.gz']\n",
      "50 187\n",
      "43 215\n",
      "1 140\n"
     ]
    },
    {
     "name": "stderr",
     "output_type": "stream",
     "text": [
      "\r",
      " 27%|██▋       | 344/1251 [06:27<17:17,  1.14s/it]"
     ]
    },
    {
     "name": "stdout",
     "output_type": "stream",
     "text": [
      "['/raid/jiang/projects/SubtleGAN/data/RSNA_ASNR_MICCAI_BraTS2021_TrainingData/BraTS2021_00705/BraTS2021_00705_t1.nii.gz']\n",
      "46 195\n",
      "28 214\n",
      "0 144\n"
     ]
    },
    {
     "name": "stderr",
     "output_type": "stream",
     "text": [
      "\r",
      " 28%|██▊       | 345/1251 [06:29<17:54,  1.19s/it]"
     ]
    },
    {
     "name": "stdout",
     "output_type": "stream",
     "text": [
      "['/raid/jiang/projects/SubtleGAN/data/RSNA_ASNR_MICCAI_BraTS2021_TrainingData/BraTS2021_01144/BraTS2021_01144_t1.nii.gz']\n",
      "51 190\n",
      "40 215\n",
      "0 134\n",
      "['/raid/jiang/projects/SubtleGAN/data/RSNA_ASNR_MICCAI_BraTS2021_TrainingData/BraTS2021_00583/BraTS2021_00583_t1.nii.gz']\n"
     ]
    },
    {
     "name": "stderr",
     "output_type": "stream",
     "text": [
      "\r",
      " 28%|██▊       | 346/1251 [06:30<18:12,  1.21s/it]"
     ]
    },
    {
     "name": "stdout",
     "output_type": "stream",
     "text": [
      "53 185\n",
      "34 218\n",
      "3 144\n"
     ]
    },
    {
     "name": "stderr",
     "output_type": "stream",
     "text": [
      "\r",
      " 28%|██▊       | 347/1251 [06:31<18:13,  1.21s/it]"
     ]
    },
    {
     "name": "stdout",
     "output_type": "stream",
     "text": [
      "['/raid/jiang/projects/SubtleGAN/data/RSNA_ASNR_MICCAI_BraTS2021_TrainingData/BraTS2021_00820/BraTS2021_00820_t1.nii.gz']\n",
      "51 187\n",
      "42 221\n",
      "0 138\n"
     ]
    },
    {
     "name": "stderr",
     "output_type": "stream",
     "text": [
      "\r",
      " 28%|██▊       | 348/1251 [06:32<17:58,  1.19s/it]"
     ]
    },
    {
     "name": "stdout",
     "output_type": "stream",
     "text": [
      "['/raid/jiang/projects/SubtleGAN/data/RSNA_ASNR_MICCAI_BraTS2021_TrainingData/BraTS2021_00728/BraTS2021_00728_t1.nii.gz']\n",
      "47 189\n",
      "34 212\n",
      "0 138\n"
     ]
    },
    {
     "name": "stderr",
     "output_type": "stream",
     "text": [
      "\r",
      " 28%|██▊       | 349/1251 [06:33<17:45,  1.18s/it]"
     ]
    },
    {
     "name": "stdout",
     "output_type": "stream",
     "text": [
      "['/raid/jiang/projects/SubtleGAN/data/RSNA_ASNR_MICCAI_BraTS2021_TrainingData/BraTS2021_00624/BraTS2021_00624_t1.nii.gz']\n",
      "52 190\n",
      "36 212\n",
      "0 143\n"
     ]
    },
    {
     "name": "stderr",
     "output_type": "stream",
     "text": [
      "\r",
      " 28%|██▊       | 350/1251 [06:34<17:24,  1.16s/it]"
     ]
    },
    {
     "name": "stdout",
     "output_type": "stream",
     "text": [
      "['/raid/jiang/projects/SubtleGAN/data/RSNA_ASNR_MICCAI_BraTS2021_TrainingData/BraTS2021_01250/BraTS2021_01250_t1.nii.gz']\n",
      "52 183\n",
      "48 216\n",
      "6 141\n"
     ]
    },
    {
     "name": "stderr",
     "output_type": "stream",
     "text": [
      "\r",
      " 28%|██▊       | 351/1251 [06:36<17:19,  1.16s/it]"
     ]
    },
    {
     "name": "stdout",
     "output_type": "stream",
     "text": [
      "['/raid/jiang/projects/SubtleGAN/data/RSNA_ASNR_MICCAI_BraTS2021_TrainingData/BraTS2021_01663/BraTS2021_01663_t1.nii.gz']\n",
      "46 190\n",
      "36 220\n",
      "0 139\n"
     ]
    },
    {
     "name": "stderr",
     "output_type": "stream",
     "text": [
      "\r",
      " 28%|██▊       | 352/1251 [06:37<17:33,  1.17s/it]"
     ]
    },
    {
     "name": "stdout",
     "output_type": "stream",
     "text": [
      "['/raid/jiang/projects/SubtleGAN/data/RSNA_ASNR_MICCAI_BraTS2021_TrainingData/BraTS2021_00054/BraTS2021_00054_t1.nii.gz']\n",
      "47 189\n",
      "50 211\n",
      "1 139\n"
     ]
    },
    {
     "name": "stderr",
     "output_type": "stream",
     "text": [
      "\r",
      " 28%|██▊       | 353/1251 [06:38<16:58,  1.13s/it]"
     ]
    },
    {
     "name": "stdout",
     "output_type": "stream",
     "text": [
      "['/raid/jiang/projects/SubtleGAN/data/RSNA_ASNR_MICCAI_BraTS2021_TrainingData/BraTS2021_01202/BraTS2021_01202_t1.nii.gz']\n",
      "49 185\n",
      "42 214\n",
      "4 138\n"
     ]
    },
    {
     "name": "stderr",
     "output_type": "stream",
     "text": [
      "\r",
      " 28%|██▊       | 354/1251 [06:39<16:01,  1.07s/it]"
     ]
    },
    {
     "name": "stdout",
     "output_type": "stream",
     "text": [
      "['/raid/jiang/projects/SubtleGAN/data/RSNA_ASNR_MICCAI_BraTS2021_TrainingData/BraTS2021_01256/BraTS2021_01256_t1.nii.gz']\n",
      "49 187\n",
      "55 212\n",
      "1 139\n"
     ]
    },
    {
     "name": "stderr",
     "output_type": "stream",
     "text": [
      "\r",
      " 28%|██▊       | 355/1251 [06:40<15:54,  1.07s/it]"
     ]
    },
    {
     "name": "stdout",
     "output_type": "stream",
     "text": [
      "['/raid/jiang/projects/SubtleGAN/data/RSNA_ASNR_MICCAI_BraTS2021_TrainingData/BraTS2021_01192/BraTS2021_01192_t1.nii.gz']\n",
      "53 183\n",
      "51 201\n",
      "4 134\n"
     ]
    },
    {
     "name": "stderr",
     "output_type": "stream",
     "text": [
      "\r",
      " 28%|██▊       | 356/1251 [06:41<15:27,  1.04s/it]"
     ]
    },
    {
     "name": "stdout",
     "output_type": "stream",
     "text": [
      "['/raid/jiang/projects/SubtleGAN/data/RSNA_ASNR_MICCAI_BraTS2021_TrainingData/BraTS2021_00377/BraTS2021_00377_t1.nii.gz']\n",
      "53 184\n",
      "47 208\n",
      "8 138\n"
     ]
    },
    {
     "name": "stderr",
     "output_type": "stream",
     "text": [
      "\r",
      " 29%|██▊       | 357/1251 [06:42<16:04,  1.08s/it]"
     ]
    },
    {
     "name": "stdout",
     "output_type": "stream",
     "text": [
      "['/raid/jiang/projects/SubtleGAN/data/RSNA_ASNR_MICCAI_BraTS2021_TrainingData/BraTS2021_01420/BraTS2021_01420_t1.nii.gz']\n",
      "47 193\n",
      "45 214\n",
      "5 141\n"
     ]
    },
    {
     "name": "stderr",
     "output_type": "stream",
     "text": [
      "\r",
      " 29%|██▊       | 358/1251 [06:43<15:45,  1.06s/it]"
     ]
    },
    {
     "name": "stdout",
     "output_type": "stream",
     "text": [
      "['/raid/jiang/projects/SubtleGAN/data/RSNA_ASNR_MICCAI_BraTS2021_TrainingData/BraTS2021_01512/BraTS2021_01512_t1.nii.gz']\n",
      "51 183\n",
      "45 214\n",
      "4 137\n"
     ]
    },
    {
     "name": "stderr",
     "output_type": "stream",
     "text": [
      "\r",
      " 29%|██▊       | 359/1251 [06:44<15:34,  1.05s/it]"
     ]
    },
    {
     "name": "stdout",
     "output_type": "stream",
     "text": [
      "['/raid/jiang/projects/SubtleGAN/data/RSNA_ASNR_MICCAI_BraTS2021_TrainingData/BraTS2021_00043/BraTS2021_00043_t1.nii.gz']\n",
      "56 190\n",
      "31 210\n",
      "0 131\n"
     ]
    },
    {
     "name": "stderr",
     "output_type": "stream",
     "text": [
      "\r",
      " 29%|██▉       | 360/1251 [06:45<15:40,  1.06s/it]"
     ]
    },
    {
     "name": "stdout",
     "output_type": "stream",
     "text": [
      "['/raid/jiang/projects/SubtleGAN/data/RSNA_ASNR_MICCAI_BraTS2021_TrainingData/BraTS2021_01147/BraTS2021_01147_t1.nii.gz']\n",
      "49 186\n",
      "45 220\n",
      "4 132\n"
     ]
    },
    {
     "name": "stderr",
     "output_type": "stream",
     "text": [
      "\r",
      " 29%|██▉       | 361/1251 [06:46<16:14,  1.10s/it]"
     ]
    },
    {
     "name": "stdout",
     "output_type": "stream",
     "text": [
      "['/raid/jiang/projects/SubtleGAN/data/RSNA_ASNR_MICCAI_BraTS2021_TrainingData/BraTS2021_01542/BraTS2021_01542_t1.nii.gz']\n",
      "52 188\n",
      "39 218\n",
      "0 140\n"
     ]
    },
    {
     "name": "stderr",
     "output_type": "stream",
     "text": [
      "\r",
      " 29%|██▉       | 362/1251 [06:48<16:57,  1.14s/it]"
     ]
    },
    {
     "name": "stdout",
     "output_type": "stream",
     "text": [
      "['/raid/jiang/projects/SubtleGAN/data/RSNA_ASNR_MICCAI_BraTS2021_TrainingData/BraTS2021_00064/BraTS2021_00064_t1.nii.gz']\n",
      "51 191\n",
      "33 211\n",
      "0 145\n"
     ]
    },
    {
     "name": "stderr",
     "output_type": "stream",
     "text": [
      "\r",
      " 29%|██▉       | 363/1251 [06:49<16:58,  1.15s/it]"
     ]
    },
    {
     "name": "stdout",
     "output_type": "stream",
     "text": [
      "['/raid/jiang/projects/SubtleGAN/data/RSNA_ASNR_MICCAI_BraTS2021_TrainingData/BraTS2021_00383/BraTS2021_00383_t1.nii.gz']\n",
      "47 191\n",
      "51 210\n",
      "0 139\n"
     ]
    },
    {
     "name": "stderr",
     "output_type": "stream",
     "text": [
      "\r",
      " 29%|██▉       | 364/1251 [06:50<16:22,  1.11s/it]"
     ]
    },
    {
     "name": "stdout",
     "output_type": "stream",
     "text": [
      "['/raid/jiang/projects/SubtleGAN/data/RSNA_ASNR_MICCAI_BraTS2021_TrainingData/BraTS2021_01222/BraTS2021_01222_t1.nii.gz']\n",
      "52 184\n",
      "51 207\n",
      "5 140\n"
     ]
    },
    {
     "name": "stderr",
     "output_type": "stream",
     "text": [
      "\r",
      " 29%|██▉       | 365/1251 [06:51<16:20,  1.11s/it]"
     ]
    },
    {
     "name": "stdout",
     "output_type": "stream",
     "text": [
      "['/raid/jiang/projects/SubtleGAN/data/RSNA_ASNR_MICCAI_BraTS2021_TrainingData/BraTS2021_01213/BraTS2021_01213_t1.nii.gz']\n",
      "48 192\n",
      "47 210\n",
      "0 139\n"
     ]
    },
    {
     "name": "stderr",
     "output_type": "stream",
     "text": [
      "\r",
      " 29%|██▉       | 366/1251 [06:52<16:15,  1.10s/it]"
     ]
    },
    {
     "name": "stdout",
     "output_type": "stream",
     "text": [
      "['/raid/jiang/projects/SubtleGAN/data/RSNA_ASNR_MICCAI_BraTS2021_TrainingData/BraTS2021_00348/BraTS2021_00348_t1.nii.gz']\n",
      "56 181\n",
      "44 213\n",
      "0 139\n"
     ]
    },
    {
     "name": "stderr",
     "output_type": "stream",
     "text": [
      "\r",
      " 29%|██▉       | 367/1251 [06:53<16:34,  1.12s/it]"
     ]
    },
    {
     "name": "stdout",
     "output_type": "stream",
     "text": [
      "['/raid/jiang/projects/SubtleGAN/data/RSNA_ASNR_MICCAI_BraTS2021_TrainingData/BraTS2021_00172/BraTS2021_00172_t1.nii.gz']\n",
      "49 187\n",
      "43 212\n",
      "0 143\n"
     ]
    },
    {
     "name": "stderr",
     "output_type": "stream",
     "text": [
      "\r",
      " 29%|██▉       | 368/1251 [06:54<16:29,  1.12s/it]"
     ]
    },
    {
     "name": "stdout",
     "output_type": "stream",
     "text": [
      "['/raid/jiang/projects/SubtleGAN/data/RSNA_ASNR_MICCAI_BraTS2021_TrainingData/BraTS2021_00616/BraTS2021_00616_t1.nii.gz']\n",
      "55 190\n",
      "40 213\n",
      "1 149\n"
     ]
    },
    {
     "name": "stderr",
     "output_type": "stream",
     "text": [
      "\r",
      " 29%|██▉       | 369/1251 [06:55<16:15,  1.11s/it]"
     ]
    },
    {
     "name": "stdout",
     "output_type": "stream",
     "text": [
      "['/raid/jiang/projects/SubtleGAN/data/RSNA_ASNR_MICCAI_BraTS2021_TrainingData/BraTS2021_01135/BraTS2021_01135_t1.nii.gz']\n",
      "49 187\n",
      "45 214\n",
      "0 140\n"
     ]
    },
    {
     "name": "stderr",
     "output_type": "stream",
     "text": [
      "\r",
      " 30%|██▉       | 370/1251 [06:56<16:16,  1.11s/it]"
     ]
    },
    {
     "name": "stdout",
     "output_type": "stream",
     "text": [
      "['/raid/jiang/projects/SubtleGAN/data/RSNA_ASNR_MICCAI_BraTS2021_TrainingData/BraTS2021_01174/BraTS2021_01174_t1.nii.gz']\n",
      "51 177\n",
      "42 214\n",
      "6 139\n"
     ]
    },
    {
     "name": "stderr",
     "output_type": "stream",
     "text": [
      "\r",
      " 30%|██▉       | 371/1251 [06:57<16:04,  1.10s/it]"
     ]
    },
    {
     "name": "stdout",
     "output_type": "stream",
     "text": [
      "['/raid/jiang/projects/SubtleGAN/data/RSNA_ASNR_MICCAI_BraTS2021_TrainingData/BraTS2021_01308/BraTS2021_01308_t1.nii.gz']\n",
      "51 187\n",
      "45 212\n",
      "0 139\n"
     ]
    },
    {
     "name": "stderr",
     "output_type": "stream",
     "text": [
      "\r",
      " 30%|██▉       | 372/1251 [06:59<16:13,  1.11s/it]"
     ]
    },
    {
     "name": "stdout",
     "output_type": "stream",
     "text": [
      "['/raid/jiang/projects/SubtleGAN/data/RSNA_ASNR_MICCAI_BraTS2021_TrainingData/BraTS2021_00661/BraTS2021_00661_t1.nii.gz']\n",
      "59 189\n",
      "37 209\n",
      "0 144\n"
     ]
    },
    {
     "name": "stderr",
     "output_type": "stream",
     "text": [
      "\r",
      " 30%|██▉       | 373/1251 [07:00<16:03,  1.10s/it]"
     ]
    },
    {
     "name": "stdout",
     "output_type": "stream",
     "text": [
      "['/raid/jiang/projects/SubtleGAN/data/RSNA_ASNR_MICCAI_BraTS2021_TrainingData/BraTS2021_00559/BraTS2021_00559_t1.nii.gz']\n",
      "51 188\n",
      "44 212\n",
      "0 142\n"
     ]
    },
    {
     "name": "stderr",
     "output_type": "stream",
     "text": [
      "\r",
      " 30%|██▉       | 374/1251 [07:01<16:16,  1.11s/it]"
     ]
    },
    {
     "name": "stdout",
     "output_type": "stream",
     "text": [
      "['/raid/jiang/projects/SubtleGAN/data/RSNA_ASNR_MICCAI_BraTS2021_TrainingData/BraTS2021_01475/BraTS2021_01475_t1.nii.gz']\n",
      "47 190\n",
      "39 218\n",
      "0 140\n"
     ]
    },
    {
     "name": "stderr",
     "output_type": "stream",
     "text": [
      "\r",
      " 30%|██▉       | 375/1251 [07:02<16:46,  1.15s/it]"
     ]
    },
    {
     "name": "stdout",
     "output_type": "stream",
     "text": [
      "['/raid/jiang/projects/SubtleGAN/data/RSNA_ASNR_MICCAI_BraTS2021_TrainingData/BraTS2021_00314/BraTS2021_00314_t1.nii.gz']\n",
      "50 189\n",
      "47 211\n",
      "0 139\n"
     ]
    },
    {
     "name": "stderr",
     "output_type": "stream",
     "text": [
      "\r",
      " 30%|███       | 376/1251 [07:03<16:20,  1.12s/it]"
     ]
    },
    {
     "name": "stdout",
     "output_type": "stream",
     "text": [
      "['/raid/jiang/projects/SubtleGAN/data/RSNA_ASNR_MICCAI_BraTS2021_TrainingData/BraTS2021_00563/BraTS2021_00563_t1.nii.gz']\n",
      "57 179\n",
      "47 212\n",
      "1 138\n"
     ]
    },
    {
     "name": "stderr",
     "output_type": "stream",
     "text": [
      "\r",
      " 30%|███       | 377/1251 [07:04<16:19,  1.12s/it]"
     ]
    },
    {
     "name": "stdout",
     "output_type": "stream",
     "text": [
      "['/raid/jiang/projects/SubtleGAN/data/RSNA_ASNR_MICCAI_BraTS2021_TrainingData/BraTS2021_00610/BraTS2021_00610_t1.nii.gz']\n",
      "50 190\n",
      "31 209\n",
      "0 142\n"
     ]
    },
    {
     "name": "stderr",
     "output_type": "stream",
     "text": [
      "\r",
      " 30%|███       | 378/1251 [07:05<16:49,  1.16s/it]"
     ]
    },
    {
     "name": "stdout",
     "output_type": "stream",
     "text": [
      "['/raid/jiang/projects/SubtleGAN/data/RSNA_ASNR_MICCAI_BraTS2021_TrainingData/BraTS2021_01162/BraTS2021_01162_t1.nii.gz']\n",
      "51 186\n",
      "46 215\n",
      "2 145\n"
     ]
    },
    {
     "name": "stderr",
     "output_type": "stream",
     "text": [
      "\r",
      " 30%|███       | 379/1251 [07:07<16:39,  1.15s/it]"
     ]
    },
    {
     "name": "stdout",
     "output_type": "stream",
     "text": [
      "['/raid/jiang/projects/SubtleGAN/data/RSNA_ASNR_MICCAI_BraTS2021_TrainingData/BraTS2021_01381/BraTS2021_01381_t1.nii.gz']\n",
      "49 215\n",
      "47 222\n",
      "0 138\n",
      "['/raid/jiang/projects/SubtleGAN/data/RSNA_ASNR_MICCAI_BraTS2021_TrainingData/BraTS2021_01058/BraTS2021_01058_t1.nii.gz']\n"
     ]
    },
    {
     "name": "stderr",
     "output_type": "stream",
     "text": [
      "\r",
      " 30%|███       | 380/1251 [07:08<16:47,  1.16s/it]"
     ]
    },
    {
     "name": "stdout",
     "output_type": "stream",
     "text": [
      "53 183\n",
      "41 216\n",
      "0 144\n"
     ]
    },
    {
     "name": "stderr",
     "output_type": "stream",
     "text": [
      "\r",
      " 30%|███       | 381/1251 [07:09<16:57,  1.17s/it]"
     ]
    },
    {
     "name": "stdout",
     "output_type": "stream",
     "text": [
      "['/raid/jiang/projects/SubtleGAN/data/RSNA_ASNR_MICCAI_BraTS2021_TrainingData/BraTS2021_00457/BraTS2021_00457_t1.nii.gz']\n",
      "53 186\n",
      "40 220\n",
      "0 141\n"
     ]
    },
    {
     "name": "stderr",
     "output_type": "stream",
     "text": [
      "\r",
      " 31%|███       | 382/1251 [07:10<17:09,  1.19s/it]"
     ]
    },
    {
     "name": "stdout",
     "output_type": "stream",
     "text": [
      "['/raid/jiang/projects/SubtleGAN/data/RSNA_ASNR_MICCAI_BraTS2021_TrainingData/BraTS2021_00689/BraTS2021_00689_t1.nii.gz']\n",
      "55 188\n",
      "38 207\n",
      "2 145\n",
      "['/raid/jiang/projects/SubtleGAN/data/RSNA_ASNR_MICCAI_BraTS2021_TrainingData/BraTS2021_00006/BraTS2021_00006_t1.nii.gz']\n",
      "49"
     ]
    },
    {
     "name": "stderr",
     "output_type": "stream",
     "text": [
      "\r",
      " 31%|███       | 383/1251 [07:11<16:55,  1.17s/it]"
     ]
    },
    {
     "name": "stdout",
     "output_type": "stream",
     "text": [
      " 182\n",
      "36 212\n",
      "0 135\n"
     ]
    },
    {
     "name": "stderr",
     "output_type": "stream",
     "text": [
      "\r",
      " 31%|███       | 384/1251 [07:12<16:58,  1.17s/it]"
     ]
    },
    {
     "name": "stdout",
     "output_type": "stream",
     "text": [
      "['/raid/jiang/projects/SubtleGAN/data/RSNA_ASNR_MICCAI_BraTS2021_TrainingData/BraTS2021_00126/BraTS2021_00126_t1.nii.gz']\n",
      "49 188\n",
      "49 212\n",
      "0 140\n"
     ]
    },
    {
     "name": "stderr",
     "output_type": "stream",
     "text": [
      "\r",
      " 31%|███       | 385/1251 [07:14<16:41,  1.16s/it]"
     ]
    },
    {
     "name": "stdout",
     "output_type": "stream",
     "text": [
      "['/raid/jiang/projects/SubtleGAN/data/RSNA_ASNR_MICCAI_BraTS2021_TrainingData/BraTS2021_00329/BraTS2021_00329_t1.nii.gz']\n",
      "51 186\n",
      "49 207\n",
      "3 139\n"
     ]
    },
    {
     "name": "stderr",
     "output_type": "stream",
     "text": [
      "\r",
      " 31%|███       | 386/1251 [07:15<16:10,  1.12s/it]"
     ]
    },
    {
     "name": "stdout",
     "output_type": "stream",
     "text": [
      "['/raid/jiang/projects/SubtleGAN/data/RSNA_ASNR_MICCAI_BraTS2021_TrainingData/BraTS2021_01242/BraTS2021_01242_t1.nii.gz']\n",
      "54 180\n",
      "45 213\n",
      "0 139\n"
     ]
    },
    {
     "name": "stderr",
     "output_type": "stream",
     "text": [
      "\r",
      " 31%|███       | 387/1251 [07:16<16:04,  1.12s/it]"
     ]
    },
    {
     "name": "stdout",
     "output_type": "stream",
     "text": [
      "['/raid/jiang/projects/SubtleGAN/data/RSNA_ASNR_MICCAI_BraTS2021_TrainingData/BraTS2021_00459/BraTS2021_00459_t1.nii.gz']\n",
      "55 184\n",
      "50 212\n",
      "7 138\n"
     ]
    },
    {
     "name": "stderr",
     "output_type": "stream",
     "text": [
      "\r",
      " 31%|███       | 388/1251 [07:17<15:55,  1.11s/it]"
     ]
    },
    {
     "name": "stdout",
     "output_type": "stream",
     "text": [
      "['/raid/jiang/projects/SubtleGAN/data/RSNA_ASNR_MICCAI_BraTS2021_TrainingData/BraTS2021_00481/BraTS2021_00481_t1.nii.gz']\n",
      "52 188\n",
      "32 210\n",
      "8 144\n"
     ]
    },
    {
     "name": "stderr",
     "output_type": "stream",
     "text": [
      "\r",
      " 31%|███       | 389/1251 [07:18<16:27,  1.15s/it]"
     ]
    },
    {
     "name": "stdout",
     "output_type": "stream",
     "text": [
      "['/raid/jiang/projects/SubtleGAN/data/RSNA_ASNR_MICCAI_BraTS2021_TrainingData/BraTS2021_01549/BraTS2021_01549_t1.nii.gz']\n",
      "51 185\n",
      "54 204\n",
      "0 141\n"
     ]
    },
    {
     "name": "stderr",
     "output_type": "stream",
     "text": [
      "\r",
      " 31%|███       | 390/1251 [07:19<16:13,  1.13s/it]"
     ]
    },
    {
     "name": "stdout",
     "output_type": "stream",
     "text": [
      "['/raid/jiang/projects/SubtleGAN/data/RSNA_ASNR_MICCAI_BraTS2021_TrainingData/BraTS2021_00111/BraTS2021_00111_t1.nii.gz']\n",
      "51 184\n",
      "39 213\n",
      "1 143\n"
     ]
    },
    {
     "name": "stderr",
     "output_type": "stream",
     "text": [
      "\r",
      " 31%|███▏      | 391/1251 [07:20<16:32,  1.15s/it]"
     ]
    },
    {
     "name": "stdout",
     "output_type": "stream",
     "text": [
      "['/raid/jiang/projects/SubtleGAN/data/RSNA_ASNR_MICCAI_BraTS2021_TrainingData/BraTS2021_01452/BraTS2021_01452_t1.nii.gz']\n",
      "49 192\n",
      "46 211\n",
      "0 140\n"
     ]
    },
    {
     "name": "stderr",
     "output_type": "stream",
     "text": [
      "\r",
      " 31%|███▏      | 392/1251 [07:22<16:59,  1.19s/it]"
     ]
    },
    {
     "name": "stdout",
     "output_type": "stream",
     "text": [
      "['/raid/jiang/projects/SubtleGAN/data/RSNA_ASNR_MICCAI_BraTS2021_TrainingData/BraTS2021_00095/BraTS2021_00095_t1.nii.gz']\n",
      "46 194\n",
      "23 215\n",
      "6 141\n"
     ]
    },
    {
     "name": "stderr",
     "output_type": "stream",
     "text": [
      "\r",
      " 31%|███▏      | 393/1251 [07:23<16:47,  1.17s/it]"
     ]
    },
    {
     "name": "stdout",
     "output_type": "stream",
     "text": [
      "['/raid/jiang/projects/SubtleGAN/data/RSNA_ASNR_MICCAI_BraTS2021_TrainingData/BraTS2021_01283/BraTS2021_01283_t1.nii.gz']\n",
      "47 191\n",
      "44 213\n",
      "1 138\n"
     ]
    },
    {
     "name": "stderr",
     "output_type": "stream",
     "text": [
      "\r",
      " 31%|███▏      | 394/1251 [07:24<17:01,  1.19s/it]"
     ]
    },
    {
     "name": "stdout",
     "output_type": "stream",
     "text": [
      "['/raid/jiang/projects/SubtleGAN/data/RSNA_ASNR_MICCAI_BraTS2021_TrainingData/BraTS2021_00309/BraTS2021_00309_t1.nii.gz']\n",
      "50 188\n",
      "40 219\n",
      "0 138\n"
     ]
    },
    {
     "name": "stderr",
     "output_type": "stream",
     "text": [
      "\r",
      " 32%|███▏      | 395/1251 [07:25<16:43,  1.17s/it]"
     ]
    },
    {
     "name": "stdout",
     "output_type": "stream",
     "text": [
      "['/raid/jiang/projects/SubtleGAN/data/RSNA_ASNR_MICCAI_BraTS2021_TrainingData/BraTS2021_01084/BraTS2021_01084_t1.nii.gz']\n",
      "52 185\n",
      "39 220\n",
      "4 140\n"
     ]
    },
    {
     "name": "stderr",
     "output_type": "stream",
     "text": [
      "\r",
      " 32%|███▏      | 396/1251 [07:26<16:57,  1.19s/it]"
     ]
    },
    {
     "name": "stdout",
     "output_type": "stream",
     "text": [
      "['/raid/jiang/projects/SubtleGAN/data/RSNA_ASNR_MICCAI_BraTS2021_TrainingData/BraTS2021_01646/BraTS2021_01646_t1.nii.gz']\n",
      "55 182\n",
      "56 214\n",
      "5 135\n"
     ]
    },
    {
     "name": "stderr",
     "output_type": "stream",
     "text": [
      "\r",
      " 32%|███▏      | 397/1251 [07:27<16:20,  1.15s/it]"
     ]
    },
    {
     "name": "stdout",
     "output_type": "stream",
     "text": [
      "['/raid/jiang/projects/SubtleGAN/data/RSNA_ASNR_MICCAI_BraTS2021_TrainingData/BraTS2021_01157/BraTS2021_01157_t1.nii.gz']\n",
      "54 182\n",
      "29 214\n",
      "2 147\n"
     ]
    },
    {
     "name": "stderr",
     "output_type": "stream",
     "text": [
      "\r",
      " 32%|███▏      | 398/1251 [07:29<16:25,  1.16s/it]"
     ]
    },
    {
     "name": "stdout",
     "output_type": "stream",
     "text": [
      "['/raid/jiang/projects/SubtleGAN/data/RSNA_ASNR_MICCAI_BraTS2021_TrainingData/BraTS2021_01561/BraTS2021_01561_t1.nii.gz']\n",
      "55 186\n",
      "44 211\n",
      "0 136\n"
     ]
    },
    {
     "name": "stderr",
     "output_type": "stream",
     "text": [
      "\r",
      " 32%|███▏      | 399/1251 [07:30<16:22,  1.15s/it]"
     ]
    },
    {
     "name": "stdout",
     "output_type": "stream",
     "text": [
      "['/raid/jiang/projects/SubtleGAN/data/RSNA_ASNR_MICCAI_BraTS2021_TrainingData/BraTS2021_01038/BraTS2021_01038_t1.nii.gz']\n",
      "54 185\n",
      "44 214\n",
      "0 136\n"
     ]
    },
    {
     "name": "stderr",
     "output_type": "stream",
     "text": [
      "\r",
      " 32%|███▏      | 400/1251 [07:31<16:07,  1.14s/it]"
     ]
    },
    {
     "name": "stdout",
     "output_type": "stream",
     "text": [
      "['/raid/jiang/projects/SubtleGAN/data/RSNA_ASNR_MICCAI_BraTS2021_TrainingData/BraTS2021_00731/BraTS2021_00731_t1.nii.gz']\n",
      "50 185\n",
      "52 206\n",
      "2 144\n"
     ]
    },
    {
     "name": "stderr",
     "output_type": "stream",
     "text": [
      "\r",
      " 32%|███▏      | 401/1251 [07:32<16:06,  1.14s/it]"
     ]
    },
    {
     "name": "stdout",
     "output_type": "stream",
     "text": [
      "['/raid/jiang/projects/SubtleGAN/data/RSNA_ASNR_MICCAI_BraTS2021_TrainingData/BraTS2021_01331/BraTS2021_01331_t1.nii.gz']\n",
      "51 187\n",
      "42 212\n",
      "3 138\n"
     ]
    },
    {
     "name": "stderr",
     "output_type": "stream",
     "text": [
      "\r",
      " 32%|███▏      | 402/1251 [07:33<15:57,  1.13s/it]"
     ]
    },
    {
     "name": "stdout",
     "output_type": "stream",
     "text": [
      "['/raid/jiang/projects/SubtleGAN/data/RSNA_ASNR_MICCAI_BraTS2021_TrainingData/BraTS2021_01644/BraTS2021_01644_t1.nii.gz']\n",
      "56 183\n",
      "56 215\n",
      "4 135\n"
     ]
    },
    {
     "name": "stderr",
     "output_type": "stream",
     "text": [
      "\r",
      " 32%|███▏      | 403/1251 [07:34<15:42,  1.11s/it]"
     ]
    },
    {
     "name": "stdout",
     "output_type": "stream",
     "text": [
      "['/raid/jiang/projects/SubtleGAN/data/RSNA_ASNR_MICCAI_BraTS2021_TrainingData/BraTS2021_01353/BraTS2021_01353_t1.nii.gz']\n",
      "51 187\n",
      "40 213\n",
      "0 140\n"
     ]
    },
    {
     "name": "stderr",
     "output_type": "stream",
     "text": [
      "\r",
      " 32%|███▏      | 404/1251 [07:35<15:38,  1.11s/it]"
     ]
    },
    {
     "name": "stdout",
     "output_type": "stream",
     "text": [
      "['/raid/jiang/projects/SubtleGAN/data/RSNA_ASNR_MICCAI_BraTS2021_TrainingData/BraTS2021_01200/BraTS2021_01200_t1.nii.gz']\n",
      "57 179\n",
      "49 207\n",
      "7 136\n"
     ]
    },
    {
     "name": "stderr",
     "output_type": "stream",
     "text": [
      "\r",
      " 32%|███▏      | 405/1251 [07:36<14:47,  1.05s/it]"
     ]
    },
    {
     "name": "stdout",
     "output_type": "stream",
     "text": [
      "['/raid/jiang/projects/SubtleGAN/data/RSNA_ASNR_MICCAI_BraTS2021_TrainingData/BraTS2021_01146/BraTS2021_01146_t1.nii.gz']\n",
      "53 181\n",
      "56 212\n",
      "10 138\n"
     ]
    },
    {
     "name": "stderr",
     "output_type": "stream",
     "text": [
      "\r",
      " 32%|███▏      | 406/1251 [07:37<14:50,  1.05s/it]"
     ]
    },
    {
     "name": "stdout",
     "output_type": "stream",
     "text": [
      "['/raid/jiang/projects/SubtleGAN/data/RSNA_ASNR_MICCAI_BraTS2021_TrainingData/BraTS2021_01172/BraTS2021_01172_t1.nii.gz']\n",
      "53 183\n",
      "34 216\n",
      "2 134\n"
     ]
    },
    {
     "name": "stderr",
     "output_type": "stream",
     "text": [
      "\r",
      " 33%|███▎      | 407/1251 [07:39<15:57,  1.13s/it]"
     ]
    },
    {
     "name": "stdout",
     "output_type": "stream",
     "text": [
      "['/raid/jiang/projects/SubtleGAN/data/RSNA_ASNR_MICCAI_BraTS2021_TrainingData/BraTS2021_00586/BraTS2021_00586_t1.nii.gz']\n",
      "52 185\n",
      "45 217\n",
      "0 139\n"
     ]
    },
    {
     "name": "stderr",
     "output_type": "stream",
     "text": [
      "\r",
      " 33%|███▎      | 408/1251 [07:40<15:20,  1.09s/it]"
     ]
    },
    {
     "name": "stdout",
     "output_type": "stream",
     "text": [
      "['/raid/jiang/projects/SubtleGAN/data/RSNA_ASNR_MICCAI_BraTS2021_TrainingData/BraTS2021_01456/BraTS2021_01456_t1.nii.gz']\n",
      "52 184\n",
      "55 213\n",
      "7 140\n"
     ]
    },
    {
     "name": "stderr",
     "output_type": "stream",
     "text": [
      "\r",
      " 33%|███▎      | 409/1251 [07:41<15:22,  1.10s/it]"
     ]
    },
    {
     "name": "stdout",
     "output_type": "stream",
     "text": [
      "['/raid/jiang/projects/SubtleGAN/data/RSNA_ASNR_MICCAI_BraTS2021_TrainingData/BraTS2021_01400/BraTS2021_01400_t1.nii.gz']\n",
      "57 182\n",
      "44 214\n",
      "0 141\n"
     ]
    },
    {
     "name": "stderr",
     "output_type": "stream",
     "text": [
      "\r",
      " 33%|███▎      | 410/1251 [07:42<15:24,  1.10s/it]"
     ]
    },
    {
     "name": "stdout",
     "output_type": "stream",
     "text": [
      "['/raid/jiang/projects/SubtleGAN/data/RSNA_ASNR_MICCAI_BraTS2021_TrainingData/BraTS2021_01616/BraTS2021_01616_t1.nii.gz']\n",
      "51 185\n",
      "43 204\n",
      "0 137\n"
     ]
    },
    {
     "name": "stderr",
     "output_type": "stream",
     "text": [
      "\r",
      " 33%|███▎      | 411/1251 [07:43<15:06,  1.08s/it]"
     ]
    },
    {
     "name": "stdout",
     "output_type": "stream",
     "text": [
      "['/raid/jiang/projects/SubtleGAN/data/RSNA_ASNR_MICCAI_BraTS2021_TrainingData/BraTS2021_00356/BraTS2021_00356_t1.nii.gz']\n",
      "51 184\n",
      "50 210\n",
      "2 136\n"
     ]
    },
    {
     "name": "stderr",
     "output_type": "stream",
     "text": [
      "\r",
      " 33%|███▎      | 412/1251 [07:44<15:23,  1.10s/it]"
     ]
    },
    {
     "name": "stdout",
     "output_type": "stream",
     "text": [
      "['/raid/jiang/projects/SubtleGAN/data/RSNA_ASNR_MICCAI_BraTS2021_TrainingData/BraTS2021_00157/BraTS2021_00157_t1.nii.gz']\n",
      "37 213\n",
      "49 211\n",
      "0 130\n"
     ]
    },
    {
     "name": "stderr",
     "output_type": "stream",
     "text": [
      "\r",
      " 33%|███▎      | 413/1251 [07:45<15:43,  1.13s/it]"
     ]
    },
    {
     "name": "stdout",
     "output_type": "stream",
     "text": [
      "['/raid/jiang/projects/SubtleGAN/data/RSNA_ASNR_MICCAI_BraTS2021_TrainingData/BraTS2021_01626/BraTS2021_01626_t1.nii.gz']\n",
      "52 184\n",
      "43 214\n",
      "0 142\n"
     ]
    },
    {
     "name": "stderr",
     "output_type": "stream",
     "text": [
      "\r",
      " 33%|███▎      | 414/1251 [07:46<15:58,  1.15s/it]"
     ]
    },
    {
     "name": "stdout",
     "output_type": "stream",
     "text": [
      "['/raid/jiang/projects/SubtleGAN/data/RSNA_ASNR_MICCAI_BraTS2021_TrainingData/BraTS2021_01493/BraTS2021_01493_t1.nii.gz']\n",
      "48 188\n",
      "41 214\n",
      "0 140\n"
     ]
    },
    {
     "name": "stderr",
     "output_type": "stream",
     "text": [
      "\r",
      " 33%|███▎      | 415/1251 [07:47<15:48,  1.13s/it]"
     ]
    },
    {
     "name": "stdout",
     "output_type": "stream",
     "text": [
      "['/raid/jiang/projects/SubtleGAN/data/RSNA_ASNR_MICCAI_BraTS2021_TrainingData/BraTS2021_00765/BraTS2021_00765_t1.nii.gz']\n",
      "53 188\n",
      "41 213\n",
      "0 138\n"
     ]
    },
    {
     "name": "stderr",
     "output_type": "stream",
     "text": [
      "\r",
      " 33%|███▎      | 416/1251 [07:49<15:44,  1.13s/it]"
     ]
    },
    {
     "name": "stdout",
     "output_type": "stream",
     "text": [
      "['/raid/jiang/projects/SubtleGAN/data/RSNA_ASNR_MICCAI_BraTS2021_TrainingData/BraTS2021_01470/BraTS2021_01470_t1.nii.gz']\n",
      "50 187\n",
      "43 213\n",
      "4 133\n"
     ]
    },
    {
     "name": "stderr",
     "output_type": "stream",
     "text": [
      "\r",
      " 33%|███▎      | 417/1251 [07:50<15:44,  1.13s/it]"
     ]
    },
    {
     "name": "stdout",
     "output_type": "stream",
     "text": [
      "['/raid/jiang/projects/SubtleGAN/data/RSNA_ASNR_MICCAI_BraTS2021_TrainingData/BraTS2021_00291/BraTS2021_00291_t1.nii.gz']\n",
      "50 184\n",
      "35 218\n",
      "0 152\n"
     ]
    },
    {
     "name": "stderr",
     "output_type": "stream",
     "text": [
      "\r",
      " 33%|███▎      | 418/1251 [07:51<15:38,  1.13s/it]"
     ]
    },
    {
     "name": "stdout",
     "output_type": "stream",
     "text": [
      "['/raid/jiang/projects/SubtleGAN/data/RSNA_ASNR_MICCAI_BraTS2021_TrainingData/BraTS2021_01007/BraTS2021_01007_t1.nii.gz']\n",
      "49 189\n",
      "40 210\n",
      "0 136\n"
     ]
    },
    {
     "name": "stderr",
     "output_type": "stream",
     "text": [
      "\r",
      " 33%|███▎      | 419/1251 [07:52<15:50,  1.14s/it]"
     ]
    },
    {
     "name": "stdout",
     "output_type": "stream",
     "text": [
      "['/raid/jiang/projects/SubtleGAN/data/RSNA_ASNR_MICCAI_BraTS2021_TrainingData/BraTS2021_00442/BraTS2021_00442_t1.nii.gz']\n",
      "47 190\n",
      "42 210\n",
      "0 135\n"
     ]
    },
    {
     "name": "stderr",
     "output_type": "stream",
     "text": [
      "\r",
      " 34%|███▎      | 420/1251 [07:53<15:09,  1.09s/it]"
     ]
    },
    {
     "name": "stdout",
     "output_type": "stream",
     "text": [
      "['/raid/jiang/projects/SubtleGAN/data/RSNA_ASNR_MICCAI_BraTS2021_TrainingData/BraTS2021_01154/BraTS2021_01154_t1.nii.gz']\n",
      "55 184\n",
      "36 206\n",
      "16 142\n"
     ]
    },
    {
     "name": "stderr",
     "output_type": "stream",
     "text": [
      "\r",
      " 34%|███▎      | 421/1251 [07:54<14:46,  1.07s/it]"
     ]
    },
    {
     "name": "stdout",
     "output_type": "stream",
     "text": [
      "['/raid/jiang/projects/SubtleGAN/data/RSNA_ASNR_MICCAI_BraTS2021_TrainingData/BraTS2021_01133/BraTS2021_01133_t1.nii.gz']\n",
      "48 189\n",
      "43 216\n",
      "0 137\n"
     ]
    },
    {
     "name": "stderr",
     "output_type": "stream",
     "text": [
      "\r",
      " 34%|███▎      | 422/1251 [07:55<14:26,  1.04s/it]"
     ]
    },
    {
     "name": "stdout",
     "output_type": "stream",
     "text": [
      "['/raid/jiang/projects/SubtleGAN/data/RSNA_ASNR_MICCAI_BraTS2021_TrainingData/BraTS2021_01304/BraTS2021_01304_t1.nii.gz']\n",
      "56 183\n",
      "48 210\n",
      "4 144\n"
     ]
    },
    {
     "name": "stderr",
     "output_type": "stream",
     "text": [
      "\r",
      " 34%|███▍      | 423/1251 [07:56<13:50,  1.00s/it]"
     ]
    },
    {
     "name": "stdout",
     "output_type": "stream",
     "text": [
      "['/raid/jiang/projects/SubtleGAN/data/RSNA_ASNR_MICCAI_BraTS2021_TrainingData/BraTS2021_00742/BraTS2021_00742_t1.nii.gz']\n",
      "54 184\n",
      "34 207\n",
      "6 146\n"
     ]
    },
    {
     "name": "stderr",
     "output_type": "stream",
     "text": [
      "\r",
      " 34%|███▍      | 424/1251 [07:57<14:18,  1.04s/it]"
     ]
    },
    {
     "name": "stdout",
     "output_type": "stream",
     "text": [
      "['/raid/jiang/projects/SubtleGAN/data/RSNA_ASNR_MICCAI_BraTS2021_TrainingData/BraTS2021_01001/BraTS2021_01001_t1.nii.gz']\n",
      "55 181\n",
      "33 215\n",
      "0 140\n"
     ]
    },
    {
     "name": "stderr",
     "output_type": "stream",
     "text": [
      "\r",
      " 34%|███▍      | 425/1251 [07:58<14:36,  1.06s/it]"
     ]
    },
    {
     "name": "stdout",
     "output_type": "stream",
     "text": [
      "['/raid/jiang/projects/SubtleGAN/data/RSNA_ASNR_MICCAI_BraTS2021_TrainingData/BraTS2021_00545/BraTS2021_00545_t1.nii.gz']\n",
      "52 189\n",
      "41 208\n",
      "5 136\n"
     ]
    },
    {
     "name": "stderr",
     "output_type": "stream",
     "text": [
      "\r",
      " 34%|███▍      | 426/1251 [07:59<14:48,  1.08s/it]"
     ]
    },
    {
     "name": "stdout",
     "output_type": "stream",
     "text": [
      "['/raid/jiang/projects/SubtleGAN/data/RSNA_ASNR_MICCAI_BraTS2021_TrainingData/BraTS2021_01335/BraTS2021_01335_t1.nii.gz']\n",
      "49 190\n",
      "48 213\n",
      "0 142\n"
     ]
    },
    {
     "name": "stderr",
     "output_type": "stream",
     "text": [
      "\r",
      " 34%|███▍      | 427/1251 [08:00<15:04,  1.10s/it]"
     ]
    },
    {
     "name": "stdout",
     "output_type": "stream",
     "text": [
      "['/raid/jiang/projects/SubtleGAN/data/RSNA_ASNR_MICCAI_BraTS2021_TrainingData/BraTS2021_00106/BraTS2021_00106_t1.nii.gz']\n",
      "44 193\n",
      "52 211\n",
      "0 139\n"
     ]
    },
    {
     "name": "stderr",
     "output_type": "stream",
     "text": [
      "\r",
      " 34%|███▍      | 428/1251 [08:02<15:16,  1.11s/it]"
     ]
    },
    {
     "name": "stdout",
     "output_type": "stream",
     "text": [
      "['/raid/jiang/projects/SubtleGAN/data/RSNA_ASNR_MICCAI_BraTS2021_TrainingData/BraTS2021_01026/BraTS2021_01026_t1.nii.gz']\n",
      "49 188\n",
      "42 218\n",
      "0 141\n"
     ]
    },
    {
     "name": "stderr",
     "output_type": "stream",
     "text": [
      "\r",
      " 34%|███▍      | 429/1251 [08:03<15:35,  1.14s/it]"
     ]
    },
    {
     "name": "stdout",
     "output_type": "stream",
     "text": [
      "['/raid/jiang/projects/SubtleGAN/data/RSNA_ASNR_MICCAI_BraTS2021_TrainingData/BraTS2021_00155/BraTS2021_00155_t1.nii.gz']\n",
      "51 187\n",
      "43 221\n",
      "0 136\n"
     ]
    },
    {
     "name": "stderr",
     "output_type": "stream",
     "text": [
      "\r",
      " 34%|███▍      | 430/1251 [08:04<15:35,  1.14s/it]"
     ]
    },
    {
     "name": "stdout",
     "output_type": "stream",
     "text": [
      "['/raid/jiang/projects/SubtleGAN/data/RSNA_ASNR_MICCAI_BraTS2021_TrainingData/BraTS2021_01211/BraTS2021_01211_t1.nii.gz']\n",
      "43 194\n",
      "47 206\n",
      "0 141\n"
     ]
    },
    {
     "name": "stderr",
     "output_type": "stream",
     "text": [
      "\r",
      " 34%|███▍      | 431/1251 [08:05<15:39,  1.15s/it]"
     ]
    },
    {
     "name": "stdout",
     "output_type": "stream",
     "text": [
      "['/raid/jiang/projects/SubtleGAN/data/RSNA_ASNR_MICCAI_BraTS2021_TrainingData/BraTS2021_01341/BraTS2021_01341_t1.nii.gz']\n",
      "52 188\n",
      "40 217\n",
      "0 140\n"
     ]
    },
    {
     "name": "stderr",
     "output_type": "stream",
     "text": [
      "\r",
      " 35%|███▍      | 432/1251 [08:06<16:04,  1.18s/it]"
     ]
    },
    {
     "name": "stdout",
     "output_type": "stream",
     "text": [
      "['/raid/jiang/projects/SubtleGAN/data/RSNA_ASNR_MICCAI_BraTS2021_TrainingData/BraTS2021_01604/BraTS2021_01604_t1.nii.gz']\n",
      "55 182\n",
      "41 218\n",
      "4 141\n"
     ]
    },
    {
     "name": "stderr",
     "output_type": "stream",
     "text": [
      "\r",
      " 35%|███▍      | 433/1251 [08:07<15:31,  1.14s/it]"
     ]
    },
    {
     "name": "stdout",
     "output_type": "stream",
     "text": [
      "['/raid/jiang/projects/SubtleGAN/data/RSNA_ASNR_MICCAI_BraTS2021_TrainingData/BraTS2021_00359/BraTS2021_00359_t1.nii.gz']\n",
      "51 185\n",
      "45 215\n",
      "0 139\n"
     ]
    },
    {
     "name": "stderr",
     "output_type": "stream",
     "text": [
      "\r",
      " 35%|███▍      | 434/1251 [08:09<15:54,  1.17s/it]"
     ]
    },
    {
     "name": "stdout",
     "output_type": "stream",
     "text": [
      "['/raid/jiang/projects/SubtleGAN/data/RSNA_ASNR_MICCAI_BraTS2021_TrainingData/BraTS2021_01606/BraTS2021_01606_t1.nii.gz']\n",
      "53 185\n",
      "48 211\n",
      "0 139\n"
     ]
    },
    {
     "name": "stderr",
     "output_type": "stream",
     "text": [
      "\r",
      " 35%|███▍      | 435/1251 [08:10<16:18,  1.20s/it]"
     ]
    },
    {
     "name": "stdout",
     "output_type": "stream",
     "text": [
      "['/raid/jiang/projects/SubtleGAN/data/RSNA_ASNR_MICCAI_BraTS2021_TrainingData/BraTS2021_01270/BraTS2021_01270_t1.nii.gz']\n",
      "51 188\n",
      "33 219\n",
      "0 142\n"
     ]
    },
    {
     "name": "stderr",
     "output_type": "stream",
     "text": [
      "\r",
      " 35%|███▍      | 436/1251 [08:11<16:44,  1.23s/it]"
     ]
    },
    {
     "name": "stdout",
     "output_type": "stream",
     "text": [
      "['/raid/jiang/projects/SubtleGAN/data/RSNA_ASNR_MICCAI_BraTS2021_TrainingData/BraTS2021_00575/BraTS2021_00575_t1.nii.gz']\n",
      "50 189\n",
      "41 215\n",
      "17 139\n"
     ]
    },
    {
     "name": "stderr",
     "output_type": "stream",
     "text": [
      "\r",
      " 35%|███▍      | 437/1251 [08:12<16:00,  1.18s/it]"
     ]
    },
    {
     "name": "stdout",
     "output_type": "stream",
     "text": [
      "['/raid/jiang/projects/SubtleGAN/data/RSNA_ASNR_MICCAI_BraTS2021_TrainingData/BraTS2021_01276/BraTS2021_01276_t1.nii.gz']\n",
      "51 186\n",
      "43 212\n",
      "1 140\n"
     ]
    },
    {
     "name": "stderr",
     "output_type": "stream",
     "text": [
      "\r",
      " 35%|███▌      | 438/1251 [08:13<15:33,  1.15s/it]"
     ]
    },
    {
     "name": "stdout",
     "output_type": "stream",
     "text": [
      "['/raid/jiang/projects/SubtleGAN/data/RSNA_ASNR_MICCAI_BraTS2021_TrainingData/BraTS2021_00230/BraTS2021_00230_t1.nii.gz']\n",
      "47 188\n",
      "49 213\n",
      "0 141\n"
     ]
    },
    {
     "name": "stderr",
     "output_type": "stream",
     "text": [
      "\r",
      " 35%|███▌      | 439/1251 [08:14<15:41,  1.16s/it]"
     ]
    },
    {
     "name": "stdout",
     "output_type": "stream",
     "text": [
      "['/raid/jiang/projects/SubtleGAN/data/RSNA_ASNR_MICCAI_BraTS2021_TrainingData/BraTS2021_01170/BraTS2021_01170_t1.nii.gz']\n",
      "51 180\n",
      "42 212\n",
      "0 134\n"
     ]
    },
    {
     "name": "stderr",
     "output_type": "stream",
     "text": [
      "\r",
      " 35%|███▌      | 440/1251 [08:16<15:16,  1.13s/it]"
     ]
    },
    {
     "name": "stdout",
     "output_type": "stream",
     "text": [
      "['/raid/jiang/projects/SubtleGAN/data/RSNA_ASNR_MICCAI_BraTS2021_TrainingData/BraTS2021_00108/BraTS2021_00108_t1.nii.gz']\n",
      "49 188\n",
      "43 211\n",
      "0 140\n"
     ]
    },
    {
     "name": "stderr",
     "output_type": "stream",
     "text": [
      "\r",
      " 35%|███▌      | 441/1251 [08:17<15:36,  1.16s/it]"
     ]
    },
    {
     "name": "stdout",
     "output_type": "stream",
     "text": [
      "['/raid/jiang/projects/SubtleGAN/data/RSNA_ASNR_MICCAI_BraTS2021_TrainingData/BraTS2021_01388/BraTS2021_01388_t1.nii.gz']\n",
      "47 189\n",
      "46 217\n",
      "0 139\n"
     ]
    },
    {
     "name": "stderr",
     "output_type": "stream",
     "text": [
      "\r",
      " 35%|███▌      | 442/1251 [08:18<15:36,  1.16s/it]"
     ]
    },
    {
     "name": "stdout",
     "output_type": "stream",
     "text": [
      "['/raid/jiang/projects/SubtleGAN/data/RSNA_ASNR_MICCAI_BraTS2021_TrainingData/BraTS2021_01111/BraTS2021_01111_t1.nii.gz']\n",
      "50 188\n",
      "40 219\n",
      "0 139\n"
     ]
    },
    {
     "name": "stderr",
     "output_type": "stream",
     "text": [
      "\r",
      " 35%|███▌      | 443/1251 [08:19<16:26,  1.22s/it]"
     ]
    },
    {
     "name": "stdout",
     "output_type": "stream",
     "text": [
      "['/raid/jiang/projects/SubtleGAN/data/RSNA_ASNR_MICCAI_BraTS2021_TrainingData/BraTS2021_00692/BraTS2021_00692_t1.nii.gz']\n",
      "49 193\n",
      "22 213\n",
      "0 145\n"
     ]
    },
    {
     "name": "stderr",
     "output_type": "stream",
     "text": [
      "\r",
      " 35%|███▌      | 444/1251 [08:20<16:24,  1.22s/it]"
     ]
    },
    {
     "name": "stdout",
     "output_type": "stream",
     "text": [
      "['/raid/jiang/projects/SubtleGAN/data/RSNA_ASNR_MICCAI_BraTS2021_TrainingData/BraTS2021_00407/BraTS2021_00407_t1.nii.gz']\n",
      "52 185\n",
      "48 212\n",
      "0 143\n"
     ]
    },
    {
     "name": "stderr",
     "output_type": "stream",
     "text": [
      "\r",
      " 36%|███▌      | 445/1251 [08:22<15:44,  1.17s/it]"
     ]
    },
    {
     "name": "stdout",
     "output_type": "stream",
     "text": [
      "['/raid/jiang/projects/SubtleGAN/data/RSNA_ASNR_MICCAI_BraTS2021_TrainingData/BraTS2021_01137/BraTS2021_01137_t1.nii.gz']\n",
      "55 182\n",
      "60 216\n",
      "2 140\n"
     ]
    },
    {
     "name": "stderr",
     "output_type": "stream",
     "text": [
      "\r",
      " 36%|███▌      | 446/1251 [08:23<15:41,  1.17s/it]"
     ]
    },
    {
     "name": "stdout",
     "output_type": "stream",
     "text": [
      "['/raid/jiang/projects/SubtleGAN/data/RSNA_ASNR_MICCAI_BraTS2021_TrainingData/BraTS2021_01098/BraTS2021_01098_t1.nii.gz']\n",
      "49 186\n",
      "38 217\n",
      "0 141\n"
     ]
    },
    {
     "name": "stderr",
     "output_type": "stream",
     "text": [
      "\r",
      " 36%|███▌      | 447/1251 [08:24<15:20,  1.15s/it]"
     ]
    },
    {
     "name": "stdout",
     "output_type": "stream",
     "text": [
      "['/raid/jiang/projects/SubtleGAN/data/RSNA_ASNR_MICCAI_BraTS2021_TrainingData/BraTS2021_01436/BraTS2021_01436_t1.nii.gz']\n",
      "49 188\n",
      "48 210\n",
      "10 139\n"
     ]
    },
    {
     "name": "stderr",
     "output_type": "stream",
     "text": [
      "\r",
      " 36%|███▌      | 448/1251 [08:25<15:33,  1.16s/it]"
     ]
    },
    {
     "name": "stdout",
     "output_type": "stream",
     "text": [
      "['/raid/jiang/projects/SubtleGAN/data/RSNA_ASNR_MICCAI_BraTS2021_TrainingData/BraTS2021_00313/BraTS2021_00313_t1.nii.gz']\n",
      "49 189\n",
      "43 215\n",
      "0 143\n"
     ]
    },
    {
     "name": "stderr",
     "output_type": "stream",
     "text": [
      "\r",
      " 36%|███▌      | 449/1251 [08:26<15:47,  1.18s/it]"
     ]
    },
    {
     "name": "stdout",
     "output_type": "stream",
     "text": [
      "['/raid/jiang/projects/SubtleGAN/data/RSNA_ASNR_MICCAI_BraTS2021_TrainingData/BraTS2021_00194/BraTS2021_00194_t1.nii.gz']\n",
      "55 182\n",
      "45 214\n",
      "0 141\n"
     ]
    },
    {
     "name": "stderr",
     "output_type": "stream",
     "text": [
      "\r",
      " 36%|███▌      | 450/1251 [08:27<15:19,  1.15s/it]"
     ]
    },
    {
     "name": "stdout",
     "output_type": "stream",
     "text": [
      "['/raid/jiang/projects/SubtleGAN/data/RSNA_ASNR_MICCAI_BraTS2021_TrainingData/BraTS2021_01199/BraTS2021_01199_t1.nii.gz']\n",
      "53 184\n",
      "43 214\n",
      "3 139\n"
     ]
    },
    {
     "name": "stderr",
     "output_type": "stream",
     "text": [
      "\r",
      " 36%|███▌      | 451/1251 [08:29<15:53,  1.19s/it]"
     ]
    },
    {
     "name": "stdout",
     "output_type": "stream",
     "text": [
      "['/raid/jiang/projects/SubtleGAN/data/RSNA_ASNR_MICCAI_BraTS2021_TrainingData/BraTS2021_01623/BraTS2021_01623_t1.nii.gz']\n",
      "54 185\n",
      "50 213\n",
      "0 142\n"
     ]
    },
    {
     "name": "stderr",
     "output_type": "stream",
     "text": [
      "\r",
      " 36%|███▌      | 452/1251 [08:30<16:03,  1.21s/it]"
     ]
    },
    {
     "name": "stdout",
     "output_type": "stream",
     "text": [
      "['/raid/jiang/projects/SubtleGAN/data/RSNA_ASNR_MICCAI_BraTS2021_TrainingData/BraTS2021_00483/BraTS2021_00483_t1.nii.gz']\n",
      "49 189\n",
      "28 216\n",
      "0 137\n"
     ]
    },
    {
     "name": "stderr",
     "output_type": "stream",
     "text": [
      "\r",
      " 36%|███▌      | 453/1251 [08:31<16:39,  1.25s/it]"
     ]
    },
    {
     "name": "stdout",
     "output_type": "stream",
     "text": [
      "['/raid/jiang/projects/SubtleGAN/data/RSNA_ASNR_MICCAI_BraTS2021_TrainingData/BraTS2021_01008/BraTS2021_01008_t1.nii.gz']\n",
      "52 183\n",
      "48 213\n",
      "2 137\n"
     ]
    },
    {
     "name": "stderr",
     "output_type": "stream",
     "text": [
      "\r",
      " 36%|███▋      | 454/1251 [08:32<16:09,  1.22s/it]"
     ]
    },
    {
     "name": "stdout",
     "output_type": "stream",
     "text": [
      "['/raid/jiang/projects/SubtleGAN/data/RSNA_ASNR_MICCAI_BraTS2021_TrainingData/BraTS2021_00529/BraTS2021_00529_t1.nii.gz']\n",
      "52 189\n",
      "34 211\n",
      "3 145\n",
      "['/raid/jiang/projects/SubtleGAN/data/RSNA_ASNR_MICCAI_BraTS2021_TrainingData/BraTS2021_01385/BraTS2021_01385_t1.nii.gz']\n"
     ]
    },
    {
     "name": "stderr",
     "output_type": "stream",
     "text": [
      "\r",
      " 36%|███▋      | 455/1251 [08:34<16:36,  1.25s/it]"
     ]
    },
    {
     "name": "stdout",
     "output_type": "stream",
     "text": [
      "47 188\n",
      "35 219\n",
      "0 143\n"
     ]
    },
    {
     "name": "stderr",
     "output_type": "stream",
     "text": [
      "\r",
      " 36%|███▋      | 456/1251 [08:35<16:40,  1.26s/it]"
     ]
    },
    {
     "name": "stdout",
     "output_type": "stream",
     "text": [
      "['/raid/jiang/projects/SubtleGAN/data/RSNA_ASNR_MICCAI_BraTS2021_TrainingData/BraTS2021_01090/BraTS2021_01090_t1.nii.gz']\n",
      "47 189\n",
      "48 210\n",
      "0 136\n"
     ]
    },
    {
     "name": "stderr",
     "output_type": "stream",
     "text": [
      "\r",
      " 37%|███▋      | 457/1251 [08:36<15:54,  1.20s/it]"
     ]
    },
    {
     "name": "stdout",
     "output_type": "stream",
     "text": [
      "['/raid/jiang/projects/SubtleGAN/data/RSNA_ASNR_MICCAI_BraTS2021_TrainingData/BraTS2021_00217/BraTS2021_00217_t1.nii.gz']\n",
      "49 188\n",
      "35 218\n",
      "0 140\n"
     ]
    },
    {
     "name": "stderr",
     "output_type": "stream",
     "text": [
      "\r",
      " 37%|███▋      | 458/1251 [08:37<15:49,  1.20s/it]"
     ]
    },
    {
     "name": "stdout",
     "output_type": "stream",
     "text": [
      "['/raid/jiang/projects/SubtleGAN/data/RSNA_ASNR_MICCAI_BraTS2021_TrainingData/BraTS2021_00320/BraTS2021_00320_t1.nii.gz']\n",
      "54 183\n",
      "42 214\n",
      "0 139\n"
     ]
    },
    {
     "name": "stderr",
     "output_type": "stream",
     "text": [
      "\r",
      " 37%|███▋      | 459/1251 [08:38<15:22,  1.17s/it]"
     ]
    },
    {
     "name": "stdout",
     "output_type": "stream",
     "text": [
      "['/raid/jiang/projects/SubtleGAN/data/RSNA_ASNR_MICCAI_BraTS2021_TrainingData/BraTS2021_01130/BraTS2021_01130_t1.nii.gz']\n",
      "46 188\n",
      "49 210\n",
      "0 140\n"
     ]
    },
    {
     "name": "stderr",
     "output_type": "stream",
     "text": [
      "\r",
      " 37%|███▋      | 460/1251 [08:40<16:03,  1.22s/it]"
     ]
    },
    {
     "name": "stdout",
     "output_type": "stream",
     "text": [
      "['/raid/jiang/projects/SubtleGAN/data/RSNA_ASNR_MICCAI_BraTS2021_TrainingData/BraTS2021_01569/BraTS2021_01569_t1.nii.gz']\n",
      "54 182\n",
      "40 214\n",
      "0 151\n"
     ]
    },
    {
     "name": "stderr",
     "output_type": "stream",
     "text": [
      "\r",
      " 37%|███▋      | 461/1251 [08:41<16:39,  1.27s/it]"
     ]
    },
    {
     "name": "stdout",
     "output_type": "stream",
     "text": [
      "['/raid/jiang/projects/SubtleGAN/data/RSNA_ASNR_MICCAI_BraTS2021_TrainingData/BraTS2021_01000/BraTS2021_01000_t1.nii.gz']\n",
      "40 192\n",
      "33 224\n",
      "0 141\n"
     ]
    },
    {
     "name": "stderr",
     "output_type": "stream",
     "text": [
      "\r",
      " 37%|███▋      | 462/1251 [08:42<16:54,  1.29s/it]"
     ]
    },
    {
     "name": "stdout",
     "output_type": "stream",
     "text": [
      "['/raid/jiang/projects/SubtleGAN/data/RSNA_ASNR_MICCAI_BraTS2021_TrainingData/BraTS2021_00071/BraTS2021_00071_t1.nii.gz']\n",
      "51 189\n",
      "27 211\n",
      "0 142\n"
     ]
    },
    {
     "name": "stderr",
     "output_type": "stream",
     "text": [
      "\r",
      " 37%|███▋      | 463/1251 [08:44<17:28,  1.33s/it]"
     ]
    },
    {
     "name": "stdout",
     "output_type": "stream",
     "text": [
      "['/raid/jiang/projects/SubtleGAN/data/RSNA_ASNR_MICCAI_BraTS2021_TrainingData/BraTS2021_00026/BraTS2021_00026_t1.nii.gz']\n",
      "46 194\n",
      "36 212\n",
      "0 141\n",
      "['/raid/jiang/projects/SubtleGAN/data/RSNA_ASNR_MICCAI_BraTS2021_TrainingData/BraTS2021_01023/BraTS2021_01023_t1.nii.gz']\n"
     ]
    },
    {
     "name": "stderr",
     "output_type": "stream",
     "text": [
      "\r",
      " 37%|███▋      | 464/1251 [08:45<16:45,  1.28s/it]"
     ]
    },
    {
     "name": "stdout",
     "output_type": "stream",
     "text": [
      "47 190\n",
      "47 210\n",
      "2 136\n"
     ]
    },
    {
     "name": "stderr",
     "output_type": "stream",
     "text": [
      "\r",
      " 37%|███▋      | 465/1251 [08:46<16:28,  1.26s/it]"
     ]
    },
    {
     "name": "stdout",
     "output_type": "stream",
     "text": [
      "['/raid/jiang/projects/SubtleGAN/data/RSNA_ASNR_MICCAI_BraTS2021_TrainingData/BraTS2021_01627/BraTS2021_01627_t1.nii.gz']\n",
      "56 183\n",
      "48 213\n",
      "0 148\n"
     ]
    },
    {
     "name": "stderr",
     "output_type": "stream",
     "text": [
      "\r",
      " 37%|███▋      | 466/1251 [08:47<16:06,  1.23s/it]"
     ]
    },
    {
     "name": "stdout",
     "output_type": "stream",
     "text": [
      "['/raid/jiang/projects/SubtleGAN/data/RSNA_ASNR_MICCAI_BraTS2021_TrainingData/BraTS2021_00525/BraTS2021_00525_t1.nii.gz']\n",
      "49 191\n",
      "38 212\n",
      "0 147\n"
     ]
    },
    {
     "name": "stderr",
     "output_type": "stream",
     "text": [
      "\r",
      " 37%|███▋      | 467/1251 [08:49<16:03,  1.23s/it]"
     ]
    },
    {
     "name": "stdout",
     "output_type": "stream",
     "text": [
      "['/raid/jiang/projects/SubtleGAN/data/RSNA_ASNR_MICCAI_BraTS2021_TrainingData/BraTS2021_00274/BraTS2021_00274_t1.nii.gz']\n",
      "46 187\n",
      "47 213\n",
      "1 138\n"
     ]
    },
    {
     "name": "stderr",
     "output_type": "stream",
     "text": [
      "\r",
      " 37%|███▋      | 468/1251 [08:50<15:47,  1.21s/it]"
     ]
    },
    {
     "name": "stdout",
     "output_type": "stream",
     "text": [
      "['/raid/jiang/projects/SubtleGAN/data/RSNA_ASNR_MICCAI_BraTS2021_TrainingData/BraTS2021_00128/BraTS2021_00128_t1.nii.gz']\n",
      "49 185\n",
      "58 215\n",
      "0 140\n"
     ]
    },
    {
     "name": "stderr",
     "output_type": "stream",
     "text": [
      "\r",
      " 37%|███▋      | 469/1251 [08:51<15:12,  1.17s/it]"
     ]
    },
    {
     "name": "stdout",
     "output_type": "stream",
     "text": [
      "['/raid/jiang/projects/SubtleGAN/data/RSNA_ASNR_MICCAI_BraTS2021_TrainingData/BraTS2021_00570/BraTS2021_00570_t1.nii.gz']\n",
      "57 184\n",
      "51 216\n",
      "41 142\n"
     ]
    },
    {
     "name": "stderr",
     "output_type": "stream",
     "text": [
      "\r",
      " 38%|███▊      | 470/1251 [08:52<14:35,  1.12s/it]"
     ]
    },
    {
     "name": "stdout",
     "output_type": "stream",
     "text": [
      "['/raid/jiang/projects/SubtleGAN/data/RSNA_ASNR_MICCAI_BraTS2021_TrainingData/BraTS2021_01063/BraTS2021_01063_t1.nii.gz']\n",
      "52 184\n",
      "45 214\n",
      "0 142\n"
     ]
    },
    {
     "name": "stderr",
     "output_type": "stream",
     "text": [
      "\r",
      " 38%|███▊      | 471/1251 [08:53<14:54,  1.15s/it]"
     ]
    },
    {
     "name": "stdout",
     "output_type": "stream",
     "text": [
      "['/raid/jiang/projects/SubtleGAN/data/RSNA_ASNR_MICCAI_BraTS2021_TrainingData/BraTS2021_00138/BraTS2021_00138_t1.nii.gz']\n",
      "49 188\n",
      "44 215\n",
      "0 137\n"
     ]
    },
    {
     "name": "stderr",
     "output_type": "stream",
     "text": [
      "\r",
      " 38%|███▊      | 472/1251 [08:54<15:15,  1.18s/it]"
     ]
    },
    {
     "name": "stdout",
     "output_type": "stream",
     "text": [
      "['/raid/jiang/projects/SubtleGAN/data/RSNA_ASNR_MICCAI_BraTS2021_TrainingData/BraTS2021_01258/BraTS2021_01258_t1.nii.gz']\n",
      "49 187\n",
      "41 214\n",
      "4 140\n"
     ]
    },
    {
     "name": "stderr",
     "output_type": "stream",
     "text": [
      "\r",
      " 38%|███▊      | 473/1251 [08:55<14:56,  1.15s/it]"
     ]
    },
    {
     "name": "stdout",
     "output_type": "stream",
     "text": [
      "['/raid/jiang/projects/SubtleGAN/data/RSNA_ASNR_MICCAI_BraTS2021_TrainingData/BraTS2021_00170/BraTS2021_00170_t1.nii.gz']\n",
      "56 180\n",
      "45 214\n",
      "6 142\n"
     ]
    },
    {
     "name": "stderr",
     "output_type": "stream",
     "text": [
      "\r",
      " 38%|███▊      | 474/1251 [08:57<15:20,  1.18s/it]"
     ]
    },
    {
     "name": "stdout",
     "output_type": "stream",
     "text": [
      "['/raid/jiang/projects/SubtleGAN/data/RSNA_ASNR_MICCAI_BraTS2021_TrainingData/BraTS2021_01326/BraTS2021_01326_t1.nii.gz']\n",
      "48 186\n",
      "48 216\n",
      "0 139\n"
     ]
    },
    {
     "name": "stderr",
     "output_type": "stream",
     "text": [
      "\r",
      " 38%|███▊      | 475/1251 [08:58<15:29,  1.20s/it]"
     ]
    },
    {
     "name": "stdout",
     "output_type": "stream",
     "text": [
      "['/raid/jiang/projects/SubtleGAN/data/RSNA_ASNR_MICCAI_BraTS2021_TrainingData/BraTS2021_01273/BraTS2021_01273_t1.nii.gz']\n",
      "52 186\n",
      "45 211\n",
      "0 137\n"
     ]
    },
    {
     "name": "stderr",
     "output_type": "stream",
     "text": [
      "\r",
      " 38%|███▊      | 476/1251 [08:59<15:19,  1.19s/it]"
     ]
    },
    {
     "name": "stdout",
     "output_type": "stream",
     "text": [
      "['/raid/jiang/projects/SubtleGAN/data/RSNA_ASNR_MICCAI_BraTS2021_TrainingData/BraTS2021_01360/BraTS2021_01360_t1.nii.gz']\n",
      "54 184\n",
      "46 210\n",
      "0 138\n"
     ]
    },
    {
     "name": "stderr",
     "output_type": "stream",
     "text": [
      "\r",
      " 38%|███▊      | 477/1251 [09:00<15:37,  1.21s/it]"
     ]
    },
    {
     "name": "stdout",
     "output_type": "stream",
     "text": [
      "['/raid/jiang/projects/SubtleGAN/data/RSNA_ASNR_MICCAI_BraTS2021_TrainingData/BraTS2021_00063/BraTS2021_00063_t1.nii.gz']\n",
      "48 192\n",
      "29 212\n",
      "0 144\n"
     ]
    },
    {
     "name": "stderr",
     "output_type": "stream",
     "text": [
      "\r",
      " 38%|███▊      | 478/1251 [09:02<16:34,  1.29s/it]"
     ]
    },
    {
     "name": "stdout",
     "output_type": "stream",
     "text": [
      "['/raid/jiang/projects/SubtleGAN/data/RSNA_ASNR_MICCAI_BraTS2021_TrainingData/BraTS2021_01059/BraTS2021_01059_t1.nii.gz']\n",
      "50 187\n",
      "42 217\n",
      "0 138\n"
     ]
    },
    {
     "name": "stderr",
     "output_type": "stream",
     "text": [
      "\r",
      " 38%|███▊      | 479/1251 [09:03<16:39,  1.30s/it]"
     ]
    },
    {
     "name": "stdout",
     "output_type": "stream",
     "text": [
      "['/raid/jiang/projects/SubtleGAN/data/RSNA_ASNR_MICCAI_BraTS2021_TrainingData/BraTS2021_00663/BraTS2021_00663_t1.nii.gz']\n",
      "44 193\n",
      "40 206\n",
      "0 146\n"
     ]
    },
    {
     "name": "stderr",
     "output_type": "stream",
     "text": [
      "\r",
      " 38%|███▊      | 480/1251 [09:04<16:46,  1.31s/it]"
     ]
    },
    {
     "name": "stdout",
     "output_type": "stream",
     "text": [
      "['/raid/jiang/projects/SubtleGAN/data/RSNA_ASNR_MICCAI_BraTS2021_TrainingData/BraTS2021_00400/BraTS2021_00400_t1.nii.gz']\n",
      "49 186\n",
      "39 213\n",
      "0 145\n"
     ]
    },
    {
     "name": "stderr",
     "output_type": "stream",
     "text": [
      "\r",
      " 38%|███▊      | 481/1251 [09:06<16:23,  1.28s/it]"
     ]
    },
    {
     "name": "stdout",
     "output_type": "stream",
     "text": [
      "['/raid/jiang/projects/SubtleGAN/data/RSNA_ASNR_MICCAI_BraTS2021_TrainingData/BraTS2021_00266/BraTS2021_00266_t1.nii.gz']\n",
      "53 182\n",
      "46 214\n",
      "0 141\n"
     ]
    },
    {
     "name": "stderr",
     "output_type": "stream",
     "text": [
      "\r",
      " 39%|███▊      | 482/1251 [09:07<16:07,  1.26s/it]"
     ]
    },
    {
     "name": "stdout",
     "output_type": "stream",
     "text": [
      "['/raid/jiang/projects/SubtleGAN/data/RSNA_ASNR_MICCAI_BraTS2021_TrainingData/BraTS2021_01612/BraTS2021_01612_t1.nii.gz']\n",
      "54 183\n",
      "50 212\n",
      "0 137\n"
     ]
    },
    {
     "name": "stderr",
     "output_type": "stream",
     "text": [
      "\r",
      " 39%|███▊      | 483/1251 [09:08<15:26,  1.21s/it]"
     ]
    },
    {
     "name": "stdout",
     "output_type": "stream",
     "text": [
      "['/raid/jiang/projects/SubtleGAN/data/RSNA_ASNR_MICCAI_BraTS2021_TrainingData/BraTS2021_00118/BraTS2021_00118_t1.nii.gz']\n",
      "50 186\n",
      "44 212\n",
      "0 140\n"
     ]
    },
    {
     "name": "stderr",
     "output_type": "stream",
     "text": [
      "\r",
      " 39%|███▊      | 484/1251 [09:09<15:27,  1.21s/it]"
     ]
    },
    {
     "name": "stdout",
     "output_type": "stream",
     "text": [
      "['/raid/jiang/projects/SubtleGAN/data/RSNA_ASNR_MICCAI_BraTS2021_TrainingData/BraTS2021_00207/BraTS2021_00207_t1.nii.gz']\n",
      "51 182\n",
      "44 213\n",
      "0 142\n"
     ]
    },
    {
     "name": "stderr",
     "output_type": "stream",
     "text": [
      "\r",
      " 39%|███▉      | 485/1251 [09:10<16:04,  1.26s/it]"
     ]
    },
    {
     "name": "stdout",
     "output_type": "stream",
     "text": [
      "['/raid/jiang/projects/SubtleGAN/data/RSNA_ASNR_MICCAI_BraTS2021_TrainingData/BraTS2021_01311/BraTS2021_01311_t1.nii.gz']\n",
      "50 185\n",
      "48 210\n",
      "0 137\n"
     ]
    },
    {
     "name": "stderr",
     "output_type": "stream",
     "text": [
      "\r",
      " 39%|███▉      | 486/1251 [09:12<15:47,  1.24s/it]"
     ]
    },
    {
     "name": "stdout",
     "output_type": "stream",
     "text": [
      "['/raid/jiang/projects/SubtleGAN/data/RSNA_ASNR_MICCAI_BraTS2021_TrainingData/BraTS2021_00519/BraTS2021_00519_t1.nii.gz']\n",
      "51 188\n",
      "29 208\n",
      "9 149\n"
     ]
    },
    {
     "name": "stderr",
     "output_type": "stream",
     "text": [
      "\r",
      " 39%|███▉      | 487/1251 [09:13<16:09,  1.27s/it]"
     ]
    },
    {
     "name": "stdout",
     "output_type": "stream",
     "text": [
      "['/raid/jiang/projects/SubtleGAN/data/RSNA_ASNR_MICCAI_BraTS2021_TrainingData/BraTS2021_01118/BraTS2021_01118_t1.nii.gz']\n",
      "53 185\n",
      "41 221\n",
      "0 136\n"
     ]
    },
    {
     "name": "stderr",
     "output_type": "stream",
     "text": [
      "\r",
      " 39%|███▉      | 488/1251 [09:14<15:48,  1.24s/it]"
     ]
    },
    {
     "name": "stdout",
     "output_type": "stream",
     "text": [
      "['/raid/jiang/projects/SubtleGAN/data/RSNA_ASNR_MICCAI_BraTS2021_TrainingData/BraTS2021_00144/BraTS2021_00144_t1.nii.gz']\n",
      "52 184\n",
      "42 218\n",
      "4 139\n"
     ]
    },
    {
     "name": "stderr",
     "output_type": "stream",
     "text": [
      "\r",
      " 39%|███▉      | 489/1251 [09:15<15:28,  1.22s/it]"
     ]
    },
    {
     "name": "stdout",
     "output_type": "stream",
     "text": [
      "['/raid/jiang/projects/SubtleGAN/data/RSNA_ASNR_MICCAI_BraTS2021_TrainingData/BraTS2021_00418/BraTS2021_00418_t1.nii.gz']\n",
      "50 187\n",
      "47 216\n",
      "8 142\n"
     ]
    },
    {
     "name": "stderr",
     "output_type": "stream",
     "text": [
      "\r",
      " 39%|███▉      | 490/1251 [09:16<14:43,  1.16s/it]"
     ]
    },
    {
     "name": "stdout",
     "output_type": "stream",
     "text": [
      "['/raid/jiang/projects/SubtleGAN/data/RSNA_ASNR_MICCAI_BraTS2021_TrainingData/BraTS2021_01319/BraTS2021_01319_t1.nii.gz']\n",
      "52 188\n",
      "51 212\n",
      "10 143\n"
     ]
    },
    {
     "name": "stderr",
     "output_type": "stream",
     "text": [
      "\r",
      " 39%|███▉      | 491/1251 [09:17<14:21,  1.13s/it]"
     ]
    },
    {
     "name": "stdout",
     "output_type": "stream",
     "text": [
      "['/raid/jiang/projects/SubtleGAN/data/RSNA_ASNR_MICCAI_BraTS2021_TrainingData/BraTS2021_01665/BraTS2021_01665_t1.nii.gz']\n",
      "51 184\n",
      "39 216\n",
      "0 139\n"
     ]
    },
    {
     "name": "stderr",
     "output_type": "stream",
     "text": [
      "\r",
      " 39%|███▉      | 492/1251 [09:19<14:47,  1.17s/it]"
     ]
    },
    {
     "name": "stdout",
     "output_type": "stream",
     "text": [
      "['/raid/jiang/projects/SubtleGAN/data/RSNA_ASNR_MICCAI_BraTS2021_TrainingData/BraTS2021_00016/BraTS2021_00016_t1.nii.gz']\n",
      "52 186\n",
      "40 211\n",
      "6 143\n"
     ]
    },
    {
     "name": "stderr",
     "output_type": "stream",
     "text": [
      "\r",
      " 39%|███▉      | 493/1251 [09:20<14:36,  1.16s/it]"
     ]
    },
    {
     "name": "stdout",
     "output_type": "stream",
     "text": [
      "['/raid/jiang/projects/SubtleGAN/data/RSNA_ASNR_MICCAI_BraTS2021_TrainingData/BraTS2021_00018/BraTS2021_00018_t1.nii.gz']\n",
      "44 179\n",
      "40 216\n",
      "7 144\n"
     ]
    },
    {
     "name": "stderr",
     "output_type": "stream",
     "text": [
      "\r",
      " 39%|███▉      | 494/1251 [09:21<15:05,  1.20s/it]"
     ]
    },
    {
     "name": "stdout",
     "output_type": "stream",
     "text": [
      "['/raid/jiang/projects/SubtleGAN/data/RSNA_ASNR_MICCAI_BraTS2021_TrainingData/BraTS2021_01332/BraTS2021_01332_t1.nii.gz']\n",
      "47 188\n",
      "45 217\n",
      "0 135\n"
     ]
    },
    {
     "name": "stderr",
     "output_type": "stream",
     "text": [
      "\r",
      " 40%|███▉      | 495/1251 [09:22<14:33,  1.16s/it]"
     ]
    },
    {
     "name": "stdout",
     "output_type": "stream",
     "text": [
      "['/raid/jiang/projects/SubtleGAN/data/RSNA_ASNR_MICCAI_BraTS2021_TrainingData/BraTS2021_00084/BraTS2021_00084_t1.nii.gz']\n",
      "55 182\n",
      "38 208\n",
      "7 134\n"
     ]
    },
    {
     "name": "stderr",
     "output_type": "stream",
     "text": [
      "\r",
      " 40%|███▉      | 496/1251 [09:23<14:39,  1.17s/it]"
     ]
    },
    {
     "name": "stdout",
     "output_type": "stream",
     "text": [
      "['/raid/jiang/projects/SubtleGAN/data/RSNA_ASNR_MICCAI_BraTS2021_TrainingData/BraTS2021_00033/BraTS2021_00033_t1.nii.gz']\n",
      "53 187\n",
      "30 211\n",
      "0 134\n"
     ]
    },
    {
     "name": "stderr",
     "output_type": "stream",
     "text": [
      "\r",
      " 40%|███▉      | 497/1251 [09:25<15:11,  1.21s/it]"
     ]
    },
    {
     "name": "stdout",
     "output_type": "stream",
     "text": [
      "['/raid/jiang/projects/SubtleGAN/data/RSNA_ASNR_MICCAI_BraTS2021_TrainingData/BraTS2021_00819/BraTS2021_00819_t1.nii.gz']\n",
      "51 187\n",
      "37 218\n",
      "0 150\n"
     ]
    },
    {
     "name": "stderr",
     "output_type": "stream",
     "text": [
      "\r",
      " 40%|███▉      | 498/1251 [09:26<14:39,  1.17s/it]"
     ]
    },
    {
     "name": "stdout",
     "output_type": "stream",
     "text": [
      "['/raid/jiang/projects/SubtleGAN/data/RSNA_ASNR_MICCAI_BraTS2021_TrainingData/BraTS2021_00602/BraTS2021_00602_t1.nii.gz']\n",
      "57 187\n",
      "50 209\n",
      "12 141\n"
     ]
    },
    {
     "name": "stderr",
     "output_type": "stream",
     "text": [
      "\r",
      " 40%|███▉      | 499/1251 [09:27<14:29,  1.16s/it]"
     ]
    },
    {
     "name": "stdout",
     "output_type": "stream",
     "text": [
      "['/raid/jiang/projects/SubtleGAN/data/RSNA_ASNR_MICCAI_BraTS2021_TrainingData/BraTS2021_00261/BraTS2021_00261_t1.nii.gz']\n",
      "47 191\n",
      "45 217\n",
      "0 141\n"
     ]
    },
    {
     "name": "stderr",
     "output_type": "stream",
     "text": [
      "\r",
      " 40%|███▉      | 500/1251 [09:28<14:31,  1.16s/it]"
     ]
    },
    {
     "name": "stdout",
     "output_type": "stream",
     "text": [
      "['/raid/jiang/projects/SubtleGAN/data/RSNA_ASNR_MICCAI_BraTS2021_TrainingData/BraTS2021_01167/BraTS2021_01167_t1.nii.gz']\n",
      "55 180\n",
      "46 211\n",
      "2 136\n"
     ]
    },
    {
     "name": "stderr",
     "output_type": "stream",
     "text": [
      "\r",
      " 40%|████      | 501/1251 [09:29<15:13,  1.22s/it]"
     ]
    },
    {
     "name": "stdout",
     "output_type": "stream",
     "text": [
      "['/raid/jiang/projects/SubtleGAN/data/RSNA_ASNR_MICCAI_BraTS2021_TrainingData/BraTS2021_01418/BraTS2021_01418_t1.nii.gz']\n",
      "49 189\n",
      "44 217\n",
      "10 143\n"
     ]
    },
    {
     "name": "stderr",
     "output_type": "stream",
     "text": [
      "\r",
      " 40%|████      | 502/1251 [09:31<15:10,  1.22s/it]"
     ]
    },
    {
     "name": "stdout",
     "output_type": "stream",
     "text": [
      "['/raid/jiang/projects/SubtleGAN/data/RSNA_ASNR_MICCAI_BraTS2021_TrainingData/BraTS2021_01139/BraTS2021_01139_t1.nii.gz']\n",
      "51 184\n",
      "51 210\n",
      "0 136\n"
     ]
    },
    {
     "name": "stderr",
     "output_type": "stream",
     "text": [
      "\r",
      " 40%|████      | 503/1251 [09:32<15:30,  1.24s/it]"
     ]
    },
    {
     "name": "stdout",
     "output_type": "stream",
     "text": [
      "['/raid/jiang/projects/SubtleGAN/data/RSNA_ASNR_MICCAI_BraTS2021_TrainingData/BraTS2021_00402/BraTS2021_00402_t1.nii.gz']\n",
      "54 181\n",
      "35 218\n",
      "0 143\n"
     ]
    },
    {
     "name": "stderr",
     "output_type": "stream",
     "text": [
      "\r",
      " 40%|████      | 504/1251 [09:33<15:07,  1.21s/it]"
     ]
    },
    {
     "name": "stdout",
     "output_type": "stream",
     "text": [
      "['/raid/jiang/projects/SubtleGAN/data/RSNA_ASNR_MICCAI_BraTS2021_TrainingData/BraTS2021_01114/BraTS2021_01114_t1.nii.gz']\n",
      "56 181\n",
      "42 212\n",
      "0 139\n"
     ]
    },
    {
     "name": "stderr",
     "output_type": "stream",
     "text": [
      "\r",
      " 40%|████      | 505/1251 [09:34<15:10,  1.22s/it]"
     ]
    },
    {
     "name": "stdout",
     "output_type": "stream",
     "text": [
      "['/raid/jiang/projects/SubtleGAN/data/RSNA_ASNR_MICCAI_BraTS2021_TrainingData/BraTS2021_01568/BraTS2021_01568_t1.nii.gz']\n",
      "46 189\n",
      "42 213\n",
      "0 152\n"
     ]
    },
    {
     "name": "stderr",
     "output_type": "stream",
     "text": [
      "\r",
      " 40%|████      | 506/1251 [09:36<15:27,  1.24s/it]"
     ]
    },
    {
     "name": "stdout",
     "output_type": "stream",
     "text": [
      "['/raid/jiang/projects/SubtleGAN/data/RSNA_ASNR_MICCAI_BraTS2021_TrainingData/BraTS2021_00334/BraTS2021_00334_t1.nii.gz']\n",
      "52 185\n",
      "38 219\n",
      "0 142\n"
     ]
    },
    {
     "name": "stderr",
     "output_type": "stream",
     "text": [
      "\r",
      " 41%|████      | 507/1251 [09:37<14:46,  1.19s/it]"
     ]
    },
    {
     "name": "stdout",
     "output_type": "stream",
     "text": [
      "['/raid/jiang/projects/SubtleGAN/data/RSNA_ASNR_MICCAI_BraTS2021_TrainingData/BraTS2021_01378/BraTS2021_01378_t1.nii.gz']\n",
      "52 186\n",
      "57 210\n",
      "6 152\n"
     ]
    },
    {
     "name": "stderr",
     "output_type": "stream",
     "text": [
      "\r",
      " 41%|████      | 508/1251 [09:38<14:17,  1.15s/it]"
     ]
    },
    {
     "name": "stdout",
     "output_type": "stream",
     "text": [
      "['/raid/jiang/projects/SubtleGAN/data/RSNA_ASNR_MICCAI_BraTS2021_TrainingData/BraTS2021_00837/BraTS2021_00837_t1.nii.gz']\n",
      "54 185\n",
      "47 212\n",
      "2 141\n"
     ]
    },
    {
     "name": "stderr",
     "output_type": "stream",
     "text": [
      "\r",
      " 41%|████      | 509/1251 [09:39<14:11,  1.15s/it]"
     ]
    },
    {
     "name": "stdout",
     "output_type": "stream",
     "text": [
      "['/raid/jiang/projects/SubtleGAN/data/RSNA_ASNR_MICCAI_BraTS2021_TrainingData/BraTS2021_01645/BraTS2021_01645_t1.nii.gz']\n",
      "53 185\n",
      "47 214\n",
      "0 149\n"
     ]
    },
    {
     "name": "stderr",
     "output_type": "stream",
     "text": [
      "\r",
      " 41%|████      | 510/1251 [09:40<14:44,  1.19s/it]"
     ]
    },
    {
     "name": "stdout",
     "output_type": "stream",
     "text": [
      "['/raid/jiang/projects/SubtleGAN/data/RSNA_ASNR_MICCAI_BraTS2021_TrainingData/BraTS2021_00191/BraTS2021_00191_t1.nii.gz']\n",
      "52 187\n",
      "41 219\n",
      "0 139\n"
     ]
    },
    {
     "name": "stderr",
     "output_type": "stream",
     "text": [
      "\r",
      " 41%|████      | 511/1251 [09:41<14:57,  1.21s/it]"
     ]
    },
    {
     "name": "stdout",
     "output_type": "stream",
     "text": [
      "['/raid/jiang/projects/SubtleGAN/data/RSNA_ASNR_MICCAI_BraTS2021_TrainingData/BraTS2021_00538/BraTS2021_00538_t1.nii.gz']\n",
      "56 189\n",
      "38 208\n",
      "4 144\n",
      "['/raid/jiang/projects/SubtleGAN/data/RSNA_ASNR_MICCAI_BraTS2021_TrainingData/BraTS2021_00767/BraTS2021_00767_t1.nii.gz']\n"
     ]
    },
    {
     "name": "stderr",
     "output_type": "stream",
     "text": [
      "\r",
      " 41%|████      | 512/1251 [09:42<14:27,  1.17s/it]"
     ]
    },
    {
     "name": "stdout",
     "output_type": "stream",
     "text": [
      "50 184\n",
      "48 199\n",
      "9 142\n"
     ]
    },
    {
     "name": "stderr",
     "output_type": "stream",
     "text": [
      "\r",
      " 41%|████      | 513/1251 [09:44<14:26,  1.17s/it]"
     ]
    },
    {
     "name": "stdout",
     "output_type": "stream",
     "text": [
      "['/raid/jiang/projects/SubtleGAN/data/RSNA_ASNR_MICCAI_BraTS2021_TrainingData/BraTS2021_00768/BraTS2021_00768_t1.nii.gz']\n",
      "54 190\n",
      "33 211\n",
      "7 146\n"
     ]
    },
    {
     "name": "stderr",
     "output_type": "stream",
     "text": [
      "\r",
      " 41%|████      | 514/1251 [09:45<14:52,  1.21s/it]"
     ]
    },
    {
     "name": "stdout",
     "output_type": "stream",
     "text": [
      "['/raid/jiang/projects/SubtleGAN/data/RSNA_ASNR_MICCAI_BraTS2021_TrainingData/BraTS2021_01545/BraTS2021_01545_t1.nii.gz']\n",
      "51 185\n",
      "43 218\n",
      "0 148\n"
     ]
    },
    {
     "name": "stderr",
     "output_type": "stream",
     "text": [
      "\r",
      " 41%|████      | 515/1251 [09:46<15:00,  1.22s/it]"
     ]
    },
    {
     "name": "stdout",
     "output_type": "stream",
     "text": [
      "['/raid/jiang/projects/SubtleGAN/data/RSNA_ASNR_MICCAI_BraTS2021_TrainingData/BraTS2021_01064/BraTS2021_01064_t1.nii.gz']\n",
      "47 190\n",
      "43 216\n",
      "0 138\n"
     ]
    },
    {
     "name": "stderr",
     "output_type": "stream",
     "text": [
      "\r",
      " 41%|████      | 516/1251 [09:47<14:53,  1.22s/it]"
     ]
    },
    {
     "name": "stdout",
     "output_type": "stream",
     "text": [
      "['/raid/jiang/projects/SubtleGAN/data/RSNA_ASNR_MICCAI_BraTS2021_TrainingData/BraTS2021_00836/BraTS2021_00836_t1.nii.gz']\n",
      "51 187\n",
      "36 217\n",
      "0 146\n"
     ]
    },
    {
     "name": "stderr",
     "output_type": "stream",
     "text": [
      "\r",
      " 41%|████▏     | 517/1251 [09:49<15:04,  1.23s/it]"
     ]
    },
    {
     "name": "stdout",
     "output_type": "stream",
     "text": [
      "['/raid/jiang/projects/SubtleGAN/data/RSNA_ASNR_MICCAI_BraTS2021_TrainingData/BraTS2021_01134/BraTS2021_01134_t1.nii.gz']\n",
      "54 183\n",
      "48 212\n",
      "0 141\n"
     ]
    },
    {
     "name": "stderr",
     "output_type": "stream",
     "text": [
      "\r",
      " 41%|████▏     | 518/1251 [09:50<15:00,  1.23s/it]"
     ]
    },
    {
     "name": "stdout",
     "output_type": "stream",
     "text": [
      "['/raid/jiang/projects/SubtleGAN/data/RSNA_ASNR_MICCAI_BraTS2021_TrainingData/BraTS2021_01292/BraTS2021_01292_t1.nii.gz']\n",
      "50 188\n",
      "43 215\n",
      "0 139\n"
     ]
    },
    {
     "name": "stderr",
     "output_type": "stream",
     "text": [
      "\r",
      " 41%|████▏     | 519/1251 [09:51<14:53,  1.22s/it]"
     ]
    },
    {
     "name": "stdout",
     "output_type": "stream",
     "text": [
      "['/raid/jiang/projects/SubtleGAN/data/RSNA_ASNR_MICCAI_BraTS2021_TrainingData/BraTS2021_01438/BraTS2021_01438_t1.nii.gz']\n",
      "47 195\n",
      "50 210\n",
      "8 140\n",
      "['/raid/jiang/projects/SubtleGAN/data/RSNA_ASNR_MICCAI_BraTS2021_TrainingData/BraTS2021_00606/BraTS2021_00606_t1.nii.gz']\n"
     ]
    },
    {
     "name": "stderr",
     "output_type": "stream",
     "text": [
      "\r",
      " 42%|████▏     | 520/1251 [09:52<15:09,  1.24s/it]"
     ]
    },
    {
     "name": "stdout",
     "output_type": "stream",
     "text": [
      "47 190\n",
      "26 214\n",
      "0 140\n"
     ]
    },
    {
     "name": "stderr",
     "output_type": "stream",
     "text": [
      "\r",
      " 42%|████▏     | 521/1251 [09:54<15:19,  1.26s/it]"
     ]
    },
    {
     "name": "stdout",
     "output_type": "stream",
     "text": [
      "['/raid/jiang/projects/SubtleGAN/data/RSNA_ASNR_MICCAI_BraTS2021_TrainingData/BraTS2021_01057/BraTS2021_01057_t1.nii.gz']\n",
      "54 183\n",
      "49 212\n",
      "1 139\n"
     ]
    },
    {
     "name": "stderr",
     "output_type": "stream",
     "text": [
      "\r",
      " 42%|████▏     | 522/1251 [09:55<15:09,  1.25s/it]"
     ]
    },
    {
     "name": "stdout",
     "output_type": "stream",
     "text": [
      "['/raid/jiang/projects/SubtleGAN/data/RSNA_ASNR_MICCAI_BraTS2021_TrainingData/BraTS2021_01459/BraTS2021_01459_t1.nii.gz']\n",
      "48 189\n",
      "47 209\n",
      "0 136\n"
     ]
    },
    {
     "name": "stderr",
     "output_type": "stream",
     "text": [
      "\r",
      " 42%|████▏     | 523/1251 [09:56<15:10,  1.25s/it]"
     ]
    },
    {
     "name": "stdout",
     "output_type": "stream",
     "text": [
      "['/raid/jiang/projects/SubtleGAN/data/RSNA_ASNR_MICCAI_BraTS2021_TrainingData/BraTS2021_01482/BraTS2021_01482_t1.nii.gz']\n",
      "47 191\n",
      "39 220\n",
      "0 139\n"
     ]
    },
    {
     "name": "stderr",
     "output_type": "stream",
     "text": [
      "\r",
      " 42%|████▏     | 524/1251 [09:58<15:48,  1.30s/it]"
     ]
    },
    {
     "name": "stdout",
     "output_type": "stream",
     "text": [
      "['/raid/jiang/projects/SubtleGAN/data/RSNA_ASNR_MICCAI_BraTS2021_TrainingData/BraTS2021_00588/BraTS2021_00588_t1.nii.gz']\n",
      "46 190\n",
      "50 205\n",
      "0 136\n"
     ]
    },
    {
     "name": "stderr",
     "output_type": "stream",
     "text": [
      "\r",
      " 42%|████▏     | 525/1251 [09:59<15:13,  1.26s/it]"
     ]
    },
    {
     "name": "stdout",
     "output_type": "stream",
     "text": [
      "['/raid/jiang/projects/SubtleGAN/data/RSNA_ASNR_MICCAI_BraTS2021_TrainingData/BraTS2021_01077/BraTS2021_01077_t1.nii.gz']\n",
      "54 183\n",
      "39 217\n",
      "1 139\n"
     ]
    },
    {
     "name": "stderr",
     "output_type": "stream",
     "text": [
      "\r",
      " 42%|████▏     | 526/1251 [10:00<15:09,  1.25s/it]"
     ]
    },
    {
     "name": "stdout",
     "output_type": "stream",
     "text": [
      "['/raid/jiang/projects/SubtleGAN/data/RSNA_ASNR_MICCAI_BraTS2021_TrainingData/BraTS2021_00831/BraTS2021_00831_t1.nii.gz']\n",
      "49 188\n",
      "42 214\n",
      "0 135\n"
     ]
    },
    {
     "name": "stderr",
     "output_type": "stream",
     "text": [
      "\r",
      " 42%|████▏     | 527/1251 [10:01<14:56,  1.24s/it]"
     ]
    },
    {
     "name": "stdout",
     "output_type": "stream",
     "text": [
      "['/raid/jiang/projects/SubtleGAN/data/RSNA_ASNR_MICCAI_BraTS2021_TrainingData/BraTS2021_00423/BraTS2021_00423_t1.nii.gz']\n",
      "50 187\n",
      "45 212\n",
      "0 141\n"
     ]
    },
    {
     "name": "stderr",
     "output_type": "stream",
     "text": [
      "\r",
      " 42%|████▏     | 528/1251 [10:02<14:54,  1.24s/it]"
     ]
    },
    {
     "name": "stdout",
     "output_type": "stream",
     "text": [
      "['/raid/jiang/projects/SubtleGAN/data/RSNA_ASNR_MICCAI_BraTS2021_TrainingData/BraTS2021_00746/BraTS2021_00746_t1.nii.gz']\n",
      "55 188\n",
      "43 212\n",
      "0 141\n"
     ]
    },
    {
     "name": "stderr",
     "output_type": "stream",
     "text": [
      "\r",
      " 42%|████▏     | 529/1251 [10:04<14:38,  1.22s/it]"
     ]
    },
    {
     "name": "stdout",
     "output_type": "stream",
     "text": [
      "['/raid/jiang/projects/SubtleGAN/data/RSNA_ASNR_MICCAI_BraTS2021_TrainingData/BraTS2021_00389/BraTS2021_00389_t1.nii.gz']\n",
      "52 187\n",
      "51 209\n",
      "0 136\n"
     ]
    },
    {
     "name": "stderr",
     "output_type": "stream",
     "text": [
      "\r",
      " 42%|████▏     | 530/1251 [10:05<14:32,  1.21s/it]"
     ]
    },
    {
     "name": "stdout",
     "output_type": "stream",
     "text": [
      "['/raid/jiang/projects/SubtleGAN/data/RSNA_ASNR_MICCAI_BraTS2021_TrainingData/BraTS2021_00020/BraTS2021_00020_t1.nii.gz']\n",
      "52 188\n",
      "30 211\n",
      "5 141\n"
     ]
    },
    {
     "name": "stderr",
     "output_type": "stream",
     "text": [
      "\r",
      " 42%|████▏     | 531/1251 [10:06<15:11,  1.27s/it]"
     ]
    },
    {
     "name": "stdout",
     "output_type": "stream",
     "text": [
      "['/raid/jiang/projects/SubtleGAN/data/RSNA_ASNR_MICCAI_BraTS2021_TrainingData/BraTS2021_01079/BraTS2021_01079_t1.nii.gz']\n",
      "47 190\n",
      "41 215\n",
      "0 144\n"
     ]
    },
    {
     "name": "stderr",
     "output_type": "stream",
     "text": [
      "\r",
      " 43%|████▎     | 532/1251 [10:07<15:01,  1.25s/it]"
     ]
    },
    {
     "name": "stdout",
     "output_type": "stream",
     "text": [
      "['/raid/jiang/projects/SubtleGAN/data/RSNA_ASNR_MICCAI_BraTS2021_TrainingData/BraTS2021_01053/BraTS2021_01053_t1.nii.gz']\n",
      "50 184\n",
      "45 212\n",
      "2 140\n"
     ]
    },
    {
     "name": "stderr",
     "output_type": "stream",
     "text": [
      "\r",
      " 43%|████▎     | 533/1251 [10:09<14:48,  1.24s/it]"
     ]
    },
    {
     "name": "stdout",
     "output_type": "stream",
     "text": [
      "['/raid/jiang/projects/SubtleGAN/data/RSNA_ASNR_MICCAI_BraTS2021_TrainingData/BraTS2021_00601/BraTS2021_00601_t1.nii.gz']\n",
      "49 189\n",
      "40 208\n",
      "0 139\n"
     ]
    },
    {
     "name": "stderr",
     "output_type": "stream",
     "text": [
      "\r",
      " 43%|████▎     | 534/1251 [10:10<14:37,  1.22s/it]"
     ]
    },
    {
     "name": "stdout",
     "output_type": "stream",
     "text": [
      "['/raid/jiang/projects/SubtleGAN/data/RSNA_ASNR_MICCAI_BraTS2021_TrainingData/BraTS2021_00395/BraTS2021_00395_t1.nii.gz']\n",
      "47 189\n",
      "42 215\n",
      "0 138\n"
     ]
    },
    {
     "name": "stderr",
     "output_type": "stream",
     "text": [
      "\r",
      " 43%|████▎     | 535/1251 [10:11<14:27,  1.21s/it]"
     ]
    },
    {
     "name": "stdout",
     "output_type": "stream",
     "text": [
      "['/raid/jiang/projects/SubtleGAN/data/RSNA_ASNR_MICCAI_BraTS2021_TrainingData/BraTS2021_00058/BraTS2021_00058_t1.nii.gz']\n",
      "50 188\n",
      "47 205\n",
      "10 146\n"
     ]
    },
    {
     "name": "stderr",
     "output_type": "stream",
     "text": [
      "\r",
      " 43%|████▎     | 536/1251 [10:12<14:04,  1.18s/it]"
     ]
    },
    {
     "name": "stdout",
     "output_type": "stream",
     "text": [
      "['/raid/jiang/projects/SubtleGAN/data/RSNA_ASNR_MICCAI_BraTS2021_TrainingData/BraTS2021_00735/BraTS2021_00735_t1.nii.gz']\n",
      "51 185\n",
      "35 214\n",
      "0 139\n"
     ]
    },
    {
     "name": "stderr",
     "output_type": "stream",
     "text": [
      "\r",
      " 43%|████▎     | 537/1251 [10:13<14:07,  1.19s/it]"
     ]
    },
    {
     "name": "stdout",
     "output_type": "stream",
     "text": [
      "['/raid/jiang/projects/SubtleGAN/data/RSNA_ASNR_MICCAI_BraTS2021_TrainingData/BraTS2021_00714/BraTS2021_00714_t1.nii.gz']\n",
      "61 191\n",
      "34 204\n",
      "9 145\n"
     ]
    },
    {
     "name": "stderr",
     "output_type": "stream",
     "text": [
      "\r",
      " 43%|████▎     | 538/1251 [10:14<13:32,  1.14s/it]"
     ]
    },
    {
     "name": "stdout",
     "output_type": "stream",
     "text": [
      "['/raid/jiang/projects/SubtleGAN/data/RSNA_ASNR_MICCAI_BraTS2021_TrainingData/BraTS2021_00360/BraTS2021_00360_t1.nii.gz']\n",
      "50 187\n",
      "48 212\n",
      "2 138\n"
     ]
    },
    {
     "name": "stderr",
     "output_type": "stream",
     "text": [
      "\r",
      " 43%|████▎     | 539/1251 [10:16<13:46,  1.16s/it]"
     ]
    },
    {
     "name": "stdout",
     "output_type": "stream",
     "text": [
      "['/raid/jiang/projects/SubtleGAN/data/RSNA_ASNR_MICCAI_BraTS2021_TrainingData/BraTS2021_00580/BraTS2021_00580_t1.nii.gz']\n",
      "48 186\n",
      "38 221\n",
      "0 140\n"
     ]
    },
    {
     "name": "stderr",
     "output_type": "stream",
     "text": [
      "\r",
      " 43%|████▎     | 540/1251 [10:17<13:57,  1.18s/it]"
     ]
    },
    {
     "name": "stdout",
     "output_type": "stream",
     "text": [
      "['/raid/jiang/projects/SubtleGAN/data/RSNA_ASNR_MICCAI_BraTS2021_TrainingData/BraTS2021_01617/BraTS2021_01617_t1.nii.gz']\n",
      "54 185\n",
      "47 213\n",
      "4 146\n"
     ]
    },
    {
     "name": "stderr",
     "output_type": "stream",
     "text": [
      "\r",
      " 43%|████▎     | 541/1251 [10:18<13:09,  1.11s/it]"
     ]
    },
    {
     "name": "stdout",
     "output_type": "stream",
     "text": [
      "['/raid/jiang/projects/SubtleGAN/data/RSNA_ASNR_MICCAI_BraTS2021_TrainingData/BraTS2021_00332/BraTS2021_00332_t1.nii.gz']\n",
      "56 179\n",
      "50 209\n",
      "15 141\n"
     ]
    },
    {
     "name": "stderr",
     "output_type": "stream",
     "text": [
      "\r",
      " 43%|████▎     | 542/1251 [10:19<13:13,  1.12s/it]"
     ]
    },
    {
     "name": "stdout",
     "output_type": "stream",
     "text": [
      "['/raid/jiang/projects/SubtleGAN/data/RSNA_ASNR_MICCAI_BraTS2021_TrainingData/BraTS2021_01069/BraTS2021_01069_t1.nii.gz']\n",
      "51 187\n",
      "37 216\n",
      "0 144\n"
     ]
    },
    {
     "name": "stderr",
     "output_type": "stream",
     "text": [
      "\r",
      " 43%|████▎     | 543/1251 [10:20<13:51,  1.17s/it]"
     ]
    },
    {
     "name": "stdout",
     "output_type": "stream",
     "text": [
      "['/raid/jiang/projects/SubtleGAN/data/RSNA_ASNR_MICCAI_BraTS2021_TrainingData/BraTS2021_01246/BraTS2021_01246_t1.nii.gz']\n",
      "42 194\n",
      "44 219\n",
      "0 142\n"
     ]
    },
    {
     "name": "stderr",
     "output_type": "stream",
     "text": [
      "\r",
      " 43%|████▎     | 544/1251 [10:22<15:02,  1.28s/it]"
     ]
    },
    {
     "name": "stdout",
     "output_type": "stream",
     "text": [
      "['/raid/jiang/projects/SubtleGAN/data/RSNA_ASNR_MICCAI_BraTS2021_TrainingData/BraTS2021_01216/BraTS2021_01216_t1.nii.gz']\n",
      "53 185\n",
      "39 214\n",
      "0 139\n"
     ]
    },
    {
     "name": "stderr",
     "output_type": "stream",
     "text": [
      "\r",
      " 44%|████▎     | 545/1251 [10:23<15:17,  1.30s/it]"
     ]
    },
    {
     "name": "stdout",
     "output_type": "stream",
     "text": [
      "['/raid/jiang/projects/SubtleGAN/data/RSNA_ASNR_MICCAI_BraTS2021_TrainingData/BraTS2021_01136/BraTS2021_01136_t1.nii.gz']\n",
      "46 190\n",
      "42 221\n",
      "0 144\n"
     ]
    },
    {
     "name": "stderr",
     "output_type": "stream",
     "text": [
      "\r",
      " 44%|████▎     | 546/1251 [10:24<15:57,  1.36s/it]"
     ]
    },
    {
     "name": "stdout",
     "output_type": "stream",
     "text": [
      "['/raid/jiang/projects/SubtleGAN/data/RSNA_ASNR_MICCAI_BraTS2021_TrainingData/BraTS2021_00480/BraTS2021_00480_t1.nii.gz']\n",
      "46 187\n",
      "36 213\n",
      "5 143\n"
     ]
    },
    {
     "name": "stderr",
     "output_type": "stream",
     "text": [
      "\r",
      " 44%|████▎     | 547/1251 [10:26<15:40,  1.34s/it]"
     ]
    },
    {
     "name": "stdout",
     "output_type": "stream",
     "text": [
      "['/raid/jiang/projects/SubtleGAN/data/RSNA_ASNR_MICCAI_BraTS2021_TrainingData/BraTS2021_01314/BraTS2021_01314_t1.nii.gz']\n",
      "55 184\n",
      "47 214\n",
      "2 140\n"
     ]
    },
    {
     "name": "stderr",
     "output_type": "stream",
     "text": [
      "\r",
      " 44%|████▍     | 548/1251 [10:27<15:39,  1.34s/it]"
     ]
    },
    {
     "name": "stdout",
     "output_type": "stream",
     "text": [
      "['/raid/jiang/projects/SubtleGAN/data/RSNA_ASNR_MICCAI_BraTS2021_TrainingData/BraTS2021_01501/BraTS2021_01501_t1.nii.gz']\n",
      "51 188\n",
      "47 212\n",
      "8 137\n"
     ]
    },
    {
     "name": "stderr",
     "output_type": "stream",
     "text": [
      "\r",
      " 44%|████▍     | 549/1251 [10:28<14:50,  1.27s/it]"
     ]
    },
    {
     "name": "stdout",
     "output_type": "stream",
     "text": [
      "['/raid/jiang/projects/SubtleGAN/data/RSNA_ASNR_MICCAI_BraTS2021_TrainingData/BraTS2021_00589/BraTS2021_00589_t1.nii.gz']\n",
      "52 178\n",
      "45 212\n",
      "41 140\n"
     ]
    },
    {
     "name": "stderr",
     "output_type": "stream",
     "text": [
      "\r",
      " 44%|████▍     | 550/1251 [10:29<14:09,  1.21s/it]"
     ]
    },
    {
     "name": "stdout",
     "output_type": "stream",
     "text": [
      "['/raid/jiang/projects/SubtleGAN/data/RSNA_ASNR_MICCAI_BraTS2021_TrainingData/BraTS2021_01591/BraTS2021_01591_t1.nii.gz']\n",
      "54 182\n",
      "53 212\n",
      "4 142\n"
     ]
    },
    {
     "name": "stderr",
     "output_type": "stream",
     "text": [
      "\r",
      " 44%|████▍     | 551/1251 [10:30<13:32,  1.16s/it]"
     ]
    },
    {
     "name": "stdout",
     "output_type": "stream",
     "text": [
      "['/raid/jiang/projects/SubtleGAN/data/RSNA_ASNR_MICCAI_BraTS2021_TrainingData/BraTS2021_01108/BraTS2021_01108_t1.nii.gz']\n",
      "52 184\n",
      "52 212\n",
      "4 133\n"
     ]
    },
    {
     "name": "stderr",
     "output_type": "stream",
     "text": [
      "\r",
      " 44%|████▍     | 552/1251 [10:31<13:10,  1.13s/it]"
     ]
    },
    {
     "name": "stdout",
     "output_type": "stream",
     "text": [
      "['/raid/jiang/projects/SubtleGAN/data/RSNA_ASNR_MICCAI_BraTS2021_TrainingData/BraTS2021_01164/BraTS2021_01164_t1.nii.gz']\n",
      "50 184\n",
      "44 212\n",
      "0 135\n"
     ]
    },
    {
     "name": "stderr",
     "output_type": "stream",
     "text": [
      "\r",
      " 44%|████▍     | 553/1251 [10:33<14:15,  1.23s/it]"
     ]
    },
    {
     "name": "stdout",
     "output_type": "stream",
     "text": [
      "['/raid/jiang/projects/SubtleGAN/data/RSNA_ASNR_MICCAI_BraTS2021_TrainingData/BraTS2021_01605/BraTS2021_01605_t1.nii.gz']\n",
      "53 183\n",
      "41 220\n",
      "6 141\n"
     ]
    },
    {
     "name": "stderr",
     "output_type": "stream",
     "text": [
      "\r",
      " 44%|████▍     | 554/1251 [10:34<14:45,  1.27s/it]"
     ]
    },
    {
     "name": "stdout",
     "output_type": "stream",
     "text": [
      "['/raid/jiang/projects/SubtleGAN/data/RSNA_ASNR_MICCAI_BraTS2021_TrainingData/BraTS2021_01642/BraTS2021_01642_t1.nii.gz']\n",
      "51 186\n",
      "39 219\n",
      "0 145\n"
     ]
    },
    {
     "name": "stderr",
     "output_type": "stream",
     "text": [
      "\r",
      " 44%|████▍     | 555/1251 [10:35<14:41,  1.27s/it]"
     ]
    },
    {
     "name": "stdout",
     "output_type": "stream",
     "text": [
      "['/raid/jiang/projects/SubtleGAN/data/RSNA_ASNR_MICCAI_BraTS2021_TrainingData/BraTS2021_00113/BraTS2021_00113_t1.nii.gz']\n",
      "46 190\n",
      "48 208\n",
      "0 135\n"
     ]
    },
    {
     "name": "stderr",
     "output_type": "stream",
     "text": [
      "\r",
      " 44%|████▍     | 556/1251 [10:37<14:14,  1.23s/it]"
     ]
    },
    {
     "name": "stdout",
     "output_type": "stream",
     "text": [
      "['/raid/jiang/projects/SubtleGAN/data/RSNA_ASNR_MICCAI_BraTS2021_TrainingData/BraTS2021_01080/BraTS2021_01080_t1.nii.gz']\n",
      "52 186\n",
      "49 218\n",
      "0 142\n"
     ]
    },
    {
     "name": "stderr",
     "output_type": "stream",
     "text": [
      "\r",
      " 45%|████▍     | 557/1251 [10:38<13:48,  1.19s/it]"
     ]
    },
    {
     "name": "stdout",
     "output_type": "stream",
     "text": [
      "['/raid/jiang/projects/SubtleGAN/data/RSNA_ASNR_MICCAI_BraTS2021_TrainingData/BraTS2021_01002/BraTS2021_01002_t1.nii.gz']\n",
      "47 186\n",
      "48 212\n",
      "4 139\n"
     ]
    },
    {
     "name": "stderr",
     "output_type": "stream",
     "text": [
      "\r",
      " 45%|████▍     | 558/1251 [10:39<13:52,  1.20s/it]"
     ]
    },
    {
     "name": "stdout",
     "output_type": "stream",
     "text": [
      "['/raid/jiang/projects/SubtleGAN/data/RSNA_ASNR_MICCAI_BraTS2021_TrainingData/BraTS2021_01226/BraTS2021_01226_t1.nii.gz']\n",
      "49 186\n",
      "45 214\n",
      "0 143\n"
     ]
    },
    {
     "name": "stderr",
     "output_type": "stream",
     "text": [
      "\r",
      " 45%|████▍     | 559/1251 [10:40<13:43,  1.19s/it]"
     ]
    },
    {
     "name": "stdout",
     "output_type": "stream",
     "text": [
      "['/raid/jiang/projects/SubtleGAN/data/RSNA_ASNR_MICCAI_BraTS2021_TrainingData/BraTS2021_00532/BraTS2021_00532_t1.nii.gz']\n",
      "58 189\n",
      "38 213\n",
      "0 144\n"
     ]
    },
    {
     "name": "stderr",
     "output_type": "stream",
     "text": [
      "\r",
      " 45%|████▍     | 560/1251 [10:41<13:43,  1.19s/it]"
     ]
    },
    {
     "name": "stdout",
     "output_type": "stream",
     "text": [
      "['/raid/jiang/projects/SubtleGAN/data/RSNA_ASNR_MICCAI_BraTS2021_TrainingData/BraTS2021_00622/BraTS2021_00622_t1.nii.gz']\n",
      "60 188\n",
      "41 207\n",
      "0 136\n"
     ]
    },
    {
     "name": "stderr",
     "output_type": "stream",
     "text": [
      "\r",
      " 45%|████▍     | 561/1251 [10:42<13:30,  1.17s/it]"
     ]
    },
    {
     "name": "stdout",
     "output_type": "stream",
     "text": [
      "['/raid/jiang/projects/SubtleGAN/data/RSNA_ASNR_MICCAI_BraTS2021_TrainingData/BraTS2021_01599/BraTS2021_01599_t1.nii.gz']\n",
      "51 185\n",
      "53 204\n",
      "2 139\n"
     ]
    },
    {
     "name": "stderr",
     "output_type": "stream",
     "text": [
      "\r",
      " 45%|████▍     | 562/1251 [10:44<13:29,  1.17s/it]"
     ]
    },
    {
     "name": "stdout",
     "output_type": "stream",
     "text": [
      "['/raid/jiang/projects/SubtleGAN/data/RSNA_ASNR_MICCAI_BraTS2021_TrainingData/BraTS2021_00271/BraTS2021_00271_t1.nii.gz']\n",
      "51 186\n",
      "47 211\n",
      "0 140\n"
     ]
    },
    {
     "name": "stderr",
     "output_type": "stream",
     "text": [
      "\r",
      " 45%|████▌     | 563/1251 [10:45<13:31,  1.18s/it]"
     ]
    },
    {
     "name": "stdout",
     "output_type": "stream",
     "text": [
      "['/raid/jiang/projects/SubtleGAN/data/RSNA_ASNR_MICCAI_BraTS2021_TrainingData/BraTS2021_00454/BraTS2021_00454_t1.nii.gz']\n",
      "53 185\n",
      "49 210\n",
      "1 134\n"
     ]
    },
    {
     "name": "stderr",
     "output_type": "stream",
     "text": [
      "\r",
      " 45%|████▌     | 564/1251 [10:46<13:33,  1.18s/it]"
     ]
    },
    {
     "name": "stdout",
     "output_type": "stream",
     "text": [
      "['/raid/jiang/projects/SubtleGAN/data/RSNA_ASNR_MICCAI_BraTS2021_TrainingData/BraTS2021_01477/BraTS2021_01477_t1.nii.gz']\n",
      "49 189\n",
      "46 210\n",
      "3 141\n",
      "['/raid/jiang/projects/SubtleGAN/data/RSNA_ASNR_MICCAI_BraTS2021_TrainingData/BraTS2021_00737/BraTS2021_00737_t1.nii.gz']\n"
     ]
    },
    {
     "name": "stderr",
     "output_type": "stream",
     "text": [
      "\r",
      " 45%|████▌     | 565/1251 [10:47<13:11,  1.15s/it]"
     ]
    },
    {
     "name": "stdout",
     "output_type": "stream",
     "text": [
      "57 179\n",
      "47 207\n",
      "11 142\n"
     ]
    },
    {
     "name": "stderr",
     "output_type": "stream",
     "text": [
      "\r",
      " 45%|████▌     | 566/1251 [10:48<12:59,  1.14s/it]"
     ]
    },
    {
     "name": "stdout",
     "output_type": "stream",
     "text": [
      "['/raid/jiang/projects/SubtleGAN/data/RSNA_ASNR_MICCAI_BraTS2021_TrainingData/BraTS2021_00406/BraTS2021_00406_t1.nii.gz']\n",
      "50 185\n",
      "40 218\n",
      "0 139\n"
     ]
    },
    {
     "name": "stderr",
     "output_type": "stream",
     "text": [
      "\r",
      " 45%|████▌     | 567/1251 [10:50<13:42,  1.20s/it]"
     ]
    },
    {
     "name": "stdout",
     "output_type": "stream",
     "text": [
      "['/raid/jiang/projects/SubtleGAN/data/RSNA_ASNR_MICCAI_BraTS2021_TrainingData/BraTS2021_01249/BraTS2021_01249_t1.nii.gz']\n",
      "52 184\n",
      "40 215\n",
      "0 136\n"
     ]
    },
    {
     "name": "stderr",
     "output_type": "stream",
     "text": [
      "\r",
      " 45%|████▌     | 568/1251 [10:51<13:45,  1.21s/it]"
     ]
    },
    {
     "name": "stdout",
     "output_type": "stream",
     "text": [
      "['/raid/jiang/projects/SubtleGAN/data/RSNA_ASNR_MICCAI_BraTS2021_TrainingData/BraTS2021_01083/BraTS2021_01083_t1.nii.gz']\n",
      "53 184\n",
      "53 216\n",
      "0 144\n"
     ]
    },
    {
     "name": "stderr",
     "output_type": "stream",
     "text": [
      "\r",
      " 45%|████▌     | 569/1251 [10:52<13:12,  1.16s/it]"
     ]
    },
    {
     "name": "stdout",
     "output_type": "stream",
     "text": [
      "['/raid/jiang/projects/SubtleGAN/data/RSNA_ASNR_MICCAI_BraTS2021_TrainingData/BraTS2021_00158/BraTS2021_00158_t1.nii.gz']\n",
      "54 181\n",
      "52 214\n",
      "1 140\n"
     ]
    },
    {
     "name": "stderr",
     "output_type": "stream",
     "text": [
      "\r",
      " 46%|████▌     | 570/1251 [10:53<13:10,  1.16s/it]"
     ]
    },
    {
     "name": "stdout",
     "output_type": "stream",
     "text": [
      "['/raid/jiang/projects/SubtleGAN/data/RSNA_ASNR_MICCAI_BraTS2021_TrainingData/BraTS2021_00262/BraTS2021_00262_t1.nii.gz']\n",
      "51 185\n",
      "43 217\n",
      "0 141\n"
     ]
    },
    {
     "name": "stderr",
     "output_type": "stream",
     "text": [
      "\r",
      " 46%|████▌     | 571/1251 [10:54<13:14,  1.17s/it]"
     ]
    },
    {
     "name": "stdout",
     "output_type": "stream",
     "text": [
      "['/raid/jiang/projects/SubtleGAN/data/RSNA_ASNR_MICCAI_BraTS2021_TrainingData/BraTS2021_00339/BraTS2021_00339_t1.nii.gz']\n",
      "50 187\n",
      "43 216\n",
      "0 141\n"
     ]
    },
    {
     "name": "stderr",
     "output_type": "stream",
     "text": [
      "\r",
      " 46%|████▌     | 572/1251 [10:56<13:53,  1.23s/it]"
     ]
    },
    {
     "name": "stdout",
     "output_type": "stream",
     "text": [
      "['/raid/jiang/projects/SubtleGAN/data/RSNA_ASNR_MICCAI_BraTS2021_TrainingData/BraTS2021_00582/BraTS2021_00582_t1.nii.gz']\n",
      "54 183\n",
      "41 220\n",
      "0 143\n"
     ]
    },
    {
     "name": "stderr",
     "output_type": "stream",
     "text": [
      "\r",
      " 46%|████▌     | 573/1251 [10:57<13:50,  1.23s/it]"
     ]
    },
    {
     "name": "stdout",
     "output_type": "stream",
     "text": [
      "['/raid/jiang/projects/SubtleGAN/data/RSNA_ASNR_MICCAI_BraTS2021_TrainingData/BraTS2021_00787/BraTS2021_00787_t1.nii.gz']\n",
      "54 183\n",
      "47 216\n",
      "0 152\n"
     ]
    },
    {
     "name": "stderr",
     "output_type": "stream",
     "text": [
      "\r",
      " 46%|████▌     | 574/1251 [10:58<13:39,  1.21s/it]"
     ]
    },
    {
     "name": "stdout",
     "output_type": "stream",
     "text": [
      "['/raid/jiang/projects/SubtleGAN/data/RSNA_ASNR_MICCAI_BraTS2021_TrainingData/BraTS2021_01649/BraTS2021_01649_t1.nii.gz']\n",
      "57 183\n",
      "51 210\n",
      "0 151\n"
     ]
    },
    {
     "name": "stderr",
     "output_type": "stream",
     "text": [
      "\r",
      " 46%|████▌     | 575/1251 [10:59<13:31,  1.20s/it]"
     ]
    },
    {
     "name": "stdout",
     "output_type": "stream",
     "text": [
      "['/raid/jiang/projects/SubtleGAN/data/RSNA_ASNR_MICCAI_BraTS2021_TrainingData/BraTS2021_00290/BraTS2021_00290_t1.nii.gz']\n",
      "48 190\n",
      "43 218\n",
      "0 148\n"
     ]
    },
    {
     "name": "stderr",
     "output_type": "stream",
     "text": [
      "\r",
      " 46%|████▌     | 576/1251 [11:00<13:48,  1.23s/it]"
     ]
    },
    {
     "name": "stdout",
     "output_type": "stream",
     "text": [
      "['/raid/jiang/projects/SubtleGAN/data/RSNA_ASNR_MICCAI_BraTS2021_TrainingData/BraTS2021_00288/BraTS2021_00288_t1.nii.gz']\n",
      "52 184\n",
      "45 214\n",
      "0 139\n"
     ]
    },
    {
     "name": "stderr",
     "output_type": "stream",
     "text": [
      "\r",
      " 46%|████▌     | 577/1251 [11:02<14:26,  1.29s/it]"
     ]
    },
    {
     "name": "stdout",
     "output_type": "stream",
     "text": [
      "['/raid/jiang/projects/SubtleGAN/data/RSNA_ASNR_MICCAI_BraTS2021_TrainingData/BraTS2021_01413/BraTS2021_01413_t1.nii.gz']\n",
      "47 192\n",
      "41 217\n",
      "7 146\n"
     ]
    },
    {
     "name": "stderr",
     "output_type": "stream",
     "text": [
      "\r",
      " 46%|████▌     | 578/1251 [11:03<14:33,  1.30s/it]"
     ]
    },
    {
     "name": "stdout",
     "output_type": "stream",
     "text": [
      "['/raid/jiang/projects/SubtleGAN/data/RSNA_ASNR_MICCAI_BraTS2021_TrainingData/BraTS2021_00796/BraTS2021_00796_t1.nii.gz']\n",
      "47 188\n",
      "54 214\n",
      "0 138\n"
     ]
    },
    {
     "name": "stderr",
     "output_type": "stream",
     "text": [
      "\r",
      " 46%|████▋     | 579/1251 [11:04<14:13,  1.27s/it]"
     ]
    },
    {
     "name": "stdout",
     "output_type": "stream",
     "text": [
      "['/raid/jiang/projects/SubtleGAN/data/RSNA_ASNR_MICCAI_BraTS2021_TrainingData/BraTS2021_00811/BraTS2021_00811_t1.nii.gz']\n",
      "49 188\n",
      "50 208\n",
      "0 151\n"
     ]
    },
    {
     "name": "stderr",
     "output_type": "stream",
     "text": [
      "\r",
      " 46%|████▋     | 580/1251 [11:06<13:56,  1.25s/it]"
     ]
    },
    {
     "name": "stdout",
     "output_type": "stream",
     "text": [
      "['/raid/jiang/projects/SubtleGAN/data/RSNA_ASNR_MICCAI_BraTS2021_TrainingData/BraTS2021_01592/BraTS2021_01592_t1.nii.gz']\n",
      "54 182\n",
      "36 218\n",
      "0 148\n"
     ]
    },
    {
     "name": "stderr",
     "output_type": "stream",
     "text": [
      "\r",
      " 46%|████▋     | 581/1251 [11:07<14:01,  1.26s/it]"
     ]
    },
    {
     "name": "stdout",
     "output_type": "stream",
     "text": [
      "['/raid/jiang/projects/SubtleGAN/data/RSNA_ASNR_MICCAI_BraTS2021_TrainingData/BraTS2021_00382/BraTS2021_00382_t1.nii.gz']\n",
      "52 183\n",
      "37 220\n",
      "0 138\n",
      "['/raid/jiang/projects/SubtleGAN/data/RSNA_ASNR_MICCAI_BraTS2021_TrainingData/BraTS2021_01236/BraTS2021_01236_t1.nii.gz']\n"
     ]
    },
    {
     "name": "stderr",
     "output_type": "stream",
     "text": [
      "\r",
      " 47%|████▋     | 582/1251 [11:08<13:37,  1.22s/it]"
     ]
    },
    {
     "name": "stdout",
     "output_type": "stream",
     "text": [
      "56 183\n",
      "53 214\n",
      "0 143\n"
     ]
    },
    {
     "name": "stderr",
     "output_type": "stream",
     "text": [
      "\r",
      " 47%|████▋     | 583/1251 [11:09<13:39,  1.23s/it]"
     ]
    },
    {
     "name": "stdout",
     "output_type": "stream",
     "text": [
      "['/raid/jiang/projects/SubtleGAN/data/RSNA_ASNR_MICCAI_BraTS2021_TrainingData/BraTS2021_00367/BraTS2021_00367_t1.nii.gz']\n",
      "51 187\n",
      "38 215\n",
      "0 141\n"
     ]
    },
    {
     "name": "stderr",
     "output_type": "stream",
     "text": [
      "\r",
      " 47%|████▋     | 584/1251 [11:10<13:28,  1.21s/it]"
     ]
    },
    {
     "name": "stdout",
     "output_type": "stream",
     "text": [
      "['/raid/jiang/projects/SubtleGAN/data/RSNA_ASNR_MICCAI_BraTS2021_TrainingData/BraTS2021_01207/BraTS2021_01207_t1.nii.gz']\n",
      "50 188\n",
      "44 213\n",
      "0 137\n"
     ]
    },
    {
     "name": "stderr",
     "output_type": "stream",
     "text": [
      "\r",
      " 47%|████▋     | 585/1251 [11:12<13:38,  1.23s/it]"
     ]
    },
    {
     "name": "stdout",
     "output_type": "stream",
     "text": [
      "['/raid/jiang/projects/SubtleGAN/data/RSNA_ASNR_MICCAI_BraTS2021_TrainingData/BraTS2021_01153/BraTS2021_01153_t1.nii.gz']\n",
      "49 194\n",
      "38 210\n",
      "0 142\n"
     ]
    },
    {
     "name": "stderr",
     "output_type": "stream",
     "text": [
      "\r",
      " 47%|████▋     | 586/1251 [11:13<13:13,  1.19s/it]"
     ]
    },
    {
     "name": "stdout",
     "output_type": "stream",
     "text": [
      "['/raid/jiang/projects/SubtleGAN/data/RSNA_ASNR_MICCAI_BraTS2021_TrainingData/BraTS2021_00639/BraTS2021_00639_t1.nii.gz']\n",
      "53 186\n",
      "35 210\n",
      "0 123\n"
     ]
    },
    {
     "name": "stderr",
     "output_type": "stream",
     "text": [
      "\r",
      " 47%|████▋     | 587/1251 [11:14<13:09,  1.19s/it]"
     ]
    },
    {
     "name": "stdout",
     "output_type": "stream",
     "text": [
      "['/raid/jiang/projects/SubtleGAN/data/RSNA_ASNR_MICCAI_BraTS2021_TrainingData/BraTS2021_01465/BraTS2021_01465_t1.nii.gz']\n",
      "51 186\n",
      "40 214\n",
      "0 141\n"
     ]
    },
    {
     "name": "stderr",
     "output_type": "stream",
     "text": [
      "\r",
      " 47%|████▋     | 588/1251 [11:15<13:15,  1.20s/it]"
     ]
    },
    {
     "name": "stdout",
     "output_type": "stream",
     "text": [
      "['/raid/jiang/projects/SubtleGAN/data/RSNA_ASNR_MICCAI_BraTS2021_TrainingData/BraTS2021_01472/BraTS2021_01472_t1.nii.gz']\n",
      "49 190\n",
      "46 213\n",
      "0 131\n"
     ]
    },
    {
     "name": "stderr",
     "output_type": "stream",
     "text": [
      "\r",
      " 47%|████▋     | 589/1251 [11:16<13:04,  1.19s/it]"
     ]
    },
    {
     "name": "stdout",
     "output_type": "stream",
     "text": [
      "['/raid/jiang/projects/SubtleGAN/data/RSNA_ASNR_MICCAI_BraTS2021_TrainingData/BraTS2021_01101/BraTS2021_01101_t1.nii.gz']\n",
      "50 188\n",
      "45 211\n",
      "0 139\n"
     ]
    },
    {
     "name": "stderr",
     "output_type": "stream",
     "text": [
      "\r",
      " 47%|████▋     | 590/1251 [11:18<13:06,  1.19s/it]"
     ]
    },
    {
     "name": "stdout",
     "output_type": "stream",
     "text": [
      "['/raid/jiang/projects/SubtleGAN/data/RSNA_ASNR_MICCAI_BraTS2021_TrainingData/BraTS2021_00236/BraTS2021_00236_t1.nii.gz']\n",
      "49 188\n",
      "46 210\n",
      "0 139\n"
     ]
    },
    {
     "name": "stderr",
     "output_type": "stream",
     "text": [
      "\r",
      " 47%|████▋     | 591/1251 [11:19<13:12,  1.20s/it]"
     ]
    },
    {
     "name": "stdout",
     "output_type": "stream",
     "text": [
      "['/raid/jiang/projects/SubtleGAN/data/RSNA_ASNR_MICCAI_BraTS2021_TrainingData/BraTS2021_01046/BraTS2021_01046_t1.nii.gz']\n",
      "52 186\n",
      "43 219\n",
      "0 143\n"
     ]
    },
    {
     "name": "stderr",
     "output_type": "stream",
     "text": [
      "\r",
      " 47%|████▋     | 592/1251 [11:20<13:17,  1.21s/it]"
     ]
    },
    {
     "name": "stdout",
     "output_type": "stream",
     "text": [
      "['/raid/jiang/projects/SubtleGAN/data/RSNA_ASNR_MICCAI_BraTS2021_TrainingData/BraTS2021_00724/BraTS2021_00724_t1.nii.gz']\n",
      "53 187\n",
      "35 209\n",
      "0 140\n"
     ]
    },
    {
     "name": "stderr",
     "output_type": "stream",
     "text": [
      "\r",
      " 47%|████▋     | 593/1251 [11:21<12:44,  1.16s/it]"
     ]
    },
    {
     "name": "stdout",
     "output_type": "stream",
     "text": [
      "['/raid/jiang/projects/SubtleGAN/data/RSNA_ASNR_MICCAI_BraTS2021_TrainingData/BraTS2021_01279/BraTS2021_01279_t1.nii.gz']\n",
      "50 188\n",
      "53 207\n",
      "0 137\n"
     ]
    },
    {
     "name": "stderr",
     "output_type": "stream",
     "text": [
      "\r",
      " 47%|████▋     | 594/1251 [11:22<12:15,  1.12s/it]"
     ]
    },
    {
     "name": "stdout",
     "output_type": "stream",
     "text": [
      "['/raid/jiang/projects/SubtleGAN/data/RSNA_ASNR_MICCAI_BraTS2021_TrainingData/BraTS2021_00417/BraTS2021_00417_t1.nii.gz']\n",
      "48 189\n",
      "51 212\n",
      "5 139\n"
     ]
    },
    {
     "name": "stderr",
     "output_type": "stream",
     "text": [
      "\r",
      " 48%|████▊     | 595/1251 [11:23<12:48,  1.17s/it]"
     ]
    },
    {
     "name": "stdout",
     "output_type": "stream",
     "text": [
      "['/raid/jiang/projects/SubtleGAN/data/RSNA_ASNR_MICCAI_BraTS2021_TrainingData/BraTS2021_00795/BraTS2021_00795_t1.nii.gz']\n",
      "48 190\n",
      "43 218\n",
      "0 151\n"
     ]
    },
    {
     "name": "stderr",
     "output_type": "stream",
     "text": [
      "\r",
      " 48%|████▊     | 596/1251 [11:24<12:30,  1.15s/it]"
     ]
    },
    {
     "name": "stdout",
     "output_type": "stream",
     "text": [
      "['/raid/jiang/projects/SubtleGAN/data/RSNA_ASNR_MICCAI_BraTS2021_TrainingData/BraTS2021_01145/BraTS2021_01145_t1.nii.gz']\n",
      "51 184\n",
      "45 211\n",
      "2 136\n"
     ]
    },
    {
     "name": "stderr",
     "output_type": "stream",
     "text": [
      "\r",
      " 48%|████▊     | 597/1251 [11:26<12:16,  1.13s/it]"
     ]
    },
    {
     "name": "stdout",
     "output_type": "stream",
     "text": [
      "['/raid/jiang/projects/SubtleGAN/data/RSNA_ASNR_MICCAI_BraTS2021_TrainingData/BraTS2021_00150/BraTS2021_00150_t1.nii.gz']\n",
      "51 186\n",
      "43 214\n",
      "11 140\n"
     ]
    },
    {
     "name": "stderr",
     "output_type": "stream",
     "text": [
      "\r",
      " 48%|████▊     | 598/1251 [11:27<12:03,  1.11s/it]"
     ]
    },
    {
     "name": "stdout",
     "output_type": "stream",
     "text": [
      "['/raid/jiang/projects/SubtleGAN/data/RSNA_ASNR_MICCAI_BraTS2021_TrainingData/BraTS2021_00642/BraTS2021_00642_t1.nii.gz']\n",
      "51 187\n",
      "38 207\n",
      "0 137\n"
     ]
    },
    {
     "name": "stderr",
     "output_type": "stream",
     "text": [
      "\r",
      " 48%|████▊     | 599/1251 [11:28<11:46,  1.08s/it]"
     ]
    },
    {
     "name": "stdout",
     "output_type": "stream",
     "text": [
      "['/raid/jiang/projects/SubtleGAN/data/RSNA_ASNR_MICCAI_BraTS2021_TrainingData/BraTS2021_01393/BraTS2021_01393_t1.nii.gz']\n",
      "55 181\n",
      "48 212\n",
      "0 137\n"
     ]
    },
    {
     "name": "stderr",
     "output_type": "stream",
     "text": [
      "\r",
      " 48%|████▊     | 600/1251 [11:29<12:18,  1.13s/it]"
     ]
    },
    {
     "name": "stdout",
     "output_type": "stream",
     "text": [
      "['/raid/jiang/projects/SubtleGAN/data/RSNA_ASNR_MICCAI_BraTS2021_TrainingData/BraTS2021_00791/BraTS2021_00791_t1.nii.gz']\n",
      "54 184\n",
      "42 216\n",
      "0 151\n"
     ]
    },
    {
     "name": "stderr",
     "output_type": "stream",
     "text": [
      "\r",
      " 48%|████▊     | 601/1251 [11:30<12:48,  1.18s/it]"
     ]
    },
    {
     "name": "stdout",
     "output_type": "stream",
     "text": [
      "['/raid/jiang/projects/SubtleGAN/data/RSNA_ASNR_MICCAI_BraTS2021_TrainingData/BraTS2021_01010/BraTS2021_01010_t1.nii.gz']\n",
      "45 192\n",
      "51 204\n",
      "0 138\n"
     ]
    },
    {
     "name": "stderr",
     "output_type": "stream",
     "text": [
      "\r",
      " 48%|████▊     | 602/1251 [11:31<13:01,  1.20s/it]"
     ]
    },
    {
     "name": "stdout",
     "output_type": "stream",
     "text": [
      "['/raid/jiang/projects/SubtleGAN/data/RSNA_ASNR_MICCAI_BraTS2021_TrainingData/BraTS2021_01293/BraTS2021_01293_t1.nii.gz']\n",
      "49 189\n",
      "43 216\n",
      "0 136\n"
     ]
    },
    {
     "name": "stderr",
     "output_type": "stream",
     "text": [
      "\r",
      " 48%|████▊     | 603/1251 [11:33<13:00,  1.20s/it]"
     ]
    },
    {
     "name": "stdout",
     "output_type": "stream",
     "text": [
      "['/raid/jiang/projects/SubtleGAN/data/RSNA_ASNR_MICCAI_BraTS2021_TrainingData/BraTS2021_00703/BraTS2021_00703_t1.nii.gz']\n",
      "50 188\n",
      "31 213\n",
      "0 142\n"
     ]
    },
    {
     "name": "stderr",
     "output_type": "stream",
     "text": [
      "\r",
      " 48%|████▊     | 604/1251 [11:34<13:06,  1.22s/it]"
     ]
    },
    {
     "name": "stdout",
     "output_type": "stream",
     "text": [
      "['/raid/jiang/projects/SubtleGAN/data/RSNA_ASNR_MICCAI_BraTS2021_TrainingData/BraTS2021_00014/BraTS2021_00014_t1.nii.gz']\n",
      "54 189\n",
      "33 210\n",
      "3 128\n"
     ]
    },
    {
     "name": "stderr",
     "output_type": "stream",
     "text": [
      "\r",
      " 48%|████▊     | 605/1251 [11:35<12:15,  1.14s/it]"
     ]
    },
    {
     "name": "stdout",
     "output_type": "stream",
     "text": [
      "['/raid/jiang/projects/SubtleGAN/data/RSNA_ASNR_MICCAI_BraTS2021_TrainingData/BraTS2021_01365/BraTS2021_01365_t1.nii.gz']\n",
      "57 182\n",
      "46 210\n",
      "0 136\n"
     ]
    },
    {
     "name": "stderr",
     "output_type": "stream",
     "text": [
      "\r",
      " 48%|████▊     | 606/1251 [11:36<12:04,  1.12s/it]"
     ]
    },
    {
     "name": "stdout",
     "output_type": "stream",
     "text": [
      "['/raid/jiang/projects/SubtleGAN/data/RSNA_ASNR_MICCAI_BraTS2021_TrainingData/BraTS2021_01232/BraTS2021_01232_t1.nii.gz']\n",
      "52 183\n",
      "36 217\n",
      "0 139\n"
     ]
    },
    {
     "name": "stderr",
     "output_type": "stream",
     "text": [
      "\r",
      " 49%|████▊     | 607/1251 [11:37<12:26,  1.16s/it]"
     ]
    },
    {
     "name": "stdout",
     "output_type": "stream",
     "text": [
      "['/raid/jiang/projects/SubtleGAN/data/RSNA_ASNR_MICCAI_BraTS2021_TrainingData/BraTS2021_01496/BraTS2021_01496_t1.nii.gz']\n",
      "48 194\n",
      "44 212\n",
      "0 135\n"
     ]
    },
    {
     "name": "stderr",
     "output_type": "stream",
     "text": [
      "\r",
      " 49%|████▊     | 608/1251 [11:38<12:22,  1.15s/it]"
     ]
    },
    {
     "name": "stdout",
     "output_type": "stream",
     "text": [
      "['/raid/jiang/projects/SubtleGAN/data/RSNA_ASNR_MICCAI_BraTS2021_TrainingData/BraTS2021_01539/BraTS2021_01539_t1.nii.gz']\n",
      "54 184\n",
      "47 211\n",
      "2 137\n"
     ]
    },
    {
     "name": "stderr",
     "output_type": "stream",
     "text": [
      "\r",
      " 49%|████▊     | 609/1251 [11:39<12:17,  1.15s/it]"
     ]
    },
    {
     "name": "stdout",
     "output_type": "stream",
     "text": [
      "['/raid/jiang/projects/SubtleGAN/data/RSNA_ASNR_MICCAI_BraTS2021_TrainingData/BraTS2021_00628/BraTS2021_00628_t1.nii.gz']\n",
      "53 186\n",
      "34 210\n",
      "0 150\n"
     ]
    },
    {
     "name": "stderr",
     "output_type": "stream",
     "text": [
      "\r",
      " 49%|████▉     | 610/1251 [11:41<12:17,  1.15s/it]"
     ]
    },
    {
     "name": "stdout",
     "output_type": "stream",
     "text": [
      "['/raid/jiang/projects/SubtleGAN/data/RSNA_ASNR_MICCAI_BraTS2021_TrainingData/BraTS2021_01009/BraTS2021_01009_t1.nii.gz']\n",
      "51 185\n",
      "47 215\n",
      "3 141\n"
     ]
    },
    {
     "name": "stderr",
     "output_type": "stream",
     "text": [
      "\r",
      " 49%|████▉     | 611/1251 [11:42<11:59,  1.12s/it]"
     ]
    },
    {
     "name": "stdout",
     "output_type": "stream",
     "text": [
      "['/raid/jiang/projects/SubtleGAN/data/RSNA_ASNR_MICCAI_BraTS2021_TrainingData/BraTS2021_01414/BraTS2021_01414_t1.nii.gz']\n",
      "56 184\n",
      "54 209\n",
      "10 139\n"
     ]
    },
    {
     "name": "stderr",
     "output_type": "stream",
     "text": [
      "\r",
      " 49%|████▉     | 612/1251 [11:43<12:06,  1.14s/it]"
     ]
    },
    {
     "name": "stdout",
     "output_type": "stream",
     "text": [
      "['/raid/jiang/projects/SubtleGAN/data/RSNA_ASNR_MICCAI_BraTS2021_TrainingData/BraTS2021_00605/BraTS2021_00605_t1.nii.gz']\n",
      "47 193\n",
      "42 208\n",
      "0 145\n"
     ]
    },
    {
     "name": "stderr",
     "output_type": "stream",
     "text": [
      "\r",
      " 49%|████▉     | 613/1251 [11:44<12:28,  1.17s/it]"
     ]
    },
    {
     "name": "stdout",
     "output_type": "stream",
     "text": [
      "['/raid/jiang/projects/SubtleGAN/data/RSNA_ASNR_MICCAI_BraTS2021_TrainingData/BraTS2021_01609/BraTS2021_01609_t1.nii.gz']\n",
      "53 188\n",
      "43 211\n",
      "0 143\n"
     ]
    },
    {
     "name": "stderr",
     "output_type": "stream",
     "text": [
      "\r",
      " 49%|████▉     | 614/1251 [11:45<12:38,  1.19s/it]"
     ]
    },
    {
     "name": "stdout",
     "output_type": "stream",
     "text": [
      "['/raid/jiang/projects/SubtleGAN/data/RSNA_ASNR_MICCAI_BraTS2021_TrainingData/BraTS2021_01142/BraTS2021_01142_t1.nii.gz']\n",
      "47 190\n",
      "47 210\n",
      "0 134\n"
     ]
    },
    {
     "name": "stderr",
     "output_type": "stream",
     "text": [
      "\r",
      " 49%|████▉     | 615/1251 [11:46<12:29,  1.18s/it]"
     ]
    },
    {
     "name": "stdout",
     "output_type": "stream",
     "text": [
      "['/raid/jiang/projects/SubtleGAN/data/RSNA_ASNR_MICCAI_BraTS2021_TrainingData/BraTS2021_01351/BraTS2021_01351_t1.nii.gz']\n",
      "48 191\n",
      "37 218\n",
      "0 144\n"
     ]
    },
    {
     "name": "stderr",
     "output_type": "stream",
     "text": [
      "\r",
      " 49%|████▉     | 616/1251 [11:48<12:24,  1.17s/it]"
     ]
    },
    {
     "name": "stdout",
     "output_type": "stream",
     "text": [
      "['/raid/jiang/projects/SubtleGAN/data/RSNA_ASNR_MICCAI_BraTS2021_TrainingData/BraTS2021_01104/BraTS2021_01104_t1.nii.gz']\n",
      "53 181\n",
      "45 216\n",
      "5 142\n"
     ]
    },
    {
     "name": "stderr",
     "output_type": "stream",
     "text": [
      "\r",
      " 49%|████▉     | 617/1251 [11:49<12:13,  1.16s/it]"
     ]
    },
    {
     "name": "stdout",
     "output_type": "stream",
     "text": [
      "['/raid/jiang/projects/SubtleGAN/data/RSNA_ASNR_MICCAI_BraTS2021_TrainingData/BraTS2021_01449/BraTS2021_01449_t1.nii.gz']\n",
      "50 191\n",
      "44 209\n",
      "1 139\n"
     ]
    },
    {
     "name": "stderr",
     "output_type": "stream",
     "text": [
      "\r",
      " 49%|████▉     | 618/1251 [11:50<12:01,  1.14s/it]"
     ]
    },
    {
     "name": "stdout",
     "output_type": "stream",
     "text": [
      "['/raid/jiang/projects/SubtleGAN/data/RSNA_ASNR_MICCAI_BraTS2021_TrainingData/BraTS2021_01149/BraTS2021_01149_t1.nii.gz']\n",
      "54 185\n",
      "43 212\n",
      "0 140\n"
     ]
    },
    {
     "name": "stderr",
     "output_type": "stream",
     "text": [
      "\r",
      " 49%|████▉     | 619/1251 [11:51<12:23,  1.18s/it]"
     ]
    },
    {
     "name": "stdout",
     "output_type": "stream",
     "text": [
      "['/raid/jiang/projects/SubtleGAN/data/RSNA_ASNR_MICCAI_BraTS2021_TrainingData/BraTS2021_00744/BraTS2021_00744_t1.nii.gz']\n",
      "50 190\n",
      "26 213\n",
      "0 139\n"
     ]
    },
    {
     "name": "stderr",
     "output_type": "stream",
     "text": [
      "\r",
      " 50%|████▉     | 620/1251 [11:52<12:26,  1.18s/it]"
     ]
    },
    {
     "name": "stdout",
     "output_type": "stream",
     "text": [
      "['/raid/jiang/projects/SubtleGAN/data/RSNA_ASNR_MICCAI_BraTS2021_TrainingData/BraTS2021_01478/BraTS2021_01478_t1.nii.gz']\n",
      "53 186\n",
      "43 214\n",
      "6 144\n"
     ]
    },
    {
     "name": "stderr",
     "output_type": "stream",
     "text": [
      "\r",
      " 50%|████▉     | 621/1251 [11:54<12:39,  1.20s/it]"
     ]
    },
    {
     "name": "stdout",
     "output_type": "stream",
     "text": [
      "['/raid/jiang/projects/SubtleGAN/data/RSNA_ASNR_MICCAI_BraTS2021_TrainingData/BraTS2021_01416/BraTS2021_01416_t1.nii.gz']\n",
      "46 191\n",
      "42 216\n",
      "5 145\n"
     ]
    },
    {
     "name": "stderr",
     "output_type": "stream",
     "text": [
      "\r",
      " 50%|████▉     | 622/1251 [11:55<12:17,  1.17s/it]"
     ]
    },
    {
     "name": "stdout",
     "output_type": "stream",
     "text": [
      "['/raid/jiang/projects/SubtleGAN/data/RSNA_ASNR_MICCAI_BraTS2021_TrainingData/BraTS2021_01419/BraTS2021_01419_t1.nii.gz']\n",
      "55 182\n",
      "46 214\n",
      "9 138\n"
     ]
    },
    {
     "name": "stderr",
     "output_type": "stream",
     "text": [
      "\r",
      " 50%|████▉     | 623/1251 [11:56<11:57,  1.14s/it]"
     ]
    },
    {
     "name": "stdout",
     "output_type": "stream",
     "text": [
      "['/raid/jiang/projects/SubtleGAN/data/RSNA_ASNR_MICCAI_BraTS2021_TrainingData/BraTS2021_01176/BraTS2021_01176_t1.nii.gz']\n",
      "57 184\n",
      "47 209\n",
      "6 134\n"
     ]
    },
    {
     "name": "stderr",
     "output_type": "stream",
     "text": [
      "\r",
      " 50%|████▉     | 624/1251 [11:57<12:20,  1.18s/it]"
     ]
    },
    {
     "name": "stdout",
     "output_type": "stream",
     "text": [
      "['/raid/jiang/projects/SubtleGAN/data/RSNA_ASNR_MICCAI_BraTS2021_TrainingData/BraTS2021_01652/BraTS2021_01652_t1.nii.gz']\n",
      "53 184\n",
      "45 216\n",
      "0 140\n"
     ]
    },
    {
     "name": "stderr",
     "output_type": "stream",
     "text": [
      "\r",
      " 50%|████▉     | 625/1251 [11:58<12:07,  1.16s/it]"
     ]
    },
    {
     "name": "stdout",
     "output_type": "stream",
     "text": [
      "['/raid/jiang/projects/SubtleGAN/data/RSNA_ASNR_MICCAI_BraTS2021_TrainingData/BraTS2021_00237/BraTS2021_00237_t1.nii.gz']\n",
      "53 185\n",
      "41 213\n",
      "0 137\n"
     ]
    },
    {
     "name": "stderr",
     "output_type": "stream",
     "text": [
      "\r",
      " 50%|█████     | 626/1251 [11:59<12:20,  1.19s/it]"
     ]
    },
    {
     "name": "stdout",
     "output_type": "stream",
     "text": [
      "['/raid/jiang/projects/SubtleGAN/data/RSNA_ASNR_MICCAI_BraTS2021_TrainingData/BraTS2021_01662/BraTS2021_01662_t1.nii.gz']\n",
      "51 184\n",
      "50 207\n",
      "0 135\n"
     ]
    },
    {
     "name": "stderr",
     "output_type": "stream",
     "text": [
      "\r",
      " 50%|█████     | 627/1251 [12:01<12:35,  1.21s/it]"
     ]
    },
    {
     "name": "stdout",
     "output_type": "stream",
     "text": [
      "['/raid/jiang/projects/SubtleGAN/data/RSNA_ASNR_MICCAI_BraTS2021_TrainingData/BraTS2021_00733/BraTS2021_00733_t1.nii.gz']\n",
      "46 194\n",
      "38 204\n",
      "0 135\n"
     ]
    },
    {
     "name": "stderr",
     "output_type": "stream",
     "text": [
      "\r",
      " 50%|█████     | 628/1251 [12:02<13:36,  1.31s/it]"
     ]
    },
    {
     "name": "stdout",
     "output_type": "stream",
     "text": [
      "['/raid/jiang/projects/SubtleGAN/data/RSNA_ASNR_MICCAI_BraTS2021_TrainingData/BraTS2021_01580/BraTS2021_01580_t1.nii.gz']\n",
      "48 188\n",
      "36 221\n",
      "0 143\n"
     ]
    },
    {
     "name": "stderr",
     "output_type": "stream",
     "text": [
      "\r",
      " 50%|█████     | 629/1251 [12:03<13:10,  1.27s/it]"
     ]
    },
    {
     "name": "stdout",
     "output_type": "stream",
     "text": [
      "['/raid/jiang/projects/SubtleGAN/data/RSNA_ASNR_MICCAI_BraTS2021_TrainingData/BraTS2021_01457/BraTS2021_01457_t1.nii.gz']\n",
      "51 185\n",
      "52 213\n",
      "6 137\n"
     ]
    },
    {
     "name": "stderr",
     "output_type": "stream",
     "text": [
      "\r",
      " 50%|█████     | 630/1251 [12:04<12:43,  1.23s/it]"
     ]
    },
    {
     "name": "stdout",
     "output_type": "stream",
     "text": [
      "['/raid/jiang/projects/SubtleGAN/data/RSNA_ASNR_MICCAI_BraTS2021_TrainingData/BraTS2021_01328/BraTS2021_01328_t1.nii.gz']\n",
      "50 188\n",
      "42 214\n",
      "1 144\n"
     ]
    },
    {
     "name": "stderr",
     "output_type": "stream",
     "text": [
      "\r",
      " 50%|█████     | 631/1251 [12:06<12:21,  1.20s/it]"
     ]
    },
    {
     "name": "stdout",
     "output_type": "stream",
     "text": [
      "['/raid/jiang/projects/SubtleGAN/data/RSNA_ASNR_MICCAI_BraTS2021_TrainingData/BraTS2021_01518/BraTS2021_01518_t1.nii.gz']\n",
      "54 185\n",
      "36 216\n",
      "0 139\n",
      "['/raid/jiang/projects/SubtleGAN/data/RSNA_ASNR_MICCAI_BraTS2021_TrainingData/BraTS2021_01296/BraTS2021_01296_t1.nii.gz']\n"
     ]
    },
    {
     "name": "stderr",
     "output_type": "stream",
     "text": [
      "\r",
      " 51%|█████     | 632/1251 [12:07<12:05,  1.17s/it]"
     ]
    },
    {
     "name": "stdout",
     "output_type": "stream",
     "text": [
      "51 188\n",
      "46 213\n",
      "0 135\n"
     ]
    },
    {
     "name": "stderr",
     "output_type": "stream",
     "text": [
      "\r",
      " 51%|█████     | 633/1251 [12:08<12:05,  1.17s/it]"
     ]
    },
    {
     "name": "stdout",
     "output_type": "stream",
     "text": [
      "['/raid/jiang/projects/SubtleGAN/data/RSNA_ASNR_MICCAI_BraTS2021_TrainingData/BraTS2021_01287/BraTS2021_01287_t1.nii.gz']\n",
      "48 189\n",
      "43 219\n",
      "0 137\n"
     ]
    },
    {
     "name": "stderr",
     "output_type": "stream",
     "text": [
      "\r",
      " 51%|█████     | 634/1251 [12:09<11:52,  1.16s/it]"
     ]
    },
    {
     "name": "stdout",
     "output_type": "stream",
     "text": [
      "['/raid/jiang/projects/SubtleGAN/data/RSNA_ASNR_MICCAI_BraTS2021_TrainingData/BraTS2021_00107/BraTS2021_00107_t1.nii.gz']\n",
      "51 186\n",
      "47 210\n",
      "0 138\n"
     ]
    },
    {
     "name": "stderr",
     "output_type": "stream",
     "text": [
      "\r",
      " 51%|█████     | 635/1251 [12:10<11:46,  1.15s/it]"
     ]
    },
    {
     "name": "stdout",
     "output_type": "stream",
     "text": [
      "['/raid/jiang/projects/SubtleGAN/data/RSNA_ASNR_MICCAI_BraTS2021_TrainingData/BraTS2021_01078/BraTS2021_01078_t1.nii.gz']\n",
      "57 181\n",
      "48 215\n",
      "1 141\n"
     ]
    },
    {
     "name": "stderr",
     "output_type": "stream",
     "text": [
      "\r",
      " 51%|█████     | 636/1251 [12:11<11:42,  1.14s/it]"
     ]
    },
    {
     "name": "stdout",
     "output_type": "stream",
     "text": [
      "['/raid/jiang/projects/SubtleGAN/data/RSNA_ASNR_MICCAI_BraTS2021_TrainingData/BraTS2021_00066/BraTS2021_00066_t1.nii.gz']\n",
      "51 187\n",
      "37 209\n",
      "19 143\n"
     ]
    },
    {
     "name": "stderr",
     "output_type": "stream",
     "text": [
      "\r",
      " 51%|█████     | 637/1251 [12:12<11:45,  1.15s/it]"
     ]
    },
    {
     "name": "stdout",
     "output_type": "stream",
     "text": [
      "['/raid/jiang/projects/SubtleGAN/data/RSNA_ASNR_MICCAI_BraTS2021_TrainingData/BraTS2021_01507/BraTS2021_01507_t1.nii.gz']\n",
      "49 186\n",
      "40 214\n",
      "0 139\n"
     ]
    },
    {
     "name": "stderr",
     "output_type": "stream",
     "text": [
      "\r",
      " 51%|█████     | 638/1251 [12:14<11:53,  1.16s/it]"
     ]
    },
    {
     "name": "stdout",
     "output_type": "stream",
     "text": [
      "['/raid/jiang/projects/SubtleGAN/data/RSNA_ASNR_MICCAI_BraTS2021_TrainingData/BraTS2021_00775/BraTS2021_00775_t1.nii.gz']\n",
      "51 184\n",
      "36 210\n",
      "0 135\n"
     ]
    },
    {
     "name": "stderr",
     "output_type": "stream",
     "text": [
      "\r",
      " 51%|█████     | 639/1251 [12:15<11:53,  1.17s/it]"
     ]
    },
    {
     "name": "stdout",
     "output_type": "stream",
     "text": [
      "['/raid/jiang/projects/SubtleGAN/data/RSNA_ASNR_MICCAI_BraTS2021_TrainingData/BraTS2021_01404/BraTS2021_01404_t1.nii.gz']\n",
      "53 185\n",
      "40 214\n",
      "0 140\n"
     ]
    },
    {
     "name": "stderr",
     "output_type": "stream",
     "text": [
      "\r",
      " 51%|█████     | 640/1251 [12:16<12:04,  1.19s/it]"
     ]
    },
    {
     "name": "stdout",
     "output_type": "stream",
     "text": [
      "['/raid/jiang/projects/SubtleGAN/data/RSNA_ASNR_MICCAI_BraTS2021_TrainingData/BraTS2021_00448/BraTS2021_00448_t1.nii.gz']\n",
      "54 181\n",
      "45 216\n",
      "4 141\n"
     ]
    },
    {
     "name": "stderr",
     "output_type": "stream",
     "text": [
      "\r",
      " 51%|█████     | 641/1251 [12:17<11:23,  1.12s/it]"
     ]
    },
    {
     "name": "stdout",
     "output_type": "stream",
     "text": [
      "['/raid/jiang/projects/SubtleGAN/data/RSNA_ASNR_MICCAI_BraTS2021_TrainingData/BraTS2021_01161/BraTS2021_01161_t1.nii.gz']\n",
      "59 184\n",
      "32 200\n",
      "5 145\n"
     ]
    },
    {
     "name": "stderr",
     "output_type": "stream",
     "text": [
      "\r",
      " 51%|█████▏    | 642/1251 [12:18<11:28,  1.13s/it]"
     ]
    },
    {
     "name": "stdout",
     "output_type": "stream",
     "text": [
      "['/raid/jiang/projects/SubtleGAN/data/RSNA_ASNR_MICCAI_BraTS2021_TrainingData/BraTS2021_00209/BraTS2021_00209_t1.nii.gz']\n",
      "43 193\n",
      "44 216\n",
      "0 142\n"
     ]
    },
    {
     "name": "stderr",
     "output_type": "stream",
     "text": [
      "\r",
      " 51%|█████▏    | 643/1251 [12:19<12:05,  1.19s/it]"
     ]
    },
    {
     "name": "stdout",
     "output_type": "stream",
     "text": [
      "['/raid/jiang/projects/SubtleGAN/data/RSNA_ASNR_MICCAI_BraTS2021_TrainingData/BraTS2021_00301/BraTS2021_00301_t1.nii.gz']\n",
      "43 191\n",
      "46 215\n",
      "0 143\n"
     ]
    },
    {
     "name": "stderr",
     "output_type": "stream",
     "text": [
      "\r",
      " 51%|█████▏    | 644/1251 [12:21<11:52,  1.17s/it]"
     ]
    },
    {
     "name": "stdout",
     "output_type": "stream",
     "text": [
      "['/raid/jiang/projects/SubtleGAN/data/RSNA_ASNR_MICCAI_BraTS2021_TrainingData/BraTS2021_01445/BraTS2021_01445_t1.nii.gz']\n",
      "51 184\n",
      "42 213\n",
      "0 138\n"
     ]
    },
    {
     "name": "stderr",
     "output_type": "stream",
     "text": [
      "\r",
      " 52%|█████▏    | 645/1251 [12:22<12:26,  1.23s/it]"
     ]
    },
    {
     "name": "stdout",
     "output_type": "stream",
     "text": [
      "['/raid/jiang/projects/SubtleGAN/data/RSNA_ASNR_MICCAI_BraTS2021_TrainingData/BraTS2021_00528/BraTS2021_00528_t1.nii.gz']\n",
      "46 193\n",
      "20 213\n",
      "0 146\n"
     ]
    },
    {
     "name": "stderr",
     "output_type": "stream",
     "text": [
      "\r",
      " 52%|█████▏    | 646/1251 [12:23<12:53,  1.28s/it]"
     ]
    },
    {
     "name": "stdout",
     "output_type": "stream",
     "text": [
      "['/raid/jiang/projects/SubtleGAN/data/RSNA_ASNR_MICCAI_BraTS2021_TrainingData/BraTS2021_01037/BraTS2021_01037_t1.nii.gz']\n",
      "51 187\n",
      "31 220\n",
      "0 139\n"
     ]
    },
    {
     "name": "stderr",
     "output_type": "stream",
     "text": [
      "\r",
      " 52%|█████▏    | 647/1251 [12:25<12:45,  1.27s/it]"
     ]
    },
    {
     "name": "stdout",
     "output_type": "stream",
     "text": [
      "['/raid/jiang/projects/SubtleGAN/data/RSNA_ASNR_MICCAI_BraTS2021_TrainingData/BraTS2021_01531/BraTS2021_01531_t1.nii.gz']\n",
      "52 186\n",
      "53 205\n",
      "5 139\n"
     ]
    },
    {
     "name": "stderr",
     "output_type": "stream",
     "text": [
      "\r",
      " 52%|█████▏    | 648/1251 [12:26<12:03,  1.20s/it]"
     ]
    },
    {
     "name": "stdout",
     "output_type": "stream",
     "text": [
      "['/raid/jiang/projects/SubtleGAN/data/RSNA_ASNR_MICCAI_BraTS2021_TrainingData/BraTS2021_01262/BraTS2021_01262_t1.nii.gz']\n",
      "56 183\n",
      "41 215\n",
      "10 138\n",
      "['/raid/jiang/projects/SubtleGAN/data/RSNA_ASNR_MICCAI_BraTS2021_TrainingData/BraTS2021_00516/BraTS2021_00516_t1.nii.gz']\n"
     ]
    },
    {
     "name": "stderr",
     "output_type": "stream",
     "text": [
      "\r",
      " 52%|█████▏    | 649/1251 [12:27<11:39,  1.16s/it]"
     ]
    },
    {
     "name": "stdout",
     "output_type": "stream",
     "text": [
      "52 187\n",
      "37 205\n",
      "10 147\n"
     ]
    },
    {
     "name": "stderr",
     "output_type": "stream",
     "text": [
      "\r",
      " 52%|█████▏    | 650/1251 [12:28<11:32,  1.15s/it]"
     ]
    },
    {
     "name": "stdout",
     "output_type": "stream",
     "text": [
      "['/raid/jiang/projects/SubtleGAN/data/RSNA_ASNR_MICCAI_BraTS2021_TrainingData/BraTS2021_01619/BraTS2021_01619_t1.nii.gz']\n",
      "52 184\n",
      "45 211\n",
      "0 148\n"
     ]
    },
    {
     "name": "stderr",
     "output_type": "stream",
     "text": [
      "\r",
      " 52%|█████▏    | 651/1251 [12:29<11:26,  1.14s/it]"
     ]
    },
    {
     "name": "stdout",
     "output_type": "stream",
     "text": [
      "['/raid/jiang/projects/SubtleGAN/data/RSNA_ASNR_MICCAI_BraTS2021_TrainingData/BraTS2021_01061/BraTS2021_01061_t1.nii.gz']\n",
      "54 183\n",
      "43 214\n",
      "0 140\n"
     ]
    },
    {
     "name": "stderr",
     "output_type": "stream",
     "text": [
      "\r",
      " 52%|█████▏    | 652/1251 [12:30<11:28,  1.15s/it]"
     ]
    },
    {
     "name": "stdout",
     "output_type": "stream",
     "text": [
      "['/raid/jiang/projects/SubtleGAN/data/RSNA_ASNR_MICCAI_BraTS2021_TrainingData/BraTS2021_01015/BraTS2021_01015_t1.nii.gz']\n",
      "49 184\n",
      "48 210\n",
      "2 136\n"
     ]
    },
    {
     "name": "stderr",
     "output_type": "stream",
     "text": [
      "\r",
      " 52%|█████▏    | 653/1251 [12:31<11:31,  1.16s/it]"
     ]
    },
    {
     "name": "stdout",
     "output_type": "stream",
     "text": [
      "['/raid/jiang/projects/SubtleGAN/data/RSNA_ASNR_MICCAI_BraTS2021_TrainingData/BraTS2021_01373/BraTS2021_01373_t1.nii.gz']\n",
      "54 184\n",
      "53 213\n",
      "0 140\n"
     ]
    },
    {
     "name": "stderr",
     "output_type": "stream",
     "text": [
      "\r",
      " 52%|█████▏    | 654/1251 [12:33<11:48,  1.19s/it]"
     ]
    },
    {
     "name": "stdout",
     "output_type": "stream",
     "text": [
      "['/raid/jiang/projects/SubtleGAN/data/RSNA_ASNR_MICCAI_BraTS2021_TrainingData/BraTS2021_01027/BraTS2021_01027_t1.nii.gz']\n",
      "51 187\n",
      "39 216\n",
      "3 143\n"
     ]
    },
    {
     "name": "stderr",
     "output_type": "stream",
     "text": [
      "\r",
      " 52%|█████▏    | 655/1251 [12:34<11:19,  1.14s/it]"
     ]
    },
    {
     "name": "stdout",
     "output_type": "stream",
     "text": [
      "['/raid/jiang/projects/SubtleGAN/data/RSNA_ASNR_MICCAI_BraTS2021_TrainingData/BraTS2021_01244/BraTS2021_01244_t1.nii.gz']\n",
      "56 181\n",
      "48 204\n",
      "3 136\n"
     ]
    },
    {
     "name": "stderr",
     "output_type": "stream",
     "text": [
      "\r",
      " 52%|█████▏    | 656/1251 [12:35<10:56,  1.10s/it]"
     ]
    },
    {
     "name": "stdout",
     "output_type": "stream",
     "text": [
      "['/raid/jiang/projects/SubtleGAN/data/RSNA_ASNR_MICCAI_BraTS2021_TrainingData/BraTS2021_00512/BraTS2021_00512_t1.nii.gz']\n",
      "55 184\n",
      "40 210\n",
      "7 142\n"
     ]
    },
    {
     "name": "stderr",
     "output_type": "stream",
     "text": [
      "\r",
      " 53%|█████▎    | 657/1251 [12:36<10:58,  1.11s/it]"
     ]
    },
    {
     "name": "stdout",
     "output_type": "stream",
     "text": [
      "['/raid/jiang/projects/SubtleGAN/data/RSNA_ASNR_MICCAI_BraTS2021_TrainingData/BraTS2021_01115/BraTS2021_01115_t1.nii.gz']\n",
      "51 186\n",
      "48 209\n",
      "5 140\n"
     ]
    },
    {
     "name": "stderr",
     "output_type": "stream",
     "text": [
      "\r",
      " 53%|█████▎    | 658/1251 [12:37<10:43,  1.08s/it]"
     ]
    },
    {
     "name": "stdout",
     "output_type": "stream",
     "text": [
      "['/raid/jiang/projects/SubtleGAN/data/RSNA_ASNR_MICCAI_BraTS2021_TrainingData/BraTS2021_01072/BraTS2021_01072_t1.nii.gz']\n",
      "57 178\n",
      "46 212\n",
      "4 141\n"
     ]
    },
    {
     "name": "stderr",
     "output_type": "stream",
     "text": [
      "\r",
      " 53%|█████▎    | 659/1251 [12:38<10:42,  1.09s/it]"
     ]
    },
    {
     "name": "stdout",
     "output_type": "stream",
     "text": [
      "['/raid/jiang/projects/SubtleGAN/data/RSNA_ASNR_MICCAI_BraTS2021_TrainingData/BraTS2021_00520/BraTS2021_00520_t1.nii.gz']\n",
      "51 187\n",
      "42 212\n",
      "2 139\n"
     ]
    },
    {
     "name": "stderr",
     "output_type": "stream",
     "text": [
      "\r",
      " 53%|█████▎    | 660/1251 [12:39<11:01,  1.12s/it]"
     ]
    },
    {
     "name": "stdout",
     "output_type": "stream",
     "text": [
      "['/raid/jiang/projects/SubtleGAN/data/RSNA_ASNR_MICCAI_BraTS2021_TrainingData/BraTS2021_00631/BraTS2021_00631_t1.nii.gz']\n",
      "50 192\n",
      "33 208\n",
      "1 140\n"
     ]
    },
    {
     "name": "stderr",
     "output_type": "stream",
     "text": [
      "\r",
      " 53%|█████▎    | 661/1251 [12:40<11:25,  1.16s/it]"
     ]
    },
    {
     "name": "stdout",
     "output_type": "stream",
     "text": [
      "['/raid/jiang/projects/SubtleGAN/data/RSNA_ASNR_MICCAI_BraTS2021_TrainingData/BraTS2021_01625/BraTS2021_01625_t1.nii.gz']\n",
      "54 182\n",
      "40 217\n",
      "0 143\n"
     ]
    },
    {
     "name": "stderr",
     "output_type": "stream",
     "text": [
      "\r",
      " 53%|█████▎    | 662/1251 [12:41<11:28,  1.17s/it]"
     ]
    },
    {
     "name": "stdout",
     "output_type": "stream",
     "text": [
      "['/raid/jiang/projects/SubtleGAN/data/RSNA_ASNR_MICCAI_BraTS2021_TrainingData/BraTS2021_01197/BraTS2021_01197_t1.nii.gz']\n",
      "53 182\n",
      "49 209\n",
      "2 131\n"
     ]
    },
    {
     "name": "stderr",
     "output_type": "stream",
     "text": [
      "\r",
      " 53%|█████▎    | 663/1251 [12:43<11:53,  1.21s/it]"
     ]
    },
    {
     "name": "stdout",
     "output_type": "stream",
     "text": [
      "['/raid/jiang/projects/SubtleGAN/data/RSNA_ASNR_MICCAI_BraTS2021_TrainingData/BraTS2021_00604/BraTS2021_00604_t1.nii.gz']\n",
      "53 188\n",
      "40 217\n",
      "3 148\n"
     ]
    },
    {
     "name": "stderr",
     "output_type": "stream",
     "text": [
      "\r",
      " 53%|█████▎    | 664/1251 [12:44<12:25,  1.27s/it]"
     ]
    },
    {
     "name": "stdout",
     "output_type": "stream",
     "text": [
      "['/raid/jiang/projects/SubtleGAN/data/RSNA_ASNR_MICCAI_BraTS2021_TrainingData/BraTS2021_00399/BraTS2021_00399_t1.nii.gz']\n",
      "51 185\n",
      "45 213\n",
      "2 141\n"
     ]
    },
    {
     "name": "stderr",
     "output_type": "stream",
     "text": [
      "\r",
      " 53%|█████▎    | 665/1251 [12:45<12:25,  1.27s/it]"
     ]
    },
    {
     "name": "stdout",
     "output_type": "stream",
     "text": [
      "['/raid/jiang/projects/SubtleGAN/data/RSNA_ASNR_MICCAI_BraTS2021_TrainingData/BraTS2021_01337/BraTS2021_01337_t1.nii.gz']\n",
      "46 192\n",
      "49 214\n",
      "2 138\n"
     ]
    },
    {
     "name": "stderr",
     "output_type": "stream",
     "text": [
      "\r",
      " 53%|█████▎    | 666/1251 [12:47<12:02,  1.23s/it]"
     ]
    },
    {
     "name": "stdout",
     "output_type": "stream",
     "text": [
      "['/raid/jiang/projects/SubtleGAN/data/RSNA_ASNR_MICCAI_BraTS2021_TrainingData/BraTS2021_01238/BraTS2021_01238_t1.nii.gz']\n",
      "54 183\n",
      "41 212\n",
      "0 138\n"
     ]
    },
    {
     "name": "stderr",
     "output_type": "stream",
     "text": [
      "\r",
      " 53%|█████▎    | 667/1251 [12:48<11:42,  1.20s/it]"
     ]
    },
    {
     "name": "stdout",
     "output_type": "stream",
     "text": [
      "['/raid/jiang/projects/SubtleGAN/data/RSNA_ASNR_MICCAI_BraTS2021_TrainingData/BraTS2021_01555/BraTS2021_01555_t1.nii.gz']\n",
      "55 176\n",
      "47 212\n",
      "0 139\n"
     ]
    },
    {
     "name": "stderr",
     "output_type": "stream",
     "text": [
      "\r",
      " 53%|█████▎    | 668/1251 [12:49<11:14,  1.16s/it]"
     ]
    },
    {
     "name": "stdout",
     "output_type": "stream",
     "text": [
      "['/raid/jiang/projects/SubtleGAN/data/RSNA_ASNR_MICCAI_BraTS2021_TrainingData/BraTS2021_01036/BraTS2021_01036_t1.nii.gz']\n",
      "50 186\n",
      "53 210\n",
      "0 138\n"
     ]
    },
    {
     "name": "stderr",
     "output_type": "stream",
     "text": [
      "\r",
      " 53%|█████▎    | 669/1251 [12:50<11:17,  1.16s/it]"
     ]
    },
    {
     "name": "stdout",
     "output_type": "stream",
     "text": [
      "['/raid/jiang/projects/SubtleGAN/data/RSNA_ASNR_MICCAI_BraTS2021_TrainingData/BraTS2021_00134/BraTS2021_00134_t1.nii.gz']\n",
      "52 190\n",
      "38 214\n",
      "5 137\n"
     ]
    },
    {
     "name": "stderr",
     "output_type": "stream",
     "text": [
      "\r",
      " 54%|█████▎    | 670/1251 [12:51<11:00,  1.14s/it]"
     ]
    },
    {
     "name": "stdout",
     "output_type": "stream",
     "text": [
      "['/raid/jiang/projects/SubtleGAN/data/RSNA_ASNR_MICCAI_BraTS2021_TrainingData/BraTS2021_01490/BraTS2021_01490_t1.nii.gz']\n",
      "53 184\n",
      "45 208\n",
      "0 138\n"
     ]
    },
    {
     "name": "stderr",
     "output_type": "stream",
     "text": [
      "\r",
      " 54%|█████▎    | 671/1251 [12:52<10:32,  1.09s/it]"
     ]
    },
    {
     "name": "stdout",
     "output_type": "stream",
     "text": [
      "['/raid/jiang/projects/SubtleGAN/data/RSNA_ASNR_MICCAI_BraTS2021_TrainingData/BraTS2021_01458/BraTS2021_01458_t1.nii.gz']\n",
      "53 185\n",
      "59 216\n",
      "15 142\n"
     ]
    },
    {
     "name": "stderr",
     "output_type": "stream",
     "text": [
      "\r",
      " 54%|█████▎    | 672/1251 [12:53<10:37,  1.10s/it]"
     ]
    },
    {
     "name": "stdout",
     "output_type": "stream",
     "text": [
      "['/raid/jiang/projects/SubtleGAN/data/RSNA_ASNR_MICCAI_BraTS2021_TrainingData/BraTS2021_00378/BraTS2021_00378_t1.nii.gz']\n",
      "52 186\n",
      "40 212\n",
      "0 142\n"
     ]
    },
    {
     "name": "stderr",
     "output_type": "stream",
     "text": [
      "\r",
      " 54%|█████▍    | 673/1251 [12:54<10:32,  1.09s/it]"
     ]
    },
    {
     "name": "stdout",
     "output_type": "stream",
     "text": [
      "['/raid/jiang/projects/SubtleGAN/data/RSNA_ASNR_MICCAI_BraTS2021_TrainingData/BraTS2021_00514/BraTS2021_00514_t1.nii.gz']\n",
      "50 191\n",
      "46 210\n",
      "0 143\n"
     ]
    },
    {
     "name": "stderr",
     "output_type": "stream",
     "text": [
      "\r",
      " 54%|█████▍    | 674/1251 [12:56<11:04,  1.15s/it]"
     ]
    },
    {
     "name": "stdout",
     "output_type": "stream",
     "text": [
      "['/raid/jiang/projects/SubtleGAN/data/RSNA_ASNR_MICCAI_BraTS2021_TrainingData/BraTS2021_00547/BraTS2021_00547_t1.nii.gz']\n",
      "51 191\n",
      "40 211\n",
      "0 145\n"
     ]
    },
    {
     "name": "stderr",
     "output_type": "stream",
     "text": [
      "\r",
      " 54%|█████▍    | 675/1251 [12:57<10:58,  1.14s/it]"
     ]
    },
    {
     "name": "stdout",
     "output_type": "stream",
     "text": [
      "['/raid/jiang/projects/SubtleGAN/data/RSNA_ASNR_MICCAI_BraTS2021_TrainingData/BraTS2021_01511/BraTS2021_01511_t1.nii.gz']\n",
      "48 187\n",
      "47 212\n",
      "1 138\n"
     ]
    },
    {
     "name": "stderr",
     "output_type": "stream",
     "text": [
      "\r",
      " 54%|█████▍    | 676/1251 [12:58<11:08,  1.16s/it]"
     ]
    },
    {
     "name": "stdout",
     "output_type": "stream",
     "text": [
      "['/raid/jiang/projects/SubtleGAN/data/RSNA_ASNR_MICCAI_BraTS2021_TrainingData/BraTS2021_00657/BraTS2021_00657_t1.nii.gz']\n",
      "52 190\n",
      "37 208\n",
      "0 145\n"
     ]
    },
    {
     "name": "stderr",
     "output_type": "stream",
     "text": [
      "\r",
      " 54%|█████▍    | 677/1251 [12:59<11:12,  1.17s/it]"
     ]
    },
    {
     "name": "stdout",
     "output_type": "stream",
     "text": [
      "['/raid/jiang/projects/SubtleGAN/data/RSNA_ASNR_MICCAI_BraTS2021_TrainingData/BraTS2021_01047/BraTS2021_01047_t1.nii.gz']\n",
      "51 188\n",
      "41 212\n",
      "0 143\n"
     ]
    },
    {
     "name": "stderr",
     "output_type": "stream",
     "text": [
      "\r",
      " 54%|█████▍    | 678/1251 [13:00<11:01,  1.15s/it]"
     ]
    },
    {
     "name": "stdout",
     "output_type": "stream",
     "text": [
      "['/raid/jiang/projects/SubtleGAN/data/RSNA_ASNR_MICCAI_BraTS2021_TrainingData/BraTS2021_00219/BraTS2021_00219_t1.nii.gz']\n",
      "52 185\n",
      "43 216\n",
      "0 138\n"
     ]
    },
    {
     "name": "stderr",
     "output_type": "stream",
     "text": [
      "\r",
      " 54%|█████▍    | 679/1251 [13:01<10:34,  1.11s/it]"
     ]
    },
    {
     "name": "stdout",
     "output_type": "stream",
     "text": [
      "['/raid/jiang/projects/SubtleGAN/data/RSNA_ASNR_MICCAI_BraTS2021_TrainingData/BraTS2021_01659/BraTS2021_01659_t1.nii.gz']\n",
      "56 175\n",
      "50 205\n",
      "14 145\n"
     ]
    },
    {
     "name": "stderr",
     "output_type": "stream",
     "text": [
      "\r",
      " 54%|█████▍    | 680/1251 [13:02<10:31,  1.11s/it]"
     ]
    },
    {
     "name": "stdout",
     "output_type": "stream",
     "text": [
      "['/raid/jiang/projects/SubtleGAN/data/RSNA_ASNR_MICCAI_BraTS2021_TrainingData/BraTS2021_01225/BraTS2021_01225_t1.nii.gz']\n",
      "50 189\n",
      "46 214\n",
      "6 139\n"
     ]
    },
    {
     "name": "stderr",
     "output_type": "stream",
     "text": [
      "\r",
      " 54%|█████▍    | 681/1251 [13:03<10:46,  1.13s/it]"
     ]
    },
    {
     "name": "stdout",
     "output_type": "stream",
     "text": [
      "['/raid/jiang/projects/SubtleGAN/data/RSNA_ASNR_MICCAI_BraTS2021_TrainingData/BraTS2021_00017/BraTS2021_00017_t1.nii.gz']\n",
      "47 193\n",
      "38 211\n",
      "9 146\n",
      "['/raid/jiang/projects/SubtleGAN/data/RSNA_ASNR_MICCAI_BraTS2021_TrainingData/BraTS2021_00824/BraTS2021_00824_t1.nii.gz']\n"
     ]
    },
    {
     "name": "stderr",
     "output_type": "stream",
     "text": [
      "\r",
      " 55%|█████▍    | 682/1251 [13:05<10:52,  1.15s/it]"
     ]
    },
    {
     "name": "stdout",
     "output_type": "stream",
     "text": [
      "55 183\n",
      "44 221\n",
      "0 147\n"
     ]
    },
    {
     "name": "stderr",
     "output_type": "stream",
     "text": [
      "\r",
      " 55%|█████▍    | 683/1251 [13:06<10:37,  1.12s/it]"
     ]
    },
    {
     "name": "stdout",
     "output_type": "stream",
     "text": [
      "['/raid/jiang/projects/SubtleGAN/data/RSNA_ASNR_MICCAI_BraTS2021_TrainingData/BraTS2021_00221/BraTS2021_00221_t1.nii.gz']\n",
      "57 180\n",
      "42 219\n",
      "4 139\n"
     ]
    },
    {
     "name": "stderr",
     "output_type": "stream",
     "text": [
      "\r",
      " 55%|█████▍    | 684/1251 [13:07<10:55,  1.16s/it]"
     ]
    },
    {
     "name": "stdout",
     "output_type": "stream",
     "text": [
      "['/raid/jiang/projects/SubtleGAN/data/RSNA_ASNR_MICCAI_BraTS2021_TrainingData/BraTS2021_00444/BraTS2021_00444_t1.nii.gz']\n",
      "47 190\n",
      "45 212\n",
      "0 139\n"
     ]
    },
    {
     "name": "stderr",
     "output_type": "stream",
     "text": [
      "\r",
      " 55%|█████▍    | 685/1251 [13:08<10:59,  1.16s/it]"
     ]
    },
    {
     "name": "stdout",
     "output_type": "stream",
     "text": [
      "['/raid/jiang/projects/SubtleGAN/data/RSNA_ASNR_MICCAI_BraTS2021_TrainingData/BraTS2021_01573/BraTS2021_01573_t1.nii.gz']\n",
      "51 185\n",
      "48 215\n",
      "0 134\n"
     ]
    },
    {
     "name": "stderr",
     "output_type": "stream",
     "text": [
      "\r",
      " 55%|█████▍    | 686/1251 [13:09<10:45,  1.14s/it]"
     ]
    },
    {
     "name": "stdout",
     "output_type": "stream",
     "text": [
      "['/raid/jiang/projects/SubtleGAN/data/RSNA_ASNR_MICCAI_BraTS2021_TrainingData/BraTS2021_00137/BraTS2021_00137_t1.nii.gz']\n",
      "48 189\n",
      "50 206\n",
      "8 138\n"
     ]
    },
    {
     "name": "stderr",
     "output_type": "stream",
     "text": [
      "\r",
      " 55%|█████▍    | 687/1251 [13:10<10:25,  1.11s/it]"
     ]
    },
    {
     "name": "stdout",
     "output_type": "stream",
     "text": [
      "['/raid/jiang/projects/SubtleGAN/data/RSNA_ASNR_MICCAI_BraTS2021_TrainingData/BraTS2021_01056/BraTS2021_01056_t1.nii.gz']\n",
      "53 184\n",
      "44 213\n",
      "3 140\n"
     ]
    },
    {
     "name": "stderr",
     "output_type": "stream",
     "text": [
      "\r",
      " 55%|█████▍    | 688/1251 [13:11<10:41,  1.14s/it]"
     ]
    },
    {
     "name": "stdout",
     "output_type": "stream",
     "text": [
      "['/raid/jiang/projects/SubtleGAN/data/RSNA_ASNR_MICCAI_BraTS2021_TrainingData/BraTS2021_00530/BraTS2021_00530_t1.nii.gz']\n",
      "49 193\n",
      "29 214\n",
      "2 143\n"
     ]
    },
    {
     "name": "stderr",
     "output_type": "stream",
     "text": [
      "\r",
      " 55%|█████▌    | 689/1251 [13:13<11:18,  1.21s/it]"
     ]
    },
    {
     "name": "stdout",
     "output_type": "stream",
     "text": [
      "['/raid/jiang/projects/SubtleGAN/data/RSNA_ASNR_MICCAI_BraTS2021_TrainingData/BraTS2021_00698/BraTS2021_00698_t1.nii.gz']\n",
      "51 189\n",
      "28 215\n",
      "0 141\n"
     ]
    },
    {
     "name": "stderr",
     "output_type": "stream",
     "text": [
      "\r",
      " 55%|█████▌    | 690/1251 [13:14<11:45,  1.26s/it]"
     ]
    },
    {
     "name": "stdout",
     "output_type": "stream",
     "text": [
      "['/raid/jiang/projects/SubtleGAN/data/RSNA_ASNR_MICCAI_BraTS2021_TrainingData/BraTS2021_00823/BraTS2021_00823_t1.nii.gz']\n",
      "45 192\n",
      "42 217\n",
      "0 136\n"
     ]
    },
    {
     "name": "stderr",
     "output_type": "stream",
     "text": [
      "\r",
      " 55%|█████▌    | 691/1251 [13:16<11:52,  1.27s/it]"
     ]
    },
    {
     "name": "stdout",
     "output_type": "stream",
     "text": [
      "['/raid/jiang/projects/SubtleGAN/data/RSNA_ASNR_MICCAI_BraTS2021_TrainingData/BraTS2021_00511/BraTS2021_00511_t1.nii.gz']\n",
      "46 190\n",
      "32 216\n",
      "0 138\n"
     ]
    },
    {
     "name": "stderr",
     "output_type": "stream",
     "text": [
      "\r",
      " 55%|█████▌    | 692/1251 [13:17<11:47,  1.27s/it]"
     ]
    },
    {
     "name": "stdout",
     "output_type": "stream",
     "text": [
      "['/raid/jiang/projects/SubtleGAN/data/RSNA_ASNR_MICCAI_BraTS2021_TrainingData/BraTS2021_00032/BraTS2021_00032_t1.nii.gz']\n",
      "52 188\n",
      "33 215\n",
      "0 139\n"
     ]
    },
    {
     "name": "stderr",
     "output_type": "stream",
     "text": [
      "\r",
      " 55%|█████▌    | 693/1251 [13:18<11:37,  1.25s/it]"
     ]
    },
    {
     "name": "stdout",
     "output_type": "stream",
     "text": [
      "['/raid/jiang/projects/SubtleGAN/data/RSNA_ASNR_MICCAI_BraTS2021_TrainingData/BraTS2021_00325/BraTS2021_00325_t1.nii.gz']\n",
      "51 186\n",
      "48 211\n",
      "0 144\n"
     ]
    },
    {
     "name": "stderr",
     "output_type": "stream",
     "text": [
      "\r",
      " 55%|█████▌    | 694/1251 [13:19<11:23,  1.23s/it]"
     ]
    },
    {
     "name": "stdout",
     "output_type": "stream",
     "text": [
      "['/raid/jiang/projects/SubtleGAN/data/RSNA_ASNR_MICCAI_BraTS2021_TrainingData/BraTS2021_00510/BraTS2021_00510_t1.nii.gz']\n",
      "56 185\n",
      "30 214\n",
      "1 145\n"
     ]
    },
    {
     "name": "stderr",
     "output_type": "stream",
     "text": [
      "\r",
      " 56%|█████▌    | 695/1251 [13:20<11:30,  1.24s/it]"
     ]
    },
    {
     "name": "stdout",
     "output_type": "stream",
     "text": [
      "['/raid/jiang/projects/SubtleGAN/data/RSNA_ASNR_MICCAI_BraTS2021_TrainingData/BraTS2021_00340/BraTS2021_00340_t1.nii.gz']\n",
      "44 191\n",
      "45 215\n",
      "0 138\n"
     ]
    },
    {
     "name": "stderr",
     "output_type": "stream",
     "text": [
      "\r",
      " 56%|█████▌    | 696/1251 [13:22<11:16,  1.22s/it]"
     ]
    },
    {
     "name": "stdout",
     "output_type": "stream",
     "text": [
      "['/raid/jiang/projects/SubtleGAN/data/RSNA_ASNR_MICCAI_BraTS2021_TrainingData/BraTS2021_00500/BraTS2021_00500_t1.nii.gz']\n",
      "51 187\n",
      "34 217\n",
      "0 132\n"
     ]
    },
    {
     "name": "stderr",
     "output_type": "stream",
     "text": [
      "\r",
      " 56%|█████▌    | 697/1251 [13:23<11:39,  1.26s/it]"
     ]
    },
    {
     "name": "stdout",
     "output_type": "stream",
     "text": [
      "['/raid/jiang/projects/SubtleGAN/data/RSNA_ASNR_MICCAI_BraTS2021_TrainingData/BraTS2021_01124/BraTS2021_01124_t1.nii.gz']\n",
      "52 185\n",
      "38 221\n",
      "0 137\n"
     ]
    },
    {
     "name": "stderr",
     "output_type": "stream",
     "text": [
      "\r",
      " 56%|█████▌    | 698/1251 [13:24<11:53,  1.29s/it]"
     ]
    },
    {
     "name": "stdout",
     "output_type": "stream",
     "text": [
      "['/raid/jiang/projects/SubtleGAN/data/RSNA_ASNR_MICCAI_BraTS2021_TrainingData/BraTS2021_00409/BraTS2021_00409_t1.nii.gz']\n",
      "50 186\n",
      "36 218\n",
      "0 142\n"
     ]
    },
    {
     "name": "stderr",
     "output_type": "stream",
     "text": [
      "\r",
      " 56%|█████▌    | 699/1251 [13:26<12:16,  1.33s/it]"
     ]
    },
    {
     "name": "stdout",
     "output_type": "stream",
     "text": [
      "['/raid/jiang/projects/SubtleGAN/data/RSNA_ASNR_MICCAI_BraTS2021_TrainingData/BraTS2021_01636/BraTS2021_01636_t1.nii.gz']\n",
      "49 189\n",
      "40 213\n",
      "0 148\n"
     ]
    },
    {
     "name": "stderr",
     "output_type": "stream",
     "text": [
      "\r",
      " 56%|█████▌    | 700/1251 [13:27<12:05,  1.32s/it]"
     ]
    },
    {
     "name": "stdout",
     "output_type": "stream",
     "text": [
      "['/raid/jiang/projects/SubtleGAN/data/RSNA_ASNR_MICCAI_BraTS2021_TrainingData/BraTS2021_01562/BraTS2021_01562_t1.nii.gz']\n",
      "52 188\n",
      "51 209\n",
      "0 140\n"
     ]
    },
    {
     "name": "stderr",
     "output_type": "stream",
     "text": [
      "\r",
      " 56%|█████▌    | 701/1251 [13:28<11:17,  1.23s/it]"
     ]
    },
    {
     "name": "stdout",
     "output_type": "stream",
     "text": [
      "['/raid/jiang/projects/SubtleGAN/data/RSNA_ASNR_MICCAI_BraTS2021_TrainingData/BraTS2021_00099/BraTS2021_00099_t1.nii.gz']\n",
      "49 181\n",
      "45 210\n",
      "0 132\n"
     ]
    },
    {
     "name": "stderr",
     "output_type": "stream",
     "text": [
      "\r",
      " 56%|█████▌    | 702/1251 [13:30<11:54,  1.30s/it]"
     ]
    },
    {
     "name": "stdout",
     "output_type": "stream",
     "text": [
      "['/raid/jiang/projects/SubtleGAN/data/RSNA_ASNR_MICCAI_BraTS2021_TrainingData/BraTS2021_00805/BraTS2021_00805_t1.nii.gz']\n",
      "51 186\n",
      "37 218\n",
      "0 149\n"
     ]
    },
    {
     "name": "stderr",
     "output_type": "stream",
     "text": [
      "\r",
      " 56%|█████▌    | 703/1251 [13:31<12:23,  1.36s/it]"
     ]
    },
    {
     "name": "stdout",
     "output_type": "stream",
     "text": [
      "['/raid/jiang/projects/SubtleGAN/data/RSNA_ASNR_MICCAI_BraTS2021_TrainingData/BraTS2021_00756/BraTS2021_00756_t1.nii.gz']\n",
      "55 188\n",
      "44 214\n",
      "1 141\n"
     ]
    },
    {
     "name": "stderr",
     "output_type": "stream",
     "text": [
      "\r",
      " 56%|█████▋    | 704/1251 [13:32<11:48,  1.30s/it]"
     ]
    },
    {
     "name": "stdout",
     "output_type": "stream",
     "text": [
      "['/raid/jiang/projects/SubtleGAN/data/RSNA_ASNR_MICCAI_BraTS2021_TrainingData/BraTS2021_01123/BraTS2021_01123_t1.nii.gz']\n",
      "50 189\n",
      "51 209\n",
      "0 136\n"
     ]
    },
    {
     "name": "stderr",
     "output_type": "stream",
     "text": [
      "\r",
      " 56%|█████▋    | 705/1251 [13:33<11:18,  1.24s/it]"
     ]
    },
    {
     "name": "stdout",
     "output_type": "stream",
     "text": [
      "['/raid/jiang/projects/SubtleGAN/data/RSNA_ASNR_MICCAI_BraTS2021_TrainingData/BraTS2021_01092/BraTS2021_01092_t1.nii.gz']\n",
      "55 183\n",
      "51 211\n",
      "0 138\n"
     ]
    },
    {
     "name": "stderr",
     "output_type": "stream",
     "text": [
      "\r",
      " 56%|█████▋    | 706/1251 [13:34<11:09,  1.23s/it]"
     ]
    },
    {
     "name": "stdout",
     "output_type": "stream",
     "text": [
      "['/raid/jiang/projects/SubtleGAN/data/RSNA_ASNR_MICCAI_BraTS2021_TrainingData/BraTS2021_01055/BraTS2021_01055_t1.nii.gz']\n",
      "51 185\n",
      "55 215\n",
      "0 139\n"
     ]
    },
    {
     "name": "stderr",
     "output_type": "stream",
     "text": [
      "\r",
      " 57%|█████▋    | 707/1251 [13:36<11:03,  1.22s/it]"
     ]
    },
    {
     "name": "stdout",
     "output_type": "stream",
     "text": [
      "['/raid/jiang/projects/SubtleGAN/data/RSNA_ASNR_MICCAI_BraTS2021_TrainingData/BraTS2021_01578/BraTS2021_01578_t1.nii.gz']\n",
      "52 184\n",
      "45 209\n",
      "0 133\n"
     ]
    },
    {
     "name": "stderr",
     "output_type": "stream",
     "text": [
      "\r",
      " 57%|█████▋    | 708/1251 [13:37<10:56,  1.21s/it]"
     ]
    },
    {
     "name": "stdout",
     "output_type": "stream",
     "text": [
      "['/raid/jiang/projects/SubtleGAN/data/RSNA_ASNR_MICCAI_BraTS2021_TrainingData/BraTS2021_00346/BraTS2021_00346_t1.nii.gz']\n",
      "51 185\n",
      "45 213\n",
      "0 136\n"
     ]
    },
    {
     "name": "stderr",
     "output_type": "stream",
     "text": [
      "\r",
      " 57%|█████▋    | 709/1251 [13:38<11:01,  1.22s/it]"
     ]
    },
    {
     "name": "stdout",
     "output_type": "stream",
     "text": [
      "['/raid/jiang/projects/SubtleGAN/data/RSNA_ASNR_MICCAI_BraTS2021_TrainingData/BraTS2021_00376/BraTS2021_00376_t1.nii.gz']\n",
      "46 193\n",
      "43 221\n",
      "0 137\n"
     ]
    },
    {
     "name": "stderr",
     "output_type": "stream",
     "text": [
      "\r",
      " 57%|█████▋    | 710/1251 [13:39<11:16,  1.25s/it]"
     ]
    },
    {
     "name": "stdout",
     "output_type": "stream",
     "text": [
      "['/raid/jiang/projects/SubtleGAN/data/RSNA_ASNR_MICCAI_BraTS2021_TrainingData/BraTS2021_00343/BraTS2021_00343_t1.nii.gz']\n",
      "55 181\n",
      "40 218\n",
      "0 142\n"
     ]
    },
    {
     "name": "stderr",
     "output_type": "stream",
     "text": [
      "\r",
      " 57%|█████▋    | 711/1251 [13:41<11:12,  1.25s/it]"
     ]
    },
    {
     "name": "stdout",
     "output_type": "stream",
     "text": [
      "['/raid/jiang/projects/SubtleGAN/data/RSNA_ASNR_MICCAI_BraTS2021_TrainingData/BraTS2021_01148/BraTS2021_01148_t1.nii.gz']\n",
      "54 183\n",
      "42 219\n",
      "0 139\n",
      "['/raid/jiang/projects/SubtleGAN/data/RSNA_ASNR_MICCAI_BraTS2021_TrainingData/BraTS2021_00171/BraTS2021_00171_t1.nii.gz']\n"
     ]
    },
    {
     "name": "stderr",
     "output_type": "stream",
     "text": [
      "\r",
      " 57%|█████▋    | 712/1251 [13:42<10:59,  1.22s/it]"
     ]
    },
    {
     "name": "stdout",
     "output_type": "stream",
     "text": [
      "49 189\n",
      "44 220\n",
      "2 137\n"
     ]
    },
    {
     "name": "stderr",
     "output_type": "stream",
     "text": [
      "\r",
      " 57%|█████▋    | 713/1251 [13:43<10:59,  1.22s/it]"
     ]
    },
    {
     "name": "stdout",
     "output_type": "stream",
     "text": [
      "['/raid/jiang/projects/SubtleGAN/data/RSNA_ASNR_MICCAI_BraTS2021_TrainingData/BraTS2021_01194/BraTS2021_01194_t1.nii.gz']\n",
      "55 184\n",
      "38 216\n",
      "0 136\n"
     ]
    },
    {
     "name": "stderr",
     "output_type": "stream",
     "text": [
      "\r",
      " 57%|█████▋    | 714/1251 [13:44<10:46,  1.20s/it]"
     ]
    },
    {
     "name": "stdout",
     "output_type": "stream",
     "text": [
      "['/raid/jiang/projects/SubtleGAN/data/RSNA_ASNR_MICCAI_BraTS2021_TrainingData/BraTS2021_00380/BraTS2021_00380_t1.nii.gz']\n",
      "53 186\n",
      "53 213\n",
      "0 140\n"
     ]
    },
    {
     "name": "stderr",
     "output_type": "stream",
     "text": [
      "\r",
      " 57%|█████▋    | 715/1251 [13:45<10:44,  1.20s/it]"
     ]
    },
    {
     "name": "stdout",
     "output_type": "stream",
     "text": [
      "['/raid/jiang/projects/SubtleGAN/data/RSNA_ASNR_MICCAI_BraTS2021_TrainingData/BraTS2021_01295/BraTS2021_01295_t1.nii.gz']\n",
      "55 183\n",
      "45 211\n",
      "6 136\n"
     ]
    },
    {
     "name": "stderr",
     "output_type": "stream",
     "text": [
      "\r",
      " 57%|█████▋    | 716/1251 [13:47<11:06,  1.25s/it]"
     ]
    },
    {
     "name": "stdout",
     "output_type": "stream",
     "text": [
      "['/raid/jiang/projects/SubtleGAN/data/RSNA_ASNR_MICCAI_BraTS2021_TrainingData/BraTS2021_00800/BraTS2021_00800_t1.nii.gz']\n",
      "45 193\n",
      "45 211\n",
      "0 152\n"
     ]
    },
    {
     "name": "stderr",
     "output_type": "stream",
     "text": [
      "\r",
      " 57%|█████▋    | 717/1251 [13:48<11:08,  1.25s/it]"
     ]
    },
    {
     "name": "stdout",
     "output_type": "stream",
     "text": [
      "['/raid/jiang/projects/SubtleGAN/data/RSNA_ASNR_MICCAI_BraTS2021_TrainingData/BraTS2021_00130/BraTS2021_00130_t1.nii.gz']\n",
      "54 184\n",
      "43 214\n",
      "0 145\n"
     ]
    },
    {
     "name": "stderr",
     "output_type": "stream",
     "text": [
      "\r",
      " 57%|█████▋    | 718/1251 [13:49<10:56,  1.23s/it]"
     ]
    },
    {
     "name": "stdout",
     "output_type": "stream",
     "text": [
      "['/raid/jiang/projects/SubtleGAN/data/RSNA_ASNR_MICCAI_BraTS2021_TrainingData/BraTS2021_00304/BraTS2021_00304_t1.nii.gz']\n",
      "51 186\n",
      "43 219\n",
      "0 140\n"
     ]
    },
    {
     "name": "stderr",
     "output_type": "stream",
     "text": [
      "\r",
      " 57%|█████▋    | 719/1251 [13:50<10:55,  1.23s/it]"
     ]
    },
    {
     "name": "stdout",
     "output_type": "stream",
     "text": [
      "['/raid/jiang/projects/SubtleGAN/data/RSNA_ASNR_MICCAI_BraTS2021_TrainingData/BraTS2021_00707/BraTS2021_00707_t1.nii.gz']\n",
      "49 195\n",
      "37 213\n",
      "6 141\n",
      "['/raid/jiang/projects/SubtleGAN/data/RSNA_ASNR_MICCAI_BraTS2021_TrainingData/BraTS2021_00574/BraTS2021_00574_t1.nii.gz']\n"
     ]
    },
    {
     "name": "stderr",
     "output_type": "stream",
     "text": [
      "\r",
      " 58%|█████▊    | 720/1251 [13:52<11:03,  1.25s/it]"
     ]
    },
    {
     "name": "stdout",
     "output_type": "stream",
     "text": [
      "54 185\n",
      "38 220\n",
      "0 141\n"
     ]
    },
    {
     "name": "stderr",
     "output_type": "stream",
     "text": [
      "\r",
      " 58%|█████▊    | 721/1251 [13:53<10:36,  1.20s/it]"
     ]
    },
    {
     "name": "stdout",
     "output_type": "stream",
     "text": [
      "['/raid/jiang/projects/SubtleGAN/data/RSNA_ASNR_MICCAI_BraTS2021_TrainingData/BraTS2021_01632/BraTS2021_01632_t1.nii.gz']\n",
      "51 185\n",
      "47 207\n",
      "0 146\n"
     ]
    },
    {
     "name": "stderr",
     "output_type": "stream",
     "text": [
      "\r",
      " 58%|█████▊    | 722/1251 [13:54<10:41,  1.21s/it]"
     ]
    },
    {
     "name": "stdout",
     "output_type": "stream",
     "text": [
      "['/raid/jiang/projects/SubtleGAN/data/RSNA_ASNR_MICCAI_BraTS2021_TrainingData/BraTS2021_01613/BraTS2021_01613_t1.nii.gz']\n",
      "48 191\n",
      "39 217\n",
      "0 146\n"
     ]
    },
    {
     "name": "stderr",
     "output_type": "stream",
     "text": [
      "\r",
      " 58%|█████▊    | 723/1251 [13:55<10:28,  1.19s/it]"
     ]
    },
    {
     "name": "stdout",
     "output_type": "stream",
     "text": [
      "['/raid/jiang/projects/SubtleGAN/data/RSNA_ASNR_MICCAI_BraTS2021_TrainingData/BraTS2021_01099/BraTS2021_01099_t1.nii.gz']\n",
      "51 184\n",
      "40 219\n",
      "0 140\n"
     ]
    },
    {
     "name": "stderr",
     "output_type": "stream",
     "text": [
      "\r",
      " 58%|█████▊    | 724/1251 [13:57<10:46,  1.23s/it]"
     ]
    },
    {
     "name": "stdout",
     "output_type": "stream",
     "text": [
      "['/raid/jiang/projects/SubtleGAN/data/RSNA_ASNR_MICCAI_BraTS2021_TrainingData/BraTS2021_00499/BraTS2021_00499_t1.nii.gz']\n",
      "47 191\n",
      "31 208\n",
      "0 144\n"
     ]
    },
    {
     "name": "stderr",
     "output_type": "stream",
     "text": [
      "\r",
      " 58%|█████▊    | 725/1251 [13:58<10:30,  1.20s/it]"
     ]
    },
    {
     "name": "stdout",
     "output_type": "stream",
     "text": [
      "['/raid/jiang/projects/SubtleGAN/data/RSNA_ASNR_MICCAI_BraTS2021_TrainingData/BraTS2021_01476/BraTS2021_01476_t1.nii.gz']\n",
      "50 186\n",
      "47 209\n",
      "0 134\n"
     ]
    },
    {
     "name": "stderr",
     "output_type": "stream",
     "text": [
      "\r",
      " 58%|█████▊    | 726/1251 [13:59<10:08,  1.16s/it]"
     ]
    },
    {
     "name": "stdout",
     "output_type": "stream",
     "text": [
      "['/raid/jiang/projects/SubtleGAN/data/RSNA_ASNR_MICCAI_BraTS2021_TrainingData/BraTS2021_00445/BraTS2021_00445_t1.nii.gz']\n",
      "47 192\n",
      "42 220\n",
      "6 138\n"
     ]
    },
    {
     "name": "stderr",
     "output_type": "stream",
     "text": [
      "\r",
      " 58%|█████▊    | 727/1251 [14:00<10:09,  1.16s/it]"
     ]
    },
    {
     "name": "stdout",
     "output_type": "stream",
     "text": [
      "['/raid/jiang/projects/SubtleGAN/data/RSNA_ASNR_MICCAI_BraTS2021_TrainingData/BraTS2021_01560/BraTS2021_01560_t1.nii.gz']\n",
      "55 183\n",
      "49 206\n",
      "0 134\n"
     ]
    },
    {
     "name": "stderr",
     "output_type": "stream",
     "text": [
      "\r",
      " 58%|█████▊    | 728/1251 [14:01<09:42,  1.11s/it]"
     ]
    },
    {
     "name": "stdout",
     "output_type": "stream",
     "text": [
      "['/raid/jiang/projects/SubtleGAN/data/RSNA_ASNR_MICCAI_BraTS2021_TrainingData/BraTS2021_01469/BraTS2021_01469_t1.nii.gz']\n",
      "60 179\n",
      "49 217\n",
      "1 137\n"
     ]
    },
    {
     "name": "stderr",
     "output_type": "stream",
     "text": [
      "\r",
      " 58%|█████▊    | 729/1251 [14:02<09:44,  1.12s/it]"
     ]
    },
    {
     "name": "stdout",
     "output_type": "stream",
     "text": [
      "['/raid/jiang/projects/SubtleGAN/data/RSNA_ASNR_MICCAI_BraTS2021_TrainingData/BraTS2021_01384/BraTS2021_01384_t1.nii.gz']\n",
      "48 187\n",
      "37 217\n",
      "0 140\n"
     ]
    },
    {
     "name": "stderr",
     "output_type": "stream",
     "text": [
      "\r",
      " 58%|█████▊    | 730/1251 [14:03<09:52,  1.14s/it]"
     ]
    },
    {
     "name": "stdout",
     "output_type": "stream",
     "text": [
      "['/raid/jiang/projects/SubtleGAN/data/RSNA_ASNR_MICCAI_BraTS2021_TrainingData/BraTS2021_01301/BraTS2021_01301_t1.nii.gz']\n",
      "48 191\n",
      "58 213\n",
      "0 144\n"
     ]
    },
    {
     "name": "stderr",
     "output_type": "stream",
     "text": [
      "\r",
      " 58%|█████▊    | 731/1251 [14:04<09:35,  1.11s/it]"
     ]
    },
    {
     "name": "stdout",
     "output_type": "stream",
     "text": [
      "['/raid/jiang/projects/SubtleGAN/data/RSNA_ASNR_MICCAI_BraTS2021_TrainingData/BraTS2021_00599/BraTS2021_00599_t1.nii.gz']\n",
      "52 185\n",
      "61 215\n",
      "4 138\n"
     ]
    },
    {
     "name": "stderr",
     "output_type": "stream",
     "text": [
      "\r",
      " 59%|█████▊    | 732/1251 [14:06<09:58,  1.15s/it]"
     ]
    },
    {
     "name": "stdout",
     "output_type": "stream",
     "text": [
      "['/raid/jiang/projects/SubtleGAN/data/RSNA_ASNR_MICCAI_BraTS2021_TrainingData/BraTS2021_00186/BraTS2021_00186_t1.nii.gz']\n",
      "52 188\n",
      "24 228\n",
      "0 138\n",
      "['/raid/jiang/projects/SubtleGAN/data/RSNA_ASNR_MICCAI_BraTS2021_TrainingData/BraTS2021_01590/BraTS2021_01590_t1.nii.gz']\n"
     ]
    },
    {
     "name": "stderr",
     "output_type": "stream",
     "text": [
      "\r",
      " 59%|█████▊    | 733/1251 [14:07<10:25,  1.21s/it]"
     ]
    },
    {
     "name": "stdout",
     "output_type": "stream",
     "text": [
      "51 185\n",
      "43 221\n",
      "0 133\n"
     ]
    },
    {
     "name": "stderr",
     "output_type": "stream",
     "text": [
      "\r",
      " 59%|█████▊    | 734/1251 [14:08<10:16,  1.19s/it]"
     ]
    },
    {
     "name": "stdout",
     "output_type": "stream",
     "text": [
      "['/raid/jiang/projects/SubtleGAN/data/RSNA_ASNR_MICCAI_BraTS2021_TrainingData/BraTS2021_01446/BraTS2021_01446_t1.nii.gz']\n",
      "51 184\n",
      "47 213\n",
      "0 136\n"
     ]
    },
    {
     "name": "stderr",
     "output_type": "stream",
     "text": [
      "\r",
      " 59%|█████▉    | 735/1251 [14:09<10:17,  1.20s/it]"
     ]
    },
    {
     "name": "stdout",
     "output_type": "stream",
     "text": [
      "['/raid/jiang/projects/SubtleGAN/data/RSNA_ASNR_MICCAI_BraTS2021_TrainingData/BraTS2021_00597/BraTS2021_00597_t1.nii.gz']\n",
      "48 190\n",
      "41 218\n",
      "0 140\n"
     ]
    },
    {
     "name": "stderr",
     "output_type": "stream",
     "text": [
      "\r",
      " 59%|█████▉    | 736/1251 [14:10<10:21,  1.21s/it]"
     ]
    },
    {
     "name": "stdout",
     "output_type": "stream",
     "text": [
      "['/raid/jiang/projects/SubtleGAN/data/RSNA_ASNR_MICCAI_BraTS2021_TrainingData/BraTS2021_00478/BraTS2021_00478_t1.nii.gz']\n",
      "54 189\n",
      "38 210\n",
      "0 138\n"
     ]
    },
    {
     "name": "stderr",
     "output_type": "stream",
     "text": [
      "\r",
      " 59%|█████▉    | 737/1251 [14:12<10:01,  1.17s/it]"
     ]
    },
    {
     "name": "stdout",
     "output_type": "stream",
     "text": [
      "['/raid/jiang/projects/SubtleGAN/data/RSNA_ASNR_MICCAI_BraTS2021_TrainingData/BraTS2021_01530/BraTS2021_01530_t1.nii.gz']\n",
      "49 186\n",
      "46 210\n",
      "0 138\n"
     ]
    },
    {
     "name": "stderr",
     "output_type": "stream",
     "text": [
      "\r",
      " 59%|█████▉    | 738/1251 [14:13<09:58,  1.17s/it]"
     ]
    },
    {
     "name": "stdout",
     "output_type": "stream",
     "text": [
      "['/raid/jiang/projects/SubtleGAN/data/RSNA_ASNR_MICCAI_BraTS2021_TrainingData/BraTS2021_00060/BraTS2021_00060_t1.nii.gz']\n",
      "51 186\n",
      "30 221\n",
      "0 148\n"
     ]
    },
    {
     "name": "stderr",
     "output_type": "stream",
     "text": [
      "\r",
      " 59%|█████▉    | 739/1251 [14:14<10:00,  1.17s/it]"
     ]
    },
    {
     "name": "stdout",
     "output_type": "stream",
     "text": [
      "['/raid/jiang/projects/SubtleGAN/data/RSNA_ASNR_MICCAI_BraTS2021_TrainingData/BraTS2021_01224/BraTS2021_01224_t1.nii.gz']\n",
      "55 181\n",
      "43 210\n",
      "0 146\n"
     ]
    },
    {
     "name": "stderr",
     "output_type": "stream",
     "text": [
      "\r",
      " 59%|█████▉    | 740/1251 [14:15<09:42,  1.14s/it]"
     ]
    },
    {
     "name": "stdout",
     "output_type": "stream",
     "text": [
      "['/raid/jiang/projects/SubtleGAN/data/RSNA_ASNR_MICCAI_BraTS2021_TrainingData/BraTS2021_00533/BraTS2021_00533_t1.nii.gz']\n",
      "52 188\n",
      "36 209\n",
      "0 143\n"
     ]
    },
    {
     "name": "stderr",
     "output_type": "stream",
     "text": [
      "\r",
      " 59%|█████▉    | 741/1251 [14:16<09:43,  1.14s/it]"
     ]
    },
    {
     "name": "stdout",
     "output_type": "stream",
     "text": [
      "['/raid/jiang/projects/SubtleGAN/data/RSNA_ASNR_MICCAI_BraTS2021_TrainingData/BraTS2021_01183/BraTS2021_01183_t1.nii.gz']\n",
      "57 179\n",
      "36 191\n",
      "5 134\n"
     ]
    },
    {
     "name": "stderr",
     "output_type": "stream",
     "text": [
      "\r",
      " 59%|█████▉    | 742/1251 [14:17<09:56,  1.17s/it]"
     ]
    },
    {
     "name": "stdout",
     "output_type": "stream",
     "text": [
      "['/raid/jiang/projects/SubtleGAN/data/RSNA_ASNR_MICCAI_BraTS2021_TrainingData/BraTS2021_01607/BraTS2021_01607_t1.nii.gz']\n",
      "48 191\n",
      "35 223\n",
      "6 146\n"
     ]
    },
    {
     "name": "stderr",
     "output_type": "stream",
     "text": [
      "\r",
      " 59%|█████▉    | 743/1251 [14:19<10:11,  1.20s/it]"
     ]
    },
    {
     "name": "stdout",
     "output_type": "stream",
     "text": [
      "['/raid/jiang/projects/SubtleGAN/data/RSNA_ASNR_MICCAI_BraTS2021_TrainingData/BraTS2021_00159/BraTS2021_00159_t1.nii.gz']\n",
      "50 187\n",
      "37 216\n",
      "0 142\n"
     ]
    },
    {
     "name": "stderr",
     "output_type": "stream",
     "text": [
      "\r",
      " 59%|█████▉    | 744/1251 [14:20<10:11,  1.21s/it]"
     ]
    },
    {
     "name": "stdout",
     "output_type": "stream",
     "text": [
      "['/raid/jiang/projects/SubtleGAN/data/RSNA_ASNR_MICCAI_BraTS2021_TrainingData/BraTS2021_00192/BraTS2021_00192_t1.nii.gz']\n",
      "51 186\n",
      "40 216\n",
      "0 139\n"
     ]
    },
    {
     "name": "stderr",
     "output_type": "stream",
     "text": [
      "\r",
      " 60%|█████▉    | 745/1251 [14:21<09:57,  1.18s/it]"
     ]
    },
    {
     "name": "stdout",
     "output_type": "stream",
     "text": [
      "['/raid/jiang/projects/SubtleGAN/data/RSNA_ASNR_MICCAI_BraTS2021_TrainingData/BraTS2021_00151/BraTS2021_00151_t1.nii.gz']\n",
      "51 186\n",
      "51 213\n",
      "0 136\n"
     ]
    },
    {
     "name": "stderr",
     "output_type": "stream",
     "text": [
      "\r",
      " 60%|█████▉    | 746/1251 [14:22<09:51,  1.17s/it]"
     ]
    },
    {
     "name": "stdout",
     "output_type": "stream",
     "text": [
      "['/raid/jiang/projects/SubtleGAN/data/RSNA_ASNR_MICCAI_BraTS2021_TrainingData/BraTS2021_00611/BraTS2021_00611_t1.nii.gz']\n",
      "58 186\n",
      "50 206\n",
      "0 141\n"
     ]
    },
    {
     "name": "stderr",
     "output_type": "stream",
     "text": [
      "\r",
      " 60%|█████▉    | 747/1251 [14:23<09:29,  1.13s/it]"
     ]
    },
    {
     "name": "stdout",
     "output_type": "stream",
     "text": [
      "['/raid/jiang/projects/SubtleGAN/data/RSNA_ASNR_MICCAI_BraTS2021_TrainingData/BraTS2021_01315/BraTS2021_01315_t1.nii.gz']\n",
      "50 185\n",
      "43 214\n",
      "0 142\n"
     ]
    },
    {
     "name": "stderr",
     "output_type": "stream",
     "text": [
      "\r",
      " 60%|█████▉    | 748/1251 [14:24<09:45,  1.16s/it]"
     ]
    },
    {
     "name": "stdout",
     "output_type": "stream",
     "text": [
      "['/raid/jiang/projects/SubtleGAN/data/RSNA_ASNR_MICCAI_BraTS2021_TrainingData/BraTS2021_00263/BraTS2021_00263_t1.nii.gz']\n",
      "51 188\n",
      "32 221\n",
      "0 139\n"
     ]
    },
    {
     "name": "stderr",
     "output_type": "stream",
     "text": [
      "\r",
      " 60%|█████▉    | 749/1251 [14:26<10:00,  1.20s/it]"
     ]
    },
    {
     "name": "stdout",
     "output_type": "stream",
     "text": [
      "['/raid/jiang/projects/SubtleGAN/data/RSNA_ASNR_MICCAI_BraTS2021_TrainingData/BraTS2021_01338/BraTS2021_01338_t1.nii.gz']\n",
      "52 185\n",
      "45 213\n",
      "0 143\n"
     ]
    },
    {
     "name": "stderr",
     "output_type": "stream",
     "text": [
      "\r",
      " 60%|█████▉    | 750/1251 [14:27<09:46,  1.17s/it]"
     ]
    },
    {
     "name": "stdout",
     "output_type": "stream",
     "text": [
      "['/raid/jiang/projects/SubtleGAN/data/RSNA_ASNR_MICCAI_BraTS2021_TrainingData/BraTS2021_00697/BraTS2021_00697_t1.nii.gz']\n",
      "46 192\n",
      "48 202\n",
      "2 146\n"
     ]
    },
    {
     "name": "stderr",
     "output_type": "stream",
     "text": [
      "\r",
      " 60%|██████    | 751/1251 [14:28<09:32,  1.15s/it]"
     ]
    },
    {
     "name": "stdout",
     "output_type": "stream",
     "text": [
      "['/raid/jiang/projects/SubtleGAN/data/RSNA_ASNR_MICCAI_BraTS2021_TrainingData/BraTS2021_00656/BraTS2021_00656_t1.nii.gz']\n",
      "45 190\n",
      "37 202\n",
      "0 132\n"
     ]
    },
    {
     "name": "stderr",
     "output_type": "stream",
     "text": [
      "\r",
      " 60%|██████    | 752/1251 [14:29<09:27,  1.14s/it]"
     ]
    },
    {
     "name": "stdout",
     "output_type": "stream",
     "text": [
      "['/raid/jiang/projects/SubtleGAN/data/RSNA_ASNR_MICCAI_BraTS2021_TrainingData/BraTS2021_01412/BraTS2021_01412_t1.nii.gz']\n",
      "48 189\n",
      "43 218\n",
      "0 145\n"
     ]
    },
    {
     "name": "stderr",
     "output_type": "stream",
     "text": [
      "\r",
      " 60%|██████    | 753/1251 [14:30<09:29,  1.14s/it]"
     ]
    },
    {
     "name": "stdout",
     "output_type": "stream",
     "text": [
      "['/raid/jiang/projects/SubtleGAN/data/RSNA_ASNR_MICCAI_BraTS2021_TrainingData/BraTS2021_00436/BraTS2021_00436_t1.nii.gz']\n",
      "55 183\n",
      "46 212\n",
      "0 137\n"
     ]
    },
    {
     "name": "stderr",
     "output_type": "stream",
     "text": [
      "\r",
      " 60%|██████    | 754/1251 [14:31<09:13,  1.11s/it]"
     ]
    },
    {
     "name": "stdout",
     "output_type": "stream",
     "text": [
      "['/raid/jiang/projects/SubtleGAN/data/RSNA_ASNR_MICCAI_BraTS2021_TrainingData/BraTS2021_00654/BraTS2021_00654_t1.nii.gz']\n",
      "49 182\n",
      "39 209\n",
      "1 136\n"
     ]
    },
    {
     "name": "stderr",
     "output_type": "stream",
     "text": [
      "\r",
      " 60%|██████    | 755/1251 [14:32<08:52,  1.07s/it]"
     ]
    },
    {
     "name": "stdout",
     "output_type": "stream",
     "text": [
      "['/raid/jiang/projects/SubtleGAN/data/RSNA_ASNR_MICCAI_BraTS2021_TrainingData/BraTS2021_00555/BraTS2021_00555_t1.nii.gz']\n",
      "49 187\n",
      "48 203\n",
      "8 148\n"
     ]
    },
    {
     "name": "stderr",
     "output_type": "stream",
     "text": [
      "\r",
      " 60%|██████    | 756/1251 [14:33<08:47,  1.07s/it]"
     ]
    },
    {
     "name": "stdout",
     "output_type": "stream",
     "text": [
      "['/raid/jiang/projects/SubtleGAN/data/RSNA_ASNR_MICCAI_BraTS2021_TrainingData/BraTS2021_01169/BraTS2021_01169_t1.nii.gz']\n",
      "55 180\n",
      "42 201\n",
      "9 136\n"
     ]
    },
    {
     "name": "stderr",
     "output_type": "stream",
     "text": [
      "\r",
      " 61%|██████    | 757/1251 [14:34<08:26,  1.02s/it]"
     ]
    },
    {
     "name": "stdout",
     "output_type": "stream",
     "text": [
      "['/raid/jiang/projects/SubtleGAN/data/RSNA_ASNR_MICCAI_BraTS2021_TrainingData/BraTS2021_01188/BraTS2021_01188_t1.nii.gz']\n",
      "51 180\n",
      "55 210\n",
      "8 134\n"
     ]
    },
    {
     "name": "stderr",
     "output_type": "stream",
     "text": [
      "\r",
      " 61%|██████    | 758/1251 [14:35<08:35,  1.04s/it]"
     ]
    },
    {
     "name": "stdout",
     "output_type": "stream",
     "text": [
      "['/raid/jiang/projects/SubtleGAN/data/RSNA_ASNR_MICCAI_BraTS2021_TrainingData/BraTS2021_01120/BraTS2021_01120_t1.nii.gz']\n",
      "53 184\n",
      "47 209\n",
      "0 137\n"
     ]
    },
    {
     "name": "stderr",
     "output_type": "stream",
     "text": [
      "\r",
      " 61%|██████    | 759/1251 [14:36<08:57,  1.09s/it]"
     ]
    },
    {
     "name": "stdout",
     "output_type": "stream",
     "text": [
      "['/raid/jiang/projects/SubtleGAN/data/RSNA_ASNR_MICCAI_BraTS2021_TrainingData/BraTS2021_00557/BraTS2021_00557_t1.nii.gz']\n",
      "57 193\n",
      "40 212\n",
      "2 138\n"
     ]
    },
    {
     "name": "stderr",
     "output_type": "stream",
     "text": [
      "\r",
      " 61%|██████    | 760/1251 [14:38<09:12,  1.12s/it]"
     ]
    },
    {
     "name": "stdout",
     "output_type": "stream",
     "text": [
      "['/raid/jiang/projects/SubtleGAN/data/RSNA_ASNR_MICCAI_BraTS2021_TrainingData/BraTS2021_00241/BraTS2021_00241_t1.nii.gz']\n",
      "49 186\n",
      "46 217\n",
      "0 139\n"
     ]
    },
    {
     "name": "stderr",
     "output_type": "stream",
     "text": [
      "\r",
      " 61%|██████    | 761/1251 [14:39<09:32,  1.17s/it]"
     ]
    },
    {
     "name": "stdout",
     "output_type": "stream",
     "text": [
      "['/raid/jiang/projects/SubtleGAN/data/RSNA_ASNR_MICCAI_BraTS2021_TrainingData/BraTS2021_01041/BraTS2021_01041_t1.nii.gz']\n",
      "50 187\n",
      "42 217\n",
      "0 143\n"
     ]
    },
    {
     "name": "stderr",
     "output_type": "stream",
     "text": [
      "\r",
      " 61%|██████    | 762/1251 [14:40<09:35,  1.18s/it]"
     ]
    },
    {
     "name": "stdout",
     "output_type": "stream",
     "text": [
      "['/raid/jiang/projects/SubtleGAN/data/RSNA_ASNR_MICCAI_BraTS2021_TrainingData/BraTS2021_00518/BraTS2021_00518_t1.nii.gz']\n",
      "56 188\n",
      "32 212\n",
      "0 135\n"
     ]
    },
    {
     "name": "stderr",
     "output_type": "stream",
     "text": [
      "\r",
      " 61%|██████    | 763/1251 [14:41<09:40,  1.19s/it]"
     ]
    },
    {
     "name": "stdout",
     "output_type": "stream",
     "text": [
      "['/raid/jiang/projects/SubtleGAN/data/RSNA_ASNR_MICCAI_BraTS2021_TrainingData/BraTS2021_01639/BraTS2021_01639_t1.nii.gz']\n",
      "49 185\n",
      "47 212\n",
      "0 139\n"
     ]
    },
    {
     "name": "stderr",
     "output_type": "stream",
     "text": [
      "\r",
      " 61%|██████    | 764/1251 [14:42<09:12,  1.13s/it]"
     ]
    },
    {
     "name": "stdout",
     "output_type": "stream",
     "text": [
      "['/raid/jiang/projects/SubtleGAN/data/RSNA_ASNR_MICCAI_BraTS2021_TrainingData/BraTS2021_00370/BraTS2021_00370_t1.nii.gz']\n",
      "52 183\n",
      "49 219\n",
      "10 141\n"
     ]
    },
    {
     "name": "stderr",
     "output_type": "stream",
     "text": [
      "\r",
      " 61%|██████    | 765/1251 [14:43<08:54,  1.10s/it]"
     ]
    },
    {
     "name": "stdout",
     "output_type": "stream",
     "text": [
      "['/raid/jiang/projects/SubtleGAN/data/RSNA_ASNR_MICCAI_BraTS2021_TrainingData/BraTS2021_00839/BraTS2021_00839_t1.nii.gz']\n",
      "54 184\n",
      "48 214\n",
      "0 139\n"
     ]
    },
    {
     "name": "stderr",
     "output_type": "stream",
     "text": [
      "\r",
      " 61%|██████    | 766/1251 [14:44<08:57,  1.11s/it]"
     ]
    },
    {
     "name": "stdout",
     "output_type": "stream",
     "text": [
      "['/raid/jiang/projects/SubtleGAN/data/RSNA_ASNR_MICCAI_BraTS2021_TrainingData/BraTS2021_01218/BraTS2021_01218_t1.nii.gz']\n",
      "52 188\n",
      "46 212\n",
      "4 139\n"
     ]
    },
    {
     "name": "stderr",
     "output_type": "stream",
     "text": [
      "\r",
      " 61%|██████▏   | 767/1251 [14:46<08:53,  1.10s/it]"
     ]
    },
    {
     "name": "stdout",
     "output_type": "stream",
     "text": [
      "['/raid/jiang/projects/SubtleGAN/data/RSNA_ASNR_MICCAI_BraTS2021_TrainingData/BraTS2021_01166/BraTS2021_01166_t1.nii.gz']\n",
      "49 188\n",
      "49 210\n",
      "3 134\n"
     ]
    },
    {
     "name": "stderr",
     "output_type": "stream",
     "text": [
      "\r",
      " 61%|██████▏   | 768/1251 [14:47<09:12,  1.14s/it]"
     ]
    },
    {
     "name": "stdout",
     "output_type": "stream",
     "text": [
      "['/raid/jiang/projects/SubtleGAN/data/RSNA_ASNR_MICCAI_BraTS2021_TrainingData/BraTS2021_00386/BraTS2021_00386_t1.nii.gz']\n",
      "52 185\n",
      "38 218\n",
      "0 139\n"
     ]
    },
    {
     "name": "stderr",
     "output_type": "stream",
     "text": [
      "\r",
      " 61%|██████▏   | 769/1251 [14:48<09:14,  1.15s/it]"
     ]
    },
    {
     "name": "stdout",
     "output_type": "stream",
     "text": [
      "['/raid/jiang/projects/SubtleGAN/data/RSNA_ASNR_MICCAI_BraTS2021_TrainingData/BraTS2021_01173/BraTS2021_01173_t1.nii.gz']\n",
      "55 184\n",
      "43 216\n",
      "5 134\n"
     ]
    },
    {
     "name": "stderr",
     "output_type": "stream",
     "text": [
      "\r",
      " 62%|██████▏   | 770/1251 [14:49<09:29,  1.18s/it]"
     ]
    },
    {
     "name": "stdout",
     "output_type": "stream",
     "text": [
      "['/raid/jiang/projects/SubtleGAN/data/RSNA_ASNR_MICCAI_BraTS2021_TrainingData/BraTS2021_00615/BraTS2021_00615_t1.nii.gz']\n",
      "54 185\n",
      "35 210\n",
      "0 140\n"
     ]
    },
    {
     "name": "stderr",
     "output_type": "stream",
     "text": [
      "\r",
      " 62%|██████▏   | 771/1251 [14:50<09:16,  1.16s/it]"
     ]
    },
    {
     "name": "stdout",
     "output_type": "stream",
     "text": [
      "['/raid/jiang/projects/SubtleGAN/data/RSNA_ASNR_MICCAI_BraTS2021_TrainingData/BraTS2021_00777/BraTS2021_00777_t1.nii.gz']\n",
      "49 187\n",
      "45 207\n",
      "1 145\n"
     ]
    },
    {
     "name": "stderr",
     "output_type": "stream",
     "text": [
      "\r",
      " 62%|██████▏   | 772/1251 [14:51<09:20,  1.17s/it]"
     ]
    },
    {
     "name": "stdout",
     "output_type": "stream",
     "text": [
      "['/raid/jiang/projects/SubtleGAN/data/RSNA_ASNR_MICCAI_BraTS2021_TrainingData/BraTS2021_01277/BraTS2021_01277_t1.nii.gz']\n",
      "48 188\n",
      "44 219\n",
      "0 140\n"
     ]
    },
    {
     "name": "stderr",
     "output_type": "stream",
     "text": [
      "\r",
      " 62%|██████▏   | 773/1251 [14:53<09:11,  1.15s/it]"
     ]
    },
    {
     "name": "stdout",
     "output_type": "stream",
     "text": [
      "['/raid/jiang/projects/SubtleGAN/data/RSNA_ASNR_MICCAI_BraTS2021_TrainingData/BraTS2021_00270/BraTS2021_00270_t1.nii.gz']\n",
      "53 183\n",
      "55 208\n",
      "0 140\n"
     ]
    },
    {
     "name": "stderr",
     "output_type": "stream",
     "text": [
      "\r",
      " 62%|██████▏   | 774/1251 [14:54<08:57,  1.13s/it]"
     ]
    },
    {
     "name": "stdout",
     "output_type": "stream",
     "text": [
      "['/raid/jiang/projects/SubtleGAN/data/RSNA_ASNR_MICCAI_BraTS2021_TrainingData/BraTS2021_01447/BraTS2021_01447_t1.nii.gz']\n",
      "50 190\n",
      "43 217\n",
      "0 136\n"
     ]
    },
    {
     "name": "stderr",
     "output_type": "stream",
     "text": [
      "\r",
      " 62%|██████▏   | 775/1251 [14:55<08:57,  1.13s/it]"
     ]
    },
    {
     "name": "stdout",
     "output_type": "stream",
     "text": [
      "['/raid/jiang/projects/SubtleGAN/data/RSNA_ASNR_MICCAI_BraTS2021_TrainingData/BraTS2021_01468/BraTS2021_01468_t1.nii.gz']\n",
      "50 182\n",
      "46 213\n",
      "0 142\n"
     ]
    },
    {
     "name": "stderr",
     "output_type": "stream",
     "text": [
      "\r",
      " 62%|██████▏   | 776/1251 [14:56<08:54,  1.13s/it]"
     ]
    },
    {
     "name": "stdout",
     "output_type": "stream",
     "text": [
      "['/raid/jiang/projects/SubtleGAN/data/RSNA_ASNR_MICCAI_BraTS2021_TrainingData/BraTS2021_00044/BraTS2021_00044_t1.nii.gz']\n",
      "54 184\n",
      "38 208\n",
      "7 147\n"
     ]
    },
    {
     "name": "stderr",
     "output_type": "stream",
     "text": [
      "\r",
      " 62%|██████▏   | 777/1251 [14:57<08:58,  1.14s/it]"
     ]
    },
    {
     "name": "stdout",
     "output_type": "stream",
     "text": [
      "['/raid/jiang/projects/SubtleGAN/data/RSNA_ASNR_MICCAI_BraTS2021_TrainingData/BraTS2021_00105/BraTS2021_00105_t1.nii.gz']\n",
      "48 189\n",
      "45 208\n",
      "1 138\n"
     ]
    },
    {
     "name": "stderr",
     "output_type": "stream",
     "text": [
      "\r",
      " 62%|██████▏   | 778/1251 [14:58<09:03,  1.15s/it]"
     ]
    },
    {
     "name": "stdout",
     "output_type": "stream",
     "text": [
      "['/raid/jiang/projects/SubtleGAN/data/RSNA_ASNR_MICCAI_BraTS2021_TrainingData/BraTS2021_01181/BraTS2021_01181_t1.nii.gz']\n",
      "55 182\n",
      "44 207\n",
      "8 137\n"
     ]
    },
    {
     "name": "stderr",
     "output_type": "stream",
     "text": [
      "\r",
      " 62%|██████▏   | 779/1251 [14:59<08:47,  1.12s/it]"
     ]
    },
    {
     "name": "stdout",
     "output_type": "stream",
     "text": [
      "['/raid/jiang/projects/SubtleGAN/data/RSNA_ASNR_MICCAI_BraTS2021_TrainingData/BraTS2021_00140/BraTS2021_00140_t1.nii.gz']\n",
      "51 184\n",
      "45 215\n",
      "0 138\n"
     ]
    },
    {
     "name": "stderr",
     "output_type": "stream",
     "text": [
      "\r",
      " 62%|██████▏   | 780/1251 [15:01<09:09,  1.17s/it]"
     ]
    },
    {
     "name": "stdout",
     "output_type": "stream",
     "text": [
      "['/raid/jiang/projects/SubtleGAN/data/RSNA_ASNR_MICCAI_BraTS2021_TrainingData/BraTS2021_01529/BraTS2021_01529_t1.nii.gz']\n",
      "48 188\n",
      "41 217\n",
      "0 140\n"
     ]
    },
    {
     "name": "stderr",
     "output_type": "stream",
     "text": [
      "\r",
      " 62%|██████▏   | 781/1251 [15:02<09:12,  1.18s/it]"
     ]
    },
    {
     "name": "stdout",
     "output_type": "stream",
     "text": [
      "['/raid/jiang/projects/SubtleGAN/data/RSNA_ASNR_MICCAI_BraTS2021_TrainingData/BraTS2021_00651/BraTS2021_00651_t1.nii.gz']\n",
      "54 188\n",
      "43 211\n",
      "0 144\n",
      "['/raid/jiang/projects/SubtleGAN/data/RSNA_ASNR_MICCAI_BraTS2021_TrainingData/BraTS2021_00338/BraTS2021_00338_t1.nii.gz']\n"
     ]
    },
    {
     "name": "stderr",
     "output_type": "stream",
     "text": [
      "\r",
      " 63%|██████▎   | 782/1251 [15:03<09:14,  1.18s/it]"
     ]
    },
    {
     "name": "stdout",
     "output_type": "stream",
     "text": [
      "50 187\n",
      "37 218\n",
      "0 140\n"
     ]
    },
    {
     "name": "stderr",
     "output_type": "stream",
     "text": [
      "\r",
      " 63%|██████▎   | 783/1251 [15:04<08:58,  1.15s/it]"
     ]
    },
    {
     "name": "stdout",
     "output_type": "stream",
     "text": [
      "['/raid/jiang/projects/SubtleGAN/data/RSNA_ASNR_MICCAI_BraTS2021_TrainingData/BraTS2021_00011/BraTS2021_00011_t1.nii.gz']\n",
      "49 189\n",
      "41 206\n",
      "1 142\n"
     ]
    },
    {
     "name": "stderr",
     "output_type": "stream",
     "text": [
      "\r",
      " 63%|██████▎   | 784/1251 [15:05<08:36,  1.11s/it]"
     ]
    },
    {
     "name": "stdout",
     "output_type": "stream",
     "text": [
      "['/raid/jiang/projects/SubtleGAN/data/RSNA_ASNR_MICCAI_BraTS2021_TrainingData/BraTS2021_00166/BraTS2021_00166_t1.nii.gz']\n",
      "55 181\n",
      "45 205\n",
      "0 133\n"
     ]
    },
    {
     "name": "stderr",
     "output_type": "stream",
     "text": [
      "\r",
      " 63%|██████▎   | 785/1251 [15:06<08:34,  1.10s/it]"
     ]
    },
    {
     "name": "stdout",
     "output_type": "stream",
     "text": [
      "['/raid/jiang/projects/SubtleGAN/data/RSNA_ASNR_MICCAI_BraTS2021_TrainingData/BraTS2021_00607/BraTS2021_00607_t1.nii.gz']\n",
      "53 187\n",
      "44 210\n",
      "0 141\n"
     ]
    },
    {
     "name": "stderr",
     "output_type": "stream",
     "text": [
      "\r",
      " 63%|██████▎   | 786/1251 [15:07<08:24,  1.09s/it]"
     ]
    },
    {
     "name": "stdout",
     "output_type": "stream",
     "text": [
      "['/raid/jiang/projects/SubtleGAN/data/RSNA_ASNR_MICCAI_BraTS2021_TrainingData/BraTS2021_01110/BraTS2021_01110_t1.nii.gz']\n",
      "49 187\n",
      "50 208\n",
      "5 140\n"
     ]
    },
    {
     "name": "stderr",
     "output_type": "stream",
     "text": [
      "\r",
      " 63%|██████▎   | 787/1251 [15:08<08:15,  1.07s/it]"
     ]
    },
    {
     "name": "stdout",
     "output_type": "stream",
     "text": [
      "['/raid/jiang/projects/SubtleGAN/data/RSNA_ASNR_MICCAI_BraTS2021_TrainingData/BraTS2021_01109/BraTS2021_01109_t1.nii.gz']\n",
      "48 188\n",
      "49 212\n",
      "0 142\n"
     ]
    },
    {
     "name": "stderr",
     "output_type": "stream",
     "text": [
      "\r",
      " 63%|██████▎   | 788/1251 [15:09<08:33,  1.11s/it]"
     ]
    },
    {
     "name": "stdout",
     "output_type": "stream",
     "text": [
      "['/raid/jiang/projects/SubtleGAN/data/RSNA_ASNR_MICCAI_BraTS2021_TrainingData/BraTS2021_00061/BraTS2021_00061_t1.nii.gz']\n",
      "50 185\n",
      "29 216\n",
      "0 140\n"
     ]
    },
    {
     "name": "stderr",
     "output_type": "stream",
     "text": [
      "\r",
      " 63%|██████▎   | 789/1251 [15:11<09:08,  1.19s/it]"
     ]
    },
    {
     "name": "stdout",
     "output_type": "stream",
     "text": [
      "['/raid/jiang/projects/SubtleGAN/data/RSNA_ASNR_MICCAI_BraTS2021_TrainingData/BraTS2021_00577/BraTS2021_00577_t1.nii.gz']\n",
      "47 191\n",
      "43 217\n",
      "4 142\n",
      "['/raid/jiang/projects/SubtleGAN/data/RSNA_ASNR_MICCAI_BraTS2021_TrainingData/BraTS2021_01158/BraTS2021_01158_t1.nii.gz']\n"
     ]
    },
    {
     "name": "stderr",
     "output_type": "stream",
     "text": [
      "\r",
      " 63%|██████▎   | 790/1251 [15:12<09:27,  1.23s/it]"
     ]
    },
    {
     "name": "stdout",
     "output_type": "stream",
     "text": [
      "53 186\n",
      "39 212\n",
      "0 140\n"
     ]
    },
    {
     "name": "stderr",
     "output_type": "stream",
     "text": [
      "\r",
      " 63%|██████▎   | 791/1251 [15:14<09:45,  1.27s/it]"
     ]
    },
    {
     "name": "stdout",
     "output_type": "stream",
     "text": [
      "['/raid/jiang/projects/SubtleGAN/data/RSNA_ASNR_MICCAI_BraTS2021_TrainingData/BraTS2021_01086/BraTS2021_01086_t1.nii.gz']\n",
      "49 191\n",
      "38 220\n",
      "0 143\n"
     ]
    },
    {
     "name": "stderr",
     "output_type": "stream",
     "text": [
      "\r",
      " 63%|██████▎   | 792/1251 [15:15<10:04,  1.32s/it]"
     ]
    },
    {
     "name": "stdout",
     "output_type": "stream",
     "text": [
      "['/raid/jiang/projects/SubtleGAN/data/RSNA_ASNR_MICCAI_BraTS2021_TrainingData/BraTS2021_00558/BraTS2021_00558_t1.nii.gz']\n",
      "47 189\n",
      "30 217\n",
      "0 138\n"
     ]
    },
    {
     "name": "stderr",
     "output_type": "stream",
     "text": [
      "\r",
      " 63%|██████▎   | 793/1251 [15:16<09:57,  1.30s/it]"
     ]
    },
    {
     "name": "stdout",
     "output_type": "stream",
     "text": [
      "['/raid/jiang/projects/SubtleGAN/data/RSNA_ASNR_MICCAI_BraTS2021_TrainingData/BraTS2021_00425/BraTS2021_00425_t1.nii.gz']\n",
      "45 194\n",
      "40 222\n",
      "0 137\n"
     ]
    },
    {
     "name": "stderr",
     "output_type": "stream",
     "text": [
      "\r",
      " 63%|██████▎   | 794/1251 [15:17<09:45,  1.28s/it]"
     ]
    },
    {
     "name": "stdout",
     "output_type": "stream",
     "text": [
      "['/raid/jiang/projects/SubtleGAN/data/RSNA_ASNR_MICCAI_BraTS2021_TrainingData/BraTS2021_00364/BraTS2021_00364_t1.nii.gz']\n",
      "51 185\n",
      "48 211\n",
      "0 133\n"
     ]
    },
    {
     "name": "stderr",
     "output_type": "stream",
     "text": [
      "\r",
      " 64%|██████▎   | 795/1251 [15:19<09:25,  1.24s/it]"
     ]
    },
    {
     "name": "stdout",
     "output_type": "stream",
     "text": [
      "['/raid/jiang/projects/SubtleGAN/data/RSNA_ASNR_MICCAI_BraTS2021_TrainingData/BraTS2021_00285/BraTS2021_00285_t1.nii.gz']\n",
      "52 186\n",
      "39 214\n",
      "0 137\n"
     ]
    },
    {
     "name": "stderr",
     "output_type": "stream",
     "text": [
      "\r",
      " 64%|██████▎   | 796/1251 [15:20<09:18,  1.23s/it]"
     ]
    },
    {
     "name": "stdout",
     "output_type": "stream",
     "text": [
      "['/raid/jiang/projects/SubtleGAN/data/RSNA_ASNR_MICCAI_BraTS2021_TrainingData/BraTS2021_00456/BraTS2021_00456_t1.nii.gz']\n",
      "47 190\n",
      "55 212\n",
      "0 141\n"
     ]
    },
    {
     "name": "stderr",
     "output_type": "stream",
     "text": [
      "\r",
      " 64%|██████▎   | 797/1251 [15:21<09:04,  1.20s/it]"
     ]
    },
    {
     "name": "stdout",
     "output_type": "stream",
     "text": [
      "['/raid/jiang/projects/SubtleGAN/data/RSNA_ASNR_MICCAI_BraTS2021_TrainingData/BraTS2021_00569/BraTS2021_00569_t1.nii.gz']\n",
      "53 187\n",
      "53 216\n",
      "4 135\n"
     ]
    },
    {
     "name": "stderr",
     "output_type": "stream",
     "text": [
      "\r",
      " 64%|██████▍   | 798/1251 [15:22<08:38,  1.14s/it]"
     ]
    },
    {
     "name": "stdout",
     "output_type": "stream",
     "text": [
      "['/raid/jiang/projects/SubtleGAN/data/RSNA_ASNR_MICCAI_BraTS2021_TrainingData/BraTS2021_00203/BraTS2021_00203_t1.nii.gz']\n",
      "50 185\n",
      "48 214\n",
      "0 141\n"
     ]
    },
    {
     "name": "stderr",
     "output_type": "stream",
     "text": [
      "\r",
      " 64%|██████▍   | 799/1251 [15:23<08:56,  1.19s/it]"
     ]
    },
    {
     "name": "stdout",
     "output_type": "stream",
     "text": [
      "['/raid/jiang/projects/SubtleGAN/data/RSNA_ASNR_MICCAI_BraTS2021_TrainingData/BraTS2021_00188/BraTS2021_00188_t1.nii.gz']\n",
      "48 190\n",
      "41 220\n",
      "0 137\n"
     ]
    },
    {
     "name": "stderr",
     "output_type": "stream",
     "text": [
      "\r",
      " 64%|██████▍   | 800/1251 [15:25<09:33,  1.27s/it]"
     ]
    },
    {
     "name": "stdout",
     "output_type": "stream",
     "text": [
      "['/raid/jiang/projects/SubtleGAN/data/RSNA_ASNR_MICCAI_BraTS2021_TrainingData/BraTS2021_00640/BraTS2021_00640_t1.nii.gz']\n",
      "50 192\n",
      "42 211\n",
      "0 141\n"
     ]
    },
    {
     "name": "stderr",
     "output_type": "stream",
     "text": [
      "\r",
      " 64%|██████▍   | 801/1251 [15:26<09:34,  1.28s/it]"
     ]
    },
    {
     "name": "stdout",
     "output_type": "stream",
     "text": [
      "['/raid/jiang/projects/SubtleGAN/data/RSNA_ASNR_MICCAI_BraTS2021_TrainingData/BraTS2021_00098/BraTS2021_00098_t1.nii.gz']\n",
      "52 183\n",
      "47 213\n",
      "3 145\n"
     ]
    },
    {
     "name": "stderr",
     "output_type": "stream",
     "text": [
      "\r",
      " 64%|██████▍   | 802/1251 [15:27<09:14,  1.24s/it]"
     ]
    },
    {
     "name": "stdout",
     "output_type": "stream",
     "text": [
      "['/raid/jiang/projects/SubtleGAN/data/RSNA_ASNR_MICCAI_BraTS2021_TrainingData/BraTS2021_01594/BraTS2021_01594_t1.nii.gz']\n",
      "52 185\n",
      "46 212\n",
      "0 133\n"
     ]
    },
    {
     "name": "stderr",
     "output_type": "stream",
     "text": [
      "\r",
      " 64%|██████▍   | 803/1251 [15:28<09:11,  1.23s/it]"
     ]
    },
    {
     "name": "stdout",
     "output_type": "stream",
     "text": [
      "['/raid/jiang/projects/SubtleGAN/data/RSNA_ASNR_MICCAI_BraTS2021_TrainingData/BraTS2021_00282/BraTS2021_00282_t1.nii.gz']\n",
      "47 192\n",
      "43 215\n",
      "0 138\n"
     ]
    },
    {
     "name": "stderr",
     "output_type": "stream",
     "text": [
      "\r",
      " 64%|██████▍   | 804/1251 [15:30<09:12,  1.24s/it]"
     ]
    },
    {
     "name": "stdout",
     "output_type": "stream",
     "text": [
      "['/raid/jiang/projects/SubtleGAN/data/RSNA_ASNR_MICCAI_BraTS2021_TrainingData/BraTS2021_00012/BraTS2021_00012_t1.nii.gz']\n",
      "51 193\n",
      "34 211\n",
      "5 145\n"
     ]
    },
    {
     "name": "stderr",
     "output_type": "stream",
     "text": [
      "\r",
      " 64%|██████▍   | 805/1251 [15:31<09:17,  1.25s/it]"
     ]
    },
    {
     "name": "stdout",
     "output_type": "stream",
     "text": [
      "['/raid/jiang/projects/SubtleGAN/data/RSNA_ASNR_MICCAI_BraTS2021_TrainingData/BraTS2021_01566/BraTS2021_01566_t1.nii.gz']\n",
      "50 184\n",
      "48 218\n",
      "0 149\n"
     ]
    },
    {
     "name": "stderr",
     "output_type": "stream",
     "text": [
      "\r",
      " 64%|██████▍   | 806/1251 [15:32<08:53,  1.20s/it]"
     ]
    },
    {
     "name": "stdout",
     "output_type": "stream",
     "text": [
      "['/raid/jiang/projects/SubtleGAN/data/RSNA_ASNR_MICCAI_BraTS2021_TrainingData/BraTS2021_00000/BraTS2021_00000_t1.nii.gz']\n",
      "52 187\n",
      "40 210\n",
      "4 149\n"
     ]
    },
    {
     "name": "stderr",
     "output_type": "stream",
     "text": [
      "\r",
      " 65%|██████▍   | 807/1251 [15:33<08:52,  1.20s/it]"
     ]
    },
    {
     "name": "stdout",
     "output_type": "stream",
     "text": [
      "['/raid/jiang/projects/SubtleGAN/data/RSNA_ASNR_MICCAI_BraTS2021_TrainingData/BraTS2021_00116/BraTS2021_00116_t1.nii.gz']\n",
      "51 187\n",
      "43 216\n",
      "0 136\n"
     ]
    },
    {
     "name": "stderr",
     "output_type": "stream",
     "text": [
      "\r",
      " 65%|██████▍   | 808/1251 [15:34<08:54,  1.21s/it]"
     ]
    },
    {
     "name": "stdout",
     "output_type": "stream",
     "text": [
      "['/raid/jiang/projects/SubtleGAN/data/RSNA_ASNR_MICCAI_BraTS2021_TrainingData/BraTS2021_00469/BraTS2021_00469_t1.nii.gz']\n",
      "52 186\n",
      "37 212\n",
      "5 143\n"
     ]
    },
    {
     "name": "stderr",
     "output_type": "stream",
     "text": [
      "\r",
      " 65%|██████▍   | 809/1251 [15:35<08:36,  1.17s/it]"
     ]
    },
    {
     "name": "stdout",
     "output_type": "stream",
     "text": [
      "['/raid/jiang/projects/SubtleGAN/data/RSNA_ASNR_MICCAI_BraTS2021_TrainingData/BraTS2021_00162/BraTS2021_00162_t1.nii.gz']\n",
      "52 186\n",
      "42 213\n",
      "0 138\n"
     ]
    },
    {
     "name": "stderr",
     "output_type": "stream",
     "text": [
      "\r",
      " 65%|██████▍   | 810/1251 [15:37<08:34,  1.17s/it]"
     ]
    },
    {
     "name": "stdout",
     "output_type": "stream",
     "text": [
      "['/raid/jiang/projects/SubtleGAN/data/RSNA_ASNR_MICCAI_BraTS2021_TrainingData/BraTS2021_01024/BraTS2021_01024_t1.nii.gz']\n",
      "47 190\n",
      "47 214\n",
      "4 137\n"
     ]
    },
    {
     "name": "stderr",
     "output_type": "stream",
     "text": [
      "\r",
      " 65%|██████▍   | 811/1251 [15:38<08:13,  1.12s/it]"
     ]
    },
    {
     "name": "stdout",
     "output_type": "stream",
     "text": [
      "['/raid/jiang/projects/SubtleGAN/data/RSNA_ASNR_MICCAI_BraTS2021_TrainingData/BraTS2021_01437/BraTS2021_01437_t1.nii.gz']\n",
      "52 186\n",
      "49 210\n",
      "4 141\n"
     ]
    },
    {
     "name": "stderr",
     "output_type": "stream",
     "text": [
      "\r",
      " 65%|██████▍   | 812/1251 [15:39<08:35,  1.17s/it]"
     ]
    },
    {
     "name": "stdout",
     "output_type": "stream",
     "text": [
      "['/raid/jiang/projects/SubtleGAN/data/RSNA_ASNR_MICCAI_BraTS2021_TrainingData/BraTS2021_01552/BraTS2021_01552_t1.nii.gz']\n",
      "48 190\n",
      "26 223\n",
      "0 140\n"
     ]
    },
    {
     "name": "stderr",
     "output_type": "stream",
     "text": [
      "\r",
      " 65%|██████▍   | 813/1251 [15:40<08:43,  1.20s/it]"
     ]
    },
    {
     "name": "stdout",
     "output_type": "stream",
     "text": [
      "['/raid/jiang/projects/SubtleGAN/data/RSNA_ASNR_MICCAI_BraTS2021_TrainingData/BraTS2021_01350/BraTS2021_01350_t1.nii.gz']\n",
      "53 184\n",
      "50 213\n",
      "0 130\n"
     ]
    },
    {
     "name": "stderr",
     "output_type": "stream",
     "text": [
      "\r",
      " 65%|██████▌   | 814/1251 [15:41<08:31,  1.17s/it]"
     ]
    },
    {
     "name": "stdout",
     "output_type": "stream",
     "text": [
      "['/raid/jiang/projects/SubtleGAN/data/RSNA_ASNR_MICCAI_BraTS2021_TrainingData/BraTS2021_00747/BraTS2021_00747_t1.nii.gz']\n",
      "52 189\n",
      "30 212\n",
      "0 142\n"
     ]
    },
    {
     "name": "stderr",
     "output_type": "stream",
     "text": [
      "\r",
      " 65%|██████▌   | 815/1251 [15:43<08:41,  1.20s/it]"
     ]
    },
    {
     "name": "stdout",
     "output_type": "stream",
     "text": [
      "['/raid/jiang/projects/SubtleGAN/data/RSNA_ASNR_MICCAI_BraTS2021_TrainingData/BraTS2021_00539/BraTS2021_00539_t1.nii.gz']\n",
      "59 191\n",
      "41 209\n",
      "0 138\n"
     ]
    },
    {
     "name": "stderr",
     "output_type": "stream",
     "text": [
      "\r",
      " 65%|██████▌   | 816/1251 [15:44<08:44,  1.21s/it]"
     ]
    },
    {
     "name": "stdout",
     "output_type": "stream",
     "text": [
      "['/raid/jiang/projects/SubtleGAN/data/RSNA_ASNR_MICCAI_BraTS2021_TrainingData/BraTS2021_00249/BraTS2021_00249_t1.nii.gz']\n",
      "51 185\n",
      "42 216\n",
      "0 140\n"
     ]
    },
    {
     "name": "stderr",
     "output_type": "stream",
     "text": [
      "\r",
      " 65%|██████▌   | 817/1251 [15:45<08:38,  1.20s/it]"
     ]
    },
    {
     "name": "stdout",
     "output_type": "stream",
     "text": [
      "['/raid/jiang/projects/SubtleGAN/data/RSNA_ASNR_MICCAI_BraTS2021_TrainingData/BraTS2021_00716/BraTS2021_00716_t1.nii.gz']\n",
      "51 188\n",
      "42 208\n",
      "0 144\n"
     ]
    },
    {
     "name": "stderr",
     "output_type": "stream",
     "text": [
      "\r",
      " 65%|██████▌   | 818/1251 [15:46<08:20,  1.16s/it]"
     ]
    },
    {
     "name": "stdout",
     "output_type": "stream",
     "text": [
      "['/raid/jiang/projects/SubtleGAN/data/RSNA_ASNR_MICCAI_BraTS2021_TrainingData/BraTS2021_00056/BraTS2021_00056_t1.nii.gz']\n",
      "53 186\n",
      "42 211\n",
      "5 143\n"
     ]
    },
    {
     "name": "stderr",
     "output_type": "stream",
     "text": [
      "\r",
      " 65%|██████▌   | 819/1251 [15:47<08:27,  1.17s/it]"
     ]
    },
    {
     "name": "stdout",
     "output_type": "stream",
     "text": [
      "['/raid/jiang/projects/SubtleGAN/data/RSNA_ASNR_MICCAI_BraTS2021_TrainingData/BraTS2021_00718/BraTS2021_00718_t1.nii.gz']\n",
      "47 192\n",
      "32 211\n",
      "0 146\n"
     ]
    },
    {
     "name": "stderr",
     "output_type": "stream",
     "text": [
      "\r",
      " 66%|██████▌   | 820/1251 [15:49<08:42,  1.21s/it]"
     ]
    },
    {
     "name": "stdout",
     "output_type": "stream",
     "text": [
      "['/raid/jiang/projects/SubtleGAN/data/RSNA_ASNR_MICCAI_BraTS2021_TrainingData/BraTS2021_00388/BraTS2021_00388_t1.nii.gz']\n",
      "50 184\n",
      "44 214\n",
      "0 142\n"
     ]
    },
    {
     "name": "stderr",
     "output_type": "stream",
     "text": [
      "\r",
      " 66%|██████▌   | 821/1251 [15:50<08:23,  1.17s/it]"
     ]
    },
    {
     "name": "stdout",
     "output_type": "stream",
     "text": [
      "['/raid/jiang/projects/SubtleGAN/data/RSNA_ASNR_MICCAI_BraTS2021_TrainingData/BraTS2021_01195/BraTS2021_01195_t1.nii.gz']\n",
      "53 179\n",
      "47 212\n",
      "3 136\n"
     ]
    },
    {
     "name": "stderr",
     "output_type": "stream",
     "text": [
      "\r",
      " 66%|██████▌   | 822/1251 [15:51<08:04,  1.13s/it]"
     ]
    },
    {
     "name": "stdout",
     "output_type": "stream",
     "text": [
      "['/raid/jiang/projects/SubtleGAN/data/RSNA_ASNR_MICCAI_BraTS2021_TrainingData/BraTS2021_00999/BraTS2021_00999_t1.nii.gz']\n",
      "49 186\n",
      "58 209\n",
      "0 138\n"
     ]
    },
    {
     "name": "stderr",
     "output_type": "stream",
     "text": [
      "\r",
      " 66%|██████▌   | 823/1251 [15:52<07:54,  1.11s/it]"
     ]
    },
    {
     "name": "stdout",
     "output_type": "stream",
     "text": [
      "['/raid/jiang/projects/SubtleGAN/data/RSNA_ASNR_MICCAI_BraTS2021_TrainingData/BraTS2021_01329/BraTS2021_01329_t1.nii.gz']\n",
      "54 185\n",
      "43 215\n",
      "4 139\n"
     ]
    },
    {
     "name": "stderr",
     "output_type": "stream",
     "text": [
      "\r",
      " 66%|██████▌   | 824/1251 [15:53<07:41,  1.08s/it]"
     ]
    },
    {
     "name": "stdout",
     "output_type": "stream",
     "text": [
      "['/raid/jiang/projects/SubtleGAN/data/RSNA_ASNR_MICCAI_BraTS2021_TrainingData/BraTS2021_01500/BraTS2021_01500_t1.nii.gz']\n",
      "51 185\n",
      "51 213\n",
      "3 138\n"
     ]
    },
    {
     "name": "stderr",
     "output_type": "stream",
     "text": [
      "\r",
      " 66%|██████▌   | 825/1251 [15:54<07:40,  1.08s/it]"
     ]
    },
    {
     "name": "stdout",
     "output_type": "stream",
     "text": [
      "['/raid/jiang/projects/SubtleGAN/data/RSNA_ASNR_MICCAI_BraTS2021_TrainingData/BraTS2021_01251/BraTS2021_01251_t1.nii.gz']\n",
      "55 181\n",
      "54 213\n",
      "0 145\n"
     ]
    },
    {
     "name": "stderr",
     "output_type": "stream",
     "text": [
      "\r",
      " 66%|██████▌   | 826/1251 [15:55<07:42,  1.09s/it]"
     ]
    },
    {
     "name": "stdout",
     "output_type": "stream",
     "text": [
      "['/raid/jiang/projects/SubtleGAN/data/RSNA_ASNR_MICCAI_BraTS2021_TrainingData/BraTS2021_01217/BraTS2021_01217_t1.nii.gz']\n",
      "50 189\n",
      "38 214\n",
      "1 141\n"
     ]
    },
    {
     "name": "stderr",
     "output_type": "stream",
     "text": [
      "\r",
      " 66%|██████▌   | 827/1251 [15:56<08:08,  1.15s/it]"
     ]
    },
    {
     "name": "stdout",
     "output_type": "stream",
     "text": [
      "['/raid/jiang/projects/SubtleGAN/data/RSNA_ASNR_MICCAI_BraTS2021_TrainingData/BraTS2021_00045/BraTS2021_00045_t1.nii.gz']\n",
      "49 191\n",
      "27 211\n",
      "0 144\n"
     ]
    },
    {
     "name": "stderr",
     "output_type": "stream",
     "text": [
      "\r",
      " 66%|██████▌   | 828/1251 [15:57<08:16,  1.17s/it]"
     ]
    },
    {
     "name": "stdout",
     "output_type": "stream",
     "text": [
      "['/raid/jiang/projects/SubtleGAN/data/RSNA_ASNR_MICCAI_BraTS2021_TrainingData/BraTS2021_01600/BraTS2021_01600_t1.nii.gz']\n",
      "50 188\n",
      "46 210\n",
      "3 133\n"
     ]
    },
    {
     "name": "stderr",
     "output_type": "stream",
     "text": [
      "\r",
      " 66%|██████▋   | 829/1251 [15:59<08:09,  1.16s/it]"
     ]
    },
    {
     "name": "stdout",
     "output_type": "stream",
     "text": [
      "['/raid/jiang/projects/SubtleGAN/data/RSNA_ASNR_MICCAI_BraTS2021_TrainingData/BraTS2021_01367/BraTS2021_01367_t1.nii.gz']\n",
      "52 185\n",
      "45 218\n",
      "0 137\n"
     ]
    },
    {
     "name": "stderr",
     "output_type": "stream",
     "text": [
      "\r",
      " 66%|██████▋   | 830/1251 [16:00<08:02,  1.15s/it]"
     ]
    },
    {
     "name": "stdout",
     "output_type": "stream",
     "text": [
      "['/raid/jiang/projects/SubtleGAN/data/RSNA_ASNR_MICCAI_BraTS2021_TrainingData/BraTS2021_01269/BraTS2021_01269_t1.nii.gz']\n",
      "45 191\n",
      "48 213\n",
      "0 137\n"
     ]
    },
    {
     "name": "stderr",
     "output_type": "stream",
     "text": [
      "\r",
      " 66%|██████▋   | 831/1251 [16:01<08:02,  1.15s/it]"
     ]
    },
    {
     "name": "stdout",
     "output_type": "stream",
     "text": [
      "['/raid/jiang/projects/SubtleGAN/data/RSNA_ASNR_MICCAI_BraTS2021_TrainingData/BraTS2021_00554/BraTS2021_00554_t1.nii.gz']\n",
      "49 191\n",
      "49 213\n",
      "0 138\n"
     ]
    },
    {
     "name": "stderr",
     "output_type": "stream",
     "text": [
      "\r",
      " 67%|██████▋   | 832/1251 [16:02<08:21,  1.20s/it]"
     ]
    },
    {
     "name": "stdout",
     "output_type": "stream",
     "text": [
      "['/raid/jiang/projects/SubtleGAN/data/RSNA_ASNR_MICCAI_BraTS2021_TrainingData/BraTS2021_01241/BraTS2021_01241_t1.nii.gz']\n",
      "48 186\n",
      "41 218\n",
      "0 145\n"
     ]
    },
    {
     "name": "stderr",
     "output_type": "stream",
     "text": [
      "\r",
      " 67%|██████▋   | 833/1251 [16:03<08:22,  1.20s/it]"
     ]
    },
    {
     "name": "stdout",
     "output_type": "stream",
     "text": [
      "['/raid/jiang/projects/SubtleGAN/data/RSNA_ASNR_MICCAI_BraTS2021_TrainingData/BraTS2021_01182/BraTS2021_01182_t1.nii.gz']\n",
      "55 182\n",
      "40 212\n",
      "7 132\n"
     ]
    },
    {
     "name": "stderr",
     "output_type": "stream",
     "text": [
      "\r",
      " 67%|██████▋   | 834/1251 [16:04<08:08,  1.17s/it]"
     ]
    },
    {
     "name": "stdout",
     "output_type": "stream",
     "text": [
      "['/raid/jiang/projects/SubtleGAN/data/RSNA_ASNR_MICCAI_BraTS2021_TrainingData/BraTS2021_00005/BraTS2021_00005_t1.nii.gz']\n",
      "56 189\n",
      "43 203\n",
      "17 149\n"
     ]
    },
    {
     "name": "stderr",
     "output_type": "stream",
     "text": [
      "\r",
      " 67%|██████▋   | 835/1251 [16:06<08:01,  1.16s/it]"
     ]
    },
    {
     "name": "stdout",
     "output_type": "stream",
     "text": [
      "['/raid/jiang/projects/SubtleGAN/data/RSNA_ASNR_MICCAI_BraTS2021_TrainingData/BraTS2021_01558/BraTS2021_01558_t1.nii.gz']\n",
      "49 191\n",
      "48 212\n",
      "0 148\n"
     ]
    },
    {
     "name": "stderr",
     "output_type": "stream",
     "text": [
      "\r",
      " 67%|██████▋   | 836/1251 [16:07<07:46,  1.12s/it]"
     ]
    },
    {
     "name": "stdout",
     "output_type": "stream",
     "text": [
      "['/raid/jiang/projects/SubtleGAN/data/RSNA_ASNR_MICCAI_BraTS2021_TrainingData/BraTS2021_01014/BraTS2021_01014_t1.nii.gz']\n",
      "55 183\n",
      "47 214\n",
      "0 135\n"
     ]
    },
    {
     "name": "stderr",
     "output_type": "stream",
     "text": [
      "\r",
      " 67%|██████▋   | 837/1251 [16:08<07:57,  1.15s/it]"
     ]
    },
    {
     "name": "stdout",
     "output_type": "stream",
     "text": [
      "['/raid/jiang/projects/SubtleGAN/data/RSNA_ASNR_MICCAI_BraTS2021_TrainingData/BraTS2021_01212/BraTS2021_01212_t1.nii.gz']\n",
      "51 188\n",
      "39 216\n",
      "0 142\n"
     ]
    },
    {
     "name": "stderr",
     "output_type": "stream",
     "text": [
      "\r",
      " 67%|██████▋   | 838/1251 [16:09<08:03,  1.17s/it]"
     ]
    },
    {
     "name": "stdout",
     "output_type": "stream",
     "text": [
      "['/raid/jiang/projects/SubtleGAN/data/RSNA_ASNR_MICCAI_BraTS2021_TrainingData/BraTS2021_01229/BraTS2021_01229_t1.nii.gz']\n",
      "53 186\n",
      "44 215\n",
      "0 141\n"
     ]
    },
    {
     "name": "stderr",
     "output_type": "stream",
     "text": [
      "\r",
      " 67%|██████▋   | 839/1251 [16:10<08:03,  1.17s/it]"
     ]
    },
    {
     "name": "stdout",
     "output_type": "stream",
     "text": [
      "['/raid/jiang/projects/SubtleGAN/data/RSNA_ASNR_MICCAI_BraTS2021_TrainingData/BraTS2021_01526/BraTS2021_01526_t1.nii.gz']\n",
      "49 189\n",
      "44 214\n",
      "2 142\n"
     ]
    },
    {
     "name": "stderr",
     "output_type": "stream",
     "text": [
      "\r",
      " 67%|██████▋   | 840/1251 [16:11<07:49,  1.14s/it]"
     ]
    },
    {
     "name": "stdout",
     "output_type": "stream",
     "text": [
      "['/raid/jiang/projects/SubtleGAN/data/RSNA_ASNR_MICCAI_BraTS2021_TrainingData/BraTS2021_01510/BraTS2021_01510_t1.nii.gz']\n",
      "51 186\n",
      "42 215\n",
      "0 137\n"
     ]
    },
    {
     "name": "stderr",
     "output_type": "stream",
     "text": [
      "\r",
      " 67%|██████▋   | 841/1251 [16:13<08:14,  1.21s/it]"
     ]
    },
    {
     "name": "stdout",
     "output_type": "stream",
     "text": [
      "['/raid/jiang/projects/SubtleGAN/data/RSNA_ASNR_MICCAI_BraTS2021_TrainingData/BraTS2021_01233/BraTS2021_01233_t1.nii.gz']\n",
      "48 187\n",
      "40 216\n",
      "0 144\n"
     ]
    },
    {
     "name": "stderr",
     "output_type": "stream",
     "text": [
      "\r",
      " 67%|██████▋   | 842/1251 [16:14<08:10,  1.20s/it]"
     ]
    },
    {
     "name": "stdout",
     "output_type": "stream",
     "text": [
      "['/raid/jiang/projects/SubtleGAN/data/RSNA_ASNR_MICCAI_BraTS2021_TrainingData/BraTS2021_01584/BraTS2021_01584_t1.nii.gz']\n",
      "47 189\n",
      "46 217\n",
      "5 134\n"
     ]
    },
    {
     "name": "stderr",
     "output_type": "stream",
     "text": [
      "\r",
      " 67%|██████▋   | 843/1251 [16:15<07:50,  1.15s/it]"
     ]
    },
    {
     "name": "stdout",
     "output_type": "stream",
     "text": [
      "['/raid/jiang/projects/SubtleGAN/data/RSNA_ASNR_MICCAI_BraTS2021_TrainingData/BraTS2021_00306/BraTS2021_00306_t1.nii.gz']\n",
      "55 182\n",
      "50 213\n",
      "4 141\n"
     ]
    },
    {
     "name": "stderr",
     "output_type": "stream",
     "text": [
      "\r",
      " 67%|██████▋   | 844/1251 [16:16<07:34,  1.12s/it]"
     ]
    },
    {
     "name": "stdout",
     "output_type": "stream",
     "text": [
      "['/raid/jiang/projects/SubtleGAN/data/RSNA_ASNR_MICCAI_BraTS2021_TrainingData/BraTS2021_01480/BraTS2021_01480_t1.nii.gz']\n",
      "51 185\n",
      "47 211\n",
      "6 136\n"
     ]
    },
    {
     "name": "stderr",
     "output_type": "stream",
     "text": [
      "\r",
      " 68%|██████▊   | 845/1251 [16:17<07:22,  1.09s/it]"
     ]
    },
    {
     "name": "stdout",
     "output_type": "stream",
     "text": [
      "['/raid/jiang/projects/SubtleGAN/data/RSNA_ASNR_MICCAI_BraTS2021_TrainingData/BraTS2021_01660/BraTS2021_01660_t1.nii.gz']\n",
      "59 182\n",
      "44 214\n",
      "0 134\n"
     ]
    },
    {
     "name": "stderr",
     "output_type": "stream",
     "text": [
      "\r",
      " 68%|██████▊   | 846/1251 [16:18<07:37,  1.13s/it]"
     ]
    },
    {
     "name": "stdout",
     "output_type": "stream",
     "text": [
      "['/raid/jiang/projects/SubtleGAN/data/RSNA_ASNR_MICCAI_BraTS2021_TrainingData/BraTS2021_01219/BraTS2021_01219_t1.nii.gz']\n",
      "52 185\n",
      "40 220\n",
      "0 142\n"
     ]
    },
    {
     "name": "stderr",
     "output_type": "stream",
     "text": [
      "\r",
      " 68%|██████▊   | 847/1251 [16:19<07:35,  1.13s/it]"
     ]
    },
    {
     "name": "stdout",
     "output_type": "stream",
     "text": [
      "['/raid/jiang/projects/SubtleGAN/data/RSNA_ASNR_MICCAI_BraTS2021_TrainingData/BraTS2021_00840/BraTS2021_00840_t1.nii.gz']\n",
      "51 186\n",
      "41 214\n",
      "1 137\n"
     ]
    },
    {
     "name": "stderr",
     "output_type": "stream",
     "text": [
      "\r",
      " 68%|██████▊   | 848/1251 [16:20<07:32,  1.12s/it]"
     ]
    },
    {
     "name": "stdout",
     "output_type": "stream",
     "text": [
      "['/raid/jiang/projects/SubtleGAN/data/RSNA_ASNR_MICCAI_BraTS2021_TrainingData/BraTS2021_00685/BraTS2021_00685_t1.nii.gz']\n",
      "54 188\n",
      "29 210\n",
      "0 140\n"
     ]
    },
    {
     "name": "stderr",
     "output_type": "stream",
     "text": [
      "\r",
      " 68%|██████▊   | 849/1251 [16:22<07:42,  1.15s/it]"
     ]
    },
    {
     "name": "stdout",
     "output_type": "stream",
     "text": [
      "['/raid/jiang/projects/SubtleGAN/data/RSNA_ASNR_MICCAI_BraTS2021_TrainingData/BraTS2021_00078/BraTS2021_00078_t1.nii.gz']\n",
      "51 191\n",
      "34 210\n",
      "9 145\n"
     ]
    },
    {
     "name": "stderr",
     "output_type": "stream",
     "text": [
      "\r",
      " 68%|██████▊   | 850/1251 [16:23<07:36,  1.14s/it]"
     ]
    },
    {
     "name": "stdout",
     "output_type": "stream",
     "text": [
      "['/raid/jiang/projects/SubtleGAN/data/RSNA_ASNR_MICCAI_BraTS2021_TrainingData/BraTS2021_01156/BraTS2021_01156_t1.nii.gz']\n",
      "53 185\n",
      "41 210\n",
      "0 137\n",
      "['/raid/jiang/projects/SubtleGAN/data/RSNA_ASNR_MICCAI_BraTS2021_TrainingData/BraTS2021_00782/BraTS2021_00782_t1.nii.gz']\n",
      "46"
     ]
    },
    {
     "name": "stderr",
     "output_type": "stream",
     "text": [
      "\r",
      " 68%|██████▊   | 851/1251 [16:24<08:00,  1.20s/it]"
     ]
    },
    {
     "name": "stdout",
     "output_type": "stream",
     "text": [
      " 190\n",
      "42 220\n",
      "0 147\n"
     ]
    },
    {
     "name": "stderr",
     "output_type": "stream",
     "text": [
      "\r",
      " 68%|██████▊   | 852/1251 [16:25<07:44,  1.16s/it]"
     ]
    },
    {
     "name": "stdout",
     "output_type": "stream",
     "text": [
      "['/raid/jiang/projects/SubtleGAN/data/RSNA_ASNR_MICCAI_BraTS2021_TrainingData/BraTS2021_01442/BraTS2021_01442_t1.nii.gz']\n",
      "50 187\n",
      "48 214\n",
      "2 137\n"
     ]
    },
    {
     "name": "stderr",
     "output_type": "stream",
     "text": [
      "\r",
      " 68%|██████▊   | 853/1251 [16:26<07:49,  1.18s/it]"
     ]
    },
    {
     "name": "stdout",
     "output_type": "stream",
     "text": [
      "['/raid/jiang/projects/SubtleGAN/data/RSNA_ASNR_MICCAI_BraTS2021_TrainingData/BraTS2021_00491/BraTS2021_00491_t1.nii.gz']\n",
      "55 188\n",
      "32 211\n",
      "0 146\n"
     ]
    },
    {
     "name": "stderr",
     "output_type": "stream",
     "text": [
      "\r",
      " 68%|██████▊   | 854/1251 [16:28<07:54,  1.20s/it]"
     ]
    },
    {
     "name": "stdout",
     "output_type": "stream",
     "text": [
      "['/raid/jiang/projects/SubtleGAN/data/RSNA_ASNR_MICCAI_BraTS2021_TrainingData/BraTS2021_01068/BraTS2021_01068_t1.nii.gz']\n",
      "45 192\n",
      "41 218\n",
      "0 142\n"
     ]
    },
    {
     "name": "stderr",
     "output_type": "stream",
     "text": [
      "\r",
      " 68%|██████▊   | 855/1251 [16:29<07:42,  1.17s/it]"
     ]
    },
    {
     "name": "stdout",
     "output_type": "stream",
     "text": [
      "['/raid/jiang/projects/SubtleGAN/data/RSNA_ASNR_MICCAI_BraTS2021_TrainingData/BraTS2021_01494/BraTS2021_01494_t1.nii.gz']\n",
      "51 183\n",
      "53 213\n",
      "2 139\n"
     ]
    },
    {
     "name": "stderr",
     "output_type": "stream",
     "text": [
      "\r",
      " 68%|██████▊   | 856/1251 [16:30<07:41,  1.17s/it]"
     ]
    },
    {
     "name": "stdout",
     "output_type": "stream",
     "text": [
      "['/raid/jiang/projects/SubtleGAN/data/RSNA_ASNR_MICCAI_BraTS2021_TrainingData/BraTS2021_00176/BraTS2021_00176_t1.nii.gz']\n",
      "48 189\n",
      "44 217\n",
      "0 137\n"
     ]
    },
    {
     "name": "stderr",
     "output_type": "stream",
     "text": [
      "\r",
      " 69%|██████▊   | 857/1251 [16:31<07:37,  1.16s/it]"
     ]
    },
    {
     "name": "stdout",
     "output_type": "stream",
     "text": [
      "['/raid/jiang/projects/SubtleGAN/data/RSNA_ASNR_MICCAI_BraTS2021_TrainingData/BraTS2021_01087/BraTS2021_01087_t1.nii.gz']\n",
      "52 184\n",
      "41 218\n",
      "0 143\n"
     ]
    },
    {
     "name": "stderr",
     "output_type": "stream",
     "text": [
      "\r",
      " 69%|██████▊   | 858/1251 [16:32<07:39,  1.17s/it]"
     ]
    },
    {
     "name": "stdout",
     "output_type": "stream",
     "text": [
      "['/raid/jiang/projects/SubtleGAN/data/RSNA_ASNR_MICCAI_BraTS2021_TrainingData/BraTS2021_00621/BraTS2021_00621_t1.nii.gz']\n",
      "56 190\n",
      "30 210\n",
      "1 142\n"
     ]
    },
    {
     "name": "stderr",
     "output_type": "stream",
     "text": [
      "\r",
      " 69%|██████▊   | 859/1251 [16:33<07:28,  1.14s/it]"
     ]
    },
    {
     "name": "stdout",
     "output_type": "stream",
     "text": [
      "['/raid/jiang/projects/SubtleGAN/data/RSNA_ASNR_MICCAI_BraTS2021_TrainingData/BraTS2021_01519/BraTS2021_01519_t1.nii.gz']\n",
      "53 183\n",
      "57 216\n",
      "0 140\n"
     ]
    },
    {
     "name": "stderr",
     "output_type": "stream",
     "text": [
      "\r",
      " 69%|██████▊   | 860/1251 [16:34<07:27,  1.14s/it]"
     ]
    },
    {
     "name": "stdout",
     "output_type": "stream",
     "text": [
      "['/raid/jiang/projects/SubtleGAN/data/RSNA_ASNR_MICCAI_BraTS2021_TrainingData/BraTS2021_01523/BraTS2021_01523_t1.nii.gz']\n",
      "50 186\n",
      "39 214\n",
      "0 139\n"
     ]
    },
    {
     "name": "stderr",
     "output_type": "stream",
     "text": [
      "\r",
      " 69%|██████▉   | 861/1251 [16:36<07:39,  1.18s/it]"
     ]
    },
    {
     "name": "stdout",
     "output_type": "stream",
     "text": [
      "['/raid/jiang/projects/SubtleGAN/data/RSNA_ASNR_MICCAI_BraTS2021_TrainingData/BraTS2021_01143/BraTS2021_01143_t1.nii.gz']\n",
      "48 179\n",
      "39 218\n",
      "0 141\n"
     ]
    },
    {
     "name": "stderr",
     "output_type": "stream",
     "text": [
      "\r",
      " 69%|██████▉   | 862/1251 [16:37<07:29,  1.16s/it]"
     ]
    },
    {
     "name": "stdout",
     "output_type": "stream",
     "text": [
      "['/raid/jiang/projects/SubtleGAN/data/RSNA_ASNR_MICCAI_BraTS2021_TrainingData/BraTS2021_00154/BraTS2021_00154_t1.nii.gz']\n",
      "46 188\n",
      "47 211\n",
      "0 140\n"
     ]
    },
    {
     "name": "stderr",
     "output_type": "stream",
     "text": [
      "\r",
      " 69%|██████▉   | 863/1251 [16:38<07:34,  1.17s/it]"
     ]
    },
    {
     "name": "stdout",
     "output_type": "stream",
     "text": [
      "['/raid/jiang/projects/SubtleGAN/data/RSNA_ASNR_MICCAI_BraTS2021_TrainingData/BraTS2021_01364/BraTS2021_01364_t1.nii.gz']\n",
      "54 180\n",
      "47 216\n",
      "0 138\n"
     ]
    },
    {
     "name": "stderr",
     "output_type": "stream",
     "text": [
      "\r",
      " 69%|██████▉   | 864/1251 [16:39<07:30,  1.16s/it]"
     ]
    },
    {
     "name": "stdout",
     "output_type": "stream",
     "text": [
      "['/raid/jiang/projects/SubtleGAN/data/RSNA_ASNR_MICCAI_BraTS2021_TrainingData/BraTS2021_00649/BraTS2021_00649_t1.nii.gz']\n",
      "55 189\n",
      "32 211\n",
      "9 146\n"
     ]
    },
    {
     "name": "stderr",
     "output_type": "stream",
     "text": [
      "\r",
      " 69%|██████▉   | 865/1251 [16:40<07:38,  1.19s/it]"
     ]
    },
    {
     "name": "stdout",
     "output_type": "stream",
     "text": [
      "['/raid/jiang/projects/SubtleGAN/data/RSNA_ASNR_MICCAI_BraTS2021_TrainingData/BraTS2021_01067/BraTS2021_01067_t1.nii.gz']\n",
      "51 187\n",
      "47 211\n",
      "0 142\n"
     ]
    },
    {
     "name": "stderr",
     "output_type": "stream",
     "text": [
      "\r",
      " 69%|██████▉   | 866/1251 [16:42<07:37,  1.19s/it]"
     ]
    },
    {
     "name": "stdout",
     "output_type": "stream",
     "text": [
      "['/raid/jiang/projects/SubtleGAN/data/RSNA_ASNR_MICCAI_BraTS2021_TrainingData/BraTS2021_00127/BraTS2021_00127_t1.nii.gz']\n",
      "44 194\n",
      "48 210\n",
      "2 139\n"
     ]
    },
    {
     "name": "stderr",
     "output_type": "stream",
     "text": [
      "\r",
      " 69%|██████▉   | 867/1251 [16:43<07:28,  1.17s/it]"
     ]
    },
    {
     "name": "stdout",
     "output_type": "stream",
     "text": [
      "['/raid/jiang/projects/SubtleGAN/data/RSNA_ASNR_MICCAI_BraTS2021_TrainingData/BraTS2021_00468/BraTS2021_00468_t1.nii.gz']\n",
      "57 189\n",
      "42 210\n",
      "7 150\n",
      "['/raid/jiang/projects/SubtleGAN/data/RSNA_ASNR_MICCAI_BraTS2021_TrainingData/BraTS2021_00350/BraTS2021_00350_t1.nii.gz']\n",
      "52"
     ]
    },
    {
     "name": "stderr",
     "output_type": "stream",
     "text": [
      "\r",
      " 69%|██████▉   | 868/1251 [16:44<07:26,  1.17s/it]"
     ]
    },
    {
     "name": "stdout",
     "output_type": "stream",
     "text": [
      " 185\n",
      "42 215\n",
      "0 137\n"
     ]
    },
    {
     "name": "stderr",
     "output_type": "stream",
     "text": [
      "\r",
      " 69%|██████▉   | 869/1251 [16:45<07:20,  1.15s/it]"
     ]
    },
    {
     "name": "stdout",
     "output_type": "stream",
     "text": [
      "['/raid/jiang/projects/SubtleGAN/data/RSNA_ASNR_MICCAI_BraTS2021_TrainingData/BraTS2021_00231/BraTS2021_00231_t1.nii.gz']\n",
      "48 189\n",
      "53 210\n",
      "0 143\n"
     ]
    },
    {
     "name": "stderr",
     "output_type": "stream",
     "text": [
      "\r",
      " 70%|██████▉   | 870/1251 [16:46<07:23,  1.16s/it]"
     ]
    },
    {
     "name": "stdout",
     "output_type": "stream",
     "text": [
      "['/raid/jiang/projects/SubtleGAN/data/RSNA_ASNR_MICCAI_BraTS2021_TrainingData/BraTS2021_00498/BraTS2021_00498_t1.nii.gz']\n",
      "50 190\n",
      "37 207\n",
      "0 145\n"
     ]
    },
    {
     "name": "stderr",
     "output_type": "stream",
     "text": [
      "\r",
      " 70%|██████▉   | 871/1251 [16:47<07:29,  1.18s/it]"
     ]
    },
    {
     "name": "stdout",
     "output_type": "stream",
     "text": [
      "['/raid/jiang/projects/SubtleGAN/data/RSNA_ASNR_MICCAI_BraTS2021_TrainingData/BraTS2021_01316/BraTS2021_01316_t1.nii.gz']\n",
      "56 181\n",
      "48 212\n",
      "0 139\n"
     ]
    },
    {
     "name": "stderr",
     "output_type": "stream",
     "text": [
      "\r",
      " 70%|██████▉   | 872/1251 [16:49<07:25,  1.17s/it]"
     ]
    },
    {
     "name": "stdout",
     "output_type": "stream",
     "text": [
      "['/raid/jiang/projects/SubtleGAN/data/RSNA_ASNR_MICCAI_BraTS2021_TrainingData/BraTS2021_01434/BraTS2021_01434_t1.nii.gz']\n",
      "54 184\n",
      "46 212\n",
      "11 140\n"
     ]
    },
    {
     "name": "stderr",
     "output_type": "stream",
     "text": [
      "\r",
      " 70%|██████▉   | 873/1251 [16:50<07:38,  1.21s/it]"
     ]
    },
    {
     "name": "stdout",
     "output_type": "stream",
     "text": [
      "['/raid/jiang/projects/SubtleGAN/data/RSNA_ASNR_MICCAI_BraTS2021_TrainingData/BraTS2021_01577/BraTS2021_01577_t1.nii.gz']\n",
      "51 185\n",
      "44 212\n",
      "0 139\n"
     ]
    },
    {
     "name": "stderr",
     "output_type": "stream",
     "text": [
      "\r",
      " 70%|██████▉   | 874/1251 [16:51<07:48,  1.24s/it]"
     ]
    },
    {
     "name": "stdout",
     "output_type": "stream",
     "text": [
      "['/raid/jiang/projects/SubtleGAN/data/RSNA_ASNR_MICCAI_BraTS2021_TrainingData/BraTS2021_01643/BraTS2021_01643_t1.nii.gz']\n",
      "52 189\n",
      "42 212\n",
      "0 143\n"
     ]
    },
    {
     "name": "stderr",
     "output_type": "stream",
     "text": [
      "\r",
      " 70%|██████▉   | 875/1251 [16:52<07:40,  1.22s/it]"
     ]
    },
    {
     "name": "stdout",
     "output_type": "stream",
     "text": [
      "['/raid/jiang/projects/SubtleGAN/data/RSNA_ASNR_MICCAI_BraTS2021_TrainingData/BraTS2021_01171/BraTS2021_01171_t1.nii.gz']\n",
      "47 188\n",
      "38 205\n",
      "10 135\n"
     ]
    },
    {
     "name": "stderr",
     "output_type": "stream",
     "text": [
      "\r",
      " 70%|███████   | 876/1251 [16:54<07:53,  1.26s/it]"
     ]
    },
    {
     "name": "stdout",
     "output_type": "stream",
     "text": [
      "['/raid/jiang/projects/SubtleGAN/data/RSNA_ASNR_MICCAI_BraTS2021_TrainingData/BraTS2021_01553/BraTS2021_01553_t1.nii.gz']\n",
      "53 184\n",
      "44 216\n",
      "0 138\n"
     ]
    },
    {
     "name": "stderr",
     "output_type": "stream",
     "text": [
      "\r",
      " 70%|███████   | 877/1251 [16:55<07:20,  1.18s/it]"
     ]
    },
    {
     "name": "stdout",
     "output_type": "stream",
     "text": [
      "['/raid/jiang/projects/SubtleGAN/data/RSNA_ASNR_MICCAI_BraTS2021_TrainingData/BraTS2021_00110/BraTS2021_00110_t1.nii.gz']\n",
      "51 183\n",
      "45 213\n",
      "10 136\n"
     ]
    },
    {
     "name": "stderr",
     "output_type": "stream",
     "text": [
      "\r",
      " 70%|███████   | 878/1251 [16:56<07:26,  1.20s/it]"
     ]
    },
    {
     "name": "stdout",
     "output_type": "stream",
     "text": [
      "['/raid/jiang/projects/SubtleGAN/data/RSNA_ASNR_MICCAI_BraTS2021_TrainingData/BraTS2021_00625/BraTS2021_00625_t1.nii.gz']\n",
      "46 195\n",
      "26 215\n",
      "0 149\n"
     ]
    },
    {
     "name": "stderr",
     "output_type": "stream",
     "text": [
      "\r",
      " 70%|███████   | 879/1251 [16:57<07:41,  1.24s/it]"
     ]
    },
    {
     "name": "stdout",
     "output_type": "stream",
     "text": [
      "['/raid/jiang/projects/SubtleGAN/data/RSNA_ASNR_MICCAI_BraTS2021_TrainingData/BraTS2021_01620/BraTS2021_01620_t1.nii.gz']\n",
      "43 191\n",
      "53 209\n",
      "0 142\n"
     ]
    },
    {
     "name": "stderr",
     "output_type": "stream",
     "text": [
      "\r",
      " 70%|███████   | 880/1251 [16:58<07:22,  1.19s/it]"
     ]
    },
    {
     "name": "stdout",
     "output_type": "stream",
     "text": [
      "['/raid/jiang/projects/SubtleGAN/data/RSNA_ASNR_MICCAI_BraTS2021_TrainingData/BraTS2021_01610/BraTS2021_01610_t1.nii.gz']\n",
      "60 184\n",
      "52 210\n",
      "0 136\n"
     ]
    },
    {
     "name": "stderr",
     "output_type": "stream",
     "text": [
      "\r",
      " 70%|███████   | 881/1251 [16:59<06:58,  1.13s/it]"
     ]
    },
    {
     "name": "stdout",
     "output_type": "stream",
     "text": [
      "['/raid/jiang/projects/SubtleGAN/data/RSNA_ASNR_MICCAI_BraTS2021_TrainingData/BraTS2021_01309/BraTS2021_01309_t1.nii.gz']\n",
      "56 178\n",
      "44 219\n",
      "0 150\n"
     ]
    },
    {
     "name": "stderr",
     "output_type": "stream",
     "text": [
      "\r",
      " 71%|███████   | 882/1251 [17:01<07:04,  1.15s/it]"
     ]
    },
    {
     "name": "stdout",
     "output_type": "stream",
     "text": [
      "['/raid/jiang/projects/SubtleGAN/data/RSNA_ASNR_MICCAI_BraTS2021_TrainingData/BraTS2021_01294/BraTS2021_01294_t1.nii.gz']\n",
      "48 188\n",
      "42 216\n",
      "0 139\n"
     ]
    },
    {
     "name": "stderr",
     "output_type": "stream",
     "text": [
      "\r",
      " 71%|███████   | 883/1251 [17:02<07:01,  1.15s/it]"
     ]
    },
    {
     "name": "stdout",
     "output_type": "stream",
     "text": [
      "['/raid/jiang/projects/SubtleGAN/data/RSNA_ASNR_MICCAI_BraTS2021_TrainingData/BraTS2021_00235/BraTS2021_00235_t1.nii.gz']\n",
      "56 181\n",
      "48 213\n",
      "0 141\n"
     ]
    },
    {
     "name": "stderr",
     "output_type": "stream",
     "text": [
      "\r",
      " 71%|███████   | 884/1251 [17:03<06:51,  1.12s/it]"
     ]
    },
    {
     "name": "stdout",
     "output_type": "stream",
     "text": [
      "['/raid/jiang/projects/SubtleGAN/data/RSNA_ASNR_MICCAI_BraTS2021_TrainingData/BraTS2021_01356/BraTS2021_01356_t1.nii.gz']\n",
      "52 184\n",
      "44 214\n",
      "0 141\n"
     ]
    },
    {
     "name": "stderr",
     "output_type": "stream",
     "text": [
      "\r",
      " 71%|███████   | 885/1251 [17:04<06:57,  1.14s/it]"
     ]
    },
    {
     "name": "stdout",
     "output_type": "stream",
     "text": [
      "['/raid/jiang/projects/SubtleGAN/data/RSNA_ASNR_MICCAI_BraTS2021_TrainingData/BraTS2021_01179/BraTS2021_01179_t1.nii.gz']\n",
      "49 188\n",
      "45 210\n",
      "0 132\n"
     ]
    },
    {
     "name": "stderr",
     "output_type": "stream",
     "text": [
      "\r",
      " 71%|███████   | 886/1251 [17:05<07:06,  1.17s/it]"
     ]
    },
    {
     "name": "stdout",
     "output_type": "stream",
     "text": [
      "['/raid/jiang/projects/SubtleGAN/data/RSNA_ASNR_MICCAI_BraTS2021_TrainingData/BraTS2021_00322/BraTS2021_00322_t1.nii.gz']\n",
      "47 190\n",
      "46 215\n",
      "0 138\n"
     ]
    },
    {
     "name": "stderr",
     "output_type": "stream",
     "text": [
      "\r",
      " 71%|███████   | 887/1251 [17:06<06:56,  1.14s/it]"
     ]
    },
    {
     "name": "stdout",
     "output_type": "stream",
     "text": [
      "['/raid/jiang/projects/SubtleGAN/data/RSNA_ASNR_MICCAI_BraTS2021_TrainingData/BraTS2021_01535/BraTS2021_01535_t1.nii.gz']\n",
      "51 185\n",
      "51 212\n",
      "6 139\n"
     ]
    },
    {
     "name": "stderr",
     "output_type": "stream",
     "text": [
      "\r",
      " 71%|███████   | 888/1251 [17:07<07:01,  1.16s/it]"
     ]
    },
    {
     "name": "stdout",
     "output_type": "stream",
     "text": [
      "['/raid/jiang/projects/SubtleGAN/data/RSNA_ASNR_MICCAI_BraTS2021_TrainingData/BraTS2021_00101/BraTS2021_00101_t1.nii.gz']\n",
      "51 187\n",
      "41 218\n",
      "0 136\n"
     ]
    },
    {
     "name": "stderr",
     "output_type": "stream",
     "text": [
      "\r",
      " 71%|███████   | 889/1251 [17:08<06:48,  1.13s/it]"
     ]
    },
    {
     "name": "stdout",
     "output_type": "stream",
     "text": [
      "['/raid/jiang/projects/SubtleGAN/data/RSNA_ASNR_MICCAI_BraTS2021_TrainingData/BraTS2021_01243/BraTS2021_01243_t1.nii.gz']\n",
      "58 179\n",
      "50 211\n",
      "7 142\n"
     ]
    },
    {
     "name": "stderr",
     "output_type": "stream",
     "text": [
      "\r",
      " 71%|███████   | 890/1251 [17:10<06:47,  1.13s/it]"
     ]
    },
    {
     "name": "stdout",
     "output_type": "stream",
     "text": [
      "['/raid/jiang/projects/SubtleGAN/data/RSNA_ASNR_MICCAI_BraTS2021_TrainingData/BraTS2021_01016/BraTS2021_01016_t1.nii.gz']\n",
      "47 190\n",
      "51 214\n",
      "0 137\n"
     ]
    },
    {
     "name": "stderr",
     "output_type": "stream",
     "text": [
      "\r",
      " 71%|███████   | 891/1251 [17:11<06:56,  1.16s/it]"
     ]
    },
    {
     "name": "stdout",
     "output_type": "stream",
     "text": [
      "['/raid/jiang/projects/SubtleGAN/data/RSNA_ASNR_MICCAI_BraTS2021_TrainingData/BraTS2021_00212/BraTS2021_00212_t1.nii.gz']\n",
      "48 188\n",
      "45 216\n",
      "0 138\n"
     ]
    },
    {
     "name": "stderr",
     "output_type": "stream",
     "text": [
      "\r",
      " 71%|███████▏  | 892/1251 [17:12<07:05,  1.19s/it]"
     ]
    },
    {
     "name": "stdout",
     "output_type": "stream",
     "text": [
      "['/raid/jiang/projects/SubtleGAN/data/RSNA_ASNR_MICCAI_BraTS2021_TrainingData/BraTS2021_01399/BraTS2021_01399_t1.nii.gz']\n",
      "57 183\n",
      "44 215\n",
      "0 143\n"
     ]
    },
    {
     "name": "stderr",
     "output_type": "stream",
     "text": [
      "\r",
      " 71%|███████▏  | 893/1251 [17:13<07:22,  1.24s/it]"
     ]
    },
    {
     "name": "stdout",
     "output_type": "stream",
     "text": [
      "['/raid/jiang/projects/SubtleGAN/data/RSNA_ASNR_MICCAI_BraTS2021_TrainingData/BraTS2021_01032/BraTS2021_01032_t1.nii.gz']\n",
      "53 185\n",
      "40 215\n",
      "0 142\n"
     ]
    },
    {
     "name": "stderr",
     "output_type": "stream",
     "text": [
      "\r",
      " 71%|███████▏  | 894/1251 [17:15<07:27,  1.25s/it]"
     ]
    },
    {
     "name": "stdout",
     "output_type": "stream",
     "text": [
      "['/raid/jiang/projects/SubtleGAN/data/RSNA_ASNR_MICCAI_BraTS2021_TrainingData/BraTS2021_00072/BraTS2021_00072_t1.nii.gz']\n",
      "53 192\n",
      "28 214\n",
      "1 141\n"
     ]
    },
    {
     "name": "stderr",
     "output_type": "stream",
     "text": [
      "\r",
      " 72%|███████▏  | 895/1251 [17:16<07:21,  1.24s/it]"
     ]
    },
    {
     "name": "stdout",
     "output_type": "stream",
     "text": [
      "['/raid/jiang/projects/SubtleGAN/data/RSNA_ASNR_MICCAI_BraTS2021_TrainingData/BraTS2021_00729/BraTS2021_00729_t1.nii.gz']\n",
      "57 183\n",
      "41 212\n",
      "0 127\n"
     ]
    },
    {
     "name": "stderr",
     "output_type": "stream",
     "text": [
      "\r",
      " 72%|███████▏  | 896/1251 [17:17<06:59,  1.18s/it]"
     ]
    },
    {
     "name": "stdout",
     "output_type": "stream",
     "text": [
      "['/raid/jiang/projects/SubtleGAN/data/RSNA_ASNR_MICCAI_BraTS2021_TrainingData/BraTS2021_01189/BraTS2021_01189_t1.nii.gz']\n",
      "55 182\n",
      "42 214\n",
      "5 134\n"
     ]
    },
    {
     "name": "stderr",
     "output_type": "stream",
     "text": [
      "\r",
      " 72%|███████▏  | 897/1251 [17:18<07:10,  1.22s/it]"
     ]
    },
    {
     "name": "stdout",
     "output_type": "stream",
     "text": [
      "['/raid/jiang/projects/SubtleGAN/data/RSNA_ASNR_MICCAI_BraTS2021_TrainingData/BraTS2021_00677/BraTS2021_00677_t1.nii.gz']\n",
      "54 189\n",
      "32 212\n",
      "0 145\n",
      "['/raid/jiang/projects/SubtleGAN/data/RSNA_ASNR_MICCAI_BraTS2021_TrainingData/BraTS2021_00513/BraTS2021_00513_t1.nii.gz']\n"
     ]
    },
    {
     "name": "stderr",
     "output_type": "stream",
     "text": [
      "\r",
      " 72%|███████▏  | 898/1251 [17:20<07:21,  1.25s/it]"
     ]
    },
    {
     "name": "stdout",
     "output_type": "stream",
     "text": [
      "49 190\n",
      "29 213\n",
      "0 141\n"
     ]
    },
    {
     "name": "stderr",
     "output_type": "stream",
     "text": [
      "\r",
      " 72%|███████▏  | 899/1251 [17:21<07:32,  1.29s/it]"
     ]
    },
    {
     "name": "stdout",
     "output_type": "stream",
     "text": [
      "['/raid/jiang/projects/SubtleGAN/data/RSNA_ASNR_MICCAI_BraTS2021_TrainingData/BraTS2021_00803/BraTS2021_00803_t1.nii.gz']\n",
      "51 188\n",
      "47 212\n",
      "0 147\n"
     ]
    },
    {
     "name": "stderr",
     "output_type": "stream",
     "text": [
      "\r",
      " 72%|███████▏  | 900/1251 [17:22<07:18,  1.25s/it]"
     ]
    },
    {
     "name": "stdout",
     "output_type": "stream",
     "text": [
      "['/raid/jiang/projects/SubtleGAN/data/RSNA_ASNR_MICCAI_BraTS2021_TrainingData/BraTS2021_01334/BraTS2021_01334_t1.nii.gz']\n",
      "52 184\n",
      "45 216\n",
      "7 139\n"
     ]
    },
    {
     "name": "stderr",
     "output_type": "stream",
     "text": [
      "\r",
      " 72%|███████▏  | 901/1251 [17:23<07:15,  1.24s/it]"
     ]
    },
    {
     "name": "stdout",
     "output_type": "stream",
     "text": [
      "['/raid/jiang/projects/SubtleGAN/data/RSNA_ASNR_MICCAI_BraTS2021_TrainingData/BraTS2021_01125/BraTS2021_01125_t1.nii.gz']\n",
      "48 188\n",
      "42 220\n",
      "0 139\n"
     ]
    },
    {
     "name": "stderr",
     "output_type": "stream",
     "text": [
      "\r",
      " 72%|███████▏  | 902/1251 [17:25<07:08,  1.23s/it]"
     ]
    },
    {
     "name": "stdout",
     "output_type": "stream",
     "text": [
      "['/raid/jiang/projects/SubtleGAN/data/RSNA_ASNR_MICCAI_BraTS2021_TrainingData/BraTS2021_00581/BraTS2021_00581_t1.nii.gz']\n",
      "57 183\n",
      "53 213\n",
      "7 140\n"
     ]
    },
    {
     "name": "stderr",
     "output_type": "stream",
     "text": [
      "\r",
      " 72%|███████▏  | 903/1251 [17:26<06:43,  1.16s/it]"
     ]
    },
    {
     "name": "stdout",
     "output_type": "stream",
     "text": [
      "['/raid/jiang/projects/SubtleGAN/data/RSNA_ASNR_MICCAI_BraTS2021_TrainingData/BraTS2021_01524/BraTS2021_01524_t1.nii.gz']\n",
      "49 186\n",
      "51 209\n",
      "9 139\n"
     ]
    },
    {
     "name": "stderr",
     "output_type": "stream",
     "text": [
      "\r",
      " 72%|███████▏  | 904/1251 [17:27<06:42,  1.16s/it]"
     ]
    },
    {
     "name": "stdout",
     "output_type": "stream",
     "text": [
      "['/raid/jiang/projects/SubtleGAN/data/RSNA_ASNR_MICCAI_BraTS2021_TrainingData/BraTS2021_01588/BraTS2021_01588_t1.nii.gz']\n",
      "55 182\n",
      "46 214\n",
      "0 138\n"
     ]
    },
    {
     "name": "stderr",
     "output_type": "stream",
     "text": [
      "\r",
      " 72%|███████▏  | 905/1251 [17:28<06:25,  1.11s/it]"
     ]
    },
    {
     "name": "stdout",
     "output_type": "stream",
     "text": [
      "['/raid/jiang/projects/SubtleGAN/data/RSNA_ASNR_MICCAI_BraTS2021_TrainingData/BraTS2021_01375/BraTS2021_01375_t1.nii.gz']\n",
      "56 180\n",
      "48 213\n",
      "0 138\n"
     ]
    },
    {
     "name": "stderr",
     "output_type": "stream",
     "text": [
      "\r",
      " 72%|███████▏  | 906/1251 [17:29<06:25,  1.12s/it]"
     ]
    },
    {
     "name": "stdout",
     "output_type": "stream",
     "text": [
      "['/raid/jiang/projects/SubtleGAN/data/RSNA_ASNR_MICCAI_BraTS2021_TrainingData/BraTS2021_00094/BraTS2021_00094_t1.nii.gz']\n",
      "50 188\n",
      "31 211\n",
      "4 145\n"
     ]
    },
    {
     "name": "stderr",
     "output_type": "stream",
     "text": [
      "\r",
      " 73%|███████▎  | 907/1251 [17:30<07:00,  1.22s/it]"
     ]
    },
    {
     "name": "stdout",
     "output_type": "stream",
     "text": [
      "['/raid/jiang/projects/SubtleGAN/data/RSNA_ASNR_MICCAI_BraTS2021_TrainingData/BraTS2021_01265/BraTS2021_01265_t1.nii.gz']\n",
      "45 192\n",
      "39 217\n",
      "0 142\n"
     ]
    },
    {
     "name": "stderr",
     "output_type": "stream",
     "text": [
      "\r",
      " 73%|███████▎  | 908/1251 [17:32<07:09,  1.25s/it]"
     ]
    },
    {
     "name": "stdout",
     "output_type": "stream",
     "text": [
      "['/raid/jiang/projects/SubtleGAN/data/RSNA_ASNR_MICCAI_BraTS2021_TrainingData/BraTS2021_00112/BraTS2021_00112_t1.nii.gz']\n",
      "49 187\n",
      "44 214\n",
      "0 136\n"
     ]
    },
    {
     "name": "stderr",
     "output_type": "stream",
     "text": [
      "\r",
      " 73%|███████▎  | 909/1251 [17:33<06:54,  1.21s/it]"
     ]
    },
    {
     "name": "stdout",
     "output_type": "stream",
     "text": [
      "['/raid/jiang/projects/SubtleGAN/data/RSNA_ASNR_MICCAI_BraTS2021_TrainingData/BraTS2021_00485/BraTS2021_00485_t1.nii.gz']\n",
      "51 182\n",
      "37 206\n",
      "12 142\n"
     ]
    },
    {
     "name": "stderr",
     "output_type": "stream",
     "text": [
      "\r",
      " 73%|███████▎  | 910/1251 [17:34<06:28,  1.14s/it]"
     ]
    },
    {
     "name": "stdout",
     "output_type": "stream",
     "text": [
      "['/raid/jiang/projects/SubtleGAN/data/RSNA_ASNR_MICCAI_BraTS2021_TrainingData/BraTS2021_00571/BraTS2021_00571_t1.nii.gz']\n",
      "50 187\n",
      "44 218\n",
      "39 136\n",
      "['/raid/jiang/projects/SubtleGAN/data/RSNA_ASNR_MICCAI_BraTS2021_TrainingData/BraTS2021_01324/BraTS2021_01324_t1.nii.gz']\n"
     ]
    },
    {
     "name": "stderr",
     "output_type": "stream",
     "text": [
      "\r",
      " 73%|███████▎  | 911/1251 [17:35<06:23,  1.13s/it]"
     ]
    },
    {
     "name": "stdout",
     "output_type": "stream",
     "text": [
      "46 186\n",
      "43 217\n",
      "0 140\n"
     ]
    },
    {
     "name": "stderr",
     "output_type": "stream",
     "text": [
      "\r",
      " 73%|███████▎  | 912/1251 [17:36<06:17,  1.11s/it]"
     ]
    },
    {
     "name": "stdout",
     "output_type": "stream",
     "text": [
      "['/raid/jiang/projects/SubtleGAN/data/RSNA_ASNR_MICCAI_BraTS2021_TrainingData/BraTS2021_01299/BraTS2021_01299_t1.nii.gz']\n",
      "51 185\n",
      "51 212\n",
      "0 141\n"
     ]
    },
    {
     "name": "stderr",
     "output_type": "stream",
     "text": [
      "\r",
      " 73%|███████▎  | 913/1251 [17:37<06:10,  1.10s/it]"
     ]
    },
    {
     "name": "stdout",
     "output_type": "stream",
     "text": [
      "['/raid/jiang/projects/SubtleGAN/data/RSNA_ASNR_MICCAI_BraTS2021_TrainingData/BraTS2021_00143/BraTS2021_00143_t1.nii.gz']\n",
      "49 189\n",
      "46 214\n",
      "0 141\n"
     ]
    },
    {
     "name": "stderr",
     "output_type": "stream",
     "text": [
      "\r",
      " 73%|███████▎  | 914/1251 [17:38<06:14,  1.11s/it]"
     ]
    },
    {
     "name": "stdout",
     "output_type": "stream",
     "text": [
      "['/raid/jiang/projects/SubtleGAN/data/RSNA_ASNR_MICCAI_BraTS2021_TrainingData/BraTS2021_01284/BraTS2021_01284_t1.nii.gz']\n",
      "49 187\n",
      "48 212\n",
      "5 145\n"
     ]
    },
    {
     "name": "stderr",
     "output_type": "stream",
     "text": [
      "\r",
      " 73%|███████▎  | 915/1251 [17:39<06:20,  1.13s/it]"
     ]
    },
    {
     "name": "stdout",
     "output_type": "stream",
     "text": [
      "['/raid/jiang/projects/SubtleGAN/data/RSNA_ASNR_MICCAI_BraTS2021_TrainingData/BraTS2021_01615/BraTS2021_01615_t1.nii.gz']\n",
      "55 184\n",
      "50 215\n",
      "0 142\n"
     ]
    },
    {
     "name": "stderr",
     "output_type": "stream",
     "text": [
      "\r",
      " 73%|███████▎  | 916/1251 [17:41<06:36,  1.18s/it]"
     ]
    },
    {
     "name": "stdout",
     "output_type": "stream",
     "text": [
      "['/raid/jiang/projects/SubtleGAN/data/RSNA_ASNR_MICCAI_BraTS2021_TrainingData/BraTS2021_01629/BraTS2021_01629_t1.nii.gz']\n",
      "49 187\n",
      "41 218\n",
      "0 135\n"
     ]
    },
    {
     "name": "stderr",
     "output_type": "stream",
     "text": [
      "\r",
      " 73%|███████▎  | 917/1251 [17:42<06:32,  1.18s/it]"
     ]
    },
    {
     "name": "stdout",
     "output_type": "stream",
     "text": [
      "['/raid/jiang/projects/SubtleGAN/data/RSNA_ASNR_MICCAI_BraTS2021_TrainingData/BraTS2021_00046/BraTS2021_00046_t1.nii.gz']\n",
      "53 187\n",
      "47 214\n",
      "0 126\n"
     ]
    },
    {
     "name": "stderr",
     "output_type": "stream",
     "text": [
      "\r",
      " 73%|███████▎  | 918/1251 [17:43<06:24,  1.16s/it]"
     ]
    },
    {
     "name": "stdout",
     "output_type": "stream",
     "text": [
      "['/raid/jiang/projects/SubtleGAN/data/RSNA_ASNR_MICCAI_BraTS2021_TrainingData/BraTS2021_00440/BraTS2021_00440_t1.nii.gz']\n",
      "51 188\n",
      "39 217\n",
      "0 138\n"
     ]
    },
    {
     "name": "stderr",
     "output_type": "stream",
     "text": [
      "\r",
      " 73%|███████▎  | 919/1251 [17:44<06:25,  1.16s/it]"
     ]
    },
    {
     "name": "stdout",
     "output_type": "stream",
     "text": [
      "['/raid/jiang/projects/SubtleGAN/data/RSNA_ASNR_MICCAI_BraTS2021_TrainingData/BraTS2021_00147/BraTS2021_00147_t1.nii.gz']\n",
      "47 191\n",
      "43 210\n",
      "0 136\n"
     ]
    },
    {
     "name": "stderr",
     "output_type": "stream",
     "text": [
      "\r",
      " 74%|███████▎  | 920/1251 [17:45<06:32,  1.19s/it]"
     ]
    },
    {
     "name": "stdout",
     "output_type": "stream",
     "text": [
      "['/raid/jiang/projects/SubtleGAN/data/RSNA_ASNR_MICCAI_BraTS2021_TrainingData/BraTS2021_01563/BraTS2021_01563_t1.nii.gz']\n",
      "51 185\n",
      "45 218\n",
      "0 138\n"
     ]
    },
    {
     "name": "stderr",
     "output_type": "stream",
     "text": [
      "\r",
      " 74%|███████▎  | 921/1251 [17:46<06:33,  1.19s/it]"
     ]
    },
    {
     "name": "stdout",
     "output_type": "stream",
     "text": [
      "['/raid/jiang/projects/SubtleGAN/data/RSNA_ASNR_MICCAI_BraTS2021_TrainingData/BraTS2021_01018/BraTS2021_01018_t1.nii.gz']\n",
      "51 186\n",
      "45 214\n",
      "0 139\n"
     ]
    },
    {
     "name": "stderr",
     "output_type": "stream",
     "text": [
      "\r",
      " 74%|███████▎  | 922/1251 [17:48<06:15,  1.14s/it]"
     ]
    },
    {
     "name": "stdout",
     "output_type": "stream",
     "text": [
      "['/raid/jiang/projects/SubtleGAN/data/RSNA_ASNR_MICCAI_BraTS2021_TrainingData/BraTS2021_01333/BraTS2021_01333_t1.nii.gz']\n",
      "56 181\n",
      "53 210\n",
      "0 133\n"
     ]
    },
    {
     "name": "stderr",
     "output_type": "stream",
     "text": [
      "\r",
      " 74%|███████▍  | 923/1251 [17:49<06:17,  1.15s/it]"
     ]
    },
    {
     "name": "stdout",
     "output_type": "stream",
     "text": [
      "['/raid/jiang/projects/SubtleGAN/data/RSNA_ASNR_MICCAI_BraTS2021_TrainingData/BraTS2021_01574/BraTS2021_01574_t1.nii.gz']\n",
      "51 187\n",
      "44 215\n",
      "0 142\n"
     ]
    },
    {
     "name": "stderr",
     "output_type": "stream",
     "text": [
      "\r",
      " 74%|███████▍  | 924/1251 [17:50<06:12,  1.14s/it]"
     ]
    },
    {
     "name": "stdout",
     "output_type": "stream",
     "text": [
      "['/raid/jiang/projects/SubtleGAN/data/RSNA_ASNR_MICCAI_BraTS2021_TrainingData/BraTS2021_01491/BraTS2021_01491_t1.nii.gz']\n",
      "51 186\n",
      "46 213\n",
      "0 136\n"
     ]
    },
    {
     "name": "stderr",
     "output_type": "stream",
     "text": [
      "\r",
      " 74%|███████▍  | 925/1251 [17:51<06:10,  1.14s/it]"
     ]
    },
    {
     "name": "stdout",
     "output_type": "stream",
     "text": [
      "['/raid/jiang/projects/SubtleGAN/data/RSNA_ASNR_MICCAI_BraTS2021_TrainingData/BraTS2021_01021/BraTS2021_01021_t1.nii.gz']\n",
      "45 190\n",
      "47 214\n",
      "0 135\n"
     ]
    },
    {
     "name": "stderr",
     "output_type": "stream",
     "text": [
      "\r",
      " 74%|███████▍  | 926/1251 [17:52<06:17,  1.16s/it]"
     ]
    },
    {
     "name": "stdout",
     "output_type": "stream",
     "text": [
      "['/raid/jiang/projects/SubtleGAN/data/RSNA_ASNR_MICCAI_BraTS2021_TrainingData/BraTS2021_00324/BraTS2021_00324_t1.nii.gz']\n",
      "49 188\n",
      "41 218\n",
      "0 140\n"
     ]
    },
    {
     "name": "stderr",
     "output_type": "stream",
     "text": [
      "\r",
      " 74%|███████▍  | 927/1251 [17:53<06:12,  1.15s/it]"
     ]
    },
    {
     "name": "stdout",
     "output_type": "stream",
     "text": [
      "['/raid/jiang/projects/SubtleGAN/data/RSNA_ASNR_MICCAI_BraTS2021_TrainingData/BraTS2021_01486/BraTS2021_01486_t1.nii.gz']\n",
      "51 184\n",
      "47 212\n",
      "1 140\n",
      "['/raid/jiang/projects/SubtleGAN/data/RSNA_ASNR_MICCAI_BraTS2021_TrainingData/BraTS2021_01581/BraTS2021_01581_t1.nii.gz']\n"
     ]
    },
    {
     "name": "stderr",
     "output_type": "stream",
     "text": [
      "\r",
      " 74%|███████▍  | 928/1251 [17:55<06:28,  1.20s/it]"
     ]
    },
    {
     "name": "stdout",
     "output_type": "stream",
     "text": [
      "47 187\n",
      "35 218\n",
      "0 137\n"
     ]
    },
    {
     "name": "stderr",
     "output_type": "stream",
     "text": [
      "\r",
      " 74%|███████▍  | 929/1251 [17:56<06:29,  1.21s/it]"
     ]
    },
    {
     "name": "stdout",
     "output_type": "stream",
     "text": [
      "['/raid/jiang/projects/SubtleGAN/data/RSNA_ASNR_MICCAI_BraTS2021_TrainingData/BraTS2021_01240/BraTS2021_01240_t1.nii.gz']\n",
      "52 184\n",
      "42 215\n",
      "1 143\n"
     ]
    },
    {
     "name": "stderr",
     "output_type": "stream",
     "text": [
      "\r",
      " 74%|███████▍  | 930/1251 [17:57<06:34,  1.23s/it]"
     ]
    },
    {
     "name": "stdout",
     "output_type": "stream",
     "text": [
      "['/raid/jiang/projects/SubtleGAN/data/RSNA_ASNR_MICCAI_BraTS2021_TrainingData/BraTS2021_00379/BraTS2021_00379_t1.nii.gz']\n",
      "52 182\n",
      "46 215\n",
      "2 140\n"
     ]
    },
    {
     "name": "stderr",
     "output_type": "stream",
     "text": [
      "\r",
      " 74%|███████▍  | 931/1251 [17:58<06:17,  1.18s/it]"
     ]
    },
    {
     "name": "stdout",
     "output_type": "stream",
     "text": [
      "['/raid/jiang/projects/SubtleGAN/data/RSNA_ASNR_MICCAI_BraTS2021_TrainingData/BraTS2021_00196/BraTS2021_00196_t1.nii.gz']\n",
      "54 184\n",
      "52 212\n",
      "4 142\n"
     ]
    },
    {
     "name": "stderr",
     "output_type": "stream",
     "text": [
      "\r",
      " 75%|███████▍  | 932/1251 [17:59<06:08,  1.16s/it]"
     ]
    },
    {
     "name": "stdout",
     "output_type": "stream",
     "text": [
      "['/raid/jiang/projects/SubtleGAN/data/RSNA_ASNR_MICCAI_BraTS2021_TrainingData/BraTS2021_00148/BraTS2021_00148_t1.nii.gz']\n",
      "51 191\n",
      "43 215\n",
      "0 135\n"
     ]
    },
    {
     "name": "stderr",
     "output_type": "stream",
     "text": [
      "\r",
      " 75%|███████▍  | 933/1251 [18:00<06:16,  1.18s/it]"
     ]
    },
    {
     "name": "stdout",
     "output_type": "stream",
     "text": [
      "['/raid/jiang/projects/SubtleGAN/data/RSNA_ASNR_MICCAI_BraTS2021_TrainingData/BraTS2021_00502/BraTS2021_00502_t1.nii.gz']\n",
      "51 190\n",
      "41 215\n",
      "0 143\n"
     ]
    },
    {
     "name": "stderr",
     "output_type": "stream",
     "text": [
      "\r",
      " 75%|███████▍  | 934/1251 [18:02<06:08,  1.16s/it]"
     ]
    },
    {
     "name": "stdout",
     "output_type": "stream",
     "text": [
      "['/raid/jiang/projects/SubtleGAN/data/RSNA_ASNR_MICCAI_BraTS2021_TrainingData/BraTS2021_01379/BraTS2021_01379_t1.nii.gz']\n",
      "54 183\n",
      "48 212\n",
      "0 139\n"
     ]
    },
    {
     "name": "stderr",
     "output_type": "stream",
     "text": [
      "\r",
      " 75%|███████▍  | 935/1251 [18:03<06:29,  1.23s/it]"
     ]
    },
    {
     "name": "stdout",
     "output_type": "stream",
     "text": [
      "['/raid/jiang/projects/SubtleGAN/data/RSNA_ASNR_MICCAI_BraTS2021_TrainingData/BraTS2021_00808/BraTS2021_00808_t1.nii.gz']\n",
      "48 191\n",
      "41 219\n",
      "0 142\n"
     ]
    },
    {
     "name": "stderr",
     "output_type": "stream",
     "text": [
      "\r",
      " 75%|███████▍  | 936/1251 [18:04<06:34,  1.25s/it]"
     ]
    },
    {
     "name": "stdout",
     "output_type": "stream",
     "text": [
      "['/raid/jiang/projects/SubtleGAN/data/RSNA_ASNR_MICCAI_BraTS2021_TrainingData/BraTS2021_00124/BraTS2021_00124_t1.nii.gz']\n",
      "50 185\n",
      "44 211\n",
      "2 143\n"
     ]
    },
    {
     "name": "stderr",
     "output_type": "stream",
     "text": [
      "\r",
      " 75%|███████▍  | 937/1251 [18:05<06:27,  1.23s/it]"
     ]
    },
    {
     "name": "stdout",
     "output_type": "stream",
     "text": [
      "['/raid/jiang/projects/SubtleGAN/data/RSNA_ASNR_MICCAI_BraTS2021_TrainingData/BraTS2021_01317/BraTS2021_01317_t1.nii.gz']\n",
      "50 189\n",
      "53 219\n",
      "0 137\n"
     ]
    },
    {
     "name": "stderr",
     "output_type": "stream",
     "text": [
      "\r",
      " 75%|███████▍  | 938/1251 [18:07<06:38,  1.27s/it]"
     ]
    },
    {
     "name": "stdout",
     "output_type": "stream",
     "text": [
      "['/raid/jiang/projects/SubtleGAN/data/RSNA_ASNR_MICCAI_BraTS2021_TrainingData/BraTS2021_01634/BraTS2021_01634_t1.nii.gz']\n",
      "47 191\n",
      "45 216\n",
      "0 145\n"
     ]
    },
    {
     "name": "stderr",
     "output_type": "stream",
     "text": [
      "\r",
      " 75%|███████▌  | 939/1251 [18:08<06:44,  1.30s/it]"
     ]
    },
    {
     "name": "stdout",
     "output_type": "stream",
     "text": [
      "['/raid/jiang/projects/SubtleGAN/data/RSNA_ASNR_MICCAI_BraTS2021_TrainingData/BraTS2021_01430/BraTS2021_01430_t1.nii.gz']\n",
      "41 195\n",
      "47 210\n",
      "5 143\n"
     ]
    },
    {
     "name": "stderr",
     "output_type": "stream",
     "text": [
      "\r",
      " 75%|███████▌  | 940/1251 [18:09<06:22,  1.23s/it]"
     ]
    },
    {
     "name": "stdout",
     "output_type": "stream",
     "text": [
      "['/raid/jiang/projects/SubtleGAN/data/RSNA_ASNR_MICCAI_BraTS2021_TrainingData/BraTS2021_00089/BraTS2021_00089_t1.nii.gz']\n",
      "52 190\n",
      "39 211\n",
      "0 123\n"
     ]
    },
    {
     "name": "stderr",
     "output_type": "stream",
     "text": [
      "\r",
      " 75%|███████▌  | 941/1251 [18:10<06:01,  1.17s/it]"
     ]
    },
    {
     "name": "stdout",
     "output_type": "stream",
     "text": [
      "['/raid/jiang/projects/SubtleGAN/data/RSNA_ASNR_MICCAI_BraTS2021_TrainingData/BraTS2021_01343/BraTS2021_01343_t1.nii.gz']\n",
      "54 182\n",
      "49 210\n",
      "2 140\n"
     ]
    },
    {
     "name": "stderr",
     "output_type": "stream",
     "text": [
      "\r",
      " 75%|███████▌  | 942/1251 [18:12<06:06,  1.18s/it]"
     ]
    },
    {
     "name": "stdout",
     "output_type": "stream",
     "text": [
      "['/raid/jiang/projects/SubtleGAN/data/RSNA_ASNR_MICCAI_BraTS2021_TrainingData/BraTS2021_00292/BraTS2021_00292_t1.nii.gz']\n",
      "46 191\n",
      "45 212\n",
      "0 143\n"
     ]
    },
    {
     "name": "stderr",
     "output_type": "stream",
     "text": [
      "\r",
      " 75%|███████▌  | 943/1251 [18:13<06:11,  1.21s/it]"
     ]
    },
    {
     "name": "stdout",
     "output_type": "stream",
     "text": [
      "['/raid/jiang/projects/SubtleGAN/data/RSNA_ASNR_MICCAI_BraTS2021_TrainingData/BraTS2021_00234/BraTS2021_00234_t1.nii.gz']\n",
      "46 191\n",
      "40 217\n",
      "0 143\n"
     ]
    },
    {
     "name": "stderr",
     "output_type": "stream",
     "text": [
      "\r",
      " 75%|███████▌  | 944/1251 [18:14<06:18,  1.23s/it]"
     ]
    },
    {
     "name": "stdout",
     "output_type": "stream",
     "text": [
      "['/raid/jiang/projects/SubtleGAN/data/RSNA_ASNR_MICCAI_BraTS2021_TrainingData/BraTS2021_00132/BraTS2021_00132_t1.nii.gz']\n",
      "49 187\n",
      "46 214\n",
      "5 135\n"
     ]
    },
    {
     "name": "stderr",
     "output_type": "stream",
     "text": [
      "\r",
      " 76%|███████▌  | 945/1251 [18:15<06:19,  1.24s/it]"
     ]
    },
    {
     "name": "stdout",
     "output_type": "stream",
     "text": [
      "['/raid/jiang/projects/SubtleGAN/data/RSNA_ASNR_MICCAI_BraTS2021_TrainingData/BraTS2021_01300/BraTS2021_01300_t1.nii.gz']\n",
      "49 189\n",
      "65 213\n",
      "3 147\n"
     ]
    },
    {
     "name": "stderr",
     "output_type": "stream",
     "text": [
      "\r",
      " 76%|███████▌  | 946/1251 [18:17<06:37,  1.30s/it]"
     ]
    },
    {
     "name": "stdout",
     "output_type": "stream",
     "text": [
      "['/raid/jiang/projects/SubtleGAN/data/RSNA_ASNR_MICCAI_BraTS2021_TrainingData/BraTS2021_01376/BraTS2021_01376_t1.nii.gz']\n",
      "45 188\n",
      "49 214\n",
      "0 141\n"
     ]
    },
    {
     "name": "stderr",
     "output_type": "stream",
     "text": [
      "\r",
      " 76%|███████▌  | 947/1251 [18:18<06:54,  1.36s/it]"
     ]
    },
    {
     "name": "stdout",
     "output_type": "stream",
     "text": [
      "['/raid/jiang/projects/SubtleGAN/data/RSNA_ASNR_MICCAI_BraTS2021_TrainingData/BraTS2021_01386/BraTS2021_01386_t1.nii.gz']\n",
      "49 188\n",
      "36 216\n",
      "0 144\n"
     ]
    },
    {
     "name": "stderr",
     "output_type": "stream",
     "text": [
      "\r",
      " 76%|███████▌  | 948/1251 [18:20<06:56,  1.37s/it]"
     ]
    },
    {
     "name": "stdout",
     "output_type": "stream",
     "text": [
      "['/raid/jiang/projects/SubtleGAN/data/RSNA_ASNR_MICCAI_BraTS2021_TrainingData/BraTS2021_01658/BraTS2021_01658_t1.nii.gz']\n",
      "55 182\n",
      "42 214\n",
      "4 134\n"
     ]
    },
    {
     "name": "stderr",
     "output_type": "stream",
     "text": [
      "\r",
      " 76%|███████▌  | 949/1251 [18:21<07:02,  1.40s/it]"
     ]
    },
    {
     "name": "stdout",
     "output_type": "stream",
     "text": [
      "['/raid/jiang/projects/SubtleGAN/data/RSNA_ASNR_MICCAI_BraTS2021_TrainingData/BraTS2021_00799/BraTS2021_00799_t1.nii.gz']\n",
      "47 191\n",
      "50 215\n",
      "0 150\n"
     ]
    },
    {
     "name": "stderr",
     "output_type": "stream",
     "text": [
      "\r",
      " 76%|███████▌  | 950/1251 [18:23<07:05,  1.41s/it]"
     ]
    },
    {
     "name": "stdout",
     "output_type": "stream",
     "text": [
      "['/raid/jiang/projects/SubtleGAN/data/RSNA_ASNR_MICCAI_BraTS2021_TrainingData/BraTS2021_00275/BraTS2021_00275_t1.nii.gz']\n",
      "50 189\n",
      "42 213\n",
      "0 141\n"
     ]
    },
    {
     "name": "stderr",
     "output_type": "stream",
     "text": [
      "\r",
      " 76%|███████▌  | 951/1251 [18:24<07:09,  1.43s/it]"
     ]
    },
    {
     "name": "stdout",
     "output_type": "stream",
     "text": [
      "['/raid/jiang/projects/SubtleGAN/data/RSNA_ASNR_MICCAI_BraTS2021_TrainingData/BraTS2021_01203/BraTS2021_01203_t1.nii.gz']\n",
      "53 186\n",
      "31 217\n",
      "0 139\n"
     ]
    },
    {
     "name": "stderr",
     "output_type": "stream",
     "text": [
      "\r",
      " 76%|███████▌  | 952/1251 [18:26<07:12,  1.45s/it]"
     ]
    },
    {
     "name": "stdout",
     "output_type": "stream",
     "text": [
      "['/raid/jiang/projects/SubtleGAN/data/RSNA_ASNR_MICCAI_BraTS2021_TrainingData/BraTS2021_00311/BraTS2021_00311_t1.nii.gz']\n",
      "48 189\n",
      "44 213\n",
      "1 139\n"
     ]
    },
    {
     "name": "stderr",
     "output_type": "stream",
     "text": [
      "\r",
      " 76%|███████▌  | 953/1251 [18:27<06:59,  1.41s/it]"
     ]
    },
    {
     "name": "stdout",
     "output_type": "stream",
     "text": [
      "['/raid/jiang/projects/SubtleGAN/data/RSNA_ASNR_MICCAI_BraTS2021_TrainingData/BraTS2021_00584/BraTS2021_00584_t1.nii.gz']\n",
      "50 185\n",
      "48 210\n",
      "3 138\n"
     ]
    },
    {
     "name": "stderr",
     "output_type": "stream",
     "text": [
      "\r",
      " 76%|███████▋  | 954/1251 [18:28<06:39,  1.34s/it]"
     ]
    },
    {
     "name": "stdout",
     "output_type": "stream",
     "text": [
      "['/raid/jiang/projects/SubtleGAN/data/RSNA_ASNR_MICCAI_BraTS2021_TrainingData/BraTS2021_01339/BraTS2021_01339_t1.nii.gz']\n",
      "45 192\n",
      "51 213\n",
      "0 142\n"
     ]
    },
    {
     "name": "stderr",
     "output_type": "stream",
     "text": [
      "\r",
      " 76%|███████▋  | 955/1251 [18:29<06:21,  1.29s/it]"
     ]
    },
    {
     "name": "stdout",
     "output_type": "stream",
     "text": [
      "['/raid/jiang/projects/SubtleGAN/data/RSNA_ASNR_MICCAI_BraTS2021_TrainingData/BraTS2021_01528/BraTS2021_01528_t1.nii.gz']\n",
      "49 187\n",
      "48 210\n",
      "0 139\n"
     ]
    },
    {
     "name": "stderr",
     "output_type": "stream",
     "text": [
      "\r",
      " 76%|███████▋  | 956/1251 [18:30<06:17,  1.28s/it]"
     ]
    },
    {
     "name": "stdout",
     "output_type": "stream",
     "text": [
      "['/raid/jiang/projects/SubtleGAN/data/RSNA_ASNR_MICCAI_BraTS2021_TrainingData/BraTS2021_01106/BraTS2021_01106_t1.nii.gz']\n",
      "49 189\n",
      "37 225\n",
      "0 140\n"
     ]
    },
    {
     "name": "stderr",
     "output_type": "stream",
     "text": [
      "\r",
      " 76%|███████▋  | 957/1251 [18:32<06:04,  1.24s/it]"
     ]
    },
    {
     "name": "stdout",
     "output_type": "stream",
     "text": [
      "['/raid/jiang/projects/SubtleGAN/data/RSNA_ASNR_MICCAI_BraTS2021_TrainingData/BraTS2021_01488/BraTS2021_01488_t1.nii.gz']\n",
      "47 192\n",
      "48 210\n",
      "2 140\n"
     ]
    },
    {
     "name": "stderr",
     "output_type": "stream",
     "text": [
      "\r",
      " 77%|███████▋  | 958/1251 [18:33<05:51,  1.20s/it]"
     ]
    },
    {
     "name": "stdout",
     "output_type": "stream",
     "text": [
      "['/raid/jiang/projects/SubtleGAN/data/RSNA_ASNR_MICCAI_BraTS2021_TrainingData/BraTS2021_01383/BraTS2021_01383_t1.nii.gz']\n",
      "55 180\n",
      "40 216\n",
      "2 141\n"
     ]
    },
    {
     "name": "stderr",
     "output_type": "stream",
     "text": [
      "\r",
      " 77%|███████▋  | 959/1251 [18:34<06:02,  1.24s/it]"
     ]
    },
    {
     "name": "stdout",
     "output_type": "stream",
     "text": [
      "['/raid/jiang/projects/SubtleGAN/data/RSNA_ASNR_MICCAI_BraTS2021_TrainingData/BraTS2021_01441/BraTS2021_01441_t1.nii.gz']\n",
      "46 193\n",
      "40 215\n",
      "0 145\n"
     ]
    },
    {
     "name": "stderr",
     "output_type": "stream",
     "text": [
      "\r",
      " 77%|███████▋  | 960/1251 [18:35<05:51,  1.21s/it]"
     ]
    },
    {
     "name": "stdout",
     "output_type": "stream",
     "text": [
      "['/raid/jiang/projects/SubtleGAN/data/RSNA_ASNR_MICCAI_BraTS2021_TrainingData/BraTS2021_01075/BraTS2021_01075_t1.nii.gz']\n",
      "57 182\n",
      "46 213\n",
      "2 141\n"
     ]
    },
    {
     "name": "stderr",
     "output_type": "stream",
     "text": [
      "\r",
      " 77%|███████▋  | 961/1251 [18:36<05:39,  1.17s/it]"
     ]
    },
    {
     "name": "stdout",
     "output_type": "stream",
     "text": [
      "['/raid/jiang/projects/SubtleGAN/data/RSNA_ASNR_MICCAI_BraTS2021_TrainingData/BraTS2021_00387/BraTS2021_00387_t1.nii.gz']\n",
      "54 181\n",
      "42 212\n",
      "10 136\n"
     ]
    },
    {
     "name": "stderr",
     "output_type": "stream",
     "text": [
      "\r",
      " 77%|███████▋  | 962/1251 [18:37<05:28,  1.14s/it]"
     ]
    },
    {
     "name": "stdout",
     "output_type": "stream",
     "text": [
      "['/raid/jiang/projects/SubtleGAN/data/RSNA_ASNR_MICCAI_BraTS2021_TrainingData/BraTS2021_00031/BraTS2021_00031_t1.nii.gz']\n",
      "53 186\n",
      "36 214\n",
      "4 149\n"
     ]
    },
    {
     "name": "stderr",
     "output_type": "stream",
     "text": [
      "\r",
      " 77%|███████▋  | 963/1251 [18:39<05:33,  1.16s/it]"
     ]
    },
    {
     "name": "stdout",
     "output_type": "stream",
     "text": [
      "['/raid/jiang/projects/SubtleGAN/data/RSNA_ASNR_MICCAI_BraTS2021_TrainingData/BraTS2021_00479/BraTS2021_00479_t1.nii.gz']\n",
      "58 184\n",
      "35 207\n",
      "0 142\n"
     ]
    },
    {
     "name": "stderr",
     "output_type": "stream",
     "text": [
      "\r",
      " 77%|███████▋  | 964/1251 [18:40<05:29,  1.15s/it]"
     ]
    },
    {
     "name": "stdout",
     "output_type": "stream",
     "text": [
      "['/raid/jiang/projects/SubtleGAN/data/RSNA_ASNR_MICCAI_BraTS2021_TrainingData/BraTS2021_01282/BraTS2021_01282_t1.nii.gz']\n",
      "47 192\n",
      "45 209\n",
      "0 135\n"
     ]
    },
    {
     "name": "stderr",
     "output_type": "stream",
     "text": [
      "\r",
      " 77%|███████▋  | 965/1251 [18:41<05:26,  1.14s/it]"
     ]
    },
    {
     "name": "stdout",
     "output_type": "stream",
     "text": [
      "['/raid/jiang/projects/SubtleGAN/data/RSNA_ASNR_MICCAI_BraTS2021_TrainingData/BraTS2021_00495/BraTS2021_00495_t1.nii.gz']\n",
      "53 185\n",
      "37 210\n",
      "9 145\n"
     ]
    },
    {
     "name": "stderr",
     "output_type": "stream",
     "text": [
      "\r",
      " 77%|███████▋  | 966/1251 [18:42<05:37,  1.18s/it]"
     ]
    },
    {
     "name": "stdout",
     "output_type": "stream",
     "text": [
      "['/raid/jiang/projects/SubtleGAN/data/RSNA_ASNR_MICCAI_BraTS2021_TrainingData/BraTS2021_00074/BraTS2021_00074_t1.nii.gz']\n",
      "51 193\n",
      "31 211\n",
      "0 143\n"
     ]
    },
    {
     "name": "stderr",
     "output_type": "stream",
     "text": [
      "\r",
      " 77%|███████▋  | 967/1251 [18:43<05:34,  1.18s/it]"
     ]
    },
    {
     "name": "stdout",
     "output_type": "stream",
     "text": [
      "['/raid/jiang/projects/SubtleGAN/data/RSNA_ASNR_MICCAI_BraTS2021_TrainingData/BraTS2021_01366/BraTS2021_01366_t1.nii.gz']\n",
      "53 184\n",
      "44 212\n",
      "1 133\n"
     ]
    },
    {
     "name": "stderr",
     "output_type": "stream",
     "text": [
      "\r",
      " 77%|███████▋  | 968/1251 [18:44<05:26,  1.15s/it]"
     ]
    },
    {
     "name": "stdout",
     "output_type": "stream",
     "text": [
      "['/raid/jiang/projects/SubtleGAN/data/RSNA_ASNR_MICCAI_BraTS2021_TrainingData/BraTS2021_01210/BraTS2021_01210_t1.nii.gz']\n",
      "55 184\n",
      "44 214\n",
      "0 140\n"
     ]
    },
    {
     "name": "stderr",
     "output_type": "stream",
     "text": [
      "\r",
      " 77%|███████▋  | 969/1251 [18:45<05:16,  1.12s/it]"
     ]
    },
    {
     "name": "stdout",
     "output_type": "stream",
     "text": [
      "['/raid/jiang/projects/SubtleGAN/data/RSNA_ASNR_MICCAI_BraTS2021_TrainingData/BraTS2021_00328/BraTS2021_00328_t1.nii.gz']\n",
      "49 187\n",
      "45 211\n",
      "0 143\n"
     ]
    },
    {
     "name": "stderr",
     "output_type": "stream",
     "text": [
      "\r",
      " 78%|███████▊  | 970/1251 [18:47<05:14,  1.12s/it]"
     ]
    },
    {
     "name": "stdout",
     "output_type": "stream",
     "text": [
      "['/raid/jiang/projects/SubtleGAN/data/RSNA_ASNR_MICCAI_BraTS2021_TrainingData/BraTS2021_00233/BraTS2021_00233_t1.nii.gz']\n",
      "47 188\n",
      "50 211\n",
      "6 140\n"
     ]
    },
    {
     "name": "stderr",
     "output_type": "stream",
     "text": [
      "\r",
      " 78%|███████▊  | 971/1251 [18:48<05:24,  1.16s/it]"
     ]
    },
    {
     "name": "stdout",
     "output_type": "stream",
     "text": [
      "['/raid/jiang/projects/SubtleGAN/data/RSNA_ASNR_MICCAI_BraTS2021_TrainingData/BraTS2021_00734/BraTS2021_00734_t1.nii.gz']\n",
      "48 194\n",
      "32 207\n",
      "0 141\n"
     ]
    },
    {
     "name": "stderr",
     "output_type": "stream",
     "text": [
      "\r",
      " 78%|███████▊  | 972/1251 [18:49<05:23,  1.16s/it]"
     ]
    },
    {
     "name": "stdout",
     "output_type": "stream",
     "text": [
      "['/raid/jiang/projects/SubtleGAN/data/RSNA_ASNR_MICCAI_BraTS2021_TrainingData/BraTS2021_00682/BraTS2021_00682_t1.nii.gz']\n",
      "52 189\n",
      "35 210\n",
      "0 140\n"
     ]
    },
    {
     "name": "stderr",
     "output_type": "stream",
     "text": [
      "\r",
      " 78%|███████▊  | 973/1251 [18:50<05:38,  1.22s/it]"
     ]
    },
    {
     "name": "stdout",
     "output_type": "stream",
     "text": [
      "['/raid/jiang/projects/SubtleGAN/data/RSNA_ASNR_MICCAI_BraTS2021_TrainingData/BraTS2021_00760/BraTS2021_00760_t1.nii.gz']\n",
      "54 192\n",
      "26 209\n",
      "0 145\n"
     ]
    },
    {
     "name": "stderr",
     "output_type": "stream",
     "text": [
      "\r",
      " 78%|███████▊  | 974/1251 [18:51<05:35,  1.21s/it]"
     ]
    },
    {
     "name": "stdout",
     "output_type": "stream",
     "text": [
      "['/raid/jiang/projects/SubtleGAN/data/RSNA_ASNR_MICCAI_BraTS2021_TrainingData/BraTS2021_01548/BraTS2021_01548_t1.nii.gz']\n",
      "52 187\n",
      "42 210\n",
      "0 133\n"
     ]
    },
    {
     "name": "stderr",
     "output_type": "stream",
     "text": [
      "\r",
      " 78%|███████▊  | 975/1251 [18:53<05:34,  1.21s/it]"
     ]
    },
    {
     "name": "stdout",
     "output_type": "stream",
     "text": [
      "['/raid/jiang/projects/SubtleGAN/data/RSNA_ASNR_MICCAI_BraTS2021_TrainingData/BraTS2021_01451/BraTS2021_01451_t1.nii.gz']\n",
      "50 190\n",
      "39 218\n",
      "0 136\n"
     ]
    },
    {
     "name": "stderr",
     "output_type": "stream",
     "text": [
      "\r",
      " 78%|███████▊  | 976/1251 [18:54<05:26,  1.19s/it]"
     ]
    },
    {
     "name": "stdout",
     "output_type": "stream",
     "text": [
      "['/raid/jiang/projects/SubtleGAN/data/RSNA_ASNR_MICCAI_BraTS2021_TrainingData/BraTS2021_00052/BraTS2021_00052_t1.nii.gz']\n",
      "49 189\n",
      "32 212\n",
      "0 143\n"
     ]
    },
    {
     "name": "stderr",
     "output_type": "stream",
     "text": [
      "\r",
      " 78%|███████▊  | 977/1251 [18:55<05:19,  1.17s/it]"
     ]
    },
    {
     "name": "stdout",
     "output_type": "stream",
     "text": [
      "['/raid/jiang/projects/SubtleGAN/data/RSNA_ASNR_MICCAI_BraTS2021_TrainingData/BraTS2021_01396/BraTS2021_01396_t1.nii.gz']\n",
      "57 184\n",
      "42 216\n",
      "0 136\n"
     ]
    },
    {
     "name": "stderr",
     "output_type": "stream",
     "text": [
      "\r",
      " 78%|███████▊  | 978/1251 [18:56<05:23,  1.18s/it]"
     ]
    },
    {
     "name": "stdout",
     "output_type": "stream",
     "text": [
      "['/raid/jiang/projects/SubtleGAN/data/RSNA_ASNR_MICCAI_BraTS2021_TrainingData/BraTS2021_00706/BraTS2021_00706_t1.nii.gz']\n",
      "51 192\n",
      "26 216\n",
      "0 144\n"
     ]
    },
    {
     "name": "stderr",
     "output_type": "stream",
     "text": [
      "\r",
      " 78%|███████▊  | 979/1251 [18:57<05:15,  1.16s/it]"
     ]
    },
    {
     "name": "stdout",
     "output_type": "stream",
     "text": [
      "['/raid/jiang/projects/SubtleGAN/data/RSNA_ASNR_MICCAI_BraTS2021_TrainingData/BraTS2021_01450/BraTS2021_01450_t1.nii.gz']\n",
      "51 186\n",
      "43 212\n",
      "0 138\n"
     ]
    },
    {
     "name": "stderr",
     "output_type": "stream",
     "text": [
      "\r",
      " 78%|███████▊  | 980/1251 [18:58<05:09,  1.14s/it]"
     ]
    },
    {
     "name": "stdout",
     "output_type": "stream",
     "text": [
      "['/raid/jiang/projects/SubtleGAN/data/RSNA_ASNR_MICCAI_BraTS2021_TrainingData/BraTS2021_00009/BraTS2021_00009_t1.nii.gz']\n",
      "52 186\n",
      "30 196\n",
      "0 131\n"
     ]
    },
    {
     "name": "stderr",
     "output_type": "stream",
     "text": [
      "\r",
      " 78%|███████▊  | 981/1251 [18:59<05:03,  1.12s/it]"
     ]
    },
    {
     "name": "stdout",
     "output_type": "stream",
     "text": [
      "['/raid/jiang/projects/SubtleGAN/data/RSNA_ASNR_MICCAI_BraTS2021_TrainingData/BraTS2021_01289/BraTS2021_01289_t1.nii.gz']\n",
      "49 188\n",
      "42 212\n",
      "0 134\n"
     ]
    },
    {
     "name": "stderr",
     "output_type": "stream",
     "text": [
      "\r",
      " 78%|███████▊  | 982/1251 [19:01<04:57,  1.11s/it]"
     ]
    },
    {
     "name": "stdout",
     "output_type": "stream",
     "text": [
      "['/raid/jiang/projects/SubtleGAN/data/RSNA_ASNR_MICCAI_BraTS2021_TrainingData/BraTS2021_01247/BraTS2021_01247_t1.nii.gz']\n",
      "54 184\n",
      "41 213\n",
      "4 139\n"
     ]
    },
    {
     "name": "stderr",
     "output_type": "stream",
     "text": [
      "\r",
      " 79%|███████▊  | 983/1251 [19:02<05:02,  1.13s/it]"
     ]
    },
    {
     "name": "stdout",
     "output_type": "stream",
     "text": [
      "['/raid/jiang/projects/SubtleGAN/data/RSNA_ASNR_MICCAI_BraTS2021_TrainingData/BraTS2021_01175/BraTS2021_01175_t1.nii.gz']\n",
      "55 182\n",
      "51 205\n",
      "8 141\n"
     ]
    },
    {
     "name": "stderr",
     "output_type": "stream",
     "text": [
      "\r",
      " 79%|███████▊  | 984/1251 [19:03<05:30,  1.24s/it]"
     ]
    },
    {
     "name": "stdout",
     "output_type": "stream",
     "text": [
      "['/raid/jiang/projects/SubtleGAN/data/RSNA_ASNR_MICCAI_BraTS2021_TrainingData/BraTS2021_00286/BraTS2021_00286_t1.nii.gz']\n",
      "47 189\n",
      "39 221\n",
      "0 142\n"
     ]
    },
    {
     "name": "stderr",
     "output_type": "stream",
     "text": [
      "\r",
      " 79%|███████▊  | 985/1251 [19:05<05:40,  1.28s/it]"
     ]
    },
    {
     "name": "stdout",
     "output_type": "stream",
     "text": [
      "['/raid/jiang/projects/SubtleGAN/data/RSNA_ASNR_MICCAI_BraTS2021_TrainingData/BraTS2021_00404/BraTS2021_00404_t1.nii.gz']\n",
      "50 185\n",
      "42 216\n",
      "0 142\n"
     ]
    },
    {
     "name": "stderr",
     "output_type": "stream",
     "text": [
      "\r",
      " 79%|███████▉  | 986/1251 [19:06<05:33,  1.26s/it]"
     ]
    },
    {
     "name": "stdout",
     "output_type": "stream",
     "text": [
      "['/raid/jiang/projects/SubtleGAN/data/RSNA_ASNR_MICCAI_BraTS2021_TrainingData/BraTS2021_01631/BraTS2021_01631_t1.nii.gz']\n",
      "53 184\n",
      "43 218\n",
      "0 143\n",
      "['/raid/jiang/projects/SubtleGAN/data/RSNA_ASNR_MICCAI_BraTS2021_TrainingData/BraTS2021_00321/BraTS2021_00321_t1.nii.gz']\n"
     ]
    },
    {
     "name": "stderr",
     "output_type": "stream",
     "text": [
      "\r",
      " 79%|███████▉  | 987/1251 [19:07<05:40,  1.29s/it]"
     ]
    },
    {
     "name": "stdout",
     "output_type": "stream",
     "text": [
      "49 186\n",
      "40 219\n",
      "0 138\n"
     ]
    },
    {
     "name": "stderr",
     "output_type": "stream",
     "text": [
      "\r",
      " 79%|███████▉  | 988/1251 [19:08<05:40,  1.29s/it]"
     ]
    },
    {
     "name": "stdout",
     "output_type": "stream",
     "text": [
      "['/raid/jiang/projects/SubtleGAN/data/RSNA_ASNR_MICCAI_BraTS2021_TrainingData/BraTS2021_01266/BraTS2021_01266_t1.nii.gz']\n",
      "53 184\n",
      "41 215\n",
      "2 140\n"
     ]
    },
    {
     "name": "stderr",
     "output_type": "stream",
     "text": [
      "\r",
      " 79%|███████▉  | 989/1251 [19:10<05:34,  1.27s/it]"
     ]
    },
    {
     "name": "stdout",
     "output_type": "stream",
     "text": [
      "['/raid/jiang/projects/SubtleGAN/data/RSNA_ASNR_MICCAI_BraTS2021_TrainingData/BraTS2021_00667/BraTS2021_00667_t1.nii.gz']\n",
      "51 190\n",
      "35 210\n",
      "0 144\n"
     ]
    },
    {
     "name": "stderr",
     "output_type": "stream",
     "text": [
      "\r",
      " 79%|███████▉  | 990/1251 [19:11<05:28,  1.26s/it]"
     ]
    },
    {
     "name": "stdout",
     "output_type": "stream",
     "text": [
      "['/raid/jiang/projects/SubtleGAN/data/RSNA_ASNR_MICCAI_BraTS2021_TrainingData/BraTS2021_01544/BraTS2021_01544_t1.nii.gz']\n",
      "49 189\n",
      "45 215\n",
      "0 139\n"
     ]
    },
    {
     "name": "stderr",
     "output_type": "stream",
     "text": [
      "\r",
      " 79%|███████▉  | 991/1251 [19:12<05:20,  1.23s/it]"
     ]
    },
    {
     "name": "stdout",
     "output_type": "stream",
     "text": [
      "['/raid/jiang/projects/SubtleGAN/data/RSNA_ASNR_MICCAI_BraTS2021_TrainingData/BraTS2021_01347/BraTS2021_01347_t1.nii.gz']\n",
      "51 185\n",
      "51 206\n",
      "0 137\n"
     ]
    },
    {
     "name": "stderr",
     "output_type": "stream",
     "text": [
      "\r",
      " 79%|███████▉  | 992/1251 [19:13<04:59,  1.16s/it]"
     ]
    },
    {
     "name": "stdout",
     "output_type": "stream",
     "text": [
      "['/raid/jiang/projects/SubtleGAN/data/RSNA_ASNR_MICCAI_BraTS2021_TrainingData/BraTS2021_01003/BraTS2021_01003_t1.nii.gz']\n",
      "51 183\n",
      "51 213\n",
      "0 143\n"
     ]
    },
    {
     "name": "stderr",
     "output_type": "stream",
     "text": [
      "\r",
      " 79%|███████▉  | 993/1251 [19:14<04:49,  1.12s/it]"
     ]
    },
    {
     "name": "stdout",
     "output_type": "stream",
     "text": [
      "['/raid/jiang/projects/SubtleGAN/data/RSNA_ASNR_MICCAI_BraTS2021_TrainingData/BraTS2021_00788/BraTS2021_00788_t1.nii.gz']\n",
      "53 185\n",
      "50 215\n",
      "3 136\n"
     ]
    },
    {
     "name": "stderr",
     "output_type": "stream",
     "text": [
      "\r",
      " 79%|███████▉  | 994/1251 [19:15<04:41,  1.10s/it]"
     ]
    },
    {
     "name": "stdout",
     "output_type": "stream",
     "text": [
      "['/raid/jiang/projects/SubtleGAN/data/RSNA_ASNR_MICCAI_BraTS2021_TrainingData/BraTS2021_01231/BraTS2021_01231_t1.nii.gz']\n",
      "52 183\n",
      "52 212\n",
      "0 137\n"
     ]
    },
    {
     "name": "stderr",
     "output_type": "stream",
     "text": [
      "\r",
      " 80%|███████▉  | 995/1251 [19:16<04:33,  1.07s/it]"
     ]
    },
    {
     "name": "stdout",
     "output_type": "stream",
     "text": [
      "['/raid/jiang/projects/SubtleGAN/data/RSNA_ASNR_MICCAI_BraTS2021_TrainingData/BraTS2021_00281/BraTS2021_00281_t1.nii.gz']\n",
      "52 187\n",
      "48 209\n",
      "0 139\n"
     ]
    },
    {
     "name": "stderr",
     "output_type": "stream",
     "text": [
      "\r",
      " 80%|███████▉  | 996/1251 [19:17<04:53,  1.15s/it]"
     ]
    },
    {
     "name": "stdout",
     "output_type": "stream",
     "text": [
      "['/raid/jiang/projects/SubtleGAN/data/RSNA_ASNR_MICCAI_BraTS2021_TrainingData/BraTS2021_01094/BraTS2021_01094_t1.nii.gz']\n",
      "39 194\n",
      "40 220\n",
      "0 145\n"
     ]
    },
    {
     "name": "stderr",
     "output_type": "stream",
     "text": [
      "\r",
      " 80%|███████▉  | 997/1251 [19:19<05:07,  1.21s/it]"
     ]
    },
    {
     "name": "stdout",
     "output_type": "stream",
     "text": [
      "['/raid/jiang/projects/SubtleGAN/data/RSNA_ASNR_MICCAI_BraTS2021_TrainingData/BraTS2021_00830/BraTS2021_00830_t1.nii.gz']\n",
      "50 188\n",
      "49 206\n",
      "0 150\n"
     ]
    },
    {
     "name": "stderr",
     "output_type": "stream",
     "text": [
      "\r",
      " 80%|███████▉  | 998/1251 [19:20<05:12,  1.23s/it]"
     ]
    },
    {
     "name": "stdout",
     "output_type": "stream",
     "text": [
      "['/raid/jiang/projects/SubtleGAN/data/RSNA_ASNR_MICCAI_BraTS2021_TrainingData/BraTS2021_00375/BraTS2021_00375_t1.nii.gz']\n",
      "51 186\n",
      "34 219\n",
      "0 139\n"
     ]
    },
    {
     "name": "stderr",
     "output_type": "stream",
     "text": [
      "\r",
      " 80%|███████▉  | 999/1251 [19:21<05:05,  1.21s/it]"
     ]
    },
    {
     "name": "stdout",
     "output_type": "stream",
     "text": [
      "['/raid/jiang/projects/SubtleGAN/data/RSNA_ASNR_MICCAI_BraTS2021_TrainingData/BraTS2021_00183/BraTS2021_00183_t1.nii.gz']\n",
      "55 183\n",
      "46 210\n",
      "0 137\n"
     ]
    },
    {
     "name": "stderr",
     "output_type": "stream",
     "text": [
      "\r",
      " 80%|███████▉  | 1000/1251 [19:22<05:03,  1.21s/it]"
     ]
    },
    {
     "name": "stdout",
     "output_type": "stream",
     "text": [
      "['/raid/jiang/projects/SubtleGAN/data/RSNA_ASNR_MICCAI_BraTS2021_TrainingData/BraTS2021_00218/BraTS2021_00218_t1.nii.gz']\n",
      "46 194\n",
      "37 221\n",
      "0 140\n"
     ]
    },
    {
     "name": "stderr",
     "output_type": "stream",
     "text": [
      "\r",
      " 80%|████████  | 1001/1251 [19:24<05:21,  1.28s/it]"
     ]
    },
    {
     "name": "stdout",
     "output_type": "stream",
     "text": [
      "['/raid/jiang/projects/SubtleGAN/data/RSNA_ASNR_MICCAI_BraTS2021_TrainingData/BraTS2021_00053/BraTS2021_00053_t1.nii.gz']\n",
      "51 191\n",
      "10 217\n",
      "2 146\n"
     ]
    },
    {
     "name": "stderr",
     "output_type": "stream",
     "text": [
      "\r",
      " 80%|████████  | 1002/1251 [19:25<05:11,  1.25s/it]"
     ]
    },
    {
     "name": "stdout",
     "output_type": "stream",
     "text": [
      "['/raid/jiang/projects/SubtleGAN/data/RSNA_ASNR_MICCAI_BraTS2021_TrainingData/BraTS2021_01344/BraTS2021_01344_t1.nii.gz']\n",
      "53 183\n",
      "64 214\n",
      "3 145\n"
     ]
    },
    {
     "name": "stderr",
     "output_type": "stream",
     "text": [
      "\r",
      " 80%|████████  | 1003/1251 [19:26<05:05,  1.23s/it]"
     ]
    },
    {
     "name": "stdout",
     "output_type": "stream",
     "text": [
      "['/raid/jiang/projects/SubtleGAN/data/RSNA_ASNR_MICCAI_BraTS2021_TrainingData/BraTS2021_00567/BraTS2021_00567_t1.nii.gz']\n",
      "53 185\n",
      "45 216\n",
      "1 141\n"
     ]
    },
    {
     "name": "stderr",
     "output_type": "stream",
     "text": [
      "\r",
      " 80%|████████  | 1004/1251 [19:27<05:00,  1.22s/it]"
     ]
    },
    {
     "name": "stdout",
     "output_type": "stream",
     "text": [
      "['/raid/jiang/projects/SubtleGAN/data/RSNA_ASNR_MICCAI_BraTS2021_TrainingData/BraTS2021_00246/BraTS2021_00246_t1.nii.gz']\n",
      "53 185\n",
      "40 218\n",
      "0 137\n"
     ]
    },
    {
     "name": "stderr",
     "output_type": "stream",
     "text": [
      "\r",
      " 80%|████████  | 1005/1251 [19:29<04:54,  1.20s/it]"
     ]
    },
    {
     "name": "stdout",
     "output_type": "stream",
     "text": [
      "['/raid/jiang/projects/SubtleGAN/data/RSNA_ASNR_MICCAI_BraTS2021_TrainingData/BraTS2021_01011/BraTS2021_01011_t1.nii.gz']\n",
      "55 182\n",
      "47 216\n",
      "0 137\n"
     ]
    },
    {
     "name": "stderr",
     "output_type": "stream",
     "text": [
      "\r",
      " 80%|████████  | 1006/1251 [19:30<04:49,  1.18s/it]"
     ]
    },
    {
     "name": "stdout",
     "output_type": "stream",
     "text": [
      "['/raid/jiang/projects/SubtleGAN/data/RSNA_ASNR_MICCAI_BraTS2021_TrainingData/BraTS2021_00683/BraTS2021_00683_t1.nii.gz']\n",
      "49 192\n",
      "33 213\n",
      "0 143\n"
     ]
    },
    {
     "name": "stderr",
     "output_type": "stream",
     "text": [
      "\r",
      " 80%|████████  | 1007/1251 [19:31<04:44,  1.17s/it]"
     ]
    },
    {
     "name": "stdout",
     "output_type": "stream",
     "text": [
      "['/raid/jiang/projects/SubtleGAN/data/RSNA_ASNR_MICCAI_BraTS2021_TrainingData/BraTS2021_01622/BraTS2021_01622_t1.nii.gz']\n",
      "56 180\n",
      "50 213\n",
      "2 135\n"
     ]
    },
    {
     "name": "stderr",
     "output_type": "stream",
     "text": [
      "\r",
      " 81%|████████  | 1008/1251 [19:32<04:51,  1.20s/it]"
     ]
    },
    {
     "name": "stdout",
     "output_type": "stream",
     "text": [
      "['/raid/jiang/projects/SubtleGAN/data/RSNA_ASNR_MICCAI_BraTS2021_TrainingData/BraTS2021_00680/BraTS2021_00680_t1.nii.gz']\n",
      "49 195\n",
      "29 212\n",
      "0 144\n",
      "['/raid/jiang/projects/SubtleGAN/data/RSNA_ASNR_MICCAI_BraTS2021_TrainingData/BraTS2021_01556/BraTS2021_01556_t1.nii.gz']\n"
     ]
    },
    {
     "name": "stderr",
     "output_type": "stream",
     "text": [
      "\r",
      " 81%|████████  | 1009/1251 [19:33<04:56,  1.22s/it]"
     ]
    },
    {
     "name": "stdout",
     "output_type": "stream",
     "text": [
      "50 184\n",
      "41 223\n",
      "0 141\n"
     ]
    },
    {
     "name": "stderr",
     "output_type": "stream",
     "text": [
      "\r",
      " 81%|████████  | 1010/1251 [19:35<04:54,  1.22s/it]"
     ]
    },
    {
     "name": "stdout",
     "output_type": "stream",
     "text": [
      "['/raid/jiang/projects/SubtleGAN/data/RSNA_ASNR_MICCAI_BraTS2021_TrainingData/BraTS2021_01191/BraTS2021_01191_t1.nii.gz']\n",
      "53 182\n",
      "42 215\n",
      "3 132\n"
     ]
    },
    {
     "name": "stderr",
     "output_type": "stream",
     "text": [
      "\r",
      " 81%|████████  | 1011/1251 [19:36<04:46,  1.20s/it]"
     ]
    },
    {
     "name": "stdout",
     "output_type": "stream",
     "text": [
      "['/raid/jiang/projects/SubtleGAN/data/RSNA_ASNR_MICCAI_BraTS2021_TrainingData/BraTS2021_00414/BraTS2021_00414_t1.nii.gz']\n",
      "54 185\n",
      "38 221\n",
      "0 142\n"
     ]
    },
    {
     "name": "stderr",
     "output_type": "stream",
     "text": [
      "\r",
      " 81%|████████  | 1012/1251 [19:37<04:48,  1.21s/it]"
     ]
    },
    {
     "name": "stdout",
     "output_type": "stream",
     "text": [
      "['/raid/jiang/projects/SubtleGAN/data/RSNA_ASNR_MICCAI_BraTS2021_TrainingData/BraTS2021_01432/BraTS2021_01432_t1.nii.gz']\n",
      "47 190\n",
      "45 211\n",
      "7 139\n"
     ]
    },
    {
     "name": "stderr",
     "output_type": "stream",
     "text": [
      "\r",
      " 81%|████████  | 1013/1251 [19:38<04:49,  1.22s/it]"
     ]
    },
    {
     "name": "stdout",
     "output_type": "stream",
     "text": [
      "['/raid/jiang/projects/SubtleGAN/data/RSNA_ASNR_MICCAI_BraTS2021_TrainingData/BraTS2021_01603/BraTS2021_01603_t1.nii.gz']\n",
      "46 192\n",
      "43 211\n",
      "0 139\n"
     ]
    },
    {
     "name": "stderr",
     "output_type": "stream",
     "text": [
      "\r",
      " 81%|████████  | 1014/1251 [19:39<04:42,  1.19s/it]"
     ]
    },
    {
     "name": "stdout",
     "output_type": "stream",
     "text": [
      "['/raid/jiang/projects/SubtleGAN/data/RSNA_ASNR_MICCAI_BraTS2021_TrainingData/BraTS2021_00062/BraTS2021_00062_t1.nii.gz']\n",
      "53 183\n",
      "42 215\n",
      "2 147\n"
     ]
    },
    {
     "name": "stderr",
     "output_type": "stream",
     "text": [
      "\r",
      " 81%|████████  | 1015/1251 [19:41<04:35,  1.17s/it]"
     ]
    },
    {
     "name": "stdout",
     "output_type": "stream",
     "text": [
      "['/raid/jiang/projects/SubtleGAN/data/RSNA_ASNR_MICCAI_BraTS2021_TrainingData/BraTS2021_01349/BraTS2021_01349_t1.nii.gz']\n",
      "52 184\n",
      "42 217\n",
      "0 142\n"
     ]
    },
    {
     "name": "stderr",
     "output_type": "stream",
     "text": [
      "\r",
      " 81%|████████  | 1016/1251 [19:42<04:29,  1.15s/it]"
     ]
    },
    {
     "name": "stdout",
     "output_type": "stream",
     "text": [
      "['/raid/jiang/projects/SubtleGAN/data/RSNA_ASNR_MICCAI_BraTS2021_TrainingData/BraTS2021_01567/BraTS2021_01567_t1.nii.gz']\n",
      "53 183\n",
      "52 212\n",
      "0 141\n"
     ]
    },
    {
     "name": "stderr",
     "output_type": "stream",
     "text": [
      "\r",
      " 81%|████████▏ | 1017/1251 [19:43<04:27,  1.14s/it]"
     ]
    },
    {
     "name": "stdout",
     "output_type": "stream",
     "text": [
      "['/raid/jiang/projects/SubtleGAN/data/RSNA_ASNR_MICCAI_BraTS2021_TrainingData/BraTS2021_00239/BraTS2021_00239_t1.nii.gz']\n",
      "46 192\n",
      "42 220\n",
      "1 139\n"
     ]
    },
    {
     "name": "stderr",
     "output_type": "stream",
     "text": [
      "\r",
      " 81%|████████▏ | 1018/1251 [19:44<04:22,  1.13s/it]"
     ]
    },
    {
     "name": "stdout",
     "output_type": "stream",
     "text": [
      "['/raid/jiang/projects/SubtleGAN/data/RSNA_ASNR_MICCAI_BraTS2021_TrainingData/BraTS2021_00298/BraTS2021_00298_t1.nii.gz']\n",
      "55 181\n",
      "44 215\n",
      "4 140\n"
     ]
    },
    {
     "name": "stderr",
     "output_type": "stream",
     "text": [
      "\r",
      " 81%|████████▏ | 1019/1251 [19:45<04:21,  1.13s/it]"
     ]
    },
    {
     "name": "stdout",
     "output_type": "stream",
     "text": [
      "['/raid/jiang/projects/SubtleGAN/data/RSNA_ASNR_MICCAI_BraTS2021_TrainingData/BraTS2021_01253/BraTS2021_01253_t1.nii.gz']\n",
      "57 180\n",
      "47 213\n",
      "0 136\n"
     ]
    },
    {
     "name": "stderr",
     "output_type": "stream",
     "text": [
      "\r",
      " 82%|████████▏ | 1020/1251 [19:46<04:20,  1.13s/it]"
     ]
    },
    {
     "name": "stdout",
     "output_type": "stream",
     "text": [
      "['/raid/jiang/projects/SubtleGAN/data/RSNA_ASNR_MICCAI_BraTS2021_TrainingData/BraTS2021_01278/BraTS2021_01278_t1.nii.gz']\n",
      "49 187\n",
      "44 212\n",
      "1 140\n"
     ]
    },
    {
     "name": "stderr",
     "output_type": "stream",
     "text": [
      "\r",
      " 82%|████████▏ | 1021/1251 [19:47<04:16,  1.11s/it]"
     ]
    },
    {
     "name": "stdout",
     "output_type": "stream",
     "text": [
      "['/raid/jiang/projects/SubtleGAN/data/RSNA_ASNR_MICCAI_BraTS2021_TrainingData/BraTS2021_00753/BraTS2021_00753_t1.nii.gz']\n",
      "55 186\n",
      "38 214\n",
      "1 127\n"
     ]
    },
    {
     "name": "stderr",
     "output_type": "stream",
     "text": [
      "\r",
      " 82%|████████▏ | 1022/1251 [19:48<04:18,  1.13s/it]"
     ]
    },
    {
     "name": "stdout",
     "output_type": "stream",
     "text": [
      "['/raid/jiang/projects/SubtleGAN/data/RSNA_ASNR_MICCAI_BraTS2021_TrainingData/BraTS2021_01089/BraTS2021_01089_t1.nii.gz']\n",
      "51 186\n",
      "48 216\n",
      "0 141\n"
     ]
    },
    {
     "name": "stderr",
     "output_type": "stream",
     "text": [
      "\r",
      " 82%|████████▏ | 1023/1251 [19:50<04:21,  1.15s/it]"
     ]
    },
    {
     "name": "stdout",
     "output_type": "stream",
     "text": [
      "['/raid/jiang/projects/SubtleGAN/data/RSNA_ASNR_MICCAI_BraTS2021_TrainingData/BraTS2021_01575/BraTS2021_01575_t1.nii.gz']\n",
      "51 185\n",
      "41 217\n",
      "0 139\n"
     ]
    },
    {
     "name": "stderr",
     "output_type": "stream",
     "text": [
      "\r",
      " 82%|████████▏ | 1024/1251 [19:51<04:22,  1.16s/it]"
     ]
    },
    {
     "name": "stdout",
     "output_type": "stream",
     "text": [
      "['/raid/jiang/projects/SubtleGAN/data/RSNA_ASNR_MICCAI_BraTS2021_TrainingData/BraTS2021_01275/BraTS2021_01275_t1.nii.gz']\n",
      "49 189\n",
      "41 214\n",
      "2 137\n"
     ]
    },
    {
     "name": "stderr",
     "output_type": "stream",
     "text": [
      "\r",
      " 82%|████████▏ | 1025/1251 [19:52<04:33,  1.21s/it]"
     ]
    },
    {
     "name": "stdout",
     "output_type": "stream",
     "text": [
      "['/raid/jiang/projects/SubtleGAN/data/RSNA_ASNR_MICCAI_BraTS2021_TrainingData/BraTS2021_00568/BraTS2021_00568_t1.nii.gz']\n",
      "41 194\n",
      "38 220\n",
      "2 147\n"
     ]
    },
    {
     "name": "stderr",
     "output_type": "stream",
     "text": [
      "\r",
      " 82%|████████▏ | 1026/1251 [19:53<04:46,  1.27s/it]"
     ]
    },
    {
     "name": "stdout",
     "output_type": "stream",
     "text": [
      "['/raid/jiang/projects/SubtleGAN/data/RSNA_ASNR_MICCAI_BraTS2021_TrainingData/BraTS2021_01070/BraTS2021_01070_t1.nii.gz']\n",
      "47 190\n",
      "39 219\n",
      "0 140\n"
     ]
    },
    {
     "name": "stderr",
     "output_type": "stream",
     "text": [
      "\r",
      " 82%|████████▏ | 1027/1251 [19:55<04:35,  1.23s/it]"
     ]
    },
    {
     "name": "stdout",
     "output_type": "stream",
     "text": [
      "['/raid/jiang/projects/SubtleGAN/data/RSNA_ASNR_MICCAI_BraTS2021_TrainingData/BraTS2021_01193/BraTS2021_01193_t1.nii.gz']\n",
      "51 184\n",
      "49 210\n",
      "3 136\n"
     ]
    },
    {
     "name": "stderr",
     "output_type": "stream",
     "text": [
      "\r",
      " 82%|████████▏ | 1028/1251 [19:56<04:26,  1.20s/it]"
     ]
    },
    {
     "name": "stdout",
     "output_type": "stream",
     "text": [
      "['/raid/jiang/projects/SubtleGAN/data/RSNA_ASNR_MICCAI_BraTS2021_TrainingData/BraTS2021_01471/BraTS2021_01471_t1.nii.gz']\n",
      "43 194\n",
      "45 213\n",
      "0 129\n"
     ]
    },
    {
     "name": "stderr",
     "output_type": "stream",
     "text": [
      "\r",
      " 82%|████████▏ | 1029/1251 [19:57<04:30,  1.22s/it]"
     ]
    },
    {
     "name": "stdout",
     "output_type": "stream",
     "text": [
      "['/raid/jiang/projects/SubtleGAN/data/RSNA_ASNR_MICCAI_BraTS2021_TrainingData/BraTS2021_01550/BraTS2021_01550_t1.nii.gz']\n",
      "50 185\n",
      "51 208\n",
      "0 136\n"
     ]
    },
    {
     "name": "stderr",
     "output_type": "stream",
     "text": [
      "\r",
      " 82%|████████▏ | 1030/1251 [19:58<04:24,  1.20s/it]"
     ]
    },
    {
     "name": "stdout",
     "output_type": "stream",
     "text": [
      "['/raid/jiang/projects/SubtleGAN/data/RSNA_ASNR_MICCAI_BraTS2021_TrainingData/BraTS2021_00184/BraTS2021_00184_t1.nii.gz']\n",
      "49 187\n",
      "41 217\n",
      "0 136\n"
     ]
    },
    {
     "name": "stderr",
     "output_type": "stream",
     "text": [
      "\r",
      " 82%|████████▏ | 1031/1251 [19:59<04:29,  1.23s/it]"
     ]
    },
    {
     "name": "stdout",
     "output_type": "stream",
     "text": [
      "['/raid/jiang/projects/SubtleGAN/data/RSNA_ASNR_MICCAI_BraTS2021_TrainingData/BraTS2021_01614/BraTS2021_01614_t1.nii.gz']\n",
      "50 188\n",
      "46 214\n",
      "0 149\n"
     ]
    },
    {
     "name": "stderr",
     "output_type": "stream",
     "text": [
      "\r",
      " 82%|████████▏ | 1032/1251 [20:00<04:14,  1.16s/it]"
     ]
    },
    {
     "name": "stdout",
     "output_type": "stream",
     "text": [
      "['/raid/jiang/projects/SubtleGAN/data/RSNA_ASNR_MICCAI_BraTS2021_TrainingData/BraTS2021_01323/BraTS2021_01323_t1.nii.gz']\n",
      "48 187\n",
      "65 209\n",
      "0 138\n"
     ]
    },
    {
     "name": "stderr",
     "output_type": "stream",
     "text": [
      "\r",
      " 83%|████████▎ | 1033/1251 [20:01<04:03,  1.12s/it]"
     ]
    },
    {
     "name": "stdout",
     "output_type": "stream",
     "text": [
      "['/raid/jiang/projects/SubtleGAN/data/RSNA_ASNR_MICCAI_BraTS2021_TrainingData/BraTS2021_00240/BraTS2021_00240_t1.nii.gz']\n",
      "51 185\n",
      "46 214\n",
      "0 140\n"
     ]
    },
    {
     "name": "stderr",
     "output_type": "stream",
     "text": [
      "\r",
      " 83%|████████▎ | 1034/1251 [20:03<04:12,  1.17s/it]"
     ]
    },
    {
     "name": "stdout",
     "output_type": "stream",
     "text": [
      "['/raid/jiang/projects/SubtleGAN/data/RSNA_ASNR_MICCAI_BraTS2021_TrainingData/BraTS2021_01150/BraTS2021_01150_t1.nii.gz']\n",
      "53 185\n",
      "37 218\n",
      "1 135\n"
     ]
    },
    {
     "name": "stderr",
     "output_type": "stream",
     "text": [
      "\r",
      " 83%|████████▎ | 1035/1251 [20:04<04:06,  1.14s/it]"
     ]
    },
    {
     "name": "stdout",
     "output_type": "stream",
     "text": [
      "['/raid/jiang/projects/SubtleGAN/data/RSNA_ASNR_MICCAI_BraTS2021_TrainingData/BraTS2021_01406/BraTS2021_01406_t1.nii.gz']\n",
      "53 184\n",
      "42 209\n",
      "0 136\n"
     ]
    },
    {
     "name": "stderr",
     "output_type": "stream",
     "text": [
      "\r",
      " 83%|████████▎ | 1036/1251 [20:05<04:05,  1.14s/it]"
     ]
    },
    {
     "name": "stdout",
     "output_type": "stream",
     "text": [
      "['/raid/jiang/projects/SubtleGAN/data/RSNA_ASNR_MICCAI_BraTS2021_TrainingData/BraTS2021_01502/BraTS2021_01502_t1.nii.gz']\n",
      "51 186\n",
      "46 210\n",
      "0 140\n"
     ]
    },
    {
     "name": "stderr",
     "output_type": "stream",
     "text": [
      "\r",
      " 83%|████████▎ | 1037/1251 [20:06<04:01,  1.13s/it]"
     ]
    },
    {
     "name": "stdout",
     "output_type": "stream",
     "text": [
      "['/raid/jiang/projects/SubtleGAN/data/RSNA_ASNR_MICCAI_BraTS2021_TrainingData/BraTS2021_00273/BraTS2021_00273_t1.nii.gz']\n",
      "51 186\n",
      "49 209\n",
      "6 142\n"
     ]
    },
    {
     "name": "stderr",
     "output_type": "stream",
     "text": [
      "\r",
      " 83%|████████▎ | 1038/1251 [20:07<04:01,  1.13s/it]"
     ]
    },
    {
     "name": "stdout",
     "output_type": "stream",
     "text": [
      "['/raid/jiang/projects/SubtleGAN/data/RSNA_ASNR_MICCAI_BraTS2021_TrainingData/BraTS2021_01489/BraTS2021_01489_t1.nii.gz']\n",
      "49 187\n",
      "42 214\n",
      "1 142\n"
     ]
    },
    {
     "name": "stderr",
     "output_type": "stream",
     "text": [
      "\r",
      " 83%|████████▎ | 1039/1251 [20:08<04:07,  1.17s/it]"
     ]
    },
    {
     "name": "stdout",
     "output_type": "stream",
     "text": [
      "['/raid/jiang/projects/SubtleGAN/data/RSNA_ASNR_MICCAI_BraTS2021_TrainingData/BraTS2021_00452/BraTS2021_00452_t1.nii.gz']\n",
      "40 192\n",
      "40 216\n",
      "0 134\n"
     ]
    },
    {
     "name": "stderr",
     "output_type": "stream",
     "text": [
      "\r",
      " 83%|████████▎ | 1040/1251 [20:10<04:16,  1.22s/it]"
     ]
    },
    {
     "name": "stdout",
     "output_type": "stream",
     "text": [
      "['/raid/jiang/projects/SubtleGAN/data/RSNA_ASNR_MICCAI_BraTS2021_TrainingData/BraTS2021_01601/BraTS2021_01601_t1.nii.gz']\n",
      "49 189\n",
      "46 217\n",
      "0 142\n"
     ]
    },
    {
     "name": "stderr",
     "output_type": "stream",
     "text": [
      "\r",
      " 83%|████████▎ | 1041/1251 [20:11<03:58,  1.14s/it]"
     ]
    },
    {
     "name": "stdout",
     "output_type": "stream",
     "text": [
      "['/raid/jiang/projects/SubtleGAN/data/RSNA_ASNR_MICCAI_BraTS2021_TrainingData/BraTS2021_01168/BraTS2021_01168_t1.nii.gz']\n",
      "59 175\n",
      "47 180\n",
      "27 136\n"
     ]
    },
    {
     "name": "stderr",
     "output_type": "stream",
     "text": [
      "\r",
      " 83%|████████▎ | 1042/1251 [20:12<03:43,  1.07s/it]"
     ]
    },
    {
     "name": "stdout",
     "output_type": "stream",
     "text": [
      "['/raid/jiang/projects/SubtleGAN/data/RSNA_ASNR_MICCAI_BraTS2021_TrainingData/BraTS2021_00373/BraTS2021_00373_t1.nii.gz']\n",
      "49 187\n",
      "51 214\n",
      "0 141\n"
     ]
    },
    {
     "name": "stderr",
     "output_type": "stream",
     "text": [
      "\r",
      " 83%|████████▎ | 1043/1251 [20:13<03:39,  1.05s/it]"
     ]
    },
    {
     "name": "stdout",
     "output_type": "stream",
     "text": [
      "['/raid/jiang/projects/SubtleGAN/data/RSNA_ASNR_MICCAI_BraTS2021_TrainingData/BraTS2021_00392/BraTS2021_00392_t1.nii.gz']\n",
      "53 183\n",
      "65 216\n",
      "4 140\n"
     ]
    },
    {
     "name": "stderr",
     "output_type": "stream",
     "text": [
      "\r",
      " 83%|████████▎ | 1044/1251 [20:14<03:44,  1.08s/it]"
     ]
    },
    {
     "name": "stdout",
     "output_type": "stream",
     "text": [
      "['/raid/jiang/projects/SubtleGAN/data/RSNA_ASNR_MICCAI_BraTS2021_TrainingData/BraTS2021_00228/BraTS2021_00228_t1.nii.gz']\n",
      "46 190\n",
      "49 211\n",
      "0 139\n"
     ]
    },
    {
     "name": "stderr",
     "output_type": "stream",
     "text": [
      "\r",
      " 84%|████████▎ | 1045/1251 [20:15<03:47,  1.11s/it]"
     ]
    },
    {
     "name": "stdout",
     "output_type": "stream",
     "text": [
      "['/raid/jiang/projects/SubtleGAN/data/RSNA_ASNR_MICCAI_BraTS2021_TrainingData/BraTS2021_01522/BraTS2021_01522_t1.nii.gz']\n",
      "48 192\n",
      "43 210\n",
      "0 136\n"
     ]
    },
    {
     "name": "stderr",
     "output_type": "stream",
     "text": [
      "\r",
      " 84%|████████▎ | 1046/1251 [20:16<03:57,  1.16s/it]"
     ]
    },
    {
     "name": "stdout",
     "output_type": "stream",
     "text": [
      "['/raid/jiang/projects/SubtleGAN/data/RSNA_ASNR_MICCAI_BraTS2021_TrainingData/BraTS2021_01570/BraTS2021_01570_t1.nii.gz']\n",
      "46 191\n",
      "42 219\n",
      "0 134\n"
     ]
    },
    {
     "name": "stderr",
     "output_type": "stream",
     "text": [
      "\r",
      " 84%|████████▎ | 1047/1251 [20:17<03:56,  1.16s/it]"
     ]
    },
    {
     "name": "stdout",
     "output_type": "stream",
     "text": [
      "['/raid/jiang/projects/SubtleGAN/data/RSNA_ASNR_MICCAI_BraTS2021_TrainingData/BraTS2021_00260/BraTS2021_00260_t1.nii.gz']\n",
      "40 186\n",
      "54 215\n",
      "0 142\n"
     ]
    },
    {
     "name": "stderr",
     "output_type": "stream",
     "text": [
      "\r",
      " 84%|████████▍ | 1048/1251 [20:19<03:59,  1.18s/it]"
     ]
    },
    {
     "name": "stdout",
     "output_type": "stream",
     "text": [
      "['/raid/jiang/projects/SubtleGAN/data/RSNA_ASNR_MICCAI_BraTS2021_TrainingData/BraTS2021_00353/BraTS2021_00353_t1.nii.gz']\n",
      "51 185\n",
      "38 218\n",
      "0 140\n"
     ]
    },
    {
     "name": "stderr",
     "output_type": "stream",
     "text": [
      "\r",
      " 84%|████████▍ | 1049/1251 [20:20<03:56,  1.17s/it]"
     ]
    },
    {
     "name": "stdout",
     "output_type": "stream",
     "text": [
      "['/raid/jiang/projects/SubtleGAN/data/RSNA_ASNR_MICCAI_BraTS2021_TrainingData/BraTS2021_01628/BraTS2021_01628_t1.nii.gz']\n",
      "54 182\n",
      "47 215\n",
      "8 138\n"
     ]
    },
    {
     "name": "stderr",
     "output_type": "stream",
     "text": [
      "\r",
      " 84%|████████▍ | 1050/1251 [20:21<03:52,  1.16s/it]"
     ]
    },
    {
     "name": "stdout",
     "output_type": "stream",
     "text": [
      "['/raid/jiang/projects/SubtleGAN/data/RSNA_ASNR_MICCAI_BraTS2021_TrainingData/BraTS2021_01280/BraTS2021_01280_t1.nii.gz']\n",
      "46 190\n",
      "43 214\n",
      "0 142\n"
     ]
    },
    {
     "name": "stderr",
     "output_type": "stream",
     "text": [
      "\r",
      " 84%|████████▍ | 1051/1251 [20:22<04:03,  1.22s/it]"
     ]
    },
    {
     "name": "stdout",
     "output_type": "stream",
     "text": [
      "['/raid/jiang/projects/SubtleGAN/data/RSNA_ASNR_MICCAI_BraTS2021_TrainingData/BraTS2021_01012/BraTS2021_01012_t1.nii.gz']\n",
      "49 188\n",
      "42 220\n",
      "0 139\n"
     ]
    },
    {
     "name": "stderr",
     "output_type": "stream",
     "text": [
      "\r",
      " 84%|████████▍ | 1052/1251 [20:24<04:05,  1.23s/it]"
     ]
    },
    {
     "name": "stdout",
     "output_type": "stream",
     "text": [
      "['/raid/jiang/projects/SubtleGAN/data/RSNA_ASNR_MICCAI_BraTS2021_TrainingData/BraTS2021_00687/BraTS2021_00687_t1.nii.gz']\n",
      "55 188\n",
      "46 207\n",
      "0 147\n"
     ]
    },
    {
     "name": "stderr",
     "output_type": "stream",
     "text": [
      "\r",
      " 84%|████████▍ | 1053/1251 [20:25<04:13,  1.28s/it]"
     ]
    },
    {
     "name": "stdout",
     "output_type": "stream",
     "text": [
      "['/raid/jiang/projects/SubtleGAN/data/RSNA_ASNR_MICCAI_BraTS2021_TrainingData/BraTS2021_01543/BraTS2021_01543_t1.nii.gz']\n",
      "52 189\n",
      "37 217\n",
      "0 143\n"
     ]
    },
    {
     "name": "stderr",
     "output_type": "stream",
     "text": [
      "\r",
      " 84%|████████▍ | 1054/1251 [20:26<04:00,  1.22s/it]"
     ]
    },
    {
     "name": "stdout",
     "output_type": "stream",
     "text": [
      "['/raid/jiang/projects/SubtleGAN/data/RSNA_ASNR_MICCAI_BraTS2021_TrainingData/BraTS2021_01180/BraTS2021_01180_t1.nii.gz']\n",
      "57 177\n",
      "38 210\n",
      "10 135\n"
     ]
    },
    {
     "name": "stderr",
     "output_type": "stream",
     "text": [
      "\r",
      " 84%|████████▍ | 1055/1251 [20:27<03:54,  1.20s/it]"
     ]
    },
    {
     "name": "stdout",
     "output_type": "stream",
     "text": [
      "['/raid/jiang/projects/SubtleGAN/data/RSNA_ASNR_MICCAI_BraTS2021_TrainingData/BraTS2021_01112/BraTS2021_01112_t1.nii.gz']\n",
      "52 184\n",
      "42 214\n",
      "0 151\n"
     ]
    },
    {
     "name": "stderr",
     "output_type": "stream",
     "text": [
      "\r",
      " 84%|████████▍ | 1056/1251 [20:28<03:50,  1.18s/it]"
     ]
    },
    {
     "name": "stdout",
     "output_type": "stream",
     "text": [
      "['/raid/jiang/projects/SubtleGAN/data/RSNA_ASNR_MICCAI_BraTS2021_TrainingData/BraTS2021_01013/BraTS2021_01013_t1.nii.gz']\n",
      "50 187\n",
      "46 217\n",
      "0 136\n"
     ]
    },
    {
     "name": "stderr",
     "output_type": "stream",
     "text": [
      "\r",
      " 84%|████████▍ | 1057/1251 [20:30<03:52,  1.20s/it]"
     ]
    },
    {
     "name": "stdout",
     "output_type": "stream",
     "text": [
      "['/raid/jiang/projects/SubtleGAN/data/RSNA_ASNR_MICCAI_BraTS2021_TrainingData/BraTS2021_00638/BraTS2021_00638_t1.nii.gz']\n",
      "50 193\n",
      "46 213\n",
      "5 152\n"
     ]
    },
    {
     "name": "stderr",
     "output_type": "stream",
     "text": [
      "\r",
      " 85%|████████▍ | 1058/1251 [20:31<03:47,  1.18s/it]"
     ]
    },
    {
     "name": "stdout",
     "output_type": "stream",
     "text": [
      "['/raid/jiang/projects/SubtleGAN/data/RSNA_ASNR_MICCAI_BraTS2021_TrainingData/BraTS2021_00121/BraTS2021_00121_t1.nii.gz']\n",
      "50 186\n",
      "47 208\n",
      "7 136\n"
     ]
    },
    {
     "name": "stderr",
     "output_type": "stream",
     "text": [
      "\r",
      " 85%|████████▍ | 1059/1251 [20:32<03:47,  1.19s/it]"
     ]
    },
    {
     "name": "stdout",
     "output_type": "stream",
     "text": [
      "['/raid/jiang/projects/SubtleGAN/data/RSNA_ASNR_MICCAI_BraTS2021_TrainingData/BraTS2021_00167/BraTS2021_00167_t1.nii.gz']\n",
      "54 182\n",
      "42 212\n",
      "0 138\n"
     ]
    },
    {
     "name": "stderr",
     "output_type": "stream",
     "text": [
      "\r",
      " 85%|████████▍ | 1060/1251 [20:33<03:54,  1.23s/it]"
     ]
    },
    {
     "name": "stdout",
     "output_type": "stream",
     "text": [
      "['/raid/jiang/projects/SubtleGAN/data/RSNA_ASNR_MICCAI_BraTS2021_TrainingData/BraTS2021_00090/BraTS2021_00090_t1.nii.gz']\n",
      "54 188\n",
      "36 212\n",
      "3 142\n"
     ]
    },
    {
     "name": "stderr",
     "output_type": "stream",
     "text": [
      "\r",
      " 85%|████████▍ | 1061/1251 [20:34<03:52,  1.22s/it]"
     ]
    },
    {
     "name": "stdout",
     "output_type": "stream",
     "text": [
      "['/raid/jiang/projects/SubtleGAN/data/RSNA_ASNR_MICCAI_BraTS2021_TrainingData/BraTS2021_00650/BraTS2021_00650_t1.nii.gz']\n",
      "54 186\n",
      "57 217\n",
      "0 145\n"
     ]
    },
    {
     "name": "stderr",
     "output_type": "stream",
     "text": [
      "\r",
      " 85%|████████▍ | 1062/1251 [20:36<03:53,  1.23s/it]"
     ]
    },
    {
     "name": "stdout",
     "output_type": "stream",
     "text": [
      "['/raid/jiang/projects/SubtleGAN/data/RSNA_ASNR_MICCAI_BraTS2021_TrainingData/BraTS2021_01586/BraTS2021_01586_t1.nii.gz']\n",
      "53 185\n",
      "48 216\n",
      "0 149\n",
      "['/raid/jiang/projects/SubtleGAN/data/RSNA_ASNR_MICCAI_BraTS2021_TrainingData/BraTS2021_01361/BraTS2021_01361_t1.nii.gz']\n"
     ]
    },
    {
     "name": "stderr",
     "output_type": "stream",
     "text": [
      "\r",
      " 85%|████████▍ | 1063/1251 [20:37<03:48,  1.22s/it]"
     ]
    },
    {
     "name": "stdout",
     "output_type": "stream",
     "text": [
      "50 187\n",
      "41 217\n",
      "0 143\n"
     ]
    },
    {
     "name": "stderr",
     "output_type": "stream",
     "text": [
      "\r",
      " 85%|████████▌ | 1064/1251 [20:38<03:47,  1.22s/it]"
     ]
    },
    {
     "name": "stdout",
     "output_type": "stream",
     "text": [
      "['/raid/jiang/projects/SubtleGAN/data/RSNA_ASNR_MICCAI_BraTS2021_TrainingData/BraTS2021_00049/BraTS2021_00049_t1.nii.gz']\n",
      "48 194\n",
      "39 204\n",
      "9 132\n"
     ]
    },
    {
     "name": "stderr",
     "output_type": "stream",
     "text": [
      "\r",
      " 85%|████████▌ | 1065/1251 [20:39<03:40,  1.18s/it]"
     ]
    },
    {
     "name": "stdout",
     "output_type": "stream",
     "text": [
      "['/raid/jiang/projects/SubtleGAN/data/RSNA_ASNR_MICCAI_BraTS2021_TrainingData/BraTS2021_01362/BraTS2021_01362_t1.nii.gz']\n",
      "50 187\n",
      "56 204\n",
      "0 141\n"
     ]
    },
    {
     "name": "stderr",
     "output_type": "stream",
     "text": [
      "\r",
      " 85%|████████▌ | 1066/1251 [20:40<03:31,  1.14s/it]"
     ]
    },
    {
     "name": "stdout",
     "output_type": "stream",
     "text": [
      "['/raid/jiang/projects/SubtleGAN/data/RSNA_ASNR_MICCAI_BraTS2021_TrainingData/BraTS2021_00146/BraTS2021_00146_t1.nii.gz']\n",
      "52 185\n",
      "48 216\n",
      "1 143\n"
     ]
    },
    {
     "name": "stderr",
     "output_type": "stream",
     "text": [
      "\r",
      " 85%|████████▌ | 1067/1251 [20:41<03:34,  1.16s/it]"
     ]
    },
    {
     "name": "stdout",
     "output_type": "stream",
     "text": [
      "['/raid/jiang/projects/SubtleGAN/data/RSNA_ASNR_MICCAI_BraTS2021_TrainingData/BraTS2021_01190/BraTS2021_01190_t1.nii.gz']\n",
      "51 186\n",
      "37 218\n",
      "5 135\n"
     ]
    },
    {
     "name": "stderr",
     "output_type": "stream",
     "text": [
      "\r",
      " 85%|████████▌ | 1068/1251 [20:43<03:36,  1.18s/it]"
     ]
    },
    {
     "name": "stdout",
     "output_type": "stream",
     "text": [
      "['/raid/jiang/projects/SubtleGAN/data/RSNA_ASNR_MICCAI_BraTS2021_TrainingData/BraTS2021_01423/BraTS2021_01423_t1.nii.gz']\n",
      "50 190\n",
      "38 217\n",
      "12 139\n"
     ]
    },
    {
     "name": "stderr",
     "output_type": "stream",
     "text": [
      "\r",
      " 85%|████████▌ | 1069/1251 [20:44<03:32,  1.17s/it]"
     ]
    },
    {
     "name": "stdout",
     "output_type": "stream",
     "text": [
      "['/raid/jiang/projects/SubtleGAN/data/RSNA_ASNR_MICCAI_BraTS2021_TrainingData/BraTS2021_01355/BraTS2021_01355_t1.nii.gz']\n",
      "51 186\n",
      "45 210\n",
      "0 137\n"
     ]
    },
    {
     "name": "stderr",
     "output_type": "stream",
     "text": [
      "\r",
      " 86%|████████▌ | 1070/1251 [20:45<03:24,  1.13s/it]"
     ]
    },
    {
     "name": "stdout",
     "output_type": "stream",
     "text": [
      "['/raid/jiang/projects/SubtleGAN/data/RSNA_ASNR_MICCAI_BraTS2021_TrainingData/BraTS2021_01509/BraTS2021_01509_t1.nii.gz']\n",
      "56 181\n",
      "55 213\n",
      "0 131\n"
     ]
    },
    {
     "name": "stderr",
     "output_type": "stream",
     "text": [
      "\r",
      " 86%|████████▌ | 1071/1251 [20:46<03:25,  1.14s/it]"
     ]
    },
    {
     "name": "stdout",
     "output_type": "stream",
     "text": [
      "['/raid/jiang/projects/SubtleGAN/data/RSNA_ASNR_MICCAI_BraTS2021_TrainingData/BraTS2021_00818/BraTS2021_00818_t1.nii.gz']\n",
      "44 190\n",
      "47 213\n",
      "0 150\n"
     ]
    },
    {
     "name": "stderr",
     "output_type": "stream",
     "text": [
      "\r",
      " 86%|████████▌ | 1072/1251 [20:47<03:30,  1.17s/it]"
     ]
    },
    {
     "name": "stdout",
     "output_type": "stream",
     "text": [
      "['/raid/jiang/projects/SubtleGAN/data/RSNA_ASNR_MICCAI_BraTS2021_TrainingData/BraTS2021_00206/BraTS2021_00206_t1.nii.gz']\n",
      "50 186\n",
      "39 215\n",
      "0 139\n"
     ]
    },
    {
     "name": "stderr",
     "output_type": "stream",
     "text": [
      "\r",
      " 86%|████████▌ | 1073/1251 [20:48<03:27,  1.17s/it]"
     ]
    },
    {
     "name": "stdout",
     "output_type": "stream",
     "text": [
      "['/raid/jiang/projects/SubtleGAN/data/RSNA_ASNR_MICCAI_BraTS2021_TrainingData/BraTS2021_01020/BraTS2021_01020_t1.nii.gz']\n",
      "51 190\n",
      "47 216\n",
      "0 136\n"
     ]
    },
    {
     "name": "stderr",
     "output_type": "stream",
     "text": [
      "\r",
      " 86%|████████▌ | 1074/1251 [20:50<03:32,  1.20s/it]"
     ]
    },
    {
     "name": "stdout",
     "output_type": "stream",
     "text": [
      "['/raid/jiang/projects/SubtleGAN/data/RSNA_ASNR_MICCAI_BraTS2021_TrainingData/BraTS2021_01576/BraTS2021_01576_t1.nii.gz']\n",
      "53 183\n",
      "39 213\n",
      "0 142\n"
     ]
    },
    {
     "name": "stderr",
     "output_type": "stream",
     "text": [
      "\r",
      " 86%|████████▌ | 1075/1251 [20:51<03:25,  1.17s/it]"
     ]
    },
    {
     "name": "stdout",
     "output_type": "stream",
     "text": [
      "['/raid/jiang/projects/SubtleGAN/data/RSNA_ASNR_MICCAI_BraTS2021_TrainingData/BraTS2021_00022/BraTS2021_00022_t1.nii.gz']\n",
      "54 189\n",
      "45 210\n",
      "18 146\n"
     ]
    },
    {
     "name": "stderr",
     "output_type": "stream",
     "text": [
      "\r",
      " 86%|████████▌ | 1076/1251 [20:52<03:19,  1.14s/it]"
     ]
    },
    {
     "name": "stdout",
     "output_type": "stream",
     "text": [
      "['/raid/jiang/projects/SubtleGAN/data/RSNA_ASNR_MICCAI_BraTS2021_TrainingData/BraTS2021_01051/BraTS2021_01051_t1.nii.gz']\n",
      "49 187\n",
      "46 213\n",
      "2 140\n"
     ]
    },
    {
     "name": "stderr",
     "output_type": "stream",
     "text": [
      "\r",
      " 86%|████████▌ | 1077/1251 [20:53<03:17,  1.13s/it]"
     ]
    },
    {
     "name": "stdout",
     "output_type": "stream",
     "text": [
      "['/raid/jiang/projects/SubtleGAN/data/RSNA_ASNR_MICCAI_BraTS2021_TrainingData/BraTS2021_01661/BraTS2021_01661_t1.nii.gz']\n",
      "55 182\n",
      "40 183\n",
      "10 136\n"
     ]
    },
    {
     "name": "stderr",
     "output_type": "stream",
     "text": [
      "\r",
      " 86%|████████▌ | 1078/1251 [20:54<03:15,  1.13s/it]"
     ]
    },
    {
     "name": "stdout",
     "output_type": "stream",
     "text": [
      "['/raid/jiang/projects/SubtleGAN/data/RSNA_ASNR_MICCAI_BraTS2021_TrainingData/BraTS2021_00506/BraTS2021_00506_t1.nii.gz']\n",
      "52 193\n",
      "33 214\n",
      "3 147\n"
     ]
    },
    {
     "name": "stderr",
     "output_type": "stream",
     "text": [
      "\r",
      " 86%|████████▋ | 1079/1251 [20:55<03:24,  1.19s/it]"
     ]
    },
    {
     "name": "stdout",
     "output_type": "stream",
     "text": [
      "['/raid/jiang/projects/SubtleGAN/data/RSNA_ASNR_MICCAI_BraTS2021_TrainingData/BraTS2021_00352/BraTS2021_00352_t1.nii.gz']\n",
      "50 186\n",
      "49 212\n",
      "1 133\n"
     ]
    },
    {
     "name": "stderr",
     "output_type": "stream",
     "text": [
      "\r",
      " 86%|████████▋ | 1080/1251 [20:57<03:19,  1.17s/it]"
     ]
    },
    {
     "name": "stdout",
     "output_type": "stream",
     "text": [
      "['/raid/jiang/projects/SubtleGAN/data/RSNA_ASNR_MICCAI_BraTS2021_TrainingData/BraTS2021_01487/BraTS2021_01487_t1.nii.gz']\n",
      "53 185\n",
      "46 205\n",
      "4 141\n"
     ]
    },
    {
     "name": "stderr",
     "output_type": "stream",
     "text": [
      "\r",
      " 86%|████████▋ | 1081/1251 [20:58<03:17,  1.16s/it]"
     ]
    },
    {
     "name": "stdout",
     "output_type": "stream",
     "text": [
      "['/raid/jiang/projects/SubtleGAN/data/RSNA_ASNR_MICCAI_BraTS2021_TrainingData/BraTS2021_01205/BraTS2021_01205_t1.nii.gz']\n",
      "51 183\n",
      "42 216\n",
      "0 139\n"
     ]
    },
    {
     "name": "stderr",
     "output_type": "stream",
     "text": [
      "\r",
      " 86%|████████▋ | 1082/1251 [20:59<03:18,  1.17s/it]"
     ]
    },
    {
     "name": "stdout",
     "output_type": "stream",
     "text": [
      "['/raid/jiang/projects/SubtleGAN/data/RSNA_ASNR_MICCAI_BraTS2021_TrainingData/BraTS2021_01290/BraTS2021_01290_t1.nii.gz']\n",
      "45 194\n",
      "47 210\n",
      "0 130\n"
     ]
    },
    {
     "name": "stderr",
     "output_type": "stream",
     "text": [
      "\r",
      " 87%|████████▋ | 1083/1251 [21:00<03:21,  1.20s/it]"
     ]
    },
    {
     "name": "stdout",
     "output_type": "stream",
     "text": [
      "['/raid/jiang/projects/SubtleGAN/data/RSNA_ASNR_MICCAI_BraTS2021_TrainingData/BraTS2021_01088/BraTS2021_01088_t1.nii.gz']\n",
      "49 186\n",
      "43 217\n",
      "0 139\n"
     ]
    },
    {
     "name": "stderr",
     "output_type": "stream",
     "text": [
      "\r",
      " 87%|████████▋ | 1084/1251 [21:01<03:20,  1.20s/it]"
     ]
    },
    {
     "name": "stdout",
     "output_type": "stream",
     "text": [
      "['/raid/jiang/projects/SubtleGAN/data/RSNA_ASNR_MICCAI_BraTS2021_TrainingData/BraTS2021_00590/BraTS2021_00590_t1.nii.gz']\n",
      "55 181\n",
      "50 211\n",
      "0 135\n"
     ]
    },
    {
     "name": "stderr",
     "output_type": "stream",
     "text": [
      "\r",
      " 87%|████████▋ | 1085/1251 [21:02<03:07,  1.13s/it]"
     ]
    },
    {
     "name": "stdout",
     "output_type": "stream",
     "text": [
      "['/raid/jiang/projects/SubtleGAN/data/RSNA_ASNR_MICCAI_BraTS2021_TrainingData/BraTS2021_00366/BraTS2021_00366_t1.nii.gz']\n",
      "53 185\n",
      "47 215\n",
      "0 139\n"
     ]
    },
    {
     "name": "stderr",
     "output_type": "stream",
     "text": [
      "\r",
      " 87%|████████▋ | 1086/1251 [21:03<03:06,  1.13s/it]"
     ]
    },
    {
     "name": "stdout",
     "output_type": "stream",
     "text": [
      "['/raid/jiang/projects/SubtleGAN/data/RSNA_ASNR_MICCAI_BraTS2021_TrainingData/BraTS2021_00242/BraTS2021_00242_t1.nii.gz']\n",
      "51 188\n",
      "45 216\n",
      "4 143\n"
     ]
    },
    {
     "name": "stderr",
     "output_type": "stream",
     "text": [
      "\r",
      " 87%|████████▋ | 1087/1251 [21:05<03:06,  1.14s/it]"
     ]
    },
    {
     "name": "stdout",
     "output_type": "stream",
     "text": [
      "['/raid/jiang/projects/SubtleGAN/data/RSNA_ASNR_MICCAI_BraTS2021_TrainingData/BraTS2021_01177/BraTS2021_01177_t1.nii.gz']\n",
      "57 182\n",
      "44 206\n",
      "8 135\n"
     ]
    },
    {
     "name": "stderr",
     "output_type": "stream",
     "text": [
      "\r",
      " 87%|████████▋ | 1088/1251 [21:06<03:06,  1.15s/it]"
     ]
    },
    {
     "name": "stdout",
     "output_type": "stream",
     "text": [
      "['/raid/jiang/projects/SubtleGAN/data/RSNA_ASNR_MICCAI_BraTS2021_TrainingData/BraTS2021_00351/BraTS2021_00351_t1.nii.gz']\n",
      "50 186\n",
      "36 221\n",
      "0 138\n"
     ]
    },
    {
     "name": "stderr",
     "output_type": "stream",
     "text": [
      "\r",
      " 87%|████████▋ | 1089/1251 [21:07<03:06,  1.15s/it]"
     ]
    },
    {
     "name": "stdout",
     "output_type": "stream",
     "text": [
      "['/raid/jiang/projects/SubtleGAN/data/RSNA_ASNR_MICCAI_BraTS2021_TrainingData/BraTS2021_01421/BraTS2021_01421_t1.nii.gz']\n",
      "51 187\n",
      "51 209\n",
      "10 141\n"
     ]
    },
    {
     "name": "stderr",
     "output_type": "stream",
     "text": [
      "\r",
      " 87%|████████▋ | 1090/1251 [21:08<03:04,  1.15s/it]"
     ]
    },
    {
     "name": "stdout",
     "output_type": "stream",
     "text": [
      "['/raid/jiang/projects/SubtleGAN/data/RSNA_ASNR_MICCAI_BraTS2021_TrainingData/BraTS2021_00773/BraTS2021_00773_t1.nii.gz']\n",
      "49 187\n",
      "43 205\n",
      "5 148\n"
     ]
    },
    {
     "name": "stderr",
     "output_type": "stream",
     "text": [
      "\r",
      " 87%|████████▋ | 1091/1251 [21:09<03:01,  1.13s/it]"
     ]
    },
    {
     "name": "stdout",
     "output_type": "stream",
     "text": [
      "['/raid/jiang/projects/SubtleGAN/data/RSNA_ASNR_MICCAI_BraTS2021_TrainingData/BraTS2021_01031/BraTS2021_01031_t1.nii.gz']\n",
      "50 186\n",
      "44 217\n",
      "0 138\n"
     ]
    },
    {
     "name": "stderr",
     "output_type": "stream",
     "text": [
      "\r",
      " 87%|████████▋ | 1092/1251 [21:10<03:07,  1.18s/it]"
     ]
    },
    {
     "name": "stdout",
     "output_type": "stream",
     "text": [
      "['/raid/jiang/projects/SubtleGAN/data/RSNA_ASNR_MICCAI_BraTS2021_TrainingData/BraTS2021_01019/BraTS2021_01019_t1.nii.gz']\n",
      "45 192\n",
      "42 218\n",
      "0 144\n"
     ]
    },
    {
     "name": "stderr",
     "output_type": "stream",
     "text": [
      "\r",
      " 87%|████████▋ | 1093/1251 [21:12<03:09,  1.20s/it]"
     ]
    },
    {
     "name": "stdout",
     "output_type": "stream",
     "text": [
      "['/raid/jiang/projects/SubtleGAN/data/RSNA_ASNR_MICCAI_BraTS2021_TrainingData/BraTS2021_01506/BraTS2021_01506_t1.nii.gz']\n",
      "51 185\n",
      "42 215\n",
      "1 136\n"
     ]
    },
    {
     "name": "stderr",
     "output_type": "stream",
     "text": [
      "\r",
      " 87%|████████▋ | 1094/1251 [21:13<03:05,  1.18s/it]"
     ]
    },
    {
     "name": "stdout",
     "output_type": "stream",
     "text": [
      "['/raid/jiang/projects/SubtleGAN/data/RSNA_ASNR_MICCAI_BraTS2021_TrainingData/BraTS2021_00211/BraTS2021_00211_t1.nii.gz']\n",
      "47 189\n",
      "47 213\n",
      "0 140\n"
     ]
    },
    {
     "name": "stderr",
     "output_type": "stream",
     "text": [
      "\r",
      " 88%|████████▊ | 1095/1251 [21:14<03:09,  1.21s/it]"
     ]
    },
    {
     "name": "stdout",
     "output_type": "stream",
     "text": [
      "['/raid/jiang/projects/SubtleGAN/data/RSNA_ASNR_MICCAI_BraTS2021_TrainingData/BraTS2021_00201/BraTS2021_00201_t1.nii.gz']\n",
      "46 189\n",
      "46 215\n",
      "0 141\n"
     ]
    },
    {
     "name": "stderr",
     "output_type": "stream",
     "text": [
      "\r",
      " 88%|████████▊ | 1096/1251 [21:15<03:03,  1.18s/it]"
     ]
    },
    {
     "name": "stdout",
     "output_type": "stream",
     "text": [
      "['/raid/jiang/projects/SubtleGAN/data/RSNA_ASNR_MICCAI_BraTS2021_TrainingData/BraTS2021_00035/BraTS2021_00035_t1.nii.gz']\n",
      "52 186\n",
      "39 208\n",
      "13 141\n"
     ]
    },
    {
     "name": "stderr",
     "output_type": "stream",
     "text": [
      "\r",
      " 88%|████████▊ | 1097/1251 [21:16<03:04,  1.20s/it]"
     ]
    },
    {
     "name": "stdout",
     "output_type": "stream",
     "text": [
      "['/raid/jiang/projects/SubtleGAN/data/RSNA_ASNR_MICCAI_BraTS2021_TrainingData/BraTS2021_00002/BraTS2021_00002_t1.nii.gz']\n",
      "54 186\n",
      "38 211\n",
      "10 144\n"
     ]
    },
    {
     "name": "stderr",
     "output_type": "stream",
     "text": [
      "\r",
      " 88%|████████▊ | 1098/1251 [21:18<03:11,  1.25s/it]"
     ]
    },
    {
     "name": "stdout",
     "output_type": "stream",
     "text": [
      "['/raid/jiang/projects/SubtleGAN/data/RSNA_ASNR_MICCAI_BraTS2021_TrainingData/BraTS2021_00587/BraTS2021_00587_t1.nii.gz']\n",
      "43 191\n",
      "47 210\n",
      "0 141\n"
     ]
    },
    {
     "name": "stderr",
     "output_type": "stream",
     "text": [
      "\r",
      " 88%|████████▊ | 1099/1251 [21:19<03:05,  1.22s/it]"
     ]
    },
    {
     "name": "stdout",
     "output_type": "stream",
     "text": [
      "['/raid/jiang/projects/SubtleGAN/data/RSNA_ASNR_MICCAI_BraTS2021_TrainingData/BraTS2021_00289/BraTS2021_00289_t1.nii.gz']\n",
      "54 183\n",
      "42 216\n",
      "0 138\n"
     ]
    },
    {
     "name": "stderr",
     "output_type": "stream",
     "text": [
      "\r",
      " 88%|████████▊ | 1100/1251 [21:20<03:05,  1.23s/it]"
     ]
    },
    {
     "name": "stdout",
     "output_type": "stream",
     "text": [
      "['/raid/jiang/projects/SubtleGAN/data/RSNA_ASNR_MICCAI_BraTS2021_TrainingData/BraTS2021_00122/BraTS2021_00122_t1.nii.gz']\n",
      "51 186\n",
      "47 207\n",
      "0 138\n"
     ]
    },
    {
     "name": "stderr",
     "output_type": "stream",
     "text": [
      "\r",
      " 88%|████████▊ | 1101/1251 [21:21<02:55,  1.17s/it]"
     ]
    },
    {
     "name": "stdout",
     "output_type": "stream",
     "text": [
      "['/raid/jiang/projects/SubtleGAN/data/RSNA_ASNR_MICCAI_BraTS2021_TrainingData/BraTS2021_00659/BraTS2021_00659_t1.nii.gz']\n",
      "54 188\n",
      "34 211\n",
      "3 134\n"
     ]
    },
    {
     "name": "stderr",
     "output_type": "stream",
     "text": [
      "\r",
      " 88%|████████▊ | 1102/1251 [21:22<02:50,  1.14s/it]"
     ]
    },
    {
     "name": "stdout",
     "output_type": "stream",
     "text": [
      "['/raid/jiang/projects/SubtleGAN/data/RSNA_ASNR_MICCAI_BraTS2021_TrainingData/BraTS2021_01431/BraTS2021_01431_t1.nii.gz']\n",
      "52 184\n",
      "51 209\n",
      "8 139\n"
     ]
    },
    {
     "name": "stderr",
     "output_type": "stream",
     "text": [
      "\r",
      " 88%|████████▊ | 1103/1251 [21:24<02:52,  1.16s/it]"
     ]
    },
    {
     "name": "stdout",
     "output_type": "stream",
     "text": [
      "['/raid/jiang/projects/SubtleGAN/data/RSNA_ASNR_MICCAI_BraTS2021_TrainingData/BraTS2021_00419/BraTS2021_00419_t1.nii.gz']\n",
      "50 187\n",
      "45 215\n",
      "0 136\n"
     ]
    },
    {
     "name": "stderr",
     "output_type": "stream",
     "text": [
      "\r",
      " 88%|████████▊ | 1104/1251 [21:25<02:48,  1.15s/it]"
     ]
    },
    {
     "name": "stdout",
     "output_type": "stream",
     "text": [
      "['/raid/jiang/projects/SubtleGAN/data/RSNA_ASNR_MICCAI_BraTS2021_TrainingData/BraTS2021_00684/BraTS2021_00684_t1.nii.gz']\n",
      "50 183\n",
      "45 205\n",
      "5 144\n"
     ]
    },
    {
     "name": "stderr",
     "output_type": "stream",
     "text": [
      "\r",
      " 88%|████████▊ | 1105/1251 [21:26<02:47,  1.15s/it]"
     ]
    },
    {
     "name": "stdout",
     "output_type": "stream",
     "text": [
      "['/raid/jiang/projects/SubtleGAN/data/RSNA_ASNR_MICCAI_BraTS2021_TrainingData/BraTS2021_00371/BraTS2021_00371_t1.nii.gz']\n",
      "49 186\n",
      "49 213\n",
      "0 141\n"
     ]
    },
    {
     "name": "stderr",
     "output_type": "stream",
     "text": [
      "\r",
      " 88%|████████▊ | 1106/1251 [21:27<02:44,  1.14s/it]"
     ]
    },
    {
     "name": "stdout",
     "output_type": "stream",
     "text": [
      "['/raid/jiang/projects/SubtleGAN/data/RSNA_ASNR_MICCAI_BraTS2021_TrainingData/BraTS2021_01387/BraTS2021_01387_t1.nii.gz']\n",
      "50 186\n",
      "40 215\n",
      "0 137\n"
     ]
    },
    {
     "name": "stderr",
     "output_type": "stream",
     "text": [
      "\r",
      " 88%|████████▊ | 1107/1251 [21:28<02:42,  1.13s/it]"
     ]
    },
    {
     "name": "stdout",
     "output_type": "stream",
     "text": [
      "['/raid/jiang/projects/SubtleGAN/data/RSNA_ASNR_MICCAI_BraTS2021_TrainingData/BraTS2021_01132/BraTS2021_01132_t1.nii.gz']\n",
      "57 179\n",
      "46 208\n",
      "3 135\n"
     ]
    },
    {
     "name": "stderr",
     "output_type": "stream",
     "text": [
      "\r",
      " 89%|████████▊ | 1108/1251 [21:29<02:38,  1.11s/it]"
     ]
    },
    {
     "name": "stdout",
     "output_type": "stream",
     "text": [
      "['/raid/jiang/projects/SubtleGAN/data/RSNA_ASNR_MICCAI_BraTS2021_TrainingData/BraTS2021_00551/BraTS2021_00551_t1.nii.gz']\n",
      "47 191\n",
      "43 207\n",
      "0 142\n"
     ]
    },
    {
     "name": "stderr",
     "output_type": "stream",
     "text": [
      "\r",
      " 89%|████████▊ | 1109/1251 [21:30<02:40,  1.13s/it]"
     ]
    },
    {
     "name": "stdout",
     "output_type": "stream",
     "text": [
      "['/raid/jiang/projects/SubtleGAN/data/RSNA_ASNR_MICCAI_BraTS2021_TrainingData/BraTS2021_01433/BraTS2021_01433_t1.nii.gz']\n",
      "46 190\n",
      "42 217\n",
      "7 141\n"
     ]
    },
    {
     "name": "stderr",
     "output_type": "stream",
     "text": [
      "\r",
      " 89%|████████▊ | 1110/1251 [21:32<02:44,  1.17s/it]"
     ]
    },
    {
     "name": "stdout",
     "output_type": "stream",
     "text": [
      "['/raid/jiang/projects/SubtleGAN/data/RSNA_ASNR_MICCAI_BraTS2021_TrainingData/BraTS2021_01208/BraTS2021_01208_t1.nii.gz']\n",
      "49 188\n",
      "39 217\n",
      "0 137\n"
     ]
    },
    {
     "name": "stderr",
     "output_type": "stream",
     "text": [
      "\r",
      " 89%|████████▉ | 1111/1251 [21:33<02:46,  1.19s/it]"
     ]
    },
    {
     "name": "stdout",
     "output_type": "stream",
     "text": [
      "['/raid/jiang/projects/SubtleGAN/data/RSNA_ASNR_MICCAI_BraTS2021_TrainingData/BraTS2021_00758/BraTS2021_00758_t1.nii.gz']\n",
      "50 190\n",
      "33 215\n",
      "0 147\n",
      "['/raid/jiang/projects/SubtleGAN/data/RSNA_ASNR_MICCAI_BraTS2021_TrainingData/BraTS2021_01551/BraTS2021_01551_t1.nii.gz']\n"
     ]
    },
    {
     "name": "stderr",
     "output_type": "stream",
     "text": [
      "\r",
      " 89%|████████▉ | 1112/1251 [21:34<02:53,  1.24s/it]"
     ]
    },
    {
     "name": "stdout",
     "output_type": "stream",
     "text": [
      "51 188\n",
      "40 221\n",
      "0 140\n"
     ]
    },
    {
     "name": "stderr",
     "output_type": "stream",
     "text": [
      "\r",
      " 89%|████████▉ | 1113/1251 [21:35<02:45,  1.20s/it]"
     ]
    },
    {
     "name": "stdout",
     "output_type": "stream",
     "text": [
      "['/raid/jiang/projects/SubtleGAN/data/RSNA_ASNR_MICCAI_BraTS2021_TrainingData/BraTS2021_01497/BraTS2021_01497_t1.nii.gz']\n",
      "50 186\n",
      "49 209\n",
      "0 138\n"
     ]
    },
    {
     "name": "stderr",
     "output_type": "stream",
     "text": [
      "\r",
      " 89%|████████▉ | 1114/1251 [21:36<02:41,  1.18s/it]"
     ]
    },
    {
     "name": "stdout",
     "output_type": "stream",
     "text": [
      "['/raid/jiang/projects/SubtleGAN/data/RSNA_ASNR_MICCAI_BraTS2021_TrainingData/BraTS2021_01065/BraTS2021_01065_t1.nii.gz']\n",
      "45 191\n",
      "51 208\n",
      "0 137\n"
     ]
    },
    {
     "name": "stderr",
     "output_type": "stream",
     "text": [
      "\r",
      " 89%|████████▉ | 1115/1251 [21:38<02:39,  1.17s/it]"
     ]
    },
    {
     "name": "stdout",
     "output_type": "stream",
     "text": [
      "['/raid/jiang/projects/SubtleGAN/data/RSNA_ASNR_MICCAI_BraTS2021_TrainingData/BraTS2021_01288/BraTS2021_01288_t1.nii.gz']\n",
      "48 186\n",
      "41 215\n",
      "1 141\n"
     ]
    },
    {
     "name": "stderr",
     "output_type": "stream",
     "text": [
      "\r",
      " 89%|████████▉ | 1116/1251 [21:39<02:37,  1.16s/it]"
     ]
    },
    {
     "name": "stdout",
     "output_type": "stream",
     "text": [
      "['/raid/jiang/projects/SubtleGAN/data/RSNA_ASNR_MICCAI_BraTS2021_TrainingData/BraTS2021_01330/BraTS2021_01330_t1.nii.gz']\n",
      "51 183\n",
      "44 215\n",
      "0 141\n"
     ]
    },
    {
     "name": "stderr",
     "output_type": "stream",
     "text": [
      "\r",
      " 89%|████████▉ | 1117/1251 [21:40<02:34,  1.15s/it]"
     ]
    },
    {
     "name": "stdout",
     "output_type": "stream",
     "text": [
      "['/raid/jiang/projects/SubtleGAN/data/RSNA_ASNR_MICCAI_BraTS2021_TrainingData/BraTS2021_00507/BraTS2021_00507_t1.nii.gz']\n",
      "52 183\n",
      "40 214\n",
      "3 136\n"
     ]
    },
    {
     "name": "stderr",
     "output_type": "stream",
     "text": [
      "\r",
      " 89%|████████▉ | 1118/1251 [21:41<02:31,  1.14s/it]"
     ]
    },
    {
     "name": "stdout",
     "output_type": "stream",
     "text": [
      "['/raid/jiang/projects/SubtleGAN/data/RSNA_ASNR_MICCAI_BraTS2021_TrainingData/BraTS2021_00441/BraTS2021_00441_t1.nii.gz']\n",
      "55 182\n",
      "40 215\n",
      "0 140\n"
     ]
    },
    {
     "name": "stderr",
     "output_type": "stream",
     "text": [
      "\r",
      " 89%|████████▉ | 1119/1251 [21:42<02:30,  1.14s/it]"
     ]
    },
    {
     "name": "stdout",
     "output_type": "stream",
     "text": [
      "['/raid/jiang/projects/SubtleGAN/data/RSNA_ASNR_MICCAI_BraTS2021_TrainingData/BraTS2021_01209/BraTS2021_01209_t1.nii.gz']\n",
      "54 183\n",
      "47 216\n",
      "0 143\n",
      "['/raid/jiang/projects/SubtleGAN/data/RSNA_ASNR_MICCAI_BraTS2021_TrainingData/BraTS2021_00077/BraTS2021_00077_t1.nii.gz']\n"
     ]
    },
    {
     "name": "stderr",
     "output_type": "stream",
     "text": [
      "\r",
      " 90%|████████▉ | 1120/1251 [21:43<02:30,  1.15s/it]"
     ]
    },
    {
     "name": "stdout",
     "output_type": "stream",
     "text": [
      "46 191\n",
      "37 208\n",
      "0 147\n"
     ]
    },
    {
     "name": "stderr",
     "output_type": "stream",
     "text": [
      "\r",
      " 90%|████████▉ | 1121/1251 [21:44<02:30,  1.16s/it]"
     ]
    },
    {
     "name": "stdout",
     "output_type": "stream",
     "text": [
      "['/raid/jiang/projects/SubtleGAN/data/RSNA_ASNR_MICCAI_BraTS2021_TrainingData/BraTS2021_01033/BraTS2021_01033_t1.nii.gz']\n",
      "51 187\n",
      "42 218\n",
      "0 137\n"
     ]
    },
    {
     "name": "stderr",
     "output_type": "stream",
     "text": [
      "\r",
      " 90%|████████▉ | 1122/1251 [21:46<02:29,  1.16s/it]"
     ]
    },
    {
     "name": "stdout",
     "output_type": "stream",
     "text": [
      "['/raid/jiang/projects/SubtleGAN/data/RSNA_ASNR_MICCAI_BraTS2021_TrainingData/BraTS2021_00578/BraTS2021_00578_t1.nii.gz']\n",
      "54 186\n",
      "33 215\n",
      "32 136\n"
     ]
    },
    {
     "name": "stderr",
     "output_type": "stream",
     "text": [
      "\r",
      " 90%|████████▉ | 1123/1251 [21:47<02:22,  1.12s/it]"
     ]
    },
    {
     "name": "stdout",
     "output_type": "stream",
     "text": [
      "['/raid/jiang/projects/SubtleGAN/data/RSNA_ASNR_MICCAI_BraTS2021_TrainingData/BraTS2021_00327/BraTS2021_00327_t1.nii.gz']\n",
      "55 181\n",
      "44 216\n",
      "2 143\n"
     ]
    },
    {
     "name": "stderr",
     "output_type": "stream",
     "text": [
      "\r",
      " 90%|████████▉ | 1124/1251 [21:48<02:24,  1.14s/it]"
     ]
    },
    {
     "name": "stdout",
     "output_type": "stream",
     "text": [
      "['/raid/jiang/projects/SubtleGAN/data/RSNA_ASNR_MICCAI_BraTS2021_TrainingData/BraTS2021_01382/BraTS2021_01382_t1.nii.gz']\n",
      "52 185\n",
      "42 213\n",
      "0 140\n"
     ]
    },
    {
     "name": "stderr",
     "output_type": "stream",
     "text": [
      "\r",
      " 90%|████████▉ | 1125/1251 [21:49<02:28,  1.18s/it]"
     ]
    },
    {
     "name": "stdout",
     "output_type": "stream",
     "text": [
      "['/raid/jiang/projects/SubtleGAN/data/RSNA_ASNR_MICCAI_BraTS2021_TrainingData/BraTS2021_00526/BraTS2021_00526_t1.nii.gz']\n",
      "49 192\n",
      "25 212\n",
      "0 138\n"
     ]
    },
    {
     "name": "stderr",
     "output_type": "stream",
     "text": [
      "\r",
      " 90%|█████████ | 1126/1251 [21:50<02:31,  1.22s/it]"
     ]
    },
    {
     "name": "stdout",
     "output_type": "stream",
     "text": [
      "['/raid/jiang/projects/SubtleGAN/data/RSNA_ASNR_MICCAI_BraTS2021_TrainingData/BraTS2021_01440/BraTS2021_01440_t1.nii.gz']\n",
      "55 185\n",
      "44 214\n",
      "0 144\n"
     ]
    },
    {
     "name": "stderr",
     "output_type": "stream",
     "text": [
      "\r",
      " 90%|█████████ | 1127/1251 [21:51<02:26,  1.18s/it]"
     ]
    },
    {
     "name": "stdout",
     "output_type": "stream",
     "text": [
      "['/raid/jiang/projects/SubtleGAN/data/RSNA_ASNR_MICCAI_BraTS2021_TrainingData/BraTS2021_01460/BraTS2021_01460_t1.nii.gz']\n",
      "50 188\n",
      "44 214\n",
      "2 139\n"
     ]
    },
    {
     "name": "stderr",
     "output_type": "stream",
     "text": [
      "\r",
      " 90%|█████████ | 1128/1251 [21:53<02:25,  1.18s/it]"
     ]
    },
    {
     "name": "stdout",
     "output_type": "stream",
     "text": [
      "['/raid/jiang/projects/SubtleGAN/data/RSNA_ASNR_MICCAI_BraTS2021_TrainingData/BraTS2021_01097/BraTS2021_01097_t1.nii.gz']\n",
      "51 186\n",
      "36 217\n",
      "0 139\n"
     ]
    },
    {
     "name": "stderr",
     "output_type": "stream",
     "text": [
      "\r",
      " 90%|█████████ | 1129/1251 [21:54<02:29,  1.22s/it]"
     ]
    },
    {
     "name": "stdout",
     "output_type": "stream",
     "text": [
      "['/raid/jiang/projects/SubtleGAN/data/RSNA_ASNR_MICCAI_BraTS2021_TrainingData/BraTS2021_00802/BraTS2021_00802_t1.nii.gz']\n",
      "49 189\n",
      "50 209\n",
      "0 137\n"
     ]
    },
    {
     "name": "stderr",
     "output_type": "stream",
     "text": [
      "\r",
      " 90%|█████████ | 1130/1251 [21:55<02:22,  1.18s/it]"
     ]
    },
    {
     "name": "stdout",
     "output_type": "stream",
     "text": [
      "['/raid/jiang/projects/SubtleGAN/data/RSNA_ASNR_MICCAI_BraTS2021_TrainingData/BraTS2021_00619/BraTS2021_00619_t1.nii.gz']\n",
      "52 186\n",
      "42 207\n",
      "4 143\n"
     ]
    },
    {
     "name": "stderr",
     "output_type": "stream",
     "text": [
      "\r",
      " 90%|█████████ | 1131/1251 [21:56<02:23,  1.19s/it]"
     ]
    },
    {
     "name": "stdout",
     "output_type": "stream",
     "text": [
      "['/raid/jiang/projects/SubtleGAN/data/RSNA_ASNR_MICCAI_BraTS2021_TrainingData/BraTS2021_01374/BraTS2021_01374_t1.nii.gz']\n",
      "55 183\n",
      "43 217\n",
      "0 141\n"
     ]
    },
    {
     "name": "stderr",
     "output_type": "stream",
     "text": [
      "\r",
      " 90%|█████████ | 1132/1251 [21:57<02:21,  1.18s/it]"
     ]
    },
    {
     "name": "stdout",
     "output_type": "stream",
     "text": [
      "['/raid/jiang/projects/SubtleGAN/data/RSNA_ASNR_MICCAI_BraTS2021_TrainingData/BraTS2021_01066/BraTS2021_01066_t1.nii.gz']\n",
      "50 186\n",
      "45 211\n",
      "0 138\n"
     ]
    },
    {
     "name": "stderr",
     "output_type": "stream",
     "text": [
      "\r",
      " 91%|█████████ | 1133/1251 [21:59<02:24,  1.23s/it]"
     ]
    },
    {
     "name": "stdout",
     "output_type": "stream",
     "text": [
      "['/raid/jiang/projects/SubtleGAN/data/RSNA_ASNR_MICCAI_BraTS2021_TrainingData/BraTS2021_00579/BraTS2021_00579_t1.nii.gz']\n",
      "51 185\n",
      "41 217\n",
      "0 142\n"
     ]
    },
    {
     "name": "stderr",
     "output_type": "stream",
     "text": [
      "\r",
      " 91%|█████████ | 1134/1251 [22:00<02:22,  1.22s/it]"
     ]
    },
    {
     "name": "stdout",
     "output_type": "stream",
     "text": [
      "['/raid/jiang/projects/SubtleGAN/data/RSNA_ASNR_MICCAI_BraTS2021_TrainingData/BraTS2021_00641/BraTS2021_00641_t1.nii.gz']\n",
      "51 190\n",
      "37 210\n",
      "0 138\n"
     ]
    },
    {
     "name": "stderr",
     "output_type": "stream",
     "text": [
      "\r",
      " 91%|█████████ | 1135/1251 [22:01<02:24,  1.25s/it]"
     ]
    },
    {
     "name": "stdout",
     "output_type": "stream",
     "text": [
      "['/raid/jiang/projects/SubtleGAN/data/RSNA_ASNR_MICCAI_BraTS2021_TrainingData/BraTS2021_00780/BraTS2021_00780_t1.nii.gz']\n",
      "51 187\n",
      "46 220\n",
      "0 153\n"
     ]
    },
    {
     "name": "stderr",
     "output_type": "stream",
     "text": [
      "\r",
      " 91%|█████████ | 1136/1251 [22:02<02:20,  1.22s/it]"
     ]
    },
    {
     "name": "stdout",
     "output_type": "stream",
     "text": [
      "['/raid/jiang/projects/SubtleGAN/data/RSNA_ASNR_MICCAI_BraTS2021_TrainingData/BraTS2021_00778/BraTS2021_00778_t1.nii.gz']\n",
      "55 186\n",
      "38 212\n",
      "4 135\n"
     ]
    },
    {
     "name": "stderr",
     "output_type": "stream",
     "text": [
      "\r",
      " 91%|█████████ | 1137/1251 [22:04<02:19,  1.23s/it]"
     ]
    },
    {
     "name": "stdout",
     "output_type": "stream",
     "text": [
      "['/raid/jiang/projects/SubtleGAN/data/RSNA_ASNR_MICCAI_BraTS2021_TrainingData/BraTS2021_01559/BraTS2021_01559_t1.nii.gz']\n",
      "51 186\n",
      "47 213\n",
      "0 144\n"
     ]
    },
    {
     "name": "stderr",
     "output_type": "stream",
     "text": [
      "\r",
      " 91%|█████████ | 1138/1251 [22:05<02:17,  1.22s/it]"
     ]
    },
    {
     "name": "stdout",
     "output_type": "stream",
     "text": [
      "['/raid/jiang/projects/SubtleGAN/data/RSNA_ASNR_MICCAI_BraTS2021_TrainingData/BraTS2021_01073/BraTS2021_01073_t1.nii.gz']\n",
      "52 185\n",
      "41 216\n",
      "0 140\n"
     ]
    },
    {
     "name": "stderr",
     "output_type": "stream",
     "text": [
      "\r",
      " 91%|█████████ | 1139/1251 [22:06<02:14,  1.20s/it]"
     ]
    },
    {
     "name": "stdout",
     "output_type": "stream",
     "text": [
      "['/raid/jiang/projects/SubtleGAN/data/RSNA_ASNR_MICCAI_BraTS2021_TrainingData/BraTS2021_01050/BraTS2021_01050_t1.nii.gz']\n",
      "51 186\n",
      "44 215\n",
      "0 139\n"
     ]
    },
    {
     "name": "stderr",
     "output_type": "stream",
     "text": [
      "\r",
      " 91%|█████████ | 1140/1251 [22:07<02:13,  1.20s/it]"
     ]
    },
    {
     "name": "stdout",
     "output_type": "stream",
     "text": [
      "['/raid/jiang/projects/SubtleGAN/data/RSNA_ASNR_MICCAI_BraTS2021_TrainingData/BraTS2021_01377/BraTS2021_01377_t1.nii.gz']\n",
      "51 184\n",
      "50 215\n",
      "0 141\n"
     ]
    },
    {
     "name": "stderr",
     "output_type": "stream",
     "text": [
      "\r",
      " 91%|█████████ | 1141/1251 [22:08<02:07,  1.16s/it]"
     ]
    },
    {
     "name": "stdout",
     "output_type": "stream",
     "text": [
      "['/raid/jiang/projects/SubtleGAN/data/RSNA_ASNR_MICCAI_BraTS2021_TrainingData/BraTS2021_00220/BraTS2021_00220_t1.nii.gz']\n",
      "56 182\n",
      "45 216\n",
      "0 136\n"
     ]
    },
    {
     "name": "stderr",
     "output_type": "stream",
     "text": [
      "\r",
      " 91%|█████████▏| 1142/1251 [22:09<02:04,  1.14s/it]"
     ]
    },
    {
     "name": "stdout",
     "output_type": "stream",
     "text": [
      "['/raid/jiang/projects/SubtleGAN/data/RSNA_ASNR_MICCAI_BraTS2021_TrainingData/BraTS2021_01624/BraTS2021_01624_t1.nii.gz']\n",
      "49 180\n",
      "38 216\n",
      "0 131\n"
     ]
    },
    {
     "name": "stderr",
     "output_type": "stream",
     "text": [
      "\r",
      " 91%|█████████▏| 1143/1251 [22:10<01:58,  1.10s/it]"
     ]
    },
    {
     "name": "stdout",
     "output_type": "stream",
     "text": [
      "['/raid/jiang/projects/SubtleGAN/data/RSNA_ASNR_MICCAI_BraTS2021_TrainingData/BraTS2021_01453/BraTS2021_01453_t1.nii.gz']\n",
      "45 187\n",
      "48 210\n",
      "22 140\n"
     ]
    },
    {
     "name": "stderr",
     "output_type": "stream",
     "text": [
      "\r",
      " 91%|█████████▏| 1144/1251 [22:11<01:56,  1.09s/it]"
     ]
    },
    {
     "name": "stdout",
     "output_type": "stream",
     "text": [
      "['/raid/jiang/projects/SubtleGAN/data/RSNA_ASNR_MICCAI_BraTS2021_TrainingData/BraTS2021_01424/BraTS2021_01424_t1.nii.gz']\n",
      "50 188\n",
      "43 219\n",
      "7 143\n"
     ]
    },
    {
     "name": "stderr",
     "output_type": "stream",
     "text": [
      "\r",
      " 92%|█████████▏| 1145/1251 [22:13<01:57,  1.11s/it]"
     ]
    },
    {
     "name": "stdout",
     "output_type": "stream",
     "text": [
      "['/raid/jiang/projects/SubtleGAN/data/RSNA_ASNR_MICCAI_BraTS2021_TrainingData/BraTS2021_00104/BraTS2021_00104_t1.nii.gz']\n",
      "51 187\n",
      "47 213\n",
      "0 135\n"
     ]
    },
    {
     "name": "stderr",
     "output_type": "stream",
     "text": [
      "\r",
      " 92%|█████████▏| 1146/1251 [22:14<01:57,  1.12s/it]"
     ]
    },
    {
     "name": "stdout",
     "output_type": "stream",
     "text": [
      "['/raid/jiang/projects/SubtleGAN/data/RSNA_ASNR_MICCAI_BraTS2021_TrainingData/BraTS2021_01417/BraTS2021_01417_t1.nii.gz']\n",
      "49 190\n",
      "41 219\n",
      "14 141\n"
     ]
    },
    {
     "name": "stderr",
     "output_type": "stream",
     "text": [
      "\r",
      " 92%|█████████▏| 1147/1251 [22:15<01:57,  1.13s/it]"
     ]
    },
    {
     "name": "stdout",
     "output_type": "stream",
     "text": [
      "['/raid/jiang/projects/SubtleGAN/data/RSNA_ASNR_MICCAI_BraTS2021_TrainingData/BraTS2021_00789/BraTS2021_00789_t1.nii.gz']\n",
      "52 185\n",
      "53 206\n",
      "0 149\n"
     ]
    },
    {
     "name": "stderr",
     "output_type": "stream",
     "text": [
      "\r",
      " 92%|█████████▏| 1148/1251 [22:16<01:54,  1.11s/it]"
     ]
    },
    {
     "name": "stdout",
     "output_type": "stream",
     "text": [
      "['/raid/jiang/projects/SubtleGAN/data/RSNA_ASNR_MICCAI_BraTS2021_TrainingData/BraTS2021_00732/BraTS2021_00732_t1.nii.gz']\n",
      "54 184\n",
      "43 212\n",
      "0 130\n"
     ]
    },
    {
     "name": "stderr",
     "output_type": "stream",
     "text": [
      "\r",
      " 92%|█████████▏| 1149/1251 [22:17<01:51,  1.10s/it]"
     ]
    },
    {
     "name": "stdout",
     "output_type": "stream",
     "text": [
      "['/raid/jiang/projects/SubtleGAN/data/RSNA_ASNR_MICCAI_BraTS2021_TrainingData/BraTS2021_01321/BraTS2021_01321_t1.nii.gz']\n",
      "45 191\n",
      "45 216\n",
      "4 144\n"
     ]
    },
    {
     "name": "stderr",
     "output_type": "stream",
     "text": [
      "\r",
      " 92%|█████████▏| 1150/1251 [22:18<01:50,  1.10s/it]"
     ]
    },
    {
     "name": "stdout",
     "output_type": "stream",
     "text": [
      "['/raid/jiang/projects/SubtleGAN/data/RSNA_ASNR_MICCAI_BraTS2021_TrainingData/BraTS2021_01062/BraTS2021_01062_t1.nii.gz']\n",
      "49 187\n",
      "52 212\n",
      "5 142\n"
     ]
    },
    {
     "name": "stderr",
     "output_type": "stream",
     "text": [
      "\r",
      " 92%|█████████▏| 1151/1251 [22:19<01:47,  1.07s/it]"
     ]
    },
    {
     "name": "stdout",
     "output_type": "stream",
     "text": [
      "['/raid/jiang/projects/SubtleGAN/data/RSNA_ASNR_MICCAI_BraTS2021_TrainingData/BraTS2021_00028/BraTS2021_00028_t1.nii.gz']\n",
      "56 191\n",
      "38 210\n",
      "7 141\n"
     ]
    },
    {
     "name": "stderr",
     "output_type": "stream",
     "text": [
      "\r",
      " 92%|█████████▏| 1152/1251 [22:20<01:45,  1.07s/it]"
     ]
    },
    {
     "name": "stdout",
     "output_type": "stream",
     "text": [
      "['/raid/jiang/projects/SubtleGAN/data/RSNA_ASNR_MICCAI_BraTS2021_TrainingData/BraTS2021_01017/BraTS2021_01017_t1.nii.gz']\n",
      "51 186\n",
      "44 214\n",
      "0 136\n"
     ]
    },
    {
     "name": "stderr",
     "output_type": "stream",
     "text": [
      "\r",
      " 92%|█████████▏| 1153/1251 [22:21<01:46,  1.08s/it]"
     ]
    },
    {
     "name": "stdout",
     "output_type": "stream",
     "text": [
      "['/raid/jiang/projects/SubtleGAN/data/RSNA_ASNR_MICCAI_BraTS2021_TrainingData/BraTS2021_00109/BraTS2021_00109_t1.nii.gz']\n",
      "52 186\n",
      "54 210\n",
      "0 143\n"
     ]
    },
    {
     "name": "stderr",
     "output_type": "stream",
     "text": [
      "\r",
      " 92%|█████████▏| 1154/1251 [22:23<01:50,  1.14s/it]"
     ]
    },
    {
     "name": "stdout",
     "output_type": "stream",
     "text": [
      "['/raid/jiang/projects/SubtleGAN/data/RSNA_ASNR_MICCAI_BraTS2021_TrainingData/BraTS2021_01248/BraTS2021_01248_t1.nii.gz']\n",
      "55 182\n",
      "43 210\n",
      "0 137\n"
     ]
    },
    {
     "name": "stderr",
     "output_type": "stream",
     "text": [
      "\r",
      " 92%|█████████▏| 1155/1251 [22:24<02:01,  1.26s/it]"
     ]
    },
    {
     "name": "stdout",
     "output_type": "stream",
     "text": [
      "['/raid/jiang/projects/SubtleGAN/data/RSNA_ASNR_MICCAI_BraTS2021_TrainingData/BraTS2021_01640/BraTS2021_01640_t1.nii.gz']\n",
      "47 186\n",
      "42 213\n",
      "0 137\n"
     ]
    },
    {
     "name": "stderr",
     "output_type": "stream",
     "text": [
      "\r",
      " 92%|█████████▏| 1156/1251 [22:25<01:58,  1.24s/it]"
     ]
    },
    {
     "name": "stdout",
     "output_type": "stream",
     "text": [
      "['/raid/jiang/projects/SubtleGAN/data/RSNA_ASNR_MICCAI_BraTS2021_TrainingData/BraTS2021_00247/BraTS2021_00247_t1.nii.gz']\n",
      "54 182\n",
      "59 218\n",
      "8 143\n",
      "['/raid/jiang/projects/SubtleGAN/data/RSNA_ASNR_MICCAI_BraTS2021_TrainingData/BraTS2021_01398/BraTS2021_01398_t1.nii.gz']\n"
     ]
    },
    {
     "name": "stderr",
     "output_type": "stream",
     "text": [
      "\r",
      " 92%|█████████▏| 1157/1251 [22:27<01:56,  1.24s/it]"
     ]
    },
    {
     "name": "stdout",
     "output_type": "stream",
     "text": [
      "46 190\n",
      "50 210\n",
      "0 137\n"
     ]
    },
    {
     "name": "stderr",
     "output_type": "stream",
     "text": [
      "\r",
      " 93%|█████████▎| 1158/1251 [22:28<01:55,  1.25s/it]"
     ]
    },
    {
     "name": "stdout",
     "output_type": "stream",
     "text": [
      "['/raid/jiang/projects/SubtleGAN/data/RSNA_ASNR_MICCAI_BraTS2021_TrainingData/BraTS2021_01492/BraTS2021_01492_t1.nii.gz']\n",
      "52 184\n",
      "46 212\n",
      "4 137\n"
     ]
    },
    {
     "name": "stderr",
     "output_type": "stream",
     "text": [
      "\r",
      " 93%|█████████▎| 1159/1251 [22:29<01:58,  1.29s/it]"
     ]
    },
    {
     "name": "stdout",
     "output_type": "stream",
     "text": [
      "['/raid/jiang/projects/SubtleGAN/data/RSNA_ASNR_MICCAI_BraTS2021_TrainingData/BraTS2021_00544/BraTS2021_00544_t1.nii.gz']\n",
      "48 189\n",
      "37 207\n",
      "0 139\n"
     ]
    },
    {
     "name": "stderr",
     "output_type": "stream",
     "text": [
      "\r",
      " 93%|█████████▎| 1160/1251 [22:31<02:00,  1.33s/it]"
     ]
    },
    {
     "name": "stdout",
     "output_type": "stream",
     "text": [
      "['/raid/jiang/projects/SubtleGAN/data/RSNA_ASNR_MICCAI_BraTS2021_TrainingData/BraTS2021_00185/BraTS2021_00185_t1.nii.gz']\n",
      "48 188\n",
      "45 212\n",
      "0 140\n",
      "['/raid/jiang/projects/SubtleGAN/data/RSNA_ASNR_MICCAI_BraTS2021_TrainingData/BraTS2021_01463/BraTS2021_01463_t1.nii.gz']\n"
     ]
    },
    {
     "name": "stderr",
     "output_type": "stream",
     "text": [
      "\r",
      " 93%|█████████▎| 1161/1251 [22:32<02:01,  1.36s/it]"
     ]
    },
    {
     "name": "stdout",
     "output_type": "stream",
     "text": [
      "48 187\n",
      "46 213\n",
      "0 139\n"
     ]
    },
    {
     "name": "stderr",
     "output_type": "stream",
     "text": [
      "\r",
      " 93%|█████████▎| 1162/1251 [22:33<02:00,  1.35s/it]"
     ]
    },
    {
     "name": "stdout",
     "output_type": "stream",
     "text": [
      "['/raid/jiang/projects/SubtleGAN/data/RSNA_ASNR_MICCAI_BraTS2021_TrainingData/BraTS2021_01042/BraTS2021_01042_t1.nii.gz']\n",
      "55 183\n",
      "45 210\n",
      "0 140\n"
     ]
    },
    {
     "name": "stderr",
     "output_type": "stream",
     "text": [
      "\r",
      " 93%|█████████▎| 1163/1251 [22:35<01:54,  1.30s/it]"
     ]
    },
    {
     "name": "stdout",
     "output_type": "stream",
     "text": [
      "['/raid/jiang/projects/SubtleGAN/data/RSNA_ASNR_MICCAI_BraTS2021_TrainingData/BraTS2021_01657/BraTS2021_01657_t1.nii.gz']\n",
      "53 188\n",
      "51 212\n",
      "8 136\n"
     ]
    },
    {
     "name": "stderr",
     "output_type": "stream",
     "text": [
      "\r",
      " 93%|█████████▎| 1164/1251 [22:36<01:53,  1.31s/it]"
     ]
    },
    {
     "name": "stdout",
     "output_type": "stream",
     "text": [
      "['/raid/jiang/projects/SubtleGAN/data/RSNA_ASNR_MICCAI_BraTS2021_TrainingData/BraTS2021_01464/BraTS2021_01464_t1.nii.gz']\n",
      "46 192\n",
      "46 210\n",
      "0 138\n"
     ]
    },
    {
     "name": "stderr",
     "output_type": "stream",
     "text": [
      "\r",
      " 93%|█████████▎| 1165/1251 [22:37<01:50,  1.28s/it]"
     ]
    },
    {
     "name": "stdout",
     "output_type": "stream",
     "text": [
      "['/raid/jiang/projects/SubtleGAN/data/RSNA_ASNR_MICCAI_BraTS2021_TrainingData/BraTS2021_01267/BraTS2021_01267_t1.nii.gz']\n",
      "53 186\n",
      "46 213\n",
      "2 137\n"
     ]
    },
    {
     "name": "stderr",
     "output_type": "stream",
     "text": [
      "\r",
      " 93%|█████████▎| 1166/1251 [22:38<01:49,  1.28s/it]"
     ]
    },
    {
     "name": "stdout",
     "output_type": "stream",
     "text": [
      "['/raid/jiang/projects/SubtleGAN/data/RSNA_ASNR_MICCAI_BraTS2021_TrainingData/BraTS2021_00501/BraTS2021_00501_t1.nii.gz']\n",
      "55 186\n",
      "41 210\n",
      "3 142\n"
     ]
    },
    {
     "name": "stderr",
     "output_type": "stream",
     "text": [
      "\r",
      " 93%|█████████▎| 1167/1251 [22:40<01:49,  1.30s/it]"
     ]
    },
    {
     "name": "stdout",
     "output_type": "stream",
     "text": [
      "['/raid/jiang/projects/SubtleGAN/data/RSNA_ASNR_MICCAI_BraTS2021_TrainingData/BraTS2021_01415/BraTS2021_01415_t1.nii.gz']\n",
      "49 189\n",
      "47 215\n",
      "8 143\n"
     ]
    },
    {
     "name": "stderr",
     "output_type": "stream",
     "text": [
      "\r",
      " 93%|█████████▎| 1168/1251 [22:41<01:51,  1.35s/it]"
     ]
    },
    {
     "name": "stdout",
     "output_type": "stream",
     "text": [
      "['/raid/jiang/projects/SubtleGAN/data/RSNA_ASNR_MICCAI_BraTS2021_TrainingData/BraTS2021_00222/BraTS2021_00222_t1.nii.gz']\n",
      "49 189\n",
      "42 216\n",
      "0 139\n"
     ]
    },
    {
     "name": "stderr",
     "output_type": "stream",
     "text": [
      "\r",
      " 93%|█████████▎| 1169/1251 [22:43<01:49,  1.33s/it]"
     ]
    },
    {
     "name": "stdout",
     "output_type": "stream",
     "text": [
      "['/raid/jiang/projects/SubtleGAN/data/RSNA_ASNR_MICCAI_BraTS2021_TrainingData/BraTS2021_00540/BraTS2021_00540_t1.nii.gz']\n",
      "52 188\n",
      "38 215\n",
      "0 139\n",
      "['/raid/jiang/projects/SubtleGAN/data/RSNA_ASNR_MICCAI_BraTS2021_TrainingData/BraTS2021_01022/BraTS2021_01022_t1.nii.gz']\n"
     ]
    },
    {
     "name": "stderr",
     "output_type": "stream",
     "text": [
      "\r",
      " 94%|█████████▎| 1170/1251 [22:44<01:48,  1.34s/it]"
     ]
    },
    {
     "name": "stdout",
     "output_type": "stream",
     "text": [
      "49 186\n",
      "51 212\n",
      "0 139\n"
     ]
    },
    {
     "name": "stderr",
     "output_type": "stream",
     "text": [
      "\r",
      " 94%|█████████▎| 1171/1251 [22:45<01:46,  1.33s/it]"
     ]
    },
    {
     "name": "stdout",
     "output_type": "stream",
     "text": [
      "['/raid/jiang/projects/SubtleGAN/data/RSNA_ASNR_MICCAI_BraTS2021_TrainingData/BraTS2021_01165/BraTS2021_01165_t1.nii.gz']\n",
      "51 190\n",
      "34 218\n",
      "3 134\n"
     ]
    },
    {
     "name": "stderr",
     "output_type": "stream",
     "text": [
      "\r",
      " 94%|█████████▎| 1172/1251 [22:46<01:43,  1.31s/it]"
     ]
    },
    {
     "name": "stdout",
     "output_type": "stream",
     "text": [
      "['/raid/jiang/projects/SubtleGAN/data/RSNA_ASNR_MICCAI_BraTS2021_TrainingData/BraTS2021_00250/BraTS2021_00250_t1.nii.gz']\n",
      "51 186\n",
      "57 213\n",
      "4 141\n"
     ]
    },
    {
     "name": "stderr",
     "output_type": "stream",
     "text": [
      "\r",
      " 94%|█████████▍| 1173/1251 [22:48<01:39,  1.28s/it]"
     ]
    },
    {
     "name": "stdout",
     "output_type": "stream",
     "text": [
      "['/raid/jiang/projects/SubtleGAN/data/RSNA_ASNR_MICCAI_BraTS2021_TrainingData/BraTS2021_01653/BraTS2021_01653_t1.nii.gz']\n",
      "54 180\n",
      "47 211\n",
      "0 134\n"
     ]
    },
    {
     "name": "stderr",
     "output_type": "stream",
     "text": [
      "\r",
      " 94%|█████████▍| 1174/1251 [22:49<01:36,  1.25s/it]"
     ]
    },
    {
     "name": "stdout",
     "output_type": "stream",
     "text": [
      "['/raid/jiang/projects/SubtleGAN/data/RSNA_ASNR_MICCAI_BraTS2021_TrainingData/BraTS2021_00087/BraTS2021_00087_t1.nii.gz']\n",
      "45 176\n",
      "37 207\n",
      "3 143\n"
     ]
    },
    {
     "name": "stderr",
     "output_type": "stream",
     "text": [
      "\r",
      " 94%|█████████▍| 1175/1251 [22:50<01:34,  1.24s/it]"
     ]
    },
    {
     "name": "stdout",
     "output_type": "stream",
     "text": [
      "['/raid/jiang/projects/SubtleGAN/data/RSNA_ASNR_MICCAI_BraTS2021_TrainingData/BraTS2021_01305/BraTS2021_01305_t1.nii.gz']\n",
      "51 187\n",
      "47 212\n",
      "0 141\n"
     ]
    },
    {
     "name": "stderr",
     "output_type": "stream",
     "text": [
      "\r",
      " 94%|█████████▍| 1176/1251 [22:51<01:32,  1.23s/it]"
     ]
    },
    {
     "name": "stdout",
     "output_type": "stream",
     "text": [
      "['/raid/jiang/projects/SubtleGAN/data/RSNA_ASNR_MICCAI_BraTS2021_TrainingData/BraTS2021_00550/BraTS2021_00550_t1.nii.gz']\n",
      "48 178\n",
      "34 209\n",
      "3 137\n"
     ]
    },
    {
     "name": "stderr",
     "output_type": "stream",
     "text": [
      "\r",
      " 94%|█████████▍| 1177/1251 [22:53<01:32,  1.25s/it]"
     ]
    },
    {
     "name": "stdout",
     "output_type": "stream",
     "text": [
      "['/raid/jiang/projects/SubtleGAN/data/RSNA_ASNR_MICCAI_BraTS2021_TrainingData/BraTS2021_01495/BraTS2021_01495_t1.nii.gz']\n",
      "48 192\n",
      "47 209\n",
      "0 136\n"
     ]
    },
    {
     "name": "stderr",
     "output_type": "stream",
     "text": [
      "\r",
      " 94%|█████████▍| 1178/1251 [22:54<01:32,  1.26s/it]"
     ]
    },
    {
     "name": "stdout",
     "output_type": "stream",
     "text": [
      "['/raid/jiang/projects/SubtleGAN/data/RSNA_ASNR_MICCAI_BraTS2021_TrainingData/BraTS2021_00618/BraTS2021_00618_t1.nii.gz']\n",
      "50 189\n",
      "44 215\n",
      "0 144\n"
     ]
    },
    {
     "name": "stderr",
     "output_type": "stream",
     "text": [
      "\r",
      " 94%|█████████▍| 1179/1251 [22:55<01:35,  1.33s/it]"
     ]
    },
    {
     "name": "stdout",
     "output_type": "stream",
     "text": [
      "['/raid/jiang/projects/SubtleGAN/data/RSNA_ASNR_MICCAI_BraTS2021_TrainingData/BraTS2021_00593/BraTS2021_00593_t1.nii.gz']\n",
      "49 190\n",
      "45 215\n",
      "0 146\n"
     ]
    },
    {
     "name": "stderr",
     "output_type": "stream",
     "text": [
      "\r",
      " 94%|█████████▍| 1180/1251 [22:57<01:31,  1.30s/it]"
     ]
    },
    {
     "name": "stdout",
     "output_type": "stream",
     "text": [
      "['/raid/jiang/projects/SubtleGAN/data/RSNA_ASNR_MICCAI_BraTS2021_TrainingData/BraTS2021_01363/BraTS2021_01363_t1.nii.gz']\n",
      "56 182\n",
      "44 214\n",
      "0 138\n"
     ]
    },
    {
     "name": "stderr",
     "output_type": "stream",
     "text": [
      "\r",
      " 94%|█████████▍| 1181/1251 [22:58<01:29,  1.28s/it]"
     ]
    },
    {
     "name": "stdout",
     "output_type": "stream",
     "text": [
      "['/raid/jiang/projects/SubtleGAN/data/RSNA_ASNR_MICCAI_BraTS2021_TrainingData/BraTS2021_01085/BraTS2021_01085_t1.nii.gz']\n",
      "53 183\n",
      "44 214\n",
      "0 138\n"
     ]
    },
    {
     "name": "stderr",
     "output_type": "stream",
     "text": [
      "\r",
      " 94%|█████████▍| 1182/1251 [22:59<01:27,  1.27s/it]"
     ]
    },
    {
     "name": "stdout",
     "output_type": "stream",
     "text": [
      "['/raid/jiang/projects/SubtleGAN/data/RSNA_ASNR_MICCAI_BraTS2021_TrainingData/BraTS2021_01541/BraTS2021_01541_t1.nii.gz']\n",
      "56 183\n",
      "46 216\n",
      "0 147\n"
     ]
    },
    {
     "name": "stderr",
     "output_type": "stream",
     "text": [
      "\r",
      " 95%|█████████▍| 1183/1251 [23:00<01:25,  1.26s/it]"
     ]
    },
    {
     "name": "stdout",
     "output_type": "stream",
     "text": [
      "['/raid/jiang/projects/SubtleGAN/data/RSNA_ASNR_MICCAI_BraTS2021_TrainingData/BraTS2021_01394/BraTS2021_01394_t1.nii.gz']\n",
      "50 184\n",
      "47 214\n",
      "0 137\n"
     ]
    },
    {
     "name": "stderr",
     "output_type": "stream",
     "text": [
      "\r",
      " 95%|█████████▍| 1184/1251 [23:01<01:22,  1.24s/it]"
     ]
    },
    {
     "name": "stdout",
     "output_type": "stream",
     "text": [
      "['/raid/jiang/projects/SubtleGAN/data/RSNA_ASNR_MICCAI_BraTS2021_TrainingData/BraTS2021_00759/BraTS2021_00759_t1.nii.gz']\n",
      "49 191\n",
      "45 210\n",
      "0 142\n"
     ]
    },
    {
     "name": "stderr",
     "output_type": "stream",
     "text": [
      "\r",
      " 95%|█████████▍| 1185/1251 [23:03<01:20,  1.22s/it]"
     ]
    },
    {
     "name": "stdout",
     "output_type": "stream",
     "text": [
      "['/raid/jiang/projects/SubtleGAN/data/RSNA_ASNR_MICCAI_BraTS2021_TrainingData/BraTS2021_01537/BraTS2021_01537_t1.nii.gz']\n",
      "47 188\n",
      "46 212\n",
      "2 140\n"
     ]
    },
    {
     "name": "stderr",
     "output_type": "stream",
     "text": [
      "\r",
      " 95%|█████████▍| 1186/1251 [23:04<01:23,  1.28s/it]"
     ]
    },
    {
     "name": "stdout",
     "output_type": "stream",
     "text": [
      "['/raid/jiang/projects/SubtleGAN/data/RSNA_ASNR_MICCAI_BraTS2021_TrainingData/BraTS2021_00626/BraTS2021_00626_t1.nii.gz']\n",
      "51 189\n",
      "31 214\n",
      "0 146\n"
     ]
    },
    {
     "name": "stderr",
     "output_type": "stream",
     "text": [
      "\r",
      " 95%|█████████▍| 1187/1251 [23:05<01:20,  1.26s/it]"
     ]
    },
    {
     "name": "stdout",
     "output_type": "stream",
     "text": [
      "['/raid/jiang/projects/SubtleGAN/data/RSNA_ASNR_MICCAI_BraTS2021_TrainingData/BraTS2021_00216/BraTS2021_00216_t1.nii.gz']\n",
      "51 187\n",
      "47 208\n",
      "0 137\n"
     ]
    },
    {
     "name": "stderr",
     "output_type": "stream",
     "text": [
      "\r",
      " 95%|█████████▍| 1188/1251 [23:07<01:19,  1.26s/it]"
     ]
    },
    {
     "name": "stdout",
     "output_type": "stream",
     "text": [
      "['/raid/jiang/projects/SubtleGAN/data/RSNA_ASNR_MICCAI_BraTS2021_TrainingData/BraTS2021_01371/BraTS2021_01371_t1.nii.gz']\n",
      "55 182\n",
      "39 215\n",
      "0 142\n"
     ]
    },
    {
     "name": "stderr",
     "output_type": "stream",
     "text": [
      "\r",
      " 95%|█████████▌| 1189/1251 [23:08<01:20,  1.30s/it]"
     ]
    },
    {
     "name": "stdout",
     "output_type": "stream",
     "text": [
      "['/raid/jiang/projects/SubtleGAN/data/RSNA_ASNR_MICCAI_BraTS2021_TrainingData/BraTS2021_01391/BraTS2021_01391_t1.nii.gz']\n",
      "46 191\n",
      "41 218\n",
      "0 141\n"
     ]
    },
    {
     "name": "stderr",
     "output_type": "stream",
     "text": [
      "\r",
      " 95%|█████████▌| 1190/1251 [23:09<01:23,  1.37s/it]"
     ]
    },
    {
     "name": "stdout",
     "output_type": "stream",
     "text": [
      "['/raid/jiang/projects/SubtleGAN/data/RSNA_ASNR_MICCAI_BraTS2021_TrainingData/BraTS2021_00556/BraTS2021_00556_t1.nii.gz']\n",
      "48 190\n",
      "34 215\n",
      "3 143\n"
     ]
    },
    {
     "name": "stderr",
     "output_type": "stream",
     "text": [
      "\r",
      " 95%|█████████▌| 1191/1251 [23:11<01:23,  1.39s/it]"
     ]
    },
    {
     "name": "stdout",
     "output_type": "stream",
     "text": [
      "['/raid/jiang/projects/SubtleGAN/data/RSNA_ASNR_MICCAI_BraTS2021_TrainingData/BraTS2021_00466/BraTS2021_00466_t1.nii.gz']\n",
      "50 194\n",
      "45 207\n",
      "0 146\n"
     ]
    },
    {
     "name": "stderr",
     "output_type": "stream",
     "text": [
      "\r",
      " 95%|█████████▌| 1192/1251 [23:12<01:21,  1.38s/it]"
     ]
    },
    {
     "name": "stdout",
     "output_type": "stream",
     "text": [
      "['/raid/jiang/projects/SubtleGAN/data/RSNA_ASNR_MICCAI_BraTS2021_TrainingData/BraTS2021_01048/BraTS2021_01048_t1.nii.gz']\n",
      "51 186\n",
      "36 222\n",
      "0 137\n"
     ]
    },
    {
     "name": "stderr",
     "output_type": "stream",
     "text": [
      "\r",
      " 95%|█████████▌| 1193/1251 [23:13<01:17,  1.34s/it]"
     ]
    },
    {
     "name": "stdout",
     "output_type": "stream",
     "text": [
      "['/raid/jiang/projects/SubtleGAN/data/RSNA_ASNR_MICCAI_BraTS2021_TrainingData/BraTS2021_01635/BraTS2021_01635_t1.nii.gz']\n",
      "55 185\n",
      "58 208\n",
      "0 141\n"
     ]
    },
    {
     "name": "stderr",
     "output_type": "stream",
     "text": [
      "\r",
      " 95%|█████████▌| 1194/1251 [23:15<01:13,  1.29s/it]"
     ]
    },
    {
     "name": "stdout",
     "output_type": "stream",
     "text": [
      "['/raid/jiang/projects/SubtleGAN/data/RSNA_ASNR_MICCAI_BraTS2021_TrainingData/BraTS2021_01405/BraTS2021_01405_t1.nii.gz']\n",
      "54 185\n",
      "48 215\n",
      "0 143\n"
     ]
    },
    {
     "name": "stderr",
     "output_type": "stream",
     "text": [
      "\r",
      " 96%|█████████▌| 1195/1251 [23:16<01:12,  1.29s/it]"
     ]
    },
    {
     "name": "stdout",
     "output_type": "stream",
     "text": [
      "['/raid/jiang/projects/SubtleGAN/data/RSNA_ASNR_MICCAI_BraTS2021_TrainingData/BraTS2021_00565/BraTS2021_00565_t1.nii.gz']\n",
      "55 182\n",
      "42 214\n",
      "0 136\n"
     ]
    },
    {
     "name": "stderr",
     "output_type": "stream",
     "text": [
      "\r",
      " 96%|█████████▌| 1196/1251 [23:17<01:13,  1.34s/it]"
     ]
    },
    {
     "name": "stdout",
     "output_type": "stream",
     "text": [
      "['/raid/jiang/projects/SubtleGAN/data/RSNA_ASNR_MICCAI_BraTS2021_TrainingData/BraTS2021_00772/BraTS2021_00772_t1.nii.gz']\n",
      "52 188\n",
      "35 210\n",
      "3 145\n"
     ]
    },
    {
     "name": "stderr",
     "output_type": "stream",
     "text": [
      "\r",
      " 96%|█████████▌| 1197/1251 [23:19<01:12,  1.35s/it]"
     ]
    },
    {
     "name": "stdout",
     "output_type": "stream",
     "text": [
      "['/raid/jiang/projects/SubtleGAN/data/RSNA_ASNR_MICCAI_BraTS2021_TrainingData/BraTS2021_00793/BraTS2021_00793_t1.nii.gz']\n",
      "49 188\n",
      "54 212\n",
      "0 150\n"
     ]
    },
    {
     "name": "stderr",
     "output_type": "stream",
     "text": [
      "\r",
      " 96%|█████████▌| 1198/1251 [23:20<01:10,  1.33s/it]"
     ]
    },
    {
     "name": "stdout",
     "output_type": "stream",
     "text": [
      "['/raid/jiang/projects/SubtleGAN/data/RSNA_ASNR_MICCAI_BraTS2021_TrainingData/BraTS2021_00120/BraTS2021_00120_t1.nii.gz']\n",
      "54 181\n",
      "48 210\n",
      "4 142\n"
     ]
    },
    {
     "name": "stderr",
     "output_type": "stream",
     "text": [
      "\r",
      " 96%|█████████▌| 1199/1251 [23:21<01:06,  1.29s/it]"
     ]
    },
    {
     "name": "stdout",
     "output_type": "stream",
     "text": [
      "['/raid/jiang/projects/SubtleGAN/data/RSNA_ASNR_MICCAI_BraTS2021_TrainingData/BraTS2021_00679/BraTS2021_00679_t1.nii.gz']\n",
      "56 182\n",
      "44 213\n",
      "0 141\n"
     ]
    },
    {
     "name": "stderr",
     "output_type": "stream",
     "text": [
      "\r",
      " 96%|█████████▌| 1200/1251 [23:23<01:05,  1.28s/it]"
     ]
    },
    {
     "name": "stdout",
     "output_type": "stream",
     "text": [
      "['/raid/jiang/projects/SubtleGAN/data/RSNA_ASNR_MICCAI_BraTS2021_TrainingData/BraTS2021_01454/BraTS2021_01454_t1.nii.gz']\n",
      "50 192\n",
      "44 216\n",
      "0 137\n"
     ]
    },
    {
     "name": "stderr",
     "output_type": "stream",
     "text": [
      "\r",
      " 96%|█████████▌| 1201/1251 [23:24<01:04,  1.28s/it]"
     ]
    },
    {
     "name": "stdout",
     "output_type": "stream",
     "text": [
      "['/raid/jiang/projects/SubtleGAN/data/RSNA_ASNR_MICCAI_BraTS2021_TrainingData/BraTS2021_00674/BraTS2021_00674_t1.nii.gz']\n",
      "57 188\n",
      "45 208\n",
      "0 150\n"
     ]
    },
    {
     "name": "stderr",
     "output_type": "stream",
     "text": [
      "\r",
      " 96%|█████████▌| 1202/1251 [23:25<01:02,  1.27s/it]"
     ]
    },
    {
     "name": "stdout",
     "output_type": "stream",
     "text": [
      "['/raid/jiang/projects/SubtleGAN/data/RSNA_ASNR_MICCAI_BraTS2021_TrainingData/BraTS2021_00081/BraTS2021_00081_t1.nii.gz']\n",
      "49 187\n",
      "64 213\n",
      "0 144\n"
     ]
    },
    {
     "name": "stderr",
     "output_type": "stream",
     "text": [
      "\r",
      " 96%|█████████▌| 1203/1251 [23:26<01:02,  1.29s/it]"
     ]
    },
    {
     "name": "stdout",
     "output_type": "stream",
     "text": [
      "['/raid/jiang/projects/SubtleGAN/data/RSNA_ASNR_MICCAI_BraTS2021_TrainingData/BraTS2021_00003/BraTS2021_00003_t1.nii.gz']\n",
      "49 189\n",
      "35 212\n",
      "0 139\n"
     ]
    },
    {
     "name": "stderr",
     "output_type": "stream",
     "text": [
      "\r",
      " 96%|█████████▌| 1204/1251 [23:28<01:01,  1.31s/it]"
     ]
    },
    {
     "name": "stdout",
     "output_type": "stream",
     "text": [
      "['/raid/jiang/projects/SubtleGAN/data/RSNA_ASNR_MICCAI_BraTS2021_TrainingData/BraTS2021_00316/BraTS2021_00316_t1.nii.gz']\n",
      "52 186\n",
      "39 223\n",
      "0 140\n"
     ]
    },
    {
     "name": "stderr",
     "output_type": "stream",
     "text": [
      "\r",
      " 96%|█████████▋| 1205/1251 [23:29<01:01,  1.35s/it]"
     ]
    },
    {
     "name": "stdout",
     "output_type": "stream",
     "text": [
      "['/raid/jiang/projects/SubtleGAN/data/RSNA_ASNR_MICCAI_BraTS2021_TrainingData/BraTS2021_01081/BraTS2021_01081_t1.nii.gz']\n",
      "51 187\n",
      "38 221\n",
      "0 137\n"
     ]
    },
    {
     "name": "stderr",
     "output_type": "stream",
     "text": [
      "\r",
      " 96%|█████████▋| 1206/1251 [23:31<01:00,  1.35s/it]"
     ]
    },
    {
     "name": "stdout",
     "output_type": "stream",
     "text": [
      "['/raid/jiang/projects/SubtleGAN/data/RSNA_ASNR_MICCAI_BraTS2021_TrainingData/BraTS2021_00251/BraTS2021_00251_t1.nii.gz']\n",
      "51 186\n",
      "39 217\n",
      "0 140\n"
     ]
    },
    {
     "name": "stderr",
     "output_type": "stream",
     "text": [
      "\r",
      " 96%|█████████▋| 1207/1251 [23:32<01:01,  1.41s/it]"
     ]
    },
    {
     "name": "stdout",
     "output_type": "stream",
     "text": [
      "['/raid/jiang/projects/SubtleGAN/data/RSNA_ASNR_MICCAI_BraTS2021_TrainingData/BraTS2021_00655/BraTS2021_00655_t1.nii.gz']\n",
      "44 195\n",
      "29 210\n",
      "0 138\n"
     ]
    },
    {
     "name": "stderr",
     "output_type": "stream",
     "text": [
      "\r",
      " 97%|█████████▋| 1208/1251 [23:34<01:01,  1.42s/it]"
     ]
    },
    {
     "name": "stdout",
     "output_type": "stream",
     "text": [
      "['/raid/jiang/projects/SubtleGAN/data/RSNA_ASNR_MICCAI_BraTS2021_TrainingData/BraTS2021_01554/BraTS2021_01554_t1.nii.gz']\n",
      "47 193\n",
      "34 216\n",
      "0 142\n"
     ]
    },
    {
     "name": "stderr",
     "output_type": "stream",
     "text": [
      "\r",
      " 97%|█████████▋| 1209/1251 [23:35<01:01,  1.46s/it]"
     ]
    },
    {
     "name": "stdout",
     "output_type": "stream",
     "text": [
      "['/raid/jiang/projects/SubtleGAN/data/RSNA_ASNR_MICCAI_BraTS2021_TrainingData/BraTS2021_01105/BraTS2021_01105_t1.nii.gz']\n",
      "45 192\n",
      "46 212\n",
      "0 137\n"
     ]
    },
    {
     "name": "stderr",
     "output_type": "stream",
     "text": [
      "\r",
      " 97%|█████████▋| 1210/1251 [23:37<00:59,  1.46s/it]"
     ]
    },
    {
     "name": "stdout",
     "output_type": "stream",
     "text": [
      "['/raid/jiang/projects/SubtleGAN/data/RSNA_ASNR_MICCAI_BraTS2021_TrainingData/BraTS2021_00433/BraTS2021_00433_t1.nii.gz']\n",
      "49 187\n",
      "40 217\n",
      "0 138\n"
     ]
    },
    {
     "name": "stderr",
     "output_type": "stream",
     "text": [
      "\r",
      " 97%|█████████▋| 1211/1251 [23:38<00:56,  1.42s/it]"
     ]
    },
    {
     "name": "stdout",
     "output_type": "stream",
     "text": [
      "['/raid/jiang/projects/SubtleGAN/data/RSNA_ASNR_MICCAI_BraTS2021_TrainingData/BraTS2021_01261/BraTS2021_01261_t1.nii.gz']\n",
      "52 186\n",
      "42 219\n",
      "0 140\n"
     ]
    },
    {
     "name": "stderr",
     "output_type": "stream",
     "text": [
      "\r",
      " 97%|█████████▋| 1212/1251 [23:39<00:53,  1.38s/it]"
     ]
    },
    {
     "name": "stdout",
     "output_type": "stream",
     "text": [
      "['/raid/jiang/projects/SubtleGAN/data/RSNA_ASNR_MICCAI_BraTS2021_TrainingData/BraTS2021_00686/BraTS2021_00686_t1.nii.gz']\n",
      "47 191\n",
      "37 217\n",
      "0 137\n"
     ]
    },
    {
     "name": "stderr",
     "output_type": "stream",
     "text": [
      "\r",
      " 97%|█████████▋| 1213/1251 [23:41<00:52,  1.37s/it]"
     ]
    },
    {
     "name": "stdout",
     "output_type": "stream",
     "text": [
      "['/raid/jiang/projects/SubtleGAN/data/RSNA_ASNR_MICCAI_BraTS2021_TrainingData/BraTS2021_00630/BraTS2021_00630_t1.nii.gz']\n",
      "46 192\n",
      "38 201\n",
      "1 146\n"
     ]
    },
    {
     "name": "stderr",
     "output_type": "stream",
     "text": [
      "\r",
      " 97%|█████████▋| 1214/1251 [23:42<00:49,  1.35s/it]"
     ]
    },
    {
     "name": "stdout",
     "output_type": "stream",
     "text": [
      "['/raid/jiang/projects/SubtleGAN/data/RSNA_ASNR_MICCAI_BraTS2021_TrainingData/BraTS2021_00344/BraTS2021_00344_t1.nii.gz']\n",
      "52 183\n",
      "48 214\n",
      "0 137\n"
     ]
    },
    {
     "name": "stderr",
     "output_type": "stream",
     "text": [
      "\r",
      " 97%|█████████▋| 1215/1251 [23:43<00:48,  1.33s/it]"
     ]
    },
    {
     "name": "stdout",
     "output_type": "stream",
     "text": [
      "['/raid/jiang/projects/SubtleGAN/data/RSNA_ASNR_MICCAI_BraTS2021_TrainingData/BraTS2021_01291/BraTS2021_01291_t1.nii.gz']\n",
      "52 182\n",
      "49 215\n",
      "3 142\n"
     ]
    },
    {
     "name": "stderr",
     "output_type": "stream",
     "text": [
      "\r",
      " 97%|█████████▋| 1216/1251 [23:44<00:45,  1.29s/it]"
     ]
    },
    {
     "name": "stdout",
     "output_type": "stream",
     "text": [
      "['/raid/jiang/projects/SubtleGAN/data/RSNA_ASNR_MICCAI_BraTS2021_TrainingData/BraTS2021_00085/BraTS2021_00085_t1.nii.gz']\n",
      "54 190\n",
      "29 212\n",
      "1 144\n"
     ]
    },
    {
     "name": "stderr",
     "output_type": "stream",
     "text": [
      "\r",
      " 97%|█████████▋| 1217/1251 [23:46<00:43,  1.29s/it]"
     ]
    },
    {
     "name": "stdout",
     "output_type": "stream",
     "text": [
      "['/raid/jiang/projects/SubtleGAN/data/RSNA_ASNR_MICCAI_BraTS2021_TrainingData/BraTS2021_01196/BraTS2021_01196_t1.nii.gz']\n",
      "57 182\n",
      "43 214\n",
      "2 137\n"
     ]
    },
    {
     "name": "stderr",
     "output_type": "stream",
     "text": [
      "\r",
      " 97%|█████████▋| 1218/1251 [23:47<00:43,  1.32s/it]"
     ]
    },
    {
     "name": "stdout",
     "output_type": "stream",
     "text": [
      "['/raid/jiang/projects/SubtleGAN/data/RSNA_ASNR_MICCAI_BraTS2021_TrainingData/BraTS2021_01425/BraTS2021_01425_t1.nii.gz']\n",
      "48 192\n",
      "38 220\n",
      "1 143\n"
     ]
    },
    {
     "name": "stderr",
     "output_type": "stream",
     "text": [
      "\r",
      " 97%|█████████▋| 1219/1251 [23:48<00:42,  1.32s/it]"
     ]
    },
    {
     "name": "stdout",
     "output_type": "stream",
     "text": [
      "['/raid/jiang/projects/SubtleGAN/data/RSNA_ASNR_MICCAI_BraTS2021_TrainingData/BraTS2021_01052/BraTS2021_01052_t1.nii.gz']\n",
      "54 184\n",
      "36 219\n",
      "0 140\n"
     ]
    },
    {
     "name": "stderr",
     "output_type": "stream",
     "text": [
      "\r",
      " 98%|█████████▊| 1220/1251 [23:50<00:40,  1.30s/it]"
     ]
    },
    {
     "name": "stdout",
     "output_type": "stream",
     "text": [
      "['/raid/jiang/projects/SubtleGAN/data/RSNA_ASNR_MICCAI_BraTS2021_TrainingData/BraTS2021_00204/BraTS2021_00204_t1.nii.gz']\n",
      "49 188\n",
      "42 215\n",
      "0 137\n"
     ]
    },
    {
     "name": "stderr",
     "output_type": "stream",
     "text": [
      "\r",
      " 98%|█████████▊| 1221/1251 [23:51<00:39,  1.32s/it]"
     ]
    },
    {
     "name": "stdout",
     "output_type": "stream",
     "text": [
      "['/raid/jiang/projects/SubtleGAN/data/RSNA_ASNR_MICCAI_BraTS2021_TrainingData/BraTS2021_00100/BraTS2021_00100_t1.nii.gz']\n",
      "51 184\n",
      "51 211\n",
      "4 137\n"
     ]
    },
    {
     "name": "stderr",
     "output_type": "stream",
     "text": [
      "\r",
      " 98%|█████████▊| 1222/1251 [23:52<00:36,  1.27s/it]"
     ]
    },
    {
     "name": "stdout",
     "output_type": "stream",
     "text": [
      "['/raid/jiang/projects/SubtleGAN/data/RSNA_ASNR_MICCAI_BraTS2021_TrainingData/BraTS2021_01407/BraTS2021_01407_t1.nii.gz']\n",
      "54 183\n",
      "46 211\n",
      "0 137\n"
     ]
    },
    {
     "name": "stderr",
     "output_type": "stream",
     "text": [
      "\r",
      " 98%|█████████▊| 1223/1251 [23:53<00:36,  1.30s/it]"
     ]
    },
    {
     "name": "stdout",
     "output_type": "stream",
     "text": [
      "['/raid/jiang/projects/SubtleGAN/data/RSNA_ASNR_MICCAI_BraTS2021_TrainingData/BraTS2021_00658/BraTS2021_00658_t1.nii.gz']\n",
      "48 194\n",
      "29 209\n",
      "0 141\n"
     ]
    },
    {
     "name": "stderr",
     "output_type": "stream",
     "text": [
      "\r",
      " 98%|█████████▊| 1224/1251 [23:55<00:36,  1.34s/it]"
     ]
    },
    {
     "name": "stdout",
     "output_type": "stream",
     "text": [
      "['/raid/jiang/projects/SubtleGAN/data/RSNA_ASNR_MICCAI_BraTS2021_TrainingData/BraTS2021_01611/BraTS2021_01611_t1.nii.gz']\n",
      "47 180\n",
      "45 216\n",
      "2 140\n"
     ]
    },
    {
     "name": "stderr",
     "output_type": "stream",
     "text": [
      "\r",
      " 98%|█████████▊| 1225/1251 [23:56<00:34,  1.34s/it]"
     ]
    },
    {
     "name": "stdout",
     "output_type": "stream",
     "text": [
      "['/raid/jiang/projects/SubtleGAN/data/RSNA_ASNR_MICCAI_BraTS2021_TrainingData/BraTS2021_00391/BraTS2021_00391_t1.nii.gz']\n",
      "50 186\n",
      "43 215\n",
      "0 143\n"
     ]
    },
    {
     "name": "stderr",
     "output_type": "stream",
     "text": [
      "\r",
      " 98%|█████████▊| 1226/1251 [23:58<00:33,  1.35s/it]"
     ]
    },
    {
     "name": "stdout",
     "output_type": "stream",
     "text": [
      "['/raid/jiang/projects/SubtleGAN/data/RSNA_ASNR_MICCAI_BraTS2021_TrainingData/BraTS2021_00652/BraTS2021_00652_t1.nii.gz']\n",
      "51 195\n",
      "34 208\n",
      "0 142\n"
     ]
    },
    {
     "name": "stderr",
     "output_type": "stream",
     "text": [
      "\r",
      " 98%|█████████▊| 1227/1251 [23:59<00:32,  1.35s/it]"
     ]
    },
    {
     "name": "stdout",
     "output_type": "stream",
     "text": [
      "['/raid/jiang/projects/SubtleGAN/data/RSNA_ASNR_MICCAI_BraTS2021_TrainingData/BraTS2021_01054/BraTS2021_01054_t1.nii.gz']\n",
      "53 185\n",
      "44 215\n",
      "0 133\n"
     ]
    },
    {
     "name": "stderr",
     "output_type": "stream",
     "text": [
      "\r",
      " 98%|█████████▊| 1228/1251 [24:00<00:30,  1.31s/it]"
     ]
    },
    {
     "name": "stdout",
     "output_type": "stream",
     "text": [
      "['/raid/jiang/projects/SubtleGAN/data/RSNA_ASNR_MICCAI_BraTS2021_TrainingData/BraTS2021_00668/BraTS2021_00668_t1.nii.gz']\n",
      "54 184\n",
      "34 213\n",
      "1 141\n"
     ]
    },
    {
     "name": "stderr",
     "output_type": "stream",
     "text": [
      "\r",
      " 98%|█████████▊| 1229/1251 [24:01<00:28,  1.30s/it]"
     ]
    },
    {
     "name": "stdout",
     "output_type": "stream",
     "text": [
      "['/raid/jiang/projects/SubtleGAN/data/RSNA_ASNR_MICCAI_BraTS2021_TrainingData/BraTS2021_01397/BraTS2021_01397_t1.nii.gz']\n",
      "52 187\n",
      "45 214\n",
      "0 136\n"
     ]
    },
    {
     "name": "stderr",
     "output_type": "stream",
     "text": [
      "\r",
      " 98%|█████████▊| 1230/1251 [24:03<00:27,  1.31s/it]"
     ]
    },
    {
     "name": "stdout",
     "output_type": "stream",
     "text": [
      "['/raid/jiang/projects/SubtleGAN/data/RSNA_ASNR_MICCAI_BraTS2021_TrainingData/BraTS2021_00488/BraTS2021_00488_t1.nii.gz']\n",
      "53 188\n",
      "30 210\n",
      "10 147\n"
     ]
    },
    {
     "name": "stderr",
     "output_type": "stream",
     "text": [
      "\r",
      " 98%|█████████▊| 1231/1251 [24:04<00:25,  1.28s/it]"
     ]
    },
    {
     "name": "stdout",
     "output_type": "stream",
     "text": [
      "['/raid/jiang/projects/SubtleGAN/data/RSNA_ASNR_MICCAI_BraTS2021_TrainingData/BraTS2021_01455/BraTS2021_01455_t1.nii.gz']\n",
      "48 188\n",
      "46 211\n",
      "6 139\n"
     ]
    },
    {
     "name": "stderr",
     "output_type": "stream",
     "text": [
      "\r",
      " 98%|█████████▊| 1232/1251 [24:05<00:24,  1.31s/it]"
     ]
    },
    {
     "name": "stdout",
     "output_type": "stream",
     "text": [
      "['/raid/jiang/projects/SubtleGAN/data/RSNA_ASNR_MICCAI_BraTS2021_TrainingData/BraTS2021_01515/BraTS2021_01515_t1.nii.gz']\n",
      "52 184\n",
      "39 218\n",
      "0 143\n"
     ]
    },
    {
     "name": "stderr",
     "output_type": "stream",
     "text": [
      "\r",
      " 99%|█████████▊| 1233/1251 [24:07<00:23,  1.33s/it]"
     ]
    },
    {
     "name": "stdout",
     "output_type": "stream",
     "text": [
      "['/raid/jiang/projects/SubtleGAN/data/RSNA_ASNR_MICCAI_BraTS2021_TrainingData/BraTS2021_00432/BraTS2021_00432_t1.nii.gz']\n",
      "53 183\n",
      "44 212\n",
      "0 143\n"
     ]
    },
    {
     "name": "stderr",
     "output_type": "stream",
     "text": [
      "\r",
      " 99%|█████████▊| 1234/1251 [24:08<00:22,  1.32s/it]"
     ]
    },
    {
     "name": "stdout",
     "output_type": "stream",
     "text": [
      "['/raid/jiang/projects/SubtleGAN/data/RSNA_ASNR_MICCAI_BraTS2021_TrainingData/BraTS2021_00613/BraTS2021_00613_t1.nii.gz']\n",
      "51 181\n",
      "37 205\n",
      "8 145\n"
     ]
    },
    {
     "name": "stderr",
     "output_type": "stream",
     "text": [
      "\r",
      " 99%|█████████▊| 1235/1251 [24:09<00:20,  1.29s/it]"
     ]
    },
    {
     "name": "stdout",
     "output_type": "stream",
     "text": [
      "['/raid/jiang/projects/SubtleGAN/data/RSNA_ASNR_MICCAI_BraTS2021_TrainingData/BraTS2021_00165/BraTS2021_00165_t1.nii.gz']\n",
      "50 185\n",
      "39 219\n",
      "2 138\n"
     ]
    },
    {
     "name": "stderr",
     "output_type": "stream",
     "text": [
      "\r",
      " 99%|█████████▉| 1236/1251 [24:11<00:19,  1.33s/it]"
     ]
    },
    {
     "name": "stdout",
     "output_type": "stream",
     "text": [
      "['/raid/jiang/projects/SubtleGAN/data/RSNA_ASNR_MICCAI_BraTS2021_TrainingData/BraTS2021_00449/BraTS2021_00449_t1.nii.gz']\n",
      "47 189\n",
      "51 210\n",
      "0 143\n"
     ]
    },
    {
     "name": "stderr",
     "output_type": "stream",
     "text": [
      "\r",
      " 99%|█████████▉| 1237/1251 [24:12<00:18,  1.29s/it]"
     ]
    },
    {
     "name": "stdout",
     "output_type": "stream",
     "text": [
      "['/raid/jiang/projects/SubtleGAN/data/RSNA_ASNR_MICCAI_BraTS2021_TrainingData/BraTS2021_01483/BraTS2021_01483_t1.nii.gz']\n",
      "49 184\n",
      "53 210\n",
      "0 134\n",
      "['/raid/jiang/projects/SubtleGAN/data/RSNA_ASNR_MICCAI_BraTS2021_TrainingData/BraTS2021_00115/BraTS2021_00115_t1.nii.gz']\n"
     ]
    },
    {
     "name": "stderr",
     "output_type": "stream",
     "text": [
      "\r",
      " 99%|█████████▉| 1238/1251 [24:13<00:16,  1.31s/it]"
     ]
    },
    {
     "name": "stdout",
     "output_type": "stream",
     "text": [
      "53 183\n",
      "43 216\n",
      "3 138\n"
     ]
    },
    {
     "name": "stderr",
     "output_type": "stream",
     "text": [
      "\r",
      " 99%|█████████▉| 1239/1251 [24:15<00:15,  1.33s/it]"
     ]
    },
    {
     "name": "stdout",
     "output_type": "stream",
     "text": [
      "['/raid/jiang/projects/SubtleGAN/data/RSNA_ASNR_MICCAI_BraTS2021_TrainingData/BraTS2021_01637/BraTS2021_01637_t1.nii.gz']\n",
      "50 187\n",
      "42 220\n",
      "19 140\n"
     ]
    },
    {
     "name": "stderr",
     "output_type": "stream",
     "text": [
      "\r",
      " 99%|█████████▉| 1240/1251 [24:16<00:14,  1.31s/it]"
     ]
    },
    {
     "name": "stdout",
     "output_type": "stream",
     "text": [
      "['/raid/jiang/projects/SubtleGAN/data/RSNA_ASNR_MICCAI_BraTS2021_TrainingData/BraTS2021_01336/BraTS2021_01336_t1.nii.gz']\n",
      "47 188\n",
      "47 209\n",
      "0 138\n"
     ]
    },
    {
     "name": "stderr",
     "output_type": "stream",
     "text": [
      "\r",
      " 99%|█████████▉| 1241/1251 [24:17<00:13,  1.35s/it]"
     ]
    },
    {
     "name": "stdout",
     "output_type": "stream",
     "text": [
      "['/raid/jiang/projects/SubtleGAN/data/RSNA_ASNR_MICCAI_BraTS2021_TrainingData/BraTS2021_01100/BraTS2021_01100_t1.nii.gz']\n",
      "49 185\n",
      "36 222\n",
      "0 144\n"
     ]
    },
    {
     "name": "stderr",
     "output_type": "stream",
     "text": [
      "\r",
      " 99%|█████████▉| 1242/1251 [24:19<00:12,  1.41s/it]"
     ]
    },
    {
     "name": "stdout",
     "output_type": "stream",
     "text": [
      "['/raid/jiang/projects/SubtleGAN/data/RSNA_ASNR_MICCAI_BraTS2021_TrainingData/BraTS2021_00051/BraTS2021_00051_t1.nii.gz']\n",
      "54 188\n",
      "45 213\n",
      "0 142\n"
     ]
    },
    {
     "name": "stderr",
     "output_type": "stream",
     "text": [
      "\r",
      " 99%|█████████▉| 1243/1251 [24:20<00:11,  1.38s/it]"
     ]
    },
    {
     "name": "stdout",
     "output_type": "stream",
     "text": [
      "['/raid/jiang/projects/SubtleGAN/data/RSNA_ASNR_MICCAI_BraTS2021_TrainingData/BraTS2021_01540/BraTS2021_01540_t1.nii.gz']\n",
      "53 183\n",
      "46 217\n",
      "0 147\n"
     ]
    },
    {
     "name": "stderr",
     "output_type": "stream",
     "text": [
      "\r",
      " 99%|█████████▉| 1244/1251 [24:22<00:09,  1.37s/it]"
     ]
    },
    {
     "name": "stdout",
     "output_type": "stream",
     "text": [
      "['/raid/jiang/projects/SubtleGAN/data/RSNA_ASNR_MICCAI_BraTS2021_TrainingData/BraTS2021_00123/BraTS2021_00123_t1.nii.gz']\n",
      "50 188\n",
      "45 211\n",
      "0 139\n"
     ]
    },
    {
     "name": "stderr",
     "output_type": "stream",
     "text": [
      "\r",
      "100%|█████████▉| 1245/1251 [24:23<00:07,  1.33s/it]"
     ]
    },
    {
     "name": "stdout",
     "output_type": "stream",
     "text": [
      "['/raid/jiang/projects/SubtleGAN/data/RSNA_ASNR_MICCAI_BraTS2021_TrainingData/BraTS2021_00413/BraTS2021_00413_t1.nii.gz']\n",
      "51 184\n",
      "55 206\n",
      "0 132\n"
     ]
    },
    {
     "name": "stderr",
     "output_type": "stream",
     "text": [
      "\r",
      "100%|█████████▉| 1246/1251 [24:24<00:06,  1.26s/it]"
     ]
    },
    {
     "name": "stdout",
     "output_type": "stream",
     "text": [
      "['/raid/jiang/projects/SubtleGAN/data/RSNA_ASNR_MICCAI_BraTS2021_TrainingData/BraTS2021_00774/BraTS2021_00774_t1.nii.gz']\n",
      "53 183\n",
      "32 212\n",
      "0 140\n"
     ]
    },
    {
     "name": "stderr",
     "output_type": "stream",
     "text": [
      "\r",
      "100%|█████████▉| 1247/1251 [24:25<00:05,  1.26s/it]"
     ]
    },
    {
     "name": "stdout",
     "output_type": "stream",
     "text": [
      "['/raid/jiang/projects/SubtleGAN/data/RSNA_ASNR_MICCAI_BraTS2021_TrainingData/BraTS2021_00493/BraTS2021_00493_t1.nii.gz']\n",
      "52 187\n",
      "39 209\n",
      "8 139\n"
     ]
    },
    {
     "name": "stderr",
     "output_type": "stream",
     "text": [
      "\r",
      "100%|█████████▉| 1248/1251 [24:26<00:03,  1.25s/it]"
     ]
    },
    {
     "name": "stdout",
     "output_type": "stream",
     "text": [
      "['/raid/jiang/projects/SubtleGAN/data/RSNA_ASNR_MICCAI_BraTS2021_TrainingData/BraTS2021_01408/BraTS2021_01408_t1.nii.gz']\n",
      "48 189\n",
      "49 211\n",
      "0 140\n"
     ]
    },
    {
     "name": "stderr",
     "output_type": "stream",
     "text": [
      "\r",
      "100%|█████████▉| 1249/1251 [24:28<00:02,  1.29s/it]"
     ]
    },
    {
     "name": "stdout",
     "output_type": "stream",
     "text": [
      "['/raid/jiang/projects/SubtleGAN/data/RSNA_ASNR_MICCAI_BraTS2021_TrainingData/BraTS2021_01546/BraTS2021_01546_t1.nii.gz']\n",
      "52 183\n",
      "60 212\n",
      "0 142\n"
     ]
    },
    {
     "name": "stderr",
     "output_type": "stream",
     "text": [
      "\r",
      "100%|█████████▉| 1250/1251 [24:29<00:01,  1.30s/it]"
     ]
    },
    {
     "name": "stdout",
     "output_type": "stream",
     "text": [
      "['/raid/jiang/projects/SubtleGAN/data/RSNA_ASNR_MICCAI_BraTS2021_TrainingData/BraTS2021_00730/BraTS2021_00730_t1.nii.gz']\n",
      "50 189\n",
      "47 208\n",
      "1 140\n"
     ]
    },
    {
     "name": "stderr",
     "output_type": "stream",
     "text": [
      "100%|██████████| 1251/1251 [24:30<00:00,  1.18s/it]"
     ]
    },
    {
     "name": "stdout",
     "output_type": "stream",
     "text": [
      "['/raid/jiang/projects/SubtleGAN/data/RSNA_ASNR_MICCAI_BraTS2021_TrainingData/BraTS2021_00431/BraTS2021_00431_t1.nii.gz']\n",
      "49 187\n",
      "45 219\n",
      "0 140\n"
     ]
    },
    {
     "name": "stderr",
     "output_type": "stream",
     "text": [
      "\n"
     ]
    }
   ],
   "source": [
    "cases = glob.glob('/raid/jiang/projects/SubtleGAN/data/RSNA_ASNR_MICCAI_BraTS2021_TrainingData/Bra*')\n",
    "min1 = []\n",
    "max1 = []\n",
    "min2 = []\n",
    "max2 = []\n",
    "center1 = []\n",
    "center2 = []\n",
    "for case in tqdm(cases):\n",
    "    fn = glob.glob(f'{case}/*t1.nii.gz')\n",
    "    array = nib.load(fn[0]).get_fdata()\n",
    "    mask = array >0\n",
    "    indices = np.nonzero(mask)\n",
    "    indices = [sorted(index) for index in indices]\n",
    "    print(fn)\n",
    "    for index in indices:\n",
    "        print(index[0], index[-1])\n",
    "    max2 += [indices[1][-1]]\n",
    "    min2 += [indices[1][0]]\n",
    "    max1 += [indices[0][-1]]\n",
    "    min1 += [indices[0][0]]\n",
    "    center1 += [(indices[0][-1] + indices[0][0])/2]\n",
    "    center2 += [(indices[1][-1] + indices[1][0])/2]"
   ]
  },
  {
   "cell_type": "code",
   "execution_count": 109,
   "id": "5297a8bf",
   "metadata": {},
   "outputs": [
    {
     "name": "stdout",
     "output_type": "stream",
     "text": [
      "37 61 50.86810551558753\n",
      "175 215 186.61710631494805\n",
      "10 65 43.02398081534772\n",
      "180 228 213.09992006394884\n",
      "110.5 132.0 118.74260591526779\n",
      "111.5 140.5 128.06195043964829\n"
     ]
    }
   ],
   "source": [
    "def print_list(data):\n",
    "    print(np.min(data), np.max(data), np.mean(data))\n",
    "print_list(min1)\n",
    "print_list(max1)\n",
    "print_list(min2)\n",
    "print_list(max2)\n",
    "print_list(center1)\n",
    "print_list(center2)"
   ]
  },
  {
   "cell_type": "code",
   "execution_count": 108,
   "id": "34800ed2",
   "metadata": {},
   "outputs": [],
   "source": [
    "center: [118, 128]\n",
    "range: [22: 214] [32: 224]"
   ]
  },
  {
   "cell_type": "code",
   "execution_count": 113,
   "id": "a7630640",
   "metadata": {},
   "outputs": [],
   "source": [
    "import matplotlib.pyplot as plt\n",
    "img_cropped = array[22:214, 32:224, :]\n",
    "image_c = nib.Nifti1Image(img_cropped,  np.eye(4))\n",
    "nib.save(image_c, 'test_crop.nii.gz')  "
   ]
  },
  {
   "cell_type": "code",
   "execution_count": 28,
   "id": "0455030b",
   "metadata": {},
   "outputs": [],
   "source": [
    "cropped_img, bbox = get_brain_portion(img.transpose(2, 0, 1))"
   ]
  },
  {
   "cell_type": "code",
   "execution_count": 111,
   "id": "159a325a",
   "metadata": {},
   "outputs": [
    {
     "data": {
      "text/plain": [
       "<matplotlib.image.AxesImage at 0x7ff47bab20a0>"
      ]
     },
     "execution_count": 111,
     "metadata": {},
     "output_type": "execute_result"
    },
    {
     "data": {
      "image/png": "[encoded data removed]",
      "text/plain": [
       "<Figure size 432x288 with 1 Axes>"
      ]
     },
     "metadata": {
      "needs_background": "light"
     },
     "output_type": "display_data"
    }
   ],
   "source": [
    "plt.imshow(img_cropped[:, :, 100], cmap='gray')"
   ]
  },
  {
   "cell_type": "code",
   "execution_count": 44,
   "id": "957bfd26",
   "metadata": {},
   "outputs": [],
   "source": [
    "template_data = 'T2_brain.nii'\n",
    "template_img = nib.load(template_data).get_fdata()"
   ]
  },
  {
   "cell_type": "code",
   "execution_count": 87,
   "id": "de7939c7",
   "metadata": {},
   "outputs": [],
   "source": [
    "mask = img >0"
   ]
  },
  {
   "cell_type": "code",
   "execution_count": 88,
   "id": "f4dc01ea",
   "metadata": {},
   "outputs": [
    {
     "data": {
      "text/plain": [
       "<matplotlib.image.AxesImage at 0x7ff489f22430>"
      ]
     },
     "execution_count": 88,
     "metadata": {},
     "output_type": "execute_result"
    },
    {
     "data": {
      "image/png": "[encoded data removed]",
      "text/plain": [
       "<Figure size 432x288 with 1 Axes>"
      ]
     },
     "metadata": {
      "needs_background": "light"
     },
     "output_type": "display_data"
    }
   ],
   "source": [
    "plt.imshow(mask[:, :, 100], cmap='gray')"
   ]
  },
  {
   "cell_type": "code",
   "execution_count": 89,
   "id": "17ba911e",
   "metadata": {},
   "outputs": [],
   "source": [
    "outs = np.nonzero(mask)"
   ]
  },
  {
   "cell_type": "code",
   "execution_count": 90,
   "id": "73cfc8ee",
   "metadata": {},
   "outputs": [],
   "source": [
    "dim0 = sorted(outs[0])\n",
    "dim1 = sorted(outs[1])\n",
    "dim2 = sorted(outs[2])"
   ]
  },
  {
   "cell_type": "code",
   "execution_count": 91,
   "id": "d860041b",
   "metadata": {},
   "outputs": [
    {
     "name": "stdout",
     "output_type": "stream",
     "text": [
      "47 193\n",
      "45 214\n",
      "4 141\n"
     ]
    }
   ],
   "source": [
    "print(dim0[0], dim0[-1])\n",
    "print(dim1[0], dim1[-1])\n",
    "print(dim2[0], dim2[-1])"
   ]
  },
  {
   "cell_type": "code",
   "execution_count": 62,
   "id": "a2708365",
   "metadata": {},
   "outputs": [
    {
     "data": {
      "text/plain": [
       "<matplotlib.image.AxesImage at 0x7ff489f4f6d0>"
      ]
     },
     "execution_count": 62,
     "metadata": {},
     "output_type": "execute_result"
    },
    {
     "data": {
      "image/png": "[encoded data removed]",
      "text/plain": [
       "<Figure size 432x288 with 1 Axes>"
      ]
     },
     "metadata": {
      "needs_background": "light"
     },
     "output_type": "display_data"
    }
   ],
   "source": [
    "plt.imshow(mask[:, :, 139], cmap='gray')\n",
    "55 182\n",
    "46 214\n",
    "9 138\n",
    "\n",
    "47 193\n",
    "45 214\n",
    "5 141"
   ]
  },
  {
   "cell_type": "code",
   "execution_count": 92,
   "id": "e8a07f2f",
   "metadata": {},
   "outputs": [
    {
     "data": {
      "text/plain": [
       "168"
      ]
     },
     "execution_count": 92,
     "metadata": {},
     "output_type": "execute_result"
    }
   ],
   "source": [
    "214-46 "
   ]
  },
  {
   "cell_type": "code",
   "execution_count": 93,
   "id": "15e186f3",
   "metadata": {},
   "outputs": [
    {
     "data": {
      "text/plain": [
       "146"
      ]
     },
     "execution_count": 93,
     "metadata": {},
     "output_type": "execute_result"
    }
   ],
   "source": [
    "193-47"
   ]
  },
  {
   "cell_type": "code",
   "execution_count": 72,
   "id": "37abc0f6",
   "metadata": {},
   "outputs": [],
   "source": [
    "img_cropped = template_img[24:216, 9:201, :]"
   ]
  },
  {
   "cell_type": "code",
   "execution_count": 73,
   "id": "6dd11653",
   "metadata": {},
   "outputs": [
    {
     "data": {
      "text/plain": [
       "(192, 192, 155, 1)"
      ]
     },
     "execution_count": 73,
     "metadata": {},
     "output_type": "execute_result"
    }
   ],
   "source": [
    "img_cropped.shape"
   ]
  },
  {
   "cell_type": "code",
   "execution_count": 74,
   "id": "7bb93292",
   "metadata": {},
   "outputs": [],
   "source": []
  },
  {
   "cell_type": "code",
   "execution_count": 75,
   "id": "3df63bf5",
   "metadata": {},
   "outputs": [],
   "source": []
  },
  {
   "cell_type": "code",
   "execution_count": null,
   "id": "62971884",
   "metadata": {},
   "outputs": [],
   "source": []
  }
 ],
 "metadata": {
  "kernelspec": {
   "display_name": "Python 3",
   "language": "python",
   "name": "python3"
  },
  "language_info": {
   "codemirror_mode": {
    "name": "ipython",
    "version": 3
   },
   "file_extension": ".py",
   "mimetype": "text/x-python",
   "name": "python",
   "nbconvert_exporter": "python",
   "pygments_lexer": "ipython3",
   "version": "3.9.5"
  }
 },
 "nbformat": 4,
 "nbformat_minor": 5
}
