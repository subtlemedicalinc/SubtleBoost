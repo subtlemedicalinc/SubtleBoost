{
 "cells": [
  {
   "cell_type": "code",
   "execution_count": 1,
   "id": "d694463a",
   "metadata": {},
   "outputs": [],
   "source": [
    "import os\n",
    "import numpy as np\n",
    "import nibabel as nib\n",
    "import glob\n",
    "import matplotlib.pyplot as plt\n",
    "from tqdm import tqdm, trange"
   ]
  },
  {
   "cell_type": "code",
   "execution_count": 2,
   "id": "16a74032",
   "metadata": {},
   "outputs": [],
   "source": [
    "def preprocess_data(data):\n",
    "    data = data/data.mean()\n",
    "    data = data[38:198, 32:224, :]\n",
    "    #data = np.pad(data, ((8,8), (8,8), (0,0)), 'constant', constant_values=0)\n",
    "    return data"
   ]
  },
  {
   "cell_type": "code",
   "execution_count": 6,
   "id": "5f1d8666",
   "metadata": {},
   "outputs": [
    {
     "name": "stderr",
     "output_type": "stream",
     "text": [
      "\r",
      "  0%|          | 0/1123 [00:00<?, ?it/s]"
     ]
    },
    {
     "name": "stdout",
     "output_type": "stream",
     "text": [
      "/home/jiang/projects/SubtleGAN/data/brats2021/train/BraTS2021_00060\n"
     ]
    },
    {
     "name": "stderr",
     "output_type": "stream",
     "text": [
      "\n",
      "  0%|          | 0/80 [00:00<?, ?it/s]\u001b[A\n",
      " 36%|███▋      | 29/80 [00:00<00:00, 284.15it/s]\u001b[A\n",
      "100%|██████████| 80/80 [00:00<00:00, 282.20it/s]\u001b[A\n",
      "  0%|          | 1/1123 [00:00<15:38,  1.20it/s]"
     ]
    },
    {
     "name": "stdout",
     "output_type": "stream",
     "text": [
      "/home/jiang/projects/SubtleGAN/data/brats2021/train/BraTS2021_01487\n"
     ]
    },
    {
     "name": "stderr",
     "output_type": "stream",
     "text": [
      "\n",
      "  0%|          | 0/80 [00:00<?, ?it/s]\u001b[A\n",
      " 38%|███▊      | 30/80 [00:00<00:00, 293.80it/s]\u001b[A\n",
      "100%|██████████| 80/80 [00:00<00:00, 270.45it/s]\u001b[A\n",
      "  0%|          | 2/1123 [00:01<14:47,  1.26it/s]"
     ]
    },
    {
     "name": "stdout",
     "output_type": "stream",
     "text": [
      "/home/jiang/projects/SubtleGAN/data/brats2021/train/BraTS2021_01234\n"
     ]
    },
    {
     "name": "stderr",
     "output_type": "stream",
     "text": [
      "\n",
      "  0%|          | 0/80 [00:00<?, ?it/s]\u001b[A\n",
      " 24%|██▍       | 19/80 [00:00<00:00, 185.05it/s]\u001b[A\n",
      " 48%|████▊     | 38/80 [00:00<00:00, 177.01it/s]\u001b[A\n",
      " 70%|███████   | 56/80 [00:00<00:00, 174.74it/s]\u001b[A\n",
      "100%|██████████| 80/80 [00:00<00:00, 174.13it/s]\u001b[A\n",
      "  0%|          | 3/1123 [00:02<15:29,  1.21it/s]"
     ]
    },
    {
     "name": "stdout",
     "output_type": "stream",
     "text": [
      "/home/jiang/projects/SubtleGAN/data/brats2021/train/BraTS2021_00392\n"
     ]
    },
    {
     "name": "stderr",
     "output_type": "stream",
     "text": [
      "\n",
      "  0%|          | 0/80 [00:00<?, ?it/s]\u001b[A\n",
      " 25%|██▌       | 20/80 [00:00<00:00, 190.98it/s]\u001b[A\n",
      " 50%|█████     | 40/80 [00:00<00:00, 179.04it/s]\u001b[A\n",
      " 72%|███████▎  | 58/80 [00:00<00:00, 175.86it/s]\u001b[A\n",
      "100%|██████████| 80/80 [00:00<00:00, 174.71it/s]\u001b[A\n",
      "  0%|          | 4/1123 [00:03<15:57,  1.17it/s]"
     ]
    },
    {
     "name": "stdout",
     "output_type": "stream",
     "text": [
      "/home/jiang/projects/SubtleGAN/data/brats2021/train/BraTS2021_01613\n"
     ]
    },
    {
     "name": "stderr",
     "output_type": "stream",
     "text": [
      "\n",
      "  0%|          | 0/80 [00:00<?, ?it/s]\u001b[A\n",
      " 39%|███▉      | 31/80 [00:00<00:00, 302.11it/s]\u001b[A\n",
      "100%|██████████| 80/80 [00:00<00:00, 279.69it/s]\u001b[A\n",
      "  0%|          | 5/1123 [00:04<18:27,  1.01it/s]"
     ]
    },
    {
     "name": "stdout",
     "output_type": "stream",
     "text": [
      "/home/jiang/projects/SubtleGAN/data/brats2021/train/BraTS2021_01663\n"
     ]
    },
    {
     "name": "stderr",
     "output_type": "stream",
     "text": [
      "\n",
      "  0%|          | 0/80 [00:00<?, ?it/s]\u001b[A\n",
      " 24%|██▍       | 19/80 [00:00<00:00, 181.92it/s]\u001b[A\n",
      " 48%|████▊     | 38/80 [00:00<00:00, 173.52it/s]\u001b[A\n",
      " 70%|███████   | 56/80 [00:00<00:00, 169.10it/s]\u001b[A\n",
      "100%|██████████| 80/80 [00:00<00:00, 172.01it/s]\u001b[A\n",
      "  1%|          | 6/1123 [00:05<18:03,  1.03it/s]"
     ]
    },
    {
     "name": "stdout",
     "output_type": "stream",
     "text": [
      "/home/jiang/projects/SubtleGAN/data/brats2021/train/BraTS2021_00068\n"
     ]
    },
    {
     "name": "stderr",
     "output_type": "stream",
     "text": [
      "\n",
      "  0%|          | 0/80 [00:00<?, ?it/s]\u001b[A\n",
      " 24%|██▍       | 19/80 [00:00<00:00, 186.95it/s]\u001b[A\n",
      " 48%|████▊     | 38/80 [00:00<00:00, 174.19it/s]\u001b[A\n",
      " 70%|███████   | 56/80 [00:00<00:00, 171.42it/s]\u001b[A\n",
      "100%|██████████| 80/80 [00:00<00:00, 169.49it/s]\u001b[A\n",
      "  1%|          | 7/1123 [00:06<17:05,  1.09it/s]"
     ]
    },
    {
     "name": "stdout",
     "output_type": "stream",
     "text": [
      "/home/jiang/projects/SubtleGAN/data/brats2021/train/BraTS2021_00697\n"
     ]
    },
    {
     "name": "stderr",
     "output_type": "stream",
     "text": [
      "\n",
      "  0%|          | 0/80 [00:00<?, ?it/s]\u001b[A\n",
      " 24%|██▍       | 19/80 [00:00<00:00, 182.03it/s]\u001b[A\n",
      " 48%|████▊     | 38/80 [00:00<00:00, 169.93it/s]\u001b[A\n",
      " 70%|███████   | 56/80 [00:00<00:00, 166.83it/s]\u001b[A\n",
      "100%|██████████| 80/80 [00:00<00:00, 170.43it/s]\u001b[A\n",
      "  1%|          | 8/1123 [00:07<16:38,  1.12it/s]"
     ]
    },
    {
     "name": "stdout",
     "output_type": "stream",
     "text": [
      "/home/jiang/projects/SubtleGAN/data/brats2021/train/BraTS2021_00025\n"
     ]
    },
    {
     "name": "stderr",
     "output_type": "stream",
     "text": [
      "\n",
      "  0%|          | 0/80 [00:00<?, ?it/s]\u001b[A\n",
      " 24%|██▍       | 19/80 [00:00<00:00, 179.76it/s]\u001b[A\n",
      " 46%|████▋     | 37/80 [00:00<00:00, 171.34it/s]\u001b[A\n",
      " 69%|██████▉   | 55/80 [00:00<00:00, 167.71it/s]\u001b[A\n",
      "100%|██████████| 80/80 [00:00<00:00, 166.98it/s]\u001b[A\n",
      "  1%|          | 9/1123 [00:08<16:25,  1.13it/s]"
     ]
    },
    {
     "name": "stdout",
     "output_type": "stream",
     "text": [
      "/home/jiang/projects/SubtleGAN/data/brats2021/train/BraTS2021_01120\n"
     ]
    },
    {
     "name": "stderr",
     "output_type": "stream",
     "text": [
      "\n",
      "  0%|          | 0/80 [00:00<?, ?it/s]\u001b[A\n",
      " 25%|██▌       | 20/80 [00:00<00:00, 194.87it/s]\u001b[A\n",
      " 50%|█████     | 40/80 [00:00<00:00, 174.62it/s]\u001b[A\n",
      " 72%|███████▎  | 58/80 [00:00<00:00, 167.67it/s]\u001b[A\n",
      "100%|██████████| 80/80 [00:00<00:00, 167.89it/s]\u001b[A\n",
      "  1%|          | 10/1123 [00:08<16:44,  1.11it/s]"
     ]
    },
    {
     "name": "stdout",
     "output_type": "stream",
     "text": [
      "/home/jiang/projects/SubtleGAN/data/brats2021/train/BraTS2021_00436\n"
     ]
    },
    {
     "name": "stderr",
     "output_type": "stream",
     "text": [
      "\n",
      "  0%|          | 0/80 [00:00<?, ?it/s]\u001b[A\n",
      " 22%|██▎       | 18/80 [00:00<00:00, 178.15it/s]\u001b[A\n",
      " 45%|████▌     | 36/80 [00:00<00:00, 170.09it/s]\u001b[A\n",
      " 68%|██████▊   | 54/80 [00:00<00:00, 165.40it/s]\u001b[A\n",
      "100%|██████████| 80/80 [00:00<00:00, 172.30it/s]\u001b[A\n",
      "  1%|          | 11/1123 [00:09<16:49,  1.10it/s]"
     ]
    },
    {
     "name": "stdout",
     "output_type": "stream",
     "text": [
      "/home/jiang/projects/SubtleGAN/data/brats2021/train/BraTS2021_00099\n"
     ]
    },
    {
     "name": "stderr",
     "output_type": "stream",
     "text": [
      "\n",
      "  0%|          | 0/80 [00:00<?, ?it/s]\u001b[A\n",
      " 22%|██▎       | 18/80 [00:00<00:00, 174.90it/s]\u001b[A\n",
      " 45%|████▌     | 36/80 [00:00<00:00, 169.58it/s]\u001b[A\n",
      " 66%|██████▋   | 53/80 [00:00<00:00, 167.94it/s]\u001b[A\n",
      "100%|██████████| 80/80 [00:00<00:00, 167.83it/s]\u001b[A\n",
      "  1%|          | 12/1123 [00:10<17:00,  1.09it/s]"
     ]
    },
    {
     "name": "stdout",
     "output_type": "stream",
     "text": [
      "/home/jiang/projects/SubtleGAN/data/brats2021/train/BraTS2021_00650\n"
     ]
    },
    {
     "name": "stderr",
     "output_type": "stream",
     "text": [
      "\n",
      "  0%|          | 0/80 [00:00<?, ?it/s]\u001b[A\n",
      " 25%|██▌       | 20/80 [00:00<00:00, 199.28it/s]\u001b[A\n",
      " 50%|█████     | 40/80 [00:00<00:00, 146.29it/s]\u001b[A\n",
      " 71%|███████▏  | 57/80 [00:00<00:00, 152.82it/s]\u001b[A\n",
      "100%|██████████| 80/80 [00:00<00:00, 156.51it/s]\u001b[A\n",
      "  1%|          | 13/1123 [00:11<16:52,  1.10it/s]"
     ]
    },
    {
     "name": "stdout",
     "output_type": "stream",
     "text": [
      "/home/jiang/projects/SubtleGAN/data/brats2021/train/BraTS2021_00775\n"
     ]
    },
    {
     "name": "stderr",
     "output_type": "stream",
     "text": [
      "\n",
      "  0%|          | 0/80 [00:00<?, ?it/s]\u001b[A\n",
      " 24%|██▍       | 19/80 [00:00<00:00, 181.02it/s]\u001b[A\n",
      " 48%|████▊     | 38/80 [00:00<00:00, 123.19it/s]\u001b[A\n",
      " 69%|██████▉   | 55/80 [00:00<00:00, 139.22it/s]\u001b[A\n",
      "100%|██████████| 80/80 [00:00<00:00, 146.14it/s]\u001b[A\n",
      "  1%|          | 14/1123 [00:12<16:57,  1.09it/s]"
     ]
    },
    {
     "name": "stdout",
     "output_type": "stream",
     "text": [
      "/home/jiang/projects/SubtleGAN/data/brats2021/train/BraTS2021_01106\n"
     ]
    },
    {
     "name": "stderr",
     "output_type": "stream",
     "text": [
      "\n",
      "  0%|          | 0/80 [00:00<?, ?it/s]\u001b[A\n",
      " 24%|██▍       | 19/80 [00:00<00:00, 179.32it/s]\u001b[A\n",
      " 46%|████▋     | 37/80 [00:00<00:00, 172.13it/s]\u001b[A\n",
      " 69%|██████▉   | 55/80 [00:00<00:00, 173.86it/s]\u001b[A\n",
      "100%|██████████| 80/80 [00:00<00:00, 170.43it/s]\u001b[A\n",
      "  1%|▏         | 15/1123 [00:13<16:54,  1.09it/s]"
     ]
    },
    {
     "name": "stdout",
     "output_type": "stream",
     "text": [
      "/home/jiang/projects/SubtleGAN/data/brats2021/train/BraTS2021_00433\n"
     ]
    },
    {
     "name": "stderr",
     "output_type": "stream",
     "text": [
      "\n",
      "  0%|          | 0/80 [00:00<?, ?it/s]\u001b[A\n",
      " 26%|██▋       | 21/80 [00:00<00:00, 202.01it/s]\u001b[A\n",
      " 52%|█████▎    | 42/80 [00:00<00:00, 180.55it/s]\u001b[A\n",
      " 76%|███████▋  | 61/80 [00:00<00:00, 175.29it/s]\u001b[A\n",
      "100%|██████████| 80/80 [00:00<00:00, 173.66it/s]\u001b[A\n",
      "  1%|▏         | 16/1123 [00:14<16:54,  1.09it/s]"
     ]
    },
    {
     "name": "stdout",
     "output_type": "stream",
     "text": [
      "/home/jiang/projects/SubtleGAN/data/brats2021/train/BraTS2021_01073\n"
     ]
    },
    {
     "name": "stderr",
     "output_type": "stream",
     "text": [
      "\n",
      "  0%|          | 0/80 [00:00<?, ?it/s]\u001b[A\n",
      " 24%|██▍       | 19/80 [00:00<00:00, 180.81it/s]\u001b[A\n",
      " 48%|████▊     | 38/80 [00:00<00:00, 171.71it/s]\u001b[A\n",
      " 70%|███████   | 56/80 [00:00<00:00, 168.81it/s]\u001b[A\n",
      "100%|██████████| 80/80 [00:00<00:00, 169.90it/s]\u001b[A\n",
      "  2%|▏         | 17/1123 [00:15<16:55,  1.09it/s]"
     ]
    },
    {
     "name": "stdout",
     "output_type": "stream",
     "text": [
      "/home/jiang/projects/SubtleGAN/data/brats2021/train/BraTS2021_00525\n"
     ]
    },
    {
     "name": "stderr",
     "output_type": "stream",
     "text": [
      "\n",
      "  0%|          | 0/80 [00:00<?, ?it/s]\u001b[A\n",
      " 24%|██▍       | 19/80 [00:00<00:00, 180.01it/s]\u001b[A\n",
      " 48%|████▊     | 38/80 [00:00<00:00, 172.78it/s]\u001b[A\n",
      " 70%|███████   | 56/80 [00:00<00:00, 169.91it/s]\u001b[A\n",
      "100%|██████████| 80/80 [00:00<00:00, 169.11it/s]\u001b[A\n",
      "  2%|▏         | 18/1123 [00:16<16:29,  1.12it/s]"
     ]
    },
    {
     "name": "stdout",
     "output_type": "stream",
     "text": [
      "/home/jiang/projects/SubtleGAN/data/brats2021/train/BraTS2021_00401\n"
     ]
    },
    {
     "name": "stderr",
     "output_type": "stream",
     "text": [
      "\n",
      "  0%|          | 0/80 [00:00<?, ?it/s]\u001b[A\n",
      " 24%|██▍       | 19/80 [00:00<00:00, 189.04it/s]\u001b[A\n",
      " 48%|████▊     | 38/80 [00:00<00:00, 175.22it/s]\u001b[A\n",
      " 70%|███████   | 56/80 [00:00<00:00, 170.31it/s]\u001b[A\n",
      "100%|██████████| 80/80 [00:00<00:00, 171.34it/s]\u001b[A\n",
      "  2%|▏         | 19/1123 [00:17<16:39,  1.10it/s]"
     ]
    },
    {
     "name": "stdout",
     "output_type": "stream",
     "text": [
      "/home/jiang/projects/SubtleGAN/data/brats2021/train/BraTS2021_00166\n"
     ]
    },
    {
     "name": "stderr",
     "output_type": "stream",
     "text": [
      "\n",
      "  0%|          | 0/80 [00:00<?, ?it/s]\u001b[A\n",
      " 24%|██▍       | 19/80 [00:00<00:00, 181.82it/s]\u001b[A\n",
      " 48%|████▊     | 38/80 [00:00<00:00, 173.41it/s]\u001b[A\n",
      " 70%|███████   | 56/80 [00:00<00:00, 170.32it/s]\u001b[A\n",
      "100%|██████████| 80/80 [00:00<00:00, 169.07it/s]\u001b[A\n",
      "  2%|▏         | 20/1123 [00:18<16:41,  1.10it/s]"
     ]
    },
    {
     "name": "stdout",
     "output_type": "stream",
     "text": [
      "/home/jiang/projects/SubtleGAN/data/brats2021/train/BraTS2021_01130\n"
     ]
    },
    {
     "name": "stderr",
     "output_type": "stream",
     "text": [
      "\n",
      "  0%|          | 0/80 [00:00<?, ?it/s]\u001b[A\n",
      " 22%|██▎       | 18/80 [00:00<00:00, 178.51it/s]\u001b[A\n",
      " 45%|████▌     | 36/80 [00:00<00:00, 172.99it/s]\u001b[A\n",
      " 68%|██████▊   | 54/80 [00:00<00:00, 170.16it/s]\u001b[A\n",
      "100%|██████████| 80/80 [00:00<00:00, 169.05it/s]\u001b[A\n",
      "  2%|▏         | 21/1123 [00:19<16:51,  1.09it/s]"
     ]
    },
    {
     "name": "stdout",
     "output_type": "stream",
     "text": [
      "/home/jiang/projects/SubtleGAN/data/brats2021/train/BraTS2021_00017\n"
     ]
    },
    {
     "name": "stderr",
     "output_type": "stream",
     "text": [
      "\n",
      "  0%|          | 0/80 [00:00<?, ?it/s]\u001b[A\n",
      " 22%|██▎       | 18/80 [00:00<00:00, 173.81it/s]\u001b[A\n",
      " 45%|████▌     | 36/80 [00:00<00:00, 172.98it/s]\u001b[A\n",
      " 68%|██████▊   | 54/80 [00:00<00:00, 169.23it/s]\u001b[A\n",
      "100%|██████████| 80/80 [00:00<00:00, 168.90it/s]\u001b[A\n",
      "  2%|▏         | 22/1123 [00:19<16:36,  1.11it/s]"
     ]
    },
    {
     "name": "stdout",
     "output_type": "stream",
     "text": [
      "/home/jiang/projects/SubtleGAN/data/brats2021/train/BraTS2021_01616\n"
     ]
    },
    {
     "name": "stderr",
     "output_type": "stream",
     "text": [
      "\n",
      "  0%|          | 0/80 [00:00<?, ?it/s]\u001b[A\n",
      " 24%|██▍       | 19/80 [00:00<00:00, 181.10it/s]\u001b[A\n",
      " 48%|████▊     | 38/80 [00:00<00:00, 173.57it/s]\u001b[A\n",
      " 70%|███████   | 56/80 [00:00<00:00, 170.70it/s]\u001b[A\n",
      "100%|██████████| 80/80 [00:00<00:00, 170.65it/s]\u001b[A\n",
      "  2%|▏         | 23/1123 [00:21<21:21,  1.16s/it]"
     ]
    },
    {
     "name": "stdout",
     "output_type": "stream",
     "text": [
      "/home/jiang/projects/SubtleGAN/data/brats2021/train/BraTS2021_00306\n"
     ]
    },
    {
     "name": "stderr",
     "output_type": "stream",
     "text": [
      "\n",
      "  0%|          | 0/80 [00:00<?, ?it/s]\u001b[A\n",
      " 24%|██▍       | 19/80 [00:00<00:00, 183.22it/s]\u001b[A\n",
      " 48%|████▊     | 38/80 [00:00<00:00, 173.85it/s]\u001b[A\n",
      " 70%|███████   | 56/80 [00:00<00:00, 172.88it/s]\u001b[A\n",
      "100%|██████████| 80/80 [00:00<00:00, 170.71it/s]\u001b[A\n",
      "  2%|▏         | 24/1123 [00:22<19:58,  1.09s/it]"
     ]
    },
    {
     "name": "stdout",
     "output_type": "stream",
     "text": [
      "/home/jiang/projects/SubtleGAN/data/brats2021/train/BraTS2021_00410\n"
     ]
    },
    {
     "name": "stderr",
     "output_type": "stream",
     "text": [
      "\n",
      "  0%|          | 0/80 [00:00<?, ?it/s]\u001b[A\n",
      " 22%|██▎       | 18/80 [00:00<00:00, 175.38it/s]\u001b[A\n",
      " 45%|████▌     | 36/80 [00:00<00:00, 116.36it/s]\u001b[A\n",
      " 66%|██████▋   | 53/80 [00:00<00:00, 134.42it/s]\u001b[A\n",
      "100%|██████████| 80/80 [00:00<00:00, 142.55it/s]\u001b[A\n",
      "  2%|▏         | 25/1123 [00:23<19:34,  1.07s/it]"
     ]
    },
    {
     "name": "stdout",
     "output_type": "stream",
     "text": [
      "/home/jiang/projects/SubtleGAN/data/brats2021/train/BraTS2021_01443\n"
     ]
    },
    {
     "name": "stderr",
     "output_type": "stream",
     "text": [
      "\n",
      "  0%|          | 0/80 [00:00<?, ?it/s]\u001b[A\n",
      " 22%|██▎       | 18/80 [00:00<00:00, 176.10it/s]\u001b[A\n",
      " 45%|████▌     | 36/80 [00:00<00:00, 172.32it/s]\u001b[A\n",
      " 68%|██████▊   | 54/80 [00:00<00:00, 171.90it/s]\u001b[A\n",
      "100%|██████████| 80/80 [00:00<00:00, 170.05it/s]\u001b[A\n",
      "  2%|▏         | 26/1123 [00:24<18:50,  1.03s/it]"
     ]
    },
    {
     "name": "stdout",
     "output_type": "stream",
     "text": [
      "/home/jiang/projects/SubtleGAN/data/brats2021/train/BraTS2021_01230\n"
     ]
    },
    {
     "name": "stderr",
     "output_type": "stream",
     "text": [
      "\n",
      "  0%|          | 0/80 [00:00<?, ?it/s]\u001b[A\n",
      " 21%|██▏       | 17/80 [00:00<00:00, 168.70it/s]\u001b[A\n",
      " 42%|████▎     | 34/80 [00:00<00:00, 167.56it/s]\u001b[A\n",
      " 64%|██████▍   | 51/80 [00:00<00:00, 163.95it/s]\u001b[A\n",
      "100%|██████████| 80/80 [00:00<00:00, 164.27it/s]\u001b[A\n",
      "  2%|▏         | 27/1123 [00:25<18:26,  1.01s/it]"
     ]
    },
    {
     "name": "stdout",
     "output_type": "stream",
     "text": [
      "/home/jiang/projects/SubtleGAN/data/brats2021/train/BraTS2021_00831\n"
     ]
    },
    {
     "name": "stderr",
     "output_type": "stream",
     "text": [
      "\n",
      "  0%|          | 0/80 [00:00<?, ?it/s]\u001b[A\n",
      " 22%|██▎       | 18/80 [00:00<00:00, 172.99it/s]\u001b[A\n",
      " 45%|████▌     | 36/80 [00:00<00:00, 168.10it/s]\u001b[A\n",
      " 66%|██████▋   | 53/80 [00:00<00:00, 167.00it/s]\u001b[A\n",
      "100%|██████████| 80/80 [00:00<00:00, 165.97it/s]\u001b[A\n",
      "  2%|▏         | 28/1123 [00:26<18:08,  1.01it/s]"
     ]
    },
    {
     "name": "stdout",
     "output_type": "stream",
     "text": [
      "/home/jiang/projects/SubtleGAN/data/brats2021/train/BraTS2021_00230\n"
     ]
    },
    {
     "name": "stderr",
     "output_type": "stream",
     "text": [
      "\n",
      "  0%|          | 0/80 [00:00<?, ?it/s]\u001b[A\n",
      " 22%|██▎       | 18/80 [00:00<00:00, 173.86it/s]\u001b[A\n",
      " 45%|████▌     | 36/80 [00:00<00:00, 170.49it/s]\u001b[A\n",
      " 68%|██████▊   | 54/80 [00:00<00:00, 170.14it/s]\u001b[A\n",
      "100%|██████████| 80/80 [00:00<00:00, 168.93it/s]\u001b[A\n",
      "  3%|▎         | 29/1123 [00:27<17:48,  1.02it/s]"
     ]
    },
    {
     "name": "stdout",
     "output_type": "stream",
     "text": [
      "/home/jiang/projects/SubtleGAN/data/brats2021/train/BraTS2021_01244\n"
     ]
    },
    {
     "name": "stderr",
     "output_type": "stream",
     "text": [
      "\n",
      "  0%|          | 0/80 [00:00<?, ?it/s]\u001b[A\n",
      " 22%|██▎       | 18/80 [00:00<00:00, 170.07it/s]\u001b[A\n",
      " 45%|████▌     | 36/80 [00:00<00:00, 168.50it/s]\u001b[A\n",
      " 66%|██████▋   | 53/80 [00:00<00:00, 167.02it/s]\u001b[A\n",
      "100%|██████████| 80/80 [00:00<00:00, 166.60it/s]\u001b[A\n",
      "  3%|▎         | 30/1123 [00:28<17:30,  1.04it/s]"
     ]
    },
    {
     "name": "stdout",
     "output_type": "stream",
     "text": [
      "/home/jiang/projects/SubtleGAN/data/brats2021/train/BraTS2021_01095\n"
     ]
    },
    {
     "name": "stderr",
     "output_type": "stream",
     "text": [
      "\n",
      "  0%|          | 0/80 [00:00<?, ?it/s]\u001b[A\n",
      " 22%|██▎       | 18/80 [00:00<00:00, 175.70it/s]\u001b[A\n",
      " 45%|████▌     | 36/80 [00:00<00:00, 172.27it/s]\u001b[A\n",
      " 68%|██████▊   | 54/80 [00:00<00:00, 171.91it/s]\u001b[A\n",
      "100%|██████████| 80/80 [00:00<00:00, 170.91it/s]\u001b[A\n",
      "  3%|▎         | 31/1123 [00:29<17:23,  1.05it/s]"
     ]
    },
    {
     "name": "stdout",
     "output_type": "stream",
     "text": [
      "/home/jiang/projects/SubtleGAN/data/brats2021/train/BraTS2021_00011\n"
     ]
    },
    {
     "name": "stderr",
     "output_type": "stream",
     "text": [
      "\n",
      "  0%|          | 0/80 [00:00<?, ?it/s]\u001b[A\n",
      " 22%|██▎       | 18/80 [00:00<00:00, 174.53it/s]\u001b[A\n",
      " 45%|████▌     | 36/80 [00:00<00:00, 176.79it/s]\u001b[A\n",
      "100%|██████████| 80/80 [00:00<00:00, 196.91it/s]\u001b[A\n",
      "  3%|▎         | 32/1123 [00:30<16:28,  1.10it/s]"
     ]
    },
    {
     "name": "stdout",
     "output_type": "stream",
     "text": [
      "/home/jiang/projects/SubtleGAN/data/brats2021/train/BraTS2021_00483\n"
     ]
    },
    {
     "name": "stderr",
     "output_type": "stream",
     "text": [
      "\n",
      "  0%|          | 0/80 [00:00<?, ?it/s]\u001b[A\n",
      " 22%|██▎       | 18/80 [00:00<00:00, 179.00it/s]\u001b[A\n",
      " 55%|█████▌    | 44/80 [00:00<00:00, 224.59it/s]\u001b[A\n",
      "100%|██████████| 80/80 [00:00<00:00, 239.30it/s]\u001b[A\n",
      "  3%|▎         | 33/1123 [00:30<15:32,  1.17it/s]"
     ]
    },
    {
     "name": "stdout",
     "output_type": "stream",
     "text": [
      "/home/jiang/projects/SubtleGAN/data/brats2021/train/BraTS2021_00238\n"
     ]
    },
    {
     "name": "stderr",
     "output_type": "stream",
     "text": [
      "\n",
      "  0%|          | 0/80 [00:00<?, ?it/s]\u001b[A\n",
      " 36%|███▋      | 29/80 [00:00<00:00, 280.75it/s]\u001b[A\n",
      "100%|██████████| 80/80 [00:00<00:00, 280.58it/s]\u001b[A\n",
      "  3%|▎         | 34/1123 [00:31<14:48,  1.23it/s]"
     ]
    },
    {
     "name": "stdout",
     "output_type": "stream",
     "text": [
      "/home/jiang/projects/SubtleGAN/data/brats2021/train/BraTS2021_01341\n"
     ]
    },
    {
     "name": "stderr",
     "output_type": "stream",
     "text": [
      "\n",
      "  0%|          | 0/80 [00:00<?, ?it/s]\u001b[A\n",
      " 39%|███▉      | 31/80 [00:00<00:00, 306.51it/s]\u001b[A\n",
      "100%|██████████| 80/80 [00:00<00:00, 299.39it/s]\u001b[A\n",
      "  3%|▎         | 35/1123 [00:32<14:10,  1.28it/s]"
     ]
    },
    {
     "name": "stdout",
     "output_type": "stream",
     "text": [
      "/home/jiang/projects/SubtleGAN/data/brats2021/train/BraTS2021_01585\n"
     ]
    },
    {
     "name": "stderr",
     "output_type": "stream",
     "text": [
      "\n",
      "  0%|          | 0/80 [00:00<?, ?it/s]\u001b[A\n",
      " 39%|███▉      | 31/80 [00:00<00:00, 308.59it/s]\u001b[A\n",
      "100%|██████████| 80/80 [00:00<00:00, 298.20it/s]\u001b[A\n",
      "  3%|▎         | 36/1123 [00:33<15:29,  1.17it/s]"
     ]
    },
    {
     "name": "stdout",
     "output_type": "stream",
     "text": [
      "/home/jiang/projects/SubtleGAN/data/brats2021/train/BraTS2021_01283\n"
     ]
    },
    {
     "name": "stderr",
     "output_type": "stream",
     "text": [
      "\n",
      "  0%|          | 0/80 [00:00<?, ?it/s]\u001b[A\n",
      " 39%|███▉      | 31/80 [00:00<00:00, 302.98it/s]\u001b[A\n",
      "100%|██████████| 80/80 [00:00<00:00, 293.36it/s]\u001b[A\n",
      "  3%|▎         | 37/1123 [00:33<14:37,  1.24it/s]"
     ]
    },
    {
     "name": "stdout",
     "output_type": "stream",
     "text": [
      "/home/jiang/projects/SubtleGAN/data/brats2021/train/BraTS2021_01304\n"
     ]
    },
    {
     "name": "stderr",
     "output_type": "stream",
     "text": [
      "\n",
      "  0%|          | 0/80 [00:00<?, ?it/s]\u001b[A\n",
      " 38%|███▊      | 30/80 [00:00<00:00, 297.51it/s]\u001b[A\n",
      "100%|██████████| 80/80 [00:00<00:00, 282.94it/s]\u001b[A\n",
      "  3%|▎         | 38/1123 [00:34<14:41,  1.23it/s]"
     ]
    },
    {
     "name": "stdout",
     "output_type": "stream",
     "text": [
      "/home/jiang/projects/SubtleGAN/data/brats2021/train/BraTS2021_00090\n"
     ]
    },
    {
     "name": "stderr",
     "output_type": "stream",
     "text": [
      "\n",
      "  0%|          | 0/80 [00:00<?, ?it/s]\u001b[A\n",
      " 25%|██▌       | 20/80 [00:00<00:00, 197.86it/s]\u001b[A\n",
      " 50%|█████     | 40/80 [00:00<00:00, 180.11it/s]\u001b[A\n",
      " 74%|███████▍  | 59/80 [00:00<00:00, 175.39it/s]\u001b[A\n",
      "100%|██████████| 80/80 [00:00<00:00, 175.37it/s]\u001b[A\n",
      "  3%|▎         | 39/1123 [00:35<14:39,  1.23it/s]"
     ]
    },
    {
     "name": "stdout",
     "output_type": "stream",
     "text": [
      "/home/jiang/projects/SubtleGAN/data/brats2021/train/BraTS2021_00677\n"
     ]
    },
    {
     "name": "stderr",
     "output_type": "stream",
     "text": [
      "\n",
      "  0%|          | 0/80 [00:00<?, ?it/s]\u001b[A\n",
      " 24%|██▍       | 19/80 [00:00<00:00, 183.87it/s]\u001b[A\n",
      " 48%|████▊     | 38/80 [00:00<00:00, 177.08it/s]\u001b[A\n",
      " 70%|███████   | 56/80 [00:00<00:00, 172.16it/s]\u001b[A\n",
      "100%|██████████| 80/80 [00:00<00:00, 179.23it/s]\u001b[A\n",
      "  4%|▎         | 40/1123 [00:36<14:50,  1.22it/s]"
     ]
    },
    {
     "name": "stdout",
     "output_type": "stream",
     "text": [
      "/home/jiang/projects/SubtleGAN/data/brats2021/train/BraTS2021_01201\n"
     ]
    },
    {
     "name": "stderr",
     "output_type": "stream",
     "text": [
      "\n",
      "  0%|          | 0/80 [00:00<?, ?it/s]\u001b[A\n",
      " 24%|██▍       | 19/80 [00:00<00:00, 180.25it/s]\u001b[A\n",
      " 48%|████▊     | 38/80 [00:00<00:00, 170.41it/s]\u001b[A\n",
      " 70%|███████   | 56/80 [00:00<00:00, 169.75it/s]\u001b[A\n",
      "100%|██████████| 80/80 [00:00<00:00, 169.35it/s]\u001b[A\n",
      "  4%|▎         | 41/1123 [00:37<15:21,  1.17it/s]"
     ]
    },
    {
     "name": "stdout",
     "output_type": "stream",
     "text": [
      "/home/jiang/projects/SubtleGAN/data/brats2021/train/BraTS2021_00097\n"
     ]
    },
    {
     "name": "stderr",
     "output_type": "stream",
     "text": [
      "\n",
      "  0%|          | 0/80 [00:00<?, ?it/s]\u001b[A\n",
      " 28%|██▊       | 22/80 [00:00<00:00, 215.95it/s]\u001b[A\n",
      " 55%|█████▌    | 44/80 [00:00<00:00, 185.59it/s]\u001b[A\n",
      "100%|██████████| 80/80 [00:00<00:00, 178.41it/s]\u001b[A\n",
      "  4%|▎         | 42/1123 [00:38<15:09,  1.19it/s]"
     ]
    },
    {
     "name": "stdout",
     "output_type": "stream",
     "text": [
      "/home/jiang/projects/SubtleGAN/data/brats2021/train/BraTS2021_01553\n"
     ]
    },
    {
     "name": "stderr",
     "output_type": "stream",
     "text": [
      "\n",
      "  0%|          | 0/80 [00:00<?, ?it/s]\u001b[A\n",
      " 38%|███▊      | 30/80 [00:00<00:00, 293.98it/s]\u001b[A\n",
      "100%|██████████| 80/80 [00:00<00:00, 269.58it/s]\u001b[A\n",
      "  4%|▍         | 43/1123 [00:39<17:02,  1.06it/s]"
     ]
    },
    {
     "name": "stdout",
     "output_type": "stream",
     "text": [
      "/home/jiang/projects/SubtleGAN/data/brats2021/train/BraTS2021_00801\n"
     ]
    },
    {
     "name": "stderr",
     "output_type": "stream",
     "text": [
      "\n",
      "  0%|          | 0/80 [00:00<?, ?it/s]\u001b[A\n",
      " 40%|████      | 32/80 [00:00<00:00, 316.86it/s]\u001b[A\n",
      "100%|██████████| 80/80 [00:00<00:00, 279.40it/s]\u001b[A\n",
      "  4%|▍         | 44/1123 [00:40<18:20,  1.02s/it]"
     ]
    },
    {
     "name": "stdout",
     "output_type": "stream",
     "text": [
      "/home/jiang/projects/SubtleGAN/data/brats2021/train/BraTS2021_01231\n"
     ]
    },
    {
     "name": "stderr",
     "output_type": "stream",
     "text": [
      "\n",
      "  0%|          | 0/80 [00:00<?, ?it/s]\u001b[A\n",
      " 24%|██▍       | 19/80 [00:00<00:00, 189.28it/s]\u001b[A\n",
      " 48%|████▊     | 38/80 [00:00<00:00, 181.43it/s]\u001b[A\n",
      " 71%|███████▏  | 57/80 [00:00<00:00, 177.33it/s]\u001b[A\n",
      "100%|██████████| 80/80 [00:00<00:00, 176.39it/s]\u001b[A\n",
      "  4%|▍         | 45/1123 [00:41<17:32,  1.02it/s]"
     ]
    },
    {
     "name": "stdout",
     "output_type": "stream",
     "text": [
      "/home/jiang/projects/SubtleGAN/data/brats2021/train/BraTS2021_01209\n"
     ]
    },
    {
     "name": "stderr",
     "output_type": "stream",
     "text": [
      "\n",
      "  0%|          | 0/80 [00:00<?, ?it/s]\u001b[A\n",
      " 24%|██▍       | 19/80 [00:00<00:00, 181.20it/s]\u001b[A\n",
      " 48%|████▊     | 38/80 [00:00<00:00, 178.32it/s]\u001b[A\n",
      " 71%|███████▏  | 57/80 [00:00<00:00, 182.30it/s]\u001b[A\n",
      "100%|██████████| 80/80 [00:00<00:00, 176.42it/s]\u001b[A\n",
      "  4%|▍         | 46/1123 [00:42<17:04,  1.05it/s]"
     ]
    },
    {
     "name": "stdout",
     "output_type": "stream",
     "text": [
      "/home/jiang/projects/SubtleGAN/data/brats2021/train/BraTS2021_00062\n"
     ]
    },
    {
     "name": "stderr",
     "output_type": "stream",
     "text": [
      "\n",
      "  0%|          | 0/80 [00:00<?, ?it/s]\u001b[A\n",
      " 24%|██▍       | 19/80 [00:00<00:00, 180.94it/s]\u001b[A\n",
      " 48%|████▊     | 38/80 [00:00<00:00, 173.33it/s]\u001b[A\n",
      " 70%|███████   | 56/80 [00:00<00:00, 171.33it/s]\u001b[A\n",
      "100%|██████████| 80/80 [00:00<00:00, 171.20it/s]\u001b[A\n",
      "  4%|▍         | 47/1123 [00:43<16:31,  1.09it/s]"
     ]
    },
    {
     "name": "stdout",
     "output_type": "stream",
     "text": [
      "/home/jiang/projects/SubtleGAN/data/brats2021/train/BraTS2021_00824\n"
     ]
    },
    {
     "name": "stderr",
     "output_type": "stream",
     "text": [
      "\n",
      "  0%|          | 0/80 [00:00<?, ?it/s]\u001b[A\n",
      " 38%|███▊      | 30/80 [00:00<00:00, 298.71it/s]\u001b[A\n",
      "100%|██████████| 80/80 [00:00<00:00, 268.96it/s]\u001b[A\n",
      "  4%|▍         | 48/1123 [00:44<18:01,  1.01s/it]"
     ]
    },
    {
     "name": "stdout",
     "output_type": "stream",
     "text": [
      "/home/jiang/projects/SubtleGAN/data/brats2021/train/BraTS2021_00253\n"
     ]
    },
    {
     "name": "stderr",
     "output_type": "stream",
     "text": [
      "\n",
      "  0%|          | 0/80 [00:00<?, ?it/s]\u001b[A\n",
      " 26%|██▋       | 21/80 [00:00<00:00, 206.91it/s]\u001b[A\n",
      " 52%|█████▎    | 42/80 [00:00<00:00, 178.60it/s]\u001b[A\n",
      " 76%|███████▋  | 61/80 [00:00<00:00, 171.59it/s]\u001b[A\n",
      "100%|██████████| 80/80 [00:00<00:00, 171.89it/s]\u001b[A\n",
      "  4%|▍         | 49/1123 [00:45<17:38,  1.02it/s]"
     ]
    },
    {
     "name": "stdout",
     "output_type": "stream",
     "text": [
      "/home/jiang/projects/SubtleGAN/data/brats2021/train/BraTS2021_00132\n"
     ]
    },
    {
     "name": "stderr",
     "output_type": "stream",
     "text": [
      "\n",
      "  0%|          | 0/80 [00:00<?, ?it/s]\u001b[A\n",
      " 22%|██▎       | 18/80 [00:00<00:00, 176.84it/s]\u001b[A\n",
      " 45%|████▌     | 36/80 [00:00<00:00, 171.05it/s]\u001b[A\n",
      " 68%|██████▊   | 54/80 [00:00<00:00, 169.94it/s]\u001b[A\n",
      "100%|██████████| 80/80 [00:00<00:00, 170.10it/s]\u001b[A\n",
      "  4%|▍         | 50/1123 [00:46<17:17,  1.03it/s]"
     ]
    },
    {
     "name": "stdout",
     "output_type": "stream",
     "text": [
      "/home/jiang/projects/SubtleGAN/data/brats2021/train/BraTS2021_00780\n"
     ]
    },
    {
     "name": "stderr",
     "output_type": "stream",
     "text": [
      "\n",
      "  0%|          | 0/80 [00:00<?, ?it/s]\u001b[A\n",
      " 40%|████      | 32/80 [00:00<00:00, 309.72it/s]\u001b[A\n",
      "100%|██████████| 80/80 [00:00<00:00, 280.83it/s]\u001b[A\n",
      "  5%|▍         | 51/1123 [00:47<18:29,  1.04s/it]"
     ]
    },
    {
     "name": "stdout",
     "output_type": "stream",
     "text": [
      "/home/jiang/projects/SubtleGAN/data/brats2021/train/BraTS2021_01291\n"
     ]
    },
    {
     "name": "stderr",
     "output_type": "stream",
     "text": [
      "\n",
      "  0%|          | 0/80 [00:00<?, ?it/s]\u001b[A\n",
      " 24%|██▍       | 19/80 [00:00<00:00, 180.83it/s]\u001b[A\n",
      " 48%|████▊     | 38/80 [00:00<00:00, 173.83it/s]\u001b[A\n",
      " 70%|███████   | 56/80 [00:00<00:00, 173.15it/s]\u001b[A\n",
      "100%|██████████| 80/80 [00:00<00:00, 172.63it/s]\u001b[A\n",
      "  5%|▍         | 52/1123 [00:48<17:45,  1.00it/s]"
     ]
    },
    {
     "name": "stdout",
     "output_type": "stream",
     "text": [
      "/home/jiang/projects/SubtleGAN/data/brats2021/train/BraTS2021_01371\n"
     ]
    },
    {
     "name": "stderr",
     "output_type": "stream",
     "text": [
      "\n",
      "  0%|          | 0/80 [00:00<?, ?it/s]\u001b[A\n",
      " 24%|██▍       | 19/80 [00:00<00:00, 183.69it/s]\u001b[A\n",
      " 48%|████▊     | 38/80 [00:00<00:00, 184.57it/s]\u001b[A\n",
      " 71%|███████▏  | 57/80 [00:00<00:00, 182.18it/s]\u001b[A\n",
      "100%|██████████| 80/80 [00:00<00:00, 176.13it/s]\u001b[A\n",
      "  5%|▍         | 53/1123 [00:49<17:18,  1.03it/s]"
     ]
    },
    {
     "name": "stdout",
     "output_type": "stream",
     "text": [
      "/home/jiang/projects/SubtleGAN/data/brats2021/train/BraTS2021_01514\n"
     ]
    },
    {
     "name": "stderr",
     "output_type": "stream",
     "text": [
      "\n",
      "  0%|          | 0/80 [00:00<?, ?it/s]\u001b[A\n",
      " 20%|██        | 16/80 [00:00<00:00, 152.83it/s]\u001b[A\n",
      " 40%|████      | 32/80 [00:00<00:00, 148.40it/s]\u001b[A\n",
      " 59%|█████▉    | 47/80 [00:00<00:00, 148.40it/s]\u001b[A\n",
      "100%|██████████| 80/80 [00:00<00:00, 156.93it/s]\u001b[A\n",
      "  5%|▍         | 54/1123 [00:50<17:13,  1.03it/s]"
     ]
    },
    {
     "name": "stdout",
     "output_type": "stream",
     "text": [
      "/home/jiang/projects/SubtleGAN/data/brats2021/train/BraTS2021_01461\n"
     ]
    },
    {
     "name": "stderr",
     "output_type": "stream",
     "text": [
      "\n",
      "  0%|          | 0/80 [00:00<?, ?it/s]\u001b[A\n",
      " 25%|██▌       | 20/80 [00:00<00:00, 193.55it/s]\u001b[A\n",
      " 50%|█████     | 40/80 [00:00<00:00, 181.71it/s]\u001b[A\n",
      " 74%|███████▍  | 59/80 [00:00<00:00, 178.62it/s]\u001b[A\n",
      "100%|██████████| 80/80 [00:00<00:00, 178.56it/s]\u001b[A\n",
      "  5%|▍         | 55/1123 [00:51<16:43,  1.06it/s]"
     ]
    },
    {
     "name": "stdout",
     "output_type": "stream",
     "text": [
      "/home/jiang/projects/SubtleGAN/data/brats2021/train/BraTS2021_01438\n"
     ]
    },
    {
     "name": "stderr",
     "output_type": "stream",
     "text": [
      "\n",
      "  0%|          | 0/80 [00:00<?, ?it/s]\u001b[A\n",
      " 24%|██▍       | 19/80 [00:00<00:00, 187.81it/s]\u001b[A\n",
      " 48%|████▊     | 38/80 [00:00<00:00, 176.88it/s]\u001b[A\n",
      " 72%|███████▎  | 58/80 [00:00<00:00, 186.76it/s]\u001b[A\n",
      "100%|██████████| 80/80 [00:00<00:00, 177.81it/s]\u001b[A\n",
      "  5%|▍         | 56/1123 [00:51<16:24,  1.08it/s]"
     ]
    },
    {
     "name": "stdout",
     "output_type": "stream",
     "text": [
      "/home/jiang/projects/SubtleGAN/data/brats2021/train/BraTS2021_00730\n"
     ]
    },
    {
     "name": "stderr",
     "output_type": "stream",
     "text": [
      "\n",
      "  0%|          | 0/80 [00:00<?, ?it/s]\u001b[A\n",
      " 24%|██▍       | 19/80 [00:00<00:00, 188.34it/s]\u001b[A\n",
      " 48%|████▊     | 38/80 [00:00<00:00, 180.35it/s]\u001b[A\n",
      " 71%|███████▏  | 57/80 [00:00<00:00, 177.28it/s]\u001b[A\n",
      "100%|██████████| 80/80 [00:00<00:00, 176.56it/s]\u001b[A\n",
      "  5%|▌         | 57/1123 [00:52<15:53,  1.12it/s]"
     ]
    },
    {
     "name": "stdout",
     "output_type": "stream",
     "text": [
      "/home/jiang/projects/SubtleGAN/data/brats2021/train/BraTS2021_01624\n"
     ]
    },
    {
     "name": "stderr",
     "output_type": "stream",
     "text": [
      "\n",
      "  0%|          | 0/80 [00:00<?, ?it/s]\u001b[A\n",
      " 39%|███▉      | 31/80 [00:00<00:00, 308.58it/s]\u001b[A\n",
      "100%|██████████| 80/80 [00:00<00:00, 286.67it/s]\u001b[A\n",
      "  5%|▌         | 58/1123 [00:53<17:17,  1.03it/s]"
     ]
    },
    {
     "name": "stdout",
     "output_type": "stream",
     "text": [
      "/home/jiang/projects/SubtleGAN/data/brats2021/train/BraTS2021_01005\n"
     ]
    },
    {
     "name": "stderr",
     "output_type": "stream",
     "text": [
      "\n",
      "  0%|          | 0/80 [00:00<?, ?it/s]\u001b[A\n",
      " 24%|██▍       | 19/80 [00:00<00:00, 183.59it/s]\u001b[A\n",
      " 48%|████▊     | 38/80 [00:00<00:00, 174.22it/s]\u001b[A\n",
      " 74%|███████▍  | 59/80 [00:00<00:00, 188.88it/s]\u001b[A\n",
      "100%|██████████| 80/80 [00:00<00:00, 181.32it/s]\u001b[A\n",
      "  5%|▌         | 59/1123 [00:54<16:47,  1.06it/s]"
     ]
    },
    {
     "name": "stdout",
     "output_type": "stream",
     "text": [
      "/home/jiang/projects/SubtleGAN/data/brats2021/train/BraTS2021_01408\n"
     ]
    },
    {
     "name": "stderr",
     "output_type": "stream",
     "text": [
      "\n",
      "  0%|          | 0/80 [00:00<?, ?it/s]\u001b[A\n",
      " 20%|██        | 16/80 [00:00<00:00, 156.64it/s]\u001b[A\n",
      " 40%|████      | 32/80 [00:00<00:00, 154.36it/s]\u001b[A\n",
      " 60%|██████    | 48/80 [00:00<00:00, 146.58it/s]\u001b[A\n",
      "100%|██████████| 80/80 [00:00<00:00, 156.81it/s]\u001b[A\n",
      "  5%|▌         | 60/1123 [00:55<16:51,  1.05it/s]"
     ]
    },
    {
     "name": "stdout",
     "output_type": "stream",
     "text": [
      "/home/jiang/projects/SubtleGAN/data/brats2021/train/BraTS2021_01268\n"
     ]
    },
    {
     "name": "stderr",
     "output_type": "stream",
     "text": [
      "\n",
      "  0%|          | 0/80 [00:00<?, ?it/s]\u001b[A\n",
      " 25%|██▌       | 20/80 [00:00<00:00, 196.83it/s]\u001b[A\n",
      " 50%|█████     | 40/80 [00:00<00:00, 179.98it/s]\u001b[A\n",
      " 74%|███████▍  | 59/80 [00:00<00:00, 174.93it/s]\u001b[A\n",
      "100%|██████████| 80/80 [00:00<00:00, 174.15it/s]\u001b[A\n",
      "  5%|▌         | 61/1123 [00:56<16:33,  1.07it/s]"
     ]
    },
    {
     "name": "stdout",
     "output_type": "stream",
     "text": [
      "/home/jiang/projects/SubtleGAN/data/brats2021/train/BraTS2021_00309\n"
     ]
    },
    {
     "name": "stderr",
     "output_type": "stream",
     "text": [
      "\n",
      "  0%|          | 0/80 [00:00<?, ?it/s]\u001b[A\n",
      " 24%|██▍       | 19/80 [00:00<00:00, 183.40it/s]\u001b[A\n",
      " 48%|████▊     | 38/80 [00:00<00:00, 173.52it/s]\u001b[A\n",
      " 70%|███████   | 56/80 [00:00<00:00, 174.64it/s]\u001b[A\n",
      "100%|██████████| 80/80 [00:00<00:00, 178.40it/s]\u001b[A\n",
      "  6%|▌         | 62/1123 [00:57<16:21,  1.08it/s]"
     ]
    },
    {
     "name": "stdout",
     "output_type": "stream",
     "text": [
      "/home/jiang/projects/SubtleGAN/data/brats2021/train/BraTS2021_01237\n"
     ]
    },
    {
     "name": "stderr",
     "output_type": "stream",
     "text": [
      "\n",
      "  0%|          | 0/80 [00:00<?, ?it/s]\u001b[A\n",
      " 24%|██▍       | 19/80 [00:00<00:00, 186.89it/s]\u001b[A\n",
      " 48%|████▊     | 38/80 [00:00<00:00, 179.97it/s]\u001b[A\n",
      " 71%|███████▏  | 57/80 [00:00<00:00, 179.36it/s]\u001b[A\n",
      "100%|██████████| 80/80 [00:00<00:00, 177.65it/s]\u001b[A\n",
      "  6%|▌         | 63/1123 [00:58<16:11,  1.09it/s]"
     ]
    },
    {
     "name": "stdout",
     "output_type": "stream",
     "text": [
      "/home/jiang/projects/SubtleGAN/data/brats2021/train/BraTS2021_00689\n"
     ]
    },
    {
     "name": "stderr",
     "output_type": "stream",
     "text": [
      "\n",
      "  0%|          | 0/80 [00:00<?, ?it/s]\u001b[A\n",
      " 28%|██▊       | 22/80 [00:00<00:00, 217.03it/s]\u001b[A\n",
      " 55%|█████▌    | 44/80 [00:00<00:00, 182.68it/s]\u001b[A\n",
      "100%|██████████| 80/80 [00:00<00:00, 175.87it/s]\u001b[A\n",
      "  6%|▌         | 64/1123 [00:59<15:42,  1.12it/s]"
     ]
    },
    {
     "name": "stdout",
     "output_type": "stream",
     "text": [
      "/home/jiang/projects/SubtleGAN/data/brats2021/train/BraTS2021_00006\n"
     ]
    },
    {
     "name": "stderr",
     "output_type": "stream",
     "text": [
      "\n",
      "  0%|          | 0/80 [00:00<?, ?it/s]\u001b[A\n",
      " 25%|██▌       | 20/80 [00:00<00:00, 190.77it/s]\u001b[A\n",
      " 50%|█████     | 40/80 [00:00<00:00, 181.21it/s]\u001b[A\n",
      " 74%|███████▍  | 59/80 [00:00<00:00, 179.13it/s]\u001b[A\n",
      "100%|██████████| 80/80 [00:00<00:00, 178.74it/s]\u001b[A\n",
      "  6%|▌         | 65/1123 [01:00<15:18,  1.15it/s]"
     ]
    },
    {
     "name": "stdout",
     "output_type": "stream",
     "text": [
      "/home/jiang/projects/SubtleGAN/data/brats2021/train/BraTS2021_01195\n"
     ]
    },
    {
     "name": "stderr",
     "output_type": "stream",
     "text": [
      "\n",
      "  0%|          | 0/80 [00:00<?, ?it/s]\u001b[A\n",
      " 22%|██▎       | 18/80 [00:00<00:00, 179.74it/s]\u001b[A\n",
      " 45%|████▌     | 36/80 [00:00<00:00, 156.87it/s]\u001b[A\n",
      " 65%|██████▌   | 52/80 [00:00<00:00, 150.42it/s]\u001b[A\n",
      "100%|██████████| 80/80 [00:00<00:00, 153.88it/s]\u001b[A\n",
      "  6%|▌         | 66/1123 [01:01<15:42,  1.12it/s]"
     ]
    },
    {
     "name": "stdout",
     "output_type": "stream",
     "text": [
      "/home/jiang/projects/SubtleGAN/data/brats2021/train/BraTS2021_00652\n"
     ]
    },
    {
     "name": "stderr",
     "output_type": "stream",
     "text": [
      "\n",
      "  0%|          | 0/80 [00:00<?, ?it/s]\u001b[A\n",
      " 24%|██▍       | 19/80 [00:00<00:00, 185.88it/s]\u001b[A\n",
      " 48%|████▊     | 38/80 [00:00<00:00, 176.29it/s]\u001b[A\n",
      " 70%|███████   | 56/80 [00:00<00:00, 173.65it/s]\u001b[A\n",
      "100%|██████████| 80/80 [00:00<00:00, 181.41it/s]\u001b[A\n",
      "  6%|▌         | 67/1123 [01:01<15:19,  1.15it/s]"
     ]
    },
    {
     "name": "stdout",
     "output_type": "stream",
     "text": [
      "/home/jiang/projects/SubtleGAN/data/brats2021/train/BraTS2021_01470\n"
     ]
    },
    {
     "name": "stderr",
     "output_type": "stream",
     "text": [
      "\n",
      "  0%|          | 0/80 [00:00<?, ?it/s]\u001b[A\n",
      " 11%|█▏        | 9/80 [00:00<00:00, 88.27it/s]\u001b[A\n",
      " 22%|██▎       | 18/80 [00:00<00:00, 76.00it/s]\u001b[A\n",
      " 36%|███▋      | 29/80 [00:00<00:00, 90.02it/s]\u001b[A\n",
      " 57%|█████▊    | 46/80 [00:00<00:00, 118.36it/s]\u001b[A\n",
      " 79%|███████▉  | 63/80 [00:00<00:00, 133.71it/s]\u001b[A\n",
      "100%|██████████| 80/80 [00:00<00:00, 123.29it/s]\u001b[A\n",
      "  6%|▌         | 68/1123 [01:03<16:28,  1.07it/s]"
     ]
    },
    {
     "name": "stdout",
     "output_type": "stream",
     "text": [
      "/home/jiang/projects/SubtleGAN/data/brats2021/train/BraTS2021_01431\n"
     ]
    },
    {
     "name": "stderr",
     "output_type": "stream",
     "text": [
      "\n",
      "  0%|          | 0/80 [00:00<?, ?it/s]\u001b[A\n",
      " 16%|█▋        | 13/80 [00:00<00:00, 125.31it/s]\u001b[A\n",
      " 35%|███▌      | 28/80 [00:00<00:00, 136.83it/s]\u001b[A\n",
      " 56%|█████▋    | 45/80 [00:00<00:00, 148.61it/s]\u001b[A\n",
      " 78%|███████▊  | 62/80 [00:00<00:00, 154.61it/s]\u001b[A\n",
      "100%|██████████| 80/80 [00:00<00:00, 152.92it/s]\u001b[A\n",
      "  6%|▌         | 69/1123 [01:03<16:34,  1.06it/s]"
     ]
    },
    {
     "name": "stdout",
     "output_type": "stream",
     "text": [
      "/home/jiang/projects/SubtleGAN/data/brats2021/train/BraTS2021_00298\n"
     ]
    },
    {
     "name": "stderr",
     "output_type": "stream",
     "text": [
      "\n",
      "  0%|          | 0/80 [00:00<?, ?it/s]\u001b[A\n",
      " 22%|██▎       | 18/80 [00:00<00:00, 176.98it/s]\u001b[A\n",
      " 45%|████▌     | 36/80 [00:00<00:00, 178.65it/s]\u001b[A\n",
      " 68%|██████▊   | 54/80 [00:00<00:00, 174.69it/s]\u001b[A\n",
      "100%|██████████| 80/80 [00:00<00:00, 171.65it/s]\u001b[A\n",
      "  6%|▌         | 70/1123 [01:04<16:23,  1.07it/s]"
     ]
    },
    {
     "name": "stdout",
     "output_type": "stream",
     "text": [
      "/home/jiang/projects/SubtleGAN/data/brats2021/train/BraTS2021_01019\n"
     ]
    },
    {
     "name": "stderr",
     "output_type": "stream",
     "text": [
      "\n",
      "  0%|          | 0/80 [00:00<?, ?it/s]\u001b[A\n",
      " 25%|██▌       | 20/80 [00:00<00:00, 194.11it/s]\u001b[A\n",
      " 50%|█████     | 40/80 [00:00<00:00, 178.61it/s]\u001b[A\n",
      " 72%|███████▎  | 58/80 [00:00<00:00, 174.65it/s]\u001b[A\n",
      "100%|██████████| 80/80 [00:00<00:00, 172.45it/s]\u001b[A\n",
      "  6%|▋         | 71/1123 [01:05<16:21,  1.07it/s]"
     ]
    },
    {
     "name": "stdout",
     "output_type": "stream",
     "text": [
      "/home/jiang/projects/SubtleGAN/data/brats2021/train/BraTS2021_01434\n"
     ]
    },
    {
     "name": "stderr",
     "output_type": "stream",
     "text": [
      "\n",
      "  0%|          | 0/80 [00:00<?, ?it/s]\u001b[A\n",
      " 22%|██▎       | 18/80 [00:00<00:00, 178.08it/s]\u001b[A\n",
      " 45%|████▌     | 36/80 [00:00<00:00, 159.52it/s]\u001b[A\n",
      " 66%|██████▋   | 53/80 [00:00<00:00, 160.36it/s]\u001b[A\n",
      "100%|██████████| 80/80 [00:00<00:00, 161.57it/s]\u001b[A\n",
      "  6%|▋         | 72/1123 [01:06<16:21,  1.07it/s]"
     ]
    },
    {
     "name": "stdout",
     "output_type": "stream",
     "text": [
      "/home/jiang/projects/SubtleGAN/data/brats2021/train/BraTS2021_00109\n"
     ]
    },
    {
     "name": "stderr",
     "output_type": "stream",
     "text": [
      "\n",
      "  0%|          | 0/80 [00:00<?, ?it/s]\u001b[A\n",
      " 24%|██▍       | 19/80 [00:00<00:00, 180.23it/s]\u001b[A\n",
      " 48%|████▊     | 38/80 [00:00<00:00, 179.59it/s]\u001b[A\n",
      " 71%|███████▏  | 57/80 [00:00<00:00, 181.60it/s]\u001b[A\n",
      "100%|██████████| 80/80 [00:00<00:00, 177.86it/s]\u001b[A\n",
      "  7%|▋         | 73/1123 [01:07<16:10,  1.08it/s]"
     ]
    },
    {
     "name": "stdout",
     "output_type": "stream",
     "text": [
      "/home/jiang/projects/SubtleGAN/data/brats2021/train/BraTS2021_01437\n"
     ]
    },
    {
     "name": "stderr",
     "output_type": "stream",
     "text": [
      "\n",
      "  0%|          | 0/80 [00:00<?, ?it/s]\u001b[A\n",
      " 24%|██▍       | 19/80 [00:00<00:00, 187.63it/s]\u001b[A\n",
      " 48%|████▊     | 38/80 [00:00<00:00, 181.46it/s]\u001b[A\n",
      " 71%|███████▏  | 57/80 [00:00<00:00, 179.81it/s]\u001b[A\n",
      "100%|██████████| 80/80 [00:00<00:00, 178.56it/s]\u001b[A\n",
      "  7%|▋         | 74/1123 [01:08<15:54,  1.10it/s]"
     ]
    },
    {
     "name": "stdout",
     "output_type": "stream",
     "text": [
      "/home/jiang/projects/SubtleGAN/data/brats2021/train/BraTS2021_01032\n"
     ]
    },
    {
     "name": "stderr",
     "output_type": "stream",
     "text": [
      "\n",
      "  0%|          | 0/80 [00:00<?, ?it/s]\u001b[A\n",
      " 40%|████      | 32/80 [00:00<00:00, 310.60it/s]\u001b[A\n",
      "100%|██████████| 80/80 [00:00<00:00, 283.87it/s]\u001b[A\n",
      "  7%|▋         | 75/1123 [01:09<17:15,  1.01it/s]"
     ]
    },
    {
     "name": "stdout",
     "output_type": "stream",
     "text": [
      "/home/jiang/projects/SubtleGAN/data/brats2021/train/BraTS2021_01148\n"
     ]
    },
    {
     "name": "stderr",
     "output_type": "stream",
     "text": [
      "\n",
      "  0%|          | 0/80 [00:00<?, ?it/s]\u001b[A\n",
      " 24%|██▍       | 19/80 [00:00<00:00, 187.70it/s]\u001b[A\n",
      " 50%|█████     | 40/80 [00:00<00:00, 196.15it/s]\u001b[A\n",
      " 75%|███████▌  | 60/80 [00:00<00:00, 183.81it/s]\u001b[A\n",
      "100%|██████████| 80/80 [00:00<00:00, 181.83it/s]\u001b[A\n",
      "  7%|▋         | 76/1123 [01:10<16:41,  1.05it/s]"
     ]
    },
    {
     "name": "stdout",
     "output_type": "stream",
     "text": [
      "/home/jiang/projects/SubtleGAN/data/brats2021/train/BraTS2021_00472\n"
     ]
    },
    {
     "name": "stderr",
     "output_type": "stream",
     "text": [
      "\n",
      "  0%|          | 0/80 [00:00<?, ?it/s]\u001b[A\n",
      " 24%|██▍       | 19/80 [00:00<00:00, 187.04it/s]\u001b[A\n",
      " 48%|████▊     | 38/80 [00:00<00:00, 179.37it/s]\u001b[A\n",
      " 70%|███████   | 56/80 [00:00<00:00, 176.36it/s]\u001b[A\n",
      "100%|██████████| 80/80 [00:00<00:00, 177.55it/s]\u001b[A\n",
      "  7%|▋         | 77/1123 [01:11<16:01,  1.09it/s]"
     ]
    },
    {
     "name": "stdout",
     "output_type": "stream",
     "text": [
      "/home/jiang/projects/SubtleGAN/data/brats2021/train/BraTS2021_00543\n"
     ]
    },
    {
     "name": "stderr",
     "output_type": "stream",
     "text": [
      "\n",
      "  0%|          | 0/80 [00:00<?, ?it/s]\u001b[A\n",
      " 26%|██▋       | 21/80 [00:00<00:00, 206.60it/s]\u001b[A\n",
      " 52%|█████▎    | 42/80 [00:00<00:00, 165.99it/s]\u001b[A\n",
      " 75%|███████▌  | 60/80 [00:00<00:00, 157.23it/s]\u001b[A\n",
      "100%|██████████| 80/80 [00:00<00:00, 157.12it/s]\u001b[A\n",
      "  7%|▋         | 78/1123 [01:12<15:51,  1.10it/s]"
     ]
    },
    {
     "name": "stdout",
     "output_type": "stream",
     "text": [
      "/home/jiang/projects/SubtleGAN/data/brats2021/train/BraTS2021_01186\n"
     ]
    },
    {
     "name": "stderr",
     "output_type": "stream",
     "text": [
      "\n",
      "  0%|          | 0/80 [00:00<?, ?it/s]\u001b[A\n",
      " 24%|██▍       | 19/80 [00:00<00:00, 184.24it/s]\u001b[A\n",
      " 48%|████▊     | 38/80 [00:00<00:00, 178.30it/s]\u001b[A\n",
      " 70%|███████   | 56/80 [00:00<00:00, 173.46it/s]\u001b[A\n",
      "100%|██████████| 80/80 [00:00<00:00, 179.83it/s]\u001b[A\n",
      "  7%|▋         | 79/1123 [01:13<15:38,  1.11it/s]"
     ]
    },
    {
     "name": "stdout",
     "output_type": "stream",
     "text": [
      "/home/jiang/projects/SubtleGAN/data/brats2021/train/BraTS2021_01070\n"
     ]
    },
    {
     "name": "stderr",
     "output_type": "stream",
     "text": [
      "\n",
      "  0%|          | 0/80 [00:00<?, ?it/s]\u001b[A\n",
      " 25%|██▌       | 20/80 [00:00<00:00, 197.40it/s]\u001b[A\n",
      " 50%|█████     | 40/80 [00:00<00:00, 184.76it/s]\u001b[A\n",
      " 74%|███████▍  | 59/80 [00:00<00:00, 181.33it/s]\u001b[A\n",
      "100%|██████████| 80/80 [00:00<00:00, 180.91it/s]\u001b[A\n",
      "  7%|▋         | 80/1123 [01:14<15:37,  1.11it/s]"
     ]
    },
    {
     "name": "stdout",
     "output_type": "stream",
     "text": [
      "/home/jiang/projects/SubtleGAN/data/brats2021/train/BraTS2021_01563\n"
     ]
    },
    {
     "name": "stderr",
     "output_type": "stream",
     "text": [
      "\n",
      "  0%|          | 0/80 [00:00<?, ?it/s]\u001b[A\n",
      " 40%|████      | 32/80 [00:00<00:00, 316.89it/s]\u001b[A\n",
      "100%|██████████| 80/80 [00:00<00:00, 286.64it/s]\u001b[A\n",
      "  7%|▋         | 81/1123 [01:15<17:01,  1.02it/s]"
     ]
    },
    {
     "name": "stdout",
     "output_type": "stream",
     "text": [
      "/home/jiang/projects/SubtleGAN/data/brats2021/train/BraTS2021_01163\n"
     ]
    },
    {
     "name": "stderr",
     "output_type": "stream",
     "text": [
      "\n",
      "  0%|          | 0/80 [00:00<?, ?it/s]\u001b[A\n",
      " 40%|████      | 32/80 [00:00<00:00, 312.04it/s]\u001b[A\n",
      "100%|██████████| 80/80 [00:00<00:00, 281.47it/s]\u001b[A\n",
      "  7%|▋         | 82/1123 [01:16<18:03,  1.04s/it]"
     ]
    },
    {
     "name": "stdout",
     "output_type": "stream",
     "text": [
      "/home/jiang/projects/SubtleGAN/data/brats2021/train/BraTS2021_01347\n"
     ]
    },
    {
     "name": "stderr",
     "output_type": "stream",
     "text": [
      "\n",
      "  0%|          | 0/80 [00:00<?, ?it/s]\u001b[A\n",
      " 24%|██▍       | 19/80 [00:00<00:00, 185.98it/s]\u001b[A\n",
      " 48%|████▊     | 38/80 [00:00<00:00, 179.25it/s]\u001b[A\n",
      " 70%|███████   | 56/80 [00:00<00:00, 177.64it/s]\u001b[A\n",
      "100%|██████████| 80/80 [00:00<00:00, 179.27it/s]\u001b[A\n",
      "  7%|▋         | 83/1123 [01:17<17:16,  1.00it/s]"
     ]
    },
    {
     "name": "stdout",
     "output_type": "stream",
     "text": [
      "/home/jiang/projects/SubtleGAN/data/brats2021/train/BraTS2021_01132\n"
     ]
    },
    {
     "name": "stderr",
     "output_type": "stream",
     "text": [
      "\n",
      "  0%|          | 0/80 [00:00<?, ?it/s]\u001b[A\n",
      " 24%|██▍       | 19/80 [00:00<00:00, 187.17it/s]\u001b[A\n",
      " 48%|████▊     | 38/80 [00:00<00:00, 179.76it/s]\u001b[A\n",
      " 70%|███████   | 56/80 [00:00<00:00, 177.04it/s]\u001b[A\n",
      "100%|██████████| 80/80 [00:00<00:00, 175.26it/s]\u001b[A\n",
      "  7%|▋         | 84/1123 [01:18<16:39,  1.04it/s]"
     ]
    },
    {
     "name": "stdout",
     "output_type": "stream",
     "text": [
      "/home/jiang/projects/SubtleGAN/data/brats2021/train/BraTS2021_00160\n"
     ]
    },
    {
     "name": "stderr",
     "output_type": "stream",
     "text": [
      "\n",
      "  0%|          | 0/80 [00:00<?, ?it/s]\u001b[A\n",
      " 24%|██▍       | 19/80 [00:00<00:00, 180.86it/s]\u001b[A\n",
      " 50%|█████     | 40/80 [00:00<00:00, 192.40it/s]\u001b[A\n",
      " 75%|███████▌  | 60/80 [00:00<00:00, 184.34it/s]\u001b[A\n",
      "100%|██████████| 80/80 [00:00<00:00, 181.51it/s]\u001b[A\n",
      "  8%|▊         | 85/1123 [01:19<16:16,  1.06it/s]"
     ]
    },
    {
     "name": "stdout",
     "output_type": "stream",
     "text": [
      "/home/jiang/projects/SubtleGAN/data/brats2021/train/BraTS2021_01642\n"
     ]
    },
    {
     "name": "stderr",
     "output_type": "stream",
     "text": [
      "\n",
      "  0%|          | 0/80 [00:00<?, ?it/s]\u001b[A\n",
      " 40%|████      | 32/80 [00:00<00:00, 312.07it/s]\u001b[A\n",
      "100%|██████████| 80/80 [00:00<00:00, 276.15it/s]\u001b[A\n",
      "  8%|▊         | 86/1123 [01:20<17:35,  1.02s/it]"
     ]
    },
    {
     "name": "stdout",
     "output_type": "stream",
     "text": [
      "/home/jiang/projects/SubtleGAN/data/brats2021/train/BraTS2021_01358\n"
     ]
    },
    {
     "name": "stderr",
     "output_type": "stream",
     "text": [
      "\n",
      "  0%|          | 0/80 [00:00<?, ?it/s]\u001b[A\n",
      " 24%|██▍       | 19/80 [00:00<00:00, 188.15it/s]\u001b[A\n",
      " 48%|████▊     | 38/80 [00:00<00:00, 181.40it/s]\u001b[A\n",
      " 71%|███████▏  | 57/80 [00:00<00:00, 177.75it/s]\u001b[A\n",
      "100%|██████████| 80/80 [00:00<00:00, 176.77it/s]\u001b[A\n",
      "  8%|▊         | 87/1123 [01:21<16:59,  1.02it/s]"
     ]
    },
    {
     "name": "stdout",
     "output_type": "stream",
     "text": [
      "/home/jiang/projects/SubtleGAN/data/brats2021/train/BraTS2021_01181\n"
     ]
    },
    {
     "name": "stderr",
     "output_type": "stream",
     "text": [
      "\n",
      "  0%|          | 0/80 [00:00<?, ?it/s]\u001b[A\n",
      " 26%|██▋       | 21/80 [00:00<00:00, 205.40it/s]\u001b[A\n",
      " 52%|█████▎    | 42/80 [00:00<00:00, 182.25it/s]\u001b[A\n",
      " 76%|███████▋  | 61/80 [00:00<00:00, 177.02it/s]\u001b[A\n",
      "100%|██████████| 80/80 [00:00<00:00, 175.21it/s]\u001b[A\n",
      "  8%|▊         | 88/1123 [01:22<16:28,  1.05it/s]"
     ]
    },
    {
     "name": "stdout",
     "output_type": "stream",
     "text": [
      "/home/jiang/projects/SubtleGAN/data/brats2021/train/BraTS2021_01541\n"
     ]
    },
    {
     "name": "stderr",
     "output_type": "stream",
     "text": [
      "\n",
      "  0%|          | 0/80 [00:00<?, ?it/s]\u001b[A\n",
      " 36%|███▋      | 29/80 [00:00<00:00, 286.90it/s]\u001b[A\n",
      "100%|██████████| 80/80 [00:00<00:00, 276.79it/s]\u001b[A\n",
      "  8%|▊         | 89/1123 [01:23<17:43,  1.03s/it]"
     ]
    },
    {
     "name": "stdout",
     "output_type": "stream",
     "text": [
      "/home/jiang/projects/SubtleGAN/data/brats2021/train/BraTS2021_00544\n"
     ]
    },
    {
     "name": "stderr",
     "output_type": "stream",
     "text": [
      "\n",
      "  0%|          | 0/80 [00:00<?, ?it/s]\u001b[A\n",
      " 25%|██▌       | 20/80 [00:00<00:00, 189.56it/s]\u001b[A\n",
      " 49%|████▉     | 39/80 [00:00<00:00, 185.09it/s]\u001b[A\n",
      " 72%|███████▎  | 58/80 [00:00<00:00, 178.76it/s]\u001b[A\n",
      "100%|██████████| 80/80 [00:00<00:00, 177.26it/s]\u001b[A\n",
      "  8%|▊         | 90/1123 [01:24<16:40,  1.03it/s]"
     ]
    },
    {
     "name": "stdout",
     "output_type": "stream",
     "text": [
      "/home/jiang/projects/SubtleGAN/data/brats2021/train/BraTS2021_00206\n"
     ]
    },
    {
     "name": "stderr",
     "output_type": "stream",
     "text": [
      "\n",
      "  0%|          | 0/80 [00:00<?, ?it/s]\u001b[A\n",
      " 25%|██▌       | 20/80 [00:00<00:00, 196.12it/s]\u001b[A\n",
      " 50%|█████     | 40/80 [00:00<00:00, 183.30it/s]\u001b[A\n",
      " 74%|███████▍  | 59/80 [00:00<00:00, 178.68it/s]\u001b[A\n",
      "100%|██████████| 80/80 [00:00<00:00, 178.83it/s]\u001b[A\n",
      "  8%|▊         | 91/1123 [01:25<16:14,  1.06it/s]"
     ]
    },
    {
     "name": "stdout",
     "output_type": "stream",
     "text": [
      "/home/jiang/projects/SubtleGAN/data/brats2021/train/BraTS2021_00400\n"
     ]
    },
    {
     "name": "stderr",
     "output_type": "stream",
     "text": [
      "\n",
      "  0%|          | 0/80 [00:00<?, ?it/s]\u001b[A\n",
      " 22%|██▎       | 18/80 [00:00<00:00, 178.28it/s]\u001b[A\n",
      " 45%|████▌     | 36/80 [00:00<00:00, 170.76it/s]\u001b[A\n",
      " 69%|██████▉   | 55/80 [00:00<00:00, 178.73it/s]\u001b[A\n",
      "100%|██████████| 80/80 [00:00<00:00, 177.86it/s]\u001b[A\n",
      "  8%|▊         | 92/1123 [01:25<16:04,  1.07it/s]"
     ]
    },
    {
     "name": "stdout",
     "output_type": "stream",
     "text": [
      "/home/jiang/projects/SubtleGAN/data/brats2021/train/BraTS2021_01565\n"
     ]
    },
    {
     "name": "stderr",
     "output_type": "stream",
     "text": [
      "\n",
      "  0%|          | 0/80 [00:00<?, ?it/s]\u001b[A\n",
      " 40%|████      | 32/80 [00:00<00:00, 312.45it/s]\u001b[A\n",
      "100%|██████████| 80/80 [00:00<00:00, 283.19it/s]\u001b[A\n",
      "  8%|▊         | 93/1123 [01:27<17:29,  1.02s/it]"
     ]
    },
    {
     "name": "stdout",
     "output_type": "stream",
     "text": [
      "/home/jiang/projects/SubtleGAN/data/brats2021/train/BraTS2021_00176\n"
     ]
    },
    {
     "name": "stderr",
     "output_type": "stream",
     "text": [
      "\n",
      "  0%|          | 0/80 [00:00<?, ?it/s]\u001b[A\n",
      " 24%|██▍       | 19/80 [00:00<00:00, 189.26it/s]\u001b[A\n",
      " 48%|████▊     | 38/80 [00:00<00:00, 181.86it/s]\u001b[A\n",
      " 71%|███████▏  | 57/80 [00:00<00:00, 179.48it/s]\u001b[A\n",
      "100%|██████████| 80/80 [00:00<00:00, 178.66it/s]\u001b[A\n",
      "  8%|▊         | 94/1123 [01:28<16:47,  1.02it/s]"
     ]
    },
    {
     "name": "stdout",
     "output_type": "stream",
     "text": [
      "/home/jiang/projects/SubtleGAN/data/brats2021/train/BraTS2021_01090\n"
     ]
    },
    {
     "name": "stderr",
     "output_type": "stream",
     "text": [
      "\n",
      "  0%|          | 0/80 [00:00<?, ?it/s]\u001b[A\n",
      " 26%|██▋       | 21/80 [00:00<00:00, 207.99it/s]\u001b[A\n",
      " 52%|█████▎    | 42/80 [00:00<00:00, 159.04it/s]\u001b[A\n",
      " 74%|███████▍  | 59/80 [00:00<00:00, 158.74it/s]\u001b[A\n",
      "100%|██████████| 80/80 [00:00<00:00, 164.55it/s]\u001b[A\n",
      "  8%|▊         | 95/1123 [01:28<16:35,  1.03it/s]"
     ]
    },
    {
     "name": "stdout",
     "output_type": "stream",
     "text": [
      "/home/jiang/projects/SubtleGAN/data/brats2021/train/BraTS2021_00235\n"
     ]
    },
    {
     "name": "stderr",
     "output_type": "stream",
     "text": [
      "\n",
      "  0%|          | 0/80 [00:00<?, ?it/s]\u001b[A\n",
      " 24%|██▍       | 19/80 [00:00<00:00, 188.14it/s]\u001b[A\n",
      " 48%|████▊     | 38/80 [00:00<00:00, 180.44it/s]\u001b[A\n",
      " 71%|███████▏  | 57/80 [00:00<00:00, 176.71it/s]\u001b[A\n",
      "100%|██████████| 80/80 [00:00<00:00, 175.70it/s]\u001b[A\n",
      "  9%|▊         | 96/1123 [01:29<16:14,  1.05it/s]"
     ]
    },
    {
     "name": "stdout",
     "output_type": "stream",
     "text": [
      "/home/jiang/projects/SubtleGAN/data/brats2021/train/BraTS2021_00753\n"
     ]
    },
    {
     "name": "stderr",
     "output_type": "stream",
     "text": [
      "\n",
      "  0%|          | 0/80 [00:00<?, ?it/s]\u001b[A\n",
      " 24%|██▍       | 19/80 [00:00<00:00, 181.39it/s]\u001b[A\n",
      " 48%|████▊     | 38/80 [00:00<00:00, 175.01it/s]\u001b[A\n",
      " 70%|███████   | 56/80 [00:00<00:00, 173.97it/s]\u001b[A\n",
      "100%|██████████| 80/80 [00:00<00:00, 173.77it/s]\u001b[A\n",
      "  9%|▊         | 97/1123 [01:30<15:31,  1.10it/s]"
     ]
    },
    {
     "name": "stdout",
     "output_type": "stream",
     "text": [
      "/home/jiang/projects/SubtleGAN/data/brats2021/train/BraTS2021_01554\n"
     ]
    },
    {
     "name": "stderr",
     "output_type": "stream",
     "text": [
      "\n",
      "  0%|          | 0/80 [00:00<?, ?it/s]\u001b[A\n",
      " 39%|███▉      | 31/80 [00:00<00:00, 303.83it/s]\u001b[A\n",
      "100%|██████████| 80/80 [00:00<00:00, 283.23it/s]\u001b[A\n",
      "  9%|▊         | 98/1123 [01:31<17:00,  1.00it/s]"
     ]
    },
    {
     "name": "stdout",
     "output_type": "stream",
     "text": [
      "/home/jiang/projects/SubtleGAN/data/brats2021/train/BraTS2021_00293\n"
     ]
    },
    {
     "name": "stderr",
     "output_type": "stream",
     "text": [
      "\n",
      "  0%|          | 0/80 [00:00<?, ?it/s]\u001b[A\n",
      " 24%|██▍       | 19/80 [00:00<00:00, 187.03it/s]\u001b[A\n",
      " 48%|████▊     | 38/80 [00:00<00:00, 179.64it/s]\u001b[A\n",
      " 70%|███████   | 56/80 [00:00<00:00, 175.58it/s]\u001b[A\n",
      "100%|██████████| 80/80 [00:00<00:00, 176.30it/s]\u001b[A\n",
      "  9%|▉         | 99/1123 [01:32<16:43,  1.02it/s]"
     ]
    },
    {
     "name": "stdout",
     "output_type": "stream",
     "text": [
      "/home/jiang/projects/SubtleGAN/data/brats2021/train/BraTS2021_00651\n"
     ]
    },
    {
     "name": "stderr",
     "output_type": "stream",
     "text": [
      "\n",
      "  0%|          | 0/80 [00:00<?, ?it/s]\u001b[A\n",
      " 24%|██▍       | 19/80 [00:00<00:00, 183.02it/s]\u001b[A\n",
      " 48%|████▊     | 38/80 [00:00<00:00, 175.53it/s]\u001b[A\n",
      " 70%|███████   | 56/80 [00:00<00:00, 173.19it/s]\u001b[A\n",
      "100%|██████████| 80/80 [00:00<00:00, 173.24it/s]\u001b[A\n",
      "  9%|▉         | 100/1123 [01:33<15:55,  1.07it/s]"
     ]
    },
    {
     "name": "stdout",
     "output_type": "stream",
     "text": [
      "/home/jiang/projects/SubtleGAN/data/brats2021/train/BraTS2021_01453\n"
     ]
    },
    {
     "name": "stderr",
     "output_type": "stream",
     "text": [
      "\n",
      "  0%|          | 0/80 [00:00<?, ?it/s]\u001b[A\n",
      " 19%|█▉        | 15/80 [00:00<00:00, 142.38it/s]\u001b[A\n",
      " 41%|████▏     | 33/80 [00:00<00:00, 162.45it/s]\u001b[A\n",
      " 62%|██████▎   | 50/80 [00:00<00:00, 158.45it/s]\u001b[A\n",
      "100%|██████████| 80/80 [00:00<00:00, 162.00it/s]\u001b[A\n",
      "  9%|▉         | 101/1123 [01:34<15:56,  1.07it/s]"
     ]
    },
    {
     "name": "stdout",
     "output_type": "stream",
     "text": [
      "/home/jiang/projects/SubtleGAN/data/brats2021/train/BraTS2021_01190\n"
     ]
    },
    {
     "name": "stderr",
     "output_type": "stream",
     "text": [
      "\n",
      "  0%|          | 0/80 [00:00<?, ?it/s]\u001b[A\n",
      " 24%|██▍       | 19/80 [00:00<00:00, 185.45it/s]\u001b[A\n",
      " 48%|████▊     | 38/80 [00:00<00:00, 177.20it/s]\u001b[A\n",
      " 70%|███████   | 56/80 [00:00<00:00, 174.78it/s]\u001b[A\n",
      "100%|██████████| 80/80 [00:00<00:00, 172.87it/s]\u001b[A\n",
      "  9%|▉         | 102/1123 [01:35<15:48,  1.08it/s]"
     ]
    },
    {
     "name": "stdout",
     "output_type": "stream",
     "text": [
      "/home/jiang/projects/SubtleGAN/data/brats2021/train/BraTS2021_00243\n"
     ]
    },
    {
     "name": "stderr",
     "output_type": "stream",
     "text": [
      "\n",
      "  0%|          | 0/80 [00:00<?, ?it/s]\u001b[A\n",
      " 25%|██▌       | 20/80 [00:00<00:00, 193.66it/s]\u001b[A\n",
      " 50%|█████     | 40/80 [00:00<00:00, 184.48it/s]\u001b[A\n",
      " 74%|███████▍  | 59/80 [00:00<00:00, 176.47it/s]\u001b[A\n",
      "100%|██████████| 80/80 [00:00<00:00, 175.86it/s]\u001b[A\n",
      "  9%|▉         | 103/1123 [01:36<15:34,  1.09it/s]"
     ]
    },
    {
     "name": "stdout",
     "output_type": "stream",
     "text": [
      "/home/jiang/projects/SubtleGAN/data/brats2021/train/BraTS2021_01239\n"
     ]
    },
    {
     "name": "stderr",
     "output_type": "stream",
     "text": [
      "\n",
      "  0%|          | 0/80 [00:00<?, ?it/s]\u001b[A\n",
      " 26%|██▋       | 21/80 [00:00<00:00, 209.04it/s]\u001b[A\n",
      " 52%|█████▎    | 42/80 [00:00<00:00, 187.78it/s]\u001b[A\n",
      " 76%|███████▋  | 61/80 [00:00<00:00, 179.54it/s]\u001b[A\n",
      "100%|██████████| 80/80 [00:00<00:00, 179.33it/s]\u001b[A\n",
      "  9%|▉         | 104/1123 [01:37<15:24,  1.10it/s]"
     ]
    },
    {
     "name": "stdout",
     "output_type": "stream",
     "text": [
      "/home/jiang/projects/SubtleGAN/data/brats2021/train/BraTS2021_00818\n"
     ]
    },
    {
     "name": "stderr",
     "output_type": "stream",
     "text": [
      "\n",
      "  0%|          | 0/80 [00:00<?, ?it/s]\u001b[A\n",
      " 39%|███▉      | 31/80 [00:00<00:00, 303.76it/s]\u001b[A\n",
      "100%|██████████| 80/80 [00:00<00:00, 278.95it/s]\u001b[A\n",
      "  9%|▉         | 105/1123 [01:38<16:57,  1.00it/s]"
     ]
    },
    {
     "name": "stdout",
     "output_type": "stream",
     "text": [
      "/home/jiang/projects/SubtleGAN/data/brats2021/train/BraTS2021_01375\n"
     ]
    },
    {
     "name": "stderr",
     "output_type": "stream",
     "text": [
      "\n",
      "  0%|          | 0/80 [00:00<?, ?it/s]\u001b[A\n",
      " 24%|██▍       | 19/80 [00:00<00:00, 186.91it/s]\u001b[A\n",
      " 48%|████▊     | 38/80 [00:00<00:00, 176.66it/s]\u001b[A\n",
      " 70%|███████   | 56/80 [00:00<00:00, 172.69it/s]\u001b[A\n",
      "100%|██████████| 80/80 [00:00<00:00, 172.29it/s]\u001b[A\n",
      "  9%|▉         | 106/1123 [01:39<16:28,  1.03it/s]"
     ]
    },
    {
     "name": "stdout",
     "output_type": "stream",
     "text": [
      "/home/jiang/projects/SubtleGAN/data/brats2021/train/BraTS2021_01574\n"
     ]
    },
    {
     "name": "stderr",
     "output_type": "stream",
     "text": [
      "\n",
      "  0%|          | 0/80 [00:00<?, ?it/s]\u001b[A\n",
      " 38%|███▊      | 30/80 [00:00<00:00, 294.82it/s]\u001b[A\n",
      "100%|██████████| 80/80 [00:00<00:00, 277.73it/s]\u001b[A\n",
      " 10%|▉         | 107/1123 [01:40<17:36,  1.04s/it]"
     ]
    },
    {
     "name": "stdout",
     "output_type": "stream",
     "text": [
      "/home/jiang/projects/SubtleGAN/data/brats2021/train/BraTS2021_01122\n"
     ]
    },
    {
     "name": "stderr",
     "output_type": "stream",
     "text": [
      "\n",
      "  0%|          | 0/80 [00:00<?, ?it/s]\u001b[A\n",
      " 24%|██▍       | 19/80 [00:00<00:00, 186.04it/s]\u001b[A\n",
      " 48%|████▊     | 38/80 [00:00<00:00, 175.58it/s]\u001b[A\n",
      " 74%|███████▍  | 59/80 [00:00<00:00, 186.90it/s]\u001b[A\n",
      "100%|██████████| 80/80 [00:00<00:00, 180.23it/s]\u001b[A\n",
      " 10%|▉         | 108/1123 [01:41<16:50,  1.00it/s]"
     ]
    },
    {
     "name": "stdout",
     "output_type": "stream",
     "text": [
      "/home/jiang/projects/SubtleGAN/data/brats2021/train/BraTS2021_01287\n"
     ]
    },
    {
     "name": "stderr",
     "output_type": "stream",
     "text": [
      "\n",
      "  0%|          | 0/80 [00:00<?, ?it/s]\u001b[A\n",
      " 24%|██▍       | 19/80 [00:00<00:00, 188.77it/s]\u001b[A\n",
      " 48%|████▊     | 38/80 [00:00<00:00, 180.43it/s]\u001b[A\n",
      " 71%|███████▏  | 57/80 [00:00<00:00, 179.98it/s]\u001b[A\n",
      "100%|██████████| 80/80 [00:00<00:00, 178.88it/s]\u001b[A\n",
      " 10%|▉         | 109/1123 [01:42<16:19,  1.03it/s]"
     ]
    },
    {
     "name": "stdout",
     "output_type": "stream",
     "text": [
      "/home/jiang/projects/SubtleGAN/data/brats2021/train/BraTS2021_01193\n"
     ]
    },
    {
     "name": "stderr",
     "output_type": "stream",
     "text": [
      "\n",
      "  0%|          | 0/80 [00:00<?, ?it/s]\u001b[A\n",
      " 28%|██▊       | 22/80 [00:00<00:00, 210.74it/s]\u001b[A\n",
      " 55%|█████▌    | 44/80 [00:00<00:00, 188.21it/s]\u001b[A\n",
      "100%|██████████| 80/80 [00:00<00:00, 183.77it/s]\u001b[A\n",
      " 10%|▉         | 110/1123 [01:43<15:51,  1.06it/s]"
     ]
    },
    {
     "name": "stdout",
     "output_type": "stream",
     "text": [
      "/home/jiang/projects/SubtleGAN/data/brats2021/train/BraTS2021_01360\n"
     ]
    },
    {
     "name": "stderr",
     "output_type": "stream",
     "text": [
      "\n",
      "  0%|          | 0/80 [00:00<?, ?it/s]\u001b[A\n",
      " 24%|██▍       | 19/80 [00:00<00:00, 187.60it/s]\u001b[A\n",
      " 48%|████▊     | 38/80 [00:00<00:00, 178.59it/s]\u001b[A\n",
      " 70%|███████   | 56/80 [00:00<00:00, 174.70it/s]\u001b[A\n",
      "100%|██████████| 80/80 [00:00<00:00, 179.97it/s]\u001b[A\n",
      " 10%|▉         | 111/1123 [01:44<15:36,  1.08it/s]"
     ]
    },
    {
     "name": "stdout",
     "output_type": "stream",
     "text": [
      "/home/jiang/projects/SubtleGAN/data/brats2021/train/BraTS2021_00146\n"
     ]
    },
    {
     "name": "stderr",
     "output_type": "stream",
     "text": [
      "\n",
      "  0%|          | 0/80 [00:00<?, ?it/s]\u001b[A\n",
      " 24%|██▍       | 19/80 [00:00<00:00, 188.03it/s]\u001b[A\n",
      " 48%|████▊     | 38/80 [00:00<00:00, 180.06it/s]\u001b[A\n",
      " 71%|███████▏  | 57/80 [00:00<00:00, 179.11it/s]\u001b[A\n",
      "100%|██████████| 80/80 [00:00<00:00, 177.70it/s]\u001b[A\n",
      " 10%|▉         | 112/1123 [01:45<15:27,  1.09it/s]"
     ]
    },
    {
     "name": "stdout",
     "output_type": "stream",
     "text": [
      "/home/jiang/projects/SubtleGAN/data/brats2021/train/BraTS2021_00217\n"
     ]
    },
    {
     "name": "stderr",
     "output_type": "stream",
     "text": [
      "\n",
      "  0%|          | 0/80 [00:00<?, ?it/s]\u001b[A\n",
      " 24%|██▍       | 19/80 [00:00<00:00, 185.89it/s]\u001b[A\n",
      " 48%|████▊     | 38/80 [00:00<00:00, 169.65it/s]\u001b[A\n",
      " 70%|███████   | 56/80 [00:00<00:00, 170.57it/s]\u001b[A\n",
      "100%|██████████| 80/80 [00:00<00:00, 171.69it/s]\u001b[A\n",
      " 10%|█         | 113/1123 [01:45<15:28,  1.09it/s]"
     ]
    },
    {
     "name": "stdout",
     "output_type": "stream",
     "text": [
      "/home/jiang/projects/SubtleGAN/data/brats2021/train/BraTS2021_00058\n"
     ]
    },
    {
     "name": "stderr",
     "output_type": "stream",
     "text": [
      "\n",
      "  0%|          | 0/80 [00:00<?, ?it/s]\u001b[A\n",
      " 24%|██▍       | 19/80 [00:00<00:00, 189.28it/s]\u001b[A\n",
      " 48%|████▊     | 38/80 [00:00<00:00, 180.46it/s]\u001b[A\n",
      " 71%|███████▏  | 57/80 [00:00<00:00, 176.11it/s]\u001b[A\n",
      "100%|██████████| 80/80 [00:00<00:00, 175.86it/s]\u001b[A\n",
      " 10%|█         | 114/1123 [01:46<14:57,  1.12it/s]"
     ]
    },
    {
     "name": "stdout",
     "output_type": "stream",
     "text": [
      "/home/jiang/projects/SubtleGAN/data/brats2021/train/BraTS2021_01547\n"
     ]
    },
    {
     "name": "stderr",
     "output_type": "stream",
     "text": [
      "\n",
      "  0%|          | 0/80 [00:00<?, ?it/s]\u001b[A\n",
      " 38%|███▊      | 30/80 [00:00<00:00, 297.39it/s]\u001b[A\n",
      "100%|██████████| 80/80 [00:00<00:00, 278.86it/s]\u001b[A\n",
      " 10%|█         | 115/1123 [01:47<16:23,  1.02it/s]"
     ]
    },
    {
     "name": "stdout",
     "output_type": "stream",
     "text": [
      "/home/jiang/projects/SubtleGAN/data/brats2021/train/BraTS2021_00035\n"
     ]
    },
    {
     "name": "stderr",
     "output_type": "stream",
     "text": [
      "\n",
      "  0%|          | 0/80 [00:00<?, ?it/s]\u001b[A\n",
      " 26%|██▋       | 21/80 [00:00<00:00, 203.34it/s]\u001b[A\n",
      " 52%|█████▎    | 42/80 [00:00<00:00, 184.60it/s]\u001b[A\n",
      " 76%|███████▋  | 61/80 [00:00<00:00, 180.28it/s]\u001b[A\n",
      "100%|██████████| 80/80 [00:00<00:00, 179.82it/s]\u001b[A\n",
      " 10%|█         | 116/1123 [01:48<15:30,  1.08it/s]"
     ]
    },
    {
     "name": "stdout",
     "output_type": "stream",
     "text": [
      "/home/jiang/projects/SubtleGAN/data/brats2021/train/BraTS2021_01652\n"
     ]
    },
    {
     "name": "stderr",
     "output_type": "stream",
     "text": [
      "\n",
      "  0%|          | 0/80 [00:00<?, ?it/s]\u001b[A\n",
      " 38%|███▊      | 30/80 [00:00<00:00, 291.94it/s]\u001b[A\n",
      "100%|██████████| 80/80 [00:00<00:00, 272.16it/s]\u001b[A\n",
      " 10%|█         | 117/1123 [01:49<16:51,  1.01s/it]"
     ]
    },
    {
     "name": "stdout",
     "output_type": "stream",
     "text": [
      "/home/jiang/projects/SubtleGAN/data/brats2021/train/BraTS2021_01228\n"
     ]
    },
    {
     "name": "stderr",
     "output_type": "stream",
     "text": [
      "\n",
      "  0%|          | 0/80 [00:00<?, ?it/s]\u001b[A\n",
      " 24%|██▍       | 19/80 [00:00<00:00, 185.88it/s]\u001b[A\n",
      " 48%|████▊     | 38/80 [00:00<00:00, 178.94it/s]\u001b[A\n",
      " 70%|███████   | 56/80 [00:00<00:00, 176.62it/s]\u001b[A\n",
      "100%|██████████| 80/80 [00:00<00:00, 170.97it/s]\u001b[A\n",
      " 11%|█         | 118/1123 [01:50<16:26,  1.02it/s]"
     ]
    },
    {
     "name": "stdout",
     "output_type": "stream",
     "text": [
      "/home/jiang/projects/SubtleGAN/data/brats2021/train/BraTS2021_00550\n"
     ]
    },
    {
     "name": "stderr",
     "output_type": "stream",
     "text": [
      "\n",
      "  0%|          | 0/80 [00:00<?, ?it/s]\u001b[A\n",
      " 25%|██▌       | 20/80 [00:00<00:00, 190.53it/s]\u001b[A\n",
      " 50%|█████     | 40/80 [00:00<00:00, 176.76it/s]\u001b[A\n",
      " 72%|███████▎  | 58/80 [00:00<00:00, 172.93it/s]\u001b[A\n",
      "100%|██████████| 80/80 [00:00<00:00, 173.52it/s]\u001b[A\n",
      " 11%|█         | 119/1123 [01:51<15:45,  1.06it/s]"
     ]
    },
    {
     "name": "stdout",
     "output_type": "stream",
     "text": [
      "/home/jiang/projects/SubtleGAN/data/brats2021/train/BraTS2021_00638\n"
     ]
    },
    {
     "name": "stderr",
     "output_type": "stream",
     "text": [
      "\n",
      "  0%|          | 0/80 [00:00<?, ?it/s]\u001b[A\n",
      " 24%|██▍       | 19/80 [00:00<00:00, 184.07it/s]\u001b[A\n",
      " 48%|████▊     | 38/80 [00:00<00:00, 176.96it/s]\u001b[A\n",
      " 70%|███████   | 56/80 [00:00<00:00, 170.47it/s]\u001b[A\n",
      "100%|██████████| 80/80 [00:00<00:00, 176.81it/s]\u001b[A\n",
      " 11%|█         | 120/1123 [01:52<15:13,  1.10it/s]"
     ]
    },
    {
     "name": "stdout",
     "output_type": "stream",
     "text": [
      "/home/jiang/projects/SubtleGAN/data/brats2021/train/BraTS2021_00796\n"
     ]
    },
    {
     "name": "stderr",
     "output_type": "stream",
     "text": [
      "\n",
      "  0%|          | 0/80 [00:00<?, ?it/s]\u001b[A\n",
      " 39%|███▉      | 31/80 [00:00<00:00, 307.56it/s]\u001b[A\n",
      "100%|██████████| 80/80 [00:00<00:00, 279.91it/s]\u001b[A\n",
      " 11%|█         | 121/1123 [01:53<16:40,  1.00it/s]"
     ]
    },
    {
     "name": "stdout",
     "output_type": "stream",
     "text": [
      "/home/jiang/projects/SubtleGAN/data/brats2021/train/BraTS2021_00407\n"
     ]
    },
    {
     "name": "stderr",
     "output_type": "stream",
     "text": [
      "\n",
      "  0%|          | 0/80 [00:00<?, ?it/s]\u001b[A\n",
      " 24%|██▍       | 19/80 [00:00<00:00, 181.47it/s]\u001b[A\n",
      " 48%|████▊     | 38/80 [00:00<00:00, 172.13it/s]\u001b[A\n",
      " 70%|███████   | 56/80 [00:00<00:00, 169.59it/s]\u001b[A\n",
      "100%|██████████| 80/80 [00:00<00:00, 169.40it/s]\u001b[A\n",
      " 11%|█         | 122/1123 [01:54<16:10,  1.03it/s]"
     ]
    },
    {
     "name": "stdout",
     "output_type": "stream",
     "text": [
      "/home/jiang/projects/SubtleGAN/data/brats2021/train/BraTS2021_00563\n"
     ]
    },
    {
     "name": "stderr",
     "output_type": "stream",
     "text": [
      "\n",
      "  0%|          | 0/80 [00:00<?, ?it/s]\u001b[A\n",
      " 25%|██▌       | 20/80 [00:00<00:00, 194.91it/s]\u001b[A\n",
      " 50%|█████     | 40/80 [00:00<00:00, 184.26it/s]\u001b[A\n",
      " 74%|███████▍  | 59/80 [00:00<00:00, 173.02it/s]\u001b[A\n",
      "100%|██████████| 80/80 [00:00<00:00, 172.26it/s]\u001b[A\n",
      " 11%|█         | 123/1123 [01:55<15:51,  1.05it/s]"
     ]
    },
    {
     "name": "stdout",
     "output_type": "stream",
     "text": [
      "/home/jiang/projects/SubtleGAN/data/brats2021/train/BraTS2021_00116\n"
     ]
    },
    {
     "name": "stderr",
     "output_type": "stream",
     "text": [
      "\n",
      "  0%|          | 0/80 [00:00<?, ?it/s]\u001b[A\n",
      " 22%|██▎       | 18/80 [00:00<00:00, 178.37it/s]\u001b[A\n",
      " 45%|████▌     | 36/80 [00:00<00:00, 170.39it/s]\u001b[A\n",
      " 68%|██████▊   | 54/80 [00:00<00:00, 167.69it/s]\u001b[A\n",
      "100%|██████████| 80/80 [00:00<00:00, 159.01it/s]\u001b[A\n",
      " 11%|█         | 124/1123 [01:56<15:51,  1.05it/s]"
     ]
    },
    {
     "name": "stdout",
     "output_type": "stream",
     "text": [
      "/home/jiang/projects/SubtleGAN/data/brats2021/train/BraTS2021_00347\n"
     ]
    },
    {
     "name": "stderr",
     "output_type": "stream",
     "text": [
      "\n",
      "  0%|          | 0/80 [00:00<?, ?it/s]\u001b[A\n",
      " 24%|██▍       | 19/80 [00:00<00:00, 179.55it/s]\u001b[A\n",
      " 46%|████▋     | 37/80 [00:00<00:00, 172.70it/s]\u001b[A\n",
      " 69%|██████▉   | 55/80 [00:00<00:00, 170.28it/s]\u001b[A\n",
      "100%|██████████| 80/80 [00:00<00:00, 168.88it/s]\u001b[A\n",
      " 11%|█         | 125/1123 [01:57<15:43,  1.06it/s]"
     ]
    },
    {
     "name": "stdout",
     "output_type": "stream",
     "text": [
      "/home/jiang/projects/SubtleGAN/data/brats2021/train/BraTS2021_01218\n"
     ]
    },
    {
     "name": "stderr",
     "output_type": "stream",
     "text": [
      "\n",
      "  0%|          | 0/80 [00:00<?, ?it/s]\u001b[A\n",
      " 22%|██▎       | 18/80 [00:00<00:00, 177.37it/s]\u001b[A\n",
      " 49%|████▉     | 39/80 [00:00<00:00, 189.92it/s]\u001b[A\n",
      " 72%|███████▎  | 58/80 [00:00<00:00, 178.10it/s]\u001b[A\n",
      "100%|██████████| 80/80 [00:00<00:00, 176.28it/s]\u001b[A\n",
      " 11%|█         | 126/1123 [01:58<15:29,  1.07it/s]"
     ]
    },
    {
     "name": "stdout",
     "output_type": "stream",
     "text": [
      "/home/jiang/projects/SubtleGAN/data/brats2021/train/BraTS2021_01658\n"
     ]
    },
    {
     "name": "stderr",
     "output_type": "stream",
     "text": [
      "\n",
      "  0%|          | 0/80 [00:00<?, ?it/s]\u001b[A\n",
      " 11%|█▏        | 9/80 [00:00<00:00, 86.58it/s]\u001b[A\n",
      " 25%|██▌       | 20/80 [00:00<00:00, 97.34it/s]\u001b[A\n",
      " 46%|████▋     | 37/80 [00:00<00:00, 127.77it/s]\u001b[A\n",
      " 68%|██████▊   | 54/80 [00:00<00:00, 142.89it/s]\u001b[A\n",
      "100%|██████████| 80/80 [00:00<00:00, 139.93it/s]\u001b[A\n",
      " 11%|█▏        | 127/1123 [01:59<15:53,  1.04it/s]"
     ]
    },
    {
     "name": "stdout",
     "output_type": "stream",
     "text": [
      "/home/jiang/projects/SubtleGAN/data/brats2021/train/BraTS2021_01157\n"
     ]
    },
    {
     "name": "stderr",
     "output_type": "stream",
     "text": [
      "\n",
      "  0%|          | 0/80 [00:00<?, ?it/s]\u001b[A\n",
      " 24%|██▍       | 19/80 [00:00<00:00, 184.66it/s]\u001b[A\n",
      " 48%|████▊     | 38/80 [00:00<00:00, 175.86it/s]\u001b[A\n",
      " 70%|███████   | 56/80 [00:00<00:00, 175.08it/s]\u001b[A\n",
      "100%|██████████| 80/80 [00:00<00:00, 174.35it/s]\u001b[A\n",
      " 11%|█▏        | 128/1123 [02:00<15:12,  1.09it/s]"
     ]
    },
    {
     "name": "stdout",
     "output_type": "stream",
     "text": [
      "/home/jiang/projects/SubtleGAN/data/brats2021/train/BraTS2021_00499\n"
     ]
    },
    {
     "name": "stderr",
     "output_type": "stream",
     "text": [
      "\n",
      "  0%|          | 0/80 [00:00<?, ?it/s]\u001b[A\n",
      " 22%|██▎       | 18/80 [00:00<00:00, 179.99it/s]\u001b[A\n",
      " 45%|████▌     | 36/80 [00:00<00:00, 173.34it/s]\u001b[A\n",
      " 69%|██████▉   | 55/80 [00:00<00:00, 180.31it/s]\u001b[A\n",
      "100%|██████████| 80/80 [00:00<00:00, 174.35it/s]\u001b[A\n",
      " 11%|█▏        | 129/1123 [02:01<14:52,  1.11it/s]"
     ]
    },
    {
     "name": "stdout",
     "output_type": "stream",
     "text": [
      "/home/jiang/projects/SubtleGAN/data/brats2021/train/BraTS2021_00751\n"
     ]
    },
    {
     "name": "stderr",
     "output_type": "stream",
     "text": [
      "\n",
      "  0%|          | 0/80 [00:00<?, ?it/s]\u001b[A\n",
      " 24%|██▍       | 19/80 [00:00<00:00, 182.53it/s]\u001b[A\n",
      " 48%|████▊     | 38/80 [00:00<00:00, 175.76it/s]\u001b[A\n",
      " 70%|███████   | 56/80 [00:00<00:00, 174.73it/s]\u001b[A\n",
      "100%|██████████| 80/80 [00:00<00:00, 167.59it/s]\u001b[A\n",
      " 12%|█▏        | 130/1123 [02:01<14:47,  1.12it/s]"
     ]
    },
    {
     "name": "stdout",
     "output_type": "stream",
     "text": [
      "/home/jiang/projects/SubtleGAN/data/brats2021/train/BraTS2021_00414\n"
     ]
    },
    {
     "name": "stderr",
     "output_type": "stream",
     "text": [
      "\n",
      "  0%|          | 0/80 [00:00<?, ?it/s]\u001b[A\n",
      " 25%|██▌       | 20/80 [00:00<00:00, 197.81it/s]\u001b[A\n",
      " 50%|█████     | 40/80 [00:00<00:00, 181.49it/s]\u001b[A\n",
      " 74%|███████▍  | 59/80 [00:00<00:00, 175.66it/s]\u001b[A\n",
      "100%|██████████| 80/80 [00:00<00:00, 176.21it/s]\u001b[A\n",
      " 12%|█▏        | 131/1123 [02:02<14:53,  1.11it/s]"
     ]
    },
    {
     "name": "stdout",
     "output_type": "stream",
     "text": [
      "/home/jiang/projects/SubtleGAN/data/brats2021/train/BraTS2021_00552\n"
     ]
    },
    {
     "name": "stderr",
     "output_type": "stream",
     "text": [
      "\n",
      "  0%|          | 0/80 [00:00<?, ?it/s]\u001b[A\n",
      " 24%|██▍       | 19/80 [00:00<00:00, 185.62it/s]\u001b[A\n",
      " 48%|████▊     | 38/80 [00:00<00:00, 177.89it/s]\u001b[A\n",
      " 70%|███████   | 56/80 [00:00<00:00, 171.60it/s]\u001b[A\n",
      "100%|██████████| 80/80 [00:00<00:00, 177.97it/s]\u001b[A\n",
      " 12%|█▏        | 132/1123 [02:03<14:32,  1.14it/s]"
     ]
    },
    {
     "name": "stdout",
     "output_type": "stream",
     "text": [
      "/home/jiang/projects/SubtleGAN/data/brats2021/train/BraTS2021_01183\n"
     ]
    },
    {
     "name": "stderr",
     "output_type": "stream",
     "text": [
      "\n",
      "  0%|          | 0/80 [00:00<?, ?it/s]\u001b[A\n",
      " 24%|██▍       | 19/80 [00:00<00:00, 180.84it/s]\u001b[A\n",
      " 48%|████▊     | 38/80 [00:00<00:00, 171.64it/s]\u001b[A\n",
      " 70%|███████   | 56/80 [00:00<00:00, 168.72it/s]\u001b[A\n",
      "100%|██████████| 80/80 [00:00<00:00, 168.19it/s]\u001b[A\n",
      " 12%|█▏        | 133/1123 [02:04<14:41,  1.12it/s]"
     ]
    },
    {
     "name": "stdout",
     "output_type": "stream",
     "text": [
      "/home/jiang/projects/SubtleGAN/data/brats2021/train/BraTS2021_01633\n"
     ]
    },
    {
     "name": "stderr",
     "output_type": "stream",
     "text": [
      "\n",
      "  0%|          | 0/80 [00:00<?, ?it/s]\u001b[A\n",
      " 39%|███▉      | 31/80 [00:00<00:00, 309.28it/s]\u001b[A\n",
      "100%|██████████| 80/80 [00:00<00:00, 232.57it/s]\u001b[A\n",
      " 12%|█▏        | 134/1123 [02:06<17:26,  1.06s/it]"
     ]
    },
    {
     "name": "stdout",
     "output_type": "stream",
     "text": [
      "/home/jiang/projects/SubtleGAN/data/brats2021/train/BraTS2021_01452\n"
     ]
    },
    {
     "name": "stderr",
     "output_type": "stream",
     "text": [
      "\n",
      "  0%|          | 0/80 [00:00<?, ?it/s]\u001b[A\n",
      " 22%|██▎       | 18/80 [00:00<00:00, 179.18it/s]\u001b[A\n",
      " 45%|████▌     | 36/80 [00:00<00:00, 172.07it/s]\u001b[A\n",
      " 68%|██████▊   | 54/80 [00:00<00:00, 170.99it/s]\u001b[A\n",
      "100%|██████████| 80/80 [00:00<00:00, 170.12it/s]\u001b[A\n",
      " 12%|█▏        | 135/1123 [02:07<16:49,  1.02s/it]"
     ]
    },
    {
     "name": "stdout",
     "output_type": "stream",
     "text": [
      "/home/jiang/projects/SubtleGAN/data/brats2021/train/BraTS2021_01064\n"
     ]
    },
    {
     "name": "stderr",
     "output_type": "stream",
     "text": [
      "\n",
      "  0%|          | 0/80 [00:00<?, ?it/s]\u001b[A\n",
      " 20%|██        | 16/80 [00:00<00:00, 152.20it/s]\u001b[A\n",
      " 40%|████      | 32/80 [00:00<00:00, 147.34it/s]\u001b[A\n",
      " 59%|█████▉    | 47/80 [00:00<00:00, 146.94it/s]\u001b[A\n",
      " 78%|███████▊  | 62/80 [00:00<00:00, 124.41it/s]\u001b[A\n",
      "100%|██████████| 80/80 [00:00<00:00, 137.23it/s]\u001b[A\n",
      " 12%|█▏        | 136/1123 [02:08<16:57,  1.03s/it]"
     ]
    },
    {
     "name": "stdout",
     "output_type": "stream",
     "text": [
      "/home/jiang/projects/SubtleGAN/data/brats2021/train/BraTS2021_00016\n"
     ]
    },
    {
     "name": "stderr",
     "output_type": "stream",
     "text": [
      "\n",
      "  0%|          | 0/80 [00:00<?, ?it/s]\u001b[A\n",
      " 24%|██▍       | 19/80 [00:00<00:00, 184.38it/s]\u001b[A\n",
      " 48%|████▊     | 38/80 [00:00<00:00, 175.38it/s]\u001b[A\n",
      " 70%|███████   | 56/80 [00:00<00:00, 173.45it/s]\u001b[A\n",
      "100%|██████████| 80/80 [00:00<00:00, 172.22it/s]\u001b[A\n",
      " 12%|█▏        | 137/1123 [02:08<15:58,  1.03it/s]"
     ]
    },
    {
     "name": "stdout",
     "output_type": "stream",
     "text": [
      "/home/jiang/projects/SubtleGAN/data/brats2021/train/BraTS2021_01421\n"
     ]
    },
    {
     "name": "stderr",
     "output_type": "stream",
     "text": [
      "\n",
      "  0%|          | 0/80 [00:00<?, ?it/s]\u001b[A\n",
      " 25%|██▌       | 20/80 [00:00<00:00, 195.58it/s]\u001b[A\n",
      " 50%|█████     | 40/80 [00:00<00:00, 171.63it/s]\u001b[A\n",
      " 72%|███████▎  | 58/80 [00:00<00:00, 165.46it/s]\u001b[A\n",
      "100%|██████████| 80/80 [00:00<00:00, 165.83it/s]\u001b[A\n",
      " 12%|█▏        | 138/1123 [02:09<15:47,  1.04it/s]"
     ]
    },
    {
     "name": "stdout",
     "output_type": "stream",
     "text": [
      "/home/jiang/projects/SubtleGAN/data/brats2021/train/BraTS2021_00718\n"
     ]
    },
    {
     "name": "stderr",
     "output_type": "stream",
     "text": [
      "\n",
      "  0%|          | 0/80 [00:00<?, ?it/s]\u001b[A\n",
      " 22%|██▎       | 18/80 [00:00<00:00, 175.03it/s]\u001b[A\n",
      " 45%|████▌     | 36/80 [00:00<00:00, 165.87it/s]\u001b[A\n",
      " 66%|██████▋   | 53/80 [00:00<00:00, 165.65it/s]\u001b[A\n",
      "100%|██████████| 80/80 [00:00<00:00, 167.72it/s]\u001b[A\n",
      " 12%|█▏        | 139/1123 [02:10<15:24,  1.06it/s]"
     ]
    },
    {
     "name": "stdout",
     "output_type": "stream",
     "text": [
      "/home/jiang/projects/SubtleGAN/data/brats2021/train/BraTS2021_00077\n"
     ]
    },
    {
     "name": "stderr",
     "output_type": "stream",
     "text": [
      "\n",
      "  0%|          | 0/80 [00:00<?, ?it/s]\u001b[A\n",
      " 22%|██▎       | 18/80 [00:00<00:00, 174.09it/s]\u001b[A\n",
      " 45%|████▌     | 36/80 [00:00<00:00, 167.99it/s]\u001b[A\n",
      " 66%|██████▋   | 53/80 [00:00<00:00, 166.04it/s]\u001b[A\n",
      "100%|██████████| 80/80 [00:00<00:00, 168.34it/s]\u001b[A\n",
      " 12%|█▏        | 140/1123 [02:11<15:01,  1.09it/s]"
     ]
    },
    {
     "name": "stdout",
     "output_type": "stream",
     "text": [
      "/home/jiang/projects/SubtleGAN/data/brats2021/train/BraTS2021_00778\n"
     ]
    },
    {
     "name": "stderr",
     "output_type": "stream",
     "text": [
      "\n",
      "  0%|          | 0/80 [00:00<?, ?it/s]\u001b[A\n",
      " 22%|██▎       | 18/80 [00:00<00:00, 172.17it/s]\u001b[A\n",
      " 45%|████▌     | 36/80 [00:00<00:00, 173.11it/s]\u001b[A\n",
      " 68%|██████▊   | 54/80 [00:00<00:00, 165.65it/s]\u001b[A\n",
      "100%|██████████| 80/80 [00:00<00:00, 165.57it/s]\u001b[A\n",
      " 13%|█▎        | 141/1123 [02:12<14:43,  1.11it/s]"
     ]
    },
    {
     "name": "stdout",
     "output_type": "stream",
     "text": [
      "/home/jiang/projects/SubtleGAN/data/brats2021/train/BraTS2021_00691\n"
     ]
    },
    {
     "name": "stderr",
     "output_type": "stream",
     "text": [
      "\n",
      "  0%|          | 0/80 [00:00<?, ?it/s]\u001b[A\n",
      " 22%|██▎       | 18/80 [00:00<00:00, 179.95it/s]\u001b[A\n",
      " 45%|████▌     | 36/80 [00:00<00:00, 172.96it/s]\u001b[A\n",
      " 68%|██████▊   | 54/80 [00:00<00:00, 163.36it/s]\u001b[A\n",
      "100%|██████████| 80/80 [00:00<00:00, 155.20it/s]\u001b[A\n",
      " 13%|█▎        | 142/1123 [02:13<14:36,  1.12it/s]"
     ]
    },
    {
     "name": "stdout",
     "output_type": "stream",
     "text": [
      "/home/jiang/projects/SubtleGAN/data/brats2021/train/BraTS2021_01321\n"
     ]
    },
    {
     "name": "stderr",
     "output_type": "stream",
     "text": [
      "\n",
      "  0%|          | 0/80 [00:00<?, ?it/s]\u001b[A\n",
      " 24%|██▍       | 19/80 [00:00<00:00, 183.57it/s]\u001b[A\n",
      " 48%|████▊     | 38/80 [00:00<00:00, 172.16it/s]\u001b[A\n",
      " 70%|███████   | 56/80 [00:00<00:00, 167.17it/s]\u001b[A\n",
      "100%|██████████| 80/80 [00:00<00:00, 166.38it/s]\u001b[A\n",
      " 13%|█▎        | 143/1123 [02:14<14:55,  1.09it/s]"
     ]
    },
    {
     "name": "stdout",
     "output_type": "stream",
     "text": [
      "/home/jiang/projects/SubtleGAN/data/brats2021/train/BraTS2021_01572\n"
     ]
    },
    {
     "name": "stderr",
     "output_type": "stream",
     "text": [
      "\n",
      "  0%|          | 0/80 [00:00<?, ?it/s]\u001b[A\n",
      " 38%|███▊      | 30/80 [00:00<00:00, 289.32it/s]\u001b[A\n",
      "100%|██████████| 80/80 [00:00<00:00, 266.41it/s]\u001b[A\n",
      " 13%|█▎        | 144/1123 [02:15<17:26,  1.07s/it]"
     ]
    },
    {
     "name": "stdout",
     "output_type": "stream",
     "text": [
      "/home/jiang/projects/SubtleGAN/data/brats2021/train/BraTS2021_00297\n"
     ]
    },
    {
     "name": "stderr",
     "output_type": "stream",
     "text": [
      "\n",
      "  0%|          | 0/80 [00:00<?, ?it/s]\u001b[A\n",
      " 24%|██▍       | 19/80 [00:00<00:00, 184.24it/s]\u001b[A\n",
      " 48%|████▊     | 38/80 [00:00<00:00, 173.26it/s]\u001b[A\n",
      " 72%|███████▎  | 58/80 [00:00<00:00, 184.64it/s]\u001b[A\n",
      "100%|██████████| 80/80 [00:00<00:00, 175.59it/s]\u001b[A\n",
      " 13%|█▎        | 145/1123 [02:16<16:38,  1.02s/it]"
     ]
    },
    {
     "name": "stdout",
     "output_type": "stream",
     "text": [
      "/home/jiang/projects/SubtleGAN/data/brats2021/train/BraTS2021_00589\n"
     ]
    },
    {
     "name": "stderr",
     "output_type": "stream",
     "text": [
      "\n",
      "  0%|          | 0/80 [00:00<?, ?it/s]\u001b[A\n",
      " 39%|███▉      | 31/80 [00:00<00:00, 304.22it/s]\u001b[A\n",
      "100%|██████████| 80/80 [00:00<00:00, 275.70it/s]\u001b[A\n",
      " 13%|█▎        | 146/1123 [02:17<17:21,  1.07s/it]"
     ]
    },
    {
     "name": "stdout",
     "output_type": "stream",
     "text": [
      "/home/jiang/projects/SubtleGAN/data/brats2021/train/BraTS2021_01570\n"
     ]
    },
    {
     "name": "stderr",
     "output_type": "stream",
     "text": [
      "\n",
      "  0%|          | 0/80 [00:00<?, ?it/s]\u001b[A\n",
      " 32%|███▎      | 26/80 [00:00<00:00, 257.31it/s]\u001b[A\n",
      " 65%|██████▌   | 52/80 [00:00<00:00, 248.50it/s]\u001b[A\n",
      "100%|██████████| 80/80 [00:00<00:00, 224.57it/s]\u001b[A\n",
      " 13%|█▎        | 147/1123 [02:19<18:27,  1.13s/it]"
     ]
    },
    {
     "name": "stdout",
     "output_type": "stream",
     "text": [
      "/home/jiang/projects/SubtleGAN/data/brats2021/train/BraTS2021_00533\n"
     ]
    },
    {
     "name": "stderr",
     "output_type": "stream",
     "text": [
      "\n",
      "  0%|          | 0/80 [00:00<?, ?it/s]\u001b[A\n",
      " 24%|██▍       | 19/80 [00:00<00:00, 186.75it/s]\u001b[A\n",
      " 48%|████▊     | 38/80 [00:00<00:00, 179.05it/s]\u001b[A\n",
      " 70%|███████   | 56/80 [00:00<00:00, 177.07it/s]\u001b[A\n",
      "100%|██████████| 80/80 [00:00<00:00, 175.66it/s]\u001b[A\n",
      " 13%|█▎        | 148/1123 [02:19<16:58,  1.04s/it]"
     ]
    },
    {
     "name": "stdout",
     "output_type": "stream",
     "text": [
      "/home/jiang/projects/SubtleGAN/data/brats2021/train/BraTS2021_00296\n"
     ]
    },
    {
     "name": "stderr",
     "output_type": "stream",
     "text": [
      "\n",
      "  0%|          | 0/80 [00:00<?, ?it/s]\u001b[A\n",
      " 24%|██▍       | 19/80 [00:00<00:00, 179.73it/s]\u001b[A\n",
      " 50%|█████     | 40/80 [00:00<00:00, 190.72it/s]\u001b[A\n",
      " 75%|███████▌  | 60/80 [00:00<00:00, 177.71it/s]\u001b[A\n",
      "100%|██████████| 80/80 [00:00<00:00, 175.11it/s]\u001b[A\n",
      " 13%|█▎        | 149/1123 [02:20<16:18,  1.00s/it]"
     ]
    },
    {
     "name": "stdout",
     "output_type": "stream",
     "text": [
      "/home/jiang/projects/SubtleGAN/data/brats2021/train/BraTS2021_00152\n"
     ]
    },
    {
     "name": "stderr",
     "output_type": "stream",
     "text": [
      "\n",
      "  0%|          | 0/80 [00:00<?, ?it/s]\u001b[A\n",
      " 24%|██▍       | 19/80 [00:00<00:00, 189.20it/s]\u001b[A\n",
      " 48%|████▊     | 38/80 [00:00<00:00, 174.58it/s]\u001b[A\n",
      " 70%|███████   | 56/80 [00:00<00:00, 175.44it/s]\u001b[A\n",
      "100%|██████████| 80/80 [00:00<00:00, 172.24it/s]\u001b[A\n",
      " 13%|█▎        | 150/1123 [02:21<15:50,  1.02it/s]"
     ]
    },
    {
     "name": "stdout",
     "output_type": "stream",
     "text": [
      "/home/jiang/projects/SubtleGAN/data/brats2021/train/BraTS2021_01382\n"
     ]
    },
    {
     "name": "stderr",
     "output_type": "stream",
     "text": [
      "\n",
      "  0%|          | 0/80 [00:00<?, ?it/s]\u001b[A\n",
      " 25%|██▌       | 20/80 [00:00<00:00, 199.72it/s]\u001b[A\n",
      " 50%|█████     | 40/80 [00:00<00:00, 180.66it/s]\u001b[A\n",
      " 74%|███████▍  | 59/80 [00:00<00:00, 174.63it/s]\u001b[A\n",
      "100%|██████████| 80/80 [00:00<00:00, 172.99it/s]\u001b[A\n",
      " 13%|█▎        | 151/1123 [02:22<15:30,  1.04it/s]"
     ]
    },
    {
     "name": "stdout",
     "output_type": "stream",
     "text": [
      "/home/jiang/projects/SubtleGAN/data/brats2021/train/BraTS2021_01118\n"
     ]
    },
    {
     "name": "stderr",
     "output_type": "stream",
     "text": [
      "\n",
      "  0%|          | 0/80 [00:00<?, ?it/s]\u001b[A\n",
      " 22%|██▎       | 18/80 [00:00<00:00, 174.92it/s]\u001b[A\n",
      " 45%|████▌     | 36/80 [00:00<00:00, 165.72it/s]\u001b[A\n",
      " 70%|███████   | 56/80 [00:00<00:00, 176.43it/s]\u001b[A\n",
      "100%|██████████| 80/80 [00:00<00:00, 168.60it/s]\u001b[A\n",
      " 14%|█▎        | 152/1123 [02:23<15:22,  1.05it/s]"
     ]
    },
    {
     "name": "stdout",
     "output_type": "stream",
     "text": [
      "/home/jiang/projects/SubtleGAN/data/brats2021/train/BraTS2021_01318\n"
     ]
    },
    {
     "name": "stderr",
     "output_type": "stream",
     "text": [
      "\n",
      "  0%|          | 0/80 [00:00<?, ?it/s]\u001b[A\n",
      " 24%|██▍       | 19/80 [00:00<00:00, 172.71it/s]\u001b[A\n",
      " 46%|████▋     | 37/80 [00:00<00:00, 156.68it/s]\u001b[A\n",
      " 66%|██████▋   | 53/80 [00:00<00:00, 152.96it/s]\u001b[A\n",
      "100%|██████████| 80/80 [00:00<00:00, 155.99it/s]\u001b[A\n",
      " 14%|█▎        | 153/1123 [02:24<15:23,  1.05it/s]"
     ]
    },
    {
     "name": "stdout",
     "output_type": "stream",
     "text": [
      "/home/jiang/projects/SubtleGAN/data/brats2021/train/BraTS2021_00684\n"
     ]
    },
    {
     "name": "stderr",
     "output_type": "stream",
     "text": [
      "\n",
      "  0%|          | 0/80 [00:00<?, ?it/s]\u001b[A\n",
      " 25%|██▌       | 20/80 [00:00<00:00, 194.97it/s]\u001b[A\n",
      " 50%|█████     | 40/80 [00:00<00:00, 181.51it/s]\u001b[A\n",
      " 74%|███████▍  | 59/80 [00:00<00:00, 175.72it/s]\u001b[A\n",
      "100%|██████████| 80/80 [00:00<00:00, 174.26it/s]\u001b[A\n",
      " 14%|█▎        | 154/1123 [02:25<14:44,  1.10it/s]"
     ]
    },
    {
     "name": "stdout",
     "output_type": "stream",
     "text": [
      "/home/jiang/projects/SubtleGAN/data/brats2021/train/BraTS2021_00733\n"
     ]
    },
    {
     "name": "stderr",
     "output_type": "stream",
     "text": [
      "\n",
      "  0%|          | 0/80 [00:00<?, ?it/s]\u001b[A\n",
      " 24%|██▍       | 19/80 [00:00<00:00, 182.25it/s]\u001b[A\n",
      " 48%|████▊     | 38/80 [00:00<00:00, 176.14it/s]\u001b[A\n",
      " 70%|███████   | 56/80 [00:00<00:00, 172.43it/s]\u001b[A\n",
      "100%|██████████| 80/80 [00:00<00:00, 174.14it/s]\u001b[A\n",
      " 14%|█▍        | 155/1123 [02:26<14:26,  1.12it/s]"
     ]
    },
    {
     "name": "stdout",
     "output_type": "stream",
     "text": [
      "/home/jiang/projects/SubtleGAN/data/brats2021/train/BraTS2021_01384\n"
     ]
    },
    {
     "name": "stderr",
     "output_type": "stream",
     "text": [
      "\n",
      "  0%|          | 0/80 [00:00<?, ?it/s]\u001b[A\n",
      " 24%|██▍       | 19/80 [00:00<00:00, 181.11it/s]\u001b[A\n",
      " 48%|████▊     | 38/80 [00:00<00:00, 172.89it/s]\u001b[A\n",
      " 70%|███████   | 56/80 [00:00<00:00, 170.95it/s]\u001b[A\n",
      "100%|██████████| 80/80 [00:00<00:00, 170.34it/s]\u001b[A\n",
      " 14%|█▍        | 156/1123 [02:27<14:37,  1.10it/s]"
     ]
    },
    {
     "name": "stdout",
     "output_type": "stream",
     "text": [
      "/home/jiang/projects/SubtleGAN/data/brats2021/train/BraTS2021_00165\n"
     ]
    },
    {
     "name": "stderr",
     "output_type": "stream",
     "text": [
      "\n",
      "  0%|          | 0/80 [00:00<?, ?it/s]\u001b[A\n",
      " 24%|██▍       | 19/80 [00:00<00:00, 185.86it/s]\u001b[A\n",
      " 48%|████▊     | 38/80 [00:00<00:00, 174.20it/s]\u001b[A\n",
      " 70%|███████   | 56/80 [00:00<00:00, 170.79it/s]\u001b[A\n",
      "100%|██████████| 80/80 [00:00<00:00, 169.72it/s]\u001b[A\n",
      " 14%|█▍        | 157/1123 [02:28<14:44,  1.09it/s]"
     ]
    },
    {
     "name": "stdout",
     "output_type": "stream",
     "text": [
      "/home/jiang/projects/SubtleGAN/data/brats2021/train/BraTS2021_00043\n"
     ]
    },
    {
     "name": "stderr",
     "output_type": "stream",
     "text": [
      "\n",
      "  0%|          | 0/80 [00:00<?, ?it/s]\u001b[A\n",
      " 24%|██▍       | 19/80 [00:00<00:00, 184.02it/s]\u001b[A\n",
      " 48%|████▊     | 38/80 [00:00<00:00, 175.19it/s]\u001b[A\n",
      " 70%|███████   | 56/80 [00:00<00:00, 164.16it/s]\u001b[A\n",
      "100%|██████████| 80/80 [00:00<00:00, 173.62it/s]\u001b[A\n",
      " 14%|█▍        | 158/1123 [02:28<14:23,  1.12it/s]"
     ]
    },
    {
     "name": "stdout",
     "output_type": "stream",
     "text": [
      "/home/jiang/projects/SubtleGAN/data/brats2021/train/BraTS2021_01034\n"
     ]
    },
    {
     "name": "stderr",
     "output_type": "stream",
     "text": [
      "\n",
      "  0%|          | 0/80 [00:00<?, ?it/s]\u001b[A\n",
      " 24%|██▍       | 19/80 [00:00<00:00, 181.06it/s]\u001b[A\n",
      " 48%|████▊     | 38/80 [00:00<00:00, 150.75it/s]\u001b[A\n",
      " 68%|██████▊   | 54/80 [00:00<00:00, 148.74it/s]\u001b[A\n",
      "100%|██████████| 80/80 [00:00<00:00, 152.87it/s]\u001b[A\n",
      " 14%|█▍        | 159/1123 [02:29<14:45,  1.09it/s]"
     ]
    },
    {
     "name": "stdout",
     "output_type": "stream",
     "text": [
      "/home/jiang/projects/SubtleGAN/data/brats2021/train/BraTS2021_01063\n"
     ]
    },
    {
     "name": "stderr",
     "output_type": "stream",
     "text": [
      "\n",
      "  0%|          | 0/80 [00:00<?, ?it/s]\u001b[A\n",
      " 26%|██▋       | 21/80 [00:00<00:00, 199.35it/s]\u001b[A\n",
      " 51%|█████▏    | 41/80 [00:00<00:00, 182.82it/s]\u001b[A\n",
      " 75%|███████▌  | 60/80 [00:00<00:00, 176.79it/s]\u001b[A\n",
      "100%|██████████| 80/80 [00:00<00:00, 176.85it/s]\u001b[A\n",
      " 14%|█▍        | 160/1123 [02:30<14:40,  1.09it/s]"
     ]
    },
    {
     "name": "stdout",
     "output_type": "stream",
     "text": [
      "/home/jiang/projects/SubtleGAN/data/brats2021/train/BraTS2021_01255\n"
     ]
    },
    {
     "name": "stderr",
     "output_type": "stream",
     "text": [
      "\n",
      "  0%|          | 0/80 [00:00<?, ?it/s]\u001b[A\n",
      " 24%|██▍       | 19/80 [00:00<00:00, 185.02it/s]\u001b[A\n",
      " 48%|████▊     | 38/80 [00:00<00:00, 175.08it/s]\u001b[A\n",
      " 70%|███████   | 56/80 [00:00<00:00, 170.72it/s]\u001b[A\n",
      "100%|██████████| 80/80 [00:00<00:00, 177.37it/s]\u001b[A\n",
      " 14%|█▍        | 161/1123 [02:31<14:39,  1.09it/s]"
     ]
    },
    {
     "name": "stdout",
     "output_type": "stream",
     "text": [
      "/home/jiang/projects/SubtleGAN/data/brats2021/train/BraTS2021_01314\n"
     ]
    },
    {
     "name": "stderr",
     "output_type": "stream",
     "text": [
      "\n",
      "  0%|          | 0/80 [00:00<?, ?it/s]\u001b[A\n",
      " 24%|██▍       | 19/80 [00:00<00:00, 180.29it/s]\u001b[A\n",
      " 48%|████▊     | 38/80 [00:00<00:00, 170.07it/s]\u001b[A\n",
      " 70%|███████   | 56/80 [00:00<00:00, 167.64it/s]\u001b[A\n",
      "100%|██████████| 80/80 [00:00<00:00, 166.58it/s]\u001b[A\n",
      " 14%|█▍        | 162/1123 [02:32<14:41,  1.09it/s]"
     ]
    },
    {
     "name": "stdout",
     "output_type": "stream",
     "text": [
      "/home/jiang/projects/SubtleGAN/data/brats2021/train/BraTS2021_01217\n"
     ]
    },
    {
     "name": "stderr",
     "output_type": "stream",
     "text": [
      "\n",
      "  0%|          | 0/80 [00:00<?, ?it/s]\u001b[A\n",
      " 25%|██▌       | 20/80 [00:00<00:00, 197.35it/s]\u001b[A\n",
      " 50%|█████     | 40/80 [00:00<00:00, 180.36it/s]\u001b[A\n",
      " 74%|███████▍  | 59/80 [00:00<00:00, 175.74it/s]\u001b[A\n",
      "100%|██████████| 80/80 [00:00<00:00, 174.94it/s]\u001b[A\n",
      " 15%|█▍        | 163/1123 [02:33<14:38,  1.09it/s]"
     ]
    },
    {
     "name": "stdout",
     "output_type": "stream",
     "text": [
      "/home/jiang/projects/SubtleGAN/data/brats2021/train/BraTS2021_00254\n"
     ]
    },
    {
     "name": "stderr",
     "output_type": "stream",
     "text": [
      "\n",
      "  0%|          | 0/80 [00:00<?, ?it/s]\u001b[A\n",
      " 24%|██▍       | 19/80 [00:00<00:00, 185.04it/s]\u001b[A\n",
      " 48%|████▊     | 38/80 [00:00<00:00, 178.29it/s]\u001b[A\n",
      " 70%|███████   | 56/80 [00:00<00:00, 173.23it/s]\u001b[A\n",
      "100%|██████████| 80/80 [00:00<00:00, 171.22it/s]\u001b[A\n",
      " 15%|█▍        | 164/1123 [02:34<14:40,  1.09it/s]"
     ]
    },
    {
     "name": "stdout",
     "output_type": "stream",
     "text": [
      "/home/jiang/projects/SubtleGAN/data/brats2021/train/BraTS2021_00809\n"
     ]
    },
    {
     "name": "stderr",
     "output_type": "stream",
     "text": [
      "\n",
      "  0%|          | 0/80 [00:00<?, ?it/s]\u001b[A\n",
      " 39%|███▉      | 31/80 [00:00<00:00, 302.23it/s]\u001b[A\n",
      "100%|██████████| 80/80 [00:00<00:00, 276.44it/s]\u001b[A\n",
      " 15%|█▍        | 165/1123 [02:35<16:13,  1.02s/it]"
     ]
    },
    {
     "name": "stdout",
     "output_type": "stream",
     "text": [
      "/home/jiang/projects/SubtleGAN/data/brats2021/train/BraTS2021_01089\n"
     ]
    },
    {
     "name": "stderr",
     "output_type": "stream",
     "text": [
      "\n",
      "  0%|          | 0/80 [00:00<?, ?it/s]\u001b[A\n",
      " 24%|██▍       | 19/80 [00:00<00:00, 185.22it/s]\u001b[A\n",
      " 48%|████▊     | 38/80 [00:00<00:00, 177.99it/s]\u001b[A\n",
      " 70%|███████   | 56/80 [00:00<00:00, 171.81it/s]\u001b[A\n",
      "100%|██████████| 80/80 [00:00<00:00, 171.36it/s]\u001b[A\n",
      " 15%|█▍        | 166/1123 [02:36<15:43,  1.01it/s]"
     ]
    },
    {
     "name": "stdout",
     "output_type": "stream",
     "text": [
      "/home/jiang/projects/SubtleGAN/data/brats2021/train/BraTS2021_00284\n"
     ]
    },
    {
     "name": "stderr",
     "output_type": "stream",
     "text": [
      "\n",
      "  0%|          | 0/80 [00:00<?, ?it/s]\u001b[A\n",
      " 22%|██▎       | 18/80 [00:00<00:00, 177.35it/s]\u001b[A\n",
      " 48%|████▊     | 38/80 [00:00<00:00, 188.09it/s]\u001b[A\n",
      " 71%|███████▏  | 57/80 [00:00<00:00, 174.95it/s]\u001b[A\n",
      "100%|██████████| 80/80 [00:00<00:00, 172.43it/s]\u001b[A\n",
      " 15%|█▍        | 167/1123 [02:37<15:23,  1.03it/s]"
     ]
    },
    {
     "name": "stdout",
     "output_type": "stream",
     "text": [
      "/home/jiang/projects/SubtleGAN/data/brats2021/train/BraTS2021_01081\n"
     ]
    },
    {
     "name": "stderr",
     "output_type": "stream",
     "text": [
      "\n",
      "  0%|          | 0/80 [00:00<?, ?it/s]\u001b[A\n",
      " 24%|██▍       | 19/80 [00:00<00:00, 180.20it/s]\u001b[A\n",
      " 48%|████▊     | 38/80 [00:00<00:00, 174.96it/s]\u001b[A\n",
      " 70%|███████   | 56/80 [00:00<00:00, 171.77it/s]\u001b[A\n",
      "100%|██████████| 80/80 [00:00<00:00, 170.37it/s]\u001b[A\n",
      " 15%|█▍        | 168/1123 [02:38<15:16,  1.04it/s]"
     ]
    },
    {
     "name": "stdout",
     "output_type": "stream",
     "text": [
      "/home/jiang/projects/SubtleGAN/data/brats2021/train/BraTS2021_00565\n"
     ]
    },
    {
     "name": "stderr",
     "output_type": "stream",
     "text": [
      "\n",
      "  0%|          | 0/80 [00:00<?, ?it/s]\u001b[A\n",
      " 22%|██▎       | 18/80 [00:00<00:00, 178.83it/s]\u001b[A\n",
      " 45%|████▌     | 36/80 [00:00<00:00, 168.84it/s]\u001b[A\n",
      " 66%|██████▋   | 53/80 [00:00<00:00, 167.74it/s]\u001b[A\n",
      "100%|██████████| 80/80 [00:00<00:00, 167.30it/s]\u001b[A\n",
      " 15%|█▌        | 169/1123 [02:39<15:07,  1.05it/s]"
     ]
    },
    {
     "name": "stdout",
     "output_type": "stream",
     "text": [
      "/home/jiang/projects/SubtleGAN/data/brats2021/train/BraTS2021_00022\n"
     ]
    },
    {
     "name": "stderr",
     "output_type": "stream",
     "text": [
      "\n",
      "  0%|          | 0/80 [00:00<?, ?it/s]\u001b[A\n",
      " 21%|██▏       | 17/80 [00:00<00:00, 164.82it/s]\u001b[A\n",
      " 44%|████▍     | 35/80 [00:00<00:00, 172.04it/s]\u001b[A\n",
      "100%|██████████| 80/80 [00:00<00:00, 222.67it/s]\u001b[A\n",
      " 15%|█▌        | 170/1123 [02:40<14:05,  1.13it/s]"
     ]
    },
    {
     "name": "stdout",
     "output_type": "stream",
     "text": [
      "/home/jiang/projects/SubtleGAN/data/brats2021/train/BraTS2021_01270\n"
     ]
    },
    {
     "name": "stderr",
     "output_type": "stream",
     "text": [
      "\n",
      "  0%|          | 0/80 [00:00<?, ?it/s]\u001b[A\n",
      " 36%|███▋      | 29/80 [00:00<00:00, 283.77it/s]\u001b[A\n",
      "100%|██████████| 80/80 [00:00<00:00, 276.44it/s]\u001b[A\n",
      " 15%|█▌        | 171/1123 [02:40<13:18,  1.19it/s]"
     ]
    },
    {
     "name": "stdout",
     "output_type": "stream",
     "text": [
      "/home/jiang/projects/SubtleGAN/data/brats2021/train/BraTS2021_01144\n"
     ]
    },
    {
     "name": "stderr",
     "output_type": "stream",
     "text": [
      "\n",
      "  0%|          | 0/80 [00:00<?, ?it/s]\u001b[A\n",
      " 39%|███▉      | 31/80 [00:00<00:00, 303.80it/s]\u001b[A\n",
      "100%|██████████| 80/80 [00:00<00:00, 299.56it/s]\u001b[A\n",
      " 15%|█▌        | 172/1123 [02:41<12:39,  1.25it/s]"
     ]
    },
    {
     "name": "stdout",
     "output_type": "stream",
     "text": [
      "/home/jiang/projects/SubtleGAN/data/brats2021/train/BraTS2021_01559\n"
     ]
    },
    {
     "name": "stderr",
     "output_type": "stream",
     "text": [
      "\n",
      "  0%|          | 0/80 [00:00<?, ?it/s]\u001b[A\n",
      " 39%|███▉      | 31/80 [00:00<00:00, 307.82it/s]\u001b[A\n",
      "100%|██████████| 80/80 [00:00<00:00, 299.35it/s]\u001b[A\n",
      " 15%|█▌        | 173/1123 [02:42<13:43,  1.15it/s]"
     ]
    },
    {
     "name": "stdout",
     "output_type": "stream",
     "text": [
      "/home/jiang/projects/SubtleGAN/data/brats2021/train/BraTS2021_01537\n"
     ]
    },
    {
     "name": "stderr",
     "output_type": "stream",
     "text": [
      "\n",
      "  0%|          | 0/80 [00:00<?, ?it/s]\u001b[A\n",
      " 22%|██▎       | 18/80 [00:00<00:00, 176.47it/s]\u001b[A\n",
      " 45%|████▌     | 36/80 [00:00<00:00, 168.45it/s]\u001b[A\n",
      " 66%|██████▋   | 53/80 [00:00<00:00, 165.56it/s]\u001b[A\n",
      "100%|██████████| 80/80 [00:00<00:00, 161.82it/s]\u001b[A\n",
      " 15%|█▌        | 174/1123 [02:43<14:02,  1.13it/s]"
     ]
    },
    {
     "name": "stdout",
     "output_type": "stream",
     "text": [
      "/home/jiang/projects/SubtleGAN/data/brats2021/train/BraTS2021_00729\n"
     ]
    },
    {
     "name": "stderr",
     "output_type": "stream",
     "text": [
      "\n",
      "  0%|          | 0/80 [00:00<?, ?it/s]\u001b[A\n",
      " 22%|██▎       | 18/80 [00:00<00:00, 179.78it/s]\u001b[A\n",
      " 48%|████▊     | 38/80 [00:00<00:00, 188.15it/s]\u001b[A\n",
      " 71%|███████▏  | 57/80 [00:00<00:00, 125.71it/s]\u001b[A\n",
      "100%|██████████| 80/80 [00:00<00:00, 144.08it/s]\u001b[A\n",
      " 16%|█▌        | 175/1123 [02:44<14:19,  1.10it/s]"
     ]
    },
    {
     "name": "stdout",
     "output_type": "stream",
     "text": [
      "/home/jiang/projects/SubtleGAN/data/brats2021/train/BraTS2021_00601\n"
     ]
    },
    {
     "name": "stderr",
     "output_type": "stream",
     "text": [
      "\n",
      "  0%|          | 0/80 [00:00<?, ?it/s]\u001b[A\n",
      " 24%|██▍       | 19/80 [00:00<00:00, 182.48it/s]\u001b[A\n",
      " 48%|████▊     | 38/80 [00:00<00:00, 176.84it/s]\u001b[A\n",
      " 70%|███████   | 56/80 [00:00<00:00, 172.42it/s]\u001b[A\n",
      "100%|██████████| 80/80 [00:00<00:00, 170.90it/s]\u001b[A\n",
      " 16%|█▌        | 176/1123 [02:45<14:03,  1.12it/s]"
     ]
    },
    {
     "name": "stdout",
     "output_type": "stream",
     "text": [
      "/home/jiang/projects/SubtleGAN/data/brats2021/train/BraTS2021_00061\n"
     ]
    },
    {
     "name": "stderr",
     "output_type": "stream",
     "text": [
      "\n",
      "  0%|          | 0/80 [00:00<?, ?it/s]\u001b[A\n",
      " 24%|██▍       | 19/80 [00:00<00:00, 183.54it/s]\u001b[A\n",
      " 48%|████▊     | 38/80 [00:00<00:00, 172.81it/s]\u001b[A\n",
      " 70%|███████   | 56/80 [00:00<00:00, 170.44it/s]\u001b[A\n",
      "100%|██████████| 80/80 [00:00<00:00, 164.60it/s]\u001b[A\n",
      " 16%|█▌        | 177/1123 [02:46<13:55,  1.13it/s]"
     ]
    },
    {
     "name": "stdout",
     "output_type": "stream",
     "text": [
      "/home/jiang/projects/SubtleGAN/data/brats2021/train/BraTS2021_00030\n"
     ]
    },
    {
     "name": "stderr",
     "output_type": "stream",
     "text": [
      "\n",
      "  0%|          | 0/80 [00:00<?, ?it/s]\u001b[A\n",
      " 24%|██▍       | 19/80 [00:00<00:00, 187.27it/s]\u001b[A\n",
      " 48%|████▊     | 38/80 [00:00<00:00, 170.11it/s]\u001b[A\n",
      " 71%|███████▏  | 57/80 [00:00<00:00, 177.64it/s]\u001b[A\n",
      "100%|██████████| 80/80 [00:00<00:00, 172.87it/s]\u001b[A\n",
      " 16%|█▌        | 178/1123 [02:47<13:47,  1.14it/s]"
     ]
    },
    {
     "name": "stdout",
     "output_type": "stream",
     "text": [
      "/home/jiang/projects/SubtleGAN/data/brats2021/train/BraTS2021_00597\n"
     ]
    },
    {
     "name": "stderr",
     "output_type": "stream",
     "text": [
      "\n",
      "  0%|          | 0/80 [00:00<?, ?it/s]\u001b[A\n",
      " 39%|███▉      | 31/80 [00:00<00:00, 309.89it/s]\u001b[A\n",
      "100%|██████████| 80/80 [00:00<00:00, 278.83it/s]\u001b[A\n",
      " 16%|█▌        | 179/1123 [02:48<15:21,  1.02it/s]"
     ]
    },
    {
     "name": "stdout",
     "output_type": "stream",
     "text": [
      "/home/jiang/projects/SubtleGAN/data/brats2021/train/BraTS2021_00033\n"
     ]
    },
    {
     "name": "stderr",
     "output_type": "stream",
     "text": [
      "\n",
      "  0%|          | 0/80 [00:00<?, ?it/s]\u001b[A\n",
      " 22%|██▎       | 18/80 [00:00<00:00, 179.08it/s]\u001b[A\n",
      " 45%|████▌     | 36/80 [00:00<00:00, 169.83it/s]\u001b[A\n",
      " 68%|██████▊   | 54/80 [00:00<00:00, 166.06it/s]\u001b[A\n",
      "100%|██████████| 80/80 [00:00<00:00, 164.90it/s]\u001b[A\n",
      " 16%|█▌        | 180/1123 [02:49<14:45,  1.07it/s]"
     ]
    },
    {
     "name": "stdout",
     "output_type": "stream",
     "text": [
      "/home/jiang/projects/SubtleGAN/data/brats2021/train/BraTS2021_01173\n"
     ]
    },
    {
     "name": "stderr",
     "output_type": "stream",
     "text": [
      "\n",
      "  0%|          | 0/80 [00:00<?, ?it/s]\u001b[A\n",
      " 22%|██▎       | 18/80 [00:00<00:00, 177.28it/s]\u001b[A\n",
      " 48%|████▊     | 38/80 [00:00<00:00, 189.45it/s]\u001b[A\n",
      " 71%|███████▏  | 57/80 [00:00<00:00, 175.49it/s]\u001b[A\n",
      "100%|██████████| 80/80 [00:00<00:00, 172.29it/s]\u001b[A\n",
      " 16%|█▌        | 181/1123 [02:50<14:37,  1.07it/s]"
     ]
    },
    {
     "name": "stdout",
     "output_type": "stream",
     "text": [
      "/home/jiang/projects/SubtleGAN/data/brats2021/train/BraTS2021_01185\n"
     ]
    },
    {
     "name": "stderr",
     "output_type": "stream",
     "text": [
      "\n",
      "  0%|          | 0/80 [00:00<?, ?it/s]\u001b[A\n",
      " 24%|██▍       | 19/80 [00:00<00:00, 180.39it/s]\u001b[A\n",
      " 48%|████▊     | 38/80 [00:00<00:00, 170.35it/s]\u001b[A\n",
      " 70%|███████   | 56/80 [00:00<00:00, 168.58it/s]\u001b[A\n",
      "100%|██████████| 80/80 [00:00<00:00, 167.25it/s]\u001b[A\n",
      " 16%|█▌        | 182/1123 [02:51<14:35,  1.07it/s]"
     ]
    },
    {
     "name": "stdout",
     "output_type": "stream",
     "text": [
      "/home/jiang/projects/SubtleGAN/data/brats2021/train/BraTS2021_01505\n"
     ]
    },
    {
     "name": "stderr",
     "output_type": "stream",
     "text": [
      "\n",
      "  0%|          | 0/80 [00:00<?, ?it/s]\u001b[A\n",
      " 22%|██▎       | 18/80 [00:00<00:00, 178.16it/s]\u001b[A\n",
      " 45%|████▌     | 36/80 [00:00<00:00, 171.78it/s]\u001b[A\n",
      " 68%|██████▊   | 54/80 [00:00<00:00, 168.27it/s]\u001b[A\n",
      "100%|██████████| 80/80 [00:00<00:00, 161.17it/s]\u001b[A\n",
      " 16%|█▋        | 183/1123 [02:51<14:37,  1.07it/s]"
     ]
    },
    {
     "name": "stdout",
     "output_type": "stream",
     "text": [
      "/home/jiang/projects/SubtleGAN/data/brats2021/train/BraTS2021_00448\n"
     ]
    },
    {
     "name": "stderr",
     "output_type": "stream",
     "text": [
      "\n",
      "  0%|          | 0/80 [00:00<?, ?it/s]\u001b[A\n",
      " 25%|██▌       | 20/80 [00:00<00:00, 198.31it/s]\u001b[A\n",
      " 50%|█████     | 40/80 [00:00<00:00, 176.06it/s]\u001b[A\n",
      " 72%|███████▎  | 58/80 [00:00<00:00, 169.32it/s]\u001b[A\n",
      "100%|██████████| 80/80 [00:00<00:00, 168.69it/s]\u001b[A\n",
      " 16%|█▋        | 184/1123 [02:52<14:36,  1.07it/s]"
     ]
    },
    {
     "name": "stdout",
     "output_type": "stream",
     "text": [
      "/home/jiang/projects/SubtleGAN/data/brats2021/train/BraTS2021_00502\n"
     ]
    },
    {
     "name": "stderr",
     "output_type": "stream",
     "text": [
      "\n",
      "  0%|          | 0/80 [00:00<?, ?it/s]\u001b[A\n",
      " 22%|██▎       | 18/80 [00:00<00:00, 172.68it/s]\u001b[A\n",
      " 45%|████▌     | 36/80 [00:00<00:00, 168.28it/s]\u001b[A\n",
      " 66%|██████▋   | 53/80 [00:00<00:00, 166.27it/s]\u001b[A\n",
      "100%|██████████| 80/80 [00:00<00:00, 166.85it/s]\u001b[A\n",
      " 16%|█▋        | 185/1123 [02:53<14:20,  1.09it/s]"
     ]
    },
    {
     "name": "stdout",
     "output_type": "stream",
     "text": [
      "/home/jiang/projects/SubtleGAN/data/brats2021/train/BraTS2021_01040\n"
     ]
    },
    {
     "name": "stderr",
     "output_type": "stream",
     "text": [
      "\n",
      "  0%|          | 0/80 [00:00<?, ?it/s]\u001b[A\n",
      " 22%|██▎       | 18/80 [00:00<00:00, 176.86it/s]\u001b[A\n",
      " 45%|████▌     | 36/80 [00:00<00:00, 167.19it/s]\u001b[A\n",
      " 66%|██████▋   | 53/80 [00:00<00:00, 165.57it/s]\u001b[A\n",
      "100%|██████████| 80/80 [00:00<00:00, 163.99it/s]\u001b[A\n",
      " 17%|█▋        | 186/1123 [02:54<14:31,  1.07it/s]"
     ]
    },
    {
     "name": "stdout",
     "output_type": "stream",
     "text": [
      "/home/jiang/projects/SubtleGAN/data/brats2021/train/BraTS2021_01601\n"
     ]
    },
    {
     "name": "stderr",
     "output_type": "stream",
     "text": [
      "\n",
      "  0%|          | 0/80 [00:00<?, ?it/s]\u001b[A\n",
      " 36%|███▋      | 29/80 [00:00<00:00, 288.54it/s]\u001b[A\n",
      "100%|██████████| 80/80 [00:00<00:00, 266.41it/s]\u001b[A\n",
      " 17%|█▋        | 187/1123 [02:55<15:50,  1.02s/it]"
     ]
    },
    {
     "name": "stdout",
     "output_type": "stream",
     "text": [
      "/home/jiang/projects/SubtleGAN/data/brats2021/train/BraTS2021_01276\n"
     ]
    },
    {
     "name": "stderr",
     "output_type": "stream",
     "text": [
      "\n",
      "  0%|          | 0/80 [00:00<?, ?it/s]\u001b[A\n",
      " 24%|██▍       | 19/80 [00:00<00:00, 187.02it/s]\u001b[A\n",
      " 48%|████▊     | 38/80 [00:00<00:00, 177.29it/s]\u001b[A\n",
      " 70%|███████   | 56/80 [00:00<00:00, 172.70it/s]\u001b[A\n",
      "100%|██████████| 80/80 [00:00<00:00, 176.87it/s]\u001b[A\n",
      " 17%|█▋        | 188/1123 [02:56<15:18,  1.02it/s]"
     ]
    },
    {
     "name": "stdout",
     "output_type": "stream",
     "text": [
      "/home/jiang/projects/SubtleGAN/data/brats2021/train/BraTS2021_01465\n"
     ]
    },
    {
     "name": "stderr",
     "output_type": "stream",
     "text": [
      "\n",
      "  0%|          | 0/80 [00:00<?, ?it/s]\u001b[A\n",
      " 21%|██▏       | 17/80 [00:00<00:00, 167.70it/s]\u001b[A\n",
      " 42%|████▎     | 34/80 [00:00<00:00, 159.32it/s]\u001b[A\n",
      " 64%|██████▍   | 51/80 [00:00<00:00, 161.50it/s]\u001b[A\n",
      "100%|██████████| 80/80 [00:00<00:00, 161.95it/s]\u001b[A\n",
      " 17%|█▋        | 189/1123 [02:57<15:06,  1.03it/s]"
     ]
    },
    {
     "name": "stdout",
     "output_type": "stream",
     "text": [
      "/home/jiang/projects/SubtleGAN/data/brats2021/train/BraTS2021_01631\n"
     ]
    },
    {
     "name": "stderr",
     "output_type": "stream",
     "text": [
      "\n",
      "  0%|          | 0/80 [00:00<?, ?it/s]\u001b[A\n",
      " 39%|███▉      | 31/80 [00:00<00:00, 304.54it/s]\u001b[A\n",
      "100%|██████████| 80/80 [00:00<00:00, 274.33it/s]\u001b[A\n",
      " 17%|█▋        | 190/1123 [02:59<16:19,  1.05s/it]"
     ]
    },
    {
     "name": "stdout",
     "output_type": "stream",
     "text": [
      "/home/jiang/projects/SubtleGAN/data/brats2021/train/BraTS2021_00300\n"
     ]
    },
    {
     "name": "stderr",
     "output_type": "stream",
     "text": [
      "\n",
      "  0%|          | 0/80 [00:00<?, ?it/s]\u001b[A\n",
      " 22%|██▎       | 18/80 [00:00<00:00, 177.69it/s]\u001b[A\n",
      " 45%|████▌     | 36/80 [00:00<00:00, 169.88it/s]\u001b[A\n",
      " 70%|███████   | 56/80 [00:00<00:00, 181.28it/s]\u001b[A\n",
      "100%|██████████| 80/80 [00:00<00:00, 172.99it/s]\u001b[A\n",
      " 17%|█▋        | 191/1123 [02:59<15:42,  1.01s/it]"
     ]
    },
    {
     "name": "stdout",
     "output_type": "stream",
     "text": [
      "/home/jiang/projects/SubtleGAN/data/brats2021/train/BraTS2021_01290\n"
     ]
    },
    {
     "name": "stderr",
     "output_type": "stream",
     "text": [
      "\n",
      "  0%|          | 0/80 [00:00<?, ?it/s]\u001b[A\n",
      " 24%|██▍       | 19/80 [00:00<00:00, 181.15it/s]\u001b[A\n",
      " 48%|████▊     | 38/80 [00:00<00:00, 172.96it/s]\u001b[A\n",
      " 70%|███████   | 56/80 [00:00<00:00, 170.48it/s]\u001b[A\n",
      "100%|██████████| 80/80 [00:00<00:00, 169.93it/s]\u001b[A\n",
      " 17%|█▋        | 192/1123 [03:00<15:17,  1.01it/s]"
     ]
    },
    {
     "name": "stdout",
     "output_type": "stream",
     "text": [
      "/home/jiang/projects/SubtleGAN/data/brats2021/train/BraTS2021_01098\n"
     ]
    },
    {
     "name": "stderr",
     "output_type": "stream",
     "text": [
      "\n",
      "  0%|          | 0/80 [00:00<?, ?it/s]\u001b[A\n",
      " 24%|██▍       | 19/80 [00:00<00:00, 185.05it/s]\u001b[A\n",
      " 48%|████▊     | 38/80 [00:00<00:00, 174.36it/s]\u001b[A\n",
      " 70%|███████   | 56/80 [00:00<00:00, 172.12it/s]\u001b[A\n",
      "100%|██████████| 80/80 [00:00<00:00, 171.31it/s]\u001b[A\n",
      " 17%|█▋        | 193/1123 [03:01<14:57,  1.04it/s]"
     ]
    },
    {
     "name": "stdout",
     "output_type": "stream",
     "text": [
      "/home/jiang/projects/SubtleGAN/data/brats2021/train/BraTS2021_01610\n"
     ]
    },
    {
     "name": "stderr",
     "output_type": "stream",
     "text": [
      "\n",
      "  0%|          | 0/80 [00:00<?, ?it/s]\u001b[A\n",
      " 38%|███▊      | 30/80 [00:00<00:00, 287.13it/s]\u001b[A\n",
      "100%|██████████| 80/80 [00:00<00:00, 262.07it/s]\u001b[A\n",
      " 17%|█▋        | 194/1123 [03:03<16:04,  1.04s/it]"
     ]
    },
    {
     "name": "stdout",
     "output_type": "stream",
     "text": [
      "/home/jiang/projects/SubtleGAN/data/brats2021/train/BraTS2021_01115\n"
     ]
    },
    {
     "name": "stderr",
     "output_type": "stream",
     "text": [
      "\n",
      "  0%|          | 0/80 [00:00<?, ?it/s]\u001b[A\n",
      " 24%|██▍       | 19/80 [00:00<00:00, 184.30it/s]\u001b[A\n",
      " 48%|████▊     | 38/80 [00:00<00:00, 177.07it/s]\u001b[A\n",
      " 70%|███████   | 56/80 [00:00<00:00, 173.71it/s]\u001b[A\n",
      "100%|██████████| 80/80 [00:00<00:00, 173.55it/s]\u001b[A\n",
      " 17%|█▋        | 195/1123 [03:03<15:29,  1.00s/it]"
     ]
    },
    {
     "name": "stdout",
     "output_type": "stream",
     "text": [
      "/home/jiang/projects/SubtleGAN/data/brats2021/train/BraTS2021_00784\n"
     ]
    },
    {
     "name": "stderr",
     "output_type": "stream",
     "text": [
      "\n",
      "  0%|          | 0/80 [00:00<?, ?it/s]\u001b[A\n",
      " 39%|███▉      | 31/80 [00:00<00:00, 306.07it/s]\u001b[A\n",
      "100%|██████████| 80/80 [00:00<00:00, 277.59it/s]\u001b[A\n",
      " 17%|█▋        | 196/1123 [03:05<16:19,  1.06s/it]"
     ]
    },
    {
     "name": "stdout",
     "output_type": "stream",
     "text": [
      "/home/jiang/projects/SubtleGAN/data/brats2021/train/BraTS2021_01485\n"
     ]
    },
    {
     "name": "stderr",
     "output_type": "stream",
     "text": [
      "\n",
      "  0%|          | 0/80 [00:00<?, ?it/s]\u001b[A\n",
      " 25%|██▌       | 20/80 [00:00<00:00, 197.33it/s]\u001b[A\n",
      " 50%|█████     | 40/80 [00:00<00:00, 179.44it/s]\u001b[A\n",
      " 74%|███████▍  | 59/80 [00:00<00:00, 172.43it/s]\u001b[A\n",
      "100%|██████████| 80/80 [00:00<00:00, 171.40it/s]\u001b[A\n",
      " 18%|█▊        | 197/1123 [03:06<15:38,  1.01s/it]"
     ]
    },
    {
     "name": "stdout",
     "output_type": "stream",
     "text": [
      "/home/jiang/projects/SubtleGAN/data/brats2021/train/BraTS2021_01482\n"
     ]
    },
    {
     "name": "stderr",
     "output_type": "stream",
     "text": [
      "\n",
      "  0%|          | 0/80 [00:00<?, ?it/s]\u001b[A\n",
      " 24%|██▍       | 19/80 [00:00<00:00, 183.57it/s]\u001b[A\n",
      " 48%|████▊     | 38/80 [00:00<00:00, 173.68it/s]\u001b[A\n",
      " 70%|███████   | 56/80 [00:00<00:00, 169.94it/s]\u001b[A\n",
      "100%|██████████| 80/80 [00:00<00:00, 174.41it/s]\u001b[A\n",
      " 18%|█▊        | 198/1123 [03:06<15:09,  1.02it/s]"
     ]
    },
    {
     "name": "stdout",
     "output_type": "stream",
     "text": [
      "/home/jiang/projects/SubtleGAN/data/brats2021/train/BraTS2021_00139\n"
     ]
    },
    {
     "name": "stderr",
     "output_type": "stream",
     "text": [
      "\n",
      "  0%|          | 0/80 [00:00<?, ?it/s]\u001b[A\n",
      " 24%|██▍       | 19/80 [00:00<00:00, 184.17it/s]\u001b[A\n",
      " 48%|████▊     | 38/80 [00:00<00:00, 175.78it/s]\u001b[A\n",
      " 70%|███████   | 56/80 [00:00<00:00, 173.49it/s]\u001b[A\n",
      "100%|██████████| 80/80 [00:00<00:00, 172.94it/s]\u001b[A\n",
      " 18%|█▊        | 199/1123 [03:07<14:43,  1.05it/s]"
     ]
    },
    {
     "name": "stdout",
     "output_type": "stream",
     "text": [
      "/home/jiang/projects/SubtleGAN/data/brats2021/train/BraTS2021_01646\n"
     ]
    },
    {
     "name": "stderr",
     "output_type": "stream",
     "text": [
      "\n",
      "  0%|          | 0/80 [00:00<?, ?it/s]\u001b[A\n",
      " 38%|███▊      | 30/80 [00:00<00:00, 297.90it/s]\u001b[A\n",
      "100%|██████████| 80/80 [00:00<00:00, 272.63it/s]\u001b[A\n",
      " 18%|█▊        | 200/1123 [03:08<15:37,  1.02s/it]"
     ]
    },
    {
     "name": "stdout",
     "output_type": "stream",
     "text": [
      "/home/jiang/projects/SubtleGAN/data/brats2021/train/BraTS2021_01476\n"
     ]
    },
    {
     "name": "stderr",
     "output_type": "stream",
     "text": [
      "\n",
      "  0%|          | 0/80 [00:00<?, ?it/s]\u001b[A\n",
      " 24%|██▍       | 19/80 [00:00<00:00, 188.83it/s]\u001b[A\n",
      " 48%|████▊     | 38/80 [00:00<00:00, 179.38it/s]\u001b[A\n",
      " 70%|███████   | 56/80 [00:00<00:00, 173.05it/s]\u001b[A\n",
      "100%|██████████| 80/80 [00:00<00:00, 179.76it/s]\u001b[A\n",
      " 18%|█▊        | 201/1123 [03:09<14:58,  1.03it/s]"
     ]
    },
    {
     "name": "stdout",
     "output_type": "stream",
     "text": [
      "/home/jiang/projects/SubtleGAN/data/brats2021/train/BraTS2021_01439\n"
     ]
    },
    {
     "name": "stderr",
     "output_type": "stream",
     "text": [
      "\n",
      "  0%|          | 0/80 [00:00<?, ?it/s]\u001b[A\n",
      " 24%|██▍       | 19/80 [00:00<00:00, 182.88it/s]\u001b[A\n",
      " 48%|████▊     | 38/80 [00:00<00:00, 176.26it/s]\u001b[A\n",
      " 70%|███████   | 56/80 [00:00<00:00, 174.08it/s]\u001b[A\n",
      "100%|██████████| 80/80 [00:00<00:00, 172.98it/s]\u001b[A\n",
      " 18%|█▊        | 202/1123 [03:10<14:36,  1.05it/s]"
     ]
    },
    {
     "name": "stdout",
     "output_type": "stream",
     "text": [
      "/home/jiang/projects/SubtleGAN/data/brats2021/train/BraTS2021_00804\n"
     ]
    },
    {
     "name": "stderr",
     "output_type": "stream",
     "text": [
      "\n",
      "  0%|          | 0/80 [00:00<?, ?it/s]\u001b[A\n",
      " 39%|███▉      | 31/80 [00:00<00:00, 303.91it/s]\u001b[A\n",
      "100%|██████████| 80/80 [00:00<00:00, 280.47it/s]\u001b[A\n",
      " 18%|█▊        | 203/1123 [03:11<15:37,  1.02s/it]"
     ]
    },
    {
     "name": "stdout",
     "output_type": "stream",
     "text": [
      "/home/jiang/projects/SubtleGAN/data/brats2021/train/BraTS2021_01548\n"
     ]
    },
    {
     "name": "stderr",
     "output_type": "stream",
     "text": [
      "\n",
      "  0%|          | 0/80 [00:00<?, ?it/s]\u001b[A\n",
      " 39%|███▉      | 31/80 [00:00<00:00, 300.92it/s]\u001b[A\n",
      "100%|██████████| 80/80 [00:00<00:00, 277.90it/s]\u001b[A\n",
      " 18%|█▊        | 204/1123 [03:13<16:25,  1.07s/it]"
     ]
    },
    {
     "name": "stdout",
     "output_type": "stream",
     "text": [
      "/home/jiang/projects/SubtleGAN/data/brats2021/train/BraTS2021_01021\n"
     ]
    },
    {
     "name": "stderr",
     "output_type": "stream",
     "text": [
      "\n",
      "  0%|          | 0/80 [00:00<?, ?it/s]\u001b[A\n",
      " 24%|██▍       | 19/80 [00:00<00:00, 186.32it/s]\u001b[A\n",
      " 48%|████▊     | 38/80 [00:00<00:00, 176.66it/s]\u001b[A\n",
      " 70%|███████   | 56/80 [00:00<00:00, 158.01it/s]\u001b[A\n",
      "100%|██████████| 80/80 [00:00<00:00, 160.98it/s]\u001b[A\n",
      " 18%|█▊        | 205/1123 [03:14<15:49,  1.03s/it]"
     ]
    },
    {
     "name": "stdout",
     "output_type": "stream",
     "text": [
      "/home/jiang/projects/SubtleGAN/data/brats2021/train/BraTS2021_01467\n"
     ]
    },
    {
     "name": "stderr",
     "output_type": "stream",
     "text": [
      "\n",
      "  0%|          | 0/80 [00:00<?, ?it/s]\u001b[A\n",
      " 24%|██▍       | 19/80 [00:00<00:00, 184.71it/s]\u001b[A\n",
      " 48%|████▊     | 38/80 [00:00<00:00, 174.66it/s]\u001b[A\n",
      " 70%|███████   | 56/80 [00:00<00:00, 174.70it/s]\u001b[A\n",
      "100%|██████████| 80/80 [00:00<00:00, 171.30it/s]\u001b[A\n",
      " 18%|█▊        | 206/1123 [03:15<15:18,  1.00s/it]"
     ]
    },
    {
     "name": "stdout",
     "output_type": "stream",
     "text": [
      "/home/jiang/projects/SubtleGAN/data/brats2021/train/BraTS2021_01508\n"
     ]
    },
    {
     "name": "stderr",
     "output_type": "stream",
     "text": [
      "\n",
      "  0%|          | 0/80 [00:00<?, ?it/s]\u001b[A\n",
      " 26%|██▋       | 21/80 [00:00<00:00, 201.63it/s]\u001b[A\n",
      " 52%|█████▎    | 42/80 [00:00<00:00, 181.93it/s]\u001b[A\n",
      " 76%|███████▋  | 61/80 [00:00<00:00, 177.06it/s]\u001b[A\n",
      "100%|██████████| 80/80 [00:00<00:00, 176.98it/s]\u001b[A\n",
      " 18%|█▊        | 207/1123 [03:15<14:50,  1.03it/s]"
     ]
    },
    {
     "name": "stdout",
     "output_type": "stream",
     "text": [
      "/home/jiang/projects/SubtleGAN/data/brats2021/train/BraTS2021_01530\n"
     ]
    },
    {
     "name": "stderr",
     "output_type": "stream",
     "text": [
      "\n",
      "  0%|          | 0/80 [00:00<?, ?it/s]\u001b[A\n",
      " 24%|██▍       | 19/80 [00:00<00:00, 184.68it/s]\u001b[A\n",
      " 48%|████▊     | 38/80 [00:00<00:00, 173.13it/s]\u001b[A\n",
      " 70%|███████   | 56/80 [00:00<00:00, 171.10it/s]\u001b[A\n",
      "100%|██████████| 80/80 [00:00<00:00, 169.63it/s]\u001b[A\n",
      " 19%|█▊        | 208/1123 [03:16<14:36,  1.04it/s]"
     ]
    },
    {
     "name": "stdout",
     "output_type": "stream",
     "text": [
      "/home/jiang/projects/SubtleGAN/data/brats2021/train/BraTS2021_00148\n"
     ]
    },
    {
     "name": "stderr",
     "output_type": "stream",
     "text": [
      "\n",
      "  0%|          | 0/80 [00:00<?, ?it/s]\u001b[A\n",
      " 24%|██▍       | 19/80 [00:00<00:00, 181.44it/s]\u001b[A\n",
      " 48%|████▊     | 38/80 [00:00<00:00, 177.74it/s]\u001b[A\n",
      " 70%|███████   | 56/80 [00:00<00:00, 172.18it/s]\u001b[A\n",
      "100%|██████████| 80/80 [00:00<00:00, 170.98it/s]\u001b[A\n",
      " 19%|█▊        | 209/1123 [03:17<14:18,  1.06it/s]"
     ]
    },
    {
     "name": "stdout",
     "output_type": "stream",
     "text": [
      "/home/jiang/projects/SubtleGAN/data/brats2021/train/BraTS2021_01211\n"
     ]
    },
    {
     "name": "stderr",
     "output_type": "stream",
     "text": [
      "\n",
      "  0%|          | 0/80 [00:00<?, ?it/s]\u001b[A\n",
      " 12%|█▎        | 10/80 [00:00<00:00, 94.99it/s]\u001b[A\n",
      " 35%|███▌      | 28/80 [00:00<00:00, 139.26it/s]\u001b[A\n",
      " 57%|█████▊    | 46/80 [00:00<00:00, 154.31it/s]\u001b[A\n",
      "100%|██████████| 80/80 [00:00<00:00, 157.40it/s]\u001b[A\n",
      " 19%|█▊        | 210/1123 [03:18<14:26,  1.05it/s]"
     ]
    },
    {
     "name": "stdout",
     "output_type": "stream",
     "text": [
      "/home/jiang/projects/SubtleGAN/data/brats2021/train/BraTS2021_01377\n"
     ]
    },
    {
     "name": "stderr",
     "output_type": "stream",
     "text": [
      "\n",
      "  0%|          | 0/80 [00:00<?, ?it/s]\u001b[A\n",
      " 24%|██▍       | 19/80 [00:00<00:00, 186.49it/s]\u001b[A\n",
      " 48%|████▊     | 38/80 [00:00<00:00, 177.19it/s]\u001b[A\n",
      " 70%|███████   | 56/80 [00:00<00:00, 169.94it/s]\u001b[A\n",
      "100%|██████████| 80/80 [00:00<00:00, 163.00it/s]\u001b[A\n",
      " 19%|█▉        | 211/1123 [03:19<14:23,  1.06it/s]"
     ]
    },
    {
     "name": "stdout",
     "output_type": "stream",
     "text": [
      "/home/jiang/projects/SubtleGAN/data/brats2021/train/BraTS2021_00115\n"
     ]
    },
    {
     "name": "stderr",
     "output_type": "stream",
     "text": [
      "\n",
      "  0%|          | 0/80 [00:00<?, ?it/s]\u001b[A\n",
      " 40%|████      | 32/80 [00:00<00:00, 311.01it/s]\u001b[A\n",
      "100%|██████████| 80/80 [00:00<00:00, 278.03it/s]\u001b[A\n",
      " 19%|█▉        | 212/1123 [03:20<15:25,  1.02s/it]"
     ]
    },
    {
     "name": "stdout",
     "output_type": "stream",
     "text": [
      "/home/jiang/projects/SubtleGAN/data/brats2021/train/BraTS2021_00222\n"
     ]
    },
    {
     "name": "stderr",
     "output_type": "stream",
     "text": [
      "\n",
      "  0%|          | 0/80 [00:00<?, ?it/s]\u001b[A\n",
      " 25%|██▌       | 20/80 [00:00<00:00, 198.39it/s]\u001b[A\n",
      " 50%|█████     | 40/80 [00:00<00:00, 181.94it/s]\u001b[A\n",
      " 74%|███████▍  | 59/80 [00:00<00:00, 176.92it/s]\u001b[A\n",
      "100%|██████████| 80/80 [00:00<00:00, 176.46it/s]\u001b[A\n",
      " 19%|█▉        | 213/1123 [03:21<14:53,  1.02it/s]"
     ]
    },
    {
     "name": "stdout",
     "output_type": "stream",
     "text": [
      "/home/jiang/projects/SubtleGAN/data/brats2021/train/BraTS2021_01296\n"
     ]
    },
    {
     "name": "stderr",
     "output_type": "stream",
     "text": [
      "\n",
      "  0%|          | 0/80 [00:00<?, ?it/s]\u001b[A\n",
      " 26%|██▋       | 21/80 [00:00<00:00, 200.63it/s]\u001b[A\n",
      " 52%|█████▎    | 42/80 [00:00<00:00, 181.30it/s]\u001b[A\n",
      "100%|██████████| 80/80 [00:00<00:00, 183.40it/s]\u001b[A\n",
      " 19%|█▉        | 214/1123 [03:22<14:25,  1.05it/s]"
     ]
    },
    {
     "name": "stdout",
     "output_type": "stream",
     "text": [
      "/home/jiang/projects/SubtleGAN/data/brats2021/train/BraTS2021_00195\n"
     ]
    },
    {
     "name": "stderr",
     "output_type": "stream",
     "text": [
      "\n",
      "  0%|          | 0/80 [00:00<?, ?it/s]\u001b[A\n",
      " 24%|██▍       | 19/80 [00:00<00:00, 183.48it/s]\u001b[A\n",
      " 48%|████▊     | 38/80 [00:00<00:00, 175.20it/s]\u001b[A\n",
      " 70%|███████   | 56/80 [00:00<00:00, 171.13it/s]\u001b[A\n",
      "100%|██████████| 80/80 [00:00<00:00, 174.05it/s]\u001b[A\n",
      " 19%|█▉        | 215/1123 [03:23<14:10,  1.07it/s]"
     ]
    },
    {
     "name": "stdout",
     "output_type": "stream",
     "text": [
      "/home/jiang/projects/SubtleGAN/data/brats2021/train/BraTS2021_00811\n"
     ]
    },
    {
     "name": "stderr",
     "output_type": "stream",
     "text": [
      "\n",
      "  0%|          | 0/80 [00:00<?, ?it/s]\u001b[A\n",
      " 39%|███▉      | 31/80 [00:00<00:00, 305.75it/s]\u001b[A\n",
      "100%|██████████| 80/80 [00:00<00:00, 277.81it/s]\u001b[A\n",
      " 19%|█▉        | 216/1123 [03:24<15:17,  1.01s/it]"
     ]
    },
    {
     "name": "stdout",
     "output_type": "stream",
     "text": [
      "/home/jiang/projects/SubtleGAN/data/brats2021/train/BraTS2021_01311\n"
     ]
    },
    {
     "name": "stderr",
     "output_type": "stream",
     "text": [
      "\n",
      "  0%|          | 0/80 [00:00<?, ?it/s]\u001b[A\n",
      " 20%|██        | 16/80 [00:00<00:00, 158.30it/s]\u001b[A\n",
      " 40%|████      | 32/80 [00:00<00:00, 154.12it/s]\u001b[A\n",
      " 60%|██████    | 48/80 [00:00<00:00, 149.43it/s]\u001b[A\n",
      "100%|██████████| 80/80 [00:00<00:00, 158.01it/s]\u001b[A\n",
      " 19%|█▉        | 217/1123 [03:25<15:03,  1.00it/s]"
     ]
    },
    {
     "name": "stdout",
     "output_type": "stream",
     "text": [
      "/home/jiang/projects/SubtleGAN/data/brats2021/train/BraTS2021_01302\n"
     ]
    },
    {
     "name": "stderr",
     "output_type": "stream",
     "text": [
      "\n",
      "  0%|          | 0/80 [00:00<?, ?it/s]\u001b[A\n",
      " 24%|██▍       | 19/80 [00:00<00:00, 184.09it/s]\u001b[A\n",
      " 48%|████▊     | 38/80 [00:00<00:00, 176.02it/s]\u001b[A\n",
      " 70%|███████   | 56/80 [00:00<00:00, 175.01it/s]\u001b[A\n",
      "100%|██████████| 80/80 [00:00<00:00, 173.87it/s]\u001b[A\n",
      " 19%|█▉        | 218/1123 [03:26<14:37,  1.03it/s]"
     ]
    },
    {
     "name": "stdout",
     "output_type": "stream",
     "text": [
      "/home/jiang/projects/SubtleGAN/data/brats2021/train/BraTS2021_00654\n"
     ]
    },
    {
     "name": "stderr",
     "output_type": "stream",
     "text": [
      "\n",
      "  0%|          | 0/80 [00:00<?, ?it/s]\u001b[A\n",
      " 24%|██▍       | 19/80 [00:00<00:00, 182.53it/s]\u001b[A\n",
      " 48%|████▊     | 38/80 [00:00<00:00, 174.96it/s]\u001b[A\n",
      " 70%|███████   | 56/80 [00:00<00:00, 173.47it/s]\u001b[A\n",
      "100%|██████████| 80/80 [00:00<00:00, 172.40it/s]\u001b[A\n",
      " 20%|█▉        | 219/1123 [03:27<13:58,  1.08it/s]"
     ]
    },
    {
     "name": "stdout",
     "output_type": "stream",
     "text": [
      "/home/jiang/projects/SubtleGAN/data/brats2021/train/BraTS2021_01146\n"
     ]
    },
    {
     "name": "stderr",
     "output_type": "stream",
     "text": [
      "\n",
      "  0%|          | 0/80 [00:00<?, ?it/s]\u001b[A\n",
      " 22%|██▎       | 18/80 [00:00<00:00, 179.54it/s]\u001b[A\n",
      " 45%|████▌     | 36/80 [00:00<00:00, 169.03it/s]\u001b[A\n",
      " 69%|██████▉   | 55/80 [00:00<00:00, 175.96it/s]\u001b[A\n",
      "100%|██████████| 80/80 [00:00<00:00, 173.73it/s]\u001b[A\n",
      " 20%|█▉        | 220/1123 [03:28<13:50,  1.09it/s]"
     ]
    },
    {
     "name": "stdout",
     "output_type": "stream",
     "text": [
      "/home/jiang/projects/SubtleGAN/data/brats2021/train/BraTS2021_00124\n"
     ]
    },
    {
     "name": "stderr",
     "output_type": "stream",
     "text": [
      "\n",
      "  0%|          | 0/80 [00:00<?, ?it/s]\u001b[A\n",
      " 22%|██▎       | 18/80 [00:00<00:00, 178.60it/s]\u001b[A\n",
      " 45%|████▌     | 36/80 [00:00<00:00, 169.10it/s]\u001b[A\n",
      " 66%|██████▋   | 53/80 [00:00<00:00, 168.96it/s]\u001b[A\n",
      "100%|██████████| 80/80 [00:00<00:00, 168.28it/s]\u001b[A\n",
      " 20%|█▉        | 221/1123 [03:29<13:54,  1.08it/s]"
     ]
    },
    {
     "name": "stdout",
     "output_type": "stream",
     "text": [
      "/home/jiang/projects/SubtleGAN/data/brats2021/train/BraTS2021_01650\n"
     ]
    },
    {
     "name": "stderr",
     "output_type": "stream",
     "text": [
      "\n",
      "  0%|          | 0/80 [00:00<?, ?it/s]\u001b[A\n",
      " 39%|███▉      | 31/80 [00:00<00:00, 303.75it/s]\u001b[A\n",
      "100%|██████████| 80/80 [00:00<00:00, 271.65it/s]\u001b[A\n",
      " 20%|█▉        | 222/1123 [03:30<15:04,  1.00s/it]"
     ]
    },
    {
     "name": "stdout",
     "output_type": "stream",
     "text": [
      "/home/jiang/projects/SubtleGAN/data/brats2021/train/BraTS2021_00582\n"
     ]
    },
    {
     "name": "stderr",
     "output_type": "stream",
     "text": [
      "\n",
      "  0%|          | 0/80 [00:00<?, ?it/s]\u001b[A\n",
      " 39%|███▉      | 31/80 [00:00<00:00, 305.82it/s]\u001b[A\n",
      "100%|██████████| 80/80 [00:00<00:00, 278.03it/s]\u001b[A\n",
      " 20%|█▉        | 223/1123 [03:31<15:48,  1.05s/it]"
     ]
    },
    {
     "name": "stdout",
     "output_type": "stream",
     "text": [
      "/home/jiang/projects/SubtleGAN/data/brats2021/train/BraTS2021_01507\n"
     ]
    },
    {
     "name": "stderr",
     "output_type": "stream",
     "text": [
      "\n",
      "  0%|          | 0/80 [00:00<?, ?it/s]\u001b[A\n",
      " 22%|██▎       | 18/80 [00:00<00:00, 177.47it/s]\u001b[A\n",
      " 45%|████▌     | 36/80 [00:00<00:00, 170.08it/s]\u001b[A\n",
      " 68%|██████▊   | 54/80 [00:00<00:00, 165.54it/s]\u001b[A\n",
      "100%|██████████| 80/80 [00:00<00:00, 172.68it/s]\u001b[A\n",
      " 20%|█▉        | 224/1123 [03:32<15:10,  1.01s/it]"
     ]
    },
    {
     "name": "stdout",
     "output_type": "stream",
     "text": [
      "/home/jiang/projects/SubtleGAN/data/brats2021/train/BraTS2021_00579\n"
     ]
    },
    {
     "name": "stderr",
     "output_type": "stream",
     "text": [
      "\n",
      "  0%|          | 0/80 [00:00<?, ?it/s]\u001b[A\n",
      " 38%|███▊      | 30/80 [00:00<00:00, 295.76it/s]\u001b[A\n",
      "100%|██████████| 80/80 [00:00<00:00, 266.98it/s]\u001b[A\n",
      " 20%|██        | 225/1123 [03:33<16:06,  1.08s/it]"
     ]
    },
    {
     "name": "stdout",
     "output_type": "stream",
     "text": [
      "/home/jiang/projects/SubtleGAN/data/brats2021/train/BraTS2021_01048\n"
     ]
    },
    {
     "name": "stderr",
     "output_type": "stream",
     "text": [
      "\n",
      "  0%|          | 0/80 [00:00<?, ?it/s]\u001b[A\n",
      " 22%|██▎       | 18/80 [00:00<00:00, 173.99it/s]\u001b[A\n",
      " 45%|████▌     | 36/80 [00:00<00:00, 162.51it/s]\u001b[A\n",
      " 66%|██████▋   | 53/80 [00:00<00:00, 159.27it/s]\u001b[A\n",
      "100%|██████████| 80/80 [00:00<00:00, 160.44it/s]\u001b[A\n",
      " 20%|██        | 226/1123 [03:34<15:34,  1.04s/it]"
     ]
    },
    {
     "name": "stdout",
     "output_type": "stream",
     "text": [
      "/home/jiang/projects/SubtleGAN/data/brats2021/train/BraTS2021_01584\n"
     ]
    },
    {
     "name": "stderr",
     "output_type": "stream",
     "text": [
      "\n",
      "  0%|          | 0/80 [00:00<?, ?it/s]\u001b[A\n",
      " 36%|███▋      | 29/80 [00:00<00:00, 279.95it/s]\u001b[A\n",
      "100%|██████████| 80/80 [00:00<00:00, 260.35it/s]\u001b[A\n",
      " 20%|██        | 227/1123 [03:35<16:28,  1.10s/it]"
     ]
    },
    {
     "name": "stdout",
     "output_type": "stream",
     "text": [
      "/home/jiang/projects/SubtleGAN/data/brats2021/train/BraTS2021_00251\n"
     ]
    },
    {
     "name": "stderr",
     "output_type": "stream",
     "text": [
      "\n",
      "  0%|          | 0/80 [00:00<?, ?it/s]\u001b[A\n",
      " 20%|██        | 16/80 [00:00<00:00, 157.41it/s]\u001b[A\n",
      " 40%|████      | 32/80 [00:00<00:00, 140.53it/s]\u001b[A\n",
      " 65%|██████▌   | 52/80 [00:00<00:00, 162.48it/s]\u001b[A\n",
      "100%|██████████| 80/80 [00:00<00:00, 160.04it/s]\u001b[A\n",
      " 20%|██        | 228/1123 [03:36<15:53,  1.07s/it]"
     ]
    },
    {
     "name": "stdout",
     "output_type": "stream",
     "text": [
      "/home/jiang/projects/SubtleGAN/data/brats2021/train/BraTS2021_00735\n"
     ]
    },
    {
     "name": "stderr",
     "output_type": "stream",
     "text": [
      "\n",
      "  0%|          | 0/80 [00:00<?, ?it/s]\u001b[A\n",
      " 22%|██▎       | 18/80 [00:00<00:00, 179.98it/s]\u001b[A\n",
      " 45%|████▌     | 36/80 [00:00<00:00, 175.14it/s]\u001b[A\n",
      " 68%|██████▊   | 54/80 [00:00<00:00, 173.44it/s]\u001b[A\n",
      "100%|██████████| 80/80 [00:00<00:00, 172.30it/s]\u001b[A\n",
      " 20%|██        | 229/1123 [03:37<14:57,  1.00s/it]"
     ]
    },
    {
     "name": "stdout",
     "output_type": "stream",
     "text": [
      "/home/jiang/projects/SubtleGAN/data/brats2021/train/BraTS2021_00510\n"
     ]
    },
    {
     "name": "stderr",
     "output_type": "stream",
     "text": [
      "\n",
      "  0%|          | 0/80 [00:00<?, ?it/s]\u001b[A\n",
      " 26%|██▋       | 21/80 [00:00<00:00, 202.55it/s]\u001b[A\n",
      " 52%|█████▎    | 42/80 [00:00<00:00, 181.36it/s]\u001b[A\n",
      " 76%|███████▋  | 61/80 [00:00<00:00, 175.75it/s]\u001b[A\n",
      "100%|██████████| 80/80 [00:00<00:00, 175.57it/s]\u001b[A\n",
      " 20%|██        | 230/1123 [03:38<14:11,  1.05it/s]"
     ]
    },
    {
     "name": "stdout",
     "output_type": "stream",
     "text": [
      "/home/jiang/projects/SubtleGAN/data/brats2021/train/BraTS2021_01354\n"
     ]
    },
    {
     "name": "stderr",
     "output_type": "stream",
     "text": [
      "\n",
      "  0%|          | 0/80 [00:00<?, ?it/s]\u001b[A\n",
      " 24%|██▍       | 19/80 [00:00<00:00, 186.35it/s]\u001b[A\n",
      " 48%|████▊     | 38/80 [00:00<00:00, 177.73it/s]\u001b[A\n",
      " 70%|███████   | 56/80 [00:00<00:00, 171.41it/s]\u001b[A\n",
      "100%|██████████| 80/80 [00:00<00:00, 177.57it/s]\u001b[A\n",
      " 21%|██        | 231/1123 [03:39<13:57,  1.07it/s]"
     ]
    },
    {
     "name": "stdout",
     "output_type": "stream",
     "text": [
      "/home/jiang/projects/SubtleGAN/data/brats2021/train/BraTS2021_01545\n"
     ]
    },
    {
     "name": "stderr",
     "output_type": "stream",
     "text": [
      "\n",
      "  0%|          | 0/80 [00:00<?, ?it/s]\u001b[A\n",
      " 40%|████      | 32/80 [00:00<00:00, 311.38it/s]\u001b[A\n",
      "100%|██████████| 80/80 [00:00<00:00, 282.24it/s]\u001b[A\n",
      " 21%|██        | 232/1123 [03:40<15:27,  1.04s/it]"
     ]
    },
    {
     "name": "stdout",
     "output_type": "stream",
     "text": [
      "/home/jiang/projects/SubtleGAN/data/brats2021/train/BraTS2021_01309\n"
     ]
    },
    {
     "name": "stderr",
     "output_type": "stream",
     "text": [
      "\n",
      "  0%|          | 0/80 [00:00<?, ?it/s]\u001b[A\n",
      " 24%|██▍       | 19/80 [00:00<00:00, 182.90it/s]\u001b[A\n",
      " 48%|████▊     | 38/80 [00:00<00:00, 175.29it/s]\u001b[A\n",
      " 70%|███████   | 56/80 [00:00<00:00, 172.34it/s]\u001b[A\n",
      "100%|██████████| 80/80 [00:00<00:00, 170.05it/s]\u001b[A\n",
      " 21%|██        | 233/1123 [03:41<14:48,  1.00it/s]"
     ]
    },
    {
     "name": "stdout",
     "output_type": "stream",
     "text": [
      "/home/jiang/projects/SubtleGAN/data/brats2021/train/BraTS2021_01127\n"
     ]
    },
    {
     "name": "stderr",
     "output_type": "stream",
     "text": [
      "\n",
      "  0%|          | 0/80 [00:00<?, ?it/s]\u001b[A\n",
      " 22%|██▎       | 18/80 [00:00<00:00, 177.73it/s]\u001b[A\n",
      " 48%|████▊     | 38/80 [00:00<00:00, 189.87it/s]\u001b[A\n",
      " 71%|███████▏  | 57/80 [00:00<00:00, 175.28it/s]\u001b[A\n",
      "100%|██████████| 80/80 [00:00<00:00, 172.80it/s]\u001b[A\n",
      " 21%|██        | 234/1123 [03:42<14:30,  1.02it/s]"
     ]
    },
    {
     "name": "stdout",
     "output_type": "stream",
     "text": [
      "/home/jiang/projects/SubtleGAN/data/brats2021/train/BraTS2021_00157\n"
     ]
    },
    {
     "name": "stderr",
     "output_type": "stream",
     "text": [
      "\n",
      "  0%|          | 0/80 [00:00<?, ?it/s]\u001b[A\n",
      " 24%|██▍       | 19/80 [00:00<00:00, 183.62it/s]\u001b[A\n",
      " 48%|████▊     | 38/80 [00:00<00:00, 174.88it/s]\u001b[A\n",
      " 70%|███████   | 56/80 [00:00<00:00, 173.18it/s]\u001b[A\n",
      "100%|██████████| 80/80 [00:00<00:00, 172.44it/s]\u001b[A\n",
      " 21%|██        | 235/1123 [03:43<14:12,  1.04it/s]"
     ]
    },
    {
     "name": "stdout",
     "output_type": "stream",
     "text": [
      "/home/jiang/projects/SubtleGAN/data/brats2021/train/BraTS2021_01647\n"
     ]
    },
    {
     "name": "stderr",
     "output_type": "stream",
     "text": [
      "\n",
      "  0%|          | 0/80 [00:00<?, ?it/s]\u001b[A\n",
      " 39%|███▉      | 31/80 [00:00<00:00, 306.71it/s]\u001b[A\n",
      "100%|██████████| 80/80 [00:00<00:00, 265.27it/s]\u001b[A\n",
      " 21%|██        | 236/1123 [03:44<15:11,  1.03s/it]"
     ]
    },
    {
     "name": "stdout",
     "output_type": "stream",
     "text": [
      "/home/jiang/projects/SubtleGAN/data/brats2021/train/BraTS2021_00340\n"
     ]
    },
    {
     "name": "stderr",
     "output_type": "stream",
     "text": [
      "\n",
      "  0%|          | 0/80 [00:00<?, ?it/s]\u001b[A\n",
      " 24%|██▍       | 19/80 [00:00<00:00, 186.37it/s]\u001b[A\n",
      " 48%|████▊     | 38/80 [00:00<00:00, 174.54it/s]\u001b[A\n",
      " 70%|███████   | 56/80 [00:00<00:00, 172.02it/s]\u001b[A\n",
      "100%|██████████| 80/80 [00:00<00:00, 170.91it/s]\u001b[A\n",
      " 21%|██        | 237/1123 [03:45<15:22,  1.04s/it]"
     ]
    },
    {
     "name": "stdout",
     "output_type": "stream",
     "text": [
      "/home/jiang/projects/SubtleGAN/data/brats2021/train/BraTS2021_01403\n"
     ]
    },
    {
     "name": "stderr",
     "output_type": "stream",
     "text": [
      "\n",
      "  0%|          | 0/80 [00:00<?, ?it/s]\u001b[A\n",
      " 24%|██▍       | 19/80 [00:00<00:00, 183.28it/s]\u001b[A\n",
      " 48%|████▊     | 38/80 [00:00<00:00, 171.76it/s]\u001b[A\n",
      " 72%|███████▎  | 58/80 [00:00<00:00, 181.73it/s]\u001b[A\n",
      "100%|██████████| 80/80 [00:00<00:00, 173.05it/s]\u001b[A\n",
      " 21%|██        | 238/1123 [03:46<14:48,  1.00s/it]"
     ]
    },
    {
     "name": "stdout",
     "output_type": "stream",
     "text": [
      "/home/jiang/projects/SubtleGAN/data/brats2021/train/BraTS2021_01016\n"
     ]
    },
    {
     "name": "stderr",
     "output_type": "stream",
     "text": [
      "\n",
      "  0%|          | 0/80 [00:00<?, ?it/s]\u001b[A\n",
      " 22%|██▎       | 18/80 [00:00<00:00, 170.83it/s]\u001b[A\n",
      " 45%|████▌     | 36/80 [00:00<00:00, 161.25it/s]\u001b[A\n",
      " 66%|██████▋   | 53/80 [00:00<00:00, 162.38it/s]\u001b[A\n",
      "100%|██████████| 80/80 [00:00<00:00, 162.47it/s]\u001b[A\n",
      " 21%|██▏       | 239/1123 [03:47<14:32,  1.01it/s]"
     ]
    },
    {
     "name": "stdout",
     "output_type": "stream",
     "text": [
      "/home/jiang/projects/SubtleGAN/data/brats2021/train/BraTS2021_00266\n"
     ]
    },
    {
     "name": "stderr",
     "output_type": "stream",
     "text": [
      "\n",
      "  0%|          | 0/80 [00:00<?, ?it/s]\u001b[A\n",
      " 22%|██▎       | 18/80 [00:00<00:00, 176.08it/s]\u001b[A\n",
      " 45%|████▌     | 36/80 [00:00<00:00, 169.86it/s]\u001b[A\n",
      " 68%|██████▊   | 54/80 [00:00<00:00, 166.27it/s]\u001b[A\n",
      "100%|██████████| 80/80 [00:00<00:00, 164.95it/s]\u001b[A\n",
      " 21%|██▏       | 240/1123 [03:48<14:16,  1.03it/s]"
     ]
    },
    {
     "name": "stdout",
     "output_type": "stream",
     "text": [
      "/home/jiang/projects/SubtleGAN/data/brats2021/train/BraTS2021_00466\n"
     ]
    },
    {
     "name": "stderr",
     "output_type": "stream",
     "text": [
      "\n",
      "  0%|          | 0/80 [00:00<?, ?it/s]\u001b[A\n",
      " 22%|██▎       | 18/80 [00:00<00:00, 177.61it/s]\u001b[A\n",
      " 45%|████▌     | 36/80 [00:00<00:00, 169.37it/s]\u001b[A\n",
      " 66%|██████▋   | 53/80 [00:00<00:00, 166.16it/s]\u001b[A\n",
      "100%|██████████| 80/80 [00:00<00:00, 169.91it/s]\u001b[A\n",
      " 21%|██▏       | 241/1123 [03:49<13:44,  1.07it/s]"
     ]
    },
    {
     "name": "stdout",
     "output_type": "stream",
     "text": [
      "/home/jiang/projects/SubtleGAN/data/brats2021/train/BraTS2021_01123\n"
     ]
    },
    {
     "name": "stderr",
     "output_type": "stream",
     "text": [
      "\n",
      "  0%|          | 0/80 [00:00<?, ?it/s]\u001b[A\n",
      " 22%|██▎       | 18/80 [00:00<00:00, 177.22it/s]\u001b[A\n",
      " 45%|████▌     | 36/80 [00:00<00:00, 167.41it/s]\u001b[A\n",
      " 66%|██████▋   | 53/80 [00:00<00:00, 168.02it/s]\u001b[A\n",
      "100%|██████████| 80/80 [00:00<00:00, 167.55it/s]\u001b[A\n",
      " 22%|██▏       | 242/1123 [03:50<13:42,  1.07it/s]"
     ]
    },
    {
     "name": "stdout",
     "output_type": "stream",
     "text": [
      "/home/jiang/projects/SubtleGAN/data/brats2021/train/BraTS2021_01176\n"
     ]
    },
    {
     "name": "stderr",
     "output_type": "stream",
     "text": [
      "\n",
      "  0%|          | 0/80 [00:00<?, ?it/s]\u001b[A\n",
      " 22%|██▎       | 18/80 [00:00<00:00, 177.10it/s]\u001b[A\n",
      " 51%|█████▏    | 41/80 [00:00<00:00, 206.65it/s]\u001b[A\n",
      "100%|██████████| 80/80 [00:00<00:00, 234.52it/s]\u001b[A\n",
      " 22%|██▏       | 243/1123 [03:51<13:02,  1.12it/s]"
     ]
    },
    {
     "name": "stdout",
     "output_type": "stream",
     "text": [
      "/home/jiang/projects/SubtleGAN/data/brats2021/train/BraTS2021_01520\n"
     ]
    },
    {
     "name": "stderr",
     "output_type": "stream",
     "text": [
      "\n",
      "  0%|          | 0/80 [00:00<?, ?it/s]\u001b[A\n",
      " 38%|███▊      | 30/80 [00:00<00:00, 297.49it/s]\u001b[A\n",
      "100%|██████████| 80/80 [00:00<00:00, 224.23it/s]\u001b[A\n",
      " 22%|██▏       | 244/1123 [03:51<12:30,  1.17it/s]"
     ]
    },
    {
     "name": "stdout",
     "output_type": "stream",
     "text": [
      "/home/jiang/projects/SubtleGAN/data/brats2021/train/BraTS2021_00201\n"
     ]
    },
    {
     "name": "stderr",
     "output_type": "stream",
     "text": [
      "\n",
      "  0%|          | 0/80 [00:00<?, ?it/s]\u001b[A\n",
      " 21%|██▏       | 17/80 [00:00<00:00, 167.83it/s]\u001b[A\n",
      " 42%|████▎     | 34/80 [00:00<00:00, 154.94it/s]\u001b[A\n",
      " 62%|██████▎   | 50/80 [00:00<00:00, 154.73it/s]\u001b[A\n",
      "100%|██████████| 80/80 [00:00<00:00, 157.74it/s]\u001b[A\n",
      " 22%|██▏       | 245/1123 [03:52<12:59,  1.13it/s]"
     ]
    },
    {
     "name": "stdout",
     "output_type": "stream",
     "text": [
      "/home/jiang/projects/SubtleGAN/data/brats2021/train/BraTS2021_01484\n"
     ]
    },
    {
     "name": "stderr",
     "output_type": "stream",
     "text": [
      "\n",
      "  0%|          | 0/80 [00:00<?, ?it/s]\u001b[A\n",
      " 22%|██▎       | 18/80 [00:00<00:00, 179.73it/s]\u001b[A\n",
      " 45%|████▌     | 36/80 [00:00<00:00, 166.12it/s]\u001b[A\n",
      " 70%|███████   | 56/80 [00:00<00:00, 178.98it/s]\u001b[A\n",
      "100%|██████████| 80/80 [00:00<00:00, 172.40it/s]\u001b[A\n",
      " 22%|██▏       | 246/1123 [03:53<13:08,  1.11it/s]"
     ]
    },
    {
     "name": "stdout",
     "output_type": "stream",
     "text": [
      "/home/jiang/projects/SubtleGAN/data/brats2021/train/BraTS2021_01227\n"
     ]
    },
    {
     "name": "stderr",
     "output_type": "stream",
     "text": [
      "\n",
      "  0%|          | 0/80 [00:00<?, ?it/s]\u001b[A\n",
      " 24%|██▍       | 19/80 [00:00<00:00, 179.71it/s]\u001b[A\n",
      " 46%|████▋     | 37/80 [00:00<00:00, 172.98it/s]\u001b[A\n",
      " 69%|██████▉   | 55/80 [00:00<00:00, 169.28it/s]\u001b[A\n",
      "100%|██████████| 80/80 [00:00<00:00, 168.49it/s]\u001b[A\n",
      " 22%|██▏       | 247/1123 [03:54<13:13,  1.10it/s]"
     ]
    },
    {
     "name": "stdout",
     "output_type": "stream",
     "text": [
      "/home/jiang/projects/SubtleGAN/data/brats2021/train/BraTS2021_01471\n"
     ]
    },
    {
     "name": "stderr",
     "output_type": "stream",
     "text": [
      "\n",
      "  0%|          | 0/80 [00:00<?, ?it/s]\u001b[A\n",
      " 24%|██▍       | 19/80 [00:00<00:00, 185.38it/s]\u001b[A\n",
      " 48%|████▊     | 38/80 [00:00<00:00, 174.12it/s]\u001b[A\n",
      " 70%|███████   | 56/80 [00:00<00:00, 170.68it/s]\u001b[A\n",
      "100%|██████████| 80/80 [00:00<00:00, 170.13it/s]\u001b[A\n",
      " 22%|██▏       | 248/1123 [03:55<13:17,  1.10it/s]"
     ]
    },
    {
     "name": "stdout",
     "output_type": "stream",
     "text": [
      "/home/jiang/projects/SubtleGAN/data/brats2021/train/BraTS2021_00645\n"
     ]
    },
    {
     "name": "stderr",
     "output_type": "stream",
     "text": [
      "\n",
      "  0%|          | 0/80 [00:00<?, ?it/s]\u001b[A\n",
      " 22%|██▎       | 18/80 [00:00<00:00, 179.26it/s]\u001b[A\n",
      " 45%|████▌     | 36/80 [00:00<00:00, 167.40it/s]\u001b[A\n",
      " 69%|██████▉   | 55/80 [00:00<00:00, 174.60it/s]\u001b[A\n",
      "100%|██████████| 80/80 [00:00<00:00, 165.93it/s]\u001b[A\n",
      " 22%|██▏       | 249/1123 [03:56<13:06,  1.11it/s]"
     ]
    },
    {
     "name": "stdout",
     "output_type": "stream",
     "text": [
      "/home/jiang/projects/SubtleGAN/data/brats2021/train/BraTS2021_00314\n"
     ]
    },
    {
     "name": "stderr",
     "output_type": "stream",
     "text": [
      "\n",
      "  0%|          | 0/80 [00:00<?, ?it/s]\u001b[A\n",
      " 24%|██▍       | 19/80 [00:00<00:00, 180.13it/s]\u001b[A\n",
      " 48%|████▊     | 38/80 [00:00<00:00, 173.35it/s]\u001b[A\n",
      " 70%|███████   | 56/80 [00:00<00:00, 171.31it/s]\u001b[A\n",
      "100%|██████████| 80/80 [00:00<00:00, 170.61it/s]\u001b[A\n",
      " 22%|██▏       | 250/1123 [03:57<13:16,  1.10it/s]"
     ]
    },
    {
     "name": "stdout",
     "output_type": "stream",
     "text": [
      "/home/jiang/projects/SubtleGAN/data/brats2021/train/BraTS2021_01524\n"
     ]
    },
    {
     "name": "stderr",
     "output_type": "stream",
     "text": [
      "\n",
      "  0%|          | 0/80 [00:00<?, ?it/s]\u001b[A\n",
      " 22%|██▎       | 18/80 [00:00<00:00, 169.27it/s]\u001b[A\n",
      " 44%|████▍     | 35/80 [00:00<00:00, 154.46it/s]\u001b[A\n",
      " 64%|██████▍   | 51/80 [00:00<00:00, 151.00it/s]\u001b[A\n",
      "100%|██████████| 80/80 [00:00<00:00, 157.64it/s]\u001b[A\n",
      " 22%|██▏       | 251/1123 [03:58<13:23,  1.09it/s]"
     ]
    },
    {
     "name": "stdout",
     "output_type": "stream",
     "text": [
      "/home/jiang/projects/SubtleGAN/data/brats2021/train/BraTS2021_00102\n"
     ]
    },
    {
     "name": "stderr",
     "output_type": "stream",
     "text": [
      "\n",
      "  0%|          | 0/80 [00:00<?, ?it/s]\u001b[A\n",
      " 22%|██▎       | 18/80 [00:00<00:00, 178.03it/s]\u001b[A\n",
      " 45%|████▌     | 36/80 [00:00<00:00, 168.84it/s]\u001b[A\n",
      " 66%|██████▋   | 53/80 [00:00<00:00, 166.00it/s]\u001b[A\n",
      "100%|██████████| 80/80 [00:00<00:00, 172.58it/s]\u001b[A\n",
      " 22%|██▏       | 252/1123 [03:59<13:21,  1.09it/s]"
     ]
    },
    {
     "name": "stdout",
     "output_type": "stream",
     "text": [
      "/home/jiang/projects/SubtleGAN/data/brats2021/train/BraTS2021_01506\n"
     ]
    },
    {
     "name": "stderr",
     "output_type": "stream",
     "text": [
      "\n",
      "  0%|          | 0/80 [00:00<?, ?it/s]\u001b[A\n",
      " 22%|██▎       | 18/80 [00:00<00:00, 177.99it/s]\u001b[A\n",
      " 45%|████▌     | 36/80 [00:00<00:00, 171.14it/s]\u001b[A\n",
      " 68%|██████▊   | 54/80 [00:00<00:00, 168.96it/s]\u001b[A\n",
      "100%|██████████| 80/80 [00:00<00:00, 168.83it/s]\u001b[A\n",
      " 23%|██▎       | 253/1123 [04:00<13:21,  1.09it/s]"
     ]
    },
    {
     "name": "stdout",
     "output_type": "stream",
     "text": [
      "/home/jiang/projects/SubtleGAN/data/brats2021/train/BraTS2021_00280\n"
     ]
    },
    {
     "name": "stderr",
     "output_type": "stream",
     "text": [
      "\n",
      "  0%|          | 0/80 [00:00<?, ?it/s]\u001b[A\n",
      " 26%|██▋       | 21/80 [00:00<00:00, 201.92it/s]\u001b[A\n",
      " 52%|█████▎    | 42/80 [00:00<00:00, 178.31it/s]\u001b[A\n",
      " 76%|███████▋  | 61/80 [00:00<00:00, 172.23it/s]\u001b[A\n",
      "100%|██████████| 80/80 [00:00<00:00, 171.27it/s]\u001b[A\n",
      " 23%|██▎       | 254/1123 [04:01<13:19,  1.09it/s]"
     ]
    },
    {
     "name": "stdout",
     "output_type": "stream",
     "text": [
      "/home/jiang/projects/SubtleGAN/data/brats2021/train/BraTS2021_00520\n"
     ]
    },
    {
     "name": "stderr",
     "output_type": "stream",
     "text": [
      "\n",
      "  0%|          | 0/80 [00:00<?, ?it/s]\u001b[A\n",
      " 24%|██▍       | 19/80 [00:00<00:00, 183.53it/s]\u001b[A\n",
      " 48%|████▊     | 38/80 [00:00<00:00, 173.79it/s]\u001b[A\n",
      " 70%|███████   | 56/80 [00:00<00:00, 170.39it/s]\u001b[A\n",
      "100%|██████████| 80/80 [00:00<00:00, 168.89it/s]\u001b[A\n",
      " 23%|██▎       | 255/1123 [04:02<13:01,  1.11it/s]"
     ]
    },
    {
     "name": "stdout",
     "output_type": "stream",
     "text": [
      "/home/jiang/projects/SubtleGAN/data/brats2021/train/BraTS2021_00383\n"
     ]
    },
    {
     "name": "stderr",
     "output_type": "stream",
     "text": [
      "\n",
      "  0%|          | 0/80 [00:00<?, ?it/s]\u001b[A\n",
      " 22%|██▎       | 18/80 [00:00<00:00, 177.55it/s]\u001b[A\n",
      " 45%|████▌     | 36/80 [00:00<00:00, 169.00it/s]\u001b[A\n",
      " 66%|██████▋   | 53/80 [00:00<00:00, 166.22it/s]\u001b[A\n",
      "100%|██████████| 80/80 [00:00<00:00, 166.84it/s]\u001b[A\n",
      " 23%|██▎       | 256/1123 [04:02<13:04,  1.10it/s]"
     ]
    },
    {
     "name": "stdout",
     "output_type": "stream",
     "text": [
      "/home/jiang/projects/SubtleGAN/data/brats2021/train/BraTS2021_00144\n"
     ]
    },
    {
     "name": "stderr",
     "output_type": "stream",
     "text": [
      "\n",
      "  0%|          | 0/80 [00:00<?, ?it/s]\u001b[A\n",
      " 21%|██▏       | 17/80 [00:00<00:00, 160.48it/s]\u001b[A\n",
      " 44%|████▍     | 35/80 [00:00<00:00, 168.22it/s]\u001b[A\n",
      " 65%|██████▌   | 52/80 [00:00<00:00, 154.18it/s]\u001b[A\n",
      "100%|██████████| 80/80 [00:00<00:00, 157.21it/s]\u001b[A\n",
      " 23%|██▎       | 257/1123 [04:03<13:19,  1.08it/s]"
     ]
    },
    {
     "name": "stdout",
     "output_type": "stream",
     "text": [
      "/home/jiang/projects/SubtleGAN/data/brats2021/train/BraTS2021_01220\n"
     ]
    },
    {
     "name": "stderr",
     "output_type": "stream",
     "text": [
      "\n",
      "  0%|          | 0/80 [00:00<?, ?it/s]\u001b[A\n",
      " 22%|██▎       | 18/80 [00:00<00:00, 177.55it/s]\u001b[A\n",
      " 45%|████▌     | 36/80 [00:00<00:00, 170.69it/s]\u001b[A\n",
      " 68%|██████▊   | 54/80 [00:00<00:00, 166.95it/s]\u001b[A\n",
      "100%|██████████| 80/80 [00:00<00:00, 164.61it/s]\u001b[A\n",
      " 23%|██▎       | 258/1123 [04:04<13:23,  1.08it/s]"
     ]
    },
    {
     "name": "stdout",
     "output_type": "stream",
     "text": [
      "/home/jiang/projects/SubtleGAN/data/brats2021/train/BraTS2021_00584\n"
     ]
    },
    {
     "name": "stderr",
     "output_type": "stream",
     "text": [
      "\n",
      "  0%|          | 0/80 [00:00<?, ?it/s]\u001b[A\n",
      " 39%|███▉      | 31/80 [00:00<00:00, 305.72it/s]\u001b[A\n",
      "100%|██████████| 80/80 [00:00<00:00, 280.39it/s]\u001b[A\n",
      " 23%|██▎       | 259/1123 [04:06<14:26,  1.00s/it]"
     ]
    },
    {
     "name": "stdout",
     "output_type": "stream",
     "text": [
      "/home/jiang/projects/SubtleGAN/data/brats2021/train/BraTS2021_01600\n"
     ]
    },
    {
     "name": "stderr",
     "output_type": "stream",
     "text": [
      "\n",
      "  0%|          | 0/80 [00:00<?, ?it/s]\u001b[A\n",
      " 36%|███▋      | 29/80 [00:00<00:00, 289.76it/s]\u001b[A\n",
      "100%|██████████| 80/80 [00:00<00:00, 275.73it/s]\u001b[A\n",
      " 23%|██▎       | 260/1123 [04:07<15:11,  1.06s/it]"
     ]
    },
    {
     "name": "stdout",
     "output_type": "stream",
     "text": [
      "/home/jiang/projects/SubtleGAN/data/brats2021/train/BraTS2021_01184\n"
     ]
    },
    {
     "name": "stderr",
     "output_type": "stream",
     "text": [
      "\n",
      "  0%|          | 0/80 [00:00<?, ?it/s]\u001b[A\n",
      " 24%|██▍       | 19/80 [00:00<00:00, 188.61it/s]\u001b[A\n",
      " 49%|████▉     | 39/80 [00:00<00:00, 188.87it/s]\u001b[A\n",
      " 72%|███████▎  | 58/80 [00:00<00:00, 173.83it/s]\u001b[A\n",
      "100%|██████████| 80/80 [00:00<00:00, 171.63it/s]\u001b[A\n",
      " 23%|██▎       | 261/1123 [04:08<14:28,  1.01s/it]"
     ]
    },
    {
     "name": "stdout",
     "output_type": "stream",
     "text": [
      "/home/jiang/projects/SubtleGAN/data/brats2021/train/BraTS2021_00203\n"
     ]
    },
    {
     "name": "stderr",
     "output_type": "stream",
     "text": [
      "\n",
      "  0%|          | 0/80 [00:00<?, ?it/s]\u001b[A\n",
      " 22%|██▎       | 18/80 [00:00<00:00, 179.20it/s]\u001b[A\n",
      " 45%|████▌     | 36/80 [00:00<00:00, 170.36it/s]\u001b[A\n",
      " 68%|██████▊   | 54/80 [00:00<00:00, 162.94it/s]\u001b[A\n",
      "100%|██████████| 80/80 [00:00<00:00, 160.84it/s]\u001b[A\n",
      " 23%|██▎       | 262/1123 [04:09<14:13,  1.01it/s]"
     ]
    },
    {
     "name": "stdout",
     "output_type": "stream",
     "text": [
      "/home/jiang/projects/SubtleGAN/data/brats2021/train/BraTS2021_01020\n"
     ]
    },
    {
     "name": "stderr",
     "output_type": "stream",
     "text": [
      "\n",
      "  0%|          | 0/80 [00:00<?, ?it/s]\u001b[A\n",
      " 24%|██▍       | 19/80 [00:00<00:00, 182.00it/s]\u001b[A\n",
      " 48%|████▊     | 38/80 [00:00<00:00, 175.83it/s]\u001b[A\n",
      " 70%|███████   | 56/80 [00:00<00:00, 173.83it/s]\u001b[A\n",
      "100%|██████████| 80/80 [00:00<00:00, 172.81it/s]\u001b[A\n",
      " 23%|██▎       | 263/1123 [04:09<13:50,  1.04it/s]"
     ]
    },
    {
     "name": "stdout",
     "output_type": "stream",
     "text": [
      "/home/jiang/projects/SubtleGAN/data/brats2021/train/BraTS2021_00380\n"
     ]
    },
    {
     "name": "stderr",
     "output_type": "stream",
     "text": [
      "\n",
      "  0%|          | 0/80 [00:00<?, ?it/s]\u001b[A\n",
      " 22%|██▎       | 18/80 [00:00<00:00, 173.47it/s]\u001b[A\n",
      " 49%|████▉     | 39/80 [00:00<00:00, 189.20it/s]\u001b[A\n",
      " 72%|███████▎  | 58/80 [00:00<00:00, 175.91it/s]\u001b[A\n",
      "100%|██████████| 80/80 [00:00<00:00, 173.11it/s]\u001b[A\n",
      " 24%|██▎       | 264/1123 [04:10<13:35,  1.05it/s]"
     ]
    },
    {
     "name": "stdout",
     "output_type": "stream",
     "text": [
      "/home/jiang/projects/SubtleGAN/data/brats2021/train/BraTS2021_01397\n"
     ]
    },
    {
     "name": "stderr",
     "output_type": "stream",
     "text": [
      "\n",
      "  0%|          | 0/80 [00:00<?, ?it/s]\u001b[A\n",
      " 24%|██▍       | 19/80 [00:00<00:00, 181.52it/s]\u001b[A\n",
      " 48%|████▊     | 38/80 [00:00<00:00, 174.21it/s]\u001b[A\n",
      " 70%|███████   | 56/80 [00:00<00:00, 168.08it/s]\u001b[A\n",
      "100%|██████████| 80/80 [00:00<00:00, 167.73it/s]\u001b[A\n",
      " 24%|██▎       | 265/1123 [04:11<13:29,  1.06it/s]"
     ]
    },
    {
     "name": "stdout",
     "output_type": "stream",
     "text": [
      "/home/jiang/projects/SubtleGAN/data/brats2021/train/BraTS2021_00378\n"
     ]
    },
    {
     "name": "stderr",
     "output_type": "stream",
     "text": [
      "\n",
      "  0%|          | 0/80 [00:00<?, ?it/s]\u001b[A\n",
      " 24%|██▍       | 19/80 [00:00<00:00, 180.61it/s]\u001b[A\n",
      " 48%|████▊     | 38/80 [00:00<00:00, 168.71it/s]\u001b[A\n",
      " 69%|██████▉   | 55/80 [00:00<00:00, 164.75it/s]\u001b[A\n",
      "100%|██████████| 80/80 [00:00<00:00, 164.62it/s]\u001b[A\n",
      " 24%|██▎       | 266/1123 [04:12<13:26,  1.06it/s]"
     ]
    },
    {
     "name": "stdout",
     "output_type": "stream",
     "text": [
      "/home/jiang/projects/SubtleGAN/data/brats2021/train/BraTS2021_00610\n"
     ]
    },
    {
     "name": "stderr",
     "output_type": "stream",
     "text": [
      "\n",
      "  0%|          | 0/80 [00:00<?, ?it/s]\u001b[A\n",
      " 22%|██▎       | 18/80 [00:00<00:00, 173.56it/s]\u001b[A\n",
      " 45%|████▌     | 36/80 [00:00<00:00, 163.75it/s]\u001b[A\n",
      " 70%|███████   | 56/80 [00:00<00:00, 177.40it/s]\u001b[A\n",
      "100%|██████████| 80/80 [00:00<00:00, 169.19it/s]\u001b[A\n",
      " 24%|██▍       | 267/1123 [04:13<13:03,  1.09it/s]"
     ]
    },
    {
     "name": "stdout",
     "output_type": "stream",
     "text": [
      "/home/jiang/projects/SubtleGAN/data/brats2021/train/BraTS2021_00574\n"
     ]
    },
    {
     "name": "stderr",
     "output_type": "stream",
     "text": [
      "\n",
      "  0%|          | 0/80 [00:00<?, ?it/s]\u001b[A\n",
      " 40%|████      | 32/80 [00:00<00:00, 311.35it/s]\u001b[A\n",
      "100%|██████████| 80/80 [00:00<00:00, 279.65it/s]\u001b[A\n",
      " 24%|██▍       | 268/1123 [04:14<14:19,  1.01s/it]"
     ]
    },
    {
     "name": "stdout",
     "output_type": "stream",
     "text": [
      "/home/jiang/projects/SubtleGAN/data/brats2021/train/BraTS2021_01242\n"
     ]
    },
    {
     "name": "stderr",
     "output_type": "stream",
     "text": [
      "\n",
      "  0%|          | 0/80 [00:00<?, ?it/s]\u001b[A\n",
      " 25%|██▌       | 20/80 [00:00<00:00, 188.43it/s]\u001b[A\n",
      " 49%|████▉     | 39/80 [00:00<00:00, 177.18it/s]\u001b[A\n",
      " 71%|███████▏  | 57/80 [00:00<00:00, 176.82it/s]\u001b[A\n",
      "100%|██████████| 80/80 [00:00<00:00, 173.54it/s]\u001b[A\n",
      " 24%|██▍       | 269/1123 [04:15<13:54,  1.02it/s]"
     ]
    },
    {
     "name": "stdout",
     "output_type": "stream",
     "text": [
      "/home/jiang/projects/SubtleGAN/data/brats2021/train/BraTS2021_01390\n"
     ]
    },
    {
     "name": "stderr",
     "output_type": "stream",
     "text": [
      "\n",
      "  0%|          | 0/80 [00:00<?, ?it/s]\u001b[A\n",
      " 26%|██▋       | 21/80 [00:00<00:00, 204.50it/s]\u001b[A\n",
      " 52%|█████▎    | 42/80 [00:00<00:00, 182.78it/s]\u001b[A\n",
      " 76%|███████▋  | 61/80 [00:00<00:00, 173.85it/s]\u001b[A\n",
      "100%|██████████| 80/80 [00:00<00:00, 173.68it/s]\u001b[A\n",
      " 24%|██▍       | 270/1123 [04:16<13:35,  1.05it/s]"
     ]
    },
    {
     "name": "stdout",
     "output_type": "stream",
     "text": [
      "/home/jiang/projects/SubtleGAN/data/brats2021/train/BraTS2021_00032\n"
     ]
    },
    {
     "name": "stderr",
     "output_type": "stream",
     "text": [
      "\n",
      "  0%|          | 0/80 [00:00<?, ?it/s]\u001b[A\n",
      " 22%|██▎       | 18/80 [00:00<00:00, 174.66it/s]\u001b[A\n",
      " 45%|████▌     | 36/80 [00:00<00:00, 165.50it/s]\u001b[A\n",
      " 66%|██████▋   | 53/80 [00:00<00:00, 163.83it/s]\u001b[A\n",
      "100%|██████████| 80/80 [00:00<00:00, 163.40it/s]\u001b[A\n",
      " 24%|██▍       | 271/1123 [04:17<13:11,  1.08it/s]"
     ]
    },
    {
     "name": "stdout",
     "output_type": "stream",
     "text": [
      "/home/jiang/projects/SubtleGAN/data/brats2021/train/BraTS2021_00559\n"
     ]
    },
    {
     "name": "stderr",
     "output_type": "stream",
     "text": [
      "\n",
      "  0%|          | 0/80 [00:00<?, ?it/s]\u001b[A\n",
      " 24%|██▍       | 19/80 [00:00<00:00, 183.86it/s]\u001b[A\n",
      " 48%|████▊     | 38/80 [00:00<00:00, 173.67it/s]\u001b[A\n",
      " 70%|███████   | 56/80 [00:00<00:00, 167.27it/s]\u001b[A\n",
      "100%|██████████| 80/80 [00:00<00:00, 167.72it/s]\u001b[A\n",
      " 24%|██▍       | 272/1123 [04:18<12:47,  1.11it/s]"
     ]
    },
    {
     "name": "stdout",
     "output_type": "stream",
     "text": [
      "/home/jiang/projects/SubtleGAN/data/brats2021/train/BraTS2021_01137\n"
     ]
    },
    {
     "name": "stderr",
     "output_type": "stream",
     "text": [
      "\n",
      "  0%|          | 0/80 [00:00<?, ?it/s]\u001b[A\n",
      " 24%|██▍       | 19/80 [00:00<00:00, 184.87it/s]\u001b[A\n",
      " 48%|████▊     | 38/80 [00:00<00:00, 173.19it/s]\u001b[A\n",
      " 71%|███████▏  | 57/80 [00:00<00:00, 180.09it/s]\u001b[A\n",
      "100%|██████████| 80/80 [00:00<00:00, 175.94it/s]\u001b[A\n",
      " 24%|██▍       | 273/1123 [04:19<12:48,  1.11it/s]"
     ]
    },
    {
     "name": "stdout",
     "output_type": "stream",
     "text": [
      "/home/jiang/projects/SubtleGAN/data/brats2021/train/BraTS2021_01383\n"
     ]
    },
    {
     "name": "stderr",
     "output_type": "stream",
     "text": [
      "\n",
      "  0%|          | 0/80 [00:00<?, ?it/s]\u001b[A\n",
      " 22%|██▎       | 18/80 [00:00<00:00, 168.04it/s]\u001b[A\n",
      " 44%|████▍     | 35/80 [00:00<00:00, 160.26it/s]\u001b[A\n",
      " 65%|██████▌   | 52/80 [00:00<00:00, 163.38it/s]\u001b[A\n",
      "100%|██████████| 80/80 [00:00<00:00, 165.40it/s]\u001b[A\n",
      " 24%|██▍       | 274/1123 [04:20<12:57,  1.09it/s]"
     ]
    },
    {
     "name": "stdout",
     "output_type": "stream",
     "text": [
      "/home/jiang/projects/SubtleGAN/data/brats2021/train/BraTS2021_01225\n"
     ]
    },
    {
     "name": "stderr",
     "output_type": "stream",
     "text": [
      "\n",
      "  0%|          | 0/80 [00:00<?, ?it/s]\u001b[A\n",
      " 25%|██▌       | 20/80 [00:00<00:00, 194.78it/s]\u001b[A\n",
      " 50%|█████     | 40/80 [00:00<00:00, 174.39it/s]\u001b[A\n",
      " 72%|███████▎  | 58/80 [00:00<00:00, 168.26it/s]\u001b[A\n",
      "100%|██████████| 80/80 [00:00<00:00, 167.41it/s]\u001b[A\n",
      " 24%|██▍       | 275/1123 [04:21<13:00,  1.09it/s]"
     ]
    },
    {
     "name": "stdout",
     "output_type": "stream",
     "text": [
      "/home/jiang/projects/SubtleGAN/data/brats2021/train/BraTS2021_01250\n"
     ]
    },
    {
     "name": "stderr",
     "output_type": "stream",
     "text": [
      "\n",
      "  0%|          | 0/80 [00:00<?, ?it/s]\u001b[A\n",
      " 25%|██▌       | 20/80 [00:00<00:00, 194.20it/s]\u001b[A\n",
      " 50%|█████     | 40/80 [00:00<00:00, 176.96it/s]\u001b[A\n",
      " 76%|███████▋  | 61/80 [00:00<00:00, 187.03it/s]\u001b[A\n",
      "100%|██████████| 80/80 [00:00<00:00, 179.19it/s]\u001b[A\n",
      " 25%|██▍       | 276/1123 [04:22<12:53,  1.10it/s]"
     ]
    },
    {
     "name": "stdout",
     "output_type": "stream",
     "text": [
      "/home/jiang/projects/SubtleGAN/data/brats2021/train/BraTS2021_01468\n"
     ]
    },
    {
     "name": "stderr",
     "output_type": "stream",
     "text": [
      "\n",
      "  0%|          | 0/80 [00:00<?, ?it/s]\u001b[A\n",
      " 24%|██▍       | 19/80 [00:00<00:00, 182.88it/s]\u001b[A\n",
      " 48%|████▊     | 38/80 [00:00<00:00, 172.81it/s]\u001b[A\n",
      " 70%|███████   | 56/80 [00:00<00:00, 169.02it/s]\u001b[A\n",
      "100%|██████████| 80/80 [00:00<00:00, 170.86it/s]\u001b[A\n",
      " 25%|██▍       | 277/1123 [04:22<12:52,  1.09it/s]"
     ]
    },
    {
     "name": "stdout",
     "output_type": "stream",
     "text": [
      "/home/jiang/projects/SubtleGAN/data/brats2021/train/BraTS2021_01488\n"
     ]
    },
    {
     "name": "stderr",
     "output_type": "stream",
     "text": [
      "\n",
      "  0%|          | 0/80 [00:00<?, ?it/s]\u001b[A\n",
      " 26%|██▋       | 21/80 [00:00<00:00, 207.95it/s]\u001b[A\n",
      " 52%|█████▎    | 42/80 [00:00<00:00, 181.60it/s]\u001b[A\n",
      " 76%|███████▋  | 61/80 [00:00<00:00, 174.62it/s]\u001b[A\n",
      "100%|██████████| 80/80 [00:00<00:00, 175.05it/s]\u001b[A\n",
      " 25%|██▍       | 278/1123 [04:23<12:48,  1.10it/s]"
     ]
    },
    {
     "name": "stdout",
     "output_type": "stream",
     "text": [
      "/home/jiang/projects/SubtleGAN/data/brats2021/train/BraTS2021_00026\n"
     ]
    },
    {
     "name": "stderr",
     "output_type": "stream",
     "text": [
      "\n",
      "  0%|          | 0/80 [00:00<?, ?it/s]\u001b[A\n",
      " 24%|██▍       | 19/80 [00:00<00:00, 180.45it/s]\u001b[A\n",
      " 48%|████▊     | 38/80 [00:00<00:00, 172.87it/s]\u001b[A\n",
      " 70%|███████   | 56/80 [00:00<00:00, 168.00it/s]\u001b[A\n",
      "100%|██████████| 80/80 [00:00<00:00, 172.67it/s]\u001b[A\n",
      " 25%|██▍       | 279/1123 [04:24<12:34,  1.12it/s]"
     ]
    },
    {
     "name": "stdout",
     "output_type": "stream",
     "text": [
      "/home/jiang/projects/SubtleGAN/data/brats2021/train/BraTS2021_00261\n"
     ]
    },
    {
     "name": "stderr",
     "output_type": "stream",
     "text": [
      "\n",
      "  0%|          | 0/80 [00:00<?, ?it/s]\u001b[A\n",
      " 21%|██▏       | 17/80 [00:00<00:00, 166.07it/s]\u001b[A\n",
      " 42%|████▎     | 34/80 [00:00<00:00, 160.40it/s]\u001b[A\n",
      " 64%|██████▍   | 51/80 [00:00<00:00, 163.63it/s]\u001b[A\n",
      "100%|██████████| 80/80 [00:00<00:00, 166.39it/s]\u001b[A\n",
      " 25%|██▍       | 280/1123 [04:25<12:40,  1.11it/s]"
     ]
    },
    {
     "name": "stdout",
     "output_type": "stream",
     "text": [
      "/home/jiang/projects/SubtleGAN/data/brats2021/train/BraTS2021_00389\n"
     ]
    },
    {
     "name": "stderr",
     "output_type": "stream",
     "text": [
      "\n",
      "  0%|          | 0/80 [00:00<?, ?it/s]\u001b[A\n",
      " 28%|██▊       | 22/80 [00:00<00:00, 218.11it/s]\u001b[A\n",
      " 55%|█████▌    | 44/80 [00:00<00:00, 183.10it/s]\u001b[A\n",
      "100%|██████████| 80/80 [00:00<00:00, 178.90it/s]\u001b[A\n",
      " 25%|██▌       | 281/1123 [04:26<12:39,  1.11it/s]"
     ]
    },
    {
     "name": "stdout",
     "output_type": "stream",
     "text": [
      "/home/jiang/projects/SubtleGAN/data/brats2021/train/BraTS2021_01356\n"
     ]
    },
    {
     "name": "stderr",
     "output_type": "stream",
     "text": [
      "\n",
      "  0%|          | 0/80 [00:00<?, ?it/s]\u001b[A\n",
      " 24%|██▍       | 19/80 [00:00<00:00, 184.66it/s]\u001b[A\n",
      " 48%|████▊     | 38/80 [00:00<00:00, 177.09it/s]\u001b[A\n",
      " 70%|███████   | 56/80 [00:00<00:00, 173.29it/s]\u001b[A\n",
      "100%|██████████| 80/80 [00:00<00:00, 171.65it/s]\u001b[A\n",
      " 25%|██▌       | 282/1123 [04:27<12:44,  1.10it/s]"
     ]
    },
    {
     "name": "stdout",
     "output_type": "stream",
     "text": [
      "/home/jiang/projects/SubtleGAN/data/brats2021/train/BraTS2021_01595\n"
     ]
    },
    {
     "name": "stderr",
     "output_type": "stream",
     "text": [
      "\n",
      "  0%|          | 0/80 [00:00<?, ?it/s]\u001b[A\n",
      " 39%|███▉      | 31/80 [00:00<00:00, 300.06it/s]\u001b[A\n",
      "100%|██████████| 80/80 [00:00<00:00, 275.30it/s]\u001b[A\n",
      " 25%|██▌       | 283/1123 [04:28<13:50,  1.01it/s]"
     ]
    },
    {
     "name": "stdout",
     "output_type": "stream",
     "text": [
      "/home/jiang/projects/SubtleGAN/data/brats2021/train/BraTS2021_01160\n"
     ]
    },
    {
     "name": "stderr",
     "output_type": "stream",
     "text": [
      "\n",
      "  0%|          | 0/80 [00:00<?, ?it/s]\u001b[A\n",
      " 25%|██▌       | 20/80 [00:00<00:00, 196.82it/s]\u001b[A\n",
      " 50%|█████     | 40/80 [00:00<00:00, 175.02it/s]\u001b[A\n",
      " 72%|███████▎  | 58/80 [00:00<00:00, 169.66it/s]\u001b[A\n",
      "100%|██████████| 80/80 [00:00<00:00, 169.73it/s]\u001b[A\n",
      " 25%|██▌       | 284/1123 [04:29<13:22,  1.05it/s]"
     ]
    },
    {
     "name": "stdout",
     "output_type": "stream",
     "text": [
      "/home/jiang/projects/SubtleGAN/data/brats2021/train/BraTS2021_00288\n"
     ]
    },
    {
     "name": "stderr",
     "output_type": "stream",
     "text": [
      "\n",
      "  0%|          | 0/80 [00:00<?, ?it/s]\u001b[A\n",
      " 24%|██▍       | 19/80 [00:00<00:00, 184.49it/s]\u001b[A\n",
      " 48%|████▊     | 38/80 [00:00<00:00, 175.38it/s]\u001b[A\n",
      " 70%|███████   | 56/80 [00:00<00:00, 170.58it/s]\u001b[A\n",
      "100%|██████████| 80/80 [00:00<00:00, 178.05it/s]\u001b[A\n",
      " 25%|██▌       | 285/1123 [04:30<13:09,  1.06it/s]"
     ]
    },
    {
     "name": "stdout",
     "output_type": "stream",
     "text": [
      "/home/jiang/projects/SubtleGAN/data/brats2021/train/BraTS2021_01143\n"
     ]
    },
    {
     "name": "stderr",
     "output_type": "stream",
     "text": [
      "\n",
      "  0%|          | 0/80 [00:00<?, ?it/s]\u001b[A\n",
      " 22%|██▎       | 18/80 [00:00<00:00, 170.84it/s]\u001b[A\n",
      " 45%|████▌     | 36/80 [00:00<00:00, 167.03it/s]\u001b[A\n",
      " 66%|██████▋   | 53/80 [00:00<00:00, 167.00it/s]\u001b[A\n",
      "100%|██████████| 80/80 [00:00<00:00, 166.71it/s]\u001b[A\n",
      " 25%|██▌       | 286/1123 [04:31<13:05,  1.07it/s]"
     ]
    },
    {
     "name": "stdout",
     "output_type": "stream",
     "text": [
      "/home/jiang/projects/SubtleGAN/data/brats2021/train/BraTS2021_01002\n"
     ]
    },
    {
     "name": "stderr",
     "output_type": "stream",
     "text": [
      "\n",
      "  0%|          | 0/80 [00:00<?, ?it/s]\u001b[A\n",
      " 28%|██▊       | 22/80 [00:00<00:00, 213.16it/s]\u001b[A\n",
      " 55%|█████▌    | 44/80 [00:00<00:00, 183.59it/s]\u001b[A\n",
      "100%|██████████| 80/80 [00:00<00:00, 179.26it/s]\u001b[A\n",
      " 26%|██▌       | 287/1123 [04:32<12:54,  1.08it/s]"
     ]
    },
    {
     "name": "stdout",
     "output_type": "stream",
     "text": [
      "/home/jiang/projects/SubtleGAN/data/brats2021/train/BraTS2021_00687\n"
     ]
    },
    {
     "name": "stderr",
     "output_type": "stream",
     "text": [
      "\n",
      "  0%|          | 0/80 [00:00<?, ?it/s]\u001b[A\n",
      " 24%|██▍       | 19/80 [00:00<00:00, 182.21it/s]\u001b[A\n",
      " 48%|████▊     | 38/80 [00:00<00:00, 175.92it/s]\u001b[A\n",
      " 70%|███████   | 56/80 [00:00<00:00, 172.30it/s]\u001b[A\n",
      "100%|██████████| 80/80 [00:00<00:00, 170.56it/s]\u001b[A\n",
      " 26%|██▌       | 288/1123 [04:33<12:33,  1.11it/s]"
     ]
    },
    {
     "name": "stdout",
     "output_type": "stream",
     "text": [
      "/home/jiang/projects/SubtleGAN/data/brats2021/train/BraTS2021_01149\n"
     ]
    },
    {
     "name": "stderr",
     "output_type": "stream",
     "text": [
      "\n",
      "  0%|          | 0/80 [00:00<?, ?it/s]\u001b[A\n",
      " 24%|██▍       | 19/80 [00:00<00:00, 189.52it/s]\u001b[A\n",
      " 48%|████▊     | 38/80 [00:00<00:00, 173.90it/s]\u001b[A\n",
      " 70%|███████   | 56/80 [00:00<00:00, 170.92it/s]\u001b[A\n",
      "100%|██████████| 80/80 [00:00<00:00, 170.14it/s]\u001b[A\n",
      " 26%|██▌       | 289/1123 [04:33<12:33,  1.11it/s]"
     ]
    },
    {
     "name": "stdout",
     "output_type": "stream",
     "text": [
      "/home/jiang/projects/SubtleGAN/data/brats2021/train/BraTS2021_00514\n"
     ]
    },
    {
     "name": "stderr",
     "output_type": "stream",
     "text": [
      "\n",
      "  0%|          | 0/80 [00:00<?, ?it/s]\u001b[A\n",
      " 24%|██▍       | 19/80 [00:00<00:00, 180.67it/s]\u001b[A\n",
      " 48%|████▊     | 38/80 [00:00<00:00, 170.65it/s]\u001b[A\n",
      " 72%|███████▎  | 58/80 [00:00<00:00, 182.54it/s]\u001b[A\n",
      "100%|██████████| 80/80 [00:00<00:00, 174.31it/s]\u001b[A\n",
      " 26%|██▌       | 290/1123 [04:34<12:15,  1.13it/s]"
     ]
    },
    {
     "name": "stdout",
     "output_type": "stream",
     "text": [
      "/home/jiang/projects/SubtleGAN/data/brats2021/train/BraTS2021_01080\n"
     ]
    },
    {
     "name": "stderr",
     "output_type": "stream",
     "text": [
      "\n",
      "  0%|          | 0/80 [00:00<?, ?it/s]\u001b[A\n",
      " 22%|██▎       | 18/80 [00:00<00:00, 174.45it/s]\u001b[A\n",
      " 45%|████▌     | 36/80 [00:00<00:00, 167.22it/s]\u001b[A\n",
      " 68%|██████▊   | 54/80 [00:00<00:00, 169.94it/s]\u001b[A\n",
      "100%|██████████| 80/80 [00:00<00:00, 167.18it/s]\u001b[A\n",
      " 26%|██▌       | 291/1123 [04:35<12:29,  1.11it/s]"
     ]
    },
    {
     "name": "stdout",
     "output_type": "stream",
     "text": [
      "/home/jiang/projects/SubtleGAN/data/brats2021/train/BraTS2021_00607\n"
     ]
    },
    {
     "name": "stderr",
     "output_type": "stream",
     "text": [
      "\n",
      "  0%|          | 0/80 [00:00<?, ?it/s]\u001b[A\n",
      " 26%|██▋       | 21/80 [00:00<00:00, 197.76it/s]\u001b[A\n",
      " 51%|█████▏    | 41/80 [00:00<00:00, 169.41it/s]\u001b[A\n",
      " 74%|███████▍  | 59/80 [00:00<00:00, 165.52it/s]\u001b[A\n",
      "100%|██████████| 80/80 [00:00<00:00, 167.60it/s]\u001b[A\n",
      " 26%|██▌       | 292/1123 [04:36<12:17,  1.13it/s]"
     ]
    },
    {
     "name": "stdout",
     "output_type": "stream",
     "text": [
      "/home/jiang/projects/SubtleGAN/data/brats2021/train/BraTS2021_01322\n"
     ]
    },
    {
     "name": "stderr",
     "output_type": "stream",
     "text": [
      "\n",
      "  0%|          | 0/80 [00:00<?, ?it/s]\u001b[A\n",
      " 24%|██▍       | 19/80 [00:00<00:00, 185.21it/s]\u001b[A\n",
      " 48%|████▊     | 38/80 [00:00<00:00, 176.15it/s]\u001b[A\n",
      " 70%|███████   | 56/80 [00:00<00:00, 170.78it/s]\u001b[A\n",
      "100%|██████████| 80/80 [00:00<00:00, 177.67it/s]\u001b[A\n",
      " 26%|██▌       | 293/1123 [04:37<12:20,  1.12it/s]"
     ]
    },
    {
     "name": "stdout",
     "output_type": "stream",
     "text": [
      "/home/jiang/projects/SubtleGAN/data/brats2021/train/BraTS2021_00049\n"
     ]
    },
    {
     "name": "stderr",
     "output_type": "stream",
     "text": [
      "\n",
      "  0%|          | 0/80 [00:00<?, ?it/s]\u001b[A\n",
      " 24%|██▍       | 19/80 [00:00<00:00, 183.08it/s]\u001b[A\n",
      " 48%|████▊     | 38/80 [00:00<00:00, 172.23it/s]\u001b[A\n",
      " 70%|███████   | 56/80 [00:00<00:00, 169.78it/s]\u001b[A\n",
      "100%|██████████| 80/80 [00:00<00:00, 168.58it/s]\u001b[A\n",
      " 26%|██▌       | 294/1123 [04:38<12:07,  1.14it/s]"
     ]
    },
    {
     "name": "stdout",
     "output_type": "stream",
     "text": [
      "/home/jiang/projects/SubtleGAN/data/brats2021/train/BraTS2021_00839\n"
     ]
    },
    {
     "name": "stderr",
     "output_type": "stream",
     "text": [
      "\n",
      "  0%|          | 0/80 [00:00<?, ?it/s]\u001b[A\n",
      " 28%|██▊       | 22/80 [00:00<00:00, 210.34it/s]\u001b[A\n",
      " 55%|█████▌    | 44/80 [00:00<00:00, 179.77it/s]\u001b[A\n",
      "100%|██████████| 80/80 [00:00<00:00, 174.24it/s]\u001b[A\n",
      " 26%|██▋       | 295/1123 [04:39<12:15,  1.13it/s]"
     ]
    },
    {
     "name": "stdout",
     "output_type": "stream",
     "text": [
      "/home/jiang/projects/SubtleGAN/data/brats2021/train/BraTS2021_01539\n"
     ]
    },
    {
     "name": "stderr",
     "output_type": "stream",
     "text": [
      "\n",
      "  0%|          | 0/80 [00:00<?, ?it/s]\u001b[A\n",
      " 40%|████      | 32/80 [00:00<00:00, 311.96it/s]\u001b[A\n",
      "100%|██████████| 80/80 [00:00<00:00, 232.51it/s]\u001b[A\n",
      " 26%|██▋       | 296/1123 [04:40<13:34,  1.01it/s]"
     ]
    },
    {
     "name": "stdout",
     "output_type": "stream",
     "text": [
      "/home/jiang/projects/SubtleGAN/data/brats2021/train/BraTS2021_01446\n"
     ]
    },
    {
     "name": "stderr",
     "output_type": "stream",
     "text": [
      "\n",
      "  0%|          | 0/80 [00:00<?, ?it/s]\u001b[A\n",
      " 22%|██▎       | 18/80 [00:00<00:00, 178.82it/s]\u001b[A\n",
      " 45%|████▌     | 36/80 [00:00<00:00, 173.77it/s]\u001b[A\n",
      " 68%|██████▊   | 54/80 [00:00<00:00, 172.14it/s]\u001b[A\n",
      "100%|██████████| 80/80 [00:00<00:00, 171.64it/s]\u001b[A\n",
      " 26%|██▋       | 297/1123 [04:41<13:15,  1.04it/s]"
     ]
    },
    {
     "name": "stdout",
     "output_type": "stream",
     "text": [
      "/home/jiang/projects/SubtleGAN/data/brats2021/train/BraTS2021_00765\n"
     ]
    },
    {
     "name": "stderr",
     "output_type": "stream",
     "text": [
      "\n",
      "  0%|          | 0/80 [00:00<?, ?it/s]\u001b[A\n",
      " 26%|██▋       | 21/80 [00:00<00:00, 200.07it/s]\u001b[A\n",
      " 52%|█████▎    | 42/80 [00:00<00:00, 169.79it/s]\u001b[A\n",
      " 75%|███████▌  | 60/80 [00:00<00:00, 170.36it/s]\u001b[A\n",
      "100%|██████████| 80/80 [00:00<00:00, 171.86it/s]\u001b[A\n",
      " 27%|██▋       | 298/1123 [04:42<12:46,  1.08it/s]"
     ]
    },
    {
     "name": "stdout",
     "output_type": "stream",
     "text": [
      "/home/jiang/projects/SubtleGAN/data/brats2021/train/BraTS2021_00594\n"
     ]
    },
    {
     "name": "stderr",
     "output_type": "stream",
     "text": [
      "\n",
      "  0%|          | 0/80 [00:00<?, ?it/s]\u001b[A\n",
      " 38%|███▊      | 30/80 [00:00<00:00, 299.36it/s]\u001b[A\n",
      "100%|██████████| 80/80 [00:00<00:00, 293.46it/s]\u001b[A\n",
      " 27%|██▋       | 299/1123 [04:43<13:46,  1.00s/it]"
     ]
    },
    {
     "name": "stdout",
     "output_type": "stream",
     "text": [
      "/home/jiang/projects/SubtleGAN/data/brats2021/train/BraTS2021_00332\n"
     ]
    },
    {
     "name": "stderr",
     "output_type": "stream",
     "text": [
      "\n",
      "  0%|          | 0/80 [00:00<?, ?it/s]\u001b[A\n",
      " 24%|██▍       | 19/80 [00:00<00:00, 183.41it/s]\u001b[A\n",
      " 48%|████▊     | 38/80 [00:00<00:00, 174.62it/s]\u001b[A\n",
      " 70%|███████   | 56/80 [00:00<00:00, 172.60it/s]\u001b[A\n",
      "100%|██████████| 80/80 [00:00<00:00, 172.55it/s]\u001b[A\n",
      " 27%|██▋       | 300/1123 [04:44<13:20,  1.03it/s]"
     ]
    },
    {
     "name": "stdout",
     "output_type": "stream",
     "text": [
      "/home/jiang/projects/SubtleGAN/data/brats2021/train/BraTS2021_00705\n"
     ]
    },
    {
     "name": "stderr",
     "output_type": "stream",
     "text": [
      "\n",
      "  0%|          | 0/80 [00:00<?, ?it/s]\u001b[A\n",
      " 26%|██▋       | 21/80 [00:00<00:00, 197.70it/s]\u001b[A\n",
      " 51%|█████▏    | 41/80 [00:00<00:00, 179.32it/s]\u001b[A\n",
      " 75%|███████▌  | 60/80 [00:00<00:00, 174.22it/s]\u001b[A\n",
      "100%|██████████| 80/80 [00:00<00:00, 174.11it/s]\u001b[A\n",
      " 27%|██▋       | 301/1123 [04:45<12:50,  1.07it/s]"
     ]
    },
    {
     "name": "stdout",
     "output_type": "stream",
     "text": [
      "/home/jiang/projects/SubtleGAN/data/brats2021/train/BraTS2021_01024\n"
     ]
    },
    {
     "name": "stderr",
     "output_type": "stream",
     "text": [
      "\n",
      "  0%|          | 0/80 [00:00<?, ?it/s]\u001b[A\n",
      " 24%|██▍       | 19/80 [00:00<00:00, 185.68it/s]\u001b[A\n",
      " 48%|████▊     | 38/80 [00:00<00:00, 174.78it/s]\u001b[A\n",
      " 70%|███████   | 56/80 [00:00<00:00, 170.28it/s]\u001b[A\n",
      "100%|██████████| 80/80 [00:00<00:00, 177.31it/s]\u001b[A\n",
      " 27%|██▋       | 302/1123 [04:46<12:40,  1.08it/s]"
     ]
    },
    {
     "name": "stdout",
     "output_type": "stream",
     "text": [
      "/home/jiang/projects/SubtleGAN/data/brats2021/train/BraTS2021_00674\n"
     ]
    },
    {
     "name": "stderr",
     "output_type": "stream",
     "text": [
      "\n",
      "  0%|          | 0/80 [00:00<?, ?it/s]\u001b[A\n",
      " 24%|██▍       | 19/80 [00:00<00:00, 186.68it/s]\u001b[A\n",
      " 48%|████▊     | 38/80 [00:00<00:00, 175.39it/s]\u001b[A\n",
      " 70%|███████   | 56/80 [00:00<00:00, 172.71it/s]\u001b[A\n",
      "100%|██████████| 80/80 [00:00<00:00, 171.51it/s]\u001b[A\n",
      " 27%|██▋       | 303/1123 [04:46<12:19,  1.11it/s]"
     ]
    },
    {
     "name": "stdout",
     "output_type": "stream",
     "text": [
      "/home/jiang/projects/SubtleGAN/data/brats2021/train/BraTS2021_01386\n"
     ]
    },
    {
     "name": "stderr",
     "output_type": "stream",
     "text": [
      "\n",
      "  0%|          | 0/80 [00:00<?, ?it/s]\u001b[A\n",
      " 25%|██▌       | 20/80 [00:00<00:00, 195.65it/s]\u001b[A\n",
      " 50%|█████     | 40/80 [00:00<00:00, 134.83it/s]\u001b[A\n",
      " 72%|███████▎  | 58/80 [00:00<00:00, 148.96it/s]\u001b[A\n",
      "100%|██████████| 80/80 [00:00<00:00, 155.11it/s]\u001b[A\n",
      " 27%|██▋       | 304/1123 [04:47<12:38,  1.08it/s]"
     ]
    },
    {
     "name": "stdout",
     "output_type": "stream",
     "text": [
      "/home/jiang/projects/SubtleGAN/data/brats2021/train/BraTS2021_00158\n"
     ]
    },
    {
     "name": "stderr",
     "output_type": "stream",
     "text": [
      "\n",
      "  0%|          | 0/80 [00:00<?, ?it/s]\u001b[A\n",
      " 25%|██▌       | 20/80 [00:00<00:00, 190.26it/s]\u001b[A\n",
      " 50%|█████     | 40/80 [00:00<00:00, 182.14it/s]\u001b[A\n",
      " 74%|███████▍  | 59/80 [00:00<00:00, 179.97it/s]\u001b[A\n",
      "100%|██████████| 80/80 [00:00<00:00, 176.86it/s]\u001b[A\n",
      " 27%|██▋       | 305/1123 [04:48<12:30,  1.09it/s]"
     ]
    },
    {
     "name": "stdout",
     "output_type": "stream",
     "text": [
      "/home/jiang/projects/SubtleGAN/data/brats2021/train/BraTS2021_00350\n"
     ]
    },
    {
     "name": "stderr",
     "output_type": "stream",
     "text": [
      "\n",
      "  0%|          | 0/80 [00:00<?, ?it/s]\u001b[A\n",
      " 24%|██▍       | 19/80 [00:00<00:00, 188.56it/s]\u001b[A\n",
      " 48%|████▊     | 38/80 [00:00<00:00, 176.27it/s]\u001b[A\n",
      " 70%|███████   | 56/80 [00:00<00:00, 173.31it/s]\u001b[A\n",
      "100%|██████████| 80/80 [00:00<00:00, 171.71it/s]\u001b[A\n",
      " 27%|██▋       | 306/1123 [04:49<12:25,  1.10it/s]"
     ]
    },
    {
     "name": "stdout",
     "output_type": "stream",
     "text": [
      "/home/jiang/projects/SubtleGAN/data/brats2021/train/BraTS2021_01414\n"
     ]
    },
    {
     "name": "stderr",
     "output_type": "stream",
     "text": [
      "\n",
      "  0%|          | 0/80 [00:00<?, ?it/s]\u001b[A\n",
      " 24%|██▍       | 19/80 [00:00<00:00, 179.13it/s]\u001b[A\n",
      " 49%|████▉     | 39/80 [00:00<00:00, 190.89it/s]\u001b[A\n",
      " 74%|███████▍  | 59/80 [00:00<00:00, 179.90it/s]\u001b[A\n",
      "100%|██████████| 80/80 [00:00<00:00, 177.53it/s]\u001b[A\n",
      " 27%|██▋       | 307/1123 [04:50<12:21,  1.10it/s]"
     ]
    },
    {
     "name": "stdout",
     "output_type": "stream",
     "text": [
      "/home/jiang/projects/SubtleGAN/data/brats2021/train/BraTS2021_00640\n"
     ]
    },
    {
     "name": "stderr",
     "output_type": "stream",
     "text": [
      "\n",
      "  0%|          | 0/80 [00:00<?, ?it/s]\u001b[A\n",
      " 24%|██▍       | 19/80 [00:00<00:00, 185.89it/s]\u001b[A\n",
      " 48%|████▊     | 38/80 [00:00<00:00, 177.32it/s]\u001b[A\n",
      " 70%|███████   | 56/80 [00:00<00:00, 174.96it/s]\u001b[A\n",
      "100%|██████████| 80/80 [00:00<00:00, 174.26it/s]\u001b[A\n",
      " 27%|██▋       | 308/1123 [04:51<12:04,  1.12it/s]"
     ]
    },
    {
     "name": "stdout",
     "output_type": "stream",
     "text": [
      "/home/jiang/projects/SubtleGAN/data/brats2021/train/BraTS2021_01620\n"
     ]
    },
    {
     "name": "stderr",
     "output_type": "stream",
     "text": [
      "\n",
      "  0%|          | 0/80 [00:00<?, ?it/s]\u001b[A\n",
      " 36%|███▋      | 29/80 [00:00<00:00, 288.61it/s]\u001b[A\n",
      "100%|██████████| 80/80 [00:00<00:00, 262.66it/s]\u001b[A\n",
      " 28%|██▊       | 309/1123 [04:52<14:04,  1.04s/it]"
     ]
    },
    {
     "name": "stdout",
     "output_type": "stream",
     "text": [
      "/home/jiang/projects/SubtleGAN/data/brats2021/train/BraTS2021_01222\n"
     ]
    },
    {
     "name": "stderr",
     "output_type": "stream",
     "text": [
      "\n",
      "  0%|          | 0/80 [00:00<?, ?it/s]\u001b[A\n",
      " 19%|█▉        | 15/80 [00:00<00:00, 147.11it/s]\u001b[A\n",
      " 39%|███▉      | 31/80 [00:00<00:00, 150.60it/s]\u001b[A\n",
      " 66%|██████▋   | 53/80 [00:00<00:00, 180.74it/s]\u001b[A\n",
      "100%|██████████| 80/80 [00:00<00:00, 188.76it/s]\u001b[A\n",
      " 28%|██▊       | 310/1123 [04:54<14:49,  1.09s/it]"
     ]
    },
    {
     "name": "stdout",
     "output_type": "stream",
     "text": [
      "/home/jiang/projects/SubtleGAN/data/brats2021/train/BraTS2021_00581\n"
     ]
    },
    {
     "name": "stderr",
     "output_type": "stream",
     "text": [
      "\n",
      "  0%|          | 0/80 [00:00<?, ?it/s]\u001b[A\n",
      " 39%|███▉      | 31/80 [00:00<00:00, 303.74it/s]\u001b[A\n",
      "100%|██████████| 80/80 [00:00<00:00, 279.42it/s]\u001b[A\n",
      " 28%|██▊       | 311/1123 [04:55<14:53,  1.10s/it]"
     ]
    },
    {
     "name": "stdout",
     "output_type": "stream",
     "text": [
      "/home/jiang/projects/SubtleGAN/data/brats2021/train/BraTS2021_00558\n"
     ]
    },
    {
     "name": "stderr",
     "output_type": "stream",
     "text": [
      "\n",
      "  0%|          | 0/80 [00:00<?, ?it/s]\u001b[A\n",
      " 26%|██▋       | 21/80 [00:00<00:00, 202.86it/s]\u001b[A\n",
      " 52%|█████▎    | 42/80 [00:00<00:00, 192.97it/s]\u001b[A\n",
      "100%|██████████| 80/80 [00:00<00:00, 211.52it/s]\u001b[A\n",
      " 28%|██▊       | 312/1123 [04:55<13:34,  1.00s/it]"
     ]
    },
    {
     "name": "stdout",
     "output_type": "stream",
     "text": [
      "/home/jiang/projects/SubtleGAN/data/brats2021/train/BraTS2021_01580\n"
     ]
    },
    {
     "name": "stderr",
     "output_type": "stream",
     "text": [
      "\n",
      "  0%|          | 0/80 [00:00<?, ?it/s]\u001b[A\n",
      " 25%|██▌       | 20/80 [00:00<00:00, 199.34it/s]\u001b[A\n",
      " 61%|██████▏   | 49/80 [00:00<00:00, 252.49it/s]\u001b[A\n",
      "100%|██████████| 80/80 [00:00<00:00, 240.71it/s]\u001b[A\n",
      " 28%|██▊       | 313/1123 [04:57<14:25,  1.07s/it]"
     ]
    },
    {
     "name": "stdout",
     "output_type": "stream",
     "text": [
      "/home/jiang/projects/SubtleGAN/data/brats2021/train/BraTS2021_01662\n"
     ]
    },
    {
     "name": "stderr",
     "output_type": "stream",
     "text": [
      "\n",
      "  0%|          | 0/80 [00:00<?, ?it/s]\u001b[A\n",
      " 30%|███       | 24/80 [00:00<00:00, 237.26it/s]\u001b[A\n",
      " 61%|██████▏   | 49/80 [00:00<00:00, 240.64it/s]\u001b[A\n",
      "100%|██████████| 80/80 [00:00<00:00, 238.16it/s]\u001b[A\n",
      " 28%|██▊       | 314/1123 [04:57<13:19,  1.01it/s]"
     ]
    },
    {
     "name": "stdout",
     "output_type": "stream",
     "text": [
      "/home/jiang/projects/SubtleGAN/data/brats2021/train/BraTS2021_01552\n"
     ]
    },
    {
     "name": "stderr",
     "output_type": "stream",
     "text": [
      "\n",
      "  0%|          | 0/80 [00:00<?, ?it/s]\u001b[A\n",
      " 36%|███▋      | 29/80 [00:00<00:00, 281.22it/s]\u001b[A\n",
      "100%|██████████| 80/80 [00:00<00:00, 284.15it/s]\u001b[A\n",
      " 28%|██▊       | 315/1123 [04:59<14:00,  1.04s/it]"
     ]
    },
    {
     "name": "stdout",
     "output_type": "stream",
     "text": [
      "/home/jiang/projects/SubtleGAN/data/brats2021/train/BraTS2021_01477\n"
     ]
    },
    {
     "name": "stderr",
     "output_type": "stream",
     "text": [
      "\n",
      "  0%|          | 0/80 [00:00<?, ?it/s]\u001b[A\n",
      " 35%|███▌      | 28/80 [00:00<00:00, 274.25it/s]\u001b[A\n",
      "100%|██████████| 80/80 [00:00<00:00, 284.35it/s]\u001b[A\n",
      " 28%|██▊       | 316/1123 [04:59<12:44,  1.06it/s]"
     ]
    },
    {
     "name": "stdout",
     "output_type": "stream",
     "text": [
      "/home/jiang/projects/SubtleGAN/data/brats2021/train/BraTS2021_01022\n"
     ]
    },
    {
     "name": "stderr",
     "output_type": "stream",
     "text": [
      "\n",
      "  0%|          | 0/80 [00:00<?, ?it/s]\u001b[A\n",
      " 38%|███▊      | 30/80 [00:00<00:00, 293.68it/s]\u001b[A\n",
      "100%|██████████| 80/80 [00:00<00:00, 287.10it/s]\u001b[A\n",
      " 28%|██▊       | 317/1123 [05:00<11:46,  1.14it/s]"
     ]
    },
    {
     "name": "stdout",
     "output_type": "stream",
     "text": [
      "/home/jiang/projects/SubtleGAN/data/brats2021/train/BraTS2021_00294\n"
     ]
    },
    {
     "name": "stderr",
     "output_type": "stream",
     "text": [
      "\n",
      "  0%|          | 0/80 [00:00<?, ?it/s]\u001b[A\n",
      " 39%|███▉      | 31/80 [00:00<00:00, 300.01it/s]\u001b[A\n",
      "100%|██████████| 80/80 [00:00<00:00, 286.95it/s]\u001b[A\n",
      " 28%|██▊       | 318/1123 [05:01<11:08,  1.20it/s]"
     ]
    },
    {
     "name": "stdout",
     "output_type": "stream",
     "text": [
      "/home/jiang/projects/SubtleGAN/data/brats2021/train/BraTS2021_00456\n"
     ]
    },
    {
     "name": "stderr",
     "output_type": "stream",
     "text": [
      "\n",
      "  0%|          | 0/80 [00:00<?, ?it/s]\u001b[A\n",
      " 36%|███▋      | 29/80 [00:00<00:00, 289.82it/s]\u001b[A\n",
      "100%|██████████| 80/80 [00:00<00:00, 292.96it/s]\u001b[A\n",
      " 28%|██▊       | 319/1123 [05:02<10:37,  1.26it/s]"
     ]
    },
    {
     "name": "stdout",
     "output_type": "stream",
     "text": [
      "/home/jiang/projects/SubtleGAN/data/brats2021/train/BraTS2021_01068\n"
     ]
    },
    {
     "name": "stderr",
     "output_type": "stream",
     "text": [
      "\n",
      "  0%|          | 0/80 [00:00<?, ?it/s]\u001b[A\n",
      " 38%|███▊      | 30/80 [00:00<00:00, 291.01it/s]\u001b[A\n",
      "100%|██████████| 80/80 [00:00<00:00, 294.90it/s]\u001b[A\n",
      " 28%|██▊       | 320/1123 [05:02<10:17,  1.30it/s]"
     ]
    },
    {
     "name": "stdout",
     "output_type": "stream",
     "text": [
      "/home/jiang/projects/SubtleGAN/data/brats2021/train/BraTS2021_00425\n"
     ]
    },
    {
     "name": "stderr",
     "output_type": "stream",
     "text": [
      "\n",
      "  0%|          | 0/80 [00:00<?, ?it/s]\u001b[A\n",
      " 38%|███▊      | 30/80 [00:00<00:00, 295.46it/s]\u001b[A\n",
      "100%|██████████| 80/80 [00:00<00:00, 289.66it/s]\u001b[A\n",
      " 29%|██▊       | 321/1123 [05:03<10:03,  1.33it/s]"
     ]
    },
    {
     "name": "stdout",
     "output_type": "stream",
     "text": [
      "/home/jiang/projects/SubtleGAN/data/brats2021/train/BraTS2021_00657\n"
     ]
    },
    {
     "name": "stderr",
     "output_type": "stream",
     "text": [
      "\n",
      "  0%|          | 0/80 [00:00<?, ?it/s]\u001b[A\n",
      " 39%|███▉      | 31/80 [00:00<00:00, 306.92it/s]\u001b[A\n",
      "100%|██████████| 80/80 [00:00<00:00, 292.95it/s]\u001b[A\n",
      " 29%|██▊       | 322/1123 [05:04<09:34,  1.39it/s]"
     ]
    },
    {
     "name": "stdout",
     "output_type": "stream",
     "text": [
      "/home/jiang/projects/SubtleGAN/data/brats2021/train/BraTS2021_00234\n"
     ]
    },
    {
     "name": "stderr",
     "output_type": "stream",
     "text": [
      "\n",
      "  0%|          | 0/80 [00:00<?, ?it/s]\u001b[A\n",
      " 39%|███▉      | 31/80 [00:00<00:00, 300.87it/s]\u001b[A\n",
      "100%|██████████| 80/80 [00:00<00:00, 293.40it/s]\u001b[A\n",
      " 29%|██▉       | 323/1123 [05:04<09:34,  1.39it/s]"
     ]
    },
    {
     "name": "stdout",
     "output_type": "stream",
     "text": [
      "/home/jiang/projects/SubtleGAN/data/brats2021/train/BraTS2021_00457\n"
     ]
    },
    {
     "name": "stderr",
     "output_type": "stream",
     "text": [
      "\n",
      "  0%|          | 0/80 [00:00<?, ?it/s]\u001b[A\n",
      " 36%|███▋      | 29/80 [00:00<00:00, 288.71it/s]\u001b[A\n",
      "100%|██████████| 80/80 [00:00<00:00, 289.59it/s]\u001b[A\n",
      " 29%|██▉       | 324/1123 [05:05<09:31,  1.40it/s]"
     ]
    },
    {
     "name": "stdout",
     "output_type": "stream",
     "text": [
      "/home/jiang/projects/SubtleGAN/data/brats2021/train/BraTS2021_00113\n"
     ]
    },
    {
     "name": "stderr",
     "output_type": "stream",
     "text": [
      "\n",
      "  0%|          | 0/80 [00:00<?, ?it/s]\u001b[A\n",
      " 38%|███▊      | 30/80 [00:00<00:00, 292.93it/s]\u001b[A\n",
      "100%|██████████| 80/80 [00:00<00:00, 292.86it/s]\u001b[A\n",
      " 29%|██▉       | 325/1123 [05:06<09:28,  1.40it/s]"
     ]
    },
    {
     "name": "stdout",
     "output_type": "stream",
     "text": [
      "/home/jiang/projects/SubtleGAN/data/brats2021/train/BraTS2021_01333\n"
     ]
    },
    {
     "name": "stderr",
     "output_type": "stream",
     "text": [
      "\n",
      "  0%|          | 0/80 [00:00<?, ?it/s]\u001b[A\n",
      " 38%|███▊      | 30/80 [00:00<00:00, 293.79it/s]\u001b[A\n",
      "100%|██████████| 80/80 [00:00<00:00, 292.54it/s]\u001b[A\n",
      " 29%|██▉       | 326/1123 [05:06<09:22,  1.42it/s]"
     ]
    },
    {
     "name": "stdout",
     "output_type": "stream",
     "text": [
      "/home/jiang/projects/SubtleGAN/data/brats2021/train/BraTS2021_00423\n"
     ]
    },
    {
     "name": "stderr",
     "output_type": "stream",
     "text": [
      "\n",
      "  0%|          | 0/80 [00:00<?, ?it/s]\u001b[A\n",
      " 38%|███▊      | 30/80 [00:00<00:00, 298.46it/s]\u001b[A\n",
      "100%|██████████| 80/80 [00:00<00:00, 287.75it/s]\u001b[A\n",
      " 29%|██▉       | 327/1123 [05:07<09:25,  1.41it/s]"
     ]
    },
    {
     "name": "stdout",
     "output_type": "stream",
     "text": [
      "/home/jiang/projects/SubtleGAN/data/brats2021/train/BraTS2021_00188\n"
     ]
    },
    {
     "name": "stderr",
     "output_type": "stream",
     "text": [
      "\n",
      "  0%|          | 0/80 [00:00<?, ?it/s]\u001b[A\n",
      " 38%|███▊      | 30/80 [00:00<00:00, 299.24it/s]\u001b[A\n",
      "100%|██████████| 80/80 [00:00<00:00, 292.51it/s]\u001b[A\n",
      " 29%|██▉       | 328/1123 [05:08<09:25,  1.41it/s]"
     ]
    },
    {
     "name": "stdout",
     "output_type": "stream",
     "text": [
      "/home/jiang/projects/SubtleGAN/data/brats2021/train/BraTS2021_00149\n"
     ]
    },
    {
     "name": "stderr",
     "output_type": "stream",
     "text": [
      "\n",
      "  0%|          | 0/80 [00:00<?, ?it/s]\u001b[A\n",
      " 38%|███▊      | 30/80 [00:00<00:00, 292.50it/s]\u001b[A\n",
      "100%|██████████| 80/80 [00:00<00:00, 293.31it/s]\u001b[A\n",
      " 29%|██▉       | 329/1123 [05:09<09:22,  1.41it/s]"
     ]
    },
    {
     "name": "stdout",
     "output_type": "stream",
     "text": [
      "/home/jiang/projects/SubtleGAN/data/brats2021/train/BraTS2021_01308\n"
     ]
    },
    {
     "name": "stderr",
     "output_type": "stream",
     "text": [
      "\n",
      "  0%|          | 0/80 [00:00<?, ?it/s]\u001b[A\n",
      " 38%|███▊      | 30/80 [00:00<00:00, 299.23it/s]\u001b[A\n",
      "100%|██████████| 80/80 [00:00<00:00, 292.59it/s]\u001b[A\n",
      " 29%|██▉       | 330/1123 [05:09<09:21,  1.41it/s]"
     ]
    },
    {
     "name": "stdout",
     "output_type": "stream",
     "text": [
      "/home/jiang/projects/SubtleGAN/data/brats2021/train/BraTS2021_01418\n"
     ]
    },
    {
     "name": "stderr",
     "output_type": "stream",
     "text": [
      "\n",
      "  0%|          | 0/80 [00:00<?, ?it/s]\u001b[A\n",
      " 39%|███▉      | 31/80 [00:00<00:00, 304.05it/s]\u001b[A\n",
      "100%|██████████| 80/80 [00:00<00:00, 294.53it/s]\u001b[A\n",
      " 29%|██▉       | 331/1123 [05:10<09:21,  1.41it/s]"
     ]
    },
    {
     "name": "stdout",
     "output_type": "stream",
     "text": [
      "/home/jiang/projects/SubtleGAN/data/brats2021/train/BraTS2021_00624\n"
     ]
    },
    {
     "name": "stderr",
     "output_type": "stream",
     "text": [
      "\n",
      "  0%|          | 0/80 [00:00<?, ?it/s]\u001b[A\n",
      " 39%|███▉      | 31/80 [00:00<00:00, 302.69it/s]\u001b[A\n",
      "100%|██████████| 80/80 [00:00<00:00, 288.00it/s]\u001b[A\n",
      " 30%|██▉       | 332/1123 [05:11<09:04,  1.45it/s]"
     ]
    },
    {
     "name": "stdout",
     "output_type": "stream",
     "text": [
      "/home/jiang/projects/SubtleGAN/data/brats2021/train/BraTS2021_00583\n"
     ]
    },
    {
     "name": "stderr",
     "output_type": "stream",
     "text": [
      "\n",
      "  0%|          | 0/80 [00:00<?, ?it/s]\u001b[A\n",
      " 40%|████      | 32/80 [00:00<00:00, 310.68it/s]\u001b[A\n",
      "100%|██████████| 80/80 [00:00<00:00, 302.29it/s]\u001b[A\n",
      " 30%|██▉       | 333/1123 [05:12<10:25,  1.26it/s]"
     ]
    },
    {
     "name": "stdout",
     "output_type": "stream",
     "text": [
      "/home/jiang/projects/SubtleGAN/data/brats2021/train/BraTS2021_00263\n"
     ]
    },
    {
     "name": "stderr",
     "output_type": "stream",
     "text": [
      "\n",
      "  0%|          | 0/80 [00:00<?, ?it/s]\u001b[A\n",
      " 38%|███▊      | 30/80 [00:00<00:00, 299.32it/s]\u001b[A\n",
      "100%|██████████| 80/80 [00:00<00:00, 294.74it/s]\u001b[A\n",
      " 30%|██▉       | 334/1123 [05:12<10:07,  1.30it/s]"
     ]
    },
    {
     "name": "stdout",
     "output_type": "stream",
     "text": [
      "/home/jiang/projects/SubtleGAN/data/brats2021/train/BraTS2021_00623\n"
     ]
    },
    {
     "name": "stderr",
     "output_type": "stream",
     "text": [
      "\n",
      "  0%|          | 0/80 [00:00<?, ?it/s]\u001b[A\n",
      " 38%|███▊      | 30/80 [00:00<00:00, 293.22it/s]\u001b[A\n",
      "100%|██████████| 80/80 [00:00<00:00, 288.46it/s]\u001b[A\n",
      " 30%|██▉       | 335/1123 [05:13<09:36,  1.37it/s]"
     ]
    },
    {
     "name": "stdout",
     "output_type": "stream",
     "text": [
      "/home/jiang/projects/SubtleGAN/data/brats2021/train/BraTS2021_00506\n"
     ]
    },
    {
     "name": "stderr",
     "output_type": "stream",
     "text": [
      "\n",
      "  0%|          | 0/80 [00:00<?, ?it/s]\u001b[A\n",
      " 38%|███▊      | 30/80 [00:00<00:00, 293.21it/s]\u001b[A\n",
      "100%|██████████| 80/80 [00:00<00:00, 290.57it/s]\u001b[A\n",
      " 30%|██▉       | 336/1123 [05:14<09:12,  1.42it/s]"
     ]
    },
    {
     "name": "stdout",
     "output_type": "stream",
     "text": [
      "/home/jiang/projects/SubtleGAN/data/brats2021/train/BraTS2021_01351\n"
     ]
    },
    {
     "name": "stderr",
     "output_type": "stream",
     "text": [
      "\n",
      "  0%|          | 0/80 [00:00<?, ?it/s]\u001b[A\n",
      " 39%|███▉      | 31/80 [00:00<00:00, 307.85it/s]\u001b[A\n",
      "100%|██████████| 80/80 [00:00<00:00, 292.72it/s]\u001b[A\n",
      " 30%|███       | 337/1123 [05:14<09:16,  1.41it/s]"
     ]
    },
    {
     "name": "stdout",
     "output_type": "stream",
     "text": [
      "/home/jiang/projects/SubtleGAN/data/brats2021/train/BraTS2021_01654\n"
     ]
    },
    {
     "name": "stderr",
     "output_type": "stream",
     "text": [
      "\n",
      "  0%|          | 0/80 [00:00<?, ?it/s]\u001b[A\n",
      " 40%|████      | 32/80 [00:00<00:00, 315.50it/s]\u001b[A\n",
      "100%|██████████| 80/80 [00:00<00:00, 307.87it/s]\u001b[A\n",
      " 30%|███       | 338/1123 [05:15<10:32,  1.24it/s]"
     ]
    },
    {
     "name": "stdout",
     "output_type": "stream",
     "text": [
      "/home/jiang/projects/SubtleGAN/data/brats2021/train/BraTS2021_01498\n"
     ]
    },
    {
     "name": "stderr",
     "output_type": "stream",
     "text": [
      "\n",
      "  0%|          | 0/80 [00:00<?, ?it/s]\u001b[A\n",
      " 35%|███▌      | 28/80 [00:00<00:00, 272.89it/s]\u001b[A\n",
      "100%|██████████| 80/80 [00:00<00:00, 276.97it/s]\u001b[A\n",
      " 30%|███       | 339/1123 [05:16<10:09,  1.29it/s]"
     ]
    },
    {
     "name": "stdout",
     "output_type": "stream",
     "text": [
      "/home/jiang/projects/SubtleGAN/data/brats2021/train/BraTS2021_00313\n"
     ]
    },
    {
     "name": "stderr",
     "output_type": "stream",
     "text": [
      "\n",
      "  0%|          | 0/80 [00:00<?, ?it/s]\u001b[A\n",
      " 35%|███▌      | 28/80 [00:00<00:00, 273.00it/s]\u001b[A\n",
      "100%|██████████| 80/80 [00:00<00:00, 286.25it/s]\u001b[A\n",
      " 30%|███       | 340/1123 [05:17<09:53,  1.32it/s]"
     ]
    },
    {
     "name": "stdout",
     "output_type": "stream",
     "text": [
      "/home/jiang/projects/SubtleGAN/data/brats2021/train/BraTS2021_00626\n"
     ]
    },
    {
     "name": "stderr",
     "output_type": "stream",
     "text": [
      "\n",
      "  0%|          | 0/80 [00:00<?, ?it/s]\u001b[A\n",
      " 34%|███▍      | 27/80 [00:00<00:00, 267.04it/s]\u001b[A\n",
      "100%|██████████| 80/80 [00:00<00:00, 287.68it/s]\u001b[A\n",
      " 30%|███       | 341/1123 [05:17<09:25,  1.38it/s]"
     ]
    },
    {
     "name": "stdout",
     "output_type": "stream",
     "text": [
      "/home/jiang/projects/SubtleGAN/data/brats2021/train/BraTS2021_01297\n"
     ]
    },
    {
     "name": "stderr",
     "output_type": "stream",
     "text": [
      "\n",
      "  0%|          | 0/80 [00:00<?, ?it/s]\u001b[A\n",
      " 36%|███▋      | 29/80 [00:00<00:00, 286.90it/s]\u001b[A\n",
      "100%|██████████| 80/80 [00:00<00:00, 235.21it/s]\u001b[A\n",
      " 30%|███       | 342/1123 [05:18<09:33,  1.36it/s]"
     ]
    },
    {
     "name": "stdout",
     "output_type": "stream",
     "text": [
      "/home/jiang/projects/SubtleGAN/data/brats2021/train/BraTS2021_01590\n"
     ]
    },
    {
     "name": "stderr",
     "output_type": "stream",
     "text": [
      "\n",
      "  0%|          | 0/80 [00:00<?, ?it/s]\u001b[A\n",
      " 40%|████      | 32/80 [00:00<00:00, 313.58it/s]\u001b[A\n",
      "100%|██████████| 80/80 [00:00<00:00, 291.74it/s]\u001b[A\n",
      " 31%|███       | 343/1123 [05:19<10:44,  1.21it/s]"
     ]
    },
    {
     "name": "stdout",
     "output_type": "stream",
     "text": [
      "/home/jiang/projects/SubtleGAN/data/brats2021/train/BraTS2021_00810\n"
     ]
    },
    {
     "name": "stderr",
     "output_type": "stream",
     "text": [
      "\n",
      "  0%|          | 0/80 [00:00<?, ?it/s]\u001b[A\n",
      " 38%|███▊      | 30/80 [00:00<00:00, 293.03it/s]\u001b[A\n",
      "100%|██████████| 80/80 [00:00<00:00, 299.29it/s]\u001b[A\n",
      " 31%|███       | 344/1123 [05:20<11:27,  1.13it/s]"
     ]
    },
    {
     "name": "stdout",
     "output_type": "stream",
     "text": [
      "/home/jiang/projects/SubtleGAN/data/brats2021/train/BraTS2021_00682\n"
     ]
    },
    {
     "name": "stderr",
     "output_type": "stream",
     "text": [
      "\n",
      "  0%|          | 0/80 [00:00<?, ?it/s]\u001b[A\n",
      " 36%|███▋      | 29/80 [00:00<00:00, 283.34it/s]\u001b[A\n",
      "100%|██████████| 80/80 [00:00<00:00, 277.68it/s]\u001b[A\n",
      " 31%|███       | 345/1123 [05:21<10:32,  1.23it/s]"
     ]
    },
    {
     "name": "stdout",
     "output_type": "stream",
     "text": [
      "/home/jiang/projects/SubtleGAN/data/brats2021/train/BraTS2021_01597\n"
     ]
    },
    {
     "name": "stderr",
     "output_type": "stream",
     "text": [
      "\n",
      "  0%|          | 0/80 [00:00<?, ?it/s]\u001b[A\n",
      " 39%|███▉      | 31/80 [00:00<00:00, 302.54it/s]\u001b[A\n",
      "100%|██████████| 80/80 [00:00<00:00, 299.74it/s]\u001b[A\n",
      " 31%|███       | 346/1123 [05:22<11:20,  1.14it/s]"
     ]
    },
    {
     "name": "stdout",
     "output_type": "stream",
     "text": [
      "/home/jiang/projects/SubtleGAN/data/brats2021/train/BraTS2021_01102\n"
     ]
    },
    {
     "name": "stderr",
     "output_type": "stream",
     "text": [
      "\n",
      "  0%|          | 0/80 [00:00<?, ?it/s]\u001b[A\n",
      " 36%|███▋      | 29/80 [00:00<00:00, 289.93it/s]\u001b[A\n",
      "100%|██████████| 80/80 [00:00<00:00, 267.44it/s]\u001b[A\n",
      " 31%|███       | 347/1123 [05:23<10:59,  1.18it/s]"
     ]
    },
    {
     "name": "stdout",
     "output_type": "stream",
     "text": [
      "/home/jiang/projects/SubtleGAN/data/brats2021/train/BraTS2021_00005\n"
     ]
    },
    {
     "name": "stderr",
     "output_type": "stream",
     "text": [
      "\n",
      "  0%|          | 0/80 [00:00<?, ?it/s]\u001b[A\n",
      " 40%|████      | 32/80 [00:00<00:00, 311.88it/s]\u001b[A\n",
      "100%|██████████| 80/80 [00:00<00:00, 300.11it/s]\u001b[A\n",
      " 31%|███       | 348/1123 [05:23<10:00,  1.29it/s]"
     ]
    },
    {
     "name": "stdout",
     "output_type": "stream",
     "text": [
      "/home/jiang/projects/SubtleGAN/data/brats2021/train/BraTS2021_01661\n"
     ]
    },
    {
     "name": "stderr",
     "output_type": "stream",
     "text": [
      "\n",
      "  0%|          | 0/80 [00:00<?, ?it/s]\u001b[A\n",
      " 40%|████      | 32/80 [00:00<00:00, 310.64it/s]\u001b[A\n",
      "100%|██████████| 80/80 [00:00<00:00, 297.13it/s]\u001b[A\n",
      " 31%|███       | 349/1123 [05:24<09:45,  1.32it/s]"
     ]
    },
    {
     "name": "stdout",
     "output_type": "stream",
     "text": [
      "/home/jiang/projects/SubtleGAN/data/brats2021/train/BraTS2021_00547\n"
     ]
    },
    {
     "name": "stderr",
     "output_type": "stream",
     "text": [
      "\n",
      "  0%|          | 0/80 [00:00<?, ?it/s]\u001b[A\n",
      " 40%|████      | 32/80 [00:00<00:00, 311.34it/s]\u001b[A\n",
      "100%|██████████| 80/80 [00:00<00:00, 301.27it/s]\u001b[A\n",
      " 31%|███       | 350/1123 [05:25<09:27,  1.36it/s]"
     ]
    },
    {
     "name": "stdout",
     "output_type": "stream",
     "text": [
      "/home/jiang/projects/SubtleGAN/data/brats2021/train/BraTS2021_00127\n"
     ]
    },
    {
     "name": "stderr",
     "output_type": "stream",
     "text": [
      "\n",
      "  0%|          | 0/80 [00:00<?, ?it/s]\u001b[A\n",
      " 39%|███▉      | 31/80 [00:00<00:00, 300.93it/s]\u001b[A\n",
      "100%|██████████| 80/80 [00:00<00:00, 300.62it/s]\u001b[A\n",
      " 31%|███▏      | 351/1123 [05:25<09:20,  1.38it/s]"
     ]
    },
    {
     "name": "stdout",
     "output_type": "stream",
     "text": [
      "/home/jiang/projects/SubtleGAN/data/brats2021/train/BraTS2021_01335\n"
     ]
    },
    {
     "name": "stderr",
     "output_type": "stream",
     "text": [
      "\n",
      "  0%|          | 0/80 [00:00<?, ?it/s]\u001b[A\n",
      " 40%|████      | 32/80 [00:00<00:00, 313.66it/s]\u001b[A\n",
      "100%|██████████| 80/80 [00:00<00:00, 301.68it/s]\u001b[A\n",
      " 31%|███▏      | 352/1123 [05:26<09:13,  1.39it/s]"
     ]
    },
    {
     "name": "stdout",
     "output_type": "stream",
     "text": [
      "/home/jiang/projects/SubtleGAN/data/brats2021/train/BraTS2021_00207\n"
     ]
    },
    {
     "name": "stderr",
     "output_type": "stream",
     "text": [
      "\n",
      "  0%|          | 0/80 [00:00<?, ?it/s]\u001b[A\n",
      " 38%|███▊      | 30/80 [00:00<00:00, 295.15it/s]\u001b[A\n",
      "100%|██████████| 80/80 [00:00<00:00, 292.58it/s]\u001b[A\n",
      " 31%|███▏      | 353/1123 [05:27<09:10,  1.40it/s]"
     ]
    },
    {
     "name": "stdout",
     "output_type": "stream",
     "text": [
      "/home/jiang/projects/SubtleGAN/data/brats2021/train/BraTS2021_01410\n"
     ]
    },
    {
     "name": "stderr",
     "output_type": "stream",
     "text": [
      "\n",
      "  0%|          | 0/80 [00:00<?, ?it/s]\u001b[A\n",
      " 38%|███▊      | 30/80 [00:00<00:00, 298.46it/s]\u001b[A\n",
      "100%|██████████| 80/80 [00:00<00:00, 292.97it/s]\u001b[A\n",
      " 32%|███▏      | 354/1123 [05:28<09:09,  1.40it/s]"
     ]
    },
    {
     "name": "stdout",
     "output_type": "stream",
     "text": [
      "/home/jiang/projects/SubtleGAN/data/brats2021/train/BraTS2021_01466\n"
     ]
    },
    {
     "name": "stderr",
     "output_type": "stream",
     "text": [
      "\n",
      "  0%|          | 0/80 [00:00<?, ?it/s]\u001b[A\n",
      " 39%|███▉      | 31/80 [00:00<00:00, 308.74it/s]\u001b[A\n",
      "100%|██████████| 80/80 [00:00<00:00, 288.36it/s]\u001b[A\n",
      " 32%|███▏      | 355/1123 [05:28<09:06,  1.40it/s]"
     ]
    },
    {
     "name": "stdout",
     "output_type": "stream",
     "text": [
      "/home/jiang/projects/SubtleGAN/data/brats2021/train/BraTS2021_00095\n"
     ]
    },
    {
     "name": "stderr",
     "output_type": "stream",
     "text": [
      "\n",
      "  0%|          | 0/80 [00:00<?, ?it/s]\u001b[A\n",
      " 39%|███▉      | 31/80 [00:00<00:00, 306.13it/s]\u001b[A\n",
      "100%|██████████| 80/80 [00:00<00:00, 296.12it/s]\u001b[A\n",
      " 32%|███▏      | 356/1123 [05:29<08:47,  1.46it/s]"
     ]
    },
    {
     "name": "stdout",
     "output_type": "stream",
     "text": [
      "/home/jiang/projects/SubtleGAN/data/brats2021/train/BraTS2021_01336\n"
     ]
    },
    {
     "name": "stderr",
     "output_type": "stream",
     "text": [
      "\n",
      "  0%|          | 0/80 [00:00<?, ?it/s]\u001b[A\n",
      " 35%|███▌      | 28/80 [00:00<00:00, 273.24it/s]\u001b[A\n",
      "100%|██████████| 80/80 [00:00<00:00, 285.52it/s]\u001b[A\n",
      " 32%|███▏      | 357/1123 [05:30<08:51,  1.44it/s]"
     ]
    },
    {
     "name": "stdout",
     "output_type": "stream",
     "text": [
      "/home/jiang/projects/SubtleGAN/data/brats2021/train/BraTS2021_01617\n"
     ]
    },
    {
     "name": "stderr",
     "output_type": "stream",
     "text": [
      "\n",
      "  0%|          | 0/80 [00:00<?, ?it/s]\u001b[A\n",
      " 40%|████      | 32/80 [00:00<00:00, 311.16it/s]\u001b[A\n",
      "100%|██████████| 80/80 [00:00<00:00, 254.11it/s]\u001b[A\n",
      " 32%|███▏      | 358/1123 [05:31<10:13,  1.25it/s]"
     ]
    },
    {
     "name": "stdout",
     "output_type": "stream",
     "text": [
      "/home/jiang/projects/SubtleGAN/data/brats2021/train/BraTS2021_00214\n"
     ]
    },
    {
     "name": "stderr",
     "output_type": "stream",
     "text": [
      "\n",
      "  0%|          | 0/80 [00:00<?, ?it/s]\u001b[A\n",
      " 35%|███▌      | 28/80 [00:00<00:00, 278.70it/s]\u001b[A\n",
      "100%|██████████| 80/80 [00:00<00:00, 283.01it/s]\u001b[A\n",
      " 32%|███▏      | 359/1123 [05:31<09:54,  1.29it/s]"
     ]
    },
    {
     "name": "stdout",
     "output_type": "stream",
     "text": [
      "/home/jiang/projects/SubtleGAN/data/brats2021/train/BraTS2021_00444\n"
     ]
    },
    {
     "name": "stderr",
     "output_type": "stream",
     "text": [
      "\n",
      "  0%|          | 0/80 [00:00<?, ?it/s]\u001b[A\n",
      " 39%|███▉      | 31/80 [00:00<00:00, 303.37it/s]\u001b[A\n",
      "100%|██████████| 80/80 [00:00<00:00, 289.95it/s]\u001b[A\n",
      " 32%|███▏      | 360/1123 [05:32<09:39,  1.32it/s]"
     ]
    },
    {
     "name": "stdout",
     "output_type": "stream",
     "text": [
      "/home/jiang/projects/SubtleGAN/data/brats2021/train/BraTS2021_00331\n"
     ]
    },
    {
     "name": "stderr",
     "output_type": "stream",
     "text": [
      "\n",
      "  0%|          | 0/80 [00:00<?, ?it/s]\u001b[A\n",
      " 39%|███▉      | 31/80 [00:00<00:00, 301.40it/s]\u001b[A\n",
      "100%|██████████| 80/80 [00:00<00:00, 287.30it/s]\u001b[A\n",
      " 32%|███▏      | 361/1123 [05:33<09:25,  1.35it/s]"
     ]
    },
    {
     "name": "stdout",
     "output_type": "stream",
     "text": [
      "/home/jiang/projects/SubtleGAN/data/brats2021/train/BraTS2021_00391\n"
     ]
    },
    {
     "name": "stderr",
     "output_type": "stream",
     "text": [
      "\n",
      "  0%|          | 0/80 [00:00<?, ?it/s]\u001b[A\n",
      " 39%|███▉      | 31/80 [00:00<00:00, 300.29it/s]\u001b[A\n",
      "100%|██████████| 80/80 [00:00<00:00, 297.48it/s]\u001b[A\n",
      " 32%|███▏      | 362/1123 [05:33<09:15,  1.37it/s]"
     ]
    },
    {
     "name": "stdout",
     "output_type": "stream",
     "text": [
      "/home/jiang/projects/SubtleGAN/data/brats2021/train/BraTS2021_01449\n"
     ]
    },
    {
     "name": "stderr",
     "output_type": "stream",
     "text": [
      "\n",
      "  0%|          | 0/80 [00:00<?, ?it/s]\u001b[A\n",
      " 38%|███▊      | 30/80 [00:00<00:00, 294.60it/s]\u001b[A\n",
      "100%|██████████| 80/80 [00:00<00:00, 290.65it/s]\u001b[A\n",
      " 32%|███▏      | 363/1123 [05:34<09:09,  1.38it/s]"
     ]
    },
    {
     "name": "stdout",
     "output_type": "stream",
     "text": [
      "/home/jiang/projects/SubtleGAN/data/brats2021/train/BraTS2021_01531\n"
     ]
    },
    {
     "name": "stderr",
     "output_type": "stream",
     "text": [
      "\n",
      "  0%|          | 0/80 [00:00<?, ?it/s]\u001b[A\n",
      " 36%|███▋      | 29/80 [00:00<00:00, 288.86it/s]\u001b[A\n",
      "100%|██████████| 80/80 [00:00<00:00, 283.14it/s]\u001b[A\n",
      " 32%|███▏      | 364/1123 [05:35<09:17,  1.36it/s]"
     ]
    },
    {
     "name": "stdout",
     "output_type": "stream",
     "text": [
      "/home/jiang/projects/SubtleGAN/data/brats2021/train/BraTS2021_00797\n"
     ]
    },
    {
     "name": "stderr",
     "output_type": "stream",
     "text": [
      "\n",
      "  0%|          | 0/80 [00:00<?, ?it/s]\u001b[A\n",
      " 38%|███▊      | 30/80 [00:00<00:00, 295.87it/s]\u001b[A\n",
      "100%|██████████| 80/80 [00:00<00:00, 276.24it/s]\u001b[A\n",
      " 33%|███▎      | 365/1123 [05:36<10:28,  1.21it/s]"
     ]
    },
    {
     "name": "stdout",
     "output_type": "stream",
     "text": [
      "/home/jiang/projects/SubtleGAN/data/brats2021/train/BraTS2021_01378\n"
     ]
    },
    {
     "name": "stderr",
     "output_type": "stream",
     "text": [
      "\n",
      "  0%|          | 0/80 [00:00<?, ?it/s]\u001b[A\n",
      " 36%|███▋      | 29/80 [00:00<00:00, 287.38it/s]\u001b[A\n",
      "100%|██████████| 80/80 [00:00<00:00, 289.84it/s]\u001b[A\n",
      " 33%|███▎      | 366/1123 [05:37<10:01,  1.26it/s]"
     ]
    },
    {
     "name": "stdout",
     "output_type": "stream",
     "text": [
      "/home/jiang/projects/SubtleGAN/data/brats2021/train/BraTS2021_01007\n"
     ]
    },
    {
     "name": "stderr",
     "output_type": "stream",
     "text": [
      "\n",
      "  0%|          | 0/80 [00:00<?, ?it/s]\u001b[A\n",
      " 36%|███▋      | 29/80 [00:00<00:00, 288.89it/s]\u001b[A\n",
      "100%|██████████| 80/80 [00:00<00:00, 284.26it/s]\u001b[A\n",
      " 33%|███▎      | 367/1123 [05:37<09:42,  1.30it/s]"
     ]
    },
    {
     "name": "stdout",
     "output_type": "stream",
     "text": [
      "/home/jiang/projects/SubtleGAN/data/brats2021/train/BraTS2021_01202\n"
     ]
    },
    {
     "name": "stderr",
     "output_type": "stream",
     "text": [
      "\n",
      "  0%|          | 0/80 [00:00<?, ?it/s]\u001b[A\n",
      " 35%|███▌      | 28/80 [00:00<00:00, 275.49it/s]\u001b[A\n",
      "100%|██████████| 80/80 [00:00<00:00, 279.76it/s]\u001b[A\n",
      " 33%|███▎      | 368/1123 [05:38<09:30,  1.32it/s]"
     ]
    },
    {
     "name": "stdout",
     "output_type": "stream",
     "text": [
      "/home/jiang/projects/SubtleGAN/data/brats2021/train/BraTS2021_01099\n"
     ]
    },
    {
     "name": "stderr",
     "output_type": "stream",
     "text": [
      "\n",
      "  0%|          | 0/80 [00:00<?, ?it/s]\u001b[A\n",
      " 38%|███▊      | 30/80 [00:00<00:00, 294.72it/s]\u001b[A\n",
      "100%|██████████| 80/80 [00:00<00:00, 283.82it/s]\u001b[A\n",
      " 33%|███▎      | 369/1123 [05:39<09:24,  1.34it/s]"
     ]
    },
    {
     "name": "stdout",
     "output_type": "stream",
     "text": [
      "/home/jiang/projects/SubtleGAN/data/brats2021/train/BraTS2021_01454\n"
     ]
    },
    {
     "name": "stderr",
     "output_type": "stream",
     "text": [
      "\n",
      "  0%|          | 0/80 [00:00<?, ?it/s]\u001b[A\n",
      " 36%|███▋      | 29/80 [00:00<00:00, 285.09it/s]\u001b[A\n",
      "100%|██████████| 80/80 [00:00<00:00, 280.09it/s]\u001b[A\n",
      " 33%|███▎      | 370/1123 [05:40<09:18,  1.35it/s]"
     ]
    },
    {
     "name": "stdout",
     "output_type": "stream",
     "text": [
      "/home/jiang/projects/SubtleGAN/data/brats2021/train/BraTS2021_00404\n"
     ]
    },
    {
     "name": "stderr",
     "output_type": "stream",
     "text": [
      "\n",
      "  0%|          | 0/80 [00:00<?, ?it/s]\u001b[A\n",
      " 39%|███▉      | 31/80 [00:00<00:00, 302.95it/s]\u001b[A\n",
      "100%|██████████| 80/80 [00:00<00:00, 299.96it/s]\u001b[A\n",
      " 33%|███▎      | 371/1123 [05:40<09:09,  1.37it/s]"
     ]
    },
    {
     "name": "stdout",
     "output_type": "stream",
     "text": [
      "/home/jiang/projects/SubtleGAN/data/brats2021/train/BraTS2021_00723\n"
     ]
    },
    {
     "name": "stderr",
     "output_type": "stream",
     "text": [
      "\n",
      "  0%|          | 0/80 [00:00<?, ?it/s]\u001b[A\n",
      " 36%|███▋      | 29/80 [00:00<00:00, 284.20it/s]\u001b[A\n",
      "100%|██████████| 80/80 [00:00<00:00, 279.26it/s]\u001b[A\n",
      " 33%|███▎      | 372/1123 [05:41<08:50,  1.42it/s]"
     ]
    },
    {
     "name": "stdout",
     "output_type": "stream",
     "text": [
      "/home/jiang/projects/SubtleGAN/data/brats2021/train/BraTS2021_00416\n"
     ]
    },
    {
     "name": "stderr",
     "output_type": "stream",
     "text": [
      "\n",
      "  0%|          | 0/80 [00:00<?, ?it/s]\u001b[A\n",
      " 35%|███▌      | 28/80 [00:00<00:00, 273.93it/s]\u001b[A\n",
      "100%|██████████| 80/80 [00:00<00:00, 287.43it/s]\u001b[A\n",
      " 33%|███▎      | 373/1123 [05:42<08:53,  1.41it/s]"
     ]
    },
    {
     "name": "stdout",
     "output_type": "stream",
     "text": [
      "/home/jiang/projects/SubtleGAN/data/brats2021/train/BraTS2021_01656\n"
     ]
    },
    {
     "name": "stderr",
     "output_type": "stream",
     "text": [
      "\n",
      "  0%|          | 0/80 [00:00<?, ?it/s]\u001b[A\n",
      " 40%|████      | 32/80 [00:00<00:00, 310.97it/s]\u001b[A\n",
      "100%|██████████| 80/80 [00:00<00:00, 305.17it/s]\u001b[A\n",
      " 33%|███▎      | 374/1123 [05:43<09:56,  1.26it/s]"
     ]
    },
    {
     "name": "stdout",
     "output_type": "stream",
     "text": [
      "/home/jiang/projects/SubtleGAN/data/brats2021/train/BraTS2021_00220\n"
     ]
    },
    {
     "name": "stderr",
     "output_type": "stream",
     "text": [
      "\n",
      "  0%|          | 0/80 [00:00<?, ?it/s]\u001b[A\n",
      " 39%|███▉      | 31/80 [00:00<00:00, 302.25it/s]\u001b[A\n",
      "100%|██████████| 80/80 [00:00<00:00, 287.70it/s]\u001b[A\n",
      " 33%|███▎      | 375/1123 [05:43<09:35,  1.30it/s]"
     ]
    },
    {
     "name": "stdout",
     "output_type": "stream",
     "text": [
      "/home/jiang/projects/SubtleGAN/data/brats2021/train/BraTS2021_00382\n"
     ]
    },
    {
     "name": "stderr",
     "output_type": "stream",
     "text": [
      "\n",
      "  0%|          | 0/80 [00:00<?, ?it/s]\u001b[A\n",
      " 36%|███▋      | 29/80 [00:00<00:00, 280.25it/s]\u001b[A\n",
      "100%|██████████| 80/80 [00:00<00:00, 290.25it/s]\u001b[A\n",
      " 33%|███▎      | 376/1123 [05:44<09:24,  1.32it/s]"
     ]
    },
    {
     "name": "stdout",
     "output_type": "stream",
     "text": [
      "/home/jiang/projects/SubtleGAN/data/brats2021/train/BraTS2021_01029\n"
     ]
    },
    {
     "name": "stderr",
     "output_type": "stream",
     "text": [
      "\n",
      "  0%|          | 0/80 [00:00<?, ?it/s]\u001b[A\n",
      " 38%|███▊      | 30/80 [00:00<00:00, 291.07it/s]\u001b[A\n",
      "100%|██████████| 80/80 [00:00<00:00, 289.72it/s]\u001b[A\n",
      " 34%|███▎      | 377/1123 [05:45<09:14,  1.35it/s]"
     ]
    },
    {
     "name": "stdout",
     "output_type": "stream",
     "text": [
      "/home/jiang/projects/SubtleGAN/data/brats2021/train/BraTS2021_01623\n"
     ]
    },
    {
     "name": "stderr",
     "output_type": "stream",
     "text": [
      "\n",
      "  0%|          | 0/80 [00:00<?, ?it/s]\u001b[A\n",
      " 38%|███▊      | 30/80 [00:00<00:00, 298.08it/s]\u001b[A\n",
      "100%|██████████| 80/80 [00:00<00:00, 295.23it/s]\u001b[A\n",
      " 34%|███▎      | 378/1123 [05:46<10:16,  1.21it/s]"
     ]
    },
    {
     "name": "stdout",
     "output_type": "stream",
     "text": [
      "/home/jiang/projects/SubtleGAN/data/brats2021/train/BraTS2021_01489\n"
     ]
    },
    {
     "name": "stderr",
     "output_type": "stream",
     "text": [
      "\n",
      "  0%|          | 0/80 [00:00<?, ?it/s]\u001b[A\n",
      " 39%|███▉      | 31/80 [00:00<00:00, 301.35it/s]\u001b[A\n",
      "100%|██████████| 80/80 [00:00<00:00, 297.43it/s]\u001b[A\n",
      " 34%|███▎      | 379/1123 [05:47<09:45,  1.27it/s]"
     ]
    },
    {
     "name": "stdout",
     "output_type": "stream",
     "text": [
      "/home/jiang/projects/SubtleGAN/data/brats2021/train/BraTS2021_01536\n"
     ]
    },
    {
     "name": "stderr",
     "output_type": "stream",
     "text": [
      "\n",
      "  0%|          | 0/80 [00:00<?, ?it/s]\u001b[A\n",
      " 36%|███▋      | 29/80 [00:00<00:00, 283.94it/s]\u001b[A\n",
      "100%|██████████| 80/80 [00:00<00:00, 285.35it/s]\u001b[A\n",
      " 34%|███▍      | 380/1123 [05:47<09:27,  1.31it/s]"
     ]
    },
    {
     "name": "stdout",
     "output_type": "stream",
     "text": [
      "/home/jiang/projects/SubtleGAN/data/brats2021/train/BraTS2021_01219\n"
     ]
    },
    {
     "name": "stderr",
     "output_type": "stream",
     "text": [
      "\n",
      "  0%|          | 0/80 [00:00<?, ?it/s]\u001b[A\n",
      " 38%|███▊      | 30/80 [00:00<00:00, 290.98it/s]\u001b[A\n",
      "100%|██████████| 80/80 [00:00<00:00, 290.77it/s]\u001b[A\n",
      " 34%|███▍      | 381/1123 [05:48<09:15,  1.34it/s]"
     ]
    },
    {
     "name": "stdout",
     "output_type": "stream",
     "text": [
      "/home/jiang/projects/SubtleGAN/data/brats2021/train/BraTS2021_00397\n"
     ]
    },
    {
     "name": "stderr",
     "output_type": "stream",
     "text": [
      "\n",
      "  0%|          | 0/80 [00:00<?, ?it/s]\u001b[A\n",
      " 36%|███▋      | 29/80 [00:00<00:00, 288.02it/s]\u001b[A\n",
      "100%|██████████| 80/80 [00:00<00:00, 290.89it/s]\u001b[A\n",
      " 34%|███▍      | 382/1123 [05:49<09:05,  1.36it/s]"
     ]
    },
    {
     "name": "stdout",
     "output_type": "stream",
     "text": [
      "/home/jiang/projects/SubtleGAN/data/brats2021/train/BraTS2021_01026\n"
     ]
    },
    {
     "name": "stderr",
     "output_type": "stream",
     "text": [
      "\n",
      "  0%|          | 0/80 [00:00<?, ?it/s]\u001b[A\n",
      " 39%|███▉      | 31/80 [00:00<00:00, 302.36it/s]\u001b[A\n",
      "100%|██████████| 80/80 [00:00<00:00, 294.00it/s]\u001b[A\n",
      " 34%|███▍      | 383/1123 [05:49<09:00,  1.37it/s]"
     ]
    },
    {
     "name": "stdout",
     "output_type": "stream",
     "text": [
      "/home/jiang/projects/SubtleGAN/data/brats2021/train/BraTS2021_01546\n"
     ]
    },
    {
     "name": "stderr",
     "output_type": "stream",
     "text": [
      "\n",
      "  0%|          | 0/80 [00:00<?, ?it/s]\u001b[A\n",
      " 39%|███▉      | 31/80 [00:00<00:00, 309.97it/s]\u001b[A\n",
      "100%|██████████| 80/80 [00:00<00:00, 304.61it/s]\u001b[A\n",
      " 34%|███▍      | 384/1123 [05:50<10:01,  1.23it/s]"
     ]
    },
    {
     "name": "stdout",
     "output_type": "stream",
     "text": [
      "/home/jiang/projects/SubtleGAN/data/brats2021/train/BraTS2021_01175\n"
     ]
    },
    {
     "name": "stderr",
     "output_type": "stream",
     "text": [
      "\n",
      "  0%|          | 0/80 [00:00<?, ?it/s]\u001b[A\n",
      " 35%|███▌      | 28/80 [00:00<00:00, 279.85it/s]\u001b[A\n",
      "100%|██████████| 80/80 [00:00<00:00, 281.74it/s]\u001b[A\n",
      " 34%|███▍      | 385/1123 [05:51<09:37,  1.28it/s]"
     ]
    },
    {
     "name": "stdout",
     "output_type": "stream",
     "text": [
      "/home/jiang/projects/SubtleGAN/data/brats2021/train/BraTS2021_01528\n"
     ]
    },
    {
     "name": "stderr",
     "output_type": "stream",
     "text": [
      "\n",
      "  0%|          | 0/80 [00:00<?, ?it/s]\u001b[A\n",
      " 39%|███▉      | 31/80 [00:00<00:00, 301.21it/s]\u001b[A\n",
      "100%|██████████| 80/80 [00:00<00:00, 297.15it/s]\u001b[A\n",
      " 34%|███▍      | 386/1123 [05:52<09:18,  1.32it/s]"
     ]
    },
    {
     "name": "stdout",
     "output_type": "stream",
     "text": [
      "/home/jiang/projects/SubtleGAN/data/brats2021/train/BraTS2021_01405\n"
     ]
    },
    {
     "name": "stderr",
     "output_type": "stream",
     "text": [
      "\n",
      "  0%|          | 0/80 [00:00<?, ?it/s]\u001b[A\n",
      " 36%|███▋      | 29/80 [00:00<00:00, 288.38it/s]\u001b[A\n",
      "100%|██████████| 80/80 [00:00<00:00, 273.15it/s]\u001b[A\n",
      " 34%|███▍      | 387/1123 [05:53<09:13,  1.33it/s]"
     ]
    },
    {
     "name": "stdout",
     "output_type": "stream",
     "text": [
      "/home/jiang/projects/SubtleGAN/data/brats2021/train/BraTS2021_01567\n"
     ]
    },
    {
     "name": "stderr",
     "output_type": "stream",
     "text": [
      "\n",
      "  0%|          | 0/80 [00:00<?, ?it/s]\u001b[A\n",
      " 40%|████      | 32/80 [00:00<00:00, 310.37it/s]\u001b[A\n",
      "100%|██████████| 80/80 [00:00<00:00, 298.89it/s]\u001b[A\n",
      " 35%|███▍      | 388/1123 [05:54<10:16,  1.19it/s]"
     ]
    },
    {
     "name": "stdout",
     "output_type": "stream",
     "text": [
      "/home/jiang/projects/SubtleGAN/data/brats2021/train/BraTS2021_00469\n"
     ]
    },
    {
     "name": "stderr",
     "output_type": "stream",
     "text": [
      "\n",
      "  0%|          | 0/80 [00:00<?, ?it/s]\u001b[A\n",
      " 38%|███▊      | 30/80 [00:00<00:00, 297.71it/s]\u001b[A\n",
      "100%|██████████| 80/80 [00:00<00:00, 287.83it/s]\u001b[A\n",
      " 35%|███▍      | 389/1123 [05:54<09:29,  1.29it/s]"
     ]
    },
    {
     "name": "stdout",
     "output_type": "stream",
     "text": [
      "/home/jiang/projects/SubtleGAN/data/brats2021/train/BraTS2021_01569\n"
     ]
    },
    {
     "name": "stderr",
     "output_type": "stream",
     "text": [
      "\n",
      "  0%|          | 0/80 [00:00<?, ?it/s]\u001b[A\n",
      " 39%|███▉      | 31/80 [00:00<00:00, 306.72it/s]\u001b[A\n",
      "100%|██████████| 80/80 [00:00<00:00, 299.79it/s]\u001b[A\n",
      " 35%|███▍      | 390/1123 [05:55<10:22,  1.18it/s]"
     ]
    },
    {
     "name": "stdout",
     "output_type": "stream",
     "text": [
      "/home/jiang/projects/SubtleGAN/data/brats2021/train/BraTS2021_01573\n"
     ]
    },
    {
     "name": "stderr",
     "output_type": "stream",
     "text": [
      "\n",
      "  0%|          | 0/80 [00:00<?, ?it/s]\u001b[A\n",
      " 38%|███▊      | 30/80 [00:00<00:00, 297.38it/s]\u001b[A\n",
      "100%|██████████| 80/80 [00:00<00:00, 290.28it/s]\u001b[A\n",
      " 35%|███▍      | 391/1123 [05:56<11:01,  1.11it/s]"
     ]
    },
    {
     "name": "stdout",
     "output_type": "stream",
     "text": [
      "/home/jiang/projects/SubtleGAN/data/brats2021/train/BraTS2021_01433\n"
     ]
    },
    {
     "name": "stderr",
     "output_type": "stream",
     "text": [
      "\n",
      "  0%|          | 0/80 [00:00<?, ?it/s]\u001b[A\n",
      " 38%|███▊      | 30/80 [00:00<00:00, 299.64it/s]\u001b[A\n",
      "100%|██████████| 80/80 [00:00<00:00, 281.16it/s]\u001b[A\n",
      " 35%|███▍      | 392/1123 [05:57<10:22,  1.17it/s]"
     ]
    },
    {
     "name": "stdout",
     "output_type": "stream",
     "text": [
      "/home/jiang/projects/SubtleGAN/data/brats2021/train/BraTS2021_00795\n"
     ]
    },
    {
     "name": "stderr",
     "output_type": "stream",
     "text": [
      "\n",
      "  0%|          | 0/80 [00:00<?, ?it/s]\u001b[A\n",
      " 40%|████      | 32/80 [00:00<00:00, 311.95it/s]\u001b[A\n",
      "100%|██████████| 80/80 [00:00<00:00, 303.52it/s]\u001b[A\n",
      " 35%|███▍      | 393/1123 [05:58<11:00,  1.10it/s]"
     ]
    },
    {
     "name": "stdout",
     "output_type": "stream",
     "text": [
      "/home/jiang/projects/SubtleGAN/data/brats2021/train/BraTS2021_00360\n"
     ]
    },
    {
     "name": "stderr",
     "output_type": "stream",
     "text": [
      "\n",
      "  0%|          | 0/80 [00:00<?, ?it/s]\u001b[A\n",
      " 38%|███▊      | 30/80 [00:00<00:00, 295.83it/s]\u001b[A\n",
      "100%|██████████| 80/80 [00:00<00:00, 287.85it/s]\u001b[A\n",
      " 35%|███▌      | 394/1123 [05:59<10:18,  1.18it/s]"
     ]
    },
    {
     "name": "stdout",
     "output_type": "stream",
     "text": [
      "/home/jiang/projects/SubtleGAN/data/brats2021/train/BraTS2021_01066\n"
     ]
    },
    {
     "name": "stderr",
     "output_type": "stream",
     "text": [
      "\n",
      "  0%|          | 0/80 [00:00<?, ?it/s]\u001b[A\n",
      " 38%|███▊      | 30/80 [00:00<00:00, 296.51it/s]\u001b[A\n",
      "100%|██████████| 80/80 [00:00<00:00, 298.35it/s]\u001b[A\n",
      " 35%|███▌      | 395/1123 [05:59<09:45,  1.24it/s]"
     ]
    },
    {
     "name": "stdout",
     "output_type": "stream",
     "text": [
      "/home/jiang/projects/SubtleGAN/data/brats2021/train/BraTS2021_00479\n"
     ]
    },
    {
     "name": "stderr",
     "output_type": "stream",
     "text": [
      "\n",
      "  0%|          | 0/80 [00:00<?, ?it/s]\u001b[A\n",
      " 36%|███▋      | 29/80 [00:00<00:00, 282.78it/s]\u001b[A\n",
      "100%|██████████| 80/80 [00:00<00:00, 286.17it/s]\u001b[A\n",
      " 35%|███▌      | 396/1123 [06:00<09:07,  1.33it/s]"
     ]
    },
    {
     "name": "stdout",
     "output_type": "stream",
     "text": [
      "/home/jiang/projects/SubtleGAN/data/brats2021/train/BraTS2021_01246\n"
     ]
    },
    {
     "name": "stderr",
     "output_type": "stream",
     "text": [
      "\n",
      "  0%|          | 0/80 [00:00<?, ?it/s]\u001b[A\n",
      " 38%|███▊      | 30/80 [00:00<00:00, 293.80it/s]\u001b[A\n",
      "100%|██████████| 80/80 [00:00<00:00, 286.76it/s]\u001b[A\n",
      " 35%|███▌      | 397/1123 [06:01<09:00,  1.34it/s]"
     ]
    },
    {
     "name": "stdout",
     "output_type": "stream",
     "text": [
      "/home/jiang/projects/SubtleGAN/data/brats2021/train/BraTS2021_01264\n"
     ]
    },
    {
     "name": "stderr",
     "output_type": "stream",
     "text": [
      "\n",
      "  0%|          | 0/80 [00:00<?, ?it/s]\u001b[A\n",
      " 39%|███▉      | 31/80 [00:00<00:00, 306.60it/s]\u001b[A\n",
      "100%|██████████| 80/80 [00:00<00:00, 294.42it/s]\u001b[A\n",
      " 35%|███▌      | 398/1123 [06:02<08:51,  1.36it/s]"
     ]
    },
    {
     "name": "stdout",
     "output_type": "stream",
     "text": [
      "/home/jiang/projects/SubtleGAN/data/brats2021/train/BraTS2021_00103\n"
     ]
    },
    {
     "name": "stderr",
     "output_type": "stream",
     "text": [
      "\n",
      "  0%|          | 0/80 [00:00<?, ?it/s]\u001b[A\n",
      " 39%|███▉      | 31/80 [00:00<00:00, 308.48it/s]\u001b[A\n",
      "100%|██████████| 80/80 [00:00<00:00, 292.52it/s]\u001b[A\n",
      " 36%|███▌      | 399/1123 [06:02<08:28,  1.42it/s]"
     ]
    },
    {
     "name": "stdout",
     "output_type": "stream",
     "text": [
      "/home/jiang/projects/SubtleGAN/data/brats2021/train/BraTS2021_01444\n"
     ]
    },
    {
     "name": "stderr",
     "output_type": "stream",
     "text": [
      "\n",
      "  0%|          | 0/80 [00:00<?, ?it/s]\u001b[A\n",
      " 36%|███▋      | 29/80 [00:00<00:00, 289.63it/s]\u001b[A\n",
      "100%|██████████| 80/80 [00:00<00:00, 279.98it/s]\u001b[A\n",
      " 36%|███▌      | 400/1123 [06:03<08:29,  1.42it/s]"
     ]
    },
    {
     "name": "stdout",
     "output_type": "stream",
     "text": [
      "/home/jiang/projects/SubtleGAN/data/brats2021/train/BraTS2021_01352\n"
     ]
    },
    {
     "name": "stderr",
     "output_type": "stream",
     "text": [
      "\n",
      "  0%|          | 0/80 [00:00<?, ?it/s]\u001b[A\n",
      " 21%|██▏       | 17/80 [00:00<00:00, 161.31it/s]\u001b[A\n",
      " 42%|████▎     | 34/80 [00:00<00:00, 160.82it/s]\u001b[A\n",
      "100%|██████████| 80/80 [00:00<00:00, 209.51it/s]\u001b[A\n",
      " 36%|███▌      | 401/1123 [06:04<08:54,  1.35it/s]"
     ]
    },
    {
     "name": "stdout",
     "output_type": "stream",
     "text": [
      "/home/jiang/projects/SubtleGAN/data/brats2021/train/BraTS2021_00299\n"
     ]
    },
    {
     "name": "stderr",
     "output_type": "stream",
     "text": [
      "\n",
      "  0%|          | 0/80 [00:00<?, ?it/s]\u001b[A\n",
      " 35%|███▌      | 28/80 [00:00<00:00, 273.22it/s]\u001b[A\n",
      "100%|██████████| 80/80 [00:00<00:00, 275.73it/s]\u001b[A\n",
      " 36%|███▌      | 402/1123 [06:04<08:55,  1.35it/s]"
     ]
    },
    {
     "name": "stdout",
     "output_type": "stream",
     "text": [
      "/home/jiang/projects/SubtleGAN/data/brats2021/train/BraTS2021_01575\n"
     ]
    },
    {
     "name": "stderr",
     "output_type": "stream",
     "text": [
      "\n",
      "  0%|          | 0/80 [00:00<?, ?it/s]\u001b[A\n",
      " 39%|███▉      | 31/80 [00:00<00:00, 300.25it/s]\u001b[A\n",
      "100%|██████████| 80/80 [00:00<00:00, 296.86it/s]\u001b[A\n",
      " 36%|███▌      | 403/1123 [06:05<09:58,  1.20it/s]"
     ]
    },
    {
     "name": "stdout",
     "output_type": "stream",
     "text": [
      "/home/jiang/projects/SubtleGAN/data/brats2021/train/BraTS2021_00494\n"
     ]
    },
    {
     "name": "stderr",
     "output_type": "stream",
     "text": [
      "\n",
      "  0%|          | 0/80 [00:00<?, ?it/s]\u001b[A\n",
      " 39%|███▉      | 31/80 [00:00<00:00, 299.75it/s]\u001b[A\n",
      "100%|██████████| 80/80 [00:00<00:00, 285.85it/s]\u001b[A\n",
      " 36%|███▌      | 404/1123 [06:06<09:17,  1.29it/s]"
     ]
    },
    {
     "name": "stdout",
     "output_type": "stream",
     "text": [
      "/home/jiang/projects/SubtleGAN/data/brats2021/train/BraTS2021_01455\n"
     ]
    },
    {
     "name": "stderr",
     "output_type": "stream",
     "text": [
      "\n",
      "  0%|          | 0/80 [00:00<?, ?it/s]\u001b[A\n",
      " 36%|███▋      | 29/80 [00:00<00:00, 284.02it/s]\u001b[A\n",
      "100%|██████████| 80/80 [00:00<00:00, 282.45it/s]\u001b[A\n",
      " 36%|███▌      | 405/1123 [06:07<09:02,  1.32it/s]"
     ]
    },
    {
     "name": "stdout",
     "output_type": "stream",
     "text": [
      "/home/jiang/projects/SubtleGAN/data/brats2021/train/BraTS2021_01289\n"
     ]
    },
    {
     "name": "stderr",
     "output_type": "stream",
     "text": [
      "\n",
      "  0%|          | 0/80 [00:00<?, ?it/s]\u001b[A\n",
      " 34%|███▍      | 27/80 [00:00<00:00, 269.24it/s]\u001b[A\n",
      "100%|██████████| 80/80 [00:00<00:00, 277.22it/s]\u001b[A\n",
      " 36%|███▌      | 406/1123 [06:08<08:53,  1.34it/s]"
     ]
    },
    {
     "name": "stdout",
     "output_type": "stream",
     "text": [
      "/home/jiang/projects/SubtleGAN/data/brats2021/train/BraTS2021_01395\n"
     ]
    },
    {
     "name": "stderr",
     "output_type": "stream",
     "text": [
      "\n",
      "  0%|          | 0/80 [00:00<?, ?it/s]\u001b[A\n",
      " 38%|███▊      | 30/80 [00:00<00:00, 295.58it/s]\u001b[A\n",
      "100%|██████████| 80/80 [00:00<00:00, 286.93it/s]\u001b[A\n",
      " 36%|███▌      | 407/1123 [06:08<08:45,  1.36it/s]"
     ]
    },
    {
     "name": "stdout",
     "output_type": "stream",
     "text": [
      "/home/jiang/projects/SubtleGAN/data/brats2021/train/BraTS2021_01534\n"
     ]
    },
    {
     "name": "stderr",
     "output_type": "stream",
     "text": [
      "\n",
      "  0%|          | 0/80 [00:00<?, ?it/s]\u001b[A\n",
      " 38%|███▊      | 30/80 [00:00<00:00, 298.87it/s]\u001b[A\n",
      "100%|██████████| 80/80 [00:00<00:00, 290.43it/s]\u001b[A\n",
      " 36%|███▋      | 408/1123 [06:09<08:38,  1.38it/s]"
     ]
    },
    {
     "name": "stdout",
     "output_type": "stream",
     "text": [
      "/home/jiang/projects/SubtleGAN/data/brats2021/train/BraTS2021_00432\n"
     ]
    },
    {
     "name": "stderr",
     "output_type": "stream",
     "text": [
      "\n",
      "  0%|          | 0/80 [00:00<?, ?it/s]\u001b[A\n",
      " 36%|███▋      | 29/80 [00:00<00:00, 283.99it/s]\u001b[A\n",
      "100%|██████████| 80/80 [00:00<00:00, 226.86it/s]\u001b[A\n",
      " 36%|███▋      | 409/1123 [06:10<08:51,  1.34it/s]"
     ]
    },
    {
     "name": "stdout",
     "output_type": "stream",
     "text": [
      "/home/jiang/projects/SubtleGAN/data/brats2021/train/BraTS2021_00840\n"
     ]
    },
    {
     "name": "stderr",
     "output_type": "stream",
     "text": [
      "\n",
      "  0%|          | 0/80 [00:00<?, ?it/s]\u001b[A\n",
      " 36%|███▋      | 29/80 [00:00<00:00, 288.80it/s]\u001b[A\n",
      "100%|██████████| 80/80 [00:00<00:00, 287.71it/s]\u001b[A\n",
      " 37%|███▋      | 410/1123 [06:10<08:43,  1.36it/s]"
     ]
    },
    {
     "name": "stdout",
     "output_type": "stream",
     "text": [
      "/home/jiang/projects/SubtleGAN/data/brats2021/train/BraTS2021_01557\n"
     ]
    },
    {
     "name": "stderr",
     "output_type": "stream",
     "text": [
      "\n",
      "  0%|          | 0/80 [00:00<?, ?it/s]\u001b[A\n",
      " 18%|█▊        | 14/80 [00:00<00:00, 138.53it/s]\u001b[A\n",
      " 49%|████▉     | 39/80 [00:00<00:00, 201.02it/s]\u001b[A\n",
      "100%|██████████| 80/80 [00:00<00:00, 204.36it/s]\u001b[A\n",
      " 37%|███▋      | 411/1123 [06:12<10:37,  1.12it/s]"
     ]
    },
    {
     "name": "stdout",
     "output_type": "stream",
     "text": [
      "/home/jiang/projects/SubtleGAN/data/brats2021/train/BraTS2021_00571\n"
     ]
    },
    {
     "name": "stderr",
     "output_type": "stream",
     "text": [
      "\n",
      "  0%|          | 0/80 [00:00<?, ?it/s]\u001b[A\n",
      " 39%|███▉      | 31/80 [00:00<00:00, 306.12it/s]\u001b[A\n",
      "100%|██████████| 80/80 [00:00<00:00, 297.19it/s]\u001b[A\n",
      " 37%|███▋      | 412/1123 [06:13<11:15,  1.05it/s]"
     ]
    },
    {
     "name": "stdout",
     "output_type": "stream",
     "text": [
      "/home/jiang/projects/SubtleGAN/data/brats2021/train/BraTS2021_01072\n"
     ]
    },
    {
     "name": "stderr",
     "output_type": "stream",
     "text": [
      "\n",
      "  0%|          | 0/80 [00:00<?, ?it/s]\u001b[A\n",
      " 36%|███▋      | 29/80 [00:00<00:00, 284.73it/s]\u001b[A\n",
      "100%|██████████| 80/80 [00:00<00:00, 232.02it/s]\u001b[A\n",
      " 37%|███▋      | 413/1123 [06:14<10:36,  1.12it/s]"
     ]
    },
    {
     "name": "stdout",
     "output_type": "stream",
     "text": [
      "/home/jiang/projects/SubtleGAN/data/brats2021/train/BraTS2021_00008\n"
     ]
    },
    {
     "name": "stderr",
     "output_type": "stream",
     "text": [
      "\n",
      "  0%|          | 0/80 [00:00<?, ?it/s]\u001b[A\n",
      " 24%|██▍       | 19/80 [00:00<00:00, 187.22it/s]\u001b[A\n",
      " 48%|████▊     | 38/80 [00:00<00:00, 177.68it/s]\u001b[A\n",
      " 70%|███████   | 56/80 [00:00<00:00, 174.45it/s]\u001b[A\n",
      "100%|██████████| 80/80 [00:00<00:00, 174.45it/s]\u001b[A\n",
      " 37%|███▋      | 414/1123 [06:14<10:21,  1.14it/s]"
     ]
    },
    {
     "name": "stdout",
     "output_type": "stream",
     "text": [
      "/home/jiang/projects/SubtleGAN/data/brats2021/train/BraTS2021_00089\n"
     ]
    },
    {
     "name": "stderr",
     "output_type": "stream",
     "text": [
      "\n",
      "  0%|          | 0/80 [00:00<?, ?it/s]\u001b[A\n",
      " 22%|██▎       | 18/80 [00:00<00:00, 171.58it/s]\u001b[A\n",
      " 45%|████▌     | 36/80 [00:00<00:00, 155.77it/s]\u001b[A\n",
      "100%|██████████| 80/80 [00:00<00:00, 195.21it/s]\u001b[A\n",
      " 37%|███▋      | 415/1123 [06:15<09:57,  1.19it/s]"
     ]
    },
    {
     "name": "stdout",
     "output_type": "stream",
     "text": [
      "/home/jiang/projects/SubtleGAN/data/brats2021/train/BraTS2021_00349\n"
     ]
    },
    {
     "name": "stderr",
     "output_type": "stream",
     "text": [
      "\n",
      "  0%|          | 0/80 [00:00<?, ?it/s]\u001b[A\n",
      " 40%|████      | 32/80 [00:00<00:00, 319.78it/s]\u001b[A\n",
      "100%|██████████| 80/80 [00:00<00:00, 307.89it/s]\u001b[A\n",
      " 37%|███▋      | 416/1123 [06:16<09:27,  1.25it/s]"
     ]
    },
    {
     "name": "stdout",
     "output_type": "stream",
     "text": [
      "/home/jiang/projects/SubtleGAN/data/brats2021/train/BraTS2021_00377\n"
     ]
    },
    {
     "name": "stderr",
     "output_type": "stream",
     "text": [
      "\n",
      "  0%|          | 0/80 [00:00<?, ?it/s]\u001b[A\n",
      " 38%|███▊      | 30/80 [00:00<00:00, 293.12it/s]\u001b[A\n",
      "100%|██████████| 80/80 [00:00<00:00, 282.14it/s]\u001b[A\n",
      " 37%|███▋      | 417/1123 [06:17<09:08,  1.29it/s]"
     ]
    },
    {
     "name": "stdout",
     "output_type": "stream",
     "text": [
      "/home/jiang/projects/SubtleGAN/data/brats2021/train/BraTS2021_01042\n"
     ]
    },
    {
     "name": "stderr",
     "output_type": "stream",
     "text": [
      "\n",
      "  0%|          | 0/80 [00:00<?, ?it/s]\u001b[A\n",
      " 38%|███▊      | 30/80 [00:00<00:00, 291.74it/s]\u001b[A\n",
      "100%|██████████| 80/80 [00:00<00:00, 274.00it/s]\u001b[A\n",
      " 37%|███▋      | 418/1123 [06:17<08:57,  1.31it/s]"
     ]
    },
    {
     "name": "stdout",
     "output_type": "stream",
     "text": [
      "/home/jiang/projects/SubtleGAN/data/brats2021/train/BraTS2021_00782\n"
     ]
    },
    {
     "name": "stderr",
     "output_type": "stream",
     "text": [
      "\n",
      "  0%|          | 0/80 [00:00<?, ?it/s]\u001b[A\n",
      " 36%|███▋      | 29/80 [00:00<00:00, 287.28it/s]\u001b[A\n",
      "100%|██████████| 80/80 [00:00<00:00, 282.08it/s]\u001b[A\n",
      " 37%|███▋      | 419/1123 [06:19<10:51,  1.08it/s]"
     ]
    },
    {
     "name": "stdout",
     "output_type": "stream",
     "text": [
      "/home/jiang/projects/SubtleGAN/data/brats2021/train/BraTS2021_00524\n"
     ]
    },
    {
     "name": "stderr",
     "output_type": "stream",
     "text": [
      "\n",
      "  0%|          | 0/80 [00:00<?, ?it/s]\u001b[A\n",
      " 34%|███▍      | 27/80 [00:00<00:00, 260.17it/s]\u001b[A\n",
      " 68%|██████▊   | 54/80 [00:00<00:00, 248.02it/s]\u001b[A\n",
      "100%|██████████| 80/80 [00:00<00:00, 246.26it/s]\u001b[A\n",
      " 37%|███▋      | 420/1123 [06:19<10:00,  1.17it/s]"
     ]
    },
    {
     "name": "stdout",
     "output_type": "stream",
     "text": [
      "/home/jiang/projects/SubtleGAN/data/brats2021/train/BraTS2021_00496\n"
     ]
    },
    {
     "name": "stderr",
     "output_type": "stream",
     "text": [
      "\n",
      "  0%|          | 0/80 [00:00<?, ?it/s]\u001b[A\n",
      " 29%|██▉       | 23/80 [00:00<00:00, 228.48it/s]\u001b[A\n",
      " 59%|█████▉    | 47/80 [00:00<00:00, 230.12it/s]\u001b[A\n",
      "100%|██████████| 80/80 [00:00<00:00, 233.23it/s]\u001b[A\n",
      " 37%|███▋      | 421/1123 [06:20<09:31,  1.23it/s]"
     ]
    },
    {
     "name": "stdout",
     "output_type": "stream",
     "text": [
      "/home/jiang/projects/SubtleGAN/data/brats2021/train/BraTS2021_01057\n"
     ]
    },
    {
     "name": "stderr",
     "output_type": "stream",
     "text": [
      "\n",
      "  0%|          | 0/80 [00:00<?, ?it/s]\u001b[A\n",
      " 14%|█▍        | 11/80 [00:00<00:00, 106.41it/s]\u001b[A\n",
      " 31%|███▏      | 25/80 [00:00<00:00, 123.95it/s]\u001b[A\n",
      " 59%|█████▉    | 47/80 [00:00<00:00, 164.74it/s]\u001b[A\n",
      "100%|██████████| 80/80 [00:00<00:00, 176.80it/s]\u001b[A\n",
      " 38%|███▊      | 422/1123 [06:21<09:46,  1.20it/s]"
     ]
    },
    {
     "name": "stdout",
     "output_type": "stream",
     "text": [
      "/home/jiang/projects/SubtleGAN/data/brats2021/train/BraTS2021_01071\n"
     ]
    },
    {
     "name": "stderr",
     "output_type": "stream",
     "text": [
      "\n",
      "  0%|          | 0/80 [00:00<?, ?it/s]\u001b[A\n",
      " 34%|███▍      | 27/80 [00:00<00:00, 262.26it/s]\u001b[A\n",
      "100%|██████████| 80/80 [00:00<00:00, 259.25it/s]\u001b[A\n",
      " 38%|███▊      | 423/1123 [06:22<09:27,  1.23it/s]"
     ]
    },
    {
     "name": "stdout",
     "output_type": "stream",
     "text": [
      "/home/jiang/projects/SubtleGAN/data/brats2021/train/BraTS2021_01167\n"
     ]
    },
    {
     "name": "stderr",
     "output_type": "stream",
     "text": [
      "\n",
      "  0%|          | 0/80 [00:00<?, ?it/s]\u001b[A\n",
      " 38%|███▊      | 30/80 [00:00<00:00, 298.43it/s]\u001b[A\n",
      "100%|██████████| 80/80 [00:00<00:00, 244.43it/s]\u001b[A\n",
      " 38%|███▊      | 424/1123 [06:22<09:12,  1.27it/s]"
     ]
    },
    {
     "name": "stdout",
     "output_type": "stream",
     "text": [
      "/home/jiang/projects/SubtleGAN/data/brats2021/train/BraTS2021_01043\n"
     ]
    },
    {
     "name": "stderr",
     "output_type": "stream",
     "text": [
      "\n",
      "  0%|          | 0/80 [00:00<?, ?it/s]\u001b[A\n",
      " 31%|███▏      | 25/80 [00:00<00:00, 242.33it/s]\u001b[A\n",
      " 62%|██████▎   | 50/80 [00:00<00:00, 245.04it/s]\u001b[A\n",
      "100%|██████████| 80/80 [00:00<00:00, 236.16it/s]\u001b[A\n",
      " 38%|███▊      | 425/1123 [06:23<09:08,  1.27it/s]"
     ]
    },
    {
     "name": "stdout",
     "output_type": "stream",
     "text": [
      "/home/jiang/projects/SubtleGAN/data/brats2021/train/BraTS2021_01422\n"
     ]
    },
    {
     "name": "stderr",
     "output_type": "stream",
     "text": [
      "\n",
      "  0%|          | 0/80 [00:00<?, ?it/s]\u001b[A\n",
      " 31%|███▏      | 25/80 [00:00<00:00, 248.16it/s]\u001b[A\n",
      " 62%|██████▎   | 50/80 [00:00<00:00, 234.82it/s]\u001b[A\n",
      "100%|██████████| 80/80 [00:00<00:00, 234.42it/s]\u001b[A\n",
      " 38%|███▊      | 426/1123 [06:24<09:07,  1.27it/s]"
     ]
    },
    {
     "name": "stdout",
     "output_type": "stream",
     "text": [
      "/home/jiang/projects/SubtleGAN/data/brats2021/train/BraTS2021_00143\n"
     ]
    },
    {
     "name": "stderr",
     "output_type": "stream",
     "text": [
      "\n",
      "  0%|          | 0/80 [00:00<?, ?it/s]\u001b[A\n",
      " 32%|███▎      | 26/80 [00:00<00:00, 249.45it/s]\u001b[A\n",
      " 64%|██████▍   | 51/80 [00:00<00:00, 236.65it/s]\u001b[A\n",
      "100%|██████████| 80/80 [00:00<00:00, 236.19it/s]\u001b[A\n",
      " 38%|███▊      | 427/1123 [06:25<09:03,  1.28it/s]"
     ]
    },
    {
     "name": "stdout",
     "output_type": "stream",
     "text": [
      "/home/jiang/projects/SubtleGAN/data/brats2021/train/BraTS2021_00426\n"
     ]
    },
    {
     "name": "stderr",
     "output_type": "stream",
     "text": [
      "\n",
      "  0%|          | 0/80 [00:00<?, ?it/s]\u001b[A\n",
      " 30%|███       | 24/80 [00:00<00:00, 236.93it/s]\u001b[A\n",
      " 62%|██████▎   | 50/80 [00:00<00:00, 245.95it/s]\u001b[A\n",
      "100%|██████████| 80/80 [00:00<00:00, 260.13it/s]\u001b[A\n",
      " 38%|███▊      | 428/1123 [06:25<08:56,  1.30it/s]"
     ]
    },
    {
     "name": "stdout",
     "output_type": "stream",
     "text": [
      "/home/jiang/projects/SubtleGAN/data/brats2021/train/BraTS2021_01603\n"
     ]
    },
    {
     "name": "stderr",
     "output_type": "stream",
     "text": [
      "\n",
      "  0%|          | 0/80 [00:00<?, ?it/s]\u001b[A\n",
      " 38%|███▊      | 30/80 [00:00<00:00, 296.93it/s]\u001b[A\n",
      "100%|██████████| 80/80 [00:00<00:00, 289.82it/s]\u001b[A\n",
      " 38%|███▊      | 429/1123 [06:27<09:52,  1.17it/s]"
     ]
    },
    {
     "name": "stdout",
     "output_type": "stream",
     "text": [
      "/home/jiang/projects/SubtleGAN/data/brats2021/train/BraTS2021_00187\n"
     ]
    },
    {
     "name": "stderr",
     "output_type": "stream",
     "text": [
      "\n",
      "  0%|          | 0/80 [00:00<?, ?it/s]\u001b[A\n",
      " 39%|███▉      | 31/80 [00:00<00:00, 303.04it/s]\u001b[A\n",
      "100%|██████████| 80/80 [00:00<00:00, 266.37it/s]\u001b[A\n",
      " 38%|███▊      | 430/1123 [06:27<09:28,  1.22it/s]"
     ]
    },
    {
     "name": "stdout",
     "output_type": "stream",
     "text": [
      "/home/jiang/projects/SubtleGAN/data/brats2021/train/BraTS2021_00240\n"
     ]
    },
    {
     "name": "stderr",
     "output_type": "stream",
     "text": [
      "\n",
      "  0%|          | 0/80 [00:00<?, ?it/s]\u001b[A\n",
      " 29%|██▉       | 23/80 [00:00<00:00, 220.54it/s]\u001b[A\n",
      " 59%|█████▉    | 47/80 [00:00<00:00, 231.11it/s]\u001b[A\n",
      "100%|██████████| 80/80 [00:00<00:00, 254.57it/s]\u001b[A\n",
      " 38%|███▊      | 431/1123 [06:28<09:12,  1.25it/s]"
     ]
    },
    {
     "name": "stdout",
     "output_type": "stream",
     "text": [
      "/home/jiang/projects/SubtleGAN/data/brats2021/train/BraTS2021_00036\n"
     ]
    },
    {
     "name": "stderr",
     "output_type": "stream",
     "text": [
      "\n",
      "  0%|          | 0/80 [00:00<?, ?it/s]\u001b[A\n",
      " 36%|███▋      | 29/80 [00:00<00:00, 280.05it/s]\u001b[A\n",
      "100%|██████████| 80/80 [00:00<00:00, 261.63it/s]\u001b[A\n",
      " 38%|███▊      | 432/1123 [06:29<08:45,  1.31it/s]"
     ]
    },
    {
     "name": "stdout",
     "output_type": "stream",
     "text": [
      "/home/jiang/projects/SubtleGAN/data/brats2021/train/BraTS2021_01141\n"
     ]
    },
    {
     "name": "stderr",
     "output_type": "stream",
     "text": [
      "\n",
      "  0%|          | 0/80 [00:00<?, ?it/s]\u001b[A\n",
      " 34%|███▍      | 27/80 [00:00<00:00, 260.61it/s]\u001b[A\n",
      " 68%|██████▊   | 54/80 [00:00<00:00, 251.56it/s]\u001b[A\n",
      "100%|██████████| 80/80 [00:00<00:00, 245.90it/s]\u001b[A\n",
      " 39%|███▊      | 433/1123 [06:29<08:45,  1.31it/s]"
     ]
    },
    {
     "name": "stdout",
     "output_type": "stream",
     "text": [
      "/home/jiang/projects/SubtleGAN/data/brats2021/train/BraTS2021_01641\n"
     ]
    },
    {
     "name": "stderr",
     "output_type": "stream",
     "text": [
      "\n",
      "  0%|          | 0/80 [00:00<?, ?it/s]\u001b[A\n",
      " 40%|████      | 32/80 [00:00<00:00, 317.85it/s]\u001b[A\n",
      "100%|██████████| 80/80 [00:00<00:00, 297.68it/s]\u001b[A\n",
      " 39%|███▊      | 434/1123 [06:31<09:47,  1.17it/s]"
     ]
    },
    {
     "name": "stdout",
     "output_type": "stream",
     "text": [
      "/home/jiang/projects/SubtleGAN/data/brats2021/train/BraTS2021_00618\n"
     ]
    },
    {
     "name": "stderr",
     "output_type": "stream",
     "text": [
      "\n",
      "  0%|          | 0/80 [00:00<?, ?it/s]\u001b[A\n",
      " 34%|███▍      | 27/80 [00:00<00:00, 262.09it/s]\u001b[A\n",
      " 68%|██████▊   | 54/80 [00:00<00:00, 257.86it/s]\u001b[A\n",
      "100%|██████████| 80/80 [00:00<00:00, 256.61it/s]\u001b[A\n",
      " 39%|███▊      | 435/1123 [06:31<09:10,  1.25it/s]"
     ]
    },
    {
     "name": "stdout",
     "output_type": "stream",
     "text": [
      "/home/jiang/projects/SubtleGAN/data/brats2021/train/BraTS2021_00504\n"
     ]
    },
    {
     "name": "stderr",
     "output_type": "stream",
     "text": [
      "\n",
      "  0%|          | 0/80 [00:00<?, ?it/s]\u001b[A\n",
      " 31%|███▏      | 25/80 [00:00<00:00, 243.43it/s]\u001b[A\n",
      " 62%|██████▎   | 50/80 [00:00<00:00, 233.85it/s]\u001b[A\n",
      "100%|██████████| 80/80 [00:00<00:00, 229.39it/s]\u001b[A\n",
      " 39%|███▉      | 436/1123 [06:32<08:52,  1.29it/s]"
     ]
    },
    {
     "name": "stdout",
     "output_type": "stream",
     "text": [
      "/home/jiang/projects/SubtleGAN/data/brats2021/train/BraTS2021_00488\n"
     ]
    },
    {
     "name": "stderr",
     "output_type": "stream",
     "text": [
      "\n",
      "  0%|          | 0/80 [00:00<?, ?it/s]\u001b[A\n",
      " 34%|███▍      | 27/80 [00:00<00:00, 262.95it/s]\u001b[A\n",
      " 68%|██████▊   | 54/80 [00:00<00:00, 251.05it/s]\u001b[A\n",
      "100%|██████████| 80/80 [00:00<00:00, 249.45it/s]\u001b[A\n",
      " 39%|███▉      | 437/1123 [06:33<08:36,  1.33it/s]"
     ]
    },
    {
     "name": "stdout",
     "output_type": "stream",
     "text": [
      "/home/jiang/projects/SubtleGAN/data/brats2021/train/BraTS2021_00814\n"
     ]
    },
    {
     "name": "stderr",
     "output_type": "stream",
     "text": [
      "\n",
      "  0%|          | 0/80 [00:00<?, ?it/s]\u001b[A\n",
      " 39%|███▉      | 31/80 [00:00<00:00, 309.04it/s]\u001b[A\n",
      "100%|██████████| 80/80 [00:00<00:00, 301.61it/s]\u001b[A\n",
      " 39%|███▉      | 438/1123 [06:34<09:30,  1.20it/s]"
     ]
    },
    {
     "name": "stdout",
     "output_type": "stream",
     "text": [
      "/home/jiang/projects/SubtleGAN/data/brats2021/train/BraTS2021_01324\n"
     ]
    },
    {
     "name": "stderr",
     "output_type": "stream",
     "text": [
      "\n",
      "  0%|          | 0/80 [00:00<?, ?it/s]\u001b[A\n",
      " 38%|███▊      | 30/80 [00:00<00:00, 298.69it/s]\u001b[A\n",
      "100%|██████████| 80/80 [00:00<00:00, 295.44it/s]\u001b[A\n",
      " 39%|███▉      | 439/1123 [06:34<09:03,  1.26it/s]"
     ]
    },
    {
     "name": "stdout",
     "output_type": "stream",
     "text": [
      "/home/jiang/projects/SubtleGAN/data/brats2021/train/BraTS2021_00162\n"
     ]
    },
    {
     "name": "stderr",
     "output_type": "stream",
     "text": [
      "\n",
      "  0%|          | 0/80 [00:00<?, ?it/s]\u001b[A\n",
      " 39%|███▉      | 31/80 [00:00<00:00, 299.96it/s]\u001b[A\n",
      "100%|██████████| 80/80 [00:00<00:00, 295.52it/s]\u001b[A\n",
      " 39%|███▉      | 440/1123 [06:35<08:43,  1.31it/s]"
     ]
    },
    {
     "name": "stdout",
     "output_type": "stream",
     "text": [
      "/home/jiang/projects/SubtleGAN/data/brats2021/train/BraTS2021_00018\n"
     ]
    },
    {
     "name": "stderr",
     "output_type": "stream",
     "text": [
      "\n",
      "  0%|          | 0/80 [00:00<?, ?it/s]\u001b[A\n",
      " 39%|███▉      | 31/80 [00:00<00:00, 301.85it/s]\u001b[A\n",
      "100%|██████████| 80/80 [00:00<00:00, 301.71it/s]\u001b[A\n",
      " 39%|███▉      | 441/1123 [06:36<08:11,  1.39it/s]"
     ]
    },
    {
     "name": "stdout",
     "output_type": "stream",
     "text": [
      "/home/jiang/projects/SubtleGAN/data/brats2021/train/BraTS2021_01221\n"
     ]
    },
    {
     "name": "stderr",
     "output_type": "stream",
     "text": [
      "\n",
      "  0%|          | 0/80 [00:00<?, ?it/s]\u001b[A\n",
      " 38%|███▊      | 30/80 [00:00<00:00, 298.08it/s]\u001b[A\n",
      "100%|██████████| 80/80 [00:00<00:00, 296.45it/s]\u001b[A\n",
      " 39%|███▉      | 442/1123 [06:36<08:06,  1.40it/s]"
     ]
    },
    {
     "name": "stdout",
     "output_type": "stream",
     "text": [
      "/home/jiang/projects/SubtleGAN/data/brats2021/train/BraTS2021_00680\n"
     ]
    },
    {
     "name": "stderr",
     "output_type": "stream",
     "text": [
      "\n",
      "  0%|          | 0/80 [00:00<?, ?it/s]\u001b[A\n",
      " 39%|███▉      | 31/80 [00:00<00:00, 304.27it/s]\u001b[A\n",
      "100%|██████████| 80/80 [00:00<00:00, 297.80it/s]\u001b[A\n",
      " 39%|███▉      | 443/1123 [06:37<07:50,  1.45it/s]"
     ]
    },
    {
     "name": "stdout",
     "output_type": "stream",
     "text": [
      "/home/jiang/projects/SubtleGAN/data/brats2021/train/BraTS2021_00631\n"
     ]
    },
    {
     "name": "stderr",
     "output_type": "stream",
     "text": [
      "\n",
      "  0%|          | 0/80 [00:00<?, ?it/s]\u001b[A\n",
      " 38%|███▊      | 30/80 [00:00<00:00, 291.61it/s]\u001b[A\n",
      "100%|██████████| 80/80 [00:00<00:00, 278.82it/s]\u001b[A\n",
      " 40%|███▉      | 444/1123 [06:38<07:40,  1.48it/s]"
     ]
    },
    {
     "name": "stdout",
     "output_type": "stream",
     "text": [
      "/home/jiang/projects/SubtleGAN/data/brats2021/train/BraTS2021_00528\n"
     ]
    },
    {
     "name": "stderr",
     "output_type": "stream",
     "text": [
      "\n",
      "  0%|          | 0/80 [00:00<?, ?it/s]\u001b[A\n",
      " 38%|███▊      | 30/80 [00:00<00:00, 299.91it/s]\u001b[A\n",
      "100%|██████████| 80/80 [00:00<00:00, 297.89it/s]\u001b[A\n",
      " 40%|███▉      | 445/1123 [06:38<07:36,  1.49it/s]"
     ]
    },
    {
     "name": "stdout",
     "output_type": "stream",
     "text": [
      "/home/jiang/projects/SubtleGAN/data/brats2021/train/BraTS2021_01638\n"
     ]
    },
    {
     "name": "stderr",
     "output_type": "stream",
     "text": [
      "\n",
      "  0%|          | 0/80 [00:00<?, ?it/s]\u001b[A\n",
      " 40%|████      | 32/80 [00:00<00:00, 312.46it/s]\u001b[A\n",
      "100%|██████████| 80/80 [00:00<00:00, 299.94it/s]\u001b[A\n",
      " 40%|███▉      | 446/1123 [06:39<08:46,  1.29it/s]"
     ]
    },
    {
     "name": "stdout",
     "output_type": "stream",
     "text": [
      "/home/jiang/projects/SubtleGAN/data/brats2021/train/BraTS2021_01618\n"
     ]
    },
    {
     "name": "stderr",
     "output_type": "stream",
     "text": [
      "\n",
      "  0%|          | 0/80 [00:00<?, ?it/s]\u001b[A\n",
      " 39%|███▉      | 31/80 [00:00<00:00, 302.39it/s]\u001b[A\n",
      "100%|██████████| 80/80 [00:00<00:00, 295.94it/s]\u001b[A\n",
      " 40%|███▉      | 447/1123 [06:40<09:32,  1.18it/s]"
     ]
    },
    {
     "name": "stdout",
     "output_type": "stream",
     "text": [
      "/home/jiang/projects/SubtleGAN/data/brats2021/train/BraTS2021_00150\n"
     ]
    },
    {
     "name": "stderr",
     "output_type": "stream",
     "text": [
      "\n",
      "  0%|          | 0/80 [00:00<?, ?it/s]\u001b[A\n",
      " 39%|███▉      | 31/80 [00:00<00:00, 307.96it/s]\u001b[A\n",
      "100%|██████████| 80/80 [00:00<00:00, 299.93it/s]\u001b[A\n",
      " 40%|███▉      | 448/1123 [06:41<08:59,  1.25it/s]"
     ]
    },
    {
     "name": "stdout",
     "output_type": "stream",
     "text": [
      "/home/jiang/projects/SubtleGAN/data/brats2021/train/BraTS2021_00020\n"
     ]
    },
    {
     "name": "stderr",
     "output_type": "stream",
     "text": [
      "\n",
      "  0%|          | 0/80 [00:00<?, ?it/s]\u001b[A\n",
      " 39%|███▉      | 31/80 [00:00<00:00, 305.83it/s]\u001b[A\n",
      "100%|██████████| 80/80 [00:00<00:00, 298.53it/s]\u001b[A\n",
      " 40%|███▉      | 449/1123 [06:42<08:23,  1.34it/s]"
     ]
    },
    {
     "name": "stdout",
     "output_type": "stream",
     "text": [
      "/home/jiang/projects/SubtleGAN/data/brats2021/train/BraTS2021_00747\n"
     ]
    },
    {
     "name": "stderr",
     "output_type": "stream",
     "text": [
      "\n",
      "  0%|          | 0/80 [00:00<?, ?it/s]\u001b[A\n",
      " 39%|███▉      | 31/80 [00:00<00:00, 308.99it/s]\u001b[A\n",
      "100%|██████████| 80/80 [00:00<00:00, 296.10it/s]\u001b[A\n",
      " 40%|████      | 450/1123 [06:42<07:57,  1.41it/s]"
     ]
    },
    {
     "name": "stdout",
     "output_type": "stream",
     "text": [
      "/home/jiang/projects/SubtleGAN/data/brats2021/train/BraTS2021_00628\n"
     ]
    },
    {
     "name": "stderr",
     "output_type": "stream",
     "text": [
      "\n",
      "  0%|          | 0/80 [00:00<?, ?it/s]\u001b[A\n",
      " 39%|███▉      | 31/80 [00:00<00:00, 307.69it/s]\u001b[A\n",
      "100%|██████████| 80/80 [00:00<00:00, 299.04it/s]\u001b[A\n",
      " 40%|████      | 451/1123 [06:43<07:38,  1.47it/s]"
     ]
    },
    {
     "name": "stdout",
     "output_type": "stream",
     "text": [
      "/home/jiang/projects/SubtleGAN/data/brats2021/train/BraTS2021_01240\n"
     ]
    },
    {
     "name": "stderr",
     "output_type": "stream",
     "text": [
      "\n",
      "  0%|          | 0/80 [00:00<?, ?it/s]\u001b[A\n",
      " 36%|███▋      | 29/80 [00:00<00:00, 289.33it/s]\u001b[A\n",
      "100%|██████████| 80/80 [00:00<00:00, 291.65it/s]\u001b[A\n",
      " 40%|████      | 452/1123 [06:44<07:42,  1.45it/s]"
     ]
    },
    {
     "name": "stdout",
     "output_type": "stream",
     "text": [
      "/home/jiang/projects/SubtleGAN/data/brats2021/train/BraTS2021_00542\n"
     ]
    },
    {
     "name": "stderr",
     "output_type": "stream",
     "text": [
      "\n",
      "  0%|          | 0/80 [00:00<?, ?it/s]\u001b[A\n",
      " 35%|███▌      | 28/80 [00:00<00:00, 273.76it/s]\u001b[A\n",
      "100%|██████████| 80/80 [00:00<00:00, 284.70it/s]\u001b[A\n",
      " 40%|████      | 453/1123 [06:44<07:30,  1.49it/s]"
     ]
    },
    {
     "name": "stdout",
     "output_type": "stream",
     "text": [
      "/home/jiang/projects/SubtleGAN/data/brats2021/train/BraTS2021_00291\n"
     ]
    },
    {
     "name": "stderr",
     "output_type": "stream",
     "text": [
      "\n",
      "  0%|          | 0/80 [00:00<?, ?it/s]\u001b[A\n",
      " 39%|███▉      | 31/80 [00:00<00:00, 305.00it/s]\u001b[A\n",
      "100%|██████████| 80/80 [00:00<00:00, 298.00it/s]\u001b[A\n",
      " 40%|████      | 454/1123 [06:45<07:35,  1.47it/s]"
     ]
    },
    {
     "name": "stdout",
     "output_type": "stream",
     "text": [
      "/home/jiang/projects/SubtleGAN/data/brats2021/train/BraTS2021_01316\n"
     ]
    },
    {
     "name": "stderr",
     "output_type": "stream",
     "text": [
      "\n",
      "  0%|          | 0/80 [00:00<?, ?it/s]\u001b[A\n",
      " 39%|███▉      | 31/80 [00:00<00:00, 301.67it/s]\u001b[A\n",
      "100%|██████████| 80/80 [00:00<00:00, 291.92it/s]\u001b[A\n",
      " 41%|████      | 455/1123 [06:46<07:37,  1.46it/s]"
     ]
    },
    {
     "name": "stdout",
     "output_type": "stream",
     "text": [
      "/home/jiang/projects/SubtleGAN/data/brats2021/train/BraTS2021_01551\n"
     ]
    },
    {
     "name": "stderr",
     "output_type": "stream",
     "text": [
      "\n",
      "  0%|          | 0/80 [00:00<?, ?it/s]\u001b[A\n",
      " 39%|███▉      | 31/80 [00:00<00:00, 308.52it/s]\u001b[A\n",
      "100%|██████████| 80/80 [00:00<00:00, 303.37it/s]\u001b[A\n",
      " 41%|████      | 456/1123 [06:47<08:45,  1.27it/s]"
     ]
    },
    {
     "name": "stdout",
     "output_type": "stream",
     "text": [
      "/home/jiang/projects/SubtleGAN/data/brats2021/train/BraTS2021_00686\n"
     ]
    },
    {
     "name": "stderr",
     "output_type": "stream",
     "text": [
      "\n",
      "  0%|          | 0/80 [00:00<?, ?it/s]\u001b[A\n",
      " 36%|███▋      | 29/80 [00:00<00:00, 281.63it/s]\u001b[A\n",
      "100%|██████████| 80/80 [00:00<00:00, 285.45it/s]\u001b[A\n",
      " 41%|████      | 457/1123 [06:47<08:15,  1.34it/s]"
     ]
    },
    {
     "name": "stdout",
     "output_type": "stream",
     "text": [
      "/home/jiang/projects/SubtleGAN/data/brats2021/train/BraTS2021_00707\n"
     ]
    },
    {
     "name": "stderr",
     "output_type": "stream",
     "text": [
      "\n",
      "  0%|          | 0/80 [00:00<?, ?it/s]\u001b[A\n",
      " 38%|███▊      | 30/80 [00:00<00:00, 291.69it/s]\u001b[A\n",
      "100%|██████████| 80/80 [00:00<00:00, 289.51it/s]\u001b[A\n",
      " 41%|████      | 458/1123 [06:48<07:53,  1.40it/s]"
     ]
    },
    {
     "name": "stdout",
     "output_type": "stream",
     "text": [
      "/home/jiang/projects/SubtleGAN/data/brats2021/train/BraTS2021_01129\n"
     ]
    },
    {
     "name": "stderr",
     "output_type": "stream",
     "text": [
      "\n",
      "  0%|          | 0/80 [00:00<?, ?it/s]\u001b[A\n",
      " 38%|███▊      | 30/80 [00:00<00:00, 295.40it/s]\u001b[A\n",
      "100%|██████████| 80/80 [00:00<00:00, 284.82it/s]\u001b[A\n",
      " 41%|████      | 459/1123 [06:49<07:55,  1.40it/s]"
     ]
    },
    {
     "name": "stdout",
     "output_type": "stream",
     "text": [
      "/home/jiang/projects/SubtleGAN/data/brats2021/train/BraTS2021_01010\n"
     ]
    },
    {
     "name": "stderr",
     "output_type": "stream",
     "text": [
      "\n",
      "  0%|          | 0/80 [00:00<?, ?it/s]\u001b[A\n",
      " 39%|███▉      | 31/80 [00:00<00:00, 309.21it/s]\u001b[A\n",
      "100%|██████████| 80/80 [00:00<00:00, 289.65it/s]\u001b[A\n",
      " 41%|████      | 460/1123 [06:49<07:57,  1.39it/s]"
     ]
    },
    {
     "name": "stdout",
     "output_type": "stream",
     "text": [
      "/home/jiang/projects/SubtleGAN/data/brats2021/train/BraTS2021_01045\n"
     ]
    },
    {
     "name": "stderr",
     "output_type": "stream",
     "text": [
      "\n",
      "  0%|          | 0/80 [00:00<?, ?it/s]\u001b[A\n",
      " 39%|███▉      | 31/80 [00:00<00:00, 301.36it/s]\u001b[A\n",
      "100%|██████████| 80/80 [00:00<00:00, 297.34it/s]\u001b[A\n",
      " 41%|████      | 461/1123 [06:50<07:54,  1.39it/s]"
     ]
    },
    {
     "name": "stdout",
     "output_type": "stream",
     "text": [
      "/home/jiang/projects/SubtleGAN/data/brats2021/train/BraTS2021_01598\n"
     ]
    },
    {
     "name": "stderr",
     "output_type": "stream",
     "text": [
      "\n",
      "  0%|          | 0/80 [00:00<?, ?it/s]\u001b[A\n",
      " 38%|███▊      | 30/80 [00:00<00:00, 296.24it/s]\u001b[A\n",
      "100%|██████████| 80/80 [00:00<00:00, 294.20it/s]\u001b[A\n",
      " 41%|████      | 462/1123 [06:51<08:58,  1.23it/s]"
     ]
    },
    {
     "name": "stdout",
     "output_type": "stream",
     "text": [
      "/home/jiang/projects/SubtleGAN/data/brats2021/train/BraTS2021_01307\n"
     ]
    },
    {
     "name": "stderr",
     "output_type": "stream",
     "text": [
      "\n",
      "  0%|          | 0/80 [00:00<?, ?it/s]\u001b[A\n",
      " 39%|███▉      | 31/80 [00:00<00:00, 304.40it/s]\u001b[A\n",
      "100%|██████████| 80/80 [00:00<00:00, 297.19it/s]\u001b[A\n",
      " 41%|████      | 463/1123 [06:52<08:39,  1.27it/s]"
     ]
    },
    {
     "name": "stdout",
     "output_type": "stream",
     "text": [
      "/home/jiang/projects/SubtleGAN/data/brats2021/train/BraTS2021_00417\n"
     ]
    },
    {
     "name": "stderr",
     "output_type": "stream",
     "text": [
      "\n",
      "  0%|          | 0/80 [00:00<?, ?it/s]\u001b[A\n",
      " 36%|███▋      | 29/80 [00:00<00:00, 284.91it/s]\u001b[A\n",
      "100%|██████████| 80/80 [00:00<00:00, 279.67it/s]\u001b[A\n",
      " 41%|████▏     | 464/1123 [06:53<08:24,  1.31it/s]"
     ]
    },
    {
     "name": "stdout",
     "output_type": "stream",
     "text": [
      "/home/jiang/projects/SubtleGAN/data/brats2021/train/BraTS2021_01415\n"
     ]
    },
    {
     "name": "stderr",
     "output_type": "stream",
     "text": [
      "\n",
      "  0%|          | 0/80 [00:00<?, ?it/s]\u001b[A\n",
      " 38%|███▊      | 30/80 [00:00<00:00, 298.56it/s]\u001b[A\n",
      "100%|██████████| 80/80 [00:00<00:00, 291.33it/s]\u001b[A\n",
      " 41%|████▏     | 465/1123 [06:53<08:13,  1.33it/s]"
     ]
    },
    {
     "name": "stdout",
     "output_type": "stream",
     "text": [
      "/home/jiang/projects/SubtleGAN/data/brats2021/train/BraTS2021_01248\n"
     ]
    },
    {
     "name": "stderr",
     "output_type": "stream",
     "text": [
      "\n",
      "  0%|          | 0/80 [00:00<?, ?it/s]\u001b[A\n",
      " 38%|███▊      | 30/80 [00:00<00:00, 293.94it/s]\u001b[A\n",
      "100%|██████████| 80/80 [00:00<00:00, 288.38it/s]\u001b[A\n",
      " 41%|████▏     | 466/1123 [06:54<08:04,  1.36it/s]"
     ]
    },
    {
     "name": "stdout",
     "output_type": "stream",
     "text": [
      "/home/jiang/projects/SubtleGAN/data/brats2021/train/BraTS2021_00028\n"
     ]
    },
    {
     "name": "stderr",
     "output_type": "stream",
     "text": [
      "\n",
      "  0%|          | 0/80 [00:00<?, ?it/s]\u001b[A\n",
      " 36%|███▋      | 29/80 [00:00<00:00, 286.44it/s]\u001b[A\n",
      "100%|██████████| 80/80 [00:00<00:00, 280.60it/s]\u001b[A\n",
      " 42%|████▏     | 467/1123 [06:55<07:43,  1.42it/s]"
     ]
    },
    {
     "name": "stdout",
     "output_type": "stream",
     "text": [
      "/home/jiang/projects/SubtleGAN/data/brats2021/train/BraTS2021_01275\n"
     ]
    },
    {
     "name": "stderr",
     "output_type": "stream",
     "text": [
      "\n",
      "  0%|          | 0/80 [00:00<?, ?it/s]\u001b[A\n",
      " 39%|███▉      | 31/80 [00:00<00:00, 308.86it/s]\u001b[A\n",
      "100%|██████████| 80/80 [00:00<00:00, 292.28it/s]\u001b[A\n",
      " 42%|████▏     | 468/1123 [06:55<07:45,  1.41it/s]"
     ]
    },
    {
     "name": "stdout",
     "output_type": "stream",
     "text": [
      "/home/jiang/projects/SubtleGAN/data/brats2021/train/BraTS2021_00341\n"
     ]
    },
    {
     "name": "stderr",
     "output_type": "stream",
     "text": [
      "\n",
      "  0%|          | 0/80 [00:00<?, ?it/s]\u001b[A\n",
      " 39%|███▉      | 31/80 [00:00<00:00, 309.85it/s]\u001b[A\n",
      "100%|██████████| 80/80 [00:00<00:00, 297.20it/s]\u001b[A\n",
      " 42%|████▏     | 469/1123 [06:56<07:42,  1.41it/s]"
     ]
    },
    {
     "name": "stdout",
     "output_type": "stream",
     "text": [
      "/home/jiang/projects/SubtleGAN/data/brats2021/train/BraTS2021_00513\n"
     ]
    },
    {
     "name": "stderr",
     "output_type": "stream",
     "text": [
      "\n",
      "  0%|          | 0/80 [00:00<?, ?it/s]\u001b[A\n",
      " 39%|███▉      | 31/80 [00:00<00:00, 300.79it/s]\u001b[A\n",
      "100%|██████████| 80/80 [00:00<00:00, 293.62it/s]\u001b[A\n",
      " 42%|████▏     | 470/1123 [06:57<07:28,  1.46it/s]"
     ]
    },
    {
     "name": "stdout",
     "output_type": "stream",
     "text": [
      "/home/jiang/projects/SubtleGAN/data/brats2021/train/BraTS2021_00231\n"
     ]
    },
    {
     "name": "stderr",
     "output_type": "stream",
     "text": [
      "\n",
      "  0%|          | 0/80 [00:00<?, ?it/s]\u001b[A\n",
      " 38%|███▊      | 30/80 [00:00<00:00, 298.12it/s]\u001b[A\n",
      "100%|██████████| 80/80 [00:00<00:00, 294.26it/s]\u001b[A\n",
      " 42%|████▏     | 471/1123 [06:57<07:32,  1.44it/s]"
     ]
    },
    {
     "name": "stdout",
     "output_type": "stream",
     "text": [
      "/home/jiang/projects/SubtleGAN/data/brats2021/train/BraTS2021_00518\n"
     ]
    },
    {
     "name": "stderr",
     "output_type": "stream",
     "text": [
      "\n",
      "  0%|          | 0/80 [00:00<?, ?it/s]\u001b[A\n",
      " 38%|███▊      | 30/80 [00:00<00:00, 295.17it/s]\u001b[A\n",
      "100%|██████████| 80/80 [00:00<00:00, 289.56it/s]\u001b[A\n",
      " 42%|████▏     | 472/1123 [06:58<07:21,  1.48it/s]"
     ]
    },
    {
     "name": "stdout",
     "output_type": "stream",
     "text": [
      "/home/jiang/projects/SubtleGAN/data/brats2021/train/BraTS2021_00373\n"
     ]
    },
    {
     "name": "stderr",
     "output_type": "stream",
     "text": [
      "\n",
      "  0%|          | 0/80 [00:00<?, ?it/s]\u001b[A\n",
      " 39%|███▉      | 31/80 [00:00<00:00, 303.43it/s]\u001b[A\n",
      "100%|██████████| 80/80 [00:00<00:00, 294.67it/s]\u001b[A\n",
      " 42%|████▏     | 473/1123 [06:59<07:26,  1.45it/s]"
     ]
    },
    {
     "name": "stdout",
     "output_type": "stream",
     "text": [
      "/home/jiang/projects/SubtleGAN/data/brats2021/train/BraTS2021_01247\n"
     ]
    },
    {
     "name": "stderr",
     "output_type": "stream",
     "text": [
      "\n",
      "  0%|          | 0/80 [00:00<?, ?it/s]\u001b[A\n",
      " 39%|███▉      | 31/80 [00:00<00:00, 304.73it/s]\u001b[A\n",
      "100%|██████████| 80/80 [00:00<00:00, 294.08it/s]\u001b[A\n",
      " 42%|████▏     | 474/1123 [06:59<07:28,  1.45it/s]"
     ]
    },
    {
     "name": "stdout",
     "output_type": "stream",
     "text": [
      "/home/jiang/projects/SubtleGAN/data/brats2021/train/BraTS2021_00110\n"
     ]
    },
    {
     "name": "stderr",
     "output_type": "stream",
     "text": [
      "\n",
      "  0%|          | 0/80 [00:00<?, ?it/s]\u001b[A\n",
      " 35%|███▌      | 28/80 [00:00<00:00, 274.33it/s]\u001b[A\n",
      "100%|██████████| 80/80 [00:00<00:00, 275.12it/s]\u001b[A\n",
      " 42%|████▏     | 475/1123 [07:00<07:32,  1.43it/s]"
     ]
    },
    {
     "name": "stdout",
     "output_type": "stream",
     "text": [
      "/home/jiang/projects/SubtleGAN/data/brats2021/train/BraTS2021_00577\n"
     ]
    },
    {
     "name": "stderr",
     "output_type": "stream",
     "text": [
      "\n",
      "  0%|          | 0/80 [00:00<?, ?it/s]\u001b[A\n",
      " 38%|███▊      | 30/80 [00:00<00:00, 295.26it/s]\u001b[A\n",
      "100%|██████████| 80/80 [00:00<00:00, 283.47it/s]\u001b[A\n",
      " 42%|████▏     | 476/1123 [07:01<08:41,  1.24it/s]"
     ]
    },
    {
     "name": "stdout",
     "output_type": "stream",
     "text": [
      "/home/jiang/projects/SubtleGAN/data/brats2021/train/BraTS2021_01532\n"
     ]
    },
    {
     "name": "stderr",
     "output_type": "stream",
     "text": [
      "\n",
      "  0%|          | 0/80 [00:00<?, ?it/s]\u001b[A\n",
      " 36%|███▋      | 29/80 [00:00<00:00, 284.09it/s]\u001b[A\n",
      "100%|██████████| 80/80 [00:00<00:00, 277.77it/s]\u001b[A\n",
      " 42%|████▏     | 477/1123 [07:02<08:29,  1.27it/s]"
     ]
    },
    {
     "name": "stdout",
     "output_type": "stream",
     "text": [
      "/home/jiang/projects/SubtleGAN/data/brats2021/train/BraTS2021_00454\n"
     ]
    },
    {
     "name": "stderr",
     "output_type": "stream",
     "text": [
      "\n",
      "  0%|          | 0/80 [00:00<?, ?it/s]\u001b[A\n",
      " 38%|███▊      | 30/80 [00:00<00:00, 295.99it/s]\u001b[A\n",
      "100%|██████████| 80/80 [00:00<00:00, 281.44it/s]\u001b[A\n",
      " 43%|████▎     | 478/1123 [07:03<08:14,  1.30it/s]"
     ]
    },
    {
     "name": "stdout",
     "output_type": "stream",
     "text": [
      "/home/jiang/projects/SubtleGAN/data/brats2021/train/BraTS2021_00511\n"
     ]
    },
    {
     "name": "stderr",
     "output_type": "stream",
     "text": [
      "\n",
      "  0%|          | 0/80 [00:00<?, ?it/s]\u001b[A\n",
      " 36%|███▋      | 29/80 [00:00<00:00, 287.77it/s]\u001b[A\n",
      "100%|██████████| 80/80 [00:00<00:00, 279.62it/s]\u001b[A\n",
      " 43%|████▎     | 479/1123 [07:03<07:50,  1.37it/s]"
     ]
    },
    {
     "name": "stdout",
     "output_type": "stream",
     "text": [
      "/home/jiang/projects/SubtleGAN/data/brats2021/train/BraTS2021_00419\n"
     ]
    },
    {
     "name": "stderr",
     "output_type": "stream",
     "text": [
      "\n",
      "  0%|          | 0/80 [00:00<?, ?it/s]\u001b[A\n",
      " 39%|███▉      | 31/80 [00:00<00:00, 309.83it/s]\u001b[A\n",
      "100%|██████████| 80/80 [00:00<00:00, 283.83it/s]\u001b[A\n",
      " 43%|████▎     | 480/1123 [07:04<07:46,  1.38it/s]"
     ]
    },
    {
     "name": "stdout",
     "output_type": "stream",
     "text": [
      "/home/jiang/projects/SubtleGAN/data/brats2021/train/BraTS2021_00304\n"
     ]
    },
    {
     "name": "stderr",
     "output_type": "stream",
     "text": [
      "\n",
      "  0%|          | 0/80 [00:00<?, ?it/s]\u001b[A\n",
      " 38%|███▊      | 30/80 [00:00<00:00, 293.34it/s]\u001b[A\n",
      "100%|██████████| 80/80 [00:00<00:00, 279.02it/s]\u001b[A\n",
      " 43%|████▎     | 481/1123 [07:05<07:44,  1.38it/s]"
     ]
    },
    {
     "name": "stdout",
     "output_type": "stream",
     "text": [
      "/home/jiang/projects/SubtleGAN/data/brats2021/train/BraTS2021_01140\n"
     ]
    },
    {
     "name": "stderr",
     "output_type": "stream",
     "text": [
      "\n",
      "  0%|          | 0/80 [00:00<?, ?it/s]\u001b[A\n",
      " 34%|███▍      | 27/80 [00:00<00:00, 268.40it/s]\u001b[A\n",
      "100%|██████████| 80/80 [00:00<00:00, 272.49it/s]\u001b[A\n",
      " 43%|████▎     | 482/1123 [07:05<07:41,  1.39it/s]"
     ]
    },
    {
     "name": "stdout",
     "output_type": "stream",
     "text": [
      "/home/jiang/projects/SubtleGAN/data/brats2021/train/BraTS2021_01338\n"
     ]
    },
    {
     "name": "stderr",
     "output_type": "stream",
     "text": [
      "\n",
      "  0%|          | 0/80 [00:00<?, ?it/s]\u001b[A\n",
      " 35%|███▌      | 28/80 [00:00<00:00, 274.21it/s]\u001b[A\n",
      "100%|██████████| 80/80 [00:00<00:00, 270.14it/s]\u001b[A\n",
      " 43%|████▎     | 483/1123 [07:06<07:44,  1.38it/s]"
     ]
    },
    {
     "name": "stdout",
     "output_type": "stream",
     "text": [
      "/home/jiang/projects/SubtleGAN/data/brats2021/train/BraTS2021_01368\n"
     ]
    },
    {
     "name": "stderr",
     "output_type": "stream",
     "text": [
      "\n",
      "  0%|          | 0/80 [00:00<?, ?it/s]\u001b[A\n",
      " 35%|███▌      | 28/80 [00:00<00:00, 272.72it/s]\u001b[A\n",
      "100%|██████████| 80/80 [00:00<00:00, 279.06it/s]\u001b[A\n",
      " 43%|████▎     | 484/1123 [07:07<07:43,  1.38it/s]"
     ]
    },
    {
     "name": "stdout",
     "output_type": "stream",
     "text": [
      "/home/jiang/projects/SubtleGAN/data/brats2021/train/BraTS2021_00704\n"
     ]
    },
    {
     "name": "stderr",
     "output_type": "stream",
     "text": [
      "\n",
      "  0%|          | 0/80 [00:00<?, ?it/s]\u001b[A\n",
      " 36%|███▋      | 29/80 [00:00<00:00, 281.29it/s]\u001b[A\n",
      "100%|██████████| 80/80 [00:00<00:00, 277.12it/s]\u001b[A\n",
      " 43%|████▎     | 485/1123 [07:08<07:23,  1.44it/s]"
     ]
    },
    {
     "name": "stdout",
     "output_type": "stream",
     "text": [
      "/home/jiang/projects/SubtleGAN/data/brats2021/train/BraTS2021_00593\n"
     ]
    },
    {
     "name": "stderr",
     "output_type": "stream",
     "text": [
      "\n",
      "  0%|          | 0/80 [00:00<?, ?it/s]\u001b[A\n",
      " 38%|███▊      | 30/80 [00:00<00:00, 292.95it/s]\u001b[A\n",
      "100%|██████████| 80/80 [00:00<00:00, 286.17it/s]\u001b[A\n",
      " 43%|████▎     | 486/1123 [07:09<08:27,  1.26it/s]"
     ]
    },
    {
     "name": "stdout",
     "output_type": "stream",
     "text": [
      "/home/jiang/projects/SubtleGAN/data/brats2021/train/BraTS2021_00191\n"
     ]
    },
    {
     "name": "stderr",
     "output_type": "stream",
     "text": [
      "\n",
      "  0%|          | 0/80 [00:00<?, ?it/s]\u001b[A\n",
      " 38%|███▊      | 30/80 [00:00<00:00, 290.82it/s]\u001b[A\n",
      "100%|██████████| 80/80 [00:00<00:00, 285.90it/s]\u001b[A\n",
      " 43%|████▎     | 487/1123 [07:09<08:10,  1.30it/s]"
     ]
    },
    {
     "name": "stdout",
     "output_type": "stream",
     "text": [
      "/home/jiang/projects/SubtleGAN/data/brats2021/train/BraTS2021_00575\n"
     ]
    },
    {
     "name": "stderr",
     "output_type": "stream",
     "text": [
      "\n",
      "  0%|          | 0/80 [00:00<?, ?it/s]\u001b[A\n",
      " 36%|███▋      | 29/80 [00:00<00:00, 285.87it/s]\u001b[A\n",
      "100%|██████████| 80/80 [00:00<00:00, 290.49it/s]\u001b[A\n",
      " 43%|████▎     | 488/1123 [07:10<09:05,  1.16it/s]"
     ]
    },
    {
     "name": "stdout",
     "output_type": "stream",
     "text": [
      "/home/jiang/projects/SubtleGAN/data/brats2021/train/BraTS2021_01200\n"
     ]
    },
    {
     "name": "stderr",
     "output_type": "stream",
     "text": [
      "\n",
      "  0%|          | 0/80 [00:00<?, ?it/s]\u001b[A\n",
      " 36%|███▋      | 29/80 [00:00<00:00, 284.58it/s]\u001b[A\n",
      "100%|██████████| 80/80 [00:00<00:00, 284.64it/s]\u001b[A\n",
      " 44%|████▎     | 489/1123 [07:11<08:34,  1.23it/s]"
     ]
    },
    {
     "name": "stdout",
     "output_type": "stream",
     "text": [
      "/home/jiang/projects/SubtleGAN/data/brats2021/train/BraTS2021_00791\n"
     ]
    },
    {
     "name": "stderr",
     "output_type": "stream",
     "text": [
      "\n",
      "  0%|          | 0/80 [00:00<?, ?it/s]\u001b[A\n",
      " 39%|███▉      | 31/80 [00:00<00:00, 301.31it/s]\u001b[A\n",
      "100%|██████████| 80/80 [00:00<00:00, 287.86it/s]\u001b[A\n",
      " 44%|████▎     | 490/1123 [07:12<09:18,  1.13it/s]"
     ]
    },
    {
     "name": "stdout",
     "output_type": "stream",
     "text": [
      "/home/jiang/projects/SubtleGAN/data/brats2021/train/BraTS2021_01643\n"
     ]
    },
    {
     "name": "stderr",
     "output_type": "stream",
     "text": [
      "\n",
      "  0%|          | 0/80 [00:00<?, ?it/s]\u001b[A\n",
      " 38%|███▊      | 30/80 [00:00<00:00, 292.52it/s]\u001b[A\n",
      "100%|██████████| 80/80 [00:00<00:00, 286.48it/s]\u001b[A\n",
      " 44%|████▎     | 491/1123 [07:13<09:45,  1.08it/s]"
     ]
    },
    {
     "name": "stdout",
     "output_type": "stream",
     "text": [
      "/home/jiang/projects/SubtleGAN/data/brats2021/train/BraTS2021_01500\n"
     ]
    },
    {
     "name": "stderr",
     "output_type": "stream",
     "text": [
      "\n",
      "  0%|          | 0/80 [00:00<?, ?it/s]\u001b[A\n",
      " 32%|███▎      | 26/80 [00:00<00:00, 251.06it/s]\u001b[A\n",
      " 65%|██████▌   | 52/80 [00:00<00:00, 254.07it/s]\u001b[A\n",
      "100%|██████████| 80/80 [00:00<00:00, 250.45it/s]\u001b[A\n",
      " 44%|████▍     | 492/1123 [07:14<09:10,  1.15it/s]"
     ]
    },
    {
     "name": "stdout",
     "output_type": "stream",
     "text": [
      "/home/jiang/projects/SubtleGAN/data/brats2021/train/BraTS2021_01529\n"
     ]
    },
    {
     "name": "stderr",
     "output_type": "stream",
     "text": [
      "\n",
      "  0%|          | 0/80 [00:00<?, ?it/s]\u001b[A\n",
      " 32%|███▎      | 26/80 [00:00<00:00, 254.59it/s]\u001b[A\n",
      " 65%|██████▌   | 52/80 [00:00<00:00, 257.55it/s]\u001b[A\n",
      "100%|██████████| 80/80 [00:00<00:00, 256.52it/s]\u001b[A\n",
      " 44%|████▍     | 493/1123 [07:15<08:47,  1.20it/s]"
     ]
    },
    {
     "name": "stdout",
     "output_type": "stream",
     "text": [
      "/home/jiang/projects/SubtleGAN/data/brats2021/train/BraTS2021_01478\n"
     ]
    },
    {
     "name": "stderr",
     "output_type": "stream",
     "text": [
      "\n",
      "  0%|          | 0/80 [00:00<?, ?it/s]\u001b[A\n",
      " 35%|███▌      | 28/80 [00:00<00:00, 276.41it/s]\u001b[A\n",
      "100%|██████████| 80/80 [00:00<00:00, 252.87it/s]\u001b[A\n",
      " 44%|████▍     | 494/1123 [07:15<08:27,  1.24it/s]"
     ]
    },
    {
     "name": "stdout",
     "output_type": "stream",
     "text": [
      "/home/jiang/projects/SubtleGAN/data/brats2021/train/BraTS2021_00823\n"
     ]
    },
    {
     "name": "stderr",
     "output_type": "stream",
     "text": [
      "\n",
      "  0%|          | 0/80 [00:00<?, ?it/s]\u001b[A\n",
      " 40%|████      | 32/80 [00:00<00:00, 317.17it/s]\u001b[A\n",
      "100%|██████████| 80/80 [00:00<00:00, 307.78it/s]\u001b[A\n",
      " 44%|████▍     | 495/1123 [07:16<09:13,  1.13it/s]"
     ]
    },
    {
     "name": "stdout",
     "output_type": "stream",
     "text": [
      "/home/jiang/projects/SubtleGAN/data/brats2021/train/BraTS2021_00596\n"
     ]
    },
    {
     "name": "stderr",
     "output_type": "stream",
     "text": [
      "\n",
      "  0%|          | 0/80 [00:00<?, ?it/s]\u001b[A\n",
      " 39%|███▉      | 31/80 [00:00<00:00, 309.69it/s]\u001b[A\n",
      "100%|██████████| 80/80 [00:00<00:00, 306.63it/s]\u001b[A\n",
      " 44%|████▍     | 496/1123 [07:18<10:06,  1.03it/s]"
     ]
    },
    {
     "name": "stdout",
     "output_type": "stream",
     "text": [
      "/home/jiang/projects/SubtleGAN/data/brats2021/train/BraTS2021_01396\n"
     ]
    },
    {
     "name": "stderr",
     "output_type": "stream",
     "text": [
      "\n",
      "  0%|          | 0/80 [00:00<?, ?it/s]\u001b[A\n",
      " 35%|███▌      | 28/80 [00:00<00:00, 270.36it/s]\u001b[A\n",
      "100%|██████████| 80/80 [00:00<00:00, 264.65it/s]\u001b[A\n",
      " 44%|████▍     | 497/1123 [07:18<09:19,  1.12it/s]"
     ]
    },
    {
     "name": "stdout",
     "output_type": "stream",
     "text": [
      "/home/jiang/projects/SubtleGAN/data/brats2021/train/BraTS2021_01091\n"
     ]
    },
    {
     "name": "stderr",
     "output_type": "stream",
     "text": [
      "\n",
      "  0%|          | 0/80 [00:00<?, ?it/s]\u001b[A\n",
      " 35%|███▌      | 28/80 [00:00<00:00, 274.22it/s]\u001b[A\n",
      "100%|██████████| 80/80 [00:00<00:00, 262.41it/s]\u001b[A\n",
      " 44%|████▍     | 498/1123 [07:19<08:48,  1.18it/s]"
     ]
    },
    {
     "name": "stdout",
     "output_type": "stream",
     "text": [
      "/home/jiang/projects/SubtleGAN/data/brats2021/train/BraTS2021_00364\n"
     ]
    },
    {
     "name": "stderr",
     "output_type": "stream",
     "text": [
      "\n",
      "  0%|          | 0/80 [00:00<?, ?it/s]\u001b[A\n",
      " 34%|███▍      | 27/80 [00:00<00:00, 261.77it/s]\u001b[A\n",
      " 68%|██████▊   | 54/80 [00:00<00:00, 253.71it/s]\u001b[A\n",
      "100%|██████████| 80/80 [00:00<00:00, 249.86it/s]\u001b[A\n",
      " 44%|████▍     | 499/1123 [07:20<08:29,  1.22it/s]"
     ]
    },
    {
     "name": "stdout",
     "output_type": "stream",
     "text": [
      "/home/jiang/projects/SubtleGAN/data/brats2021/train/BraTS2021_00000\n"
     ]
    },
    {
     "name": "stderr",
     "output_type": "stream",
     "text": [
      "\n",
      "  0%|          | 0/80 [00:00<?, ?it/s]\u001b[A\n",
      " 34%|███▍      | 27/80 [00:00<00:00, 260.93it/s]\u001b[A\n",
      "100%|██████████| 80/80 [00:00<00:00, 262.19it/s]\u001b[A\n",
      " 45%|████▍     | 500/1123 [07:20<07:58,  1.30it/s]"
     ]
    },
    {
     "name": "stdout",
     "output_type": "stream",
     "text": [
      "/home/jiang/projects/SubtleGAN/data/brats2021/train/BraTS2021_01000\n"
     ]
    },
    {
     "name": "stderr",
     "output_type": "stream",
     "text": [
      "\n",
      "  0%|          | 0/80 [00:00<?, ?it/s]\u001b[A\n",
      " 35%|███▌      | 28/80 [00:00<00:00, 278.08it/s]\u001b[A\n",
      "100%|██████████| 80/80 [00:00<00:00, 254.75it/s]\u001b[A\n",
      " 45%|████▍     | 501/1123 [07:21<07:55,  1.31it/s]"
     ]
    },
    {
     "name": "stdout",
     "output_type": "stream",
     "text": [
      "/home/jiang/projects/SubtleGAN/data/brats2021/train/BraTS2021_01425\n"
     ]
    },
    {
     "name": "stderr",
     "output_type": "stream",
     "text": [
      "\n",
      "  0%|          | 0/80 [00:00<?, ?it/s]\u001b[A\n",
      " 38%|███▊      | 30/80 [00:00<00:00, 295.82it/s]\u001b[A\n",
      "100%|██████████| 80/80 [00:00<00:00, 292.29it/s]\u001b[A\n",
      " 45%|████▍     | 502/1123 [07:22<07:45,  1.33it/s]"
     ]
    },
    {
     "name": "stdout",
     "output_type": "stream",
     "text": [
      "/home/jiang/projects/SubtleGAN/data/brats2021/train/BraTS2021_01432\n"
     ]
    },
    {
     "name": "stderr",
     "output_type": "stream",
     "text": [
      "\n",
      "  0%|          | 0/80 [00:00<?, ?it/s]\u001b[A\n",
      " 35%|███▌      | 28/80 [00:00<00:00, 278.31it/s]\u001b[A\n",
      "100%|██████████| 80/80 [00:00<00:00, 282.65it/s]\u001b[A\n",
      " 45%|████▍     | 503/1123 [07:23<07:36,  1.36it/s]"
     ]
    },
    {
     "name": "stdout",
     "output_type": "stream",
     "text": [
      "/home/jiang/projects/SubtleGAN/data/brats2021/train/BraTS2021_01401\n"
     ]
    },
    {
     "name": "stderr",
     "output_type": "stream",
     "text": [
      "\n",
      "  0%|          | 0/80 [00:00<?, ?it/s]\u001b[A\n",
      " 39%|███▉      | 31/80 [00:00<00:00, 303.19it/s]\u001b[A\n",
      "100%|██████████| 80/80 [00:00<00:00, 297.82it/s]\u001b[A\n",
      " 45%|████▍     | 504/1123 [07:23<07:32,  1.37it/s]"
     ]
    },
    {
     "name": "stdout",
     "output_type": "stream",
     "text": [
      "/home/jiang/projects/SubtleGAN/data/brats2021/train/BraTS2021_00359\n"
     ]
    },
    {
     "name": "stderr",
     "output_type": "stream",
     "text": [
      "\n",
      "  0%|          | 0/80 [00:00<?, ?it/s]\u001b[A\n",
      " 38%|███▊      | 30/80 [00:00<00:00, 294.16it/s]\u001b[A\n",
      "100%|██████████| 80/80 [00:00<00:00, 297.30it/s]\u001b[A\n",
      " 45%|████▍     | 505/1123 [07:24<07:25,  1.39it/s]"
     ]
    },
    {
     "name": "stdout",
     "output_type": "stream",
     "text": [
      "/home/jiang/projects/SubtleGAN/data/brats2021/train/BraTS2021_00192\n"
     ]
    },
    {
     "name": "stderr",
     "output_type": "stream",
     "text": [
      "\n",
      "  0%|          | 0/80 [00:00<?, ?it/s]\u001b[A\n",
      " 40%|████      | 32/80 [00:00<00:00, 310.52it/s]\u001b[A\n",
      "100%|██████████| 80/80 [00:00<00:00, 303.13it/s]\u001b[A\n",
      " 45%|████▌     | 506/1123 [07:25<07:19,  1.40it/s]"
     ]
    },
    {
     "name": "stdout",
     "output_type": "stream",
     "text": [
      "/home/jiang/projects/SubtleGAN/data/brats2021/train/BraTS2021_01349\n"
     ]
    },
    {
     "name": "stderr",
     "output_type": "stream",
     "text": [
      "\n",
      "  0%|          | 0/80 [00:00<?, ?it/s]\u001b[A\n",
      " 38%|███▊      | 30/80 [00:00<00:00, 294.69it/s]\u001b[A\n",
      "100%|██████████| 80/80 [00:00<00:00, 289.32it/s]\u001b[A\n",
      " 45%|████▌     | 507/1123 [07:25<07:17,  1.41it/s]"
     ]
    },
    {
     "name": "stdout",
     "output_type": "stream",
     "text": [
      "/home/jiang/projects/SubtleGAN/data/brats2021/train/BraTS2021_00793\n"
     ]
    },
    {
     "name": "stderr",
     "output_type": "stream",
     "text": [
      "\n",
      "  0%|          | 0/80 [00:00<?, ?it/s]\u001b[A\n",
      " 40%|████      | 32/80 [00:00<00:00, 317.13it/s]\u001b[A\n",
      "100%|██████████| 80/80 [00:00<00:00, 310.06it/s]\u001b[A\n",
      " 45%|████▌     | 508/1123 [07:26<08:10,  1.25it/s]"
     ]
    },
    {
     "name": "stdout",
     "output_type": "stream",
     "text": [
      "/home/jiang/projects/SubtleGAN/data/brats2021/train/BraTS2021_01294\n"
     ]
    },
    {
     "name": "stderr",
     "output_type": "stream",
     "text": [
      "\n",
      "  0%|          | 0/80 [00:00<?, ?it/s]\u001b[A\n",
      " 39%|███▉      | 31/80 [00:00<00:00, 304.84it/s]\u001b[A\n",
      "100%|██████████| 80/80 [00:00<00:00, 295.13it/s]\u001b[A\n",
      " 45%|████▌     | 509/1123 [07:27<07:52,  1.30it/s]"
     ]
    },
    {
     "name": "stdout",
     "output_type": "stream",
     "text": [
      "/home/jiang/projects/SubtleGAN/data/brats2021/train/BraTS2021_01571\n"
     ]
    },
    {
     "name": "stderr",
     "output_type": "stream",
     "text": [
      "\n",
      "  0%|          | 0/80 [00:00<?, ?it/s]\u001b[A\n",
      " 39%|███▉      | 31/80 [00:00<00:00, 303.33it/s]\u001b[A\n",
      "100%|██████████| 80/80 [00:00<00:00, 283.63it/s]\u001b[A\n",
      " 45%|████▌     | 510/1123 [07:28<08:39,  1.18it/s]"
     ]
    },
    {
     "name": "stdout",
     "output_type": "stream",
     "text": [
      "/home/jiang/projects/SubtleGAN/data/brats2021/train/BraTS2021_01605\n"
     ]
    },
    {
     "name": "stderr",
     "output_type": "stream",
     "text": [
      "\n",
      "  0%|          | 0/80 [00:00<?, ?it/s]\u001b[A\n",
      " 40%|████      | 32/80 [00:00<00:00, 316.35it/s]\u001b[A\n",
      "100%|██████████| 80/80 [00:00<00:00, 301.08it/s]\u001b[A\n",
      " 46%|████▌     | 511/1123 [07:29<09:26,  1.08it/s]"
     ]
    },
    {
     "name": "stdout",
     "output_type": "stream",
     "text": [
      "/home/jiang/projects/SubtleGAN/data/brats2021/train/BraTS2021_01578\n"
     ]
    },
    {
     "name": "stderr",
     "output_type": "stream",
     "text": [
      "\n",
      "  0%|          | 0/80 [00:00<?, ?it/s]\u001b[A\n",
      " 39%|███▉      | 31/80 [00:00<00:00, 304.73it/s]\u001b[A\n",
      "100%|██████████| 80/80 [00:00<00:00, 291.74it/s]\u001b[A\n",
      " 46%|████▌     | 512/1123 [07:30<09:43,  1.05it/s]"
     ]
    },
    {
     "name": "stdout",
     "output_type": "stream",
     "text": [
      "/home/jiang/projects/SubtleGAN/data/brats2021/train/BraTS2021_00412\n"
     ]
    },
    {
     "name": "stderr",
     "output_type": "stream",
     "text": [
      "\n",
      "  0%|          | 0/80 [00:00<?, ?it/s]\u001b[A\n",
      " 38%|███▊      | 30/80 [00:00<00:00, 292.50it/s]\u001b[A\n",
      "100%|██████████| 80/80 [00:00<00:00, 282.09it/s]\u001b[A\n",
      " 46%|████▌     | 513/1123 [07:31<08:58,  1.13it/s]"
     ]
    },
    {
     "name": "stdout",
     "output_type": "stream",
     "text": [
      "/home/jiang/projects/SubtleGAN/data/brats2021/train/BraTS2021_00258\n"
     ]
    },
    {
     "name": "stderr",
     "output_type": "stream",
     "text": [
      "\n",
      "  0%|          | 0/80 [00:00<?, ?it/s]\u001b[A\n",
      " 39%|███▉      | 31/80 [00:00<00:00, 309.14it/s]\u001b[A\n",
      "100%|██████████| 80/80 [00:00<00:00, 298.53it/s]\u001b[A\n",
      " 46%|████▌     | 514/1123 [07:32<08:23,  1.21it/s]"
     ]
    },
    {
     "name": "stdout",
     "output_type": "stream",
     "text": [
      "/home/jiang/projects/SubtleGAN/data/brats2021/train/BraTS2021_00301\n"
     ]
    },
    {
     "name": "stderr",
     "output_type": "stream",
     "text": [
      "\n",
      "  0%|          | 0/80 [00:00<?, ?it/s]\u001b[A\n",
      " 39%|███▉      | 31/80 [00:00<00:00, 300.53it/s]\u001b[A\n",
      "100%|██████████| 80/80 [00:00<00:00, 281.09it/s]\u001b[A\n",
      " 46%|████▌     | 515/1123 [07:32<08:02,  1.26it/s]"
     ]
    },
    {
     "name": "stdout",
     "output_type": "stream",
     "text": [
      "/home/jiang/projects/SubtleGAN/data/brats2021/train/BraTS2021_01232\n"
     ]
    },
    {
     "name": "stderr",
     "output_type": "stream",
     "text": [
      "\n",
      "  0%|          | 0/80 [00:00<?, ?it/s]\u001b[A\n",
      " 36%|███▋      | 29/80 [00:00<00:00, 287.65it/s]\u001b[A\n",
      "100%|██████████| 80/80 [00:00<00:00, 283.89it/s]\u001b[A\n",
      " 46%|████▌     | 516/1123 [07:33<07:46,  1.30it/s]"
     ]
    },
    {
     "name": "stdout",
     "output_type": "stream",
     "text": [
      "/home/jiang/projects/SubtleGAN/data/brats2021/train/BraTS2021_01474\n"
     ]
    },
    {
     "name": "stderr",
     "output_type": "stream",
     "text": [
      "\n",
      "  0%|          | 0/80 [00:00<?, ?it/s]\u001b[A\n",
      " 38%|███▊      | 30/80 [00:00<00:00, 298.21it/s]\u001b[A\n",
      "100%|██████████| 80/80 [00:00<00:00, 280.09it/s]\u001b[A\n",
      " 46%|████▌     | 517/1123 [07:34<07:34,  1.33it/s]"
     ]
    },
    {
     "name": "stdout",
     "output_type": "stream",
     "text": [
      "/home/jiang/projects/SubtleGAN/data/brats2021/train/BraTS2021_01404\n"
     ]
    },
    {
     "name": "stderr",
     "output_type": "stream",
     "text": [
      "\n",
      "  0%|          | 0/80 [00:00<?, ?it/s]\u001b[A\n",
      " 38%|███▊      | 30/80 [00:00<00:00, 297.96it/s]\u001b[A\n",
      "100%|██████████| 80/80 [00:00<00:00, 281.57it/s]\u001b[A\n",
      " 46%|████▌     | 518/1123 [07:35<07:30,  1.34it/s]"
     ]
    },
    {
     "name": "stdout",
     "output_type": "stream",
     "text": [
      "/home/jiang/projects/SubtleGAN/data/brats2021/train/BraTS2021_01367\n"
     ]
    },
    {
     "name": "stderr",
     "output_type": "stream",
     "text": [
      "\n",
      "  0%|          | 0/80 [00:00<?, ?it/s]\u001b[A\n",
      " 39%|███▉      | 31/80 [00:00<00:00, 301.49it/s]\u001b[A\n",
      "100%|██████████| 80/80 [00:00<00:00, 297.06it/s]\u001b[A\n",
      " 46%|████▌     | 519/1123 [07:35<07:21,  1.37it/s]"
     ]
    },
    {
     "name": "stdout",
     "output_type": "stream",
     "text": [
      "/home/jiang/projects/SubtleGAN/data/brats2021/train/BraTS2021_00138\n"
     ]
    },
    {
     "name": "stderr",
     "output_type": "stream",
     "text": [
      "\n",
      "  0%|          | 0/80 [00:00<?, ?it/s]\u001b[A\n",
      " 38%|███▊      | 30/80 [00:00<00:00, 290.79it/s]\u001b[A\n",
      "100%|██████████| 80/80 [00:00<00:00, 290.13it/s]\u001b[A\n",
      " 46%|████▋     | 520/1123 [07:36<07:17,  1.38it/s]"
     ]
    },
    {
     "name": "stdout",
     "output_type": "stream",
     "text": [
      "/home/jiang/projects/SubtleGAN/data/brats2021/train/BraTS2021_00693\n"
     ]
    },
    {
     "name": "stderr",
     "output_type": "stream",
     "text": [
      "\n",
      "  0%|          | 0/80 [00:00<?, ?it/s]\u001b[A\n",
      " 36%|███▋      | 29/80 [00:00<00:00, 282.43it/s]\u001b[A\n",
      "100%|██████████| 80/80 [00:00<00:00, 281.22it/s]\u001b[A\n",
      " 46%|████▋     | 521/1123 [07:37<07:06,  1.41it/s]"
     ]
    },
    {
     "name": "stdout",
     "output_type": "stream",
     "text": [
      "/home/jiang/projects/SubtleGAN/data/brats2021/train/BraTS2021_01238\n"
     ]
    },
    {
     "name": "stderr",
     "output_type": "stream",
     "text": [
      "\n",
      "  0%|          | 0/80 [00:00<?, ?it/s]\u001b[A\n",
      " 36%|███▋      | 29/80 [00:00<00:00, 285.23it/s]\u001b[A\n",
      "100%|██████████| 80/80 [00:00<00:00, 275.80it/s]\u001b[A\n",
      " 46%|████▋     | 522/1123 [07:37<07:06,  1.41it/s]"
     ]
    },
    {
     "name": "stdout",
     "output_type": "stream",
     "text": [
      "/home/jiang/projects/SubtleGAN/data/brats2021/train/BraTS2021_01364\n"
     ]
    },
    {
     "name": "stderr",
     "output_type": "stream",
     "text": [
      "\n",
      "  0%|          | 0/80 [00:00<?, ?it/s]\u001b[A\n",
      " 38%|███▊      | 30/80 [00:00<00:00, 295.30it/s]\u001b[A\n",
      "100%|██████████| 80/80 [00:00<00:00, 298.31it/s]\u001b[A\n",
      " 47%|████▋     | 523/1123 [07:38<07:02,  1.42it/s]"
     ]
    },
    {
     "name": "stdout",
     "output_type": "stream",
     "text": [
      "/home/jiang/projects/SubtleGAN/data/brats2021/train/BraTS2021_00772\n"
     ]
    },
    {
     "name": "stderr",
     "output_type": "stream",
     "text": [
      "\n",
      "  0%|          | 0/80 [00:00<?, ?it/s]\u001b[A\n",
      " 35%|███▌      | 28/80 [00:00<00:00, 276.19it/s]\u001b[A\n",
      "100%|██████████| 80/80 [00:00<00:00, 285.63it/s]\u001b[A\n",
      " 47%|████▋     | 524/1123 [07:39<06:49,  1.46it/s]"
     ]
    },
    {
     "name": "stdout",
     "output_type": "stream",
     "text": [
      "/home/jiang/projects/SubtleGAN/data/brats2021/train/BraTS2021_01611\n"
     ]
    },
    {
     "name": "stderr",
     "output_type": "stream",
     "text": [
      "\n",
      "  0%|          | 0/80 [00:00<?, ?it/s]\u001b[A\n",
      " 38%|███▊      | 30/80 [00:00<00:00, 291.89it/s]\u001b[A\n",
      "100%|██████████| 80/80 [00:00<00:00, 288.16it/s]\u001b[A\n",
      " 47%|████▋     | 525/1123 [07:40<07:50,  1.27it/s]"
     ]
    },
    {
     "name": "stdout",
     "output_type": "stream",
     "text": [
      "/home/jiang/projects/SubtleGAN/data/brats2021/train/BraTS2021_01447\n"
     ]
    },
    {
     "name": "stderr",
     "output_type": "stream",
     "text": [
      "\n",
      "  0%|          | 0/80 [00:00<?, ?it/s]\u001b[A\n",
      " 39%|███▉      | 31/80 [00:00<00:00, 308.80it/s]\u001b[A\n",
      "100%|██████████| 80/80 [00:00<00:00, 296.97it/s]\u001b[A\n",
      " 47%|████▋     | 526/1123 [07:40<07:33,  1.32it/s]"
     ]
    },
    {
     "name": "stdout",
     "output_type": "stream",
     "text": [
      "/home/jiang/projects/SubtleGAN/data/brats2021/train/BraTS2021_01252\n"
     ]
    },
    {
     "name": "stderr",
     "output_type": "stream",
     "text": [
      "\n",
      "  0%|          | 0/80 [00:00<?, ?it/s]\u001b[A\n",
      " 38%|███▊      | 30/80 [00:00<00:00, 293.75it/s]\u001b[A\n",
      "100%|██████████| 80/80 [00:00<00:00, 296.07it/s]\u001b[A\n",
      " 47%|████▋     | 527/1123 [07:41<07:22,  1.35it/s]"
     ]
    },
    {
     "name": "stdout",
     "output_type": "stream",
     "text": [
      "/home/jiang/projects/SubtleGAN/data/brats2021/train/BraTS2021_00561\n"
     ]
    },
    {
     "name": "stderr",
     "output_type": "stream",
     "text": [
      "\n",
      "  0%|          | 0/80 [00:00<?, ?it/s]\u001b[A\n",
      " 39%|███▉      | 31/80 [00:00<00:00, 302.20it/s]\u001b[A\n",
      "100%|██████████| 80/80 [00:00<00:00, 291.80it/s]\u001b[A\n",
      " 47%|████▋     | 528/1123 [07:42<07:12,  1.38it/s]"
     ]
    },
    {
     "name": "stdout",
     "output_type": "stream",
     "text": [
      "/home/jiang/projects/SubtleGAN/data/brats2021/train/BraTS2021_00808\n"
     ]
    },
    {
     "name": "stderr",
     "output_type": "stream",
     "text": [
      "\n",
      "  0%|          | 0/80 [00:00<?, ?it/s]\u001b[A\n",
      " 39%|███▉      | 31/80 [00:00<00:00, 301.02it/s]\u001b[A\n",
      "100%|██████████| 80/80 [00:00<00:00, 297.48it/s]\u001b[A\n",
      " 47%|████▋     | 529/1123 [07:43<08:06,  1.22it/s]"
     ]
    },
    {
     "name": "stdout",
     "output_type": "stream",
     "text": [
      "/home/jiang/projects/SubtleGAN/data/brats2021/train/BraTS2021_01458\n"
     ]
    },
    {
     "name": "stderr",
     "output_type": "stream",
     "text": [
      "\n",
      "  0%|          | 0/80 [00:00<?, ?it/s]\u001b[A\n",
      " 39%|███▉      | 31/80 [00:00<00:00, 303.38it/s]\u001b[A\n",
      "100%|██████████| 80/80 [00:00<00:00, 293.85it/s]\u001b[A\n",
      " 47%|████▋     | 530/1123 [07:44<07:42,  1.28it/s]"
     ]
    },
    {
     "name": "stdout",
     "output_type": "stream",
     "text": [
      "/home/jiang/projects/SubtleGAN/data/brats2021/train/BraTS2021_01188\n"
     ]
    },
    {
     "name": "stderr",
     "output_type": "stream",
     "text": [
      "\n",
      "  0%|          | 0/80 [00:00<?, ?it/s]\u001b[A\n",
      " 39%|███▉      | 31/80 [00:00<00:00, 300.73it/s]\u001b[A\n",
      "100%|██████████| 80/80 [00:00<00:00, 294.28it/s]\u001b[A\n",
      " 47%|████▋     | 531/1123 [07:44<07:32,  1.31it/s]"
     ]
    },
    {
     "name": "stdout",
     "output_type": "stream",
     "text": [
      "/home/jiang/projects/SubtleGAN/data/brats2021/train/BraTS2021_01327\n"
     ]
    },
    {
     "name": "stderr",
     "output_type": "stream",
     "text": [
      "\n",
      "  0%|          | 0/80 [00:00<?, ?it/s]\u001b[A\n",
      " 39%|███▉      | 31/80 [00:00<00:00, 299.74it/s]\u001b[A\n",
      "100%|██████████| 80/80 [00:00<00:00, 280.82it/s]\u001b[A\n",
      " 47%|████▋     | 532/1123 [07:45<07:22,  1.34it/s]"
     ]
    },
    {
     "name": "stdout",
     "output_type": "stream",
     "text": [
      "/home/jiang/projects/SubtleGAN/data/brats2021/train/BraTS2021_01298\n"
     ]
    },
    {
     "name": "stderr",
     "output_type": "stream",
     "text": [
      "\n",
      "  0%|          | 0/80 [00:00<?, ?it/s]\u001b[A\n",
      " 36%|███▋      | 29/80 [00:00<00:00, 281.42it/s]\u001b[A\n",
      "100%|██████████| 80/80 [00:00<00:00, 278.38it/s]\u001b[A\n",
      " 47%|████▋     | 533/1123 [07:46<07:20,  1.34it/s]"
     ]
    },
    {
     "name": "stdout",
     "output_type": "stream",
     "text": [
      "/home/jiang/projects/SubtleGAN/data/brats2021/train/BraTS2021_01503\n"
     ]
    },
    {
     "name": "stderr",
     "output_type": "stream",
     "text": [
      "\n",
      "  0%|          | 0/80 [00:00<?, ?it/s]\u001b[A\n",
      " 39%|███▉      | 31/80 [00:00<00:00, 304.11it/s]\u001b[A\n",
      "100%|██████████| 80/80 [00:00<00:00, 296.74it/s]\u001b[A\n",
      " 48%|████▊     | 534/1123 [07:46<07:11,  1.36it/s]"
     ]
    },
    {
     "name": "stdout",
     "output_type": "stream",
     "text": [
      "/home/jiang/projects/SubtleGAN/data/brats2021/train/BraTS2021_00063\n"
     ]
    },
    {
     "name": "stderr",
     "output_type": "stream",
     "text": [
      "\n",
      "  0%|          | 0/80 [00:00<?, ?it/s]\u001b[A\n",
      " 39%|███▉      | 31/80 [00:00<00:00, 309.66it/s]\u001b[A\n",
      "100%|██████████| 80/80 [00:00<00:00, 294.55it/s]\u001b[A\n",
      " 48%|████▊     | 535/1123 [07:47<06:53,  1.42it/s]"
     ]
    },
    {
     "name": "stdout",
     "output_type": "stream",
     "text": [
      "/home/jiang/projects/SubtleGAN/data/brats2021/train/BraTS2021_00715\n"
     ]
    },
    {
     "name": "stderr",
     "output_type": "stream",
     "text": [
      "\n",
      "  0%|          | 0/80 [00:00<?, ?it/s]\u001b[A\n",
      " 39%|███▉      | 31/80 [00:00<00:00, 301.73it/s]\u001b[A\n",
      "100%|██████████| 80/80 [00:00<00:00, 293.05it/s]\u001b[A\n",
      " 48%|████▊     | 536/1123 [07:48<06:38,  1.47it/s]"
     ]
    },
    {
     "name": "stdout",
     "output_type": "stream",
     "text": [
      "/home/jiang/projects/SubtleGAN/data/brats2021/train/BraTS2021_01429\n"
     ]
    },
    {
     "name": "stderr",
     "output_type": "stream",
     "text": [
      "\n",
      "  0%|          | 0/80 [00:00<?, ?it/s]\u001b[A\n",
      " 38%|███▊      | 30/80 [00:00<00:00, 299.67it/s]\u001b[A\n",
      "100%|██████████| 80/80 [00:00<00:00, 285.95it/s]\u001b[A\n",
      " 48%|████▊     | 537/1123 [07:48<06:43,  1.45it/s]"
     ]
    },
    {
     "name": "stdout",
     "output_type": "stream",
     "text": [
      "/home/jiang/projects/SubtleGAN/data/brats2021/train/BraTS2021_01108\n"
     ]
    },
    {
     "name": "stderr",
     "output_type": "stream",
     "text": [
      "\n",
      "  0%|          | 0/80 [00:00<?, ?it/s]\u001b[A\n",
      " 38%|███▊      | 30/80 [00:00<00:00, 291.80it/s]\u001b[A\n",
      "100%|██████████| 80/80 [00:00<00:00, 283.77it/s]\u001b[A\n",
      " 48%|████▊     | 538/1123 [07:49<06:47,  1.43it/s]"
     ]
    },
    {
     "name": "stdout",
     "output_type": "stream",
     "text": [
      "/home/jiang/projects/SubtleGAN/data/brats2021/train/BraTS2021_00064\n"
     ]
    },
    {
     "name": "stderr",
     "output_type": "stream",
     "text": [
      "\n",
      "  0%|          | 0/80 [00:00<?, ?it/s]\u001b[A\n",
      " 36%|███▋      | 29/80 [00:00<00:00, 289.45it/s]\u001b[A\n",
      "100%|██████████| 80/80 [00:00<00:00, 275.88it/s]\u001b[A\n",
      " 48%|████▊     | 539/1123 [07:50<06:41,  1.45it/s]"
     ]
    },
    {
     "name": "stdout",
     "output_type": "stream",
     "text": [
      "/home/jiang/projects/SubtleGAN/data/brats2021/train/BraTS2021_01361\n"
     ]
    },
    {
     "name": "stderr",
     "output_type": "stream",
     "text": [
      "\n",
      "  0%|          | 0/80 [00:00<?, ?it/s]\u001b[A\n",
      " 39%|███▉      | 31/80 [00:00<00:00, 302.71it/s]\u001b[A\n",
      "100%|██████████| 80/80 [00:00<00:00, 291.18it/s]\u001b[A\n",
      " 48%|████▊     | 540/1123 [07:51<06:48,  1.43it/s]"
     ]
    },
    {
     "name": "stdout",
     "output_type": "stream",
     "text": [
      "/home/jiang/projects/SubtleGAN/data/brats2021/train/BraTS2021_00094\n"
     ]
    },
    {
     "name": "stderr",
     "output_type": "stream",
     "text": [
      "\n",
      "  0%|          | 0/80 [00:00<?, ?it/s]\u001b[A\n",
      " 39%|███▉      | 31/80 [00:00<00:00, 302.10it/s]\u001b[A\n",
      "100%|██████████| 80/80 [00:00<00:00, 287.76it/s]\u001b[A\n",
      " 48%|████▊     | 541/1123 [07:51<06:36,  1.47it/s]"
     ]
    },
    {
     "name": "stdout",
     "output_type": "stream",
     "text": [
      "/home/jiang/projects/SubtleGAN/data/brats2021/train/BraTS2021_00459\n"
     ]
    },
    {
     "name": "stderr",
     "output_type": "stream",
     "text": [
      "\n",
      "  0%|          | 0/80 [00:00<?, ?it/s]\u001b[A\n",
      " 39%|███▉      | 31/80 [00:00<00:00, 301.00it/s]\u001b[A\n",
      "100%|██████████| 80/80 [00:00<00:00, 296.57it/s]\u001b[A\n",
      " 48%|████▊     | 542/1123 [07:52<06:37,  1.46it/s]"
     ]
    },
    {
     "name": "stdout",
     "output_type": "stream",
     "text": [
      "/home/jiang/projects/SubtleGAN/data/brats2021/train/BraTS2021_00147\n"
     ]
    },
    {
     "name": "stderr",
     "output_type": "stream",
     "text": [
      "\n",
      "  0%|          | 0/80 [00:00<?, ?it/s]\u001b[A\n",
      " 38%|███▊      | 30/80 [00:00<00:00, 293.59it/s]\u001b[A\n",
      "100%|██████████| 80/80 [00:00<00:00, 288.90it/s]\u001b[A\n",
      " 48%|████▊     | 543/1123 [07:53<06:41,  1.44it/s]"
     ]
    },
    {
     "name": "stdout",
     "output_type": "stream",
     "text": [
      "/home/jiang/projects/SubtleGAN/data/brats2021/train/BraTS2021_00375\n"
     ]
    },
    {
     "name": "stderr",
     "output_type": "stream",
     "text": [
      "\n",
      "  0%|          | 0/80 [00:00<?, ?it/s]\u001b[A\n",
      " 39%|███▉      | 31/80 [00:00<00:00, 303.46it/s]\u001b[A\n",
      "100%|██████████| 80/80 [00:00<00:00, 293.48it/s]\u001b[A\n",
      " 48%|████▊     | 544/1123 [07:53<06:45,  1.43it/s]"
     ]
    },
    {
     "name": "stdout",
     "output_type": "stream",
     "text": [
      "/home/jiang/projects/SubtleGAN/data/brats2021/train/BraTS2021_00014\n"
     ]
    },
    {
     "name": "stderr",
     "output_type": "stream",
     "text": [
      "\n",
      "  0%|          | 0/80 [00:00<?, ?it/s]\u001b[A\n",
      " 39%|███▉      | 31/80 [00:00<00:00, 308.51it/s]\u001b[A\n",
      "100%|██████████| 80/80 [00:00<00:00, 299.48it/s]\u001b[A\n",
      " 49%|████▊     | 545/1123 [07:54<06:29,  1.48it/s]"
     ]
    },
    {
     "name": "stdout",
     "output_type": "stream",
     "text": [
      "/home/jiang/projects/SubtleGAN/data/brats2021/train/BraTS2021_01282\n"
     ]
    },
    {
     "name": "stderr",
     "output_type": "stream",
     "text": [
      "\n",
      "  0%|          | 0/80 [00:00<?, ?it/s]\u001b[A\n",
      " 38%|███▊      | 30/80 [00:00<00:00, 291.56it/s]\u001b[A\n",
      "100%|██████████| 80/80 [00:00<00:00, 279.08it/s]\u001b[A\n",
      " 49%|████▊     | 546/1123 [07:55<06:45,  1.42it/s]"
     ]
    },
    {
     "name": "stdout",
     "output_type": "stream",
     "text": [
      "/home/jiang/projects/SubtleGAN/data/brats2021/train/BraTS2021_01496\n"
     ]
    },
    {
     "name": "stderr",
     "output_type": "stream",
     "text": [
      "\n",
      "  0%|          | 0/80 [00:00<?, ?it/s]\u001b[A\n",
      " 35%|███▌      | 28/80 [00:00<00:00, 278.37it/s]\u001b[A\n",
      "100%|██████████| 80/80 [00:00<00:00, 277.39it/s]\u001b[A\n",
      " 49%|████▊     | 547/1123 [07:55<06:48,  1.41it/s]"
     ]
    },
    {
     "name": "stdout",
     "output_type": "stream",
     "text": [
      "/home/jiang/projects/SubtleGAN/data/brats2021/train/BraTS2021_01634\n"
     ]
    },
    {
     "name": "stderr",
     "output_type": "stream",
     "text": [
      "\n",
      "  0%|          | 0/80 [00:00<?, ?it/s]\u001b[A\n",
      " 39%|███▉      | 31/80 [00:00<00:00, 303.14it/s]\u001b[A\n",
      "100%|██████████| 80/80 [00:00<00:00, 303.49it/s]\u001b[A\n",
      " 49%|████▉     | 548/1123 [07:56<07:44,  1.24it/s]"
     ]
    },
    {
     "name": "stdout",
     "output_type": "stream",
     "text": [
      "/home/jiang/projects/SubtleGAN/data/brats2021/train/BraTS2021_01406\n"
     ]
    },
    {
     "name": "stderr",
     "output_type": "stream",
     "text": [
      "\n",
      "  0%|          | 0/80 [00:00<?, ?it/s]\u001b[A\n",
      " 39%|███▉      | 31/80 [00:00<00:00, 303.93it/s]\u001b[A\n",
      "100%|██████████| 80/80 [00:00<00:00, 287.95it/s]\u001b[A\n",
      " 49%|████▉     | 549/1123 [07:57<07:28,  1.28it/s]"
     ]
    },
    {
     "name": "stdout",
     "output_type": "stream",
     "text": [
      "/home/jiang/projects/SubtleGAN/data/brats2021/train/BraTS2021_01639\n"
     ]
    },
    {
     "name": "stderr",
     "output_type": "stream",
     "text": [
      "\n",
      "  0%|          | 0/80 [00:00<?, ?it/s]\u001b[A\n",
      " 40%|████      | 32/80 [00:00<00:00, 311.94it/s]\u001b[A\n",
      "100%|██████████| 80/80 [00:00<00:00, 301.95it/s]\u001b[A\n",
      " 49%|████▉     | 550/1123 [07:58<08:08,  1.17it/s]"
     ]
    },
    {
     "name": "stdout",
     "output_type": "stream",
     "text": [
      "/home/jiang/projects/SubtleGAN/data/brats2021/train/BraTS2021_00310\n"
     ]
    },
    {
     "name": "stderr",
     "output_type": "stream",
     "text": [
      "\n",
      "  0%|          | 0/80 [00:00<?, ?it/s]\u001b[A\n",
      " 38%|███▊      | 30/80 [00:00<00:00, 294.57it/s]\u001b[A\n",
      "100%|██████████| 80/80 [00:00<00:00, 281.41it/s]\u001b[A\n",
      " 49%|████▉     | 551/1123 [07:59<07:44,  1.23it/s]"
     ]
    },
    {
     "name": "stdout",
     "output_type": "stream",
     "text": [
      "/home/jiang/projects/SubtleGAN/data/brats2021/train/BraTS2021_01088\n"
     ]
    },
    {
     "name": "stderr",
     "output_type": "stream",
     "text": [
      "\n",
      "  0%|          | 0/80 [00:00<?, ?it/s]\u001b[A\n",
      " 38%|███▊      | 30/80 [00:00<00:00, 298.43it/s]\u001b[A\n",
      "100%|██████████| 80/80 [00:00<00:00, 280.73it/s]\u001b[A\n",
      " 49%|████▉     | 552/1123 [08:00<07:28,  1.27it/s]"
     ]
    },
    {
     "name": "stdout",
     "output_type": "stream",
     "text": [
      "/home/jiang/projects/SubtleGAN/data/brats2021/train/BraTS2021_01018\n"
     ]
    },
    {
     "name": "stderr",
     "output_type": "stream",
     "text": [
      "\n",
      "  0%|          | 0/80 [00:00<?, ?it/s]\u001b[A\n",
      " 36%|███▋      | 29/80 [00:00<00:00, 280.67it/s]\u001b[A\n",
      "100%|██████████| 80/80 [00:00<00:00, 276.13it/s]\u001b[A\n",
      " 49%|████▉     | 553/1123 [08:00<07:15,  1.31it/s]"
     ]
    },
    {
     "name": "stdout",
     "output_type": "stream",
     "text": [
      "/home/jiang/projects/SubtleGAN/data/brats2021/train/BraTS2021_01497\n"
     ]
    },
    {
     "name": "stderr",
     "output_type": "stream",
     "text": [
      "\n",
      "  0%|          | 0/80 [00:00<?, ?it/s]\u001b[A\n",
      " 38%|███▊      | 30/80 [00:00<00:00, 298.58it/s]\u001b[A\n",
      "100%|██████████| 80/80 [00:00<00:00, 278.02it/s]\u001b[A\n",
      " 49%|████▉     | 554/1123 [08:01<07:05,  1.34it/s]"
     ]
    },
    {
     "name": "stdout",
     "output_type": "stream",
     "text": [
      "/home/jiang/projects/SubtleGAN/data/brats2021/train/BraTS2021_01101\n"
     ]
    },
    {
     "name": "stderr",
     "output_type": "stream",
     "text": [
      "\n",
      "  0%|          | 0/80 [00:00<?, ?it/s]\u001b[A\n",
      " 38%|███▊      | 30/80 [00:00<00:00, 291.83it/s]\u001b[A\n",
      "100%|██████████| 80/80 [00:00<00:00, 283.70it/s]\u001b[A\n",
      " 49%|████▉     | 555/1123 [08:02<06:57,  1.36it/s]"
     ]
    },
    {
     "name": "stdout",
     "output_type": "stream",
     "text": [
      "/home/jiang/projects/SubtleGAN/data/brats2021/train/BraTS2021_01462\n"
     ]
    },
    {
     "name": "stderr",
     "output_type": "stream",
     "text": [
      "\n",
      "  0%|          | 0/80 [00:00<?, ?it/s]\u001b[A\n",
      " 39%|███▉      | 31/80 [00:00<00:00, 307.00it/s]\u001b[A\n",
      "100%|██████████| 80/80 [00:00<00:00, 295.60it/s]\u001b[A\n",
      " 50%|████▉     | 556/1123 [08:02<06:54,  1.37it/s]"
     ]
    },
    {
     "name": "stdout",
     "output_type": "stream",
     "text": [
      "/home/jiang/projects/SubtleGAN/data/brats2021/train/BraTS2021_01013\n"
     ]
    },
    {
     "name": "stderr",
     "output_type": "stream",
     "text": [
      "\n",
      "  0%|          | 0/80 [00:00<?, ?it/s]\u001b[A\n",
      " 38%|███▊      | 30/80 [00:00<00:00, 297.75it/s]\u001b[A\n",
      "100%|██████████| 80/80 [00:00<00:00, 286.52it/s]\u001b[A\n",
      " 50%|████▉     | 557/1123 [08:03<06:50,  1.38it/s]"
     ]
    },
    {
     "name": "stdout",
     "output_type": "stream",
     "text": [
      "/home/jiang/projects/SubtleGAN/data/brats2021/train/BraTS2021_01355\n"
     ]
    },
    {
     "name": "stderr",
     "output_type": "stream",
     "text": [
      "\n",
      "  0%|          | 0/80 [00:00<?, ?it/s]\u001b[A\n",
      " 36%|███▋      | 29/80 [00:00<00:00, 288.58it/s]\u001b[A\n",
      "100%|██████████| 80/80 [00:00<00:00, 291.63it/s]\u001b[A\n",
      " 50%|████▉     | 558/1123 [08:04<06:45,  1.39it/s]"
     ]
    },
    {
     "name": "stdout",
     "output_type": "stream",
     "text": [
      "/home/jiang/projects/SubtleGAN/data/brats2021/train/BraTS2021_00324\n"
     ]
    },
    {
     "name": "stderr",
     "output_type": "stream",
     "text": [
      "\n",
      "  0%|          | 0/80 [00:00<?, ?it/s]\u001b[A\n",
      " 39%|███▉      | 31/80 [00:00<00:00, 304.86it/s]\u001b[A\n",
      "100%|██████████| 80/80 [00:00<00:00, 275.62it/s]\u001b[A\n",
      " 50%|████▉     | 559/1123 [08:05<06:45,  1.39it/s]"
     ]
    },
    {
     "name": "stdout",
     "output_type": "stream",
     "text": [
      "/home/jiang/projects/SubtleGAN/data/brats2021/train/BraTS2021_01560\n"
     ]
    },
    {
     "name": "stderr",
     "output_type": "stream",
     "text": [
      "\n",
      "  0%|          | 0/80 [00:00<?, ?it/s]\u001b[A\n",
      " 40%|████      | 32/80 [00:00<00:00, 316.56it/s]\u001b[A\n",
      "100%|██████████| 80/80 [00:00<00:00, 306.57it/s]\u001b[A\n",
      " 50%|████▉     | 560/1123 [08:06<07:31,  1.25it/s]"
     ]
    },
    {
     "name": "stdout",
     "output_type": "stream",
     "text": [
      "/home/jiang/projects/SubtleGAN/data/brats2021/train/BraTS2021_01136\n"
     ]
    },
    {
     "name": "stderr",
     "output_type": "stream",
     "text": [
      "\n",
      "  0%|          | 0/80 [00:00<?, ?it/s]\u001b[A\n",
      " 32%|███▎      | 26/80 [00:00<00:00, 248.80it/s]\u001b[A\n",
      " 65%|██████▌   | 52/80 [00:00<00:00, 253.10it/s]\u001b[A\n",
      "100%|██████████| 80/80 [00:00<00:00, 247.31it/s]\u001b[A\n",
      " 50%|████▉     | 561/1123 [08:06<07:25,  1.26it/s]"
     ]
    },
    {
     "name": "stdout",
     "output_type": "stream",
     "text": [
      "/home/jiang/projects/SubtleGAN/data/brats2021/train/BraTS2021_01177\n"
     ]
    },
    {
     "name": "stderr",
     "output_type": "stream",
     "text": [
      "\n",
      "  0%|          | 0/80 [00:00<?, ?it/s]\u001b[A\n",
      " 32%|███▎      | 26/80 [00:00<00:00, 255.30it/s]\u001b[A\n",
      " 65%|██████▌   | 52/80 [00:00<00:00, 250.71it/s]\u001b[A\n",
      "100%|██████████| 80/80 [00:00<00:00, 253.48it/s]\u001b[A\n",
      " 50%|█████     | 562/1123 [08:07<07:16,  1.28it/s]"
     ]
    },
    {
     "name": "stdout",
     "output_type": "stream",
     "text": [
      "/home/jiang/projects/SubtleGAN/data/brats2021/train/BraTS2021_00451\n"
     ]
    },
    {
     "name": "stderr",
     "output_type": "stream",
     "text": [
      "\n",
      "  0%|          | 0/80 [00:00<?, ?it/s]\u001b[A\n",
      " 30%|███       | 24/80 [00:00<00:00, 238.15it/s]\u001b[A\n",
      " 61%|██████▏   | 49/80 [00:00<00:00, 241.20it/s]\u001b[A\n",
      "100%|██████████| 80/80 [00:00<00:00, 244.19it/s]\u001b[A\n",
      " 50%|█████     | 563/1123 [08:08<07:13,  1.29it/s]"
     ]
    },
    {
     "name": "stdout",
     "output_type": "stream",
     "text": [
      "/home/jiang/projects/SubtleGAN/data/brats2021/train/BraTS2021_01317\n"
     ]
    },
    {
     "name": "stderr",
     "output_type": "stream",
     "text": [
      "\n",
      "  0%|          | 0/80 [00:00<?, ?it/s]\u001b[A\n",
      " 32%|███▎      | 26/80 [00:00<00:00, 255.49it/s]\u001b[A\n",
      " 65%|██████▌   | 52/80 [00:00<00:00, 255.54it/s]\u001b[A\n",
      "100%|██████████| 80/80 [00:00<00:00, 250.87it/s]\u001b[A\n",
      " 50%|█████     | 564/1123 [08:09<07:07,  1.31it/s]"
     ]
    },
    {
     "name": "stdout",
     "output_type": "stream",
     "text": [
      "/home/jiang/projects/SubtleGAN/data/brats2021/train/BraTS2021_00369\n"
     ]
    },
    {
     "name": "stderr",
     "output_type": "stream",
     "text": [
      "\n",
      "  0%|          | 0/80 [00:00<?, ?it/s]\u001b[A\n",
      " 32%|███▎      | 26/80 [00:00<00:00, 256.98it/s]\u001b[A\n",
      " 65%|██████▌   | 52/80 [00:00<00:00, 251.78it/s]\u001b[A\n",
      "100%|██████████| 80/80 [00:00<00:00, 250.49it/s]\u001b[A\n",
      " 50%|█████     | 565/1123 [08:09<07:05,  1.31it/s]"
     ]
    },
    {
     "name": "stdout",
     "output_type": "stream",
     "text": [
      "/home/jiang/projects/SubtleGAN/data/brats2021/train/BraTS2021_01119\n"
     ]
    },
    {
     "name": "stderr",
     "output_type": "stream",
     "text": [
      "\n",
      "  0%|          | 0/80 [00:00<?, ?it/s]\u001b[A\n",
      " 35%|███▌      | 28/80 [00:00<00:00, 274.08it/s]\u001b[A\n",
      "100%|██████████| 80/80 [00:00<00:00, 250.06it/s]\u001b[A\n",
      " 50%|█████     | 566/1123 [08:10<07:02,  1.32it/s]"
     ]
    },
    {
     "name": "stdout",
     "output_type": "stream",
     "text": [
      "/home/jiang/projects/SubtleGAN/data/brats2021/train/BraTS2021_00395\n"
     ]
    },
    {
     "name": "stderr",
     "output_type": "stream",
     "text": [
      "\n",
      "  0%|          | 0/80 [00:00<?, ?it/s]\u001b[A\n",
      " 32%|███▎      | 26/80 [00:00<00:00, 259.46it/s]\u001b[A\n",
      " 65%|██████▌   | 52/80 [00:00<00:00, 254.49it/s]\u001b[A\n",
      "100%|██████████| 80/80 [00:00<00:00, 253.78it/s]\u001b[A\n",
      " 50%|█████     | 567/1123 [08:11<07:00,  1.32it/s]"
     ]
    },
    {
     "name": "stdout",
     "output_type": "stream",
     "text": [
      "/home/jiang/projects/SubtleGAN/data/brats2021/train/BraTS2021_01142\n"
     ]
    },
    {
     "name": "stderr",
     "output_type": "stream",
     "text": [
      "\n",
      "  0%|          | 0/80 [00:00<?, ?it/s]\u001b[A\n",
      " 34%|███▍      | 27/80 [00:00<00:00, 265.74it/s]\u001b[A\n",
      " 68%|██████▊   | 54/80 [00:00<00:00, 242.80it/s]\u001b[A\n",
      "100%|██████████| 80/80 [00:00<00:00, 243.88it/s]\u001b[A\n",
      " 51%|█████     | 568/1123 [08:12<06:59,  1.32it/s]"
     ]
    },
    {
     "name": "stdout",
     "output_type": "stream",
     "text": [
      "/home/jiang/projects/SubtleGAN/data/brats2021/train/BraTS2021_01526\n"
     ]
    },
    {
     "name": "stderr",
     "output_type": "stream",
     "text": [
      "\n",
      "  0%|          | 0/80 [00:00<?, ?it/s]\u001b[A\n",
      " 34%|███▍      | 27/80 [00:00<00:00, 260.87it/s]\u001b[A\n",
      " 68%|██████▊   | 54/80 [00:00<00:00, 252.11it/s]\u001b[A\n",
      "100%|██████████| 80/80 [00:00<00:00, 250.79it/s]\u001b[A\n",
      " 51%|█████     | 569/1123 [08:12<06:58,  1.32it/s]"
     ]
    },
    {
     "name": "stdout",
     "output_type": "stream",
     "text": [
      "/home/jiang/projects/SubtleGAN/data/brats2021/train/BraTS2021_01206\n"
     ]
    },
    {
     "name": "stderr",
     "output_type": "stream",
     "text": [
      "\n",
      "  0%|          | 0/80 [00:00<?, ?it/s]\u001b[A\n",
      " 31%|███▏      | 25/80 [00:00<00:00, 246.38it/s]\u001b[A\n",
      " 62%|██████▎   | 50/80 [00:00<00:00, 247.84it/s]\u001b[A\n",
      "100%|██████████| 80/80 [00:00<00:00, 238.82it/s]\u001b[A\n",
      " 51%|█████     | 570/1123 [08:13<06:59,  1.32it/s]"
     ]
    },
    {
     "name": "stdout",
     "output_type": "stream",
     "text": [
      "/home/jiang/projects/SubtleGAN/data/brats2021/train/BraTS2021_01168\n"
     ]
    },
    {
     "name": "stderr",
     "output_type": "stream",
     "text": [
      "\n",
      "  0%|          | 0/80 [00:00<?, ?it/s]\u001b[A\n",
      " 34%|███▍      | 27/80 [00:00<00:00, 263.58it/s]\u001b[A\n",
      " 68%|██████▊   | 54/80 [00:00<00:00, 259.49it/s]\u001b[A\n",
      "100%|██████████| 80/80 [00:00<00:00, 255.06it/s]\u001b[A\n",
      " 51%|█████     | 571/1123 [08:14<06:55,  1.33it/s]"
     ]
    },
    {
     "name": "stdout",
     "output_type": "stream",
     "text": [
      "/home/jiang/projects/SubtleGAN/data/brats2021/train/BraTS2021_01110\n"
     ]
    },
    {
     "name": "stderr",
     "output_type": "stream",
     "text": [
      "\n",
      "  0%|          | 0/80 [00:00<?, ?it/s]\u001b[A\n",
      " 34%|███▍      | 27/80 [00:00<00:00, 263.93it/s]\u001b[A\n",
      " 68%|██████▊   | 54/80 [00:00<00:00, 258.82it/s]\u001b[A\n",
      "100%|██████████| 80/80 [00:00<00:00, 255.29it/s]\u001b[A\n",
      " 51%|█████     | 572/1123 [08:15<06:54,  1.33it/s]"
     ]
    },
    {
     "name": "stdout",
     "output_type": "stream",
     "text": [
      "/home/jiang/projects/SubtleGAN/data/brats2021/train/BraTS2021_00740\n"
     ]
    },
    {
     "name": "stderr",
     "output_type": "stream",
     "text": [
      "\n",
      "  0%|          | 0/80 [00:00<?, ?it/s]\u001b[A\n",
      " 32%|███▎      | 26/80 [00:00<00:00, 257.68it/s]\u001b[A\n",
      " 65%|██████▌   | 52/80 [00:00<00:00, 253.19it/s]\u001b[A\n",
      "100%|██████████| 80/80 [00:00<00:00, 253.14it/s]\u001b[A\n",
      " 51%|█████     | 573/1123 [08:15<06:40,  1.37it/s]"
     ]
    },
    {
     "name": "stdout",
     "output_type": "stream",
     "text": [
      "/home/jiang/projects/SubtleGAN/data/brats2021/train/BraTS2021_00530\n"
     ]
    },
    {
     "name": "stderr",
     "output_type": "stream",
     "text": [
      "\n",
      "  0%|          | 0/80 [00:00<?, ?it/s]\u001b[A\n",
      " 31%|███▏      | 25/80 [00:00<00:00, 237.74it/s]\u001b[A\n",
      " 65%|██████▌   | 52/80 [00:00<00:00, 251.20it/s]\u001b[A\n",
      "100%|██████████| 80/80 [00:00<00:00, 249.54it/s]\u001b[A\n",
      " 51%|█████     | 574/1123 [08:16<06:31,  1.40it/s]"
     ]
    },
    {
     "name": "stdout",
     "output_type": "stream",
     "text": [
      "/home/jiang/projects/SubtleGAN/data/brats2021/train/BraTS2021_01153\n"
     ]
    },
    {
     "name": "stderr",
     "output_type": "stream",
     "text": [
      "\n",
      "  0%|          | 0/80 [00:00<?, ?it/s]\u001b[A\n",
      " 32%|███▎      | 26/80 [00:00<00:00, 252.72it/s]\u001b[A\n",
      " 65%|██████▌   | 52/80 [00:00<00:00, 252.19it/s]\u001b[A\n",
      "100%|██████████| 80/80 [00:00<00:00, 249.64it/s]\u001b[A\n",
      " 51%|█████     | 575/1123 [08:17<06:24,  1.42it/s]"
     ]
    },
    {
     "name": "stdout",
     "output_type": "stream",
     "text": [
      "/home/jiang/projects/SubtleGAN/data/brats2021/train/BraTS2021_01292\n"
     ]
    },
    {
     "name": "stderr",
     "output_type": "stream",
     "text": [
      "\n",
      "  0%|          | 0/80 [00:00<?, ?it/s]\u001b[A\n",
      " 31%|███▏      | 25/80 [00:00<00:00, 239.61it/s]\u001b[A\n",
      " 64%|██████▍   | 51/80 [00:00<00:00, 247.07it/s]\u001b[A\n",
      "100%|██████████| 80/80 [00:00<00:00, 245.24it/s]\u001b[A\n",
      " 51%|█████▏    | 576/1123 [08:17<06:32,  1.39it/s]"
     ]
    },
    {
     "name": "stdout",
     "output_type": "stream",
     "text": [
      "/home/jiang/projects/SubtleGAN/data/brats2021/train/BraTS2021_00290\n"
     ]
    },
    {
     "name": "stderr",
     "output_type": "stream",
     "text": [
      "\n",
      "  0%|          | 0/80 [00:00<?, ?it/s]\u001b[A\n",
      " 34%|███▍      | 27/80 [00:00<00:00, 264.11it/s]\u001b[A\n",
      " 68%|██████▊   | 54/80 [00:00<00:00, 258.18it/s]\u001b[A\n",
      "100%|██████████| 80/80 [00:00<00:00, 251.75it/s]\u001b[A\n",
      " 51%|█████▏    | 577/1123 [08:18<06:38,  1.37it/s]"
     ]
    },
    {
     "name": "stdout",
     "output_type": "stream",
     "text": [
      "/home/jiang/projects/SubtleGAN/data/brats2021/train/BraTS2021_01350\n"
     ]
    },
    {
     "name": "stderr",
     "output_type": "stream",
     "text": [
      "\n",
      "  0%|          | 0/80 [00:00<?, ?it/s]\u001b[A\n",
      " 31%|███▏      | 25/80 [00:00<00:00, 247.66it/s]\u001b[A\n",
      " 62%|██████▎   | 50/80 [00:00<00:00, 236.06it/s]\u001b[A\n",
      "100%|██████████| 80/80 [00:00<00:00, 239.55it/s]\u001b[A\n",
      " 51%|█████▏    | 578/1123 [08:19<06:41,  1.36it/s]"
     ]
    },
    {
     "name": "stdout",
     "output_type": "stream",
     "text": [
      "/home/jiang/projects/SubtleGAN/data/brats2021/train/BraTS2021_01213\n"
     ]
    },
    {
     "name": "stderr",
     "output_type": "stream",
     "text": [
      "\n",
      "  0%|          | 0/80 [00:00<?, ?it/s]\u001b[A\n",
      " 32%|███▎      | 26/80 [00:00<00:00, 255.24it/s]\u001b[A\n",
      " 65%|██████▌   | 52/80 [00:00<00:00, 243.54it/s]\u001b[A\n",
      "100%|██████████| 80/80 [00:00<00:00, 244.33it/s]\u001b[A\n",
      " 52%|█████▏    | 579/1123 [08:20<06:47,  1.33it/s]"
     ]
    },
    {
     "name": "stdout",
     "output_type": "stream",
     "text": [
      "/home/jiang/projects/SubtleGAN/data/brats2021/train/BraTS2021_01086\n"
     ]
    },
    {
     "name": "stderr",
     "output_type": "stream",
     "text": [
      "\n",
      "  0%|          | 0/80 [00:00<?, ?it/s]\u001b[A\n",
      " 31%|███▏      | 25/80 [00:00<00:00, 247.96it/s]\u001b[A\n",
      " 64%|██████▍   | 51/80 [00:00<00:00, 252.31it/s]\u001b[A\n",
      "100%|██████████| 80/80 [00:00<00:00, 251.47it/s]\u001b[A\n",
      " 52%|█████▏    | 580/1123 [08:20<06:47,  1.33it/s]"
     ]
    },
    {
     "name": "stdout",
     "output_type": "stream",
     "text": [
      "/home/jiang/projects/SubtleGAN/data/brats2021/train/BraTS2021_00262\n"
     ]
    },
    {
     "name": "stderr",
     "output_type": "stream",
     "text": [
      "\n",
      "  0%|          | 0/80 [00:00<?, ?it/s]\u001b[A\n",
      " 31%|███▏      | 25/80 [00:00<00:00, 248.43it/s]\u001b[A\n",
      " 64%|██████▍   | 51/80 [00:00<00:00, 250.22it/s]\u001b[A\n",
      "100%|██████████| 80/80 [00:00<00:00, 246.03it/s]\u001b[A\n",
      " 52%|█████▏    | 581/1123 [08:21<06:55,  1.30it/s]"
     ]
    },
    {
     "name": "stdout",
     "output_type": "stream",
     "text": [
      "/home/jiang/projects/SubtleGAN/data/brats2021/train/BraTS2021_01549\n"
     ]
    },
    {
     "name": "stderr",
     "output_type": "stream",
     "text": [
      "\n",
      "  0%|          | 0/80 [00:00<?, ?it/s]\u001b[A\n",
      " 39%|███▉      | 31/80 [00:00<00:00, 307.92it/s]\u001b[A\n",
      "100%|██████████| 80/80 [00:00<00:00, 290.99it/s]\u001b[A\n",
      " 52%|█████▏    | 582/1123 [08:22<07:43,  1.17it/s]"
     ]
    },
    {
     "name": "stdout",
     "output_type": "stream",
     "text": [
      "/home/jiang/projects/SubtleGAN/data/brats2021/train/BraTS2021_00619\n"
     ]
    },
    {
     "name": "stderr",
     "output_type": "stream",
     "text": [
      "\n",
      "  0%|          | 0/80 [00:00<?, ?it/s]\u001b[A\n",
      " 30%|███       | 24/80 [00:00<00:00, 233.85it/s]\u001b[A\n",
      " 60%|██████    | 48/80 [00:00<00:00, 230.10it/s]\u001b[A\n",
      "100%|██████████| 80/80 [00:00<00:00, 225.41it/s]\u001b[A\n",
      " 52%|█████▏    | 583/1123 [08:23<07:28,  1.20it/s]"
     ]
    },
    {
     "name": "stdout",
     "output_type": "stream",
     "text": [
      "/home/jiang/projects/SubtleGAN/data/brats2021/train/BraTS2021_01332\n"
     ]
    },
    {
     "name": "stderr",
     "output_type": "stream",
     "text": [
      "\n",
      "  0%|          | 0/80 [00:00<?, ?it/s]\u001b[A\n",
      " 30%|███       | 24/80 [00:00<00:00, 236.04it/s]\u001b[A\n",
      " 60%|██████    | 48/80 [00:00<00:00, 229.38it/s]\u001b[A\n",
      "100%|██████████| 80/80 [00:00<00:00, 235.42it/s]\u001b[A\n",
      " 52%|█████▏    | 584/1123 [08:24<07:21,  1.22it/s]"
     ]
    },
    {
     "name": "stdout",
     "output_type": "stream",
     "text": [
      "/home/jiang/projects/SubtleGAN/data/brats2021/train/BraTS2021_01348\n"
     ]
    },
    {
     "name": "stderr",
     "output_type": "stream",
     "text": [
      "\n",
      "  0%|          | 0/80 [00:00<?, ?it/s]\u001b[A\n",
      " 31%|███▏      | 25/80 [00:00<00:00, 243.76it/s]\u001b[A\n",
      " 62%|██████▎   | 50/80 [00:00<00:00, 230.90it/s]\u001b[A\n",
      "100%|██████████| 80/80 [00:00<00:00, 234.82it/s]\u001b[A\n",
      " 52%|█████▏    | 585/1123 [08:25<07:12,  1.24it/s]"
     ]
    },
    {
     "name": "stdout",
     "output_type": "stream",
     "text": [
      "/home/jiang/projects/SubtleGAN/data/brats2021/train/BraTS2021_01651\n"
     ]
    },
    {
     "name": "stderr",
     "output_type": "stream",
     "text": [
      "\n",
      "  0%|          | 0/80 [00:00<?, ?it/s]\u001b[A\n",
      " 40%|████      | 32/80 [00:00<00:00, 310.50it/s]\u001b[A\n",
      "100%|██████████| 80/80 [00:00<00:00, 293.88it/s]\u001b[A\n",
      " 52%|█████▏    | 586/1123 [08:26<08:07,  1.10it/s]"
     ]
    },
    {
     "name": "stdout",
     "output_type": "stream",
     "text": [
      "/home/jiang/projects/SubtleGAN/data/brats2021/train/BraTS2021_01125\n"
     ]
    },
    {
     "name": "stderr",
     "output_type": "stream",
     "text": [
      "\n",
      "  0%|          | 0/80 [00:00<?, ?it/s]\u001b[A\n",
      " 32%|███▎      | 26/80 [00:00<00:00, 256.23it/s]\u001b[A\n",
      " 65%|██████▌   | 52/80 [00:00<00:00, 242.40it/s]\u001b[A\n",
      "100%|██████████| 80/80 [00:00<00:00, 242.74it/s]\u001b[A\n",
      " 52%|█████▏    | 587/1123 [08:27<07:44,  1.15it/s]"
     ]
    },
    {
     "name": "stdout",
     "output_type": "stream",
     "text": [
      "/home/jiang/projects/SubtleGAN/data/brats2021/train/BraTS2021_01376\n"
     ]
    },
    {
     "name": "stderr",
     "output_type": "stream",
     "text": [
      "\n",
      "  0%|          | 0/80 [00:00<?, ?it/s]\u001b[A\n",
      " 34%|███▍      | 27/80 [00:00<00:00, 267.84it/s]\u001b[A\n",
      " 68%|██████▊   | 54/80 [00:00<00:00, 254.64it/s]\u001b[A\n",
      "100%|██████████| 80/80 [00:00<00:00, 249.72it/s]\u001b[A\n",
      " 52%|█████▏    | 588/1123 [08:27<07:24,  1.20it/s]"
     ]
    },
    {
     "name": "stdout",
     "output_type": "stream",
     "text": [
      "/home/jiang/projects/SubtleGAN/data/brats2021/train/BraTS2021_01435\n"
     ]
    },
    {
     "name": "stderr",
     "output_type": "stream",
     "text": [
      "\n",
      "  0%|          | 0/80 [00:00<?, ?it/s]\u001b[A\n",
      " 32%|███▎      | 26/80 [00:00<00:00, 258.46it/s]\u001b[A\n",
      " 65%|██████▌   | 52/80 [00:00<00:00, 251.80it/s]\u001b[A\n",
      "100%|██████████| 80/80 [00:00<00:00, 247.61it/s]\u001b[A\n",
      " 52%|█████▏    | 589/1123 [08:28<07:10,  1.24it/s]"
     ]
    },
    {
     "name": "stdout",
     "output_type": "stream",
     "text": [
      "/home/jiang/projects/SubtleGAN/data/brats2021/train/BraTS2021_01337\n"
     ]
    },
    {
     "name": "stderr",
     "output_type": "stream",
     "text": [
      "\n",
      "  0%|          | 0/80 [00:00<?, ?it/s]\u001b[A\n",
      " 32%|███▎      | 26/80 [00:00<00:00, 254.95it/s]\u001b[A\n",
      " 65%|██████▌   | 52/80 [00:00<00:00, 249.34it/s]\u001b[A\n",
      "100%|██████████| 80/80 [00:00<00:00, 249.73it/s]\u001b[A\n",
      " 53%|█████▎    | 590/1123 [08:29<07:00,  1.27it/s]"
     ]
    },
    {
     "name": "stdout",
     "output_type": "stream",
     "text": [
      "/home/jiang/projects/SubtleGAN/data/brats2021/train/BraTS2021_01305\n"
     ]
    },
    {
     "name": "stderr",
     "output_type": "stream",
     "text": [
      "\n",
      "  0%|          | 0/80 [00:00<?, ?it/s]\u001b[A\n",
      " 32%|███▎      | 26/80 [00:00<00:00, 257.24it/s]\u001b[A\n",
      " 65%|██████▌   | 52/80 [00:00<00:00, 249.30it/s]\u001b[A\n",
      "100%|██████████| 80/80 [00:00<00:00, 253.63it/s]\u001b[A\n",
      " 53%|█████▎    | 591/1123 [08:30<06:54,  1.28it/s]"
     ]
    },
    {
     "name": "stdout",
     "output_type": "stream",
     "text": [
      "/home/jiang/projects/SubtleGAN/data/brats2021/train/BraTS2021_01084\n"
     ]
    },
    {
     "name": "stderr",
     "output_type": "stream",
     "text": [
      "\n",
      "  0%|          | 0/80 [00:00<?, ?it/s]\u001b[A\n",
      " 31%|███▏      | 25/80 [00:00<00:00, 241.53it/s]\u001b[A\n",
      " 64%|██████▍   | 51/80 [00:00<00:00, 250.80it/s]\u001b[A\n",
      "100%|██████████| 80/80 [00:00<00:00, 246.22it/s]\u001b[A\n",
      " 53%|█████▎    | 592/1123 [08:30<06:52,  1.29it/s]"
     ]
    },
    {
     "name": "stdout",
     "output_type": "stream",
     "text": [
      "/home/jiang/projects/SubtleGAN/data/brats2021/train/BraTS2021_00777\n"
     ]
    },
    {
     "name": "stderr",
     "output_type": "stream",
     "text": [
      "\n",
      "  0%|          | 0/80 [00:00<?, ?it/s]\u001b[A\n",
      " 34%|███▍      | 27/80 [00:00<00:00, 269.70it/s]\u001b[A\n",
      " 68%|██████▊   | 54/80 [00:00<00:00, 252.80it/s]\u001b[A\n",
      "100%|██████████| 80/80 [00:00<00:00, 250.13it/s]\u001b[A\n",
      " 53%|█████▎    | 593/1123 [08:31<06:47,  1.30it/s]"
     ]
    },
    {
     "name": "stdout",
     "output_type": "stream",
     "text": [
      "/home/jiang/projects/SubtleGAN/data/brats2021/train/BraTS2021_01430\n"
     ]
    },
    {
     "name": "stderr",
     "output_type": "stream",
     "text": [
      "\n",
      "  0%|          | 0/80 [00:00<?, ?it/s]\u001b[A\n",
      " 32%|███▎      | 26/80 [00:00<00:00, 255.34it/s]\u001b[A\n",
      " 65%|██████▌   | 52/80 [00:00<00:00, 251.51it/s]\u001b[A\n",
      "100%|██████████| 80/80 [00:00<00:00, 249.69it/s]\u001b[A\n",
      " 53%|█████▎    | 594/1123 [08:32<06:43,  1.31it/s]"
     ]
    },
    {
     "name": "stdout",
     "output_type": "stream",
     "text": [
      "/home/jiang/projects/SubtleGAN/data/brats2021/train/BraTS2021_01056\n"
     ]
    },
    {
     "name": "stderr",
     "output_type": "stream",
     "text": [
      "\n",
      "  0%|          | 0/80 [00:00<?, ?it/s]\u001b[A\n",
      " 31%|███▏      | 25/80 [00:00<00:00, 244.26it/s]\u001b[A\n",
      " 64%|██████▍   | 51/80 [00:00<00:00, 249.27it/s]\u001b[A\n",
      "100%|██████████| 80/80 [00:00<00:00, 248.14it/s]\u001b[A\n",
      " 53%|█████▎    | 595/1123 [08:33<06:42,  1.31it/s]"
     ]
    },
    {
     "name": "stdout",
     "output_type": "stream",
     "text": [
      "/home/jiang/projects/SubtleGAN/data/brats2021/train/BraTS2021_00267\n"
     ]
    },
    {
     "name": "stderr",
     "output_type": "stream",
     "text": [
      "\n",
      "  0%|          | 0/80 [00:00<?, ?it/s]\u001b[A\n",
      " 32%|███▎      | 26/80 [00:00<00:00, 256.93it/s]\u001b[A\n",
      " 65%|██████▌   | 52/80 [00:00<00:00, 251.55it/s]\u001b[A\n",
      "100%|██████████| 80/80 [00:00<00:00, 246.51it/s]\u001b[A\n",
      " 53%|█████▎    | 596/1123 [08:33<06:42,  1.31it/s]"
     ]
    },
    {
     "name": "stdout",
     "output_type": "stream",
     "text": [
      "/home/jiang/projects/SubtleGAN/data/brats2021/train/BraTS2021_01339\n"
     ]
    },
    {
     "name": "stderr",
     "output_type": "stream",
     "text": [
      "\n",
      "  0%|          | 0/80 [00:00<?, ?it/s]\u001b[A\n",
      " 32%|███▎      | 26/80 [00:00<00:00, 259.74it/s]\u001b[A\n",
      " 65%|██████▌   | 52/80 [00:00<00:00, 247.49it/s]\u001b[A\n",
      "100%|██████████| 80/80 [00:00<00:00, 247.36it/s]\u001b[A\n",
      " 53%|█████▎    | 597/1123 [08:34<06:42,  1.31it/s]"
     ]
    },
    {
     "name": "stdout",
     "output_type": "stream",
     "text": [
      "/home/jiang/projects/SubtleGAN/data/brats2021/train/BraTS2021_01513\n"
     ]
    },
    {
     "name": "stderr",
     "output_type": "stream",
     "text": [
      "\n",
      "  0%|          | 0/80 [00:00<?, ?it/s]\u001b[A\n",
      " 32%|███▎      | 26/80 [00:00<00:00, 257.51it/s]\u001b[A\n",
      " 65%|██████▌   | 52/80 [00:00<00:00, 252.72it/s]\u001b[A\n",
      "100%|██████████| 80/80 [00:00<00:00, 243.10it/s]\u001b[A\n",
      " 53%|█████▎    | 598/1123 [08:35<06:40,  1.31it/s]"
     ]
    },
    {
     "name": "stdout",
     "output_type": "stream",
     "text": [
      "/home/jiang/projects/SubtleGAN/data/brats2021/train/BraTS2021_01366\n"
     ]
    },
    {
     "name": "stderr",
     "output_type": "stream",
     "text": [
      "\n",
      "  0%|          | 0/80 [00:00<?, ?it/s]\u001b[A\n",
      " 32%|███▎      | 26/80 [00:00<00:00, 253.82it/s]\u001b[A\n",
      " 65%|██████▌   | 52/80 [00:00<00:00, 236.08it/s]\u001b[A\n",
      "100%|██████████| 80/80 [00:00<00:00, 233.77it/s]\u001b[A\n",
      " 53%|█████▎    | 599/1123 [08:36<06:52,  1.27it/s]"
     ]
    },
    {
     "name": "stdout",
     "output_type": "stream",
     "text": [
      "/home/jiang/projects/SubtleGAN/data/brats2021/train/BraTS2021_00477\n"
     ]
    },
    {
     "name": "stderr",
     "output_type": "stream",
     "text": [
      "\n",
      "  0%|          | 0/80 [00:00<?, ?it/s]\u001b[A\n",
      " 31%|███▏      | 25/80 [00:00<00:00, 246.87it/s]\u001b[A\n",
      " 62%|██████▎   | 50/80 [00:00<00:00, 218.98it/s]\u001b[A\n",
      "100%|██████████| 80/80 [00:00<00:00, 228.99it/s]\u001b[A\n",
      " 53%|█████▎    | 600/1123 [08:36<06:41,  1.30it/s]"
     ]
    },
    {
     "name": "stdout",
     "output_type": "stream",
     "text": [
      "/home/jiang/projects/SubtleGAN/data/brats2021/train/BraTS2021_00820\n"
     ]
    },
    {
     "name": "stderr",
     "output_type": "stream",
     "text": [
      "\n",
      "  0%|          | 0/80 [00:00<?, ?it/s]\u001b[A\n",
      " 41%|████▏     | 33/80 [00:00<00:00, 320.82it/s]\u001b[A\n",
      "100%|██████████| 80/80 [00:00<00:00, 301.79it/s]\u001b[A\n",
      " 54%|█████▎    | 601/1123 [08:38<07:28,  1.16it/s]"
     ]
    },
    {
     "name": "stdout",
     "output_type": "stream",
     "text": [
      "/home/jiang/projects/SubtleGAN/data/brats2021/train/BraTS2021_00101\n"
     ]
    },
    {
     "name": "stderr",
     "output_type": "stream",
     "text": [
      "\n",
      "  0%|          | 0/80 [00:00<?, ?it/s]\u001b[A\n",
      " 31%|███▏      | 25/80 [00:00<00:00, 240.55it/s]\u001b[A\n",
      " 62%|██████▎   | 50/80 [00:00<00:00, 242.87it/s]\u001b[A\n",
      "100%|██████████| 80/80 [00:00<00:00, 242.69it/s]\u001b[A\n",
      " 54%|█████▎    | 602/1123 [08:38<07:13,  1.20it/s]"
     ]
    },
    {
     "name": "stdout",
     "output_type": "stream",
     "text": [
      "/home/jiang/projects/SubtleGAN/data/brats2021/train/BraTS2021_01594\n"
     ]
    },
    {
     "name": "stderr",
     "output_type": "stream",
     "text": [
      "\n",
      "  0%|          | 0/80 [00:00<?, ?it/s]\u001b[A\n",
      " 39%|███▉      | 31/80 [00:00<00:00, 308.37it/s]\u001b[A\n",
      "100%|██████████| 80/80 [00:00<00:00, 295.83it/s]\u001b[A\n",
      " 54%|█████▎    | 603/1123 [08:39<07:46,  1.11it/s]"
     ]
    },
    {
     "name": "stdout",
     "output_type": "stream",
     "text": [
      "/home/jiang/projects/SubtleGAN/data/brats2021/train/BraTS2021_00019\n"
     ]
    },
    {
     "name": "stderr",
     "output_type": "stream",
     "text": [
      "\n",
      "  0%|          | 0/80 [00:00<?, ?it/s]\u001b[A\n",
      " 32%|███▎      | 26/80 [00:00<00:00, 258.09it/s]\u001b[A\n",
      " 65%|██████▌   | 52/80 [00:00<00:00, 252.42it/s]\u001b[A\n",
      "100%|██████████| 80/80 [00:00<00:00, 250.56it/s]\u001b[A\n",
      " 54%|█████▍    | 604/1123 [08:40<07:12,  1.20it/s]"
     ]
    },
    {
     "name": "stdout",
     "output_type": "stream",
     "text": [
      "/home/jiang/projects/SubtleGAN/data/brats2021/train/BraTS2021_01621\n"
     ]
    },
    {
     "name": "stderr",
     "output_type": "stream",
     "text": [
      "\n",
      "  0%|          | 0/80 [00:00<?, ?it/s]\u001b[A\n",
      " 40%|████      | 32/80 [00:00<00:00, 313.56it/s]\u001b[A\n",
      "100%|██████████| 80/80 [00:00<00:00, 292.97it/s]\u001b[A\n",
      " 54%|█████▍    | 605/1123 [08:41<07:46,  1.11it/s]"
     ]
    },
    {
     "name": "stdout",
     "output_type": "stream",
     "text": [
      "/home/jiang/projects/SubtleGAN/data/brats2021/train/BraTS2021_00493\n"
     ]
    },
    {
     "name": "stderr",
     "output_type": "stream",
     "text": [
      "\n",
      "  0%|          | 0/80 [00:00<?, ?it/s]\u001b[A\n",
      " 22%|██▎       | 18/80 [00:00<00:00, 175.14it/s]\u001b[A\n",
      " 52%|█████▎    | 42/80 [00:00<00:00, 212.20it/s]\u001b[A\n",
      "100%|██████████| 80/80 [00:00<00:00, 222.49it/s]\u001b[A\n",
      " 54%|█████▍    | 606/1123 [08:42<07:26,  1.16it/s]"
     ]
    },
    {
     "name": "stdout",
     "output_type": "stream",
     "text": [
      "/home/jiang/projects/SubtleGAN/data/brats2021/train/BraTS2021_00131\n"
     ]
    },
    {
     "name": "stderr",
     "output_type": "stream",
     "text": [
      "\n",
      "  0%|          | 0/80 [00:00<?, ?it/s]\u001b[A\n",
      " 34%|███▍      | 27/80 [00:00<00:00, 263.81it/s]\u001b[A\n",
      " 68%|██████▊   | 54/80 [00:00<00:00, 250.25it/s]\u001b[A\n",
      "100%|██████████| 80/80 [00:00<00:00, 245.46it/s]\u001b[A\n",
      " 54%|█████▍    | 607/1123 [08:43<07:09,  1.20it/s]"
     ]
    },
    {
     "name": "stdout",
     "output_type": "stream",
     "text": [
      "/home/jiang/projects/SubtleGAN/data/brats2021/train/BraTS2021_01343\n"
     ]
    },
    {
     "name": "stderr",
     "output_type": "stream",
     "text": [
      "\n",
      "  0%|          | 0/80 [00:00<?, ?it/s]\u001b[A\n",
      " 32%|███▎      | 26/80 [00:00<00:00, 257.16it/s]\u001b[A\n",
      " 65%|██████▌   | 52/80 [00:00<00:00, 251.42it/s]\u001b[A\n",
      "100%|██████████| 80/80 [00:00<00:00, 248.00it/s]\u001b[A\n",
      " 54%|█████▍    | 608/1123 [08:43<06:58,  1.23it/s]"
     ]
    },
    {
     "name": "stdout",
     "output_type": "stream",
     "text": [
      "/home/jiang/projects/SubtleGAN/data/brats2021/train/BraTS2021_01555\n"
     ]
    },
    {
     "name": "stderr",
     "output_type": "stream",
     "text": [
      "\n",
      "  0%|          | 0/80 [00:00<?, ?it/s]\u001b[A\n",
      " 40%|████      | 32/80 [00:00<00:00, 310.80it/s]\u001b[A\n",
      "100%|██████████| 80/80 [00:00<00:00, 296.40it/s]\u001b[A\n",
      " 54%|█████▍    | 609/1123 [08:44<07:33,  1.13it/s]"
     ]
    },
    {
     "name": "stdout",
     "output_type": "stream",
     "text": [
      "/home/jiang/projects/SubtleGAN/data/brats2021/train/BraTS2021_01510\n"
     ]
    },
    {
     "name": "stderr",
     "output_type": "stream",
     "text": [
      "\n",
      "  0%|          | 0/80 [00:00<?, ?it/s]\u001b[A\n",
      " 32%|███▎      | 26/80 [00:00<00:00, 254.76it/s]\u001b[A\n",
      " 65%|██████▌   | 52/80 [00:00<00:00, 243.04it/s]\u001b[A\n",
      "100%|██████████| 80/80 [00:00<00:00, 240.11it/s]\u001b[A\n",
      " 54%|█████▍    | 610/1123 [08:45<07:14,  1.18it/s]"
     ]
    },
    {
     "name": "stdout",
     "output_type": "stream",
     "text": [
      "/home/jiang/projects/SubtleGAN/data/brats2021/train/BraTS2021_01527\n"
     ]
    },
    {
     "name": "stderr",
     "output_type": "stream",
     "text": [
      "\n",
      "  0%|          | 0/80 [00:00<?, ?it/s]\u001b[A\n",
      " 32%|███▎      | 26/80 [00:00<00:00, 258.31it/s]\u001b[A\n",
      " 65%|██████▌   | 52/80 [00:00<00:00, 250.22it/s]\u001b[A\n",
      "100%|██████████| 80/80 [00:00<00:00, 249.03it/s]\u001b[A\n",
      " 54%|█████▍    | 611/1123 [08:46<06:57,  1.23it/s]"
     ]
    },
    {
     "name": "stdout",
     "output_type": "stream",
     "text": [
      "/home/jiang/projects/SubtleGAN/data/brats2021/train/BraTS2021_01009\n"
     ]
    },
    {
     "name": "stderr",
     "output_type": "stream",
     "text": [
      "\n",
      "  0%|          | 0/80 [00:00<?, ?it/s]\u001b[A\n",
      " 35%|███▌      | 28/80 [00:00<00:00, 278.91it/s]\u001b[A\n",
      "100%|██████████| 80/80 [00:00<00:00, 252.61it/s]\u001b[A\n",
      " 54%|█████▍    | 612/1123 [08:47<06:45,  1.26it/s]"
     ]
    },
    {
     "name": "stdout",
     "output_type": "stream",
     "text": [
      "/home/jiang/projects/SubtleGAN/data/brats2021/train/BraTS2021_01094\n"
     ]
    },
    {
     "name": "stderr",
     "output_type": "stream",
     "text": [
      "\n",
      "  0%|          | 0/80 [00:00<?, ?it/s]\u001b[A\n",
      " 32%|███▎      | 26/80 [00:00<00:00, 255.21it/s]\u001b[A\n",
      " 65%|██████▌   | 52/80 [00:00<00:00, 254.40it/s]\u001b[A\n",
      "100%|██████████| 80/80 [00:00<00:00, 251.81it/s]\u001b[A\n",
      " 55%|█████▍    | 613/1123 [08:47<06:44,  1.26it/s]"
     ]
    },
    {
     "name": "stdout",
     "output_type": "stream",
     "text": [
      "/home/jiang/projects/SubtleGAN/data/brats2021/train/BraTS2021_00445\n"
     ]
    },
    {
     "name": "stderr",
     "output_type": "stream",
     "text": [
      "\n",
      "  0%|          | 0/80 [00:00<?, ?it/s]\u001b[A\n",
      " 34%|███▍      | 27/80 [00:00<00:00, 261.40it/s]\u001b[A\n",
      " 68%|██████▊   | 54/80 [00:00<00:00, 257.43it/s]\u001b[A\n",
      "100%|██████████| 80/80 [00:00<00:00, 251.30it/s]\u001b[A\n",
      " 55%|█████▍    | 614/1123 [08:48<06:37,  1.28it/s]"
     ]
    },
    {
     "name": "stdout",
     "output_type": "stream",
     "text": [
      "/home/jiang/projects/SubtleGAN/data/brats2021/train/BraTS2021_01105\n"
     ]
    },
    {
     "name": "stderr",
     "output_type": "stream",
     "text": [
      "\n",
      "  0%|          | 0/80 [00:00<?, ?it/s]\u001b[A\n",
      " 32%|███▎      | 26/80 [00:00<00:00, 259.26it/s]\u001b[A\n",
      " 65%|██████▌   | 52/80 [00:00<00:00, 256.00it/s]\u001b[A\n",
      "100%|██████████| 80/80 [00:00<00:00, 253.33it/s]\u001b[A\n",
      " 55%|█████▍    | 615/1123 [08:49<06:33,  1.29it/s]"
     ]
    },
    {
     "name": "stdout",
     "output_type": "stream",
     "text": [
      "/home/jiang/projects/SubtleGAN/data/brats2021/train/BraTS2021_00485\n"
     ]
    },
    {
     "name": "stderr",
     "output_type": "stream",
     "text": [
      "\n",
      "  0%|          | 0/80 [00:00<?, ?it/s]\u001b[A\n",
      " 34%|███▍      | 27/80 [00:00<00:00, 263.79it/s]\u001b[A\n",
      "100%|██████████| 80/80 [00:00<00:00, 251.49it/s]\u001b[A\n",
      " 55%|█████▍    | 616/1123 [08:50<06:17,  1.34it/s]"
     ]
    },
    {
     "name": "stdout",
     "output_type": "stream",
     "text": [
      "/home/jiang/projects/SubtleGAN/data/brats2021/train/BraTS2021_00250\n"
     ]
    },
    {
     "name": "stderr",
     "output_type": "stream",
     "text": [
      "\n",
      "  0%|          | 0/80 [00:00<?, ?it/s]\u001b[A\n",
      " 38%|███▊      | 30/80 [00:00<00:00, 297.98it/s]\u001b[A\n",
      "100%|██████████| 80/80 [00:00<00:00, 294.45it/s]\u001b[A\n",
      " 55%|█████▍    | 617/1123 [08:50<06:13,  1.36it/s]"
     ]
    },
    {
     "name": "stdout",
     "output_type": "stream",
     "text": [
      "/home/jiang/projects/SubtleGAN/data/brats2021/train/BraTS2021_01588\n"
     ]
    },
    {
     "name": "stderr",
     "output_type": "stream",
     "text": [
      "\n",
      "  0%|          | 0/80 [00:00<?, ?it/s]\u001b[A\n",
      " 42%|████▎     | 34/80 [00:00<00:00, 330.59it/s]\u001b[A\n",
      "100%|██████████| 80/80 [00:00<00:00, 317.88it/s]\u001b[A\n",
      " 55%|█████▌    | 618/1123 [08:51<06:50,  1.23it/s]"
     ]
    },
    {
     "name": "stdout",
     "output_type": "stream",
     "text": [
      "/home/jiang/projects/SubtleGAN/data/brats2021/train/BraTS2021_00605\n"
     ]
    },
    {
     "name": "stderr",
     "output_type": "stream",
     "text": [
      "\n",
      "  0%|          | 0/80 [00:00<?, ?it/s]\u001b[A\n",
      " 36%|███▋      | 29/80 [00:00<00:00, 281.94it/s]\u001b[A\n",
      "100%|██████████| 80/80 [00:00<00:00, 288.59it/s]\u001b[A\n",
      " 55%|█████▌    | 619/1123 [08:52<06:21,  1.32it/s]"
     ]
    },
    {
     "name": "stdout",
     "output_type": "stream",
     "text": [
      "/home/jiang/projects/SubtleGAN/data/brats2021/train/BraTS2021_01630\n"
     ]
    },
    {
     "name": "stderr",
     "output_type": "stream",
     "text": [
      "\n",
      "  0%|          | 0/80 [00:00<?, ?it/s]\u001b[A\n",
      " 40%|████      | 32/80 [00:00<00:00, 316.33it/s]\u001b[A\n",
      "100%|██████████| 80/80 [00:00<00:00, 307.48it/s]\u001b[A\n",
      " 55%|█████▌    | 620/1123 [08:53<06:59,  1.20it/s]"
     ]
    },
    {
     "name": "stdout",
     "output_type": "stream",
     "text": [
      "/home/jiang/projects/SubtleGAN/data/brats2021/train/BraTS2021_00805\n"
     ]
    },
    {
     "name": "stderr",
     "output_type": "stream",
     "text": [
      "\n",
      "  0%|          | 0/80 [00:00<?, ?it/s]\u001b[A\n",
      " 40%|████      | 32/80 [00:00<00:00, 310.26it/s]\u001b[A\n",
      "100%|██████████| 80/80 [00:00<00:00, 307.88it/s]\u001b[A\n",
      " 55%|█████▌    | 621/1123 [08:54<07:24,  1.13it/s]"
     ]
    },
    {
     "name": "stdout",
     "output_type": "stream",
     "text": [
      "/home/jiang/projects/SubtleGAN/data/brats2021/train/BraTS2021_01303\n"
     ]
    },
    {
     "name": "stderr",
     "output_type": "stream",
     "text": [
      "\n",
      "  0%|          | 0/80 [00:00<?, ?it/s]\u001b[A\n",
      " 36%|███▋      | 29/80 [00:00<00:00, 288.01it/s]\u001b[A\n",
      "100%|██████████| 80/80 [00:00<00:00, 299.46it/s]\u001b[A\n",
      " 55%|█████▌    | 622/1123 [08:55<06:54,  1.21it/s]"
     ]
    },
    {
     "name": "stdout",
     "output_type": "stream",
     "text": [
      "/home/jiang/projects/SubtleGAN/data/brats2021/train/BraTS2021_01451\n"
     ]
    },
    {
     "name": "stderr",
     "output_type": "stream",
     "text": [
      "\n",
      "  0%|          | 0/80 [00:00<?, ?it/s]\u001b[A\n",
      " 39%|███▉      | 31/80 [00:00<00:00, 306.89it/s]\u001b[A\n",
      "100%|██████████| 80/80 [00:00<00:00, 298.34it/s]\u001b[A\n",
      " 55%|█████▌    | 623/1123 [08:55<06:33,  1.27it/s]"
     ]
    },
    {
     "name": "stdout",
     "output_type": "stream",
     "text": [
      "/home/jiang/projects/SubtleGAN/data/brats2021/train/BraTS2021_00105\n"
     ]
    },
    {
     "name": "stderr",
     "output_type": "stream",
     "text": [
      "\n",
      "  0%|          | 0/80 [00:00<?, ?it/s]\u001b[A\n",
      " 38%|███▊      | 30/80 [00:00<00:00, 298.33it/s]\u001b[A\n",
      "100%|██████████| 80/80 [00:00<00:00, 301.03it/s]\u001b[A\n",
      " 56%|█████▌    | 624/1123 [08:56<06:18,  1.32it/s]"
     ]
    },
    {
     "name": "stdout",
     "output_type": "stream",
     "text": [
      "/home/jiang/projects/SubtleGAN/data/brats2021/train/BraTS2021_01100\n"
     ]
    },
    {
     "name": "stderr",
     "output_type": "stream",
     "text": [
      "\n",
      "  0%|          | 0/80 [00:00<?, ?it/s]\u001b[A\n",
      " 38%|███▊      | 30/80 [00:00<00:00, 291.65it/s]\u001b[A\n",
      "100%|██████████| 80/80 [00:00<00:00, 293.56it/s]\u001b[A\n",
      " 56%|█████▌    | 625/1123 [08:57<06:10,  1.35it/s]"
     ]
    },
    {
     "name": "stdout",
     "output_type": "stream",
     "text": [
      "/home/jiang/projects/SubtleGAN/data/brats2021/train/BraTS2021_01017\n"
     ]
    },
    {
     "name": "stderr",
     "output_type": "stream",
     "text": [
      "\n",
      "  0%|          | 0/80 [00:00<?, ?it/s]\u001b[A\n",
      " 38%|███▊      | 30/80 [00:00<00:00, 299.17it/s]\u001b[A\n",
      "100%|██████████| 80/80 [00:00<00:00, 291.83it/s]\u001b[A\n",
      " 56%|█████▌    | 626/1123 [08:58<06:02,  1.37it/s]"
     ]
    },
    {
     "name": "stdout",
     "output_type": "stream",
     "text": [
      "/home/jiang/projects/SubtleGAN/data/brats2021/train/BraTS2021_01660\n"
     ]
    },
    {
     "name": "stderr",
     "output_type": "stream",
     "text": [
      "\n",
      "  0%|          | 0/80 [00:00<?, ?it/s]\u001b[A\n",
      " 38%|███▊      | 30/80 [00:00<00:00, 298.01it/s]\u001b[A\n",
      "100%|██████████| 80/80 [00:00<00:00, 287.44it/s]\u001b[A\n",
      " 56%|█████▌    | 627/1123 [08:58<05:56,  1.39it/s]"
     ]
    },
    {
     "name": "stdout",
     "output_type": "stream",
     "text": [
      "/home/jiang/projects/SubtleGAN/data/brats2021/train/BraTS2021_00470\n"
     ]
    },
    {
     "name": "stderr",
     "output_type": "stream",
     "text": [
      "\n",
      "  0%|          | 0/80 [00:00<?, ?it/s]\u001b[A\n",
      " 39%|███▉      | 31/80 [00:00<00:00, 303.82it/s]\u001b[A\n",
      "100%|██████████| 80/80 [00:00<00:00, 286.78it/s]\u001b[A\n",
      " 56%|█████▌    | 628/1123 [08:59<05:56,  1.39it/s]"
     ]
    },
    {
     "name": "stdout",
     "output_type": "stream",
     "text": [
      "/home/jiang/projects/SubtleGAN/data/brats2021/train/BraTS2021_00443\n"
     ]
    },
    {
     "name": "stderr",
     "output_type": "stream",
     "text": [
      "\n",
      "  0%|          | 0/80 [00:00<?, ?it/s]\u001b[A\n",
      " 35%|███▌      | 28/80 [00:00<00:00, 278.62it/s]\u001b[A\n",
      "100%|██████████| 80/80 [00:00<00:00, 279.99it/s]\u001b[A\n",
      " 56%|█████▌    | 629/1123 [09:00<05:53,  1.40it/s]"
     ]
    },
    {
     "name": "stdout",
     "output_type": "stream",
     "text": [
      "/home/jiang/projects/SubtleGAN/data/brats2021/train/BraTS2021_00661\n"
     ]
    },
    {
     "name": "stderr",
     "output_type": "stream",
     "text": [
      "\n",
      "  0%|          | 0/80 [00:00<?, ?it/s]\u001b[A\n",
      " 38%|███▊      | 30/80 [00:00<00:00, 298.56it/s]\u001b[A\n",
      "100%|██████████| 80/80 [00:00<00:00, 287.29it/s]\u001b[A\n",
      " 56%|█████▌    | 630/1123 [09:00<05:39,  1.45it/s]"
     ]
    },
    {
     "name": "stdout",
     "output_type": "stream",
     "text": [
      "/home/jiang/projects/SubtleGAN/data/brats2021/train/BraTS2021_01326\n"
     ]
    },
    {
     "name": "stderr",
     "output_type": "stream",
     "text": [
      "\n",
      "  0%|          | 0/80 [00:00<?, ?it/s]\u001b[A\n",
      " 38%|███▊      | 30/80 [00:00<00:00, 295.31it/s]\u001b[A\n",
      "100%|██████████| 80/80 [00:00<00:00, 293.98it/s]\u001b[A\n",
      " 56%|█████▌    | 631/1123 [09:01<05:39,  1.45it/s]"
     ]
    },
    {
     "name": "stdout",
     "output_type": "stream",
     "text": [
      "/home/jiang/projects/SubtleGAN/data/brats2021/train/BraTS2021_00830\n"
     ]
    },
    {
     "name": "stderr",
     "output_type": "stream",
     "text": [
      "\n",
      "  0%|          | 0/80 [00:00<?, ?it/s]\u001b[A\n",
      " 39%|███▉      | 31/80 [00:00<00:00, 307.82it/s]\u001b[A\n",
      "100%|██████████| 80/80 [00:00<00:00, 306.88it/s]\u001b[A\n",
      " 56%|█████▋    | 632/1123 [09:02<06:24,  1.28it/s]"
     ]
    },
    {
     "name": "stdout",
     "output_type": "stream",
     "text": [
      "/home/jiang/projects/SubtleGAN/data/brats2021/train/BraTS2021_00216\n"
     ]
    },
    {
     "name": "stderr",
     "output_type": "stream",
     "text": [
      "\n",
      "  0%|          | 0/80 [00:00<?, ?it/s]\u001b[A\n",
      " 39%|███▉      | 31/80 [00:00<00:00, 300.52it/s]\u001b[A\n",
      "100%|██████████| 80/80 [00:00<00:00, 293.35it/s]\u001b[A\n",
      " 56%|█████▋    | 633/1123 [09:03<06:12,  1.32it/s]"
     ]
    },
    {
     "name": "stdout",
     "output_type": "stream",
     "text": [
      "/home/jiang/projects/SubtleGAN/data/brats2021/train/BraTS2021_00744\n"
     ]
    },
    {
     "name": "stderr",
     "output_type": "stream",
     "text": [
      "\n",
      "  0%|          | 0/80 [00:00<?, ?it/s]\u001b[A\n",
      " 39%|███▉      | 31/80 [00:00<00:00, 306.14it/s]\u001b[A\n",
      "100%|██████████| 80/80 [00:00<00:00, 297.54it/s]\u001b[A\n",
      " 56%|█████▋    | 634/1123 [09:03<06:05,  1.34it/s]"
     ]
    },
    {
     "name": "stdout",
     "output_type": "stream",
     "text": [
      "/home/jiang/projects/SubtleGAN/data/brats2021/train/BraTS2021_00517\n"
     ]
    },
    {
     "name": "stderr",
     "output_type": "stream",
     "text": [
      "\n",
      "  0%|          | 0/80 [00:00<?, ?it/s]\u001b[A\n",
      " 38%|███▊      | 30/80 [00:00<00:00, 295.67it/s]\u001b[A\n",
      "100%|██████████| 80/80 [00:00<00:00, 292.13it/s]\u001b[A\n",
      " 57%|█████▋    | 635/1123 [09:04<06:12,  1.31it/s]"
     ]
    },
    {
     "name": "stdout",
     "output_type": "stream",
     "text": [
      "/home/jiang/projects/SubtleGAN/data/brats2021/train/BraTS2021_00312\n"
     ]
    },
    {
     "name": "stderr",
     "output_type": "stream",
     "text": [
      "\n",
      "  0%|          | 0/80 [00:00<?, ?it/s]\u001b[A\n",
      " 39%|███▉      | 31/80 [00:00<00:00, 305.19it/s]\u001b[A\n",
      "100%|██████████| 80/80 [00:00<00:00, 292.42it/s]\u001b[A\n",
      " 57%|█████▋    | 636/1123 [09:05<06:03,  1.34it/s]"
     ]
    },
    {
     "name": "stdout",
     "output_type": "stream",
     "text": [
      "/home/jiang/projects/SubtleGAN/data/brats2021/train/BraTS2021_00576\n"
     ]
    },
    {
     "name": "stderr",
     "output_type": "stream",
     "text": [
      "\n",
      "  0%|          | 0/80 [00:00<?, ?it/s]\u001b[A\n",
      " 39%|███▉      | 31/80 [00:00<00:00, 299.81it/s]\u001b[A\n",
      "100%|██████████| 80/80 [00:00<00:00, 298.58it/s]\u001b[A\n",
      " 57%|█████▋    | 637/1123 [09:06<06:39,  1.22it/s]"
     ]
    },
    {
     "name": "stdout",
     "output_type": "stream",
     "text": [
      "/home/jiang/projects/SubtleGAN/data/brats2021/train/BraTS2021_00679\n"
     ]
    },
    {
     "name": "stderr",
     "output_type": "stream",
     "text": [
      "\n",
      "  0%|          | 0/80 [00:00<?, ?it/s]\u001b[A\n",
      " 39%|███▉      | 31/80 [00:00<00:00, 307.75it/s]\u001b[A\n",
      "100%|██████████| 80/80 [00:00<00:00, 291.01it/s]\u001b[A\n",
      " 57%|█████▋    | 638/1123 [09:07<06:10,  1.31it/s]"
     ]
    },
    {
     "name": "stdout",
     "output_type": "stream",
     "text": [
      "/home/jiang/projects/SubtleGAN/data/brats2021/train/BraTS2021_01133\n"
     ]
    },
    {
     "name": "stderr",
     "output_type": "stream",
     "text": [
      "\n",
      "  0%|          | 0/80 [00:00<?, ?it/s]\u001b[A\n",
      " 38%|███▊      | 30/80 [00:00<00:00, 291.85it/s]\u001b[A\n",
      "100%|██████████| 80/80 [00:00<00:00, 286.55it/s]\u001b[A\n",
      " 57%|█████▋    | 639/1123 [09:07<06:03,  1.33it/s]"
     ]
    },
    {
     "name": "stdout",
     "output_type": "stream",
     "text": [
      "/home/jiang/projects/SubtleGAN/data/brats2021/train/BraTS2021_00271\n"
     ]
    },
    {
     "name": "stderr",
     "output_type": "stream",
     "text": [
      "\n",
      "  0%|          | 0/80 [00:00<?, ?it/s]\u001b[A\n",
      " 38%|███▊      | 30/80 [00:00<00:00, 296.74it/s]\u001b[A\n",
      "100%|██████████| 80/80 [00:00<00:00, 292.81it/s]\u001b[A\n",
      " 57%|█████▋    | 640/1123 [09:08<05:55,  1.36it/s]"
     ]
    },
    {
     "name": "stdout",
     "output_type": "stream",
     "text": [
      "/home/jiang/projects/SubtleGAN/data/brats2021/train/BraTS2021_01178\n"
     ]
    },
    {
     "name": "stderr",
     "output_type": "stream",
     "text": [
      "\n",
      "  0%|          | 0/80 [00:00<?, ?it/s]\u001b[A\n",
      " 39%|███▉      | 31/80 [00:00<00:00, 308.97it/s]\u001b[A\n",
      "100%|██████████| 80/80 [00:00<00:00, 288.80it/s]\u001b[A\n",
      " 57%|█████▋    | 641/1123 [09:09<05:50,  1.38it/s]"
     ]
    },
    {
     "name": "stdout",
     "output_type": "stream",
     "text": [
      "/home/jiang/projects/SubtleGAN/data/brats2021/train/BraTS2021_00616\n"
     ]
    },
    {
     "name": "stderr",
     "output_type": "stream",
     "text": [
      "\n",
      "  0%|          | 0/80 [00:00<?, ?it/s]\u001b[A\n",
      " 32%|███▎      | 26/80 [00:00<00:00, 258.53it/s]\u001b[A\n",
      " 65%|██████▌   | 52/80 [00:00<00:00, 236.62it/s]\u001b[A\n",
      "100%|██████████| 80/80 [00:00<00:00, 235.74it/s]\u001b[A\n",
      " 57%|█████▋    | 642/1123 [09:09<05:45,  1.39it/s]"
     ]
    },
    {
     "name": "stdout",
     "output_type": "stream",
     "text": [
      "/home/jiang/projects/SubtleGAN/data/brats2021/train/BraTS2021_00538\n"
     ]
    },
    {
     "name": "stderr",
     "output_type": "stream",
     "text": [
      "\n",
      "  0%|          | 0/80 [00:00<?, ?it/s]\u001b[A\n",
      " 32%|███▎      | 26/80 [00:00<00:00, 256.26it/s]\u001b[A\n",
      " 65%|██████▌   | 52/80 [00:00<00:00, 253.40it/s]\u001b[A\n",
      "100%|██████████| 80/80 [00:00<00:00, 249.62it/s]\u001b[A\n",
      " 57%|█████▋    | 643/1123 [09:10<05:42,  1.40it/s]"
     ]
    },
    {
     "name": "stdout",
     "output_type": "stream",
     "text": [
      "/home/jiang/projects/SubtleGAN/data/brats2021/train/BraTS2021_00021\n"
     ]
    },
    {
     "name": "stderr",
     "output_type": "stream",
     "text": [
      "\n",
      "  0%|          | 0/80 [00:00<?, ?it/s]\u001b[A\n",
      " 32%|███▎      | 26/80 [00:00<00:00, 256.61it/s]\u001b[A\n",
      " 65%|██████▌   | 52/80 [00:00<00:00, 240.22it/s]\u001b[A\n",
      "100%|██████████| 80/80 [00:00<00:00, 233.40it/s]\u001b[A\n",
      " 57%|█████▋    | 644/1123 [09:11<05:40,  1.41it/s]"
     ]
    },
    {
     "name": "stdout",
     "output_type": "stream",
     "text": [
      "/home/jiang/projects/SubtleGAN/data/brats2021/train/BraTS2021_00320\n"
     ]
    },
    {
     "name": "stderr",
     "output_type": "stream",
     "text": [
      "\n",
      "  0%|          | 0/80 [00:00<?, ?it/s]\u001b[A\n",
      " 29%|██▉       | 23/80 [00:00<00:00, 226.46it/s]\u001b[A\n",
      " 57%|█████▊    | 46/80 [00:00<00:00, 215.80it/s]\u001b[A\n",
      "100%|██████████| 80/80 [00:00<00:00, 210.50it/s]\u001b[A\n",
      " 57%|█████▋    | 645/1123 [09:12<05:56,  1.34it/s]"
     ]
    },
    {
     "name": "stdout",
     "output_type": "stream",
     "text": [
      "/home/jiang/projects/SubtleGAN/data/brats2021/train/BraTS2021_00548\n"
     ]
    },
    {
     "name": "stderr",
     "output_type": "stream",
     "text": [
      "\n",
      "  0%|          | 0/80 [00:00<?, ?it/s]\u001b[A\n",
      " 29%|██▉       | 23/80 [00:00<00:00, 223.01it/s]\u001b[A\n",
      " 57%|█████▊    | 46/80 [00:00<00:00, 218.28it/s]\u001b[A\n",
      "100%|██████████| 80/80 [00:00<00:00, 207.29it/s]\u001b[A\n",
      " 58%|█████▊    | 646/1123 [09:12<05:58,  1.33it/s]"
     ]
    },
    {
     "name": "stdout",
     "output_type": "stream",
     "text": [
      "/home/jiang/projects/SubtleGAN/data/brats2021/train/BraTS2021_01011\n"
     ]
    },
    {
     "name": "stderr",
     "output_type": "stream",
     "text": [
      "\n",
      "  0%|          | 0/80 [00:00<?, ?it/s]\u001b[A\n",
      " 25%|██▌       | 20/80 [00:00<00:00, 195.56it/s]\u001b[A\n",
      " 50%|█████     | 40/80 [00:00<00:00, 196.99it/s]\u001b[A\n",
      "100%|██████████| 80/80 [00:00<00:00, 197.94it/s]\u001b[A\n",
      " 58%|█████▊    | 647/1123 [09:13<06:18,  1.26it/s]"
     ]
    },
    {
     "name": "stdout",
     "output_type": "stream",
     "text": [
      "/home/jiang/projects/SubtleGAN/data/brats2021/train/BraTS2021_01162\n"
     ]
    },
    {
     "name": "stderr",
     "output_type": "stream",
     "text": [
      "\n",
      "  0%|          | 0/80 [00:00<?, ?it/s]\u001b[A\n",
      " 39%|███▉      | 31/80 [00:00<00:00, 302.64it/s]\u001b[A\n",
      "100%|██████████| 80/80 [00:00<00:00, 256.12it/s]\u001b[A\n",
      " 58%|█████▊    | 648/1123 [09:15<07:43,  1.03it/s]"
     ]
    },
    {
     "name": "stdout",
     "output_type": "stream",
     "text": [
      "/home/jiang/projects/SubtleGAN/data/brats2021/train/BraTS2021_01564\n"
     ]
    },
    {
     "name": "stderr",
     "output_type": "stream",
     "text": [
      "\n",
      "  0%|          | 0/80 [00:00<?, ?it/s]\u001b[A\n",
      " 35%|███▌      | 28/80 [00:00<00:00, 274.21it/s]\u001b[A\n",
      "100%|██████████| 80/80 [00:00<00:00, 277.29it/s]\u001b[A\n",
      " 58%|█████▊    | 649/1123 [09:16<08:28,  1.07s/it]"
     ]
    },
    {
     "name": "stdout",
     "output_type": "stream",
     "text": [
      "/home/jiang/projects/SubtleGAN/data/brats2021/train/BraTS2021_01154\n"
     ]
    },
    {
     "name": "stderr",
     "output_type": "stream",
     "text": [
      "\n",
      "  0%|          | 0/80 [00:00<?, ?it/s]\u001b[A\n",
      " 29%|██▉       | 23/80 [00:00<00:00, 229.83it/s]\u001b[A\n",
      " 57%|█████▊    | 46/80 [00:00<00:00, 221.55it/s]\u001b[A\n",
      "100%|██████████| 80/80 [00:00<00:00, 220.42it/s]\u001b[A\n",
      " 58%|█████▊    | 650/1123 [09:17<07:35,  1.04it/s]"
     ]
    },
    {
     "name": "stdout",
     "output_type": "stream",
     "text": [
      "/home/jiang/projects/SubtleGAN/data/brats2021/train/BraTS2021_00046\n"
     ]
    },
    {
     "name": "stderr",
     "output_type": "stream",
     "text": [
      "\n",
      "  0%|          | 0/80 [00:00<?, ?it/s]\u001b[A\n",
      " 29%|██▉       | 23/80 [00:00<00:00, 222.40it/s]\u001b[A\n",
      " 57%|█████▊    | 46/80 [00:00<00:00, 218.81it/s]\u001b[A\n",
      "100%|██████████| 80/80 [00:00<00:00, 220.18it/s]\u001b[A\n",
      " 58%|█████▊    | 651/1123 [09:17<06:59,  1.13it/s]"
     ]
    },
    {
     "name": "stdout",
     "output_type": "stream",
     "text": [
      "/home/jiang/projects/SubtleGAN/data/brats2021/train/BraTS2021_01113\n"
     ]
    },
    {
     "name": "stderr",
     "output_type": "stream",
     "text": [
      "\n",
      "  0%|          | 0/80 [00:00<?, ?it/s]\u001b[A\n",
      " 30%|███       | 24/80 [00:00<00:00, 238.51it/s]\u001b[A\n",
      " 60%|██████    | 48/80 [00:00<00:00, 227.63it/s]\u001b[A\n",
      "100%|██████████| 80/80 [00:00<00:00, 229.23it/s]\u001b[A\n",
      " 58%|█████▊    | 652/1123 [09:18<06:44,  1.16it/s]"
     ]
    },
    {
     "name": "stdout",
     "output_type": "stream",
     "text": [
      "/home/jiang/projects/SubtleGAN/data/brats2021/train/BraTS2021_00554\n"
     ]
    },
    {
     "name": "stderr",
     "output_type": "stream",
     "text": [
      "\n",
      "  0%|          | 0/80 [00:00<?, ?it/s]\u001b[A\n",
      " 29%|██▉       | 23/80 [00:00<00:00, 228.49it/s]\u001b[A\n",
      " 59%|█████▉    | 47/80 [00:00<00:00, 231.14it/s]\u001b[A\n",
      "100%|██████████| 80/80 [00:00<00:00, 224.36it/s]\u001b[A\n",
      " 58%|█████▊    | 653/1123 [09:19<06:24,  1.22it/s]"
     ]
    },
    {
     "name": "stdout",
     "output_type": "stream",
     "text": [
      "/home/jiang/projects/SubtleGAN/data/brats2021/train/BraTS2021_01473\n"
     ]
    },
    {
     "name": "stderr",
     "output_type": "stream",
     "text": [
      "\n",
      "  0%|          | 0/80 [00:00<?, ?it/s]\u001b[A\n",
      " 30%|███       | 24/80 [00:00<00:00, 238.93it/s]\u001b[A\n",
      " 60%|██████    | 48/80 [00:00<00:00, 229.12it/s]\u001b[A\n",
      "100%|██████████| 80/80 [00:00<00:00, 228.10it/s]\u001b[A\n",
      " 58%|█████▊    | 654/1123 [09:20<06:18,  1.24it/s]"
     ]
    },
    {
     "name": "stdout",
     "output_type": "stream",
     "text": [
      "/home/jiang/projects/SubtleGAN/data/brats2021/train/BraTS2021_01235\n"
     ]
    },
    {
     "name": "stderr",
     "output_type": "stream",
     "text": [
      "\n",
      "  0%|          | 0/80 [00:00<?, ?it/s]\u001b[A\n",
      " 30%|███       | 24/80 [00:00<00:00, 239.05it/s]\u001b[A\n",
      " 60%|██████    | 48/80 [00:00<00:00, 225.54it/s]\u001b[A\n",
      "100%|██████████| 80/80 [00:00<00:00, 219.14it/s]\u001b[A\n",
      " 58%|█████▊    | 655/1123 [09:20<06:17,  1.24it/s]"
     ]
    },
    {
     "name": "stdout",
     "output_type": "stream",
     "text": [
      "/home/jiang/projects/SubtleGAN/data/brats2021/train/BraTS2021_00774\n"
     ]
    },
    {
     "name": "stderr",
     "output_type": "stream",
     "text": [
      "\n",
      "  0%|          | 0/80 [00:00<?, ?it/s]\u001b[A\n",
      " 29%|██▉       | 23/80 [00:00<00:00, 219.08it/s]\u001b[A\n",
      " 56%|█████▋    | 45/80 [00:00<00:00, 214.63it/s]\u001b[A\n",
      "100%|██████████| 80/80 [00:00<00:00, 216.43it/s]\u001b[A\n",
      " 58%|█████▊    | 656/1123 [09:21<06:08,  1.27it/s]"
     ]
    },
    {
     "name": "stdout",
     "output_type": "stream",
     "text": [
      "/home/jiang/projects/SubtleGAN/data/brats2021/train/BraTS2021_01058\n"
     ]
    },
    {
     "name": "stderr",
     "output_type": "stream",
     "text": [
      "\n",
      "  0%|          | 0/80 [00:00<?, ?it/s]\u001b[A\n",
      " 22%|██▎       | 18/80 [00:00<00:00, 176.57it/s]\u001b[A\n",
      " 56%|█████▋    | 45/80 [00:00<00:00, 226.52it/s]\u001b[A\n",
      "100%|██████████| 80/80 [00:00<00:00, 240.28it/s]\u001b[A\n",
      " 59%|█████▊    | 657/1123 [09:22<06:06,  1.27it/s]"
     ]
    },
    {
     "name": "stdout",
     "output_type": "stream",
     "text": [
      "/home/jiang/projects/SubtleGAN/data/brats2021/train/BraTS2021_01067\n"
     ]
    },
    {
     "name": "stderr",
     "output_type": "stream",
     "text": [
      "\n",
      "  0%|          | 0/80 [00:00<?, ?it/s]\u001b[A\n",
      " 29%|██▉       | 23/80 [00:00<00:00, 228.99it/s]\u001b[A\n",
      " 57%|█████▊    | 46/80 [00:00<00:00, 193.44it/s]\u001b[A\n",
      "100%|██████████| 80/80 [00:00<00:00, 196.20it/s]\u001b[A\n",
      " 59%|█████▊    | 658/1123 [09:23<06:14,  1.24it/s]"
     ]
    },
    {
     "name": "stdout",
     "output_type": "stream",
     "text": [
      "/home/jiang/projects/SubtleGAN/data/brats2021/train/BraTS2021_00316\n"
     ]
    },
    {
     "name": "stderr",
     "output_type": "stream",
     "text": [
      "\n",
      "  0%|          | 0/80 [00:00<?, ?it/s]\u001b[A\n",
      " 34%|███▍      | 27/80 [00:00<00:00, 267.26it/s]\u001b[A\n",
      " 68%|██████▊   | 54/80 [00:00<00:00, 251.15it/s]\u001b[A\n",
      "100%|██████████| 80/80 [00:00<00:00, 247.62it/s]\u001b[A\n",
      " 59%|█████▊    | 659/1123 [09:24<06:07,  1.26it/s]"
     ]
    },
    {
     "name": "stdout",
     "output_type": "stream",
     "text": [
      "/home/jiang/projects/SubtleGAN/data/brats2021/train/BraTS2021_01460\n"
     ]
    },
    {
     "name": "stderr",
     "output_type": "stream",
     "text": [
      "\n",
      "  0%|          | 0/80 [00:00<?, ?it/s]\u001b[A\n",
      " 31%|███▏      | 25/80 [00:00<00:00, 249.71it/s]\u001b[A\n",
      " 62%|██████▎   | 50/80 [00:00<00:00, 248.57it/s]\u001b[A\n",
      "100%|██████████| 80/80 [00:00<00:00, 245.70it/s]\u001b[A\n",
      " 59%|█████▉    | 660/1123 [09:24<06:02,  1.28it/s]"
     ]
    },
    {
     "name": "stdout",
     "output_type": "stream",
     "text": [
      "/home/jiang/projects/SubtleGAN/data/brats2021/train/BraTS2021_00569\n"
     ]
    },
    {
     "name": "stderr",
     "output_type": "stream",
     "text": [
      "\n",
      "  0%|          | 0/80 [00:00<?, ?it/s]\u001b[A\n",
      " 38%|███▊      | 30/80 [00:00<00:00, 297.11it/s]\u001b[A\n",
      "100%|██████████| 80/80 [00:00<00:00, 282.58it/s]\u001b[A\n",
      " 59%|█████▉    | 661/1123 [09:26<06:53,  1.12it/s]"
     ]
    },
    {
     "name": "stdout",
     "output_type": "stream",
     "text": [
      "/home/jiang/projects/SubtleGAN/data/brats2021/train/BraTS2021_00227\n"
     ]
    },
    {
     "name": "stderr",
     "output_type": "stream",
     "text": [
      "\n",
      "  0%|          | 0/80 [00:00<?, ?it/s]\u001b[A\n",
      " 31%|███▏      | 25/80 [00:00<00:00, 248.76it/s]\u001b[A\n",
      " 62%|██████▎   | 50/80 [00:00<00:00, 230.06it/s]\u001b[A\n",
      "100%|██████████| 80/80 [00:00<00:00, 212.29it/s]\u001b[A\n",
      " 59%|█████▉    | 662/1123 [09:26<06:40,  1.15it/s]"
     ]
    },
    {
     "name": "stdout",
     "output_type": "stream",
     "text": [
      "/home/jiang/projects/SubtleGAN/data/brats2021/train/BraTS2021_01212\n"
     ]
    },
    {
     "name": "stderr",
     "output_type": "stream",
     "text": [
      "\n",
      "  0%|          | 0/80 [00:00<?, ?it/s]\u001b[A\n",
      " 31%|███▏      | 25/80 [00:00<00:00, 238.75it/s]\u001b[A\n",
      " 62%|██████▎   | 50/80 [00:00<00:00, 239.81it/s]\u001b[A\n",
      "100%|██████████| 80/80 [00:00<00:00, 234.29it/s]\u001b[A\n",
      " 59%|█████▉    | 663/1123 [09:27<06:33,  1.17it/s]"
     ]
    },
    {
     "name": "stdout",
     "output_type": "stream",
     "text": [
      "/home/jiang/projects/SubtleGAN/data/brats2021/train/BraTS2021_01079\n"
     ]
    },
    {
     "name": "stderr",
     "output_type": "stream",
     "text": [
      "\n",
      "  0%|          | 0/80 [00:00<?, ?it/s]\u001b[A\n",
      " 32%|███▎      | 26/80 [00:00<00:00, 256.27it/s]\u001b[A\n",
      " 65%|██████▌   | 52/80 [00:00<00:00, 247.00it/s]\u001b[A\n",
      "100%|██████████| 80/80 [00:00<00:00, 245.06it/s]\u001b[A\n",
      " 59%|█████▉    | 664/1123 [09:28<06:22,  1.20it/s]"
     ]
    },
    {
     "name": "stdout",
     "output_type": "stream",
     "text": [
      "/home/jiang/projects/SubtleGAN/data/brats2021/train/BraTS2021_01626\n"
     ]
    },
    {
     "name": "stderr",
     "output_type": "stream",
     "text": [
      "\n",
      "  0%|          | 0/80 [00:00<?, ?it/s]\u001b[A\n",
      " 40%|████      | 32/80 [00:00<00:00, 315.63it/s]\u001b[A\n",
      "100%|██████████| 80/80 [00:00<00:00, 291.85it/s]\u001b[A\n",
      " 59%|█████▉    | 665/1123 [09:29<07:00,  1.09it/s]"
     ]
    },
    {
     "name": "stdout",
     "output_type": "stream",
     "text": [
      "/home/jiang/projects/SubtleGAN/data/brats2021/train/BraTS2021_01109\n"
     ]
    },
    {
     "name": "stderr",
     "output_type": "stream",
     "text": [
      "\n",
      "  0%|          | 0/80 [00:00<?, ?it/s]\u001b[A\n",
      " 32%|███▎      | 26/80 [00:00<00:00, 250.00it/s]\u001b[A\n",
      " 64%|██████▍   | 51/80 [00:00<00:00, 243.92it/s]\u001b[A\n",
      "100%|██████████| 80/80 [00:00<00:00, 247.18it/s]\u001b[A\n",
      " 59%|█████▉    | 666/1123 [09:30<06:38,  1.15it/s]"
     ]
    },
    {
     "name": "stdout",
     "output_type": "stream",
     "text": [
      "/home/jiang/projects/SubtleGAN/data/brats2021/train/BraTS2021_01387\n"
     ]
    },
    {
     "name": "stderr",
     "output_type": "stream",
     "text": [
      "\n",
      "  0%|          | 0/80 [00:00<?, ?it/s]\u001b[A\n",
      " 34%|███▍      | 27/80 [00:00<00:00, 262.19it/s]\u001b[A\n",
      " 68%|██████▊   | 54/80 [00:00<00:00, 255.80it/s]\u001b[A\n",
      "100%|██████████| 80/80 [00:00<00:00, 252.00it/s]\u001b[A\n",
      " 59%|█████▉    | 667/1123 [09:31<06:22,  1.19it/s]"
     ]
    },
    {
     "name": "stdout",
     "output_type": "stream",
     "text": [
      "/home/jiang/projects/SubtleGAN/data/brats2021/train/BraTS2021_01074\n"
     ]
    },
    {
     "name": "stderr",
     "output_type": "stream",
     "text": [
      "\n",
      "  0%|          | 0/80 [00:00<?, ?it/s]\u001b[A\n",
      " 32%|███▎      | 26/80 [00:00<00:00, 255.67it/s]\u001b[A\n",
      " 65%|██████▌   | 52/80 [00:00<00:00, 254.24it/s]\u001b[A\n",
      "100%|██████████| 80/80 [00:00<00:00, 250.65it/s]\u001b[A\n",
      " 59%|█████▉    | 668/1123 [09:31<06:10,  1.23it/s]"
     ]
    },
    {
     "name": "stdout",
     "output_type": "stream",
     "text": [
      "/home/jiang/projects/SubtleGAN/data/brats2021/train/BraTS2021_01313\n"
     ]
    },
    {
     "name": "stderr",
     "output_type": "stream",
     "text": [
      "\n",
      "  0%|          | 0/80 [00:00<?, ?it/s]\u001b[A\n",
      " 29%|██▉       | 23/80 [00:00<00:00, 221.39it/s]\u001b[A\n",
      " 57%|█████▊    | 46/80 [00:00<00:00, 215.40it/s]\u001b[A\n",
      "100%|██████████| 80/80 [00:00<00:00, 216.97it/s]\u001b[A\n",
      " 60%|█████▉    | 669/1123 [09:32<06:08,  1.23it/s]"
     ]
    },
    {
     "name": "stdout",
     "output_type": "stream",
     "text": [
      "/home/jiang/projects/SubtleGAN/data/brats2021/train/BraTS2021_00289\n"
     ]
    },
    {
     "name": "stderr",
     "output_type": "stream",
     "text": [
      "\n",
      "  0%|          | 0/80 [00:00<?, ?it/s]\u001b[A\n",
      " 34%|███▍      | 27/80 [00:00<00:00, 268.44it/s]\u001b[A\n",
      " 68%|██████▊   | 54/80 [00:00<00:00, 252.84it/s]\u001b[A\n",
      "100%|██████████| 80/80 [00:00<00:00, 250.92it/s]\u001b[A\n",
      " 60%|█████▉    | 670/1123 [09:33<06:02,  1.25it/s]"
     ]
    },
    {
     "name": "stdout",
     "output_type": "stream",
     "text": [
      "/home/jiang/projects/SubtleGAN/data/brats2021/train/BraTS2021_00760\n"
     ]
    },
    {
     "name": "stderr",
     "output_type": "stream",
     "text": [
      "\n",
      "  0%|          | 0/80 [00:00<?, ?it/s]\u001b[A\n",
      " 32%|███▎      | 26/80 [00:00<00:00, 258.17it/s]\u001b[A\n",
      " 65%|██████▌   | 52/80 [00:00<00:00, 235.12it/s]\u001b[A\n",
      "100%|██████████| 80/80 [00:00<00:00, 243.71it/s]\u001b[A\n",
      " 60%|█████▉    | 671/1123 [09:34<05:48,  1.30it/s]"
     ]
    },
    {
     "name": "stdout",
     "output_type": "stream",
     "text": [
      "/home/jiang/projects/SubtleGAN/data/brats2021/train/BraTS2021_00725\n"
     ]
    },
    {
     "name": "stderr",
     "output_type": "stream",
     "text": [
      "\n",
      "  0%|          | 0/80 [00:00<?, ?it/s]\u001b[A\n",
      " 39%|███▉      | 31/80 [00:00<00:00, 306.35it/s]\u001b[A\n",
      "100%|██████████| 80/80 [00:00<00:00, 296.10it/s]\u001b[A\n",
      " 60%|█████▉    | 672/1123 [09:34<05:27,  1.38it/s]"
     ]
    },
    {
     "name": "stdout",
     "output_type": "stream",
     "text": [
      "/home/jiang/projects/SubtleGAN/data/brats2021/train/BraTS2021_01399\n"
     ]
    },
    {
     "name": "stderr",
     "output_type": "stream",
     "text": [
      "\n",
      "  0%|          | 0/80 [00:00<?, ?it/s]\u001b[A\n",
      " 38%|███▊      | 30/80 [00:00<00:00, 296.69it/s]\u001b[A\n",
      "100%|██████████| 80/80 [00:00<00:00, 253.32it/s]\u001b[A\n",
      " 60%|█████▉    | 673/1123 [09:35<05:28,  1.37it/s]"
     ]
    },
    {
     "name": "stdout",
     "output_type": "stream",
     "text": [
      "/home/jiang/projects/SubtleGAN/data/brats2021/train/BraTS2021_01035\n"
     ]
    },
    {
     "name": "stderr",
     "output_type": "stream",
     "text": [
      "\n",
      "  0%|          | 0/80 [00:00<?, ?it/s]\u001b[A\n",
      " 25%|██▌       | 20/80 [00:00<00:00, 198.30it/s]\u001b[A\n",
      " 50%|█████     | 40/80 [00:00<00:00, 189.90it/s]\u001b[A\n",
      " 75%|███████▌  | 60/80 [00:00<00:00, 184.66it/s]\u001b[A\n",
      "100%|██████████| 80/80 [00:00<00:00, 184.05it/s]\u001b[A\n",
      " 60%|██████    | 674/1123 [09:36<05:38,  1.33it/s]"
     ]
    },
    {
     "name": "stdout",
     "output_type": "stream",
     "text": [
      "/home/jiang/projects/SubtleGAN/data/brats2021/train/BraTS2021_00405\n"
     ]
    },
    {
     "name": "stderr",
     "output_type": "stream",
     "text": [
      "\n",
      "  0%|          | 0/80 [00:00<?, ?it/s]\u001b[A\n",
      " 35%|███▌      | 28/80 [00:00<00:00, 273.53it/s]\u001b[A\n",
      "100%|██████████| 80/80 [00:00<00:00, 257.23it/s]\u001b[A\n",
      " 60%|██████    | 675/1123 [09:37<05:38,  1.32it/s]"
     ]
    },
    {
     "name": "stdout",
     "output_type": "stream",
     "text": [
      "/home/jiang/projects/SubtleGAN/data/brats2021/train/BraTS2021_00247\n"
     ]
    },
    {
     "name": "stderr",
     "output_type": "stream",
     "text": [
      "\n",
      "  0%|          | 0/80 [00:00<?, ?it/s]\u001b[A\n",
      " 32%|███▎      | 26/80 [00:00<00:00, 252.88it/s]\u001b[A\n",
      " 65%|██████▌   | 52/80 [00:00<00:00, 254.93it/s]\u001b[A\n",
      "100%|██████████| 80/80 [00:00<00:00, 253.02it/s]\u001b[A\n",
      " 60%|██████    | 676/1123 [09:37<05:35,  1.33it/s]"
     ]
    },
    {
     "name": "stdout",
     "output_type": "stream",
     "text": [
      "/home/jiang/projects/SubtleGAN/data/brats2021/train/BraTS2021_01475\n"
     ]
    },
    {
     "name": "stderr",
     "output_type": "stream",
     "text": [
      "\n",
      "  0%|          | 0/80 [00:00<?, ?it/s]\u001b[A\n",
      " 32%|███▎      | 26/80 [00:00<00:00, 251.68it/s]\u001b[A\n",
      " 66%|██████▋   | 53/80 [00:00<00:00, 259.42it/s]\u001b[A\n",
      "100%|██████████| 80/80 [00:00<00:00, 258.20it/s]\u001b[A\n",
      " 60%|██████    | 677/1123 [09:38<05:33,  1.34it/s]"
     ]
    },
    {
     "name": "stdout",
     "output_type": "stream",
     "text": [
      "/home/jiang/projects/SubtleGAN/data/brats2021/train/BraTS2021_01440\n"
     ]
    },
    {
     "name": "stderr",
     "output_type": "stream",
     "text": [
      "\n",
      "  0%|          | 0/80 [00:00<?, ?it/s]\u001b[A\n",
      " 32%|███▎      | 26/80 [00:00<00:00, 253.79it/s]\u001b[A\n",
      " 65%|██████▌   | 52/80 [00:00<00:00, 249.28it/s]\u001b[A\n",
      "100%|██████████| 80/80 [00:00<00:00, 244.61it/s]\u001b[A\n",
      " 60%|██████    | 678/1123 [09:39<05:42,  1.30it/s]"
     ]
    },
    {
     "name": "stdout",
     "output_type": "stream",
     "text": [
      "/home/jiang/projects/SubtleGAN/data/brats2021/train/BraTS2021_00557\n"
     ]
    },
    {
     "name": "stderr",
     "output_type": "stream",
     "text": [
      "\n",
      "  0%|          | 0/80 [00:00<?, ?it/s]\u001b[A\n",
      " 34%|███▍      | 27/80 [00:00<00:00, 260.48it/s]\u001b[A\n",
      " 68%|██████▊   | 54/80 [00:00<00:00, 259.47it/s]\u001b[A\n",
      "100%|██████████| 80/80 [00:00<00:00, 254.69it/s]\u001b[A\n",
      " 60%|██████    | 679/1123 [09:40<05:29,  1.35it/s]"
     ]
    },
    {
     "name": "stdout",
     "output_type": "stream",
     "text": [
      "/home/jiang/projects/SubtleGAN/data/brats2021/train/BraTS2021_00526\n"
     ]
    },
    {
     "name": "stderr",
     "output_type": "stream",
     "text": [
      "\n",
      "  0%|          | 0/80 [00:00<?, ?it/s]\u001b[A\n",
      " 18%|█▊        | 14/80 [00:00<00:00, 135.29it/s]\u001b[A\n",
      " 42%|████▎     | 34/80 [00:00<00:00, 170.20it/s]\u001b[A\n",
      "100%|██████████| 80/80 [00:00<00:00, 200.04it/s]\u001b[A\n",
      " 61%|██████    | 680/1123 [09:40<05:33,  1.33it/s]"
     ]
    },
    {
     "name": "stdout",
     "output_type": "stream",
     "text": [
      "/home/jiang/projects/SubtleGAN/data/brats2021/train/BraTS2021_01085\n"
     ]
    },
    {
     "name": "stderr",
     "output_type": "stream",
     "text": [
      "\n",
      "  0%|          | 0/80 [00:00<?, ?it/s]\u001b[A\n",
      " 34%|███▍      | 27/80 [00:00<00:00, 261.31it/s]\u001b[A\n",
      "100%|██████████| 80/80 [00:00<00:00, 261.46it/s]\u001b[A\n",
      " 61%|██████    | 681/1123 [09:41<05:30,  1.34it/s]"
     ]
    },
    {
     "name": "stdout",
     "output_type": "stream",
     "text": [
      "/home/jiang/projects/SubtleGAN/data/brats2021/train/BraTS2021_01037\n"
     ]
    },
    {
     "name": "stderr",
     "output_type": "stream",
     "text": [
      "\n",
      "  0%|          | 0/80 [00:00<?, ?it/s]\u001b[A\n",
      " 34%|███▍      | 27/80 [00:00<00:00, 265.98it/s]\u001b[A\n",
      " 68%|██████▊   | 54/80 [00:00<00:00, 248.59it/s]\u001b[A\n",
      "100%|██████████| 80/80 [00:00<00:00, 243.28it/s]\u001b[A\n",
      " 61%|██████    | 682/1123 [09:42<05:32,  1.33it/s]"
     ]
    },
    {
     "name": "stdout",
     "output_type": "stream",
     "text": [
      "/home/jiang/projects/SubtleGAN/data/brats2021/train/BraTS2021_01138\n"
     ]
    },
    {
     "name": "stderr",
     "output_type": "stream",
     "text": [
      "\n",
      "  0%|          | 0/80 [00:00<?, ?it/s]\u001b[A\n",
      " 31%|███▏      | 25/80 [00:00<00:00, 241.56it/s]\u001b[A\n",
      " 62%|██████▎   | 50/80 [00:00<00:00, 241.99it/s]\u001b[A\n",
      "100%|██████████| 80/80 [00:00<00:00, 239.51it/s]\u001b[A\n",
      " 61%|██████    | 683/1123 [09:43<05:34,  1.31it/s]"
     ]
    },
    {
     "name": "stdout",
     "output_type": "stream",
     "text": [
      "/home/jiang/projects/SubtleGAN/data/brats2021/train/BraTS2021_01448\n"
     ]
    },
    {
     "name": "stderr",
     "output_type": "stream",
     "text": [
      "\n",
      "  0%|          | 0/80 [00:00<?, ?it/s]\u001b[A\n",
      " 32%|███▎      | 26/80 [00:00<00:00, 259.63it/s]\u001b[A\n",
      " 65%|██████▌   | 52/80 [00:00<00:00, 241.27it/s]\u001b[A\n",
      "100%|██████████| 80/80 [00:00<00:00, 241.97it/s]\u001b[A\n",
      " 61%|██████    | 684/1123 [09:43<05:35,  1.31it/s]"
     ]
    },
    {
     "name": "stdout",
     "output_type": "stream",
     "text": [
      "/home/jiang/projects/SubtleGAN/data/brats2021/train/BraTS2021_01398\n"
     ]
    },
    {
     "name": "stderr",
     "output_type": "stream",
     "text": [
      "\n",
      "  0%|          | 0/80 [00:00<?, ?it/s]\u001b[A\n",
      " 34%|███▍      | 27/80 [00:00<00:00, 268.39it/s]\u001b[A\n",
      " 68%|██████▊   | 54/80 [00:00<00:00, 254.81it/s]\u001b[A\n",
      "100%|██████████| 80/80 [00:00<00:00, 251.73it/s]\u001b[A\n",
      " 61%|██████    | 685/1123 [09:44<05:36,  1.30it/s]"
     ]
    },
    {
     "name": "stdout",
     "output_type": "stream",
     "text": [
      "/home/jiang/projects/SubtleGAN/data/brats2021/train/BraTS2021_01224\n"
     ]
    },
    {
     "name": "stderr",
     "output_type": "stream",
     "text": [
      "\n",
      "  0%|          | 0/80 [00:00<?, ?it/s]\u001b[A\n",
      " 34%|███▍      | 27/80 [00:00<00:00, 264.59it/s]\u001b[A\n",
      " 68%|██████▊   | 54/80 [00:00<00:00, 259.08it/s]\u001b[A\n",
      "100%|██████████| 80/80 [00:00<00:00, 252.82it/s]\u001b[A\n",
      " 61%|██████    | 686/1123 [09:45<05:32,  1.31it/s]"
     ]
    },
    {
     "name": "stdout",
     "output_type": "stream",
     "text": [
      "/home/jiang/projects/SubtleGAN/data/brats2021/train/BraTS2021_01492\n"
     ]
    },
    {
     "name": "stderr",
     "output_type": "stream",
     "text": [
      "\n",
      "  0%|          | 0/80 [00:00<?, ?it/s]\u001b[A\n",
      " 34%|███▍      | 27/80 [00:00<00:00, 265.25it/s]\u001b[A\n",
      " 68%|██████▊   | 54/80 [00:00<00:00, 251.85it/s]\u001b[A\n",
      "100%|██████████| 80/80 [00:00<00:00, 250.49it/s]\u001b[A\n",
      " 61%|██████    | 687/1123 [09:46<05:30,  1.32it/s]"
     ]
    },
    {
     "name": "stdout",
     "output_type": "stream",
     "text": [
      "/home/jiang/projects/SubtleGAN/data/brats2021/train/BraTS2021_00734\n"
     ]
    },
    {
     "name": "stderr",
     "output_type": "stream",
     "text": [
      "\n",
      "  0%|          | 0/80 [00:00<?, ?it/s]\u001b[A\n",
      " 32%|███▎      | 26/80 [00:00<00:00, 251.32it/s]\u001b[A\n",
      " 65%|██████▌   | 52/80 [00:00<00:00, 252.83it/s]\u001b[A\n",
      "100%|██████████| 80/80 [00:00<00:00, 249.78it/s]\u001b[A\n",
      " 61%|██████▏   | 688/1123 [09:46<05:22,  1.35it/s]"
     ]
    },
    {
     "name": "stdout",
     "output_type": "stream",
     "text": [
      "/home/jiang/projects/SubtleGAN/data/brats2021/train/BraTS2021_01204\n"
     ]
    },
    {
     "name": "stderr",
     "output_type": "stream",
     "text": [
      "\n",
      "  0%|          | 0/80 [00:00<?, ?it/s]\u001b[A\n",
      " 32%|███▎      | 26/80 [00:00<00:00, 256.42it/s]\u001b[A\n",
      " 65%|██████▌   | 52/80 [00:00<00:00, 252.30it/s]\u001b[A\n",
      "100%|██████████| 80/80 [00:00<00:00, 251.58it/s]\u001b[A\n",
      " 61%|██████▏   | 689/1123 [09:47<05:22,  1.35it/s]"
     ]
    },
    {
     "name": "stdout",
     "output_type": "stream",
     "text": [
      "/home/jiang/projects/SubtleGAN/data/brats2021/train/BraTS2021_00836\n"
     ]
    },
    {
     "name": "stderr",
     "output_type": "stream",
     "text": [
      "\n",
      "  0%|          | 0/80 [00:00<?, ?it/s]\u001b[A\n",
      " 32%|███▎      | 26/80 [00:00<00:00, 257.85it/s]\u001b[A\n",
      " 65%|██████▌   | 52/80 [00:00<00:00, 251.69it/s]\u001b[A\n",
      "100%|██████████| 80/80 [00:00<00:00, 245.22it/s]\u001b[A\n",
      " 61%|██████▏   | 690/1123 [09:48<05:24,  1.33it/s]"
     ]
    },
    {
     "name": "stdout",
     "output_type": "stream",
     "text": [
      "/home/jiang/projects/SubtleGAN/data/brats2021/train/BraTS2021_00639\n"
     ]
    },
    {
     "name": "stderr",
     "output_type": "stream",
     "text": [
      "\n",
      "  0%|          | 0/80 [00:00<?, ?it/s]\u001b[A\n",
      " 34%|███▍      | 27/80 [00:00<00:00, 262.40it/s]\u001b[A\n",
      " 68%|██████▊   | 54/80 [00:00<00:00, 251.72it/s]\u001b[A\n",
      "100%|██████████| 80/80 [00:00<00:00, 249.35it/s]\u001b[A\n",
      " 62%|██████▏   | 691/1123 [09:49<05:14,  1.38it/s]"
     ]
    },
    {
     "name": "stdout",
     "output_type": "stream",
     "text": [
      "/home/jiang/projects/SubtleGAN/data/brats2021/train/BraTS2021_01501\n"
     ]
    },
    {
     "name": "stderr",
     "output_type": "stream",
     "text": [
      "\n",
      "  0%|          | 0/80 [00:00<?, ?it/s]\u001b[A\n",
      " 32%|███▎      | 26/80 [00:00<00:00, 258.45it/s]\u001b[A\n",
      " 65%|██████▌   | 52/80 [00:00<00:00, 254.96it/s]\u001b[A\n",
      "100%|██████████| 80/80 [00:00<00:00, 251.44it/s]\u001b[A\n",
      " 62%|██████▏   | 692/1123 [09:49<05:16,  1.36it/s]"
     ]
    },
    {
     "name": "stdout",
     "output_type": "stream",
     "text": [
      "/home/jiang/projects/SubtleGAN/data/brats2021/train/BraTS2021_00413\n"
     ]
    },
    {
     "name": "stderr",
     "output_type": "stream",
     "text": [
      "\n",
      "  0%|          | 0/80 [00:00<?, ?it/s]\u001b[A\n",
      " 34%|███▍      | 27/80 [00:00<00:00, 263.22it/s]\u001b[A\n",
      " 68%|██████▊   | 54/80 [00:00<00:00, 256.74it/s]\u001b[A\n",
      "100%|██████████| 80/80 [00:00<00:00, 251.76it/s]\u001b[A\n",
      " 62%|██████▏   | 693/1123 [09:50<05:17,  1.35it/s]"
     ]
    },
    {
     "name": "stdout",
     "output_type": "stream",
     "text": [
      "/home/jiang/projects/SubtleGAN/data/brats2021/train/BraTS2021_01464\n"
     ]
    },
    {
     "name": "stderr",
     "output_type": "stream",
     "text": [
      "\n",
      "  0%|          | 0/80 [00:00<?, ?it/s]\u001b[A\n",
      " 32%|███▎      | 26/80 [00:00<00:00, 257.65it/s]\u001b[A\n",
      " 65%|██████▌   | 52/80 [00:00<00:00, 254.29it/s]\u001b[A\n",
      "100%|██████████| 80/80 [00:00<00:00, 252.81it/s]\u001b[A\n",
      " 62%|██████▏   | 694/1123 [09:51<05:18,  1.35it/s]"
     ]
    },
    {
     "name": "stdout",
     "output_type": "stream",
     "text": [
      "/home/jiang/projects/SubtleGAN/data/brats2021/train/BraTS2021_00800\n"
     ]
    },
    {
     "name": "stderr",
     "output_type": "stream",
     "text": [
      "\n",
      "  0%|          | 0/80 [00:00<?, ?it/s]\u001b[A\n",
      " 39%|███▉      | 31/80 [00:00<00:00, 302.62it/s]\u001b[A\n",
      "100%|██████████| 80/80 [00:00<00:00, 288.26it/s]\u001b[A\n",
      " 62%|██████▏   | 695/1123 [09:52<06:09,  1.16it/s]"
     ]
    },
    {
     "name": "stdout",
     "output_type": "stream",
     "text": [
      "/home/jiang/projects/SubtleGAN/data/brats2021/train/BraTS2021_00742\n"
     ]
    },
    {
     "name": "stderr",
     "output_type": "stream",
     "text": [
      "\n",
      "  0%|          | 0/80 [00:00<?, ?it/s]\u001b[A\n",
      " 34%|███▍      | 27/80 [00:00<00:00, 267.71it/s]\u001b[A\n",
      " 68%|██████▊   | 54/80 [00:00<00:00, 254.51it/s]\u001b[A\n",
      "100%|██████████| 80/80 [00:00<00:00, 249.55it/s]\u001b[A\n",
      " 62%|██████▏   | 696/1123 [09:53<05:45,  1.23it/s]"
     ]
    },
    {
     "name": "stdout",
     "output_type": "stream",
     "text": [
      "/home/jiang/projects/SubtleGAN/data/brats2021/train/BraTS2021_00390\n"
     ]
    },
    {
     "name": "stderr",
     "output_type": "stream",
     "text": [
      "\n",
      "  0%|          | 0/80 [00:00<?, ?it/s]\u001b[A\n",
      " 34%|███▍      | 27/80 [00:00<00:00, 266.10it/s]\u001b[A\n",
      " 68%|██████▊   | 54/80 [00:00<00:00, 255.91it/s]\u001b[A\n",
      "100%|██████████| 80/80 [00:00<00:00, 250.99it/s]\u001b[A\n",
      " 62%|██████▏   | 697/1123 [09:53<05:39,  1.26it/s]"
     ]
    },
    {
     "name": "stdout",
     "output_type": "stream",
     "text": [
      "/home/jiang/projects/SubtleGAN/data/brats2021/train/BraTS2021_01075\n"
     ]
    },
    {
     "name": "stderr",
     "output_type": "stream",
     "text": [
      "\n",
      "  0%|          | 0/80 [00:00<?, ?it/s]\u001b[A\n",
      " 30%|███       | 24/80 [00:00<00:00, 237.70it/s]\u001b[A\n",
      " 60%|██████    | 48/80 [00:00<00:00, 234.03it/s]\u001b[A\n",
      "100%|██████████| 80/80 [00:00<00:00, 219.09it/s]\u001b[A\n",
      " 62%|██████▏   | 698/1123 [09:54<05:39,  1.25it/s]"
     ]
    },
    {
     "name": "stdout",
     "output_type": "stream",
     "text": [
      "/home/jiang/projects/SubtleGAN/data/brats2021/train/BraTS2021_00074\n"
     ]
    },
    {
     "name": "stderr",
     "output_type": "stream",
     "text": [
      "\n",
      "  0%|          | 0/80 [00:00<?, ?it/s]\u001b[A\n",
      " 19%|█▉        | 15/80 [00:00<00:00, 149.61it/s]\u001b[A\n",
      " 38%|███▊      | 30/80 [00:00<00:00, 148.84it/s]\u001b[A\n",
      " 61%|██████▏   | 49/80 [00:00<00:00, 164.87it/s]\u001b[A\n",
      "100%|██████████| 80/80 [00:00<00:00, 189.75it/s]\u001b[A\n",
      " 62%|██████▏   | 699/1123 [09:55<05:42,  1.24it/s]"
     ]
    },
    {
     "name": "stdout",
     "output_type": "stream",
     "text": [
      "/home/jiang/projects/SubtleGAN/data/brats2021/train/BraTS2021_00126\n"
     ]
    },
    {
     "name": "stderr",
     "output_type": "stream",
     "text": [
      "\n",
      "  0%|          | 0/80 [00:00<?, ?it/s]\u001b[A\n",
      " 39%|███▉      | 31/80 [00:00<00:00, 307.84it/s]\u001b[A\n",
      "100%|██████████| 80/80 [00:00<00:00, 297.18it/s]\u001b[A\n",
      " 62%|██████▏   | 700/1123 [09:56<05:27,  1.29it/s]"
     ]
    },
    {
     "name": "stdout",
     "output_type": "stream",
     "text": [
      "/home/jiang/projects/SubtleGAN/data/brats2021/train/BraTS2021_01587\n"
     ]
    },
    {
     "name": "stderr",
     "output_type": "stream",
     "text": [
      "\n",
      "  0%|          | 0/80 [00:00<?, ?it/s]\u001b[A\n",
      " 39%|███▉      | 31/80 [00:00<00:00, 307.26it/s]\u001b[A\n",
      "100%|██████████| 80/80 [00:00<00:00, 252.07it/s]\u001b[A\n",
      " 62%|██████▏   | 701/1123 [09:57<06:18,  1.11it/s]"
     ]
    },
    {
     "name": "stdout",
     "output_type": "stream",
     "text": [
      "/home/jiang/projects/SubtleGAN/data/brats2021/train/BraTS2021_01602\n"
     ]
    },
    {
     "name": "stderr",
     "output_type": "stream",
     "text": [
      "\n",
      "  0%|          | 0/80 [00:00<?, ?it/s]\u001b[A\n",
      " 38%|███▊      | 30/80 [00:00<00:00, 293.75it/s]\u001b[A\n",
      "100%|██████████| 80/80 [00:00<00:00, 267.55it/s]\u001b[A\n",
      " 63%|██████▎   | 702/1123 [09:58<07:05,  1.01s/it]"
     ]
    },
    {
     "name": "stdout",
     "output_type": "stream",
     "text": [
      "/home/jiang/projects/SubtleGAN/data/brats2021/train/BraTS2021_00154\n"
     ]
    },
    {
     "name": "stderr",
     "output_type": "stream",
     "text": [
      "\n",
      "  0%|          | 0/80 [00:00<?, ?it/s]\u001b[A\n",
      " 24%|██▍       | 19/80 [00:00<00:00, 183.14it/s]\u001b[A\n",
      " 48%|████▊     | 38/80 [00:00<00:00, 176.45it/s]\u001b[A\n",
      " 70%|███████   | 56/80 [00:00<00:00, 130.05it/s]\u001b[A\n",
      "100%|██████████| 80/80 [00:00<00:00, 148.93it/s]\u001b[A\n",
      " 63%|██████▎   | 703/1123 [09:59<07:02,  1.01s/it]"
     ]
    },
    {
     "name": "stdout",
     "output_type": "stream",
     "text": [
      "/home/jiang/projects/SubtleGAN/data/brats2021/train/BraTS2021_00012\n"
     ]
    },
    {
     "name": "stderr",
     "output_type": "stream",
     "text": [
      "\n",
      "  0%|          | 0/80 [00:00<?, ?it/s]\u001b[A\n",
      " 26%|██▋       | 21/80 [00:00<00:00, 201.01it/s]\u001b[A\n",
      " 52%|█████▎    | 42/80 [00:00<00:00, 180.72it/s]\u001b[A\n",
      " 76%|███████▋  | 61/80 [00:00<00:00, 173.41it/s]\u001b[A\n",
      "100%|██████████| 80/80 [00:00<00:00, 166.04it/s]\u001b[A\n",
      " 63%|██████▎   | 704/1123 [10:00<06:43,  1.04it/s]"
     ]
    },
    {
     "name": "stdout",
     "output_type": "stream",
     "text": [
      "/home/jiang/projects/SubtleGAN/data/brats2021/train/BraTS2021_01050\n"
     ]
    },
    {
     "name": "stderr",
     "output_type": "stream",
     "text": [
      "\n",
      "  0%|          | 0/80 [00:00<?, ?it/s]\u001b[A\n",
      " 24%|██▍       | 19/80 [00:00<00:00, 187.87it/s]\u001b[A\n",
      " 48%|████▊     | 38/80 [00:00<00:00, 176.32it/s]\u001b[A\n",
      " 70%|███████   | 56/80 [00:00<00:00, 176.52it/s]\u001b[A\n",
      "100%|██████████| 80/80 [00:00<00:00, 173.79it/s]\u001b[A\n",
      " 63%|██████▎   | 705/1123 [10:01<06:41,  1.04it/s]"
     ]
    },
    {
     "name": "stdout",
     "output_type": "stream",
     "text": [
      "/home/jiang/projects/SubtleGAN/data/brats2021/train/BraTS2021_00716\n"
     ]
    },
    {
     "name": "stderr",
     "output_type": "stream",
     "text": [
      "\n",
      "  0%|          | 0/80 [00:00<?, ?it/s]\u001b[A\n",
      " 24%|██▍       | 19/80 [00:00<00:00, 186.19it/s]\u001b[A\n",
      " 48%|████▊     | 38/80 [00:00<00:00, 176.05it/s]\u001b[A\n",
      " 70%|███████   | 56/80 [00:00<00:00, 172.46it/s]\u001b[A\n",
      "100%|██████████| 80/80 [00:00<00:00, 170.85it/s]\u001b[A\n",
      " 63%|██████▎   | 706/1123 [10:02<06:25,  1.08it/s]"
     ]
    },
    {
     "name": "stdout",
     "output_type": "stream",
     "text": [
      "/home/jiang/projects/SubtleGAN/data/brats2021/train/BraTS2021_00120\n"
     ]
    },
    {
     "name": "stderr",
     "output_type": "stream",
     "text": [
      "\n",
      "  0%|          | 0/80 [00:00<?, ?it/s]\u001b[A\n",
      " 24%|██▍       | 19/80 [00:00<00:00, 184.56it/s]\u001b[A\n",
      " 48%|████▊     | 38/80 [00:00<00:00, 169.07it/s]\u001b[A\n",
      " 69%|██████▉   | 55/80 [00:00<00:00, 168.07it/s]\u001b[A\n",
      "100%|██████████| 80/80 [00:00<00:00, 169.29it/s]\u001b[A\n",
      " 63%|██████▎   | 707/1123 [10:03<06:24,  1.08it/s]"
     ]
    },
    {
     "name": "stdout",
     "output_type": "stream",
     "text": [
      "/home/jiang/projects/SubtleGAN/data/brats2021/train/BraTS2021_01457\n"
     ]
    },
    {
     "name": "stderr",
     "output_type": "stream",
     "text": [
      "\n",
      "  0%|          | 0/80 [00:00<?, ?it/s]\u001b[A\n",
      " 24%|██▍       | 19/80 [00:00<00:00, 184.99it/s]\u001b[A\n",
      " 48%|████▊     | 38/80 [00:00<00:00, 175.19it/s]\u001b[A\n",
      " 70%|███████   | 56/80 [00:00<00:00, 171.30it/s]\u001b[A\n",
      "100%|██████████| 80/80 [00:00<00:00, 172.12it/s]\u001b[A\n",
      " 63%|██████▎   | 708/1123 [10:04<06:22,  1.08it/s]"
     ]
    },
    {
     "name": "stdout",
     "output_type": "stream",
     "text": [
      "/home/jiang/projects/SubtleGAN/data/brats2021/train/BraTS2021_01164\n"
     ]
    },
    {
     "name": "stderr",
     "output_type": "stream",
     "text": [
      "\n",
      "  0%|          | 0/80 [00:00<?, ?it/s]\u001b[A\n",
      " 22%|██▎       | 18/80 [00:00<00:00, 177.88it/s]\u001b[A\n",
      " 45%|████▌     | 36/80 [00:00<00:00, 171.80it/s]\u001b[A\n",
      " 68%|██████▊   | 54/80 [00:00<00:00, 169.36it/s]\u001b[A\n",
      "100%|██████████| 80/80 [00:00<00:00, 168.21it/s]\u001b[A\n",
      " 63%|██████▎   | 709/1123 [10:05<06:22,  1.08it/s]"
     ]
    },
    {
     "name": "stdout",
     "output_type": "stream",
     "text": [
      "/home/jiang/projects/SubtleGAN/data/brats2021/train/BraTS2021_00317\n"
     ]
    },
    {
     "name": "stderr",
     "output_type": "stream",
     "text": [
      "\n",
      "  0%|          | 0/80 [00:00<?, ?it/s]\u001b[A\n",
      " 22%|██▎       | 18/80 [00:00<00:00, 170.98it/s]\u001b[A\n",
      " 46%|████▋     | 37/80 [00:00<00:00, 177.49it/s]\u001b[A\n",
      " 69%|██████▉   | 55/80 [00:00<00:00, 170.41it/s]\u001b[A\n",
      "100%|██████████| 80/80 [00:00<00:00, 168.04it/s]\u001b[A\n",
      " 63%|██████▎   | 710/1123 [10:06<06:22,  1.08it/s]"
     ]
    },
    {
     "name": "stdout",
     "output_type": "stream",
     "text": [
      "/home/jiang/projects/SubtleGAN/data/brats2021/train/BraTS2021_00690\n"
     ]
    },
    {
     "name": "stderr",
     "output_type": "stream",
     "text": [
      "\n",
      "  0%|          | 0/80 [00:00<?, ?it/s]\u001b[A\n",
      " 22%|██▎       | 18/80 [00:00<00:00, 176.74it/s]\u001b[A\n",
      " 45%|████▌     | 36/80 [00:00<00:00, 174.24it/s]\u001b[A\n",
      " 68%|██████▊   | 54/80 [00:00<00:00, 172.53it/s]\u001b[A\n",
      "100%|██████████| 80/80 [00:00<00:00, 153.57it/s]\u001b[A\n",
      " 63%|██████▎   | 711/1123 [10:06<06:21,  1.08it/s]"
     ]
    },
    {
     "name": "stdout",
     "output_type": "stream",
     "text": [
      "/home/jiang/projects/SubtleGAN/data/brats2021/train/BraTS2021_00615\n"
     ]
    },
    {
     "name": "stderr",
     "output_type": "stream",
     "text": [
      "\n",
      "  0%|          | 0/80 [00:00<?, ?it/s]\u001b[A\n",
      " 24%|██▍       | 19/80 [00:00<00:00, 183.96it/s]\u001b[A\n",
      " 48%|████▊     | 38/80 [00:00<00:00, 173.81it/s]\u001b[A\n",
      " 70%|███████   | 56/80 [00:00<00:00, 172.24it/s]\u001b[A\n",
      "100%|██████████| 80/80 [00:00<00:00, 183.28it/s]\u001b[A\n",
      " 63%|██████▎   | 712/1123 [10:07<06:09,  1.11it/s]"
     ]
    },
    {
     "name": "stdout",
     "output_type": "stream",
     "text": [
      "/home/jiang/projects/SubtleGAN/data/brats2021/train/BraTS2021_00219\n"
     ]
    },
    {
     "name": "stderr",
     "output_type": "stream",
     "text": [
      "\n",
      "  0%|          | 0/80 [00:00<?, ?it/s]\u001b[A\n",
      " 31%|███▏      | 25/80 [00:00<00:00, 239.72it/s]\u001b[A\n",
      " 61%|██████▏   | 49/80 [00:00<00:00, 232.56it/s]\u001b[A\n",
      "100%|██████████| 80/80 [00:00<00:00, 230.44it/s]\u001b[A\n",
      " 63%|██████▎   | 713/1123 [10:08<05:54,  1.16it/s]"
     ]
    },
    {
     "name": "stdout",
     "output_type": "stream",
     "text": [
      "/home/jiang/projects/SubtleGAN/data/brats2021/train/BraTS2021_01413\n"
     ]
    },
    {
     "name": "stderr",
     "output_type": "stream",
     "text": [
      "\n",
      "  0%|          | 0/80 [00:00<?, ?it/s]\u001b[A\n",
      " 30%|███       | 24/80 [00:00<00:00, 239.14it/s]\u001b[A\n",
      " 60%|██████    | 48/80 [00:00<00:00, 238.82it/s]\u001b[A\n",
      "100%|██████████| 80/80 [00:00<00:00, 240.65it/s]\u001b[A\n",
      " 64%|██████▎   | 714/1123 [10:09<05:43,  1.19it/s]"
     ]
    },
    {
     "name": "stdout",
     "output_type": "stream",
     "text": [
      "/home/jiang/projects/SubtleGAN/data/brats2021/train/BraTS2021_01060\n"
     ]
    },
    {
     "name": "stderr",
     "output_type": "stream",
     "text": [
      "\n",
      "  0%|          | 0/80 [00:00<?, ?it/s]\u001b[A\n",
      " 32%|███▎      | 26/80 [00:00<00:00, 253.30it/s]\u001b[A\n",
      " 65%|██████▌   | 52/80 [00:00<00:00, 245.07it/s]\u001b[A\n",
      "100%|██████████| 80/80 [00:00<00:00, 242.52it/s]\u001b[A\n",
      " 64%|██████▎   | 715/1123 [10:10<05:33,  1.22it/s]"
     ]
    },
    {
     "name": "stdout",
     "output_type": "stream",
     "text": [
      "/home/jiang/projects/SubtleGAN/data/brats2021/train/BraTS2021_00523\n"
     ]
    },
    {
     "name": "stderr",
     "output_type": "stream",
     "text": [
      "\n",
      "  0%|          | 0/80 [00:00<?, ?it/s]\u001b[A\n",
      " 31%|███▏      | 25/80 [00:00<00:00, 242.98it/s]\u001b[A\n",
      " 62%|██████▎   | 50/80 [00:00<00:00, 242.61it/s]\u001b[A\n",
      "100%|██████████| 80/80 [00:00<00:00, 240.23it/s]\u001b[A\n",
      " 64%|██████▍   | 716/1123 [10:10<05:17,  1.28it/s]"
     ]
    },
    {
     "name": "stdout",
     "output_type": "stream",
     "text": [
      "/home/jiang/projects/SubtleGAN/data/brats2021/train/BraTS2021_00346\n"
     ]
    },
    {
     "name": "stderr",
     "output_type": "stream",
     "text": [
      "\n",
      "  0%|          | 0/80 [00:00<?, ?it/s]\u001b[A\n",
      " 32%|███▎      | 26/80 [00:00<00:00, 253.50it/s]\u001b[A\n",
      " 65%|██████▌   | 52/80 [00:00<00:00, 246.95it/s]\u001b[A\n",
      "100%|██████████| 80/80 [00:00<00:00, 242.22it/s]\u001b[A\n",
      " 64%|██████▍   | 717/1123 [10:11<05:16,  1.28it/s]"
     ]
    },
    {
     "name": "stdout",
     "output_type": "stream",
     "text": [
      "/home/jiang/projects/SubtleGAN/data/brats2021/train/BraTS2021_00409\n"
     ]
    },
    {
     "name": "stderr",
     "output_type": "stream",
     "text": [
      "\n",
      "  0%|          | 0/80 [00:00<?, ?it/s]\u001b[A\n",
      " 29%|██▉       | 23/80 [00:00<00:00, 229.43it/s]\u001b[A\n",
      " 59%|█████▉    | 47/80 [00:00<00:00, 233.31it/s]\u001b[A\n",
      "100%|██████████| 80/80 [00:00<00:00, 232.32it/s]\u001b[A\n",
      " 64%|██████▍   | 718/1123 [10:12<05:20,  1.26it/s]"
     ]
    },
    {
     "name": "stdout",
     "output_type": "stream",
     "text": [
      "/home/jiang/projects/SubtleGAN/data/brats2021/train/BraTS2021_00731\n"
     ]
    },
    {
     "name": "stderr",
     "output_type": "stream",
     "text": [
      "\n",
      "  0%|          | 0/80 [00:00<?, ?it/s]\u001b[A\n",
      " 30%|███       | 24/80 [00:00<00:00, 238.96it/s]\u001b[A\n",
      " 60%|██████    | 48/80 [00:00<00:00, 236.32it/s]\u001b[A\n",
      "100%|██████████| 80/80 [00:00<00:00, 231.71it/s]\u001b[A\n",
      " 64%|██████▍   | 719/1123 [10:13<05:09,  1.31it/s]"
     ]
    },
    {
     "name": "stdout",
     "output_type": "stream",
     "text": [
      "/home/jiang/projects/SubtleGAN/data/brats2021/train/BraTS2021_00532\n"
     ]
    },
    {
     "name": "stderr",
     "output_type": "stream",
     "text": [
      "\n",
      "  0%|          | 0/80 [00:00<?, ?it/s]\u001b[A\n",
      " 32%|███▎      | 26/80 [00:00<00:00, 258.87it/s]\u001b[A\n",
      " 65%|██████▌   | 52/80 [00:00<00:00, 249.10it/s]\u001b[A\n",
      "100%|██████████| 80/80 [00:00<00:00, 245.72it/s]\u001b[A\n",
      " 64%|██████▍   | 720/1123 [10:13<04:59,  1.35it/s]"
     ]
    },
    {
     "name": "stdout",
     "output_type": "stream",
     "text": [
      "/home/jiang/projects/SubtleGAN/data/brats2021/train/BraTS2021_00598\n"
     ]
    },
    {
     "name": "stderr",
     "output_type": "stream",
     "text": [
      "\n",
      "  0%|          | 0/80 [00:00<?, ?it/s]\u001b[A\n",
      " 40%|████      | 32/80 [00:00<00:00, 311.54it/s]\u001b[A\n",
      "100%|██████████| 80/80 [00:00<00:00, 295.93it/s]\u001b[A\n",
      " 64%|██████▍   | 721/1123 [10:14<05:42,  1.17it/s]"
     ]
    },
    {
     "name": "stdout",
     "output_type": "stream",
     "text": [
      "/home/jiang/projects/SubtleGAN/data/brats2021/train/BraTS2021_01134\n"
     ]
    },
    {
     "name": "stderr",
     "output_type": "stream",
     "text": [
      "\n",
      "  0%|          | 0/80 [00:00<?, ?it/s]\u001b[A\n",
      " 32%|███▎      | 26/80 [00:00<00:00, 253.51it/s]\u001b[A\n",
      " 65%|██████▌   | 52/80 [00:00<00:00, 248.89it/s]\u001b[A\n",
      "100%|██████████| 80/80 [00:00<00:00, 240.69it/s]\u001b[A\n",
      " 64%|██████▍   | 722/1123 [10:15<05:31,  1.21it/s]"
     ]
    },
    {
     "name": "stdout",
     "output_type": "stream",
     "text": [
      "/home/jiang/projects/SubtleGAN/data/brats2021/train/BraTS2021_01047\n"
     ]
    },
    {
     "name": "stderr",
     "output_type": "stream",
     "text": [
      "\n",
      "  0%|          | 0/80 [00:00<?, ?it/s]\u001b[A\n",
      " 32%|███▎      | 26/80 [00:00<00:00, 259.60it/s]\u001b[A\n",
      " 65%|██████▌   | 52/80 [00:00<00:00, 253.25it/s]\u001b[A\n",
      "100%|██████████| 80/80 [00:00<00:00, 248.13it/s]\u001b[A\n",
      " 64%|██████▍   | 723/1123 [10:16<05:22,  1.24it/s]"
     ]
    },
    {
     "name": "stdout",
     "output_type": "stream",
     "text": [
      "/home/jiang/projects/SubtleGAN/data/brats2021/train/BraTS2021_01301\n"
     ]
    },
    {
     "name": "stderr",
     "output_type": "stream",
     "text": [
      "\n",
      "  0%|          | 0/80 [00:00<?, ?it/s]\u001b[A\n",
      " 34%|███▍      | 27/80 [00:00<00:00, 261.70it/s]\u001b[A\n",
      " 68%|██████▊   | 54/80 [00:00<00:00, 250.19it/s]\u001b[A\n",
      "100%|██████████| 80/80 [00:00<00:00, 249.21it/s]\u001b[A\n",
      " 64%|██████▍   | 724/1123 [10:17<05:16,  1.26it/s]"
     ]
    },
    {
     "name": "stdout",
     "output_type": "stream",
     "text": [
      "/home/jiang/projects/SubtleGAN/data/brats2021/train/BraTS2021_00233\n"
     ]
    },
    {
     "name": "stderr",
     "output_type": "stream",
     "text": [
      "\n",
      "  0%|          | 0/80 [00:00<?, ?it/s]\u001b[A\n",
      " 28%|██▊       | 22/80 [00:00<00:00, 219.69it/s]\u001b[A\n",
      " 57%|█████▊    | 46/80 [00:00<00:00, 230.92it/s]\u001b[A\n",
      "100%|██████████| 80/80 [00:00<00:00, 233.50it/s]\u001b[A\n",
      " 65%|██████▍   | 725/1123 [10:17<05:15,  1.26it/s]"
     ]
    },
    {
     "name": "stdout",
     "output_type": "stream",
     "text": [
      "/home/jiang/projects/SubtleGAN/data/brats2021/train/BraTS2021_01494\n"
     ]
    },
    {
     "name": "stderr",
     "output_type": "stream",
     "text": [
      "\n",
      "  0%|          | 0/80 [00:00<?, ?it/s]\u001b[A\n",
      " 34%|███▍      | 27/80 [00:00<00:00, 265.09it/s]\u001b[A\n",
      " 68%|██████▊   | 54/80 [00:00<00:00, 255.04it/s]\u001b[A\n",
      "100%|██████████| 80/80 [00:00<00:00, 250.83it/s]\u001b[A\n",
      " 65%|██████▍   | 726/1123 [10:18<05:09,  1.28it/s]"
     ]
    },
    {
     "name": "stdout",
     "output_type": "stream",
     "text": [
      "/home/jiang/projects/SubtleGAN/data/brats2021/train/BraTS2021_00620\n"
     ]
    },
    {
     "name": "stderr",
     "output_type": "stream",
     "text": [
      "\n",
      "  0%|          | 0/80 [00:00<?, ?it/s]\u001b[A\n",
      " 34%|███▍      | 27/80 [00:00<00:00, 260.57it/s]\u001b[A\n",
      " 68%|██████▊   | 54/80 [00:00<00:00, 251.23it/s]\u001b[A\n",
      "100%|██████████| 80/80 [00:00<00:00, 247.77it/s]\u001b[A\n",
      " 65%|██████▍   | 727/1123 [10:19<04:56,  1.33it/s]"
     ]
    },
    {
     "name": "stdout",
     "output_type": "stream",
     "text": [
      "/home/jiang/projects/SubtleGAN/data/brats2021/train/BraTS2021_00757\n"
     ]
    },
    {
     "name": "stderr",
     "output_type": "stream",
     "text": [
      "\n",
      "  0%|          | 0/80 [00:00<?, ?it/s]\u001b[A\n",
      " 32%|███▎      | 26/80 [00:00<00:00, 253.51it/s]\u001b[A\n",
      " 65%|██████▌   | 52/80 [00:00<00:00, 248.39it/s]\u001b[A\n",
      "100%|██████████| 80/80 [00:00<00:00, 244.62it/s]\u001b[A\n",
      " 65%|██████▍   | 728/1123 [10:20<04:49,  1.36it/s]"
     ]
    },
    {
     "name": "stdout",
     "output_type": "stream",
     "text": [
      "/home/jiang/projects/SubtleGAN/data/brats2021/train/BraTS2021_01579\n"
     ]
    },
    {
     "name": "stderr",
     "output_type": "stream",
     "text": [
      "\n",
      "  0%|          | 0/80 [00:00<?, ?it/s]\u001b[A\n",
      " 40%|████      | 32/80 [00:00<00:00, 315.18it/s]\u001b[A\n",
      "100%|██████████| 80/80 [00:00<00:00, 290.35it/s]\u001b[A\n",
      " 65%|██████▍   | 729/1123 [10:21<05:28,  1.20it/s]"
     ]
    },
    {
     "name": "stdout",
     "output_type": "stream",
     "text": [
      "/home/jiang/projects/SubtleGAN/data/brats2021/train/BraTS2021_01516\n"
     ]
    },
    {
     "name": "stderr",
     "output_type": "stream",
     "text": [
      "\n",
      "  0%|          | 0/80 [00:00<?, ?it/s]\u001b[A\n",
      " 32%|███▎      | 26/80 [00:00<00:00, 259.84it/s]\u001b[A\n",
      " 65%|██████▌   | 52/80 [00:00<00:00, 253.96it/s]\u001b[A\n",
      "100%|██████████| 80/80 [00:00<00:00, 247.57it/s]\u001b[A\n",
      " 65%|██████▌   | 730/1123 [10:21<05:20,  1.23it/s]"
     ]
    },
    {
     "name": "stdout",
     "output_type": "stream",
     "text": [
      "/home/jiang/projects/SubtleGAN/data/brats2021/train/BraTS2021_01320\n"
     ]
    },
    {
     "name": "stderr",
     "output_type": "stream",
     "text": [
      "\n",
      "  0%|          | 0/80 [00:00<?, ?it/s]\u001b[A\n",
      " 32%|███▎      | 26/80 [00:00<00:00, 254.73it/s]\u001b[A\n",
      " 65%|██████▌   | 52/80 [00:00<00:00, 253.76it/s]\u001b[A\n",
      "100%|██████████| 80/80 [00:00<00:00, 245.23it/s]\u001b[A\n",
      " 65%|██████▌   | 731/1123 [10:22<05:14,  1.25it/s]"
     ]
    },
    {
     "name": "stdout",
     "output_type": "stream",
     "text": [
      "/home/jiang/projects/SubtleGAN/data/brats2021/train/BraTS2021_01480\n"
     ]
    },
    {
     "name": "stderr",
     "output_type": "stream",
     "text": [
      "\n",
      "  0%|          | 0/80 [00:00<?, ?it/s]\u001b[A\n",
      " 31%|███▏      | 25/80 [00:00<00:00, 240.99it/s]\u001b[A\n",
      " 62%|██████▎   | 50/80 [00:00<00:00, 230.96it/s]\u001b[A\n",
      "100%|██████████| 80/80 [00:00<00:00, 234.39it/s]\u001b[A\n",
      " 65%|██████▌   | 732/1123 [10:23<05:09,  1.26it/s]"
     ]
    },
    {
     "name": "stdout",
     "output_type": "stream",
     "text": [
      "/home/jiang/projects/SubtleGAN/data/brats2021/train/BraTS2021_00495\n"
     ]
    },
    {
     "name": "stderr",
     "output_type": "stream",
     "text": [
      "\n",
      "  0%|          | 0/80 [00:00<?, ?it/s]\u001b[A\n",
      " 32%|███▎      | 26/80 [00:00<00:00, 251.63it/s]\u001b[A\n",
      " 65%|██████▌   | 52/80 [00:00<00:00, 249.28it/s]\u001b[A\n",
      "100%|██████████| 80/80 [00:00<00:00, 240.23it/s]\u001b[A\n",
      " 65%|██████▌   | 733/1123 [10:24<04:57,  1.31it/s]"
     ]
    },
    {
     "name": "stdout",
     "output_type": "stream",
     "text": [
      "/home/jiang/projects/SubtleGAN/data/brats2021/train/BraTS2021_01381\n"
     ]
    },
    {
     "name": "stderr",
     "output_type": "stream",
     "text": [
      "\n",
      "  0%|          | 0/80 [00:00<?, ?it/s]\u001b[A\n",
      " 32%|███▎      | 26/80 [00:00<00:00, 259.39it/s]\u001b[A\n",
      " 65%|██████▌   | 52/80 [00:00<00:00, 249.80it/s]\u001b[A\n",
      "100%|██████████| 80/80 [00:00<00:00, 245.51it/s]\u001b[A\n",
      " 65%|██████▌   | 734/1123 [10:24<04:57,  1.31it/s]"
     ]
    },
    {
     "name": "stdout",
     "output_type": "stream",
     "text": [
      "/home/jiang/projects/SubtleGAN/data/brats2021/train/BraTS2021_01082\n"
     ]
    },
    {
     "name": "stderr",
     "output_type": "stream",
     "text": [
      "\n",
      "  0%|          | 0/80 [00:00<?, ?it/s]\u001b[A\n",
      " 32%|███▎      | 26/80 [00:00<00:00, 255.79it/s]\u001b[A\n",
      " 65%|██████▌   | 52/80 [00:00<00:00, 250.84it/s]\u001b[A\n",
      "100%|██████████| 80/80 [00:00<00:00, 245.91it/s]\u001b[A\n",
      " 65%|██████▌   | 735/1123 [10:25<04:57,  1.30it/s]"
     ]
    },
    {
     "name": "stdout",
     "output_type": "stream",
     "text": [
      "/home/jiang/projects/SubtleGAN/data/brats2021/train/BraTS2021_01281\n"
     ]
    },
    {
     "name": "stderr",
     "output_type": "stream",
     "text": [
      "\n",
      "  0%|          | 0/80 [00:00<?, ?it/s]\u001b[A\n",
      " 32%|███▎      | 26/80 [00:00<00:00, 259.56it/s]\u001b[A\n",
      " 65%|██████▌   | 52/80 [00:00<00:00, 250.17it/s]\u001b[A\n",
      "100%|██████████| 80/80 [00:00<00:00, 246.07it/s]\u001b[A\n",
      " 66%|██████▌   | 736/1123 [10:26<04:56,  1.31it/s]"
     ]
    },
    {
     "name": "stdout",
     "output_type": "stream",
     "text": [
      "/home/jiang/projects/SubtleGAN/data/brats2021/train/BraTS2021_00787\n"
     ]
    },
    {
     "name": "stderr",
     "output_type": "stream",
     "text": [
      "\n",
      "  0%|          | 0/80 [00:00<?, ?it/s]\u001b[A\n",
      " 40%|████      | 32/80 [00:00<00:00, 311.24it/s]\u001b[A\n",
      "100%|██████████| 80/80 [00:00<00:00, 300.81it/s]\u001b[A\n",
      " 66%|██████▌   | 737/1123 [10:27<05:31,  1.16it/s]"
     ]
    },
    {
     "name": "stdout",
     "output_type": "stream",
     "text": [
      "/home/jiang/projects/SubtleGAN/data/brats2021/train/BraTS2021_00622\n"
     ]
    },
    {
     "name": "stderr",
     "output_type": "stream",
     "text": [
      "\n",
      "  0%|          | 0/80 [00:00<?, ?it/s]\u001b[A\n",
      " 31%|███▏      | 25/80 [00:00<00:00, 244.67it/s]\u001b[A\n",
      " 62%|██████▎   | 50/80 [00:00<00:00, 246.71it/s]\u001b[A\n",
      "100%|██████████| 80/80 [00:00<00:00, 244.08it/s]\u001b[A\n",
      " 66%|██████▌   | 738/1123 [10:28<05:09,  1.24it/s]"
     ]
    },
    {
     "name": "stdout",
     "output_type": "stream",
     "text": [
      "/home/jiang/projects/SubtleGAN/data/brats2021/train/BraTS2021_01436\n"
     ]
    },
    {
     "name": "stderr",
     "output_type": "stream",
     "text": [
      "\n",
      "  0%|          | 0/80 [00:00<?, ?it/s]\u001b[A\n",
      " 30%|███       | 24/80 [00:00<00:00, 238.50it/s]\u001b[A\n",
      " 60%|██████    | 48/80 [00:00<00:00, 227.87it/s]\u001b[A\n",
      "100%|██████████| 80/80 [00:00<00:00, 231.55it/s]\u001b[A\n",
      " 66%|██████▌   | 739/1123 [10:28<05:04,  1.26it/s]"
     ]
    },
    {
     "name": "stdout",
     "output_type": "stream",
     "text": [
      "/home/jiang/projects/SubtleGAN/data/brats2021/train/BraTS2021_01274\n"
     ]
    },
    {
     "name": "stderr",
     "output_type": "stream",
     "text": [
      "\n",
      "  0%|          | 0/80 [00:00<?, ?it/s]\u001b[A\n",
      " 32%|███▎      | 26/80 [00:00<00:00, 257.78it/s]\u001b[A\n",
      " 65%|██████▌   | 52/80 [00:00<00:00, 252.92it/s]\u001b[A\n",
      "100%|██████████| 80/80 [00:00<00:00, 244.93it/s]\u001b[A\n",
      " 66%|██████▌   | 740/1123 [10:29<04:59,  1.28it/s]"
     ]
    },
    {
     "name": "stdout",
     "output_type": "stream",
     "text": [
      "/home/jiang/projects/SubtleGAN/data/brats2021/train/BraTS2021_01258\n"
     ]
    },
    {
     "name": "stderr",
     "output_type": "stream",
     "text": [
      "\n",
      "  0%|          | 0/80 [00:00<?, ?it/s]\u001b[A\n",
      " 30%|███       | 24/80 [00:00<00:00, 238.09it/s]\u001b[A\n",
      " 60%|██████    | 48/80 [00:00<00:00, 236.26it/s]\u001b[A\n",
      "100%|██████████| 80/80 [00:00<00:00, 236.09it/s]\u001b[A\n",
      " 66%|██████▌   | 741/1123 [10:30<04:58,  1.28it/s]"
     ]
    },
    {
     "name": "stdout",
     "output_type": "stream",
     "text": [
      "/home/jiang/projects/SubtleGAN/data/brats2021/train/BraTS2021_01172\n"
     ]
    },
    {
     "name": "stderr",
     "output_type": "stream",
     "text": [
      "\n",
      "  0%|          | 0/80 [00:00<?, ?it/s]\u001b[A\n",
      " 32%|███▎      | 26/80 [00:00<00:00, 252.79it/s]\u001b[A\n",
      " 65%|██████▌   | 52/80 [00:00<00:00, 246.14it/s]\u001b[A\n",
      "100%|██████████| 80/80 [00:00<00:00, 243.15it/s]\u001b[A\n",
      " 66%|██████▌   | 742/1123 [10:31<04:56,  1.29it/s]"
     ]
    },
    {
     "name": "stdout",
     "output_type": "stream",
     "text": [
      "/home/jiang/projects/SubtleGAN/data/brats2021/train/BraTS2021_00133\n"
     ]
    },
    {
     "name": "stderr",
     "output_type": "stream",
     "text": [
      "\n",
      "  0%|          | 0/80 [00:00<?, ?it/s]\u001b[A\n",
      " 32%|███▎      | 26/80 [00:00<00:00, 254.87it/s]\u001b[A\n",
      " 65%|██████▌   | 52/80 [00:00<00:00, 242.61it/s]\u001b[A\n",
      "100%|██████████| 80/80 [00:00<00:00, 238.65it/s]\u001b[A\n",
      " 66%|██████▌   | 743/1123 [10:32<04:54,  1.29it/s]"
     ]
    },
    {
     "name": "stdout",
     "output_type": "stream",
     "text": [
      "/home/jiang/projects/SubtleGAN/data/brats2021/train/BraTS2021_01323\n"
     ]
    },
    {
     "name": "stderr",
     "output_type": "stream",
     "text": [
      "\n",
      "  0%|          | 0/80 [00:00<?, ?it/s]\u001b[A\n",
      " 34%|███▍      | 27/80 [00:00<00:00, 263.33it/s]\u001b[A\n",
      " 68%|██████▊   | 54/80 [00:00<00:00, 250.83it/s]\u001b[A\n",
      "100%|██████████| 80/80 [00:00<00:00, 246.73it/s]\u001b[A\n",
      " 66%|██████▋   | 744/1123 [10:32<04:52,  1.30it/s]"
     ]
    },
    {
     "name": "stdout",
     "output_type": "stream",
     "text": [
      "/home/jiang/projects/SubtleGAN/data/brats2021/train/BraTS2021_01256\n"
     ]
    },
    {
     "name": "stderr",
     "output_type": "stream",
     "text": [
      "\n",
      "  0%|          | 0/80 [00:00<?, ?it/s]\u001b[A\n",
      " 32%|███▎      | 26/80 [00:00<00:00, 252.59it/s]\u001b[A\n",
      " 65%|██████▌   | 52/80 [00:00<00:00, 245.94it/s]\u001b[A\n",
      "100%|██████████| 80/80 [00:00<00:00, 241.95it/s]\u001b[A\n",
      " 66%|██████▋   | 745/1123 [10:33<04:50,  1.30it/s]"
     ]
    },
    {
     "name": "stdout",
     "output_type": "stream",
     "text": [
      "/home/jiang/projects/SubtleGAN/data/brats2021/train/BraTS2021_00578\n"
     ]
    },
    {
     "name": "stderr",
     "output_type": "stream",
     "text": [
      "\n",
      "  0%|          | 0/80 [00:00<?, ?it/s]\u001b[A\n",
      " 38%|███▊      | 30/80 [00:00<00:00, 295.63it/s]\u001b[A\n",
      "100%|██████████| 80/80 [00:00<00:00, 277.67it/s]\u001b[A\n",
      " 66%|██████▋   | 746/1123 [10:34<05:22,  1.17it/s]"
     ]
    },
    {
     "name": "stdout",
     "output_type": "stream",
     "text": [
      "/home/jiang/projects/SubtleGAN/data/brats2021/train/BraTS2021_01271\n"
     ]
    },
    {
     "name": "stderr",
     "output_type": "stream",
     "text": [
      "\n",
      "  0%|          | 0/80 [00:00<?, ?it/s]\u001b[A\n",
      " 31%|███▏      | 25/80 [00:00<00:00, 243.33it/s]\u001b[A\n",
      " 62%|██████▎   | 50/80 [00:00<00:00, 246.31it/s]\u001b[A\n",
      "100%|██████████| 80/80 [00:00<00:00, 243.55it/s]\u001b[A\n",
      " 67%|██████▋   | 747/1123 [10:35<05:09,  1.21it/s]"
     ]
    },
    {
     "name": "stdout",
     "output_type": "stream",
     "text": [
      "/home/jiang/projects/SubtleGAN/data/brats2021/train/BraTS2021_00464\n"
     ]
    },
    {
     "name": "stderr",
     "output_type": "stream",
     "text": [
      "\n",
      "  0%|          | 0/80 [00:00<?, ?it/s]\u001b[A\n",
      " 32%|███▎      | 26/80 [00:00<00:00, 250.88it/s]\u001b[A\n",
      " 65%|██████▌   | 52/80 [00:00<00:00, 244.36it/s]\u001b[A\n",
      "100%|██████████| 80/80 [00:00<00:00, 240.47it/s]\u001b[A\n",
      " 67%|██████▋   | 748/1123 [10:36<04:55,  1.27it/s]"
     ]
    },
    {
     "name": "stdout",
     "output_type": "stream",
     "text": [
      "/home/jiang/projects/SubtleGAN/data/brats2021/train/BraTS2021_01257\n"
     ]
    },
    {
     "name": "stderr",
     "output_type": "stream",
     "text": [
      "\n",
      "  0%|          | 0/80 [00:00<?, ?it/s]\u001b[A\n",
      " 32%|███▎      | 26/80 [00:00<00:00, 249.95it/s]\u001b[A\n",
      " 64%|██████▍   | 51/80 [00:00<00:00, 247.26it/s]\u001b[A\n",
      "100%|██████████| 80/80 [00:00<00:00, 242.97it/s]\u001b[A\n",
      " 67%|██████▋   | 749/1123 [10:36<04:51,  1.28it/s]"
     ]
    },
    {
     "name": "stdout",
     "output_type": "stream",
     "text": [
      "/home/jiang/projects/SubtleGAN/data/brats2021/train/BraTS2021_00096\n"
     ]
    },
    {
     "name": "stderr",
     "output_type": "stream",
     "text": [
      "\n",
      "  0%|          | 0/80 [00:00<?, ?it/s]\u001b[A\n",
      " 31%|███▏      | 25/80 [00:00<00:00, 249.95it/s]\u001b[A\n",
      " 62%|██████▎   | 50/80 [00:00<00:00, 245.57it/s]\u001b[A\n",
      "100%|██████████| 80/80 [00:00<00:00, 243.09it/s]\u001b[A\n",
      " 67%|██████▋   | 750/1123 [10:37<04:42,  1.32it/s]"
     ]
    },
    {
     "name": "stdout",
     "output_type": "stream",
     "text": [
      "/home/jiang/projects/SubtleGAN/data/brats2021/train/BraTS2021_00352\n"
     ]
    },
    {
     "name": "stderr",
     "output_type": "stream",
     "text": [
      "\n",
      "  0%|          | 0/80 [00:00<?, ?it/s]\u001b[A\n",
      " 39%|███▉      | 31/80 [00:00<00:00, 309.08it/s]\u001b[A\n",
      "100%|██████████| 80/80 [00:00<00:00, 297.54it/s]\u001b[A\n",
      " 67%|██████▋   | 751/1123 [10:38<05:16,  1.18it/s]"
     ]
    },
    {
     "name": "stdout",
     "output_type": "stream",
     "text": [
      "/home/jiang/projects/SubtleGAN/data/brats2021/train/BraTS2021_00656\n"
     ]
    },
    {
     "name": "stderr",
     "output_type": "stream",
     "text": [
      "\n",
      "  0%|          | 0/80 [00:00<?, ?it/s]\u001b[A\n",
      " 34%|███▍      | 27/80 [00:00<00:00, 260.41it/s]\u001b[A\n",
      " 68%|██████▊   | 54/80 [00:00<00:00, 255.19it/s]\u001b[A\n",
      "100%|██████████| 80/80 [00:00<00:00, 251.09it/s]\u001b[A\n",
      " 67%|██████▋   | 752/1123 [10:39<04:56,  1.25it/s]"
     ]
    },
    {
     "name": "stdout",
     "output_type": "stream",
     "text": [
      "/home/jiang/projects/SubtleGAN/data/brats2021/train/BraTS2021_00545\n"
     ]
    },
    {
     "name": "stderr",
     "output_type": "stream",
     "text": [
      "\n",
      "  0%|          | 0/80 [00:00<?, ?it/s]\u001b[A\n",
      " 30%|███       | 24/80 [00:00<00:00, 236.56it/s]\u001b[A\n",
      " 60%|██████    | 48/80 [00:00<00:00, 214.94it/s]\u001b[A\n",
      "100%|██████████| 80/80 [00:00<00:00, 226.32it/s]\u001b[A\n",
      " 67%|██████▋   | 753/1123 [10:40<04:45,  1.30it/s]"
     ]
    },
    {
     "name": "stdout",
     "output_type": "stream",
     "text": [
      "/home/jiang/projects/SubtleGAN/data/brats2021/train/BraTS2021_01424\n"
     ]
    },
    {
     "name": "stderr",
     "output_type": "stream",
     "text": [
      "\n",
      "  0%|          | 0/80 [00:00<?, ?it/s]\u001b[A\n",
      " 32%|███▎      | 26/80 [00:00<00:00, 253.53it/s]\u001b[A\n",
      " 65%|██████▌   | 52/80 [00:00<00:00, 247.78it/s]\u001b[A\n",
      "100%|██████████| 80/80 [00:00<00:00, 242.63it/s]\u001b[A\n",
      " 67%|██████▋   | 754/1123 [10:40<04:45,  1.29it/s]"
     ]
    },
    {
     "name": "stdout",
     "output_type": "stream",
     "text": [
      "/home/jiang/projects/SubtleGAN/data/brats2021/train/BraTS2021_01463\n"
     ]
    },
    {
     "name": "stderr",
     "output_type": "stream",
     "text": [
      "\n",
      "  0%|          | 0/80 [00:00<?, ?it/s]\u001b[A\n",
      " 28%|██▊       | 22/80 [00:00<00:00, 211.78it/s]\u001b[A\n",
      " 55%|█████▌    | 44/80 [00:00<00:00, 208.55it/s]\u001b[A\n",
      "100%|██████████| 80/80 [00:00<00:00, 222.97it/s]\u001b[A\n",
      " 67%|██████▋   | 755/1123 [10:41<04:46,  1.29it/s]"
     ]
    },
    {
     "name": "stdout",
     "output_type": "stream",
     "text": [
      "/home/jiang/projects/SubtleGAN/data/brats2021/train/BraTS2021_01653\n"
     ]
    },
    {
     "name": "stderr",
     "output_type": "stream",
     "text": [
      "\n",
      "  0%|          | 0/80 [00:00<?, ?it/s]\u001b[A\n",
      " 39%|███▉      | 31/80 [00:00<00:00, 308.52it/s]\u001b[A\n",
      "100%|██████████| 80/80 [00:00<00:00, 302.98it/s]\u001b[A\n",
      " 67%|██████▋   | 756/1123 [10:42<05:11,  1.18it/s]"
     ]
    },
    {
     "name": "stdout",
     "output_type": "stream",
     "text": [
      "/home/jiang/projects/SubtleGAN/data/brats2021/train/BraTS2021_00112\n"
     ]
    },
    {
     "name": "stderr",
     "output_type": "stream",
     "text": [
      "\n",
      "  0%|          | 0/80 [00:00<?, ?it/s]\u001b[A\n",
      " 39%|███▉      | 31/80 [00:00<00:00, 309.08it/s]\u001b[A\n",
      "100%|██████████| 80/80 [00:00<00:00, 304.66it/s]\u001b[A\n",
      " 67%|██████▋   | 757/1123 [10:43<04:53,  1.25it/s]"
     ]
    },
    {
     "name": "stdout",
     "output_type": "stream",
     "text": [
      "/home/jiang/projects/SubtleGAN/data/brats2021/train/BraTS2021_01379\n"
     ]
    },
    {
     "name": "stderr",
     "output_type": "stream",
     "text": [
      "\n",
      "  0%|          | 0/80 [00:00<?, ?it/s]\u001b[A\n",
      " 35%|███▌      | 28/80 [00:00<00:00, 271.04it/s]\u001b[A\n",
      "100%|██████████| 80/80 [00:00<00:00, 269.61it/s]\u001b[A\n",
      " 67%|██████▋   | 758/1123 [10:44<04:44,  1.28it/s]"
     ]
    },
    {
     "name": "stdout",
     "output_type": "stream",
     "text": [
      "/home/jiang/projects/SubtleGAN/data/brats2021/train/BraTS2021_01417\n"
     ]
    },
    {
     "name": "stderr",
     "output_type": "stream",
     "text": [
      "\n",
      "  0%|          | 0/80 [00:00<?, ?it/s]\u001b[A\n",
      " 32%|███▎      | 26/80 [00:00<00:00, 257.35it/s]\u001b[A\n",
      " 65%|██████▌   | 52/80 [00:00<00:00, 246.41it/s]\u001b[A\n",
      "100%|██████████| 80/80 [00:00<00:00, 242.75it/s]\u001b[A\n",
      " 68%|██████▊   | 759/1123 [10:44<04:42,  1.29it/s]"
     ]
    },
    {
     "name": "stdout",
     "output_type": "stream",
     "text": [
      "/home/jiang/projects/SubtleGAN/data/brats2021/train/BraTS2021_00537\n"
     ]
    },
    {
     "name": "stderr",
     "output_type": "stream",
     "text": [
      "\n",
      "  0%|          | 0/80 [00:00<?, ?it/s]\u001b[A\n",
      " 26%|██▋       | 21/80 [00:00<00:00, 201.81it/s]\u001b[A\n",
      " 52%|█████▎    | 42/80 [00:00<00:00, 168.54it/s]\u001b[A\n",
      " 75%|███████▌  | 60/80 [00:00<00:00, 165.90it/s]\u001b[A\n",
      "100%|██████████| 80/80 [00:00<00:00, 166.58it/s]\u001b[A\n",
      " 68%|██████▊   | 760/1123 [10:45<04:53,  1.24it/s]"
     ]
    },
    {
     "name": "stdout",
     "output_type": "stream",
     "text": [
      "/home/jiang/projects/SubtleGAN/data/brats2021/train/BraTS2021_01518\n"
     ]
    },
    {
     "name": "stderr",
     "output_type": "stream",
     "text": [
      "\n",
      "  0%|          | 0/80 [00:00<?, ?it/s]\u001b[A\n",
      " 24%|██▍       | 19/80 [00:00<00:00, 185.93it/s]\u001b[A\n",
      " 48%|████▊     | 38/80 [00:00<00:00, 180.79it/s]\u001b[A\n",
      " 71%|███████▏  | 57/80 [00:00<00:00, 178.98it/s]\u001b[A\n",
      "100%|██████████| 80/80 [00:00<00:00, 175.88it/s]\u001b[A\n",
      " 68%|██████▊   | 761/1123 [10:46<05:03,  1.19it/s]"
     ]
    },
    {
     "name": "stdout",
     "output_type": "stream",
     "text": [
      "/home/jiang/projects/SubtleGAN/data/brats2021/train/BraTS2021_01182\n"
     ]
    },
    {
     "name": "stderr",
     "output_type": "stream",
     "text": [
      "\n",
      "  0%|          | 0/80 [00:00<?, ?it/s]\u001b[A\n",
      " 24%|██▍       | 19/80 [00:00<00:00, 186.19it/s]\u001b[A\n",
      " 48%|████▊     | 38/80 [00:00<00:00, 177.40it/s]\u001b[A\n",
      " 70%|███████   | 56/80 [00:00<00:00, 174.83it/s]\u001b[A\n",
      "100%|██████████| 80/80 [00:00<00:00, 174.98it/s]\u001b[A\n",
      " 68%|██████▊   | 762/1123 [10:47<05:06,  1.18it/s]"
     ]
    },
    {
     "name": "stdout",
     "output_type": "stream",
     "text": [
      "/home/jiang/projects/SubtleGAN/data/brats2021/train/BraTS2021_01599\n"
     ]
    },
    {
     "name": "stderr",
     "output_type": "stream",
     "text": [
      "\n",
      "  0%|          | 0/80 [00:00<?, ?it/s]\u001b[A\n",
      " 40%|████      | 32/80 [00:00<00:00, 318.51it/s]\u001b[A\n",
      "100%|██████████| 80/80 [00:00<00:00, 286.98it/s]\u001b[A\n",
      " 68%|██████▊   | 763/1123 [10:48<05:45,  1.04it/s]"
     ]
    },
    {
     "name": "stdout",
     "output_type": "stream",
     "text": [
      "/home/jiang/projects/SubtleGAN/data/brats2021/train/BraTS2021_01556\n"
     ]
    },
    {
     "name": "stderr",
     "output_type": "stream",
     "text": [
      "\n",
      "  0%|          | 0/80 [00:00<?, ?it/s]\u001b[A\n",
      " 39%|███▉      | 31/80 [00:00<00:00, 303.83it/s]\u001b[A\n",
      "100%|██████████| 80/80 [00:00<00:00, 286.89it/s]\u001b[A\n",
      " 68%|██████▊   | 764/1123 [10:49<06:12,  1.04s/it]"
     ]
    },
    {
     "name": "stdout",
     "output_type": "stream",
     "text": [
      "/home/jiang/projects/SubtleGAN/data/brats2021/train/BraTS2021_01111\n"
     ]
    },
    {
     "name": "stderr",
     "output_type": "stream",
     "text": [
      "\n",
      "  0%|          | 0/80 [00:00<?, ?it/s]\u001b[A\n",
      " 24%|██▍       | 19/80 [00:00<00:00, 187.29it/s]\u001b[A\n",
      " 48%|████▊     | 38/80 [00:00<00:00, 176.57it/s]\u001b[A\n",
      " 70%|███████   | 56/80 [00:00<00:00, 173.66it/s]\u001b[A\n",
      "100%|██████████| 80/80 [00:00<00:00, 169.15it/s]\u001b[A\n",
      " 68%|██████▊   | 765/1123 [10:50<05:59,  1.00s/it]"
     ]
    },
    {
     "name": "stdout",
     "output_type": "stream",
     "text": [
      "/home/jiang/projects/SubtleGAN/data/brats2021/train/BraTS2021_00602\n"
     ]
    },
    {
     "name": "stderr",
     "output_type": "stream",
     "text": [
      "\n",
      "  0%|          | 0/80 [00:00<?, ?it/s]\u001b[A\n",
      " 22%|██▎       | 18/80 [00:00<00:00, 179.72it/s]\u001b[A\n",
      " 45%|████▌     | 36/80 [00:00<00:00, 173.11it/s]\u001b[A\n",
      " 68%|██████▊   | 54/80 [00:00<00:00, 170.92it/s]\u001b[A\n",
      "100%|██████████| 80/80 [00:00<00:00, 169.79it/s]\u001b[A\n",
      " 68%|██████▊   | 766/1123 [10:51<05:39,  1.05it/s]"
     ]
    },
    {
     "name": "stdout",
     "output_type": "stream",
     "text": [
      "/home/jiang/projects/SubtleGAN/data/brats2021/train/BraTS2021_00088\n"
     ]
    },
    {
     "name": "stderr",
     "output_type": "stream",
     "text": [
      "\n",
      "  0%|          | 0/80 [00:00<?, ?it/s]\u001b[A\n",
      " 24%|██▍       | 19/80 [00:00<00:00, 185.13it/s]\u001b[A\n",
      " 48%|████▊     | 38/80 [00:00<00:00, 176.23it/s]\u001b[A\n",
      " 71%|███████▏  | 57/80 [00:00<00:00, 181.26it/s]\u001b[A\n",
      "100%|██████████| 80/80 [00:00<00:00, 178.92it/s]\u001b[A\n",
      " 68%|██████▊   | 767/1123 [10:52<05:23,  1.10it/s]"
     ]
    },
    {
     "name": "stdout",
     "output_type": "stream",
     "text": [
      "/home/jiang/projects/SubtleGAN/data/brats2021/train/BraTS2021_01306\n"
     ]
    },
    {
     "name": "stderr",
     "output_type": "stream",
     "text": [
      "\n",
      "  0%|          | 0/80 [00:00<?, ?it/s]\u001b[A\n",
      " 24%|██▍       | 19/80 [00:00<00:00, 185.14it/s]\u001b[A\n",
      " 48%|████▊     | 38/80 [00:00<00:00, 177.33it/s]\u001b[A\n",
      "100%|██████████| 80/80 [00:00<00:00, 192.15it/s]\u001b[A\n",
      " 68%|██████▊   | 768/1123 [10:53<05:17,  1.12it/s]"
     ]
    },
    {
     "name": "stdout",
     "output_type": "stream",
     "text": [
      "/home/jiang/projects/SubtleGAN/data/brats2021/train/BraTS2021_00838\n"
     ]
    },
    {
     "name": "stderr",
     "output_type": "stream",
     "text": [
      "\n",
      "  0%|          | 0/80 [00:00<?, ?it/s]\u001b[A\n",
      " 32%|███▎      | 26/80 [00:00<00:00, 259.58it/s]\u001b[A\n",
      " 65%|██████▌   | 52/80 [00:00<00:00, 246.53it/s]\u001b[A\n",
      "100%|██████████| 80/80 [00:00<00:00, 246.53it/s]\u001b[A\n",
      " 68%|██████▊   | 769/1123 [10:54<05:01,  1.18it/s]"
     ]
    },
    {
     "name": "stdout",
     "output_type": "stream",
     "text": [
      "/home/jiang/projects/SubtleGAN/data/brats2021/train/BraTS2021_01150\n"
     ]
    },
    {
     "name": "stderr",
     "output_type": "stream",
     "text": [
      "\n",
      "  0%|          | 0/80 [00:00<?, ?it/s]\u001b[A\n",
      " 32%|███▎      | 26/80 [00:00<00:00, 257.21it/s]\u001b[A\n",
      " 65%|██████▌   | 52/80 [00:00<00:00, 252.29it/s]\u001b[A\n",
      "100%|██████████| 80/80 [00:00<00:00, 249.06it/s]\u001b[A\n",
      " 69%|██████▊   | 770/1123 [10:54<04:49,  1.22it/s]"
     ]
    },
    {
     "name": "stdout",
     "output_type": "stream",
     "text": [
      "/home/jiang/projects/SubtleGAN/data/brats2021/train/BraTS2021_01261\n"
     ]
    },
    {
     "name": "stderr",
     "output_type": "stream",
     "text": [
      "\n",
      "  0%|          | 0/80 [00:00<?, ?it/s]\u001b[A\n",
      " 32%|███▎      | 26/80 [00:00<00:00, 256.86it/s]\u001b[A\n",
      " 65%|██████▌   | 52/80 [00:00<00:00, 249.39it/s]\u001b[A\n",
      "100%|██████████| 80/80 [00:00<00:00, 247.79it/s]\u001b[A\n",
      " 69%|██████▊   | 771/1123 [10:55<04:42,  1.25it/s]"
     ]
    },
    {
     "name": "stdout",
     "output_type": "stream",
     "text": [
      "/home/jiang/projects/SubtleGAN/data/brats2021/train/BraTS2021_01055\n"
     ]
    },
    {
     "name": "stderr",
     "output_type": "stream",
     "text": [
      "\n",
      "  0%|          | 0/80 [00:00<?, ?it/s]\u001b[A\n",
      " 31%|███▏      | 25/80 [00:00<00:00, 249.02it/s]\u001b[A\n",
      " 62%|██████▎   | 50/80 [00:00<00:00, 243.76it/s]\u001b[A\n",
      "100%|██████████| 80/80 [00:00<00:00, 239.75it/s]\u001b[A\n",
      " 69%|██████▊   | 772/1123 [10:56<04:38,  1.26it/s]"
     ]
    },
    {
     "name": "stdout",
     "output_type": "stream",
     "text": [
      "/home/jiang/projects/SubtleGAN/data/brats2021/train/BraTS2021_01632\n"
     ]
    },
    {
     "name": "stderr",
     "output_type": "stream",
     "text": [
      "\n",
      "  0%|          | 0/80 [00:00<?, ?it/s]\u001b[A\n",
      " 40%|████      | 32/80 [00:00<00:00, 315.36it/s]\u001b[A\n",
      "100%|██████████| 80/80 [00:00<00:00, 267.21it/s]\u001b[A\n",
      " 69%|██████▉   | 773/1123 [10:57<05:22,  1.09it/s]"
     ]
    },
    {
     "name": "stdout",
     "output_type": "stream",
     "text": [
      "/home/jiang/projects/SubtleGAN/data/brats2021/train/BraTS2021_01197\n"
     ]
    },
    {
     "name": "stderr",
     "output_type": "stream",
     "text": [
      "\n",
      "  0%|          | 0/80 [00:00<?, ?it/s]\u001b[A\n",
      " 34%|███▍      | 27/80 [00:00<00:00, 261.63it/s]\u001b[A\n",
      " 68%|██████▊   | 54/80 [00:00<00:00, 250.69it/s]\u001b[A\n",
      "100%|██████████| 80/80 [00:00<00:00, 250.43it/s]\u001b[A\n",
      " 69%|██████▉   | 774/1123 [10:58<05:03,  1.15it/s]"
     ]
    },
    {
     "name": "stdout",
     "output_type": "stream",
     "text": [
      "/home/jiang/projects/SubtleGAN/data/brats2021/train/BraTS2021_00516\n"
     ]
    },
    {
     "name": "stderr",
     "output_type": "stream",
     "text": [
      "\n",
      "  0%|          | 0/80 [00:00<?, ?it/s]\u001b[A\n",
      " 32%|███▎      | 26/80 [00:00<00:00, 255.53it/s]\u001b[A\n",
      " 65%|██████▌   | 52/80 [00:00<00:00, 253.14it/s]\u001b[A\n",
      "100%|██████████| 80/80 [00:00<00:00, 248.32it/s]\u001b[A\n",
      " 69%|██████▉   | 775/1123 [10:58<04:41,  1.24it/s]"
     ]
    },
    {
     "name": "stdout",
     "output_type": "stream",
     "text": [
      "/home/jiang/projects/SubtleGAN/data/brats2021/train/BraTS2021_01535\n"
     ]
    },
    {
     "name": "stderr",
     "output_type": "stream",
     "text": [
      "\n",
      "  0%|          | 0/80 [00:00<?, ?it/s]\u001b[A\n",
      " 34%|███▍      | 27/80 [00:00<00:00, 262.23it/s]\u001b[A\n",
      " 68%|██████▊   | 54/80 [00:00<00:00, 251.10it/s]\u001b[A\n",
      "100%|██████████| 80/80 [00:00<00:00, 249.72it/s]\u001b[A\n",
      " 69%|██████▉   | 776/1123 [10:59<04:34,  1.26it/s]"
     ]
    },
    {
     "name": "stdout",
     "output_type": "stream",
     "text": [
      "/home/jiang/projects/SubtleGAN/data/brats2021/train/BraTS2021_01277\n"
     ]
    },
    {
     "name": "stderr",
     "output_type": "stream",
     "text": [
      "\n",
      "  0%|          | 0/80 [00:00<?, ?it/s]\u001b[A\n",
      " 32%|███▎      | 26/80 [00:00<00:00, 255.94it/s]\u001b[A\n",
      " 65%|██████▌   | 52/80 [00:00<00:00, 249.96it/s]\u001b[A\n",
      "100%|██████████| 80/80 [00:00<00:00, 244.02it/s]\u001b[A\n",
      " 69%|██████▉   | 777/1123 [11:00<04:31,  1.28it/s]"
     ]
    },
    {
     "name": "stdout",
     "output_type": "stream",
     "text": [
      "/home/jiang/projects/SubtleGAN/data/brats2021/train/BraTS2021_01456\n"
     ]
    },
    {
     "name": "stderr",
     "output_type": "stream",
     "text": [
      "\n",
      "  0%|          | 0/80 [00:00<?, ?it/s]\u001b[A\n",
      " 34%|███▍      | 27/80 [00:00<00:00, 259.73it/s]\u001b[A\n",
      " 66%|██████▋   | 53/80 [00:00<00:00, 254.21it/s]\u001b[A\n",
      "100%|██████████| 80/80 [00:00<00:00, 250.55it/s]\u001b[A\n",
      " 69%|██████▉   | 778/1123 [11:01<04:25,  1.30it/s]"
     ]
    },
    {
     "name": "stdout",
     "output_type": "stream",
     "text": [
      "/home/jiang/projects/SubtleGAN/data/brats2021/train/BraTS2021_00031\n"
     ]
    },
    {
     "name": "stderr",
     "output_type": "stream",
     "text": [
      "\n",
      "  0%|          | 0/80 [00:00<?, ?it/s]\u001b[A\n",
      " 32%|███▎      | 26/80 [00:00<00:00, 257.07it/s]\u001b[A\n",
      " 65%|██████▌   | 52/80 [00:00<00:00, 248.15it/s]\u001b[A\n",
      "100%|██████████| 80/80 [00:00<00:00, 248.06it/s]\u001b[A\n",
      " 69%|██████▉   | 779/1123 [11:01<04:15,  1.35it/s]"
     ]
    },
    {
     "name": "stdout",
     "output_type": "stream",
     "text": [
      "/home/jiang/projects/SubtleGAN/data/brats2021/train/BraTS2021_01159\n"
     ]
    },
    {
     "name": "stderr",
     "output_type": "stream",
     "text": [
      "\n",
      "  0%|          | 0/80 [00:00<?, ?it/s]\u001b[A\n",
      " 30%|███       | 24/80 [00:00<00:00, 236.99it/s]\u001b[A\n",
      " 60%|██████    | 48/80 [00:00<00:00, 218.54it/s]\u001b[A\n",
      "100%|██████████| 80/80 [00:00<00:00, 222.77it/s]\u001b[A\n",
      " 69%|██████▉   | 780/1123 [11:02<04:11,  1.36it/s]"
     ]
    },
    {
     "name": "stdout",
     "output_type": "stream",
     "text": [
      "/home/jiang/projects/SubtleGAN/data/brats2021/train/BraTS2021_01479\n"
     ]
    },
    {
     "name": "stderr",
     "output_type": "stream",
     "text": [
      "\n",
      "  0%|          | 0/80 [00:00<?, ?it/s]\u001b[A\n",
      " 34%|███▍      | 27/80 [00:00<00:00, 258.11it/s]\u001b[A\n",
      " 66%|██████▋   | 53/80 [00:00<00:00, 254.05it/s]\u001b[A\n",
      "100%|██████████| 80/80 [00:00<00:00, 249.98it/s]\u001b[A\n",
      " 70%|██████▉   | 781/1123 [11:03<04:12,  1.36it/s]"
     ]
    },
    {
     "name": "stdout",
     "output_type": "stream",
     "text": [
      "/home/jiang/projects/SubtleGAN/data/brats2021/train/BraTS2021_01411\n"
     ]
    },
    {
     "name": "stderr",
     "output_type": "stream",
     "text": [
      "\n",
      "  0%|          | 0/80 [00:00<?, ?it/s]\u001b[A\n",
      " 34%|███▍      | 27/80 [00:00<00:00, 262.87it/s]\u001b[A\n",
      " 68%|██████▊   | 54/80 [00:00<00:00, 257.04it/s]\u001b[A\n",
      "100%|██████████| 80/80 [00:00<00:00, 249.81it/s]\u001b[A\n",
      " 70%|██████▉   | 782/1123 [11:04<04:12,  1.35it/s]"
     ]
    },
    {
     "name": "stdout",
     "output_type": "stream",
     "text": [
      "/home/jiang/projects/SubtleGAN/data/brats2021/train/BraTS2021_01345\n"
     ]
    },
    {
     "name": "stderr",
     "output_type": "stream",
     "text": [
      "\n",
      "  0%|          | 0/80 [00:00<?, ?it/s]\u001b[A\n",
      " 32%|███▎      | 26/80 [00:00<00:00, 257.72it/s]\u001b[A\n",
      " 65%|██████▌   | 52/80 [00:00<00:00, 249.89it/s]\u001b[A\n",
      "100%|██████████| 80/80 [00:00<00:00, 248.99it/s]\u001b[A\n",
      " 70%|██████▉   | 783/1123 [11:04<04:12,  1.35it/s]"
     ]
    },
    {
     "name": "stdout",
     "output_type": "stream",
     "text": [
      "/home/jiang/projects/SubtleGAN/data/brats2021/train/BraTS2021_01180\n"
     ]
    },
    {
     "name": "stderr",
     "output_type": "stream",
     "text": [
      "\n",
      "  0%|          | 0/80 [00:00<?, ?it/s]\u001b[A\n",
      " 32%|███▎      | 26/80 [00:00<00:00, 252.51it/s]\u001b[A\n",
      " 65%|██████▌   | 52/80 [00:00<00:00, 249.54it/s]\u001b[A\n",
      "100%|██████████| 80/80 [00:00<00:00, 247.79it/s]\u001b[A\n",
      " 70%|██████▉   | 784/1123 [11:05<04:11,  1.35it/s]"
     ]
    },
    {
     "name": "stdout",
     "output_type": "stream",
     "text": [
      "/home/jiang/projects/SubtleGAN/data/brats2021/train/BraTS2021_00321\n"
     ]
    },
    {
     "name": "stderr",
     "output_type": "stream",
     "text": [
      "\n",
      "  0%|          | 0/80 [00:00<?, ?it/s]\u001b[A\n",
      " 32%|███▎      | 26/80 [00:00<00:00, 250.73it/s]\u001b[A\n",
      " 66%|██████▋   | 53/80 [00:00<00:00, 258.40it/s]\u001b[A\n",
      "100%|██████████| 80/80 [00:00<00:00, 248.95it/s]\u001b[A\n",
      " 70%|██████▉   | 785/1123 [11:06<04:12,  1.34it/s]"
     ]
    },
    {
     "name": "stdout",
     "output_type": "stream",
     "text": [
      "/home/jiang/projects/SubtleGAN/data/brats2021/train/BraTS2021_00659\n"
     ]
    },
    {
     "name": "stderr",
     "output_type": "stream",
     "text": [
      "\n",
      "  0%|          | 0/80 [00:00<?, ?it/s]\u001b[A\n",
      " 32%|███▎      | 26/80 [00:00<00:00, 254.63it/s]\u001b[A\n",
      " 65%|██████▌   | 52/80 [00:00<00:00, 253.57it/s]\u001b[A\n",
      "100%|██████████| 80/80 [00:00<00:00, 247.73it/s]\u001b[A\n",
      " 70%|██████▉   | 786/1123 [11:07<04:04,  1.38it/s]"
     ]
    },
    {
     "name": "stdout",
     "output_type": "stream",
     "text": [
      "/home/jiang/projects/SubtleGAN/data/brats2021/train/BraTS2021_01156\n"
     ]
    },
    {
     "name": "stderr",
     "output_type": "stream",
     "text": [
      "\n",
      "  0%|          | 0/80 [00:00<?, ?it/s]\u001b[A\n",
      " 32%|███▎      | 26/80 [00:00<00:00, 251.62it/s]\u001b[A\n",
      " 65%|██████▌   | 52/80 [00:00<00:00, 246.16it/s]\u001b[A\n",
      "100%|██████████| 80/80 [00:00<00:00, 240.32it/s]\u001b[A\n",
      " 70%|███████   | 787/1123 [11:07<03:59,  1.40it/s]"
     ]
    },
    {
     "name": "stdout",
     "output_type": "stream",
     "text": [
      "/home/jiang/projects/SubtleGAN/data/brats2021/train/BraTS2021_01027\n"
     ]
    },
    {
     "name": "stderr",
     "output_type": "stream",
     "text": [
      "\n",
      "  0%|          | 0/80 [00:00<?, ?it/s]\u001b[A\n",
      " 32%|███▎      | 26/80 [00:00<00:00, 258.14it/s]\u001b[A\n",
      " 65%|██████▌   | 52/80 [00:00<00:00, 249.06it/s]\u001b[A\n",
      "100%|██████████| 80/80 [00:00<00:00, 247.82it/s]\u001b[A\n",
      " 70%|███████   | 788/1123 [11:08<03:55,  1.42it/s]"
     ]
    },
    {
     "name": "stdout",
     "output_type": "stream",
     "text": [
      "/home/jiang/projects/SubtleGAN/data/brats2021/train/BraTS2021_00142\n"
     ]
    },
    {
     "name": "stderr",
     "output_type": "stream",
     "text": [
      "\n",
      "  0%|          | 0/80 [00:00<?, ?it/s]\u001b[A\n",
      " 34%|███▍      | 27/80 [00:00<00:00, 265.81it/s]\u001b[A\n",
      "100%|██████████| 80/80 [00:00<00:00, 256.83it/s]\u001b[A\n",
      " 70%|███████   | 789/1123 [11:09<03:59,  1.39it/s]"
     ]
    },
    {
     "name": "stdout",
     "output_type": "stream",
     "text": [
      "/home/jiang/projects/SubtleGAN/data/brats2021/train/BraTS2021_01187\n"
     ]
    },
    {
     "name": "stderr",
     "output_type": "stream",
     "text": [
      "\n",
      "  0%|          | 0/80 [00:00<?, ?it/s]\u001b[A\n",
      " 34%|███▍      | 27/80 [00:00<00:00, 259.89it/s]\u001b[A\n",
      " 66%|██████▋   | 53/80 [00:00<00:00, 253.02it/s]\u001b[A\n",
      "100%|██████████| 80/80 [00:00<00:00, 248.85it/s]\u001b[A\n",
      " 70%|███████   | 790/1123 [11:09<04:00,  1.38it/s]"
     ]
    },
    {
     "name": "stdout",
     "output_type": "stream",
     "text": [
      "/home/jiang/projects/SubtleGAN/data/brats2021/train/BraTS2021_00242\n"
     ]
    },
    {
     "name": "stderr",
     "output_type": "stream",
     "text": [
      "\n",
      "  0%|          | 0/80 [00:00<?, ?it/s]\u001b[A\n",
      " 31%|███▏      | 25/80 [00:00<00:00, 243.21it/s]\u001b[A\n",
      " 64%|██████▍   | 51/80 [00:00<00:00, 250.91it/s]\u001b[A\n",
      "100%|██████████| 80/80 [00:00<00:00, 244.57it/s]\u001b[A\n",
      " 70%|███████   | 791/1123 [11:10<04:03,  1.36it/s]"
     ]
    },
    {
     "name": "stdout",
     "output_type": "stream",
     "text": [
      "/home/jiang/projects/SubtleGAN/data/brats2021/train/BraTS2021_01591\n"
     ]
    },
    {
     "name": "stderr",
     "output_type": "stream",
     "text": [
      "\n",
      "  0%|          | 0/80 [00:00<?, ?it/s]\u001b[A\n",
      " 40%|████      | 32/80 [00:00<00:00, 317.27it/s]\u001b[A\n",
      "100%|██████████| 80/80 [00:00<00:00, 302.06it/s]\u001b[A\n",
      " 71%|███████   | 792/1123 [11:11<04:34,  1.21it/s]"
     ]
    },
    {
     "name": "stdout",
     "output_type": "stream",
     "text": [
      "/home/jiang/projects/SubtleGAN/data/brats2021/train/BraTS2021_01522\n"
     ]
    },
    {
     "name": "stderr",
     "output_type": "stream",
     "text": [
      "\n",
      "  0%|          | 0/80 [00:00<?, ?it/s]\u001b[A\n",
      " 32%|███▎      | 26/80 [00:00<00:00, 255.20it/s]\u001b[A\n",
      " 65%|██████▌   | 52/80 [00:00<00:00, 251.74it/s]\u001b[A\n",
      "100%|██████████| 80/80 [00:00<00:00, 248.21it/s]\u001b[A\n",
      " 71%|███████   | 793/1123 [11:12<04:26,  1.24it/s]"
     ]
    },
    {
     "name": "stdout",
     "output_type": "stream",
     "text": [
      "/home/jiang/projects/SubtleGAN/data/brats2021/train/BraTS2021_01511\n"
     ]
    },
    {
     "name": "stderr",
     "output_type": "stream",
     "text": [
      "\n",
      "  0%|          | 0/80 [00:00<?, ?it/s]\u001b[A\n",
      " 31%|███▏      | 25/80 [00:00<00:00, 245.83it/s]\u001b[A\n",
      " 62%|██████▎   | 50/80 [00:00<00:00, 246.35it/s]\u001b[A\n",
      "100%|██████████| 80/80 [00:00<00:00, 244.52it/s]\u001b[A\n",
      " 71%|███████   | 794/1123 [11:13<04:21,  1.26it/s]"
     ]
    },
    {
     "name": "stdout",
     "output_type": "stream",
     "text": [
      "/home/jiang/projects/SubtleGAN/data/brats2021/train/BraTS2021_01267\n"
     ]
    },
    {
     "name": "stderr",
     "output_type": "stream",
     "text": [
      "\n",
      "  0%|          | 0/80 [00:00<?, ?it/s]\u001b[A\n",
      " 30%|███       | 24/80 [00:00<00:00, 231.21it/s]\u001b[A\n",
      " 60%|██████    | 48/80 [00:00<00:00, 232.83it/s]\u001b[A\n",
      "100%|██████████| 80/80 [00:00<00:00, 237.34it/s]\u001b[A\n",
      " 71%|███████   | 795/1123 [11:14<04:19,  1.27it/s]"
     ]
    },
    {
     "name": "stdout",
     "output_type": "stream",
     "text": [
      "/home/jiang/projects/SubtleGAN/data/brats2021/train/BraTS2021_01254\n"
     ]
    },
    {
     "name": "stderr",
     "output_type": "stream",
     "text": [
      "\n",
      "  0%|          | 0/80 [00:00<?, ?it/s]\u001b[A\n",
      " 32%|███▎      | 26/80 [00:00<00:00, 256.37it/s]\u001b[A\n",
      " 65%|██████▌   | 52/80 [00:00<00:00, 244.98it/s]\u001b[A\n",
      "100%|██████████| 80/80 [00:00<00:00, 243.86it/s]\u001b[A\n",
      " 71%|███████   | 796/1123 [11:14<04:15,  1.28it/s]"
     ]
    },
    {
     "name": "stdout",
     "output_type": "stream",
     "text": [
      "/home/jiang/projects/SubtleGAN/data/brats2021/train/BraTS2021_00570\n"
     ]
    },
    {
     "name": "stderr",
     "output_type": "stream",
     "text": [
      "\n",
      "  0%|          | 0/80 [00:00<?, ?it/s]\u001b[A\n",
      " 38%|███▊      | 30/80 [00:00<00:00, 297.08it/s]\u001b[A\n",
      "100%|██████████| 80/80 [00:00<00:00, 281.20it/s]\u001b[A\n",
      " 71%|███████   | 797/1123 [11:15<04:42,  1.16it/s]"
     ]
    },
    {
     "name": "stdout",
     "output_type": "stream",
     "text": [
      "/home/jiang/projects/SubtleGAN/data/brats2021/train/BraTS2021_00692\n"
     ]
    },
    {
     "name": "stderr",
     "output_type": "stream",
     "text": [
      "\n",
      "  0%|          | 0/80 [00:00<?, ?it/s]\u001b[A\n",
      " 15%|█▌        | 12/80 [00:00<00:00, 113.08it/s]\u001b[A\n",
      " 32%|███▎      | 26/80 [00:00<00:00, 127.52it/s]\u001b[A\n",
      " 62%|██████▎   | 50/80 [00:00<00:00, 176.40it/s]\u001b[A\n",
      "100%|██████████| 80/80 [00:00<00:00, 182.86it/s]\u001b[A\n",
      " 71%|███████   | 798/1123 [11:16<04:38,  1.16it/s]"
     ]
    },
    {
     "name": "stdout",
     "output_type": "stream",
     "text": [
      "/home/jiang/projects/SubtleGAN/data/brats2021/train/BraTS2021_01400\n"
     ]
    },
    {
     "name": "stderr",
     "output_type": "stream",
     "text": [
      "\n",
      "  0%|          | 0/80 [00:00<?, ?it/s]\u001b[A\n",
      " 32%|███▎      | 26/80 [00:00<00:00, 249.04it/s]\u001b[A\n",
      " 64%|██████▍   | 51/80 [00:00<00:00, 241.29it/s]\u001b[A\n",
      "100%|██████████| 80/80 [00:00<00:00, 236.28it/s]\u001b[A\n",
      " 71%|███████   | 799/1123 [11:17<04:31,  1.19it/s]"
     ]
    },
    {
     "name": "stdout",
     "output_type": "stream",
     "text": [
      "/home/jiang/projects/SubtleGAN/data/brats2021/train/BraTS2021_00269\n"
     ]
    },
    {
     "name": "stderr",
     "output_type": "stream",
     "text": [
      "\n",
      "  0%|          | 0/80 [00:00<?, ?it/s]\u001b[A\n",
      " 32%|███▎      | 26/80 [00:00<00:00, 258.31it/s]\u001b[A\n",
      " 65%|██████▌   | 52/80 [00:00<00:00, 233.06it/s]\u001b[A\n",
      "100%|██████████| 80/80 [00:00<00:00, 230.08it/s]\u001b[A\n",
      " 71%|███████   | 800/1123 [11:18<04:27,  1.21it/s]"
     ]
    },
    {
     "name": "stdout",
     "output_type": "stream",
     "text": [
      "/home/jiang/projects/SubtleGAN/data/brats2021/train/BraTS2021_00305\n"
     ]
    },
    {
     "name": "stderr",
     "output_type": "stream",
     "text": [
      "\n",
      "  0%|          | 0/80 [00:00<?, ?it/s]\u001b[A\n",
      " 32%|███▎      | 26/80 [00:00<00:00, 254.22it/s]\u001b[A\n",
      " 65%|██████▌   | 52/80 [00:00<00:00, 245.93it/s]\u001b[A\n",
      "100%|██████████| 80/80 [00:00<00:00, 242.68it/s]\u001b[A\n",
      " 71%|███████▏  | 801/1123 [11:19<04:22,  1.23it/s]"
     ]
    },
    {
     "name": "stdout",
     "output_type": "stream",
     "text": [
      "/home/jiang/projects/SubtleGAN/data/brats2021/train/BraTS2021_00698\n"
     ]
    },
    {
     "name": "stderr",
     "output_type": "stream",
     "text": [
      "\n",
      "  0%|          | 0/80 [00:00<?, ?it/s]\u001b[A\n",
      " 32%|███▎      | 26/80 [00:00<00:00, 256.28it/s]\u001b[A\n",
      " 65%|██████▌   | 52/80 [00:00<00:00, 250.95it/s]\u001b[A\n",
      "100%|██████████| 80/80 [00:00<00:00, 243.22it/s]\u001b[A\n",
      " 71%|███████▏  | 802/1123 [11:19<04:14,  1.26it/s]"
     ]
    },
    {
     "name": "stdout",
     "output_type": "stream",
     "text": [
      "/home/jiang/projects/SubtleGAN/data/brats2021/train/BraTS2021_00107\n"
     ]
    },
    {
     "name": "stderr",
     "output_type": "stream",
     "text": [
      "\n",
      "  0%|          | 0/80 [00:00<?, ?it/s]\u001b[A\n",
      " 31%|███▏      | 25/80 [00:00<00:00, 241.64it/s]\u001b[A\n",
      " 64%|██████▍   | 51/80 [00:00<00:00, 251.72it/s]\u001b[A\n",
      "100%|██████████| 80/80 [00:00<00:00, 247.39it/s]\u001b[A\n",
      " 72%|███████▏  | 803/1123 [11:20<04:09,  1.28it/s]"
     ]
    },
    {
     "name": "stdout",
     "output_type": "stream",
     "text": [
      "/home/jiang/projects/SubtleGAN/data/brats2021/train/BraTS2021_01533\n"
     ]
    },
    {
     "name": "stderr",
     "output_type": "stream",
     "text": [
      "\n",
      "  0%|          | 0/80 [00:00<?, ?it/s]\u001b[A\n",
      " 16%|█▋        | 13/80 [00:00<00:00, 129.32it/s]\u001b[A\n",
      " 38%|███▊      | 30/80 [00:00<00:00, 151.81it/s]\u001b[A\n",
      " 65%|██████▌   | 52/80 [00:00<00:00, 180.52it/s]\u001b[A\n",
      "100%|██████████| 80/80 [00:00<00:00, 190.55it/s]\u001b[A\n",
      " 72%|███████▏  | 804/1123 [11:21<04:16,  1.24it/s]"
     ]
    },
    {
     "name": "stdout",
     "output_type": "stream",
     "text": [
      "/home/jiang/projects/SubtleGAN/data/brats2021/train/BraTS2021_00303\n"
     ]
    },
    {
     "name": "stderr",
     "output_type": "stream",
     "text": [
      "\n",
      "  0%|          | 0/80 [00:00<?, ?it/s]\u001b[A\n",
      " 22%|██▎       | 18/80 [00:00<00:00, 179.13it/s]\u001b[A\n",
      " 49%|████▉     | 39/80 [00:00<00:00, 194.93it/s]\u001b[A\n",
      "100%|██████████| 80/80 [00:00<00:00, 184.62it/s]\u001b[A\n",
      " 72%|███████▏  | 805/1123 [11:22<04:24,  1.20it/s]"
     ]
    },
    {
     "name": "stdout",
     "output_type": "stream",
     "text": [
      "/home/jiang/projects/SubtleGAN/data/brats2021/train/BraTS2021_01008\n"
     ]
    },
    {
     "name": "stderr",
     "output_type": "stream",
     "text": [
      "\n",
      "  0%|          | 0/80 [00:00<?, ?it/s]\u001b[A\n",
      " 31%|███▏      | 25/80 [00:00<00:00, 243.05it/s]\u001b[A\n",
      " 62%|██████▎   | 50/80 [00:00<00:00, 159.62it/s]\u001b[A\n",
      "100%|██████████| 80/80 [00:00<00:00, 187.64it/s]\u001b[A\n",
      " 72%|███████▏  | 806/1123 [11:23<04:26,  1.19it/s]"
     ]
    },
    {
     "name": "stdout",
     "output_type": "stream",
     "text": [
      "/home/jiang/projects/SubtleGAN/data/brats2021/train/BraTS2021_01025\n"
     ]
    },
    {
     "name": "stderr",
     "output_type": "stream",
     "text": [
      "\n",
      "  0%|          | 0/80 [00:00<?, ?it/s]\u001b[A\n",
      " 32%|███▎      | 26/80 [00:00<00:00, 251.46it/s]\u001b[A\n",
      " 65%|██████▌   | 52/80 [00:00<00:00, 250.51it/s]\u001b[A\n",
      "100%|██████████| 80/80 [00:00<00:00, 245.10it/s]\u001b[A\n",
      " 72%|███████▏  | 807/1123 [11:23<04:17,  1.23it/s]"
     ]
    },
    {
     "name": "stdout",
     "output_type": "stream",
     "text": [
      "/home/jiang/projects/SubtleGAN/data/brats2021/train/BraTS2021_00273\n"
     ]
    },
    {
     "name": "stderr",
     "output_type": "stream",
     "text": [
      "\n",
      "  0%|          | 0/80 [00:00<?, ?it/s]\u001b[A\n",
      " 32%|███▎      | 26/80 [00:00<00:00, 253.99it/s]\u001b[A\n",
      " 65%|██████▌   | 52/80 [00:00<00:00, 249.37it/s]\u001b[A\n",
      "100%|██████████| 80/80 [00:00<00:00, 240.48it/s]\u001b[A\n",
      " 72%|███████▏  | 808/1123 [11:24<04:12,  1.25it/s]"
     ]
    },
    {
     "name": "stdout",
     "output_type": "stream",
     "text": [
      "/home/jiang/projects/SubtleGAN/data/brats2021/train/BraTS2021_00519\n"
     ]
    },
    {
     "name": "stderr",
     "output_type": "stream",
     "text": [
      "\n",
      "  0%|          | 0/80 [00:00<?, ?it/s]\u001b[A\n",
      " 31%|███▏      | 25/80 [00:00<00:00, 247.61it/s]\u001b[A\n",
      " 62%|██████▎   | 50/80 [00:00<00:00, 248.17it/s]\u001b[A\n",
      "100%|██████████| 80/80 [00:00<00:00, 246.38it/s]\u001b[A\n",
      " 72%|███████▏  | 809/1123 [11:25<04:01,  1.30it/s]"
     ]
    },
    {
     "name": "stdout",
     "output_type": "stream",
     "text": [
      "/home/jiang/projects/SubtleGAN/data/brats2021/train/BraTS2021_00773\n"
     ]
    },
    {
     "name": "stderr",
     "output_type": "stream",
     "text": [
      "\n",
      "  0%|          | 0/80 [00:00<?, ?it/s]\u001b[A\n",
      " 32%|███▎      | 26/80 [00:00<00:00, 252.63it/s]\u001b[A\n",
      " 65%|██████▌   | 52/80 [00:00<00:00, 247.10it/s]\u001b[A\n",
      "100%|██████████| 80/80 [00:00<00:00, 248.40it/s]\u001b[A\n",
      " 72%|███████▏  | 810/1123 [11:26<03:52,  1.35it/s]"
     ]
    },
    {
     "name": "stdout",
     "output_type": "stream",
     "text": [
      "/home/jiang/projects/SubtleGAN/data/brats2021/train/BraTS2021_01523\n"
     ]
    },
    {
     "name": "stderr",
     "output_type": "stream",
     "text": [
      "\n",
      "  0%|          | 0/80 [00:00<?, ?it/s]\u001b[A\n",
      " 31%|███▏      | 25/80 [00:00<00:00, 247.47it/s]\u001b[A\n",
      " 62%|██████▎   | 50/80 [00:00<00:00, 245.12it/s]\u001b[A\n",
      "100%|██████████| 80/80 [00:00<00:00, 240.62it/s]\u001b[A\n",
      " 72%|███████▏  | 811/1123 [11:26<03:54,  1.33it/s]"
     ]
    },
    {
     "name": "stdout",
     "output_type": "stream",
     "text": [
      "/home/jiang/projects/SubtleGAN/data/brats2021/train/BraTS2021_00828\n"
     ]
    },
    {
     "name": "stderr",
     "output_type": "stream",
     "text": [
      "\n",
      "  0%|          | 0/80 [00:00<?, ?it/s]\u001b[A\n",
      " 39%|███▉      | 31/80 [00:00<00:00, 302.83it/s]\u001b[A\n",
      "100%|██████████| 80/80 [00:00<00:00, 287.90it/s]\u001b[A\n",
      " 72%|███████▏  | 812/1123 [11:27<04:25,  1.17it/s]"
     ]
    },
    {
     "name": "stdout",
     "output_type": "stream",
     "text": [
      "/home/jiang/projects/SubtleGAN/data/brats2021/train/BraTS2021_01131\n"
     ]
    },
    {
     "name": "stderr",
     "output_type": "stream",
     "text": [
      "\n",
      "  0%|          | 0/80 [00:00<?, ?it/s]\u001b[A\n",
      " 31%|███▏      | 25/80 [00:00<00:00, 249.84it/s]\u001b[A\n",
      " 62%|██████▎   | 50/80 [00:00<00:00, 240.12it/s]\u001b[A\n",
      "100%|██████████| 80/80 [00:00<00:00, 235.73it/s]\u001b[A\n",
      " 72%|███████▏  | 813/1123 [11:28<04:17,  1.20it/s]"
     ]
    },
    {
     "name": "stdout",
     "output_type": "stream",
     "text": [
      "/home/jiang/projects/SubtleGAN/data/brats2021/train/BraTS2021_01189\n"
     ]
    },
    {
     "name": "stderr",
     "output_type": "stream",
     "text": [
      "\n",
      "  0%|          | 0/80 [00:00<?, ?it/s]\u001b[A\n",
      " 32%|███▎      | 26/80 [00:00<00:00, 257.71it/s]\u001b[A\n",
      " 65%|██████▌   | 52/80 [00:00<00:00, 250.71it/s]\u001b[A\n",
      "100%|██████████| 80/80 [00:00<00:00, 248.55it/s]\u001b[A\n",
      " 72%|███████▏  | 814/1123 [11:29<04:08,  1.24it/s]"
     ]
    },
    {
     "name": "stdout",
     "output_type": "stream",
     "text": [
      "/home/jiang/projects/SubtleGAN/data/brats2021/train/BraTS2021_01619\n"
     ]
    },
    {
     "name": "stderr",
     "output_type": "stream",
     "text": [
      "\n",
      "  0%|          | 0/80 [00:00<?, ?it/s]\u001b[A\n",
      " 40%|████      | 32/80 [00:00<00:00, 316.52it/s]\u001b[A\n",
      "100%|██████████| 80/80 [00:00<00:00, 222.02it/s]\u001b[A\n",
      " 73%|███████▎  | 815/1123 [11:30<04:41,  1.09it/s]"
     ]
    },
    {
     "name": "stdout",
     "output_type": "stream",
     "text": [
      "/home/jiang/projects/SubtleGAN/data/brats2021/train/BraTS2021_01561\n"
     ]
    },
    {
     "name": "stderr",
     "output_type": "stream",
     "text": [
      "\n",
      "  0%|          | 0/80 [00:00<?, ?it/s]\u001b[A\n",
      " 39%|███▉      | 31/80 [00:00<00:00, 306.25it/s]\u001b[A\n",
      "100%|██████████| 80/80 [00:00<00:00, 290.31it/s]\u001b[A\n",
      " 73%|███████▎  | 816/1123 [11:31<05:00,  1.02it/s]"
     ]
    },
    {
     "name": "stdout",
     "output_type": "stream",
     "text": [
      "/home/jiang/projects/SubtleGAN/data/brats2021/train/BraTS2021_01112\n"
     ]
    },
    {
     "name": "stderr",
     "output_type": "stream",
     "text": [
      "\n",
      "  0%|          | 0/80 [00:00<?, ?it/s]\u001b[A\n",
      " 30%|███       | 24/80 [00:00<00:00, 236.62it/s]\u001b[A\n",
      " 61%|██████▏   | 49/80 [00:00<00:00, 241.42it/s]\u001b[A\n",
      "100%|██████████| 80/80 [00:00<00:00, 241.50it/s]\u001b[A\n",
      " 73%|███████▎  | 817/1123 [11:32<04:40,  1.09it/s]"
     ]
    },
    {
     "name": "stdout",
     "output_type": "stream",
     "text": [
      "/home/jiang/projects/SubtleGAN/data/brats2021/train/BraTS2021_00732\n"
     ]
    },
    {
     "name": "stderr",
     "output_type": "stream",
     "text": [
      "\n",
      "  0%|          | 0/80 [00:00<?, ?it/s]\u001b[A\n",
      " 32%|███▎      | 26/80 [00:00<00:00, 251.40it/s]\u001b[A\n",
      " 65%|██████▌   | 52/80 [00:00<00:00, 242.64it/s]\u001b[A\n",
      "100%|██████████| 80/80 [00:00<00:00, 242.42it/s]\u001b[A\n",
      " 73%|███████▎  | 818/1123 [11:33<04:18,  1.18it/s]"
     ]
    },
    {
     "name": "stdout",
     "output_type": "stream",
     "text": [
      "/home/jiang/projects/SubtleGAN/data/brats2021/train/BraTS2021_00587\n"
     ]
    },
    {
     "name": "stderr",
     "output_type": "stream",
     "text": [
      "\n",
      "  0%|          | 0/80 [00:00<?, ?it/s]\u001b[A\n",
      " 40%|████      | 32/80 [00:00<00:00, 317.14it/s]\u001b[A\n",
      "100%|██████████| 80/80 [00:00<00:00, 299.32it/s]\u001b[A\n",
      " 73%|███████▎  | 819/1123 [11:34<04:37,  1.10it/s]"
     ]
    },
    {
     "name": "stdout",
     "output_type": "stream",
     "text": [
      "/home/jiang/projects/SubtleGAN/data/brats2021/train/BraTS2021_01493\n"
     ]
    },
    {
     "name": "stderr",
     "output_type": "stream",
     "text": [
      "\n",
      "  0%|          | 0/80 [00:00<?, ?it/s]\u001b[A\n",
      " 34%|███▍      | 27/80 [00:00<00:00, 264.26it/s]\u001b[A\n",
      " 68%|██████▊   | 54/80 [00:00<00:00, 251.34it/s]\u001b[A\n",
      "100%|██████████| 80/80 [00:00<00:00, 243.72it/s]\u001b[A\n",
      " 73%|███████▎  | 820/1123 [11:35<04:23,  1.15it/s]"
     ]
    },
    {
     "name": "stdout",
     "output_type": "stream",
     "text": [
      "/home/jiang/projects/SubtleGAN/data/brats2021/train/BraTS2021_00167\n"
     ]
    },
    {
     "name": "stderr",
     "output_type": "stream",
     "text": [
      "\n",
      "  0%|          | 0/80 [00:00<?, ?it/s]\u001b[A\n",
      " 31%|███▏      | 25/80 [00:00<00:00, 240.89it/s]\u001b[A\n",
      " 62%|██████▎   | 50/80 [00:00<00:00, 237.69it/s]\u001b[A\n",
      "100%|██████████| 80/80 [00:00<00:00, 239.01it/s]\u001b[A\n",
      " 73%|███████▎  | 821/1123 [11:35<04:19,  1.16it/s]"
     ]
    },
    {
     "name": "stdout",
     "output_type": "stream",
     "text": [
      "/home/jiang/projects/SubtleGAN/data/brats2021/train/BraTS2021_00283\n"
     ]
    },
    {
     "name": "stderr",
     "output_type": "stream",
     "text": [
      "\n",
      "  0%|          | 0/80 [00:00<?, ?it/s]\u001b[A\n",
      " 34%|███▍      | 27/80 [00:00<00:00, 263.47it/s]\u001b[A\n",
      " 68%|██████▊   | 54/80 [00:00<00:00, 253.02it/s]\u001b[A\n",
      "100%|██████████| 80/80 [00:00<00:00, 248.29it/s]\u001b[A\n",
      " 73%|███████▎  | 822/1123 [11:36<04:11,  1.20it/s]"
     ]
    },
    {
     "name": "stdout",
     "output_type": "stream",
     "text": [
      "/home/jiang/projects/SubtleGAN/data/brats2021/train/BraTS2021_01087\n"
     ]
    },
    {
     "name": "stderr",
     "output_type": "stream",
     "text": [
      "\n",
      "  0%|          | 0/80 [00:00<?, ?it/s]\u001b[A\n",
      " 32%|███▎      | 26/80 [00:00<00:00, 255.61it/s]\u001b[A\n",
      " 65%|██████▌   | 52/80 [00:00<00:00, 247.76it/s]\u001b[A\n",
      "100%|██████████| 80/80 [00:00<00:00, 250.11it/s]\u001b[A\n",
      " 73%|███████▎  | 823/1123 [11:37<04:04,  1.23it/s]"
     ]
    },
    {
     "name": "stdout",
     "output_type": "stream",
     "text": [
      "/home/jiang/projects/SubtleGAN/data/brats2021/train/BraTS2021_01041\n"
     ]
    },
    {
     "name": "stderr",
     "output_type": "stream",
     "text": [
      "\n",
      "  0%|          | 0/80 [00:00<?, ?it/s]\u001b[A\n",
      " 31%|███▏      | 25/80 [00:00<00:00, 248.29it/s]\u001b[A\n",
      " 62%|██████▎   | 50/80 [00:00<00:00, 242.87it/s]\u001b[A\n",
      "100%|██████████| 80/80 [00:00<00:00, 241.17it/s]\u001b[A\n",
      " 73%|███████▎  | 824/1123 [11:38<04:00,  1.24it/s]"
     ]
    },
    {
     "name": "stdout",
     "output_type": "stream",
     "text": [
      "/home/jiang/projects/SubtleGAN/data/brats2021/train/BraTS2021_00440\n"
     ]
    },
    {
     "name": "stderr",
     "output_type": "stream",
     "text": [
      "\n",
      "  0%|          | 0/80 [00:00<?, ?it/s]\u001b[A\n",
      " 32%|███▎      | 26/80 [00:00<00:00, 253.44it/s]\u001b[A\n",
      " 65%|██████▌   | 52/80 [00:00<00:00, 247.24it/s]\u001b[A\n",
      "100%|██████████| 80/80 [00:00<00:00, 242.99it/s]\u001b[A\n",
      " 73%|███████▎  | 825/1123 [11:38<03:56,  1.26it/s]"
     ]
    },
    {
     "name": "stdout",
     "output_type": "stream",
     "text": [
      "/home/jiang/projects/SubtleGAN/data/brats2021/train/BraTS2021_00724\n"
     ]
    },
    {
     "name": "stderr",
     "output_type": "stream",
     "text": [
      "\n",
      "  0%|          | 0/80 [00:00<?, ?it/s]\u001b[A\n",
      " 32%|███▎      | 26/80 [00:00<00:00, 249.32it/s]\u001b[A\n",
      " 64%|██████▍   | 51/80 [00:00<00:00, 243.74it/s]\u001b[A\n",
      "100%|██████████| 80/80 [00:00<00:00, 243.72it/s]\u001b[A\n",
      " 74%|███████▎  | 826/1123 [11:39<03:47,  1.31it/s]"
     ]
    },
    {
     "name": "stdout",
     "output_type": "stream",
     "text": [
      "/home/jiang/projects/SubtleGAN/data/brats2021/train/BraTS2021_00387\n"
     ]
    },
    {
     "name": "stderr",
     "output_type": "stream",
     "text": [
      "\n",
      "  0%|          | 0/80 [00:00<?, ?it/s]\u001b[A\n",
      " 34%|███▍      | 27/80 [00:00<00:00, 263.77it/s]\u001b[A\n",
      " 68%|██████▊   | 54/80 [00:00<00:00, 244.14it/s]\u001b[A\n",
      "100%|██████████| 80/80 [00:00<00:00, 239.94it/s]\u001b[A\n",
      " 74%|███████▎  | 827/1123 [11:40<03:46,  1.31it/s]"
     ]
    },
    {
     "name": "stdout",
     "output_type": "stream",
     "text": [
      "/home/jiang/projects/SubtleGAN/data/brats2021/train/BraTS2021_01293\n"
     ]
    },
    {
     "name": "stderr",
     "output_type": "stream",
     "text": [
      "\n",
      "  0%|          | 0/80 [00:00<?, ?it/s]\u001b[A\n",
      " 32%|███▎      | 26/80 [00:00<00:00, 255.81it/s]\u001b[A\n",
      " 65%|██████▌   | 52/80 [00:00<00:00, 253.13it/s]\u001b[A\n",
      "100%|██████████| 80/80 [00:00<00:00, 250.28it/s]\u001b[A\n",
      " 74%|███████▎  | 828/1123 [11:41<03:52,  1.27it/s]"
     ]
    },
    {
     "name": "stdout",
     "output_type": "stream",
     "text": [
      "/home/jiang/projects/SubtleGAN/data/brats2021/train/BraTS2021_01582\n"
     ]
    },
    {
     "name": "stderr",
     "output_type": "stream",
     "text": [
      "\n",
      "  0%|          | 0/80 [00:00<?, ?it/s]\u001b[A\n",
      " 40%|████      | 32/80 [00:00<00:00, 316.35it/s]\u001b[A\n",
      "100%|██████████| 80/80 [00:00<00:00, 299.48it/s]\u001b[A\n",
      " 74%|███████▍  | 829/1123 [11:42<04:16,  1.15it/s]"
     ]
    },
    {
     "name": "stdout",
     "output_type": "stream",
     "text": [
      "/home/jiang/projects/SubtleGAN/data/brats2021/train/BraTS2021_00556\n"
     ]
    },
    {
     "name": "stderr",
     "output_type": "stream",
     "text": [
      "\n",
      "  0%|          | 0/80 [00:00<?, ?it/s]\u001b[A\n",
      " 32%|███▎      | 26/80 [00:00<00:00, 249.62it/s]\u001b[A\n",
      " 64%|██████▍   | 51/80 [00:00<00:00, 237.02it/s]\u001b[A\n",
      "100%|██████████| 80/80 [00:00<00:00, 237.56it/s]\u001b[A\n",
      " 74%|███████▍  | 830/1123 [11:43<04:01,  1.21it/s]"
     ]
    },
    {
     "name": "stdout",
     "output_type": "stream",
     "text": [
      "/home/jiang/projects/SubtleGAN/data/brats2021/train/BraTS2021_01373\n"
     ]
    },
    {
     "name": "stderr",
     "output_type": "stream",
     "text": [
      "\n",
      "  0%|          | 0/80 [00:00<?, ?it/s]\u001b[A\n",
      " 32%|███▎      | 26/80 [00:00<00:00, 251.64it/s]\u001b[A\n",
      " 65%|██████▌   | 52/80 [00:00<00:00, 235.07it/s]\u001b[A\n",
      "100%|██████████| 80/80 [00:00<00:00, 236.89it/s]\u001b[A\n",
      " 74%|███████▍  | 831/1123 [11:43<03:55,  1.24it/s]"
     ]
    },
    {
     "name": "stdout",
     "output_type": "stream",
     "text": [
      "/home/jiang/projects/SubtleGAN/data/brats2021/train/BraTS2021_00318\n"
     ]
    },
    {
     "name": "stderr",
     "output_type": "stream",
     "text": [
      "\n",
      "  0%|          | 0/80 [00:00<?, ?it/s]\u001b[A\n",
      " 32%|███▎      | 26/80 [00:00<00:00, 257.18it/s]\u001b[A\n",
      " 65%|██████▌   | 52/80 [00:00<00:00, 248.15it/s]\u001b[A\n",
      "100%|██████████| 80/80 [00:00<00:00, 245.99it/s]\u001b[A\n",
      " 74%|███████▍  | 832/1123 [11:44<03:52,  1.25it/s]"
     ]
    },
    {
     "name": "stdout",
     "output_type": "stream",
     "text": [
      "/home/jiang/projects/SubtleGAN/data/brats2021/train/BraTS2021_01635\n"
     ]
    },
    {
     "name": "stderr",
     "output_type": "stream",
     "text": [
      "\n",
      "  0%|          | 0/80 [00:00<?, ?it/s]\u001b[A\n",
      " 41%|████▏     | 33/80 [00:00<00:00, 327.72it/s]\u001b[A\n",
      "100%|██████████| 80/80 [00:00<00:00, 302.74it/s]\u001b[A\n",
      " 74%|███████▍  | 833/1123 [11:45<04:14,  1.14it/s]"
     ]
    },
    {
     "name": "stdout",
     "output_type": "stream",
     "text": [
      "/home/jiang/projects/SubtleGAN/data/brats2021/train/BraTS2021_01053\n"
     ]
    },
    {
     "name": "stderr",
     "output_type": "stream",
     "text": [
      "\n",
      "  0%|          | 0/80 [00:00<?, ?it/s]\u001b[A\n",
      " 34%|███▍      | 27/80 [00:00<00:00, 269.54it/s]\u001b[A\n",
      " 68%|██████▊   | 54/80 [00:00<00:00, 257.57it/s]\u001b[A\n",
      "100%|██████████| 80/80 [00:00<00:00, 257.00it/s]\u001b[A\n",
      " 74%|███████▍  | 834/1123 [11:46<04:01,  1.20it/s]"
     ]
    },
    {
     "name": "stdout",
     "output_type": "stream",
     "text": [
      "/home/jiang/projects/SubtleGAN/data/brats2021/train/BraTS2021_01126\n"
     ]
    },
    {
     "name": "stderr",
     "output_type": "stream",
     "text": [
      "\n",
      "  0%|          | 0/80 [00:00<?, ?it/s]\u001b[A\n",
      " 32%|███▎      | 26/80 [00:00<00:00, 258.80it/s]\u001b[A\n",
      " 65%|██████▌   | 52/80 [00:00<00:00, 248.50it/s]\u001b[A\n",
      "100%|██████████| 80/80 [00:00<00:00, 241.79it/s]\u001b[A\n",
      " 74%|███████▍  | 835/1123 [11:47<03:55,  1.22it/s]"
     ]
    },
    {
     "name": "stdout",
     "output_type": "stream",
     "text": [
      "/home/jiang/projects/SubtleGAN/data/brats2021/train/BraTS2021_00708\n"
     ]
    },
    {
     "name": "stderr",
     "output_type": "stream",
     "text": [
      "\n",
      "  0%|          | 0/80 [00:00<?, ?it/s]\u001b[A\n",
      " 31%|███▏      | 25/80 [00:00<00:00, 245.41it/s]\u001b[A\n",
      " 62%|██████▎   | 50/80 [00:00<00:00, 245.43it/s]\u001b[A\n",
      "100%|██████████| 80/80 [00:00<00:00, 243.24it/s]\u001b[A\n",
      " 74%|███████▍  | 836/1123 [11:47<03:45,  1.28it/s]"
     ]
    },
    {
     "name": "stdout",
     "output_type": "stream",
     "text": [
      "/home/jiang/projects/SubtleGAN/data/brats2021/train/BraTS2021_01370\n"
     ]
    },
    {
     "name": "stderr",
     "output_type": "stream",
     "text": [
      "\n",
      "  0%|          | 0/80 [00:00<?, ?it/s]\u001b[A\n",
      " 32%|███▎      | 26/80 [00:00<00:00, 258.93it/s]\u001b[A\n",
      " 66%|██████▋   | 53/80 [00:00<00:00, 259.32it/s]\u001b[A\n",
      "100%|██████████| 80/80 [00:00<00:00, 248.76it/s]\u001b[A\n",
      " 75%|███████▍  | 837/1123 [11:48<03:41,  1.29it/s]"
     ]
    },
    {
     "name": "stdout",
     "output_type": "stream",
     "text": [
      "/home/jiang/projects/SubtleGAN/data/brats2021/train/BraTS2021_01593\n"
     ]
    },
    {
     "name": "stderr",
     "output_type": "stream",
     "text": [
      "\n",
      "  0%|          | 0/80 [00:00<?, ?it/s]\u001b[A\n",
      " 39%|███▉      | 31/80 [00:00<00:00, 304.90it/s]\u001b[A\n",
      "100%|██████████| 80/80 [00:00<00:00, 294.44it/s]\u001b[A\n",
      " 75%|███████▍  | 838/1123 [11:49<04:11,  1.13it/s]"
     ]
    },
    {
     "name": "stdout",
     "output_type": "stream",
     "text": [
      "/home/jiang/projects/SubtleGAN/data/brats2021/train/BraTS2021_00081\n"
     ]
    },
    {
     "name": "stderr",
     "output_type": "stream",
     "text": [
      "\n",
      "  0%|          | 0/80 [00:00<?, ?it/s]\u001b[A\n",
      " 28%|██▊       | 22/80 [00:00<00:00, 210.15it/s]\u001b[A\n",
      " 55%|█████▌    | 44/80 [00:00<00:00, 204.38it/s]\u001b[A\n",
      "100%|██████████| 80/80 [00:00<00:00, 189.67it/s]\u001b[A\n",
      " 75%|███████▍  | 839/1123 [11:50<04:00,  1.18it/s]"
     ]
    },
    {
     "name": "stdout",
     "output_type": "stream",
     "text": [
      "/home/jiang/projects/SubtleGAN/data/brats2021/train/BraTS2021_01566\n"
     ]
    },
    {
     "name": "stderr",
     "output_type": "stream",
     "text": [
      "\n",
      "  0%|          | 0/80 [00:00<?, ?it/s]\u001b[A\n",
      " 41%|████▏     | 33/80 [00:00<00:00, 326.67it/s]\u001b[A\n",
      "100%|██████████| 80/80 [00:00<00:00, 317.41it/s]\u001b[A\n",
      " 75%|███████▍  | 840/1123 [11:51<04:14,  1.11it/s]"
     ]
    },
    {
     "name": "stdout",
     "output_type": "stream",
     "text": [
      "/home/jiang/projects/SubtleGAN/data/brats2021/train/BraTS2021_00402\n"
     ]
    },
    {
     "name": "stderr",
     "output_type": "stream",
     "text": [
      "\n",
      "  0%|          | 0/80 [00:00<?, ?it/s]\u001b[A\n",
      " 40%|████      | 32/80 [00:00<00:00, 312.55it/s]\u001b[A\n",
      "100%|██████████| 80/80 [00:00<00:00, 308.98it/s]\u001b[A\n",
      " 75%|███████▍  | 841/1123 [11:52<03:56,  1.19it/s]"
     ]
    },
    {
     "name": "stdout",
     "output_type": "stream",
     "text": [
      "/home/jiang/projects/SubtleGAN/data/brats2021/train/BraTS2021_00641\n"
     ]
    },
    {
     "name": "stderr",
     "output_type": "stream",
     "text": [
      "\n",
      "  0%|          | 0/80 [00:00<?, ?it/s]\u001b[A\n",
      " 40%|████      | 32/80 [00:00<00:00, 316.60it/s]\u001b[A\n",
      "100%|██████████| 80/80 [00:00<00:00, 317.57it/s]\u001b[A\n",
      " 75%|███████▍  | 842/1123 [11:52<03:36,  1.30it/s]"
     ]
    },
    {
     "name": "stdout",
     "output_type": "stream",
     "text": [
      "/home/jiang/projects/SubtleGAN/data/brats2021/train/BraTS2021_00085\n"
     ]
    },
    {
     "name": "stderr",
     "output_type": "stream",
     "text": [
      "\n",
      "  0%|          | 0/80 [00:00<?, ?it/s]\u001b[A\n",
      " 41%|████▏     | 33/80 [00:00<00:00, 324.38it/s]\u001b[A\n",
      "100%|██████████| 80/80 [00:00<00:00, 320.28it/s]\u001b[A\n",
      " 75%|███████▌  | 843/1123 [11:53<03:22,  1.38it/s]"
     ]
    },
    {
     "name": "stdout",
     "output_type": "stream",
     "text": [
      "/home/jiang/projects/SubtleGAN/data/brats2021/train/BraTS2021_00051\n"
     ]
    },
    {
     "name": "stderr",
     "output_type": "stream",
     "text": [
      "\n",
      "  0%|          | 0/80 [00:00<?, ?it/s]\u001b[A\n",
      " 41%|████▏     | 33/80 [00:00<00:00, 321.68it/s]\u001b[A\n",
      "100%|██████████| 80/80 [00:00<00:00, 314.45it/s]\u001b[A\n",
      " 75%|███████▌  | 844/1123 [11:54<03:47,  1.23it/s]"
     ]
    },
    {
     "name": "stdout",
     "output_type": "stream",
     "text": [
      "/home/jiang/projects/SubtleGAN/data/brats2021/train/BraTS2021_01385\n"
     ]
    },
    {
     "name": "stderr",
     "output_type": "stream",
     "text": [
      "\n",
      "  0%|          | 0/80 [00:00<?, ?it/s]\u001b[A\n",
      " 35%|███▌      | 28/80 [00:00<00:00, 270.89it/s]\u001b[A\n",
      "100%|██████████| 80/80 [00:00<00:00, 270.76it/s]\u001b[A\n",
      " 75%|███████▌  | 845/1123 [11:55<03:40,  1.26it/s]"
     ]
    },
    {
     "name": "stdout",
     "output_type": "stream",
     "text": [
      "/home/jiang/projects/SubtleGAN/data/brats2021/train/BraTS2021_01170\n"
     ]
    },
    {
     "name": "stderr",
     "output_type": "stream",
     "text": [
      "\n",
      "  0%|          | 0/80 [00:00<?, ?it/s]\u001b[A\n",
      " 32%|███▎      | 26/80 [00:00<00:00, 254.09it/s]\u001b[A\n",
      " 65%|██████▌   | 52/80 [00:00<00:00, 230.13it/s]\u001b[A\n",
      "100%|██████████| 80/80 [00:00<00:00, 231.70it/s]\u001b[A\n",
      " 75%|███████▌  | 846/1123 [12:04<15:38,  3.39s/it]"
     ]
    },
    {
     "name": "stdout",
     "output_type": "stream",
     "text": [
      "/home/jiang/projects/SubtleGAN/data/brats2021/train/BraTS2021_01420\n"
     ]
    },
    {
     "name": "stderr",
     "output_type": "stream",
     "text": [
      "\n",
      "  0%|          | 0/80 [00:00<?, ?it/s]\u001b[A\n",
      " 30%|███       | 24/80 [00:00<00:00, 231.85it/s]\u001b[A\n",
      " 60%|██████    | 48/80 [00:00<00:00, 235.76it/s]\u001b[A\n",
      "100%|██████████| 80/80 [00:00<00:00, 230.90it/s]\u001b[A\n",
      " 75%|███████▌  | 847/1123 [12:05<12:11,  2.65s/it]"
     ]
    },
    {
     "name": "stdout",
     "output_type": "stream",
     "text": [
      "/home/jiang/projects/SubtleGAN/data/brats2021/train/BraTS2021_00750\n"
     ]
    },
    {
     "name": "stderr",
     "output_type": "stream",
     "text": [
      "\n",
      "  0%|          | 0/80 [00:00<?, ?it/s]\u001b[A\n",
      " 31%|███▏      | 25/80 [00:00<00:00, 247.02it/s]\u001b[A\n",
      " 62%|██████▎   | 50/80 [00:00<00:00, 237.91it/s]\u001b[A\n",
      "100%|██████████| 80/80 [00:00<00:00, 231.21it/s]\u001b[A\n",
      " 76%|███████▌  | 848/1123 [12:06<09:29,  2.07s/it]"
     ]
    },
    {
     "name": "stdout",
     "output_type": "stream",
     "text": [
      "/home/jiang/projects/SubtleGAN/data/brats2021/train/BraTS2021_01627\n"
     ]
    },
    {
     "name": "stderr",
     "output_type": "stream",
     "text": [
      "\n",
      "  0%|          | 0/80 [00:00<?, ?it/s]\u001b[A\n",
      " 38%|███▊      | 30/80 [00:00<00:00, 290.06it/s]\u001b[A\n",
      "100%|██████████| 80/80 [00:00<00:00, 279.30it/s]\u001b[A\n",
      " 76%|███████▌  | 849/1123 [12:07<08:13,  1.80s/it]"
     ]
    },
    {
     "name": "stdout",
     "output_type": "stream",
     "text": [
      "/home/jiang/projects/SubtleGAN/data/brats2021/train/BraTS2021_01001\n"
     ]
    },
    {
     "name": "stderr",
     "output_type": "stream",
     "text": [
      "\n",
      "  0%|          | 0/80 [00:00<?, ?it/s]\u001b[A\n",
      " 30%|███       | 24/80 [00:00<00:00, 233.56it/s]\u001b[A\n",
      " 60%|██████    | 48/80 [00:00<00:00, 219.92it/s]\u001b[A\n",
      "100%|██████████| 80/80 [00:00<00:00, 217.53it/s]\u001b[A\n",
      " 76%|███████▌  | 850/1123 [12:08<06:51,  1.51s/it]"
     ]
    },
    {
     "name": "stdout",
     "output_type": "stream",
     "text": [
      "/home/jiang/projects/SubtleGAN/data/brats2021/train/BraTS2021_01023\n"
     ]
    },
    {
     "name": "stderr",
     "output_type": "stream",
     "text": [
      "\n",
      "  0%|          | 0/80 [00:00<?, ?it/s]\u001b[A\n",
      " 30%|███       | 24/80 [00:00<00:00, 231.85it/s]\u001b[A\n",
      " 60%|██████    | 48/80 [00:00<00:00, 230.36it/s]\u001b[A\n",
      "100%|██████████| 80/80 [00:00<00:00, 231.33it/s]\u001b[A\n",
      " 76%|███████▌  | 851/1123 [12:09<05:51,  1.29s/it]"
     ]
    },
    {
     "name": "stdout",
     "output_type": "stream",
     "text": [
      "/home/jiang/projects/SubtleGAN/data/brats2021/train/BraTS2021_01363\n"
     ]
    },
    {
     "name": "stderr",
     "output_type": "stream",
     "text": [
      "\n",
      "  0%|          | 0/80 [00:00<?, ?it/s]\u001b[A\n",
      " 26%|██▋       | 21/80 [00:00<00:00, 204.38it/s]\u001b[A\n",
      " 52%|█████▎    | 42/80 [00:00<00:00, 186.11it/s]\u001b[A\n",
      " 76%|███████▋  | 61/80 [00:00<00:00, 169.73it/s]\u001b[A\n",
      "100%|██████████| 80/80 [00:00<00:00, 174.25it/s]\u001b[A\n",
      " 76%|███████▌  | 852/1123 [12:10<05:18,  1.17s/it]"
     ]
    },
    {
     "name": "stdout",
     "output_type": "stream",
     "text": [
      "/home/jiang/projects/SubtleGAN/data/brats2021/train/BraTS2021_00694\n"
     ]
    },
    {
     "name": "stderr",
     "output_type": "stream",
     "text": [
      "\n",
      "  0%|          | 0/80 [00:00<?, ?it/s]\u001b[A\n",
      " 21%|██▏       | 17/80 [00:00<00:00, 164.75it/s]\u001b[A\n",
      " 42%|████▎     | 34/80 [00:00<00:00, 161.31it/s]\u001b[A\n",
      " 64%|██████▍   | 51/80 [00:00<00:00, 150.79it/s]\u001b[A\n",
      "100%|██████████| 80/80 [00:00<00:00, 151.68it/s]\u001b[A\n",
      " 76%|███████▌  | 853/1123 [12:10<04:56,  1.10s/it]"
     ]
    },
    {
     "name": "stdout",
     "output_type": "stream",
     "text": [
      "/home/jiang/projects/SubtleGAN/data/brats2021/train/BraTS2021_00501\n"
     ]
    },
    {
     "name": "stderr",
     "output_type": "stream",
     "text": [
      "\n",
      "  0%|          | 0/80 [00:00<?, ?it/s]\u001b[A\n",
      " 14%|█▍        | 11/80 [00:00<00:00, 101.10it/s]\u001b[A\n",
      " 28%|██▊       | 22/80 [00:00<00:00, 105.82it/s]\u001b[A\n",
      " 45%|████▌     | 36/80 [00:00<00:00, 119.86it/s]\u001b[A\n",
      " 64%|██████▍   | 51/80 [00:00<00:00, 128.59it/s]\u001b[A\n",
      "100%|██████████| 80/80 [00:00<00:00, 129.43it/s]\u001b[A\n",
      " 76%|███████▌  | 854/1123 [12:11<04:48,  1.07s/it]"
     ]
    },
    {
     "name": "stdout",
     "output_type": "stream",
     "text": [
      "/home/jiang/projects/SubtleGAN/data/brats2021/train/BraTS2021_01171\n"
     ]
    },
    {
     "name": "stderr",
     "output_type": "stream",
     "text": [
      "\n",
      "  0%|          | 0/80 [00:00<?, ?it/s]\u001b[A\n",
      " 19%|█▉        | 15/80 [00:00<00:00, 142.56it/s]\u001b[A\n",
      " 38%|███▊      | 30/80 [00:00<00:00, 140.77it/s]\u001b[A\n",
      " 57%|█████▊    | 46/80 [00:00<00:00, 146.52it/s]\u001b[A\n",
      " 78%|███████▊  | 62/80 [00:00<00:00, 149.74it/s]\u001b[A\n",
      "100%|██████████| 80/80 [00:00<00:00, 144.71it/s]\u001b[A\n",
      " 76%|███████▌  | 855/1123 [12:12<04:43,  1.06s/it]"
     ]
    },
    {
     "name": "stdout",
     "output_type": "stream",
     "text": [
      "/home/jiang/projects/SubtleGAN/data/brats2021/train/BraTS2021_00429\n"
     ]
    },
    {
     "name": "stderr",
     "output_type": "stream",
     "text": [
      "\n",
      "  0%|          | 0/80 [00:00<?, ?it/s]\u001b[A\n",
      " 19%|█▉        | 15/80 [00:00<00:00, 144.01it/s]\u001b[A\n",
      " 38%|███▊      | 30/80 [00:00<00:00, 139.42it/s]\u001b[A\n",
      " 55%|█████▌    | 44/80 [00:00<00:00, 137.24it/s]\u001b[A\n",
      " 72%|███████▎  | 58/80 [00:00<00:00, 137.41it/s]\u001b[A\n",
      "100%|██████████| 80/80 [00:00<00:00, 138.56it/s]\u001b[A\n",
      " 76%|███████▌  | 856/1123 [12:14<04:42,  1.06s/it]"
     ]
    },
    {
     "name": "stdout",
     "output_type": "stream",
     "text": [
      "/home/jiang/projects/SubtleGAN/data/brats2021/train/BraTS2021_00376\n"
     ]
    },
    {
     "name": "stderr",
     "output_type": "stream",
     "text": [
      "\n",
      "  0%|          | 0/80 [00:00<?, ?it/s]\u001b[A\n",
      " 25%|██▌       | 20/80 [00:00<00:00, 193.03it/s]\u001b[A\n",
      " 50%|█████     | 40/80 [00:00<00:00, 170.84it/s]\u001b[A\n",
      " 72%|███████▎  | 58/80 [00:00<00:00, 157.45it/s]\u001b[A\n",
      "100%|██████████| 80/80 [00:00<00:00, 156.79it/s]\u001b[A\n",
      " 76%|███████▋  | 857/1123 [12:15<04:35,  1.04s/it]"
     ]
    },
    {
     "name": "stdout",
     "output_type": "stream",
     "text": [
      "/home/jiang/projects/SubtleGAN/data/brats2021/train/BraTS2021_00608\n"
     ]
    },
    {
     "name": "stderr",
     "output_type": "stream",
     "text": [
      "\n",
      "  0%|          | 0/80 [00:00<?, ?it/s]\u001b[A\n",
      " 25%|██▌       | 20/80 [00:00<00:00, 196.08it/s]\u001b[A\n",
      " 50%|█████     | 40/80 [00:00<00:00, 176.81it/s]\u001b[A\n",
      " 72%|███████▎  | 58/80 [00:00<00:00, 166.49it/s]\u001b[A\n",
      "100%|██████████| 80/80 [00:00<00:00, 168.04it/s]\u001b[A\n",
      " 76%|███████▋  | 858/1123 [12:15<04:22,  1.01it/s]"
     ]
    },
    {
     "name": "stdout",
     "output_type": "stream",
     "text": [
      "/home/jiang/projects/SubtleGAN/data/brats2021/train/BraTS2021_01486\n"
     ]
    },
    {
     "name": "stderr",
     "output_type": "stream",
     "text": [
      "\n",
      "  0%|          | 0/80 [00:00<?, ?it/s]\u001b[A\n",
      " 22%|██▎       | 18/80 [00:00<00:00, 174.39it/s]\u001b[A\n",
      " 45%|████▌     | 36/80 [00:00<00:00, 164.49it/s]\u001b[A\n",
      " 66%|██████▋   | 53/80 [00:00<00:00, 158.74it/s]\u001b[A\n",
      "100%|██████████| 80/80 [00:00<00:00, 154.10it/s]\u001b[A\n",
      " 76%|███████▋  | 859/1123 [12:16<04:20,  1.01it/s]"
     ]
    },
    {
     "name": "stdout",
     "output_type": "stream",
     "text": [
      "/home/jiang/projects/SubtleGAN/data/brats2021/train/BraTS2021_01265\n"
     ]
    },
    {
     "name": "stderr",
     "output_type": "stream",
     "text": [
      "\n",
      "  0%|          | 0/80 [00:00<?, ?it/s]\u001b[A\n",
      " 24%|██▍       | 19/80 [00:00<00:00, 186.47it/s]\u001b[A\n",
      " 48%|████▊     | 38/80 [00:00<00:00, 156.56it/s]\u001b[A\n",
      " 68%|██████▊   | 54/80 [00:00<00:00, 151.87it/s]\u001b[A\n",
      "100%|██████████| 80/80 [00:00<00:00, 148.94it/s]\u001b[A\n",
      " 77%|███████▋  | 860/1123 [12:17<04:20,  1.01it/s]"
     ]
    },
    {
     "name": "stdout",
     "output_type": "stream",
     "text": [
      "/home/jiang/projects/SubtleGAN/data/brats2021/train/BraTS2021_01135\n"
     ]
    },
    {
     "name": "stderr",
     "output_type": "stream",
     "text": [
      "\n",
      "  0%|          | 0/80 [00:00<?, ?it/s]\u001b[A\n",
      " 20%|██        | 16/80 [00:00<00:00, 151.72it/s]\u001b[A\n",
      " 40%|████      | 32/80 [00:00<00:00, 142.84it/s]\u001b[A\n",
      " 59%|█████▉    | 47/80 [00:00<00:00, 134.42it/s]\u001b[A\n",
      " 76%|███████▋  | 61/80 [00:00<00:00, 132.05it/s]\u001b[A\n",
      "100%|██████████| 80/80 [00:00<00:00, 135.13it/s]\u001b[A\n",
      " 77%|███████▋  | 861/1123 [12:18<04:27,  1.02s/it]"
     ]
    },
    {
     "name": "stdout",
     "output_type": "stream",
     "text": [
      "/home/jiang/projects/SubtleGAN/data/brats2021/train/BraTS2021_01233\n"
     ]
    },
    {
     "name": "stderr",
     "output_type": "stream",
     "text": [
      "\n",
      "  0%|          | 0/80 [00:00<?, ?it/s]\u001b[A\n",
      " 18%|█▊        | 14/80 [00:00<00:00, 132.07it/s]\u001b[A\n",
      " 35%|███▌      | 28/80 [00:00<00:00, 118.56it/s]\u001b[A\n",
      " 50%|█████     | 40/80 [00:00<00:00, 117.30it/s]\u001b[A\n",
      " 68%|██████▊   | 54/80 [00:00<00:00, 125.59it/s]\u001b[A\n",
      "100%|██████████| 80/80 [00:00<00:00, 136.97it/s]\u001b[A\n",
      " 77%|███████▋  | 862/1123 [12:20<04:32,  1.04s/it]"
     ]
    },
    {
     "name": "stdout",
     "output_type": "stream",
     "text": [
      "/home/jiang/projects/SubtleGAN/data/brats2021/train/BraTS2021_01192\n"
     ]
    },
    {
     "name": "stderr",
     "output_type": "stream",
     "text": [
      "\n",
      "  0%|          | 0/80 [00:00<?, ?it/s]\u001b[A\n",
      " 25%|██▌       | 20/80 [00:00<00:00, 189.00it/s]\u001b[A\n",
      " 49%|████▉     | 39/80 [00:00<00:00, 162.11it/s]\u001b[A\n",
      " 70%|███████   | 56/80 [00:00<00:00, 136.06it/s]\u001b[A\n",
      "100%|██████████| 80/80 [00:00<00:00, 138.84it/s]\u001b[A\n",
      " 77%|███████▋  | 863/1123 [12:21<04:30,  1.04s/it]"
     ]
    },
    {
     "name": "stdout",
     "output_type": "stream",
     "text": [
      "/home/jiang/projects/SubtleGAN/data/brats2021/train/BraTS2021_00156\n"
     ]
    },
    {
     "name": "stderr",
     "output_type": "stream",
     "text": [
      "\n",
      "  0%|          | 0/80 [00:00<?, ?it/s]\u001b[A\n",
      " 22%|██▎       | 18/80 [00:00<00:00, 177.12it/s]\u001b[A\n",
      " 46%|████▋     | 37/80 [00:00<00:00, 182.15it/s]\u001b[A\n",
      " 71%|███████▏  | 57/80 [00:00<00:00, 188.40it/s]\u001b[A\n",
      "100%|██████████| 80/80 [00:00<00:00, 191.74it/s]\u001b[A\n",
      " 77%|███████▋  | 864/1123 [12:21<04:18,  1.00it/s]"
     ]
    },
    {
     "name": "stdout",
     "output_type": "stream",
     "text": [
      "/home/jiang/projects/SubtleGAN/data/brats2021/train/BraTS2021_00792\n"
     ]
    },
    {
     "name": "stderr",
     "output_type": "stream",
     "text": [
      "\n",
      "  0%|          | 0/80 [00:00<?, ?it/s]\u001b[A\n",
      " 36%|███▋      | 29/80 [00:00<00:00, 282.16it/s]\u001b[A\n",
      "100%|██████████| 80/80 [00:00<00:00, 261.39it/s]\u001b[A\n",
      " 77%|███████▋  | 865/1123 [12:23<04:46,  1.11s/it]"
     ]
    },
    {
     "name": "stdout",
     "output_type": "stream",
     "text": [
      "/home/jiang/projects/SubtleGAN/data/brats2021/train/BraTS2021_00178\n"
     ]
    },
    {
     "name": "stderr",
     "output_type": "stream",
     "text": [
      "\n",
      "  0%|          | 0/80 [00:00<?, ?it/s]\u001b[A\n",
      " 25%|██▌       | 20/80 [00:00<00:00, 192.54it/s]\u001b[A\n",
      " 50%|█████     | 40/80 [00:00<00:00, 185.63it/s]\u001b[A\n",
      "100%|██████████| 80/80 [00:00<00:00, 189.29it/s]\u001b[A\n",
      " 77%|███████▋  | 866/1123 [12:24<04:29,  1.05s/it]"
     ]
    },
    {
     "name": "stdout",
     "output_type": "stream",
     "text": [
      "/home/jiang/projects/SubtleGAN/data/brats2021/train/BraTS2021_01374\n"
     ]
    },
    {
     "name": "stderr",
     "output_type": "stream",
     "text": [
      "\n",
      "  0%|          | 0/80 [00:00<?, ?it/s]\u001b[A\n",
      " 28%|██▊       | 22/80 [00:00<00:00, 216.77it/s]\u001b[A\n",
      " 55%|█████▌    | 44/80 [00:00<00:00, 190.70it/s]\u001b[A\n",
      "100%|██████████| 80/80 [00:00<00:00, 166.40it/s]\u001b[A\n",
      " 77%|███████▋  | 867/1123 [12:25<04:19,  1.01s/it]"
     ]
    },
    {
     "name": "stdout",
     "output_type": "stream",
     "text": [
      "/home/jiang/projects/SubtleGAN/data/brats2021/train/BraTS2021_00071\n"
     ]
    },
    {
     "name": "stderr",
     "output_type": "stream",
     "text": [
      "\n",
      "  0%|          | 0/80 [00:00<?, ?it/s]\u001b[A\n",
      " 21%|██▏       | 17/80 [00:00<00:00, 160.78it/s]\u001b[A\n",
      " 42%|████▎     | 34/80 [00:00<00:00, 159.91it/s]\u001b[A\n",
      " 65%|██████▌   | 52/80 [00:00<00:00, 163.65it/s]\u001b[A\n",
      "100%|██████████| 80/80 [00:00<00:00, 157.18it/s]\u001b[A\n",
      " 77%|███████▋  | 868/1123 [12:26<04:13,  1.01it/s]"
     ]
    },
    {
     "name": "stdout",
     "output_type": "stream",
     "text": [
      "/home/jiang/projects/SubtleGAN/data/brats2021/train/BraTS2021_00549\n"
     ]
    },
    {
     "name": "stderr",
     "output_type": "stream",
     "text": [
      "\n",
      "  0%|          | 0/80 [00:00<?, ?it/s]\u001b[A\n",
      " 19%|█▉        | 15/80 [00:00<00:00, 148.84it/s]\u001b[A\n",
      " 38%|███▊      | 30/80 [00:00<00:00, 133.86it/s]\u001b[A\n",
      " 57%|█████▊    | 46/80 [00:00<00:00, 143.47it/s]\u001b[A\n",
      "100%|██████████| 80/80 [00:00<00:00, 152.90it/s]\u001b[A\n",
      " 77%|███████▋  | 869/1123 [12:27<04:07,  1.03it/s]"
     ]
    },
    {
     "name": "stdout",
     "output_type": "stream",
     "text": [
      "/home/jiang/projects/SubtleGAN/data/brats2021/train/BraTS2021_00199\n"
     ]
    },
    {
     "name": "stderr",
     "output_type": "stream",
     "text": [
      "\n",
      "  0%|          | 0/80 [00:00<?, ?it/s]\u001b[A\n",
      " 29%|██▉       | 23/80 [00:00<00:00, 220.85it/s]\u001b[A\n",
      " 57%|█████▊    | 46/80 [00:00<00:00, 220.95it/s]\u001b[A\n",
      "100%|██████████| 80/80 [00:00<00:00, 217.39it/s]\u001b[A\n",
      " 77%|███████▋  | 870/1123 [12:27<03:55,  1.08it/s]"
     ]
    },
    {
     "name": "stdout",
     "output_type": "stream",
     "text": [
      "/home/jiang/projects/SubtleGAN/data/brats2021/train/BraTS2021_00580\n"
     ]
    },
    {
     "name": "stderr",
     "output_type": "stream",
     "text": [
      "\n",
      "  0%|          | 0/80 [00:00<?, ?it/s]\u001b[A\n",
      " 36%|███▋      | 29/80 [00:00<00:00, 283.35it/s]\u001b[A\n",
      "100%|██████████| 80/80 [00:00<00:00, 258.07it/s]\u001b[A\n",
      " 78%|███████▊  | 871/1123 [12:29<04:23,  1.04s/it]"
     ]
    },
    {
     "name": "stdout",
     "output_type": "stream",
     "text": [
      "/home/jiang/projects/SubtleGAN/data/brats2021/train/BraTS2021_00054\n"
     ]
    },
    {
     "name": "stderr",
     "output_type": "stream",
     "text": [
      "\n",
      "  0%|          | 0/80 [00:00<?, ?it/s]\u001b[A\n",
      " 22%|██▎       | 18/80 [00:00<00:00, 175.33it/s]\u001b[A\n",
      " 46%|████▋     | 37/80 [00:00<00:00, 181.45it/s]\u001b[A\n",
      " 70%|███████   | 56/80 [00:00<00:00, 172.58it/s]\u001b[A\n",
      "100%|██████████| 80/80 [00:00<00:00, 174.21it/s]\u001b[A\n",
      " 78%|███████▊  | 872/1123 [12:30<04:06,  1.02it/s]"
     ]
    },
    {
     "name": "stdout",
     "output_type": "stream",
     "text": [
      "/home/jiang/projects/SubtleGAN/data/brats2021/train/BraTS2021_01028\n"
     ]
    },
    {
     "name": "stderr",
     "output_type": "stream",
     "text": [
      "\n",
      "  0%|          | 0/80 [00:00<?, ?it/s]\u001b[A\n",
      " 26%|██▋       | 21/80 [00:00<00:00, 201.42it/s]\u001b[A\n",
      " 52%|█████▎    | 42/80 [00:00<00:00, 187.27it/s]\u001b[A\n",
      "100%|██████████| 80/80 [00:00<00:00, 194.07it/s]\u001b[A\n",
      " 78%|███████▊  | 873/1123 [12:30<03:50,  1.08it/s]"
     ]
    },
    {
     "name": "stdout",
     "output_type": "stream",
     "text": [
      "/home/jiang/projects/SubtleGAN/data/brats2021/train/BraTS2021_00803\n"
     ]
    },
    {
     "name": "stderr",
     "output_type": "stream",
     "text": [
      "\n",
      "  0%|          | 0/80 [00:00<?, ?it/s]\u001b[A\n",
      " 38%|███▊      | 30/80 [00:00<00:00, 298.90it/s]\u001b[A\n",
      "100%|██████████| 80/80 [00:00<00:00, 274.66it/s]\u001b[A\n",
      " 78%|███████▊  | 874/1123 [12:32<04:15,  1.03s/it]"
     ]
    },
    {
     "name": "stdout",
     "output_type": "stream",
     "text": [
      "/home/jiang/projects/SubtleGAN/data/brats2021/train/BraTS2021_01450\n"
     ]
    },
    {
     "name": "stderr",
     "output_type": "stream",
     "text": [
      "\n",
      "  0%|          | 0/80 [00:00<?, ?it/s]\u001b[A\n",
      " 24%|██▍       | 19/80 [00:00<00:00, 186.23it/s]\u001b[A\n",
      " 48%|████▊     | 38/80 [00:00<00:00, 175.62it/s]\u001b[A\n",
      " 70%|███████   | 56/80 [00:00<00:00, 173.10it/s]\u001b[A\n",
      "100%|██████████| 80/80 [00:00<00:00, 171.27it/s]\u001b[A\n",
      " 78%|███████▊  | 875/1123 [12:33<04:09,  1.01s/it]"
     ]
    },
    {
     "name": "stdout",
     "output_type": "stream",
     "text": [
      "/home/jiang/projects/SubtleGAN/data/brats2021/train/BraTS2021_01342\n"
     ]
    },
    {
     "name": "stderr",
     "output_type": "stream",
     "text": [
      "\n",
      "  0%|          | 0/80 [00:00<?, ?it/s]\u001b[A\n",
      " 24%|██▍       | 19/80 [00:00<00:00, 186.63it/s]\u001b[A\n",
      " 48%|████▊     | 38/80 [00:00<00:00, 171.37it/s]\u001b[A\n",
      " 70%|███████   | 56/80 [00:00<00:00, 162.65it/s]\u001b[A\n",
      "100%|██████████| 80/80 [00:00<00:00, 158.11it/s]\u001b[A\n",
      " 78%|███████▊  | 876/1123 [12:34<04:06,  1.00it/s]"
     ]
    },
    {
     "name": "stdout",
     "output_type": "stream",
     "text": [
      "/home/jiang/projects/SubtleGAN/data/brats2021/train/BraTS2021_01065\n"
     ]
    },
    {
     "name": "stderr",
     "output_type": "stream",
     "text": [
      "\n",
      "  0%|          | 0/80 [00:00<?, ?it/s]\u001b[A\n",
      " 18%|█▊        | 14/80 [00:00<00:00, 133.83it/s]\u001b[A\n",
      " 35%|███▌      | 28/80 [00:00<00:00, 130.11it/s]\u001b[A\n",
      " 52%|█████▎    | 42/80 [00:00<00:00, 127.91it/s]\u001b[A\n",
      " 69%|██████▉   | 55/80 [00:00<00:00, 124.51it/s]\u001b[A\n",
      "100%|██████████| 80/80 [00:00<00:00, 124.91it/s]\u001b[A\n",
      " 78%|███████▊  | 877/1123 [12:35<04:15,  1.04s/it]"
     ]
    },
    {
     "name": "stdout",
     "output_type": "stream",
     "text": [
      "/home/jiang/projects/SubtleGAN/data/brats2021/train/BraTS2021_00100\n"
     ]
    },
    {
     "name": "stderr",
     "output_type": "stream",
     "text": [
      "\n",
      "  0%|          | 0/80 [00:00<?, ?it/s]\u001b[A\n",
      " 30%|███       | 24/80 [00:00<00:00, 231.96it/s]\u001b[A\n",
      " 60%|██████    | 48/80 [00:00<00:00, 205.05it/s]\u001b[A\n",
      "100%|██████████| 80/80 [00:00<00:00, 201.08it/s]\u001b[A\n",
      " 78%|███████▊  | 878/1123 [12:36<04:01,  1.02it/s]"
     ]
    },
    {
     "name": "stdout",
     "output_type": "stream",
     "text": [
      "/home/jiang/projects/SubtleGAN/data/brats2021/train/BraTS2021_01459\n"
     ]
    },
    {
     "name": "stderr",
     "output_type": "stream",
     "text": [
      "\n",
      "  0%|          | 0/80 [00:00<?, ?it/s]\u001b[A\n",
      " 20%|██        | 16/80 [00:00<00:00, 151.71it/s]\u001b[A\n",
      " 40%|████      | 32/80 [00:00<00:00, 135.76it/s]\u001b[A\n",
      " 61%|██████▏   | 49/80 [00:00<00:00, 146.64it/s]\u001b[A\n",
      " 80%|████████  | 64/80 [00:00<00:00, 138.54it/s]\u001b[A\n",
      "100%|██████████| 80/80 [00:00<00:00, 134.40it/s]\u001b[A\n",
      " 78%|███████▊  | 879/1123 [12:37<04:05,  1.01s/it]"
     ]
    },
    {
     "name": "stdout",
     "output_type": "stream",
     "text": [
      "/home/jiang/projects/SubtleGAN/data/brats2021/train/BraTS2021_01166\n"
     ]
    },
    {
     "name": "stderr",
     "output_type": "stream",
     "text": [
      "\n",
      "  0%|          | 0/80 [00:00<?, ?it/s]\u001b[A\n",
      " 20%|██        | 16/80 [00:00<00:00, 157.95it/s]\u001b[A\n",
      " 40%|████      | 32/80 [00:00<00:00, 152.55it/s]\u001b[A\n",
      " 60%|██████    | 48/80 [00:00<00:00, 149.99it/s]\u001b[A\n",
      "100%|██████████| 80/80 [00:00<00:00, 167.75it/s]\u001b[A\n",
      " 78%|███████▊  | 880/1123 [12:38<04:01,  1.01it/s]"
     ]
    },
    {
     "name": "stdout",
     "output_type": "stream",
     "text": [
      "/home/jiang/projects/SubtleGAN/data/brats2021/train/BraTS2021_00540\n"
     ]
    },
    {
     "name": "stderr",
     "output_type": "stream",
     "text": [
      "\n",
      "  0%|          | 0/80 [00:00<?, ?it/s]\u001b[A\n",
      " 29%|██▉       | 23/80 [00:00<00:00, 220.60it/s]\u001b[A\n",
      " 57%|█████▊    | 46/80 [00:00<00:00, 199.64it/s]\u001b[A\n",
      "100%|██████████| 80/80 [00:00<00:00, 198.73it/s]\u001b[A\n",
      " 78%|███████▊  | 881/1123 [12:38<03:44,  1.08it/s]"
     ]
    },
    {
     "name": "stdout",
     "output_type": "stream",
     "text": [
      "/home/jiang/projects/SubtleGAN/data/brats2021/train/BraTS2021_01472\n"
     ]
    },
    {
     "name": "stderr",
     "output_type": "stream",
     "text": [
      "\n",
      "  0%|          | 0/80 [00:00<?, ?it/s]\u001b[A\n",
      " 26%|██▋       | 21/80 [00:00<00:00, 201.59it/s]\u001b[A\n",
      " 52%|█████▎    | 42/80 [00:00<00:00, 204.88it/s]\u001b[A\n",
      "100%|██████████| 80/80 [00:00<00:00, 186.45it/s]\u001b[A\n",
      " 79%|███████▊  | 882/1123 [12:39<03:47,  1.06it/s]"
     ]
    },
    {
     "name": "stdout",
     "output_type": "stream",
     "text": [
      "/home/jiang/projects/SubtleGAN/data/brats2021/train/BraTS2021_01637\n"
     ]
    },
    {
     "name": "stderr",
     "output_type": "stream",
     "text": [
      "\n",
      "  0%|          | 0/80 [00:00<?, ?it/s]\u001b[A\n",
      " 35%|███▌      | 28/80 [00:00<00:00, 278.25it/s]\u001b[A\n",
      "100%|██████████| 80/80 [00:00<00:00, 227.53it/s]\u001b[A\n",
      " 79%|███████▊  | 883/1123 [12:41<04:30,  1.13s/it]"
     ]
    },
    {
     "name": "stdout",
     "output_type": "stream",
     "text": [
      "/home/jiang/projects/SubtleGAN/data/brats2021/train/BraTS2021_00249\n"
     ]
    },
    {
     "name": "stderr",
     "output_type": "stream",
     "text": [
      "\n",
      "  0%|          | 0/80 [00:00<?, ?it/s]\u001b[A\n",
      " 21%|██▏       | 17/80 [00:00<00:00, 167.95it/s]\u001b[A\n",
      " 42%|████▎     | 34/80 [00:00<00:00, 168.97it/s]\u001b[A\n",
      " 66%|██████▋   | 53/80 [00:00<00:00, 177.68it/s]\u001b[A\n",
      "100%|██████████| 80/80 [00:00<00:00, 170.87it/s]\u001b[A\n",
      " 79%|███████▊  | 884/1123 [12:42<04:17,  1.08s/it]"
     ]
    },
    {
     "name": "stdout",
     "output_type": "stream",
     "text": [
      "/home/jiang/projects/SubtleGAN/data/brats2021/train/BraTS2021_01427\n"
     ]
    },
    {
     "name": "stderr",
     "output_type": "stream",
     "text": [
      "\n",
      "  0%|          | 0/80 [00:00<?, ?it/s]\u001b[A\n",
      " 19%|█▉        | 15/80 [00:00<00:00, 144.88it/s]\u001b[A\n",
      " 40%|████      | 32/80 [00:00<00:00, 156.36it/s]\u001b[A\n",
      " 60%|██████    | 48/80 [00:00<00:00, 156.92it/s]\u001b[A\n",
      "100%|██████████| 80/80 [00:00<00:00, 164.13it/s]\u001b[A\n",
      " 79%|███████▉  | 885/1123 [12:43<04:05,  1.03s/it]"
     ]
    },
    {
     "name": "stdout",
     "output_type": "stream",
     "text": [
      "/home/jiang/projects/SubtleGAN/data/brats2021/train/BraTS2021_00455\n"
     ]
    },
    {
     "name": "stderr",
     "output_type": "stream",
     "text": [
      "\n",
      "  0%|          | 0/80 [00:00<?, ?it/s]\u001b[A\n",
      " 26%|██▋       | 21/80 [00:00<00:00, 208.66it/s]\u001b[A\n",
      " 52%|█████▎    | 42/80 [00:00<00:00, 189.98it/s]\u001b[A\n",
      "100%|██████████| 80/80 [00:00<00:00, 202.18it/s]\u001b[A\n",
      " 79%|███████▉  | 886/1123 [12:44<03:51,  1.02it/s]"
     ]
    },
    {
     "name": "stdout",
     "output_type": "stream",
     "text": [
      "/home/jiang/projects/SubtleGAN/data/brats2021/train/BraTS2021_01124\n"
     ]
    },
    {
     "name": "stderr",
     "output_type": "stream",
     "text": [
      "\n",
      "  0%|          | 0/80 [00:00<?, ?it/s]\u001b[A\n",
      " 30%|███       | 24/80 [00:00<00:00, 233.40it/s]\u001b[A\n",
      " 60%|██████    | 48/80 [00:00<00:00, 228.23it/s]\u001b[A\n",
      "100%|██████████| 80/80 [00:00<00:00, 223.05it/s]\u001b[A\n",
      " 79%|███████▉  | 887/1123 [12:44<03:38,  1.08it/s]"
     ]
    },
    {
     "name": "stdout",
     "output_type": "stream",
     "text": [
      "/home/jiang/projects/SubtleGAN/data/brats2021/train/BraTS2021_00505\n"
     ]
    },
    {
     "name": "stderr",
     "output_type": "stream",
     "text": [
      "\n",
      "  0%|          | 0/80 [00:00<?, ?it/s]\u001b[A\n",
      " 29%|██▉       | 23/80 [00:00<00:00, 228.57it/s]\u001b[A\n",
      " 57%|█████▊    | 46/80 [00:00<00:00, 224.85it/s]\u001b[A\n",
      "100%|██████████| 80/80 [00:00<00:00, 219.77it/s]\u001b[A\n",
      " 79%|███████▉  | 888/1123 [12:45<03:23,  1.15it/s]"
     ]
    },
    {
     "name": "stdout",
     "output_type": "stream",
     "text": [
      "/home/jiang/projects/SubtleGAN/data/brats2021/train/BraTS2021_00736\n"
     ]
    },
    {
     "name": "stderr",
     "output_type": "stream",
     "text": [
      "\n",
      "  0%|          | 0/80 [00:00<?, ?it/s]\u001b[A\n",
      " 29%|██▉       | 23/80 [00:00<00:00, 228.13it/s]\u001b[A\n",
      " 57%|█████▊    | 46/80 [00:00<00:00, 223.48it/s]\u001b[A\n",
      "100%|██████████| 80/80 [00:00<00:00, 223.55it/s]\u001b[A\n",
      " 79%|███████▉  | 889/1123 [12:46<03:12,  1.21it/s]"
     ]
    },
    {
     "name": "stdout",
     "output_type": "stream",
     "text": [
      "/home/jiang/projects/SubtleGAN/data/brats2021/train/BraTS2021_00788\n"
     ]
    },
    {
     "name": "stderr",
     "output_type": "stream",
     "text": [
      "\n",
      "  0%|          | 0/80 [00:00<?, ?it/s]\u001b[A\n",
      " 36%|███▋      | 29/80 [00:00<00:00, 289.72it/s]\u001b[A\n",
      "100%|██████████| 80/80 [00:00<00:00, 265.57it/s]\u001b[A\n",
      " 79%|███████▉  | 890/1123 [12:47<03:41,  1.05it/s]"
     ]
    },
    {
     "name": "stdout",
     "output_type": "stream",
     "text": [
      "/home/jiang/projects/SubtleGAN/data/brats2021/train/BraTS2021_01423\n"
     ]
    },
    {
     "name": "stderr",
     "output_type": "stream",
     "text": [
      "\n",
      "  0%|          | 0/80 [00:00<?, ?it/s]\u001b[A\n",
      " 26%|██▋       | 21/80 [00:00<00:00, 207.62it/s]\u001b[A\n",
      " 52%|█████▎    | 42/80 [00:00<00:00, 197.64it/s]\u001b[A\n",
      "100%|██████████| 80/80 [00:00<00:00, 201.42it/s]\u001b[A\n",
      " 79%|███████▉  | 891/1123 [12:48<03:33,  1.08it/s]"
     ]
    },
    {
     "name": "stdout",
     "output_type": "stream",
     "text": [
      "/home/jiang/projects/SubtleGAN/data/brats2021/train/BraTS2021_01469\n"
     ]
    },
    {
     "name": "stderr",
     "output_type": "stream",
     "text": [
      "\n",
      "  0%|          | 0/80 [00:00<?, ?it/s]\u001b[A\n",
      " 26%|██▋       | 21/80 [00:00<00:00, 205.61it/s]\u001b[A\n",
      " 54%|█████▍    | 43/80 [00:00<00:00, 209.41it/s]\u001b[A\n",
      "100%|██████████| 80/80 [00:00<00:00, 197.24it/s]\u001b[A\n",
      " 79%|███████▉  | 892/1123 [12:49<03:27,  1.11it/s]"
     ]
    },
    {
     "name": "stdout",
     "output_type": "stream",
     "text": [
      "/home/jiang/projects/SubtleGAN/data/brats2021/train/BraTS2021_00338\n"
     ]
    },
    {
     "name": "stderr",
     "output_type": "stream",
     "text": [
      "\n",
      "  0%|          | 0/80 [00:00<?, ?it/s]\u001b[A\n",
      " 19%|█▉        | 15/80 [00:00<00:00, 149.64it/s]\u001b[A\n",
      " 38%|███▊      | 30/80 [00:00<00:00, 139.42it/s]\u001b[A\n",
      " 55%|█████▌    | 44/80 [00:00<00:00, 135.76it/s]\u001b[A\n",
      " 72%|███████▎  | 58/80 [00:00<00:00, 135.95it/s]\u001b[A\n",
      "100%|██████████| 80/80 [00:00<00:00, 143.87it/s]\u001b[A\n",
      " 80%|███████▉  | 893/1123 [12:50<03:36,  1.06it/s]"
     ]
    },
    {
     "name": "stdout",
     "output_type": "stream",
     "text": [
      "/home/jiang/projects/SubtleGAN/data/brats2021/train/BraTS2021_00106\n"
     ]
    },
    {
     "name": "stderr",
     "output_type": "stream",
     "text": [
      "\n",
      "  0%|          | 0/80 [00:00<?, ?it/s]\u001b[A\n",
      " 30%|███       | 24/80 [00:00<00:00, 232.13it/s]\u001b[A\n",
      " 60%|██████    | 48/80 [00:00<00:00, 227.96it/s]\u001b[A\n",
      "100%|██████████| 80/80 [00:00<00:00, 225.38it/s]\u001b[A\n",
      " 80%|███████▉  | 894/1123 [12:51<03:26,  1.11it/s]"
     ]
    },
    {
     "name": "stdout",
     "output_type": "stream",
     "text": [
      "/home/jiang/projects/SubtleGAN/data/brats2021/train/BraTS2021_01445\n"
     ]
    },
    {
     "name": "stderr",
     "output_type": "stream",
     "text": [
      "\n",
      "  0%|          | 0/80 [00:00<?, ?it/s]\u001b[A\n",
      " 35%|███▌      | 28/80 [00:00<00:00, 277.51it/s]\u001b[A\n",
      "100%|██████████| 80/80 [00:00<00:00, 277.14it/s]\u001b[A\n",
      " 80%|███████▉  | 895/1123 [12:51<03:12,  1.18it/s]"
     ]
    },
    {
     "name": "stdout",
     "output_type": "stream",
     "text": [
      "/home/jiang/projects/SubtleGAN/data/brats2021/train/BraTS2021_01191\n"
     ]
    },
    {
     "name": "stderr",
     "output_type": "stream",
     "text": [
      "\n",
      "  0%|          | 0/80 [00:00<?, ?it/s]\u001b[A\n",
      " 36%|███▋      | 29/80 [00:00<00:00, 282.99it/s]\u001b[A\n",
      "100%|██████████| 80/80 [00:00<00:00, 281.54it/s]\u001b[A\n",
      " 80%|███████▉  | 896/1123 [12:52<03:02,  1.24it/s]"
     ]
    },
    {
     "name": "stdout",
     "output_type": "stream",
     "text": [
      "/home/jiang/projects/SubtleGAN/data/brats2021/train/BraTS2021_01223\n"
     ]
    },
    {
     "name": "stderr",
     "output_type": "stream",
     "text": [
      "\n",
      "  0%|          | 0/80 [00:00<?, ?it/s]\u001b[A\n",
      " 35%|███▌      | 28/80 [00:00<00:00, 272.34it/s]\u001b[A\n",
      "100%|██████████| 80/80 [00:00<00:00, 278.17it/s]\u001b[A\n",
      " 80%|███████▉  | 897/1123 [12:53<02:56,  1.28it/s]"
     ]
    },
    {
     "name": "stdout",
     "output_type": "stream",
     "text": [
      "/home/jiang/projects/SubtleGAN/data/brats2021/train/BraTS2021_01279\n"
     ]
    },
    {
     "name": "stderr",
     "output_type": "stream",
     "text": [
      "\n",
      "  0%|          | 0/80 [00:00<?, ?it/s]\u001b[A\n",
      " 34%|███▍      | 27/80 [00:00<00:00, 265.23it/s]\u001b[A\n",
      "100%|██████████| 80/80 [00:00<00:00, 266.90it/s]\u001b[A\n",
      " 80%|███████▉  | 898/1123 [12:54<02:52,  1.30it/s]"
     ]
    },
    {
     "name": "stdout",
     "output_type": "stream",
     "text": [
      "/home/jiang/projects/SubtleGAN/data/brats2021/train/BraTS2021_01380\n"
     ]
    },
    {
     "name": "stderr",
     "output_type": "stream",
     "text": [
      "\n",
      "  0%|          | 0/80 [00:00<?, ?it/s]\u001b[A\n",
      " 32%|███▎      | 26/80 [00:00<00:00, 253.97it/s]\u001b[A\n",
      " 65%|██████▌   | 52/80 [00:00<00:00, 245.19it/s]\u001b[A\n",
      "100%|██████████| 80/80 [00:00<00:00, 243.66it/s]\u001b[A\n",
      " 80%|████████  | 899/1123 [12:54<02:52,  1.30it/s]"
     ]
    },
    {
     "name": "stdout",
     "output_type": "stream",
     "text": [
      "/home/jiang/projects/SubtleGAN/data/brats2021/train/BraTS2021_01606\n"
     ]
    },
    {
     "name": "stderr",
     "output_type": "stream",
     "text": [
      "\n",
      "  0%|          | 0/80 [00:00<?, ?it/s]\u001b[A\n",
      " 39%|███▉      | 31/80 [00:00<00:00, 303.15it/s]\u001b[A\n",
      "100%|██████████| 80/80 [00:00<00:00, 291.36it/s]\u001b[A\n",
      " 80%|████████  | 900/1123 [12:55<03:14,  1.14it/s]"
     ]
    },
    {
     "name": "stdout",
     "output_type": "stream",
     "text": [
      "/home/jiang/projects/SubtleGAN/data/brats2021/train/BraTS2021_00356\n"
     ]
    },
    {
     "name": "stderr",
     "output_type": "stream",
     "text": [
      "\n",
      "  0%|          | 0/80 [00:00<?, ?it/s]\u001b[A\n",
      " 31%|███▏      | 25/80 [00:00<00:00, 246.44it/s]\u001b[A\n",
      " 64%|██████▍   | 51/80 [00:00<00:00, 249.41it/s]\u001b[A\n",
      "100%|██████████| 80/80 [00:00<00:00, 243.39it/s]\u001b[A\n",
      " 80%|████████  | 901/1123 [12:56<03:06,  1.19it/s]"
     ]
    },
    {
     "name": "stdout",
     "output_type": "stream",
     "text": [
      "/home/jiang/projects/SubtleGAN/data/brats2021/train/BraTS2021_01329\n"
     ]
    },
    {
     "name": "stderr",
     "output_type": "stream",
     "text": [
      "\n",
      "  0%|          | 0/80 [00:00<?, ?it/s]\u001b[A\n",
      " 30%|███       | 24/80 [00:00<00:00, 235.43it/s]\u001b[A\n",
      " 60%|██████    | 48/80 [00:00<00:00, 231.43it/s]\u001b[A\n",
      "100%|██████████| 80/80 [00:00<00:00, 227.35it/s]\u001b[A\n",
      " 80%|████████  | 902/1123 [12:57<03:03,  1.21it/s]"
     ]
    },
    {
     "name": "stdout",
     "output_type": "stream",
     "text": [
      "/home/jiang/projects/SubtleGAN/data/brats2021/train/BraTS2021_00209\n"
     ]
    },
    {
     "name": "stderr",
     "output_type": "stream",
     "text": [
      "\n",
      "  0%|          | 0/80 [00:00<?, ?it/s]\u001b[A\n",
      " 31%|███▏      | 25/80 [00:00<00:00, 248.72it/s]\u001b[A\n",
      " 62%|██████▎   | 50/80 [00:00<00:00, 243.64it/s]\u001b[A\n",
      "100%|██████████| 80/80 [00:00<00:00, 241.64it/s]\u001b[A\n",
      " 80%|████████  | 903/1123 [12:58<03:00,  1.22it/s]"
     ]
    },
    {
     "name": "stdout",
     "output_type": "stream",
     "text": [
      "/home/jiang/projects/SubtleGAN/data/brats2021/train/BraTS2021_00328\n"
     ]
    },
    {
     "name": "stderr",
     "output_type": "stream",
     "text": [
      "\n",
      "  0%|          | 0/80 [00:00<?, ?it/s]\u001b[A\n",
      " 30%|███       | 24/80 [00:00<00:00, 233.24it/s]\u001b[A\n",
      " 60%|██████    | 48/80 [00:00<00:00, 226.61it/s]\u001b[A\n",
      "100%|██████████| 80/80 [00:00<00:00, 225.05it/s]\u001b[A\n",
      " 80%|████████  | 904/1123 [12:59<02:58,  1.23it/s]"
     ]
    },
    {
     "name": "stdout",
     "output_type": "stream",
     "text": [
      "/home/jiang/projects/SubtleGAN/data/brats2021/train/BraTS2021_01033\n"
     ]
    },
    {
     "name": "stderr",
     "output_type": "stream",
     "text": [
      "\n",
      "  0%|          | 0/80 [00:00<?, ?it/s]\u001b[A\n",
      " 31%|███▏      | 25/80 [00:00<00:00, 242.64it/s]\u001b[A\n",
      " 62%|██████▎   | 50/80 [00:00<00:00, 241.45it/s]\u001b[A\n",
      "100%|██████████| 80/80 [00:00<00:00, 238.97it/s]\u001b[A\n",
      " 81%|████████  | 905/1123 [12:59<02:55,  1.24it/s]"
     ]
    },
    {
     "name": "stdout",
     "output_type": "stream",
     "text": [
      "/home/jiang/projects/SubtleGAN/data/brats2021/train/BraTS2021_01596\n"
     ]
    },
    {
     "name": "stderr",
     "output_type": "stream",
     "text": [
      "\n",
      "  0%|          | 0/80 [00:00<?, ?it/s]\u001b[A\n",
      " 39%|███▉      | 31/80 [00:00<00:00, 301.92it/s]\u001b[A\n",
      "100%|██████████| 80/80 [00:00<00:00, 292.04it/s]\u001b[A\n",
      " 81%|████████  | 906/1123 [13:01<03:15,  1.11it/s]"
     ]
    },
    {
     "name": "stdout",
     "output_type": "stream",
     "text": [
      "/home/jiang/projects/SubtleGAN/data/brats2021/train/BraTS2021_01319\n"
     ]
    },
    {
     "name": "stderr",
     "output_type": "stream",
     "text": [
      "\n",
      "  0%|          | 0/80 [00:00<?, ?it/s]\u001b[A\n",
      " 32%|███▎      | 26/80 [00:00<00:00, 256.45it/s]\u001b[A\n",
      " 65%|██████▌   | 52/80 [00:00<00:00, 255.77it/s]\u001b[A\n",
      "100%|██████████| 80/80 [00:00<00:00, 248.00it/s]\u001b[A\n",
      " 81%|████████  | 907/1123 [13:01<03:04,  1.17it/s]"
     ]
    },
    {
     "name": "stdout",
     "output_type": "stream",
     "text": [
      "/home/jiang/projects/SubtleGAN/data/brats2021/train/BraTS2021_00151\n"
     ]
    },
    {
     "name": "stderr",
     "output_type": "stream",
     "text": [
      "\n",
      "  0%|          | 0/80 [00:00<?, ?it/s]\u001b[A\n",
      " 32%|███▎      | 26/80 [00:00<00:00, 256.39it/s]\u001b[A\n",
      " 65%|██████▌   | 52/80 [00:00<00:00, 251.64it/s]\u001b[A\n",
      "100%|██████████| 80/80 [00:00<00:00, 247.75it/s]\u001b[A\n",
      " 81%|████████  | 908/1123 [13:02<02:57,  1.21it/s]"
     ]
    },
    {
     "name": "stdout",
     "output_type": "stream",
     "text": [
      "/home/jiang/projects/SubtleGAN/data/brats2021/train/BraTS2021_01044\n"
     ]
    },
    {
     "name": "stderr",
     "output_type": "stream",
     "text": [
      "\n",
      "  0%|          | 0/80 [00:00<?, ?it/s]\u001b[A\n",
      " 32%|███▎      | 26/80 [00:00<00:00, 255.67it/s]\u001b[A\n",
      " 65%|██████▌   | 52/80 [00:00<00:00, 216.34it/s]\u001b[A\n",
      "100%|██████████| 80/80 [00:00<00:00, 210.12it/s]\u001b[A\n",
      " 81%|████████  | 909/1123 [13:03<02:56,  1.21it/s]"
     ]
    },
    {
     "name": "stdout",
     "output_type": "stream",
     "text": [
      "/home/jiang/projects/SubtleGAN/data/brats2021/train/BraTS2021_00625\n"
     ]
    },
    {
     "name": "stderr",
     "output_type": "stream",
     "text": [
      "\n",
      "  0%|          | 0/80 [00:00<?, ?it/s]\u001b[A\n",
      " 26%|██▋       | 21/80 [00:00<00:00, 201.07it/s]\u001b[A\n",
      " 52%|█████▎    | 42/80 [00:00<00:00, 191.23it/s]\u001b[A\n",
      "100%|██████████| 80/80 [00:00<00:00, 189.23it/s]\u001b[A\n",
      " 81%|████████  | 910/1123 [13:04<02:56,  1.21it/s]"
     ]
    },
    {
     "name": "stdout",
     "output_type": "stream",
     "text": [
      "/home/jiang/projects/SubtleGAN/data/brats2021/train/BraTS2021_01014\n"
     ]
    },
    {
     "name": "stderr",
     "output_type": "stream",
     "text": [
      "\n",
      "  0%|          | 0/80 [00:00<?, ?it/s]\u001b[A\n",
      " 25%|██▌       | 20/80 [00:00<00:00, 191.97it/s]\u001b[A\n",
      " 50%|█████     | 40/80 [00:00<00:00, 182.36it/s]\u001b[A\n",
      "100%|██████████| 80/80 [00:00<00:00, 188.54it/s]\u001b[A\n",
      " 81%|████████  | 911/1123 [13:05<02:58,  1.19it/s]"
     ]
    },
    {
     "name": "stdout",
     "output_type": "stream",
     "text": [
      "/home/jiang/projects/SubtleGAN/data/brats2021/train/BraTS2021_01608\n"
     ]
    },
    {
     "name": "stderr",
     "output_type": "stream",
     "text": [
      "\n",
      "  0%|          | 0/80 [00:00<?, ?it/s]\u001b[A\n",
      " 38%|███▊      | 30/80 [00:00<00:00, 292.60it/s]\u001b[A\n",
      "100%|██████████| 80/80 [00:00<00:00, 266.92it/s]\u001b[A\n",
      " 81%|████████  | 912/1123 [13:06<03:25,  1.03it/s]"
     ]
    },
    {
     "name": "stdout",
     "output_type": "stream",
     "text": [
      "/home/jiang/projects/SubtleGAN/data/brats2021/train/BraTS2021_01038\n"
     ]
    },
    {
     "name": "stderr",
     "output_type": "stream",
     "text": [
      "\n",
      "  0%|          | 0/80 [00:00<?, ?it/s]\u001b[A\n",
      " 26%|██▋       | 21/80 [00:00<00:00, 207.10it/s]\u001b[A\n",
      " 52%|█████▎    | 42/80 [00:00<00:00, 202.38it/s]\u001b[A\n",
      "100%|██████████| 80/80 [00:00<00:00, 198.99it/s]\u001b[A\n",
      " 81%|████████▏ | 913/1123 [13:07<03:17,  1.06it/s]"
     ]
    },
    {
     "name": "stdout",
     "output_type": "stream",
     "text": [
      "/home/jiang/projects/SubtleGAN/data/brats2021/train/BraTS2021_01196\n"
     ]
    },
    {
     "name": "stderr",
     "output_type": "stream",
     "text": [
      "\n",
      "  0%|          | 0/80 [00:00<?, ?it/s]\u001b[A\n",
      " 24%|██▍       | 19/80 [00:00<00:00, 188.52it/s]\u001b[A\n",
      " 50%|█████     | 40/80 [00:00<00:00, 199.40it/s]\u001b[A\n",
      " 75%|███████▌  | 60/80 [00:00<00:00, 191.42it/s]\u001b[A\n",
      "100%|██████████| 80/80 [00:00<00:00, 189.91it/s]\u001b[A\n",
      " 81%|████████▏ | 914/1123 [13:08<03:12,  1.09it/s]"
     ]
    },
    {
     "name": "stdout",
     "output_type": "stream",
     "text": [
      "/home/jiang/projects/SubtleGAN/data/brats2021/train/BraTS2021_00446\n"
     ]
    },
    {
     "name": "stderr",
     "output_type": "stream",
     "text": [
      "\n",
      "  0%|          | 0/80 [00:00<?, ?it/s]\u001b[A\n",
      " 25%|██▌       | 20/80 [00:00<00:00, 196.91it/s]\u001b[A\n",
      " 50%|█████     | 40/80 [00:00<00:00, 189.91it/s]\u001b[A\n",
      " 75%|███████▌  | 60/80 [00:00<00:00, 188.79it/s]\u001b[A\n",
      "100%|██████████| 80/80 [00:00<00:00, 188.09it/s]\u001b[A\n",
      " 81%|████████▏ | 915/1123 [13:08<03:09,  1.10it/s]"
     ]
    },
    {
     "name": "stdout",
     "output_type": "stream",
     "text": [
      "/home/jiang/projects/SubtleGAN/data/brats2021/train/BraTS2021_00194\n"
     ]
    },
    {
     "name": "stderr",
     "output_type": "stream",
     "text": [
      "\n",
      "  0%|          | 0/80 [00:00<?, ?it/s]\u001b[A\n",
      " 26%|██▋       | 21/80 [00:00<00:00, 202.87it/s]\u001b[A\n",
      " 52%|█████▎    | 42/80 [00:00<00:00, 198.39it/s]\u001b[A\n",
      "100%|██████████| 80/80 [00:00<00:00, 198.59it/s]\u001b[A\n",
      " 82%|████████▏ | 916/1123 [13:09<03:05,  1.12it/s]"
     ]
    },
    {
     "name": "stdout",
     "output_type": "stream",
     "text": [
      "/home/jiang/projects/SubtleGAN/data/brats2021/train/BraTS2021_00367\n"
     ]
    },
    {
     "name": "stderr",
     "output_type": "stream",
     "text": [
      "\n",
      "  0%|          | 0/80 [00:00<?, ?it/s]\u001b[A\n",
      " 24%|██▍       | 19/80 [00:00<00:00, 189.26it/s]\u001b[A\n",
      " 48%|████▊     | 38/80 [00:00<00:00, 186.12it/s]\u001b[A\n",
      " 75%|███████▌  | 60/80 [00:00<00:00, 198.84it/s]\u001b[A\n",
      "100%|██████████| 80/80 [00:00<00:00, 192.02it/s]\u001b[A\n",
      " 82%|████████▏ | 917/1123 [13:10<03:03,  1.12it/s]"
     ]
    },
    {
     "name": "stdout",
     "output_type": "stream",
     "text": [
      "/home/jiang/projects/SubtleGAN/data/brats2021/train/BraTS2021_00155\n"
     ]
    },
    {
     "name": "stderr",
     "output_type": "stream",
     "text": [
      "\n",
      "  0%|          | 0/80 [00:00<?, ?it/s]\u001b[A\n",
      " 28%|██▊       | 22/80 [00:00<00:00, 215.05it/s]\u001b[A\n",
      " 55%|█████▌    | 44/80 [00:00<00:00, 216.59it/s]\u001b[A\n",
      "100%|██████████| 80/80 [00:00<00:00, 214.36it/s]\u001b[A\n",
      " 82%|████████▏ | 918/1123 [13:11<02:58,  1.15it/s]"
     ]
    },
    {
     "name": "stdout",
     "output_type": "stream",
     "text": [
      "/home/jiang/projects/SubtleGAN/data/brats2021/train/BraTS2021_00128\n"
     ]
    },
    {
     "name": "stderr",
     "output_type": "stream",
     "text": [
      "\n",
      "  0%|          | 0/80 [00:00<?, ?it/s]\u001b[A\n",
      " 30%|███       | 24/80 [00:00<00:00, 230.19it/s]\u001b[A\n",
      " 60%|██████    | 48/80 [00:00<00:00, 211.63it/s]\u001b[A\n",
      "100%|██████████| 80/80 [00:00<00:00, 210.39it/s]\u001b[A\n",
      " 82%|████████▏ | 919/1123 [13:12<02:55,  1.16it/s]"
     ]
    },
    {
     "name": "stdout",
     "output_type": "stream",
     "text": [
      "/home/jiang/projects/SubtleGAN/data/brats2021/train/BraTS2021_00087\n"
     ]
    },
    {
     "name": "stderr",
     "output_type": "stream",
     "text": [
      "\n",
      "  0%|          | 0/80 [00:00<?, ?it/s]\u001b[A\n",
      " 28%|██▊       | 22/80 [00:00<00:00, 213.34it/s]\u001b[A\n",
      " 55%|█████▌    | 44/80 [00:00<00:00, 188.59it/s]\u001b[A\n",
      "100%|██████████| 80/80 [00:00<00:00, 188.32it/s]\u001b[A\n",
      " 82%|████████▏ | 920/1123 [13:13<02:49,  1.20it/s]"
     ]
    },
    {
     "name": "stdout",
     "output_type": "stream",
     "text": [
      "/home/jiang/projects/SubtleGAN/data/brats2021/train/BraTS2021_01198\n"
     ]
    },
    {
     "name": "stderr",
     "output_type": "stream",
     "text": [
      "\n",
      "  0%|          | 0/80 [00:00<?, ?it/s]\u001b[A\n",
      " 22%|██▎       | 18/80 [00:00<00:00, 177.95it/s]\u001b[A\n",
      " 45%|████▌     | 36/80 [00:00<00:00, 172.13it/s]\u001b[A\n",
      " 68%|██████▊   | 54/80 [00:00<00:00, 175.33it/s]\u001b[A\n",
      "100%|██████████| 80/80 [00:00<00:00, 176.08it/s]\u001b[A\n",
      " 82%|████████▏ | 921/1123 [13:14<02:54,  1.16it/s]"
     ]
    },
    {
     "name": "stdout",
     "output_type": "stream",
     "text": [
      "/home/jiang/projects/SubtleGAN/data/brats2021/train/BraTS2021_00183\n"
     ]
    },
    {
     "name": "stderr",
     "output_type": "stream",
     "text": [
      "\n",
      "  0%|          | 0/80 [00:00<?, ?it/s]\u001b[A\n",
      " 24%|██▍       | 19/80 [00:00<00:00, 181.10it/s]\u001b[A\n",
      " 48%|████▊     | 38/80 [00:00<00:00, 183.10it/s]\u001b[A\n",
      " 71%|███████▏  | 57/80 [00:00<00:00, 184.95it/s]\u001b[A\n",
      "100%|██████████| 80/80 [00:00<00:00, 181.22it/s]\u001b[A\n",
      " 82%|████████▏ | 922/1123 [13:14<02:55,  1.15it/s]"
     ]
    },
    {
     "name": "stdout",
     "output_type": "stream",
     "text": [
      "/home/jiang/projects/SubtleGAN/data/brats2021/train/BraTS2021_00491\n"
     ]
    },
    {
     "name": "stderr",
     "output_type": "stream",
     "text": [
      "\n",
      "  0%|          | 0/80 [00:00<?, ?it/s]\u001b[A\n",
      " 24%|██▍       | 19/80 [00:00<00:00, 182.22it/s]\u001b[A\n",
      " 48%|████▊     | 38/80 [00:00<00:00, 177.31it/s]\u001b[A\n",
      " 70%|███████   | 56/80 [00:00<00:00, 177.17it/s]\u001b[A\n",
      "100%|██████████| 80/80 [00:00<00:00, 177.19it/s]\u001b[A\n",
      " 82%|████████▏ | 923/1123 [13:15<02:53,  1.15it/s]"
     ]
    },
    {
     "name": "stdout",
     "output_type": "stream",
     "text": [
      "/home/jiang/projects/SubtleGAN/data/brats2021/train/BraTS2021_01030\n"
     ]
    },
    {
     "name": "stderr",
     "output_type": "stream",
     "text": [
      "\n",
      "  0%|          | 0/80 [00:00<?, ?it/s]\u001b[A\n",
      " 31%|███▏      | 25/80 [00:00<00:00, 242.55it/s]\u001b[A\n",
      " 62%|██████▎   | 50/80 [00:00<00:00, 198.28it/s]\u001b[A\n",
      "100%|██████████| 80/80 [00:00<00:00, 195.02it/s]\u001b[A\n",
      " 82%|████████▏ | 924/1123 [13:17<03:24,  1.03s/it]"
     ]
    },
    {
     "name": "stdout",
     "output_type": "stream",
     "text": [
      "/home/jiang/projects/SubtleGAN/data/brats2021/train/BraTS2021_00567\n"
     ]
    },
    {
     "name": "stderr",
     "output_type": "stream",
     "text": [
      "\n",
      "  0%|          | 0/80 [00:00<?, ?it/s]\u001b[A\n",
      " 39%|███▉      | 31/80 [00:00<00:00, 304.18it/s]\u001b[A\n",
      "100%|██████████| 80/80 [00:00<00:00, 284.29it/s]\u001b[A\n",
      " 82%|████████▏ | 925/1123 [13:18<03:37,  1.10s/it]"
     ]
    },
    {
     "name": "stdout",
     "output_type": "stream",
     "text": [
      "/home/jiang/projects/SubtleGAN/data/brats2021/train/BraTS2021_00399\n"
     ]
    },
    {
     "name": "stderr",
     "output_type": "stream",
     "text": [
      "\n",
      "  0%|          | 0/80 [00:00<?, ?it/s]\u001b[A\n",
      " 28%|██▊       | 22/80 [00:00<00:00, 209.63it/s]\u001b[A\n",
      " 54%|█████▍    | 43/80 [00:00<00:00, 191.27it/s]\u001b[A\n",
      "100%|██████████| 80/80 [00:00<00:00, 206.06it/s]\u001b[A\n",
      " 82%|████████▏ | 926/1123 [13:19<03:22,  1.03s/it]"
     ]
    },
    {
     "name": "stdout",
     "output_type": "stream",
     "text": [
      "/home/jiang/projects/SubtleGAN/data/brats2021/train/BraTS2021_00072\n"
     ]
    },
    {
     "name": "stderr",
     "output_type": "stream",
     "text": [
      "\n",
      "  0%|          | 0/80 [00:00<?, ?it/s]\u001b[A\n",
      " 29%|██▉       | 23/80 [00:00<00:00, 227.55it/s]\u001b[A\n",
      " 57%|█████▊    | 46/80 [00:00<00:00, 224.41it/s]\u001b[A\n",
      "100%|██████████| 80/80 [00:00<00:00, 222.62it/s]\u001b[A\n",
      " 83%|████████▎ | 927/1123 [13:20<03:04,  1.07it/s]"
     ]
    },
    {
     "name": "stdout",
     "output_type": "stream",
     "text": [
      "/home/jiang/projects/SubtleGAN/data/brats2021/train/BraTS2021_01046\n"
     ]
    },
    {
     "name": "stderr",
     "output_type": "stream",
     "text": [
      "\n",
      "  0%|          | 0/80 [00:00<?, ?it/s]\u001b[A\n",
      " 28%|██▊       | 22/80 [00:00<00:00, 215.57it/s]\u001b[A\n",
      " 55%|█████▌    | 44/80 [00:00<00:00, 213.79it/s]\u001b[A\n",
      "100%|██████████| 80/80 [00:00<00:00, 211.65it/s]\u001b[A\n",
      " 83%|████████▎ | 928/1123 [13:20<02:57,  1.10it/s]"
     ]
    },
    {
     "name": "stdout",
     "output_type": "stream",
     "text": [
      "/home/jiang/projects/SubtleGAN/data/brats2021/train/BraTS2021_01076\n"
     ]
    },
    {
     "name": "stderr",
     "output_type": "stream",
     "text": [
      "\n",
      "  0%|          | 0/80 [00:00<?, ?it/s]\u001b[A\n",
      " 26%|██▋       | 21/80 [00:00<00:00, 201.03it/s]\u001b[A\n",
      " 52%|█████▎    | 42/80 [00:00<00:00, 189.37it/s]\u001b[A\n",
      "100%|██████████| 80/80 [00:00<00:00, 197.77it/s]\u001b[A\n",
      " 83%|████████▎ | 929/1123 [13:21<02:53,  1.12it/s]"
     ]
    },
    {
     "name": "stdout",
     "output_type": "stream",
     "text": [
      "/home/jiang/projects/SubtleGAN/data/brats2021/train/BraTS2021_00816\n"
     ]
    },
    {
     "name": "stderr",
     "output_type": "stream",
     "text": [
      "\n",
      "  0%|          | 0/80 [00:00<?, ?it/s]\u001b[A\n",
      " 39%|███▉      | 31/80 [00:00<00:00, 306.49it/s]\u001b[A\n",
      "100%|██████████| 80/80 [00:00<00:00, 283.45it/s]\u001b[A\n",
      " 83%|████████▎ | 930/1123 [13:22<03:09,  1.02it/s]"
     ]
    },
    {
     "name": "stdout",
     "output_type": "stream",
     "text": [
      "/home/jiang/projects/SubtleGAN/data/brats2021/train/BraTS2021_00270\n"
     ]
    },
    {
     "name": "stderr",
     "output_type": "stream",
     "text": [
      "\n",
      "  0%|          | 0/80 [00:00<?, ?it/s]\u001b[A\n",
      " 25%|██▌       | 20/80 [00:00<00:00, 199.87it/s]\u001b[A\n",
      " 51%|█████▏    | 41/80 [00:00<00:00, 205.05it/s]\u001b[A\n",
      "100%|██████████| 80/80 [00:00<00:00, 206.99it/s]\u001b[A\n",
      " 83%|████████▎ | 931/1123 [13:23<02:59,  1.07it/s]"
     ]
    },
    {
     "name": "stdout",
     "output_type": "stream",
     "text": [
      "/home/jiang/projects/SubtleGAN/data/brats2021/train/BraTS2021_00275\n"
     ]
    },
    {
     "name": "stderr",
     "output_type": "stream",
     "text": [
      "\n",
      "  0%|          | 0/80 [00:00<?, ?it/s]\u001b[A\n",
      " 26%|██▋       | 21/80 [00:00<00:00, 205.03it/s]\u001b[A\n",
      " 52%|█████▎    | 42/80 [00:00<00:00, 189.39it/s]\u001b[A\n",
      "100%|██████████| 80/80 [00:00<00:00, 193.35it/s]\u001b[A\n",
      " 83%|████████▎ | 932/1123 [13:24<02:55,  1.09it/s]"
     ]
    },
    {
     "name": "stdout",
     "output_type": "stream",
     "text": [
      "/home/jiang/projects/SubtleGAN/data/brats2021/train/BraTS2021_01328\n"
     ]
    },
    {
     "name": "stderr",
     "output_type": "stream",
     "text": [
      "\n",
      "  0%|          | 0/80 [00:00<?, ?it/s]\u001b[A\n",
      " 28%|██▊       | 22/80 [00:00<00:00, 214.58it/s]\u001b[A\n",
      " 55%|█████▌    | 44/80 [00:00<00:00, 208.92it/s]\u001b[A\n",
      "100%|██████████| 80/80 [00:00<00:00, 206.12it/s]\u001b[A\n",
      " 83%|████████▎ | 933/1123 [13:25<02:49,  1.12it/s]"
     ]
    },
    {
     "name": "stdout",
     "output_type": "stream",
     "text": [
      "/home/jiang/projects/SubtleGAN/data/brats2021/train/BraTS2021_00441\n"
     ]
    },
    {
     "name": "stderr",
     "output_type": "stream",
     "text": [
      "\n",
      "  0%|          | 0/80 [00:00<?, ?it/s]\u001b[A\n",
      " 25%|██▌       | 20/80 [00:00<00:00, 193.72it/s]\u001b[A\n",
      " 50%|█████     | 40/80 [00:00<00:00, 192.70it/s]\u001b[A\n",
      "100%|██████████| 80/80 [00:00<00:00, 202.54it/s]\u001b[A\n",
      " 83%|████████▎ | 934/1123 [13:26<02:46,  1.13it/s]"
     ]
    },
    {
     "name": "stdout",
     "output_type": "stream",
     "text": [
      "/home/jiang/projects/SubtleGAN/data/brats2021/train/BraTS2021_01051\n"
     ]
    },
    {
     "name": "stderr",
     "output_type": "stream",
     "text": [
      "\n",
      "  0%|          | 0/80 [00:00<?, ?it/s]\u001b[A\n",
      " 26%|██▋       | 21/80 [00:00<00:00, 199.24it/s]\u001b[A\n",
      " 51%|█████▏    | 41/80 [00:00<00:00, 177.98it/s]\u001b[A\n",
      " 75%|███████▌  | 60/80 [00:00<00:00, 180.38it/s]\u001b[A\n",
      "100%|██████████| 80/80 [00:00<00:00, 183.22it/s]\u001b[A\n",
      " 83%|████████▎ | 935/1123 [13:27<02:45,  1.13it/s]"
     ]
    },
    {
     "name": "stdout",
     "output_type": "stream",
     "text": [
      "/home/jiang/projects/SubtleGAN/data/brats2021/train/BraTS2021_01607\n"
     ]
    },
    {
     "name": "stderr",
     "output_type": "stream",
     "text": [
      "\n",
      "  0%|          | 0/80 [00:00<?, ?it/s]\u001b[A\n",
      " 36%|███▋      | 29/80 [00:00<00:00, 285.22it/s]\u001b[A\n",
      "100%|██████████| 80/80 [00:00<00:00, 273.54it/s]\u001b[A\n",
      " 83%|████████▎ | 936/1123 [13:28<03:04,  1.02it/s]"
     ]
    },
    {
     "name": "stdout",
     "output_type": "stream",
     "text": [
      "/home/jiang/projects/SubtleGAN/data/brats2021/train/BraTS2021_00098\n"
     ]
    },
    {
     "name": "stderr",
     "output_type": "stream",
     "text": [
      "\n",
      "  0%|          | 0/80 [00:00<?, ?it/s]\u001b[A\n",
      " 28%|██▊       | 22/80 [00:00<00:00, 213.81it/s]\u001b[A\n",
      " 55%|█████▌    | 44/80 [00:00<00:00, 203.90it/s]\u001b[A\n",
      "100%|██████████| 80/80 [00:00<00:00, 196.39it/s]\u001b[A\n",
      " 83%|████████▎ | 937/1123 [13:29<02:51,  1.08it/s]"
     ]
    },
    {
     "name": "stdout",
     "output_type": "stream",
     "text": [
      "/home/jiang/projects/SubtleGAN/data/brats2021/train/BraTS2021_01365\n"
     ]
    },
    {
     "name": "stderr",
     "output_type": "stream",
     "text": [
      "\n",
      "  0%|          | 0/80 [00:00<?, ?it/s]\u001b[A\n",
      " 29%|██▉       | 23/80 [00:00<00:00, 225.62it/s]\u001b[A\n",
      " 57%|█████▊    | 46/80 [00:00<00:00, 225.19it/s]\u001b[A\n",
      "100%|██████████| 80/80 [00:00<00:00, 186.38it/s]\u001b[A\n",
      " 84%|████████▎ | 938/1123 [13:30<02:47,  1.11it/s]"
     ]
    },
    {
     "name": "stdout",
     "output_type": "stream",
     "text": [
      "/home/jiang/projects/SubtleGAN/data/brats2021/train/BraTS2021_01499\n"
     ]
    },
    {
     "name": "stderr",
     "output_type": "stream",
     "text": [
      "\n",
      "  0%|          | 0/80 [00:00<?, ?it/s]\u001b[A\n",
      " 25%|██▌       | 20/80 [00:00<00:00, 192.19it/s]\u001b[A\n",
      " 50%|█████     | 40/80 [00:00<00:00, 195.60it/s]\u001b[A\n",
      " 75%|███████▌  | 60/80 [00:00<00:00, 190.66it/s]\u001b[A\n",
      "100%|██████████| 80/80 [00:00<00:00, 189.89it/s]\u001b[A\n",
      " 84%|████████▎ | 939/1123 [13:30<02:45,  1.11it/s]"
     ]
    },
    {
     "name": "stdout",
     "output_type": "stream",
     "text": [
      "/home/jiang/projects/SubtleGAN/data/brats2021/train/BraTS2021_01151\n"
     ]
    },
    {
     "name": "stderr",
     "output_type": "stream",
     "text": [
      "\n",
      "  0%|          | 0/80 [00:00<?, ?it/s]\u001b[A\n",
      " 25%|██▌       | 20/80 [00:00<00:00, 193.73it/s]\u001b[A\n",
      " 52%|█████▎    | 42/80 [00:00<00:00, 203.99it/s]\u001b[A\n",
      "100%|██████████| 80/80 [00:00<00:00, 199.00it/s]\u001b[A\n",
      " 84%|████████▎ | 940/1123 [13:31<02:42,  1.13it/s]"
     ]
    },
    {
     "name": "stdout",
     "output_type": "stream",
     "text": [
      "/home/jiang/projects/SubtleGAN/data/brats2021/train/BraTS2021_00675\n"
     ]
    },
    {
     "name": "stderr",
     "output_type": "stream",
     "text": [
      "\n",
      "  0%|          | 0/80 [00:00<?, ?it/s]\u001b[A\n",
      " 25%|██▌       | 20/80 [00:00<00:00, 192.26it/s]\u001b[A\n",
      " 50%|█████     | 40/80 [00:00<00:00, 185.51it/s]\u001b[A\n",
      " 74%|███████▍  | 59/80 [00:00<00:00, 186.95it/s]\u001b[A\n",
      "100%|██████████| 80/80 [00:00<00:00, 180.13it/s]\u001b[A\n",
      " 84%|████████▍ | 941/1123 [13:32<02:38,  1.15it/s]"
     ]
    },
    {
     "name": "stdout",
     "output_type": "stream",
     "text": [
      "/home/jiang/projects/SubtleGAN/data/brats2021/train/BraTS2021_01039\n"
     ]
    },
    {
     "name": "stderr",
     "output_type": "stream",
     "text": [
      "\n",
      "  0%|          | 0/80 [00:00<?, ?it/s]\u001b[A\n",
      " 26%|██▋       | 21/80 [00:00<00:00, 208.40it/s]\u001b[A\n",
      " 52%|█████▎    | 42/80 [00:00<00:00, 197.93it/s]\u001b[A\n",
      "100%|██████████| 80/80 [00:00<00:00, 204.82it/s]\u001b[A\n",
      " 84%|████████▍ | 942/1123 [13:33<02:36,  1.16it/s]"
     ]
    },
    {
     "name": "stdout",
     "output_type": "stream",
     "text": [
      "/home/jiang/projects/SubtleGAN/data/brats2021/train/BraTS2021_00764\n"
     ]
    },
    {
     "name": "stderr",
     "output_type": "stream",
     "text": [
      "\n",
      "  0%|          | 0/80 [00:00<?, ?it/s]\u001b[A\n",
      " 29%|██▉       | 23/80 [00:00<00:00, 223.90it/s]\u001b[A\n",
      " 57%|█████▊    | 46/80 [00:00<00:00, 212.02it/s]\u001b[A\n",
      "100%|██████████| 80/80 [00:00<00:00, 210.57it/s]\u001b[A\n",
      " 84%|████████▍ | 943/1123 [13:34<02:30,  1.20it/s]"
     ]
    },
    {
     "name": "stdout",
     "output_type": "stream",
     "text": [
      "/home/jiang/projects/SubtleGAN/data/brats2021/train/BraTS2021_01273\n"
     ]
    },
    {
     "name": "stderr",
     "output_type": "stream",
     "text": [
      "\n",
      "  0%|          | 0/80 [00:00<?, ?it/s]\u001b[A\n",
      " 28%|██▊       | 22/80 [00:00<00:00, 213.44it/s]\u001b[A\n",
      " 56%|█████▋    | 45/80 [00:00<00:00, 216.57it/s]\u001b[A\n",
      "100%|██████████| 80/80 [00:00<00:00, 215.56it/s]\u001b[A\n",
      " 84%|████████▍ | 944/1123 [13:35<02:28,  1.21it/s]"
     ]
    },
    {
     "name": "stdout",
     "output_type": "stream",
     "text": [
      "/home/jiang/projects/SubtleGAN/data/brats2021/train/BraTS2021_01093\n"
     ]
    },
    {
     "name": "stderr",
     "output_type": "stream",
     "text": [
      "\n",
      "  0%|          | 0/80 [00:00<?, ?it/s]\u001b[A\n",
      " 25%|██▌       | 20/80 [00:00<00:00, 196.99it/s]\u001b[A\n",
      " 50%|█████     | 40/80 [00:00<00:00, 190.59it/s]\u001b[A\n",
      "100%|██████████| 80/80 [00:00<00:00, 195.32it/s]\u001b[A\n",
      " 84%|████████▍ | 945/1123 [13:35<02:29,  1.19it/s]"
     ]
    },
    {
     "name": "stdout",
     "output_type": "stream",
     "text": [
      "/home/jiang/projects/SubtleGAN/data/brats2021/train/BraTS2021_01249\n"
     ]
    },
    {
     "name": "stderr",
     "output_type": "stream",
     "text": [
      "\n",
      "  0%|          | 0/80 [00:00<?, ?it/s]\u001b[A\n",
      " 30%|███       | 24/80 [00:00<00:00, 236.59it/s]\u001b[A\n",
      " 60%|██████    | 48/80 [00:00<00:00, 230.24it/s]\u001b[A\n",
      "100%|██████████| 80/80 [00:00<00:00, 229.65it/s]\u001b[A\n",
      " 84%|████████▍ | 946/1123 [13:36<02:25,  1.21it/s]"
     ]
    },
    {
     "name": "stdout",
     "output_type": "stream",
     "text": [
      "/home/jiang/projects/SubtleGAN/data/brats2021/train/BraTS2021_00727\n"
     ]
    },
    {
     "name": "stderr",
     "output_type": "stream",
     "text": [
      "\n",
      "  0%|          | 0/80 [00:00<?, ?it/s]\u001b[A\n",
      " 29%|██▉       | 23/80 [00:00<00:00, 223.22it/s]\u001b[A\n",
      " 57%|█████▊    | 46/80 [00:00<00:00, 212.78it/s]\u001b[A\n",
      "100%|██████████| 80/80 [00:00<00:00, 214.29it/s]\u001b[A\n",
      " 84%|████████▍ | 947/1123 [13:37<02:20,  1.25it/s]"
     ]
    },
    {
     "name": "stdout",
     "output_type": "stream",
     "text": [
      "/home/jiang/projects/SubtleGAN/data/brats2021/train/BraTS2021_01061\n"
     ]
    },
    {
     "name": "stderr",
     "output_type": "stream",
     "text": [
      "\n",
      "  0%|          | 0/80 [00:00<?, ?it/s]\u001b[A\n",
      " 29%|██▉       | 23/80 [00:00<00:00, 222.34it/s]\u001b[A\n",
      " 57%|█████▊    | 46/80 [00:00<00:00, 224.09it/s]\u001b[A\n",
      "100%|██████████| 80/80 [00:00<00:00, 221.28it/s]\u001b[A\n",
      " 84%|████████▍ | 948/1123 [13:38<02:20,  1.25it/s]"
     ]
    },
    {
     "name": "stdout",
     "output_type": "stream",
     "text": [
      "/home/jiang/projects/SubtleGAN/data/brats2021/train/BraTS2021_01121\n"
     ]
    },
    {
     "name": "stderr",
     "output_type": "stream",
     "text": [
      "\n",
      "  0%|          | 0/80 [00:00<?, ?it/s]\u001b[A\n",
      " 30%|███       | 24/80 [00:00<00:00, 234.03it/s]\u001b[A\n",
      " 60%|██████    | 48/80 [00:00<00:00, 223.68it/s]\u001b[A\n",
      "100%|██████████| 80/80 [00:00<00:00, 220.04it/s]\u001b[A\n",
      " 85%|████████▍ | 949/1123 [13:39<02:21,  1.23it/s]"
     ]
    },
    {
     "name": "stdout",
     "output_type": "stream",
     "text": [
      "/home/jiang/projects/SubtleGAN/data/brats2021/train/BraTS2021_01210\n"
     ]
    },
    {
     "name": "stderr",
     "output_type": "stream",
     "text": [
      "\n",
      "  0%|          | 0/80 [00:00<?, ?it/s]\u001b[A\n",
      " 29%|██▉       | 23/80 [00:00<00:00, 225.84it/s]\u001b[A\n",
      " 57%|█████▊    | 46/80 [00:00<00:00, 209.94it/s]\u001b[A\n",
      "100%|██████████| 80/80 [00:00<00:00, 213.20it/s]\u001b[A\n",
      " 85%|████████▍ | 950/1123 [13:40<02:26,  1.18it/s]"
     ]
    },
    {
     "name": "stdout",
     "output_type": "stream",
     "text": [
      "/home/jiang/projects/SubtleGAN/data/brats2021/train/BraTS2021_00122\n"
     ]
    },
    {
     "name": "stderr",
     "output_type": "stream",
     "text": [
      "\n",
      "  0%|          | 0/80 [00:00<?, ?it/s]\u001b[A\n",
      " 26%|██▋       | 21/80 [00:00<00:00, 207.19it/s]\u001b[A\n",
      " 52%|█████▎    | 42/80 [00:00<00:00, 208.77it/s]\u001b[A\n",
      "100%|██████████| 80/80 [00:00<00:00, 203.09it/s]\u001b[A\n",
      " 85%|████████▍ | 951/1123 [13:40<02:25,  1.18it/s]"
     ]
    },
    {
     "name": "stdout",
     "output_type": "stream",
     "text": [
      "/home/jiang/projects/SubtleGAN/data/brats2021/train/BraTS2021_01392\n"
     ]
    },
    {
     "name": "stderr",
     "output_type": "stream",
     "text": [
      "\n",
      "  0%|          | 0/80 [00:00<?, ?it/s]\u001b[A\n",
      " 24%|██▍       | 19/80 [00:00<00:00, 188.74it/s]\u001b[A\n",
      " 48%|████▊     | 38/80 [00:00<00:00, 189.33it/s]\u001b[A\n",
      " 72%|███████▎  | 58/80 [00:00<00:00, 193.16it/s]\u001b[A\n",
      "100%|██████████| 80/80 [00:00<00:00, 189.60it/s]\u001b[A\n",
      " 85%|████████▍ | 952/1123 [13:41<02:26,  1.16it/s]"
     ]
    },
    {
     "name": "stdout",
     "output_type": "stream",
     "text": [
      "/home/jiang/projects/SubtleGAN/data/brats2021/train/BraTS2021_01103\n"
     ]
    },
    {
     "name": "stderr",
     "output_type": "stream",
     "text": [
      "\n",
      "  0%|          | 0/80 [00:00<?, ?it/s]\u001b[A\n",
      " 28%|██▊       | 22/80 [00:00<00:00, 209.12it/s]\u001b[A\n",
      " 54%|█████▍    | 43/80 [00:00<00:00, 207.33it/s]\u001b[A\n",
      "100%|██████████| 80/80 [00:00<00:00, 200.28it/s]\u001b[A\n",
      " 85%|████████▍ | 953/1123 [13:42<02:25,  1.17it/s]"
     ]
    },
    {
     "name": "stdout",
     "output_type": "stream",
     "text": [
      "/home/jiang/projects/SubtleGAN/data/brats2021/train/BraTS2021_00285\n"
     ]
    },
    {
     "name": "stderr",
     "output_type": "stream",
     "text": [
      "\n",
      "  0%|          | 0/80 [00:00<?, ?it/s]\u001b[A\n",
      " 25%|██▌       | 20/80 [00:00<00:00, 193.34it/s]\u001b[A\n",
      " 50%|█████     | 40/80 [00:00<00:00, 182.88it/s]\u001b[A\n",
      "100%|██████████| 80/80 [00:00<00:00, 190.31it/s]\u001b[A\n",
      " 85%|████████▍ | 954/1123 [13:43<02:25,  1.16it/s]"
     ]
    },
    {
     "name": "stdout",
     "output_type": "stream",
     "text": [
      "/home/jiang/projects/SubtleGAN/data/brats2021/train/BraTS2021_01266\n"
     ]
    },
    {
     "name": "stderr",
     "output_type": "stream",
     "text": [
      "\n",
      "  0%|          | 0/80 [00:00<?, ?it/s]\u001b[A\n",
      " 22%|██▎       | 18/80 [00:00<00:00, 179.52it/s]\u001b[A\n",
      " 48%|████▊     | 38/80 [00:00<00:00, 188.13it/s]\u001b[A\n",
      "100%|██████████| 80/80 [00:00<00:00, 198.23it/s]\u001b[A\n",
      " 85%|████████▌ | 955/1123 [13:44<02:24,  1.16it/s]"
     ]
    },
    {
     "name": "stdout",
     "output_type": "stream",
     "text": [
      "/home/jiang/projects/SubtleGAN/data/brats2021/train/BraTS2021_01155\n"
     ]
    },
    {
     "name": "stderr",
     "output_type": "stream",
     "text": [
      "\n",
      "  0%|          | 0/80 [00:00<?, ?it/s]\u001b[A\n",
      " 29%|██▉       | 23/80 [00:00<00:00, 225.27it/s]\u001b[A\n",
      " 57%|█████▊    | 46/80 [00:00<00:00, 211.50it/s]\u001b[A\n",
      "100%|██████████| 80/80 [00:00<00:00, 212.47it/s]\u001b[A\n",
      " 85%|████████▌ | 956/1123 [13:45<02:18,  1.21it/s]"
     ]
    },
    {
     "name": "stdout",
     "output_type": "stream",
     "text": [
      "/home/jiang/projects/SubtleGAN/data/brats2021/train/BraTS2021_01665\n"
     ]
    },
    {
     "name": "stderr",
     "output_type": "stream",
     "text": [
      "\n",
      "  0%|          | 0/80 [00:00<?, ?it/s]\u001b[A\n",
      " 29%|██▉       | 23/80 [00:00<00:00, 228.88it/s]\u001b[A\n",
      " 57%|█████▊    | 46/80 [00:00<00:00, 217.57it/s]\u001b[A\n",
      "100%|██████████| 80/80 [00:00<00:00, 209.09it/s]\u001b[A\n",
      " 85%|████████▌ | 957/1123 [13:45<02:18,  1.20it/s]"
     ]
    },
    {
     "name": "stdout",
     "output_type": "stream",
     "text": [
      "/home/jiang/projects/SubtleGAN/data/brats2021/train/BraTS2021_00746\n"
     ]
    },
    {
     "name": "stderr",
     "output_type": "stream",
     "text": [
      "\n",
      "  0%|          | 0/80 [00:00<?, ?it/s]\u001b[A\n",
      " 26%|██▋       | 21/80 [00:00<00:00, 208.27it/s]\u001b[A\n",
      " 54%|█████▍    | 43/80 [00:00<00:00, 212.01it/s]\u001b[A\n",
      "100%|██████████| 80/80 [00:00<00:00, 212.24it/s]\u001b[A\n",
      " 85%|████████▌ | 958/1123 [13:46<02:15,  1.21it/s]"
     ]
    },
    {
     "name": "stdout",
     "output_type": "stream",
     "text": [
      "/home/jiang/projects/SubtleGAN/data/brats2021/train/BraTS2021_01253\n"
     ]
    },
    {
     "name": "stderr",
     "output_type": "stream",
     "text": [
      "\n",
      "  0%|          | 0/80 [00:00<?, ?it/s]\u001b[A\n",
      " 28%|██▊       | 22/80 [00:00<00:00, 214.01it/s]\u001b[A\n",
      " 55%|█████▌    | 44/80 [00:00<00:00, 141.55it/s]\u001b[A\n",
      "100%|██████████| 80/80 [00:00<00:00, 165.67it/s]\u001b[A\n",
      " 85%|████████▌ | 959/1123 [13:47<02:20,  1.17it/s]"
     ]
    },
    {
     "name": "stdout",
     "output_type": "stream",
     "text": [
      "/home/jiang/projects/SubtleGAN/data/brats2021/train/BraTS2021_00327\n"
     ]
    },
    {
     "name": "stderr",
     "output_type": "stream",
     "text": [
      "\n",
      "  0%|          | 0/80 [00:00<?, ?it/s]\u001b[A\n",
      " 26%|██▋       | 21/80 [00:00<00:00, 207.18it/s]\u001b[A\n",
      " 52%|█████▎    | 42/80 [00:00<00:00, 203.79it/s]\u001b[A\n",
      "100%|██████████| 80/80 [00:00<00:00, 214.26it/s]\u001b[A\n",
      " 85%|████████▌ | 960/1123 [13:48<02:18,  1.18it/s]"
     ]
    },
    {
     "name": "stdout",
     "output_type": "stream",
     "text": [
      "/home/jiang/projects/SubtleGAN/data/brats2021/train/BraTS2021_01519\n"
     ]
    },
    {
     "name": "stderr",
     "output_type": "stream",
     "text": [
      "\n",
      "  0%|          | 0/80 [00:00<?, ?it/s]\u001b[A\n",
      " 30%|███       | 24/80 [00:00<00:00, 236.36it/s]\u001b[A\n",
      " 60%|██████    | 48/80 [00:00<00:00, 234.20it/s]\u001b[A\n",
      "100%|██████████| 80/80 [00:00<00:00, 230.43it/s]\u001b[A\n",
      " 86%|████████▌ | 961/1123 [13:49<02:14,  1.20it/s]"
     ]
    },
    {
     "name": "stdout",
     "output_type": "stream",
     "text": [
      "/home/jiang/projects/SubtleGAN/data/brats2021/train/BraTS2021_01495\n"
     ]
    },
    {
     "name": "stderr",
     "output_type": "stream",
     "text": [
      "\n",
      "  0%|          | 0/80 [00:00<?, ?it/s]\u001b[A\n",
      " 31%|███▏      | 25/80 [00:00<00:00, 249.47it/s]\u001b[A\n",
      " 62%|██████▎   | 50/80 [00:00<00:00, 246.49it/s]\u001b[A\n",
      "100%|██████████| 80/80 [00:00<00:00, 243.82it/s]\u001b[A\n",
      " 86%|████████▌ | 962/1123 [13:50<02:11,  1.22it/s]"
     ]
    },
    {
     "name": "stdout",
     "output_type": "stream",
     "text": [
      "/home/jiang/projects/SubtleGAN/data/brats2021/train/BraTS2021_00449\n"
     ]
    },
    {
     "name": "stderr",
     "output_type": "stream",
     "text": [
      "\n",
      "  0%|          | 0/80 [00:00<?, ?it/s]\u001b[A\n",
      " 32%|███▎      | 26/80 [00:00<00:00, 254.29it/s]\u001b[A\n",
      " 65%|██████▌   | 52/80 [00:00<00:00, 164.88it/s]\u001b[A\n",
      "100%|██████████| 80/80 [00:00<00:00, 191.91it/s]\u001b[A\n",
      " 86%|████████▌ | 963/1123 [13:50<02:12,  1.21it/s]"
     ]
    },
    {
     "name": "stdout",
     "output_type": "stream",
     "text": [
      "/home/jiang/projects/SubtleGAN/data/brats2021/train/BraTS2021_01262\n"
     ]
    },
    {
     "name": "stderr",
     "output_type": "stream",
     "text": [
      "\n",
      "  0%|          | 0/80 [00:00<?, ?it/s]\u001b[A\n",
      " 32%|███▎      | 26/80 [00:00<00:00, 254.52it/s]\u001b[A\n",
      " 65%|██████▌   | 52/80 [00:00<00:00, 245.58it/s]\u001b[A\n",
      "100%|██████████| 80/80 [00:00<00:00, 237.14it/s]\u001b[A\n",
      " 86%|████████▌ | 964/1123 [13:51<02:09,  1.23it/s]"
     ]
    },
    {
     "name": "stdout",
     "output_type": "stream",
     "text": [
      "/home/jiang/projects/SubtleGAN/data/brats2021/train/BraTS2021_00806\n"
     ]
    },
    {
     "name": "stderr",
     "output_type": "stream",
     "text": [
      "\n",
      "  0%|          | 0/80 [00:00<?, ?it/s]\u001b[A\n",
      " 38%|███▊      | 30/80 [00:00<00:00, 298.91it/s]\u001b[A\n",
      "100%|██████████| 80/80 [00:00<00:00, 286.84it/s]\u001b[A\n",
      " 86%|████████▌ | 965/1123 [13:52<02:24,  1.09it/s]"
     ]
    },
    {
     "name": "stdout",
     "output_type": "stream",
     "text": [
      "/home/jiang/projects/SubtleGAN/data/brats2021/train/BraTS2021_01236\n"
     ]
    },
    {
     "name": "stderr",
     "output_type": "stream",
     "text": [
      "\n",
      "  0%|          | 0/80 [00:00<?, ?it/s]\u001b[A\n",
      " 31%|███▏      | 25/80 [00:00<00:00, 243.22it/s]\u001b[A\n",
      " 62%|██████▎   | 50/80 [00:00<00:00, 219.55it/s]\u001b[A\n",
      "100%|██████████| 80/80 [00:00<00:00, 204.88it/s]\u001b[A\n",
      " 86%|████████▌ | 966/1123 [13:53<02:19,  1.12it/s]"
     ]
    },
    {
     "name": "stdout",
     "output_type": "stream",
     "text": [
      "/home/jiang/projects/SubtleGAN/data/brats2021/train/BraTS2021_01636\n"
     ]
    },
    {
     "name": "stderr",
     "output_type": "stream",
     "text": [
      "\n",
      "  0%|          | 0/80 [00:00<?, ?it/s]\u001b[A\n",
      " 34%|███▍      | 27/80 [00:00<00:00, 266.81it/s]\u001b[A\n",
      "100%|██████████| 80/80 [00:00<00:00, 263.37it/s]\u001b[A\n",
      " 86%|████████▌ | 967/1123 [13:55<02:40,  1.03s/it]"
     ]
    },
    {
     "name": "stdout",
     "output_type": "stream",
     "text": [
      "/home/jiang/projects/SubtleGAN/data/brats2021/train/BraTS2021_00386\n"
     ]
    },
    {
     "name": "stderr",
     "output_type": "stream",
     "text": [
      "\n",
      "  0%|          | 0/80 [00:00<?, ?it/s]\u001b[A\n",
      " 38%|███▊      | 30/80 [00:00<00:00, 292.44it/s]\u001b[A\n",
      "100%|██████████| 80/80 [00:00<00:00, 289.29it/s]\u001b[A\n",
      " 86%|████████▌ | 968/1123 [13:55<02:25,  1.06it/s]"
     ]
    },
    {
     "name": "stdout",
     "output_type": "stream",
     "text": [
      "/home/jiang/projects/SubtleGAN/data/brats2021/train/BraTS2021_00059\n"
     ]
    },
    {
     "name": "stderr",
     "output_type": "stream",
     "text": [
      "\n",
      "  0%|          | 0/80 [00:00<?, ?it/s]\u001b[A\n",
      " 38%|███▊      | 30/80 [00:00<00:00, 298.13it/s]\u001b[A\n",
      "100%|██████████| 80/80 [00:00<00:00, 289.55it/s]\u001b[A\n",
      " 86%|████████▋ | 969/1123 [13:56<02:10,  1.18it/s]"
     ]
    },
    {
     "name": "stdout",
     "output_type": "stream",
     "text": [
      "/home/jiang/projects/SubtleGAN/data/brats2021/train/BraTS2021_01393\n"
     ]
    },
    {
     "name": "stderr",
     "output_type": "stream",
     "text": [
      "\n",
      "  0%|          | 0/80 [00:00<?, ?it/s]\u001b[A\n",
      " 36%|███▋      | 29/80 [00:00<00:00, 283.74it/s]\u001b[A\n",
      "100%|██████████| 80/80 [00:00<00:00, 285.53it/s]\u001b[A\n",
      " 86%|████████▋ | 970/1123 [13:57<02:03,  1.23it/s]"
     ]
    },
    {
     "name": "stdout",
     "output_type": "stream",
     "text": [
      "/home/jiang/projects/SubtleGAN/data/brats2021/train/BraTS2021_00655\n"
     ]
    },
    {
     "name": "stderr",
     "output_type": "stream",
     "text": [
      "\n",
      "  0%|          | 0/80 [00:00<?, ?it/s]\u001b[A\n",
      " 38%|███▊      | 30/80 [00:00<00:00, 299.55it/s]\u001b[A\n",
      "100%|██████████| 80/80 [00:00<00:00, 294.02it/s]\u001b[A\n",
      " 86%|████████▋ | 971/1123 [13:57<01:55,  1.31it/s]"
     ]
    },
    {
     "name": "stdout",
     "output_type": "stream",
     "text": [
      "/home/jiang/projects/SubtleGAN/data/brats2021/train/BraTS2021_01179\n"
     ]
    },
    {
     "name": "stderr",
     "output_type": "stream",
     "text": [
      "\n",
      "  0%|          | 0/80 [00:00<?, ?it/s]\u001b[A\n",
      " 39%|███▉      | 31/80 [00:00<00:00, 303.89it/s]\u001b[A\n",
      "100%|██████████| 80/80 [00:00<00:00, 295.57it/s]\u001b[A\n",
      " 87%|████████▋ | 972/1123 [13:58<01:52,  1.34it/s]"
     ]
    },
    {
     "name": "stdout",
     "output_type": "stream",
     "text": [
      "/home/jiang/projects/SubtleGAN/data/brats2021/train/BraTS2021_00078\n"
     ]
    },
    {
     "name": "stderr",
     "output_type": "stream",
     "text": [
      "\n",
      "  0%|          | 0/80 [00:00<?, ?it/s]\u001b[A\n",
      " 39%|███▉      | 31/80 [00:00<00:00, 302.81it/s]\u001b[A\n",
      "100%|██████████| 80/80 [00:00<00:00, 296.79it/s]\u001b[A\n",
      " 87%|████████▋ | 973/1123 [13:59<01:46,  1.41it/s]"
     ]
    },
    {
     "name": "stdout",
     "output_type": "stream",
     "text": [
      "/home/jiang/projects/SubtleGAN/data/brats2021/train/BraTS2021_01659\n"
     ]
    },
    {
     "name": "stderr",
     "output_type": "stream",
     "text": [
      "\n",
      "  0%|          | 0/80 [00:00<?, ?it/s]\u001b[A\n",
      " 39%|███▉      | 31/80 [00:00<00:00, 304.33it/s]\u001b[A\n",
      "100%|██████████| 80/80 [00:00<00:00, 296.84it/s]\u001b[A\n",
      " 87%|████████▋ | 974/1123 [13:59<01:45,  1.42it/s]"
     ]
    },
    {
     "name": "stdout",
     "output_type": "stream",
     "text": [
      "/home/jiang/projects/SubtleGAN/data/brats2021/train/BraTS2021_01278\n"
     ]
    },
    {
     "name": "stderr",
     "output_type": "stream",
     "text": [
      "\n",
      "  0%|          | 0/80 [00:00<?, ?it/s]\u001b[A\n",
      " 34%|███▍      | 27/80 [00:00<00:00, 259.85it/s]\u001b[A\n",
      " 66%|██████▋   | 53/80 [00:00<00:00, 236.92it/s]\u001b[A\n",
      "100%|██████████| 80/80 [00:00<00:00, 236.35it/s]\u001b[A\n",
      " 87%|████████▋ | 975/1123 [14:00<01:47,  1.38it/s]"
     ]
    },
    {
     "name": "stdout",
     "output_type": "stream",
     "text": [
      "/home/jiang/projects/SubtleGAN/data/brats2021/train/BraTS2021_00108\n"
     ]
    },
    {
     "name": "stderr",
     "output_type": "stream",
     "text": [
      "\n",
      "  0%|          | 0/80 [00:00<?, ?it/s]\u001b[A\n",
      " 31%|███▏      | 25/80 [00:00<00:00, 247.22it/s]\u001b[A\n",
      " 62%|██████▎   | 50/80 [00:00<00:00, 156.37it/s]\u001b[A\n",
      "100%|██████████| 80/80 [00:00<00:00, 183.80it/s]\u001b[A\n",
      " 87%|████████▋ | 976/1123 [14:01<01:53,  1.30it/s]"
     ]
    },
    {
     "name": "stdout",
     "output_type": "stream",
     "text": [
      "/home/jiang/projects/SubtleGAN/data/brats2021/train/BraTS2021_00121\n"
     ]
    },
    {
     "name": "stderr",
     "output_type": "stream",
     "text": [
      "\n",
      "  0%|          | 0/80 [00:00<?, ?it/s]\u001b[A\n",
      " 31%|███▏      | 25/80 [00:00<00:00, 242.09it/s]\u001b[A\n",
      " 62%|██████▎   | 50/80 [00:00<00:00, 236.31it/s]\u001b[A\n",
      "100%|██████████| 80/80 [00:00<00:00, 234.51it/s]\u001b[A\n",
      " 87%|████████▋ | 977/1123 [14:02<01:52,  1.30it/s]"
     ]
    },
    {
     "name": "stdout",
     "output_type": "stream",
     "text": [
      "/home/jiang/projects/SubtleGAN/data/brats2021/train/BraTS2021_01362\n"
     ]
    },
    {
     "name": "stderr",
     "output_type": "stream",
     "text": [
      "\n",
      "  0%|          | 0/80 [00:00<?, ?it/s]\u001b[A\n",
      " 31%|███▏      | 25/80 [00:00<00:00, 248.85it/s]\u001b[A\n",
      " 62%|██████▎   | 50/80 [00:00<00:00, 239.59it/s]\u001b[A\n",
      "100%|██████████| 80/80 [00:00<00:00, 237.89it/s]\u001b[A\n",
      " 87%|████████▋ | 978/1123 [14:03<01:51,  1.30it/s]"
     ]
    },
    {
     "name": "stdout",
     "output_type": "stream",
     "text": [
      "/home/jiang/projects/SubtleGAN/data/brats2021/train/BraTS2021_00478\n"
     ]
    },
    {
     "name": "stderr",
     "output_type": "stream",
     "text": [
      "\n",
      "  0%|          | 0/80 [00:00<?, ?it/s]\u001b[A\n",
      " 31%|███▏      | 25/80 [00:00<00:00, 242.57it/s]\u001b[A\n",
      " 62%|██████▎   | 50/80 [00:00<00:00, 243.43it/s]\u001b[A\n",
      "100%|██████████| 80/80 [00:00<00:00, 240.14it/s]\u001b[A\n",
      " 87%|████████▋ | 979/1123 [14:03<01:48,  1.33it/s]"
     ]
    },
    {
     "name": "stdout",
     "output_type": "stream",
     "text": [
      "/home/jiang/projects/SubtleGAN/data/brats2021/train/BraTS2021_01622\n"
     ]
    },
    {
     "name": "stderr",
     "output_type": "stream",
     "text": [
      "\n",
      "  0%|          | 0/80 [00:00<?, ?it/s]\u001b[A\n",
      " 36%|███▋      | 29/80 [00:00<00:00, 286.48it/s]\u001b[A\n",
      "100%|██████████| 80/80 [00:00<00:00, 275.08it/s]\u001b[A\n",
      " 87%|████████▋ | 980/1123 [14:04<02:05,  1.14it/s]"
     ]
    },
    {
     "name": "stdout",
     "output_type": "stream",
     "text": [
      "/home/jiang/projects/SubtleGAN/data/brats2021/train/BraTS2021_01490\n"
     ]
    },
    {
     "name": "stderr",
     "output_type": "stream",
     "text": [
      "\n",
      "  0%|          | 0/80 [00:00<?, ?it/s]\u001b[A\n",
      " 31%|███▏      | 25/80 [00:00<00:00, 242.98it/s]\u001b[A\n",
      " 62%|██████▎   | 50/80 [00:00<00:00, 235.99it/s]\u001b[A\n",
      "100%|██████████| 80/80 [00:00<00:00, 231.16it/s]\u001b[A\n",
      " 87%|████████▋ | 981/1123 [14:05<02:00,  1.17it/s]"
     ]
    },
    {
     "name": "stdout",
     "output_type": "stream",
     "text": [
      "/home/jiang/projects/SubtleGAN/data/brats2021/train/BraTS2021_01562\n"
     ]
    },
    {
     "name": "stderr",
     "output_type": "stream",
     "text": [
      "\n",
      "  0%|          | 0/80 [00:00<?, ?it/s]\u001b[A\n",
      " 38%|███▊      | 30/80 [00:00<00:00, 293.90it/s]\u001b[A\n",
      "100%|██████████| 80/80 [00:00<00:00, 240.21it/s]\u001b[A\n",
      " 87%|████████▋ | 982/1123 [14:06<02:13,  1.05it/s]"
     ]
    },
    {
     "name": "stdout",
     "output_type": "stream",
     "text": [
      "/home/jiang/projects/SubtleGAN/data/brats2021/train/BraTS2021_00480\n"
     ]
    },
    {
     "name": "stderr",
     "output_type": "stream",
     "text": [
      "\n",
      "  0%|          | 0/80 [00:00<?, ?it/s]\u001b[A\n",
      " 35%|███▌      | 28/80 [00:00<00:00, 274.26it/s]\u001b[A\n",
      "100%|██████████| 80/80 [00:00<00:00, 268.82it/s]\u001b[A\n",
      " 88%|████████▊ | 983/1123 [14:07<02:01,  1.16it/s]"
     ]
    },
    {
     "name": "stdout",
     "output_type": "stream",
     "text": [
      "/home/jiang/projects/SubtleGAN/data/brats2021/train/BraTS2021_01325\n"
     ]
    },
    {
     "name": "stderr",
     "output_type": "stream",
     "text": [
      "\n",
      "  0%|          | 0/80 [00:00<?, ?it/s]\u001b[A\n",
      " 34%|███▍      | 27/80 [00:00<00:00, 260.62it/s]\u001b[A\n",
      " 68%|██████▊   | 54/80 [00:00<00:00, 253.35it/s]\u001b[A\n",
      "100%|██████████| 80/80 [00:00<00:00, 251.42it/s]\u001b[A\n",
      " 88%|████████▊ | 984/1123 [14:08<01:58,  1.17it/s]"
     ]
    },
    {
     "name": "stdout",
     "output_type": "stream",
     "text": [
      "/home/jiang/projects/SubtleGAN/data/brats2021/train/BraTS2021_01394\n"
     ]
    },
    {
     "name": "stderr",
     "output_type": "stream",
     "text": [
      "\n",
      "  0%|          | 0/80 [00:00<?, ?it/s]\u001b[A\n",
      " 16%|█▋        | 13/80 [00:00<00:00, 124.81it/s]\u001b[A\n",
      " 44%|████▍     | 35/80 [00:00<00:00, 179.57it/s]\u001b[A\n",
      "100%|██████████| 80/80 [00:00<00:00, 205.85it/s]\u001b[A\n",
      " 88%|████████▊ | 985/1123 [14:09<01:56,  1.18it/s]"
     ]
    },
    {
     "name": "stdout",
     "output_type": "stream",
     "text": [
      "/home/jiang/projects/SubtleGAN/data/brats2021/train/BraTS2021_01644\n"
     ]
    },
    {
     "name": "stderr",
     "output_type": "stream",
     "text": [
      "\n",
      "  0%|          | 0/80 [00:00<?, ?it/s]\u001b[A\n",
      " 38%|███▊      | 30/80 [00:00<00:00, 296.87it/s]\u001b[A\n",
      "100%|██████████| 80/80 [00:00<00:00, 288.30it/s]\u001b[A\n",
      " 88%|████████▊ | 986/1123 [14:10<02:05,  1.09it/s]"
     ]
    },
    {
     "name": "stdout",
     "output_type": "stream",
     "text": [
      "/home/jiang/projects/SubtleGAN/data/brats2021/train/BraTS2021_00759\n"
     ]
    },
    {
     "name": "stderr",
     "output_type": "stream",
     "text": [
      "\n",
      "  0%|          | 0/80 [00:00<?, ?it/s]\u001b[A\n",
      " 34%|███▍      | 27/80 [00:00<00:00, 264.00it/s]\u001b[A\n",
      " 68%|██████▊   | 54/80 [00:00<00:00, 254.44it/s]\u001b[A\n",
      "100%|██████████| 80/80 [00:00<00:00, 252.04it/s]\u001b[A\n",
      " 88%|████████▊ | 987/1123 [14:10<01:54,  1.18it/s]"
     ]
    },
    {
     "name": "stdout",
     "output_type": "stream",
     "text": [
      "/home/jiang/projects/SubtleGAN/data/brats2021/train/BraTS2021_01614\n"
     ]
    },
    {
     "name": "stderr",
     "output_type": "stream",
     "text": [
      "\n",
      "  0%|          | 0/80 [00:00<?, ?it/s]\u001b[A\n",
      " 39%|███▉      | 31/80 [00:00<00:00, 308.47it/s]\u001b[A\n",
      "100%|██████████| 80/80 [00:00<00:00, 292.43it/s]\u001b[A\n",
      " 88%|████████▊ | 988/1123 [14:12<02:05,  1.08it/s]"
     ]
    },
    {
     "name": "stdout",
     "output_type": "stream",
     "text": [
      "/home/jiang/projects/SubtleGAN/data/brats2021/train/BraTS2021_01251\n"
     ]
    },
    {
     "name": "stderr",
     "output_type": "stream",
     "text": [
      "\n",
      "  0%|          | 0/80 [00:00<?, ?it/s]\u001b[A\n",
      " 29%|██▉       | 23/80 [00:00<00:00, 228.80it/s]\u001b[A\n",
      " 57%|█████▊    | 46/80 [00:00<00:00, 224.34it/s]\u001b[A\n",
      "100%|██████████| 80/80 [00:00<00:00, 223.43it/s]\u001b[A\n",
      " 88%|████████▊ | 989/1123 [14:12<01:58,  1.13it/s]"
     ]
    },
    {
     "name": "stdout",
     "output_type": "stream",
     "text": [
      "/home/jiang/projects/SubtleGAN/data/brats2021/train/BraTS2021_01576\n"
     ]
    },
    {
     "name": "stderr",
     "output_type": "stream",
     "text": [
      "\n",
      "  0%|          | 0/80 [00:00<?, ?it/s]\u001b[A\n",
      " 39%|███▉      | 31/80 [00:00<00:00, 307.14it/s]\u001b[A\n",
      "100%|██████████| 80/80 [00:00<00:00, 296.97it/s]\u001b[A\n",
      " 88%|████████▊ | 990/1123 [14:14<02:08,  1.04it/s]"
     ]
    },
    {
     "name": "stdout",
     "output_type": "stream",
     "text": [
      "/home/jiang/projects/SubtleGAN/data/brats2021/train/BraTS2021_00052\n"
     ]
    },
    {
     "name": "stderr",
     "output_type": "stream",
     "text": [
      "\n",
      "  0%|          | 0/80 [00:00<?, ?it/s]\u001b[A\n",
      " 31%|███▏      | 25/80 [00:00<00:00, 248.92it/s]\u001b[A\n",
      " 62%|██████▎   | 50/80 [00:00<00:00, 247.82it/s]\u001b[A\n",
      "100%|██████████| 80/80 [00:00<00:00, 248.62it/s]\u001b[A\n",
      " 88%|████████▊ | 991/1123 [14:14<01:56,  1.13it/s]"
     ]
    },
    {
     "name": "stdout",
     "output_type": "stream",
     "text": [
      "/home/jiang/projects/SubtleGAN/data/brats2021/train/BraTS2021_00379\n"
     ]
    },
    {
     "name": "stderr",
     "output_type": "stream",
     "text": [
      "\n",
      "  0%|          | 0/80 [00:00<?, ?it/s]\u001b[A\n",
      " 34%|███▍      | 27/80 [00:00<00:00, 265.08it/s]\u001b[A\n",
      " 68%|██████▊   | 54/80 [00:00<00:00, 251.82it/s]\u001b[A\n",
      "100%|██████████| 80/80 [00:00<00:00, 248.46it/s]\u001b[A\n",
      " 88%|████████▊ | 992/1123 [14:15<01:51,  1.18it/s]"
     ]
    },
    {
     "name": "stdout",
     "output_type": "stream",
     "text": [
      "/home/jiang/projects/SubtleGAN/data/brats2021/train/BraTS2021_00241\n"
     ]
    },
    {
     "name": "stderr",
     "output_type": "stream",
     "text": [
      "\n",
      "  0%|          | 0/80 [00:00<?, ?it/s]\u001b[A\n",
      " 32%|███▎      | 26/80 [00:00<00:00, 253.07it/s]\u001b[A\n",
      " 65%|██████▌   | 52/80 [00:00<00:00, 233.65it/s]\u001b[A\n",
      "100%|██████████| 80/80 [00:00<00:00, 220.03it/s]\u001b[A\n",
      " 88%|████████▊ | 993/1123 [14:16<01:48,  1.19it/s]"
     ]
    },
    {
     "name": "stdout",
     "output_type": "stream",
     "text": [
      "/home/jiang/projects/SubtleGAN/data/brats2021/train/BraTS2021_01199\n"
     ]
    },
    {
     "name": "stderr",
     "output_type": "stream",
     "text": [
      "\n",
      "  0%|          | 0/80 [00:00<?, ?it/s]\u001b[A\n",
      " 26%|██▋       | 21/80 [00:00<00:00, 196.40it/s]\u001b[A\n",
      " 51%|█████▏    | 41/80 [00:00<00:00, 158.53it/s]\u001b[A\n",
      " 72%|███████▎  | 58/80 [00:00<00:00, 159.52it/s]\u001b[A\n",
      "100%|██████████| 80/80 [00:00<00:00, 164.71it/s]\u001b[A\n",
      " 89%|████████▊ | 994/1123 [14:17<01:51,  1.15it/s]"
     ]
    },
    {
     "name": "stdout",
     "output_type": "stream",
     "text": [
      "/home/jiang/projects/SubtleGAN/data/brats2021/train/BraTS2021_00685\n"
     ]
    },
    {
     "name": "stderr",
     "output_type": "stream",
     "text": [
      "\n",
      "  0%|          | 0/80 [00:00<?, ?it/s]\u001b[A\n",
      " 26%|██▋       | 21/80 [00:00<00:00, 204.17it/s]\u001b[A\n",
      " 52%|█████▎    | 42/80 [00:00<00:00, 197.20it/s]\u001b[A\n",
      "100%|██████████| 80/80 [00:00<00:00, 194.50it/s]\u001b[A\n",
      " 89%|████████▊ | 995/1123 [14:18<01:48,  1.18it/s]"
     ]
    },
    {
     "name": "stdout",
     "output_type": "stream",
     "text": [
      "/home/jiang/projects/SubtleGAN/data/brats2021/train/BraTS2021_00676\n"
     ]
    },
    {
     "name": "stderr",
     "output_type": "stream",
     "text": [
      "\n",
      "  0%|          | 0/80 [00:00<?, ?it/s]\u001b[A\n",
      " 26%|██▋       | 21/80 [00:00<00:00, 208.80it/s]\u001b[A\n",
      " 52%|█████▎    | 42/80 [00:00<00:00, 193.79it/s]\u001b[A\n",
      "100%|██████████| 80/80 [00:00<00:00, 197.79it/s]\u001b[A\n",
      " 89%|████████▊ | 996/1123 [14:18<01:44,  1.21it/s]"
     ]
    },
    {
     "name": "stdout",
     "output_type": "stream",
     "text": [
      "/home/jiang/projects/SubtleGAN/data/brats2021/train/BraTS2021_01031\n"
     ]
    },
    {
     "name": "stderr",
     "output_type": "stream",
     "text": [
      "\n",
      "  0%|          | 0/80 [00:00<?, ?it/s]\u001b[A\n",
      " 39%|███▉      | 31/80 [00:00<00:00, 306.69it/s]\u001b[A\n",
      "100%|██████████| 80/80 [00:00<00:00, 278.22it/s]\u001b[A\n",
      " 89%|████████▉ | 997/1123 [14:19<01:51,  1.13it/s]"
     ]
    },
    {
     "name": "stdout",
     "output_type": "stream",
     "text": [
      "/home/jiang/projects/SubtleGAN/data/brats2021/train/BraTS2021_01052\n"
     ]
    },
    {
     "name": "stderr",
     "output_type": "stream",
     "text": [
      "\n",
      "  0%|          | 0/80 [00:00<?, ?it/s]\u001b[A\n",
      " 28%|██▊       | 22/80 [00:00<00:00, 213.73it/s]\u001b[A\n",
      " 55%|█████▌    | 44/80 [00:00<00:00, 199.60it/s]\u001b[A\n",
      "100%|██████████| 80/80 [00:00<00:00, 196.20it/s]\u001b[A\n",
      " 89%|████████▉ | 998/1123 [14:20<01:49,  1.14it/s]"
     ]
    },
    {
     "name": "stdout",
     "output_type": "stream",
     "text": [
      "/home/jiang/projects/SubtleGAN/data/brats2021/train/BraTS2021_00599\n"
     ]
    },
    {
     "name": "stderr",
     "output_type": "stream",
     "text": [
      "\n",
      "  0%|          | 0/80 [00:00<?, ?it/s]\u001b[A\n",
      " 39%|███▉      | 31/80 [00:00<00:00, 300.48it/s]\u001b[A\n",
      "100%|██████████| 80/80 [00:00<00:00, 281.16it/s]\u001b[A\n",
      " 89%|████████▉ | 999/1123 [14:21<01:59,  1.04it/s]"
     ]
    },
    {
     "name": "stdout",
     "output_type": "stream",
     "text": [
      "/home/jiang/projects/SubtleGAN/data/brats2021/train/BraTS2021_01428\n"
     ]
    },
    {
     "name": "stderr",
     "output_type": "stream",
     "text": [
      "\n",
      "  0%|          | 0/80 [00:00<?, ?it/s]\u001b[A\n",
      " 28%|██▊       | 22/80 [00:00<00:00, 211.45it/s]\u001b[A\n",
      " 55%|█████▌    | 44/80 [00:00<00:00, 197.62it/s]\u001b[A\n",
      "100%|██████████| 80/80 [00:00<00:00, 191.42it/s]\u001b[A\n",
      " 89%|████████▉ | 1000/1123 [14:22<01:54,  1.07it/s]"
     ]
    },
    {
     "name": "stdout",
     "output_type": "stream",
     "text": [
      "/home/jiang/projects/SubtleGAN/data/brats2021/train/BraTS2021_01145\n"
     ]
    },
    {
     "name": "stderr",
     "output_type": "stream",
     "text": [
      "\n",
      "  0%|          | 0/80 [00:00<?, ?it/s]\u001b[A\n",
      " 18%|█▊        | 14/80 [00:00<00:00, 133.08it/s]\u001b[A\n",
      " 42%|████▎     | 34/80 [00:00<00:00, 166.98it/s]\u001b[A\n",
      " 69%|██████▉   | 55/80 [00:00<00:00, 184.42it/s]\u001b[A\n",
      "100%|██████████| 80/80 [00:00<00:00, 181.46it/s]\u001b[A\n",
      " 89%|████████▉ | 1001/1123 [14:23<01:53,  1.08it/s]"
     ]
    },
    {
     "name": "stdout",
     "output_type": "stream",
     "text": [
      "/home/jiang/projects/SubtleGAN/data/brats2021/train/BraTS2021_00048\n"
     ]
    },
    {
     "name": "stderr",
     "output_type": "stream",
     "text": [
      "\n",
      "  0%|          | 0/80 [00:00<?, ?it/s]\u001b[A\n",
      " 28%|██▊       | 22/80 [00:00<00:00, 215.98it/s]\u001b[A\n",
      " 55%|█████▌    | 44/80 [00:00<00:00, 206.70it/s]\u001b[A\n",
      "100%|██████████| 80/80 [00:00<00:00, 202.02it/s]\u001b[A\n",
      " 89%|████████▉ | 1002/1123 [14:24<01:46,  1.13it/s]"
     ]
    },
    {
     "name": "stdout",
     "output_type": "stream",
     "text": [
      "/home/jiang/projects/SubtleGAN/data/brats2021/train/BraTS2021_00171\n"
     ]
    },
    {
     "name": "stderr",
     "output_type": "stream",
     "text": [
      "\n",
      "  0%|          | 0/80 [00:00<?, ?it/s]\u001b[A\n",
      " 26%|██▋       | 21/80 [00:00<00:00, 207.47it/s]\u001b[A\n",
      " 52%|█████▎    | 42/80 [00:00<00:00, 202.79it/s]\u001b[A\n",
      "100%|██████████| 80/80 [00:00<00:00, 200.66it/s]\u001b[A\n",
      " 89%|████████▉ | 1003/1123 [14:25<01:44,  1.15it/s]"
     ]
    },
    {
     "name": "stdout",
     "output_type": "stream",
     "text": [
      "/home/jiang/projects/SubtleGAN/data/brats2021/train/BraTS2021_01216\n"
     ]
    },
    {
     "name": "stderr",
     "output_type": "stream",
     "text": [
      "\n",
      "  0%|          | 0/80 [00:00<?, ?it/s]\u001b[A\n",
      " 25%|██▌       | 20/80 [00:00<00:00, 198.05it/s]\u001b[A\n",
      " 50%|█████     | 40/80 [00:00<00:00, 192.00it/s]\u001b[A\n",
      " 75%|███████▌  | 60/80 [00:00<00:00, 191.56it/s]\u001b[A\n",
      "100%|██████████| 80/80 [00:00<00:00, 191.13it/s]\u001b[A\n",
      " 89%|████████▉ | 1004/1123 [14:26<01:43,  1.15it/s]"
     ]
    },
    {
     "name": "stdout",
     "output_type": "stream",
     "text": [
      "/home/jiang/projects/SubtleGAN/data/brats2021/train/BraTS2021_01589\n"
     ]
    },
    {
     "name": "stderr",
     "output_type": "stream",
     "text": [
      "\n",
      "  0%|          | 0/80 [00:00<?, ?it/s]\u001b[A\n",
      " 39%|███▉      | 31/80 [00:00<00:00, 309.04it/s]\u001b[A\n",
      "100%|██████████| 80/80 [00:00<00:00, 231.25it/s]\u001b[A\n",
      " 89%|████████▉ | 1005/1123 [14:27<02:01,  1.03s/it]"
     ]
    },
    {
     "name": "stdout",
     "output_type": "stream",
     "text": [
      "/home/jiang/projects/SubtleGAN/data/brats2021/train/BraTS2021_01260\n"
     ]
    },
    {
     "name": "stderr",
     "output_type": "stream",
     "text": [
      "\n",
      "  0%|          | 0/80 [00:00<?, ?it/s]\u001b[A\n",
      " 29%|██▉       | 23/80 [00:00<00:00, 228.24it/s]\u001b[A\n",
      " 57%|█████▊    | 46/80 [00:00<00:00, 203.90it/s]\u001b[A\n",
      "100%|██████████| 80/80 [00:00<00:00, 198.36it/s]\u001b[A\n",
      " 90%|████████▉ | 1006/1123 [14:28<01:53,  1.03it/s]"
     ]
    },
    {
     "name": "stdout",
     "output_type": "stream",
     "text": [
      "/home/jiang/projects/SubtleGAN/data/brats2021/train/BraTS2021_00228\n"
     ]
    },
    {
     "name": "stderr",
     "output_type": "stream",
     "text": [
      "\n",
      "  0%|          | 0/80 [00:00<?, ?it/s]\u001b[A\n",
      " 26%|██▋       | 21/80 [00:00<00:00, 208.83it/s]\u001b[A\n",
      " 52%|█████▎    | 42/80 [00:00<00:00, 204.32it/s]\u001b[A\n",
      "100%|██████████| 80/80 [00:00<00:00, 178.69it/s]\u001b[A\n",
      " 90%|████████▉ | 1007/1123 [14:29<01:50,  1.05it/s]"
     ]
    },
    {
     "name": "stdout",
     "output_type": "stream",
     "text": [
      "/home/jiang/projects/SubtleGAN/data/brats2021/train/BraTS2021_00642\n"
     ]
    },
    {
     "name": "stderr",
     "output_type": "stream",
     "text": [
      "\n",
      "  0%|          | 0/80 [00:00<?, ?it/s]\u001b[A\n",
      " 28%|██▊       | 22/80 [00:00<00:00, 213.87it/s]\u001b[A\n",
      " 55%|█████▌    | 44/80 [00:00<00:00, 204.27it/s]\u001b[A\n",
      "100%|██████████| 80/80 [00:00<00:00, 202.63it/s]\u001b[A\n",
      " 90%|████████▉ | 1008/1123 [14:30<01:43,  1.11it/s]"
     ]
    },
    {
     "name": "stdout",
     "output_type": "stream",
     "text": [
      "/home/jiang/projects/SubtleGAN/data/brats2021/train/BraTS2021_00366\n"
     ]
    },
    {
     "name": "stderr",
     "output_type": "stream",
     "text": [
      "\n",
      "  0%|          | 0/80 [00:00<?, ?it/s]\u001b[A\n",
      " 28%|██▊       | 22/80 [00:00<00:00, 210.09it/s]\u001b[A\n",
      " 55%|█████▌    | 44/80 [00:00<00:00, 204.51it/s]\u001b[A\n",
      "100%|██████████| 80/80 [00:00<00:00, 204.19it/s]\u001b[A\n",
      " 90%|████████▉ | 1009/1123 [14:30<01:40,  1.14it/s]"
     ]
    },
    {
     "name": "stdout",
     "output_type": "stream",
     "text": [
      "/home/jiang/projects/SubtleGAN/data/brats2021/train/BraTS2021_01666\n"
     ]
    },
    {
     "name": "stderr",
     "output_type": "stream",
     "text": [
      "\n",
      "  0%|          | 0/80 [00:00<?, ?it/s]\u001b[A\n",
      " 28%|██▊       | 22/80 [00:00<00:00, 214.25it/s]\u001b[A\n",
      " 55%|█████▌    | 44/80 [00:00<00:00, 207.25it/s]\u001b[A\n",
      "100%|██████████| 80/80 [00:00<00:00, 208.23it/s]\u001b[A\n",
      " 90%|████████▉ | 1010/1123 [14:31<01:37,  1.16it/s]"
     ]
    },
    {
     "name": "stdout",
     "output_type": "stream",
     "text": [
      "/home/jiang/projects/SubtleGAN/data/brats2021/train/BraTS2021_01207\n"
     ]
    },
    {
     "name": "stderr",
     "output_type": "stream",
     "text": [
      "\n",
      "  0%|          | 0/80 [00:00<?, ?it/s]\u001b[A\n",
      " 28%|██▊       | 22/80 [00:00<00:00, 213.24it/s]\u001b[A\n",
      " 55%|█████▌    | 44/80 [00:00<00:00, 207.53it/s]\u001b[A\n",
      "100%|██████████| 80/80 [00:00<00:00, 203.31it/s]\u001b[A\n",
      " 90%|█████████ | 1011/1123 [14:32<01:35,  1.17it/s]"
     ]
    },
    {
     "name": "stdout",
     "output_type": "stream",
     "text": [
      "/home/jiang/projects/SubtleGAN/data/brats2021/train/BraTS2021_00452\n"
     ]
    },
    {
     "name": "stderr",
     "output_type": "stream",
     "text": [
      "\n",
      "  0%|          | 0/80 [00:00<?, ?it/s]\u001b[A\n",
      " 29%|██▉       | 23/80 [00:00<00:00, 225.57it/s]\u001b[A\n",
      " 57%|█████▊    | 46/80 [00:00<00:00, 210.23it/s]\u001b[A\n",
      "100%|██████████| 80/80 [00:00<00:00, 204.95it/s]\u001b[A\n",
      " 90%|█████████ | 1012/1123 [14:33<01:34,  1.17it/s]"
     ]
    },
    {
     "name": "stdout",
     "output_type": "stream",
     "text": [
      "/home/jiang/projects/SubtleGAN/data/brats2021/train/BraTS2021_00193\n"
     ]
    },
    {
     "name": "stderr",
     "output_type": "stream",
     "text": [
      "\n",
      "  0%|          | 0/80 [00:00<?, ?it/s]\u001b[A\n",
      " 24%|██▍       | 19/80 [00:00<00:00, 186.18it/s]\u001b[A\n",
      " 48%|████▊     | 38/80 [00:00<00:00, 177.60it/s]\u001b[A\n",
      " 72%|███████▎  | 58/80 [00:00<00:00, 186.33it/s]\u001b[A\n",
      "100%|██████████| 80/80 [00:00<00:00, 187.48it/s]\u001b[A\n",
      " 90%|█████████ | 1013/1123 [14:34<01:38,  1.12it/s]"
     ]
    },
    {
     "name": "stdout",
     "output_type": "stream",
     "text": [
      "/home/jiang/projects/SubtleGAN/data/brats2021/train/BraTS2021_01169\n"
     ]
    },
    {
     "name": "stderr",
     "output_type": "stream",
     "text": [
      "\n",
      "  0%|          | 0/80 [00:00<?, ?it/s]\u001b[A\n",
      " 28%|██▊       | 22/80 [00:00<00:00, 215.26it/s]\u001b[A\n",
      " 55%|█████▌    | 44/80 [00:00<00:00, 203.96it/s]\u001b[A\n",
      "100%|██████████| 80/80 [00:00<00:00, 201.13it/s]\u001b[A\n",
      " 90%|█████████ | 1014/1123 [14:35<01:35,  1.15it/s]"
     ]
    },
    {
     "name": "stdout",
     "output_type": "stream",
     "text": [
      "/home/jiang/projects/SubtleGAN/data/brats2021/train/BraTS2021_01174\n"
     ]
    },
    {
     "name": "stderr",
     "output_type": "stream",
     "text": [
      "\n",
      "  0%|          | 0/80 [00:00<?, ?it/s]\u001b[A\n",
      " 28%|██▊       | 22/80 [00:00<00:00, 212.34it/s]\u001b[A\n",
      " 55%|█████▌    | 44/80 [00:00<00:00, 201.09it/s]\u001b[A\n",
      "100%|██████████| 80/80 [00:00<00:00, 208.53it/s]\u001b[A\n",
      " 90%|█████████ | 1015/1123 [14:36<01:32,  1.16it/s]"
     ]
    },
    {
     "name": "stdout",
     "output_type": "stream",
     "text": [
      "/home/jiang/projects/SubtleGAN/data/brats2021/train/BraTS2021_01521\n"
     ]
    },
    {
     "name": "stderr",
     "output_type": "stream",
     "text": [
      "\n",
      "  0%|          | 0/80 [00:00<?, ?it/s]\u001b[A\n",
      " 28%|██▊       | 22/80 [00:00<00:00, 217.32it/s]\u001b[A\n",
      " 55%|█████▌    | 44/80 [00:00<00:00, 207.30it/s]\u001b[A\n",
      "100%|██████████| 80/80 [00:00<00:00, 206.31it/s]\u001b[A\n",
      " 90%|█████████ | 1016/1123 [14:36<01:31,  1.16it/s]"
     ]
    },
    {
     "name": "stdout",
     "output_type": "stream",
     "text": [
      "/home/jiang/projects/SubtleGAN/data/brats2021/train/BraTS2021_01609\n"
     ]
    },
    {
     "name": "stderr",
     "output_type": "stream",
     "text": [
      "\n",
      "  0%|          | 0/80 [00:00<?, ?it/s]\u001b[A\n",
      " 18%|█▊        | 14/80 [00:00<00:00, 136.28it/s]\u001b[A\n",
      " 49%|████▉     | 39/80 [00:00<00:00, 198.60it/s]\u001b[A\n",
      "100%|██████████| 80/80 [00:00<00:00, 221.16it/s]\u001b[A\n",
      " 91%|█████████ | 1017/1123 [14:38<01:44,  1.02it/s]"
     ]
    },
    {
     "name": "stdout",
     "output_type": "stream",
     "text": [
      "/home/jiang/projects/SubtleGAN/data/brats2021/train/BraTS2021_01543\n"
     ]
    },
    {
     "name": "stderr",
     "output_type": "stream",
     "text": [
      "\n",
      "  0%|          | 0/80 [00:00<?, ?it/s]\u001b[A\n",
      " 38%|███▊      | 30/80 [00:00<00:00, 298.99it/s]\u001b[A\n",
      "100%|██████████| 80/80 [00:00<00:00, 273.40it/s]\u001b[A\n",
      " 91%|█████████ | 1018/1123 [14:39<01:50,  1.06s/it]"
     ]
    },
    {
     "name": "stdout",
     "output_type": "stream",
     "text": [
      "/home/jiang/projects/SubtleGAN/data/brats2021/train/BraTS2021_00767\n"
     ]
    },
    {
     "name": "stderr",
     "output_type": "stream",
     "text": [
      "\n",
      "  0%|          | 0/80 [00:00<?, ?it/s]\u001b[A\n",
      " 26%|██▋       | 21/80 [00:00<00:00, 202.27it/s]\u001b[A\n",
      " 52%|█████▎    | 42/80 [00:00<00:00, 195.42it/s]\u001b[A\n",
      "100%|██████████| 80/80 [00:00<00:00, 197.28it/s]\u001b[A\n",
      " 91%|█████████ | 1019/1123 [14:40<01:41,  1.03it/s]"
     ]
    },
    {
     "name": "stdout",
     "output_type": "stream",
     "text": [
      "/home/jiang/projects/SubtleGAN/data/brats2021/train/BraTS2021_01272\n"
     ]
    },
    {
     "name": "stderr",
     "output_type": "stream",
     "text": [
      "\n",
      "  0%|          | 0/80 [00:00<?, ?it/s]\u001b[A\n",
      " 26%|██▋       | 21/80 [00:00<00:00, 203.91it/s]\u001b[A\n",
      " 52%|█████▎    | 42/80 [00:00<00:00, 203.86it/s]\u001b[A\n",
      "100%|██████████| 80/80 [00:00<00:00, 204.16it/s]\u001b[A\n",
      " 91%|█████████ | 1020/1123 [14:41<01:35,  1.08it/s]"
     ]
    },
    {
     "name": "stdout",
     "output_type": "stream",
     "text": [
      "/home/jiang/projects/SubtleGAN/data/brats2021/train/BraTS2021_01284\n"
     ]
    },
    {
     "name": "stderr",
     "output_type": "stream",
     "text": [
      "\n",
      "  0%|          | 0/80 [00:00<?, ?it/s]\u001b[A\n",
      " 26%|██▋       | 21/80 [00:00<00:00, 209.65it/s]\u001b[A\n",
      " 52%|█████▎    | 42/80 [00:00<00:00, 202.91it/s]\u001b[A\n",
      "100%|██████████| 80/80 [00:00<00:00, 170.17it/s]\u001b[A\n",
      " 91%|█████████ | 1021/1123 [14:41<01:34,  1.08it/s]"
     ]
    },
    {
     "name": "stdout",
     "output_type": "stream",
     "text": [
      "/home/jiang/projects/SubtleGAN/data/brats2021/train/BraTS2021_01515\n"
     ]
    },
    {
     "name": "stderr",
     "output_type": "stream",
     "text": [
      "\n",
      "  0%|          | 0/80 [00:00<?, ?it/s]\u001b[A\n",
      " 14%|█▍        | 11/80 [00:00<00:00, 101.84it/s]\u001b[A\n",
      " 36%|███▋      | 29/80 [00:00<00:00, 145.86it/s]\u001b[A\n",
      " 62%|██████▎   | 50/80 [00:00<00:00, 171.89it/s]\u001b[A\n",
      "100%|██████████| 80/80 [00:00<00:00, 174.01it/s]\u001b[A\n",
      " 91%|█████████ | 1022/1123 [14:42<01:33,  1.08it/s]"
     ]
    },
    {
     "name": "stdout",
     "output_type": "stream",
     "text": [
      "/home/jiang/projects/SubtleGAN/data/brats2021/train/BraTS2021_00758\n"
     ]
    },
    {
     "name": "stderr",
     "output_type": "stream",
     "text": [
      "\n",
      "  0%|          | 0/80 [00:00<?, ?it/s]\u001b[A\n",
      " 28%|██▊       | 22/80 [00:00<00:00, 215.64it/s]\u001b[A\n",
      " 55%|█████▌    | 44/80 [00:00<00:00, 210.75it/s]\u001b[A\n",
      "100%|██████████| 80/80 [00:00<00:00, 209.24it/s]\u001b[A\n",
      " 91%|█████████ | 1023/1123 [14:43<01:28,  1.13it/s]"
     ]
    },
    {
     "name": "stdout",
     "output_type": "stream",
     "text": [
      "/home/jiang/projects/SubtleGAN/data/brats2021/train/BraTS2021_01369\n"
     ]
    },
    {
     "name": "stderr",
     "output_type": "stream",
     "text": [
      "\n",
      "  0%|          | 0/80 [00:00<?, ?it/s]\u001b[A\n",
      " 29%|██▉       | 23/80 [00:00<00:00, 220.63it/s]\u001b[A\n",
      " 57%|█████▊    | 46/80 [00:00<00:00, 211.91it/s]\u001b[A\n",
      "100%|██████████| 80/80 [00:00<00:00, 208.14it/s]\u001b[A\n",
      " 91%|█████████ | 1024/1123 [14:44<01:26,  1.15it/s]"
     ]
    },
    {
     "name": "stdout",
     "output_type": "stream",
     "text": [
      "/home/jiang/projects/SubtleGAN/data/brats2021/train/BraTS2021_01299\n"
     ]
    },
    {
     "name": "stderr",
     "output_type": "stream",
     "text": [
      "\n",
      "  0%|          | 0/80 [00:00<?, ?it/s]\u001b[A\n",
      " 26%|██▋       | 21/80 [00:00<00:00, 207.82it/s]\u001b[A\n",
      " 52%|█████▎    | 42/80 [00:00<00:00, 196.84it/s]\u001b[A\n",
      "100%|██████████| 80/80 [00:00<00:00, 191.84it/s]\u001b[A\n",
      " 91%|█████████▏| 1025/1123 [14:45<01:24,  1.15it/s]"
     ]
    },
    {
     "name": "stdout",
     "output_type": "stream",
     "text": [
      "/home/jiang/projects/SubtleGAN/data/brats2021/train/BraTS2021_00024\n"
     ]
    },
    {
     "name": "stderr",
     "output_type": "stream",
     "text": [
      "\n",
      "  0%|          | 0/80 [00:00<?, ?it/s]\u001b[A\n",
      " 28%|██▊       | 22/80 [00:00<00:00, 219.25it/s]\u001b[A\n",
      " 55%|█████▌    | 44/80 [00:00<00:00, 206.43it/s]\u001b[A\n",
      "100%|██████████| 80/80 [00:00<00:00, 202.51it/s]\u001b[A\n",
      " 91%|█████████▏| 1026/1123 [14:46<01:21,  1.19it/s]"
     ]
    },
    {
     "name": "stdout",
     "output_type": "stream",
     "text": [
      "/home/jiang/projects/SubtleGAN/data/brats2021/train/BraTS2021_01214\n"
     ]
    },
    {
     "name": "stderr",
     "output_type": "stream",
     "text": [
      "\n",
      "  0%|          | 0/80 [00:00<?, ?it/s]\u001b[A\n",
      " 28%|██▊       | 22/80 [00:00<00:00, 209.71it/s]\u001b[A\n",
      " 54%|█████▍    | 43/80 [00:00<00:00, 207.17it/s]\u001b[A\n",
      "100%|██████████| 80/80 [00:00<00:00, 207.44it/s]\u001b[A\n",
      " 91%|█████████▏| 1027/1123 [14:47<01:22,  1.16it/s]"
     ]
    },
    {
     "name": "stdout",
     "output_type": "stream",
     "text": [
      "/home/jiang/projects/SubtleGAN/data/brats2021/train/BraTS2021_01612\n"
     ]
    },
    {
     "name": "stderr",
     "output_type": "stream",
     "text": [
      "\n",
      "  0%|          | 0/80 [00:00<?, ?it/s]\u001b[A\n",
      " 35%|███▌      | 28/80 [00:00<00:00, 277.75it/s]\u001b[A\n",
      "100%|██████████| 80/80 [00:00<00:00, 275.33it/s]\u001b[A\n",
      " 92%|█████████▏| 1028/1123 [14:48<01:30,  1.05it/s]"
     ]
    },
    {
     "name": "stdout",
     "output_type": "stream",
     "text": [
      "/home/jiang/projects/SubtleGAN/data/brats2021/train/BraTS2021_01426\n"
     ]
    },
    {
     "name": "stderr",
     "output_type": "stream",
     "text": [
      "\n",
      "  0%|          | 0/80 [00:00<?, ?it/s]\u001b[A\n",
      " 26%|██▋       | 21/80 [00:00<00:00, 202.96it/s]\u001b[A\n",
      " 52%|█████▎    | 42/80 [00:00<00:00, 193.07it/s]\u001b[A\n",
      "100%|██████████| 80/80 [00:00<00:00, 201.88it/s]\u001b[A\n",
      " 92%|█████████▏| 1029/1123 [14:49<01:26,  1.09it/s]"
     ]
    },
    {
     "name": "stdout",
     "output_type": "stream",
     "text": [
      "/home/jiang/projects/SubtleGAN/data/brats2021/train/BraTS2021_01205\n"
     ]
    },
    {
     "name": "stderr",
     "output_type": "stream",
     "text": [
      "\n",
      "  0%|          | 0/80 [00:00<?, ?it/s]\u001b[A\n",
      " 28%|██▊       | 22/80 [00:00<00:00, 216.48it/s]\u001b[A\n",
      " 55%|█████▌    | 44/80 [00:00<00:00, 207.30it/s]\u001b[A\n",
      "100%|██████████| 80/80 [00:00<00:00, 201.73it/s]\u001b[A\n",
      " 92%|█████████▏| 1030/1123 [14:49<01:23,  1.12it/s]"
     ]
    },
    {
     "name": "stdout",
     "output_type": "stream",
     "text": [
      "/home/jiang/projects/SubtleGAN/data/brats2021/train/BraTS2021_00371\n"
     ]
    },
    {
     "name": "stderr",
     "output_type": "stream",
     "text": [
      "\n",
      "  0%|          | 0/80 [00:00<?, ?it/s]\u001b[A\n",
      " 29%|██▉       | 23/80 [00:00<00:00, 224.37it/s]\u001b[A\n",
      " 57%|█████▊    | 46/80 [00:00<00:00, 208.81it/s]\u001b[A\n",
      "100%|██████████| 80/80 [00:00<00:00, 193.64it/s]\u001b[A\n",
      " 92%|█████████▏| 1031/1123 [14:50<01:21,  1.13it/s]"
     ]
    },
    {
     "name": "stdout",
     "output_type": "stream",
     "text": [
      "/home/jiang/projects/SubtleGAN/data/brats2021/train/BraTS2021_01285\n"
     ]
    },
    {
     "name": "stderr",
     "output_type": "stream",
     "text": [
      "\n",
      "  0%|          | 0/80 [00:00<?, ?it/s]\u001b[A\n",
      " 28%|██▊       | 22/80 [00:00<00:00, 219.11it/s]\u001b[A\n",
      " 55%|█████▌    | 44/80 [00:00<00:00, 209.87it/s]\u001b[A\n",
      "100%|██████████| 80/80 [00:00<00:00, 204.66it/s]\u001b[A\n",
      " 92%|█████████▏| 1032/1123 [14:51<01:19,  1.15it/s]"
     ]
    },
    {
     "name": "stdout",
     "output_type": "stream",
     "text": [
      "/home/jiang/projects/SubtleGAN/data/brats2021/train/BraTS2021_01581\n"
     ]
    },
    {
     "name": "stderr",
     "output_type": "stream",
     "text": [
      "\n",
      "  0%|          | 0/80 [00:00<?, ?it/s]\u001b[A\n",
      " 39%|███▉      | 31/80 [00:00<00:00, 306.20it/s]\u001b[A\n",
      "100%|██████████| 80/80 [00:00<00:00, 283.77it/s]\u001b[A\n",
      " 92%|█████████▏| 1033/1123 [14:52<01:27,  1.03it/s]"
     ]
    },
    {
     "name": "stdout",
     "output_type": "stream",
     "text": [
      "/home/jiang/projects/SubtleGAN/data/brats2021/train/BraTS2021_01359\n"
     ]
    },
    {
     "name": "stderr",
     "output_type": "stream",
     "text": [
      "\n",
      "  0%|          | 0/80 [00:00<?, ?it/s]\u001b[A\n",
      " 29%|██▉       | 23/80 [00:00<00:00, 224.02it/s]\u001b[A\n",
      " 57%|█████▊    | 46/80 [00:00<00:00, 195.16it/s]\u001b[A\n",
      "100%|██████████| 80/80 [00:00<00:00, 195.09it/s]\u001b[A\n",
      " 92%|█████████▏| 1034/1123 [14:53<01:23,  1.07it/s]"
     ]
    },
    {
     "name": "stdout",
     "output_type": "stream",
     "text": [
      "/home/jiang/projects/SubtleGAN/data/brats2021/train/BraTS2021_01097\n"
     ]
    },
    {
     "name": "stderr",
     "output_type": "stream",
     "text": [
      "\n",
      "  0%|          | 0/80 [00:00<?, ?it/s]\u001b[A\n",
      " 28%|██▊       | 22/80 [00:00<00:00, 210.69it/s]\u001b[A\n",
      " 55%|█████▌    | 44/80 [00:00<00:00, 204.80it/s]\u001b[A\n",
      "100%|██████████| 80/80 [00:00<00:00, 192.42it/s]\u001b[A\n",
      " 92%|█████████▏| 1035/1123 [14:54<01:21,  1.09it/s]"
     ]
    },
    {
     "name": "stdout",
     "output_type": "stream",
     "text": [
      "/home/jiang/projects/SubtleGAN/data/brats2021/train/BraTS2021_00421\n"
     ]
    },
    {
     "name": "stderr",
     "output_type": "stream",
     "text": [
      "\n",
      "  0%|          | 0/80 [00:00<?, ?it/s]\u001b[A\n",
      " 26%|██▋       | 21/80 [00:00<00:00, 201.57it/s]\u001b[A\n",
      " 52%|█████▎    | 42/80 [00:00<00:00, 202.56it/s]\u001b[A\n",
      "100%|██████████| 80/80 [00:00<00:00, 203.20it/s]\u001b[A\n",
      " 92%|█████████▏| 1036/1123 [14:55<01:18,  1.11it/s]"
     ]
    },
    {
     "name": "stdout",
     "output_type": "stream",
     "text": [
      "/home/jiang/projects/SubtleGAN/data/brats2021/train/BraTS2021_00336\n"
     ]
    },
    {
     "name": "stderr",
     "output_type": "stream",
     "text": [
      "\n",
      "  0%|          | 0/80 [00:00<?, ?it/s]\u001b[A\n",
      " 28%|██▊       | 22/80 [00:00<00:00, 208.80it/s]\u001b[A\n",
      " 54%|█████▍    | 43/80 [00:00<00:00, 201.55it/s]\u001b[A\n",
      "100%|██████████| 80/80 [00:00<00:00, 209.78it/s]\u001b[A\n",
      " 92%|█████████▏| 1037/1123 [14:56<01:15,  1.14it/s]"
     ]
    },
    {
     "name": "stdout",
     "output_type": "stream",
     "text": [
      "/home/jiang/projects/SubtleGAN/data/brats2021/train/BraTS2021_00500\n"
     ]
    },
    {
     "name": "stderr",
     "output_type": "stream",
     "text": [
      "\n",
      "  0%|          | 0/80 [00:00<?, ?it/s]\u001b[A\n",
      " 24%|██▍       | 19/80 [00:00<00:00, 184.06it/s]\u001b[A\n",
      " 48%|████▊     | 38/80 [00:00<00:00, 181.42it/s]\u001b[A\n",
      " 71%|███████▏  | 57/80 [00:00<00:00, 127.88it/s]\u001b[A\n",
      "100%|██████████| 80/80 [00:00<00:00, 145.11it/s]\u001b[A\n",
      " 92%|█████████▏| 1038/1123 [14:57<01:16,  1.11it/s]"
     ]
    },
    {
     "name": "stdout",
     "output_type": "stream",
     "text": [
      "/home/jiang/projects/SubtleGAN/data/brats2021/train/BraTS2021_01388\n"
     ]
    },
    {
     "name": "stderr",
     "output_type": "stream",
     "text": [
      "\n",
      "  0%|          | 0/80 [00:00<?, ?it/s]\u001b[A\n",
      " 28%|██▊       | 22/80 [00:00<00:00, 212.50it/s]\u001b[A\n",
      " 55%|█████▌    | 44/80 [00:00<00:00, 199.43it/s]\u001b[A\n",
      "100%|██████████| 80/80 [00:00<00:00, 192.67it/s]\u001b[A\n",
      " 93%|█████████▎| 1039/1123 [14:58<01:15,  1.12it/s]"
     ]
    },
    {
     "name": "stdout",
     "output_type": "stream",
     "text": [
      "/home/jiang/projects/SubtleGAN/data/brats2021/train/BraTS2021_00606\n"
     ]
    },
    {
     "name": "stderr",
     "output_type": "stream",
     "text": [
      "\n",
      "  0%|          | 0/80 [00:00<?, ?it/s]\u001b[A\n",
      " 26%|██▋       | 21/80 [00:00<00:00, 206.98it/s]\u001b[A\n",
      " 52%|█████▎    | 42/80 [00:00<00:00, 194.39it/s]\u001b[A\n",
      "100%|██████████| 80/80 [00:00<00:00, 191.44it/s]\u001b[A\n",
      " 93%|█████████▎| 1040/1123 [14:58<01:12,  1.15it/s]"
     ]
    },
    {
     "name": "stdout",
     "output_type": "stream",
     "text": [
      "/home/jiang/projects/SubtleGAN/data/brats2021/train/BraTS2021_01269\n"
     ]
    },
    {
     "name": "stderr",
     "output_type": "stream",
     "text": [
      "\n",
      "  0%|          | 0/80 [00:00<?, ?it/s]\u001b[A\n",
      " 25%|██▌       | 20/80 [00:00<00:00, 197.71it/s]\u001b[A\n",
      " 50%|█████     | 40/80 [00:00<00:00, 189.12it/s]\u001b[A\n",
      " 74%|███████▍  | 59/80 [00:00<00:00, 188.07it/s]\u001b[A\n",
      "100%|██████████| 80/80 [00:00<00:00, 189.27it/s]\u001b[A\n",
      " 93%|█████████▎| 1041/1123 [14:59<01:14,  1.11it/s]"
     ]
    },
    {
     "name": "stdout",
     "output_type": "stream",
     "text": [
      "/home/jiang/projects/SubtleGAN/data/brats2021/train/BraTS2021_00009\n"
     ]
    },
    {
     "name": "stderr",
     "output_type": "stream",
     "text": [
      "\n",
      "  0%|          | 0/80 [00:00<?, ?it/s]\u001b[A\n",
      " 28%|██▊       | 22/80 [00:00<00:00, 210.19it/s]\u001b[A\n",
      " 55%|█████▌    | 44/80 [00:00<00:00, 192.94it/s]\u001b[A\n",
      "100%|██████████| 80/80 [00:00<00:00, 192.49it/s]\u001b[A\n",
      " 93%|█████████▎| 1042/1123 [15:00<01:10,  1.15it/s]"
     ]
    },
    {
     "name": "stdout",
     "output_type": "stream",
     "text": [
      "/home/jiang/projects/SubtleGAN/data/brats2021/train/BraTS2021_00683\n"
     ]
    },
    {
     "name": "stderr",
     "output_type": "stream",
     "text": [
      "\n",
      "  0%|          | 0/80 [00:00<?, ?it/s]\u001b[A\n",
      " 26%|██▋       | 21/80 [00:00<00:00, 203.94it/s]\u001b[A\n",
      " 52%|█████▎    | 42/80 [00:00<00:00, 198.92it/s]\u001b[A\n",
      "100%|██████████| 80/80 [00:00<00:00, 197.55it/s]\u001b[A\n",
      " 93%|█████████▎| 1043/1123 [15:01<01:08,  1.17it/s]"
     ]
    },
    {
     "name": "stdout",
     "output_type": "stream",
     "text": [
      "/home/jiang/projects/SubtleGAN/data/brats2021/train/BraTS2021_01128\n"
     ]
    },
    {
     "name": "stderr",
     "output_type": "stream",
     "text": [
      "\n",
      "  0%|          | 0/80 [00:00<?, ?it/s]\u001b[A\n",
      " 25%|██▌       | 20/80 [00:00<00:00, 189.44it/s]\u001b[A\n",
      " 50%|█████     | 40/80 [00:00<00:00, 194.20it/s]\u001b[A\n",
      "100%|██████████| 80/80 [00:00<00:00, 198.36it/s]\u001b[A\n",
      " 93%|█████████▎| 1044/1123 [15:02<01:07,  1.17it/s]"
     ]
    },
    {
     "name": "stdout",
     "output_type": "stream",
     "text": [
      "/home/jiang/projects/SubtleGAN/data/brats2021/train/BraTS2021_01208\n"
     ]
    },
    {
     "name": "stderr",
     "output_type": "stream",
     "text": [
      "\n",
      "  0%|          | 0/80 [00:00<?, ?it/s]\u001b[A\n",
      " 28%|██▊       | 22/80 [00:00<00:00, 209.86it/s]\u001b[A\n",
      " 54%|█████▍    | 43/80 [00:00<00:00, 200.31it/s]\u001b[A\n",
      "100%|██████████| 80/80 [00:00<00:00, 198.39it/s]\u001b[A\n",
      " 93%|█████████▎| 1045/1123 [15:03<01:06,  1.17it/s]"
     ]
    },
    {
     "name": "stdout",
     "output_type": "stream",
     "text": [
      "/home/jiang/projects/SubtleGAN/data/brats2021/train/BraTS2021_00630\n"
     ]
    },
    {
     "name": "stderr",
     "output_type": "stream",
     "text": [
      "\n",
      "  0%|          | 0/80 [00:00<?, ?it/s]\u001b[A\n",
      " 26%|██▋       | 21/80 [00:00<00:00, 203.65it/s]\u001b[A\n",
      " 52%|█████▎    | 42/80 [00:00<00:00, 196.85it/s]\u001b[A\n",
      "100%|██████████| 80/80 [00:00<00:00, 195.54it/s]\u001b[A\n",
      " 93%|█████████▎| 1046/1123 [15:03<01:04,  1.20it/s]"
     ]
    },
    {
     "name": "stdout",
     "output_type": "stream",
     "text": [
      "/home/jiang/projects/SubtleGAN/data/brats2021/train/BraTS2021_01015\n"
     ]
    },
    {
     "name": "stderr",
     "output_type": "stream",
     "text": [
      "\n",
      "  0%|          | 0/80 [00:00<?, ?it/s]\u001b[A\n",
      " 26%|██▋       | 21/80 [00:00<00:00, 207.93it/s]\u001b[A\n",
      " 52%|█████▎    | 42/80 [00:00<00:00, 209.04it/s]\u001b[A\n",
      "100%|██████████| 80/80 [00:00<00:00, 198.40it/s]\u001b[A\n",
      " 93%|█████████▎| 1047/1123 [15:04<01:03,  1.19it/s]"
     ]
    },
    {
     "name": "stdout",
     "output_type": "stream",
     "text": [
      "/home/jiang/projects/SubtleGAN/data/brats2021/train/BraTS2021_00344\n"
     ]
    },
    {
     "name": "stderr",
     "output_type": "stream",
     "text": [
      "\n",
      "  0%|          | 0/80 [00:00<?, ?it/s]\u001b[A\n",
      " 26%|██▋       | 21/80 [00:00<00:00, 207.76it/s]\u001b[A\n",
      " 52%|█████▎    | 42/80 [00:00<00:00, 201.05it/s]\u001b[A\n",
      "100%|██████████| 80/80 [00:00<00:00, 199.19it/s]\u001b[A\n",
      " 93%|█████████▎| 1048/1123 [15:05<01:03,  1.18it/s]"
     ]
    },
    {
     "name": "stdout",
     "output_type": "stream",
     "text": [
      "/home/jiang/projects/SubtleGAN/data/brats2021/train/BraTS2021_00185\n"
     ]
    },
    {
     "name": "stderr",
     "output_type": "stream",
     "text": [
      "\n",
      "  0%|          | 0/80 [00:00<?, ?it/s]\u001b[A\n",
      " 28%|██▊       | 22/80 [00:00<00:00, 215.11it/s]\u001b[A\n",
      " 55%|█████▌    | 44/80 [00:00<00:00, 201.95it/s]\u001b[A\n",
      "100%|██████████| 80/80 [00:00<00:00, 198.90it/s]\u001b[A\n",
      " 93%|█████████▎| 1049/1123 [15:06<01:03,  1.17it/s]"
     ]
    },
    {
     "name": "stdout",
     "output_type": "stream",
     "text": [
      "/home/jiang/projects/SubtleGAN/data/brats2021/train/BraTS2021_01628\n"
     ]
    },
    {
     "name": "stderr",
     "output_type": "stream",
     "text": [
      "\n",
      "  0%|          | 0/80 [00:00<?, ?it/s]\u001b[A\n",
      " 38%|███▊      | 30/80 [00:00<00:00, 296.77it/s]\u001b[A\n",
      "100%|██████████| 80/80 [00:00<00:00, 263.26it/s]\u001b[A\n",
      " 93%|█████████▎| 1050/1123 [15:07<01:09,  1.05it/s]"
     ]
    },
    {
     "name": "stdout",
     "output_type": "stream",
     "text": [
      "/home/jiang/projects/SubtleGAN/data/brats2021/train/BraTS2021_00170\n"
     ]
    },
    {
     "name": "stderr",
     "output_type": "stream",
     "text": [
      "\n",
      "  0%|          | 0/80 [00:00<?, ?it/s]\u001b[A\n",
      " 28%|██▊       | 22/80 [00:00<00:00, 218.80it/s]\u001b[A\n",
      " 55%|█████▌    | 44/80 [00:00<00:00, 209.25it/s]\u001b[A\n",
      "100%|██████████| 80/80 [00:00<00:00, 205.63it/s]\u001b[A\n",
      " 94%|█████████▎| 1051/1123 [15:08<01:05,  1.09it/s]"
     ]
    },
    {
     "name": "stdout",
     "output_type": "stream",
     "text": [
      "/home/jiang/projects/SubtleGAN/data/brats2021/train/BraTS2021_01092\n"
     ]
    },
    {
     "name": "stderr",
     "output_type": "stream",
     "text": [
      "\n",
      "  0%|          | 0/80 [00:00<?, ?it/s]\u001b[A\n",
      " 29%|██▉       | 23/80 [00:00<00:00, 223.36it/s]\u001b[A\n",
      " 57%|█████▊    | 46/80 [00:00<00:00, 203.87it/s]\u001b[A\n",
      "100%|██████████| 80/80 [00:00<00:00, 202.14it/s]\u001b[A\n",
      " 94%|█████████▎| 1052/1123 [15:09<01:03,  1.12it/s]"
     ]
    },
    {
     "name": "stdout",
     "output_type": "stream",
     "text": [
      "/home/jiang/projects/SubtleGAN/data/brats2021/train/BraTS2021_00334\n"
     ]
    },
    {
     "name": "stderr",
     "output_type": "stream",
     "text": [
      "\n",
      "  0%|          | 0/80 [00:00<?, ?it/s]\u001b[A\n",
      " 28%|██▊       | 22/80 [00:00<00:00, 211.40it/s]\u001b[A\n",
      " 55%|█████▌    | 44/80 [00:00<00:00, 160.71it/s]\u001b[A\n",
      "100%|██████████| 80/80 [00:00<00:00, 149.60it/s]\u001b[A\n",
      " 94%|█████████▍| 1053/1123 [15:10<01:04,  1.08it/s]"
     ]
    },
    {
     "name": "stdout",
     "output_type": "stream",
     "text": [
      "/home/jiang/projects/SubtleGAN/data/brats2021/train/BraTS2021_00799\n"
     ]
    },
    {
     "name": "stderr",
     "output_type": "stream",
     "text": [
      "\n",
      "  0%|          | 0/80 [00:00<?, ?it/s]\u001b[A\n",
      " 39%|███▉      | 31/80 [00:00<00:00, 305.35it/s]\u001b[A\n",
      "100%|██████████| 80/80 [00:00<00:00, 272.28it/s]\u001b[A\n",
      " 94%|█████████▍| 1054/1123 [15:11<01:09,  1.00s/it]"
     ]
    },
    {
     "name": "stdout",
     "output_type": "stream",
     "text": [
      "/home/jiang/projects/SubtleGAN/data/brats2021/train/BraTS2021_00136\n"
     ]
    },
    {
     "name": "stderr",
     "output_type": "stream",
     "text": [
      "\n",
      "  0%|          | 0/80 [00:00<?, ?it/s]\u001b[A\n",
      " 28%|██▊       | 22/80 [00:00<00:00, 211.44it/s]\u001b[A\n",
      " 55%|█████▌    | 44/80 [00:00<00:00, 192.25it/s]\u001b[A\n",
      "100%|██████████| 80/80 [00:00<00:00, 195.08it/s]\u001b[A\n",
      " 94%|█████████▍| 1055/1123 [15:12<01:05,  1.04it/s]"
     ]
    },
    {
     "name": "stdout",
     "output_type": "stream",
     "text": [
      "/home/jiang/projects/SubtleGAN/data/brats2021/train/BraTS2021_01117\n"
     ]
    },
    {
     "name": "stderr",
     "output_type": "stream",
     "text": [
      "\n",
      "  0%|          | 0/80 [00:00<?, ?it/s]\u001b[A\n",
      " 25%|██▌       | 20/80 [00:00<00:00, 199.59it/s]\u001b[A\n",
      " 50%|█████     | 40/80 [00:00<00:00, 188.59it/s]\u001b[A\n",
      " 74%|███████▍  | 59/80 [00:00<00:00, 180.44it/s]\u001b[A\n",
      "100%|██████████| 80/80 [00:00<00:00, 183.31it/s]\u001b[A\n",
      " 94%|█████████▍| 1056/1123 [15:13<01:03,  1.06it/s]"
     ]
    },
    {
     "name": "stdout",
     "output_type": "stream",
     "text": [
      "/home/jiang/projects/SubtleGAN/data/brats2021/train/BraTS2021_01107\n"
     ]
    },
    {
     "name": "stderr",
     "output_type": "stream",
     "text": [
      "\n",
      "  0%|          | 0/80 [00:00<?, ?it/s]\u001b[A\n",
      " 26%|██▋       | 21/80 [00:00<00:00, 200.08it/s]\u001b[A\n",
      " 52%|█████▎    | 42/80 [00:00<00:00, 194.28it/s]\u001b[A\n",
      "100%|██████████| 80/80 [00:00<00:00, 195.07it/s]\u001b[A\n",
      " 94%|█████████▍| 1057/1123 [15:14<01:00,  1.09it/s]"
     ]
    },
    {
     "name": "stdout",
     "output_type": "stream",
     "text": [
      "/home/jiang/projects/SubtleGAN/data/brats2021/train/BraTS2021_01310\n"
     ]
    },
    {
     "name": "stderr",
     "output_type": "stream",
     "text": [
      "\n",
      "  0%|          | 0/80 [00:00<?, ?it/s]\u001b[A\n",
      " 39%|███▉      | 31/80 [00:00<00:00, 301.11it/s]\u001b[A\n",
      "100%|██████████| 80/80 [00:00<00:00, 284.41it/s]\u001b[A\n",
      " 94%|█████████▍| 1058/1123 [15:15<01:03,  1.03it/s]"
     ]
    },
    {
     "name": "stdout",
     "output_type": "stream",
     "text": [
      "/home/jiang/projects/SubtleGAN/data/brats2021/train/BraTS2021_01509\n"
     ]
    },
    {
     "name": "stderr",
     "output_type": "stream",
     "text": [
      "\n",
      "  0%|          | 0/80 [00:00<?, ?it/s]\u001b[A\n",
      " 30%|███       | 24/80 [00:00<00:00, 238.99it/s]\u001b[A\n",
      " 60%|██████    | 48/80 [00:00<00:00, 215.19it/s]\u001b[A\n",
      "100%|██████████| 80/80 [00:00<00:00, 214.41it/s]\u001b[A\n",
      " 94%|█████████▍| 1059/1123 [15:16<00:58,  1.09it/s]"
     ]
    },
    {
     "name": "stdout",
     "output_type": "stream",
     "text": [
      "/home/jiang/projects/SubtleGAN/data/brats2021/train/BraTS2021_00329\n"
     ]
    },
    {
     "name": "stderr",
     "output_type": "stream",
     "text": [
      "\n",
      "  0%|          | 0/80 [00:00<?, ?it/s]\u001b[A\n",
      " 26%|██▋       | 21/80 [00:00<00:00, 209.98it/s]\u001b[A\n",
      " 52%|█████▎    | 42/80 [00:00<00:00, 209.27it/s]\u001b[A\n",
      "100%|██████████| 80/80 [00:00<00:00, 210.24it/s]\u001b[A\n",
      " 94%|█████████▍| 1060/1123 [15:16<00:56,  1.12it/s]"
     ]
    },
    {
     "name": "stdout",
     "output_type": "stream",
     "text": [
      "/home/jiang/projects/SubtleGAN/data/brats2021/train/BraTS2021_00611\n"
     ]
    },
    {
     "name": "stderr",
     "output_type": "stream",
     "text": [
      "\n",
      "  0%|          | 0/80 [00:00<?, ?it/s]\u001b[A\n",
      " 32%|███▎      | 26/80 [00:00<00:00, 254.06it/s]\u001b[A\n",
      " 65%|██████▌   | 52/80 [00:00<00:00, 244.80it/s]\u001b[A\n",
      "100%|██████████| 80/80 [00:00<00:00, 245.35it/s]\u001b[A\n",
      " 94%|█████████▍| 1061/1123 [15:17<00:51,  1.21it/s]"
     ]
    },
    {
     "name": "stdout",
     "output_type": "stream",
     "text": [
      "/home/jiang/projects/SubtleGAN/data/brats2021/train/BraTS2021_00789\n"
     ]
    },
    {
     "name": "stderr",
     "output_type": "stream",
     "text": [
      "\n",
      "  0%|          | 0/80 [00:00<?, ?it/s]\u001b[A\n",
      " 39%|███▉      | 31/80 [00:00<00:00, 300.38it/s]\u001b[A\n",
      "100%|██████████| 80/80 [00:00<00:00, 279.58it/s]\u001b[A\n",
      " 95%|█████████▍| 1062/1123 [15:18<00:55,  1.09it/s]"
     ]
    },
    {
     "name": "stdout",
     "output_type": "stream",
     "text": [
      "/home/jiang/projects/SubtleGAN/data/brats2021/train/BraTS2021_00221\n"
     ]
    },
    {
     "name": "stderr",
     "output_type": "stream",
     "text": [
      "\n",
      "  0%|          | 0/80 [00:00<?, ?it/s]\u001b[A\n",
      " 32%|███▎      | 26/80 [00:00<00:00, 257.19it/s]\u001b[A\n",
      " 65%|██████▌   | 52/80 [00:00<00:00, 220.70it/s]\u001b[A\n",
      "100%|██████████| 80/80 [00:00<00:00, 218.19it/s]\u001b[A\n",
      " 95%|█████████▍| 1063/1123 [15:19<00:52,  1.13it/s]"
     ]
    },
    {
     "name": "stdout",
     "output_type": "stream",
     "text": [
      "/home/jiang/projects/SubtleGAN/data/brats2021/train/BraTS2021_01003\n"
     ]
    },
    {
     "name": "stderr",
     "output_type": "stream",
     "text": [
      "\n",
      "  0%|          | 0/80 [00:00<?, ?it/s]\u001b[A\n",
      " 26%|██▋       | 21/80 [00:00<00:00, 208.59it/s]\u001b[A\n",
      " 52%|█████▎    | 42/80 [00:00<00:00, 197.69it/s]\u001b[A\n",
      "100%|██████████| 80/80 [00:00<00:00, 216.89it/s]\u001b[A\n",
      " 95%|█████████▍| 1064/1123 [15:20<00:50,  1.16it/s]"
     ]
    },
    {
     "name": "stdout",
     "output_type": "stream",
     "text": [
      "/home/jiang/projects/SubtleGAN/data/brats2021/train/BraTS2021_01049\n"
     ]
    },
    {
     "name": "stderr",
     "output_type": "stream",
     "text": [
      "\n",
      "  0%|          | 0/80 [00:00<?, ?it/s]\u001b[A\n",
      " 31%|███▏      | 25/80 [00:00<00:00, 248.73it/s]\u001b[A\n",
      " 62%|██████▎   | 50/80 [00:00<00:00, 246.56it/s]\u001b[A\n",
      "100%|██████████| 80/80 [00:00<00:00, 241.55it/s]\u001b[A\n",
      " 95%|█████████▍| 1065/1123 [15:21<00:48,  1.19it/s]"
     ]
    },
    {
     "name": "stdout",
     "output_type": "stream",
     "text": [
      "/home/jiang/projects/SubtleGAN/data/brats2021/train/BraTS2021_01391\n"
     ]
    },
    {
     "name": "stderr",
     "output_type": "stream",
     "text": [
      "\n",
      "  0%|          | 0/80 [00:00<?, ?it/s]\u001b[A\n",
      " 31%|███▏      | 25/80 [00:00<00:00, 241.57it/s]\u001b[A\n",
      " 62%|██████▎   | 50/80 [00:00<00:00, 230.06it/s]\u001b[A\n",
      "100%|██████████| 80/80 [00:00<00:00, 227.26it/s]\u001b[A\n",
      " 95%|█████████▍| 1066/1123 [15:21<00:47,  1.20it/s]"
     ]
    },
    {
     "name": "stdout",
     "output_type": "stream",
     "text": [
      "/home/jiang/projects/SubtleGAN/data/brats2021/train/BraTS2021_00388\n"
     ]
    },
    {
     "name": "stderr",
     "output_type": "stream",
     "text": [
      "\n",
      "  0%|          | 0/80 [00:00<?, ?it/s]\u001b[A\n",
      " 35%|███▌      | 28/80 [00:00<00:00, 274.76it/s]\u001b[A\n",
      "100%|██████████| 80/80 [00:00<00:00, 274.21it/s]\u001b[A\n",
      " 95%|█████████▌| 1067/1123 [15:22<00:44,  1.25it/s]"
     ]
    },
    {
     "name": "stdout",
     "output_type": "stream",
     "text": [
      "/home/jiang/projects/SubtleGAN/data/brats2021/train/BraTS2021_01412\n"
     ]
    },
    {
     "name": "stderr",
     "output_type": "stream",
     "text": [
      "\n",
      "  0%|          | 0/80 [00:00<?, ?it/s]\u001b[A\n",
      " 35%|███▌      | 28/80 [00:00<00:00, 274.47it/s]\u001b[A\n",
      "100%|██████████| 80/80 [00:00<00:00, 270.07it/s]\u001b[A\n",
      " 95%|█████████▌| 1068/1123 [15:23<00:43,  1.28it/s]"
     ]
    },
    {
     "name": "stdout",
     "output_type": "stream",
     "text": [
      "/home/jiang/projects/SubtleGAN/data/brats2021/train/BraTS2021_01583\n"
     ]
    },
    {
     "name": "stderr",
     "output_type": "stream",
     "text": [
      "\n",
      "  0%|          | 0/80 [00:00<?, ?it/s]\u001b[A\n",
      " 36%|███▋      | 29/80 [00:00<00:00, 285.12it/s]\u001b[A\n",
      "100%|██████████| 80/80 [00:00<00:00, 282.57it/s]\u001b[A\n",
      " 95%|█████████▌| 1069/1123 [15:24<00:47,  1.14it/s]"
     ]
    },
    {
     "name": "stdout",
     "output_type": "stream",
     "text": [
      "/home/jiang/projects/SubtleGAN/data/brats2021/train/BraTS2021_00130\n"
     ]
    },
    {
     "name": "stderr",
     "output_type": "stream",
     "text": [
      "\n",
      "  0%|          | 0/80 [00:00<?, ?it/s]\u001b[A\n",
      " 36%|███▋      | 29/80 [00:00<00:00, 284.75it/s]\u001b[A\n",
      "100%|██████████| 80/80 [00:00<00:00, 281.91it/s]\u001b[A\n",
      " 95%|█████████▌| 1070/1123 [15:25<00:44,  1.20it/s]"
     ]
    },
    {
     "name": "stdout",
     "output_type": "stream",
     "text": [
      "/home/jiang/projects/SubtleGAN/data/brats2021/train/BraTS2021_01416\n"
     ]
    },
    {
     "name": "stderr",
     "output_type": "stream",
     "text": [
      "\n",
      "  0%|          | 0/80 [00:00<?, ?it/s]\u001b[A\n",
      " 36%|███▋      | 29/80 [00:00<00:00, 289.96it/s]\u001b[A\n",
      "100%|██████████| 80/80 [00:00<00:00, 280.15it/s]\u001b[A\n",
      " 95%|█████████▌| 1071/1123 [15:25<00:41,  1.25it/s]"
     ]
    },
    {
     "name": "stdout",
     "output_type": "stream",
     "text": [
      "/home/jiang/projects/SubtleGAN/data/brats2021/train/BraTS2021_00172\n"
     ]
    },
    {
     "name": "stderr",
     "output_type": "stream",
     "text": [
      "\n",
      "  0%|          | 0/80 [00:00<?, ?it/s]\u001b[A\n",
      " 39%|███▉      | 31/80 [00:00<00:00, 305.88it/s]\u001b[A\n",
      "100%|██████████| 80/80 [00:00<00:00, 297.12it/s]\u001b[A\n",
      " 95%|█████████▌| 1072/1123 [15:26<00:39,  1.29it/s]"
     ]
    },
    {
     "name": "stdout",
     "output_type": "stream",
     "text": [
      "/home/jiang/projects/SubtleGAN/data/brats2021/train/BraTS2021_00834\n"
     ]
    },
    {
     "name": "stderr",
     "output_type": "stream",
     "text": [
      "\n",
      "  0%|          | 0/80 [00:00<?, ?it/s]\u001b[A\n",
      " 39%|███▉      | 31/80 [00:00<00:00, 305.01it/s]\u001b[A\n",
      "100%|██████████| 80/80 [00:00<00:00, 284.77it/s]\u001b[A\n",
      " 96%|█████████▌| 1073/1123 [15:27<00:37,  1.32it/s]"
     ]
    },
    {
     "name": "stdout",
     "output_type": "stream",
     "text": [
      "/home/jiang/projects/SubtleGAN/data/brats2021/train/BraTS2021_01104\n"
     ]
    },
    {
     "name": "stderr",
     "output_type": "stream",
     "text": [
      "\n",
      "  0%|          | 0/80 [00:00<?, ?it/s]\u001b[A\n",
      " 31%|███▏      | 25/80 [00:00<00:00, 244.82it/s]\u001b[A\n",
      " 62%|██████▎   | 50/80 [00:00<00:00, 238.57it/s]\u001b[A\n",
      "100%|██████████| 80/80 [00:00<00:00, 232.85it/s]\u001b[A\n",
      " 96%|█████████▌| 1074/1123 [15:28<00:37,  1.31it/s]"
     ]
    },
    {
     "name": "stdout",
     "output_type": "stream",
     "text": [
      "/home/jiang/projects/SubtleGAN/data/brats2021/train/BraTS2021_01629\n"
     ]
    },
    {
     "name": "stderr",
     "output_type": "stream",
     "text": [
      "\n",
      "  0%|          | 0/80 [00:00<?, ?it/s]\u001b[A\n",
      " 36%|███▋      | 29/80 [00:00<00:00, 289.92it/s]\u001b[A\n",
      "100%|██████████| 80/80 [00:00<00:00, 278.69it/s]\u001b[A\n",
      " 96%|█████████▌| 1075/1123 [15:29<00:42,  1.13it/s]"
     ]
    },
    {
     "name": "stdout",
     "output_type": "stream",
     "text": [
      "/home/jiang/projects/SubtleGAN/data/brats2021/train/BraTS2021_00325\n"
     ]
    },
    {
     "name": "stderr",
     "output_type": "stream",
     "text": [
      "\n",
      "  0%|          | 0/80 [00:00<?, ?it/s]\u001b[A\n",
      " 29%|██▉       | 23/80 [00:00<00:00, 221.06it/s]\u001b[A\n",
      " 57%|█████▊    | 46/80 [00:00<00:00, 220.41it/s]\u001b[A\n",
      "100%|██████████| 80/80 [00:00<00:00, 223.24it/s]\u001b[A\n",
      " 96%|█████████▌| 1076/1123 [15:30<00:40,  1.16it/s]"
     ]
    },
    {
     "name": "stdout",
     "output_type": "stream",
     "text": [
      "/home/jiang/projects/SubtleGAN/data/brats2021/train/BraTS2021_01655\n"
     ]
    },
    {
     "name": "stderr",
     "output_type": "stream",
     "text": [
      "\n",
      "  0%|          | 0/80 [00:00<?, ?it/s]\u001b[A\n",
      " 39%|███▉      | 31/80 [00:00<00:00, 307.81it/s]\u001b[A\n",
      "100%|██████████| 80/80 [00:00<00:00, 292.02it/s]\u001b[A\n",
      " 96%|█████████▌| 1077/1123 [15:31<00:43,  1.07it/s]"
     ]
    },
    {
     "name": "stdout",
     "output_type": "stream",
     "text": [
      "/home/jiang/projects/SubtleGAN/data/brats2021/train/BraTS2021_01286\n"
     ]
    },
    {
     "name": "stderr",
     "output_type": "stream",
     "text": [
      "\n",
      "  0%|          | 0/80 [00:00<?, ?it/s]\u001b[A\n",
      " 32%|███▎      | 26/80 [00:00<00:00, 254.34it/s]\u001b[A\n",
      " 65%|██████▌   | 52/80 [00:00<00:00, 244.52it/s]\u001b[A\n",
      "100%|██████████| 80/80 [00:00<00:00, 240.57it/s]\u001b[A\n",
      " 96%|█████████▌| 1078/1123 [15:32<00:40,  1.12it/s]"
     ]
    },
    {
     "name": "stdout",
     "output_type": "stream",
     "text": [
      "/home/jiang/projects/SubtleGAN/data/brats2021/train/BraTS2021_01640\n"
     ]
    },
    {
     "name": "stderr",
     "output_type": "stream",
     "text": [
      "\n",
      "  0%|          | 0/80 [00:00<?, ?it/s]\u001b[A\n",
      " 39%|███▉      | 31/80 [00:00<00:00, 307.46it/s]\u001b[A\n",
      "100%|██████████| 80/80 [00:00<00:00, 283.91it/s]\u001b[A\n",
      " 96%|█████████▌| 1079/1123 [15:33<00:41,  1.05it/s]"
     ]
    },
    {
     "name": "stdout",
     "output_type": "stream",
     "text": [
      "/home/jiang/projects/SubtleGAN/data/brats2021/train/BraTS2021_00066\n"
     ]
    },
    {
     "name": "stderr",
     "output_type": "stream",
     "text": [
      "\n",
      "  0%|          | 0/80 [00:00<?, ?it/s]\u001b[A\n",
      " 30%|███       | 24/80 [00:00<00:00, 237.66it/s]\u001b[A\n",
      " 60%|██████    | 48/80 [00:00<00:00, 236.46it/s]\u001b[A\n",
      "100%|██████████| 80/80 [00:00<00:00, 234.39it/s]\u001b[A\n",
      " 96%|█████████▌| 1080/1123 [15:33<00:37,  1.14it/s]"
     ]
    },
    {
     "name": "stdout",
     "output_type": "stream",
     "text": [
      "/home/jiang/projects/SubtleGAN/data/brats2021/train/BraTS2021_01353\n"
     ]
    },
    {
     "name": "stderr",
     "output_type": "stream",
     "text": [
      "\n",
      "  0%|          | 0/80 [00:00<?, ?it/s]\u001b[A\n",
      " 31%|███▏      | 25/80 [00:00<00:00, 246.84it/s]\u001b[A\n",
      " 64%|██████▍   | 51/80 [00:00<00:00, 250.35it/s]\u001b[A\n",
      "100%|██████████| 80/80 [00:00<00:00, 197.25it/s]\u001b[A\n",
      " 96%|█████████▋| 1081/1123 [15:34<00:36,  1.15it/s]"
     ]
    },
    {
     "name": "stdout",
     "output_type": "stream",
     "text": [
      "/home/jiang/projects/SubtleGAN/data/brats2021/train/BraTS2021_01194\n"
     ]
    },
    {
     "name": "stderr",
     "output_type": "stream",
     "text": [
      "\n",
      "  0%|          | 0/80 [00:00<?, ?it/s]\u001b[A\n",
      " 31%|███▏      | 25/80 [00:00<00:00, 239.96it/s]\u001b[A\n",
      " 61%|██████▏   | 49/80 [00:00<00:00, 231.02it/s]\u001b[A\n",
      "100%|██████████| 80/80 [00:00<00:00, 222.88it/s]\u001b[A\n",
      " 96%|█████████▋| 1082/1123 [15:35<00:35,  1.16it/s]"
     ]
    },
    {
     "name": "stdout",
     "output_type": "stream",
     "text": [
      "/home/jiang/projects/SubtleGAN/data/brats2021/train/BraTS2021_01615\n"
     ]
    },
    {
     "name": "stderr",
     "output_type": "stream",
     "text": [
      "\n",
      "  0%|          | 0/80 [00:00<?, ?it/s]\u001b[A\n",
      " 18%|█▊        | 14/80 [00:00<00:00, 134.27it/s]\u001b[A\n",
      " 49%|████▉     | 39/80 [00:00<00:00, 198.71it/s]\u001b[A\n",
      "100%|██████████| 80/80 [00:00<00:00, 226.16it/s]\u001b[A\n",
      " 96%|█████████▋| 1083/1123 [15:36<00:38,  1.05it/s]"
     ]
    },
    {
     "name": "stdout",
     "output_type": "stream",
     "text": [
      "/home/jiang/projects/SubtleGAN/data/brats2021/train/BraTS2021_00282\n"
     ]
    },
    {
     "name": "stderr",
     "output_type": "stream",
     "text": [
      "\n",
      "  0%|          | 0/80 [00:00<?, ?it/s]\u001b[A\n",
      " 31%|███▏      | 25/80 [00:00<00:00, 241.31it/s]\u001b[A\n",
      " 62%|██████▎   | 50/80 [00:00<00:00, 240.80it/s]\u001b[A\n",
      "100%|██████████| 80/80 [00:00<00:00, 239.29it/s]\u001b[A\n",
      " 97%|█████████▋| 1084/1123 [15:37<00:35,  1.11it/s]"
     ]
    },
    {
     "name": "stdout",
     "output_type": "stream",
     "text": [
      "/home/jiang/projects/SubtleGAN/data/brats2021/train/BraTS2021_00260\n"
     ]
    },
    {
     "name": "stderr",
     "output_type": "stream",
     "text": [
      "\n",
      "  0%|          | 0/80 [00:00<?, ?it/s]\u001b[A\n",
      " 31%|███▏      | 25/80 [00:00<00:00, 247.23it/s]\u001b[A\n",
      " 62%|██████▎   | 50/80 [00:00<00:00, 240.50it/s]\u001b[A\n",
      "100%|██████████| 80/80 [00:00<00:00, 240.93it/s]\u001b[A\n",
      " 97%|█████████▋| 1085/1123 [15:38<00:32,  1.15it/s]"
     ]
    },
    {
     "name": "stdout",
     "output_type": "stream",
     "text": [
      "/home/jiang/projects/SubtleGAN/data/brats2021/train/BraTS2021_00572\n"
     ]
    },
    {
     "name": "stderr",
     "output_type": "stream",
     "text": [
      "\n",
      "  0%|          | 0/80 [00:00<?, ?it/s]\u001b[A\n",
      " 38%|███▊      | 30/80 [00:00<00:00, 295.03it/s]\u001b[A\n",
      "100%|██████████| 80/80 [00:00<00:00, 286.71it/s]\u001b[A\n",
      " 97%|█████████▋| 1086/1123 [15:39<00:34,  1.07it/s]"
     ]
    },
    {
     "name": "stdout",
     "output_type": "stream",
     "text": [
      "/home/jiang/projects/SubtleGAN/data/brats2021/train/BraTS2021_00281\n"
     ]
    },
    {
     "name": "stderr",
     "output_type": "stream",
     "text": [
      "\n",
      "  0%|          | 0/80 [00:00<?, ?it/s]\u001b[A\n",
      " 31%|███▏      | 25/80 [00:00<00:00, 246.53it/s]\u001b[A\n",
      " 62%|██████▎   | 50/80 [00:00<00:00, 163.53it/s]\u001b[A\n",
      "100%|██████████| 80/80 [00:00<00:00, 191.98it/s]\u001b[A\n",
      " 97%|█████████▋| 1087/1123 [15:40<00:32,  1.09it/s]"
     ]
    },
    {
     "name": "stdout",
     "output_type": "stream",
     "text": [
      "/home/jiang/projects/SubtleGAN/data/brats2021/train/BraTS2021_00184\n"
     ]
    },
    {
     "name": "stderr",
     "output_type": "stream",
     "text": [
      "\n",
      "  0%|          | 0/80 [00:00<?, ?it/s]\u001b[A\n",
      " 31%|███▏      | 25/80 [00:00<00:00, 245.05it/s]\u001b[A\n",
      " 62%|██████▎   | 50/80 [00:00<00:00, 232.03it/s]\u001b[A\n",
      "100%|██████████| 80/80 [00:00<00:00, 231.37it/s]\u001b[A\n",
      " 97%|█████████▋| 1088/1123 [15:41<00:30,  1.14it/s]"
     ]
    },
    {
     "name": "stdout",
     "output_type": "stream",
     "text": [
      "/home/jiang/projects/SubtleGAN/data/brats2021/train/BraTS2021_00406\n"
     ]
    },
    {
     "name": "stderr",
     "output_type": "stream",
     "text": [
      "\n",
      "  0%|          | 0/80 [00:00<?, ?it/s]\u001b[A\n",
      " 32%|███▎      | 26/80 [00:00<00:00, 250.36it/s]\u001b[A\n",
      " 65%|██████▌   | 52/80 [00:00<00:00, 245.12it/s]\u001b[A\n",
      "100%|██████████| 80/80 [00:00<00:00, 239.19it/s]\u001b[A\n",
      " 97%|█████████▋| 1089/1123 [15:41<00:28,  1.18it/s]"
     ]
    },
    {
     "name": "stdout",
     "output_type": "stream",
     "text": [
      "/home/jiang/projects/SubtleGAN/data/brats2021/train/BraTS2021_01280\n"
     ]
    },
    {
     "name": "stderr",
     "output_type": "stream",
     "text": [
      "\n",
      "  0%|          | 0/80 [00:00<?, ?it/s]\u001b[A\n",
      " 31%|███▏      | 25/80 [00:00<00:00, 246.09it/s]\u001b[A\n",
      " 62%|██████▎   | 50/80 [00:00<00:00, 242.21it/s]\u001b[A\n",
      "100%|██████████| 80/80 [00:00<00:00, 240.82it/s]\u001b[A\n",
      " 97%|█████████▋| 1090/1123 [15:42<00:27,  1.20it/s]"
     ]
    },
    {
     "name": "stdout",
     "output_type": "stream",
     "text": [
      "/home/jiang/projects/SubtleGAN/data/brats2021/train/BraTS2021_01036\n"
     ]
    },
    {
     "name": "stderr",
     "output_type": "stream",
     "text": [
      "\n",
      "  0%|          | 0/80 [00:00<?, ?it/s]\u001b[A\n",
      " 34%|███▍      | 27/80 [00:00<00:00, 263.43it/s]\u001b[A\n",
      " 68%|██████▊   | 54/80 [00:00<00:00, 247.17it/s]\u001b[A\n",
      "100%|██████████| 80/80 [00:00<00:00, 244.53it/s]\u001b[A\n",
      " 97%|█████████▋| 1091/1123 [15:43<00:25,  1.23it/s]"
     ]
    },
    {
     "name": "stdout",
     "output_type": "stream",
     "text": [
      "/home/jiang/projects/SubtleGAN/data/brats2021/train/BraTS2021_01161\n"
     ]
    },
    {
     "name": "stderr",
     "output_type": "stream",
     "text": [
      "\n",
      "  0%|          | 0/80 [00:00<?, ?it/s]\u001b[A\n",
      " 31%|███▏      | 25/80 [00:00<00:00, 245.48it/s]\u001b[A\n",
      " 62%|██████▎   | 50/80 [00:00<00:00, 235.03it/s]\u001b[A\n",
      "100%|██████████| 80/80 [00:00<00:00, 235.23it/s]\u001b[A\n",
      " 97%|█████████▋| 1092/1123 [15:44<00:24,  1.29it/s]"
     ]
    },
    {
     "name": "stdout",
     "output_type": "stream",
     "text": [
      "/home/jiang/projects/SubtleGAN/data/brats2021/train/BraTS2021_01215\n"
     ]
    },
    {
     "name": "stderr",
     "output_type": "stream",
     "text": [
      "\n",
      "  0%|          | 0/80 [00:00<?, ?it/s]\u001b[A\n",
      " 31%|███▏      | 25/80 [00:00<00:00, 243.47it/s]\u001b[A\n",
      " 62%|██████▎   | 50/80 [00:00<00:00, 231.23it/s]\u001b[A\n",
      "100%|██████████| 80/80 [00:00<00:00, 232.05it/s]\u001b[A\n",
      " 97%|█████████▋| 1093/1123 [15:44<00:23,  1.27it/s]"
     ]
    },
    {
     "name": "stdout",
     "output_type": "stream",
     "text": [
      "/home/jiang/projects/SubtleGAN/data/brats2021/train/BraTS2021_01344\n"
     ]
    },
    {
     "name": "stderr",
     "output_type": "stream",
     "text": [
      "\n",
      "  0%|          | 0/80 [00:00<?, ?it/s]\u001b[A\n",
      " 31%|███▏      | 25/80 [00:00<00:00, 241.18it/s]\u001b[A\n",
      " 62%|██████▎   | 50/80 [00:00<00:00, 238.69it/s]\u001b[A\n",
      "100%|██████████| 80/80 [00:00<00:00, 236.96it/s]\u001b[A\n",
      " 97%|█████████▋| 1094/1123 [15:45<00:22,  1.27it/s]"
     ]
    },
    {
     "name": "stdout",
     "output_type": "stream",
     "text": [
      "/home/jiang/projects/SubtleGAN/data/brats2021/train/BraTS2021_01203\n"
     ]
    },
    {
     "name": "stderr",
     "output_type": "stream",
     "text": [
      "\n",
      "  0%|          | 0/80 [00:00<?, ?it/s]\u001b[A\n",
      " 29%|██▉       | 23/80 [00:00<00:00, 225.02it/s]\u001b[A\n",
      " 57%|█████▊    | 46/80 [00:00<00:00, 220.72it/s]\u001b[A\n",
      "100%|██████████| 80/80 [00:00<00:00, 211.53it/s]\u001b[A\n",
      " 98%|█████████▊| 1095/1123 [15:46<00:23,  1.21it/s]"
     ]
    },
    {
     "name": "stdout",
     "output_type": "stream",
     "text": [
      "/home/jiang/projects/SubtleGAN/data/brats2021/train/BraTS2021_01340\n"
     ]
    },
    {
     "name": "stderr",
     "output_type": "stream",
     "text": [
      "\n",
      "  0%|          | 0/80 [00:00<?, ?it/s]\u001b[A\n",
      " 31%|███▏      | 25/80 [00:00<00:00, 242.01it/s]\u001b[A\n",
      " 62%|██████▎   | 50/80 [00:00<00:00, 231.32it/s]\u001b[A\n",
      "100%|██████████| 80/80 [00:00<00:00, 231.14it/s]\u001b[A\n",
      " 98%|█████████▊| 1096/1123 [15:47<00:22,  1.18it/s]"
     ]
    },
    {
     "name": "stdout",
     "output_type": "stream",
     "text": [
      "/home/jiang/projects/SubtleGAN/data/brats2021/train/BraTS2021_00739\n"
     ]
    },
    {
     "name": "stderr",
     "output_type": "stream",
     "text": [
      "\n",
      "  0%|          | 0/80 [00:00<?, ?it/s]\u001b[A\n",
      " 31%|███▏      | 25/80 [00:00<00:00, 246.95it/s]\u001b[A\n",
      " 62%|██████▎   | 50/80 [00:00<00:00, 239.15it/s]\u001b[A\n",
      "100%|██████████| 80/80 [00:00<00:00, 236.99it/s]\u001b[A\n",
      " 98%|█████████▊| 1097/1123 [15:48<00:21,  1.23it/s]"
     ]
    },
    {
     "name": "stdout",
     "output_type": "stream",
     "text": [
      "/home/jiang/projects/SubtleGAN/data/brats2021/train/BraTS2021_00649\n"
     ]
    },
    {
     "name": "stderr",
     "output_type": "stream",
     "text": [
      "\n",
      "  0%|          | 0/80 [00:00<?, ?it/s]\u001b[A\n",
      " 31%|███▏      | 25/80 [00:00<00:00, 243.16it/s]\u001b[A\n",
      " 62%|██████▎   | 50/80 [00:00<00:00, 233.37it/s]\u001b[A\n",
      "100%|██████████| 80/80 [00:00<00:00, 236.55it/s]\u001b[A\n",
      " 98%|█████████▊| 1098/1123 [15:48<00:19,  1.28it/s]"
     ]
    },
    {
     "name": "stdout",
     "output_type": "stream",
     "text": [
      "/home/jiang/projects/SubtleGAN/data/brats2021/train/BraTS2021_01139\n"
     ]
    },
    {
     "name": "stderr",
     "output_type": "stream",
     "text": [
      "\n",
      "  0%|          | 0/80 [00:00<?, ?it/s]\u001b[A\n",
      " 32%|███▎      | 26/80 [00:00<00:00, 250.28it/s]\u001b[A\n",
      " 65%|██████▌   | 52/80 [00:00<00:00, 242.91it/s]\u001b[A\n",
      "100%|██████████| 80/80 [00:00<00:00, 240.37it/s]\u001b[A\n",
      " 98%|█████████▊| 1099/1123 [15:49<00:18,  1.29it/s]"
     ]
    },
    {
     "name": "stdout",
     "output_type": "stream",
     "text": [
      "/home/jiang/projects/SubtleGAN/data/brats2021/train/BraTS2021_00728\n"
     ]
    },
    {
     "name": "stderr",
     "output_type": "stream",
     "text": [
      "\n",
      "  0%|          | 0/80 [00:00<?, ?it/s]\u001b[A\n",
      " 31%|███▏      | 25/80 [00:00<00:00, 245.76it/s]\u001b[A\n",
      " 62%|██████▎   | 50/80 [00:00<00:00, 241.33it/s]\u001b[A\n",
      "100%|██████████| 80/80 [00:00<00:00, 244.79it/s]\u001b[A\n",
      " 98%|█████████▊| 1100/1123 [15:50<00:17,  1.33it/s]"
     ]
    },
    {
     "name": "stdout",
     "output_type": "stream",
     "text": [
      "/home/jiang/projects/SubtleGAN/data/brats2021/train/BraTS2021_00403\n"
     ]
    },
    {
     "name": "stderr",
     "output_type": "stream",
     "text": [
      "\n",
      "  0%|          | 0/80 [00:00<?, ?it/s]\u001b[A\n",
      " 31%|███▏      | 25/80 [00:00<00:00, 245.39it/s]\u001b[A\n",
      " 62%|██████▎   | 50/80 [00:00<00:00, 240.59it/s]\u001b[A\n",
      "100%|██████████| 80/80 [00:00<00:00, 239.77it/s]\u001b[A\n",
      " 98%|█████████▊| 1101/1123 [15:51<00:16,  1.32it/s]"
     ]
    },
    {
     "name": "stdout",
     "output_type": "stream",
     "text": [
      "/home/jiang/projects/SubtleGAN/data/brats2021/train/BraTS2021_01096\n"
     ]
    },
    {
     "name": "stderr",
     "output_type": "stream",
     "text": [
      "\n",
      "  0%|          | 0/80 [00:00<?, ?it/s]\u001b[A\n",
      " 30%|███       | 24/80 [00:00<00:00, 236.16it/s]\u001b[A\n",
      " 60%|██████    | 48/80 [00:00<00:00, 212.94it/s]\u001b[A\n",
      "100%|██████████| 80/80 [00:00<00:00, 215.28it/s]\u001b[A\n",
      " 98%|█████████▊| 1102/1123 [15:51<00:16,  1.28it/s]"
     ]
    },
    {
     "name": "stdout",
     "output_type": "stream",
     "text": [
      "/home/jiang/projects/SubtleGAN/data/brats2021/train/BraTS2021_01263\n"
     ]
    },
    {
     "name": "stderr",
     "output_type": "stream",
     "text": [
      "\n",
      "  0%|          | 0/80 [00:00<?, ?it/s]\u001b[A\n",
      " 29%|██▉       | 23/80 [00:00<00:00, 228.78it/s]\u001b[A\n",
      " 57%|█████▊    | 46/80 [00:00<00:00, 223.40it/s]\u001b[A\n",
      "100%|██████████| 80/80 [00:00<00:00, 219.47it/s]\u001b[A\n",
      " 98%|█████████▊| 1103/1123 [15:52<00:15,  1.25it/s]"
     ]
    },
    {
     "name": "stdout",
     "output_type": "stream",
     "text": [
      "/home/jiang/projects/SubtleGAN/data/brats2021/train/BraTS2021_00351\n"
     ]
    },
    {
     "name": "stderr",
     "output_type": "stream",
     "text": [
      "\n",
      "  0%|          | 0/80 [00:00<?, ?it/s]\u001b[A\n",
      " 32%|███▎      | 26/80 [00:00<00:00, 257.89it/s]\u001b[A\n",
      " 65%|██████▌   | 52/80 [00:00<00:00, 245.64it/s]\u001b[A\n",
      "100%|██████████| 80/80 [00:00<00:00, 239.47it/s]\u001b[A\n",
      " 98%|█████████▊| 1104/1123 [15:53<00:15,  1.26it/s]"
     ]
    },
    {
     "name": "stdout",
     "output_type": "stream",
     "text": [
      "/home/jiang/projects/SubtleGAN/data/brats2021/train/BraTS2021_01648\n"
     ]
    },
    {
     "name": "stderr",
     "output_type": "stream",
     "text": [
      "\n",
      "  0%|          | 0/80 [00:00<?, ?it/s]\u001b[A\n",
      " 39%|███▉      | 31/80 [00:00<00:00, 308.02it/s]\u001b[A\n",
      "100%|██████████| 80/80 [00:00<00:00, 300.58it/s]\u001b[A\n",
      " 98%|█████████▊| 1105/1123 [15:54<00:16,  1.12it/s]"
     ]
    },
    {
     "name": "stdout",
     "output_type": "stream",
     "text": [
      "/home/jiang/projects/SubtleGAN/data/brats2021/train/BraTS2021_01544\n"
     ]
    },
    {
     "name": "stderr",
     "output_type": "stream",
     "text": [
      "\n",
      "  0%|          | 0/80 [00:00<?, ?it/s]\u001b[A\n",
      " 40%|████      | 32/80 [00:00<00:00, 312.90it/s]\u001b[A\n",
      "100%|██████████| 80/80 [00:00<00:00, 272.95it/s]\u001b[A\n",
      " 98%|█████████▊| 1106/1123 [15:55<00:16,  1.02it/s]"
     ]
    },
    {
     "name": "stdout",
     "output_type": "stream",
     "text": [
      "/home/jiang/projects/SubtleGAN/data/brats2021/train/BraTS2021_00343\n"
     ]
    },
    {
     "name": "stderr",
     "output_type": "stream",
     "text": [
      "\n",
      "  0%|          | 0/80 [00:00<?, ?it/s]\u001b[A\n",
      " 24%|██▍       | 19/80 [00:00<00:00, 188.63it/s]\u001b[A\n",
      " 48%|████▊     | 38/80 [00:00<00:00, 180.70it/s]\u001b[A\n",
      " 71%|███████▏  | 57/80 [00:00<00:00, 178.44it/s]\u001b[A\n",
      "100%|██████████| 80/80 [00:00<00:00, 176.61it/s]\u001b[A\n",
      " 99%|█████████▊| 1107/1123 [15:56<00:15,  1.05it/s]"
     ]
    },
    {
     "name": "stdout",
     "output_type": "stream",
     "text": [
      "/home/jiang/projects/SubtleGAN/data/brats2021/train/BraTS2021_00802\n"
     ]
    },
    {
     "name": "stderr",
     "output_type": "stream",
     "text": [
      "\n",
      "  0%|          | 0/80 [00:00<?, ?it/s]\u001b[A\n",
      " 41%|████▏     | 33/80 [00:00<00:00, 328.75it/s]\u001b[A\n",
      "100%|██████████| 80/80 [00:00<00:00, 297.70it/s]\u001b[A\n",
      " 99%|█████████▊| 1108/1123 [15:57<00:15,  1.03s/it]"
     ]
    },
    {
     "name": "stdout",
     "output_type": "stream",
     "text": [
      "/home/jiang/projects/SubtleGAN/data/brats2021/train/BraTS2021_00003\n"
     ]
    },
    {
     "name": "stderr",
     "output_type": "stream",
     "text": [
      "\n",
      "  0%|          | 0/80 [00:00<?, ?it/s]\u001b[A\n",
      " 25%|██▌       | 20/80 [00:00<00:00, 192.50it/s]\u001b[A\n",
      " 50%|█████     | 40/80 [00:00<00:00, 181.65it/s]\u001b[A\n",
      " 74%|███████▍  | 59/80 [00:00<00:00, 175.67it/s]\u001b[A\n",
      "100%|██████████| 80/80 [00:00<00:00, 174.09it/s]\u001b[A\n",
      " 99%|█████████▉| 1109/1123 [15:58<00:13,  1.03it/s]"
     ]
    },
    {
     "name": "stdout",
     "output_type": "stream",
     "text": [
      "/home/jiang/projects/SubtleGAN/data/brats2021/train/BraTS2021_00186\n"
     ]
    },
    {
     "name": "stderr",
     "output_type": "stream",
     "text": [
      "\n",
      "  0%|          | 0/80 [00:00<?, ?it/s]\u001b[A\n",
      " 24%|██▍       | 19/80 [00:00<00:00, 181.39it/s]\u001b[A\n",
      " 48%|████▊     | 38/80 [00:00<00:00, 175.28it/s]\u001b[A\n",
      " 70%|███████   | 56/80 [00:00<00:00, 173.01it/s]\u001b[A\n",
      "100%|██████████| 80/80 [00:00<00:00, 172.66it/s]\u001b[A\n",
      " 99%|█████████▉| 1110/1123 [15:59<00:12,  1.05it/s]"
     ]
    },
    {
     "name": "stdout",
     "output_type": "stream",
     "text": [
      "/home/jiang/projects/SubtleGAN/data/brats2021/train/BraTS2021_01165\n"
     ]
    },
    {
     "name": "stderr",
     "output_type": "stream",
     "text": [
      "\n",
      "  0%|          | 0/80 [00:00<?, ?it/s]\u001b[A\n",
      " 29%|██▉       | 23/80 [00:00<00:00, 220.36it/s]\u001b[A\n",
      " 57%|█████▊    | 46/80 [00:00<00:00, 191.97it/s]\u001b[A\n",
      "100%|██████████| 80/80 [00:00<00:00, 183.12it/s]\u001b[A\n",
      " 99%|█████████▉| 1111/1123 [16:00<00:11,  1.07it/s]"
     ]
    },
    {
     "name": "stdout",
     "output_type": "stream",
     "text": [
      "/home/jiang/projects/SubtleGAN/data/brats2021/train/BraTS2021_01577\n"
     ]
    },
    {
     "name": "stderr",
     "output_type": "stream",
     "text": [
      "\n",
      "  0%|          | 0/80 [00:00<?, ?it/s]\u001b[A\n",
      " 40%|████      | 32/80 [00:00<00:00, 314.40it/s]\u001b[A\n",
      "100%|██████████| 80/80 [00:00<00:00, 276.77it/s]\u001b[A\n",
      " 99%|█████████▉| 1112/1123 [16:02<00:11,  1.08s/it]"
     ]
    },
    {
     "name": "stdout",
     "output_type": "stream",
     "text": [
      "/home/jiang/projects/SubtleGAN/data/brats2021/train/BraTS2021_00353\n"
     ]
    },
    {
     "name": "stderr",
     "output_type": "stream",
     "text": [
      "\n",
      "  0%|          | 0/80 [00:00<?, ?it/s]\u001b[A\n",
      " 24%|██▍       | 19/80 [00:00<00:00, 186.02it/s]\u001b[A\n",
      " 48%|████▊     | 38/80 [00:00<00:00, 177.68it/s]\u001b[A\n",
      " 70%|███████   | 56/80 [00:00<00:00, 172.02it/s]\u001b[A\n",
      "100%|██████████| 80/80 [00:00<00:00, 166.46it/s]\u001b[A\n",
      " 99%|█████████▉| 1113/1123 [16:02<00:10,  1.04s/it]"
     ]
    },
    {
     "name": "stdout",
     "output_type": "stream",
     "text": [
      "/home/jiang/projects/SubtleGAN/data/brats2021/train/BraTS2021_01245\n"
     ]
    },
    {
     "name": "stderr",
     "output_type": "stream",
     "text": [
      "\n",
      "  0%|          | 0/80 [00:00<?, ?it/s]\u001b[A\n",
      " 24%|██▍       | 19/80 [00:00<00:00, 185.51it/s]\u001b[A\n",
      " 48%|████▊     | 38/80 [00:00<00:00, 178.00it/s]\u001b[A\n",
      " 70%|███████   | 56/80 [00:00<00:00, 176.53it/s]\u001b[A\n",
      "100%|██████████| 80/80 [00:00<00:00, 177.14it/s]\u001b[A\n",
      " 99%|█████████▉| 1114/1123 [16:03<00:08,  1.01it/s]"
     ]
    },
    {
     "name": "stdout",
     "output_type": "stream",
     "text": [
      "/home/jiang/projects/SubtleGAN/data/brats2021/train/BraTS2021_00118\n"
     ]
    },
    {
     "name": "stderr",
     "output_type": "stream",
     "text": [
      "\n",
      "  0%|          | 0/80 [00:00<?, ?it/s]\u001b[A\n",
      " 25%|██▌       | 20/80 [00:00<00:00, 189.47it/s]\u001b[A\n",
      " 49%|████▉     | 39/80 [00:00<00:00, 180.14it/s]\u001b[A\n",
      " 75%|███████▌  | 60/80 [00:00<00:00, 192.22it/s]\u001b[A\n",
      "100%|██████████| 80/80 [00:00<00:00, 184.62it/s]\u001b[A\n",
      " 99%|█████████▉| 1115/1123 [16:04<00:07,  1.05it/s]"
     ]
    },
    {
     "name": "stdout",
     "output_type": "stream",
     "text": [
      "/home/jiang/projects/SubtleGAN/data/brats2021/train/BraTS2021_00668\n"
     ]
    },
    {
     "name": "stderr",
     "output_type": "stream",
     "text": [
      "\n",
      "  0%|          | 0/80 [00:00<?, ?it/s]\u001b[A\n",
      " 25%|██▌       | 20/80 [00:00<00:00, 191.67it/s]\u001b[A\n",
      " 50%|█████     | 40/80 [00:00<00:00, 182.03it/s]\u001b[A\n",
      " 74%|███████▍  | 59/80 [00:00<00:00, 179.74it/s]\u001b[A\n",
      "100%|██████████| 80/80 [00:00<00:00, 178.91it/s]\u001b[A\n",
      " 99%|█████████▉| 1116/1123 [16:05<00:06,  1.10it/s]"
     ]
    },
    {
     "name": "stdout",
     "output_type": "stream",
     "text": [
      "/home/jiang/projects/SubtleGAN/data/brats2021/train/BraTS2021_00568\n"
     ]
    },
    {
     "name": "stderr",
     "output_type": "stream",
     "text": [
      "\n",
      "  0%|          | 0/80 [00:00<?, ?it/s]\u001b[A\n",
      " 41%|████▏     | 33/80 [00:00<00:00, 329.42it/s]\u001b[A\n",
      "100%|██████████| 80/80 [00:00<00:00, 300.34it/s]\u001b[A\n",
      " 99%|█████████▉| 1117/1123 [16:06<00:05,  1.01it/s]"
     ]
    },
    {
     "name": "stdout",
     "output_type": "stream",
     "text": [
      "/home/jiang/projects/SubtleGAN/data/brats2021/train/BraTS2021_00529\n"
     ]
    },
    {
     "name": "stderr",
     "output_type": "stream",
     "text": [
      "\n",
      "  0%|          | 0/80 [00:00<?, ?it/s]\u001b[A\n",
      " 24%|██▍       | 19/80 [00:00<00:00, 188.55it/s]\u001b[A\n",
      " 50%|█████     | 40/80 [00:00<00:00, 199.32it/s]\u001b[A\n",
      " 75%|███████▌  | 60/80 [00:00<00:00, 188.93it/s]\u001b[A\n",
      "100%|██████████| 80/80 [00:00<00:00, 186.21it/s]\u001b[A\n",
      "100%|█████████▉| 1118/1123 [16:07<00:04,  1.07it/s]"
     ]
    },
    {
     "name": "stdout",
     "output_type": "stream",
     "text": [
      "/home/jiang/projects/SubtleGAN/data/brats2021/train/BraTS2021_00468\n"
     ]
    },
    {
     "name": "stderr",
     "output_type": "stream",
     "text": [
      "\n",
      "  0%|          | 0/80 [00:00<?, ?it/s]\u001b[A\n",
      " 25%|██▌       | 20/80 [00:00<00:00, 191.72it/s]\u001b[A\n",
      " 50%|█████     | 40/80 [00:00<00:00, 182.43it/s]\u001b[A\n",
      " 74%|███████▍  | 59/80 [00:00<00:00, 179.76it/s]\u001b[A\n",
      "100%|██████████| 80/80 [00:00<00:00, 178.73it/s]\u001b[A\n",
      "100%|█████████▉| 1119/1123 [16:08<00:03,  1.11it/s]"
     ]
    },
    {
     "name": "stdout",
     "output_type": "stream",
     "text": [
      "/home/jiang/projects/SubtleGAN/data/brats2021/train/BraTS2021_00430\n"
     ]
    },
    {
     "name": "stderr",
     "output_type": "stream",
     "text": [
      "\n",
      "  0%|          | 0/80 [00:00<?, ?it/s]\u001b[A\n",
      " 28%|██▊       | 22/80 [00:00<00:00, 209.92it/s]\u001b[A\n",
      " 54%|█████▍    | 43/80 [00:00<00:00, 190.70it/s]\u001b[A\n",
      "100%|██████████| 80/80 [00:00<00:00, 187.34it/s]\u001b[A\n",
      "100%|█████████▉| 1120/1123 [16:09<00:02,  1.13it/s]"
     ]
    },
    {
     "name": "stdout",
     "output_type": "stream",
     "text": [
      "/home/jiang/projects/SubtleGAN/data/brats2021/train/BraTS2021_00512\n"
     ]
    },
    {
     "name": "stderr",
     "output_type": "stream",
     "text": [
      "\n",
      "  0%|          | 0/80 [00:00<?, ?it/s]\u001b[A\n",
      " 25%|██▌       | 20/80 [00:00<00:00, 196.64it/s]\u001b[A\n",
      " 50%|█████     | 40/80 [00:00<00:00, 187.45it/s]\u001b[A\n",
      " 74%|███████▍  | 59/80 [00:00<00:00, 184.98it/s]\u001b[A\n",
      "100%|██████████| 80/80 [00:00<00:00, 181.62it/s]\u001b[A\n",
      "100%|█████████▉| 1121/1123 [16:09<00:01,  1.16it/s]"
     ]
    },
    {
     "name": "stdout",
     "output_type": "stream",
     "text": [
      "/home/jiang/projects/SubtleGAN/data/brats2021/train/BraTS2021_00442\n"
     ]
    },
    {
     "name": "stderr",
     "output_type": "stream",
     "text": [
      "\n",
      "  0%|          | 0/80 [00:00<?, ?it/s]\u001b[A\n",
      " 25%|██▌       | 20/80 [00:00<00:00, 194.01it/s]\u001b[A\n",
      " 50%|█████     | 40/80 [00:00<00:00, 186.08it/s]\u001b[A\n",
      " 74%|███████▍  | 59/80 [00:00<00:00, 184.25it/s]\u001b[A\n",
      "100%|██████████| 80/80 [00:00<00:00, 183.46it/s]\u001b[A\n",
      "100%|█████████▉| 1122/1123 [16:10<00:00,  1.16it/s]"
     ]
    },
    {
     "name": "stdout",
     "output_type": "stream",
     "text": [
      "/home/jiang/projects/SubtleGAN/data/brats2021/train/BraTS2021_00591\n"
     ]
    },
    {
     "name": "stderr",
     "output_type": "stream",
     "text": [
      "\n",
      "  0%|          | 0/80 [00:00<?, ?it/s]\u001b[A\n",
      " 42%|████▎     | 34/80 [00:00<00:00, 332.24it/s]\u001b[A\n",
      "100%|██████████| 80/80 [00:00<00:00, 301.69it/s]\u001b[A\n",
      "100%|██████████| 1123/1123 [16:12<00:00,  1.16it/s]\n",
      "  0%|          | 0/63 [00:00<?, ?it/s]"
     ]
    },
    {
     "name": "stdout",
     "output_type": "stream",
     "text": [
      "/home/jiang/projects/SubtleGAN/data/brats2021/test/BraTS2021_00636\n"
     ]
    },
    {
     "name": "stderr",
     "output_type": "stream",
     "text": [
      "\n",
      "  0%|          | 0/80 [00:00<?, ?it/s]\u001b[A\n",
      " 25%|██▌       | 20/80 [00:00<00:00, 196.07it/s]\u001b[A\n",
      " 50%|█████     | 40/80 [00:00<00:00, 187.94it/s]\u001b[A\n",
      " 74%|███████▍  | 59/80 [00:00<00:00, 187.84it/s]\u001b[A\n",
      "100%|██████████| 80/80 [00:00<00:00, 183.77it/s]\u001b[A\n",
      "  2%|▏         | 1/63 [00:00<00:49,  1.25it/s]"
     ]
    },
    {
     "name": "stdout",
     "output_type": "stream",
     "text": [
      "/home/jiang/projects/SubtleGAN/data/brats2021/test/BraTS2021_01550\n"
     ]
    },
    {
     "name": "stderr",
     "output_type": "stream",
     "text": [
      "\n",
      "  0%|          | 0/80 [00:00<?, ?it/s]\u001b[A\n",
      " 41%|████▏     | 33/80 [00:00<00:00, 327.57it/s]\u001b[A\n",
      "100%|██████████| 80/80 [00:00<00:00, 295.83it/s]\u001b[A\n",
      "  3%|▎         | 2/63 [00:01<01:01,  1.01s/it]"
     ]
    },
    {
     "name": "stdout",
     "output_type": "stream",
     "text": [
      "/home/jiang/projects/SubtleGAN/data/brats2021/test/BraTS2021_01372\n"
     ]
    },
    {
     "name": "stderr",
     "output_type": "stream",
     "text": [
      "\n",
      "  0%|          | 0/80 [00:00<?, ?it/s]\u001b[A\n",
      " 28%|██▊       | 22/80 [00:00<00:00, 209.07it/s]\u001b[A\n",
      " 54%|█████▍    | 43/80 [00:00<00:00, 187.01it/s]\u001b[A\n",
      "100%|██████████| 80/80 [00:00<00:00, 183.97it/s]\u001b[A\n",
      "  5%|▍         | 3/63 [00:02<00:56,  1.05it/s]"
     ]
    },
    {
     "name": "stdout",
     "output_type": "stream",
     "text": [
      "/home/jiang/projects/SubtleGAN/data/brats2021/test/BraTS2021_01147\n"
     ]
    },
    {
     "name": "stderr",
     "output_type": "stream",
     "text": [
      "\n",
      "  0%|          | 0/80 [00:00<?, ?it/s]\u001b[A\n",
      " 25%|██▌       | 20/80 [00:00<00:00, 193.38it/s]\u001b[A\n",
      " 50%|█████     | 40/80 [00:00<00:00, 184.05it/s]\u001b[A\n",
      " 74%|███████▍  | 59/80 [00:00<00:00, 179.91it/s]\u001b[A\n",
      "100%|██████████| 80/80 [00:00<00:00, 186.59it/s]\u001b[A\n",
      "  6%|▋         | 4/63 [00:03<00:53,  1.10it/s]"
     ]
    },
    {
     "name": "stdout",
     "output_type": "stream",
     "text": [
      "/home/jiang/projects/SubtleGAN/data/brats2021/test/BraTS2021_00663\n"
     ]
    },
    {
     "name": "stderr",
     "output_type": "stream",
     "text": [
      "\n",
      "  0%|          | 0/80 [00:00<?, ?it/s]\u001b[A\n",
      " 25%|██▌       | 20/80 [00:00<00:00, 198.97it/s]\u001b[A\n",
      " 50%|█████     | 40/80 [00:00<00:00, 187.49it/s]\u001b[A\n",
      " 74%|███████▍  | 59/80 [00:00<00:00, 183.07it/s]\u001b[A\n",
      "100%|██████████| 80/80 [00:00<00:00, 181.75it/s]\u001b[A\n",
      "  8%|▊         | 5/63 [00:04<00:50,  1.14it/s]"
     ]
    },
    {
     "name": "stdout",
     "output_type": "stream",
     "text": [
      "/home/jiang/projects/SubtleGAN/data/brats2021/test/BraTS2021_01315\n"
     ]
    },
    {
     "name": "stderr",
     "output_type": "stream",
     "text": [
      "\n",
      "  0%|          | 0/80 [00:00<?, ?it/s]\u001b[A\n",
      " 25%|██▌       | 20/80 [00:00<00:00, 189.73it/s]\u001b[A\n",
      " 52%|█████▎    | 42/80 [00:00<00:00, 203.57it/s]\u001b[A\n",
      "100%|██████████| 80/80 [00:00<00:00, 192.83it/s]\u001b[A\n",
      " 10%|▉         | 6/63 [00:05<00:49,  1.15it/s]"
     ]
    },
    {
     "name": "stdout",
     "output_type": "stream",
     "text": [
      "/home/jiang/projects/SubtleGAN/data/brats2021/test/BraTS2021_01334\n"
     ]
    },
    {
     "name": "stderr",
     "output_type": "stream",
     "text": [
      "\n",
      "  0%|          | 0/80 [00:00<?, ?it/s]\u001b[A\n",
      " 25%|██▌       | 20/80 [00:00<00:00, 192.73it/s]\u001b[A\n",
      " 50%|█████     | 40/80 [00:00<00:00, 183.57it/s]\u001b[A\n",
      " 74%|███████▍  | 59/80 [00:00<00:00, 176.80it/s]\u001b[A\n",
      "100%|██████████| 80/80 [00:00<00:00, 175.47it/s]\u001b[A\n",
      " 11%|█         | 7/63 [00:06<00:48,  1.15it/s]"
     ]
    },
    {
     "name": "stdout",
     "output_type": "stream",
     "text": [
      "/home/jiang/projects/SubtleGAN/data/brats2021/test/BraTS2021_00218\n"
     ]
    },
    {
     "name": "stderr",
     "output_type": "stream",
     "text": [
      "\n",
      "  0%|          | 0/80 [00:00<?, ?it/s]\u001b[A\n",
      " 25%|██▌       | 20/80 [00:00<00:00, 194.39it/s]\u001b[A\n",
      " 50%|█████     | 40/80 [00:00<00:00, 183.64it/s]\u001b[A\n",
      " 74%|███████▍  | 59/80 [00:00<00:00, 177.60it/s]\u001b[A\n",
      "100%|██████████| 80/80 [00:00<00:00, 176.08it/s]\u001b[A\n",
      " 13%|█▎        | 8/63 [00:07<00:48,  1.13it/s]"
     ]
    },
    {
     "name": "stdout",
     "output_type": "stream",
     "text": [
      "/home/jiang/projects/SubtleGAN/data/brats2021/test/BraTS2021_01649\n"
     ]
    },
    {
     "name": "stderr",
     "output_type": "stream",
     "text": [
      "\n",
      "  0%|          | 0/80 [00:00<?, ?it/s]\u001b[A\n",
      " 40%|████      | 32/80 [00:00<00:00, 313.87it/s]\u001b[A\n",
      "100%|██████████| 80/80 [00:00<00:00, 286.02it/s]\u001b[A\n",
      " 14%|█▍        | 9/63 [00:08<00:52,  1.02it/s]"
     ]
    },
    {
     "name": "stdout",
     "output_type": "stream",
     "text": [
      "/home/jiang/projects/SubtleGAN/data/brats2021/test/BraTS2021_00177\n"
     ]
    },
    {
     "name": "stderr",
     "output_type": "stream",
     "text": [
      "\n",
      "  0%|          | 0/80 [00:00<?, ?it/s]\u001b[A\n",
      " 25%|██▌       | 20/80 [00:00<00:00, 196.19it/s]\u001b[A\n",
      " 50%|█████     | 40/80 [00:00<00:00, 187.58it/s]\u001b[A\n",
      " 74%|███████▍  | 59/80 [00:00<00:00, 184.61it/s]\u001b[A\n",
      "100%|██████████| 80/80 [00:00<00:00, 179.70it/s]\u001b[A\n",
      " 16%|█▌        | 10/63 [00:09<00:50,  1.05it/s]"
     ]
    },
    {
     "name": "stdout",
     "output_type": "stream",
     "text": [
      "/home/jiang/projects/SubtleGAN/data/brats2021/test/BraTS2021_01517\n"
     ]
    },
    {
     "name": "stderr",
     "output_type": "stream",
     "text": [
      "\n",
      "  0%|          | 0/80 [00:00<?, ?it/s]\u001b[A\n",
      " 25%|██▌       | 20/80 [00:00<00:00, 190.98it/s]\u001b[A\n",
      " 50%|█████     | 40/80 [00:00<00:00, 183.91it/s]\u001b[A\n",
      " 74%|███████▍  | 59/80 [00:00<00:00, 181.67it/s]\u001b[A\n",
      "100%|██████████| 80/80 [00:00<00:00, 180.29it/s]\u001b[A\n",
      " 17%|█▋        | 11/63 [00:10<00:48,  1.07it/s]"
     ]
    },
    {
     "name": "stdout",
     "output_type": "stream",
     "text": [
      "/home/jiang/projects/SubtleGAN/data/brats2021/test/BraTS2021_00117\n"
     ]
    },
    {
     "name": "stderr",
     "output_type": "stream",
     "text": [
      "\n",
      "  0%|          | 0/80 [00:00<?, ?it/s]\u001b[A\n",
      " 24%|██▍       | 19/80 [00:00<00:00, 185.03it/s]\u001b[A\n",
      " 50%|█████     | 40/80 [00:00<00:00, 196.21it/s]\u001b[A\n",
      " 75%|███████▌  | 60/80 [00:00<00:00, 187.21it/s]\u001b[A\n",
      "100%|██████████| 80/80 [00:00<00:00, 185.67it/s]\u001b[A\n",
      " 19%|█▉        | 12/63 [00:11<00:46,  1.09it/s]"
     ]
    },
    {
     "name": "stdout",
     "output_type": "stream",
     "text": [
      "/home/jiang/projects/SubtleGAN/data/brats2021/test/BraTS2021_01346\n"
     ]
    },
    {
     "name": "stderr",
     "output_type": "stream",
     "text": [
      "\n",
      "  0%|          | 0/80 [00:00<?, ?it/s]\u001b[A\n",
      " 25%|██▌       | 20/80 [00:00<00:00, 190.89it/s]\u001b[A\n",
      " 50%|█████     | 40/80 [00:00<00:00, 181.53it/s]\u001b[A\n",
      " 74%|███████▍  | 59/80 [00:00<00:00, 178.42it/s]\u001b[A\n",
      "100%|██████████| 80/80 [00:00<00:00, 177.06it/s]\u001b[A\n",
      " 21%|██        | 13/63 [00:11<00:45,  1.10it/s]"
     ]
    },
    {
     "name": "stdout",
     "output_type": "stream",
     "text": [
      "/home/jiang/projects/SubtleGAN/data/brats2021/test/BraTS2021_01059\n"
     ]
    },
    {
     "name": "stderr",
     "output_type": "stream",
     "text": [
      "\n",
      "  0%|          | 0/80 [00:00<?, ?it/s]\u001b[A\n",
      " 24%|██▍       | 19/80 [00:00<00:00, 187.19it/s]\u001b[A\n",
      " 48%|████▊     | 38/80 [00:00<00:00, 178.85it/s]\u001b[A\n",
      " 70%|███████   | 56/80 [00:00<00:00, 177.65it/s]\u001b[A\n",
      "100%|██████████| 80/80 [00:00<00:00, 178.38it/s]\u001b[A\n",
      " 22%|██▏       | 14/63 [00:12<00:44,  1.11it/s]"
     ]
    },
    {
     "name": "stdout",
     "output_type": "stream",
     "text": [
      "/home/jiang/projects/SubtleGAN/data/brats2021/test/BraTS2021_01158\n"
     ]
    },
    {
     "name": "stderr",
     "output_type": "stream",
     "text": [
      "\n",
      "  0%|          | 0/80 [00:00<?, ?it/s]\u001b[A\n",
      " 24%|██▍       | 19/80 [00:00<00:00, 188.81it/s]\u001b[A\n",
      " 48%|████▊     | 38/80 [00:00<00:00, 178.66it/s]\u001b[A\n",
      " 70%|███████   | 56/80 [00:00<00:00, 172.40it/s]\u001b[A\n",
      "100%|██████████| 80/80 [00:00<00:00, 177.76it/s]\u001b[A\n",
      " 24%|██▍       | 15/63 [00:13<00:42,  1.14it/s]"
     ]
    },
    {
     "name": "stdout",
     "output_type": "stream",
     "text": [
      "/home/jiang/projects/SubtleGAN/data/brats2021/test/BraTS2021_00196\n"
     ]
    },
    {
     "name": "stderr",
     "output_type": "stream",
     "text": [
      "\n",
      "  0%|          | 0/80 [00:00<?, ?it/s]\u001b[A\n",
      " 20%|██        | 16/80 [00:00<00:00, 156.76it/s]\u001b[A\n",
      " 42%|████▎     | 34/80 [00:00<00:00, 168.78it/s]\u001b[A\n",
      " 65%|██████▌   | 52/80 [00:00<00:00, 173.09it/s]\u001b[A\n",
      "100%|██████████| 80/80 [00:00<00:00, 173.07it/s]\u001b[A\n",
      " 25%|██▌       | 16/63 [00:14<00:42,  1.11it/s]"
     ]
    },
    {
     "name": "stdout",
     "output_type": "stream",
     "text": [
      "/home/jiang/projects/SubtleGAN/data/brats2021/test/BraTS2021_01504\n"
     ]
    },
    {
     "name": "stderr",
     "output_type": "stream",
     "text": [
      "\n",
      "  0%|          | 0/80 [00:00<?, ?it/s]\u001b[A\n",
      " 29%|██▉       | 23/80 [00:00<00:00, 220.18it/s]\u001b[A\n",
      " 57%|█████▊    | 46/80 [00:00<00:00, 194.91it/s]\u001b[A\n",
      "100%|██████████| 80/80 [00:00<00:00, 190.25it/s]\u001b[A\n",
      " 27%|██▋       | 17/63 [00:15<00:40,  1.13it/s]"
     ]
    },
    {
     "name": "stdout",
     "output_type": "stream",
     "text": [
      "/home/jiang/projects/SubtleGAN/data/brats2021/test/BraTS2021_01525\n"
     ]
    },
    {
     "name": "stderr",
     "output_type": "stream",
     "text": [
      "\n",
      "  0%|          | 0/80 [00:00<?, ?it/s]\u001b[A\n",
      " 12%|█▎        | 10/80 [00:00<00:00, 91.46it/s]\u001b[A\n",
      " 30%|███       | 24/80 [00:00<00:00, 115.51it/s]\u001b[A\n",
      " 52%|█████▎    | 42/80 [00:00<00:00, 140.75it/s]\u001b[A\n",
      " 74%|███████▍  | 59/80 [00:00<00:00, 151.31it/s]\u001b[A\n",
      "100%|██████████| 80/80 [00:00<00:00, 150.26it/s]\u001b[A\n",
      " 29%|██▊       | 18/63 [00:16<00:41,  1.10it/s]"
     ]
    },
    {
     "name": "stdout",
     "output_type": "stream",
     "text": [
      "/home/jiang/projects/SubtleGAN/data/brats2021/test/BraTS2021_01407\n"
     ]
    },
    {
     "name": "stderr",
     "output_type": "stream",
     "text": [
      "\n",
      "  0%|          | 0/80 [00:00<?, ?it/s]\u001b[A\n",
      " 24%|██▍       | 19/80 [00:00<00:00, 185.75it/s]\u001b[A\n",
      " 48%|████▊     | 38/80 [00:00<00:00, 179.20it/s]\u001b[A\n",
      " 70%|███████   | 56/80 [00:00<00:00, 177.23it/s]\u001b[A\n",
      "100%|██████████| 80/80 [00:00<00:00, 176.46it/s]\u001b[A\n",
      " 30%|███       | 19/63 [00:17<00:40,  1.07it/s]"
     ]
    },
    {
     "name": "stdout",
     "output_type": "stream",
     "text": [
      "/home/jiang/projects/SubtleGAN/data/brats2021/test/BraTS2021_01226\n"
     ]
    },
    {
     "name": "stderr",
     "output_type": "stream",
     "text": [
      "\n",
      "  0%|          | 0/80 [00:00<?, ?it/s]\u001b[A\n",
      " 25%|██▌       | 20/80 [00:00<00:00, 195.76it/s]\u001b[A\n",
      " 50%|█████     | 40/80 [00:00<00:00, 177.34it/s]\u001b[A\n",
      " 72%|███████▎  | 58/80 [00:00<00:00, 173.10it/s]\u001b[A\n",
      "100%|██████████| 80/80 [00:00<00:00, 174.52it/s]\u001b[A\n",
      " 32%|███▏      | 20/63 [00:18<00:41,  1.05it/s]"
     ]
    },
    {
     "name": "stdout",
     "output_type": "stream",
     "text": [
      "/home/jiang/projects/SubtleGAN/data/brats2021/test/BraTS2021_00236\n"
     ]
    },
    {
     "name": "stderr",
     "output_type": "stream",
     "text": [
      "\n",
      "  0%|          | 0/80 [00:00<?, ?it/s]\u001b[A\n",
      " 24%|██▍       | 19/80 [00:00<00:00, 185.39it/s]\u001b[A\n",
      " 48%|████▊     | 38/80 [00:00<00:00, 168.13it/s]\u001b[A\n",
      " 69%|██████▉   | 55/80 [00:00<00:00, 168.73it/s]\u001b[A\n",
      "100%|██████████| 80/80 [00:00<00:00, 175.42it/s]\u001b[A\n",
      " 33%|███▎      | 21/63 [00:19<00:39,  1.06it/s]"
     ]
    },
    {
     "name": "stdout",
     "output_type": "stream",
     "text": [
      "/home/jiang/projects/SubtleGAN/data/brats2021/test/BraTS2021_00555\n"
     ]
    },
    {
     "name": "stderr",
     "output_type": "stream",
     "text": [
      "\n",
      "  0%|          | 0/80 [00:00<?, ?it/s]\u001b[A\n",
      " 25%|██▌       | 20/80 [00:00<00:00, 190.19it/s]\u001b[A\n",
      " 50%|█████     | 40/80 [00:00<00:00, 183.50it/s]\u001b[A\n",
      " 74%|███████▍  | 59/80 [00:00<00:00, 181.72it/s]\u001b[A\n",
      "100%|██████████| 80/80 [00:00<00:00, 162.58it/s]\u001b[A\n",
      " 35%|███▍      | 22/63 [00:20<00:37,  1.09it/s]"
     ]
    },
    {
     "name": "stdout",
     "output_type": "stream",
     "text": [
      "/home/jiang/projects/SubtleGAN/data/brats2021/test/BraTS2021_01502\n"
     ]
    },
    {
     "name": "stderr",
     "output_type": "stream",
     "text": [
      "\n",
      "  0%|          | 0/80 [00:00<?, ?it/s]\u001b[A\n",
      " 26%|██▋       | 21/80 [00:00<00:00, 209.48it/s]\u001b[A\n",
      " 52%|█████▎    | 42/80 [00:00<00:00, 185.33it/s]\u001b[A\n",
      " 76%|███████▋  | 61/80 [00:00<00:00, 179.70it/s]\u001b[A\n",
      "100%|██████████| 80/80 [00:00<00:00, 177.56it/s]\u001b[A\n",
      " 37%|███▋      | 23/63 [00:21<00:36,  1.09it/s]"
     ]
    },
    {
     "name": "stdout",
     "output_type": "stream",
     "text": [
      "/home/jiang/projects/SubtleGAN/data/brats2021/test/BraTS2021_00999\n"
     ]
    },
    {
     "name": "stderr",
     "output_type": "stream",
     "text": [
      "\n",
      "  0%|          | 0/80 [00:00<?, ?it/s]\u001b[A\n",
      " 24%|██▍       | 19/80 [00:00<00:00, 188.71it/s]\u001b[A\n",
      " 48%|████▊     | 38/80 [00:00<00:00, 180.09it/s]\u001b[A\n",
      " 71%|███████▏  | 57/80 [00:00<00:00, 175.67it/s]\u001b[A\n",
      "100%|██████████| 80/80 [00:00<00:00, 177.17it/s]\u001b[A\n",
      " 38%|███▊      | 24/63 [00:21<00:35,  1.10it/s]"
     ]
    },
    {
     "name": "stdout",
     "output_type": "stream",
     "text": [
      "/home/jiang/projects/SubtleGAN/data/brats2021/test/BraTS2021_00819\n"
     ]
    },
    {
     "name": "stderr",
     "output_type": "stream",
     "text": [
      "\n",
      "  0%|          | 0/80 [00:00<?, ?it/s]\u001b[A\n",
      " 41%|████▏     | 33/80 [00:00<00:00, 326.82it/s]\u001b[A\n",
      "100%|██████████| 80/80 [00:00<00:00, 292.02it/s]\u001b[A\n",
      " 40%|███▉      | 25/63 [00:23<00:38,  1.00s/it]"
     ]
    },
    {
     "name": "stdout",
     "output_type": "stream",
     "text": [
      "/home/jiang/projects/SubtleGAN/data/brats2021/test/BraTS2021_00706\n"
     ]
    },
    {
     "name": "stderr",
     "output_type": "stream",
     "text": [
      "\n",
      "  0%|          | 0/80 [00:00<?, ?it/s]\u001b[A\n",
      " 24%|██▍       | 19/80 [00:00<00:00, 189.07it/s]\u001b[A\n",
      " 48%|████▊     | 38/80 [00:00<00:00, 180.98it/s]\u001b[A\n",
      " 71%|███████▏  | 57/80 [00:00<00:00, 179.01it/s]\u001b[A\n",
      "100%|██████████| 80/80 [00:00<00:00, 177.81it/s]\u001b[A\n",
      " 41%|████▏     | 26/63 [00:24<00:35,  1.05it/s]"
     ]
    },
    {
     "name": "stdout",
     "output_type": "stream",
     "text": [
      "/home/jiang/projects/SubtleGAN/data/brats2021/test/BraTS2021_00507\n"
     ]
    },
    {
     "name": "stderr",
     "output_type": "stream",
     "text": [
      "\n",
      "  0%|          | 0/80 [00:00<?, ?it/s]\u001b[A\n",
      " 24%|██▍       | 19/80 [00:00<00:00, 183.01it/s]\u001b[A\n",
      " 48%|████▊     | 38/80 [00:00<00:00, 176.73it/s]\u001b[A\n",
      " 70%|███████   | 56/80 [00:00<00:00, 173.01it/s]\u001b[A\n",
      "100%|██████████| 80/80 [00:00<00:00, 178.04it/s]\u001b[A\n",
      " 43%|████▎     | 27/63 [00:24<00:32,  1.10it/s]"
     ]
    },
    {
     "name": "stdout",
     "output_type": "stream",
     "text": [
      "/home/jiang/projects/SubtleGAN/data/brats2021/test/BraTS2021_01083\n"
     ]
    },
    {
     "name": "stderr",
     "output_type": "stream",
     "text": [
      "\n",
      "  0%|          | 0/80 [00:00<?, ?it/s]\u001b[A\n",
      " 25%|██▌       | 20/80 [00:00<00:00, 190.78it/s]\u001b[A\n",
      " 50%|█████     | 40/80 [00:00<00:00, 178.82it/s]\u001b[A\n",
      " 72%|███████▎  | 58/80 [00:00<00:00, 175.12it/s]\u001b[A\n",
      "100%|██████████| 80/80 [00:00<00:00, 173.86it/s]\u001b[A\n",
      " 44%|████▍     | 28/63 [00:25<00:31,  1.11it/s]"
     ]
    },
    {
     "name": "stdout",
     "output_type": "stream",
     "text": [
      "/home/jiang/projects/SubtleGAN/data/brats2021/test/BraTS2021_00590\n"
     ]
    },
    {
     "name": "stderr",
     "output_type": "stream",
     "text": [
      "\n",
      "  0%|          | 0/80 [00:00<?, ?it/s]\u001b[A\n",
      " 42%|████▎     | 34/80 [00:00<00:00, 331.76it/s]\u001b[A\n",
      "100%|██████████| 80/80 [00:00<00:00, 301.03it/s]\u001b[A\n",
      " 46%|████▌     | 29/63 [00:26<00:33,  1.02it/s]"
     ]
    },
    {
     "name": "stdout",
     "output_type": "stream",
     "text": [
      "/home/jiang/projects/SubtleGAN/data/brats2021/test/BraTS2021_01069\n"
     ]
    },
    {
     "name": "stderr",
     "output_type": "stream",
     "text": [
      "\n",
      "  0%|          | 0/80 [00:00<?, ?it/s]\u001b[A\n",
      " 25%|██▌       | 20/80 [00:00<00:00, 191.25it/s]\u001b[A\n",
      " 50%|█████     | 40/80 [00:00<00:00, 178.72it/s]\u001b[A\n",
      "100%|██████████| 80/80 [00:00<00:00, 184.80it/s]\u001b[A\n",
      " 48%|████▊     | 30/63 [00:27<00:31,  1.06it/s]"
     ]
    },
    {
     "name": "stdout",
     "output_type": "stream",
     "text": [
      "/home/jiang/projects/SubtleGAN/data/brats2021/test/BraTS2021_01592\n"
     ]
    },
    {
     "name": "stderr",
     "output_type": "stream",
     "text": [
      "\n",
      "  0%|          | 0/80 [00:00<?, ?it/s]\u001b[A\n",
      " 41%|████▏     | 33/80 [00:00<00:00, 327.39it/s]\u001b[A\n",
      "100%|██████████| 80/80 [00:00<00:00, 292.84it/s]\u001b[A\n",
      " 49%|████▉     | 31/63 [00:28<00:32,  1.02s/it]"
     ]
    },
    {
     "name": "stdout",
     "output_type": "stream",
     "text": [
      "/home/jiang/projects/SubtleGAN/data/brats2021/test/BraTS2021_00588\n"
     ]
    },
    {
     "name": "stderr",
     "output_type": "stream",
     "text": [
      "\n",
      "  0%|          | 0/80 [00:00<?, ?it/s]\u001b[A\n",
      " 41%|████▏     | 33/80 [00:00<00:00, 327.68it/s]\u001b[A\n",
      "100%|██████████| 80/80 [00:00<00:00, 289.72it/s]\u001b[A\n",
      " 51%|█████     | 32/63 [00:30<00:33,  1.08s/it]"
     ]
    },
    {
     "name": "stdout",
     "output_type": "stream",
     "text": [
      "/home/jiang/projects/SubtleGAN/data/brats2021/test/BraTS2021_01077\n"
     ]
    },
    {
     "name": "stderr",
     "output_type": "stream",
     "text": [
      "\n",
      "  0%|          | 0/80 [00:00<?, ?it/s]\u001b[A\n",
      " 26%|██▋       | 21/80 [00:00<00:00, 208.56it/s]\u001b[A\n",
      " 52%|█████▎    | 42/80 [00:00<00:00, 186.21it/s]\u001b[A\n",
      " 76%|███████▋  | 61/80 [00:00<00:00, 180.50it/s]\u001b[A\n",
      "100%|██████████| 80/80 [00:00<00:00, 180.55it/s]\u001b[A\n",
      " 52%|█████▏    | 33/63 [00:31<00:30,  1.02s/it]"
     ]
    },
    {
     "name": "stdout",
     "output_type": "stream",
     "text": [
      "/home/jiang/projects/SubtleGAN/data/brats2021/test/BraTS2021_00239\n"
     ]
    },
    {
     "name": "stderr",
     "output_type": "stream",
     "text": [
      "\n",
      "  0%|          | 0/80 [00:00<?, ?it/s]\u001b[A\n",
      " 25%|██▌       | 20/80 [00:00<00:00, 192.99it/s]\u001b[A\n",
      " 50%|█████     | 40/80 [00:00<00:00, 185.04it/s]\u001b[A\n",
      " 74%|███████▍  | 59/80 [00:00<00:00, 177.31it/s]\u001b[A\n",
      "100%|██████████| 80/80 [00:00<00:00, 183.17it/s]\u001b[A\n",
      " 54%|█████▍    | 34/63 [00:31<00:28,  1.02it/s]"
     ]
    },
    {
     "name": "stdout",
     "output_type": "stream",
     "text": [
      "/home/jiang/projects/SubtleGAN/data/brats2021/test/BraTS2021_01442\n"
     ]
    },
    {
     "name": "stderr",
     "output_type": "stream",
     "text": [
      "\n",
      "  0%|          | 0/80 [00:00<?, ?it/s]\u001b[A\n",
      " 24%|██▍       | 19/80 [00:00<00:00, 187.59it/s]\u001b[A\n",
      " 48%|████▊     | 38/80 [00:00<00:00, 180.41it/s]\u001b[A\n",
      " 71%|███████▏  | 57/80 [00:00<00:00, 178.21it/s]\u001b[A\n",
      "100%|██████████| 80/80 [00:00<00:00, 177.63it/s]\u001b[A\n",
      " 56%|█████▌    | 35/63 [00:32<00:26,  1.06it/s]"
     ]
    },
    {
     "name": "stdout",
     "output_type": "stream",
     "text": [
      "/home/jiang/projects/SubtleGAN/data/brats2021/test/BraTS2021_01300\n"
     ]
    },
    {
     "name": "stderr",
     "output_type": "stream",
     "text": [
      "\n",
      "  0%|          | 0/80 [00:00<?, ?it/s]\u001b[A\n",
      " 28%|██▊       | 22/80 [00:00<00:00, 217.25it/s]\u001b[A\n",
      " 55%|█████▌    | 44/80 [00:00<00:00, 191.59it/s]\u001b[A\n",
      "100%|██████████| 80/80 [00:00<00:00, 187.27it/s]\u001b[A\n",
      " 57%|█████▋    | 36/63 [00:33<00:24,  1.08it/s]"
     ]
    },
    {
     "name": "stdout",
     "output_type": "stream",
     "text": [
      "/home/jiang/projects/SubtleGAN/data/brats2021/test/BraTS2021_00140\n"
     ]
    },
    {
     "name": "stderr",
     "output_type": "stream",
     "text": [
      "\n",
      "  0%|          | 0/80 [00:00<?, ?it/s]\u001b[A\n",
      " 25%|██▌       | 20/80 [00:00<00:00, 191.55it/s]\u001b[A\n",
      " 50%|█████     | 40/80 [00:00<00:00, 180.54it/s]\u001b[A\n",
      " 74%|███████▍  | 59/80 [00:00<00:00, 177.78it/s]\u001b[A\n",
      "100%|██████████| 80/80 [00:00<00:00, 174.64it/s]\u001b[A\n",
      " 59%|█████▊    | 37/63 [00:34<00:23,  1.10it/s]"
     ]
    },
    {
     "name": "stdout",
     "output_type": "stream",
     "text": [
      "/home/jiang/projects/SubtleGAN/data/brats2021/test/BraTS2021_00348\n"
     ]
    },
    {
     "name": "stderr",
     "output_type": "stream",
     "text": [
      "\n",
      "  0%|          | 0/80 [00:00<?, ?it/s]\u001b[A\n",
      " 24%|██▍       | 19/80 [00:00<00:00, 189.33it/s]\u001b[A\n",
      " 48%|████▊     | 38/80 [00:00<00:00, 175.84it/s]\u001b[A\n",
      " 70%|███████   | 56/80 [00:00<00:00, 174.02it/s]\u001b[A\n",
      "100%|██████████| 80/80 [00:00<00:00, 175.46it/s]\u001b[A\n",
      " 60%|██████    | 38/63 [00:35<00:22,  1.10it/s]"
     ]
    },
    {
     "name": "stdout",
     "output_type": "stream",
     "text": [
      "/home/jiang/projects/SubtleGAN/data/brats2021/test/BraTS2021_00137\n"
     ]
    },
    {
     "name": "stderr",
     "output_type": "stream",
     "text": [
      "\n",
      "  0%|          | 0/80 [00:00<?, ?it/s]\u001b[A\n",
      " 25%|██▌       | 20/80 [00:00<00:00, 190.18it/s]\u001b[A\n",
      " 50%|█████     | 40/80 [00:00<00:00, 183.09it/s]\u001b[A\n",
      "100%|██████████| 80/80 [00:00<00:00, 186.24it/s]\u001b[A\n",
      " 62%|██████▏   | 39/63 [00:36<00:21,  1.12it/s]"
     ]
    },
    {
     "name": "stdout",
     "output_type": "stream",
     "text": [
      "/home/jiang/projects/SubtleGAN/data/brats2021/test/BraTS2021_00237\n"
     ]
    },
    {
     "name": "stderr",
     "output_type": "stream",
     "text": [
      "\n",
      "  0%|          | 0/80 [00:00<?, ?it/s]\u001b[A\n",
      " 28%|██▊       | 22/80 [00:00<00:00, 215.75it/s]\u001b[A\n",
      " 55%|█████▌    | 44/80 [00:00<00:00, 214.73it/s]\u001b[A\n",
      "100%|██████████| 80/80 [00:00<00:00, 215.26it/s]\u001b[A\n",
      " 63%|██████▎   | 40/63 [00:37<00:19,  1.15it/s]"
     ]
    },
    {
     "name": "stdout",
     "output_type": "stream",
     "text": [
      "/home/jiang/projects/SubtleGAN/data/brats2021/test/BraTS2021_00621\n"
     ]
    },
    {
     "name": "stderr",
     "output_type": "stream",
     "text": [
      "\n",
      "  0%|          | 0/80 [00:00<?, ?it/s]\u001b[A\n",
      " 29%|██▉       | 23/80 [00:00<00:00, 228.30it/s]\u001b[A\n",
      " 57%|█████▊    | 46/80 [00:00<00:00, 210.24it/s]\u001b[A\n",
      "100%|██████████| 80/80 [00:00<00:00, 216.17it/s]\u001b[A\n",
      " 65%|██████▌   | 41/63 [00:37<00:18,  1.20it/s]"
     ]
    },
    {
     "name": "stdout",
     "output_type": "stream",
     "text": [
      "/home/jiang/projects/SubtleGAN/data/brats2021/test/BraTS2021_00714\n"
     ]
    },
    {
     "name": "stderr",
     "output_type": "stream",
     "text": [
      "\n",
      "  0%|          | 0/80 [00:00<?, ?it/s]\u001b[A\n",
      " 32%|███▎      | 26/80 [00:00<00:00, 252.56it/s]\u001b[A\n",
      " 65%|██████▌   | 52/80 [00:00<00:00, 249.00it/s]\u001b[A\n",
      "100%|██████████| 80/80 [00:00<00:00, 246.19it/s]\u001b[A\n",
      " 67%|██████▋   | 42/63 [00:38<00:16,  1.28it/s]"
     ]
    },
    {
     "name": "stdout",
     "output_type": "stream",
     "text": [
      "/home/jiang/projects/SubtleGAN/data/brats2021/test/BraTS2021_00431\n"
     ]
    },
    {
     "name": "stderr",
     "output_type": "stream",
     "text": [
      "\n",
      "  0%|          | 0/80 [00:00<?, ?it/s]\u001b[A\n",
      " 32%|███▎      | 26/80 [00:00<00:00, 258.07it/s]\u001b[A\n",
      " 65%|██████▌   | 52/80 [00:00<00:00, 244.53it/s]\u001b[A\n",
      "100%|██████████| 80/80 [00:00<00:00, 241.13it/s]\u001b[A\n",
      " 68%|██████▊   | 43/63 [00:39<00:15,  1.28it/s]"
     ]
    },
    {
     "name": "stdout",
     "output_type": "stream",
     "text": [
      "/home/jiang/projects/SubtleGAN/data/brats2021/test/BraTS2021_00709\n"
     ]
    },
    {
     "name": "stderr",
     "output_type": "stream",
     "text": [
      "\n",
      "  0%|          | 0/80 [00:00<?, ?it/s]\u001b[A\n",
      " 31%|███▏      | 25/80 [00:00<00:00, 246.98it/s]\u001b[A\n",
      " 62%|██████▎   | 50/80 [00:00<00:00, 248.12it/s]\u001b[A\n",
      "100%|██████████| 80/80 [00:00<00:00, 245.47it/s]\u001b[A\n",
      " 70%|██████▉   | 44/63 [00:39<00:14,  1.33it/s]"
     ]
    },
    {
     "name": "stdout",
     "output_type": "stream",
     "text": [
      "/home/jiang/projects/SubtleGAN/data/brats2021/test/BraTS2021_00311\n"
     ]
    },
    {
     "name": "stderr",
     "output_type": "stream",
     "text": [
      "\n",
      "  0%|          | 0/80 [00:00<?, ?it/s]\u001b[A\n",
      " 31%|███▏      | 25/80 [00:00<00:00, 240.36it/s]\u001b[A\n",
      " 62%|██████▎   | 50/80 [00:00<00:00, 237.96it/s]\u001b[A\n",
      "100%|██████████| 80/80 [00:00<00:00, 231.92it/s]\u001b[A\n",
      " 71%|███████▏  | 45/63 [00:40<00:13,  1.32it/s]"
     ]
    },
    {
     "name": "stdout",
     "output_type": "stream",
     "text": [
      "/home/jiang/projects/SubtleGAN/data/brats2021/test/BraTS2021_00274\n"
     ]
    },
    {
     "name": "stderr",
     "output_type": "stream",
     "text": [
      "\n",
      "  0%|          | 0/80 [00:00<?, ?it/s]\u001b[A\n",
      " 29%|██▉       | 23/80 [00:00<00:00, 223.03it/s]\u001b[A\n",
      " 57%|█████▊    | 46/80 [00:00<00:00, 218.93it/s]\u001b[A\n",
      "100%|██████████| 80/80 [00:00<00:00, 202.65it/s]\u001b[A\n",
      " 73%|███████▎  | 46/63 [00:41<00:13,  1.28it/s]"
     ]
    },
    {
     "name": "stdout",
     "output_type": "stream",
     "text": [
      "/home/jiang/projects/SubtleGAN/data/brats2021/test/BraTS2021_00586\n"
     ]
    },
    {
     "name": "stderr",
     "output_type": "stream",
     "text": [
      "\n",
      "  0%|          | 0/80 [00:00<?, ?it/s]\u001b[A\n",
      " 34%|███▍      | 27/80 [00:00<00:00, 264.50it/s]\u001b[A\n",
      " 68%|██████▊   | 54/80 [00:00<00:00, 255.75it/s]\u001b[A\n",
      "100%|██████████| 80/80 [00:00<00:00, 252.88it/s]\u001b[A\n",
      " 75%|███████▍  | 47/63 [00:42<00:15,  1.06it/s]"
     ]
    },
    {
     "name": "stdout",
     "output_type": "stream",
     "text": [
      "/home/jiang/projects/SubtleGAN/data/brats2021/test/BraTS2021_01402\n"
     ]
    },
    {
     "name": "stderr",
     "output_type": "stream",
     "text": [
      "\n",
      "  0%|          | 0/80 [00:00<?, ?it/s]\u001b[A\n",
      " 34%|███▍      | 27/80 [00:00<00:00, 261.91it/s]\u001b[A\n",
      "100%|██████████| 80/80 [00:00<00:00, 251.05it/s]\u001b[A\n",
      " 76%|███████▌  | 48/63 [00:43<00:13,  1.13it/s]"
     ]
    },
    {
     "name": "stdout",
     "output_type": "stream",
     "text": [
      "/home/jiang/projects/SubtleGAN/data/brats2021/test/BraTS2021_01657\n"
     ]
    },
    {
     "name": "stderr",
     "output_type": "stream",
     "text": [
      "\n",
      "  0%|          | 0/80 [00:00<?, ?it/s]\u001b[A\n",
      " 40%|████      | 32/80 [00:00<00:00, 312.69it/s]\u001b[A\n",
      "100%|██████████| 80/80 [00:00<00:00, 311.12it/s]\u001b[A\n",
      " 78%|███████▊  | 49/63 [00:44<00:11,  1.22it/s]"
     ]
    },
    {
     "name": "stdout",
     "output_type": "stream",
     "text": [
      "/home/jiang/projects/SubtleGAN/data/brats2021/test/BraTS2021_00688\n"
     ]
    },
    {
     "name": "stderr",
     "output_type": "stream",
     "text": [
      "\n",
      "  0%|          | 0/80 [00:00<?, ?it/s]\u001b[A\n",
      " 41%|████▏     | 33/80 [00:00<00:00, 329.16it/s]\u001b[A\n",
      "100%|██████████| 80/80 [00:00<00:00, 322.13it/s]\u001b[A\n",
      " 79%|███████▉  | 50/63 [00:44<00:09,  1.33it/s]"
     ]
    },
    {
     "name": "stdout",
     "output_type": "stream",
     "text": [
      "/home/jiang/projects/SubtleGAN/data/brats2021/test/BraTS2021_00807\n"
     ]
    },
    {
     "name": "stderr",
     "output_type": "stream",
     "text": [
      "\n",
      "  0%|          | 0/80 [00:00<?, ?it/s]\u001b[A\n",
      " 41%|████▏     | 33/80 [00:00<00:00, 325.23it/s]\u001b[A\n",
      "100%|██████████| 80/80 [00:00<00:00, 318.64it/s]\u001b[A\n",
      " 81%|████████  | 51/63 [00:45<00:09,  1.21it/s]"
     ]
    },
    {
     "name": "stdout",
     "output_type": "stream",
     "text": [
      "/home/jiang/projects/SubtleGAN/data/brats2021/test/BraTS2021_00111\n"
     ]
    },
    {
     "name": "stderr",
     "output_type": "stream",
     "text": [
      "\n",
      "  0%|          | 0/80 [00:00<?, ?it/s]\u001b[A\n",
      " 41%|████▏     | 33/80 [00:00<00:00, 329.09it/s]\u001b[A\n",
      "100%|██████████| 80/80 [00:00<00:00, 317.97it/s]\u001b[A\n",
      " 83%|████████▎ | 52/63 [00:46<00:08,  1.29it/s]"
     ]
    },
    {
     "name": "stdout",
     "output_type": "stream",
     "text": [
      "/home/jiang/projects/SubtleGAN/data/brats2021/test/BraTS2021_01538\n"
     ]
    },
    {
     "name": "stderr",
     "output_type": "stream",
     "text": [
      "\n",
      "  0%|          | 0/80 [00:00<?, ?it/s]\u001b[A\n",
      " 41%|████▏     | 33/80 [00:00<00:00, 327.62it/s]\u001b[A\n",
      "100%|██████████| 80/80 [00:00<00:00, 320.45it/s]\u001b[A\n",
      " 84%|████████▍ | 53/63 [00:47<00:08,  1.20it/s]"
     ]
    },
    {
     "name": "stdout",
     "output_type": "stream",
     "text": [
      "/home/jiang/projects/SubtleGAN/data/brats2021/test/BraTS2021_01419\n"
     ]
    },
    {
     "name": "stderr",
     "output_type": "stream",
     "text": [
      "\n",
      "  0%|          | 0/80 [00:00<?, ?it/s]\u001b[A\n",
      " 41%|████▏     | 33/80 [00:00<00:00, 328.62it/s]\u001b[A\n",
      "100%|██████████| 80/80 [00:00<00:00, 291.46it/s]\u001b[A\n",
      " 86%|████████▌ | 54/63 [00:48<00:07,  1.27it/s]"
     ]
    },
    {
     "name": "stdout",
     "output_type": "stream",
     "text": [
      "/home/jiang/projects/SubtleGAN/data/brats2021/test/BraTS2021_00322\n"
     ]
    },
    {
     "name": "stderr",
     "output_type": "stream",
     "text": [
      "\n",
      "  0%|          | 0/80 [00:00<?, ?it/s]\u001b[A\n",
      " 35%|███▌      | 28/80 [00:00<00:00, 279.80it/s]\u001b[A\n",
      "100%|██████████| 80/80 [00:00<00:00, 232.09it/s]\u001b[A\n",
      " 87%|████████▋ | 55/63 [00:49<00:06,  1.27it/s]"
     ]
    },
    {
     "name": "stdout",
     "output_type": "stream",
     "text": [
      "/home/jiang/projects/SubtleGAN/data/brats2021/test/BraTS2021_00613\n"
     ]
    },
    {
     "name": "stderr",
     "output_type": "stream",
     "text": [
      "\n",
      "  0%|          | 0/80 [00:00<?, ?it/s]\u001b[A\n",
      " 28%|██▊       | 22/80 [00:00<00:00, 218.86it/s]\u001b[A\n",
      " 55%|█████▌    | 44/80 [00:00<00:00, 196.38it/s]\u001b[A\n",
      "100%|██████████| 80/80 [00:00<00:00, 221.04it/s]\u001b[A\n",
      " 89%|████████▉ | 56/63 [00:49<00:05,  1.31it/s]"
     ]
    },
    {
     "name": "stdout",
     "output_type": "stream",
     "text": [
      "/home/jiang/projects/SubtleGAN/data/brats2021/test/BraTS2021_01078\n"
     ]
    },
    {
     "name": "stderr",
     "output_type": "stream",
     "text": [
      "\n",
      "  0%|          | 0/80 [00:00<?, ?it/s]\u001b[A\n",
      " 34%|███▍      | 27/80 [00:00<00:00, 267.46it/s]\u001b[A\n",
      " 68%|██████▊   | 54/80 [00:00<00:00, 259.84it/s]\u001b[A\n",
      "100%|██████████| 80/80 [00:00<00:00, 255.54it/s]\u001b[A\n",
      " 90%|█████████ | 57/63 [00:50<00:04,  1.33it/s]"
     ]
    },
    {
     "name": "stdout",
     "output_type": "stream",
     "text": [
      "/home/jiang/projects/SubtleGAN/data/brats2021/test/BraTS2021_01243\n"
     ]
    },
    {
     "name": "stderr",
     "output_type": "stream",
     "text": [
      "\n",
      "  0%|          | 0/80 [00:00<?, ?it/s]\u001b[A\n",
      " 34%|███▍      | 27/80 [00:00<00:00, 265.93it/s]\u001b[A\n",
      " 68%|██████▊   | 54/80 [00:00<00:00, 255.50it/s]\u001b[A\n",
      "100%|██████████| 80/80 [00:00<00:00, 254.79it/s]\u001b[A\n",
      " 92%|█████████▏| 58/63 [00:51<00:03,  1.34it/s]"
     ]
    },
    {
     "name": "stdout",
     "output_type": "stream",
     "text": [
      "/home/jiang/projects/SubtleGAN/data/brats2021/test/BraTS2021_01558\n"
     ]
    },
    {
     "name": "stderr",
     "output_type": "stream",
     "text": [
      "\n",
      "  0%|          | 0/80 [00:00<?, ?it/s]\u001b[A\n",
      " 40%|████      | 32/80 [00:00<00:00, 318.69it/s]\u001b[A\n",
      "100%|██████████| 80/80 [00:00<00:00, 310.24it/s]\u001b[A\n",
      " 94%|█████████▎| 59/63 [00:52<00:03,  1.21it/s]"
     ]
    },
    {
     "name": "stdout",
     "output_type": "stream",
     "text": [
      "/home/jiang/projects/SubtleGAN/data/brats2021/test/BraTS2021_01409\n"
     ]
    },
    {
     "name": "stderr",
     "output_type": "stream",
     "text": [
      "\n",
      "  0%|          | 0/80 [00:00<?, ?it/s]\u001b[A\n",
      " 32%|███▎      | 26/80 [00:00<00:00, 256.77it/s]\u001b[A\n",
      " 65%|██████▌   | 52/80 [00:00<00:00, 250.18it/s]\u001b[A\n",
      "100%|██████████| 80/80 [00:00<00:00, 255.72it/s]\u001b[A\n",
      " 95%|█████████▌| 60/63 [00:52<00:02,  1.25it/s]"
     ]
    },
    {
     "name": "stdout",
     "output_type": "stream",
     "text": [
      "/home/jiang/projects/SubtleGAN/data/brats2021/test/BraTS2021_00781\n"
     ]
    },
    {
     "name": "stderr",
     "output_type": "stream",
     "text": [
      "\n",
      "  0%|          | 0/80 [00:00<?, ?it/s]\u001b[A\n",
      " 41%|████▏     | 33/80 [00:00<00:00, 326.20it/s]\u001b[A\n",
      "100%|██████████| 80/80 [00:00<00:00, 316.60it/s]\u001b[A\n",
      " 97%|█████████▋| 61/63 [00:53<00:01,  1.15it/s]"
     ]
    },
    {
     "name": "stdout",
     "output_type": "stream",
     "text": [
      "/home/jiang/projects/SubtleGAN/data/brats2021/test/BraTS2021_01054\n"
     ]
    },
    {
     "name": "stderr",
     "output_type": "stream",
     "text": [
      "\n",
      "  0%|          | 0/80 [00:00<?, ?it/s]\u001b[A\n",
      " 34%|███▍      | 27/80 [00:00<00:00, 261.41it/s]\u001b[A\n",
      " 68%|██████▊   | 54/80 [00:00<00:00, 257.91it/s]\u001b[A\n",
      "100%|██████████| 80/80 [00:00<00:00, 253.94it/s]\u001b[A\n",
      " 98%|█████████▊| 62/63 [00:54<00:00,  1.20it/s]"
     ]
    },
    {
     "name": "stdout",
     "output_type": "stream",
     "text": [
      "/home/jiang/projects/SubtleGAN/data/brats2021/test/BraTS2021_00286\n"
     ]
    },
    {
     "name": "stderr",
     "output_type": "stream",
     "text": [
      "\n",
      "  0%|          | 0/80 [00:00<?, ?it/s]\u001b[A\n",
      " 34%|███▍      | 27/80 [00:00<00:00, 260.46it/s]\u001b[A\n",
      " 68%|██████▊   | 54/80 [00:00<00:00, 252.84it/s]\u001b[A\n",
      "100%|██████████| 80/80 [00:00<00:00, 246.76it/s]\u001b[A\n",
      "100%|██████████| 63/63 [00:55<00:00,  1.14it/s]\n",
      "  0%|          | 0/63 [00:00<?, ?it/s]"
     ]
    },
    {
     "name": "stdout",
     "output_type": "stream",
     "text": [
      "/home/jiang/projects/SubtleGAN/data/brats2021/val/BraTS2021_00339\n"
     ]
    },
    {
     "name": "stderr",
     "output_type": "stream",
     "text": [
      "\n",
      "  0%|          | 0/80 [00:00<?, ?it/s]\u001b[A\n",
      " 16%|█▋        | 13/80 [00:00<00:00, 125.14it/s]\u001b[A\n",
      " 34%|███▍      | 27/80 [00:00<00:00, 132.90it/s]\u001b[A\n",
      " 64%|██████▍   | 51/80 [00:00<00:00, 180.30it/s]\u001b[A\n",
      "100%|██████████| 80/80 [00:00<00:00, 187.24it/s]\u001b[A\n",
      "  2%|▏         | 1/63 [00:00<00:58,  1.06it/s]"
     ]
    },
    {
     "name": "stdout",
     "output_type": "stream",
     "text": [
      "/home/jiang/projects/SubtleGAN/data/brats2021/val/BraTS2021_01357\n"
     ]
    },
    {
     "name": "stderr",
     "output_type": "stream",
     "text": [
      "\n",
      "  0%|          | 0/80 [00:00<?, ?it/s]\u001b[A\n",
      " 32%|███▎      | 26/80 [00:00<00:00, 250.34it/s]\u001b[A\n",
      " 65%|██████▌   | 52/80 [00:00<00:00, 237.67it/s]\u001b[A\n",
      "100%|██████████| 80/80 [00:00<00:00, 238.10it/s]\u001b[A\n",
      "  3%|▎         | 2/63 [00:01<00:51,  1.20it/s]"
     ]
    },
    {
     "name": "stdout",
     "output_type": "stream",
     "text": [
      "/home/jiang/projects/SubtleGAN/data/brats2021/val/BraTS2021_01568\n"
     ]
    },
    {
     "name": "stderr",
     "output_type": "stream",
     "text": [
      "\n",
      "  0%|          | 0/80 [00:00<?, ?it/s]\u001b[A\n",
      " 41%|████▏     | 33/80 [00:00<00:00, 321.82it/s]\u001b[A\n",
      "100%|██████████| 80/80 [00:00<00:00, 309.85it/s]\u001b[A\n",
      "  5%|▍         | 3/63 [00:02<00:55,  1.08it/s]"
     ]
    },
    {
     "name": "stdout",
     "output_type": "stream",
     "text": [
      "/home/jiang/projects/SubtleGAN/data/brats2021/val/BraTS2021_00212\n"
     ]
    },
    {
     "name": "stderr",
     "output_type": "stream",
     "text": [
      "\n",
      "  0%|          | 0/80 [00:00<?, ?it/s]\u001b[A\n",
      " 29%|██▉       | 23/80 [00:00<00:00, 226.09it/s]\u001b[A\n",
      " 57%|█████▊    | 46/80 [00:00<00:00, 218.46it/s]\u001b[A\n",
      "100%|██████████| 80/80 [00:00<00:00, 217.80it/s]\u001b[A\n",
      "  6%|▋         | 4/63 [00:03<00:51,  1.14it/s]"
     ]
    },
    {
     "name": "stdout",
     "output_type": "stream",
     "text": [
      "/home/jiang/projects/SubtleGAN/data/brats2021/val/BraTS2021_00837\n"
     ]
    },
    {
     "name": "stderr",
     "output_type": "stream",
     "text": [
      "\n",
      "  0%|          | 0/80 [00:00<?, ?it/s]\u001b[A\n",
      " 29%|██▉       | 23/80 [00:00<00:00, 223.62it/s]\u001b[A\n",
      " 57%|█████▊    | 46/80 [00:00<00:00, 217.08it/s]\u001b[A\n",
      "100%|██████████| 80/80 [00:00<00:00, 225.04it/s]\u001b[A\n",
      "  8%|▊         | 5/63 [00:04<00:49,  1.18it/s]"
     ]
    },
    {
     "name": "stdout",
     "output_type": "stream",
     "text": [
      "/home/jiang/projects/SubtleGAN/data/brats2021/val/BraTS2021_01483\n"
     ]
    },
    {
     "name": "stderr",
     "output_type": "stream",
     "text": [
      "\n",
      "  0%|          | 0/80 [00:00<?, ?it/s]\u001b[A\n",
      " 30%|███       | 24/80 [00:00<00:00, 235.98it/s]\u001b[A\n",
      " 60%|██████    | 48/80 [00:00<00:00, 229.80it/s]\u001b[A\n",
      "100%|██████████| 80/80 [00:00<00:00, 229.28it/s]\u001b[A\n",
      " 10%|▉         | 6/63 [00:05<00:46,  1.22it/s]"
     ]
    },
    {
     "name": "stdout",
     "output_type": "stream",
     "text": [
      "/home/jiang/projects/SubtleGAN/data/brats2021/val/BraTS2021_00498\n"
     ]
    },
    {
     "name": "stderr",
     "output_type": "stream",
     "text": [
      "\n",
      "  0%|          | 0/80 [00:00<?, ?it/s]\u001b[A\n",
      " 31%|███▏      | 25/80 [00:00<00:00, 246.81it/s]\u001b[A\n",
      " 62%|██████▎   | 50/80 [00:00<00:00, 234.65it/s]\u001b[A\n",
      "100%|██████████| 80/80 [00:00<00:00, 229.04it/s]\u001b[A\n",
      " 11%|█         | 7/63 [00:05<00:43,  1.27it/s]"
     ]
    },
    {
     "name": "stdout",
     "output_type": "stream",
     "text": [
      "/home/jiang/projects/SubtleGAN/data/brats2021/val/BraTS2021_00667\n"
     ]
    },
    {
     "name": "stderr",
     "output_type": "stream",
     "text": [
      "\n",
      "  0%|          | 0/80 [00:00<?, ?it/s]\u001b[A\n",
      " 28%|██▊       | 22/80 [00:00<00:00, 213.43it/s]\u001b[A\n",
      " 55%|█████▌    | 44/80 [00:00<00:00, 207.10it/s]\u001b[A\n",
      "100%|██████████| 80/80 [00:00<00:00, 175.16it/s]\u001b[A\n",
      " 13%|█▎        | 8/63 [00:06<00:43,  1.26it/s]"
     ]
    },
    {
     "name": "stdout",
     "output_type": "stream",
     "text": [
      "/home/jiang/projects/SubtleGAN/data/brats2021/val/BraTS2021_00002\n"
     ]
    },
    {
     "name": "stderr",
     "output_type": "stream",
     "text": [
      "\n",
      "  0%|          | 0/80 [00:00<?, ?it/s]\u001b[A\n",
      " 29%|██▉       | 23/80 [00:00<00:00, 221.17it/s]\u001b[A\n",
      " 57%|█████▊    | 46/80 [00:00<00:00, 222.23it/s]\u001b[A\n",
      "100%|██████████| 80/80 [00:00<00:00, 215.27it/s]\u001b[A\n",
      " 14%|█▍        | 9/63 [00:07<00:41,  1.30it/s]"
     ]
    },
    {
     "name": "stdout",
     "output_type": "stream",
     "text": [
      "/home/jiang/projects/SubtleGAN/data/brats2021/val/BraTS2021_00056\n"
     ]
    },
    {
     "name": "stderr",
     "output_type": "stream",
     "text": [
      "\n",
      "  0%|          | 0/80 [00:00<?, ?it/s]\u001b[A\n",
      " 15%|█▌        | 12/80 [00:00<00:00, 113.45it/s]\u001b[A\n",
      " 35%|███▌      | 28/80 [00:00<00:00, 137.77it/s]\u001b[A\n",
      " 57%|█████▊    | 46/80 [00:00<00:00, 154.85it/s]\u001b[A\n",
      "100%|██████████| 80/80 [00:00<00:00, 158.66it/s]\u001b[A\n",
      " 16%|█▌        | 10/63 [00:08<00:42,  1.25it/s]"
     ]
    },
    {
     "name": "stdout",
     "output_type": "stream",
     "text": [
      "/home/jiang/projects/SubtleGAN/data/brats2021/val/BraTS2021_00045\n"
     ]
    },
    {
     "name": "stderr",
     "output_type": "stream",
     "text": [
      "\n",
      "  0%|          | 0/80 [00:00<?, ?it/s]\u001b[A\n",
      " 28%|██▊       | 22/80 [00:00<00:00, 216.51it/s]\u001b[A\n",
      " 55%|█████▌    | 44/80 [00:00<00:00, 192.34it/s]\u001b[A\n",
      "100%|██████████| 80/80 [00:00<00:00, 187.86it/s]\u001b[A\n",
      " 17%|█▋        | 11/63 [00:09<00:41,  1.24it/s]"
     ]
    },
    {
     "name": "stdout",
     "output_type": "stream",
     "text": [
      "/home/jiang/projects/SubtleGAN/data/brats2021/val/BraTS2021_01542\n"
     ]
    },
    {
     "name": "stderr",
     "output_type": "stream",
     "text": [
      "\n",
      "  0%|          | 0/80 [00:00<?, ?it/s]\u001b[A\n",
      " 24%|██▍       | 19/80 [00:00<00:00, 188.61it/s]\u001b[A\n",
      " 62%|██████▎   | 50/80 [00:00<00:00, 256.58it/s]\u001b[A\n",
      "100%|██████████| 80/80 [00:00<00:00, 241.84it/s]\u001b[A\n",
      " 19%|█▉        | 12/63 [00:10<00:48,  1.06it/s]"
     ]
    },
    {
     "name": "stdout",
     "output_type": "stream",
     "text": [
      "/home/jiang/projects/SubtleGAN/data/brats2021/val/BraTS2021_01645\n"
     ]
    },
    {
     "name": "stderr",
     "output_type": "stream",
     "text": [
      "\n",
      "  0%|          | 0/80 [00:00<?, ?it/s]\u001b[A\n",
      " 40%|████      | 32/80 [00:00<00:00, 311.87it/s]\u001b[A\n",
      "100%|██████████| 80/80 [00:00<00:00, 256.18it/s]\u001b[A\n",
      " 21%|██        | 13/63 [00:11<00:51,  1.03s/it]"
     ]
    },
    {
     "name": "stdout",
     "output_type": "stream",
     "text": [
      "/home/jiang/projects/SubtleGAN/data/brats2021/val/BraTS2021_00204\n"
     ]
    },
    {
     "name": "stderr",
     "output_type": "stream",
     "text": [
      "\n",
      "  0%|          | 0/80 [00:00<?, ?it/s]\u001b[A\n",
      " 25%|██▌       | 20/80 [00:00<00:00, 191.16it/s]\u001b[A\n",
      " 50%|█████     | 40/80 [00:00<00:00, 185.47it/s]\u001b[A\n",
      " 74%|███████▍  | 59/80 [00:00<00:00, 182.68it/s]\u001b[A\n",
      "100%|██████████| 80/80 [00:00<00:00, 181.24it/s]\u001b[A\n",
      " 22%|██▏       | 14/63 [00:12<00:48,  1.02it/s]"
     ]
    },
    {
     "name": "stdout",
     "output_type": "stream",
     "text": [
      "/home/jiang/projects/SubtleGAN/data/brats2021/val/BraTS2021_01330\n"
     ]
    },
    {
     "name": "stderr",
     "output_type": "stream",
     "text": [
      "\n",
      "  0%|          | 0/80 [00:00<?, ?it/s]\u001b[A\n",
      " 26%|██▋       | 21/80 [00:00<00:00, 200.58it/s]\u001b[A\n",
      " 52%|█████▎    | 42/80 [00:00<00:00, 186.67it/s]\u001b[A\n",
      " 76%|███████▋  | 61/80 [00:00<00:00, 184.28it/s]\u001b[A\n",
      "100%|██████████| 80/80 [00:00<00:00, 183.98it/s]\u001b[A\n",
      " 24%|██▍       | 15/63 [00:13<00:45,  1.05it/s]"
     ]
    },
    {
     "name": "stdout",
     "output_type": "stream",
     "text": [
      "/home/jiang/projects/SubtleGAN/data/brats2021/val/BraTS2021_00211\n"
     ]
    },
    {
     "name": "stderr",
     "output_type": "stream",
     "text": [
      "\n",
      "  0%|          | 0/80 [00:00<?, ?it/s]\u001b[A\n",
      " 25%|██▌       | 20/80 [00:00<00:00, 196.02it/s]\u001b[A\n",
      " 50%|█████     | 40/80 [00:00<00:00, 187.03it/s]\u001b[A\n",
      " 74%|███████▍  | 59/80 [00:00<00:00, 179.86it/s]\u001b[A\n",
      "100%|██████████| 80/80 [00:00<00:00, 177.95it/s]\u001b[A\n",
      " 25%|██▌       | 16/63 [00:14<00:44,  1.07it/s]"
     ]
    },
    {
     "name": "stdout",
     "output_type": "stream",
     "text": [
      "/home/jiang/projects/SubtleGAN/data/brats2021/val/BraTS2021_00658\n"
     ]
    },
    {
     "name": "stderr",
     "output_type": "stream",
     "text": [
      "\n",
      "  0%|          | 0/80 [00:00<?, ?it/s]\u001b[A\n",
      " 24%|██▍       | 19/80 [00:00<00:00, 180.77it/s]\u001b[A\n",
      " 48%|████▊     | 38/80 [00:00<00:00, 175.21it/s]\u001b[A\n",
      " 70%|███████   | 56/80 [00:00<00:00, 173.38it/s]\u001b[A\n",
      "100%|██████████| 80/80 [00:00<00:00, 172.88it/s]\u001b[A\n",
      " 27%|██▋       | 17/63 [00:15<00:41,  1.10it/s]"
     ]
    },
    {
     "name": "stdout",
     "output_type": "stream",
     "text": [
      "/home/jiang/projects/SubtleGAN/data/brats2021/val/BraTS2021_00646\n"
     ]
    },
    {
     "name": "stderr",
     "output_type": "stream",
     "text": [
      "\n",
      "  0%|          | 0/80 [00:00<?, ?it/s]\u001b[A\n",
      " 22%|██▎       | 18/80 [00:00<00:00, 176.61it/s]\u001b[A\n",
      " 49%|████▉     | 39/80 [00:00<00:00, 192.35it/s]\u001b[A\n",
      " 74%|███████▍  | 59/80 [00:00<00:00, 182.94it/s]\u001b[A\n",
      "100%|██████████| 80/80 [00:00<00:00, 182.17it/s]\u001b[A\n",
      " 29%|██▊       | 18/63 [00:15<00:39,  1.13it/s]"
     ]
    },
    {
     "name": "stdout",
     "output_type": "stream",
     "text": [
      "/home/jiang/projects/SubtleGAN/data/brats2021/val/BraTS2021_01664\n"
     ]
    },
    {
     "name": "stderr",
     "output_type": "stream",
     "text": [
      "\n",
      "  0%|          | 0/80 [00:00<?, ?it/s]\u001b[A\n",
      " 25%|██▌       | 20/80 [00:00<00:00, 189.88it/s]\u001b[A\n",
      " 49%|████▉     | 39/80 [00:00<00:00, 184.19it/s]\u001b[A\n",
      " 72%|███████▎  | 58/80 [00:00<00:00, 180.49it/s]\u001b[A\n",
      "100%|██████████| 80/80 [00:00<00:00, 179.51it/s]\u001b[A\n",
      " 30%|███       | 19/63 [00:16<00:38,  1.13it/s]"
     ]
    },
    {
     "name": "stdout",
     "output_type": "stream",
     "text": [
      "/home/jiang/projects/SubtleGAN/data/brats2021/val/BraTS2021_00768\n"
     ]
    },
    {
     "name": "stderr",
     "output_type": "stream",
     "text": [
      "\n",
      "  0%|          | 0/80 [00:00<?, ?it/s]\u001b[A\n",
      " 24%|██▍       | 19/80 [00:00<00:00, 186.13it/s]\u001b[A\n",
      " 48%|████▊     | 38/80 [00:00<00:00, 175.60it/s]\u001b[A\n",
      " 70%|███████   | 56/80 [00:00<00:00, 173.39it/s]\u001b[A\n",
      "100%|██████████| 80/80 [00:00<00:00, 173.55it/s]\u001b[A\n",
      " 32%|███▏      | 20/63 [00:17<00:37,  1.15it/s]"
     ]
    },
    {
     "name": "stdout",
     "output_type": "stream",
     "text": [
      "/home/jiang/projects/SubtleGAN/data/brats2021/val/BraTS2021_01389\n"
     ]
    },
    {
     "name": "stderr",
     "output_type": "stream",
     "text": [
      "\n",
      "  0%|          | 0/80 [00:00<?, ?it/s]\u001b[A\n",
      " 25%|██▌       | 20/80 [00:00<00:00, 191.38it/s]\u001b[A\n",
      " 50%|█████     | 40/80 [00:00<00:00, 182.67it/s]\u001b[A\n",
      "100%|██████████| 80/80 [00:00<00:00, 188.48it/s]\u001b[A\n",
      " 33%|███▎      | 21/63 [00:18<00:36,  1.14it/s]"
     ]
    },
    {
     "name": "stdout",
     "output_type": "stream",
     "text": [
      "/home/jiang/projects/SubtleGAN/data/brats2021/val/BraTS2021_01491\n"
     ]
    },
    {
     "name": "stderr",
     "output_type": "stream",
     "text": [
      "\n",
      "  0%|          | 0/80 [00:00<?, ?it/s]\u001b[A\n",
      " 25%|██▌       | 20/80 [00:00<00:00, 197.84it/s]\u001b[A\n",
      " 50%|█████     | 40/80 [00:00<00:00, 190.36it/s]\u001b[A\n",
      " 75%|███████▌  | 60/80 [00:00<00:00, 188.18it/s]\u001b[A\n",
      "100%|██████████| 80/80 [00:00<00:00, 187.11it/s]\u001b[A\n",
      " 35%|███▍      | 22/63 [00:19<00:35,  1.15it/s]"
     ]
    },
    {
     "name": "stdout",
     "output_type": "stream",
     "text": [
      "/home/jiang/projects/SubtleGAN/data/brats2021/val/BraTS2021_01114\n"
     ]
    },
    {
     "name": "stderr",
     "output_type": "stream",
     "text": [
      "\n",
      "  0%|          | 0/80 [00:00<?, ?it/s]\u001b[A\n",
      " 28%|██▊       | 22/80 [00:00<00:00, 216.92it/s]\u001b[A\n",
      " 55%|█████▌    | 44/80 [00:00<00:00, 191.64it/s]\u001b[A\n",
      "100%|██████████| 80/80 [00:00<00:00, 186.50it/s]\u001b[A\n",
      " 37%|███▋      | 23/63 [00:20<00:34,  1.15it/s]"
     ]
    },
    {
     "name": "stdout",
     "output_type": "stream",
     "text": [
      "/home/jiang/projects/SubtleGAN/data/brats2021/val/BraTS2021_00259\n"
     ]
    },
    {
     "name": "stderr",
     "output_type": "stream",
     "text": [
      "\n",
      "  0%|          | 0/80 [00:00<?, ?it/s]\u001b[A\n",
      " 24%|██▍       | 19/80 [00:00<00:00, 189.77it/s]\u001b[A\n",
      " 48%|████▊     | 38/80 [00:00<00:00, 182.55it/s]\u001b[A\n",
      " 71%|███████▏  | 57/80 [00:00<00:00, 179.23it/s]\u001b[A\n",
      "100%|██████████| 80/80 [00:00<00:00, 184.61it/s]\u001b[A\n",
      " 38%|███▊      | 24/63 [00:21<00:34,  1.14it/s]"
     ]
    },
    {
     "name": "stdout",
     "output_type": "stream",
     "text": [
      "/home/jiang/projects/SubtleGAN/data/brats2021/val/BraTS2021_00539\n"
     ]
    },
    {
     "name": "stderr",
     "output_type": "stream",
     "text": [
      "\n",
      "  0%|          | 0/80 [00:00<?, ?it/s]\u001b[A\n",
      " 25%|██▌       | 20/80 [00:00<00:00, 194.99it/s]\u001b[A\n",
      " 50%|█████     | 40/80 [00:00<00:00, 184.30it/s]\u001b[A\n",
      " 74%|███████▍  | 59/80 [00:00<00:00, 183.70it/s]\u001b[A\n",
      "100%|██████████| 80/80 [00:00<00:00, 183.43it/s]\u001b[A\n",
      " 40%|███▉      | 25/63 [00:21<00:32,  1.18it/s]"
     ]
    },
    {
     "name": "stdout",
     "output_type": "stream",
     "text": [
      "/home/jiang/projects/SubtleGAN/data/brats2021/val/BraTS2021_01241\n"
     ]
    },
    {
     "name": "stderr",
     "output_type": "stream",
     "text": [
      "\n",
      "  0%|          | 0/80 [00:00<?, ?it/s]\u001b[A\n",
      " 24%|██▍       | 19/80 [00:00<00:00, 183.52it/s]\u001b[A\n",
      " 48%|████▊     | 38/80 [00:00<00:00, 176.34it/s]\u001b[A\n",
      " 74%|███████▍  | 59/80 [00:00<00:00, 189.62it/s]\u001b[A\n",
      "100%|██████████| 80/80 [00:00<00:00, 183.69it/s]\u001b[A\n",
      " 41%|████▏     | 26/63 [00:22<00:31,  1.17it/s]"
     ]
    },
    {
     "name": "stdout",
     "output_type": "stream",
     "text": [
      "/home/jiang/projects/SubtleGAN/data/brats2021/val/BraTS2021_01540\n"
     ]
    },
    {
     "name": "stderr",
     "output_type": "stream",
     "text": [
      "\n",
      "  0%|          | 0/80 [00:00<?, ?it/s]\u001b[A\n",
      " 42%|████▎     | 34/80 [00:00<00:00, 332.46it/s]\u001b[A\n",
      "100%|██████████| 80/80 [00:00<00:00, 286.23it/s]\u001b[A\n",
      " 43%|████▎     | 27/63 [00:23<00:33,  1.06it/s]"
     ]
    },
    {
     "name": "stdout",
     "output_type": "stream",
     "text": [
      "/home/jiang/projects/SubtleGAN/data/brats2021/val/BraTS2021_01604\n"
     ]
    },
    {
     "name": "stderr",
     "output_type": "stream",
     "text": [
      "\n",
      "  0%|          | 0/80 [00:00<?, ?it/s]\u001b[A\n",
      " 42%|████▎     | 34/80 [00:00<00:00, 331.41it/s]\u001b[A\n",
      "100%|██████████| 80/80 [00:00<00:00, 298.50it/s]\u001b[A\n",
      " 44%|████▍     | 28/63 [00:25<00:35,  1.00s/it]"
     ]
    },
    {
     "name": "stdout",
     "output_type": "stream",
     "text": [
      "/home/jiang/projects/SubtleGAN/data/brats2021/val/BraTS2021_00737\n"
     ]
    },
    {
     "name": "stderr",
     "output_type": "stream",
     "text": [
      "\n",
      "  0%|          | 0/80 [00:00<?, ?it/s]\u001b[A\n",
      " 25%|██▌       | 20/80 [00:00<00:00, 199.87it/s]\u001b[A\n",
      " 50%|█████     | 40/80 [00:00<00:00, 187.38it/s]\u001b[A\n",
      " 74%|███████▍  | 59/80 [00:00<00:00, 185.64it/s]\u001b[A\n",
      "100%|██████████| 80/80 [00:00<00:00, 186.06it/s]\u001b[A\n",
      " 46%|████▌     | 29/63 [00:25<00:31,  1.07it/s]"
     ]
    },
    {
     "name": "stdout",
     "output_type": "stream",
     "text": [
      "/home/jiang/projects/SubtleGAN/data/brats2021/val/BraTS2021_00551\n"
     ]
    },
    {
     "name": "stderr",
     "output_type": "stream",
     "text": [
      "\n",
      "  0%|          | 0/80 [00:00<?, ?it/s]\u001b[A\n",
      " 25%|██▌       | 20/80 [00:00<00:00, 198.50it/s]\u001b[A\n",
      " 50%|█████     | 40/80 [00:00<00:00, 190.22it/s]\u001b[A\n",
      " 75%|███████▌  | 60/80 [00:00<00:00, 186.81it/s]\u001b[A\n",
      "100%|██████████| 80/80 [00:00<00:00, 184.36it/s]\u001b[A\n",
      " 48%|████▊     | 30/63 [00:26<00:29,  1.12it/s]"
     ]
    },
    {
     "name": "stdout",
     "output_type": "stream",
     "text": [
      "/home/jiang/projects/SubtleGAN/data/brats2021/val/BraTS2021_01512\n"
     ]
    },
    {
     "name": "stderr",
     "output_type": "stream",
     "text": [
      "\n",
      "  0%|          | 0/80 [00:00<?, ?it/s]\u001b[A\n",
      " 24%|██▍       | 19/80 [00:00<00:00, 187.47it/s]\u001b[A\n",
      " 48%|████▊     | 38/80 [00:00<00:00, 181.42it/s]\u001b[A\n",
      " 71%|███████▏  | 57/80 [00:00<00:00, 179.70it/s]\u001b[A\n",
      "100%|██████████| 80/80 [00:00<00:00, 180.22it/s]\u001b[A\n",
      " 49%|████▉     | 31/63 [00:27<00:28,  1.13it/s]"
     ]
    },
    {
     "name": "stdout",
     "output_type": "stream",
     "text": [
      "/home/jiang/projects/SubtleGAN/data/brats2021/val/BraTS2021_01586\n"
     ]
    },
    {
     "name": "stderr",
     "output_type": "stream",
     "text": [
      "\n",
      "  0%|          | 0/80 [00:00<?, ?it/s]\u001b[A\n",
      " 40%|████      | 32/80 [00:00<00:00, 312.37it/s]\u001b[A\n",
      "100%|██████████| 80/80 [00:00<00:00, 290.03it/s]\u001b[A\n",
      " 51%|█████     | 32/63 [00:28<00:30,  1.03it/s]"
     ]
    },
    {
     "name": "stdout",
     "output_type": "stream",
     "text": [
      "/home/jiang/projects/SubtleGAN/data/brats2021/val/BraTS2021_01004\n"
     ]
    },
    {
     "name": "stderr",
     "output_type": "stream",
     "text": [
      "\n",
      "  0%|          | 0/80 [00:00<?, ?it/s]\u001b[A\n",
      " 25%|██▌       | 20/80 [00:00<00:00, 190.80it/s]\u001b[A\n",
      " 50%|█████     | 40/80 [00:00<00:00, 183.38it/s]\u001b[A\n",
      " 74%|███████▍  | 59/80 [00:00<00:00, 177.87it/s]\u001b[A\n",
      "100%|██████████| 80/80 [00:00<00:00, 184.31it/s]\u001b[A\n",
      " 52%|█████▏    | 33/63 [00:29<00:28,  1.06it/s]"
     ]
    },
    {
     "name": "stdout",
     "output_type": "stream",
     "text": [
      "/home/jiang/projects/SubtleGAN/data/brats2021/val/BraTS2021_00246\n"
     ]
    },
    {
     "name": "stderr",
     "output_type": "stream",
     "text": [
      "\n",
      "  0%|          | 0/80 [00:00<?, ?it/s]\u001b[A\n",
      " 25%|██▌       | 20/80 [00:00<00:00, 192.30it/s]\u001b[A\n",
      " 50%|█████     | 40/80 [00:00<00:00, 181.01it/s]\u001b[A\n",
      " 74%|███████▍  | 59/80 [00:00<00:00, 177.71it/s]\u001b[A\n",
      "100%|██████████| 80/80 [00:00<00:00, 176.50it/s]\u001b[A\n",
      " 54%|█████▍    | 34/63 [00:30<00:26,  1.08it/s]"
     ]
    },
    {
     "name": "stdout",
     "output_type": "stream",
     "text": [
      "/home/jiang/projects/SubtleGAN/data/brats2021/val/BraTS2021_01062\n"
     ]
    },
    {
     "name": "stderr",
     "output_type": "stream",
     "text": [
      "\n",
      "  0%|          | 0/80 [00:00<?, ?it/s]\u001b[A\n",
      " 26%|██▋       | 21/80 [00:00<00:00, 206.62it/s]\u001b[A\n",
      " 52%|█████▎    | 42/80 [00:00<00:00, 177.27it/s]\u001b[A\n",
      " 75%|███████▌  | 60/80 [00:00<00:00, 177.14it/s]\u001b[A\n",
      "100%|██████████| 80/80 [00:00<00:00, 178.46it/s]\u001b[A\n",
      " 56%|█████▌    | 35/63 [00:31<00:26,  1.07it/s]"
     ]
    },
    {
     "name": "stdout",
     "output_type": "stream",
     "text": [
      "/home/jiang/projects/SubtleGAN/data/brats2021/val/BraTS2021_00481\n"
     ]
    },
    {
     "name": "stderr",
     "output_type": "stream",
     "text": [
      "\n",
      "  0%|          | 0/80 [00:00<?, ?it/s]\u001b[A\n",
      " 25%|██▌       | 20/80 [00:00<00:00, 195.98it/s]\u001b[A\n",
      " 50%|█████     | 40/80 [00:00<00:00, 187.00it/s]\u001b[A\n",
      " 74%|███████▍  | 59/80 [00:00<00:00, 184.03it/s]\u001b[A\n",
      "100%|██████████| 80/80 [00:00<00:00, 183.26it/s]\u001b[A\n",
      " 57%|█████▋    | 36/63 [00:32<00:24,  1.12it/s]"
     ]
    },
    {
     "name": "stdout",
     "output_type": "stream",
     "text": [
      "/home/jiang/projects/SubtleGAN/data/brats2021/val/BraTS2021_00123\n"
     ]
    },
    {
     "name": "stderr",
     "output_type": "stream",
     "text": [
      "\n",
      "  0%|          | 0/80 [00:00<?, ?it/s]\u001b[A\n",
      " 26%|██▋       | 21/80 [00:00<00:00, 200.89it/s]\u001b[A\n",
      " 52%|█████▎    | 42/80 [00:00<00:00, 188.49it/s]\u001b[A\n",
      " 76%|███████▋  | 61/80 [00:00<00:00, 185.03it/s]\u001b[A\n",
      "100%|██████████| 80/80 [00:00<00:00, 184.78it/s]\u001b[A\n",
      " 59%|█████▊    | 37/63 [00:33<00:22,  1.13it/s]"
     ]
    },
    {
     "name": "stdout",
     "output_type": "stream",
     "text": [
      "/home/jiang/projects/SubtleGAN/data/brats2021/val/BraTS2021_00604\n"
     ]
    },
    {
     "name": "stderr",
     "output_type": "stream",
     "text": [
      "\n",
      "  0%|          | 0/80 [00:00<?, ?it/s]\u001b[A\n",
      " 25%|██▌       | 20/80 [00:00<00:00, 194.23it/s]\u001b[A\n",
      " 50%|█████     | 40/80 [00:00<00:00, 185.42it/s]\u001b[A\n",
      " 74%|███████▍  | 59/80 [00:00<00:00, 180.34it/s]\u001b[A\n",
      "100%|██████████| 80/80 [00:00<00:00, 184.94it/s]\u001b[A\n",
      " 60%|██████    | 38/63 [00:33<00:21,  1.16it/s]"
     ]
    },
    {
     "name": "stdout",
     "output_type": "stream",
     "text": [
      "/home/jiang/projects/SubtleGAN/data/brats2021/val/BraTS2021_01152\n"
     ]
    },
    {
     "name": "stderr",
     "output_type": "stream",
     "text": [
      "\n",
      "  0%|          | 0/80 [00:00<?, ?it/s]\u001b[A\n",
      " 25%|██▌       | 20/80 [00:00<00:00, 194.40it/s]\u001b[A\n",
      " 50%|█████     | 40/80 [00:00<00:00, 186.24it/s]\u001b[A\n",
      " 74%|███████▍  | 59/80 [00:00<00:00, 183.94it/s]\u001b[A\n",
      "100%|██████████| 80/80 [00:00<00:00, 183.20it/s]\u001b[A\n",
      " 62%|██████▏   | 39/63 [00:34<00:20,  1.17it/s]"
     ]
    },
    {
     "name": "stdout",
     "output_type": "stream",
     "text": [
      "/home/jiang/projects/SubtleGAN/data/brats2021/val/BraTS2021_01312\n"
     ]
    },
    {
     "name": "stderr",
     "output_type": "stream",
     "text": [
      "\n",
      "  0%|          | 0/80 [00:00<?, ?it/s]\u001b[A\n",
      " 29%|██▉       | 23/80 [00:00<00:00, 221.72it/s]\u001b[A\n",
      " 57%|█████▊    | 46/80 [00:00<00:00, 192.68it/s]\u001b[A\n",
      "100%|██████████| 80/80 [00:00<00:00, 187.96it/s]\u001b[A\n",
      " 63%|██████▎   | 40/63 [00:35<00:19,  1.16it/s]"
     ]
    },
    {
     "name": "stdout",
     "output_type": "stream",
     "text": [
      "/home/jiang/projects/SubtleGAN/data/brats2021/val/BraTS2021_00084\n"
     ]
    },
    {
     "name": "stderr",
     "output_type": "stream",
     "text": [
      "\n",
      "  0%|          | 0/80 [00:00<?, ?it/s]\u001b[A\n",
      " 25%|██▌       | 20/80 [00:00<00:00, 195.10it/s]\u001b[A\n",
      " 50%|█████     | 40/80 [00:00<00:00, 186.14it/s]\u001b[A\n",
      " 74%|███████▍  | 59/80 [00:00<00:00, 183.85it/s]\u001b[A\n",
      "100%|██████████| 80/80 [00:00<00:00, 182.54it/s]\u001b[A\n",
      " 65%|██████▌   | 41/63 [00:36<00:18,  1.19it/s]"
     ]
    },
    {
     "name": "stdout",
     "output_type": "stream",
     "text": [
      "/home/jiang/projects/SubtleGAN/data/brats2021/val/BraTS2021_01288\n"
     ]
    },
    {
     "name": "stderr",
     "output_type": "stream",
     "text": [
      "\n",
      "  0%|          | 0/80 [00:00<?, ?it/s]\u001b[A\n",
      " 25%|██▌       | 20/80 [00:00<00:00, 198.75it/s]\u001b[A\n",
      " 50%|█████     | 40/80 [00:00<00:00, 186.95it/s]\u001b[A\n",
      " 74%|███████▍  | 59/80 [00:00<00:00, 183.55it/s]\u001b[A\n",
      "100%|██████████| 80/80 [00:00<00:00, 183.47it/s]\u001b[A\n",
      " 67%|██████▋   | 42/63 [00:37<00:18,  1.14it/s]"
     ]
    },
    {
     "name": "stdout",
     "output_type": "stream",
     "text": [
      "/home/jiang/projects/SubtleGAN/data/brats2021/val/BraTS2021_00756\n"
     ]
    },
    {
     "name": "stderr",
     "output_type": "stream",
     "text": [
      "\n",
      "  0%|          | 0/80 [00:00<?, ?it/s]\u001b[A\n",
      " 21%|██▏       | 17/80 [00:00<00:00, 166.25it/s]\u001b[A\n",
      " 44%|████▍     | 35/80 [00:00<00:00, 170.54it/s]\u001b[A\n",
      " 71%|███████▏  | 57/80 [00:00<00:00, 188.17it/s]\u001b[A\n",
      "100%|██████████| 80/80 [00:00<00:00, 180.18it/s]\u001b[A\n",
      " 68%|██████▊   | 43/63 [00:38<00:17,  1.17it/s]"
     ]
    },
    {
     "name": "stdout",
     "output_type": "stream",
     "text": [
      "/home/jiang/projects/SubtleGAN/data/brats2021/val/BraTS2021_00703\n"
     ]
    },
    {
     "name": "stderr",
     "output_type": "stream",
     "text": [
      "\n",
      "  0%|          | 0/80 [00:00<?, ?it/s]\u001b[A\n",
      " 25%|██▌       | 20/80 [00:00<00:00, 194.93it/s]\u001b[A\n",
      " 50%|█████     | 40/80 [00:00<00:00, 184.22it/s]\u001b[A\n",
      " 74%|███████▍  | 59/80 [00:00<00:00, 181.52it/s]\u001b[A\n",
      "100%|██████████| 80/80 [00:00<00:00, 179.97it/s]\u001b[A\n",
      " 70%|██████▉   | 44/63 [00:38<00:16,  1.18it/s]"
     ]
    },
    {
     "name": "stdout",
     "output_type": "stream",
     "text": [
      "/home/jiang/projects/SubtleGAN/data/brats2021/val/BraTS2021_01625\n"
     ]
    },
    {
     "name": "stderr",
     "output_type": "stream",
     "text": [
      "\n",
      "  0%|          | 0/80 [00:00<?, ?it/s]\u001b[A\n",
      " 42%|████▎     | 34/80 [00:00<00:00, 330.97it/s]\u001b[A\n",
      "100%|██████████| 80/80 [00:00<00:00, 298.20it/s]\u001b[A\n",
      " 71%|███████▏  | 45/63 [00:40<00:16,  1.07it/s]"
     ]
    },
    {
     "name": "stdout",
     "output_type": "stream",
     "text": [
      "/home/jiang/projects/SubtleGAN/data/brats2021/val/BraTS2021_00070\n"
     ]
    },
    {
     "name": "stderr",
     "output_type": "stream",
     "text": [
      "\n",
      "  0%|          | 0/80 [00:00<?, ?it/s]\u001b[A\n",
      " 25%|██▌       | 20/80 [00:00<00:00, 194.36it/s]\u001b[A\n",
      " 50%|█████     | 40/80 [00:00<00:00, 185.45it/s]\u001b[A\n",
      "100%|██████████| 80/80 [00:00<00:00, 190.11it/s]\u001b[A\n",
      " 73%|███████▎  | 46/63 [00:40<00:15,  1.12it/s]"
     ]
    },
    {
     "name": "stdout",
     "output_type": "stream",
     "text": [
      "/home/jiang/projects/SubtleGAN/data/brats2021/val/BraTS2021_01012\n"
     ]
    },
    {
     "name": "stderr",
     "output_type": "stream",
     "text": [
      "\n",
      "  0%|          | 0/80 [00:00<?, ?it/s]\u001b[A\n",
      " 25%|██▌       | 20/80 [00:00<00:00, 194.37it/s]\u001b[A\n",
      " 50%|█████     | 40/80 [00:00<00:00, 186.85it/s]\u001b[A\n",
      " 74%|███████▍  | 59/80 [00:00<00:00, 185.04it/s]\u001b[A\n",
      "100%|██████████| 80/80 [00:00<00:00, 184.41it/s]\u001b[A\n",
      " 75%|███████▍  | 47/63 [00:41<00:14,  1.13it/s]"
     ]
    },
    {
     "name": "stdout",
     "output_type": "stream",
     "text": [
      "/home/jiang/projects/SubtleGAN/data/brats2021/val/BraTS2021_00210\n"
     ]
    },
    {
     "name": "stderr",
     "output_type": "stream",
     "text": [
      "\n",
      "  0%|          | 0/80 [00:00<?, ?it/s]\u001b[A\n",
      " 28%|██▊       | 22/80 [00:00<00:00, 219.02it/s]\u001b[A\n",
      " 55%|█████▌    | 44/80 [00:00<00:00, 192.82it/s]\u001b[A\n",
      "100%|██████████| 80/80 [00:00<00:00, 188.41it/s]\u001b[A\n",
      " 76%|███████▌  | 48/63 [00:42<00:13,  1.13it/s]"
     ]
    },
    {
     "name": "stdout",
     "output_type": "stream",
     "text": [
      "/home/jiang/projects/SubtleGAN/data/brats2021/val/BraTS2021_00612\n"
     ]
    },
    {
     "name": "stderr",
     "output_type": "stream",
     "text": [
      "\n",
      "  0%|          | 0/80 [00:00<?, ?it/s]\u001b[A\n",
      " 25%|██▌       | 20/80 [00:00<00:00, 199.24it/s]\u001b[A\n",
      " 50%|█████     | 40/80 [00:00<00:00, 190.72it/s]\u001b[A\n",
      " 75%|███████▌  | 60/80 [00:00<00:00, 188.62it/s]\u001b[A\n",
      "100%|██████████| 80/80 [00:00<00:00, 187.88it/s]\u001b[A\n",
      " 78%|███████▊  | 49/63 [00:43<00:11,  1.17it/s]"
     ]
    },
    {
     "name": "stdout",
     "output_type": "stream",
     "text": [
      "/home/jiang/projects/SubtleGAN/data/brats2021/val/BraTS2021_00044\n"
     ]
    },
    {
     "name": "stderr",
     "output_type": "stream",
     "text": [
      "\n",
      "  0%|          | 0/80 [00:00<?, ?it/s]\u001b[A\n",
      " 24%|██▍       | 19/80 [00:00<00:00, 183.09it/s]\u001b[A\n",
      " 48%|████▊     | 38/80 [00:00<00:00, 181.77it/s]\u001b[A\n",
      " 71%|███████▏  | 57/80 [00:00<00:00, 182.23it/s]\u001b[A\n",
      "100%|██████████| 80/80 [00:00<00:00, 182.03it/s]\u001b[A\n",
      " 79%|███████▉  | 50/63 [00:44<00:10,  1.19it/s]"
     ]
    },
    {
     "name": "stdout",
     "output_type": "stream",
     "text": [
      "/home/jiang/projects/SubtleGAN/data/brats2021/val/BraTS2021_00134\n"
     ]
    },
    {
     "name": "stderr",
     "output_type": "stream",
     "text": [
      "\n",
      "  0%|          | 0/80 [00:00<?, ?it/s]\u001b[A\n",
      " 25%|██▌       | 20/80 [00:00<00:00, 198.79it/s]\u001b[A\n",
      " 50%|█████     | 40/80 [00:00<00:00, 192.18it/s]\u001b[A\n",
      " 75%|███████▌  | 60/80 [00:00<00:00, 182.85it/s]\u001b[A\n",
      "100%|██████████| 80/80 [00:00<00:00, 188.12it/s]\u001b[A\n",
      " 81%|████████  | 51/63 [00:45<00:10,  1.19it/s]"
     ]
    },
    {
     "name": "stdout",
     "output_type": "stream",
     "text": [
      "/home/jiang/projects/SubtleGAN/data/brats2021/val/BraTS2021_01259\n"
     ]
    },
    {
     "name": "stderr",
     "output_type": "stream",
     "text": [
      "\n",
      "  0%|          | 0/80 [00:00<?, ?it/s]\u001b[A\n",
      " 25%|██▌       | 20/80 [00:00<00:00, 196.91it/s]\u001b[A\n",
      " 50%|█████     | 40/80 [00:00<00:00, 190.03it/s]\u001b[A\n",
      " 75%|███████▌  | 60/80 [00:00<00:00, 188.12it/s]\u001b[A\n",
      "100%|██████████| 80/80 [00:00<00:00, 186.96it/s]\u001b[A\n",
      " 83%|████████▎ | 52/63 [00:45<00:09,  1.18it/s]"
     ]
    },
    {
     "name": "stdout",
     "output_type": "stream",
     "text": [
      "/home/jiang/projects/SubtleGAN/data/brats2021/val/BraTS2021_01481\n"
     ]
    },
    {
     "name": "stderr",
     "output_type": "stream",
     "text": [
      "\n",
      "  0%|          | 0/80 [00:00<?, ?it/s]\u001b[A\n",
      " 29%|██▉       | 23/80 [00:00<00:00, 218.06it/s]\u001b[A\n",
      " 56%|█████▋    | 45/80 [00:00<00:00, 191.78it/s]\u001b[A\n",
      "100%|██████████| 80/80 [00:00<00:00, 186.95it/s]\u001b[A\n",
      " 84%|████████▍ | 53/63 [00:46<00:08,  1.17it/s]"
     ]
    },
    {
     "name": "stdout",
     "output_type": "stream",
     "text": [
      "/home/jiang/projects/SubtleGAN/data/brats2021/val/BraTS2021_00053\n"
     ]
    },
    {
     "name": "stderr",
     "output_type": "stream",
     "text": [
      "\n",
      "  0%|          | 0/80 [00:00<?, ?it/s]\u001b[A\n",
      " 25%|██▌       | 20/80 [00:00<00:00, 193.26it/s]\u001b[A\n",
      " 50%|█████     | 40/80 [00:00<00:00, 185.19it/s]\u001b[A\n",
      " 74%|███████▍  | 59/80 [00:00<00:00, 182.67it/s]\u001b[A\n",
      "100%|██████████| 80/80 [00:00<00:00, 181.28it/s]\u001b[A\n",
      " 86%|████████▌ | 54/63 [00:47<00:07,  1.18it/s]"
     ]
    },
    {
     "name": "stdout",
     "output_type": "stream",
     "text": [
      "/home/jiang/projects/SubtleGAN/data/brats2021/val/BraTS2021_01331\n"
     ]
    },
    {
     "name": "stderr",
     "output_type": "stream",
     "text": [
      "\n",
      "  0%|          | 0/80 [00:00<?, ?it/s]\u001b[A\n",
      " 25%|██▌       | 20/80 [00:00<00:00, 199.72it/s]\u001b[A\n",
      " 50%|█████     | 40/80 [00:00<00:00, 187.06it/s]\u001b[A\n",
      " 74%|███████▍  | 59/80 [00:00<00:00, 184.31it/s]\u001b[A\n",
      "100%|██████████| 80/80 [00:00<00:00, 183.80it/s]\u001b[A\n",
      " 87%|████████▋ | 55/63 [00:48<00:06,  1.17it/s]"
     ]
    },
    {
     "name": "stdout",
     "output_type": "stream",
     "text": [
      "/home/jiang/projects/SubtleGAN/data/brats2021/val/BraTS2021_00418\n"
     ]
    },
    {
     "name": "stderr",
     "output_type": "stream",
     "text": [
      "\n",
      "  0%|          | 0/80 [00:00<?, ?it/s]\u001b[A\n",
      " 25%|██▌       | 20/80 [00:00<00:00, 195.27it/s]\u001b[A\n",
      " 50%|█████     | 40/80 [00:00<00:00, 184.02it/s]\u001b[A\n",
      "100%|██████████| 80/80 [00:00<00:00, 191.05it/s]\u001b[A\n",
      " 89%|████████▉ | 56/63 [00:49<00:05,  1.18it/s]"
     ]
    },
    {
     "name": "stdout",
     "output_type": "stream",
     "text": [
      "/home/jiang/projects/SubtleGAN/data/brats2021/val/BraTS2021_00370\n"
     ]
    },
    {
     "name": "stderr",
     "output_type": "stream",
     "text": [
      "\n",
      "  0%|          | 0/80 [00:00<?, ?it/s]\u001b[A\n",
      " 25%|██▌       | 20/80 [00:00<00:00, 199.17it/s]\u001b[A\n",
      " 50%|█████     | 40/80 [00:00<00:00, 191.73it/s]\u001b[A\n",
      " 75%|███████▌  | 60/80 [00:00<00:00, 189.58it/s]\u001b[A\n",
      "100%|██████████| 80/80 [00:00<00:00, 188.34it/s]\u001b[A\n",
      " 90%|█████████ | 57/63 [00:50<00:05,  1.17it/s]"
     ]
    },
    {
     "name": "stdout",
     "output_type": "stream",
     "text": [
      "/home/jiang/projects/SubtleGAN/data/brats2021/val/BraTS2021_00453\n"
     ]
    },
    {
     "name": "stderr",
     "output_type": "stream",
     "text": [
      "\n",
      "  0%|          | 0/80 [00:00<?, ?it/s]\u001b[A\n",
      " 26%|██▋       | 21/80 [00:00<00:00, 207.69it/s]\u001b[A\n",
      " 52%|█████▎    | 42/80 [00:00<00:00, 190.72it/s]\u001b[A\n",
      "100%|██████████| 80/80 [00:00<00:00, 187.86it/s]\u001b[A\n",
      " 92%|█████████▏| 58/63 [00:51<00:04,  1.18it/s]"
     ]
    },
    {
     "name": "stdout",
     "output_type": "stream",
     "text": [
      "/home/jiang/projects/SubtleGAN/data/brats2021/val/BraTS2021_00159\n"
     ]
    },
    {
     "name": "stderr",
     "output_type": "stream",
     "text": [
      "\n",
      "  0%|          | 0/80 [00:00<?, ?it/s]\u001b[A\n",
      " 25%|██▌       | 20/80 [00:00<00:00, 196.53it/s]\u001b[A\n",
      " 50%|█████     | 40/80 [00:00<00:00, 188.68it/s]\u001b[A\n",
      " 74%|███████▍  | 59/80 [00:00<00:00, 185.24it/s]\u001b[A\n",
      "100%|██████████| 80/80 [00:00<00:00, 185.17it/s]\u001b[A\n",
      " 94%|█████████▎| 59/63 [00:51<00:03,  1.16it/s]"
     ]
    },
    {
     "name": "stdout",
     "output_type": "stream",
     "text": [
      "/home/jiang/projects/SubtleGAN/data/brats2021/val/BraTS2021_00104\n"
     ]
    },
    {
     "name": "stderr",
     "output_type": "stream",
     "text": [
      "\n",
      "  0%|          | 0/80 [00:00<?, ?it/s]\u001b[A\n",
      " 25%|██▌       | 20/80 [00:00<00:00, 193.88it/s]\u001b[A\n",
      " 50%|█████     | 40/80 [00:00<00:00, 186.43it/s]\u001b[A\n",
      " 74%|███████▍  | 59/80 [00:00<00:00, 184.10it/s]\u001b[A\n",
      "100%|██████████| 80/80 [00:00<00:00, 183.35it/s]\u001b[A\n",
      " 95%|█████████▌| 60/63 [00:52<00:02,  1.17it/s]"
     ]
    },
    {
     "name": "stdout",
     "output_type": "stream",
     "text": [
      "/home/jiang/projects/SubtleGAN/data/brats2021/val/BraTS2021_01116\n"
     ]
    },
    {
     "name": "stderr",
     "output_type": "stream",
     "text": [
      "\n",
      "  0%|          | 0/80 [00:00<?, ?it/s]\u001b[A\n",
      " 24%|██▍       | 19/80 [00:00<00:00, 180.12it/s]\u001b[A\n",
      " 51%|█████▏    | 41/80 [00:00<00:00, 199.60it/s]\u001b[A\n",
      "100%|██████████| 80/80 [00:00<00:00, 187.72it/s]\u001b[A\n",
      " 97%|█████████▋| 61/63 [00:53<00:01,  1.16it/s]"
     ]
    },
    {
     "name": "stdout",
     "output_type": "stream",
     "text": [
      "/home/jiang/projects/SubtleGAN/data/brats2021/val/BraTS2021_01229\n"
     ]
    },
    {
     "name": "stderr",
     "output_type": "stream",
     "text": [
      "\n",
      "  0%|          | 0/80 [00:00<?, ?it/s]\u001b[A\n",
      " 25%|██▌       | 20/80 [00:00<00:00, 196.06it/s]\u001b[A\n",
      " 50%|█████     | 40/80 [00:00<00:00, 189.54it/s]\u001b[A\n",
      " 74%|███████▍  | 59/80 [00:00<00:00, 187.60it/s]\u001b[A\n",
      "100%|██████████| 80/80 [00:00<00:00, 186.77it/s]\u001b[A\n",
      " 98%|█████████▊| 62/63 [00:54<00:00,  1.16it/s]"
     ]
    },
    {
     "name": "stdout",
     "output_type": "stream",
     "text": [
      "/home/jiang/projects/SubtleGAN/data/brats2021/val/BraTS2021_00292\n"
     ]
    },
    {
     "name": "stderr",
     "output_type": "stream",
     "text": [
      "\n",
      "  0%|          | 0/80 [00:00<?, ?it/s]\u001b[A\n",
      " 25%|██▌       | 20/80 [00:00<00:00, 196.60it/s]\u001b[A\n",
      " 50%|█████     | 40/80 [00:00<00:00, 188.43it/s]\u001b[A\n",
      " 74%|███████▍  | 59/80 [00:00<00:00, 186.50it/s]\u001b[A\n",
      "100%|██████████| 80/80 [00:00<00:00, 185.94it/s]\u001b[A\n",
      "100%|██████████| 63/63 [00:55<00:00,  1.14it/s]\n"
     ]
    }
   ],
   "source": [
    "# preprocessing: divide each case by the mean\n",
    "data_types = ['train', 'test', 'val']\n",
    "start_idx = 50\n",
    "end_idx = 130\n",
    "for data_type in data_types:\n",
    "    data_dir = f'/home/jiang/projects/SubtleGAN/data/brats2021/{data_type}'\n",
    "    save_dir = f'/home/jiang/projects/SubtleGAN/data/brats2021_slices_crop192x160/{data_type}'\n",
    "    cases = glob.glob(f\"{data_dir}/Bra*\")\n",
    "    for case in tqdm(cases):\n",
    "        print(case)\n",
    "        case_name = case.split(\"/\")[-1]\n",
    "        save_case_dir = os.path.join(save_dir, case_name)\n",
    "        os.makedirs(save_case_dir, exist_ok=True)\n",
    "        t1 = preprocess_data(nib.load(glob.glob(f\"{case}/*_t1.nii.gz\")[0]).get_fdata())\n",
    "        t1ce = preprocess_data(nib.load(glob.glob(f\"{case}/*_t1ce.nii.gz\")[0]).get_fdata())\n",
    "        t2 = preprocess_data(nib.load(glob.glob(f\"{case}/*_t2.nii.gz\")[0]).get_fdata())\n",
    "        flair = preprocess_data(nib.load(glob.glob(f\"{case}/*_flair.nii.gz\")[0]).get_fdata())\n",
    "        for idx in trange(start_idx, end_idx):\n",
    "            slice_i = np.stack([t1[:, :, idx], t1ce[:, :, idx], t2[:, :, idx], flair[:, :, idx]], axis=0)\n",
    "            fn = os.path.join(save_case_dir, f\"{idx:03d}.npy\")\n",
    "            np.save(fn, slice_i)"
   ]
  },
  {
   "cell_type": "code",
   "execution_count": null,
   "id": "e40503e6",
   "metadata": {},
   "outputs": [],
   "source": [
    "# test dataloader\n",
    "from dataset_brats import BRATS_dataset, RandomGenerator\n",
    "from torchvision import transforms\n",
    "db_train = BRATS_dataset(base_dir='/raid/jiang/projects/SubtleGAN/data/brats_slices/HGG',split=\"train\",transform=transforms.Compose(\n",
    "                                   [RandomGenerator(scale=[0.9, 1.1], flip=True)]))"
   ]
  },
  {
   "cell_type": "code",
   "execution_count": null,
   "id": "e027e2cd",
   "metadata": {},
   "outputs": [],
   "source": [
    "import random\n",
    "from torch.utils.data import DataLoader\n",
    "def worker_init_fn(worker_id):\n",
    "    random.seed(1234 + worker_id)\n",
    "trainloader = DataLoader(db_train, batch_size=8, shuffle=True, num_workers=8, pin_memory=True, worker_init_fn=worker_init_fn)"
   ]
  },
  {
   "cell_type": "code",
   "execution_count": null,
   "id": "c1867107",
   "metadata": {},
   "outputs": [],
   "source": [
    "data = next(iter(trainloader))"
   ]
  },
  {
   "cell_type": "code",
   "execution_count": null,
   "id": "7edd43a6",
   "metadata": {},
   "outputs": [],
   "source": [
    "data[0].shape"
   ]
  },
  {
   "cell_type": "code",
   "execution_count": null,
   "id": "fff33033",
   "metadata": {},
   "outputs": [],
   "source": [
    "plt.imshow(data[0].numpy()[1][0], cmap='gray')"
   ]
  },
  {
   "cell_type": "code",
   "execution_count": null,
   "id": "6a7df180",
   "metadata": {},
   "outputs": [],
   "source": [
    "plt.imshow(data[1].numpy()[1][0], cmap='gray')"
   ]
  },
  {
   "cell_type": "code",
   "execution_count": null,
   "id": "8849935c",
   "metadata": {},
   "outputs": [],
   "source": [
    "plt.imshow(data[2].numpy()[1][0], cmap='gray')"
   ]
  },
  {
   "cell_type": "code",
   "execution_count": null,
   "id": "56773497",
   "metadata": {},
   "outputs": [],
   "source": [
    "plt.imshow(data[3].numpy()[1][0], cmap='gray')"
   ]
  },
  {
   "cell_type": "code",
   "execution_count": null,
   "id": "2632170c",
   "metadata": {},
   "outputs": [],
   "source": [
    "import torch\n",
    "from kornia.augmentation import RandomVerticalFlip, RandomAffine\n",
    "tensor = torch.from_numpy(t1[:, :, 100]).unsqueeze(0).unsqueeze(0)"
   ]
  },
  {
   "cell_type": "code",
   "execution_count": null,
   "id": "e1c2c377",
   "metadata": {},
   "outputs": [],
   "source": [
    "image_flip = RandomVerticalFlip(p=1)(tensor)\n",
    "plt.imshow(image_flip.numpy()[0][0], cmap='gray')"
   ]
  },
  {
   "cell_type": "code",
   "execution_count": null,
   "id": "34c194ed",
   "metadata": {},
   "outputs": [],
   "source": [
    "image_scale = RandomAffine(0, scale=[0.9, 1.1], p=1)(tensor)\n",
    "plt.imshow(image_scale.numpy()[0][0], cmap='gray')"
   ]
  },
  {
   "cell_type": "code",
   "execution_count": 5,
   "id": "8c66042a",
   "metadata": {},
   "outputs": [
    {
     "data": {
      "text/plain": [
       "(192, 192, 155)"
      ]
     },
     "execution_count": 5,
     "metadata": {},
     "output_type": "execute_result"
    }
   ],
   "source": [
    "t1.shape"
   ]
  },
  {
   "cell_type": "code",
   "execution_count": 4,
   "id": "4462b028",
   "metadata": {},
   "outputs": [
    {
     "data": {
      "text/plain": [
       "<matplotlib.image.AxesImage at 0x7fbbdaab8e80>"
      ]
     },
     "execution_count": 4,
     "metadata": {},
     "output_type": "execute_result"
    },
    {
     "data": {
      "image/png": "[encoded data removed]",
      "text/plain": [
       "<Figure size 432x288 with 1 Axes>"
      ]
     },
     "metadata": {
      "needs_background": "light"
     },
     "output_type": "display_data"
    }
   ],
   "source": [
    "import matplotlib.pyplot as plt\n",
    "plt.imshow(t1[:, :, 90], cmap='gray')"
   ]
  },
  {
   "cell_type": "code",
   "execution_count": 5,
   "id": "e232087a",
   "metadata": {},
   "outputs": [
    {
     "data": {
      "text/plain": [
       "(160, 192)"
      ]
     },
     "execution_count": 5,
     "metadata": {},
     "output_type": "execute_result"
    }
   ],
   "source": [
    "t1[:, :, 90].shape"
   ]
  },
  {
   "cell_type": "code",
   "execution_count": null,
   "id": "523f6040",
   "metadata": {},
   "outputs": [],
   "source": []
  }
 ],
 "metadata": {
  "kernelspec": {
   "display_name": "Python 3",
   "language": "python",
   "name": "python3"
  },
  "language_info": {
   "codemirror_mode": {
    "name": "ipython",
    "version": 3
   },
   "file_extension": ".py",
   "mimetype": "text/x-python",
   "name": "python",
   "nbconvert_exporter": "python",
   "pygments_lexer": "ipython3",
   "version": "3.8.10"
  }
 },
 "nbformat": 4,
 "nbformat_minor": 5
}
