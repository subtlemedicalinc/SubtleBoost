{
 "cells": [
  {
   "cell_type": "code",
   "execution_count": null,
   "metadata": {},
   "outputs": [],
   "source": [
    "%reload_ext autoreload\n",
    "%autoreload 2\n",
    "\n",
    "import numpy as np\n",
    "import os\n",
    "from hyperopt import fmin, tpe, hp, STATUS_OK, Trials\n",
    "from subtle.dnn.generators import GeneratorUNet2D\n",
    "from subtle.data_loaders import SliceLoader\n",
    "import subtle.subtle_loss as suloss\n",
    "import matplotlib.pyplot as plt\n",
    "\n",
    "import ray\n",
    "from ray import tune\n",
    "from ray.tune.schedulers import AsyncHyperBandScheduler\n",
    "from ray.tune.integration.keras import TuneReporterCallback\n",
    "\n",
    "ray.init()\n",
    "plt.set_cmap('gray')\n",
    "plt.rcParams['figure.figsize'] = (12, 10)\n",
    "\n",
    "# os.environ[\"CUDA_DEVICE_ORDER\"] = \"PCI_BUS_ID\"\n",
    "# os.environ[\"CUDA_VISIBLE_DEVICES\"] = \"0\"\n",
    "\n",
    "def show_img(img, title='', axis=False, vmin=None, vmax=None):\n",
    "    imshow_args = {}\n",
    "    \n",
    "    if vmin:\n",
    "        imshow_args['vmin'] = vmin\n",
    "    if vmax:\n",
    "        imshow_args['vmax'] = vmax\n",
    "    \n",
    "    im_axis = 'on' if axis else 'off'\n",
    "    plt.axis(im_axis)\n",
    "    plt.imshow(img, **imshow_args)\n",
    "    plt.title(title, fontsize=15)"
   ]
  },
  {
   "cell_type": "code",
   "execution_count": null,
   "metadata": {
    "scrolled": false
   },
   "outputs": [],
   "source": [
    "fpaths_h5 = [\n",
    "    '/home/srivathsa/projects/studies/gad/tiantan/preprocess/data/NO26.h5',\n",
    "    '/home/srivathsa/projects/studies/gad/tiantan/preprocess/data/NO27.h5'\n",
    "]\n",
    "\n",
    "def train(params, reporter):\n",
    "    l1_w = params['l1_lambda']\n",
    "    ssim_w = 1 - l1_w\n",
    "    loss_function = suloss.mixed_loss(l1_lambda=l1_w, ssim_lambda=ssim_w)\n",
    "    metrics_monitor = [suloss.l1_loss, suloss.ssim_loss, suloss.mse_loss]\n",
    "    \n",
    "    data_loader = SliceLoader(\n",
    "        data_list=fpaths_h5, batch_size=params['batch_size'], shuffle=False, verbose=0,\n",
    "        slices_per_input=7, resize=240, slice_axis=[0]\n",
    "    )\n",
    "    \n",
    "    model = GeneratorUNet2D(\n",
    "        num_channel_output=1,\n",
    "        loss_function=loss_function, metrics_monitor=metrics_monitor,\n",
    "        verbose=0, lr_init=params['lr_init'],\n",
    "        img_rows=240, img_cols=240, num_channel_input=14, compile_model=True\n",
    "    )\n",
    "    model.load_weights()\n",
    "\n",
    "    train_X, train_Y = data_loader.__getitem__(7)\n",
    "    val_X, val_Y = data_loader.__getitem__(14)\n",
    "\n",
    "    model.model.fit(train_X, train_Y, validation_data=(val_X, val_Y), verbose=0, \n",
    "                    callbacks=[TuneReporterCallback(reporter)])\n",
    "#     print(hist)\n",
    "#     return {'loss': hist.history['val_l1_loss'][0], 'status': STATUS_OK}"
   ]
  },
  {
   "cell_type": "code",
   "execution_count": null,
   "metadata": {
    "scrolled": false
   },
   "outputs": [],
   "source": [
    "# trials = Trials()\n",
    "# space = {\n",
    "#     'l1_lambda': hp.uniform('l1_lambda', 0, 1),\n",
    "#     'ssim_lambda': hp.uniform('ssim_lambda', 0, 1),\n",
    "#     'batch_size': hp.choice('batch_size', [4, 8, 12]),\n",
    "#     'lr_init': hp.uniform('lr_init', 0.001, 0.1)\n",
    "# }\n",
    "\n",
    "# best_model = fmin(train, space, algo=tpe.suggest, max_evals=10, verbose=1, trials=trials)\n",
    "\n",
    "\n",
    "sched = AsyncHyperBandScheduler(\n",
    "        metric=\"val_l1_loss\",\n",
    "        mode=\"min\")\n",
    "\n",
    "tune.run(\n",
    "    train,\n",
    "    name=\"exp\",\n",
    "    num_samples=2,\n",
    "    resources_per_trial={\n",
    "        \"cpu\": 0,\n",
    "        \"gpu\": 1\n",
    "    },\n",
    "    config={\n",
    "        \"num_workers\": 0,\n",
    "        \"l1_lambda\": tune.sample_from(lambda spec: np.random.uniform(0, 1)),\n",
    "        \"batch_size\": tune.sample_from(lambda spec: [4, 8, 12][np.random.randint(3)]),\n",
    "        \"lr_init\": tune.sample_from(lambda spec: np.random.uniform(0.001, 0.1))\n",
    "    })"
   ]
  },
  {
   "cell_type": "code",
   "execution_count": null,
   "metadata": {},
   "outputs": [],
   "source": []
  }
 ],
 "metadata": {
  "kernelspec": {
   "display_name": "Python (py35gad)",
   "language": "python",
   "name": "py35gad"
  },
  "language_info": {
   "codemirror_mode": {
    "name": "ipython",
    "version": 3
   },
   "file_extension": ".py",
   "mimetype": "text/x-python",
   "name": "python",
   "nbconvert_exporter": "python",
   "pygments_lexer": "ipython3",
   "version": "3.6.0"
  }
 },
 "nbformat": 4,
 "nbformat_minor": 2
}
