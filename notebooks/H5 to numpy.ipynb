{
 "cells": [
  {
   "cell_type": "code",
   "execution_count": 14,
   "metadata": {},
   "outputs": [],
   "source": [
    "%reload_ext autoreload\n",
    "%autoreload 2\n",
    "\n",
    "import os\n",
    "import numpy as np\n",
    "from glob import glob\n",
    "\n",
    "import subtle.utils.io as suio\n",
    "import subtle.utils.experiment as exp_utils\n",
    "from tqdm import tqdm\n",
    "\n",
    "base_dir = '/home/srivathsa/projects/studies/gad/stanford/preprocess/data'\n",
    "case_nums = exp_utils.get_experiment_data('stanford_sri', dirpath_exp='/home/srivathsa/projects/SubtleGad/configs/experiments', dataset='all')"
   ]
  },
  {
   "cell_type": "code",
   "execution_count": 13,
   "metadata": {},
   "outputs": [],
   "source": [
    "for cnum in tqdm(case_nums, total=len(case_nums)):\n",
    "    fpath = '{}/{}.h5'.format(base_dir, cnum)\n",
    "    data_h5 = suio.load_file(fpath, params={'h5_key': 'all'})\n",
    "    np.save('{}/{}.npy'.format(base_dir, cnum), data_h5)\n",
    "    os.remove(fpath)"
   ]
  },
  {
   "cell_type": "code",
   "execution_count": null,
   "metadata": {},
   "outputs": [],
   "source": []
  }
 ],
 "metadata": {
  "kernelspec": {
   "display_name": "Python (py35gad)",
   "language": "python",
   "name": "py35gad"
  },
  "language_info": {
   "codemirror_mode": {
    "name": "ipython",
    "version": 3
   },
   "file_extension": ".py",
   "mimetype": "text/x-python",
   "name": "python",
   "nbconvert_exporter": "python",
   "pygments_lexer": "ipython3",
   "version": "3.6.0"
  }
 },
 "nbformat": 4,
 "nbformat_minor": 2
}
