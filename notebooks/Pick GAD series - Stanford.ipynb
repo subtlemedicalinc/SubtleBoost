{
 "cells": [
  {
   "cell_type": "code",
   "execution_count": 23,
   "metadata": {
    "scrolled": false
   },
   "outputs": [],
   "source": [
    "import os\n",
    "from glob import glob\n",
    "\n",
    "\n",
    "base_path = '/raid/SubtleGAD_Stanford/lowcon/'\n",
    "\n",
    "dest_dir = '/home/srivathsa/projects/studies/gad/stanford/data'\n",
    "\n",
    "pdirs = []\n",
    "\n",
    "for dirpath in glob('{}/Patient_05*/*AX_BRAVO*'.format(base_path), recursive=True):\n",
    "    pdir = dirpath.split('/')[-2]\n",
    "    if pdir not in pdirs:\n",
    "        pdirs.append(pdir)\n",
    "        ddir = os.path.join(dest_dir, pdir)\n",
    "        print('mkdir {}'.format(ddir))\n",
    "    \n",
    "    print('ln -s {} {}/'.format(dirpath, ddir))"
   ]
  },
  {
   "cell_type": "code",
   "execution_count": 26,
   "metadata": {},
   "outputs": [
    {
     "name": "stdout",
     "output_type": "stream",
     "text": [
      "11\n"
     ]
    }
   ],
   "source": [
    "# count_base = '/raid/SubtleGAD_Stanford/lowcon/'\n",
    "count_base = '/home/srivathsa/projects/studies/gad/stanford/data/'\n",
    "\n",
    "cfiles = [f for f in glob('{}/Patient_00*'.format(count_base))]\n",
    "print(len(cfiles))"
   ]
  },
  {
   "cell_type": "code",
   "execution_count": null,
   "metadata": {},
   "outputs": [],
   "source": []
  }
 ],
 "metadata": {
  "kernelspec": {
   "display_name": "Python (py35gad)",
   "language": "python",
   "name": "py35gad"
  },
  "language_info": {
   "codemirror_mode": {
    "name": "ipython",
    "version": 3
   },
   "file_extension": ".py",
   "mimetype": "text/x-python",
   "name": "python",
   "nbconvert_exporter": "python",
   "pygments_lexer": "ipython3",
   "version": "3.6.0"
  }
 },
 "nbformat": 4,
 "nbformat_minor": 2
}
