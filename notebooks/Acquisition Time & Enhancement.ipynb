{
 "cells": [
  {
   "cell_type": "code",
   "execution_count": 66,
   "metadata": {},
   "outputs": [
    {
     "data": {
      "text/plain": [
       "<Figure size 720x576 with 0 Axes>"
      ]
     },
     "metadata": {},
     "output_type": "display_data"
    }
   ],
   "source": [
    "import numpy as np\n",
    "import pydicom\n",
    "import pandas as pd\n",
    "from datetime import datetime as dt\n",
    "from glob import glob\n",
    "\n",
    "import subtle.subtle_io as suio\n",
    "import skimage.morphology as morph\n",
    "from tqdm import tqdm_notebook as tqdm\n",
    "\n",
    "import matplotlib.pyplot as plt\n",
    "plt.set_cmap('gray')\n",
    "plt.rcParams[\"figure.figsize\"] = (10, 8)\n",
    "\n",
    "def get_dcm(dirpath_dcm):\n",
    "    return pydicom.dcmread([fpath for fpath in glob('{}/*.dcm'.format(dirpath_dcm))][0])\n",
    "\n",
    "def get_time_str(time_str):\n",
    "    return time_str.split('.')[0]\n",
    "\n",
    "def get_diff_in_secs(time1, time2):\n",
    "    dt_format = '%H%M%S'\n",
    "    \n",
    "    t1 = dt.strptime(time1, dt_format)\n",
    "    t2 = dt.strptime(time2, dt_format)\n",
    "    \n",
    "    return (t2-t1).seconds\n",
    "\n",
    "def get_time_diff(path_zero, path_low, path_full):\n",
    "    dcm_zero = get_dcm(path_zero)\n",
    "    dcm_low = get_dcm(path_low)\n",
    "    dcm_full = get_dcm(path_full)\n",
    "    \n",
    "    zero_dict = get_time_str(dcm_zero.AcquisitionTime)\n",
    "    low_dict = get_time_str(dcm_low.AcquisitionTime)\n",
    "    full_dict = get_time_str(dcm_full.AcquisitionTime)\n",
    "    \n",
    "    return {\n",
    "        'low_zero': get_diff_in_secs(zero_dict, low_dict),\n",
    "        'full_low': get_diff_in_secs(low_dict, full_dict)\n",
    "    }\n",
    "\n",
    "def compile_time_info(dirpath_dcm):\n",
    "    paths = suio.get_dicom_dirs(dirpath_dcm)\n",
    "    if len(paths) < 3:\n",
    "        return None\n",
    "    return get_time_diff(paths[0], paths[1], paths[2]) \n",
    "\n",
    "def get_mean_acqtime(dirpath_dcms):\n",
    "    diff_dict = {}\n",
    "    for dirpath_dcm in dirpath_dcms:\n",
    "        case_num = dirpath_dcm.split('/')[-1]\n",
    "        time_info = compile_time_info(dirpath_dcm)\n",
    "        if time_info is not None:\n",
    "            diff_dict[case_num] = time_info\n",
    "\n",
    "    df_diff = pd.DataFrame(diff_dict).T\n",
    "    return {\n",
    "        'mean': dict(df_diff.mean()),\n",
    "        'std': dict(df_diff.std())\n",
    "    }\n",
    "\n",
    "def show_img(img, title='', axis=False, vmin=None, vmax=None, colorbar=False, fname=None):\n",
    "    plt.clf()\n",
    "    imshow_args = {}\n",
    "    \n",
    "    if vmin:\n",
    "        imshow_args['vmin'] = vmin\n",
    "    if vmax:\n",
    "        imshow_args['vmax'] = vmax\n",
    "    \n",
    "    im_axis = 'on' if axis else 'off'\n",
    "    plt.axis(im_axis)\n",
    "    plt.imshow(img, **imshow_args)\n",
    "    plt.title(title, fontsize=15)\n",
    "    \n",
    "    if fname is not None:\n",
    "        plt.savefig(fname)\n",
    "\n",
    "def show_gad_comparison(img_pre, img_low, img_post):\n",
    "    fig = plt.figure(figsize=(18, 12))\n",
    "    fig.tight_layout()\n",
    "\n",
    "    fig.add_subplot(1, 3, 1)\n",
    "    show_img(img_pre, title='Pre contrast')\n",
    "\n",
    "    fig.add_subplot(1, 3, 2)\n",
    "    show_img(img_low, title='10% dosage')\n",
    "\n",
    "    fig.add_subplot(1, 3, 3)\n",
    "    show_img(img_post, title='Full dosage')\n",
    "\n",
    "    plt.show()\n",
    "\n",
    "def get_enhancement(img1, img2):\n",
    "    diff = img2-img1\n",
    "    diff = np.interp(diff, (diff.min(), diff.max()), (0, 1))\n",
    "    diff = diff > 0.1\n",
    "    return diff\n",
    "\n",
    "def get_mean_enhancement(fpath_h5, h5_key='data_mask'):\n",
    "    study_data = suio.load_h5_file(fpath_h5, h5_key=h5_key)\n",
    "    zero_vol = study_data[:, 0, ...]\n",
    "    low_vol = study_data[:, 1, ...]\n",
    "\n",
    "    diff_vol = low_vol - zero_vol\n",
    "    diff_vol[diff_vol < 0] = 0\n",
    "    diff_vol = diff_vol > 0.15\n",
    "    \n",
    "    enh_mask = morph.remove_small_objects(diff_vol)\n",
    "    enh_mask = morph.binary_erosion(enh_mask, selem=morph.cube(3))\n",
    "    enh_mask = morph.binary_dilation(enh_mask)\n",
    "    \n",
    "    enh_img = low_vol * enh_mask\n",
    "    \n",
    "    case_num = fpath_h5.split('/')[-1].replace('.h5', '')\n",
    "    pidx = enh_img.shape[0] // 2\n",
    "    show_img(enh_img[pidx], fname='enh_imgs/{}.png'.format(case_num))\n",
    "    \n",
    "    return enh_img[np.nonzero(enh_img)].max()"
   ]
  },
  {
   "cell_type": "code",
   "execution_count": 59,
   "metadata": {
    "scrolled": false
   },
   "outputs": [
    {
     "name": "stdout",
     "output_type": "stream",
     "text": [
      "{'mean': {'full_low': 177.7625, 'low_zero': 364.2}, 'std': {'full_low': 20.656469088154285, 'low_zero': 66.71408861892041}}\n"
     ]
    }
   ],
   "source": [
    "base_path = '/home/srivathsa/projects/studies/gad/tiantan/data'\n",
    "dirpath_dcms = sorted(glob('{}/NO*'.format(base_path)))\n",
    "print(get_mean_acqtime(dirpath_dcms))"
   ]
  },
  {
   "cell_type": "code",
   "execution_count": 44,
   "metadata": {},
   "outputs": [
    {
     "name": "stdout",
     "output_type": "stream",
     "text": [
      "{'mean': {'full_low': 676.7741935483871, 'low_zero': 1403.0}, 'std': {'full_low': 209.12878164381863, 'low_zero': 321.7739372085108}}\n"
     ]
    }
   ],
   "source": [
    "base_path = '/home/srivathsa/projects/studies/gad/hoag/data'\n",
    "dirpath_dcms = [f for f in sorted(glob('{}/*'.format(base_path))) if 'Id' in f]\n",
    "print(get_mean_acqtime(dirpath_dcms))"
   ]
  },
  {
   "cell_type": "code",
   "execution_count": 45,
   "metadata": {},
   "outputs": [
    {
     "name": "stdout",
     "output_type": "stream",
     "text": [
      "{'mean': {'full_low': 576.3589743589744, 'low_zero': 736.9487179487179}, 'std': {'full_low': 109.60490941258713, 'low_zero': 187.349651821899}}\n"
     ]
    }
   ],
   "source": [
    "base_path = '/home/srivathsa/projects/studies/gad/stanford/data'\n",
    "dirpath_dcms = [f for f in sorted(glob('{}/*'.format(base_path))) if 'Patient' in f]\n",
    "print(get_mean_acqtime(dirpath_dcms))"
   ]
  },
  {
   "cell_type": "code",
   "execution_count": 46,
   "metadata": {},
   "outputs": [
    {
     "name": "stdout",
     "output_type": "stream",
     "text": [
      "{'mean': {'full_low': 564.1481481481482, 'low_zero': 738.925925925926}, 'std': {'full_low': 32.858324906627786, 'low_zero': 144.19002577419678}}\n"
     ]
    }
   ],
   "source": [
    "base_path = '/home/srivathsa/projects/studies/gad/sford_siemens/data'\n",
    "dirpath_dcms = [f for f in sorted(glob('{}/*'.format(base_path))) if 'Patient' in f]\n",
    "print(get_mean_acqtime(dirpath_dcms))"
   ]
  },
  {
   "cell_type": "code",
   "execution_count": 68,
   "metadata": {},
   "outputs": [
    {
     "data": {
      "application/vnd.jupyter.widget-view+json": {
       "model_id": "96ae5bbf1a9145789b1a60a188889d04",
       "version_major": 2,
       "version_minor": 0
      },
      "text/plain": [
       "HBox(children=(IntProgress(value=0, max=77), HTML(value='')))"
      ]
     },
     "metadata": {},
     "output_type": "display_data"
    },
    {
     "name": "stdout",
     "output_type": "stream",
     "text": [
      "\n"
     ]
    },
    {
     "data": {
      "image/png": "[encoded data removed]",
      "text/plain": [
       "<Figure size 720x576 with 1 Axes>"
      ]
     },
     "metadata": {
      "needs_background": "light"
     },
     "output_type": "display_data"
    }
   ],
   "source": [
    "pp_base = '/home/srivathsa/projects/studies/gad/tiantan/preprocess/data'\n",
    "dcm_base = '/home/srivathsa/projects/studies/gad/tiantan/data'\n",
    "\n",
    "data_points = []\n",
    "\n",
    "dfiles = [f for f in glob('{}/*.h5'.format(pp_base))]\n",
    "\n",
    "for fpath_h5 in tqdm(dfiles, total=len(dfiles)):\n",
    "    case_num = fpath_h5.split('/')[-1].replace('.h5', '')\n",
    "    dcm_path = '{}/{}'.format(dcm_base, case_num)\n",
    "    acq_dict = compile_time_info(dcm_path)\n",
    "    mean_en = get_mean_enhancement(fpath_h5)\n",
    "    data_points.append((acq_dict['low_zero'], mean_en))\n",
    "    #print(case_num, acq_dict['low_zero'], mean_en)"
   ]
  },
  {
   "cell_type": "code",
   "execution_count": 69,
   "metadata": {},
   "outputs": [
    {
     "data": {
      "text/plain": [
       "Text(0, 0.5, 'Mean enhancement value')"
      ]
     },
     "execution_count": 69,
     "metadata": {},
     "output_type": "execute_result"
    },
    {
     "data": {
      "image/png": "[encoded data removed]",
      "text/plain": [
       "<Figure size 720x576 with 1 Axes>"
      ]
     },
     "metadata": {
      "needs_background": "light"
     },
     "output_type": "display_data"
    }
   ],
   "source": [
    "data_points = np.array(data_points)\n",
    "plt.scatter(data_points[:, 0], data_points[:, 1])\n",
    "plt.xlabel('Low time - zero time (in seconds)')\n",
    "plt.ylabel('Mean enhancement value')"
   ]
  },
  {
   "cell_type": "code",
   "execution_count": null,
   "metadata": {},
   "outputs": [],
   "source": []
  }
 ],
 "metadata": {
  "kernelspec": {
   "display_name": "Python (py35gad)",
   "language": "python",
   "name": "py35gad"
  },
  "language_info": {
   "codemirror_mode": {
    "name": "ipython",
    "version": 3
   },
   "file_extension": ".py",
   "mimetype": "text/x-python",
   "name": "python",
   "nbconvert_exporter": "python",
   "pygments_lexer": "ipython3",
   "version": "3.5.6"
  }
 },
 "nbformat": 4,
 "nbformat_minor": 2
}
