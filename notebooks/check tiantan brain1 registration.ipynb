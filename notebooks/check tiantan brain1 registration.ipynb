{
 "cells": [
  {
   "cell_type": "code",
   "execution_count": 2,
   "metadata": {},
   "outputs": [],
   "source": [
    "import sys\n",
    "import numpy as np\n",
    "import os\n",
    "from os.path import abspath\n",
    "\n",
    "import matplotlib.pyplot as plt\n",
    "%matplotlib inline\n",
    "\n",
    "import subtle.subtle_io as suio\n",
    "import subtle.subtle_preprocess as supre\n",
    "import subtle.subtle_plot as suplot\n",
    "\n",
    "import SimpleITK as sitk\n",
    "\n"
   ]
  },
  {
   "cell_type": "code",
   "execution_count": 33,
   "metadata": {},
   "outputs": [],
   "source": [
    "working_dir = '/home/subtle/Data/Tiantan/Brain1H-600444022'\n",
    "# working_dir = '/home/subtle/Data/Tiantan/Brain2H-600441599/'\n",
    "# working_dir = '/home/subtle/Data/Tiantan/Brain3H-600437593/'\n",
    "# working_dir = '/home/subtle/Data/Tiantan/Brain4H-601044594/'\n",
    "# working_dir = '/home/subtle/Data/Tiantan/Brain5H-601047608/'\n",
    "# working_dir = '/home/subtle/Data/Tiantan/Brain6H-601050736/'\n",
    "# working_dir = '/home/subtle/Data/Tiantan/NO1'\n"
   ]
  },
  {
   "cell_type": "code",
   "execution_count": 36,
   "metadata": {},
   "outputs": [
    {
     "name": "stdout",
     "output_type": "stream",
     "text": [
      "/home/subtle/Data/Tiantan/Brain1H-600444022/3DT1WMPRAGE_SAG_CS4_301 /home/subtle/Data/Tiantan/Brain1H-600444022/3DT1WMPRAGE_SAG_CS401_601 /home/subtle/Data/Tiantan/Brain1H-600444022/3DT1WMPRAGE_SAG_CS4_701\n"
     ]
    }
   ],
   "source": [
    "path_zero, path_low, path_full = suio.get_dicom_dirs(working_dir, override=True)\n",
    "print(path_zero, path_low, path_full)"
   ]
  },
  {
   "cell_type": "code",
   "execution_count": 37,
   "metadata": {},
   "outputs": [
    {
     "name": "stdout",
     "output_type": "stream",
     "text": [
      "(187, 240, 240) (192, 240, 240) (196, 240, 240)\n"
     ]
    }
   ],
   "source": [
    "x0, h0 = suio.dicom_files(path_zero)\n",
    "x1, h1 = suio.dicom_files(path_low)\n",
    "x2, h2 = suio.dicom_files(path_full)\n",
    "print(x0.shape, x1.shape, x2.shape)"
   ]
  },
  {
   "cell_type": "markdown",
   "metadata": {},
   "source": [
    "## different number of slices in each case!!"
   ]
  }
 ],
 "metadata": {
  "kernelspec": {
   "display_name": "Python 3",
   "language": "python",
   "name": "python3"
  },
  "language_info": {
   "codemirror_mode": {
    "name": "ipython",
    "version": 3
   },
   "file_extension": ".py",
   "mimetype": "text/x-python",
   "name": "python",
   "nbconvert_exporter": "python",
   "pygments_lexer": "ipython3",
   "version": "3.5.2"
  }
 },
 "nbformat": 4,
 "nbformat_minor": 2
}
