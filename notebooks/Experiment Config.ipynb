{
 "cells": [
  {
   "cell_type": "code",
   "execution_count": 10,
   "metadata": {},
   "outputs": [],
   "source": [
    "import json\n",
    "exp_name = 'stanford_sri'\n",
    "\n",
    "train_data = 'data_train_stanford_sri.txt'\n",
    "test_data = 'data_test_stanford_sri.txt'\n",
    "\n",
    "dirpath_base = '/Users/srivathsa/projects/SubtleGad'\n",
    "\n",
    "data_dict = {\n",
    "    'train': open('{}/data_lists/{}'.format(dirpath_base, train_data)).read().strip().split('\\n'),\n",
    "    'test': open('{}/data_lists/{}'.format(dirpath_base, test_data)).read().strip().split('\\n'),\n",
    "}\n",
    "\n",
    "with open('{}/experiments/{}/data.json'.format(dirpath_base, exp_name), 'w') as fpath_json:\n",
    "    st = json.dumps(data_dict, indent=2)\n",
    "    fpath_json.write(st)"
   ]
  },
  {
   "cell_type": "code",
   "execution_count": null,
   "metadata": {},
   "outputs": [],
   "source": []
  }
 ],
 "metadata": {
  "kernelspec": {
   "display_name": "Python (py35gad)",
   "language": "python",
   "name": "py35gad"
  },
  "language_info": {
   "codemirror_mode": {
    "name": "ipython",
    "version": 3
   },
   "file_extension": ".py",
   "mimetype": "text/x-python",
   "name": "python",
   "nbconvert_exporter": "python",
   "pygments_lexer": "ipython3",
   "version": "3.5.6"
  }
 },
 "nbformat": 4,
 "nbformat_minor": 2
}
