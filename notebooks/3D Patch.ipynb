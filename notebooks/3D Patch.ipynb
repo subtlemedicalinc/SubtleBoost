{
 "cells": [
  {
   "cell_type": "code",
   "execution_count": 240,
   "metadata": {},
   "outputs": [
    {
     "data": {
      "text/plain": [
       "<Figure size 432x288 with 0 Axes>"
      ]
     },
     "metadata": {},
     "output_type": "display_data"
    }
   ],
   "source": [
    "import os\n",
    "import sys\n",
    "\n",
    "import numpy as np\n",
    "import matplotlib.pyplot as plt\n",
    "import sigpy\n",
    "\n",
    "plt.set_cmap('gray')\n",
    "plt.rcParams['figure.figsize'] = (6, 4)\n",
    "\n",
    "import subtle.subtle_io as suio\n",
    "\n",
    "from keras.layers import Input, Conv3D, Activation\n",
    "import keras.models\n",
    "from keras.optimizers import Adam\n",
    "\n",
    "\n",
    "os.environ[\"CUDA_DEVICE_ORDER\"] = \"PCI_BUS_ID\"\n",
    "os.environ[\"CUDA_VISIBLE_DEVICES\"] = \"0\"\n",
    "\n",
    "def show_img(img, title='', axis=False, vmin=None, vmax=None):\n",
    "    imshow_args = {}\n",
    "    \n",
    "    if vmin:\n",
    "        imshow_args['vmin'] = vmin\n",
    "    if vmax:\n",
    "        imshow_args['vmax'] = vmax\n",
    "    \n",
    "    im_axis = 'on' if axis else 'off'\n",
    "    plt.axis(im_axis)\n",
    "    plt.imshow(img, **imshow_args)\n",
    "    plt.title(title, fontsize=15)\n",
    "    plt.show()\n",
    "\n",
    "    \n",
    "def get_patches(img_vol, block_size=64):\n",
    "    patches = sigpy.block.array_to_blocks(img_vol, [block_size]*3, [block_size]*3)\n",
    "    n_patches = patches.shape[0] * patches.shape[1] * patches.shape[2]\n",
    "    patches = np.reshape(patches, (n_patches, block_size, block_size, block_size))\n",
    "    return patches\n",
    "\n",
    "def filter_patches(patches, pixel_percent=0.1, block_size=64):\n",
    "    filt_patches = []\n",
    "    get_nz = lambda plist: np.sum([len(np.nonzero(sl)[0]) for sl in plist])\n",
    "    sel_idx = []\n",
    "    \n",
    "    for i, patch in enumerate(patches):\n",
    "        percent = get_nz(patch.reshape((block_size, block_size**2))) / (block_size ** 3)\n",
    "        if percent >= pixel_percent:\n",
    "            filt_patches.append(patch)\n",
    "            sel_idx.append(i)\n",
    "    return np.array(filt_patches), np.array(sel_idx)\n",
    "\n",
    "def conv_block(input, filters, strides=2):\n",
    "    d_out = Conv3D(filters=filters, kernel_size=3, strides=strides, padding='same')(input)\n",
    "    d_out = ReLU()(d_out)\n",
    "    return d_out"
   ]
  },
  {
   "cell_type": "code",
   "execution_count": 161,
   "metadata": {},
   "outputs": [],
   "source": [
    "fpath_h5 = '/home/srivathsa/projects/studies/gad/stanford/preprocess/data/Patient_0101.h5'\n",
    "study_data = suio.load_h5_file(fpath_h5)"
   ]
  },
  {
   "cell_type": "code",
   "execution_count": 241,
   "metadata": {},
   "outputs": [],
   "source": [
    "ims_zero, ims_low, ims_full = study_data.transpose(1, 0, 2, 3)\n",
    "\n",
    "zero_patches, good_idx = filter_patches(get_patches(ims_zero))\n",
    "low_patches = get_patches(ims_low)[good_idx]"
   ]
  },
  {
   "cell_type": "code",
   "execution_count": 242,
   "metadata": {
    "scrolled": false
   },
   "outputs": [
    {
     "name": "stdout",
     "output_type": "stream",
     "text": [
      "_________________________________________________________________\n",
      "Layer (type)                 Output Shape              Param #   \n",
      "=================================================================\n",
      "input_8 (InputLayer)         (None, 64, 64, 64, 2)     0         \n",
      "_________________________________________________________________\n",
      "conv3d_22 (Conv3D)           (None, 32, 32, 32, 32)    1760      \n",
      "_________________________________________________________________\n",
      "re_lu_22 (ReLU)              (None, 32, 32, 32, 32)    0         \n",
      "_________________________________________________________________\n",
      "conv3d_23 (Conv3D)           (None, 16, 16, 16, 64)    55360     \n",
      "_________________________________________________________________\n",
      "re_lu_23 (ReLU)              (None, 16, 16, 16, 64)    0         \n",
      "_________________________________________________________________\n",
      "conv3d_24 (Conv3D)           (None, 8, 8, 8, 128)      221312    \n",
      "_________________________________________________________________\n",
      "re_lu_24 (ReLU)              (None, 8, 8, 8, 128)      0         \n",
      "_________________________________________________________________\n",
      "conv3d_25 (Conv3D)           (None, 8, 8, 8, 1)        3457      \n",
      "_________________________________________________________________\n",
      "re_lu_25 (ReLU)              (None, 8, 8, 8, 1)        0         \n",
      "_________________________________________________________________\n",
      "activation_4 (Activation)    (None, 8, 8, 8, 1)        0         \n",
      "=================================================================\n",
      "Total params: 281,889\n",
      "Trainable params: 281,889\n",
      "Non-trainable params: 0\n",
      "_________________________________________________________________\n"
     ]
    }
   ],
   "source": [
    "input = Input(shape=(64, 64, 64, 2))\n",
    "\n",
    "d_out = conv_block(input, 32)\n",
    "d_out = conv_block(d_out, 64)\n",
    "d_out = conv_block(d_out, 128)\n",
    "\n",
    "output = conv_block(d_out, 1, strides=1)\n",
    "output = Activation('sigmoid')(output)\n",
    "\n",
    "model = keras.models.Model(inputs=input, outputs=output)\n",
    "model.summary()\n",
    "\n",
    "model.compile(loss='mse', optimizer=Adam())"
   ]
  },
  {
   "cell_type": "code",
   "execution_count": 243,
   "metadata": {},
   "outputs": [],
   "source": [
    "inp_patches = np.array([zero_patches, low_patches]).transpose((1, 2, 3, 4, 0))\n",
    "out_patches = np.ones((inp_patches.shape[0], 8, 8, 8, 1))"
   ]
  },
  {
   "cell_type": "code",
   "execution_count": 244,
   "metadata": {},
   "outputs": [
    {
     "name": "stdout",
     "output_type": "stream",
     "text": [
      "Epoch 1/2\n",
      "194/194 [==============================] - 2s 8ms/step - loss: 0.0333\n",
      "Epoch 2/2\n",
      "194/194 [==============================] - 1s 5ms/step - loss: 7.3111e-11\n"
     ]
    },
    {
     "data": {
      "text/plain": [
       "<keras.callbacks.History at 0x7fe39f415240>"
      ]
     },
     "execution_count": 244,
     "metadata": {},
     "output_type": "execute_result"
    }
   ],
   "source": [
    "model.fit(inp_patches, out_patches, batch_size=16, epochs=2)"
   ]
  },
  {
   "cell_type": "code",
   "execution_count": null,
   "metadata": {},
   "outputs": [],
   "source": []
  }
 ],
 "metadata": {
  "kernelspec": {
   "display_name": "Python (py35gad)",
   "language": "python",
   "name": "py35gad"
  },
  "language_info": {
   "codemirror_mode": {
    "name": "ipython",
    "version": 3
   },
   "file_extension": ".py",
   "mimetype": "text/x-python",
   "name": "python",
   "nbconvert_exporter": "python",
   "pygments_lexer": "ipython3",
   "version": "3.5.6"
  }
 },
 "nbformat": 4,
 "nbformat_minor": 2
}
