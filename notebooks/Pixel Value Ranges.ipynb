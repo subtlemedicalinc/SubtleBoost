{
 "cells": [
  {
   "cell_type": "markdown",
   "metadata": {},
   "source": [
    "Notebook to compile and compare pixel value ranges of different manufacturers"
   ]
  },
  {
   "cell_type": "code",
   "execution_count": 57,
   "metadata": {},
   "outputs": [],
   "source": [
    "import numpy as np\n",
    "import h5py\n",
    "import pandas as pd\n",
    "from glob import glob\n",
    "from tqdm import tqdm_notebook as tqdm\n",
    "\n",
    "def pixel_metrics(fpath_h5):\n",
    "    key = 'data_mask' if 'stanford' in fpath_h5 else 'data'\n",
    "    scan_volume = np.array(h5py.File(fpath_h5)[key])\n",
    "    contrasts = ['zero', 'low', 'full']\n",
    "    metrics = {}\n",
    "    for i, cont in enumerate(contrasts):\n",
    "        metrics[cont] = (\n",
    "            scan_volume[:, i, ...].max(),\n",
    "            scan_volume[:, i, ...].mean()\n",
    "        )\n",
    "    \n",
    "    return metrics\n",
    "\n",
    "def compile_metrics(h5_base):\n",
    "    print('Processing dir {}'.format(h5_base))\n",
    "    metrics = []\n",
    "    h5_files = [fpath_h5 for fpath_h5 in glob('{}/*.h5'.format(h5_base))]\n",
    "        \n",
    "    for fpath_h5 in tqdm(h5_files, total=len(h5_files)):\n",
    "        metrics.append(pixel_metrics(fpath_h5))\n",
    "    \n",
    "    get_metric = lambda cont, m: [d[cont][m] for d in metrics]\n",
    "    \n",
    "    return {\n",
    "        'Zero max': np.mean(get_metric('zero', 0)),\n",
    "        'Zero mean': np.mean(get_metric('zero', 1)),\n",
    "        'Low max': np.mean(get_metric('low', 0)),\n",
    "        'Low mean': np.mean(get_metric('low', 1)),\n",
    "        'Full max': np.mean(get_metric('full', 0)),\n",
    "        'Full mean': np.mean(get_metric('full', 1))\n",
    "    }"
   ]
  },
  {
   "cell_type": "code",
   "execution_count": 58,
   "metadata": {},
   "outputs": [
    {
     "name": "stdout",
     "output_type": "stream",
     "text": [
      "Processing dir /home/srivathsa/projects/studies/gad/tiantan_pp/data\n"
     ]
    },
    {
     "data": {
      "application/vnd.jupyter.widget-view+json": {
       "model_id": "4717279792654661994ff89af87ecdfc",
       "version_major": 2,
       "version_minor": 0
      },
      "text/plain": [
       "HBox(children=(IntProgress(value=0, max=10), HTML(value='')))"
      ]
     },
     "metadata": {},
     "output_type": "display_data"
    },
    {
     "name": "stdout",
     "output_type": "stream",
     "text": [
      "\n",
      "Processing dir /home/srivathsa/projects/studies/gad/hoag/preprocess/data\n"
     ]
    },
    {
     "data": {
      "application/vnd.jupyter.widget-view+json": {
       "model_id": "838a5a464cd6410fadc17f92e22a2141",
       "version_major": 2,
       "version_minor": 0
      },
      "text/plain": [
       "HBox(children=(IntProgress(value=0, max=28), HTML(value='')))"
      ]
     },
     "metadata": {},
     "output_type": "display_data"
    },
    {
     "name": "stdout",
     "output_type": "stream",
     "text": [
      "\n",
      "Processing dir /home/srivathsa/projects/studies/gad/stanford/preprocess/data\n"
     ]
    },
    {
     "data": {
      "application/vnd.jupyter.widget-view+json": {
       "model_id": "59e2f89ac07c4eb183de6698b904ba8b",
       "version_major": 2,
       "version_minor": 0
      },
      "text/plain": [
       "HBox(children=(IntProgress(value=0, max=37), HTML(value='')))"
      ]
     },
     "metadata": {},
     "output_type": "display_data"
    },
    {
     "name": "stdout",
     "output_type": "stream",
     "text": [
      "\n"
     ]
    }
   ],
   "source": [
    "metrics = {\n",
    "    'Tiantan (PHILIPS)': compile_metrics('/home/srivathsa/projects/studies/gad/tiantan_pp/data'),\n",
    "    'Hoag (SIEMENS)': compile_metrics('/home/srivathsa/projects/studies/gad/hoag/preprocess/data'),\n",
    "    'Stanford (GE)': compile_metrics('/home/srivathsa/projects/studies/gad/stanford/preprocess/data')\n",
    "}"
   ]
  },
  {
   "cell_type": "code",
   "execution_count": 59,
   "metadata": {},
   "outputs": [
    {
     "data": {
      "text/html": [
       "<div>\n",
       "<style scoped>\n",
       "    .dataframe tbody tr th:only-of-type {\n",
       "        vertical-align: middle;\n",
       "    }\n",
       "\n",
       "    .dataframe tbody tr th {\n",
       "        vertical-align: top;\n",
       "    }\n",
       "\n",
       "    .dataframe thead th {\n",
       "        text-align: right;\n",
       "    }\n",
       "</style>\n",
       "<table border=\"1\" class=\"dataframe\">\n",
       "  <thead>\n",
       "    <tr style=\"text-align: right;\">\n",
       "      <th></th>\n",
       "      <th>Hoag (SIEMENS)</th>\n",
       "      <th>Stanford (GE)</th>\n",
       "      <th>Tiantan (PHILIPS)</th>\n",
       "    </tr>\n",
       "  </thead>\n",
       "  <tbody>\n",
       "    <tr>\n",
       "      <th>Full max</th>\n",
       "      <td>7.046328</td>\n",
       "      <td>4.753646</td>\n",
       "      <td>4.003297</td>\n",
       "    </tr>\n",
       "    <tr>\n",
       "      <th>Full mean</th>\n",
       "      <td>0.462270</td>\n",
       "      <td>0.186852</td>\n",
       "      <td>0.388875</td>\n",
       "    </tr>\n",
       "    <tr>\n",
       "      <th>Low max</th>\n",
       "      <td>6.014610</td>\n",
       "      <td>3.643961</td>\n",
       "      <td>4.181260</td>\n",
       "    </tr>\n",
       "    <tr>\n",
       "      <th>Low mean</th>\n",
       "      <td>0.350360</td>\n",
       "      <td>0.216201</td>\n",
       "      <td>0.402843</td>\n",
       "    </tr>\n",
       "    <tr>\n",
       "      <th>Zero max</th>\n",
       "      <td>6.181987</td>\n",
       "      <td>3.657233</td>\n",
       "      <td>4.354970</td>\n",
       "    </tr>\n",
       "    <tr>\n",
       "      <th>Zero mean</th>\n",
       "      <td>0.516113</td>\n",
       "      <td>0.219489</td>\n",
       "      <td>0.414779</td>\n",
       "    </tr>\n",
       "  </tbody>\n",
       "</table>\n",
       "</div>"
      ],
      "text/plain": [
       "           Hoag (SIEMENS)  Stanford (GE)  Tiantan (PHILIPS)\n",
       "Full max         7.046328       4.753646           4.003297\n",
       "Full mean        0.462270       0.186852           0.388875\n",
       "Low max          6.014610       3.643961           4.181260\n",
       "Low mean         0.350360       0.216201           0.402843\n",
       "Zero max         6.181987       3.657233           4.354970\n",
       "Zero mean        0.516113       0.219489           0.414779"
      ]
     },
     "execution_count": 59,
     "metadata": {},
     "output_type": "execute_result"
    }
   ],
   "source": [
    "df_metrics = pd.DataFrame(metrics)\n",
    "df_metrics"
   ]
  },
  {
   "cell_type": "code",
   "execution_count": null,
   "metadata": {},
   "outputs": [],
   "source": []
  }
 ],
 "metadata": {
  "kernelspec": {
   "display_name": "Python (py35gad)",
   "language": "python",
   "name": "py35gad"
  },
  "language_info": {
   "codemirror_mode": {
    "name": "ipython",
    "version": 3
   },
   "file_extension": ".py",
   "mimetype": "text/x-python",
   "name": "python",
   "nbconvert_exporter": "python",
   "pygments_lexer": "ipython3",
   "version": "3.5.6"
  }
 },
 "nbformat": 4,
 "nbformat_minor": 2
}
